{
 "cells": [
  {
   "cell_type": "markdown",
   "metadata": {},
   "source": [
    "## TODO:\n",
    "\n",
    "- Change to not pick a single reference isoform\n",
    "\n",
    "\n",
    "- Need another metric as well as pct ID to take into account gaps:\n",
    "    - gaps in domain alignment \n",
    "    "
   ]
  },
  {
   "cell_type": "code",
   "execution_count": 25,
   "metadata": {},
   "outputs": [],
   "source": [
    "from matplotlib import pyplot as plt\n",
    "import pandas as pd\n",
    "from Bio import Align\n",
    "\n",
    "from data_loading import load_valid_isoform_clones, load_annotated_6k_collection"
   ]
  },
  {
   "cell_type": "code",
   "execution_count": 6,
   "metadata": {},
   "outputs": [],
   "source": [
    "tfs = load_annotated_6k_collection()"
   ]
  },
  {
   "cell_type": "code",
   "execution_count": 9,
   "metadata": {},
   "outputs": [
    {
     "output_type": "execute_result",
     "data": {
      "text/plain": "Activation                177\nRepression                 85\nPredicted repression       81\nDNA binding inhibition      5\nRegulatory                  2\nName: type, dtype: int64"
     },
     "metadata": {},
     "execution_count": 9
    }
   ],
   "source": [
    "doms = pd.read_excel('../../data/internal/TF_reg_domain_2019-08-13.xlsx',\n",
    "                   sheet_name='Sheet1')\n",
    "doms = (doms.loc[:, ['symbol', 'Domain type', 'Domain sequence', 'aa position']]\n",
    "        .rename(columns={'symbol': 'hgnc_gene_symbol',\n",
    "                         'Domain type': 'type',\n",
    "                         'Domain sequence': 'aa_seq',\n",
    "                         'aa position': 'pos'}))\n",
    "doms = doms.dropna()\n",
    "doms['aa_seq'] = doms['aa_seq'].str.replace(' ', '')\n",
    "if doms['hgnc_gene_symbol'].isnull().any():\n",
    "    raise UserWarning('Missing gene name')\n",
    "# removed because NANOG no loger in there\n",
    "#if not doms['hgnc_gene_symbol'].isin(tfs).all():\n",
    "#    raise UserWarning('incorrect gene name', doms.loc[~doms['hgnc_gene_symbol'].isin(tfs),\n",
    "#'hgnc_gene_symbol'])\n",
    "renaming_dom_type = {'Repression (dimerization)': 'Repression',\n",
    "                     'Activation/Repression': 'Regulatory',\n",
    "                     'Regulatory domain': 'Regulatory'}\n",
    "doms['type'] = doms['type'].map(lambda x: renaming_dom_type.get(x, x))\n",
    "doms['reg_dom_id'] = (doms['hgnc_gene_symbol'] + \n",
    "                      '_' + \n",
    "                      (doms.groupby('hgnc_gene_symbol').cumcount() + 1).astype(str))\n",
    "if doms['reg_dom_id'].duplicated().any():\n",
    "    raise UserWarning('something went wrong')\n",
    "doms = doms.set_index('reg_dom_id')\n",
    "\n",
    "doms['type'].value_counts()"
   ]
  },
  {
   "cell_type": "code",
   "execution_count": 10,
   "metadata": {},
   "outputs": [],
   "source": [
    "iso = load_valid_isoform_clones()"
   ]
  },
  {
   "cell_type": "code",
   "execution_count": 5,
   "metadata": {},
   "outputs": [],
   "source": [
    "# What should the output look like?\n",
    "\n",
    "# Two tables: \n",
    "#   1. remapped domains to all isoform which is good match, containing start / end\n",
    "#   2. one row for each domain and each isoform with how much of domain is in there"
   ]
  },
  {
   "cell_type": "code",
   "execution_count": 11,
   "metadata": {},
   "outputs": [
    {
     "output_type": "execute_result",
     "data": {
      "text/plain": "           hgnc_gene_symbol        type  \\\nreg_dom_id                                \nCREB3L3_1           CREB3L3  Activation   \nELK3_1                 ELK3  Activation   \nELK3_2                 ELK3  Repression   \nFOXO3_1               FOXO3  Activation   \nGATA1_1               GATA1  Activation   \n\n                                                       aa_seq  \\\nreg_dom_id                                                      \nCREB3L3_1   MNTDLAAGKMASAACSMDPIDSFELLDLLFDRQDGILRHVELGEGW...   \nELK3_1      SLTPAFFTAQTPNGLLLTPSPLLSSIHFWSSLSPVAPLSPARLQGP...   \nELK3_2                  NPPDAFKAIKTEKLEEPPEDSPPVEEVRTVIRFVTNK   \nFOXO3_1     NLNDGLTENLMDDLLDNITLPPSQPSPTGGLMQRSSSFPYTTKGSG...   \nGATA1_1     MEFPGLGSLGTSEPLPQFVDPALVSSTPESGVFFPSGPEGLDAAAS...   \n\n                           pos  \nreg_dom_id                      \nCREB3L3_1     1-149 (Q68CJ9-1)  \nELK3_1      325-407 (P41970-1)  \nELK3_2      153-189 (P41970-1)  \nFOXO3_1     377-673 (O43524-1)  \nGATA1_1        1-83 (P15976-1)  ",
      "text/html": "<div>\n<style scoped>\n    .dataframe tbody tr th:only-of-type {\n        vertical-align: middle;\n    }\n\n    .dataframe tbody tr th {\n        vertical-align: top;\n    }\n\n    .dataframe thead th {\n        text-align: right;\n    }\n</style>\n<table border=\"1\" class=\"dataframe\">\n  <thead>\n    <tr style=\"text-align: right;\">\n      <th></th>\n      <th>hgnc_gene_symbol</th>\n      <th>type</th>\n      <th>aa_seq</th>\n      <th>pos</th>\n    </tr>\n    <tr>\n      <th>reg_dom_id</th>\n      <th></th>\n      <th></th>\n      <th></th>\n      <th></th>\n    </tr>\n  </thead>\n  <tbody>\n    <tr>\n      <th>CREB3L3_1</th>\n      <td>CREB3L3</td>\n      <td>Activation</td>\n      <td>MNTDLAAGKMASAACSMDPIDSFELLDLLFDRQDGILRHVELGEGW...</td>\n      <td>1-149 (Q68CJ9-1)</td>\n    </tr>\n    <tr>\n      <th>ELK3_1</th>\n      <td>ELK3</td>\n      <td>Activation</td>\n      <td>SLTPAFFTAQTPNGLLLTPSPLLSSIHFWSSLSPVAPLSPARLQGP...</td>\n      <td>325-407 (P41970-1)</td>\n    </tr>\n    <tr>\n      <th>ELK3_2</th>\n      <td>ELK3</td>\n      <td>Repression</td>\n      <td>NPPDAFKAIKTEKLEEPPEDSPPVEEVRTVIRFVTNK</td>\n      <td>153-189 (P41970-1)</td>\n    </tr>\n    <tr>\n      <th>FOXO3_1</th>\n      <td>FOXO3</td>\n      <td>Activation</td>\n      <td>NLNDGLTENLMDDLLDNITLPPSQPSPTGGLMQRSSSFPYTTKGSG...</td>\n      <td>377-673 (O43524-1)</td>\n    </tr>\n    <tr>\n      <th>GATA1_1</th>\n      <td>GATA1</td>\n      <td>Activation</td>\n      <td>MEFPGLGSLGTSEPLPQFVDPALVSSTPESGVFFPSGPEGLDAAAS...</td>\n      <td>1-83 (P15976-1)</td>\n    </tr>\n  </tbody>\n</table>\n</div>"
     },
     "metadata": {},
     "execution_count": 11
    }
   ],
   "source": [
    "doms.head()"
   ]
  },
  {
   "cell_type": "code",
   "execution_count": 12,
   "metadata": {},
   "outputs": [],
   "source": [
    "def num_aa_id(algn):\n",
    "    a = [algn.target[i] for start, stop in algn.aligned[0] for i in range(start, stop)]\n",
    "    b = [algn.query[i] for start, stop in algn.aligned[1] for i in range(start, stop)]\n",
    "    if len(a) != len(b):\n",
    "        raise UserWarning('Something went wrong')\n",
    "    return sum(l_a == l_b for l_a, l_b in zip(a, b))\n",
    "\n",
    "\n",
    "aligner = Align.PairwiseAligner()\n",
    "aligner.mode = 'local'\n",
    "aligner.open_gap_score = -1\n",
    "aligner.extend_gap_score = -1\n",
    "aligner.target_end_gap_score = 0.0\n",
    "aligner.query_end_gap_score = 0.0\n",
    "\n",
    "\n",
    "remapped = []\n",
    "domain_aligments = {}\n",
    "PCT_ID_CUTOFF = 95\n",
    "for i, domain in doms.iterrows():\n",
    "    is_gene_match = (iso['gene'] == domain['hgnc_gene_symbol'])\n",
    "    is_perfect_match = is_gene_match & iso['aa_seq'].str.contains(domain['aa_seq'])\n",
    "    if is_perfect_match.any():\n",
    "        for __i_iso, row in iso.loc[is_perfect_match, :].iterrows():\n",
    "            start = row['aa_seq'].index(domain['aa_seq']) + 1\n",
    "            remapped.append((domain.name,\n",
    "                                     row['gene'],\n",
    "                                     row['clone_acc'],\n",
    "                                     start,\n",
    "                                     start + (len(domain['aa_seq']) - 1),\n",
    "                                     100,\n",
    "                                     0))\n",
    "    else:\n",
    "        for __i_iso, row in iso.loc[is_gene_match, :].iterrows():\n",
    "            alignment = aligner.align(row['aa_seq'], domain['aa_seq'])[0]\n",
    "            pct_id = 100 * (num_aa_id(alignment) / len(domain['aa_seq']))\n",
    "            if pct_id >= PCT_ID_CUTOFF:\n",
    "                domain_aligments[(row['clone_acc'], domain.name)]  = alignment\n",
    "                n_gaps = alignment.__str__().split()[0].count('-')\n",
    "                start = alignment.aligned[0][0][0] + 1\n",
    "                stop = alignment.aligned[0][-1][1]\n",
    "                remapped.append((domain.name,\n",
    "                                         domain['hgnc_gene_symbol'],\n",
    "                                         row['clone_acc'],\n",
    "                                         start,\n",
    "                                         stop,\n",
    "                                         pct_id,\n",
    "                                         n_gaps))\n",
    "remapped = pd.DataFrame(remapped, columns=['reg_dom_id',\n",
    "                                                           'gene', \n",
    "                                                           'clone_acc', \n",
    "                                                           'start', \n",
    "                                                           'end', \n",
    "                                                           'pct_match',\n",
    "                                                           'n_gaps_in_iso_align'])"
   ]
  },
  {
   "cell_type": "code",
   "execution_count": 13,
   "metadata": {},
   "outputs": [
    {
     "output_type": "execute_result",
     "data": {
      "text/plain": "    reg_dom_id     gene          clone_acc  start  end   pct_match  \\\n358   ZNF415_1   ZNF415   ZNF415|4/4|06H04      6   45   95.238095   \n360   ZNF415_2   ZNF415   ZNF415|3/4|06A06      6   45   97.560976   \n359   ZNF415_2   ZNF415   ZNF415|2/4|06C05      6   45   97.560976   \n361   ZNF415_2   ZNF415   ZNF415|4/4|06H04      6   45   97.560976   \n41    ZNF317_2   ZNF317   ZNF317|1/2|09H11     57   96   97.560976   \n357   ZNF415_1   ZNF415   ZNF415|3/4|06A06      5   45   97.619048   \n356   ZNF415_1   ZNF415   ZNF415|2/4|06C05      5   45   97.619048   \n210   ZNF101_1   ZNF101   ZNF101|2/2|04B05      3   44   97.619048   \n7      MEF2A_1    MEF2A    MEF2A|1/2|12D08     86  499   98.104265   \n214    ZNF19_1    ZNF19    ZNF19|1/2|12D05     14   73   98.333333   \n46    ZNF607_1   ZNF607   ZNF607|1/2|04H08      7   66   98.360656   \n191     TP53_1     TP53     TP53|1/2|11G10      1   83   98.795181   \n167     RORA_1     RORA     RORA|2/2|05H06    217  329   99.122807   \n166     RORA_1     RORA     RORA|1/2|05G07    217  330   99.122807   \n0    CREB3L3_1  CREB3L3  CREB3L3|1/2|07C03      1  148   99.328859   \n344   ZNF174_1   ZNF174   ZNF174|1/3|02G04      1  314   99.681529   \n390     FLI1_2     FLI1     FLI1|4/4|05E02    177  259  100.000000   \n406     IRF5_1     IRF5     IRF5|4/5|07G06    370  449  100.000000   \n405     IRF5_1     IRF5     IRF5|3/5|07A06    376  455  100.000000   \n404     IRF5_1     IRF5     IRF5|2/5|07D05    384  463  100.000000   \n\n     n_gaps_in_iso_align  \n358                    0  \n360                    0  \n359                    0  \n361                    0  \n41                     0  \n357                    0  \n356                    0  \n210                    0  \n7                      8  \n214                    0  \n46                     1  \n191                    0  \n167                    1  \n166                    0  \n0                      1  \n344                    0  \n390                    0  \n406                    0  \n405                    0  \n404                    0  ",
      "text/html": "<div>\n<style scoped>\n    .dataframe tbody tr th:only-of-type {\n        vertical-align: middle;\n    }\n\n    .dataframe tbody tr th {\n        vertical-align: top;\n    }\n\n    .dataframe thead th {\n        text-align: right;\n    }\n</style>\n<table border=\"1\" class=\"dataframe\">\n  <thead>\n    <tr style=\"text-align: right;\">\n      <th></th>\n      <th>reg_dom_id</th>\n      <th>gene</th>\n      <th>clone_acc</th>\n      <th>start</th>\n      <th>end</th>\n      <th>pct_match</th>\n      <th>n_gaps_in_iso_align</th>\n    </tr>\n  </thead>\n  <tbody>\n    <tr>\n      <th>358</th>\n      <td>ZNF415_1</td>\n      <td>ZNF415</td>\n      <td>ZNF415|4/4|06H04</td>\n      <td>6</td>\n      <td>45</td>\n      <td>95.238095</td>\n      <td>0</td>\n    </tr>\n    <tr>\n      <th>360</th>\n      <td>ZNF415_2</td>\n      <td>ZNF415</td>\n      <td>ZNF415|3/4|06A06</td>\n      <td>6</td>\n      <td>45</td>\n      <td>97.560976</td>\n      <td>0</td>\n    </tr>\n    <tr>\n      <th>359</th>\n      <td>ZNF415_2</td>\n      <td>ZNF415</td>\n      <td>ZNF415|2/4|06C05</td>\n      <td>6</td>\n      <td>45</td>\n      <td>97.560976</td>\n      <td>0</td>\n    </tr>\n    <tr>\n      <th>361</th>\n      <td>ZNF415_2</td>\n      <td>ZNF415</td>\n      <td>ZNF415|4/4|06H04</td>\n      <td>6</td>\n      <td>45</td>\n      <td>97.560976</td>\n      <td>0</td>\n    </tr>\n    <tr>\n      <th>41</th>\n      <td>ZNF317_2</td>\n      <td>ZNF317</td>\n      <td>ZNF317|1/2|09H11</td>\n      <td>57</td>\n      <td>96</td>\n      <td>97.560976</td>\n      <td>0</td>\n    </tr>\n    <tr>\n      <th>357</th>\n      <td>ZNF415_1</td>\n      <td>ZNF415</td>\n      <td>ZNF415|3/4|06A06</td>\n      <td>5</td>\n      <td>45</td>\n      <td>97.619048</td>\n      <td>0</td>\n    </tr>\n    <tr>\n      <th>356</th>\n      <td>ZNF415_1</td>\n      <td>ZNF415</td>\n      <td>ZNF415|2/4|06C05</td>\n      <td>5</td>\n      <td>45</td>\n      <td>97.619048</td>\n      <td>0</td>\n    </tr>\n    <tr>\n      <th>210</th>\n      <td>ZNF101_1</td>\n      <td>ZNF101</td>\n      <td>ZNF101|2/2|04B05</td>\n      <td>3</td>\n      <td>44</td>\n      <td>97.619048</td>\n      <td>0</td>\n    </tr>\n    <tr>\n      <th>7</th>\n      <td>MEF2A_1</td>\n      <td>MEF2A</td>\n      <td>MEF2A|1/2|12D08</td>\n      <td>86</td>\n      <td>499</td>\n      <td>98.104265</td>\n      <td>8</td>\n    </tr>\n    <tr>\n      <th>214</th>\n      <td>ZNF19_1</td>\n      <td>ZNF19</td>\n      <td>ZNF19|1/2|12D05</td>\n      <td>14</td>\n      <td>73</td>\n      <td>98.333333</td>\n      <td>0</td>\n    </tr>\n    <tr>\n      <th>46</th>\n      <td>ZNF607_1</td>\n      <td>ZNF607</td>\n      <td>ZNF607|1/2|04H08</td>\n      <td>7</td>\n      <td>66</td>\n      <td>98.360656</td>\n      <td>1</td>\n    </tr>\n    <tr>\n      <th>191</th>\n      <td>TP53_1</td>\n      <td>TP53</td>\n      <td>TP53|1/2|11G10</td>\n      <td>1</td>\n      <td>83</td>\n      <td>98.795181</td>\n      <td>0</td>\n    </tr>\n    <tr>\n      <th>167</th>\n      <td>RORA_1</td>\n      <td>RORA</td>\n      <td>RORA|2/2|05H06</td>\n      <td>217</td>\n      <td>329</td>\n      <td>99.122807</td>\n      <td>1</td>\n    </tr>\n    <tr>\n      <th>166</th>\n      <td>RORA_1</td>\n      <td>RORA</td>\n      <td>RORA|1/2|05G07</td>\n      <td>217</td>\n      <td>330</td>\n      <td>99.122807</td>\n      <td>0</td>\n    </tr>\n    <tr>\n      <th>0</th>\n      <td>CREB3L3_1</td>\n      <td>CREB3L3</td>\n      <td>CREB3L3|1/2|07C03</td>\n      <td>1</td>\n      <td>148</td>\n      <td>99.328859</td>\n      <td>1</td>\n    </tr>\n    <tr>\n      <th>344</th>\n      <td>ZNF174_1</td>\n      <td>ZNF174</td>\n      <td>ZNF174|1/3|02G04</td>\n      <td>1</td>\n      <td>314</td>\n      <td>99.681529</td>\n      <td>0</td>\n    </tr>\n    <tr>\n      <th>390</th>\n      <td>FLI1_2</td>\n      <td>FLI1</td>\n      <td>FLI1|4/4|05E02</td>\n      <td>177</td>\n      <td>259</td>\n      <td>100.000000</td>\n      <td>0</td>\n    </tr>\n    <tr>\n      <th>406</th>\n      <td>IRF5_1</td>\n      <td>IRF5</td>\n      <td>IRF5|4/5|07G06</td>\n      <td>370</td>\n      <td>449</td>\n      <td>100.000000</td>\n      <td>0</td>\n    </tr>\n    <tr>\n      <th>405</th>\n      <td>IRF5_1</td>\n      <td>IRF5</td>\n      <td>IRF5|3/5|07A06</td>\n      <td>376</td>\n      <td>455</td>\n      <td>100.000000</td>\n      <td>0</td>\n    </tr>\n    <tr>\n      <th>404</th>\n      <td>IRF5_1</td>\n      <td>IRF5</td>\n      <td>IRF5|2/5|07D05</td>\n      <td>384</td>\n      <td>463</td>\n      <td>100.000000</td>\n      <td>0</td>\n    </tr>\n  </tbody>\n</table>\n</div>"
     },
     "metadata": {},
     "execution_count": 13
    }
   ],
   "source": [
    "remapped.sort_values('pct_match').head(20)"
   ]
  },
  {
   "cell_type": "code",
   "execution_count": 14,
   "metadata": {},
   "outputs": [
    {
     "output_type": "execute_result",
     "data": {
      "text/plain": "    reg_dom_id     gene          clone_acc  start  end   pct_match  \\\n7      MEF2A_1    MEF2A    MEF2A|1/2|12D08     86  499   98.104265   \n0    CREB3L3_1  CREB3L3  CREB3L3|1/2|07C03      1  148   99.328859   \n167     RORA_1     RORA     RORA|2/2|05H06    217  329   99.122807   \n46    ZNF607_1   ZNF607   ZNF607|1/2|04H08      7   66   98.360656   \n400    HNF4A_3    HNF4A    HNF4A|2/6|10H07    333  347  100.000000   \n394    GATA2_2    GATA2    GATA2|3/4|12A02    396  466  100.000000   \n395    HNF4A_1    HNF4A    HNF4A|1/6|10D08      1   50  100.000000   \n396    HNF4A_1    HNF4A    HNF4A|4/6|10A10      1   50  100.000000   \n397    HNF4A_2    HNF4A    HNF4A|1/6|10D08    368  474  100.000000   \n398    HNF4A_2    HNF4A    HNF4A|2/6|10H07    346  452  100.000000   \n399    HNF4A_3    HNF4A    HNF4A|1/6|10D08    355  369  100.000000   \n401    HNF4A_3    HNF4A    HNF4A|3/6|10C08    333  347  100.000000   \n392    GATA2_1    GATA2    GATA2|3/4|12A02      1   70  100.000000   \n402    HNF4A_3    HNF4A    HNF4A|4/6|10A10    355  369  100.000000   \n403     IRF5_1     IRF5     IRF5|1/5|07C09    386  465  100.000000   \n404     IRF5_1     IRF5     IRF5|2/5|07D05    384  463  100.000000   \n405     IRF5_1     IRF5     IRF5|3/5|07A06    376  455  100.000000   \n406     IRF5_1     IRF5     IRF5|4/5|07G06    370  449  100.000000   \n407     IRF5_2     IRF5     IRF5|1/5|07C09    465  514  100.000000   \n393    GATA2_2    GATA2    GATA2|2/4|12D02    410  480  100.000000   \n\n     n_gaps_in_iso_align  \n7                      8  \n0                      1  \n167                    1  \n46                     1  \n400                    0  \n394                    0  \n395                    0  \n396                    0  \n397                    0  \n398                    0  \n399                    0  \n401                    0  \n392                    0  \n402                    0  \n403                    0  \n404                    0  \n405                    0  \n406                    0  \n407                    0  \n393                    0  ",
      "text/html": "<div>\n<style scoped>\n    .dataframe tbody tr th:only-of-type {\n        vertical-align: middle;\n    }\n\n    .dataframe tbody tr th {\n        vertical-align: top;\n    }\n\n    .dataframe thead th {\n        text-align: right;\n    }\n</style>\n<table border=\"1\" class=\"dataframe\">\n  <thead>\n    <tr style=\"text-align: right;\">\n      <th></th>\n      <th>reg_dom_id</th>\n      <th>gene</th>\n      <th>clone_acc</th>\n      <th>start</th>\n      <th>end</th>\n      <th>pct_match</th>\n      <th>n_gaps_in_iso_align</th>\n    </tr>\n  </thead>\n  <tbody>\n    <tr>\n      <th>7</th>\n      <td>MEF2A_1</td>\n      <td>MEF2A</td>\n      <td>MEF2A|1/2|12D08</td>\n      <td>86</td>\n      <td>499</td>\n      <td>98.104265</td>\n      <td>8</td>\n    </tr>\n    <tr>\n      <th>0</th>\n      <td>CREB3L3_1</td>\n      <td>CREB3L3</td>\n      <td>CREB3L3|1/2|07C03</td>\n      <td>1</td>\n      <td>148</td>\n      <td>99.328859</td>\n      <td>1</td>\n    </tr>\n    <tr>\n      <th>167</th>\n      <td>RORA_1</td>\n      <td>RORA</td>\n      <td>RORA|2/2|05H06</td>\n      <td>217</td>\n      <td>329</td>\n      <td>99.122807</td>\n      <td>1</td>\n    </tr>\n    <tr>\n      <th>46</th>\n      <td>ZNF607_1</td>\n      <td>ZNF607</td>\n      <td>ZNF607|1/2|04H08</td>\n      <td>7</td>\n      <td>66</td>\n      <td>98.360656</td>\n      <td>1</td>\n    </tr>\n    <tr>\n      <th>400</th>\n      <td>HNF4A_3</td>\n      <td>HNF4A</td>\n      <td>HNF4A|2/6|10H07</td>\n      <td>333</td>\n      <td>347</td>\n      <td>100.000000</td>\n      <td>0</td>\n    </tr>\n    <tr>\n      <th>394</th>\n      <td>GATA2_2</td>\n      <td>GATA2</td>\n      <td>GATA2|3/4|12A02</td>\n      <td>396</td>\n      <td>466</td>\n      <td>100.000000</td>\n      <td>0</td>\n    </tr>\n    <tr>\n      <th>395</th>\n      <td>HNF4A_1</td>\n      <td>HNF4A</td>\n      <td>HNF4A|1/6|10D08</td>\n      <td>1</td>\n      <td>50</td>\n      <td>100.000000</td>\n      <td>0</td>\n    </tr>\n    <tr>\n      <th>396</th>\n      <td>HNF4A_1</td>\n      <td>HNF4A</td>\n      <td>HNF4A|4/6|10A10</td>\n      <td>1</td>\n      <td>50</td>\n      <td>100.000000</td>\n      <td>0</td>\n    </tr>\n    <tr>\n      <th>397</th>\n      <td>HNF4A_2</td>\n      <td>HNF4A</td>\n      <td>HNF4A|1/6|10D08</td>\n      <td>368</td>\n      <td>474</td>\n      <td>100.000000</td>\n      <td>0</td>\n    </tr>\n    <tr>\n      <th>398</th>\n      <td>HNF4A_2</td>\n      <td>HNF4A</td>\n      <td>HNF4A|2/6|10H07</td>\n      <td>346</td>\n      <td>452</td>\n      <td>100.000000</td>\n      <td>0</td>\n    </tr>\n    <tr>\n      <th>399</th>\n      <td>HNF4A_3</td>\n      <td>HNF4A</td>\n      <td>HNF4A|1/6|10D08</td>\n      <td>355</td>\n      <td>369</td>\n      <td>100.000000</td>\n      <td>0</td>\n    </tr>\n    <tr>\n      <th>401</th>\n      <td>HNF4A_3</td>\n      <td>HNF4A</td>\n      <td>HNF4A|3/6|10C08</td>\n      <td>333</td>\n      <td>347</td>\n      <td>100.000000</td>\n      <td>0</td>\n    </tr>\n    <tr>\n      <th>392</th>\n      <td>GATA2_1</td>\n      <td>GATA2</td>\n      <td>GATA2|3/4|12A02</td>\n      <td>1</td>\n      <td>70</td>\n      <td>100.000000</td>\n      <td>0</td>\n    </tr>\n    <tr>\n      <th>402</th>\n      <td>HNF4A_3</td>\n      <td>HNF4A</td>\n      <td>HNF4A|4/6|10A10</td>\n      <td>355</td>\n      <td>369</td>\n      <td>100.000000</td>\n      <td>0</td>\n    </tr>\n    <tr>\n      <th>403</th>\n      <td>IRF5_1</td>\n      <td>IRF5</td>\n      <td>IRF5|1/5|07C09</td>\n      <td>386</td>\n      <td>465</td>\n      <td>100.000000</td>\n      <td>0</td>\n    </tr>\n    <tr>\n      <th>404</th>\n      <td>IRF5_1</td>\n      <td>IRF5</td>\n      <td>IRF5|2/5|07D05</td>\n      <td>384</td>\n      <td>463</td>\n      <td>100.000000</td>\n      <td>0</td>\n    </tr>\n    <tr>\n      <th>405</th>\n      <td>IRF5_1</td>\n      <td>IRF5</td>\n      <td>IRF5|3/5|07A06</td>\n      <td>376</td>\n      <td>455</td>\n      <td>100.000000</td>\n      <td>0</td>\n    </tr>\n    <tr>\n      <th>406</th>\n      <td>IRF5_1</td>\n      <td>IRF5</td>\n      <td>IRF5|4/5|07G06</td>\n      <td>370</td>\n      <td>449</td>\n      <td>100.000000</td>\n      <td>0</td>\n    </tr>\n    <tr>\n      <th>407</th>\n      <td>IRF5_2</td>\n      <td>IRF5</td>\n      <td>IRF5|1/5|07C09</td>\n      <td>465</td>\n      <td>514</td>\n      <td>100.000000</td>\n      <td>0</td>\n    </tr>\n    <tr>\n      <th>393</th>\n      <td>GATA2_2</td>\n      <td>GATA2</td>\n      <td>GATA2|2/4|12D02</td>\n      <td>410</td>\n      <td>480</td>\n      <td>100.000000</td>\n      <td>0</td>\n    </tr>\n  </tbody>\n</table>\n</div>"
     },
     "metadata": {},
     "execution_count": 14
    }
   ],
   "source": [
    "remapped.sort_values('n_gaps_in_iso_align', ascending=False).head(20)"
   ]
  },
  {
   "cell_type": "code",
   "execution_count": 15,
   "metadata": {},
   "outputs": [
    {
     "output_type": "execute_result",
     "data": {
      "text/plain": "(309, 320, 350)"
     },
     "metadata": {},
     "execution_count": 15
    }
   ],
   "source": [
    "(remapped.loc[remapped['pct_match'] == 100, 'reg_dom_id'].nunique(), \n",
    " remapped.loc[remapped['pct_match'] >= 95, 'reg_dom_id'].nunique(),\n",
    " doms.shape[0])"
   ]
  },
  {
   "cell_type": "code",
   "execution_count": 16,
   "metadata": {},
   "outputs": [
    {
     "output_type": "execute_result",
     "data": {
      "text/plain": "    reg_dom_id    gene         clone_acc  start  end  pct_match  \\\n7      MEF2A_1   MEF2A   MEF2A|1/2|12D08     86  499  98.104265   \n358   ZNF415_1  ZNF415  ZNF415|4/4|06H04      6   45  95.238095   \n361   ZNF415_2  ZNF415  ZNF415|4/4|06H04      6   45  97.560976   \n46    ZNF607_1  ZNF607  ZNF607|1/2|04H08      7   66  98.360656   \n356   ZNF415_1  ZNF415  ZNF415|2/4|06C05      5   45  97.619048   \n\n     n_gaps_in_iso_align  new_length  old_length  length_diff  \n7                      8         414         422            8  \n358                    0          40          42            2  \n361                    0          40          41            1  \n46                     1          60          61            1  \n356                    0          41          42            1  ",
      "text/html": "<div>\n<style scoped>\n    .dataframe tbody tr th:only-of-type {\n        vertical-align: middle;\n    }\n\n    .dataframe tbody tr th {\n        vertical-align: top;\n    }\n\n    .dataframe thead th {\n        text-align: right;\n    }\n</style>\n<table border=\"1\" class=\"dataframe\">\n  <thead>\n    <tr style=\"text-align: right;\">\n      <th></th>\n      <th>reg_dom_id</th>\n      <th>gene</th>\n      <th>clone_acc</th>\n      <th>start</th>\n      <th>end</th>\n      <th>pct_match</th>\n      <th>n_gaps_in_iso_align</th>\n      <th>new_length</th>\n      <th>old_length</th>\n      <th>length_diff</th>\n    </tr>\n  </thead>\n  <tbody>\n    <tr>\n      <th>7</th>\n      <td>MEF2A_1</td>\n      <td>MEF2A</td>\n      <td>MEF2A|1/2|12D08</td>\n      <td>86</td>\n      <td>499</td>\n      <td>98.104265</td>\n      <td>8</td>\n      <td>414</td>\n      <td>422</td>\n      <td>8</td>\n    </tr>\n    <tr>\n      <th>358</th>\n      <td>ZNF415_1</td>\n      <td>ZNF415</td>\n      <td>ZNF415|4/4|06H04</td>\n      <td>6</td>\n      <td>45</td>\n      <td>95.238095</td>\n      <td>0</td>\n      <td>40</td>\n      <td>42</td>\n      <td>2</td>\n    </tr>\n    <tr>\n      <th>361</th>\n      <td>ZNF415_2</td>\n      <td>ZNF415</td>\n      <td>ZNF415|4/4|06H04</td>\n      <td>6</td>\n      <td>45</td>\n      <td>97.560976</td>\n      <td>0</td>\n      <td>40</td>\n      <td>41</td>\n      <td>1</td>\n    </tr>\n    <tr>\n      <th>46</th>\n      <td>ZNF607_1</td>\n      <td>ZNF607</td>\n      <td>ZNF607|1/2|04H08</td>\n      <td>7</td>\n      <td>66</td>\n      <td>98.360656</td>\n      <td>1</td>\n      <td>60</td>\n      <td>61</td>\n      <td>1</td>\n    </tr>\n    <tr>\n      <th>356</th>\n      <td>ZNF415_1</td>\n      <td>ZNF415</td>\n      <td>ZNF415|2/4|06C05</td>\n      <td>5</td>\n      <td>45</td>\n      <td>97.619048</td>\n      <td>0</td>\n      <td>41</td>\n      <td>42</td>\n      <td>1</td>\n    </tr>\n  </tbody>\n</table>\n</div>"
     },
     "metadata": {},
     "execution_count": 16
    }
   ],
   "source": [
    "# check length of original domain against length of remapped domain..\n",
    "remapped['new_length'] = ((remapped['end'] - remapped['start']) + 1)\n",
    "remapped['old_length'] = remapped['reg_dom_id'].map(doms['aa_seq'].str.len())\n",
    "remapped['length_diff'] = (remapped['new_length'] - remapped['old_length']).abs()\n",
    "remapped.sort_values('length_diff', ascending=False).head(5)"
   ]
  },
  {
   "cell_type": "code",
   "execution_count": 18,
   "metadata": {},
   "outputs": [],
   "source": [
    "# TODO: add AD/RD\n",
    "for _i, row in remapped.loc[remapped['pct_match'] == 100, :].iterrows():\n",
    "    iso_id = row['clone_acc'].split('|')[0] + '-' + row['clone_acc'].split('|')[1].split('/')[0]\n",
    "    tfs[row['gene']][iso_id].add_aa_seq_feature(category='Regulatory_domain',\n",
    "                                                      name=row['reg_dom_id'],\n",
    "                                                      accession=row['reg_dom_id'],\n",
    "                                                      start=row['start'] - 1,\n",
    "                                                      end=row['end'])"
   ]
  },
  {
   "cell_type": "code",
   "execution_count": 21,
   "metadata": {},
   "outputs": [
    {
     "output_type": "execute_result",
     "data": {
      "text/plain": "     gene   ref_iso   alt_iso                accession  deletion  insertion  \\\n0  ZBTB18  ZBTB18-1  ZBTB18-2                  PF00651         0          0   \n1  ZBTB18  ZBTB18-1  ZBTB18-2                  PF13894         9          0   \n2  ZBTB18  ZBTB18-1  ZBTB18-2          C2H2_ZF_array_5         0          0   \n3  ZBTB18  ZBTB18-1  ZBTB18-2          PF13894_flank_C         0          0   \n4  ZBTB18  ZBTB18-1  ZBTB18-2  C2H2_ZF_array_5_flank_N         0          0   \n\n   frameshift  length  \n0           0     108  \n1           0      21  \n2           0     125  \n3           0      15  \n4           0      15  ",
      "text/html": "<div>\n<style scoped>\n    .dataframe tbody tr th:only-of-type {\n        vertical-align: middle;\n    }\n\n    .dataframe tbody tr th {\n        vertical-align: top;\n    }\n\n    .dataframe thead th {\n        text-align: right;\n    }\n</style>\n<table border=\"1\" class=\"dataframe\">\n  <thead>\n    <tr style=\"text-align: right;\">\n      <th></th>\n      <th>gene</th>\n      <th>ref_iso</th>\n      <th>alt_iso</th>\n      <th>accession</th>\n      <th>deletion</th>\n      <th>insertion</th>\n      <th>frameshift</th>\n      <th>length</th>\n    </tr>\n  </thead>\n  <tbody>\n    <tr>\n      <th>0</th>\n      <td>ZBTB18</td>\n      <td>ZBTB18-1</td>\n      <td>ZBTB18-2</td>\n      <td>PF00651</td>\n      <td>0</td>\n      <td>0</td>\n      <td>0</td>\n      <td>108</td>\n    </tr>\n    <tr>\n      <th>1</th>\n      <td>ZBTB18</td>\n      <td>ZBTB18-1</td>\n      <td>ZBTB18-2</td>\n      <td>PF13894</td>\n      <td>9</td>\n      <td>0</td>\n      <td>0</td>\n      <td>21</td>\n    </tr>\n    <tr>\n      <th>2</th>\n      <td>ZBTB18</td>\n      <td>ZBTB18-1</td>\n      <td>ZBTB18-2</td>\n      <td>C2H2_ZF_array_5</td>\n      <td>0</td>\n      <td>0</td>\n      <td>0</td>\n      <td>125</td>\n    </tr>\n    <tr>\n      <th>3</th>\n      <td>ZBTB18</td>\n      <td>ZBTB18-1</td>\n      <td>ZBTB18-2</td>\n      <td>PF13894_flank_C</td>\n      <td>0</td>\n      <td>0</td>\n      <td>0</td>\n      <td>15</td>\n    </tr>\n    <tr>\n      <th>4</th>\n      <td>ZBTB18</td>\n      <td>ZBTB18-1</td>\n      <td>ZBTB18-2</td>\n      <td>C2H2_ZF_array_5_flank_N</td>\n      <td>0</td>\n      <td>0</td>\n      <td>0</td>\n      <td>15</td>\n    </tr>\n  </tbody>\n</table>\n</div>"
     },
     "metadata": {},
     "execution_count": 21
    }
   ],
   "source": [
    "# TODO: add category to aa_feature_disruption\n",
    "df = pd.concat([g.aa_feature_disruption(g.orfs[0].name) for g in tfs.values()])"
   ]
  },
  {
   "cell_type": "code",
   "execution_count": 27,
   "metadata": {},
   "outputs": [],
   "source": [
    "df['is_affected'] = (df['deletion'] + df['insertion'] + df['frameshift']) > 0"
   ]
  },
  {
   "cell_type": "code",
   "execution_count": 28,
   "metadata": {},
   "outputs": [
    {
     "output_type": "display_data",
     "data": {
      "text/plain": "<Figure size 108x108 with 1 Axes>",
      "image/svg+xml": "<?xml version=\"1.0\" encoding=\"utf-8\" standalone=\"no\"?>\n<!DOCTYPE svg PUBLIC \"-//W3C//DTD SVG 1.1//EN\"\n  \"http://www.w3.org/Graphics/SVG/1.1/DTD/svg11.dtd\">\n<!-- Created with matplotlib (https://matplotlib.org/) -->\n<svg height=\"146.375937pt\" version=\"1.1\" viewBox=\"0 0 119.695313 146.375937\" width=\"119.695313pt\" xmlns=\"http://www.w3.org/2000/svg\" xmlns:xlink=\"http://www.w3.org/1999/xlink\">\n <defs>\n  <style type=\"text/css\">\n*{stroke-linecap:butt;stroke-linejoin:round;}\n  </style>\n </defs>\n <g id=\"figure_1\">\n  <g id=\"patch_1\">\n   <path d=\"M 0 146.375937 \nL 119.695312 146.375937 \nL 119.695312 -0 \nL 0 -0 \nz\n\" style=\"fill:none;\"/>\n  </g>\n  <g id=\"axes_1\">\n   <g id=\"patch_2\">\n    <path d=\"M 59.847656 15.354 \nC 55.350472 15.354 50.90151 16.284126 46.780993 18.085794 \nC 42.660476 19.887461 38.956771 22.522033 35.90316 25.823566 \nC 32.849548 29.125099 30.511517 33.022791 29.036329 37.271142 \nC 27.561141 41.519493 26.980432 46.027395 27.33078 50.510911 \nC 27.681128 54.994428 28.955019 59.357409 31.072215 63.325046 \nC 33.189411 67.292683 36.104508 70.779889 39.633896 73.567018 \nC 43.163284 76.354147 47.231272 78.381428 51.581634 79.52117 \nC 55.931997 80.660912 60.471438 80.888673 64.914035 80.190107 \nL 59.847656 47.97 \nL 59.847656 15.354 \nz\n\" style=\"fill:#ff6d6d;\"/>\n   </g>\n   <g id=\"patch_3\">\n    <path d=\"M 64.914035 80.190107 \nC 73.022299 78.915141 80.357836 74.625309 85.444676 68.183759 \nC 90.531515 61.74221 93.003959 53.612033 92.364532 45.429086 \nC 91.725105 37.246138 88.019776 29.598701 81.994087 24.0255 \nC 75.968398 18.4523 68.055542 15.353998 59.84765 15.354 \nL 59.847656 47.97 \nL 64.914035 80.190107 \nz\n\" style=\"fill:#00b8b4;\"/>\n   </g>\n   <g id=\"matplotlib.axis_1\"/>\n   <g id=\"matplotlib.axis_2\"/>\n   <g id=\"text_1\">\n    <!--   -->\n    <defs>\n     <path id=\"ArialMT-32\"/>\n    </defs>\n    <g transform=\"translate(21.300968 53.350159)scale(0.1 -0.1)\">\n     <use xlink:href=\"#ArialMT-32\"/>\n    </g>\n   </g>\n   <g id=\"text_2\">\n    <!-- 148 -->\n    <defs>\n     <path d=\"M 37.25 0 \nL 28.46875 0 \nL 28.46875 56 \nQ 25.296875 52.984375 20.140625 49.953125 \nQ 14.984375 46.921875 10.890625 45.40625 \nL 10.890625 53.90625 \nQ 18.265625 57.375 23.78125 62.296875 \nQ 29.296875 67.234375 31.59375 71.875 \nL 37.25 71.875 \nz\n\" id=\"ArialMT-49\"/>\n     <path d=\"M 32.328125 0 \nL 32.328125 17.140625 \nL 1.265625 17.140625 \nL 1.265625 25.203125 \nL 33.9375 71.578125 \nL 41.109375 71.578125 \nL 41.109375 25.203125 \nL 50.78125 25.203125 \nL 50.78125 17.140625 \nL 41.109375 17.140625 \nL 41.109375 0 \nz\nM 32.328125 25.203125 \nL 32.328125 57.46875 \nL 9.90625 25.203125 \nz\n\" id=\"ArialMT-52\"/>\n     <path d=\"M 17.671875 38.8125 \nQ 12.203125 40.828125 9.5625 44.53125 \nQ 6.9375 48.25 6.9375 53.421875 \nQ 6.9375 61.234375 12.546875 66.546875 \nQ 18.171875 71.875 27.484375 71.875 \nQ 36.859375 71.875 42.578125 66.421875 \nQ 48.296875 60.984375 48.296875 53.171875 \nQ 48.296875 48.1875 45.671875 44.5 \nQ 43.0625 40.828125 37.75 38.8125 \nQ 44.34375 36.671875 47.78125 31.875 \nQ 51.21875 27.09375 51.21875 20.453125 \nQ 51.21875 11.28125 44.71875 5.03125 \nQ 38.234375 -1.21875 27.640625 -1.21875 \nQ 17.046875 -1.21875 10.546875 5.046875 \nQ 4.046875 11.328125 4.046875 20.703125 \nQ 4.046875 27.6875 7.59375 32.390625 \nQ 11.140625 37.109375 17.671875 38.8125 \nz\nM 15.921875 53.71875 \nQ 15.921875 48.640625 19.1875 45.40625 \nQ 22.46875 42.1875 27.6875 42.1875 \nQ 32.765625 42.1875 36.015625 45.375 \nQ 39.265625 48.578125 39.265625 53.21875 \nQ 39.265625 58.0625 35.90625 61.359375 \nQ 32.5625 64.65625 27.59375 64.65625 \nQ 22.5625 64.65625 19.234375 61.421875 \nQ 15.921875 58.203125 15.921875 53.71875 \nz\nM 13.09375 20.65625 \nQ 13.09375 16.890625 14.875 13.375 \nQ 16.65625 9.859375 20.171875 7.921875 \nQ 23.6875 6 27.734375 6 \nQ 34.03125 6 38.125 10.046875 \nQ 42.234375 14.109375 42.234375 20.359375 \nQ 42.234375 26.703125 38.015625 30.859375 \nQ 33.796875 35.015625 27.4375 35.015625 \nQ 21.234375 35.015625 17.15625 30.90625 \nQ 13.09375 26.8125 13.09375 20.65625 \nz\n\" id=\"ArialMT-56\"/>\n    </defs>\n    <g transform=\"translate(31.996124 52.079703)scale(0.1 -0.1)\">\n     <use xlink:href=\"#ArialMT-49\"/>\n     <use x=\"55.615234\" xlink:href=\"#ArialMT-52\"/>\n     <use x=\"111.230469\" xlink:href=\"#ArialMT-56\"/>\n    </g>\n   </g>\n   <g id=\"text_3\">\n    <!--   -->\n    <g transform=\"translate(95.61622 47.76015)scale(0.1 -0.1)\">\n     <use xlink:href=\"#ArialMT-32\"/>\n    </g>\n   </g>\n   <g id=\"text_4\">\n    <!-- 134 -->\n    <defs>\n     <path d=\"M 4.203125 18.890625 \nL 12.984375 20.0625 \nQ 14.5 12.59375 18.140625 9.296875 \nQ 21.78125 6 27 6 \nQ 33.203125 6 37.46875 10.296875 \nQ 41.75 14.59375 41.75 20.953125 \nQ 41.75 27 37.796875 30.921875 \nQ 33.84375 34.859375 27.734375 34.859375 \nQ 25.25 34.859375 21.53125 33.890625 \nL 22.515625 41.609375 \nQ 23.390625 41.5 23.921875 41.5 \nQ 29.546875 41.5 34.03125 44.421875 \nQ 38.53125 47.359375 38.53125 53.46875 \nQ 38.53125 58.296875 35.25 61.46875 \nQ 31.984375 64.65625 26.8125 64.65625 \nQ 21.6875 64.65625 18.265625 61.421875 \nQ 14.84375 58.203125 13.875 51.765625 \nL 5.078125 53.328125 \nQ 6.6875 62.15625 12.390625 67.015625 \nQ 18.109375 71.875 26.609375 71.875 \nQ 32.46875 71.875 37.390625 69.359375 \nQ 42.328125 66.84375 44.9375 62.5 \nQ 47.5625 58.15625 47.5625 53.265625 \nQ 47.5625 48.640625 45.0625 44.828125 \nQ 42.578125 41.015625 37.703125 38.765625 \nQ 44.046875 37.3125 47.5625 32.6875 \nQ 51.078125 28.078125 51.078125 21.140625 \nQ 51.078125 11.765625 44.234375 5.25 \nQ 37.40625 -1.265625 26.953125 -1.265625 \nQ 17.53125 -1.265625 11.296875 4.34375 \nQ 5.078125 9.96875 4.203125 18.890625 \nz\n\" id=\"ArialMT-51\"/>\n    </defs>\n    <g transform=\"translate(71.016375 49.030608)scale(0.1 -0.1)\">\n     <use xlink:href=\"#ArialMT-49\"/>\n     <use x=\"55.615234\" xlink:href=\"#ArialMT-51\"/>\n     <use x=\"111.230469\" xlink:href=\"#ArialMT-52\"/>\n    </g>\n   </g>\n   <g id=\"legend_1\">\n    <g id=\"text_5\">\n     <!-- TF isoforms with: -->\n     <defs>\n      <path d=\"M 25.921875 0 \nL 25.921875 63.140625 \nL 2.34375 63.140625 \nL 2.34375 71.578125 \nL 59.078125 71.578125 \nL 59.078125 63.140625 \nL 35.40625 63.140625 \nL 35.40625 0 \nz\n\" id=\"ArialMT-84\"/>\n      <path d=\"M 8.203125 0 \nL 8.203125 71.578125 \nL 56.5 71.578125 \nL 56.5 63.140625 \nL 17.671875 63.140625 \nL 17.671875 40.96875 \nL 51.265625 40.96875 \nL 51.265625 32.515625 \nL 17.671875 32.515625 \nL 17.671875 0 \nz\n\" id=\"ArialMT-70\"/>\n      <path d=\"M 6.640625 61.46875 \nL 6.640625 71.578125 \nL 15.4375 71.578125 \nL 15.4375 61.46875 \nz\nM 6.640625 0 \nL 6.640625 51.859375 \nL 15.4375 51.859375 \nL 15.4375 0 \nz\n\" id=\"ArialMT-105\"/>\n      <path d=\"M 3.078125 15.484375 \nL 11.765625 16.84375 \nQ 12.5 11.625 15.84375 8.84375 \nQ 19.1875 6.0625 25.203125 6.0625 \nQ 31.25 6.0625 34.171875 8.515625 \nQ 37.109375 10.984375 37.109375 14.3125 \nQ 37.109375 17.28125 34.515625 19 \nQ 32.71875 20.171875 25.53125 21.96875 \nQ 15.875 24.421875 12.140625 26.203125 \nQ 8.40625 27.984375 6.46875 31.125 \nQ 4.546875 34.28125 4.546875 38.09375 \nQ 4.546875 41.546875 6.125 44.5 \nQ 7.71875 47.46875 10.453125 49.421875 \nQ 12.5 50.921875 16.03125 51.96875 \nQ 19.578125 53.03125 23.640625 53.03125 \nQ 29.734375 53.03125 34.34375 51.265625 \nQ 38.96875 49.515625 41.15625 46.5 \nQ 43.359375 43.5 44.1875 38.484375 \nL 35.59375 37.3125 \nQ 35.015625 41.3125 32.203125 43.546875 \nQ 29.390625 45.796875 24.265625 45.796875 \nQ 18.21875 45.796875 15.625 43.796875 \nQ 13.03125 41.796875 13.03125 39.109375 \nQ 13.03125 37.40625 14.109375 36.03125 \nQ 15.1875 34.625 17.484375 33.6875 \nQ 18.796875 33.203125 25.25 31.453125 \nQ 34.578125 28.953125 38.25 27.359375 \nQ 41.9375 25.78125 44.03125 22.75 \nQ 46.140625 19.734375 46.140625 15.234375 \nQ 46.140625 10.84375 43.578125 6.953125 \nQ 41.015625 3.078125 36.171875 0.953125 \nQ 31.34375 -1.171875 25.25 -1.171875 \nQ 15.140625 -1.171875 9.84375 3.03125 \nQ 4.546875 7.234375 3.078125 15.484375 \nz\n\" id=\"ArialMT-115\"/>\n      <path d=\"M 3.328125 25.921875 \nQ 3.328125 40.328125 11.328125 47.265625 \nQ 18.015625 53.03125 27.640625 53.03125 \nQ 38.328125 53.03125 45.109375 46.015625 \nQ 51.90625 39.015625 51.90625 26.65625 \nQ 51.90625 16.65625 48.90625 10.90625 \nQ 45.90625 5.171875 40.15625 2 \nQ 34.421875 -1.171875 27.640625 -1.171875 \nQ 16.75 -1.171875 10.03125 5.8125 \nQ 3.328125 12.796875 3.328125 25.921875 \nz\nM 12.359375 25.921875 \nQ 12.359375 15.96875 16.703125 11.015625 \nQ 21.046875 6.0625 27.640625 6.0625 \nQ 34.1875 6.0625 38.53125 11.03125 \nQ 42.875 16.015625 42.875 26.21875 \nQ 42.875 35.84375 38.5 40.796875 \nQ 34.125 45.75 27.640625 45.75 \nQ 21.046875 45.75 16.703125 40.8125 \nQ 12.359375 35.890625 12.359375 25.921875 \nz\n\" id=\"ArialMT-111\"/>\n      <path d=\"M 8.6875 0 \nL 8.6875 45.015625 \nL 0.921875 45.015625 \nL 0.921875 51.859375 \nL 8.6875 51.859375 \nL 8.6875 57.375 \nQ 8.6875 62.59375 9.625 65.140625 \nQ 10.890625 68.5625 14.078125 70.671875 \nQ 17.28125 72.796875 23.046875 72.796875 \nQ 26.765625 72.796875 31.25 71.921875 \nL 29.9375 64.265625 \nQ 27.203125 64.75 24.75 64.75 \nQ 20.75 64.75 19.09375 63.03125 \nQ 17.4375 61.328125 17.4375 56.640625 \nL 17.4375 51.859375 \nL 27.546875 51.859375 \nL 27.546875 45.015625 \nL 17.4375 45.015625 \nL 17.4375 0 \nz\n\" id=\"ArialMT-102\"/>\n      <path d=\"M 6.5 0 \nL 6.5 51.859375 \nL 14.40625 51.859375 \nL 14.40625 44 \nQ 17.4375 49.515625 20 51.265625 \nQ 22.5625 53.03125 25.640625 53.03125 \nQ 30.078125 53.03125 34.671875 50.203125 \nL 31.640625 42.046875 \nQ 28.421875 43.953125 25.203125 43.953125 \nQ 22.3125 43.953125 20.015625 42.21875 \nQ 17.71875 40.484375 16.75 37.40625 \nQ 15.28125 32.71875 15.28125 27.15625 \nL 15.28125 0 \nz\n\" id=\"ArialMT-114\"/>\n      <path d=\"M 6.59375 0 \nL 6.59375 51.859375 \nL 14.453125 51.859375 \nL 14.453125 44.578125 \nQ 16.890625 48.390625 20.9375 50.703125 \nQ 25 53.03125 30.171875 53.03125 \nQ 35.9375 53.03125 39.625 50.640625 \nQ 43.3125 48.25 44.828125 43.953125 \nQ 50.984375 53.03125 60.84375 53.03125 \nQ 68.5625 53.03125 72.703125 48.75 \nQ 76.859375 44.484375 76.859375 35.59375 \nL 76.859375 0 \nL 68.109375 0 \nL 68.109375 32.671875 \nQ 68.109375 37.9375 67.25 40.25 \nQ 66.40625 42.578125 64.15625 43.984375 \nQ 61.921875 45.40625 58.890625 45.40625 \nQ 53.421875 45.40625 49.796875 41.765625 \nQ 46.1875 38.140625 46.1875 30.125 \nL 46.1875 0 \nL 37.40625 0 \nL 37.40625 33.6875 \nQ 37.40625 39.546875 35.25 42.46875 \nQ 33.109375 45.40625 28.21875 45.40625 \nQ 24.515625 45.40625 21.359375 43.453125 \nQ 18.21875 41.5 16.796875 37.734375 \nQ 15.375 33.984375 15.375 26.90625 \nL 15.375 0 \nz\n\" id=\"ArialMT-109\"/>\n      <path d=\"M 16.15625 0 \nL 0.296875 51.859375 \nL 9.375 51.859375 \nL 17.625 21.921875 \nL 20.703125 10.796875 \nQ 20.90625 11.625 23.390625 21.484375 \nL 31.640625 51.859375 \nL 40.671875 51.859375 \nL 48.4375 21.78125 \nL 51.03125 11.859375 \nL 54 21.875 \nL 62.890625 51.859375 \nL 71.4375 51.859375 \nL 55.21875 0 \nL 46.09375 0 \nL 37.84375 31.0625 \nL 35.84375 39.890625 \nL 25.34375 0 \nz\n\" id=\"ArialMT-119\"/>\n      <path d=\"M 25.78125 7.859375 \nL 27.046875 0.09375 \nQ 23.34375 -0.6875 20.40625 -0.6875 \nQ 15.625 -0.6875 12.984375 0.828125 \nQ 10.359375 2.34375 9.28125 4.8125 \nQ 8.203125 7.28125 8.203125 15.1875 \nL 8.203125 45.015625 \nL 1.765625 45.015625 \nL 1.765625 51.859375 \nL 8.203125 51.859375 \nL 8.203125 64.703125 \nL 16.9375 69.96875 \nL 16.9375 51.859375 \nL 25.78125 51.859375 \nL 25.78125 45.015625 \nL 16.9375 45.015625 \nL 16.9375 14.703125 \nQ 16.9375 10.9375 17.40625 9.859375 \nQ 17.875 8.796875 18.921875 8.15625 \nQ 19.96875 7.515625 21.921875 7.515625 \nQ 23.390625 7.515625 25.78125 7.859375 \nz\n\" id=\"ArialMT-116\"/>\n      <path d=\"M 6.59375 0 \nL 6.59375 71.578125 \nL 15.375 71.578125 \nL 15.375 45.90625 \nQ 21.53125 53.03125 30.90625 53.03125 \nQ 36.671875 53.03125 40.921875 50.75 \nQ 45.171875 48.484375 47 44.484375 \nQ 48.828125 40.484375 48.828125 32.859375 \nL 48.828125 0 \nL 40.046875 0 \nL 40.046875 32.859375 \nQ 40.046875 39.453125 37.1875 42.453125 \nQ 34.328125 45.453125 29.109375 45.453125 \nQ 25.203125 45.453125 21.75 43.421875 \nQ 18.3125 41.40625 16.84375 37.9375 \nQ 15.375 34.46875 15.375 28.375 \nL 15.375 0 \nz\n\" id=\"ArialMT-104\"/>\n      <path d=\"M 9.03125 41.84375 \nL 9.03125 51.859375 \nL 19.046875 51.859375 \nL 19.046875 41.84375 \nz\nM 9.03125 0 \nL 9.03125 10.015625 \nL 19.046875 10.015625 \nL 19.046875 0 \nz\n\" id=\"ArialMT-58\"/>\n     </defs>\n     <g transform=\"translate(21.790625 104.897812)scale(0.1 -0.1)\">\n      <use xlink:href=\"#ArialMT-84\"/>\n      <use x=\"61.083984\" xlink:href=\"#ArialMT-70\"/>\n      <use x=\"122.167969\" xlink:href=\"#ArialMT-32\"/>\n      <use x=\"149.951172\" xlink:href=\"#ArialMT-105\"/>\n      <use x=\"172.167969\" xlink:href=\"#ArialMT-115\"/>\n      <use x=\"222.167969\" xlink:href=\"#ArialMT-111\"/>\n      <use x=\"277.783203\" xlink:href=\"#ArialMT-102\"/>\n      <use x=\"305.566406\" xlink:href=\"#ArialMT-111\"/>\n      <use x=\"361.181641\" xlink:href=\"#ArialMT-114\"/>\n      <use x=\"394.482422\" xlink:href=\"#ArialMT-109\"/>\n      <use x=\"477.783203\" xlink:href=\"#ArialMT-115\"/>\n      <use x=\"527.783203\" xlink:href=\"#ArialMT-32\"/>\n      <use x=\"555.566406\" xlink:href=\"#ArialMT-119\"/>\n      <use x=\"627.783203\" xlink:href=\"#ArialMT-105\"/>\n      <use x=\"650\" xlink:href=\"#ArialMT-116\"/>\n      <use x=\"677.783203\" xlink:href=\"#ArialMT-104\"/>\n      <use x=\"733.398438\" xlink:href=\"#ArialMT-58\"/>\n     </g>\n    </g>\n    <g id=\"patch_4\">\n     <path d=\"M 11.2 119.043125 \nL 31.2 119.043125 \nL 31.2 112.043125 \nL 11.2 112.043125 \nz\n\" style=\"fill:#ff6d6d;\"/>\n    </g>\n    <g id=\"text_6\">\n     <!-- AD/RD affected -->\n     <defs>\n      <path d=\"M -0.140625 0 \nL 27.34375 71.578125 \nL 37.546875 71.578125 \nL 66.84375 0 \nL 56.0625 0 \nL 47.703125 21.6875 \nL 17.78125 21.6875 \nL 9.90625 0 \nz\nM 20.515625 29.390625 \nL 44.78125 29.390625 \nL 37.3125 49.21875 \nQ 33.890625 58.25 32.234375 64.0625 \nQ 30.859375 57.171875 28.375 50.390625 \nz\n\" id=\"ArialMT-65\"/>\n      <path d=\"M 7.71875 0 \nL 7.71875 71.578125 \nL 32.375 71.578125 \nQ 40.71875 71.578125 45.125 70.5625 \nQ 51.265625 69.140625 55.609375 65.4375 \nQ 61.28125 60.640625 64.078125 53.1875 \nQ 66.890625 45.75 66.890625 36.1875 \nQ 66.890625 28.03125 64.984375 21.734375 \nQ 63.09375 15.4375 60.109375 11.296875 \nQ 57.125 7.171875 53.578125 4.796875 \nQ 50.046875 2.4375 45.046875 1.21875 \nQ 40.046875 0 33.546875 0 \nz\nM 17.1875 8.453125 \nL 32.46875 8.453125 \nQ 39.546875 8.453125 43.578125 9.765625 \nQ 47.609375 11.078125 50 13.484375 \nQ 53.375 16.84375 55.25 22.53125 \nQ 57.125 28.21875 57.125 36.328125 \nQ 57.125 47.5625 53.4375 53.59375 \nQ 49.75 59.625 44.484375 61.671875 \nQ 40.671875 63.140625 32.234375 63.140625 \nL 17.1875 63.140625 \nz\n\" id=\"ArialMT-68\"/>\n      <path d=\"M 0 -1.21875 \nL 20.75 72.796875 \nL 27.78125 72.796875 \nL 7.078125 -1.21875 \nz\n\" id=\"ArialMT-47\"/>\n      <path d=\"M 7.859375 0 \nL 7.859375 71.578125 \nL 39.59375 71.578125 \nQ 49.171875 71.578125 54.140625 69.640625 \nQ 59.125 67.71875 62.109375 62.828125 \nQ 65.09375 57.953125 65.09375 52.046875 \nQ 65.09375 44.4375 60.15625 39.203125 \nQ 55.21875 33.984375 44.921875 32.5625 \nQ 48.6875 30.765625 50.640625 29 \nQ 54.78125 25.203125 58.5 19.484375 \nL 70.953125 0 \nL 59.03125 0 \nL 49.5625 14.890625 \nQ 45.40625 21.34375 42.71875 24.75 \nQ 40.046875 28.171875 37.921875 29.53125 \nQ 35.796875 30.90625 33.59375 31.453125 \nQ 31.984375 31.78125 28.328125 31.78125 \nL 17.328125 31.78125 \nL 17.328125 0 \nz\nM 17.328125 39.984375 \nL 37.703125 39.984375 \nQ 44.1875 39.984375 47.84375 41.328125 \nQ 51.515625 42.671875 53.421875 45.625 \nQ 55.328125 48.578125 55.328125 52.046875 \nQ 55.328125 57.125 51.640625 60.390625 \nQ 47.953125 63.671875 39.984375 63.671875 \nL 17.328125 63.671875 \nz\n\" id=\"ArialMT-82\"/>\n      <path d=\"M 40.4375 6.390625 \nQ 35.546875 2.25 31.03125 0.53125 \nQ 26.515625 -1.171875 21.34375 -1.171875 \nQ 12.796875 -1.171875 8.203125 3 \nQ 3.609375 7.171875 3.609375 13.671875 \nQ 3.609375 17.484375 5.34375 20.625 \nQ 7.078125 23.78125 9.890625 25.6875 \nQ 12.703125 27.59375 16.21875 28.5625 \nQ 18.796875 29.25 24.03125 29.890625 \nQ 34.671875 31.15625 39.703125 32.90625 \nQ 39.75 34.71875 39.75 35.203125 \nQ 39.75 40.578125 37.25 42.78125 \nQ 33.890625 45.75 27.25 45.75 \nQ 21.046875 45.75 18.09375 43.578125 \nQ 15.140625 41.40625 13.71875 35.890625 \nL 5.125 37.0625 \nQ 6.296875 42.578125 8.984375 45.96875 \nQ 11.671875 49.359375 16.75 51.1875 \nQ 21.828125 53.03125 28.515625 53.03125 \nQ 35.15625 53.03125 39.296875 51.46875 \nQ 43.453125 49.90625 45.40625 47.53125 \nQ 47.359375 45.171875 48.140625 41.546875 \nQ 48.578125 39.3125 48.578125 33.453125 \nL 48.578125 21.734375 \nQ 48.578125 9.46875 49.140625 6.21875 \nQ 49.703125 2.984375 51.375 0 \nL 42.1875 0 \nQ 40.828125 2.734375 40.4375 6.390625 \nz\nM 39.703125 26.03125 \nQ 34.90625 24.078125 25.34375 22.703125 \nQ 19.921875 21.921875 17.671875 20.9375 \nQ 15.4375 19.96875 14.203125 18.09375 \nQ 12.984375 16.21875 12.984375 13.921875 \nQ 12.984375 10.40625 15.640625 8.0625 \nQ 18.3125 5.71875 23.4375 5.71875 \nQ 28.515625 5.71875 32.46875 7.9375 \nQ 36.421875 10.15625 38.28125 14.015625 \nQ 39.703125 17 39.703125 22.796875 \nz\n\" id=\"ArialMT-97\"/>\n      <path d=\"M 42.09375 16.703125 \nL 51.171875 15.578125 \nQ 49.03125 7.625 43.21875 3.21875 \nQ 37.40625 -1.171875 28.375 -1.171875 \nQ 17 -1.171875 10.328125 5.828125 \nQ 3.65625 12.84375 3.65625 25.484375 \nQ 3.65625 38.578125 10.390625 45.796875 \nQ 17.140625 53.03125 27.875 53.03125 \nQ 38.28125 53.03125 44.875 45.953125 \nQ 51.46875 38.875 51.46875 26.03125 \nQ 51.46875 25.25 51.421875 23.6875 \nL 12.75 23.6875 \nQ 13.234375 15.140625 17.578125 10.59375 \nQ 21.921875 6.0625 28.421875 6.0625 \nQ 33.25 6.0625 36.671875 8.59375 \nQ 40.09375 11.140625 42.09375 16.703125 \nz\nM 13.234375 30.90625 \nL 42.1875 30.90625 \nQ 41.609375 37.453125 38.875 40.71875 \nQ 34.671875 45.796875 27.984375 45.796875 \nQ 21.921875 45.796875 17.796875 41.75 \nQ 13.671875 37.703125 13.234375 30.90625 \nz\n\" id=\"ArialMT-101\"/>\n      <path d=\"M 40.4375 19 \nL 49.078125 17.875 \nQ 47.65625 8.9375 41.8125 3.875 \nQ 35.984375 -1.171875 27.484375 -1.171875 \nQ 16.84375 -1.171875 10.375 5.78125 \nQ 3.90625 12.75 3.90625 25.734375 \nQ 3.90625 34.125 6.6875 40.421875 \nQ 9.46875 46.734375 15.15625 49.875 \nQ 20.84375 53.03125 27.546875 53.03125 \nQ 35.984375 53.03125 41.359375 48.75 \nQ 46.734375 44.484375 48.25 36.625 \nL 39.703125 35.296875 \nQ 38.484375 40.53125 35.375 43.15625 \nQ 32.28125 45.796875 27.875 45.796875 \nQ 21.234375 45.796875 17.078125 41.03125 \nQ 12.9375 36.28125 12.9375 25.984375 \nQ 12.9375 15.53125 16.9375 10.796875 \nQ 20.953125 6.0625 27.390625 6.0625 \nQ 32.5625 6.0625 36.03125 9.234375 \nQ 39.5 12.40625 40.4375 19 \nz\n\" id=\"ArialMT-99\"/>\n      <path d=\"M 40.234375 0 \nL 40.234375 6.546875 \nQ 35.296875 -1.171875 25.734375 -1.171875 \nQ 19.53125 -1.171875 14.328125 2.25 \nQ 9.125 5.671875 6.265625 11.796875 \nQ 3.421875 17.921875 3.421875 25.875 \nQ 3.421875 33.640625 6 39.96875 \nQ 8.59375 46.296875 13.765625 49.65625 \nQ 18.953125 53.03125 25.34375 53.03125 \nQ 30.03125 53.03125 33.6875 51.046875 \nQ 37.359375 49.078125 39.65625 45.90625 \nL 39.65625 71.578125 \nL 48.390625 71.578125 \nL 48.390625 0 \nz\nM 12.453125 25.875 \nQ 12.453125 15.921875 16.640625 10.984375 \nQ 20.84375 6.0625 26.5625 6.0625 \nQ 32.328125 6.0625 36.34375 10.765625 \nQ 40.375 15.484375 40.375 25.140625 \nQ 40.375 35.796875 36.265625 40.765625 \nQ 32.171875 45.75 26.171875 45.75 \nQ 20.3125 45.75 16.375 40.96875 \nQ 12.453125 36.1875 12.453125 25.875 \nz\n\" id=\"ArialMT-100\"/>\n     </defs>\n     <g transform=\"translate(39.2 119.043125)scale(0.1 -0.1)\">\n      <use xlink:href=\"#ArialMT-65\"/>\n      <use x=\"66.699219\" xlink:href=\"#ArialMT-68\"/>\n      <use x=\"138.916016\" xlink:href=\"#ArialMT-47\"/>\n      <use x=\"166.699219\" xlink:href=\"#ArialMT-82\"/>\n      <use x=\"238.916016\" xlink:href=\"#ArialMT-68\"/>\n      <use x=\"311.132812\" xlink:href=\"#ArialMT-32\"/>\n      <use x=\"338.916016\" xlink:href=\"#ArialMT-97\"/>\n      <use x=\"394.53125\" xlink:href=\"#ArialMT-102\"/>\n      <use x=\"420.564453\" xlink:href=\"#ArialMT-102\"/>\n      <use x=\"448.347656\" xlink:href=\"#ArialMT-101\"/>\n      <use x=\"503.962891\" xlink:href=\"#ArialMT-99\"/>\n      <use x=\"553.962891\" xlink:href=\"#ArialMT-116\"/>\n      <use x=\"581.746094\" xlink:href=\"#ArialMT-101\"/>\n      <use x=\"637.361328\" xlink:href=\"#ArialMT-100\"/>\n     </g>\n    </g>\n    <g id=\"patch_5\">\n     <path d=\"M 11.2 133.188437 \nL 31.2 133.188437 \nL 31.2 126.188437 \nL 11.2 126.188437 \nz\n\" style=\"fill:#00b8b4;\"/>\n    </g>\n    <g id=\"text_7\">\n     <!-- AD/RD intact -->\n     <defs>\n      <path d=\"M 6.59375 0 \nL 6.59375 51.859375 \nL 14.5 51.859375 \nL 14.5 44.484375 \nQ 20.21875 53.03125 31 53.03125 \nQ 35.6875 53.03125 39.625 51.34375 \nQ 43.5625 49.65625 45.515625 46.921875 \nQ 47.46875 44.1875 48.25 40.4375 \nQ 48.734375 37.984375 48.734375 31.890625 \nL 48.734375 0 \nL 39.9375 0 \nL 39.9375 31.546875 \nQ 39.9375 36.921875 38.90625 39.578125 \nQ 37.890625 42.234375 35.28125 43.8125 \nQ 32.671875 45.40625 29.15625 45.40625 \nQ 23.53125 45.40625 19.453125 41.84375 \nQ 15.375 38.28125 15.375 28.328125 \nL 15.375 0 \nz\n\" id=\"ArialMT-110\"/>\n     </defs>\n     <g transform=\"translate(39.2 133.188437)scale(0.1 -0.1)\">\n      <use xlink:href=\"#ArialMT-65\"/>\n      <use x=\"66.699219\" xlink:href=\"#ArialMT-68\"/>\n      <use x=\"138.916016\" xlink:href=\"#ArialMT-47\"/>\n      <use x=\"166.699219\" xlink:href=\"#ArialMT-82\"/>\n      <use x=\"238.916016\" xlink:href=\"#ArialMT-68\"/>\n      <use x=\"311.132812\" xlink:href=\"#ArialMT-32\"/>\n      <use x=\"338.916016\" xlink:href=\"#ArialMT-105\"/>\n      <use x=\"361.132812\" xlink:href=\"#ArialMT-110\"/>\n      <use x=\"416.748047\" xlink:href=\"#ArialMT-116\"/>\n      <use x=\"444.53125\" xlink:href=\"#ArialMT-97\"/>\n      <use x=\"500.146484\" xlink:href=\"#ArialMT-99\"/>\n      <use x=\"550.146484\" xlink:href=\"#ArialMT-116\"/>\n     </g>\n    </g>\n   </g>\n  </g>\n </g>\n</svg>\n",
      "image/png": "[encoded data removed]"
     },
     "metadata": {}
    }
   ],
   "source": [
    "fig = plt.gcf()\n",
    "fig.set_size_inches(1.5, 1.5)\n",
    "(df.loc[df['accession'].isin(remapped['reg_dom_id'].values), :]\n",
    ".groupby('alt_iso')\n",
    "['is_affected'].any()\n",
    ".value_counts()\n",
    ".plot.pie(startangle=90,\n",
    "autopct=lambda x: int(x / 100 * df.loc[df['accession'].isin(remapped['reg_dom_id'].values), 'alt_iso'].nunique()),\n",
    "colors=['#FF6D6D', '#00B8B4'],\n",
    "labels=[' ', ' ']))\n",
    "plt.legend(labels=['AD/RD affected', 'AD/RD intact'],\n",
    "           title='TF isoforms with:',\n",
    "           frameon=False,\n",
    "           loc='upper center',\n",
    "           bbox_to_anchor=[0.5, 0],\n",
    "           )\n",
    "plt.ylabel('')\n",
    "plt.savefig('../../figures/for_Marthas_CSBC_talk_2020-09-16/regulatory-domain-affected_TFiso1.0_pie.pdf',\n",
    "            bbox_inches='tight')"
   ]
  },
  {
   "cell_type": "code",
   "execution_count": null,
   "metadata": {},
   "outputs": [],
   "source": [
    "# table of domain changes\n",
    "# take case where domain is largest\n",
    "# alignment?"
   ]
  },
  {
   "cell_type": "code",
   "execution_count": 225,
   "metadata": {},
   "outputs": [
    {
     "data": {
      "text/html": [
       "<div>\n",
       "<style scoped>\n",
       "    .dataframe tbody tr th:only-of-type {\n",
       "        vertical-align: middle;\n",
       "    }\n",
       "\n",
       "    .dataframe tbody tr th {\n",
       "        vertical-align: top;\n",
       "    }\n",
       "\n",
       "    .dataframe thead th {\n",
       "        text-align: right;\n",
       "    }\n",
       "</style>\n",
       "<table border=\"1\" class=\"dataframe\">\n",
       "  <thead>\n",
       "    <tr style=\"text-align: right;\">\n",
       "      <th></th>\n",
       "      <th>gene</th>\n",
       "      <th>isoacc</th>\n",
       "      <th>dbd_pfam_acc</th>\n",
       "      <th>dbd_name</th>\n",
       "      <th>dom_start_idx</th>\n",
       "      <th>dom_end_idx</th>\n",
       "      <th>prot_cmp_block_string</th>\n",
       "      <th>prot_cmp_string</th>\n",
       "      <th>dom_len</th>\n",
       "      <th>num_match</th>\n",
       "      <th>%AA_preserved_denom_dom_len</th>\n",
       "    </tr>\n",
       "  </thead>\n",
       "  <tbody>\n",
       "    <tr>\n",
       "      <th>0</th>\n",
       "      <td>LHX6</td>\n",
       "      <td>LHX6|1/4|03D01</td>\n",
       "      <td>PF00046</td>\n",
       "      <td>Homeodomain</td>\n",
       "      <td>234.0</td>\n",
       "      <td>320.0</td>\n",
       "      <td>M</td>\n",
       "      <td>MMMMMMMMMMMMMMMMMMMMMMMMMMMMMMMMMMMMMMMMMMMMMM...</td>\n",
       "      <td>87</td>\n",
       "      <td>87</td>\n",
       "      <td>100.000000</td>\n",
       "    </tr>\n",
       "    <tr>\n",
       "      <th>1</th>\n",
       "      <td>LHX6</td>\n",
       "      <td>LHX6|4/4|11G11</td>\n",
       "      <td>PF00046</td>\n",
       "      <td>Homeodomain</td>\n",
       "      <td>205.0</td>\n",
       "      <td>291.0</td>\n",
       "      <td>M</td>\n",
       "      <td>MMMMMMMMMMMMMMMMMMMMMMMMMMMMMMMMMMMMMMMMMMMMMM...</td>\n",
       "      <td>87</td>\n",
       "      <td>87</td>\n",
       "      <td>100.000000</td>\n",
       "    </tr>\n",
       "    <tr>\n",
       "      <th>2</th>\n",
       "      <td>LHX6</td>\n",
       "      <td>LHX6|3/4|02B12</td>\n",
       "      <td>PF00046</td>\n",
       "      <td>Homeodomain</td>\n",
       "      <td>205.0</td>\n",
       "      <td>291.0</td>\n",
       "      <td>M</td>\n",
       "      <td>MMMMMMMMMMMMMMMMMMMMMMMMMMMMMMMMMMMMMMMMMMMMMM...</td>\n",
       "      <td>87</td>\n",
       "      <td>87</td>\n",
       "      <td>100.000000</td>\n",
       "    </tr>\n",
       "    <tr>\n",
       "      <th>3</th>\n",
       "      <td>LHX6</td>\n",
       "      <td>LHX6|2/4|02C12</td>\n",
       "      <td>PF00046</td>\n",
       "      <td>Homeodomain</td>\n",
       "      <td>205.0</td>\n",
       "      <td>291.0</td>\n",
       "      <td>M</td>\n",
       "      <td>MMMMMMMMMMMMMMMMMMMMMMMMMMMMMMMMMMMMMMMMMMMMMM...</td>\n",
       "      <td>87</td>\n",
       "      <td>87</td>\n",
       "      <td>100.000000</td>\n",
       "    </tr>\n",
       "    <tr>\n",
       "      <th>4</th>\n",
       "      <td>LHX8</td>\n",
       "      <td>LHX8|1/2|12A10</td>\n",
       "      <td>PF00046</td>\n",
       "      <td>Homeodomain</td>\n",
       "      <td>211.0</td>\n",
       "      <td>297.0</td>\n",
       "      <td>MR</td>\n",
       "      <td>MMMMMMMMMMMMMMMMMMMMMMMMMMMMMMMMMMMMMMMMMMMMMM...</td>\n",
       "      <td>87</td>\n",
       "      <td>86</td>\n",
       "      <td>98.850575</td>\n",
       "    </tr>\n",
       "  </tbody>\n",
       "</table>\n",
       "</div>"
      ],
      "text/plain": [
       "   gene          isoacc dbd_pfam_acc     dbd_name  dom_start_idx  dom_end_idx  \\\n",
       "0  LHX6  LHX6|1/4|03D01      PF00046  Homeodomain          234.0        320.0   \n",
       "1  LHX6  LHX6|4/4|11G11      PF00046  Homeodomain          205.0        291.0   \n",
       "2  LHX6  LHX6|3/4|02B12      PF00046  Homeodomain          205.0        291.0   \n",
       "3  LHX6  LHX6|2/4|02C12      PF00046  Homeodomain          205.0        291.0   \n",
       "4  LHX8  LHX8|1/2|12A10      PF00046  Homeodomain          211.0        297.0   \n",
       "\n",
       "  prot_cmp_block_string                                    prot_cmp_string  \\\n",
       "0                     M  MMMMMMMMMMMMMMMMMMMMMMMMMMMMMMMMMMMMMMMMMMMMMM...   \n",
       "1                     M  MMMMMMMMMMMMMMMMMMMMMMMMMMMMMMMMMMMMMMMMMMMMMM...   \n",
       "2                     M  MMMMMMMMMMMMMMMMMMMMMMMMMMMMMMMMMMMMMMMMMMMMMM...   \n",
       "3                     M  MMMMMMMMMMMMMMMMMMMMMMMMMMMMMMMMMMMMMMMMMMMMMM...   \n",
       "4                    MR  MMMMMMMMMMMMMMMMMMMMMMMMMMMMMMMMMMMMMMMMMMMMMM...   \n",
       "\n",
       "   dom_len  num_match  %AA_preserved_denom_dom_len  \n",
       "0       87         87                   100.000000  \n",
       "1       87         87                   100.000000  \n",
       "2       87         87                   100.000000  \n",
       "3       87         87                   100.000000  \n",
       "4       87         86                    98.850575  "
      ]
     },
     "execution_count": 225,
     "metadata": {},
     "output_type": "execute_result"
    }
   ],
   "source": [
    "dbd = pd.read_csv('../../data/190914_6K_affect_of_mapped_uniprot_dbds_with_flank_for_juan.tsv',\n",
    "                 sep='\\t')\n",
    "dbd.head()"
   ]
  },
  {
   "cell_type": "code",
   "execution_count": 226,
   "metadata": {},
   "outputs": [
    {
     "data": {
      "text/plain": [
       "array(['Homeodomain', 'T-box', 'GATA', 'bHLH', 'E2F_TDP', 'HMG_box',\n",
       "       'Ets', 'MH1', 'Rel', 'Forkhead', 'ARID/BRIGHT', 'TEA', 'TBP',\n",
       "       'bZIP', 'WT1', 'RFX', 'HSF', 'IPT/TIG', 'p53', 'IRF',\n",
       "       'MADS box/SRF-TF', 'Myb/SANT', 'THAP finger', 'CBFD_NFYB_HMF',\n",
       "       'EBF1', 'POU', 'SAND', 'PAX', 'STAT', 'AP-2', 'CP2', 'Runt',\n",
       "       'Pipsqueak'], dtype=object)"
      ]
     },
     "execution_count": 226,
     "metadata": {},
     "output_type": "execute_result"
    }
   ],
   "source": [
    "dbd.dbd_name.unique()"
   ]
  },
  {
   "cell_type": "code",
   "execution_count": 252,
   "metadata": {},
   "outputs": [
    {
     "data": {
      "image/png": "[encoded data removed]",
      "text/plain": [
       "<Figure size 576x432 with 2 Axes>"
      ]
     },
     "metadata": {
      "image/png": {
       "height": 366,
       "width": 501
      },
      "needs_background": "light"
     },
     "output_type": "display_data"
    }
   ],
   "source": [
    "# make a function to visualize the domains\n",
    "from matplotlib import pyplot as plt\n",
    "from matplotlib import patches\n",
    "\n",
    "from plotting import isoform_box_and_line_drawing, isoform_display_name\n",
    "\n",
    "\n",
    "def domain_fig(seq_len,\n",
    "               domain_pos,\n",
    "               domain_labels=None,\n",
    "               protein_name=None,\n",
    "               colors=None,\n",
    "               protein_color='pink',\n",
    "               ax=None):\n",
    "    # deal with overlaps\n",
    "    # dimensions\n",
    "    # options to control rotation\n",
    "    if ax is None:\n",
    "        ax = plt.gca()\n",
    "    if colors is None:\n",
    "        colors = ['orange'] * len(domain_pos)\n",
    "    ax.set_ylim(0, 1)\n",
    "    ax.set_xlim(0.5, seq_len + 0.5)\n",
    "    height = 1\n",
    "    prot = patches.Rectangle((0.5, 0.5 - height / 2),\n",
    "                             width=seq_len,\n",
    "                             height=height,\n",
    "                             clip_on=False,\n",
    "                             facecolor=protein_color,\n",
    "                             edgecolor='grey',\n",
    "                             linewidth=1.5)\n",
    "    ax.add_patch(prot)\n",
    "    if domain_labels is None:\n",
    "        domain_labels = [''] * len(domain_pos)\n",
    "    for (start, stop), lab, color in zip(domain_pos, domain_labels, colors):\n",
    "        ax.add_patch(patches.FancyBboxPatch((start - 0.5, 0.5 - (height * 0.95) / 2),\n",
    "                                       width=(stop - start) + 1,\n",
    "                                       height=height*0.95,\n",
    "                                       clip_on=False,\n",
    "                                       facecolor=color,\n",
    "                                       boxstyle='round,pad=0,rounding_size=10',\n",
    "                                       mutation_aspect=1/seq_len,\n",
    "                                       edgecolor='black',\n",
    "                                       linewidth=2,\n",
    "                                       linestyle='--'\n",
    "                                      ))\n",
    "        ax.text(x=start + (stop - start) / 2,\n",
    "                y=0.5,\n",
    "                s=lab,\n",
    "                ha='center',\n",
    "                va='center',\n",
    "                fontweight='bold',\n",
    "                fontsize=7,\n",
    "                rotation=90,)\n",
    "    ax.spines['right'].set_visible(False)\n",
    "    ax.spines['top'].set_visible(False)\n",
    "    ax.spines['left'].set_visible(False)\n",
    "    ax.spines['bottom'].set_visible(False)\n",
    "    \n",
    "    ax.spines['bottom'].set_position(('data', 0.5 - height / 2))\n",
    "    ax.set_xticks([1] + [i for ij in domain_pos for i in ij] + [seq_len])\n",
    "    ax.xaxis.set_tick_params(rotation=90)\n",
    "    \n",
    "    ax.set_yticks([])\n",
    "    if protein_name is not None:\n",
    "        ax.text(x=-0.5,\n",
    "                y=0.5,\n",
    "                s=protein_name,\n",
    "                horizontalalignment='right',\n",
    "                verticalalignment='center')\n",
    "\n",
    "    \n",
    "\n",
    "#iso_id = 'PKNOX1|1/4|11H11'\n",
    "gene = 'TCF4'\n",
    "iso_id = iso.loc[iso['gene'] == gene, 'clone_acc'].iloc[0]\n",
    "#gene = iso_id.split('|')[0]\n",
    "num_aa = iso.loc[iso['clone_acc'] == iso_id, 'aa_seq'].str.len().values[0]\n",
    "\n",
    "\n",
    "pos = list(remapped.loc[remapped['clone_acc'] == iso_id, ['start', 'end']].values)\n",
    "pos += list(dbd.loc[dbd['isoacc'] == iso_id, ['dom_start_idx', 'dom_end_idx']].values)\n",
    "\n",
    "labs = remapped.loc[remapped['clone_acc'] == iso_id, 'reg_dom_id'].map(doms['type']).to_list()\n",
    "labs += dbd.loc[dbd['isoacc'] == iso_id, 'dbd_name'].to_list()\n",
    "\n",
    "\n",
    "dom_colors = {'Activation': 'orange',\n",
    "              'Repression': 'lightblue',\n",
    "              'bHLH': 'lightgreen'}\n",
    "# {k: 'lightgreen' for k in dbd['dbd_name'].unique()}\n",
    "fig, axes = plt.subplots(2, 1)#sharex=True)\n",
    "fig.set_size_inches(8, 6)\n",
    "domain_fig(num_aa, \n",
    "           pos, \n",
    "           labs,\n",
    "           colors=[dom_colors.get(lab, 'lightgreen') for lab in labs],\n",
    "           protein_name=isoform_display_name(iso_id),\n",
    "           ax=axes[1])\n",
    "# try plotting next to exon structure\n",
    "isoform_box_and_line_drawing(gene, \n",
    "                             iso.loc[iso['gene'] == gene, 'clone_acc'].unique(),\n",
    "                             ax=axes[0])\n",
    "# TCF4 is a difficult example because there are insertions and deletions....\n",
    "# Get other PFam domains\n",
    "# check why HEY2|2/2|05C07 gives error\n",
    "# get the ZF domains"
   ]
  },
  {
   "cell_type": "code",
   "execution_count": null,
   "metadata": {},
   "outputs": [],
   "source": []
  }
 ],
 "metadata": {
  "kernelspec": {
   "display_name": "Python 3",
   "language": "python",
   "name": "python3"
  },
  "language_info": {
   "codemirror_mode": {
    "name": "ipython",
    "version": 3
   },
   "file_extension": ".py",
   "mimetype": "text/x-python",
   "name": "python",
   "nbconvert_exporter": "python",
   "pygments_lexer": "ipython3",
   "version": "3.8.3-final"
  }
 },
 "nbformat": 4,
 "nbformat_minor": 2
}