{
 "cells": [
  {
   "cell_type": "code",
   "execution_count": 1,
   "metadata": {},
   "outputs": [],
   "source": [
    "# python 3.7.4 used on the HMS RC machine to generate the files\n",
    "\n",
    "\n",
    "# find what model is top ranked\n",
    "# improve ticks\n",
    "\n",
    "import pickle\n",
    "import json\n",
    "from pathlib import Path\n",
    "\n",
    "from matplotlib import pyplot as plt\n",
    "\n",
    "data_dir = Path('../../data/internal/alphafold/complexes/')\n",
    "for pair_dir in data_dir.iterdir():\n",
    "    out_path = Path('../../figures/alphafold/complexes/{}_predicted-aligned-error.pdf'.format(pair_dir.stem))\n",
    "    if out_path.exists():\n",
    "            continue\n",
    "    ranking_path = pair_dir / 'ranking_debug.json'\n",
    "    if not ranking_path.exists():\n",
    "        continue\n",
    "    with open(ranking_path, 'r') as f:\n",
    "        ranking = json.load(f)\n",
    "    with open(pair_dir / 'result_{}.pkl'.format(ranking['order'][0]), 'rb') as f:\n",
    "        data = pickle.load(f)\n",
    "    with open(pair_dir / 'msas/chain_id_map.json', 'r') as f:\n",
    "        aa_seqs = json.load(f)\n",
    "\n",
    "    fig, ax = plt.subplots(1, 1)\n",
    "    im = ax.imshow(data['predicted_aligned_error'])\n",
    "    cbar = ax.figure.colorbar(im, ax=ax, label='Predicted aligned error (Angstroms)')\n",
    "    ax.axvline(x=len(aa_seqs['A']['sequence']) - 0.5,\n",
    "            color='black')\n",
    "    ax.axhline(y=len(aa_seqs['A']['sequence']) - 0.5,\n",
    "            color='black')\n",
    "    pad = ax.get_xlim()[1] * 0.1\n",
    "    ax.text(s=aa_seqs['A']['description'],\n",
    "            x=len(aa_seqs['A']['sequence']) / 2,\n",
    "            y=ax.get_ylim()[0] + pad,\n",
    "            ha='center',\n",
    "            va='top')\n",
    "    ax.text(s=aa_seqs['B']['description'],\n",
    "            x=len(aa_seqs['A']['sequence']) + len(aa_seqs['B']['sequence']) / 2,\n",
    "            y=ax.get_ylim()[0] + pad,\n",
    "            ha='center',\n",
    "            va='top')\n",
    "    ax.text(s=aa_seqs['A']['description'],\n",
    "            y=len(aa_seqs['A']['sequence']) / 2,\n",
    "            x=ax.get_xlim()[0] - pad,\n",
    "            rotation=90,\n",
    "            va='center',\n",
    "            ha='right')\n",
    "    ax.text(s=aa_seqs['B']['description'],\n",
    "            y=len(aa_seqs['A']['sequence']) + len(aa_seqs['B']['sequence']) / 2,\n",
    "            x=ax.get_xlim()[0] - pad,\n",
    "            rotation=90,\n",
    "            va='center',\n",
    "            ha='right')\n",
    "    fig.savefig(out_path, bbox_inches='tight')\n",
    "    plt.close(fig)"
   ]
  }
 ],
 "metadata": {
  "interpreter": {
   "hash": "31f2aee4e71d21fbe5cf8b01ff0e069b9275f58929596ceb00d14d90e3e16cd6"
  },
  "kernelspec": {
   "display_name": "Python 3.7.3 64-bit",
   "language": "python",
   "name": "python3"
  },
  "language_info": {
   "codemirror_mode": {
    "name": "ipython",
    "version": 3
   },
   "file_extension": ".py",
   "mimetype": "text/x-python",
   "name": "python",
   "nbconvert_exporter": "python",
   "pygments_lexer": "ipython3",
   "version": "3.7.4"
  },
  "orig_nbformat": 4
 },
 "nbformat": 4,
 "nbformat_minor": 2
}
