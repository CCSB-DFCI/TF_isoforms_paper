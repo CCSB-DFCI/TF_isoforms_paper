{
 "metadata": {
  "language_info": {
   "codemirror_mode": {
    "name": "ipython",
    "version": 3
   },
   "file_extension": ".py",
   "mimetype": "text/x-python",
   "name": "python",
   "nbconvert_exporter": "python",
   "pygments_lexer": "ipython3",
   "version": "3.8.3-final"
  },
  "orig_nbformat": 2,
  "kernelspec": {
   "name": "python38364bitvenvvenv8d959dfbae174ba78d0e283141c7bb6d",
   "display_name": "Python 3.8.3 64-bit ('venv': venv)"
  }
 },
 "nbformat": 4,
 "nbformat_minor": 2,
 "cells": [
  {
   "cell_type": "code",
   "execution_count": 2,
   "metadata": {},
   "outputs": [],
   "source": [
    "import pandas as pd"
   ]
  },
  {
   "cell_type": "code",
   "execution_count": 3,
   "metadata": {},
   "outputs": [],
   "source": [
    "from data_loading import load_valid_isoform_clones"
   ]
  },
  {
   "cell_type": "code",
   "execution_count": 4,
   "metadata": {},
   "outputs": [],
   "source": [
    "iso = load_valid_isoform_clones()"
   ]
  },
  {
   "cell_type": "code",
   "execution_count": 6,
   "metadata": {},
   "outputs": [
    {
     "output_type": "execute_result",
     "data": {
      "text/plain": "310"
     },
     "metadata": {},
     "execution_count": 6
    }
   ],
   "source": [
    "iso['gene'].nunique()"
   ]
  },
  {
   "cell_type": "code",
   "execution_count": 7,
   "metadata": {},
   "outputs": [],
   "source": [
    "df = pd.read_csv('/Users/lukelambourne/Downloads/cancer_gene_census.csv')"
   ]
  },
  {
   "cell_type": "code",
   "execution_count": 8,
   "metadata": {},
   "outputs": [
    {
     "output_type": "execute_result",
     "data": {
      "text/plain": "{'CREB1',\n 'CTCF',\n 'DDIT3',\n 'EBF1',\n 'ELK4',\n 'ETV4',\n 'ETV6',\n 'FLI1',\n 'FOXO3',\n 'GATA1',\n 'GATA2',\n 'GATA3',\n 'GLI1',\n 'HEY1',\n 'HIF1A',\n 'HMGA1',\n 'HOXA9',\n 'KLF4',\n 'KLF6',\n 'LEF1',\n 'MAX',\n 'MITF',\n 'NFE2L2',\n 'PATZ1',\n 'PAX5',\n 'PAX7',\n 'PAX8',\n 'PBX1',\n 'POU5F1',\n 'PPARG',\n 'PRDM16',\n 'PRRX1',\n 'RARA',\n 'REL',\n 'RUNX1',\n 'SIX1',\n 'SMAD3',\n 'SMAD4',\n 'STAT3',\n 'TCF12',\n 'TCF7L2',\n 'TP53',\n 'TP63',\n 'WT1',\n 'ZBTB16'}"
     },
     "metadata": {},
     "execution_count": 8
    }
   ],
   "source": [
    "cgc = set(df['Gene Symbol'].unique())\n",
    "cgc.intersection(set(iso['gene'].unique()))"
   ]
  },
  {
   "cell_type": "code",
   "execution_count": 9,
   "metadata": {},
   "outputs": [
    {
     "output_type": "execute_result",
     "data": {
      "text/plain": "  Gene Symbol                                               Name  \\\n0        A1CF                     APOBEC1 complementation factor   \n1        ABI1                                   abl-interactor 1   \n2        ABL1  v-abl Abelson murine leukemia viral oncogene h...   \n3        ABL2     c-abl oncogene 2, non-receptor tyrosine kinase   \n4       ACKR3                      atypical chemokine receptor 3   \n\n   Entrez GeneId        Genome Location  Tier Hallmark  Chr Band Somatic  \\\n0        29974.0   10:50799421-50885675     2      NaN     11.23     yes   \n1        10006.0   10:26746593-26860935     1      Yes     12.10     yes   \n2           25.0  9:130713946-130885683     1      Yes     34.12     yes   \n3           27.0  1:179099327-179229601     1      NaN     25.20     yes   \n4        57007.0  2:236569641-236582358     1      Yes     37.30     yes   \n\n  Germline Tumour Types(Somatic) Tumour Types(Germline) Cancer Syndrome  \\\n0      NaN              melanoma                    NaN             NaN   \n1      NaN                   AML                    NaN             NaN   \n2      NaN       CML, ALL, T-ALL                    NaN             NaN   \n3      NaN                   AML                    NaN             NaN   \n4      NaN                lipoma                    NaN             NaN   \n\n  Tissue Type Molecular Genetics    Role in Cancer Mutation Types  \\\n0           E                NaN          oncogene            Mis   \n1           L                Dom       TSG, fusion              T   \n2           L                Dom  oncogene, fusion         T, Mis   \n3           L                Dom  oncogene, fusion              T   \n4           M                Dom  oncogene, fusion              T   \n\n  Translocation Partner Other Germline Mut Other Syndrome  \\\n0                   NaN                NaN            NaN   \n1                 KMT2A                NaN            NaN   \n2     BCR, ETV6, NUP214                NaN            NaN   \n3                  ETV6                NaN            NaN   \n4                 HMGA2                NaN            NaN   \n\n                                            Synonyms  \n0  29974,A1CF,ACF,ACF64,ACF65,APOBEC1CF,ASP,ENSG0...  \n1  10006,ABI-1,ABI1,E3B1,ENSG00000136754.17,Q8IZP...  \n2  25,ABL,ABL1,ENSG00000097007.17,JTK7,P00519,c-A...  \n3         27,ABL2,ABLL,ARG,ENSG00000143322.19,P42684  \n4  57007,ACKR3,CMKOR1,CXCR7,ENSG00000144476.5,GPR...  ",
      "text/html": "<div>\n<style scoped>\n    .dataframe tbody tr th:only-of-type {\n        vertical-align: middle;\n    }\n\n    .dataframe tbody tr th {\n        vertical-align: top;\n    }\n\n    .dataframe thead th {\n        text-align: right;\n    }\n</style>\n<table border=\"1\" class=\"dataframe\">\n  <thead>\n    <tr style=\"text-align: right;\">\n      <th></th>\n      <th>Gene Symbol</th>\n      <th>Name</th>\n      <th>Entrez GeneId</th>\n      <th>Genome Location</th>\n      <th>Tier</th>\n      <th>Hallmark</th>\n      <th>Chr Band</th>\n      <th>Somatic</th>\n      <th>Germline</th>\n      <th>Tumour Types(Somatic)</th>\n      <th>Tumour Types(Germline)</th>\n      <th>Cancer Syndrome</th>\n      <th>Tissue Type</th>\n      <th>Molecular Genetics</th>\n      <th>Role in Cancer</th>\n      <th>Mutation Types</th>\n      <th>Translocation Partner</th>\n      <th>Other Germline Mut</th>\n      <th>Other Syndrome</th>\n      <th>Synonyms</th>\n    </tr>\n  </thead>\n  <tbody>\n    <tr>\n      <th>0</th>\n      <td>A1CF</td>\n      <td>APOBEC1 complementation factor</td>\n      <td>29974.0</td>\n      <td>10:50799421-50885675</td>\n      <td>2</td>\n      <td>NaN</td>\n      <td>11.23</td>\n      <td>yes</td>\n      <td>NaN</td>\n      <td>melanoma</td>\n      <td>NaN</td>\n      <td>NaN</td>\n      <td>E</td>\n      <td>NaN</td>\n      <td>oncogene</td>\n      <td>Mis</td>\n      <td>NaN</td>\n      <td>NaN</td>\n      <td>NaN</td>\n      <td>29974,A1CF,ACF,ACF64,ACF65,APOBEC1CF,ASP,ENSG0...</td>\n    </tr>\n    <tr>\n      <th>1</th>\n      <td>ABI1</td>\n      <td>abl-interactor 1</td>\n      <td>10006.0</td>\n      <td>10:26746593-26860935</td>\n      <td>1</td>\n      <td>Yes</td>\n      <td>12.10</td>\n      <td>yes</td>\n      <td>NaN</td>\n      <td>AML</td>\n      <td>NaN</td>\n      <td>NaN</td>\n      <td>L</td>\n      <td>Dom</td>\n      <td>TSG, fusion</td>\n      <td>T</td>\n      <td>KMT2A</td>\n      <td>NaN</td>\n      <td>NaN</td>\n      <td>10006,ABI-1,ABI1,E3B1,ENSG00000136754.17,Q8IZP...</td>\n    </tr>\n    <tr>\n      <th>2</th>\n      <td>ABL1</td>\n      <td>v-abl Abelson murine leukemia viral oncogene h...</td>\n      <td>25.0</td>\n      <td>9:130713946-130885683</td>\n      <td>1</td>\n      <td>Yes</td>\n      <td>34.12</td>\n      <td>yes</td>\n      <td>NaN</td>\n      <td>CML, ALL, T-ALL</td>\n      <td>NaN</td>\n      <td>NaN</td>\n      <td>L</td>\n      <td>Dom</td>\n      <td>oncogene, fusion</td>\n      <td>T, Mis</td>\n      <td>BCR, ETV6, NUP214</td>\n      <td>NaN</td>\n      <td>NaN</td>\n      <td>25,ABL,ABL1,ENSG00000097007.17,JTK7,P00519,c-A...</td>\n    </tr>\n    <tr>\n      <th>3</th>\n      <td>ABL2</td>\n      <td>c-abl oncogene 2, non-receptor tyrosine kinase</td>\n      <td>27.0</td>\n      <td>1:179099327-179229601</td>\n      <td>1</td>\n      <td>NaN</td>\n      <td>25.20</td>\n      <td>yes</td>\n      <td>NaN</td>\n      <td>AML</td>\n      <td>NaN</td>\n      <td>NaN</td>\n      <td>L</td>\n      <td>Dom</td>\n      <td>oncogene, fusion</td>\n      <td>T</td>\n      <td>ETV6</td>\n      <td>NaN</td>\n      <td>NaN</td>\n      <td>27,ABL2,ABLL,ARG,ENSG00000143322.19,P42684</td>\n    </tr>\n    <tr>\n      <th>4</th>\n      <td>ACKR3</td>\n      <td>atypical chemokine receptor 3</td>\n      <td>57007.0</td>\n      <td>2:236569641-236582358</td>\n      <td>1</td>\n      <td>Yes</td>\n      <td>37.30</td>\n      <td>yes</td>\n      <td>NaN</td>\n      <td>lipoma</td>\n      <td>NaN</td>\n      <td>NaN</td>\n      <td>M</td>\n      <td>Dom</td>\n      <td>oncogene, fusion</td>\n      <td>T</td>\n      <td>HMGA2</td>\n      <td>NaN</td>\n      <td>NaN</td>\n      <td>57007,ACKR3,CMKOR1,CXCR7,ENSG00000144476.5,GPR...</td>\n    </tr>\n  </tbody>\n</table>\n</div>"
     },
     "metadata": {},
     "execution_count": 9
    }
   ],
   "source": [
    "df.head()"
   ]
  },
  {
   "cell_type": "code",
   "execution_count": 10,
   "metadata": {},
   "outputs": [],
   "source": [
    "df = df.loc[df['Gene Symbol'].isin(iso['gene'].unique()),\n",
    "            ['Gene Symbol',\n",
    "            'Tumour Types(Somatic)',\n",
    "            'Tissue Type',\n",
    "            'Molecular Genetics', 'Role in Cancer', 'Mutation Types']]"
   ]
  },
  {
   "cell_type": "code",
   "execution_count": 11,
   "metadata": {},
   "outputs": [
    {
     "output_type": "execute_result",
     "data": {
      "text/plain": "(45, 6)"
     },
     "metadata": {},
     "execution_count": 11
    }
   ],
   "source": [
    "df.shape"
   ]
  },
  {
   "cell_type": "code",
   "execution_count": 12,
   "metadata": {},
   "outputs": [],
   "source": [
    "df['n_cloned_isoforms'] = df['Gene Symbol'].map(iso.groupby('gene').size())"
   ]
  },
  {
   "cell_type": "code",
   "execution_count": 13,
   "metadata": {},
   "outputs": [],
   "source": [
    "df['has_novel_isoform'] = df['Gene Symbol'].map(iso.groupby('gene')['is_novel_isoform'].any())"
   ]
  },
  {
   "cell_type": "code",
   "execution_count": 16,
   "metadata": {},
   "outputs": [],
   "source": [
    "# add has useful \n",
    "df.loc[df['n_cloned_isoforms'] >= 2, :].to_csv('/Users/lukelambourne/Desktop/tmp.csv', index=False)"
   ]
  },
  {
   "cell_type": "code",
   "execution_count": 17,
   "metadata": {},
   "outputs": [
    {
     "output_type": "execute_result",
     "data": {
      "text/plain": "36"
     },
     "metadata": {},
     "execution_count": 17
    }
   ],
   "source": [
    "(df['n_cloned_isoforms'] >= 2).sum()"
   ]
  },
  {
   "cell_type": "code",
   "execution_count": null,
   "metadata": {},
   "outputs": [],
   "source": []
  }
 ]
}