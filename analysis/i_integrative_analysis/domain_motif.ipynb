{
 "cells": [
  {
   "cell_type": "markdown",
   "metadata": {},
   "source": [
    "## TODO\n",
    "\n",
    "- Are there N/C terminal regexes that are not matching correctly?\n",
    "- Do I require each isoform has at least one PPI?\n",
    "- vizualize motifs"
   ]
  },
  {
   "cell_type": "code",
   "execution_count": 1,
   "metadata": {},
   "outputs": [],
   "source": [
    "import re\n",
    "\n",
    "import numpy as np\n",
    "import pandas as pd\n",
    "\n",
    "from ccsblib import huri\n",
    "\n",
    "from data_loading import (load_isoform_and_paralog_y2h_data,\n",
    "                          load_valid_isoform_clones,\n",
    "                          load_annotated_6k_collection)\n",
    "\n",
    "pd.set_option('display.max_columns', 100)"
   ]
  },
  {
   "cell_type": "code",
   "execution_count": 2,
   "metadata": {
    "tags": []
   },
   "outputs": [
    {
     "output_type": "stream",
     "name": "stdout",
     "text": "Saving time\n"
    }
   ],
   "source": [
    "pfam = huri.load_pfam_domains()\n",
    "dlm = pd.read_csv('../../data/external/elm_interaction_domains.tsv',\n",
    "                  sep='\\t')\n",
    "elm = pd.read_csv('../../data/external/elm_classes.tsv', header=0, comment='#', sep='\\t')\n",
    "orfs_with_slim_dom = pfam.loc[pfam['pfam_accession'].isin(dlm['Interaction Domain Id']),\n",
    "                              'orf_id'].unique()\n",
    "ppi = load_isoform_and_paralog_y2h_data()\n",
    "ppi = ppi.loc[ppi['category'] == 'tf_isoform_ppis', :]\n",
    "ppi['gene_level_pair'] = ppi['ad_gene_symbol'] + '_' + ppi['db_gene_symbol']\n",
    "ppi['ad_iso_id'] = ppi['ad_clone_acc'].apply(lambda x: x.split('|')[0] + '-' + x.split('|')[1].split('/')[0])\n",
    "# dropping gene with insertion relative to reference geneome\n",
    "ppi = ppi.loc[~(ppi['ad_gene_symbol'] == 'PCGF6'), :]\n",
    "iso = load_valid_isoform_clones()\n",
    "iso = iso.set_index('clone_acc')\n",
    "tfs = load_annotated_6k_collection()"
   ]
  },
  {
   "cell_type": "code",
   "execution_count": 3,
   "metadata": {
    "tags": []
   },
   "outputs": [
    {
     "output_type": "stream",
     "name": "stdout",
     "text": "1825 gene level PPIs\n511 gene level PPIs involving motif binding domain\n"
    }
   ],
   "source": [
    "print(ppi.loc[:, ['ad_gene_symbol', 'db_gene_symbol']].drop_duplicates().shape[0],\n",
    "      'gene level PPIs')\n",
    "print(ppi.loc[ppi['db_orf_id'].isin(orfs_with_slim_dom),\n",
    "              ['ad_gene_symbol', 'db_gene_symbol']].drop_duplicates().shape[0],\n",
    "      'gene level PPIs involving motif binding domain')"
   ]
  },
  {
   "cell_type": "code",
   "execution_count": 4,
   "metadata": {
    "tags": []
   },
   "outputs": [
    {
     "output_type": "stream",
     "name": "stdout",
     "text": "212 gene-level PPIs where partner has SLiM binding domain and some isoforms bind and some dont\ninvolving 56 TF genes\n"
    }
   ],
   "source": [
    "dom_slim_ppi = set(ppi.loc[ppi['db_orf_id'].isin(orfs_with_slim_dom),\n",
    "                       'gene_level_pair'].unique())\n",
    "pos_ppi = set(ppi.loc[(ppi['score'] == '1'), 'gene_level_pair'].unique())\n",
    "neg_ppi = set(ppi.loc[(ppi['score'] == '0'), 'gene_level_pair'].unique())\n",
    "diff_slim_ppi = dom_slim_ppi.intersection(pos_ppi.intersection(neg_ppi))\n",
    "print(len(diff_slim_ppi), \n",
    "      'gene-level PPIs where partner has SLiM binding domain and some isoforms bind and some dont')\n",
    "print('involving {} TF genes'.format(len({p.split('_')[0] for p in diff_slim_ppi})))"
   ]
  },
  {
   "cell_type": "code",
   "execution_count": 5,
   "metadata": {
    "tags": []
   },
   "outputs": [],
   "source": [
    "def match_elm_motifs(orfs, elm):\n",
    "    \"\"\"Take the ELM motifs file and match the regex to given aa seqs\n",
    "    Args:\n",
    "        orfs (Series): amino acid sequences indexed by ORF ID\n",
    "    Returns:\n",
    "        DataFrame: one row for each seperate match of a motif to an ORF\n",
    "    \"\"\"\n",
    "    motifs = []\n",
    "    for elmIdx, elmRow in elm.iterrows():\n",
    "        # inserting ?: to make groups non-capture\n",
    "        motifMatches = orfs.str.findall(elmRow['Regex'].replace('(', '(?:'))\n",
    "        for orfID, matches in zip(motifMatches.index, motifMatches.values):\n",
    "            for match in matches:\n",
    "                start = orfs.loc[orfID].find(match)\n",
    "                # switch from 0 to 1-based indexing\n",
    "                motifs.append((orfID,\n",
    "                               elmRow['Accession'],\n",
    "                               elmRow['ELMIdentifier'],\n",
    "                               start + 1,\n",
    "                               start + len(match)))\n",
    "    motifs = pd.DataFrame(data=motifs,\n",
    "                          columns=('orf_id', 'region_id', 'ELM_ID', 'start', 'end'))\n",
    "    motifs['source'] = 'ELM_prediction'\n",
    "    motifs['type'] = 'SLiM'\n",
    "    return motifs\n",
    "\n",
    "\n",
    "slims = match_elm_motifs(iso['aa_seq'], elm)"
   ]
  },
  {
   "cell_type": "code",
   "execution_count": 6,
   "metadata": {
    "tags": []
   },
   "outputs": [],
   "source": [
    "def isoform_specific_regions(gene_name):\n",
    "    \"\"\"The name is a bit misleading because it's not specific to one isoform but just\n",
    "       not common to all isoforms.\n",
    "\n",
    "    Returns: dict(frozenset: list(str)): isoform IDs and list of contiguous AA sequences\n",
    "                                         that map to them only \n",
    "\n",
    "    \"\"\"\n",
    "    if gene_name not in tfs:\n",
    "        raise UserWarning(gene_name + ' not found')\n",
    "    algn = tfs[gene_name].genomic_alignment_of_aa_seqs()\n",
    "    subset_prev = None\n",
    "    isr = {}\n",
    "    len_algn = len(list(algn.values())[0])\n",
    "    for i in range(len_algn):\n",
    "        subset = frozenset({k for k, v in algn.items() if v[i] != '-'})\n",
    "        if subset_prev is None:\n",
    "            if (len(subset) < len(algn)) and (len(subset) > 0):\n",
    "                start = i\n",
    "                subset_prev = subset\n",
    "        else:\n",
    "            if subset != subset_prev or i == len_algn - 1:\n",
    "                if (len(subset_prev) < len(algn)) and (len(subset_prev) > 0):\n",
    "                    subseq = (algn[list(subset_prev)[0]][start:i], start, i)\n",
    "                    isr[subset_prev] = isr.get(subset_prev, []) + [subseq]\n",
    "                start = i\n",
    "                subset_prev = subset\n",
    "    merged = {}\n",
    "    for iso_subset, subseqs in isr.items():\n",
    "        merged[iso_subset] = []\n",
    "        prev_end = np.inf\n",
    "        prev_subseq = ''\n",
    "        for subseq, start, end in subseqs:\n",
    "            if start <= prev_end + 2:\n",
    "                prev_subseq += subseq\n",
    "                prev_end = end\n",
    "            else:\n",
    "                if prev_subseq != '':\n",
    "                    merged[iso_subset].append(prev_subseq)\n",
    "                prev_subseq = subseq\n",
    "                prev_end = end\n",
    "        merged[iso_subset].append(prev_subseq)\n",
    "    merged\n",
    "    return merged\n",
    "\n",
    "\n",
    "def ppi_tf_gene(data, gene_name):\n",
    "    tf = data.loc[(data['category'] == 'tf_isoform_ppis') &\n",
    "                (data['ad_gene_symbol'] == gene_name),\n",
    "                ['ad_iso_id', 'db_gene_symbol', 'score']].copy()\n",
    "    tf['score'] = tf['score'].map({'1': True,\n",
    "                               '0': False,\n",
    "                               'AA': np.nan,\n",
    "                               'NC': np.nan})\n",
    "    tf = tf.pivot(index='ad_iso_id',\n",
    "                  columns='db_gene_symbol',\n",
    "                  values='score')\n",
    "    return tf\n",
    "\n",
    "\n",
    "def ppi_linked_isoform_specific_regions(ppi_data, gene_name):\n",
    "    \"\"\"\n",
    "    For now, do not use cases where there are missing values\n",
    "    \"\"\"\n",
    "    isr = isoform_specific_regions(gene_name)\n",
    "    ppi = ppi_tf_gene(ppi_data, gene_name)\n",
    "    ppi_isr = {}\n",
    "    ppi_iso = {partner: set(ppi.index[ppi[partner]])\n",
    "               for partner in ppi.columns\n",
    "               if ppi[partner].notnull().all()}\n",
    "    for partner, ppi_iso_subset in ppi_iso.items():\n",
    "        for isr_subset, aa_seqs in isr.items():\n",
    "            if ppi_iso_subset == isr_subset:\n",
    "                ppi_isr[partner] = (isr_subset, aa_seqs)\n",
    "    return ppi_isr"
   ]
  },
  {
   "cell_type": "code",
   "execution_count": 7,
   "metadata": {},
   "outputs": [],
   "source": [
    "slim_binding_domains = pd.merge(pfam,\n",
    "                                dlm,\n",
    "                                how='inner',\n",
    "                                left_on='pfam_accession',\n",
    "                                right_on='Interaction Domain Id')\n",
    "slim_binding_domains = pd.merge(slim_binding_domains,\n",
    "                                ppi,\n",
    "                                how='inner',\n",
    "                                left_on='orf_id',\n",
    "                                right_on='db_orf_id')\n",
    "slim_ppis = slim_binding_domains.loc[:, ['ad_gene_symbol', \n",
    "                                        'db_gene_symbol',\n",
    "                                        'pfam_accession',\n",
    "                                        'domain_name',\n",
    "                                        'domain_description',\n",
    "                                        'ELM identifier']].drop_duplicates()\n",
    "ppi_isr = {}\n",
    "for gene_name in slim_ppis['ad_gene_symbol'].unique():\n",
    "    ppi_isr[gene_name] = ppi_linked_isoform_specific_regions(ppi, gene_name)\n",
    "slim_ppis = slim_ppis.loc[slim_ppis.apply(lambda x: x['db_gene_symbol'] in ppi_isr[x    ['ad_gene_symbol']],\n",
    "                              axis=1),\n",
    "              :]\n",
    "slim_ppis['aa_seq_isr'] = slim_ppis.apply(lambda x: ppi_isr[x['ad_gene_symbol']][x['db_gene_symbol']][1], axis=1)"
   ]
  },
  {
   "cell_type": "code",
   "execution_count": 8,
   "metadata": {
    "tags": []
   },
   "outputs": [
    {
     "output_type": "stream",
     "name": "stdout",
     "text": "Missing ELM entry for:  MOD_PLK\nMissing ELM entry for:  MOD_PLK\nMissing ELM entry for:  MOD_PLK\nMissing ELM entry for:  MOD_PLK\nMissing ELM entry for:  MOD_PLK\nMissing ELM entry for:  LIG_CaM_1-26_7\nMissing ELM entry for:  LIG_CaM_1-17_6\nMissing ELM entry for:  LIG_CaM_1-8-9-10_5\nMissing ELM entry for:  LIG_CaM_1-8-14_4\nMissing ELM entry for:  LIG_CaM_1-5-10-14_3\nMissing ELM entry for:  LIG_CaM_1-8_REV_2\nMissing ELM entry for:  LIG_CaM_1-14-15-16_REV_1\nMissing ELM entry for:  LIG_CaM_1-26_7\nMissing ELM entry for:  LIG_CaM_1-17_6\nMissing ELM entry for:  LIG_CaM_1-8-9-10_5\nMissing ELM entry for:  LIG_CaM_1-8-14_4\nMissing ELM entry for:  LIG_CaM_1-5-10-14_3\nMissing ELM entry for:  LIG_CaM_1-8_REV_2\nMissing ELM entry for:  LIG_CaM_1-14-15-16_REV_1\nMissing ELM entry for:  MOD_PLK\nMissing ELM entry for:  MOD_PLK\nMissing ELM entry for:  MOD_PLK\nMissing ELM entry for:  MOD_PLK\nMissing ELM entry for:  MOD_PLK\nMissing ELM entry for:  MOD_PLK\nMissing ELM entry for:  MOD_PLK\nMissing ELM entry for:  MOD_PLK\nMissing ELM entry for:  MOD_PLK\nMissing ELM entry for:  MOD_PLK\nMissing ELM entry for:  MOD_PLK\nMissing ELM entry for:  MOD_PLK\nMissing ELM entry for:  MOD_PLK\nMissing ELM entry for:  MOD_PLK\nMissing ELM entry for:  MOD_PLK\nMissing ELM entry for:  MOD_PLK\n"
    }
   ],
   "source": [
    "def isr_contains_slim(row):\n",
    "    # inserting ?: to make groups non-capture\n",
    "    if row['ELM identifier'] not in elm['ELMIdentifier'].values:\n",
    "        #raise UserWarning('Missing ELM entry for: ', row['ELM identifier'])\n",
    "        print('Missing ELM entry for: ', row['ELM identifier'])\n",
    "        return False\n",
    "    regex = elm.loc[elm['ELMIdentifier'] == row['ELM identifier'], 'Regex'].values[0].replace('(', '(?:')\n",
    "    return any(bool(re.search(regex, aa_seq)) for aa_seq in row['aa_seq_isr'])\n",
    "\n",
    "\n",
    "slim_ppis['slim_match'] = slim_ppis.apply(isr_contains_slim, axis=1)"
   ]
  },
  {
   "cell_type": "code",
   "execution_count": 9,
   "metadata": {},
   "outputs": [],
   "source": [
    "# count inside region, count outside region...\n",
    "slim_ppis['aa_seq_ref_iso'] = slim_ppis['ad_gene_symbol'].apply(lambda x: tfs[x].orfs[0].aa_seq)\n",
    "slim_ppis['regex'] = slim_ppis['ELM identifier'].map(elm[['ELMIdentifier', 'Regex']]\n",
    "                                                        .drop_duplicates()\n",
    "                                                        .set_index('ELMIdentifier')\n",
    "                                                        ['Regex'].str.replace('(', '(?:'))\n",
    "# TODO: fix missing regex.\n",
    "#       Difficult because they don't appear on the website\n",
    "#       or in the list of (e.g. MOD_PLK). I should email\n",
    "#       the ELM people.\n",
    "slim_ppis = slim_ppis.dropna(subset=['regex'])\n",
    "slim_ppis['match_count_ref_iso'] = slim_ppis.apply(lambda x: len(re.findall(x['regex'], x['aa_seq_ref_iso'])),\n",
    "                axis=1)\n",
    "slim_ppis['match_count_isr'] = slim_ppis.apply(lambda x: sum(len(re.findall(x['regex'], s)) for s in x['aa_seq_isr']),\n",
    "                axis=1)\n",
    "slim_ppis['aa_seq_len_ref_iso'] = slim_ppis['aa_seq_ref_iso'].str.len()\n",
    "slim_ppis['isr_len'] = slim_ppis['aa_seq_isr'].apply(lambda x: sum(len(s) for s in x))\n",
    "slim_ppis['motif_probability'] = slim_ppis['ELM identifier'].map(elm.set_index('ELMIdentifier')['Probability'])"
   ]
  },
  {
   "cell_type": "code",
   "execution_count": 53,
   "metadata": {},
   "outputs": [
    {
     "output_type": "execute_result",
     "data": {
      "text/plain": "ad_gene_symbol  db_gene_symbol\nATF2            MAPK9              7\nCREB5           MAPK9             20\nCREBZF          HCFC1              1\n                RALBP1             0\nESRRA           VAX1               0\nESRRG           NR0B2              0\nFOS             PIN1               4\nFOSB            HOMER3             2\n                PRKAA2            14\nFOXJ2           CSTF2T             0\nFOXN4           HOXC8              0\n                PIN1               3\n                PRKAA2            15\nFOXP2           CTBP2              1\n                LNX1               1\n                PIN1               7\n                RNF8               3\n                SDCBP              1\nHMBOX1          ASB7               0\n                CDK18              2\n                UBE2Z              1\n                VAX1               0\nHOXA1           PCSK5             10\nIKZF2           ARHGEF5            0\n                CDC7               5\n                CTBP2              0\n                HMBOX1             0\n                RUNX1T1            0\n                TXK                0\n                VAX1               0\nName: match_count_isr, dtype: int64"
     },
     "metadata": {},
     "execution_count": 53
    }
   ],
   "source": [
    "slim_ppis.groupby(['ad_gene_symbol', 'db_gene_symbol'])['match_count_isr'].sum().head(30)"
   ]
  },
  {
   "cell_type": "code",
   "execution_count": 16,
   "metadata": {},
   "outputs": [
    {
     "output_type": "execute_result",
     "data": {
      "text/plain": "False    88\nTrue     38\nName: match_count_isr, dtype: int64"
     },
     "metadata": {},
     "execution_count": 16
    }
   ],
   "source": [
    "# per ISR / domain, how many get a match\n",
    "(slim_ppis.groupby(['ad_gene_symbol', 'db_gene_symbol'])['match_count_isr'].sum() > 0).value_counts()"
   ]
  },
  {
   "cell_type": "code",
   "execution_count": 54,
   "metadata": {},
   "outputs": [
    {
     "output_type": "execute_result",
     "data": {
      "text/plain": "    ad_gene_symbol db_gene_symbol pfam_accession domain_name  \\\n0             TCF4           KLC3        PF00515       TPR_1   \n8             TCF4           KLC3        PF00515       TPR_1   \n16            TCF4           KLC3        PF00515       TPR_1   \n24            TCF4           KLC3        PF00515       TPR_1   \n545           TCF4         BARHL2        PF00046    Homeobox   \n\n           domain_description   ELM identifier  \\\n0    Tetratricopeptide repeat          LIG_TPR   \n8    Tetratricopeptide repeat         TRG_PTS1   \n16   Tetratricopeptide repeat  LIG_APCC_Cbox_2   \n24   Tetratricopeptide repeat  LIG_APCC_Cbox_1   \n545           Homeobox domain     LIG_HOMEOBOX   \n\n                                            aa_seq_isr  slim_match  \\\n0    [MHHQQRMAALGTDKELSDLLDFSAMFSPPVSSGKNGPTSLASGHF...       False   \n8    [MHHQQRMAALGTDKELSDLLDFSAMFSPPVSSGKNGPTSLASGHF...       False   \n16   [MHHQQRMAALGTDKELSDLLDFSAMFSPPVSSGKNGPTSLASGHF...       False   \n24   [MHHQQRMAALGTDKELSDLLDFSAMFSPPVSSGKNGPTSLASGHF...       False   \n545  [MHHQQRMAALGTDKELSDLLDFSAMFSPPVSSGKNGPTSLASGHF...       False   \n\n                                        aa_seq_ref_iso  \\\n0    MHHQQRMAALGTDKELSDLLDFSAMFSPPVSSGKNGPTSLASGHFT...   \n8    MHHQQRMAALGTDKELSDLLDFSAMFSPPVSSGKNGPTSLASGHFT...   \n16   MHHQQRMAALGTDKELSDLLDFSAMFSPPVSSGKNGPTSLASGHFT...   \n24   MHHQQRMAALGTDKELSDLLDFSAMFSPPVSSGKNGPTSLASGHFT...   \n545  MHHQQRMAALGTDKELSDLLDFSAMFSPPVSSGKNGPTSLASGHFT...   \n\n                                                 regex  match_count_ref_iso  \\\n0                                                EEVD$                    0   \n8    (?:.[SAPTC][KRH][LMFI]$)|(?:[KRH][SAPTC][NTS][...                    0   \n16                                DR[YFH][ILFVM][PA]..                    0   \n24                            [DE]R[YFH][ILFVM][PAG].R                    0   \n545                                        [FY][DEP]WM                    0   \n\n     match_count_isr  aa_seq_len_ref_iso  isr_len  \n0                  0                 671      129  \n8                  0                 671      129  \n16                 0                 671      129  \n24                 0                 671      129  \n545                0                 671      129  ",
      "text/html": "<div>\n<style scoped>\n    .dataframe tbody tr th:only-of-type {\n        vertical-align: middle;\n    }\n\n    .dataframe tbody tr th {\n        vertical-align: top;\n    }\n\n    .dataframe thead th {\n        text-align: right;\n    }\n</style>\n<table border=\"1\" class=\"dataframe\">\n  <thead>\n    <tr style=\"text-align: right;\">\n      <th></th>\n      <th>ad_gene_symbol</th>\n      <th>db_gene_symbol</th>\n      <th>pfam_accession</th>\n      <th>domain_name</th>\n      <th>domain_description</th>\n      <th>ELM identifier</th>\n      <th>aa_seq_isr</th>\n      <th>slim_match</th>\n      <th>aa_seq_ref_iso</th>\n      <th>regex</th>\n      <th>match_count_ref_iso</th>\n      <th>match_count_isr</th>\n      <th>aa_seq_len_ref_iso</th>\n      <th>isr_len</th>\n    </tr>\n  </thead>\n  <tbody>\n    <tr>\n      <th>0</th>\n      <td>TCF4</td>\n      <td>KLC3</td>\n      <td>PF00515</td>\n      <td>TPR_1</td>\n      <td>Tetratricopeptide repeat</td>\n      <td>LIG_TPR</td>\n      <td>[MHHQQRMAALGTDKELSDLLDFSAMFSPPVSSGKNGPTSLASGHF...</td>\n      <td>False</td>\n      <td>MHHQQRMAALGTDKELSDLLDFSAMFSPPVSSGKNGPTSLASGHFT...</td>\n      <td>EEVD$</td>\n      <td>0</td>\n      <td>0</td>\n      <td>671</td>\n      <td>129</td>\n    </tr>\n    <tr>\n      <th>8</th>\n      <td>TCF4</td>\n      <td>KLC3</td>\n      <td>PF00515</td>\n      <td>TPR_1</td>\n      <td>Tetratricopeptide repeat</td>\n      <td>TRG_PTS1</td>\n      <td>[MHHQQRMAALGTDKELSDLLDFSAMFSPPVSSGKNGPTSLASGHF...</td>\n      <td>False</td>\n      <td>MHHQQRMAALGTDKELSDLLDFSAMFSPPVSSGKNGPTSLASGHFT...</td>\n      <td>(?:.[SAPTC][KRH][LMFI]$)|(?:[KRH][SAPTC][NTS][...</td>\n      <td>0</td>\n      <td>0</td>\n      <td>671</td>\n      <td>129</td>\n    </tr>\n    <tr>\n      <th>16</th>\n      <td>TCF4</td>\n      <td>KLC3</td>\n      <td>PF00515</td>\n      <td>TPR_1</td>\n      <td>Tetratricopeptide repeat</td>\n      <td>LIG_APCC_Cbox_2</td>\n      <td>[MHHQQRMAALGTDKELSDLLDFSAMFSPPVSSGKNGPTSLASGHF...</td>\n      <td>False</td>\n      <td>MHHQQRMAALGTDKELSDLLDFSAMFSPPVSSGKNGPTSLASGHFT...</td>\n      <td>DR[YFH][ILFVM][PA]..</td>\n      <td>0</td>\n      <td>0</td>\n      <td>671</td>\n      <td>129</td>\n    </tr>\n    <tr>\n      <th>24</th>\n      <td>TCF4</td>\n      <td>KLC3</td>\n      <td>PF00515</td>\n      <td>TPR_1</td>\n      <td>Tetratricopeptide repeat</td>\n      <td>LIG_APCC_Cbox_1</td>\n      <td>[MHHQQRMAALGTDKELSDLLDFSAMFSPPVSSGKNGPTSLASGHF...</td>\n      <td>False</td>\n      <td>MHHQQRMAALGTDKELSDLLDFSAMFSPPVSSGKNGPTSLASGHFT...</td>\n      <td>[DE]R[YFH][ILFVM][PAG].R</td>\n      <td>0</td>\n      <td>0</td>\n      <td>671</td>\n      <td>129</td>\n    </tr>\n    <tr>\n      <th>545</th>\n      <td>TCF4</td>\n      <td>BARHL2</td>\n      <td>PF00046</td>\n      <td>Homeobox</td>\n      <td>Homeobox domain</td>\n      <td>LIG_HOMEOBOX</td>\n      <td>[MHHQQRMAALGTDKELSDLLDFSAMFSPPVSSGKNGPTSLASGHF...</td>\n      <td>False</td>\n      <td>MHHQQRMAALGTDKELSDLLDFSAMFSPPVSSGKNGPTSLASGHFT...</td>\n      <td>[FY][DEP]WM</td>\n      <td>0</td>\n      <td>0</td>\n      <td>671</td>\n      <td>129</td>\n    </tr>\n  </tbody>\n</table>\n</div>"
     },
     "metadata": {},
     "execution_count": 54
    }
   ],
   "source": [
    "slim_ppis.head()"
   ]
  },
  {
   "cell_type": "code",
   "execution_count": 64,
   "metadata": {
    "tags": []
   },
   "outputs": [
    {
     "output_type": "stream",
     "name": "stdout",
     "text": "real =  38 out of 126\nP = 0.111\n"
    }
   ],
   "source": [
    "# for each gene-gene pair, pick random sequence on longest isoform of length of ISR and look for match\n",
    "gg = slim_ppis.loc[:, ['ad_gene_symbol', 'db_gene_symbol', 'aa_seq_ref_iso', 'isr_len']].drop_duplicates().copy().set_index(['ad_gene_symbol', 'db_gene_symbol'])\n",
    "\n",
    "def rand_subseq(row):\n",
    "    rand_start = np.random.randint((len(row['aa_seq_ref_iso']) - row['isr_len']) + 1)\n",
    "    return row['aa_seq_ref_iso'][rand_start:rand_start + row['isr_len']]\n",
    "\n",
    "null_dist = []\n",
    "n_samples = 100\n",
    "for __ in range(n_samples):\n",
    "    rand_seq = gg.apply(rand_subseq, axis=1)\n",
    "    rand_seq = pd.merge(rand_seq.rename('rand_aa_seq').reset_index(),\n",
    "                        slim_ppis.loc[:, ['ad_gene_symbol', 'db_gene_symbol', 'regex']],\n",
    "                        how='inner')\n",
    "    rand_seq['match_count_rand_aa_seq'] = rand_seq.apply(lambda x: len(re.findall(x['regex'], x['rand_aa_seq'])),\n",
    "                    axis=1)\n",
    "    null_dist.append((rand_seq.groupby(['ad_gene_symbol', 'db_gene_symbol'])['match_count_rand_aa_seq'].sum() > 0).sum())\n",
    "real = (slim_ppis.groupby(['ad_gene_symbol', 'db_gene_symbol'])['match_count_isr'].sum() > 0).sum()\n",
    "n = slim_ppis[['ad_gene_symbol', 'db_gene_symbol']].drop_duplicates().shape[0]\n",
    "print('real =', real, 'out of', n)\n",
    "print('P =', len([n for n in null_dist if n >= real]) / n_samples)"
   ]
  },
  {
   "cell_type": "code",
   "execution_count": 66,
   "metadata": {},
   "outputs": [],
   "source": [
    "# trying same thing using most specific regex\n",
    "slim_ppis_spec = slim_ppis.sort_values('motif_probability', ascending=True).drop_duplicates(['ad_gene_symbol', 'db_gene_symbol', 'pfam_accession']).copy()"
   ]
  },
  {
   "cell_type": "code",
   "execution_count": 67,
   "metadata": {
    "tags": []
   },
   "outputs": [
    {
     "output_type": "stream",
     "name": "stdout",
     "text": "real =  8 out of 126\nP = 0.019\n"
    }
   ],
   "source": [
    "gg = slim_ppis_spec.loc[:, ['ad_gene_symbol', 'db_gene_symbol', 'aa_seq_ref_iso', 'isr_len']].drop_duplicates().copy().set_index(['ad_gene_symbol', 'db_gene_symbol'])\n",
    "\n",
    "def rand_subseq(row):\n",
    "    rand_start = np.random.randint((len(row['aa_seq_ref_iso']) - row['isr_len']) + 1)\n",
    "    return row['aa_seq_ref_iso'][rand_start:rand_start + row['isr_len']]\n",
    "\n",
    "null_dist = []\n",
    "n_samples = 100\n",
    "for __ in range(n_samples):\n",
    "    rand_seq = gg.apply(rand_subseq, axis=1)\n",
    "    rand_seq = pd.merge(rand_seq.rename('rand_aa_seq').reset_index(),\n",
    "                        slim_ppis_spec.loc[:, ['ad_gene_symbol', 'db_gene_symbol', 'regex']],\n",
    "                        how='inner')\n",
    "    rand_seq['match_count_rand_aa_seq'] = rand_seq.apply(lambda x: len(re.findall(x['regex'], x['rand_aa_seq'])),\n",
    "                    axis=1)\n",
    "    null_dist.append((rand_seq.groupby(['ad_gene_symbol', 'db_gene_symbol'])['match_count_rand_aa_seq'].sum() > 0).sum())\n",
    "real = (slim_ppis_spec.groupby(['ad_gene_symbol', 'db_gene_symbol'])['match_count_isr'].sum() > 0).sum()\n",
    "n = slim_ppis_spec[['ad_gene_symbol', 'db_gene_symbol']].drop_duplicates().shape[0]\n",
    "print('real = ', real, 'out of', n)\n",
    "print('P =', len([n for n in null_dist if n >= real]) / n_samples)"
   ]
  },
  {
   "cell_type": "code",
   "execution_count": 72,
   "metadata": {},
   "outputs": [],
   "source": [
    "slim_ppis['isr_frac'] = (slim_ppis['isr_len'] / slim_ppis['aa_seq_len_ref_iso'])"
   ]
  },
  {
   "cell_type": "code",
   "execution_count": 78,
   "metadata": {},
   "outputs": [
    {
     "output_type": "execute_result",
     "data": {
      "text/plain": "66"
     },
     "metadata": {},
     "execution_count": 78
    }
   ],
   "source": [
    "(slim_ppis[['ad_gene_symbol', 'db_gene_symbol', 'isr_frac']].drop_duplicates()['isr_frac'] < 0.2).sum()"
   ]
  },
  {
   "cell_type": "code",
   "execution_count": 99,
   "metadata": {},
   "outputs": [
    {
     "output_type": "display_data",
     "data": {
      "text/plain": "<Figure size 432x288 with 1 Axes>",
      "image/svg+xml": "<?xml version=\"1.0\" encoding=\"utf-8\" standalone=\"no\"?>\n<!DOCTYPE svg PUBLIC \"-//W3C//DTD SVG 1.1//EN\"\n  \"http://www.w3.org/Graphics/SVG/1.1/DTD/svg11.dtd\">\n<!-- Created with matplotlib (https://matplotlib.org/) -->\n<svg height=\"261.369687pt\" version=\"1.1\" viewBox=\"0 0 380.70625 261.369687\" width=\"380.70625pt\" xmlns=\"http://www.w3.org/2000/svg\" xmlns:xlink=\"http://www.w3.org/1999/xlink\">\n <defs>\n  <style type=\"text/css\">\n*{stroke-linecap:butt;stroke-linejoin:round;}\n  </style>\n </defs>\n <g id=\"figure_1\">\n  <g id=\"patch_1\">\n   <path d=\"M 0 261.369687 \nL 380.70625 261.369687 \nL 380.70625 0 \nL 0 0 \nz\n\" style=\"fill:none;\"/>\n  </g>\n  <g id=\"axes_1\">\n   <g id=\"patch_2\">\n    <path d=\"M 38.70625 224.64 \nL 373.50625 224.64 \nL 373.50625 7.2 \nL 38.70625 7.2 \nz\n\" style=\"fill:#ffffff;\"/>\n   </g>\n   <g id=\"patch_3\">\n    <path clip-path=\"url(#pff80a54ce7)\" d=\"M 53.924432 224.64 \nL 84.360795 224.64 \nL 84.360795 17.554286 \nL 53.924432 17.554286 \nz\n\" style=\"fill:#1f77b4;\"/>\n   </g>\n   <g id=\"patch_4\">\n    <path clip-path=\"url(#pff80a54ce7)\" d=\"M 84.360795 224.64 \nL 114.797159 224.64 \nL 114.797159 62.329575 \nL 84.360795 62.329575 \nz\n\" style=\"fill:#1f77b4;\"/>\n   </g>\n   <g id=\"patch_5\">\n    <path clip-path=\"url(#pff80a54ce7)\" d=\"M 114.797159 224.64 \nL 145.233523 224.64 \nL 145.233523 84.71722 \nL 114.797159 84.71722 \nz\n\" style=\"fill:#1f77b4;\"/>\n   </g>\n   <g id=\"patch_6\">\n    <path clip-path=\"url(#pff80a54ce7)\" d=\"M 145.233523 224.64 \nL 175.669886 224.64 \nL 175.669886 174.267799 \nL 145.233523 174.267799 \nz\n\" style=\"fill:#1f77b4;\"/>\n   </g>\n   <g id=\"patch_7\">\n    <path clip-path=\"url(#pff80a54ce7)\" d=\"M 175.669886 224.64 \nL 206.10625 224.64 \nL 206.10625 151.880154 \nL 175.669886 151.880154 \nz\n\" style=\"fill:#1f77b4;\"/>\n   </g>\n   <g id=\"patch_8\">\n    <path clip-path=\"url(#pff80a54ce7)\" d=\"M 206.10625 224.64 \nL 236.542614 224.64 \nL 236.542614 219.043089 \nL 206.10625 219.043089 \nz\n\" style=\"fill:#1f77b4;\"/>\n   </g>\n   <g id=\"patch_9\">\n    <path clip-path=\"url(#pff80a54ce7)\" d=\"M 236.542614 224.64 \nL 266.978977 224.64 \nL 266.978977 207.849266 \nL 236.542614 207.849266 \nz\n\" style=\"fill:#1f77b4;\"/>\n   </g>\n   <g id=\"patch_10\">\n    <path clip-path=\"url(#pff80a54ce7)\" d=\"M 266.978977 224.64 \nL 297.415341 224.64 \nL 297.415341 213.446178 \nL 266.978977 213.446178 \nz\n\" style=\"fill:#1f77b4;\"/>\n   </g>\n   <g id=\"patch_11\">\n    <path clip-path=\"url(#pff80a54ce7)\" d=\"M 297.415341 224.64 \nL 327.851705 224.64 \nL 327.851705 196.655444 \nL 297.415341 196.655444 \nz\n\" style=\"fill:#1f77b4;\"/>\n   </g>\n   <g id=\"patch_12\">\n    <path clip-path=\"url(#pff80a54ce7)\" d=\"M 327.851705 224.64 \nL 358.288068 224.64 \nL 358.288068 213.446178 \nL 327.851705 213.446178 \nz\n\" style=\"fill:#1f77b4;\"/>\n   </g>\n   <g id=\"matplotlib.axis_1\">\n    <g id=\"xtick_1\">\n     <g id=\"line2d_1\">\n      <defs>\n       <path d=\"M 0 0 \nL 0 3.5 \n\" id=\"m16c0620808\" style=\"stroke:#000000;stroke-width:0.8;\"/>\n      </defs>\n      <g>\n       <use style=\"stroke:#000000;stroke-width:0.8;\" x=\"52.314042\" xlink:href=\"#m16c0620808\" y=\"224.64\"/>\n      </g>\n     </g>\n     <g id=\"text_1\">\n      <!-- 0 -->\n      <defs>\n       <path d=\"M 4.15625 35.296875 \nQ 4.15625 48 6.765625 55.734375 \nQ 9.375 63.484375 14.515625 67.671875 \nQ 19.671875 71.875 27.484375 71.875 \nQ 33.25 71.875 37.59375 69.546875 \nQ 41.9375 67.234375 44.765625 62.859375 \nQ 47.609375 58.5 49.21875 52.21875 \nQ 50.828125 45.953125 50.828125 35.296875 \nQ 50.828125 22.703125 48.234375 14.96875 \nQ 45.65625 7.234375 40.5 3 \nQ 35.359375 -1.21875 27.484375 -1.21875 \nQ 17.140625 -1.21875 11.234375 6.203125 \nQ 4.15625 15.140625 4.15625 35.296875 \nz\nM 13.1875 35.296875 \nQ 13.1875 17.671875 17.3125 11.828125 \nQ 21.4375 6 27.484375 6 \nQ 33.546875 6 37.671875 11.859375 \nQ 41.796875 17.71875 41.796875 35.296875 \nQ 41.796875 52.984375 37.671875 58.78125 \nQ 33.546875 64.59375 27.390625 64.59375 \nQ 21.34375 64.59375 17.71875 59.46875 \nQ 13.1875 52.9375 13.1875 35.296875 \nz\n\" id=\"ArialMT-48\"/>\n      </defs>\n      <g transform=\"translate(49.533573 238.797812)scale(0.1 -0.1)\">\n       <use xlink:href=\"#ArialMT-48\"/>\n      </g>\n     </g>\n    </g>\n    <g id=\"xtick_2\">\n     <g id=\"line2d_2\">\n      <g>\n       <use style=\"stroke:#000000;stroke-width:0.8;\" x=\"113.508847\" xlink:href=\"#m16c0620808\" y=\"224.64\"/>\n      </g>\n     </g>\n     <g id=\"text_2\">\n      <!-- 20 -->\n      <defs>\n       <path d=\"M 50.34375 8.453125 \nL 50.34375 0 \nL 3.03125 0 \nQ 2.9375 3.171875 4.046875 6.109375 \nQ 5.859375 10.9375 9.828125 15.625 \nQ 13.8125 20.3125 21.34375 26.46875 \nQ 33.015625 36.03125 37.109375 41.625 \nQ 41.21875 47.21875 41.21875 52.203125 \nQ 41.21875 57.421875 37.46875 61 \nQ 33.734375 64.59375 27.734375 64.59375 \nQ 21.390625 64.59375 17.578125 60.78125 \nQ 13.765625 56.984375 13.71875 50.25 \nL 4.6875 51.171875 \nQ 5.609375 61.28125 11.65625 66.578125 \nQ 17.71875 71.875 27.9375 71.875 \nQ 38.234375 71.875 44.234375 66.15625 \nQ 50.25 60.453125 50.25 52 \nQ 50.25 47.703125 48.484375 43.546875 \nQ 46.734375 39.40625 42.65625 34.8125 \nQ 38.578125 30.21875 29.109375 22.21875 \nQ 21.1875 15.578125 18.9375 13.203125 \nQ 16.703125 10.84375 15.234375 8.453125 \nz\n\" id=\"ArialMT-50\"/>\n      </defs>\n      <g transform=\"translate(107.94791 238.797812)scale(0.1 -0.1)\">\n       <use xlink:href=\"#ArialMT-50\"/>\n       <use x=\"55.615234\" xlink:href=\"#ArialMT-48\"/>\n      </g>\n     </g>\n    </g>\n    <g id=\"xtick_3\">\n     <g id=\"line2d_3\">\n      <g>\n       <use style=\"stroke:#000000;stroke-width:0.8;\" x=\"174.703653\" xlink:href=\"#m16c0620808\" y=\"224.64\"/>\n      </g>\n     </g>\n     <g id=\"text_3\">\n      <!-- 40 -->\n      <defs>\n       <path d=\"M 32.328125 0 \nL 32.328125 17.140625 \nL 1.265625 17.140625 \nL 1.265625 25.203125 \nL 33.9375 71.578125 \nL 41.109375 71.578125 \nL 41.109375 25.203125 \nL 50.78125 25.203125 \nL 50.78125 17.140625 \nL 41.109375 17.140625 \nL 41.109375 0 \nz\nM 32.328125 25.203125 \nL 32.328125 57.46875 \nL 9.90625 25.203125 \nz\n\" id=\"ArialMT-52\"/>\n      </defs>\n      <g transform=\"translate(169.142715 238.797812)scale(0.1 -0.1)\">\n       <use xlink:href=\"#ArialMT-52\"/>\n       <use x=\"55.615234\" xlink:href=\"#ArialMT-48\"/>\n      </g>\n     </g>\n    </g>\n    <g id=\"xtick_4\">\n     <g id=\"line2d_4\">\n      <g>\n       <use style=\"stroke:#000000;stroke-width:0.8;\" x=\"235.898458\" xlink:href=\"#m16c0620808\" y=\"224.64\"/>\n      </g>\n     </g>\n     <g id=\"text_4\">\n      <!-- 60 -->\n      <defs>\n       <path d=\"M 49.75 54.046875 \nL 41.015625 53.375 \nQ 39.84375 58.546875 37.703125 60.890625 \nQ 34.125 64.65625 28.90625 64.65625 \nQ 24.703125 64.65625 21.53125 62.3125 \nQ 17.390625 59.28125 14.984375 53.46875 \nQ 12.59375 47.65625 12.5 36.921875 \nQ 15.671875 41.75 20.265625 44.09375 \nQ 24.859375 46.4375 29.890625 46.4375 \nQ 38.671875 46.4375 44.84375 39.96875 \nQ 51.03125 33.5 51.03125 23.25 \nQ 51.03125 16.5 48.125 10.71875 \nQ 45.21875 4.9375 40.140625 1.859375 \nQ 35.0625 -1.21875 28.609375 -1.21875 \nQ 17.625 -1.21875 10.6875 6.859375 \nQ 3.765625 14.9375 3.765625 33.5 \nQ 3.765625 54.25 11.421875 63.671875 \nQ 18.109375 71.875 29.4375 71.875 \nQ 37.890625 71.875 43.28125 67.140625 \nQ 48.6875 62.40625 49.75 54.046875 \nz\nM 13.875 23.1875 \nQ 13.875 18.65625 15.796875 14.5 \nQ 17.71875 10.359375 21.1875 8.171875 \nQ 24.65625 6 28.46875 6 \nQ 34.03125 6 38.03125 10.484375 \nQ 42.046875 14.984375 42.046875 22.703125 \nQ 42.046875 30.125 38.078125 34.390625 \nQ 34.125 38.671875 28.125 38.671875 \nQ 22.171875 38.671875 18.015625 34.390625 \nQ 13.875 30.125 13.875 23.1875 \nz\n\" id=\"ArialMT-54\"/>\n      </defs>\n      <g transform=\"translate(230.33752 238.797812)scale(0.1 -0.1)\">\n       <use xlink:href=\"#ArialMT-54\"/>\n       <use x=\"55.615234\" xlink:href=\"#ArialMT-48\"/>\n      </g>\n     </g>\n    </g>\n    <g id=\"xtick_5\">\n     <g id=\"line2d_5\">\n      <g>\n       <use style=\"stroke:#000000;stroke-width:0.8;\" x=\"297.093263\" xlink:href=\"#m16c0620808\" y=\"224.64\"/>\n      </g>\n     </g>\n     <g id=\"text_5\">\n      <!-- 80 -->\n      <defs>\n       <path d=\"M 17.671875 38.8125 \nQ 12.203125 40.828125 9.5625 44.53125 \nQ 6.9375 48.25 6.9375 53.421875 \nQ 6.9375 61.234375 12.546875 66.546875 \nQ 18.171875 71.875 27.484375 71.875 \nQ 36.859375 71.875 42.578125 66.421875 \nQ 48.296875 60.984375 48.296875 53.171875 \nQ 48.296875 48.1875 45.671875 44.5 \nQ 43.0625 40.828125 37.75 38.8125 \nQ 44.34375 36.671875 47.78125 31.875 \nQ 51.21875 27.09375 51.21875 20.453125 \nQ 51.21875 11.28125 44.71875 5.03125 \nQ 38.234375 -1.21875 27.640625 -1.21875 \nQ 17.046875 -1.21875 10.546875 5.046875 \nQ 4.046875 11.328125 4.046875 20.703125 \nQ 4.046875 27.6875 7.59375 32.390625 \nQ 11.140625 37.109375 17.671875 38.8125 \nz\nM 15.921875 53.71875 \nQ 15.921875 48.640625 19.1875 45.40625 \nQ 22.46875 42.1875 27.6875 42.1875 \nQ 32.765625 42.1875 36.015625 45.375 \nQ 39.265625 48.578125 39.265625 53.21875 \nQ 39.265625 58.0625 35.90625 61.359375 \nQ 32.5625 64.65625 27.59375 64.65625 \nQ 22.5625 64.65625 19.234375 61.421875 \nQ 15.921875 58.203125 15.921875 53.71875 \nz\nM 13.09375 20.65625 \nQ 13.09375 16.890625 14.875 13.375 \nQ 16.65625 9.859375 20.171875 7.921875 \nQ 23.6875 6 27.734375 6 \nQ 34.03125 6 38.125 10.046875 \nQ 42.234375 14.109375 42.234375 20.359375 \nQ 42.234375 26.703125 38.015625 30.859375 \nQ 33.796875 35.015625 27.4375 35.015625 \nQ 21.234375 35.015625 17.15625 30.90625 \nQ 13.09375 26.8125 13.09375 20.65625 \nz\n\" id=\"ArialMT-56\"/>\n      </defs>\n      <g transform=\"translate(291.532325 238.797812)scale(0.1 -0.1)\">\n       <use xlink:href=\"#ArialMT-56\"/>\n       <use x=\"55.615234\" xlink:href=\"#ArialMT-48\"/>\n      </g>\n     </g>\n    </g>\n    <g id=\"xtick_6\">\n     <g id=\"line2d_6\">\n      <g>\n       <use style=\"stroke:#000000;stroke-width:0.8;\" x=\"358.288068\" xlink:href=\"#m16c0620808\" y=\"224.64\"/>\n      </g>\n     </g>\n     <g id=\"text_6\">\n      <!-- 100 -->\n      <defs>\n       <path d=\"M 37.25 0 \nL 28.46875 0 \nL 28.46875 56 \nQ 25.296875 52.984375 20.140625 49.953125 \nQ 14.984375 46.921875 10.890625 45.40625 \nL 10.890625 53.90625 \nQ 18.265625 57.375 23.78125 62.296875 \nQ 29.296875 67.234375 31.59375 71.875 \nL 37.25 71.875 \nz\n\" id=\"ArialMT-49\"/>\n      </defs>\n      <g transform=\"translate(349.946662 238.797812)scale(0.1 -0.1)\">\n       <use xlink:href=\"#ArialMT-49\"/>\n       <use x=\"55.615234\" xlink:href=\"#ArialMT-48\"/>\n       <use x=\"111.230469\" xlink:href=\"#ArialMT-48\"/>\n      </g>\n     </g>\n    </g>\n    <g id=\"text_7\">\n     <!-- % of reference isoform in PPI specific region -->\n     <defs>\n      <path d=\"M 5.8125 54.390625 \nQ 5.8125 62.0625 9.671875 67.421875 \nQ 13.53125 72.796875 20.84375 72.796875 \nQ 27.59375 72.796875 32 67.984375 \nQ 36.421875 63.1875 36.421875 53.859375 \nQ 36.421875 44.78125 31.953125 39.875 \nQ 27.484375 34.96875 20.953125 34.96875 \nQ 14.453125 34.96875 10.125 39.796875 \nQ 5.8125 44.625 5.8125 54.390625 \nz\nM 21.09375 66.75 \nQ 17.828125 66.75 15.65625 63.90625 \nQ 13.484375 61.078125 13.484375 53.515625 \nQ 13.484375 46.625 15.671875 43.8125 \nQ 17.875 41.015625 21.09375 41.015625 \nQ 24.421875 41.015625 26.59375 43.84375 \nQ 28.765625 46.6875 28.765625 54.203125 \nQ 28.765625 61.140625 26.5625 63.9375 \nQ 24.359375 66.75 21.09375 66.75 \nz\nM 21.140625 -2.640625 \nL 60.296875 72.796875 \nL 67.4375 72.796875 \nL 28.421875 -2.640625 \nz\nM 52.09375 16.796875 \nQ 52.09375 24.515625 55.953125 29.859375 \nQ 59.8125 35.203125 67.1875 35.203125 \nQ 73.921875 35.203125 78.34375 30.390625 \nQ 82.765625 25.59375 82.765625 16.265625 \nQ 82.765625 7.171875 78.296875 2.265625 \nQ 73.828125 -2.640625 67.234375 -2.640625 \nQ 60.75 -2.640625 56.421875 2.21875 \nQ 52.09375 7.078125 52.09375 16.796875 \nz\nM 67.4375 29.15625 \nQ 64.109375 29.15625 61.9375 26.3125 \nQ 59.765625 23.484375 59.765625 15.921875 \nQ 59.765625 9.078125 61.953125 6.25 \nQ 64.15625 3.421875 67.390625 3.421875 \nQ 70.75 3.421875 72.921875 6.25 \nQ 75.09375 9.078125 75.09375 16.609375 \nQ 75.09375 23.53125 72.890625 26.34375 \nQ 70.703125 29.15625 67.4375 29.15625 \nz\n\" id=\"ArialMT-37\"/>\n      <path id=\"ArialMT-32\"/>\n      <path d=\"M 3.328125 25.921875 \nQ 3.328125 40.328125 11.328125 47.265625 \nQ 18.015625 53.03125 27.640625 53.03125 \nQ 38.328125 53.03125 45.109375 46.015625 \nQ 51.90625 39.015625 51.90625 26.65625 \nQ 51.90625 16.65625 48.90625 10.90625 \nQ 45.90625 5.171875 40.15625 2 \nQ 34.421875 -1.171875 27.640625 -1.171875 \nQ 16.75 -1.171875 10.03125 5.8125 \nQ 3.328125 12.796875 3.328125 25.921875 \nz\nM 12.359375 25.921875 \nQ 12.359375 15.96875 16.703125 11.015625 \nQ 21.046875 6.0625 27.640625 6.0625 \nQ 34.1875 6.0625 38.53125 11.03125 \nQ 42.875 16.015625 42.875 26.21875 \nQ 42.875 35.84375 38.5 40.796875 \nQ 34.125 45.75 27.640625 45.75 \nQ 21.046875 45.75 16.703125 40.8125 \nQ 12.359375 35.890625 12.359375 25.921875 \nz\n\" id=\"ArialMT-111\"/>\n      <path d=\"M 8.6875 0 \nL 8.6875 45.015625 \nL 0.921875 45.015625 \nL 0.921875 51.859375 \nL 8.6875 51.859375 \nL 8.6875 57.375 \nQ 8.6875 62.59375 9.625 65.140625 \nQ 10.890625 68.5625 14.078125 70.671875 \nQ 17.28125 72.796875 23.046875 72.796875 \nQ 26.765625 72.796875 31.25 71.921875 \nL 29.9375 64.265625 \nQ 27.203125 64.75 24.75 64.75 \nQ 20.75 64.75 19.09375 63.03125 \nQ 17.4375 61.328125 17.4375 56.640625 \nL 17.4375 51.859375 \nL 27.546875 51.859375 \nL 27.546875 45.015625 \nL 17.4375 45.015625 \nL 17.4375 0 \nz\n\" id=\"ArialMT-102\"/>\n      <path d=\"M 6.5 0 \nL 6.5 51.859375 \nL 14.40625 51.859375 \nL 14.40625 44 \nQ 17.4375 49.515625 20 51.265625 \nQ 22.5625 53.03125 25.640625 53.03125 \nQ 30.078125 53.03125 34.671875 50.203125 \nL 31.640625 42.046875 \nQ 28.421875 43.953125 25.203125 43.953125 \nQ 22.3125 43.953125 20.015625 42.21875 \nQ 17.71875 40.484375 16.75 37.40625 \nQ 15.28125 32.71875 15.28125 27.15625 \nL 15.28125 0 \nz\n\" id=\"ArialMT-114\"/>\n      <path d=\"M 42.09375 16.703125 \nL 51.171875 15.578125 \nQ 49.03125 7.625 43.21875 3.21875 \nQ 37.40625 -1.171875 28.375 -1.171875 \nQ 17 -1.171875 10.328125 5.828125 \nQ 3.65625 12.84375 3.65625 25.484375 \nQ 3.65625 38.578125 10.390625 45.796875 \nQ 17.140625 53.03125 27.875 53.03125 \nQ 38.28125 53.03125 44.875 45.953125 \nQ 51.46875 38.875 51.46875 26.03125 \nQ 51.46875 25.25 51.421875 23.6875 \nL 12.75 23.6875 \nQ 13.234375 15.140625 17.578125 10.59375 \nQ 21.921875 6.0625 28.421875 6.0625 \nQ 33.25 6.0625 36.671875 8.59375 \nQ 40.09375 11.140625 42.09375 16.703125 \nz\nM 13.234375 30.90625 \nL 42.1875 30.90625 \nQ 41.609375 37.453125 38.875 40.71875 \nQ 34.671875 45.796875 27.984375 45.796875 \nQ 21.921875 45.796875 17.796875 41.75 \nQ 13.671875 37.703125 13.234375 30.90625 \nz\n\" id=\"ArialMT-101\"/>\n      <path d=\"M 6.59375 0 \nL 6.59375 51.859375 \nL 14.5 51.859375 \nL 14.5 44.484375 \nQ 20.21875 53.03125 31 53.03125 \nQ 35.6875 53.03125 39.625 51.34375 \nQ 43.5625 49.65625 45.515625 46.921875 \nQ 47.46875 44.1875 48.25 40.4375 \nQ 48.734375 37.984375 48.734375 31.890625 \nL 48.734375 0 \nL 39.9375 0 \nL 39.9375 31.546875 \nQ 39.9375 36.921875 38.90625 39.578125 \nQ 37.890625 42.234375 35.28125 43.8125 \nQ 32.671875 45.40625 29.15625 45.40625 \nQ 23.53125 45.40625 19.453125 41.84375 \nQ 15.375 38.28125 15.375 28.328125 \nL 15.375 0 \nz\n\" id=\"ArialMT-110\"/>\n      <path d=\"M 40.4375 19 \nL 49.078125 17.875 \nQ 47.65625 8.9375 41.8125 3.875 \nQ 35.984375 -1.171875 27.484375 -1.171875 \nQ 16.84375 -1.171875 10.375 5.78125 \nQ 3.90625 12.75 3.90625 25.734375 \nQ 3.90625 34.125 6.6875 40.421875 \nQ 9.46875 46.734375 15.15625 49.875 \nQ 20.84375 53.03125 27.546875 53.03125 \nQ 35.984375 53.03125 41.359375 48.75 \nQ 46.734375 44.484375 48.25 36.625 \nL 39.703125 35.296875 \nQ 38.484375 40.53125 35.375 43.15625 \nQ 32.28125 45.796875 27.875 45.796875 \nQ 21.234375 45.796875 17.078125 41.03125 \nQ 12.9375 36.28125 12.9375 25.984375 \nQ 12.9375 15.53125 16.9375 10.796875 \nQ 20.953125 6.0625 27.390625 6.0625 \nQ 32.5625 6.0625 36.03125 9.234375 \nQ 39.5 12.40625 40.4375 19 \nz\n\" id=\"ArialMT-99\"/>\n      <path d=\"M 6.640625 61.46875 \nL 6.640625 71.578125 \nL 15.4375 71.578125 \nL 15.4375 61.46875 \nz\nM 6.640625 0 \nL 6.640625 51.859375 \nL 15.4375 51.859375 \nL 15.4375 0 \nz\n\" id=\"ArialMT-105\"/>\n      <path d=\"M 3.078125 15.484375 \nL 11.765625 16.84375 \nQ 12.5 11.625 15.84375 8.84375 \nQ 19.1875 6.0625 25.203125 6.0625 \nQ 31.25 6.0625 34.171875 8.515625 \nQ 37.109375 10.984375 37.109375 14.3125 \nQ 37.109375 17.28125 34.515625 19 \nQ 32.71875 20.171875 25.53125 21.96875 \nQ 15.875 24.421875 12.140625 26.203125 \nQ 8.40625 27.984375 6.46875 31.125 \nQ 4.546875 34.28125 4.546875 38.09375 \nQ 4.546875 41.546875 6.125 44.5 \nQ 7.71875 47.46875 10.453125 49.421875 \nQ 12.5 50.921875 16.03125 51.96875 \nQ 19.578125 53.03125 23.640625 53.03125 \nQ 29.734375 53.03125 34.34375 51.265625 \nQ 38.96875 49.515625 41.15625 46.5 \nQ 43.359375 43.5 44.1875 38.484375 \nL 35.59375 37.3125 \nQ 35.015625 41.3125 32.203125 43.546875 \nQ 29.390625 45.796875 24.265625 45.796875 \nQ 18.21875 45.796875 15.625 43.796875 \nQ 13.03125 41.796875 13.03125 39.109375 \nQ 13.03125 37.40625 14.109375 36.03125 \nQ 15.1875 34.625 17.484375 33.6875 \nQ 18.796875 33.203125 25.25 31.453125 \nQ 34.578125 28.953125 38.25 27.359375 \nQ 41.9375 25.78125 44.03125 22.75 \nQ 46.140625 19.734375 46.140625 15.234375 \nQ 46.140625 10.84375 43.578125 6.953125 \nQ 41.015625 3.078125 36.171875 0.953125 \nQ 31.34375 -1.171875 25.25 -1.171875 \nQ 15.140625 -1.171875 9.84375 3.03125 \nQ 4.546875 7.234375 3.078125 15.484375 \nz\n\" id=\"ArialMT-115\"/>\n      <path d=\"M 6.59375 0 \nL 6.59375 51.859375 \nL 14.453125 51.859375 \nL 14.453125 44.578125 \nQ 16.890625 48.390625 20.9375 50.703125 \nQ 25 53.03125 30.171875 53.03125 \nQ 35.9375 53.03125 39.625 50.640625 \nQ 43.3125 48.25 44.828125 43.953125 \nQ 50.984375 53.03125 60.84375 53.03125 \nQ 68.5625 53.03125 72.703125 48.75 \nQ 76.859375 44.484375 76.859375 35.59375 \nL 76.859375 0 \nL 68.109375 0 \nL 68.109375 32.671875 \nQ 68.109375 37.9375 67.25 40.25 \nQ 66.40625 42.578125 64.15625 43.984375 \nQ 61.921875 45.40625 58.890625 45.40625 \nQ 53.421875 45.40625 49.796875 41.765625 \nQ 46.1875 38.140625 46.1875 30.125 \nL 46.1875 0 \nL 37.40625 0 \nL 37.40625 33.6875 \nQ 37.40625 39.546875 35.25 42.46875 \nQ 33.109375 45.40625 28.21875 45.40625 \nQ 24.515625 45.40625 21.359375 43.453125 \nQ 18.21875 41.5 16.796875 37.734375 \nQ 15.375 33.984375 15.375 26.90625 \nL 15.375 0 \nz\n\" id=\"ArialMT-109\"/>\n      <path d=\"M 7.71875 0 \nL 7.71875 71.578125 \nL 34.71875 71.578125 \nQ 41.84375 71.578125 45.609375 70.90625 \nQ 50.875 70.015625 54.4375 67.546875 \nQ 58.015625 65.09375 60.1875 60.640625 \nQ 62.359375 56.203125 62.359375 50.875 \nQ 62.359375 41.75 56.546875 35.421875 \nQ 50.734375 29.109375 35.546875 29.109375 \nL 17.1875 29.109375 \nL 17.1875 0 \nz\nM 17.1875 37.546875 \nL 35.6875 37.546875 \nQ 44.875 37.546875 48.734375 40.96875 \nQ 52.59375 44.390625 52.59375 50.59375 \nQ 52.59375 55.078125 50.3125 58.265625 \nQ 48.046875 61.46875 44.34375 62.5 \nQ 41.9375 63.140625 35.5 63.140625 \nL 17.1875 63.140625 \nz\n\" id=\"ArialMT-80\"/>\n      <path d=\"M 9.328125 0 \nL 9.328125 71.578125 \nL 18.796875 71.578125 \nL 18.796875 0 \nz\n\" id=\"ArialMT-73\"/>\n      <path d=\"M 6.59375 -19.875 \nL 6.59375 51.859375 \nL 14.59375 51.859375 \nL 14.59375 45.125 \nQ 17.4375 49.078125 21 51.046875 \nQ 24.5625 53.03125 29.640625 53.03125 \nQ 36.28125 53.03125 41.359375 49.609375 \nQ 46.4375 46.1875 49.015625 39.953125 \nQ 51.609375 33.734375 51.609375 26.3125 \nQ 51.609375 18.359375 48.75 11.984375 \nQ 45.90625 5.609375 40.453125 2.21875 \nQ 35.015625 -1.171875 29 -1.171875 \nQ 24.609375 -1.171875 21.109375 0.6875 \nQ 17.625 2.546875 15.375 5.375 \nL 15.375 -19.875 \nz\nM 14.546875 25.640625 \nQ 14.546875 15.625 18.59375 10.84375 \nQ 22.65625 6.0625 28.421875 6.0625 \nQ 34.28125 6.0625 38.453125 11.015625 \nQ 42.625 15.96875 42.625 26.375 \nQ 42.625 36.28125 38.546875 41.203125 \nQ 34.46875 46.140625 28.8125 46.140625 \nQ 23.1875 46.140625 18.859375 40.890625 \nQ 14.546875 35.640625 14.546875 25.640625 \nz\n\" id=\"ArialMT-112\"/>\n      <path d=\"M 4.984375 -4.296875 \nL 13.53125 -5.5625 \nQ 14.0625 -9.515625 16.5 -11.328125 \nQ 19.78125 -13.765625 25.4375 -13.765625 \nQ 31.546875 -13.765625 34.859375 -11.328125 \nQ 38.1875 -8.890625 39.359375 -4.5 \nQ 40.046875 -1.8125 39.984375 6.78125 \nQ 34.234375 0 25.640625 0 \nQ 14.9375 0 9.078125 7.71875 \nQ 3.21875 15.4375 3.21875 26.21875 \nQ 3.21875 33.640625 5.90625 39.90625 \nQ 8.59375 46.1875 13.6875 49.609375 \nQ 18.796875 53.03125 25.6875 53.03125 \nQ 34.859375 53.03125 40.828125 45.609375 \nL 40.828125 51.859375 \nL 48.921875 51.859375 \nL 48.921875 7.03125 \nQ 48.921875 -5.078125 46.453125 -10.125 \nQ 44 -15.1875 38.640625 -18.109375 \nQ 33.296875 -21.046875 25.484375 -21.046875 \nQ 16.21875 -21.046875 10.5 -16.875 \nQ 4.78125 -12.703125 4.984375 -4.296875 \nz\nM 12.25 26.859375 \nQ 12.25 16.65625 16.296875 11.96875 \nQ 20.359375 7.28125 26.46875 7.28125 \nQ 32.515625 7.28125 36.609375 11.9375 \nQ 40.71875 16.609375 40.71875 26.5625 \nQ 40.71875 36.078125 36.5 40.90625 \nQ 32.28125 45.75 26.3125 45.75 \nQ 20.453125 45.75 16.34375 40.984375 \nQ 12.25 36.234375 12.25 26.859375 \nz\n\" id=\"ArialMT-103\"/>\n     </defs>\n     <g transform=\"translate(107.735156 252.065)scale(0.1 -0.1)\">\n      <use xlink:href=\"#ArialMT-37\"/>\n      <use x=\"88.916016\" xlink:href=\"#ArialMT-32\"/>\n      <use x=\"116.699219\" xlink:href=\"#ArialMT-111\"/>\n      <use x=\"172.314453\" xlink:href=\"#ArialMT-102\"/>\n      <use x=\"200.097656\" xlink:href=\"#ArialMT-32\"/>\n      <use x=\"227.880859\" xlink:href=\"#ArialMT-114\"/>\n      <use x=\"261.181641\" xlink:href=\"#ArialMT-101\"/>\n      <use x=\"316.796875\" xlink:href=\"#ArialMT-102\"/>\n      <use x=\"344.580078\" xlink:href=\"#ArialMT-101\"/>\n      <use x=\"400.195312\" xlink:href=\"#ArialMT-114\"/>\n      <use x=\"433.496094\" xlink:href=\"#ArialMT-101\"/>\n      <use x=\"489.111328\" xlink:href=\"#ArialMT-110\"/>\n      <use x=\"544.726562\" xlink:href=\"#ArialMT-99\"/>\n      <use x=\"594.726562\" xlink:href=\"#ArialMT-101\"/>\n      <use x=\"650.341797\" xlink:href=\"#ArialMT-32\"/>\n      <use x=\"678.125\" xlink:href=\"#ArialMT-105\"/>\n      <use x=\"700.341797\" xlink:href=\"#ArialMT-115\"/>\n      <use x=\"750.341797\" xlink:href=\"#ArialMT-111\"/>\n      <use x=\"805.957031\" xlink:href=\"#ArialMT-102\"/>\n      <use x=\"833.740234\" xlink:href=\"#ArialMT-111\"/>\n      <use x=\"889.355469\" xlink:href=\"#ArialMT-114\"/>\n      <use x=\"922.65625\" xlink:href=\"#ArialMT-109\"/>\n      <use x=\"1005.957031\" xlink:href=\"#ArialMT-32\"/>\n      <use x=\"1033.740234\" xlink:href=\"#ArialMT-105\"/>\n      <use x=\"1055.957031\" xlink:href=\"#ArialMT-110\"/>\n      <use x=\"1111.572266\" xlink:href=\"#ArialMT-32\"/>\n      <use x=\"1139.355469\" xlink:href=\"#ArialMT-80\"/>\n      <use x=\"1206.054688\" xlink:href=\"#ArialMT-80\"/>\n      <use x=\"1272.753906\" xlink:href=\"#ArialMT-73\"/>\n      <use x=\"1300.537109\" xlink:href=\"#ArialMT-32\"/>\n      <use x=\"1328.320312\" xlink:href=\"#ArialMT-115\"/>\n      <use x=\"1378.320312\" xlink:href=\"#ArialMT-112\"/>\n      <use x=\"1433.935547\" xlink:href=\"#ArialMT-101\"/>\n      <use x=\"1489.550781\" xlink:href=\"#ArialMT-99\"/>\n      <use x=\"1539.550781\" xlink:href=\"#ArialMT-105\"/>\n      <use x=\"1561.767578\" xlink:href=\"#ArialMT-102\"/>\n      <use x=\"1589.550781\" xlink:href=\"#ArialMT-105\"/>\n      <use x=\"1611.767578\" xlink:href=\"#ArialMT-99\"/>\n      <use x=\"1661.767578\" xlink:href=\"#ArialMT-32\"/>\n      <use x=\"1689.550781\" xlink:href=\"#ArialMT-114\"/>\n      <use x=\"1722.851562\" xlink:href=\"#ArialMT-101\"/>\n      <use x=\"1778.466797\" xlink:href=\"#ArialMT-103\"/>\n      <use x=\"1834.082031\" xlink:href=\"#ArialMT-105\"/>\n      <use x=\"1856.298828\" xlink:href=\"#ArialMT-111\"/>\n      <use x=\"1911.914062\" xlink:href=\"#ArialMT-110\"/>\n     </g>\n    </g>\n   </g>\n   <g id=\"matplotlib.axis_2\">\n    <g id=\"ytick_1\">\n     <g id=\"line2d_7\">\n      <defs>\n       <path d=\"M 0 0 \nL -3.5 0 \n\" id=\"m64803c6bdc\" style=\"stroke:#000000;stroke-width:0.8;\"/>\n      </defs>\n      <g>\n       <use style=\"stroke:#000000;stroke-width:0.8;\" x=\"38.70625\" xlink:href=\"#m64803c6bdc\" y=\"224.64\"/>\n      </g>\n     </g>\n     <g id=\"text_8\">\n      <!-- 0 -->\n      <g transform=\"translate(26.145313 228.218906)scale(0.1 -0.1)\">\n       <use xlink:href=\"#ArialMT-48\"/>\n      </g>\n     </g>\n    </g>\n    <g id=\"ytick_2\">\n     <g id=\"line2d_8\">\n      <g>\n       <use style=\"stroke:#000000;stroke-width:0.8;\" x=\"38.70625\" xlink:href=\"#m64803c6bdc\" y=\"196.655444\"/>\n      </g>\n     </g>\n     <g id=\"text_9\">\n      <!-- 5 -->\n      <defs>\n       <path d=\"M 4.15625 18.75 \nL 13.375 19.53125 \nQ 14.40625 12.796875 18.140625 9.390625 \nQ 21.875 6 27.15625 6 \nQ 33.5 6 37.890625 10.78125 \nQ 42.28125 15.578125 42.28125 23.484375 \nQ 42.28125 31 38.0625 35.34375 \nQ 33.84375 39.703125 27 39.703125 \nQ 22.75 39.703125 19.328125 37.765625 \nQ 15.921875 35.84375 13.96875 32.765625 \nL 5.71875 33.84375 \nL 12.640625 70.609375 \nL 48.25 70.609375 \nL 48.25 62.203125 \nL 19.671875 62.203125 \nL 15.828125 42.96875 \nQ 22.265625 47.46875 29.34375 47.46875 \nQ 38.71875 47.46875 45.15625 40.96875 \nQ 51.609375 34.46875 51.609375 24.265625 \nQ 51.609375 14.546875 45.953125 7.46875 \nQ 39.0625 -1.21875 27.15625 -1.21875 \nQ 17.390625 -1.21875 11.203125 4.25 \nQ 5.03125 9.71875 4.15625 18.75 \nz\n\" id=\"ArialMT-53\"/>\n      </defs>\n      <g transform=\"translate(26.145313 200.23435)scale(0.1 -0.1)\">\n       <use xlink:href=\"#ArialMT-53\"/>\n      </g>\n     </g>\n    </g>\n    <g id=\"ytick_3\">\n     <g id=\"line2d_9\">\n      <g>\n       <use style=\"stroke:#000000;stroke-width:0.8;\" x=\"38.70625\" xlink:href=\"#m64803c6bdc\" y=\"168.670888\"/>\n      </g>\n     </g>\n     <g id=\"text_10\">\n      <!-- 10 -->\n      <g transform=\"translate(20.584375 172.249794)scale(0.1 -0.1)\">\n       <use xlink:href=\"#ArialMT-49\"/>\n       <use x=\"55.615234\" xlink:href=\"#ArialMT-48\"/>\n      </g>\n     </g>\n    </g>\n    <g id=\"ytick_4\">\n     <g id=\"line2d_10\">\n      <g>\n       <use style=\"stroke:#000000;stroke-width:0.8;\" x=\"38.70625\" xlink:href=\"#m64803c6bdc\" y=\"140.686332\"/>\n      </g>\n     </g>\n     <g id=\"text_11\">\n      <!-- 15 -->\n      <g transform=\"translate(20.584375 144.265238)scale(0.1 -0.1)\">\n       <use xlink:href=\"#ArialMT-49\"/>\n       <use x=\"55.615234\" xlink:href=\"#ArialMT-53\"/>\n      </g>\n     </g>\n    </g>\n    <g id=\"ytick_5\">\n     <g id=\"line2d_11\">\n      <g>\n       <use style=\"stroke:#000000;stroke-width:0.8;\" x=\"38.70625\" xlink:href=\"#m64803c6bdc\" y=\"112.701776\"/>\n      </g>\n     </g>\n     <g id=\"text_12\">\n      <!-- 20 -->\n      <g transform=\"translate(20.584375 116.280682)scale(0.1 -0.1)\">\n       <use xlink:href=\"#ArialMT-50\"/>\n       <use x=\"55.615234\" xlink:href=\"#ArialMT-48\"/>\n      </g>\n     </g>\n    </g>\n    <g id=\"ytick_6\">\n     <g id=\"line2d_12\">\n      <g>\n       <use style=\"stroke:#000000;stroke-width:0.8;\" x=\"38.70625\" xlink:href=\"#m64803c6bdc\" y=\"84.71722\"/>\n      </g>\n     </g>\n     <g id=\"text_13\">\n      <!-- 25 -->\n      <g transform=\"translate(20.584375 88.296126)scale(0.1 -0.1)\">\n       <use xlink:href=\"#ArialMT-50\"/>\n       <use x=\"55.615234\" xlink:href=\"#ArialMT-53\"/>\n      </g>\n     </g>\n    </g>\n    <g id=\"ytick_7\">\n     <g id=\"line2d_13\">\n      <g>\n       <use style=\"stroke:#000000;stroke-width:0.8;\" x=\"38.70625\" xlink:href=\"#m64803c6bdc\" y=\"56.732664\"/>\n      </g>\n     </g>\n     <g id=\"text_14\">\n      <!-- 30 -->\n      <defs>\n       <path d=\"M 4.203125 18.890625 \nL 12.984375 20.0625 \nQ 14.5 12.59375 18.140625 9.296875 \nQ 21.78125 6 27 6 \nQ 33.203125 6 37.46875 10.296875 \nQ 41.75 14.59375 41.75 20.953125 \nQ 41.75 27 37.796875 30.921875 \nQ 33.84375 34.859375 27.734375 34.859375 \nQ 25.25 34.859375 21.53125 33.890625 \nL 22.515625 41.609375 \nQ 23.390625 41.5 23.921875 41.5 \nQ 29.546875 41.5 34.03125 44.421875 \nQ 38.53125 47.359375 38.53125 53.46875 \nQ 38.53125 58.296875 35.25 61.46875 \nQ 31.984375 64.65625 26.8125 64.65625 \nQ 21.6875 64.65625 18.265625 61.421875 \nQ 14.84375 58.203125 13.875 51.765625 \nL 5.078125 53.328125 \nQ 6.6875 62.15625 12.390625 67.015625 \nQ 18.109375 71.875 26.609375 71.875 \nQ 32.46875 71.875 37.390625 69.359375 \nQ 42.328125 66.84375 44.9375 62.5 \nQ 47.5625 58.15625 47.5625 53.265625 \nQ 47.5625 48.640625 45.0625 44.828125 \nQ 42.578125 41.015625 37.703125 38.765625 \nQ 44.046875 37.3125 47.5625 32.6875 \nQ 51.078125 28.078125 51.078125 21.140625 \nQ 51.078125 11.765625 44.234375 5.25 \nQ 37.40625 -1.265625 26.953125 -1.265625 \nQ 17.53125 -1.265625 11.296875 4.34375 \nQ 5.078125 9.96875 4.203125 18.890625 \nz\n\" id=\"ArialMT-51\"/>\n      </defs>\n      <g transform=\"translate(20.584375 60.31157)scale(0.1 -0.1)\">\n       <use xlink:href=\"#ArialMT-51\"/>\n       <use x=\"55.615234\" xlink:href=\"#ArialMT-48\"/>\n      </g>\n     </g>\n    </g>\n    <g id=\"ytick_8\">\n     <g id=\"line2d_14\">\n      <g>\n       <use style=\"stroke:#000000;stroke-width:0.8;\" x=\"38.70625\" xlink:href=\"#m64803c6bdc\" y=\"28.748108\"/>\n      </g>\n     </g>\n     <g id=\"text_15\">\n      <!-- 35 -->\n      <g transform=\"translate(20.584375 32.327014)scale(0.1 -0.1)\">\n       <use xlink:href=\"#ArialMT-51\"/>\n       <use x=\"55.615234\" xlink:href=\"#ArialMT-53\"/>\n      </g>\n     </g>\n    </g>\n    <g id=\"text_16\">\n     <!-- Number of gene-level PPIs -->\n     <defs>\n      <path d=\"M 7.625 0 \nL 7.625 71.578125 \nL 17.328125 71.578125 \nL 54.9375 15.375 \nL 54.9375 71.578125 \nL 64.015625 71.578125 \nL 64.015625 0 \nL 54.296875 0 \nL 16.703125 56.25 \nL 16.703125 0 \nz\n\" id=\"ArialMT-78\"/>\n      <path d=\"M 40.578125 0 \nL 40.578125 7.625 \nQ 34.515625 -1.171875 24.125 -1.171875 \nQ 19.53125 -1.171875 15.546875 0.578125 \nQ 11.578125 2.34375 9.640625 5 \nQ 7.71875 7.671875 6.9375 11.53125 \nQ 6.390625 14.109375 6.390625 19.734375 \nL 6.390625 51.859375 \nL 15.1875 51.859375 \nL 15.1875 23.09375 \nQ 15.1875 16.21875 15.71875 13.8125 \nQ 16.546875 10.359375 19.234375 8.375 \nQ 21.921875 6.390625 25.875 6.390625 \nQ 29.828125 6.390625 33.296875 8.421875 \nQ 36.765625 10.453125 38.203125 13.9375 \nQ 39.65625 17.4375 39.65625 24.078125 \nL 39.65625 51.859375 \nL 48.4375 51.859375 \nL 48.4375 0 \nz\n\" id=\"ArialMT-117\"/>\n      <path d=\"M 14.703125 0 \nL 6.546875 0 \nL 6.546875 71.578125 \nL 15.328125 71.578125 \nL 15.328125 46.046875 \nQ 20.90625 53.03125 29.546875 53.03125 \nQ 34.328125 53.03125 38.59375 51.09375 \nQ 42.875 49.171875 45.625 45.671875 \nQ 48.390625 42.1875 49.953125 37.25 \nQ 51.515625 32.328125 51.515625 26.703125 \nQ 51.515625 13.375 44.921875 6.09375 \nQ 38.328125 -1.171875 29.109375 -1.171875 \nQ 19.921875 -1.171875 14.703125 6.5 \nz\nM 14.59375 26.3125 \nQ 14.59375 17 17.140625 12.84375 \nQ 21.296875 6.0625 28.375 6.0625 \nQ 34.125 6.0625 38.328125 11.0625 \nQ 42.53125 16.0625 42.53125 25.984375 \nQ 42.53125 36.140625 38.5 40.96875 \nQ 34.46875 45.796875 28.765625 45.796875 \nQ 23 45.796875 18.796875 40.796875 \nQ 14.59375 35.796875 14.59375 26.3125 \nz\n\" id=\"ArialMT-98\"/>\n      <path d=\"M 3.171875 21.484375 \nL 3.171875 30.328125 \nL 30.171875 30.328125 \nL 30.171875 21.484375 \nz\n\" id=\"ArialMT-45\"/>\n      <path d=\"M 6.390625 0 \nL 6.390625 71.578125 \nL 15.1875 71.578125 \nL 15.1875 0 \nz\n\" id=\"ArialMT-108\"/>\n      <path d=\"M 21 0 \nL 1.265625 51.859375 \nL 10.546875 51.859375 \nL 21.6875 20.796875 \nQ 23.484375 15.765625 25 10.359375 \nQ 26.171875 14.453125 28.265625 20.21875 \nL 39.796875 51.859375 \nL 48.828125 51.859375 \nL 29.203125 0 \nz\n\" id=\"ArialMT-118\"/>\n     </defs>\n     <g transform=\"translate(14.479688 175.667656)rotate(-90)scale(0.1 -0.1)\">\n      <use xlink:href=\"#ArialMT-78\"/>\n      <use x=\"72.216797\" xlink:href=\"#ArialMT-117\"/>\n      <use x=\"127.832031\" xlink:href=\"#ArialMT-109\"/>\n      <use x=\"211.132812\" xlink:href=\"#ArialMT-98\"/>\n      <use x=\"266.748047\" xlink:href=\"#ArialMT-101\"/>\n      <use x=\"322.363281\" xlink:href=\"#ArialMT-114\"/>\n      <use x=\"355.664062\" xlink:href=\"#ArialMT-32\"/>\n      <use x=\"383.447266\" xlink:href=\"#ArialMT-111\"/>\n      <use x=\"439.0625\" xlink:href=\"#ArialMT-102\"/>\n      <use x=\"466.845703\" xlink:href=\"#ArialMT-32\"/>\n      <use x=\"494.628906\" xlink:href=\"#ArialMT-103\"/>\n      <use x=\"550.244141\" xlink:href=\"#ArialMT-101\"/>\n      <use x=\"605.859375\" xlink:href=\"#ArialMT-110\"/>\n      <use x=\"661.474609\" xlink:href=\"#ArialMT-101\"/>\n      <use x=\"717.089844\" xlink:href=\"#ArialMT-45\"/>\n      <use x=\"750.390625\" xlink:href=\"#ArialMT-108\"/>\n      <use x=\"772.607422\" xlink:href=\"#ArialMT-101\"/>\n      <use x=\"828.222656\" xlink:href=\"#ArialMT-118\"/>\n      <use x=\"878.222656\" xlink:href=\"#ArialMT-101\"/>\n      <use x=\"933.837891\" xlink:href=\"#ArialMT-108\"/>\n      <use x=\"956.054688\" xlink:href=\"#ArialMT-32\"/>\n      <use x=\"983.837891\" xlink:href=\"#ArialMT-80\"/>\n      <use x=\"1050.537109\" xlink:href=\"#ArialMT-80\"/>\n      <use x=\"1117.236328\" xlink:href=\"#ArialMT-73\"/>\n      <use x=\"1145.019531\" xlink:href=\"#ArialMT-115\"/>\n     </g>\n    </g>\n   </g>\n   <g id=\"patch_13\">\n    <path d=\"M 38.70625 224.64 \nL 38.70625 7.2 \n\" style=\"fill:none;stroke:#000000;stroke-linecap:square;stroke-linejoin:miter;stroke-width:0.8;\"/>\n   </g>\n   <g id=\"patch_14\">\n    <path d=\"M 373.50625 224.64 \nL 373.50625 7.2 \n\" style=\"fill:none;stroke:#000000;stroke-linecap:square;stroke-linejoin:miter;stroke-width:0.8;\"/>\n   </g>\n   <g id=\"patch_15\">\n    <path d=\"M 38.70625 224.64 \nL 373.50625 224.64 \n\" style=\"fill:none;stroke:#000000;stroke-linecap:square;stroke-linejoin:miter;stroke-width:0.8;\"/>\n   </g>\n   <g id=\"patch_16\">\n    <path d=\"M 38.70625 7.2 \nL 373.50625 7.2 \n\" style=\"fill:none;stroke:#000000;stroke-linecap:square;stroke-linejoin:miter;stroke-width:0.8;\"/>\n   </g>\n  </g>\n </g>\n <defs>\n  <clipPath id=\"pff80a54ce7\">\n   <rect height=\"217.44\" width=\"334.8\" x=\"38.70625\" y=\"7.2\"/>\n  </clipPath>\n </defs>\n</svg>\n",
      "image/png": "[encoded data removed]"
     },
     "metadata": {
      "needs_background": "light"
     }
    }
   ],
   "source": [
    "from matplotlib import pyplot as plt\n",
    "(slim_ppis.loc[: ,['ad_gene_symbol', 'db_gene_symbol', 'isr_frac']].drop_duplicates()['isr_frac'] * 100).plot.hist()\n",
    "plt.xlabel('% of reference isoform in PPI specific region')\n",
    "plt.ylabel('Number of gene-level PPIs')\n",
    "plt.savefig('../../figures/fraction_isr.pdf', bbox_inches='tight')"
   ]
  },
  {
   "cell_type": "code",
   "execution_count": 81,
   "metadata": {
    "tags": []
   },
   "outputs": [
    {
     "output_type": "stream",
     "name": "stdout",
     "text": "real =  6 out of 37\nP = 0.99\n"
    }
   ],
   "source": [
    "slim_ppis_spec = slim_ppis.loc[slim_ppis['isr_frac'] <= 0.1, :].copy()\n",
    "gg = slim_ppis_spec.loc[:, ['ad_gene_symbol', 'db_gene_symbol', 'aa_seq_ref_iso', 'isr_len']].drop_duplicates().copy().set_index(['ad_gene_symbol', 'db_gene_symbol'])\n",
    "\n",
    "def rand_subseq(row):\n",
    "    rand_start = np.random.randint((len(row['aa_seq_ref_iso']) - row['isr_len']) + 1)\n",
    "    return row['aa_seq_ref_iso'][rand_start:rand_start + row['isr_len']]\n",
    "\n",
    "null_dist = []\n",
    "n_samples = 100\n",
    "for __ in range(n_samples):\n",
    "    rand_seq = gg.apply(rand_subseq, axis=1)\n",
    "    rand_seq = pd.merge(rand_seq.rename('rand_aa_seq').reset_index(),\n",
    "                        slim_ppis_spec.loc[:, ['ad_gene_symbol', 'db_gene_symbol', 'regex']],\n",
    "                        how='inner')\n",
    "    rand_seq['match_count_rand_aa_seq'] = rand_seq.apply(lambda x: len(re.findall(x['regex'], x['rand_aa_seq'])),\n",
    "                    axis=1)\n",
    "    null_dist.append((rand_seq.groupby(['ad_gene_symbol', 'db_gene_symbol'])['match_count_rand_aa_seq'].sum() > 0).sum())\n",
    "real = (slim_ppis_spec.groupby(['ad_gene_symbol', 'db_gene_symbol'])['match_count_isr'].sum() > 0).sum()\n",
    "n = slim_ppis_spec[['ad_gene_symbol', 'db_gene_symbol']].drop_duplicates().shape[0]\n",
    "print('real = ', real, 'out of', n)\n",
    "print('P =', len([n for n in null_dist if n >= real]) / n_samples)"
   ]
  },
  {
   "cell_type": "code",
   "execution_count": 12,
   "metadata": {
    "tags": []
   },
   "outputs": [
    {
     "output_type": "stream",
     "name": "stdout",
     "text": "1372\n358\n0.0022695654906942854\n0.002524380010859065\n"
    }
   ],
   "source": [
    "print(slim_ppis['match_count_ref_iso'].sum())\n",
    "print(slim_ppis['match_count_isr'].sum())\n",
    "print(slim_ppis['match_count_ref_iso'].sum() / slim_ppis['aa_seq_len_ref_iso'].sum())\n",
    "print(slim_ppis['match_count_isr'].sum() / slim_ppis['isr_len'].sum())"
   ]
  },
  {
   "cell_type": "code",
   "execution_count": 183,
   "metadata": {
    "tags": []
   },
   "outputs": [
    {
     "output_type": "stream",
     "name": "stdout",
     "text": "0.00019543973941368078\n0.0003751078435050077\n0.00012224752066747146\n"
    }
   ],
   "source": [
    "res = slim_ppis.sort_values('motif_probability', ascending=True).drop_duplicates(['ad_gene_symbol', 'db_gene_symbol', 'pfam_accession'])\n",
    "print(res['match_count_ref_iso'].sum() / res['aa_seq_len_ref_iso'].sum())\n",
    "print(res['match_count_isr'].sum() / res['isr_len'].sum())\n",
    "print((res['match_count_ref_iso'] - res['match_count_isr']).sum() / (res['aa_seq_len_ref_iso'] - res['isr_len']).sum())\n",
    "print((slim_ppis.loc[slim_ppis['slim_match'],\n",
    "               ['ad_gene_symbol', 'db_gene_symbol']]\n",
    "          .drop_duplicates()\n",
    "          .shape[0]))"
   ]
  },
  {
   "cell_type": "code",
   "execution_count": 83,
   "metadata": {},
   "outputs": [
    {
     "output_type": "execute_result",
     "data": {
      "text/plain": "Index(['ad_gene_symbol', 'db_gene_symbol', 'pfam_accession', 'domain_name',\n       'domain_description', 'ELM identifier', 'aa_seq_isr', 'slim_match',\n       'aa_seq_ref_iso', 'regex', 'match_count_ref_iso', 'match_count_isr',\n       'aa_seq_len_ref_iso', 'isr_len', 'motif_probability', 'isr_frac'],\n      dtype='object')"
     },
     "metadata": {},
     "execution_count": 83
    }
   ],
   "source": [
    "slim_ppis.columns"
   ]
  },
  {
   "cell_type": "code",
   "execution_count": 91,
   "metadata": {},
   "outputs": [],
   "source": [
    "(slim_ppis.loc[slim_ppis['slim_match'], ['ad_gene_symbol', 'db_gene_symbol', 'domain_description', 'ELM identifier', 'regex', 'motif_probability']].sort_values('motif_probability')\n",
    ".drop_duplicates(['ad_gene_symbol', 'db_gene_symbol', 'domain_description'])).to_csv('~/Desktop/slim_matches.csv', index=False)"
   ]
  },
  {
   "cell_type": "code",
   "execution_count": 103,
   "metadata": {},
   "outputs": [
    {
     "output_type": "execute_result",
     "data": {
      "text/plain": "      ad_gene_symbol db_gene_symbol\n3606           STAT3            BLK\n3839           IKZF2        ARHGEF5\n3980            PAX5           STAC\n4014           MEIS2            HCK\n4229           IKZF2            TXK\n4406           STAT3            TXK\n5483            TCF4          CABP5\n6410           FOXP2           RNF8\n7162           FOXP2          SDCBP\n7525           MEIS2           LNX1\n7552           FOXP2           LNX1\n8254           MEIS2           IL16\n13667           TCF4          EPHB6\n14019          TCF12          EPHB6\n14607          IKZF2           CDC7\n15485          STAT3            BMX\n15855         HMBOX1          CDK18\n15908          TCF12           NEK6\n16816         ZNF263           CLK3\n17153         ZSCAN9          SRPK2\n18054           ATF2          MAPK9\n18074          CREB5          MAPK9\n19466         ZNF263           CLK2\n20019           FOSB         PRKAA2\n20028           NFYA         PRKAA2\n20031          FOXN4         PRKAA2\n22605         CREBZF          HCFC1\n22697          NR4A2           RXRG\n23337         NFE2L2            WAC\n23472          FOXN4           PIN1\n23474           PBX1           PIN1\n23477          FOXP2           PIN1\n23496            FOS           PIN1\n23504          MEOX1           PIN1\n23657          HOXA1          PCSK5\n23806           FOSB         HOMER3\n23826           RFX4           CCNK\n23956         HMBOX1          UBE2Z\n24094           NFIX           MLH1\n24109          MEOX1          CKS1B\n24139          FOXP2          CTBP2\n24155           SOX5          CTBP2",
      "text/html": "<div>\n<style scoped>\n    .dataframe tbody tr th:only-of-type {\n        vertical-align: middle;\n    }\n\n    .dataframe tbody tr th {\n        vertical-align: top;\n    }\n\n    .dataframe thead th {\n        text-align: right;\n    }\n</style>\n<table border=\"1\" class=\"dataframe\">\n  <thead>\n    <tr style=\"text-align: right;\">\n      <th></th>\n      <th>ad_gene_symbol</th>\n      <th>db_gene_symbol</th>\n    </tr>\n  </thead>\n  <tbody>\n    <tr>\n      <th>3606</th>\n      <td>STAT3</td>\n      <td>BLK</td>\n    </tr>\n    <tr>\n      <th>3839</th>\n      <td>IKZF2</td>\n      <td>ARHGEF5</td>\n    </tr>\n    <tr>\n      <th>3980</th>\n      <td>PAX5</td>\n      <td>STAC</td>\n    </tr>\n    <tr>\n      <th>4014</th>\n      <td>MEIS2</td>\n      <td>HCK</td>\n    </tr>\n    <tr>\n      <th>4229</th>\n      <td>IKZF2</td>\n      <td>TXK</td>\n    </tr>\n    <tr>\n      <th>4406</th>\n      <td>STAT3</td>\n      <td>TXK</td>\n    </tr>\n    <tr>\n      <th>5483</th>\n      <td>TCF4</td>\n      <td>CABP5</td>\n    </tr>\n    <tr>\n      <th>6410</th>\n      <td>FOXP2</td>\n      <td>RNF8</td>\n    </tr>\n    <tr>\n      <th>7162</th>\n      <td>FOXP2</td>\n      <td>SDCBP</td>\n    </tr>\n    <tr>\n      <th>7525</th>\n      <td>MEIS2</td>\n      <td>LNX1</td>\n    </tr>\n    <tr>\n      <th>7552</th>\n      <td>FOXP2</td>\n      <td>LNX1</td>\n    </tr>\n    <tr>\n      <th>8254</th>\n      <td>MEIS2</td>\n      <td>IL16</td>\n    </tr>\n    <tr>\n      <th>13667</th>\n      <td>TCF4</td>\n      <td>EPHB6</td>\n    </tr>\n    <tr>\n      <th>14019</th>\n      <td>TCF12</td>\n      <td>EPHB6</td>\n    </tr>\n    <tr>\n      <th>14607</th>\n      <td>IKZF2</td>\n      <td>CDC7</td>\n    </tr>\n    <tr>\n      <th>15485</th>\n      <td>STAT3</td>\n      <td>BMX</td>\n    </tr>\n    <tr>\n      <th>15855</th>\n      <td>HMBOX1</td>\n      <td>CDK18</td>\n    </tr>\n    <tr>\n      <th>15908</th>\n      <td>TCF12</td>\n      <td>NEK6</td>\n    </tr>\n    <tr>\n      <th>16816</th>\n      <td>ZNF263</td>\n      <td>CLK3</td>\n    </tr>\n    <tr>\n      <th>17153</th>\n      <td>ZSCAN9</td>\n      <td>SRPK2</td>\n    </tr>\n    <tr>\n      <th>18054</th>\n      <td>ATF2</td>\n      <td>MAPK9</td>\n    </tr>\n    <tr>\n      <th>18074</th>\n      <td>CREB5</td>\n      <td>MAPK9</td>\n    </tr>\n    <tr>\n      <th>19466</th>\n      <td>ZNF263</td>\n      <td>CLK2</td>\n    </tr>\n    <tr>\n      <th>20019</th>\n      <td>FOSB</td>\n      <td>PRKAA2</td>\n    </tr>\n    <tr>\n      <th>20028</th>\n      <td>NFYA</td>\n      <td>PRKAA2</td>\n    </tr>\n    <tr>\n      <th>20031</th>\n      <td>FOXN4</td>\n      <td>PRKAA2</td>\n    </tr>\n    <tr>\n      <th>22605</th>\n      <td>CREBZF</td>\n      <td>HCFC1</td>\n    </tr>\n    <tr>\n      <th>22697</th>\n      <td>NR4A2</td>\n      <td>RXRG</td>\n    </tr>\n    <tr>\n      <th>23337</th>\n      <td>NFE2L2</td>\n      <td>WAC</td>\n    </tr>\n    <tr>\n      <th>23472</th>\n      <td>FOXN4</td>\n      <td>PIN1</td>\n    </tr>\n    <tr>\n      <th>23474</th>\n      <td>PBX1</td>\n      <td>PIN1</td>\n    </tr>\n    <tr>\n      <th>23477</th>\n      <td>FOXP2</td>\n      <td>PIN1</td>\n    </tr>\n    <tr>\n      <th>23496</th>\n      <td>FOS</td>\n      <td>PIN1</td>\n    </tr>\n    <tr>\n      <th>23504</th>\n      <td>MEOX1</td>\n      <td>PIN1</td>\n    </tr>\n    <tr>\n      <th>23657</th>\n      <td>HOXA1</td>\n      <td>PCSK5</td>\n    </tr>\n    <tr>\n      <th>23806</th>\n      <td>FOSB</td>\n      <td>HOMER3</td>\n    </tr>\n    <tr>\n      <th>23826</th>\n      <td>RFX4</td>\n      <td>CCNK</td>\n    </tr>\n    <tr>\n      <th>23956</th>\n      <td>HMBOX1</td>\n      <td>UBE2Z</td>\n    </tr>\n    <tr>\n      <th>24094</th>\n      <td>NFIX</td>\n      <td>MLH1</td>\n    </tr>\n    <tr>\n      <th>24109</th>\n      <td>MEOX1</td>\n      <td>CKS1B</td>\n    </tr>\n    <tr>\n      <th>24139</th>\n      <td>FOXP2</td>\n      <td>CTBP2</td>\n    </tr>\n    <tr>\n      <th>24155</th>\n      <td>SOX5</td>\n      <td>CTBP2</td>\n    </tr>\n  </tbody>\n</table>\n</div>"
     },
     "metadata": {},
     "execution_count": 103
    }
   ],
   "source": [
    "match_pairs = (slim_ppis.loc[slim_ppis['slim_match'],\n",
    "               ['ad_gene_symbol', 'db_gene_symbol']]\n",
    "                .drop_duplicates())\n",
    "match_pairs.head()"
   ]
  },
  {
   "cell_type": "code",
   "execution_count": 125,
   "metadata": {
    "tags": []
   },
   "outputs": [
    {
     "output_type": "stream",
     "name": "stdout",
     "text": "42 gene-level PPIs corresponding to motif in the isoform regions\nout of 126 possible\n"
    }
   ],
   "source": [
    "print(match_pairs.shape[0], 'gene-level PPIs corresponding to motif in the isoform regions')\n",
    "print('out of {} possible'.format(slim_ppis[['ad_gene_symbol', 'db_gene_symbol']].drop_duplicates().shape[0]))"
   ]
  },
  {
   "cell_type": "code",
   "execution_count": 104,
   "metadata": {},
   "outputs": [
    {
     "output_type": "execute_result",
     "data": {
      "text/plain": "FOXP2     5\nSTAT3     3\nIKZF2     3\nMEIS2     3\nZNF263    2\nName: ad_gene_symbol, dtype: int64"
     },
     "metadata": {},
     "execution_count": 104
    }
   ],
   "source": [
    "match_pairs['ad_gene_symbol'].value_counts().head()"
   ]
  },
  {
   "cell_type": "code",
   "execution_count": 119,
   "metadata": {},
   "outputs": [
    {
     "output_type": "execute_result",
     "data": {
      "text/plain": "      ad_gene_symbol db_gene_symbol pfam_accession domain_name  \\\n6410           FOXP2           RNF8        PF00498         FHA   \n6417           FOXP2           RNF8        PF00498         FHA   \n7084           FOXP2          SDCBP        PF00595         PDZ   \n7123           FOXP2          SDCBP        PF00595         PDZ   \n7162           FOXP2          SDCBP        PF00595         PDZ   \n7201           FOXP2          SDCBP        PF00595         PDZ   \n7240           FOXP2          SDCBP        PF00595         PDZ   \n7478           FOXP2           LNX1        PF00595         PDZ   \n7515           FOXP2           LNX1        PF00595         PDZ   \n7552           FOXP2           LNX1        PF00595         PDZ   \n7589           FOXP2           LNX1        PF00595         PDZ   \n7626           FOXP2           LNX1        PF00595         PDZ   \n23345          FOXP2           PIN1        PF00397          WW   \n23389          FOXP2           PIN1        PF00397          WW   \n23433          FOXP2           PIN1        PF00397          WW   \n23477          FOXP2           PIN1        PF00397          WW   \n24139          FOXP2          CTBP2        PF00389  2-Hacid_dh   \n\n                                      domain_description     ELM identifier  \\\n6410                                          FHA domain          LIG_FHA_1   \n6417                                          FHA domain          LIG_FHA_2   \n7084              PDZ domain (Also known as DHR or GLGF)    LIG_PDZ_Class_1   \n7123              PDZ domain (Also known as DHR or GLGF)    LIG_PDZ_Class_2   \n7162              PDZ domain (Also known as DHR or GLGF)    LIG_PDZ_Class_3   \n7201              PDZ domain (Also known as DHR or GLGF)    LIG_FZD_DVL_PDZ   \n7240              PDZ domain (Also known as DHR or GLGF)  LIG_PDZ_Wminus1_1   \n7478              PDZ domain (Also known as DHR or GLGF)    LIG_PDZ_Class_1   \n7515              PDZ domain (Also known as DHR or GLGF)    LIG_PDZ_Class_2   \n7552              PDZ domain (Also known as DHR or GLGF)    LIG_PDZ_Class_3   \n7589              PDZ domain (Also known as DHR or GLGF)    LIG_FZD_DVL_PDZ   \n7626              PDZ domain (Also known as DHR or GLGF)  LIG_PDZ_Wminus1_1   \n23345                                          WW domain           LIG_WW_1   \n23389                                          WW domain           LIG_WW_2   \n23433                                          WW domain           LIG_WW_3   \n23477                                          WW domain      DOC_WW_Pin1_4   \n24139  D-isomer specific 2-hydroxyacid dehydrogenase,...   LIG_CtBP_PxDLS_1   \n\n                                              aa_seq_isr  slim_match  \\\n6410   [LNLVSSVTMSKNMLETSPQSLPQTPTTPTAPVTPITQGPSVITPA...        True   \n6417   [LNLVSSVTMSKNMLETSPQSLPQTPTTPTAPVTPITQGPSVITPA...        True   \n7084   [LNLVSSVTMSKNMLETSPQSLPQTPTTPTAPVTPITQGPSVITPA...       False   \n7123   [LNLVSSVTMSKNMLETSPQSLPQTPTTPTAPVTPITQGPSVITPA...       False   \n7162   [LNLVSSVTMSKNMLETSPQSLPQTPTTPTAPVTPITQGPSVITPA...        True   \n7201   [LNLVSSVTMSKNMLETSPQSLPQTPTTPTAPVTPITQGPSVITPA...       False   \n7240   [LNLVSSVTMSKNMLETSPQSLPQTPTTPTAPVTPITQGPSVITPA...       False   \n7478   [LNLVSSVTMSKNMLETSPQSLPQTPTTPTAPVTPITQGPSVITPA...       False   \n7515   [LNLVSSVTMSKNMLETSPQSLPQTPTTPTAPVTPITQGPSVITPA...       False   \n7552   [LNLVSSVTMSKNMLETSPQSLPQTPTTPTAPVTPITQGPSVITPA...        True   \n7589   [LNLVSSVTMSKNMLETSPQSLPQTPTTPTAPVTPITQGPSVITPA...       False   \n7626   [LNLVSSVTMSKNMLETSPQSLPQTPTTPTAPVTPITQGPSVITPA...       False   \n23345  [LNLVSSVTMSKNMLETSPQSLPQTPTTPTAPVTPITQGPSVITPA...       False   \n23389  [LNLVSSVTMSKNMLETSPQSLPQTPTTPTAPVTPITQGPSVITPA...       False   \n23433  [LNLVSSVTMSKNMLETSPQSLPQTPTTPTAPVTPITQGPSVITPA...       False   \n23477  [LNLVSSVTMSKNMLETSPQSLPQTPTTPTAPVTPITQGPSVITPA...        True   \n24139  [LNLVSSVTMSKNMLETSPQSLPQTPTTPTAPVTPITQGPSVITPA...        True   \n\n       isr_length  motif_probability  \n6410          292       8.662243e-03  \n6417          292       8.286441e-03  \n7084          292       7.254532e-05  \n7123          292       7.888516e-05  \n7162          292       6.168209e-05  \n7201          292       8.742688e-09  \n7240          292       3.717553e-06  \n7478          292       7.254532e-05  \n7515          292       7.888516e-05  \n7552          292       6.168209e-05  \n7589          292       8.742688e-09  \n7626          292       3.717553e-06  \n23345         292       1.257407e-04  \n23389         292       6.128715e-05  \n23433         292       5.673225e-04  \n23477         292       1.543321e-02  \n24139         292       1.172914e-04  ",
      "text/html": "<div>\n<style scoped>\n    .dataframe tbody tr th:only-of-type {\n        vertical-align: middle;\n    }\n\n    .dataframe tbody tr th {\n        vertical-align: top;\n    }\n\n    .dataframe thead th {\n        text-align: right;\n    }\n</style>\n<table border=\"1\" class=\"dataframe\">\n  <thead>\n    <tr style=\"text-align: right;\">\n      <th></th>\n      <th>ad_gene_symbol</th>\n      <th>db_gene_symbol</th>\n      <th>pfam_accession</th>\n      <th>domain_name</th>\n      <th>domain_description</th>\n      <th>ELM identifier</th>\n      <th>aa_seq_isr</th>\n      <th>slim_match</th>\n      <th>isr_length</th>\n      <th>motif_probability</th>\n    </tr>\n  </thead>\n  <tbody>\n    <tr>\n      <th>6410</th>\n      <td>FOXP2</td>\n      <td>RNF8</td>\n      <td>PF00498</td>\n      <td>FHA</td>\n      <td>FHA domain</td>\n      <td>LIG_FHA_1</td>\n      <td>[LNLVSSVTMSKNMLETSPQSLPQTPTTPTAPVTPITQGPSVITPA...</td>\n      <td>True</td>\n      <td>292</td>\n      <td>8.662243e-03</td>\n    </tr>\n    <tr>\n      <th>6417</th>\n      <td>FOXP2</td>\n      <td>RNF8</td>\n      <td>PF00498</td>\n      <td>FHA</td>\n      <td>FHA domain</td>\n      <td>LIG_FHA_2</td>\n      <td>[LNLVSSVTMSKNMLETSPQSLPQTPTTPTAPVTPITQGPSVITPA...</td>\n      <td>True</td>\n      <td>292</td>\n      <td>8.286441e-03</td>\n    </tr>\n    <tr>\n      <th>7084</th>\n      <td>FOXP2</td>\n      <td>SDCBP</td>\n      <td>PF00595</td>\n      <td>PDZ</td>\n      <td>PDZ domain (Also known as DHR or GLGF)</td>\n      <td>LIG_PDZ_Class_1</td>\n      <td>[LNLVSSVTMSKNMLETSPQSLPQTPTTPTAPVTPITQGPSVITPA...</td>\n      <td>False</td>\n      <td>292</td>\n      <td>7.254532e-05</td>\n    </tr>\n    <tr>\n      <th>7123</th>\n      <td>FOXP2</td>\n      <td>SDCBP</td>\n      <td>PF00595</td>\n      <td>PDZ</td>\n      <td>PDZ domain (Also known as DHR or GLGF)</td>\n      <td>LIG_PDZ_Class_2</td>\n      <td>[LNLVSSVTMSKNMLETSPQSLPQTPTTPTAPVTPITQGPSVITPA...</td>\n      <td>False</td>\n      <td>292</td>\n      <td>7.888516e-05</td>\n    </tr>\n    <tr>\n      <th>7162</th>\n      <td>FOXP2</td>\n      <td>SDCBP</td>\n      <td>PF00595</td>\n      <td>PDZ</td>\n      <td>PDZ domain (Also known as DHR or GLGF)</td>\n      <td>LIG_PDZ_Class_3</td>\n      <td>[LNLVSSVTMSKNMLETSPQSLPQTPTTPTAPVTPITQGPSVITPA...</td>\n      <td>True</td>\n      <td>292</td>\n      <td>6.168209e-05</td>\n    </tr>\n    <tr>\n      <th>7201</th>\n      <td>FOXP2</td>\n      <td>SDCBP</td>\n      <td>PF00595</td>\n      <td>PDZ</td>\n      <td>PDZ domain (Also known as DHR or GLGF)</td>\n      <td>LIG_FZD_DVL_PDZ</td>\n      <td>[LNLVSSVTMSKNMLETSPQSLPQTPTTPTAPVTPITQGPSVITPA...</td>\n      <td>False</td>\n      <td>292</td>\n      <td>8.742688e-09</td>\n    </tr>\n    <tr>\n      <th>7240</th>\n      <td>FOXP2</td>\n      <td>SDCBP</td>\n      <td>PF00595</td>\n      <td>PDZ</td>\n      <td>PDZ domain (Also known as DHR or GLGF)</td>\n      <td>LIG_PDZ_Wminus1_1</td>\n      <td>[LNLVSSVTMSKNMLETSPQSLPQTPTTPTAPVTPITQGPSVITPA...</td>\n      <td>False</td>\n      <td>292</td>\n      <td>3.717553e-06</td>\n    </tr>\n    <tr>\n      <th>7478</th>\n      <td>FOXP2</td>\n      <td>LNX1</td>\n      <td>PF00595</td>\n      <td>PDZ</td>\n      <td>PDZ domain (Also known as DHR or GLGF)</td>\n      <td>LIG_PDZ_Class_1</td>\n      <td>[LNLVSSVTMSKNMLETSPQSLPQTPTTPTAPVTPITQGPSVITPA...</td>\n      <td>False</td>\n      <td>292</td>\n      <td>7.254532e-05</td>\n    </tr>\n    <tr>\n      <th>7515</th>\n      <td>FOXP2</td>\n      <td>LNX1</td>\n      <td>PF00595</td>\n      <td>PDZ</td>\n      <td>PDZ domain (Also known as DHR or GLGF)</td>\n      <td>LIG_PDZ_Class_2</td>\n      <td>[LNLVSSVTMSKNMLETSPQSLPQTPTTPTAPVTPITQGPSVITPA...</td>\n      <td>False</td>\n      <td>292</td>\n      <td>7.888516e-05</td>\n    </tr>\n    <tr>\n      <th>7552</th>\n      <td>FOXP2</td>\n      <td>LNX1</td>\n      <td>PF00595</td>\n      <td>PDZ</td>\n      <td>PDZ domain (Also known as DHR or GLGF)</td>\n      <td>LIG_PDZ_Class_3</td>\n      <td>[LNLVSSVTMSKNMLETSPQSLPQTPTTPTAPVTPITQGPSVITPA...</td>\n      <td>True</td>\n      <td>292</td>\n      <td>6.168209e-05</td>\n    </tr>\n    <tr>\n      <th>7589</th>\n      <td>FOXP2</td>\n      <td>LNX1</td>\n      <td>PF00595</td>\n      <td>PDZ</td>\n      <td>PDZ domain (Also known as DHR or GLGF)</td>\n      <td>LIG_FZD_DVL_PDZ</td>\n      <td>[LNLVSSVTMSKNMLETSPQSLPQTPTTPTAPVTPITQGPSVITPA...</td>\n      <td>False</td>\n      <td>292</td>\n      <td>8.742688e-09</td>\n    </tr>\n    <tr>\n      <th>7626</th>\n      <td>FOXP2</td>\n      <td>LNX1</td>\n      <td>PF00595</td>\n      <td>PDZ</td>\n      <td>PDZ domain (Also known as DHR or GLGF)</td>\n      <td>LIG_PDZ_Wminus1_1</td>\n      <td>[LNLVSSVTMSKNMLETSPQSLPQTPTTPTAPVTPITQGPSVITPA...</td>\n      <td>False</td>\n      <td>292</td>\n      <td>3.717553e-06</td>\n    </tr>\n    <tr>\n      <th>23345</th>\n      <td>FOXP2</td>\n      <td>PIN1</td>\n      <td>PF00397</td>\n      <td>WW</td>\n      <td>WW domain</td>\n      <td>LIG_WW_1</td>\n      <td>[LNLVSSVTMSKNMLETSPQSLPQTPTTPTAPVTPITQGPSVITPA...</td>\n      <td>False</td>\n      <td>292</td>\n      <td>1.257407e-04</td>\n    </tr>\n    <tr>\n      <th>23389</th>\n      <td>FOXP2</td>\n      <td>PIN1</td>\n      <td>PF00397</td>\n      <td>WW</td>\n      <td>WW domain</td>\n      <td>LIG_WW_2</td>\n      <td>[LNLVSSVTMSKNMLETSPQSLPQTPTTPTAPVTPITQGPSVITPA...</td>\n      <td>False</td>\n      <td>292</td>\n      <td>6.128715e-05</td>\n    </tr>\n    <tr>\n      <th>23433</th>\n      <td>FOXP2</td>\n      <td>PIN1</td>\n      <td>PF00397</td>\n      <td>WW</td>\n      <td>WW domain</td>\n      <td>LIG_WW_3</td>\n      <td>[LNLVSSVTMSKNMLETSPQSLPQTPTTPTAPVTPITQGPSVITPA...</td>\n      <td>False</td>\n      <td>292</td>\n      <td>5.673225e-04</td>\n    </tr>\n    <tr>\n      <th>23477</th>\n      <td>FOXP2</td>\n      <td>PIN1</td>\n      <td>PF00397</td>\n      <td>WW</td>\n      <td>WW domain</td>\n      <td>DOC_WW_Pin1_4</td>\n      <td>[LNLVSSVTMSKNMLETSPQSLPQTPTTPTAPVTPITQGPSVITPA...</td>\n      <td>True</td>\n      <td>292</td>\n      <td>1.543321e-02</td>\n    </tr>\n    <tr>\n      <th>24139</th>\n      <td>FOXP2</td>\n      <td>CTBP2</td>\n      <td>PF00389</td>\n      <td>2-Hacid_dh</td>\n      <td>D-isomer specific 2-hydroxyacid dehydrogenase,...</td>\n      <td>LIG_CtBP_PxDLS_1</td>\n      <td>[LNLVSSVTMSKNMLETSPQSLPQTPTTPTAPVTPITQGPSVITPA...</td>\n      <td>True</td>\n      <td>292</td>\n      <td>1.172914e-04</td>\n    </tr>\n  </tbody>\n</table>\n</div>"
     },
     "metadata": {},
     "execution_count": 119
    }
   ],
   "source": [
    "slim_ppis.loc[slim_ppis['ad_gene_symbol'] == 'FOXP2', :]"
   ]
  },
  {
   "cell_type": "code",
   "execution_count": null,
   "metadata": {},
   "outputs": [],
   "source": []
  },
  {
   "cell_type": "code",
   "execution_count": 105,
   "metadata": {},
   "outputs": [
    {
     "output_type": "execute_result",
     "data": {
      "text/plain": "PIN1      5\nPRKAA2    3\nLNX1      2\nMAPK9     2\nTXK       2\nName: db_gene_symbol, dtype: int64"
     },
     "metadata": {},
     "execution_count": 105
    }
   ],
   "source": [
    "match_pairs['db_gene_symbol'].value_counts().head()"
   ]
  },
  {
   "cell_type": "code",
   "execution_count": 106,
   "metadata": {},
   "outputs": [
    {
     "output_type": "execute_result",
     "data": {
      "text/plain": "      ad_gene_symbol db_gene_symbol pfam_accession domain_name  \\\n23472          FOXN4           PIN1        PF00397          WW   \n23474           PBX1           PIN1        PF00397          WW   \n23477          FOXP2           PIN1        PF00397          WW   \n23496            FOS           PIN1        PF00397          WW   \n23504          MEOX1           PIN1        PF00397          WW   \n\n      domain_description ELM identifier  \\\n23472          WW domain  DOC_WW_Pin1_4   \n23474          WW domain  DOC_WW_Pin1_4   \n23477          WW domain  DOC_WW_Pin1_4   \n23496          WW domain  DOC_WW_Pin1_4   \n23504          WW domain  DOC_WW_Pin1_4   \n\n                                              aa_seq_isr  slim_match  \n23472  [MIESDTSSIMSGIIRNSGQNHHPSPQEYRLLATTSDDDLPGDLQS...        True  \n23474  [GSSSSFNMSNSGDLFMSVQSLNGDSYQGAQVGANVQSQVDTLRHV...        True  \n23477  [LNLVSSVTMSKNMLETSPQSLPQTPTTPTAPVTPITQGPSVITPA...        True  \n23496  [MAAAKCRNRRRELTDTLQAETDQLEDEKSALQTEIANLLKEKEKL...        True  \n23504  [MDPAASSCMRSLQPPAPVWGCLRNPHSEGNGASGLPHYPPTPFSF...        True  ",
      "text/html": "<div>\n<style scoped>\n    .dataframe tbody tr th:only-of-type {\n        vertical-align: middle;\n    }\n\n    .dataframe tbody tr th {\n        vertical-align: top;\n    }\n\n    .dataframe thead th {\n        text-align: right;\n    }\n</style>\n<table border=\"1\" class=\"dataframe\">\n  <thead>\n    <tr style=\"text-align: right;\">\n      <th></th>\n      <th>ad_gene_symbol</th>\n      <th>db_gene_symbol</th>\n      <th>pfam_accession</th>\n      <th>domain_name</th>\n      <th>domain_description</th>\n      <th>ELM identifier</th>\n      <th>aa_seq_isr</th>\n      <th>slim_match</th>\n    </tr>\n  </thead>\n  <tbody>\n    <tr>\n      <th>23472</th>\n      <td>FOXN4</td>\n      <td>PIN1</td>\n      <td>PF00397</td>\n      <td>WW</td>\n      <td>WW domain</td>\n      <td>DOC_WW_Pin1_4</td>\n      <td>[MIESDTSSIMSGIIRNSGQNHHPSPQEYRLLATTSDDDLPGDLQS...</td>\n      <td>True</td>\n    </tr>\n    <tr>\n      <th>23474</th>\n      <td>PBX1</td>\n      <td>PIN1</td>\n      <td>PF00397</td>\n      <td>WW</td>\n      <td>WW domain</td>\n      <td>DOC_WW_Pin1_4</td>\n      <td>[GSSSSFNMSNSGDLFMSVQSLNGDSYQGAQVGANVQSQVDTLRHV...</td>\n      <td>True</td>\n    </tr>\n    <tr>\n      <th>23477</th>\n      <td>FOXP2</td>\n      <td>PIN1</td>\n      <td>PF00397</td>\n      <td>WW</td>\n      <td>WW domain</td>\n      <td>DOC_WW_Pin1_4</td>\n      <td>[LNLVSSVTMSKNMLETSPQSLPQTPTTPTAPVTPITQGPSVITPA...</td>\n      <td>True</td>\n    </tr>\n    <tr>\n      <th>23496</th>\n      <td>FOS</td>\n      <td>PIN1</td>\n      <td>PF00397</td>\n      <td>WW</td>\n      <td>WW domain</td>\n      <td>DOC_WW_Pin1_4</td>\n      <td>[MAAAKCRNRRRELTDTLQAETDQLEDEKSALQTEIANLLKEKEKL...</td>\n      <td>True</td>\n    </tr>\n    <tr>\n      <th>23504</th>\n      <td>MEOX1</td>\n      <td>PIN1</td>\n      <td>PF00397</td>\n      <td>WW</td>\n      <td>WW domain</td>\n      <td>DOC_WW_Pin1_4</td>\n      <td>[MDPAASSCMRSLQPPAPVWGCLRNPHSEGNGASGLPHYPPTPFSF...</td>\n      <td>True</td>\n    </tr>\n  </tbody>\n</table>\n</div>"
     },
     "metadata": {},
     "execution_count": 106
    }
   ],
   "source": [
    "slim_ppis.loc[slim_ppis['slim_match'] & (slim_ppis['db_gene_symbol'] == 'PIN1'), :]"
   ]
  },
  {
   "cell_type": "markdown",
   "metadata": {},
   "source": [
    "Pin1 Links the Activities of c-Abl\n",
    "and p300 in Regulating p73 Function, Mol. Cell, 2004\n",
    "\n",
    "It has been showing that TP73 isoforms lacking the PIN1 interacting motif have reduced transcriptional activity.\n",
    "\n",
    "Also the mouse FOS has the PIN1 motif binding shown."
   ]
  },
  {
   "cell_type": "code",
   "execution_count": 107,
   "metadata": {},
   "outputs": [
    {
     "output_type": "execute_result",
     "data": {
      "text/plain": "array(['FOXN4', 'GLI1', 'PBX1', 'TCF4', 'FOXP2', 'TCF12', 'TP63', 'ETV6',\n       'HOMEZ', 'ZBTB7B', 'FOS', 'RELA', 'ZNF784', 'GATA1', 'MEOX1',\n       'ZNF212'], dtype=object)"
     },
     "metadata": {},
     "execution_count": 107
    }
   ],
   "source": [
    "ppi.loc[ppi['db_gene_symbol'] == 'PIN1',\n",
    "        'ad_gene_symbol'].nunique()\n",
    "ppi.loc[ppi['db_gene_symbol'] == 'PIN1',\n",
    "        'ad_gene_symbol'].unique()"
   ]
  },
  {
   "cell_type": "code",
   "execution_count": 109,
   "metadata": {},
   "outputs": [
    {
     "output_type": "execute_result",
     "data": {
      "text/plain": "      ad_gene_symbol db_gene_symbol pfam_accession domain_name  \\\n15936          TCF12           NEK6        PF00069     Pkinase   \n21206           NFYA         PRKAA2        PF00069     Pkinase   \n14019          TCF12          EPHB6        PF00069     Pkinase   \n4411           IKZF2            TXK        PF00069     Pkinase   \n3839           IKZF2        ARHGEF5        PF00018       SH3_1   \n4229           IKZF2            TXK        PF00018       SH3_1   \n18378           ATF2          MAPK9        PF00069     Pkinase   \n23956         HMBOX1          UBE2Z        PF00179      UQ_con   \n15855         HMBOX1          CDK18        PF00069     Pkinase   \n14643          IKZF2           CDC7        PF00069     Pkinase   \n3606           STAT3            BLK        PF00018       SH3_1   \n3702           STAT3            BLK        PF00069     Pkinase   \n24094           NFIX           MLH1        PF16413      Mlh1_C   \n23826           RFX4           CCNK        PF00134    Cyclin_N   \n4077           MEIS2            HCK        PF00069     Pkinase   \n4170           MEIS2            HCK        PF00017         SH2   \n8254           MEIS2           IL16        PF00595         PDZ   \n7525           MEIS2           LNX1        PF00595         PDZ   \n4014           MEIS2            HCK        PF00018       SH3_1   \n23474           PBX1           PIN1        PF00397          WW   \n15620          STAT3            BMX        PF00017         SH2   \n4406           STAT3            TXK        PF00069     Pkinase   \n15572          STAT3            BMX        PF00069     Pkinase   \n4887           STAT3            TXK        PF00017         SH2   \n20057           FOSB         PRKAA2        PF00069     Pkinase   \n23809           FOSB         HOMER3        PF00568         WH1   \n3980            PAX5           STAC        PF00018       SH3_1   \n23504          MEOX1           PIN1        PF00397          WW   \n24109          MEOX1          CKS1B        PF01111         CKS   \n13775           TCF4          EPHB6        PF00069     Pkinase   \n\n                                domain_description     ELM identifier  \\\n15936                        Protein kinase domain         MOD_GSK3_1   \n21206                        Protein kinase domain        MOD_Plk_2-3   \n14019                        Protein kinase domain          MOD_Plk_4   \n4411                         Protein kinase domain          MOD_CK2_1   \n3839                                    SH3 domain          LIG_SH3_3   \n4229                                    SH3 domain          LIG_SH3_3   \n18378                        Protein kinase domain           MOD_PK_1   \n23956                 Ubiquitin-conjugating enzyme     MOD_SUMO_for_1   \n15855                        Protein kinase domain          MOD_Plk_4   \n14643                        Protein kinase domain      MOD_ProDKin_1   \n3606                                    SH3 domain          LIG_SH3_3   \n3702                         Protein kinase domain      MOD_CDK_SPK_2   \n24094  DNA mismatch repair protein Mlh1 C-terminus  LIG_MLH1_MIPbox_1   \n23826                    Cyclin, N-terminal domain  DOC_CyclinA_RxL_1   \n4077                         Protein kinase domain      MOD_ProDKin_1   \n4170                                    SH2 domain        LIG_SH2_CRK   \n8254        PDZ domain (Also known as DHR or GLGF)    LIG_PDZ_Class_2   \n7525        PDZ domain (Also known as DHR or GLGF)    LIG_PDZ_Class_2   \n4014                                    SH3 domain          LIG_SH3_3   \n23474                                    WW domain      DOC_WW_Pin1_4   \n15620                                   SH2 domain      LIG_SH2_STAP1   \n4406                         Protein kinase domain          MOD_CK1_1   \n15572                        Protein kinase domain          MOD_Plk_4   \n4887                                    SH2 domain      LIG_SH2_STAT3   \n20057                        Protein kinase domain          MOD_CK2_1   \n23809                                   WH1 domain         LIG_EVH1_2   \n3980                                    SH3 domain          LIG_SH3_3   \n23504                                    WW domain      DOC_WW_Pin1_4   \n24109   Cyclin-dependent kinase regulatory subunit         DOC_CKS1_1   \n13775                        Protein kinase domain     MOD_CDK_SPxK_1   \n\n                                              aa_seq_isr  slim_match  \\\n15936  [SEVTLLRNEVAQLKQLLLAHKDCPVTAMQKKSGYHTADKDDSSED...        True   \n21206  [SEVTLLRNEVAQLKQLLLAHKDCPVTAMQKKSGYHTADKDDSSED...        True   \n14019                         [KNRVEQQLHEHLQDAMSFLKDVCE]        True   \n4411   [SEVTLLRNEVAQLKQLLLAHKDCPVTAMQKKSGYHTADKDDSSED...        True   \n3839   [SEVTLLRNEVAQLKQLLLAHKDCPVTAMQKKSGYHTADKDDSSED...        True   \n4229   [SEVTLLRNEVAQLKQLLLAHKDCPVTAMQKKSGYHTADKDDSSED...        True   \n18378                 [RFTNEDHLAVHKHKHEMTLKFGPARNDSVIVA]        True   \n23956     [DDSTSHSDHQDPISLAVEMAAVNHTILALARQGANEIKTEALDD]        True   \n15855     [DDSTSHSDHQDPISLAVEMAAVNHTILALARQGANEIKTEALDD]        True   \n14643  [VPPMEDCKEQEPIMDNNISLVPFERPAVIEKLTGNMGKRKSSTPQ...        True   \n3606   [TTCSNTIDLPMSPRTLDSLMQFGNNGEGAEPSAGGQFESLTFDME...        True   \n3702   [TTCSNTIDLPMSPRTLDSLMQFGNNGEGAEPSAGGQFESLTFDME...        True   \n24094  [GSPRATASALHFPSTSIIQQSSPYFTHPTIRYHHHHGQDSLKEFV...        True   \n23826  [SEVTLLRNEVAQLKQLLLAHKDCPVTAMQKKSGYHTADKDDSSED...        True   \n4077   [SEVTLLRNEVAQLKQLLLAHKDCPVTAMQKKSGYHTADKDDSSED...        True   \n4170   [SEVTLLRNEVAQLKQLLLAHKDCPVTAMQKKSGYHTADKDDSSED...        True   \n8254   [SEVTLLRNEVAQLKQLLLAHKDCPVTAMQKKSGYHTADKDDSSED...        True   \n7525   [SEVTLLRNEVAQLKQLLLAHKDCPVTAMQKKSGYHTADKDDSSED...        True   \n4014   [SEVTLLRNEVAQLKQLLLAHKDCPVTAMQKKSGYHTADKDDSSED...        True   \n23474  [GSSSSFNMSNSGDLFMSVQSLNGDSYQGAQVGANVQSQVDTLRHV...        True   \n15620  [MAQWNQLQQLDTRYLEQLHQLYSDSFPMELRQFLAPWIESQDWAY...        True   \n4406   [MAQWNQLQQLDTRYLEQLHQLYSDSFPMELRQFLAPWIESQDWAY...        True   \n15572  [MAQWNQLQQLDTRYLEQLHQLYSDSFPMELRQFLAPWIESQDWAY...        True   \n4887   [MAQWNQLQQLDTRYLEQLHQLYSDSFPMELRQFLAPWIESQDWAY...        True   \n20057  [VRDLPGSAPAKEDGFSWLLPPPPPPPLPFQTSQDAPPNLTASLFT...        True   \n23809  [VRDLPGSAPAKEDGFSWLLPPPPPPPLPFQTSQDAPPNLTASLFT...        True   \n3980   [MDLEKNYPTPRTSRTGHGGVNQLGGVFVNGRPLPDVVRQRIVELA...        True   \n23504  [MDPAASSCMRSLQPPAPVWGCLRNPHSEGNGASGLPHYPPTPFSF...        True   \n24109  [MDPAASSCMRSLQPPAPVWGCLRNPHSEGNGASGLPHYPPTPFSF...        True   \n13775  [MHHQQRMAALGTDKELSDLLDFSAMFSPPVSSGKNGPTSLASGHF...        True   \n\n       isr_length  \n15936           1  \n21206           1  \n14019          24  \n4411           26  \n3839           26  \n4229           26  \n18378          32  \n23956          44  \n15855          44  \n14643          48  \n3606           54  \n3702           54  \n24094          82  \n23826          83  \n4077           94  \n4170           94  \n8254           94  \n7525           94  \n4014           94  \n23474          97  \n15620          98  \n4406           98  \n15572          98  \n4887           98  \n20057         100  \n23809         100  \n3980          108  \n23504         115  \n24109         115  \n13775         129  ",
      "text/html": "<div>\n<style scoped>\n    .dataframe tbody tr th:only-of-type {\n        vertical-align: middle;\n    }\n\n    .dataframe tbody tr th {\n        vertical-align: top;\n    }\n\n    .dataframe thead th {\n        text-align: right;\n    }\n</style>\n<table border=\"1\" class=\"dataframe\">\n  <thead>\n    <tr style=\"text-align: right;\">\n      <th></th>\n      <th>ad_gene_symbol</th>\n      <th>db_gene_symbol</th>\n      <th>pfam_accession</th>\n      <th>domain_name</th>\n      <th>domain_description</th>\n      <th>ELM identifier</th>\n      <th>aa_seq_isr</th>\n      <th>slim_match</th>\n      <th>isr_length</th>\n    </tr>\n  </thead>\n  <tbody>\n    <tr>\n      <th>15936</th>\n      <td>TCF12</td>\n      <td>NEK6</td>\n      <td>PF00069</td>\n      <td>Pkinase</td>\n      <td>Protein kinase domain</td>\n      <td>MOD_GSK3_1</td>\n      <td>[SEVTLLRNEVAQLKQLLLAHKDCPVTAMQKKSGYHTADKDDSSED...</td>\n      <td>True</td>\n      <td>1</td>\n    </tr>\n    <tr>\n      <th>21206</th>\n      <td>NFYA</td>\n      <td>PRKAA2</td>\n      <td>PF00069</td>\n      <td>Pkinase</td>\n      <td>Protein kinase domain</td>\n      <td>MOD_Plk_2-3</td>\n      <td>[SEVTLLRNEVAQLKQLLLAHKDCPVTAMQKKSGYHTADKDDSSED...</td>\n      <td>True</td>\n      <td>1</td>\n    </tr>\n    <tr>\n      <th>14019</th>\n      <td>TCF12</td>\n      <td>EPHB6</td>\n      <td>PF00069</td>\n      <td>Pkinase</td>\n      <td>Protein kinase domain</td>\n      <td>MOD_Plk_4</td>\n      <td>[KNRVEQQLHEHLQDAMSFLKDVCE]</td>\n      <td>True</td>\n      <td>24</td>\n    </tr>\n    <tr>\n      <th>4411</th>\n      <td>IKZF2</td>\n      <td>TXK</td>\n      <td>PF00069</td>\n      <td>Pkinase</td>\n      <td>Protein kinase domain</td>\n      <td>MOD_CK2_1</td>\n      <td>[SEVTLLRNEVAQLKQLLLAHKDCPVTAMQKKSGYHTADKDDSSED...</td>\n      <td>True</td>\n      <td>26</td>\n    </tr>\n    <tr>\n      <th>3839</th>\n      <td>IKZF2</td>\n      <td>ARHGEF5</td>\n      <td>PF00018</td>\n      <td>SH3_1</td>\n      <td>SH3 domain</td>\n      <td>LIG_SH3_3</td>\n      <td>[SEVTLLRNEVAQLKQLLLAHKDCPVTAMQKKSGYHTADKDDSSED...</td>\n      <td>True</td>\n      <td>26</td>\n    </tr>\n    <tr>\n      <th>4229</th>\n      <td>IKZF2</td>\n      <td>TXK</td>\n      <td>PF00018</td>\n      <td>SH3_1</td>\n      <td>SH3 domain</td>\n      <td>LIG_SH3_3</td>\n      <td>[SEVTLLRNEVAQLKQLLLAHKDCPVTAMQKKSGYHTADKDDSSED...</td>\n      <td>True</td>\n      <td>26</td>\n    </tr>\n    <tr>\n      <th>18378</th>\n      <td>ATF2</td>\n      <td>MAPK9</td>\n      <td>PF00069</td>\n      <td>Pkinase</td>\n      <td>Protein kinase domain</td>\n      <td>MOD_PK_1</td>\n      <td>[RFTNEDHLAVHKHKHEMTLKFGPARNDSVIVA]</td>\n      <td>True</td>\n      <td>32</td>\n    </tr>\n    <tr>\n      <th>23956</th>\n      <td>HMBOX1</td>\n      <td>UBE2Z</td>\n      <td>PF00179</td>\n      <td>UQ_con</td>\n      <td>Ubiquitin-conjugating enzyme</td>\n      <td>MOD_SUMO_for_1</td>\n      <td>[DDSTSHSDHQDPISLAVEMAAVNHTILALARQGANEIKTEALDD]</td>\n      <td>True</td>\n      <td>44</td>\n    </tr>\n    <tr>\n      <th>15855</th>\n      <td>HMBOX1</td>\n      <td>CDK18</td>\n      <td>PF00069</td>\n      <td>Pkinase</td>\n      <td>Protein kinase domain</td>\n      <td>MOD_Plk_4</td>\n      <td>[DDSTSHSDHQDPISLAVEMAAVNHTILALARQGANEIKTEALDD]</td>\n      <td>True</td>\n      <td>44</td>\n    </tr>\n    <tr>\n      <th>14643</th>\n      <td>IKZF2</td>\n      <td>CDC7</td>\n      <td>PF00069</td>\n      <td>Pkinase</td>\n      <td>Protein kinase domain</td>\n      <td>MOD_ProDKin_1</td>\n      <td>[VPPMEDCKEQEPIMDNNISLVPFERPAVIEKLTGNMGKRKSSTPQ...</td>\n      <td>True</td>\n      <td>48</td>\n    </tr>\n    <tr>\n      <th>3606</th>\n      <td>STAT3</td>\n      <td>BLK</td>\n      <td>PF00018</td>\n      <td>SH3_1</td>\n      <td>SH3 domain</td>\n      <td>LIG_SH3_3</td>\n      <td>[TTCSNTIDLPMSPRTLDSLMQFGNNGEGAEPSAGGQFESLTFDME...</td>\n      <td>True</td>\n      <td>54</td>\n    </tr>\n    <tr>\n      <th>3702</th>\n      <td>STAT3</td>\n      <td>BLK</td>\n      <td>PF00069</td>\n      <td>Pkinase</td>\n      <td>Protein kinase domain</td>\n      <td>MOD_CDK_SPK_2</td>\n      <td>[TTCSNTIDLPMSPRTLDSLMQFGNNGEGAEPSAGGQFESLTFDME...</td>\n      <td>True</td>\n      <td>54</td>\n    </tr>\n    <tr>\n      <th>24094</th>\n      <td>NFIX</td>\n      <td>MLH1</td>\n      <td>PF16413</td>\n      <td>Mlh1_C</td>\n      <td>DNA mismatch repair protein Mlh1 C-terminus</td>\n      <td>LIG_MLH1_MIPbox_1</td>\n      <td>[GSPRATASALHFPSTSIIQQSSPYFTHPTIRYHHHHGQDSLKEFV...</td>\n      <td>True</td>\n      <td>82</td>\n    </tr>\n    <tr>\n      <th>23826</th>\n      <td>RFX4</td>\n      <td>CCNK</td>\n      <td>PF00134</td>\n      <td>Cyclin_N</td>\n      <td>Cyclin, N-terminal domain</td>\n      <td>DOC_CyclinA_RxL_1</td>\n      <td>[SEVTLLRNEVAQLKQLLLAHKDCPVTAMQKKSGYHTADKDDSSED...</td>\n      <td>True</td>\n      <td>83</td>\n    </tr>\n    <tr>\n      <th>4077</th>\n      <td>MEIS2</td>\n      <td>HCK</td>\n      <td>PF00069</td>\n      <td>Pkinase</td>\n      <td>Protein kinase domain</td>\n      <td>MOD_ProDKin_1</td>\n      <td>[SEVTLLRNEVAQLKQLLLAHKDCPVTAMQKKSGYHTADKDDSSED...</td>\n      <td>True</td>\n      <td>94</td>\n    </tr>\n    <tr>\n      <th>4170</th>\n      <td>MEIS2</td>\n      <td>HCK</td>\n      <td>PF00017</td>\n      <td>SH2</td>\n      <td>SH2 domain</td>\n      <td>LIG_SH2_CRK</td>\n      <td>[SEVTLLRNEVAQLKQLLLAHKDCPVTAMQKKSGYHTADKDDSSED...</td>\n      <td>True</td>\n      <td>94</td>\n    </tr>\n    <tr>\n      <th>8254</th>\n      <td>MEIS2</td>\n      <td>IL16</td>\n      <td>PF00595</td>\n      <td>PDZ</td>\n      <td>PDZ domain (Also known as DHR or GLGF)</td>\n      <td>LIG_PDZ_Class_2</td>\n      <td>[SEVTLLRNEVAQLKQLLLAHKDCPVTAMQKKSGYHTADKDDSSED...</td>\n      <td>True</td>\n      <td>94</td>\n    </tr>\n    <tr>\n      <th>7525</th>\n      <td>MEIS2</td>\n      <td>LNX1</td>\n      <td>PF00595</td>\n      <td>PDZ</td>\n      <td>PDZ domain (Also known as DHR or GLGF)</td>\n      <td>LIG_PDZ_Class_2</td>\n      <td>[SEVTLLRNEVAQLKQLLLAHKDCPVTAMQKKSGYHTADKDDSSED...</td>\n      <td>True</td>\n      <td>94</td>\n    </tr>\n    <tr>\n      <th>4014</th>\n      <td>MEIS2</td>\n      <td>HCK</td>\n      <td>PF00018</td>\n      <td>SH3_1</td>\n      <td>SH3 domain</td>\n      <td>LIG_SH3_3</td>\n      <td>[SEVTLLRNEVAQLKQLLLAHKDCPVTAMQKKSGYHTADKDDSSED...</td>\n      <td>True</td>\n      <td>94</td>\n    </tr>\n    <tr>\n      <th>23474</th>\n      <td>PBX1</td>\n      <td>PIN1</td>\n      <td>PF00397</td>\n      <td>WW</td>\n      <td>WW domain</td>\n      <td>DOC_WW_Pin1_4</td>\n      <td>[GSSSSFNMSNSGDLFMSVQSLNGDSYQGAQVGANVQSQVDTLRHV...</td>\n      <td>True</td>\n      <td>97</td>\n    </tr>\n    <tr>\n      <th>15620</th>\n      <td>STAT3</td>\n      <td>BMX</td>\n      <td>PF00017</td>\n      <td>SH2</td>\n      <td>SH2 domain</td>\n      <td>LIG_SH2_STAP1</td>\n      <td>[MAQWNQLQQLDTRYLEQLHQLYSDSFPMELRQFLAPWIESQDWAY...</td>\n      <td>True</td>\n      <td>98</td>\n    </tr>\n    <tr>\n      <th>4406</th>\n      <td>STAT3</td>\n      <td>TXK</td>\n      <td>PF00069</td>\n      <td>Pkinase</td>\n      <td>Protein kinase domain</td>\n      <td>MOD_CK1_1</td>\n      <td>[MAQWNQLQQLDTRYLEQLHQLYSDSFPMELRQFLAPWIESQDWAY...</td>\n      <td>True</td>\n      <td>98</td>\n    </tr>\n    <tr>\n      <th>15572</th>\n      <td>STAT3</td>\n      <td>BMX</td>\n      <td>PF00069</td>\n      <td>Pkinase</td>\n      <td>Protein kinase domain</td>\n      <td>MOD_Plk_4</td>\n      <td>[MAQWNQLQQLDTRYLEQLHQLYSDSFPMELRQFLAPWIESQDWAY...</td>\n      <td>True</td>\n      <td>98</td>\n    </tr>\n    <tr>\n      <th>4887</th>\n      <td>STAT3</td>\n      <td>TXK</td>\n      <td>PF00017</td>\n      <td>SH2</td>\n      <td>SH2 domain</td>\n      <td>LIG_SH2_STAT3</td>\n      <td>[MAQWNQLQQLDTRYLEQLHQLYSDSFPMELRQFLAPWIESQDWAY...</td>\n      <td>True</td>\n      <td>98</td>\n    </tr>\n    <tr>\n      <th>20057</th>\n      <td>FOSB</td>\n      <td>PRKAA2</td>\n      <td>PF00069</td>\n      <td>Pkinase</td>\n      <td>Protein kinase domain</td>\n      <td>MOD_CK2_1</td>\n      <td>[VRDLPGSAPAKEDGFSWLLPPPPPPPLPFQTSQDAPPNLTASLFT...</td>\n      <td>True</td>\n      <td>100</td>\n    </tr>\n    <tr>\n      <th>23809</th>\n      <td>FOSB</td>\n      <td>HOMER3</td>\n      <td>PF00568</td>\n      <td>WH1</td>\n      <td>WH1 domain</td>\n      <td>LIG_EVH1_2</td>\n      <td>[VRDLPGSAPAKEDGFSWLLPPPPPPPLPFQTSQDAPPNLTASLFT...</td>\n      <td>True</td>\n      <td>100</td>\n    </tr>\n    <tr>\n      <th>3980</th>\n      <td>PAX5</td>\n      <td>STAC</td>\n      <td>PF00018</td>\n      <td>SH3_1</td>\n      <td>SH3 domain</td>\n      <td>LIG_SH3_3</td>\n      <td>[MDLEKNYPTPRTSRTGHGGVNQLGGVFVNGRPLPDVVRQRIVELA...</td>\n      <td>True</td>\n      <td>108</td>\n    </tr>\n    <tr>\n      <th>23504</th>\n      <td>MEOX1</td>\n      <td>PIN1</td>\n      <td>PF00397</td>\n      <td>WW</td>\n      <td>WW domain</td>\n      <td>DOC_WW_Pin1_4</td>\n      <td>[MDPAASSCMRSLQPPAPVWGCLRNPHSEGNGASGLPHYPPTPFSF...</td>\n      <td>True</td>\n      <td>115</td>\n    </tr>\n    <tr>\n      <th>24109</th>\n      <td>MEOX1</td>\n      <td>CKS1B</td>\n      <td>PF01111</td>\n      <td>CKS</td>\n      <td>Cyclin-dependent kinase regulatory subunit</td>\n      <td>DOC_CKS1_1</td>\n      <td>[MDPAASSCMRSLQPPAPVWGCLRNPHSEGNGASGLPHYPPTPFSF...</td>\n      <td>True</td>\n      <td>115</td>\n    </tr>\n    <tr>\n      <th>13775</th>\n      <td>TCF4</td>\n      <td>EPHB6</td>\n      <td>PF00069</td>\n      <td>Pkinase</td>\n      <td>Protein kinase domain</td>\n      <td>MOD_CDK_SPxK_1</td>\n      <td>[MHHQQRMAALGTDKELSDLLDFSAMFSPPVSSGKNGPTSLASGHF...</td>\n      <td>True</td>\n      <td>129</td>\n    </tr>\n  </tbody>\n</table>\n</div>"
     },
     "metadata": {},
     "execution_count": 109
    }
   ],
   "source": [
    "# smallest region\n",
    "slim_ppis['isr_length'] = slim_ppis['aa_seq_isr'].apply(lambda x: min(len(s) for s in x))\n",
    "(slim_ppis.loc[slim_ppis['slim_match'], :]\n",
    "          .sort_values('isr_length')\n",
    "          .drop_duplicates(['ad_gene_symbol', 'db_gene_symbol', 'pfam_accession'])\n",
    "          .head(30))"
   ]
  },
  {
   "cell_type": "code",
   "execution_count": 111,
   "metadata": {},
   "outputs": [
    {
     "output_type": "execute_result",
     "data": {
      "text/plain": "      ad_gene_symbol db_gene_symbol pfam_accession    domain_name  \\\n22605         CREBZF          HCFC1        PF13415        Kelch_3   \n7162           FOXP2          SDCBP        PF00595            PDZ   \n7552           FOXP2           LNX1        PF00595            PDZ   \n24094           NFIX           MLH1        PF16413         Mlh1_C   \n8254           MEIS2           IL16        PF00595            PDZ   \n7525           MEIS2           LNX1        PF00595            PDZ   \n16874         ZNF263           CLK3        PF00069        Pkinase   \n19582         ZNF263           CLK2        PF00069        Pkinase   \n24139          FOXP2          CTBP2        PF00389     2-Hacid_dh   \n24155           SOX5          CTBP2        PF00389     2-Hacid_dh   \n23806           FOSB         HOMER3        PF00568            WH1   \n18722          CREB5          MAPK9        PF00069        Pkinase   \n18702           ATF2          MAPK9        PF00069        Pkinase   \n22697          NR4A2           RXRG        PF00104  Hormone_recep   \n17181         ZSCAN9          SRPK2        PF00069        Pkinase   \n23657          HOXA1          PCSK5        PF00082   Peptidase_S8   \n4887           STAT3            TXK        PF00017            SH2   \n15596          STAT3            BMX        PF00017            SH2   \n4149           MEIS2            HCK        PF00017            SH2   \n23956         HMBOX1          UBE2Z        PF00179         UQ_con   \n14607          IKZF2           CDC7        PF00069        Pkinase   \n13775           TCF4          EPHB6        PF00069        Pkinase   \n3702           STAT3            BLK        PF00069        Pkinase   \n24109          MEOX1          CKS1B        PF01111            CKS   \n4131           MEIS2            HCK        PF00069        Pkinase   \n4801           IKZF2            TXK        PF00069        Pkinase   \n16342          TCF12           NEK6        PF00069        Pkinase   \n21206           NFYA         PRKAA2        PF00069        Pkinase   \n5483            TCF4          CABP5        PF13499      EF-hand_7   \n23826           RFX4           CCNK        PF00134       Cyclin_N   \n\n                                      domain_description     ELM identifier  \\\n22605                  Galactose oxidase, central domain    LIG_HCF-1_HBM_1   \n7162              PDZ domain (Also known as DHR or GLGF)    LIG_PDZ_Class_3   \n7552              PDZ domain (Also known as DHR or GLGF)    LIG_PDZ_Class_3   \n24094        DNA mismatch repair protein Mlh1 C-terminus  LIG_MLH1_MIPbox_1   \n8254              PDZ domain (Also known as DHR or GLGF)    LIG_PDZ_Class_2   \n7525              PDZ domain (Also known as DHR or GLGF)    LIG_PDZ_Class_2   \n16874                              Protein kinase domain   DOC_MAPK_HePTP_8   \n19582                              Protein kinase domain   DOC_MAPK_HePTP_8   \n24139  D-isomer specific 2-hydroxyacid dehydrogenase,...   LIG_CtBP_PxDLS_1   \n24155  D-isomer specific 2-hydroxyacid dehydrogenase,...   LIG_CtBP_PxDLS_1   \n23806                                         WH1 domain         LIG_EVH1_1   \n18722                              Protein kinase domain   DOC_MAPK_NFAT4_5   \n18702                              Protein kinase domain   DOC_MAPK_NFAT4_5   \n22697  Ligand-binding domain of nuclear hormone receptor          LIG_NRBOX   \n17181                              Protein kinase domain         MOD_LATS_1   \n23657                                   Subtilase family     CLV_PCSK_FUR_1   \n4887                                          SH2 domain      LIG_SH2_STAT3   \n15596                                         SH2 domain      LIG_SH2_STAT3   \n4149                                          SH2 domain      LIG_SH2_STAT3   \n23956                       Ubiquitin-conjugating enzyme     MOD_SUMO_for_1   \n14607                              Protein kinase domain     MOD_CDK_SPxK_1   \n13775                              Protein kinase domain     MOD_CDK_SPxK_1   \n3702                               Protein kinase domain      MOD_CDK_SPK_2   \n24109         Cyclin-dependent kinase regulatory subunit         DOC_CKS1_1   \n4131                               Protein kinase domain        MOD_Plk_2-3   \n4801                               Protein kinase domain        MOD_Plk_2-3   \n16342                              Protein kinase domain        MOD_Plk_2-3   \n21206                              Protein kinase domain        MOD_Plk_2-3   \n5483                                 EF-hand domain pair    DOC_PP2B_LxvP_1   \n23826                          Cyclin, N-terminal domain  DOC_CyclinA_RxL_1   \n\n                                              aa_seq_isr  slim_match  \\\n22605  [MRHSLTKLLAASGSNSPTRSESPEPAATCSLPSDLTRAAAGEEET...        True   \n7162   [LNLVSSVTMSKNMLETSPQSLPQTPTTPTAPVTPITQGPSVITPA...        True   \n7552   [LNLVSSVTMSKNMLETSPQSLPQTPTTPTAPVTPITQGPSVITPA...        True   \n24094  [GSPRATASALHFPSTSIIQQSSPYFTHPTIRYHHHHGQDSLKEFV...        True   \n8254   [SEVTLLRNEVAQLKQLLLAHKDCPVTAMQKKSGYHTADKDDSSED...        True   \n7525   [SEVTLLRNEVAQLKQLLLAHKDCPVTAMQKKSGYHTADKDDSSED...        True   \n16874  [VTNHGRGTEVLLEEPLPLETARESPSFKLEPMETERSPGPRLQEL...        True   \n19582  [VTNHGRGTEVLLEEPLPLETARESPSFKLEPMETERSPGPRLQEL...        True   \n24139  [LNLVSSVTMSKNMLETSPQSLPQTPTTPTAPVTPITQGPSVITPA...        True   \n24155  [MSVMSSKRPASPYGEADGEVAMVTSRQKVEEEESDGLPAFHLPLH...        True   \n23806  [VRDLPGSAPAKEDGFSWLLPPPPPPPLPFQTSQDAPPNLTASLFT...        True   \n18722  [MNLEQERPFVCSAPGCSQRFPTEDHLMIHRHKHEMTLKFPSIKTD...        True   \n18702                 [RFTNEDHLAVHKHKHEMTLKFGPARNDSVIVA]        True   \n22697  [SNPVEGKLIFCNGVVLHRLQCVRGFGEWIDSIVEFSSNLQNMNID...        True   \n17181  [DEVTKTEDRELVLRKDCPKIVEPHGKMFNEQTWEVSQQDPSHGEV...        True   \n23657  [VSGGYPQCAPAVYSGNLSSPMVQHHHHHQGYAGGAVGSPQYIHHS...        True   \n4887   [MAQWNQLQQLDTRYLEQLHQLYSDSFPMELRQFLAPWIESQDWAY...        True   \n15596  [MAQWNQLQQLDTRYLEQLHQLYSDSFPMELRQFLAPWIESQDWAY...        True   \n4149   [SEVTLLRNEVAQLKQLLLAHKDCPVTAMQKKSGYHTADKDDSSED...        True   \n23956     [DDSTSHSDHQDPISLAVEMAAVNHTILALARQGANEIKTEALDD]        True   \n14607  [VPPMEDCKEQEPIMDNNISLVPFERPAVIEKLTGNMGKRKSSTPQ...        True   \n13775  [MHHQQRMAALGTDKELSDLLDFSAMFSPPVSSGKNGPTSLASGHF...        True   \n3702   [TTCSNTIDLPMSPRTLDSLMQFGNNGEGAEPSAGGQFESLTFDME...        True   \n24109  [MDPAASSCMRSLQPPAPVWGCLRNPHSEGNGASGLPHYPPTPFSF...        True   \n4131   [SEVTLLRNEVAQLKQLLLAHKDCPVTAMQKKSGYHTADKDDSSED...        True   \n4801   [SEVTLLRNEVAQLKQLLLAHKDCPVTAMQKKSGYHTADKDDSSED...        True   \n16342  [SEVTLLRNEVAQLKQLLLAHKDCPVTAMQKKSGYHTADKDDSSED...        True   \n21206  [SEVTLLRNEVAQLKQLLLAHKDCPVTAMQKKSGYHTADKDDSSED...        True   \n5483   [MHHQQRMAALGTDKELSDLLDFSAMFSPPVSSGKNGPTSLASGHF...        True   \n23826  [SEVTLLRNEVAQLKQLLLAHKDCPVTAMQKKSGYHTADKDDSSED...        True   \n\n       isr_length  motif_probability  \n22605         354           0.000051  \n7162          292           0.000062  \n7552          292           0.000062  \n24094          82           0.000062  \n8254           94           0.000079  \n7525           94           0.000079  \n16874         553           0.000107  \n19582         553           0.000107  \n24139         292           0.000117  \n24155         378           0.000117  \n23806         100           0.000124  \n18722         148           0.000163  \n18702          32           0.000163  \n22697         143           0.000263  \n17181         204           0.000478  \n23657         216           0.000509  \n4887           98           0.000797  \n15596          98           0.000797  \n4149           94           0.000797  \n23956          44           0.001914  \n14607          48           0.001929  \n13775         129           0.001929  \n3702           54           0.001929  \n24109         115           0.001991  \n4131           94           0.002175  \n4801           26           0.002175  \n16342           1           0.002175  \n21206           1           0.002175  \n5483          129           0.002296  \n23826          83           0.004211  ",
      "text/html": "<div>\n<style scoped>\n    .dataframe tbody tr th:only-of-type {\n        vertical-align: middle;\n    }\n\n    .dataframe tbody tr th {\n        vertical-align: top;\n    }\n\n    .dataframe thead th {\n        text-align: right;\n    }\n</style>\n<table border=\"1\" class=\"dataframe\">\n  <thead>\n    <tr style=\"text-align: right;\">\n      <th></th>\n      <th>ad_gene_symbol</th>\n      <th>db_gene_symbol</th>\n      <th>pfam_accession</th>\n      <th>domain_name</th>\n      <th>domain_description</th>\n      <th>ELM identifier</th>\n      <th>aa_seq_isr</th>\n      <th>slim_match</th>\n      <th>isr_length</th>\n      <th>motif_probability</th>\n    </tr>\n  </thead>\n  <tbody>\n    <tr>\n      <th>22605</th>\n      <td>CREBZF</td>\n      <td>HCFC1</td>\n      <td>PF13415</td>\n      <td>Kelch_3</td>\n      <td>Galactose oxidase, central domain</td>\n      <td>LIG_HCF-1_HBM_1</td>\n      <td>[MRHSLTKLLAASGSNSPTRSESPEPAATCSLPSDLTRAAAGEEET...</td>\n      <td>True</td>\n      <td>354</td>\n      <td>0.000051</td>\n    </tr>\n    <tr>\n      <th>7162</th>\n      <td>FOXP2</td>\n      <td>SDCBP</td>\n      <td>PF00595</td>\n      <td>PDZ</td>\n      <td>PDZ domain (Also known as DHR or GLGF)</td>\n      <td>LIG_PDZ_Class_3</td>\n      <td>[LNLVSSVTMSKNMLETSPQSLPQTPTTPTAPVTPITQGPSVITPA...</td>\n      <td>True</td>\n      <td>292</td>\n      <td>0.000062</td>\n    </tr>\n    <tr>\n      <th>7552</th>\n      <td>FOXP2</td>\n      <td>LNX1</td>\n      <td>PF00595</td>\n      <td>PDZ</td>\n      <td>PDZ domain (Also known as DHR or GLGF)</td>\n      <td>LIG_PDZ_Class_3</td>\n      <td>[LNLVSSVTMSKNMLETSPQSLPQTPTTPTAPVTPITQGPSVITPA...</td>\n      <td>True</td>\n      <td>292</td>\n      <td>0.000062</td>\n    </tr>\n    <tr>\n      <th>24094</th>\n      <td>NFIX</td>\n      <td>MLH1</td>\n      <td>PF16413</td>\n      <td>Mlh1_C</td>\n      <td>DNA mismatch repair protein Mlh1 C-terminus</td>\n      <td>LIG_MLH1_MIPbox_1</td>\n      <td>[GSPRATASALHFPSTSIIQQSSPYFTHPTIRYHHHHGQDSLKEFV...</td>\n      <td>True</td>\n      <td>82</td>\n      <td>0.000062</td>\n    </tr>\n    <tr>\n      <th>8254</th>\n      <td>MEIS2</td>\n      <td>IL16</td>\n      <td>PF00595</td>\n      <td>PDZ</td>\n      <td>PDZ domain (Also known as DHR or GLGF)</td>\n      <td>LIG_PDZ_Class_2</td>\n      <td>[SEVTLLRNEVAQLKQLLLAHKDCPVTAMQKKSGYHTADKDDSSED...</td>\n      <td>True</td>\n      <td>94</td>\n      <td>0.000079</td>\n    </tr>\n    <tr>\n      <th>7525</th>\n      <td>MEIS2</td>\n      <td>LNX1</td>\n      <td>PF00595</td>\n      <td>PDZ</td>\n      <td>PDZ domain (Also known as DHR or GLGF)</td>\n      <td>LIG_PDZ_Class_2</td>\n      <td>[SEVTLLRNEVAQLKQLLLAHKDCPVTAMQKKSGYHTADKDDSSED...</td>\n      <td>True</td>\n      <td>94</td>\n      <td>0.000079</td>\n    </tr>\n    <tr>\n      <th>16874</th>\n      <td>ZNF263</td>\n      <td>CLK3</td>\n      <td>PF00069</td>\n      <td>Pkinase</td>\n      <td>Protein kinase domain</td>\n      <td>DOC_MAPK_HePTP_8</td>\n      <td>[VTNHGRGTEVLLEEPLPLETARESPSFKLEPMETERSPGPRLQEL...</td>\n      <td>True</td>\n      <td>553</td>\n      <td>0.000107</td>\n    </tr>\n    <tr>\n      <th>19582</th>\n      <td>ZNF263</td>\n      <td>CLK2</td>\n      <td>PF00069</td>\n      <td>Pkinase</td>\n      <td>Protein kinase domain</td>\n      <td>DOC_MAPK_HePTP_8</td>\n      <td>[VTNHGRGTEVLLEEPLPLETARESPSFKLEPMETERSPGPRLQEL...</td>\n      <td>True</td>\n      <td>553</td>\n      <td>0.000107</td>\n    </tr>\n    <tr>\n      <th>24139</th>\n      <td>FOXP2</td>\n      <td>CTBP2</td>\n      <td>PF00389</td>\n      <td>2-Hacid_dh</td>\n      <td>D-isomer specific 2-hydroxyacid dehydrogenase,...</td>\n      <td>LIG_CtBP_PxDLS_1</td>\n      <td>[LNLVSSVTMSKNMLETSPQSLPQTPTTPTAPVTPITQGPSVITPA...</td>\n      <td>True</td>\n      <td>292</td>\n      <td>0.000117</td>\n    </tr>\n    <tr>\n      <th>24155</th>\n      <td>SOX5</td>\n      <td>CTBP2</td>\n      <td>PF00389</td>\n      <td>2-Hacid_dh</td>\n      <td>D-isomer specific 2-hydroxyacid dehydrogenase,...</td>\n      <td>LIG_CtBP_PxDLS_1</td>\n      <td>[MSVMSSKRPASPYGEADGEVAMVTSRQKVEEEESDGLPAFHLPLH...</td>\n      <td>True</td>\n      <td>378</td>\n      <td>0.000117</td>\n    </tr>\n    <tr>\n      <th>23806</th>\n      <td>FOSB</td>\n      <td>HOMER3</td>\n      <td>PF00568</td>\n      <td>WH1</td>\n      <td>WH1 domain</td>\n      <td>LIG_EVH1_1</td>\n      <td>[VRDLPGSAPAKEDGFSWLLPPPPPPPLPFQTSQDAPPNLTASLFT...</td>\n      <td>True</td>\n      <td>100</td>\n      <td>0.000124</td>\n    </tr>\n    <tr>\n      <th>18722</th>\n      <td>CREB5</td>\n      <td>MAPK9</td>\n      <td>PF00069</td>\n      <td>Pkinase</td>\n      <td>Protein kinase domain</td>\n      <td>DOC_MAPK_NFAT4_5</td>\n      <td>[MNLEQERPFVCSAPGCSQRFPTEDHLMIHRHKHEMTLKFPSIKTD...</td>\n      <td>True</td>\n      <td>148</td>\n      <td>0.000163</td>\n    </tr>\n    <tr>\n      <th>18702</th>\n      <td>ATF2</td>\n      <td>MAPK9</td>\n      <td>PF00069</td>\n      <td>Pkinase</td>\n      <td>Protein kinase domain</td>\n      <td>DOC_MAPK_NFAT4_5</td>\n      <td>[RFTNEDHLAVHKHKHEMTLKFGPARNDSVIVA]</td>\n      <td>True</td>\n      <td>32</td>\n      <td>0.000163</td>\n    </tr>\n    <tr>\n      <th>22697</th>\n      <td>NR4A2</td>\n      <td>RXRG</td>\n      <td>PF00104</td>\n      <td>Hormone_recep</td>\n      <td>Ligand-binding domain of nuclear hormone receptor</td>\n      <td>LIG_NRBOX</td>\n      <td>[SNPVEGKLIFCNGVVLHRLQCVRGFGEWIDSIVEFSSNLQNMNID...</td>\n      <td>True</td>\n      <td>143</td>\n      <td>0.000263</td>\n    </tr>\n    <tr>\n      <th>17181</th>\n      <td>ZSCAN9</td>\n      <td>SRPK2</td>\n      <td>PF00069</td>\n      <td>Pkinase</td>\n      <td>Protein kinase domain</td>\n      <td>MOD_LATS_1</td>\n      <td>[DEVTKTEDRELVLRKDCPKIVEPHGKMFNEQTWEVSQQDPSHGEV...</td>\n      <td>True</td>\n      <td>204</td>\n      <td>0.000478</td>\n    </tr>\n    <tr>\n      <th>23657</th>\n      <td>HOXA1</td>\n      <td>PCSK5</td>\n      <td>PF00082</td>\n      <td>Peptidase_S8</td>\n      <td>Subtilase family</td>\n      <td>CLV_PCSK_FUR_1</td>\n      <td>[VSGGYPQCAPAVYSGNLSSPMVQHHHHHQGYAGGAVGSPQYIHHS...</td>\n      <td>True</td>\n      <td>216</td>\n      <td>0.000509</td>\n    </tr>\n    <tr>\n      <th>4887</th>\n      <td>STAT3</td>\n      <td>TXK</td>\n      <td>PF00017</td>\n      <td>SH2</td>\n      <td>SH2 domain</td>\n      <td>LIG_SH2_STAT3</td>\n      <td>[MAQWNQLQQLDTRYLEQLHQLYSDSFPMELRQFLAPWIESQDWAY...</td>\n      <td>True</td>\n      <td>98</td>\n      <td>0.000797</td>\n    </tr>\n    <tr>\n      <th>15596</th>\n      <td>STAT3</td>\n      <td>BMX</td>\n      <td>PF00017</td>\n      <td>SH2</td>\n      <td>SH2 domain</td>\n      <td>LIG_SH2_STAT3</td>\n      <td>[MAQWNQLQQLDTRYLEQLHQLYSDSFPMELRQFLAPWIESQDWAY...</td>\n      <td>True</td>\n      <td>98</td>\n      <td>0.000797</td>\n    </tr>\n    <tr>\n      <th>4149</th>\n      <td>MEIS2</td>\n      <td>HCK</td>\n      <td>PF00017</td>\n      <td>SH2</td>\n      <td>SH2 domain</td>\n      <td>LIG_SH2_STAT3</td>\n      <td>[SEVTLLRNEVAQLKQLLLAHKDCPVTAMQKKSGYHTADKDDSSED...</td>\n      <td>True</td>\n      <td>94</td>\n      <td>0.000797</td>\n    </tr>\n    <tr>\n      <th>23956</th>\n      <td>HMBOX1</td>\n      <td>UBE2Z</td>\n      <td>PF00179</td>\n      <td>UQ_con</td>\n      <td>Ubiquitin-conjugating enzyme</td>\n      <td>MOD_SUMO_for_1</td>\n      <td>[DDSTSHSDHQDPISLAVEMAAVNHTILALARQGANEIKTEALDD]</td>\n      <td>True</td>\n      <td>44</td>\n      <td>0.001914</td>\n    </tr>\n    <tr>\n      <th>14607</th>\n      <td>IKZF2</td>\n      <td>CDC7</td>\n      <td>PF00069</td>\n      <td>Pkinase</td>\n      <td>Protein kinase domain</td>\n      <td>MOD_CDK_SPxK_1</td>\n      <td>[VPPMEDCKEQEPIMDNNISLVPFERPAVIEKLTGNMGKRKSSTPQ...</td>\n      <td>True</td>\n      <td>48</td>\n      <td>0.001929</td>\n    </tr>\n    <tr>\n      <th>13775</th>\n      <td>TCF4</td>\n      <td>EPHB6</td>\n      <td>PF00069</td>\n      <td>Pkinase</td>\n      <td>Protein kinase domain</td>\n      <td>MOD_CDK_SPxK_1</td>\n      <td>[MHHQQRMAALGTDKELSDLLDFSAMFSPPVSSGKNGPTSLASGHF...</td>\n      <td>True</td>\n      <td>129</td>\n      <td>0.001929</td>\n    </tr>\n    <tr>\n      <th>3702</th>\n      <td>STAT3</td>\n      <td>BLK</td>\n      <td>PF00069</td>\n      <td>Pkinase</td>\n      <td>Protein kinase domain</td>\n      <td>MOD_CDK_SPK_2</td>\n      <td>[TTCSNTIDLPMSPRTLDSLMQFGNNGEGAEPSAGGQFESLTFDME...</td>\n      <td>True</td>\n      <td>54</td>\n      <td>0.001929</td>\n    </tr>\n    <tr>\n      <th>24109</th>\n      <td>MEOX1</td>\n      <td>CKS1B</td>\n      <td>PF01111</td>\n      <td>CKS</td>\n      <td>Cyclin-dependent kinase regulatory subunit</td>\n      <td>DOC_CKS1_1</td>\n      <td>[MDPAASSCMRSLQPPAPVWGCLRNPHSEGNGASGLPHYPPTPFSF...</td>\n      <td>True</td>\n      <td>115</td>\n      <td>0.001991</td>\n    </tr>\n    <tr>\n      <th>4131</th>\n      <td>MEIS2</td>\n      <td>HCK</td>\n      <td>PF00069</td>\n      <td>Pkinase</td>\n      <td>Protein kinase domain</td>\n      <td>MOD_Plk_2-3</td>\n      <td>[SEVTLLRNEVAQLKQLLLAHKDCPVTAMQKKSGYHTADKDDSSED...</td>\n      <td>True</td>\n      <td>94</td>\n      <td>0.002175</td>\n    </tr>\n    <tr>\n      <th>4801</th>\n      <td>IKZF2</td>\n      <td>TXK</td>\n      <td>PF00069</td>\n      <td>Pkinase</td>\n      <td>Protein kinase domain</td>\n      <td>MOD_Plk_2-3</td>\n      <td>[SEVTLLRNEVAQLKQLLLAHKDCPVTAMQKKSGYHTADKDDSSED...</td>\n      <td>True</td>\n      <td>26</td>\n      <td>0.002175</td>\n    </tr>\n    <tr>\n      <th>16342</th>\n      <td>TCF12</td>\n      <td>NEK6</td>\n      <td>PF00069</td>\n      <td>Pkinase</td>\n      <td>Protein kinase domain</td>\n      <td>MOD_Plk_2-3</td>\n      <td>[SEVTLLRNEVAQLKQLLLAHKDCPVTAMQKKSGYHTADKDDSSED...</td>\n      <td>True</td>\n      <td>1</td>\n      <td>0.002175</td>\n    </tr>\n    <tr>\n      <th>21206</th>\n      <td>NFYA</td>\n      <td>PRKAA2</td>\n      <td>PF00069</td>\n      <td>Pkinase</td>\n      <td>Protein kinase domain</td>\n      <td>MOD_Plk_2-3</td>\n      <td>[SEVTLLRNEVAQLKQLLLAHKDCPVTAMQKKSGYHTADKDDSSED...</td>\n      <td>True</td>\n      <td>1</td>\n      <td>0.002175</td>\n    </tr>\n    <tr>\n      <th>5483</th>\n      <td>TCF4</td>\n      <td>CABP5</td>\n      <td>PF13499</td>\n      <td>EF-hand_7</td>\n      <td>EF-hand domain pair</td>\n      <td>DOC_PP2B_LxvP_1</td>\n      <td>[MHHQQRMAALGTDKELSDLLDFSAMFSPPVSSGKNGPTSLASGHF...</td>\n      <td>True</td>\n      <td>129</td>\n      <td>0.002296</td>\n    </tr>\n    <tr>\n      <th>23826</th>\n      <td>RFX4</td>\n      <td>CCNK</td>\n      <td>PF00134</td>\n      <td>Cyclin_N</td>\n      <td>Cyclin, N-terminal domain</td>\n      <td>DOC_CyclinA_RxL_1</td>\n      <td>[SEVTLLRNEVAQLKQLLLAHKDCPVTAMQKKSGYHTADKDDSSED...</td>\n      <td>True</td>\n      <td>83</td>\n      <td>0.004211</td>\n    </tr>\n  </tbody>\n</table>\n</div>"
     },
     "metadata": {},
     "execution_count": 111
    }
   ],
   "source": [
    "# most specific regex\n",
    "(slim_ppis.loc[slim_ppis['slim_match'], :]\n",
    "          .sort_values('motif_probability')\n",
    "          .drop_duplicates(['ad_gene_symbol', 'db_gene_symbol', 'pfam_accession'])\n",
    "          .head(30))"
   ]
  },
  {
   "cell_type": "code",
   "execution_count": 112,
   "metadata": {},
   "outputs": [
    {
     "output_type": "execute_result",
     "data": {
      "text/plain": "      ad_gene_symbol db_gene_symbol pfam_accession domain_name  \\\n3606           STAT3            BLK        PF00018       SH3_1   \n3630           STAT3            BLK        PF00069     Pkinase   \n3636           STAT3            BLK        PF00069     Pkinase   \n3669           STAT3            BLK        PF00069     Pkinase   \n3702           STAT3            BLK        PF00069     Pkinase   \n3717           STAT3            BLK        PF00069     Pkinase   \n3723           STAT3            BLK        PF00069     Pkinase   \n4406           STAT3            TXK        PF00069     Pkinase   \n4601           STAT3            TXK        PF00069     Pkinase   \n4783           STAT3            TXK        PF00069     Pkinase   \n4887           STAT3            TXK        PF00017         SH2   \n4900           STAT3            TXK        PF00017         SH2   \n4991           STAT3            TXK        PF00017         SH2   \n15485          STAT3            BMX        PF00069     Pkinase   \n15530          STAT3            BMX        PF00069     Pkinase   \n15572          STAT3            BMX        PF00069     Pkinase   \n15596          STAT3            BMX        PF00017         SH2   \n15599          STAT3            BMX        PF00017         SH2   \n15620          STAT3            BMX        PF00017         SH2   \n\n          domain_description ELM identifier  \\\n3606              SH3 domain      LIG_SH3_3   \n3630   Protein kinase domain      MOD_CK1_1   \n3636   Protein kinase domain     MOD_GSK3_1   \n3669   Protein kinase domain  MOD_ProDKin_1   \n3702   Protein kinase domain  MOD_CDK_SPK_2   \n3717   Protein kinase domain      MOD_Plk_4   \n3723   Protein kinase domain    MOD_Plk_2-3   \n4406   Protein kinase domain      MOD_CK1_1   \n4601   Protein kinase domain     MOD_NEK2_1   \n4783   Protein kinase domain      MOD_Plk_4   \n4887              SH2 domain  LIG_SH2_STAT3   \n4900              SH2 domain  LIG_SH2_STAT5   \n4991              SH2 domain  LIG_SH2_STAP1   \n15485  Protein kinase domain      MOD_CK1_1   \n15530  Protein kinase domain     MOD_NEK2_1   \n15572  Protein kinase domain      MOD_Plk_4   \n15596             SH2 domain  LIG_SH2_STAT3   \n15599             SH2 domain  LIG_SH2_STAT5   \n15620             SH2 domain  LIG_SH2_STAP1   \n\n                                              aa_seq_isr  slim_match  \\\n3606   [TTCSNTIDLPMSPRTLDSLMQFGNNGEGAEPSAGGQFESLTFDME...        True   \n3630   [TTCSNTIDLPMSPRTLDSLMQFGNNGEGAEPSAGGQFESLTFDME...        True   \n3636   [TTCSNTIDLPMSPRTLDSLMQFGNNGEGAEPSAGGQFESLTFDME...        True   \n3669   [TTCSNTIDLPMSPRTLDSLMQFGNNGEGAEPSAGGQFESLTFDME...        True   \n3702   [TTCSNTIDLPMSPRTLDSLMQFGNNGEGAEPSAGGQFESLTFDME...        True   \n3717   [TTCSNTIDLPMSPRTLDSLMQFGNNGEGAEPSAGGQFESLTFDME...        True   \n3723   [TTCSNTIDLPMSPRTLDSLMQFGNNGEGAEPSAGGQFESLTFDME...        True   \n4406   [MAQWNQLQQLDTRYLEQLHQLYSDSFPMELRQFLAPWIESQDWAY...        True   \n4601   [MAQWNQLQQLDTRYLEQLHQLYSDSFPMELRQFLAPWIESQDWAY...        True   \n4783   [MAQWNQLQQLDTRYLEQLHQLYSDSFPMELRQFLAPWIESQDWAY...        True   \n4887   [MAQWNQLQQLDTRYLEQLHQLYSDSFPMELRQFLAPWIESQDWAY...        True   \n4900   [MAQWNQLQQLDTRYLEQLHQLYSDSFPMELRQFLAPWIESQDWAY...        True   \n4991   [MAQWNQLQQLDTRYLEQLHQLYSDSFPMELRQFLAPWIESQDWAY...        True   \n15485  [MAQWNQLQQLDTRYLEQLHQLYSDSFPMELRQFLAPWIESQDWAY...        True   \n15530  [MAQWNQLQQLDTRYLEQLHQLYSDSFPMELRQFLAPWIESQDWAY...        True   \n15572  [MAQWNQLQQLDTRYLEQLHQLYSDSFPMELRQFLAPWIESQDWAY...        True   \n15596  [MAQWNQLQQLDTRYLEQLHQLYSDSFPMELRQFLAPWIESQDWAY...        True   \n15599  [MAQWNQLQQLDTRYLEQLHQLYSDSFPMELRQFLAPWIESQDWAY...        True   \n15620  [MAQWNQLQQLDTRYLEQLHQLYSDSFPMELRQFLAPWIESQDWAY...        True   \n\n       isr_length  motif_probability  \n3606           54           0.013173  \n3630           54           0.017041  \n3636           54           0.026787  \n3669           54           0.015433  \n3702           54           0.001929  \n3717           54           0.006019  \n3723           54           0.002175  \n4406           98           0.017041  \n4601           98           0.009798  \n4783           98           0.006019  \n4887           98           0.000797  \n4900           98           0.003296  \n4991           98           0.001026  \n15485          98           0.017041  \n15530          98           0.009798  \n15572          98           0.006019  \n15596          98           0.000797  \n15599          98           0.003296  \n15620          98           0.001026  ",
      "text/html": "<div>\n<style scoped>\n    .dataframe tbody tr th:only-of-type {\n        vertical-align: middle;\n    }\n\n    .dataframe tbody tr th {\n        vertical-align: top;\n    }\n\n    .dataframe thead th {\n        text-align: right;\n    }\n</style>\n<table border=\"1\" class=\"dataframe\">\n  <thead>\n    <tr style=\"text-align: right;\">\n      <th></th>\n      <th>ad_gene_symbol</th>\n      <th>db_gene_symbol</th>\n      <th>pfam_accession</th>\n      <th>domain_name</th>\n      <th>domain_description</th>\n      <th>ELM identifier</th>\n      <th>aa_seq_isr</th>\n      <th>slim_match</th>\n      <th>isr_length</th>\n      <th>motif_probability</th>\n    </tr>\n  </thead>\n  <tbody>\n    <tr>\n      <th>3606</th>\n      <td>STAT3</td>\n      <td>BLK</td>\n      <td>PF00018</td>\n      <td>SH3_1</td>\n      <td>SH3 domain</td>\n      <td>LIG_SH3_3</td>\n      <td>[TTCSNTIDLPMSPRTLDSLMQFGNNGEGAEPSAGGQFESLTFDME...</td>\n      <td>True</td>\n      <td>54</td>\n      <td>0.013173</td>\n    </tr>\n    <tr>\n      <th>3630</th>\n      <td>STAT3</td>\n      <td>BLK</td>\n      <td>PF00069</td>\n      <td>Pkinase</td>\n      <td>Protein kinase domain</td>\n      <td>MOD_CK1_1</td>\n      <td>[TTCSNTIDLPMSPRTLDSLMQFGNNGEGAEPSAGGQFESLTFDME...</td>\n      <td>True</td>\n      <td>54</td>\n      <td>0.017041</td>\n    </tr>\n    <tr>\n      <th>3636</th>\n      <td>STAT3</td>\n      <td>BLK</td>\n      <td>PF00069</td>\n      <td>Pkinase</td>\n      <td>Protein kinase domain</td>\n      <td>MOD_GSK3_1</td>\n      <td>[TTCSNTIDLPMSPRTLDSLMQFGNNGEGAEPSAGGQFESLTFDME...</td>\n      <td>True</td>\n      <td>54</td>\n      <td>0.026787</td>\n    </tr>\n    <tr>\n      <th>3669</th>\n      <td>STAT3</td>\n      <td>BLK</td>\n      <td>PF00069</td>\n      <td>Pkinase</td>\n      <td>Protein kinase domain</td>\n      <td>MOD_ProDKin_1</td>\n      <td>[TTCSNTIDLPMSPRTLDSLMQFGNNGEGAEPSAGGQFESLTFDME...</td>\n      <td>True</td>\n      <td>54</td>\n      <td>0.015433</td>\n    </tr>\n    <tr>\n      <th>3702</th>\n      <td>STAT3</td>\n      <td>BLK</td>\n      <td>PF00069</td>\n      <td>Pkinase</td>\n      <td>Protein kinase domain</td>\n      <td>MOD_CDK_SPK_2</td>\n      <td>[TTCSNTIDLPMSPRTLDSLMQFGNNGEGAEPSAGGQFESLTFDME...</td>\n      <td>True</td>\n      <td>54</td>\n      <td>0.001929</td>\n    </tr>\n    <tr>\n      <th>3717</th>\n      <td>STAT3</td>\n      <td>BLK</td>\n      <td>PF00069</td>\n      <td>Pkinase</td>\n      <td>Protein kinase domain</td>\n      <td>MOD_Plk_4</td>\n      <td>[TTCSNTIDLPMSPRTLDSLMQFGNNGEGAEPSAGGQFESLTFDME...</td>\n      <td>True</td>\n      <td>54</td>\n      <td>0.006019</td>\n    </tr>\n    <tr>\n      <th>3723</th>\n      <td>STAT3</td>\n      <td>BLK</td>\n      <td>PF00069</td>\n      <td>Pkinase</td>\n      <td>Protein kinase domain</td>\n      <td>MOD_Plk_2-3</td>\n      <td>[TTCSNTIDLPMSPRTLDSLMQFGNNGEGAEPSAGGQFESLTFDME...</td>\n      <td>True</td>\n      <td>54</td>\n      <td>0.002175</td>\n    </tr>\n    <tr>\n      <th>4406</th>\n      <td>STAT3</td>\n      <td>TXK</td>\n      <td>PF00069</td>\n      <td>Pkinase</td>\n      <td>Protein kinase domain</td>\n      <td>MOD_CK1_1</td>\n      <td>[MAQWNQLQQLDTRYLEQLHQLYSDSFPMELRQFLAPWIESQDWAY...</td>\n      <td>True</td>\n      <td>98</td>\n      <td>0.017041</td>\n    </tr>\n    <tr>\n      <th>4601</th>\n      <td>STAT3</td>\n      <td>TXK</td>\n      <td>PF00069</td>\n      <td>Pkinase</td>\n      <td>Protein kinase domain</td>\n      <td>MOD_NEK2_1</td>\n      <td>[MAQWNQLQQLDTRYLEQLHQLYSDSFPMELRQFLAPWIESQDWAY...</td>\n      <td>True</td>\n      <td>98</td>\n      <td>0.009798</td>\n    </tr>\n    <tr>\n      <th>4783</th>\n      <td>STAT3</td>\n      <td>TXK</td>\n      <td>PF00069</td>\n      <td>Pkinase</td>\n      <td>Protein kinase domain</td>\n      <td>MOD_Plk_4</td>\n      <td>[MAQWNQLQQLDTRYLEQLHQLYSDSFPMELRQFLAPWIESQDWAY...</td>\n      <td>True</td>\n      <td>98</td>\n      <td>0.006019</td>\n    </tr>\n    <tr>\n      <th>4887</th>\n      <td>STAT3</td>\n      <td>TXK</td>\n      <td>PF00017</td>\n      <td>SH2</td>\n      <td>SH2 domain</td>\n      <td>LIG_SH2_STAT3</td>\n      <td>[MAQWNQLQQLDTRYLEQLHQLYSDSFPMELRQFLAPWIESQDWAY...</td>\n      <td>True</td>\n      <td>98</td>\n      <td>0.000797</td>\n    </tr>\n    <tr>\n      <th>4900</th>\n      <td>STAT3</td>\n      <td>TXK</td>\n      <td>PF00017</td>\n      <td>SH2</td>\n      <td>SH2 domain</td>\n      <td>LIG_SH2_STAT5</td>\n      <td>[MAQWNQLQQLDTRYLEQLHQLYSDSFPMELRQFLAPWIESQDWAY...</td>\n      <td>True</td>\n      <td>98</td>\n      <td>0.003296</td>\n    </tr>\n    <tr>\n      <th>4991</th>\n      <td>STAT3</td>\n      <td>TXK</td>\n      <td>PF00017</td>\n      <td>SH2</td>\n      <td>SH2 domain</td>\n      <td>LIG_SH2_STAP1</td>\n      <td>[MAQWNQLQQLDTRYLEQLHQLYSDSFPMELRQFLAPWIESQDWAY...</td>\n      <td>True</td>\n      <td>98</td>\n      <td>0.001026</td>\n    </tr>\n    <tr>\n      <th>15485</th>\n      <td>STAT3</td>\n      <td>BMX</td>\n      <td>PF00069</td>\n      <td>Pkinase</td>\n      <td>Protein kinase domain</td>\n      <td>MOD_CK1_1</td>\n      <td>[MAQWNQLQQLDTRYLEQLHQLYSDSFPMELRQFLAPWIESQDWAY...</td>\n      <td>True</td>\n      <td>98</td>\n      <td>0.017041</td>\n    </tr>\n    <tr>\n      <th>15530</th>\n      <td>STAT3</td>\n      <td>BMX</td>\n      <td>PF00069</td>\n      <td>Pkinase</td>\n      <td>Protein kinase domain</td>\n      <td>MOD_NEK2_1</td>\n      <td>[MAQWNQLQQLDTRYLEQLHQLYSDSFPMELRQFLAPWIESQDWAY...</td>\n      <td>True</td>\n      <td>98</td>\n      <td>0.009798</td>\n    </tr>\n    <tr>\n      <th>15572</th>\n      <td>STAT3</td>\n      <td>BMX</td>\n      <td>PF00069</td>\n      <td>Pkinase</td>\n      <td>Protein kinase domain</td>\n      <td>MOD_Plk_4</td>\n      <td>[MAQWNQLQQLDTRYLEQLHQLYSDSFPMELRQFLAPWIESQDWAY...</td>\n      <td>True</td>\n      <td>98</td>\n      <td>0.006019</td>\n    </tr>\n    <tr>\n      <th>15596</th>\n      <td>STAT3</td>\n      <td>BMX</td>\n      <td>PF00017</td>\n      <td>SH2</td>\n      <td>SH2 domain</td>\n      <td>LIG_SH2_STAT3</td>\n      <td>[MAQWNQLQQLDTRYLEQLHQLYSDSFPMELRQFLAPWIESQDWAY...</td>\n      <td>True</td>\n      <td>98</td>\n      <td>0.000797</td>\n    </tr>\n    <tr>\n      <th>15599</th>\n      <td>STAT3</td>\n      <td>BMX</td>\n      <td>PF00017</td>\n      <td>SH2</td>\n      <td>SH2 domain</td>\n      <td>LIG_SH2_STAT5</td>\n      <td>[MAQWNQLQQLDTRYLEQLHQLYSDSFPMELRQFLAPWIESQDWAY...</td>\n      <td>True</td>\n      <td>98</td>\n      <td>0.003296</td>\n    </tr>\n    <tr>\n      <th>15620</th>\n      <td>STAT3</td>\n      <td>BMX</td>\n      <td>PF00017</td>\n      <td>SH2</td>\n      <td>SH2 domain</td>\n      <td>LIG_SH2_STAP1</td>\n      <td>[MAQWNQLQQLDTRYLEQLHQLYSDSFPMELRQFLAPWIESQDWAY...</td>\n      <td>True</td>\n      <td>98</td>\n      <td>0.001026</td>\n    </tr>\n  </tbody>\n</table>\n</div>"
     },
     "metadata": {},
     "execution_count": 112
    }
   ],
   "source": [
    "slim_ppis.loc[slim_ppis['slim_match'] & (slim_ppis['ad_gene_symbol'] == 'STAT3'), :]"
   ]
  }
 ],
 "metadata": {
  "kernelspec": {
   "display_name": "Python 3",
   "language": "python",
   "name": "python3"
  },
  "language_info": {
   "codemirror_mode": {
    "name": "ipython",
    "version": 3
   },
   "file_extension": ".py",
   "mimetype": "text/x-python",
   "name": "python",
   "nbconvert_exporter": "python",
   "pygments_lexer": "ipython3",
   "version": "3.8.3-final"
  }
 },
 "nbformat": 4,
 "nbformat_minor": 2
}