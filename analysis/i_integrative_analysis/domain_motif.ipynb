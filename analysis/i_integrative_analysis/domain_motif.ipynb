{
 "cells": [
  {
   "cell_type": "markdown",
   "metadata": {},
   "source": [
    "## TODO\n",
    "\n",
    "- map partners to domains\n",
    "- domain motif interactions\n",
    "- map motifs to isoforms\n",
    "- vizualize motifs"
   ]
  },
  {
   "cell_type": "code",
   "execution_count": 9,
   "metadata": {},
   "outputs": [],
   "source": [
    "import pandas as pd\n",
    "\n",
    "from ccsblib import huri\n",
    "\n",
    "from data_loading import load_isoform_and_paralog_y2h_data"
   ]
  },
  {
   "cell_type": "code",
   "execution_count": 2,
   "metadata": {},
   "outputs": [],
   "source": [
    "pd.set_option('display.max_columns', 100)"
   ]
  },
  {
   "cell_type": "code",
   "execution_count": 3,
   "metadata": {},
   "outputs": [],
   "source": [
    "pfam = huri.load_pfam_domains()"
   ]
  },
  {
   "cell_type": "code",
   "execution_count": 4,
   "metadata": {},
   "outputs": [
    {
     "data": {
      "text/html": "<div>\n<style scoped>\n    .dataframe tbody tr th:only-of-type {\n        vertical-align: middle;\n    }\n\n    .dataframe tbody tr th {\n        vertical-align: top;\n    }\n\n    .dataframe thead th {\n        text-align: right;\n    }\n</style>\n<table border=\"1\" class=\"dataframe\">\n  <thead>\n    <tr style=\"text-align: right;\">\n      <th></th>\n      <th>orf_id</th>\n      <th>pfam_accession</th>\n      <th>domain_name</th>\n      <th>domain_description</th>\n      <th>start</th>\n      <th>stop</th>\n      <th>domain_length</th>\n    </tr>\n  </thead>\n  <tbody>\n    <tr>\n      <th>10</th>\n      <td>1022</td>\n      <td>PF00812</td>\n      <td>Ephrin</td>\n      <td>Ephrin</td>\n      <td>31</td>\n      <td>163</td>\n      <td>139</td>\n    </tr>\n    <tr>\n      <th>16</th>\n      <td>6750</td>\n      <td>PF02089</td>\n      <td>Palm_thioest</td>\n      <td>Palmitoyl protein thioesterase</td>\n      <td>86</td>\n      <td>274</td>\n      <td>279</td>\n    </tr>\n    <tr>\n      <th>17</th>\n      <td>6750</td>\n      <td>PF00561</td>\n      <td>Abhydrolase_1</td>\n      <td>alpha/beta hydrolase fold</td>\n      <td>37</td>\n      <td>137</td>\n      <td>256</td>\n    </tr>\n    <tr>\n      <th>18</th>\n      <td>6750</td>\n      <td>PF00561</td>\n      <td>Abhydrolase_1</td>\n      <td>alpha/beta hydrolase fold</td>\n      <td>216</td>\n      <td>254</td>\n      <td>256</td>\n    </tr>\n    <tr>\n      <th>23</th>\n      <td>7051</td>\n      <td>PF14555</td>\n      <td>UBA_4</td>\n      <td>UBA-like domain</td>\n      <td>15</td>\n      <td>55</td>\n      <td>43</td>\n    </tr>\n  </tbody>\n</table>\n</div>",
      "text/plain": "    orf_id pfam_accession    domain_name              domain_description  \\\n10    1022        PF00812         Ephrin                          Ephrin   \n16    6750        PF02089   Palm_thioest  Palmitoyl protein thioesterase   \n17    6750        PF00561  Abhydrolase_1       alpha/beta hydrolase fold   \n18    6750        PF00561  Abhydrolase_1       alpha/beta hydrolase fold   \n23    7051        PF14555          UBA_4                 UBA-like domain   \n\n    start  stop  domain_length  \n10     31   163            139  \n16     86   274            279  \n17     37   137            256  \n18    216   254            256  \n23     15    55             43  "
     },
     "execution_count": 4,
     "metadata": {},
     "output_type": "execute_result"
    }
   ],
   "source": [
    "pfam.head()"
   ]
  },
  {
   "cell_type": "code",
   "execution_count": 5,
   "metadata": {},
   "outputs": [],
   "source": [
    "dlm = pd.read_csv('../../data/external/elm_interaction_domains.tsv',\n",
    "                  sep='\\t')"
   ]
  },
  {
   "cell_type": "code",
   "execution_count": 6,
   "metadata": {},
   "outputs": [
    {
     "data": {
      "text/html": "<div>\n<style scoped>\n    .dataframe tbody tr th:only-of-type {\n        vertical-align: middle;\n    }\n\n    .dataframe tbody tr th {\n        vertical-align: top;\n    }\n\n    .dataframe thead th {\n        text-align: right;\n    }\n</style>\n<table border=\"1\" class=\"dataframe\">\n  <thead>\n    <tr style=\"text-align: right;\">\n      <th></th>\n      <th>ELM identifier</th>\n      <th>Interaction Domain Id</th>\n      <th>Interaction Domain Description</th>\n      <th>Interaction Domain Name</th>\n    </tr>\n  </thead>\n  <tbody>\n    <tr>\n      <th>0</th>\n      <td>CLV_NRD_NRD_1</td>\n      <td>PF00675</td>\n      <td>Peptidase_M16</td>\n      <td>Insulinase (Peptidase family M16)</td>\n    </tr>\n    <tr>\n      <th>1</th>\n      <td>CLV_PCSK_FUR_1</td>\n      <td>PF00082</td>\n      <td>Peptidase_S8</td>\n      <td>Subtilase family</td>\n    </tr>\n    <tr>\n      <th>2</th>\n      <td>CLV_PCSK_PC1ET2_1</td>\n      <td>PF00082</td>\n      <td>Peptidase_S8</td>\n      <td>Subtilase family</td>\n    </tr>\n    <tr>\n      <th>3</th>\n      <td>CLV_PCSK_PC7_1</td>\n      <td>PF00082</td>\n      <td>Peptidase_S8</td>\n      <td>Subtilase family</td>\n    </tr>\n    <tr>\n      <th>4</th>\n      <td>CLV_PCSK_SKI1_1</td>\n      <td>PF00082</td>\n      <td>Peptidase_S8</td>\n      <td>Subtilase family</td>\n    </tr>\n  </tbody>\n</table>\n</div>",
      "text/plain": "      ELM identifier Interaction Domain Id Interaction Domain Description  \\\n0      CLV_NRD_NRD_1               PF00675                  Peptidase_M16   \n1     CLV_PCSK_FUR_1               PF00082                   Peptidase_S8   \n2  CLV_PCSK_PC1ET2_1               PF00082                   Peptidase_S8   \n3     CLV_PCSK_PC7_1               PF00082                   Peptidase_S8   \n4    CLV_PCSK_SKI1_1               PF00082                   Peptidase_S8   \n\n             Interaction Domain Name  \n0  Insulinase (Peptidase family M16)  \n1                   Subtilase family  \n2                   Subtilase family  \n3                   Subtilase family  \n4                   Subtilase family  "
     },
     "execution_count": 6,
     "metadata": {},
     "output_type": "execute_result"
    }
   ],
   "source": [
    "dlm.head()"
   ]
  },
  {
   "cell_type": "code",
   "execution_count": 21,
   "metadata": {},
   "outputs": [],
   "source": [
    "orfs_with_slim_dom = pfam.loc[pfam['pfam_accession'].isin(dlm['Interaction Domain Id']),\n",
    "                              'orf_id'].unique()"
   ]
  },
  {
   "cell_type": "code",
   "execution_count": 30,
   "metadata": {},
   "outputs": [
    {
     "data": {
      "text/plain": [
       "1827"
      ]
     },
     "execution_count": 30,
     "metadata": {},
     "output_type": "execute_result"
    }
   ],
   "source": [
    "ppi.loc[:, ['ad_gene_symbol', 'db_gene_symbol']].drop_duplicates().shape[0]"
   ]
  },
  {
   "cell_type": "code",
   "execution_count": 29,
   "metadata": {},
   "outputs": [
    {
     "data": {
      "text/plain": [
       "512"
      ]
     },
     "execution_count": 29,
     "metadata": {},
     "output_type": "execute_result"
    }
   ],
   "source": [
    "ppi.loc[ppi['db_orf_id'].isin(orfs_with_slim_dom),\n",
    "        ['ad_gene_symbol', 'db_gene_symbol']].drop_duplicates().shape[0]"
   ]
  },
  {
   "cell_type": "code",
   "execution_count": 32,
   "metadata": {},
   "outputs": [],
   "source": [
    "ppi['gene_level_pair'] = ppi['ad_gene_symbol'] + '_' + ppi['db_gene_symbol']"
   ]
  },
  {
   "cell_type": "code",
   "execution_count": 34,
   "metadata": {},
   "outputs": [
    {
     "data": {
      "text/plain": [
       "212"
      ]
     },
     "execution_count": 34,
     "metadata": {},
     "output_type": "execute_result"
    }
   ],
   "source": [
    "dom_slim_ppi = set(ppi.loc[ppi['db_orf_id'].isin(orfs_with_slim_dom),\n",
    "                       'gene_level_pair'].unique())\n",
    "pos_ppi = set(ppi.loc[(ppi['score'] == '1'), 'gene_level_pair'].unique())\n",
    "neg_ppi = set(ppi.loc[(ppi['score'] == '0'), 'gene_level_pair'].unique())\n",
    "diff_slim_ppi = dom_slim_ppi.intersection(pos_ppi.intersection(neg_ppi))\n",
    "len(diff_slim_ppi)"
   ]
  },
  {
   "cell_type": "code",
   "execution_count": 36,
   "metadata": {},
   "outputs": [
    {
     "data": {
      "text/plain": [
       "56"
      ]
     },
     "execution_count": 36,
     "metadata": {},
     "output_type": "execute_result"
    }
   ],
   "source": [
    "len({p.split('_')[0] for p in diff_slim_ppi})  # number of TF genes with differentially interacting dom-slim pairs"
   ]
  },
  {
   "cell_type": "code",
   "execution_count": null,
   "metadata": {},
   "outputs": [],
   "source": [
    "# subset of interactions that are in some, not in others"
   ]
  },
  {
   "cell_type": "code",
   "execution_count": 27,
   "metadata": {},
   "outputs": [],
   "source": [
    "iso = load_valid_isoform_clones()"
   ]
  },
  {
   "cell_type": "code",
   "execution_count": 31,
   "metadata": {},
   "outputs": [
    {
     "data": {
      "text/html": [
       "<div>\n",
       "<style scoped>\n",
       "    .dataframe tbody tr th:only-of-type {\n",
       "        vertical-align: middle;\n",
       "    }\n",
       "\n",
       "    .dataframe tbody tr th {\n",
       "        vertical-align: top;\n",
       "    }\n",
       "\n",
       "    .dataframe thead th {\n",
       "        text-align: right;\n",
       "    }\n",
       "</style>\n",
       "<table border=\"1\" class=\"dataframe\">\n",
       "  <thead>\n",
       "    <tr style=\"text-align: right;\">\n",
       "      <th></th>\n",
       "      <th>gene</th>\n",
       "      <th>clone_acc</th>\n",
       "      <th>aa_seq</th>\n",
       "      <th>num_aa</th>\n",
       "    </tr>\n",
       "  </thead>\n",
       "  <tbody>\n",
       "    <tr>\n",
       "      <th>0</th>\n",
       "      <td>AEBP2</td>\n",
       "      <td>AEBP2|2/3|05F03</td>\n",
       "      <td>MDVDSTISSGRSTPAMMNGQGSTTSSSKNIAYNCCWDQCQACFNSS...</td>\n",
       "      <td>268</td>\n",
       "    </tr>\n",
       "    <tr>\n",
       "      <th>1</th>\n",
       "      <td>AEBP2</td>\n",
       "      <td>AEBP2|3/3|05E07</td>\n",
       "      <td>MYTRRYSSISSTIMDVDSTISSGRSTPAMMNGQGSTTSSSKNIAYN...</td>\n",
       "      <td>263</td>\n",
       "    </tr>\n",
       "    <tr>\n",
       "      <th>2</th>\n",
       "      <td>ARNT2</td>\n",
       "      <td>ARNT2|1/6|08C12</td>\n",
       "      <td>MATPAAVNPPEMASDIPGSVTLPVAPMAATGQVRMAGAMPARGGKR...</td>\n",
       "      <td>717</td>\n",
       "    </tr>\n",
       "    <tr>\n",
       "      <th>3</th>\n",
       "      <td>ARNT2</td>\n",
       "      <td>ARNT2|2/6|09E01</td>\n",
       "      <td>MASDIPGSVTLPVAPMAATGQVRMAGAMPARGGKRRSGMDFDDEDG...</td>\n",
       "      <td>683</td>\n",
       "    </tr>\n",
       "    <tr>\n",
       "      <th>4</th>\n",
       "      <td>ARNT2</td>\n",
       "      <td>ARNT2|3/6|10D11</td>\n",
       "      <td>MATPAAVNPPEMASDIPGSVTLPVAPMAATGQVRMAGAMPARGGKR...</td>\n",
       "      <td>716</td>\n",
       "    </tr>\n",
       "  </tbody>\n",
       "</table>\n",
       "</div>"
      ],
      "text/plain": [
       "    gene        clone_acc                                             aa_seq  \\\n",
       "0  AEBP2  AEBP2|2/3|05F03  MDVDSTISSGRSTPAMMNGQGSTTSSSKNIAYNCCWDQCQACFNSS...   \n",
       "1  AEBP2  AEBP2|3/3|05E07  MYTRRYSSISSTIMDVDSTISSGRSTPAMMNGQGSTTSSSKNIAYN...   \n",
       "2  ARNT2  ARNT2|1/6|08C12  MATPAAVNPPEMASDIPGSVTLPVAPMAATGQVRMAGAMPARGGKR...   \n",
       "3  ARNT2  ARNT2|2/6|09E01  MASDIPGSVTLPVAPMAATGQVRMAGAMPARGGKRRSGMDFDDEDG...   \n",
       "4  ARNT2  ARNT2|3/6|10D11  MATPAAVNPPEMASDIPGSVTLPVAPMAATGQVRMAGAMPARGGKR...   \n",
       "\n",
       "   num_aa  \n",
       "0     268  \n",
       "1     263  \n",
       "2     717  \n",
       "3     683  \n",
       "4     716  "
      ]
     },
     "execution_count": 31,
     "metadata": {},
     "output_type": "execute_result"
    }
   ],
   "source": [
    "iso.head()"
   ]
  },
  {
   "cell_type": "code",
   "execution_count": 45,
   "metadata": {},
   "outputs": [],
   "source": [
    "iso = iso.set_index('clone_acc')"
   ]
  },
  {
   "cell_type": "code",
   "execution_count": 48,
   "metadata": {},
   "outputs": [],
   "source": [
    "from ccsblib.utils import _get_data_file_path\n",
    "\n",
    "def match_elm_motifs(orfs):\n",
    "    \"\"\"Take the ELM motifs file and match the regex to given aa seqs\n",
    "    Args:\n",
    "        orfs (Series): amino acid sequences indexed by ORF ID\n",
    "    Returns:\n",
    "        DataFrame: one row for each seperate match of a motif to an ORF\n",
    "    \"\"\"\n",
    "    file_path = _get_data_file_path('elms_index.tsv')\n",
    "    elm = pd.read_csv(file_path, header=0, comment='#', sep='\\t')\n",
    "    motifs = []\n",
    "    for elmIdx, elmRow in elm.iterrows():\n",
    "        # inserting ?: to make groups non-capture\n",
    "        motifMatches = orfs.str.findall(elmRow['Regex'].replace('(', '(?:'))\n",
    "        for orfID, matches in zip(motifMatches.index, motifMatches.values):\n",
    "            for match in matches:\n",
    "                start = orfs.loc[orfID].find(match)\n",
    "                # switch from 0 to 1-based indexing\n",
    "                motifs.append((orfID,\n",
    "                               elmRow['Accession'],\n",
    "                               elmRow['ELMIdentifier'],\n",
    "                               start + 1,\n",
    "                               start + len(match)))\n",
    "    motifs = pd.DataFrame(data=motifs,\n",
    "                          columns=('orf_id', 'region_id', 'ELM_ID', 'start', 'end'))\n",
    "    motifs['source'] = 'ELM_prediction'\n",
    "    motifs['type'] = 'SLiM'\n",
    "    return motifs\n",
    "\n",
    "\n",
    "\n",
    "slims = match_elm_motifs(iso['aa_seq'])"
   ]
  },
  {
   "cell_type": "code",
   "execution_count": 49,
   "metadata": {},
   "outputs": [
    {
     "data": {
      "text/html": [
       "<div>\n",
       "<style scoped>\n",
       "    .dataframe tbody tr th:only-of-type {\n",
       "        vertical-align: middle;\n",
       "    }\n",
       "\n",
       "    .dataframe tbody tr th {\n",
       "        vertical-align: top;\n",
       "    }\n",
       "\n",
       "    .dataframe thead th {\n",
       "        text-align: right;\n",
       "    }\n",
       "</style>\n",
       "<table border=\"1\" class=\"dataframe\">\n",
       "  <thead>\n",
       "    <tr style=\"text-align: right;\">\n",
       "      <th></th>\n",
       "      <th>orf_id</th>\n",
       "      <th>region_id</th>\n",
       "      <th>ELM_ID</th>\n",
       "      <th>start</th>\n",
       "      <th>end</th>\n",
       "      <th>source</th>\n",
       "      <th>type</th>\n",
       "    </tr>\n",
       "  </thead>\n",
       "  <tbody>\n",
       "    <tr>\n",
       "      <th>0</th>\n",
       "      <td>ARNT2|1/6|08C12</td>\n",
       "      <td>ELME000321</td>\n",
       "      <td>CLV_C14_Caspase3-7</td>\n",
       "      <td>144</td>\n",
       "      <td>148</td>\n",
       "      <td>ELM_prediction</td>\n",
       "      <td>SLiM</td>\n",
       "    </tr>\n",
       "    <tr>\n",
       "      <th>1</th>\n",
       "      <td>ARNT2|1/6|08C12</td>\n",
       "      <td>ELME000321</td>\n",
       "      <td>CLV_C14_Caspase3-7</td>\n",
       "      <td>481</td>\n",
       "      <td>485</td>\n",
       "      <td>ELM_prediction</td>\n",
       "      <td>SLiM</td>\n",
       "    </tr>\n",
       "    <tr>\n",
       "      <th>2</th>\n",
       "      <td>ARNT2|2/6|09E01</td>\n",
       "      <td>ELME000321</td>\n",
       "      <td>CLV_C14_Caspase3-7</td>\n",
       "      <td>133</td>\n",
       "      <td>137</td>\n",
       "      <td>ELM_prediction</td>\n",
       "      <td>SLiM</td>\n",
       "    </tr>\n",
       "    <tr>\n",
       "      <th>3</th>\n",
       "      <td>ARNT2|2/6|09E01</td>\n",
       "      <td>ELME000321</td>\n",
       "      <td>CLV_C14_Caspase3-7</td>\n",
       "      <td>470</td>\n",
       "      <td>474</td>\n",
       "      <td>ELM_prediction</td>\n",
       "      <td>SLiM</td>\n",
       "    </tr>\n",
       "    <tr>\n",
       "      <th>4</th>\n",
       "      <td>ARNT2|3/6|10D11</td>\n",
       "      <td>ELME000321</td>\n",
       "      <td>CLV_C14_Caspase3-7</td>\n",
       "      <td>144</td>\n",
       "      <td>148</td>\n",
       "      <td>ELM_prediction</td>\n",
       "      <td>SLiM</td>\n",
       "    </tr>\n",
       "  </tbody>\n",
       "</table>\n",
       "</div>"
      ],
      "text/plain": [
       "            orf_id   region_id              ELM_ID  start  end  \\\n",
       "0  ARNT2|1/6|08C12  ELME000321  CLV_C14_Caspase3-7    144  148   \n",
       "1  ARNT2|1/6|08C12  ELME000321  CLV_C14_Caspase3-7    481  485   \n",
       "2  ARNT2|2/6|09E01  ELME000321  CLV_C14_Caspase3-7    133  137   \n",
       "3  ARNT2|2/6|09E01  ELME000321  CLV_C14_Caspase3-7    470  474   \n",
       "4  ARNT2|3/6|10D11  ELME000321  CLV_C14_Caspase3-7    144  148   \n",
       "\n",
       "           source  type  \n",
       "0  ELM_prediction  SLiM  \n",
       "1  ELM_prediction  SLiM  \n",
       "2  ELM_prediction  SLiM  \n",
       "3  ELM_prediction  SLiM  \n",
       "4  ELM_prediction  SLiM  "
      ]
     },
     "execution_count": 49,
     "metadata": {},
     "output_type": "execute_result"
    }
   ],
   "source": [
    "slims.head()"
   ]
  },
  {
   "cell_type": "code",
   "execution_count": 10,
   "metadata": {},
   "outputs": [],
   "source": [
    "ppi = load_isoform_and_paralog_y2h_data()\n",
    "ppi = ppi.loc[ppi['category'] == 'tf_isoform_ppis', :]"
   ]
  },
  {
   "cell_type": "code",
   "execution_count": 11,
   "metadata": {},
   "outputs": [
    {
     "data": {
      "text/plain": "{'ATF2': ({'ATF2|1/6|12H04',\n   'ATF2|2/6|09E05',\n   'ATF2|3/6|09C05',\n   'ATF2|4/6|09B05'},\n  'RLKAALTQQHPPVTNGDTVKGHGSGLVRTQSEESRPQSLQQPATSTTETPASPAHTTPQTQSTSGRRRRAANEDPDEKRRKFLERNRAAASRCRQKRKVWVQSLEKKAEDLSSLNGQLQ'),\n 'FOSL2': ({'ATF2|1/6|12H04',\n   'ATF2|2/6|09E05',\n   'ATF2|3/6|09C05',\n   'ATF2|4/6|09B05'},\n  'RLKAALTQQHPPVTNGDTVKGHGSGLVRTQSEESRPQSLQQPATSTTETPASPAHTTPQTQSTSGRRRRAANEDPDEKRRKFLERNRAAASRCRQKRKVWVQSLEKKAEDLSSLNGQLQ'),\n 'JDP2': ({'ATF2|1/6|12H04',\n   'ATF2|2/6|09E05',\n   'ATF2|3/6|09C05',\n   'ATF2|4/6|09B05'},\n  'RLKAALTQQHPPVTNGDTVKGHGSGLVRTQSEESRPQSLQQPATSTTETPASPAHTTPQTQSTSGRRRRAANEDPDEKRRKFLERNRAAASRCRQKRKVWVQSLEKKAEDLSSLNGQLQ'),\n 'MAPK9': ({'ATF2|1/6|12H04', 'ATF2|2/6|09E05', 'ATF2|5/6|09A05'},\n  'RFTNEDHLAVHKHKHEMTLKFGPARNDSVIVAD')}"
     },
     "execution_count": 11,
     "metadata": {},
     "output_type": "execute_result"
    }
   ],
   "source": [
    "import numpy as np\n",
    "\n",
    "from data_loading import load_aligned_aa_seqs\n",
    "\n",
    "\n",
    "def isoform_specific_regions(gene_name):\n",
    "    \"\"\"The name is a bit misleading because it's not specific to one isoform but just\n",
    "       not common to all isoforms.\n",
    "\n",
    "\n",
    "\n",
    "       Should return a list of contiguous regions (AA seq),\n",
    "       with a list of the isoform IDs that contain that region.\n",
    "\n",
    "       TODO:\n",
    "        - frame shifts\n",
    "        - \n",
    "    \n",
    "    \"\"\"\n",
    "    algn = load_aligned_aa_seqs(gene_name)\n",
    "    subset_prev = None\n",
    "    isr = []\n",
    "    len_algn = len(list(algn.values())[0])\n",
    "    for i in range(len_algn):\n",
    "        subset = {k for k, v in algn.items() if v[i] != '-'}\n",
    "        if subset_prev is None:\n",
    "            if (len(subset) < len(algn)) and (len(subset) > 0):\n",
    "                start = i\n",
    "                subset_prev = subset\n",
    "        else:\n",
    "            if subset != subset_prev or i == len_algn - 1:\n",
    "                if (len(subset_prev) < len(algn)) and (len(subset_prev) > 0):\n",
    "                    isr.append((subset_prev, algn[list(subset_prev)[0]][start:i]))\n",
    "                start = i\n",
    "                subset_prev = subset\n",
    "    return isr\n",
    "\n",
    "\n",
    "def ppi_tf_gene(data, gene_name):\n",
    "    tf = data.loc[(data['category'] == 'tf_isoform_ppis') &\n",
    "                (data['ad_gene_symbol'] == gene_name),\n",
    "                ['ad_clone_acc', 'db_gene_symbol', 'score']].copy()\n",
    "    tf['score'] = tf['score'].map({'1': True,\n",
    "                               '0': False,\n",
    "                               'AA': np.nan,\n",
    "                               'NC': np.nan})\n",
    "    tf = tf.pivot(index='ad_clone_acc',\n",
    "                  columns='db_gene_symbol',\n",
    "                  values='score')\n",
    "    return tf\n",
    "\n",
    "\n",
    "def ppi_linked_isoform_specific_regions(ppi_data, gene_name):\n",
    "    \"\"\"\n",
    "    For now, do not use cases where there are missing values\n",
    "    \"\"\"\n",
    "    isr = isoform_specific_regions(gene_name)\n",
    "    ppi = ppi_tf_gene(ppi_data, gene_name)\n",
    "    ppi_isr = {}\n",
    "    ppi_iso = {partner: set(ppi.index[ppi[partner]])\n",
    "               for partner in ppi.columns\n",
    "               if ppi[partner].notnull().all()}\n",
    "    for partner, ppi_iso_subset in ppi_iso.items():\n",
    "        for isr_subset, aa_seq in isr:\n",
    "            if ppi_iso_subset == isr_subset:\n",
    "                ppi_isr[partner] = (isr_subset, aa_seq)\n",
    "    return ppi_isr\n",
    "\n",
    "\n",
    "ppi_isr = ppi_linked_isoform_specific_regions(ppi, 'ATF2')\n",
    "ppi_isr"
   ]
  },
  {
   "cell_type": "code",
   "execution_count": 12,
   "metadata": {},
   "outputs": [],
   "source": [
    "slim_binding_domains = pd.merge(pfam,\n",
    "                                dlm,\n",
    "                                how='inner',\n",
    "                                left_on='pfam_accession',\n",
    "                                right_on='Interaction Domain Id')\n",
    "slim_binding_domains = pd.merge(slim_binding_domains,\n",
    "                                ppi,\n",
    "                                how='inner',\n",
    "                                left_on='orf_id',\n",
    "                                right_on='db_orf_id')\n",
    "slim_ppis = slim_binding_domains.loc[:, ['ad_gene_symbol', \n",
    "                                        'db_gene_symbol',\n",
    "                                        'pfam_accession',\n",
    "                                        'domain_name',\n",
    "                                        'domain_description',\n",
    "                                        'ELM identifier']].drop_duplicates()"
   ]
  },
  {
   "cell_type": "code",
   "execution_count": 13,
   "metadata": {},
   "outputs": [
    {
     "data": {
      "text/html": "<div>\n<style scoped>\n    .dataframe tbody tr th:only-of-type {\n        vertical-align: middle;\n    }\n\n    .dataframe tbody tr th {\n        vertical-align: top;\n    }\n\n    .dataframe thead th {\n        text-align: right;\n    }\n</style>\n<table border=\"1\" class=\"dataframe\">\n  <thead>\n    <tr style=\"text-align: right;\">\n      <th></th>\n      <th>ad_gene_symbol</th>\n      <th>db_gene_symbol</th>\n      <th>pfam_accession</th>\n      <th>domain_name</th>\n      <th>domain_description</th>\n      <th>ELM identifier</th>\n    </tr>\n  </thead>\n  <tbody>\n    <tr>\n      <th>0</th>\n      <td>TCF4</td>\n      <td>KLC3</td>\n      <td>PF00515</td>\n      <td>TPR_1</td>\n      <td>Tetratricopeptide repeat</td>\n      <td>LIG_TPR</td>\n    </tr>\n    <tr>\n      <th>8</th>\n      <td>TCF4</td>\n      <td>KLC3</td>\n      <td>PF00515</td>\n      <td>TPR_1</td>\n      <td>Tetratricopeptide repeat</td>\n      <td>TRG_PTS1</td>\n    </tr>\n    <tr>\n      <th>16</th>\n      <td>TCF4</td>\n      <td>KLC3</td>\n      <td>PF00515</td>\n      <td>TPR_1</td>\n      <td>Tetratricopeptide repeat</td>\n      <td>LIG_APCC_Cbox_2</td>\n    </tr>\n    <tr>\n      <th>24</th>\n      <td>TCF4</td>\n      <td>KLC3</td>\n      <td>PF00515</td>\n      <td>TPR_1</td>\n      <td>Tetratricopeptide repeat</td>\n      <td>LIG_APCC_Cbox_1</td>\n    </tr>\n    <tr>\n      <th>160</th>\n      <td>STAT3</td>\n      <td>IFIT2</td>\n      <td>PF00515</td>\n      <td>TPR_1</td>\n      <td>Tetratricopeptide repeat</td>\n      <td>LIG_TPR</td>\n    </tr>\n    <tr>\n      <th>...</th>\n      <td>...</td>\n      <td>...</td>\n      <td>...</td>\n      <td>...</td>\n      <td>...</td>\n      <td>...</td>\n    </tr>\n    <tr>\n      <th>24156</th>\n      <td>FOXP2</td>\n      <td>CTBP2</td>\n      <td>PF00389</td>\n      <td>2-Hacid_dh</td>\n      <td>D-isomer specific 2-hydroxyacid dehydrogenase,...</td>\n      <td>LIG_CtBP_PxDLS_1</td>\n    </tr>\n    <tr>\n      <th>24158</th>\n      <td>ZBTB18</td>\n      <td>CTBP2</td>\n      <td>PF00389</td>\n      <td>2-Hacid_dh</td>\n      <td>D-isomer specific 2-hydroxyacid dehydrogenase,...</td>\n      <td>LIG_CtBP_PxDLS_1</td>\n    </tr>\n    <tr>\n      <th>24160</th>\n      <td>SOX6</td>\n      <td>CTBP2</td>\n      <td>PF00389</td>\n      <td>2-Hacid_dh</td>\n      <td>D-isomer specific 2-hydroxyacid dehydrogenase,...</td>\n      <td>LIG_CtBP_PxDLS_1</td>\n    </tr>\n    <tr>\n      <th>24163</th>\n      <td>IKZF2</td>\n      <td>CTBP2</td>\n      <td>PF00389</td>\n      <td>2-Hacid_dh</td>\n      <td>D-isomer specific 2-hydroxyacid dehydrogenase,...</td>\n      <td>LIG_CtBP_PxDLS_1</td>\n    </tr>\n    <tr>\n      <th>24172</th>\n      <td>SOX5</td>\n      <td>CTBP2</td>\n      <td>PF00389</td>\n      <td>2-Hacid_dh</td>\n      <td>D-isomer specific 2-hydroxyacid dehydrogenase,...</td>\n      <td>LIG_CtBP_PxDLS_1</td>\n    </tr>\n  </tbody>\n</table>\n<p>4441 rows × 6 columns</p>\n</div>",
      "text/plain": "      ad_gene_symbol db_gene_symbol pfam_accession domain_name  \\\n0               TCF4           KLC3        PF00515       TPR_1   \n8               TCF4           KLC3        PF00515       TPR_1   \n16              TCF4           KLC3        PF00515       TPR_1   \n24              TCF4           KLC3        PF00515       TPR_1   \n160            STAT3          IFIT2        PF00515       TPR_1   \n...              ...            ...            ...         ...   \n24156          FOXP2          CTBP2        PF00389  2-Hacid_dh   \n24158         ZBTB18          CTBP2        PF00389  2-Hacid_dh   \n24160           SOX6          CTBP2        PF00389  2-Hacid_dh   \n24163          IKZF2          CTBP2        PF00389  2-Hacid_dh   \n24172           SOX5          CTBP2        PF00389  2-Hacid_dh   \n\n                                      domain_description    ELM identifier  \n0                               Tetratricopeptide repeat           LIG_TPR  \n8                               Tetratricopeptide repeat          TRG_PTS1  \n16                              Tetratricopeptide repeat   LIG_APCC_Cbox_2  \n24                              Tetratricopeptide repeat   LIG_APCC_Cbox_1  \n160                             Tetratricopeptide repeat           LIG_TPR  \n...                                                  ...               ...  \n24156  D-isomer specific 2-hydroxyacid dehydrogenase,...  LIG_CtBP_PxDLS_1  \n24158  D-isomer specific 2-hydroxyacid dehydrogenase,...  LIG_CtBP_PxDLS_1  \n24160  D-isomer specific 2-hydroxyacid dehydrogenase,...  LIG_CtBP_PxDLS_1  \n24163  D-isomer specific 2-hydroxyacid dehydrogenase,...  LIG_CtBP_PxDLS_1  \n24172  D-isomer specific 2-hydroxyacid dehydrogenase,...  LIG_CtBP_PxDLS_1  \n\n[4441 rows x 6 columns]"
     },
     "execution_count": 13,
     "metadata": {},
     "output_type": "execute_result"
    }
   ],
   "source": [
    "slim_ppis"
   ]
  },
  {
   "cell_type": "code",
   "execution_count": 14,
   "metadata": {},
   "outputs": [],
   "source": [
    "ppi_isr = {}\n",
    "for gene_name in slim_ppis['ad_gene_symbol'].unique():\n",
    "    ppi_isr[gene_name] = ppi_linked_isoform_specific_regions(ppi, gene_name)"
   ]
  },
  {
   "cell_type": "code",
   "execution_count": 16,
   "metadata": {},
   "outputs": [
    {
     "data": {
      "text/html": "<div>\n<style scoped>\n    .dataframe tbody tr th:only-of-type {\n        vertical-align: middle;\n    }\n\n    .dataframe tbody tr th {\n        vertical-align: top;\n    }\n\n    .dataframe thead th {\n        text-align: right;\n    }\n</style>\n<table border=\"1\" class=\"dataframe\">\n  <thead>\n    <tr style=\"text-align: right;\">\n      <th></th>\n      <th>ELM identifier</th>\n      <th>Interaction Domain Id</th>\n      <th>Interaction Domain Description</th>\n      <th>Interaction Domain Name</th>\n    </tr>\n  </thead>\n  <tbody>\n    <tr>\n      <th>85</th>\n      <td>LIG_TPR</td>\n      <td>PF00515</td>\n      <td>TPR_1</td>\n      <td>Tetratricopeptide repeat</td>\n    </tr>\n    <tr>\n      <th>136</th>\n      <td>TRG_PTS1</td>\n      <td>PF00515</td>\n      <td>TPR_1</td>\n      <td>Tetratricopeptide repeat</td>\n    </tr>\n    <tr>\n      <th>267</th>\n      <td>LIG_APCC_Cbox_2</td>\n      <td>PF00515</td>\n      <td>TPR_1</td>\n      <td>Tetratricopeptide repeat</td>\n    </tr>\n    <tr>\n      <th>268</th>\n      <td>LIG_APCC_Cbox_1</td>\n      <td>PF00515</td>\n      <td>TPR_1</td>\n      <td>Tetratricopeptide repeat</td>\n    </tr>\n  </tbody>\n</table>\n</div>",
      "text/plain": "      ELM identifier Interaction Domain Id Interaction Domain Description  \\\n85           LIG_TPR               PF00515                          TPR_1   \n136         TRG_PTS1               PF00515                          TPR_1   \n267  LIG_APCC_Cbox_2               PF00515                          TPR_1   \n268  LIG_APCC_Cbox_1               PF00515                          TPR_1   \n\n      Interaction Domain Name  \n85   Tetratricopeptide repeat  \n136  Tetratricopeptide repeat  \n267  Tetratricopeptide repeat  \n268  Tetratricopeptide repeat  "
     },
     "execution_count": 16,
     "metadata": {},
     "output_type": "execute_result"
    }
   ],
   "source": [
    "# for slim ppi:\n",
    "#    check for isr\n",
    "#    check isr has any of corresponding slims\n",
    "\n",
    "for row in slim_ppis:\n",
    "    if row['db_gene_symbol'] in ppi_isr[row['ad_gene_symbol']]:\n",
    "        subset, aa_seq = ppi_isr[row['ad_gene_symbol']][row['db_gene_symbol']]\n",
    "        if aa_seq "
   ]
  },
  {
   "cell_type": "code",
   "execution_count": 21,
   "metadata": {},
   "outputs": [],
   "source": [
    "slim_ppis = slim_ppis.loc[slim_ppis.apply(lambda x: x['db_gene_symbol'] in ppi_isr[x    ['ad_gene_symbol']],\n",
    "                              axis=1),\n",
    "              :]\n",
    "slim_ppis['aa_seq_isr'] = slim_ppis.apply(lambda x: ppi_isr[x['ad_gene_symbol']][x['db_gene_symbol']][1], axis=1)"
   ]
  },
  {
   "cell_type": "code",
   "execution_count": 28,
   "metadata": {},
   "outputs": [
    {
     "name": "stdout",
     "output_type": "stream",
     "text": "Help on function match in module re:\n\nmatch(pattern, string, flags=0)\n    Try to apply the pattern at the start of the string, returning\n    a Match object, or None if no match was found.\n\n"
    }
   ],
   "source": [
    "help(re.match)"
   ]
  },
  {
   "cell_type": "code",
   "execution_count": 61,
   "metadata": {},
   "outputs": [
    {
     "name": "stdout",
     "output_type": "stream",
     "text": "Missing ELM entry for:  MOD_PLK\nMissing ELM entry for:  MOD_PLK\nMissing ELM entry for:  MOD_PLK\nMissing ELM entry for:  MOD_PLK\nMissing ELM entry for:  MOD_PLK\nMissing ELM entry for:  LIG_CaM_1-26_7\nMissing ELM entry for:  LIG_CaM_1-17_6\nMissing ELM entry for:  LIG_CaM_1-8-9-10_5\nMissing ELM entry for:  LIG_CaM_1-8-14_4\nMissing ELM entry for:  LIG_CaM_1-5-10-14_3\nMissing ELM entry for:  LIG_CaM_1-8_REV_2\nMissing ELM entry for:  LIG_CaM_1-14-15-16_REV_1\nMissing ELM entry for:  LIG_CaM_1-26_7\nMissing ELM entry for:  LIG_CaM_1-17_6\nMissing ELM entry for:  LIG_CaM_1-8-9-10_5\nMissing ELM entry for:  LIG_CaM_1-8-14_4\nMissing ELM entry for:  LIG_CaM_1-5-10-14_3\nMissing ELM entry for:  LIG_CaM_1-8_REV_2\nMissing ELM entry for:  LIG_CaM_1-14-15-16_REV_1\nMissing ELM entry for:  DEG_COP1\nMissing ELM entry for:  DEG_COP1\nMissing ELM entry for:  MOD_PLK\nMissing ELM entry for:  MOD_PLK\nMissing ELM entry for:  MOD_PLK\nMissing ELM entry for:  MOD_PLK\nMissing ELM entry for:  MOD_PLK\nMissing ELM entry for:  MOD_PLK\nMissing ELM entry for:  MOD_PLK\nMissing ELM entry for:  MOD_PLK\nMissing ELM entry for:  MOD_PLK\nMissing ELM entry for:  MOD_PLK\nMissing ELM entry for:  MOD_PLK\nMissing ELM entry for:  MOD_PLK\nMissing ELM entry for:  MOD_PLK\nMissing ELM entry for:  MOD_PLK\nMissing ELM entry for:  MOD_PLK\n"
    }
   ],
   "source": [
    "import re\n",
    "\n",
    "\n",
    "elm = pd.read_csv('../../data/external/elm_classes.tsv', header=0, comment='#', sep='\\t')\n",
    "\n",
    "def isr_contains_slim(row):\n",
    "    # inserting ?: to make groups non-capture\n",
    "    if row['ELM identifier'] not in elm['ELMIdentifier'].values:\n",
    "        #raise UserWarning('Missing ELM entry for: ', row['ELM identifier'])\n",
    "        print('Missing ELM entry for: ', row['ELM identifier'])\n",
    "        return False\n",
    "    regex = elm.loc[elm['ELMIdentifier'] == row['ELM identifier'], 'Regex'].values[0].replace('(', '(?:')\n",
    "    return bool(re.search(regex, row['aa_seq_isr']))\n",
    "\n",
    "\n",
    "slim_ppis['slim_match'] = slim_ppis.apply(isr_contains_slim, axis=1)"
   ]
  },
  {
   "cell_type": "code",
   "execution_count": 64,
   "metadata": {},
   "outputs": [
    {
     "data": {
      "text/plain": "33"
     },
     "execution_count": 64,
     "metadata": {},
     "output_type": "execute_result"
    }
   ],
   "source": [
    "(slim_ppis.loc[slim_ppis['slim_match'],\n",
    "               ['ad_gene_symbol', 'db_gene_symbol']]\n",
    "          .drop_duplicates()\n",
    "          .shape[0])"
   ]
  },
  {
   "cell_type": "code",
   "execution_count": 66,
   "metadata": {},
   "outputs": [
    {
     "data": {
      "text/html": "<div>\n<style scoped>\n    .dataframe tbody tr th:only-of-type {\n        vertical-align: middle;\n    }\n\n    .dataframe tbody tr th {\n        vertical-align: top;\n    }\n\n    .dataframe thead th {\n        text-align: right;\n    }\n</style>\n<table border=\"1\" class=\"dataframe\">\n  <thead>\n    <tr style=\"text-align: right;\">\n      <th></th>\n      <th>ad_gene_symbol</th>\n      <th>db_gene_symbol</th>\n    </tr>\n  </thead>\n  <tbody>\n    <tr>\n      <th>3648</th>\n      <td>STAT3</td>\n      <td>BLK</td>\n    </tr>\n    <tr>\n      <th>3992</th>\n      <td>PAX5</td>\n      <td>STAC</td>\n    </tr>\n    <tr>\n      <th>4026</th>\n      <td>MEIS2</td>\n      <td>HCK</td>\n    </tr>\n    <tr>\n      <th>4418</th>\n      <td>STAT3</td>\n      <td>TXK</td>\n    </tr>\n    <tr>\n      <th>6807</th>\n      <td>GATA1</td>\n      <td>ARMC7</td>\n    </tr>\n    <tr>\n      <th>7537</th>\n      <td>MEIS2</td>\n      <td>LNX1</td>\n    </tr>\n    <tr>\n      <th>8266</th>\n      <td>MEIS2</td>\n      <td>IL16</td>\n    </tr>\n    <tr>\n      <th>11833</th>\n      <td>ZBTB48</td>\n      <td>WDR5</td>\n    </tr>\n    <tr>\n      <th>14036</th>\n      <td>TCF12</td>\n      <td>EPHB6</td>\n    </tr>\n    <tr>\n      <th>14624</th>\n      <td>IKZF2</td>\n      <td>CDC7</td>\n    </tr>\n    <tr>\n      <th>15502</th>\n      <td>STAT3</td>\n      <td>BMX</td>\n    </tr>\n    <tr>\n      <th>15872</th>\n      <td>HMBOX1</td>\n      <td>CDK18</td>\n    </tr>\n    <tr>\n      <th>16837</th>\n      <td>ZNF263</td>\n      <td>CLK3</td>\n    </tr>\n    <tr>\n      <th>17170</th>\n      <td>ZSCAN9</td>\n      <td>SRPK2</td>\n    </tr>\n    <tr>\n      <th>18071</th>\n      <td>ATF2</td>\n      <td>MAPK9</td>\n    </tr>\n    <tr>\n      <th>18091</th>\n      <td>CREB5</td>\n      <td>MAPK9</td>\n    </tr>\n    <tr>\n      <th>19491</th>\n      <td>ZNF263</td>\n      <td>CLK2</td>\n    </tr>\n    <tr>\n      <th>20036</th>\n      <td>FOSB</td>\n      <td>PRKAA2</td>\n    </tr>\n    <tr>\n      <th>20048</th>\n      <td>FOXN4</td>\n      <td>PRKAA2</td>\n    </tr>\n    <tr>\n      <th>22622</th>\n      <td>CREBZF</td>\n      <td>HCFC1</td>\n    </tr>\n    <tr>\n      <th>23354</th>\n      <td>NFE2L2</td>\n      <td>WAC</td>\n    </tr>\n    <tr>\n      <th>23489</th>\n      <td>FOXN4</td>\n      <td>PIN1</td>\n    </tr>\n    <tr>\n      <th>23491</th>\n      <td>PBX1</td>\n      <td>PIN1</td>\n    </tr>\n    <tr>\n      <th>23492</th>\n      <td>TCF4</td>\n      <td>PIN1</td>\n    </tr>\n    <tr>\n      <th>23513</th>\n      <td>FOS</td>\n      <td>PIN1</td>\n    </tr>\n    <tr>\n      <th>23521</th>\n      <td>MEOX1</td>\n      <td>PIN1</td>\n    </tr>\n    <tr>\n      <th>23674</th>\n      <td>HOXA1</td>\n      <td>PCSK5</td>\n    </tr>\n    <tr>\n      <th>23823</th>\n      <td>FOSB</td>\n      <td>HOMER3</td>\n    </tr>\n    <tr>\n      <th>23842</th>\n      <td>GATA1</td>\n      <td>CCNK</td>\n    </tr>\n    <tr>\n      <th>23973</th>\n      <td>HMBOX1</td>\n      <td>UBE2Z</td>\n    </tr>\n    <tr>\n      <th>24111</th>\n      <td>NFIX</td>\n      <td>MLH1</td>\n    </tr>\n    <tr>\n      <th>24126</th>\n      <td>MEOX1</td>\n      <td>CKS1B</td>\n    </tr>\n    <tr>\n      <th>24172</th>\n      <td>SOX5</td>\n      <td>CTBP2</td>\n    </tr>\n  </tbody>\n</table>\n</div>",
      "text/plain": "      ad_gene_symbol db_gene_symbol\n3648           STAT3            BLK\n3992            PAX5           STAC\n4026           MEIS2            HCK\n4418           STAT3            TXK\n6807           GATA1          ARMC7\n7537           MEIS2           LNX1\n8266           MEIS2           IL16\n11833         ZBTB48           WDR5\n14036          TCF12          EPHB6\n14624          IKZF2           CDC7\n15502          STAT3            BMX\n15872         HMBOX1          CDK18\n16837         ZNF263           CLK3\n17170         ZSCAN9          SRPK2\n18071           ATF2          MAPK9\n18091          CREB5          MAPK9\n19491         ZNF263           CLK2\n20036           FOSB         PRKAA2\n20048          FOXN4         PRKAA2\n22622         CREBZF          HCFC1\n23354         NFE2L2            WAC\n23489          FOXN4           PIN1\n23491           PBX1           PIN1\n23492           TCF4           PIN1\n23513            FOS           PIN1\n23521          MEOX1           PIN1\n23674          HOXA1          PCSK5\n23823           FOSB         HOMER3\n23842          GATA1           CCNK\n23973         HMBOX1          UBE2Z\n24111           NFIX           MLH1\n24126          MEOX1          CKS1B\n24172           SOX5          CTBP2"
     },
     "execution_count": 66,
     "metadata": {},
     "output_type": "execute_result"
    }
   ],
   "source": [
    "match_pairs = (slim_ppis.loc[slim_ppis['slim_match'],\n",
    "               ['ad_gene_symbol', 'db_gene_symbol']]\n",
    "                .drop_duplicates())\n",
    "match_pairs"
   ]
  },
  {
   "cell_type": "code",
   "execution_count": 70,
   "metadata": {},
   "outputs": [
    {
     "data": {
      "text/plain": "STAT3     3\nMEIS2     3\nFOSB      2\nHMBOX1    2\nGATA1     2\nName: ad_gene_symbol, dtype: int64"
     },
     "execution_count": 70,
     "metadata": {},
     "output_type": "execute_result"
    }
   ],
   "source": [
    "match_pairs['ad_gene_symbol'].value_counts().head()"
   ]
  },
  {
   "cell_type": "code",
   "execution_count": 69,
   "metadata": {},
   "outputs": [
    {
     "data": {
      "text/plain": "PIN1      5\nMAPK9     2\nPRKAA2    2\nEPHB6     1\nCTBP2     1\nName: db_gene_symbol, dtype: int64"
     },
     "execution_count": 69,
     "metadata": {},
     "output_type": "execute_result"
    }
   ],
   "source": [
    "match_pairs['db_gene_symbol'].value_counts().head()"
   ]
  },
  {
   "cell_type": "code",
   "execution_count": 90,
   "metadata": {},
   "outputs": [
    {
     "data": {
      "text/html": "<div>\n<style scoped>\n    .dataframe tbody tr th:only-of-type {\n        vertical-align: middle;\n    }\n\n    .dataframe tbody tr th {\n        vertical-align: top;\n    }\n\n    .dataframe thead th {\n        text-align: right;\n    }\n</style>\n<table border=\"1\" class=\"dataframe\">\n  <thead>\n    <tr style=\"text-align: right;\">\n      <th></th>\n      <th>ad_gene_symbol</th>\n      <th>db_gene_symbol</th>\n      <th>pfam_accession</th>\n      <th>domain_name</th>\n      <th>domain_description</th>\n      <th>ELM identifier</th>\n      <th>aa_seq_isr</th>\n      <th>slim_match</th>\n      <th>isr_length</th>\n    </tr>\n  </thead>\n  <tbody>\n    <tr>\n      <th>23489</th>\n      <td>FOXN4</td>\n      <td>PIN1</td>\n      <td>PF00397</td>\n      <td>WW</td>\n      <td>WW domain</td>\n      <td>DOC_WW_Pin1_4</td>\n      <td>MIESDTSSIMSGIIRNSGQNHHPSPQEYRLLATTSDDDLPGDLQSL...</td>\n      <td>True</td>\n      <td>199</td>\n    </tr>\n    <tr>\n      <th>23491</th>\n      <td>PBX1</td>\n      <td>PIN1</td>\n      <td>PF00397</td>\n      <td>WW</td>\n      <td>WW domain</td>\n      <td>DOC_WW_Pin1_4</td>\n      <td>DGLAASQMYSPQGISANGGWQDATTPSSVTSPTEGPGSVHSDTS</td>\n      <td>True</td>\n      <td>44</td>\n    </tr>\n    <tr>\n      <th>23492</th>\n      <td>TCF4</td>\n      <td>PIN1</td>\n      <td>PF00397</td>\n      <td>WW</td>\n      <td>WW domain</td>\n      <td>DOC_WW_Pin1_4</td>\n      <td>SNNDDEDLTPEQKAEREKERRMANNARERLRVRDINEAFKELGRMV...</td>\n      <td>True</td>\n      <td>121</td>\n    </tr>\n    <tr>\n      <th>23513</th>\n      <td>FOS</td>\n      <td>PIN1</td>\n      <td>PF00397</td>\n      <td>WW</td>\n      <td>WW domain</td>\n      <td>DOC_WW_Pin1_4</td>\n      <td>MAAAKCRNRRRELTDTLQAETDQLEDEKSALQTEIANLLKEKEKLE...</td>\n      <td>True</td>\n      <td>231</td>\n    </tr>\n    <tr>\n      <th>23521</th>\n      <td>MEOX1</td>\n      <td>PIN1</td>\n      <td>PF00397</td>\n      <td>WW</td>\n      <td>WW domain</td>\n      <td>DOC_WW_Pin1_4</td>\n      <td>MDPAASSCMRSLQPPAPVWGCLRNPHSEGNGASGLPHYPPTPFSFH...</td>\n      <td>True</td>\n      <td>115</td>\n    </tr>\n  </tbody>\n</table>\n</div>",
      "text/plain": "      ad_gene_symbol db_gene_symbol pfam_accession domain_name  \\\n23489          FOXN4           PIN1        PF00397          WW   \n23491           PBX1           PIN1        PF00397          WW   \n23492           TCF4           PIN1        PF00397          WW   \n23513            FOS           PIN1        PF00397          WW   \n23521          MEOX1           PIN1        PF00397          WW   \n\n      domain_description ELM identifier  \\\n23489          WW domain  DOC_WW_Pin1_4   \n23491          WW domain  DOC_WW_Pin1_4   \n23492          WW domain  DOC_WW_Pin1_4   \n23513          WW domain  DOC_WW_Pin1_4   \n23521          WW domain  DOC_WW_Pin1_4   \n\n                                              aa_seq_isr  slim_match  \\\n23489  MIESDTSSIMSGIIRNSGQNHHPSPQEYRLLATTSDDDLPGDLQSL...        True   \n23491       DGLAASQMYSPQGISANGGWQDATTPSSVTSPTEGPGSVHSDTS        True   \n23492  SNNDDEDLTPEQKAEREKERRMANNARERLRVRDINEAFKELGRMV...        True   \n23513  MAAAKCRNRRRELTDTLQAETDQLEDEKSALQTEIANLLKEKEKLE...        True   \n23521  MDPAASSCMRSLQPPAPVWGCLRNPHSEGNGASGLPHYPPTPFSFH...        True   \n\n       isr_length  \n23489         199  \n23491          44  \n23492         121  \n23513         231  \n23521         115  "
     },
     "execution_count": 90,
     "metadata": {},
     "output_type": "execute_result"
    }
   ],
   "source": [
    "slim_ppis.loc[slim_ppis['slim_match'] & (slim_ppis['db_gene_symbol'] == 'PIN1'), :]"
   ]
  },
  {
   "cell_type": "markdown",
   "metadata": {},
   "source": [
    "Pin1 Links the Activities of c-Abl\n",
    "and p300 in Regulating p73 Function, Mol. Cell, 2004\n",
    "\n",
    "It has been showing that TP73 isoforms lacking the PIN1 interacting motif have reduced transcriptional activity.\n",
    "\n",
    "Also the mouse FOS has the PIN1 motif binding shown."
   ]
  },
  {
   "cell_type": "code",
   "execution_count": 87,
   "metadata": {},
   "outputs": [
    {
     "data": {
      "text/plain": "array(['FOXN4', 'GLI1', 'PBX1', 'TCF4', 'FOXP2', 'TCF12', 'TP63', 'ETV6',\n       'HOMEZ', 'ZBTB7B', 'FOS', 'RELA', 'ZNF784', 'GATA1', 'MEOX1',\n       'ZNF212'], dtype=object)"
     },
     "execution_count": 87,
     "metadata": {},
     "output_type": "execute_result"
    }
   ],
   "source": [
    "ppi.loc[ppi['db_gene_symbol'] == 'PIN1',\n",
    "        'ad_gene_symbol'].nunique()\n",
    "ppi.loc[ppi['db_gene_symbol'] == 'PIN1',\n",
    "        'ad_gene_symbol'].unique()"
   ]
  },
  {
   "cell_type": "code",
   "execution_count": 89,
   "metadata": {},
   "outputs": [
    {
     "data": {
      "text/html": "<div>\n<style scoped>\n    .dataframe tbody tr th:only-of-type {\n        vertical-align: middle;\n    }\n\n    .dataframe tbody tr th {\n        vertical-align: top;\n    }\n\n    .dataframe thead th {\n        text-align: right;\n    }\n</style>\n<table border=\"1\" class=\"dataframe\">\n  <thead>\n    <tr style=\"text-align: right;\">\n      <th></th>\n      <th>ad_gene_symbol</th>\n      <th>db_gene_symbol</th>\n      <th>pfam_accession</th>\n      <th>domain_name</th>\n      <th>domain_description</th>\n      <th>ELM identifier</th>\n      <th>aa_seq_isr</th>\n      <th>slim_match</th>\n      <th>isr_length</th>\n    </tr>\n  </thead>\n  <tbody>\n    <tr>\n      <th>14036</th>\n      <td>TCF12</td>\n      <td>EPHB6</td>\n      <td>PF00069</td>\n      <td>Pkinase</td>\n      <td>Protein kinase domain</td>\n      <td>MOD_Plk_4</td>\n      <td>KNRVEQQLHEHLQDAMSFLKDVCE</td>\n      <td>True</td>\n      <td>24</td>\n    </tr>\n    <tr>\n      <th>3648</th>\n      <td>STAT3</td>\n      <td>BLK</td>\n      <td>PF00069</td>\n      <td>Pkinase</td>\n      <td>Protein kinase domain</td>\n      <td>MOD_GSK3_1</td>\n      <td>NNGEGAEPSAGGQFESLTFDMELTSECATSP</td>\n      <td>True</td>\n      <td>31</td>\n    </tr>\n    <tr>\n      <th>18071</th>\n      <td>ATF2</td>\n      <td>MAPK9</td>\n      <td>PF00069</td>\n      <td>Pkinase</td>\n      <td>Protein kinase domain</td>\n      <td>DOC_MAPK_gen_1</td>\n      <td>RFTNEDHLAVHKHKHEMTLKFGPARNDSVIVAD</td>\n      <td>True</td>\n      <td>33</td>\n    </tr>\n    <tr>\n      <th>23973</th>\n      <td>HMBOX1</td>\n      <td>UBE2Z</td>\n      <td>PF00179</td>\n      <td>UQ_con</td>\n      <td>Ubiquitin-conjugating enzyme</td>\n      <td>MOD_SUMO_for_1</td>\n      <td>DDSTSHSDHQDPISLAVEMAAVNHTILALARQGANEIKTEALDD</td>\n      <td>True</td>\n      <td>44</td>\n    </tr>\n    <tr>\n      <th>15877</th>\n      <td>HMBOX1</td>\n      <td>CDK18</td>\n      <td>PF00069</td>\n      <td>Pkinase</td>\n      <td>Protein kinase domain</td>\n      <td>MOD_Plk_1</td>\n      <td>DDSTSHSDHQDPISLAVEMAAVNHTILALARQGANEIKTEALDD</td>\n      <td>True</td>\n      <td>44</td>\n    </tr>\n    <tr>\n      <th>23491</th>\n      <td>PBX1</td>\n      <td>PIN1</td>\n      <td>PF00397</td>\n      <td>WW</td>\n      <td>WW domain</td>\n      <td>DOC_WW_Pin1_4</td>\n      <td>DGLAASQMYSPQGISANGGWQDATTPSSVTSPTEGPGSVHSDTS</td>\n      <td>True</td>\n      <td>44</td>\n    </tr>\n    <tr>\n      <th>14813</th>\n      <td>IKZF2</td>\n      <td>CDC7</td>\n      <td>PF00069</td>\n      <td>Pkinase</td>\n      <td>Protein kinase domain</td>\n      <td>MOD_Plk_1</td>\n      <td>VPPMEDCKEQEPIMDNNISLVPFERPAVIEKLTGNMGKRKSSTPQKFV</td>\n      <td>True</td>\n      <td>48</td>\n    </tr>\n    <tr>\n      <th>24111</th>\n      <td>NFIX</td>\n      <td>MLH1</td>\n      <td>PF16413</td>\n      <td>Mlh1_C</td>\n      <td>DNA mismatch repair protein Mlh1 C-terminus</td>\n      <td>LIG_MLH1_MIPbox_1</td>\n      <td>SPRATASALHFPSTSIIQQSSPYFTHPTIRYHHHHGQDSLKEFVQF...</td>\n      <td>True</td>\n      <td>58</td>\n    </tr>\n    <tr>\n      <th>16837</th>\n      <td>ZNF263</td>\n      <td>CLK3</td>\n      <td>PF00069</td>\n      <td>Pkinase</td>\n      <td>Protein kinase domain</td>\n      <td>MOD_CK1_1</td>\n      <td>EKPYKCTLCGENFSHRSNLIRHQRIHTGEKPYTCHECGDSFSHSSN...</td>\n      <td>True</td>\n      <td>83</td>\n    </tr>\n    <tr>\n      <th>19551</th>\n      <td>ZNF263</td>\n      <td>CLK2</td>\n      <td>PF00069</td>\n      <td>Pkinase</td>\n      <td>Protein kinase domain</td>\n      <td>MOD_NEK2_1</td>\n      <td>EKPYKCTLCGENFSHRSNLIRHQRIHTGEKPYTCHECGDSFSHSSN...</td>\n      <td>True</td>\n      <td>83</td>\n    </tr>\n    <tr>\n      <th>4161</th>\n      <td>MEIS2</td>\n      <td>HCK</td>\n      <td>PF00017</td>\n      <td>SH2</td>\n      <td>SH2 domain</td>\n      <td>LIG_SH2_STAT3</td>\n      <td>GLQSMPGDYVSQGGPMGMSMAQPSYTPPQMTPHPTQLRHGPPMHSY...</td>\n      <td>True</td>\n      <td>94</td>\n    </tr>\n    <tr>\n      <th>4137</th>\n      <td>MEIS2</td>\n      <td>HCK</td>\n      <td>PF00069</td>\n      <td>Pkinase</td>\n      <td>Protein kinase domain</td>\n      <td>MOD_Plk_4</td>\n      <td>GLQSMPGDYVSQGGPMGMSMAQPSYTPPQMTPHPTQLRHGPPMHSY...</td>\n      <td>True</td>\n      <td>94</td>\n    </tr>\n    <tr>\n      <th>7537</th>\n      <td>MEIS2</td>\n      <td>LNX1</td>\n      <td>PF00595</td>\n      <td>PDZ</td>\n      <td>PDZ domain (Also known as DHR or GLGF)</td>\n      <td>LIG_PDZ_Class_2</td>\n      <td>GLQSMPGDYVSQGGPMGMSMAQPSYTPPQMTPHPTQLRHGPPMHSY...</td>\n      <td>True</td>\n      <td>94</td>\n    </tr>\n    <tr>\n      <th>4026</th>\n      <td>MEIS2</td>\n      <td>HCK</td>\n      <td>PF00018</td>\n      <td>SH3_1</td>\n      <td>SH3 domain</td>\n      <td>LIG_SH3_3</td>\n      <td>GLQSMPGDYVSQGGPMGMSMAQPSYTPPQMTPHPTQLRHGPPMHSY...</td>\n      <td>True</td>\n      <td>94</td>\n    </tr>\n    <tr>\n      <th>8266</th>\n      <td>MEIS2</td>\n      <td>IL16</td>\n      <td>PF00595</td>\n      <td>PDZ</td>\n      <td>PDZ domain (Also known as DHR or GLGF)</td>\n      <td>LIG_PDZ_Class_2</td>\n      <td>GLQSMPGDYVSQGGPMGMSMAQPSYTPPQMTPHPTQLRHGPPMHSY...</td>\n      <td>True</td>\n      <td>94</td>\n    </tr>\n    <tr>\n      <th>15637</th>\n      <td>STAT3</td>\n      <td>BMX</td>\n      <td>PF00017</td>\n      <td>SH2</td>\n      <td>SH2 domain</td>\n      <td>LIG_SH2_STAP1</td>\n      <td>MAQWNQLQQLDTRYLEQLHQLYSDSFPMELRQFLAPWIESQDWAYA...</td>\n      <td>True</td>\n      <td>98</td>\n    </tr>\n    <tr>\n      <th>15589</th>\n      <td>STAT3</td>\n      <td>BMX</td>\n      <td>PF00069</td>\n      <td>Pkinase</td>\n      <td>Protein kinase domain</td>\n      <td>MOD_Plk_4</td>\n      <td>MAQWNQLQQLDTRYLEQLHQLYSDSFPMELRQFLAPWIESQDWAYA...</td>\n      <td>True</td>\n      <td>98</td>\n    </tr>\n    <tr>\n      <th>4418</th>\n      <td>STAT3</td>\n      <td>TXK</td>\n      <td>PF00069</td>\n      <td>Pkinase</td>\n      <td>Protein kinase domain</td>\n      <td>MOD_CK1_1</td>\n      <td>MAQWNQLQQLDTRYLEQLHQLYSDSFPMELRQFLAPWIESQDWAYA...</td>\n      <td>True</td>\n      <td>98</td>\n    </tr>\n    <tr>\n      <th>4899</th>\n      <td>STAT3</td>\n      <td>TXK</td>\n      <td>PF00017</td>\n      <td>SH2</td>\n      <td>SH2 domain</td>\n      <td>LIG_SH2_STAT3</td>\n      <td>MAQWNQLQQLDTRYLEQLHQLYSDSFPMELRQFLAPWIESQDWAYA...</td>\n      <td>True</td>\n      <td>98</td>\n    </tr>\n    <tr>\n      <th>20074</th>\n      <td>FOSB</td>\n      <td>PRKAA2</td>\n      <td>PF00069</td>\n      <td>Pkinase</td>\n      <td>Protein kinase domain</td>\n      <td>MOD_CK2_1</td>\n      <td>VRDLPGSAPAKEDGFSWLLPPPPPPPLPFQTSQDAPPNLTASLFTH...</td>\n      <td>True</td>\n      <td>100</td>\n    </tr>\n    <tr>\n      <th>23823</th>\n      <td>FOSB</td>\n      <td>HOMER3</td>\n      <td>PF00568</td>\n      <td>WH1</td>\n      <td>WH1 domain</td>\n      <td>LIG_EVH1_1</td>\n      <td>VRDLPGSAPAKEDGFSWLLPPPPPPPLPFQTSQDAPPNLTASLFTH...</td>\n      <td>True</td>\n      <td>100</td>\n    </tr>\n    <tr>\n      <th>3992</th>\n      <td>PAX5</td>\n      <td>STAC</td>\n      <td>PF00018</td>\n      <td>SH3_1</td>\n      <td>SH3 domain</td>\n      <td>LIG_SH3_3</td>\n      <td>MDLEKNYPTPRTSRTGHGGVNQLGGVFVNGRPLPDVVRQRIVELAH...</td>\n      <td>True</td>\n      <td>108</td>\n    </tr>\n    <tr>\n      <th>6837</th>\n      <td>GATA1</td>\n      <td>ARMC7</td>\n      <td>PF00514</td>\n      <td>Arm</td>\n      <td>Armadillo/beta-catenin-like repeat</td>\n      <td>TRG_NLS_MonoExtN_4</td>\n      <td>HQVNRPLTMRKDGIQTRNRKASGKGKKKRGSSLGGTGAAEGPAGGF...</td>\n      <td>True</td>\n      <td>113</td>\n    </tr>\n    <tr>\n      <th>23842</th>\n      <td>GATA1</td>\n      <td>CCNK</td>\n      <td>PF00134</td>\n      <td>Cyclin_N</td>\n      <td>Cyclin, N-terminal domain</td>\n      <td>DOC_CyclinA_RxL_1</td>\n      <td>HQVNRPLTMRKDGIQTRNRKASGKGKKKRGSSLGGTGAAEGPAGGF...</td>\n      <td>True</td>\n      <td>113</td>\n    </tr>\n    <tr>\n      <th>23521</th>\n      <td>MEOX1</td>\n      <td>PIN1</td>\n      <td>PF00397</td>\n      <td>WW</td>\n      <td>WW domain</td>\n      <td>DOC_WW_Pin1_4</td>\n      <td>MDPAASSCMRSLQPPAPVWGCLRNPHSEGNGASGLPHYPPTPFSFH...</td>\n      <td>True</td>\n      <td>115</td>\n    </tr>\n    <tr>\n      <th>24126</th>\n      <td>MEOX1</td>\n      <td>CKS1B</td>\n      <td>PF01111</td>\n      <td>CKS</td>\n      <td>Cyclin-dependent kinase regulatory subunit</td>\n      <td>DOC_CKS1_1</td>\n      <td>MDPAASSCMRSLQPPAPVWGCLRNPHSEGNGASGLPHYPPTPFSFH...</td>\n      <td>True</td>\n      <td>115</td>\n    </tr>\n    <tr>\n      <th>23492</th>\n      <td>TCF4</td>\n      <td>PIN1</td>\n      <td>PF00397</td>\n      <td>WW</td>\n      <td>WW domain</td>\n      <td>DOC_WW_Pin1_4</td>\n      <td>SNNDDEDLTPEQKAEREKERRMANNARERLRVRDINEAFKELGRMV...</td>\n      <td>True</td>\n      <td>121</td>\n    </tr>\n    <tr>\n      <th>23674</th>\n      <td>HOXA1</td>\n      <td>PCSK5</td>\n      <td>PF00082</td>\n      <td>Peptidase_S8</td>\n      <td>Subtilase family</td>\n      <td>CLV_PCSK_FUR_1</td>\n      <td>FDWMKVKRNPPKTGKVGEYGYLGQPNAVRTNFTTKQLTELEKEFHF...</td>\n      <td>True</td>\n      <td>130</td>\n    </tr>\n    <tr>\n      <th>18091</th>\n      <td>CREB5</td>\n      <td>MAPK9</td>\n      <td>PF00069</td>\n      <td>Pkinase</td>\n      <td>Protein kinase domain</td>\n      <td>DOC_MAPK_gen_1</td>\n      <td>MNLEQERPFVCSAPGCSQRFPTEDHLMIHRHKHEMTLKFPSIKTDN...</td>\n      <td>True</td>\n      <td>148</td>\n    </tr>\n    <tr>\n      <th>23489</th>\n      <td>FOXN4</td>\n      <td>PIN1</td>\n      <td>PF00397</td>\n      <td>WW</td>\n      <td>WW domain</td>\n      <td>DOC_WW_Pin1_4</td>\n      <td>MIESDTSSIMSGIIRNSGQNHHPSPQEYRLLATTSDDDLPGDLQSL...</td>\n      <td>True</td>\n      <td>199</td>\n    </tr>\n  </tbody>\n</table>\n</div>",
      "text/plain": "      ad_gene_symbol db_gene_symbol pfam_accession   domain_name  \\\n14036          TCF12          EPHB6        PF00069       Pkinase   \n3648           STAT3            BLK        PF00069       Pkinase   \n18071           ATF2          MAPK9        PF00069       Pkinase   \n23973         HMBOX1          UBE2Z        PF00179        UQ_con   \n15877         HMBOX1          CDK18        PF00069       Pkinase   \n23491           PBX1           PIN1        PF00397            WW   \n14813          IKZF2           CDC7        PF00069       Pkinase   \n24111           NFIX           MLH1        PF16413        Mlh1_C   \n16837         ZNF263           CLK3        PF00069       Pkinase   \n19551         ZNF263           CLK2        PF00069       Pkinase   \n4161           MEIS2            HCK        PF00017           SH2   \n4137           MEIS2            HCK        PF00069       Pkinase   \n7537           MEIS2           LNX1        PF00595           PDZ   \n4026           MEIS2            HCK        PF00018         SH3_1   \n8266           MEIS2           IL16        PF00595           PDZ   \n15637          STAT3            BMX        PF00017           SH2   \n15589          STAT3            BMX        PF00069       Pkinase   \n4418           STAT3            TXK        PF00069       Pkinase   \n4899           STAT3            TXK        PF00017           SH2   \n20074           FOSB         PRKAA2        PF00069       Pkinase   \n23823           FOSB         HOMER3        PF00568           WH1   \n3992            PAX5           STAC        PF00018         SH3_1   \n6837           GATA1          ARMC7        PF00514           Arm   \n23842          GATA1           CCNK        PF00134      Cyclin_N   \n23521          MEOX1           PIN1        PF00397            WW   \n24126          MEOX1          CKS1B        PF01111           CKS   \n23492           TCF4           PIN1        PF00397            WW   \n23674          HOXA1          PCSK5        PF00082  Peptidase_S8   \n18091          CREB5          MAPK9        PF00069       Pkinase   \n23489          FOXN4           PIN1        PF00397            WW   \n\n                                domain_description      ELM identifier  \\\n14036                        Protein kinase domain           MOD_Plk_4   \n3648                         Protein kinase domain          MOD_GSK3_1   \n18071                        Protein kinase domain      DOC_MAPK_gen_1   \n23973                 Ubiquitin-conjugating enzyme      MOD_SUMO_for_1   \n15877                        Protein kinase domain           MOD_Plk_1   \n23491                                    WW domain       DOC_WW_Pin1_4   \n14813                        Protein kinase domain           MOD_Plk_1   \n24111  DNA mismatch repair protein Mlh1 C-terminus   LIG_MLH1_MIPbox_1   \n16837                        Protein kinase domain           MOD_CK1_1   \n19551                        Protein kinase domain          MOD_NEK2_1   \n4161                                    SH2 domain       LIG_SH2_STAT3   \n4137                         Protein kinase domain           MOD_Plk_4   \n7537        PDZ domain (Also known as DHR or GLGF)     LIG_PDZ_Class_2   \n4026                                    SH3 domain           LIG_SH3_3   \n8266        PDZ domain (Also known as DHR or GLGF)     LIG_PDZ_Class_2   \n15637                                   SH2 domain       LIG_SH2_STAP1   \n15589                        Protein kinase domain           MOD_Plk_4   \n4418                         Protein kinase domain           MOD_CK1_1   \n4899                                    SH2 domain       LIG_SH2_STAT3   \n20074                        Protein kinase domain           MOD_CK2_1   \n23823                                   WH1 domain          LIG_EVH1_1   \n3992                                    SH3 domain           LIG_SH3_3   \n6837            Armadillo/beta-catenin-like repeat  TRG_NLS_MonoExtN_4   \n23842                    Cyclin, N-terminal domain   DOC_CyclinA_RxL_1   \n23521                                    WW domain       DOC_WW_Pin1_4   \n24126   Cyclin-dependent kinase regulatory subunit          DOC_CKS1_1   \n23492                                    WW domain       DOC_WW_Pin1_4   \n23674                             Subtilase family      CLV_PCSK_FUR_1   \n18091                        Protein kinase domain      DOC_MAPK_gen_1   \n23489                                    WW domain       DOC_WW_Pin1_4   \n\n                                              aa_seq_isr  slim_match  \\\n14036                           KNRVEQQLHEHLQDAMSFLKDVCE        True   \n3648                     NNGEGAEPSAGGQFESLTFDMELTSECATSP        True   \n18071                  RFTNEDHLAVHKHKHEMTLKFGPARNDSVIVAD        True   \n23973       DDSTSHSDHQDPISLAVEMAAVNHTILALARQGANEIKTEALDD        True   \n15877       DDSTSHSDHQDPISLAVEMAAVNHTILALARQGANEIKTEALDD        True   \n23491       DGLAASQMYSPQGISANGGWQDATTPSSVTSPTEGPGSVHSDTS        True   \n14813   VPPMEDCKEQEPIMDNNISLVPFERPAVIEKLTGNMGKRKSSTPQKFV        True   \n24111  SPRATASALHFPSTSIIQQSSPYFTHPTIRYHHHHGQDSLKEFVQF...        True   \n16837  EKPYKCTLCGENFSHRSNLIRHQRIHTGEKPYTCHECGDSFSHSSN...        True   \n19551  EKPYKCTLCGENFSHRSNLIRHQRIHTGEKPYTCHECGDSFSHSSN...        True   \n4161   GLQSMPGDYVSQGGPMGMSMAQPSYTPPQMTPHPTQLRHGPPMHSY...        True   \n4137   GLQSMPGDYVSQGGPMGMSMAQPSYTPPQMTPHPTQLRHGPPMHSY...        True   \n7537   GLQSMPGDYVSQGGPMGMSMAQPSYTPPQMTPHPTQLRHGPPMHSY...        True   \n4026   GLQSMPGDYVSQGGPMGMSMAQPSYTPPQMTPHPTQLRHGPPMHSY...        True   \n8266   GLQSMPGDYVSQGGPMGMSMAQPSYTPPQMTPHPTQLRHGPPMHSY...        True   \n15637  MAQWNQLQQLDTRYLEQLHQLYSDSFPMELRQFLAPWIESQDWAYA...        True   \n15589  MAQWNQLQQLDTRYLEQLHQLYSDSFPMELRQFLAPWIESQDWAYA...        True   \n4418   MAQWNQLQQLDTRYLEQLHQLYSDSFPMELRQFLAPWIESQDWAYA...        True   \n4899   MAQWNQLQQLDTRYLEQLHQLYSDSFPMELRQFLAPWIESQDWAYA...        True   \n20074  VRDLPGSAPAKEDGFSWLLPPPPPPPLPFQTSQDAPPNLTASLFTH...        True   \n23823  VRDLPGSAPAKEDGFSWLLPPPPPPPLPFQTSQDAPPNLTASLFTH...        True   \n3992   MDLEKNYPTPRTSRTGHGGVNQLGGVFVNGRPLPDVVRQRIVELAH...        True   \n6837   HQVNRPLTMRKDGIQTRNRKASGKGKKKRGSSLGGTGAAEGPAGGF...        True   \n23842  HQVNRPLTMRKDGIQTRNRKASGKGKKKRGSSLGGTGAAEGPAGGF...        True   \n23521  MDPAASSCMRSLQPPAPVWGCLRNPHSEGNGASGLPHYPPTPFSFH...        True   \n24126  MDPAASSCMRSLQPPAPVWGCLRNPHSEGNGASGLPHYPPTPFSFH...        True   \n23492  SNNDDEDLTPEQKAEREKERRMANNARERLRVRDINEAFKELGRMV...        True   \n23674  FDWMKVKRNPPKTGKVGEYGYLGQPNAVRTNFTTKQLTELEKEFHF...        True   \n18091  MNLEQERPFVCSAPGCSQRFPTEDHLMIHRHKHEMTLKFPSIKTDN...        True   \n23489  MIESDTSSIMSGIIRNSGQNHHPSPQEYRLLATTSDDDLPGDLQSL...        True   \n\n       isr_length  \n14036          24  \n3648           31  \n18071          33  \n23973          44  \n15877          44  \n23491          44  \n14813          48  \n24111          58  \n16837          83  \n19551          83  \n4161           94  \n4137           94  \n7537           94  \n4026           94  \n8266           94  \n15637          98  \n15589          98  \n4418           98  \n4899           98  \n20074         100  \n23823         100  \n3992          108  \n6837          113  \n23842         113  \n23521         115  \n24126         115  \n23492         121  \n23674         130  \n18091         148  \n23489         199  "
     },
     "execution_count": 89,
     "metadata": {},
     "output_type": "execute_result"
    }
   ],
   "source": [
    "# smallest region\n",
    "slim_ppis['isr_length'] = slim_ppis['aa_seq_isr'].str.len()\n",
    "(slim_ppis.loc[slim_ppis['slim_match'], :]\n",
    "          .sort_values('isr_length')\n",
    "          .drop_duplicates(['ad_gene_symbol', 'db_gene_symbol', 'pfam_accession'])\n",
    "          .head(30))"
   ]
  },
  {
   "cell_type": "code",
   "execution_count": 92,
   "metadata": {},
   "outputs": [
    {
     "data": {
      "text/html": "<div>\n<style scoped>\n    .dataframe tbody tr th:only-of-type {\n        vertical-align: middle;\n    }\n\n    .dataframe tbody tr th {\n        vertical-align: top;\n    }\n\n    .dataframe thead th {\n        text-align: right;\n    }\n</style>\n<table border=\"1\" class=\"dataframe\">\n  <thead>\n    <tr style=\"text-align: right;\">\n      <th></th>\n      <th>ad_gene_symbol</th>\n      <th>db_gene_symbol</th>\n      <th>pfam_accession</th>\n      <th>domain_name</th>\n      <th>domain_description</th>\n      <th>ELM identifier</th>\n      <th>aa_seq_isr</th>\n      <th>slim_match</th>\n      <th>isr_length</th>\n      <th>motif_probability</th>\n    </tr>\n  </thead>\n  <tbody>\n    <tr>\n      <th>22622</th>\n      <td>CREBZF</td>\n      <td>HCFC1</td>\n      <td>PF13415</td>\n      <td>Kelch_3</td>\n      <td>Galactose oxidase, central domain</td>\n      <td>LIG_HCF-1_HBM_1</td>\n      <td>MRHSLTKLLAASGSNSPTRSESPEPAATCSLPSDLTRAAAGEEETA...</td>\n      <td>True</td>\n      <td>354</td>\n      <td>0.000051</td>\n    </tr>\n    <tr>\n      <th>24111</th>\n      <td>NFIX</td>\n      <td>MLH1</td>\n      <td>PF16413</td>\n      <td>Mlh1_C</td>\n      <td>DNA mismatch repair protein Mlh1 C-terminus</td>\n      <td>LIG_MLH1_MIPbox_1</td>\n      <td>SPRATASALHFPSTSIIQQSSPYFTHPTIRYHHHHGQDSLKEFVQF...</td>\n      <td>True</td>\n      <td>58</td>\n      <td>0.000062</td>\n    </tr>\n    <tr>\n      <th>8266</th>\n      <td>MEIS2</td>\n      <td>IL16</td>\n      <td>PF00595</td>\n      <td>PDZ</td>\n      <td>PDZ domain (Also known as DHR or GLGF)</td>\n      <td>LIG_PDZ_Class_2</td>\n      <td>GLQSMPGDYVSQGGPMGMSMAQPSYTPPQMTPHPTQLRHGPPMHSY...</td>\n      <td>True</td>\n      <td>94</td>\n      <td>0.000079</td>\n    </tr>\n    <tr>\n      <th>7537</th>\n      <td>MEIS2</td>\n      <td>LNX1</td>\n      <td>PF00595</td>\n      <td>PDZ</td>\n      <td>PDZ domain (Also known as DHR or GLGF)</td>\n      <td>LIG_PDZ_Class_2</td>\n      <td>GLQSMPGDYVSQGGPMGMSMAQPSYTPPQMTPHPTQLRHGPPMHSY...</td>\n      <td>True</td>\n      <td>94</td>\n      <td>0.000079</td>\n    </tr>\n    <tr>\n      <th>24172</th>\n      <td>SOX5</td>\n      <td>CTBP2</td>\n      <td>PF00389</td>\n      <td>2-Hacid_dh</td>\n      <td>D-isomer specific 2-hydroxyacid dehydrogenase,...</td>\n      <td>LIG_CtBP_PxDLS_1</td>\n      <td>MSVMSSKRPASPYGEADGEVAMVTSRQKVEEEESDGLPAFHLPLHV...</td>\n      <td>True</td>\n      <td>378</td>\n      <td>0.000117</td>\n    </tr>\n    <tr>\n      <th>23823</th>\n      <td>FOSB</td>\n      <td>HOMER3</td>\n      <td>PF00568</td>\n      <td>WH1</td>\n      <td>WH1 domain</td>\n      <td>LIG_EVH1_1</td>\n      <td>VRDLPGSAPAKEDGFSWLLPPPPPPPLPFQTSQDAPPNLTASLFTH...</td>\n      <td>True</td>\n      <td>100</td>\n      <td>0.000124</td>\n    </tr>\n    <tr>\n      <th>18719</th>\n      <td>ATF2</td>\n      <td>MAPK9</td>\n      <td>PF00069</td>\n      <td>Pkinase</td>\n      <td>Protein kinase domain</td>\n      <td>DOC_MAPK_NFAT4_5</td>\n      <td>RFTNEDHLAVHKHKHEMTLKFGPARNDSVIVAD</td>\n      <td>True</td>\n      <td>33</td>\n      <td>0.000163</td>\n    </tr>\n    <tr>\n      <th>18739</th>\n      <td>CREB5</td>\n      <td>MAPK9</td>\n      <td>PF00069</td>\n      <td>Pkinase</td>\n      <td>Protein kinase domain</td>\n      <td>DOC_MAPK_NFAT4_5</td>\n      <td>MNLEQERPFVCSAPGCSQRFPTEDHLMIHRHKHEMTLKFPSIKTDN...</td>\n      <td>True</td>\n      <td>148</td>\n      <td>0.000163</td>\n    </tr>\n    <tr>\n      <th>11833</th>\n      <td>ZBTB48</td>\n      <td>WDR5</td>\n      <td>PF00400</td>\n      <td>WD40</td>\n      <td>WD domain, G-beta repeat</td>\n      <td>DEG_APCC_KENBOX_2</td>\n      <td>PPRPLEAEGAQLQGGSNEWEVVVQVEDDGDGDYMSEPEAVLTRRKS...</td>\n      <td>True</td>\n      <td>475</td>\n      <td>0.000184</td>\n    </tr>\n    <tr>\n      <th>6817</th>\n      <td>GATA1</td>\n      <td>ARMC7</td>\n      <td>PF00514</td>\n      <td>Arm</td>\n      <td>Armadillo/beta-catenin-like repeat</td>\n      <td>TRG_NLS_MonoCore_2</td>\n      <td>HQVNRPLTMRKDGIQTRNRKASGKGKKKRGSSLGGTGAAEGPAGGF...</td>\n      <td>True</td>\n      <td>113</td>\n      <td>0.000234</td>\n    </tr>\n    <tr>\n      <th>16865</th>\n      <td>ZNF263</td>\n      <td>CLK3</td>\n      <td>PF00069</td>\n      <td>Pkinase</td>\n      <td>Protein kinase domain</td>\n      <td>MOD_LATS_1</td>\n      <td>EKPYKCTLCGENFSHRSNLIRHQRIHTGEKPYTCHECGDSFSHSSN...</td>\n      <td>True</td>\n      <td>83</td>\n      <td>0.000478</td>\n    </tr>\n    <tr>\n      <th>19547</th>\n      <td>ZNF263</td>\n      <td>CLK2</td>\n      <td>PF00069</td>\n      <td>Pkinase</td>\n      <td>Protein kinase domain</td>\n      <td>MOD_LATS_1</td>\n      <td>EKPYKCTLCGENFSHRSNLIRHQRIHTGEKPYTCHECGDSFSHSSN...</td>\n      <td>True</td>\n      <td>83</td>\n      <td>0.000478</td>\n    </tr>\n    <tr>\n      <th>17198</th>\n      <td>ZSCAN9</td>\n      <td>SRPK2</td>\n      <td>PF00069</td>\n      <td>Pkinase</td>\n      <td>Protein kinase domain</td>\n      <td>MOD_LATS_1</td>\n      <td>DEVTKTEDRELVLRKDCPKIVEPHGKMFNEQTWEVSQQDPSHGEVG...</td>\n      <td>True</td>\n      <td>204</td>\n      <td>0.000478</td>\n    </tr>\n    <tr>\n      <th>23674</th>\n      <td>HOXA1</td>\n      <td>PCSK5</td>\n      <td>PF00082</td>\n      <td>Peptidase_S8</td>\n      <td>Subtilase family</td>\n      <td>CLV_PCSK_FUR_1</td>\n      <td>FDWMKVKRNPPKTGKVGEYGYLGQPNAVRTNFTTKQLTELEKEFHF...</td>\n      <td>True</td>\n      <td>130</td>\n      <td>0.000509</td>\n    </tr>\n    <tr>\n      <th>4161</th>\n      <td>MEIS2</td>\n      <td>HCK</td>\n      <td>PF00017</td>\n      <td>SH2</td>\n      <td>SH2 domain</td>\n      <td>LIG_SH2_STAT3</td>\n      <td>GLQSMPGDYVSQGGPMGMSMAQPSYTPPQMTPHPTQLRHGPPMHSY...</td>\n      <td>True</td>\n      <td>94</td>\n      <td>0.000797</td>\n    </tr>\n    <tr>\n      <th>4899</th>\n      <td>STAT3</td>\n      <td>TXK</td>\n      <td>PF00017</td>\n      <td>SH2</td>\n      <td>SH2 domain</td>\n      <td>LIG_SH2_STAT3</td>\n      <td>MAQWNQLQQLDTRYLEQLHQLYSDSFPMELRQFLAPWIESQDWAYA...</td>\n      <td>True</td>\n      <td>98</td>\n      <td>0.000797</td>\n    </tr>\n    <tr>\n      <th>15613</th>\n      <td>STAT3</td>\n      <td>BMX</td>\n      <td>PF00017</td>\n      <td>SH2</td>\n      <td>SH2 domain</td>\n      <td>LIG_SH2_STAT3</td>\n      <td>MAQWNQLQQLDTRYLEQLHQLYSDSFPMELRQFLAPWIESQDWAYA...</td>\n      <td>True</td>\n      <td>98</td>\n      <td>0.000797</td>\n    </tr>\n    <tr>\n      <th>23973</th>\n      <td>HMBOX1</td>\n      <td>UBE2Z</td>\n      <td>PF00179</td>\n      <td>UQ_con</td>\n      <td>Ubiquitin-conjugating enzyme</td>\n      <td>MOD_SUMO_for_1</td>\n      <td>DDSTSHSDHQDPISLAVEMAAVNHTILALARQGANEIKTEALDD</td>\n      <td>True</td>\n      <td>44</td>\n      <td>0.001914</td>\n    </tr>\n    <tr>\n      <th>14624</th>\n      <td>IKZF2</td>\n      <td>CDC7</td>\n      <td>PF00069</td>\n      <td>Pkinase</td>\n      <td>Protein kinase domain</td>\n      <td>MOD_CDK_SPxK_1</td>\n      <td>VPPMEDCKEQEPIMDNNISLVPFERPAVIEKLTGNMGKRKSSTPQKFV</td>\n      <td>True</td>\n      <td>48</td>\n      <td>0.001929</td>\n    </tr>\n    <tr>\n      <th>24126</th>\n      <td>MEOX1</td>\n      <td>CKS1B</td>\n      <td>PF01111</td>\n      <td>CKS</td>\n      <td>Cyclin-dependent kinase regulatory subunit</td>\n      <td>DOC_CKS1_1</td>\n      <td>MDPAASSCMRSLQPPAPVWGCLRNPHSEGNGASGLPHYPPTPFSFH...</td>\n      <td>True</td>\n      <td>115</td>\n      <td>0.001991</td>\n    </tr>\n    <tr>\n      <th>3735</th>\n      <td>STAT3</td>\n      <td>BLK</td>\n      <td>PF00069</td>\n      <td>Pkinase</td>\n      <td>Protein kinase domain</td>\n      <td>MOD_Plk_2-3</td>\n      <td>NNGEGAEPSAGGQFESLTFDMELTSECATSP</td>\n      <td>True</td>\n      <td>31</td>\n      <td>0.002175</td>\n    </tr>\n    <tr>\n      <th>23842</th>\n      <td>GATA1</td>\n      <td>CCNK</td>\n      <td>PF00134</td>\n      <td>Cyclin_N</td>\n      <td>Cyclin, N-terminal domain</td>\n      <td>DOC_CyclinA_RxL_1</td>\n      <td>HQVNRPLTMRKDGIQTRNRKASGKGKKKRGSSLGGTGAAEGPAGGF...</td>\n      <td>True</td>\n      <td>113</td>\n      <td>0.004211</td>\n    </tr>\n    <tr>\n      <th>4795</th>\n      <td>STAT3</td>\n      <td>TXK</td>\n      <td>PF00069</td>\n      <td>Pkinase</td>\n      <td>Protein kinase domain</td>\n      <td>MOD_Plk_4</td>\n      <td>MAQWNQLQQLDTRYLEQLHQLYSDSFPMELRQFLAPWIESQDWAYA...</td>\n      <td>True</td>\n      <td>98</td>\n      <td>0.006019</td>\n    </tr>\n    <tr>\n      <th>14036</th>\n      <td>TCF12</td>\n      <td>EPHB6</td>\n      <td>PF00069</td>\n      <td>Pkinase</td>\n      <td>Protein kinase domain</td>\n      <td>MOD_Plk_4</td>\n      <td>KNRVEQQLHEHLQDAMSFLKDVCE</td>\n      <td>True</td>\n      <td>24</td>\n      <td>0.006019</td>\n    </tr>\n    <tr>\n      <th>21150</th>\n      <td>FOXN4</td>\n      <td>PRKAA2</td>\n      <td>PF00069</td>\n      <td>Pkinase</td>\n      <td>Protein kinase domain</td>\n      <td>MOD_Plk_4</td>\n      <td>MIESDTSSIMSGIIRNSGQNHHPSPQEYRLLATTSDDDLPGDLQSL...</td>\n      <td>True</td>\n      <td>199</td>\n      <td>0.006019</td>\n    </tr>\n    <tr>\n      <th>15872</th>\n      <td>HMBOX1</td>\n      <td>CDK18</td>\n      <td>PF00069</td>\n      <td>Pkinase</td>\n      <td>Protein kinase domain</td>\n      <td>MOD_Plk_4</td>\n      <td>DDSTSHSDHQDPISLAVEMAAVNHTILALARQGANEIKTEALDD</td>\n      <td>True</td>\n      <td>44</td>\n      <td>0.006019</td>\n    </tr>\n    <tr>\n      <th>4137</th>\n      <td>MEIS2</td>\n      <td>HCK</td>\n      <td>PF00069</td>\n      <td>Pkinase</td>\n      <td>Protein kinase domain</td>\n      <td>MOD_Plk_4</td>\n      <td>GLQSMPGDYVSQGGPMGMSMAQPSYTPPQMTPHPTQLRHGPPMHSY...</td>\n      <td>True</td>\n      <td>94</td>\n      <td>0.006019</td>\n    </tr>\n    <tr>\n      <th>15589</th>\n      <td>STAT3</td>\n      <td>BMX</td>\n      <td>PF00069</td>\n      <td>Pkinase</td>\n      <td>Protein kinase domain</td>\n      <td>MOD_Plk_4</td>\n      <td>MAQWNQLQQLDTRYLEQLHQLYSDSFPMELRQFLAPWIESQDWAYA...</td>\n      <td>True</td>\n      <td>98</td>\n      <td>0.006019</td>\n    </tr>\n    <tr>\n      <th>21138</th>\n      <td>FOSB</td>\n      <td>PRKAA2</td>\n      <td>PF00069</td>\n      <td>Pkinase</td>\n      <td>Protein kinase domain</td>\n      <td>MOD_Plk_4</td>\n      <td>VRDLPGSAPAKEDGFSWLLPPPPPPPLPFQTSQDAPPNLTASLFTH...</td>\n      <td>True</td>\n      <td>100</td>\n      <td>0.006019</td>\n    </tr>\n    <tr>\n      <th>4026</th>\n      <td>MEIS2</td>\n      <td>HCK</td>\n      <td>PF00018</td>\n      <td>SH3_1</td>\n      <td>SH3 domain</td>\n      <td>LIG_SH3_3</td>\n      <td>GLQSMPGDYVSQGGPMGMSMAQPSYTPPQMTPHPTQLRHGPPMHSY...</td>\n      <td>True</td>\n      <td>94</td>\n      <td>0.013173</td>\n    </tr>\n  </tbody>\n</table>\n</div>",
      "text/plain": "      ad_gene_symbol db_gene_symbol pfam_accession   domain_name  \\\n22622         CREBZF          HCFC1        PF13415       Kelch_3   \n24111           NFIX           MLH1        PF16413        Mlh1_C   \n8266           MEIS2           IL16        PF00595           PDZ   \n7537           MEIS2           LNX1        PF00595           PDZ   \n24172           SOX5          CTBP2        PF00389    2-Hacid_dh   \n23823           FOSB         HOMER3        PF00568           WH1   \n18719           ATF2          MAPK9        PF00069       Pkinase   \n18739          CREB5          MAPK9        PF00069       Pkinase   \n11833         ZBTB48           WDR5        PF00400          WD40   \n6817           GATA1          ARMC7        PF00514           Arm   \n16865         ZNF263           CLK3        PF00069       Pkinase   \n19547         ZNF263           CLK2        PF00069       Pkinase   \n17198         ZSCAN9          SRPK2        PF00069       Pkinase   \n23674          HOXA1          PCSK5        PF00082  Peptidase_S8   \n4161           MEIS2            HCK        PF00017           SH2   \n4899           STAT3            TXK        PF00017           SH2   \n15613          STAT3            BMX        PF00017           SH2   \n23973         HMBOX1          UBE2Z        PF00179        UQ_con   \n14624          IKZF2           CDC7        PF00069       Pkinase   \n24126          MEOX1          CKS1B        PF01111           CKS   \n3735           STAT3            BLK        PF00069       Pkinase   \n23842          GATA1           CCNK        PF00134      Cyclin_N   \n4795           STAT3            TXK        PF00069       Pkinase   \n14036          TCF12          EPHB6        PF00069       Pkinase   \n21150          FOXN4         PRKAA2        PF00069       Pkinase   \n15872         HMBOX1          CDK18        PF00069       Pkinase   \n4137           MEIS2            HCK        PF00069       Pkinase   \n15589          STAT3            BMX        PF00069       Pkinase   \n21138           FOSB         PRKAA2        PF00069       Pkinase   \n4026           MEIS2            HCK        PF00018         SH3_1   \n\n                                      domain_description      ELM identifier  \\\n22622                  Galactose oxidase, central domain     LIG_HCF-1_HBM_1   \n24111        DNA mismatch repair protein Mlh1 C-terminus   LIG_MLH1_MIPbox_1   \n8266              PDZ domain (Also known as DHR or GLGF)     LIG_PDZ_Class_2   \n7537              PDZ domain (Also known as DHR or GLGF)     LIG_PDZ_Class_2   \n24172  D-isomer specific 2-hydroxyacid dehydrogenase,...    LIG_CtBP_PxDLS_1   \n23823                                         WH1 domain          LIG_EVH1_1   \n18719                              Protein kinase domain    DOC_MAPK_NFAT4_5   \n18739                              Protein kinase domain    DOC_MAPK_NFAT4_5   \n11833                           WD domain, G-beta repeat   DEG_APCC_KENBOX_2   \n6817                  Armadillo/beta-catenin-like repeat  TRG_NLS_MonoCore_2   \n16865                              Protein kinase domain          MOD_LATS_1   \n19547                              Protein kinase domain          MOD_LATS_1   \n17198                              Protein kinase domain          MOD_LATS_1   \n23674                                   Subtilase family      CLV_PCSK_FUR_1   \n4161                                          SH2 domain       LIG_SH2_STAT3   \n4899                                          SH2 domain       LIG_SH2_STAT3   \n15613                                         SH2 domain       LIG_SH2_STAT3   \n23973                       Ubiquitin-conjugating enzyme      MOD_SUMO_for_1   \n14624                              Protein kinase domain      MOD_CDK_SPxK_1   \n24126         Cyclin-dependent kinase regulatory subunit          DOC_CKS1_1   \n3735                               Protein kinase domain         MOD_Plk_2-3   \n23842                          Cyclin, N-terminal domain   DOC_CyclinA_RxL_1   \n4795                               Protein kinase domain           MOD_Plk_4   \n14036                              Protein kinase domain           MOD_Plk_4   \n21150                              Protein kinase domain           MOD_Plk_4   \n15872                              Protein kinase domain           MOD_Plk_4   \n4137                               Protein kinase domain           MOD_Plk_4   \n15589                              Protein kinase domain           MOD_Plk_4   \n21138                              Protein kinase domain           MOD_Plk_4   \n4026                                          SH3 domain           LIG_SH3_3   \n\n                                              aa_seq_isr  slim_match  \\\n22622  MRHSLTKLLAASGSNSPTRSESPEPAATCSLPSDLTRAAAGEEETA...        True   \n24111  SPRATASALHFPSTSIIQQSSPYFTHPTIRYHHHHGQDSLKEFVQF...        True   \n8266   GLQSMPGDYVSQGGPMGMSMAQPSYTPPQMTPHPTQLRHGPPMHSY...        True   \n7537   GLQSMPGDYVSQGGPMGMSMAQPSYTPPQMTPHPTQLRHGPPMHSY...        True   \n24172  MSVMSSKRPASPYGEADGEVAMVTSRQKVEEEESDGLPAFHLPLHV...        True   \n23823  VRDLPGSAPAKEDGFSWLLPPPPPPPLPFQTSQDAPPNLTASLFTH...        True   \n18719                  RFTNEDHLAVHKHKHEMTLKFGPARNDSVIVAD        True   \n18739  MNLEQERPFVCSAPGCSQRFPTEDHLMIHRHKHEMTLKFPSIKTDN...        True   \n11833  PPRPLEAEGAQLQGGSNEWEVVVQVEDDGDGDYMSEPEAVLTRRKS...        True   \n6817   HQVNRPLTMRKDGIQTRNRKASGKGKKKRGSSLGGTGAAEGPAGGF...        True   \n16865  EKPYKCTLCGENFSHRSNLIRHQRIHTGEKPYTCHECGDSFSHSSN...        True   \n19547  EKPYKCTLCGENFSHRSNLIRHQRIHTGEKPYTCHECGDSFSHSSN...        True   \n17198  DEVTKTEDRELVLRKDCPKIVEPHGKMFNEQTWEVSQQDPSHGEVG...        True   \n23674  FDWMKVKRNPPKTGKVGEYGYLGQPNAVRTNFTTKQLTELEKEFHF...        True   \n4161   GLQSMPGDYVSQGGPMGMSMAQPSYTPPQMTPHPTQLRHGPPMHSY...        True   \n4899   MAQWNQLQQLDTRYLEQLHQLYSDSFPMELRQFLAPWIESQDWAYA...        True   \n15613  MAQWNQLQQLDTRYLEQLHQLYSDSFPMELRQFLAPWIESQDWAYA...        True   \n23973       DDSTSHSDHQDPISLAVEMAAVNHTILALARQGANEIKTEALDD        True   \n14624   VPPMEDCKEQEPIMDNNISLVPFERPAVIEKLTGNMGKRKSSTPQKFV        True   \n24126  MDPAASSCMRSLQPPAPVWGCLRNPHSEGNGASGLPHYPPTPFSFH...        True   \n3735                     NNGEGAEPSAGGQFESLTFDMELTSECATSP        True   \n23842  HQVNRPLTMRKDGIQTRNRKASGKGKKKRGSSLGGTGAAEGPAGGF...        True   \n4795   MAQWNQLQQLDTRYLEQLHQLYSDSFPMELRQFLAPWIESQDWAYA...        True   \n14036                           KNRVEQQLHEHLQDAMSFLKDVCE        True   \n21150  MIESDTSSIMSGIIRNSGQNHHPSPQEYRLLATTSDDDLPGDLQSL...        True   \n15872       DDSTSHSDHQDPISLAVEMAAVNHTILALARQGANEIKTEALDD        True   \n4137   GLQSMPGDYVSQGGPMGMSMAQPSYTPPQMTPHPTQLRHGPPMHSY...        True   \n15589  MAQWNQLQQLDTRYLEQLHQLYSDSFPMELRQFLAPWIESQDWAYA...        True   \n21138  VRDLPGSAPAKEDGFSWLLPPPPPPPLPFQTSQDAPPNLTASLFTH...        True   \n4026   GLQSMPGDYVSQGGPMGMSMAQPSYTPPQMTPHPTQLRHGPPMHSY...        True   \n\n       isr_length  motif_probability  \n22622         354           0.000051  \n24111          58           0.000062  \n8266           94           0.000079  \n7537           94           0.000079  \n24172         378           0.000117  \n23823         100           0.000124  \n18719          33           0.000163  \n18739         148           0.000163  \n11833         475           0.000184  \n6817          113           0.000234  \n16865          83           0.000478  \n19547          83           0.000478  \n17198         204           0.000478  \n23674         130           0.000509  \n4161           94           0.000797  \n4899           98           0.000797  \n15613          98           0.000797  \n23973          44           0.001914  \n14624          48           0.001929  \n24126         115           0.001991  \n3735           31           0.002175  \n23842         113           0.004211  \n4795           98           0.006019  \n14036          24           0.006019  \n21150         199           0.006019  \n15872          44           0.006019  \n4137           94           0.006019  \n15589          98           0.006019  \n21138         100           0.006019  \n4026           94           0.013173  "
     },
     "execution_count": 92,
     "metadata": {},
     "output_type": "execute_result"
    }
   ],
   "source": [
    "# most specific regex\n",
    "slim_ppis['motif_probability'] = slim_ppis['ELM identifier'].map(elm.set_index('ELMIdentifier')['Probability'])\n",
    "(slim_ppis.loc[slim_ppis['slim_match'], :]\n",
    "          .sort_values('motif_probability')\n",
    "          .drop_duplicates(['ad_gene_symbol', 'db_gene_symbol', 'pfam_accession'])\n",
    "          .head(30))"
   ]
  },
  {
   "cell_type": "code",
   "execution_count": 98,
   "metadata": {},
   "outputs": [
    {
     "data": {
      "text/html": "<div>\n<style scoped>\n    .dataframe tbody tr th:only-of-type {\n        vertical-align: middle;\n    }\n\n    .dataframe tbody tr th {\n        vertical-align: top;\n    }\n\n    .dataframe thead th {\n        text-align: right;\n    }\n</style>\n<table border=\"1\" class=\"dataframe\">\n  <thead>\n    <tr style=\"text-align: right;\">\n      <th></th>\n      <th>ad_gene_symbol</th>\n      <th>db_gene_symbol</th>\n      <th>pfam_accession</th>\n      <th>domain_name</th>\n      <th>domain_description</th>\n      <th>ELM identifier</th>\n      <th>aa_seq_isr</th>\n      <th>slim_match</th>\n      <th>isr_length</th>\n      <th>motif_probability</th>\n    </tr>\n  </thead>\n  <tbody>\n    <tr>\n      <th>3648</th>\n      <td>STAT3</td>\n      <td>BLK</td>\n      <td>PF00069</td>\n      <td>Pkinase</td>\n      <td>Protein kinase domain</td>\n      <td>MOD_GSK3_1</td>\n      <td>NNGEGAEPSAGGQFESLTFDMELTSECATSP</td>\n      <td>True</td>\n      <td>31</td>\n      <td>0.026787</td>\n    </tr>\n    <tr>\n      <th>3735</th>\n      <td>STAT3</td>\n      <td>BLK</td>\n      <td>PF00069</td>\n      <td>Pkinase</td>\n      <td>Protein kinase domain</td>\n      <td>MOD_Plk_2-3</td>\n      <td>NNGEGAEPSAGGQFESLTFDMELTSECATSP</td>\n      <td>True</td>\n      <td>31</td>\n      <td>0.002175</td>\n    </tr>\n    <tr>\n      <th>4418</th>\n      <td>STAT3</td>\n      <td>TXK</td>\n      <td>PF00069</td>\n      <td>Pkinase</td>\n      <td>Protein kinase domain</td>\n      <td>MOD_CK1_1</td>\n      <td>MAQWNQLQQLDTRYLEQLHQLYSDSFPMELRQFLAPWIESQDWAYA...</td>\n      <td>True</td>\n      <td>98</td>\n      <td>0.017041</td>\n    </tr>\n    <tr>\n      <th>4613</th>\n      <td>STAT3</td>\n      <td>TXK</td>\n      <td>PF00069</td>\n      <td>Pkinase</td>\n      <td>Protein kinase domain</td>\n      <td>MOD_NEK2_1</td>\n      <td>MAQWNQLQQLDTRYLEQLHQLYSDSFPMELRQFLAPWIESQDWAYA...</td>\n      <td>True</td>\n      <td>98</td>\n      <td>0.009798</td>\n    </tr>\n    <tr>\n      <th>4795</th>\n      <td>STAT3</td>\n      <td>TXK</td>\n      <td>PF00069</td>\n      <td>Pkinase</td>\n      <td>Protein kinase domain</td>\n      <td>MOD_Plk_4</td>\n      <td>MAQWNQLQQLDTRYLEQLHQLYSDSFPMELRQFLAPWIESQDWAYA...</td>\n      <td>True</td>\n      <td>98</td>\n      <td>0.006019</td>\n    </tr>\n    <tr>\n      <th>4899</th>\n      <td>STAT3</td>\n      <td>TXK</td>\n      <td>PF00017</td>\n      <td>SH2</td>\n      <td>SH2 domain</td>\n      <td>LIG_SH2_STAT3</td>\n      <td>MAQWNQLQQLDTRYLEQLHQLYSDSFPMELRQFLAPWIESQDWAYA...</td>\n      <td>True</td>\n      <td>98</td>\n      <td>0.000797</td>\n    </tr>\n    <tr>\n      <th>4912</th>\n      <td>STAT3</td>\n      <td>TXK</td>\n      <td>PF00017</td>\n      <td>SH2</td>\n      <td>SH2 domain</td>\n      <td>LIG_SH2_STAT5</td>\n      <td>MAQWNQLQQLDTRYLEQLHQLYSDSFPMELRQFLAPWIESQDWAYA...</td>\n      <td>True</td>\n      <td>98</td>\n      <td>0.003296</td>\n    </tr>\n    <tr>\n      <th>5003</th>\n      <td>STAT3</td>\n      <td>TXK</td>\n      <td>PF00017</td>\n      <td>SH2</td>\n      <td>SH2 domain</td>\n      <td>LIG_SH2_STAP1</td>\n      <td>MAQWNQLQQLDTRYLEQLHQLYSDSFPMELRQFLAPWIESQDWAYA...</td>\n      <td>True</td>\n      <td>98</td>\n      <td>0.001026</td>\n    </tr>\n    <tr>\n      <th>15502</th>\n      <td>STAT3</td>\n      <td>BMX</td>\n      <td>PF00069</td>\n      <td>Pkinase</td>\n      <td>Protein kinase domain</td>\n      <td>MOD_CK1_1</td>\n      <td>MAQWNQLQQLDTRYLEQLHQLYSDSFPMELRQFLAPWIESQDWAYA...</td>\n      <td>True</td>\n      <td>98</td>\n      <td>0.017041</td>\n    </tr>\n    <tr>\n      <th>15547</th>\n      <td>STAT3</td>\n      <td>BMX</td>\n      <td>PF00069</td>\n      <td>Pkinase</td>\n      <td>Protein kinase domain</td>\n      <td>MOD_NEK2_1</td>\n      <td>MAQWNQLQQLDTRYLEQLHQLYSDSFPMELRQFLAPWIESQDWAYA...</td>\n      <td>True</td>\n      <td>98</td>\n      <td>0.009798</td>\n    </tr>\n    <tr>\n      <th>15589</th>\n      <td>STAT3</td>\n      <td>BMX</td>\n      <td>PF00069</td>\n      <td>Pkinase</td>\n      <td>Protein kinase domain</td>\n      <td>MOD_Plk_4</td>\n      <td>MAQWNQLQQLDTRYLEQLHQLYSDSFPMELRQFLAPWIESQDWAYA...</td>\n      <td>True</td>\n      <td>98</td>\n      <td>0.006019</td>\n    </tr>\n    <tr>\n      <th>15613</th>\n      <td>STAT3</td>\n      <td>BMX</td>\n      <td>PF00017</td>\n      <td>SH2</td>\n      <td>SH2 domain</td>\n      <td>LIG_SH2_STAT3</td>\n      <td>MAQWNQLQQLDTRYLEQLHQLYSDSFPMELRQFLAPWIESQDWAYA...</td>\n      <td>True</td>\n      <td>98</td>\n      <td>0.000797</td>\n    </tr>\n    <tr>\n      <th>15616</th>\n      <td>STAT3</td>\n      <td>BMX</td>\n      <td>PF00017</td>\n      <td>SH2</td>\n      <td>SH2 domain</td>\n      <td>LIG_SH2_STAT5</td>\n      <td>MAQWNQLQQLDTRYLEQLHQLYSDSFPMELRQFLAPWIESQDWAYA...</td>\n      <td>True</td>\n      <td>98</td>\n      <td>0.003296</td>\n    </tr>\n    <tr>\n      <th>15637</th>\n      <td>STAT3</td>\n      <td>BMX</td>\n      <td>PF00017</td>\n      <td>SH2</td>\n      <td>SH2 domain</td>\n      <td>LIG_SH2_STAP1</td>\n      <td>MAQWNQLQQLDTRYLEQLHQLYSDSFPMELRQFLAPWIESQDWAYA...</td>\n      <td>True</td>\n      <td>98</td>\n      <td>0.001026</td>\n    </tr>\n  </tbody>\n</table>\n</div>",
      "text/plain": "      ad_gene_symbol db_gene_symbol pfam_accession domain_name  \\\n3648           STAT3            BLK        PF00069     Pkinase   \n3735           STAT3            BLK        PF00069     Pkinase   \n4418           STAT3            TXK        PF00069     Pkinase   \n4613           STAT3            TXK        PF00069     Pkinase   \n4795           STAT3            TXK        PF00069     Pkinase   \n4899           STAT3            TXK        PF00017         SH2   \n4912           STAT3            TXK        PF00017         SH2   \n5003           STAT3            TXK        PF00017         SH2   \n15502          STAT3            BMX        PF00069     Pkinase   \n15547          STAT3            BMX        PF00069     Pkinase   \n15589          STAT3            BMX        PF00069     Pkinase   \n15613          STAT3            BMX        PF00017         SH2   \n15616          STAT3            BMX        PF00017         SH2   \n15637          STAT3            BMX        PF00017         SH2   \n\n          domain_description ELM identifier  \\\n3648   Protein kinase domain     MOD_GSK3_1   \n3735   Protein kinase domain    MOD_Plk_2-3   \n4418   Protein kinase domain      MOD_CK1_1   \n4613   Protein kinase domain     MOD_NEK2_1   \n4795   Protein kinase domain      MOD_Plk_4   \n4899              SH2 domain  LIG_SH2_STAT3   \n4912              SH2 domain  LIG_SH2_STAT5   \n5003              SH2 domain  LIG_SH2_STAP1   \n15502  Protein kinase domain      MOD_CK1_1   \n15547  Protein kinase domain     MOD_NEK2_1   \n15589  Protein kinase domain      MOD_Plk_4   \n15613             SH2 domain  LIG_SH2_STAT3   \n15616             SH2 domain  LIG_SH2_STAT5   \n15637             SH2 domain  LIG_SH2_STAP1   \n\n                                              aa_seq_isr  slim_match  \\\n3648                     NNGEGAEPSAGGQFESLTFDMELTSECATSP        True   \n3735                     NNGEGAEPSAGGQFESLTFDMELTSECATSP        True   \n4418   MAQWNQLQQLDTRYLEQLHQLYSDSFPMELRQFLAPWIESQDWAYA...        True   \n4613   MAQWNQLQQLDTRYLEQLHQLYSDSFPMELRQFLAPWIESQDWAYA...        True   \n4795   MAQWNQLQQLDTRYLEQLHQLYSDSFPMELRQFLAPWIESQDWAYA...        True   \n4899   MAQWNQLQQLDTRYLEQLHQLYSDSFPMELRQFLAPWIESQDWAYA...        True   \n4912   MAQWNQLQQLDTRYLEQLHQLYSDSFPMELRQFLAPWIESQDWAYA...        True   \n5003   MAQWNQLQQLDTRYLEQLHQLYSDSFPMELRQFLAPWIESQDWAYA...        True   \n15502  MAQWNQLQQLDTRYLEQLHQLYSDSFPMELRQFLAPWIESQDWAYA...        True   \n15547  MAQWNQLQQLDTRYLEQLHQLYSDSFPMELRQFLAPWIESQDWAYA...        True   \n15589  MAQWNQLQQLDTRYLEQLHQLYSDSFPMELRQFLAPWIESQDWAYA...        True   \n15613  MAQWNQLQQLDTRYLEQLHQLYSDSFPMELRQFLAPWIESQDWAYA...        True   \n15616  MAQWNQLQQLDTRYLEQLHQLYSDSFPMELRQFLAPWIESQDWAYA...        True   \n15637  MAQWNQLQQLDTRYLEQLHQLYSDSFPMELRQFLAPWIESQDWAYA...        True   \n\n       isr_length  motif_probability  \n3648           31           0.026787  \n3735           31           0.002175  \n4418           98           0.017041  \n4613           98           0.009798  \n4795           98           0.006019  \n4899           98           0.000797  \n4912           98           0.003296  \n5003           98           0.001026  \n15502          98           0.017041  \n15547          98           0.009798  \n15589          98           0.006019  \n15613          98           0.000797  \n15616          98           0.003296  \n15637          98           0.001026  "
     },
     "execution_count": 98,
     "metadata": {},
     "output_type": "execute_result"
    }
   ],
   "source": [
    "slim_ppis.loc[slim_ppis['slim_match'] & (slim_ppis['ad_gene_symbol'] == 'STAT3'), :]"
   ]
  },
  {
   "cell_type": "code",
   "execution_count": 96,
   "metadata": {},
   "outputs": [],
   "source": [
    "#ppi.loc[ppi['ad_gene_symbol'] == 'STAT3', :]"
   ]
  },
  {
   "cell_type": "code",
   "execution_count": null,
   "metadata": {},
   "outputs": [],
   "source": []
  }
 ],
 "metadata": {
  "kernelspec": {
   "display_name": "Python 3",
   "language": "python",
   "name": "python3"
  },
  "language_info": {
   "codemirror_mode": {
    "name": "ipython",
    "version": 3
   },
   "file_extension": ".py",
   "mimetype": "text/x-python",
   "name": "python",
   "nbconvert_exporter": "python",
   "pygments_lexer": "ipython3",
   "version": "3.7.6-final"
  }
 },
 "nbformat": 4,
 "nbformat_minor": 2
}