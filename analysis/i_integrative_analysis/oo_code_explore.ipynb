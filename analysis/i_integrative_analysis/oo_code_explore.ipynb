{
 "cells": [
  {
   "cell_type": "code",
   "execution_count": 11,
   "metadata": {},
   "outputs": [
    {
     "output_type": "error",
     "ename": "AttributeError",
     "evalue": "can't set attribute",
     "traceback": [
      "\u001b[0;31m---------------------------------------------------------------------------\u001b[0m",
      "\u001b[0;31mAttributeError\u001b[0m                            Traceback (most recent call last)",
      "\u001b[0;32m<ipython-input-11-8c4b116c4141>\u001b[0m in \u001b[0;36m<module>\u001b[0;34m\u001b[0m\n\u001b[1;32m     15\u001b[0m \u001b[0mpath_6k_gtf\u001b[0m \u001b[0;34m=\u001b[0m \u001b[0mDATA_DIR\u001b[0m \u001b[0;34m/\u001b[0m \u001b[0;34m'c_6k_unique_acc_aligns.gtf'\u001b[0m  \u001b[0;31m# genome alignment\u001b[0m\u001b[0;34m\u001b[0m\u001b[0;34m\u001b[0m\u001b[0m\n\u001b[1;32m     16\u001b[0m \u001b[0morf_seqs_6k\u001b[0m \u001b[0;34m=\u001b[0m \u001b[0misofunc\u001b[0m\u001b[0;34m.\u001b[0m\u001b[0moc_fasta_to_orf_seq_dict\u001b[0m\u001b[0;34m(\u001b[0m\u001b[0mpath_6k_fa\u001b[0m\u001b[0;34m)\u001b[0m\u001b[0;34m\u001b[0m\u001b[0;34m\u001b[0m\u001b[0m\n\u001b[0;32m---> 17\u001b[0;31m \u001b[0mgd\u001b[0m \u001b[0;34m=\u001b[0m \u001b[0misocreate\u001b[0m\u001b[0;34m.\u001b[0m\u001b[0mcreate_and_link_seq_related_obj\u001b[0m\u001b[0;34m(\u001b[0m\u001b[0mgd\u001b[0m\u001b[0;34m,\u001b[0m \u001b[0morf_seqs_6k\u001b[0m\u001b[0;34m)\u001b[0m\u001b[0;34m\u001b[0m\u001b[0;34m\u001b[0m\u001b[0m\n\u001b[0m",
      "\u001b[0;32m~/Work/tf_isoforms/isomodules/isocreate.py\u001b[0m in \u001b[0;36mcreate_and_link_seq_related_obj\u001b[0;34m(gen_obj_dict, orf_seqs, verbose)\u001b[0m\n\u001b[1;32m    356\u001b[0m                     \u001b[0;31m# for each nt, create pos_obj and populate exon_obj\u001b[0m\u001b[0;34m\u001b[0m\u001b[0;34m\u001b[0m\u001b[0;34m\u001b[0m\u001b[0m\n\u001b[1;32m    357\u001b[0m                     pos_obj = isoclass.TranscribedPosition(coord, orf_idx,\n\u001b[0;32m--> 358\u001b[0;31m                                             exon_idx, nt, frm, exon, orf, gene)\n\u001b[0m\u001b[1;32m    359\u001b[0m                     \u001b[0mexon\u001b[0m\u001b[0;34m.\u001b[0m\u001b[0mchain\u001b[0m\u001b[0;34m.\u001b[0m\u001b[0mappend\u001b[0m\u001b[0;34m(\u001b[0m\u001b[0mpos_obj\u001b[0m\u001b[0;34m)\u001b[0m \u001b[0;31m# auto. linked to orf and gene\u001b[0m\u001b[0;34m\u001b[0m\u001b[0;34m\u001b[0m\u001b[0m\n\u001b[1;32m    360\u001b[0m                     \u001b[0mpos_objs\u001b[0m\u001b[0;34m.\u001b[0m\u001b[0mappend\u001b[0m\u001b[0;34m(\u001b[0m\u001b[0mpos_obj\u001b[0m\u001b[0;34m)\u001b[0m\u001b[0;34m\u001b[0m\u001b[0;34m\u001b[0m\u001b[0m\n",
      "\u001b[0;32m~/Work/tf_isoforms/isomodules/isoclass.py\u001b[0m in \u001b[0;36m__init__\u001b[0;34m(self, coord, orf_idx, exon_idx, nt, frm, exon, orf, gene)\u001b[0m\n\u001b[1;32m    956\u001b[0m         \u001b[0mself\u001b[0m\u001b[0;34m.\u001b[0m\u001b[0mres\u001b[0m \u001b[0;34m=\u001b[0m \u001b[0;32mNone\u001b[0m  \u001b[0;31m# link to residue obj\u001b[0m\u001b[0;34m\u001b[0m\u001b[0;34m\u001b[0m\u001b[0m\n\u001b[1;32m    957\u001b[0m         \u001b[0mself\u001b[0m\u001b[0;34m.\u001b[0m\u001b[0mis_coding\u001b[0m \u001b[0;34m=\u001b[0m \u001b[0;32mFalse\u001b[0m  \u001b[0;31m# turned to True if pos_obj linked to res_obj\u001b[0m\u001b[0;34m\u001b[0m\u001b[0;34m\u001b[0m\u001b[0m\n\u001b[0;32m--> 958\u001b[0;31m         \u001b[0mPosition\u001b[0m\u001b[0;34m.\u001b[0m\u001b[0m__init__\u001b[0m\u001b[0;34m(\u001b[0m\u001b[0mself\u001b[0m\u001b[0;34m,\u001b[0m \u001b[0mcoord\u001b[0m\u001b[0;34m,\u001b[0m \u001b[0mnt\u001b[0m\u001b[0;34m,\u001b[0m \u001b[0mexon\u001b[0m\u001b[0;34m,\u001b[0m \u001b[0morf\u001b[0m\u001b[0;34m)\u001b[0m\u001b[0;34m\u001b[0m\u001b[0;34m\u001b[0m\u001b[0m\n\u001b[0m\u001b[1;32m    959\u001b[0m \u001b[0;34m\u001b[0m\u001b[0m\n\u001b[1;32m    960\u001b[0m     \u001b[0;34m@\u001b[0m\u001b[0mproperty\u001b[0m\u001b[0;34m\u001b[0m\u001b[0;34m\u001b[0m\u001b[0m\n",
      "\u001b[0;31mAttributeError\u001b[0m: can't set attribute"
     ]
    }
   ],
   "source": [
    "import sys\n",
    "from pathlib import Path\n",
    "\n",
    "sys.path.append('../..')\n",
    "from isomodules import isocreate, isoimage, isofunc\n",
    "\n",
    "\n",
    "DATA_DIR = Path('../../data/internal')\n",
    "\n",
    "gene_name = 'ATF2'\n",
    "\n",
    "path_6k_fa = DATA_DIR / 'j2_6k_unique_isoacc_and_nt_seqs.fa'  # nucleotide sequences\n",
    "gd = isocreate.init_gen_obj(path_6k_gtf, [gene_name])\n",
    "\n",
    "path_6k_gtf = DATA_DIR / 'c_6k_unique_acc_aligns.gtf'  # genome alignment\n",
    "orf_seqs_6k = isofunc.oc_fasta_to_orf_seq_dict(path_6k_fa)\n",
    "gd = isocreate.create_and_link_seq_related_obj(gd, orf_seqs_6k)"
   ]
  },
  {
   "cell_type": "code",
   "execution_count": 10,
   "metadata": {},
   "outputs": [
    {
     "output_type": "stream",
     "name": "stdout",
     "text": "Help on function oc_fasta_to_orf_seq_dict in module isomodules.isofunc:\n\noc_fasta_to_orf_seq_dict(path_fasta, version='new_acc')\n    Convert fasta file to a isoname->seq dictionary.\n\n"
    }
   ],
   "source": [
    "help(isofunc.oc_fasta_to_orf_seq_dict)"
   ]
  },
  {
   "cell_type": "code",
   "execution_count": null,
   "metadata": {},
   "outputs": [],
   "source": []
  }
 ],
 "metadata": {
  "language_info": {
   "codemirror_mode": {
    "name": "ipython",
    "version": 3
   },
   "file_extension": ".py",
   "mimetype": "text/x-python",
   "name": "python",
   "nbconvert_exporter": "python",
   "pygments_lexer": "ipython3",
   "version": "3.7.6-final"
  },
  "orig_nbformat": 2,
  "kernelspec": {
   "name": "python37664bitd793632940214b7c95eb6190e37cac7f",
   "display_name": "Python 3.7.6 64-bit"
  }
 },
 "nbformat": 4,
 "nbformat_minor": 2
}