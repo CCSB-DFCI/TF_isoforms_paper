{
 "cells": [
  {
   "cell_type": "code",
   "execution_count": 12,
   "metadata": {},
   "outputs": [],
   "source": [
    "import seaborn as sns"
   ]
  },
  {
   "cell_type": "code",
   "execution_count": 1,
   "metadata": {},
   "outputs": [
    {
     "data": {
      "text/plain": [
       "156"
      ]
     },
     "execution_count": 1,
     "metadata": {},
     "output_type": "execute_result"
    }
   ],
   "source": [
    "from data_loading import load_y1h_pdi_data, load_tf_families\n",
    "\n",
    "pdi = load_y1h_pdi_data()\n",
    "pdi[pdi.columns[2:]].sum().sum()\n",
    "pdi['tf'].nunique()\n",
    "(pdi[pdi.columns[2:]].sum() > 0).sum()\n",
    "len(pdi.columns[2:])"
   ]
  },
  {
   "cell_type": "code",
   "execution_count": 3,
   "metadata": {},
   "outputs": [],
   "source": [
    "tf_fam = load_tf_families()"
   ]
  },
  {
   "cell_type": "code",
   "execution_count": 2,
   "metadata": {},
   "outputs": [
    {
     "data": {
      "text/html": [
       "<div>\n",
       "<style scoped>\n",
       "    .dataframe tbody tr th:only-of-type {\n",
       "        vertical-align: middle;\n",
       "    }\n",
       "\n",
       "    .dataframe tbody tr th {\n",
       "        vertical-align: top;\n",
       "    }\n",
       "\n",
       "    .dataframe thead th {\n",
       "        text-align: right;\n",
       "    }\n",
       "</style>\n",
       "<table border=\"1\" class=\"dataframe\">\n",
       "  <thead>\n",
       "    <tr style=\"text-align: right;\">\n",
       "      <th></th>\n",
       "      <th>tf</th>\n",
       "      <th>unique_acc</th>\n",
       "      <th>HS1022</th>\n",
       "      <th>HS1043</th>\n",
       "      <th>HS1067</th>\n",
       "      <th>HS1139</th>\n",
       "      <th>HS1142</th>\n",
       "      <th>HS118</th>\n",
       "      <th>HS1181</th>\n",
       "      <th>HS1185</th>\n",
       "      <th>...</th>\n",
       "      <th>MUT_281</th>\n",
       "      <th>MUT_30</th>\n",
       "      <th>MUT_32</th>\n",
       "      <th>MUT_36</th>\n",
       "      <th>MUT_37</th>\n",
       "      <th>MUT_40</th>\n",
       "      <th>MUT_41</th>\n",
       "      <th>MUT_46</th>\n",
       "      <th>MUT_64</th>\n",
       "      <th>MUT_75</th>\n",
       "    </tr>\n",
       "  </thead>\n",
       "  <tbody>\n",
       "    <tr>\n",
       "      <th>162</th>\n",
       "      <td>CREB1</td>\n",
       "      <td>CREB1|1/2|02E01</td>\n",
       "      <td>False</td>\n",
       "      <td>False</td>\n",
       "      <td>False</td>\n",
       "      <td>False</td>\n",
       "      <td>False</td>\n",
       "      <td>False</td>\n",
       "      <td>False</td>\n",
       "      <td>False</td>\n",
       "      <td>...</td>\n",
       "      <td>False</td>\n",
       "      <td>False</td>\n",
       "      <td>False</td>\n",
       "      <td>False</td>\n",
       "      <td>False</td>\n",
       "      <td>False</td>\n",
       "      <td>False</td>\n",
       "      <td>False</td>\n",
       "      <td>False</td>\n",
       "      <td>False</td>\n",
       "    </tr>\n",
       "    <tr>\n",
       "      <th>0</th>\n",
       "      <td>CREB1</td>\n",
       "      <td>CREB1|2/2|01F12</td>\n",
       "      <td>False</td>\n",
       "      <td>False</td>\n",
       "      <td>False</td>\n",
       "      <td>False</td>\n",
       "      <td>False</td>\n",
       "      <td>False</td>\n",
       "      <td>False</td>\n",
       "      <td>False</td>\n",
       "      <td>...</td>\n",
       "      <td>False</td>\n",
       "      <td>False</td>\n",
       "      <td>False</td>\n",
       "      <td>False</td>\n",
       "      <td>False</td>\n",
       "      <td>False</td>\n",
       "      <td>False</td>\n",
       "      <td>False</td>\n",
       "      <td>False</td>\n",
       "      <td>False</td>\n",
       "    </tr>\n",
       "    <tr>\n",
       "      <th>1</th>\n",
       "      <td>DLX1</td>\n",
       "      <td>DLX1|1/2|07A12</td>\n",
       "      <td>False</td>\n",
       "      <td>False</td>\n",
       "      <td>True</td>\n",
       "      <td>False</td>\n",
       "      <td>False</td>\n",
       "      <td>False</td>\n",
       "      <td>False</td>\n",
       "      <td>False</td>\n",
       "      <td>...</td>\n",
       "      <td>False</td>\n",
       "      <td>False</td>\n",
       "      <td>False</td>\n",
       "      <td>False</td>\n",
       "      <td>False</td>\n",
       "      <td>False</td>\n",
       "      <td>False</td>\n",
       "      <td>False</td>\n",
       "      <td>False</td>\n",
       "      <td>False</td>\n",
       "    </tr>\n",
       "    <tr>\n",
       "      <th>174</th>\n",
       "      <td>DLX1</td>\n",
       "      <td>DLX1|2/2|07E09</td>\n",
       "      <td>False</td>\n",
       "      <td>False</td>\n",
       "      <td>False</td>\n",
       "      <td>False</td>\n",
       "      <td>False</td>\n",
       "      <td>False</td>\n",
       "      <td>False</td>\n",
       "      <td>False</td>\n",
       "      <td>...</td>\n",
       "      <td>False</td>\n",
       "      <td>False</td>\n",
       "      <td>False</td>\n",
       "      <td>False</td>\n",
       "      <td>False</td>\n",
       "      <td>False</td>\n",
       "      <td>False</td>\n",
       "      <td>False</td>\n",
       "      <td>False</td>\n",
       "      <td>False</td>\n",
       "    </tr>\n",
       "    <tr>\n",
       "      <th>2</th>\n",
       "      <td>DLX4</td>\n",
       "      <td>DLX4|1/3|11A04</td>\n",
       "      <td>False</td>\n",
       "      <td>False</td>\n",
       "      <td>False</td>\n",
       "      <td>False</td>\n",
       "      <td>False</td>\n",
       "      <td>False</td>\n",
       "      <td>False</td>\n",
       "      <td>False</td>\n",
       "      <td>...</td>\n",
       "      <td>False</td>\n",
       "      <td>False</td>\n",
       "      <td>False</td>\n",
       "      <td>False</td>\n",
       "      <td>False</td>\n",
       "      <td>False</td>\n",
       "      <td>False</td>\n",
       "      <td>False</td>\n",
       "      <td>False</td>\n",
       "      <td>False</td>\n",
       "    </tr>\n",
       "  </tbody>\n",
       "</table>\n",
       "<p>5 rows × 158 columns</p>\n",
       "</div>"
      ],
      "text/plain": [
       "        tf       unique_acc  HS1022  HS1043  HS1067  HS1139  HS1142  HS118  \\\n",
       "162  CREB1  CREB1|1/2|02E01   False   False   False   False   False  False   \n",
       "0    CREB1  CREB1|2/2|01F12   False   False   False   False   False  False   \n",
       "1     DLX1   DLX1|1/2|07A12   False   False    True   False   False  False   \n",
       "174   DLX1   DLX1|2/2|07E09   False   False   False   False   False  False   \n",
       "2     DLX4   DLX4|1/3|11A04   False   False   False   False   False  False   \n",
       "\n",
       "     HS1181  HS1185  ...  MUT_281  MUT_30  MUT_32  MUT_36  MUT_37  MUT_40  \\\n",
       "162   False   False  ...    False   False   False   False   False   False   \n",
       "0     False   False  ...    False   False   False   False   False   False   \n",
       "1     False   False  ...    False   False   False   False   False   False   \n",
       "174   False   False  ...    False   False   False   False   False   False   \n",
       "2     False   False  ...    False   False   False   False   False   False   \n",
       "\n",
       "     MUT_41  MUT_46  MUT_64  MUT_75  \n",
       "162   False   False   False   False  \n",
       "0     False   False   False   False  \n",
       "1     False   False   False   False  \n",
       "174   False   False   False   False  \n",
       "2     False   False   False   False  \n",
       "\n",
       "[5 rows x 158 columns]"
      ]
     },
     "execution_count": 2,
     "metadata": {},
     "output_type": "execute_result"
    }
   ],
   "source": [
    "pdi.head()"
   ]
  },
  {
   "cell_type": "code",
   "execution_count": 4,
   "metadata": {},
   "outputs": [],
   "source": [
    "pdi['DBD'] = pdi['tf'].map(tf_fam)"
   ]
  },
  {
   "cell_type": "code",
   "execution_count": 9,
   "metadata": {},
   "outputs": [],
   "source": [
    "pdi['n_pdi'] = pdi.iloc[:, 2:-1].sum(axis=1)"
   ]
  },
  {
   "cell_type": "code",
   "execution_count": 15,
   "metadata": {},
   "outputs": [
    {
     "data": {
      "text/plain": [
       "Homeodomain                35\n",
       "C2H2 ZF                    35\n",
       "Nuclear receptor           21\n",
       "bHLH                       16\n",
       "Forkhead                    8\n",
       "SMAD                        7\n",
       "GATA                        6\n",
       "Ets                         6\n",
       "T-box                       6\n",
       "EBF1                        5\n",
       "AP-2                        4\n",
       "Rel                         4\n",
       "Paired box                  4\n",
       "Grainyhead                  4\n",
       "Myb/SANT                    3\n",
       "IRF                         2\n",
       "AT hook                     2\n",
       "RFX                         2\n",
       "SAND                        2\n",
       "Homeodomain; POU            2\n",
       "Pipsqueak                   2\n",
       "TEA                         2\n",
       "Homeodomain; Paired box     2\n",
       "bZIP                        2\n",
       "E2F                         2\n",
       "C2H2 ZF; AT hook            2\n",
       "Runt                        1\n",
       "HMG/Sox                     1\n",
       "CSL                         1\n",
       "Name: DBD, dtype: int64"
      ]
     },
     "execution_count": 15,
     "metadata": {},
     "output_type": "execute_result"
    }
   ],
   "source": [
    "pdi['DBD'].value_counts()"
   ]
  },
  {
   "cell_type": "code",
   "execution_count": 18,
   "metadata": {},
   "outputs": [
    {
     "data": {
      "text/plain": [
       "<matplotlib.axes._subplots.AxesSubplot at 0x1215d27c0>"
      ]
     },
     "execution_count": 18,
     "metadata": {},
     "output_type": "execute_result"
    },
    {
     "data": {
      "image/png": "[encoded data removed]",
      "image/svg+xml": "<?xml version=\"1.0\" encoding=\"utf-8\" standalone=\"no\"?>\n<!DOCTYPE svg PUBLIC \"-//W3C//DTD SVG 1.1//EN\"\n  \"http://www.w3.org/Graphics/SVG/1.1/DTD/svg11.dtd\">\n<!-- Created with matplotlib (https://matplotlib.org/) -->\n<svg height=\"261.130625pt\" version=\"1.1\" viewBox=\"0 0 380.467187 261.130625\" width=\"380.467187pt\" xmlns=\"http://www.w3.org/2000/svg\" xmlns:xlink=\"http://www.w3.org/1999/xlink\">\n <defs>\n  <style type=\"text/css\">\n*{stroke-linecap:butt;stroke-linejoin:round;}\n  </style>\n </defs>\n <g id=\"figure_1\">\n  <g id=\"patch_1\">\n   <path d=\"M 0 261.130625 \nL 380.467187 261.130625 \nL 380.467187 0 \nL 0 0 \nz\n\" style=\"fill:none;\"/>\n  </g>\n  <g id=\"axes_1\">\n   <g id=\"patch_2\">\n    <path d=\"M 38.467188 224.64 \nL 373.267188 224.64 \nL 373.267188 7.2 \nL 38.467188 7.2 \nz\n\" style=\"fill:#ffffff;\"/>\n   </g>\n   <g id=\"matplotlib.axis_1\">\n    <g id=\"xtick_1\">\n     <g id=\"line2d_1\">\n      <defs>\n       <path d=\"M 0 0 \nL 0 3.5 \n\" id=\"m76133ff020\" style=\"stroke:#000000;stroke-width:0.8;\"/>\n      </defs>\n      <g>\n       <use style=\"stroke:#000000;stroke-width:0.8;\" x=\"80.317188\" xlink:href=\"#m76133ff020\" y=\"224.64\"/>\n      </g>\n     </g>\n     <g id=\"text_1\">\n      <!-- C2H2 ZF -->\n      <defs>\n       <path d=\"M 58.796875 25.09375 \nL 68.265625 22.703125 \nQ 65.28125 11.03125 57.546875 4.90625 \nQ 49.8125 -1.21875 38.625 -1.21875 \nQ 27.046875 -1.21875 19.796875 3.484375 \nQ 12.546875 8.203125 8.765625 17.140625 \nQ 4.984375 26.078125 4.984375 36.328125 \nQ 4.984375 47.515625 9.25 55.828125 \nQ 13.53125 64.15625 21.40625 68.46875 \nQ 29.296875 72.796875 38.765625 72.796875 \nQ 49.515625 72.796875 56.828125 67.328125 \nQ 64.15625 61.859375 67.046875 51.953125 \nL 57.71875 49.75 \nQ 55.21875 57.5625 50.484375 61.125 \nQ 45.75 64.703125 38.578125 64.703125 \nQ 30.328125 64.703125 24.78125 60.734375 \nQ 19.234375 56.78125 16.984375 50.109375 \nQ 14.75 43.453125 14.75 36.375 \nQ 14.75 27.25 17.40625 20.4375 \nQ 20.0625 13.625 25.671875 10.25 \nQ 31.296875 6.890625 37.84375 6.890625 \nQ 45.796875 6.890625 51.3125 11.46875 \nQ 56.84375 16.0625 58.796875 25.09375 \nz\n\" id=\"ArialMT-67\"/>\n       <path d=\"M 50.34375 8.453125 \nL 50.34375 0 \nL 3.03125 0 \nQ 2.9375 3.171875 4.046875 6.109375 \nQ 5.859375 10.9375 9.828125 15.625 \nQ 13.8125 20.3125 21.34375 26.46875 \nQ 33.015625 36.03125 37.109375 41.625 \nQ 41.21875 47.21875 41.21875 52.203125 \nQ 41.21875 57.421875 37.46875 61 \nQ 33.734375 64.59375 27.734375 64.59375 \nQ 21.390625 64.59375 17.578125 60.78125 \nQ 13.765625 56.984375 13.71875 50.25 \nL 4.6875 51.171875 \nQ 5.609375 61.28125 11.65625 66.578125 \nQ 17.71875 71.875 27.9375 71.875 \nQ 38.234375 71.875 44.234375 66.15625 \nQ 50.25 60.453125 50.25 52 \nQ 50.25 47.703125 48.484375 43.546875 \nQ 46.734375 39.40625 42.65625 34.8125 \nQ 38.578125 30.21875 29.109375 22.21875 \nQ 21.1875 15.578125 18.9375 13.203125 \nQ 16.703125 10.84375 15.234375 8.453125 \nz\n\" id=\"ArialMT-50\"/>\n       <path d=\"M 8.015625 0 \nL 8.015625 71.578125 \nL 17.484375 71.578125 \nL 17.484375 42.1875 \nL 54.6875 42.1875 \nL 54.6875 71.578125 \nL 64.15625 71.578125 \nL 64.15625 0 \nL 54.6875 0 \nL 54.6875 33.734375 \nL 17.484375 33.734375 \nL 17.484375 0 \nz\n\" id=\"ArialMT-72\"/>\n       <path id=\"ArialMT-32\"/>\n       <path d=\"M 2 0 \nL 2 8.796875 \nL 38.671875 54.640625 \nQ 42.578125 59.515625 46.09375 63.140625 \nL 6.15625 63.140625 \nL 6.15625 71.578125 \nL 57.421875 71.578125 \nL 57.421875 63.140625 \nL 17.234375 13.484375 \nL 12.890625 8.453125 \nL 58.59375 8.453125 \nL 58.59375 0 \nz\n\" id=\"ArialMT-90\"/>\n       <path d=\"M 8.203125 0 \nL 8.203125 71.578125 \nL 56.5 71.578125 \nL 56.5 63.140625 \nL 17.671875 63.140625 \nL 17.671875 40.96875 \nL 51.265625 40.96875 \nL 51.265625 32.515625 \nL 17.671875 32.515625 \nL 17.671875 0 \nz\n\" id=\"ArialMT-70\"/>\n      </defs>\n      <g transform=\"translate(60.0375 238.797812)scale(0.1 -0.1)\">\n       <use xlink:href=\"#ArialMT-67\"/>\n       <use x=\"72.216797\" xlink:href=\"#ArialMT-50\"/>\n       <use x=\"127.832031\" xlink:href=\"#ArialMT-72\"/>\n       <use x=\"200.048828\" xlink:href=\"#ArialMT-50\"/>\n       <use x=\"255.664062\" xlink:href=\"#ArialMT-32\"/>\n       <use x=\"283.447266\" xlink:href=\"#ArialMT-90\"/>\n       <use x=\"344.53125\" xlink:href=\"#ArialMT-70\"/>\n      </g>\n     </g>\n    </g>\n    <g id=\"xtick_2\">\n     <g id=\"line2d_2\">\n      <g>\n       <use style=\"stroke:#000000;stroke-width:0.8;\" x=\"164.017188\" xlink:href=\"#m76133ff020\" y=\"224.64\"/>\n      </g>\n     </g>\n     <g id=\"text_2\">\n      <!-- bHLH -->\n      <defs>\n       <path d=\"M 14.703125 0 \nL 6.546875 0 \nL 6.546875 71.578125 \nL 15.328125 71.578125 \nL 15.328125 46.046875 \nQ 20.90625 53.03125 29.546875 53.03125 \nQ 34.328125 53.03125 38.59375 51.09375 \nQ 42.875 49.171875 45.625 45.671875 \nQ 48.390625 42.1875 49.953125 37.25 \nQ 51.515625 32.328125 51.515625 26.703125 \nQ 51.515625 13.375 44.921875 6.09375 \nQ 38.328125 -1.171875 29.109375 -1.171875 \nQ 19.921875 -1.171875 14.703125 6.5 \nz\nM 14.59375 26.3125 \nQ 14.59375 17 17.140625 12.84375 \nQ 21.296875 6.0625 28.375 6.0625 \nQ 34.125 6.0625 38.328125 11.0625 \nQ 42.53125 16.0625 42.53125 25.984375 \nQ 42.53125 36.140625 38.5 40.96875 \nQ 34.46875 45.796875 28.765625 45.796875 \nQ 23 45.796875 18.796875 40.796875 \nQ 14.59375 35.796875 14.59375 26.3125 \nz\n\" id=\"ArialMT-98\"/>\n       <path d=\"M 7.328125 0 \nL 7.328125 71.578125 \nL 16.796875 71.578125 \nL 16.796875 8.453125 \nL 52.046875 8.453125 \nL 52.046875 0 \nz\n\" id=\"ArialMT-76\"/>\n      </defs>\n      <g transform=\"translate(151.234375 238.797812)scale(0.1 -0.1)\">\n       <use xlink:href=\"#ArialMT-98\"/>\n       <use x=\"55.615234\" xlink:href=\"#ArialMT-72\"/>\n       <use x=\"127.832031\" xlink:href=\"#ArialMT-76\"/>\n       <use x=\"183.447266\" xlink:href=\"#ArialMT-72\"/>\n      </g>\n     </g>\n    </g>\n    <g id=\"xtick_3\">\n     <g id=\"line2d_3\">\n      <g>\n       <use style=\"stroke:#000000;stroke-width:0.8;\" x=\"247.717188\" xlink:href=\"#m76133ff020\" y=\"224.64\"/>\n      </g>\n     </g>\n     <g id=\"text_3\">\n      <!-- Homeodomain -->\n      <defs>\n       <path d=\"M 3.328125 25.921875 \nQ 3.328125 40.328125 11.328125 47.265625 \nQ 18.015625 53.03125 27.640625 53.03125 \nQ 38.328125 53.03125 45.109375 46.015625 \nQ 51.90625 39.015625 51.90625 26.65625 \nQ 51.90625 16.65625 48.90625 10.90625 \nQ 45.90625 5.171875 40.15625 2 \nQ 34.421875 -1.171875 27.640625 -1.171875 \nQ 16.75 -1.171875 10.03125 5.8125 \nQ 3.328125 12.796875 3.328125 25.921875 \nz\nM 12.359375 25.921875 \nQ 12.359375 15.96875 16.703125 11.015625 \nQ 21.046875 6.0625 27.640625 6.0625 \nQ 34.1875 6.0625 38.53125 11.03125 \nQ 42.875 16.015625 42.875 26.21875 \nQ 42.875 35.84375 38.5 40.796875 \nQ 34.125 45.75 27.640625 45.75 \nQ 21.046875 45.75 16.703125 40.8125 \nQ 12.359375 35.890625 12.359375 25.921875 \nz\n\" id=\"ArialMT-111\"/>\n       <path d=\"M 6.59375 0 \nL 6.59375 51.859375 \nL 14.453125 51.859375 \nL 14.453125 44.578125 \nQ 16.890625 48.390625 20.9375 50.703125 \nQ 25 53.03125 30.171875 53.03125 \nQ 35.9375 53.03125 39.625 50.640625 \nQ 43.3125 48.25 44.828125 43.953125 \nQ 50.984375 53.03125 60.84375 53.03125 \nQ 68.5625 53.03125 72.703125 48.75 \nQ 76.859375 44.484375 76.859375 35.59375 \nL 76.859375 0 \nL 68.109375 0 \nL 68.109375 32.671875 \nQ 68.109375 37.9375 67.25 40.25 \nQ 66.40625 42.578125 64.15625 43.984375 \nQ 61.921875 45.40625 58.890625 45.40625 \nQ 53.421875 45.40625 49.796875 41.765625 \nQ 46.1875 38.140625 46.1875 30.125 \nL 46.1875 0 \nL 37.40625 0 \nL 37.40625 33.6875 \nQ 37.40625 39.546875 35.25 42.46875 \nQ 33.109375 45.40625 28.21875 45.40625 \nQ 24.515625 45.40625 21.359375 43.453125 \nQ 18.21875 41.5 16.796875 37.734375 \nQ 15.375 33.984375 15.375 26.90625 \nL 15.375 0 \nz\n\" id=\"ArialMT-109\"/>\n       <path d=\"M 42.09375 16.703125 \nL 51.171875 15.578125 \nQ 49.03125 7.625 43.21875 3.21875 \nQ 37.40625 -1.171875 28.375 -1.171875 \nQ 17 -1.171875 10.328125 5.828125 \nQ 3.65625 12.84375 3.65625 25.484375 \nQ 3.65625 38.578125 10.390625 45.796875 \nQ 17.140625 53.03125 27.875 53.03125 \nQ 38.28125 53.03125 44.875 45.953125 \nQ 51.46875 38.875 51.46875 26.03125 \nQ 51.46875 25.25 51.421875 23.6875 \nL 12.75 23.6875 \nQ 13.234375 15.140625 17.578125 10.59375 \nQ 21.921875 6.0625 28.421875 6.0625 \nQ 33.25 6.0625 36.671875 8.59375 \nQ 40.09375 11.140625 42.09375 16.703125 \nz\nM 13.234375 30.90625 \nL 42.1875 30.90625 \nQ 41.609375 37.453125 38.875 40.71875 \nQ 34.671875 45.796875 27.984375 45.796875 \nQ 21.921875 45.796875 17.796875 41.75 \nQ 13.671875 37.703125 13.234375 30.90625 \nz\n\" id=\"ArialMT-101\"/>\n       <path d=\"M 40.234375 0 \nL 40.234375 6.546875 \nQ 35.296875 -1.171875 25.734375 -1.171875 \nQ 19.53125 -1.171875 14.328125 2.25 \nQ 9.125 5.671875 6.265625 11.796875 \nQ 3.421875 17.921875 3.421875 25.875 \nQ 3.421875 33.640625 6 39.96875 \nQ 8.59375 46.296875 13.765625 49.65625 \nQ 18.953125 53.03125 25.34375 53.03125 \nQ 30.03125 53.03125 33.6875 51.046875 \nQ 37.359375 49.078125 39.65625 45.90625 \nL 39.65625 71.578125 \nL 48.390625 71.578125 \nL 48.390625 0 \nz\nM 12.453125 25.875 \nQ 12.453125 15.921875 16.640625 10.984375 \nQ 20.84375 6.0625 26.5625 6.0625 \nQ 32.328125 6.0625 36.34375 10.765625 \nQ 40.375 15.484375 40.375 25.140625 \nQ 40.375 35.796875 36.265625 40.765625 \nQ 32.171875 45.75 26.171875 45.75 \nQ 20.3125 45.75 16.375 40.96875 \nQ 12.453125 36.1875 12.453125 25.875 \nz\n\" id=\"ArialMT-100\"/>\n       <path d=\"M 40.4375 6.390625 \nQ 35.546875 2.25 31.03125 0.53125 \nQ 26.515625 -1.171875 21.34375 -1.171875 \nQ 12.796875 -1.171875 8.203125 3 \nQ 3.609375 7.171875 3.609375 13.671875 \nQ 3.609375 17.484375 5.34375 20.625 \nQ 7.078125 23.78125 9.890625 25.6875 \nQ 12.703125 27.59375 16.21875 28.5625 \nQ 18.796875 29.25 24.03125 29.890625 \nQ 34.671875 31.15625 39.703125 32.90625 \nQ 39.75 34.71875 39.75 35.203125 \nQ 39.75 40.578125 37.25 42.78125 \nQ 33.890625 45.75 27.25 45.75 \nQ 21.046875 45.75 18.09375 43.578125 \nQ 15.140625 41.40625 13.71875 35.890625 \nL 5.125 37.0625 \nQ 6.296875 42.578125 8.984375 45.96875 \nQ 11.671875 49.359375 16.75 51.1875 \nQ 21.828125 53.03125 28.515625 53.03125 \nQ 35.15625 53.03125 39.296875 51.46875 \nQ 43.453125 49.90625 45.40625 47.53125 \nQ 47.359375 45.171875 48.140625 41.546875 \nQ 48.578125 39.3125 48.578125 33.453125 \nL 48.578125 21.734375 \nQ 48.578125 9.46875 49.140625 6.21875 \nQ 49.703125 2.984375 51.375 0 \nL 42.1875 0 \nQ 40.828125 2.734375 40.4375 6.390625 \nz\nM 39.703125 26.03125 \nQ 34.90625 24.078125 25.34375 22.703125 \nQ 19.921875 21.921875 17.671875 20.9375 \nQ 15.4375 19.96875 14.203125 18.09375 \nQ 12.984375 16.21875 12.984375 13.921875 \nQ 12.984375 10.40625 15.640625 8.0625 \nQ 18.3125 5.71875 23.4375 5.71875 \nQ 28.515625 5.71875 32.46875 7.9375 \nQ 36.421875 10.15625 38.28125 14.015625 \nQ 39.703125 17 39.703125 22.796875 \nz\n\" id=\"ArialMT-97\"/>\n       <path d=\"M 6.640625 61.46875 \nL 6.640625 71.578125 \nL 15.4375 71.578125 \nL 15.4375 61.46875 \nz\nM 6.640625 0 \nL 6.640625 51.859375 \nL 15.4375 51.859375 \nL 15.4375 0 \nz\n\" id=\"ArialMT-105\"/>\n       <path d=\"M 6.59375 0 \nL 6.59375 51.859375 \nL 14.5 51.859375 \nL 14.5 44.484375 \nQ 20.21875 53.03125 31 53.03125 \nQ 35.6875 53.03125 39.625 51.34375 \nQ 43.5625 49.65625 45.515625 46.921875 \nQ 47.46875 44.1875 48.25 40.4375 \nQ 48.734375 37.984375 48.734375 31.890625 \nL 48.734375 0 \nL 39.9375 0 \nL 39.9375 31.546875 \nQ 39.9375 36.921875 38.90625 39.578125 \nQ 37.890625 42.234375 35.28125 43.8125 \nQ 32.671875 45.40625 29.15625 45.40625 \nQ 23.53125 45.40625 19.453125 41.84375 \nQ 15.375 38.28125 15.375 28.328125 \nL 15.375 0 \nz\n\" id=\"ArialMT-110\"/>\n      </defs>\n      <g transform=\"translate(215.202344 238.797812)scale(0.1 -0.1)\">\n       <use xlink:href=\"#ArialMT-72\"/>\n       <use x=\"72.216797\" xlink:href=\"#ArialMT-111\"/>\n       <use x=\"127.832031\" xlink:href=\"#ArialMT-109\"/>\n       <use x=\"211.132812\" xlink:href=\"#ArialMT-101\"/>\n       <use x=\"266.748047\" xlink:href=\"#ArialMT-111\"/>\n       <use x=\"322.363281\" xlink:href=\"#ArialMT-100\"/>\n       <use x=\"377.978516\" xlink:href=\"#ArialMT-111\"/>\n       <use x=\"433.59375\" xlink:href=\"#ArialMT-109\"/>\n       <use x=\"516.894531\" xlink:href=\"#ArialMT-97\"/>\n       <use x=\"572.509766\" xlink:href=\"#ArialMT-105\"/>\n       <use x=\"594.726562\" xlink:href=\"#ArialMT-110\"/>\n      </g>\n     </g>\n    </g>\n    <g id=\"xtick_4\">\n     <g id=\"line2d_4\">\n      <g>\n       <use style=\"stroke:#000000;stroke-width:0.8;\" x=\"331.417188\" xlink:href=\"#m76133ff020\" y=\"224.64\"/>\n      </g>\n     </g>\n     <g id=\"text_4\">\n      <!-- Nuclear receptor -->\n      <defs>\n       <path d=\"M 7.625 0 \nL 7.625 71.578125 \nL 17.328125 71.578125 \nL 54.9375 15.375 \nL 54.9375 71.578125 \nL 64.015625 71.578125 \nL 64.015625 0 \nL 54.296875 0 \nL 16.703125 56.25 \nL 16.703125 0 \nz\n\" id=\"ArialMT-78\"/>\n       <path d=\"M 40.578125 0 \nL 40.578125 7.625 \nQ 34.515625 -1.171875 24.125 -1.171875 \nQ 19.53125 -1.171875 15.546875 0.578125 \nQ 11.578125 2.34375 9.640625 5 \nQ 7.71875 7.671875 6.9375 11.53125 \nQ 6.390625 14.109375 6.390625 19.734375 \nL 6.390625 51.859375 \nL 15.1875 51.859375 \nL 15.1875 23.09375 \nQ 15.1875 16.21875 15.71875 13.8125 \nQ 16.546875 10.359375 19.234375 8.375 \nQ 21.921875 6.390625 25.875 6.390625 \nQ 29.828125 6.390625 33.296875 8.421875 \nQ 36.765625 10.453125 38.203125 13.9375 \nQ 39.65625 17.4375 39.65625 24.078125 \nL 39.65625 51.859375 \nL 48.4375 51.859375 \nL 48.4375 0 \nz\n\" id=\"ArialMT-117\"/>\n       <path d=\"M 40.4375 19 \nL 49.078125 17.875 \nQ 47.65625 8.9375 41.8125 3.875 \nQ 35.984375 -1.171875 27.484375 -1.171875 \nQ 16.84375 -1.171875 10.375 5.78125 \nQ 3.90625 12.75 3.90625 25.734375 \nQ 3.90625 34.125 6.6875 40.421875 \nQ 9.46875 46.734375 15.15625 49.875 \nQ 20.84375 53.03125 27.546875 53.03125 \nQ 35.984375 53.03125 41.359375 48.75 \nQ 46.734375 44.484375 48.25 36.625 \nL 39.703125 35.296875 \nQ 38.484375 40.53125 35.375 43.15625 \nQ 32.28125 45.796875 27.875 45.796875 \nQ 21.234375 45.796875 17.078125 41.03125 \nQ 12.9375 36.28125 12.9375 25.984375 \nQ 12.9375 15.53125 16.9375 10.796875 \nQ 20.953125 6.0625 27.390625 6.0625 \nQ 32.5625 6.0625 36.03125 9.234375 \nQ 39.5 12.40625 40.4375 19 \nz\n\" id=\"ArialMT-99\"/>\n       <path d=\"M 6.390625 0 \nL 6.390625 71.578125 \nL 15.1875 71.578125 \nL 15.1875 0 \nz\n\" id=\"ArialMT-108\"/>\n       <path d=\"M 6.5 0 \nL 6.5 51.859375 \nL 14.40625 51.859375 \nL 14.40625 44 \nQ 17.4375 49.515625 20 51.265625 \nQ 22.5625 53.03125 25.640625 53.03125 \nQ 30.078125 53.03125 34.671875 50.203125 \nL 31.640625 42.046875 \nQ 28.421875 43.953125 25.203125 43.953125 \nQ 22.3125 43.953125 20.015625 42.21875 \nQ 17.71875 40.484375 16.75 37.40625 \nQ 15.28125 32.71875 15.28125 27.15625 \nL 15.28125 0 \nz\n\" id=\"ArialMT-114\"/>\n       <path d=\"M 6.59375 -19.875 \nL 6.59375 51.859375 \nL 14.59375 51.859375 \nL 14.59375 45.125 \nQ 17.4375 49.078125 21 51.046875 \nQ 24.5625 53.03125 29.640625 53.03125 \nQ 36.28125 53.03125 41.359375 49.609375 \nQ 46.4375 46.1875 49.015625 39.953125 \nQ 51.609375 33.734375 51.609375 26.3125 \nQ 51.609375 18.359375 48.75 11.984375 \nQ 45.90625 5.609375 40.453125 2.21875 \nQ 35.015625 -1.171875 29 -1.171875 \nQ 24.609375 -1.171875 21.109375 0.6875 \nQ 17.625 2.546875 15.375 5.375 \nL 15.375 -19.875 \nz\nM 14.546875 25.640625 \nQ 14.546875 15.625 18.59375 10.84375 \nQ 22.65625 6.0625 28.421875 6.0625 \nQ 34.28125 6.0625 38.453125 11.015625 \nQ 42.625 15.96875 42.625 26.375 \nQ 42.625 36.28125 38.546875 41.203125 \nQ 34.46875 46.140625 28.8125 46.140625 \nQ 23.1875 46.140625 18.859375 40.890625 \nQ 14.546875 35.640625 14.546875 25.640625 \nz\n\" id=\"ArialMT-112\"/>\n       <path d=\"M 25.78125 7.859375 \nL 27.046875 0.09375 \nQ 23.34375 -0.6875 20.40625 -0.6875 \nQ 15.625 -0.6875 12.984375 0.828125 \nQ 10.359375 2.34375 9.28125 4.8125 \nQ 8.203125 7.28125 8.203125 15.1875 \nL 8.203125 45.015625 \nL 1.765625 45.015625 \nL 1.765625 51.859375 \nL 8.203125 51.859375 \nL 8.203125 64.703125 \nL 16.9375 69.96875 \nL 16.9375 51.859375 \nL 25.78125 51.859375 \nL 25.78125 45.015625 \nL 16.9375 45.015625 \nL 16.9375 14.703125 \nQ 16.9375 10.9375 17.40625 9.859375 \nQ 17.875 8.796875 18.921875 8.15625 \nQ 19.96875 7.515625 21.921875 7.515625 \nQ 23.390625 7.515625 25.78125 7.859375 \nz\n\" id=\"ArialMT-116\"/>\n      </defs>\n      <g transform=\"translate(294.459375 238.797812)scale(0.1 -0.1)\">\n       <use xlink:href=\"#ArialMT-78\"/>\n       <use x=\"72.216797\" xlink:href=\"#ArialMT-117\"/>\n       <use x=\"127.832031\" xlink:href=\"#ArialMT-99\"/>\n       <use x=\"177.832031\" xlink:href=\"#ArialMT-108\"/>\n       <use x=\"200.048828\" xlink:href=\"#ArialMT-101\"/>\n       <use x=\"255.664062\" xlink:href=\"#ArialMT-97\"/>\n       <use x=\"311.279297\" xlink:href=\"#ArialMT-114\"/>\n       <use x=\"344.580078\" xlink:href=\"#ArialMT-32\"/>\n       <use x=\"372.363281\" xlink:href=\"#ArialMT-114\"/>\n       <use x=\"405.664062\" xlink:href=\"#ArialMT-101\"/>\n       <use x=\"461.279297\" xlink:href=\"#ArialMT-99\"/>\n       <use x=\"511.279297\" xlink:href=\"#ArialMT-101\"/>\n       <use x=\"566.894531\" xlink:href=\"#ArialMT-112\"/>\n       <use x=\"622.509766\" xlink:href=\"#ArialMT-116\"/>\n       <use x=\"650.292969\" xlink:href=\"#ArialMT-111\"/>\n       <use x=\"705.908203\" xlink:href=\"#ArialMT-114\"/>\n      </g>\n     </g>\n    </g>\n    <g id=\"text_5\">\n     <!-- DBD -->\n     <defs>\n      <path d=\"M 7.71875 0 \nL 7.71875 71.578125 \nL 32.375 71.578125 \nQ 40.71875 71.578125 45.125 70.5625 \nQ 51.265625 69.140625 55.609375 65.4375 \nQ 61.28125 60.640625 64.078125 53.1875 \nQ 66.890625 45.75 66.890625 36.1875 \nQ 66.890625 28.03125 64.984375 21.734375 \nQ 63.09375 15.4375 60.109375 11.296875 \nQ 57.125 7.171875 53.578125 4.796875 \nQ 50.046875 2.4375 45.046875 1.21875 \nQ 40.046875 0 33.546875 0 \nz\nM 17.1875 8.453125 \nL 32.46875 8.453125 \nQ 39.546875 8.453125 43.578125 9.765625 \nQ 47.609375 11.078125 50 13.484375 \nQ 53.375 16.84375 55.25 22.53125 \nQ 57.125 28.21875 57.125 36.328125 \nQ 57.125 47.5625 53.4375 53.59375 \nQ 49.75 59.625 44.484375 61.671875 \nQ 40.671875 63.140625 32.234375 63.140625 \nL 17.1875 63.140625 \nz\n\" id=\"ArialMT-68\"/>\n      <path d=\"M 7.328125 0 \nL 7.328125 71.578125 \nL 34.1875 71.578125 \nQ 42.390625 71.578125 47.34375 69.40625 \nQ 52.296875 67.234375 55.09375 62.71875 \nQ 57.90625 58.203125 57.90625 53.265625 \nQ 57.90625 48.6875 55.421875 44.625 \nQ 52.9375 40.578125 47.90625 38.09375 \nQ 54.390625 36.1875 57.875 31.59375 \nQ 61.375 27 61.375 20.75 \nQ 61.375 15.71875 59.25 11.390625 \nQ 57.125 7.078125 54 4.734375 \nQ 50.875 2.390625 46.15625 1.1875 \nQ 41.453125 0 34.625 0 \nz\nM 16.796875 41.5 \nL 32.28125 41.5 \nQ 38.578125 41.5 41.3125 42.328125 \nQ 44.921875 43.40625 46.75 45.890625 \nQ 48.578125 48.390625 48.578125 52.15625 \nQ 48.578125 55.71875 46.875 58.421875 \nQ 45.171875 61.140625 41.984375 62.140625 \nQ 38.8125 63.140625 31.109375 63.140625 \nL 16.796875 63.140625 \nz\nM 16.796875 8.453125 \nL 34.625 8.453125 \nQ 39.203125 8.453125 41.0625 8.796875 \nQ 44.34375 9.375 46.53125 10.734375 \nQ 48.734375 12.109375 50.140625 14.71875 \nQ 51.5625 17.328125 51.5625 20.75 \nQ 51.5625 24.75 49.515625 27.703125 \nQ 47.46875 30.671875 43.828125 31.859375 \nQ 40.1875 33.0625 33.34375 33.0625 \nL 16.796875 33.0625 \nz\n\" id=\"ArialMT-66\"/>\n     </defs>\n     <g transform=\"translate(195.310156 251.943125)scale(0.1 -0.1)\">\n      <use xlink:href=\"#ArialMT-68\"/>\n      <use x=\"72.216797\" xlink:href=\"#ArialMT-66\"/>\n      <use x=\"138.916016\" xlink:href=\"#ArialMT-68\"/>\n     </g>\n    </g>\n   </g>\n   <g id=\"matplotlib.axis_2\">\n    <g id=\"ytick_1\">\n     <g id=\"line2d_5\">\n      <defs>\n       <path d=\"M 0 0 \nL -3.5 0 \n\" id=\"mb27733ba01\" style=\"stroke:#000000;stroke-width:0.8;\"/>\n      </defs>\n      <g>\n       <use style=\"stroke:#000000;stroke-width:0.8;\" x=\"38.467188\" xlink:href=\"#mb27733ba01\" y=\"214.756364\"/>\n      </g>\n     </g>\n     <g id=\"text_6\">\n      <!-- 0 -->\n      <defs>\n       <path d=\"M 4.15625 35.296875 \nQ 4.15625 48 6.765625 55.734375 \nQ 9.375 63.484375 14.515625 67.671875 \nQ 19.671875 71.875 27.484375 71.875 \nQ 33.25 71.875 37.59375 69.546875 \nQ 41.9375 67.234375 44.765625 62.859375 \nQ 47.609375 58.5 49.21875 52.21875 \nQ 50.828125 45.953125 50.828125 35.296875 \nQ 50.828125 22.703125 48.234375 14.96875 \nQ 45.65625 7.234375 40.5 3 \nQ 35.359375 -1.21875 27.484375 -1.21875 \nQ 17.140625 -1.21875 11.234375 6.203125 \nQ 4.15625 15.140625 4.15625 35.296875 \nz\nM 13.1875 35.296875 \nQ 13.1875 17.671875 17.3125 11.828125 \nQ 21.4375 6 27.484375 6 \nQ 33.546875 6 37.671875 11.859375 \nQ 41.796875 17.71875 41.796875 35.296875 \nQ 41.796875 52.984375 37.671875 58.78125 \nQ 33.546875 64.59375 27.390625 64.59375 \nQ 21.34375 64.59375 17.71875 59.46875 \nQ 13.1875 52.9375 13.1875 35.296875 \nz\n\" id=\"ArialMT-48\"/>\n      </defs>\n      <g transform=\"translate(25.90625 218.33527)scale(0.1 -0.1)\">\n       <use xlink:href=\"#ArialMT-48\"/>\n      </g>\n     </g>\n    </g>\n    <g id=\"ytick_2\">\n     <g id=\"line2d_6\">\n      <g>\n       <use style=\"stroke:#000000;stroke-width:0.8;\" x=\"38.467188\" xlink:href=\"#mb27733ba01\" y=\"179.457662\"/>\n      </g>\n     </g>\n     <g id=\"text_7\">\n      <!-- 5 -->\n      <defs>\n       <path d=\"M 4.15625 18.75 \nL 13.375 19.53125 \nQ 14.40625 12.796875 18.140625 9.390625 \nQ 21.875 6 27.15625 6 \nQ 33.5 6 37.890625 10.78125 \nQ 42.28125 15.578125 42.28125 23.484375 \nQ 42.28125 31 38.0625 35.34375 \nQ 33.84375 39.703125 27 39.703125 \nQ 22.75 39.703125 19.328125 37.765625 \nQ 15.921875 35.84375 13.96875 32.765625 \nL 5.71875 33.84375 \nL 12.640625 70.609375 \nL 48.25 70.609375 \nL 48.25 62.203125 \nL 19.671875 62.203125 \nL 15.828125 42.96875 \nQ 22.265625 47.46875 29.34375 47.46875 \nQ 38.71875 47.46875 45.15625 40.96875 \nQ 51.609375 34.46875 51.609375 24.265625 \nQ 51.609375 14.546875 45.953125 7.46875 \nQ 39.0625 -1.21875 27.15625 -1.21875 \nQ 17.390625 -1.21875 11.203125 4.25 \nQ 5.03125 9.71875 4.15625 18.75 \nz\n\" id=\"ArialMT-53\"/>\n      </defs>\n      <g transform=\"translate(25.90625 183.036569)scale(0.1 -0.1)\">\n       <use xlink:href=\"#ArialMT-53\"/>\n      </g>\n     </g>\n    </g>\n    <g id=\"ytick_3\">\n     <g id=\"line2d_7\">\n      <g>\n       <use style=\"stroke:#000000;stroke-width:0.8;\" x=\"38.467188\" xlink:href=\"#mb27733ba01\" y=\"144.158961\"/>\n      </g>\n     </g>\n     <g id=\"text_8\">\n      <!-- 10 -->\n      <defs>\n       <path d=\"M 37.25 0 \nL 28.46875 0 \nL 28.46875 56 \nQ 25.296875 52.984375 20.140625 49.953125 \nQ 14.984375 46.921875 10.890625 45.40625 \nL 10.890625 53.90625 \nQ 18.265625 57.375 23.78125 62.296875 \nQ 29.296875 67.234375 31.59375 71.875 \nL 37.25 71.875 \nz\n\" id=\"ArialMT-49\"/>\n      </defs>\n      <g transform=\"translate(20.345313 147.737867)scale(0.1 -0.1)\">\n       <use xlink:href=\"#ArialMT-49\"/>\n       <use x=\"55.615234\" xlink:href=\"#ArialMT-48\"/>\n      </g>\n     </g>\n    </g>\n    <g id=\"ytick_4\">\n     <g id=\"line2d_8\">\n      <g>\n       <use style=\"stroke:#000000;stroke-width:0.8;\" x=\"38.467188\" xlink:href=\"#mb27733ba01\" y=\"108.86026\"/>\n      </g>\n     </g>\n     <g id=\"text_9\">\n      <!-- 15 -->\n      <g transform=\"translate(20.345313 112.439166)scale(0.1 -0.1)\">\n       <use xlink:href=\"#ArialMT-49\"/>\n       <use x=\"55.615234\" xlink:href=\"#ArialMT-53\"/>\n      </g>\n     </g>\n    </g>\n    <g id=\"ytick_5\">\n     <g id=\"line2d_9\">\n      <g>\n       <use style=\"stroke:#000000;stroke-width:0.8;\" x=\"38.467188\" xlink:href=\"#mb27733ba01\" y=\"73.561558\"/>\n      </g>\n     </g>\n     <g id=\"text_10\">\n      <!-- 20 -->\n      <g transform=\"translate(20.345313 77.140465)scale(0.1 -0.1)\">\n       <use xlink:href=\"#ArialMT-50\"/>\n       <use x=\"55.615234\" xlink:href=\"#ArialMT-48\"/>\n      </g>\n     </g>\n    </g>\n    <g id=\"ytick_6\">\n     <g id=\"line2d_10\">\n      <g>\n       <use style=\"stroke:#000000;stroke-width:0.8;\" x=\"38.467188\" xlink:href=\"#mb27733ba01\" y=\"38.262857\"/>\n      </g>\n     </g>\n     <g id=\"text_11\">\n      <!-- 25 -->\n      <g transform=\"translate(20.345313 41.841763)scale(0.1 -0.1)\">\n       <use xlink:href=\"#ArialMT-50\"/>\n       <use x=\"55.615234\" xlink:href=\"#ArialMT-53\"/>\n      </g>\n     </g>\n    </g>\n    <g id=\"text_12\">\n     <!-- n_pdi -->\n     <defs>\n      <path d=\"M -1.515625 -19.875 \nL -1.515625 -13.53125 \nL 56.734375 -13.53125 \nL 56.734375 -19.875 \nz\n\" id=\"ArialMT-95\"/>\n     </defs>\n     <g transform=\"translate(14.357813 128.152812)rotate(-90)scale(0.1 -0.1)\">\n      <use xlink:href=\"#ArialMT-110\"/>\n      <use x=\"55.615234\" xlink:href=\"#ArialMT-95\"/>\n      <use x=\"111.230469\" xlink:href=\"#ArialMT-112\"/>\n      <use x=\"166.845703\" xlink:href=\"#ArialMT-100\"/>\n      <use x=\"222.460938\" xlink:href=\"#ArialMT-105\"/>\n     </g>\n    </g>\n   </g>\n   <g id=\"patch_3\">\n    <path d=\"M 38.467188 224.64 \nL 38.467188 7.2 \n\" style=\"fill:none;stroke:#000000;stroke-linecap:square;stroke-linejoin:miter;stroke-width:0.8;\"/>\n   </g>\n   <g id=\"patch_4\">\n    <path d=\"M 373.267188 224.64 \nL 373.267188 7.2 \n\" style=\"fill:none;stroke:#000000;stroke-linecap:square;stroke-linejoin:miter;stroke-width:0.8;\"/>\n   </g>\n   <g id=\"patch_5\">\n    <path d=\"M 38.467188 224.64 \nL 373.267187 224.64 \n\" style=\"fill:none;stroke:#000000;stroke-linecap:square;stroke-linejoin:miter;stroke-width:0.8;\"/>\n   </g>\n   <g id=\"patch_6\">\n    <path d=\"M 38.467188 7.2 \nL 373.267187 7.2 \n\" style=\"fill:none;stroke:#000000;stroke-linecap:square;stroke-linejoin:miter;stroke-width:0.8;\"/>\n   </g>\n   <g id=\"PathCollection_1\">\n    <defs>\n     <path d=\"M 0 2.5 \nC 0.663008 2.5 1.29895 2.236584 1.767767 1.767767 \nC 2.236584 1.29895 2.5 0.663008 2.5 0 \nC 2.5 -0.663008 2.236584 -1.29895 1.767767 -1.767767 \nC 1.29895 -2.236584 0.663008 -2.5 0 -2.5 \nC -0.663008 -2.5 -1.29895 -2.236584 -1.767767 -1.767767 \nC -2.236584 -1.29895 -2.5 -0.663008 -2.5 0 \nC -2.5 0.663008 -2.236584 1.29895 -1.767767 1.767767 \nC -1.29895 2.236584 -0.663008 2.5 0 2.5 \nz\n\" id=\"C0_0_93c6618d21\"/>\n    </defs>\n    <g clip-path=\"url(#pbb9b8be41f)\">\n     <use style=\"fill:#1f77b4;\" x=\"80.317188\" xlink:href=\"#C0_0_93c6618d21\" y=\"214.756364\"/>\n    </g>\n    <g clip-path=\"url(#pbb9b8be41f)\">\n     <use style=\"fill:#1f77b4;\" x=\"75.067188\" xlink:href=\"#C0_0_93c6618d21\" y=\"214.756364\"/>\n    </g>\n    <g clip-path=\"url(#pbb9b8be41f)\">\n     <use style=\"fill:#1f77b4;\" x=\"85.567188\" xlink:href=\"#C0_0_93c6618d21\" y=\"214.756364\"/>\n    </g>\n    <g clip-path=\"url(#pbb9b8be41f)\">\n     <use style=\"fill:#1f77b4;\" x=\"69.817188\" xlink:href=\"#C0_0_93c6618d21\" y=\"214.756364\"/>\n    </g>\n    <g clip-path=\"url(#pbb9b8be41f)\">\n     <use style=\"fill:#1f77b4;\" x=\"90.817188\" xlink:href=\"#C0_0_93c6618d21\" y=\"214.756364\"/>\n    </g>\n    <g clip-path=\"url(#pbb9b8be41f)\">\n     <use style=\"fill:#1f77b4;\" x=\"64.567188\" xlink:href=\"#C0_0_93c6618d21\" y=\"214.756364\"/>\n    </g>\n    <g clip-path=\"url(#pbb9b8be41f)\">\n     <use style=\"fill:#1f77b4;\" x=\"96.067188\" xlink:href=\"#C0_0_93c6618d21\" y=\"214.756364\"/>\n    </g>\n    <g clip-path=\"url(#pbb9b8be41f)\">\n     <use style=\"fill:#1f77b4;\" x=\"59.317188\" xlink:href=\"#C0_0_93c6618d21\" y=\"214.756364\"/>\n    </g>\n    <g clip-path=\"url(#pbb9b8be41f)\">\n     <use style=\"fill:#1f77b4;\" x=\"101.317188\" xlink:href=\"#C0_0_93c6618d21\" y=\"214.756364\"/>\n    </g>\n    <g clip-path=\"url(#pbb9b8be41f)\">\n     <use style=\"fill:#1f77b4;\" x=\"80.317188\" xlink:href=\"#C0_0_93c6618d21\" y=\"207.696623\"/>\n    </g>\n    <g clip-path=\"url(#pbb9b8be41f)\">\n     <use style=\"fill:#1f77b4;\" x=\"75.067188\" xlink:href=\"#C0_0_93c6618d21\" y=\"207.696623\"/>\n    </g>\n    <g clip-path=\"url(#pbb9b8be41f)\">\n     <use style=\"fill:#1f77b4;\" x=\"85.567188\" xlink:href=\"#C0_0_93c6618d21\" y=\"207.696623\"/>\n    </g>\n    <g clip-path=\"url(#pbb9b8be41f)\">\n     <use style=\"fill:#1f77b4;\" x=\"69.817188\" xlink:href=\"#C0_0_93c6618d21\" y=\"207.696623\"/>\n    </g>\n    <g clip-path=\"url(#pbb9b8be41f)\">\n     <use style=\"fill:#1f77b4;\" x=\"90.817188\" xlink:href=\"#C0_0_93c6618d21\" y=\"207.696623\"/>\n    </g>\n    <g clip-path=\"url(#pbb9b8be41f)\">\n     <use style=\"fill:#1f77b4;\" x=\"64.567188\" xlink:href=\"#C0_0_93c6618d21\" y=\"207.696623\"/>\n    </g>\n    <g clip-path=\"url(#pbb9b8be41f)\">\n     <use style=\"fill:#1f77b4;\" x=\"96.067188\" xlink:href=\"#C0_0_93c6618d21\" y=\"207.696623\"/>\n    </g>\n    <g clip-path=\"url(#pbb9b8be41f)\">\n     <use style=\"fill:#1f77b4;\" x=\"59.317188\" xlink:href=\"#C0_0_93c6618d21\" y=\"207.696623\"/>\n    </g>\n    <g clip-path=\"url(#pbb9b8be41f)\">\n     <use style=\"fill:#1f77b4;\" x=\"101.317188\" xlink:href=\"#C0_0_93c6618d21\" y=\"207.696623\"/>\n    </g>\n    <g clip-path=\"url(#pbb9b8be41f)\">\n     <use style=\"fill:#1f77b4;\" x=\"54.067188\" xlink:href=\"#C0_0_93c6618d21\" y=\"207.696623\"/>\n    </g>\n    <g clip-path=\"url(#pbb9b8be41f)\">\n     <use style=\"fill:#1f77b4;\" x=\"106.567188\" xlink:href=\"#C0_0_93c6618d21\" y=\"207.696623\"/>\n    </g>\n    <g clip-path=\"url(#pbb9b8be41f)\">\n     <use style=\"fill:#1f77b4;\" x=\"48.817188\" xlink:href=\"#C0_0_93c6618d21\" y=\"207.696623\"/>\n    </g>\n    <g clip-path=\"url(#pbb9b8be41f)\">\n     <use style=\"fill:#1f77b4;\" x=\"80.317188\" xlink:href=\"#C0_0_93c6618d21\" y=\"200.636883\"/>\n    </g>\n    <g clip-path=\"url(#pbb9b8be41f)\">\n     <use style=\"fill:#1f77b4;\" x=\"75.067188\" xlink:href=\"#C0_0_93c6618d21\" y=\"200.636883\"/>\n    </g>\n    <g clip-path=\"url(#pbb9b8be41f)\">\n     <use style=\"fill:#1f77b4;\" x=\"80.317188\" xlink:href=\"#C0_0_93c6618d21\" y=\"186.517403\"/>\n    </g>\n    <g clip-path=\"url(#pbb9b8be41f)\">\n     <use style=\"fill:#1f77b4;\" x=\"75.067188\" xlink:href=\"#C0_0_93c6618d21\" y=\"186.517403\"/>\n    </g>\n    <g clip-path=\"url(#pbb9b8be41f)\">\n     <use style=\"fill:#1f77b4;\" x=\"85.567188\" xlink:href=\"#C0_0_93c6618d21\" y=\"186.517403\"/>\n    </g>\n    <g clip-path=\"url(#pbb9b8be41f)\">\n     <use style=\"fill:#1f77b4;\" x=\"69.817188\" xlink:href=\"#C0_0_93c6618d21\" y=\"186.517403\"/>\n    </g>\n    <g clip-path=\"url(#pbb9b8be41f)\">\n     <use style=\"fill:#1f77b4;\" x=\"90.817188\" xlink:href=\"#C0_0_93c6618d21\" y=\"186.517403\"/>\n    </g>\n    <g clip-path=\"url(#pbb9b8be41f)\">\n     <use style=\"fill:#1f77b4;\" x=\"80.317188\" xlink:href=\"#C0_0_93c6618d21\" y=\"179.457662\"/>\n    </g>\n    <g clip-path=\"url(#pbb9b8be41f)\">\n     <use style=\"fill:#1f77b4;\" x=\"80.317188\" xlink:href=\"#C0_0_93c6618d21\" y=\"151.218701\"/>\n    </g>\n    <g clip-path=\"url(#pbb9b8be41f)\">\n     <use style=\"fill:#1f77b4;\" x=\"80.317188\" xlink:href=\"#C0_0_93c6618d21\" y=\"144.158961\"/>\n    </g>\n    <g clip-path=\"url(#pbb9b8be41f)\">\n     <use style=\"fill:#1f77b4;\" x=\"80.317188\" xlink:href=\"#C0_0_93c6618d21\" y=\"137.099221\"/>\n    </g>\n    <g clip-path=\"url(#pbb9b8be41f)\">\n     <use style=\"fill:#1f77b4;\" x=\"80.317188\" xlink:href=\"#C0_0_93c6618d21\" y=\"122.97974\"/>\n    </g>\n    <g clip-path=\"url(#pbb9b8be41f)\">\n     <use style=\"fill:#1f77b4;\" x=\"75.067188\" xlink:href=\"#C0_0_93c6618d21\" y=\"122.97974\"/>\n    </g>\n    <g clip-path=\"url(#pbb9b8be41f)\">\n     <use style=\"fill:#1f77b4;\" x=\"80.317188\" xlink:href=\"#C0_0_93c6618d21\" y=\"94.740779\"/>\n    </g>\n   </g>\n   <g id=\"PathCollection_2\">\n    <defs>\n     <path d=\"M 0 2.5 \nC 0.663008 2.5 1.29895 2.236584 1.767767 1.767767 \nC 2.236584 1.29895 2.5 0.663008 2.5 0 \nC 2.5 -0.663008 2.236584 -1.29895 1.767767 -1.767767 \nC 1.29895 -2.236584 0.663008 -2.5 0 -2.5 \nC -0.663008 -2.5 -1.29895 -2.236584 -1.767767 -1.767767 \nC -2.236584 -1.29895 -2.5 -0.663008 -2.5 0 \nC -2.5 0.663008 -2.236584 1.29895 -1.767767 1.767767 \nC -1.29895 2.236584 -0.663008 2.5 0 2.5 \nz\n\" id=\"C1_0_d1f686372d\"/>\n    </defs>\n    <g clip-path=\"url(#pbb9b8be41f)\">\n     <use style=\"fill:#ff7f0e;\" x=\"164.017188\" xlink:href=\"#C1_0_d1f686372d\" y=\"214.756364\"/>\n    </g>\n    <g clip-path=\"url(#pbb9b8be41f)\">\n     <use style=\"fill:#ff7f0e;\" x=\"158.767188\" xlink:href=\"#C1_0_d1f686372d\" y=\"214.756364\"/>\n    </g>\n    <g clip-path=\"url(#pbb9b8be41f)\">\n     <use style=\"fill:#ff7f0e;\" x=\"169.267188\" xlink:href=\"#C1_0_d1f686372d\" y=\"214.756364\"/>\n    </g>\n    <g clip-path=\"url(#pbb9b8be41f)\">\n     <use style=\"fill:#ff7f0e;\" x=\"153.517188\" xlink:href=\"#C1_0_d1f686372d\" y=\"214.756364\"/>\n    </g>\n    <g clip-path=\"url(#pbb9b8be41f)\">\n     <use style=\"fill:#ff7f0e;\" x=\"174.517188\" xlink:href=\"#C1_0_d1f686372d\" y=\"214.756364\"/>\n    </g>\n    <g clip-path=\"url(#pbb9b8be41f)\">\n     <use style=\"fill:#ff7f0e;\" x=\"164.017188\" xlink:href=\"#C1_0_d1f686372d\" y=\"207.696623\"/>\n    </g>\n    <g clip-path=\"url(#pbb9b8be41f)\">\n     <use style=\"fill:#ff7f0e;\" x=\"158.767188\" xlink:href=\"#C1_0_d1f686372d\" y=\"207.696623\"/>\n    </g>\n    <g clip-path=\"url(#pbb9b8be41f)\">\n     <use style=\"fill:#ff7f0e;\" x=\"164.017188\" xlink:href=\"#C1_0_d1f686372d\" y=\"200.636883\"/>\n    </g>\n    <g clip-path=\"url(#pbb9b8be41f)\">\n     <use style=\"fill:#ff7f0e;\" x=\"164.017188\" xlink:href=\"#C1_0_d1f686372d\" y=\"193.577143\"/>\n    </g>\n    <g clip-path=\"url(#pbb9b8be41f)\">\n     <use style=\"fill:#ff7f0e;\" x=\"164.017188\" xlink:href=\"#C1_0_d1f686372d\" y=\"179.457662\"/>\n    </g>\n    <g clip-path=\"url(#pbb9b8be41f)\">\n     <use style=\"fill:#ff7f0e;\" x=\"164.017188\" xlink:href=\"#C1_0_d1f686372d\" y=\"151.218701\"/>\n    </g>\n    <g clip-path=\"url(#pbb9b8be41f)\">\n     <use style=\"fill:#ff7f0e;\" x=\"164.017188\" xlink:href=\"#C1_0_d1f686372d\" y=\"101.800519\"/>\n    </g>\n    <g clip-path=\"url(#pbb9b8be41f)\">\n     <use style=\"fill:#ff7f0e;\" x=\"158.767188\" xlink:href=\"#C1_0_d1f686372d\" y=\"101.800519\"/>\n    </g>\n    <g clip-path=\"url(#pbb9b8be41f)\">\n     <use style=\"fill:#ff7f0e;\" x=\"164.017188\" xlink:href=\"#C1_0_d1f686372d\" y=\"87.681039\"/>\n    </g>\n    <g clip-path=\"url(#pbb9b8be41f)\">\n     <use style=\"fill:#ff7f0e;\" x=\"164.017188\" xlink:href=\"#C1_0_d1f686372d\" y=\"80.621299\"/>\n    </g>\n    <g clip-path=\"url(#pbb9b8be41f)\">\n     <use style=\"fill:#ff7f0e;\" x=\"164.017188\" xlink:href=\"#C1_0_d1f686372d\" y=\"17.083636\"/>\n    </g>\n   </g>\n   <g id=\"PathCollection_3\">\n    <defs>\n     <path d=\"M 0 2.5 \nC 0.663008 2.5 1.29895 2.236584 1.767767 1.767767 \nC 2.236584 1.29895 2.5 0.663008 2.5 0 \nC 2.5 -0.663008 2.236584 -1.29895 1.767767 -1.767767 \nC 1.29895 -2.236584 0.663008 -2.5 0 -2.5 \nC -0.663008 -2.5 -1.29895 -2.236584 -1.767767 -1.767767 \nC -2.236584 -1.29895 -2.5 -0.663008 -2.5 0 \nC -2.5 0.663008 -2.236584 1.29895 -1.767767 1.767767 \nC -1.29895 2.236584 -0.663008 2.5 0 2.5 \nz\n\" id=\"C2_0_e1fab34de3\"/>\n    </defs>\n    <g clip-path=\"url(#pbb9b8be41f)\">\n     <use style=\"fill:#2ca02c;\" x=\"247.717188\" xlink:href=\"#C2_0_e1fab34de3\" y=\"214.756364\"/>\n    </g>\n    <g clip-path=\"url(#pbb9b8be41f)\">\n     <use style=\"fill:#2ca02c;\" x=\"242.467188\" xlink:href=\"#C2_0_e1fab34de3\" y=\"214.756364\"/>\n    </g>\n    <g clip-path=\"url(#pbb9b8be41f)\">\n     <use style=\"fill:#2ca02c;\" x=\"252.967187\" xlink:href=\"#C2_0_e1fab34de3\" y=\"214.756364\"/>\n    </g>\n    <g clip-path=\"url(#pbb9b8be41f)\">\n     <use style=\"fill:#2ca02c;\" x=\"237.217187\" xlink:href=\"#C2_0_e1fab34de3\" y=\"214.756364\"/>\n    </g>\n    <g clip-path=\"url(#pbb9b8be41f)\">\n     <use style=\"fill:#2ca02c;\" x=\"258.217188\" xlink:href=\"#C2_0_e1fab34de3\" y=\"214.756364\"/>\n    </g>\n    <g clip-path=\"url(#pbb9b8be41f)\">\n     <use style=\"fill:#2ca02c;\" x=\"231.967187\" xlink:href=\"#C2_0_e1fab34de3\" y=\"214.756364\"/>\n    </g>\n    <g clip-path=\"url(#pbb9b8be41f)\">\n     <use style=\"fill:#2ca02c;\" x=\"263.467188\" xlink:href=\"#C2_0_e1fab34de3\" y=\"214.756364\"/>\n    </g>\n    <g clip-path=\"url(#pbb9b8be41f)\">\n     <use style=\"fill:#2ca02c;\" x=\"226.717187\" xlink:href=\"#C2_0_e1fab34de3\" y=\"214.756364\"/>\n    </g>\n    <g clip-path=\"url(#pbb9b8be41f)\">\n     <use style=\"fill:#2ca02c;\" x=\"268.717188\" xlink:href=\"#C2_0_e1fab34de3\" y=\"214.756364\"/>\n    </g>\n    <g clip-path=\"url(#pbb9b8be41f)\">\n     <use style=\"fill:#2ca02c;\" x=\"247.717188\" xlink:href=\"#C2_0_e1fab34de3\" y=\"207.696623\"/>\n    </g>\n    <g clip-path=\"url(#pbb9b8be41f)\">\n     <use style=\"fill:#2ca02c;\" x=\"242.467188\" xlink:href=\"#C2_0_e1fab34de3\" y=\"207.696623\"/>\n    </g>\n    <g clip-path=\"url(#pbb9b8be41f)\">\n     <use style=\"fill:#2ca02c;\" x=\"252.967187\" xlink:href=\"#C2_0_e1fab34de3\" y=\"207.696623\"/>\n    </g>\n    <g clip-path=\"url(#pbb9b8be41f)\">\n     <use style=\"fill:#2ca02c;\" x=\"237.217187\" xlink:href=\"#C2_0_e1fab34de3\" y=\"207.696623\"/>\n    </g>\n    <g clip-path=\"url(#pbb9b8be41f)\">\n     <use style=\"fill:#2ca02c;\" x=\"258.217188\" xlink:href=\"#C2_0_e1fab34de3\" y=\"207.696623\"/>\n    </g>\n    <g clip-path=\"url(#pbb9b8be41f)\">\n     <use style=\"fill:#2ca02c;\" x=\"247.717188\" xlink:href=\"#C2_0_e1fab34de3\" y=\"200.636883\"/>\n    </g>\n    <g clip-path=\"url(#pbb9b8be41f)\">\n     <use style=\"fill:#2ca02c;\" x=\"242.467188\" xlink:href=\"#C2_0_e1fab34de3\" y=\"200.636883\"/>\n    </g>\n    <g clip-path=\"url(#pbb9b8be41f)\">\n     <use style=\"fill:#2ca02c;\" x=\"247.717188\" xlink:href=\"#C2_0_e1fab34de3\" y=\"193.577143\"/>\n    </g>\n    <g clip-path=\"url(#pbb9b8be41f)\">\n     <use style=\"fill:#2ca02c;\" x=\"242.467188\" xlink:href=\"#C2_0_e1fab34de3\" y=\"193.577143\"/>\n    </g>\n    <g clip-path=\"url(#pbb9b8be41f)\">\n     <use style=\"fill:#2ca02c;\" x=\"252.967187\" xlink:href=\"#C2_0_e1fab34de3\" y=\"193.577143\"/>\n    </g>\n    <g clip-path=\"url(#pbb9b8be41f)\">\n     <use style=\"fill:#2ca02c;\" x=\"237.217187\" xlink:href=\"#C2_0_e1fab34de3\" y=\"193.577143\"/>\n    </g>\n    <g clip-path=\"url(#pbb9b8be41f)\">\n     <use style=\"fill:#2ca02c;\" x=\"247.717188\" xlink:href=\"#C2_0_e1fab34de3\" y=\"186.517403\"/>\n    </g>\n    <g clip-path=\"url(#pbb9b8be41f)\">\n     <use style=\"fill:#2ca02c;\" x=\"247.717188\" xlink:href=\"#C2_0_e1fab34de3\" y=\"179.457662\"/>\n    </g>\n    <g clip-path=\"url(#pbb9b8be41f)\">\n     <use style=\"fill:#2ca02c;\" x=\"247.717188\" xlink:href=\"#C2_0_e1fab34de3\" y=\"172.397922\"/>\n    </g>\n    <g clip-path=\"url(#pbb9b8be41f)\">\n     <use style=\"fill:#2ca02c;\" x=\"242.467188\" xlink:href=\"#C2_0_e1fab34de3\" y=\"172.397922\"/>\n    </g>\n    <g clip-path=\"url(#pbb9b8be41f)\">\n     <use style=\"fill:#2ca02c;\" x=\"252.967187\" xlink:href=\"#C2_0_e1fab34de3\" y=\"172.397922\"/>\n    </g>\n    <g clip-path=\"url(#pbb9b8be41f)\">\n     <use style=\"fill:#2ca02c;\" x=\"237.217187\" xlink:href=\"#C2_0_e1fab34de3\" y=\"172.397922\"/>\n    </g>\n    <g clip-path=\"url(#pbb9b8be41f)\">\n     <use style=\"fill:#2ca02c;\" x=\"247.717188\" xlink:href=\"#C2_0_e1fab34de3\" y=\"165.338182\"/>\n    </g>\n    <g clip-path=\"url(#pbb9b8be41f)\">\n     <use style=\"fill:#2ca02c;\" x=\"247.717188\" xlink:href=\"#C2_0_e1fab34de3\" y=\"158.278442\"/>\n    </g>\n    <g clip-path=\"url(#pbb9b8be41f)\">\n     <use style=\"fill:#2ca02c;\" x=\"242.467188\" xlink:href=\"#C2_0_e1fab34de3\" y=\"158.278442\"/>\n    </g>\n    <g clip-path=\"url(#pbb9b8be41f)\">\n     <use style=\"fill:#2ca02c;\" x=\"247.717188\" xlink:href=\"#C2_0_e1fab34de3\" y=\"151.218701\"/>\n    </g>\n    <g clip-path=\"url(#pbb9b8be41f)\">\n     <use style=\"fill:#2ca02c;\" x=\"242.467188\" xlink:href=\"#C2_0_e1fab34de3\" y=\"151.218701\"/>\n    </g>\n    <g clip-path=\"url(#pbb9b8be41f)\">\n     <use style=\"fill:#2ca02c;\" x=\"247.717188\" xlink:href=\"#C2_0_e1fab34de3\" y=\"144.158961\"/>\n    </g>\n    <g clip-path=\"url(#pbb9b8be41f)\">\n     <use style=\"fill:#2ca02c;\" x=\"247.717188\" xlink:href=\"#C2_0_e1fab34de3\" y=\"122.97974\"/>\n    </g>\n    <g clip-path=\"url(#pbb9b8be41f)\">\n     <use style=\"fill:#2ca02c;\" x=\"247.717188\" xlink:href=\"#C2_0_e1fab34de3\" y=\"115.92\"/>\n    </g>\n    <g clip-path=\"url(#pbb9b8be41f)\">\n     <use style=\"fill:#2ca02c;\" x=\"247.717188\" xlink:href=\"#C2_0_e1fab34de3\" y=\"94.740779\"/>\n    </g>\n   </g>\n   <g id=\"PathCollection_4\">\n    <defs>\n     <path d=\"M 0 2.5 \nC 0.663008 2.5 1.29895 2.236584 1.767767 1.767767 \nC 2.236584 1.29895 2.5 0.663008 2.5 0 \nC 2.5 -0.663008 2.236584 -1.29895 1.767767 -1.767767 \nC 1.29895 -2.236584 0.663008 -2.5 0 -2.5 \nC -0.663008 -2.5 -1.29895 -2.236584 -1.767767 -1.767767 \nC -2.236584 -1.29895 -2.5 -0.663008 -2.5 0 \nC -2.5 0.663008 -2.236584 1.29895 -1.767767 1.767767 \nC -1.29895 2.236584 -0.663008 2.5 0 2.5 \nz\n\" id=\"C3_0_0ea8001e14\"/>\n    </defs>\n    <g clip-path=\"url(#pbb9b8be41f)\">\n     <use style=\"fill:#d62728;\" x=\"331.417188\" xlink:href=\"#C3_0_0ea8001e14\" y=\"214.756364\"/>\n    </g>\n    <g clip-path=\"url(#pbb9b8be41f)\">\n     <use style=\"fill:#d62728;\" x=\"326.167188\" xlink:href=\"#C3_0_0ea8001e14\" y=\"214.756364\"/>\n    </g>\n    <g clip-path=\"url(#pbb9b8be41f)\">\n     <use style=\"fill:#d62728;\" x=\"336.667188\" xlink:href=\"#C3_0_0ea8001e14\" y=\"214.756364\"/>\n    </g>\n    <g clip-path=\"url(#pbb9b8be41f)\">\n     <use style=\"fill:#d62728;\" x=\"331.417188\" xlink:href=\"#C3_0_0ea8001e14\" y=\"207.696623\"/>\n    </g>\n    <g clip-path=\"url(#pbb9b8be41f)\">\n     <use style=\"fill:#d62728;\" x=\"326.167188\" xlink:href=\"#C3_0_0ea8001e14\" y=\"207.696623\"/>\n    </g>\n    <g clip-path=\"url(#pbb9b8be41f)\">\n     <use style=\"fill:#d62728;\" x=\"336.667188\" xlink:href=\"#C3_0_0ea8001e14\" y=\"207.696623\"/>\n    </g>\n    <g clip-path=\"url(#pbb9b8be41f)\">\n     <use style=\"fill:#d62728;\" x=\"320.917188\" xlink:href=\"#C3_0_0ea8001e14\" y=\"207.696623\"/>\n    </g>\n    <g clip-path=\"url(#pbb9b8be41f)\">\n     <use style=\"fill:#d62728;\" x=\"341.917188\" xlink:href=\"#C3_0_0ea8001e14\" y=\"207.696623\"/>\n    </g>\n    <g clip-path=\"url(#pbb9b8be41f)\">\n     <use style=\"fill:#d62728;\" x=\"331.417188\" xlink:href=\"#C3_0_0ea8001e14\" y=\"200.636883\"/>\n    </g>\n    <g clip-path=\"url(#pbb9b8be41f)\">\n     <use style=\"fill:#d62728;\" x=\"326.167188\" xlink:href=\"#C3_0_0ea8001e14\" y=\"200.636883\"/>\n    </g>\n    <g clip-path=\"url(#pbb9b8be41f)\">\n     <use style=\"fill:#d62728;\" x=\"336.667188\" xlink:href=\"#C3_0_0ea8001e14\" y=\"200.636883\"/>\n    </g>\n    <g clip-path=\"url(#pbb9b8be41f)\">\n     <use style=\"fill:#d62728;\" x=\"320.917188\" xlink:href=\"#C3_0_0ea8001e14\" y=\"200.636883\"/>\n    </g>\n    <g clip-path=\"url(#pbb9b8be41f)\">\n     <use style=\"fill:#d62728;\" x=\"341.917188\" xlink:href=\"#C3_0_0ea8001e14\" y=\"200.636883\"/>\n    </g>\n    <g clip-path=\"url(#pbb9b8be41f)\">\n     <use style=\"fill:#d62728;\" x=\"331.417188\" xlink:href=\"#C3_0_0ea8001e14\" y=\"193.577143\"/>\n    </g>\n    <g clip-path=\"url(#pbb9b8be41f)\">\n     <use style=\"fill:#d62728;\" x=\"326.167188\" xlink:href=\"#C3_0_0ea8001e14\" y=\"193.577143\"/>\n    </g>\n    <g clip-path=\"url(#pbb9b8be41f)\">\n     <use style=\"fill:#d62728;\" x=\"331.417188\" xlink:href=\"#C3_0_0ea8001e14\" y=\"186.517403\"/>\n    </g>\n    <g clip-path=\"url(#pbb9b8be41f)\">\n     <use style=\"fill:#d62728;\" x=\"326.167188\" xlink:href=\"#C3_0_0ea8001e14\" y=\"186.517403\"/>\n    </g>\n    <g clip-path=\"url(#pbb9b8be41f)\">\n     <use style=\"fill:#d62728;\" x=\"331.417188\" xlink:href=\"#C3_0_0ea8001e14\" y=\"172.397922\"/>\n    </g>\n    <g clip-path=\"url(#pbb9b8be41f)\">\n     <use style=\"fill:#d62728;\" x=\"331.417188\" xlink:href=\"#C3_0_0ea8001e14\" y=\"165.338182\"/>\n    </g>\n    <g clip-path=\"url(#pbb9b8be41f)\">\n     <use style=\"fill:#d62728;\" x=\"331.417188\" xlink:href=\"#C3_0_0ea8001e14\" y=\"151.218701\"/>\n    </g>\n    <g clip-path=\"url(#pbb9b8be41f)\">\n     <use style=\"fill:#d62728;\" x=\"331.417188\" xlink:href=\"#C3_0_0ea8001e14\" y=\"144.158961\"/>\n    </g>\n   </g>\n  </g>\n </g>\n <defs>\n  <clipPath id=\"pbb9b8be41f\">\n   <rect height=\"217.44\" width=\"334.8\" x=\"38.467188\" y=\"7.2\"/>\n  </clipPath>\n </defs>\n</svg>\n",
      "text/plain": [
       "<Figure size 432x288 with 1 Axes>"
      ]
     },
     "metadata": {
      "needs_background": "light"
     },
     "output_type": "display_data"
    }
   ],
   "source": [
    "dbd_to_plot = ['C2H2 ZF', 'bHLH', 'Homeodomain', 'Nuclear receptor']\n",
    "sns.swarmplot(data=pdi, x='DBD', y='n_pdi', order=dbd_to_plot, alpha=1)"
   ]
  },
  {
   "cell_type": "code",
   "execution_count": null,
   "metadata": {},
   "outputs": [],
   "source": []
  }
 ],
 "metadata": {
  "kernelspec": {
   "display_name": "Python 3.9.2 64-bit ('3.9.2')",
   "language": "python",
   "name": "python3"
  },
  "language_info": {
   "codemirror_mode": {
    "name": "ipython",
    "version": 3
   },
   "file_extension": ".py",
   "mimetype": "text/x-python",
   "name": "python",
   "nbconvert_exporter": "python",
   "pygments_lexer": "ipython3",
   "version": "3.9.2"
  },
  "vscode": {
   "interpreter": {
    "hash": "f5d52d800f83f23ea87651e7c04ca8115a57529ed8b72a37542cfa5b97a94aa5"
   }
  }
 },
 "nbformat": 4,
 "nbformat_minor": 4
}
