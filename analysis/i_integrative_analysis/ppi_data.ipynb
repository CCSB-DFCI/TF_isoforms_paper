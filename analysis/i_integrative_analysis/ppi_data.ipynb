{
 "cells": [
  {
   "cell_type": "code",
   "execution_count": 1,
   "metadata": {},
   "outputs": [],
   "source": [
    "import os\n",
    "\n",
    "from matplotlib import pyplot as plt\n",
    "import seaborn as sns\n",
    "\n",
    "from data_loading import (load_isoform_and_paralog_y2h_data,\n",
    "                          load_valid_isoform_clones,\n",
    "                          load_paralog_pairs)\n",
    "from plotting import y2h_ppi_per_paralog_pair_plot\n",
    "\n",
    "%matplotlib inline"
   ]
  },
  {
   "cell_type": "code",
   "execution_count": 2,
   "metadata": {},
   "outputs": [],
   "source": [
    "y2h = load_isoform_and_paralog_y2h_data()\n",
    "isoforms = load_valid_isoform_clones()\n",
    "pairs = load_paralog_pairs()"
   ]
  },
  {
   "cell_type": "code",
   "execution_count": 6,
   "metadata": {},
   "outputs": [
    {
     "data": {
      "image/png": "[encoded data removed]",
      "text/plain": [
       "<Figure size 432x288 with 1 Axes>"
      ]
     },
     "metadata": {
      "needs_background": "light"
     },
     "output_type": "display_data"
    }
   ],
   "source": [
    "fig, ax = plt.subplots(1, 1)\n",
    "sns.stripplot(data=pairs, x='is_paralog_pair', y='pct_aa_seq_identity')\n",
    "sns.boxplot(data=pairs, x='is_paralog_pair', y='pct_aa_seq_identity', color='white')\n",
    "ax.set_ylim(0, 100)\n",
    "ax.set_ylabel('% AA sequence identity')\n",
    "ax.set_xticklabels(['Control: non-paralog pairs', 'Paralog pairs'])\n",
    "ax.set_xlabel('')\n",
    "plt.savefig('../../figures/paralog_nonparalog_aa_identity.pdf',\n",
    "            bbox_inches='tight')"
   ]
  },
  {
   "cell_type": "code",
   "execution_count": 8,
   "metadata": {},
   "outputs": [],
   "source": [
    "for i, row in pairs.iterrows():\n",
    "    fig, ax = plt.subplots(1, 1)\n",
    "    a = row['tf_gene_a']\n",
    "    b = row['tf_gene_b']\n",
    "    y2h_ppi_per_paralog_pair_plot(a, b, y2h, ax=ax)\n",
    "    os.makedirs('../../figures/paralog_pairs', exist_ok=True)\n",
    "    plt.savefig('../../figures/paralog_pairs/' + a + '_' + b + '.pdf',\n",
    "                bbox_inches='tight')\n",
    "    plt.close(fig)"
   ]
  },
  {
   "cell_type": "code",
   "execution_count": 39,
   "metadata": {},
   "outputs": [
    {
     "name": "stdout",
     "output_type": "stream",
     "text": [
      "Of 914 tested partners, 728 had at least one positive result\n"
     ]
    }
   ],
   "source": [
    "#    - How many partners were negative in all pairwise tests?\n",
    "a = y2h.loc[(y2h['category'] == 'tf_isoform_ppis'),\n",
    "           'db_gene_symbol'].nunique()\n",
    "b = y2h.loc[(y2h['category'] == 'tf_isoform_ppis') &\n",
    "           (y2h['score'] == '1'),\n",
    "           'db_gene_symbol'].nunique()\n",
    "print('Of {} tested partners, {} had at least one positive result'.format(a, b))"
   ]
  },
  {
   "cell_type": "code",
   "execution_count": 40,
   "metadata": {},
   "outputs": [
    {
     "data": {
      "text/html": [
       "<div>\n",
       "<style scoped>\n",
       "    .dataframe tbody tr th:only-of-type {\n",
       "        vertical-align: middle;\n",
       "    }\n",
       "\n",
       "    .dataframe tbody tr th {\n",
       "        vertical-align: top;\n",
       "    }\n",
       "\n",
       "    .dataframe thead th {\n",
       "        text-align: right;\n",
       "    }\n",
       "</style>\n",
       "<table border=\"1\" class=\"dataframe\">\n",
       "  <thead>\n",
       "    <tr style=\"text-align: right;\">\n",
       "      <th></th>\n",
       "      <th>category</th>\n",
       "      <th>ad_orf_id</th>\n",
       "      <th>ad_clone_acc</th>\n",
       "      <th>ad_gene_symbol</th>\n",
       "      <th>db_orf_id</th>\n",
       "      <th>db_gene_symbol</th>\n",
       "      <th>score</th>\n",
       "    </tr>\n",
       "  </thead>\n",
       "  <tbody>\n",
       "    <tr>\n",
       "      <th>57</th>\n",
       "      <td>tf_isoform_ppis</td>\n",
       "      <td>101216</td>\n",
       "      <td>GATA1|1/2|08A02</td>\n",
       "      <td>GATA1</td>\n",
       "      <td>1579</td>\n",
       "      <td>TEKT4</td>\n",
       "      <td>0</td>\n",
       "    </tr>\n",
       "    <tr>\n",
       "      <th>103</th>\n",
       "      <td>tf_isoform_ppis</td>\n",
       "      <td>100301</td>\n",
       "      <td>SMAD3|1/4|06A07</td>\n",
       "      <td>SMAD3</td>\n",
       "      <td>1579</td>\n",
       "      <td>TEKT4</td>\n",
       "      <td>0</td>\n",
       "    </tr>\n",
       "    <tr>\n",
       "      <th>115</th>\n",
       "      <td>tf_isoform_ppis</td>\n",
       "      <td>100697</td>\n",
       "      <td>SMAD3|4/4|06F07</td>\n",
       "      <td>SMAD3</td>\n",
       "      <td>1579</td>\n",
       "      <td>TEKT4</td>\n",
       "      <td>0</td>\n",
       "    </tr>\n",
       "    <tr>\n",
       "      <th>126</th>\n",
       "      <td>tf_isoform_ppis</td>\n",
       "      <td>100657</td>\n",
       "      <td>SMAD3|2/4|06G07</td>\n",
       "      <td>SMAD3</td>\n",
       "      <td>1579</td>\n",
       "      <td>TEKT4</td>\n",
       "      <td>0</td>\n",
       "    </tr>\n",
       "    <tr>\n",
       "      <th>138</th>\n",
       "      <td>tf_isoform_ppis</td>\n",
       "      <td>100479</td>\n",
       "      <td>SMAD3|3/4|06B08</td>\n",
       "      <td>SMAD3</td>\n",
       "      <td>1579</td>\n",
       "      <td>TEKT4</td>\n",
       "      <td>0</td>\n",
       "    </tr>\n",
       "  </tbody>\n",
       "</table>\n",
       "</div>"
      ],
      "text/plain": [
       "            category  ad_orf_id     ad_clone_acc ad_gene_symbol  db_orf_id  \\\n",
       "57   tf_isoform_ppis     101216  GATA1|1/2|08A02          GATA1       1579   \n",
       "103  tf_isoform_ppis     100301  SMAD3|1/4|06A07          SMAD3       1579   \n",
       "115  tf_isoform_ppis     100697  SMAD3|4/4|06F07          SMAD3       1579   \n",
       "126  tf_isoform_ppis     100657  SMAD3|2/4|06G07          SMAD3       1579   \n",
       "138  tf_isoform_ppis     100479  SMAD3|3/4|06B08          SMAD3       1579   \n",
       "\n",
       "    db_gene_symbol score  \n",
       "57           TEKT4     0  \n",
       "103          TEKT4     0  \n",
       "115          TEKT4     0  \n",
       "126          TEKT4     0  \n",
       "138          TEKT4     0  "
      ]
     },
     "execution_count": 40,
     "metadata": {},
     "output_type": "execute_result"
    }
   ],
   "source": [
    "a = y2h.loc[(y2h['category'] == 'tf_isoform_ppis'),\n",
    "           'db_gene_symbol'].unique()\n",
    "b = y2h.loc[(y2h['category'] == 'tf_isoform_ppis') &\n",
    "           (y2h['score'] == '1'),\n",
    "           'db_gene_symbol'].unique()\n",
    "c = set(a).difference(set(b))\n",
    "# remove these interactions where none of the isoforms are positive\n",
    "y2h.loc[(y2h['category'] == 'tf_isoform_ppis') &\n",
    "        y2h['db_gene_symbol'].isin(c), :].head()"
   ]
  },
  {
   "cell_type": "code",
   "execution_count": 41,
   "metadata": {},
   "outputs": [
    {
     "name": "stdout",
     "output_type": "stream",
     "text": [
      "Total TF genes with cloned isoforms: 312\n",
      "Total TF genes with 2+ cloned isoforms: 254\n",
      "with ≥ 1 PPI: 132\n",
      "with ≥ 2 isoforms with ≥ 1 PPI each: 72\n",
      "with ≥ 2 isoforms with ≥ 1 successuful PPI test for the same partner: 90\n"
     ]
    }
   ],
   "source": [
    "print('Total TF genes with cloned isoforms: {}'.format(isoforms['gene'].nunique()))\n",
    "print('Total TF genes with 2+ cloned isoforms: {}'.format(sum((isoforms.groupby('gene').count()>1)['clone_acc'])))\n",
    "print('with ≥ 1 PPI: {}'.format(y2h.loc[(y2h['category'] == 'tf_isoform_ppis') &\n",
    "                                        (y2h['score'] == '1'), \n",
    "                                        'ad_gene_symbol'].nunique()))\n",
    "print('with ≥ 2 isoforms with ≥ 1 PPI each: {}'\n",
    "       .format(\n",
    "          (y2h.loc[(y2h['category'] == 'tf_isoform_ppis') &\n",
    "                   (y2h['score'] == '1'), \n",
    "                   :]\n",
    "              .groupby('ad_gene_symbol')\n",
    "              ['ad_clone_acc']\n",
    "              .nunique()\n",
    "              >= 2).sum()  \n",
    "         )\n",
    "     )\n",
    "print('with ≥ 2 isoforms with ≥ 1 successuful PPI test for the same partner: {}'\n",
    "       .format(\n",
    "        (((y2h.loc[(y2h['category'] == 'tf_isoform_ppis') &\n",
    "                   y2h['score'].isin(['0', '1']), \n",
    "                   :]\n",
    "              .groupby(['ad_gene_symbol', 'db_gene_symbol'])\n",
    "              ['ad_clone_acc']\n",
    "              .nunique() # number of isoforms per partner with valid interactions\n",
    "              >= 2)\n",
    "              .reset_index()\n",
    "              .groupby('ad_gene_symbol').sum() >= 2).sum().iat[0])\n",
    "     )\n",
    ")"
   ]
  },
  {
   "cell_type": "code",
   "execution_count": 42,
   "metadata": {},
   "outputs": [
    {
     "name": "stdout",
     "output_type": "stream",
     "text": [
      "Total TF isoforms: 792\n",
      "with ≥ 1 PPI: 242\n"
     ]
    }
   ],
   "source": [
    "print('Total TF isoforms: {}'.format(isoforms['clone_acc'].nunique()))\n",
    "print('with ≥ 1 PPI: {}'.format(y2h.loc[(y2h['category'] == 'tf_isoform_ppis') &\n",
    "                                        (y2h['score'] == '1'), \n",
    "                                        'ad_clone_acc'].nunique()))"
   ]
  },
  {
   "cell_type": "code",
   "execution_count": 43,
   "metadata": {},
   "outputs": [
    {
     "name": "stdout",
     "output_type": "stream",
     "text": [
      "Creating directory /Users/gloriasheynkman/Library/Application Support/bioservices \n",
      "Creating directory /Users/gloriasheynkman/Library/Caches/bioservices \n",
      "Welcome to Bioservices\n",
      "======================\n",
      "It looks like you do not have a configuration file.\n",
      "We are creating one with default values in /Users/gloriasheynkman/Library/Application Support/bioservices/bioservices.cfg .\n",
      "Done\n"
     ]
    },
    {
     "ename": "FileNotFoundError",
     "evalue": "[Errno 2] No such file or directory: '/Users/gloriasheynkman/Library/ccsblib/data/external/ensembl_aug2017_hgnc_id_map.csv'",
     "output_type": "error",
     "traceback": [
      "\u001b[0;31m---------------------------------------------------------------------------\u001b[0m",
      "\u001b[0;31mFileNotFoundError\u001b[0m                         Traceback (most recent call last)",
      "\u001b[0;32m<ipython-input-43-20433550c3f3>\u001b[0m in \u001b[0;36m<module>\u001b[0;34m\u001b[0m\n\u001b[1;32m      9\u001b[0m     \u001b[0;32mreturn\u001b[0m \u001b[0mset\u001b[0m\u001b[0;34m(\u001b[0m\u001b[0mhuri\u001b[0m\u001b[0;34m.\u001b[0m\u001b[0mmap_nw_ids\u001b[0m\u001b[0;34m(\u001b[0m\u001b[0mnw\u001b[0m\u001b[0;34m,\u001b[0m \u001b[0;34m'ensembl_gene_id'\u001b[0m\u001b[0;34m,\u001b[0m \u001b[0;34m'hgnc_symbol'\u001b[0m\u001b[0;34m)\u001b[0m\u001b[0;34m.\u001b[0m\u001b[0mindex\u001b[0m\u001b[0;34m)\u001b[0m\u001b[0;34m\u001b[0m\u001b[0;34m\u001b[0m\u001b[0m\n\u001b[1;32m     10\u001b[0m \u001b[0;34m\u001b[0m\u001b[0m\n\u001b[0;32m---> 11\u001b[0;31m \u001b[0mhiu\u001b[0m \u001b[0;34m=\u001b[0m \u001b[0mmap_gene_names\u001b[0m\u001b[0;34m(\u001b[0m\u001b[0mhiu\u001b[0m\u001b[0;34m)\u001b[0m\u001b[0;34m\u001b[0m\u001b[0;34m\u001b[0m\u001b[0m\n\u001b[0m\u001b[1;32m     12\u001b[0m \u001b[0mlit\u001b[0m \u001b[0;34m=\u001b[0m \u001b[0mmap_gene_names\u001b[0m\u001b[0;34m(\u001b[0m\u001b[0mlit\u001b[0m\u001b[0;34m)\u001b[0m\u001b[0;34m\u001b[0m\u001b[0;34m\u001b[0m\u001b[0m\n\u001b[1;32m     13\u001b[0m \u001b[0mlitbm\u001b[0m \u001b[0;34m=\u001b[0m \u001b[0mmap_gene_names\u001b[0m\u001b[0;34m(\u001b[0m\u001b[0mlitbm\u001b[0m\u001b[0;34m)\u001b[0m\u001b[0;34m\u001b[0m\u001b[0;34m\u001b[0m\u001b[0m\n",
      "\u001b[0;32m<ipython-input-43-20433550c3f3>\u001b[0m in \u001b[0;36mmap_gene_names\u001b[0;34m(nw)\u001b[0m\n\u001b[1;32m      7\u001b[0m \u001b[0;34m\u001b[0m\u001b[0m\n\u001b[1;32m      8\u001b[0m \u001b[0;32mdef\u001b[0m \u001b[0mmap_gene_names\u001b[0m\u001b[0;34m(\u001b[0m\u001b[0mnw\u001b[0m\u001b[0;34m)\u001b[0m\u001b[0;34m:\u001b[0m\u001b[0;34m\u001b[0m\u001b[0;34m\u001b[0m\u001b[0m\n\u001b[0;32m----> 9\u001b[0;31m     \u001b[0;32mreturn\u001b[0m \u001b[0mset\u001b[0m\u001b[0;34m(\u001b[0m\u001b[0mhuri\u001b[0m\u001b[0;34m.\u001b[0m\u001b[0mmap_nw_ids\u001b[0m\u001b[0;34m(\u001b[0m\u001b[0mnw\u001b[0m\u001b[0;34m,\u001b[0m \u001b[0;34m'ensembl_gene_id'\u001b[0m\u001b[0;34m,\u001b[0m \u001b[0;34m'hgnc_symbol'\u001b[0m\u001b[0;34m)\u001b[0m\u001b[0;34m.\u001b[0m\u001b[0mindex\u001b[0m\u001b[0;34m)\u001b[0m\u001b[0;34m\u001b[0m\u001b[0;34m\u001b[0m\u001b[0m\n\u001b[0m\u001b[1;32m     10\u001b[0m \u001b[0;34m\u001b[0m\u001b[0m\n\u001b[1;32m     11\u001b[0m \u001b[0mhiu\u001b[0m \u001b[0;34m=\u001b[0m \u001b[0mmap_gene_names\u001b[0m\u001b[0;34m(\u001b[0m\u001b[0mhiu\u001b[0m\u001b[0;34m)\u001b[0m\u001b[0;34m\u001b[0m\u001b[0;34m\u001b[0m\u001b[0m\n",
      "\u001b[0;32m~/Documents/research_drive/bioinfo_tools/ccsblib/ccsblib/huri/internal_data/ID_mapping.py\u001b[0m in \u001b[0;36mmap_nw_ids\u001b[0;34m(df, id_in, id_out, via, suffixes, directed, space_iii, agg)\u001b[0m\n\u001b[1;32m     94\u001b[0m     \u001b[0mid_out_a\u001b[0m \u001b[0;34m=\u001b[0m \u001b[0mid_out\u001b[0m \u001b[0;34m+\u001b[0m \u001b[0msuffixes\u001b[0m\u001b[0;34m[\u001b[0m\u001b[0;36m0\u001b[0m\u001b[0;34m]\u001b[0m\u001b[0;34m\u001b[0m\u001b[0;34m\u001b[0m\u001b[0m\n\u001b[1;32m     95\u001b[0m     \u001b[0mid_out_b\u001b[0m \u001b[0;34m=\u001b[0m \u001b[0mid_out\u001b[0m \u001b[0;34m+\u001b[0m \u001b[0msuffixes\u001b[0m\u001b[0;34m[\u001b[0m\u001b[0;36m1\u001b[0m\u001b[0;34m]\u001b[0m\u001b[0;34m\u001b[0m\u001b[0;34m\u001b[0m\u001b[0m\n\u001b[0;32m---> 96\u001b[0;31m     \u001b[0mid_map\u001b[0m \u001b[0;34m=\u001b[0m \u001b[0mload_id_map\u001b[0m\u001b[0;34m(\u001b[0m\u001b[0mid_in\u001b[0m\u001b[0;34m,\u001b[0m \u001b[0mid_out\u001b[0m\u001b[0;34m,\u001b[0m \u001b[0mvia\u001b[0m\u001b[0;34m=\u001b[0m\u001b[0mvia\u001b[0m\u001b[0;34m,\u001b[0m \u001b[0mspace_iii\u001b[0m\u001b[0;34m=\u001b[0m\u001b[0mspace_iii\u001b[0m\u001b[0;34m)\u001b[0m\u001b[0;34m\u001b[0m\u001b[0;34m\u001b[0m\u001b[0m\n\u001b[0m\u001b[1;32m     97\u001b[0m     \u001b[0mout\u001b[0m \u001b[0;34m=\u001b[0m \u001b[0mdf\u001b[0m\u001b[0;34m.\u001b[0m\u001b[0mcopy\u001b[0m\u001b[0;34m(\u001b[0m\u001b[0;34m)\u001b[0m\u001b[0;34m\u001b[0m\u001b[0;34m\u001b[0m\u001b[0m\n\u001b[1;32m     98\u001b[0m     out = (pd.merge(out, id_map,\n",
      "\u001b[0;32m~/Documents/research_drive/bioinfo_tools/ccsblib/ccsblib/huri/internal_data/ID_mapping.py\u001b[0m in \u001b[0;36mload_id_map\u001b[0;34m(id_in, id_out, via, space_iii, cache)\u001b[0m\n\u001b[1;32m    267\u001b[0m         \u001b[0;32mreturn\u001b[0m \u001b[0me2h\u001b[0m\u001b[0;34m\u001b[0m\u001b[0;34m\u001b[0m\u001b[0m\n\u001b[1;32m    268\u001b[0m     \u001b[0;32mif\u001b[0m \u001b[0mids\u001b[0m \u001b[0;34m==\u001b[0m \u001b[0;34m{\u001b[0m\u001b[0;34m'ensembl_gene_id'\u001b[0m\u001b[0;34m,\u001b[0m \u001b[0;34m'hgnc_symbol'\u001b[0m\u001b[0;34m}\u001b[0m\u001b[0;34m:\u001b[0m\u001b[0;34m\u001b[0m\u001b[0;34m\u001b[0m\u001b[0m\n\u001b[0;32m--> 269\u001b[0;31m         \u001b[0me2h\u001b[0m \u001b[0;34m=\u001b[0m \u001b[0mload_ensembl_to_hgnc\u001b[0m\u001b[0;34m(\u001b[0m\u001b[0;34m)\u001b[0m\u001b[0;34m\u001b[0m\u001b[0;34m\u001b[0m\u001b[0m\n\u001b[0m\u001b[1;32m    270\u001b[0m         \u001b[0me2h\u001b[0m \u001b[0;34m=\u001b[0m \u001b[0me2h\u001b[0m\u001b[0;34m.\u001b[0m\u001b[0mloc\u001b[0m\u001b[0;34m[\u001b[0m\u001b[0;34m:\u001b[0m\u001b[0;34m,\u001b[0m \u001b[0;34m[\u001b[0m\u001b[0;34m'ensembl_gene_id'\u001b[0m\u001b[0;34m,\u001b[0m \u001b[0;34m'hgnc_symbol'\u001b[0m\u001b[0;34m]\u001b[0m\u001b[0;34m]\u001b[0m\u001b[0;34m\u001b[0m\u001b[0;34m\u001b[0m\u001b[0m\n\u001b[1;32m    271\u001b[0m         \u001b[0me2h\u001b[0m \u001b[0;34m=\u001b[0m \u001b[0me2h\u001b[0m\u001b[0;34m.\u001b[0m\u001b[0mdrop_duplicates\u001b[0m\u001b[0;34m(\u001b[0m\u001b[0;34m)\u001b[0m\u001b[0;34m\u001b[0m\u001b[0;34m\u001b[0m\u001b[0m\n",
      "\u001b[0;32m~/Documents/research_drive/bioinfo_tools/ccsblib/ccsblib/huri/internal_data/ID_mapping.py\u001b[0m in \u001b[0;36mload_ensembl_to_hgnc\u001b[0;34m(release_date)\u001b[0m\n\u001b[1;32m     42\u001b[0m                          \u001b[0mnames\u001b[0m\u001b[0;34m=\u001b[0m\u001b[0;34m[\u001b[0m\u001b[0;34m'ensembl_gene_id'\u001b[0m\u001b[0;34m,\u001b[0m \u001b[0;34m'hgnc_id'\u001b[0m\u001b[0;34m,\u001b[0m \u001b[0;34m'hgnc_symbol'\u001b[0m\u001b[0;34m]\u001b[0m\u001b[0;34m,\u001b[0m\u001b[0;34m\u001b[0m\u001b[0;34m\u001b[0m\u001b[0m\n\u001b[1;32m     43\u001b[0m                          sep='\\t')\n\u001b[0;32m---> 44\u001b[0;31m         \u001b[0mdf\u001b[0m\u001b[0;34m.\u001b[0m\u001b[0mto_csv\u001b[0m\u001b[0;34m(\u001b[0m\u001b[0mfpath\u001b[0m\u001b[0;34m,\u001b[0m \u001b[0mindex\u001b[0m\u001b[0;34m=\u001b[0m\u001b[0;32mFalse\u001b[0m\u001b[0;34m)\u001b[0m\u001b[0;34m\u001b[0m\u001b[0;34m\u001b[0m\u001b[0m\n\u001b[0m\u001b[1;32m     45\u001b[0m     \u001b[0;32mreturn\u001b[0m \u001b[0mdf\u001b[0m\u001b[0;34m\u001b[0m\u001b[0;34m\u001b[0m\u001b[0m\n\u001b[1;32m     46\u001b[0m \u001b[0;34m\u001b[0m\u001b[0m\n",
      "\u001b[0;32m/usr/local/lib/python3.7/site-packages/pandas/core/generic.py\u001b[0m in \u001b[0;36mto_csv\u001b[0;34m(self, path_or_buf, sep, na_rep, float_format, columns, header, index, index_label, mode, encoding, compression, quoting, quotechar, line_terminator, chunksize, date_format, doublequote, escapechar, decimal)\u001b[0m\n\u001b[1;32m   3226\u001b[0m             \u001b[0mdecimal\u001b[0m\u001b[0;34m=\u001b[0m\u001b[0mdecimal\u001b[0m\u001b[0;34m,\u001b[0m\u001b[0;34m\u001b[0m\u001b[0;34m\u001b[0m\u001b[0m\n\u001b[1;32m   3227\u001b[0m         )\n\u001b[0;32m-> 3228\u001b[0;31m         \u001b[0mformatter\u001b[0m\u001b[0;34m.\u001b[0m\u001b[0msave\u001b[0m\u001b[0;34m(\u001b[0m\u001b[0;34m)\u001b[0m\u001b[0;34m\u001b[0m\u001b[0;34m\u001b[0m\u001b[0m\n\u001b[0m\u001b[1;32m   3229\u001b[0m \u001b[0;34m\u001b[0m\u001b[0m\n\u001b[1;32m   3230\u001b[0m         \u001b[0;32mif\u001b[0m \u001b[0mpath_or_buf\u001b[0m \u001b[0;32mis\u001b[0m \u001b[0;32mNone\u001b[0m\u001b[0;34m:\u001b[0m\u001b[0;34m\u001b[0m\u001b[0;34m\u001b[0m\u001b[0m\n",
      "\u001b[0;32m/usr/local/lib/python3.7/site-packages/pandas/io/formats/csvs.py\u001b[0m in \u001b[0;36msave\u001b[0;34m(self)\u001b[0m\n\u001b[1;32m    181\u001b[0m                 \u001b[0mself\u001b[0m\u001b[0;34m.\u001b[0m\u001b[0mmode\u001b[0m\u001b[0;34m,\u001b[0m\u001b[0;34m\u001b[0m\u001b[0;34m\u001b[0m\u001b[0m\n\u001b[1;32m    182\u001b[0m                 \u001b[0mencoding\u001b[0m\u001b[0;34m=\u001b[0m\u001b[0mself\u001b[0m\u001b[0;34m.\u001b[0m\u001b[0mencoding\u001b[0m\u001b[0;34m,\u001b[0m\u001b[0;34m\u001b[0m\u001b[0;34m\u001b[0m\u001b[0m\n\u001b[0;32m--> 183\u001b[0;31m                 \u001b[0mcompression\u001b[0m\u001b[0;34m=\u001b[0m\u001b[0mself\u001b[0m\u001b[0;34m.\u001b[0m\u001b[0mcompression\u001b[0m\u001b[0;34m,\u001b[0m\u001b[0;34m\u001b[0m\u001b[0;34m\u001b[0m\u001b[0m\n\u001b[0m\u001b[1;32m    184\u001b[0m             )\n\u001b[1;32m    185\u001b[0m             \u001b[0mclose\u001b[0m \u001b[0;34m=\u001b[0m \u001b[0;32mTrue\u001b[0m\u001b[0;34m\u001b[0m\u001b[0;34m\u001b[0m\u001b[0m\n",
      "\u001b[0;32m/usr/local/lib/python3.7/site-packages/pandas/io/common.py\u001b[0m in \u001b[0;36m_get_handle\u001b[0;34m(path_or_buf, mode, encoding, compression, memory_map, is_text)\u001b[0m\n\u001b[1;32m    397\u001b[0m         \u001b[0;32mif\u001b[0m \u001b[0mencoding\u001b[0m\u001b[0;34m:\u001b[0m\u001b[0;34m\u001b[0m\u001b[0;34m\u001b[0m\u001b[0m\n\u001b[1;32m    398\u001b[0m             \u001b[0;31m# Encoding\u001b[0m\u001b[0;34m\u001b[0m\u001b[0;34m\u001b[0m\u001b[0;34m\u001b[0m\u001b[0m\n\u001b[0;32m--> 399\u001b[0;31m             \u001b[0mf\u001b[0m \u001b[0;34m=\u001b[0m \u001b[0mopen\u001b[0m\u001b[0;34m(\u001b[0m\u001b[0mpath_or_buf\u001b[0m\u001b[0;34m,\u001b[0m \u001b[0mmode\u001b[0m\u001b[0;34m,\u001b[0m \u001b[0mencoding\u001b[0m\u001b[0;34m=\u001b[0m\u001b[0mencoding\u001b[0m\u001b[0;34m,\u001b[0m \u001b[0mnewline\u001b[0m\u001b[0;34m=\u001b[0m\u001b[0;34m\"\"\u001b[0m\u001b[0;34m)\u001b[0m\u001b[0;34m\u001b[0m\u001b[0;34m\u001b[0m\u001b[0m\n\u001b[0m\u001b[1;32m    400\u001b[0m         \u001b[0;32melif\u001b[0m \u001b[0mis_text\u001b[0m\u001b[0;34m:\u001b[0m\u001b[0;34m\u001b[0m\u001b[0;34m\u001b[0m\u001b[0m\n\u001b[1;32m    401\u001b[0m             \u001b[0;31m# No explicit encoding\u001b[0m\u001b[0;34m\u001b[0m\u001b[0;34m\u001b[0m\u001b[0;34m\u001b[0m\u001b[0m\n",
      "\u001b[0;31mFileNotFoundError\u001b[0m: [Errno 2] No such file or directory: '/Users/gloriasheynkman/Library/ccsblib/data/external/ensembl_aug2017_hgnc_id_map.csv'"
     ]
    }
   ],
   "source": [
    "from ccsblib import huri\n",
    "\n",
    "hiu = huri.load_nw_hi_union(id_type='ensembl_gene_id')\n",
    "lit = huri.load_nw_lit_17(id_type='ensembl_gene_id')\n",
    "litb = lit.loc[lit['category'].isin(['Lit-BM', 'Lit-BS']), :].copy()\n",
    "litbm = lit.loc[lit['category'].isin(['Lit-BM']), :].copy()\n",
    "\n",
    "def map_gene_names(nw):\n",
    "    return set(huri.map_nw_ids(nw, 'ensembl_gene_id', 'hgnc_symbol').index)\n",
    "\n",
    "hiu = map_gene_names(hiu)\n",
    "lit = map_gene_names(lit)\n",
    "litbm = map_gene_names(litbm)\n",
    "litb = map_gene_names(litb)"
   ]
  },
  {
   "cell_type": "code",
   "execution_count": null,
   "metadata": {},
   "outputs": [],
   "source": [
    "new_ppis = y2h.loc[(y2h['category'] == 'tf_isoform_ppis') &\n",
    "                        (y2h['score'] == '1'),\n",
    "                        ['ad_gene_symbol', 'db_gene_symbol']].drop_duplicates().copy()\n",
    "new_ppis = set((new_ppis[['ad_gene_symbol', 'db_gene_symbol']].min(axis=1) + '_' +\n",
    "               new_ppis[['ad_gene_symbol', 'db_gene_symbol']].max(axis=1)).drop_duplicates().values)"
   ]
  },
  {
   "cell_type": "code",
   "execution_count": 7,
   "metadata": {},
   "outputs": [
    {
     "name": "stdout",
     "output_type": "stream",
     "text": [
      "Total number of PPIs at isoform-level: 2450\n",
      "Gene-gene PPIs: 1371\n",
      "Not in HI-Union: 565\n",
      "Not in HI-Union or Lit-BM: 555\n",
      "Not in HI-Union or Lit-B: 553\n",
      "Not in HI-Union or Lit-NB: 523\n"
     ]
    }
   ],
   "source": [
    "print('Total number of PPIs at isoform-level: {}'\n",
    "        .format(y2h.loc[(y2h['category'] == 'tf_isoform_ppis') &\n",
    "                        (y2h['score'] == '1'), ].shape[0]))\n",
    "print('Gene-gene PPIs: {}'.format(len(new_ppis)))\n",
    "print('Not in HI-Union: {}'.format(len(new_ppis.difference(hiu))))\n",
    "print('Not in HI-Union or Lit-BM: {}'.format(len(new_ppis.difference(hiu.union(litbm)))))\n",
    "print('Not in HI-Union or Lit-B: {}'.format(len(new_ppis.difference(hiu.union(litb)))))\n",
    "print('Not in HI-Union or Lit-NB: {}'.format(len(new_ppis.difference(hiu.union(lit)))))"
   ]
  },
  {
   "cell_type": "markdown",
   "metadata": {},
   "source": [
    "### TODO\n",
    "\n",
    "Can we quantify how many additional PPIs we get from studying multiple isoforms relative a single isoform?\n",
    "\n",
    "We would want to use the screening data, filtered by the pairwise test data, I guess.\n",
    "\n",
    "Would need to distinguish beetween screening with the same clone twice vs two different isoforms?"
   ]
  },
  {
   "cell_type": "code",
   "execution_count": 10,
   "metadata": {},
   "outputs": [
    {
     "data": {
      "image/png": "[encoded data removed]",
      "text/plain": [
       "<Figure size 432x288 with 1 Axes>"
      ]
     },
     "metadata": {
      "needs_background": "light"
     },
     "output_type": "display_data"
    }
   ],
   "source": [
    "#    - Number of isoforms per TF gene\n",
    "\n",
    "# remove isoform counts of 1?\n",
    "n_iso = y2h.loc[y2h['category'] == 'tf_isoform_ppis', :].groupby('ad_gene_symbol').nunique()['ad_clone_acc']\n",
    "fig, ax = plt.subplots(1, 1)\n",
    "ax.bar(n_iso.value_counts().index,\n",
    "       n_iso.value_counts().values)\n",
    "ax.set_xticks(range(1, 11))\n",
    "ax.set_xlabel('Number of isoforms')\n",
    "ax.set_ylabel('Number of TF genes with PPI data');"
   ]
  },
  {
   "cell_type": "code",
   "execution_count": 11,
   "metadata": {},
   "outputs": [
    {
     "data": {
      "image/png": "[encoded data removed]",
      "text/plain": [
       "<Figure size 432x288 with 1 Axes>"
      ]
     },
     "metadata": {
      "needs_background": "light"
     },
     "output_type": "display_data"
    }
   ],
   "source": [
    "n_ppi = y2h.loc[y2h['category'] == 'tf_isoform_ppis', :].groupby('ad_gene_symbol').nunique()['db_gene_symbol']\n",
    "fig, ax = plt.subplots(1, 1)\n",
    "ax.hist(n_ppi.values, range=(0.5, n_ppi.max() + 0.5), bins=n_ppi.max())\n",
    "ax.set_xlabel('Number of PPI partners')\n",
    "ax.set_ylabel('Number of TF genes');"
   ]
  },
  {
   "cell_type": "markdown",
   "metadata": {},
   "source": [
    "## TODO\n",
    "\n",
    "Plot degree of binding partners vs. fraction of isoforms interacting"
   ]
  }
 ],
 "metadata": {
  "kernelspec": {
   "display_name": "Python 3",
   "language": "python",
   "name": "python3"
  },
  "language_info": {
   "codemirror_mode": {
    "name": "ipython",
    "version": 3
   },
   "file_extension": ".py",
   "mimetype": "text/x-python",
   "name": "python",
   "nbconvert_exporter": "python",
   "pygments_lexer": "ipython3",
   "version": "3.7.3"
  }
 },
 "nbformat": 4,
 "nbformat_minor": 2
}
