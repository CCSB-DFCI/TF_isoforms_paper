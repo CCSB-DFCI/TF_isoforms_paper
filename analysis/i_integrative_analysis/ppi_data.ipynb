{
 "cells": [
  {
   "cell_type": "code",
   "execution_count": 1,
   "metadata": {},
   "outputs": [],
   "source": [
    "from matplotlib import pyplot as plt\n",
    "\n",
    "from data_loading import (load_isoform_and_paralog_y2h_data,\n",
    "                          load_valid_isoform_clones)\n",
    "\n",
    "%matplotlib inline"
   ]
  },
  {
   "cell_type": "code",
   "execution_count": 2,
   "metadata": {},
   "outputs": [],
   "source": [
    "y2h = load_isoform_and_paralog_y2h_data()\n",
    "isoforms = load_valid_isoform_clones()"
   ]
  },
  {
   "cell_type": "code",
   "execution_count": 3,
   "metadata": {},
   "outputs": [
    {
     "name": "stdout",
     "output_type": "stream",
     "text": [
      "Total TF genes with cloned isoforms: 312\n",
      "with ≥ 1 PPI: 132\n",
      "with ≥ 2 isoforms with ≥ 1 PPI each: 72\n",
      "with ≥ 2 isoforms with ≥ 1 successuful PPI test for the same partner: 90\n"
     ]
    }
   ],
   "source": [
    "print('Total TF genes with cloned isoforms: {}'.format(isoforms['gene'].nunique()))\n",
    "print('with ≥ 1 PPI: {}'.format(y2h.loc[(y2h['category'] == 'tf_isoform_ppis') &\n",
    "                                        (y2h['score'] == '1'), \n",
    "                                        'ad_gene_symbol'].nunique()))\n",
    "print('with ≥ 2 isoforms with ≥ 1 PPI each: {}'\n",
    "       .format(\n",
    "          (y2h.loc[(y2h['category'] == 'tf_isoform_ppis') &\n",
    "                   (y2h['score'] == '1'), \n",
    "                   :]\n",
    "              .groupby('ad_gene_symbol')\n",
    "              ['ad_clone_acc']\n",
    "              .nunique()\n",
    "              >= 2).sum()  \n",
    "         )\n",
    "     )\n",
    "print('with ≥ 2 isoforms with ≥ 1 successuful PPI test for the same partner: {}'\n",
    "       .format(\n",
    "        (((y2h.loc[(y2h['category'] == 'tf_isoform_ppis') &\n",
    "                   y2h['score'].isin(['0', '1']), \n",
    "                   :]\n",
    "              .groupby(['ad_gene_symbol', 'db_gene_symbol'])\n",
    "              ['ad_clone_acc']\n",
    "              .nunique() # number of isoforms per partner with valid interactions\n",
    "              >= 2)\n",
    "              .reset_index()\n",
    "              .groupby('ad_gene_symbol').sum() >= 2).sum().iat[0])\n",
    "     )\n",
    ")"
   ]
  },
  {
   "cell_type": "code",
   "execution_count": 4,
   "metadata": {},
   "outputs": [
    {
     "name": "stdout",
     "output_type": "stream",
     "text": [
      "Total TF isoforms: 792\n",
      "with ≥ 1 PPI: 242\n"
     ]
    }
   ],
   "source": [
    "print('Total TF isoforms: {}'.format(isoforms['clone_acc'].nunique()))\n",
    "print('with ≥ 1 PPI: {}'.format(y2h.loc[(y2h['category'] == 'tf_isoform_ppis') &\n",
    "                                        (y2h['score'] == '1'), \n",
    "                                        'ad_clone_acc'].nunique()))"
   ]
  },
  {
   "cell_type": "code",
   "execution_count": 5,
   "metadata": {},
   "outputs": [],
   "source": [
    "from ccsblib import huri\n",
    "\n",
    "hiu = huri.load_nw_hi_union(id_type='ensembl_gene_id')\n",
    "lit = huri.load_nw_lit_17(id_type='ensembl_gene_id')\n",
    "litb = lit.loc[lit['category'].isin(['Lit-BM', 'Lit-BS']), :].copy()\n",
    "litbm = lit.loc[lit['category'].isin(['Lit-BM']), :].copy()\n",
    "\n",
    "def map_gene_names(nw):\n",
    "    return set(huri.map_nw_ids(nw, 'ensembl_gene_id', 'hgnc_symbol').index)\n",
    "\n",
    "hiu = map_gene_names(hiu)\n",
    "lit = map_gene_names(lit)\n",
    "litbm = map_gene_names(litbm)\n",
    "litb = map_gene_names(litb)"
   ]
  },
  {
   "cell_type": "code",
   "execution_count": 6,
   "metadata": {},
   "outputs": [],
   "source": [
    "new_ppis = y2h.loc[(y2h['category'] == 'tf_isoform_ppis') &\n",
    "                        (y2h['score'] == '1'),\n",
    "                        ['ad_gene_symbol', 'db_gene_symbol']].drop_duplicates().copy()\n",
    "new_ppis = set((new_ppis[['ad_gene_symbol', 'db_gene_symbol']].min(axis=1) + '_' +\n",
    "               new_ppis[['ad_gene_symbol', 'db_gene_symbol']].max(axis=1)).drop_duplicates().values)"
   ]
  },
  {
   "cell_type": "code",
   "execution_count": 7,
   "metadata": {},
   "outputs": [
    {
     "name": "stdout",
     "output_type": "stream",
     "text": [
      "Total number of PPIs at isoform-level: 2450\n",
      "Gene-gene PPIs: 1371\n",
      "Not in HI-Union: 565\n",
      "Not in HI-Union or Lit-BM: 555\n",
      "Not in HI-Union or Lit-B: 553\n",
      "Not in HI-Union or Lit-NB: 523\n"
     ]
    }
   ],
   "source": [
    "print('Total number of PPIs at isoform-level: {}'\n",
    "        .format(y2h.loc[(y2h['category'] == 'tf_isoform_ppis') &\n",
    "                        (y2h['score'] == '1'), ].shape[0]))\n",
    "print('Gene-gene PPIs: {}'.format(len(new_ppis)))\n",
    "print('Not in HI-Union: {}'.format(len(new_ppis.difference(hiu))))\n",
    "print('Not in HI-Union or Lit-BM: {}'.format(len(new_ppis.difference(hiu.union(litbm)))))\n",
    "print('Not in HI-Union or Lit-B: {}'.format(len(new_ppis.difference(hiu.union(litb)))))\n",
    "print('Not in HI-Union or Lit-NB: {}'.format(len(new_ppis.difference(hiu.union(lit)))))"
   ]
  },
  {
   "cell_type": "code",
   "execution_count": 8,
   "metadata": {},
   "outputs": [
    {
     "name": "stdout",
     "output_type": "stream",
     "text": [
      "Of 914 tested partners, 728 had at least one positive result\n"
     ]
    }
   ],
   "source": [
    "#    - How many partners were negative in all pairwise tests?\n",
    "a = y2h.loc[(y2h['category'] == 'tf_isoform_ppis'),\n",
    "           'db_gene_symbol'].nunique()\n",
    "b = y2h.loc[(y2h['category'] == 'tf_isoform_ppis') &\n",
    "           (y2h['score'] == '1'),\n",
    "           'db_gene_symbol'].nunique()\n",
    "print('Of {} tested partners, {} had at least one positive result'.format(a, b))"
   ]
  },
  {
   "cell_type": "code",
   "execution_count": 9,
   "metadata": {},
   "outputs": [
    {
     "data": {
      "text/html": [
       "<div>\n",
       "<style scoped>\n",
       "    .dataframe tbody tr th:only-of-type {\n",
       "        vertical-align: middle;\n",
       "    }\n",
       "\n",
       "    .dataframe tbody tr th {\n",
       "        vertical-align: top;\n",
       "    }\n",
       "\n",
       "    .dataframe thead th {\n",
       "        text-align: right;\n",
       "    }\n",
       "</style>\n",
       "<table border=\"1\" class=\"dataframe\">\n",
       "  <thead>\n",
       "    <tr style=\"text-align: right;\">\n",
       "      <th></th>\n",
       "      <th>category</th>\n",
       "      <th>ad_orf_id</th>\n",
       "      <th>ad_clone_acc</th>\n",
       "      <th>ad_gene_symbol</th>\n",
       "      <th>db_orf_id</th>\n",
       "      <th>db_gene_symbol</th>\n",
       "      <th>score</th>\n",
       "    </tr>\n",
       "  </thead>\n",
       "  <tbody>\n",
       "    <tr>\n",
       "      <th>57</th>\n",
       "      <td>tf_isoform_ppis</td>\n",
       "      <td>101216</td>\n",
       "      <td>GATA1|1/2|08A02</td>\n",
       "      <td>GATA1</td>\n",
       "      <td>1579</td>\n",
       "      <td>TEKT4</td>\n",
       "      <td>0</td>\n",
       "    </tr>\n",
       "    <tr>\n",
       "      <th>103</th>\n",
       "      <td>tf_isoform_ppis</td>\n",
       "      <td>100301</td>\n",
       "      <td>SMAD3|1/4|06A07</td>\n",
       "      <td>SMAD3</td>\n",
       "      <td>1579</td>\n",
       "      <td>TEKT4</td>\n",
       "      <td>0</td>\n",
       "    </tr>\n",
       "    <tr>\n",
       "      <th>115</th>\n",
       "      <td>tf_isoform_ppis</td>\n",
       "      <td>100697</td>\n",
       "      <td>SMAD3|4/4|06F07</td>\n",
       "      <td>SMAD3</td>\n",
       "      <td>1579</td>\n",
       "      <td>TEKT4</td>\n",
       "      <td>0</td>\n",
       "    </tr>\n",
       "    <tr>\n",
       "      <th>126</th>\n",
       "      <td>tf_isoform_ppis</td>\n",
       "      <td>100657</td>\n",
       "      <td>SMAD3|2/4|06G07</td>\n",
       "      <td>SMAD3</td>\n",
       "      <td>1579</td>\n",
       "      <td>TEKT4</td>\n",
       "      <td>0</td>\n",
       "    </tr>\n",
       "    <tr>\n",
       "      <th>138</th>\n",
       "      <td>tf_isoform_ppis</td>\n",
       "      <td>100479</td>\n",
       "      <td>SMAD3|3/4|06B08</td>\n",
       "      <td>SMAD3</td>\n",
       "      <td>1579</td>\n",
       "      <td>TEKT4</td>\n",
       "      <td>0</td>\n",
       "    </tr>\n",
       "  </tbody>\n",
       "</table>\n",
       "</div>"
      ],
      "text/plain": [
       "            category  ad_orf_id     ad_clone_acc ad_gene_symbol  db_orf_id  \\\n",
       "57   tf_isoform_ppis     101216  GATA1|1/2|08A02          GATA1       1579   \n",
       "103  tf_isoform_ppis     100301  SMAD3|1/4|06A07          SMAD3       1579   \n",
       "115  tf_isoform_ppis     100697  SMAD3|4/4|06F07          SMAD3       1579   \n",
       "126  tf_isoform_ppis     100657  SMAD3|2/4|06G07          SMAD3       1579   \n",
       "138  tf_isoform_ppis     100479  SMAD3|3/4|06B08          SMAD3       1579   \n",
       "\n",
       "    db_gene_symbol score  \n",
       "57           TEKT4     0  \n",
       "103          TEKT4     0  \n",
       "115          TEKT4     0  \n",
       "126          TEKT4     0  \n",
       "138          TEKT4     0  "
      ]
     },
     "execution_count": 9,
     "metadata": {},
     "output_type": "execute_result"
    }
   ],
   "source": [
    "a = y2h.loc[(y2h['category'] == 'tf_isoform_ppis'),\n",
    "           'db_gene_symbol'].unique()\n",
    "b = y2h.loc[(y2h['category'] == 'tf_isoform_ppis') &\n",
    "           (y2h['score'] == '1'),\n",
    "           'db_gene_symbol'].unique()\n",
    "c = set(a).difference(set(b))\n",
    "# remove these interactions where none of the isoforms are positive\n",
    "y2h.loc[(y2h['category'] == 'tf_isoform_ppis') &\n",
    "        y2h['db_gene_symbol'].isin(c), :].head()"
   ]
  },
  {
   "cell_type": "markdown",
   "metadata": {},
   "source": [
    "### TODO\n",
    "\n",
    "Can we quantify how many additional PPIs we get from studying multiple isoforms relative a single isoform?\n",
    "\n",
    "We would want to use the screening data, filtered by the pairwise test data, I guess.\n",
    "\n",
    "Would need to distinguish beetween screening with the same clone twice vs two different isoforms?"
   ]
  },
  {
   "cell_type": "code",
   "execution_count": 10,
   "metadata": {},
   "outputs": [
    {
     "data": {
      "image/png": "[encoded data removed]",
      "text/plain": [
       "<Figure size 432x288 with 1 Axes>"
      ]
     },
     "metadata": {
      "needs_background": "light"
     },
     "output_type": "display_data"
    }
   ],
   "source": [
    "#    - Number of isoforms per TF gene\n",
    "\n",
    "# remove isoform counts of 1?\n",
    "n_iso = y2h.loc[y2h['category'] == 'tf_isoform_ppis', :].groupby('ad_gene_symbol').nunique()['ad_clone_acc']\n",
    "fig, ax = plt.subplots(1, 1)\n",
    "ax.bar(n_iso.value_counts().index,\n",
    "       n_iso.value_counts().values)\n",
    "ax.set_xticks(range(1, 11))\n",
    "ax.set_xlabel('Number of isoforms')\n",
    "ax.set_ylabel('Number of TF genes with PPI data');"
   ]
  },
  {
   "cell_type": "code",
   "execution_count": 11,
   "metadata": {},
   "outputs": [
    {
     "data": {
      "image/png": "[encoded data removed]",
      "text/plain": [
       "<Figure size 432x288 with 1 Axes>"
      ]
     },
     "metadata": {
      "needs_background": "light"
     },
     "output_type": "display_data"
    }
   ],
   "source": [
    "n_ppi = y2h.loc[y2h['category'] == 'tf_isoform_ppis', :].groupby('ad_gene_symbol').nunique()['db_gene_symbol']\n",
    "fig, ax = plt.subplots(1, 1)\n",
    "ax.hist(n_ppi.values, range=(0.5, n_ppi.max() + 0.5), bins=n_ppi.max())\n",
    "ax.set_xlabel('Number of PPI partners')\n",
    "ax.set_ylabel('Number of TF genes');"
   ]
  },
  {
   "cell_type": "markdown",
   "metadata": {},
   "source": [
    "## TODO\n",
    "\n",
    "Plot degree of binding partners vs. fraction of isoforms interacting"
   ]
  }
 ],
 "metadata": {
  "kernelspec": {
   "display_name": "Python 3",
   "language": "python",
   "name": "python3"
  },
  "language_info": {
   "codemirror_mode": {
    "name": "ipython",
    "version": 3
   },
   "file_extension": ".py",
   "mimetype": "text/x-python",
   "name": "python",
   "nbconvert_exporter": "python",
   "pygments_lexer": "ipython3",
   "version": "3.7.3"
  }
 },
 "nbformat": 4,
 "nbformat_minor": 2
}
