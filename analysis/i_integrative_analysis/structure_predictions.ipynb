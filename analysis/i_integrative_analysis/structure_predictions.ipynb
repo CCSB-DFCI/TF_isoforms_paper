{
 "cells": [
  {
   "cell_type": "code",
   "execution_count": 1,
   "source": [
    "import subprocess\n",
    "from pathlib import Path\n",
    "\n",
    "from IPython.display import Image, Video\n",
    "from matplotlib import pyplot as plt\n",
    "\n",
    "from data_loading import load_annotated_6k_collection"
   ],
   "outputs": [],
   "metadata": {}
  },
  {
   "cell_type": "code",
   "execution_count": 2,
   "source": [
    "tfs = load_annotated_6k_collection()"
   ],
   "outputs": [
    {
     "output_type": "stream",
     "name": "stderr",
     "text": [
      "100%|██████████| 2748/2748 [00:11<00:00, 230.18it/s]\n"
     ]
    },
    {
     "output_type": "error",
     "ename": "ValueError",
     "evalue": "Your version of xlrd is 2.0.1. In xlrd >= 2.0, only the xls format is supported. Install openpyxl instead.",
     "traceback": [
      "\u001b[0;31m---------------------------------------------------------------------------\u001b[0m",
      "\u001b[0;31mValueError\u001b[0m                                Traceback (most recent call last)",
      "\u001b[0;32m<ipython-input-2-e4ed3157afdf>\u001b[0m in \u001b[0;36m<module>\u001b[0;34m\u001b[0m\n\u001b[0;32m----> 1\u001b[0;31m \u001b[0mtfs\u001b[0m \u001b[0;34m=\u001b[0m \u001b[0mload_annotated_6k_collection\u001b[0m\u001b[0;34m(\u001b[0m\u001b[0;34m)\u001b[0m\u001b[0;34m\u001b[0m\u001b[0;34m\u001b[0m\u001b[0m\n\u001b[0m",
      "\u001b[0;32m~/work/tf_isoforms/analysis/i_integrative_analysis/data_loading.py\u001b[0m in \u001b[0;36mload_annotated_6k_collection\u001b[0;34m(path_6k_gtf, path_6k_fa, path_gencode_aa_seq, path_MANE_select, path_APPRIS, path_effector_domains)\u001b[0m\n\u001b[1;32m    736\u001b[0m                 \u001b[0miso\u001b[0m\u001b[0;34m.\u001b[0m\u001b[0mAPPRIS_annotation\u001b[0m \u001b[0;34m=\u001b[0m \u001b[0m_consolidate_appris_annotations\u001b[0m\u001b[0;34m(\u001b[0m\u001b[0mannotations\u001b[0m\u001b[0;34m)\u001b[0m\u001b[0;34m\u001b[0m\u001b[0;34m\u001b[0m\u001b[0m\n\u001b[1;32m    737\u001b[0m \u001b[0;34m\u001b[0m\u001b[0m\n\u001b[0;32m--> 738\u001b[0;31m     \u001b[0mreg_dom\u001b[0m \u001b[0;34m=\u001b[0m \u001b[0mpd\u001b[0m\u001b[0;34m.\u001b[0m\u001b[0mread_excel\u001b[0m\u001b[0;34m(\u001b[0m\u001b[0mpath_effector_domains\u001b[0m\u001b[0;34m,\u001b[0m \u001b[0msheet_name\u001b[0m\u001b[0;34m=\u001b[0m\u001b[0;34m'Table S2'\u001b[0m\u001b[0;34m)\u001b[0m\u001b[0;34m\u001b[0m\u001b[0;34m\u001b[0m\u001b[0m\n\u001b[0m\u001b[1;32m    739\u001b[0m     domain_type_full = {'AD': 'Activation domain',\n\u001b[1;32m    740\u001b[0m                         \u001b[0;34m'RD'\u001b[0m\u001b[0;34m:\u001b[0m \u001b[0;34m'Repression domain'\u001b[0m\u001b[0;34m,\u001b[0m\u001b[0;34m\u001b[0m\u001b[0;34m\u001b[0m\u001b[0m\n",
      "\u001b[0;32m/usr/local/lib/python3.9/site-packages/pandas/util/_decorators.py\u001b[0m in \u001b[0;36mwrapper\u001b[0;34m(*args, **kwargs)\u001b[0m\n\u001b[1;32m    297\u001b[0m                 )\n\u001b[1;32m    298\u001b[0m                 \u001b[0mwarnings\u001b[0m\u001b[0;34m.\u001b[0m\u001b[0mwarn\u001b[0m\u001b[0;34m(\u001b[0m\u001b[0mmsg\u001b[0m\u001b[0;34m,\u001b[0m \u001b[0mFutureWarning\u001b[0m\u001b[0;34m,\u001b[0m \u001b[0mstacklevel\u001b[0m\u001b[0;34m=\u001b[0m\u001b[0mstacklevel\u001b[0m\u001b[0;34m)\u001b[0m\u001b[0;34m\u001b[0m\u001b[0;34m\u001b[0m\u001b[0m\n\u001b[0;32m--> 299\u001b[0;31m             \u001b[0;32mreturn\u001b[0m \u001b[0mfunc\u001b[0m\u001b[0;34m(\u001b[0m\u001b[0;34m*\u001b[0m\u001b[0margs\u001b[0m\u001b[0;34m,\u001b[0m \u001b[0;34m**\u001b[0m\u001b[0mkwargs\u001b[0m\u001b[0;34m)\u001b[0m\u001b[0;34m\u001b[0m\u001b[0;34m\u001b[0m\u001b[0m\n\u001b[0m\u001b[1;32m    300\u001b[0m \u001b[0;34m\u001b[0m\u001b[0m\n\u001b[1;32m    301\u001b[0m         \u001b[0;32mreturn\u001b[0m \u001b[0mwrapper\u001b[0m\u001b[0;34m\u001b[0m\u001b[0;34m\u001b[0m\u001b[0m\n",
      "\u001b[0;32m/usr/local/lib/python3.9/site-packages/pandas/io/excel/_base.py\u001b[0m in \u001b[0;36mread_excel\u001b[0;34m(io, sheet_name, header, names, index_col, usecols, squeeze, dtype, engine, converters, true_values, false_values, skiprows, nrows, na_values, keep_default_na, na_filter, verbose, parse_dates, date_parser, thousands, comment, skipfooter, convert_float, mangle_dupe_cols, storage_options)\u001b[0m\n\u001b[1;32m    334\u001b[0m     \u001b[0;32mif\u001b[0m \u001b[0;32mnot\u001b[0m \u001b[0misinstance\u001b[0m\u001b[0;34m(\u001b[0m\u001b[0mio\u001b[0m\u001b[0;34m,\u001b[0m \u001b[0mExcelFile\u001b[0m\u001b[0;34m)\u001b[0m\u001b[0;34m:\u001b[0m\u001b[0;34m\u001b[0m\u001b[0;34m\u001b[0m\u001b[0m\n\u001b[1;32m    335\u001b[0m         \u001b[0mshould_close\u001b[0m \u001b[0;34m=\u001b[0m \u001b[0;32mTrue\u001b[0m\u001b[0;34m\u001b[0m\u001b[0;34m\u001b[0m\u001b[0m\n\u001b[0;32m--> 336\u001b[0;31m         \u001b[0mio\u001b[0m \u001b[0;34m=\u001b[0m \u001b[0mExcelFile\u001b[0m\u001b[0;34m(\u001b[0m\u001b[0mio\u001b[0m\u001b[0;34m,\u001b[0m \u001b[0mstorage_options\u001b[0m\u001b[0;34m=\u001b[0m\u001b[0mstorage_options\u001b[0m\u001b[0;34m,\u001b[0m \u001b[0mengine\u001b[0m\u001b[0;34m=\u001b[0m\u001b[0mengine\u001b[0m\u001b[0;34m)\u001b[0m\u001b[0;34m\u001b[0m\u001b[0;34m\u001b[0m\u001b[0m\n\u001b[0m\u001b[1;32m    337\u001b[0m     \u001b[0;32melif\u001b[0m \u001b[0mengine\u001b[0m \u001b[0;32mand\u001b[0m \u001b[0mengine\u001b[0m \u001b[0;34m!=\u001b[0m \u001b[0mio\u001b[0m\u001b[0;34m.\u001b[0m\u001b[0mengine\u001b[0m\u001b[0;34m:\u001b[0m\u001b[0;34m\u001b[0m\u001b[0;34m\u001b[0m\u001b[0m\n\u001b[1;32m    338\u001b[0m         raise ValueError(\n",
      "\u001b[0;32m/usr/local/lib/python3.9/site-packages/pandas/io/excel/_base.py\u001b[0m in \u001b[0;36m__init__\u001b[0;34m(self, path_or_buffer, engine, storage_options)\u001b[0m\n\u001b[1;32m   1100\u001b[0m \u001b[0;34m\u001b[0m\u001b[0m\n\u001b[1;32m   1101\u001b[0m             \u001b[0;32mif\u001b[0m \u001b[0mext\u001b[0m \u001b[0;34m!=\u001b[0m \u001b[0;34m\"xls\"\u001b[0m \u001b[0;32mand\u001b[0m \u001b[0mxlrd_version\u001b[0m \u001b[0;34m>=\u001b[0m \u001b[0;34m\"2\"\u001b[0m\u001b[0;34m:\u001b[0m\u001b[0;34m\u001b[0m\u001b[0;34m\u001b[0m\u001b[0m\n\u001b[0;32m-> 1102\u001b[0;31m                 raise ValueError(\n\u001b[0m\u001b[1;32m   1103\u001b[0m                     \u001b[0;34mf\"Your version of xlrd is {xlrd_version}. In xlrd >= 2.0, \"\u001b[0m\u001b[0;34m\u001b[0m\u001b[0;34m\u001b[0m\u001b[0m\n\u001b[1;32m   1104\u001b[0m                     \u001b[0;34mf\"only the xls format is supported. Install openpyxl instead.\"\u001b[0m\u001b[0;34m\u001b[0m\u001b[0;34m\u001b[0m\u001b[0m\n",
      "\u001b[0;31mValueError\u001b[0m: Your version of xlrd is 2.0.1. In xlrd >= 2.0, only the xls format is supported. Install openpyxl instead."
     ]
    }
   ],
   "metadata": {}
  },
  {
   "cell_type": "code",
   "execution_count": 3,
   "source": [
    "import tempfile\n",
    "\n",
    "\n",
    "def compare_isoform_structures(gene,\n",
    "                               fname,\n",
    "                               n_pixel_height=1000,\n",
    "                               n_frames=100,\n",
    "                               frame_rate=10,\n",
    "                               verbose=False,\n",
    "                               pymol_script_dir='/tmp/pymol_scripts',\n",
    "                               pymol_session_dir='/tmp/pymol_sessions',\n",
    "                               structure_dir='../../data/internal/alphafold/casp14',\n",
    "                               structure_dir_backup='../../data/internal/alphafold/reduced_dbs'):\n",
    "    \"\"\"\n",
    "\n",
    "    Args:\n",
    "        gene ([type]): [description]\n",
    "        fname ([type]): [description]\n",
    "        n_pixel_height (int, optional): [description]. Defaults to 1000.\n",
    "        n_frames (int, optional): [description]. Defaults to 100.\n",
    "        frame_rate (int, optional): [description]. Defaults to 10.\n",
    "        verbose (bool, optional): [description]. Defaults to False.\n",
    "        pymol_script_dir (str, optional): [description]. Defaults to '/tmp/pymol_scripts'.\n",
    "        pymol_session_dir (str, optional): [description]. Defaults to '/tmp/pymol_sessions'.\n",
    "\n",
    "    Raises:\n",
    "        ValueError: [description]\n",
    "    \"\"\"\n",
    "    if Path(fname).exists():\n",
    "        print('already have video for: ', gene.name)\n",
    "        return\n",
    "    if not fname.endswith('.mp4'):\n",
    "        raise ValueError('Must be .mp4 output file')\n",
    "    structure_dir = Path(structure_dir)\n",
    "    structure_dir_backup = Path(structure_dir_backup)\n",
    "    pymol_script_dir = Path(pymol_script_dir)\n",
    "    pymol_session_dir = Path(pymol_session_dir)\n",
    "    pymol_script_dir.mkdir(exist_ok=True)\n",
    "    pymol_session_dir.mkdir(exist_ok=True)\n",
    "    pymol_script_path = pymol_script_dir / '{}_alphafold_cloned_isoforms.pml'.format(gene.name)\n",
    "    pymol_session_path = pymol_session_dir / '{}_alphafold_cloned_isoforms.pse'.format(gene.name)\n",
    "    temp_dir = tempfile.TemporaryDirectory()\n",
    "    isoforms_with_structure = []\n",
    "    with open(pymol_script_path, 'w') as f:\n",
    "        f.write('reinitialize\\n')\n",
    "        f.write('bg_color white\\n')\n",
    "        for isoform in gene.cloned_isoforms:\n",
    "            fpath = structure_dir / (isoform.name + '/ranked_0.pdb')\n",
    "            fpath_backup = structure_dir_backup / (isoform.name + '/ranked_0.pdb')\n",
    "            if not fpath.exists():\n",
    "                if fpath_backup.exists():\n",
    "                    fpath = fpath_backup\n",
    "                else:\n",
    "                    print('Not all structures for ', gene.name)\n",
    "                    return\n",
    "            isoforms_with_structure.append(isoform)\n",
    "            f.write('load {}, {}\\n'.format(fpath, isoform.name.replace('-', '_')))\n",
    "            if isoform.name != gene.cloned_isoforms[0].name:\n",
    "                f.write('align {}, {}\\n'.format(isoform.name.replace('-', '_'),\n",
    "                                                gene.cloned_isoforms[0].name.replace('-', '_')))\n",
    "            exon_colors = gene._get_exon_colors()\n",
    "            exon_pos = 1\n",
    "            nt_diff = 0\n",
    "            for exon in isoform.exons:\n",
    "                n_nt_to_exon = (exon.end - exon.start) + nt_diff\n",
    "                n_aa_exon = round(n_nt_to_exon / 3)\n",
    "                nt_diff = {0: 0, 1: 1, 2: -1}[n_nt_to_exon % 3]\n",
    "                color = exon_colors[(isoform.name, exon.start, exon.end)]\n",
    "                start = exon_pos\n",
    "                end = (exon_pos + n_aa_exon) - 1\n",
    "                color_name = isoform.name + '_' + str(exon.start) + '_color'\n",
    "                f.write('set_color {}, {}\\n'.format(color_name, color))\n",
    "                f.write('color {}, {} AND resi {}-{}\\n'.format(color_name,\n",
    "                                                            isoform.name.replace('-', '_'),\n",
    "                                                            start,\n",
    "                                                            end))\n",
    "                exon_pos += n_aa_exon\n",
    "\n",
    "        f.write('set grid_mode, 1\\n')\n",
    "        for i, isoform in enumerate(isoforms_with_structure):\n",
    "            f.write('set grid_slot, {}, {}\\n'.format(i + 1, isoform.name.replace('-', '_')))\n",
    "\n",
    "        f.write('refresh\\n')  # need refresh otherwise grid mode doesn't work\n",
    "        f.write('viewport {}, {}\\n'.format(n_pixel_height * len(isoforms_with_structure), n_pixel_height))\n",
    "        f.write('zoom\\n')\n",
    "        f.write('save {}\\n'.format(pymol_session_path))\n",
    "        f.write('set cache_frames, 0\\n')\n",
    "        f.write('set ray_trace_frames, 1\\n')\n",
    "        f.write('mset 1-{}\\n'.format(n_frames))\n",
    "        f.write(\"movie.roll first=1, last={}, axis=y\\n\".format(n_frames // 2))\n",
    "        f.write(\"movie.roll first={}, last=-1, axis=x\\n\".format(n_frames // 2 + 1))\n",
    "        f.write('mplay\\n')\n",
    "        f.write('mpng {}/movie\\n'.format(temp_dir.name))\n",
    "    print('Making video for ', gene.name)\n",
    "    ret = subprocess.run('pymol -c {}'.format(pymol_script_path),\n",
    "                         capture_output=True,\n",
    "                         shell=True)\n",
    "    if verbose:\n",
    "        print(ret.stdout.decode())\n",
    "        print(ret.stderr.decode())\n",
    "    Path(fname).parents[0].mkdir(exist_ok=True, parents=True)\n",
    "    # crf is between 0 and 51 and controls compression with 0 being lossless\n",
    "    # I tested and found 27 was good, 30 looked bad\n",
    "    cmd = 'ffmpeg -y -r {} -f image2 -i {}/movie%04d.png -c:v libx264 -profile:v main -crf 27 -tune stillimage -pix_fmt yuv420p {}'.format(frame_rate, temp_dir.name, fname)\n",
    "    ret = subprocess.run(cmd, capture_output=True, shell=True)\n",
    "    if verbose:\n",
    "        print(cmd)\n",
    "        print(ret.stdout.decode())\n",
    "        print(ret.stderr.decode())\n",
    "    temp_dir.cleanup()\n"
   ],
   "outputs": [],
   "metadata": {}
  },
  {
   "cell_type": "code",
   "execution_count": 5,
   "source": [
    "import tqdm\n",
    "fpath_template = '../../figures/alphafold/videos/{}_alphafold2_cloned-isoforms.mp4'\n",
    "for tf in tqdm.tqdm(tfs.values()):\n",
    "        compare_isoform_structures(gene=tf,\n",
    "                                   fname=fpath_template.format(tf.name),\n",
    "                                   n_frames=60,\n",
    "                                   frame_rate=6)"
   ],
   "outputs": [
    {
     "output_type": "stream",
     "name": "stderr",
     "text": [
      "  0%|          | 0/309 [00:00<?, ?it/s]"
     ]
    },
    {
     "output_type": "stream",
     "name": "stdout",
     "text": [
      "Not all structures for  ZBTB18\n",
      "already have video for:  PRRX1\n",
      "Making video for  POU2F1\n"
     ]
    },
    {
     "output_type": "stream",
     "name": "stderr",
     "text": [
      "  1%|          | 3/309 [03:20<5:40:25, 66.75s/it]"
     ]
    },
    {
     "output_type": "stream",
     "name": "stdout",
     "text": [
      "Making video for  ATF3\n"
     ]
    },
    {
     "output_type": "stream",
     "name": "stderr",
     "text": [
      "  1%|▏         | 4/309 [04:19<5:27:33, 64.44s/it]"
     ]
    },
    {
     "output_type": "stream",
     "name": "stdout",
     "text": [
      "already have video for:  GRHL3\n",
      "Making video for  ZNF691\n"
     ]
    },
    {
     "output_type": "stream",
     "name": "stderr",
     "text": [
      "  2%|▏         | 6/309 [06:10<5:03:30, 60.10s/it]"
     ]
    },
    {
     "output_type": "stream",
     "name": "stdout",
     "text": [
      "Making video for  NFIA\n"
     ]
    },
    {
     "output_type": "stream",
     "name": "stderr",
     "text": [
      "  2%|▏         | 7/309 [09:55<8:34:42, 102.26s/it]"
     ]
    },
    {
     "output_type": "stream",
     "name": "stdout",
     "text": [
      "Not all structures for  ZBTB7B\n",
      "already have video for:  LHX8\n",
      "Making video for  PAX7\n"
     ]
    },
    {
     "output_type": "stream",
     "name": "stderr",
     "text": [
      "  3%|▎         | 10/309 [14:42<8:11:42, 98.67s/it]"
     ]
    },
    {
     "output_type": "stream",
     "name": "stdout",
     "text": [
      "Making video for  LHX9\n"
     ]
    },
    {
     "output_type": "stream",
     "name": "stderr",
     "text": [
      "  4%|▎         | 11/309 [16:59<8:48:48, 106.47s/it]"
     ]
    },
    {
     "output_type": "stream",
     "name": "stdout",
     "text": [
      "Not all structures for  ZBTB48\n",
      "Making video for  PBX1\n"
     ]
    },
    {
     "output_type": "stream",
     "name": "stderr",
     "text": [
      "  4%|▍         | 13/309 [19:10<7:31:34, 91.54s/it] "
     ]
    },
    {
     "output_type": "stream",
     "name": "stdout",
     "text": [
      "Making video for  NFYC\n"
     ]
    },
    {
     "output_type": "stream",
     "name": "stderr",
     "text": [
      "  5%|▍         | 14/309 [20:00<6:48:00, 82.99s/it]"
     ]
    },
    {
     "output_type": "stream",
     "name": "stdout",
     "text": [
      "Making video for  NR5A2\n"
     ]
    },
    {
     "output_type": "stream",
     "name": "stderr",
     "text": [
      "  5%|▍         | 15/309 [24:48<10:35:09, 129.62s/it]"
     ]
    },
    {
     "output_type": "stream",
     "name": "stdout",
     "text": [
      "Making video for  GMEB1\n"
     ]
    },
    {
     "output_type": "stream",
     "name": "stderr",
     "text": [
      "  5%|▌         | 16/309 [25:53<9:14:45, 113.60s/it] "
     ]
    },
    {
     "output_type": "stream",
     "name": "stdout",
     "text": [
      "Not all structures for  PRDM16\n",
      "already have video for:  RORC\n",
      "Not all structures for  ZNF124\n",
      "already have video for:  ELK4\n",
      "already have video for:  TBX15\n",
      "Not all structures for  ZNF648\n",
      "Not all structures for  ZNF669\n",
      "already have video for:  RXRG\n",
      "Making video for  ESRRG\n"
     ]
    },
    {
     "output_type": "stream",
     "name": "stderr",
     "text": [
      "  8%|▊         | 25/309 [28:21<3:09:00, 39.93s/it] "
     ]
    },
    {
     "output_type": "stream",
     "name": "stdout",
     "text": [
      "Not all structures for  ZNF692\n",
      "Making video for  MEIS1\n"
     ]
    },
    {
     "output_type": "stream",
     "name": "stderr",
     "text": [
      "  9%|▊         | 27/309 [30:09<3:20:12, 42.60s/it]"
     ]
    },
    {
     "output_type": "stream",
     "name": "stdout",
     "text": [
      "already have video for:  CREB1\n",
      "already have video for:  DLX1\n",
      "already have video for:  FOXD4L1\n",
      "Making video for  REL\n"
     ]
    },
    {
     "output_type": "stream",
     "name": "stderr",
     "text": [
      " 10%|█         | 31/309 [31:22<2:37:17, 33.95s/it]"
     ]
    },
    {
     "output_type": "stream",
     "name": "stdout",
     "text": [
      "Not all structures for  NPAS2\n",
      "Making video for  PAX8\n"
     ]
    },
    {
     "output_type": "stream",
     "name": "stderr",
     "text": [
      " 11%|█         | 33/309 [35:20<3:55:30, 51.20s/it]"
     ]
    },
    {
     "output_type": "stream",
     "name": "stdout",
     "text": [
      "Making video for  E2F6\n"
     ]
    },
    {
     "output_type": "stream",
     "name": "stderr",
     "text": [
      " 11%|█         | 34/309 [36:31<4:06:20, 53.75s/it]"
     ]
    },
    {
     "output_type": "stream",
     "name": "stdout",
     "text": [
      "already have video for:  ATF2\n",
      "Making video for  STAT1\n"
     ]
    },
    {
     "output_type": "stream",
     "name": "stderr",
     "text": [
      " 12%|█▏        | 36/309 [40:57<5:40:00, 74.73s/it]"
     ]
    },
    {
     "output_type": "stream",
     "name": "stdout",
     "text": [
      "Making video for  NFE2L2\n"
     ]
    },
    {
     "output_type": "stream",
     "name": "stderr",
     "text": [
      " 12%|█▏        | 37/309 [44:20<7:11:45, 95.24s/it]"
     ]
    },
    {
     "output_type": "stream",
     "name": "stdout",
     "text": [
      "Not all structures for  IKZF2\n",
      "already have video for:  NEUROD1\n",
      "Not all structures for  ZNF513\n",
      "Making video for  THAP4\n"
     ]
    },
    {
     "output_type": "stream",
     "name": "stderr",
     "text": [
      " 13%|█▎        | 41/309 [45:54<4:32:48, 61.08s/it]"
     ]
    },
    {
     "output_type": "stream",
     "name": "stdout",
     "text": [
      "Not all structures for  KLF7\n",
      "Making video for  NR4A2\n"
     ]
    },
    {
     "output_type": "stream",
     "name": "stderr",
     "text": [
      " 14%|█▍        | 43/309 [48:45<4:57:57, 67.21s/it]"
     ]
    },
    {
     "output_type": "stream",
     "name": "stdout",
     "text": [
      "Not all structures for  ZIC1\n",
      "Making video for  PPARG\n"
     ]
    },
    {
     "output_type": "stream",
     "name": "stderr",
     "text": [
      " 15%|█▍        | 45/309 [52:25<5:46:17, 78.70s/it]"
     ]
    },
    {
     "output_type": "stream",
     "name": "stdout",
     "text": [
      "Making video for  ZKSCAN7\n"
     ]
    },
    {
     "output_type": "stream",
     "name": "stderr",
     "text": [
      " 15%|█▍        | 46/309 [52:57<5:11:38, 71.10s/it]"
     ]
    },
    {
     "output_type": "stream",
     "name": "stdout",
     "text": [
      "Making video for  TP63\n"
     ]
    },
    {
     "output_type": "stream",
     "name": "stderr",
     "text": [
      " 15%|█▌        | 47/309 [57:43<8:05:31, 111.19s/it]"
     ]
    },
    {
     "output_type": "stream",
     "name": "stdout",
     "text": [
      "Making video for  MITF\n"
     ]
    },
    {
     "output_type": "stream",
     "name": "stderr",
     "text": [
      " 16%|█▌        | 48/309 [59:02<7:34:19, 104.44s/it]"
     ]
    },
    {
     "output_type": "stream",
     "name": "stdout",
     "text": [
      "already have video for:  RARB\n",
      "Not all structures for  ZNF662\n",
      "Not all structures for  ZBTB47\n",
      "Making video for  TFDP2\n"
     ]
    },
    {
     "output_type": "stream",
     "name": "stderr",
     "text": [
      " 17%|█▋        | 52/309 [1:03:24<5:56:14, 83.17s/it]"
     ]
    },
    {
     "output_type": "stream",
     "name": "stdout",
     "text": [
      "Not all structures for  ZNF148\n",
      "already have video for:  GATA2\n",
      "already have video for:  THRB\n",
      "Not all structures for  ZBTB49\n",
      "Making video for  RBPJ\n"
     ]
    },
    {
     "output_type": "stream",
     "name": "stderr",
     "text": [
      " 18%|█▊        | 57/309 [1:06:28<4:13:00, 60.24s/it]"
     ]
    },
    {
     "output_type": "stream",
     "name": "stdout",
     "text": [
      "Making video for  THAP6\n"
     ]
    },
    {
     "output_type": "stream",
     "name": "stderr",
     "text": [
      " 19%|█▉        | 58/309 [1:08:03<4:29:56, 64.53s/it]"
     ]
    },
    {
     "output_type": "stream",
     "name": "stdout",
     "text": [
      "Not all structures for  ZNF718\n",
      "Making video for  LEF1\n"
     ]
    },
    {
     "output_type": "stream",
     "name": "stderr",
     "text": [
      " 19%|█▉        | 60/309 [1:11:01<4:54:41, 71.01s/it]"
     ]
    },
    {
     "output_type": "stream",
     "name": "stdout",
     "text": [
      "Not all structures for  PRDM5\n",
      "Making video for  ELF2\n"
     ]
    },
    {
     "output_type": "stream",
     "name": "stderr",
     "text": [
      " 20%|██        | 62/309 [1:14:10<5:18:09, 77.28s/it]"
     ]
    },
    {
     "output_type": "stream",
     "name": "stdout",
     "text": [
      "Not all structures for  ZNF131\n",
      "already have video for:  MSX2\n",
      "Making video for  MEF2C\n"
     ]
    },
    {
     "output_type": "stream",
     "name": "stderr",
     "text": [
      " 21%|██        | 65/309 [1:15:59<4:13:24, 62.31s/it]"
     ]
    },
    {
     "output_type": "stream",
     "name": "stdout",
     "text": [
      "already have video for:  MXD3\n",
      "Making video for  NR3C1\n"
     ]
    },
    {
     "output_type": "stream",
     "name": "stderr",
     "text": [
      " 22%|██▏       | 67/309 [1:17:58<4:08:12, 61.54s/it]"
     ]
    },
    {
     "output_type": "stream",
     "name": "stdout",
     "text": [
      "Making video for  SOX30\n"
     ]
    },
    {
     "output_type": "stream",
     "name": "stderr",
     "text": [
      " 22%|██▏       | 68/309 [1:19:53<4:41:04, 69.98s/it]"
     ]
    },
    {
     "output_type": "stream",
     "name": "stdout",
     "text": [
      "already have video for:  NEUROG1\n",
      "Making video for  NKX2-5\n"
     ]
    },
    {
     "output_type": "stream",
     "name": "stderr",
     "text": [
      " 23%|██▎       | 70/309 [1:21:02<3:54:54, 58.97s/it]"
     ]
    },
    {
     "output_type": "stream",
     "name": "stdout",
     "text": [
      "Making video for  EBF1\n"
     ]
    },
    {
     "output_type": "stream",
     "name": "stderr",
     "text": [
      " 23%|██▎       | 71/309 [1:23:54<5:14:39, 79.32s/it]"
     ]
    },
    {
     "output_type": "stream",
     "name": "stdout",
     "text": [
      "Making video for  IRX4\n"
     ]
    },
    {
     "output_type": "stream",
     "name": "stderr",
     "text": [
      " 23%|██▎       | 72/309 [1:25:17<5:16:16, 80.07s/it]"
     ]
    },
    {
     "output_type": "stream",
     "name": "stdout",
     "text": [
      "already have video for:  HMGA1\n",
      "Not all structures for  ZKSCAN3\n",
      "Not all structures for  ZSCAN26\n",
      "already have video for:  TBPL1\n",
      "Making video for  HEY2\n"
     ]
    },
    {
     "output_type": "stream",
     "name": "stderr",
     "text": [
      " 25%|██▍       | 77/309 [1:25:55<2:23:01, 36.99s/it]"
     ]
    },
    {
     "output_type": "stream",
     "name": "stdout",
     "text": [
      "Making video for  FOXO3\n"
     ]
    },
    {
     "output_type": "stream",
     "name": "stderr",
     "text": [
      " 25%|██▌       | 78/309 [1:26:50<2:32:43, 39.67s/it]"
     ]
    },
    {
     "output_type": "stream",
     "name": "stdout",
     "text": [
      "already have video for:  HSF2\n",
      "Making video for  PPARD\n"
     ]
    },
    {
     "output_type": "stream",
     "name": "stderr",
     "text": [
      " 26%|██▌       | 80/309 [1:29:27<3:14:42, 51.01s/it]"
     ]
    },
    {
     "output_type": "stream",
     "name": "stdout",
     "text": [
      "Not all structures for  ZSCAN9\n",
      "already have video for:  NFYA\n",
      "Making video for  ZNF451\n"
     ]
    },
    {
     "output_type": "stream",
     "name": "stderr",
     "text": [
      " 27%|██▋       | 83/309 [1:32:39<3:31:09, 56.06s/it]"
     ]
    },
    {
     "output_type": "stream",
     "name": "stdout",
     "text": [
      "Making video for  E2F3\n"
     ]
    },
    {
     "output_type": "stream",
     "name": "stderr",
     "text": [
      " 27%|██▋       | 84/309 [1:34:19<3:55:29, 62.80s/it]"
     ]
    },
    {
     "output_type": "stream",
     "name": "stdout",
     "text": [
      "Making video for  POU5F1\n"
     ]
    },
    {
     "output_type": "stream",
     "name": "stderr",
     "text": [
      " 28%|██▊       | 85/309 [1:35:40<4:07:19, 66.25s/it]"
     ]
    },
    {
     "output_type": "stream",
     "name": "stdout",
     "text": [
      "Not all structures for  PLAGL1\n",
      "Not all structures for  ZBTB24\n",
      "already have video for:  TEAD3\n",
      "already have video for:  TFAP2A\n",
      "Making video for  RXRB\n"
     ]
    },
    {
     "output_type": "stream",
     "name": "stderr",
     "text": [
      " 29%|██▉       | 90/309 [1:37:38<2:33:56, 42.17s/it]"
     ]
    },
    {
     "output_type": "stream",
     "name": "stdout",
     "text": [
      "already have video for:  SPDEF\n",
      "Making video for  TBX18\n"
     ]
    },
    {
     "output_type": "stream",
     "name": "stderr",
     "text": [
      " 30%|██▉       | 92/309 [1:38:46<2:25:20, 40.19s/it]"
     ]
    },
    {
     "output_type": "stream",
     "name": "stdout",
     "text": [
      "Making video for  ETV7\n"
     ]
    },
    {
     "output_type": "stream",
     "name": "stderr",
     "text": [
      " 30%|███       | 93/309 [1:40:18<2:52:11, 47.83s/it]"
     ]
    },
    {
     "output_type": "stream",
     "name": "stdout",
     "text": [
      "Making video for  DMTF1\n"
     ]
    },
    {
     "output_type": "stream",
     "name": "stderr",
     "text": [
      " 30%|███       | 94/309 [1:45:49<5:49:02, 97.41s/it]"
     ]
    },
    {
     "output_type": "stream",
     "name": "stdout",
     "text": [
      "Not all structures for  ZSCAN25\n",
      "Making video for  CREB5\n"
     ]
    },
    {
     "output_type": "stream",
     "name": "stderr",
     "text": [
      " 31%|███       | 96/309 [1:47:56<5:05:33, 86.07s/it]"
     ]
    },
    {
     "output_type": "stream",
     "name": "stdout",
     "text": [
      "Not all structures for  ZNF398\n",
      "Not all structures for  ZSCAN21\n",
      "Not all structures for  ZNF655\n",
      "Making video for  ZNF138\n"
     ]
    },
    {
     "output_type": "stream",
     "name": "stderr",
     "text": [
      " 32%|███▏      | 100/309 [1:48:34<2:49:33, 48.68s/it]"
     ]
    },
    {
     "output_type": "stream",
     "name": "stdout",
     "text": [
      "Making video for  DLX6\n"
     ]
    },
    {
     "output_type": "stream",
     "name": "stderr",
     "text": [
      " 33%|███▎      | 101/309 [1:49:03<2:38:42, 45.78s/it]"
     ]
    },
    {
     "output_type": "stream",
     "name": "stdout",
     "text": [
      "Not all structures for  ZNF212\n",
      "Making video for  FOXP2\n"
     ]
    },
    {
     "output_type": "stream",
     "name": "stderr",
     "text": [
      " 33%|███▎      | 103/309 [1:56:22<5:34:53, 97.54s/it]"
     ]
    },
    {
     "output_type": "stream",
     "name": "stdout",
     "text": [
      "Not all structures for  ZKSCAN1\n",
      "Making video for  IRF5\n"
     ]
    },
    {
     "output_type": "stream",
     "name": "stderr",
     "text": [
      " 34%|███▍      | 105/309 [2:00:05<5:45:24, 101.59s/it]"
     ]
    },
    {
     "output_type": "stream",
     "name": "stdout",
     "text": [
      "Making video for  ZNF277\n"
     ]
    },
    {
     "output_type": "stream",
     "name": "stderr",
     "text": [
      " 34%|███▍      | 106/309 [2:01:16<5:25:46, 96.29s/it] "
     ]
    },
    {
     "output_type": "stream",
     "name": "stdout",
     "text": [
      "Not all structures for  FEZF1\n",
      "already have video for:  HOXA1\n",
      "Not all structures for  ZNF394\n",
      "Not all structures for  ZNF12\n",
      "Making video for  TFEC\n"
     ]
    },
    {
     "output_type": "stream",
     "name": "stderr",
     "text": [
      " 36%|███▌      | 111/309 [2:04:49<3:39:15, 66.44s/it]"
     ]
    },
    {
     "output_type": "stream",
     "name": "stdout",
     "text": [
      "Making video for  DLX5\n"
     ]
    },
    {
     "output_type": "stream",
     "name": "stderr",
     "text": [
      " 36%|███▌      | 112/309 [2:05:44<3:32:44, 64.80s/it]"
     ]
    },
    {
     "output_type": "stream",
     "name": "stdout",
     "text": [
      "Making video for  ZNF467\n"
     ]
    },
    {
     "output_type": "stream",
     "name": "stderr",
     "text": [
      " 37%|███▋      | 113/309 [2:06:07<3:09:22, 57.97s/it]"
     ]
    },
    {
     "output_type": "stream",
     "name": "stdout",
     "text": [
      "Making video for  PAX4\n"
     ]
    },
    {
     "output_type": "stream",
     "name": "stderr",
     "text": [
      " 37%|███▋      | 114/309 [2:07:14<3:13:59, 59.69s/it]"
     ]
    },
    {
     "output_type": "stream",
     "name": "stdout",
     "text": [
      "Making video for  HOXA9\n"
     ]
    },
    {
     "output_type": "stream",
     "name": "stderr",
     "text": [
      " 37%|███▋      | 115/309 [2:07:55<3:00:09, 55.72s/it]"
     ]
    },
    {
     "output_type": "stream",
     "name": "stdout",
     "text": [
      "Not all structures for  ZNF786\n",
      "Not all structures for  ZNF3\n",
      "Making video for  ZNF696\n"
     ]
    },
    {
     "output_type": "stream",
     "name": "stderr",
     "text": [
      " 38%|███▊      | 118/309 [2:08:47<1:58:59, 37.38s/it]"
     ]
    },
    {
     "output_type": "stream",
     "name": "stdout",
     "text": [
      "Not all structures for  ZNF596\n",
      "Making video for  HMBOX1\n"
     ]
    },
    {
     "output_type": "stream",
     "name": "stderr",
     "text": [
      " 39%|███▉      | 120/309 [2:13:06<3:28:41, 66.25s/it]"
     ]
    },
    {
     "output_type": "stream",
     "name": "stdout",
     "text": [
      "Not all structures for  OSR2\n",
      "Making video for  ZNF707\n"
     ]
    },
    {
     "output_type": "stream",
     "name": "stderr",
     "text": [
      " 39%|███▉      | 122/309 [2:13:23<2:30:41, 48.35s/it]"
     ]
    },
    {
     "output_type": "stream",
     "name": "stdout",
     "text": [
      "Making video for  MYBL1\n"
     ]
    },
    {
     "output_type": "stream",
     "name": "stderr",
     "text": [
      " 40%|███▉      | 123/309 [2:20:17<5:54:39, 114.41s/it]"
     ]
    },
    {
     "output_type": "stream",
     "name": "stdout",
     "text": [
      "Making video for  EBF2\n"
     ]
    },
    {
     "output_type": "stream",
     "name": "stderr",
     "text": [
      " 40%|████      | 124/309 [2:21:55<5:42:46, 111.17s/it]"
     ]
    },
    {
     "output_type": "stream",
     "name": "stdout",
     "text": [
      "Making video for  HEY1\n"
     ]
    },
    {
     "output_type": "stream",
     "name": "stderr",
     "text": [
      " 40%|████      | 125/309 [2:23:33<5:31:38, 108.14s/it]"
     ]
    },
    {
     "output_type": "stream",
     "name": "stdout",
     "text": [
      "Not all structures for  ZNF34\n",
      "Not all structures for  ZNF250\n",
      "Making video for  ZNF169\n"
     ]
    },
    {
     "output_type": "stream",
     "name": "stderr",
     "text": [
      " 41%|████▏     | 128/309 [2:24:16<3:06:29, 61.82s/it] "
     ]
    },
    {
     "output_type": "stream",
     "name": "stdout",
     "text": [
      "Not all structures for  ZNF79\n",
      "already have video for:  RXRA\n",
      "Making video for  ZNF483\n"
     ]
    },
    {
     "output_type": "stream",
     "name": "stderr",
     "text": [
      " 42%|████▏     | 131/309 [2:26:11<2:34:37, 52.12s/it]"
     ]
    },
    {
     "output_type": "stream",
     "name": "stdout",
     "text": [
      "Making video for  RFX3\n"
     ]
    },
    {
     "output_type": "stream",
     "name": "stderr",
     "text": [
      " 43%|████▎     | 132/309 [2:30:57<4:27:21, 90.63s/it]"
     ]
    },
    {
     "output_type": "stream",
     "name": "stdout",
     "text": [
      "already have video for:  SOHLH1\n",
      "Making video for  PAX5\n"
     ]
    },
    {
     "output_type": "stream",
     "name": "stderr",
     "text": [
      " 43%|████▎     | 134/309 [2:32:20<3:38:20, 74.86s/it]"
     ]
    },
    {
     "output_type": "stream",
     "name": "stdout",
     "text": [
      "Not all structures for  KLF4\n",
      "Making video for  LHX6\n"
     ]
    },
    {
     "output_type": "stream",
     "name": "stderr",
     "text": [
      " 44%|████▍     | 136/309 [2:33:49<3:08:42, 65.45s/it]"
     ]
    },
    {
     "output_type": "stream",
     "name": "stdout",
     "text": [
      "Making video for  CREM\n"
     ]
    },
    {
     "output_type": "stream",
     "name": "stderr",
     "text": [
      " 44%|████▍     | 137/309 [2:35:09<3:15:04, 68.05s/it]"
     ]
    },
    {
     "output_type": "stream",
     "name": "stdout",
     "text": [
      "Not all structures for  TCF7L2\n",
      "already have video for:  HHEX\n",
      "already have video for:  GATA3\n",
      "Making video for  MXI1\n"
     ]
    },
    {
     "output_type": "stream",
     "name": "stderr",
     "text": [
      " 46%|████▌     | 141/309 [2:36:41<2:06:06, 45.04s/it]"
     ]
    },
    {
     "output_type": "stream",
     "name": "stdout",
     "text": [
      "already have video for:  ZNF511\n",
      "Making video for  LCOR\n"
     ]
    },
    {
     "output_type": "stream",
     "name": "stderr",
     "text": [
      " 46%|████▋     | 143/309 [2:37:30<1:49:25, 39.55s/it]"
     ]
    },
    {
     "output_type": "stream",
     "name": "stdout",
     "text": [
      "Not all structures for  KLF6\n",
      "already have video for:  EBF3\n",
      "Not all structures for  EGR2\n",
      "Not all structures for  ZNF438\n",
      "Making video for  TEAD1\n"
     ]
    },
    {
     "output_type": "stream",
     "name": "stderr",
     "text": [
      " 48%|████▊     | 148/309 [2:38:18<1:06:48, 24.89s/it]"
     ]
    },
    {
     "output_type": "stream",
     "name": "stdout",
     "text": [
      "Not all structures for  OVOL1\n",
      "already have video for:  FLI1\n",
      "Making video for  ARNTL\n"
     ]
    },
    {
     "output_type": "stream",
     "name": "stderr",
     "text": [
      " 49%|████▉     | 151/309 [2:40:54<1:26:45, 32.94s/it]"
     ]
    },
    {
     "output_type": "stream",
     "name": "stdout",
     "text": [
      "Making video for  NR1H3\n"
     ]
    },
    {
     "output_type": "stream",
     "name": "stderr",
     "text": [
      " 49%|████▉     | 152/309 [2:43:04<1:57:30, 44.91s/it]"
     ]
    },
    {
     "output_type": "stream",
     "name": "stdout",
     "text": [
      "Making video for  ESRRA\n"
     ]
    },
    {
     "output_type": "stream",
     "name": "stderr",
     "text": [
      " 50%|████▉     | 153/309 [2:45:20<2:32:14, 58.56s/it]"
     ]
    },
    {
     "output_type": "stream",
     "name": "stdout",
     "text": [
      "Not all structures for  ZNF143\n",
      "Not all structures for  ZBTB16\n",
      "Making video for  ELF5\n"
     ]
    },
    {
     "output_type": "stream",
     "name": "stderr",
     "text": [
      " 50%|█████     | 156/309 [2:46:48<1:59:58, 47.05s/it]"
     ]
    },
    {
     "output_type": "stream",
     "name": "stdout",
     "text": [
      "already have video for:  CREBZF\n",
      "Making video for  RELA\n"
     ]
    },
    {
     "output_type": "stream",
     "name": "stderr",
     "text": [
      " 51%|█████     | 158/309 [2:48:24<1:58:57, 47.27s/it]"
     ]
    },
    {
     "output_type": "stream",
     "name": "stdout",
     "text": [
      "already have video for:  E2F8\n",
      "Not all structures for  ZBTB44\n",
      "Not all structures for  WT1\n",
      "Making video for  SOX6\n"
     ]
    },
    {
     "output_type": "stream",
     "name": "stderr",
     "text": [
      " 52%|█████▏    | 162/309 [2:59:17<3:59:53, 97.92s/it]"
     ]
    },
    {
     "output_type": "stream",
     "name": "stdout",
     "text": [
      "Not all structures for  ZNF26\n",
      "already have video for:  MYF6\n",
      "already have video for:  FOXJ2\n",
      "Making video for  TEAD4\n"
     ]
    },
    {
     "output_type": "stream",
     "name": "stderr",
     "text": [
      " 54%|█████▎    | 166/309 [2:59:58<2:33:06, 64.24s/it]"
     ]
    },
    {
     "output_type": "stream",
     "name": "stdout",
     "text": [
      "already have video for:  NR4A1\n",
      "Making video for  ARNTL2\n"
     ]
    },
    {
     "output_type": "stream",
     "name": "stderr",
     "text": [
      " 54%|█████▍    | 168/309 [3:05:06<3:16:25, 83.59s/it]"
     ]
    },
    {
     "output_type": "stream",
     "name": "stdout",
     "text": [
      "Not all structures for  GLI1\n",
      "already have video for:  ETV6\n",
      "Making video for  ELK3\n"
     ]
    },
    {
     "output_type": "stream",
     "name": "stderr",
     "text": [
      " 55%|█████▌    | 171/309 [3:05:57<2:23:50, 62.54s/it]"
     ]
    },
    {
     "output_type": "stream",
     "name": "stdout",
     "text": [
      "Making video for  RFX4\n"
     ]
    },
    {
     "output_type": "stream",
     "name": "stderr",
     "text": [
      " 56%|█████▌    | 172/309 [3:11:03<3:35:28, 94.37s/it]"
     ]
    },
    {
     "output_type": "stream",
     "name": "stdout",
     "text": [
      "Making video for  AEBP2\n"
     ]
    },
    {
     "output_type": "stream",
     "name": "stderr",
     "text": [
      " 56%|█████▌    | 173/309 [3:12:02<3:21:34, 88.93s/it]"
     ]
    },
    {
     "output_type": "stream",
     "name": "stdout",
     "text": [
      "Making video for  RARG\n"
     ]
    },
    {
     "output_type": "stream",
     "name": "stderr",
     "text": [
      " 56%|█████▋    | 174/309 [3:14:14<3:37:40, 96.74s/it]"
     ]
    },
    {
     "output_type": "stream",
     "name": "stdout",
     "text": [
      "already have video for:  TBX5\n",
      "already have video for:  VDR\n",
      "Making video for  SOX5\n"
     ]
    },
    {
     "output_type": "stream",
     "name": "stderr",
     "text": [
      " 57%|█████▋    | 177/309 [3:16:22<2:40:25, 72.92s/it]"
     ]
    },
    {
     "output_type": "stream",
     "name": "stdout",
     "text": [
      "already have video for:  FOXN4\n",
      "already have video for:  DDIT3\n",
      "Making video for  TFCP2\n"
     ]
    },
    {
     "output_type": "stream",
     "name": "stderr",
     "text": [
      " 58%|█████▊    | 180/309 [3:18:46<2:16:03, 63.28s/it]"
     ]
    },
    {
     "output_type": "stream",
     "name": "stdout",
     "text": [
      "Making video for  SMAD9\n"
     ]
    },
    {
     "output_type": "stream",
     "name": "stderr",
     "text": [
      " 59%|█████▊    | 181/309 [3:20:50<2:35:16, 72.78s/it]"
     ]
    },
    {
     "output_type": "stream",
     "name": "stdout",
     "text": [
      "Not all structures for  KLF12\n",
      "Making video for  TSC22D1\n"
     ]
    },
    {
     "output_type": "stream",
     "name": "stderr",
     "text": [
      " 59%|█████▉    | 183/309 [3:21:12<1:53:02, 53.83s/it]"
     ]
    },
    {
     "output_type": "stream",
     "name": "stdout",
     "text": [
      "Not all structures for  ZNF410\n",
      "Making video for  FOS\n"
     ]
    },
    {
     "output_type": "stream",
     "name": "stderr",
     "text": [
      " 60%|█████▉    | 185/309 [3:22:39<1:44:37, 50.62s/it]"
     ]
    },
    {
     "output_type": "stream",
     "name": "stdout",
     "text": [
      "Making video for  IRF9\n"
     ]
    },
    {
     "output_type": "stream",
     "name": "stderr",
     "text": [
      " 60%|██████    | 186/309 [3:24:22<2:02:54, 59.95s/it]"
     ]
    },
    {
     "output_type": "stream",
     "name": "stdout",
     "text": [
      "Not all structures for  ZBTB1\n",
      "Making video for  HIF1A\n"
     ]
    },
    {
     "output_type": "stream",
     "name": "stderr",
     "text": [
      " 61%|██████    | 188/309 [3:28:55<2:53:05, 85.83s/it]"
     ]
    },
    {
     "output_type": "stream",
     "name": "stdout",
     "text": [
      "Making video for  MAX\n"
     ]
    },
    {
     "output_type": "stream",
     "name": "stderr",
     "text": [
      " 61%|██████    | 189/309 [3:30:31<2:55:35, 87.80s/it]"
     ]
    },
    {
     "output_type": "stream",
     "name": "stdout",
     "text": [
      "Making video for  SALL2\n"
     ]
    },
    {
     "output_type": "stream",
     "name": "stderr",
     "text": [
      " 61%|██████▏   | 190/309 [3:31:09<2:32:39, 76.97s/it]"
     ]
    },
    {
     "output_type": "stream",
     "name": "stdout",
     "text": [
      "already have video for:  ZBTB25\n",
      "Making video for  HOMEZ\n"
     ]
    },
    {
     "output_type": "stream",
     "name": "stderr",
     "text": [
      " 62%|██████▏   | 192/309 [3:32:25<2:01:04, 62.09s/it]"
     ]
    },
    {
     "output_type": "stream",
     "name": "stdout",
     "text": [
      "already have video for:  OTX2\n",
      "Making video for  ESR2\n"
     ]
    },
    {
     "output_type": "stream",
     "name": "stderr",
     "text": [
      " 63%|██████▎   | 194/309 [3:35:40<2:22:59, 74.60s/it]"
     ]
    },
    {
     "output_type": "stream",
     "name": "stdout",
     "text": [
      "already have video for:  SIX1\n",
      "already have video for:  HMG20A\n",
      "Making video for  MEF2A\n"
     ]
    },
    {
     "output_type": "stream",
     "name": "stderr",
     "text": [
      " 64%|██████▍   | 197/309 [3:36:41<1:35:40, 51.26s/it]"
     ]
    },
    {
     "output_type": "stream",
     "name": "stdout",
     "text": [
      "Making video for  NR2F2\n"
     ]
    },
    {
     "output_type": "stream",
     "name": "stderr",
     "text": [
      " 64%|██████▍   | 198/309 [3:38:36<1:54:44, 62.03s/it]"
     ]
    },
    {
     "output_type": "stream",
     "name": "stdout",
     "text": [
      "Making video for  TCF12\n"
     ]
    },
    {
     "output_type": "stream",
     "name": "stderr",
     "text": [
      " 64%|██████▍   | 199/309 [3:42:01<2:45:14, 90.14s/it]"
     ]
    },
    {
     "output_type": "stream",
     "name": "stdout",
     "text": [
      "Making video for  SMAD3\n"
     ]
    },
    {
     "output_type": "stream",
     "name": "stderr",
     "text": [
      " 65%|██████▍   | 200/309 [3:45:24<3:28:25, 114.73s/it]"
     ]
    },
    {
     "output_type": "stream",
     "name": "stdout",
     "text": [
      "Making video for  ARNT2\n"
     ]
    },
    {
     "output_type": "stream",
     "name": "stderr",
     "text": [
      " 65%|██████▌   | 201/309 [3:49:33<4:23:50, 146.58s/it]"
     ]
    },
    {
     "output_type": "stream",
     "name": "stdout",
     "text": [
      "Making video for  RORA\n"
     ]
    },
    {
     "output_type": "stream",
     "name": "stderr",
     "text": [
      " 65%|██████▌   | 202/309 [3:51:58<4:20:42, 146.19s/it]"
     ]
    },
    {
     "output_type": "stream",
     "name": "stdout",
     "text": [
      "Making video for  MEIS2\n"
     ]
    },
    {
     "output_type": "stream",
     "name": "stderr",
     "text": [
      " 66%|██████▌   | 203/309 [3:54:48<4:29:46, 152.70s/it]"
     ]
    },
    {
     "output_type": "stream",
     "name": "stdout",
     "text": [
      "Making video for  ZNF280D\n"
     ]
    },
    {
     "output_type": "stream",
     "name": "stderr",
     "text": [
      " 66%|██████▌   | 204/309 [3:56:35<4:04:56, 139.96s/it]"
     ]
    },
    {
     "output_type": "stream",
     "name": "stdout",
     "text": [
      "Not all structures for  ZNF778\n",
      "Making video for  MAZ\n"
     ]
    },
    {
     "output_type": "stream",
     "name": "stderr",
     "text": [
      " 67%|██████▋   | 206/309 [3:56:56<2:22:31, 83.03s/it] "
     ]
    },
    {
     "output_type": "stream",
     "name": "stdout",
     "text": [
      "Not all structures for  CTCF\n",
      "Not all structures for  ZNF174\n",
      "Not all structures for  ZNF263\n",
      "Not all structures for  ZNF276\n",
      "Not all structures for  E4F1\n",
      "Not all structures for  ZFP1\n",
      "Not all structures for  ZNF75A\n",
      "Not all structures for  GLIS2\n",
      "Making video for  NFAT5\n"
     ]
    },
    {
     "output_type": "stream",
     "name": "stderr",
     "text": [
      " 70%|██████▉   | 215/309 [3:57:27<37:52, 24.17s/it]  "
     ]
    },
    {
     "output_type": "stream",
     "name": "stdout",
     "text": [
      "Not all structures for  ZSCAN32\n",
      "Not all structures for  ZNF747\n",
      "Not all structures for  ZNF23\n",
      "Not all structures for  ZNF19\n",
      "Making video for  TBX6\n"
     ]
    },
    {
     "output_type": "stream",
     "name": "stderr",
     "text": [
      " 71%|███████   | 220/309 [3:58:12<27:35, 18.61s/it]"
     ]
    },
    {
     "output_type": "stream",
     "name": "stdout",
     "text": [
      "Not all structures for  ZNF688\n",
      "Making video for  RARA\n"
     ]
    },
    {
     "output_type": "stream",
     "name": "stderr",
     "text": [
      " 72%|███████▏  | 222/309 [3:59:21<30:58, 21.36s/it]"
     ]
    },
    {
     "output_type": "stream",
     "name": "stdout",
     "text": [
      "Not all structures for  SP2\n",
      "already have video for:  DLX4\n",
      "Making video for  ZNF207\n"
     ]
    },
    {
     "output_type": "stream",
     "name": "stderr",
     "text": [
      " 73%|███████▎  | 225/309 [4:02:31<45:53, 32.78s/it]"
     ]
    },
    {
     "output_type": "stream",
     "name": "stdout",
     "text": [
      "Making video for  STAT5A\n"
     ]
    },
    {
     "output_type": "stream",
     "name": "stderr",
     "text": [
      " 73%|███████▎  | 226/309 [4:04:40<1:00:38, 43.84s/it]"
     ]
    },
    {
     "output_type": "stream",
     "name": "stdout",
     "text": [
      "Making video for  MLX\n"
     ]
    },
    {
     "output_type": "stream",
     "name": "stderr",
     "text": [
      " 73%|███████▎  | 227/309 [4:06:27<1:11:59, 52.68s/it]"
     ]
    },
    {
     "output_type": "stream",
     "name": "stdout",
     "text": [
      "Making video for  THRA\n"
     ]
    },
    {
     "output_type": "stream",
     "name": "stderr",
     "text": [
      " 74%|███████▍  | 228/309 [4:08:33<1:27:40, 64.94s/it]"
     ]
    },
    {
     "output_type": "stream",
     "name": "stdout",
     "text": [
      "Making video for  STAT3\n"
     ]
    },
    {
     "output_type": "stream",
     "name": "stderr",
     "text": [
      " 74%|███████▍  | 229/309 [4:14:30<2:41:54, 121.44s/it]"
     ]
    },
    {
     "output_type": "stream",
     "name": "stdout",
     "text": [
      "Making video for  TP53\n"
     ]
    },
    {
     "output_type": "stream",
     "name": "stderr",
     "text": [
      " 74%|███████▍  | 230/309 [4:15:59<2:30:26, 114.26s/it]"
     ]
    },
    {
     "output_type": "stream",
     "name": "stdout",
     "text": [
      "Not all structures for  ZNF18\n",
      "Making video for  HNF1B\n"
     ]
    },
    {
     "output_type": "stream",
     "name": "stderr",
     "text": [
      " 75%|███████▌  | 232/309 [4:18:33<2:08:22, 100.04s/it]"
     ]
    },
    {
     "output_type": "stream",
     "name": "stdout",
     "text": [
      "Making video for  ETV4\n"
     ]
    },
    {
     "output_type": "stream",
     "name": "stderr",
     "text": [
      " 75%|███████▌  | 233/309 [4:19:20<1:52:24, 88.75s/it] "
     ]
    },
    {
     "output_type": "stream",
     "name": "stdout",
     "text": [
      "Making video for  SOX15\n"
     ]
    },
    {
     "output_type": "stream",
     "name": "stderr",
     "text": [
      " 76%|███████▌  | 234/309 [4:19:47<1:32:56, 74.35s/it]"
     ]
    },
    {
     "output_type": "stream",
     "name": "stdout",
     "text": [
      "Not all structures for  ZNF232\n",
      "Making video for  MEOX1\n"
     ]
    },
    {
     "output_type": "stream",
     "name": "stderr",
     "text": [
      " 76%|███████▋  | 236/309 [4:20:39<1:06:43, 54.84s/it]"
     ]
    },
    {
     "output_type": "stream",
     "name": "stdout",
     "text": [
      "Making video for  NFATC1\n"
     ]
    },
    {
     "output_type": "stream",
     "name": "stderr",
     "text": [
      " 77%|███████▋  | 237/309 [4:22:50<1:26:11, 71.82s/it]"
     ]
    },
    {
     "output_type": "stream",
     "name": "stdout",
     "text": [
      "Making video for  TGIF1\n"
     ]
    },
    {
     "output_type": "stream",
     "name": "stderr",
     "text": [
      " 77%|███████▋  | 238/309 [4:24:29<1:32:49, 78.44s/it]"
     ]
    },
    {
     "output_type": "stream",
     "name": "stdout",
     "text": [
      "Making video for  SMAD4\n"
     ]
    },
    {
     "output_type": "stream",
     "name": "stderr",
     "text": [
      " 77%|███████▋  | 239/309 [4:26:52<1:50:45, 94.94s/it]"
     ]
    },
    {
     "output_type": "stream",
     "name": "stdout",
     "text": [
      "Not all structures for  ZNF397\n",
      "Not all structures for  SALL3\n",
      "Making video for  CXXC1\n"
     ]
    },
    {
     "output_type": "stream",
     "name": "stderr",
     "text": [
      " 78%|███████▊  | 242/309 [4:30:04<1:28:04, 78.87s/it]"
     ]
    },
    {
     "output_type": "stream",
     "name": "stdout",
     "text": [
      "Not all structures for  ZNF24\n",
      "Making video for  TCF4\n"
     ]
    },
    {
     "output_type": "stream",
     "name": "stderr",
     "text": [
      " 79%|███████▉  | 244/309 [4:39:24<2:37:55, 145.78s/it]"
     ]
    },
    {
     "output_type": "stream",
     "name": "stdout",
     "text": [
      "Not all structures for  ZNF460\n",
      "Making video for  FOSB\n"
     ]
    },
    {
     "output_type": "stream",
     "name": "stderr",
     "text": [
      " 80%|███████▉  | 246/309 [4:40:56<1:59:12, 113.53s/it]"
     ]
    },
    {
     "output_type": "stream",
     "name": "stdout",
     "text": [
      "Not all structures for  ZNF302\n",
      "Not all structures for  ZNF473\n",
      "Making video for  SPIB\n"
     ]
    },
    {
     "output_type": "stream",
     "name": "stderr",
     "text": [
      " 81%|████████  | 249/309 [4:41:28<1:11:31, 71.52s/it] "
     ]
    },
    {
     "output_type": "stream",
     "name": "stdout",
     "text": [
      "Making video for  ZNF177\n"
     ]
    },
    {
     "output_type": "stream",
     "name": "stderr",
     "text": [
      " 81%|████████  | 250/309 [4:43:02<1:13:55, 75.17s/it]"
     ]
    },
    {
     "output_type": "stream",
     "name": "stdout",
     "text": [
      "Not all structures for  ZNF544\n",
      "Making video for  ZNF69\n"
     ]
    },
    {
     "output_type": "stream",
     "name": "stderr",
     "text": [
      " 82%|████████▏ | 252/309 [4:43:27<52:32, 55.32s/it]  "
     ]
    },
    {
     "output_type": "stream",
     "name": "stdout",
     "text": [
      "Not all structures for  ZNF254\n",
      "Not all structures for  ZNF613\n",
      "Making video for  NFIC\n"
     ]
    },
    {
     "output_type": "stream",
     "name": "stderr",
     "text": [
      " 83%|████████▎ | 255/309 [4:46:31<51:55, 57.69s/it]"
     ]
    },
    {
     "output_type": "stream",
     "name": "stdout",
     "text": [
      "Not all structures for  ZNF549\n",
      "Not all structures for  ZNF230\n",
      "Not all structures for  ZNF548\n",
      "Not all structures for  ZNF559\n",
      "Not all structures for  ZNF223\n",
      "Not all structures for  ZNF419\n",
      "Making video for  ETV2\n"
     ]
    },
    {
     "output_type": "stream",
     "name": "stderr",
     "text": [
      " 85%|████████▍ | 262/309 [4:48:11<25:43, 32.83s/it]"
     ]
    },
    {
     "output_type": "stream",
     "name": "stdout",
     "text": [
      "Not all structures for  ZNF317\n",
      "Making video for  CREB3L3\n"
     ]
    },
    {
     "output_type": "stream",
     "name": "stderr",
     "text": [
      " 85%|████████▌ | 264/309 [4:49:10<24:05, 32.13s/it]"
     ]
    },
    {
     "output_type": "stream",
     "name": "stdout",
     "text": [
      "Making video for  NFIX\n"
     ]
    },
    {
     "output_type": "stream",
     "name": "stderr",
     "text": [
      " 86%|████████▌ | 265/309 [4:52:12<36:43, 50.07s/it]"
     ]
    },
    {
     "output_type": "stream",
     "name": "stdout",
     "text": [
      "Making video for  ZNF101\n"
     ]
    },
    {
     "output_type": "stream",
     "name": "stderr",
     "text": [
      " 86%|████████▌ | 266/309 [4:53:12<36:53, 51.48s/it]"
     ]
    },
    {
     "output_type": "stream",
     "name": "stdout",
     "text": [
      "Not all structures for  ZNF264\n",
      "Making video for  ZNF430\n"
     ]
    },
    {
     "output_type": "stream",
     "name": "stderr",
     "text": [
      " 87%|████████▋ | 268/309 [4:54:25<32:14, 47.17s/it]"
     ]
    },
    {
     "output_type": "stream",
     "name": "stdout",
     "text": [
      "Not all structures for  ZNF175\n",
      "Making video for  ZNF333\n"
     ]
    },
    {
     "output_type": "stream",
     "name": "stderr",
     "text": [
      " 87%|████████▋ | 270/309 [4:55:06<25:27, 39.16s/it]"
     ]
    },
    {
     "output_type": "stream",
     "name": "stdout",
     "text": [
      "Making video for  ZNF85\n"
     ]
    },
    {
     "output_type": "stream",
     "name": "stderr",
     "text": [
      " 88%|████████▊ | 271/309 [4:55:17<21:43, 34.30s/it]"
     ]
    },
    {
     "output_type": "stream",
     "name": "stdout",
     "text": [
      "Not all structures for  ZNF114\n",
      "Not all structures for  ZBTB32\n",
      "Making video for  ZNF772\n"
     ]
    },
    {
     "output_type": "stream",
     "name": "stderr",
     "text": [
      " 89%|████████▊ | 274/309 [4:55:26<12:12, 20.93s/it]"
     ]
    },
    {
     "output_type": "stream",
     "name": "stdout",
     "text": [
      "already have video for:  ERF\n",
      "Making video for  POU2F2\n"
     ]
    },
    {
     "output_type": "stream",
     "name": "stderr",
     "text": [
      " 89%|████████▉ | 276/309 [4:56:26<12:56, 23.52s/it]"
     ]
    },
    {
     "output_type": "stream",
     "name": "stdout",
     "text": [
      "Making video for  MEIS3\n"
     ]
    },
    {
     "output_type": "stream",
     "name": "stderr",
     "text": [
      " 90%|████████▉ | 277/309 [5:01:13<36:36, 68.65s/it]"
     ]
    },
    {
     "output_type": "stream",
     "name": "stdout",
     "text": [
      "Not all structures for  ZNF180\n",
      "Not all structures for  ZNF614\n",
      "Not all structures for  ZNF829\n",
      "Not all structures for  ZSCAN18\n",
      "Making video for  ZIM2\n"
     ]
    },
    {
     "output_type": "stream",
     "name": "stderr",
     "text": [
      " 91%|█████████▏| 282/309 [5:01:23<14:23, 31.99s/it]"
     ]
    },
    {
     "output_type": "stream",
     "name": "stdout",
     "text": [
      "Making video for  ZNF415\n"
     ]
    },
    {
     "output_type": "stream",
     "name": "stderr",
     "text": [
      " 92%|█████████▏| 283/309 [5:02:06<14:29, 33.44s/it]"
     ]
    },
    {
     "output_type": "stream",
     "name": "stdout",
     "text": [
      "Not all structures for  ZNF599\n",
      "Making video for  TEAD2\n"
     ]
    },
    {
     "output_type": "stream",
     "name": "stderr",
     "text": [
      " 92%|█████████▏| 285/309 [5:03:30<14:22, 35.95s/it]"
     ]
    },
    {
     "output_type": "stream",
     "name": "stdout",
     "text": [
      "Making video for  TSHZ3\n"
     ]
    },
    {
     "output_type": "stream",
     "name": "stderr",
     "text": [
      " 93%|█████████▎| 286/309 [5:03:39<12:02, 31.43s/it]"
     ]
    },
    {
     "output_type": "stream",
     "name": "stdout",
     "text": [
      "Not all structures for  ZNF433\n",
      "Not all structures for  ZNF418\n",
      "Not all structures for  ZNF784\n",
      "Making video for  ZNF414\n"
     ]
    },
    {
     "output_type": "stream",
     "name": "stderr",
     "text": [
      " 94%|█████████▍| 290/309 [5:04:55<08:00, 25.30s/it]"
     ]
    },
    {
     "output_type": "stream",
     "name": "stdout",
     "text": [
      "Not all structures for  ZNF320\n",
      "Making video for  ZNF607\n"
     ]
    },
    {
     "output_type": "stream",
     "name": "stderr",
     "text": [
      " 94%|█████████▍| 292/309 [5:05:51<07:23, 26.07s/it]"
     ]
    },
    {
     "output_type": "stream",
     "name": "stdout",
     "text": [
      "Making video for  HNF4A\n"
     ]
    },
    {
     "output_type": "stream",
     "name": "stderr",
     "text": [
      " 95%|█████████▍| 293/309 [5:09:28<14:53, 55.84s/it]"
     ]
    },
    {
     "output_type": "stream",
     "name": "stdout",
     "text": [
      "Making video for  ZGPAT\n"
     ]
    },
    {
     "output_type": "stream",
     "name": "stderr",
     "text": [
      " 95%|█████████▌| 294/309 [5:11:51<17:54, 71.65s/it]"
     ]
    },
    {
     "output_type": "stream",
     "name": "stdout",
     "text": [
      "Not all structures for  ZNF341\n",
      "Making video for  ZNF343\n"
     ]
    },
    {
     "output_type": "stream",
     "name": "stderr",
     "text": [
      " 96%|█████████▌| 296/309 [5:12:14<11:04, 51.13s/it]"
     ]
    },
    {
     "output_type": "stream",
     "name": "stdout",
     "text": [
      "already have video for:  PKNOX1\n",
      "Making video for  RUNX1\n"
     ]
    },
    {
     "output_type": "stream",
     "name": "stderr",
     "text": [
      " 96%|█████████▋| 298/309 [5:13:08<07:54, 43.14s/it]"
     ]
    },
    {
     "output_type": "stream",
     "name": "stdout",
     "text": [
      "Not all structures for  PATZ1\n",
      "already have video for:  SOX10\n",
      "already have video for:  TBX22\n",
      "Not all structures for  ZNF449\n",
      "Not all structures for  ZIC3\n",
      "Making video for  GATA1\n"
     ]
    },
    {
     "output_type": "stream",
     "name": "stderr",
     "text": [
      " 98%|█████████▊| 304/309 [5:13:51<01:50, 22.15s/it]"
     ]
    },
    {
     "output_type": "stream",
     "name": "stdout",
     "text": [
      "Making video for  FOXP3\n"
     ]
    },
    {
     "output_type": "stream",
     "name": "stderr",
     "text": [
      " 99%|█████████▊| 305/309 [5:17:51<03:15, 48.78s/it]"
     ]
    },
    {
     "output_type": "stream",
     "name": "stdout",
     "text": [
      "Making video for  NKRF\n"
     ]
    },
    {
     "output_type": "stream",
     "name": "stderr",
     "text": [
      " 99%|█████████▉| 306/309 [5:19:18<02:43, 54.36s/it]"
     ]
    },
    {
     "output_type": "stream",
     "name": "stdout",
     "text": [
      "Making video for  HDX\n"
     ]
    },
    {
     "output_type": "stream",
     "name": "stderr",
     "text": [
      "100%|██████████| 309/309 [5:20:36<00:00, 62.25s/it]"
     ]
    },
    {
     "output_type": "stream",
     "name": "stdout",
     "text": [
      "Not all structures for  ZFY\n",
      "already have video for:  HSFY1\n"
     ]
    },
    {
     "output_type": "stream",
     "name": "stderr",
     "text": [
      "\n"
     ]
    }
   ],
   "metadata": {}
  },
  {
   "cell_type": "code",
   "execution_count": null,
   "source": [],
   "outputs": [],
   "metadata": {}
  }
 ],
 "metadata": {
  "orig_nbformat": 4,
  "language_info": {
   "name": "python",
   "version": "3.9.6",
   "mimetype": "text/x-python",
   "codemirror_mode": {
    "name": "ipython",
    "version": 3
   },
   "pygments_lexer": "ipython3",
   "nbconvert_exporter": "python",
   "file_extension": ".py"
  },
  "kernelspec": {
   "name": "python3",
   "display_name": "Python 3.9.6 64-bit"
  },
  "interpreter": {
   "hash": "aee8b7b246df8f9039afb4144a1f6fd8d2ca17a180786b69acc140d282b71a49"
  }
 },
 "nbformat": 4,
 "nbformat_minor": 2
}