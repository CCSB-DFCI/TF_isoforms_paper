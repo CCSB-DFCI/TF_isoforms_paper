{
 "cells": [
  {
   "cell_type": "code",
   "execution_count": 1,
   "source": [
    "import subprocess\n",
    "from pathlib import Path\n",
    "\n",
    "from IPython.display import Image, Video\n",
    "\n",
    "from data_loading import load_annotated_6k_collection"
   ],
   "outputs": [],
   "metadata": {}
  },
  {
   "cell_type": "code",
   "execution_count": 2,
   "source": [
    "tfs = load_annotated_6k_collection()"
   ],
   "outputs": [],
   "metadata": {}
  },
  {
   "cell_type": "code",
   "execution_count": 3,
   "source": [
    "# get exon colors\n",
    "gene = tfs['MAX']\n",
    "gene.exon_diagram()"
   ],
   "outputs": [
    {
     "output_type": "display_data",
     "data": {
      "text/plain": [
       "<Figure size 432x288 with 1 Axes>"
      ],
      "image/png": "[encoded data removed]"
     },
     "metadata": {
      "needs_background": "light"
     }
    }
   ],
   "metadata": {}
  },
  {
   "cell_type": "code",
   "execution_count": 6,
   "source": [
    "gene['MAX-1'].exons"
   ],
   "outputs": [
    {
     "output_type": "execute_result",
     "data": {
      "text/plain": [
       "[Exon of MAX|1/6|08G02 36 nt,\n",
       " Exon of MAX|1/6|08G02 27 nt,\n",
       " Exon of MAX|1/6|08G02 108 nt,\n",
       " Exon of MAX|1/6|08G02 124 nt,\n",
       " Exon of MAX|1/6|08G02 185 nt]"
      ]
     },
     "metadata": {},
     "execution_count": 6
    }
   ],
   "metadata": {}
  },
  {
   "cell_type": "code",
   "execution_count": 13,
   "source": [
    "isoforms_with_structure"
   ],
   "outputs": [
    {
     "output_type": "execute_result",
     "data": {
      "text/plain": [
       "[Clone acc: MAX|1/6|08G02\n",
       " Isoform: MAX-205 / ENSP00000351490 / ENST00000358664\n",
       " length: 160 aa,\n",
       " Clone acc: MAX|3/6|08E02\n",
       " Isoform: MAX-202 / ENSP00000284165 / ENST00000284165\n",
       " length: 134 aa,\n",
       " Clone acc: MAX|4/6|08A03\n",
       " Isoform: MAX-213 / ENSP00000450818 / ENST00000556443\n",
       " length: 125 aa]"
      ]
     },
     "metadata": {},
     "execution_count": 13
    }
   ],
   "metadata": {}
  },
  {
   "cell_type": "code",
   "execution_count": 17,
   "source": [
    "\n",
    "def compare_isoform_structures(gene,\n",
    "                               fname,\n",
    "                               n_pixel_height=1000,\n",
    "                               n_frames=50,\n",
    "                               frame_rate=10,\n",
    "                               verbose=False):\n",
    "    structure_dir = Path('../../data/internal/alphafold/reduced_dbs')\n",
    "    pymol_script_dir = Path('/tmp/pymol_scripts')\n",
    "    pymol_script_dir.mkdir(exist_ok=True)\n",
    "    pymol_script_path = pymol_script_dir / '{}_alphafold_cloned_isoforms.pml'.format(gene.name)\n",
    "    isoforms_with_structure = []\n",
    "    with open(pymol_script_path, 'w') as f:\n",
    "        f.write('reinitialize\\n')\n",
    "        f.write('bg_color white\\n')\n",
    "        for isoform in gene.orfs:\n",
    "            fpath = structure_dir / (isoform.name + '/ranked_0.pdb')\n",
    "            if not fpath.exists():\n",
    "                continue\n",
    "            isoforms_with_structure.append(isoform)\n",
    "            f.write('load {}, {}\\n'.format(fpath, isoform.name.replace('-', '_')))\n",
    "            if isoform.name != gene.orfs[0].name:\n",
    "                f.write('align {}, {}\\n'.format(isoform.name.replace('-', '_'),\n",
    "                                                gene.orfs[0].name.replace('-', '_')))\n",
    "            exon_colors = gene._get_exon_colors()\n",
    "            exon_pos = 1\n",
    "            nt_diff = 0\n",
    "            for exon in isoform.exons:\n",
    "                n_nt_to_exon = (exon.end - exon.start) + nt_diff\n",
    "                n_aa_exon = round(n_nt_to_exon / 3)\n",
    "                nt_diff = {0: 0, 1: 1, 2: -1}[n_nt_to_exon % 3]\n",
    "                color = exon_colors[(isoform.name, exon.start, exon.end)]\n",
    "                start = exon_pos\n",
    "                end = (exon_pos + n_aa_exon) - 1\n",
    "                color_name = isoform.name + '_' + str(exon.start) + '_color'\n",
    "                f.write('set_color {}, {}\\n'.format(color_name, color))\n",
    "                f.write('color {}, {} AND resi {}-{}\\n'.format(color_name,\n",
    "                                                            isoform.name.replace('-', '_'),\n",
    "                                                            start,\n",
    "                                                            end))\n",
    "                exon_pos += n_aa_exon\n",
    "\n",
    "        f.write('set grid_mode, 1\\n')\n",
    "        for i, isoform in enumerate(isoforms_with_structure):\n",
    "            f.write('set grid_slot, {}, {}\\n'.format(i + 1, isoform.name.replace('-', '_')))\n",
    "\n",
    "        f.write('refresh\\n')  # need refresh otherwise grid mode doesn't work\n",
    "        f.write('viewport {}, {}\\n'.format(n_pixel_height * len(isoforms_with_structure), n_pixel_height))\n",
    "        f.write('zoom\\n')\n",
    "        f.write('set ray_trace_frames, 1\\n')\n",
    "        f.write('mset 1-{}\\n'.format(n_frames))\n",
    "        f.write(\"movie.roll\\n\")\n",
    "        f.write('mplay\\n')\n",
    "        f.write('mpng /tmp/movie\\n')\n",
    "    ret = subprocess.run('pymol -c {}'.format(pymol_script_path),\n",
    "                         capture_output=True,\n",
    "                         shell=True)\n",
    "    if verbose:\n",
    "        print(ret.stdout.decode())\n",
    "        print(ret.stderr.decode())\n",
    "    cmd = 'ffmpeg -y -r {} -f image2 -i /tmp/movie%04d.png -c:v libx264 -pix_fmt yuv420p {}'.format(frame_rate, fname)\n",
    "    ret = subprocess.run(cmd, capture_output=True, shell=True)\n",
    "    if verbose:\n",
    "        print(ret.stdout.decode())\n",
    "        print(ret.stderr.decode())\n",
    "\n",
    "compare_isoform_structures(gene=tfs['MAX'], fname='/tmp/my_movie.mp4')\n",
    "Video('/tmp/my_movie.mp4')"
   ],
   "outputs": [
    {
     "output_type": "execute_result",
     "data": {
      "text/plain": [
       "<IPython.core.display.Video object>"
      ],
      "text/html": [
       "<video src=\"/tmp/my_movie.mp4\" controls  >\n",
       "      Your browser does not support the <code>video</code> element.\n",
       "    </video>"
      ]
     },
     "metadata": {},
     "execution_count": 17
    }
   ],
   "metadata": {}
  },
  {
   "cell_type": "code",
   "execution_count": null,
   "source": [
    "gene_name = 'GATA2'\n",
    "tfs[gene_name].exon_diagram()\n",
    "#compare_isoform_structures(gene=tfs[gene_name], fname='../../figures/alphafold/videos/{}.mp4'.format(gene_name))"
   ],
   "outputs": [],
   "metadata": {}
  }
 ],
 "metadata": {
  "orig_nbformat": 4,
  "language_info": {
   "name": "python",
   "version": "3.9.6",
   "mimetype": "text/x-python",
   "codemirror_mode": {
    "name": "ipython",
    "version": 3
   },
   "pygments_lexer": "ipython3",
   "nbconvert_exporter": "python",
   "file_extension": ".py"
  },
  "kernelspec": {
   "name": "python3",
   "display_name": "Python 3.9.2 64-bit"
  },
  "interpreter": {
   "hash": "aee8b7b246df8f9039afb4144a1f6fd8d2ca17a180786b69acc140d282b71a49"
  }
 },
 "nbformat": 4,
 "nbformat_minor": 2
}