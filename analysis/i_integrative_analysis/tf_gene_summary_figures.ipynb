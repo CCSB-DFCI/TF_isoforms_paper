{
 "cells": [
  {
   "cell_type": "code",
   "execution_count": 1,
   "metadata": {},
   "outputs": [],
   "source": [
    "import os\n",
    "\n",
    "from matplotlib import pyplot as plt\n",
    "import pandas as pd\n",
    "\n",
    "from data_loading import (load_isoform_and_paralog_y2h_data,\n",
    "                          load_y1h_pdi_data,\n",
    "                          load_m1h_activation_data,\n",
    "                          load_valid_isoform_clones,\n",
    "                          load_rna_expression_data,\n",
    "                          load_seq_comparison_data)\n",
    "from plotting import (isoform_box_and_line_drawing,\n",
    "                      y2h_ppi_per_tf_gene_plot,\n",
    "                      y1h_pdi_per_tf_gene_plot,\n",
    "                      m1h_activation_per_tf_gene_plot)"
   ]
  },
  {
   "cell_type": "code",
   "execution_count": 2,
   "metadata": {},
   "outputs": [],
   "source": [
    "y2h = load_isoform_and_paralog_y2h_data(add_missing_data=True)\n",
    "y1h = load_y1h_pdi_data(add_missing_data=True)\n",
    "m1h = load_m1h_activation_data(add_missing_data=True)\n",
    "# rna = load_rna_expression_data()\n",
    "isoforms = load_valid_isoform_clones()\n",
    "#idents = load_seq_comparison_data()"
   ]
  },
  {
   "cell_type": "code",
   "execution_count": 3,
   "metadata": {},
   "outputs": [
    {
     "data": {
      "image/png": "[encoded data removed]",
      "text/plain": [
       "<Figure size 432x288 with 1 Axes>"
      ]
     },
     "metadata": {
      "needs_background": "light"
     },
     "output_type": "display_data"
    }
   ],
   "source": [
    "gene_name = 'STAT1'\n",
    "isoform_box_and_line_drawing('STAT1',\n",
    "                             isoforms.loc[isoforms['gene'] == gene_name, 'clone_acc'].values)"
   ]
  },
  {
   "cell_type": "code",
   "execution_count": 4,
   "metadata": {},
   "outputs": [
    {
     "data": {
      "image/png": "[encoded data removed]",
      "text/plain": [
       "<Figure size 1440x1440 with 1 Axes>"
      ]
     },
     "metadata": {
      "needs_background": "light"
     },
     "output_type": "display_data"
    }
   ],
   "source": [
    "fig, ax = plt.subplots(1, 1)\n",
    "fig.set_size_inches(20, 20)\n",
    "gene_name = 'STAT1'\n",
    "y2h_ppi_per_tf_gene_plot(gene_name, data=y2h)"
   ]
  },
  {
   "cell_type": "code",
   "execution_count": 5,
   "metadata": {},
   "outputs": [
    {
     "data": {
      "image/png": "[encoded data removed]",
      "text/plain": [
       "<Figure size 432x288 with 1 Axes>"
      ]
     },
     "metadata": {
      "needs_background": "light"
     },
     "output_type": "display_data"
    }
   ],
   "source": [
    "y1h_pdi_per_tf_gene_plot('DMTF1', y1h)"
   ]
  },
  {
   "cell_type": "code",
   "execution_count": 6,
   "metadata": {},
   "outputs": [],
   "source": [
    "def tf_gene_summary_plot(gene_name):\n",
    "    \"\"\"\n",
    "    \n",
    "\n",
    "    \"\"\"\n",
    "    n_iso_y2h = y2h.loc[(y2h['category'] == 'tf_isoform_ppis') &\n",
    "                        (y2h['ad_gene_symbol'] == gene_name),\n",
    "                        'ad_clone_acc'].nunique()\n",
    "    n_partner_y2h = y2h.loc[(y2h['category'] == 'tf_isoform_ppis') &\n",
    "                            (y2h['ad_gene_symbol'] == gene_name),\n",
    "                            'db_gene_symbol'].nunique()\n",
    "    n_iso_y1h = (y1h['tf'] == gene_name).sum()\n",
    "    n_partner_y1h = y1h.loc[(y1h['tf'] == gene_name), y1h.columns[2:]].any(axis=0).sum()\n",
    "    fig, axes = plt.subplots(4, 1)\n",
    "    fig.set_size_inches(max(7, n_partner_y2h * 0.2, n_partner_y2h * 0.2),\n",
    "                        max(20, n_iso_y2h * 0.2, n_iso_y1h * 0.2))\n",
    "    \n",
    "    isoform_box_and_line_drawing(gene_name,\n",
    "                                 isoforms.loc[isoforms['gene'] == gene_name, 'clone_acc'].values,\n",
    "                                 ax=axes[0])\n",
    "    y2h_ppi_per_tf_gene_plot(gene_name, data=y2h, ax=axes[1])\n",
    "    y1h_pdi_per_tf_gene_plot(gene_name, data=y1h, ax=axes[2])\n",
    "    m1h_activation_per_tf_gene_plot(gene_name, data=m1h, ax=axes[3])\n",
    "    os.makedirs('../../figures/per_tf_gene', exist_ok=True)\n",
    "    plt.savefig('../../figures/per_tf_gene/' + gene_name + '_summary.pdf',\n",
    "                bbox_inches='tight')\n",
    "    plt.close(fig)\n",
    "\n",
    "\n",
    "for gene in isoforms['gene'].unique():\n",
    "    tf_gene_summary_plot(gene)"
   ]
  },
  {
   "cell_type": "code",
   "execution_count": null,
   "metadata": {},
   "outputs": [],
   "source": []
  }
 ],
 "metadata": {
  "kernelspec": {
   "display_name": "Python 3",
   "language": "python",
   "name": "python3"
  },
  "language_info": {
   "codemirror_mode": {
    "name": "ipython",
    "version": 3
   },
   "file_extension": ".py",
   "mimetype": "text/x-python",
   "name": "python",
   "nbconvert_exporter": "python",
   "pygments_lexer": "ipython3",
   "version": "3.7.3"
  }
 },
 "nbformat": 4,
 "nbformat_minor": 2
}
