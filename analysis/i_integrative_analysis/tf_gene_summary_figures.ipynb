{
 "cells": [
  {
   "cell_type": "markdown",
   "metadata": {},
   "source": [
    "TODO:\n",
    "\n",
    "- add AD and RD to cloned isoforms if not in reference isoform..."
   ]
  },
  {
   "cell_type": "code",
   "execution_count": 2,
   "metadata": {},
   "outputs": [],
   "source": [
    "import shutil\n",
    "from pathlib import Path\n",
    "\n",
    "from matplotlib import pyplot as plt\n",
    "import pandas as pd\n",
    "\n",
    "from data_loading import (load_isoform_and_paralog_y2h_data,\n",
    "                          load_y1h_pdi_data,\n",
    "                          load_m1h_activation_data,\n",
    "                          load_valid_isoform_clones,\n",
    "                          load_annotated_6k_collection)\n",
    "from plotting import (y2h_ppi_per_tf_gene_plot,\n",
    "                      y1h_pdi_per_tf_gene_plot,\n",
    "                      m1h_activation_per_tf_gene_plot)"
   ]
  },
  {
   "cell_type": "code",
   "execution_count": 8,
   "metadata": {},
   "outputs": [
    {
     "ename": "UserWarning",
     "evalue": "missing categories",
     "output_type": "error",
     "traceback": [
      "\u001b[0;31m---------------------------------------------------------------------------\u001b[0m",
      "\u001b[0;31mUserWarning\u001b[0m                               Traceback (most recent call last)",
      "\u001b[0;32m<ipython-input-8-c96b49874c35>\u001b[0m in \u001b[0;36m<module>\u001b[0;34m\u001b[0m\n\u001b[1;32m      2\u001b[0m \u001b[0;34m\u001b[0m\u001b[0m\n\u001b[1;32m      3\u001b[0m \u001b[0;34m\u001b[0m\u001b[0m\n\u001b[0;32m----> 4\u001b[0;31m \u001b[0mnew\u001b[0m \u001b[0;34m=\u001b[0m \u001b[0mlatest_y2h_data\u001b[0m\u001b[0;34m(\u001b[0m\u001b[0;34m)\u001b[0m\u001b[0;34m\u001b[0m\u001b[0;34m\u001b[0m\u001b[0m\n\u001b[0m",
      "\u001b[0;32m~/work/tf_isoforms/analysis/i_integrative_analysis/data_loading.py\u001b[0m in \u001b[0;36mlatest_y2h_data\u001b[0;34m()\u001b[0m\n\u001b[1;32m    336\u001b[0m     \u001b[0mdf\u001b[0m \u001b[0;34m=\u001b[0m \u001b[0mdf\u001b[0m\u001b[0;34m.\u001b[0m\u001b[0mloc\u001b[0m\u001b[0;34m[\u001b[0m\u001b[0;34m~\u001b[0m\u001b[0mwrong_cat\u001b[0m\u001b[0;34m,\u001b[0m \u001b[0;34m:\u001b[0m\u001b[0;34m]\u001b[0m\u001b[0;34m\u001b[0m\u001b[0;34m\u001b[0m\u001b[0m\n\u001b[1;32m    337\u001b[0m     \u001b[0;32mif\u001b[0m \u001b[0;34m(\u001b[0m\u001b[0mdf\u001b[0m\u001b[0;34m[\u001b[0m\u001b[0;34m'category'\u001b[0m\u001b[0;34m]\u001b[0m\u001b[0;34m.\u001b[0m\u001b[0misnull\u001b[0m\u001b[0;34m(\u001b[0m\u001b[0;34m)\u001b[0m \u001b[0;34m&\u001b[0m \u001b[0;34m(\u001b[0m\u001b[0mdf\u001b[0m\u001b[0;34m[\u001b[0m\u001b[0;34m'ad_orf_id'\u001b[0m\u001b[0;34m]\u001b[0m \u001b[0;34m>\u001b[0m \u001b[0;36m0\u001b[0m\u001b[0;34m)\u001b[0m\u001b[0;34m)\u001b[0m\u001b[0;34m.\u001b[0m\u001b[0msum\u001b[0m\u001b[0;34m(\u001b[0m\u001b[0;34m)\u001b[0m \u001b[0;34m>\u001b[0m \u001b[0;36m0\u001b[0m\u001b[0;34m:\u001b[0m\u001b[0;34m\u001b[0m\u001b[0;34m\u001b[0m\u001b[0m\n\u001b[0;32m--> 338\u001b[0;31m         \u001b[0;32mraise\u001b[0m \u001b[0mUserWarning\u001b[0m\u001b[0;34m(\u001b[0m\u001b[0;34m'missing categories'\u001b[0m\u001b[0;34m)\u001b[0m\u001b[0;34m\u001b[0m\u001b[0;34m\u001b[0m\u001b[0m\n\u001b[0m\u001b[1;32m    339\u001b[0m \u001b[0;34m\u001b[0m\u001b[0m\n\u001b[1;32m    340\u001b[0m     \u001b[0;32mif\u001b[0m \u001b[0mdf\u001b[0m\u001b[0;34m.\u001b[0m\u001b[0mduplicated\u001b[0m\u001b[0;34m(\u001b[0m\u001b[0;34m[\u001b[0m\u001b[0;34m'retest_pla'\u001b[0m\u001b[0;34m,\u001b[0m \u001b[0;34m'retest_pos'\u001b[0m\u001b[0;34m]\u001b[0m\u001b[0;34m)\u001b[0m\u001b[0;34m.\u001b[0m\u001b[0many\u001b[0m\u001b[0;34m(\u001b[0m\u001b[0;34m)\u001b[0m\u001b[0;34m:\u001b[0m\u001b[0;34m\u001b[0m\u001b[0;34m\u001b[0m\u001b[0m\n",
      "\u001b[0;31mUserWarning\u001b[0m: missing categories"
     ]
    }
   ],
   "source": [
    "from data_loading import latest_y2h_data\n",
    "\n",
    "\n",
    "new = latest_y2h_data()"
   ]
  },
  {
   "cell_type": "code",
   "execution_count": null,
   "metadata": {},
   "outputs": [],
   "source": []
  },
  {
   "cell_type": "code",
   "execution_count": 5,
   "metadata": {},
   "outputs": [],
   "source": [
    "shared_dir = Path('/Users/lukelambourne/Dropbox (Partners HealthCare)/TF_isoforms')\n",
    "tf_webpage_dir = shared_dir / 'website'\n",
    "shared_fig_dir = tf_webpage_dir / 'media'\n"
   ]
  },
  {
   "cell_type": "code",
   "execution_count": 6,
   "metadata": {},
   "outputs": [],
   "source": [
    "y2h = load_isoform_and_paralog_y2h_data(add_missing_data=True)\n",
    "y1h = load_y1h_pdi_data(add_missing_data=True)\n",
    "m1h = load_m1h_activation_data(add_missing_data=True)\n",
    "# rna = load_rna_expression_data()\n",
    "isoforms = load_valid_isoform_clones()\n",
    "y2h = y2h.loc[y2h['ad_clone_acc'].isin(isoforms['clone_acc']).values, :]\n",
    "y1h = y1h.loc[y1h['unique_acc'].isin(isoforms['clone_acc']).values, :]\n",
    "m1h = m1h.loc[m1h['clone_acc'].isin(isoforms['clone_acc'].values), :]"
   ]
  },
  {
   "cell_type": "code",
   "execution_count": 3,
   "metadata": {},
   "outputs": [
    {
     "name": "stdout",
     "output_type": "stream",
     "text": [
      "reading from cache\n"
     ]
    }
   ],
   "source": [
    "tfs = load_annotated_6k_collection()"
   ]
  },
  {
   "cell_type": "code",
   "execution_count": null,
   "metadata": {},
   "outputs": [],
   "source": [
    "# make a table per tf\n",
    "# - \n",
    "\n",
    "#  - m1h\n",
    "#      - number clones with data\n",
    "#      - at least two isoforms\n",
    "#      - at least one isoform with 2-fold abs change\n",
    "#  - y2h\n",
    "#      - number of partners\n",
    "#      - at least two non-zero isoforms\n",
    "#       - with at least some difference\n",
    "#  - Y1H\n",
    "#     - number of DNA\n",
    "#     - at least two isoforms with DNA data\n",
    "#     - changes outside of DBD + flank leading to difference"
   ]
  },
  {
   "cell_type": "code",
   "execution_count": 54,
   "metadata": {},
   "outputs": [
    {
     "data": {
      "text/html": [
       "<div>\n",
       "<style scoped>\n",
       "    .dataframe tbody tr th:only-of-type {\n",
       "        vertical-align: middle;\n",
       "    }\n",
       "\n",
       "    .dataframe tbody tr th {\n",
       "        vertical-align: top;\n",
       "    }\n",
       "\n",
       "    .dataframe thead th {\n",
       "        text-align: right;\n",
       "    }\n",
       "</style>\n",
       "<table border=\"1\" class=\"dataframe\">\n",
       "  <thead>\n",
       "    <tr style=\"text-align: right;\">\n",
       "      <th></th>\n",
       "      <th>gene_name</th>\n",
       "      <th>n_cloned_isoforms</th>\n",
       "    </tr>\n",
       "  </thead>\n",
       "  <tbody>\n",
       "    <tr>\n",
       "      <th>AEBP2</th>\n",
       "      <td>AEBP2</td>\n",
       "      <td>2</td>\n",
       "    </tr>\n",
       "    <tr>\n",
       "      <th>ARNT2</th>\n",
       "      <td>ARNT2</td>\n",
       "      <td>3</td>\n",
       "    </tr>\n",
       "    <tr>\n",
       "      <th>ARNTL</th>\n",
       "      <td>ARNTL</td>\n",
       "      <td>2</td>\n",
       "    </tr>\n",
       "    <tr>\n",
       "      <th>ARNTL2</th>\n",
       "      <td>ARNTL2</td>\n",
       "      <td>4</td>\n",
       "    </tr>\n",
       "    <tr>\n",
       "      <th>ATF2</th>\n",
       "      <td>ATF2</td>\n",
       "      <td>6</td>\n",
       "    </tr>\n",
       "    <tr>\n",
       "      <th>...</th>\n",
       "      <td>...</td>\n",
       "      <td>...</td>\n",
       "    </tr>\n",
       "    <tr>\n",
       "      <th>ZSCAN21</th>\n",
       "      <td>ZSCAN21</td>\n",
       "      <td>2</td>\n",
       "    </tr>\n",
       "    <tr>\n",
       "      <th>ZSCAN25</th>\n",
       "      <td>ZSCAN25</td>\n",
       "      <td>2</td>\n",
       "    </tr>\n",
       "    <tr>\n",
       "      <th>ZSCAN26</th>\n",
       "      <td>ZSCAN26</td>\n",
       "      <td>2</td>\n",
       "    </tr>\n",
       "    <tr>\n",
       "      <th>ZSCAN32</th>\n",
       "      <td>ZSCAN32</td>\n",
       "      <td>3</td>\n",
       "    </tr>\n",
       "    <tr>\n",
       "      <th>ZSCAN9</th>\n",
       "      <td>ZSCAN9</td>\n",
       "      <td>2</td>\n",
       "    </tr>\n",
       "  </tbody>\n",
       "</table>\n",
       "<p>309 rows × 2 columns</p>\n",
       "</div>"
      ],
      "text/plain": [
       "        gene_name n_cloned_isoforms\n",
       "AEBP2       AEBP2                 2\n",
       "ARNT2       ARNT2                 3\n",
       "ARNTL       ARNTL                 2\n",
       "ARNTL2     ARNTL2                 4\n",
       "ATF2         ATF2                 6\n",
       "...           ...               ...\n",
       "ZSCAN21   ZSCAN21                 2\n",
       "ZSCAN25   ZSCAN25                 2\n",
       "ZSCAN26   ZSCAN26                 2\n",
       "ZSCAN32   ZSCAN32                 3\n",
       "ZSCAN9     ZSCAN9                 2\n",
       "\n",
       "[309 rows x 2 columns]"
      ]
     },
     "execution_count": 54,
     "metadata": {},
     "output_type": "execute_result"
    }
   ],
   "source": [
    "data = {}\n",
    "for tf in tfs.values():\n",
    "    data[tf.name] = {}\n",
    "    data[tf.name]['gene_name'] = tf.name\n",
    "    data[tf.name]['n_cloned_isoforms'] = len(tf.cloned_isoforms)\n",
    "\n",
    "data = pd.DataFrame(data).T.sort_index()\n",
    "data"
   ]
  },
  {
   "cell_type": "code",
   "execution_count": 55,
   "metadata": {},
   "outputs": [
    {
     "data": {
      "text/html": [
       "<div>\n",
       "<style scoped>\n",
       "    .dataframe tbody tr th:only-of-type {\n",
       "        vertical-align: middle;\n",
       "    }\n",
       "\n",
       "    .dataframe tbody tr th {\n",
       "        vertical-align: top;\n",
       "    }\n",
       "\n",
       "    .dataframe thead th {\n",
       "        text-align: right;\n",
       "    }\n",
       "</style>\n",
       "<table border=\"1\" class=\"dataframe\">\n",
       "  <thead>\n",
       "    <tr style=\"text-align: right;\">\n",
       "      <th></th>\n",
       "      <th>gene_name</th>\n",
       "      <th>n_cloned_isoforms</th>\n",
       "    </tr>\n",
       "  </thead>\n",
       "  <tbody>\n",
       "    <tr>\n",
       "      <th>ARNT2</th>\n",
       "      <td>ARNT2</td>\n",
       "      <td>3</td>\n",
       "    </tr>\n",
       "    <tr>\n",
       "      <th>ARNTL2</th>\n",
       "      <td>ARNTL2</td>\n",
       "      <td>4</td>\n",
       "    </tr>\n",
       "    <tr>\n",
       "      <th>ATF2</th>\n",
       "      <td>ATF2</td>\n",
       "      <td>6</td>\n",
       "    </tr>\n",
       "    <tr>\n",
       "      <th>CREM</th>\n",
       "      <td>CREM</td>\n",
       "      <td>3</td>\n",
       "    </tr>\n",
       "    <tr>\n",
       "      <th>DLX4</th>\n",
       "      <td>DLX4</td>\n",
       "      <td>3</td>\n",
       "    </tr>\n",
       "    <tr>\n",
       "      <th>...</th>\n",
       "      <td>...</td>\n",
       "      <td>...</td>\n",
       "    </tr>\n",
       "    <tr>\n",
       "      <th>ZNF688</th>\n",
       "      <td>ZNF688</td>\n",
       "      <td>3</td>\n",
       "    </tr>\n",
       "    <tr>\n",
       "      <th>ZNF692</th>\n",
       "      <td>ZNF692</td>\n",
       "      <td>3</td>\n",
       "    </tr>\n",
       "    <tr>\n",
       "      <th>ZNF747</th>\n",
       "      <td>ZNF747</td>\n",
       "      <td>3</td>\n",
       "    </tr>\n",
       "    <tr>\n",
       "      <th>ZSCAN18</th>\n",
       "      <td>ZSCAN18</td>\n",
       "      <td>3</td>\n",
       "    </tr>\n",
       "    <tr>\n",
       "      <th>ZSCAN32</th>\n",
       "      <td>ZSCAN32</td>\n",
       "      <td>3</td>\n",
       "    </tr>\n",
       "  </tbody>\n",
       "</table>\n",
       "<p>111 rows × 2 columns</p>\n",
       "</div>"
      ],
      "text/plain": [
       "        gene_name n_cloned_isoforms\n",
       "ARNT2       ARNT2                 3\n",
       "ARNTL2     ARNTL2                 4\n",
       "ATF2         ATF2                 6\n",
       "CREM         CREM                 3\n",
       "DLX4         DLX4                 3\n",
       "...           ...               ...\n",
       "ZNF688     ZNF688                 3\n",
       "ZNF692     ZNF692                 3\n",
       "ZNF747     ZNF747                 3\n",
       "ZSCAN18   ZSCAN18                 3\n",
       "ZSCAN32   ZSCAN32                 3\n",
       "\n",
       "[111 rows x 2 columns]"
      ]
     },
     "execution_count": 55,
     "metadata": {},
     "output_type": "execute_result"
    }
   ],
   "source": [
    "data.loc[data['n_cloned_isoforms'] >= 3, :]"
   ]
  },
  {
   "cell_type": "code",
   "execution_count": 12,
   "metadata": {},
   "outputs": [],
   "source": [
    "with open('gene_summary_template.html', 'r') as f:\n",
    "    template = f.read()\n",
    "for tf in tfs.values():\n",
    "    with open(tf_webpage_dir / 'pages/{}.html'.format(tf.name), 'w') as f:\n",
    "        f.write(template.format(gene_name=tf.name,\n",
    "                                ensembl_gene_id=tf.ensembl_gene_id,\n",
    "                                uniprot_ac=tf.uniprot_ac,\n",
    "                                tf_family=tf.tf_family))\n",
    "shutil.copyfile('gene_summary.css', tf_webpage_dir / 'gene_summary.css')\n",
    "tf_datalist = '\\n'.join('        <option value=\"{}\"/>'.format(name) for name in sorted(tfs.keys()))\n",
    "with open(tf_webpage_dir / 'index.html', 'w') as f_index:\n",
    "    with open('index_template.html', 'r') as f_index_template:\n",
    "        f_index.write(f_index_template.read().format(tf_gene_name_list=tf_datalist))  "
   ]
  },
  {
   "cell_type": "code",
   "execution_count": 42,
   "metadata": {},
   "outputs": [
    {
     "data": {
      "text/plain": [
       "1376"
      ]
     },
     "execution_count": 42,
     "metadata": {},
     "output_type": "execute_result"
    }
   ],
   "source": [
    "len([orf for tf in tfs.values() for orf in tf.orfs])"
   ]
  },
  {
   "cell_type": "code",
   "execution_count": 9,
   "metadata": {},
   "outputs": [],
   "source": [
    "for tf in tfs.values():\n",
    "    fig, ax = plt.subplots(1, 1)\n",
    "    y2h_ppi_per_tf_gene_plot(tf.name, ax=ax, data=y2h)\n",
    "    n_ppi_partners = ax.get_xlim()[1] + 0.5\n",
    "    fig.set_size_inches(1 + 0.35 * n_ppi_partners, 1 + 0.35 * len(tf.cloned_isoforms))\n",
    "    for fmt in ['.svg']:\n",
    "        plt.savefig(shared_fig_dir / '{}_y2h-profile{}'.format(tf.name, fmt),\n",
    "                    bbox_inches='tight')\n",
    "    plt.close(plt.gcf())"
   ]
  },
  {
   "cell_type": "code",
   "execution_count": 6,
   "metadata": {},
   "outputs": [],
   "source": [
    "for tf in tfs.values():\n",
    "    fig, ax = plt.subplots(1, 1)\n",
    "    fig.set_size_inches(6, 0.5 * len(tf.cloned_isoforms))\n",
    "    m1h_activation_per_tf_gene_plot(tf.name, data=m1h)\n",
    "    for fmt in ['.svg']:\n",
    "        plt.savefig(shared_fig_dir / '{}_m1h-profile{}'.format(tf.name, fmt),\n",
    "                    bbox_inches='tight')\n",
    "    plt.close(plt.gcf())"
   ]
  },
  {
   "cell_type": "code",
   "execution_count": 7,
   "metadata": {},
   "outputs": [],
   "source": [
    "for gene_name in isoforms['gene'].unique():\n",
    "    fig, ax = plt.subplots(1, 1)\n",
    "    y1h_pdi_per_tf_gene_plot(gene_name, data=y1h)\n",
    "    n_pdi_partners = ax.get_xlim()[1] + 0.5\n",
    "    fig.set_size_inches(1 + 0.35 * n_pdi_partners, 1 + 0.35 * len(tf.cloned_isoforms))\n",
    "    for fmt in ['.svg']:\n",
    "        plt.savefig(shared_fig_dir / '{}_y1h-profile{}'.format(gene_name, fmt),\n",
    "                    bbox_inches='tight')\n",
    "    plt.close(plt.gcf())"
   ]
  },
  {
   "cell_type": "code",
   "execution_count": 4,
   "metadata": {},
   "outputs": [],
   "source": [
    "for tf in tfs.values():\n",
    "    fig, ax = plt.subplots(1, 1)\n",
    "    fig.set_size_inches(8, 0.65 * len(tf.cloned_isoforms))\n",
    "    tf.protein_diagram(ax=ax)\n",
    "    for fmt in ['.svg']:\n",
    "        plt.savefig(shared_fig_dir / '{}_cloned-isoforms_protein-diagram{}'.format(tf.name, fmt),\n",
    "                    bbox_inches='tight')\n",
    "    plt.close(plt.gcf())"
   ]
  },
  {
   "cell_type": "code",
   "execution_count": 19,
   "metadata": {},
   "outputs": [],
   "source": [
    "for tf in tfs.values():\n",
    "    fig, ax = plt.subplots(1, 1)\n",
    "    fig.set_size_inches(8, 0.5 * len(tf.orfs))\n",
    "    tf.exon_diagram(ax=ax, show_matched_transcripts=True)\n",
    "    for fmt in ['.svg']:\n",
    "        plt.savefig(shared_fig_dir / '{}_cloned-plus-ensembl-isoforms_exon-diagram{}'.format(tf.name, fmt),\n",
    "                    bbox_inches='tight')\n",
    "    plt.close(plt.gcf())"
   ]
  },
  {
   "cell_type": "code",
   "execution_count": null,
   "metadata": {},
   "outputs": [],
   "source": []
  }
 ],
 "metadata": {
  "interpreter": {
   "hash": "4ae04c9a3e8cbfaaf818a59204fe953064ae0593c0d7ed4865e22581ae0526ea"
  },
  "kernelspec": {
   "display_name": "Python 3.8.12 64-bit ('venv': venv)",
   "name": "python3"
  },
  "language_info": {
   "codemirror_mode": {
    "name": "ipython",
    "version": 3
   },
   "file_extension": ".py",
   "mimetype": "text/x-python",
   "name": "python",
   "nbconvert_exporter": "python",
   "pygments_lexer": "ipython3",
   "version": "3.8.13"
  }
 },
 "nbformat": 4,
 "nbformat_minor": 2
}
