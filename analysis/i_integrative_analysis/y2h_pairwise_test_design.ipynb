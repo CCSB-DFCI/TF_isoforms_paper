{
 "metadata": {
  "language_info": {
   "codemirror_mode": {
    "name": "ipython",
    "version": 3
   },
   "file_extension": ".py",
   "mimetype": "text/x-python",
   "name": "python",
   "nbconvert_exporter": "python",
   "pygments_lexer": "ipython3",
   "version": "3.8.6-final"
  },
  "orig_nbformat": 2,
  "kernelspec": {
   "name": "python3",
   "display_name": "Python 3.8.6 64-bit ('venv')",
   "metadata": {
    "interpreter": {
     "hash": "a0fe067f1acd66b9f9fc8566e220f8b6ed8d308a719a4af7403342fba39a1d10"
    }
   }
  }
 },
 "nbformat": 4,
 "nbformat_minor": 2,
 "cells": [
  {
   "cell_type": "code",
   "execution_count": 1,
   "metadata": {},
   "outputs": [],
   "source": [
    "import math\n",
    "import string\n",
    "import itertools\n",
    "\n",
    "import numpy as np\n",
    "from matplotlib import pyplot as plt\n",
    "import pandas as pd\n",
    "\n",
    "from data_loading import (load_isoform_and_paralog_y2h_data,\n",
    "                          load_y2h_isoform_data,\n",
    "                          load_y2h_paralogs_additional_data,\n",
    "                          load_paralog_pairs)"
   ]
  },
  {
   "cell_type": "code",
   "execution_count": 2,
   "metadata": {},
   "outputs": [],
   "source": [
    "y2h = load_isoform_and_paralog_y2h_data()\n",
    "y2h_para = load_y2h_paralogs_additional_data()\n",
    "y2h_para = y2h_para.loc[y2h_para['at_least_2_isoforms'] & y2h_para['at_least_2_partners'], :]\n",
    "pairs = load_paralog_pairs()\n",
    "\n",
    "# could also try with valid clones dataset\n",
    "y2h['at_least_2_isoforms'] = y2h['ad_gene_symbol'].map(y2h.loc[y2h['category'] == 'tf_isoform_ppis', :].groupby('ad_gene_symbol')['ad_clone_acc'].nunique() >= 2)\n",
    "y2h['at_least_2_partners'] = y2h['ad_gene_symbol'].map(y2h.loc[y2h['category'] == 'tf_isoform_ppis', :].groupby('ad_gene_symbol')['db_gene_symbol'].nunique() >= 2)\n",
    "y2h_iso = y2h.loc[(y2h['category'] == 'tf_isoform_ppis') &\n",
    "                  y2h['at_least_2_isoforms'] &\n",
    "                  y2h['at_least_2_partners'],\n",
    "                  :]"
   ]
  },
  {
   "cell_type": "code",
   "execution_count": 3,
   "metadata": {},
   "outputs": [
    {
     "output_type": "execute_result",
     "data": {
      "text/plain": [
       "(5447, 16)"
      ]
     },
     "metadata": {},
     "execution_count": 3
    }
   ],
   "source": [
    "y2h_iso.shape"
   ]
  },
  {
   "cell_type": "code",
   "execution_count": 4,
   "metadata": {},
   "outputs": [
    {
     "output_type": "execute_result",
     "data": {
      "text/plain": [
       "(4311, 17)"
      ]
     },
     "metadata": {},
     "execution_count": 4
    }
   ],
   "source": [
    "y2h_para.shape"
   ]
  },
  {
   "cell_type": "code",
   "execution_count": 5,
   "metadata": {},
   "outputs": [
    {
     "output_type": "execute_result",
     "data": {
      "text/plain": [
       "(148, 4)"
      ]
     },
     "metadata": {},
     "execution_count": 5
    }
   ],
   "source": [
    "pairs.shape"
   ]
  },
  {
   "cell_type": "code",
   "execution_count": 6,
   "metadata": {},
   "outputs": [],
   "source": [
    "filtered_pairs = y2h_para.loc[y2h_para['at_least_2_isoforms'] & \n",
    "             y2h_para['at_least_2_partners'],\n",
    "             ['ad_gene_symbol', 'paired_tf_gene']].drop_duplicates()\n",
    "filtered_pairs = {frozenset([row['ad_gene_symbol'], g]) for _i, row in filtered_pairs.iterrows() for g in row['paired_tf_gene'].split('|')}"
   ]
  },
  {
   "cell_type": "code",
   "execution_count": 7,
   "metadata": {},
   "outputs": [],
   "source": [
    "pairs['additional_tested'] = pairs.apply(lambda x: frozenset([x['tf_gene_a'], x['tf_gene_b']]) in filtered_pairs,\n",
    "            axis=1)"
   ]
  },
  {
   "cell_type": "code",
   "execution_count": 8,
   "metadata": {},
   "outputs": [],
   "source": [
    "# check for pairs where one set of partners is a subset of the other\n",
    "iso_partners = y2h_iso.groupby('ad_gene_symbol')['db_gene_symbol'].apply(set)\n",
    "pairs['partners_a'] = pairs['tf_gene_a'].map(iso_partners)\n",
    "pairs['partners_b'] = pairs['tf_gene_b'].map(iso_partners)\n",
    "pairs['same_tested_partners'] = (pairs['partners_a'] == pairs['partners_b'])"
   ]
  },
  {
   "cell_type": "code",
   "execution_count": 9,
   "metadata": {},
   "outputs": [],
   "source": [
    "pairs.loc[pairs['additional_tested'] | pairs['same_tested_partners'],\n",
    "          ['tf_gene_a', 'tf_gene_b', 'is_paralog_pair']].to_csv('../../cache/paralog_pairs_filtered.tsv', sep='\\t', index=False)"
   ]
  },
  {
   "cell_type": "code",
   "execution_count": 10,
   "metadata": {},
   "outputs": [
    {
     "output_type": "execute_result",
     "data": {
      "text/plain": [
       "True     84\n",
       "False    12\n",
       "Name: is_paralog_pair, dtype: int64"
      ]
     },
     "metadata": {},
     "execution_count": 10
    }
   ],
   "source": [
    "pairs.loc[pairs['additional_tested'] | pairs['same_tested_partners'],\n",
    "          ['tf_gene_a', 'tf_gene_b', 'is_paralog_pair']]['is_paralog_pair'].value_counts()"
   ]
  },
  {
   "cell_type": "code",
   "execution_count": 11,
   "metadata": {},
   "outputs": [],
   "source": [
    "non_zero_iso = (set(y2h_iso.loc[y2h_iso['score'] == '1', 'ad_clone_acc'].unique())\n",
    "                .union(\n",
    "                    set(y2h_para.loc[y2h_para['score'] == '1', 'ad_clone_acc'].unique())\n",
    "                ))"
   ]
  },
  {
   "cell_type": "code",
   "execution_count": 12,
   "metadata": {},
   "outputs": [],
   "source": [
    "y2h_iso['non_zero_iso'] = y2h_iso['ad_clone_acc'].isin(non_zero_iso)\n",
    "y2h_para['non_zero_iso'] = y2h_para['ad_clone_acc'].isin(non_zero_iso)"
   ]
  },
  {
   "cell_type": "code",
   "execution_count": 13,
   "metadata": {},
   "outputs": [],
   "source": [
    "y2h_iso['at_least_2_non_zero_isoforms'] = (y2h_iso['ad_gene_symbol']\n",
    "                                            .map(y2h_iso.loc[y2h_iso['non_zero_iso'], :]\n",
    "                                                  .groupby('ad_gene_symbol')\n",
    "                                                  ['ad_clone_acc']\n",
    "                                                  .nunique() >= 2))"
   ]
  },
  {
   "cell_type": "code",
   "execution_count": 14,
   "metadata": {},
   "outputs": [],
   "source": [
    "y2h_iso['at_least_1_positive_per_partner'] = (y2h_iso.groupby(['ad_gene_symbol', 'db_gene_symbol'])\n",
    "                                           ['score']\n",
    "                                          .transform(lambda row: (row == '1').any()))\n",
    "# and at least two partners after excluding those without a postiive\n",
    "y2h_iso['at_least_1_positive_per_partner'] = (y2h_iso['at_least_1_positive_per_partner'] &\n",
    "                                         y2h_iso['ad_gene_symbol'].map(\n",
    "                                             y2h_iso.loc[y2h_iso['at_least_1_positive_per_partner'],\n",
    "                                                     :].groupby('ad_gene_symbol')['db_gene_symbol'].nunique() >= 2))"
   ]
  },
  {
   "cell_type": "code",
   "execution_count": 15,
   "metadata": {},
   "outputs": [
    {
     "output_type": "execute_result",
     "data": {
      "text/plain": [
       "3993"
      ]
     },
     "metadata": {},
     "execution_count": 15
    }
   ],
   "source": [
    "(y2h_iso['at_least_1_positive_per_partner'] &\n",
    " y2h_iso['at_least_2_non_zero_isoforms']).sum()"
   ]
  },
  {
   "cell_type": "code",
   "execution_count": 16,
   "metadata": {},
   "outputs": [],
   "source": [
    "non_zero_gene_ppis = set((y2h_iso.loc[y2h_iso['at_least_1_positive_per_partner'] &\n",
    "                                y2h_iso['at_least_2_non_zero_isoforms'],\n",
    "                                ['ad_gene_symbol', 'db_gene_symbol']]\n",
    "                                .drop_duplicates()\n",
    "                                .apply(lambda x: x['ad_gene_symbol'] + '_' + x['db_gene_symbol'],\n",
    "                                        axis=1)).values)\n",
    "y2h_para['matches_non_zero_pair'] = y2h_para.apply(lambda x: any((g + '_' + x['db_gene_symbol']) in non_zero_gene_ppis\n",
    "                             for g in x['paired_tf_gene'].split('|')),\n",
    "               axis=1)"
   ]
  },
  {
   "cell_type": "code",
   "execution_count": 17,
   "metadata": {},
   "outputs": [
    {
     "output_type": "execute_result",
     "data": {
      "text/plain": [
       "2533"
      ]
     },
     "metadata": {},
     "execution_count": 17
    }
   ],
   "source": [
    "(y2h_para['matches_non_zero_pair'] & y2h_para['non_zero_iso']).sum()"
   ]
  },
  {
   "cell_type": "code",
   "execution_count": 18,
   "metadata": {},
   "outputs": [
    {
     "output_type": "execute_result",
     "data": {
      "text/plain": [
       "                 category  ad_orf_id      ad_clone_acc ad_gene_symbol  \\\n",
       "9888      tf_paralog_ppis     100553   TCF12|2/3|07A09          TCF12   \n",
       "9889      tf_paralog_ppis     100383   NR2F2|1/2|09E07          NR2F2   \n",
       "9890      tf_paralog_ppis     101051    TP53|2/2|02F03           TP53   \n",
       "9891  non_paralog_control     101157  HMG20A|1/2|05B08         HMG20A   \n",
       "9892      tf_paralog_ppis     100318   NR4A1|3/5|03G02          NR4A1   \n",
       "\n",
       "      db_orf_id db_gene_symbol score standard_batch  retest_pla retest_pos  \\\n",
       "9888       1270          OLFM3     0          TFr08          92        A02   \n",
       "9889       4558           RARA     0          TFr08          92        A03   \n",
       "9890       6901          MCRS1     0          TFr08          92        A04   \n",
       "9891       7215          NR0B1     0          TFr08          92        A05   \n",
       "9892       7215          NR0B1     0          TFr08          92        A06   \n",
       "\n",
       "      in_orfeome_screen  in_focussed_screen  in_hi_union  in_lit_bm  \\\n",
       "9888              False               False        False      False   \n",
       "9889              False               False        False      False   \n",
       "9890              False               False        False      False   \n",
       "9891              False               False        False      False   \n",
       "9892              False               False        False      False   \n",
       "\n",
       "      paired_tf_gene  at_least_2_isoforms  at_least_2_partners  non_zero_iso  \\\n",
       "9888            TCF4                 True                 True          True   \n",
       "9889  RXRB|RXRA|RXRG                 True                 True          True   \n",
       "9890            TP63                 True                 True          True   \n",
       "9891           HNF4A                 True                 True          True   \n",
       "9892     ESRRG|ESRRA                 True                 True          True   \n",
       "\n",
       "      matches_non_zero_pair  \n",
       "9888                   True  \n",
       "9889                  False  \n",
       "9890                   True  \n",
       "9891                   True  \n",
       "9892                   True  "
      ],
      "text/html": "<div>\n<style scoped>\n    .dataframe tbody tr th:only-of-type {\n        vertical-align: middle;\n    }\n\n    .dataframe tbody tr th {\n        vertical-align: top;\n    }\n\n    .dataframe thead th {\n        text-align: right;\n    }\n</style>\n<table border=\"1\" class=\"dataframe\">\n  <thead>\n    <tr style=\"text-align: right;\">\n      <th></th>\n      <th>category</th>\n      <th>ad_orf_id</th>\n      <th>ad_clone_acc</th>\n      <th>ad_gene_symbol</th>\n      <th>db_orf_id</th>\n      <th>db_gene_symbol</th>\n      <th>score</th>\n      <th>standard_batch</th>\n      <th>retest_pla</th>\n      <th>retest_pos</th>\n      <th>in_orfeome_screen</th>\n      <th>in_focussed_screen</th>\n      <th>in_hi_union</th>\n      <th>in_lit_bm</th>\n      <th>paired_tf_gene</th>\n      <th>at_least_2_isoforms</th>\n      <th>at_least_2_partners</th>\n      <th>non_zero_iso</th>\n      <th>matches_non_zero_pair</th>\n    </tr>\n  </thead>\n  <tbody>\n    <tr>\n      <th>9888</th>\n      <td>tf_paralog_ppis</td>\n      <td>100553</td>\n      <td>TCF12|2/3|07A09</td>\n      <td>TCF12</td>\n      <td>1270</td>\n      <td>OLFM3</td>\n      <td>0</td>\n      <td>TFr08</td>\n      <td>92</td>\n      <td>A02</td>\n      <td>False</td>\n      <td>False</td>\n      <td>False</td>\n      <td>False</td>\n      <td>TCF4</td>\n      <td>True</td>\n      <td>True</td>\n      <td>True</td>\n      <td>True</td>\n    </tr>\n    <tr>\n      <th>9889</th>\n      <td>tf_paralog_ppis</td>\n      <td>100383</td>\n      <td>NR2F2|1/2|09E07</td>\n      <td>NR2F2</td>\n      <td>4558</td>\n      <td>RARA</td>\n      <td>0</td>\n      <td>TFr08</td>\n      <td>92</td>\n      <td>A03</td>\n      <td>False</td>\n      <td>False</td>\n      <td>False</td>\n      <td>False</td>\n      <td>RXRB|RXRA|RXRG</td>\n      <td>True</td>\n      <td>True</td>\n      <td>True</td>\n      <td>False</td>\n    </tr>\n    <tr>\n      <th>9890</th>\n      <td>tf_paralog_ppis</td>\n      <td>101051</td>\n      <td>TP53|2/2|02F03</td>\n      <td>TP53</td>\n      <td>6901</td>\n      <td>MCRS1</td>\n      <td>0</td>\n      <td>TFr08</td>\n      <td>92</td>\n      <td>A04</td>\n      <td>False</td>\n      <td>False</td>\n      <td>False</td>\n      <td>False</td>\n      <td>TP63</td>\n      <td>True</td>\n      <td>True</td>\n      <td>True</td>\n      <td>True</td>\n    </tr>\n    <tr>\n      <th>9891</th>\n      <td>non_paralog_control</td>\n      <td>101157</td>\n      <td>HMG20A|1/2|05B08</td>\n      <td>HMG20A</td>\n      <td>7215</td>\n      <td>NR0B1</td>\n      <td>0</td>\n      <td>TFr08</td>\n      <td>92</td>\n      <td>A05</td>\n      <td>False</td>\n      <td>False</td>\n      <td>False</td>\n      <td>False</td>\n      <td>HNF4A</td>\n      <td>True</td>\n      <td>True</td>\n      <td>True</td>\n      <td>True</td>\n    </tr>\n    <tr>\n      <th>9892</th>\n      <td>tf_paralog_ppis</td>\n      <td>100318</td>\n      <td>NR4A1|3/5|03G02</td>\n      <td>NR4A1</td>\n      <td>7215</td>\n      <td>NR0B1</td>\n      <td>0</td>\n      <td>TFr08</td>\n      <td>92</td>\n      <td>A06</td>\n      <td>False</td>\n      <td>False</td>\n      <td>False</td>\n      <td>False</td>\n      <td>ESRRG|ESRRA</td>\n      <td>True</td>\n      <td>True</td>\n      <td>True</td>\n      <td>True</td>\n    </tr>\n  </tbody>\n</table>\n</div>"
     },
     "metadata": {},
     "execution_count": 18
    }
   ],
   "source": [
    "y2h_para.head()"
   ]
  },
  {
   "cell_type": "code",
   "execution_count": 19,
   "metadata": {},
   "outputs": [],
   "source": [
    "# restrict paralog pairs to\n",
    "#y2h_iso.loc[y2h_iso['at_least_1_positive_per_partner'] & y2h_iso]"
   ]
  },
  {
   "cell_type": "code",
   "execution_count": 20,
   "metadata": {},
   "outputs": [
    {
     "output_type": "execute_result",
     "data": {
      "text/plain": [
       "9758"
      ]
     },
     "metadata": {},
     "execution_count": 20
    }
   ],
   "source": [
    "(y2h_iso.shape[0] + y2h_para.shape[0])"
   ]
  },
  {
   "cell_type": "code",
   "execution_count": 21,
   "metadata": {},
   "outputs": [
    {
     "output_type": "execute_result",
     "data": {
      "text/plain": [
       "7470"
      ]
     },
     "metadata": {},
     "execution_count": 21
    }
   ],
   "source": [
    "(y2h_iso['non_zero_iso'].sum() + y2h_para['non_zero_iso'].sum())"
   ]
  },
  {
   "cell_type": "code",
   "execution_count": 22,
   "metadata": {},
   "outputs": [],
   "source": [
    "columns = ['ad_orf_id', 'ad_clone_acc', 'ad_gene_symbol', 'db_orf_id', 'db_gene_symbol']\n",
    "df = (pd.concat([y2h_iso.loc[:, columns],\n",
    "                y2h_para.loc[:, columns]])\n",
    "                .groupby('ad_gene_symbol')[['ad_clone_acc',\n",
    "        'db_gene_symbol']]\n",
    "        .nunique()\n",
    "        .rename(columns={'ad_clone_acc': 'n_isoforms',\n",
    "                                                     'db_gene_symbol': 'n_partners'})\n",
    "                                                     .sort_values(['n_isoforms', 'n_partners'],\n",
    "                                                                  ascending=False))"
   ]
  },
  {
   "cell_type": "code",
   "execution_count": 23,
   "metadata": {},
   "outputs": [],
   "source": [
    "df = pd.concat([y2h_iso.loc[:, columns],\n",
    "          y2h_para.loc[:, columns]])\n",
    "gene_sizes = (df.groupby('ad_gene_symbol')[['ad_clone_acc',\n",
    "        'db_gene_symbol']]\n",
    "        .nunique()\n",
    "        .rename(columns={'ad_clone_acc': 'n_isoforms',\n",
    "                                                     'db_gene_symbol': 'n_partners'})\n",
    "                                                     .sort_values(['n_isoforms', 'n_partners'],\n",
    "                                                                  ascending=False))\n",
    "df['ad_clone_acc'] = df['ad_clone_acc'].apply(lambda x: x.split('|')[0] + '-' + x.split('|')[1].split('/')[0])\n",
    "df = df.sort_values(['ad_gene_symbol' , 'ad_clone_acc', 'db_gene_symbol'])\n",
    "if df.duplicated().any():\n",
    "    raise UserWarning('Unexpected duplicate rows in table')"
   ]
  },
  {
   "cell_type": "code",
   "execution_count": 24,
   "metadata": {},
   "outputs": [
    {
     "output_type": "execute_result",
     "data": {
      "text/plain": [
       "                n_isoforms  n_partners\n",
       "ad_gene_symbol                        \n",
       "TCF4                     8         198\n",
       "ZNF451                   7          94\n",
       "SOX6                     6          39\n",
       "ZBTB44                   6          25\n",
       "GRHL3                    6          17"
      ],
      "text/html": "<div>\n<style scoped>\n    .dataframe tbody tr th:only-of-type {\n        vertical-align: middle;\n    }\n\n    .dataframe tbody tr th {\n        vertical-align: top;\n    }\n\n    .dataframe thead th {\n        text-align: right;\n    }\n</style>\n<table border=\"1\" class=\"dataframe\">\n  <thead>\n    <tr style=\"text-align: right;\">\n      <th></th>\n      <th>n_isoforms</th>\n      <th>n_partners</th>\n    </tr>\n    <tr>\n      <th>ad_gene_symbol</th>\n      <th></th>\n      <th></th>\n    </tr>\n  </thead>\n  <tbody>\n    <tr>\n      <th>TCF4</th>\n      <td>8</td>\n      <td>198</td>\n    </tr>\n    <tr>\n      <th>ZNF451</th>\n      <td>7</td>\n      <td>94</td>\n    </tr>\n    <tr>\n      <th>SOX6</th>\n      <td>6</td>\n      <td>39</td>\n    </tr>\n    <tr>\n      <th>ZBTB44</th>\n      <td>6</td>\n      <td>25</td>\n    </tr>\n    <tr>\n      <th>GRHL3</th>\n      <td>6</td>\n      <td>17</td>\n    </tr>\n  </tbody>\n</table>\n</div>"
     },
     "metadata": {},
     "execution_count": 24
    }
   ],
   "source": [
    "gene_sizes.head()"
   ]
  },
  {
   "cell_type": "code",
   "execution_count": 25,
   "metadata": {},
   "outputs": [
    {
     "output_type": "execute_result",
     "data": {
      "text/plain": [
       "                n_isoforms  n_partners\n",
       "ad_gene_symbol                        \n",
       "RARB                     2           3\n",
       "ZFY                      2           3\n",
       "ZNF250                   2           3\n",
       "FOXJ2                    2           2\n",
       "HSF2                     2           2"
      ],
      "text/html": "<div>\n<style scoped>\n    .dataframe tbody tr th:only-of-type {\n        vertical-align: middle;\n    }\n\n    .dataframe tbody tr th {\n        vertical-align: top;\n    }\n\n    .dataframe thead th {\n        text-align: right;\n    }\n</style>\n<table border=\"1\" class=\"dataframe\">\n  <thead>\n    <tr style=\"text-align: right;\">\n      <th></th>\n      <th>n_isoforms</th>\n      <th>n_partners</th>\n    </tr>\n    <tr>\n      <th>ad_gene_symbol</th>\n      <th></th>\n      <th></th>\n    </tr>\n  </thead>\n  <tbody>\n    <tr>\n      <th>RARB</th>\n      <td>2</td>\n      <td>3</td>\n    </tr>\n    <tr>\n      <th>ZFY</th>\n      <td>2</td>\n      <td>3</td>\n    </tr>\n    <tr>\n      <th>ZNF250</th>\n      <td>2</td>\n      <td>3</td>\n    </tr>\n    <tr>\n      <th>FOXJ2</th>\n      <td>2</td>\n      <td>2</td>\n    </tr>\n    <tr>\n      <th>HSF2</th>\n      <td>2</td>\n      <td>2</td>\n    </tr>\n  </tbody>\n</table>\n</div>"
     },
     "metadata": {},
     "execution_count": 25
    }
   ],
   "source": [
    "gene_sizes.tail()"
   ]
  },
  {
   "cell_type": "code",
   "execution_count": 26,
   "metadata": {},
   "outputs": [
    {
     "output_type": "execute_result",
     "data": {
      "text/plain": [
       "    n_isoforms  n_partners  n_tf_genes\n",
       "0            2           2           2\n",
       "1            2           3           5\n",
       "2            2           4           5\n",
       "3            2           5           2\n",
       "4            2           6           2\n",
       "5            2           7           1\n",
       "6            2           8           1\n",
       "7            2           9           7\n",
       "8            2          10           1\n",
       "9            2          12           1\n",
       "10           2          14           1\n",
       "11           2          15           2\n",
       "12           2          16           2\n",
       "13           2          21           2\n",
       "14           2          22           4\n",
       "15           2          25           2\n",
       "16           2          27           1\n",
       "17           2          28           4\n",
       "18           2          29           2\n",
       "19           2          31           2"
      ],
      "text/html": "<div>\n<style scoped>\n    .dataframe tbody tr th:only-of-type {\n        vertical-align: middle;\n    }\n\n    .dataframe tbody tr th {\n        vertical-align: top;\n    }\n\n    .dataframe thead th {\n        text-align: right;\n    }\n</style>\n<table border=\"1\" class=\"dataframe\">\n  <thead>\n    <tr style=\"text-align: right;\">\n      <th></th>\n      <th>n_isoforms</th>\n      <th>n_partners</th>\n      <th>n_tf_genes</th>\n    </tr>\n  </thead>\n  <tbody>\n    <tr>\n      <th>0</th>\n      <td>2</td>\n      <td>2</td>\n      <td>2</td>\n    </tr>\n    <tr>\n      <th>1</th>\n      <td>2</td>\n      <td>3</td>\n      <td>5</td>\n    </tr>\n    <tr>\n      <th>2</th>\n      <td>2</td>\n      <td>4</td>\n      <td>5</td>\n    </tr>\n    <tr>\n      <th>3</th>\n      <td>2</td>\n      <td>5</td>\n      <td>2</td>\n    </tr>\n    <tr>\n      <th>4</th>\n      <td>2</td>\n      <td>6</td>\n      <td>2</td>\n    </tr>\n    <tr>\n      <th>5</th>\n      <td>2</td>\n      <td>7</td>\n      <td>1</td>\n    </tr>\n    <tr>\n      <th>6</th>\n      <td>2</td>\n      <td>8</td>\n      <td>1</td>\n    </tr>\n    <tr>\n      <th>7</th>\n      <td>2</td>\n      <td>9</td>\n      <td>7</td>\n    </tr>\n    <tr>\n      <th>8</th>\n      <td>2</td>\n      <td>10</td>\n      <td>1</td>\n    </tr>\n    <tr>\n      <th>9</th>\n      <td>2</td>\n      <td>12</td>\n      <td>1</td>\n    </tr>\n    <tr>\n      <th>10</th>\n      <td>2</td>\n      <td>14</td>\n      <td>1</td>\n    </tr>\n    <tr>\n      <th>11</th>\n      <td>2</td>\n      <td>15</td>\n      <td>2</td>\n    </tr>\n    <tr>\n      <th>12</th>\n      <td>2</td>\n      <td>16</td>\n      <td>2</td>\n    </tr>\n    <tr>\n      <th>13</th>\n      <td>2</td>\n      <td>21</td>\n      <td>2</td>\n    </tr>\n    <tr>\n      <th>14</th>\n      <td>2</td>\n      <td>22</td>\n      <td>4</td>\n    </tr>\n    <tr>\n      <th>15</th>\n      <td>2</td>\n      <td>25</td>\n      <td>2</td>\n    </tr>\n    <tr>\n      <th>16</th>\n      <td>2</td>\n      <td>27</td>\n      <td>1</td>\n    </tr>\n    <tr>\n      <th>17</th>\n      <td>2</td>\n      <td>28</td>\n      <td>4</td>\n    </tr>\n    <tr>\n      <th>18</th>\n      <td>2</td>\n      <td>29</td>\n      <td>2</td>\n    </tr>\n    <tr>\n      <th>19</th>\n      <td>2</td>\n      <td>31</td>\n      <td>2</td>\n    </tr>\n  </tbody>\n</table>\n</div>"
     },
     "metadata": {},
     "execution_count": 26
    }
   ],
   "source": [
    "counts = gene_sizes.groupby(['n_isoforms', 'n_partners']).size().to_frame().rename(columns={0: 'n_tf_genes'}).reset_index()\n",
    "counts.head(20)"
   ]
  },
  {
   "cell_type": "code",
   "execution_count": 27,
   "metadata": {},
   "outputs": [
    {
     "output_type": "execute_result",
     "data": {
      "text/plain": [
       "9758"
      ]
     },
     "metadata": {},
     "execution_count": 27
    }
   ],
   "source": [
    "# 7 by 12\n",
    "counts.prod(axis=1).sum()"
   ]
  },
  {
   "cell_type": "code",
   "execution_count": 28,
   "metadata": {},
   "outputs": [
    {
     "output_type": "execute_result",
     "data": {
      "text/plain": [
       "116.0"
      ]
     },
     "metadata": {},
     "execution_count": 28
    }
   ],
   "source": [
    "np.round(counts.prod(axis=1).sum() / (7*12))"
   ]
  },
  {
   "cell_type": "code",
   "execution_count": 29,
   "metadata": {},
   "outputs": [
    {
     "output_type": "execute_result",
     "data": {
      "text/plain": [
       "1084"
      ]
     },
     "metadata": {},
     "execution_count": 29
    }
   ],
   "source": [
    "dat = pd.concat([y2h_iso.loc[:, columns],\n",
    "           y2h_para.loc[:, columns]])\n",
    "dat['ad_clone_acc'].nunique() + dat['db_gene_symbol'].nunique()"
   ]
  },
  {
   "cell_type": "code",
   "execution_count": 30,
   "metadata": {},
   "outputs": [
    {
     "output_type": "execute_result",
     "data": {
      "text/plain": [
       "2593"
      ]
     },
     "metadata": {},
     "execution_count": 30
    }
   ],
   "source": [
    "(pd.concat([y2h_iso.loc[:, :],\n",
    "           y2h_para.loc[:, :]])['score'] == '1').sum()"
   ]
  },
  {
   "cell_type": "code",
   "execution_count": 31,
   "metadata": {},
   "outputs": [
    {
     "output_type": "execute_result",
     "data": {
      "text/plain": [
       "30.952380952380953"
      ]
     },
     "metadata": {},
     "execution_count": 31
    }
   ],
   "source": [
    "2600 / (7*12)"
   ]
  },
  {
   "cell_type": "code",
   "execution_count": 32,
   "metadata": {},
   "outputs": [
    {
     "output_type": "execute_result",
     "data": {
      "text/plain": [
       "129.0"
      ]
     },
     "metadata": {},
     "execution_count": 32
    }
   ],
   "source": [
    "np.round((counts.prod(axis=1).sum() + dat['ad_clone_acc'].nunique() + dat['db_gene_symbol'].nunique()) / (7*12))"
   ]
  },
  {
   "cell_type": "code",
   "execution_count": 33,
   "metadata": {},
   "outputs": [
    {
     "output_type": "execute_result",
     "data": {
      "text/plain": [
       "776"
      ]
     },
     "metadata": {},
     "execution_count": 33
    }
   ],
   "source": [
    "dat['db_gene_symbol'].nunique()"
   ]
  },
  {
   "cell_type": "code",
   "execution_count": 34,
   "metadata": {},
   "outputs": [
    {
     "output_type": "execute_result",
     "data": {
      "text/plain": [
       "2815"
      ]
     },
     "metadata": {},
     "execution_count": 34
    }
   ],
   "source": [
    "(dat.groupby(['ad_gene_symbol', 'db_gene_symbol']).size() > 0).sum()"
   ]
  },
  {
   "cell_type": "code",
   "execution_count": 35,
   "metadata": {},
   "outputs": [],
   "source": [
    "# TODO:\n",
    "# add empty AD for Lit-BM and RRS\n",
    "# try and reduce the number of plates used\n",
    "# get unique empty plate code"
   ]
  },
  {
   "cell_type": "code",
   "execution_count": 36,
   "metadata": {},
   "outputs": [],
   "source": [
    "class Plate:\n",
    "    def __init__(self, n_rows, n_columns, empty_name='empty'):\n",
    "        self.n_rows = n_rows\n",
    "        self.n_columns = n_columns\n",
    "        self.empty_name = empty_name\n",
    "        self.grid = [[empty_name for i in range(n_columns)] for j in range(n_rows)]\n",
    "\n",
    "    def add_matrix(self, matrix, pos_top_left, transpose=False):\n",
    "        n_rows = len(matrix)\n",
    "        n_columns = len(matrix[0])\n",
    "        if n_rows + pos_top_left[0] > self.n_rows or n_columns + pos_top_left[1] > self.n_columns:\n",
    "            raise ValueError('Does not fit: {} {} {} \\n{}'.format(n_rows,\n",
    "                                                                  n_columns,\n",
    "                                                                  pos_top_left,\n",
    "                                                                  self))\n",
    "        for i, row in enumerate(matrix):\n",
    "            row_index = i + pos_top_left[0]\n",
    "            for j, well in enumerate(row):\n",
    "                column_index = j + pos_top_left[1]\n",
    "                if self.grid[row_index][column_index] != self.empty_name:\n",
    "                    raise ValueError('Well already occupied: {} {}\\n{}'.format(row_index, column_index, self))\n",
    "                self.grid[row_index][column_index] = well\n",
    "\n",
    "    def lowest_unoccupied_row(self):\n",
    "        for i in range(self.n_rows):\n",
    "            if self.grid[i] == [self.empty_name] * self.n_columns:\n",
    "                return i\n",
    "        return None\n",
    "\n",
    "    def is_empty(self):\n",
    "        return all(all(x == self.empty_name for x in row) for row in self.grid)\n",
    "\n",
    "    def row_is_empty(self, row_index):\n",
    "        return all(x == self.empty_name for x in self.grid[row_index])\n",
    "\n",
    "    def empty_wells(self):\n",
    "        return {string.ascii_uppercase[i] + str(j + 1).zfill(2) for i, row in enumerate(self.grid) \n",
    "                                                                for j, x in enumerate(row) \n",
    "                                                                if x == self.empty_name}\n",
    "\n",
    "    def __repr__(self):\n",
    "        return '\\n'.join('|'.join(row) for row in self.grid)"
   ]
  },
  {
   "cell_type": "code",
   "execution_count": 39,
   "metadata": {
    "tags": []
   },
   "outputs": [
    {
     "output_type": "stream",
     "name": "stdout",
     "text": [
      "TCF4 rotated\nZNF451 rotated\n221 plates\n55 duplicates empty well codes\n"
     ]
    }
   ],
   "source": [
    "def solve_plate_layout(genes, row_max=7, column_max=12):\n",
    "    \"\"\"\n",
    "\n",
    "    - start \n",
    "\n",
    "    \"\"\"\n",
    "    plates = [Plate(n_rows=8, n_columns=12)]\n",
    "    row_count, column_count = 0, 0\n",
    "\n",
    "    # TODO: sort genes: start with largest number isoforms\n",
    "\n",
    "    unallocated = genes.copy()\n",
    "    while len(unallocated) > 0:\n",
    "        gene_fits = False\n",
    "        for tf_gene_name, pair_matrix in unallocated.items():\n",
    "            n_rows = len(pair_matrix)\n",
    "            n_col_gene = len(pair_matrix[0])\n",
    "\n",
    "            # rotate matrix for genes with too many isoforms to fit on a plate\n",
    "            if n_rows > row_max and plates[-1].is_empty():\n",
    "                print(tf_gene_name, 'rotated')\n",
    "                row_max_transpose = 8\n",
    "                gene_fits = True\n",
    "                pair_matrix = [[pair_matrix[i][j] for i in range(len(pair_matrix))] for j in range(len(pair_matrix[0]))]\n",
    "                n_row_gene = len(pair_matrix)\n",
    "                n_cols = len(pair_matrix[0])\n",
    "                n_rows_split = [row_max_transpose] * (n_row_gene // row_max_transpose) + ([n_row_gene % row_max_transpose] if n_row_gene % row_max_transpose > 0 else [])\n",
    "                for i, n_rows in enumerate(n_rows_split):\n",
    "                    matrix_subset = pair_matrix[i * row_max_transpose:i * row_max_transpose + n_rows]\n",
    "                    if not plates[-1].is_empty():\n",
    "                        plates.append(Plate(n_rows=8, n_columns=12))\n",
    "                    plates[-1].add_matrix(matrix_subset,\n",
    "                                            pos_top_left=(0, 0))\n",
    "                    row_count = 0\n",
    "                    column_count = n_cols\n",
    "                break\n",
    "\n",
    "            if n_col_gene <= column_max:  # fits on one row\n",
    "                if column_count + n_col_gene <= column_max and row_count + n_rows <= row_max:  # add to the right\n",
    "                    plates[-1].add_matrix(pair_matrix,\n",
    "                                          pos_top_left=(row_count, column_count))\n",
    "                    column_count += n_col_gene\n",
    "                    gene_fits = True\n",
    "                    break\n",
    "                else:\n",
    "                    row_below = plates[-1].lowest_unoccupied_row()\n",
    "                    if row_below is not None and (row_below + n_rows <= row_max):  # add below\n",
    "                        plates[-1].add_matrix(pair_matrix,\n",
    "                                              pos_top_left=(row_below, 0))\n",
    "                        column_count = n_col_gene\n",
    "                        row_count = row_below\n",
    "                        gene_fits = True\n",
    "                        break\n",
    "            elif plates[-1].is_empty():  # gene doesn't fit on a single row\n",
    "                gene_fits = True\n",
    "                for i, n_cols in enumerate([column_max] * (n_col_gene // column_max) + ([n_col_gene % column_max] if n_col_gene % column_max > 0 else [])):\n",
    "                    matrix_subset = [row[i * column_max:i * column_max + n_cols] for row in pair_matrix]\n",
    "                    if column_count + n_cols <= column_max and row_count + n_rows <= row_max:  # add to the right\n",
    "                        plates[-1].add_matrix(matrix_subset,\n",
    "                                              pos_top_left=(row_count, column_count))\n",
    "                        column_count += n_cols\n",
    "                    else:\n",
    "                        row_below = plates[-1].lowest_unoccupied_row()\n",
    "                        if row_below is not None and (row_below + n_rows <= row_max):  # add below\n",
    "                            plates[-1].add_matrix(matrix_subset,\n",
    "                                                  pos_top_left=(row_below, 0))\n",
    "                            column_count = n_cols\n",
    "                            row_count = row_below\n",
    "                        else:  # start a new plate\n",
    "                            plates.append(Plate(n_rows=8, n_columns=12))\n",
    "                            plates[-1].add_matrix(matrix_subset,\n",
    "                                                  pos_top_left=(0, 0))\n",
    "                            row_count = 0\n",
    "                            column_count = n_cols\n",
    "                break\n",
    "        if gene_fits:\n",
    "            del unallocated[tf_gene_name]\n",
    "        else:  # start a new plate\n",
    "            plates.append(Plate(n_rows=8, n_columns=12))\n",
    "            row_count = 0\n",
    "            column_count = 0\n",
    "    return plates\n",
    "\n",
    "\n",
    "gene_matrices = {}\n",
    "for gene in df['ad_gene_symbol'].unique():\n",
    "    gene_matrices[gene] = []\n",
    "    for i, isoform in enumerate(list(df.loc[df['ad_gene_symbol'] == gene, 'ad_clone_acc'].unique()) + ['empty-AD']):\n",
    "        gene_matrices[gene].append([])\n",
    "        for partner in df.loc[df['ad_gene_symbol'] == gene, 'db_gene_symbol'].unique():\n",
    "            gene_matrices[gene][i].append(isoform + '/' + partner)\n",
    "plates = solve_plate_layout(gene_matrices)\n",
    "\n",
    "# lit-bm and rrs pairs...\n",
    "litbm_rrs = y2h.loc[y2h['category'].isin(['rrs_isoforms', 'lit_bm_isoforms']), ['ad_clone_acc', 'db_gene_symbol', 'category']].drop_duplicates().copy()\n",
    "litbm_rrs['ad_clone_acc'] = litbm_rrs['ad_clone_acc'].apply(lambda x: x.split('|')[0] + '-' + x.split('|')[1].split('/')[0])\n",
    "seed = 307272992\n",
    "litbm_rrs['pair'] = litbm_rrs['ad_clone_acc'] + '/' + litbm_rrs['db_gene_symbol']\n",
    "litbm_rrs['already_tested'] = litbm_rrs['pair'].isin((df['ad_clone_acc'] + '/' + df['db_gene_symbol']).values)\n",
    "litbm_rrs_pairs = litbm_rrs.loc[~litbm_rrs['already_tested'], 'pair'].to_list()\n",
    "np.random.seed(seed)\n",
    "np.random.shuffle(litbm_rrs_pairs)\n",
    "# TODO: add empty-AD for lit-bm and rrs\n",
    "for plate, code in zip(plates, itertools.cycle(itertools.product([False, True], repeat=6))):\n",
    "    if plate.row_is_empty(7):\n",
    "        plate.add_matrix([['control-' + str(i) for i in range(1, 7)] +\n",
    "                          [litbm_rrs_pairs.pop() if b and len(litbm_rrs_pairs) > 0 else 'empty' for b in code]],\n",
    "                         (7, 0))\n",
    "    else:\n",
    "        #print('Last row not empty')\n",
    "        pass\n",
    "\n",
    "with open('../../output/plate_arrangement.txt', 'w') as f:\n",
    "    f.write('\\n\\n\\n'.join([str(p) for p in plates]))\n",
    "\n",
    "\n",
    "def plates_to_table(plates):\n",
    "    data = []\n",
    "    for i, plate in enumerate(plates):\n",
    "        for j, row in enumerate(plate.grid):\n",
    "            for k, pair in enumerate(row):\n",
    "                data.append((i + 1, string.ascii_uppercase[j] + str(k + 1).zfill(2), *pair.split('/')))\n",
    "    return pd.DataFrame(data, columns=['plate_id', 'plate_position', 'AD', 'DB'])\n",
    "\n",
    "\n",
    "plates_to_table(plates).to_csv('../../output/plate_arrangement.tsv', sep='\\t', index=False)\n",
    "\n",
    "print(len(plates), 'plates')\n",
    "\n",
    "n_empty_well_codes = len({frozenset(p.empty_wells()) for p in plates})\n",
    "if n_empty_well_codes == len(plates):\n",
    "    print('Success! Each plate has its own unique empty well code')\n",
    "else:\n",
    "    print(len(plates) - n_empty_well_codes, 'duplicates empty well codes')"
   ]
  },
  {
   "cell_type": "code",
   "execution_count": null,
   "metadata": {},
   "outputs": [],
   "source": []
  },
  {
   "cell_type": "code",
   "execution_count": null,
   "metadata": {},
   "outputs": [],
   "source": []
  }
 ]
}