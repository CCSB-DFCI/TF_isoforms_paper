{
 "cells": [
  {
   "cell_type": "markdown",
   "metadata": {},
   "source": [
    "# Y2H quality control checks - 15th Nov 2019\n",
    "\n",
    "Here we're looking for any potential problems with any of the ~500 Y2H large plates. There are 3 replicates for each plate. We look for problems by plotting different metrics and comparing between all the plates using the same media and within the replicates. \n",
    "\n",
    "**NOTE: This notebook will produce different results when re-run, since we will fix mistakes found here in the database tables.**"
   ]
  },
  {
   "cell_type": "code",
   "execution_count": 1,
   "metadata": {},
   "outputs": [],
   "source": [
    "import os\n",
    "import re\n",
    "\n",
    "from matplotlib import pyplot as plt\n",
    "import pandas as pd\n",
    "\n",
    "import ccsblib"
   ]
  },
  {
   "cell_type": "code",
   "execution_count": 2,
   "metadata": {},
   "outputs": [],
   "source": [
    "qry = \"\"\"select *\n",
    "            from tf_screen.tf_isoform_final\n",
    "            left join tf_screen.retest\n",
    "            using (retest_id);\"\"\"\n",
    "df = pd.read_sql(qry, ccsblib.paros_connection())\n",
    "df = df.loc[:, ['standard_batch', 'retest_pla', 'retest_pos', 'seq_confirmation'] +\n",
    "               [c for c in df.columns if c.endswith('_score') and '_repeat_' in c]]\n",
    "df = df.drop_duplicates()\n",
    "df = df.melt(id_vars=['standard_batch', 'retest_pla', 'retest_pos', 'seq_confirmation'],\n",
    "             value_vars=[c for c in df.columns if c.endswith('_score')],\n",
    "             var_name='media_rep',\n",
    "             value_name='score')"
   ]
  },
  {
   "cell_type": "code",
   "execution_count": 3,
   "metadata": {},
   "outputs": [
    {
     "data": {
      "text/html": [
       "<div>\n",
       "<style scoped>\n",
       "    .dataframe tbody tr th:only-of-type {\n",
       "        vertical-align: middle;\n",
       "    }\n",
       "\n",
       "    .dataframe tbody tr th {\n",
       "        vertical-align: top;\n",
       "    }\n",
       "\n",
       "    .dataframe thead th {\n",
       "        text-align: right;\n",
       "    }\n",
       "</style>\n",
       "<table border=\"1\" class=\"dataframe\">\n",
       "  <thead>\n",
       "    <tr style=\"text-align: right;\">\n",
       "      <th></th>\n",
       "      <th>standard_batch</th>\n",
       "      <th>retest_pla</th>\n",
       "      <th>retest_pos</th>\n",
       "      <th>seq_confirmation</th>\n",
       "      <th>media_rep</th>\n",
       "      <th>score</th>\n",
       "      <th>media</th>\n",
       "      <th>rep</th>\n",
       "    </tr>\n",
       "  </thead>\n",
       "  <tbody>\n",
       "    <tr>\n",
       "      <th>0</th>\n",
       "      <td>TFr11</td>\n",
       "      <td>1</td>\n",
       "      <td>F01</td>\n",
       "      <td>y</td>\n",
       "      <td>3at_repeat_1_score</td>\n",
       "      <td>0.0</td>\n",
       "      <td>AT</td>\n",
       "      <td>A</td>\n",
       "    </tr>\n",
       "    <tr>\n",
       "      <th>1</th>\n",
       "      <td>TFr11</td>\n",
       "      <td>1</td>\n",
       "      <td>E02</td>\n",
       "      <td>y</td>\n",
       "      <td>3at_repeat_1_score</td>\n",
       "      <td>0.0</td>\n",
       "      <td>AT</td>\n",
       "      <td>A</td>\n",
       "    </tr>\n",
       "    <tr>\n",
       "      <th>2</th>\n",
       "      <td>TFr11</td>\n",
       "      <td>1</td>\n",
       "      <td>D02</td>\n",
       "      <td>y</td>\n",
       "      <td>3at_repeat_1_score</td>\n",
       "      <td>0.0</td>\n",
       "      <td>AT</td>\n",
       "      <td>A</td>\n",
       "    </tr>\n",
       "    <tr>\n",
       "      <th>3</th>\n",
       "      <td>TFr11</td>\n",
       "      <td>1</td>\n",
       "      <td>C02</td>\n",
       "      <td>None</td>\n",
       "      <td>3at_repeat_1_score</td>\n",
       "      <td>0.0</td>\n",
       "      <td>AT</td>\n",
       "      <td>A</td>\n",
       "    </tr>\n",
       "    <tr>\n",
       "      <th>4</th>\n",
       "      <td>TFr11</td>\n",
       "      <td>1</td>\n",
       "      <td>B02</td>\n",
       "      <td>y</td>\n",
       "      <td>3at_repeat_1_score</td>\n",
       "      <td>2.5</td>\n",
       "      <td>AT</td>\n",
       "      <td>A</td>\n",
       "    </tr>\n",
       "  </tbody>\n",
       "</table>\n",
       "</div>"
      ],
      "text/plain": [
       "  standard_batch  retest_pla retest_pos seq_confirmation           media_rep  \\\n",
       "0          TFr11           1        F01                y  3at_repeat_1_score   \n",
       "1          TFr11           1        E02                y  3at_repeat_1_score   \n",
       "2          TFr11           1        D02                y  3at_repeat_1_score   \n",
       "3          TFr11           1        C02             None  3at_repeat_1_score   \n",
       "4          TFr11           1        B02                y  3at_repeat_1_score   \n",
       "\n",
       "   score media rep  \n",
       "0    0.0    AT   A  \n",
       "1    0.0    AT   A  \n",
       "2    0.0    AT   A  \n",
       "3    0.0    AT   A  \n",
       "4    2.5    AT   A  "
      ]
     },
     "execution_count": 3,
     "metadata": {},
     "output_type": "execute_result"
    }
   ],
   "source": [
    "df['media'] = df['media_rep'].apply(lambda x: {'lw': 'LW', 'chx': 'CX', '3at': 'AT'}[x.split('_')[0]])\n",
    "df['rep'] = df['media_rep'].apply(lambda x: 'ABC'[int(x.split('_')[2]) - 1])\n",
    "df.head()"
   ]
  },
  {
   "cell_type": "code",
   "execution_count": 4,
   "metadata": {},
   "outputs": [],
   "source": [
    "base_dir = '/Volumes/mvidal/projects/TF_Iso_Var/Y2H_TF_Iso/191106_grab_all_tfiso_colony_images/a_all_colony_images'\n",
    "all_img_files = os.listdir(base_dir)\n",
    "\n",
    "def big_plate_image(row):\n",
    "    \"\"\"This is really slow :-(\n",
    "    \n",
    "    could first build: rep / media / std batch / plate -> name?\n",
    "    \n",
    "    \"\"\"\n",
    "    file_regexp = ('{std_batch}.{media}.rep{rep}(_([0-9]{{3}}|xxx|xx|XXX)){{6}}.JPG'\n",
    "                       .format(std_batch=row['standard_batch'],\n",
    "                               media=row['media'],\n",
    "                               rep=row['rep']))\n",
    "    matching_files = [s for s in all_img_files\n",
    "                        if re.match(file_regexp, s)\n",
    "                        and str(row['retest_pla']).zfill(3) in s]\n",
    "    if len(matching_files) == 0:\n",
    "        raise UserWarning('could not find file')\n",
    "    if len(matching_files) > 1:\n",
    "        raise UserWarning('found multiple files')\n",
    "    return matching_files[0]\n",
    "\n",
    "df_b = df.loc[:, ['standard_batch', 'retest_pla', 'media', 'rep']].drop_duplicates().copy()\n",
    "df_b['big_plate'] = df_b.apply(big_plate_image, axis=1)\n",
    "df = pd.merge(df, df_b, on=['standard_batch', 'retest_pla', 'media', 'rep'], how='left')"
   ]
  },
  {
   "cell_type": "code",
   "execution_count": 5,
   "metadata": {},
   "outputs": [
    {
     "data": {
      "text/plain": [
       "Text(0, 0.5, 'Number of big plates')"
      ]
     },
     "execution_count": 5,
     "metadata": {},
     "output_type": "execute_result"
    },
    {
     "data": {
      "image/png": "[encoded data removed]",
      "text/plain": [
       "<Figure size 648x180 with 3 Axes>"
      ]
     },
     "metadata": {
      "needs_background": "light"
     },
     "output_type": "display_data"
    }
   ],
   "source": [
    "# negative scores are NA\n",
    "fig, axes = plt.subplots(1, 3, sharey=True)\n",
    "fig.set_size_inches(9, 2.5)\n",
    "for ax, media in zip(axes, ['LW', 'CX', 'AT']):\n",
    "    ax.set_title(media)\n",
    "    ax.hist(df.loc[(df['media'] == media) & \n",
    "                   (df['score'] >= 0) , :]\n",
    "              .groupby('big_plate')['score'].sum(),\n",
    "            bins=50)\n",
    "    ax.set_xlim(0, None)\n",
    "    ax.set_xlabel('Sum of scores')\n",
    "axes[0].set_ylabel('Number of big plates')"
   ]
  },
  {
   "cell_type": "code",
   "execution_count": 6,
   "metadata": {},
   "outputs": [
    {
     "data": {
      "text/plain": [
       "Text(0, 0.5, 'Number of big plates')"
      ]
     },
     "execution_count": 6,
     "metadata": {},
     "output_type": "execute_result"
    },
    {
     "data": {
      "image/png": "[encoded data removed]",
      "text/plain": [
       "<Figure size 648x180 with 3 Axes>"
      ]
     },
     "metadata": {
      "needs_background": "light"
     },
     "output_type": "display_data"
    }
   ],
   "source": [
    "fig, axes = plt.subplots(1, 3, sharey=True)\n",
    "fig.set_size_inches(9, 2.5)\n",
    "for ax, media in zip(axes, ['LW', 'CX', 'AT']):\n",
    "    ax.set_title(media)\n",
    "    ax.hist(df.loc[(df['media'] == media) & \n",
    "                   (df['score'] < 0) , :]\n",
    "              .groupby('big_plate').size(),\n",
    "            bins=50)\n",
    "    ax.set_xlim(0, None)\n",
    "    ax.set_xlabel('NA per plate')\n",
    "axes[0].set_ylabel('Number of big plates')"
   ]
  },
  {
   "cell_type": "code",
   "execution_count": 7,
   "metadata": {},
   "outputs": [
    {
     "data": {
      "text/plain": [
       "Text(0, 0.5, 'Number of big plates')"
      ]
     },
     "execution_count": 7,
     "metadata": {},
     "output_type": "execute_result"
    },
    {
     "data": {
      "image/png": "[encoded data removed]",
      "text/plain": [
       "<Figure size 648x180 with 3 Axes>"
      ]
     },
     "metadata": {
      "needs_background": "light"
     },
     "output_type": "display_data"
    }
   ],
   "source": [
    "fig, axes = plt.subplots(1, 3, sharey=True)\n",
    "fig.set_size_inches(9, 2.5)\n",
    "for ax, media in zip(axes, ['LW', 'CX', 'AT']):\n",
    "    ax.set_title(media)\n",
    "    ax.hist(df.loc[(df['media'] == media), :]\n",
    "              .groupby('big_plate')['score'].apply(lambda x: (x == 4).sum()),\n",
    "            bins=50)\n",
    "    ax.set_xlim(0, None)\n",
    "    ax.set_xlabel('Number of growth score 4')\n",
    "axes[0].set_ylabel('Number of big plates')"
   ]
  },
  {
   "cell_type": "code",
   "execution_count": 8,
   "metadata": {},
   "outputs": [
    {
     "data": {
      "text/plain": [
       "big_plate\n",
       "TFr09.CX.repA_031_032_033_034_035_036.JPG    26\n",
       "TFr07.CX.repA_031_032_033_034_035_036.JPG    20\n",
       "TFr09.CX.repC_025_026_027_028_029_030.JPG     6\n",
       "TFr09.CX.repB_025_026_027_028_029_030.JPG     6\n",
       "TFr09.CX.repB_019_020_021_022_023_024.JPG     5\n",
       "Name: score, dtype: int64"
      ]
     },
     "execution_count": 8,
     "metadata": {},
     "output_type": "execute_result"
    }
   ],
   "source": [
    "# CHX with the most growth score 4\n",
    "(df.loc[(df['media'] == 'CX'), :]\n",
    "   .groupby('big_plate')['score']\n",
    "   .apply(lambda x: (x == 4).sum())\n",
    "   .sort_values(ascending=False).head())"
   ]
  },
  {
   "cell_type": "code",
   "execution_count": 9,
   "metadata": {},
   "outputs": [
    {
     "data": {
      "text/plain": [
       "big_plate\n",
       "TFr09.CX.repA_031_032_033_034_035_036.JPG    401.5\n",
       "TFr09.CX.repB_019_020_021_022_023_024.JPG    149.0\n",
       "TFr07.CX.repA_031_032_033_034_035_036.JPG    128.0\n",
       "TFr09.CX.repA_001_002_003_004_005_006.JPG    113.0\n",
       "TFr09.CX.repA_007_008_009_010_011_012.JPG    110.0\n",
       "Name: score, dtype: float64"
      ]
     },
     "execution_count": 9,
     "metadata": {},
     "output_type": "execute_result"
    }
   ],
   "source": [
    "# CHX with most overall growth\n",
    "(df.loc[df['media'] == 'CX', :]\n",
    "     .groupby('big_plate')['score'].sum()\n",
    "    .sort_values(ascending=False).head())"
   ]
  },
  {
   "cell_type": "code",
   "execution_count": 10,
   "metadata": {},
   "outputs": [
    {
     "data": {
      "text/plain": [
       "big_plate\n",
       "TFr07.CX.repB_055_056_057_058_059_060.JPG    249\n",
       "TFr11.CX.repB_007_008_009_010_011_012.JPG     38\n",
       "TFr11.CX.repB_001_002_003_004_005_006.JPG     32\n",
       "TFr11.CX.repA_019_020_021_022_023_024.JPG     27\n",
       "TFr11.CX.repA_013_014_015_016_017_018.JPG     23\n",
       "dtype: int64"
      ]
     },
     "execution_count": 10,
     "metadata": {},
     "output_type": "execute_result"
    }
   ],
   "source": [
    "# CHX with most nulls\n",
    "(df.loc[(df['media'] == 'CX') &\n",
    "        (df['score'] < 0), :]\n",
    "     .groupby('big_plate')\n",
    "     .size()\n",
    "     .sort_values(ascending=False).head())"
   ]
  },
  {
   "cell_type": "code",
   "execution_count": 11,
   "metadata": {},
   "outputs": [
    {
     "data": {
      "text/plain": [
       "big_plate\n",
       "TFr12.AT.repC_019_020_021_022_023_024.JPG    73\n",
       "TFr12.AT.repA_019_020_021_022_023_024.JPG    72\n",
       "TFr12.AT.repB_019_020_021_022_023_024.JPG    68\n",
       "TFr12.AT.repB_025_028_029_030_xxx_xxx.JPG    64\n",
       "TFr12.AT.repA_025_028_029_030_xxx_xxx.JPG    27\n",
       "dtype: int64"
      ]
     },
     "execution_count": 11,
     "metadata": {},
     "output_type": "execute_result"
    }
   ],
   "source": [
    "(df.loc[(df['media'] == 'AT') &\n",
    "        (df['score'] < 0), :]\n",
    "    .groupby('big_plate')\n",
    "    .size()\n",
    "    .sort_values(ascending=False).head())"
   ]
  },
  {
   "cell_type": "code",
   "execution_count": 12,
   "metadata": {},
   "outputs": [
    {
     "data": {
      "image/png": "[encoded data removed]",
      "text/plain": [
       "<Figure size 432x288 with 1 Axes>"
      ]
     },
     "metadata": {
      "needs_background": "light"
     },
     "output_type": "display_data"
    }
   ],
   "source": [
    "# correlations between replicates\n",
    "df['big_plate_grouping'] = df['big_plate'].str.replace('rep[ABC]', '')\n",
    "df['plate_pos'] = df['retest_pla'].astype(str) + '_' + df['retest_pos']\n",
    "\n",
    "def min_corr_reps(rows):\n",
    "    return rows.pivot(index='plate_pos', columns='rep', values='score').corr().min().min()\n",
    "\n",
    "\n",
    "def idx_min_corr_reps(rows):\n",
    "    return rows.pivot(index='plate_pos', columns='rep', values='score').corr().stack().idxmin()\n",
    "\n",
    "\n",
    "def mean_abs_diff_reps(rows):\n",
    "    d = rows.pivot(index='plate_pos', columns='rep', values='score')\n",
    "    if 'A' in d.columns and 'B' in d.columns:\n",
    "        d_ab = (d['A'] - d['B']).abs().sum() / (d['A'].notnull() & d['B'].notnull()).sum()\n",
    "    else:\n",
    "        d_ab = 0\n",
    "    if 'A' in d.columns and 'C' in d.columns:\n",
    "        d_ac = (d['A'] - d['C']).abs().sum() / (d['A'].notnull() & d['C'].notnull()).sum()\n",
    "    else:\n",
    "        d_ac = 0\n",
    "    if 'B' in d.columns and 'C' in d.columns:\n",
    "        d_bc = (d['B'] - d['C']).abs().sum() / (d['B'].notnull() & d['C'].notnull()).sum()\n",
    "    else:\n",
    "        d_bc = 0\n",
    "    return max([d_ab, d_ac, d_bc])\n",
    "\n",
    "reps = df.groupby('big_plate_grouping').apply(min_corr_reps).rename('min_pcc').to_frame()\n",
    "reps = reps.loc[(df.groupby('big_plate_grouping')['rep'].nunique() > 1), :]\n",
    "reps = reps.dropna()\n",
    "reps['min_pair'] = df.loc[df['big_plate_grouping'].isin(reps.index), :].groupby('big_plate_grouping').apply(idx_min_corr_reps)\n",
    "reps['mean_abs_diff'] = df.loc[df['big_plate_grouping'].isin(reps.index), :].groupby('big_plate_grouping').apply(mean_abs_diff_reps)\n",
    "fig, ax = plt.subplots(1, 1)\n",
    "ax.hist(reps['min_pcc'])\n",
    "ax.set_ylabel('Number of big plates')\n",
    "ax.set_xlabel('Lowest PCC between replicates');"
   ]
  },
  {
   "cell_type": "code",
   "execution_count": 13,
   "metadata": {},
   "outputs": [
    {
     "data": {
      "text/plain": [
       "Text(0, 0.5, 'Number of big plates')"
      ]
     },
     "execution_count": 13,
     "metadata": {},
     "output_type": "execute_result"
    },
    {
     "data": {
      "image/png": "[encoded data removed]",
      "text/plain": [
       "<Figure size 720x216 with 3 Axes>"
      ]
     },
     "metadata": {
      "needs_background": "light"
     },
     "output_type": "display_data"
    }
   ],
   "source": [
    "fig, axes = plt.subplots(1, 3, sharey=True)\n",
    "fig.set_size_inches(10, 3)\n",
    "for ax, media in zip(axes, ['LW', 'CX', 'AT']):\n",
    "    ax.set_title(media)\n",
    "    ax.hist(reps.loc[reps.index.map(lambda x: media in x), 'min_pcc'])\n",
    "    ax.set_xlim(-1, 1)\n",
    "axes[1].set_xlabel('Lowest PCC between replicates');\n",
    "axes[0].set_ylabel('Number of big plates')"
   ]
  },
  {
   "cell_type": "code",
   "execution_count": 14,
   "metadata": {},
   "outputs": [
    {
     "data": {
      "text/plain": [
       "Text(0, 0.5, 'Number of big plates')"
      ]
     },
     "execution_count": 14,
     "metadata": {},
     "output_type": "execute_result"
    },
    {
     "data": {
      "image/png": "[encoded data removed]",
      "text/plain": [
       "<Figure size 720x216 with 3 Axes>"
      ]
     },
     "metadata": {
      "needs_background": "light"
     },
     "output_type": "display_data"
    }
   ],
   "source": [
    "fig, axes = plt.subplots(1, 3, sharey=True)\n",
    "fig.set_size_inches(10, 3)\n",
    "for ax, media in zip(axes, ['LW', 'CX', 'AT']):\n",
    "    ax.set_title(media)\n",
    "    ax.hist(reps.loc[reps.index.map(lambda x: media in x), 'mean_abs_diff'],\n",
    "            bins=20,\n",
    "            range=(0., 1.2))\n",
    "    ax.set_xlim(0, 1.2)\n",
    "axes[1].set_xlabel('Highest mean absolute difference between replicates');\n",
    "axes[0].set_ylabel('Number of big plates')"
   ]
  },
  {
   "cell_type": "markdown",
   "metadata": {},
   "source": [
    "## Some notes after following up by looking at the plate images\n",
    "\n",
    "### PCC between replicates\n",
    "\n",
    "3 low values for 3AT:\n",
    "- `TFr09.AT._031_032_033_034_035_036.JPG` `A/B`\n",
    "    - This is the swapped 3AT/CHX plates that we previously identified.\n",
    "- `TFr12.AT._025_028_029_030_xxx_xxx.JPG` `A/B`\n",
    "    - plate 25 is missing from `TFr12.AT.repB_025_028_029_030_xxx_xxx.JPG`\n",
    "- `TFr07.AT._097_098_099_100_101_102.JPG` `B/C`\n",
    "    - Only one spot is growing on: `TFr07.AT.repB_097_098_099_100_101_102.JPG`. It appears that it is CHX, since it has identical growth to the CHX plate. It is not a swap or a duplicate image though. \n",
    "\n",
    "4 low values for -LW:\n",
    "- `TFr07.LW._019_020_021_022_023_024.JPG` `A/B`\n",
    "- `TFr07.LW._067_068_069_070_071_072.JPG` `B/C`\n",
    "- `TFr07.LW._013_014_015_016_017_018.JPG` `A/B`\n",
    "- `TFr09.LW._013_014_015_016_017_018.JPG` `A/B`\n",
    "    - The pictures of all four pairs of plates look virtually identical.\n",
    "    - The values are also close to identical\n",
    "    - This is an artifact of using PCC when there is very little variance of the values\n",
    "    \n",
    "    \n",
    "    \n",
    "### Mean absolute difference between replicates\n",
    "\n",
    "Highest value for -LW:\n",
    "- `TFr12.LW._031_032_033_034_xxx_xxx.JPG`\n",
    "    Looks fine. Just some shifting from 4 -> 3\n",
    "    \n",
    "    \n",
    "Highest values for CHX:\n",
    "- `TFr07.CX._031_032_033_034_035_036.JPG`\n",
    "    - This is a 3AT plate. Has the same pattern of growth but does not appear to be a swap with other images.\n",
    "- `TFr09.CX._031_032_033_034_035_036.JPG`\n",
    "    - This is the swap we already identified\n",
    "- `TFr07.CX._055_056_057_058_059_060.JPG`\n",
    "    - Looks OK. Couple of strong growing wells in rep A and not in B/C \n",
    "- `TFr11.CX._007_008_009_010_011_012.JPG`\n",
    "    - Some spotting trouble for replicate B\n"
   ]
  },
  {
   "cell_type": "code",
   "execution_count": 15,
   "metadata": {},
   "outputs": [
    {
     "data": {
      "text/html": [
       "<div>\n",
       "<style scoped>\n",
       "    .dataframe tbody tr th:only-of-type {\n",
       "        vertical-align: middle;\n",
       "    }\n",
       "\n",
       "    .dataframe tbody tr th {\n",
       "        vertical-align: top;\n",
       "    }\n",
       "\n",
       "    .dataframe thead th {\n",
       "        text-align: right;\n",
       "    }\n",
       "</style>\n",
       "<table border=\"1\" class=\"dataframe\">\n",
       "  <thead>\n",
       "    <tr style=\"text-align: right;\">\n",
       "      <th></th>\n",
       "      <th>min_pcc</th>\n",
       "      <th>min_pair</th>\n",
       "      <th>mean_abs_diff</th>\n",
       "    </tr>\n",
       "    <tr>\n",
       "      <th>big_plate_grouping</th>\n",
       "      <th></th>\n",
       "      <th></th>\n",
       "      <th></th>\n",
       "    </tr>\n",
       "  </thead>\n",
       "  <tbody>\n",
       "    <tr>\n",
       "      <th>TFr07.CX._031_032_033_034_035_036.JPG</th>\n",
       "      <td>-0.139633</td>\n",
       "      <td>(A, C)</td>\n",
       "      <td>1.122951</td>\n",
       "    </tr>\n",
       "    <tr>\n",
       "      <th>TFr07.CX._079_080_081_082_083_084.JPG</th>\n",
       "      <td>-0.041698</td>\n",
       "      <td>(A, B)</td>\n",
       "      <td>0.229508</td>\n",
       "    </tr>\n",
       "    <tr>\n",
       "      <th>TFr07.LW._019_020_021_022_023_024.JPG</th>\n",
       "      <td>-0.005135</td>\n",
       "      <td>(A, B)</td>\n",
       "      <td>0.010204</td>\n",
       "    </tr>\n",
       "    <tr>\n",
       "      <th>TFr07.LW._067_068_069_070_071_072.JPG</th>\n",
       "      <td>-0.003436</td>\n",
       "      <td>(B, C)</td>\n",
       "      <td>0.011986</td>\n",
       "    </tr>\n",
       "    <tr>\n",
       "      <th>TFr07.CX._037_038_039_040_041_042.JPG</th>\n",
       "      <td>0.100631</td>\n",
       "      <td>(B, C)</td>\n",
       "      <td>0.265625</td>\n",
       "    </tr>\n",
       "    <tr>\n",
       "      <th>TFr11.CX._007_008_009_010_011_012.JPG</th>\n",
       "      <td>0.120300</td>\n",
       "      <td>(A, B)</td>\n",
       "      <td>0.444444</td>\n",
       "    </tr>\n",
       "    <tr>\n",
       "      <th>TFr11.CX._001_002_003_004_005_006.JPG</th>\n",
       "      <td>0.134618</td>\n",
       "      <td>(B, C)</td>\n",
       "      <td>0.312044</td>\n",
       "    </tr>\n",
       "    <tr>\n",
       "      <th>TFr07.CX._049_050_051_052_053_054.JPG</th>\n",
       "      <td>0.173436</td>\n",
       "      <td>(A, B)</td>\n",
       "      <td>0.243446</td>\n",
       "    </tr>\n",
       "    <tr>\n",
       "      <th>TFr07.CX._067_068_069_070_071_072.JPG</th>\n",
       "      <td>0.228198</td>\n",
       "      <td>(A, B)</td>\n",
       "      <td>0.147260</td>\n",
       "    </tr>\n",
       "    <tr>\n",
       "      <th>TFr09.CX._031_032_033_034_035_036.JPG</th>\n",
       "      <td>0.278084</td>\n",
       "      <td>(A, B)</td>\n",
       "      <td>0.998695</td>\n",
       "    </tr>\n",
       "    <tr>\n",
       "      <th>TFr09.AT._031_032_033_034_035_036.JPG</th>\n",
       "      <td>0.289718</td>\n",
       "      <td>(A, B)</td>\n",
       "      <td>1.015666</td>\n",
       "    </tr>\n",
       "    <tr>\n",
       "      <th>TFr07.CX._013_014_015_016_017_018.JPG</th>\n",
       "      <td>0.311207</td>\n",
       "      <td>(A, C)</td>\n",
       "      <td>0.234450</td>\n",
       "    </tr>\n",
       "    <tr>\n",
       "      <th>TFr11.CX._013_014_015_016_017_018.JPG</th>\n",
       "      <td>0.378363</td>\n",
       "      <td>(A, B)</td>\n",
       "      <td>0.383540</td>\n",
       "    </tr>\n",
       "    <tr>\n",
       "      <th>TFr12.CX._031_032_033_034_xxx_xxx.JPG</th>\n",
       "      <td>0.381403</td>\n",
       "      <td>(A, B)</td>\n",
       "      <td>0.169355</td>\n",
       "    </tr>\n",
       "    <tr>\n",
       "      <th>TFr12.AT._025_028_029_030_xxx_xxx.JPG</th>\n",
       "      <td>0.398003</td>\n",
       "      <td>(A, B)</td>\n",
       "      <td>0.980769</td>\n",
       "    </tr>\n",
       "    <tr>\n",
       "      <th>TFr07.CX._073_074_075_076_077_078.JPG</th>\n",
       "      <td>0.421025</td>\n",
       "      <td>(A, B)</td>\n",
       "      <td>0.107973</td>\n",
       "    </tr>\n",
       "    <tr>\n",
       "      <th>TFr07.CX._061_062_063_064_065_066.JPG</th>\n",
       "      <td>0.426871</td>\n",
       "      <td>(A, B)</td>\n",
       "      <td>0.363636</td>\n",
       "    </tr>\n",
       "    <tr>\n",
       "      <th>TFr11.CX._019_020_021_022_023_024.JPG</th>\n",
       "      <td>0.427155</td>\n",
       "      <td>(A, B)</td>\n",
       "      <td>0.348214</td>\n",
       "    </tr>\n",
       "    <tr>\n",
       "      <th>TFr07.LW._013_014_015_016_017_018.JPG</th>\n",
       "      <td>0.442893</td>\n",
       "      <td>(A, B)</td>\n",
       "      <td>0.011962</td>\n",
       "    </tr>\n",
       "    <tr>\n",
       "      <th>TFr07.CX._007_008_009_010_011_012.JPG</th>\n",
       "      <td>0.448624</td>\n",
       "      <td>(B, C)</td>\n",
       "      <td>0.154655</td>\n",
       "    </tr>\n",
       "    <tr>\n",
       "      <th>TFr12.CX._013_014_015_016_017_018.JPG</th>\n",
       "      <td>0.460721</td>\n",
       "      <td>(A, C)</td>\n",
       "      <td>0.300412</td>\n",
       "    </tr>\n",
       "    <tr>\n",
       "      <th>TFr09.LW._013_014_015_016_017_018.JPG</th>\n",
       "      <td>0.483434</td>\n",
       "      <td>(A, B)</td>\n",
       "      <td>0.009356</td>\n",
       "    </tr>\n",
       "    <tr>\n",
       "      <th>TFr07.CX._091_092_093_094_095_096.JPG</th>\n",
       "      <td>0.490482</td>\n",
       "      <td>(A, B)</td>\n",
       "      <td>0.146802</td>\n",
       "    </tr>\n",
       "    <tr>\n",
       "      <th>TFr09.CX._043_044_045_046_047_048.JPG</th>\n",
       "      <td>0.497600</td>\n",
       "      <td>(B, C)</td>\n",
       "      <td>0.207692</td>\n",
       "    </tr>\n",
       "    <tr>\n",
       "      <th>TFr07.CX._103_104_105_106_107_108.JPG</th>\n",
       "      <td>0.532554</td>\n",
       "      <td>(A, C)</td>\n",
       "      <td>0.213904</td>\n",
       "    </tr>\n",
       "    <tr>\n",
       "      <th>TFr07.CX._001_002_003_004_005_006.JPG</th>\n",
       "      <td>0.534393</td>\n",
       "      <td>(B, C)</td>\n",
       "      <td>0.104508</td>\n",
       "    </tr>\n",
       "    <tr>\n",
       "      <th>TFr07.AT._097_098_099_100_101_102.JPG</th>\n",
       "      <td>0.545704</td>\n",
       "      <td>(B, C)</td>\n",
       "      <td>0.157609</td>\n",
       "    </tr>\n",
       "    <tr>\n",
       "      <th>TFr09.CX._007_008_009_010_011_012.JPG</th>\n",
       "      <td>0.554700</td>\n",
       "      <td>(B, C)</td>\n",
       "      <td>0.205463</td>\n",
       "    </tr>\n",
       "    <tr>\n",
       "      <th>TFr12.CX._019_020_021_022_023_024.JPG</th>\n",
       "      <td>0.564410</td>\n",
       "      <td>(B, C)</td>\n",
       "      <td>0.302632</td>\n",
       "    </tr>\n",
       "    <tr>\n",
       "      <th>TFr12.CX._001_002_003_004_005_006.JPG</th>\n",
       "      <td>0.606463</td>\n",
       "      <td>(B, C)</td>\n",
       "      <td>0.228464</td>\n",
       "    </tr>\n",
       "  </tbody>\n",
       "</table>\n",
       "</div>"
      ],
      "text/plain": [
       "                                        min_pcc min_pair  mean_abs_diff\n",
       "big_plate_grouping                                                     \n",
       "TFr07.CX._031_032_033_034_035_036.JPG -0.139633   (A, C)       1.122951\n",
       "TFr07.CX._079_080_081_082_083_084.JPG -0.041698   (A, B)       0.229508\n",
       "TFr07.LW._019_020_021_022_023_024.JPG -0.005135   (A, B)       0.010204\n",
       "TFr07.LW._067_068_069_070_071_072.JPG -0.003436   (B, C)       0.011986\n",
       "TFr07.CX._037_038_039_040_041_042.JPG  0.100631   (B, C)       0.265625\n",
       "TFr11.CX._007_008_009_010_011_012.JPG  0.120300   (A, B)       0.444444\n",
       "TFr11.CX._001_002_003_004_005_006.JPG  0.134618   (B, C)       0.312044\n",
       "TFr07.CX._049_050_051_052_053_054.JPG  0.173436   (A, B)       0.243446\n",
       "TFr07.CX._067_068_069_070_071_072.JPG  0.228198   (A, B)       0.147260\n",
       "TFr09.CX._031_032_033_034_035_036.JPG  0.278084   (A, B)       0.998695\n",
       "TFr09.AT._031_032_033_034_035_036.JPG  0.289718   (A, B)       1.015666\n",
       "TFr07.CX._013_014_015_016_017_018.JPG  0.311207   (A, C)       0.234450\n",
       "TFr11.CX._013_014_015_016_017_018.JPG  0.378363   (A, B)       0.383540\n",
       "TFr12.CX._031_032_033_034_xxx_xxx.JPG  0.381403   (A, B)       0.169355\n",
       "TFr12.AT._025_028_029_030_xxx_xxx.JPG  0.398003   (A, B)       0.980769\n",
       "TFr07.CX._073_074_075_076_077_078.JPG  0.421025   (A, B)       0.107973\n",
       "TFr07.CX._061_062_063_064_065_066.JPG  0.426871   (A, B)       0.363636\n",
       "TFr11.CX._019_020_021_022_023_024.JPG  0.427155   (A, B)       0.348214\n",
       "TFr07.LW._013_014_015_016_017_018.JPG  0.442893   (A, B)       0.011962\n",
       "TFr07.CX._007_008_009_010_011_012.JPG  0.448624   (B, C)       0.154655\n",
       "TFr12.CX._013_014_015_016_017_018.JPG  0.460721   (A, C)       0.300412\n",
       "TFr09.LW._013_014_015_016_017_018.JPG  0.483434   (A, B)       0.009356\n",
       "TFr07.CX._091_092_093_094_095_096.JPG  0.490482   (A, B)       0.146802\n",
       "TFr09.CX._043_044_045_046_047_048.JPG  0.497600   (B, C)       0.207692\n",
       "TFr07.CX._103_104_105_106_107_108.JPG  0.532554   (A, C)       0.213904\n",
       "TFr07.CX._001_002_003_004_005_006.JPG  0.534393   (B, C)       0.104508\n",
       "TFr07.AT._097_098_099_100_101_102.JPG  0.545704   (B, C)       0.157609\n",
       "TFr09.CX._007_008_009_010_011_012.JPG  0.554700   (B, C)       0.205463\n",
       "TFr12.CX._019_020_021_022_023_024.JPG  0.564410   (B, C)       0.302632\n",
       "TFr12.CX._001_002_003_004_005_006.JPG  0.606463   (B, C)       0.228464"
      ]
     },
     "execution_count": 15,
     "metadata": {},
     "output_type": "execute_result"
    }
   ],
   "source": [
    "reps.sort_values('min_pcc').head(30)"
   ]
  },
  {
   "cell_type": "code",
   "execution_count": 16,
   "metadata": {},
   "outputs": [
    {
     "data": {
      "text/html": [
       "<div>\n",
       "<style scoped>\n",
       "    .dataframe tbody tr th:only-of-type {\n",
       "        vertical-align: middle;\n",
       "    }\n",
       "\n",
       "    .dataframe tbody tr th {\n",
       "        vertical-align: top;\n",
       "    }\n",
       "\n",
       "    .dataframe thead th {\n",
       "        text-align: right;\n",
       "    }\n",
       "</style>\n",
       "<table border=\"1\" class=\"dataframe\">\n",
       "  <thead>\n",
       "    <tr style=\"text-align: right;\">\n",
       "      <th></th>\n",
       "      <th>min_pcc</th>\n",
       "      <th>min_pair</th>\n",
       "      <th>mean_abs_diff</th>\n",
       "    </tr>\n",
       "    <tr>\n",
       "      <th>big_plate_grouping</th>\n",
       "      <th></th>\n",
       "      <th></th>\n",
       "      <th></th>\n",
       "    </tr>\n",
       "  </thead>\n",
       "  <tbody>\n",
       "    <tr>\n",
       "      <th>TFr07.CX._031_032_033_034_035_036.JPG</th>\n",
       "      <td>-0.139633</td>\n",
       "      <td>(A, C)</td>\n",
       "      <td>1.122951</td>\n",
       "    </tr>\n",
       "    <tr>\n",
       "      <th>TFr09.AT._031_032_033_034_035_036.JPG</th>\n",
       "      <td>0.289718</td>\n",
       "      <td>(A, B)</td>\n",
       "      <td>1.015666</td>\n",
       "    </tr>\n",
       "    <tr>\n",
       "      <th>TFr09.CX._031_032_033_034_035_036.JPG</th>\n",
       "      <td>0.278084</td>\n",
       "      <td>(A, B)</td>\n",
       "      <td>0.998695</td>\n",
       "    </tr>\n",
       "    <tr>\n",
       "      <th>TFr12.AT._025_028_029_030_xxx_xxx.JPG</th>\n",
       "      <td>0.398003</td>\n",
       "      <td>(A, B)</td>\n",
       "      <td>0.980769</td>\n",
       "    </tr>\n",
       "    <tr>\n",
       "      <th>TFr07.CX._055_056_057_058_059_060.JPG</th>\n",
       "      <td>0.681246</td>\n",
       "      <td>(B, C)</td>\n",
       "      <td>0.602389</td>\n",
       "    </tr>\n",
       "    <tr>\n",
       "      <th>TFr11.CX._007_008_009_010_011_012.JPG</th>\n",
       "      <td>0.120300</td>\n",
       "      <td>(A, B)</td>\n",
       "      <td>0.444444</td>\n",
       "    </tr>\n",
       "    <tr>\n",
       "      <th>TFr11.CX._013_014_015_016_017_018.JPG</th>\n",
       "      <td>0.378363</td>\n",
       "      <td>(A, B)</td>\n",
       "      <td>0.383540</td>\n",
       "    </tr>\n",
       "    <tr>\n",
       "      <th>TFr07.CX._061_062_063_064_065_066.JPG</th>\n",
       "      <td>0.426871</td>\n",
       "      <td>(A, B)</td>\n",
       "      <td>0.363636</td>\n",
       "    </tr>\n",
       "    <tr>\n",
       "      <th>TFr11.CX._019_020_021_022_023_024.JPG</th>\n",
       "      <td>0.427155</td>\n",
       "      <td>(A, B)</td>\n",
       "      <td>0.348214</td>\n",
       "    </tr>\n",
       "    <tr>\n",
       "      <th>TFr11.CX._001_002_003_004_005_006.JPG</th>\n",
       "      <td>0.134618</td>\n",
       "      <td>(B, C)</td>\n",
       "      <td>0.312044</td>\n",
       "    </tr>\n",
       "    <tr>\n",
       "      <th>TFr12.CX._019_020_021_022_023_024.JPG</th>\n",
       "      <td>0.564410</td>\n",
       "      <td>(B, C)</td>\n",
       "      <td>0.302632</td>\n",
       "    </tr>\n",
       "    <tr>\n",
       "      <th>TFr12.CX._013_014_015_016_017_018.JPG</th>\n",
       "      <td>0.460721</td>\n",
       "      <td>(A, C)</td>\n",
       "      <td>0.300412</td>\n",
       "    </tr>\n",
       "    <tr>\n",
       "      <th>TFr12.LW._031_032_033_034_xxx_xxx.JPG</th>\n",
       "      <td>0.926428</td>\n",
       "      <td>(A, B)</td>\n",
       "      <td>0.282258</td>\n",
       "    </tr>\n",
       "    <tr>\n",
       "      <th>TFr07.CX._037_038_039_040_041_042.JPG</th>\n",
       "      <td>0.100631</td>\n",
       "      <td>(B, C)</td>\n",
       "      <td>0.265625</td>\n",
       "    </tr>\n",
       "    <tr>\n",
       "      <th>TFr12.AT._031_032_033_034_xxx_xxx.JPG</th>\n",
       "      <td>0.923776</td>\n",
       "      <td>(A, C)</td>\n",
       "      <td>0.258065</td>\n",
       "    </tr>\n",
       "    <tr>\n",
       "      <th>TFr09.CX._019_020_021_022_023_024.JPG</th>\n",
       "      <td>0.790752</td>\n",
       "      <td>(A, B)</td>\n",
       "      <td>0.252793</td>\n",
       "    </tr>\n",
       "    <tr>\n",
       "      <th>TFr07.CX._049_050_051_052_053_054.JPG</th>\n",
       "      <td>0.173436</td>\n",
       "      <td>(A, B)</td>\n",
       "      <td>0.243446</td>\n",
       "    </tr>\n",
       "    <tr>\n",
       "      <th>TFr12.LW._025_028_029_030_xxx_xxx.JPG</th>\n",
       "      <td>0.916005</td>\n",
       "      <td>(A, B)</td>\n",
       "      <td>0.237179</td>\n",
       "    </tr>\n",
       "    <tr>\n",
       "      <th>TFr09.AT._019_020_021_022_023_024.JPG</th>\n",
       "      <td>0.932093</td>\n",
       "      <td>(B, C)</td>\n",
       "      <td>0.234637</td>\n",
       "    </tr>\n",
       "    <tr>\n",
       "      <th>TFr07.CX._013_014_015_016_017_018.JPG</th>\n",
       "      <td>0.311207</td>\n",
       "      <td>(A, C)</td>\n",
       "      <td>0.234450</td>\n",
       "    </tr>\n",
       "    <tr>\n",
       "      <th>TFr12.CX._007_008_009_010_011_012.JPG</th>\n",
       "      <td>0.637798</td>\n",
       "      <td>(B, C)</td>\n",
       "      <td>0.234310</td>\n",
       "    </tr>\n",
       "    <tr>\n",
       "      <th>TFr09.AT._013_014_015_016_017_018.JPG</th>\n",
       "      <td>0.922370</td>\n",
       "      <td>(B, C)</td>\n",
       "      <td>0.231809</td>\n",
       "    </tr>\n",
       "    <tr>\n",
       "      <th>TFr07.CX._079_080_081_082_083_084.JPG</th>\n",
       "      <td>-0.041698</td>\n",
       "      <td>(A, B)</td>\n",
       "      <td>0.229508</td>\n",
       "    </tr>\n",
       "    <tr>\n",
       "      <th>TFr12.CX._001_002_003_004_005_006.JPG</th>\n",
       "      <td>0.606463</td>\n",
       "      <td>(B, C)</td>\n",
       "      <td>0.228464</td>\n",
       "    </tr>\n",
       "    <tr>\n",
       "      <th>TFr07.CX._043_044_045_046_047_048.JPG</th>\n",
       "      <td>0.761498</td>\n",
       "      <td>(A, C)</td>\n",
       "      <td>0.214286</td>\n",
       "    </tr>\n",
       "    <tr>\n",
       "      <th>TFr07.CX._103_104_105_106_107_108.JPG</th>\n",
       "      <td>0.532554</td>\n",
       "      <td>(A, C)</td>\n",
       "      <td>0.213904</td>\n",
       "    </tr>\n",
       "    <tr>\n",
       "      <th>TFr09.CX._043_044_045_046_047_048.JPG</th>\n",
       "      <td>0.497600</td>\n",
       "      <td>(B, C)</td>\n",
       "      <td>0.207692</td>\n",
       "    </tr>\n",
       "    <tr>\n",
       "      <th>TFr09.CX._007_008_009_010_011_012.JPG</th>\n",
       "      <td>0.554700</td>\n",
       "      <td>(B, C)</td>\n",
       "      <td>0.205463</td>\n",
       "    </tr>\n",
       "    <tr>\n",
       "      <th>TFr09.AT._001_002_003_004_005_006.JPG</th>\n",
       "      <td>0.954330</td>\n",
       "      <td>(B, C)</td>\n",
       "      <td>0.197183</td>\n",
       "    </tr>\n",
       "    <tr>\n",
       "      <th>TFr07.AT._025_026_027_028_029_030.JPG</th>\n",
       "      <td>0.964503</td>\n",
       "      <td>(A, B)</td>\n",
       "      <td>0.196721</td>\n",
       "    </tr>\n",
       "  </tbody>\n",
       "</table>\n",
       "</div>"
      ],
      "text/plain": [
       "                                        min_pcc min_pair  mean_abs_diff\n",
       "big_plate_grouping                                                     \n",
       "TFr07.CX._031_032_033_034_035_036.JPG -0.139633   (A, C)       1.122951\n",
       "TFr09.AT._031_032_033_034_035_036.JPG  0.289718   (A, B)       1.015666\n",
       "TFr09.CX._031_032_033_034_035_036.JPG  0.278084   (A, B)       0.998695\n",
       "TFr12.AT._025_028_029_030_xxx_xxx.JPG  0.398003   (A, B)       0.980769\n",
       "TFr07.CX._055_056_057_058_059_060.JPG  0.681246   (B, C)       0.602389\n",
       "TFr11.CX._007_008_009_010_011_012.JPG  0.120300   (A, B)       0.444444\n",
       "TFr11.CX._013_014_015_016_017_018.JPG  0.378363   (A, B)       0.383540\n",
       "TFr07.CX._061_062_063_064_065_066.JPG  0.426871   (A, B)       0.363636\n",
       "TFr11.CX._019_020_021_022_023_024.JPG  0.427155   (A, B)       0.348214\n",
       "TFr11.CX._001_002_003_004_005_006.JPG  0.134618   (B, C)       0.312044\n",
       "TFr12.CX._019_020_021_022_023_024.JPG  0.564410   (B, C)       0.302632\n",
       "TFr12.CX._013_014_015_016_017_018.JPG  0.460721   (A, C)       0.300412\n",
       "TFr12.LW._031_032_033_034_xxx_xxx.JPG  0.926428   (A, B)       0.282258\n",
       "TFr07.CX._037_038_039_040_041_042.JPG  0.100631   (B, C)       0.265625\n",
       "TFr12.AT._031_032_033_034_xxx_xxx.JPG  0.923776   (A, C)       0.258065\n",
       "TFr09.CX._019_020_021_022_023_024.JPG  0.790752   (A, B)       0.252793\n",
       "TFr07.CX._049_050_051_052_053_054.JPG  0.173436   (A, B)       0.243446\n",
       "TFr12.LW._025_028_029_030_xxx_xxx.JPG  0.916005   (A, B)       0.237179\n",
       "TFr09.AT._019_020_021_022_023_024.JPG  0.932093   (B, C)       0.234637\n",
       "TFr07.CX._013_014_015_016_017_018.JPG  0.311207   (A, C)       0.234450\n",
       "TFr12.CX._007_008_009_010_011_012.JPG  0.637798   (B, C)       0.234310\n",
       "TFr09.AT._013_014_015_016_017_018.JPG  0.922370   (B, C)       0.231809\n",
       "TFr07.CX._079_080_081_082_083_084.JPG -0.041698   (A, B)       0.229508\n",
       "TFr12.CX._001_002_003_004_005_006.JPG  0.606463   (B, C)       0.228464\n",
       "TFr07.CX._043_044_045_046_047_048.JPG  0.761498   (A, C)       0.214286\n",
       "TFr07.CX._103_104_105_106_107_108.JPG  0.532554   (A, C)       0.213904\n",
       "TFr09.CX._043_044_045_046_047_048.JPG  0.497600   (B, C)       0.207692\n",
       "TFr09.CX._007_008_009_010_011_012.JPG  0.554700   (B, C)       0.205463\n",
       "TFr09.AT._001_002_003_004_005_006.JPG  0.954330   (B, C)       0.197183\n",
       "TFr07.AT._025_026_027_028_029_030.JPG  0.964503   (A, B)       0.196721"
      ]
     },
     "execution_count": 16,
     "metadata": {},
     "output_type": "execute_result"
    }
   ],
   "source": [
    "reps.sort_values('mean_abs_diff', ascending=False).head(30)"
   ]
  }
 ],
 "metadata": {
  "kernelspec": {
   "display_name": "Python 3",
   "language": "python",
   "name": "python3"
  },
  "language_info": {
   "codemirror_mode": {
    "name": "ipython",
    "version": 3
   },
   "file_extension": ".py",
   "mimetype": "text/x-python",
   "name": "python",
   "nbconvert_exporter": "python",
   "pygments_lexer": "ipython3",
   "version": "3.7.3"
  }
 },
 "nbformat": 4,
 "nbformat_minor": 2
}
