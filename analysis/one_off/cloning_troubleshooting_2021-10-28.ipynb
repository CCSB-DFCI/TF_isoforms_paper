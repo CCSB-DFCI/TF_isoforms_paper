{
 "cells": [
  {
   "cell_type": "code",
   "execution_count": 1,
   "metadata": {},
   "outputs": [],
   "source": [
    "import pandas as pd\n",
    "\n",
    "\n",
    "pd.set_option('display.max_columns', 50)"
   ]
  },
  {
   "cell_type": "code",
   "execution_count": 2,
   "metadata": {},
   "outputs": [
    {
     "data": {
      "text/html": [
       "<div>\n",
       "<style scoped>\n",
       "    .dataframe tbody tr th:only-of-type {\n",
       "        vertical-align: middle;\n",
       "    }\n",
       "\n",
       "    .dataframe tbody tr th {\n",
       "        vertical-align: top;\n",
       "    }\n",
       "\n",
       "    .dataframe thead th {\n",
       "        text-align: right;\n",
       "    }\n",
       "</style>\n",
       "<table border=\"1\" class=\"dataframe\">\n",
       "  <thead>\n",
       "    <tr style=\"text-align: right;\">\n",
       "      <th></th>\n",
       "      <th>count</th>\n",
       "      <th>pct</th>\n",
       "    </tr>\n",
       "  </thead>\n",
       "  <tbody>\n",
       "    <tr>\n",
       "      <th>mixed traces</th>\n",
       "      <td>10</td>\n",
       "      <td>7.9</td>\n",
       "    </tr>\n",
       "    <tr>\n",
       "      <th>no trace</th>\n",
       "      <td>7</td>\n",
       "      <td>5.6</td>\n",
       "    </tr>\n",
       "    <tr>\n",
       "      <th>wrong identity (don't match anything)</th>\n",
       "      <td>6</td>\n",
       "      <td>4.8</td>\n",
       "    </tr>\n",
       "    <tr>\n",
       "      <th>wrong identity</th>\n",
       "      <td>4</td>\n",
       "      <td>3.2</td>\n",
       "    </tr>\n",
       "    <tr>\n",
       "      <th>wrong identity (mouse clone)</th>\n",
       "      <td>1</td>\n",
       "      <td>0.8</td>\n",
       "    </tr>\n",
       "    <tr>\n",
       "      <th>truncation</th>\n",
       "      <td>1</td>\n",
       "      <td>0.8</td>\n",
       "    </tr>\n",
       "    <tr>\n",
       "      <th>wrong identity (ARID5A)</th>\n",
       "      <td>1</td>\n",
       "      <td>0.8</td>\n",
       "    </tr>\n",
       "    <tr>\n",
       "      <th>no ATG wrong B1 site</th>\n",
       "      <td>1</td>\n",
       "      <td>0.8</td>\n",
       "    </tr>\n",
       "  </tbody>\n",
       "</table>\n",
       "</div>"
      ],
      "text/plain": [
       "                                       count  pct\n",
       "mixed traces                              10  7.9\n",
       "no trace                                   7  5.6\n",
       "wrong identity (don't match anything)      6  4.8\n",
       "wrong identity                             4  3.2\n",
       "wrong identity (mouse clone)               1  0.8\n",
       "truncation                                 1  0.8\n",
       "wrong identity (ARID5A)                    1  0.8\n",
       "no ATG wrong B1 site                       1  0.8"
      ]
     },
     "execution_count": 2,
     "metadata": {},
     "output_type": "execute_result"
    }
   ],
   "source": [
    "pd.set_option('display.precision', 1)\n",
    "df = pd.read_excel('TFv02_Node_Sanger_v2.xlsx', sheet_name='TFv02_N1')\n",
    "df = df.dropna(subset=['test_orf_id'])\n",
    "df = df.loc[df['is_empty'].isnull(), :]\n",
    "df['annotation'] = df['annotation'].str.strip()\n",
    "pd.concat([df['annotation'].value_counts().rename('count'),\n",
    "          ((df['annotation'].value_counts() / df.shape[0]) * 100).rename('pct')],\n",
    "          axis=1)"
   ]
  },
  {
   "cell_type": "code",
   "execution_count": 8,
   "metadata": {},
   "outputs": [
    {
     "data": {
      "text/html": [
       "<div>\n",
       "<style scoped>\n",
       "    .dataframe tbody tr th:only-of-type {\n",
       "        vertical-align: middle;\n",
       "    }\n",
       "\n",
       "    .dataframe tbody tr th {\n",
       "        vertical-align: top;\n",
       "    }\n",
       "\n",
       "    .dataframe thead th {\n",
       "        text-align: right;\n",
       "    }\n",
       "</style>\n",
       "<table border=\"1\" class=\"dataframe\">\n",
       "  <thead>\n",
       "    <tr style=\"text-align: right;\">\n",
       "      <th></th>\n",
       "      <th>count</th>\n",
       "      <th>pct</th>\n",
       "    </tr>\n",
       "  </thead>\n",
       "  <tbody>\n",
       "    <tr>\n",
       "      <th>wrong identity</th>\n",
       "      <td>6</td>\n",
       "      <td>9.8</td>\n",
       "    </tr>\n",
       "    <tr>\n",
       "      <th>no trace</th>\n",
       "      <td>5</td>\n",
       "      <td>8.2</td>\n",
       "    </tr>\n",
       "    <tr>\n",
       "      <th>mixed traces</th>\n",
       "      <td>5</td>\n",
       "      <td>8.2</td>\n",
       "    </tr>\n",
       "    <tr>\n",
       "      <th>wrong identity (don't match anything)</th>\n",
       "      <td>4</td>\n",
       "      <td>6.6</td>\n",
       "    </tr>\n",
       "    <tr>\n",
       "      <th>wrong identity (no ATG)</th>\n",
       "      <td>1</td>\n",
       "      <td>1.6</td>\n",
       "    </tr>\n",
       "    <tr>\n",
       "      <th>truncation</th>\n",
       "      <td>1</td>\n",
       "      <td>1.6</td>\n",
       "    </tr>\n",
       "  </tbody>\n",
       "</table>\n",
       "</div>"
      ],
      "text/plain": [
       "                                       count  pct\n",
       "wrong identity                             6  9.8\n",
       "no trace                                   5  8.2\n",
       "mixed traces                               5  8.2\n",
       "wrong identity (don't match anything)      4  6.6\n",
       "wrong identity (no ATG)                    1  1.6\n",
       "truncation                                 1  1.6"
      ]
     },
     "execution_count": 8,
     "metadata": {},
     "output_type": "execute_result"
    }
   ],
   "source": [
    "df = pd.read_excel('TFv02_Node_Sanger_v2.xlsx', sheet_name='TFv02_N2')\n",
    "df = df.dropna(subset=['test_orf_id'])\n",
    "df = df.loc[df['is_empty'].isnull(), :]\n",
    "df['annotation'] = df['annotation'].str.strip()\n",
    "pd.concat([df['annotation'].value_counts().rename('count'),\n",
    "          ((df['annotation'].value_counts() / df.shape[0]) * 100).rename('pct')],\n",
    "          axis=1)"
   ]
  },
  {
   "cell_type": "code",
   "execution_count": 9,
   "metadata": {},
   "outputs": [
    {
     "data": {
      "text/html": [
       "<div>\n",
       "<style scoped>\n",
       "    .dataframe tbody tr th:only-of-type {\n",
       "        vertical-align: middle;\n",
       "    }\n",
       "\n",
       "    .dataframe tbody tr th {\n",
       "        vertical-align: top;\n",
       "    }\n",
       "\n",
       "    .dataframe thead th {\n",
       "        text-align: right;\n",
       "    }\n",
       "</style>\n",
       "<table border=\"1\" class=\"dataframe\">\n",
       "  <thead>\n",
       "    <tr style=\"text-align: right;\">\n",
       "      <th></th>\n",
       "      <th>count</th>\n",
       "      <th>pct</th>\n",
       "    </tr>\n",
       "  </thead>\n",
       "  <tbody>\n",
       "    <tr>\n",
       "      <th>wrong identity</th>\n",
       "      <td>1</td>\n",
       "      <td>4.5</td>\n",
       "    </tr>\n",
       "  </tbody>\n",
       "</table>\n",
       "</div>"
      ],
      "text/plain": [
       "                count  pct\n",
       "wrong identity      1  4.5"
      ]
     },
     "execution_count": 9,
     "metadata": {},
     "output_type": "execute_result"
    }
   ],
   "source": [
    "df = pd.read_excel('TFv02_Node_Sanger_v2.xlsx', sheet_name='TFv02_N2_Isoform')\n",
    "df = df.dropna(subset=['test_orf_id'])\n",
    "df = df.loc[df['is_empty'].isnull(), :]\n",
    "df['annotation'] = df['annotation'].str.strip()\n",
    "pd.concat([df['annotation'].value_counts().rename('count'),\n",
    "          ((df['annotation'].value_counts() / df.shape[0]) * 100).rename('pct')],\n",
    "          axis=1)"
   ]
  },
  {
   "cell_type": "code",
   "execution_count": 2,
   "metadata": {},
   "outputs": [],
   "source": [
    "df = pd.read_excel('TFv02_N2H_QC_reseq.xlsx')"
   ]
  },
  {
   "cell_type": "code",
   "execution_count": 5,
   "metadata": {},
   "outputs": [
    {
     "data": {
      "text/html": [
       "<div>\n",
       "<style scoped>\n",
       "    .dataframe tbody tr th:only-of-type {\n",
       "        vertical-align: middle;\n",
       "    }\n",
       "\n",
       "    .dataframe tbody tr th {\n",
       "        vertical-align: top;\n",
       "    }\n",
       "\n",
       "    .dataframe thead th {\n",
       "        text-align: right;\n",
       "    }\n",
       "</style>\n",
       "<table border=\"1\" class=\"dataframe\">\n",
       "  <thead>\n",
       "    <tr style=\"text-align: right;\">\n",
       "      <th></th>\n",
       "      <th>test_orf_id</th>\n",
       "      <th>node_pla</th>\n",
       "      <th>node_pos</th>\n",
       "      <th>identity</th>\n",
       "      <th>score</th>\n",
       "      <th>avg_qual_val</th>\n",
       "      <th>plate_name</th>\n",
       "      <th>plate_pos</th>\n",
       "      <th>is_empty</th>\n",
       "      <th>genewiz annotation</th>\n",
       "      <th>annotation</th>\n",
       "      <th>confirmed</th>\n",
       "      <th>glycerol confirmed</th>\n",
       "      <th>miniprep confirmed</th>\n",
       "      <th>entry confirmed</th>\n",
       "      <th>surprise confirmed</th>\n",
       "      <th>genewiz annotation glycerol</th>\n",
       "      <th>genewiz annotation miniprep</th>\n",
       "      <th>genewiz annotation entry</th>\n",
       "      <th>genewiz annotation surprise</th>\n",
       "      <th>genewiz annotation surprise2</th>\n",
       "      <th>Unnamed: 21</th>\n",
       "    </tr>\n",
       "  </thead>\n",
       "  <tbody>\n",
       "    <tr>\n",
       "      <th>0</th>\n",
       "      <td>54208</td>\n",
       "      <td>7.0</td>\n",
       "      <td>A01</td>\n",
       "      <td>54208.0</td>\n",
       "      <td>388.0</td>\n",
       "      <td>88.750</td>\n",
       "      <td>TFv02_QC_001_S1</td>\n",
       "      <td>G01</td>\n",
       "      <td>NaN</td>\n",
       "      <td>NaN</td>\n",
       "      <td>NaN</td>\n",
       "      <td>1</td>\n",
       "      <td>1</td>\n",
       "      <td>1</td>\n",
       "      <td>1</td>\n",
       "      <td>1.0</td>\n",
       "      <td>NaN</td>\n",
       "      <td>NaN</td>\n",
       "      <td>NaN</td>\n",
       "      <td>NaN</td>\n",
       "      <td>NaN</td>\n",
       "      <td>NaN</td>\n",
       "    </tr>\n",
       "    <tr>\n",
       "      <th>1</th>\n",
       "      <td>100014361</td>\n",
       "      <td>7.0</td>\n",
       "      <td>A02</td>\n",
       "      <td>100014361.0</td>\n",
       "      <td>495.0</td>\n",
       "      <td>84.625</td>\n",
       "      <td>TFv02_QC_001_S1</td>\n",
       "      <td>G02</td>\n",
       "      <td>NaN</td>\n",
       "      <td>NaN</td>\n",
       "      <td>NaN</td>\n",
       "      <td>1</td>\n",
       "      <td>1</td>\n",
       "      <td>1</td>\n",
       "      <td>1</td>\n",
       "      <td>1.0</td>\n",
       "      <td>Non-specific</td>\n",
       "      <td>Non-specific</td>\n",
       "      <td>NaN</td>\n",
       "      <td>Non-specific</td>\n",
       "      <td>NaN</td>\n",
       "      <td>NaN</td>\n",
       "    </tr>\n",
       "    <tr>\n",
       "      <th>2</th>\n",
       "      <td>3614</td>\n",
       "      <td>7.0</td>\n",
       "      <td>A03</td>\n",
       "      <td>3614.0</td>\n",
       "      <td>540.0</td>\n",
       "      <td>83.500</td>\n",
       "      <td>TFv02_QC_001_S1</td>\n",
       "      <td>G03</td>\n",
       "      <td>NaN</td>\n",
       "      <td>NaN</td>\n",
       "      <td>NaN</td>\n",
       "      <td>1</td>\n",
       "      <td>1</td>\n",
       "      <td>1</td>\n",
       "      <td>1</td>\n",
       "      <td>1.0</td>\n",
       "      <td>NaN</td>\n",
       "      <td>NaN</td>\n",
       "      <td>Non-specific</td>\n",
       "      <td>NaN</td>\n",
       "      <td>NaN</td>\n",
       "      <td>NaN</td>\n",
       "    </tr>\n",
       "    <tr>\n",
       "      <th>3</th>\n",
       "      <td>10033</td>\n",
       "      <td>7.0</td>\n",
       "      <td>A04</td>\n",
       "      <td>665.0</td>\n",
       "      <td>28.0</td>\n",
       "      <td>35.875</td>\n",
       "      <td>TFv02_QC_001_S1</td>\n",
       "      <td>G04</td>\n",
       "      <td>NaN</td>\n",
       "      <td>Non-specific</td>\n",
       "      <td>mixed traces</td>\n",
       "      <td>0</td>\n",
       "      <td>0</td>\n",
       "      <td>1</td>\n",
       "      <td>1</td>\n",
       "      <td>1.0</td>\n",
       "      <td>Non-specific</td>\n",
       "      <td>Non-specific</td>\n",
       "      <td>Non-specific</td>\n",
       "      <td>Non-specific</td>\n",
       "      <td>NaN</td>\n",
       "      <td>NaN</td>\n",
       "    </tr>\n",
       "    <tr>\n",
       "      <th>4</th>\n",
       "      <td>4144</td>\n",
       "      <td>7.0</td>\n",
       "      <td>A05</td>\n",
       "      <td>4144.0</td>\n",
       "      <td>549.0</td>\n",
       "      <td>87.875</td>\n",
       "      <td>TFv02_QC_001_S1</td>\n",
       "      <td>G05</td>\n",
       "      <td>NaN</td>\n",
       "      <td>NaN</td>\n",
       "      <td>NaN</td>\n",
       "      <td>1</td>\n",
       "      <td>1</td>\n",
       "      <td>1</td>\n",
       "      <td>1</td>\n",
       "      <td>1.0</td>\n",
       "      <td>NaN</td>\n",
       "      <td>NaN</td>\n",
       "      <td>NaN</td>\n",
       "      <td>NaN</td>\n",
       "      <td>NaN</td>\n",
       "      <td>NaN</td>\n",
       "    </tr>\n",
       "  </tbody>\n",
       "</table>\n",
       "</div>"
      ],
      "text/plain": [
       "  test_orf_id  node_pla node_pos     identity  score  avg_qual_val  \\\n",
       "0       54208       7.0      A01      54208.0  388.0        88.750   \n",
       "1   100014361       7.0      A02  100014361.0  495.0        84.625   \n",
       "2        3614       7.0      A03       3614.0  540.0        83.500   \n",
       "3       10033       7.0      A04        665.0   28.0        35.875   \n",
       "4        4144       7.0      A05       4144.0  549.0        87.875   \n",
       "\n",
       "        plate_name plate_pos  is_empty genewiz annotation    annotation  \\\n",
       "0  TFv02_QC_001_S1       G01       NaN                NaN           NaN   \n",
       "1  TFv02_QC_001_S1       G02       NaN                NaN           NaN   \n",
       "2  TFv02_QC_001_S1       G03       NaN                NaN           NaN   \n",
       "3  TFv02_QC_001_S1       G04       NaN       Non-specific  mixed traces   \n",
       "4  TFv02_QC_001_S1       G05       NaN                NaN           NaN   \n",
       "\n",
       "   confirmed   glycerol confirmed   miniprep confirmed   entry confirmed  \\\n",
       "0          1                    1                    1                 1   \n",
       "1          1                    1                    1                 1   \n",
       "2          1                    1                    1                 1   \n",
       "3          0                    0                    1                 1   \n",
       "4          1                    1                    1                 1   \n",
       "\n",
       "   surprise confirmed genewiz annotation glycerol genewiz annotation miniprep  \\\n",
       "0                 1.0                         NaN                         NaN   \n",
       "1                 1.0                Non-specific                Non-specific   \n",
       "2                 1.0                         NaN                         NaN   \n",
       "3                 1.0                Non-specific                Non-specific   \n",
       "4                 1.0                         NaN                         NaN   \n",
       "\n",
       "  genewiz annotation entry genewiz annotation surprise  \\\n",
       "0                      NaN                         NaN   \n",
       "1                      NaN                Non-specific   \n",
       "2             Non-specific                         NaN   \n",
       "3             Non-specific                Non-specific   \n",
       "4                      NaN                         NaN   \n",
       "\n",
       "  genewiz annotation surprise2  Unnamed: 21  \n",
       "0                          NaN          NaN  \n",
       "1                          NaN          NaN  \n",
       "2                          NaN          NaN  \n",
       "3                          NaN          NaN  \n",
       "4                          NaN          NaN  "
      ]
     },
     "execution_count": 5,
     "metadata": {},
     "output_type": "execute_result"
    }
   ],
   "source": [
    "df.head()"
   ]
  },
  {
   "cell_type": "code",
   "execution_count": 10,
   "metadata": {},
   "outputs": [
    {
     "data": {
      "text/plain": [
       "confirmed   glycerol confirmed   miniprep confirmed   entry confirmed  surprise confirmed\n",
       "0          0                    0                    0                 0.0                    7\n",
       "                                                     1                 0.0                    3\n",
       "                                1                    1                 1.0                    1\n",
       "           1                    1                    0                 1.0                    2\n",
       "                                                     1                 1.0                    1\n",
       "1          1                    0                    1                 1.0                    1\n",
       "                                1                    1                 1.0                   21\n",
       "dtype: int64"
      ]
     },
     "execution_count": 10,
     "metadata": {},
     "output_type": "execute_result"
    }
   ],
   "source": [
    "confirm_columns = [c for c in df.columns if c.endswith('confirmed')]\n",
    "df.groupby(confirm_columns).size()"
   ]
  },
  {
   "cell_type": "code",
   "execution_count": 18,
   "metadata": {},
   "outputs": [
    {
     "data": {
      "text/plain": [
       "0    8\n",
       "1    3\n",
       "Name:  entry confirmed, dtype: int64"
      ]
     },
     "execution_count": 18,
     "metadata": {},
     "output_type": "execute_result"
    }
   ],
   "source": [
    "df.loc[(df[' glycerol confirmed'] == 0) & df['is_empty'].isnull(), ' entry confirmed'].value_counts()"
   ]
  },
  {
   "cell_type": "code",
   "execution_count": 19,
   "metadata": {},
   "outputs": [
    {
     "data": {
      "text/plain": [
       "0    10\n",
       "1     6\n",
       "Name:  entry confirmed, dtype: int64"
      ]
     },
     "execution_count": 19,
     "metadata": {},
     "output_type": "execute_result"
    }
   ],
   "source": [
    "df.loc[(df[' glycerol confirmed'] == 0), ' entry confirmed'].value_counts()"
   ]
  },
  {
   "cell_type": "code",
   "execution_count": 21,
   "metadata": {},
   "outputs": [
    {
     "data": {
      "text/plain": [
       "1     35\n",
       "0     13\n",
       "27     1\n",
       "8      1\n",
       "Name:  entry confirmed, dtype: int64"
      ]
     },
     "execution_count": 21,
     "metadata": {},
     "output_type": "execute_result"
    }
   ],
   "source": [
    "df.loc[:, ' entry confirmed'].value_counts()"
   ]
  },
  {
   "cell_type": "code",
   "execution_count": 22,
   "metadata": {},
   "outputs": [
    {
     "data": {
      "text/plain": [
       "(0.2982456140350877, 5.883903643541457e-05)"
      ]
     },
     "execution_count": 22,
     "metadata": {},
     "output_type": "execute_result"
    }
   ],
   "source": [
    "from scipy import stats\n",
    "\n",
    "stats.fisher_exact([[300 - 45, 45], [300-15, 15]])"
   ]
  },
  {
   "cell_type": "code",
   "execution_count": 23,
   "metadata": {},
   "outputs": [
    {
     "data": {
      "text/plain": [
       "(0.2702949224688355, 0.003291047521223326)"
      ]
     },
     "execution_count": 23,
     "metadata": {},
     "output_type": "execute_result"
    }
   ],
   "source": [
    "\n",
    "stats.fisher_exact([[150 - 23, 23], [150-7, 7]])"
   ]
  },
  {
   "cell_type": "code",
   "execution_count": 25,
   "metadata": {},
   "outputs": [
    {
     "data": {
      "text/plain": [
       "(0.2982456140350877, 0.016407523983353545)"
      ]
     },
     "execution_count": 25,
     "metadata": {},
     "output_type": "execute_result"
    }
   ],
   "source": [
    "stats.fisher_exact([[120 - 18, 18], [120-6, 6]])"
   ]
  },
  {
   "cell_type": "code",
   "execution_count": null,
   "metadata": {},
   "outputs": [],
   "source": []
  }
 ],
 "metadata": {
  "interpreter": {
   "hash": "4ae04c9a3e8cbfaaf818a59204fe953064ae0593c0d7ed4865e22581ae0526ea"
  },
  "kernelspec": {
   "display_name": "Python 3.8.12 64-bit ('venv': venv)",
   "name": "python3"
  },
  "language_info": {
   "codemirror_mode": {
    "name": "ipython",
    "version": 3
   },
   "file_extension": ".py",
   "mimetype": "text/x-python",
   "name": "python",
   "nbconvert_exporter": "python",
   "pygments_lexer": "ipython3",
   "version": "3.8.12"
  },
  "orig_nbformat": 4
 },
 "nbformat": 4,
 "nbformat_minor": 2
}
