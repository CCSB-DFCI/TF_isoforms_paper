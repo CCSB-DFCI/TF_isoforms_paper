{
 "cells": [
  {
   "cell_type": "code",
   "execution_count": 1,
   "metadata": {},
   "outputs": [],
   "source": [
    "import pandas as pd"
   ]
  },
  {
   "cell_type": "code",
   "execution_count": 40,
   "metadata": {},
   "outputs": [
    {
     "data": {
      "text/html": [
       "<div>\n",
       "<style scoped>\n",
       "    .dataframe tbody tr th:only-of-type {\n",
       "        vertical-align: middle;\n",
       "    }\n",
       "\n",
       "    .dataframe tbody tr th {\n",
       "        vertical-align: top;\n",
       "    }\n",
       "\n",
       "    .dataframe thead th {\n",
       "        text-align: right;\n",
       "    }\n",
       "</style>\n",
       "<table border=\"1\" class=\"dataframe\">\n",
       "  <thead>\n",
       "    <tr style=\"text-align: right;\">\n",
       "      <th></th>\n",
       "      <th>chromosome</th>\n",
       "      <th>modStart</th>\n",
       "      <th>modEnd</th>\n",
       "      <th>modId</th>\n",
       "      <th>score</th>\n",
       "      <th>strand</th>\n",
       "      <th>modName</th>\n",
       "      <th>modType</th>\n",
       "      <th>supportNum</th>\n",
       "      <th>supportList</th>\n",
       "      <th>pubmedIds</th>\n",
       "      <th>geneName</th>\n",
       "      <th>geneType</th>\n",
       "      <th>region</th>\n",
       "      <th>sequence</th>\n",
       "      <th>motif</th>\n",
       "      <th>score.1</th>\n",
       "    </tr>\n",
       "  </thead>\n",
       "  <tbody>\n",
       "    <tr>\n",
       "      <th>0</th>\n",
       "      <td>chr1</td>\n",
       "      <td>14637</td>\n",
       "      <td>14638</td>\n",
       "      <td>m6A_site_1</td>\n",
       "      <td>0</td>\n",
       "      <td>-</td>\n",
       "      <td>m6A_site_1</td>\n",
       "      <td>m6A</td>\n",
       "      <td>1</td>\n",
       "      <td>GSM1135025</td>\n",
       "      <td>24284625</td>\n",
       "      <td>WASH7P</td>\n",
       "      <td>unprocessed_pseudogene</td>\n",
       "      <td>intron</td>\n",
       "      <td>GGGCCGTTGCTCTGACATGGACACAGCCAGGACAAGCTGCT</td>\n",
       "      <td>371.87</td>\n",
       "      <td>NaN</td>\n",
       "    </tr>\n",
       "    <tr>\n",
       "      <th>1</th>\n",
       "      <td>chr1</td>\n",
       "      <td>14661</td>\n",
       "      <td>14662</td>\n",
       "      <td>m6A_site_2</td>\n",
       "      <td>0</td>\n",
       "      <td>-</td>\n",
       "      <td>m6A_site_2</td>\n",
       "      <td>m6A</td>\n",
       "      <td>1</td>\n",
       "      <td>GSM1135025</td>\n",
       "      <td>24284625</td>\n",
       "      <td>WASH7P</td>\n",
       "      <td>unprocessed_pseudogene</td>\n",
       "      <td>intron</td>\n",
       "      <td>ACCTTCCCCCCCAGACCCAGACTTGGGCCGTTGCTCTGACA</td>\n",
       "      <td>344.64</td>\n",
       "      <td>NaN</td>\n",
       "    </tr>\n",
       "    <tr>\n",
       "      <th>2</th>\n",
       "      <td>chr1</td>\n",
       "      <td>14667</td>\n",
       "      <td>14668</td>\n",
       "      <td>m6A_site_3</td>\n",
       "      <td>0</td>\n",
       "      <td>-</td>\n",
       "      <td>m6A_site_3</td>\n",
       "      <td>m6A</td>\n",
       "      <td>1</td>\n",
       "      <td>GSM1135025</td>\n",
       "      <td>24284625</td>\n",
       "      <td>WASH7P</td>\n",
       "      <td>unprocessed_pseudogene</td>\n",
       "      <td>intron</td>\n",
       "      <td>CATGACACCTTCCCCCCCAGACCCAGACTTGGGCCGTTGCT</td>\n",
       "      <td>294.79</td>\n",
       "      <td>NaN</td>\n",
       "    </tr>\n",
       "    <tr>\n",
       "      <th>3</th>\n",
       "      <td>chr1</td>\n",
       "      <td>14765</td>\n",
       "      <td>14766</td>\n",
       "      <td>m6A_site_4</td>\n",
       "      <td>0</td>\n",
       "      <td>-</td>\n",
       "      <td>m6A_site_4</td>\n",
       "      <td>m6A</td>\n",
       "      <td>1</td>\n",
       "      <td>GSM1135025</td>\n",
       "      <td>24284625</td>\n",
       "      <td>WASH7P</td>\n",
       "      <td>unprocessed_pseudogene</td>\n",
       "      <td>intron</td>\n",
       "      <td>AGCCTTTGCCCGCGTGTCAGACTCCATCCCTCCTCTGCCGC</td>\n",
       "      <td>344.64</td>\n",
       "      <td>NaN</td>\n",
       "    </tr>\n",
       "    <tr>\n",
       "      <th>4</th>\n",
       "      <td>chr1</td>\n",
       "      <td>135158</td>\n",
       "      <td>135159</td>\n",
       "      <td>m6A_site_5</td>\n",
       "      <td>0</td>\n",
       "      <td>-</td>\n",
       "      <td>m6A_site_5</td>\n",
       "      <td>m6A</td>\n",
       "      <td>11</td>\n",
       "      <td>GSE65380,GSM1272358,GSM1272360,GSM1272362,GSM1...</td>\n",
       "      <td>25456834</td>\n",
       "      <td>RP11-34P13.15,AL627309.1</td>\n",
       "      <td>processed_pseudogene,protein_coding</td>\n",
       "      <td>exon,utr3</td>\n",
       "      <td>CGGCCTCGGCCTCACAGCGGACTCTCCACGCCCAGCTAGCT</td>\n",
       "      <td>419.59</td>\n",
       "      <td>NaN</td>\n",
       "    </tr>\n",
       "  </tbody>\n",
       "</table>\n",
       "</div>"
      ],
      "text/plain": [
       "  chromosome  modStart  modEnd       modId  score strand     modName modType  \\\n",
       "0       chr1     14637   14638  m6A_site_1      0      -  m6A_site_1     m6A   \n",
       "1       chr1     14661   14662  m6A_site_2      0      -  m6A_site_2     m6A   \n",
       "2       chr1     14667   14668  m6A_site_3      0      -  m6A_site_3     m6A   \n",
       "3       chr1     14765   14766  m6A_site_4      0      -  m6A_site_4     m6A   \n",
       "4       chr1    135158  135159  m6A_site_5      0      -  m6A_site_5     m6A   \n",
       "\n",
       "   supportNum                                        supportList pubmedIds  \\\n",
       "0           1                                         GSM1135025  24284625   \n",
       "1           1                                         GSM1135025  24284625   \n",
       "2           1                                         GSM1135025  24284625   \n",
       "3           1                                         GSM1135025  24284625   \n",
       "4          11  GSE65380,GSM1272358,GSM1272360,GSM1272362,GSM1...  25456834   \n",
       "\n",
       "                   geneName                             geneType     region  \\\n",
       "0                    WASH7P               unprocessed_pseudogene     intron   \n",
       "1                    WASH7P               unprocessed_pseudogene     intron   \n",
       "2                    WASH7P               unprocessed_pseudogene     intron   \n",
       "3                    WASH7P               unprocessed_pseudogene     intron   \n",
       "4  RP11-34P13.15,AL627309.1  processed_pseudogene,protein_coding  exon,utr3   \n",
       "\n",
       "                                    sequence   motif  score.1  \n",
       "0  GGGCCGTTGCTCTGACATGGACACAGCCAGGACAAGCTGCT  371.87      NaN  \n",
       "1  ACCTTCCCCCCCAGACCCAGACTTGGGCCGTTGCTCTGACA  344.64      NaN  \n",
       "2  CATGACACCTTCCCCCCCAGACCCAGACTTGGGCCGTTGCT  294.79      NaN  \n",
       "3  AGCCTTTGCCCGCGTGTCAGACTCCATCCCTCCTCTGCCGC  344.64      NaN  \n",
       "4  CGGCCTCGGCCTCACAGCGGACTCTCCACGCCCAGCTAGCT  419.59      NaN  "
      ]
     },
     "execution_count": 40,
     "metadata": {},
     "output_type": "execute_result"
    }
   ],
   "source": [
    "df = pd.read_table('edited_RMBase_hg19_all_m6A_site.txt')\n",
    "df.head()"
   ]
  },
  {
   "cell_type": "code",
   "execution_count": 42,
   "metadata": {},
   "outputs": [],
   "source": [
    "df['geneName'] = df['geneName'].str.split(',', expand=True).loc[:, 0]"
   ]
  },
  {
   "cell_type": "code",
   "execution_count": 44,
   "metadata": {},
   "outputs": [
    {
     "data": {
      "text/plain": [
       "44"
      ]
     },
     "execution_count": 44,
     "metadata": {},
     "output_type": "execute_result"
    }
   ],
   "source": [
    "df['geneName'].str.contains('TCF12').sum()"
   ]
  },
  {
   "cell_type": "code",
   "execution_count": 45,
   "metadata": {},
   "outputs": [
    {
     "data": {
      "text/html": [
       "<div>\n",
       "<style scoped>\n",
       "    .dataframe tbody tr th:only-of-type {\n",
       "        vertical-align: middle;\n",
       "    }\n",
       "\n",
       "    .dataframe tbody tr th {\n",
       "        vertical-align: top;\n",
       "    }\n",
       "\n",
       "    .dataframe thead th {\n",
       "        text-align: right;\n",
       "    }\n",
       "</style>\n",
       "<table border=\"1\" class=\"dataframe\">\n",
       "  <thead>\n",
       "    <tr style=\"text-align: right;\">\n",
       "      <th></th>\n",
       "      <th>chromosome</th>\n",
       "      <th>modStart</th>\n",
       "      <th>modEnd</th>\n",
       "      <th>modId</th>\n",
       "      <th>score</th>\n",
       "      <th>strand</th>\n",
       "      <th>modName</th>\n",
       "      <th>modType</th>\n",
       "      <th>supportNum</th>\n",
       "      <th>supportList</th>\n",
       "      <th>pubmedIds</th>\n",
       "      <th>geneName</th>\n",
       "      <th>geneType</th>\n",
       "      <th>region</th>\n",
       "      <th>sequence</th>\n",
       "      <th>motif</th>\n",
       "      <th>score.1</th>\n",
       "    </tr>\n",
       "  </thead>\n",
       "  <tbody>\n",
       "    <tr>\n",
       "      <th>146072</th>\n",
       "      <td>chr15</td>\n",
       "      <td>57210895</td>\n",
       "      <td>57210896</td>\n",
       "      <td>m6A_site_146253</td>\n",
       "      <td>0</td>\n",
       "      <td>+</td>\n",
       "      <td>m6A_site_146253</td>\n",
       "      <td>m6A</td>\n",
       "      <td>9</td>\n",
       "      <td>GSM1339409,GSM1339421,GSM1339433,GSM1339435,GS...</td>\n",
       "      <td>24981863</td>\n",
       "      <td>TCF12</td>\n",
       "      <td>protein_coding,processed_transcript</td>\n",
       "      <td>utr5,exon</td>\n",
       "      <td>AAAAATGTCCGCCTGAAGAGACCCACAAGTTCTATTCGGGG</td>\n",
       "      <td>294.79</td>\n",
       "      <td>NaN</td>\n",
       "    </tr>\n",
       "    <tr>\n",
       "      <th>146073</th>\n",
       "      <td>chr15</td>\n",
       "      <td>57210918</td>\n",
       "      <td>57210919</td>\n",
       "      <td>m6A_site_146254</td>\n",
       "      <td>0</td>\n",
       "      <td>+</td>\n",
       "      <td>m6A_site_146254</td>\n",
       "      <td>m6A</td>\n",
       "      <td>10</td>\n",
       "      <td>GSM1339409,GSM1339421,GSM1339433,GSM1339435,GS...</td>\n",
       "      <td>24981863</td>\n",
       "      <td>TCF12</td>\n",
       "      <td>protein_coding,processed_transcript</td>\n",
       "      <td>utr5,exon</td>\n",
       "      <td>CACAAGTTCTATTCGGGGGGACCGACAGCCCGCCCCGGGAG</td>\n",
       "      <td>369.74</td>\n",
       "      <td>NaN</td>\n",
       "    </tr>\n",
       "    <tr>\n",
       "      <th>146074</th>\n",
       "      <td>chr15</td>\n",
       "      <td>57210979</td>\n",
       "      <td>57210980</td>\n",
       "      <td>m6A_site_146255</td>\n",
       "      <td>0</td>\n",
       "      <td>+</td>\n",
       "      <td>m6A_site_146255</td>\n",
       "      <td>m6A</td>\n",
       "      <td>10</td>\n",
       "      <td>GSM1339409,GSM1339421,GSM1339433,GSM1339435,GS...</td>\n",
       "      <td>24981863</td>\n",
       "      <td>TCF12</td>\n",
       "      <td>processed_transcript,protein_coding</td>\n",
       "      <td>exon,utr5</td>\n",
       "      <td>AAGCCGCCTCCCCCTCCCAGACCCGAGAGCTCGTGCGGGGC</td>\n",
       "      <td>294.79</td>\n",
       "      <td>NaN</td>\n",
       "    </tr>\n",
       "    <tr>\n",
       "      <th>146075</th>\n",
       "      <td>chr15</td>\n",
       "      <td>57211007</td>\n",
       "      <td>57211008</td>\n",
       "      <td>m6A_site_146256</td>\n",
       "      <td>0</td>\n",
       "      <td>+</td>\n",
       "      <td>m6A_site_146256</td>\n",
       "      <td>m6A</td>\n",
       "      <td>4</td>\n",
       "      <td>GSM2010450,GSM2010454,GSM2010456,GSM2483507</td>\n",
       "      <td>NaN</td>\n",
       "      <td>TCF12</td>\n",
       "      <td>processed_transcript,protein_coding</td>\n",
       "      <td>exon,utr5</td>\n",
       "      <td>GCTCGTGCGGGGCAAAGTGAACCGAGCCGCTGGGCGGTGCA</td>\n",
       "      <td>299.78</td>\n",
       "      <td>NaN</td>\n",
       "    </tr>\n",
       "    <tr>\n",
       "      <th>146076</th>\n",
       "      <td>chr15</td>\n",
       "      <td>57211064</td>\n",
       "      <td>57211065</td>\n",
       "      <td>m6A_site_146257</td>\n",
       "      <td>0</td>\n",
       "      <td>+</td>\n",
       "      <td>m6A_site_146257</td>\n",
       "      <td>m6A</td>\n",
       "      <td>4</td>\n",
       "      <td>GSM2010450,GSM2010454,GSM2010456,GSM2483507</td>\n",
       "      <td>NaN</td>\n",
       "      <td>TCF12</td>\n",
       "      <td>processed_transcript,protein_coding</td>\n",
       "      <td>exon,utr5</td>\n",
       "      <td>CGTTCTCCCGGCCAAAGTGAACTTTAATCGGGGTGGTTGGA</td>\n",
       "      <td>349.63</td>\n",
       "      <td>NaN</td>\n",
       "    </tr>\n",
       "  </tbody>\n",
       "</table>\n",
       "</div>"
      ],
      "text/plain": [
       "       chromosome  modStart    modEnd            modId  score strand  \\\n",
       "146072      chr15  57210895  57210896  m6A_site_146253      0      +   \n",
       "146073      chr15  57210918  57210919  m6A_site_146254      0      +   \n",
       "146074      chr15  57210979  57210980  m6A_site_146255      0      +   \n",
       "146075      chr15  57211007  57211008  m6A_site_146256      0      +   \n",
       "146076      chr15  57211064  57211065  m6A_site_146257      0      +   \n",
       "\n",
       "                modName modType  supportNum  \\\n",
       "146072  m6A_site_146253     m6A           9   \n",
       "146073  m6A_site_146254     m6A          10   \n",
       "146074  m6A_site_146255     m6A          10   \n",
       "146075  m6A_site_146256     m6A           4   \n",
       "146076  m6A_site_146257     m6A           4   \n",
       "\n",
       "                                              supportList pubmedIds geneName  \\\n",
       "146072  GSM1339409,GSM1339421,GSM1339433,GSM1339435,GS...  24981863    TCF12   \n",
       "146073  GSM1339409,GSM1339421,GSM1339433,GSM1339435,GS...  24981863    TCF12   \n",
       "146074  GSM1339409,GSM1339421,GSM1339433,GSM1339435,GS...  24981863    TCF12   \n",
       "146075        GSM2010450,GSM2010454,GSM2010456,GSM2483507       NaN    TCF12   \n",
       "146076        GSM2010450,GSM2010454,GSM2010456,GSM2483507       NaN    TCF12   \n",
       "\n",
       "                                   geneType     region  \\\n",
       "146072  protein_coding,processed_transcript  utr5,exon   \n",
       "146073  protein_coding,processed_transcript  utr5,exon   \n",
       "146074  processed_transcript,protein_coding  exon,utr5   \n",
       "146075  processed_transcript,protein_coding  exon,utr5   \n",
       "146076  processed_transcript,protein_coding  exon,utr5   \n",
       "\n",
       "                                         sequence   motif  score.1  \n",
       "146072  AAAAATGTCCGCCTGAAGAGACCCACAAGTTCTATTCGGGG  294.79      NaN  \n",
       "146073  CACAAGTTCTATTCGGGGGGACCGACAGCCCGCCCCGGGAG  369.74      NaN  \n",
       "146074  AAGCCGCCTCCCCCTCCCAGACCCGAGAGCTCGTGCGGGGC  294.79      NaN  \n",
       "146075  GCTCGTGCGGGGCAAAGTGAACCGAGCCGCTGGGCGGTGCA  299.78      NaN  \n",
       "146076  CGTTCTCCCGGCCAAAGTGAACTTTAATCGGGGTGGTTGGA  349.63      NaN  "
      ]
     },
     "execution_count": 45,
     "metadata": {},
     "output_type": "execute_result"
    }
   ],
   "source": [
    "df.loc[df['geneName'].str.contains('TCF12'), :].head()"
   ]
  },
  {
   "cell_type": "code",
   "execution_count": 46,
   "metadata": {},
   "outputs": [
    {
     "data": {
      "text/plain": [
       "geneName\n",
       "TCF12    44\n",
       "dtype: int64"
      ]
     },
     "execution_count": 46,
     "metadata": {},
     "output_type": "execute_result"
    }
   ],
   "source": [
    "df.loc[df['geneName'].str.contains('TCF12'), :].groupby('geneName').size()"
   ]
  },
  {
   "cell_type": "code",
   "execution_count": 47,
   "metadata": {},
   "outputs": [
    {
     "data": {
      "text/plain": [
       "(23347,)"
      ]
     },
     "execution_count": 47,
     "metadata": {},
     "output_type": "execute_result"
    }
   ],
   "source": [
    "df.groupby('geneName').size().shape"
   ]
  },
  {
   "cell_type": "code",
   "execution_count": 48,
   "metadata": {},
   "outputs": [
    {
     "data": {
      "text/plain": [
       "2612"
      ]
     },
     "execution_count": 48,
     "metadata": {},
     "output_type": "execute_result"
    }
   ],
   "source": [
    "(df.groupby('geneName').size() >= 44).sum()"
   ]
  },
  {
   "cell_type": "code",
   "execution_count": 49,
   "metadata": {},
   "outputs": [
    {
     "data": {
      "text/plain": [
       "446"
      ]
     },
     "execution_count": 49,
     "metadata": {},
     "output_type": "execute_result"
    }
   ],
   "source": [
    "df.groupby('geneName').size().max()"
   ]
  },
  {
   "cell_type": "code",
   "execution_count": 50,
   "metadata": {},
   "outputs": [
    {
     "data": {
      "text/plain": [
       "<matplotlib.axes._subplots.AxesSubplot at 0x136acdf40>"
      ]
     },
     "execution_count": 50,
     "metadata": {},
     "output_type": "execute_result"
    },
    {
     "data": {
      "image/png": "[encoded data removed]",
      "text/plain": [
       "<Figure size 432x288 with 1 Axes>"
      ]
     },
     "metadata": {
      "needs_background": "light"
     },
     "output_type": "display_data"
    }
   ],
   "source": [
    "df.groupby('geneName').size().plot.hist(bins=100, range=(0, 100))"
   ]
  },
  {
   "cell_type": "code",
   "execution_count": 51,
   "metadata": {},
   "outputs": [
    {
     "data": {
      "text/plain": [
       "geneName\n",
       "MKI67     279\n",
       "AHNAK     282\n",
       "AHNAK2    296\n",
       "TTN       333\n",
       "DST       446\n",
       "dtype: int64"
      ]
     },
     "execution_count": 51,
     "metadata": {},
     "output_type": "execute_result"
    }
   ],
   "source": [
    "df.groupby('geneName').size().sort_values().tail()"
   ]
  },
  {
   "cell_type": "code",
   "execution_count": 83,
   "metadata": {},
   "outputs": [
    {
     "data": {
      "text/html": [
       "<div>\n",
       "<style scoped>\n",
       "    .dataframe tbody tr th:only-of-type {\n",
       "        vertical-align: middle;\n",
       "    }\n",
       "\n",
       "    .dataframe tbody tr th {\n",
       "        vertical-align: top;\n",
       "    }\n",
       "\n",
       "    .dataframe thead th {\n",
       "        text-align: right;\n",
       "    }\n",
       "</style>\n",
       "<table border=\"1\" class=\"dataframe\">\n",
       "  <thead>\n",
       "    <tr style=\"text-align: right;\">\n",
       "      <th></th>\n",
       "      <th>chromosome</th>\n",
       "      <th>modStart</th>\n",
       "      <th>modEnd</th>\n",
       "      <th>modId</th>\n",
       "      <th>score</th>\n",
       "      <th>strand</th>\n",
       "      <th>modName</th>\n",
       "      <th>modType</th>\n",
       "      <th>supportNum</th>\n",
       "      <th>supportList</th>\n",
       "      <th>pubmedIds</th>\n",
       "      <th>geneName</th>\n",
       "      <th>geneType</th>\n",
       "      <th>region</th>\n",
       "      <th>sequence</th>\n",
       "      <th>motif</th>\n",
       "      <th>score.1</th>\n",
       "      <th>Number_amino_acids</th>\n",
       "    </tr>\n",
       "  </thead>\n",
       "  <tbody>\n",
       "    <tr>\n",
       "      <th>4</th>\n",
       "      <td>chr1</td>\n",
       "      <td>135158</td>\n",
       "      <td>135159</td>\n",
       "      <td>m6A_site_5</td>\n",
       "      <td>0</td>\n",
       "      <td>-</td>\n",
       "      <td>m6A_site_5</td>\n",
       "      <td>m6A</td>\n",
       "      <td>11</td>\n",
       "      <td>GSE65380,GSM1272358,GSM1272360,GSM1272362,GSM1...</td>\n",
       "      <td>25456834</td>\n",
       "      <td>RP11-34P13.15</td>\n",
       "      <td>processed_pseudogene,protein_coding</td>\n",
       "      <td>exon,utr3</td>\n",
       "      <td>CGGCCTCGGCCTCACAGCGGACTCTCCACGCCCAGCTAGCT</td>\n",
       "      <td>419.59</td>\n",
       "      <td>NaN</td>\n",
       "      <td>NaN</td>\n",
       "    </tr>\n",
       "    <tr>\n",
       "      <th>5</th>\n",
       "      <td>chr1</td>\n",
       "      <td>135246</td>\n",
       "      <td>135247</td>\n",
       "      <td>m6A_site_6</td>\n",
       "      <td>0</td>\n",
       "      <td>-</td>\n",
       "      <td>m6A_site_6</td>\n",
       "      <td>m6A</td>\n",
       "      <td>12</td>\n",
       "      <td>GSE65380,GSM1272358,GSM1272360,GSM1272362,GSM1...</td>\n",
       "      <td>25456834,27371828</td>\n",
       "      <td>RP11-34P13.15</td>\n",
       "      <td>processed_pseudogene,protein_coding</td>\n",
       "      <td>exon,utr3</td>\n",
       "      <td>GCAGCCTCTTCAGGCGCAGAACTTGATCTCCAGTCGGCCTT</td>\n",
       "      <td>349.63</td>\n",
       "      <td>NaN</td>\n",
       "      <td>NaN</td>\n",
       "    </tr>\n",
       "    <tr>\n",
       "      <th>7</th>\n",
       "      <td>chr1</td>\n",
       "      <td>139004</td>\n",
       "      <td>139005</td>\n",
       "      <td>m6A_site_8</td>\n",
       "      <td>0</td>\n",
       "      <td>-</td>\n",
       "      <td>m6A_site_8</td>\n",
       "      <td>m6A</td>\n",
       "      <td>2</td>\n",
       "      <td>GSE65380,GSM2460350</td>\n",
       "      <td>NaN</td>\n",
       "      <td>AL627309.1</td>\n",
       "      <td>protein_coding</td>\n",
       "      <td>cds</td>\n",
       "      <td>CCAAAACTTACTCAAGTCAGACTCTCTAGTCCCAACTGCTG</td>\n",
       "      <td>344.64</td>\n",
       "      <td>NaN</td>\n",
       "      <td>NaN</td>\n",
       "    </tr>\n",
       "    <tr>\n",
       "      <th>8</th>\n",
       "      <td>chr1</td>\n",
       "      <td>139019</td>\n",
       "      <td>139020</td>\n",
       "      <td>m6A_site_9</td>\n",
       "      <td>0</td>\n",
       "      <td>-</td>\n",
       "      <td>m6A_site_9</td>\n",
       "      <td>m6A</td>\n",
       "      <td>2</td>\n",
       "      <td>GSE65380,GSM2460350</td>\n",
       "      <td>NaN</td>\n",
       "      <td>AL627309.1</td>\n",
       "      <td>protein_coding</td>\n",
       "      <td>cds</td>\n",
       "      <td>ACATCATCTCCGGGCCCAAAACTTACTCAAGTCAGACTCTC</td>\n",
       "      <td>274.68</td>\n",
       "      <td>NaN</td>\n",
       "      <td>NaN</td>\n",
       "    </tr>\n",
       "    <tr>\n",
       "      <th>9</th>\n",
       "      <td>chr1</td>\n",
       "      <td>139039</td>\n",
       "      <td>139040</td>\n",
       "      <td>m6A_site_10</td>\n",
       "      <td>0</td>\n",
       "      <td>-</td>\n",
       "      <td>m6A_site_10</td>\n",
       "      <td>m6A</td>\n",
       "      <td>2</td>\n",
       "      <td>GSE65380,GSM2460350</td>\n",
       "      <td>NaN</td>\n",
       "      <td>AL627309.1</td>\n",
       "      <td>protein_coding</td>\n",
       "      <td>cds</td>\n",
       "      <td>CGGCCAACTCCTGTCCCAGGACATCATCTCCGGGCCCAAAA</td>\n",
       "      <td>371.87</td>\n",
       "      <td>NaN</td>\n",
       "      <td>NaN</td>\n",
       "    </tr>\n",
       "    <tr>\n",
       "      <th>...</th>\n",
       "      <td>...</td>\n",
       "      <td>...</td>\n",
       "      <td>...</td>\n",
       "      <td>...</td>\n",
       "      <td>...</td>\n",
       "      <td>...</td>\n",
       "      <td>...</td>\n",
       "      <td>...</td>\n",
       "      <td>...</td>\n",
       "      <td>...</td>\n",
       "      <td>...</td>\n",
       "      <td>...</td>\n",
       "      <td>...</td>\n",
       "      <td>...</td>\n",
       "      <td>...</td>\n",
       "      <td>...</td>\n",
       "      <td>...</td>\n",
       "      <td>...</td>\n",
       "    </tr>\n",
       "    <tr>\n",
       "      <th>477446</th>\n",
       "      <td>chrY</td>\n",
       "      <td>21906414</td>\n",
       "      <td>21906415</td>\n",
       "      <td>m6A_site_478160</td>\n",
       "      <td>0</td>\n",
       "      <td>-</td>\n",
       "      <td>m6A_site_478160</td>\n",
       "      <td>m6A</td>\n",
       "      <td>3</td>\n",
       "      <td>GSM1339411,GSM1339437,GSM2283214</td>\n",
       "      <td>24981863,27371828</td>\n",
       "      <td>KDM5D</td>\n",
       "      <td>protein_coding</td>\n",
       "      <td>cds</td>\n",
       "      <td>GCATTAAGGCCCGACATGGAACCGGGGTGTGACGAGTTCCT</td>\n",
       "      <td>299.78</td>\n",
       "      <td>NaN</td>\n",
       "      <td>1539.0</td>\n",
       "    </tr>\n",
       "    <tr>\n",
       "      <th>477447</th>\n",
       "      <td>chrY</td>\n",
       "      <td>21906575</td>\n",
       "      <td>21906576</td>\n",
       "      <td>m6A_site_478161</td>\n",
       "      <td>0</td>\n",
       "      <td>-</td>\n",
       "      <td>m6A_site_478161</td>\n",
       "      <td>m6A</td>\n",
       "      <td>2</td>\n",
       "      <td>GSM1339411,GSM1339437</td>\n",
       "      <td>24981863</td>\n",
       "      <td>KDM5D</td>\n",
       "      <td>protein_coding</td>\n",
       "      <td>utr5</td>\n",
       "      <td>GTCAAGATGGTGGCTGTAAAACTAGGATCCCTGACGATTGG</td>\n",
       "      <td>274.68</td>\n",
       "      <td>NaN</td>\n",
       "      <td>1539.0</td>\n",
       "    </tr>\n",
       "    <tr>\n",
       "      <th>477448</th>\n",
       "      <td>chrY</td>\n",
       "      <td>22741508</td>\n",
       "      <td>22741509</td>\n",
       "      <td>m6A_site_478162</td>\n",
       "      <td>0</td>\n",
       "      <td>+</td>\n",
       "      <td>m6A_site_478162</td>\n",
       "      <td>m6A</td>\n",
       "      <td>18</td>\n",
       "      <td>GSM1339403,GSM1339405,GSM1339407,GSM1339409,GS...</td>\n",
       "      <td>24981863</td>\n",
       "      <td>EIF1AY</td>\n",
       "      <td>protein_coding,processed_transcript</td>\n",
       "      <td>cds,exon</td>\n",
       "      <td>ATTAGGTAAAGGAGGTAAAAACAGGCGCAGGGGTAAAAATG</td>\n",
       "      <td>226.96</td>\n",
       "      <td>NaN</td>\n",
       "      <td>144.0</td>\n",
       "    </tr>\n",
       "    <tr>\n",
       "      <th>477449</th>\n",
       "      <td>chrY</td>\n",
       "      <td>22741572</td>\n",
       "      <td>22741573</td>\n",
       "      <td>m6A_site_478163</td>\n",
       "      <td>0</td>\n",
       "      <td>+</td>\n",
       "      <td>m6A_site_478163</td>\n",
       "      <td>m6A</td>\n",
       "      <td>12</td>\n",
       "      <td>GSM1339403,GSM1339405,GSM1339407,GSM1339411,GS...</td>\n",
       "      <td>24981863</td>\n",
       "      <td>EIF1AY</td>\n",
       "      <td>processed_transcript,protein_coding</td>\n",
       "      <td>exon,cds</td>\n",
       "      <td>TTGGTGTTTAAAGAGGATGGACAAGGTAAGACTTTTCAACT</td>\n",
       "      <td>371.87</td>\n",
       "      <td>NaN</td>\n",
       "      <td>144.0</td>\n",
       "    </tr>\n",
       "    <tr>\n",
       "      <th>477450</th>\n",
       "      <td>chrY</td>\n",
       "      <td>22746378</td>\n",
       "      <td>22746379</td>\n",
       "      <td>m6A_site_478164</td>\n",
       "      <td>0</td>\n",
       "      <td>+</td>\n",
       "      <td>m6A_site_478164</td>\n",
       "      <td>m6A</td>\n",
       "      <td>3</td>\n",
       "      <td>GSM1339407,GSM1339435,GSM1339437</td>\n",
       "      <td>24981863</td>\n",
       "      <td>EIF1AY</td>\n",
       "      <td>processed_transcript,protein_coding,protein_co...</td>\n",
       "      <td>exon,intron,cds</td>\n",
       "      <td>GGTTTGGATAAATACATCAGACATTATATTGGTTGGTCTAC</td>\n",
       "      <td>296.92</td>\n",
       "      <td>NaN</td>\n",
       "      <td>144.0</td>\n",
       "    </tr>\n",
       "  </tbody>\n",
       "</table>\n",
       "<p>381374 rows × 18 columns</p>\n",
       "</div>"
      ],
      "text/plain": [
       "       chromosome  modStart    modEnd            modId  score strand  \\\n",
       "4            chr1    135158    135159       m6A_site_5      0      -   \n",
       "5            chr1    135246    135247       m6A_site_6      0      -   \n",
       "7            chr1    139004    139005       m6A_site_8      0      -   \n",
       "8            chr1    139019    139020       m6A_site_9      0      -   \n",
       "9            chr1    139039    139040      m6A_site_10      0      -   \n",
       "...           ...       ...       ...              ...    ...    ...   \n",
       "477446       chrY  21906414  21906415  m6A_site_478160      0      -   \n",
       "477447       chrY  21906575  21906576  m6A_site_478161      0      -   \n",
       "477448       chrY  22741508  22741509  m6A_site_478162      0      +   \n",
       "477449       chrY  22741572  22741573  m6A_site_478163      0      +   \n",
       "477450       chrY  22746378  22746379  m6A_site_478164      0      +   \n",
       "\n",
       "                modName modType  supportNum  \\\n",
       "4            m6A_site_5     m6A          11   \n",
       "5            m6A_site_6     m6A          12   \n",
       "7            m6A_site_8     m6A           2   \n",
       "8            m6A_site_9     m6A           2   \n",
       "9           m6A_site_10     m6A           2   \n",
       "...                 ...     ...         ...   \n",
       "477446  m6A_site_478160     m6A           3   \n",
       "477447  m6A_site_478161     m6A           2   \n",
       "477448  m6A_site_478162     m6A          18   \n",
       "477449  m6A_site_478163     m6A          12   \n",
       "477450  m6A_site_478164     m6A           3   \n",
       "\n",
       "                                              supportList          pubmedIds  \\\n",
       "4       GSE65380,GSM1272358,GSM1272360,GSM1272362,GSM1...           25456834   \n",
       "5       GSE65380,GSM1272358,GSM1272360,GSM1272362,GSM1...  25456834,27371828   \n",
       "7                                     GSE65380,GSM2460350                NaN   \n",
       "8                                     GSE65380,GSM2460350                NaN   \n",
       "9                                     GSE65380,GSM2460350                NaN   \n",
       "...                                                   ...                ...   \n",
       "477446                   GSM1339411,GSM1339437,GSM2283214  24981863,27371828   \n",
       "477447                              GSM1339411,GSM1339437           24981863   \n",
       "477448  GSM1339403,GSM1339405,GSM1339407,GSM1339409,GS...           24981863   \n",
       "477449  GSM1339403,GSM1339405,GSM1339407,GSM1339411,GS...           24981863   \n",
       "477450                   GSM1339407,GSM1339435,GSM1339437           24981863   \n",
       "\n",
       "             geneName                                           geneType  \\\n",
       "4       RP11-34P13.15                processed_pseudogene,protein_coding   \n",
       "5       RP11-34P13.15                processed_pseudogene,protein_coding   \n",
       "7          AL627309.1                                     protein_coding   \n",
       "8          AL627309.1                                     protein_coding   \n",
       "9          AL627309.1                                     protein_coding   \n",
       "...               ...                                                ...   \n",
       "477446          KDM5D                                     protein_coding   \n",
       "477447          KDM5D                                     protein_coding   \n",
       "477448         EIF1AY                protein_coding,processed_transcript   \n",
       "477449         EIF1AY                processed_transcript,protein_coding   \n",
       "477450         EIF1AY  processed_transcript,protein_coding,protein_co...   \n",
       "\n",
       "                 region                                   sequence   motif  \\\n",
       "4             exon,utr3  CGGCCTCGGCCTCACAGCGGACTCTCCACGCCCAGCTAGCT  419.59   \n",
       "5             exon,utr3  GCAGCCTCTTCAGGCGCAGAACTTGATCTCCAGTCGGCCTT  349.63   \n",
       "7                   cds  CCAAAACTTACTCAAGTCAGACTCTCTAGTCCCAACTGCTG  344.64   \n",
       "8                   cds  ACATCATCTCCGGGCCCAAAACTTACTCAAGTCAGACTCTC  274.68   \n",
       "9                   cds  CGGCCAACTCCTGTCCCAGGACATCATCTCCGGGCCCAAAA  371.87   \n",
       "...                 ...                                        ...     ...   \n",
       "477446              cds  GCATTAAGGCCCGACATGGAACCGGGGTGTGACGAGTTCCT  299.78   \n",
       "477447             utr5  GTCAAGATGGTGGCTGTAAAACTAGGATCCCTGACGATTGG  274.68   \n",
       "477448         cds,exon  ATTAGGTAAAGGAGGTAAAAACAGGCGCAGGGGTAAAAATG  226.96   \n",
       "477449         exon,cds  TTGGTGTTTAAAGAGGATGGACAAGGTAAGACTTTTCAACT  371.87   \n",
       "477450  exon,intron,cds  GGTTTGGATAAATACATCAGACATTATATTGGTTGGTCTAC  296.92   \n",
       "\n",
       "        score.1  Number_amino_acids  \n",
       "4           NaN                 NaN  \n",
       "5           NaN                 NaN  \n",
       "7           NaN                 NaN  \n",
       "8           NaN                 NaN  \n",
       "9           NaN                 NaN  \n",
       "...         ...                 ...  \n",
       "477446      NaN              1539.0  \n",
       "477447      NaN              1539.0  \n",
       "477448      NaN               144.0  \n",
       "477449      NaN               144.0  \n",
       "477450      NaN               144.0  \n",
       "\n",
       "[381374 rows x 18 columns]"
      ]
     },
     "execution_count": 83,
     "metadata": {},
     "output_type": "execute_result"
    }
   ],
   "source": [
    "df.loc[df['supportNum'] > 1, :]"
   ]
  },
  {
   "cell_type": "code",
   "execution_count": 85,
   "metadata": {},
   "outputs": [
    {
     "data": {
      "text/plain": [
       "38"
      ]
     },
     "execution_count": 85,
     "metadata": {},
     "output_type": "execute_result"
    }
   ],
   "source": [
    "df.loc[df['supportNum'] > 1, :].groupby('geneName').size()['TCF12']"
   ]
  },
  {
   "cell_type": "code",
   "execution_count": 86,
   "metadata": {},
   "outputs": [
    {
     "data": {
      "text/plain": [
       "0.11944311089774363"
      ]
     },
     "execution_count": 86,
     "metadata": {},
     "output_type": "execute_result"
    }
   ],
   "source": [
    "(df.loc[df['supportNum'] > 1, :].groupby('geneName').size() >= df.loc[df['supportNum'] > 1, :].groupby('geneName').size()['TCF12']).mean()"
   ]
  },
  {
   "cell_type": "code",
   "execution_count": 56,
   "metadata": {},
   "outputs": [],
   "source": [
    "# get the gene size\n",
    "from Bio import SeqIO\n",
    "\n",
    "def get_gene_name(s):\n",
    "    for x in s.split():\n",
    "        if x.startswith('GN='):\n",
    "            return x[3:]\n",
    "\n",
    "\n",
    "n_aa = {get_gene_name(r.description): len(r.seq) for r in SeqIO.parse('UP000005640_9606.fasta', format='fasta')}\n",
    "df['Number_amino_acids'] = df['geneName'].map(n_aa)"
   ]
  },
  {
   "cell_type": "code",
   "execution_count": 87,
   "metadata": {},
   "outputs": [
    {
     "data": {
      "text/plain": [
       "0.3042403746097815"
      ]
     },
     "execution_count": 87,
     "metadata": {},
     "output_type": "execute_result"
    }
   ],
   "source": [
    "n_m6A = df.groupby('geneName').size().sort_values()\n",
    "n_m6A = n_m6A[n_m6A.index.isin(n_aa.keys())]\n",
    "density = n_m6A / n_m6A.index.map(n_aa)\n",
    "(density >= density['TCF12']).mean()"
   ]
  },
  {
   "cell_type": "code",
   "execution_count": 88,
   "metadata": {},
   "outputs": [
    {
     "data": {
      "text/plain": [
       "0.30238635582147033"
      ]
     },
     "execution_count": 88,
     "metadata": {},
     "output_type": "execute_result"
    }
   ],
   "source": [
    "n_m6A = df.loc[df['supportNum'] > 1, :].groupby('geneName').size().sort_values()\n",
    "n_m6A = n_m6A[n_m6A.index.isin(n_aa.keys())]\n",
    "density = n_m6A / n_m6A.index.map(n_aa)\n",
    "(density >= density['TCF12']).mean()"
   ]
  },
  {
   "cell_type": "code",
   "execution_count": 89,
   "metadata": {},
   "outputs": [
    {
     "data": {
      "text/plain": [
       "(14541,)"
      ]
     },
     "execution_count": 89,
     "metadata": {},
     "output_type": "execute_result"
    }
   ],
   "source": [
    "density.shape"
   ]
  },
  {
   "cell_type": "code",
   "execution_count": 91,
   "metadata": {},
   "outputs": [
    {
     "data": {
      "text/plain": [
       "0.08839779005524862"
      ]
     },
     "execution_count": 91,
     "metadata": {},
     "output_type": "execute_result"
    }
   ],
   "source": [
    "density['ATF3']"
   ]
  },
  {
   "cell_type": "code",
   "execution_count": 95,
   "metadata": {},
   "outputs": [
    {
     "data": {
      "text/plain": [
       "array(['24981863', nan, '27773535', '24284625,24209618',\n",
       "       '24284625,24209618,24981863,27773535,22608085',\n",
       "       '24284625,24209618,24981863,27773535,22575960,22608085',\n",
       "       '24284625,24209618,25456834,24981863,27773535,22575960,22608085',\n",
       "       '24284625,24209618,24981863,22575960,22608085',\n",
       "       '24284625,24209618,24981863,22608085',\n",
       "       '24284625,24981863,22608085', '24284625', '24284625,24981863',\n",
       "       '24284625,22608085'], dtype=object)"
      ]
     },
     "execution_count": 95,
     "metadata": {},
     "output_type": "execute_result"
    }
   ],
   "source": [
    "df.loc[df['geneName'] == 'TCF12', 'pubmedIds'].unique()"
   ]
  },
  {
   "cell_type": "code",
   "execution_count": null,
   "metadata": {},
   "outputs": [],
   "source": []
  }
 ],
 "metadata": {
  "interpreter": {
   "hash": "4ae04c9a3e8cbfaaf818a59204fe953064ae0593c0d7ed4865e22581ae0526ea"
  },
  "kernelspec": {
   "display_name": "Python 3.8.12 64-bit ('venv': venv)",
   "language": "python",
   "name": "python3"
  },
  "language_info": {
   "codemirror_mode": {
    "name": "ipython",
    "version": 3
   },
   "file_extension": ".py",
   "mimetype": "text/x-python",
   "name": "python",
   "nbconvert_exporter": "python",
   "pygments_lexer": "ipython3",
   "version": "3.8.12"
  },
  "orig_nbformat": 4
 },
 "nbformat": 4,
 "nbformat_minor": 2
}
