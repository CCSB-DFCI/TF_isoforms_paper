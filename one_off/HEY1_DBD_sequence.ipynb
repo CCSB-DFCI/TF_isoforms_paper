{
    "cells": [
        {
            "cell_type": "code",
            "execution_count": 1,
            "metadata": {},
            "outputs": [
                {
                    "name": "stdout",
                    "output_type": "stream",
                    "text": [
                        "reading from cache\n"
                    ]
                }
            ],
            "source": [
                "from data_loading import load_annotated_TFiso1_collection\n",
                "\n",
                "tfs = load_annotated_TFiso1_collection()"
            ]
        },
        {
            "cell_type": "code",
            "execution_count": 2,
            "metadata": {},
            "outputs": [
                {
                    "data": {
                        "image/png": "[encoded data removed]",
                        "text/plain": [
                            "<Figure size 432x288 with 1 Axes>"
                        ]
                    },
                    "metadata": {
                        "needs_background": "light"
                    },
                    "output_type": "display_data"
                }
            ],
            "source": [
                "tfs['HEY1'].exon_diagram()"
            ]
        },
        {
            "cell_type": "code",
            "execution_count": 3,
            "metadata": {},
            "outputs": [
                {
                    "data": {
                        "text/plain": [
                            "[Pfam_domain: PF00010 HLH 50-105,\n",
                            " Pfam_domain: PF07527 Hairy_orange 121-163,\n",
                            " DBD_flank: PF00010_flank_N N_DBD_flank 35-49,\n",
                            " DBD_flank: PF00010_flank_C C_DBD_flank 106-120,\n",
                            " effector_domain: Effector 0241 RD 1-63]"
                        ]
                    },
                    "execution_count": 3,
                    "metadata": {},
                    "output_type": "execute_result"
                }
            ],
            "source": [
                "tfs['HEY1']['HEY1-2'].aa_seq_features"
            ]
        },
        {
            "cell_type": "code",
            "execution_count": 11,
            "metadata": {},
            "outputs": [
                {
                    "data": {
                        "text/plain": [
                            "'ALGSMSPTTSSQILARKRRRGIIEKRRRDRINNSLSELRRLVPSAFEKQGSAKLEKAEILQMTVDHLKMLHTAGGKGYFDAHALAM'"
                        ]
                    },
                    "execution_count": 11,
                    "metadata": {},
                    "output_type": "execute_result"
                }
            ],
            "source": [
                "tfs['HEY1']['HEY1-2'].aa_seq[49-15:105+15]"
            ]
        },
        {
            "cell_type": "code",
            "execution_count": 12,
            "metadata": {},
            "outputs": [
                {
                    "data": {
                        "text/plain": [
                            "'ALGSMSPTTSSQILARKRRRGIIEKRRRDRINNSLSELRRLVPSAFEKQVMEQGSAKLEKAEILQMTVDHLKMLHTAGGKGYFDAHALAM'"
                        ]
                    },
                    "execution_count": 12,
                    "metadata": {},
                    "output_type": "execute_result"
                }
            ],
            "source": [
                "tfs['HEY1']['HEY1-1'].aa_seq[49-15:109+15]"
            ]
        },
        {
            "cell_type": "code",
            "execution_count": 4,
            "metadata": {},
            "outputs": [
                {
                    "data": {
                        "text/plain": [
                            "[Pfam_domain: PF00010 HLH 50-109,\n",
                            " Pfam_domain: PF07527 Hairy_orange 125-167,\n",
                            " DBD_flank: PF00010_flank_N N_DBD_flank 35-49,\n",
                            " DBD_flank: PF00010_flank_C C_DBD_flank 110-124,\n",
                            " effector_domain: Effector 0241 RD 1-63]"
                        ]
                    },
                    "execution_count": 4,
                    "metadata": {},
                    "output_type": "execute_result"
                }
            ],
            "source": [
                "tfs['HEY1']['HEY1-1'].aa_seq_features"
            ]
        },
        {
            "cell_type": "code",
            "execution_count": null,
            "metadata": {},
            "outputs": [],
            "source": []
        }
    ],
    "metadata": {
        "kernelspec": {
            "display_name": "venv",
            "language": "python",
            "name": "python3"
        },
        "language_info": {
            "codemirror_mode": {
                "name": "ipython",
                "version": 3
            },
            "file_extension": ".py",
            "mimetype": "text/x-python",
            "name": "python",
            "nbconvert_exporter": "python",
            "pygments_lexer": "ipython3",
            "version": "3.8.13"
        },
        "orig_nbformat": 4
    },
    "nbformat": 4,
    "nbformat_minor": 2
}