{
 "cells": [
  {
   "cell_type": "code",
   "execution_count": 1,
   "metadata": {},
   "outputs": [],
   "source": [
    "from matplotlib import pyplot as plt\n",
    "import pandas as pd\n",
    "\n",
    "from ccsblib import paros_connection\n",
    "from ccsblib import ccsbplotlib as cplt"
   ]
  },
  {
   "cell_type": "code",
   "execution_count": 4,
   "metadata": {},
   "outputs": [],
   "source": [
    "df = pd.read_csv('mN2H validation TFv02 - labels.tsv', sep='\\t')\n",
    "empty_col = 'empty_wells_after_LR (reading horizontally a1 to a12, then b1 to b12)'\n",
    "df = df.dropna()\n",
    "df = df.loc[df[empty_col] != 'There is no such plate', :]\n",
    "\n",
    "def extract_positions(s):\n",
    "    l = []\n",
    "    for item in s.split(', '):\n",
    "        if '-' in item:\n",
    "            start = int(item.split('-')[0][1:])\n",
    "            stop = int(item.split('-')[1][1:])\n",
    "            for i in range(start, stop + 1):\n",
    "                l.append(item[0] + str(i))\n",
    "        else:\n",
    "            l.append(item)\n",
    "    return [x[0].upper() + x[1:].zfill(2) for x in l]\n",
    "\n",
    "df['position'] = df[empty_col].apply(extract_positions)\n",
    "df = df.explode('position')\n",
    "df = df.loc[:, ['cp_entry_labels', 'position']]"
   ]
  },
  {
   "cell_type": "code",
   "execution_count": 3,
   "metadata": {},
   "outputs": [
    {
     "ename": "UserWarning",
     "evalue": "Failed to connect to database.\nMaybe you are outside the internal network and forgot to to start the VPN?",
     "output_type": "error",
     "traceback": [
      "\u001b[0;31m---------------------------------------------------------------------------\u001b[0m",
      "\u001b[0;31mgaierror\u001b[0m                                  Traceback (most recent call last)",
      "\u001b[0;32m~/work/tf_isoforms/venv/lib/python3.8/site-packages/pymysql/connections.py\u001b[0m in \u001b[0;36mconnect\u001b[0;34m(self, sock)\u001b[0m\n\u001b[1;32m    580\u001b[0m                         \u001b[0;32mtry\u001b[0m\u001b[0;34m:\u001b[0m\u001b[0;34m\u001b[0m\u001b[0;34m\u001b[0m\u001b[0m\n\u001b[0;32m--> 581\u001b[0;31m                             sock = socket.create_connection(\n\u001b[0m\u001b[1;32m    582\u001b[0m                                 \u001b[0;34m(\u001b[0m\u001b[0mself\u001b[0m\u001b[0;34m.\u001b[0m\u001b[0mhost\u001b[0m\u001b[0;34m,\u001b[0m \u001b[0mself\u001b[0m\u001b[0;34m.\u001b[0m\u001b[0mport\u001b[0m\u001b[0;34m)\u001b[0m\u001b[0;34m,\u001b[0m \u001b[0mself\u001b[0m\u001b[0;34m.\u001b[0m\u001b[0mconnect_timeout\u001b[0m\u001b[0;34m,\u001b[0m\u001b[0;34m\u001b[0m\u001b[0;34m\u001b[0m\u001b[0m\n",
      "\u001b[0;32m/usr/local/opt/python@3.8/Frameworks/Python.framework/Versions/3.8/lib/python3.8/socket.py\u001b[0m in \u001b[0;36mcreate_connection\u001b[0;34m(address, timeout, source_address)\u001b[0m\n\u001b[1;32m    786\u001b[0m     \u001b[0merr\u001b[0m \u001b[0;34m=\u001b[0m \u001b[0;32mNone\u001b[0m\u001b[0;34m\u001b[0m\u001b[0;34m\u001b[0m\u001b[0m\n\u001b[0;32m--> 787\u001b[0;31m     \u001b[0;32mfor\u001b[0m \u001b[0mres\u001b[0m \u001b[0;32min\u001b[0m \u001b[0mgetaddrinfo\u001b[0m\u001b[0;34m(\u001b[0m\u001b[0mhost\u001b[0m\u001b[0;34m,\u001b[0m \u001b[0mport\u001b[0m\u001b[0;34m,\u001b[0m \u001b[0;36m0\u001b[0m\u001b[0;34m,\u001b[0m \u001b[0mSOCK_STREAM\u001b[0m\u001b[0;34m)\u001b[0m\u001b[0;34m:\u001b[0m\u001b[0;34m\u001b[0m\u001b[0;34m\u001b[0m\u001b[0m\n\u001b[0m\u001b[1;32m    788\u001b[0m         \u001b[0maf\u001b[0m\u001b[0;34m,\u001b[0m \u001b[0msocktype\u001b[0m\u001b[0;34m,\u001b[0m \u001b[0mproto\u001b[0m\u001b[0;34m,\u001b[0m \u001b[0mcanonname\u001b[0m\u001b[0;34m,\u001b[0m \u001b[0msa\u001b[0m \u001b[0;34m=\u001b[0m \u001b[0mres\u001b[0m\u001b[0;34m\u001b[0m\u001b[0;34m\u001b[0m\u001b[0m\n",
      "\u001b[0;32m/usr/local/opt/python@3.8/Frameworks/Python.framework/Versions/3.8/lib/python3.8/socket.py\u001b[0m in \u001b[0;36mgetaddrinfo\u001b[0;34m(host, port, family, type, proto, flags)\u001b[0m\n\u001b[1;32m    917\u001b[0m     \u001b[0maddrlist\u001b[0m \u001b[0;34m=\u001b[0m \u001b[0;34m[\u001b[0m\u001b[0;34m]\u001b[0m\u001b[0;34m\u001b[0m\u001b[0;34m\u001b[0m\u001b[0m\n\u001b[0;32m--> 918\u001b[0;31m     \u001b[0;32mfor\u001b[0m \u001b[0mres\u001b[0m \u001b[0;32min\u001b[0m \u001b[0m_socket\u001b[0m\u001b[0;34m.\u001b[0m\u001b[0mgetaddrinfo\u001b[0m\u001b[0;34m(\u001b[0m\u001b[0mhost\u001b[0m\u001b[0;34m,\u001b[0m \u001b[0mport\u001b[0m\u001b[0;34m,\u001b[0m \u001b[0mfamily\u001b[0m\u001b[0;34m,\u001b[0m \u001b[0mtype\u001b[0m\u001b[0;34m,\u001b[0m \u001b[0mproto\u001b[0m\u001b[0;34m,\u001b[0m \u001b[0mflags\u001b[0m\u001b[0;34m)\u001b[0m\u001b[0;34m:\u001b[0m\u001b[0;34m\u001b[0m\u001b[0;34m\u001b[0m\u001b[0m\n\u001b[0m\u001b[1;32m    919\u001b[0m         \u001b[0maf\u001b[0m\u001b[0;34m,\u001b[0m \u001b[0msocktype\u001b[0m\u001b[0;34m,\u001b[0m \u001b[0mproto\u001b[0m\u001b[0;34m,\u001b[0m \u001b[0mcanonname\u001b[0m\u001b[0;34m,\u001b[0m \u001b[0msa\u001b[0m \u001b[0;34m=\u001b[0m \u001b[0mres\u001b[0m\u001b[0;34m\u001b[0m\u001b[0;34m\u001b[0m\u001b[0m\n",
      "\u001b[0;31mgaierror\u001b[0m: [Errno 8] nodename nor servname provided, or not known",
      "\nDuring handling of the above exception, another exception occurred:\n",
      "\u001b[0;31mOperationalError\u001b[0m                          Traceback (most recent call last)",
      "\u001b[0;32m~/work/tf_isoforms/venv/lib/python3.8/site-packages/ccsblib/utils.py\u001b[0m in \u001b[0;36mparos_connection\u001b[0;34m(**kwargs)\u001b[0m\n\u001b[1;32m    250\u001b[0m             \u001b[0;32mtry\u001b[0m\u001b[0;34m:\u001b[0m\u001b[0;34m\u001b[0m\u001b[0;34m\u001b[0m\u001b[0m\n\u001b[0;32m--> 251\u001b[0;31m                 \u001b[0;32mreturn\u001b[0m \u001b[0mpymysql\u001b[0m\u001b[0;34m.\u001b[0m\u001b[0mconnect\u001b[0m\u001b[0;34m(\u001b[0m\u001b[0mhost\u001b[0m\u001b[0;34m,\u001b[0m \u001b[0muser\u001b[0m\u001b[0;34m=\u001b[0m\u001b[0mun\u001b[0m\u001b[0;34m,\u001b[0m \u001b[0mpassword\u001b[0m\u001b[0;34m=\u001b[0m\u001b[0mpw\u001b[0m\u001b[0;34m,\u001b[0m \u001b[0;34m**\u001b[0m\u001b[0mkwargs\u001b[0m\u001b[0;34m)\u001b[0m\u001b[0;34m\u001b[0m\u001b[0;34m\u001b[0m\u001b[0m\n\u001b[0m\u001b[1;32m    252\u001b[0m             \u001b[0;32mexcept\u001b[0m \u001b[0mpymysql\u001b[0m\u001b[0;34m.\u001b[0m\u001b[0mOperationalError\u001b[0m \u001b[0;32mas\u001b[0m \u001b[0me\u001b[0m\u001b[0;34m:\u001b[0m\u001b[0;34m\u001b[0m\u001b[0;34m\u001b[0m\u001b[0m\n",
      "\u001b[0;32m~/work/tf_isoforms/venv/lib/python3.8/site-packages/pymysql/__init__.py\u001b[0m in \u001b[0;36mConnect\u001b[0;34m(*args, **kwargs)\u001b[0m\n\u001b[1;32m     93\u001b[0m     \u001b[0;32mfrom\u001b[0m \u001b[0;34m.\u001b[0m\u001b[0mconnections\u001b[0m \u001b[0;32mimport\u001b[0m \u001b[0mConnection\u001b[0m\u001b[0;34m\u001b[0m\u001b[0;34m\u001b[0m\u001b[0m\n\u001b[0;32m---> 94\u001b[0;31m     \u001b[0;32mreturn\u001b[0m \u001b[0mConnection\u001b[0m\u001b[0;34m(\u001b[0m\u001b[0;34m*\u001b[0m\u001b[0margs\u001b[0m\u001b[0;34m,\u001b[0m \u001b[0;34m**\u001b[0m\u001b[0mkwargs\u001b[0m\u001b[0;34m)\u001b[0m\u001b[0;34m\u001b[0m\u001b[0;34m\u001b[0m\u001b[0m\n\u001b[0m\u001b[1;32m     95\u001b[0m \u001b[0;34m\u001b[0m\u001b[0m\n",
      "\u001b[0;32m~/work/tf_isoforms/venv/lib/python3.8/site-packages/pymysql/connections.py\u001b[0m in \u001b[0;36m__init__\u001b[0;34m(self, host, user, password, database, port, unix_socket, charset, sql_mode, read_default_file, conv, use_unicode, client_flag, cursorclass, init_command, connect_timeout, ssl, read_default_group, compress, named_pipe, autocommit, db, passwd, local_infile, max_allowed_packet, defer_connect, auth_plugin_map, read_timeout, write_timeout, bind_address, binary_prefix, program_name, server_public_key)\u001b[0m\n\u001b[1;32m    324\u001b[0m         \u001b[0;32melse\u001b[0m\u001b[0;34m:\u001b[0m\u001b[0;34m\u001b[0m\u001b[0;34m\u001b[0m\u001b[0m\n\u001b[0;32m--> 325\u001b[0;31m             \u001b[0mself\u001b[0m\u001b[0;34m.\u001b[0m\u001b[0mconnect\u001b[0m\u001b[0;34m(\u001b[0m\u001b[0;34m)\u001b[0m\u001b[0;34m\u001b[0m\u001b[0;34m\u001b[0m\u001b[0m\n\u001b[0m\u001b[1;32m    326\u001b[0m \u001b[0;34m\u001b[0m\u001b[0m\n",
      "\u001b[0;32m~/work/tf_isoforms/venv/lib/python3.8/site-packages/pymysql/connections.py\u001b[0m in \u001b[0;36mconnect\u001b[0;34m(self, sock)\u001b[0m\n\u001b[1;32m    629\u001b[0m                 \u001b[0;32mif\u001b[0m \u001b[0mDEBUG\u001b[0m\u001b[0;34m:\u001b[0m \u001b[0mprint\u001b[0m\u001b[0;34m(\u001b[0m\u001b[0mexc\u001b[0m\u001b[0;34m.\u001b[0m\u001b[0mtraceback\u001b[0m\u001b[0;34m)\u001b[0m\u001b[0;34m\u001b[0m\u001b[0;34m\u001b[0m\u001b[0m\n\u001b[0;32m--> 630\u001b[0;31m                 \u001b[0;32mraise\u001b[0m \u001b[0mexc\u001b[0m\u001b[0;34m\u001b[0m\u001b[0;34m\u001b[0m\u001b[0m\n\u001b[0m\u001b[1;32m    631\u001b[0m \u001b[0;34m\u001b[0m\u001b[0m\n",
      "\u001b[0;31mOperationalError\u001b[0m: (2003, \"Can't connect to MySQL server on 'paros.dfci.harvard.edu' ([Errno 8] nodename nor servname provided, or not known)\")",
      "\nDuring handling of the above exception, another exception occurred:\n",
      "\u001b[0;31mUserWarning\u001b[0m                               Traceback (most recent call last)",
      "\u001b[0;32m<ipython-input-3-acd61c2cf2e5>\u001b[0m in \u001b[0;36m<module>\u001b[0;34m\u001b[0m\n\u001b[1;32m     35\u001b[0m and standard_batch = 'Tfv02';\"\"\"\n\u001b[1;32m     36\u001b[0m df = pd.merge(df, \n\u001b[0;32m---> 37\u001b[0;31m                 \u001b[0mpd\u001b[0m\u001b[0;34m.\u001b[0m\u001b[0mread_sql\u001b[0m\u001b[0;34m(\u001b[0m\u001b[0mqry\u001b[0m\u001b[0;34m,\u001b[0m \u001b[0mparos_connection\u001b[0m\u001b[0;34m(\u001b[0m\u001b[0;34m)\u001b[0m\u001b[0;34m)\u001b[0m\u001b[0;34m,\u001b[0m\u001b[0;34m\u001b[0m\u001b[0;34m\u001b[0m\u001b[0m\n\u001b[0m\u001b[1;32m     38\u001b[0m                 \u001b[0mhow\u001b[0m\u001b[0;34m=\u001b[0m\u001b[0;34m'right'\u001b[0m\u001b[0;34m,\u001b[0m\u001b[0;34m\u001b[0m\u001b[0;34m\u001b[0m\u001b[0m\n\u001b[1;32m     39\u001b[0m                 \u001b[0mleft_on\u001b[0m\u001b[0;34m=\u001b[0m\u001b[0;34m[\u001b[0m\u001b[0;34m'cp_entry_labels'\u001b[0m\u001b[0;34m,\u001b[0m \u001b[0;34m'position'\u001b[0m\u001b[0;34m]\u001b[0m\u001b[0;34m,\u001b[0m\u001b[0;34m\u001b[0m\u001b[0;34m\u001b[0m\u001b[0m\n",
      "\u001b[0;32m~/work/tf_isoforms/venv/lib/python3.8/site-packages/ccsblib/utils.py\u001b[0m in \u001b[0;36mparos_connection\u001b[0;34m(**kwargs)\u001b[0m\n\u001b[1;32m    254\u001b[0m                     \u001b[0mprint\u001b[0m\u001b[0;34m(\u001b[0m\u001b[0;34m'Wrong username or password'\u001b[0m\u001b[0;34m)\u001b[0m\u001b[0;34m\u001b[0m\u001b[0;34m\u001b[0m\u001b[0m\n\u001b[1;32m    255\u001b[0m                 \u001b[0;32melif\u001b[0m \u001b[0me\u001b[0m\u001b[0;34m.\u001b[0m\u001b[0margs\u001b[0m\u001b[0;34m[\u001b[0m\u001b[0;36m0\u001b[0m\u001b[0;34m]\u001b[0m \u001b[0;34m==\u001b[0m \u001b[0;36m2003\u001b[0m\u001b[0;34m:\u001b[0m\u001b[0;34m\u001b[0m\u001b[0;34m\u001b[0m\u001b[0m\n\u001b[0;32m--> 256\u001b[0;31m                     \u001b[0;32mraise\u001b[0m \u001b[0mUserWarning\u001b[0m\u001b[0;34m(\u001b[0m\u001b[0mcon_fail_msg\u001b[0m\u001b[0;34m)\u001b[0m\u001b[0;34m\u001b[0m\u001b[0;34m\u001b[0m\u001b[0m\n\u001b[0m\u001b[1;32m    257\u001b[0m                 \u001b[0;32melse\u001b[0m\u001b[0;34m:\u001b[0m\u001b[0;34m\u001b[0m\u001b[0;34m\u001b[0m\u001b[0m\n\u001b[1;32m    258\u001b[0m                     \u001b[0;32mraise\u001b[0m \u001b[0me\u001b[0m\u001b[0;34m\u001b[0m\u001b[0;34m\u001b[0m\u001b[0m\n",
      "\u001b[0;31mUserWarning\u001b[0m: Failed to connect to database.\nMaybe you are outside the internal network and forgot to to start the VPN?"
     ]
    }
   ],
   "source": [
    "# out of place\n",
    "# look at overlap of redone plates\n",
    "df = pd.read_csv('mN2H validation TFv02 - labels.tsv', sep='\\t')\n",
    "empty_col = 'empty_wells_after_LR (reading horizontally a1 to a12, then b1 to b12)'\n",
    "empty_col_2 = 'empty_wells_2nd_attempt'\n",
    "df = df.dropna()\n",
    "df = df.loc[df[empty_col] != 'There is no such plate', :]\n",
    "\n",
    "def extract_positions(s):\n",
    "    l = []\n",
    "    for item in s.split(', '):\n",
    "        if '-' in item:\n",
    "            start = int(item.split('-')[0][1:])\n",
    "            stop = int(item.split('-')[1][1:])\n",
    "            for i in range(start, stop + 1):\n",
    "                l.append(item[0] + str(i))\n",
    "        else:\n",
    "            l.append(item)\n",
    "    return [x[0].upper() + x[1:].zfill(2) for x in l]\n",
    "\n",
    "df['first'] = df[empty_col].apply(extract_positions)\n",
    "df['second'] = df[empty_col_2].apply(extract_positions)\n",
    "df = pd.melt(df,\n",
    "        id_vars='cp_entry_labels',\n",
    "        value_vars=['first',\n",
    "                    'second'],\n",
    "        value_name='position',\n",
    "        var_name='repeat')\n",
    "df = df.explode('position')\n",
    "qry = \"\"\"select a.test_orf_id, a.node_pla_full, a.node_pos, b.src_collection, b.cds_len\n",
    "from tf_validation.validation_nodes_1strnd as a\n",
    "left join hi_ref.master_ref as b\n",
    "on a.test_orf_id = b.orf_id\n",
    "where a.config = 'B'\n",
    "and standard_batch = 'Tfv02';\"\"\"\n",
    "df = pd.merge(df, \n",
    "                pd.read_sql(qry, paros_connection()),\n",
    "                how='right',\n",
    "                left_on=['cp_entry_labels', 'position'],\n",
    "                right_on=['node_pla_full', 'node_pos'])\n",
    "df = df.loc[df['node_pla_full'].isin(['TFv02R1Eb002', 'TFv02R1Eb006', 'TFv02R1Eb007']), :]\n",
    "df['repeat'] = df['repeat'].fillna('first')\n",
    "df['is_missing'] = ~df['cp_entry_labels'].isnull()\n",
    "df = df.pivot_table(index=['node_pla_full', 'node_pos'],\n",
    "         values=['is_missing'],\n",
    "         columns=['repeat']).sort_index()\n",
    "df[('is_missing', 'first')] = df[('is_missing', 'first')].fillna(False)\n",
    "df[('is_missing', 'second')] = df[('is_missing', 'second')].fillna(False)"
   ]
  },
  {
   "cell_type": "code",
   "execution_count": 53,
   "metadata": {},
   "outputs": [],
   "source": [
    "# out of place\n",
    "# look at overlap of redone plates\n",
    "df = pd.read_csv('mN2H validation TFv02 - labels.tsv', sep='\\t')\n",
    "empty_col = 'empty_wells_after_LR (reading horizontally a1 to a12, then b1 to b12)'\n",
    "empty_col_2 = 'empty_wells_2nd_attempt'\n",
    "df[empty_col_2] = df[empty_col_2].fillna('')\n",
    "df = df.dropna()\n",
    "df = df.loc[df[empty_col] != 'There is no such plate', :]\n",
    "\n",
    "def extract_positions(s):\n",
    "    if s == '':\n",
    "        return []\n",
    "    l = []\n",
    "    for item in s.split(', '):\n",
    "        if '-' in item:\n",
    "            start = int(item.split('-')[0][1:])\n",
    "            stop = int(item.split('-')[1][1:])\n",
    "            for i in range(start, stop + 1):\n",
    "                l.append(item[0] + str(i))\n",
    "        else:\n",
    "            l.append(item)\n",
    "    return [x[0].upper() + x[1:].zfill(2) for x in l]\n",
    "\n",
    "df['first'] = df[empty_col].apply(extract_positions)\n",
    "df['second'] = df[empty_col_2].apply(extract_positions)\n",
    "df = pd.melt(df,\n",
    "        id_vars='cp_entry_labels',\n",
    "        value_vars=['first',\n",
    "                    'second'],\n",
    "        value_name='position',\n",
    "        var_name='repeat')\n",
    "df = df.explode('position')\n",
    "qry = \"\"\"select a.test_orf_id, a.node_pla_full, a.node_pos, b.src_collection, b.cds_len, a.config\n",
    "from tf_validation.validation_nodes_1strnd as a\n",
    "left join hi_ref.master_ref as b\n",
    "on a.test_orf_id = b.orf_id\n",
    "where standard_batch = 'Tfv02';\"\"\"\n",
    "df_first = pd.merge(df.loc[df['repeat'] == 'first', :], \n",
    "                pd.read_sql(qry, paros_connection()),\n",
    "                how='right',\n",
    "                left_on=['cp_entry_labels', 'position'],\n",
    "                right_on=['node_pla_full', 'node_pos'])\n",
    "df_first['repeat'] = df_first['repeat'].fillna('first')\n",
    "df_second = pd.merge(df.loc[df['repeat'] == 'second', :], \n",
    "                pd.read_sql(qry, paros_connection()),\n",
    "                how='right',\n",
    "                left_on=['cp_entry_labels', 'position'],\n",
    "                right_on=['node_pla_full', 'node_pos'])\n",
    "df_second = df_second.loc[df_second['node_pla_full'].isin(['TFv02R1Eb002', 'TFv02R1Eb006', 'TFv02R1Eb007']), :]\n",
    "df_second['repeat'] = df_second['repeat'].fillna('second')\n",
    "df = pd.concat([df_first, df_second])\n",
    "df['is_missing'] = ~df['cp_entry_labels'].isnull()"
   ]
  },
  {
   "cell_type": "code",
   "execution_count": 54,
   "metadata": {},
   "outputs": [
    {
     "data": {
      "text/plain": [
       "repeat  node_pla_full\n",
       "first   TFv02R1Ea001     0.000000\n",
       "        TFv02R1Ea002     0.000000\n",
       "        TFv02R1Ea003     0.031915\n",
       "        TFv02R1Ea004     0.052632\n",
       "        TFv02R1Ea005     0.042553\n",
       "        TFv02R1Ea006     0.031915\n",
       "        TFv02R1Ea007     0.126316\n",
       "        TFv02R1Ea008     0.074468\n",
       "        TFv02R1Ea009     0.042105\n",
       "        TFv02R1Ea010     0.106383\n",
       "        TFv02R1Ea011     0.205882\n",
       "        TFv02R1EaKan1    0.085714\n",
       "        TFv02R1Eb001     0.000000\n",
       "        TFv02R1Eb002     0.255319\n",
       "        TFv02R1Eb003     0.159574\n",
       "        TFv02R1Eb004     0.095745\n",
       "        TFv02R1Eb005     0.126316\n",
       "        TFv02R1Eb006     0.531915\n",
       "        TFv02R1Eb007     0.287234\n",
       "        TFv02R1Eb008     0.133333\n",
       "        TFv02R1EbKan1    0.384615\n",
       "second  TFv02R1Eb002     0.510638\n",
       "        TFv02R1Eb006     0.425532\n",
       "        TFv02R1Eb007     0.574468\n",
       "Name: is_missing, dtype: float64"
      ]
     },
     "execution_count": 54,
     "metadata": {},
     "output_type": "execute_result"
    }
   ],
   "source": [
    "# problem: need to add not missing for 2nd plate\n",
    "df.groupby(['repeat', 'node_pla_full'])['is_missing'].mean()"
   ]
  },
  {
   "cell_type": "code",
   "execution_count": 5,
   "metadata": {},
   "outputs": [
    {
     "ename": "KeyError",
     "evalue": "'is_missing'",
     "output_type": "error",
     "traceback": [
      "\u001b[0;31m---------------------------------------------------------------------------\u001b[0m",
      "\u001b[0;31mKeyError\u001b[0m                                  Traceback (most recent call last)",
      "\u001b[0;32m~/work/tf_isoforms/venv/lib/python3.8/site-packages/pandas/core/indexes/base.py\u001b[0m in \u001b[0;36mget_loc\u001b[0;34m(self, key, method, tolerance)\u001b[0m\n\u001b[1;32m   2645\u001b[0m             \u001b[0;32mtry\u001b[0m\u001b[0;34m:\u001b[0m\u001b[0;34m\u001b[0m\u001b[0;34m\u001b[0m\u001b[0m\n\u001b[0;32m-> 2646\u001b[0;31m                 \u001b[0;32mreturn\u001b[0m \u001b[0mself\u001b[0m\u001b[0;34m.\u001b[0m\u001b[0m_engine\u001b[0m\u001b[0;34m.\u001b[0m\u001b[0mget_loc\u001b[0m\u001b[0;34m(\u001b[0m\u001b[0mkey\u001b[0m\u001b[0;34m)\u001b[0m\u001b[0;34m\u001b[0m\u001b[0;34m\u001b[0m\u001b[0m\n\u001b[0m\u001b[1;32m   2647\u001b[0m             \u001b[0;32mexcept\u001b[0m \u001b[0mKeyError\u001b[0m\u001b[0;34m:\u001b[0m\u001b[0;34m\u001b[0m\u001b[0;34m\u001b[0m\u001b[0m\n",
      "\u001b[0;32mpandas/_libs/index.pyx\u001b[0m in \u001b[0;36mpandas._libs.index.IndexEngine.get_loc\u001b[0;34m()\u001b[0m\n",
      "\u001b[0;32mpandas/_libs/index.pyx\u001b[0m in \u001b[0;36mpandas._libs.index.IndexEngine.get_loc\u001b[0;34m()\u001b[0m\n",
      "\u001b[0;32mpandas/_libs/hashtable_class_helper.pxi\u001b[0m in \u001b[0;36mpandas._libs.hashtable.PyObjectHashTable.get_item\u001b[0;34m()\u001b[0m\n",
      "\u001b[0;32mpandas/_libs/hashtable_class_helper.pxi\u001b[0m in \u001b[0;36mpandas._libs.hashtable.PyObjectHashTable.get_item\u001b[0;34m()\u001b[0m\n",
      "\u001b[0;31mKeyError\u001b[0m: 'is_missing'",
      "\nDuring handling of the above exception, another exception occurred:\n",
      "\u001b[0;31mKeyError\u001b[0m                                  Traceback (most recent call last)",
      "\u001b[0;32m<ipython-input-5-c0b4131c87be>\u001b[0m in \u001b[0;36m<module>\u001b[0;34m\u001b[0m\n\u001b[1;32m      1\u001b[0m \u001b[0;31m# set of N1 orfs and N2 orfs\u001b[0m\u001b[0;34m\u001b[0m\u001b[0;34m\u001b[0m\u001b[0;34m\u001b[0m\u001b[0m\n\u001b[0;32m----> 2\u001b[0;31m \u001b[0mn1_orf_ids\u001b[0m \u001b[0;34m=\u001b[0m \u001b[0mset\u001b[0m\u001b[0;34m(\u001b[0m\u001b[0mdf\u001b[0m\u001b[0;34m.\u001b[0m\u001b[0mloc\u001b[0m\u001b[0;34m[\u001b[0m\u001b[0;34m~\u001b[0m\u001b[0mdf\u001b[0m\u001b[0;34m[\u001b[0m\u001b[0;34m'is_missing'\u001b[0m\u001b[0;34m]\u001b[0m \u001b[0;34m&\u001b[0m \u001b[0;34m(\u001b[0m\u001b[0mdf\u001b[0m\u001b[0;34m[\u001b[0m\u001b[0;34m'config'\u001b[0m\u001b[0;34m]\u001b[0m \u001b[0;34m==\u001b[0m \u001b[0;34m'A'\u001b[0m\u001b[0;34m)\u001b[0m\u001b[0;34m,\u001b[0m \u001b[0;34m'test_orf_id'\u001b[0m\u001b[0;34m]\u001b[0m\u001b[0;34m.\u001b[0m\u001b[0mastype\u001b[0m\u001b[0;34m(\u001b[0m\u001b[0mint\u001b[0m\u001b[0;34m)\u001b[0m\u001b[0;34m.\u001b[0m\u001b[0munique\u001b[0m\u001b[0;34m(\u001b[0m\u001b[0;34m)\u001b[0m\u001b[0;34m)\u001b[0m\u001b[0;34m\u001b[0m\u001b[0;34m\u001b[0m\u001b[0m\n\u001b[0m\u001b[1;32m      3\u001b[0m \u001b[0mn2_orf_ids\u001b[0m \u001b[0;34m=\u001b[0m \u001b[0mset\u001b[0m\u001b[0;34m(\u001b[0m\u001b[0mdf\u001b[0m\u001b[0;34m.\u001b[0m\u001b[0mloc\u001b[0m\u001b[0;34m[\u001b[0m\u001b[0;34m~\u001b[0m\u001b[0mdf\u001b[0m\u001b[0;34m[\u001b[0m\u001b[0;34m'is_missing'\u001b[0m\u001b[0;34m]\u001b[0m \u001b[0;34m&\u001b[0m \u001b[0;34m(\u001b[0m\u001b[0mdf\u001b[0m\u001b[0;34m[\u001b[0m\u001b[0;34m'config'\u001b[0m\u001b[0;34m]\u001b[0m \u001b[0;34m==\u001b[0m \u001b[0;34m'B'\u001b[0m\u001b[0;34m)\u001b[0m\u001b[0;34m,\u001b[0m \u001b[0;34m'test_orf_id'\u001b[0m\u001b[0;34m]\u001b[0m\u001b[0;34m.\u001b[0m\u001b[0mastype\u001b[0m\u001b[0;34m(\u001b[0m\u001b[0mint\u001b[0m\u001b[0;34m)\u001b[0m\u001b[0;34m.\u001b[0m\u001b[0munique\u001b[0m\u001b[0;34m(\u001b[0m\u001b[0;34m)\u001b[0m\u001b[0;34m)\u001b[0m\u001b[0;34m\u001b[0m\u001b[0;34m\u001b[0m\u001b[0m\n",
      "\u001b[0;32m~/work/tf_isoforms/venv/lib/python3.8/site-packages/pandas/core/frame.py\u001b[0m in \u001b[0;36m__getitem__\u001b[0;34m(self, key)\u001b[0m\n\u001b[1;32m   2798\u001b[0m             \u001b[0;32mif\u001b[0m \u001b[0mself\u001b[0m\u001b[0;34m.\u001b[0m\u001b[0mcolumns\u001b[0m\u001b[0;34m.\u001b[0m\u001b[0mnlevels\u001b[0m \u001b[0;34m>\u001b[0m \u001b[0;36m1\u001b[0m\u001b[0;34m:\u001b[0m\u001b[0;34m\u001b[0m\u001b[0;34m\u001b[0m\u001b[0m\n\u001b[1;32m   2799\u001b[0m                 \u001b[0;32mreturn\u001b[0m \u001b[0mself\u001b[0m\u001b[0;34m.\u001b[0m\u001b[0m_getitem_multilevel\u001b[0m\u001b[0;34m(\u001b[0m\u001b[0mkey\u001b[0m\u001b[0;34m)\u001b[0m\u001b[0;34m\u001b[0m\u001b[0;34m\u001b[0m\u001b[0m\n\u001b[0;32m-> 2800\u001b[0;31m             \u001b[0mindexer\u001b[0m \u001b[0;34m=\u001b[0m \u001b[0mself\u001b[0m\u001b[0;34m.\u001b[0m\u001b[0mcolumns\u001b[0m\u001b[0;34m.\u001b[0m\u001b[0mget_loc\u001b[0m\u001b[0;34m(\u001b[0m\u001b[0mkey\u001b[0m\u001b[0;34m)\u001b[0m\u001b[0;34m\u001b[0m\u001b[0;34m\u001b[0m\u001b[0m\n\u001b[0m\u001b[1;32m   2801\u001b[0m             \u001b[0;32mif\u001b[0m \u001b[0mis_integer\u001b[0m\u001b[0;34m(\u001b[0m\u001b[0mindexer\u001b[0m\u001b[0;34m)\u001b[0m\u001b[0;34m:\u001b[0m\u001b[0;34m\u001b[0m\u001b[0;34m\u001b[0m\u001b[0m\n\u001b[1;32m   2802\u001b[0m                 \u001b[0mindexer\u001b[0m \u001b[0;34m=\u001b[0m \u001b[0;34m[\u001b[0m\u001b[0mindexer\u001b[0m\u001b[0;34m]\u001b[0m\u001b[0;34m\u001b[0m\u001b[0;34m\u001b[0m\u001b[0m\n",
      "\u001b[0;32m~/work/tf_isoforms/venv/lib/python3.8/site-packages/pandas/core/indexes/base.py\u001b[0m in \u001b[0;36mget_loc\u001b[0;34m(self, key, method, tolerance)\u001b[0m\n\u001b[1;32m   2646\u001b[0m                 \u001b[0;32mreturn\u001b[0m \u001b[0mself\u001b[0m\u001b[0;34m.\u001b[0m\u001b[0m_engine\u001b[0m\u001b[0;34m.\u001b[0m\u001b[0mget_loc\u001b[0m\u001b[0;34m(\u001b[0m\u001b[0mkey\u001b[0m\u001b[0;34m)\u001b[0m\u001b[0;34m\u001b[0m\u001b[0;34m\u001b[0m\u001b[0m\n\u001b[1;32m   2647\u001b[0m             \u001b[0;32mexcept\u001b[0m \u001b[0mKeyError\u001b[0m\u001b[0;34m:\u001b[0m\u001b[0;34m\u001b[0m\u001b[0;34m\u001b[0m\u001b[0m\n\u001b[0;32m-> 2648\u001b[0;31m                 \u001b[0;32mreturn\u001b[0m \u001b[0mself\u001b[0m\u001b[0;34m.\u001b[0m\u001b[0m_engine\u001b[0m\u001b[0;34m.\u001b[0m\u001b[0mget_loc\u001b[0m\u001b[0;34m(\u001b[0m\u001b[0mself\u001b[0m\u001b[0;34m.\u001b[0m\u001b[0m_maybe_cast_indexer\u001b[0m\u001b[0;34m(\u001b[0m\u001b[0mkey\u001b[0m\u001b[0;34m)\u001b[0m\u001b[0;34m)\u001b[0m\u001b[0;34m\u001b[0m\u001b[0;34m\u001b[0m\u001b[0m\n\u001b[0m\u001b[1;32m   2649\u001b[0m         \u001b[0mindexer\u001b[0m \u001b[0;34m=\u001b[0m \u001b[0mself\u001b[0m\u001b[0;34m.\u001b[0m\u001b[0mget_indexer\u001b[0m\u001b[0;34m(\u001b[0m\u001b[0;34m[\u001b[0m\u001b[0mkey\u001b[0m\u001b[0;34m]\u001b[0m\u001b[0;34m,\u001b[0m \u001b[0mmethod\u001b[0m\u001b[0;34m=\u001b[0m\u001b[0mmethod\u001b[0m\u001b[0;34m,\u001b[0m \u001b[0mtolerance\u001b[0m\u001b[0;34m=\u001b[0m\u001b[0mtolerance\u001b[0m\u001b[0;34m)\u001b[0m\u001b[0;34m\u001b[0m\u001b[0;34m\u001b[0m\u001b[0m\n\u001b[1;32m   2650\u001b[0m         \u001b[0;32mif\u001b[0m \u001b[0mindexer\u001b[0m\u001b[0;34m.\u001b[0m\u001b[0mndim\u001b[0m \u001b[0;34m>\u001b[0m \u001b[0;36m1\u001b[0m \u001b[0;32mor\u001b[0m \u001b[0mindexer\u001b[0m\u001b[0;34m.\u001b[0m\u001b[0msize\u001b[0m \u001b[0;34m>\u001b[0m \u001b[0;36m1\u001b[0m\u001b[0;34m:\u001b[0m\u001b[0;34m\u001b[0m\u001b[0;34m\u001b[0m\u001b[0m\n",
      "\u001b[0;32mpandas/_libs/index.pyx\u001b[0m in \u001b[0;36mpandas._libs.index.IndexEngine.get_loc\u001b[0;34m()\u001b[0m\n",
      "\u001b[0;32mpandas/_libs/index.pyx\u001b[0m in \u001b[0;36mpandas._libs.index.IndexEngine.get_loc\u001b[0;34m()\u001b[0m\n",
      "\u001b[0;32mpandas/_libs/hashtable_class_helper.pxi\u001b[0m in \u001b[0;36mpandas._libs.hashtable.PyObjectHashTable.get_item\u001b[0;34m()\u001b[0m\n",
      "\u001b[0;32mpandas/_libs/hashtable_class_helper.pxi\u001b[0m in \u001b[0;36mpandas._libs.hashtable.PyObjectHashTable.get_item\u001b[0;34m()\u001b[0m\n",
      "\u001b[0;31mKeyError\u001b[0m: 'is_missing'"
     ]
    }
   ],
   "source": [
    "# set of N1 orfs and N2 orfs\n",
    "n1_orf_ids = set(df.loc[~df['is_missing'] & (df['config'] == 'A'), 'test_orf_id'].astype(int).unique())\n",
    "n2_orf_ids = set(df.loc[~df['is_missing'] & (df['config'] == 'B'), 'test_orf_id'].astype(int).unique())"
   ]
  },
  {
   "cell_type": "code",
   "execution_count": 58,
   "metadata": {},
   "outputs": [
    {
     "name": "stdout",
     "output_type": "stream",
     "text": [
      "1009 951\n",
      "746 640\n",
      "source\n",
      "TF_RRS                       0.729167\n",
      "huri_rrs                     0.846667\n",
      "isoform_matched_negatives    0.884146\n",
      "isoform_negatives            0.900000\n",
      "isoform_positives            0.813333\n",
      "lit_bm_2013_rand250          0.805000\n",
      "litbm                        0.692308\n",
      "whole_tf_genes               0.748148\n",
      "Name: both_orfs, dtype: float64\n",
      "source\n",
      "TF_RRS                       105.0\n",
      "huri_rrs                     254.0\n",
      "isoform_matched_negatives    145.0\n",
      "isoform_negatives            135.0\n",
      "isoform_positives            244.0\n",
      "lit_bm_2013_rand250          161.0\n",
      "litbm                         99.0\n",
      "whole_tf_genes               101.0\n",
      "Name: both_orfs, dtype: float64\n"
     ]
    }
   ],
   "source": [
    "# read in the pairs with categories\n",
    "qry = \"\"\"select b.test_orf_ida, b.test_orf_idb, a.source\n",
    "from tf_validation.validation_source as a\n",
    "left join tf_validation.validation_configure as b\n",
    "using (orf_id1, orf_id2, standard_batch)\n",
    "where standard_batch = 'Tfv02';\"\"\"\n",
    "df = pd.read_sql(qry, paros_connection())\n",
    "df['both_orfs'] = df['test_orf_ida'].isin(n1_orf_ids) & df['test_orf_idb'].isin(n2_orf_ids)\n",
    "print(df['test_orf_ida'].nunique(), len(n1_orf_ids))\n",
    "print(df['test_orf_idb'].nunique(), len(n2_orf_ids))\n",
    "print(df.groupby('source')['both_orfs'].mean())\n",
    "print(df.groupby('source')['both_orfs'].sum())\n",
    "# if true, test difference in degree of missing vs not missing"
   ]
  },
  {
   "cell_type": "code",
   "execution_count": 60,
   "metadata": {},
   "outputs": [
    {
     "name": "stdout",
     "output_type": "stream",
     "text": [
      "source\n",
      "TF_RRS                       0.868056\n",
      "huri_rrs                     0.980000\n",
      "isoform_matched_negatives    0.957317\n",
      "isoform_negatives            0.940000\n",
      "isoform_positives            0.946667\n",
      "lit_bm_2013_rand250          0.925000\n",
      "litbm                        0.895105\n",
      "whole_tf_genes               0.962963\n",
      "Name: both_orfs_inc_old, dtype: float64\n",
      "source\n",
      "TF_RRS                       125.0\n",
      "huri_rrs                     294.0\n",
      "isoform_matched_negatives    157.0\n",
      "isoform_negatives            141.0\n",
      "isoform_positives            284.0\n",
      "lit_bm_2013_rand250          185.0\n",
      "litbm                        128.0\n",
      "whole_tf_genes               130.0\n",
      "Name: both_orfs_inc_old, dtype: float64\n"
     ]
    }
   ],
   "source": [
    "qry = \"\"\"select distinct test_orf_id, vector  from tf_validation.validation_nodes_final  ;  \"\"\"\n",
    "old = pd.read_sql(qry, paros_connection())\n",
    "old.head()\n",
    "n1_orf_ids_inc_old = n1_orf_ids.union(set(old.loc[old['vector'] == 'N1', 'test_orf_id'].unique()))\n",
    "n2_orf_ids_inc_old = n2_orf_ids.union(set(old.loc[old['vector'] == 'N2', 'test_orf_id'].unique()))\n",
    "df['both_orfs_inc_old'] = df['test_orf_ida'].isin(n1_orf_ids_inc_old) & df['test_orf_idb'].isin(n2_orf_ids_inc_old)\n",
    "print(df.groupby('source')['both_orfs_inc_old'].mean())\n",
    "print(df.groupby('source')['both_orfs_inc_old'].sum())\n"
   ]
  },
  {
   "cell_type": "code",
   "execution_count": 3,
   "metadata": {},
   "outputs": [
    {
     "name": "stdout",
     "output_type": "stream",
     "text": [
      "              is_missing          \n",
      "repeat             first    second\n",
      "node_pla_full                     \n",
      "TFv02R1Eb002    0.255319  0.510638\n",
      "TFv02R1Eb006    0.531915  0.425532\n",
      "TFv02R1Eb007    0.287234  0.574468\n",
      "number successful ORFs in first attempt 181\n",
      "out of  282\n",
      "number successfull combined 1st+2nd 227\n",
      "0.6418439716312057 0.49645390070921985\n",
      "0.8049645390070922\n",
      "(is_missing, first)  (is_missing, second)\n",
      "False                False                   94\n",
      "                     True                    87\n",
      "True                 False                   46\n",
      "                     True                    55\n",
      "dtype: int64\n",
      "(1.2918540729635182, 0.3223280067398766)\n",
      "\n",
      "TFv02R1Eb002\n",
      "(1.8686868686868687, 0.24001129465769974)\n",
      "\n",
      "TFv02R1Eb006\n",
      "(1.6153846153846154, 0.2992186398064006)\n",
      "\n",
      "TFv02R1Eb007\n",
      "(1.1100478468899522, 1.0)\n"
     ]
    },
    {
     "name": "stderr",
     "output_type": "stream",
     "text": [
      "/Users/lukelambourne/work/tf_isoforms/venv/lib/python3.8/site-packages/pandas/core/generic.py:3936: PerformanceWarning: dropping on a non-lexsorted multi-index without a level parameter may impact performance.\n",
      "  obj = obj._drop_axis(labels, axis, level=level, errors=errors)\n"
     ]
    }
   ],
   "source": [
    "# count values\n",
    "# test for relation\n",
    "print(df.reset_index().groupby('node_pla_full').mean())\n",
    "print('number successful ORFs in first attempt', (~df[('is_missing', 'first')]).sum())\n",
    "print('out of ', df.shape[0])\n",
    "print('number successfull combined 1st+2nd', (~df[('is_missing', 'first')] | ~df[('is_missing', 'second')]).sum())\n",
    "print((~df[('is_missing', 'first')]).mean(), (~df[('is_missing', 'second')]).mean())\n",
    "print((~df[('is_missing', 'first')] | ~df[('is_missing', 'second')]).mean())\n",
    "res = df.groupby([('is_missing', 'first'), ('is_missing', 'second')]).size()\n",
    "print(res)\n",
    "from scipy import stats\n",
    "print(stats.fisher_exact(res.values.reshape((2, 2))))\n",
    "for plate in df.reset_index()['node_pla_full'].unique():\n",
    "    print()\n",
    "    print(plate)\n",
    "    res = df.reset_index().loc[df.reset_index()['node_pla_full'] == plate, :].groupby([('is_missing', 'first'), ('is_missing', 'second')]).size()\n",
    "    print(stats.fisher_exact(res.values.reshape((2, 2))))\n",
    "    #print(res)"
   ]
  },
  {
   "cell_type": "code",
   "execution_count": 7,
   "metadata": {},
   "outputs": [
    {
     "data": {
      "text/plain": [
       "(is_missing, first)  (is_missing, second)\n",
       "False                False                   37\n",
       "                     True                    33\n",
       "True                 False                    9\n",
       "                     True                    15\n",
       "dtype: int64"
      ]
     },
     "execution_count": 7,
     "metadata": {},
     "output_type": "execute_result"
    }
   ],
   "source": [
    "df.reset_index().loc[df.reset_index()['node_pla_full'] == 'TFv02R1Eb002', :].groupby([('is_missing', 'first'), ('is_missing', 'second')]).size()"
   ]
  },
  {
   "cell_type": "code",
   "execution_count": 140,
   "metadata": {},
   "outputs": [
    {
     "data": {
      "text/html": [
       "<div>\n",
       "<style scoped>\n",
       "    .dataframe tbody tr th:only-of-type {\n",
       "        vertical-align: middle;\n",
       "    }\n",
       "\n",
       "    .dataframe tbody tr th {\n",
       "        vertical-align: top;\n",
       "    }\n",
       "\n",
       "    .dataframe thead th {\n",
       "        text-align: right;\n",
       "    }\n",
       "</style>\n",
       "<table border=\"1\" class=\"dataframe\">\n",
       "  <thead>\n",
       "    <tr style=\"text-align: right;\">\n",
       "      <th></th>\n",
       "      <th>test_orf_id</th>\n",
       "      <th>node_pla_full</th>\n",
       "      <th>node_pos</th>\n",
       "      <th>src_collection</th>\n",
       "      <th>cds_len</th>\n",
       "    </tr>\n",
       "  </thead>\n",
       "  <tbody>\n",
       "    <tr>\n",
       "      <th>0</th>\n",
       "      <td>100527</td>\n",
       "      <td>TFv02R1Eb007</td>\n",
       "      <td>F10</td>\n",
       "      <td>None</td>\n",
       "      <td>NaN</td>\n",
       "    </tr>\n",
       "    <tr>\n",
       "      <th>1</th>\n",
       "      <td>101254</td>\n",
       "      <td>TFv02R1Eb007</td>\n",
       "      <td>B11</td>\n",
       "      <td>None</td>\n",
       "      <td>NaN</td>\n",
       "    </tr>\n",
       "    <tr>\n",
       "      <th>2</th>\n",
       "      <td>101256</td>\n",
       "      <td>TFv02R1Eb007</td>\n",
       "      <td>A12</td>\n",
       "      <td>None</td>\n",
       "      <td>NaN</td>\n",
       "    </tr>\n",
       "    <tr>\n",
       "      <th>3</th>\n",
       "      <td>101414</td>\n",
       "      <td>TFv02R1Eb008</td>\n",
       "      <td>G09</td>\n",
       "      <td>None</td>\n",
       "      <td>NaN</td>\n",
       "    </tr>\n",
       "    <tr>\n",
       "      <th>4</th>\n",
       "      <td>100315</td>\n",
       "      <td>TFv02R1Eb007</td>\n",
       "      <td>A10</td>\n",
       "      <td>None</td>\n",
       "      <td>NaN</td>\n",
       "    </tr>\n",
       "  </tbody>\n",
       "</table>\n",
       "</div>"
      ],
      "text/plain": [
       "   test_orf_id node_pla_full node_pos src_collection  cds_len\n",
       "0       100527  TFv02R1Eb007      F10           None      NaN\n",
       "1       101254  TFv02R1Eb007      B11           None      NaN\n",
       "2       101256  TFv02R1Eb007      A12           None      NaN\n",
       "3       101414  TFv02R1Eb008      G09           None      NaN\n",
       "4       100315  TFv02R1Eb007      A10           None      NaN"
      ]
     },
     "execution_count": 140,
     "metadata": {},
     "output_type": "execute_result"
    }
   ],
   "source": [
    "# map to ORF ID\n",
    "qry = \"\"\"select a.test_orf_id, a.node_pla_full, a.node_pos, b.src_collection, b.cds_len\n",
    "from tf_validation.validation_nodes_1strnd as a\n",
    "left join hi_ref.master_ref as b\n",
    "on a.test_orf_id = b.orf_id\n",
    "where a.config = 'B'\n",
    "and standard_batch = 'Tfv02';\"\"\"\n",
    "\n",
    "#qry = \"\"\"select test_orf_id, node_pla_full, node_pos\n",
    "#from tf_validation.validation_nodes_1strnd\n",
    "#where standard_batch = 'Tfv02';\"\"\"\n",
    "\n",
    "df2 = pd.read_sql(qry, paros_connection())\n",
    "df2.head()"
   ]
  },
  {
   "cell_type": "code",
   "execution_count": 141,
   "metadata": {},
   "outputs": [],
   "source": [
    "qry = \"\"\"select orf_id, LENGTH(cds) as cds_len\n",
    "from tf_screen.iso6k_sequences;\"\"\"\n",
    "iso_cds_len = pd.read_sql(qry, paros_connection()).drop_duplicates().set_index('orf_id')['cds_len']\n",
    "df2['cds_len'] = df2['cds_len'].fillna(df2['test_orf_id'].map(iso_cds_len))"
   ]
  },
  {
   "cell_type": "code",
   "execution_count": 142,
   "metadata": {},
   "outputs": [],
   "source": [
    "df2.loc[(df2['test_orf_id'] > 100000) & (df2['test_orf_id'] < 110000), 'src_collection'] = 'Isoforms'"
   ]
  },
  {
   "cell_type": "code",
   "execution_count": 143,
   "metadata": {},
   "outputs": [],
   "source": [
    "# ORF sizes of plate Eb006 rows F and G\n",
    "df2.loc[(df2['node_pla_full'] == 'TFv02R1Eb006') &\n",
    "        (df2['node_pos'].str.startswith('F') |\n",
    "         df2['node_pos'].str.startswith('G')), \n",
    "         ['test_orf_id', 'node_pla_full', 'node_pos', 'cds_len']].sort_values('node_pos').to_csv('ORF-sizes-of-plate-Eb006-rows-F-and-G.tsv', sep='\\t', index=False)"
   ]
  },
  {
   "cell_type": "code",
   "execution_count": 144,
   "metadata": {},
   "outputs": [],
   "source": [
    "df = pd.merge(df, \n",
    "df2,\n",
    " how='inner',\n",
    "  left_on=['cp_entry_labels', 'position'],\n",
    "  right_on=['node_pla_full', 'node_pos'])"
   ]
  },
  {
   "cell_type": "code",
   "execution_count": 145,
   "metadata": {},
   "outputs": [
    {
     "data": {
      "text/plain": [
       "True     77\n",
       "False    24\n",
       "Name: test_orf_id, dtype: int64"
      ]
     },
     "execution_count": 145,
     "metadata": {},
     "output_type": "execute_result"
    }
   ],
   "source": [
    "((df['test_orf_id'] > 100000) & (df['test_orf_id'] < 110000)).value_counts()"
   ]
  },
  {
   "cell_type": "code",
   "execution_count": 146,
   "metadata": {},
   "outputs": [
    {
     "data": {
      "text/plain": [
       "False    479\n",
       "True     268\n",
       "Name: test_orf_id, dtype: int64"
      ]
     },
     "execution_count": 146,
     "metadata": {},
     "output_type": "execute_result"
    }
   ],
   "source": [
    "((df2['test_orf_id'] > 100000) & (df2['test_orf_id'] < 110000)).value_counts()"
   ]
  },
  {
   "cell_type": "code",
   "execution_count": 147,
   "metadata": {},
   "outputs": [
    {
     "data": {
      "text/plain": [
       "Isoforms    77\n",
       "1.1         14\n",
       "3.1          5\n",
       "5.1          3\n",
       "7.1          2\n",
       "Name: src_collection, dtype: int64"
      ]
     },
     "execution_count": 147,
     "metadata": {},
     "output_type": "execute_result"
    }
   ],
   "source": [
    "df['src_collection'].value_counts()"
   ]
  },
  {
   "cell_type": "code",
   "execution_count": 148,
   "metadata": {},
   "outputs": [
    {
     "data": {
      "text/plain": [
       "Isoforms    268\n",
       "1.1         222\n",
       "3.1          85\n",
       "5.1          66\n",
       "7.1          64\n",
       "OCAB         29\n",
       "OCAA         13\n",
       "Name: src_collection, dtype: int64"
      ]
     },
     "execution_count": 148,
     "metadata": {},
     "output_type": "execute_result"
    }
   ],
   "source": [
    "df2['src_collection'].value_counts()"
   ]
  },
  {
   "cell_type": "code",
   "execution_count": 149,
   "metadata": {},
   "outputs": [
    {
     "data": {
      "text/plain": [
       "1.1         0.063063\n",
       "3.1         0.058824\n",
       "5.1         0.045455\n",
       "7.1         0.031250\n",
       "Isoforms    0.287313\n",
       "OCAA             NaN\n",
       "OCAB             NaN\n",
       "Name: src_collection, dtype: float64"
      ]
     },
     "execution_count": 149,
     "metadata": {},
     "output_type": "execute_result"
    }
   ],
   "source": [
    "df['src_collection'].value_counts() / df2['src_collection'].value_counts()"
   ]
  },
  {
   "cell_type": "code",
   "execution_count": 150,
   "metadata": {},
   "outputs": [],
   "source": [
    "df2 = pd.merge(df, \n",
    "df2,\n",
    " how='right',\n",
    "  left_on=['cp_entry_labels', 'position'],\n",
    "  right_on=['node_pla_full', 'node_pos'])\n",
    "df2['is_missing'] = ~df2['cp_entry_labels'].isnull()"
   ]
  },
  {
   "cell_type": "code",
   "execution_count": 153,
   "metadata": {},
   "outputs": [
    {
     "data": {
      "text/html": [
       "<div>\n",
       "<style scoped>\n",
       "    .dataframe tbody tr th:only-of-type {\n",
       "        vertical-align: middle;\n",
       "    }\n",
       "\n",
       "    .dataframe tbody tr th {\n",
       "        vertical-align: top;\n",
       "    }\n",
       "\n",
       "    .dataframe thead th {\n",
       "        text-align: right;\n",
       "    }\n",
       "</style>\n",
       "<table border=\"1\" class=\"dataframe\">\n",
       "  <thead>\n",
       "    <tr style=\"text-align: right;\">\n",
       "      <th></th>\n",
       "      <th>cp_entry_labels</th>\n",
       "      <th>position</th>\n",
       "      <th>test_orf_id_x</th>\n",
       "      <th>node_pla_full_x</th>\n",
       "      <th>node_pos_x</th>\n",
       "      <th>src_collection_x</th>\n",
       "      <th>cds_len_x</th>\n",
       "      <th>test_orf_id_y</th>\n",
       "      <th>node_pla_full_y</th>\n",
       "      <th>node_pos_y</th>\n",
       "      <th>src_collection_y</th>\n",
       "      <th>cds_len_y</th>\n",
       "      <th>is_missing</th>\n",
       "    </tr>\n",
       "  </thead>\n",
       "  <tbody>\n",
       "    <tr>\n",
       "      <th>0</th>\n",
       "      <td>TFv02R1Eb002</td>\n",
       "      <td>A01</td>\n",
       "      <td>7684.0</td>\n",
       "      <td>TFv02R1Eb002</td>\n",
       "      <td>A01</td>\n",
       "      <td>1.1</td>\n",
       "      <td>2208.0</td>\n",
       "      <td>7684</td>\n",
       "      <td>TFv02R1Eb002</td>\n",
       "      <td>A01</td>\n",
       "      <td>1.1</td>\n",
       "      <td>2208.0</td>\n",
       "      <td>True</td>\n",
       "    </tr>\n",
       "    <tr>\n",
       "      <th>1</th>\n",
       "      <td>TFv02R1Eb002</td>\n",
       "      <td>B05</td>\n",
       "      <td>6449.0</td>\n",
       "      <td>TFv02R1Eb002</td>\n",
       "      <td>B05</td>\n",
       "      <td>1.1</td>\n",
       "      <td>597.0</td>\n",
       "      <td>6449</td>\n",
       "      <td>TFv02R1Eb002</td>\n",
       "      <td>B05</td>\n",
       "      <td>1.1</td>\n",
       "      <td>597.0</td>\n",
       "      <td>True</td>\n",
       "    </tr>\n",
       "    <tr>\n",
       "      <th>2</th>\n",
       "      <td>TFv02R1Eb002</td>\n",
       "      <td>B10</td>\n",
       "      <td>53018.0</td>\n",
       "      <td>TFv02R1Eb002</td>\n",
       "      <td>B10</td>\n",
       "      <td>5.1</td>\n",
       "      <td>1446.0</td>\n",
       "      <td>53018</td>\n",
       "      <td>TFv02R1Eb002</td>\n",
       "      <td>B10</td>\n",
       "      <td>5.1</td>\n",
       "      <td>1446.0</td>\n",
       "      <td>True</td>\n",
       "    </tr>\n",
       "    <tr>\n",
       "      <th>3</th>\n",
       "      <td>TFv02R1Eb002</td>\n",
       "      <td>B12</td>\n",
       "      <td>56353.0</td>\n",
       "      <td>TFv02R1Eb002</td>\n",
       "      <td>B12</td>\n",
       "      <td>5.1</td>\n",
       "      <td>4647.0</td>\n",
       "      <td>56353</td>\n",
       "      <td>TFv02R1Eb002</td>\n",
       "      <td>B12</td>\n",
       "      <td>5.1</td>\n",
       "      <td>4647.0</td>\n",
       "      <td>True</td>\n",
       "    </tr>\n",
       "    <tr>\n",
       "      <th>4</th>\n",
       "      <td>TFv02R1Eb002</td>\n",
       "      <td>C03</td>\n",
       "      <td>4361.0</td>\n",
       "      <td>TFv02R1Eb002</td>\n",
       "      <td>C03</td>\n",
       "      <td>1.1</td>\n",
       "      <td>960.0</td>\n",
       "      <td>4361</td>\n",
       "      <td>TFv02R1Eb002</td>\n",
       "      <td>C03</td>\n",
       "      <td>1.1</td>\n",
       "      <td>960.0</td>\n",
       "      <td>True</td>\n",
       "    </tr>\n",
       "  </tbody>\n",
       "</table>\n",
       "</div>"
      ],
      "text/plain": [
       "  cp_entry_labels position  test_orf_id_x node_pla_full_x node_pos_x  \\\n",
       "0    TFv02R1Eb002      A01         7684.0    TFv02R1Eb002        A01   \n",
       "1    TFv02R1Eb002      B05         6449.0    TFv02R1Eb002        B05   \n",
       "2    TFv02R1Eb002      B10        53018.0    TFv02R1Eb002        B10   \n",
       "3    TFv02R1Eb002      B12        56353.0    TFv02R1Eb002        B12   \n",
       "4    TFv02R1Eb002      C03         4361.0    TFv02R1Eb002        C03   \n",
       "\n",
       "  src_collection_x  cds_len_x  test_orf_id_y node_pla_full_y node_pos_y  \\\n",
       "0              1.1     2208.0           7684    TFv02R1Eb002        A01   \n",
       "1              1.1      597.0           6449    TFv02R1Eb002        B05   \n",
       "2              5.1     1446.0          53018    TFv02R1Eb002        B10   \n",
       "3              5.1     4647.0          56353    TFv02R1Eb002        B12   \n",
       "4              1.1      960.0           4361    TFv02R1Eb002        C03   \n",
       "\n",
       "  src_collection_y  cds_len_y  is_missing  \n",
       "0              1.1     2208.0        True  \n",
       "1              1.1      597.0        True  \n",
       "2              5.1     1446.0        True  \n",
       "3              5.1     4647.0        True  \n",
       "4              1.1      960.0        True  "
      ]
     },
     "execution_count": 153,
     "metadata": {},
     "output_type": "execute_result"
    }
   ],
   "source": [
    "df2.head()"
   ]
  },
  {
   "cell_type": "code",
   "execution_count": 154,
   "metadata": {},
   "outputs": [
    {
     "data": {
      "text/plain": [
       "Isoforms    188\n",
       "1.1          51\n",
       "3.1          19\n",
       "5.1          11\n",
       "7.1           8\n",
       "OCAB          5\n",
       "Name: src_collection_y, dtype: int64"
      ]
     },
     "execution_count": 154,
     "metadata": {},
     "output_type": "execute_result"
    }
   ],
   "source": [
    "df2.loc[df2['node_pla_full_y'].isin(['TFv02R1Eb002', 'TFv02R1Eb006', 'TFv02R1Eb007']), 'src_collection_y'].value_counts()"
   ]
  },
  {
   "cell_type": "code",
   "execution_count": 23,
   "metadata": {},
   "outputs": [
    {
     "data": {
      "text/plain": [
       "152.0"
      ]
     },
     "execution_count": 23,
     "metadata": {},
     "output_type": "execute_result"
    }
   ],
   "source": [
    "df2.groupby('cp_entry_labels')['is_missing'].sum().sum()"
   ]
  },
  {
   "cell_type": "code",
   "execution_count": 50,
   "metadata": {},
   "outputs": [
    {
     "data": {
      "image/png": "[encoded data removed]",
      "text/plain": [
       "<Figure size 432x288 with 1 Axes>"
      ]
     },
     "metadata": {
      "needs_background": "light"
     },
     "output_type": "display_data"
    }
   ],
   "source": [
    "collections = sorted(df2['src_collection_y'].unique())\n",
    "cplt.validation_plot(data=df2,\n",
    "                     result_column='is_missing',\n",
    "                     selections=[df2['src_collection_y'] == x for x in collections],\n",
    "                     labels=collections,\n",
    "                     errorbar_capsize=0.1)\n",
    "plt.ylabel('Fraction missing')\n",
    "plt.ylim(0, 0.55)\n",
    "plt.xlabel('source collection')\n",
    "plt.savefig('../figures/missing_clones_by_collection.pdf', bbox_inches='tight')"
   ]
  },
  {
   "cell_type": "code",
   "execution_count": 52,
   "metadata": {},
   "outputs": [
    {
     "data": {
      "text/html": [
       "<div>\n",
       "<style scoped>\n",
       "    .dataframe tbody tr th:only-of-type {\n",
       "        vertical-align: middle;\n",
       "    }\n",
       "\n",
       "    .dataframe tbody tr th {\n",
       "        vertical-align: top;\n",
       "    }\n",
       "\n",
       "    .dataframe thead th {\n",
       "        text-align: right;\n",
       "    }\n",
       "</style>\n",
       "<table border=\"1\" class=\"dataframe\">\n",
       "  <thead>\n",
       "    <tr style=\"text-align: right;\">\n",
       "      <th></th>\n",
       "      <th>cp_entry_labels</th>\n",
       "      <th>position</th>\n",
       "      <th>test_orf_id_x</th>\n",
       "      <th>node_pla_full_x</th>\n",
       "      <th>node_pos_x</th>\n",
       "      <th>src_collection_x</th>\n",
       "      <th>cds_len_x</th>\n",
       "      <th>test_orf_id_y</th>\n",
       "      <th>node_pla_full_y</th>\n",
       "      <th>node_pos_y</th>\n",
       "      <th>src_collection_y</th>\n",
       "      <th>cds_len_y</th>\n",
       "      <th>is_missing</th>\n",
       "    </tr>\n",
       "  </thead>\n",
       "  <tbody>\n",
       "    <tr>\n",
       "      <th>0</th>\n",
       "      <td>TFv02R1Eb002</td>\n",
       "      <td>A01</td>\n",
       "      <td>7684.0</td>\n",
       "      <td>TFv02R1Eb002</td>\n",
       "      <td>A01</td>\n",
       "      <td>1.1</td>\n",
       "      <td>2208.0</td>\n",
       "      <td>7684</td>\n",
       "      <td>TFv02R1Eb002</td>\n",
       "      <td>A01</td>\n",
       "      <td>1.1</td>\n",
       "      <td>2208.0</td>\n",
       "      <td>True</td>\n",
       "    </tr>\n",
       "    <tr>\n",
       "      <th>1</th>\n",
       "      <td>TFv02R1Eb002</td>\n",
       "      <td>B05</td>\n",
       "      <td>6449.0</td>\n",
       "      <td>TFv02R1Eb002</td>\n",
       "      <td>B05</td>\n",
       "      <td>1.1</td>\n",
       "      <td>597.0</td>\n",
       "      <td>6449</td>\n",
       "      <td>TFv02R1Eb002</td>\n",
       "      <td>B05</td>\n",
       "      <td>1.1</td>\n",
       "      <td>597.0</td>\n",
       "      <td>True</td>\n",
       "    </tr>\n",
       "    <tr>\n",
       "      <th>2</th>\n",
       "      <td>TFv02R1Eb002</td>\n",
       "      <td>B10</td>\n",
       "      <td>53018.0</td>\n",
       "      <td>TFv02R1Eb002</td>\n",
       "      <td>B10</td>\n",
       "      <td>5.1</td>\n",
       "      <td>1446.0</td>\n",
       "      <td>53018</td>\n",
       "      <td>TFv02R1Eb002</td>\n",
       "      <td>B10</td>\n",
       "      <td>5.1</td>\n",
       "      <td>1446.0</td>\n",
       "      <td>True</td>\n",
       "    </tr>\n",
       "    <tr>\n",
       "      <th>3</th>\n",
       "      <td>TFv02R1Eb002</td>\n",
       "      <td>B12</td>\n",
       "      <td>56353.0</td>\n",
       "      <td>TFv02R1Eb002</td>\n",
       "      <td>B12</td>\n",
       "      <td>5.1</td>\n",
       "      <td>4647.0</td>\n",
       "      <td>56353</td>\n",
       "      <td>TFv02R1Eb002</td>\n",
       "      <td>B12</td>\n",
       "      <td>5.1</td>\n",
       "      <td>4647.0</td>\n",
       "      <td>True</td>\n",
       "    </tr>\n",
       "    <tr>\n",
       "      <th>4</th>\n",
       "      <td>TFv02R1Eb002</td>\n",
       "      <td>C03</td>\n",
       "      <td>4361.0</td>\n",
       "      <td>TFv02R1Eb002</td>\n",
       "      <td>C03</td>\n",
       "      <td>1.1</td>\n",
       "      <td>960.0</td>\n",
       "      <td>4361</td>\n",
       "      <td>TFv02R1Eb002</td>\n",
       "      <td>C03</td>\n",
       "      <td>1.1</td>\n",
       "      <td>960.0</td>\n",
       "      <td>True</td>\n",
       "    </tr>\n",
       "  </tbody>\n",
       "</table>\n",
       "</div>"
      ],
      "text/plain": [
       "  cp_entry_labels position  test_orf_id_x node_pla_full_x node_pos_x  \\\n",
       "0    TFv02R1Eb002      A01         7684.0    TFv02R1Eb002        A01   \n",
       "1    TFv02R1Eb002      B05         6449.0    TFv02R1Eb002        B05   \n",
       "2    TFv02R1Eb002      B10        53018.0    TFv02R1Eb002        B10   \n",
       "3    TFv02R1Eb002      B12        56353.0    TFv02R1Eb002        B12   \n",
       "4    TFv02R1Eb002      C03         4361.0    TFv02R1Eb002        C03   \n",
       "\n",
       "  src_collection_x  cds_len_x  test_orf_id_y node_pla_full_y node_pos_y  \\\n",
       "0              1.1     2208.0           7684    TFv02R1Eb002        A01   \n",
       "1              1.1      597.0           6449    TFv02R1Eb002        B05   \n",
       "2              5.1     1446.0          53018    TFv02R1Eb002        B10   \n",
       "3              5.1     4647.0          56353    TFv02R1Eb002        B12   \n",
       "4              1.1      960.0           4361    TFv02R1Eb002        C03   \n",
       "\n",
       "  src_collection_y  cds_len_y  is_missing  \n",
       "0              1.1     2208.0        True  \n",
       "1              1.1      597.0        True  \n",
       "2              5.1     1446.0        True  \n",
       "3              5.1     4647.0        True  \n",
       "4              1.1      960.0        True  "
      ]
     },
     "execution_count": 52,
     "metadata": {},
     "output_type": "execute_result"
    }
   ],
   "source": [
    "df2.head()"
   ]
  },
  {
   "cell_type": "code",
   "execution_count": 58,
   "metadata": {},
   "outputs": [
    {
     "data": {
      "image/png": "[encoded data removed]",
      "text/plain": [
       "<Figure size 432x288 with 1 Axes>"
      ]
     },
     "metadata": {
      "needs_background": "light"
     },
     "output_type": "display_data"
    }
   ],
   "source": [
    "# correlation between size of ORF and dropout\n",
    "import seaborn as sns\n",
    "\n",
    "sns.boxplot(data=df2,\n",
    "              y='cds_len_y',\n",
    "              x='src_collection_y',\n",
    "              hue='is_missing')\n",
    "plt.savefig('../figures/missing-clones_by-length.pdf',\n",
    "            bbox_inches='tight')"
   ]
  },
  {
   "cell_type": "code",
   "execution_count": 3,
   "metadata": {},
   "outputs": [
    {
     "data": {
      "image/png": "[encoded data removed]",
      "text/plain": [
       "<Figure size 432x288 with 1 Axes>"
      ]
     },
     "metadata": {
      "needs_background": "light"
     },
     "output_type": "display_data"
    }
   ],
   "source": [
    "df = pd.read_csv('mN2H validation TFv02 - labels.tsv', sep='\\t')\n",
    "empty_col = 'empty_wells_after_LR (reading horizontally a1 to a12, then b1 to b12)'\n",
    "df = df.dropna()\n",
    "df = df.loc[df[empty_col] != 'There is no such plate', :]\n",
    "\n",
    "def extract_positions(s):\n",
    "    l = []\n",
    "    for item in s.split(', '):\n",
    "        if '-' in item:\n",
    "            start = int(item.split('-')[0][1:])\n",
    "            stop = int(item.split('-')[1][1:])\n",
    "            for i in range(start, stop + 1):\n",
    "                l.append(item[0] + str(i))\n",
    "        else:\n",
    "            l.append(item)\n",
    "    return [x[0].upper() + x[1:].zfill(2) for x in l]\n",
    "\n",
    "df['position'] = df[empty_col].apply(extract_positions)\n",
    "df = df.explode('position')\n",
    "df = df.loc[:, ['cp_entry_labels', 'position']]\n",
    "\n",
    "qry = \"\"\"select a.test_orf_id, a.node_pla_full, a.node_pos, b.src_collection\n",
    "from tf_validation.validation_nodes_1strnd as a\n",
    "left join hi_ref.master_ref as b\n",
    "on a.test_orf_id = b.orf_id\n",
    "where a.config = 'A'\n",
    "and standard_batch = 'Tfv02';\"\"\"\n",
    "df2 = pd.read_sql(qry, paros_connection())\n",
    "df2.loc[(df2['test_orf_id'] > 100000) & (df2['test_orf_id'] < 110000), 'src_collection'] = 'Isoforms'\n",
    "\n",
    "df = pd.merge(df, \n",
    "df2,\n",
    " how='inner',\n",
    "  left_on=['cp_entry_labels', 'position'],\n",
    "  right_on=['node_pla_full', 'node_pos'])\n",
    "\n",
    "df2 = pd.merge(df, \n",
    "df2,\n",
    " how='right',\n",
    "  left_on=['cp_entry_labels', 'position'],\n",
    "  right_on=['node_pla_full', 'node_pos'])\n",
    "df2['is_missing'] = ~df2['cp_entry_labels'].isnull()\n",
    "\n",
    "collections = sorted(df2['src_collection_y'].unique())\n",
    "cplt.validation_plot(data=df2,\n",
    "                     result_column='is_missing',\n",
    "                     selections=[df2['src_collection_y'] == x for x in collections],\n",
    "                     labels=collections,\n",
    "                     errorbar_capsize=0.1)\n",
    "plt.ylabel('Fraction missing')\n",
    "plt.ylim(0, 0.55)\n",
    "plt.xlabel('source collection')\n",
    "plt.savefig('../figures/missing_clones_by_collection_N1.pdf', bbox_inches='tight')\n"
   ]
  },
  {
   "cell_type": "code",
   "execution_count": null,
   "metadata": {},
   "outputs": [],
   "source": []
  }
 ],
 "metadata": {
  "interpreter": {
   "hash": "4ae04c9a3e8cbfaaf818a59204fe953064ae0593c0d7ed4865e22581ae0526ea"
  },
  "kernelspec": {
   "display_name": "Python 3.8.12 64-bit ('venv': venv)",
   "name": "python3"
  },
  "language_info": {
   "codemirror_mode": {
    "name": "ipython",
    "version": 3
   },
   "file_extension": ".py",
   "mimetype": "text/x-python",
   "name": "python",
   "nbconvert_exporter": "python",
   "pygments_lexer": "ipython3",
   "version": "3.8.12"
  },
  "orig_nbformat": 4
 },
 "nbformat": 4,
 "nbformat_minor": 2
}
