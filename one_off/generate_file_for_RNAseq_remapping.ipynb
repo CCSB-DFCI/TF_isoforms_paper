{
    "cells": [
        {
            "cell_type": "code",
            "execution_count": 23,
            "metadata": {},
            "outputs": [],
            "source": [
                "from Bio import SeqIO, SeqRecord, Seq\n",
                "\n",
                "from data_loading import load_annotated_6k_collection"
            ]
        },
        {
            "cell_type": "code",
            "execution_count": 2,
            "metadata": {},
            "outputs": [
                {
                    "name": "stderr",
                    "output_type": "stream",
                    "text": [
                        "100%|██████████| 2748/2748 [00:14<00:00, 195.61it/s]\n"
                    ]
                }
            ],
            "source": [
                "tfs = load_annotated_6k_collection()"
            ]
        },
        {
            "cell_type": "code",
            "execution_count": 11,
            "metadata": {},
            "outputs": [],
            "source": [
                "novel_seqs = {}\n",
                "for tf in tfs.values():\n",
                "    for iso in tf.isoforms:\n",
                "        if hasattr(iso, 'clone_acc') and iso.is_novel_isoform():\n",
                "            novel_seqs[iso.clone_acc] = iso.nt_seq"
            ]
        },
        {
            "cell_type": "code",
            "execution_count": 24,
            "metadata": {},
            "outputs": [
                {
                    "data": {
                        "text/plain": [
                            "191"
                        ]
                    },
                    "execution_count": 24,
                    "metadata": {},
                    "output_type": "execute_result"
                }
            ],
            "source": [
                "SeqIO.write([SeqRecord.SeqRecord(seq=Seq.Seq(seq), id=clone_acc) for clone_acc, seq in novel_seqs.items()],\n",
                "            '../data/processed/novel-isoforms_nt-seqs.fa', format='fasta')"
            ]
        }
    ],
    "metadata": {
        "interpreter": {
            "hash": "4ae04c9a3e8cbfaaf818a59204fe953064ae0593c0d7ed4865e22581ae0526ea"
        },
        "kernelspec": {
            "display_name": "Python 3.8.12 64-bit ('venv': venv)",
            "language": "python",
            "name": "python3"
        },
        "language_info": {
            "codemirror_mode": {
                "name": "ipython",
                "version": 3
            },
            "file_extension": ".py",
            "mimetype": "text/x-python",
            "name": "python",
            "nbconvert_exporter": "python",
            "pygments_lexer": "ipython3",
            "version": "3.8.12"
        },
        "orig_nbformat": 4
    },
    "nbformat": 4,
    "nbformat_minor": 2
}