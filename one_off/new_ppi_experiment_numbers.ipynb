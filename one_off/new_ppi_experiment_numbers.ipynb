{
    "metadata": {
        "language_info": {
            "codemirror_mode": {
                "name": "ipython",
                "version": 3
            },
            "file_extension": ".py",
            "mimetype": "text/x-python",
            "name": "python",
            "nbconvert_exporter": "python",
            "pygments_lexer": "ipython3",
            "version": "3.8.6-final"
        },
        "orig_nbformat": 2,
        "kernelspec": {
            "name": "Python 3.8.6 64-bit ('venv')",
            "display_name": "Python 3.8.6 64-bit ('venv')",
            "metadata": {
                "interpreter": {
                    "hash": "a0fe067f1acd66b9f9fc8566e220f8b6ed8d308a719a4af7403342fba39a1d10"
                }
            }
        }
    },
    "nbformat": 4,
    "nbformat_minor": 2,
    "cells": [
        {
            "source": [
                "- split isoforms and paralogs\n",
                "- require at least two isoforms and at least two partners"
            ],
            "cell_type": "markdown",
            "metadata": {}
        },
        {
            "cell_type": "code",
            "execution_count": 1,
            "metadata": {},
            "outputs": [],
            "source": [
                "import math\n",
                "\n",
                "import numpy as np\n",
                "from matplotlib import pyplot as plt\n",
                "import pandas as pd\n",
                "\n",
                "from data_loading import (load_isoform_and_paralog_y2h_data,\n",
                "                          load_y2h_isoform_data,\n",
                "                          _load_y2h_paralogs_additional_data)"
            ]
        },
        {
            "cell_type": "code",
            "execution_count": 2,
            "metadata": {},
            "outputs": [],
            "source": [
                "df = load_isoform_and_paralog_y2h_data()\n",
                "\n",
                "# could also try with valid clones dataset\n",
                "df['at_least_2_isoforms'] = df['ad_gene_symbol'].map(df.loc[df['category'] == 'tf_isoform_ppis', :].groupby('ad_gene_symbol')['ad_clone_acc'].nunique() >= 2)\n",
                "\n",
                "df['at_least_2_partners'] = df['ad_gene_symbol'].map(df.loc[df['category'] == 'tf_isoform_ppis', :].groupby('ad_gene_symbol')['db_gene_symbol'].nunique() >= 2)"
            ]
        },
        {
            "cell_type": "code",
            "execution_count": 3,
            "metadata": {},
            "outputs": [],
            "source": [
                "df['at_least_1_positive_per_partner'] = (df.groupby(['ad_gene_symbol', 'db_gene_symbol'])\n",
                "                                           ['score']\n",
                "                                          .transform(lambda row: (row == '1').any()))\n",
                "df['at_least_1_positive_per_partner'] = (df['at_least_1_positive_per_partner'] &\n",
                "                                         df['ad_gene_symbol'].map(\n",
                "                                             df.loc[(df['category'] == 'tf_isoform_ppis') &\n",
                "                                                     df['at_least_1_positive_per_partner'],\n",
                "                                                     :].groupby('ad_gene_symbol')['db_gene_symbol'].nunique() >= 2))"
            ]
        },
        {
            "cell_type": "code",
            "execution_count": 4,
            "metadata": {},
            "outputs": [
                {
                    "output_type": "execute_result",
                    "data": {
                        "text/plain": [
                            "                                                    N PPI  N TF genes  \\\n",
                            "All dataset                                          5914         164   \n",
                            "At least two isoforms per TF gene                    5538         137   \n",
                            "At least two partners per TF gene                    5447         106   \n",
                            "Partner is positive with at least one isoform p...   4578          89   \n",
                            "At least one positive per isoform                    3230          61   \n",
                            "\n",
                            "                                                    N TF isoforms  \\\n",
                            "All dataset                                                   426   \n",
                            "At least two isoforms per TF gene                             399   \n",
                            "At least two partners per TF gene                             308   \n",
                            "Partner is positive with at least one isoform p...            260   \n",
                            "At least one positive per isoform                             159   \n",
                            "\n",
                            "                                                    N PPI partners  \n",
                            "All dataset                                                    907  \n",
                            "At least two isoforms per TF gene                              791  \n",
                            "At least two partners per TF gene                              776  \n",
                            "Partner is positive with at least one isoform p...             653  \n",
                            "At least one positive per isoform                              539  "
                        ],
                        "text/html": "<div>\n<style scoped>\n    .dataframe tbody tr th:only-of-type {\n        vertical-align: middle;\n    }\n\n    .dataframe tbody tr th {\n        vertical-align: top;\n    }\n\n    .dataframe thead th {\n        text-align: right;\n    }\n</style>\n<table border=\"1\" class=\"dataframe\">\n  <thead>\n    <tr style=\"text-align: right;\">\n      <th></th>\n      <th>N PPI</th>\n      <th>N TF genes</th>\n      <th>N TF isoforms</th>\n      <th>N PPI partners</th>\n    </tr>\n  </thead>\n  <tbody>\n    <tr>\n      <th>All dataset</th>\n      <td>5914</td>\n      <td>164</td>\n      <td>426</td>\n      <td>907</td>\n    </tr>\n    <tr>\n      <th>At least two isoforms per TF gene</th>\n      <td>5538</td>\n      <td>137</td>\n      <td>399</td>\n      <td>791</td>\n    </tr>\n    <tr>\n      <th>At least two partners per TF gene</th>\n      <td>5447</td>\n      <td>106</td>\n      <td>308</td>\n      <td>776</td>\n    </tr>\n    <tr>\n      <th>Partner is positive with at least one isoform per TF gene</th>\n      <td>4578</td>\n      <td>89</td>\n      <td>260</td>\n      <td>653</td>\n    </tr>\n    <tr>\n      <th>At least one positive per isoform</th>\n      <td>3230</td>\n      <td>61</td>\n      <td>159</td>\n      <td>539</td>\n    </tr>\n  </tbody>\n</table>\n</div>"
                    },
                    "metadata": {},
                    "execution_count": 4
                }
            ],
            "source": [
                "def numbers_per_cutoff(df):\n",
                "    return {'N PPI': df.shape[0],\n",
                "            'N TF genes': df['ad_gene_symbol'].nunique(),\n",
                "            'N TF isoforms': df['ad_clone_acc'].nunique(),\n",
                "            'N PPI partners': df['db_gene_symbol'].nunique()}\n",
                "\n",
                "filtered_datasets = {'All dataset': (df.loc[df['category'] == 'tf_isoform_ppis', :]),\n",
                "              'At least two isoforms per TF gene': (df.loc[(df['category'] == 'tf_isoform_ppis') &\n",
                "                                                           df['at_least_2_isoforms'], :]),\n",
                "              'At least two partners per TF gene': (df.loc[(df['category'] == 'tf_isoform_ppis') &\n",
                "                                               df['at_least_2_isoforms'] &\n",
                "                                               df['at_least_2_partners'], :]),\n",
                "                'Partner is positive with at least one isoform per TF gene': (df.loc[(df['category'] == 'tf_isoform_ppis') &\n",
                "                                               df['at_least_2_isoforms'] &\n",
                "                                               df['at_least_2_partners'] &\n",
                "                                               df['at_least_1_positive_per_partner'], :]),\n",
                "              'At least one positive per isoform': load_y2h_isoform_data(require_at_least_one_ppi_per_isoform=True)}\n",
                "\n",
                "\n",
                "pd.DataFrame({k: numbers_per_cutoff(v) for k, v in filtered_datasets.items()}).T"
            ]
        },
        {
            "cell_type": "code",
            "execution_count": 5,
            "metadata": {},
            "outputs": [
                {
                    "output_type": "execute_result",
                    "data": {
                        "text/plain": [
                            "          category  ad_orf_id      ad_clone_acc ad_gene_symbol  db_orf_id  \\\n",
                            "0     rrs_isoforms     100303    E2F3|2/4|10A08           E2F3       5808   \n",
                            "1  tf_isoform_ppis     100588   PRRX1|3/3|09H08          PRRX1      10057   \n",
                            "2  tf_isoform_ppis     101431    RFX4|3/3|12B07           RFX4      10057   \n",
                            "3  tf_isoform_ppis     100313    TCF4|8/9|07A05           TCF4      10057   \n",
                            "4  tf_isoform_ppis     101026  ZBTB16|2/2|01D03         ZBTB16      10057   \n",
                            "\n",
                            "  db_gene_symbol score standard_batch  retest_pla retest_pos  \\\n",
                            "0            HBB     0          TFr11           1        F01   \n",
                            "1          HOXA1    NC          TFr11           1        E02   \n",
                            "2          HOXA1    NC          TFr11           1        D02   \n",
                            "3          HOXA1    NC          TFr11           1        C02   \n",
                            "4          HOXA1    NC          TFr11           1        B02   \n",
                            "\n",
                            "   in_orfeome_screen  in_focussed_screen  in_hi_union  in_lit_bm  \\\n",
                            "0              False               False        False      False   \n",
                            "1              False                True        False      False   \n",
                            "2              False                True        False      False   \n",
                            "3              False                True        False      False   \n",
                            "4              False                True         True      False   \n",
                            "\n",
                            "  at_least_2_isoforms at_least_2_partners  at_least_1_positive_per_partner  \n",
                            "0                True                True                            False  \n",
                            "1                True                True                            False  \n",
                            "2                True                True                             True  \n",
                            "3                True                True                             True  \n",
                            "4                True                True                             True  "
                        ],
                        "text/html": "<div>\n<style scoped>\n    .dataframe tbody tr th:only-of-type {\n        vertical-align: middle;\n    }\n\n    .dataframe tbody tr th {\n        vertical-align: top;\n    }\n\n    .dataframe thead th {\n        text-align: right;\n    }\n</style>\n<table border=\"1\" class=\"dataframe\">\n  <thead>\n    <tr style=\"text-align: right;\">\n      <th></th>\n      <th>category</th>\n      <th>ad_orf_id</th>\n      <th>ad_clone_acc</th>\n      <th>ad_gene_symbol</th>\n      <th>db_orf_id</th>\n      <th>db_gene_symbol</th>\n      <th>score</th>\n      <th>standard_batch</th>\n      <th>retest_pla</th>\n      <th>retest_pos</th>\n      <th>in_orfeome_screen</th>\n      <th>in_focussed_screen</th>\n      <th>in_hi_union</th>\n      <th>in_lit_bm</th>\n      <th>at_least_2_isoforms</th>\n      <th>at_least_2_partners</th>\n      <th>at_least_1_positive_per_partner</th>\n    </tr>\n  </thead>\n  <tbody>\n    <tr>\n      <th>0</th>\n      <td>rrs_isoforms</td>\n      <td>100303</td>\n      <td>E2F3|2/4|10A08</td>\n      <td>E2F3</td>\n      <td>5808</td>\n      <td>HBB</td>\n      <td>0</td>\n      <td>TFr11</td>\n      <td>1</td>\n      <td>F01</td>\n      <td>False</td>\n      <td>False</td>\n      <td>False</td>\n      <td>False</td>\n      <td>True</td>\n      <td>True</td>\n      <td>False</td>\n    </tr>\n    <tr>\n      <th>1</th>\n      <td>tf_isoform_ppis</td>\n      <td>100588</td>\n      <td>PRRX1|3/3|09H08</td>\n      <td>PRRX1</td>\n      <td>10057</td>\n      <td>HOXA1</td>\n      <td>NC</td>\n      <td>TFr11</td>\n      <td>1</td>\n      <td>E02</td>\n      <td>False</td>\n      <td>True</td>\n      <td>False</td>\n      <td>False</td>\n      <td>True</td>\n      <td>True</td>\n      <td>False</td>\n    </tr>\n    <tr>\n      <th>2</th>\n      <td>tf_isoform_ppis</td>\n      <td>101431</td>\n      <td>RFX4|3/3|12B07</td>\n      <td>RFX4</td>\n      <td>10057</td>\n      <td>HOXA1</td>\n      <td>NC</td>\n      <td>TFr11</td>\n      <td>1</td>\n      <td>D02</td>\n      <td>False</td>\n      <td>True</td>\n      <td>False</td>\n      <td>False</td>\n      <td>True</td>\n      <td>True</td>\n      <td>True</td>\n    </tr>\n    <tr>\n      <th>3</th>\n      <td>tf_isoform_ppis</td>\n      <td>100313</td>\n      <td>TCF4|8/9|07A05</td>\n      <td>TCF4</td>\n      <td>10057</td>\n      <td>HOXA1</td>\n      <td>NC</td>\n      <td>TFr11</td>\n      <td>1</td>\n      <td>C02</td>\n      <td>False</td>\n      <td>True</td>\n      <td>False</td>\n      <td>False</td>\n      <td>True</td>\n      <td>True</td>\n      <td>True</td>\n    </tr>\n    <tr>\n      <th>4</th>\n      <td>tf_isoform_ppis</td>\n      <td>101026</td>\n      <td>ZBTB16|2/2|01D03</td>\n      <td>ZBTB16</td>\n      <td>10057</td>\n      <td>HOXA1</td>\n      <td>NC</td>\n      <td>TFr11</td>\n      <td>1</td>\n      <td>B02</td>\n      <td>False</td>\n      <td>True</td>\n      <td>True</td>\n      <td>False</td>\n      <td>True</td>\n      <td>True</td>\n      <td>True</td>\n    </tr>\n  </tbody>\n</table>\n</div>"
                    },
                    "metadata": {},
                    "execution_count": 5
                }
            ],
            "source": [
                "df.head()"
            ]
        },
        {
            "cell_type": "code",
            "execution_count": 6,
            "metadata": {},
            "outputs": [
                {
                    "output_type": "stream",
                    "name": "stdout",
                    "text": [
                        "Total number of isoform PPIs in current dataset before filtering: 5914\n"
                    ]
                }
            ],
            "source": [
                "print('Total number of isoform PPIs in current dataset before filtering:',\n",
                "      (df['category'] == 'tf_isoform_ppis').sum())"
            ]
        },
        {
            "cell_type": "code",
            "execution_count": 7,
            "metadata": {},
            "outputs": [
                {
                    "output_type": "stream",
                    "name": "stdout",
                    "text": [
                        "Number of isoform PPIs 5447\n"
                    ]
                }
            ],
            "source": [
                "print('Number of isoform PPIs',\n",
                "      df.loc[(df['category'] == 'tf_isoform_ppis') &\n",
                "        df['at_least_2_isoforms'] &\n",
                "        df['at_least_2_partners'],\n",
                "       :].shape[0])"
            ]
        },
        {
            "cell_type": "code",
            "execution_count": 8,
            "metadata": {},
            "outputs": [
                {
                    "output_type": "execute_result",
                    "data": {
                        "text/plain": [
                            "array(['rrs_isoforms', 'tf_isoform_ppis', 'lit_bm_isoforms',\n",
                            "       'lit_bm_paralogs', 'tf_paralog_ppis', 'non_paralog_control',\n",
                            "       'rrs_paralogs', 'paralog_with_PDI'], dtype=object)"
                        ]
                    },
                    "metadata": {},
                    "execution_count": 8
                }
            ],
            "source": [
                "df['category'].unique()"
            ]
        },
        {
            "cell_type": "code",
            "execution_count": 9,
            "metadata": {},
            "outputs": [
                {
                    "output_type": "stream",
                    "name": "stdout",
                    "text": [
                        "Total number of paralog (+ controls) PPIs in current dataset before filtering: 7036\n"
                    ]
                }
            ],
            "source": [
                "print('Total number of paralog (+ controls) PPIs in current dataset before filtering:',\n",
                "      df['category'].isin(['tf_paralog_ppis', 'paralog_with_PDI', 'non_paralog_control']).sum())"
            ]
        },
        {
            "cell_type": "code",
            "execution_count": 13,
            "metadata": {},
            "outputs": [
                {
                    "output_type": "execute_result",
                    "data": {
                        "text/plain": [
                            "ad_gene_symbol\n",
                            "ARNT2       True\n",
                            "ARNTL       True\n",
                            "ARNTL2      True\n",
                            "ATF2        True\n",
                            "CREB1       True\n",
                            "           ...  \n",
                            "ZSCAN18     True\n",
                            "ZSCAN21     True\n",
                            "ZSCAN25    False\n",
                            "ZSCAN32     True\n",
                            "ZSCAN9      True\n",
                            "Name: ad_clone_acc, Length: 164, dtype: bool"
                        ]
                    },
                    "metadata": {},
                    "execution_count": 13
                }
            ],
            "source": [
                "(df.loc[df['category'] == 'tf_isoform_ppis', :].groupby('ad_gene_symbol')['ad_clone_acc'].nunique() >= 2)"
            ]
        },
        {
            "cell_type": "code",
            "execution_count": 17,
            "metadata": {},
            "outputs": [
                {
                    "output_type": "execute_result",
                    "data": {
                        "text/plain": [
                            "TFr08    4308\n",
                            "TFr07    2922\n",
                            "TFr09    2070\n",
                            "TFr10    1901\n",
                            "TFr12    1827\n",
                            "TFr11    1182\n",
                            "Name: standard_batch, dtype: int64"
                        ]
                    },
                    "metadata": {},
                    "execution_count": 17
                }
            ],
            "source": [
                "df['standard_batch'].value_counts()"
            ]
        },
        {
            "cell_type": "code",
            "execution_count": 56,
            "metadata": {},
            "outputs": [
                {
                    "output_type": "display_data",
                    "data": {
                        "text/plain": "<Figure size 432x288 with 1 Axes>",
                        "image/svg+xml": "<?xml version=\"1.0\" encoding=\"utf-8\" standalone=\"no\"?>\n<!DOCTYPE svg PUBLIC \"-//W3C//DTD SVG 1.1//EN\"\n  \"http://www.w3.org/Graphics/SVG/1.1/DTD/svg11.dtd\">\n<!-- Created with matplotlib (https://matplotlib.org/) -->\n<svg height=\"246.575625pt\" version=\"1.1\" viewBox=\"0 0 239.760306 246.575625\" width=\"239.760306pt\" xmlns=\"http://www.w3.org/2000/svg\" xmlns:xlink=\"http://www.w3.org/1999/xlink\">\n <defs>\n  <style type=\"text/css\">\n*{stroke-linecap:butt;stroke-linejoin:round;}\n  </style>\n </defs>\n <g id=\"figure_1\">\n  <g id=\"patch_1\">\n   <path d=\"M 0 246.575625 \nL 239.760306 246.575625 \nL 239.760306 0 \nL 0 0 \nz\n\" style=\"fill:none;\"/>\n  </g>\n  <g id=\"axes_1\">\n   <g id=\"patch_2\">\n    <path d=\"M 202.896 130.655625 \nC 202.896 110.588268 195.951001 91.126367 183.246689 75.592556 \nC 170.542376 60.058745 152.845359 49.390372 133.176961 45.408796 \nC 113.508563 41.427219 93.055623 44.372697 75.30997 53.742362 \nC 57.564317 63.112027 43.596766 78.340492 35.791928 96.827875 \nL 115.92 130.655625 \nL 202.896 130.655625 \nz\n\" style=\"fill:#1f77b4;\"/>\n   </g>\n   <g id=\"patch_3\">\n    <path d=\"M 35.791928 96.827875 \nC 30.205302 110.060963 27.982867 124.474187 29.323853 138.775472 \nC 30.66484 153.076758 35.527942 166.825594 43.477208 178.789464 \nC 51.426473 190.753334 62.217047 200.563725 74.881606 207.341183 \nC 87.546166 214.118641 101.694615 217.654407 116.058615 217.631515 \nL 115.92 130.655625 \nL 35.791928 96.827875 \nz\n\" style=\"fill:#ff7f0e;\"/>\n   </g>\n   <g id=\"patch_4\">\n    <path d=\"M 116.058615 217.631515 \nC 129.485526 217.610116 142.726883 214.479834 154.742059 208.486675 \nC 166.757235 202.493516 177.223008 193.798702 185.316883 183.085552 \nL 115.92 130.655625 \nL 116.058615 217.631515 \nz\n\" style=\"fill:#2ca02c;\"/>\n   </g>\n   <g id=\"patch_5\">\n    <path d=\"M 185.316883 183.085552 \nC 190.983026 175.585776 195.396124 167.216836 198.384199 158.304866 \nC 201.372274 149.392896 202.896 140.055185 202.896 130.655621 \nL 115.92 130.655625 \nL 185.316883 183.085552 \nz\n\" style=\"fill:#d62728;\"/>\n   </g>\n   <g id=\"matplotlib.axis_1\"/>\n   <g id=\"matplotlib.axis_2\"/>\n   <g id=\"text_1\">\n    <!-- TFr07 -->\n    <defs>\n     <path d=\"M 25.921875 0 \nL 25.921875 63.140625 \nL 2.34375 63.140625 \nL 2.34375 71.578125 \nL 59.078125 71.578125 \nL 59.078125 63.140625 \nL 35.40625 63.140625 \nL 35.40625 0 \nz\n\" id=\"ArialMT-84\"/>\n     <path d=\"M 8.203125 0 \nL 8.203125 71.578125 \nL 56.5 71.578125 \nL 56.5 63.140625 \nL 17.671875 63.140625 \nL 17.671875 40.96875 \nL 51.265625 40.96875 \nL 51.265625 32.515625 \nL 17.671875 32.515625 \nL 17.671875 0 \nz\n\" id=\"ArialMT-70\"/>\n     <path d=\"M 6.5 0 \nL 6.5 51.859375 \nL 14.40625 51.859375 \nL 14.40625 44 \nQ 17.4375 49.515625 20 51.265625 \nQ 22.5625 53.03125 25.640625 53.03125 \nQ 30.078125 53.03125 34.671875 50.203125 \nL 31.640625 42.046875 \nQ 28.421875 43.953125 25.203125 43.953125 \nQ 22.3125 43.953125 20.015625 42.21875 \nQ 17.71875 40.484375 16.75 37.40625 \nQ 15.28125 32.71875 15.28125 27.15625 \nL 15.28125 0 \nz\n\" id=\"ArialMT-114\"/>\n     <path d=\"M 4.15625 35.296875 \nQ 4.15625 48 6.765625 55.734375 \nQ 9.375 63.484375 14.515625 67.671875 \nQ 19.671875 71.875 27.484375 71.875 \nQ 33.25 71.875 37.59375 69.546875 \nQ 41.9375 67.234375 44.765625 62.859375 \nQ 47.609375 58.5 49.21875 52.21875 \nQ 50.828125 45.953125 50.828125 35.296875 \nQ 50.828125 22.703125 48.234375 14.96875 \nQ 45.65625 7.234375 40.5 3 \nQ 35.359375 -1.21875 27.484375 -1.21875 \nQ 17.140625 -1.21875 11.234375 6.203125 \nQ 4.15625 15.140625 4.15625 35.296875 \nz\nM 13.1875 35.296875 \nQ 13.1875 17.671875 17.3125 11.828125 \nQ 21.4375 6 27.484375 6 \nQ 33.546875 6 37.671875 11.859375 \nQ 41.796875 17.71875 41.796875 35.296875 \nQ 41.796875 52.984375 37.671875 58.78125 \nQ 33.546875 64.59375 27.390625 64.59375 \nQ 21.34375 64.59375 17.71875 59.46875 \nQ 13.1875 52.9375 13.1875 35.296875 \nz\n\" id=\"ArialMT-48\"/>\n     <path d=\"M 4.734375 62.203125 \nL 4.734375 70.65625 \nL 51.078125 70.65625 \nL 51.078125 63.8125 \nQ 44.234375 56.546875 37.515625 44.484375 \nQ 30.8125 32.421875 27.15625 19.671875 \nQ 24.515625 10.6875 23.78125 0 \nL 14.75 0 \nQ 14.890625 8.453125 18.0625 20.40625 \nQ 21.234375 32.375 27.171875 43.484375 \nQ 33.109375 54.59375 39.796875 62.203125 \nz\n\" id=\"ArialMT-55\"/>\n    </defs>\n    <g transform=\"translate(134.902657 39.469269)scale(0.1 -0.1)\">\n     <use xlink:href=\"#ArialMT-84\"/>\n     <use x=\"61.083984\" xlink:href=\"#ArialMT-70\"/>\n     <use x=\"122.167969\" xlink:href=\"#ArialMT-114\"/>\n     <use x=\"155.46875\" xlink:href=\"#ArialMT-48\"/>\n     <use x=\"211.083984\" xlink:href=\"#ArialMT-55\"/>\n    </g>\n   </g>\n   <g id=\"text_2\">\n    <!-- 2581 -->\n    <defs>\n     <path d=\"M 50.34375 8.453125 \nL 50.34375 0 \nL 3.03125 0 \nQ 2.9375 3.171875 4.046875 6.109375 \nQ 5.859375 10.9375 9.828125 15.625 \nQ 13.8125 20.3125 21.34375 26.46875 \nQ 33.015625 36.03125 37.109375 41.625 \nQ 41.21875 47.21875 41.21875 52.203125 \nQ 41.21875 57.421875 37.46875 61 \nQ 33.734375 64.59375 27.734375 64.59375 \nQ 21.390625 64.59375 17.578125 60.78125 \nQ 13.765625 56.984375 13.71875 50.25 \nL 4.6875 51.171875 \nQ 5.609375 61.28125 11.65625 66.578125 \nQ 17.71875 71.875 27.9375 71.875 \nQ 38.234375 71.875 44.234375 66.15625 \nQ 50.25 60.453125 50.25 52 \nQ 50.25 47.703125 48.484375 43.546875 \nQ 46.734375 39.40625 42.65625 34.8125 \nQ 38.578125 30.21875 29.109375 22.21875 \nQ 21.1875 15.578125 18.9375 13.203125 \nQ 16.703125 10.84375 15.234375 8.453125 \nz\n\" id=\"ArialMT-50\"/>\n     <path d=\"M 4.15625 18.75 \nL 13.375 19.53125 \nQ 14.40625 12.796875 18.140625 9.390625 \nQ 21.875 6 27.15625 6 \nQ 33.5 6 37.890625 10.78125 \nQ 42.28125 15.578125 42.28125 23.484375 \nQ 42.28125 31 38.0625 35.34375 \nQ 33.84375 39.703125 27 39.703125 \nQ 22.75 39.703125 19.328125 37.765625 \nQ 15.921875 35.84375 13.96875 32.765625 \nL 5.71875 33.84375 \nL 12.640625 70.609375 \nL 48.25 70.609375 \nL 48.25 62.203125 \nL 19.671875 62.203125 \nL 15.828125 42.96875 \nQ 22.265625 47.46875 29.34375 47.46875 \nQ 38.71875 47.46875 45.15625 40.96875 \nQ 51.609375 34.46875 51.609375 24.265625 \nQ 51.609375 14.546875 45.953125 7.46875 \nQ 39.0625 -1.21875 27.15625 -1.21875 \nQ 17.390625 -1.21875 11.203125 4.25 \nQ 5.03125 9.71875 4.15625 18.75 \nz\n\" id=\"ArialMT-53\"/>\n     <path d=\"M 17.671875 38.8125 \nQ 12.203125 40.828125 9.5625 44.53125 \nQ 6.9375 48.25 6.9375 53.421875 \nQ 6.9375 61.234375 12.546875 66.546875 \nQ 18.171875 71.875 27.484375 71.875 \nQ 36.859375 71.875 42.578125 66.421875 \nQ 48.296875 60.984375 48.296875 53.171875 \nQ 48.296875 48.1875 45.671875 44.5 \nQ 43.0625 40.828125 37.75 38.8125 \nQ 44.34375 36.671875 47.78125 31.875 \nQ 51.21875 27.09375 51.21875 20.453125 \nQ 51.21875 11.28125 44.71875 5.03125 \nQ 38.234375 -1.21875 27.640625 -1.21875 \nQ 17.046875 -1.21875 10.546875 5.046875 \nQ 4.046875 11.328125 4.046875 20.703125 \nQ 4.046875 27.6875 7.59375 32.390625 \nQ 11.140625 37.109375 17.671875 38.8125 \nz\nM 15.921875 53.71875 \nQ 15.921875 48.640625 19.1875 45.40625 \nQ 22.46875 42.1875 27.6875 42.1875 \nQ 32.765625 42.1875 36.015625 45.375 \nQ 39.265625 48.578125 39.265625 53.21875 \nQ 39.265625 58.0625 35.90625 61.359375 \nQ 32.5625 64.65625 27.59375 64.65625 \nQ 22.5625 64.65625 19.234375 61.421875 \nQ 15.921875 58.203125 15.921875 53.71875 \nz\nM 13.09375 20.65625 \nQ 13.09375 16.890625 14.875 13.375 \nQ 16.65625 9.859375 20.171875 7.921875 \nQ 23.6875 6 27.734375 6 \nQ 34.03125 6 38.125 10.046875 \nQ 42.234375 14.109375 42.234375 20.359375 \nQ 42.234375 26.703125 38.015625 30.859375 \nQ 33.796875 35.015625 27.4375 35.015625 \nQ 21.234375 35.015625 17.15625 30.90625 \nQ 13.09375 26.8125 13.09375 20.65625 \nz\n\" id=\"ArialMT-56\"/>\n     <path d=\"M 37.25 0 \nL 28.46875 0 \nL 28.46875 56 \nQ 25.296875 52.984375 20.140625 49.953125 \nQ 14.984375 46.921875 10.890625 45.40625 \nL 10.890625 53.90625 \nQ 18.265625 57.375 23.78125 62.296875 \nQ 29.296875 67.234375 31.59375 71.875 \nL 37.25 71.875 \nz\n\" id=\"ArialMT-49\"/>\n    </defs>\n    <g transform=\"translate(115.152302 82.092684)scale(0.1 -0.1)\">\n     <use xlink:href=\"#ArialMT-50\"/>\n     <use x=\"55.615234\" xlink:href=\"#ArialMT-53\"/>\n     <use x=\"111.230469\" xlink:href=\"#ArialMT-56\"/>\n     <use x=\"166.845703\" xlink:href=\"#ArialMT-49\"/>\n    </g>\n   </g>\n   <g id=\"text_3\">\n    <!-- TFr09 -->\n    <defs>\n     <path d=\"M 5.46875 16.546875 \nL 13.921875 17.328125 \nQ 14.984375 11.375 18.015625 8.6875 \nQ 21.046875 6 25.78125 6 \nQ 29.828125 6 32.875 7.859375 \nQ 35.9375 9.71875 37.890625 12.8125 \nQ 39.84375 15.921875 41.15625 21.1875 \nQ 42.484375 26.46875 42.484375 31.9375 \nQ 42.484375 32.515625 42.4375 33.6875 \nQ 39.796875 29.5 35.234375 26.875 \nQ 30.671875 24.265625 25.34375 24.265625 \nQ 16.453125 24.265625 10.296875 30.703125 \nQ 4.15625 37.15625 4.15625 47.703125 \nQ 4.15625 58.59375 10.578125 65.234375 \nQ 17 71.875 26.65625 71.875 \nQ 33.640625 71.875 39.421875 68.109375 \nQ 45.21875 64.359375 48.21875 57.390625 \nQ 51.21875 50.4375 51.21875 37.25 \nQ 51.21875 23.53125 48.234375 15.40625 \nQ 45.265625 7.28125 39.375 3.03125 \nQ 33.5 -1.21875 25.59375 -1.21875 \nQ 17.1875 -1.21875 11.859375 3.4375 \nQ 6.546875 8.109375 5.46875 16.546875 \nz\nM 41.453125 48.140625 \nQ 41.453125 55.71875 37.421875 60.15625 \nQ 33.40625 64.59375 27.734375 64.59375 \nQ 21.875 64.59375 17.53125 59.8125 \nQ 13.1875 55.03125 13.1875 47.40625 \nQ 13.1875 40.578125 17.3125 36.296875 \nQ 21.4375 32.03125 27.484375 32.03125 \nQ 33.59375 32.03125 37.515625 36.296875 \nQ 41.453125 40.578125 41.453125 48.140625 \nz\n\" id=\"ArialMT-57\"/>\n    </defs>\n    <g transform=\"translate(9.565741 186.188004)scale(0.1 -0.1)\">\n     <use xlink:href=\"#ArialMT-84\"/>\n     <use x=\"61.083984\" xlink:href=\"#ArialMT-70\"/>\n     <use x=\"122.167969\" xlink:href=\"#ArialMT-114\"/>\n     <use x=\"155.46875\" xlink:href=\"#ArialMT-48\"/>\n     <use x=\"211.083984\" xlink:href=\"#ArialMT-57\"/>\n    </g>\n   </g>\n   <g id=\"text_4\">\n    <!-- 1856 -->\n    <defs>\n     <path d=\"M 49.75 54.046875 \nL 41.015625 53.375 \nQ 39.84375 58.546875 37.703125 60.890625 \nQ 34.125 64.65625 28.90625 64.65625 \nQ 24.703125 64.65625 21.53125 62.3125 \nQ 17.390625 59.28125 14.984375 53.46875 \nQ 12.59375 47.65625 12.5 36.921875 \nQ 15.671875 41.75 20.265625 44.09375 \nQ 24.859375 46.4375 29.890625 46.4375 \nQ 38.671875 46.4375 44.84375 39.96875 \nQ 51.03125 33.5 51.03125 23.25 \nQ 51.03125 16.5 48.125 10.71875 \nQ 45.21875 4.9375 40.140625 1.859375 \nQ 35.0625 -1.21875 28.609375 -1.21875 \nQ 17.625 -1.21875 10.6875 6.859375 \nQ 3.765625 14.9375 3.765625 33.5 \nQ 3.765625 54.25 11.421875 63.671875 \nQ 18.109375 71.875 29.4375 71.875 \nQ 37.890625 71.875 43.28125 67.140625 \nQ 48.6875 62.40625 49.75 54.046875 \nz\nM 13.875 23.1875 \nQ 13.875 18.65625 15.796875 14.5 \nQ 17.71875 10.359375 21.1875 8.171875 \nQ 24.65625 6 28.46875 6 \nQ 34.03125 6 38.03125 10.484375 \nQ 42.046875 14.984375 42.046875 22.703125 \nQ 42.046875 30.125 38.078125 34.390625 \nQ 34.125 38.671875 28.125 38.671875 \nQ 22.171875 38.671875 18.015625 34.390625 \nQ 13.875 30.125 13.875 23.1875 \nz\n\" id=\"ArialMT-54\"/>\n    </defs>\n    <g transform=\"translate(61.33245 162.121084)scale(0.1 -0.1)\">\n     <use xlink:href=\"#ArialMT-49\"/>\n     <use x=\"55.615234\" xlink:href=\"#ArialMT-56\"/>\n     <use x=\"111.230469\" xlink:href=\"#ArialMT-53\"/>\n     <use x=\"166.845703\" xlink:href=\"#ArialMT-54\"/>\n    </g>\n   </g>\n   <g id=\"text_5\">\n    <!-- TFr12 -->\n    <g transform=\"translate(158.624265 218.854936)scale(0.1 -0.1)\">\n     <use xlink:href=\"#ArialMT-84\"/>\n     <use x=\"61.083984\" xlink:href=\"#ArialMT-70\"/>\n     <use x=\"122.167969\" xlink:href=\"#ArialMT-114\"/>\n     <use x=\"155.46875\" xlink:href=\"#ArialMT-49\"/>\n     <use x=\"211.083984\" xlink:href=\"#ArialMT-50\"/>\n    </g>\n   </g>\n   <g id=\"text_6\">\n    <!-- 867 -->\n    <g transform=\"translate(130.871829 179.939411)scale(0.1 -0.1)\">\n     <use xlink:href=\"#ArialMT-56\"/>\n     <use x=\"55.615234\" xlink:href=\"#ArialMT-54\"/>\n     <use x=\"111.230469\" xlink:href=\"#ArialMT-55\"/>\n    </g>\n   </g>\n   <g id=\"text_7\">\n    <!-- TFr11 -->\n    <g transform=\"translate(206.630618 163.654946)scale(0.1 -0.1)\">\n     <use xlink:href=\"#ArialMT-84\"/>\n     <use x=\"61.083984\" xlink:href=\"#ArialMT-70\"/>\n     <use x=\"122.167969\" xlink:href=\"#ArialMT-114\"/>\n     <use x=\"155.46875\" xlink:href=\"#ArialMT-49\"/>\n     <use x=\"203.708984\" xlink:href=\"#ArialMT-49\"/>\n    </g>\n   </g>\n   <g id=\"text_8\">\n    <!-- 608 -->\n    <g transform=\"translate(157.057113 149.830326)scale(0.1 -0.1)\">\n     <use xlink:href=\"#ArialMT-54\"/>\n     <use x=\"55.615234\" xlink:href=\"#ArialMT-48\"/>\n     <use x=\"111.230469\" xlink:href=\"#ArialMT-56\"/>\n    </g>\n   </g>\n   <g id=\"text_9\">\n    <!-- Number of isoform PPIs by experiment -->\n    <defs>\n     <path d=\"M 7.625 0 \nL 7.625 71.578125 \nL 17.328125 71.578125 \nL 54.9375 15.375 \nL 54.9375 71.578125 \nL 64.015625 71.578125 \nL 64.015625 0 \nL 54.296875 0 \nL 16.703125 56.25 \nL 16.703125 0 \nz\n\" id=\"ArialMT-78\"/>\n     <path d=\"M 40.578125 0 \nL 40.578125 7.625 \nQ 34.515625 -1.171875 24.125 -1.171875 \nQ 19.53125 -1.171875 15.546875 0.578125 \nQ 11.578125 2.34375 9.640625 5 \nQ 7.71875 7.671875 6.9375 11.53125 \nQ 6.390625 14.109375 6.390625 19.734375 \nL 6.390625 51.859375 \nL 15.1875 51.859375 \nL 15.1875 23.09375 \nQ 15.1875 16.21875 15.71875 13.8125 \nQ 16.546875 10.359375 19.234375 8.375 \nQ 21.921875 6.390625 25.875 6.390625 \nQ 29.828125 6.390625 33.296875 8.421875 \nQ 36.765625 10.453125 38.203125 13.9375 \nQ 39.65625 17.4375 39.65625 24.078125 \nL 39.65625 51.859375 \nL 48.4375 51.859375 \nL 48.4375 0 \nz\n\" id=\"ArialMT-117\"/>\n     <path d=\"M 6.59375 0 \nL 6.59375 51.859375 \nL 14.453125 51.859375 \nL 14.453125 44.578125 \nQ 16.890625 48.390625 20.9375 50.703125 \nQ 25 53.03125 30.171875 53.03125 \nQ 35.9375 53.03125 39.625 50.640625 \nQ 43.3125 48.25 44.828125 43.953125 \nQ 50.984375 53.03125 60.84375 53.03125 \nQ 68.5625 53.03125 72.703125 48.75 \nQ 76.859375 44.484375 76.859375 35.59375 \nL 76.859375 0 \nL 68.109375 0 \nL 68.109375 32.671875 \nQ 68.109375 37.9375 67.25 40.25 \nQ 66.40625 42.578125 64.15625 43.984375 \nQ 61.921875 45.40625 58.890625 45.40625 \nQ 53.421875 45.40625 49.796875 41.765625 \nQ 46.1875 38.140625 46.1875 30.125 \nL 46.1875 0 \nL 37.40625 0 \nL 37.40625 33.6875 \nQ 37.40625 39.546875 35.25 42.46875 \nQ 33.109375 45.40625 28.21875 45.40625 \nQ 24.515625 45.40625 21.359375 43.453125 \nQ 18.21875 41.5 16.796875 37.734375 \nQ 15.375 33.984375 15.375 26.90625 \nL 15.375 0 \nz\n\" id=\"ArialMT-109\"/>\n     <path d=\"M 14.703125 0 \nL 6.546875 0 \nL 6.546875 71.578125 \nL 15.328125 71.578125 \nL 15.328125 46.046875 \nQ 20.90625 53.03125 29.546875 53.03125 \nQ 34.328125 53.03125 38.59375 51.09375 \nQ 42.875 49.171875 45.625 45.671875 \nQ 48.390625 42.1875 49.953125 37.25 \nQ 51.515625 32.328125 51.515625 26.703125 \nQ 51.515625 13.375 44.921875 6.09375 \nQ 38.328125 -1.171875 29.109375 -1.171875 \nQ 19.921875 -1.171875 14.703125 6.5 \nz\nM 14.59375 26.3125 \nQ 14.59375 17 17.140625 12.84375 \nQ 21.296875 6.0625 28.375 6.0625 \nQ 34.125 6.0625 38.328125 11.0625 \nQ 42.53125 16.0625 42.53125 25.984375 \nQ 42.53125 36.140625 38.5 40.96875 \nQ 34.46875 45.796875 28.765625 45.796875 \nQ 23 45.796875 18.796875 40.796875 \nQ 14.59375 35.796875 14.59375 26.3125 \nz\n\" id=\"ArialMT-98\"/>\n     <path d=\"M 42.09375 16.703125 \nL 51.171875 15.578125 \nQ 49.03125 7.625 43.21875 3.21875 \nQ 37.40625 -1.171875 28.375 -1.171875 \nQ 17 -1.171875 10.328125 5.828125 \nQ 3.65625 12.84375 3.65625 25.484375 \nQ 3.65625 38.578125 10.390625 45.796875 \nQ 17.140625 53.03125 27.875 53.03125 \nQ 38.28125 53.03125 44.875 45.953125 \nQ 51.46875 38.875 51.46875 26.03125 \nQ 51.46875 25.25 51.421875 23.6875 \nL 12.75 23.6875 \nQ 13.234375 15.140625 17.578125 10.59375 \nQ 21.921875 6.0625 28.421875 6.0625 \nQ 33.25 6.0625 36.671875 8.59375 \nQ 40.09375 11.140625 42.09375 16.703125 \nz\nM 13.234375 30.90625 \nL 42.1875 30.90625 \nQ 41.609375 37.453125 38.875 40.71875 \nQ 34.671875 45.796875 27.984375 45.796875 \nQ 21.921875 45.796875 17.796875 41.75 \nQ 13.671875 37.703125 13.234375 30.90625 \nz\n\" id=\"ArialMT-101\"/>\n     <path id=\"ArialMT-32\"/>\n     <path d=\"M 3.328125 25.921875 \nQ 3.328125 40.328125 11.328125 47.265625 \nQ 18.015625 53.03125 27.640625 53.03125 \nQ 38.328125 53.03125 45.109375 46.015625 \nQ 51.90625 39.015625 51.90625 26.65625 \nQ 51.90625 16.65625 48.90625 10.90625 \nQ 45.90625 5.171875 40.15625 2 \nQ 34.421875 -1.171875 27.640625 -1.171875 \nQ 16.75 -1.171875 10.03125 5.8125 \nQ 3.328125 12.796875 3.328125 25.921875 \nz\nM 12.359375 25.921875 \nQ 12.359375 15.96875 16.703125 11.015625 \nQ 21.046875 6.0625 27.640625 6.0625 \nQ 34.1875 6.0625 38.53125 11.03125 \nQ 42.875 16.015625 42.875 26.21875 \nQ 42.875 35.84375 38.5 40.796875 \nQ 34.125 45.75 27.640625 45.75 \nQ 21.046875 45.75 16.703125 40.8125 \nQ 12.359375 35.890625 12.359375 25.921875 \nz\n\" id=\"ArialMT-111\"/>\n     <path d=\"M 8.6875 0 \nL 8.6875 45.015625 \nL 0.921875 45.015625 \nL 0.921875 51.859375 \nL 8.6875 51.859375 \nL 8.6875 57.375 \nQ 8.6875 62.59375 9.625 65.140625 \nQ 10.890625 68.5625 14.078125 70.671875 \nQ 17.28125 72.796875 23.046875 72.796875 \nQ 26.765625 72.796875 31.25 71.921875 \nL 29.9375 64.265625 \nQ 27.203125 64.75 24.75 64.75 \nQ 20.75 64.75 19.09375 63.03125 \nQ 17.4375 61.328125 17.4375 56.640625 \nL 17.4375 51.859375 \nL 27.546875 51.859375 \nL 27.546875 45.015625 \nL 17.4375 45.015625 \nL 17.4375 0 \nz\n\" id=\"ArialMT-102\"/>\n     <path d=\"M 6.640625 61.46875 \nL 6.640625 71.578125 \nL 15.4375 71.578125 \nL 15.4375 61.46875 \nz\nM 6.640625 0 \nL 6.640625 51.859375 \nL 15.4375 51.859375 \nL 15.4375 0 \nz\n\" id=\"ArialMT-105\"/>\n     <path d=\"M 3.078125 15.484375 \nL 11.765625 16.84375 \nQ 12.5 11.625 15.84375 8.84375 \nQ 19.1875 6.0625 25.203125 6.0625 \nQ 31.25 6.0625 34.171875 8.515625 \nQ 37.109375 10.984375 37.109375 14.3125 \nQ 37.109375 17.28125 34.515625 19 \nQ 32.71875 20.171875 25.53125 21.96875 \nQ 15.875 24.421875 12.140625 26.203125 \nQ 8.40625 27.984375 6.46875 31.125 \nQ 4.546875 34.28125 4.546875 38.09375 \nQ 4.546875 41.546875 6.125 44.5 \nQ 7.71875 47.46875 10.453125 49.421875 \nQ 12.5 50.921875 16.03125 51.96875 \nQ 19.578125 53.03125 23.640625 53.03125 \nQ 29.734375 53.03125 34.34375 51.265625 \nQ 38.96875 49.515625 41.15625 46.5 \nQ 43.359375 43.5 44.1875 38.484375 \nL 35.59375 37.3125 \nQ 35.015625 41.3125 32.203125 43.546875 \nQ 29.390625 45.796875 24.265625 45.796875 \nQ 18.21875 45.796875 15.625 43.796875 \nQ 13.03125 41.796875 13.03125 39.109375 \nQ 13.03125 37.40625 14.109375 36.03125 \nQ 15.1875 34.625 17.484375 33.6875 \nQ 18.796875 33.203125 25.25 31.453125 \nQ 34.578125 28.953125 38.25 27.359375 \nQ 41.9375 25.78125 44.03125 22.75 \nQ 46.140625 19.734375 46.140625 15.234375 \nQ 46.140625 10.84375 43.578125 6.953125 \nQ 41.015625 3.078125 36.171875 0.953125 \nQ 31.34375 -1.171875 25.25 -1.171875 \nQ 15.140625 -1.171875 9.84375 3.03125 \nQ 4.546875 7.234375 3.078125 15.484375 \nz\n\" id=\"ArialMT-115\"/>\n     <path d=\"M 7.71875 0 \nL 7.71875 71.578125 \nL 34.71875 71.578125 \nQ 41.84375 71.578125 45.609375 70.90625 \nQ 50.875 70.015625 54.4375 67.546875 \nQ 58.015625 65.09375 60.1875 60.640625 \nQ 62.359375 56.203125 62.359375 50.875 \nQ 62.359375 41.75 56.546875 35.421875 \nQ 50.734375 29.109375 35.546875 29.109375 \nL 17.1875 29.109375 \nL 17.1875 0 \nz\nM 17.1875 37.546875 \nL 35.6875 37.546875 \nQ 44.875 37.546875 48.734375 40.96875 \nQ 52.59375 44.390625 52.59375 50.59375 \nQ 52.59375 55.078125 50.3125 58.265625 \nQ 48.046875 61.46875 44.34375 62.5 \nQ 41.9375 63.140625 35.5 63.140625 \nL 17.1875 63.140625 \nz\n\" id=\"ArialMT-80\"/>\n     <path d=\"M 9.328125 0 \nL 9.328125 71.578125 \nL 18.796875 71.578125 \nL 18.796875 0 \nz\n\" id=\"ArialMT-73\"/>\n     <path d=\"M 6.203125 -19.96875 \nL 5.21875 -11.71875 \nQ 8.109375 -12.5 10.25 -12.5 \nQ 13.1875 -12.5 14.9375 -11.515625 \nQ 16.703125 -10.546875 17.828125 -8.796875 \nQ 18.65625 -7.46875 20.515625 -2.25 \nQ 20.75 -1.515625 21.296875 -0.09375 \nL 1.609375 51.859375 \nL 11.078125 51.859375 \nL 21.875 21.828125 \nQ 23.96875 16.109375 25.640625 9.8125 \nQ 27.15625 15.875 29.25 21.625 \nL 40.328125 51.859375 \nL 49.125 51.859375 \nL 29.390625 -0.875 \nQ 26.21875 -9.421875 24.46875 -12.640625 \nQ 22.125 -17 19.09375 -19.015625 \nQ 16.0625 -21.046875 11.859375 -21.046875 \nQ 9.328125 -21.046875 6.203125 -19.96875 \nz\n\" id=\"ArialMT-121\"/>\n     <path d=\"M 0.734375 0 \nL 19.671875 26.953125 \nL 2.15625 51.859375 \nL 13.140625 51.859375 \nL 21.09375 39.703125 \nQ 23.34375 36.234375 24.703125 33.890625 \nQ 26.859375 37.109375 28.65625 39.59375 \nL 37.40625 51.859375 \nL 47.90625 51.859375 \nL 29.984375 27.4375 \nL 49.265625 0 \nL 38.484375 0 \nL 27.828125 16.109375 \nL 25 20.453125 \nL 11.375 0 \nz\n\" id=\"ArialMT-120\"/>\n     <path d=\"M 6.59375 -19.875 \nL 6.59375 51.859375 \nL 14.59375 51.859375 \nL 14.59375 45.125 \nQ 17.4375 49.078125 21 51.046875 \nQ 24.5625 53.03125 29.640625 53.03125 \nQ 36.28125 53.03125 41.359375 49.609375 \nQ 46.4375 46.1875 49.015625 39.953125 \nQ 51.609375 33.734375 51.609375 26.3125 \nQ 51.609375 18.359375 48.75 11.984375 \nQ 45.90625 5.609375 40.453125 2.21875 \nQ 35.015625 -1.171875 29 -1.171875 \nQ 24.609375 -1.171875 21.109375 0.6875 \nQ 17.625 2.546875 15.375 5.375 \nL 15.375 -19.875 \nz\nM 14.546875 25.640625 \nQ 14.546875 15.625 18.59375 10.84375 \nQ 22.65625 6.0625 28.421875 6.0625 \nQ 34.28125 6.0625 38.453125 11.015625 \nQ 42.625 15.96875 42.625 26.375 \nQ 42.625 36.28125 38.546875 41.203125 \nQ 34.46875 46.140625 28.8125 46.140625 \nQ 23.1875 46.140625 18.859375 40.890625 \nQ 14.546875 35.640625 14.546875 25.640625 \nz\n\" id=\"ArialMT-112\"/>\n     <path d=\"M 6.59375 0 \nL 6.59375 51.859375 \nL 14.5 51.859375 \nL 14.5 44.484375 \nQ 20.21875 53.03125 31 53.03125 \nQ 35.6875 53.03125 39.625 51.34375 \nQ 43.5625 49.65625 45.515625 46.921875 \nQ 47.46875 44.1875 48.25 40.4375 \nQ 48.734375 37.984375 48.734375 31.890625 \nL 48.734375 0 \nL 39.9375 0 \nL 39.9375 31.546875 \nQ 39.9375 36.921875 38.90625 39.578125 \nQ 37.890625 42.234375 35.28125 43.8125 \nQ 32.671875 45.40625 29.15625 45.40625 \nQ 23.53125 45.40625 19.453125 41.84375 \nQ 15.375 38.28125 15.375 28.328125 \nL 15.375 0 \nz\n\" id=\"ArialMT-110\"/>\n     <path d=\"M 25.78125 7.859375 \nL 27.046875 0.09375 \nQ 23.34375 -0.6875 20.40625 -0.6875 \nQ 15.625 -0.6875 12.984375 0.828125 \nQ 10.359375 2.34375 9.28125 4.8125 \nQ 8.203125 7.28125 8.203125 15.1875 \nL 8.203125 45.015625 \nL 1.765625 45.015625 \nL 1.765625 51.859375 \nL 8.203125 51.859375 \nL 8.203125 64.703125 \nL 16.9375 69.96875 \nL 16.9375 51.859375 \nL 25.78125 51.859375 \nL 25.78125 45.015625 \nL 16.9375 45.015625 \nL 16.9375 14.703125 \nQ 16.9375 10.9375 17.40625 9.859375 \nQ 17.875 8.796875 18.921875 8.15625 \nQ 19.96875 7.515625 21.921875 7.515625 \nQ 23.390625 7.515625 25.78125 7.859375 \nz\n\" id=\"ArialMT-116\"/>\n    </defs>\n    <g transform=\"translate(12.88875 15.935625)scale(0.12 -0.12)\">\n     <use xlink:href=\"#ArialMT-78\"/>\n     <use x=\"72.216797\" xlink:href=\"#ArialMT-117\"/>\n     <use x=\"127.832031\" xlink:href=\"#ArialMT-109\"/>\n     <use x=\"211.132812\" xlink:href=\"#ArialMT-98\"/>\n     <use x=\"266.748047\" xlink:href=\"#ArialMT-101\"/>\n     <use x=\"322.363281\" xlink:href=\"#ArialMT-114\"/>\n     <use x=\"355.664062\" xlink:href=\"#ArialMT-32\"/>\n     <use x=\"383.447266\" xlink:href=\"#ArialMT-111\"/>\n     <use x=\"439.0625\" xlink:href=\"#ArialMT-102\"/>\n     <use x=\"466.845703\" xlink:href=\"#ArialMT-32\"/>\n     <use x=\"494.628906\" xlink:href=\"#ArialMT-105\"/>\n     <use x=\"516.845703\" xlink:href=\"#ArialMT-115\"/>\n     <use x=\"566.845703\" xlink:href=\"#ArialMT-111\"/>\n     <use x=\"622.460938\" xlink:href=\"#ArialMT-102\"/>\n     <use x=\"650.244141\" xlink:href=\"#ArialMT-111\"/>\n     <use x=\"705.859375\" xlink:href=\"#ArialMT-114\"/>\n     <use x=\"739.160156\" xlink:href=\"#ArialMT-109\"/>\n     <use x=\"822.460938\" xlink:href=\"#ArialMT-32\"/>\n     <use x=\"850.244141\" xlink:href=\"#ArialMT-80\"/>\n     <use x=\"916.943359\" xlink:href=\"#ArialMT-80\"/>\n     <use x=\"983.642578\" xlink:href=\"#ArialMT-73\"/>\n     <use x=\"1011.425781\" xlink:href=\"#ArialMT-115\"/>\n     <use x=\"1061.425781\" xlink:href=\"#ArialMT-32\"/>\n     <use x=\"1089.208984\" xlink:href=\"#ArialMT-98\"/>\n     <use x=\"1144.824219\" xlink:href=\"#ArialMT-121\"/>\n     <use x=\"1194.824219\" xlink:href=\"#ArialMT-32\"/>\n     <use x=\"1222.607422\" xlink:href=\"#ArialMT-101\"/>\n     <use x=\"1278.222656\" xlink:href=\"#ArialMT-120\"/>\n     <use x=\"1328.222656\" xlink:href=\"#ArialMT-112\"/>\n     <use x=\"1383.837891\" xlink:href=\"#ArialMT-101\"/>\n     <use x=\"1439.453125\" xlink:href=\"#ArialMT-114\"/>\n     <use x=\"1472.753906\" xlink:href=\"#ArialMT-105\"/>\n     <use x=\"1494.970703\" xlink:href=\"#ArialMT-109\"/>\n     <use x=\"1578.271484\" xlink:href=\"#ArialMT-101\"/>\n     <use x=\"1633.886719\" xlink:href=\"#ArialMT-110\"/>\n     <use x=\"1689.501953\" xlink:href=\"#ArialMT-116\"/>\n    </g>\n   </g>\n  </g>\n </g>\n</svg>\n",
                        "image/png": "[encoded data removed]"
                    },
                    "metadata": {}
                }
            ],
            "source": [
                "# pie charts\n",
                "from pathlib import Path\n",
                "fig_dir = Path('../figures/Y2H_QC')\n",
                "\n",
                "df.loc[df['category'] == 'tf_isoform_ppis', 'standard_batch'].value_counts().plot.pie(autopct=lambda x: str(int(x / 100 * (df['category'] == 'tf_isoform_ppis').sum())))\n",
                "plt.ylabel('')\n",
                "plt.title('Number of isoform PPIs by experiment')\n",
                "plt.savefig(fig_dir / 'n-ppis-by-experiment_isoforms_pie.pdf',\n",
                "            bbox_inches='tight')"
            ]
        },
        {
            "cell_type": "code",
            "execution_count": 55,
            "metadata": {},
            "outputs": [
                {
                    "output_type": "display_data",
                    "data": {
                        "text/plain": "<Figure size 432x288 with 1 Axes>",
                        "image/svg+xml": "<?xml version=\"1.0\" encoding=\"utf-8\" standalone=\"no\"?>\n<!DOCTYPE svg PUBLIC \"-//W3C//DTD SVG 1.1//EN\"\n  \"http://www.w3.org/Graphics/SVG/1.1/DTD/svg11.dtd\">\n<!-- Created with matplotlib (https://matplotlib.org/) -->\n<svg height=\"246.575625pt\" version=\"1.1\" viewBox=\"0 0 243.462457 246.575625\" width=\"243.462457pt\" xmlns=\"http://www.w3.org/2000/svg\" xmlns:xlink=\"http://www.w3.org/1999/xlink\">\n <defs>\n  <style type=\"text/css\">\n*{stroke-linecap:butt;stroke-linejoin:round;}\n  </style>\n </defs>\n <g id=\"figure_1\">\n  <g id=\"patch_1\">\n   <path d=\"M 0 246.575625 \nL 243.462457 246.575625 \nL 243.462457 0 \nL 0 0 \nz\n\" style=\"fill:none;\"/>\n  </g>\n  <g id=\"axes_1\">\n   <g id=\"patch_2\">\n    <path d=\"M 202.896 130.655625 \nC 202.896 117.598118 199.95556 104.70668 194.293497 92.940648 \nC 188.631434 81.174615 180.391772 70.833274 170.187678 62.686193 \nC 159.983583 54.539111 148.074613 48.793522 135.346992 45.876992 \nC 122.619371 42.960463 109.396846 42.947179 96.66339 45.838129 \nC 83.929935 48.72908 72.009445 54.450729 61.789001 62.577291 \nC 51.568558 70.703853 43.308133 81.028618 37.622441 92.78325 \nC 31.936748 104.537882 28.970412 117.423386 28.944176 130.480866 \nC 28.917939 143.538347 31.832471 156.435667 37.470881 168.213052 \nL 115.92 130.655625 \nL 202.896 130.655625 \nz\n\" style=\"fill:#1f77b4;\"/>\n   </g>\n   <g id=\"patch_3\">\n    <path d=\"M 37.470881 168.213052 \nC 47.161356 188.454301 64.319381 204.179867 85.32662 212.073496 \nC 106.333858 219.967124 129.601967 219.431983 150.224096 210.580925 \nL 115.92 130.655625 \nL 37.470881 168.213052 \nz\n\" style=\"fill:#ff7f0e;\"/>\n   </g>\n   <g id=\"patch_4\">\n    <path d=\"M 150.224096 210.580925 \nC 161.45888 205.758933 171.551736 198.621841 179.842447 189.636515 \nC 188.133158 180.651189 194.436918 170.017919 198.341372 158.432272 \nL 115.92 130.655625 \nL 150.224096 210.580925 \nz\n\" style=\"fill:#2ca02c;\"/>\n   </g>\n   <g id=\"patch_5\">\n    <path d=\"M 198.341372 158.432272 \nC 199.847017 153.964584 200.986914 149.381862 201.74979 144.729419 \nC 202.512667 140.076977 202.896 135.370198 202.896 130.655625 \nL 115.92 130.655625 \nL 198.341372 158.432272 \nz\n\" style=\"fill:#d62728;\"/>\n   </g>\n   <g id=\"matplotlib.axis_1\"/>\n   <g id=\"matplotlib.axis_2\"/>\n   <g id=\"text_1\">\n    <!-- TFr08 -->\n    <defs>\n     <path d=\"M 25.921875 0 \nL 25.921875 63.140625 \nL 2.34375 63.140625 \nL 2.34375 71.578125 \nL 59.078125 71.578125 \nL 59.078125 63.140625 \nL 35.40625 63.140625 \nL 35.40625 0 \nz\n\" id=\"ArialMT-84\"/>\n     <path d=\"M 8.203125 0 \nL 8.203125 71.578125 \nL 56.5 71.578125 \nL 56.5 63.140625 \nL 17.671875 63.140625 \nL 17.671875 40.96875 \nL 51.265625 40.96875 \nL 51.265625 32.515625 \nL 17.671875 32.515625 \nL 17.671875 0 \nz\n\" id=\"ArialMT-70\"/>\n     <path d=\"M 6.5 0 \nL 6.5 51.859375 \nL 14.40625 51.859375 \nL 14.40625 44 \nQ 17.4375 49.515625 20 51.265625 \nQ 22.5625 53.03125 25.640625 53.03125 \nQ 30.078125 53.03125 34.671875 50.203125 \nL 31.640625 42.046875 \nQ 28.421875 43.953125 25.203125 43.953125 \nQ 22.3125 43.953125 20.015625 42.21875 \nQ 17.71875 40.484375 16.75 37.40625 \nQ 15.28125 32.71875 15.28125 27.15625 \nL 15.28125 0 \nz\n\" id=\"ArialMT-114\"/>\n     <path d=\"M 4.15625 35.296875 \nQ 4.15625 48 6.765625 55.734375 \nQ 9.375 63.484375 14.515625 67.671875 \nQ 19.671875 71.875 27.484375 71.875 \nQ 33.25 71.875 37.59375 69.546875 \nQ 41.9375 67.234375 44.765625 62.859375 \nQ 47.609375 58.5 49.21875 52.21875 \nQ 50.828125 45.953125 50.828125 35.296875 \nQ 50.828125 22.703125 48.234375 14.96875 \nQ 45.65625 7.234375 40.5 3 \nQ 35.359375 -1.21875 27.484375 -1.21875 \nQ 17.140625 -1.21875 11.234375 6.203125 \nQ 4.15625 15.140625 4.15625 35.296875 \nz\nM 13.1875 35.296875 \nQ 13.1875 17.671875 17.3125 11.828125 \nQ 21.4375 6 27.484375 6 \nQ 33.546875 6 37.671875 11.859375 \nQ 41.796875 17.71875 41.796875 35.296875 \nQ 41.796875 52.984375 37.671875 58.78125 \nQ 33.546875 64.59375 27.390625 64.59375 \nQ 21.34375 64.59375 17.71875 59.46875 \nQ 13.1875 52.9375 13.1875 35.296875 \nz\n\" id=\"ArialMT-48\"/>\n     <path d=\"M 17.671875 38.8125 \nQ 12.203125 40.828125 9.5625 44.53125 \nQ 6.9375 48.25 6.9375 53.421875 \nQ 6.9375 61.234375 12.546875 66.546875 \nQ 18.171875 71.875 27.484375 71.875 \nQ 36.859375 71.875 42.578125 66.421875 \nQ 48.296875 60.984375 48.296875 53.171875 \nQ 48.296875 48.1875 45.671875 44.5 \nQ 43.0625 40.828125 37.75 38.8125 \nQ 44.34375 36.671875 47.78125 31.875 \nQ 51.21875 27.09375 51.21875 20.453125 \nQ 51.21875 11.28125 44.71875 5.03125 \nQ 38.234375 -1.21875 27.640625 -1.21875 \nQ 17.046875 -1.21875 10.546875 5.046875 \nQ 4.046875 11.328125 4.046875 20.703125 \nQ 4.046875 27.6875 7.59375 32.390625 \nQ 11.140625 37.109375 17.671875 38.8125 \nz\nM 15.921875 53.71875 \nQ 15.921875 48.640625 19.1875 45.40625 \nQ 22.46875 42.1875 27.6875 42.1875 \nQ 32.765625 42.1875 36.015625 45.375 \nQ 39.265625 48.578125 39.265625 53.21875 \nQ 39.265625 58.0625 35.90625 61.359375 \nQ 32.5625 64.65625 27.59375 64.65625 \nQ 22.5625 64.65625 19.234375 61.421875 \nQ 15.921875 58.203125 15.921875 53.71875 \nz\nM 13.09375 20.65625 \nQ 13.09375 16.890625 14.875 13.375 \nQ 16.65625 9.859375 20.171875 7.921875 \nQ 23.6875 6 27.734375 6 \nQ 34.03125 6 38.125 10.046875 \nQ 42.234375 14.109375 42.234375 20.359375 \nQ 42.234375 26.703125 38.015625 30.859375 \nQ 33.796875 35.015625 27.4375 35.015625 \nQ 21.234375 35.015625 17.15625 30.90625 \nQ 13.09375 26.8125 13.09375 20.65625 \nz\n\" id=\"ArialMT-56\"/>\n    </defs>\n    <g transform=\"translate(68.070542 39.941536)scale(0.1 -0.1)\">\n     <use xlink:href=\"#ArialMT-84\"/>\n     <use x=\"61.083984\" xlink:href=\"#ArialMT-70\"/>\n     <use x=\"122.167969\" xlink:href=\"#ArialMT-114\"/>\n     <use x=\"155.46875\" xlink:href=\"#ArialMT-48\"/>\n     <use x=\"211.083984\" xlink:href=\"#ArialMT-56\"/>\n    </g>\n   </g>\n   <g id=\"text_2\">\n    <!-- 3377 -->\n    <defs>\n     <path d=\"M 4.203125 18.890625 \nL 12.984375 20.0625 \nQ 14.5 12.59375 18.140625 9.296875 \nQ 21.78125 6 27 6 \nQ 33.203125 6 37.46875 10.296875 \nQ 41.75 14.59375 41.75 20.953125 \nQ 41.75 27 37.796875 30.921875 \nQ 33.84375 34.859375 27.734375 34.859375 \nQ 25.25 34.859375 21.53125 33.890625 \nL 22.515625 41.609375 \nQ 23.390625 41.5 23.921875 41.5 \nQ 29.546875 41.5 34.03125 44.421875 \nQ 38.53125 47.359375 38.53125 53.46875 \nQ 38.53125 58.296875 35.25 61.46875 \nQ 31.984375 64.65625 26.8125 64.65625 \nQ 21.6875 64.65625 18.265625 61.421875 \nQ 14.84375 58.203125 13.875 51.765625 \nL 5.078125 53.328125 \nQ 6.6875 62.15625 12.390625 67.015625 \nQ 18.109375 71.875 26.609375 71.875 \nQ 32.46875 71.875 37.390625 69.359375 \nQ 42.328125 66.84375 44.9375 62.5 \nQ 47.5625 58.15625 47.5625 53.265625 \nQ 47.5625 48.640625 45.0625 44.828125 \nQ 42.578125 41.015625 37.703125 38.765625 \nQ 44.046875 37.3125 47.5625 32.6875 \nQ 51.078125 28.078125 51.078125 21.140625 \nQ 51.078125 11.765625 44.234375 5.25 \nQ 37.40625 -1.265625 26.953125 -1.265625 \nQ 17.53125 -1.265625 11.296875 4.34375 \nQ 5.078125 9.96875 4.203125 18.890625 \nz\n\" id=\"ArialMT-51\"/>\n     <path d=\"M 4.734375 62.203125 \nL 4.734375 70.65625 \nL 51.078125 70.65625 \nL 51.078125 63.8125 \nQ 44.234375 56.546875 37.515625 44.484375 \nQ 30.8125 32.421875 27.15625 19.671875 \nQ 24.515625 10.6875 23.78125 0 \nL 14.75 0 \nQ 14.890625 8.453125 18.0625 20.40625 \nQ 21.234375 32.375 27.171875 43.484375 \nQ 33.109375 54.59375 39.796875 62.203125 \nz\n\" id=\"ArialMT-55\"/>\n    </defs>\n    <g transform=\"translate(93.244159 82.350284)scale(0.1 -0.1)\">\n     <use xlink:href=\"#ArialMT-51\"/>\n     <use x=\"55.615234\" xlink:href=\"#ArialMT-51\"/>\n     <use x=\"111.230469\" xlink:href=\"#ArialMT-55\"/>\n     <use x=\"166.845703\" xlink:href=\"#ArialMT-55\"/>\n    </g>\n   </g>\n   <g id=\"text_3\">\n    <!-- TFr10 -->\n    <defs>\n     <path d=\"M 37.25 0 \nL 28.46875 0 \nL 28.46875 56 \nQ 25.296875 52.984375 20.140625 49.953125 \nQ 14.984375 46.921875 10.890625 45.40625 \nL 10.890625 53.90625 \nQ 18.265625 57.375 23.78125 62.296875 \nQ 29.296875 67.234375 31.59375 71.875 \nL 37.25 71.875 \nz\n\" id=\"ArialMT-49\"/>\n    </defs>\n    <g transform=\"translate(55.600094 222.800439)scale(0.1 -0.1)\">\n     <use xlink:href=\"#ArialMT-84\"/>\n     <use x=\"61.083984\" xlink:href=\"#ArialMT-70\"/>\n     <use x=\"122.167969\" xlink:href=\"#ArialMT-114\"/>\n     <use x=\"155.46875\" xlink:href=\"#ArialMT-49\"/>\n     <use x=\"211.083984\" xlink:href=\"#ArialMT-48\"/>\n    </g>\n   </g>\n   <g id=\"text_4\">\n    <!-- 1439 -->\n    <defs>\n     <path d=\"M 32.328125 0 \nL 32.328125 17.140625 \nL 1.265625 17.140625 \nL 1.265625 25.203125 \nL 33.9375 71.578125 \nL 41.109375 71.578125 \nL 41.109375 25.203125 \nL 50.78125 25.203125 \nL 50.78125 17.140625 \nL 41.109375 17.140625 \nL 41.109375 0 \nz\nM 32.328125 25.203125 \nL 32.328125 57.46875 \nL 9.90625 25.203125 \nz\n\" id=\"ArialMT-52\"/>\n     <path d=\"M 5.46875 16.546875 \nL 13.921875 17.328125 \nQ 14.984375 11.375 18.015625 8.6875 \nQ 21.046875 6 25.78125 6 \nQ 29.828125 6 32.875 7.859375 \nQ 35.9375 9.71875 37.890625 12.8125 \nQ 39.84375 15.921875 41.15625 21.1875 \nQ 42.484375 26.46875 42.484375 31.9375 \nQ 42.484375 32.515625 42.4375 33.6875 \nQ 39.796875 29.5 35.234375 26.875 \nQ 30.671875 24.265625 25.34375 24.265625 \nQ 16.453125 24.265625 10.296875 30.703125 \nQ 4.15625 37.15625 4.15625 47.703125 \nQ 4.15625 58.59375 10.578125 65.234375 \nQ 17 71.875 26.65625 71.875 \nQ 33.640625 71.875 39.421875 68.109375 \nQ 45.21875 64.359375 48.21875 57.390625 \nQ 51.21875 50.4375 51.21875 37.25 \nQ 51.21875 23.53125 48.234375 15.40625 \nQ 45.265625 7.28125 39.375 3.03125 \nQ 33.5 -1.21875 25.59375 -1.21875 \nQ 17.1875 -1.21875 11.859375 3.4375 \nQ 6.546875 8.109375 5.46875 16.546875 \nz\nM 41.453125 48.140625 \nQ 41.453125 55.71875 37.421875 60.15625 \nQ 33.40625 64.59375 27.734375 64.59375 \nQ 21.875 64.59375 17.53125 59.8125 \nQ 13.1875 55.03125 13.1875 47.40625 \nQ 13.1875 40.578125 17.3125 36.296875 \nQ 21.4375 32.03125 27.484375 32.03125 \nQ 33.59375 32.03125 37.515625 36.296875 \nQ 41.453125 40.578125 41.453125 48.140625 \nz\n\" id=\"ArialMT-57\"/>\n    </defs>\n    <g transform=\"translate(86.442097 182.091504)scale(0.1 -0.1)\">\n     <use xlink:href=\"#ArialMT-49\"/>\n     <use x=\"55.615234\" xlink:href=\"#ArialMT-52\"/>\n     <use x=\"111.230469\" xlink:href=\"#ArialMT-51\"/>\n     <use x=\"166.845703\" xlink:href=\"#ArialMT-57\"/>\n    </g>\n   </g>\n   <g id=\"text_5\">\n    <!-- TFr12 -->\n    <defs>\n     <path d=\"M 50.34375 8.453125 \nL 50.34375 0 \nL 3.03125 0 \nQ 2.9375 3.171875 4.046875 6.109375 \nQ 5.859375 10.9375 9.828125 15.625 \nQ 13.8125 20.3125 21.34375 26.46875 \nQ 33.015625 36.03125 37.109375 41.625 \nQ 41.21875 47.21875 41.21875 52.203125 \nQ 41.21875 57.421875 37.46875 61 \nQ 33.734375 64.59375 27.734375 64.59375 \nQ 21.390625 64.59375 17.578125 60.78125 \nQ 13.765625 56.984375 13.71875 50.25 \nL 4.6875 51.171875 \nQ 5.609375 61.28125 11.65625 66.578125 \nQ 17.71875 71.875 27.9375 71.875 \nQ 38.234375 71.875 44.234375 66.15625 \nQ 50.25 60.453125 50.25 52 \nQ 50.25 47.703125 48.484375 43.546875 \nQ 46.734375 39.40625 42.65625 34.8125 \nQ 38.578125 30.21875 29.109375 22.21875 \nQ 21.1875 15.578125 18.9375 13.203125 \nQ 16.703125 10.84375 15.234375 8.453125 \nz\n\" id=\"ArialMT-50\"/>\n    </defs>\n    <g transform=\"translate(186.234692 198.11976)scale(0.1 -0.1)\">\n     <use xlink:href=\"#ArialMT-84\"/>\n     <use x=\"61.083984\" xlink:href=\"#ArialMT-70\"/>\n     <use x=\"122.167969\" xlink:href=\"#ArialMT-114\"/>\n     <use x=\"155.46875\" xlink:href=\"#ArialMT-49\"/>\n     <use x=\"211.083984\" xlink:href=\"#ArialMT-50\"/>\n    </g>\n   </g>\n   <g id=\"text_6\">\n    <!-- 790 -->\n    <g transform=\"translate(145.932062 168.629315)scale(0.1 -0.1)\">\n     <use xlink:href=\"#ArialMT-55\"/>\n     <use x=\"55.615234\" xlink:href=\"#ArialMT-57\"/>\n     <use x=\"111.230469\" xlink:href=\"#ArialMT-48\"/>\n    </g>\n   </g>\n   <g id=\"text_7\">\n    <!-- TFr11 -->\n    <g transform=\"translate(210.332769 148.721955)scale(0.1 -0.1)\">\n     <use xlink:href=\"#ArialMT-84\"/>\n     <use x=\"61.083984\" xlink:href=\"#ArialMT-70\"/>\n     <use x=\"122.167969\" xlink:href=\"#ArialMT-114\"/>\n     <use x=\"155.46875\" xlink:href=\"#ArialMT-49\"/>\n     <use x=\"203.708984\" xlink:href=\"#ArialMT-49\"/>\n    </g>\n   </g>\n   <g id=\"text_8\">\n    <!-- 305 -->\n    <defs>\n     <path d=\"M 4.15625 18.75 \nL 13.375 19.53125 \nQ 14.40625 12.796875 18.140625 9.390625 \nQ 21.875 6 27.15625 6 \nQ 33.5 6 37.890625 10.78125 \nQ 42.28125 15.578125 42.28125 23.484375 \nQ 42.28125 31 38.0625 35.34375 \nQ 33.84375 39.703125 27 39.703125 \nQ 22.75 39.703125 19.328125 37.765625 \nQ 15.921875 35.84375 13.96875 32.765625 \nL 5.71875 33.84375 \nL 12.640625 70.609375 \nL 48.25 70.609375 \nL 48.25 62.203125 \nL 19.671875 62.203125 \nL 15.828125 42.96875 \nQ 22.265625 47.46875 29.34375 47.46875 \nQ 38.71875 47.46875 45.15625 40.96875 \nQ 51.609375 34.46875 51.609375 24.265625 \nQ 51.609375 14.546875 45.953125 7.46875 \nQ 39.0625 -1.21875 27.15625 -1.21875 \nQ 17.390625 -1.21875 11.203125 4.25 \nQ 5.03125 9.71875 4.15625 18.75 \nz\n\" id=\"ArialMT-53\"/>\n    </defs>\n    <g transform=\"translate(159.076468 141.685058)scale(0.1 -0.1)\">\n     <use xlink:href=\"#ArialMT-51\"/>\n     <use x=\"55.615234\" xlink:href=\"#ArialMT-48\"/>\n     <use x=\"111.230469\" xlink:href=\"#ArialMT-53\"/>\n    </g>\n   </g>\n   <g id=\"text_9\">\n    <!-- Number of isoform PPIs by experiment -->\n    <defs>\n     <path d=\"M 7.625 0 \nL 7.625 71.578125 \nL 17.328125 71.578125 \nL 54.9375 15.375 \nL 54.9375 71.578125 \nL 64.015625 71.578125 \nL 64.015625 0 \nL 54.296875 0 \nL 16.703125 56.25 \nL 16.703125 0 \nz\n\" id=\"ArialMT-78\"/>\n     <path d=\"M 40.578125 0 \nL 40.578125 7.625 \nQ 34.515625 -1.171875 24.125 -1.171875 \nQ 19.53125 -1.171875 15.546875 0.578125 \nQ 11.578125 2.34375 9.640625 5 \nQ 7.71875 7.671875 6.9375 11.53125 \nQ 6.390625 14.109375 6.390625 19.734375 \nL 6.390625 51.859375 \nL 15.1875 51.859375 \nL 15.1875 23.09375 \nQ 15.1875 16.21875 15.71875 13.8125 \nQ 16.546875 10.359375 19.234375 8.375 \nQ 21.921875 6.390625 25.875 6.390625 \nQ 29.828125 6.390625 33.296875 8.421875 \nQ 36.765625 10.453125 38.203125 13.9375 \nQ 39.65625 17.4375 39.65625 24.078125 \nL 39.65625 51.859375 \nL 48.4375 51.859375 \nL 48.4375 0 \nz\n\" id=\"ArialMT-117\"/>\n     <path d=\"M 6.59375 0 \nL 6.59375 51.859375 \nL 14.453125 51.859375 \nL 14.453125 44.578125 \nQ 16.890625 48.390625 20.9375 50.703125 \nQ 25 53.03125 30.171875 53.03125 \nQ 35.9375 53.03125 39.625 50.640625 \nQ 43.3125 48.25 44.828125 43.953125 \nQ 50.984375 53.03125 60.84375 53.03125 \nQ 68.5625 53.03125 72.703125 48.75 \nQ 76.859375 44.484375 76.859375 35.59375 \nL 76.859375 0 \nL 68.109375 0 \nL 68.109375 32.671875 \nQ 68.109375 37.9375 67.25 40.25 \nQ 66.40625 42.578125 64.15625 43.984375 \nQ 61.921875 45.40625 58.890625 45.40625 \nQ 53.421875 45.40625 49.796875 41.765625 \nQ 46.1875 38.140625 46.1875 30.125 \nL 46.1875 0 \nL 37.40625 0 \nL 37.40625 33.6875 \nQ 37.40625 39.546875 35.25 42.46875 \nQ 33.109375 45.40625 28.21875 45.40625 \nQ 24.515625 45.40625 21.359375 43.453125 \nQ 18.21875 41.5 16.796875 37.734375 \nQ 15.375 33.984375 15.375 26.90625 \nL 15.375 0 \nz\n\" id=\"ArialMT-109\"/>\n     <path d=\"M 14.703125 0 \nL 6.546875 0 \nL 6.546875 71.578125 \nL 15.328125 71.578125 \nL 15.328125 46.046875 \nQ 20.90625 53.03125 29.546875 53.03125 \nQ 34.328125 53.03125 38.59375 51.09375 \nQ 42.875 49.171875 45.625 45.671875 \nQ 48.390625 42.1875 49.953125 37.25 \nQ 51.515625 32.328125 51.515625 26.703125 \nQ 51.515625 13.375 44.921875 6.09375 \nQ 38.328125 -1.171875 29.109375 -1.171875 \nQ 19.921875 -1.171875 14.703125 6.5 \nz\nM 14.59375 26.3125 \nQ 14.59375 17 17.140625 12.84375 \nQ 21.296875 6.0625 28.375 6.0625 \nQ 34.125 6.0625 38.328125 11.0625 \nQ 42.53125 16.0625 42.53125 25.984375 \nQ 42.53125 36.140625 38.5 40.96875 \nQ 34.46875 45.796875 28.765625 45.796875 \nQ 23 45.796875 18.796875 40.796875 \nQ 14.59375 35.796875 14.59375 26.3125 \nz\n\" id=\"ArialMT-98\"/>\n     <path d=\"M 42.09375 16.703125 \nL 51.171875 15.578125 \nQ 49.03125 7.625 43.21875 3.21875 \nQ 37.40625 -1.171875 28.375 -1.171875 \nQ 17 -1.171875 10.328125 5.828125 \nQ 3.65625 12.84375 3.65625 25.484375 \nQ 3.65625 38.578125 10.390625 45.796875 \nQ 17.140625 53.03125 27.875 53.03125 \nQ 38.28125 53.03125 44.875 45.953125 \nQ 51.46875 38.875 51.46875 26.03125 \nQ 51.46875 25.25 51.421875 23.6875 \nL 12.75 23.6875 \nQ 13.234375 15.140625 17.578125 10.59375 \nQ 21.921875 6.0625 28.421875 6.0625 \nQ 33.25 6.0625 36.671875 8.59375 \nQ 40.09375 11.140625 42.09375 16.703125 \nz\nM 13.234375 30.90625 \nL 42.1875 30.90625 \nQ 41.609375 37.453125 38.875 40.71875 \nQ 34.671875 45.796875 27.984375 45.796875 \nQ 21.921875 45.796875 17.796875 41.75 \nQ 13.671875 37.703125 13.234375 30.90625 \nz\n\" id=\"ArialMT-101\"/>\n     <path id=\"ArialMT-32\"/>\n     <path d=\"M 3.328125 25.921875 \nQ 3.328125 40.328125 11.328125 47.265625 \nQ 18.015625 53.03125 27.640625 53.03125 \nQ 38.328125 53.03125 45.109375 46.015625 \nQ 51.90625 39.015625 51.90625 26.65625 \nQ 51.90625 16.65625 48.90625 10.90625 \nQ 45.90625 5.171875 40.15625 2 \nQ 34.421875 -1.171875 27.640625 -1.171875 \nQ 16.75 -1.171875 10.03125 5.8125 \nQ 3.328125 12.796875 3.328125 25.921875 \nz\nM 12.359375 25.921875 \nQ 12.359375 15.96875 16.703125 11.015625 \nQ 21.046875 6.0625 27.640625 6.0625 \nQ 34.1875 6.0625 38.53125 11.03125 \nQ 42.875 16.015625 42.875 26.21875 \nQ 42.875 35.84375 38.5 40.796875 \nQ 34.125 45.75 27.640625 45.75 \nQ 21.046875 45.75 16.703125 40.8125 \nQ 12.359375 35.890625 12.359375 25.921875 \nz\n\" id=\"ArialMT-111\"/>\n     <path d=\"M 8.6875 0 \nL 8.6875 45.015625 \nL 0.921875 45.015625 \nL 0.921875 51.859375 \nL 8.6875 51.859375 \nL 8.6875 57.375 \nQ 8.6875 62.59375 9.625 65.140625 \nQ 10.890625 68.5625 14.078125 70.671875 \nQ 17.28125 72.796875 23.046875 72.796875 \nQ 26.765625 72.796875 31.25 71.921875 \nL 29.9375 64.265625 \nQ 27.203125 64.75 24.75 64.75 \nQ 20.75 64.75 19.09375 63.03125 \nQ 17.4375 61.328125 17.4375 56.640625 \nL 17.4375 51.859375 \nL 27.546875 51.859375 \nL 27.546875 45.015625 \nL 17.4375 45.015625 \nL 17.4375 0 \nz\n\" id=\"ArialMT-102\"/>\n     <path d=\"M 6.640625 61.46875 \nL 6.640625 71.578125 \nL 15.4375 71.578125 \nL 15.4375 61.46875 \nz\nM 6.640625 0 \nL 6.640625 51.859375 \nL 15.4375 51.859375 \nL 15.4375 0 \nz\n\" id=\"ArialMT-105\"/>\n     <path d=\"M 3.078125 15.484375 \nL 11.765625 16.84375 \nQ 12.5 11.625 15.84375 8.84375 \nQ 19.1875 6.0625 25.203125 6.0625 \nQ 31.25 6.0625 34.171875 8.515625 \nQ 37.109375 10.984375 37.109375 14.3125 \nQ 37.109375 17.28125 34.515625 19 \nQ 32.71875 20.171875 25.53125 21.96875 \nQ 15.875 24.421875 12.140625 26.203125 \nQ 8.40625 27.984375 6.46875 31.125 \nQ 4.546875 34.28125 4.546875 38.09375 \nQ 4.546875 41.546875 6.125 44.5 \nQ 7.71875 47.46875 10.453125 49.421875 \nQ 12.5 50.921875 16.03125 51.96875 \nQ 19.578125 53.03125 23.640625 53.03125 \nQ 29.734375 53.03125 34.34375 51.265625 \nQ 38.96875 49.515625 41.15625 46.5 \nQ 43.359375 43.5 44.1875 38.484375 \nL 35.59375 37.3125 \nQ 35.015625 41.3125 32.203125 43.546875 \nQ 29.390625 45.796875 24.265625 45.796875 \nQ 18.21875 45.796875 15.625 43.796875 \nQ 13.03125 41.796875 13.03125 39.109375 \nQ 13.03125 37.40625 14.109375 36.03125 \nQ 15.1875 34.625 17.484375 33.6875 \nQ 18.796875 33.203125 25.25 31.453125 \nQ 34.578125 28.953125 38.25 27.359375 \nQ 41.9375 25.78125 44.03125 22.75 \nQ 46.140625 19.734375 46.140625 15.234375 \nQ 46.140625 10.84375 43.578125 6.953125 \nQ 41.015625 3.078125 36.171875 0.953125 \nQ 31.34375 -1.171875 25.25 -1.171875 \nQ 15.140625 -1.171875 9.84375 3.03125 \nQ 4.546875 7.234375 3.078125 15.484375 \nz\n\" id=\"ArialMT-115\"/>\n     <path d=\"M 7.71875 0 \nL 7.71875 71.578125 \nL 34.71875 71.578125 \nQ 41.84375 71.578125 45.609375 70.90625 \nQ 50.875 70.015625 54.4375 67.546875 \nQ 58.015625 65.09375 60.1875 60.640625 \nQ 62.359375 56.203125 62.359375 50.875 \nQ 62.359375 41.75 56.546875 35.421875 \nQ 50.734375 29.109375 35.546875 29.109375 \nL 17.1875 29.109375 \nL 17.1875 0 \nz\nM 17.1875 37.546875 \nL 35.6875 37.546875 \nQ 44.875 37.546875 48.734375 40.96875 \nQ 52.59375 44.390625 52.59375 50.59375 \nQ 52.59375 55.078125 50.3125 58.265625 \nQ 48.046875 61.46875 44.34375 62.5 \nQ 41.9375 63.140625 35.5 63.140625 \nL 17.1875 63.140625 \nz\n\" id=\"ArialMT-80\"/>\n     <path d=\"M 9.328125 0 \nL 9.328125 71.578125 \nL 18.796875 71.578125 \nL 18.796875 0 \nz\n\" id=\"ArialMT-73\"/>\n     <path d=\"M 6.203125 -19.96875 \nL 5.21875 -11.71875 \nQ 8.109375 -12.5 10.25 -12.5 \nQ 13.1875 -12.5 14.9375 -11.515625 \nQ 16.703125 -10.546875 17.828125 -8.796875 \nQ 18.65625 -7.46875 20.515625 -2.25 \nQ 20.75 -1.515625 21.296875 -0.09375 \nL 1.609375 51.859375 \nL 11.078125 51.859375 \nL 21.875 21.828125 \nQ 23.96875 16.109375 25.640625 9.8125 \nQ 27.15625 15.875 29.25 21.625 \nL 40.328125 51.859375 \nL 49.125 51.859375 \nL 29.390625 -0.875 \nQ 26.21875 -9.421875 24.46875 -12.640625 \nQ 22.125 -17 19.09375 -19.015625 \nQ 16.0625 -21.046875 11.859375 -21.046875 \nQ 9.328125 -21.046875 6.203125 -19.96875 \nz\n\" id=\"ArialMT-121\"/>\n     <path d=\"M 0.734375 0 \nL 19.671875 26.953125 \nL 2.15625 51.859375 \nL 13.140625 51.859375 \nL 21.09375 39.703125 \nQ 23.34375 36.234375 24.703125 33.890625 \nQ 26.859375 37.109375 28.65625 39.59375 \nL 37.40625 51.859375 \nL 47.90625 51.859375 \nL 29.984375 27.4375 \nL 49.265625 0 \nL 38.484375 0 \nL 27.828125 16.109375 \nL 25 20.453125 \nL 11.375 0 \nz\n\" id=\"ArialMT-120\"/>\n     <path d=\"M 6.59375 -19.875 \nL 6.59375 51.859375 \nL 14.59375 51.859375 \nL 14.59375 45.125 \nQ 17.4375 49.078125 21 51.046875 \nQ 24.5625 53.03125 29.640625 53.03125 \nQ 36.28125 53.03125 41.359375 49.609375 \nQ 46.4375 46.1875 49.015625 39.953125 \nQ 51.609375 33.734375 51.609375 26.3125 \nQ 51.609375 18.359375 48.75 11.984375 \nQ 45.90625 5.609375 40.453125 2.21875 \nQ 35.015625 -1.171875 29 -1.171875 \nQ 24.609375 -1.171875 21.109375 0.6875 \nQ 17.625 2.546875 15.375 5.375 \nL 15.375 -19.875 \nz\nM 14.546875 25.640625 \nQ 14.546875 15.625 18.59375 10.84375 \nQ 22.65625 6.0625 28.421875 6.0625 \nQ 34.28125 6.0625 38.453125 11.015625 \nQ 42.625 15.96875 42.625 26.375 \nQ 42.625 36.28125 38.546875 41.203125 \nQ 34.46875 46.140625 28.8125 46.140625 \nQ 23.1875 46.140625 18.859375 40.890625 \nQ 14.546875 35.640625 14.546875 25.640625 \nz\n\" id=\"ArialMT-112\"/>\n     <path d=\"M 6.59375 0 \nL 6.59375 51.859375 \nL 14.5 51.859375 \nL 14.5 44.484375 \nQ 20.21875 53.03125 31 53.03125 \nQ 35.6875 53.03125 39.625 51.34375 \nQ 43.5625 49.65625 45.515625 46.921875 \nQ 47.46875 44.1875 48.25 40.4375 \nQ 48.734375 37.984375 48.734375 31.890625 \nL 48.734375 0 \nL 39.9375 0 \nL 39.9375 31.546875 \nQ 39.9375 36.921875 38.90625 39.578125 \nQ 37.890625 42.234375 35.28125 43.8125 \nQ 32.671875 45.40625 29.15625 45.40625 \nQ 23.53125 45.40625 19.453125 41.84375 \nQ 15.375 38.28125 15.375 28.328125 \nL 15.375 0 \nz\n\" id=\"ArialMT-110\"/>\n     <path d=\"M 25.78125 7.859375 \nL 27.046875 0.09375 \nQ 23.34375 -0.6875 20.40625 -0.6875 \nQ 15.625 -0.6875 12.984375 0.828125 \nQ 10.359375 2.34375 9.28125 4.8125 \nQ 8.203125 7.28125 8.203125 15.1875 \nL 8.203125 45.015625 \nL 1.765625 45.015625 \nL 1.765625 51.859375 \nL 8.203125 51.859375 \nL 8.203125 64.703125 \nL 16.9375 69.96875 \nL 16.9375 51.859375 \nL 25.78125 51.859375 \nL 25.78125 45.015625 \nL 16.9375 45.015625 \nL 16.9375 14.703125 \nQ 16.9375 10.9375 17.40625 9.859375 \nQ 17.875 8.796875 18.921875 8.15625 \nQ 19.96875 7.515625 21.921875 7.515625 \nQ 23.390625 7.515625 25.78125 7.859375 \nz\n\" id=\"ArialMT-116\"/>\n    </defs>\n    <g transform=\"translate(12.88875 15.935625)scale(0.12 -0.12)\">\n     <use xlink:href=\"#ArialMT-78\"/>\n     <use x=\"72.216797\" xlink:href=\"#ArialMT-117\"/>\n     <use x=\"127.832031\" xlink:href=\"#ArialMT-109\"/>\n     <use x=\"211.132812\" xlink:href=\"#ArialMT-98\"/>\n     <use x=\"266.748047\" xlink:href=\"#ArialMT-101\"/>\n     <use x=\"322.363281\" xlink:href=\"#ArialMT-114\"/>\n     <use x=\"355.664062\" xlink:href=\"#ArialMT-32\"/>\n     <use x=\"383.447266\" xlink:href=\"#ArialMT-111\"/>\n     <use x=\"439.0625\" xlink:href=\"#ArialMT-102\"/>\n     <use x=\"466.845703\" xlink:href=\"#ArialMT-32\"/>\n     <use x=\"494.628906\" xlink:href=\"#ArialMT-105\"/>\n     <use x=\"516.845703\" xlink:href=\"#ArialMT-115\"/>\n     <use x=\"566.845703\" xlink:href=\"#ArialMT-111\"/>\n     <use x=\"622.460938\" xlink:href=\"#ArialMT-102\"/>\n     <use x=\"650.244141\" xlink:href=\"#ArialMT-111\"/>\n     <use x=\"705.859375\" xlink:href=\"#ArialMT-114\"/>\n     <use x=\"739.160156\" xlink:href=\"#ArialMT-109\"/>\n     <use x=\"822.460938\" xlink:href=\"#ArialMT-32\"/>\n     <use x=\"850.244141\" xlink:href=\"#ArialMT-80\"/>\n     <use x=\"916.943359\" xlink:href=\"#ArialMT-80\"/>\n     <use x=\"983.642578\" xlink:href=\"#ArialMT-73\"/>\n     <use x=\"1011.425781\" xlink:href=\"#ArialMT-115\"/>\n     <use x=\"1061.425781\" xlink:href=\"#ArialMT-32\"/>\n     <use x=\"1089.208984\" xlink:href=\"#ArialMT-98\"/>\n     <use x=\"1144.824219\" xlink:href=\"#ArialMT-121\"/>\n     <use x=\"1194.824219\" xlink:href=\"#ArialMT-32\"/>\n     <use x=\"1222.607422\" xlink:href=\"#ArialMT-101\"/>\n     <use x=\"1278.222656\" xlink:href=\"#ArialMT-120\"/>\n     <use x=\"1328.222656\" xlink:href=\"#ArialMT-112\"/>\n     <use x=\"1383.837891\" xlink:href=\"#ArialMT-101\"/>\n     <use x=\"1439.453125\" xlink:href=\"#ArialMT-114\"/>\n     <use x=\"1472.753906\" xlink:href=\"#ArialMT-105\"/>\n     <use x=\"1494.970703\" xlink:href=\"#ArialMT-109\"/>\n     <use x=\"1578.271484\" xlink:href=\"#ArialMT-101\"/>\n     <use x=\"1633.886719\" xlink:href=\"#ArialMT-110\"/>\n     <use x=\"1689.501953\" xlink:href=\"#ArialMT-116\"/>\n    </g>\n   </g>\n  </g>\n </g>\n</svg>\n",
                        "image/png": "[encoded data removed]"
                    },
                    "metadata": {}
                }
            ],
            "source": [
                "df.loc[df['category'].isin(['tf_paralog_ppis', 'paralog_with_PDI', 'non_paralog_control']), 'standard_batch'].value_counts().plot.pie(autopct=lambda x: str(int(x / 100 * (df['category'] == 'tf_isoform_ppis').sum())))\n",
                "plt.ylabel('')\n",
                "plt.title('Number of isoform PPIs by experiment')\n",
                "plt.savefig(fig_dir / 'n-ppis-by-experiment_paralogs_pie.pdf',\n",
                "            bbox_inches='tight')"
            ]
        },
        {
            "cell_type": "code",
            "execution_count": 18,
            "metadata": {},
            "outputs": [
                {
                    "output_type": "execute_result",
                    "data": {
                        "text/plain": [
                            "4    43\n",
                            "3    28\n",
                            "2    28\n",
                            "1     7\n",
                            "Name: standard_batch, dtype: int64"
                        ]
                    },
                    "metadata": {},
                    "execution_count": 18
                }
            ],
            "source": [
                "# fraction / number of matrices (TF gene) all from the same experiment\n",
                "df.loc[(df['category'] == 'tf_isoform_ppis') &\n",
                "       df['at_least_2_isoforms'] &\n",
                "       df['at_least_2_partners'], :].groupby('ad_gene_symbol')['standard_batch'].nunique().value_counts()"
            ]
        },
        {
            "cell_type": "code",
            "execution_count": 19,
            "metadata": {},
            "outputs": [
                {
                    "output_type": "execute_result",
                    "data": {
                        "text/plain": [
                            "2    675\n",
                            "1    616\n",
                            "3    127\n",
                            "4      2\n",
                            "Name: standard_batch, dtype: int64"
                        ]
                    },
                    "metadata": {},
                    "execution_count": 19
                }
            ],
            "source": [
                "df.loc[(df['category'] == 'tf_isoform_ppis') &\n",
                "       df['at_least_2_isoforms'] &\n",
                "       df['at_least_2_partners'], :].groupby(['ad_gene_symbol', 'db_gene_symbol'])['standard_batch'].nunique().value_counts()"
            ]
        },
        {
            "cell_type": "code",
            "execution_count": 20,
            "metadata": {},
            "outputs": [
                {
                    "output_type": "execute_result",
                    "data": {
                        "text/plain": [
                            "          category  ad_orf_id      ad_clone_acc ad_gene_symbol  db_orf_id  \\\n",
                            "0     rrs_isoforms     100303    E2F3|2/4|10A08           E2F3       5808   \n",
                            "1  tf_isoform_ppis     100588   PRRX1|3/3|09H08          PRRX1      10057   \n",
                            "2  tf_isoform_ppis     101431    RFX4|3/3|12B07           RFX4      10057   \n",
                            "3  tf_isoform_ppis     100313    TCF4|8/9|07A05           TCF4      10057   \n",
                            "4  tf_isoform_ppis     101026  ZBTB16|2/2|01D03         ZBTB16      10057   \n",
                            "\n",
                            "  db_gene_symbol score standard_batch  retest_pla retest_pos  \\\n",
                            "0            HBB     0          TFr11           1        F01   \n",
                            "1          HOXA1    NC          TFr11           1        E02   \n",
                            "2          HOXA1    NC          TFr11           1        D02   \n",
                            "3          HOXA1    NC          TFr11           1        C02   \n",
                            "4          HOXA1    NC          TFr11           1        B02   \n",
                            "\n",
                            "   in_orfeome_screen  in_focussed_screen  in_hi_union  in_lit_bm  \\\n",
                            "0              False               False        False      False   \n",
                            "1              False                True        False      False   \n",
                            "2              False                True        False      False   \n",
                            "3              False                True        False      False   \n",
                            "4              False                True         True      False   \n",
                            "\n",
                            "  at_least_2_isoforms at_least_2_partners  at_least_1_positive_per_partner  \n",
                            "0                True                True                            False  \n",
                            "1                True                True                            False  \n",
                            "2                True                True                             True  \n",
                            "3                True                True                             True  \n",
                            "4                True                True                             True  "
                        ],
                        "text/html": "<div>\n<style scoped>\n    .dataframe tbody tr th:only-of-type {\n        vertical-align: middle;\n    }\n\n    .dataframe tbody tr th {\n        vertical-align: top;\n    }\n\n    .dataframe thead th {\n        text-align: right;\n    }\n</style>\n<table border=\"1\" class=\"dataframe\">\n  <thead>\n    <tr style=\"text-align: right;\">\n      <th></th>\n      <th>category</th>\n      <th>ad_orf_id</th>\n      <th>ad_clone_acc</th>\n      <th>ad_gene_symbol</th>\n      <th>db_orf_id</th>\n      <th>db_gene_symbol</th>\n      <th>score</th>\n      <th>standard_batch</th>\n      <th>retest_pla</th>\n      <th>retest_pos</th>\n      <th>in_orfeome_screen</th>\n      <th>in_focussed_screen</th>\n      <th>in_hi_union</th>\n      <th>in_lit_bm</th>\n      <th>at_least_2_isoforms</th>\n      <th>at_least_2_partners</th>\n      <th>at_least_1_positive_per_partner</th>\n    </tr>\n  </thead>\n  <tbody>\n    <tr>\n      <th>0</th>\n      <td>rrs_isoforms</td>\n      <td>100303</td>\n      <td>E2F3|2/4|10A08</td>\n      <td>E2F3</td>\n      <td>5808</td>\n      <td>HBB</td>\n      <td>0</td>\n      <td>TFr11</td>\n      <td>1</td>\n      <td>F01</td>\n      <td>False</td>\n      <td>False</td>\n      <td>False</td>\n      <td>False</td>\n      <td>True</td>\n      <td>True</td>\n      <td>False</td>\n    </tr>\n    <tr>\n      <th>1</th>\n      <td>tf_isoform_ppis</td>\n      <td>100588</td>\n      <td>PRRX1|3/3|09H08</td>\n      <td>PRRX1</td>\n      <td>10057</td>\n      <td>HOXA1</td>\n      <td>NC</td>\n      <td>TFr11</td>\n      <td>1</td>\n      <td>E02</td>\n      <td>False</td>\n      <td>True</td>\n      <td>False</td>\n      <td>False</td>\n      <td>True</td>\n      <td>True</td>\n      <td>False</td>\n    </tr>\n    <tr>\n      <th>2</th>\n      <td>tf_isoform_ppis</td>\n      <td>101431</td>\n      <td>RFX4|3/3|12B07</td>\n      <td>RFX4</td>\n      <td>10057</td>\n      <td>HOXA1</td>\n      <td>NC</td>\n      <td>TFr11</td>\n      <td>1</td>\n      <td>D02</td>\n      <td>False</td>\n      <td>True</td>\n      <td>False</td>\n      <td>False</td>\n      <td>True</td>\n      <td>True</td>\n      <td>True</td>\n    </tr>\n    <tr>\n      <th>3</th>\n      <td>tf_isoform_ppis</td>\n      <td>100313</td>\n      <td>TCF4|8/9|07A05</td>\n      <td>TCF4</td>\n      <td>10057</td>\n      <td>HOXA1</td>\n      <td>NC</td>\n      <td>TFr11</td>\n      <td>1</td>\n      <td>C02</td>\n      <td>False</td>\n      <td>True</td>\n      <td>False</td>\n      <td>False</td>\n      <td>True</td>\n      <td>True</td>\n      <td>True</td>\n    </tr>\n    <tr>\n      <th>4</th>\n      <td>tf_isoform_ppis</td>\n      <td>101026</td>\n      <td>ZBTB16|2/2|01D03</td>\n      <td>ZBTB16</td>\n      <td>10057</td>\n      <td>HOXA1</td>\n      <td>NC</td>\n      <td>TFr11</td>\n      <td>1</td>\n      <td>B02</td>\n      <td>False</td>\n      <td>True</td>\n      <td>True</td>\n      <td>False</td>\n      <td>True</td>\n      <td>True</td>\n      <td>True</td>\n    </tr>\n  </tbody>\n</table>\n</div>"
                    },
                    "metadata": {},
                    "execution_count": 20
                }
            ],
            "source": [
                "df.head()"
            ]
        },
        {
            "cell_type": "code",
            "execution_count": 21,
            "metadata": {},
            "outputs": [],
            "source": [
                "df = df.loc[(df['category'] == 'tf_isoform_ppis') &\n",
                "        df['at_least_2_isoforms'] &\n",
                "        df['at_least_2_partners'], \n",
                "        :].groupby('ad_gene_symbol')[['ad_clone_acc',\n",
                "        'db_gene_symbol']].nunique().rename(columns={'ad_clone_acc': 'n_isoforms',\n",
                "                                                     'db_gene_symbol': 'n_partners'}).sort_values(['n_isoforms', 'n_partners'])"
            ]
        },
        {
            "cell_type": "code",
            "execution_count": 22,
            "metadata": {},
            "outputs": [
                {
                    "output_type": "execute_result",
                    "data": {
                        "text/plain": [
                            "                n_isoforms  n_partners\n",
                            "ad_gene_symbol                        \n",
                            "ARNTL                    2           2\n",
                            "E2F6                     2           2\n",
                            "ETV6                     2           2\n",
                            "FOXJ2                    2           2\n",
                            "HSF2                     2           2"
                        ],
                        "text/html": "<div>\n<style scoped>\n    .dataframe tbody tr th:only-of-type {\n        vertical-align: middle;\n    }\n\n    .dataframe tbody tr th {\n        vertical-align: top;\n    }\n\n    .dataframe thead th {\n        text-align: right;\n    }\n</style>\n<table border=\"1\" class=\"dataframe\">\n  <thead>\n    <tr style=\"text-align: right;\">\n      <th></th>\n      <th>n_isoforms</th>\n      <th>n_partners</th>\n    </tr>\n    <tr>\n      <th>ad_gene_symbol</th>\n      <th></th>\n      <th></th>\n    </tr>\n  </thead>\n  <tbody>\n    <tr>\n      <th>ARNTL</th>\n      <td>2</td>\n      <td>2</td>\n    </tr>\n    <tr>\n      <th>E2F6</th>\n      <td>2</td>\n      <td>2</td>\n    </tr>\n    <tr>\n      <th>ETV6</th>\n      <td>2</td>\n      <td>2</td>\n    </tr>\n    <tr>\n      <th>FOXJ2</th>\n      <td>2</td>\n      <td>2</td>\n    </tr>\n    <tr>\n      <th>HSF2</th>\n      <td>2</td>\n      <td>2</td>\n    </tr>\n  </tbody>\n</table>\n</div>"
                    },
                    "metadata": {},
                    "execution_count": 22
                }
            ],
            "source": [
                "df.head()"
            ]
        },
        {
            "cell_type": "code",
            "execution_count": 23,
            "metadata": {},
            "outputs": [
                {
                    "output_type": "execute_result",
                    "data": {
                        "text/plain": [
                            "                n_isoforms  n_partners\n",
                            "ad_gene_symbol                        \n",
                            "FOXP2                    6          16\n",
                            "ZBTB44                   6          20\n",
                            "SOX6                     6          26\n",
                            "ZNF451                   7          94\n",
                            "TCF4                     8         181"
                        ],
                        "text/html": "<div>\n<style scoped>\n    .dataframe tbody tr th:only-of-type {\n        vertical-align: middle;\n    }\n\n    .dataframe tbody tr th {\n        vertical-align: top;\n    }\n\n    .dataframe thead th {\n        text-align: right;\n    }\n</style>\n<table border=\"1\" class=\"dataframe\">\n  <thead>\n    <tr style=\"text-align: right;\">\n      <th></th>\n      <th>n_isoforms</th>\n      <th>n_partners</th>\n    </tr>\n    <tr>\n      <th>ad_gene_symbol</th>\n      <th></th>\n      <th></th>\n    </tr>\n  </thead>\n  <tbody>\n    <tr>\n      <th>FOXP2</th>\n      <td>6</td>\n      <td>16</td>\n    </tr>\n    <tr>\n      <th>ZBTB44</th>\n      <td>6</td>\n      <td>20</td>\n    </tr>\n    <tr>\n      <th>SOX6</th>\n      <td>6</td>\n      <td>26</td>\n    </tr>\n    <tr>\n      <th>ZNF451</th>\n      <td>7</td>\n      <td>94</td>\n    </tr>\n    <tr>\n      <th>TCF4</th>\n      <td>8</td>\n      <td>181</td>\n    </tr>\n  </tbody>\n</table>\n</div>"
                    },
                    "metadata": {},
                    "execution_count": 23
                }
            ],
            "source": [
                "df.tail()"
            ]
        },
        {
            "cell_type": "code",
            "execution_count": 61,
            "metadata": {},
            "outputs": [],
            "source": [
                "df.groupby(['n_isoforms', 'n_partners']).size().to_frame().rename(columns={0: 'n_tf_genes'}).to_clipboard()"
            ]
        },
        {
            "cell_type": "code",
            "execution_count": 26,
            "metadata": {},
            "outputs": [
                {
                    "output_type": "execute_result",
                    "data": {
                        "text/plain": [
                            "   n_isoforms  n_partners  n_tf_genes\n",
                            "0           2           2          14\n",
                            "1           2           3           6\n",
                            "2           2           4           7\n",
                            "3           2           6           4\n",
                            "4           2           7           1"
                        ],
                        "text/html": "<div>\n<style scoped>\n    .dataframe tbody tr th:only-of-type {\n        vertical-align: middle;\n    }\n\n    .dataframe tbody tr th {\n        vertical-align: top;\n    }\n\n    .dataframe thead th {\n        text-align: right;\n    }\n</style>\n<table border=\"1\" class=\"dataframe\">\n  <thead>\n    <tr style=\"text-align: right;\">\n      <th></th>\n      <th>n_isoforms</th>\n      <th>n_partners</th>\n      <th>n_tf_genes</th>\n    </tr>\n  </thead>\n  <tbody>\n    <tr>\n      <th>0</th>\n      <td>2</td>\n      <td>2</td>\n      <td>14</td>\n    </tr>\n    <tr>\n      <th>1</th>\n      <td>2</td>\n      <td>3</td>\n      <td>6</td>\n    </tr>\n    <tr>\n      <th>2</th>\n      <td>2</td>\n      <td>4</td>\n      <td>7</td>\n    </tr>\n    <tr>\n      <th>3</th>\n      <td>2</td>\n      <td>6</td>\n      <td>4</td>\n    </tr>\n    <tr>\n      <th>4</th>\n      <td>2</td>\n      <td>7</td>\n      <td>1</td>\n    </tr>\n  </tbody>\n</table>\n</div>"
                    },
                    "metadata": {},
                    "execution_count": 26
                }
            ],
            "source": [
                "counts = df.groupby(['n_isoforms', 'n_partners']).size().to_frame().rename(columns={0: 'n_tf_genes'}).reset_index()\n",
                "counts.head()"
            ]
        },
        {
            "cell_type": "code",
            "execution_count": 32,
            "metadata": {},
            "outputs": [
                {
                    "output_type": "execute_result",
                    "data": {
                        "text/plain": [
                            "5447"
                        ]
                    },
                    "metadata": {},
                    "execution_count": 32
                }
            ],
            "source": [
                "# 7 by 12\n",
                "counts.prod(axis=1).sum()"
            ]
        },
        {
            "cell_type": "code",
            "execution_count": 36,
            "metadata": {},
            "outputs": [
                {
                    "output_type": "execute_result",
                    "data": {
                        "text/plain": [
                            "65.0"
                        ]
                    },
                    "metadata": {},
                    "execution_count": 36
                }
            ],
            "source": [
                "np.round(counts.prod(axis=1).sum() / (7*12))"
            ]
        },
        {
            "cell_type": "code",
            "execution_count": 53,
            "metadata": {},
            "outputs": [
                {
                    "output_type": "stream",
                    "name": "stdout",
                    "text": [
                        "1\n1\n1\n1\n1\n1\n1\n1\n1\n1\n1\n"
                    ]
                },
                {
                    "output_type": "execute_result",
                    "data": {
                        "text/plain": [
                            "75"
                        ]
                    },
                    "metadata": {},
                    "execution_count": 53
                }
            ],
            "source": [
                "plate_count, row_count, column_count, well_count = 0, 0, 0, 0\n",
                "row_max, column_max = 7, 12\n",
                "plate_max = row_max * column_max\n",
                "for _i, row in counts.iterrows():\n",
                "    n_wells = row['n_isoforms'] * row['n_partners']\n",
                "    if n_wells > plate_max:\n",
                "        print(row['n_tf_genes'])\n",
                "        plate_count += math.ceil(n_wells / plate_max) * row['n_tf_genes']\n",
                "        continue\n",
                "    for i_gene in range(1, row['n_tf_genes'] + 1):\n",
                "\n",
                "        #if row_count + row['n_isoforms'] > row_max:\n",
                "        #    if column_count + row['n_partners'] > row_max:\n",
                "\n",
                "        if well_count + n_wells > plate_max:\n",
                "            plate_count += 1\n",
                "            well_count = n_wells\n",
                "        else:\n",
                "            well_count += n_wells\n",
                "plate_count"
            ]
        },
        {
            "cell_type": "code",
            "execution_count": 56,
            "metadata": {},
            "outputs": [
                {
                    "output_type": "execute_result",
                    "data": {
                        "text/plain": [
                            "                n_isoforms  n_partners\n",
                            "ad_gene_symbol                        \n",
                            "ARNTL                    2           2\n",
                            "E2F6                     2           2\n",
                            "ETV6                     2           2\n",
                            "FOXJ2                    2           2\n",
                            "HSF2                     2           2"
                        ],
                        "text/html": "<div>\n<style scoped>\n    .dataframe tbody tr th:only-of-type {\n        vertical-align: middle;\n    }\n\n    .dataframe tbody tr th {\n        vertical-align: top;\n    }\n\n    .dataframe thead th {\n        text-align: right;\n    }\n</style>\n<table border=\"1\" class=\"dataframe\">\n  <thead>\n    <tr style=\"text-align: right;\">\n      <th></th>\n      <th>n_isoforms</th>\n      <th>n_partners</th>\n    </tr>\n    <tr>\n      <th>ad_gene_symbol</th>\n      <th></th>\n      <th></th>\n    </tr>\n  </thead>\n  <tbody>\n    <tr>\n      <th>ARNTL</th>\n      <td>2</td>\n      <td>2</td>\n    </tr>\n    <tr>\n      <th>E2F6</th>\n      <td>2</td>\n      <td>2</td>\n    </tr>\n    <tr>\n      <th>ETV6</th>\n      <td>2</td>\n      <td>2</td>\n    </tr>\n    <tr>\n      <th>FOXJ2</th>\n      <td>2</td>\n      <td>2</td>\n    </tr>\n    <tr>\n      <th>HSF2</th>\n      <td>2</td>\n      <td>2</td>\n    </tr>\n  </tbody>\n</table>\n</div>"
                    },
                    "metadata": {},
                    "execution_count": 56
                }
            ],
            "source": [
                "# try paralogs\n",
                "# try grouping paralog pairs?\n",
                "df.head()"
            ]
        },
        {
            "cell_type": "code",
            "execution_count": 49,
            "metadata": {},
            "outputs": [
                {
                    "output_type": "execute_result",
                    "data": {
                        "text/plain": [
                            "(106, 2)"
                        ]
                    },
                    "metadata": {},
                    "execution_count": 49
                }
            ],
            "source": [
                "df.shape"
            ]
        },
        {
            "cell_type": "code",
            "execution_count": null,
            "metadata": {},
            "outputs": [],
            "source": []
        },
        {
            "cell_type": "code",
            "execution_count": 45,
            "metadata": {},
            "outputs": [
                {
                    "output_type": "execute_result",
                    "data": {
                        "text/plain": [
                            "2"
                        ]
                    },
                    "metadata": {},
                    "execution_count": 45
                }
            ],
            "source": [
                "import math\n",
                "\n",
                "math.ceil(100 / 90)"
            ]
        },
        {
            "cell_type": "code",
            "execution_count": null,
            "metadata": {},
            "outputs": [],
            "source": []
        }
    ]
}