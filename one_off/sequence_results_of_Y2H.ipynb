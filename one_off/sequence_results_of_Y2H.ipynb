{
 "cells": [
  {
   "cell_type": "code",
   "execution_count": null,
   "metadata": {},
   "outputs": [],
   "source": [
    "# Adding sequencing results to Y2H\n",
    "# TODO: move somewhere else!\n",
    "import numpy as np\n",
    "import pandas as pd\n",
    "import ccsblib\n",
    "df = pd.read_csv('../data/internal/Y2H-data_2021-09-03_missing-sequence-confirmation.tsv', # 'internal/y2h_data.tsv',\n",
    "                 sep='\\t',\n",
    "                 na_values=[''],\n",
    "                 keep_default_na=False)\n",
    "qry = \"\"\"SELECT retest_pla, retest_pos, seq_confirmation as seq_confirmation_3AT\n",
    "         FROM tf_screen.tffnl_scores;\"\"\"\n",
    "seq_3at = pd.read_sql(qry, ccsblib.paros_connection())\n",
    "df = pd.merge(df, \n",
    "    seq_3at, \n",
    "    on=['retest_pla', 'retest_pos'],\n",
    "    how='left')\n",
    "df['seq_confirmation_3AT'] = df['seq_confirmation_3AT'].map({'y': True, 'diff_isoform': False}).fillna(False)\n",
    "# next line silently converts bool column to float\n",
    "df.loc[(df['3AT'] == 'NA') | (df['3AT'] == '0'), 'seq_confirmation_3AT'] = np.nan\n",
    "df['seq_confirmation_3AT'] = df['seq_confirmation_3AT'].astype('boolean')\n",
    "qry = \"\"\"SELECT retest_pla, retest_pos, \n",
    "                seq_confirmation as seq_confirmation_LW\n",
    "         FROM tf_screen.tffnl2seq;\"\"\"\n",
    "seq_lw = pd.read_sql(qry, ccsblib.paros_connection())\n",
    "seq_lw['seq_confirmation_LW'] = seq_lw['seq_confirmation_LW'].map({'y': True, 'diff_isoform': False}).fillna(False)\n",
    "df = pd.merge(df, \n",
    "    seq_lw, \n",
    "    on=['retest_pla', 'retest_pos'],\n",
    "    how='left')\n",
    "df['seq_confirmation_LW'] = df['seq_confirmation_LW'].fillna(True)\n",
    "df.loc[(df['seq_confirmation_LW'] == False) | (df['seq_confirmation_3AT'] == False), 'Y2H_result'] = np.nan\n",
    "df.to_csv('../data/internal/Y2H-data_2022-03-08.tsv', index=False, sep='\\t')\n"
   ]
  }
 ],
 "metadata": {
  "language_info": {
   "name": "python"
  },
  "orig_nbformat": 4
 },
 "nbformat": 4,
 "nbformat_minor": 2
}
