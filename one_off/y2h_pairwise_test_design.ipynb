{
 "cells": [
  {
   "cell_type": "markdown",
   "metadata": {},
   "source": []
  },
  {
   "cell_type": "code",
   "execution_count": 1,
   "metadata": {},
   "outputs": [],
   "source": [
    "import math\n",
    "import string\n",
    "import itertools\n",
    "from collections import defaultdict\n",
    "\n",
    "import numpy as np\n",
    "from matplotlib import pyplot as plt\n",
    "import pandas as pd\n",
    "\n",
    "from data_loading import (load_isoform_and_paralog_y2h_data,\n",
    "                          load_y2h_isoform_data,\n",
    "                          load_y2h_paralogs_additional_data,\n",
    "                          load_paralog_pairs)"
   ]
  },
  {
   "cell_type": "code",
   "execution_count": 2,
   "metadata": {},
   "outputs": [],
   "source": [
    "y2h = load_isoform_and_paralog_y2h_data()\n",
    "y2h_para = load_y2h_paralogs_additional_data()\n",
    "y2h_para = y2h_para.loc[y2h_para['at_least_2_isoforms'] & y2h_para['at_least_2_partners'], :]\n",
    "pairs = load_paralog_pairs()\n",
    "\n",
    "# could also try with valid clones dataset\n",
    "y2h['at_least_2_isoforms'] = y2h['ad_gene_symbol'].map(y2h.loc[y2h['category'] == 'tf_isoform_ppis', :]\n",
    "                                                          .groupby('ad_gene_symbol')\n",
    "                                                          ['ad_clone_acc']\n",
    "                                                          .nunique() >= 2)\n",
    "y2h['at_least_2_partners'] = y2h['ad_gene_symbol'].map(y2h.loc[y2h['category'] == 'tf_isoform_ppis', :]\n",
    "                                                          .groupby('ad_gene_symbol')\n",
    "                                                          ['db_gene_symbol']\n",
    "                                                          .nunique() >= 2)\n",
    "y2h_iso = y2h.loc[(y2h['category'] == 'tf_isoform_ppis') &\n",
    "                  y2h['at_least_2_isoforms'] &\n",
    "                  y2h['at_least_2_partners'],\n",
    "                  :]"
   ]
  },
  {
   "cell_type": "code",
   "execution_count": 3,
   "metadata": {},
   "outputs": [],
   "source": [
    "filtered_pairs = y2h_para.loc[y2h_para['at_least_2_isoforms'] & \n",
    "             y2h_para['at_least_2_partners'],\n",
    "             ['ad_gene_symbol', 'paired_tf_gene']].drop_duplicates()\n",
    "filtered_pairs = {frozenset([row['ad_gene_symbol'], g]) for _i, row in filtered_pairs.iterrows() for g in row['paired_tf_gene'].split('|')}"
   ]
  },
  {
   "cell_type": "code",
   "execution_count": 4,
   "metadata": {},
   "outputs": [],
   "source": [
    "pairs['additional_tested'] = pairs.apply(lambda x: frozenset([x['tf_gene_a'], x['tf_gene_b']]) in filtered_pairs,\n",
    "            axis=1)"
   ]
  },
  {
   "cell_type": "code",
   "execution_count": 5,
   "metadata": {},
   "outputs": [],
   "source": [
    "# check for pairs where one set of partners is a subset of the other\n",
    "iso_partners = y2h_iso.groupby('ad_gene_symbol')['db_gene_symbol'].apply(set)\n",
    "pairs['partners_a'] = pairs['tf_gene_a'].map(iso_partners)\n",
    "pairs['partners_b'] = pairs['tf_gene_b'].map(iso_partners)\n",
    "pairs['same_tested_partners'] = (pairs['partners_a'] == pairs['partners_b'])"
   ]
  },
  {
   "cell_type": "code",
   "execution_count": 6,
   "metadata": {},
   "outputs": [],
   "source": [
    "pairs.loc[pairs['additional_tested'] | pairs['same_tested_partners'],\n",
    "          ['tf_gene_a', 'tf_gene_b', 'is_paralog_pair']].to_csv('../cache/paralog_pairs_filtered.tsv', sep='\\t', index=False)"
   ]
  },
  {
   "cell_type": "code",
   "execution_count": 7,
   "metadata": {},
   "outputs": [
    {
     "data": {
      "text/plain": [
       "True     84\n",
       "False    12\n",
       "Name: is_paralog_pair, dtype: int64"
      ]
     },
     "execution_count": 7,
     "metadata": {},
     "output_type": "execute_result"
    }
   ],
   "source": [
    "pairs.loc[pairs['additional_tested'] | pairs['same_tested_partners'],\n",
    "          ['tf_gene_a', 'tf_gene_b', 'is_paralog_pair']]['is_paralog_pair'].value_counts()"
   ]
  },
  {
   "cell_type": "code",
   "execution_count": 8,
   "metadata": {},
   "outputs": [],
   "source": [
    "non_zero_iso = (set(y2h_iso.loc[y2h_iso['score'] == '1', 'ad_clone_acc'].unique())\n",
    "                .union(\n",
    "                    set(y2h_para.loc[y2h_para['score'] == '1', 'ad_clone_acc'].unique())\n",
    "                ))"
   ]
  },
  {
   "cell_type": "code",
   "execution_count": 9,
   "metadata": {},
   "outputs": [],
   "source": [
    "y2h_iso['non_zero_iso'] = y2h_iso['ad_clone_acc'].isin(non_zero_iso)\n",
    "y2h_para['non_zero_iso'] = y2h_para['ad_clone_acc'].isin(non_zero_iso)"
   ]
  },
  {
   "cell_type": "code",
   "execution_count": 10,
   "metadata": {},
   "outputs": [],
   "source": [
    "y2h_iso['at_least_2_non_zero_isoforms'] = (y2h_iso['ad_gene_symbol']\n",
    "                                            .map(y2h_iso.loc[y2h_iso['non_zero_iso'], :]\n",
    "                                                  .groupby('ad_gene_symbol')\n",
    "                                                  ['ad_clone_acc']\n",
    "                                                  .nunique() >= 2))"
   ]
  },
  {
   "cell_type": "code",
   "execution_count": 11,
   "metadata": {},
   "outputs": [],
   "source": [
    "y2h_iso['at_least_1_positive_per_partner'] = (y2h_iso.groupby(['ad_gene_symbol', 'db_gene_symbol'])\n",
    "                                           ['score']\n",
    "                                          .transform(lambda row: (row == '1').any()))\n",
    "# and at least two partners after excluding those without a postiive\n",
    "y2h_iso['at_least_1_positive_per_partner'] = (y2h_iso['at_least_1_positive_per_partner'] &\n",
    "                                         y2h_iso['ad_gene_symbol'].map(\n",
    "                                             y2h_iso.loc[y2h_iso['at_least_1_positive_per_partner'],\n",
    "                                                     :].groupby('ad_gene_symbol')['db_gene_symbol'].nunique() >= 2))"
   ]
  },
  {
   "cell_type": "code",
   "execution_count": 12,
   "metadata": {},
   "outputs": [
    {
     "data": {
      "text/plain": [
       "3993"
      ]
     },
     "execution_count": 12,
     "metadata": {},
     "output_type": "execute_result"
    }
   ],
   "source": [
    "(y2h_iso['at_least_1_positive_per_partner'] &\n",
    " y2h_iso['at_least_2_non_zero_isoforms']).sum()"
   ]
  },
  {
   "cell_type": "code",
   "execution_count": 13,
   "metadata": {},
   "outputs": [],
   "source": [
    "non_zero_gene_ppis = set((y2h_iso.loc[y2h_iso['at_least_1_positive_per_partner'] &\n",
    "                                y2h_iso['at_least_2_non_zero_isoforms'],\n",
    "                                ['ad_gene_symbol', 'db_gene_symbol']]\n",
    "                                .drop_duplicates()\n",
    "                                .apply(lambda x: x['ad_gene_symbol'] + '_' + x['db_gene_symbol'],\n",
    "                                        axis=1)).values)\n",
    "y2h_para['matches_non_zero_pair'] = y2h_para.apply(lambda x: any((g + '_' + x['db_gene_symbol']) in non_zero_gene_ppis\n",
    "                             for g in x['paired_tf_gene'].split('|')),\n",
    "               axis=1)"
   ]
  },
  {
   "cell_type": "code",
   "execution_count": 14,
   "metadata": {},
   "outputs": [
    {
     "data": {
      "text/plain": [
       "2533"
      ]
     },
     "execution_count": 14,
     "metadata": {},
     "output_type": "execute_result"
    }
   ],
   "source": [
    "(y2h_para['matches_non_zero_pair'] & y2h_para['non_zero_iso']).sum()"
   ]
  },
  {
   "cell_type": "code",
   "execution_count": 15,
   "metadata": {},
   "outputs": [
    {
     "name": "stdout",
     "output_type": "stream",
     "text": [
      "9758 total pairs\n",
      "7470 pairs, excluding isoforms with no PPIs\n"
     ]
    }
   ],
   "source": [
    "print(y2h_iso.shape[0] + y2h_para.shape[0], 'total pairs')\n",
    "print((y2h_iso['non_zero_iso'].sum() + y2h_para['non_zero_iso'].sum()),\n",
    "      'pairs, excluding isoforms with no PPIs')"
   ]
  },
  {
   "cell_type": "code",
   "execution_count": 16,
   "metadata": {},
   "outputs": [],
   "source": [
    "columns = ['ad_orf_id', 'ad_clone_acc', 'ad_gene_symbol', 'db_orf_id', 'db_gene_symbol']\n",
    "df = pd.concat([y2h_iso.loc[:, columns],\n",
    "                y2h_para.loc[:, columns]])\n",
    "gene_sizes = (df.groupby('ad_gene_symbol')[['ad_clone_acc',\n",
    "        'db_gene_symbol']]\n",
    "        .nunique()\n",
    "        .rename(columns={'ad_clone_acc': 'n_isoforms',\n",
    "                                                     'db_gene_symbol': 'n_partners'})\n",
    "                                                     .sort_values(['n_isoforms', 'n_partners'],\n",
    "                                                                  ascending=False))\n",
    "df['ad_clone_acc'] = df['ad_clone_acc'].apply(lambda x: x.split('|')[0] + '-' + x.split('|')[1].split('/')[0])\n",
    "df = df.sort_values(['ad_gene_symbol' , 'ad_clone_acc', 'db_gene_symbol'])\n",
    "if df.duplicated().any():\n",
    "    raise UserWarning('Unexpected duplicate rows in table')\n",
    "gene_sizes.head()\n",
    "orf_id_map = y2h.drop_duplicates(['ad_clone_acc']).set_index('ad_clone_acc')['ad_orf_id'].to_dict()\n",
    "orf_id_map = {x.split('|')[0] + '-' + x.split('|')[1].split('/')[0]: v for x, v in orf_id_map.items()}\n",
    "orf_id_map.update(y2h.drop_duplicates(['db_gene_symbol']).set_index('db_gene_symbol')['db_orf_id'].to_dict())"
   ]
  },
  {
   "cell_type": "code",
   "execution_count": 17,
   "metadata": {},
   "outputs": [],
   "source": [
    "class Plate:\n",
    "    def __init__(self, n_rows, n_columns, empty_name='empty'):\n",
    "        self.n_rows = n_rows\n",
    "        self.n_columns = n_columns\n",
    "        self.empty_name = empty_name\n",
    "        self.grid = [[empty_name for i in range(n_columns)] for j in range(n_rows)]\n",
    "\n",
    "    def add_matrix(self, matrix, pos_top_left, transpose=False):\n",
    "        n_rows = len(matrix)\n",
    "        n_columns = len(matrix[0])\n",
    "        if n_rows + pos_top_left[0] > self.n_rows or n_columns + pos_top_left[1] > self.n_columns:\n",
    "            raise ValueError('Does not fit: {} rows {} columns, top left position: {} \\n{}'.format(n_rows,\n",
    "                                                                  n_columns,\n",
    "                                                                  pos_top_left,\n",
    "                                                                  self))\n",
    "        for i, row in enumerate(matrix):\n",
    "            row_index = i + pos_top_left[0]\n",
    "            for j, well in enumerate(row):\n",
    "                column_index = j + pos_top_left[1]\n",
    "                if self.grid[row_index][column_index] != self.empty_name:\n",
    "                    raise ValueError('Well already occupied: {} {}\\n{}'.format(row_index, column_index, self))\n",
    "                self.grid[row_index][column_index] = well\n",
    "\n",
    "    def lowest_unoccupied_row(self):\n",
    "        for i in range(self.n_rows):\n",
    "            if self.grid[i] == [self.empty_name] * self.n_columns:\n",
    "                return i\n",
    "        return None\n",
    "\n",
    "    def leftmost_unoccupied_column(self):\n",
    "        for i in range(self.n_columns):\n",
    "            if [row[i] for row in self.grid] == [self.empty_name] * self.n_rows:\n",
    "                return i\n",
    "        return None\n",
    "\n",
    "    def is_empty(self):\n",
    "        return all(all(x == self.empty_name for x in row) for row in self.grid)\n",
    "\n",
    "    def is_full(self):\n",
    "        return all(all(x != self.empty_name for x in row) for row in self.grid)\n",
    "\n",
    "    def row_is_empty(self, row_index):\n",
    "        return all(x == self.empty_name for x in self.grid[row_index])\n",
    "\n",
    "    def column_is_empty(self, column_index):\n",
    "        return all(row[column_index] == self.empty_name for row in self.grid)\n",
    "\n",
    "    def empty_wells(self):\n",
    "        return {string.ascii_uppercase[i] + str(j + 1).zfill(2) for i, row in enumerate(self.grid) \n",
    "                                                                for j, x in enumerate(row) \n",
    "                                                                if x == self.empty_name}\n",
    "\n",
    "    def add_empty_row_below(self):\n",
    "        self.grid.append([self.empty_name] * self.n_columns)\n",
    "        self.n_rows += 1\n",
    "\n",
    "    def empty_rectangles_from_bottom_right(self):\n",
    "        \"\"\"Starting from the bottom right corner, all different rectangles of empty space,\n",
    "        which are not contained within another. Assumes plate is filled from top left.\n",
    "        \n",
    "            Returns [(int, int)]: number of rows, number of columns\n",
    "        \n",
    "        \"\"\"\n",
    "        if self.is_empty():\n",
    "            return [(self.n_rows, self.n_columns)]\n",
    "        if self.is_full():\n",
    "            return []\n",
    "\n",
    "        def count_empty_cells_from_right(row):\n",
    "            for i in range(1, self.n_columns + 1):\n",
    "                if row[-i] != self.empty_name:\n",
    "                    return i - 1\n",
    "            else:\n",
    "                return self.n_columns\n",
    "\n",
    "        rectangles = []\n",
    "        n_columns = count_empty_cells_from_right(self.grid[-1])  #sum(x == self.empty_name for x in self.grid[-1])\n",
    "        for row_index in reversed(range(self.n_rows)):\n",
    "            n_empty_cells = count_empty_cells_from_right(self.grid[row_index])  #sum(x == self.empty_name for x in self.grid[row_index])\n",
    "            if n_empty_cells == 0:\n",
    "                break\n",
    "            if n_empty_cells < n_columns:\n",
    "                rectangles.insert(0, ((self.n_rows - row_index) - 1,  n_columns))\n",
    "                n_columns = n_empty_cells\n",
    "        else:\n",
    "            rectangles.insert(0, (self.n_rows,  n_columns))\n",
    "        return rectangles\n",
    "\n",
    "    def xo_picture(self):\n",
    "        print('\\n'.join('|'.join('O' if cell == self.empty_name else 'X' for cell in row) for row in self.grid))\n",
    "\n",
    "    def __repr__(self):\n",
    "        return '\\n'.join('|'.join(row) for row in self.grid)"
   ]
  },
  {
   "cell_type": "code",
   "execution_count": 18,
   "metadata": {
    "tags": []
   },
   "outputs": [
    {
     "name": "stdout",
     "output_type": "stream",
     "text": [
      "795 Lit-BM / RRS pairs + empty-AD controls\n",
      "34 Lit-BM / RRS pairs left\n",
      "189 plates\n",
      "Success! Each plate has its own unique empty well code\n"
     ]
    }
   ],
   "source": [
    "def gene_fits_on_this_plate(plate, pair_matrix):\n",
    "    if plate.is_empty():\n",
    "        return True\n",
    "    n_row_gene = len(pair_matrix)\n",
    "    n_col_gene = len(pair_matrix[0])\n",
    "    if n_col_gene > plate.n_columns or n_row_gene > plate.n_rows:\n",
    "        return False  # only start genes too large to fit on a single row on an empty plate\n",
    "\n",
    "    for n_row_empty_spot, n_col_empty_spot in plate.empty_rectangles_from_bottom_right():\n",
    "        if  n_col_gene <= n_col_empty_spot and n_row_gene <= n_row_empty_spot:\n",
    "            return True\n",
    "    return False\n",
    "\n",
    "\n",
    "def add_gene_to_plates(plates, pair_matrix):\n",
    "    row_max = plates[-1].n_rows\n",
    "    column_max = plates[-1].n_columns\n",
    "    n_row_gene = len(pair_matrix)\n",
    "    n_col_gene = len(pair_matrix[0])\n",
    "    if n_row_gene > plates[-1].n_rows:  # rotate matrix for genes with too many isoforms to fit on a plate\n",
    "        row_max_transpose = row_max + 1\n",
    "        pair_matrix = [[pair_matrix[i][j] for i in range(len(pair_matrix))] for j in range(len(pair_matrix[0]))]\n",
    "        n_row_gene = len(pair_matrix)\n",
    "        n_cols = len(pair_matrix[0])\n",
    "        n_rows_split = [row_max_transpose] * (n_row_gene // row_max_transpose) + ([n_row_gene % row_max_transpose] if n_row_gene % row_max_transpose > 0 else [])\n",
    "        for i, n_rows in enumerate(n_rows_split):\n",
    "            plates[-1].add_empty_row_below()\n",
    "            matrix_subset = pair_matrix[i * row_max_transpose:i * row_max_transpose + n_rows]\n",
    "            plates[-1].add_matrix(matrix_subset,\n",
    "                                    pos_top_left=(0, 0))\n",
    "            plates.append(Plate(n_rows=row_max, n_columns=column_max))\n",
    "    elif n_col_gene > column_max:\n",
    "        row_count = 0\n",
    "        for i, n_cols in enumerate([column_max] * (n_col_gene // column_max) + ([n_col_gene % column_max] if n_col_gene % column_max > 0 else [])):\n",
    "                matrix_subset = [row[i * column_max:i * column_max + n_cols] for row in pair_matrix]\n",
    "                if row_count + n_row_gene > row_max:\n",
    "                    plates.append(Plate(n_rows=row_max, n_columns=column_max))\n",
    "                    row_count = 0\n",
    "                plates[-1].add_matrix(matrix_subset,\n",
    "                                      pos_top_left=(row_count, 0))\n",
    "                row_count += n_row_gene\n",
    "    else:\n",
    "        for n_row_empty_spot, n_col_empty_spot in plates[-1].empty_rectangles_from_bottom_right():\n",
    "            if  n_col_gene <= n_col_empty_spot and n_row_gene <= n_row_empty_spot:\n",
    "                plates[-1].add_matrix(pair_matrix,\n",
    "                                      pos_top_left=(plates[-1].n_rows - n_row_empty_spot,\n",
    "                                                    plates[-1].n_columns - n_col_empty_spot))\n",
    "                break\n",
    "        else:\n",
    "            raise UserWarning('could not add to plate')\n",
    "\n",
    "\n",
    "def solve_plate_layout(genes, row_max=7, column_max=12):\n",
    "    \"\"\"\n",
    "    \"\"\"\n",
    "    #plates = [Plate(n_rows=7, n_columns=12)]  # start with one empty plate\n",
    "    plates = []\n",
    "    unallocated = dict(sorted(genes.items(),\n",
    "                              key=lambda x: (len(x[1][0]), len(x[1])),\n",
    "                              reverse=True)).copy()\n",
    "\n",
    "\n",
    "    sizes = (pd.DataFrame([[k, len(v), len(v[0])] for k, v in unallocated.items()],\n",
    "                         columns=['tf_gene_name', 'n_rows', 'n_columns'])\n",
    "                        .sort_values(['n_columns', 'n_rows'], ascending=False))\n",
    "    # start with largest 4, pair with 3's\n",
    "    matched = []\n",
    "    for i, row4 in sizes.loc[(sizes['n_rows'] == 4) & (sizes['n_columns'] >= 24), :].iterrows():\n",
    "        col_count = 0\n",
    "        paired = []\n",
    "        for j, row3 in (sizes.loc[(sizes['n_rows'] == 3) &\n",
    "                                (sizes['n_columns'] >= 24) &\n",
    "                                    ~sizes['tf_gene_name'].isin([three for four, threes in matched for three in threes]), :]\n",
    "                            .iterrows()):\n",
    "            if row3['n_columns'] + col_count < row4['n_columns']:\n",
    "                col_count += row3['n_columns']\n",
    "                paired.append(row3['tf_gene_name'])\n",
    "        if len(paired) > 0:\n",
    "            matched.append((row4['tf_gene_name'], paired))\n",
    "    for gene_4rows, genes_3rows in matched:\n",
    "        matrix4 = unallocated[gene_4rows]\n",
    "        matrix3 = [[x for gene in genes_3rows for x in unallocated[gene][row_index]] for row_index in range(3)]\n",
    "        for i in range(math.ceil(len(matrix4[0]) / column_max)):\n",
    "            plates.append(Plate(n_rows=7, n_columns=12))\n",
    "            plates[-1].add_matrix([row[i * column_max:(i + 1) * column_max] for row in matrix4],\n",
    "                                  pos_top_left=(0, 0))\n",
    "            plates[-1].add_matrix([row[i * column_max:(i + 1) * column_max] for row in matrix3],\n",
    "                                  pos_top_left=(4, 0))\n",
    "        for tf_gene_name in [gene_4rows] + genes_3rows:\n",
    "            del unallocated[tf_gene_name]\n",
    "\n",
    "\n",
    "    while len(unallocated) > 0:\n",
    "        for tf_gene_name, pair_matrix in unallocated.items():\n",
    "            if gene_fits_on_this_plate(plates[-1], pair_matrix):\n",
    "                add_gene_to_plates(plates, pair_matrix)\n",
    "                del unallocated[tf_gene_name]\n",
    "                break\n",
    "        else:  # if no gene fits, start a new empty plate\n",
    "            plates.append(Plate(n_rows=7, n_columns=12))   \n",
    "    return plates\n",
    "\n",
    "\n",
    "gene_matrices = {}\n",
    "for gene in df['ad_gene_symbol'].unique():\n",
    "    gene_matrices[gene] = []\n",
    "    for i, isoform in enumerate(list(df.loc[df['ad_gene_symbol'] == gene, 'ad_clone_acc'].unique()) + ['empty-AD']):\n",
    "        gene_matrices[gene].append([])\n",
    "        for partner in df.loc[df['ad_gene_symbol'] == gene, 'db_gene_symbol'].unique():\n",
    "            gene_matrices[gene][i].append(isoform + '/' + partner)\n",
    "plates = solve_plate_layout(gene_matrices)\n",
    "for plate in plates:\n",
    "    if plate.n_rows == 7:\n",
    "        plate.add_empty_row_below()\n",
    "\n",
    "\n",
    "\n",
    "\n",
    "##### merge some of the plates\n",
    "n_col_used = {i: p.leftmost_unoccupied_column() for i, p in enumerate(plates) \n",
    "              if p.leftmost_unoccupied_column() is not None\n",
    "              and p.row_is_empty(7)}\n",
    "to_merge = []\n",
    "count = 0\n",
    "group = []\n",
    "for plate_idx, n_col in n_col_used.items():\n",
    "    if n_col + count <= 12:\n",
    "        group.append(plate_idx)\n",
    "        count += n_col\n",
    "    else:\n",
    "        if len(group) > 1:\n",
    "            to_merge.append(group)\n",
    "        count = 0\n",
    "        group = []\n",
    "else:\n",
    "    if len(group) > 1:\n",
    "        to_merge.append(group)\n",
    "\n",
    "\n",
    "def merge_two_plates(plate_a, plate_b):\n",
    "    grid_b = [[cell for cell in row if cell != plate_b.empty_name] for row in plate_b.grid]\n",
    "    grid_b = [row for row in grid_b if len(row) > 0]\n",
    "    plate_a.add_matrix(grid_b, pos_top_left=(0, plate_a.leftmost_unoccupied_column()))\n",
    "\n",
    "\n",
    "for group in to_merge:\n",
    "    for plate_idx in group[1:]:\n",
    "        merge_two_plates(plates[group[0]], plates[plate_idx])\n",
    "for plate_idx in sorted([i for group in to_merge for i in group[1:]], reverse=True):\n",
    "    del plates[plate_idx]\n",
    "\n",
    "\n",
    "\n",
    "# Lit-BM and RRS pairs\n",
    "litbm_rrs = y2h.loc[y2h['category'].isin(['rrs_isoforms', 'lit_bm_isoforms']), ['ad_clone_acc', 'db_gene_symbol', 'category']].drop_duplicates().copy()\n",
    "litbm_rrs['ad_clone_acc'] = litbm_rrs['ad_clone_acc'].apply(lambda x: x.split('|')[0] + '-' + x.split('|')[1].split('/')[0])\n",
    "seed = 307272992\n",
    "litbm_rrs['pair'] = litbm_rrs['ad_clone_acc'] + '/' + litbm_rrs['db_gene_symbol']\n",
    "litbm_rrs['already_tested'] = litbm_rrs['pair'].isin((df['ad_clone_acc'] + '/' + df['db_gene_symbol']).values)\n",
    "litbm_rrs_pairs = litbm_rrs.loc[~litbm_rrs['already_tested'], 'pair'].to_list()\n",
    "np.random.seed(seed)\n",
    "np.random.shuffle(litbm_rrs_pairs)\n",
    "# TODO: add empty-AD for lit-bm and rrs\n",
    "litbm_rrs_pairs_with_empty_AD = [x if b else 'empty-AD/' + x.split('/')[1] for x in litbm_rrs_pairs for b in (True, False)]\n",
    "litbm_rrs_pairs = []\n",
    "for x in litbm_rrs_pairs_with_empty_AD:\n",
    "    if x not in litbm_rrs_pairs:\n",
    "        litbm_rrs_pairs.append(x)\n",
    "\n",
    "print(len(litbm_rrs_pairs), 'Lit-BM / RRS pairs + empty-AD controls')\n",
    "\n",
    "# increment a separate empty-well code for each empty-well pattern of 7 by 12\n",
    "def new_code_iter():\n",
    "    return itertools.cycle(itertools.product([False, True], repeat=6))\n",
    "\n",
    "empty_well_code_h = defaultdict(new_code_iter)\n",
    "empty_well_code_v = itertools.cycle(itertools.product([False, True], repeat=6))\n",
    "for plate in plates:\n",
    "    if plate.row_is_empty(7):\n",
    "        code = next(empty_well_code_h[frozenset({x for x in plate.empty_wells() if not x.startswith('H')})])\n",
    "        plate.add_matrix([['control-' + str(i) for i in range(1, 7)] +\n",
    "                          [litbm_rrs_pairs.pop() if b and len(litbm_rrs_pairs) > 0 else 'empty' for b in code]],\n",
    "                         (7, 0))\n",
    "    elif plate.column_is_empty(9) and plate.column_is_empty(10) and plate.column_is_empty(11):\n",
    "        plate.add_matrix([[litbm_rrs_pairs.pop() if len(litbm_rrs_pairs) > 0 else 'empty'] for j in range(8)],\n",
    "                         pos_top_left=(0, 9))\n",
    "        plate.add_matrix([[litbm_rrs_pairs.pop() if b and len(litbm_rrs_pairs) > 0 else 'empty'] for b in next(empty_well_code_v)] +\n",
    "                         [[litbm_rrs_pairs.pop() if len(litbm_rrs_pairs) > 0 else 'empty'] for __i in range(2)],\n",
    "                         (0, 10))\n",
    "        plate.add_matrix([['control-' + str(i)] for i in range(1, 7)] +\n",
    "                         [[litbm_rrs_pairs.pop() if len(litbm_rrs_pairs) > 0 else 'empty'] for __i in range(2)],\n",
    "                         (0, 11))\n",
    "\n",
    "if len(litbm_rrs_pairs) > 0:\n",
    "    print(len(litbm_rrs_pairs), 'Lit-BM / RRS pairs left')\n",
    "\n",
    "if not all([p.n_rows == 8 and p.n_columns == 12 for p in plates]):\n",
    "    raise UserWarning('Some wrong sized plates')\n",
    "\n",
    "with open('../output/plate_arrangement.txt', 'w') as f:\n",
    "    f.write('\\n\\n\\n'.join([str(p) for p in plates]))\n",
    "\n",
    "\n",
    "def plates_to_table(plates):\n",
    "    data = []\n",
    "    # reverse so we go from small gene matrices to large\n",
    "    for i, plate in enumerate(reversed(plates)):\n",
    "        for j, row in enumerate(plate.grid):\n",
    "            for k, pair in enumerate(row):\n",
    "                if pair == 'empty':\n",
    "                    ad = np.nan\n",
    "                    db = np.nan\n",
    "                elif pair.startswith('control-'):\n",
    "                    ad = pair\n",
    "                    db = pair\n",
    "                else:\n",
    "                    ad, db = pair.split('/')\n",
    "                data.append((i + 1,\n",
    "                             string.ascii_uppercase[j] + str(k + 1).zfill(2),\n",
    "                             ad,\n",
    "                             orf_id_map.get(ad, np.nan),\n",
    "                             db,\n",
    "                             orf_id_map.get(db, np.nan)))\n",
    "    df = pd.DataFrame(data, columns=['test_pla', 'test_pos', 'ad_clone_acc', 'ad_orf_id', 'db_gene_symbol', 'db_orf_id'])\n",
    "    # ORF ID as Int with missing values (otherwise will be float by default)\n",
    "    df['ad_orf_id'] = df['ad_orf_id'].astype('Int64')\n",
    "    df['db_orf_id'] = df['db_orf_id'].astype('Int64')\n",
    "    return df\n",
    "\n",
    "\n",
    "plates_to_table(plates).to_csv('../output/plate_arrangement.tsv', sep='\\t', index=False)\n",
    "\n",
    "print(len(plates), 'plates')\n",
    "\n",
    "n_empty_well_codes = len({frozenset(p.empty_wells()) for p in plates})\n",
    "if n_empty_well_codes == len(plates):\n",
    "    print('Success! Each plate has its own unique empty well code')\n",
    "else:\n",
    "    print(len(plates) - n_empty_well_codes, 'duplicates empty well codes')"
   ]
  },
  {
   "cell_type": "code",
   "execution_count": 19,
   "metadata": {},
   "outputs": [
    {
     "name": "stdout",
     "output_type": "stream",
     "text": [
      "189 plates\n"
     ]
    }
   ],
   "source": [
    "# check that the output file is OK\n",
    "out = pd.read_csv('../output/plate_arrangement.tsv', sep='\\t')\n",
    "out['ad_orf_id'] = out['ad_orf_id'].astype('Int64')\n",
    "out['db_orf_id'] = out['db_orf_id'].astype('Int64')\n",
    "# check number of plates\n",
    "print(out['test_pla'].nunique(), 'plates')\n",
    "if out['test_pla'].isnull().any() or out['test_pos'].isnull().any():\n",
    "    raise UserWarning('Unexpected nulls')\n",
    "if out.duplicated(['test_pla', 'test_pos']).any():\n",
    "    raise UserWarning('Unexpected duplicates')\n",
    "if not (out['test_pla'].value_counts() == 96).all():\n",
    "    raise UserWarning('Expected 96 wells per plate')\n",
    "if not out['test_pos'].isin({l + str(i).zfill(2) for l in string.ascii_uppercase[:8] for i in range(1, 13)}).all():\n",
    "    raise UserWarning('Invalid position')\n",
    "# check pairs are same as input\n",
    "if not (df['ad_orf_id'].astype(str) + '/' + df['db_orf_id'].astype(str)).isin(\n",
    "            out['ad_orf_id'].astype(str) + '/' + out['db_orf_id'].astype(str)).all():\n",
    "    raise UserWarning('Missing pairs!')\n",
    "if (out['ad_clone_acc'].notnull() & out['ad_orf_id'].isnull() &\n",
    "    (out['ad_clone_acc'] != 'empty-AD')\n",
    "    & (out['ad_clone_acc'] != 'control-1')\n",
    "    & (out['ad_clone_acc'] != 'control-2')\n",
    "    & (out['ad_clone_acc'] != 'control-3')\n",
    "    & (out['ad_clone_acc'] != 'control-4')\n",
    "    & (out['ad_clone_acc'] != 'control-5')\n",
    "    & (out['ad_clone_acc'] != 'control-6')).any():\n",
    "    raise UserWarning('missing ORF ID for some ADs')\n",
    "if (out['db_gene_symbol'].notnull() & out['db_orf_id'].isnull()\n",
    "    & (out['ad_clone_acc'] != 'control-1')\n",
    "    & (out['ad_clone_acc'] != 'control-2')\n",
    "    & (out['ad_clone_acc'] != 'control-3')\n",
    "    & (out['ad_clone_acc'] != 'control-4')\n",
    "    & (out['ad_clone_acc'] != 'control-5')\n",
    "    & (out['ad_clone_acc'] != 'control-6')).any():\n",
    "    raise UserWarning('missing ORF ID for some DBs')"
   ]
  },
  {
   "cell_type": "code",
   "execution_count": 33,
   "metadata": {},
   "outputs": [
    {
     "data": {
      "text/plain": [
       "test_pla             0\n",
       "test_pos             0\n",
       "ad_clone_acc      3676\n",
       "ad_orf_id         7812\n",
       "db_gene_symbol    3676\n",
       "db_orf_id         4810\n",
       "ad_gene_symbol    7812\n",
       "dtype: int64"
      ]
     },
     "execution_count": 33,
     "metadata": {},
     "output_type": "execute_result"
    }
   ],
   "source": [
    "out.isnull().sum()"
   ]
  },
  {
   "cell_type": "code",
   "execution_count": 34,
   "metadata": {},
   "outputs": [
    {
     "data": {
      "text/html": [
       "<div>\n",
       "<style scoped>\n",
       "    .dataframe tbody tr th:only-of-type {\n",
       "        vertical-align: middle;\n",
       "    }\n",
       "\n",
       "    .dataframe tbody tr th {\n",
       "        vertical-align: top;\n",
       "    }\n",
       "\n",
       "    .dataframe thead th {\n",
       "        text-align: right;\n",
       "    }\n",
       "</style>\n",
       "<table border=\"1\" class=\"dataframe\">\n",
       "  <thead>\n",
       "    <tr style=\"text-align: right;\">\n",
       "      <th></th>\n",
       "      <th>test_pla</th>\n",
       "      <th>test_pos</th>\n",
       "      <th>ad_clone_acc</th>\n",
       "      <th>ad_orf_id</th>\n",
       "      <th>db_gene_symbol</th>\n",
       "      <th>db_orf_id</th>\n",
       "      <th>ad_gene_symbol</th>\n",
       "    </tr>\n",
       "  </thead>\n",
       "  <tbody>\n",
       "    <tr>\n",
       "      <th>0</th>\n",
       "      <td>1</td>\n",
       "      <td>A01</td>\n",
       "      <td>ZIC3-1</td>\n",
       "      <td>101257</td>\n",
       "      <td>AQP1</td>\n",
       "      <td>1231</td>\n",
       "      <td>ZIC3</td>\n",
       "    </tr>\n",
       "    <tr>\n",
       "      <th>1</th>\n",
       "      <td>1</td>\n",
       "      <td>A02</td>\n",
       "      <td>ZIC3-1</td>\n",
       "      <td>101257</td>\n",
       "      <td>CATSPER1</td>\n",
       "      <td>1769</td>\n",
       "      <td>ZIC3</td>\n",
       "    </tr>\n",
       "    <tr>\n",
       "      <th>2</th>\n",
       "      <td>1</td>\n",
       "      <td>A03</td>\n",
       "      <td>ZIC3-1</td>\n",
       "      <td>101257</td>\n",
       "      <td>GCC1</td>\n",
       "      <td>7306</td>\n",
       "      <td>ZIC3</td>\n",
       "    </tr>\n",
       "    <tr>\n",
       "      <th>3</th>\n",
       "      <td>1</td>\n",
       "      <td>A04</td>\n",
       "      <td>ZIC3-1</td>\n",
       "      <td>101257</td>\n",
       "      <td>HSD3B7</td>\n",
       "      <td>4278</td>\n",
       "      <td>ZIC3</td>\n",
       "    </tr>\n",
       "    <tr>\n",
       "      <th>4</th>\n",
       "      <td>1</td>\n",
       "      <td>A05</td>\n",
       "      <td>ZIC3-1</td>\n",
       "      <td>101257</td>\n",
       "      <td>KRTAP9-3</td>\n",
       "      <td>71609</td>\n",
       "      <td>ZIC3</td>\n",
       "    </tr>\n",
       "  </tbody>\n",
       "</table>\n",
       "</div>"
      ],
      "text/plain": [
       "   test_pla test_pos ad_clone_acc  ad_orf_id db_gene_symbol  db_orf_id  \\\n",
       "0         1      A01       ZIC3-1     101257           AQP1       1231   \n",
       "1         1      A02       ZIC3-1     101257       CATSPER1       1769   \n",
       "2         1      A03       ZIC3-1     101257           GCC1       7306   \n",
       "3         1      A04       ZIC3-1     101257         HSD3B7       4278   \n",
       "4         1      A05       ZIC3-1     101257       KRTAP9-3      71609   \n",
       "\n",
       "  ad_gene_symbol  \n",
       "0           ZIC3  \n",
       "1           ZIC3  \n",
       "2           ZIC3  \n",
       "3           ZIC3  \n",
       "4           ZIC3  "
      ]
     },
     "execution_count": 34,
     "metadata": {},
     "output_type": "execute_result"
    }
   ],
   "source": [
    "out.head()"
   ]
  },
  {
   "cell_type": "code",
   "execution_count": 21,
   "metadata": {},
   "outputs": [
    {
     "data": {
      "text/plain": [
       "ZIC3-1/AQP1|ZIC3-1/CATSPER1|ZIC3-1/GCC1|ZIC3-1/HSD3B7|ZIC3-1/KRTAP9-3|ZIC3-1/MAPK9|ZIC3-1/NME7|ZIC3-1/PIN1|ZIC3-1/PITX1|ZIC3-1/PRKAA2|ZIC3-1/STK36|ZIC3-1/SUFU\n",
       "ZIC3-2/AQP1|ZIC3-2/CATSPER1|ZIC3-2/GCC1|ZIC3-2/HSD3B7|ZIC3-2/KRTAP9-3|ZIC3-2/MAPK9|ZIC3-2/NME7|ZIC3-2/PIN1|ZIC3-2/PITX1|ZIC3-2/PRKAA2|ZIC3-2/STK36|ZIC3-2/SUFU\n",
       "ZIC3-3/AQP1|ZIC3-3/CATSPER1|ZIC3-3/GCC1|ZIC3-3/HSD3B7|ZIC3-3/KRTAP9-3|ZIC3-3/MAPK9|ZIC3-3/NME7|ZIC3-3/PIN1|ZIC3-3/PITX1|ZIC3-3/PRKAA2|ZIC3-3/STK36|ZIC3-3/SUFU\n",
       "empty-AD/AQP1|empty-AD/CATSPER1|empty-AD/GCC1|empty-AD/HSD3B7|empty-AD/KRTAP9-3|empty-AD/MAPK9|empty-AD/NME7|empty-AD/PIN1|empty-AD/PITX1|empty-AD/PRKAA2|empty-AD/STK36|empty-AD/SUFU\n",
       "empty|empty|empty|empty|empty|empty|empty|empty|empty|empty|empty|empty\n",
       "empty|empty|empty|empty|empty|empty|empty|empty|empty|empty|empty|empty\n",
       "empty|empty|empty|empty|empty|empty|empty|empty|empty|empty|empty|empty\n",
       "control-1|control-2|control-3|control-4|control-5|control-6|empty|empty|empty-AD/TRIM39|empty|empty|ZNF302-5/TRIM39"
      ]
     },
     "execution_count": 21,
     "metadata": {},
     "output_type": "execute_result"
    }
   ],
   "source": [
    "plates[-1]"
   ]
  },
  {
   "cell_type": "code",
   "execution_count": 22,
   "metadata": {},
   "outputs": [
    {
     "data": {
      "text/plain": [
       "0         1\n",
       "1         2\n",
       "2         3\n",
       "3         4\n",
       "4         5\n",
       "         ..\n",
       "18139     8\n",
       "18140     9\n",
       "18141    10\n",
       "18142    11\n",
       "18143    12\n",
       "Name: test_pos, Length: 18144, dtype: int64"
      ]
     },
     "execution_count": 22,
     "metadata": {},
     "output_type": "execute_result"
    }
   ],
   "source": [
    "out['test_pos'].str.slice(1,).astype(int)"
   ]
  },
  {
   "cell_type": "code",
   "execution_count": 23,
   "metadata": {},
   "outputs": [],
   "source": [
    "# TODO: this is no longer quite correct after the merging of plates\n",
    "\n",
    "# instead: for each gene, take first and last plate as the intervals and\n",
    "# then merge the overlapping ones\n",
    "\n",
    "\n",
    "# break points and ordering of plates\n",
    "out['ad_gene_symbol'] = out['ad_clone_acc'].apply(lambda x: np.nan if pd.isnull(x) or x.startswith('control') or x.startswith('empty') else x.split('-')[0])\n",
    "\n",
    "# removing the control rows\n",
    "tf_genes_per_plate = []\n",
    "for plate_idx in out['test_pla'].unique():\n",
    "    iso_a1 = out.loc[(out['test_pla'] == plate_idx) &\n",
    "                     (out['test_pos'] == 'A01'), 'ad_clone_acc'].values[0]\n",
    "    iso_b1 = out.loc[(out['test_pla'] == plate_idx) &\n",
    "                    (out['test_pos'] == 'B01'), 'ad_clone_acc'].values[0]\n",
    "    iso_a2 = out.loc[(out['test_pla'] == plate_idx) &\n",
    "                    (out['test_pos'] == 'A02'), 'ad_clone_acc'].values[0]\n",
    "    is_horizontal_stacked = ((iso_a1.split('-')[0] == iso_b1.split('-')[0]) and\n",
    "                             (iso_a1.split('-')[1] != iso_b1.split('-')[1]))\n",
    "    is_vertical_stacked = ((iso_a1.split('-')[0] == iso_a2.split('-')[0]) and\n",
    "                           (iso_a1.split('-')[1] != iso_a2.split('-')[1]))\n",
    "    if is_horizontal_stacked and is_vertical_stacked:\n",
    "        raise UserWarning('did not work. Plate: {}'.format(plate_idx))\n",
    "    if is_horizontal_stacked: \n",
    "        gs = out.loc[(out['test_pla'] == plate_idx) &\n",
    "                     (~out['test_pos'].str.startswith('H')),\n",
    "                     'ad_gene_symbol'].dropna().unique()\n",
    "        for g in gs:\n",
    "            tf_genes_per_plate.append((g, plate_idx))\n",
    "    elif is_vertical_stacked:  # vertical stacked\n",
    "        gs = out.loc[(out['test_pla'] == plate_idx) &\n",
    "                     (out['test_pos'].str.slice(1,).astype(int) <= 9),\n",
    "                     'ad_gene_symbol'].dropna().unique()\n",
    "        for g in gs:\n",
    "            tf_genes_per_plate.append((g, plate_idx))\n",
    "    else:\n",
    "        raise UserWarning('this did not work. Plate: {}'.format(plate_idx))\n",
    "tf_genes_per_plate = pd.DataFrame(data=tf_genes_per_plate, columns=['gene', 'plate'])\n",
    "bounds = []\n",
    "for g in tf_genes_per_plate['gene'].unique():\n",
    "    b = (tf_genes_per_plate.loc[tf_genes_per_plate['gene'] == g, 'plate'].min(),\n",
    "         tf_genes_per_plate.loc[tf_genes_per_plate['gene'] == g, 'plate'].max())\n",
    "    if b[0] != b[1]:\n",
    "        bounds.append(b)\n",
    "# remove duplicates\n",
    "bounds = [b for i, b in enumerate(bounds) if b not in bounds[:i]]\n",
    "# merge overlapping\n",
    "merged = []\n",
    "bounds = list(sorted(bounds, key=lambda x: x[0]))\n",
    "start, stop = bounds[0]\n",
    "for i in range(1, len(bounds)):\n",
    "    if bounds[i][0] > stop:\n",
    "        merged.append((start, stop))\n",
    "        start, stop = bounds[i]\n",
    "    else:\n",
    "        stop = max(stop, bounds[i][1])\n",
    "else:\n",
    "    merged.append((start, stop))\n",
    "\n",
    "with open('../output/plates_sharing_same_gene.txt', 'w') as f:\n",
    "    f.write('\\n'.join(['{}-{}'.format(*x) for x in merged]))"
   ]
  },
  {
   "cell_type": "code",
   "execution_count": 24,
   "metadata": {},
   "outputs": [],
   "source": [
    "with open('../output/empty_well_codes.txt', 'w') as f:\n",
    "    f.write('plate\\tempty wells\\n')\n",
    "    for i, plate in enumerate(plates):\n",
    "        f.write(str(i + 1) + '\\t' + ' '.join(sorted(plate.empty_wells())) + '\\n')"
   ]
  },
  {
   "cell_type": "code",
   "execution_count": 25,
   "metadata": {},
   "outputs": [
    {
     "name": "stdout",
     "output_type": "stream",
     "text": [
      "3676 empty wells out of 18144 20%\n"
     ]
    }
   ],
   "source": [
    "n_empty_wells = sum(len(p.empty_wells()) for p in plates)\n",
    "print('{} empty wells out of {} {:.0f}%'.format(n_empty_wells,\n",
    "                len(plates) * 96,\n",
    "                n_empty_wells / (len(plates) * 96) * 100))"
   ]
  },
  {
   "cell_type": "code",
   "execution_count": 26,
   "metadata": {},
   "outputs": [
    {
     "data": {
      "text/plain": [
       "Counter({6: 2,\n",
       "         5: 11,\n",
       "         4: 23,\n",
       "         3: 23,\n",
       "         2: 10,\n",
       "         37: 3,\n",
       "         24: 3,\n",
       "         12: 4,\n",
       "         54: 1,\n",
       "         33: 1,\n",
       "         21: 1,\n",
       "         1: 1,\n",
       "         20: 1,\n",
       "         82: 1,\n",
       "         31: 1,\n",
       "         65: 1,\n",
       "         41: 6,\n",
       "         36: 2,\n",
       "         30: 2,\n",
       "         29: 6,\n",
       "         28: 14,\n",
       "         27: 15,\n",
       "         18: 3,\n",
       "         11: 3,\n",
       "         10: 4,\n",
       "         9: 2,\n",
       "         13: 1,\n",
       "         42: 5,\n",
       "         26: 6,\n",
       "         35: 1,\n",
       "         39: 3,\n",
       "         17: 7,\n",
       "         25: 1,\n",
       "         16: 3,\n",
       "         34: 1,\n",
       "         23: 5,\n",
       "         15: 1,\n",
       "         22: 1,\n",
       "         40: 4,\n",
       "         44: 2,\n",
       "         78: 1,\n",
       "         45: 1,\n",
       "         68: 1,\n",
       "         48: 1})"
      ]
     },
     "execution_count": 26,
     "metadata": {},
     "output_type": "execute_result"
    }
   ],
   "source": [
    "from collections import Counter\n",
    "Counter(len(p.empty_wells()) for p in plates)"
   ]
  },
  {
   "cell_type": "code",
   "execution_count": null,
   "metadata": {},
   "outputs": [],
   "source": []
  }
 ],
 "metadata": {
  "kernelspec": {
   "display_name": "Python 3.8.6 64-bit ('venv')",
   "metadata": {
    "interpreter": {
     "hash": "a0fe067f1acd66b9f9fc8566e220f8b6ed8d308a719a4af7403342fba39a1d10"
    }
   },
   "name": "python3"
  },
  "language_info": {
   "codemirror_mode": {
    "name": "ipython",
    "version": 3
   },
   "file_extension": ".py",
   "mimetype": "text/x-python",
   "name": "python",
   "nbconvert_exporter": "python",
   "pygments_lexer": "ipython3",
   "version": "3.8.6-final"
  },
  "orig_nbformat": 2
 },
 "nbformat": 4,
 "nbformat_minor": 2
}
