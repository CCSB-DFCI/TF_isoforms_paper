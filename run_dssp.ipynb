{
 "cells": [
  {
   "cell_type": "code",
   "execution_count": 4,
   "metadata": {},
   "outputs": [],
   "source": [
    "from pathlib import Path\n",
    "import subprocess"
   ]
  },
  {
   "cell_type": "code",
   "execution_count": 19,
   "metadata": {},
   "outputs": [
    {
     "name": "stdout",
     "output_type": "stream",
     "text": [
      "mkdssp -i data/internal/alphafold/casp14/E4F1-1/ranked_0.pdb -o data/processed/dssp_alphafold/E4F1-1.dssp\n",
      "b'DSSP could not be created due to an error:\\nNo such file\\n'\n",
      "b'DSSP could not be created due to an error:\\nNo such file\\n'\n",
      "mkdssp -i data/internal/alphafold/casp14/ZNF655-2/ranked_0.pdb -o data/processed/dssp_alphafold/ZNF655-2.dssp\n",
      "b'DSSP could not be created due to an error:\\nNo such file\\n'\n",
      "b'DSSP could not be created due to an error:\\nNo such file\\n'\n",
      "mkdssp -i data/internal/alphafold/casp14/ZNF772-1/ranked_0.pdb -o data/processed/dssp_alphafold/ZNF772-1.dssp\n",
      "b'DSSP could not be created due to an error:\\nNo such file\\n'\n",
      "b'DSSP could not be created due to an error:\\nNo such file\\n'\n",
      "mkdssp -i data/internal/alphafold/casp14/SOX15-2/ranked_0.pdb -o data/processed/dssp_alphafold/SOX15-2.dssp\n",
      "b'DSSP could not be created due to an error:\\nNo such file\\n'\n",
      "b'DSSP could not be created due to an error:\\nNo such file\\n'\n",
      "mkdssp -i data/internal/alphafold/casp14/ZNF341-2/ranked_0.pdb -o data/processed/dssp_alphafold/ZNF341-2.dssp\n",
      "b'DSSP could not be created due to an error:\\nNo such file\\n'\n",
      "b'DSSP could not be created due to an error:\\nNo such file\\n'\n",
      "mkdssp -i data/internal/alphafold/casp14/TADA2A-1/ranked_0.pdb -o data/processed/dssp_alphafold/TADA2A-1.dssp\n",
      "b'DSSP could not be created due to an error:\\nNo such file\\n'\n",
      "b'DSSP could not be created due to an error:\\nNo such file\\n'\n",
      "mkdssp -i data/internal/alphafold/casp14/ZFY-2/ranked_0.pdb -o data/processed/dssp_alphafold/ZFY-2.dssp\n",
      "b'DSSP could not be created due to an error:\\nNo such file\\n'\n",
      "b'DSSP could not be created due to an error:\\nNo such file\\n'\n",
      "mkdssp -i data/internal/alphafold/casp14/ZNF707-1/ranked_0.pdb -o data/processed/dssp_alphafold/ZNF707-1.dssp\n",
      "b'DSSP could not be created due to an error:\\nNo such file\\n'\n",
      "b'DSSP could not be created due to an error:\\nNo such file\\n'\n",
      "mkdssp -i data/internal/alphafold/casp14/PRDM16-2/ranked_0.pdb -o data/processed/dssp_alphafold/PRDM16-2.dssp\n",
      "b'DSSP could not be created due to an error:\\nNo such file\\n'\n",
      "b'DSSP could not be created due to an error:\\nNo such file\\n'\n",
      "mkdssp -i data/internal/alphafold/casp14/GLI1-1/ranked_0.pdb -o data/processed/dssp_alphafold/GLI1-1.dssp\n",
      "b'DSSP could not be created due to an error:\\nNo such file\\n'\n",
      "b'DSSP could not be created due to an error:\\nNo such file\\n'\n",
      "mkdssp -i data/internal/alphafold/casp14/ZBTB18-1/ranked_0.pdb -o data/processed/dssp_alphafold/ZBTB18-1.dssp\n",
      "b'DSSP could not be created due to an error:\\nNo such file\\n'\n",
      "b'DSSP could not be created due to an error:\\nNo such file\\n'\n",
      "mkdssp -i data/internal/alphafold/casp14/ZNF775-1/ranked_0.pdb -o data/processed/dssp_alphafold/ZNF775-1.dssp\n",
      "b'DSSP could not be created due to an error:\\nNo such file\\n'\n",
      "b'DSSP could not be created due to an error:\\nNo such file\\n'\n",
      "mkdssp -i data/internal/alphafold/casp14/SP2-1/ranked_0.pdb -o data/processed/dssp_alphafold/SP2-1.dssp\n",
      "b'DSSP could not be created due to an error:\\nNo such file\\n'\n",
      "b'DSSP could not be created due to an error:\\nNo such file\\n'\n",
      "mkdssp -i data/internal/alphafold/casp14/ZBTB16-1/ranked_0.pdb -o data/processed/dssp_alphafold/ZBTB16-1.dssp\n",
      "b'DSSP could not be created due to an error:\\nNo such file\\n'\n",
      "b'DSSP could not be created due to an error:\\nNo such file\\n'\n",
      "mkdssp -i data/internal/alphafold/casp14/ZNF688-1/ranked_0.pdb -o data/processed/dssp_alphafold/ZNF688-1.dssp\n",
      "b'DSSP could not be created due to an error:\\nNo such file\\n'\n",
      "b'DSSP could not be created due to an error:\\nNo such file\\n'\n",
      "mkdssp -i data/internal/alphafold/casp14/ZBTB48-1/ranked_0.pdb -o data/processed/dssp_alphafold/ZBTB48-1.dssp\n",
      "b'DSSP could not be created due to an error:\\nNo such file\\n'\n",
      "b'DSSP could not be created due to an error:\\nNo such file\\n'\n",
      "mkdssp -i data/internal/alphafold/casp14/ZNF212-2/ranked_0.pdb -o data/processed/dssp_alphafold/ZNF212-2.dssp\n",
      "b'DSSP could not be created due to an error:\\nNo such file\\n'\n",
      "b'DSSP could not be created due to an error:\\nNo such file\\n'\n",
      "mkdssp -i data/internal/alphafold/casp14/ZNF451-1/ranked_0.pdb -o data/processed/dssp_alphafold/ZNF451-1.dssp\n",
      "b'DSSP could not be created due to an error:\\nNo such file\\n'\n",
      "b'DSSP could not be created due to an error:\\nNo such file\\n'\n",
      "mkdssp -i data/internal/alphafold/casp14/ZNF655-1/ranked_0.pdb -o data/processed/dssp_alphafold/ZNF655-1.dssp\n",
      "b'DSSP could not be created due to an error:\\nNo such file\\n'\n",
      "b'DSSP could not be created due to an error:\\nNo such file\\n'\n",
      "mkdssp -i data/internal/alphafold/casp14/ZNF772-2/ranked_0.pdb -o data/processed/dssp_alphafold/ZNF772-2.dssp\n",
      "b'DSSP could not be created due to an error:\\nNo such file\\n'\n",
      "b'DSSP could not be created due to an error:\\nNo such file\\n'\n",
      "mkdssp -i data/internal/alphafold/casp14/ZNF341-1/ranked_0.pdb -o data/processed/dssp_alphafold/ZNF341-1.dssp\n",
      "b'DSSP could not be created due to an error:\\nNo such file\\n'\n",
      "b'DSSP could not be created due to an error:\\nNo such file\\n'\n",
      "mkdssp -i data/internal/alphafold/casp14/TADA2A-2/ranked_0.pdb -o data/processed/dssp_alphafold/TADA2A-2.dssp\n",
      "b'DSSP could not be created due to an error:\\nNo such file\\n'\n",
      "b'DSSP could not be created due to an error:\\nNo such file\\n'\n",
      "mkdssp -i data/internal/alphafold/casp14/ZFY-1/ranked_0.pdb -o data/processed/dssp_alphafold/ZFY-1.dssp\n",
      "b'DSSP could not be created due to an error:\\nNo such file\\n'\n",
      "b'DSSP could not be created due to an error:\\nNo such file\\n'\n",
      "mkdssp -i data/internal/alphafold/casp14/ZBTB49-1/ranked_0.pdb -o data/processed/dssp_alphafold/ZBTB49-1.dssp\n",
      "b'DSSP could not be created due to an error:\\nNo such file\\n'\n",
      "b'DSSP could not be created due to an error:\\nNo such file\\n'\n",
      "mkdssp -i data/internal/alphafold/casp14/ZSCAN32-1/ranked_0.pdb -o data/processed/dssp_alphafold/ZSCAN32-1.dssp\n",
      "b'DSSP could not be created due to an error:\\nNo such file\\n'\n",
      "b'DSSP could not be created due to an error:\\nNo such file\\n'\n",
      "mkdssp -i data/internal/alphafold/casp14/BHLHA15-1/ranked_0.pdb -o data/processed/dssp_alphafold/BHLHA15-1.dssp\n",
      "b'DSSP could not be created due to an error:\\nNo such file\\n'\n",
      "b'DSSP could not be created due to an error:\\nNo such file\\n'\n",
      "mkdssp -i data/internal/alphafold/casp14/ZNF18-1/ranked_0.pdb -o data/processed/dssp_alphafold/ZNF18-1.dssp\n",
      "b'DSSP could not be created due to an error:\\nNo such file\\n'\n",
      "b'DSSP could not be created due to an error:\\nNo such file\\n'\n",
      "mkdssp -i data/internal/alphafold/casp14/ZNF263-1/ranked_0.pdb -o data/processed/dssp_alphafold/ZNF263-1.dssp\n",
      "b'DSSP could not be created due to an error:\\nNo such file\\n'\n",
      "b'DSSP could not be created due to an error:\\nNo such file\\n'\n",
      "mkdssp -i data/internal/alphafold/casp14/ZBTB18-2/ranked_0.pdb -o data/processed/dssp_alphafold/ZBTB18-2.dssp\n",
      "b'DSSP could not be created due to an error:\\nNo such file\\n'\n",
      "b'DSSP could not be created due to an error:\\nNo such file\\n'\n",
      "mkdssp -i data/internal/alphafold/casp14/PRDM16-1/ranked_0.pdb -o data/processed/dssp_alphafold/PRDM16-1.dssp\n",
      "b'DSSP could not be created due to an error:\\nNo such file\\n'\n",
      "b'DSSP could not be created due to an error:\\nNo such file\\n'\n",
      "mkdssp -i data/internal/alphafold/casp14/GLI1-2/ranked_0.pdb -o data/processed/dssp_alphafold/GLI1-2.dssp\n",
      "b'DSSP could not be created due to an error:\\nNo such file\\n'\n",
      "b'DSSP could not be created due to an error:\\nNo such file\\n'\n",
      "mkdssp -i data/internal/alphafold/casp14/SP2-4/ranked_0.pdb -o data/processed/dssp_alphafold/SP2-4.dssp\n",
      "b'DSSP could not be created due to an error:\\nNo such file\\n'\n",
      "b'DSSP could not be created due to an error:\\nNo such file\\n'\n",
      "mkdssp -i data/internal/alphafold/casp14/ZBTB1-1/ranked_0.pdb -o data/processed/dssp_alphafold/ZBTB1-1.dssp\n",
      "b'DSSP could not be created due to an error:\\nNo such file\\n'\n",
      "b'DSSP could not be created due to an error:\\nNo such file\\n'\n",
      "mkdssp -i data/internal/alphafold/casp14/ZNF473-1/ranked_0.pdb -o data/processed/dssp_alphafold/ZNF473-1.dssp\n",
      "b'DSSP could not be created due to an error:\\nNo such file\\n'\n",
      "b'DSSP could not be created due to an error:\\nNo such file\\n'\n",
      "mkdssp -i data/internal/alphafold/casp14/SOX10-2/ranked_0.pdb -o data/processed/dssp_alphafold/SOX10-2.dssp\n",
      "b'DSSP could not be created due to an error:\\nNo such file\\n'\n",
      "b'DSSP could not be created due to an error:\\nNo such file\\n'\n",
      "mkdssp -i data/internal/alphafold/casp14/ZNF775-2/ranked_0.pdb -o data/processed/dssp_alphafold/ZNF775-2.dssp\n",
      "b'DSSP could not be created due to an error:\\nNo such file\\n'\n",
      "b'DSSP could not be created due to an error:\\nNo such file\\n'\n",
      "mkdssp -i data/internal/alphafold/casp14/GLI1-3/ranked_0.pdb -o data/processed/dssp_alphafold/GLI1-3.dssp\n",
      "b'DSSP could not be created due to an error:\\nNo such file\\n'\n",
      "b'DSSP could not be created due to an error:\\nNo such file\\n'\n",
      "mkdssp -i data/internal/alphafold/casp14/ZBTB16-2/ranked_0.pdb -o data/processed/dssp_alphafold/ZBTB16-2.dssp\n",
      "b'DSSP could not be created due to an error:\\nNo such file\\n'\n",
      "b'DSSP could not be created due to an error:\\nNo such file\\n'\n",
      "mkdssp -i data/internal/alphafold/casp14/ZNF688-3/ranked_0.pdb -o data/processed/dssp_alphafold/ZNF688-3.dssp\n",
      "b'DSSP could not be created due to an error:\\nNo such file\\n'\n",
      "b'DSSP could not be created due to an error:\\nNo such file\\n'\n",
      "mkdssp -i data/internal/alphafold/casp14/ZNF212-1/ranked_0.pdb -o data/processed/dssp_alphafold/ZNF212-1.dssp\n",
      "b'DSSP could not be created due to an error:\\nNo such file\\n'\n",
      "b'DSSP could not be created due to an error:\\nNo such file\\n'\n",
      "mkdssp -i data/internal/alphafold/casp14/ZBTB44-1/ranked_0.pdb -o data/processed/dssp_alphafold/ZBTB44-1.dssp\n",
      "b'DSSP could not be created due to an error:\\nNo such file\\n'\n",
      "b'DSSP could not be created due to an error:\\nNo such file\\n'\n"
     ]
    }
   ],
   "source": [
    "in_dir = Path('data/internal/alphafold/casp14')\n",
    "out_dir = Path('data/processed/dssp_alphafold')\n",
    "out_dir.mkdir(exist_ok=True)\n",
    "for iso_dir in in_dir.iterdir():\n",
    "    cmd = 'mkdssp -i {} -o {}'.format(iso_dir / 'ranked_0.pdb',\n",
    "                                      out_dir / (iso_dir.stem + '.dssp'))\n",
    "    ret = subprocess.run(cmd, shell=True, stdout=subprocess.PIPE, stderr=subprocess.PIPE)\n",
    "    if ret.returncode != 0:\n",
    "        print(cmd)\n",
    "        print(ret.stderr)\n",
    "        print(ret.stderr)"
   ]
  },
  {
   "cell_type": "code",
   "execution_count": 1,
   "metadata": {},
   "outputs": [],
   "source": [
    "from Bio.PDB.DSSP import make_dssp_dict\n",
    "import pandas as pd\n"
   ]
  },
  {
   "cell_type": "code",
   "execution_count": 31,
   "metadata": {},
   "outputs": [],
   "source": []
  },
  {
   "cell_type": "code",
   "execution_count": 2,
   "metadata": {},
   "outputs": [],
   "source": [
    "from Bio.Data.IUPACData import protein_letters_3to1"
   ]
  },
  {
   "cell_type": "code",
   "execution_count": 9,
   "metadata": {},
   "outputs": [],
   "source": [
    "dssp_dir = Path('data/processed/dssp_alphafold')\n",
    "dfs = []\n",
    "for dssp_file_path in dssp_dir.iterdir():\n",
    "    dssp = make_dssp_dict(dssp_file_path)\n",
    "    dfs.append(pd.DataFrame(data=[(dssp_file_path.stem, k[1][1], v[0], v[1], v[2]) for k, v in dssp[0].items()],\n",
    "                      columns=['clone_name', 'position', 'aa', 'secondary_structure', 'ASA']))\n",
    "df = pd.concat(dfs, axis=0, ignore_index=True)\n",
    "# NOTE: the Davey analysis uses GGXGG whereas I think this paper is GXG\n",
    "# Wilke: Tien et al. 2013 https://doi.org/10.1371/journal.pone.0080635\n",
    "max_asa = {\n",
    "        \"ALA\": 129.0,\n",
    "        \"ARG\": 274.0,\n",
    "        \"ASN\": 195.0,\n",
    "        \"ASP\": 193.0,\n",
    "        \"CYS\": 167.0,\n",
    "        \"GLN\": 225.0,\n",
    "        \"GLU\": 223.0,\n",
    "        \"GLY\": 104.0,\n",
    "        \"HIS\": 224.0,\n",
    "        \"ILE\": 197.0,\n",
    "        \"LEU\": 201.0,\n",
    "        \"LYS\": 236.0,\n",
    "        \"MET\": 224.0,\n",
    "        \"PHE\": 240.0,\n",
    "        \"PRO\": 159.0,\n",
    "        \"SER\": 155.0,\n",
    "        \"THR\": 172.0,\n",
    "        \"TRP\": 285.0,\n",
    "        \"TYR\": 263.0,\n",
    "        \"VAL\": 174.0,\n",
    "    }\n",
    "max_asa = {protein_letters_3to1[k.capitalize()]: v for k, v in max_asa.items()}\n",
    "df['RSA'] = df['ASA'] / df['aa'].map(max_asa)\n",
    "df['RSA'] = df['RSA'].clip(upper=1.)\n",
    "WINDOW_SIZE_RESIDUES = 20\n",
    "DISORDER_WINDOW_RSA_CUTOFF = 0.5\n",
    "rsa_window_col = f'RSA_window_{WINDOW_SIZE_RESIDUES}'\n",
    "\"\"\"\n",
    "df[rsa_window_col] = (\n",
    "    df['RSA'].rolling(window=WINDOW_SIZE_RESIDUES * 2 + 1,\n",
    "                  min_periods=WINDOW_SIZE_RESIDUES + 1,\n",
    "                  center=True)\n",
    "             .mean())\n",
    "\"\"\"\n",
    "df[rsa_window_col] = (\n",
    "         df.groupby('clone_name')['RSA']\n",
    "           .rolling(window=WINDOW_SIZE_RESIDUES * 2 + 1,\n",
    "                  min_periods=WINDOW_SIZE_RESIDUES + 1,\n",
    "                  center=True)\n",
    "             .mean().rename(rsa_window_col).droplevel('clone_name')\n",
    ")\n",
    "df['is_disordered'] = df[rsa_window_col] >= DISORDER_WINDOW_RSA_CUTOFF"
   ]
  },
  {
   "cell_type": "code",
   "execution_count": 7,
   "metadata": {},
   "outputs": [
    {
     "data": {
      "text/plain": [
       "-    151527\n",
       "H     75987\n",
       "T     20315\n",
       "E     17677\n",
       "S     15462\n",
       "G      4997\n",
       "B       910\n",
       "I       682\n",
       "Name: secondary_structure, dtype: int64"
      ]
     },
     "execution_count": 7,
     "metadata": {},
     "output_type": "execute_result"
    }
   ],
   "source": [
    "df['secondary_structure'].value_counts()"
   ]
  },
  {
   "cell_type": "code",
   "execution_count": 13,
   "metadata": {},
   "outputs": [
    {
     "data": {
      "text/plain": [
       "10"
      ]
     },
     "execution_count": 13,
     "metadata": {},
     "output_type": "execute_result"
    }
   ],
   "source": [
    "list(range(20, 10, -1))"
   ]
  },
  {
   "cell_type": "code",
   "execution_count": 41,
   "metadata": {},
   "outputs": [],
   "source": [
    "# add the helix thing\n",
    "DISORDER_HELIX_LENGTH_CUTOFF = 20\n",
    "to_change = []\n",
    "for clone_name, df_clone in df.groupby('clone_name'):\n",
    "    helix_count = 0\n",
    "    for _i, row in df_clone.iterrows():\n",
    "        if row['secondary_structure'] == 'H':\n",
    "            helix_count += 1\n",
    "        else:\n",
    "            if helix_count >= DISORDER_HELIX_LENGTH_CUTOFF:\n",
    "                for i in range(row['position'] - 1, row['position'] - helix_count, -1):\n",
    "                    to_change.append((clone_name, i))\n",
    "            helix_count = 0\n",
    "    if helix_count >= DISORDER_HELIX_LENGTH_CUTOFF:\n",
    "        for i in range(row['position'], row['position'] - helix_count, -1):\n",
    "            to_change.append((clone_name, i))\n",
    "to_change = (df['clone_name'] + '_' + df['position'].astype(str)).isin({a + '_' + str(b) for a, b in to_change})\n",
    "print(f'{to_change.sum()} ({to_change.mean():.0%}) aa in helices of length 20 aa or more')\n",
    "print(f\"{df.loc[to_change, 'is_disordered'].mean():.0%} of residues in long helices misclassified as disordered\")\n",
    "df.loc[to_change, 'is_disordered'] = False"
   ]
  },
  {
   "cell_type": "code",
   "execution_count": 56,
   "metadata": {},
   "outputs": [],
   "source": [
    "df.to_csv('data/processed/TFiso1_disorder-and-ss_from-alphafold.tsv',\n",
    "          index=False, sep='\\t')"
   ]
  },
  {
   "cell_type": "code",
   "execution_count": 57,
   "metadata": {},
   "outputs": [
    {
     "data": {
      "image/png": "[encoded data removed]",
      "text/plain": [
       "<Figure size 432x288 with 1 Axes>"
      ]
     },
     "metadata": {
      "needs_background": "light"
     },
     "output_type": "display_data"
    }
   ],
   "source": [
    "# plot disordered fraction of isoforms\n",
    "from matplotlib import pyplot as plt\n",
    "fig, ax = plt.subplots(1, 1)\n",
    "f_dis = df.groupby('clone_name')['is_disordered'].mean()\n",
    "(f_dis * 100).plot.hist(range=(0, 100), bins=50, ax=ax)\n",
    "ax.set_ylabel('Number of isoforms')\n",
    "ax.set_xlabel('% of residues in disordered regions')\n",
    "fig.savefig('figures/disordered-residued-pct-per-isoform_TFiso1_histogram.pdf', bbox_inches='tight')"
   ]
  },
  {
   "cell_type": "code",
   "execution_count": 68,
   "metadata": {},
   "outputs": [
    {
     "data": {
      "text/plain": [
       "Text(0, 0.5, '% residues in disordered regions')"
      ]
     },
     "execution_count": 68,
     "metadata": {},
     "output_type": "execute_result"
    },
    {
     "data": {
      "image/png": "[encoded data removed]",
      "text/plain": [
       "<Figure size 432x288 with 1 Axes>"
      ]
     },
     "metadata": {
      "needs_background": "light"
     },
     "output_type": "display_data"
    }
   ],
   "source": [
    "# TODO: color by family\n",
    "# TODO: split by reference and alternative isoforms\n",
    "fig, ax = plt.subplots(1, 1)\n",
    "ax.scatter(df.groupby('clone_name').size(), \n",
    "           df.groupby('clone_name')['is_disordered'].mean() * 100,\n",
    "           clip_on=False,\n",
    "           alpha=0.5)\n",
    "ax.set_ylim(0, 100)\n",
    "ax.set_xlim(0, 900)\n",
    "ax.set_xlabel('Length of cloned isoform (#aa)')\n",
    "ax.set_ylabel('% residues in disordered regions')"
   ]
  },
  {
   "cell_type": "code",
   "execution_count": null,
   "metadata": {},
   "outputs": [],
   "source": [
    "# plots of length of disordered sequence?"
   ]
  },
  {
   "cell_type": "code",
   "execution_count": null,
   "metadata": {},
   "outputs": [],
   "source": [
    "# comparison of reference to alternative isoforms\n"
   ]
  },
  {
   "cell_type": "code",
   "execution_count": null,
   "metadata": {},
   "outputs": [],
   "source": [
    "# pairwise metrics of disorder/order\n",
    "# - number of ordered residues different\n",
    "# - number of disordered residues different"
   ]
  },
  {
   "cell_type": "code",
   "execution_count": 75,
   "metadata": {},
   "outputs": [],
   "source": [
    "# lazy version: delta disordered residues\n",
    "# for each isoform: number of residues, disordered residues and ordered residues\n",
    "# for each pair, delta of all\n",
    "n_aa = df.groupby('clone_name').size().rename('n_aa').to_frame()\n",
    "n_aa['n_aa_disordered'] = df.groupby('clone_name')['is_disordered'].sum()\n",
    "n_aa['n_aa_ordered'] = n_aa['n_aa'] - n_aa['n_aa_disordered']"
   ]
  },
  {
   "cell_type": "code",
   "execution_count": 76,
   "metadata": {},
   "outputs": [
    {
     "data": {
      "text/html": [
       "<div>\n",
       "<style scoped>\n",
       "    .dataframe tbody tr th:only-of-type {\n",
       "        vertical-align: middle;\n",
       "    }\n",
       "\n",
       "    .dataframe tbody tr th {\n",
       "        vertical-align: top;\n",
       "    }\n",
       "\n",
       "    .dataframe thead th {\n",
       "        text-align: right;\n",
       "    }\n",
       "</style>\n",
       "<table border=\"1\" class=\"dataframe\">\n",
       "  <thead>\n",
       "    <tr style=\"text-align: right;\">\n",
       "      <th></th>\n",
       "      <th>n_aa</th>\n",
       "      <th>n_aa_disordered</th>\n",
       "      <th>n_aa_ordered</th>\n",
       "    </tr>\n",
       "    <tr>\n",
       "      <th>clone_name</th>\n",
       "      <th></th>\n",
       "      <th></th>\n",
       "      <th></th>\n",
       "    </tr>\n",
       "  </thead>\n",
       "  <tbody>\n",
       "    <tr>\n",
       "      <th>AEBP2-2</th>\n",
       "      <td>268</td>\n",
       "      <td>88.0</td>\n",
       "      <td>180.0</td>\n",
       "    </tr>\n",
       "    <tr>\n",
       "      <th>AEBP2-3</th>\n",
       "      <td>263</td>\n",
       "      <td>179.0</td>\n",
       "      <td>84.0</td>\n",
       "    </tr>\n",
       "    <tr>\n",
       "      <th>ARNT2-1</th>\n",
       "      <td>717</td>\n",
       "      <td>342.0</td>\n",
       "      <td>375.0</td>\n",
       "    </tr>\n",
       "    <tr>\n",
       "      <th>ARNT2-2</th>\n",
       "      <td>683</td>\n",
       "      <td>303.0</td>\n",
       "      <td>380.0</td>\n",
       "    </tr>\n",
       "    <tr>\n",
       "      <th>ARNT2-3</th>\n",
       "      <td>716</td>\n",
       "      <td>348.0</td>\n",
       "      <td>368.0</td>\n",
       "    </tr>\n",
       "    <tr>\n",
       "      <th>...</th>\n",
       "      <td>...</td>\n",
       "      <td>...</td>\n",
       "      <td>...</td>\n",
       "    </tr>\n",
       "    <tr>\n",
       "      <th>ZSCAN26-2</th>\n",
       "      <td>344</td>\n",
       "      <td>131.0</td>\n",
       "      <td>213.0</td>\n",
       "    </tr>\n",
       "    <tr>\n",
       "      <th>ZSCAN32-2</th>\n",
       "      <td>624</td>\n",
       "      <td>286.0</td>\n",
       "      <td>338.0</td>\n",
       "    </tr>\n",
       "    <tr>\n",
       "      <th>ZSCAN32-4</th>\n",
       "      <td>215</td>\n",
       "      <td>124.0</td>\n",
       "      <td>91.0</td>\n",
       "    </tr>\n",
       "    <tr>\n",
       "      <th>ZSCAN9-1</th>\n",
       "      <td>394</td>\n",
       "      <td>140.0</td>\n",
       "      <td>254.0</td>\n",
       "    </tr>\n",
       "    <tr>\n",
       "      <th>ZSCAN9-2</th>\n",
       "      <td>261</td>\n",
       "      <td>141.0</td>\n",
       "      <td>120.0</td>\n",
       "    </tr>\n",
       "  </tbody>\n",
       "</table>\n",
       "<p>742 rows × 3 columns</p>\n",
       "</div>"
      ],
      "text/plain": [
       "            n_aa  n_aa_disordered  n_aa_ordered\n",
       "clone_name                                     \n",
       "AEBP2-2      268             88.0         180.0\n",
       "AEBP2-3      263            179.0          84.0\n",
       "ARNT2-1      717            342.0         375.0\n",
       "ARNT2-2      683            303.0         380.0\n",
       "ARNT2-3      716            348.0         368.0\n",
       "...          ...              ...           ...\n",
       "ZSCAN26-2    344            131.0         213.0\n",
       "ZSCAN32-2    624            286.0         338.0\n",
       "ZSCAN32-4    215            124.0          91.0\n",
       "ZSCAN9-1     394            140.0         254.0\n",
       "ZSCAN9-2     261            141.0         120.0\n",
       "\n",
       "[742 rows x 3 columns]"
      ]
     },
     "execution_count": 76,
     "metadata": {},
     "output_type": "execute_result"
    }
   ],
   "source": []
  },
  {
   "cell_type": "code",
   "execution_count": 129,
   "metadata": {},
   "outputs": [
    {
     "data": {
      "text/plain": [
       "clone_name\n",
       "ZNF415-4    0.0\n",
       "ZNF415-3    0.0\n",
       "TBPL1-1     0.0\n",
       "ZBTB25-4    0.0\n",
       "KLF7-6      0.0\n",
       "           ... \n",
       "ZNF696-2    1.0\n",
       "ZNF23-3     1.0\n",
       "ZNF175-3    1.0\n",
       "ZNF772-4    1.0\n",
       "DLX5-2      1.0\n",
       "Name: is_disordered, Length: 742, dtype: float64"
      ]
     },
     "execution_count": 129,
     "metadata": {},
     "output_type": "execute_result"
    }
   ],
   "source": [
    "f_dis.sort_values()"
   ]
  },
  {
   "cell_type": "code",
   "execution_count": null,
   "metadata": {},
   "outputs": [],
   "source": []
  }
 ],
 "metadata": {
  "interpreter": {
   "hash": "4ae04c9a3e8cbfaaf818a59204fe953064ae0593c0d7ed4865e22581ae0526ea"
  },
  "kernelspec": {
   "display_name": "Python 3.8.12 ('venv': venv)",
   "language": "python",
   "name": "python3"
  },
  "language_info": {
   "codemirror_mode": {
    "name": "ipython",
    "version": 3
   },
   "file_extension": ".py",
   "mimetype": "text/x-python",
   "name": "python",
   "nbconvert_exporter": "python",
   "pygments_lexer": "ipython3",
   "version": "3.8.12"
  },
  "orig_nbformat": 4
 },
 "nbformat": 4,
 "nbformat_minor": 2
}
