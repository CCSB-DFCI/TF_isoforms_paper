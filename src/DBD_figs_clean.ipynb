{
    "cells": [
        {
            "cell_type": "code",
            "execution_count": 1,
            "metadata": {},
            "outputs": [],
            "source": [
                "import numpy as np\n",
                "from scipy import stats\n",
                "from matplotlib import pyplot as plt\n",
                "import pandas as pd\n",
                "import seaborn as sns\n",
                "\n",
                "from data_loading import *\n",
                "from plotting import y1h_pdi_per_tf_gene_plot, m1h_activation_per_tf_gene_plot, COLOR_PURPLE\n",
                "from data_loading import load_annotated_TFiso1_collection, load_y1h_pdi_data\n"
            ]
        },
        {
            "cell_type": "code",
            "execution_count": 2,
            "metadata": {
                "scrolled": true
            },
            "outputs": [
                {
                    "name": "stderr",
                    "output_type": "stream",
                    "text": [
                        "100%|██████████| 1009/1009 [00:32<00:00, 30.80it/s]\n"
                    ]
                },
                {
                    "name": "stdout",
                    "output_type": "stream",
                    "text": [
                        "Filtering GENCODE .gtf file. Takes a few minutes but only needs to be done once.\n"
                    ]
                },
                {
                    "name": "stderr",
                    "output_type": "stream",
                    "text": [
                        "100%|██████████| 1635/1635 [00:12<00:00, 134.41it/s]\n",
                        "100%|██████████| 3861/3861 [05:30<00:00, 11.67it/s] \n"
                    ]
                },
                {
                    "name": "stdout",
                    "output_type": "stream",
                    "text": [
                        "missing disorder data for ZBTB18-1\n",
                        "missing disorder data for ZBTB18-2\n",
                        "missing disorder data for ZBTB48-1\n",
                        "missing disorder data for PRDM16-1\n",
                        "missing disorder data for PRDM16-2\n",
                        "missing disorder data for ZBTB49-1\n",
                        "missing disorder data for ZNF655-1\n",
                        "missing disorder data for ZNF655-2\n",
                        "missing disorder data for ZNF212-1\n",
                        "missing disorder data for ZNF212-2\n",
                        "missing disorder data for ZBTB16-1\n",
                        "missing disorder data for ZBTB16-2\n",
                        "missing disorder data for ZBTB44-1\n",
                        "missing disorder data for GLI1-1\n",
                        "missing disorder data for GLI1-2\n",
                        "missing disorder data for GLI1-3\n",
                        "missing disorder data for ZBTB1-1\n",
                        "missing disorder data for ZNF263-1\n",
                        "missing disorder data for E4F1-1\n",
                        "missing disorder data for ZSCAN32-1\n",
                        "missing disorder data for SP2-1\n",
                        "missing disorder data for ZNF18-1\n",
                        "missing disorder data for ZNF473-1\n",
                        "missing disorder data for ZNF341-1\n",
                        "missing disorder data for ZNF341-2\n",
                        "missing disorder data for ZFY-1\n",
                        "missing disorder data for ZFY-2\n",
                        "missing disorder data for ZBTB18-1\n",
                        "missing disorder data for ZBTB18-2\n",
                        "missing disorder data for ZBTB48-1\n",
                        "missing disorder data for PRDM16-1\n",
                        "missing disorder data for PRDM16-2\n",
                        "missing disorder data for ZBTB49-1\n",
                        "missing disorder data for ZNF655-1\n",
                        "missing disorder data for ZNF655-2\n",
                        "missing disorder data for ZNF212-1\n",
                        "missing disorder data for ZNF212-2\n",
                        "missing disorder data for ZBTB16-1\n",
                        "missing disorder data for ZBTB16-2\n",
                        "missing disorder data for ZBTB44-1\n",
                        "missing disorder data for GLI1-1\n",
                        "missing disorder data for GLI1-2\n",
                        "missing disorder data for GLI1-3\n",
                        "missing disorder data for ZBTB1-1\n",
                        "missing disorder data for ZNF263-1\n",
                        "missing disorder data for E4F1-1\n",
                        "missing disorder data for ZSCAN32-1\n",
                        "missing disorder data for SP2-1\n",
                        "missing disorder data for ZNF18-1\n",
                        "missing disorder data for ZNF473-1\n",
                        "missing disorder data for ZNF341-1\n",
                        "missing disorder data for ZNF341-2\n",
                        "missing disorder data for ZFY-1\n",
                        "missing disorder data for ZFY-2\n"
                    ]
                },
                {
                    "data": {
                        "text/plain": [
                            "1.0"
                        ]
                    },
                    "execution_count": 2,
                    "metadata": {},
                    "output_type": "execute_result"
                }
            ],
            "source": [
                "disorder = pd.read_csv('../data/processed/TFiso1_disorder-and-ss_from-alphafold.tsv',\n",
                "                       sep='\\t')\n",
                "tfs = load_annotated_TFiso1_collection()\n",
                "\n",
                "# TODO: fix missing data\n",
                "clones_with_disorder_data = set(disorder['clone_name'].unique())\n",
                "for tf in tfs.values():\n",
                "    for iso in tf.cloned_isoforms:\n",
                "        if iso.name not in clones_with_disorder_data:\n",
                "            print('missing disorder data for {}'.format(iso.name))\n",
                "            continue\n",
                "        iso.disorder = disorder.loc[disorder['clone_name'] == iso.name, 'is_disordered'].values\n",
                "\n",
                "# sanity check\n",
                "for tf in tfs.values():\n",
                "    for iso in tf.cloned_isoforms:\n",
                "        if hasattr(iso, 'disorder'):\n",
                "            if len(iso.disorder) != len(iso.aa_seq):\n",
                "                raise UserWarning('inconsistent amino acid sequence and disordered residues data for {}'.format(iso.name))\n",
                "\n",
                "\n",
                "def disordered_fraction_of_different_regions(gene, ref_iso_name, alt_iso_name):\n",
                "    algn = gene.pairwise_changes_relative_to_reference(ref_iso_name, alt_iso_name)\n",
                "    if not hasattr(gene[ref_iso_name], 'disorder') or not hasattr(gene[alt_iso_name], 'disorder'):\n",
                "        return np.nan\n",
                "    ref_iter = iter(gene[ref_iso_name].disorder)\n",
                "    alt_iter = iter(gene[alt_iso_name].disorder)\n",
                "    merged_disorder = []\n",
                "    for pos in algn:\n",
                "        if pos == 'I':\n",
                "            merged_disorder.append(next(alt_iter))\n",
                "        elif pos == 'D':\n",
                "            merged_disorder.append(next(ref_iter))\n",
                "        else:\n",
                "            merged_disorder.append(next(ref_iter))\n",
                "            next(alt_iter)\n",
                "\n",
                "    return np.mean([is_disordered for pos, is_disordered in zip(algn, merged_disorder) if pos != 'M'])\n",
                "\n",
                "\n",
                "disordered_fraction_of_different_regions(tfs['CREB1'], 'CREB1-2', 'CREB1-1')"
            ]
        },
        {
            "cell_type": "code",
            "execution_count": 3,
            "metadata": {},
            "outputs": [],
            "source": [
                "# TODO move to isolib\n",
                "def n_aa_change_from_feature(gene, ref_iso_name, alt_iso_name, domain_start, domain_end):\n",
                "    algn = gene.pairwise_changes_relative_to_reference(ref_iso_name, alt_iso_name)\n",
                "\n",
                "    def _coords_transform_aa_seq_to_alignment(i, alignment):\n",
                "        if i > len(alignment.replace(\"I\", \"\")):\n",
                "            raise ValueError(\"position is not in isoform AA sequence\")\n",
                "        aa_seq_indices = [\n",
                "            \"\" if c == \"I\" else len(alignment[:j].replace(\"I\", \"\"))\n",
                "            for j, c in enumerate(alignment)\n",
                "        ]\n",
                "        return aa_seq_indices.index(i)\n",
                "    \n",
                "    start = _coords_transform_aa_seq_to_alignment(domain_start, algn)\n",
                "    end = _coords_transform_aa_seq_to_alignment(domain_end - 1, algn) + 1\n",
                "\n",
                "    if not all(x == 'M' for x in algn[start:end]):\n",
                "        return 0  # change is within the domain\n",
                "    \n",
                "    big_number = 9999999999999999999999999\n",
                "    c_dist = big_number\n",
                "    n_dist = big_number\n",
                "    for i, l in enumerate(reversed(algn[:start])):\n",
                "        if l != 'M':\n",
                "            c_dist = i + 1\n",
                "            break\n",
                "    for i, l in enumerate(algn[end:]):\n",
                "        if l != 'M':\n",
                "            n_dist = i + 1\n",
                "            break\n",
                "    if c_dist == big_number and n_dist == big_number:\n",
                "        raise UserWarning('problem calculating distance')\n",
                "    return min([c_dist, n_dist])\n",
                "\n",
                "\n",
                "def n_aa_to_all_features(self, ref_iso_name):\n",
                "    results = []\n",
                "    ref_iso = self._iso_dict[ref_iso_name]\n",
                "    row = {\"gene\": self.name, \"ref_iso\": ref_iso_name}\n",
                "    for aa_feature in ref_iso.aa_seq_features:\n",
                "        for alt_iso_name, alt_iso in self._iso_dict.items():\n",
                "            if alt_iso_name == ref_iso_name:\n",
                "                continue\n",
                "            row.update(\n",
                "                {\n",
                "                    \"alt_iso\": alt_iso_name,\n",
                "                    \"accession\": aa_feature.accession,\n",
                "                    \"category\": aa_feature.category,\n",
                "                    \"start_in_ref_iso\": aa_feature.start,\n",
                "                    \"end_in_ref_iso\": aa_feature.end,\n",
                "                    \"length\": aa_feature.end - aa_feature.start,\n",
                "                }\n",
                "            )\n",
                "            row.update({\"n_aa_change_to_domain\": n_aa_change_from_feature(self, ref_iso_name, alt_iso_name, aa_feature.start, aa_feature.end)})\n",
                "            results.append(row.copy())\n",
                "    results = pd.DataFrame(results)\n",
                "    return results\n",
                "\n",
                "\n",
                "gene = tfs['TBX5']\n",
                "ref_iso_name = 'TBX5-1'\n",
                "alt_iso_name = 'TBX5-3'\n",
                "\n",
                "#for dom in gene[ref_iso_name].aa_seq_features:\n",
                "#    print(dom)\n",
                "#    n = n_aa_change_from_feature(gene, ref_iso_name, alt_iso_name, dom.start, dom.end)\n",
                "#    print(n)\n",
                "\n",
                "# get for all domains\n",
                "# get DBDs\n",
                "# find min over DBDs\n",
                "\n",
                "dist = pd.concat([n_aa_to_all_features(g, g.cloned_reference_isoform.name) for g in tfs.values()])\n",
                "dist['is_DBD'] = dist['accession'].isin(load_dbd_accessions())"
            ]
        },
        {
            "cell_type": "code",
            "execution_count": 4,
            "metadata": {},
            "outputs": [],
            "source": [
                "y1h = load_y1h_pdi_data()\n",
                "y1h = y1h.drop_duplicates()  # TODO: why is this here?\n",
                "n_pdi = (y1h.drop(columns='tf')\n",
                "            .set_index('unique_acc')\n",
                "            .sum(axis=1))"
            ]
        },
        {
            "cell_type": "code",
            "execution_count": 5,
            "metadata": {},
            "outputs": [
                {
                    "name": "stdout",
                    "output_type": "stream",
                    "text": [
                        "reading from cache\n"
                    ]
                }
            ],
            "source": [
                "tfs = load_annotated_TFiso1_collection()\n",
                "\n",
                "df = pd.concat([g.aa_feature_disruption(g.cloned_reference_isoform.name) for g in tfs.values()])\n",
                "df['is_DBD'] = df['accession'].isin(load_dbd_accessions())\n",
                "df['is_DBD_flank'] = (df['accession'].str.endswith('_flank_N') |\n",
                "                      df['accession'].str.endswith('_flank_C'))\n",
                "df_new = (df.loc[df['is_DBD'], :]\n",
                "        .groupby(['gene', 'ref_iso', 'alt_iso'])\n",
                "        [['deletion', 'frameshift']].sum()\n",
                "        .sum(axis=1) / df.loc[df['is_DBD'], :]\n",
                "        .groupby(['gene', 'ref_iso', 'alt_iso'])\n",
                "        ['length'].sum()).to_frame(name='dbd_fraction')\n",
                "\n",
                "df_new['dbd_insertion_n_aa'] = (df.loc[df['is_DBD'], :]\n",
                "                                  .groupby(['gene', 'ref_iso', 'alt_iso'])\n",
                "                                  ['insertion']\n",
                "                                  .sum())\n",
                "\n",
                "df_new['dbd_n_aa_to_change'] = (dist.loc[dist['is_DBD'], :]\n",
                "                                  .groupby(['gene', 'ref_iso', 'alt_iso'])\n",
                "                                  ['n_aa_change_to_domain']\n",
                "                                  .min())\n",
                "        \n",
                "# flank affected\n",
                "df_new['dbd_flank_affected'] = (df.loc[df['is_DBD_flank'], :]\n",
                "        .groupby(['gene', 'ref_iso', 'alt_iso'])\n",
                "        [['deletion', 'insertion', 'frameshift']].sum()\n",
                "        .sum(axis=1) > 0)\n",
                "df = df_new.reset_index()\n",
                "df['dbd_pct_lost'] = df['dbd_fraction'] * 100.\n",
                "\n",
                "\n",
                "def dbd_affected_categories(pct_lost):\n",
                "    if pct_lost < 0:\n",
                "        raise ValueError('negative percent value')\n",
                "    elif pct_lost == 0:\n",
                "        return 'Full DBD in\\nalternative isoform'\n",
                "    elif pct_lost >= 100:\n",
                "        return 'Full loss\\nof DBD'\n",
                "    else:\n",
                "        return 'Partial loss\\nof DBD'\n",
                "\n",
                "df['dbd_affected'] = df['dbd_pct_lost'].apply(dbd_affected_categories)\n",
                "df['dbd_or_flank_affected'] = df['dbd_affected']\n",
                "df.loc[(df['dbd_affected'] == 'Full DBD in\\nalternative isoform') &\n",
                "       df['dbd_flank_affected'], 'dbd_or_flank_affected'] = 'DBD flank affected'\n",
                "\n",
                "isoforms = load_valid_isoform_clones()\n",
                "y1h = load_y1h_pdi_data()\n",
                "y1h = y1h.drop_duplicates()  # TODO: why is this here?\n",
                "n_pdi = (y1h.drop(columns='tf')\n",
                "            .set_index('unique_acc')\n",
                "            .sum(axis=1))\n",
                "n_pdi.index = n_pdi.index.map(lambda x: x.split('|')[0] + '-' + x.split('|')[1].split('/')[0])\n",
                "\n",
                "# map each isoform to change in PDI vs reference\n",
                "def delta_pdi(row):\n",
                "    iso_acc = row['alt_iso']\n",
                "    ref_acc = row['ref_iso']\n",
                "    if iso_acc == ref_acc:\n",
                "        return np.nan\n",
                "    n_ref = n_pdi.get(ref_acc, np.nan)\n",
                "    n_iso = n_pdi.get(iso_acc, np.nan)\n",
                "    if n_ref == 0:\n",
                "        return np.nan\n",
                "    return (n_iso - n_ref) / n_ref\n",
                "\n",
                "\n",
                "df['delta_pdi'] = df.apply(delta_pdi, axis=1)\n",
                "df = df.dropna(subset=['delta_pdi'])\n",
                "\n",
                "df['tf_family'] = df['gene'].map(lambda x: tfs[x].tf_family)\n",
                "df['delta_pdi_trunc'] = df['delta_pdi'].clip(upper=1)\n",
                "\n",
                "if (((df['dbd_fraction'] > 0) | (df['dbd_insertion_n_aa'] > 0)) & (df['dbd_n_aa_to_change'] > 0)).any():\n",
                "    raise UserWarning('something wrong with calculations')\n",
                "if ((df['dbd_fraction'] == 0) & (df['dbd_insertion_n_aa'] == 0) & (df['dbd_n_aa_to_change'] == 0)).any():\n",
                "    raise UserWarning('something wrong with calculations')"
            ]
        },
        {
            "cell_type": "code",
            "execution_count": 6,
            "metadata": {},
            "outputs": [
                {
                    "data": {
                        "text/html": [
                            "<div>\n",
                            "<style scoped>\n",
                            "    .dataframe tbody tr th:only-of-type {\n",
                            "        vertical-align: middle;\n",
                            "    }\n",
                            "\n",
                            "    .dataframe tbody tr th {\n",
                            "        vertical-align: top;\n",
                            "    }\n",
                            "\n",
                            "    .dataframe thead th {\n",
                            "        text-align: right;\n",
                            "    }\n",
                            "</style>\n",
                            "<table border=\"1\" class=\"dataframe\">\n",
                            "  <thead>\n",
                            "    <tr style=\"text-align: right;\">\n",
                            "      <th></th>\n",
                            "      <th>gene</th>\n",
                            "      <th>ref_iso</th>\n",
                            "      <th>alt_iso</th>\n",
                            "      <th>dbd_fraction</th>\n",
                            "      <th>dbd_insertion_n_aa</th>\n",
                            "      <th>dbd_n_aa_to_change</th>\n",
                            "      <th>dbd_flank_affected</th>\n",
                            "      <th>dbd_pct_lost</th>\n",
                            "      <th>dbd_affected</th>\n",
                            "      <th>dbd_or_flank_affected</th>\n",
                            "      <th>delta_pdi</th>\n",
                            "      <th>tf_family</th>\n",
                            "      <th>delta_pdi_trunc</th>\n",
                            "    </tr>\n",
                            "  </thead>\n",
                            "  <tbody>\n",
                            "    <tr>\n",
                            "      <th>72</th>\n",
                            "      <td>DLX4</td>\n",
                            "      <td>DLX4-1</td>\n",
                            "      <td>DLX4-3</td>\n",
                            "      <td>0.245614</td>\n",
                            "      <td>26</td>\n",
                            "      <td>0</td>\n",
                            "      <td>True</td>\n",
                            "      <td>24.561404</td>\n",
                            "      <td>Partial loss\\nof DBD</td>\n",
                            "      <td>Partial loss\\nof DBD</td>\n",
                            "      <td>-1.0</td>\n",
                            "      <td>Homeodomain</td>\n",
                            "      <td>-1.0</td>\n",
                            "    </tr>\n",
                            "    <tr>\n",
                            "      <th>204</th>\n",
                            "      <td>HEY1</td>\n",
                            "      <td>HEY1-2</td>\n",
                            "      <td>HEY1-1</td>\n",
                            "      <td>0.000000</td>\n",
                            "      <td>4</td>\n",
                            "      <td>0</td>\n",
                            "      <td>False</td>\n",
                            "      <td>0.000000</td>\n",
                            "      <td>Full DBD in\\nalternative isoform</td>\n",
                            "      <td>Full DBD in\\nalternative isoform</td>\n",
                            "      <td>-1.0</td>\n",
                            "      <td>bHLH</td>\n",
                            "      <td>-1.0</td>\n",
                            "    </tr>\n",
                            "    <tr>\n",
                            "      <th>252</th>\n",
                            "      <td>KLF7</td>\n",
                            "      <td>KLF7-1</td>\n",
                            "      <td>KLF7-4</td>\n",
                            "      <td>0.000000</td>\n",
                            "      <td>1</td>\n",
                            "      <td>0</td>\n",
                            "      <td>False</td>\n",
                            "      <td>0.000000</td>\n",
                            "      <td>Full DBD in\\nalternative isoform</td>\n",
                            "      <td>Full DBD in\\nalternative isoform</td>\n",
                            "      <td>-1.0</td>\n",
                            "      <td>C2H2 ZF</td>\n",
                            "      <td>-1.0</td>\n",
                            "    </tr>\n",
                            "    <tr>\n",
                            "      <th>288</th>\n",
                            "      <td>MAX</td>\n",
                            "      <td>MAX-1</td>\n",
                            "      <td>MAX-5</td>\n",
                            "      <td>0.346154</td>\n",
                            "      <td>39</td>\n",
                            "      <td>0</td>\n",
                            "      <td>True</td>\n",
                            "      <td>34.615385</td>\n",
                            "      <td>Partial loss\\nof DBD</td>\n",
                            "      <td>Partial loss\\nof DBD</td>\n",
                            "      <td>-1.0</td>\n",
                            "      <td>bHLH</td>\n",
                            "      <td>-1.0</td>\n",
                            "    </tr>\n",
                            "    <tr>\n",
                            "      <th>289</th>\n",
                            "      <td>MAX</td>\n",
                            "      <td>MAX-1</td>\n",
                            "      <td>MAX-6</td>\n",
                            "      <td>0.346154</td>\n",
                            "      <td>39</td>\n",
                            "      <td>0</td>\n",
                            "      <td>True</td>\n",
                            "      <td>34.615385</td>\n",
                            "      <td>Partial loss\\nof DBD</td>\n",
                            "      <td>Partial loss\\nof DBD</td>\n",
                            "      <td>-1.0</td>\n",
                            "      <td>bHLH</td>\n",
                            "      <td>-1.0</td>\n",
                            "    </tr>\n",
                            "    <tr>\n",
                            "      <th>505</th>\n",
                            "      <td>RFX4</td>\n",
                            "      <td>RFX4-1</td>\n",
                            "      <td>RFX4-3</td>\n",
                            "      <td>0.873418</td>\n",
                            "      <td>32</td>\n",
                            "      <td>0</td>\n",
                            "      <td>True</td>\n",
                            "      <td>87.341772</td>\n",
                            "      <td>Partial loss\\nof DBD</td>\n",
                            "      <td>Partial loss\\nof DBD</td>\n",
                            "      <td>-1.0</td>\n",
                            "      <td>RFX</td>\n",
                            "      <td>-1.0</td>\n",
                            "    </tr>\n",
                            "  </tbody>\n",
                            "</table>\n",
                            "</div>"
                        ],
                        "text/plain": [
                            "     gene ref_iso alt_iso  dbd_fraction  dbd_insertion_n_aa  \\\n",
                            "72   DLX4  DLX4-1  DLX4-3      0.245614                  26   \n",
                            "204  HEY1  HEY1-2  HEY1-1      0.000000                   4   \n",
                            "252  KLF7  KLF7-1  KLF7-4      0.000000                   1   \n",
                            "288   MAX   MAX-1   MAX-5      0.346154                  39   \n",
                            "289   MAX   MAX-1   MAX-6      0.346154                  39   \n",
                            "505  RFX4  RFX4-1  RFX4-3      0.873418                  32   \n",
                            "\n",
                            "     dbd_n_aa_to_change  dbd_flank_affected  dbd_pct_lost  \\\n",
                            "72                    0                True     24.561404   \n",
                            "204                   0               False      0.000000   \n",
                            "252                   0               False      0.000000   \n",
                            "288                   0                True     34.615385   \n",
                            "289                   0                True     34.615385   \n",
                            "505                   0                True     87.341772   \n",
                            "\n",
                            "                         dbd_affected             dbd_or_flank_affected  \\\n",
                            "72               Partial loss\\nof DBD              Partial loss\\nof DBD   \n",
                            "204  Full DBD in\\nalternative isoform  Full DBD in\\nalternative isoform   \n",
                            "252  Full DBD in\\nalternative isoform  Full DBD in\\nalternative isoform   \n",
                            "288              Partial loss\\nof DBD              Partial loss\\nof DBD   \n",
                            "289              Partial loss\\nof DBD              Partial loss\\nof DBD   \n",
                            "505              Partial loss\\nof DBD              Partial loss\\nof DBD   \n",
                            "\n",
                            "     delta_pdi    tf_family  delta_pdi_trunc  \n",
                            "72        -1.0  Homeodomain             -1.0  \n",
                            "204       -1.0         bHLH             -1.0  \n",
                            "252       -1.0      C2H2 ZF             -1.0  \n",
                            "288       -1.0         bHLH             -1.0  \n",
                            "289       -1.0         bHLH             -1.0  \n",
                            "505       -1.0          RFX             -1.0  "
                        ]
                    },
                    "execution_count": 6,
                    "metadata": {},
                    "output_type": "execute_result"
                }
            ],
            "source": [
                "df.loc[df['dbd_insertion_n_aa'] > 0 ]"
            ]
        },
        {
            "cell_type": "code",
            "execution_count": 7,
            "metadata": {
                "tags": []
            },
            "outputs": [
                {
                    "name": "stdout",
                    "output_type": "stream",
                    "text": [
                        "309 TF genes\n",
                        "301 TF genes with at least one Pfam domain in longest cloned isoform\n",
                        "273\n"
                    ]
                }
            ],
            "source": [
                "# count\n",
                "print(len(tfs), 'TF genes')\n",
                "print(sum([len(tf.isoforms[0].aa_seq_features) > 0 for tf in tfs.values()]),\n",
                "      'TF genes with at least one Pfam domain in longest cloned isoform')\n",
                "print(sum([len(tf.isoforms[0].dna_binding_domains) > 0 for tf in tfs.values()]))\n",
                "tfs_no_dbd = {k: v for k, v in tfs.items()\n",
                "              if len(v.isoforms[0].dna_binding_domains) == 0\n",
                "              and len(v.isoforms[0].aa_seq_features) > 0}"
            ]
        },
        {
            "cell_type": "code",
            "execution_count": 8,
            "metadata": {},
            "outputs": [],
            "source": [
                "df['delta_pdi_trunc'] = df['delta_pdi'].clip(upper=1)"
            ]
        },
        {
            "cell_type": "code",
            "execution_count": 9,
            "metadata": {},
            "outputs": [
                {
                    "data": {
                        "text/plain": [
                            "array(['Full DBD in\\nalternative isoform', 'Partial loss\\nof DBD',\n",
                            "       'DBD flank affected', 'Full loss\\nof DBD'], dtype=object)"
                        ]
                    },
                    "execution_count": 9,
                    "metadata": {},
                    "output_type": "execute_result"
                }
            ],
            "source": [
                "df['dbd_or_flank_affected'].value_counts().index.values"
            ]
        },
        {
            "cell_type": "code",
            "execution_count": 10,
            "metadata": {},
            "outputs": [],
            "source": [
                "df['tf_family_merged'] = df['tf_family'].map(lambda x: x if x in ['C2H2 ZF', 'bHLH', 'Homeodomain', 'Nuclear receptor'] else 'other')"
            ]
        },
        {
            "cell_type": "code",
            "execution_count": 11,
            "metadata": {},
            "outputs": [],
            "source": [
                "# TODO: move to data_loading.py\n",
                "dis = pd.read_csv('../data/processed/TFiso1_disorder-and-ss_from-alphafold.tsv',\n",
                "                  sep='\\t')\n",
                "n_aa = dis.groupby('clone_name').size().rename('n_aa').to_frame()\n",
                "n_aa['n_aa_disordered'] = dis.groupby('clone_name')['is_disordered'].sum()\n",
                "n_aa['n_aa_ordered'] = n_aa['n_aa'] - n_aa['n_aa_disordered']\n",
                "for c in n_aa.columns:\n",
                "    df[f'delta_{c}'] = df['ref_iso'].map(n_aa[c]) - df['alt_iso'].map(n_aa[c])\n",
                "    df[f'abs_delta_{c}'] = df[f'delta_{c}'].abs()"
            ]
        },
        {
            "cell_type": "code",
            "execution_count": 12,
            "metadata": {},
            "outputs": [],
            "source": [
                "df['f_disorder_delta_aa'] = df['abs_delta_n_aa_disordered'] / (df['abs_delta_n_aa_disordered'] + df['abs_delta_n_aa_ordered'])"
            ]
        },
        {
            "cell_type": "code",
            "execution_count": 13,
            "metadata": {},
            "outputs": [],
            "source": [
                "df['pdi_affected'] = (df['delta_pdi'] != 0)"
            ]
        },
        {
            "cell_type": "code",
            "execution_count": 14,
            "metadata": {},
            "outputs": [],
            "source": [
                "#charged_aas = (\"K\", \"R\", \"H\", \"D\", \"E\", \"C\", \"Y\")\n",
                "\n",
                "def delta_n_K_or_R(row):\n",
                "    aa_ref = tfs[row['gene']][row['ref_iso']].aa_seq\n",
                "    aa_alt = tfs[row['gene']][row['alt_iso']].aa_seq\n",
                "    return  (aa_alt.count('K') + aa_alt.count('R')) - (aa_ref.count('K') + aa_ref.count('R'))\n",
                "\n",
                "df['delta_n_K_or_R'] = df.apply(delta_n_K_or_R, axis=1)"
            ]
        },
        {
            "cell_type": "code",
            "execution_count": 15,
            "metadata": {},
            "outputs": [],
            "source": [
                "# for alternative isoforms, containing the DBD, that are associated with a change in \n",
                "# DNA binding vs staying the same, is there a positively charged region in the different \n",
                "# amino acid sequence?\n",
                "\n",
                "# three categories: lose, same, gain\n",
                "# variable is max postive charged residue count in 10aa sliding window, \n",
                "\n",
                "# NOTE I've updated this since the copy and paste from domain/motif notebook\n",
                "def isoform_specific_regions(gene, subset=None):\n",
                "    \"\"\"The name is a bit misleading because it's not specific to one isoform but just\n",
                "       not common to all isoforms.\n",
                "\n",
                "    Returns: dict(frozenset: list(str)): isoform IDs and list of contiguous AA sequences\n",
                "                                         that map to them only \n",
                "\n",
                "    \"\"\"\n",
                "    algn = gene.genomic_alignment_of_aa_seqs(subset=subset)\n",
                "    subset_prev = None\n",
                "    isr = {}\n",
                "    len_algn = len(list(algn.values())[0])\n",
                "    for i in range(len_algn):\n",
                "        subset = frozenset({k for k, v in algn.items() if v[i] != '-'})  # the isoforms that have an aa at that genomic position\n",
                "        if subset_prev is None:\n",
                "            if (len(subset) < len(algn)) and (len(subset) > 0):\n",
                "                start = i\n",
                "                subset_prev = subset\n",
                "        else:\n",
                "            if subset != subset_prev:\n",
                "                if (len(subset_prev) < len(algn)) and (len(subset_prev) > 0):\n",
                "                    subseq = (algn[list(subset_prev)[0]][start:i], start, i)\n",
                "                    isr[subset_prev] = isr.get(subset_prev, []) + [subseq]\n",
                "                start = i\n",
                "                subset_prev = subset\n",
                "            elif  i == (len_algn - 1):\n",
                "                if (len(subset_prev) < len(algn)) and (len(subset_prev) > 0):\n",
                "                    subseq = (algn[list(subset_prev)[0]][start:], start, i + 1)\n",
                "                    isr[subset_prev] = isr.get(subset_prev, []) + [subseq]\n",
                "                start = i\n",
                "                subset_prev = subset\n",
                "    merged = {}\n",
                "    for iso_subset, subseqs in isr.items():\n",
                "        merged[iso_subset] = []\n",
                "        prev_end = np.inf\n",
                "        prev_subseq = ''\n",
                "        for subseq, start, end in subseqs:\n",
                "            if start <= prev_end + 2:\n",
                "                prev_subseq += subseq\n",
                "                prev_end = end\n",
                "            else:\n",
                "                if prev_subseq != '':\n",
                "                    merged[iso_subset].append(prev_subseq)\n",
                "                prev_subseq = subseq\n",
                "                prev_end = end\n",
                "        merged[iso_subset].append(prev_subseq)\n",
                "    merged\n",
                "    return merged\n",
                "\n",
                "def count_K_or_R_sliding_window(row, window_size=6):\n",
                "    # get different amino acid sequence regions\n",
                "    specific_aa_regions = isoform_specific_regions(tfs[row['gene']], subset=[row['ref_iso'], row['alt_iso']])\n",
                "    aa_seq_regions_in_ref_not_in_alt = specific_aa_regions.get(frozenset([row['ref_iso']]), [])\n",
                "    aa_seq_regions_in_alt_not_in_ref = specific_aa_regions.get(frozenset([row['alt_iso']]), [])\n",
                "    max_count = 0\n",
                "    for aa_seq in aa_seq_regions_in_ref_not_in_alt:\n",
                "        for i in range(len(aa_seq) - window_size):\n",
                "            count = aa_seq[i:i + window_size].count('K') + aa_seq[i:i + window_size].count('R')\n",
                "            if count > max_count:\n",
                "                max_count = count\n",
                "    return max_count\n",
                "\n",
                "df['count_K_or_R_sliding_window'] = df.apply(count_K_or_R_sliding_window, axis=1)"
            ]
        },
        {
            "cell_type": "code",
            "execution_count": 16,
            "metadata": {},
            "outputs": [
                {
                    "data": {
                        "text/plain": [
                            "0    15\n",
                            "4    14\n",
                            "3    14\n",
                            "2     8\n",
                            "1     7\n",
                            "Name: count_K_or_R_sliding_window, dtype: int64"
                        ]
                    },
                    "execution_count": 16,
                    "metadata": {},
                    "output_type": "execute_result"
                }
            ],
            "source": [
                "df['count_K_or_R_sliding_window'].value_counts()"
            ]
        },
        {
            "cell_type": "code",
            "execution_count": 17,
            "metadata": {},
            "outputs": [
                {
                    "data": {
                        "text/plain": [
                            "Full DBD in\\nalternative isoform    31\n",
                            "Partial loss\\nof DBD                12\n",
                            "DBD flank affected                   9\n",
                            "Full loss\\nof DBD                    6\n",
                            "Name: dbd_or_flank_affected, dtype: int64"
                        ]
                    },
                    "execution_count": 17,
                    "metadata": {},
                    "output_type": "execute_result"
                }
            ],
            "source": [
                "df['dbd_or_flank_affected'].value_counts()"
            ]
        },
        {
            "cell_type": "code",
            "execution_count": 18,
            "metadata": {},
            "outputs": [
                {
                    "name": "stdout",
                    "output_type": "stream",
                    "text": [
                        "[0 1 0 0 0 0 1 4 4 3 2 3 0 3 3 3 1 3 1 2 0 0 4 0 2]\n",
                        "[3 0 3 1 0 0 0 0]\n",
                        "1.6\n",
                        "0.875\n",
                        "MannwhitneyuResult(statistic=71.5, pvalue=0.10818056786504043)\n"
                    ]
                }
            ],
            "source": [
                "# only isoforms with DBD\n",
                "# three categories: lose, same, gain\n",
                "# variable is max postive charged residue count in 10aa sliding window,\n",
                "a = df.loc[(df['dbd_affected'] == 'Full DBD in\\nalternative isoform') &\n",
                "            (df['delta_pdi'] < 0),\n",
                "        'count_K_or_R_sliding_window'].values\n",
                "b = df.loc[(df['dbd_affected'] == 'Full DBD in\\nalternative isoform') &\n",
                "            (df['delta_pdi'] == 0),\n",
                "        'count_K_or_R_sliding_window'].values\n",
                "print(a)\n",
                "print(b)\n",
                "print(a.mean())\n",
                "print(b.mean())\n",
                "print(stats.mannwhitneyu(a, b))"
            ]
        },
        {
            "cell_type": "code",
            "execution_count": 19,
            "metadata": {},
            "outputs": [
                {
                    "data": {
                        "text/plain": [
                            "{frozenset({'KLF7-1'}): ['MDVLASYSIFQELQLVHDTGYFSALPSLEETWQQ'],\n",
                            " frozenset({'KLF7-4'}): ['M', 'G']}"
                        ]
                    },
                    "execution_count": 19,
                    "metadata": {},
                    "output_type": "execute_result"
                }
            ],
            "source": [
                "isoform_specific_regions(tfs['KLF7'], subset=['KLF7-1', 'KLF7-4'])"
            ]
        },
        {
            "cell_type": "code",
            "execution_count": 20,
            "metadata": {},
            "outputs": [
                {
                    "data": {
                        "text/plain": [
                            "bHLH                6\n",
                            "Nuclear receptor    4\n",
                            "Homeodomain         3\n",
                            "STAT                2\n",
                            "AP-2                2\n",
                            "SMAD                2\n",
                            "C2H2 ZF             1\n",
                            "Ets                 1\n",
                            "bZIP                1\n",
                            "T-box               1\n",
                            "Name: tf_family, dtype: int64"
                        ]
                    },
                    "execution_count": 20,
                    "metadata": {},
                    "output_type": "execute_result"
                }
            ],
            "source": [
                "# check for family enrichment of DBD unaffected PDI changes\n",
                "df.loc[(df['dbd_or_flank_affected'] == 'Full DBD in\\nalternative isoform') &\n",
                "(df['delta_pdi'] != 0), 'tf_family'].value_counts()"
            ]
        },
        {
            "cell_type": "code",
            "execution_count": 21,
            "metadata": {},
            "outputs": [
                {
                    "data": {
                        "text/plain": [
                            "TCF4      3\n",
                            "STAT3     2\n",
                            "TFAP2A    2\n",
                            "PPARG     2\n",
                            "NFIX      2\n",
                            "MAX       1\n",
                            "KLF7      1\n",
                            "TBX5      1\n",
                            "MEOX1     1\n",
                            "FLI1      1\n",
                            "PRRX1     1\n",
                            "CREB1     1\n",
                            "THRA      1\n",
                            "RARG      1\n",
                            "MYF6      1\n",
                            "HEY1      1\n",
                            "DLX4      1\n",
                            "Name: gene, dtype: int64"
                        ]
                    },
                    "execution_count": 21,
                    "metadata": {},
                    "output_type": "execute_result"
                }
            ],
            "source": [
                "df.loc[(df['dbd_or_flank_affected'] == 'Full DBD in\\nalternative isoform') &\n",
                "(df['delta_pdi'] != 0), 'gene'].value_counts()"
            ]
        },
        {
            "cell_type": "code",
            "execution_count": 22,
            "metadata": {},
            "outputs": [],
            "source": [
                "# PPIs with other TFs as a predictor for non-DBD related PDI changes?"
            ]
        },
        {
            "cell_type": "code",
            "execution_count": 23,
            "metadata": {},
            "outputs": [
                {
                    "data": {
                        "text/plain": [
                            "'CREB1 DLX4 FLI1 HEY1 KLF7 MAX MEOX1 MYF6 NFIX PPARG PRRX1 RARG STAT3 TBX5 TCF4 TFAP2A THRA'"
                        ]
                    },
                    "execution_count": 23,
                    "metadata": {},
                    "output_type": "execute_result"
                }
            ],
            "source": [
                "# 15 aa flanks\n",
                "' '.join(df.loc[(df['dbd_fraction'] == 0) &\n",
                "       (df['dbd_flank_affected'] == False) &\n",
                "       (df['delta_pdi'] != 0), 'gene'].unique())"
            ]
        },
        {
            "cell_type": "code",
            "execution_count": 24,
            "metadata": {},
            "outputs": [
                {
                    "data": {
                        "text/plain": [
                            "18"
                        ]
                    },
                    "execution_count": 24,
                    "metadata": {},
                    "output_type": "execute_result"
                }
            ],
            "source": [
                "(df['dbd_pct_lost'] > 0).sum()"
            ]
        },
        {
            "cell_type": "code",
            "execution_count": 25,
            "metadata": {},
            "outputs": [
                {
                    "name": "stderr",
                    "output_type": "stream",
                    "text": [
                        "/PHShome/kz659/.conda/envs/py36/lib/python3.6/site-packages/seaborn/categorical.py:1296: UserWarning: 11.1% of the points cannot be placed; you may want to decrease the size of the markers or use stripplot.\n",
                        "  warnings.warn(msg, UserWarning)\n"
                    ]
                },
                {
                    "data": {
                        "image/png": "[encoded data removed]",
                        "text/plain": [
                            "<Figure size 576x144 with 5 Axes>"
                        ]
                    },
                    "metadata": {
                        "needs_background": "light"
                    },
                    "output_type": "display_data"
                }
            ],
            "source": [
                "# TODO\n",
                "# check y variable now that we use reference isoform\n",
                "# horizontal line across whole\n",
                "\n",
                "gs_kw = dict(width_ratios=[1, 1, 0.35, 0.4, 1.5])\n",
                "fig, axs = plt.subplots(nrows=1, \n",
                "                        ncols=5,\n",
                "                        sharey=True,\n",
                "                        gridspec_kw=gs_kw)\n",
                "fig.set_size_inches(w=8, h=2)\n",
                "point_size = 6\n",
                "\n",
                "axs[0].set_title('Full loss of DBD',\n",
                "fontsize=10)\n",
                "sns.swarmplot(data=df,\n",
                "              y='delta_pdi_trunc', \n",
                "              x='dbd_or_flank_affected',\n",
                "              size=point_size,\n",
                "              order=[\n",
                "                     'Full loss\\nof DBD',\n",
                "                     ],\n",
                "              ax=axs[0],\n",
                "              color=sns.color_palette(\"Set2\")[0],\n",
                "              linewidth=1,\n",
                "              edgecolor=\"black\",\n",
                "              alpha=1)\n",
                "\n",
                "axs[1].set_title('Partial loss of DBD',\n",
                "fontsize=10)\n",
                "axs[1].scatter(df.loc[(df['dbd_pct_lost'] > 0) & (df['dbd_pct_lost'] < 100), 'dbd_pct_lost'].values,\n",
                "               df.loc[(df['dbd_pct_lost'] > 0) & (df['dbd_pct_lost'] < 100), 'delta_pdi_trunc'].values,\n",
                "           alpha=1,\n",
                "           s=point_size**2,\n",
                "            color=sns.color_palette(\"Set2\")[0],\n",
                "               linewidths=1,\n",
                "               edgecolor=\"black\",\n",
                "           clip_on=False)\n",
                "axs[1].set_xlabel('Proportion missing')\n",
                "axs[1].set_xlim(100, 0)\n",
                "axs[1].set_xticks([99, 50, 1])\n",
                "axs[1].set_xticklabels(['{}%'.format(x)for x in axs[1].get_xticks()])\n",
                "axs[1].set_xticks(range(10, 91, 10), minor=True)\n",
                "\n",
                "\n",
                "axs[2].set_title('Insertion\\nwithin DBD',\n",
                "fontsize=10)\n",
                "axs[2].scatter(df.loc[(df['dbd_pct_lost'] == 0) & (df['dbd_insertion_n_aa'] > 0), 'dbd_insertion_n_aa'].values,\n",
                "               df.loc[(df['dbd_pct_lost'] == 0) & (df['dbd_insertion_n_aa'] > 0), 'delta_pdi_trunc'].values,\n",
                "           alpha=1,\n",
                "           s=point_size**2,\n",
                "            color=sns.color_palette(\"Set2\")[0],\n",
                "               linewidths=1,\n",
                "               edgecolor=\"black\",\n",
                "           clip_on=False)\n",
                "axs[2].set_xlabel('amino acids\\ninserted')\n",
                "axs[2].set_xticks([1, 4])\n",
                "axs[2].set_xticks(range(1, 6), minor=True)\n",
                "\n",
                "axs[3].set_title('Flank of DBD\\naffected',\n",
                "                 fontsize=10)\n",
                "sns.swarmplot(data=df,\n",
                "              y='delta_pdi_trunc', \n",
                "              x='dbd_or_flank_affected',\n",
                "              size=point_size,\n",
                "              order=[\n",
                "                     'DBD flank affected',\n",
                "                     ],\n",
                "              ax=axs[3],\n",
                "            color=sns.color_palette(\"Set2\")[0],\n",
                "               linewidth=1,\n",
                "               edgecolor=\"black\",\n",
                "              alpha=1)\n",
                "\n",
                "axs[4].set_title('Full DBD + flanks\\nin alternative isoform',\n",
                "fontsize=10)\n",
                "sns.swarmplot(data=df,\n",
                "              y='delta_pdi_trunc', \n",
                "              x='dbd_or_flank_affected',\n",
                "              size=point_size,\n",
                "              order=[\n",
                "                     'Full DBD in\\nalternative isoform',\n",
                "                     ],\n",
                "            color=sns.color_palette(\"Set2\")[0],\n",
                "               linewidth=1,\n",
                "               edgecolor=\"black\",\n",
                "              ax=axs[4],\n",
                "              alpha=1)\n",
                "\n",
                "for ax in axs:\n",
                "    ax.spines['right'].set_visible(False)\n",
                "    ax.spines['top'].set_visible(False)\n",
                "for ax in axs[1:]:\n",
                "    ax.spines['left'].set_visible(False)\n",
                "    ax.yaxis.set_tick_params(which='both', length=0)\n",
                "for i in [0, 3, 4]:\n",
                "    axs[i].set_xlabel('')\n",
                "    axs[i].set_ylabel('')\n",
                "    axs[i].spines['bottom'].set_visible(False)\n",
                "    axs[i].xaxis.set_tick_params(length=0)\n",
                "    axs[i].set_xticks([])\n",
                "axs[0].set_yticks([-1, 0, 1])\n",
                "axs[0].set_yticks(np.linspace(-1, 1, 9), minor=True)\n",
                "axs[0].set_yticklabels(['-100%', '0', '+≥100%'])\n",
                "axs[0].set_ylabel('Change in number of PDI\\nin alternative isoform')\n",
                "\n",
                "plt.savefig('../figures/DBD_or_flank_change_vs_PDI_composite.pdf', bbox_inches='tight')"
            ]
        },
        {
            "cell_type": "code",
            "execution_count": 26,
            "metadata": {},
            "outputs": [],
            "source": [
                "# full DBD in alternative isoform, fraction in disordered\n",
                "df['f_disorder_difference'] = df.apply(lambda x: disordered_fraction_of_different_regions(tfs[x['gene']], x['ref_iso'], x['alt_iso']), axis=1)"
            ]
        },
        {
            "cell_type": "code",
            "execution_count": 27,
            "metadata": {},
            "outputs": [
                {
                    "data": {
                        "text/plain": [
                            "Full DBD in\\nalternative isoform    31\n",
                            "Partial loss\\nof DBD                12\n",
                            "DBD flank affected                   9\n",
                            "Full loss\\nof DBD                    6\n",
                            "Name: dbd_or_flank_affected, dtype: int64"
                        ]
                    },
                    "execution_count": 27,
                    "metadata": {},
                    "output_type": "execute_result"
                }
            ],
            "source": [
                "df.dbd_or_flank_affected.value_counts()"
            ]
        },
        {
            "cell_type": "code",
            "execution_count": 28,
            "metadata": {},
            "outputs": [
                {
                    "data": {
                        "text/html": [
                            "<div>\n",
                            "<style scoped>\n",
                            "    .dataframe tbody tr th:only-of-type {\n",
                            "        vertical-align: middle;\n",
                            "    }\n",
                            "\n",
                            "    .dataframe tbody tr th {\n",
                            "        vertical-align: top;\n",
                            "    }\n",
                            "\n",
                            "    .dataframe thead th {\n",
                            "        text-align: right;\n",
                            "    }\n",
                            "</style>\n",
                            "<table border=\"1\" class=\"dataframe\">\n",
                            "  <thead>\n",
                            "    <tr style=\"text-align: right;\">\n",
                            "      <th></th>\n",
                            "      <th>gene</th>\n",
                            "      <th>ref_iso</th>\n",
                            "      <th>alt_iso</th>\n",
                            "      <th>dbd_fraction</th>\n",
                            "      <th>dbd_insertion_n_aa</th>\n",
                            "      <th>dbd_n_aa_to_change</th>\n",
                            "      <th>dbd_flank_affected</th>\n",
                            "      <th>dbd_pct_lost</th>\n",
                            "      <th>dbd_affected</th>\n",
                            "      <th>dbd_or_flank_affected</th>\n",
                            "      <th>...</th>\n",
                            "      <th>delta_n_aa_disordered</th>\n",
                            "      <th>abs_delta_n_aa_disordered</th>\n",
                            "      <th>delta_n_aa_ordered</th>\n",
                            "      <th>abs_delta_n_aa_ordered</th>\n",
                            "      <th>f_disorder_delta_aa</th>\n",
                            "      <th>pdi_affected</th>\n",
                            "      <th>delta_n_K_or_R</th>\n",
                            "      <th>count_K_or_R_sliding_window</th>\n",
                            "      <th>f_disorder_difference</th>\n",
                            "      <th>color</th>\n",
                            "    </tr>\n",
                            "  </thead>\n",
                            "  <tbody>\n",
                            "    <tr>\n",
                            "      <th>253</th>\n",
                            "      <td>KLF7</td>\n",
                            "      <td>KLF7-1</td>\n",
                            "      <td>KLF7-5</td>\n",
                            "      <td>1.0</td>\n",
                            "      <td>0</td>\n",
                            "      <td>0</td>\n",
                            "      <td>True</td>\n",
                            "      <td>100.0</td>\n",
                            "      <td>Full loss\\nof DBD</td>\n",
                            "      <td>Full loss\\nof DBD</td>\n",
                            "      <td>...</td>\n",
                            "      <td>-50.0</td>\n",
                            "      <td>50.0</td>\n",
                            "      <td>122.0</td>\n",
                            "      <td>122.0</td>\n",
                            "      <td>0.290698</td>\n",
                            "      <td>True</td>\n",
                            "      <td>-20</td>\n",
                            "      <td>4</td>\n",
                            "      <td>0.392000</td>\n",
                            "      <td>(0.84240761, 0.31371695, 0.37010969, 1.0)</td>\n",
                            "    </tr>\n",
                            "    <tr>\n",
                            "      <th>749</th>\n",
                            "      <td>ZNF143</td>\n",
                            "      <td>ZNF143-1</td>\n",
                            "      <td>ZNF143-3</td>\n",
                            "      <td>0.0</td>\n",
                            "      <td>0</td>\n",
                            "      <td>81</td>\n",
                            "      <td>False</td>\n",
                            "      <td>0.0</td>\n",
                            "      <td>Full DBD in\\nalternative isoform</td>\n",
                            "      <td>Full DBD in\\nalternative isoform</td>\n",
                            "      <td>...</td>\n",
                            "      <td>37.0</td>\n",
                            "      <td>37.0</td>\n",
                            "      <td>16.0</td>\n",
                            "      <td>16.0</td>\n",
                            "      <td>0.698113</td>\n",
                            "      <td>False</td>\n",
                            "      <td>-1</td>\n",
                            "      <td>0</td>\n",
                            "      <td>0.596491</td>\n",
                            "      <td>(0.67004287, 0.22817117, 0.42938576, 1.0)</td>\n",
                            "    </tr>\n",
                            "    <tr>\n",
                            "      <th>487</th>\n",
                            "      <td>RARG</td>\n",
                            "      <td>RARG-1</td>\n",
                            "      <td>RARG-2</td>\n",
                            "      <td>0.0</td>\n",
                            "      <td>0</td>\n",
                            "      <td>27</td>\n",
                            "      <td>False</td>\n",
                            "      <td>0.0</td>\n",
                            "      <td>Full DBD in\\nalternative isoform</td>\n",
                            "      <td>Full DBD in\\nalternative isoform</td>\n",
                            "      <td>...</td>\n",
                            "      <td>13.0</td>\n",
                            "      <td>13.0</td>\n",
                            "      <td>-2.0</td>\n",
                            "      <td>2.0</td>\n",
                            "      <td>0.866667</td>\n",
                            "      <td>True</td>\n",
                            "      <td>-1</td>\n",
                            "      <td>2</td>\n",
                            "      <td>1.000000</td>\n",
                            "      <td>(0.29408557, 0.13721193, 0.38442775, 1.0)</td>\n",
                            "    </tr>\n",
                            "    <tr>\n",
                            "      <th>204</th>\n",
                            "      <td>HEY1</td>\n",
                            "      <td>HEY1-2</td>\n",
                            "      <td>HEY1-1</td>\n",
                            "      <td>0.0</td>\n",
                            "      <td>4</td>\n",
                            "      <td>0</td>\n",
                            "      <td>False</td>\n",
                            "      <td>0.0</td>\n",
                            "      <td>Full DBD in\\nalternative isoform</td>\n",
                            "      <td>Full DBD in\\nalternative isoform</td>\n",
                            "      <td>...</td>\n",
                            "      <td>-1.0</td>\n",
                            "      <td>1.0</td>\n",
                            "      <td>-3.0</td>\n",
                            "      <td>3.0</td>\n",
                            "      <td>0.250000</td>\n",
                            "      <td>True</td>\n",
                            "      <td>1</td>\n",
                            "      <td>0</td>\n",
                            "      <td>0.000000</td>\n",
                            "      <td>(0.92907237, 0.68878959, 0.50411509, 1.0)</td>\n",
                            "    </tr>\n",
                            "    <tr>\n",
                            "      <th>603</th>\n",
                            "      <td>TCF4</td>\n",
                            "      <td>TCF4-1</td>\n",
                            "      <td>TCF4-4</td>\n",
                            "      <td>0.0</td>\n",
                            "      <td>0</td>\n",
                            "      <td>20</td>\n",
                            "      <td>False</td>\n",
                            "      <td>0.0</td>\n",
                            "      <td>Full DBD in\\nalternative isoform</td>\n",
                            "      <td>Full DBD in\\nalternative isoform</td>\n",
                            "      <td>...</td>\n",
                            "      <td>1.0</td>\n",
                            "      <td>1.0</td>\n",
                            "      <td>4.0</td>\n",
                            "      <td>4.0</td>\n",
                            "      <td>0.200000</td>\n",
                            "      <td>True</td>\n",
                            "      <td>-2</td>\n",
                            "      <td>0</td>\n",
                            "      <td>1.000000</td>\n",
                            "      <td>(0.29408557, 0.13721193, 0.38442775, 1.0)</td>\n",
                            "    </tr>\n",
                            "  </tbody>\n",
                            "</table>\n",
                            "<p>5 rows × 26 columns</p>\n",
                            "</div>"
                        ],
                        "text/plain": [
                            "       gene   ref_iso   alt_iso  dbd_fraction  dbd_insertion_n_aa  \\\n",
                            "253    KLF7    KLF7-1    KLF7-5           1.0                   0   \n",
                            "749  ZNF143  ZNF143-1  ZNF143-3           0.0                   0   \n",
                            "487    RARG    RARG-1    RARG-2           0.0                   0   \n",
                            "204    HEY1    HEY1-2    HEY1-1           0.0                   4   \n",
                            "603    TCF4    TCF4-1    TCF4-4           0.0                   0   \n",
                            "\n",
                            "     dbd_n_aa_to_change  dbd_flank_affected  dbd_pct_lost  \\\n",
                            "253                   0                True         100.0   \n",
                            "749                  81               False           0.0   \n",
                            "487                  27               False           0.0   \n",
                            "204                   0               False           0.0   \n",
                            "603                  20               False           0.0   \n",
                            "\n",
                            "                         dbd_affected             dbd_or_flank_affected  ...  \\\n",
                            "253                 Full loss\\nof DBD                 Full loss\\nof DBD  ...   \n",
                            "749  Full DBD in\\nalternative isoform  Full DBD in\\nalternative isoform  ...   \n",
                            "487  Full DBD in\\nalternative isoform  Full DBD in\\nalternative isoform  ...   \n",
                            "204  Full DBD in\\nalternative isoform  Full DBD in\\nalternative isoform  ...   \n",
                            "603  Full DBD in\\nalternative isoform  Full DBD in\\nalternative isoform  ...   \n",
                            "\n",
                            "     delta_n_aa_disordered abs_delta_n_aa_disordered  delta_n_aa_ordered  \\\n",
                            "253                  -50.0                      50.0               122.0   \n",
                            "749                   37.0                      37.0                16.0   \n",
                            "487                   13.0                      13.0                -2.0   \n",
                            "204                   -1.0                       1.0                -3.0   \n",
                            "603                    1.0                       1.0                 4.0   \n",
                            "\n",
                            "    abs_delta_n_aa_ordered  f_disorder_delta_aa  pdi_affected  delta_n_K_or_R  \\\n",
                            "253                  122.0             0.290698          True             -20   \n",
                            "749                   16.0             0.698113         False              -1   \n",
                            "487                    2.0             0.866667          True              -1   \n",
                            "204                    3.0             0.250000          True               1   \n",
                            "603                    4.0             0.200000          True              -2   \n",
                            "\n",
                            "     count_K_or_R_sliding_window  f_disorder_difference  \\\n",
                            "253                            4               0.392000   \n",
                            "749                            0               0.596491   \n",
                            "487                            2               1.000000   \n",
                            "204                            0               0.000000   \n",
                            "603                            0               1.000000   \n",
                            "\n",
                            "                                         color  \n",
                            "253  (0.84240761, 0.31371695, 0.37010969, 1.0)  \n",
                            "749  (0.67004287, 0.22817117, 0.42938576, 1.0)  \n",
                            "487  (0.29408557, 0.13721193, 0.38442775, 1.0)  \n",
                            "204  (0.92907237, 0.68878959, 0.50411509, 1.0)  \n",
                            "603  (0.29408557, 0.13721193, 0.38442775, 1.0)  \n",
                            "\n",
                            "[5 rows x 26 columns]"
                        ]
                    },
                    "execution_count": 28,
                    "metadata": {},
                    "output_type": "execute_result"
                }
            ],
            "source": [
                "# color map\n",
                "t = df.loc[:,'f_disorder_difference'].values\n",
                "norm = plt.Normalize(df.loc[:,'f_disorder_difference'].min(), df.loc[:,'f_disorder_difference'].max())\n",
                "cmap = sns.color_palette(\"flare\", as_cmap=True)\n",
                "palette = {value: cmap(norm(value)) for value in t}\n",
                "\n",
                "def re_color(row, palette):\n",
                "    if pd.isnull(row['f_disorder_difference']):\n",
                "        color = palette[0]\n",
                "    else:\n",
                "        color = palette[row['f_disorder_difference']]\n",
                "    return color\n",
                "\n",
                "df[\"color\"] = df.apply(re_color, axis=1, palette=palette)\n",
                "df.sample(5)"
            ]
        },
        {
            "cell_type": "code",
            "execution_count": 29,
            "metadata": {},
            "outputs": [
                {
                    "data": {
                        "image/png": "[encoded data removed]",
                        "text/plain": [
                            "<Figure size 540x144 with 5 Axes>"
                        ]
                    },
                    "metadata": {
                        "needs_background": "light"
                    },
                    "output_type": "display_data"
                },
                {
                    "data": {
                        "image/png": "[encoded data removed]",
                        "text/plain": [
                            "<Figure size 540x144 with 4 Axes>"
                        ]
                    },
                    "metadata": {
                        "needs_background": "light"
                    },
                    "output_type": "display_data"
                }
            ],
            "source": [
                "# try distance from DBD\n",
                "# TODO\n",
                "# check y variable now that we use reference isoform\n",
                "# horizontal line across whole\n",
                "\n",
                "gs_kw = dict(width_ratios=[0.7, 1, 0.35, 1.5])\n",
                "fig, axs = plt.subplots(nrows=1, \n",
                "                        ncols=4,\n",
                "                        sharey=True,\n",
                "                        gridspec_kw=gs_kw)\n",
                "fig.set_size_inches(w=7.5, h=2)\n",
                "point_size = 6\n",
                "\n",
                "axs[0].set_title('Full loss of DBD',\n",
                "fontsize=10)\n",
                "sns.swarmplot(data=df,\n",
                "              y='delta_pdi_trunc', \n",
                "              x='dbd_or_flank_affected',\n",
                "              size=point_size,\n",
                "              order=[\n",
                "                     'Full loss\\nof DBD',\n",
                "                     ],\n",
                "              ax=axs[0],\n",
                "              palette=palette,\n",
                "              hue='f_disorder_difference',\n",
                "               linewidth=1,\n",
                "               edgecolor=\"black\",\n",
                "              alpha=1,\n",
                "             zorder=10)\n",
                "axs[0].get_legend().remove()\n",
                "\n",
                "axs[1].set_title('Partial loss of DBD',\n",
                "fontsize=10)\n",
                "axs[1].scatter(df.loc[(df['dbd_pct_lost'] > 0) & (df['dbd_pct_lost'] < 100), 'dbd_pct_lost'].values,\n",
                "               df.loc[(df['dbd_pct_lost'] > 0) & (df['dbd_pct_lost'] < 100), 'delta_pdi_trunc'].values,\n",
                "           alpha=1,\n",
                "           s=point_size**2,\n",
                "            c=df.loc[(df['dbd_pct_lost'] > 0) & (df['dbd_pct_lost'] < 100), 'color'].values,\n",
                "               linewidth=1,\n",
                "               edgecolor=\"black\",\n",
                "           clip_on=False,\n",
                "              zorder=10)\n",
                "axs[1].set_xlabel('Proportion missing')\n",
                "axs[1].set_xlim(100, 0)\n",
                "axs[1].set_xticks([99, 50, 1])\n",
                "axs[1].set_xticklabels(['{}%'.format(x)for x in axs[1].get_xticks()])\n",
                "axs[1].set_xticks(range(10, 91, 10), minor=True)\n",
                "\n",
                "# annotate zic3\n",
                "axs[1].annotate(\"ZIC3-1\", xy=(df.loc[(df[\"alt_iso\"] == \"ZIC3-1\"), 'dbd_pct_lost'].values, \n",
                "                              df.loc[(df[\"alt_iso\"] == \"ZIC3-1\"), 'delta_pdi_trunc'].values),\n",
                "                xytext=(-10, 0), textcoords='offset points', arrowprops = dict(arrowstyle=\"-\"),\n",
                "                ha=\"right\", va=\"top\", fontsize=7,\n",
                "                bbox=dict(boxstyle='square,pad=0', fc='none', ec='none'))\n",
                "axs[1].annotate(\"ZIC3-3\", xy=(df.loc[(df[\"alt_iso\"] == \"ZIC3-3\"), 'dbd_pct_lost'].values, \n",
                "                              df.loc[(df[\"alt_iso\"] == \"ZIC3-3\"), 'delta_pdi_trunc'].values),\n",
                "                xytext=(-10, -5), textcoords='offset points', arrowprops = dict(arrowstyle=\"-\"),\n",
                "                ha=\"right\", va=\"top\", fontsize=7,\n",
                "                bbox=dict(boxstyle='square,pad=0', fc='none', ec='none'))\n",
                "\n",
                "\n",
                "axs[2].set_title('Insertion\\nwithin DBD',\n",
                "fontsize=10)\n",
                "axs[2].scatter(df.loc[(df['dbd_pct_lost'] == 0) & (df['dbd_insertion_n_aa'] > 0), 'dbd_insertion_n_aa'].values,\n",
                "               df.loc[(df['dbd_pct_lost'] == 0) & (df['dbd_insertion_n_aa'] > 0), 'delta_pdi_trunc'].values,\n",
                "           alpha=1,\n",
                "           s=point_size**2,\n",
                "            c=df.loc[(df['dbd_pct_lost'] == 0) & (df['dbd_insertion_n_aa'] > 0), 'color'].values,\n",
                "               linewidth=1,\n",
                "               edgecolor=\"black\",\n",
                "           clip_on=False,\n",
                "              zorder=10)\n",
                "axs[2].set_xlabel('amino acids\\ninserted')\n",
                "axs[2].set_xticks([1, 4])\n",
                "axs[2].set_xticks(range(1, 6), minor=True)\n",
                "\n",
                "# annotate hey1\n",
                "axs[2].annotate(\"HEY1-1\", xy=(df.loc[(df[\"alt_iso\"] == \"HEY1-1\"), 'dbd_insertion_n_aa'].values, \n",
                "                              df.loc[(df[\"alt_iso\"] == \"HEY1-1\"), 'delta_pdi_trunc'].values),\n",
                "                xytext=(-3, 15), textcoords='offset points', arrowprops = dict(arrowstyle=\"-\"),\n",
                "                ha=\"center\", va=\"bottom\", fontsize=7,\n",
                "                bbox=dict(boxstyle='square,pad=0', fc='none', ec='none'))\n",
                "\n",
                "axs[3].set_title('Full DBD in\\nalternative isoform', fontsize=10)\n",
                "axs[3].scatter(df.loc[(df['dbd_affected'] == 'Full DBD in\\nalternative isoform'), 'dbd_n_aa_to_change'].values,\n",
                "               df.loc[(df['dbd_affected'] == 'Full DBD in\\nalternative isoform'), 'delta_pdi_trunc'].values,\n",
                "           alpha=1,\n",
                "           s=point_size**2,\n",
                "            c=df.loc[(df['dbd_affected'] == 'Full DBD in\\nalternative isoform'), 'color'].values,\n",
                "               linewidth=1,\n",
                "               edgecolor=\"black\",\n",
                "           clip_on=False,\n",
                "               zorder=10)\n",
                "\n",
                "axs[3].set_xlabel('Distance of alternative\\nsequence from DBD\\n(number of AA)')\n",
                "\n",
                "# annotate tbx5 and creb1\n",
                "axs[3].annotate(\"TBX5-2\", xy=(df.loc[(df[\"alt_iso\"] == \"TBX5-2\"), 'dbd_n_aa_to_change'].values, \n",
                "                              df.loc[(df[\"alt_iso\"] == \"TBX5-2\"), 'delta_pdi_trunc'].values),\n",
                "                xytext=(12, -7), textcoords='offset points', arrowprops = dict(arrowstyle=\"-\"),\n",
                "                ha=\"right\", va=\"top\", fontsize=7,\n",
                "                bbox=dict(boxstyle='square,pad=0', fc='none', ec='none'))\n",
                "axs[3].annotate(\"TBX5-3\", xy=(df.loc[(df[\"alt_iso\"] == \"TBX5-3\"), 'dbd_n_aa_to_change'].values, \n",
                "                              df.loc[(df[\"alt_iso\"] == \"TBX5-3\"), 'delta_pdi_trunc'].values),\n",
                "                xytext=(-2, 30), textcoords='offset points', arrowprops = dict(arrowstyle=\"-\"),\n",
                "                ha=\"left\", va=\"center\", fontsize=7,\n",
                "                bbox=dict(boxstyle='square,pad=0', fc='none', ec='none'))\n",
                "axs[3].annotate(\"CREB1-1\", xy=(df.loc[(df[\"alt_iso\"] == \"CREB1-1\"), 'dbd_n_aa_to_change'].values, \n",
                "                              df.loc[(df[\"alt_iso\"] == \"CREB1-1\"), 'delta_pdi_trunc'].values),\n",
                "                xytext=(25, 9), textcoords='offset points', arrowprops = dict(arrowstyle=\"-\", \n",
                "                                                                              connectionstyle=\"arc3,rad=0.2\"),\n",
                "                ha=\"left\", va=\"center\", fontsize=7,\n",
                "                bbox=dict(boxstyle='square,pad=0', fc='none', ec='none'))\n",
                "\n",
                "# add colorbar\n",
                "# mirror figure\n",
                "gs_kw = dict(width_ratios=[0.7, 1, 0.35, 1.5])\n",
                "fig2, axs2 = plt.subplots(nrows=1, \n",
                "                        ncols=4,\n",
                "                        sharey=True,\n",
                "                        gridspec_kw=gs_kw)\n",
                "fig2.set_size_inches(w=7.5, h=2)\n",
                "map1 = axs2[3].imshow(np.stack([t, t]), cmap=\"flare\")\n",
                "fig.colorbar(map1, ax=axs[3], aspect=40, label=\"% alt. iso. seq. diff.\\nin disordered regions\")\n",
                "\n",
                "\n",
                "\n",
                "for ax in axs:\n",
                "    ax.spines['right'].set_visible(False)\n",
                "    ax.spines['top'].set_visible(False)\n",
                "    ax.axhline(y=0, linestyle=\"dashed\", linewidth=1, color=\"black\", zorder=1)\n",
                "    ax.axhline(y=-1, linestyle=\"dashed\", linewidth=1, color=\"black\", zorder=1)\n",
                "for ax in axs[1:]:\n",
                "    ax.spines['left'].set_visible(False)\n",
                "    ax.yaxis.set_tick_params(which='both', length=0, zorder=1)\n",
                "for i in [0]:\n",
                "    axs[i].set_xlabel('')\n",
                "    axs[i].set_ylabel('')\n",
                "    axs[i].spines['bottom'].set_visible(False)\n",
                "    axs[i].xaxis.set_tick_params(length=0)\n",
                "    axs[i].set_xticks([])\n",
                "axs[0].set_yticks([-1, 0, 1])\n",
                "axs[0].set_yticks(np.linspace(-1, 1, 9), minor=True)\n",
                "axs[0].set_yticklabels(['-100%', '0', '+≥100%'])\n",
                "axs[0].set_ylabel('Change in number of PDI\\nin alternative isoform')\n",
                "\n",
                "\n",
                "fig.savefig('../figures/DBD_or_flank_change_vs_PDI_composite_alt_with_distance_colored_annotated.pdf', bbox_inches='tight')"
            ]
        },
        {
            "cell_type": "code",
            "execution_count": 30,
            "metadata": {},
            "outputs": [
                {
                    "data": {
                        "text/plain": [
                            "Full DBD in\\nalternative isoform    40\n",
                            "Partial loss\\nof DBD                12\n",
                            "Full loss\\nof DBD                    6\n",
                            "Name: dbd_affected, dtype: int64"
                        ]
                    },
                    "execution_count": 30,
                    "metadata": {},
                    "output_type": "execute_result"
                }
            ],
            "source": [
                "df.dbd_affected.value_counts()"
            ]
        },
        {
            "cell_type": "code",
            "execution_count": 31,
            "metadata": {},
            "outputs": [
                {
                    "name": "stderr",
                    "output_type": "stream",
                    "text": [
                        "/PHShome/kz659/.conda/envs/py36/lib/python3.6/site-packages/ipykernel_launcher.py:46: UserWarning: This figure was using constrained_layout==True, but that is incompatible with subplots_adjust and or tight_layout: setting constrained_layout==False. \n"
                    ]
                },
                {
                    "data": {
                        "image/png": "[encoded data removed]",
                        "text/plain": [
                            "<Figure size 324x144 with 2 Axes>"
                        ]
                    },
                    "metadata": {
                        "needs_background": "light"
                    },
                    "output_type": "display_data"
                }
            ],
            "source": [
                "# check low values\n",
                "gs_kw = dict(width_ratios=[2.5, 0.5])\n",
                "fig, axarr = plt.subplots(1, 2, tight_layout=True, gridspec_kw=gs_kw, sharey=True)\n",
                "fig.set_size_inches(h=2, w=4.5)\n",
                "\n",
                "ax = axarr[0]\n",
                "sns.swarmplot(data=df.loc[(df['dbd_affected'] == 'Full DBD in\\nalternative isoform') & (df['delta_pdi_trunc'] != 0), :],\n",
                "              y='f_disorder_difference',\n",
                "              color=sns.color_palette(\"Set2\")[0],\n",
                "               linewidth=1,\n",
                "               edgecolor=\"black\",\n",
                "              ax=ax,\n",
                "              clip_on=False\n",
                "              )\n",
                "ax.set_xlabel('difference\\nin DNA binding')\n",
                "ax.set_ylabel('Fraction of alternative\\nseq. in disordered regions', fontsize=9)\n",
                "ax.set_xticks([])\n",
                "for loc in ['top', 'bottom', 'right']:\n",
                "    ax.spines[loc].set_visible(False)\n",
                "ax.set_yticks(np.linspace(0, 1, 11))\n",
                "ax.set_yticks(np.linspace(0, 1, 21), minor=True)\n",
                "ax.set_ylim(-0.01, 1)\n",
                "ax.axhline(y=0, linestyle=\"dashed\", linewidth=1, color=\"black\", zorder=1)\n",
                "ax.axhline(y=1, linestyle=\"dashed\", linewidth=1, color=\"black\", zorder=1)\n",
                "ax.set_yticklabels(['{:.0%}'.format(y) for y in ax.get_yticks()])\n",
                "\n",
                "ax = axarr[1]\n",
                "sns.swarmplot(data=df.loc[(df['dbd_affected'] == 'Full DBD in\\nalternative isoform') & (df['delta_pdi_trunc'] == 0), :],\n",
                "              y='f_disorder_difference',\n",
                "              color=sns.color_palette(\"Set2\")[0],\n",
                "               linewidth=1,\n",
                "               edgecolor=\"black\",\n",
                "              ax=ax,\n",
                "              clip_on=False\n",
                "              )\n",
                "ax.set_xlabel('no difference\\nin DNA binding')\n",
                "ax.set_xticks([])\n",
                "for loc in ['top', 'bottom', 'right', 'left']:\n",
                "    ax.spines[loc].set_visible(False)\n",
                "ax.spines['left'].set_visible(False)\n",
                "ax.yaxis.set_tick_params(which='both', length=0, zorder=1)\n",
                "ax.set_ylabel('')\n",
                "ax.axhline(y=0, linestyle=\"dashed\", linewidth=1, color=\"black\", zorder=1)\n",
                "ax.axhline(y=1, linestyle=\"dashed\", linewidth=1, color=\"black\", zorder=1)\n",
                "\n",
                "fig.tight_layout(rect=[0, 0.03, 1, 0.95])\n",
                "fig.suptitle('             Full DBD in alternative isoform\\n', fontsize=10)\n",
                "fig.savefig('../figures/disordered-pct-alt-sequence_alt-isoforms-full-DBD-diff-PDI_dotplot.pdf',\n",
                "            bbox_inches='tight')"
            ]
        },
        {
            "cell_type": "code",
            "execution_count": 32,
            "metadata": {},
            "outputs": [],
            "source": [
                "x = list(df.loc[(df['dbd_affected'] == 'Full DBD in\\nalternative isoform') & (df['delta_pdi_trunc'] != 0), 'f_disorder_difference'])\n",
                "y = list(df.loc[(df['dbd_affected'] == 'Full DBD in\\nalternative isoform') & (df['delta_pdi_trunc'] == 0), 'f_disorder_difference'])"
            ]
        },
        {
            "cell_type": "code",
            "execution_count": 33,
            "metadata": {},
            "outputs": [
                {
                    "data": {
                        "text/plain": [
                            "MannwhitneyuResult(statistic=112.0, pvalue=0.28017732313207544)"
                        ]
                    },
                    "execution_count": 33,
                    "metadata": {},
                    "output_type": "execute_result"
                }
            ],
            "source": [
                "stats.mannwhitneyu(x, y)"
            ]
        },
        {
            "cell_type": "markdown",
            "metadata": {},
            "source": [
                "## exon diagrams"
            ]
        },
        {
            "cell_type": "code",
            "execution_count": 34,
            "metadata": {},
            "outputs": [
                {
                    "data": {
                        "image/png": "[encoded data removed]",
                        "text/plain": [
                            "<Figure size 288x144 with 3 Axes>"
                        ]
                    },
                    "metadata": {
                        "needs_background": "light"
                    },
                    "output_type": "display_data"
                }
            ],
            "source": [
                "fig, ax = plt.subplots(figsize=(4, 2))\n",
                "\n",
                "tfs[\"HEY1\"].protein_diagram(only_cloned_isoforms=False, draw_legend=False, ax=ax)\n",
                "fig.savefig(\"../figures/HEY1_protein_diagram.pdf\", bbox_inches=\"tight\", dpi=\"figure\")"
            ]
        },
        {
            "cell_type": "code",
            "execution_count": 35,
            "metadata": {},
            "outputs": [
                {
                    "data": {
                        "image/png": "[encoded data removed]",
                        "text/plain": [
                            "<Figure size 504x54 with 1 Axes>"
                        ]
                    },
                    "metadata": {
                        "needs_background": "light"
                    },
                    "output_type": "display_data"
                }
            ],
            "source": [
                "fig, ax = plt.subplots(figsize=(7, 0.75))\n",
                "\n",
                "tfs[\"HEY1\"].exon_diagram(ax=ax)\n",
                "fig.savefig(\"../figures/HEY1_exon_diagram.pdf\", bbox_inches=\"tight\", dpi=\"figure\")"
            ]
        },
        {
            "cell_type": "code",
            "execution_count": 36,
            "metadata": {},
            "outputs": [
                {
                    "data": {
                        "image/png": "[encoded data removed]",
                        "text/plain": [
                            "<Figure size 288x108 with 2 Axes>"
                        ]
                    },
                    "metadata": {
                        "needs_background": "light"
                    },
                    "output_type": "display_data"
                }
            ],
            "source": [
                "fig, ax = plt.subplots(figsize=(4, 1.5))\n",
                "\n",
                "tfs[\"CREB1\"].protein_diagram(only_cloned_isoforms=True, draw_legend=False, ax=ax)\n",
                "fig.savefig(\"../figures/CREB1_protein_diagram.pdf\", bbox_inches=\"tight\", dpi=\"figure\")"
            ]
        },
        {
            "cell_type": "code",
            "execution_count": 37,
            "metadata": {},
            "outputs": [
                {
                    "name": "stderr",
                    "output_type": "stream",
                    "text": [
                        "/PHShome/kz659/.conda/envs/py36/lib/python3.6/site-packages/ipykernel_launcher.py:4: UserWarning: constrained_layout not applied.  At least one axes collapsed to zero width or height.\n",
                        "  after removing the cwd from sys.path.\n",
                        "/PHShome/kz659/.conda/envs/py36/lib/python3.6/site-packages/IPython/core/pylabtools.py:132: UserWarning: constrained_layout not applied.  At least one axes collapsed to zero width or height.\n",
                        "  fig.canvas.print_figure(bytes_io, **kw)\n"
                    ]
                },
                {
                    "data": {
                        "image/png": "[encoded data removed]",
                        "text/plain": [
                            "<Figure size 288x72 with 1 Axes>"
                        ]
                    },
                    "metadata": {
                        "needs_background": "light"
                    },
                    "output_type": "display_data"
                }
            ],
            "source": [
                "fig, ax = plt.subplots(figsize=(4, 1))\n",
                "\n",
                "tfs[\"CREB1\"].exon_diagram(ax=ax)\n",
                "fig.savefig(\"../figures/CREB1_exon_diagram.pdf\", bbox_inches=\"tight\", dpi=\"figure\")"
            ]
        },
        {
            "cell_type": "code",
            "execution_count": 38,
            "metadata": {},
            "outputs": [
                {
                    "name": "stderr",
                    "output_type": "stream",
                    "text": [
                        "/PHShome/kz659/.conda/envs/py36/lib/python3.6/site-packages/ipykernel_launcher.py:4: UserWarning: constrained_layout not applied.  At least one axes collapsed to zero width or height.\n",
                        "  after removing the cwd from sys.path.\n"
                    ]
                },
                {
                    "data": {
                        "image/png": "[encoded data removed]",
                        "text/plain": [
                            "<Figure size 288x108 with 1 Axes>"
                        ]
                    },
                    "metadata": {
                        "needs_background": "light"
                    },
                    "output_type": "display_data"
                }
            ],
            "source": [
                "fig, ax = plt.subplots(figsize=(4, 1.5))\n",
                "\n",
                "tfs[\"TBX5\"].exon_diagram(ax=ax)\n",
                "fig.savefig(\"../figures/TBX5_exon_diagram.pdf\", bbox_inches=\"tight\", dpi=\"figure\")"
            ]
        },
        {
            "cell_type": "code",
            "execution_count": 39,
            "metadata": {},
            "outputs": [
                {
                    "data": {
                        "image/png": "[encoded data removed]",
                        "text/plain": [
                            "<Figure size 288x144 with 3 Axes>"
                        ]
                    },
                    "metadata": {
                        "needs_background": "light"
                    },
                    "output_type": "display_data"
                }
            ],
            "source": [
                "fig, ax = plt.subplots(figsize=(4, 2))\n",
                "\n",
                "tfs[\"TBX5\"].protein_diagram(only_cloned_isoforms=True, draw_legend=False, ax=ax)\n",
                "fig.savefig(\"../figures/TBX5_protein_diagram.pdf\", bbox_inches=\"tight\", dpi=\"figure\")"
            ]
        },
        {
            "cell_type": "code",
            "execution_count": null,
            "metadata": {},
            "outputs": [],
            "source": []
        }
    ],
    "metadata": {
        "kernelspec": {
            "display_name": "Python (py36)",
            "language": "python",
            "name": "py36"
        },
        "language_info": {
            "codemirror_mode": {
                "name": "ipython",
                "version": 3
            },
            "file_extension": ".py",
            "mimetype": "text/x-python",
            "name": "python",
            "nbconvert_exporter": "python",
            "pygments_lexer": "ipython3",
            "version": "3.6.10"
        },
        "vscode": {
            "interpreter": {
                "hash": "4ae04c9a3e8cbfaaf818a59204fe953064ae0593c0d7ed4865e22581ae0526ea"
            }
        }
    },
    "nbformat": 4,
    "nbformat_minor": 2
}