{
 "cells": [
  {
   "cell_type": "code",
   "execution_count": 1,
   "metadata": {},
   "outputs": [],
   "source": [
    "import pandas as pd"
   ]
  },
  {
   "cell_type": "code",
   "execution_count": 2,
   "metadata": {},
   "outputs": [
    {
     "data": {
      "text/html": [
       "<div>\n",
       "<style scoped>\n",
       "    .dataframe tbody tr th:only-of-type {\n",
       "        vertical-align: middle;\n",
       "    }\n",
       "\n",
       "    .dataframe tbody tr th {\n",
       "        vertical-align: top;\n",
       "    }\n",
       "\n",
       "    .dataframe thead th {\n",
       "        text-align: right;\n",
       "    }\n",
       "</style>\n",
       "<table border=\"1\" class=\"dataframe\">\n",
       "  <thead>\n",
       "    <tr style=\"text-align: right;\">\n",
       "      <th></th>\n",
       "      <th>category</th>\n",
       "      <th>ad_gene_symbol</th>\n",
       "      <th>ad_clone_acc</th>\n",
       "      <th>ad_orf_id</th>\n",
       "      <th>db_orf_id</th>\n",
       "      <th>db_gene_symbol</th>\n",
       "    </tr>\n",
       "  </thead>\n",
       "  <tbody>\n",
       "    <tr>\n",
       "      <th>0</th>\n",
       "      <td>isoform_positives</td>\n",
       "      <td>TCF4</td>\n",
       "      <td>TCF4-3</td>\n",
       "      <td>100565.0</td>\n",
       "      <td>13474</td>\n",
       "      <td>SLC39A13</td>\n",
       "    </tr>\n",
       "    <tr>\n",
       "      <th>1</th>\n",
       "      <td>isoform_positives</td>\n",
       "      <td>MEOX1</td>\n",
       "      <td>MEOX1-1</td>\n",
       "      <td>100645.0</td>\n",
       "      <td>10051</td>\n",
       "      <td>MAPK9</td>\n",
       "    </tr>\n",
       "    <tr>\n",
       "      <th>2</th>\n",
       "      <td>isoform_positives</td>\n",
       "      <td>ZNF438</td>\n",
       "      <td>ZNF438-2</td>\n",
       "      <td>100633.0</td>\n",
       "      <td>10051</td>\n",
       "      <td>MAPK9</td>\n",
       "    </tr>\n",
       "    <tr>\n",
       "      <th>3</th>\n",
       "      <td>isoform_positives</td>\n",
       "      <td>TCF4</td>\n",
       "      <td>TCF4-5</td>\n",
       "      <td>100703.0</td>\n",
       "      <td>56933</td>\n",
       "      <td>KLHL38</td>\n",
       "    </tr>\n",
       "    <tr>\n",
       "      <th>4</th>\n",
       "      <td>isoform_positives</td>\n",
       "      <td>TCF4</td>\n",
       "      <td>TCF4-7</td>\n",
       "      <td>100178.0</td>\n",
       "      <td>9313</td>\n",
       "      <td>SIGLEC6</td>\n",
       "    </tr>\n",
       "  </tbody>\n",
       "</table>\n",
       "</div>"
      ],
      "text/plain": [
       "            category ad_gene_symbol ad_clone_acc  ad_orf_id  db_orf_id  \\\n",
       "0  isoform_positives           TCF4       TCF4-3   100565.0      13474   \n",
       "1  isoform_positives          MEOX1      MEOX1-1   100645.0      10051   \n",
       "2  isoform_positives         ZNF438     ZNF438-2   100633.0      10051   \n",
       "3  isoform_positives           TCF4       TCF4-5   100703.0      56933   \n",
       "4  isoform_positives           TCF4       TCF4-7   100178.0       9313   \n",
       "\n",
       "  db_gene_symbol  \n",
       "0       SLC39A13  \n",
       "1          MAPK9  \n",
       "2          MAPK9  \n",
       "3         KLHL38  \n",
       "4        SIGLEC6  "
      ]
     },
     "execution_count": 2,
     "metadata": {},
     "output_type": "execute_result"
    }
   ],
   "source": [
    "df = pd.read_csv('../output/N2H_pairs_missing_controls.tsv', sep='\\t')\n",
    "df.head()"
   ]
  },
  {
   "cell_type": "code",
   "execution_count": 7,
   "metadata": {},
   "outputs": [
    {
     "data": {
      "text/plain": [
       "ad_gene_symbol\n",
       "TCF4       8\n",
       "ATF2       8\n",
       "ZSCAN18    5\n",
       "PPARG      5\n",
       "ZBTB44     5\n",
       "Name: ad_clone_acc, dtype: int64"
      ]
     },
     "execution_count": 7,
     "metadata": {},
     "output_type": "execute_result"
    }
   ],
   "source": [
    "df.groupby('ad_gene_symbol')['ad_clone_acc'].nunique().sort_values(ascending=False).head()"
   ]
  },
  {
   "cell_type": "code",
   "execution_count": 14,
   "metadata": {},
   "outputs": [
    {
     "data": {
      "text/plain": [
       "array(['ZBTB44-5', 'ZBTB44-4', 'ZBTB44-3', 'ZBTB44-1', 'ZBTB44-6'],\n",
       "      dtype=object)"
      ]
     },
     "execution_count": 14,
     "metadata": {},
     "output_type": "execute_result"
    }
   ],
   "source": [
    "df.groupby('ad_gene_symbol')['ad_clone_acc'].unique()['ZBTB44']"
   ]
  },
  {
   "cell_type": "code",
   "execution_count": null,
   "metadata": {},
   "outputs": [],
   "source": []
  }
 ],
 "metadata": {
  "interpreter": {
   "hash": "4ae04c9a3e8cbfaaf818a59204fe953064ae0593c0d7ed4865e22581ae0526ea"
  },
  "kernelspec": {
   "display_name": "Python 3.8.12 ('venv': venv)",
   "language": "python",
   "name": "python3"
  },
  "language_info": {
   "codemirror_mode": {
    "name": "ipython",
    "version": 3
   },
   "file_extension": ".py",
   "mimetype": "text/x-python",
   "name": "python",
   "nbconvert_exporter": "python",
   "pygments_lexer": "ipython3",
   "version": "3.8.12"
  },
  "orig_nbformat": 4
 },
 "nbformat": 4,
 "nbformat_minor": 2
}
