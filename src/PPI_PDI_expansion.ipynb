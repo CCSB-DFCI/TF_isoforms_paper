{
    "cells": [
        {
            "cell_type": "code",
            "execution_count": 1,
            "metadata": {},
            "outputs": [
                {
                    "name": "stdout",
                    "output_type": "stream",
                    "text": [
                        "reading from cache\n"
                    ]
                }
            ],
            "source": [
                "# what is the increase in PPI / PDI from \n",
                "# testing multiple isoforms per gene\n",
                "import pandas as pd\n",
                "from matplotlib import pyplot as plt\n",
                "\n",
                "from data_loading import load_y2h_isoform_data, load_y1h_pdi_data, load_annotated_TFiso1_collection\n",
                "\n",
                "y2h = load_y2h_isoform_data()\n",
                "y1h = load_y1h_pdi_data()\n",
                "tfs = load_annotated_TFiso1_collection()\n",
                "# TODO: add filtering as an argument\n",
                "tfs = {k: v for k, v in tfs.items() if len(v.cloned_isoforms) >= 2}"
            ]
        },
        {
            "cell_type": "code",
            "execution_count": 2,
            "metadata": {},
            "outputs": [
                {
                    "data": {
                        "text/plain": [
                            "Clone acc: ARNTL|1/2|08H08\n",
                            "Isoform: ARNTL-201 / ENSP00000374357 / ENST00000389707\n",
                            "length: 625 aa"
                        ]
                    },
                    "execution_count": 2,
                    "metadata": {},
                    "output_type": "execute_result"
                }
            ],
            "source": [
                "tfs['ARNTL'].cloned_reference_isoform"
            ]
        },
        {
            "cell_type": "code",
            "execution_count": 3,
            "metadata": {},
            "outputs": [
                {
                    "data": {
                        "text/html": [
                            "<div>\n",
                            "<style scoped>\n",
                            "    .dataframe tbody tr th:only-of-type {\n",
                            "        vertical-align: middle;\n",
                            "    }\n",
                            "\n",
                            "    .dataframe tbody tr th {\n",
                            "        vertical-align: top;\n",
                            "    }\n",
                            "\n",
                            "    .dataframe thead th {\n",
                            "        text-align: right;\n",
                            "    }\n",
                            "</style>\n",
                            "<table border=\"1\" class=\"dataframe\">\n",
                            "  <thead>\n",
                            "    <tr style=\"text-align: right;\">\n",
                            "      <th></th>\n",
                            "      <th>gene</th>\n",
                            "      <th>cloned_MANE_select_isoform</th>\n",
                            "    </tr>\n",
                            "  </thead>\n",
                            "  <tbody>\n",
                            "    <tr>\n",
                            "      <th>0</th>\n",
                            "      <td>ZBTB18</td>\n",
                            "      <td>True</td>\n",
                            "    </tr>\n",
                            "    <tr>\n",
                            "      <th>1</th>\n",
                            "      <td>PRRX1</td>\n",
                            "      <td>True</td>\n",
                            "    </tr>\n",
                            "    <tr>\n",
                            "      <th>2</th>\n",
                            "      <td>POU2F1</td>\n",
                            "      <td>False</td>\n",
                            "    </tr>\n",
                            "    <tr>\n",
                            "      <th>3</th>\n",
                            "      <td>ATF3</td>\n",
                            "      <td>True</td>\n",
                            "    </tr>\n",
                            "    <tr>\n",
                            "      <th>4</th>\n",
                            "      <td>GRHL3</td>\n",
                            "      <td>True</td>\n",
                            "    </tr>\n",
                            "  </tbody>\n",
                            "</table>\n",
                            "</div>"
                        ],
                        "text/plain": [
                            "     gene cloned_MANE_select_isoform\n",
                            "0  ZBTB18                       True\n",
                            "1   PRRX1                       True\n",
                            "2  POU2F1                      False\n",
                            "3    ATF3                       True\n",
                            "4   GRHL3                       True"
                        ]
                    },
                    "execution_count": 3,
                    "metadata": {},
                    "output_type": "execute_result"
                }
            ],
            "source": [
                "# number of cloned, uncloned and novel isoforms\n",
                "df = pd.DataFrame([(name, tf.cloned_MANE_select_isoform) for name, tf in tfs.items()],\n",
                "             columns=['gene', 'cloned_MANE_select_isoform'])\n",
                "df.head()"
            ]
        },
        {
            "cell_type": "code",
            "execution_count": 4,
            "metadata": {},
            "outputs": [
                {
                    "data": {
                        "text/plain": [
                            "(246, 2)"
                        ]
                    },
                    "execution_count": 4,
                    "metadata": {},
                    "output_type": "execute_result"
                }
            ],
            "source": [
                "df.shape"
            ]
        },
        {
            "cell_type": "code",
            "execution_count": 5,
            "metadata": {},
            "outputs": [
                {
                    "data": {
                        "text/plain": [
                            "True     164\n",
                            "False     65\n",
                            "None      17\n",
                            "Name: cloned_MANE_select_isoform, dtype: int64"
                        ]
                    },
                    "execution_count": 5,
                    "metadata": {},
                    "output_type": "execute_result"
                }
            ],
            "source": [
                "df['cloned_MANE_select_isoform'].value_counts(dropna=False)"
            ]
        },
        {
            "cell_type": "code",
            "execution_count": 6,
            "metadata": {},
            "outputs": [
                {
                    "data": {
                        "text/html": [
                            "<div>\n",
                            "<style scoped>\n",
                            "    .dataframe tbody tr th:only-of-type {\n",
                            "        vertical-align: middle;\n",
                            "    }\n",
                            "\n",
                            "    .dataframe tbody tr th {\n",
                            "        vertical-align: top;\n",
                            "    }\n",
                            "\n",
                            "    .dataframe thead th {\n",
                            "        text-align: right;\n",
                            "    }\n",
                            "</style>\n",
                            "<table border=\"1\" class=\"dataframe\">\n",
                            "  <thead>\n",
                            "    <tr style=\"text-align: right;\">\n",
                            "      <th></th>\n",
                            "      <th>gene</th>\n",
                            "      <th>cloned_MANE_select_isoform</th>\n",
                            "    </tr>\n",
                            "  </thead>\n",
                            "  <tbody>\n",
                            "    <tr>\n",
                            "      <th>49</th>\n",
                            "      <td>ELF2</td>\n",
                            "      <td>None</td>\n",
                            "    </tr>\n",
                            "    <tr>\n",
                            "      <th>50</th>\n",
                            "      <td>ZNF131</td>\n",
                            "      <td>None</td>\n",
                            "    </tr>\n",
                            "    <tr>\n",
                            "      <th>67</th>\n",
                            "      <td>PLAGL1</td>\n",
                            "      <td>None</td>\n",
                            "    </tr>\n",
                            "    <tr>\n",
                            "      <th>68</th>\n",
                            "      <td>TEAD3</td>\n",
                            "      <td>None</td>\n",
                            "    </tr>\n",
                            "    <tr>\n",
                            "      <th>105</th>\n",
                            "      <td>CREM</td>\n",
                            "      <td>None</td>\n",
                            "    </tr>\n",
                            "    <tr>\n",
                            "      <th>111</th>\n",
                            "      <td>EBF3</td>\n",
                            "      <td>None</td>\n",
                            "    </tr>\n",
                            "    <tr>\n",
                            "      <th>113</th>\n",
                            "      <td>ZNF438</td>\n",
                            "      <td>None</td>\n",
                            "    </tr>\n",
                            "    <tr>\n",
                            "      <th>127</th>\n",
                            "      <td>SOX6</td>\n",
                            "      <td>None</td>\n",
                            "    </tr>\n",
                            "    <tr>\n",
                            "      <th>149</th>\n",
                            "      <td>ZBTB1</td>\n",
                            "      <td>None</td>\n",
                            "    </tr>\n",
                            "    <tr>\n",
                            "      <th>154</th>\n",
                            "      <td>OTX2</td>\n",
                            "      <td>None</td>\n",
                            "    </tr>\n",
                            "    <tr>\n",
                            "      <th>173</th>\n",
                            "      <td>ZNF75A</td>\n",
                            "      <td>None</td>\n",
                            "    </tr>\n",
                            "    <tr>\n",
                            "      <th>176</th>\n",
                            "      <td>ZNF747</td>\n",
                            "      <td>None</td>\n",
                            "    </tr>\n",
                            "    <tr>\n",
                            "      <th>204</th>\n",
                            "      <td>ZNF177</td>\n",
                            "      <td>None</td>\n",
                            "    </tr>\n",
                            "    <tr>\n",
                            "      <th>205</th>\n",
                            "      <td>ZNF544</td>\n",
                            "      <td>None</td>\n",
                            "    </tr>\n",
                            "    <tr>\n",
                            "      <th>230</th>\n",
                            "      <td>ZNF433</td>\n",
                            "      <td>None</td>\n",
                            "    </tr>\n",
                            "    <tr>\n",
                            "      <th>233</th>\n",
                            "      <td>ZNF320</td>\n",
                            "      <td>None</td>\n",
                            "    </tr>\n",
                            "    <tr>\n",
                            "      <th>245</th>\n",
                            "      <td>HSFY1</td>\n",
                            "      <td>None</td>\n",
                            "    </tr>\n",
                            "  </tbody>\n",
                            "</table>\n",
                            "</div>"
                        ],
                        "text/plain": [
                            "       gene cloned_MANE_select_isoform\n",
                            "49     ELF2                       None\n",
                            "50   ZNF131                       None\n",
                            "67   PLAGL1                       None\n",
                            "68    TEAD3                       None\n",
                            "105    CREM                       None\n",
                            "111    EBF3                       None\n",
                            "113  ZNF438                       None\n",
                            "127    SOX6                       None\n",
                            "149   ZBTB1                       None\n",
                            "154    OTX2                       None\n",
                            "173  ZNF75A                       None\n",
                            "176  ZNF747                       None\n",
                            "204  ZNF177                       None\n",
                            "205  ZNF544                       None\n",
                            "230  ZNF433                       None\n",
                            "233  ZNF320                       None\n",
                            "245   HSFY1                       None"
                        ]
                    },
                    "execution_count": 6,
                    "metadata": {},
                    "output_type": "execute_result"
                }
            ],
            "source": [
                "df.loc[df['cloned_MANE_select_isoform'].isnull()]"
            ]
        },
        {
            "cell_type": "code",
            "execution_count": 7,
            "metadata": {},
            "outputs": [
                {
                    "data": {
                        "text/html": [
                            "<div>\n",
                            "<style scoped>\n",
                            "    .dataframe tbody tr th:only-of-type {\n",
                            "        vertical-align: middle;\n",
                            "    }\n",
                            "\n",
                            "    .dataframe tbody tr th {\n",
                            "        vertical-align: top;\n",
                            "    }\n",
                            "\n",
                            "    .dataframe thead th {\n",
                            "        text-align: right;\n",
                            "    }\n",
                            "</style>\n",
                            "<table border=\"1\" class=\"dataframe\">\n",
                            "  <thead>\n",
                            "    <tr style=\"text-align: right;\">\n",
                            "      <th></th>\n",
                            "      <th>gene</th>\n",
                            "      <th>cloned_MANE_select_isoform</th>\n",
                            "    </tr>\n",
                            "  </thead>\n",
                            "  <tbody>\n",
                            "    <tr>\n",
                            "      <th>2</th>\n",
                            "      <td>POU2F1</td>\n",
                            "      <td>False</td>\n",
                            "    </tr>\n",
                            "    <tr>\n",
                            "      <th>12</th>\n",
                            "      <td>NR5A2</td>\n",
                            "      <td>False</td>\n",
                            "    </tr>\n",
                            "    <tr>\n",
                            "      <th>14</th>\n",
                            "      <td>PRDM16</td>\n",
                            "      <td>False</td>\n",
                            "    </tr>\n",
                            "    <tr>\n",
                            "      <th>20</th>\n",
                            "      <td>ESRRG</td>\n",
                            "      <td>False</td>\n",
                            "    </tr>\n",
                            "    <tr>\n",
                            "      <th>21</th>\n",
                            "      <td>ZNF692</td>\n",
                            "      <td>False</td>\n",
                            "    </tr>\n",
                            "    <tr>\n",
                            "      <th>...</th>\n",
                            "      <td>...</td>\n",
                            "      <td>...</td>\n",
                            "    </tr>\n",
                            "    <tr>\n",
                            "      <th>229</th>\n",
                            "      <td>TEAD2</td>\n",
                            "      <td>False</td>\n",
                            "    </tr>\n",
                            "    <tr>\n",
                            "      <th>232</th>\n",
                            "      <td>ZNF414</td>\n",
                            "      <td>False</td>\n",
                            "    </tr>\n",
                            "    <tr>\n",
                            "      <th>238</th>\n",
                            "      <td>PATZ1</td>\n",
                            "      <td>False</td>\n",
                            "    </tr>\n",
                            "    <tr>\n",
                            "      <th>243</th>\n",
                            "      <td>HDX</td>\n",
                            "      <td>False</td>\n",
                            "    </tr>\n",
                            "    <tr>\n",
                            "      <th>244</th>\n",
                            "      <td>ZFY</td>\n",
                            "      <td>False</td>\n",
                            "    </tr>\n",
                            "  </tbody>\n",
                            "</table>\n",
                            "<p>65 rows × 2 columns</p>\n",
                            "</div>"
                        ],
                        "text/plain": [
                            "       gene cloned_MANE_select_isoform\n",
                            "2    POU2F1                      False\n",
                            "12    NR5A2                      False\n",
                            "14   PRDM16                      False\n",
                            "20    ESRRG                      False\n",
                            "21   ZNF692                      False\n",
                            "..      ...                        ...\n",
                            "229   TEAD2                      False\n",
                            "232  ZNF414                      False\n",
                            "238   PATZ1                      False\n",
                            "243     HDX                      False\n",
                            "244     ZFY                      False\n",
                            "\n",
                            "[65 rows x 2 columns]"
                        ]
                    },
                    "execution_count": 7,
                    "metadata": {},
                    "output_type": "execute_result"
                }
            ],
            "source": [
                "df.loc[df['cloned_MANE_select_isoform'] == False]"
            ]
        },
        {
            "cell_type": "code",
            "execution_count": 8,
            "metadata": {},
            "outputs": [],
            "source": [
                "cloned_reference = {tf.cloned_reference_isoform.clone_acc for tf in tfs.values()}"
            ]
        },
        {
            "cell_type": "code",
            "execution_count": 9,
            "metadata": {},
            "outputs": [
                {
                    "data": {
                        "text/html": [
                            "<div>\n",
                            "<style scoped>\n",
                            "    .dataframe tbody tr th:only-of-type {\n",
                            "        vertical-align: middle;\n",
                            "    }\n",
                            "\n",
                            "    .dataframe tbody tr th {\n",
                            "        vertical-align: top;\n",
                            "    }\n",
                            "\n",
                            "    .dataframe thead th {\n",
                            "        text-align: right;\n",
                            "    }\n",
                            "</style>\n",
                            "<table border=\"1\" class=\"dataframe\">\n",
                            "  <thead>\n",
                            "    <tr style=\"text-align: right;\">\n",
                            "      <th></th>\n",
                            "      <th>ad_clone_acc</th>\n",
                            "      <th>ad_gene_symbol</th>\n",
                            "      <th>db_gene_symbol</th>\n",
                            "      <th>Y2H_result</th>\n",
                            "    </tr>\n",
                            "  </thead>\n",
                            "  <tbody>\n",
                            "    <tr>\n",
                            "      <th>0</th>\n",
                            "      <td>ATF2|1/6|12H04</td>\n",
                            "      <td>ATF2</td>\n",
                            "      <td>ATF2</td>\n",
                            "      <td>True</td>\n",
                            "    </tr>\n",
                            "    <tr>\n",
                            "      <th>3</th>\n",
                            "      <td>ATF2|1/6|12H04</td>\n",
                            "      <td>ATF2</td>\n",
                            "      <td>FOSL2</td>\n",
                            "      <td>NaN</td>\n",
                            "    </tr>\n",
                            "    <tr>\n",
                            "      <th>4</th>\n",
                            "      <td>ATF2|1/6|12H04</td>\n",
                            "      <td>ATF2</td>\n",
                            "      <td>JDP2</td>\n",
                            "      <td>True</td>\n",
                            "    </tr>\n",
                            "    <tr>\n",
                            "      <th>12</th>\n",
                            "      <td>ATF2|2/6|09E05</td>\n",
                            "      <td>ATF2</td>\n",
                            "      <td>ATF2</td>\n",
                            "      <td>True</td>\n",
                            "    </tr>\n",
                            "    <tr>\n",
                            "      <th>15</th>\n",
                            "      <td>ATF2|2/6|09E05</td>\n",
                            "      <td>ATF2</td>\n",
                            "      <td>FOSL2</td>\n",
                            "      <td>NaN</td>\n",
                            "    </tr>\n",
                            "  </tbody>\n",
                            "</table>\n",
                            "</div>"
                        ],
                        "text/plain": [
                            "      ad_clone_acc ad_gene_symbol db_gene_symbol Y2H_result\n",
                            "0   ATF2|1/6|12H04           ATF2           ATF2       True\n",
                            "3   ATF2|1/6|12H04           ATF2          FOSL2        NaN\n",
                            "4   ATF2|1/6|12H04           ATF2           JDP2       True\n",
                            "12  ATF2|2/6|09E05           ATF2           ATF2       True\n",
                            "15  ATF2|2/6|09E05           ATF2          FOSL2        NaN"
                        ]
                    },
                    "execution_count": 9,
                    "metadata": {},
                    "output_type": "execute_result"
                }
            ],
            "source": [
                "y2h.head()"
            ]
        },
        {
            "cell_type": "code",
            "execution_count": 10,
            "metadata": {},
            "outputs": [],
            "source": [
                "cloned_MANE = set(df.loc[df['cloned_MANE_select_isoform'] == True, 'gene'].values)"
            ]
        },
        {
            "cell_type": "code",
            "execution_count": 11,
            "metadata": {},
            "outputs": [
                {
                    "name": "stdout",
                    "output_type": "stream",
                    "text": [
                        "Comparing to picking a reference isoform amoungst the cloned isoforms\n",
                        "screening multiple isoforms resulted in an increase of\n",
                        "173.0 total PPIs (786 total, +28.2%)\n",
                        "19 of 63 genes had ≥ 1 extra PPI (30%)\n"
                    ]
                }
            ],
            "source": [
                "n_ppi_gene = (y2h.loc[y2h['Y2H_result'] == True, :]\n",
                "    .groupby('ad_gene_symbol')\n",
                "    ['db_gene_symbol'].nunique())\n",
                "n_ppi_isoform = (y2h.loc[(y2h['Y2H_result'] == True) &\n",
                "                         y2h['ad_clone_acc'].isin(cloned_reference), :]\n",
                "    .groupby('ad_gene_symbol')\n",
                "    ['db_gene_symbol'].nunique())\n",
                "ppi_increase = n_ppi_gene - n_ppi_isoform\n",
                "print('Comparing to picking a reference isoform amoungst the cloned isoforms')\n",
                "print('screening multiple isoforms resulted in an increase of')\n",
                "print(f'{ppi_increase.sum()} total PPIs '\n",
                "      f'({n_ppi_gene.sum()} total, '\n",
                "      f'+{ppi_increase.sum() / (n_ppi_gene.sum() - ppi_increase.sum()):.1%})')\n",
                "print(f'{(ppi_increase > 0).sum()} of '\n",
                "      f'{ppi_increase.shape[0]} genes had ≥ 1 extra PPI'\n",
                "      f' ({(ppi_increase > 0).mean():.0%})')\n",
                "# average per gene"
            ]
        },
        {
            "cell_type": "code",
            "execution_count": 13,
            "metadata": {},
            "outputs": [
                {
                    "name": "stderr",
                    "output_type": "stream",
                    "text": [
                        "<ipython-input-13-16f74ad5270d>:7: UserWarning: constrained_layout not applied because axes sizes collapsed to zero.  Try making figure larger or axes decorations smaller.\n",
                        "  fig.savefig('../figures/ppi_increase.pdf',\n",
                        "/Users/lukelambourne/work/tf_isoforms/venv/lib/python3.8/site-packages/IPython/core/events.py:88: UserWarning: constrained_layout not applied because axes sizes collapsed to zero.  Try making figure larger or axes decorations smaller.\n",
                        "  func(*args, **kwargs)\n",
                        "/Users/lukelambourne/work/tf_isoforms/venv/lib/python3.8/site-packages/IPython/core/pylabtools.py:132: UserWarning: constrained_layout not applied because axes sizes collapsed to zero.  Try making figure larger or axes decorations smaller.\n",
                        "  fig.canvas.print_figure(bytes_io, **kw)\n"
                    ]
                },
                {
                    "data": {
                        "image/png": "[encoded data removed]",
                        "text/plain": [
                            "<Figure size 108x144 with 1 Axes>"
                        ]
                    },
                    "metadata": {
                        "needs_background": "light"
                    },
                    "output_type": "display_data"
                }
            ],
            "source": [
                "fig, ax = plt.subplots(1, 1)\n",
                "fig.set_size_inches(w=1.5, h=2)\n",
                "ax.bar(x=['Testing one isoform per gene', 'Testing multiple isoforms per gene'],\n",
                "       height=[n_ppi_isoform.sum(), n_ppi_gene.sum()])\n",
                "ax.xaxis.set_tick_params(rotation=90)\n",
                "ax.set_ylabel('Total number of PDIs')\n",
                "fig.savefig('../figures/ppi_increase.pdf',\n",
                "            bbox_inches='tight')\n"
            ]
        },
        {
            "cell_type": "code",
            "execution_count": 14,
            "metadata": {},
            "outputs": [
                {
                    "data": {
                        "image/png": "[encoded data removed]",
                        "text/plain": [
                            "<Figure size 432x288 with 1 Axes>"
                        ]
                    },
                    "metadata": {
                        "needs_background": "light"
                    },
                    "output_type": "display_data"
                }
            ],
            "source": [
                "fig, ax = plt.subplots(1, 1)\n",
                "ppi_increase.plot.hist(bins=int(ppi_increase.max()) * 2 + 1,\n",
                "                       range=(-0.25, ppi_increase.max() + 0.25),\n",
                "                       ax=ax)\n",
                "ax.set_ylabel('Number of genes')\n",
                "ax.set_xlabel('Increase in number of PPIs')\n",
                "fig.savefig('../figures/PPI_increase_hist.pdf',\n",
                "            bbox_inches='tight')"
            ]
        },
        {
            "cell_type": "code",
            "execution_count": 15,
            "metadata": {},
            "outputs": [
                {
                    "data": {
                        "text/plain": [
                            "ad_gene_symbol\n",
                            "ZNF451     61.0\n",
                            "IKZF2      48.0\n",
                            "ZNF438     21.0\n",
                            "ZSCAN18     9.0\n",
                            "ZBTB44      7.0\n",
                            "Name: db_gene_symbol, dtype: float64"
                        ]
                    },
                    "execution_count": 15,
                    "metadata": {},
                    "output_type": "execute_result"
                }
            ],
            "source": [
                "ppi_increase.sort_values(ascending=False).head()"
            ]
        },
        {
            "cell_type": "code",
            "execution_count": 16,
            "metadata": {},
            "outputs": [
                {
                    "data": {
                        "text/plain": [
                            "12"
                        ]
                    },
                    "execution_count": 16,
                    "metadata": {},
                    "output_type": "execute_result"
                }
            ],
            "source": [
                "# check the increase is not due to lots of failed tests with the reference\n",
                "(y2h.loc[(y2h['Y2H_result'].isnull()) &\n",
                "                         y2h['ad_clone_acc'].isin(cloned_reference), :]\n",
                "    .groupby('ad_gene_symbol')\n",
                "    ['db_gene_symbol'].nunique()).sum()"
            ]
        },
        {
            "cell_type": "code",
            "execution_count": 17,
            "metadata": {},
            "outputs": [
                {
                    "data": {
                        "text/html": [
                            "<div>\n",
                            "<style scoped>\n",
                            "    .dataframe tbody tr th:only-of-type {\n",
                            "        vertical-align: middle;\n",
                            "    }\n",
                            "\n",
                            "    .dataframe tbody tr th {\n",
                            "        vertical-align: top;\n",
                            "    }\n",
                            "\n",
                            "    .dataframe thead th {\n",
                            "        text-align: right;\n",
                            "    }\n",
                            "</style>\n",
                            "<table border=\"1\" class=\"dataframe\">\n",
                            "  <thead>\n",
                            "    <tr style=\"text-align: right;\">\n",
                            "      <th></th>\n",
                            "      <th>ad_clone_acc</th>\n",
                            "      <th>ad_gene_symbol</th>\n",
                            "      <th>db_gene_symbol</th>\n",
                            "      <th>Y2H_result</th>\n",
                            "    </tr>\n",
                            "  </thead>\n",
                            "  <tbody>\n",
                            "    <tr>\n",
                            "      <th>0</th>\n",
                            "      <td>ATF2|1/6|12H04</td>\n",
                            "      <td>ATF2</td>\n",
                            "      <td>ATF2</td>\n",
                            "      <td>True</td>\n",
                            "    </tr>\n",
                            "    <tr>\n",
                            "      <th>3</th>\n",
                            "      <td>ATF2|1/6|12H04</td>\n",
                            "      <td>ATF2</td>\n",
                            "      <td>FOSL2</td>\n",
                            "      <td>NaN</td>\n",
                            "    </tr>\n",
                            "    <tr>\n",
                            "      <th>4</th>\n",
                            "      <td>ATF2|1/6|12H04</td>\n",
                            "      <td>ATF2</td>\n",
                            "      <td>JDP2</td>\n",
                            "      <td>True</td>\n",
                            "    </tr>\n",
                            "    <tr>\n",
                            "      <th>12</th>\n",
                            "      <td>ATF2|2/6|09E05</td>\n",
                            "      <td>ATF2</td>\n",
                            "      <td>ATF2</td>\n",
                            "      <td>True</td>\n",
                            "    </tr>\n",
                            "    <tr>\n",
                            "      <th>15</th>\n",
                            "      <td>ATF2|2/6|09E05</td>\n",
                            "      <td>ATF2</td>\n",
                            "      <td>FOSL2</td>\n",
                            "      <td>NaN</td>\n",
                            "    </tr>\n",
                            "  </tbody>\n",
                            "</table>\n",
                            "</div>"
                        ],
                        "text/plain": [
                            "      ad_clone_acc ad_gene_symbol db_gene_symbol Y2H_result\n",
                            "0   ATF2|1/6|12H04           ATF2           ATF2       True\n",
                            "3   ATF2|1/6|12H04           ATF2          FOSL2        NaN\n",
                            "4   ATF2|1/6|12H04           ATF2           JDP2       True\n",
                            "12  ATF2|2/6|09E05           ATF2           ATF2       True\n",
                            "15  ATF2|2/6|09E05           ATF2          FOSL2        NaN"
                        ]
                    },
                    "execution_count": 17,
                    "metadata": {},
                    "output_type": "execute_result"
                }
            ],
            "source": [
                "y2h.head()"
            ]
        },
        {
            "cell_type": "code",
            "execution_count": 18,
            "metadata": {},
            "outputs": [
                {
                    "name": "stdout",
                    "output_type": "stream",
                    "text": [
                        "Comparing to picking a reference isoform amoungst the cloned isoforms\n",
                        "screening multiple isoforms resulted in an increase of\n",
                        "26.0 total PPIs (530 total, +5.2%)\n",
                        "11 of 42 genes had ≥ 1 extra PPI (26%)\n"
                    ]
                }
            ],
            "source": [
                "n_ppi_gene = (y2h.loc[y2h['ad_gene_symbol'].isin(cloned_MANE), :].loc[y2h['Y2H_result'] == True, :]\n",
                "    .groupby('ad_gene_symbol')\n",
                "    ['db_gene_symbol'].nunique())\n",
                "n_ppi_isoform = (y2h.loc[y2h['ad_gene_symbol'].isin(cloned_MANE), :].loc[(y2h['Y2H_result'] == True) &\n",
                "                         y2h['ad_clone_acc'].isin(cloned_reference), :]\n",
                "    .groupby('ad_gene_symbol')\n",
                "    ['db_gene_symbol'].nunique())\n",
                "ppi_increase = n_ppi_gene - n_ppi_isoform\n",
                "print('Comparing to picking a reference isoform amoungst the cloned isoforms')\n",
                "print('screening multiple isoforms resulted in an increase of')\n",
                "print(f'{ppi_increase.sum()} total PPIs '\n",
                "      f'({n_ppi_gene.sum()} total, '\n",
                "      f'+{ppi_increase.sum() / (n_ppi_gene.sum() - ppi_increase.sum()):.1%})')\n",
                "print(f'{(ppi_increase > 0).sum()} of '\n",
                "      f'{ppi_increase.shape[0]} genes had ≥ 1 extra PPI'\n",
                "      f' ({(ppi_increase > 0).mean():.0%})')\n",
                "# average per gene"
            ]
        },
        {
            "cell_type": "code",
            "execution_count": 19,
            "metadata": {},
            "outputs": [
                {
                    "name": "stderr",
                    "output_type": "stream",
                    "text": [
                        "<ipython-input-19-6ff6329acc03>:7: UserWarning: constrained_layout not applied because axes sizes collapsed to zero.  Try making figure larger or axes decorations smaller.\n",
                        "  fig.savefig('../figures/ppi_increase_MANE_only.pdf',\n",
                        "/Users/lukelambourne/work/tf_isoforms/venv/lib/python3.8/site-packages/IPython/core/events.py:88: UserWarning: constrained_layout not applied because axes sizes collapsed to zero.  Try making figure larger or axes decorations smaller.\n",
                        "  func(*args, **kwargs)\n",
                        "/Users/lukelambourne/work/tf_isoforms/venv/lib/python3.8/site-packages/IPython/core/pylabtools.py:132: UserWarning: constrained_layout not applied because axes sizes collapsed to zero.  Try making figure larger or axes decorations smaller.\n",
                        "  fig.canvas.print_figure(bytes_io, **kw)\n"
                    ]
                },
                {
                    "data": {
                        "image/png": "[encoded data removed]",
                        "text/plain": [
                            "<Figure size 108x144 with 1 Axes>"
                        ]
                    },
                    "metadata": {
                        "needs_background": "light"
                    },
                    "output_type": "display_data"
                }
            ],
            "source": [
                "fig, ax = plt.subplots(1, 1)\n",
                "fig.set_size_inches(w=1.5, h=2)\n",
                "ax.bar(x=['Testing one isoform per gene', 'Testing multiple isoforms per gene'],\n",
                "       height=[n_ppi_isoform.sum(), n_ppi_gene.sum()])\n",
                "ax.xaxis.set_tick_params(rotation=90)\n",
                "ax.set_ylabel('Total number of PDIs')\n",
                "fig.savefig('../figures/ppi_increase_MANE_only.pdf',\n",
                "            bbox_inches='tight')"
            ]
        },
        {
            "cell_type": "code",
            "execution_count": 20,
            "metadata": {},
            "outputs": [
                {
                    "name": "stdout",
                    "output_type": "stream",
                    "text": [
                        "Comparing to picking a reference isoform amoungst the cloned isoforms\n",
                        "screening multiple isoforms resulted in an increase of\n",
                        "72.0 total PDIs (360.0 total, +25.0%)\n",
                        "18 of 57 genes had ≥ 1 extra PDI (32%)\n"
                    ]
                }
            ],
            "source": [
                "n_pdi_gene = y1h.groupby('tf').any().iloc[:, 1:].sum(axis=1)\n",
                "n_pdi_isoform = y1h.loc[y1h['unique_acc'].isin(cloned_reference), :].groupby('tf').any().iloc[:, 1:].sum(axis=1)\n",
                "\n",
                "n_pdi_gene = n_pdi_gene.loc[n_pdi_isoform.index]\n",
                "\n",
                "pdi_increase = (n_pdi_gene - n_pdi_isoform).fillna(n_pdi_gene)\n",
                "print('Comparing to picking a reference isoform amoungst the cloned isoforms')\n",
                "print('screening multiple isoforms resulted in an increase of')\n",
                "print(f'{pdi_increase.sum()} total PDIs '\n",
                "      f'({n_pdi_gene.sum()} total, '\n",
                "      f'+{pdi_increase.sum() / (n_pdi_gene.sum() - pdi_increase.sum()):.1%})')\n",
                "print(f'{(pdi_increase > 0).sum()} of '\n",
                "      f'{pdi_increase.shape[0]} genes had ≥ 1 extra PDI'\n",
                "      f' ({(pdi_increase > 0).mean():.0%})')"
            ]
        },
        {
            "cell_type": "code",
            "execution_count": 21,
            "metadata": {},
            "outputs": [
                {
                    "name": "stderr",
                    "output_type": "stream",
                    "text": [
                        "<ipython-input-21-3b61a2676965>:7: UserWarning: constrained_layout not applied because axes sizes collapsed to zero.  Try making figure larger or axes decorations smaller.\n",
                        "  fig.savefig('../figures/pdi_increase.pdf',\n",
                        "/Users/lukelambourne/work/tf_isoforms/venv/lib/python3.8/site-packages/IPython/core/events.py:88: UserWarning: constrained_layout not applied because axes sizes collapsed to zero.  Try making figure larger or axes decorations smaller.\n",
                        "  func(*args, **kwargs)\n",
                        "/Users/lukelambourne/work/tf_isoforms/venv/lib/python3.8/site-packages/IPython/core/pylabtools.py:132: UserWarning: constrained_layout not applied because axes sizes collapsed to zero.  Try making figure larger or axes decorations smaller.\n",
                        "  fig.canvas.print_figure(bytes_io, **kw)\n"
                    ]
                },
                {
                    "data": {
                        "image/png": "[encoded data removed]",
                        "text/plain": [
                            "<Figure size 108x144 with 1 Axes>"
                        ]
                    },
                    "metadata": {
                        "needs_background": "light"
                    },
                    "output_type": "display_data"
                }
            ],
            "source": [
                "fig, ax = plt.subplots(1, 1)\n",
                "fig.set_size_inches(w=1.5, h=2)\n",
                "ax.bar(x=['Testing one isoform per gene', 'Testing multiple isoforms per gene'],\n",
                "       height=[n_pdi_isoform.sum(), n_pdi_gene.sum()])\n",
                "ax.xaxis.set_tick_params(rotation=90)\n",
                "ax.set_ylabel('Total number of PDIs')\n",
                "fig.savefig('../figures/pdi_increase.pdf',\n",
                "            bbox_inches='tight')\n"
            ]
        },
        {
            "cell_type": "code",
            "execution_count": 22,
            "metadata": {},
            "outputs": [
                {
                    "name": "stdout",
                    "output_type": "stream",
                    "text": [
                        "Comparing to picking a reference isoform amoungst the cloned isoforms\n",
                        "screening multiple isoforms resulted in an increase of\n",
                        "62.0 total PDIs (326.0 total, +23.5%)\n",
                        "14 of 43 genes had ≥ 1 extra PDI (33%)\n"
                    ]
                }
            ],
            "source": [
                "n_pdi_gene = y1h.loc[y1h['tf'].isin(cloned_MANE), :].groupby('tf').any().iloc[:, 1:].sum(axis=1)\n",
                "n_pdi_isoform = y1h.loc[y1h['tf'].isin(cloned_MANE), :].loc[y1h['unique_acc'].isin(cloned_reference), :].groupby('tf').any().iloc[:, 1:].sum(axis=1)\n",
                "\n",
                "n_pdi_gene = n_pdi_gene.loc[n_pdi_isoform.index]\n",
                "\n",
                "pdi_increase = (n_pdi_gene - n_pdi_isoform).fillna(n_pdi_gene)\n",
                "print('Comparing to picking a reference isoform amoungst the cloned isoforms')\n",
                "print('screening multiple isoforms resulted in an increase of')\n",
                "print(f'{pdi_increase.sum()} total PDIs '\n",
                "      f'({n_pdi_gene.sum()} total, '\n",
                "      f'+{pdi_increase.sum() / (n_pdi_gene.sum() - pdi_increase.sum()):.1%})')\n",
                "print(f'{(pdi_increase > 0).sum()} of '\n",
                "      f'{pdi_increase.shape[0]} genes had ≥ 1 extra PDI'\n",
                "      f' ({(pdi_increase > 0).mean():.0%})')"
            ]
        },
        {
            "cell_type": "code",
            "execution_count": 23,
            "metadata": {},
            "outputs": [
                {
                    "name": "stderr",
                    "output_type": "stream",
                    "text": [
                        "<ipython-input-23-8b855589a360>:7: UserWarning: constrained_layout not applied because axes sizes collapsed to zero.  Try making figure larger or axes decorations smaller.\n",
                        "  fig.savefig('../figures/pdi_increase_MANE_only.pdf',\n"
                    ]
                },
                {
                    "name": "stderr",
                    "output_type": "stream",
                    "text": [
                        "/Users/lukelambourne/work/tf_isoforms/venv/lib/python3.8/site-packages/IPython/core/events.py:88: UserWarning: constrained_layout not applied because axes sizes collapsed to zero.  Try making figure larger or axes decorations smaller.\n",
                        "  func(*args, **kwargs)\n",
                        "/Users/lukelambourne/work/tf_isoforms/venv/lib/python3.8/site-packages/IPython/core/pylabtools.py:132: UserWarning: constrained_layout not applied because axes sizes collapsed to zero.  Try making figure larger or axes decorations smaller.\n",
                        "  fig.canvas.print_figure(bytes_io, **kw)\n"
                    ]
                },
                {
                    "data": {
                        "image/png": "[encoded data removed]",
                        "text/plain": [
                            "<Figure size 108x144 with 1 Axes>"
                        ]
                    },
                    "metadata": {
                        "needs_background": "light"
                    },
                    "output_type": "display_data"
                }
            ],
            "source": [
                "fig, ax = plt.subplots(1, 1)\n",
                "fig.set_size_inches(w=1.5, h=2)\n",
                "ax.bar(x=['Testing one isoform per gene', 'Testing multiple isoforms per gene'],\n",
                "       height=[n_pdi_isoform.sum(), n_pdi_gene.sum()])\n",
                "ax.xaxis.set_tick_params(rotation=90)\n",
                "ax.set_ylabel('Total number of PDIs')\n",
                "fig.savefig('../figures/pdi_increase_MANE_only.pdf',\n",
                "            bbox_inches='tight')"
            ]
        }
    ],
    "metadata": {
        "kernelspec": {
            "display_name": "Python 3.8.12 ('venv': venv)",
            "language": "python",
            "name": "python3"
        },
        "language_info": {
            "codemirror_mode": {
                "name": "ipython",
                "version": 3
            },
            "file_extension": ".py",
            "mimetype": "text/x-python",
            "name": "python",
            "nbconvert_exporter": "python",
            "pygments_lexer": "ipython3",
            "version": "3.8.13"
        },
        "orig_nbformat": 4,
        "vscode": {
            "interpreter": {
                "hash": "4ae04c9a3e8cbfaaf818a59204fe953064ae0593c0d7ed4865e22581ae0526ea"
            }
        }
    },
    "nbformat": 4,
    "nbformat_minor": 2
}