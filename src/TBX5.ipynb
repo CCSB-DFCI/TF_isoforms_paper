{
 "cells": [
  {
   "cell_type": "code",
   "execution_count": 1,
   "metadata": {},
   "outputs": [],
   "source": [
    "from data_loading import load_annotated_6k_collection"
   ]
  },
  {
   "cell_type": "code",
   "execution_count": 2,
   "metadata": {},
   "outputs": [
    {
     "name": "stderr",
     "output_type": "stream",
     "text": [
      "100%|██████████| 2748/2748 [00:13<00:00, 204.61it/s]\n"
     ]
    }
   ],
   "source": [
    "tfs = load_annotated_6k_collection()"
   ]
  },
  {
   "cell_type": "code",
   "execution_count": 4,
   "metadata": {},
   "outputs": [
    {
     "data": {
      "text/plain": [
       "'ATGGCCGACGCAGACGAGGGCTTTGGCCTGGCGCACACGCCTCTGGAGCCTGACGCAAAAGACCTGCCCTGCGATTCGAAACCCGAGAGCGCGCTCGGGGCCCCCAGCAAGTCCCCGTCGTCCCCGCAGGCCGCCTTCACCCAGCAGGGCATGGAGGGAATCAAAGTGTTTCTCCATGAAAGAGAACTGTGGCTAAAATTCCACGAAGTGGGCACGGAAATGATCATAACCAAGGCTGGAAGGCGGATGTTTCCCAGTTACAAAGTGAAGGTGACGGGCCTTAATCCCAAAACGAAGTACATTCTTCTCATGGACATTGTACCTGCCGACGATCACAGATACAAATTCGCAGATAATAAATGGTCTGTGACGGGCAAAGCTGAGCCCGCCATGCCTGGCCGCCTGTACGTGCACCCAGACTCCCCCGCCACCGGGGCGCATTGGATGAGGCAGCTCGTCTCCTTCCAGAAACTCAAGCTCACCAACAACCACCTGGACCCATTTGGGCATATTATTCTAAATTCCATGCACAAATACCAGCCTAGATTACACATCGTGAAAGCGGATGAAAATAATGGATTTGGCTCAAAAAATACAGCGTTCTGCACTCACGTCTTTCCTGAGACTGCGTTTATAGCAGTGACTTCCTACCAGAACCACAAGATCACGCAATTAAAGATTGAGAATAATCCCTTTGCCAAAGGATTTCGGGGCAGTGATGACATGGAGCTGCACAGAATGTCAAGAATGCAAAGTAAAGAATATCCCGTGGTCCCCAGGAGCACCGTGAGGCAAAAAGTGGCCTCCAACCACAGTCCTTTCAGCAGCGAGTCTCGAGCTCTCTCCACCTCATCCAATTTGGGGTCCCAATACCAGTGTGAGAATGGTGTTTCCGGCCCCTCCCAGGACCTCCTGCCTCCACCCAACCCATACCCACTGCCCCAGGAGCATAGCCAAATTTACCATTGTACCAAGAGGAAAGGTGAGTGTGATCACCCCTGGTCAATTTGCTTTCTTTCTTACCTTTTCCTTTCCTTGGGTTGGGGG'"
      ]
     },
     "execution_count": 4,
     "metadata": {},
     "output_type": "execute_result"
    }
   ],
   "source": [
    "tfs['TBX5']['TBX5-3'].nt_seq"
   ]
  },
  {
   "cell_type": "code",
   "execution_count": 14,
   "metadata": {},
   "outputs": [
    {
     "data": {
      "text/plain": [
       "349.0"
      ]
     },
     "execution_count": 14,
     "metadata": {},
     "output_type": "execute_result"
    }
   ],
   "source": [
    "len(tfs['TBX5']['TBX5-3'].CDS_nt_seq)"
   ]
  },
  {
   "cell_type": "code",
   "execution_count": 11,
   "metadata": {},
   "outputs": [
    {
     "data": {
      "text/plain": [
       "True"
      ]
     },
     "execution_count": 11,
     "metadata": {},
     "output_type": "execute_result"
    }
   ],
   "source": [
    "tfs['TBX5']['TBX5-3'].clone_nt_seq == tfs['TBX5']['TBX5-3'].CDS_nt_seq"
   ]
  },
  {
   "cell_type": "code",
   "execution_count": 16,
   "metadata": {},
   "outputs": [
    {
     "ename": "KeyError",
     "evalue": "'predicted_aligned_error'",
     "output_type": "error",
     "traceback": [
      "\u001b[0;31m---------------------------------------------------------------------------\u001b[0m",
      "\u001b[0;31mKeyError\u001b[0m                                  Traceback (most recent call last)",
      "\u001b[0;32m<ipython-input-16-b53a194a0b58>\u001b[0m in \u001b[0;36m<module>\u001b[0;34m\u001b[0m\n\u001b[1;32m     67\u001b[0m \u001b[0;34m\u001b[0m\u001b[0m\n\u001b[1;32m     68\u001b[0m \u001b[0;34m\u001b[0m\u001b[0m\n\u001b[0;32m---> 69\u001b[0;31m predicted_aligned_error_heatmap(in_dir='../../data/internal/alphafold/casp14/TBX5-3',\n\u001b[0m\u001b[1;32m     70\u001b[0m                                 fig_dir='../../figures')\n",
      "\u001b[0;32m<ipython-input-16-b53a194a0b58>\u001b[0m in \u001b[0;36mpredicted_aligned_error_heatmap\u001b[0;34m(in_dir, fig_dir)\u001b[0m\n\u001b[1;32m     32\u001b[0m \u001b[0;34m\u001b[0m\u001b[0m\n\u001b[1;32m     33\u001b[0m     \u001b[0mfig\u001b[0m\u001b[0;34m,\u001b[0m \u001b[0max\u001b[0m \u001b[0;34m=\u001b[0m \u001b[0mplt\u001b[0m\u001b[0;34m.\u001b[0m\u001b[0msubplots\u001b[0m\u001b[0;34m(\u001b[0m\u001b[0;36m1\u001b[0m\u001b[0;34m,\u001b[0m \u001b[0;36m1\u001b[0m\u001b[0;34m)\u001b[0m\u001b[0;34m\u001b[0m\u001b[0;34m\u001b[0m\u001b[0m\n\u001b[0;32m---> 34\u001b[0;31m     \u001b[0mim\u001b[0m \u001b[0;34m=\u001b[0m \u001b[0max\u001b[0m\u001b[0;34m.\u001b[0m\u001b[0mimshow\u001b[0m\u001b[0;34m(\u001b[0m\u001b[0mdata\u001b[0m\u001b[0;34m[\u001b[0m\u001b[0;34m'predicted_aligned_error'\u001b[0m\u001b[0;34m]\u001b[0m\u001b[0;34m)\u001b[0m\u001b[0;34m\u001b[0m\u001b[0;34m\u001b[0m\u001b[0m\n\u001b[0m\u001b[1;32m     35\u001b[0m     \u001b[0mcbar\u001b[0m \u001b[0;34m=\u001b[0m \u001b[0max\u001b[0m\u001b[0;34m.\u001b[0m\u001b[0mfigure\u001b[0m\u001b[0;34m.\u001b[0m\u001b[0mcolorbar\u001b[0m\u001b[0;34m(\u001b[0m\u001b[0mim\u001b[0m\u001b[0;34m,\u001b[0m \u001b[0max\u001b[0m\u001b[0;34m=\u001b[0m\u001b[0max\u001b[0m\u001b[0;34m,\u001b[0m \u001b[0mlabel\u001b[0m\u001b[0;34m=\u001b[0m\u001b[0;34m'Predicted aligned error (Angstroms)'\u001b[0m\u001b[0;34m)\u001b[0m\u001b[0;34m\u001b[0m\u001b[0;34m\u001b[0m\u001b[0m\n\u001b[1;32m     36\u001b[0m     \"\"\"\n",
      "\u001b[0;31mKeyError\u001b[0m: 'predicted_aligned_error'"
     ]
    },
    {
     "data": {
      "image/png": "[encoded data removed]",
      "text/plain": [
       "<Figure size 432x288 with 1 Axes>"
      ]
     },
     "metadata": {
      "needs_background": "light"
     },
     "output_type": "display_data"
    }
   ],
   "source": [
    "# python 3.7.4 used on the HMS RC machine to generate the files\n",
    "\n",
    "# improve ticks\n",
    "\n",
    "import pickle\n",
    "import json\n",
    "from pathlib import Path\n",
    "\n",
    "from matplotlib import pyplot as plt\n",
    "\n",
    "\n",
    "def predicted_aligned_error_heatmap(in_dir, fig_dir):\n",
    "    in_dir = Path(in_dir)  # in case passed as string\n",
    "    fig_dir = Path(fig_dir)  # in case passed as string\n",
    "    out_path = fig_dir / '{}_predicted-aligned-error.pdf'.format(in_dir.stem)\n",
    "    if out_path.exists():\n",
    "        print(out_path, 'already exists')\n",
    "        return\n",
    "    \"\"\"\n",
    "    ranking_path = in_dir / 'ranking_debug.json'\n",
    "    if not ranking_path.exists():\n",
    "        print(ranking_path, 'does not exist')\n",
    "        return\n",
    "    with open(ranking_path, 'r') as f:\n",
    "        ranking = json.load(f)\n",
    "    with open(in_dir / 'result_{}.pkl'.format(ranking['order'][0]), 'rb') as f:\n",
    "    \"\"\"\n",
    "    with open(in_dir / 'result_model_1.pkl', 'rb') as f:\n",
    "        data = pickle.load(f)\n",
    "    #with open(in_dir / 'msas/chain_id_map.json', 'r') as f:\n",
    "    #    aa_seqs = json.load(f)\n",
    "\n",
    "    fig, ax = plt.subplots(1, 1)\n",
    "    im = ax.imshow(data['predicted_aligned_error'])\n",
    "    cbar = ax.figure.colorbar(im, ax=ax, label='Predicted aligned error (Angstroms)')\n",
    "    \"\"\"\n",
    "    ax.axvline(x=len(aa_seqs['A']['sequence']) - 0.5,\n",
    "            color='black')\n",
    "    ax.axhline(y=len(aa_seqs['A']['sequence']) - 0.5,\n",
    "            color='black')\n",
    "    pad = ax.get_xlim()[1] * 0.1\n",
    "    ax.text(s=aa_seqs['A']['description'].split()[1],\n",
    "            x=len(aa_seqs['A']['sequence']) / 2,\n",
    "            y=ax.get_ylim()[0] + pad,\n",
    "            ha='center',\n",
    "            va='top')\n",
    "    ax.text(s=aa_seqs['B']['description'].split()[1],\n",
    "            x=len(aa_seqs['A']['sequence']) + len(aa_seqs['B']['sequence']) / 2,\n",
    "            y=ax.get_ylim()[0] + pad,\n",
    "            ha='center',\n",
    "            va='top')\n",
    "    ax.text(s=aa_seqs['A']['description'].split()[1],\n",
    "            y=len(aa_seqs['A']['sequence']) / 2,\n",
    "            x=ax.get_xlim()[0] - pad,\n",
    "            rotation=90,\n",
    "            va='center',\n",
    "            ha='right')\n",
    "    ax.text(s=aa_seqs['B']['description'].split()[1],\n",
    "            y=len(aa_seqs['A']['sequence']) + len(aa_seqs['B']['sequence']) / 2,\n",
    "            x=ax.get_xlim()[0] - pad,\n",
    "            rotation=90,\n",
    "            va='center',\n",
    "            ha='right')\n",
    "    \"\"\"\n",
    "    fig.savefig(out_path, bbox_inches='tight')\n",
    "    plt.close(fig)\n",
    "\n",
    "\n",
    "predicted_aligned_error_heatmap(in_dir='../../data/internal/alphafold/casp14/TBX5-3',\n",
    "                                fig_dir='../../figures')"
   ]
  },
  {
   "cell_type": "code",
   "execution_count": 28,
   "metadata": {},
   "outputs": [
    {
     "data": {
      "text/plain": [
       "(349,)"
      ]
     },
     "execution_count": 28,
     "metadata": {},
     "output_type": "execute_result"
    }
   ],
   "source": [
    "with open('../../data/internal/alphafold/casp14/TBX5-3/result_model_1.pkl', 'rb') as f:\n",
    "    data = pickle.load(f)\n",
    "data['plddt'].shape"
   ]
  },
  {
   "cell_type": "code",
   "execution_count": 21,
   "metadata": {},
   "outputs": [
    {
     "data": {
      "text/plain": [
       "dict_keys(['distogram', 'experimentally_resolved', 'masked_msa', 'predicted_lddt', 'structure_module', 'plddt'])"
      ]
     },
     "execution_count": 21,
     "metadata": {},
     "output_type": "execute_result"
    }
   ],
   "source": [
    "data.keys()"
   ]
  },
  {
   "cell_type": "code",
   "execution_count": 23,
   "metadata": {},
   "outputs": [
    {
     "data": {
      "text/plain": [
       "(1012, 1012)"
      ]
     },
     "execution_count": 23,
     "metadata": {},
     "output_type": "execute_result"
    }
   ],
   "source": [
    "with open('/Users/lukelambourne/work/for_others/for_Florent/output/CTI6_CTI6/result_model_1_multimer_v2_pred_0.pkl', 'rb') as f:\n",
    "    data = pickle.load(f)\n",
    "data['predicted_aligned_error'].shape"
   ]
  },
  {
   "cell_type": "code",
   "execution_count": 29,
   "metadata": {},
   "outputs": [
    {
     "data": {
      "text/plain": [
       "'MADADEGFGLAHTPLEPDAKDLPCDSKPESALGAPSKSPSSPQAAFTQQGMEGIKVFLHERELWLKFHEVGTEMIITKAGRRMFPSYKVKVTGLNPKTKYILLMDIVPADDHRYKFADNKWSVTGKAEPAMPGRLYVHPDSPATGAHWMRQLVSFQKLKLTNNHLDPFGHIILNSMHKYQPRLHIVKADENNGFGSKNTAFCTHVFPETAFIAVTSYQNHKITQLKIENNPFAKGFRGSDDMELHRMSRMQSKEYPVVPRSTVRQKVASNHSPFSSESRALSTSSNLGSQYQCENGVSGPSQDLLPPPNPYPLPQEHSQIYHCTKRKGECDHPWSICFLSYLFLSLGWG'"
      ]
     },
     "execution_count": 29,
     "metadata": {},
     "output_type": "execute_result"
    }
   ],
   "source": [
    "tfs['TBX5']['TBX5-3'].aa_seq"
   ]
  },
  {
   "cell_type": "code",
   "execution_count": null,
   "metadata": {},
   "outputs": [],
   "source": []
  }
 ],
 "metadata": {
  "interpreter": {
   "hash": "4ae04c9a3e8cbfaaf818a59204fe953064ae0593c0d7ed4865e22581ae0526ea"
  },
  "kernelspec": {
   "display_name": "Python 3.8.12 ('venv': venv)",
   "language": "python",
   "name": "python3"
  },
  "language_info": {
   "codemirror_mode": {
    "name": "ipython",
    "version": 3
   },
   "file_extension": ".py",
   "mimetype": "text/x-python",
   "name": "python",
   "nbconvert_exporter": "python",
   "pygments_lexer": "ipython3",
   "version": "3.8.13"
  },
  "orig_nbformat": 4
 },
 "nbformat": 4,
 "nbformat_minor": 2
}
