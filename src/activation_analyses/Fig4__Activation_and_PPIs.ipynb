{
 "cells": [
  {
   "cell_type": "markdown",
   "metadata": {},
   "source": [
    "# Fig 4: Activation and PPIs/Dimerization"
   ]
  },
  {
   "cell_type": "code",
   "execution_count": 1,
   "metadata": {},
   "outputs": [],
   "source": [
    "import numpy as np\n",
    "import matplotlib as mpl\n",
    "from scipy import stats\n",
    "from matplotlib import pyplot as plt\n",
    "from matplotlib.patches import Rectangle\n",
    "import pandas as pd\n",
    "import seaborn as sns\n",
    "import sys\n",
    "\n",
    "from statannotations.Annotator import Annotator\n",
    "\n",
    "# import utils\n",
    "sys.path.append(\"../\")\n",
    "sys.path.append(\"../data_loading\")\n",
    "\n",
    "import plotting\n",
    "from plotting import (mimic_r_boxplot,\n",
    "                      violinplot_reflected,\n",
    "                      y2h_ppi_per_tf_gene_plot,\n",
    "                      y1h_pdi_per_tf_gene_plot,\n",
    "                      m1h_activation_per_tf_gene_plot)\n",
    "\n",
    "from data_loading import (load_y2h_isoform_data, \n",
    "    load_m1h_activation_data, \n",
    "    load_ppi_partner_categories, \n",
    "    load_annotated_TFiso1_collection,\n",
    "    load_human_tf_db,\n",
    "    load_y1h_pdi_data,\n",
    "    load_tf_families,\n",
    "    DIMERIZING_TF_FAMILIES,\n",
    "   load_isoform_and_paralog_y2h_data,\n",
    "                          load_valid_isoform_clones)\n",
    "\n",
    "from isoform_pairwise_metrics import load_ref_vs_alt_isoforms_table, _add_PPI_columns"
   ]
  },
  {
   "cell_type": "code",
   "execution_count": 2,
   "metadata": {},
   "outputs": [],
   "source": [
    "PAPER_PRESET = {\"style\": \"ticks\", \"font\": \"Helvetica\", \"context\": \"paper\", \n",
    "                \"rc\": {\"font.size\":7,\"axes.titlesize\":7,\n",
    "                       \"axes.labelsize\":7, 'axes.linewidth':0.5,\n",
    "                       \"legend.fontsize\":6, \"xtick.labelsize\":6,\n",
    "                       \"ytick.labelsize\":6, \"xtick.major.size\": 3.0,\n",
    "                       \"ytick.major.size\": 3.0, \"axes.edgecolor\": \"black\",\n",
    "                       \"xtick.major.pad\": 3.0, \"ytick.major.pad\": 3.0}}\n",
    "PAPER_FONTSIZE = 7"
   ]
  },
  {
   "cell_type": "code",
   "execution_count": 3,
   "metadata": {},
   "outputs": [],
   "source": [
    "sns.set(**PAPER_PRESET)\n",
    "fontsize = PAPER_FONTSIZE"
   ]
  },
  {
   "cell_type": "code",
   "execution_count": 4,
   "metadata": {},
   "outputs": [],
   "source": [
    "np.random.seed(2023)"
   ]
  },
  {
   "cell_type": "markdown",
   "metadata": {},
   "source": [
    "## 1. load TFs, assay data (Y2H, M1H), Pfam domains, and PPI partner categories/cofactors"
   ]
  },
  {
   "cell_type": "code",
   "execution_count": 5,
   "metadata": {},
   "outputs": [
    {
     "name": "stdout",
     "output_type": "stream",
     "text": [
      "reading from cache\n"
     ]
    }
   ],
   "source": [
    "tfs = load_annotated_TFiso1_collection()\n",
    "pairs = load_ref_vs_alt_isoforms_table()\n",
    "\n",
    "# RORC-1 alt iso is causing an error - filter out here - there's no data for it?\n",
    "pairs = pairs[pairs[\"clone_acc_alt\"] != \"RORC|1/6|05F11\"]\n",
    "\n",
    "pairs['ref_iso'] = pairs['clone_acc_ref'].apply(lambda x: x.split('|')[0] + '-' + x.split('|')[1].split('/')[0])\n",
    "pairs['alt_iso'] = pairs['clone_acc_alt'].apply(lambda x: x.split('|')[0] + '-' + x.split('|')[1].split('/')[0])\n",
    "pairs['f_disorder_difference'] = pairs.apply(lambda x: tfs[x['gene_symbol']].disordered_fraction_of_different_regions(x['ref_iso'], x['alt_iso']), axis=1)"
   ]
  },
  {
   "cell_type": "code",
   "execution_count": 6,
   "metadata": {},
   "outputs": [],
   "source": [
    "y2h = load_y2h_isoform_data()\n",
    "m1h = load_m1h_activation_data()\n",
    "m1h['mean'] = m1h[['M1H_rep1', 'M1H_rep2', 'M1H_rep3']].mean(axis=1)\n",
    "cats = load_ppi_partner_categories()"
   ]
  },
  {
   "cell_type": "code",
   "execution_count": 7,
   "metadata": {},
   "outputs": [
    {
     "name": "stdout",
     "output_type": "stream",
     "text": [
      "8543 proteins expressed in HEK293 proteome\n",
      "of 500 PPI partners, 252 are expressed in HEK293 cells\n"
     ]
    }
   ],
   "source": [
    "df = pd.read_excel('../../data/external/Geiger-et-al_MCP_2012_Supplementary-Table-2.xlsx',\n",
    "                   skiprows=1)\n",
    "hek_avrg = df[['iBAQ HEK293_1', 'iBAQ HEK293_2', 'iBAQ HEK293_3']].mean(axis=1)\n",
    "print((hek_avrg > 0).sum(), 'proteins expressed in HEK293 proteome')\n",
    "hek_expressed_genes = set(df.loc[(hek_avrg > 0) & df['Gene Names'].notnull(),\n",
    "       'Gene Names'].str.split(';').explode().values)\n",
    "all_partners = set(y2h['db_gene_symbol'].unique())\n",
    "print('of {} PPI partners, {} are expressed in HEK293 cells'.format(len(all_partners), \n",
    "      len(all_partners.intersection(hek_expressed_genes))))"
   ]
  },
  {
   "cell_type": "code",
   "execution_count": 8,
   "metadata": {},
   "outputs": [],
   "source": [
    "# now add Pfam AD/RDs\n",
    "pfam = pd.read_csv('../../data/external/Pfam-A.clans.tsv',\n",
    "                   sep='\\t',\n",
    "                   names=['pfam_accession', 'clan', 'clan_name', 'short_name', 'name'])"
   ]
  },
  {
   "cell_type": "code",
   "execution_count": 9,
   "metadata": {},
   "outputs": [],
   "source": [
    "cof = pd.read_csv('../../data/external/AnimalTFDB3_Homo_sapiens_TF_cofactors.txt',\n",
    "                 sep='\\t')\n",
    "if cof['Symbol'].duplicated().any():\n",
    "    raise UserWarning('unexpected duplicates')"
   ]
  },
  {
   "cell_type": "markdown",
   "metadata": {},
   "source": [
    "## 2. categorize effector domain changes between alt/ref iso"
   ]
  },
  {
   "cell_type": "code",
   "execution_count": 10,
   "metadata": {},
   "outputs": [],
   "source": [
    "dom = pd.concat([g.aa_feature_disruption(g.cloned_reference_isoform.name) for g in tfs.values()])\n",
    "\n",
    "# add activation or repression annotation from effector domain studies\n",
    "effector_domain_type = {}\n",
    "for tf in tfs.values():\n",
    "    for d in tf.cloned_reference_isoform.aa_seq_features:\n",
    "        if d.category == 'effector_domain':\n",
    "            effector_domain_type[d.accession] = d.name\n",
    "dom['type'] = dom['accession'].map(effector_domain_type)"
   ]
  },
  {
   "cell_type": "code",
   "execution_count": 11,
   "metadata": {},
   "outputs": [],
   "source": [
    "# add activation or repression annotation from Pfam domains directly\n",
    "pfam_ad = pfam[(pfam['name'].str.contains(\"transcription activation\")) | \n",
    "               (pfam['name'].str.contains(\"transactivation\")) |\n",
    "               (pfam['short_name'].str.contains(\"TAD\"))].copy()\n",
    "pfam_ad[\"type\"] = \"AD\"\n",
    "\n",
    "# RD\n",
    "pfam_rd = pfam[(pfam['short_name'].str.contains(\"NRIP1_repr\")) | \n",
    "               (pfam['name'].str.contains(\"KRAB\"))].copy()\n",
    "pfam_rd[\"type\"] = \"RD\"\n",
    "pfam_effs = pd.concat([pfam_ad, pfam_rd])\n",
    "\n",
    "def get_pfam_type(row):\n",
    "    if not pd.isnull(row['type']):\n",
    "        return row['type']\n",
    "    else:\n",
    "        pfam_sub = pfam_effs[pfam_effs['pfam_accession'] == row['accession']]\n",
    "        if len(pfam_sub) > 0:\n",
    "            return pfam_sub['type'].iloc[0]\n",
    "        else:\n",
    "            return np.nan\n",
    "dom[\"type_incl_pfam\"] = dom.apply(get_pfam_type, axis=1)"
   ]
  },
  {
   "cell_type": "code",
   "execution_count": 12,
   "metadata": {},
   "outputs": [],
   "source": [
    "# considering Pfam and Effector domains\n",
    "def fraction_of_effector_domains_removed(row, effector_type):\n",
    "    ds = dom.loc[(dom['alt_iso'] == row['alt_iso']) \n",
    "                  & (dom['type_incl_pfam'] == effector_type), :]\n",
    "    if ds.shape[0] == 0:\n",
    "        return np.nan\n",
    "    return ds[['deletion', 'frameshift']].sum().sum() / ds['length'].sum()\n",
    "\n",
    "\n",
    "def insertion_in_effector_domains(row, effector_type):\n",
    "    ds = dom.loc[(dom['alt_iso'] == row['alt_iso']) \n",
    "                  & (dom['type_incl_pfam'] == effector_type), :]\n",
    "    if ds.shape[0] == 0:\n",
    "        return np.nan\n",
    "    return ds['insertion'].sum()\n",
    "\n",
    "def domain_length(row, effector_type):\n",
    "    ds = dom.loc[(dom['alt_iso'] == row['alt_iso']) \n",
    "                  & (dom['type_incl_pfam'] == effector_type), :]\n",
    "    if ds.shape[0] == 0:\n",
    "        return np.nan\n",
    "    return ds['length'].sum()\n",
    "\n",
    "\n",
    "for effector_type in ['AD', 'RD', 'Bif']:\n",
    "    pairs['fraction_of_{}_domains_removed_incl_pfam'.format(effector_type)] = pairs.apply(fraction_of_effector_domains_removed, effector_type=effector_type, axis=1)\n",
    "    pairs['insertion_in_{}_domains_incl_pfam'.format(effector_type)] = pairs.apply(insertion_in_effector_domains, effector_type=effector_type, axis=1)\n",
    "    pairs['length_of_{}_domains_incl_pfam'.format(effector_type)] = pairs.apply(domain_length, effector_type=effector_type, axis=1)"
   ]
  },
  {
   "cell_type": "markdown",
   "metadata": {},
   "source": [
    "## 3. plot number of annotated domains (of various types) across isoforms"
   ]
  },
  {
   "cell_type": "code",
   "execution_count": 13,
   "metadata": {},
   "outputs": [
    {
     "data": {
      "text/plain": [
       "Text(0.5, 0, 'Effector domains in reference isoform')"
      ]
     },
     "execution_count": 13,
     "metadata": {},
     "output_type": "execute_result"
    },
    {
     "data": {
      "image/png": "[encoded data removed]",
      "text/plain": [
       "<Figure size 144x72 with 1 Axes>"
      ]
     },
     "metadata": {},
     "output_type": "display_data"
    }
   ],
   "source": [
    "# plot of number of activation domains per ref iso\n",
    "# fraction of sequnce within effector domains\n",
    "def count_effector_domains(gene):\n",
    "    iso = gene.cloned_reference_isoform\n",
    "    c = 0\n",
    "    for d in iso.aa_seq_features:\n",
    "        if d.category == 'effector_domain':\n",
    "            c += 1\n",
    "    return c\n",
    "\n",
    "n_effector = [count_effector_domains(tf) for tf in tfs.values()]\n",
    "\n",
    "fig, ax = plt.subplots(1, 1, figsize=(2, 1))\n",
    "ax.hist(n_effector,\n",
    "        range=(-0.25, max(n_effector) + 0.25),\n",
    "          bins=(max(n_effector) * 2 + 1))\n",
    "ax.set_xticks(range(max(n_effector) + 1))\n",
    "ax.set_ylabel('Number of genes ({} total)'.format(len(tfs)))\n",
    "ax.set_xlabel('Effector domains in reference isoform')"
   ]
  },
  {
   "cell_type": "code",
   "execution_count": 14,
   "metadata": {},
   "outputs": [
    {
     "data": {
      "text/plain": [
       "Text(0.5, 1.0, 'Soto et al. data')"
      ]
     },
     "execution_count": 14,
     "metadata": {},
     "output_type": "execute_result"
    },
    {
     "data": {
      "image/png": "[encoded data removed]",
      "text/plain": [
       "<Figure size 144x72 with 1 Axes>"
      ]
     },
     "metadata": {},
     "output_type": "display_data"
    }
   ],
   "source": [
    "# plot of number of activation domains per ref iso\n",
    "# fraction of sequnce within effector domains\n",
    "def count_Soto_effector_domains(gene):\n",
    "    iso = gene.cloned_reference_isoform\n",
    "    c = 0\n",
    "    for d in iso.aa_seq_features:\n",
    "        if d.category == 'effector_domain' and d.accession.startswith('Soto'):\n",
    "            c += 1\n",
    "    return c\n",
    "\n",
    "n_effector_soto = [count_Soto_effector_domains(tf) for tf in tfs.values()]\n",
    "\n",
    "fig, ax = plt.subplots(1, 1, figsize=(2, 1))\n",
    "ax.hist(n_effector_soto,\n",
    "        range=(-0.25, max(n_effector) + 0.25),\n",
    "          bins=(max(n_effector) * 2 + 1))\n",
    "ax.set_xticks(range(max(n_effector) + 1))\n",
    "ax.set_ylabel('Number of genes ({} total)'.format(len(tfs)))\n",
    "ax.set_xlabel('Effector domains in reference isoform')\n",
    "ax.set_title('Soto et al. data')"
   ]
  },
  {
   "cell_type": "code",
   "execution_count": 15,
   "metadata": {},
   "outputs": [
    {
     "data": {
      "text/plain": [
       "Text(0.5, 1.0, 'Data from Bintu lab papers')"
      ]
     },
     "execution_count": 15,
     "metadata": {},
     "output_type": "execute_result"
    },
    {
     "data": {
      "image/png": "[encoded data removed]",
      "text/plain": [
       "<Figure size 144x72 with 1 Axes>"
      ]
     },
     "metadata": {},
     "output_type": "display_data"
    }
   ],
   "source": [
    "# plot of number of activation domains per ref iso\n",
    "# fraction of sequnce within effector domains\n",
    "def count_Bintu_effector_domains(gene):\n",
    "    iso = gene.cloned_reference_isoform\n",
    "    c = 0\n",
    "    for d in iso.aa_seq_features:\n",
    "        if d.category == 'effector_domain' and not d.accession.startswith('Soto'):\n",
    "            c += 1\n",
    "    return c\n",
    "\n",
    "n_effector_bintu = [count_Bintu_effector_domains(tf) for tf in tfs.values()]\n",
    "\n",
    "fig, ax = plt.subplots(1, 1, figsize=(2, 1))\n",
    "ax.hist(n_effector_bintu,\n",
    "        range=(-0.25, max(n_effector) + 0.25),\n",
    "          bins=(max(n_effector) * 2 + 1))\n",
    "ax.set_xticks(range(max(n_effector) + 1))\n",
    "ax.set_ylabel('Number of genes ({} total)'.format(len(tfs)))\n",
    "ax.set_xlabel('Effector domains in reference isoform')\n",
    "ax.set_title('Data from Bintu lab papers')"
   ]
  },
  {
   "cell_type": "code",
   "execution_count": 16,
   "metadata": {},
   "outputs": [
    {
     "data": {
      "text/plain": [
       "{'Soto': {'AD': 156, 'RD': 80, 'Bif': 4},\n",
       " 'Tycko': {'AD': 4, 'RD': 48},\n",
       " 'DelRosso': {'AD': 37, 'RD': 345}}"
      ]
     },
     "execution_count": 16,
     "metadata": {},
     "output_type": "execute_result"
    }
   ],
   "source": [
    "counter = {'Soto': {'AD': 0, 'RD': 0, 'Bif': 0},\n",
    "           'Tycko': {'AD': 0, 'RD': 0},\n",
    "           'DelRosso': {'AD': 0, 'RD': 0}}\n",
    "for tf in tfs.values():\n",
    "    has_effector = False\n",
    "    for domain in tf.cloned_reference_isoform.aa_seq_features:\n",
    "        if domain.category == 'effector_domain':\n",
    "            counter[domain.accession.split('_')[0]][domain.name] += 1\n",
    "counter"
   ]
  },
  {
   "cell_type": "code",
   "execution_count": 17,
   "metadata": {},
   "outputs": [
    {
     "data": {
      "text/plain": [
       "Text(0, 0.5, 'Number of effector domains')"
      ]
     },
     "execution_count": 17,
     "metadata": {},
     "output_type": "execute_result"
    },
    {
     "data": {
      "image/png": "[encoded data removed]",
      "text/plain": [
       "<Figure size 144x144 with 1 Axes>"
      ]
     },
     "metadata": {},
     "output_type": "display_data"
    }
   ],
   "source": [
    "fig, ax = plt.subplots(1, 1, figsize=(2, 2))\n",
    "ax.bar(x=range(6),\n",
    "       height=[counter[x][y] for x in counter.keys() for y in ['AD', 'RD']],\n",
    "       color=[sns.color_palette(\"Set2\")[0], sns.color_palette(\"Set2\")[3]] * 3)\n",
    "ax.set_xticks([0.5, 2.5, 4.5])\n",
    "ax.set_xticklabels(['Soto et al.', 'Tycko et al.', 'DelRosso et al.'])\n",
    "ax.set_ylabel('Number of effector domains')"
   ]
  },
  {
   "cell_type": "markdown",
   "metadata": {},
   "source": [
    "## 4. summary plot looking at gain/loss of domains and activity"
   ]
  },
  {
   "cell_type": "code",
   "execution_count": 18,
   "metadata": {},
   "outputs": [],
   "source": [
    "m1h['gte_2_fold'] = (m1h['mean'].abs() >= 1)\n",
    "pairs['m1h_gte_2_fold_at_least_one_iso_per_gene'] = pairs['gene_symbol'].map(m1h.groupby('gene_symbol')\n",
    "                                                                             ['gte_2_fold']\n",
    "                                                                             .any())\n",
    "pairs['abs_activation_fold_change_log2'] = pairs['activation_fold_change_log2'].abs()"
   ]
  },
  {
   "cell_type": "code",
   "execution_count": 19,
   "metadata": {},
   "outputs": [],
   "source": [
    "# create a color map of domain length\n",
    "# sum up lengths of all domains (plot only includes examples w 1 type of domain)\n",
    "pairs['tot_dom_length_incl_pfam'] = pairs[['length_of_AD_domains_incl_pfam', 'length_of_RD_domains_incl_pfam', 'length_of_Bif_domains_incl_pfam']].sum(axis=1)\n",
    "t_dom_length_incl_pfam = pairs.loc[:,'tot_dom_length_incl_pfam'].values\n",
    "t_dom_length_incl_pfam = t_dom_length_incl_pfam[t_dom_length_incl_pfam > 0]\n",
    "\n",
    "# using min and max makes colors too hard too read - cut off\n",
    "cmap = sns.color_palette(\"flare\", as_cmap=True)\n",
    "norm = plt.Normalize(25, 250)\n",
    "palette_dom_length_incl_pfam = {value: cmap(norm(value)) for value in t_dom_length_incl_pfam}\n",
    "\n",
    "def re_color(row, palette):\n",
    "    if row['tot_dom_length_incl_pfam'] == 0:\n",
    "        color = sns.color_palette(\"flare\")[0]\n",
    "    else:\n",
    "        color = palette[row['tot_dom_length_incl_pfam']]\n",
    "    return color\n",
    "\n",
    "pairs[\"color_dom_length_incl_pfam\"] = pairs.apply(re_color, axis=1, palette=palette_dom_length_incl_pfam)"
   ]
  },
  {
   "cell_type": "code",
   "execution_count": 127,
   "metadata": {},
   "outputs": [
    {
     "name": "stdout",
     "output_type": "stream",
     "text": [
      "found: -4.440892098500626e-16, -3.1682185672413987\n",
      "found: 0.0, 3.122124020104195\n"
     ]
    },
    {
     "name": "stderr",
     "output_type": "stream",
     "text": [
      "/PHShome/kz659/.conda/envs/py36/lib/python3.6/site-packages/seaborn/categorical.py:1296: UserWarning: 25.5% of the points cannot be placed; you may want to decrease the size of the markers or use stripplot.\n",
      "  warnings.warn(msg, UserWarning)\n"
     ]
    },
    {
     "name": "stdout",
     "output_type": "stream",
     "text": [
      "found: 4.440892098500626e-16, -4.185867921507783\n",
      "found: -0.057750226293943996, -2.342060295980464\n",
      "found: -0.25182654330574206, -1.3738165060156264\n",
      "found: 0.3956720418034547, -1.0995217184549224\n"
     ]
    },
    {
     "data": {
      "image/png": "[encoded data removed]",
      "text/plain": [
       "<Figure size 590.4x144 with 8 Axes>"
      ]
     },
     "metadata": {},
     "output_type": "display_data"
    },
    {
     "data": {
      "image/png": "[encoded data removed]",
      "text/plain": [
       "<Figure size 590.4x144 with 7 Axes>"
      ]
     },
     "metadata": {},
     "output_type": "display_data"
    }
   ],
   "source": [
    "df = pairs.copy()\n",
    "df = df.loc[df['activation_fold_change_log2'].notnull() & df['m1h_gte_2_fold_at_least_one_iso_per_gene'], :]\n",
    "palette = palette_dom_length_incl_pfam\n",
    "hue = 'tot_dom_length_incl_pfam'\n",
    "color = 'color_dom_length_incl_pfam'\n",
    "t = t_dom_length_incl_pfam\n",
    "\n",
    "gs_kw = dict(width_ratios=[0.4, 0.4, 0.5, 1.1, 1.1, 1.75, 0.85])\n",
    "\n",
    "fig, axs = plt.subplots(1, 7, sharey=True, gridspec_kw=gs_kw)\n",
    "fig.set_size_inches(w=8.2, h=2)\n",
    "\n",
    "point_size = 6\n",
    "\n",
    "\n",
    "tot_loss_activ = df.loc[(df['fraction_of_AD_domains_removed_incl_pfam'] == 1) \n",
    "                        & (df['fraction_of_RD_domains_removed_incl_pfam'].isnull() | \n",
    "                           (df['fraction_of_RD_domains_removed_incl_pfam'] == 0))\n",
    "                        & (df['fraction_of_Bif_domains_removed_incl_pfam'].isnull() | \n",
    "                           (df['fraction_of_Bif_domains_removed_incl_pfam'] == 0)), :]\n",
    "axs[0].set_title('activation\\ndomain')\n",
    "sns.swarmplot(data=tot_loss_activ,\n",
    "              y='activation_fold_change_log2', \n",
    "              x='fraction_of_AD_domains_removed_incl_pfam',\n",
    "              size=point_size,\n",
    "            clip_on=False,\n",
    "              ax=axs[0],\n",
    "              palette=palette,\n",
    "              hue=hue,\n",
    "               linewidth=1,\n",
    "               edgecolor=\"black\",\n",
    "              alpha=1)\n",
    "axs[0].set_xticks([])\n",
    "axs[0].set_xlabel('')\n",
    "axs[0].get_legend().remove()\n",
    "\n",
    "tbx5_y = df.loc[(df[\"clone_acc_alt\"] == \"TBX5|3/3|08H01\"), 'activation_fold_change_log2'].values[0]\n",
    "for point in axs[0].collections:\n",
    "    for x, y in point.get_offsets():\n",
    "        if np.isclose(tbx5_y, y):\n",
    "            print(\"found: %s, %s\" % (x, y))\n",
    "            axs[0].annotate(\"TBX5-3\", xy=(x, y), xytext=(0, -10), textcoords='offset points',\n",
    "                            arrowprops = dict(arrowstyle=\"-\", connectionstyle=\"arc3,rad=0.3\",\n",
    "                                              color='black'), \n",
    "                            ha=\"center\", va=\"top\", fontsize=7,\n",
    "                            bbox=dict(boxstyle='square,pad=0', fc='none', ec='none'))\n",
    "\n",
    "tot_loss_repr = df.loc[(df['fraction_of_RD_domains_removed_incl_pfam'] == 1)\n",
    "                          & (df['fraction_of_AD_domains_removed_incl_pfam'].isnull() | \n",
    "                             (df['fraction_of_AD_domains_removed_incl_pfam'] == 0))\n",
    "                          & (df['fraction_of_Bif_domains_removed_incl_pfam'].isnull() | \n",
    "                             (df['fraction_of_Bif_domains_removed_incl_pfam'] == 0)), :]\n",
    "axs[1].set_title('repression\\ndomain')\n",
    "sns.swarmplot(data=tot_loss_repr,\n",
    "              y='activation_fold_change_log2', \n",
    "              x='fraction_of_RD_domains_removed_incl_pfam',\n",
    "              size=point_size,\n",
    "            clip_on=False,\n",
    "              ax=axs[1],\n",
    "              palette=palette,\n",
    "              hue=hue,\n",
    "               linewidth=1,\n",
    "               edgecolor=\"black\",\n",
    "              alpha=1)\n",
    "axs[1].set_xticks([])\n",
    "axs[1].set_xlabel('')\n",
    "axs[1].get_legend().remove()\n",
    "\n",
    "dlx1_y = df.loc[(df[\"clone_acc_alt\"] == \"DLX1|2/2|07E09\"), 'activation_fold_change_log2'].values[0]\n",
    "for point in axs[1].collections:\n",
    "    for x, y in point.get_offsets():\n",
    "        if np.isclose(dlx1_y, y):\n",
    "            print(\"found: %s, %s\" % (x, y))\n",
    "            axs[1].annotate(\"DLX1-2\", xy=(x, y), xytext=(0, 10), textcoords='offset points',\n",
    "                            arrowprops = dict(arrowstyle=\"-\", connectionstyle=\"arc3,rad=0.3\",\n",
    "                                              color='black'), \n",
    "                            ha=\"center\", va=\"bottom\", fontsize=7,\n",
    "                            bbox=dict(boxstyle='square,pad=0', fc='none', ec='none'))\n",
    "\n",
    "\n",
    "tot_loss_both = df.loc[(df['fraction_of_AD_domains_removed_incl_pfam'] == 1) &\n",
    "                          (df['fraction_of_RD_domains_removed_incl_pfam'] == 1), :]\n",
    "axs[2].set_title('both activ. &\\nrepr. domains')\n",
    "sns.swarmplot(data=tot_loss_both,\n",
    "              y='activation_fold_change_log2', \n",
    "              x='fraction_of_RD_domains_removed_incl_pfam',\n",
    "              size=point_size,\n",
    "            clip_on=False,\n",
    "              ax=axs[2],\n",
    "              palette=palette,\n",
    "              hue=hue,\n",
    "               linewidth=1,\n",
    "               edgecolor=\"black\",\n",
    "              alpha=1)\n",
    "axs[2].set_xticks([])\n",
    "axs[2].set_xlabel('')\n",
    "axs[2].get_legend().remove()\n",
    "\n",
    "\n",
    "# now partial loss\n",
    "axs[3].set_title('activation\\ndomain')\n",
    "partial_loss_activ = df.loc[(df['m1h_gte_2_fold_at_least_one_iso_per_gene'] \n",
    "              & (df['fraction_of_AD_domains_removed_incl_pfam'] > 0) \n",
    "                & (df['fraction_of_AD_domains_removed_incl_pfam'] < 1)\n",
    "                        & (df['fraction_of_RD_domains_removed_incl_pfam'].isnull() | \n",
    "                           (df['fraction_of_RD_domains_removed_incl_pfam'] == 0))\n",
    "                          & (df['fraction_of_Bif_domains_removed_incl_pfam'].isnull() | \n",
    "                             (df['fraction_of_Bif_domains_removed_incl_pfam'] == 0))), :]\n",
    "axs[3].scatter(partial_loss_activ.loc[:, 'fraction_of_AD_domains_removed_incl_pfam'].values,\n",
    "               partial_loss_activ.loc[:, 'activation_fold_change_log2'].values,\n",
    "           alpha=1,\n",
    "           s=point_size**2,\n",
    "            c=partial_loss_activ.loc[:, color].values,\n",
    "               linewidth=1,\n",
    "               edgecolor=\"black\",\n",
    "           clip_on=False)\n",
    "axs[3].set_xlabel('')\n",
    "axs[3].set_xlim(1, 0)\n",
    "axs[3].set_xticks([0.99, 0.5, 0.01])\n",
    "axs[3].set_xticklabels([f'{x:.0%}' for x in axs[3].get_xticks()])\n",
    "\n",
    "\n",
    "axs[4].set_title('repression\\ndomain')\n",
    "partial_loss_repr = df.loc[(df['m1h_gte_2_fold_at_least_one_iso_per_gene'] \n",
    "                & (df['fraction_of_RD_domains_removed_incl_pfam'] > 0)\n",
    "                  &  (df['fraction_of_RD_domains_removed_incl_pfam'] < 1)\n",
    "                          & (df['fraction_of_AD_domains_removed_incl_pfam'].isnull() | \n",
    "                             (df['fraction_of_AD_domains_removed_incl_pfam'] == 0))\n",
    "                          & (df['fraction_of_Bif_domains_removed_incl_pfam'].isnull() | \n",
    "                             (df['fraction_of_Bif_domains_removed_incl_pfam'] == 0))), :]\n",
    "\n",
    "axs[4].scatter(partial_loss_repr.loc[:, 'fraction_of_RD_domains_removed_incl_pfam'].values,\n",
    "               partial_loss_repr.loc[:, 'activation_fold_change_log2'].values,\n",
    "           alpha=1,\n",
    "           s=point_size**2,\n",
    "            c=partial_loss_repr.loc[:, color].values,\n",
    "               linewidth=1,\n",
    "               edgecolor=\"black\",\n",
    "           clip_on=False)\n",
    "axs[4].set_xlabel('')\n",
    "axs[4].set_xlim(1, 0)\n",
    "axs[4].set_xticks([0.99, 0.5, 0.01])\n",
    "axs[4].set_xticklabels([f'{x:.0%}' for x in axs[4].get_xticks()])\n",
    "\n",
    "\n",
    "all_retained = df.loc[((df['fraction_of_AD_domains_removed_incl_pfam'] == 0) |\n",
    "                          (df['fraction_of_RD_domains_removed_incl_pfam'] == 0) |\n",
    "                          (df['fraction_of_Bif_domains_removed_incl_pfam'] == 0))\n",
    "                          & (df['fraction_of_AD_domains_removed_incl_pfam'].isnull() | (df['fraction_of_AD_domains_removed_incl_pfam'] == 0)) \n",
    "                           & (df['fraction_of_RD_domains_removed_incl_pfam'].isnull() | (df['fraction_of_RD_domains_removed_incl_pfam'] == 0)) \n",
    "                           & (df['fraction_of_Bif_domains_removed_incl_pfam'].isnull() | (df['fraction_of_Bif_domains_removed_incl_pfam'] == 0)) \n",
    "                           ,\n",
    "                           :]\n",
    "axs[5].set_title('All effector domains\\nin alt. iso.')\n",
    "sns.swarmplot(data=all_retained,\n",
    "              y='activation_fold_change_log2', \n",
    "              x='m1h_gte_2_fold_at_least_one_iso_per_gene',\n",
    "              size=point_size,\n",
    "            clip_on=False,\n",
    "              ax=axs[5],\n",
    "               linewidth=1,\n",
    "               edgecolor=\"black\",\n",
    "              alpha=1,\n",
    "              hue=hue,\n",
    "              palette=palette)\n",
    "axs[5].set_xticks([])\n",
    "axs[5].set_xlabel('')\n",
    "axs[5].get_legend().remove()\n",
    "\n",
    "# annotate pbx1 and rfx3\n",
    "pbx1_y = df.loc[(df[\"clone_acc_alt\"] == \"PBX1|2/2|02C05\"), 'activation_fold_change_log2'].values[0]\n",
    "rfx3_y = df.loc[(df[\"clone_acc_alt\"] == \"RFX3|3/5|08G08\"), 'activation_fold_change_log2'].values[0]\n",
    "rfx4_y = df.loc[(df[\"clone_acc_alt\"] == \"RFX3|4/5|11D09\"), 'activation_fold_change_log2'].values[0]\n",
    "creb5_y = df.loc[(df[\"clone_acc_alt\"] == \"CREB5|2/3|08A12\"), 'activation_fold_change_log2'].values[0]\n",
    "for point in axs[5].collections:\n",
    "    for x, y in point.get_offsets():\n",
    "        if np.isclose(pbx1_y, y):\n",
    "            print(\"found: %s, %s\" % (x, y))\n",
    "            axs[5].annotate(\"PBX1-2\", xy=(x, y), xytext=(-10, -10), textcoords='offset points',\n",
    "                            arrowprops = dict(arrowstyle=\"-\", connectionstyle=\"arc3,rad=0.3\",\n",
    "                                              color='black'), \n",
    "                            ha=\"center\", va=\"top\", fontsize=7,\n",
    "                            bbox=dict(boxstyle='square,pad=0', fc='none', ec='none'))\n",
    "        if np.isclose(rfx3_y, y):\n",
    "            print(\"found: %s, %s\" % (x, y))\n",
    "            axs[5].annotate(\"RFX3-3\", xy=(x, y), xytext=(-8, -7), textcoords='offset points',\n",
    "                            arrowprops = dict(arrowstyle=\"-\", connectionstyle=\"arc3,rad=-0.2\",\n",
    "                                              color='black'), \n",
    "                            ha=\"center\", va=\"top\", fontsize=7,\n",
    "                            bbox=dict(boxstyle='square,pad=0', fc='none', ec='none'))\n",
    "        if np.isclose(rfx4_y, y):\n",
    "            print(\"found: %s, %s\" % (x, y))\n",
    "            axs[5].annotate(\"RFX3-4\", xy=(x, y), xytext=(8, -8), textcoords='offset points',\n",
    "                            arrowprops = dict(arrowstyle=\"-\", connectionstyle=\"arc3,rad=0.3\",\n",
    "                                              color='black'), \n",
    "                            ha=\"center\", va=\"top\", fontsize=7,\n",
    "                            bbox=dict(boxstyle='square,pad=0', fc='none', ec='none'))\n",
    "        if np.isclose(creb5_y, y):\n",
    "            print(\"found: %s, %s\" % (x, y))\n",
    "            axs[5].annotate(\"CREB5-2\", xy=(x, y), xytext=(-23, -8), textcoords='offset points',\n",
    "                            arrowprops = dict(arrowstyle=\"-\", connectionstyle=\"arc3,rad=0.3\",\n",
    "                                              color='black'), \n",
    "                            ha=\"center\", va=\"top\", fontsize=7,\n",
    "                            bbox=dict(boxstyle='square,pad=0', fc='none', ec='none'))\n",
    "\n",
    "# missing stuff\n",
    "incl = pd.concat([tot_loss_activ, \n",
    "                  tot_loss_repr, \n",
    "                  tot_loss_both, \n",
    "                  partial_loss_activ, \n",
    "                  partial_loss_repr, \n",
    "                  all_retained])\n",
    "\n",
    "no_annot = df.loc[(~df.index.isin(incl.index.values)) & (pd.isnull(df[\"fraction_of_AD_domains_removed_incl_pfam\"])) &\n",
    "                  (pd.isnull(df[\"fraction_of_RD_domains_removed_incl_pfam\"])) & \n",
    "                  (pd.isnull(df[\"fraction_of_Bif_domains_removed_incl_pfam\"]))]\n",
    "axs[6].set_title('No annotated\\neffector domains')\n",
    "sns.swarmplot(data=no_annot,\n",
    "              y='activation_fold_change_log2', \n",
    "              x='m1h_gte_2_fold_at_least_one_iso_per_gene',\n",
    "              size=point_size,\n",
    "            clip_on=False,\n",
    "              ax=axs[6],\n",
    "              linewidth=1,\n",
    "               edgecolor=\"black\",\n",
    "              alpha=1,\n",
    "              color=sns.color_palette(\"flare\")[0])\n",
    "axs[6].set_xticks([])\n",
    "axs[6].set_xlabel('')\n",
    "\n",
    "\n",
    "# add colorbar\n",
    "# mirror figure\n",
    "fig2, axs2 = plt.subplots(1, 7, sharey=True, gridspec_kw=gs_kw)\n",
    "fig2.set_size_inches(w=8.2, h=2)\n",
    "map1 = axs2[6].imshow(np.stack([t, t]), cmap=\"flare\", vmin=25, vmax=250)\n",
    "cbar = fig.colorbar(map1, ax=axs[6], aspect=30, pad=0.2)\n",
    "cbar.set_ticks([25, 75, 150, 250])\n",
    "cbar.set_ticklabels([\"<=25\", \"75\", \"150\", \">=250\"])\n",
    "cbar.set_label(\"# AA in annotated domain\", labelpad=0)\n",
    "\n",
    "\n",
    "for ax in axs:\n",
    "    ax.spines['right'].set_visible(False)\n",
    "    ax.spines['top'].set_visible(False)\n",
    "    ax.set_ylim(-7.5, 7.5)\n",
    "    ax.axhline(y=0, color='black', linewidth=1, linestyle='dashed', zorder=1)\n",
    "for ax in axs[1:]:\n",
    "    ax.spines['left'].set_visible(False)\n",
    "    ax.yaxis.set_tick_params(which='both', length=0)\n",
    "    ax.set_ylabel(\"\")\n",
    "axs[0].set_ylabel(\"log2(activation fold change)\")\n",
    "fig.savefig('../../figures/fig4/activation_vs_domain_removal_incl_pfam_colored_by_dom_length.pdf', bbox_inches='tight')"
   ]
  },
  {
   "cell_type": "markdown",
   "metadata": {},
   "source": [
    "## 5. pie charts of PPI categories"
   ]
  },
  {
   "cell_type": "code",
   "execution_count": 21,
   "metadata": {},
   "outputs": [
    {
     "data": {
      "text/plain": [
       "1114"
      ]
     },
     "execution_count": 21,
     "metadata": {},
     "output_type": "execute_result"
    }
   ],
   "source": [
    "len(cats)"
   ]
  },
  {
   "cell_type": "code",
   "execution_count": 22,
   "metadata": {},
   "outputs": [
    {
     "data": {
      "text/plain": [
       "987"
      ]
     },
     "execution_count": 22,
     "metadata": {},
     "output_type": "execute_result"
    }
   ],
   "source": [
    "len(cats.gene_symbol_partner.unique())"
   ]
  },
  {
   "cell_type": "code",
   "execution_count": 23,
   "metadata": {},
   "outputs": [
    {
     "data": {
      "text/plain": [
       "TF                     239\n",
       "cofactor               165\n",
       "signaling              141\n",
       "other                  101\n",
       "metabolism              81\n",
       "cytoskeleton            77\n",
       "protein turnover        60\n",
       "RNA processing          59\n",
       "vesicle transport       47\n",
       "cell cycle              36\n",
       "DNA repair              28\n",
       "translation             20\n",
       "cell-cell signaling     19\n",
       "membrane protein        14\n",
       "RNA turnover             9\n",
       "DNA polymerase           6\n",
       "nuclear transport        6\n",
       "DNA replication          5\n",
       "protein traffiking       1\n",
       "Name: category, dtype: int64"
      ]
     },
     "execution_count": 23,
     "metadata": {},
     "output_type": "execute_result"
    }
   ],
   "source": [
    "cats.category.value_counts()"
   ]
  },
  {
   "cell_type": "code",
   "execution_count": 24,
   "metadata": {},
   "outputs": [
    {
     "data": {
      "text/plain": [
       "500"
      ]
     },
     "execution_count": 24,
     "metadata": {},
     "output_type": "execute_result"
    }
   ],
   "source": [
    "y2h_nonan = y2h[~pd.isnull(y2h[\"Y2H_result\"])]\n",
    "len(y2h_nonan.db_gene_symbol.unique())"
   ]
  },
  {
   "cell_type": "code",
   "execution_count": 25,
   "metadata": {},
   "outputs": [
    {
     "data": {
      "text/html": [
       "<div>\n",
       "<style scoped>\n",
       "    .dataframe tbody tr th:only-of-type {\n",
       "        vertical-align: middle;\n",
       "    }\n",
       "\n",
       "    .dataframe tbody tr th {\n",
       "        vertical-align: top;\n",
       "    }\n",
       "\n",
       "    .dataframe thead th {\n",
       "        text-align: right;\n",
       "    }\n",
       "</style>\n",
       "<table border=\"1\" class=\"dataframe\">\n",
       "  <thead>\n",
       "    <tr style=\"text-align: right;\">\n",
       "      <th></th>\n",
       "      <th>ad_gene_symbol</th>\n",
       "      <th>db_gene_symbol</th>\n",
       "    </tr>\n",
       "  </thead>\n",
       "  <tbody>\n",
       "    <tr>\n",
       "      <th>0</th>\n",
       "      <td>ATF2</td>\n",
       "      <td>ATF2</td>\n",
       "    </tr>\n",
       "    <tr>\n",
       "      <th>4</th>\n",
       "      <td>ATF2</td>\n",
       "      <td>JDP2</td>\n",
       "    </tr>\n",
       "    <tr>\n",
       "      <th>39</th>\n",
       "      <td>ATF2</td>\n",
       "      <td>FOSL2</td>\n",
       "    </tr>\n",
       "    <tr>\n",
       "      <th>73</th>\n",
       "      <td>ATF2</td>\n",
       "      <td>MAPK9</td>\n",
       "    </tr>\n",
       "    <tr>\n",
       "      <th>122</th>\n",
       "      <td>CREB5</td>\n",
       "      <td>EFEMP2</td>\n",
       "    </tr>\n",
       "    <tr>\n",
       "      <th>...</th>\n",
       "      <td>...</td>\n",
       "      <td>...</td>\n",
       "    </tr>\n",
       "    <tr>\n",
       "      <th>10218</th>\n",
       "      <td>TCF12</td>\n",
       "      <td>HEXIM2</td>\n",
       "    </tr>\n",
       "    <tr>\n",
       "      <th>10246</th>\n",
       "      <td>DDIT3</td>\n",
       "      <td>ZBTB25</td>\n",
       "    </tr>\n",
       "    <tr>\n",
       "      <th>10247</th>\n",
       "      <td>DDIT3</td>\n",
       "      <td>ZC3H14</td>\n",
       "    </tr>\n",
       "    <tr>\n",
       "      <th>10271</th>\n",
       "      <td>TCF12</td>\n",
       "      <td>EPHB6</td>\n",
       "    </tr>\n",
       "    <tr>\n",
       "      <th>10278</th>\n",
       "      <td>TCF12</td>\n",
       "      <td>FAM50B</td>\n",
       "    </tr>\n",
       "  </tbody>\n",
       "</table>\n",
       "<p>786 rows × 2 columns</p>\n",
       "</div>"
      ],
      "text/plain": [
       "      ad_gene_symbol db_gene_symbol\n",
       "0               ATF2           ATF2\n",
       "4               ATF2           JDP2\n",
       "39              ATF2          FOSL2\n",
       "73              ATF2          MAPK9\n",
       "122            CREB5         EFEMP2\n",
       "...              ...            ...\n",
       "10218          TCF12         HEXIM2\n",
       "10246          DDIT3         ZBTB25\n",
       "10247          DDIT3         ZC3H14\n",
       "10271          TCF12          EPHB6\n",
       "10278          TCF12         FAM50B\n",
       "\n",
       "[786 rows x 2 columns]"
      ]
     },
     "execution_count": 25,
     "metadata": {},
     "output_type": "execute_result"
    }
   ],
   "source": [
    "ggi = y2h_nonan[[\"ad_gene_symbol\", \"db_gene_symbol\"]].drop_duplicates()\n",
    "ggi"
   ]
  },
  {
   "cell_type": "code",
   "execution_count": 26,
   "metadata": {},
   "outputs": [
    {
     "data": {
      "text/plain": [
       "506"
      ]
     },
     "execution_count": 26,
     "metadata": {},
     "output_type": "execute_result"
    }
   ],
   "source": [
    "# limiting df to those that are in the y2h iso data\n",
    "cats_y2h = cats[cats[\"gene_symbol_partner\"].isin(ggi[\"db_gene_symbol\"])]\n",
    "len(cats_y2h)"
   ]
  },
  {
   "cell_type": "code",
   "execution_count": 27,
   "metadata": {},
   "outputs": [
    {
     "data": {
      "text/html": [
       "<div>\n",
       "<style scoped>\n",
       "    .dataframe tbody tr th:only-of-type {\n",
       "        vertical-align: middle;\n",
       "    }\n",
       "\n",
       "    .dataframe tbody tr th {\n",
       "        vertical-align: top;\n",
       "    }\n",
       "\n",
       "    .dataframe thead th {\n",
       "        text-align: right;\n",
       "    }\n",
       "</style>\n",
       "<table border=\"1\" class=\"dataframe\">\n",
       "  <thead>\n",
       "    <tr style=\"text-align: right;\">\n",
       "      <th></th>\n",
       "      <th>gene_symbol_partner</th>\n",
       "      <th>category</th>\n",
       "    </tr>\n",
       "  </thead>\n",
       "  <tbody>\n",
       "    <tr>\n",
       "      <th>9</th>\n",
       "      <td>ARHGEF5</td>\n",
       "      <td>2</td>\n",
       "    </tr>\n",
       "    <tr>\n",
       "      <th>24</th>\n",
       "      <td>BARD1</td>\n",
       "      <td>3</td>\n",
       "    </tr>\n",
       "    <tr>\n",
       "      <th>48</th>\n",
       "      <td>CCNK</td>\n",
       "      <td>2</td>\n",
       "    </tr>\n",
       "    <tr>\n",
       "      <th>51</th>\n",
       "      <td>CDCA7L</td>\n",
       "      <td>2</td>\n",
       "    </tr>\n",
       "    <tr>\n",
       "      <th>53</th>\n",
       "      <td>CDK3</td>\n",
       "      <td>3</td>\n",
       "    </tr>\n",
       "  </tbody>\n",
       "</table>\n",
       "</div>"
      ],
      "text/plain": [
       "   gene_symbol_partner  category\n",
       "9              ARHGEF5         2\n",
       "24               BARD1         3\n",
       "48                CCNK         2\n",
       "51              CDCA7L         2\n",
       "53                CDK3         3"
      ]
     },
     "execution_count": 27,
     "metadata": {},
     "output_type": "execute_result"
    }
   ],
   "source": [
    "cats_dupe = cats_y2h.groupby(\"gene_symbol_partner\")[\"category\"].agg(\"count\").reset_index()\n",
    "cats_dupe[cats_dupe[\"category\"] > 1].head()"
   ]
  },
  {
   "cell_type": "code",
   "execution_count": 28,
   "metadata": {},
   "outputs": [
    {
     "data": {
      "text/html": [
       "<div>\n",
       "<style scoped>\n",
       "    .dataframe tbody tr th:only-of-type {\n",
       "        vertical-align: middle;\n",
       "    }\n",
       "\n",
       "    .dataframe tbody tr th {\n",
       "        vertical-align: top;\n",
       "    }\n",
       "\n",
       "    .dataframe thead th {\n",
       "        text-align: right;\n",
       "    }\n",
       "</style>\n",
       "<table border=\"1\" class=\"dataframe\">\n",
       "  <thead>\n",
       "    <tr style=\"text-align: right;\">\n",
       "      <th></th>\n",
       "      <th>gene_symbol_partner</th>\n",
       "      <th>category</th>\n",
       "      <th>cofactor_type</th>\n",
       "    </tr>\n",
       "  </thead>\n",
       "  <tbody>\n",
       "    <tr>\n",
       "      <th>30</th>\n",
       "      <td>BARD1</td>\n",
       "      <td>cofactor</td>\n",
       "      <td>both</td>\n",
       "    </tr>\n",
       "    <tr>\n",
       "      <th>31</th>\n",
       "      <td>BARD1</td>\n",
       "      <td>RNA processing</td>\n",
       "      <td>NaN</td>\n",
       "    </tr>\n",
       "    <tr>\n",
       "      <th>32</th>\n",
       "      <td>BARD1</td>\n",
       "      <td>DNA repair</td>\n",
       "      <td>NaN</td>\n",
       "    </tr>\n",
       "  </tbody>\n",
       "</table>\n",
       "</div>"
      ],
      "text/plain": [
       "   gene_symbol_partner        category cofactor_type\n",
       "30               BARD1        cofactor          both\n",
       "31               BARD1  RNA processing           NaN\n",
       "32               BARD1      DNA repair           NaN"
      ]
     },
     "execution_count": 28,
     "metadata": {},
     "output_type": "execute_result"
    }
   ],
   "source": [
    "# keeping partners that are assigned more than 1 category for now...\n",
    "cats_y2h[cats_y2h[\"gene_symbol_partner\"] == \"BARD1\"]"
   ]
  },
  {
   "cell_type": "code",
   "execution_count": 29,
   "metadata": {},
   "outputs": [
    {
     "name": "stderr",
     "output_type": "stream",
     "text": [
      "/PHShome/kz659/.conda/envs/py36/lib/python3.6/site-packages/ipykernel_launcher.py:11: SettingWithCopyWarning: \n",
      "A value is trying to be set on a copy of a slice from a DataFrame.\n",
      "Try using .loc[row_indexer,col_indexer] = value instead\n",
      "\n",
      "See the caveats in the documentation: https://pandas.pydata.org/pandas-docs/stable/user_guide/indexing.html#returning-a-view-versus-a-copy\n",
      "  # This is added back by InteractiveShellApp.init_path()\n"
     ]
    },
    {
     "data": {
      "text/plain": [
       "other        235\n",
       "TF           128\n",
       "cofactor      78\n",
       "signaling     65\n",
       "Name: partner_category, dtype: int64"
      ]
     },
     "execution_count": 29,
     "metadata": {},
     "output_type": "execute_result"
    }
   ],
   "source": [
    "def categorize_PPI_partner(row):\n",
    "    if row['category'] == \"TF\":\n",
    "        return 'TF'\n",
    "    elif row['category'] == \"cofactor\":\n",
    "        return 'cofactor'\n",
    "    elif row['category'] == \"signaling\":\n",
    "        return 'signaling'\n",
    "    else:\n",
    "        return 'other'\n",
    "    \n",
    "cats_y2h[\"partner_category\"] = cats_y2h.apply(categorize_PPI_partner, axis=1)\n",
    "cats_y2h.partner_category.value_counts()"
   ]
  },
  {
   "cell_type": "code",
   "execution_count": 30,
   "metadata": {},
   "outputs": [
    {
     "data": {
      "image/png": "[encoded data removed]",
      "text/plain": [
       "<Figure size 86.4x86.4 with 1 Axes>"
      ]
     },
     "metadata": {},
     "output_type": "display_data"
    }
   ],
   "source": [
    "ys = np.array([len(cats_y2h[cats_y2h[\"partner_category\"] == \"TF\"]), len(cats_y2h[cats_y2h[\"partner_category\"] == \"cofactor\"]),\n",
    "               len(cats_y2h[cats_y2h[\"partner_category\"] == \"signaling\"]),\n",
    "              len(cats_y2h[cats_y2h[\"partner_category\"] == \"other\"])])\n",
    "labels = [\"TF\", \"cofactor\", \"signaling\", \"other\"]\n",
    "colors = [sns.color_palette(\"Set2\")[2], sns.color_palette(\"Set2\")[1], sns.color_palette(\"Set2\")[5], \"darkgray\"]\n",
    "\n",
    "fig, ax = plt.subplots(figsize=(1.2, 1.2), subplot_kw=dict(aspect=\"equal\"))\n",
    "ws, ls, ns = ax.pie(ys, colors=colors, labels=labels, autopct='%1.0f%%', startangle=-45, \n",
    "                    explode=(0.02, 0.2, 0.05, 0.05))\n",
    "\n",
    "for n, w in zip(ns, ws):\n",
    "    w.set_linewidth(0.5)\n",
    "    w.set_edgecolor(\"black\")\n",
    "    n.set_fontweight(\"bold\")\n",
    "\n",
    "fig.savefig(\"../../figures/fig4/PPIs-gene-level-manual-categories_simplified.pdf\", dpi=\"figure\", bbox_inches=\"tight\")"
   ]
  },
  {
   "cell_type": "code",
   "execution_count": 31,
   "metadata": {},
   "outputs": [],
   "source": [
    "cofactor_partners = set(cats_y2h.loc[cats_y2h['category'] == 'cofactor', 'gene_symbol_partner'].unique())\n",
    "coactivator_partners = set(cats_y2h.loc[cats_y2h['cofactor_type'] == 'coactivator', 'gene_symbol_partner'].unique())\n",
    "corepressor_partners = set(cats_y2h.loc[cats_y2h['cofactor_type'] == 'corepressor', 'gene_symbol_partner'].unique())\n",
    "both_partners = set(cats_y2h.loc[cats_y2h['cofactor_type'] == 'both', 'gene_symbol_partner'].unique())\n",
    "signaling_partners = set(cats_y2h.loc[cats_y2h['category'] == 'signaling', 'gene_symbol_partner'].unique())\n",
    "cofactor_animal_db = set(cof['Symbol'].unique())\n",
    "tf_gene_symbols = set(load_human_tf_db()['HGNC symbol'].values)"
   ]
  },
  {
   "cell_type": "code",
   "execution_count": 32,
   "metadata": {},
   "outputs": [
    {
     "name": "stderr",
     "output_type": "stream",
     "text": [
      "/PHShome/kz659/.conda/envs/py36/lib/python3.6/site-packages/ipykernel_launcher.py:14: SettingWithCopyWarning: \n",
      "A value is trying to be set on a copy of a slice from a DataFrame.\n",
      "Try using .loc[row_indexer,col_indexer] = value instead\n",
      "\n",
      "See the caveats in the documentation: https://pandas.pydata.org/pandas-docs/stable/user_guide/indexing.html#returning-a-view-versus-a-copy\n",
      "  \n"
     ]
    },
    {
     "data": {
      "text/plain": [
       "NA             428\n",
       "corepressor     29\n",
       "coactivator     28\n",
       "both            12\n",
       "unknown          9\n",
       "Name: cofactor_type, dtype: int64"
      ]
     },
     "execution_count": 32,
     "metadata": {},
     "output_type": "execute_result"
    }
   ],
   "source": [
    "def categorize_cofactors(row):\n",
    "    if row[\"partner_category\"] == \"cofactor\":\n",
    "        if row[\"gene_symbol_partner\"] in both_partners:\n",
    "            return \"both\"\n",
    "        elif row[\"gene_symbol_partner\"] in coactivator_partners:\n",
    "            return \"coactivator\"\n",
    "        elif row[\"gene_symbol_partner\"] in corepressor_partners:\n",
    "            return \"corepressor\"\n",
    "        else:\n",
    "            return \"unknown\"\n",
    "    else:\n",
    "        return \"NA\"\n",
    "    \n",
    "cats_y2h[\"cofactor_type\"] = cats_y2h.apply(categorize_cofactors, axis=1)\n",
    "cats_y2h.cofactor_type.value_counts()"
   ]
  },
  {
   "cell_type": "code",
   "execution_count": 33,
   "metadata": {},
   "outputs": [
    {
     "data": {
      "image/png": "[encoded data removed]",
      "text/plain": [
       "<Figure size 86.4x86.4 with 1 Axes>"
      ]
     },
     "metadata": {},
     "output_type": "display_data"
    }
   ],
   "source": [
    "cofacs = cats_y2h[cats_y2h[\"partner_category\"] == \"cofactor\"]\n",
    "\n",
    "ys = np.array([len(cofacs[cofacs[\"cofactor_type\"] == \"coactivator\"]), \n",
    "               len(cofacs[cofacs[\"cofactor_type\"] == \"corepressor\"]),\n",
    "               len(cofacs[cofacs[\"cofactor_type\"] == \"both\"]),\n",
    "               len(cofacs[cofacs[\"cofactor_type\"] == \"unknown\"])])\n",
    "labels = [\"coactivator\", \"corepressor\", \"both\", \"unknown\"]\n",
    "colors = [sns.color_palette(\"Set2\")[0], sns.color_palette(\"Set2\")[3], sns.color_palette(\"Set2\")[4], \"darkgray\"]\n",
    "\n",
    "fig, ax = plt.subplots(figsize=(1.2, 1.2), subplot_kw=dict(aspect=\"equal\"))\n",
    "ws, ls, ns = ax.pie(ys, colors=colors, labels=labels, autopct='%1.0f%%', startangle=60, \n",
    "                    explode=(0.05, 0.05, 0.05, 0.1))\n",
    "\n",
    "for n, w in zip(ns, ws):\n",
    "    w.set_linewidth(0.5)\n",
    "    w.set_edgecolor(\"black\")\n",
    "    n.set_fontweight(\"bold\")\n",
    "\n",
    "fig.savefig(\"../../figures/fig4/PPIs-gene-level-manual-categories_cofactors.pdf\", dpi=\"figure\", bbox_inches=\"tight\")"
   ]
  },
  {
   "cell_type": "markdown",
   "metadata": {},
   "source": [
    "## 6. plot the relationship between gain/loss of PPIs and changes in activity\n",
    "\n",
    "# TO-DO: Luke is updating the PPI list and we will use gain/loss of cofactors not separated by coactivator/corepressor and absolute fc plots"
   ]
  },
  {
   "cell_type": "code",
   "execution_count": 34,
   "metadata": {},
   "outputs": [],
   "source": [
    "def add_restricted_ppi_columns(pairs, rows, label):\n",
    "    pairs_cf = pairs[['clone_acc_ref', 'clone_acc_alt']].copy()\n",
    "    _add_PPI_columns(df=pairs_cf, y2h=y2h.loc[rows, :])\n",
    "    return pd.merge(pairs, \n",
    "                    pairs_cf,\n",
    "                    how='left',\n",
    "                    on=['clone_acc_ref', 'clone_acc_alt'],\n",
    "                    suffixes=('', '_' + label))"
   ]
  },
  {
   "cell_type": "code",
   "execution_count": 35,
   "metadata": {},
   "outputs": [],
   "source": [
    "pairs = add_restricted_ppi_columns(pairs, \n",
    "                           rows=y2h['db_gene_symbol'].isin(cofactor_partners),\n",
    "                           label='cofactors'\n",
    ")\n",
    "pairs = add_restricted_ppi_columns(pairs, \n",
    "                           rows=y2h['db_gene_symbol'].isin(cofactor_animal_db),\n",
    "                           label='cofactors_animal_db'\n",
    ")\n",
    "pairs = add_restricted_ppi_columns(pairs, \n",
    "                           rows=(y2h['db_gene_symbol'].isin(coactivator_partners) &\n",
    "                                 y2h['db_gene_symbol'].isin(hek_expressed_genes)),\n",
    "                           label='coactivators_HEK'\n",
    ")\n",
    "pairs = add_restricted_ppi_columns(pairs, \n",
    "                           rows=(y2h['db_gene_symbol'].isin(coactivator_partners) &\n",
    "                                 ~y2h['db_gene_symbol'].isin(hek_expressed_genes)),\n",
    "                           label='coactivators_not_HEK'\n",
    ")\n",
    "pairs = add_restricted_ppi_columns(pairs, \n",
    "                           rows=~y2h['db_gene_symbol'].isin(cofactor_partners),\n",
    "                           label='not_cofactors'\n",
    ")\n",
    "pairs = add_restricted_ppi_columns(pairs, \n",
    "                           rows=y2h['db_gene_symbol'].isin(coactivator_partners),\n",
    "                           label='coactivators'\n",
    ")\n",
    "pairs = add_restricted_ppi_columns(pairs, \n",
    "                           rows=y2h['db_gene_symbol'].isin(corepressor_partners),\n",
    "                           label='corepressors'\n",
    ")\n",
    "pairs = add_restricted_ppi_columns(pairs, \n",
    "                           rows=(y2h['db_gene_symbol'].isin(corepressor_partners) &\n",
    "                                 y2h['db_gene_symbol'].isin(hek_expressed_genes)),\n",
    "                           label='corepressors_HEK'\n",
    ")\n",
    "pairs = add_restricted_ppi_columns(pairs, \n",
    "                           rows=y2h['db_gene_symbol'].isin(tf_gene_symbols),\n",
    "                           label='tfs'\n",
    ")\n",
    "\n",
    "pairs = add_restricted_ppi_columns(pairs, \n",
    "                           rows=(y2h['db_gene_symbol'].isin(signaling_partners) &\n",
    "                                 y2h['db_gene_symbol'].isin(hek_expressed_genes)),\n",
    "                           label='signaling_HEK'\n",
    ")"
   ]
  },
  {
   "cell_type": "code",
   "execution_count": 36,
   "metadata": {},
   "outputs": [],
   "source": [
    "def bar_activation_vs_ppi(x, y, pairs=pairs, x_label=None, y_label=None, color=None):\n",
    "    \"\"\"\n",
    "    TODO:\n",
    "        - calculate p-value properly\n",
    "            - this requires permuting in some smart way\n",
    "            - one question is whether the genes are the number of independent data points or the isoforms are\n",
    "            - I think the answer is the isoforms are\n",
    "    \n",
    "    \"\"\"\n",
    "    df = pairs.copy()\n",
    "    if x_label is None:\n",
    "        x_label = x\n",
    "    if y_label is None:\n",
    "        y_label = y\n",
    "    if color is None:\n",
    "        color = sns.color_palette(\"Set2\")[1]\n",
    "    fig, ax = plt.subplots(1, 1, figsize=(1.75, 1.5))\n",
    "\n",
    "    def bin_delta_ppi(delta_ppi):\n",
    "        if pd.isnull(delta_ppi):\n",
    "            return np.nan\n",
    "        if delta_ppi < 0:\n",
    "            return 'loss'\n",
    "        elif delta_ppi > 0:\n",
    "            return 'gain'\n",
    "        elif delta_ppi == 0:\n",
    "            return 'equal'\n",
    "        else:\n",
    "            raise ValueError(delta_ppi)\n",
    "\n",
    "\n",
    "    df[x + '_binned'] = df[x].apply(bin_delta_ppi)\n",
    "    sns.stripplot(data=df,\n",
    "                  x=x + '_binned',\n",
    "                  y=y,\n",
    "                  order=['loss', 'equal', 'gain'],\n",
    "                  alpha=0.75,\n",
    "                  color=color,\n",
    "                  linewidth=1,\n",
    "                  edgecolor=\"black\",\n",
    "                  ax=ax)\n",
    "    if False:\n",
    "        sns.pointplot(data=df,\n",
    "                    x=x + '_binned',\n",
    "                    y=y,\n",
    "                    order=['loss', 'equal', 'gain'],\n",
    "                    alpha=0.5,\n",
    "                    color='black',\n",
    "                    ax=ax)\n",
    "    if True:\n",
    "        sns.boxplot(data=df,\n",
    "                    x=x + '_binned',\n",
    "                    y=y,\n",
    "                    order=['loss', 'equal', 'gain'],\n",
    "                    fliersize=0,\n",
    "                    color=color,\n",
    "                    ax=ax)\n",
    "        mimic_r_boxplot(ax)\n",
    "    else:\n",
    "        sns.violinplot(data=df,\n",
    "                    x=x + '_binned',\n",
    "                    y=y,\n",
    "                    order=['loss', 'equal', 'gain'],\n",
    "                    color='lightgrey',\n",
    "                    ax=ax)\n",
    "    ax.set_xlabel(x_label)\n",
    "    ax.set_ylabel(y_label)\n",
    "    with_data = (df[x].notnull() & df[y].notnull())\n",
    "    n_pair = with_data.sum()\n",
    "    n_iso = len(set(df.loc[with_data, ['clone_acc_ref', 'clone_acc_alt']].values.flatten()))\n",
    "    n_gene = df.loc[with_data, 'gene_symbol'].nunique()\n",
    "    scc, p_scc = stats.spearmanr(df.loc[df[x].notnull() & df[y].notnull(), x].values,\n",
    "                    df.loc[df[x].notnull() & df[y].notnull(), y].values)\n",
    "    ax.text(s=f'{n_pair:d} pairs\\n{n_iso:d} isoforms\\n{n_gene:d} genes\\nSpearman r = {scc:.2f}\\np = {p_scc:.2f}',\n",
    "            x=1.03,\n",
    "            y=0.95,\n",
    "            ha='left',\n",
    "            va='top',\n",
    "            transform=ax.transAxes)\n",
    "    #ax.set_ylim(-4, 4) # NOTE cuts outlier TODO add broken axis\n",
    "    ax.axhline(y=0, color='black', linestyle=\"dashed\", linewidth=1)\n",
    "    for pos in ['top', 'bottom', 'right']:\n",
    "        ax.spines[pos].set_visible(False)\n",
    "    ax.xaxis.set_tick_params(length=0)\n",
    "    fig.savefig(f'../../figures/fig4/{x}-vs-{y}_scatter.pdf',\n",
    "                bbox_inches='tight')"
   ]
  },
  {
   "cell_type": "code",
   "execution_count": 37,
   "metadata": {},
   "outputs": [],
   "source": [
    "pairs['activation_abs_fold_change'] = pairs['activation_fold_change_log2'].abs()"
   ]
  },
  {
   "cell_type": "code",
   "execution_count": 38,
   "metadata": {},
   "outputs": [
    {
     "data": {
      "image/png": "[encoded data removed]",
      "text/plain": [
       "<Figure size 126x108 with 1 Axes>"
      ]
     },
     "metadata": {},
     "output_type": "display_data"
    }
   ],
   "source": [
    "bar_activation_vs_ppi(\n",
    "    pairs=pairs.loc[pairs['at_least_one_isoform_in_gene_abs_activation_gte_2fold'] == True, :],\n",
    "    x='PPI_delta_n',\n",
    "    y='activation_fold_change_log2',\n",
    "    x_label='Net difference in number of PPIs',\n",
    "    y_label='log-2 fold-change in activation')"
   ]
  },
  {
   "cell_type": "code",
   "execution_count": 39,
   "metadata": {},
   "outputs": [
    {
     "data": {
      "image/png": "[encoded data removed]",
      "text/plain": [
       "<Figure size 126x108 with 1 Axes>"
      ]
     },
     "metadata": {},
     "output_type": "display_data"
    }
   ],
   "source": [
    "bar_activation_vs_ppi(\n",
    "    pairs=pairs.loc[pairs['at_least_one_isoform_in_gene_abs_activation_gte_2fold'] == True, :],\n",
    "    x='PPI_delta_n_corepressors_HEK',\n",
    "    y='activation_fold_change_log2',\n",
    "    x_label='Difference in number of corepressor PPIs\\nrestricted to those expressed in HEK293 cells',\n",
    "    y_label='log-2 fold-change in activation',\n",
    "    color=sns.color_palette(\"Set2\")[3])"
   ]
  },
  {
   "cell_type": "code",
   "execution_count": 40,
   "metadata": {},
   "outputs": [
    {
     "data": {
      "image/png": "[encoded data removed]",
      "text/plain": [
       "<Figure size 126x108 with 1 Axes>"
      ]
     },
     "metadata": {},
     "output_type": "display_data"
    }
   ],
   "source": [
    "bar_activation_vs_ppi(\n",
    "    pairs=pairs.loc[pairs['at_least_one_isoform_in_gene_abs_activation_gte_2fold'] == True, :],\n",
    "    x='PPI_delta_n_coactivators',\n",
    "    y='activation_fold_change_log2',\n",
    "    x_label='Difference in number of coactivator PPIs\\nrestricted to those expressed in HEK293 cells',\n",
    "    y_label='log-2 fold-change in activation',\n",
    "    color=sns.color_palette(\"Set2\")[0])"
   ]
  },
  {
   "cell_type": "code",
   "execution_count": 41,
   "metadata": {},
   "outputs": [
    {
     "data": {
      "image/png": "[encoded data removed]",
      "text/plain": [
       "<Figure size 126x108 with 1 Axes>"
      ]
     },
     "metadata": {},
     "output_type": "display_data"
    }
   ],
   "source": [
    "bar_activation_vs_ppi(\n",
    "    pairs=pairs.loc[pairs['at_least_one_isoform_in_gene_abs_activation_gte_2fold'] == True, :],\n",
    "    x='PPI_delta_n_signaling_HEK',\n",
    "    y='activation_fold_change_log2',\n",
    "    x_label='Difference in number of signaling PPIs\\nrestricted to those expressed in HEK293 cells',\n",
    "    y_label='log-2 fold-change in activation',\n",
    "    color=sns.color_palette(\"Set2\")[5])"
   ]
  },
  {
   "cell_type": "code",
   "execution_count": 42,
   "metadata": {},
   "outputs": [
    {
     "data": {
      "text/html": [
       "<div>\n",
       "<style scoped>\n",
       "    .dataframe tbody tr th:only-of-type {\n",
       "        vertical-align: middle;\n",
       "    }\n",
       "\n",
       "    .dataframe tbody tr th {\n",
       "        vertical-align: top;\n",
       "    }\n",
       "\n",
       "    .dataframe thead th {\n",
       "        text-align: right;\n",
       "    }\n",
       "</style>\n",
       "<table border=\"1\" class=\"dataframe\">\n",
       "  <thead>\n",
       "    <tr style=\"text-align: right;\">\n",
       "      <th></th>\n",
       "      <th>clone_acc_ref</th>\n",
       "      <th>clone_acc_alt</th>\n",
       "      <th>at_least_one_isoform_in_gene_abs_activation_gte_2fold</th>\n",
       "      <th>PPI_delta_n_coactivators_HEK</th>\n",
       "      <th>activation_fold_change_log2</th>\n",
       "    </tr>\n",
       "  </thead>\n",
       "  <tbody>\n",
       "    <tr>\n",
       "      <th>357</th>\n",
       "      <td>TCF4|1/9|07E01</td>\n",
       "      <td>TCF4|6/9|07H03</td>\n",
       "      <td>True</td>\n",
       "      <td>-4.0</td>\n",
       "      <td>-1.598357</td>\n",
       "    </tr>\n",
       "    <tr>\n",
       "      <th>356</th>\n",
       "      <td>TCF4|1/9|07E01</td>\n",
       "      <td>TCF4|5/9|07C02</td>\n",
       "      <td>True</td>\n",
       "      <td>-3.0</td>\n",
       "      <td>-1.369125</td>\n",
       "    </tr>\n",
       "    <tr>\n",
       "      <th>353</th>\n",
       "      <td>TCF4|1/9|07E01</td>\n",
       "      <td>TCF4|2/9|07E03</td>\n",
       "      <td>True</td>\n",
       "      <td>0.0</td>\n",
       "      <td>0.102610</td>\n",
       "    </tr>\n",
       "    <tr>\n",
       "      <th>359</th>\n",
       "      <td>TCF4|1/9|07E01</td>\n",
       "      <td>TCF4|8/9|07A05</td>\n",
       "      <td>True</td>\n",
       "      <td>-3.0</td>\n",
       "      <td>0.455881</td>\n",
       "    </tr>\n",
       "    <tr>\n",
       "      <th>354</th>\n",
       "      <td>TCF4|1/9|07E01</td>\n",
       "      <td>TCF4|3/9|07C04</td>\n",
       "      <td>True</td>\n",
       "      <td>0.0</td>\n",
       "      <td>0.621134</td>\n",
       "    </tr>\n",
       "    <tr>\n",
       "      <th>355</th>\n",
       "      <td>TCF4|1/9|07E01</td>\n",
       "      <td>TCF4|4/9|07G02</td>\n",
       "      <td>True</td>\n",
       "      <td>0.0</td>\n",
       "      <td>0.699990</td>\n",
       "    </tr>\n",
       "    <tr>\n",
       "      <th>358</th>\n",
       "      <td>TCF4|1/9|07E01</td>\n",
       "      <td>TCF4|7/9|07G03</td>\n",
       "      <td>True</td>\n",
       "      <td>-3.0</td>\n",
       "      <td>0.721583</td>\n",
       "    </tr>\n",
       "  </tbody>\n",
       "</table>\n",
       "</div>"
      ],
      "text/plain": [
       "      clone_acc_ref   clone_acc_alt  \\\n",
       "357  TCF4|1/9|07E01  TCF4|6/9|07H03   \n",
       "356  TCF4|1/9|07E01  TCF4|5/9|07C02   \n",
       "353  TCF4|1/9|07E01  TCF4|2/9|07E03   \n",
       "359  TCF4|1/9|07E01  TCF4|8/9|07A05   \n",
       "354  TCF4|1/9|07E01  TCF4|3/9|07C04   \n",
       "355  TCF4|1/9|07E01  TCF4|4/9|07G02   \n",
       "358  TCF4|1/9|07E01  TCF4|7/9|07G03   \n",
       "\n",
       "    at_least_one_isoform_in_gene_abs_activation_gte_2fold  \\\n",
       "357                                               True      \n",
       "356                                               True      \n",
       "353                                               True      \n",
       "359                                               True      \n",
       "354                                               True      \n",
       "355                                               True      \n",
       "358                                               True      \n",
       "\n",
       "     PPI_delta_n_coactivators_HEK  activation_fold_change_log2  \n",
       "357                          -4.0                    -1.598357  \n",
       "356                          -3.0                    -1.369125  \n",
       "353                           0.0                     0.102610  \n",
       "359                          -3.0                     0.455881  \n",
       "354                           0.0                     0.621134  \n",
       "355                           0.0                     0.699990  \n",
       "358                          -3.0                     0.721583  "
      ]
     },
     "execution_count": 42,
     "metadata": {},
     "output_type": "execute_result"
    }
   ],
   "source": [
    "pairs[pairs['gene_symbol'] == 'TCF4'].sort_values(by='activation_fold_change_log2')[['clone_acc_ref',\n",
    "                                                                                     'clone_acc_alt',\n",
    "                                                                                     'at_least_one_isoform_in_gene_abs_activation_gte_2fold',\n",
    "                                                                                     'PPI_delta_n_coactivators_HEK',\n",
    "                                                                                     'activation_fold_change_log2']]"
   ]
  },
  {
   "cell_type": "markdown",
   "metadata": {},
   "source": [
    "## 7. dimerizing TFs: plot conservation of interactions across isoforms"
   ]
  },
  {
   "cell_type": "code",
   "execution_count": 43,
   "metadata": {},
   "outputs": [
    {
     "data": {
      "text/html": [
       "<div>\n",
       "<style scoped>\n",
       "    .dataframe tbody tr th:only-of-type {\n",
       "        vertical-align: middle;\n",
       "    }\n",
       "\n",
       "    .dataframe tbody tr th {\n",
       "        vertical-align: top;\n",
       "    }\n",
       "\n",
       "    .dataframe thead th {\n",
       "        text-align: right;\n",
       "    }\n",
       "</style>\n",
       "<table border=\"1\" class=\"dataframe\">\n",
       "  <thead>\n",
       "    <tr style=\"text-align: right;\">\n",
       "      <th></th>\n",
       "      <th>ad_clone_acc</th>\n",
       "      <th>ad_gene_symbol</th>\n",
       "      <th>db_gene_symbol</th>\n",
       "      <th>Y2H_result</th>\n",
       "    </tr>\n",
       "  </thead>\n",
       "  <tbody>\n",
       "    <tr>\n",
       "      <th>0</th>\n",
       "      <td>ATF2|1/6|12H04</td>\n",
       "      <td>ATF2</td>\n",
       "      <td>ATF2</td>\n",
       "      <td>True</td>\n",
       "    </tr>\n",
       "    <tr>\n",
       "      <th>3</th>\n",
       "      <td>ATF2|1/6|12H04</td>\n",
       "      <td>ATF2</td>\n",
       "      <td>FOSL2</td>\n",
       "      <td>NaN</td>\n",
       "    </tr>\n",
       "    <tr>\n",
       "      <th>4</th>\n",
       "      <td>ATF2|1/6|12H04</td>\n",
       "      <td>ATF2</td>\n",
       "      <td>JDP2</td>\n",
       "      <td>True</td>\n",
       "    </tr>\n",
       "    <tr>\n",
       "      <th>12</th>\n",
       "      <td>ATF2|2/6|09E05</td>\n",
       "      <td>ATF2</td>\n",
       "      <td>ATF2</td>\n",
       "      <td>True</td>\n",
       "    </tr>\n",
       "    <tr>\n",
       "      <th>15</th>\n",
       "      <td>ATF2|2/6|09E05</td>\n",
       "      <td>ATF2</td>\n",
       "      <td>FOSL2</td>\n",
       "      <td>NaN</td>\n",
       "    </tr>\n",
       "  </tbody>\n",
       "</table>\n",
       "</div>"
      ],
      "text/plain": [
       "      ad_clone_acc ad_gene_symbol db_gene_symbol Y2H_result\n",
       "0   ATF2|1/6|12H04           ATF2           ATF2       True\n",
       "3   ATF2|1/6|12H04           ATF2          FOSL2        NaN\n",
       "4   ATF2|1/6|12H04           ATF2           JDP2       True\n",
       "12  ATF2|2/6|09E05           ATF2           ATF2       True\n",
       "15  ATF2|2/6|09E05           ATF2          FOSL2        NaN"
      ]
     },
     "execution_count": 43,
     "metadata": {},
     "output_type": "execute_result"
    }
   ],
   "source": [
    "ppi = load_y2h_isoform_data(require_at_least_one_ppi_per_isoform=True)\n",
    "ppi.head()"
   ]
  },
  {
   "cell_type": "code",
   "execution_count": 44,
   "metadata": {},
   "outputs": [
    {
     "data": {
      "text/html": [
       "<div>\n",
       "<style scoped>\n",
       "    .dataframe tbody tr th:only-of-type {\n",
       "        vertical-align: middle;\n",
       "    }\n",
       "\n",
       "    .dataframe tbody tr th {\n",
       "        vertical-align: top;\n",
       "    }\n",
       "\n",
       "    .dataframe thead th {\n",
       "        text-align: right;\n",
       "    }\n",
       "</style>\n",
       "<table border=\"1\" class=\"dataframe\">\n",
       "  <thead>\n",
       "    <tr style=\"text-align: right;\">\n",
       "      <th></th>\n",
       "      <th>ad_gene_symbol</th>\n",
       "      <th>db_gene_symbol</th>\n",
       "      <th>f_iso_positive</th>\n",
       "    </tr>\n",
       "  </thead>\n",
       "  <tbody>\n",
       "    <tr>\n",
       "      <th>0</th>\n",
       "      <td>ARNT2</td>\n",
       "      <td>EIF3E</td>\n",
       "      <td>1.0</td>\n",
       "    </tr>\n",
       "    <tr>\n",
       "      <th>1</th>\n",
       "      <td>ARNT2</td>\n",
       "      <td>LMO3</td>\n",
       "      <td>1.0</td>\n",
       "    </tr>\n",
       "    <tr>\n",
       "      <th>2</th>\n",
       "      <td>ARNT2</td>\n",
       "      <td>NABP1</td>\n",
       "      <td>1.0</td>\n",
       "    </tr>\n",
       "    <tr>\n",
       "      <th>3</th>\n",
       "      <td>ARNT2</td>\n",
       "      <td>NRBP1</td>\n",
       "      <td>1.0</td>\n",
       "    </tr>\n",
       "    <tr>\n",
       "      <th>4</th>\n",
       "      <td>ARNT2</td>\n",
       "      <td>SCNM1</td>\n",
       "      <td>0.5</td>\n",
       "    </tr>\n",
       "    <tr>\n",
       "      <th>...</th>\n",
       "      <td>...</td>\n",
       "      <td>...</td>\n",
       "      <td>...</td>\n",
       "    </tr>\n",
       "    <tr>\n",
       "      <th>781</th>\n",
       "      <td>ZSCAN18</td>\n",
       "      <td>ZNF792</td>\n",
       "      <td>0.5</td>\n",
       "    </tr>\n",
       "    <tr>\n",
       "      <th>782</th>\n",
       "      <td>ZSCAN18</td>\n",
       "      <td>ZSCAN22</td>\n",
       "      <td>0.5</td>\n",
       "    </tr>\n",
       "    <tr>\n",
       "      <th>783</th>\n",
       "      <td>ZSCAN9</td>\n",
       "      <td>SCAND1</td>\n",
       "      <td>0.5</td>\n",
       "    </tr>\n",
       "    <tr>\n",
       "      <th>784</th>\n",
       "      <td>ZSCAN9</td>\n",
       "      <td>SRPK2</td>\n",
       "      <td>0.5</td>\n",
       "    </tr>\n",
       "    <tr>\n",
       "      <th>785</th>\n",
       "      <td>ZSCAN9</td>\n",
       "      <td>ZNF446</td>\n",
       "      <td>1.0</td>\n",
       "    </tr>\n",
       "  </tbody>\n",
       "</table>\n",
       "<p>786 rows × 3 columns</p>\n",
       "</div>"
      ],
      "text/plain": [
       "    ad_gene_symbol db_gene_symbol  f_iso_positive\n",
       "0            ARNT2          EIF3E             1.0\n",
       "1            ARNT2           LMO3             1.0\n",
       "2            ARNT2          NABP1             1.0\n",
       "3            ARNT2          NRBP1             1.0\n",
       "4            ARNT2          SCNM1             0.5\n",
       "..             ...            ...             ...\n",
       "781        ZSCAN18         ZNF792             0.5\n",
       "782        ZSCAN18        ZSCAN22             0.5\n",
       "783         ZSCAN9         SCAND1             0.5\n",
       "784         ZSCAN9          SRPK2             0.5\n",
       "785         ZSCAN9         ZNF446             1.0\n",
       "\n",
       "[786 rows x 3 columns]"
      ]
     },
     "execution_count": 44,
     "metadata": {},
     "output_type": "execute_result"
    }
   ],
   "source": [
    "n_iso_per_ppi = (ppi.groupby(['ad_gene_symbol', 'db_gene_symbol']))['ad_clone_acc'].agg(\"count\").reset_index()\n",
    "n_true_iso_per_ppi = (ppi[ppi['Y2H_result'] == True].groupby(['ad_gene_symbol', \n",
    "                                                              'db_gene_symbol']))['ad_clone_acc'].agg(\"count\").reset_index()\n",
    "n_iso_per_ppi = n_iso_per_ppi.merge(n_true_iso_per_ppi, on=['ad_gene_symbol', 'db_gene_symbol'], how='left')\n",
    "n_iso_per_ppi['f_iso_positive'] = n_iso_per_ppi['ad_clone_acc_y']/n_iso_per_ppi['ad_clone_acc_x']\n",
    "n_iso_per_ppi = n_iso_per_ppi[['ad_gene_symbol', 'db_gene_symbol', 'f_iso_positive']]\n",
    "n_iso_per_ppi"
   ]
  },
  {
   "cell_type": "code",
   "execution_count": 45,
   "metadata": {},
   "outputs": [],
   "source": [
    "n_iso_per_ppi = pd.merge(n_iso_per_ppi,\n",
    "                         ppi.groupby(['ad_gene_symbol',\n",
    "                                      'db_gene_symbol'])\n",
    "                                ['Y2H_result']\n",
    "                                .apply(lambda x: x.notnull().sum())\n",
    "                                .rename('n_iso_successfully_tested')\n",
    "                                .reset_index(),\n",
    "                            how='left',\n",
    "                            on=['ad_gene_symbol', 'db_gene_symbol'],\n",
    "                            )\n",
    "if n_iso_per_ppi['n_iso_successfully_tested'].isnull().any():\n",
    "    raise UserWarning('unexpected missing values')\n",
    "n_iso_per_ppi = n_iso_per_ppi.loc[n_iso_per_ppi['n_iso_successfully_tested'] >= 2, :]"
   ]
  },
  {
   "cell_type": "code",
   "execution_count": 46,
   "metadata": {},
   "outputs": [],
   "source": [
    "tf_fam = load_tf_families()"
   ]
  },
  {
   "cell_type": "code",
   "execution_count": 47,
   "metadata": {},
   "outputs": [],
   "source": [
    "n_iso_per_ppi['db_is_tf'] = n_iso_per_ppi['db_gene_symbol'].isin(tf_fam)\n",
    "n_iso_per_ppi['ad_tf_family'] = n_iso_per_ppi['ad_gene_symbol'].map(tf_fam)\n",
    "n_iso_per_ppi['db_tf_family'] = n_iso_per_ppi['db_gene_symbol'].map(tf_fam)"
   ]
  },
  {
   "cell_type": "code",
   "execution_count": 48,
   "metadata": {},
   "outputs": [
    {
     "data": {
      "text/html": [
       "<div>\n",
       "<style scoped>\n",
       "    .dataframe tbody tr th:only-of-type {\n",
       "        vertical-align: middle;\n",
       "    }\n",
       "\n",
       "    .dataframe tbody tr th {\n",
       "        vertical-align: top;\n",
       "    }\n",
       "\n",
       "    .dataframe thead th {\n",
       "        text-align: right;\n",
       "    }\n",
       "</style>\n",
       "<table border=\"1\" class=\"dataframe\">\n",
       "  <thead>\n",
       "    <tr style=\"text-align: right;\">\n",
       "      <th></th>\n",
       "      <th>ad_gene_symbol</th>\n",
       "      <th>db_gene_symbol</th>\n",
       "      <th>f_iso_positive</th>\n",
       "      <th>n_iso_successfully_tested</th>\n",
       "      <th>db_is_tf</th>\n",
       "      <th>ad_tf_family</th>\n",
       "      <th>db_tf_family</th>\n",
       "      <th>dimer_cat</th>\n",
       "    </tr>\n",
       "  </thead>\n",
       "  <tbody>\n",
       "    <tr>\n",
       "      <th>0</th>\n",
       "      <td>ARNT2</td>\n",
       "      <td>EIF3E</td>\n",
       "      <td>1.0</td>\n",
       "      <td>2</td>\n",
       "      <td>False</td>\n",
       "      <td>bHLH</td>\n",
       "      <td>NaN</td>\n",
       "      <td>Dimerizing TF / other</td>\n",
       "    </tr>\n",
       "    <tr>\n",
       "      <th>1</th>\n",
       "      <td>ARNT2</td>\n",
       "      <td>LMO3</td>\n",
       "      <td>1.0</td>\n",
       "      <td>2</td>\n",
       "      <td>False</td>\n",
       "      <td>bHLH</td>\n",
       "      <td>NaN</td>\n",
       "      <td>Dimerizing TF / other</td>\n",
       "    </tr>\n",
       "    <tr>\n",
       "      <th>2</th>\n",
       "      <td>ARNT2</td>\n",
       "      <td>NABP1</td>\n",
       "      <td>1.0</td>\n",
       "      <td>2</td>\n",
       "      <td>False</td>\n",
       "      <td>bHLH</td>\n",
       "      <td>NaN</td>\n",
       "      <td>Dimerizing TF / other</td>\n",
       "    </tr>\n",
       "    <tr>\n",
       "      <th>3</th>\n",
       "      <td>ARNT2</td>\n",
       "      <td>NRBP1</td>\n",
       "      <td>1.0</td>\n",
       "      <td>2</td>\n",
       "      <td>False</td>\n",
       "      <td>bHLH</td>\n",
       "      <td>NaN</td>\n",
       "      <td>Dimerizing TF / other</td>\n",
       "    </tr>\n",
       "    <tr>\n",
       "      <th>4</th>\n",
       "      <td>ARNT2</td>\n",
       "      <td>SCNM1</td>\n",
       "      <td>0.5</td>\n",
       "      <td>2</td>\n",
       "      <td>False</td>\n",
       "      <td>bHLH</td>\n",
       "      <td>NaN</td>\n",
       "      <td>Dimerizing TF / other</td>\n",
       "    </tr>\n",
       "  </tbody>\n",
       "</table>\n",
       "</div>"
      ],
      "text/plain": [
       "  ad_gene_symbol db_gene_symbol  f_iso_positive  n_iso_successfully_tested  \\\n",
       "0          ARNT2          EIF3E             1.0                          2   \n",
       "1          ARNT2           LMO3             1.0                          2   \n",
       "2          ARNT2          NABP1             1.0                          2   \n",
       "3          ARNT2          NRBP1             1.0                          2   \n",
       "4          ARNT2          SCNM1             0.5                          2   \n",
       "\n",
       "   db_is_tf ad_tf_family db_tf_family              dimer_cat  \n",
       "0     False         bHLH          NaN  Dimerizing TF / other  \n",
       "1     False         bHLH          NaN  Dimerizing TF / other  \n",
       "2     False         bHLH          NaN  Dimerizing TF / other  \n",
       "3     False         bHLH          NaN  Dimerizing TF / other  \n",
       "4     False         bHLH          NaN  Dimerizing TF / other  "
      ]
     },
     "execution_count": 48,
     "metadata": {},
     "output_type": "execute_result"
    }
   ],
   "source": [
    "def tf_tf_dimer_ppi_catagories(row):\n",
    "    is_dimer_ad = row['ad_tf_family'] in DIMERIZING_TF_FAMILIES\n",
    "    if pd.isnull(row['db_tf_family']):\n",
    "        if is_dimer_ad:\n",
    "            return 'Dimerizing TF / other'\n",
    "        else:\n",
    "            return 'Non-dimerizing TF / other'\n",
    "    else:  # TF-TF PPI\n",
    "        if is_dimer_ad:\n",
    "            if row['db_tf_family'] == row['ad_tf_family']:\n",
    "                return 'Dimerzing TF-TF PPI'\n",
    "            else:\n",
    "                return 'Outside family TF-TF PPI'\n",
    "        else:\n",
    "            if row['db_tf_family'] == row['ad_tf_family']:\n",
    "                return 'Non-dimer TF-TF PPI'\n",
    "            else:\n",
    "                return 'Outside family TF-TF PPI'\n",
    "\n",
    "\n",
    "n_iso_per_ppi['dimer_cat'] = n_iso_per_ppi.apply(tf_tf_dimer_ppi_catagories,\n",
    "                                                 axis=1)\n",
    "\n",
    "n_iso_per_ppi.head()"
   ]
  },
  {
   "cell_type": "code",
   "execution_count": 49,
   "metadata": {},
   "outputs": [
    {
     "data": {
      "text/plain": [
       "{'Dimerizing TF / other': 0.0,\n",
       " 'Outside family TF-TF PPI': 0.0,\n",
       " 'Non-dimer TF-TF PPI': 0.0,\n",
       " 'Non-dimerizing TF / other': 0.0}"
      ]
     },
     "execution_count": 49,
     "metadata": {},
     "output_type": "execute_result"
    }
   ],
   "source": [
    "# permutation test\n",
    "cats = [\n",
    " 'Dimerzing TF-TF PPI',\n",
    " 'Dimerizing TF / other',\n",
    " 'Outside family TF-TF PPI',\n",
    " 'Non-dimer TF-TF PPI',\n",
    " 'Non-dimerizing TF / other',\n",
    " ]\n",
    "\n",
    "rnd_vals = {}\n",
    "obs_val = {}\n",
    "for cat in cats[1:]:\n",
    "    rnd_vals[cat] = []\n",
    "    obs_val[cat] = (n_iso_per_ppi.loc[n_iso_per_ppi['dimer_cat'] == cats[0], \n",
    "                                            'f_iso_positive'].mean() - \n",
    "                n_iso_per_ppi.loc[n_iso_per_ppi['dimer_cat'] == cat, \n",
    "                                            'f_iso_positive'].mean())\n",
    "for _i in range(1000):\n",
    "    rand_cats = n_iso_per_ppi['dimer_cat'].sample(frac=1).reset_index(drop=True)  # equivalent to shuffle\n",
    "    for cat in cats[1:]:\n",
    "        rnd_vals[cat].append(n_iso_per_ppi.loc[rand_cats == cats[0], \n",
    "                                            'f_iso_positive'].mean() - \n",
    "                            n_iso_per_ppi.loc[rand_cats == cat, \n",
    "                                            'f_iso_positive'].mean())\n",
    "\n",
    "pvals = {}\n",
    "for cat in cats[1:]:\n",
    "    pvals[cat] = sum(v >= obs_val[cat] for v in rnd_vals[cat]) / len(rnd_vals[cat])\n",
    "pvals"
   ]
  },
  {
   "cell_type": "code",
   "execution_count": 50,
   "metadata": {},
   "outputs": [
    {
     "name": "stdout",
     "output_type": "stream",
     "text": [
      "p-value annotation legend:\n",
      "      ns: 5.00e-02 < p <= 1.00e+00\n",
      "       *: 1.00e-02 < p <= 5.00e-02\n",
      "      **: 1.00e-03 < p <= 1.00e-02\n",
      "     ***: 1.00e-04 < p <= 1.00e-03\n",
      "    ****: p <= 1.00e-04\n",
      "\n",
      "Dimerzing TF-TF PPI vs. Dimerizing TF / other: ****\n",
      "Dimerzing TF-TF PPI vs. Outside family TF-TF PPI: ****\n",
      "Dimerzing TF-TF PPI vs. Non-dimer TF-TF PPI: ****\n",
      "Dimerzing TF-TF PPI vs. Non-dimerizing TF / other: ****\n"
     ]
    },
    {
     "data": {
      "image/png": "[encoded data removed]",
      "text/plain": [
       "<Figure size 144x144 with 1 Axes>"
      ]
     },
     "metadata": {},
     "output_type": "display_data"
    }
   ],
   "source": [
    "# n for each bar\n",
    "# axis labels etc.\n",
    "fig, ax = plt.subplots(1, 1)\n",
    "fig.set_size_inches(w=2, h=2)\n",
    "violinplot_reflected(data=n_iso_per_ppi,\n",
    "              x='dimer_cat',\n",
    "              y='f_iso_positive',\n",
    "              inner=None,\n",
    "              cut=0,\n",
    "              color=sns.color_palette(\"Set2\")[0],\n",
    "              order=cats,\n",
    "              ax=ax)\n",
    "\n",
    "pairs_to_test = [(cats[0], cat) for cat in cats[1:]]\n",
    "annotator = Annotator(ax=ax, pairs=pairs_to_test, data=n_iso_per_ppi, x='dimer_cat', y='f_iso_positive', order=cats)\n",
    "annotator.configure(loc='outside')\n",
    "\n",
    "# TODO: set this programmatically\n",
    "annotator.annotate_custom_annotations(['****',\n",
    "                                       '****',\n",
    "                                       '****',\n",
    "                                       '****'])\n",
    "\n",
    "# TODO: set the statistic and error bar calculation\n",
    "sns.pointplot(data=n_iso_per_ppi,\n",
    "              x='dimer_cat',\n",
    "              y='f_iso_positive',\n",
    "              order=cats,\n",
    "              color='black',\n",
    "              linestyles='',\n",
    "              edgecolors='black',\n",
    "              linewidth=1,\n",
    "              ax=ax)\n",
    "ax.set_ylabel('Fraction isoforms interacting')\n",
    "ax.set_xlabel('')\n",
    "\n",
    "ax.set_xticklabels(cats, rotation=30, ha='right', va='top')\n",
    "\n",
    "ax.set_ylim(0, 1)\n",
    "ax.spines['right'].set_visible(False)\n",
    "ax.spines['top'].set_visible(False)\n",
    "\n",
    "fig.savefig('../../figures/fig4/n_iso_ppi_by_dimer_cat.pdf',\n",
    "            bbox_inches='tight')"
   ]
  },
  {
   "cell_type": "markdown",
   "metadata": {},
   "source": [
    "## 8. dimerizing TFs: plot M1H change"
   ]
  },
  {
   "cell_type": "code",
   "execution_count": 51,
   "metadata": {},
   "outputs": [
    {
     "data": {
      "text/plain": [
       "446"
      ]
     },
     "execution_count": 51,
     "metadata": {},
     "output_type": "execute_result"
    }
   ],
   "source": [
    "len(pairs)"
   ]
  },
  {
   "cell_type": "code",
   "execution_count": 52,
   "metadata": {},
   "outputs": [
    {
     "data": {
      "text/plain": [
       "327"
      ]
     },
     "execution_count": 52,
     "metadata": {},
     "output_type": "execute_result"
    }
   ],
   "source": [
    "len(pairs[~pd.isnull(pairs['activation_abs_fold_change'])])"
   ]
  },
  {
   "cell_type": "code",
   "execution_count": 53,
   "metadata": {},
   "outputs": [
    {
     "data": {
      "text/plain": [
       "is_dimerizing_TF_family\n",
       "False    1.052070\n",
       "True     1.335931\n",
       "Name: activation_abs_fold_change, dtype: float64"
      ]
     },
     "execution_count": 53,
     "metadata": {},
     "output_type": "execute_result"
    }
   ],
   "source": [
    "pairs[~pd.isnull(pairs['activation_abs_fold_change'])].groupby(\"is_dimerizing_TF_family\")[\"activation_abs_fold_change\"].agg(\"mean\")"
   ]
  },
  {
   "cell_type": "code",
   "execution_count": 54,
   "metadata": {},
   "outputs": [
    {
     "name": "stdout",
     "output_type": "stream",
     "text": [
      "0.0748717606382262\n",
      "p-value annotation legend:\n",
      "      ns: 5.00e-02 < p <= 1.00e+00\n",
      "       *: 1.00e-02 < p <= 5.00e-02\n",
      "      **: 1.00e-03 < p <= 1.00e-02\n",
      "     ***: 1.00e-04 < p <= 1.00e-03\n",
      "    ****: p <= 1.00e-04\n",
      "\n",
      "True vs. False: P = 0.075\n"
     ]
    },
    {
     "data": {
      "image/png": "[encoded data removed]",
      "text/plain": [
       "<Figure size 86.4x144 with 1 Axes>"
      ]
     },
     "metadata": {},
     "output_type": "display_data"
    }
   ],
   "source": [
    "# absolute difference\n",
    "fig, ax = plt.subplots(1, 1)\n",
    "fig.set_size_inches(w=1.2, h=2)\n",
    "sns.boxplot(data=pairs, x='is_dimerizing_TF_family', y='activation_abs_fold_change', \n",
    "            order=[True, False], ax=ax, boxprops={'facecolor': 'w'})#, fliersize=0)\n",
    "#sns.stripplot(data=df, x='is_dimerizing_tf', y='m1h_abs_change', order=[True, False], ax=ax, color='.25')\n",
    "ax.set_xlabel('Is dimerizing TF')\n",
    "ax.set_ylabel('absolute log2 fold change of M1H activation\\nbetween reference and alternative isoforms')\n",
    "ax.xaxis.set_tick_params(rotation=90, length=0)\n",
    "for loc in ['bottom', 'right', 'top']:\n",
    "    ax.spines[loc].set_visible(False)\n",
    "\n",
    "# p-value\n",
    "pval = stats.mannwhitneyu(pairs.loc[pairs['is_dimerizing_TF_family'] & pairs['activation_abs_fold_change'].notnull(), 'activation_abs_fold_change'].values,\n",
    "                          pairs.loc[~pairs['is_dimerizing_TF_family'] & pairs['activation_abs_fold_change'].notnull(), 'activation_abs_fold_change'].values)[1]\n",
    "print(pval)\n",
    "annotator = Annotator(ax=ax, pairs=[(True, False)], data=pairs, x='is_dimerizing_TF_family', y='activation_abs_fold_change', order=[True, False],)\n",
    "annotator.configure(loc='outside')\n",
    "# TODO: set this programmatically\n",
    "annotator.annotate_custom_annotations(['P = {:.3f}'.format(pval)])\n",
    "plt.savefig('../../figures/fig4/M1H-absolute-change_by-dimerizing-TF-family_boxplot.pdf',\n",
    "            bbox_inches='tight')"
   ]
  },
  {
   "cell_type": "markdown",
   "metadata": {},
   "source": [
    "## 9. dimerizing TFs: retained interactions heatmap"
   ]
  },
  {
   "cell_type": "code",
   "execution_count": 55,
   "metadata": {},
   "outputs": [
    {
     "data": {
      "text/html": [
       "<div>\n",
       "<style scoped>\n",
       "    .dataframe tbody tr th:only-of-type {\n",
       "        vertical-align: middle;\n",
       "    }\n",
       "\n",
       "    .dataframe tbody tr th {\n",
       "        vertical-align: top;\n",
       "    }\n",
       "\n",
       "    .dataframe thead th {\n",
       "        text-align: right;\n",
       "    }\n",
       "</style>\n",
       "<table border=\"1\" class=\"dataframe\">\n",
       "  <thead>\n",
       "    <tr style=\"text-align: right;\">\n",
       "      <th></th>\n",
       "      <th>ad_gene_symbol</th>\n",
       "      <th>db_gene_symbol</th>\n",
       "      <th>ad_dbd</th>\n",
       "      <th>db_dbd</th>\n",
       "    </tr>\n",
       "  </thead>\n",
       "  <tbody>\n",
       "    <tr>\n",
       "      <th>0</th>\n",
       "      <td>ATF2</td>\n",
       "      <td>ATF2</td>\n",
       "      <td>bZIP</td>\n",
       "      <td>bZIP</td>\n",
       "    </tr>\n",
       "    <tr>\n",
       "      <th>4</th>\n",
       "      <td>ATF2</td>\n",
       "      <td>JDP2</td>\n",
       "      <td>bZIP</td>\n",
       "      <td>bZIP</td>\n",
       "    </tr>\n",
       "    <tr>\n",
       "      <th>39</th>\n",
       "      <td>ATF2</td>\n",
       "      <td>FOSL2</td>\n",
       "      <td>bZIP</td>\n",
       "      <td>bZIP</td>\n",
       "    </tr>\n",
       "    <tr>\n",
       "      <th>123</th>\n",
       "      <td>CREB5</td>\n",
       "      <td>FOSL2</td>\n",
       "      <td>bZIP</td>\n",
       "      <td>bZIP</td>\n",
       "    </tr>\n",
       "    <tr>\n",
       "      <th>155</th>\n",
       "      <td>GLI1</td>\n",
       "      <td>PIN1</td>\n",
       "      <td>C2H2 ZF</td>\n",
       "      <td>MBD</td>\n",
       "    </tr>\n",
       "  </tbody>\n",
       "</table>\n",
       "</div>"
      ],
      "text/plain": [
       "    ad_gene_symbol db_gene_symbol   ad_dbd db_dbd\n",
       "0             ATF2           ATF2     bZIP   bZIP\n",
       "4             ATF2           JDP2     bZIP   bZIP\n",
       "39            ATF2          FOSL2     bZIP   bZIP\n",
       "123          CREB5          FOSL2     bZIP   bZIP\n",
       "155           GLI1           PIN1  C2H2 ZF    MBD"
      ]
     },
     "execution_count": 55,
     "metadata": {},
     "output_type": "execute_result"
    }
   ],
   "source": [
    "# TF-TF binding\n",
    "tftf = ppi.loc[ppi['Y2H_result'] == True, ['ad_gene_symbol', 'db_gene_symbol']].drop_duplicates().copy()\n",
    "tftf['ad_dbd'] = tftf['ad_gene_symbol'].map(tf_fam)\n",
    "tftf['db_dbd'] = tftf['db_gene_symbol'].map(tf_fam)\n",
    "tftf = tftf.dropna()\n",
    "tftf.head()"
   ]
  },
  {
   "cell_type": "code",
   "execution_count": 56,
   "metadata": {},
   "outputs": [],
   "source": [
    "# TF-TF rewiring\n",
    "tftf = pd.merge(tftf, \n",
    "        (ppi.groupby(['ad_gene_symbol', 'db_gene_symbol'])['Y2H_result'].apply(lambda x: (x == False).sum()) / \n",
    " ppi.groupby(['ad_gene_symbol', 'db_gene_symbol'])['Y2H_result'].apply(lambda x: (x.notnull().sum()))).reset_index(),\n",
    "        how='left',\n",
    "        on=['ad_gene_symbol', 'db_gene_symbol'])"
   ]
  },
  {
   "cell_type": "code",
   "execution_count": 57,
   "metadata": {},
   "outputs": [
    {
     "data": {
      "text/plain": [
       "TCF4      12\n",
       "TCF12     10\n",
       "ARNTL2     2\n",
       "ESRRA      2\n",
       "MEOX1      2\n",
       "ZNF438     1\n",
       "IKZF2      1\n",
       "ESRRG      1\n",
       "ARNT2      1\n",
       "FOS        1\n",
       "ZBTB44     1\n",
       "Name: ad_gene_symbol, dtype: int64"
      ]
     },
     "execution_count": 57,
     "metadata": {},
     "output_type": "execute_result"
    }
   ],
   "source": [
    "tftf.loc[tftf['db_dbd'] == 'bHLH', 'ad_gene_symbol'].value_counts()"
   ]
  },
  {
   "cell_type": "code",
   "execution_count": 58,
   "metadata": {},
   "outputs": [
    {
     "data": {
      "text/plain": [
       "{'AP-2',\n",
       " 'ARID/BRIGHT',\n",
       " 'BED ZF',\n",
       " 'CENPB',\n",
       " 'E2F',\n",
       " 'EBF1',\n",
       " 'GCM',\n",
       " 'Grainyhead',\n",
       " 'HSF',\n",
       " 'IRF',\n",
       " 'MADF',\n",
       " 'MADS box',\n",
       " 'Myb/SANT',\n",
       " 'Nuclear receptor',\n",
       " 'RFX',\n",
       " 'Rel',\n",
       " 'SAND',\n",
       " 'SMAD',\n",
       " 'STAT',\n",
       " 'bHLH',\n",
       " 'bZIP',\n",
       " 'p53'}"
      ]
     },
     "execution_count": 58,
     "metadata": {},
     "output_type": "execute_result"
    }
   ],
   "source": [
    "DIMERIZING_TF_FAMILIES"
   ]
  },
  {
   "cell_type": "code",
   "execution_count": 59,
   "metadata": {},
   "outputs": [
    {
     "data": {
      "text/plain": [
       "30"
      ]
     },
     "execution_count": 59,
     "metadata": {},
     "output_type": "execute_result"
    }
   ],
   "source": [
    "fams = tf_fam.value_counts().index\n",
    "fams = list(filter(lambda x: x in tftf['ad_dbd'].unique() or x in tftf['db_dbd'].unique(), fams))\n",
    "len(fams)"
   ]
  },
  {
   "cell_type": "code",
   "execution_count": 60,
   "metadata": {},
   "outputs": [
    {
     "data": {
      "text/html": [
       "<div>\n",
       "<style scoped>\n",
       "    .dataframe tbody tr th:only-of-type {\n",
       "        vertical-align: middle;\n",
       "    }\n",
       "\n",
       "    .dataframe tbody tr th {\n",
       "        vertical-align: top;\n",
       "    }\n",
       "\n",
       "    .dataframe thead th {\n",
       "        text-align: right;\n",
       "    }\n",
       "</style>\n",
       "<table border=\"1\" class=\"dataframe\">\n",
       "  <thead>\n",
       "    <tr style=\"text-align: right;\">\n",
       "      <th></th>\n",
       "      <th>C2H2 ZF</th>\n",
       "      <th>Homeodomain</th>\n",
       "      <th>bHLH</th>\n",
       "      <th>Unknown</th>\n",
       "      <th>bZIP</th>\n",
       "      <th>Forkhead</th>\n",
       "      <th>Nuclear receptor</th>\n",
       "      <th>HMG/Sox</th>\n",
       "      <th>Ets</th>\n",
       "      <th>T-box</th>\n",
       "      <th>...</th>\n",
       "      <th>C2H2 ZF; Homeodomain</th>\n",
       "      <th>C2H2 ZF; AT hook</th>\n",
       "      <th>TBP</th>\n",
       "      <th>CCCH ZF</th>\n",
       "      <th>p53</th>\n",
       "      <th>Pipsqueak</th>\n",
       "      <th>CSL</th>\n",
       "      <th>C2H2 ZF; BED ZF</th>\n",
       "      <th>CBF/NF-Y</th>\n",
       "      <th>TCR/CxC</th>\n",
       "    </tr>\n",
       "  </thead>\n",
       "  <tbody>\n",
       "    <tr>\n",
       "      <th>C2H2 ZF</th>\n",
       "      <td>52</td>\n",
       "      <td>7</td>\n",
       "      <td>3</td>\n",
       "      <td>1</td>\n",
       "      <td>0</td>\n",
       "      <td>0</td>\n",
       "      <td>2</td>\n",
       "      <td>2</td>\n",
       "      <td>0</td>\n",
       "      <td>1</td>\n",
       "      <td>...</td>\n",
       "      <td>0</td>\n",
       "      <td>1</td>\n",
       "      <td>0</td>\n",
       "      <td>2</td>\n",
       "      <td>0</td>\n",
       "      <td>0</td>\n",
       "      <td>0</td>\n",
       "      <td>1</td>\n",
       "      <td>0</td>\n",
       "      <td>1</td>\n",
       "    </tr>\n",
       "    <tr>\n",
       "      <th>Homeodomain</th>\n",
       "      <td>6</td>\n",
       "      <td>14</td>\n",
       "      <td>2</td>\n",
       "      <td>1</td>\n",
       "      <td>0</td>\n",
       "      <td>0</td>\n",
       "      <td>1</td>\n",
       "      <td>0</td>\n",
       "      <td>1</td>\n",
       "      <td>0</td>\n",
       "      <td>...</td>\n",
       "      <td>0</td>\n",
       "      <td>0</td>\n",
       "      <td>1</td>\n",
       "      <td>0</td>\n",
       "      <td>0</td>\n",
       "      <td>0</td>\n",
       "      <td>0</td>\n",
       "      <td>0</td>\n",
       "      <td>0</td>\n",
       "      <td>0</td>\n",
       "    </tr>\n",
       "    <tr>\n",
       "      <th>bHLH</th>\n",
       "      <td>5</td>\n",
       "      <td>6</td>\n",
       "      <td>25</td>\n",
       "      <td>0</td>\n",
       "      <td>0</td>\n",
       "      <td>0</td>\n",
       "      <td>0</td>\n",
       "      <td>0</td>\n",
       "      <td>0</td>\n",
       "      <td>0</td>\n",
       "      <td>...</td>\n",
       "      <td>0</td>\n",
       "      <td>0</td>\n",
       "      <td>0</td>\n",
       "      <td>0</td>\n",
       "      <td>0</td>\n",
       "      <td>0</td>\n",
       "      <td>0</td>\n",
       "      <td>0</td>\n",
       "      <td>0</td>\n",
       "      <td>0</td>\n",
       "    </tr>\n",
       "    <tr>\n",
       "      <th>Unknown</th>\n",
       "      <td>0</td>\n",
       "      <td>0</td>\n",
       "      <td>0</td>\n",
       "      <td>0</td>\n",
       "      <td>0</td>\n",
       "      <td>0</td>\n",
       "      <td>0</td>\n",
       "      <td>0</td>\n",
       "      <td>0</td>\n",
       "      <td>0</td>\n",
       "      <td>...</td>\n",
       "      <td>0</td>\n",
       "      <td>0</td>\n",
       "      <td>0</td>\n",
       "      <td>0</td>\n",
       "      <td>0</td>\n",
       "      <td>0</td>\n",
       "      <td>0</td>\n",
       "      <td>0</td>\n",
       "      <td>0</td>\n",
       "      <td>0</td>\n",
       "    </tr>\n",
       "    <tr>\n",
       "      <th>bZIP</th>\n",
       "      <td>1</td>\n",
       "      <td>0</td>\n",
       "      <td>1</td>\n",
       "      <td>0</td>\n",
       "      <td>13</td>\n",
       "      <td>0</td>\n",
       "      <td>0</td>\n",
       "      <td>0</td>\n",
       "      <td>0</td>\n",
       "      <td>0</td>\n",
       "      <td>...</td>\n",
       "      <td>0</td>\n",
       "      <td>0</td>\n",
       "      <td>0</td>\n",
       "      <td>0</td>\n",
       "      <td>0</td>\n",
       "      <td>0</td>\n",
       "      <td>0</td>\n",
       "      <td>0</td>\n",
       "      <td>0</td>\n",
       "      <td>0</td>\n",
       "    </tr>\n",
       "  </tbody>\n",
       "</table>\n",
       "<p>5 rows × 30 columns</p>\n",
       "</div>"
      ],
      "text/plain": [
       "             C2H2 ZF  Homeodomain  bHLH  Unknown  bZIP  Forkhead  \\\n",
       "C2H2 ZF           52            7     3        1     0         0   \n",
       "Homeodomain        6           14     2        1     0         0   \n",
       "bHLH               5            6    25        0     0         0   \n",
       "Unknown            0            0     0        0     0         0   \n",
       "bZIP               1            0     1        0    13         0   \n",
       "\n",
       "             Nuclear receptor  HMG/Sox  Ets  T-box  ...  C2H2 ZF; Homeodomain  \\\n",
       "C2H2 ZF                     2        2    0      1  ...                     0   \n",
       "Homeodomain                 1        0    1      0  ...                     0   \n",
       "bHLH                        0        0    0      0  ...                     0   \n",
       "Unknown                     0        0    0      0  ...                     0   \n",
       "bZIP                        0        0    0      0  ...                     0   \n",
       "\n",
       "             C2H2 ZF; AT hook  TBP  CCCH ZF  p53  Pipsqueak  CSL  \\\n",
       "C2H2 ZF                     1    0        2    0          0    0   \n",
       "Homeodomain                 0    1        0    0          0    0   \n",
       "bHLH                        0    0        0    0          0    0   \n",
       "Unknown                     0    0        0    0          0    0   \n",
       "bZIP                        0    0        0    0          0    0   \n",
       "\n",
       "             C2H2 ZF; BED ZF  CBF/NF-Y  TCR/CxC  \n",
       "C2H2 ZF                    1         0        1  \n",
       "Homeodomain                0         0        0  \n",
       "bHLH                       0         0        0  \n",
       "Unknown                    0         0        0  \n",
       "bZIP                       0         0        0  \n",
       "\n",
       "[5 rows x 30 columns]"
      ]
     },
     "execution_count": 60,
     "metadata": {},
     "output_type": "execute_result"
    }
   ],
   "source": [
    "num_pairs = [((tftf['ad_dbd'] == x) & (tftf['db_dbd'] == y)).sum() for x in fams for y in fams]\n",
    "num_pairs = np.reshape(num_pairs, (-1, len(fams)))\n",
    "num_pairs = pd.DataFrame(num_pairs, index=fams, columns=fams)\n",
    "num_pairs.head()"
   ]
  },
  {
   "cell_type": "code",
   "execution_count": 61,
   "metadata": {},
   "outputs": [
    {
     "data": {
      "text/html": [
       "<div>\n",
       "<style scoped>\n",
       "    .dataframe tbody tr th:only-of-type {\n",
       "        vertical-align: middle;\n",
       "    }\n",
       "\n",
       "    .dataframe tbody tr th {\n",
       "        vertical-align: top;\n",
       "    }\n",
       "\n",
       "    .dataframe thead th {\n",
       "        text-align: right;\n",
       "    }\n",
       "</style>\n",
       "<table border=\"1\" class=\"dataframe\">\n",
       "  <thead>\n",
       "    <tr style=\"text-align: right;\">\n",
       "      <th></th>\n",
       "      <th>C2H2 ZF</th>\n",
       "      <th>Homeodomain</th>\n",
       "      <th>bHLH</th>\n",
       "      <th>Unknown</th>\n",
       "      <th>bZIP</th>\n",
       "      <th>Forkhead</th>\n",
       "      <th>Nuclear receptor</th>\n",
       "      <th>HMG/Sox</th>\n",
       "      <th>Ets</th>\n",
       "      <th>T-box</th>\n",
       "      <th>...</th>\n",
       "      <th>C2H2 ZF; Homeodomain</th>\n",
       "      <th>C2H2 ZF; AT hook</th>\n",
       "      <th>TBP</th>\n",
       "      <th>CCCH ZF</th>\n",
       "      <th>p53</th>\n",
       "      <th>Pipsqueak</th>\n",
       "      <th>CSL</th>\n",
       "      <th>C2H2 ZF; BED ZF</th>\n",
       "      <th>CBF/NF-Y</th>\n",
       "      <th>TCR/CxC</th>\n",
       "    </tr>\n",
       "  </thead>\n",
       "  <tbody>\n",
       "    <tr>\n",
       "      <th>C2H2 ZF</th>\n",
       "      <td>0.527564</td>\n",
       "      <td>0.333333</td>\n",
       "      <td>0.588889</td>\n",
       "      <td>0.666667</td>\n",
       "      <td>NaN</td>\n",
       "      <td>NaN</td>\n",
       "      <td>0.750000</td>\n",
       "      <td>0.625</td>\n",
       "      <td>NaN</td>\n",
       "      <td>0.75</td>\n",
       "      <td>...</td>\n",
       "      <td>NaN</td>\n",
       "      <td>0.75</td>\n",
       "      <td>NaN</td>\n",
       "      <td>0.583333</td>\n",
       "      <td>NaN</td>\n",
       "      <td>NaN</td>\n",
       "      <td>NaN</td>\n",
       "      <td>0.0</td>\n",
       "      <td>NaN</td>\n",
       "      <td>0.333333</td>\n",
       "    </tr>\n",
       "    <tr>\n",
       "      <th>Homeodomain</th>\n",
       "      <td>0.500000</td>\n",
       "      <td>0.190476</td>\n",
       "      <td>0.666667</td>\n",
       "      <td>0.500000</td>\n",
       "      <td>NaN</td>\n",
       "      <td>NaN</td>\n",
       "      <td>0.666667</td>\n",
       "      <td>NaN</td>\n",
       "      <td>0.333333</td>\n",
       "      <td>NaN</td>\n",
       "      <td>...</td>\n",
       "      <td>NaN</td>\n",
       "      <td>NaN</td>\n",
       "      <td>0.333333</td>\n",
       "      <td>NaN</td>\n",
       "      <td>NaN</td>\n",
       "      <td>NaN</td>\n",
       "      <td>NaN</td>\n",
       "      <td>NaN</td>\n",
       "      <td>NaN</td>\n",
       "      <td>NaN</td>\n",
       "    </tr>\n",
       "    <tr>\n",
       "      <th>bHLH</th>\n",
       "      <td>0.250000</td>\n",
       "      <td>0.300595</td>\n",
       "      <td>0.023333</td>\n",
       "      <td>NaN</td>\n",
       "      <td>NaN</td>\n",
       "      <td>NaN</td>\n",
       "      <td>NaN</td>\n",
       "      <td>NaN</td>\n",
       "      <td>NaN</td>\n",
       "      <td>NaN</td>\n",
       "      <td>...</td>\n",
       "      <td>NaN</td>\n",
       "      <td>NaN</td>\n",
       "      <td>NaN</td>\n",
       "      <td>NaN</td>\n",
       "      <td>NaN</td>\n",
       "      <td>NaN</td>\n",
       "      <td>NaN</td>\n",
       "      <td>NaN</td>\n",
       "      <td>NaN</td>\n",
       "      <td>NaN</td>\n",
       "    </tr>\n",
       "    <tr>\n",
       "      <th>Unknown</th>\n",
       "      <td>NaN</td>\n",
       "      <td>NaN</td>\n",
       "      <td>NaN</td>\n",
       "      <td>NaN</td>\n",
       "      <td>NaN</td>\n",
       "      <td>NaN</td>\n",
       "      <td>NaN</td>\n",
       "      <td>NaN</td>\n",
       "      <td>NaN</td>\n",
       "      <td>NaN</td>\n",
       "      <td>...</td>\n",
       "      <td>NaN</td>\n",
       "      <td>NaN</td>\n",
       "      <td>NaN</td>\n",
       "      <td>NaN</td>\n",
       "      <td>NaN</td>\n",
       "      <td>NaN</td>\n",
       "      <td>NaN</td>\n",
       "      <td>NaN</td>\n",
       "      <td>NaN</td>\n",
       "      <td>NaN</td>\n",
       "    </tr>\n",
       "    <tr>\n",
       "      <th>bZIP</th>\n",
       "      <td>0.000000</td>\n",
       "      <td>NaN</td>\n",
       "      <td>0.000000</td>\n",
       "      <td>NaN</td>\n",
       "      <td>0.153846</td>\n",
       "      <td>NaN</td>\n",
       "      <td>NaN</td>\n",
       "      <td>NaN</td>\n",
       "      <td>NaN</td>\n",
       "      <td>NaN</td>\n",
       "      <td>...</td>\n",
       "      <td>NaN</td>\n",
       "      <td>NaN</td>\n",
       "      <td>NaN</td>\n",
       "      <td>NaN</td>\n",
       "      <td>NaN</td>\n",
       "      <td>NaN</td>\n",
       "      <td>NaN</td>\n",
       "      <td>NaN</td>\n",
       "      <td>NaN</td>\n",
       "      <td>NaN</td>\n",
       "    </tr>\n",
       "  </tbody>\n",
       "</table>\n",
       "<p>5 rows × 30 columns</p>\n",
       "</div>"
      ],
      "text/plain": [
       "              C2H2 ZF  Homeodomain      bHLH   Unknown      bZIP  Forkhead  \\\n",
       "C2H2 ZF      0.527564     0.333333  0.588889  0.666667       NaN       NaN   \n",
       "Homeodomain  0.500000     0.190476  0.666667  0.500000       NaN       NaN   \n",
       "bHLH         0.250000     0.300595  0.023333       NaN       NaN       NaN   \n",
       "Unknown           NaN          NaN       NaN       NaN       NaN       NaN   \n",
       "bZIP         0.000000          NaN  0.000000       NaN  0.153846       NaN   \n",
       "\n",
       "             Nuclear receptor  HMG/Sox       Ets  T-box  ...  \\\n",
       "C2H2 ZF              0.750000    0.625       NaN   0.75  ...   \n",
       "Homeodomain          0.666667      NaN  0.333333    NaN  ...   \n",
       "bHLH                      NaN      NaN       NaN    NaN  ...   \n",
       "Unknown                   NaN      NaN       NaN    NaN  ...   \n",
       "bZIP                      NaN      NaN       NaN    NaN  ...   \n",
       "\n",
       "             C2H2 ZF; Homeodomain  C2H2 ZF; AT hook       TBP   CCCH ZF  p53  \\\n",
       "C2H2 ZF                       NaN              0.75       NaN  0.583333  NaN   \n",
       "Homeodomain                   NaN               NaN  0.333333       NaN  NaN   \n",
       "bHLH                          NaN               NaN       NaN       NaN  NaN   \n",
       "Unknown                       NaN               NaN       NaN       NaN  NaN   \n",
       "bZIP                          NaN               NaN       NaN       NaN  NaN   \n",
       "\n",
       "             Pipsqueak  CSL  C2H2 ZF; BED ZF  CBF/NF-Y   TCR/CxC  \n",
       "C2H2 ZF            NaN  NaN              0.0       NaN  0.333333  \n",
       "Homeodomain        NaN  NaN              NaN       NaN       NaN  \n",
       "bHLH               NaN  NaN              NaN       NaN       NaN  \n",
       "Unknown            NaN  NaN              NaN       NaN       NaN  \n",
       "bZIP               NaN  NaN              NaN       NaN       NaN  \n",
       "\n",
       "[5 rows x 30 columns]"
      ]
     },
     "execution_count": 61,
     "metadata": {},
     "output_type": "execute_result"
    }
   ],
   "source": [
    "rewiring = [tftf.loc[(tftf['ad_dbd'] == x) & (tftf['db_dbd'] == y), 'Y2H_result'].mean() for x in fams for y in fams]\n",
    "rewiring = np.reshape(rewiring, (-1, len(fams)))\n",
    "rewiring = pd.DataFrame(rewiring, index=fams, columns=fams)\n",
    "rewiring.head()"
   ]
  },
  {
   "cell_type": "code",
   "execution_count": 62,
   "metadata": {},
   "outputs": [
    {
     "data": {
      "text/plain": [
       "C2H2 ZF             75\n",
       "Homeodomain         37\n",
       "bHLH                34\n",
       "Unknown             10\n",
       "bZIP                14\n",
       "Nuclear receptor    10\n",
       "HMG/Sox              4\n",
       "Ets                  3\n",
       "THAP finger          3\n",
       "E2F                  3\n",
       "SMAD                 5\n",
       "MBD                 12\n",
       "dtype: int64"
      ]
     },
     "execution_count": 62,
     "metadata": {},
     "output_type": "execute_result"
    }
   ],
   "source": [
    "# limit to fams w 10 DB\n",
    "num_pairs_sum = num_pairs.sum(axis=0)\n",
    "filt_fams = num_pairs_sum[num_pairs_sum >= 3]\n",
    "filt_fams"
   ]
  },
  {
   "cell_type": "code",
   "execution_count": 63,
   "metadata": {},
   "outputs": [
    {
     "data": {
      "text/html": [
       "<div>\n",
       "<style scoped>\n",
       "    .dataframe tbody tr th:only-of-type {\n",
       "        vertical-align: middle;\n",
       "    }\n",
       "\n",
       "    .dataframe tbody tr th {\n",
       "        vertical-align: top;\n",
       "    }\n",
       "\n",
       "    .dataframe thead th {\n",
       "        text-align: right;\n",
       "    }\n",
       "</style>\n",
       "<table border=\"1\" class=\"dataframe\">\n",
       "  <thead>\n",
       "    <tr style=\"text-align: right;\">\n",
       "      <th></th>\n",
       "      <th>C2H2 ZF</th>\n",
       "      <th>Homeodomain</th>\n",
       "      <th>bHLH</th>\n",
       "      <th>Unknown</th>\n",
       "      <th>bZIP</th>\n",
       "      <th>Nuclear receptor</th>\n",
       "      <th>HMG/Sox</th>\n",
       "      <th>Ets</th>\n",
       "      <th>THAP finger</th>\n",
       "      <th>E2F</th>\n",
       "      <th>SMAD</th>\n",
       "      <th>MBD</th>\n",
       "    </tr>\n",
       "  </thead>\n",
       "  <tbody>\n",
       "    <tr>\n",
       "      <th>C2H2 ZF</th>\n",
       "      <td>0.527564</td>\n",
       "      <td>0.333333</td>\n",
       "      <td>0.588889</td>\n",
       "      <td>0.666667</td>\n",
       "      <td>NaN</td>\n",
       "      <td>0.750000</td>\n",
       "      <td>0.625</td>\n",
       "      <td>NaN</td>\n",
       "      <td>0.708333</td>\n",
       "      <td>NaN</td>\n",
       "      <td>0.666667</td>\n",
       "      <td>0.000000</td>\n",
       "    </tr>\n",
       "    <tr>\n",
       "      <th>Homeodomain</th>\n",
       "      <td>0.500000</td>\n",
       "      <td>0.190476</td>\n",
       "      <td>0.666667</td>\n",
       "      <td>0.500000</td>\n",
       "      <td>NaN</td>\n",
       "      <td>0.666667</td>\n",
       "      <td>NaN</td>\n",
       "      <td>0.333333</td>\n",
       "      <td>NaN</td>\n",
       "      <td>NaN</td>\n",
       "      <td>0.666667</td>\n",
       "      <td>0.611111</td>\n",
       "    </tr>\n",
       "    <tr>\n",
       "      <th>bHLH</th>\n",
       "      <td>0.250000</td>\n",
       "      <td>0.300595</td>\n",
       "      <td>0.023333</td>\n",
       "      <td>NaN</td>\n",
       "      <td>NaN</td>\n",
       "      <td>NaN</td>\n",
       "      <td>NaN</td>\n",
       "      <td>NaN</td>\n",
       "      <td>0.500000</td>\n",
       "      <td>NaN</td>\n",
       "      <td>0.250000</td>\n",
       "      <td>0.000000</td>\n",
       "    </tr>\n",
       "    <tr>\n",
       "      <th>Unknown</th>\n",
       "      <td>NaN</td>\n",
       "      <td>NaN</td>\n",
       "      <td>NaN</td>\n",
       "      <td>NaN</td>\n",
       "      <td>NaN</td>\n",
       "      <td>NaN</td>\n",
       "      <td>NaN</td>\n",
       "      <td>NaN</td>\n",
       "      <td>NaN</td>\n",
       "      <td>NaN</td>\n",
       "      <td>NaN</td>\n",
       "      <td>NaN</td>\n",
       "    </tr>\n",
       "    <tr>\n",
       "      <th>bZIP</th>\n",
       "      <td>0.000000</td>\n",
       "      <td>NaN</td>\n",
       "      <td>0.000000</td>\n",
       "      <td>NaN</td>\n",
       "      <td>0.153846</td>\n",
       "      <td>NaN</td>\n",
       "      <td>NaN</td>\n",
       "      <td>NaN</td>\n",
       "      <td>NaN</td>\n",
       "      <td>NaN</td>\n",
       "      <td>NaN</td>\n",
       "      <td>0.000000</td>\n",
       "    </tr>\n",
       "    <tr>\n",
       "      <th>Nuclear receptor</th>\n",
       "      <td>0.250000</td>\n",
       "      <td>0.250000</td>\n",
       "      <td>0.000000</td>\n",
       "      <td>0.200000</td>\n",
       "      <td>NaN</td>\n",
       "      <td>0.071429</td>\n",
       "      <td>NaN</td>\n",
       "      <td>NaN</td>\n",
       "      <td>NaN</td>\n",
       "      <td>NaN</td>\n",
       "      <td>NaN</td>\n",
       "      <td>NaN</td>\n",
       "    </tr>\n",
       "    <tr>\n",
       "      <th>HMG/Sox</th>\n",
       "      <td>0.000000</td>\n",
       "      <td>0.000000</td>\n",
       "      <td>NaN</td>\n",
       "      <td>NaN</td>\n",
       "      <td>NaN</td>\n",
       "      <td>NaN</td>\n",
       "      <td>0.000</td>\n",
       "      <td>NaN</td>\n",
       "      <td>NaN</td>\n",
       "      <td>NaN</td>\n",
       "      <td>NaN</td>\n",
       "      <td>NaN</td>\n",
       "    </tr>\n",
       "    <tr>\n",
       "      <th>Ets</th>\n",
       "      <td>NaN</td>\n",
       "      <td>NaN</td>\n",
       "      <td>NaN</td>\n",
       "      <td>NaN</td>\n",
       "      <td>NaN</td>\n",
       "      <td>NaN</td>\n",
       "      <td>NaN</td>\n",
       "      <td>NaN</td>\n",
       "      <td>NaN</td>\n",
       "      <td>NaN</td>\n",
       "      <td>NaN</td>\n",
       "      <td>NaN</td>\n",
       "    </tr>\n",
       "    <tr>\n",
       "      <th>THAP finger</th>\n",
       "      <td>NaN</td>\n",
       "      <td>NaN</td>\n",
       "      <td>NaN</td>\n",
       "      <td>NaN</td>\n",
       "      <td>NaN</td>\n",
       "      <td>NaN</td>\n",
       "      <td>NaN</td>\n",
       "      <td>NaN</td>\n",
       "      <td>NaN</td>\n",
       "      <td>NaN</td>\n",
       "      <td>NaN</td>\n",
       "      <td>NaN</td>\n",
       "    </tr>\n",
       "    <tr>\n",
       "      <th>E2F</th>\n",
       "      <td>NaN</td>\n",
       "      <td>NaN</td>\n",
       "      <td>NaN</td>\n",
       "      <td>NaN</td>\n",
       "      <td>NaN</td>\n",
       "      <td>NaN</td>\n",
       "      <td>NaN</td>\n",
       "      <td>NaN</td>\n",
       "      <td>NaN</td>\n",
       "      <td>0.166667</td>\n",
       "      <td>NaN</td>\n",
       "      <td>NaN</td>\n",
       "    </tr>\n",
       "    <tr>\n",
       "      <th>SMAD</th>\n",
       "      <td>NaN</td>\n",
       "      <td>NaN</td>\n",
       "      <td>NaN</td>\n",
       "      <td>NaN</td>\n",
       "      <td>NaN</td>\n",
       "      <td>NaN</td>\n",
       "      <td>NaN</td>\n",
       "      <td>0.000000</td>\n",
       "      <td>NaN</td>\n",
       "      <td>NaN</td>\n",
       "      <td>0.000000</td>\n",
       "      <td>NaN</td>\n",
       "    </tr>\n",
       "    <tr>\n",
       "      <th>MBD</th>\n",
       "      <td>NaN</td>\n",
       "      <td>NaN</td>\n",
       "      <td>NaN</td>\n",
       "      <td>NaN</td>\n",
       "      <td>NaN</td>\n",
       "      <td>NaN</td>\n",
       "      <td>NaN</td>\n",
       "      <td>NaN</td>\n",
       "      <td>NaN</td>\n",
       "      <td>NaN</td>\n",
       "      <td>NaN</td>\n",
       "      <td>NaN</td>\n",
       "    </tr>\n",
       "  </tbody>\n",
       "</table>\n",
       "</div>"
      ],
      "text/plain": [
       "                   C2H2 ZF  Homeodomain      bHLH   Unknown      bZIP  \\\n",
       "C2H2 ZF           0.527564     0.333333  0.588889  0.666667       NaN   \n",
       "Homeodomain       0.500000     0.190476  0.666667  0.500000       NaN   \n",
       "bHLH              0.250000     0.300595  0.023333       NaN       NaN   \n",
       "Unknown                NaN          NaN       NaN       NaN       NaN   \n",
       "bZIP              0.000000          NaN  0.000000       NaN  0.153846   \n",
       "Nuclear receptor  0.250000     0.250000  0.000000  0.200000       NaN   \n",
       "HMG/Sox           0.000000     0.000000       NaN       NaN       NaN   \n",
       "Ets                    NaN          NaN       NaN       NaN       NaN   \n",
       "THAP finger            NaN          NaN       NaN       NaN       NaN   \n",
       "E2F                    NaN          NaN       NaN       NaN       NaN   \n",
       "SMAD                   NaN          NaN       NaN       NaN       NaN   \n",
       "MBD                    NaN          NaN       NaN       NaN       NaN   \n",
       "\n",
       "                  Nuclear receptor  HMG/Sox       Ets  THAP finger       E2F  \\\n",
       "C2H2 ZF                   0.750000    0.625       NaN     0.708333       NaN   \n",
       "Homeodomain               0.666667      NaN  0.333333          NaN       NaN   \n",
       "bHLH                           NaN      NaN       NaN     0.500000       NaN   \n",
       "Unknown                        NaN      NaN       NaN          NaN       NaN   \n",
       "bZIP                           NaN      NaN       NaN          NaN       NaN   \n",
       "Nuclear receptor          0.071429      NaN       NaN          NaN       NaN   \n",
       "HMG/Sox                        NaN    0.000       NaN          NaN       NaN   \n",
       "Ets                            NaN      NaN       NaN          NaN       NaN   \n",
       "THAP finger                    NaN      NaN       NaN          NaN       NaN   \n",
       "E2F                            NaN      NaN       NaN          NaN  0.166667   \n",
       "SMAD                           NaN      NaN  0.000000          NaN       NaN   \n",
       "MBD                            NaN      NaN       NaN          NaN       NaN   \n",
       "\n",
       "                      SMAD       MBD  \n",
       "C2H2 ZF           0.666667  0.000000  \n",
       "Homeodomain       0.666667  0.611111  \n",
       "bHLH              0.250000  0.000000  \n",
       "Unknown                NaN       NaN  \n",
       "bZIP                   NaN  0.000000  \n",
       "Nuclear receptor       NaN       NaN  \n",
       "HMG/Sox                NaN       NaN  \n",
       "Ets                    NaN       NaN  \n",
       "THAP finger            NaN       NaN  \n",
       "E2F                    NaN       NaN  \n",
       "SMAD              0.000000       NaN  \n",
       "MBD                    NaN       NaN  "
      ]
     },
     "execution_count": 63,
     "metadata": {},
     "output_type": "execute_result"
    }
   ],
   "source": [
    "rewiring_filt = rewiring.loc[list(filt_fams.index), list(filt_fams.index)]\n",
    "rewiring_filt"
   ]
  },
  {
   "cell_type": "code",
   "execution_count": 64,
   "metadata": {},
   "outputs": [
    {
     "data": {
      "image/png": "[encoded data removed]",
      "text/plain": [
       "<Figure size 158.4x144 with 2 Axes>"
      ]
     },
     "metadata": {},
     "output_type": "display_data"
    }
   ],
   "source": [
    "fig = plt.figure(figsize=(2.2, 2))\n",
    "g = sns.heatmap(rewiring_filt, cmap=\"viridis_r\", cbar_kws={\"label\": \"rewiring score\"})\n",
    "\n",
    "# highlight the squares corresponding to dimerizing pairs\n",
    "for i, fam in enumerate(list(filt_fams.index)):\n",
    "    if fam in DIMERIZING_TF_FAMILIES:\n",
    "        g.add_patch(Rectangle((i, i), 1, 1, fill=False, edgecolor='black', lw=1))\n",
    "        \n",
    "g.set_xlabel(\"TF isoform family\")\n",
    "g.set_ylabel(\"Y2H partner TF family\")\n",
    "fig.savefig(\"../../figures/fig4/Dimerizing_PPI_heatmap.small.pdf\", dpi=\"figure\", bbox_inches=\"tight\")"
   ]
  },
  {
   "cell_type": "code",
   "execution_count": 65,
   "metadata": {},
   "outputs": [
    {
     "data": {
      "image/png": "[encoded data removed]",
      "text/plain": [
       "<Figure size 324x324 with 2 Axes>"
      ]
     },
     "metadata": {},
     "output_type": "display_data"
    }
   ],
   "source": [
    "fig = plt.figure(figsize=(4.5, 4.5))\n",
    "g = sns.heatmap(rewiring, cmap=\"viridis_r\", cbar_kws={\"label\": \"rewiring score\", \"aspect\": 40},\n",
    "                annot=num_pairs, annot_kws={\"fontsize\": 6})\n",
    "\n",
    "# highlight the squares corresponding to dimerizing pairs\n",
    "for i, fam in enumerate(list(rewiring.index)):\n",
    "    if fam in DIMERIZING_TF_FAMILIES:\n",
    "        g.add_patch(Rectangle((i, i), 1, 1, fill=False, edgecolor='black', lw=1))\n",
    "        \n",
    "g.set_xlabel(\"TF isoform family\")\n",
    "g.set_ylabel(\"Y2H partner TF family\")\n",
    "fig.savefig(\"../../figures/fig4/Dimerizing_PPI_heatmap.all.pdf\", dpi=\"figure\", bbox_inches=\"tight\")"
   ]
  },
  {
   "cell_type": "markdown",
   "metadata": {},
   "source": [
    "## 10. isoform example vignettes"
   ]
  },
  {
   "cell_type": "code",
   "execution_count": 66,
   "metadata": {},
   "outputs": [
    {
     "name": "stdout",
     "output_type": "stream",
     "text": [
      "reading from cache\n"
     ]
    }
   ],
   "source": [
    "# reload data since we edited dfs above\n",
    "y2h = load_isoform_and_paralog_y2h_data()\n",
    "y1h = load_y1h_pdi_data(add_missing_data=True)\n",
    "m1h = load_m1h_activation_data(add_missing_data=True)\n",
    "isoforms = load_valid_isoform_clones()\n",
    "y2h = y2h.loc[y2h['ad_clone_acc'].isin(isoforms['clone_acc']).values, :]\n",
    "y1h = y1h.loc[y1h['clone_acc'].isin(isoforms['clone_acc']).values, :]\n",
    "m1h = m1h.loc[m1h['clone_acc'].isin(isoforms['clone_acc'].values), :]\n",
    "\n",
    "tfs = load_annotated_TFiso1_collection()"
   ]
  },
  {
   "cell_type": "markdown",
   "metadata": {},
   "source": [
    "### RFX3"
   ]
  },
  {
   "cell_type": "code",
   "execution_count": 67,
   "metadata": {},
   "outputs": [],
   "source": [
    "gene_name = \"RFX3\""
   ]
  },
  {
   "cell_type": "code",
   "execution_count": 68,
   "metadata": {},
   "outputs": [
    {
     "data": {
      "image/png": "[encoded data removed]",
      "text/plain": [
       "<Figure size 144x57.6 with 1 Axes>"
      ]
     },
     "metadata": {},
     "output_type": "display_data"
    }
   ],
   "source": [
    "fig, ax = plt.subplots(1, 1, figsize=(2, 0.8))\n",
    "\n",
    "df = m1h_activation_per_tf_gene_plot(gene_name, data=m1h, ax=ax, xlim=(0, 6))\n",
    "plt.savefig('../../figures/fig4/{}_m1h-profile.pdf'.format(gene_name), bbox_inches='tight')"
   ]
  },
  {
   "cell_type": "code",
   "execution_count": 69,
   "metadata": {},
   "outputs": [
    {
     "data": {
      "image/png": "[encoded data removed]",
      "text/plain": [
       "<Figure size 360x72 with 1 Axes>"
      ]
     },
     "metadata": {},
     "output_type": "display_data"
    }
   ],
   "source": [
    "fig, ax = plt.subplots(figsize=(5, 1))\n",
    "\n",
    "tfs[gene_name].exon_diagram(ax=ax)\n",
    "fig.savefig(\"../../figures/fig4/{}_exon_diagram.pdf\".format(gene_name), bbox_inches=\"tight\", dpi=\"figure\")"
   ]
  },
  {
   "cell_type": "code",
   "execution_count": 70,
   "metadata": {
    "scrolled": true
   },
   "outputs": [
    {
     "data": {
      "image/png": "[encoded data removed]",
      "text/plain": [
       "<Figure size 360x72 with 3 Axes>"
      ]
     },
     "metadata": {},
     "output_type": "display_data"
    }
   ],
   "source": [
    "fig, ax = plt.subplots(figsize=(5, 1))\n",
    "\n",
    "tfs[gene_name].protein_diagram(only_cloned_isoforms=True, draw_legend=False, ax=ax)\n",
    "fig.savefig(\"../../figures/fig4/{}_protein_diagram.pdf\".format(gene_name), bbox_inches=\"tight\", dpi=\"figure\")"
   ]
  },
  {
   "cell_type": "code",
   "execution_count": 71,
   "metadata": {},
   "outputs": [
    {
     "data": {
      "image/png": "[encoded data removed]",
      "text/plain": [
       "<Figure size 360x72 with 3 Axes>"
      ]
     },
     "metadata": {},
     "output_type": "display_data"
    }
   ],
   "source": [
    "fig, ax = plt.subplots(figsize=(5, 1))\n",
    "\n",
    "tfs[gene_name].protein_diagram(only_cloned_isoforms=True, draw_legend=False, ax=ax)\n",
    "fig.savefig(\"../../figures/fig4/{}_protein_diagram.pdf\".format(gene_name), bbox_inches=\"tight\", dpi=\"figure\")"
   ]
  },
  {
   "cell_type": "markdown",
   "metadata": {},
   "source": [
    "### PBX1"
   ]
  },
  {
   "cell_type": "code",
   "execution_count": 72,
   "metadata": {},
   "outputs": [],
   "source": [
    "gene_name = \"PBX1\""
   ]
  },
  {
   "cell_type": "code",
   "execution_count": 73,
   "metadata": {},
   "outputs": [
    {
     "data": {
      "image/png": "[encoded data removed]",
      "text/plain": [
       "<Figure size 144x144 with 1 Axes>"
      ]
     },
     "metadata": {},
     "output_type": "display_data"
    }
   ],
   "source": [
    "tf = tfs[gene_name]\n",
    "fig, ax = plt.subplots(1, 1, figsize=(2, 2))\n",
    "y2h_ppi_per_tf_gene_plot(tf.name, ax=ax, data=y2h)\n",
    "plt.savefig('../../figures/fig4/{}_y2h-profile.pdf'.format(gene_name), bbox_inches='tight')"
   ]
  },
  {
   "cell_type": "code",
   "execution_count": 74,
   "metadata": {},
   "outputs": [
    {
     "data": {
      "image/png": "[encoded data removed]",
      "text/plain": [
       "<Figure size 144x50.4 with 1 Axes>"
      ]
     },
     "metadata": {},
     "output_type": "display_data"
    }
   ],
   "source": [
    "fig, ax = plt.subplots(1, 1, figsize=(2, 0.7))\n",
    "\n",
    "df = m1h_activation_per_tf_gene_plot(gene_name, data=m1h, ax=ax, xlim=(0, 2.5))\n",
    "plt.savefig('../../figures/fig4/{}_m1h-profile.pdf'.format(gene_name), bbox_inches='tight')"
   ]
  },
  {
   "cell_type": "code",
   "execution_count": 75,
   "metadata": {},
   "outputs": [
    {
     "data": {
      "image/png": "[encoded data removed]",
      "text/plain": [
       "<Figure size 360x144 with 1 Axes>"
      ]
     },
     "metadata": {},
     "output_type": "display_data"
    }
   ],
   "source": [
    "fig, ax = plt.subplots(figsize=(5, 2))\n",
    "\n",
    "tfs[gene_name].exon_diagram(ax=ax)\n",
    "fig.savefig(\"../../figures/fig4/{}_exon_diagram.pdf\".format(gene_name), bbox_inches=\"tight\", dpi=\"figure\")"
   ]
  },
  {
   "cell_type": "code",
   "execution_count": 76,
   "metadata": {
    "scrolled": true
   },
   "outputs": [
    {
     "data": {
      "image/png": "[encoded data removed]",
      "text/plain": [
       "<Figure size 360x72 with 2 Axes>"
      ]
     },
     "metadata": {},
     "output_type": "display_data"
    }
   ],
   "source": [
    "fig, ax = plt.subplots(figsize=(5, 1))\n",
    "\n",
    "tfs[gene_name].protein_diagram(only_cloned_isoforms=True, draw_legend=False, ax=ax)\n",
    "fig.savefig(\"../../figures/fig4/{}_protein_diagram.pdf\".format(gene_name), bbox_inches=\"tight\", dpi=\"figure\")"
   ]
  },
  {
   "cell_type": "markdown",
   "metadata": {},
   "source": [
    "### CREB5"
   ]
  },
  {
   "cell_type": "code",
   "execution_count": 77,
   "metadata": {},
   "outputs": [],
   "source": [
    "gene_name = \"CREB5\""
   ]
  },
  {
   "cell_type": "code",
   "execution_count": 78,
   "metadata": {},
   "outputs": [
    {
     "data": {
      "image/png": "[encoded data removed]",
      "text/plain": [
       "<Figure size 57.6x57.6 with 1 Axes>"
      ]
     },
     "metadata": {},
     "output_type": "display_data"
    }
   ],
   "source": [
    "tf = tfs[gene_name]\n",
    "fig, ax = plt.subplots(1, 1, figsize=(0.8, 0.8))\n",
    "y2h_ppi_per_tf_gene_plot(tf.name, ax=ax, data=y2h)\n",
    "plt.savefig('../../figures/fig4/{}_y2h-profile.pdf'.format(gene_name), bbox_inches='tight')"
   ]
  },
  {
   "cell_type": "code",
   "execution_count": 79,
   "metadata": {},
   "outputs": [
    {
     "data": {
      "image/png": "[encoded data removed]",
      "text/plain": [
       "<Figure size 144x43.2 with 1 Axes>"
      ]
     },
     "metadata": {},
     "output_type": "display_data"
    }
   ],
   "source": [
    "fig, ax = plt.subplots(1, 1, figsize=(2, 0.6))\n",
    "\n",
    "df = m1h_activation_per_tf_gene_plot(gene_name, data=m1h, ax=ax, xlim=(-2.2, 2.2))\n",
    "plt.savefig('../../figures/fig4/{}_m1h-profile.pdf'.format(gene_name), bbox_inches='tight')"
   ]
  },
  {
   "cell_type": "code",
   "execution_count": 80,
   "metadata": {},
   "outputs": [
    {
     "data": {
      "image/png": "[encoded data removed]",
      "text/plain": [
       "<Figure size 360x72 with 1 Axes>"
      ]
     },
     "metadata": {},
     "output_type": "display_data"
    }
   ],
   "source": [
    "fig, ax = plt.subplots(figsize=(5, 1))\n",
    "\n",
    "tfs[gene_name].exon_diagram(ax=ax)\n",
    "fig.savefig(\"../../figures/fig4/{}_exon_diagram.pdf\".format(gene_name), bbox_inches=\"tight\", dpi=\"figure\")"
   ]
  },
  {
   "cell_type": "code",
   "execution_count": 81,
   "metadata": {},
   "outputs": [
    {
     "data": {
      "image/png": "[encoded data removed]",
      "text/plain": [
       "<Figure size 360x50.4 with 2 Axes>"
      ]
     },
     "metadata": {},
     "output_type": "display_data"
    }
   ],
   "source": [
    "fig, ax = plt.subplots(figsize=(5, 0.7))\n",
    "\n",
    "tfs[gene_name].protein_diagram(only_cloned_isoforms=True, draw_legend=False, ax=ax)\n",
    "fig.savefig(\"../../figures/fig4/{}_protein_diagram.pdf\".format(gene_name), bbox_inches=\"tight\", dpi=\"figure\")"
   ]
  },
  {
   "cell_type": "code",
   "execution_count": 125,
   "metadata": {},
   "outputs": [
    {
     "data": {
      "image/png": "[encoded data removed]",
      "text/plain": [
       "<Figure size 360x50.4 with 2 Axes>"
      ]
     },
     "metadata": {},
     "output_type": "display_data"
    }
   ],
   "source": [
    "gene_name = \"DLX1\"\n",
    "fig, ax = plt.subplots(figsize=(5, 0.7))\n",
    "\n",
    "tfs[gene_name].protein_diagram(only_cloned_isoforms=True, draw_legend=False, ax=ax)\n",
    "fig.savefig(\"../../figures/fig4/{}_protein_diagram.pdf\".format(gene_name), bbox_inches=\"tight\", dpi=\"figure\")"
   ]
  },
  {
   "cell_type": "code",
   "execution_count": null,
   "metadata": {},
   "outputs": [],
   "source": []
  }
 ],
 "metadata": {
  "kernelspec": {
   "display_name": "Python (py36)",
   "language": "python",
   "name": "py36"
  },
  "language_info": {
   "codemirror_mode": {
    "name": "ipython",
    "version": 3
   },
   "file_extension": ".py",
   "mimetype": "text/x-python",
   "name": "python",
   "nbconvert_exporter": "python",
   "pygments_lexer": "ipython3",
   "version": "3.6.10"
  }
 },
 "nbformat": 4,
 "nbformat_minor": 2
}
