{
 "cells": [
  {
   "cell_type": "code",
   "execution_count": 1,
   "metadata": {},
   "outputs": [],
   "source": [
    "import numpy as np\n",
    "from scipy import stats\n",
    "from matplotlib import pyplot as plt\n",
    "import pandas as pd\n",
    "import seaborn as sns\n",
    "import sys\n",
    "\n",
    "# import utils\n",
    "sys.path.append(\"../\")\n",
    "sys.path.append(\"../data_loading\")\n",
    "\n",
    "import plotting\n",
    "from plotting import mimic_r_boxplot\n",
    "\n",
    "from data_loading import (load_y2h_isoform_data, \n",
    "    load_m1h_activation_data, \n",
    "    load_ppi_partner_categories, \n",
    "    load_annotated_TFiso1_collection,\n",
    "    load_human_tf_db,\n",
    "    load_y1h_pdi_data)\n",
    "\n",
    "from isoform_pairwise_metrics import load_ref_vs_alt_isoforms_table, _add_PPI_columns"
   ]
  },
  {
   "cell_type": "code",
   "execution_count": 2,
   "metadata": {},
   "outputs": [],
   "source": [
    "PAPER_PRESET = {\"style\": \"ticks\", \"font\": \"Helvetica\", \"context\": \"paper\", \n",
    "                \"rc\": {\"font.size\":7,\"axes.titlesize\":7,\n",
    "                       \"axes.labelsize\":7, 'axes.linewidth':0.5,\n",
    "                       \"legend.fontsize\":6, \"xtick.labelsize\":6,\n",
    "                       \"ytick.labelsize\":6, \"xtick.major.size\": 3.0,\n",
    "                       \"ytick.major.size\": 3.0, \"axes.edgecolor\": \"black\",\n",
    "                       \"xtick.major.pad\": 3.0, \"ytick.major.pad\": 3.0}}\n",
    "PAPER_FONTSIZE = 7"
   ]
  },
  {
   "cell_type": "code",
   "execution_count": 3,
   "metadata": {},
   "outputs": [],
   "source": [
    "sns.set(**PAPER_PRESET)\n",
    "fontsize = PAPER_FONTSIZE"
   ]
  },
  {
   "cell_type": "markdown",
   "metadata": {},
   "source": [
    "## 1. load TFs, assay data (Y2H, M1H), Pfam domains, and PPI partner categories/cofactors"
   ]
  },
  {
   "cell_type": "code",
   "execution_count": 4,
   "metadata": {},
   "outputs": [
    {
     "name": "stdout",
     "output_type": "stream",
     "text": [
      "reading from cache\n"
     ]
    }
   ],
   "source": [
    "tfs = load_annotated_TFiso1_collection()\n",
    "pairs = load_ref_vs_alt_isoforms_table()\n",
    "\n",
    "# RORC-1 alt iso is causing an error - filter out here - there's no data for it?\n",
    "pairs = pairs[pairs[\"clone_acc_alt\"] != \"RORC|1/6|05F11\"]\n",
    "\n",
    "pairs['ref_iso'] = pairs['clone_acc_ref'].apply(lambda x: x.split('|')[0] + '-' + x.split('|')[1].split('/')[0])\n",
    "pairs['alt_iso'] = pairs['clone_acc_alt'].apply(lambda x: x.split('|')[0] + '-' + x.split('|')[1].split('/')[0])\n",
    "pairs['f_disorder_difference'] = pairs.apply(lambda x: tfs[x['gene_symbol']].disordered_fraction_of_different_regions(x['ref_iso'], x['alt_iso']), axis=1)"
   ]
  },
  {
   "cell_type": "code",
   "execution_count": 5,
   "metadata": {},
   "outputs": [],
   "source": [
    "y2h = load_y2h_isoform_data()\n",
    "m1h = load_m1h_activation_data()\n",
    "m1h['mean'] = m1h[['M1H_rep1', 'M1H_rep2', 'M1H_rep3']].mean(axis=1)\n",
    "cats = load_ppi_partner_categories()"
   ]
  },
  {
   "cell_type": "code",
   "execution_count": 6,
   "metadata": {},
   "outputs": [
    {
     "name": "stdout",
     "output_type": "stream",
     "text": [
      "8543 proteins expressed in HEK293 proteome\n",
      "of 500 PPI partners, 252 are expressed in HEK293 cells\n"
     ]
    }
   ],
   "source": [
    "df = pd.read_excel('../../data/external/Geiger-et-al_MCP_2012_Supplementary-Table-2.xlsx',\n",
    "                   skiprows=1)\n",
    "hek_avrg = df[['iBAQ HEK293_1', 'iBAQ HEK293_2', 'iBAQ HEK293_3']].mean(axis=1)\n",
    "print((hek_avrg > 0).sum(), 'proteins expressed in HEK293 proteome')\n",
    "hek_expressed_genes = set(df.loc[(hek_avrg > 0) & df['Gene Names'].notnull(),\n",
    "       'Gene Names'].str.split(';').explode().values)\n",
    "all_partners = set(y2h['db_gene_symbol'].unique())\n",
    "print('of {} PPI partners, {} are expressed in HEK293 cells'.format(len(all_partners), \n",
    "      len(all_partners.intersection(hek_expressed_genes))))"
   ]
  },
  {
   "cell_type": "code",
   "execution_count": 7,
   "metadata": {},
   "outputs": [],
   "source": [
    "# now add Pfam AD/RDs\n",
    "pfam = pd.read_csv('../../data/external/Pfam-A.clans.tsv',\n",
    "                   sep='\\t',\n",
    "                   names=['pfam_accession', 'clan', 'clan_name', 'short_name', 'name'])"
   ]
  },
  {
   "cell_type": "code",
   "execution_count": 8,
   "metadata": {},
   "outputs": [],
   "source": [
    "cof = pd.read_csv('../../data/external/AnimalTFDB3_Homo_sapiens_TF_cofactors.txt',\n",
    "                 sep='\\t')\n",
    "if cof['Symbol'].duplicated().any():\n",
    "    raise UserWarning('unexpected duplicates')"
   ]
  },
  {
   "cell_type": "markdown",
   "metadata": {},
   "source": [
    "## 2. categorize effector domain changes between alt/ref iso"
   ]
  },
  {
   "cell_type": "code",
   "execution_count": 9,
   "metadata": {},
   "outputs": [],
   "source": [
    "dom = pd.concat([g.aa_feature_disruption(g.cloned_reference_isoform.name) for g in tfs.values()])\n",
    "\n",
    "# add activation or repression annotation from effector domain studies\n",
    "effector_domain_type = {}\n",
    "for tf in tfs.values():\n",
    "    for d in tf.cloned_reference_isoform.aa_seq_features:\n",
    "        if d.category == 'effector_domain':\n",
    "            effector_domain_type[d.accession] = d.name\n",
    "dom['type'] = dom['accession'].map(effector_domain_type)"
   ]
  },
  {
   "cell_type": "code",
   "execution_count": 10,
   "metadata": {},
   "outputs": [],
   "source": [
    "# add activation or repression annotation from Pfam domains directly\n",
    "pfam_ad = pfam[(pfam['name'].str.contains(\"transcription activation\")) | \n",
    "               (pfam['name'].str.contains(\"transactivation\")) |\n",
    "               (pfam['short_name'].str.contains(\"TAD\"))].copy()\n",
    "pfam_ad[\"type\"] = \"AD\"\n",
    "\n",
    "# RD\n",
    "pfam_rd = pfam[(pfam['short_name'].str.contains(\"NRIP1_repr\")) | \n",
    "               (pfam['name'].str.contains(\"KRAB\"))].copy()\n",
    "pfam_rd[\"type\"] = \"RD\"\n",
    "pfam_effs = pd.concat([pfam_ad, pfam_rd])\n",
    "\n",
    "def get_pfam_type(row):\n",
    "    if not pd.isnull(row['type']):\n",
    "        return row['type']\n",
    "    else:\n",
    "        pfam_sub = pfam_effs[pfam_effs['pfam_accession'] == row['accession']]\n",
    "        if len(pfam_sub) > 0:\n",
    "            return pfam_sub['type'].iloc[0]\n",
    "        else:\n",
    "            return np.nan\n",
    "dom[\"type_incl_pfam\"] = dom.apply(get_pfam_type, axis=1)"
   ]
  },
  {
   "cell_type": "code",
   "execution_count": 11,
   "metadata": {},
   "outputs": [],
   "source": [
    "# considering Pfam and Effector domains\n",
    "def fraction_of_effector_domains_removed(row, effector_type):\n",
    "    ds = dom.loc[(dom['alt_iso'] == row['alt_iso']) \n",
    "                  & (dom['type_incl_pfam'] == effector_type), :]\n",
    "    if ds.shape[0] == 0:\n",
    "        return np.nan\n",
    "    return ds[['deletion', 'frameshift']].sum().sum() / ds['length'].sum()\n",
    "\n",
    "\n",
    "def insertion_in_effector_domains(row, effector_type):\n",
    "    ds = dom.loc[(dom['alt_iso'] == row['alt_iso']) \n",
    "                  & (dom['type_incl_pfam'] == effector_type), :]\n",
    "    if ds.shape[0] == 0:\n",
    "        return np.nan\n",
    "    return ds['insertion'].sum()\n",
    "\n",
    "def domain_length(row, effector_type):\n",
    "    ds = dom.loc[(dom['alt_iso'] == row['alt_iso']) \n",
    "                  & (dom['type_incl_pfam'] == effector_type), :]\n",
    "    if ds.shape[0] == 0:\n",
    "        return np.nan\n",
    "    return ds['length'].sum()\n",
    "\n",
    "\n",
    "for effector_type in ['AD', 'RD', 'Bif']:\n",
    "    pairs['fraction_of_{}_domains_removed_incl_pfam'.format(effector_type)] = pairs.apply(fraction_of_effector_domains_removed, effector_type=effector_type, axis=1)\n",
    "    pairs['insertion_in_{}_domains_incl_pfam'.format(effector_type)] = pairs.apply(insertion_in_effector_domains, effector_type=effector_type, axis=1)\n",
    "    pairs['length_of_{}_domains_incl_pfam'.format(effector_type)] = pairs.apply(domain_length, effector_type=effector_type, axis=1)"
   ]
  },
  {
   "cell_type": "markdown",
   "metadata": {},
   "source": [
    "## 3. plot number of annotated domains (of various types) across isoforms"
   ]
  },
  {
   "cell_type": "code",
   "execution_count": 12,
   "metadata": {},
   "outputs": [
    {
     "data": {
      "text/plain": [
       "Text(0.5, 0, 'Effector domains in reference isoform')"
      ]
     },
     "execution_count": 12,
     "metadata": {},
     "output_type": "execute_result"
    },
    {
     "data": {
      "image/png": "[encoded data removed]",
      "text/plain": [
       "<Figure size 144x72 with 1 Axes>"
      ]
     },
     "metadata": {},
     "output_type": "display_data"
    }
   ],
   "source": [
    "# plot of number of activation domains per ref iso\n",
    "# fraction of sequnce within effector domains\n",
    "def count_effector_domains(gene):\n",
    "    iso = gene.cloned_reference_isoform\n",
    "    c = 0\n",
    "    for d in iso.aa_seq_features:\n",
    "        if d.category == 'effector_domain':\n",
    "            c += 1\n",
    "    return c\n",
    "\n",
    "n_effector = [count_effector_domains(tf) for tf in tfs.values()]\n",
    "\n",
    "fig, ax = plt.subplots(1, 1, figsize=(2, 1))\n",
    "ax.hist(n_effector,\n",
    "        range=(-0.25, max(n_effector) + 0.25),\n",
    "          bins=(max(n_effector) * 2 + 1))\n",
    "ax.set_xticks(range(max(n_effector) + 1))\n",
    "ax.set_ylabel('Number of genes ({} total)'.format(len(tfs)))\n",
    "ax.set_xlabel('Effector domains in reference isoform')"
   ]
  },
  {
   "cell_type": "code",
   "execution_count": 13,
   "metadata": {},
   "outputs": [
    {
     "data": {
      "text/plain": [
       "Text(0.5, 1.0, 'Soto et al. data')"
      ]
     },
     "execution_count": 13,
     "metadata": {},
     "output_type": "execute_result"
    },
    {
     "data": {
      "image/png": "[encoded data removed]",
      "text/plain": [
       "<Figure size 144x72 with 1 Axes>"
      ]
     },
     "metadata": {},
     "output_type": "display_data"
    }
   ],
   "source": [
    "# plot of number of activation domains per ref iso\n",
    "# fraction of sequnce within effector domains\n",
    "def count_Soto_effector_domains(gene):\n",
    "    iso = gene.cloned_reference_isoform\n",
    "    c = 0\n",
    "    for d in iso.aa_seq_features:\n",
    "        if d.category == 'effector_domain' and d.accession.startswith('Soto'):\n",
    "            c += 1\n",
    "    return c\n",
    "\n",
    "n_effector_soto = [count_Soto_effector_domains(tf) for tf in tfs.values()]\n",
    "\n",
    "fig, ax = plt.subplots(1, 1, figsize=(2, 1))\n",
    "ax.hist(n_effector_soto,\n",
    "        range=(-0.25, max(n_effector) + 0.25),\n",
    "          bins=(max(n_effector) * 2 + 1))\n",
    "ax.set_xticks(range(max(n_effector) + 1))\n",
    "ax.set_ylabel('Number of genes ({} total)'.format(len(tfs)))\n",
    "ax.set_xlabel('Effector domains in reference isoform')\n",
    "ax.set_title('Soto et al. data')"
   ]
  },
  {
   "cell_type": "code",
   "execution_count": 14,
   "metadata": {},
   "outputs": [
    {
     "data": {
      "text/plain": [
       "Text(0.5, 1.0, 'Data from Bintu lab papers')"
      ]
     },
     "execution_count": 14,
     "metadata": {},
     "output_type": "execute_result"
    },
    {
     "data": {
      "image/png": "[encoded data removed]",
      "text/plain": [
       "<Figure size 144x72 with 1 Axes>"
      ]
     },
     "metadata": {},
     "output_type": "display_data"
    }
   ],
   "source": [
    "# plot of number of activation domains per ref iso\n",
    "# fraction of sequnce within effector domains\n",
    "def count_Bintu_effector_domains(gene):\n",
    "    iso = gene.cloned_reference_isoform\n",
    "    c = 0\n",
    "    for d in iso.aa_seq_features:\n",
    "        if d.category == 'effector_domain' and not d.accession.startswith('Soto'):\n",
    "            c += 1\n",
    "    return c\n",
    "\n",
    "n_effector_bintu = [count_Bintu_effector_domains(tf) for tf in tfs.values()]\n",
    "\n",
    "fig, ax = plt.subplots(1, 1, figsize=(2, 1))\n",
    "ax.hist(n_effector_bintu,\n",
    "        range=(-0.25, max(n_effector) + 0.25),\n",
    "          bins=(max(n_effector) * 2 + 1))\n",
    "ax.set_xticks(range(max(n_effector) + 1))\n",
    "ax.set_ylabel('Number of genes ({} total)'.format(len(tfs)))\n",
    "ax.set_xlabel('Effector domains in reference isoform')\n",
    "ax.set_title('Data from Bintu lab papers')"
   ]
  },
  {
   "cell_type": "code",
   "execution_count": 15,
   "metadata": {},
   "outputs": [
    {
     "data": {
      "text/plain": [
       "{'Soto': {'AD': 156, 'RD': 80, 'Bif': 4},\n",
       " 'Tycko': {'AD': 4, 'RD': 48},\n",
       " 'DelRosso': {'AD': 37, 'RD': 345}}"
      ]
     },
     "execution_count": 15,
     "metadata": {},
     "output_type": "execute_result"
    }
   ],
   "source": [
    "counter = {'Soto': {'AD': 0, 'RD': 0, 'Bif': 0},\n",
    "           'Tycko': {'AD': 0, 'RD': 0},\n",
    "           'DelRosso': {'AD': 0, 'RD': 0}}\n",
    "for tf in tfs.values():\n",
    "    has_effector = False\n",
    "    for domain in tf.cloned_reference_isoform.aa_seq_features:\n",
    "        if domain.category == 'effector_domain':\n",
    "            counter[domain.accession.split('_')[0]][domain.name] += 1\n",
    "counter"
   ]
  },
  {
   "cell_type": "code",
   "execution_count": 16,
   "metadata": {},
   "outputs": [
    {
     "data": {
      "text/plain": [
       "Text(0, 0.5, 'Number of effector domains')"
      ]
     },
     "execution_count": 16,
     "metadata": {},
     "output_type": "execute_result"
    },
    {
     "data": {
      "image/png": "[encoded data removed]",
      "text/plain": [
       "<Figure size 144x144 with 1 Axes>"
      ]
     },
     "metadata": {},
     "output_type": "display_data"
    }
   ],
   "source": [
    "fig, ax = plt.subplots(1, 1, figsize=(2, 2))\n",
    "ax.bar(x=range(6),\n",
    "       height=[counter[x][y] for x in counter.keys() for y in ['AD', 'RD']],\n",
    "       color=[sns.color_palette(\"Set2\")[0], sns.color_palette(\"Set2\")[3]] * 3)\n",
    "ax.set_xticks([0.5, 2.5, 4.5])\n",
    "ax.set_xticklabels(['Soto et al.', 'Tycko et al.', 'DelRosso et al.'])\n",
    "ax.set_ylabel('Number of effector domains')"
   ]
  },
  {
   "cell_type": "markdown",
   "metadata": {},
   "source": [
    "## 4. summary plot looking at gain/loss of domains and activity"
   ]
  },
  {
   "cell_type": "code",
   "execution_count": 17,
   "metadata": {},
   "outputs": [],
   "source": [
    "m1h['gte_2_fold'] = (m1h['mean'].abs() >= 1)\n",
    "pairs['m1h_gte_2_fold_at_least_one_iso_per_gene'] = pairs['gene_symbol'].map(m1h.groupby('gene_symbol')\n",
    "                                                                             ['gte_2_fold']\n",
    "                                                                             .any())\n",
    "pairs['abs_activation_fold_change_log2'] = pairs['activation_fold_change_log2'].abs()"
   ]
  },
  {
   "cell_type": "code",
   "execution_count": 18,
   "metadata": {},
   "outputs": [],
   "source": [
    "# create a color map of domain length\n",
    "# sum up lengths of all domains (plot only includes examples w 1 type of domain)\n",
    "pairs['tot_dom_length_incl_pfam'] = pairs[['length_of_AD_domains_incl_pfam', 'length_of_RD_domains_incl_pfam', 'length_of_Bif_domains_incl_pfam']].sum(axis=1)\n",
    "t_dom_length_incl_pfam = pairs.loc[:,'tot_dom_length_incl_pfam'].values\n",
    "t_dom_length_incl_pfam = t_dom_length_incl_pfam[t_dom_length_incl_pfam > 0]\n",
    "\n",
    "# using min and max makes colors too hard too read - cut off\n",
    "cmap = sns.color_palette(\"flare\", as_cmap=True)\n",
    "norm = plt.Normalize(25, 250)\n",
    "palette_dom_length_incl_pfam = {value: cmap(norm(value)) for value in t_dom_length_incl_pfam}\n",
    "\n",
    "def re_color(row, palette):\n",
    "    if row['tot_dom_length_incl_pfam'] == 0:\n",
    "        color = sns.color_palette(\"flare\")[0]\n",
    "    else:\n",
    "        color = palette[row['tot_dom_length_incl_pfam']]\n",
    "    return color\n",
    "\n",
    "pairs[\"color_dom_length_incl_pfam\"] = pairs.apply(re_color, axis=1, palette=palette_dom_length_incl_pfam)"
   ]
  },
  {
   "cell_type": "code",
   "execution_count": 20,
   "metadata": {},
   "outputs": [
    {
     "name": "stderr",
     "output_type": "stream",
     "text": [
      "/PHShome/kz659/.conda/envs/py36/lib/python3.6/site-packages/seaborn/categorical.py:1296: UserWarning: 31.9% of the points cannot be placed; you may want to decrease the size of the markers or use stripplot.\n",
      "  warnings.warn(msg, UserWarning)\n"
     ]
    },
    {
     "data": {
      "image/png": "[encoded data removed]",
      "text/plain": [
       "<Figure size 590.4x144 with 8 Axes>"
      ]
     },
     "metadata": {},
     "output_type": "display_data"
    },
    {
     "data": {
      "image/png": "[encoded data removed]",
      "text/plain": [
       "<Figure size 590.4x144 with 7 Axes>"
      ]
     },
     "metadata": {},
     "output_type": "display_data"
    }
   ],
   "source": [
    "df = pairs.copy()\n",
    "df = df.loc[df['activation_fold_change_log2'].notnull() & df['m1h_gte_2_fold_at_least_one_iso_per_gene'], :]\n",
    "palette = palette_dom_length_incl_pfam\n",
    "hue = 'tot_dom_length_incl_pfam'\n",
    "color = 'color_dom_length_incl_pfam'\n",
    "t = t_dom_length_incl_pfam\n",
    "\n",
    "gs_kw = dict(width_ratios=[0.4, 0.4, 0.5, 1.2, 1.2, 1.5, 0.8])\n",
    "\n",
    "fig, axs = plt.subplots(1, 7, sharey=True, gridspec_kw=gs_kw)\n",
    "fig.set_size_inches(w=8.2, h=2)\n",
    "\n",
    "point_size = 6\n",
    "\n",
    "\n",
    "tot_loss_activ = df.loc[(df['fraction_of_AD_domains_removed_incl_pfam'] == 1) \n",
    "                        & (df['fraction_of_RD_domains_removed_incl_pfam'].isnull() | \n",
    "                           (df['fraction_of_RD_domains_removed_incl_pfam'] == 0))\n",
    "                        & (df['fraction_of_Bif_domains_removed_incl_pfam'].isnull() | \n",
    "                           (df['fraction_of_Bif_domains_removed_incl_pfam'] == 0)), :]\n",
    "axs[0].set_title('activation\\ndomain')\n",
    "sns.swarmplot(data=tot_loss_activ,\n",
    "              y='activation_fold_change_log2', \n",
    "              x='fraction_of_AD_domains_removed_incl_pfam',\n",
    "              size=point_size,\n",
    "            clip_on=False,\n",
    "              ax=axs[0],\n",
    "              palette=palette,\n",
    "              hue=hue,\n",
    "               linewidth=1,\n",
    "               edgecolor=\"black\",\n",
    "              alpha=1)\n",
    "axs[0].set_xticks([])\n",
    "axs[0].set_xlabel('')\n",
    "axs[0].get_legend().remove()\n",
    "\n",
    "tot_loss_repr = df.loc[(df['fraction_of_RD_domains_removed_incl_pfam'] == 1)\n",
    "                          & (df['fraction_of_AD_domains_removed_incl_pfam'].isnull() | \n",
    "                             (df['fraction_of_AD_domains_removed_incl_pfam'] == 0))\n",
    "                          & (df['fraction_of_Bif_domains_removed_incl_pfam'].isnull() | \n",
    "                             (df['fraction_of_Bif_domains_removed_incl_pfam'] == 0)), :]\n",
    "axs[1].set_title('repression\\ndomain')\n",
    "sns.swarmplot(data=tot_loss_repr,\n",
    "              y='activation_fold_change_log2', \n",
    "              x='fraction_of_RD_domains_removed_incl_pfam',\n",
    "              size=point_size,\n",
    "            clip_on=False,\n",
    "              ax=axs[1],\n",
    "              palette=palette,\n",
    "              hue=hue,\n",
    "               linewidth=1,\n",
    "               edgecolor=\"black\",\n",
    "              alpha=1)\n",
    "axs[1].set_xticks([])\n",
    "axs[1].set_xlabel('')\n",
    "axs[1].get_legend().remove()\n",
    "\n",
    "\n",
    "tot_loss_both = df.loc[(df['fraction_of_AD_domains_removed_incl_pfam'] == 1) &\n",
    "                          (df['fraction_of_RD_domains_removed_incl_pfam'] == 1), :]\n",
    "axs[2].set_title('both activ. &\\nrepr. domains')\n",
    "sns.swarmplot(data=tot_loss_both,\n",
    "              y='activation_fold_change_log2', \n",
    "              x='fraction_of_RD_domains_removed_incl_pfam',\n",
    "              size=point_size,\n",
    "            clip_on=False,\n",
    "              ax=axs[2],\n",
    "              palette=palette,\n",
    "              hue=hue,\n",
    "               linewidth=1,\n",
    "               edgecolor=\"black\",\n",
    "              alpha=1)\n",
    "axs[2].set_xticks([])\n",
    "axs[2].set_xlabel('')\n",
    "axs[2].get_legend().remove()\n",
    "\n",
    "\n",
    "# now partial loss\n",
    "axs[3].set_title('activation\\ndomain')\n",
    "partial_loss_activ = df.loc[(df['m1h_gte_2_fold_at_least_one_iso_per_gene'] \n",
    "              & (df['fraction_of_AD_domains_removed_incl_pfam'] > 0) \n",
    "                & (df['fraction_of_AD_domains_removed_incl_pfam'] < 1)\n",
    "                        & (df['fraction_of_RD_domains_removed_incl_pfam'].isnull() | \n",
    "                           (df['fraction_of_RD_domains_removed_incl_pfam'] == 0))\n",
    "                          & (df['fraction_of_Bif_domains_removed_incl_pfam'].isnull() | \n",
    "                             (df['fraction_of_Bif_domains_removed_incl_pfam'] == 0))), :]\n",
    "axs[3].scatter(partial_loss_activ.loc[:, 'fraction_of_AD_domains_removed_incl_pfam'].values,\n",
    "               partial_loss_activ.loc[:, 'activation_fold_change_log2'].values,\n",
    "           alpha=1,\n",
    "           s=point_size**2,\n",
    "            c=partial_loss_activ.loc[:, color].values,\n",
    "               linewidth=1,\n",
    "               edgecolor=\"black\",\n",
    "           clip_on=False)\n",
    "axs[3].set_xlabel('')\n",
    "axs[3].set_xlim(1, 0)\n",
    "axs[3].set_xticks([0.99, 0.5, 0.01])\n",
    "axs[3].set_xticklabels([f'{x:.0%}' for x in axs[3].get_xticks()])\n",
    "\n",
    "\n",
    "axs[4].set_title('repression\\ndomain')\n",
    "partial_loss_repr = df.loc[(df['m1h_gte_2_fold_at_least_one_iso_per_gene'] \n",
    "                & (df['fraction_of_RD_domains_removed_incl_pfam'] > 0)\n",
    "                  &  (df['fraction_of_RD_domains_removed_incl_pfam'] < 1)\n",
    "                          & (df['fraction_of_AD_domains_removed_incl_pfam'].isnull() | \n",
    "                             (df['fraction_of_AD_domains_removed_incl_pfam'] == 0))\n",
    "                          & (df['fraction_of_Bif_domains_removed_incl_pfam'].isnull() | \n",
    "                             (df['fraction_of_Bif_domains_removed_incl_pfam'] == 0))), :]\n",
    "\n",
    "axs[4].scatter(partial_loss_repr.loc[:, 'fraction_of_RD_domains_removed_incl_pfam'].values,\n",
    "               partial_loss_repr.loc[:, 'activation_fold_change_log2'].values,\n",
    "           alpha=1,\n",
    "           s=point_size**2,\n",
    "            c=partial_loss_repr.loc[:, color].values,\n",
    "               linewidth=1,\n",
    "               edgecolor=\"black\",\n",
    "           clip_on=False)\n",
    "axs[4].set_xlabel('')\n",
    "axs[4].set_xlim(1, 0)\n",
    "axs[4].set_xticks([0.99, 0.5, 0.01])\n",
    "axs[4].set_xticklabels([f'{x:.0%}' for x in axs[4].get_xticks()])\n",
    "\n",
    "\n",
    "all_retained = df.loc[((df['fraction_of_AD_domains_removed_incl_pfam'] == 0) |\n",
    "                          (df['fraction_of_RD_domains_removed_incl_pfam'] == 0) |\n",
    "                          (df['fraction_of_Bif_domains_removed_incl_pfam'] == 0))\n",
    "                          & (df['fraction_of_AD_domains_removed_incl_pfam'].isnull() | (df['fraction_of_AD_domains_removed_incl_pfam'] == 0)) \n",
    "                           & (df['fraction_of_RD_domains_removed_incl_pfam'].isnull() | (df['fraction_of_RD_domains_removed_incl_pfam'] == 0)) \n",
    "                           & (df['fraction_of_Bif_domains_removed_incl_pfam'].isnull() | (df['fraction_of_Bif_domains_removed_incl_pfam'] == 0)) \n",
    "                           ,\n",
    "                           :]\n",
    "axs[5].set_title('All effector domains\\nin alt. iso.')\n",
    "sns.swarmplot(data=all_retained,\n",
    "              y='activation_fold_change_log2', \n",
    "              x='m1h_gte_2_fold_at_least_one_iso_per_gene',\n",
    "              size=point_size,\n",
    "            clip_on=False,\n",
    "              ax=axs[5],\n",
    "               linewidth=1,\n",
    "               edgecolor=\"black\",\n",
    "              alpha=1,\n",
    "              hue=hue,\n",
    "              palette=palette)\n",
    "axs[5].set_xticks([])\n",
    "axs[5].set_xlabel('')\n",
    "axs[5].get_legend().remove()\n",
    "\n",
    "# # annotate pbx1 and rfx3\n",
    "# pbx1_y = df.loc[(df[\"clone_acc_alt\"] == \"PBX1|2/2|02C05\"), 'activation_fold_change_log2'].values[0]\n",
    "# rfx3_y = df.loc[(df[\"clone_acc_alt\"] == \"RFX3|3/5|08G08\"), 'activation_fold_change_log2'].values[0]\n",
    "# rfx4_y = df.loc[(df[\"clone_acc_alt\"] == \"RFX3|4/5|11D09\"), 'activation_fold_change_log2'].values[0]\n",
    "# for point in axs[4].collections:\n",
    "#     for x, y in point.get_offsets():\n",
    "#         if np.isclose(pbx1_y, y):\n",
    "#             print(\"found: %s, %s\" % (x, y))\n",
    "#             axs[4].annotate(\"PBX1-2\", xy=(x, y), xytext=(-10, -20), textcoords='offset points',\n",
    "#                             arrowprops = dict(arrowstyle=\"-\", connectionstyle=\"arc3,rad=-0.3\"), \n",
    "#                             ha=\"center\", va=\"top\", fontsize=7,\n",
    "#                             bbox=dict(boxstyle='square,pad=0', fc='none', ec='none'))\n",
    "#         if np.isclose(rfx3_y, y):\n",
    "#             print(\"found: %s, %s\" % (x, y))\n",
    "#             axs[4].annotate(\"RFX3-3\", xy=(x, y), xytext=(-8, -7), textcoords='offset points',\n",
    "#                             arrowprops = dict(arrowstyle=\"-\", connectionstyle=\"arc3,rad=-0.2\"), \n",
    "#                             ha=\"center\", va=\"top\", fontsize=7,\n",
    "#                             bbox=dict(boxstyle='square,pad=0', fc='none', ec='none'))\n",
    "#         if np.isclose(rfx4_y, y):\n",
    "#             print(\"found: %s, %s\" % (x, y))\n",
    "#             axs[4].annotate(\"RFX3-4\", xy=(x, y), xytext=(8, -8), textcoords='offset points',\n",
    "#                             arrowprops = dict(arrowstyle=\"-\", connectionstyle=\"arc3,rad=0.3\"), \n",
    "#                             ha=\"center\", va=\"top\", fontsize=7,\n",
    "#                             bbox=dict(boxstyle='square,pad=0', fc='none', ec='none'))\n",
    "\n",
    "# missing stuff\n",
    "incl = pd.concat([tot_loss_activ, \n",
    "                  tot_loss_repr, \n",
    "                  tot_loss_both, \n",
    "                  partial_loss_activ, \n",
    "                  partial_loss_repr, \n",
    "                  all_retained])\n",
    "\n",
    "no_annot = df.loc[(~df.index.isin(incl.index.values)) & (pd.isnull(df[\"fraction_of_AD_domains_removed_incl_pfam\"])) &\n",
    "                  (pd.isnull(df[\"fraction_of_RD_domains_removed_incl_pfam\"])) & \n",
    "                  (pd.isnull(df[\"fraction_of_Bif_domains_removed_incl_pfam\"]))]\n",
    "axs[6].set_title('No annotated\\neffector domains')\n",
    "sns.swarmplot(data=no_annot,\n",
    "              y='activation_fold_change_log2', \n",
    "              x='m1h_gte_2_fold_at_least_one_iso_per_gene',\n",
    "              size=point_size,\n",
    "            clip_on=False,\n",
    "              ax=axs[6],\n",
    "              linewidth=1,\n",
    "               edgecolor=\"black\",\n",
    "              alpha=1,\n",
    "              color=sns.color_palette(\"flare\")[0])\n",
    "axs[6].set_xticks([])\n",
    "axs[6].set_xlabel('')\n",
    "\n",
    "\n",
    "# add colorbar\n",
    "# mirror figure\n",
    "gs_kw = dict(width_ratios=[0.4, 0.4, 0.5, 1.2, 1.2, 1.5, 0.8])\n",
    "fig2, axs2 = plt.subplots(1, 7, sharey=True, gridspec_kw=gs_kw)\n",
    "fig2.set_size_inches(w=8.2, h=2)\n",
    "map1 = axs2[5].imshow(np.stack([t, t]), cmap=\"flare\", vmin=25, vmax=250)\n",
    "cbar = fig.colorbar(map1, ax=axs[5], aspect=40)\n",
    "cbar.set_ticks([25, 75, 150, 250])\n",
    "cbar.set_ticklabels([\"<=25\", \"75\", \"150\", \">=250\"])\n",
    "cbar.set_label(\"# AA in annotated domain\", labelpad=-4)\n",
    "\n",
    "\n",
    "for ax in axs:\n",
    "    ax.spines['right'].set_visible(False)\n",
    "    ax.spines['top'].set_visible(False)\n",
    "    ax.set_ylim(-7.5, 7.5)\n",
    "    ax.axhline(y=0, color='black', linewidth=1, linestyle='dashed')\n",
    "for ax in axs[1:]:\n",
    "    ax.spines['left'].set_visible(False)\n",
    "    ax.yaxis.set_tick_params(which='both', length=0)\n",
    "    ax.set_ylabel(\"\")\n",
    "axs[0].set_ylabel(\"log2(activation fold change)\")\n",
    "fig.savefig('../../figures/fig4/activation_vs_domain_removal_incl_pfam_colored_by_dom_length.pdf', bbox_inches='tight')"
   ]
  },
  {
   "cell_type": "markdown",
   "metadata": {},
   "source": [
    "## 5. pie charts of PPI categories"
   ]
  },
  {
   "cell_type": "code",
   "execution_count": 21,
   "metadata": {},
   "outputs": [
    {
     "data": {
      "text/plain": [
       "1114"
      ]
     },
     "execution_count": 21,
     "metadata": {},
     "output_type": "execute_result"
    }
   ],
   "source": [
    "len(cats)"
   ]
  },
  {
   "cell_type": "code",
   "execution_count": 22,
   "metadata": {},
   "outputs": [
    {
     "data": {
      "text/plain": [
       "987"
      ]
     },
     "execution_count": 22,
     "metadata": {},
     "output_type": "execute_result"
    }
   ],
   "source": [
    "len(cats.gene_symbol_partner.unique())"
   ]
  },
  {
   "cell_type": "code",
   "execution_count": 23,
   "metadata": {},
   "outputs": [
    {
     "data": {
      "text/plain": [
       "TF                     239\n",
       "cofactor               165\n",
       "signaling              141\n",
       "other                  101\n",
       "metabolism              81\n",
       "cytoskeleton            77\n",
       "protein turnover        60\n",
       "RNA processing          59\n",
       "vesicle transport       47\n",
       "cell cycle              36\n",
       "DNA repair              28\n",
       "translation             20\n",
       "cell-cell signaling     19\n",
       "membrane protein        14\n",
       "RNA turnover             9\n",
       "nuclear transport        6\n",
       "DNA polymerase           6\n",
       "DNA replication          5\n",
       "protein traffiking       1\n",
       "Name: category, dtype: int64"
      ]
     },
     "execution_count": 23,
     "metadata": {},
     "output_type": "execute_result"
    }
   ],
   "source": [
    "cats.category.value_counts()"
   ]
  },
  {
   "cell_type": "code",
   "execution_count": 24,
   "metadata": {},
   "outputs": [
    {
     "data": {
      "text/plain": [
       "500"
      ]
     },
     "execution_count": 24,
     "metadata": {},
     "output_type": "execute_result"
    }
   ],
   "source": [
    "y2h_nonan = y2h[~pd.isnull(y2h[\"Y2H_result\"])]\n",
    "len(y2h_nonan.db_gene_symbol.unique())"
   ]
  },
  {
   "cell_type": "code",
   "execution_count": 25,
   "metadata": {},
   "outputs": [
    {
     "data": {
      "text/html": [
       "<div>\n",
       "<style scoped>\n",
       "    .dataframe tbody tr th:only-of-type {\n",
       "        vertical-align: middle;\n",
       "    }\n",
       "\n",
       "    .dataframe tbody tr th {\n",
       "        vertical-align: top;\n",
       "    }\n",
       "\n",
       "    .dataframe thead th {\n",
       "        text-align: right;\n",
       "    }\n",
       "</style>\n",
       "<table border=\"1\" class=\"dataframe\">\n",
       "  <thead>\n",
       "    <tr style=\"text-align: right;\">\n",
       "      <th></th>\n",
       "      <th>ad_gene_symbol</th>\n",
       "      <th>db_gene_symbol</th>\n",
       "    </tr>\n",
       "  </thead>\n",
       "  <tbody>\n",
       "    <tr>\n",
       "      <th>0</th>\n",
       "      <td>ATF2</td>\n",
       "      <td>ATF2</td>\n",
       "    </tr>\n",
       "    <tr>\n",
       "      <th>4</th>\n",
       "      <td>ATF2</td>\n",
       "      <td>JDP2</td>\n",
       "    </tr>\n",
       "    <tr>\n",
       "      <th>39</th>\n",
       "      <td>ATF2</td>\n",
       "      <td>FOSL2</td>\n",
       "    </tr>\n",
       "    <tr>\n",
       "      <th>73</th>\n",
       "      <td>ATF2</td>\n",
       "      <td>MAPK9</td>\n",
       "    </tr>\n",
       "    <tr>\n",
       "      <th>122</th>\n",
       "      <td>CREB5</td>\n",
       "      <td>EFEMP2</td>\n",
       "    </tr>\n",
       "    <tr>\n",
       "      <th>...</th>\n",
       "      <td>...</td>\n",
       "      <td>...</td>\n",
       "    </tr>\n",
       "    <tr>\n",
       "      <th>10218</th>\n",
       "      <td>TCF12</td>\n",
       "      <td>HEXIM2</td>\n",
       "    </tr>\n",
       "    <tr>\n",
       "      <th>10246</th>\n",
       "      <td>DDIT3</td>\n",
       "      <td>ZBTB25</td>\n",
       "    </tr>\n",
       "    <tr>\n",
       "      <th>10247</th>\n",
       "      <td>DDIT3</td>\n",
       "      <td>ZC3H14</td>\n",
       "    </tr>\n",
       "    <tr>\n",
       "      <th>10271</th>\n",
       "      <td>TCF12</td>\n",
       "      <td>EPHB6</td>\n",
       "    </tr>\n",
       "    <tr>\n",
       "      <th>10278</th>\n",
       "      <td>TCF12</td>\n",
       "      <td>FAM50B</td>\n",
       "    </tr>\n",
       "  </tbody>\n",
       "</table>\n",
       "<p>786 rows × 2 columns</p>\n",
       "</div>"
      ],
      "text/plain": [
       "      ad_gene_symbol db_gene_symbol\n",
       "0               ATF2           ATF2\n",
       "4               ATF2           JDP2\n",
       "39              ATF2          FOSL2\n",
       "73              ATF2          MAPK9\n",
       "122            CREB5         EFEMP2\n",
       "...              ...            ...\n",
       "10218          TCF12         HEXIM2\n",
       "10246          DDIT3         ZBTB25\n",
       "10247          DDIT3         ZC3H14\n",
       "10271          TCF12          EPHB6\n",
       "10278          TCF12         FAM50B\n",
       "\n",
       "[786 rows x 2 columns]"
      ]
     },
     "execution_count": 25,
     "metadata": {},
     "output_type": "execute_result"
    }
   ],
   "source": [
    "ggi = y2h_nonan[[\"ad_gene_symbol\", \"db_gene_symbol\"]].drop_duplicates()\n",
    "ggi"
   ]
  },
  {
   "cell_type": "code",
   "execution_count": 26,
   "metadata": {},
   "outputs": [
    {
     "data": {
      "text/plain": [
       "506"
      ]
     },
     "execution_count": 26,
     "metadata": {},
     "output_type": "execute_result"
    }
   ],
   "source": [
    "# limiting df to those that are in the y2h iso data\n",
    "cats_y2h = cats[cats[\"gene_symbol_partner\"].isin(ggi[\"db_gene_symbol\"])]\n",
    "len(cats_y2h)"
   ]
  },
  {
   "cell_type": "code",
   "execution_count": 27,
   "metadata": {},
   "outputs": [
    {
     "data": {
      "text/html": [
       "<div>\n",
       "<style scoped>\n",
       "    .dataframe tbody tr th:only-of-type {\n",
       "        vertical-align: middle;\n",
       "    }\n",
       "\n",
       "    .dataframe tbody tr th {\n",
       "        vertical-align: top;\n",
       "    }\n",
       "\n",
       "    .dataframe thead th {\n",
       "        text-align: right;\n",
       "    }\n",
       "</style>\n",
       "<table border=\"1\" class=\"dataframe\">\n",
       "  <thead>\n",
       "    <tr style=\"text-align: right;\">\n",
       "      <th></th>\n",
       "      <th>gene_symbol_partner</th>\n",
       "      <th>category</th>\n",
       "    </tr>\n",
       "  </thead>\n",
       "  <tbody>\n",
       "    <tr>\n",
       "      <th>9</th>\n",
       "      <td>ARHGEF5</td>\n",
       "      <td>2</td>\n",
       "    </tr>\n",
       "    <tr>\n",
       "      <th>24</th>\n",
       "      <td>BARD1</td>\n",
       "      <td>3</td>\n",
       "    </tr>\n",
       "    <tr>\n",
       "      <th>48</th>\n",
       "      <td>CCNK</td>\n",
       "      <td>2</td>\n",
       "    </tr>\n",
       "    <tr>\n",
       "      <th>51</th>\n",
       "      <td>CDCA7L</td>\n",
       "      <td>2</td>\n",
       "    </tr>\n",
       "    <tr>\n",
       "      <th>53</th>\n",
       "      <td>CDK3</td>\n",
       "      <td>3</td>\n",
       "    </tr>\n",
       "  </tbody>\n",
       "</table>\n",
       "</div>"
      ],
      "text/plain": [
       "   gene_symbol_partner  category\n",
       "9              ARHGEF5         2\n",
       "24               BARD1         3\n",
       "48                CCNK         2\n",
       "51              CDCA7L         2\n",
       "53                CDK3         3"
      ]
     },
     "execution_count": 27,
     "metadata": {},
     "output_type": "execute_result"
    }
   ],
   "source": [
    "cats_dupe = cats_y2h.groupby(\"gene_symbol_partner\")[\"category\"].agg(\"count\").reset_index()\n",
    "cats_dupe[cats_dupe[\"category\"] > 1].head()"
   ]
  },
  {
   "cell_type": "code",
   "execution_count": 28,
   "metadata": {},
   "outputs": [
    {
     "data": {
      "text/html": [
       "<div>\n",
       "<style scoped>\n",
       "    .dataframe tbody tr th:only-of-type {\n",
       "        vertical-align: middle;\n",
       "    }\n",
       "\n",
       "    .dataframe tbody tr th {\n",
       "        vertical-align: top;\n",
       "    }\n",
       "\n",
       "    .dataframe thead th {\n",
       "        text-align: right;\n",
       "    }\n",
       "</style>\n",
       "<table border=\"1\" class=\"dataframe\">\n",
       "  <thead>\n",
       "    <tr style=\"text-align: right;\">\n",
       "      <th></th>\n",
       "      <th>gene_symbol_partner</th>\n",
       "      <th>category</th>\n",
       "      <th>cofactor_type</th>\n",
       "    </tr>\n",
       "  </thead>\n",
       "  <tbody>\n",
       "    <tr>\n",
       "      <th>30</th>\n",
       "      <td>BARD1</td>\n",
       "      <td>cofactor</td>\n",
       "      <td>both</td>\n",
       "    </tr>\n",
       "    <tr>\n",
       "      <th>31</th>\n",
       "      <td>BARD1</td>\n",
       "      <td>RNA processing</td>\n",
       "      <td>NaN</td>\n",
       "    </tr>\n",
       "    <tr>\n",
       "      <th>32</th>\n",
       "      <td>BARD1</td>\n",
       "      <td>DNA repair</td>\n",
       "      <td>NaN</td>\n",
       "    </tr>\n",
       "  </tbody>\n",
       "</table>\n",
       "</div>"
      ],
      "text/plain": [
       "   gene_symbol_partner        category cofactor_type\n",
       "30               BARD1        cofactor          both\n",
       "31               BARD1  RNA processing           NaN\n",
       "32               BARD1      DNA repair           NaN"
      ]
     },
     "execution_count": 28,
     "metadata": {},
     "output_type": "execute_result"
    }
   ],
   "source": [
    "# keeping partners that are assigned more than 1 category for now...\n",
    "cats_y2h[cats_y2h[\"gene_symbol_partner\"] == \"BARD1\"]"
   ]
  },
  {
   "cell_type": "code",
   "execution_count": 29,
   "metadata": {},
   "outputs": [
    {
     "name": "stderr",
     "output_type": "stream",
     "text": [
      "/PHShome/kz659/.conda/envs/py36/lib/python3.6/site-packages/ipykernel_launcher.py:11: SettingWithCopyWarning: \n",
      "A value is trying to be set on a copy of a slice from a DataFrame.\n",
      "Try using .loc[row_indexer,col_indexer] = value instead\n",
      "\n",
      "See the caveats in the documentation: https://pandas.pydata.org/pandas-docs/stable/user_guide/indexing.html#returning-a-view-versus-a-copy\n",
      "  # This is added back by InteractiveShellApp.init_path()\n"
     ]
    },
    {
     "data": {
      "text/plain": [
       "other        235\n",
       "TF           128\n",
       "cofactor      78\n",
       "signaling     65\n",
       "Name: partner_category, dtype: int64"
      ]
     },
     "execution_count": 29,
     "metadata": {},
     "output_type": "execute_result"
    }
   ],
   "source": [
    "def categorize_PPI_partner(row):\n",
    "    if row['category'] == \"TF\":\n",
    "        return 'TF'\n",
    "    elif row['category'] == \"cofactor\":\n",
    "        return 'cofactor'\n",
    "    elif row['category'] == \"signaling\":\n",
    "        return 'signaling'\n",
    "    else:\n",
    "        return 'other'\n",
    "    \n",
    "cats_y2h[\"partner_category\"] = cats_y2h.apply(categorize_PPI_partner, axis=1)\n",
    "cats_y2h.partner_category.value_counts()"
   ]
  },
  {
   "cell_type": "code",
   "execution_count": 30,
   "metadata": {},
   "outputs": [
    {
     "data": {
      "image/png": "[encoded data removed]",
      "text/plain": [
       "<Figure size 86.4x86.4 with 1 Axes>"
      ]
     },
     "metadata": {},
     "output_type": "display_data"
    }
   ],
   "source": [
    "ys = np.array([len(cats_y2h[cats_y2h[\"partner_category\"] == \"TF\"]), len(cats_y2h[cats_y2h[\"partner_category\"] == \"cofactor\"]),\n",
    "               len(cats_y2h[cats_y2h[\"partner_category\"] == \"signaling\"]),\n",
    "              len(cats_y2h[cats_y2h[\"partner_category\"] == \"other\"])])\n",
    "labels = [\"TF\", \"cofactor\", \"signaling\", \"other\"]\n",
    "colors = [sns.color_palette(\"Set2\")[2], sns.color_palette(\"Set2\")[1], sns.color_palette(\"Set2\")[5], \"darkgray\"]\n",
    "\n",
    "fig, ax = plt.subplots(figsize=(1.2, 1.2), subplot_kw=dict(aspect=\"equal\"))\n",
    "ws, ls, ns = ax.pie(ys, colors=colors, labels=labels, autopct='%1.0f%%', startangle=-45, \n",
    "                    explode=(0.02, 0.2, 0.05, 0.05))\n",
    "\n",
    "for n, w in zip(ns, ws):\n",
    "    w.set_linewidth(0.5)\n",
    "    w.set_edgecolor(\"black\")\n",
    "    n.set_fontweight(\"bold\")\n",
    "\n",
    "fig.savefig(\"../../figures/fig4/PPIs-gene-level-manual-categories_simplified.pdf\", dpi=\"figure\", bbox_inches=\"tight\")"
   ]
  },
  {
   "cell_type": "code",
   "execution_count": 31,
   "metadata": {},
   "outputs": [],
   "source": [
    "cofactor_partners = set(cats_y2h.loc[cats_y2h['category'] == 'cofactor', 'gene_symbol_partner'].unique())\n",
    "coactivator_partners = set(cats_y2h.loc[cats_y2h['cofactor_type'] == 'coactivator', 'gene_symbol_partner'].unique())\n",
    "corepressor_partners = set(cats_y2h.loc[cats_y2h['cofactor_type'] == 'corepressor', 'gene_symbol_partner'].unique())\n",
    "both_partners = set(cats_y2h.loc[cats_y2h['cofactor_type'] == 'both', 'gene_symbol_partner'].unique())\n",
    "signaling_partners = set(cats_y2h.loc[cats_y2h['category'] == 'signaling', 'gene_symbol_partner'].unique())\n",
    "cofactor_animal_db = set(cof['Symbol'].unique())\n",
    "tf_gene_symbols = set(load_human_tf_db()['HGNC symbol'].values)"
   ]
  },
  {
   "cell_type": "code",
   "execution_count": 32,
   "metadata": {},
   "outputs": [
    {
     "name": "stderr",
     "output_type": "stream",
     "text": [
      "/PHShome/kz659/.conda/envs/py36/lib/python3.6/site-packages/ipykernel_launcher.py:14: SettingWithCopyWarning: \n",
      "A value is trying to be set on a copy of a slice from a DataFrame.\n",
      "Try using .loc[row_indexer,col_indexer] = value instead\n",
      "\n",
      "See the caveats in the documentation: https://pandas.pydata.org/pandas-docs/stable/user_guide/indexing.html#returning-a-view-versus-a-copy\n",
      "  \n"
     ]
    },
    {
     "data": {
      "text/plain": [
       "NA             428\n",
       "corepressor     29\n",
       "coactivator     28\n",
       "both            12\n",
       "unknown          9\n",
       "Name: cofactor_type, dtype: int64"
      ]
     },
     "execution_count": 32,
     "metadata": {},
     "output_type": "execute_result"
    }
   ],
   "source": [
    "def categorize_cofactors(row):\n",
    "    if row[\"partner_category\"] == \"cofactor\":\n",
    "        if row[\"gene_symbol_partner\"] in both_partners:\n",
    "            return \"both\"\n",
    "        elif row[\"gene_symbol_partner\"] in coactivator_partners:\n",
    "            return \"coactivator\"\n",
    "        elif row[\"gene_symbol_partner\"] in corepressor_partners:\n",
    "            return \"corepressor\"\n",
    "        else:\n",
    "            return \"unknown\"\n",
    "    else:\n",
    "        return \"NA\"\n",
    "    \n",
    "cats_y2h[\"cofactor_type\"] = cats_y2h.apply(categorize_cofactors, axis=1)\n",
    "cats_y2h.cofactor_type.value_counts()"
   ]
  },
  {
   "cell_type": "code",
   "execution_count": 33,
   "metadata": {},
   "outputs": [
    {
     "data": {
      "image/png": "[encoded data removed]",
      "text/plain": [
       "<Figure size 86.4x86.4 with 1 Axes>"
      ]
     },
     "metadata": {},
     "output_type": "display_data"
    }
   ],
   "source": [
    "cofacs = cats_y2h[cats_y2h[\"partner_category\"] == \"cofactor\"]\n",
    "\n",
    "ys = np.array([len(cofacs[cofacs[\"cofactor_type\"] == \"coactivator\"]), \n",
    "               len(cofacs[cofacs[\"cofactor_type\"] == \"corepressor\"]),\n",
    "               len(cofacs[cofacs[\"cofactor_type\"] == \"both\"]),\n",
    "               len(cofacs[cofacs[\"cofactor_type\"] == \"unknown\"])])\n",
    "labels = [\"coactivator\", \"corepressor\", \"both\", \"unknown\"]\n",
    "colors = [sns.color_palette(\"Set2\")[0], sns.color_palette(\"Set2\")[3], sns.color_palette(\"Set2\")[4], \"darkgray\"]\n",
    "\n",
    "fig, ax = plt.subplots(figsize=(1.2, 1.2), subplot_kw=dict(aspect=\"equal\"))\n",
    "ws, ls, ns = ax.pie(ys, colors=colors, labels=labels, autopct='%1.0f%%', startangle=60, \n",
    "                    explode=(0.05, 0.05, 0.05, 0.1))\n",
    "\n",
    "for n, w in zip(ns, ws):\n",
    "    w.set_linewidth(0.5)\n",
    "    w.set_edgecolor(\"black\")\n",
    "    n.set_fontweight(\"bold\")\n",
    "\n",
    "fig.savefig(\"../../figures/fig4/PPIs-gene-level-manual-categories_cofactors.pdf\", dpi=\"figure\", bbox_inches=\"tight\")"
   ]
  },
  {
   "cell_type": "markdown",
   "metadata": {},
   "source": [
    "## 6. plot the relationship between gain/loss of PPIs and changes in activity"
   ]
  },
  {
   "cell_type": "code",
   "execution_count": 34,
   "metadata": {
    "scrolled": true
   },
   "outputs": [
    {
     "name": "stdout",
     "output_type": "stream",
     "text": [
      "reading from cache\n"
     ]
    }
   ],
   "source": [
    "pairs = load_ref_vs_alt_isoforms_table()\n",
    "tfs = load_annotated_TFiso1_collection()"
   ]
  },
  {
   "cell_type": "code",
   "execution_count": 35,
   "metadata": {},
   "outputs": [],
   "source": [
    "def add_restricted_ppi_columns(pairs, rows, label):\n",
    "    pairs_cf = pairs[['clone_acc_ref', 'clone_acc_alt']].copy()\n",
    "    _add_PPI_columns(df=pairs_cf, y2h=y2h.loc[rows, :])\n",
    "    return pd.merge(pairs, \n",
    "                    pairs_cf,\n",
    "                    how='left',\n",
    "                    on=['clone_acc_ref', 'clone_acc_alt'],\n",
    "                    suffixes=('', '_' + label))"
   ]
  },
  {
   "cell_type": "code",
   "execution_count": 36,
   "metadata": {},
   "outputs": [],
   "source": [
    "pairs = add_restricted_ppi_columns(pairs, \n",
    "                           rows=y2h['db_gene_symbol'].isin(cofactor_partners),\n",
    "                           label='cofactors'\n",
    ")\n",
    "pairs = add_restricted_ppi_columns(pairs, \n",
    "                           rows=y2h['db_gene_symbol'].isin(cofactor_animal_db),\n",
    "                           label='cofactors_animal_db'\n",
    ")\n",
    "pairs = add_restricted_ppi_columns(pairs, \n",
    "                           rows=(y2h['db_gene_symbol'].isin(coactivator_partners) &\n",
    "                                 y2h['db_gene_symbol'].isin(hek_expressed_genes)),\n",
    "                           label='coactivators_HEK'\n",
    ")\n",
    "pairs = add_restricted_ppi_columns(pairs, \n",
    "                           rows=(y2h['db_gene_symbol'].isin(coactivator_partners) &\n",
    "                                 ~y2h['db_gene_symbol'].isin(hek_expressed_genes)),\n",
    "                           label='coactivators_not_HEK'\n",
    ")\n",
    "pairs = add_restricted_ppi_columns(pairs, \n",
    "                           rows=~y2h['db_gene_symbol'].isin(cofactor_partners),\n",
    "                           label='not_cofactors'\n",
    ")\n",
    "pairs = add_restricted_ppi_columns(pairs, \n",
    "                           rows=y2h['db_gene_symbol'].isin(coactivator_partners),\n",
    "                           label='coactivators'\n",
    ")\n",
    "pairs = add_restricted_ppi_columns(pairs, \n",
    "                           rows=y2h['db_gene_symbol'].isin(corepressor_partners),\n",
    "                           label='corepressors'\n",
    ")\n",
    "pairs = add_restricted_ppi_columns(pairs, \n",
    "                           rows=(y2h['db_gene_symbol'].isin(corepressor_partners) &\n",
    "                                 y2h['db_gene_symbol'].isin(hek_expressed_genes)),\n",
    "                           label='corepressors_HEK'\n",
    ")\n",
    "pairs = add_restricted_ppi_columns(pairs, \n",
    "                           rows=y2h['db_gene_symbol'].isin(tf_gene_symbols),\n",
    "                           label='tfs'\n",
    ")\n",
    "\n",
    "pairs = add_restricted_ppi_columns(pairs, \n",
    "                           rows=(y2h['db_gene_symbol'].isin(signaling_partners) &\n",
    "                                 y2h['db_gene_symbol'].isin(hek_expressed_genes)),\n",
    "                           label='signaling_HEK'\n",
    ")"
   ]
  },
  {
   "cell_type": "code",
   "execution_count": 37,
   "metadata": {},
   "outputs": [],
   "source": [
    "def bar_activation_vs_ppi(x, y, pairs=pairs, x_label=None, y_label=None, color=None):\n",
    "    \"\"\"\n",
    "    TODO:\n",
    "        - calculate p-value properly\n",
    "            - this requires permuting in some smart way\n",
    "            - one question is whether the genes are the number of independent data points or the isoforms are\n",
    "            - I think the answer is the isoforms are\n",
    "    \n",
    "    \"\"\"\n",
    "    df = pairs.copy()\n",
    "    if x_label is None:\n",
    "        x_label = x\n",
    "    if y_label is None:\n",
    "        y_label = y\n",
    "    if color is None:\n",
    "        color = sns.color_palette(\"Set2\")[1]\n",
    "    fig, ax = plt.subplots(1, 1, figsize=(1.75, 1.5))\n",
    "\n",
    "    def bin_delta_ppi(delta_ppi):\n",
    "        if pd.isnull(delta_ppi):\n",
    "            return np.nan\n",
    "        if delta_ppi < 0:\n",
    "            return 'loss'\n",
    "        elif delta_ppi > 0:\n",
    "            return 'gain'\n",
    "        elif delta_ppi == 0:\n",
    "            return 'equal'\n",
    "        else:\n",
    "            raise ValueError(delta_ppi)\n",
    "\n",
    "\n",
    "    df[x + '_binned'] = df[x].apply(bin_delta_ppi)\n",
    "    sns.stripplot(data=df,\n",
    "                  x=x + '_binned',\n",
    "                  y=y,\n",
    "                  order=['loss', 'equal', 'gain'],\n",
    "                  alpha=0.75,\n",
    "                  color=color,\n",
    "                  linewidth=1,\n",
    "                  edgecolor=\"black\",\n",
    "                  ax=ax)\n",
    "    if False:\n",
    "        sns.pointplot(data=df,\n",
    "                    x=x + '_binned',\n",
    "                    y=y,\n",
    "                    order=['loss', 'equal', 'gain'],\n",
    "                    alpha=0.5,\n",
    "                    color='black',\n",
    "                    ax=ax)\n",
    "    if True:\n",
    "        sns.boxplot(data=df,\n",
    "                    x=x + '_binned',\n",
    "                    y=y,\n",
    "                    order=['loss', 'equal', 'gain'],\n",
    "                    fliersize=0,\n",
    "                    color=color,\n",
    "                    ax=ax)\n",
    "        mimic_r_boxplot(ax)\n",
    "    else:\n",
    "        sns.violinplot(data=df,\n",
    "                    x=x + '_binned',\n",
    "                    y=y,\n",
    "                    order=['loss', 'equal', 'gain'],\n",
    "                    color='lightgrey',\n",
    "                    ax=ax)\n",
    "    ax.set_xlabel(x_label)\n",
    "    ax.set_ylabel(y_label)\n",
    "    with_data = (df[x].notnull() & df[y].notnull())\n",
    "    n_pair = with_data.sum()\n",
    "    n_iso = len(set(df.loc[with_data, ['clone_acc_ref', 'clone_acc_alt']].values.flatten()))\n",
    "    n_gene = df.loc[with_data, 'gene_symbol'].nunique()\n",
    "    scc, p_scc = stats.spearmanr(df.loc[df[x].notnull() & df[y].notnull(), x].values,\n",
    "                    df.loc[df[x].notnull() & df[y].notnull(), y].values)\n",
    "    ax.text(s=f'{n_pair:d} pairs\\n{n_iso:d} isoforms\\n{n_gene:d} genes\\nSpearman r = {scc:.2f}\\np = {p_scc:.2f}',\n",
    "            x=1.03,\n",
    "            y=0.95,\n",
    "            ha='left',\n",
    "            va='top',\n",
    "            transform=ax.transAxes)\n",
    "    #ax.set_ylim(-4, 4) # NOTE cuts outlier TODO add broken axis\n",
    "    ax.axhline(y=0, color='black', linestyle=\"dashed\", linewidth=1)\n",
    "    for pos in ['top', 'bottom', 'right']:\n",
    "        ax.spines[pos].set_visible(False)\n",
    "    ax.xaxis.set_tick_params(length=0)\n",
    "    fig.savefig(f'../../figures/fig4/{x}-vs-{y}_scatter.pdf',\n",
    "                bbox_inches='tight')"
   ]
  },
  {
   "cell_type": "code",
   "execution_count": 38,
   "metadata": {},
   "outputs": [],
   "source": [
    "pairs['activation_abs_fold_change'] = pairs['activation_fold_change_log2'].abs()"
   ]
  },
  {
   "cell_type": "code",
   "execution_count": 39,
   "metadata": {},
   "outputs": [
    {
     "data": {
      "image/png": "[encoded data removed]",
      "text/plain": [
       "<Figure size 126x108 with 1 Axes>"
      ]
     },
     "metadata": {},
     "output_type": "display_data"
    }
   ],
   "source": [
    "bar_activation_vs_ppi(\n",
    "    pairs=pairs.loc[pairs['at_least_one_isoform_in_gene_abs_activation_gte_2fold'] == True, :],\n",
    "    x='PPI_delta_n',\n",
    "    y='activation_fold_change_log2',\n",
    "    x_label='Net difference in number of PPIs',\n",
    "    y_label='log-2 fold-change in activation')"
   ]
  },
  {
   "cell_type": "code",
   "execution_count": 40,
   "metadata": {},
   "outputs": [
    {
     "data": {
      "image/png": "[encoded data removed]",
      "text/plain": [
       "<Figure size 126x108 with 1 Axes>"
      ]
     },
     "metadata": {},
     "output_type": "display_data"
    }
   ],
   "source": [
    "bar_activation_vs_ppi(\n",
    "    pairs=pairs.loc[pairs['at_least_one_isoform_in_gene_abs_activation_gte_2fold'] == True, :],\n",
    "    x='PPI_delta_n_corepressors_HEK',\n",
    "    y='activation_fold_change_log2',\n",
    "    x_label='Difference in number of corepressor PPIs\\nrestricted to those expressed in HEK293 cells',\n",
    "    y_label='log-2 fold-change in activation',\n",
    "    color=sns.color_palette(\"Set2\")[3])"
   ]
  },
  {
   "cell_type": "code",
   "execution_count": 41,
   "metadata": {},
   "outputs": [
    {
     "data": {
      "image/png": "[encoded data removed]",
      "text/plain": [
       "<Figure size 126x108 with 1 Axes>"
      ]
     },
     "metadata": {},
     "output_type": "display_data"
    }
   ],
   "source": [
    "bar_activation_vs_ppi(\n",
    "    pairs=pairs.loc[pairs['at_least_one_isoform_in_gene_abs_activation_gte_2fold'] == True, :],\n",
    "    x='PPI_delta_n_coactivators',\n",
    "    y='activation_fold_change_log2',\n",
    "    x_label='Difference in number of coactivator PPIs\\nrestricted to those expressed in HEK293 cells',\n",
    "    y_label='log-2 fold-change in activation',\n",
    "    color=sns.color_palette(\"Set2\")[0])"
   ]
  },
  {
   "cell_type": "code",
   "execution_count": 42,
   "metadata": {},
   "outputs": [
    {
     "data": {
      "image/png": "[encoded data removed]",
      "text/plain": [
       "<Figure size 126x108 with 1 Axes>"
      ]
     },
     "metadata": {},
     "output_type": "display_data"
    }
   ],
   "source": [
    "bar_activation_vs_ppi(\n",
    "    pairs=pairs.loc[pairs['at_least_one_isoform_in_gene_abs_activation_gte_2fold'] == True, :],\n",
    "    x='PPI_delta_n_signaling_HEK',\n",
    "    y='activation_fold_change_log2',\n",
    "    x_label='Difference in number of signaling PPIs\\nrestricted to those expressed in HEK293 cells',\n",
    "    y_label='log-2 fold-change in activation',\n",
    "    color=sns.color_palette(\"Set2\")[5])"
   ]
  },
  {
   "cell_type": "code",
   "execution_count": 43,
   "metadata": {},
   "outputs": [
    {
     "data": {
      "text/html": [
       "<div>\n",
       "<style scoped>\n",
       "    .dataframe tbody tr th:only-of-type {\n",
       "        vertical-align: middle;\n",
       "    }\n",
       "\n",
       "    .dataframe tbody tr th {\n",
       "        vertical-align: top;\n",
       "    }\n",
       "\n",
       "    .dataframe thead th {\n",
       "        text-align: right;\n",
       "    }\n",
       "</style>\n",
       "<table border=\"1\" class=\"dataframe\">\n",
       "  <thead>\n",
       "    <tr style=\"text-align: right;\">\n",
       "      <th></th>\n",
       "      <th>clone_acc_ref</th>\n",
       "      <th>clone_acc_alt</th>\n",
       "      <th>at_least_one_isoform_in_gene_abs_activation_gte_2fold</th>\n",
       "      <th>PPI_delta_n_coactivators_HEK</th>\n",
       "      <th>activation_fold_change_log2</th>\n",
       "    </tr>\n",
       "  </thead>\n",
       "  <tbody>\n",
       "    <tr>\n",
       "      <th>358</th>\n",
       "      <td>TCF4|1/9|07E01</td>\n",
       "      <td>TCF4|6/9|07H03</td>\n",
       "      <td>True</td>\n",
       "      <td>-4.0</td>\n",
       "      <td>-1.598357</td>\n",
       "    </tr>\n",
       "    <tr>\n",
       "      <th>357</th>\n",
       "      <td>TCF4|1/9|07E01</td>\n",
       "      <td>TCF4|5/9|07C02</td>\n",
       "      <td>True</td>\n",
       "      <td>-3.0</td>\n",
       "      <td>-1.369125</td>\n",
       "    </tr>\n",
       "    <tr>\n",
       "      <th>354</th>\n",
       "      <td>TCF4|1/9|07E01</td>\n",
       "      <td>TCF4|2/9|07E03</td>\n",
       "      <td>True</td>\n",
       "      <td>0.0</td>\n",
       "      <td>0.102610</td>\n",
       "    </tr>\n",
       "    <tr>\n",
       "      <th>360</th>\n",
       "      <td>TCF4|1/9|07E01</td>\n",
       "      <td>TCF4|8/9|07A05</td>\n",
       "      <td>True</td>\n",
       "      <td>-3.0</td>\n",
       "      <td>0.455881</td>\n",
       "    </tr>\n",
       "    <tr>\n",
       "      <th>355</th>\n",
       "      <td>TCF4|1/9|07E01</td>\n",
       "      <td>TCF4|3/9|07C04</td>\n",
       "      <td>True</td>\n",
       "      <td>0.0</td>\n",
       "      <td>0.621134</td>\n",
       "    </tr>\n",
       "    <tr>\n",
       "      <th>356</th>\n",
       "      <td>TCF4|1/9|07E01</td>\n",
       "      <td>TCF4|4/9|07G02</td>\n",
       "      <td>True</td>\n",
       "      <td>0.0</td>\n",
       "      <td>0.699990</td>\n",
       "    </tr>\n",
       "    <tr>\n",
       "      <th>359</th>\n",
       "      <td>TCF4|1/9|07E01</td>\n",
       "      <td>TCF4|7/9|07G03</td>\n",
       "      <td>True</td>\n",
       "      <td>-3.0</td>\n",
       "      <td>0.721583</td>\n",
       "    </tr>\n",
       "  </tbody>\n",
       "</table>\n",
       "</div>"
      ],
      "text/plain": [
       "      clone_acc_ref   clone_acc_alt  \\\n",
       "358  TCF4|1/9|07E01  TCF4|6/9|07H03   \n",
       "357  TCF4|1/9|07E01  TCF4|5/9|07C02   \n",
       "354  TCF4|1/9|07E01  TCF4|2/9|07E03   \n",
       "360  TCF4|1/9|07E01  TCF4|8/9|07A05   \n",
       "355  TCF4|1/9|07E01  TCF4|3/9|07C04   \n",
       "356  TCF4|1/9|07E01  TCF4|4/9|07G02   \n",
       "359  TCF4|1/9|07E01  TCF4|7/9|07G03   \n",
       "\n",
       "    at_least_one_isoform_in_gene_abs_activation_gte_2fold  \\\n",
       "358                                               True      \n",
       "357                                               True      \n",
       "354                                               True      \n",
       "360                                               True      \n",
       "355                                               True      \n",
       "356                                               True      \n",
       "359                                               True      \n",
       "\n",
       "     PPI_delta_n_coactivators_HEK  activation_fold_change_log2  \n",
       "358                          -4.0                    -1.598357  \n",
       "357                          -3.0                    -1.369125  \n",
       "354                           0.0                     0.102610  \n",
       "360                          -3.0                     0.455881  \n",
       "355                           0.0                     0.621134  \n",
       "356                           0.0                     0.699990  \n",
       "359                          -3.0                     0.721583  "
      ]
     },
     "execution_count": 43,
     "metadata": {},
     "output_type": "execute_result"
    }
   ],
   "source": [
    "pairs[pairs['gene_symbol'] == 'TCF4'].sort_values(by='activation_fold_change_log2')[['clone_acc_ref',\n",
    "                                                                                     'clone_acc_alt',\n",
    "                                                                                     'at_least_one_isoform_in_gene_abs_activation_gte_2fold',\n",
    "                                                                                     'PPI_delta_n_coactivators_HEK',\n",
    "                                                                                     'activation_fold_change_log2']]"
   ]
  }
 ],
 "metadata": {
  "kernelspec": {
   "display_name": "Python (py36)",
   "language": "python",
   "name": "py36"
  },
  "language_info": {
   "codemirror_mode": {
    "name": "ipython",
    "version": 3
   },
   "file_extension": ".py",
   "mimetype": "text/x-python",
   "name": "python",
   "nbconvert_exporter": "python",
   "pygments_lexer": "ipython3",
   "version": "3.6.10"
  }
 },
 "nbformat": 4,
 "nbformat_minor": 2
}
