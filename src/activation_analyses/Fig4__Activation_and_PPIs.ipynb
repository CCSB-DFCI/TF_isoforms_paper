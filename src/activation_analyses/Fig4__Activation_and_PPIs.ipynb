{
 "cells": [
  {
   "cell_type": "markdown",
   "metadata": {},
   "source": [
    "# Fig 4: Activation and PPIs/Dimerization\n",
    "\n",
    "considering effector domains to just be from the functional studies (no pfam domains). results do not change that much, and makes the code/explanation cleaner to focus on effector domains imo."
   ]
  },
  {
   "cell_type": "code",
   "execution_count": 1,
   "metadata": {},
   "outputs": [],
   "source": [
    "import numpy as np\n",
    "import matplotlib as mpl\n",
    "from scipy import stats\n",
    "from matplotlib import pyplot as plt\n",
    "from matplotlib.patches import Rectangle\n",
    "import pandas as pd\n",
    "import seaborn as sns\n",
    "import sys\n",
    "\n",
    "from statannotations.Annotator import Annotator\n",
    "\n",
    "# import utils\n",
    "sys.path.append(\"../\")\n",
    "sys.path.append(\"../data_loading\")\n",
    "\n",
    "import plotting\n",
    "from plotting import (mimic_r_boxplot,\n",
    "                      violinplot_reflected,\n",
    "                      y2h_ppi_per_tf_gene_plot,\n",
    "                      y1h_pdi_per_tf_gene_plot,\n",
    "                      m1h_activation_per_tf_gene_plot,\n",
    "                      annotate_pval)\n",
    "\n",
    "from data_loading import (load_y2h_isoform_data, \n",
    "                          load_m1h_activation_data, \n",
    "                          load_ppi_partner_categories, \n",
    "                          load_annotated_TFiso1_collection,\n",
    "                          load_human_tf_db,\n",
    "                          load_y1h_pdi_data,\n",
    "                          load_tf_families,\n",
    "                          DIMERIZING_TF_FAMILIES,\n",
    "                          load_ref_vs_alt_isoforms_table,\n",
    "                          load_pfam_domains_horfeome,\n",
    "                          load_full_y2h_data_including_controls)\n",
    "\n",
    "from data_loading.isoform_pairwise_metrics import _add_PPI_columns"
   ]
  },
  {
   "cell_type": "code",
   "execution_count": 2,
   "metadata": {},
   "outputs": [],
   "source": [
    "PAPER_PRESET = {\"style\": \"ticks\", \"font\": \"Helvetica\", \"context\": \"paper\", \n",
    "                \"rc\": {\"font.size\":7,\"axes.titlesize\":7,\n",
    "                       \"axes.labelsize\":7, 'axes.linewidth':0.5,\n",
    "                       \"legend.fontsize\":6, \"xtick.labelsize\":6,\n",
    "                       \"ytick.labelsize\":6, \"xtick.major.size\": 3.0,\n",
    "                       \"ytick.major.size\": 3.0, \"axes.edgecolor\": \"black\",\n",
    "                       \"xtick.major.pad\": 3.0, \"ytick.major.pad\": 3.0}}\n",
    "PAPER_FONTSIZE = 7"
   ]
  },
  {
   "cell_type": "code",
   "execution_count": 3,
   "metadata": {},
   "outputs": [],
   "source": [
    "sns.set(**PAPER_PRESET)\n",
    "fontsize = PAPER_FONTSIZE"
   ]
  },
  {
   "cell_type": "code",
   "execution_count": 4,
   "metadata": {},
   "outputs": [],
   "source": [
    "np.random.seed(2023)"
   ]
  },
  {
   "cell_type": "markdown",
   "metadata": {},
   "source": [
    "## 1. load TFs, assay data (Y2H, M1H), Pfam domains, and PPI partner categories/cofactors"
   ]
  },
  {
   "cell_type": "code",
   "execution_count": 5,
   "metadata": {},
   "outputs": [
    {
     "name": "stdout",
     "output_type": "stream",
     "text": [
      "reading from cache\n"
     ]
    }
   ],
   "source": [
    "tfs = load_annotated_TFiso1_collection()\n",
    "pairs = load_ref_vs_alt_isoforms_table()\n",
    "\n",
    "# RORC-1 alt iso is causing an error - filter out here - there's no data for it?\n",
    "pairs = pairs[pairs[\"clone_acc_alt\"] != \"RORC|1/6|05F11\"]\n",
    "\n",
    "pairs['ref_iso'] = pairs['clone_acc_ref'].apply(lambda x: x.split('|')[0] + '-' + x.split('|')[1].split('/')[0])\n",
    "pairs['alt_iso'] = pairs['clone_acc_alt'].apply(lambda x: x.split('|')[0] + '-' + x.split('|')[1].split('/')[0])\n",
    "pairs['f_disorder_difference'] = pairs.apply(lambda x: tfs[x['gene_symbol']].disordered_fraction_of_different_regions(x['ref_iso'], x['alt_iso']), axis=1)"
   ]
  },
  {
   "cell_type": "code",
   "execution_count": 6,
   "metadata": {},
   "outputs": [
    {
     "name": "stdout",
     "output_type": "stream",
     "text": [
      "reading from cache\n",
      "reading from cache\n"
     ]
    }
   ],
   "source": [
    "y2h = load_y2h_isoform_data()\n",
    "m1h = load_m1h_activation_data()\n",
    "m1h['mean'] = m1h[['M1H_rep1', 'M1H_rep2', 'M1H_rep3']].mean(axis=1)\n",
    "cats = load_ppi_partner_categories()"
   ]
  },
  {
   "cell_type": "code",
   "execution_count": 7,
   "metadata": {},
   "outputs": [
    {
     "name": "stdout",
     "output_type": "stream",
     "text": [
      "8543 proteins expressed in HEK293 proteome\n",
      "of 508 PPI partners, 256 are expressed in HEK293 cells\n"
     ]
    }
   ],
   "source": [
    "df = pd.read_excel('../../data/external/Geiger-et-al_MCP_2012_Supplementary-Table-2.xlsx',\n",
    "                   skiprows=1)\n",
    "hek_avrg = df[['iBAQ HEK293_1', 'iBAQ HEK293_2', 'iBAQ HEK293_3']].mean(axis=1)\n",
    "print((hek_avrg > 0).sum(), 'proteins expressed in HEK293 proteome')\n",
    "hek_expressed_genes = set(df.loc[(hek_avrg > 0) & df['Gene Names'].notnull(),\n",
    "       'Gene Names'].str.split(';').explode().values)\n",
    "all_partners = set(y2h['db_gene_symbol'].unique())\n",
    "print('of {} PPI partners, {} are expressed in HEK293 cells'.format(len(all_partners), \n",
    "      len(all_partners.intersection(hek_expressed_genes))))"
   ]
  },
  {
   "cell_type": "code",
   "execution_count": 8,
   "metadata": {},
   "outputs": [],
   "source": [
    "# now add Pfam AD/RDs\n",
    "pfam = pd.read_csv('../../data/external/Pfam-A.clans.tsv',\n",
    "                   sep='\\t',\n",
    "                   names=['pfam_accession', 'clan', 'clan_name', 'short_name', 'name'])"
   ]
  },
  {
   "cell_type": "code",
   "execution_count": 9,
   "metadata": {},
   "outputs": [],
   "source": [
    "cof = pd.read_csv('../../data/external/AnimalTFDB3_Homo_sapiens_TF_cofactors.txt',\n",
    "                 sep='\\t')\n",
    "if cof['Symbol'].duplicated().any():\n",
    "    raise UserWarning('unexpected duplicates')"
   ]
  },
  {
   "cell_type": "markdown",
   "metadata": {},
   "source": [
    "## 2. categorize effector domain changes between alt/ref iso"
   ]
  },
  {
   "cell_type": "code",
   "execution_count": 10,
   "metadata": {},
   "outputs": [],
   "source": [
    "dom = pd.concat([g.aa_feature_disruption(g.cloned_reference_isoform.name) for g in tfs.values()])\n",
    "\n",
    "# add activation or repression annotation from effector domain studies\n",
    "effector_domain_type = {}\n",
    "for tf in tfs.values():\n",
    "    for d in tf.cloned_reference_isoform.aa_seq_features:\n",
    "        if d.category == 'effector_domain':\n",
    "            effector_domain_type[d.accession] = d.name\n",
    "dom['type'] = dom['accession'].map(effector_domain_type)"
   ]
  },
  {
   "cell_type": "code",
   "execution_count": 11,
   "metadata": {},
   "outputs": [],
   "source": [
    "def fraction_of_effector_domains_removed(row, effector_type):\n",
    "    ds = dom.loc[(dom['alt_iso'] == row['alt_iso']) \n",
    "                  & (dom['type'].isin(effector_type)), :]\n",
    "    if ds.shape[0] == 0:\n",
    "        return np.nan\n",
    "    return ds[['deletion', 'frameshift']].sum().sum() / ds['length'].sum()\n",
    "\n",
    "\n",
    "def insertion_in_effector_domains(row, effector_type):\n",
    "    ds = dom.loc[(dom['alt_iso'] == row['alt_iso']) \n",
    "                  & (dom['type'].isin(effector_type)), :]\n",
    "    if ds.shape[0] == 0:\n",
    "        return np.nan\n",
    "    return ds['insertion'].sum()\n",
    "\n",
    "def domain_length(row, effector_type):\n",
    "    ds = dom.loc[(dom['alt_iso'] == row['alt_iso']) \n",
    "                  & (dom['type'].isin(effector_type)), :]\n",
    "    if ds.shape[0] == 0:\n",
    "        return np.nan\n",
    "    return ds['length'].sum()\n",
    "\n",
    "\n",
    "for effector_type, effector_type_name in zip([['AD'], ['RD'], ['Bif'], ['AD', 'RD', 'Bif']], ['AD', 'RD', 'Bif', 'all']):\n",
    "    pairs['fraction_of_{}_domains_removed'.format(effector_type_name)] = pairs.apply(fraction_of_effector_domains_removed, effector_type=effector_type, axis=1)\n",
    "    pairs['insertion_in_{}_domains'.format(effector_type_name)] = pairs.apply(insertion_in_effector_domains, effector_type=effector_type, axis=1)\n",
    "    pairs['length_of_{}_domains'.format(effector_type_name)] = pairs.apply(domain_length, effector_type=effector_type, axis=1)"
   ]
  },
  {
   "cell_type": "markdown",
   "metadata": {},
   "source": [
    "## 3. plot number of annotated domains (of various types) across isoforms"
   ]
  },
  {
   "cell_type": "code",
   "execution_count": 12,
   "metadata": {},
   "outputs": [
    {
     "data": {
      "text/plain": [
       "Text(0.5, 0, 'Effector domains in reference isoform')"
      ]
     },
     "execution_count": 12,
     "metadata": {},
     "output_type": "execute_result"
    },
    {
     "data": {
      "image/png": "[encoded data removed]",
      "text/plain": [
       "<Figure size 144x72 with 1 Axes>"
      ]
     },
     "metadata": {},
     "output_type": "display_data"
    }
   ],
   "source": [
    "# plot of number of activation domains per ref iso\n",
    "# fraction of sequnce within effector domains\n",
    "def count_effector_domains(gene):\n",
    "    iso = gene.cloned_reference_isoform\n",
    "    c = 0\n",
    "    for d in iso.aa_seq_features:\n",
    "        if d.category == 'effector_domain':\n",
    "            c += 1\n",
    "    return c\n",
    "\n",
    "n_effector = [count_effector_domains(tf) for tf in tfs.values()]\n",
    "\n",
    "fig, ax = plt.subplots(1, 1, figsize=(2, 1))\n",
    "ax.hist(n_effector,\n",
    "        range=(-0.25, max(n_effector) + 0.25),\n",
    "          bins=(max(n_effector) * 2 + 1))\n",
    "ax.set_xticks(range(max(n_effector) + 1))\n",
    "ax.set_ylabel('Number of genes ({} total)'.format(len(tfs)))\n",
    "ax.set_xlabel('Effector domains in reference isoform')"
   ]
  },
  {
   "cell_type": "code",
   "execution_count": 13,
   "metadata": {},
   "outputs": [
    {
     "data": {
      "text/plain": [
       "Text(0.5, 1.0, 'Soto et al. data')"
      ]
     },
     "execution_count": 13,
     "metadata": {},
     "output_type": "execute_result"
    },
    {
     "data": {
      "image/png": "[encoded data removed]",
      "text/plain": [
       "<Figure size 144x72 with 1 Axes>"
      ]
     },
     "metadata": {},
     "output_type": "display_data"
    }
   ],
   "source": [
    "# plot of number of activation domains per ref iso\n",
    "# fraction of sequnce within effector domains\n",
    "def count_Soto_effector_domains(gene):\n",
    "    iso = gene.cloned_reference_isoform\n",
    "    c = 0\n",
    "    for d in iso.aa_seq_features:\n",
    "        if d.category == 'effector_domain' and d.accession.startswith('Soto'):\n",
    "            c += 1\n",
    "    return c\n",
    "\n",
    "n_effector_soto = [count_Soto_effector_domains(tf) for tf in tfs.values()]\n",
    "\n",
    "fig, ax = plt.subplots(1, 1, figsize=(2, 1))\n",
    "ax.hist(n_effector_soto,\n",
    "        range=(-0.25, max(n_effector) + 0.25),\n",
    "          bins=(max(n_effector) * 2 + 1))\n",
    "ax.set_xticks(range(max(n_effector) + 1))\n",
    "ax.set_ylabel('Number of genes ({} total)'.format(len(tfs)))\n",
    "ax.set_xlabel('Effector domains in reference isoform')\n",
    "ax.set_title('Soto et al. data')"
   ]
  },
  {
   "cell_type": "code",
   "execution_count": 14,
   "metadata": {},
   "outputs": [
    {
     "data": {
      "text/plain": [
       "Text(0.5, 1.0, 'Data from Bintu lab papers')"
      ]
     },
     "execution_count": 14,
     "metadata": {},
     "output_type": "execute_result"
    },
    {
     "data": {
      "image/png": "[encoded data removed]",
      "text/plain": [
       "<Figure size 144x72 with 1 Axes>"
      ]
     },
     "metadata": {},
     "output_type": "display_data"
    }
   ],
   "source": [
    "# plot of number of activation domains per ref iso\n",
    "# fraction of sequnce within effector domains\n",
    "def count_Bintu_effector_domains(gene):\n",
    "    iso = gene.cloned_reference_isoform\n",
    "    c = 0\n",
    "    for d in iso.aa_seq_features:\n",
    "        if d.category == 'effector_domain' and not d.accession.startswith('Soto'):\n",
    "            c += 1\n",
    "    return c\n",
    "\n",
    "n_effector_bintu = [count_Bintu_effector_domains(tf) for tf in tfs.values()]\n",
    "\n",
    "fig, ax = plt.subplots(1, 1, figsize=(2, 1))\n",
    "ax.hist(n_effector_bintu,\n",
    "        range=(-0.25, max(n_effector) + 0.25),\n",
    "          bins=(max(n_effector) * 2 + 1))\n",
    "ax.set_xticks(range(max(n_effector) + 1))\n",
    "ax.set_ylabel('Number of genes ({} total)'.format(len(tfs)))\n",
    "ax.set_xlabel('Effector domains in reference isoform')\n",
    "ax.set_title('Data from Bintu lab papers')"
   ]
  },
  {
   "cell_type": "code",
   "execution_count": 15,
   "metadata": {},
   "outputs": [
    {
     "data": {
      "text/plain": [
       "{'Soto': {'AD': 126, 'RD': 71, 'Bif': 4},\n",
       " 'Tycko': {'AD': 3, 'RD': 36},\n",
       " 'DelRosso': {'AD': 33, 'RD': 291}}"
      ]
     },
     "execution_count": 15,
     "metadata": {},
     "output_type": "execute_result"
    }
   ],
   "source": [
    "counter = {'Soto': {'AD': 0, 'RD': 0, 'Bif': 0},\n",
    "           'Tycko': {'AD': 0, 'RD': 0},\n",
    "           'DelRosso': {'AD': 0, 'RD': 0}}\n",
    "for tf in tfs.values():\n",
    "    has_effector = False\n",
    "    for domain in tf.cloned_reference_isoform.aa_seq_features:\n",
    "        if domain.category == 'effector_domain':\n",
    "            counter[domain.accession.split('_')[0]][domain.name] += 1\n",
    "counter"
   ]
  },
  {
   "cell_type": "code",
   "execution_count": 16,
   "metadata": {},
   "outputs": [
    {
     "data": {
      "image/png": "[encoded data removed]",
      "text/plain": [
       "<Figure size 144x108 with 1 Axes>"
      ]
     },
     "metadata": {},
     "output_type": "display_data"
    }
   ],
   "source": [
    "fig, ax = plt.subplots(1, 1, figsize=(2, 1.5))\n",
    "ax.bar(x=[0.1, 1.0, 2.1, 3.0, 4.1, 5.0],\n",
    "       height=[counter[x][y] for x in counter.keys() for y in ['AD', 'RD']],\n",
    "       color=[sns.color_palette(\"Set2\")[0], sns.color_palette(\"Set2\")[1]] * 3)\n",
    "ax.set_xticks([0.5, 2.5, 4.5])\n",
    "ax.set_xticklabels(['Soto et al.', 'Tycko et al.', 'DelRosso et al.'], rotation=30, ha=\"right\", va=\"top\")\n",
    "ax.set_ylabel('Number of effector domains')\n",
    "\n",
    "# annotate\n",
    "rects = ax.patches\n",
    "labels = [counter[x][y] for x in counter.keys() for y in ['AD', 'RD']]\n",
    "colors = [sns.color_palette(\"Set2\")[0], sns.color_palette(\"Set2\")[1]] * 3\n",
    "for rect, label, color in zip(rects, labels, colors):\n",
    "    height = rect.get_height()\n",
    "    ax.text(rect.get_x() + rect.get_width() / 2, height, label, ha=\"center\", va=\"bottom\", color=color)\n",
    "\n",
    "colors = {\"activation domain\": sns.color_palette(\"Set2\")[0], \n",
    "          \"repression domain\": sns.color_palette(\"Set2\")[1]}\n",
    "labels = list(colors.keys())\n",
    "handles = [plt.Rectangle((0,0), 1, 1, color=colors[label]) for label in labels]\n",
    "plt.legend(handles, labels, loc=2, bbox_to_anchor=(1.01, 1))\n",
    "\n",
    "plt.ylim((0, 400))\n",
    "\n",
    "for pos in ['top', 'right']:\n",
    "    ax.spines[pos].set_visible(False)\n",
    "\n",
    "fig.savefig(\"../../figures/fig4/annotated_effector_domain_count.pdf\", dpi=\"figure\", bbox_inches=\"tight\")"
   ]
  },
  {
   "cell_type": "markdown",
   "metadata": {},
   "source": [
    "## 4. summary plot looking at presence of activ/repr domains and activity"
   ]
  },
  {
   "cell_type": "code",
   "execution_count": 17,
   "metadata": {},
   "outputs": [
    {
     "data": {
      "text/html": [
       "<div>\n",
       "<style scoped>\n",
       "    .dataframe tbody tr th:only-of-type {\n",
       "        vertical-align: middle;\n",
       "    }\n",
       "\n",
       "    .dataframe tbody tr th {\n",
       "        vertical-align: top;\n",
       "    }\n",
       "\n",
       "    .dataframe thead th {\n",
       "        text-align: right;\n",
       "    }\n",
       "</style>\n",
       "<table border=\"1\" class=\"dataframe\">\n",
       "  <thead>\n",
       "    <tr style=\"text-align: right;\">\n",
       "      <th></th>\n",
       "      <th>gene_symbol</th>\n",
       "      <th>clone_acc</th>\n",
       "      <th>M1H_rep1</th>\n",
       "      <th>M1H_rep2</th>\n",
       "      <th>M1H_rep3</th>\n",
       "      <th>mean</th>\n",
       "      <th>gte_2_fold</th>\n",
       "      <th>gte_above</th>\n",
       "      <th>gte_below</th>\n",
       "    </tr>\n",
       "  </thead>\n",
       "  <tbody>\n",
       "    <tr>\n",
       "      <th>360</th>\n",
       "      <td>AEBP2</td>\n",
       "      <td>AEBP2|2/3|05F03</td>\n",
       "      <td>0.241019</td>\n",
       "      <td>0.189211</td>\n",
       "      <td>0.473661</td>\n",
       "      <td>0.301297</td>\n",
       "      <td>False</td>\n",
       "      <td>False</td>\n",
       "      <td>False</td>\n",
       "    </tr>\n",
       "    <tr>\n",
       "      <th>359</th>\n",
       "      <td>AEBP2</td>\n",
       "      <td>AEBP2|3/3|05E07</td>\n",
       "      <td>-0.276303</td>\n",
       "      <td>-0.305477</td>\n",
       "      <td>-0.121186</td>\n",
       "      <td>-0.234322</td>\n",
       "      <td>False</td>\n",
       "      <td>False</td>\n",
       "      <td>False</td>\n",
       "    </tr>\n",
       "    <tr>\n",
       "      <th>0</th>\n",
       "      <td>ARNT2</td>\n",
       "      <td>ARNT2|1/6|08C12</td>\n",
       "      <td>4.498733</td>\n",
       "      <td>4.501519</td>\n",
       "      <td>4.297244</td>\n",
       "      <td>4.432498</td>\n",
       "      <td>True</td>\n",
       "      <td>True</td>\n",
       "      <td>False</td>\n",
       "    </tr>\n",
       "    <tr>\n",
       "      <th>1</th>\n",
       "      <td>ARNT2</td>\n",
       "      <td>ARNT2|2/6|09E01</td>\n",
       "      <td>2.407721</td>\n",
       "      <td>2.407411</td>\n",
       "      <td>2.197963</td>\n",
       "      <td>2.337698</td>\n",
       "      <td>True</td>\n",
       "      <td>True</td>\n",
       "      <td>False</td>\n",
       "    </tr>\n",
       "    <tr>\n",
       "      <th>3</th>\n",
       "      <td>ARNTL2</td>\n",
       "      <td>ARNTL2|2/5|12C06</td>\n",
       "      <td>0.398027</td>\n",
       "      <td>0.391809</td>\n",
       "      <td>0.299461</td>\n",
       "      <td>0.363099</td>\n",
       "      <td>False</td>\n",
       "      <td>False</td>\n",
       "      <td>False</td>\n",
       "    </tr>\n",
       "  </tbody>\n",
       "</table>\n",
       "</div>"
      ],
      "text/plain": [
       "    gene_symbol         clone_acc  M1H_rep1  M1H_rep2  M1H_rep3      mean  \\\n",
       "360       AEBP2   AEBP2|2/3|05F03  0.241019  0.189211  0.473661  0.301297   \n",
       "359       AEBP2   AEBP2|3/3|05E07 -0.276303 -0.305477 -0.121186 -0.234322   \n",
       "0         ARNT2   ARNT2|1/6|08C12  4.498733  4.501519  4.297244  4.432498   \n",
       "1         ARNT2   ARNT2|2/6|09E01  2.407721  2.407411  2.197963  2.337698   \n",
       "3        ARNTL2  ARNTL2|2/5|12C06  0.398027  0.391809  0.299461  0.363099   \n",
       "\n",
       "     gte_2_fold  gte_above  gte_below  \n",
       "360       False      False      False  \n",
       "359       False      False      False  \n",
       "0          True       True      False  \n",
       "1          True       True      False  \n",
       "3         False      False      False  "
      ]
     },
     "execution_count": 17,
     "metadata": {},
     "output_type": "execute_result"
    }
   ],
   "source": [
    "# define activity above baseline as >= 1 (absolute value)\n",
    "m1h['gte_2_fold'] = (m1h['mean'].abs() >= 1)\n",
    "m1h['gte_above'] = (m1h['mean'] >= 1)\n",
    "m1h['gte_below'] = (m1h['mean'] <= -1)\n",
    "m1h.head()"
   ]
  },
  {
   "cell_type": "code",
   "execution_count": 18,
   "metadata": {},
   "outputs": [
    {
     "name": "stdout",
     "output_type": "stream",
     "text": [
      "missing tf DLX6 or iso DLX6|2/2|05G01\n",
      "missing tf ELK3 or iso ELK3|1/2|11E09\n",
      "missing tf FOXD4L1 or iso FOXD4L1|1/2|06E05\n",
      "missing tf FOXD4L3 or iso FOXD4L3|1/2|04G01\n",
      "missing tf FOXO3 or iso FOXO3|2/2|08E03\n",
      "missing tf GATA1 or iso GATA1|1/2|08A02\n",
      "missing tf HEY2 or iso HEY2|2/2|05C07\n",
      "missing tf HOMEZ or iso HOMEZ|2/3|06G05\n",
      "missing tf HOXA9 or iso HOXA9|1/3|09G01\n",
      "missing tf KLF4 or iso KLF4|1/3|01H05\n",
      "missing tf KLF6 or iso KLF6|1/2|11D07\n",
      "missing tf LCOR or iso LCOR|2/2|12B05\n",
      "missing tf NANOG or iso NANOG|1/2|01C08\n",
      "missing tf NANOG or iso NANOG|2/2|01H08\n",
      "missing tf NEUROD1 or iso NEUROD1|1/2|11B09\n",
      "missing tf NFAT5 or iso NFAT5|1/2|02F01\n",
      "missing tf PCGF6 or iso PCGF6|1/2|11A10\n",
      "missing tf PCGF6 or iso PCGF6|2/2|11B07\n",
      "missing tf POU2F2 or iso POU2F2|4/4|11A08\n",
      "missing tf POU5F1 or iso POU5F1|1/2|11H07\n",
      "missing tf RARA or iso RARA|1/2|11B12\n",
      "missing tf REL or iso REL|1/2|12D03\n",
      "missing tf RXRB or iso RXRB|1/2|01G03\n",
      "missing tf SALL3 or iso SALL3|1/2|01B09\n",
      "missing tf SOX10 or iso SOX10|1/2|03H02\n",
      "missing tf SOX15 or iso SOX15|1/2|11D03\n",
      "missing tf TBX6 or iso TBX6|2/2|01F02\n",
      "missing tf TEAD1 or iso TEAD1|5/5|11E10\n",
      "missing tf TSC22D1 or iso TSC22D1|2/3|05C11\n",
      "missing tf TSHZ3 or iso TSHZ3|2/2|06E11\n",
      "missing tf ZBTB24 or iso ZBTB24|1/2|07A10\n",
      "missing tf ZBTB48 or iso ZBTB48|1/2|11A01\n",
      "missing tf ZKSCAN7 or iso ZKSCAN7|1/2|06A08\n",
      "missing tf ZNF114 or iso ZNF114|2/2|11B11\n",
      "missing tf ZNF12 or iso ZNF12|1/2|02D06\n",
      "missing tf ZNF138 or iso ZNF138|2/3|08H05\n",
      "missing tf ZNF343 or iso ZNF343|4/4|10A05\n",
      "missing tf ZNF596 or iso ZNF596|1/2|02G10\n",
      "missing tf ZNF607 or iso ZNF607|1/2|04H08\n",
      "missing tf ZNF648 or iso ZNF648|1/2|03D06\n",
      "missing tf ZNF69 or iso ZNF69|2/2|10E01\n",
      "missing tf ZNF85 or iso ZNF85|2/2|01B03\n"
     ]
    }
   ],
   "source": [
    "ads = []\n",
    "rds = []\n",
    "bifs = []\n",
    "\n",
    "for i, row in m1h.iterrows():\n",
    "    gene = row.gene_symbol\n",
    "    iso = row.clone_acc\n",
    "    try:\n",
    "        tf_iso = tfs[gene][iso]\n",
    "    except KeyError:\n",
    "        print(\"missing tf %s or iso %s\" % (gene, iso))\n",
    "        ads.append(np.nan)\n",
    "        rds.append(np.nan)\n",
    "        bifs.append(np.nan)\n",
    "        continue\n",
    "    \n",
    "    has_ad = False\n",
    "    has_rd = False\n",
    "    has_bif = False\n",
    "    for domain in tf_iso.aa_seq_features:\n",
    "        if domain.category == 'effector_domain':\n",
    "            if domain.name == \"AD\":\n",
    "                has_ad = True\n",
    "            if domain.name == \"RD\":\n",
    "                has_rd = True\n",
    "            if domain.name == \"Bif\":\n",
    "                has_bif = True\n",
    "    \n",
    "    ads.append(has_ad)\n",
    "    rds.append(has_rd)\n",
    "    bifs.append(has_bif)"
   ]
  },
  {
   "cell_type": "code",
   "execution_count": 19,
   "metadata": {},
   "outputs": [
    {
     "data": {
      "text/plain": [
       "580"
      ]
     },
     "execution_count": 19,
     "metadata": {},
     "output_type": "execute_result"
    }
   ],
   "source": [
    "m1h['has_ad'] = ads\n",
    "m1h['has_rd'] = rds\n",
    "m1h['has_bif'] = bifs\n",
    "\n",
    "# filter out the above isos that got removed from clone collection post-hoc\n",
    "m1h = m1h[~pd.isnull(m1h['has_ad'])]\n",
    "len(m1h)"
   ]
  },
  {
   "cell_type": "code",
   "execution_count": 20,
   "metadata": {},
   "outputs": [
    {
     "data": {
      "text/plain": [
       "224"
      ]
     },
     "execution_count": 20,
     "metadata": {},
     "output_type": "execute_result"
    }
   ],
   "source": [
    "len(m1h.gene_symbol.unique())"
   ]
  },
  {
   "cell_type": "code",
   "execution_count": 21,
   "metadata": {},
   "outputs": [
    {
     "data": {
      "text/plain": [
       "no annotated domains      201\n",
       "repression domain         192\n",
       "combination of domains    135\n",
       "activation domain          50\n",
       "bifunctional domain         2\n",
       "Name: cat_dom, dtype: int64"
      ]
     },
     "execution_count": 21,
     "metadata": {},
     "output_type": "execute_result"
    }
   ],
   "source": [
    "def cat_dom(row):\n",
    "    if row.has_ad == True and row.has_rd == False and row.has_bif == False:\n",
    "        return \"activation domain\"\n",
    "    elif row.has_ad == False and row.has_rd == True and row.has_bif == False:\n",
    "        return \"repression domain\"\n",
    "    elif row.has_ad == False and row.has_rd == False and row.has_bif == True:\n",
    "        return \"bifunctional domain\"\n",
    "    elif row.has_ad == False and row.has_rd == False and row.has_bif == False:\n",
    "        return \"no annotated domains\"\n",
    "    else:\n",
    "        return \"combination of domains\"\n",
    "\n",
    "m1h[\"cat_dom\"] = m1h.apply(cat_dom, axis=1)\n",
    "m1h.cat_dom.value_counts()"
   ]
  },
  {
   "cell_type": "code",
   "execution_count": 22,
   "metadata": {},
   "outputs": [
    {
     "data": {
      "text/plain": [
       "above baseline    295\n",
       "NA                239\n",
       "below baseline     46\n",
       "Name: cat_gte, dtype: int64"
      ]
     },
     "execution_count": 22,
     "metadata": {},
     "output_type": "execute_result"
    }
   ],
   "source": [
    "def cat_gte(row):\n",
    "    if row.gte_above:\n",
    "        return \"above baseline\"\n",
    "    elif row.gte_below:\n",
    "        return \"below baseline\"\n",
    "    else:\n",
    "        return \"NA\"\n",
    "    \n",
    "m1h[\"cat_gte\"] = m1h.apply(cat_gte, axis=1)\n",
    "m1h.cat_gte.value_counts()"
   ]
  },
  {
   "cell_type": "code",
   "execution_count": 23,
   "metadata": {},
   "outputs": [
    {
     "name": "stdout",
     "output_type": "stream",
     "text": [
      "cat_gte\n",
      "above baseline    112\n",
      "below baseline     23\n",
      "dtype: int64\n"
     ]
    },
    {
     "data": {
      "text/html": [
       "<div>\n",
       "<style scoped>\n",
       "    .dataframe tbody tr th:only-of-type {\n",
       "        vertical-align: middle;\n",
       "    }\n",
       "\n",
       "    .dataframe tbody tr th {\n",
       "        vertical-align: top;\n",
       "    }\n",
       "\n",
       "    .dataframe thead th {\n",
       "        text-align: right;\n",
       "    }\n",
       "</style>\n",
       "<table border=\"1\" class=\"dataframe\">\n",
       "  <thead>\n",
       "    <tr style=\"text-align: right;\">\n",
       "      <th>cat_gte</th>\n",
       "      <th>above baseline</th>\n",
       "      <th>below baseline</th>\n",
       "    </tr>\n",
       "    <tr>\n",
       "      <th>cat_dom</th>\n",
       "      <th></th>\n",
       "      <th></th>\n",
       "    </tr>\n",
       "  </thead>\n",
       "  <tbody>\n",
       "    <tr>\n",
       "      <th>activation domain</th>\n",
       "      <td>0.3125</td>\n",
       "      <td>0.043478</td>\n",
       "    </tr>\n",
       "    <tr>\n",
       "      <th>repression domain</th>\n",
       "      <td>0.6875</td>\n",
       "      <td>0.956522</td>\n",
       "    </tr>\n",
       "  </tbody>\n",
       "</table>\n",
       "</div>"
      ],
      "text/plain": [
       "cat_gte            above baseline  below baseline\n",
       "cat_dom                                          \n",
       "activation domain          0.3125        0.043478\n",
       "repression domain          0.6875        0.956522"
      ]
     },
     "execution_count": 23,
     "metadata": {},
     "output_type": "execute_result"
    }
   ],
   "source": [
    "m1h_filt = m1h[(m1h[\"cat_gte\"] != \"NA\") & (m1h[\"cat_dom\"].isin([\"activation domain\", \"repression domain\"]))]\n",
    "m1h_filt = pd.pivot_table(m1h_filt, index=\"cat_dom\", columns=\"cat_gte\", values='clone_acc', aggfunc='count')\n",
    "print(m1h_filt.sum())\n",
    "m1h_filt = m1h_filt/m1h_filt.sum()\n",
    "m1h_filt"
   ]
  },
  {
   "cell_type": "code",
   "execution_count": 24,
   "metadata": {},
   "outputs": [
    {
     "data": {
      "image/png": "[encoded data removed]",
      "text/plain": [
       "<Figure size 144x72 with 1 Axes>"
      ]
     },
     "metadata": {},
     "output_type": "display_data"
    }
   ],
   "source": [
    "palette = {\"activation domain\": sns.color_palette(\"Set2\")[0],\n",
    "           \"repression domain\": sns.color_palette(\"Set2\")[1]}\n",
    "sns.palplot(palette.values())"
   ]
  },
  {
   "cell_type": "code",
   "execution_count": 25,
   "metadata": {},
   "outputs": [
    {
     "data": {
      "image/png": "[encoded data removed]",
      "text/plain": [
       "<Figure size 72x108 with 1 Axes>"
      ]
     },
     "metadata": {},
     "output_type": "display_data"
    }
   ],
   "source": [
    "ax = m1h_filt.T.plot.bar(stacked=True, color=palette.values(), figsize=(1, 1.5))\n",
    "\n",
    "ax.set_ylabel(\"% of isoforms\")\n",
    "ax.set_xlabel(\"\")\n",
    "\n",
    "plt.legend(loc=2, bbox_to_anchor=(1.01, 1))\n",
    "ax.set_xticklabels([\"above M1H baseline\", \"below M1H baseline\"], ha=\"right\", va=\"top\", rotation=30)\n",
    "\n",
    "for pos in ['top', 'right']:\n",
    "    ax.spines[pos].set_visible(False)\n",
    "\n",
    "plt.savefig('../../figures/fig4/m1h_baseline_doms.pdf',\n",
    "            bbox_inches='tight')"
   ]
  },
  {
   "cell_type": "markdown",
   "metadata": {},
   "source": [
    "### how many TFs have isos that are both strong activators and strong repressors?"
   ]
  },
  {
   "cell_type": "code",
   "execution_count": 26,
   "metadata": {},
   "outputs": [
    {
     "data": {
      "text/html": [
       "<div>\n",
       "<style scoped>\n",
       "    .dataframe tbody tr th:only-of-type {\n",
       "        vertical-align: middle;\n",
       "    }\n",
       "\n",
       "    .dataframe tbody tr th {\n",
       "        vertical-align: top;\n",
       "    }\n",
       "\n",
       "    .dataframe thead th {\n",
       "        text-align: right;\n",
       "    }\n",
       "</style>\n",
       "<table border=\"1\" class=\"dataframe\">\n",
       "  <thead>\n",
       "    <tr style=\"text-align: right;\">\n",
       "      <th>cat_gte</th>\n",
       "      <th>gene_symbol</th>\n",
       "      <th>NA</th>\n",
       "      <th>above baseline</th>\n",
       "      <th>below baseline</th>\n",
       "    </tr>\n",
       "  </thead>\n",
       "  <tbody>\n",
       "    <tr>\n",
       "      <th>38</th>\n",
       "      <td>FOXP3</td>\n",
       "      <td>2.0</td>\n",
       "      <td>2.0</td>\n",
       "      <td>1.0</td>\n",
       "    </tr>\n",
       "    <tr>\n",
       "      <th>62</th>\n",
       "      <td>MAX</td>\n",
       "      <td>0.0</td>\n",
       "      <td>1.0</td>\n",
       "      <td>4.0</td>\n",
       "    </tr>\n",
       "    <tr>\n",
       "      <th>63</th>\n",
       "      <td>MAZ</td>\n",
       "      <td>0.0</td>\n",
       "      <td>1.0</td>\n",
       "      <td>1.0</td>\n",
       "    </tr>\n",
       "    <tr>\n",
       "      <th>202</th>\n",
       "      <td>ZNF544</td>\n",
       "      <td>1.0</td>\n",
       "      <td>2.0</td>\n",
       "      <td>3.0</td>\n",
       "    </tr>\n",
       "  </tbody>\n",
       "</table>\n",
       "</div>"
      ],
      "text/plain": [
       "cat_gte gene_symbol   NA  above baseline  below baseline\n",
       "38            FOXP3  2.0             2.0             1.0\n",
       "62              MAX  0.0             1.0             4.0\n",
       "63              MAZ  0.0             1.0             1.0\n",
       "202          ZNF544  1.0             2.0             3.0"
      ]
     },
     "execution_count": 26,
     "metadata": {},
     "output_type": "execute_result"
    }
   ],
   "source": [
    "m1h_stack = pd.pivot_table(m1h, values=\"clone_acc\", index=\"gene_symbol\", columns=\"cat_gte\", aggfunc='count').reset_index()\n",
    "m1h_stack.fillna(0, inplace=True)\n",
    "m1h_stack[(m1h_stack[\"above baseline\"] > 0) & (m1h_stack[\"below baseline\"] > 0)]"
   ]
  },
  {
   "cell_type": "markdown",
   "metadata": {},
   "source": [
    "## 5. summary plot looking at gain/loss of domains and activity"
   ]
  },
  {
   "cell_type": "code",
   "execution_count": 27,
   "metadata": {},
   "outputs": [],
   "source": [
    "pairs['m1h_gte_2_fold_at_least_one_iso_per_gene'] = pairs['gene_symbol'].map(m1h.groupby('gene_symbol')\n",
    "                                                                             ['gte_2_fold']\n",
    "                                                                             .any())\n",
    "pairs['abs_activation_fold_change_log2'] = pairs['activation_fold_change_log2'].abs()"
   ]
  },
  {
   "cell_type": "code",
   "execution_count": 28,
   "metadata": {},
   "outputs": [],
   "source": [
    "# create a color map of domain length\n",
    "# sum up lengths of all domains (plot only includes examples w 1 type of domain)\n",
    "pairs['length_of_all_domains'].fillna(0, inplace=True)\n",
    "t_dom_length = pairs.loc[:,'length_of_all_domains'].values\n",
    "t_dom_length = t_dom_length[t_dom_length > 0]\n",
    "\n",
    "# using min and max makes colors too hard too read - cut off\n",
    "cmap = sns.color_palette(\"flare\", as_cmap=True)\n",
    "norm = plt.Normalize(25, 250)\n",
    "palette_dom_length = {value: cmap(norm(value)) for value in t_dom_length}\n",
    "\n",
    "def re_color(row, palette):\n",
    "    if row['length_of_all_domains'] == 0:\n",
    "        color = sns.color_palette(\"flare\")[0]\n",
    "    else:\n",
    "        color = palette[row['length_of_all_domains']]\n",
    "    return color\n",
    "\n",
    "pairs[\"color_dom_length\"] = pairs.apply(re_color, axis=1, palette=palette_dom_length)"
   ]
  },
  {
   "cell_type": "code",
   "execution_count": 29,
   "metadata": {},
   "outputs": [],
   "source": [
    "df = pairs.copy()\n",
    "df = df.loc[df['activation_fold_change_log2'].notnull() & df['m1h_gte_2_fold_at_least_one_iso_per_gene'], :]"
   ]
  },
  {
   "cell_type": "code",
   "execution_count": 30,
   "metadata": {},
   "outputs": [
    {
     "name": "stdout",
     "output_type": "stream",
     "text": [
      "# ref/alt isoform pairs with M1H data/signal: 254\n"
     ]
    }
   ],
   "source": [
    "print(\"# ref/alt isoform pairs with M1H data/signal: %s\" % len(df))"
   ]
  },
  {
   "cell_type": "code",
   "execution_count": 31,
   "metadata": {},
   "outputs": [
    {
     "data": {
      "image/png": "[encoded data removed]",
      "text/plain": [
       "<Figure size 144x108 with 1 Axes>"
      ]
     },
     "metadata": {},
     "output_type": "display_data"
    }
   ],
   "source": [
    "fig = plt.figure(figsize=(2, 1.5))\n",
    "ax = sns.histplot(data=df, x=\"activation_fold_change_log2\", color=\"slategrey\")\n",
    "ax.set_xlabel(\"M1H activation foldchange\\n(log2(alt/ref))\")\n",
    "ax.set_ylabel(\"count\")\n",
    "\n",
    "ax.axvline(x=-1, linestyle=\"dashed\", color=\"black\", linewidth=1)\n",
    "ax.axvline(x=1, linestyle=\"dashed\", color=\"black\", linewidth=1)\n",
    "\n",
    "# annotate\n",
    "n_less_neg1 = len(df[df[\"activation_fold_change_log2\"] <= -1])\n",
    "n_greater_1 = len(df[df[\"activation_fold_change_log2\"] >= 1])\n",
    "\n",
    "ax.text(-1.2, 40, \"%s pairs\\n(%s%%)\" % (n_less_neg1, np.round(n_less_neg1/len(df)*100, 1)), ha=\"right\", va=\"center\")\n",
    "ax.text(1.2, 40, \"%s pairs\\n(%s%%)\" % (n_greater_1, np.round(n_greater_1/len(df)*100, 1)), ha=\"left\", va=\"center\")\n",
    "\n",
    "for pos in ['top', 'right']:\n",
    "    ax.spines[pos].set_visible(False)\n",
    "\n",
    "fig.savefig(\"../../figures/fig4/m1h_alt_ref_dist.pdf\", dpi=\"figure\", bbox_inches=\"tight\")"
   ]
  },
  {
   "cell_type": "code",
   "execution_count": 32,
   "metadata": {},
   "outputs": [
    {
     "name": "stdout",
     "output_type": "stream",
     "text": [
      "found: 1.0, -3.1682185672413987\n",
      "3.1221240201041938\n",
      "found: 1.0, 3.1221240201041938\n",
      "found: 0.345565749235474, -7.433645243118278\n"
     ]
    },
    {
     "name": "stderr",
     "output_type": "stream",
     "text": [
      "/PHShome/kz659/.conda/envs/py36/lib/python3.6/site-packages/seaborn/categorical.py:1296: UserWarning: 18.1% of the points cannot be placed; you may want to decrease the size of the markers or use stripplot.\n",
      "  warnings.warn(msg, UserWarning)\n"
     ]
    },
    {
     "name": "stdout",
     "output_type": "stream",
     "text": [
      "found: 0.07371252923681215, -2.342060295980465\n",
      "found: 0.3178506357237998, -1.0995217184549233\n",
      "found: 0.0, -4.185867921507784\n",
      "found: 0.23336416492444023, -1.3738165060156273\n"
     ]
    },
    {
     "name": "stderr",
     "output_type": "stream",
     "text": [
      "/PHShome/kz659/.conda/envs/py36/lib/python3.6/site-packages/seaborn/categorical.py:1296: UserWarning: 6.4% of the points cannot be placed; you may want to decrease the size of the markers or use stripplot.\n",
      "  warnings.warn(msg, UserWarning)\n"
     ]
    },
    {
     "data": {
      "image/png": "[encoded data removed]",
      "text/plain": [
       "<Figure size 590.4x144 with 6 Axes>"
      ]
     },
     "metadata": {},
     "output_type": "display_data"
    },
    {
     "data": {
      "image/png": "[encoded data removed]",
      "text/plain": [
       "<Figure size 590.4x144 with 5 Axes>"
      ]
     },
     "metadata": {},
     "output_type": "display_data"
    }
   ],
   "source": [
    "# combining full + partial loss since we only have 1 full loss activ. domain\n",
    "palette = palette_dom_length\n",
    "hue = 'length_of_all_domains'\n",
    "color = 'color_dom_length'\n",
    "t = t_dom_length\n",
    "\n",
    "gs_kw = dict(width_ratios=[1, 1, 0.8, 1.5, 1])\n",
    "\n",
    "fig, axs = plt.subplots(1, 5, sharey=True, gridspec_kw=gs_kw)\n",
    "fig.set_size_inches(w=8.2, h=2)\n",
    "\n",
    "point_size = 5\n",
    "\n",
    "######### activation domain (full and partial) #########\n",
    "tot_n_part_loss_activ = df.loc[(df['fraction_of_AD_domains_removed'] > 0) \n",
    "                             & (df['fraction_of_RD_domains_removed'].isnull() | \n",
    "                               (df['fraction_of_RD_domains_removed'] == 0))\n",
    "                             & (df['fraction_of_Bif_domains_removed'].isnull() | \n",
    "                               (df['fraction_of_Bif_domains_removed'] == 0)), :]\n",
    "axs[0].set_title('activation\\ndomain')\n",
    "axs[0].scatter(tot_n_part_loss_activ.loc[:, 'fraction_of_AD_domains_removed'].values,\n",
    "               tot_n_part_loss_activ.loc[:, 'activation_fold_change_log2'].values,\n",
    "               alpha=1,\n",
    "               s=point_size**2,\n",
    "               c=tot_n_part_loss_activ.loc[:, color].values,\n",
    "               linewidth=1,\n",
    "               edgecolor=\"black\",\n",
    "               clip_on=False)\n",
    "axs[0].set_xticks([])\n",
    "axs[0].set_xlabel('Proportion missing')\n",
    "axs[0].set_xlim(1, 0)\n",
    "axs[0].set_xticks([1, 0.5, 0.01])\n",
    "axs[0].set_xticklabels([f'{x:.0%}' for x in axs[0].get_xticks()])\n",
    "\n",
    "tbx5_y = df.loc[(df[\"clone_acc_alt\"] == \"TBX5|3/3|08H01\"), 'activation_fold_change_log2'].values[0]\n",
    "for point in axs[0].collections:\n",
    "    for x, y in point.get_offsets():\n",
    "        if np.isclose(tbx5_y, y):\n",
    "            print(\"found: %s, %s\" % (x, y))\n",
    "            axs[0].annotate(\"TBX5-3\", xy=(x, y), xytext=(5, -10), textcoords='offset points',\n",
    "                            arrowprops = dict(arrowstyle=\"-\", connectionstyle=\"arc3,rad=0.3\",\n",
    "                                              color='black'), \n",
    "                            ha=\"left\", va=\"top\", fontsize=7,\n",
    "                            bbox=dict(boxstyle='square,pad=0', fc='none', ec='none'))\n",
    "\n",
    "######### repression domain (full and partial) #########\n",
    "tot_n_part_loss_repr = df.loc[(df['fraction_of_RD_domains_removed'] > 0)\n",
    "                            & (df['fraction_of_AD_domains_removed'].isnull() | \n",
    "                              (df['fraction_of_AD_domains_removed'] == 0))\n",
    "                            & (df['fraction_of_Bif_domains_removed'].isnull() | \n",
    "                              (df['fraction_of_Bif_domains_removed'] == 0)), :]\n",
    "axs[1].set_title('repression\\ndomain')\n",
    "axs[1].scatter(tot_n_part_loss_repr.loc[:, 'fraction_of_RD_domains_removed'].values,\n",
    "               tot_n_part_loss_repr.loc[:, 'activation_fold_change_log2'].values,\n",
    "               alpha=1,\n",
    "               s=point_size**2,\n",
    "               c=tot_n_part_loss_repr.loc[:, color].values,\n",
    "               linewidth=1,\n",
    "               edgecolor=\"black\",\n",
    "               clip_on=False)\n",
    "axs[1].set_xticks([])\n",
    "axs[1].set_xlabel('Proportion missing')\n",
    "axs[1].set_xlim(1, 0)\n",
    "axs[1].set_xticks([1, 0.5, 0.01])\n",
    "axs[1].set_xticklabels([f'{x:.0%}' for x in axs[1].get_xticks()])\n",
    "\n",
    "dlx1_y = df.loc[(df[\"clone_acc_alt\"] == \"DLX1|2/2|07E09\"), 'activation_fold_change_log2'].values[0]\n",
    "print(dlx1_y)\n",
    "for point in axs[1].collections:\n",
    "    for x, y in point.get_offsets():\n",
    "        if np.isclose(dlx1_y, y):\n",
    "            print(\"found: %s, %s\" % (x, y))\n",
    "            axs[1].annotate(\"DLX1-2\", xy=(x, y), xytext=(5, 10), textcoords='offset points',\n",
    "                            arrowprops = dict(arrowstyle=\"-\", connectionstyle=\"arc3,rad=0.3\",\n",
    "                                              color='black'), \n",
    "                            ha=\"left\", va=\"bottom\", fontsize=7,\n",
    "                            bbox=dict(boxstyle='square,pad=0', fc='none', ec='none'))\n",
    "\n",
    "######### both activ/repression domain OR bif (full and partial) #########\n",
    "tot_n_part_loss_both = df.loc[((df['fraction_of_AD_domains_removed'] > 0) &\n",
    "                              (df['fraction_of_RD_domains_removed'] > 0)) |\n",
    "                              (df['fraction_of_Bif_domains_removed'] > 0), :]\n",
    "axs[2].set_title('both activ. &\\nrepr. domains')\n",
    "axs[2].scatter(tot_n_part_loss_both.loc[:, 'fraction_of_all_domains_removed'].values,\n",
    "               tot_n_part_loss_both.loc[:, 'activation_fold_change_log2'].values,\n",
    "               alpha=1,\n",
    "               s=point_size**2,\n",
    "               c=tot_n_part_loss_both.loc[:, color].values,\n",
    "               linewidth=1,\n",
    "               edgecolor=\"black\",\n",
    "               clip_on=False)\n",
    "axs[2].set_xticks([])\n",
    "axs[2].set_xlabel('Proportion missing')\n",
    "axs[2].set_xlim(1, 0)\n",
    "axs[2].set_xticks([1, 0.5, 0.01])\n",
    "axs[2].set_xticklabels([f'{x:.0%}' for x in axs[2].get_xticks()])\n",
    "\n",
    "e2f3_y = df.loc[(df[\"clone_acc_alt\"] == \"E2F3|3/4|10B08\"), 'activation_fold_change_log2'].values[0]\n",
    "for point in axs[2].collections:\n",
    "    for x, y in point.get_offsets():\n",
    "        if np.isclose(e2f3_y, y):\n",
    "            print(\"found: %s, %s\" % (x, y))\n",
    "            axs[2].annotate(\"E2F3-3\", xy=(x, y), xytext=(5, 15), textcoords='offset points',\n",
    "                            arrowprops = dict(arrowstyle=\"-\", connectionstyle=\"arc3,rad=0.3\",\n",
    "                                              color='black'), \n",
    "                            ha=\"left\", va=\"top\", fontsize=7,\n",
    "                            bbox=dict(boxstyle='square,pad=0', fc='none', ec='none'))\n",
    "\n",
    "\n",
    "\n",
    "######### everything retained #########\n",
    "all_retained = df.loc[((df['fraction_of_AD_domains_removed'] == 0) |\n",
    "                       (df['fraction_of_RD_domains_removed'] == 0) |\n",
    "                       (df['fraction_of_Bif_domains_removed'] == 0))\n",
    "                     & (df['fraction_of_AD_domains_removed'].isnull() | \n",
    "                        (df['fraction_of_AD_domains_removed'] == 0)) \n",
    "                     & (df['fraction_of_RD_domains_removed'].isnull() | \n",
    "                        (df['fraction_of_RD_domains_removed'] == 0)) \n",
    "                     & (df['fraction_of_Bif_domains_removed'].isnull() | \n",
    "                        (df['fraction_of_Bif_domains_removed'] == 0)), :]\n",
    "axs[3].set_title('All effector domains\\nin alt. iso.')\n",
    "sns.swarmplot(data=all_retained,\n",
    "              y='activation_fold_change_log2', \n",
    "              x='m1h_gte_2_fold_at_least_one_iso_per_gene',\n",
    "              size=point_size,\n",
    "              clip_on=False,\n",
    "              ax=axs[3],\n",
    "              linewidth=1,\n",
    "              edgecolor=\"black\",\n",
    "              alpha=1,\n",
    "              hue=hue,\n",
    "              palette=palette)\n",
    "axs[3].set_xticks([])\n",
    "axs[3].set_xlabel('')\n",
    "axs[3].get_legend().remove()\n",
    "\n",
    "# annotate pbx1 and rfx3\n",
    "pbx1_y = df.loc[(df[\"clone_acc_alt\"] == \"PBX1|2/2|02C05\"), 'activation_fold_change_log2'].values[0]\n",
    "creb5_y = df.loc[(df[\"clone_acc_alt\"] == \"CREB5|2/3|08A12\"), 'activation_fold_change_log2'].values[0]\n",
    "for point in axs[3].collections:\n",
    "    for x, y in point.get_offsets():\n",
    "        if np.isclose(pbx1_y, y):\n",
    "            print(\"found: %s, %s\" % (x, y))\n",
    "            axs[3].annotate(\"PBX1-2\", xy=(x, y), xytext=(-5, -10), textcoords='offset points',\n",
    "                            arrowprops = dict(arrowstyle=\"-\", connectionstyle=\"arc3,rad=0.3\",\n",
    "                                              color='black'), \n",
    "                            ha=\"center\", va=\"top\", fontsize=7,\n",
    "                            bbox=dict(boxstyle='square,pad=0', fc='none', ec='none'))\n",
    "        if np.isclose(creb5_y, y):\n",
    "            print(\"found: %s, %s\" % (x, y))\n",
    "            axs[3].annotate(\"CREB5-2\", xy=(x, y), xytext=(10, -20), textcoords='offset points',\n",
    "                            arrowprops = dict(arrowstyle=\"-\", connectionstyle=\"arc3,rad=0.3\",\n",
    "                                              color='black'), \n",
    "                            ha=\"center\", va=\"top\", fontsize=7,\n",
    "                            bbox=dict(boxstyle='square,pad=0', fc='none', ec='none'))\n",
    "\n",
    "# missing stuff\n",
    "incl = pd.concat([tot_n_part_loss_activ, \n",
    "                  tot_n_part_loss_repr, \n",
    "                  tot_n_part_loss_both, \n",
    "                  all_retained])\n",
    "\n",
    "######### no annotated domains #########\n",
    "no_annot = df.loc[(~df.index.isin(incl.index.values)) & (pd.isnull(df[\"fraction_of_AD_domains_removed\"])) &\n",
    "                  (pd.isnull(df[\"fraction_of_RD_domains_removed\"])) & \n",
    "                  (pd.isnull(df[\"fraction_of_Bif_domains_removed\"]))]\n",
    "axs[4].set_title('No annotated\\neffector domains')\n",
    "sns.swarmplot(data=no_annot,\n",
    "              y='activation_fold_change_log2', \n",
    "              x='m1h_gte_2_fold_at_least_one_iso_per_gene',\n",
    "              size=point_size,\n",
    "            clip_on=False,\n",
    "              ax=axs[4],\n",
    "              linewidth=1,\n",
    "               edgecolor=\"black\",\n",
    "              alpha=1,\n",
    "              color=sns.color_palette(\"flare\")[0])\n",
    "axs[4].set_xticks([])\n",
    "axs[4].set_xlabel('')\n",
    "\n",
    "rfx3_y = df.loc[(df[\"clone_acc_alt\"] == \"RFX3|3/5|08G08\"), 'activation_fold_change_log2'].values[0]\n",
    "rfx4_y = df.loc[(df[\"clone_acc_alt\"] == \"RFX3|4/5|11D09\"), 'activation_fold_change_log2'].values[0]\n",
    "for point in axs[4].collections:\n",
    "    for x, y in point.get_offsets():\n",
    "        if np.isclose(rfx3_y, y):\n",
    "            print(\"found: %s, %s\" % (x, y))\n",
    "            axs[4].annotate(\"RFX3-3\", xy=(x, y), xytext=(0, -12), textcoords='offset points',\n",
    "                            arrowprops = dict(arrowstyle=\"-\", connectionstyle=\"arc3,rad=0.3\",\n",
    "                                              color='black'), \n",
    "                            ha=\"left\", va=\"top\", fontsize=7,\n",
    "                            bbox=dict(boxstyle='square,pad=0', fc='none', ec='none'))\n",
    "        if np.isclose(rfx4_y, y):\n",
    "            print(\"found: %s, %s\" % (x, y))\n",
    "            axs[4].annotate(\"RFX3-4\", xy=(x, y), xytext=(-5, -8), textcoords='offset points',\n",
    "                            arrowprops = dict(arrowstyle=\"-\", connectionstyle=\"arc3,rad=-0.3\",\n",
    "                                              color='black'), \n",
    "                            ha=\"center\", va=\"top\", fontsize=7,\n",
    "                            bbox=dict(boxstyle='square,pad=0', fc='none', ec='none'))\n",
    "\n",
    "\n",
    "# add colorbar\n",
    "# mirror figure\n",
    "fig2, axs2 = plt.subplots(1, 5, sharey=True, gridspec_kw=gs_kw)\n",
    "fig2.set_size_inches(w=8.2, h=2)\n",
    "map1 = axs2[4].imshow(np.stack([t, t]), cmap=\"flare\", vmin=25, vmax=250)\n",
    "cbar = fig.colorbar(map1, ax=axs[4], aspect=30, pad=0.2)\n",
    "cbar.set_ticks([25, 75, 150, 250])\n",
    "cbar.set_ticklabels([\"<=25\", \"75\", \"150\", \">=250\"])\n",
    "cbar.set_label(\"# AA in annotated domain\", labelpad=0)\n",
    "\n",
    "\n",
    "for ax in axs:\n",
    "    ax.spines['right'].set_visible(False)\n",
    "    ax.spines['top'].set_visible(False)\n",
    "    ax.set_ylim(-7.5, 7.5)\n",
    "    ax.axhline(y=0, color='black', linewidth=1, linestyle='dashed', zorder=1)\n",
    "for ax in axs[1:]:\n",
    "    ax.spines['left'].set_visible(False)\n",
    "    ax.yaxis.set_tick_params(which='both', length=0)\n",
    "    ax.set_ylabel(\"\")\n",
    "axs[0].set_ylabel(\"log2(activation fold change)\")\n",
    "fig.savefig('../../figures/fig4/activation_vs_domain_removal_colored_by_dom_length.collapsed.pdf', bbox_inches='tight')"
   ]
  },
  {
   "cell_type": "markdown",
   "metadata": {},
   "source": [
    "## 6. pie chart of PPI categories"
   ]
  },
  {
   "cell_type": "code",
   "execution_count": 33,
   "metadata": {},
   "outputs": [
    {
     "data": {
      "text/plain": [
       "928"
      ]
     },
     "execution_count": 33,
     "metadata": {},
     "output_type": "execute_result"
    }
   ],
   "source": [
    "len(cats)"
   ]
  },
  {
   "cell_type": "code",
   "execution_count": 34,
   "metadata": {},
   "outputs": [
    {
     "data": {
      "text/plain": [
       "928"
      ]
     },
     "execution_count": 34,
     "metadata": {},
     "output_type": "execute_result"
    }
   ],
   "source": [
    "len(cats.gene_symbol_partner.unique())"
   ]
  },
  {
   "cell_type": "code",
   "execution_count": 35,
   "metadata": {},
   "outputs": [
    {
     "data": {
      "text/plain": [
       "other        377\n",
       "TF           219\n",
       "signaling    214\n",
       "cofactor     118\n",
       "Name: category, dtype: int64"
      ]
     },
     "execution_count": 35,
     "metadata": {},
     "output_type": "execute_result"
    }
   ],
   "source": [
    "cats.category.value_counts()"
   ]
  },
  {
   "cell_type": "code",
   "execution_count": 36,
   "metadata": {},
   "outputs": [
    {
     "data": {
      "text/html": [
       "<div>\n",
       "<style scoped>\n",
       "    .dataframe tbody tr th:only-of-type {\n",
       "        vertical-align: middle;\n",
       "    }\n",
       "\n",
       "    .dataframe tbody tr th {\n",
       "        vertical-align: top;\n",
       "    }\n",
       "\n",
       "    .dataframe thead th {\n",
       "        text-align: right;\n",
       "    }\n",
       "</style>\n",
       "<table border=\"1\" class=\"dataframe\">\n",
       "  <thead>\n",
       "    <tr style=\"text-align: right;\">\n",
       "      <th></th>\n",
       "      <th>gene_symbol_partner</th>\n",
       "      <th>category</th>\n",
       "      <th>cofactor_type</th>\n",
       "    </tr>\n",
       "  </thead>\n",
       "  <tbody>\n",
       "    <tr>\n",
       "      <th>9</th>\n",
       "      <td>LMO2</td>\n",
       "      <td>cofactor</td>\n",
       "      <td>coactivator</td>\n",
       "    </tr>\n",
       "    <tr>\n",
       "      <th>29</th>\n",
       "      <td>SUFU</td>\n",
       "      <td>cofactor</td>\n",
       "      <td>corepressor</td>\n",
       "    </tr>\n",
       "    <tr>\n",
       "      <th>33</th>\n",
       "      <td>CTBP1</td>\n",
       "      <td>cofactor</td>\n",
       "      <td>both</td>\n",
       "    </tr>\n",
       "    <tr>\n",
       "      <th>35</th>\n",
       "      <td>ARRB1</td>\n",
       "      <td>cofactor</td>\n",
       "      <td>coactivator</td>\n",
       "    </tr>\n",
       "    <tr>\n",
       "      <th>47</th>\n",
       "      <td>RUNX1T1</td>\n",
       "      <td>cofactor</td>\n",
       "      <td>corepressor</td>\n",
       "    </tr>\n",
       "    <tr>\n",
       "      <th>80</th>\n",
       "      <td>KDM1A</td>\n",
       "      <td>cofactor</td>\n",
       "      <td>coactivator</td>\n",
       "    </tr>\n",
       "    <tr>\n",
       "      <th>87</th>\n",
       "      <td>VGLL1</td>\n",
       "      <td>cofactor</td>\n",
       "      <td>coactivator</td>\n",
       "    </tr>\n",
       "    <tr>\n",
       "      <th>93</th>\n",
       "      <td>DAXX</td>\n",
       "      <td>cofactor</td>\n",
       "      <td>both</td>\n",
       "    </tr>\n",
       "    <tr>\n",
       "      <th>103</th>\n",
       "      <td>PAWR</td>\n",
       "      <td>cofactor</td>\n",
       "      <td>corepressor</td>\n",
       "    </tr>\n",
       "    <tr>\n",
       "      <th>108</th>\n",
       "      <td>CTBP2</td>\n",
       "      <td>cofactor</td>\n",
       "      <td>both</td>\n",
       "    </tr>\n",
       "    <tr>\n",
       "      <th>165</th>\n",
       "      <td>FHL2</td>\n",
       "      <td>cofactor</td>\n",
       "      <td>corepressor</td>\n",
       "    </tr>\n",
       "    <tr>\n",
       "      <th>166</th>\n",
       "      <td>LMO1</td>\n",
       "      <td>cofactor</td>\n",
       "      <td>coactivator</td>\n",
       "    </tr>\n",
       "    <tr>\n",
       "      <th>194</th>\n",
       "      <td>KAT5</td>\n",
       "      <td>cofactor</td>\n",
       "      <td>coactivator</td>\n",
       "    </tr>\n",
       "    <tr>\n",
       "      <th>234</th>\n",
       "      <td>CITED2</td>\n",
       "      <td>cofactor</td>\n",
       "      <td>both</td>\n",
       "    </tr>\n",
       "    <tr>\n",
       "      <th>235</th>\n",
       "      <td>C1QBP</td>\n",
       "      <td>cofactor</td>\n",
       "      <td>corepressor</td>\n",
       "    </tr>\n",
       "    <tr>\n",
       "      <th>262</th>\n",
       "      <td>NRIP1</td>\n",
       "      <td>cofactor</td>\n",
       "      <td>both</td>\n",
       "    </tr>\n",
       "    <tr>\n",
       "      <th>283</th>\n",
       "      <td>HCFC1</td>\n",
       "      <td>cofactor</td>\n",
       "      <td>coactivator</td>\n",
       "    </tr>\n",
       "    <tr>\n",
       "      <th>288</th>\n",
       "      <td>DPF2</td>\n",
       "      <td>cofactor</td>\n",
       "      <td>corepressor</td>\n",
       "    </tr>\n",
       "    <tr>\n",
       "      <th>332</th>\n",
       "      <td>LDB1</td>\n",
       "      <td>cofactor</td>\n",
       "      <td>coactivator</td>\n",
       "    </tr>\n",
       "    <tr>\n",
       "      <th>340</th>\n",
       "      <td>SMYD1</td>\n",
       "      <td>cofactor</td>\n",
       "      <td>corepressor</td>\n",
       "    </tr>\n",
       "    <tr>\n",
       "      <th>387</th>\n",
       "      <td>SMARCD3</td>\n",
       "      <td>cofactor</td>\n",
       "      <td>coactivator</td>\n",
       "    </tr>\n",
       "    <tr>\n",
       "      <th>393</th>\n",
       "      <td>EP300</td>\n",
       "      <td>cofactor</td>\n",
       "      <td>coactivator</td>\n",
       "    </tr>\n",
       "    <tr>\n",
       "      <th>407</th>\n",
       "      <td>CTNNB1</td>\n",
       "      <td>cofactor</td>\n",
       "      <td>coactivator</td>\n",
       "    </tr>\n",
       "    <tr>\n",
       "      <th>408</th>\n",
       "      <td>GPS2</td>\n",
       "      <td>cofactor</td>\n",
       "      <td>both</td>\n",
       "    </tr>\n",
       "    <tr>\n",
       "      <th>428</th>\n",
       "      <td>MAGED1</td>\n",
       "      <td>cofactor</td>\n",
       "      <td>coactivator</td>\n",
       "    </tr>\n",
       "    <tr>\n",
       "      <th>443</th>\n",
       "      <td>HDAC7</td>\n",
       "      <td>cofactor</td>\n",
       "      <td>corepressor</td>\n",
       "    </tr>\n",
       "    <tr>\n",
       "      <th>454</th>\n",
       "      <td>KAT2B</td>\n",
       "      <td>cofactor</td>\n",
       "      <td>coactivator</td>\n",
       "    </tr>\n",
       "    <tr>\n",
       "      <th>471</th>\n",
       "      <td>SIN3B</td>\n",
       "      <td>cofactor</td>\n",
       "      <td>corepressor</td>\n",
       "    </tr>\n",
       "    <tr>\n",
       "      <th>555</th>\n",
       "      <td>YAF2</td>\n",
       "      <td>cofactor</td>\n",
       "      <td>both</td>\n",
       "    </tr>\n",
       "    <tr>\n",
       "      <th>558</th>\n",
       "      <td>COPS2</td>\n",
       "      <td>cofactor</td>\n",
       "      <td>corepressor</td>\n",
       "    </tr>\n",
       "    <tr>\n",
       "      <th>632</th>\n",
       "      <td>HDAC1</td>\n",
       "      <td>cofactor</td>\n",
       "      <td>corepressor</td>\n",
       "    </tr>\n",
       "    <tr>\n",
       "      <th>675</th>\n",
       "      <td>SSX1</td>\n",
       "      <td>cofactor</td>\n",
       "      <td>corepressor</td>\n",
       "    </tr>\n",
       "    <tr>\n",
       "      <th>742</th>\n",
       "      <td>CBFA2T2</td>\n",
       "      <td>cofactor</td>\n",
       "      <td>corepressor</td>\n",
       "    </tr>\n",
       "    <tr>\n",
       "      <th>810</th>\n",
       "      <td>SNW1</td>\n",
       "      <td>cofactor</td>\n",
       "      <td>both</td>\n",
       "    </tr>\n",
       "    <tr>\n",
       "      <th>846</th>\n",
       "      <td>TLE4</td>\n",
       "      <td>cofactor</td>\n",
       "      <td>corepressor</td>\n",
       "    </tr>\n",
       "    <tr>\n",
       "      <th>885</th>\n",
       "      <td>RBPMS</td>\n",
       "      <td>cofactor</td>\n",
       "      <td>coactivator</td>\n",
       "    </tr>\n",
       "    <tr>\n",
       "      <th>891</th>\n",
       "      <td>WWOX</td>\n",
       "      <td>cofactor</td>\n",
       "      <td>coactivator</td>\n",
       "    </tr>\n",
       "    <tr>\n",
       "      <th>907</th>\n",
       "      <td>NFKBIB</td>\n",
       "      <td>cofactor</td>\n",
       "      <td>coactivator</td>\n",
       "    </tr>\n",
       "  </tbody>\n",
       "</table>\n",
       "</div>"
      ],
      "text/plain": [
       "    gene_symbol_partner  category cofactor_type\n",
       "9                  LMO2  cofactor   coactivator\n",
       "29                 SUFU  cofactor   corepressor\n",
       "33                CTBP1  cofactor          both\n",
       "35                ARRB1  cofactor   coactivator\n",
       "47              RUNX1T1  cofactor   corepressor\n",
       "80                KDM1A  cofactor   coactivator\n",
       "87                VGLL1  cofactor   coactivator\n",
       "93                 DAXX  cofactor          both\n",
       "103                PAWR  cofactor   corepressor\n",
       "108               CTBP2  cofactor          both\n",
       "165                FHL2  cofactor   corepressor\n",
       "166                LMO1  cofactor   coactivator\n",
       "194                KAT5  cofactor   coactivator\n",
       "234              CITED2  cofactor          both\n",
       "235               C1QBP  cofactor   corepressor\n",
       "262               NRIP1  cofactor          both\n",
       "283               HCFC1  cofactor   coactivator\n",
       "288                DPF2  cofactor   corepressor\n",
       "332                LDB1  cofactor   coactivator\n",
       "340               SMYD1  cofactor   corepressor\n",
       "387             SMARCD3  cofactor   coactivator\n",
       "393               EP300  cofactor   coactivator\n",
       "407              CTNNB1  cofactor   coactivator\n",
       "408                GPS2  cofactor          both\n",
       "428              MAGED1  cofactor   coactivator\n",
       "443               HDAC7  cofactor   corepressor\n",
       "454               KAT2B  cofactor   coactivator\n",
       "471               SIN3B  cofactor   corepressor\n",
       "555                YAF2  cofactor          both\n",
       "558               COPS2  cofactor   corepressor\n",
       "632               HDAC1  cofactor   corepressor\n",
       "675                SSX1  cofactor   corepressor\n",
       "742             CBFA2T2  cofactor   corepressor\n",
       "810                SNW1  cofactor          both\n",
       "846                TLE4  cofactor   corepressor\n",
       "885               RBPMS  cofactor   coactivator\n",
       "891                WWOX  cofactor   coactivator\n",
       "907              NFKBIB  cofactor   coactivator"
      ]
     },
     "execution_count": 36,
     "metadata": {},
     "output_type": "execute_result"
    }
   ],
   "source": [
    "cats[(~pd.isnull(cats[\"cofactor_type\"])) & (cats[\"cofactor_type\"] != \"unknown\")]"
   ]
  },
  {
   "cell_type": "code",
   "execution_count": 37,
   "metadata": {},
   "outputs": [
    {
     "name": "stdout",
     "output_type": "stream",
     "text": [
      "# of unique PPI partners found to interact w/ at least 1 TF iso\n"
     ]
    },
    {
     "data": {
      "text/plain": [
       "508"
      ]
     },
     "execution_count": 37,
     "metadata": {},
     "output_type": "execute_result"
    }
   ],
   "source": [
    "y2h_nonan = y2h[~pd.isnull(y2h[\"Y2H_result\"])]\n",
    "print(\"# of unique PPI partners found to interact w/ at least 1 TF iso\")\n",
    "len(y2h_nonan.db_gene_symbol.unique())"
   ]
  },
  {
   "cell_type": "code",
   "execution_count": 38,
   "metadata": {},
   "outputs": [
    {
     "name": "stdout",
     "output_type": "stream",
     "text": [
      "# of unique TF isoforms found to have at least 1 PPI\n"
     ]
    },
    {
     "data": {
      "text/plain": [
       "170"
      ]
     },
     "execution_count": 38,
     "metadata": {},
     "output_type": "execute_result"
    }
   ],
   "source": [
    "print(\"# of unique TF isoforms found to have at least 1 PPI\")\n",
    "len(y2h_nonan.ad_clone_acc.unique())"
   ]
  },
  {
   "cell_type": "code",
   "execution_count": 39,
   "metadata": {},
   "outputs": [
    {
     "name": "stdout",
     "output_type": "stream",
     "text": [
      "# of unique TF genes found to have at least 1 PPI\n"
     ]
    },
    {
     "data": {
      "text/plain": [
       "64"
      ]
     },
     "execution_count": 39,
     "metadata": {},
     "output_type": "execute_result"
    }
   ],
   "source": [
    "print(\"# of unique TF genes found to have at least 1 PPI\")\n",
    "len(y2h_nonan.ad_gene_symbol.unique())"
   ]
  },
  {
   "cell_type": "code",
   "execution_count": 40,
   "metadata": {},
   "outputs": [
    {
     "data": {
      "text/html": [
       "<div>\n",
       "<style scoped>\n",
       "    .dataframe tbody tr th:only-of-type {\n",
       "        vertical-align: middle;\n",
       "    }\n",
       "\n",
       "    .dataframe tbody tr th {\n",
       "        vertical-align: top;\n",
       "    }\n",
       "\n",
       "    .dataframe thead th {\n",
       "        text-align: right;\n",
       "    }\n",
       "</style>\n",
       "<table border=\"1\" class=\"dataframe\">\n",
       "  <thead>\n",
       "    <tr style=\"text-align: right;\">\n",
       "      <th></th>\n",
       "      <th>ad_gene_symbol</th>\n",
       "      <th>db_gene_symbol</th>\n",
       "    </tr>\n",
       "  </thead>\n",
       "  <tbody>\n",
       "    <tr>\n",
       "      <th>0</th>\n",
       "      <td>ATF2</td>\n",
       "      <td>ATF2</td>\n",
       "    </tr>\n",
       "    <tr>\n",
       "      <th>4</th>\n",
       "      <td>ATF2</td>\n",
       "      <td>JDP2</td>\n",
       "    </tr>\n",
       "    <tr>\n",
       "      <th>39</th>\n",
       "      <td>ATF2</td>\n",
       "      <td>FOSL2</td>\n",
       "    </tr>\n",
       "    <tr>\n",
       "      <th>73</th>\n",
       "      <td>ATF2</td>\n",
       "      <td>MAPK9</td>\n",
       "    </tr>\n",
       "    <tr>\n",
       "      <th>122</th>\n",
       "      <td>CREB5</td>\n",
       "      <td>EFEMP2</td>\n",
       "    </tr>\n",
       "    <tr>\n",
       "      <th>...</th>\n",
       "      <td>...</td>\n",
       "      <td>...</td>\n",
       "    </tr>\n",
       "    <tr>\n",
       "      <th>10275</th>\n",
       "      <td>TCF12</td>\n",
       "      <td>FAM110A</td>\n",
       "    </tr>\n",
       "    <tr>\n",
       "      <th>10276</th>\n",
       "      <td>TCF12</td>\n",
       "      <td>FAM124B</td>\n",
       "    </tr>\n",
       "    <tr>\n",
       "      <th>10278</th>\n",
       "      <td>TCF12</td>\n",
       "      <td>FAM50B</td>\n",
       "    </tr>\n",
       "    <tr>\n",
       "      <th>10281</th>\n",
       "      <td>TCF12</td>\n",
       "      <td>FLNA</td>\n",
       "    </tr>\n",
       "    <tr>\n",
       "      <th>10317</th>\n",
       "      <td>DDIT3</td>\n",
       "      <td>UBXN7</td>\n",
       "    </tr>\n",
       "  </tbody>\n",
       "</table>\n",
       "<p>936 rows × 2 columns</p>\n",
       "</div>"
      ],
      "text/plain": [
       "      ad_gene_symbol db_gene_symbol\n",
       "0               ATF2           ATF2\n",
       "4               ATF2           JDP2\n",
       "39              ATF2          FOSL2\n",
       "73              ATF2          MAPK9\n",
       "122            CREB5         EFEMP2\n",
       "...              ...            ...\n",
       "10275          TCF12        FAM110A\n",
       "10276          TCF12        FAM124B\n",
       "10278          TCF12         FAM50B\n",
       "10281          TCF12           FLNA\n",
       "10317          DDIT3          UBXN7\n",
       "\n",
       "[936 rows x 2 columns]"
      ]
     },
     "execution_count": 40,
     "metadata": {},
     "output_type": "execute_result"
    }
   ],
   "source": [
    "ggi = y2h_nonan[[\"ad_gene_symbol\", \"db_gene_symbol\"]].drop_duplicates()\n",
    "ggi"
   ]
  },
  {
   "cell_type": "code",
   "execution_count": 41,
   "metadata": {},
   "outputs": [
    {
     "data": {
      "text/plain": [
       "508"
      ]
     },
     "execution_count": 41,
     "metadata": {},
     "output_type": "execute_result"
    }
   ],
   "source": [
    "# limiting df to those that are in the y2h iso data\n",
    "cats_y2h = cats[cats[\"gene_symbol_partner\"].isin(ggi[\"db_gene_symbol\"])]\n",
    "len(cats_y2h)"
   ]
  },
  {
   "cell_type": "code",
   "execution_count": 42,
   "metadata": {},
   "outputs": [
    {
     "data": {
      "text/html": [
       "<div>\n",
       "<style scoped>\n",
       "    .dataframe tbody tr th:only-of-type {\n",
       "        vertical-align: middle;\n",
       "    }\n",
       "\n",
       "    .dataframe tbody tr th {\n",
       "        vertical-align: top;\n",
       "    }\n",
       "\n",
       "    .dataframe thead th {\n",
       "        text-align: right;\n",
       "    }\n",
       "</style>\n",
       "<table border=\"1\" class=\"dataframe\">\n",
       "  <thead>\n",
       "    <tr style=\"text-align: right;\">\n",
       "      <th></th>\n",
       "      <th>gene_symbol_partner</th>\n",
       "      <th>category</th>\n",
       "    </tr>\n",
       "  </thead>\n",
       "  <tbody>\n",
       "  </tbody>\n",
       "</table>\n",
       "</div>"
      ],
      "text/plain": [
       "Empty DataFrame\n",
       "Columns: [gene_symbol_partner, category]\n",
       "Index: []"
      ]
     },
     "execution_count": 42,
     "metadata": {},
     "output_type": "execute_result"
    }
   ],
   "source": [
    "cats_dupe = cats_y2h.groupby(\"gene_symbol_partner\")[\"category\"].agg(\"count\").reset_index()\n",
    "cats_dupe[cats_dupe[\"category\"] > 1].head()"
   ]
  },
  {
   "cell_type": "markdown",
   "metadata": {},
   "source": [
    "gene partners are now in mutually exclusive categories"
   ]
  },
  {
   "cell_type": "code",
   "execution_count": 43,
   "metadata": {},
   "outputs": [
    {
     "data": {
      "image/png": "[encoded data removed]",
      "text/plain": [
       "<Figure size 86.4x86.4 with 1 Axes>"
      ]
     },
     "metadata": {},
     "output_type": "display_data"
    }
   ],
   "source": [
    "ys = np.array([len(cats_y2h[cats_y2h[\"category\"] == \"TF\"]), len(cats_y2h[cats_y2h[\"category\"] == \"cofactor\"]),\n",
    "               len(cats_y2h[cats_y2h[\"category\"] == \"signaling\"]),\n",
    "               len(cats_y2h[cats_y2h[\"category\"] == \"other\"])])\n",
    "labels = [\"TF\", \"cofactor\", \"signaling\", \"other\"]\n",
    "colors = [sns.color_palette(\"Set2\")[2], sns.color_palette(\"Set2\")[1], sns.color_palette(\"Set2\")[5], \"darkgray\"]\n",
    "\n",
    "fig, ax = plt.subplots(figsize=(1.2, 1.2), subplot_kw=dict(aspect=\"equal\"))\n",
    "ws, ls, ns = ax.pie(ys, colors=colors, labels=labels, autopct='%1.0f%%', startangle=-45, \n",
    "                    explode=(0.02, 0.2, 0.05, 0.05))\n",
    "\n",
    "for n, w in zip(ns, ws):\n",
    "    w.set_linewidth(0.5)\n",
    "    w.set_edgecolor(\"black\")\n",
    "    n.set_fontweight(\"bold\")\n",
    "    n.set_fontsize(6)\n",
    "\n",
    "fig.savefig(\"../../figures/fig4/PPIs-gene-level-manual-categories_simplified.pdf\", dpi=\"figure\", bbox_inches=\"tight\")"
   ]
  },
  {
   "cell_type": "code",
   "execution_count": 44,
   "metadata": {},
   "outputs": [],
   "source": [
    "cofactor_partners = set(cats_y2h.loc[cats_y2h['category'] == 'cofactor', 'gene_symbol_partner'].unique())\n",
    "signaling_partners = set(cats_y2h.loc[cats_y2h['category'] == 'signaling', 'gene_symbol_partner'].unique())\n",
    "other_partners = set(cats_y2h.loc[cats_y2h['category'] == 'other', 'gene_symbol_partner'].unique())\n",
    "tf_gene_symbols = set(load_human_tf_db()['HGNC symbol'].values)\n",
    "\n",
    "coactivator_partners = set(cats_y2h.loc[cats_y2h['cofactor_type'] == 'coactivator', 'gene_symbol_partner'].unique())\n",
    "corepressor_partners = set(cats_y2h.loc[cats_y2h['cofactor_type'] == 'corepressor', 'gene_symbol_partner'].unique())"
   ]
  },
  {
   "cell_type": "code",
   "execution_count": 45,
   "metadata": {},
   "outputs": [
    {
     "data": {
      "text/plain": [
       "unknown        42\n",
       "corepressor     7\n",
       "coactivator     6\n",
       "both            3\n",
       "Name: cofactor_type, dtype: int64"
      ]
     },
     "execution_count": 45,
     "metadata": {},
     "output_type": "execute_result"
    }
   ],
   "source": [
    "cats_y2h.cofactor_type.value_counts()"
   ]
  },
  {
   "cell_type": "code",
   "execution_count": 46,
   "metadata": {},
   "outputs": [
    {
     "data": {
      "text/plain": [
       "['CACNB3',\n",
       " 'SPDL1',\n",
       " 'ANKS1A',\n",
       " 'TFG',\n",
       " 'BLK',\n",
       " 'OLFM3',\n",
       " 'NABP1',\n",
       " 'GNG11',\n",
       " 'CRY2',\n",
       " 'TRAF3']"
      ]
     },
     "execution_count": 46,
     "metadata": {},
     "output_type": "execute_result"
    }
   ],
   "source": [
    "list(signaling_partners)[25:35]"
   ]
  },
  {
   "cell_type": "code",
   "execution_count": 47,
   "metadata": {},
   "outputs": [],
   "source": [
    "# make a similar pie chart but this time focusing on protein categories that get rewired across isoforms"
   ]
  },
  {
   "cell_type": "code",
   "execution_count": 48,
   "metadata": {},
   "outputs": [
    {
     "data": {
      "text/html": [
       "<div>\n",
       "<style scoped>\n",
       "    .dataframe tbody tr th:only-of-type {\n",
       "        vertical-align: middle;\n",
       "    }\n",
       "\n",
       "    .dataframe tbody tr th {\n",
       "        vertical-align: top;\n",
       "    }\n",
       "\n",
       "    .dataframe thead th {\n",
       "        text-align: right;\n",
       "    }\n",
       "</style>\n",
       "<table border=\"1\" class=\"dataframe\">\n",
       "  <thead>\n",
       "    <tr style=\"text-align: right;\">\n",
       "      <th></th>\n",
       "      <th>ad_gene_symbol</th>\n",
       "      <th>db_gene_symbol</th>\n",
       "      <th>Y2H_result</th>\n",
       "    </tr>\n",
       "  </thead>\n",
       "  <tbody>\n",
       "    <tr>\n",
       "      <th>0</th>\n",
       "      <td>ARNT2</td>\n",
       "      <td>EIF3E</td>\n",
       "      <td>0</td>\n",
       "    </tr>\n",
       "    <tr>\n",
       "      <th>1</th>\n",
       "      <td>ARNT2</td>\n",
       "      <td>LMO3</td>\n",
       "      <td>0</td>\n",
       "    </tr>\n",
       "    <tr>\n",
       "      <th>2</th>\n",
       "      <td>ARNT2</td>\n",
       "      <td>NABP1</td>\n",
       "      <td>0</td>\n",
       "    </tr>\n",
       "    <tr>\n",
       "      <th>3</th>\n",
       "      <td>ARNT2</td>\n",
       "      <td>NPAS2</td>\n",
       "      <td>0</td>\n",
       "    </tr>\n",
       "    <tr>\n",
       "      <th>4</th>\n",
       "      <td>ARNT2</td>\n",
       "      <td>NRBP1</td>\n",
       "      <td>0</td>\n",
       "    </tr>\n",
       "    <tr>\n",
       "      <th>...</th>\n",
       "      <td>...</td>\n",
       "      <td>...</td>\n",
       "      <td>...</td>\n",
       "    </tr>\n",
       "    <tr>\n",
       "      <th>1071</th>\n",
       "      <td>ZSCAN18</td>\n",
       "      <td>ZNF792</td>\n",
       "      <td>2</td>\n",
       "    </tr>\n",
       "    <tr>\n",
       "      <th>1072</th>\n",
       "      <td>ZSCAN18</td>\n",
       "      <td>ZSCAN22</td>\n",
       "      <td>2</td>\n",
       "    </tr>\n",
       "    <tr>\n",
       "      <th>1073</th>\n",
       "      <td>ZSCAN9</td>\n",
       "      <td>SCAND1</td>\n",
       "      <td>1</td>\n",
       "    </tr>\n",
       "    <tr>\n",
       "      <th>1074</th>\n",
       "      <td>ZSCAN9</td>\n",
       "      <td>SRPK2</td>\n",
       "      <td>1</td>\n",
       "    </tr>\n",
       "    <tr>\n",
       "      <th>1075</th>\n",
       "      <td>ZSCAN9</td>\n",
       "      <td>ZNF446</td>\n",
       "      <td>0</td>\n",
       "    </tr>\n",
       "  </tbody>\n",
       "</table>\n",
       "<p>1076 rows × 3 columns</p>\n",
       "</div>"
      ],
      "text/plain": [
       "     ad_gene_symbol db_gene_symbol  Y2H_result\n",
       "0             ARNT2          EIF3E           0\n",
       "1             ARNT2           LMO3           0\n",
       "2             ARNT2          NABP1           0\n",
       "3             ARNT2          NPAS2           0\n",
       "4             ARNT2          NRBP1           0\n",
       "...             ...            ...         ...\n",
       "1071        ZSCAN18         ZNF792           2\n",
       "1072        ZSCAN18        ZSCAN22           2\n",
       "1073         ZSCAN9         SCAND1           1\n",
       "1074         ZSCAN9          SRPK2           1\n",
       "1075         ZSCAN9         ZNF446           0\n",
       "\n",
       "[1076 rows x 3 columns]"
      ]
     },
     "execution_count": 48,
     "metadata": {},
     "output_type": "execute_result"
    }
   ],
   "source": [
    "ppi = load_y2h_isoform_data(require_at_least_one_ppi_per_isoform=False)\n",
    "ppi.groupby(['ad_gene_symbol', 'db_gene_symbol'])['Y2H_result'].apply(lambda x: (x == False).sum()).reset_index()"
   ]
  },
  {
   "cell_type": "code",
   "execution_count": 49,
   "metadata": {},
   "outputs": [
    {
     "data": {
      "text/html": [
       "<div>\n",
       "<style scoped>\n",
       "    .dataframe tbody tr th:only-of-type {\n",
       "        vertical-align: middle;\n",
       "    }\n",
       "\n",
       "    .dataframe tbody tr th {\n",
       "        vertical-align: top;\n",
       "    }\n",
       "\n",
       "    .dataframe thead th {\n",
       "        text-align: right;\n",
       "    }\n",
       "</style>\n",
       "<table border=\"1\" class=\"dataframe\">\n",
       "  <thead>\n",
       "    <tr style=\"text-align: right;\">\n",
       "      <th></th>\n",
       "      <th>ad_gene_symbol</th>\n",
       "      <th>db_gene_symbol</th>\n",
       "      <th>Y2H_result_x</th>\n",
       "      <th>Y2H_result_y</th>\n",
       "      <th>rewiring_score</th>\n",
       "    </tr>\n",
       "  </thead>\n",
       "  <tbody>\n",
       "    <tr>\n",
       "      <th>260</th>\n",
       "      <td>MEIS1</td>\n",
       "      <td>TIAL1</td>\n",
       "      <td>2</td>\n",
       "      <td>1</td>\n",
       "      <td>0.500000</td>\n",
       "    </tr>\n",
       "    <tr>\n",
       "      <th>1025</th>\n",
       "      <td>ZNF451</td>\n",
       "      <td>TFG</td>\n",
       "      <td>7</td>\n",
       "      <td>6</td>\n",
       "      <td>0.857143</td>\n",
       "    </tr>\n",
       "    <tr>\n",
       "      <th>439</th>\n",
       "      <td>PRRX1</td>\n",
       "      <td>NECAB1</td>\n",
       "      <td>3</td>\n",
       "      <td>2</td>\n",
       "      <td>0.666667</td>\n",
       "    </tr>\n",
       "    <tr>\n",
       "      <th>770</th>\n",
       "      <td>TCF4</td>\n",
       "      <td>RAD51D</td>\n",
       "      <td>8</td>\n",
       "      <td>4</td>\n",
       "      <td>0.500000</td>\n",
       "    </tr>\n",
       "    <tr>\n",
       "      <th>102</th>\n",
       "      <td>FOXN4</td>\n",
       "      <td>PIN1</td>\n",
       "      <td>2</td>\n",
       "      <td>1</td>\n",
       "      <td>0.500000</td>\n",
       "    </tr>\n",
       "  </tbody>\n",
       "</table>\n",
       "</div>"
      ],
      "text/plain": [
       "     ad_gene_symbol db_gene_symbol  Y2H_result_x  Y2H_result_y  rewiring_score\n",
       "260           MEIS1          TIAL1             2             1        0.500000\n",
       "1025         ZNF451            TFG             7             6        0.857143\n",
       "439           PRRX1         NECAB1             3             2        0.666667\n",
       "770            TCF4         RAD51D             8             4        0.500000\n",
       "102           FOXN4           PIN1             2             1        0.500000"
      ]
     },
     "execution_count": 49,
     "metadata": {},
     "output_type": "execute_result"
    }
   ],
   "source": [
    "a = ppi.groupby(['ad_gene_symbol', 'db_gene_symbol'])['Y2H_result'].apply(lambda x: (x == False).sum()).reset_index()\n",
    "tot = ppi.groupby(['ad_gene_symbol', 'db_gene_symbol'])['Y2H_result'].apply(lambda x: (x.notnull().sum())).reset_index()\n",
    "rw = tot.merge(a, on=[\"ad_gene_symbol\", \"db_gene_symbol\"], how=\"left\")\n",
    "rw[\"rewiring_score\"] = rw[\"Y2H_result_y\"]/rw[\"Y2H_result_x\"]\n",
    "rw.sample(5)"
   ]
  },
  {
   "cell_type": "code",
   "execution_count": 50,
   "metadata": {},
   "outputs": [
    {
     "data": {
      "text/plain": [
       "433"
      ]
     },
     "execution_count": 50,
     "metadata": {},
     "output_type": "execute_result"
    }
   ],
   "source": [
    "# anything w a rewiring score > 0 is rewired\n",
    "rewired_ppis = rw[rw[\"rewiring_score\"] > 0]\n",
    "cats_y2h_rw = cats_y2h[cats_y2h[\"gene_symbol_partner\"].isin(rewired_ppis[\"db_gene_symbol\"])]\n",
    "len(cats_y2h_rw)"
   ]
  },
  {
   "cell_type": "code",
   "execution_count": 51,
   "metadata": {},
   "outputs": [
    {
     "data": {
      "image/png": "[encoded data removed]",
      "text/plain": [
       "<Figure size 86.4x86.4 with 1 Axes>"
      ]
     },
     "metadata": {},
     "output_type": "display_data"
    }
   ],
   "source": [
    "ys = np.array([len(cats_y2h_rw[cats_y2h_rw[\"category\"] == \"TF\"]), \n",
    "               len(cats_y2h_rw[cats_y2h_rw[\"category\"] == \"cofactor\"]),\n",
    "               len(cats_y2h_rw[cats_y2h_rw[\"category\"] == \"signaling\"]),\n",
    "               len(cats_y2h_rw[cats_y2h_rw[\"category\"] == \"other\"])])\n",
    "labels = [\"TF\", \"cofactor\", \"signaling\", \"other\"]\n",
    "colors = [sns.color_palette(\"Set2\")[2], sns.color_palette(\"Set2\")[1], sns.color_palette(\"Set2\")[5], \"darkgray\"]\n",
    "\n",
    "fig, ax = plt.subplots(figsize=(1.2, 1.2), subplot_kw=dict(aspect=\"equal\"))\n",
    "ws, ls, ns = ax.pie(ys, colors=colors, labels=labels, autopct='%1.0f%%', startangle=-45, \n",
    "                    explode=(0.02, 0.2, 0.05, 0.05))\n",
    "\n",
    "for n, w in zip(ns, ws):\n",
    "    w.set_linewidth(0.5)\n",
    "    w.set_edgecolor(\"black\")\n",
    "    n.set_fontweight(\"bold\")\n",
    "    n.set_fontsize(6)\n",
    "\n",
    "fig.savefig(\"../../figures/fig4/PPIs-gene-level-manual-categories_simplified.rewired_only.pdf\", dpi=\"figure\", bbox_inches=\"tight\")"
   ]
  },
  {
   "cell_type": "markdown",
   "metadata": {},
   "source": [
    "## 7. plot the relationship between gain/loss of PPIs and changes in activity"
   ]
  },
  {
   "cell_type": "code",
   "execution_count": 52,
   "metadata": {},
   "outputs": [],
   "source": [
    "def add_restricted_ppi_columns(pairs, rows, label):\n",
    "    pairs_cf = pairs[['clone_acc_ref', 'clone_acc_alt']].copy()\n",
    "    _add_PPI_columns(df=pairs_cf, y2h=y2h.loc[rows, :])\n",
    "    return pd.merge(pairs, \n",
    "                    pairs_cf,\n",
    "                    how='left',\n",
    "                    on=['clone_acc_ref', 'clone_acc_alt'],\n",
    "                    suffixes=('', '_' + label))"
   ]
  },
  {
   "cell_type": "code",
   "execution_count": 53,
   "metadata": {},
   "outputs": [],
   "source": [
    "pairs = add_restricted_ppi_columns(pairs, \n",
    "                           rows=y2h['db_gene_symbol'].isin(cofactor_partners),\n",
    "                           label='cofactors'\n",
    ")\n",
    "\n",
    "pairs = add_restricted_ppi_columns(pairs, \n",
    "                           rows=(y2h['db_gene_symbol'].isin(cofactor_partners) &\n",
    "                                 y2h['db_gene_symbol'].isin(hek_expressed_genes)),\n",
    "                           label='cofactors_HEK'\n",
    ")\n",
    "\n",
    "pairs = add_restricted_ppi_columns(pairs, \n",
    "                           rows=y2h['db_gene_symbol'].isin(coactivator_partners),\n",
    "                           label='coactivators'\n",
    ")\n",
    "\n",
    "pairs = add_restricted_ppi_columns(pairs, \n",
    "                           rows=(y2h['db_gene_symbol'].isin(coactivator_partners) &\n",
    "                                 y2h['db_gene_symbol'].isin(hek_expressed_genes)),\n",
    "                           label='coactivators_HEK'\n",
    ")\n",
    "\n",
    "pairs = add_restricted_ppi_columns(pairs, \n",
    "                           rows=y2h['db_gene_symbol'].isin(corepressor_partners),\n",
    "                           label='corepressors'\n",
    ")\n",
    "\n",
    "pairs = add_restricted_ppi_columns(pairs, \n",
    "                           rows=(y2h['db_gene_symbol'].isin(corepressor_partners) &\n",
    "                                 y2h['db_gene_symbol'].isin(hek_expressed_genes)),\n",
    "                           label='corepressors_HEK'\n",
    ")\n",
    "\n",
    "pairs = add_restricted_ppi_columns(pairs, \n",
    "                           rows=y2h['db_gene_symbol'].isin(signaling_partners),\n",
    "                           label='signaling'\n",
    ")\n",
    "\n",
    "pairs = add_restricted_ppi_columns(pairs, \n",
    "                           rows=(y2h['db_gene_symbol'].isin(signaling_partners) &\n",
    "                                 y2h['db_gene_symbol'].isin(hek_expressed_genes)),\n",
    "                           label='signaling_HEK'\n",
    ")\n",
    "\n",
    "pairs = add_restricted_ppi_columns(pairs, \n",
    "                           rows=y2h['db_gene_symbol'].isin(tf_gene_symbols),\n",
    "                           label='tfs'\n",
    ")\n",
    "\n",
    "pairs = add_restricted_ppi_columns(pairs, \n",
    "                           rows=(y2h['db_gene_symbol'].isin(tf_gene_symbols) &\n",
    "                                 y2h['db_gene_symbol'].isin(hek_expressed_genes)),\n",
    "                           label='tfs_HEK'\n",
    ")\n",
    "\n",
    "pairs = add_restricted_ppi_columns(pairs, \n",
    "                           rows=(y2h['db_gene_symbol'].isin(other_partners) &\n",
    "                                 y2h['db_gene_symbol'].isin(hek_expressed_genes)),\n",
    "                           label='other_HEK'\n",
    ")"
   ]
  },
  {
   "cell_type": "code",
   "execution_count": 54,
   "metadata": {},
   "outputs": [],
   "source": [
    "def bar_activation_vs_ppi(x, y, pairs=pairs, x_label=None, y_label=None, color=None):\n",
    "    \"\"\"\n",
    "    TODO:\n",
    "        - calculate p-value properly\n",
    "            - this requires permuting in some smart way\n",
    "            - one question is whether the genes are the number of independent data points or the isoforms are\n",
    "            - I think the answer is the isoforms are\n",
    "    \n",
    "    \"\"\"\n",
    "    df = pairs.copy()\n",
    "    if x_label is None:\n",
    "        x_label = x\n",
    "    if y_label is None:\n",
    "        y_label = y\n",
    "    if color is None:\n",
    "        color = sns.color_palette(\"Set2\")[1]\n",
    "    fig, ax = plt.subplots(1, 1, figsize=(1.15, 1.5))\n",
    "\n",
    "    def bin_delta_ppi(delta_ppi):\n",
    "        if pd.isnull(delta_ppi):\n",
    "            return np.nan\n",
    "        if delta_ppi < 0:\n",
    "            return 'change'\n",
    "        elif delta_ppi > 0:\n",
    "            return 'change'\n",
    "        elif delta_ppi == 0:\n",
    "            return 'equal'\n",
    "        else:\n",
    "            raise ValueError(delta_ppi)\n",
    "\n",
    "\n",
    "    df[x + '_binned'] = df[x].apply(bin_delta_ppi)\n",
    "    sns.stripplot(data=df,\n",
    "                  x=x + '_binned',\n",
    "                  y=y,\n",
    "                  order=['equal', 'change'],\n",
    "                  alpha=0.75,\n",
    "                  color=color,\n",
    "                  linewidth=1,\n",
    "                  edgecolor=\"black\",\n",
    "                  ax=ax)\n",
    "    if False:\n",
    "        sns.pointplot(data=df,\n",
    "                    x=x + '_binned',\n",
    "                    y=y,\n",
    "                    order=['equal', 'change'],\n",
    "                    alpha=0.5,\n",
    "                    color='black',\n",
    "                    ax=ax)\n",
    "    if True:\n",
    "        sns.boxplot(data=df,\n",
    "                    x=x + '_binned',\n",
    "                    y=y,\n",
    "                    order=['equal', 'change'],\n",
    "                    fliersize=0,\n",
    "                    color=color,\n",
    "                    ax=ax)\n",
    "        mimic_r_boxplot(ax)\n",
    "    else:\n",
    "        sns.violinplot(data=df,\n",
    "                    x=x + '_binned',\n",
    "                    y=y,\n",
    "                    order=['equal', 'change'],\n",
    "                    color='lightgrey',\n",
    "                    ax=ax)\n",
    "    ax.set_xlabel(x_label)\n",
    "    ax.set_ylabel(y_label)\n",
    "    with_data = (df[x].notnull() & df[y].notnull())\n",
    "    n_pair = with_data.sum()\n",
    "    n_iso = len(set(df.loc[with_data, ['clone_acc_ref', 'clone_acc_alt']].values.flatten()))\n",
    "    n_gene = df.loc[with_data, 'gene_symbol'].nunique()\n",
    "    \n",
    "    dist_a = df[df[x + '_binned'] == 'equal'][y].values\n",
    "    dist_b = df[df[x + '_binned'] == 'change'][y].values\n",
    "    u, p = stats.mannwhitneyu(dist_a, dist_b, alternative=\"less\")\n",
    "    plotting.annotate_pval(ax, 0.2, 0.8, 2.4, 0, 2.4, p, 7)\n",
    "    \n",
    "    ax.text(s=f'{n_pair:d} pairs\\n{n_iso:d} isoforms\\n{n_gene:d} genes\\np = {p:.2f}',\n",
    "            x=1.03,\n",
    "            y=0.95,\n",
    "            ha='left',\n",
    "            va='top',\n",
    "            transform=ax.transAxes)\n",
    "    #ax.set_ylim(-4, 4) # NOTE cuts outlier TODO add broken axis\n",
    "\n",
    "    for pos in ['top', 'bottom', 'right']:\n",
    "        ax.spines[pos].set_visible(False)\n",
    "    ax.xaxis.set_tick_params(length=0)\n",
    "    fig.savefig(f'../../figures/fig4/{x}-vs-{y}_scatter.pdf',\n",
    "                bbox_inches='tight')"
   ]
  },
  {
   "cell_type": "code",
   "execution_count": 55,
   "metadata": {},
   "outputs": [],
   "source": [
    "pairs['activation_abs_fold_change'] = pairs['activation_fold_change_log2'].abs()"
   ]
  },
  {
   "cell_type": "code",
   "execution_count": 56,
   "metadata": {},
   "outputs": [
    {
     "data": {
      "text/plain": [
       "254"
      ]
     },
     "execution_count": 56,
     "metadata": {},
     "output_type": "execute_result"
    }
   ],
   "source": [
    "# limit to pairs w signal in m1h\n",
    "df = pairs.copy()\n",
    "df = df.loc[df['activation_fold_change_log2'].notnull() & df['m1h_gte_2_fold_at_least_one_iso_per_gene'], :]\n",
    "len(df)"
   ]
  },
  {
   "cell_type": "code",
   "execution_count": 57,
   "metadata": {},
   "outputs": [
    {
     "name": "stderr",
     "output_type": "stream",
     "text": [
      "../plotting.py:1005: MatplotlibDeprecationWarning: Saw kwargs ['lw', 'linewidth'] which are all aliases for 'linewidth'.  Kept value from 'linewidth'.  Passing multiple aliases for the same property will raise a TypeError in 3.3.\n",
      "  ax.plot([x1, x1, x2, x2], [y, y + h, y + h, y], lw=1, c=\"black\", linewidth=0.5)\n"
     ]
    },
    {
     "data": {
      "image/png": "[encoded data removed]",
      "text/plain": [
       "<Figure size 82.8x108 with 1 Axes>"
      ]
     },
     "metadata": {},
     "output_type": "display_data"
    }
   ],
   "source": [
    "bar_activation_vs_ppi(\n",
    "    pairs=df.loc[df['at_least_one_isoform_in_gene_abs_activation_gte_2fold'] == True, :],\n",
    "    x='PPI_delta_n_other_HEK',\n",
    "    y='activation_abs_fold_change',\n",
    "    x_label='Net difference in number of PPIs',\n",
    "    y_label='|log2(activation foldchange)|',\n",
    "    color=\"darkgrey\")"
   ]
  },
  {
   "cell_type": "code",
   "execution_count": 58,
   "metadata": {},
   "outputs": [
    {
     "name": "stderr",
     "output_type": "stream",
     "text": [
      "../plotting.py:1005: MatplotlibDeprecationWarning: Saw kwargs ['lw', 'linewidth'] which are all aliases for 'linewidth'.  Kept value from 'linewidth'.  Passing multiple aliases for the same property will raise a TypeError in 3.3.\n",
      "  ax.plot([x1, x1, x2, x2], [y, y + h, y + h, y], lw=1, c=\"black\", linewidth=0.5)\n"
     ]
    },
    {
     "data": {
      "image/png": "[encoded data removed]",
      "text/plain": [
       "<Figure size 82.8x108 with 1 Axes>"
      ]
     },
     "metadata": {},
     "output_type": "display_data"
    }
   ],
   "source": [
    "bar_activation_vs_ppi(\n",
    "    pairs=df.loc[df['at_least_one_isoform_in_gene_abs_activation_gte_2fold'] == True, :],\n",
    "    x='PPI_delta_n_cofactors_HEK',\n",
    "    y='activation_abs_fold_change',\n",
    "    x_label='Difference in number of cofactor PPIs\\nrestricted to those expressed in HEK293 cells',\n",
    "    y_label='|log2(activation foldchange)|',\n",
    "    color=sns.color_palette(\"Set2\")[1])"
   ]
  },
  {
   "cell_type": "code",
   "execution_count": 59,
   "metadata": {},
   "outputs": [
    {
     "name": "stderr",
     "output_type": "stream",
     "text": [
      "../plotting.py:1005: MatplotlibDeprecationWarning: Saw kwargs ['lw', 'linewidth'] which are all aliases for 'linewidth'.  Kept value from 'linewidth'.  Passing multiple aliases for the same property will raise a TypeError in 3.3.\n",
      "  ax.plot([x1, x1, x2, x2], [y, y + h, y + h, y], lw=1, c=\"black\", linewidth=0.5)\n"
     ]
    },
    {
     "data": {
      "image/png": "[encoded data removed]",
      "text/plain": [
       "<Figure size 82.8x108 with 1 Axes>"
      ]
     },
     "metadata": {},
     "output_type": "display_data"
    }
   ],
   "source": [
    "bar_activation_vs_ppi(\n",
    "    pairs=df.loc[df['at_least_one_isoform_in_gene_abs_activation_gte_2fold'] == True, :],\n",
    "    x='PPI_delta_n_signaling_HEK',\n",
    "    y='activation_abs_fold_change',\n",
    "    x_label='Difference in number of signaling PPIs\\nrestricted to those expressed in HEK293 cells',\n",
    "    y_label='|log2(activation foldchange)|',\n",
    "    color=sns.color_palette(\"Set2\")[5])"
   ]
  },
  {
   "cell_type": "code",
   "execution_count": 60,
   "metadata": {},
   "outputs": [
    {
     "name": "stderr",
     "output_type": "stream",
     "text": [
      "../plotting.py:1005: MatplotlibDeprecationWarning: Saw kwargs ['lw', 'linewidth'] which are all aliases for 'linewidth'.  Kept value from 'linewidth'.  Passing multiple aliases for the same property will raise a TypeError in 3.3.\n",
      "  ax.plot([x1, x1, x2, x2], [y, y + h, y + h, y], lw=1, c=\"black\", linewidth=0.5)\n"
     ]
    },
    {
     "data": {
      "image/png": "[encoded data removed]",
      "text/plain": [
       "<Figure size 82.8x108 with 1 Axes>"
      ]
     },
     "metadata": {},
     "output_type": "display_data"
    }
   ],
   "source": [
    "bar_activation_vs_ppi(\n",
    "    pairs=df.loc[df['at_least_one_isoform_in_gene_abs_activation_gte_2fold'] == True, :],\n",
    "    x='PPI_delta_n_tfs_HEK',\n",
    "    y='activation_abs_fold_change',\n",
    "    x_label='Difference in number of TF PPIs\\nrestricted to those expressed in HEK293 cells',\n",
    "    y_label='|log2(activation foldchange)|',\n",
    "    color=sns.color_palette(\"Set2\")[2])"
   ]
  },
  {
   "cell_type": "markdown",
   "metadata": {},
   "source": [
    "## 7. dimerizing TFs: plot conservation of interactions across isoforms"
   ]
  },
  {
   "cell_type": "code",
   "execution_count": 61,
   "metadata": {},
   "outputs": [
    {
     "data": {
      "text/html": [
       "<div>\n",
       "<style scoped>\n",
       "    .dataframe tbody tr th:only-of-type {\n",
       "        vertical-align: middle;\n",
       "    }\n",
       "\n",
       "    .dataframe tbody tr th {\n",
       "        vertical-align: top;\n",
       "    }\n",
       "\n",
       "    .dataframe thead th {\n",
       "        text-align: right;\n",
       "    }\n",
       "</style>\n",
       "<table border=\"1\" class=\"dataframe\">\n",
       "  <thead>\n",
       "    <tr style=\"text-align: right;\">\n",
       "      <th></th>\n",
       "      <th>ad_clone_acc</th>\n",
       "      <th>ad_gene_symbol</th>\n",
       "      <th>db_gene_symbol</th>\n",
       "      <th>Y2H_result</th>\n",
       "    </tr>\n",
       "  </thead>\n",
       "  <tbody>\n",
       "    <tr>\n",
       "      <th>0</th>\n",
       "      <td>ATF2|1/6|12H04</td>\n",
       "      <td>ATF2</td>\n",
       "      <td>ATF2</td>\n",
       "      <td>True</td>\n",
       "    </tr>\n",
       "    <tr>\n",
       "      <th>3</th>\n",
       "      <td>ATF2|1/6|12H04</td>\n",
       "      <td>ATF2</td>\n",
       "      <td>FOSL2</td>\n",
       "      <td>NaN</td>\n",
       "    </tr>\n",
       "    <tr>\n",
       "      <th>4</th>\n",
       "      <td>ATF2|1/6|12H04</td>\n",
       "      <td>ATF2</td>\n",
       "      <td>JDP2</td>\n",
       "      <td>True</td>\n",
       "    </tr>\n",
       "    <tr>\n",
       "      <th>12</th>\n",
       "      <td>ATF2|2/6|09E05</td>\n",
       "      <td>ATF2</td>\n",
       "      <td>ATF2</td>\n",
       "      <td>True</td>\n",
       "    </tr>\n",
       "    <tr>\n",
       "      <th>15</th>\n",
       "      <td>ATF2|2/6|09E05</td>\n",
       "      <td>ATF2</td>\n",
       "      <td>FOSL2</td>\n",
       "      <td>NaN</td>\n",
       "    </tr>\n",
       "  </tbody>\n",
       "</table>\n",
       "</div>"
      ],
      "text/plain": [
       "      ad_clone_acc ad_gene_symbol db_gene_symbol Y2H_result\n",
       "0   ATF2|1/6|12H04           ATF2           ATF2       True\n",
       "3   ATF2|1/6|12H04           ATF2          FOSL2        NaN\n",
       "4   ATF2|1/6|12H04           ATF2           JDP2       True\n",
       "12  ATF2|2/6|09E05           ATF2           ATF2       True\n",
       "15  ATF2|2/6|09E05           ATF2          FOSL2        NaN"
      ]
     },
     "execution_count": 61,
     "metadata": {},
     "output_type": "execute_result"
    }
   ],
   "source": [
    "ppi = load_y2h_isoform_data(require_at_least_one_ppi_per_isoform=True)\n",
    "ppi.head()"
   ]
  },
  {
   "cell_type": "code",
   "execution_count": 62,
   "metadata": {},
   "outputs": [
    {
     "data": {
      "text/html": [
       "<div>\n",
       "<style scoped>\n",
       "    .dataframe tbody tr th:only-of-type {\n",
       "        vertical-align: middle;\n",
       "    }\n",
       "\n",
       "    .dataframe tbody tr th {\n",
       "        vertical-align: top;\n",
       "    }\n",
       "\n",
       "    .dataframe thead th {\n",
       "        text-align: right;\n",
       "    }\n",
       "</style>\n",
       "<table border=\"1\" class=\"dataframe\">\n",
       "  <thead>\n",
       "    <tr style=\"text-align: right;\">\n",
       "      <th></th>\n",
       "      <th>ad_gene_symbol</th>\n",
       "      <th>db_gene_symbol</th>\n",
       "      <th>f_iso_positive</th>\n",
       "    </tr>\n",
       "  </thead>\n",
       "  <tbody>\n",
       "    <tr>\n",
       "      <th>0</th>\n",
       "      <td>ARNT2</td>\n",
       "      <td>EIF3E</td>\n",
       "      <td>1.0</td>\n",
       "    </tr>\n",
       "    <tr>\n",
       "      <th>1</th>\n",
       "      <td>ARNT2</td>\n",
       "      <td>LMO3</td>\n",
       "      <td>1.0</td>\n",
       "    </tr>\n",
       "    <tr>\n",
       "      <th>2</th>\n",
       "      <td>ARNT2</td>\n",
       "      <td>NABP1</td>\n",
       "      <td>1.0</td>\n",
       "    </tr>\n",
       "    <tr>\n",
       "      <th>3</th>\n",
       "      <td>ARNT2</td>\n",
       "      <td>NPAS2</td>\n",
       "      <td>1.0</td>\n",
       "    </tr>\n",
       "    <tr>\n",
       "      <th>4</th>\n",
       "      <td>ARNT2</td>\n",
       "      <td>NRBP1</td>\n",
       "      <td>1.0</td>\n",
       "    </tr>\n",
       "    <tr>\n",
       "      <th>...</th>\n",
       "      <td>...</td>\n",
       "      <td>...</td>\n",
       "      <td>...</td>\n",
       "    </tr>\n",
       "    <tr>\n",
       "      <th>931</th>\n",
       "      <td>ZSCAN18</td>\n",
       "      <td>ZNF792</td>\n",
       "      <td>0.5</td>\n",
       "    </tr>\n",
       "    <tr>\n",
       "      <th>932</th>\n",
       "      <td>ZSCAN18</td>\n",
       "      <td>ZSCAN22</td>\n",
       "      <td>0.5</td>\n",
       "    </tr>\n",
       "    <tr>\n",
       "      <th>933</th>\n",
       "      <td>ZSCAN9</td>\n",
       "      <td>SCAND1</td>\n",
       "      <td>0.5</td>\n",
       "    </tr>\n",
       "    <tr>\n",
       "      <th>934</th>\n",
       "      <td>ZSCAN9</td>\n",
       "      <td>SRPK2</td>\n",
       "      <td>0.5</td>\n",
       "    </tr>\n",
       "    <tr>\n",
       "      <th>935</th>\n",
       "      <td>ZSCAN9</td>\n",
       "      <td>ZNF446</td>\n",
       "      <td>1.0</td>\n",
       "    </tr>\n",
       "  </tbody>\n",
       "</table>\n",
       "<p>936 rows × 3 columns</p>\n",
       "</div>"
      ],
      "text/plain": [
       "    ad_gene_symbol db_gene_symbol  f_iso_positive\n",
       "0            ARNT2          EIF3E             1.0\n",
       "1            ARNT2           LMO3             1.0\n",
       "2            ARNT2          NABP1             1.0\n",
       "3            ARNT2          NPAS2             1.0\n",
       "4            ARNT2          NRBP1             1.0\n",
       "..             ...            ...             ...\n",
       "931        ZSCAN18         ZNF792             0.5\n",
       "932        ZSCAN18        ZSCAN22             0.5\n",
       "933         ZSCAN9         SCAND1             0.5\n",
       "934         ZSCAN9          SRPK2             0.5\n",
       "935         ZSCAN9         ZNF446             1.0\n",
       "\n",
       "[936 rows x 3 columns]"
      ]
     },
     "execution_count": 62,
     "metadata": {},
     "output_type": "execute_result"
    }
   ],
   "source": [
    "n_iso_per_ppi = (ppi.groupby(['ad_gene_symbol', 'db_gene_symbol']))['ad_clone_acc'].agg(\"count\").reset_index()\n",
    "n_true_iso_per_ppi = (ppi[ppi['Y2H_result'] == True].groupby(['ad_gene_symbol', \n",
    "                                                              'db_gene_symbol']))['ad_clone_acc'].agg(\"count\").reset_index()\n",
    "n_iso_per_ppi = n_iso_per_ppi.merge(n_true_iso_per_ppi, on=['ad_gene_symbol', 'db_gene_symbol'], how='left')\n",
    "n_iso_per_ppi['f_iso_positive'] = n_iso_per_ppi['ad_clone_acc_y']/n_iso_per_ppi['ad_clone_acc_x']\n",
    "n_iso_per_ppi = n_iso_per_ppi[['ad_gene_symbol', 'db_gene_symbol', 'f_iso_positive']]\n",
    "n_iso_per_ppi"
   ]
  },
  {
   "cell_type": "code",
   "execution_count": 63,
   "metadata": {},
   "outputs": [],
   "source": [
    "n_iso_per_ppi = pd.merge(n_iso_per_ppi,\n",
    "                         ppi.groupby(['ad_gene_symbol',\n",
    "                                      'db_gene_symbol'])\n",
    "                                ['Y2H_result']\n",
    "                                .apply(lambda x: x.notnull().sum())\n",
    "                                .rename('n_iso_successfully_tested')\n",
    "                                .reset_index(),\n",
    "                            how='left',\n",
    "                            on=['ad_gene_symbol', 'db_gene_symbol'],\n",
    "                            )\n",
    "if n_iso_per_ppi['n_iso_successfully_tested'].isnull().any():\n",
    "    raise UserWarning('unexpected missing values')\n",
    "n_iso_per_ppi = n_iso_per_ppi.loc[n_iso_per_ppi['n_iso_successfully_tested'] >= 2, :]"
   ]
  },
  {
   "cell_type": "code",
   "execution_count": 64,
   "metadata": {},
   "outputs": [],
   "source": [
    "tf_fam = load_tf_families()"
   ]
  },
  {
   "cell_type": "code",
   "execution_count": 65,
   "metadata": {},
   "outputs": [],
   "source": [
    "n_iso_per_ppi['db_is_tf'] = n_iso_per_ppi['db_gene_symbol'].isin(tf_fam)\n",
    "n_iso_per_ppi['ad_tf_family'] = n_iso_per_ppi['ad_gene_symbol'].map(tf_fam)\n",
    "n_iso_per_ppi['db_tf_family'] = n_iso_per_ppi['db_gene_symbol'].map(tf_fam)"
   ]
  },
  {
   "cell_type": "code",
   "execution_count": 66,
   "metadata": {},
   "outputs": [
    {
     "data": {
      "text/html": [
       "<div>\n",
       "<style scoped>\n",
       "    .dataframe tbody tr th:only-of-type {\n",
       "        vertical-align: middle;\n",
       "    }\n",
       "\n",
       "    .dataframe tbody tr th {\n",
       "        vertical-align: top;\n",
       "    }\n",
       "\n",
       "    .dataframe thead th {\n",
       "        text-align: right;\n",
       "    }\n",
       "</style>\n",
       "<table border=\"1\" class=\"dataframe\">\n",
       "  <thead>\n",
       "    <tr style=\"text-align: right;\">\n",
       "      <th></th>\n",
       "      <th>ad_gene_symbol</th>\n",
       "      <th>db_gene_symbol</th>\n",
       "      <th>f_iso_positive</th>\n",
       "      <th>n_iso_successfully_tested</th>\n",
       "      <th>db_is_tf</th>\n",
       "      <th>ad_tf_family</th>\n",
       "      <th>db_tf_family</th>\n",
       "      <th>dimer_cat</th>\n",
       "    </tr>\n",
       "  </thead>\n",
       "  <tbody>\n",
       "    <tr>\n",
       "      <th>0</th>\n",
       "      <td>ARNT2</td>\n",
       "      <td>EIF3E</td>\n",
       "      <td>1.0</td>\n",
       "      <td>2</td>\n",
       "      <td>False</td>\n",
       "      <td>bHLH</td>\n",
       "      <td>NaN</td>\n",
       "      <td>Obligate dimer TF / other</td>\n",
       "    </tr>\n",
       "    <tr>\n",
       "      <th>1</th>\n",
       "      <td>ARNT2</td>\n",
       "      <td>LMO3</td>\n",
       "      <td>1.0</td>\n",
       "      <td>2</td>\n",
       "      <td>False</td>\n",
       "      <td>bHLH</td>\n",
       "      <td>NaN</td>\n",
       "      <td>Obligate dimer TF / other</td>\n",
       "    </tr>\n",
       "    <tr>\n",
       "      <th>2</th>\n",
       "      <td>ARNT2</td>\n",
       "      <td>NABP1</td>\n",
       "      <td>1.0</td>\n",
       "      <td>2</td>\n",
       "      <td>False</td>\n",
       "      <td>bHLH</td>\n",
       "      <td>NaN</td>\n",
       "      <td>Obligate dimer TF / other</td>\n",
       "    </tr>\n",
       "    <tr>\n",
       "      <th>3</th>\n",
       "      <td>ARNT2</td>\n",
       "      <td>NPAS2</td>\n",
       "      <td>1.0</td>\n",
       "      <td>2</td>\n",
       "      <td>False</td>\n",
       "      <td>bHLH</td>\n",
       "      <td>bHLH</td>\n",
       "      <td>Obligate dimer TF / within-family TF</td>\n",
       "    </tr>\n",
       "    <tr>\n",
       "      <th>4</th>\n",
       "      <td>ARNT2</td>\n",
       "      <td>NRBP1</td>\n",
       "      <td>1.0</td>\n",
       "      <td>2</td>\n",
       "      <td>False</td>\n",
       "      <td>bHLH</td>\n",
       "      <td>NaN</td>\n",
       "      <td>Obligate dimer TF / other</td>\n",
       "    </tr>\n",
       "  </tbody>\n",
       "</table>\n",
       "</div>"
      ],
      "text/plain": [
       "  ad_gene_symbol db_gene_symbol  f_iso_positive  n_iso_successfully_tested  \\\n",
       "0          ARNT2          EIF3E             1.0                          2   \n",
       "1          ARNT2           LMO3             1.0                          2   \n",
       "2          ARNT2          NABP1             1.0                          2   \n",
       "3          ARNT2          NPAS2             1.0                          2   \n",
       "4          ARNT2          NRBP1             1.0                          2   \n",
       "\n",
       "   db_is_tf ad_tf_family db_tf_family                             dimer_cat  \n",
       "0     False         bHLH          NaN             Obligate dimer TF / other  \n",
       "1     False         bHLH          NaN             Obligate dimer TF / other  \n",
       "2     False         bHLH          NaN             Obligate dimer TF / other  \n",
       "3     False         bHLH         bHLH  Obligate dimer TF / within-family TF  \n",
       "4     False         bHLH          NaN             Obligate dimer TF / other  "
      ]
     },
     "execution_count": 66,
     "metadata": {},
     "output_type": "execute_result"
    }
   ],
   "source": [
    "def tf_tf_dimer_ppi_catagories(row):\n",
    "    is_dimer_ad = row['ad_tf_family'] in DIMERIZING_TF_FAMILIES\n",
    "    if pd.isnull(row['db_tf_family']):\n",
    "        if is_dimer_ad:\n",
    "            return 'Obligate dimer TF / other'\n",
    "        else:\n",
    "            return 'Non obligate dimer TF / other'\n",
    "    else:  # TF-TF PPI\n",
    "        if is_dimer_ad:\n",
    "            if row['db_tf_family'] == row['ad_tf_family']:\n",
    "                return 'Obligate dimer TF / within-family TF'\n",
    "            else:\n",
    "                return 'Obligate dimer TF / other'\n",
    "        else:\n",
    "            if row['db_tf_family'] == row['ad_tf_family']:\n",
    "                return 'Non obligate dimer TF / within-family TF'\n",
    "            else:\n",
    "                return 'Non obligate dimer TF / other'\n",
    "\n",
    "\n",
    "n_iso_per_ppi['dimer_cat'] = n_iso_per_ppi.apply(tf_tf_dimer_ppi_catagories,\n",
    "                                                 axis=1)\n",
    "\n",
    "n_iso_per_ppi.head()"
   ]
  },
  {
   "cell_type": "code",
   "execution_count": 67,
   "metadata": {},
   "outputs": [],
   "source": [
    "cats = [\n",
    " 'Obligate dimer TF / within-family TF',\n",
    " 'Obligate dimer TF / other',\n",
    " 'Non obligate dimer TF / within-family TF',\n",
    " 'Non obligate dimer TF / other',\n",
    " ]"
   ]
  },
  {
   "cell_type": "code",
   "execution_count": 68,
   "metadata": {},
   "outputs": [
    {
     "data": {
      "text/plain": [
       "Obligate dimer TF / other                   409\n",
       "Non obligate dimer TF / other               400\n",
       "Non obligate dimer TF / within-family TF     73\n",
       "Obligate dimer TF / within-family TF         54\n",
       "Name: dimer_cat, dtype: int64"
      ]
     },
     "execution_count": 68,
     "metadata": {},
     "output_type": "execute_result"
    }
   ],
   "source": [
    "n_iso_per_ppi.dimer_cat.value_counts()"
   ]
  },
  {
   "cell_type": "code",
   "execution_count": 69,
   "metadata": {},
   "outputs": [
    {
     "name": "stdout",
     "output_type": "stream",
     "text": [
      "Obligate dimer TF / within-family TF | # unique TF genes: 19\n",
      "Obligate dimer TF / other | # unique TF genes: 28\n",
      "Non obligate dimer TF / within-family TF | # unique TF genes: 21\n",
      "Non obligate dimer TF / other | # unique TF genes: 33\n"
     ]
    }
   ],
   "source": [
    "for cat in cats:\n",
    "    print(\"%s | # unique TF genes: %s\" % (cat, \n",
    "                                          len(n_iso_per_ppi[n_iso_per_ppi[\"dimer_cat\"] == cat].ad_gene_symbol.unique())))"
   ]
  },
  {
   "cell_type": "code",
   "execution_count": 70,
   "metadata": {},
   "outputs": [],
   "source": [
    "def permutation_test(sample1, sample2, num_permutations=1000, seed=None, alternative='two-sided'):\n",
    "    \"\"\"\n",
    "    Conduct a permutation test on two samples.\n",
    "\n",
    "    :param sample1: First sample (array-like)\n",
    "    :param sample2: Second sample (array-like)\n",
    "    :param num_permutations: Number of permutations to perform (int)\n",
    "    :param seed: Seed for random number generator (int)\n",
    "    :param alternative: Defines the alternative hypothesis. \n",
    "                        'two-sided': the distributions are not equal,\n",
    "                        'less': the distribution of sample1 is less than the distribution of sample2,\n",
    "                        'greater': the distribution of sample1 is greater than the distribution of sample2\n",
    "    :return: p-value (float)\n",
    "    \"\"\"\n",
    "\n",
    "    # Ensure reproducibility\n",
    "    if seed is not None:\n",
    "        np.random.seed(seed)\n",
    "\n",
    "    # Combine the samples\n",
    "    combined = np.concatenate([sample1, sample2])\n",
    "\n",
    "    # Calculate the observed test statistic\n",
    "    observed_stat = np.mean(sample1) - np.mean(sample2)\n",
    "\n",
    "    # Perform the permutations\n",
    "    count = 0\n",
    "    for _ in range(num_permutations):\n",
    "        np.random.shuffle(combined)\n",
    "        new_sample_1 = combined[:len(sample1)]\n",
    "        new_sample_2 = combined[len(sample1):]\n",
    "\n",
    "        # Calculate the new test statistic\n",
    "        new_stat = np.mean(new_sample_1) - np.mean(new_sample_2)\n",
    "\n",
    "        # Check if the new test statistic is at least as extreme as the original\n",
    "        if alternative == 'two-sided':\n",
    "            count += abs(new_stat) >= abs(observed_stat)\n",
    "        elif alternative == 'less':\n",
    "            count += new_stat <= observed_stat\n",
    "        elif alternative == 'greater':\n",
    "            count += new_stat >= observed_stat\n",
    "        else:\n",
    "            raise ValueError(\"alternative must be 'two-sided', 'less', or 'greater'\")\n",
    "\n",
    "    # Calculate the p-value\n",
    "    p_value = (count + 1) / (num_permutations + 1)\n",
    "\n",
    "    return p_value"
   ]
  },
  {
   "cell_type": "code",
   "execution_count": 71,
   "metadata": {},
   "outputs": [],
   "source": [
    "def bootstrap_99_ci(series, n_bootstraps=1000):\n",
    "    \"\"\"\n",
    "    Calculate the 95% confidence interval using bootstrapping.\n",
    "    \n",
    "    :param series: Data points as a pandas Series.\n",
    "    :param n_bootstraps: Number of bootstrap iterations.\n",
    "    :return: A tuple containing the lower and upper confidence interval bounds.\n",
    "    \"\"\"\n",
    "    bootstrapped_means = []\n",
    "    for _ in range(n_bootstraps):\n",
    "        sample = series.sample(n=len(series), replace=True)  # Sampling with replacement\n",
    "        sample_mean = sample.mean()\n",
    "        bootstrapped_means.append(sample_mean)\n",
    "\n",
    "    lower, upper = np.percentile(bootstrapped_means, [0.5, 99.5])  # 99% confidence interval\n",
    "    return lower, upper"
   ]
  },
  {
   "cell_type": "code",
   "execution_count": 72,
   "metadata": {},
   "outputs": [
    {
     "name": "stdout",
     "output_type": "stream",
     "text": [
      "9.999000099990002e-05\n",
      "pair: ('Obligate dimer TF / within-family TF', 'Obligate dimer TF / other') | p-val: 9.999000099990002e-05\n"
     ]
    },
    {
     "name": "stderr",
     "output_type": "stream",
     "text": [
      "../plotting.py:1005: MatplotlibDeprecationWarning: Saw kwargs ['lw', 'linewidth'] which are all aliases for 'linewidth'.  Kept value from 'linewidth'.  Passing multiple aliases for the same property will raise a TypeError in 3.3.\n",
      "  ax.plot([x1, x1, x2, x2], [y, y + h, y + h, y], lw=1, c=\"black\", linewidth=0.5)\n"
     ]
    },
    {
     "name": "stdout",
     "output_type": "stream",
     "text": [
      "9.999000099990002e-05\n",
      "pair: ('Obligate dimer TF / within-family TF', 'Non obligate dimer TF / within-family TF') | p-val: 9.999000099990002e-05\n"
     ]
    },
    {
     "name": "stderr",
     "output_type": "stream",
     "text": [
      "../plotting.py:1005: MatplotlibDeprecationWarning: Saw kwargs ['lw', 'linewidth'] which are all aliases for 'linewidth'.  Kept value from 'linewidth'.  Passing multiple aliases for the same property will raise a TypeError in 3.3.\n",
      "  ax.plot([x1, x1, x2, x2], [y, y + h, y + h, y], lw=1, c=\"black\", linewidth=0.5)\n"
     ]
    },
    {
     "name": "stdout",
     "output_type": "stream",
     "text": [
      "9.999000099990002e-05\n",
      "pair: ('Obligate dimer TF / within-family TF', 'Non obligate dimer TF / other') | p-val: 9.999000099990002e-05\n"
     ]
    },
    {
     "name": "stderr",
     "output_type": "stream",
     "text": [
      "../plotting.py:1005: MatplotlibDeprecationWarning: Saw kwargs ['lw', 'linewidth'] which are all aliases for 'linewidth'.  Kept value from 'linewidth'.  Passing multiple aliases for the same property will raise a TypeError in 3.3.\n",
      "  ax.plot([x1, x1, x2, x2], [y, y + h, y + h, y], lw=1, c=\"black\", linewidth=0.5)\n"
     ]
    },
    {
     "data": {
      "image/png": "[encoded data removed]",
      "text/plain": [
       "<Figure size 122.4x122.4 with 1 Axes>"
      ]
     },
     "metadata": {},
     "output_type": "display_data"
    }
   ],
   "source": [
    "# n for each bar\n",
    "# axis labels etc.\n",
    "fig, ax = plt.subplots(1, 1)\n",
    "fig.set_size_inches(w=1.7, h=1.7)\n",
    "violinplot_reflected(data=n_iso_per_ppi,\n",
    "              x='dimer_cat',\n",
    "              y='f_iso_positive',\n",
    "              inner=None,\n",
    "              cut=0,\n",
    "              color=sns.color_palette(\"Set2\")[0],\n",
    "              order=cats,\n",
    "              alpha=0.75,\n",
    "              linewidth=0.5,\n",
    "              ax=ax)\n",
    "\n",
    "# add markers for mean + 95% ci [avoids using pointplot which is not that customizable, aesthetically]\n",
    "means = n_iso_per_ppi.groupby(\"dimer_cat\")[\"f_iso_positive\"].agg(\"mean\").reset_index()\n",
    "cis = n_iso_per_ppi.groupby(\"dimer_cat\")[\"f_iso_positive\"].apply(bootstrap_99_ci).reset_index()\n",
    "cis[['lower', 'upper']] = pd.DataFrame(cis['f_iso_positive'].tolist(), index=cis.index)\n",
    "\n",
    "# reorder so they're in the same order\n",
    "cis.set_index(\"dimer_cat\", inplace=True)\n",
    "means_tmp = means.set_index(\"dimer_cat\")\n",
    "cis = cis.loc[cats, :]\n",
    "means_tmp = means_tmp.loc[cats, :]\n",
    "\n",
    "# add points\n",
    "sns.swarmplot(data=means, x='dimer_cat', y='f_iso_positive', order=cats, ax=ax,\n",
    "              color=\"white\", edgecolor=\"black\", linewidth=0.25, size=4)\n",
    "ax.errorbar(x=range(len(cats)), y=means_tmp[\"f_iso_positive\"], \n",
    "            yerr=[means_tmp[\"f_iso_positive\"] - cis[\"lower\"], cis[\"upper\"] - means_tmp[\"f_iso_positive\"]], \n",
    "            fmt='o', color=\"black\")\n",
    "\n",
    "# now add p-vals\n",
    "pairs_to_test = [(cats[0], cat) for cat in cats[1:]]\n",
    "for i, pair in enumerate(pairs_to_test):\n",
    "    x = n_iso_per_ppi[n_iso_per_ppi[\"dimer_cat\"] == pair[0]][\"f_iso_positive\"].values\n",
    "    y = n_iso_per_ppi[n_iso_per_ppi[\"dimer_cat\"] == pair[1]][\"f_iso_positive\"].values\n",
    "    p = permutation_test(x, y, num_permutations=10000, alternative=\"two-sided\", seed=2023)\n",
    "    print(p)\n",
    "    annotate_pval(ax, 0, 1+i, 1.02+(i*0.08), 0, 1.02+(i*0.08), p, fontsize-1, text=\"< 1e-4\")\n",
    "    print(\"pair: %s | p-val: %s\" % (pair, p))\n",
    "\n",
    "ax.set_ylabel('Fraction isoforms interacting', position=(0, 0.425))\n",
    "ax.set_xlabel('')\n",
    "\n",
    "ax.set_xticklabels(cats, rotation=30, ha='right', va='top')\n",
    "\n",
    "ax.set_ylim(0, 1.2)\n",
    "ax.spines['right'].set_visible(False)\n",
    "ax.spines['top'].set_visible(False)\n",
    "\n",
    "# manually set left axis so it stops at 1.0\n",
    "ax.spines['left'].set_visible(False)\n",
    "ax.set_yticks([0, 0.2, 0.4, 0.6, 0.8, 1.0])\n",
    "axes_to_data = ax.transAxes + ax.transData.inverted()\n",
    "left_spine_in_data_coords = axes_to_data.transform((0, 0))\n",
    "ax.plot([left_spine_in_data_coords[0], left_spine_in_data_coords[0]], [left_spine_in_data_coords[0], 1],\n",
    "        color=ax.spines['bottom'].get_edgecolor(), linewidth=ax.spines['bottom'].get_linewidth())\n",
    "\n",
    "\n",
    "\n",
    "fig.savefig('../../figures/fig4/n_iso_ppi_by_dimer_cat.pdf',\n",
    "            bbox_inches='tight')"
   ]
  },
  {
   "cell_type": "code",
   "execution_count": 73,
   "metadata": {},
   "outputs": [
    {
     "data": {
      "text/html": [
       "<div>\n",
       "<style scoped>\n",
       "    .dataframe tbody tr th:only-of-type {\n",
       "        vertical-align: middle;\n",
       "    }\n",
       "\n",
       "    .dataframe tbody tr th {\n",
       "        vertical-align: top;\n",
       "    }\n",
       "\n",
       "    .dataframe thead th {\n",
       "        text-align: right;\n",
       "    }\n",
       "</style>\n",
       "<table border=\"1\" class=\"dataframe\">\n",
       "  <thead>\n",
       "    <tr style=\"text-align: right;\">\n",
       "      <th></th>\n",
       "      <th>ad_gene_symbol</th>\n",
       "      <th>db_gene_symbol</th>\n",
       "      <th>f_iso_positive</th>\n",
       "      <th>n_iso_successfully_tested</th>\n",
       "      <th>db_is_tf</th>\n",
       "      <th>ad_tf_family</th>\n",
       "      <th>db_tf_family</th>\n",
       "      <th>dimer_cat</th>\n",
       "    </tr>\n",
       "  </thead>\n",
       "  <tbody>\n",
       "    <tr>\n",
       "      <th>13</th>\n",
       "      <td>ATF2</td>\n",
       "      <td>ATF2</td>\n",
       "      <td>0.500000</td>\n",
       "      <td>6</td>\n",
       "      <td>False</td>\n",
       "      <td>bZIP</td>\n",
       "      <td>bZIP</td>\n",
       "      <td>Obligate dimer TF / within-family TF</td>\n",
       "    </tr>\n",
       "    <tr>\n",
       "      <th>14</th>\n",
       "      <td>ATF2</td>\n",
       "      <td>FOSL2</td>\n",
       "      <td>0.166667</td>\n",
       "      <td>3</td>\n",
       "      <td>False</td>\n",
       "      <td>bZIP</td>\n",
       "      <td>bZIP</td>\n",
       "      <td>Obligate dimer TF / within-family TF</td>\n",
       "    </tr>\n",
       "    <tr>\n",
       "      <th>15</th>\n",
       "      <td>ATF2</td>\n",
       "      <td>JDP2</td>\n",
       "      <td>0.666667</td>\n",
       "      <td>6</td>\n",
       "      <td>False</td>\n",
       "      <td>bZIP</td>\n",
       "      <td>bZIP</td>\n",
       "      <td>Obligate dimer TF / within-family TF</td>\n",
       "    </tr>\n",
       "    <tr>\n",
       "      <th>16</th>\n",
       "      <td>ATF2</td>\n",
       "      <td>MAPK9</td>\n",
       "      <td>0.666667</td>\n",
       "      <td>6</td>\n",
       "      <td>False</td>\n",
       "      <td>bZIP</td>\n",
       "      <td>NaN</td>\n",
       "      <td>Obligate dimer TF / other</td>\n",
       "    </tr>\n",
       "  </tbody>\n",
       "</table>\n",
       "</div>"
      ],
      "text/plain": [
       "   ad_gene_symbol db_gene_symbol  f_iso_positive  n_iso_successfully_tested  \\\n",
       "13           ATF2           ATF2        0.500000                          6   \n",
       "14           ATF2          FOSL2        0.166667                          3   \n",
       "15           ATF2           JDP2        0.666667                          6   \n",
       "16           ATF2          MAPK9        0.666667                          6   \n",
       "\n",
       "    db_is_tf ad_tf_family db_tf_family                             dimer_cat  \n",
       "13     False         bZIP         bZIP  Obligate dimer TF / within-family TF  \n",
       "14     False         bZIP         bZIP  Obligate dimer TF / within-family TF  \n",
       "15     False         bZIP         bZIP  Obligate dimer TF / within-family TF  \n",
       "16     False         bZIP          NaN             Obligate dimer TF / other  "
      ]
     },
     "execution_count": 73,
     "metadata": {},
     "output_type": "execute_result"
    }
   ],
   "source": [
    "n_iso_per_ppi[n_iso_per_ppi[\"ad_gene_symbol\"] == \"ATF2\"]"
   ]
  },
  {
   "cell_type": "markdown",
   "metadata": {},
   "source": [
    "## 8. dimerizing TFs: plot M1H change"
   ]
  },
  {
   "cell_type": "code",
   "execution_count": 74,
   "metadata": {},
   "outputs": [
    {
     "data": {
      "text/plain": [
       "446"
      ]
     },
     "execution_count": 74,
     "metadata": {},
     "output_type": "execute_result"
    }
   ],
   "source": [
    "len(pairs)"
   ]
  },
  {
   "cell_type": "code",
   "execution_count": 75,
   "metadata": {},
   "outputs": [
    {
     "data": {
      "text/plain": [
       "327"
      ]
     },
     "execution_count": 75,
     "metadata": {},
     "output_type": "execute_result"
    }
   ],
   "source": [
    "len(pairs[~pd.isnull(pairs['activation_abs_fold_change'])])"
   ]
  },
  {
   "cell_type": "code",
   "execution_count": 76,
   "metadata": {},
   "outputs": [
    {
     "data": {
      "text/plain": [
       "254"
      ]
     },
     "execution_count": 76,
     "metadata": {},
     "output_type": "execute_result"
    }
   ],
   "source": [
    "# limit to pairs w signal in m1h\n",
    "df = pairs.copy()\n",
    "df = df.loc[df['activation_fold_change_log2'].notnull() & df['m1h_gte_2_fold_at_least_one_iso_per_gene'], :]\n",
    "len(df)"
   ]
  },
  {
   "cell_type": "code",
   "execution_count": 77,
   "metadata": {},
   "outputs": [
    {
     "data": {
      "text/plain": [
       "is_dimerizing_TF_family\n",
       "False    1.248606\n",
       "True     1.543294\n",
       "Name: activation_abs_fold_change, dtype: float64"
      ]
     },
     "execution_count": 77,
     "metadata": {},
     "output_type": "execute_result"
    }
   ],
   "source": [
    "df[~pd.isnull(df['activation_abs_fold_change'])].groupby(\"is_dimerizing_TF_family\")[\"activation_abs_fold_change\"].agg(\"mean\")"
   ]
  },
  {
   "cell_type": "code",
   "execution_count": 78,
   "metadata": {},
   "outputs": [
    {
     "data": {
      "text/plain": [
       "is_dimerizing_TF_family\n",
       "False    0.839813\n",
       "True     1.077391\n",
       "Name: activation_abs_fold_change, dtype: float64"
      ]
     },
     "execution_count": 78,
     "metadata": {},
     "output_type": "execute_result"
    }
   ],
   "source": [
    "df[~pd.isnull(df['activation_abs_fold_change'])].groupby(\"is_dimerizing_TF_family\")[\"activation_abs_fold_change\"].agg(\"median\")"
   ]
  },
  {
   "cell_type": "code",
   "execution_count": 79,
   "metadata": {},
   "outputs": [
    {
     "data": {
      "text/plain": [
       "0.07779222077792221"
      ]
     },
     "execution_count": 79,
     "metadata": {},
     "output_type": "execute_result"
    }
   ],
   "source": [
    "df_nonan = df[~pd.isnull(df[\"activation_abs_fold_change\"])]\n",
    "x = df_nonan[df_nonan[\"is_dimerizing_TF_family\"] == True][\"activation_abs_fold_change\"].values\n",
    "y = df_nonan[df_nonan[\"is_dimerizing_TF_family\"] == False][\"activation_abs_fold_change\"].values\n",
    "\n",
    "permutation_test(x, y, num_permutations=10000, alternative=\"two-sided\")"
   ]
  },
  {
   "cell_type": "code",
   "execution_count": 80,
   "metadata": {},
   "outputs": [
    {
     "name": "stderr",
     "output_type": "stream",
     "text": [
      "../plotting.py:1005: MatplotlibDeprecationWarning: Saw kwargs ['lw', 'linewidth'] which are all aliases for 'linewidth'.  Kept value from 'linewidth'.  Passing multiple aliases for the same property will raise a TypeError in 3.3.\n",
      "  ax.plot([x1, x1, x2, x2], [y, y + h, y + h, y], lw=1, c=\"black\", linewidth=0.5)\n"
     ]
    },
    {
     "data": {
      "image/png": "[encoded data removed]",
      "text/plain": [
       "<Figure size 72x144 with 1 Axes>"
      ]
     },
     "metadata": {},
     "output_type": "display_data"
    }
   ],
   "source": [
    "fig, ax = plt.subplots(1, 1)\n",
    "fig.set_size_inches(w=1, h=2)\n",
    "\n",
    "ax = sns.boxplot(data=df, x=\"is_dimerizing_TF_family\", y=\"activation_abs_fold_change\", \n",
    "                 flierprops={\"marker\": \"o\"}, color=\"slategrey\")\n",
    "mimic_r_boxplot(ax)\n",
    "\n",
    "# p-value\n",
    "df_nonan = df[~pd.isnull(df[\"activation_abs_fold_change\"])]\n",
    "x = df_nonan[df_nonan[\"is_dimerizing_TF_family\"] == True][\"activation_abs_fold_change\"].values\n",
    "y = df_nonan[df_nonan[\"is_dimerizing_TF_family\"] == False][\"activation_abs_fold_change\"].values\n",
    "\n",
    "pval = permutation_test(x, y, num_permutations=10000, alternative=\"two-sided\")\n",
    "plotting.annotate_pval(ax, 0.2, 0.8, 4, 0, 4, pval, 7)\n",
    "\n",
    "ax.set_xlabel(\"\")\n",
    "ax.set_xticklabels([\"non-dimerizing TFs\", \"dimerizing TFs\"], rotation=30, ha=\"right\", va=\"top\")\n",
    "ax.set_ylabel(\"|log2 fold-change in activation|\")\n",
    "\n",
    "fig.savefig(\"../../figures/fig4/M1H_activ_v_dimerization.pdf\", dpi=\"figure\", bbox_inches=\"tight\")"
   ]
  },
  {
   "cell_type": "markdown",
   "metadata": {},
   "source": [
    "## 9. dimerizing TFs: retained interactions heatmap"
   ]
  },
  {
   "cell_type": "code",
   "execution_count": 81,
   "metadata": {},
   "outputs": [
    {
     "data": {
      "text/html": [
       "<div>\n",
       "<style scoped>\n",
       "    .dataframe tbody tr th:only-of-type {\n",
       "        vertical-align: middle;\n",
       "    }\n",
       "\n",
       "    .dataframe tbody tr th {\n",
       "        vertical-align: top;\n",
       "    }\n",
       "\n",
       "    .dataframe thead th {\n",
       "        text-align: right;\n",
       "    }\n",
       "</style>\n",
       "<table border=\"1\" class=\"dataframe\">\n",
       "  <thead>\n",
       "    <tr style=\"text-align: right;\">\n",
       "      <th></th>\n",
       "      <th>ad_clone_acc</th>\n",
       "      <th>ad_gene_symbol</th>\n",
       "      <th>db_gene_symbol</th>\n",
       "      <th>Y2H_result</th>\n",
       "    </tr>\n",
       "  </thead>\n",
       "  <tbody>\n",
       "    <tr>\n",
       "      <th>0</th>\n",
       "      <td>ATF2|1/6|12H04</td>\n",
       "      <td>ATF2</td>\n",
       "      <td>ATF2</td>\n",
       "      <td>True</td>\n",
       "    </tr>\n",
       "    <tr>\n",
       "      <th>3</th>\n",
       "      <td>ATF2|1/6|12H04</td>\n",
       "      <td>ATF2</td>\n",
       "      <td>FOSL2</td>\n",
       "      <td>NaN</td>\n",
       "    </tr>\n",
       "    <tr>\n",
       "      <th>4</th>\n",
       "      <td>ATF2|1/6|12H04</td>\n",
       "      <td>ATF2</td>\n",
       "      <td>JDP2</td>\n",
       "      <td>True</td>\n",
       "    </tr>\n",
       "    <tr>\n",
       "      <th>12</th>\n",
       "      <td>ATF2|2/6|09E05</td>\n",
       "      <td>ATF2</td>\n",
       "      <td>ATF2</td>\n",
       "      <td>True</td>\n",
       "    </tr>\n",
       "    <tr>\n",
       "      <th>15</th>\n",
       "      <td>ATF2|2/6|09E05</td>\n",
       "      <td>ATF2</td>\n",
       "      <td>FOSL2</td>\n",
       "      <td>NaN</td>\n",
       "    </tr>\n",
       "  </tbody>\n",
       "</table>\n",
       "</div>"
      ],
      "text/plain": [
       "      ad_clone_acc ad_gene_symbol db_gene_symbol Y2H_result\n",
       "0   ATF2|1/6|12H04           ATF2           ATF2       True\n",
       "3   ATF2|1/6|12H04           ATF2          FOSL2        NaN\n",
       "4   ATF2|1/6|12H04           ATF2           JDP2       True\n",
       "12  ATF2|2/6|09E05           ATF2           ATF2       True\n",
       "15  ATF2|2/6|09E05           ATF2          FOSL2        NaN"
      ]
     },
     "execution_count": 81,
     "metadata": {},
     "output_type": "execute_result"
    }
   ],
   "source": [
    "# TF isoforms are on the 'ad' side; ORFeome on 'db' side\n",
    "ppi.head()"
   ]
  },
  {
   "cell_type": "code",
   "execution_count": 82,
   "metadata": {},
   "outputs": [
    {
     "data": {
      "text/html": [
       "<div>\n",
       "<style scoped>\n",
       "    .dataframe tbody tr th:only-of-type {\n",
       "        vertical-align: middle;\n",
       "    }\n",
       "\n",
       "    .dataframe tbody tr th {\n",
       "        vertical-align: top;\n",
       "    }\n",
       "\n",
       "    .dataframe thead th {\n",
       "        text-align: right;\n",
       "    }\n",
       "</style>\n",
       "<table border=\"1\" class=\"dataframe\">\n",
       "  <thead>\n",
       "    <tr style=\"text-align: right;\">\n",
       "      <th></th>\n",
       "      <th>ad_gene_symbol</th>\n",
       "      <th>db_gene_symbol</th>\n",
       "      <th>ad_dbd</th>\n",
       "      <th>db_dbd</th>\n",
       "    </tr>\n",
       "  </thead>\n",
       "  <tbody>\n",
       "    <tr>\n",
       "      <th>0</th>\n",
       "      <td>ATF2</td>\n",
       "      <td>ATF2</td>\n",
       "      <td>bZIP</td>\n",
       "      <td>bZIP</td>\n",
       "    </tr>\n",
       "    <tr>\n",
       "      <th>4</th>\n",
       "      <td>ATF2</td>\n",
       "      <td>JDP2</td>\n",
       "      <td>bZIP</td>\n",
       "      <td>bZIP</td>\n",
       "    </tr>\n",
       "    <tr>\n",
       "      <th>39</th>\n",
       "      <td>ATF2</td>\n",
       "      <td>FOSL2</td>\n",
       "      <td>bZIP</td>\n",
       "      <td>bZIP</td>\n",
       "    </tr>\n",
       "    <tr>\n",
       "      <th>123</th>\n",
       "      <td>CREB5</td>\n",
       "      <td>FOSL2</td>\n",
       "      <td>bZIP</td>\n",
       "      <td>bZIP</td>\n",
       "    </tr>\n",
       "    <tr>\n",
       "      <th>155</th>\n",
       "      <td>GLI1</td>\n",
       "      <td>PIN1</td>\n",
       "      <td>C2H2 ZF</td>\n",
       "      <td>MBD</td>\n",
       "    </tr>\n",
       "  </tbody>\n",
       "</table>\n",
       "</div>"
      ],
      "text/plain": [
       "    ad_gene_symbol db_gene_symbol   ad_dbd db_dbd\n",
       "0             ATF2           ATF2     bZIP   bZIP\n",
       "4             ATF2           JDP2     bZIP   bZIP\n",
       "39            ATF2          FOSL2     bZIP   bZIP\n",
       "123          CREB5          FOSL2     bZIP   bZIP\n",
       "155           GLI1           PIN1  C2H2 ZF    MBD"
      ]
     },
     "execution_count": 82,
     "metadata": {},
     "output_type": "execute_result"
    }
   ],
   "source": [
    "# TF-TF binding\n",
    "tftf = ppi.loc[ppi['Y2H_result'] == True, ['ad_gene_symbol', 'db_gene_symbol']].drop_duplicates().copy()\n",
    "tftf['ad_dbd'] = tftf['ad_gene_symbol'].map(tf_fam)\n",
    "tftf['db_dbd'] = tftf['db_gene_symbol'].map(tf_fam)\n",
    "tftf = tftf.dropna()\n",
    "tftf.head()"
   ]
  },
  {
   "cell_type": "code",
   "execution_count": 83,
   "metadata": {},
   "outputs": [],
   "source": [
    "# TF-TF rewiring\n",
    "tftf = pd.merge(tftf, \n",
    "        (ppi.groupby(['ad_gene_symbol', 'db_gene_symbol'])['Y2H_result'].apply(lambda x: (x == False).sum()) / \n",
    " ppi.groupby(['ad_gene_symbol', 'db_gene_symbol'])['Y2H_result'].apply(lambda x: (x.notnull().sum()))).reset_index(),\n",
    "        how='left',\n",
    "        on=['ad_gene_symbol', 'db_gene_symbol'])"
   ]
  },
  {
   "cell_type": "code",
   "execution_count": 84,
   "metadata": {},
   "outputs": [
    {
     "data": {
      "text/plain": [
       "TCF4      12\n",
       "TCF12     11\n",
       "ARNT2      2\n",
       "ESRRA      2\n",
       "ARNTL2     2\n",
       "MEOX1      2\n",
       "IKZF2      1\n",
       "ESRRG      1\n",
       "ZNF438     1\n",
       "ZBTB44     1\n",
       "FOS        1\n",
       "Name: ad_gene_symbol, dtype: int64"
      ]
     },
     "execution_count": 84,
     "metadata": {},
     "output_type": "execute_result"
    }
   ],
   "source": [
    "tftf.loc[tftf['db_dbd'] == 'bHLH', 'ad_gene_symbol'].value_counts()"
   ]
  },
  {
   "cell_type": "code",
   "execution_count": 85,
   "metadata": {},
   "outputs": [
    {
     "data": {
      "text/plain": [
       "{'AP-2',\n",
       " 'ARID/BRIGHT',\n",
       " 'BED ZF',\n",
       " 'CENPB',\n",
       " 'E2F',\n",
       " 'EBF1',\n",
       " 'GCM',\n",
       " 'Grainyhead',\n",
       " 'HSF',\n",
       " 'IRF',\n",
       " 'MADF',\n",
       " 'MADS box',\n",
       " 'Myb/SANT',\n",
       " 'Nuclear receptor',\n",
       " 'RFX',\n",
       " 'Rel',\n",
       " 'SAND',\n",
       " 'SMAD',\n",
       " 'STAT',\n",
       " 'bHLH',\n",
       " 'bZIP',\n",
       " 'p53'}"
      ]
     },
     "execution_count": 85,
     "metadata": {},
     "output_type": "execute_result"
    }
   ],
   "source": [
    "DIMERIZING_TF_FAMILIES"
   ]
  },
  {
   "cell_type": "code",
   "execution_count": 86,
   "metadata": {},
   "outputs": [
    {
     "data": {
      "text/plain": [
       "30"
      ]
     },
     "execution_count": 86,
     "metadata": {},
     "output_type": "execute_result"
    }
   ],
   "source": [
    "fams = tf_fam.value_counts().index\n",
    "fams = list(filter(lambda x: x in tftf['ad_dbd'].unique() or x in tftf['db_dbd'].unique(), fams))\n",
    "len(fams)"
   ]
  },
  {
   "cell_type": "code",
   "execution_count": 87,
   "metadata": {},
   "outputs": [
    {
     "data": {
      "text/html": [
       "<div>\n",
       "<style scoped>\n",
       "    .dataframe tbody tr th:only-of-type {\n",
       "        vertical-align: middle;\n",
       "    }\n",
       "\n",
       "    .dataframe tbody tr th {\n",
       "        vertical-align: top;\n",
       "    }\n",
       "\n",
       "    .dataframe thead th {\n",
       "        text-align: right;\n",
       "    }\n",
       "</style>\n",
       "<table border=\"1\" class=\"dataframe\">\n",
       "  <thead>\n",
       "    <tr style=\"text-align: right;\">\n",
       "      <th></th>\n",
       "      <th>C2H2 ZF</th>\n",
       "      <th>Homeodomain</th>\n",
       "      <th>bHLH</th>\n",
       "      <th>Unknown</th>\n",
       "      <th>bZIP</th>\n",
       "      <th>Forkhead</th>\n",
       "      <th>Nuclear receptor</th>\n",
       "      <th>HMG/Sox</th>\n",
       "      <th>Ets</th>\n",
       "      <th>T-box</th>\n",
       "      <th>...</th>\n",
       "      <th>C2H2 ZF; Homeodomain</th>\n",
       "      <th>C2H2 ZF; AT hook</th>\n",
       "      <th>TBP</th>\n",
       "      <th>CCCH ZF</th>\n",
       "      <th>p53</th>\n",
       "      <th>C2H2 ZF; BED ZF</th>\n",
       "      <th>CSL</th>\n",
       "      <th>Pipsqueak</th>\n",
       "      <th>CBF/NF-Y</th>\n",
       "      <th>TCR/CxC</th>\n",
       "    </tr>\n",
       "  </thead>\n",
       "  <tbody>\n",
       "    <tr>\n",
       "      <th>C2H2 ZF</th>\n",
       "      <td>55</td>\n",
       "      <td>7</td>\n",
       "      <td>3</td>\n",
       "      <td>1</td>\n",
       "      <td>0</td>\n",
       "      <td>0</td>\n",
       "      <td>2</td>\n",
       "      <td>2</td>\n",
       "      <td>0</td>\n",
       "      <td>1</td>\n",
       "      <td>...</td>\n",
       "      <td>0</td>\n",
       "      <td>1</td>\n",
       "      <td>0</td>\n",
       "      <td>2</td>\n",
       "      <td>0</td>\n",
       "      <td>1</td>\n",
       "      <td>0</td>\n",
       "      <td>0</td>\n",
       "      <td>0</td>\n",
       "      <td>1</td>\n",
       "    </tr>\n",
       "    <tr>\n",
       "      <th>Homeodomain</th>\n",
       "      <td>7</td>\n",
       "      <td>14</td>\n",
       "      <td>2</td>\n",
       "      <td>1</td>\n",
       "      <td>0</td>\n",
       "      <td>0</td>\n",
       "      <td>1</td>\n",
       "      <td>0</td>\n",
       "      <td>1</td>\n",
       "      <td>0</td>\n",
       "      <td>...</td>\n",
       "      <td>0</td>\n",
       "      <td>0</td>\n",
       "      <td>1</td>\n",
       "      <td>0</td>\n",
       "      <td>0</td>\n",
       "      <td>0</td>\n",
       "      <td>0</td>\n",
       "      <td>0</td>\n",
       "      <td>0</td>\n",
       "      <td>0</td>\n",
       "    </tr>\n",
       "    <tr>\n",
       "      <th>bHLH</th>\n",
       "      <td>7</td>\n",
       "      <td>7</td>\n",
       "      <td>27</td>\n",
       "      <td>0</td>\n",
       "      <td>0</td>\n",
       "      <td>0</td>\n",
       "      <td>0</td>\n",
       "      <td>0</td>\n",
       "      <td>0</td>\n",
       "      <td>0</td>\n",
       "      <td>...</td>\n",
       "      <td>0</td>\n",
       "      <td>0</td>\n",
       "      <td>0</td>\n",
       "      <td>0</td>\n",
       "      <td>0</td>\n",
       "      <td>0</td>\n",
       "      <td>0</td>\n",
       "      <td>0</td>\n",
       "      <td>0</td>\n",
       "      <td>0</td>\n",
       "    </tr>\n",
       "    <tr>\n",
       "      <th>Unknown</th>\n",
       "      <td>0</td>\n",
       "      <td>0</td>\n",
       "      <td>0</td>\n",
       "      <td>0</td>\n",
       "      <td>0</td>\n",
       "      <td>0</td>\n",
       "      <td>0</td>\n",
       "      <td>0</td>\n",
       "      <td>0</td>\n",
       "      <td>0</td>\n",
       "      <td>...</td>\n",
       "      <td>0</td>\n",
       "      <td>0</td>\n",
       "      <td>0</td>\n",
       "      <td>0</td>\n",
       "      <td>0</td>\n",
       "      <td>0</td>\n",
       "      <td>0</td>\n",
       "      <td>0</td>\n",
       "      <td>0</td>\n",
       "      <td>0</td>\n",
       "    </tr>\n",
       "    <tr>\n",
       "      <th>bZIP</th>\n",
       "      <td>1</td>\n",
       "      <td>0</td>\n",
       "      <td>1</td>\n",
       "      <td>0</td>\n",
       "      <td>13</td>\n",
       "      <td>0</td>\n",
       "      <td>0</td>\n",
       "      <td>0</td>\n",
       "      <td>0</td>\n",
       "      <td>0</td>\n",
       "      <td>...</td>\n",
       "      <td>0</td>\n",
       "      <td>0</td>\n",
       "      <td>0</td>\n",
       "      <td>0</td>\n",
       "      <td>0</td>\n",
       "      <td>0</td>\n",
       "      <td>0</td>\n",
       "      <td>0</td>\n",
       "      <td>0</td>\n",
       "      <td>0</td>\n",
       "    </tr>\n",
       "  </tbody>\n",
       "</table>\n",
       "<p>5 rows × 30 columns</p>\n",
       "</div>"
      ],
      "text/plain": [
       "             C2H2 ZF  Homeodomain  bHLH  Unknown  bZIP  Forkhead  \\\n",
       "C2H2 ZF           55            7     3        1     0         0   \n",
       "Homeodomain        7           14     2        1     0         0   \n",
       "bHLH               7            7    27        0     0         0   \n",
       "Unknown            0            0     0        0     0         0   \n",
       "bZIP               1            0     1        0    13         0   \n",
       "\n",
       "             Nuclear receptor  HMG/Sox  Ets  T-box  ...  C2H2 ZF; Homeodomain  \\\n",
       "C2H2 ZF                     2        2    0      1  ...                     0   \n",
       "Homeodomain                 1        0    1      0  ...                     0   \n",
       "bHLH                        0        0    0      0  ...                     0   \n",
       "Unknown                     0        0    0      0  ...                     0   \n",
       "bZIP                        0        0    0      0  ...                     0   \n",
       "\n",
       "             C2H2 ZF; AT hook  TBP  CCCH ZF  p53  C2H2 ZF; BED ZF  CSL  \\\n",
       "C2H2 ZF                     1    0        2    0                1    0   \n",
       "Homeodomain                 0    1        0    0                0    0   \n",
       "bHLH                        0    0        0    0                0    0   \n",
       "Unknown                     0    0        0    0                0    0   \n",
       "bZIP                        0    0        0    0                0    0   \n",
       "\n",
       "             Pipsqueak  CBF/NF-Y  TCR/CxC  \n",
       "C2H2 ZF              0         0        1  \n",
       "Homeodomain          0         0        0  \n",
       "bHLH                 0         0        0  \n",
       "Unknown              0         0        0  \n",
       "bZIP                 0         0        0  \n",
       "\n",
       "[5 rows x 30 columns]"
      ]
     },
     "execution_count": 87,
     "metadata": {},
     "output_type": "execute_result"
    }
   ],
   "source": [
    "num_pairs = [((tftf['ad_dbd'] == x) & (tftf['db_dbd'] == y)).sum() for x in fams for y in fams]\n",
    "num_pairs = np.reshape(num_pairs, (-1, len(fams)))\n",
    "num_pairs = pd.DataFrame(num_pairs, index=fams, columns=fams)\n",
    "num_pairs.head()"
   ]
  },
  {
   "cell_type": "code",
   "execution_count": 88,
   "metadata": {},
   "outputs": [
    {
     "data": {
      "text/html": [
       "<div>\n",
       "<style scoped>\n",
       "    .dataframe tbody tr th:only-of-type {\n",
       "        vertical-align: middle;\n",
       "    }\n",
       "\n",
       "    .dataframe tbody tr th {\n",
       "        vertical-align: top;\n",
       "    }\n",
       "\n",
       "    .dataframe thead th {\n",
       "        text-align: right;\n",
       "    }\n",
       "</style>\n",
       "<table border=\"1\" class=\"dataframe\">\n",
       "  <thead>\n",
       "    <tr style=\"text-align: right;\">\n",
       "      <th></th>\n",
       "      <th>C2H2 ZF</th>\n",
       "      <th>Homeodomain</th>\n",
       "      <th>bHLH</th>\n",
       "      <th>Unknown</th>\n",
       "      <th>bZIP</th>\n",
       "      <th>Forkhead</th>\n",
       "      <th>Nuclear receptor</th>\n",
       "      <th>HMG/Sox</th>\n",
       "      <th>Ets</th>\n",
       "      <th>T-box</th>\n",
       "      <th>...</th>\n",
       "      <th>C2H2 ZF; Homeodomain</th>\n",
       "      <th>C2H2 ZF; AT hook</th>\n",
       "      <th>TBP</th>\n",
       "      <th>CCCH ZF</th>\n",
       "      <th>p53</th>\n",
       "      <th>C2H2 ZF; BED ZF</th>\n",
       "      <th>CSL</th>\n",
       "      <th>Pipsqueak</th>\n",
       "      <th>CBF/NF-Y</th>\n",
       "      <th>TCR/CxC</th>\n",
       "    </tr>\n",
       "  </thead>\n",
       "  <tbody>\n",
       "    <tr>\n",
       "      <th>C2H2 ZF</th>\n",
       "      <td>0.524545</td>\n",
       "      <td>0.333333</td>\n",
       "      <td>0.588889</td>\n",
       "      <td>0.666667</td>\n",
       "      <td>NaN</td>\n",
       "      <td>NaN</td>\n",
       "      <td>0.750000</td>\n",
       "      <td>0.625</td>\n",
       "      <td>NaN</td>\n",
       "      <td>0.75</td>\n",
       "      <td>...</td>\n",
       "      <td>NaN</td>\n",
       "      <td>0.75</td>\n",
       "      <td>NaN</td>\n",
       "      <td>0.583333</td>\n",
       "      <td>NaN</td>\n",
       "      <td>0.0</td>\n",
       "      <td>NaN</td>\n",
       "      <td>NaN</td>\n",
       "      <td>NaN</td>\n",
       "      <td>0.333333</td>\n",
       "    </tr>\n",
       "    <tr>\n",
       "      <th>Homeodomain</th>\n",
       "      <td>0.476190</td>\n",
       "      <td>0.214286</td>\n",
       "      <td>0.666667</td>\n",
       "      <td>0.500000</td>\n",
       "      <td>NaN</td>\n",
       "      <td>NaN</td>\n",
       "      <td>0.666667</td>\n",
       "      <td>NaN</td>\n",
       "      <td>0.333333</td>\n",
       "      <td>NaN</td>\n",
       "      <td>...</td>\n",
       "      <td>NaN</td>\n",
       "      <td>NaN</td>\n",
       "      <td>0.333333</td>\n",
       "      <td>NaN</td>\n",
       "      <td>NaN</td>\n",
       "      <td>NaN</td>\n",
       "      <td>NaN</td>\n",
       "      <td>NaN</td>\n",
       "      <td>NaN</td>\n",
       "      <td>NaN</td>\n",
       "    </tr>\n",
       "    <tr>\n",
       "      <th>bHLH</th>\n",
       "      <td>0.369048</td>\n",
       "      <td>0.352891</td>\n",
       "      <td>0.021605</td>\n",
       "      <td>NaN</td>\n",
       "      <td>NaN</td>\n",
       "      <td>NaN</td>\n",
       "      <td>NaN</td>\n",
       "      <td>NaN</td>\n",
       "      <td>NaN</td>\n",
       "      <td>NaN</td>\n",
       "      <td>...</td>\n",
       "      <td>NaN</td>\n",
       "      <td>NaN</td>\n",
       "      <td>NaN</td>\n",
       "      <td>NaN</td>\n",
       "      <td>NaN</td>\n",
       "      <td>NaN</td>\n",
       "      <td>NaN</td>\n",
       "      <td>NaN</td>\n",
       "      <td>NaN</td>\n",
       "      <td>NaN</td>\n",
       "    </tr>\n",
       "    <tr>\n",
       "      <th>Unknown</th>\n",
       "      <td>NaN</td>\n",
       "      <td>NaN</td>\n",
       "      <td>NaN</td>\n",
       "      <td>NaN</td>\n",
       "      <td>NaN</td>\n",
       "      <td>NaN</td>\n",
       "      <td>NaN</td>\n",
       "      <td>NaN</td>\n",
       "      <td>NaN</td>\n",
       "      <td>NaN</td>\n",
       "      <td>...</td>\n",
       "      <td>NaN</td>\n",
       "      <td>NaN</td>\n",
       "      <td>NaN</td>\n",
       "      <td>NaN</td>\n",
       "      <td>NaN</td>\n",
       "      <td>NaN</td>\n",
       "      <td>NaN</td>\n",
       "      <td>NaN</td>\n",
       "      <td>NaN</td>\n",
       "      <td>NaN</td>\n",
       "    </tr>\n",
       "    <tr>\n",
       "      <th>bZIP</th>\n",
       "      <td>0.000000</td>\n",
       "      <td>NaN</td>\n",
       "      <td>0.000000</td>\n",
       "      <td>NaN</td>\n",
       "      <td>0.153846</td>\n",
       "      <td>NaN</td>\n",
       "      <td>NaN</td>\n",
       "      <td>NaN</td>\n",
       "      <td>NaN</td>\n",
       "      <td>NaN</td>\n",
       "      <td>...</td>\n",
       "      <td>NaN</td>\n",
       "      <td>NaN</td>\n",
       "      <td>NaN</td>\n",
       "      <td>NaN</td>\n",
       "      <td>NaN</td>\n",
       "      <td>NaN</td>\n",
       "      <td>NaN</td>\n",
       "      <td>NaN</td>\n",
       "      <td>NaN</td>\n",
       "      <td>NaN</td>\n",
       "    </tr>\n",
       "  </tbody>\n",
       "</table>\n",
       "<p>5 rows × 30 columns</p>\n",
       "</div>"
      ],
      "text/plain": [
       "              C2H2 ZF  Homeodomain      bHLH   Unknown      bZIP  Forkhead  \\\n",
       "C2H2 ZF      0.524545     0.333333  0.588889  0.666667       NaN       NaN   \n",
       "Homeodomain  0.476190     0.214286  0.666667  0.500000       NaN       NaN   \n",
       "bHLH         0.369048     0.352891  0.021605       NaN       NaN       NaN   \n",
       "Unknown           NaN          NaN       NaN       NaN       NaN       NaN   \n",
       "bZIP         0.000000          NaN  0.000000       NaN  0.153846       NaN   \n",
       "\n",
       "             Nuclear receptor  HMG/Sox       Ets  T-box  ...  \\\n",
       "C2H2 ZF              0.750000    0.625       NaN   0.75  ...   \n",
       "Homeodomain          0.666667      NaN  0.333333    NaN  ...   \n",
       "bHLH                      NaN      NaN       NaN    NaN  ...   \n",
       "Unknown                   NaN      NaN       NaN    NaN  ...   \n",
       "bZIP                      NaN      NaN       NaN    NaN  ...   \n",
       "\n",
       "             C2H2 ZF; Homeodomain  C2H2 ZF; AT hook       TBP   CCCH ZF  p53  \\\n",
       "C2H2 ZF                       NaN              0.75       NaN  0.583333  NaN   \n",
       "Homeodomain                   NaN               NaN  0.333333       NaN  NaN   \n",
       "bHLH                          NaN               NaN       NaN       NaN  NaN   \n",
       "Unknown                       NaN               NaN       NaN       NaN  NaN   \n",
       "bZIP                          NaN               NaN       NaN       NaN  NaN   \n",
       "\n",
       "             C2H2 ZF; BED ZF  CSL  Pipsqueak  CBF/NF-Y   TCR/CxC  \n",
       "C2H2 ZF                  0.0  NaN        NaN       NaN  0.333333  \n",
       "Homeodomain              NaN  NaN        NaN       NaN       NaN  \n",
       "bHLH                     NaN  NaN        NaN       NaN       NaN  \n",
       "Unknown                  NaN  NaN        NaN       NaN       NaN  \n",
       "bZIP                     NaN  NaN        NaN       NaN       NaN  \n",
       "\n",
       "[5 rows x 30 columns]"
      ]
     },
     "execution_count": 88,
     "metadata": {},
     "output_type": "execute_result"
    }
   ],
   "source": [
    "rewiring = [tftf.loc[(tftf['ad_dbd'] == x) & (tftf['db_dbd'] == y), 'Y2H_result'].mean() for x in fams for y in fams]\n",
    "rewiring = np.reshape(rewiring, (-1, len(fams)))\n",
    "rewiring = pd.DataFrame(rewiring, index=fams, columns=fams)\n",
    "rewiring.head()"
   ]
  },
  {
   "cell_type": "code",
   "execution_count": 89,
   "metadata": {},
   "outputs": [
    {
     "data": {
      "text/html": [
       "<div>\n",
       "<style scoped>\n",
       "    .dataframe tbody tr th:only-of-type {\n",
       "        vertical-align: middle;\n",
       "    }\n",
       "\n",
       "    .dataframe tbody tr th {\n",
       "        vertical-align: top;\n",
       "    }\n",
       "\n",
       "    .dataframe thead th {\n",
       "        text-align: right;\n",
       "    }\n",
       "</style>\n",
       "<table border=\"1\" class=\"dataframe\">\n",
       "  <thead>\n",
       "    <tr style=\"text-align: right;\">\n",
       "      <th></th>\n",
       "      <th>C2H2 ZF</th>\n",
       "      <th>Homeodomain</th>\n",
       "      <th>bHLH</th>\n",
       "      <th>Unknown</th>\n",
       "      <th>bZIP</th>\n",
       "      <th>Forkhead</th>\n",
       "      <th>Nuclear receptor</th>\n",
       "      <th>HMG/Sox</th>\n",
       "      <th>Ets</th>\n",
       "      <th>T-box</th>\n",
       "      <th>...</th>\n",
       "      <th>C2H2 ZF; Homeodomain</th>\n",
       "      <th>C2H2 ZF; AT hook</th>\n",
       "      <th>TBP</th>\n",
       "      <th>CCCH ZF</th>\n",
       "      <th>p53</th>\n",
       "      <th>C2H2 ZF; BED ZF</th>\n",
       "      <th>CSL</th>\n",
       "      <th>Pipsqueak</th>\n",
       "      <th>CBF/NF-Y</th>\n",
       "      <th>TCR/CxC</th>\n",
       "    </tr>\n",
       "  </thead>\n",
       "  <tbody>\n",
       "    <tr>\n",
       "      <th>C2H2 ZF</th>\n",
       "      <td>0.475455</td>\n",
       "      <td>0.666667</td>\n",
       "      <td>0.411111</td>\n",
       "      <td>0.333333</td>\n",
       "      <td>NaN</td>\n",
       "      <td>NaN</td>\n",
       "      <td>0.250000</td>\n",
       "      <td>0.375</td>\n",
       "      <td>NaN</td>\n",
       "      <td>0.25</td>\n",
       "      <td>...</td>\n",
       "      <td>NaN</td>\n",
       "      <td>0.25</td>\n",
       "      <td>NaN</td>\n",
       "      <td>0.416667</td>\n",
       "      <td>NaN</td>\n",
       "      <td>1.0</td>\n",
       "      <td>NaN</td>\n",
       "      <td>NaN</td>\n",
       "      <td>NaN</td>\n",
       "      <td>0.666667</td>\n",
       "    </tr>\n",
       "    <tr>\n",
       "      <th>Homeodomain</th>\n",
       "      <td>0.523810</td>\n",
       "      <td>0.785714</td>\n",
       "      <td>0.333333</td>\n",
       "      <td>0.500000</td>\n",
       "      <td>NaN</td>\n",
       "      <td>NaN</td>\n",
       "      <td>0.333333</td>\n",
       "      <td>NaN</td>\n",
       "      <td>0.666667</td>\n",
       "      <td>NaN</td>\n",
       "      <td>...</td>\n",
       "      <td>NaN</td>\n",
       "      <td>NaN</td>\n",
       "      <td>0.666667</td>\n",
       "      <td>NaN</td>\n",
       "      <td>NaN</td>\n",
       "      <td>NaN</td>\n",
       "      <td>NaN</td>\n",
       "      <td>NaN</td>\n",
       "      <td>NaN</td>\n",
       "      <td>NaN</td>\n",
       "    </tr>\n",
       "    <tr>\n",
       "      <th>bHLH</th>\n",
       "      <td>0.630952</td>\n",
       "      <td>0.647109</td>\n",
       "      <td>0.978395</td>\n",
       "      <td>NaN</td>\n",
       "      <td>NaN</td>\n",
       "      <td>NaN</td>\n",
       "      <td>NaN</td>\n",
       "      <td>NaN</td>\n",
       "      <td>NaN</td>\n",
       "      <td>NaN</td>\n",
       "      <td>...</td>\n",
       "      <td>NaN</td>\n",
       "      <td>NaN</td>\n",
       "      <td>NaN</td>\n",
       "      <td>NaN</td>\n",
       "      <td>NaN</td>\n",
       "      <td>NaN</td>\n",
       "      <td>NaN</td>\n",
       "      <td>NaN</td>\n",
       "      <td>NaN</td>\n",
       "      <td>NaN</td>\n",
       "    </tr>\n",
       "    <tr>\n",
       "      <th>Unknown</th>\n",
       "      <td>NaN</td>\n",
       "      <td>NaN</td>\n",
       "      <td>NaN</td>\n",
       "      <td>NaN</td>\n",
       "      <td>NaN</td>\n",
       "      <td>NaN</td>\n",
       "      <td>NaN</td>\n",
       "      <td>NaN</td>\n",
       "      <td>NaN</td>\n",
       "      <td>NaN</td>\n",
       "      <td>...</td>\n",
       "      <td>NaN</td>\n",
       "      <td>NaN</td>\n",
       "      <td>NaN</td>\n",
       "      <td>NaN</td>\n",
       "      <td>NaN</td>\n",
       "      <td>NaN</td>\n",
       "      <td>NaN</td>\n",
       "      <td>NaN</td>\n",
       "      <td>NaN</td>\n",
       "      <td>NaN</td>\n",
       "    </tr>\n",
       "    <tr>\n",
       "      <th>bZIP</th>\n",
       "      <td>1.000000</td>\n",
       "      <td>NaN</td>\n",
       "      <td>1.000000</td>\n",
       "      <td>NaN</td>\n",
       "      <td>0.846154</td>\n",
       "      <td>NaN</td>\n",
       "      <td>NaN</td>\n",
       "      <td>NaN</td>\n",
       "      <td>NaN</td>\n",
       "      <td>NaN</td>\n",
       "      <td>...</td>\n",
       "      <td>NaN</td>\n",
       "      <td>NaN</td>\n",
       "      <td>NaN</td>\n",
       "      <td>NaN</td>\n",
       "      <td>NaN</td>\n",
       "      <td>NaN</td>\n",
       "      <td>NaN</td>\n",
       "      <td>NaN</td>\n",
       "      <td>NaN</td>\n",
       "      <td>NaN</td>\n",
       "    </tr>\n",
       "  </tbody>\n",
       "</table>\n",
       "<p>5 rows × 30 columns</p>\n",
       "</div>"
      ],
      "text/plain": [
       "              C2H2 ZF  Homeodomain      bHLH   Unknown      bZIP  Forkhead  \\\n",
       "C2H2 ZF      0.475455     0.666667  0.411111  0.333333       NaN       NaN   \n",
       "Homeodomain  0.523810     0.785714  0.333333  0.500000       NaN       NaN   \n",
       "bHLH         0.630952     0.647109  0.978395       NaN       NaN       NaN   \n",
       "Unknown           NaN          NaN       NaN       NaN       NaN       NaN   \n",
       "bZIP         1.000000          NaN  1.000000       NaN  0.846154       NaN   \n",
       "\n",
       "             Nuclear receptor  HMG/Sox       Ets  T-box  ...  \\\n",
       "C2H2 ZF              0.250000    0.375       NaN   0.25  ...   \n",
       "Homeodomain          0.333333      NaN  0.666667    NaN  ...   \n",
       "bHLH                      NaN      NaN       NaN    NaN  ...   \n",
       "Unknown                   NaN      NaN       NaN    NaN  ...   \n",
       "bZIP                      NaN      NaN       NaN    NaN  ...   \n",
       "\n",
       "             C2H2 ZF; Homeodomain  C2H2 ZF; AT hook       TBP   CCCH ZF  p53  \\\n",
       "C2H2 ZF                       NaN              0.25       NaN  0.416667  NaN   \n",
       "Homeodomain                   NaN               NaN  0.666667       NaN  NaN   \n",
       "bHLH                          NaN               NaN       NaN       NaN  NaN   \n",
       "Unknown                       NaN               NaN       NaN       NaN  NaN   \n",
       "bZIP                          NaN               NaN       NaN       NaN  NaN   \n",
       "\n",
       "             C2H2 ZF; BED ZF  CSL  Pipsqueak  CBF/NF-Y   TCR/CxC  \n",
       "C2H2 ZF                  1.0  NaN        NaN       NaN  0.666667  \n",
       "Homeodomain              NaN  NaN        NaN       NaN       NaN  \n",
       "bHLH                     NaN  NaN        NaN       NaN       NaN  \n",
       "Unknown                  NaN  NaN        NaN       NaN       NaN  \n",
       "bZIP                     NaN  NaN        NaN       NaN       NaN  \n",
       "\n",
       "[5 rows x 30 columns]"
      ]
     },
     "execution_count": 89,
     "metadata": {},
     "output_type": "execute_result"
    }
   ],
   "source": [
    "# since rewiring score is 1-fraction isos interacting, we decided to just go with that\n",
    "rewiring = 1-rewiring\n",
    "rewiring.head()"
   ]
  },
  {
   "cell_type": "code",
   "execution_count": 90,
   "metadata": {},
   "outputs": [
    {
     "data": {
      "text/plain": [
       "Y2H_result    0.666667\n",
       "dtype: float64"
      ]
     },
     "execution_count": 90,
     "metadata": {},
     "output_type": "execute_result"
    }
   ],
   "source": [
    "tftf[(tftf[\"ad_dbd\"] == \"Homeodomain\") & (tftf[\"db_dbd\"] == \"bHLH\")].mean()"
   ]
  },
  {
   "cell_type": "code",
   "execution_count": 91,
   "metadata": {},
   "outputs": [
    {
     "data": {
      "text/plain": [
       "2"
      ]
     },
     "execution_count": 91,
     "metadata": {},
     "output_type": "execute_result"
    }
   ],
   "source": [
    "len(tftf[(tftf[\"ad_dbd\"] == \"Homeodomain\") & (tftf[\"db_dbd\"] == \"bHLH\")])"
   ]
  },
  {
   "cell_type": "code",
   "execution_count": 92,
   "metadata": {},
   "outputs": [
    {
     "data": {
      "text/plain": [
       "Y2H_result    0.352891\n",
       "dtype: float64"
      ]
     },
     "execution_count": 92,
     "metadata": {},
     "output_type": "execute_result"
    }
   ],
   "source": [
    "tftf[(tftf[\"ad_dbd\"] == \"bHLH\") & (tftf[\"db_dbd\"] == \"Homeodomain\")].mean()"
   ]
  },
  {
   "cell_type": "code",
   "execution_count": 93,
   "metadata": {},
   "outputs": [
    {
     "data": {
      "text/plain": [
       "7"
      ]
     },
     "execution_count": 93,
     "metadata": {},
     "output_type": "execute_result"
    }
   ],
   "source": [
    "len(tftf[(tftf[\"ad_dbd\"] == \"bHLH\") & (tftf[\"db_dbd\"] == \"Homeodomain\")])"
   ]
  },
  {
   "cell_type": "markdown",
   "metadata": {},
   "source": [
    "confirming that AD is on the rows and DB is on the columns as expected"
   ]
  },
  {
   "cell_type": "code",
   "execution_count": 94,
   "metadata": {},
   "outputs": [
    {
     "data": {
      "text/plain": [
       "C2H2 ZF             81\n",
       "Homeodomain         38\n",
       "bHLH                36\n",
       "bZIP                14\n",
       "Nuclear receptor    10\n",
       "SMAD                 5\n",
       "MBD                 13\n",
       "dtype: int64"
      ]
     },
     "execution_count": 94,
     "metadata": {},
     "output_type": "execute_result"
    }
   ],
   "source": [
    "# limit to fams w 5 DB and remove 'unknown' DBDs\n",
    "num_pairs_sum = num_pairs.sum(axis=0)\n",
    "filt_fams = num_pairs_sum[num_pairs_sum >= 5]\n",
    "filt_fams = filt_fams[filt_fams.index != \"Unknown\"]\n",
    "filt_fams"
   ]
  },
  {
   "cell_type": "code",
   "execution_count": 95,
   "metadata": {},
   "outputs": [
    {
     "data": {
      "text/html": [
       "<div>\n",
       "<style scoped>\n",
       "    .dataframe tbody tr th:only-of-type {\n",
       "        vertical-align: middle;\n",
       "    }\n",
       "\n",
       "    .dataframe tbody tr th {\n",
       "        vertical-align: top;\n",
       "    }\n",
       "\n",
       "    .dataframe thead th {\n",
       "        text-align: right;\n",
       "    }\n",
       "</style>\n",
       "<table border=\"1\" class=\"dataframe\">\n",
       "  <thead>\n",
       "    <tr style=\"text-align: right;\">\n",
       "      <th></th>\n",
       "      <th>C2H2 ZF</th>\n",
       "      <th>Homeodomain</th>\n",
       "      <th>bHLH</th>\n",
       "      <th>bZIP</th>\n",
       "      <th>Nuclear receptor</th>\n",
       "      <th>SMAD</th>\n",
       "      <th>MBD</th>\n",
       "    </tr>\n",
       "  </thead>\n",
       "  <tbody>\n",
       "    <tr>\n",
       "      <th>C2H2 ZF</th>\n",
       "      <td>0.475455</td>\n",
       "      <td>0.666667</td>\n",
       "      <td>0.411111</td>\n",
       "      <td>NaN</td>\n",
       "      <td>0.250000</td>\n",
       "      <td>0.333333</td>\n",
       "      <td>1.000000</td>\n",
       "    </tr>\n",
       "    <tr>\n",
       "      <th>Homeodomain</th>\n",
       "      <td>0.523810</td>\n",
       "      <td>0.785714</td>\n",
       "      <td>0.333333</td>\n",
       "      <td>NaN</td>\n",
       "      <td>0.333333</td>\n",
       "      <td>0.333333</td>\n",
       "      <td>0.458333</td>\n",
       "    </tr>\n",
       "    <tr>\n",
       "      <th>bHLH</th>\n",
       "      <td>0.630952</td>\n",
       "      <td>0.647109</td>\n",
       "      <td>0.978395</td>\n",
       "      <td>NaN</td>\n",
       "      <td>NaN</td>\n",
       "      <td>0.750000</td>\n",
       "      <td>1.000000</td>\n",
       "    </tr>\n",
       "    <tr>\n",
       "      <th>bZIP</th>\n",
       "      <td>1.000000</td>\n",
       "      <td>NaN</td>\n",
       "      <td>1.000000</td>\n",
       "      <td>0.846154</td>\n",
       "      <td>NaN</td>\n",
       "      <td>NaN</td>\n",
       "      <td>1.000000</td>\n",
       "    </tr>\n",
       "    <tr>\n",
       "      <th>Nuclear receptor</th>\n",
       "      <td>0.750000</td>\n",
       "      <td>0.750000</td>\n",
       "      <td>1.000000</td>\n",
       "      <td>NaN</td>\n",
       "      <td>0.928571</td>\n",
       "      <td>NaN</td>\n",
       "      <td>NaN</td>\n",
       "    </tr>\n",
       "    <tr>\n",
       "      <th>SMAD</th>\n",
       "      <td>NaN</td>\n",
       "      <td>NaN</td>\n",
       "      <td>NaN</td>\n",
       "      <td>NaN</td>\n",
       "      <td>NaN</td>\n",
       "      <td>1.000000</td>\n",
       "      <td>NaN</td>\n",
       "    </tr>\n",
       "    <tr>\n",
       "      <th>MBD</th>\n",
       "      <td>NaN</td>\n",
       "      <td>NaN</td>\n",
       "      <td>NaN</td>\n",
       "      <td>NaN</td>\n",
       "      <td>NaN</td>\n",
       "      <td>NaN</td>\n",
       "      <td>NaN</td>\n",
       "    </tr>\n",
       "  </tbody>\n",
       "</table>\n",
       "</div>"
      ],
      "text/plain": [
       "                   C2H2 ZF  Homeodomain      bHLH      bZIP  Nuclear receptor  \\\n",
       "C2H2 ZF           0.475455     0.666667  0.411111       NaN          0.250000   \n",
       "Homeodomain       0.523810     0.785714  0.333333       NaN          0.333333   \n",
       "bHLH              0.630952     0.647109  0.978395       NaN               NaN   \n",
       "bZIP              1.000000          NaN  1.000000  0.846154               NaN   \n",
       "Nuclear receptor  0.750000     0.750000  1.000000       NaN          0.928571   \n",
       "SMAD                   NaN          NaN       NaN       NaN               NaN   \n",
       "MBD                    NaN          NaN       NaN       NaN               NaN   \n",
       "\n",
       "                      SMAD       MBD  \n",
       "C2H2 ZF           0.333333  1.000000  \n",
       "Homeodomain       0.333333  0.458333  \n",
       "bHLH              0.750000  1.000000  \n",
       "bZIP                   NaN  1.000000  \n",
       "Nuclear receptor       NaN       NaN  \n",
       "SMAD              1.000000       NaN  \n",
       "MBD                    NaN       NaN  "
      ]
     },
     "execution_count": 95,
     "metadata": {},
     "output_type": "execute_result"
    }
   ],
   "source": [
    "rewiring_filt = rewiring.loc[list(filt_fams.index), list(filt_fams.index)]\n",
    "rewiring_filt"
   ]
  },
  {
   "cell_type": "code",
   "execution_count": 96,
   "metadata": {},
   "outputs": [
    {
     "data": {
      "image/png": "[encoded data removed]",
      "text/plain": [
       "<Figure size 151.2x129.6 with 2 Axes>"
      ]
     },
     "metadata": {},
     "output_type": "display_data"
    }
   ],
   "source": [
    "fig = plt.figure(figsize=(2.1, 1.8))\n",
    "\n",
    "g = sns.heatmap(rewiring_filt, cmap=\"viridis\", cbar_kws={\"label\": \"mean fraction isoforms interacting\"})\n",
    "\n",
    "# highlight the squares corresponding to dimerizing pairs\n",
    "for i, fam in enumerate(list(filt_fams.index)):\n",
    "    if fam in DIMERIZING_TF_FAMILIES:\n",
    "        g.add_patch(Rectangle((i, i), 1, 1, fill=False, edgecolor='black', lw=1))\n",
    "        \n",
    "g.set_ylabel(\"TF isoform family\")\n",
    "g.set_xlabel(\"Y2H partner TF family\")\n",
    "g.xaxis.tick_top()\n",
    "g.xaxis.set_label_position('top')\n",
    "g.set_xticklabels(g.get_xticklabels(), rotation=90, ha=\"left\", va=\"bottom\")\n",
    "fig.savefig(\"../../figures/fig4/Dimerizing_PPI_heatmap.small.pdf\", dpi=\"figure\", bbox_inches=\"tight\")"
   ]
  },
  {
   "cell_type": "code",
   "execution_count": 97,
   "metadata": {},
   "outputs": [
    {
     "data": {
      "text/plain": [
       "['C2H2 ZF', 'Homeodomain', 'bHLH', 'bZIP', 'Nuclear receptor', 'SMAD', 'MBD']"
      ]
     },
     "execution_count": 97,
     "metadata": {},
     "output_type": "execute_result"
    }
   ],
   "source": [
    "filt_fams = list(rewiring_filt.columns)\n",
    "filt_fams"
   ]
  },
  {
   "cell_type": "code",
   "execution_count": 98,
   "metadata": {},
   "outputs": [
    {
     "data": {
      "image/png": "[encoded data removed]",
      "text/plain": [
       "<Figure size 144x144 with 1 Axes>"
      ]
     },
     "metadata": {},
     "output_type": "display_data"
    }
   ],
   "source": [
    "fig, ax = plt.subplots(1, 1)\n",
    "fig.set_size_inches(2, 2)\n",
    "scaling = 5\n",
    "sc = ax.scatter(x=[x for x in filt_fams for y in filt_fams],\n",
    "                y=[y for x in filt_fams for y in filt_fams],\n",
    "                s=[((tftf['db_dbd'] == x) & (tftf['ad_dbd'] == y)).sum() * scaling for x in filt_fams for y in filt_fams],\n",
    "                c=[tftf.loc[(tftf['db_dbd'] == x) & (tftf['ad_dbd'] == y), 'Y2H_result'].mean() for x in filt_fams for y in filt_fams],\n",
    "                cmap='viridis_r',\n",
    "                vmin=0,\n",
    "                vmax=7/8,\n",
    "                clip_on=False)\n",
    "\n",
    "dm = ax.scatter(x=[x for x in filt_fams for y in filt_fams if x in DIMERIZING_TF_FAMILIES and y in DIMERIZING_TF_FAMILIES and x == y],\n",
    "                y=[y for x in filt_fams for y in filt_fams if x in DIMERIZING_TF_FAMILIES and y in DIMERIZING_TF_FAMILIES and x == y],\n",
    "                s=[((tftf['db_dbd'] == x) & (tftf['ad_dbd'] == y)).sum() * scaling for x in filt_fams for y in filt_fams if x in DIMERIZING_TF_FAMILIES and y in DIMERIZING_TF_FAMILIES and x == y],\n",
    "                c=[tftf.loc[(tftf['db_dbd'] == x) & (tftf['ad_dbd'] == y), 'Y2H_result'].mean() for x in filt_fams for y in filt_fams if x in DIMERIZING_TF_FAMILIES and y in DIMERIZING_TF_FAMILIES and x == y],\n",
    "                cmap='viridis_r',\n",
    "                vmin=0,\n",
    "                vmax=7/8,\n",
    "                edgecolor=\"black\",\n",
    "                linewidth=1,\n",
    "                clip_on=False)\n",
    "\n",
    "ax.xaxis.set_tick_params(rotation=90)\n",
    "for s in ax.spines.values():\n",
    "    s.set_visible(False)\n",
    "    \n",
    "ax.set_xlim(-0.5, len(filt_fams) - 0.5)\n",
    "ax.set_ylim(len(filt_fams) - 0.5, -0.5)\n",
    "\n",
    "ax.set_xlabel('Y2H partner TF family',\n",
    "              fontsize=fontsize,\n",
    "              labelpad=5)\n",
    "ax.xaxis.tick_top()\n",
    "ax.xaxis.set_label_position('top')\n",
    "ax.set_ylabel('TF isoform family',\n",
    "              fontsize=fontsize,\n",
    "              labelpad=5)\n",
    "\n",
    "ax.legend(*sc.legend_elements('sizes',\n",
    "                              num=[1, 10, 50],\n",
    "                              func=lambda x: x / scaling),\n",
    "          bbox_to_anchor=[1.01, 1],\n",
    "          labelspacing=1.1,\n",
    "          title='# PPIs',\n",
    "          frameon=False,\n",
    "          title_fontsize=fontsize)\n",
    "\n",
    "cbax = ax.inset_axes([1.07, 0, 0.05, 0.42], transform=ax.transAxes)\n",
    "fig.colorbar(mpl.cm.ScalarMappable(cmap='viridis', norm=mpl.colors.Normalize(vmin=0, vmax=7/8)),\n",
    "             ax=ax,\n",
    "             cax=cbax,\n",
    "             orientation='vertical',\n",
    "             fraction=0.02,\n",
    "             label='fraction of isoforms\\ninteracting (mean)')\n",
    "fig.savefig('../../figures/fig4/Dimerizing_PPI_correlogram.small.pdf', bbox_inches='tight')"
   ]
  },
  {
   "cell_type": "code",
   "execution_count": 99,
   "metadata": {},
   "outputs": [
    {
     "data": {
      "image/png": "[encoded data removed]",
      "text/plain": [
       "<Figure size 324x324 with 2 Axes>"
      ]
     },
     "metadata": {},
     "output_type": "display_data"
    }
   ],
   "source": [
    "fig = plt.figure(figsize=(4.5, 4.5))\n",
    "g = sns.heatmap(rewiring.T, cmap=\"viridis\", cbar_kws={\"label\": \"mean fraction of isoforms interacting\", \n",
    "                                                      \"aspect\": 40},\n",
    "                annot=num_pairs.T, annot_kws={\"fontsize\": 6})\n",
    "\n",
    "# highlight the squares corresponding to dimerizing pairs\n",
    "for i, fam in enumerate(list(rewiring.index)):\n",
    "    if fam in DIMERIZING_TF_FAMILIES:\n",
    "        g.add_patch(Rectangle((i, i), 1, 1, fill=False, edgecolor='black', lw=1))\n",
    "        \n",
    "g.set_ylabel(\"TF isoform family\")\n",
    "g.set_xlabel(\"Y2H partner TF family\")\n",
    "g.xaxis.tick_top()\n",
    "g.xaxis.set_label_position('top')\n",
    "g.set_xticklabels(g.get_xticklabels(), rotation=90, ha=\"left\", va=\"bottom\")\n",
    "fig.savefig(\"../../figures/fig4/Dimerizing_PPI_heatmap.all.pdf\", dpi=\"figure\", bbox_inches=\"tight\")"
   ]
  },
  {
   "cell_type": "markdown",
   "metadata": {},
   "source": [
    "## 10. domain-domain interactions plot"
   ]
  },
  {
   "cell_type": "code",
   "execution_count": 100,
   "metadata": {},
   "outputs": [],
   "source": [
    "def load_3did_DDIs():\n",
    "    fpath = '../../data/external/3did_flat_2022-05.txt'\n",
    "    domain_pairs = []\n",
    "    for line in open(fpath, 'r'):\n",
    "        if line.startswith('#=ID'):\n",
    "            domain_pairs.append((line.split()[3][1:8], line.split()[4][:7]))\n",
    "    df = pd.DataFrame(data=domain_pairs, columns=['pfam_a', 'pfam_b'])\n",
    "    if df.duplicated().any():\n",
    "        raise UserWarning('unexpected duplicates')\n",
    "    return df"
   ]
  },
  {
   "cell_type": "code",
   "execution_count": 101,
   "metadata": {},
   "outputs": [
    {
     "data": {
      "text/html": [
       "<div>\n",
       "<style scoped>\n",
       "    .dataframe tbody tr th:only-of-type {\n",
       "        vertical-align: middle;\n",
       "    }\n",
       "\n",
       "    .dataframe tbody tr th {\n",
       "        vertical-align: top;\n",
       "    }\n",
       "\n",
       "    .dataframe thead th {\n",
       "        text-align: right;\n",
       "    }\n",
       "</style>\n",
       "<table border=\"1\" class=\"dataframe\">\n",
       "  <thead>\n",
       "    <tr style=\"text-align: right;\">\n",
       "      <th></th>\n",
       "      <th>orf_id</th>\n",
       "      <th>pfam_accession</th>\n",
       "      <th>domain_name</th>\n",
       "      <th>domain_description</th>\n",
       "      <th>start</th>\n",
       "      <th>stop</th>\n",
       "      <th>domain_length</th>\n",
       "    </tr>\n",
       "  </thead>\n",
       "  <tbody>\n",
       "    <tr>\n",
       "      <th>10</th>\n",
       "      <td>1022</td>\n",
       "      <td>PF00812</td>\n",
       "      <td>Ephrin</td>\n",
       "      <td>Ephrin</td>\n",
       "      <td>31</td>\n",
       "      <td>163</td>\n",
       "      <td>139</td>\n",
       "    </tr>\n",
       "    <tr>\n",
       "      <th>16</th>\n",
       "      <td>6750</td>\n",
       "      <td>PF02089</td>\n",
       "      <td>Palm_thioest</td>\n",
       "      <td>Palmitoyl protein thioesterase</td>\n",
       "      <td>86</td>\n",
       "      <td>274</td>\n",
       "      <td>279</td>\n",
       "    </tr>\n",
       "    <tr>\n",
       "      <th>17</th>\n",
       "      <td>6750</td>\n",
       "      <td>PF00561</td>\n",
       "      <td>Abhydrolase_1</td>\n",
       "      <td>alpha/beta hydrolase fold</td>\n",
       "      <td>37</td>\n",
       "      <td>137</td>\n",
       "      <td>256</td>\n",
       "    </tr>\n",
       "    <tr>\n",
       "      <th>18</th>\n",
       "      <td>6750</td>\n",
       "      <td>PF00561</td>\n",
       "      <td>Abhydrolase_1</td>\n",
       "      <td>alpha/beta hydrolase fold</td>\n",
       "      <td>216</td>\n",
       "      <td>254</td>\n",
       "      <td>256</td>\n",
       "    </tr>\n",
       "    <tr>\n",
       "      <th>23</th>\n",
       "      <td>7051</td>\n",
       "      <td>PF14555</td>\n",
       "      <td>UBA_4</td>\n",
       "      <td>UBA-like domain</td>\n",
       "      <td>15</td>\n",
       "      <td>55</td>\n",
       "      <td>43</td>\n",
       "    </tr>\n",
       "  </tbody>\n",
       "</table>\n",
       "</div>"
      ],
      "text/plain": [
       "    orf_id pfam_accession    domain_name              domain_description  \\\n",
       "10    1022        PF00812         Ephrin                          Ephrin   \n",
       "16    6750        PF02089   Palm_thioest  Palmitoyl protein thioesterase   \n",
       "17    6750        PF00561  Abhydrolase_1       alpha/beta hydrolase fold   \n",
       "18    6750        PF00561  Abhydrolase_1       alpha/beta hydrolase fold   \n",
       "23    7051        PF14555          UBA_4                 UBA-like domain   \n",
       "\n",
       "    start  stop  domain_length  \n",
       "10     31   163            139  \n",
       "16     86   274            279  \n",
       "17     37   137            256  \n",
       "18    216   254            256  \n",
       "23     15    55             43  "
      ]
     },
     "execution_count": 101,
     "metadata": {},
     "output_type": "execute_result"
    }
   ],
   "source": [
    "pfam = load_pfam_domains_horfeome()\n",
    "pfam['orf_id'] = pfam['orf_id'].astype(int)\n",
    "pfam.head()"
   ]
  },
  {
   "cell_type": "code",
   "execution_count": 102,
   "metadata": {},
   "outputs": [],
   "source": [
    "# TODO: add in pfam AC for ZF for ZF array\n",
    "tf_pfam_domains = {tf.name: {dom.accession for iso in tf.cloned_isoforms\n",
    "                             for dom in iso.aa_seq_features \n",
    "                             if dom.category == 'Pfam_domain'}\n",
    "                   for tf in tfs.values()}"
   ]
  },
  {
   "cell_type": "code",
   "execution_count": 103,
   "metadata": {},
   "outputs": [
    {
     "data": {
      "text/html": [
       "<div>\n",
       "<style scoped>\n",
       "    .dataframe tbody tr th:only-of-type {\n",
       "        vertical-align: middle;\n",
       "    }\n",
       "\n",
       "    .dataframe tbody tr th {\n",
       "        vertical-align: top;\n",
       "    }\n",
       "\n",
       "    .dataframe thead th {\n",
       "        text-align: right;\n",
       "    }\n",
       "</style>\n",
       "<table border=\"1\" class=\"dataframe\">\n",
       "  <thead>\n",
       "    <tr style=\"text-align: right;\">\n",
       "      <th></th>\n",
       "      <th>large_plate_name</th>\n",
       "      <th>retest_pla</th>\n",
       "      <th>retest_pos</th>\n",
       "      <th>ad_gene_symbol</th>\n",
       "      <th>ad_clone_name</th>\n",
       "      <th>ad_orf_id</th>\n",
       "      <th>db_gene_symbol</th>\n",
       "      <th>db_orf_id</th>\n",
       "      <th>category</th>\n",
       "      <th>3AT</th>\n",
       "      <th>LW</th>\n",
       "      <th>empty_AD_3AT</th>\n",
       "      <th>empty_AD_LW</th>\n",
       "      <th>Y2H_result</th>\n",
       "      <th>seq_confirmation_3AT</th>\n",
       "      <th>seq_confirmation_LW</th>\n",
       "      <th>ad_clone_acc</th>\n",
       "      <th>gene_level_pair</th>\n",
       "      <th>ad_iso_id</th>\n",
       "    </tr>\n",
       "  </thead>\n",
       "  <tbody>\n",
       "    <tr>\n",
       "      <th>0</th>\n",
       "      <td>TFfnlr07_001_002_003_004_005_006</td>\n",
       "      <td>5</td>\n",
       "      <td>A01</td>\n",
       "      <td>ATF2</td>\n",
       "      <td>ATF2-1</td>\n",
       "      <td>101414</td>\n",
       "      <td>ATF2</td>\n",
       "      <td>54731</td>\n",
       "      <td>tf_isoform_ppis</td>\n",
       "      <td>2</td>\n",
       "      <td>4</td>\n",
       "      <td>0</td>\n",
       "      <td>4</td>\n",
       "      <td>True</td>\n",
       "      <td>True</td>\n",
       "      <td>True</td>\n",
       "      <td>ATF2|1/6|12H04</td>\n",
       "      <td>ATF2_ATF2</td>\n",
       "      <td>ATF2-1</td>\n",
       "    </tr>\n",
       "    <tr>\n",
       "      <th>3</th>\n",
       "      <td>TFfnlr07_001_002_003_004_005_006</td>\n",
       "      <td>5</td>\n",
       "      <td>A04</td>\n",
       "      <td>ATF2</td>\n",
       "      <td>ATF2-1</td>\n",
       "      <td>101414</td>\n",
       "      <td>FOSL2</td>\n",
       "      <td>12504</td>\n",
       "      <td>tf_isoform_ppis</td>\n",
       "      <td>2</td>\n",
       "      <td>4</td>\n",
       "      <td>0</td>\n",
       "      <td>4</td>\n",
       "      <td>NaN</td>\n",
       "      <td>False</td>\n",
       "      <td>True</td>\n",
       "      <td>ATF2|1/6|12H04</td>\n",
       "      <td>ATF2_FOSL2</td>\n",
       "      <td>ATF2-1</td>\n",
       "    </tr>\n",
       "    <tr>\n",
       "      <th>4</th>\n",
       "      <td>TFfnlr07_001_002_003_004_005_006</td>\n",
       "      <td>5</td>\n",
       "      <td>A05</td>\n",
       "      <td>ATF2</td>\n",
       "      <td>ATF2-1</td>\n",
       "      <td>101414</td>\n",
       "      <td>JDP2</td>\n",
       "      <td>13624</td>\n",
       "      <td>tf_isoform_ppis</td>\n",
       "      <td>2</td>\n",
       "      <td>4</td>\n",
       "      <td>0</td>\n",
       "      <td>4</td>\n",
       "      <td>True</td>\n",
       "      <td>True</td>\n",
       "      <td>True</td>\n",
       "      <td>ATF2|1/6|12H04</td>\n",
       "      <td>ATF2_JDP2</td>\n",
       "      <td>ATF2-1</td>\n",
       "    </tr>\n",
       "    <tr>\n",
       "      <th>12</th>\n",
       "      <td>TFfnlr07_001_002_003_004_005_006</td>\n",
       "      <td>5</td>\n",
       "      <td>B01</td>\n",
       "      <td>ATF2</td>\n",
       "      <td>ATF2-2</td>\n",
       "      <td>101256</td>\n",
       "      <td>ATF2</td>\n",
       "      <td>54731</td>\n",
       "      <td>tf_isoform_ppis</td>\n",
       "      <td>2</td>\n",
       "      <td>4</td>\n",
       "      <td>0</td>\n",
       "      <td>4</td>\n",
       "      <td>True</td>\n",
       "      <td>True</td>\n",
       "      <td>True</td>\n",
       "      <td>ATF2|2/6|09E05</td>\n",
       "      <td>ATF2_ATF2</td>\n",
       "      <td>ATF2-2</td>\n",
       "    </tr>\n",
       "    <tr>\n",
       "      <th>15</th>\n",
       "      <td>TFfnlr07_001_002_003_004_005_006</td>\n",
       "      <td>5</td>\n",
       "      <td>B04</td>\n",
       "      <td>ATF2</td>\n",
       "      <td>ATF2-2</td>\n",
       "      <td>101256</td>\n",
       "      <td>FOSL2</td>\n",
       "      <td>12504</td>\n",
       "      <td>tf_isoform_ppis</td>\n",
       "      <td>2</td>\n",
       "      <td>4</td>\n",
       "      <td>0</td>\n",
       "      <td>4</td>\n",
       "      <td>NaN</td>\n",
       "      <td>False</td>\n",
       "      <td>True</td>\n",
       "      <td>ATF2|2/6|09E05</td>\n",
       "      <td>ATF2_FOSL2</td>\n",
       "      <td>ATF2-2</td>\n",
       "    </tr>\n",
       "  </tbody>\n",
       "</table>\n",
       "</div>"
      ],
      "text/plain": [
       "                    large_plate_name  retest_pla retest_pos ad_gene_symbol  \\\n",
       "0   TFfnlr07_001_002_003_004_005_006           5        A01           ATF2   \n",
       "3   TFfnlr07_001_002_003_004_005_006           5        A04           ATF2   \n",
       "4   TFfnlr07_001_002_003_004_005_006           5        A05           ATF2   \n",
       "12  TFfnlr07_001_002_003_004_005_006           5        B01           ATF2   \n",
       "15  TFfnlr07_001_002_003_004_005_006           5        B04           ATF2   \n",
       "\n",
       "   ad_clone_name  ad_orf_id db_gene_symbol  db_orf_id         category 3AT LW  \\\n",
       "0         ATF2-1     101414           ATF2      54731  tf_isoform_ppis   2  4   \n",
       "3         ATF2-1     101414          FOSL2      12504  tf_isoform_ppis   2  4   \n",
       "4         ATF2-1     101414           JDP2      13624  tf_isoform_ppis   2  4   \n",
       "12        ATF2-2     101256           ATF2      54731  tf_isoform_ppis   2  4   \n",
       "15        ATF2-2     101256          FOSL2      12504  tf_isoform_ppis   2  4   \n",
       "\n",
       "   empty_AD_3AT empty_AD_LW Y2H_result seq_confirmation_3AT  \\\n",
       "0             0           4       True                 True   \n",
       "3             0           4        NaN                False   \n",
       "4             0           4       True                 True   \n",
       "12            0           4       True                 True   \n",
       "15            0           4        NaN                False   \n",
       "\n",
       "    seq_confirmation_LW    ad_clone_acc gene_level_pair ad_iso_id  \n",
       "0                  True  ATF2|1/6|12H04       ATF2_ATF2    ATF2-1  \n",
       "3                  True  ATF2|1/6|12H04      ATF2_FOSL2    ATF2-1  \n",
       "4                  True  ATF2|1/6|12H04       ATF2_JDP2    ATF2-1  \n",
       "12                 True  ATF2|2/6|09E05       ATF2_ATF2    ATF2-2  \n",
       "15                 True  ATF2|2/6|09E05      ATF2_FOSL2    ATF2-2  "
      ]
     },
     "execution_count": 103,
     "metadata": {},
     "output_type": "execute_result"
    }
   ],
   "source": [
    "ppi = load_full_y2h_data_including_controls()\n",
    "ppi = ppi.loc[ppi['category'] == 'tf_isoform_ppis', :]\n",
    "ppi['gene_level_pair'] = ppi['ad_gene_symbol'] + '_' + ppi['db_gene_symbol']\n",
    "ppi['ad_iso_id'] = ppi['ad_clone_acc'].apply(lambda x: x.split('|')[0] + '-' + x.split('|')[1].split('/')[0])\n",
    "# dropping gene with insertion relative to reference geneome\n",
    "ppi = ppi.loc[~(ppi['ad_gene_symbol'] == 'PCGF6'), :]\n",
    "ppi.head()"
   ]
  },
  {
   "cell_type": "code",
   "execution_count": 104,
   "metadata": {},
   "outputs": [
    {
     "data": {
      "text/html": [
       "<div>\n",
       "<style scoped>\n",
       "    .dataframe tbody tr th:only-of-type {\n",
       "        vertical-align: middle;\n",
       "    }\n",
       "\n",
       "    .dataframe tbody tr th {\n",
       "        vertical-align: top;\n",
       "    }\n",
       "\n",
       "    .dataframe thead th {\n",
       "        text-align: right;\n",
       "    }\n",
       "</style>\n",
       "<table border=\"1\" class=\"dataframe\">\n",
       "  <thead>\n",
       "    <tr style=\"text-align: right;\">\n",
       "      <th></th>\n",
       "      <th>large_plate_name</th>\n",
       "      <th>retest_pla</th>\n",
       "      <th>retest_pos</th>\n",
       "      <th>ad_gene_symbol</th>\n",
       "      <th>ad_clone_name</th>\n",
       "      <th>ad_orf_id</th>\n",
       "      <th>db_gene_symbol</th>\n",
       "      <th>db_orf_id</th>\n",
       "      <th>category</th>\n",
       "      <th>3AT</th>\n",
       "      <th>...</th>\n",
       "      <th>empty_AD_LW</th>\n",
       "      <th>Y2H_result</th>\n",
       "      <th>seq_confirmation_3AT</th>\n",
       "      <th>seq_confirmation_LW</th>\n",
       "      <th>ad_clone_acc</th>\n",
       "      <th>gene_level_pair</th>\n",
       "      <th>ad_iso_id</th>\n",
       "      <th>partner_domains</th>\n",
       "      <th>tf_domains</th>\n",
       "      <th>matching_DDI</th>\n",
       "    </tr>\n",
       "  </thead>\n",
       "  <tbody>\n",
       "    <tr>\n",
       "      <th>0</th>\n",
       "      <td>TFfnlr07_001_002_003_004_005_006</td>\n",
       "      <td>5</td>\n",
       "      <td>A01</td>\n",
       "      <td>ATF2</td>\n",
       "      <td>ATF2-1</td>\n",
       "      <td>101414</td>\n",
       "      <td>ATF2</td>\n",
       "      <td>54731</td>\n",
       "      <td>tf_isoform_ppis</td>\n",
       "      <td>2</td>\n",
       "      <td>...</td>\n",
       "      <td>4</td>\n",
       "      <td>True</td>\n",
       "      <td>True</td>\n",
       "      <td>True</td>\n",
       "      <td>ATF2|1/6|12H04</td>\n",
       "      <td>ATF2_ATF2</td>\n",
       "      <td>ATF2-1</td>\n",
       "      <td>{PF07716, PF00170}</td>\n",
       "      <td>{PF00096, PF00170}</td>\n",
       "      <td>((PF00170, PF00170), (PF00170, PF07716))</td>\n",
       "    </tr>\n",
       "    <tr>\n",
       "      <th>3</th>\n",
       "      <td>TFfnlr07_001_002_003_004_005_006</td>\n",
       "      <td>5</td>\n",
       "      <td>A04</td>\n",
       "      <td>ATF2</td>\n",
       "      <td>ATF2-1</td>\n",
       "      <td>101414</td>\n",
       "      <td>FOSL2</td>\n",
       "      <td>12504</td>\n",
       "      <td>tf_isoform_ppis</td>\n",
       "      <td>2</td>\n",
       "      <td>...</td>\n",
       "      <td>4</td>\n",
       "      <td>NaN</td>\n",
       "      <td>False</td>\n",
       "      <td>True</td>\n",
       "      <td>ATF2|1/6|12H04</td>\n",
       "      <td>ATF2_FOSL2</td>\n",
       "      <td>ATF2-1</td>\n",
       "      <td>{PF07716, PF00170}</td>\n",
       "      <td>{PF00096, PF00170}</td>\n",
       "      <td>((PF00170, PF00170), (PF00170, PF07716))</td>\n",
       "    </tr>\n",
       "    <tr>\n",
       "      <th>4</th>\n",
       "      <td>TFfnlr07_001_002_003_004_005_006</td>\n",
       "      <td>5</td>\n",
       "      <td>A05</td>\n",
       "      <td>ATF2</td>\n",
       "      <td>ATF2-1</td>\n",
       "      <td>101414</td>\n",
       "      <td>JDP2</td>\n",
       "      <td>13624</td>\n",
       "      <td>tf_isoform_ppis</td>\n",
       "      <td>2</td>\n",
       "      <td>...</td>\n",
       "      <td>4</td>\n",
       "      <td>True</td>\n",
       "      <td>True</td>\n",
       "      <td>True</td>\n",
       "      <td>ATF2|1/6|12H04</td>\n",
       "      <td>ATF2_JDP2</td>\n",
       "      <td>ATF2-1</td>\n",
       "      <td>{PF07716, PF03131, PF00170}</td>\n",
       "      <td>{PF00096, PF00170}</td>\n",
       "      <td>((PF00170, PF03131), (PF00170, PF00170), (PF00...</td>\n",
       "    </tr>\n",
       "    <tr>\n",
       "      <th>12</th>\n",
       "      <td>TFfnlr07_001_002_003_004_005_006</td>\n",
       "      <td>5</td>\n",
       "      <td>B01</td>\n",
       "      <td>ATF2</td>\n",
       "      <td>ATF2-2</td>\n",
       "      <td>101256</td>\n",
       "      <td>ATF2</td>\n",
       "      <td>54731</td>\n",
       "      <td>tf_isoform_ppis</td>\n",
       "      <td>2</td>\n",
       "      <td>...</td>\n",
       "      <td>4</td>\n",
       "      <td>True</td>\n",
       "      <td>True</td>\n",
       "      <td>True</td>\n",
       "      <td>ATF2|2/6|09E05</td>\n",
       "      <td>ATF2_ATF2</td>\n",
       "      <td>ATF2-2</td>\n",
       "      <td>{PF07716, PF00170}</td>\n",
       "      <td>{PF00096, PF00170}</td>\n",
       "      <td>((PF00170, PF00170), (PF00170, PF07716))</td>\n",
       "    </tr>\n",
       "    <tr>\n",
       "      <th>15</th>\n",
       "      <td>TFfnlr07_001_002_003_004_005_006</td>\n",
       "      <td>5</td>\n",
       "      <td>B04</td>\n",
       "      <td>ATF2</td>\n",
       "      <td>ATF2-2</td>\n",
       "      <td>101256</td>\n",
       "      <td>FOSL2</td>\n",
       "      <td>12504</td>\n",
       "      <td>tf_isoform_ppis</td>\n",
       "      <td>2</td>\n",
       "      <td>...</td>\n",
       "      <td>4</td>\n",
       "      <td>NaN</td>\n",
       "      <td>False</td>\n",
       "      <td>True</td>\n",
       "      <td>ATF2|2/6|09E05</td>\n",
       "      <td>ATF2_FOSL2</td>\n",
       "      <td>ATF2-2</td>\n",
       "      <td>{PF07716, PF00170}</td>\n",
       "      <td>{PF00096, PF00170}</td>\n",
       "      <td>((PF00170, PF00170), (PF00170, PF07716))</td>\n",
       "    </tr>\n",
       "  </tbody>\n",
       "</table>\n",
       "<p>5 rows × 22 columns</p>\n",
       "</div>"
      ],
      "text/plain": [
       "                    large_plate_name  retest_pla retest_pos ad_gene_symbol  \\\n",
       "0   TFfnlr07_001_002_003_004_005_006           5        A01           ATF2   \n",
       "3   TFfnlr07_001_002_003_004_005_006           5        A04           ATF2   \n",
       "4   TFfnlr07_001_002_003_004_005_006           5        A05           ATF2   \n",
       "12  TFfnlr07_001_002_003_004_005_006           5        B01           ATF2   \n",
       "15  TFfnlr07_001_002_003_004_005_006           5        B04           ATF2   \n",
       "\n",
       "   ad_clone_name  ad_orf_id db_gene_symbol  db_orf_id         category 3AT  \\\n",
       "0         ATF2-1     101414           ATF2      54731  tf_isoform_ppis   2   \n",
       "3         ATF2-1     101414          FOSL2      12504  tf_isoform_ppis   2   \n",
       "4         ATF2-1     101414           JDP2      13624  tf_isoform_ppis   2   \n",
       "12        ATF2-2     101256           ATF2      54731  tf_isoform_ppis   2   \n",
       "15        ATF2-2     101256          FOSL2      12504  tf_isoform_ppis   2   \n",
       "\n",
       "    ... empty_AD_LW Y2H_result seq_confirmation_3AT seq_confirmation_LW  \\\n",
       "0   ...           4       True                 True                True   \n",
       "3   ...           4        NaN                False                True   \n",
       "4   ...           4       True                 True                True   \n",
       "12  ...           4       True                 True                True   \n",
       "15  ...           4        NaN                False                True   \n",
       "\n",
       "      ad_clone_acc  gene_level_pair ad_iso_id              partner_domains  \\\n",
       "0   ATF2|1/6|12H04        ATF2_ATF2    ATF2-1           {PF07716, PF00170}   \n",
       "3   ATF2|1/6|12H04       ATF2_FOSL2    ATF2-1           {PF07716, PF00170}   \n",
       "4   ATF2|1/6|12H04        ATF2_JDP2    ATF2-1  {PF07716, PF03131, PF00170}   \n",
       "12  ATF2|2/6|09E05        ATF2_ATF2    ATF2-2           {PF07716, PF00170}   \n",
       "15  ATF2|2/6|09E05       ATF2_FOSL2    ATF2-2           {PF07716, PF00170}   \n",
       "\n",
       "            tf_domains                                       matching_DDI  \n",
       "0   {PF00096, PF00170}           ((PF00170, PF00170), (PF00170, PF07716))  \n",
       "3   {PF00096, PF00170}           ((PF00170, PF00170), (PF00170, PF07716))  \n",
       "4   {PF00096, PF00170}  ((PF00170, PF03131), (PF00170, PF00170), (PF00...  \n",
       "12  {PF00096, PF00170}           ((PF00170, PF00170), (PF00170, PF07716))  \n",
       "15  {PF00096, PF00170}           ((PF00170, PF00170), (PF00170, PF07716))  \n",
       "\n",
       "[5 rows x 22 columns]"
      ]
     },
     "execution_count": 104,
     "metadata": {},
     "output_type": "execute_result"
    }
   ],
   "source": [
    "# check no-overlap with domain motif\n",
    "ddi = load_3did_DDIs()\n",
    "\n",
    "def matching_DDIs(row):\n",
    "    if (\n",
    "        pd.isnull(row['partner_domains']) or\n",
    "        pd.isnull(row['tf_domains'])\n",
    "        ):\n",
    "        return np.nan\n",
    "    if (\n",
    "        len(row['partner_domains']) == 0 or\n",
    "        len(row['tf_domains']) == 0\n",
    "    ):\n",
    "        return np.nan\n",
    "    matches = ddi.loc[(ddi['pfam_a'].isin(row['partner_domains']) &\n",
    "                    ddi['pfam_b'].isin(row['tf_domains'])) |\n",
    "                   (ddi['pfam_a'].isin(row['tf_domains']) &\n",
    "                    ddi['pfam_b'].isin(row['partner_domains']))].values\n",
    "    if len(matches) == 0:\n",
    "        return np.nan\n",
    "    return frozenset((a, b) for a, b in matches)\n",
    "\n",
    "partner_domains = pfam.groupby('orf_id')['pfam_accession'].apply(set)\n",
    "ppi['partner_domains'] = ppi['db_orf_id'].map(partner_domains)\n",
    "ppi['tf_domains'] = ppi['ad_gene_symbol'].map(tf_pfam_domains)\n",
    "ppi['matching_DDI'] = ppi.apply(matching_DDIs, axis=1)\n",
    "ppi.head()"
   ]
  },
  {
   "cell_type": "code",
   "execution_count": 105,
   "metadata": {},
   "outputs": [
    {
     "data": {
      "text/html": [
       "<div>\n",
       "<style scoped>\n",
       "    .dataframe tbody tr th:only-of-type {\n",
       "        vertical-align: middle;\n",
       "    }\n",
       "\n",
       "    .dataframe tbody tr th {\n",
       "        vertical-align: top;\n",
       "    }\n",
       "\n",
       "    .dataframe thead th {\n",
       "        text-align: right;\n",
       "    }\n",
       "</style>\n",
       "<table border=\"1\" class=\"dataframe\">\n",
       "  <thead>\n",
       "    <tr style=\"text-align: right;\">\n",
       "      <th></th>\n",
       "      <th>ad_gene_symbol</th>\n",
       "      <th>db_gene_symbol</th>\n",
       "      <th>db_orf_id</th>\n",
       "      <th>matching_DDI</th>\n",
       "    </tr>\n",
       "  </thead>\n",
       "  <tbody>\n",
       "    <tr>\n",
       "      <th>0</th>\n",
       "      <td>ATF2</td>\n",
       "      <td>ATF2</td>\n",
       "      <td>54731</td>\n",
       "      <td>((PF00170, PF00170), (PF00170, PF07716))</td>\n",
       "    </tr>\n",
       "    <tr>\n",
       "      <th>3</th>\n",
       "      <td>ATF2</td>\n",
       "      <td>FOSL2</td>\n",
       "      <td>12504</td>\n",
       "      <td>((PF00170, PF00170), (PF00170, PF07716))</td>\n",
       "    </tr>\n",
       "    <tr>\n",
       "      <th>4</th>\n",
       "      <td>ATF2</td>\n",
       "      <td>JDP2</td>\n",
       "      <td>13624</td>\n",
       "      <td>((PF00170, PF03131), (PF00170, PF00170), (PF00...</td>\n",
       "    </tr>\n",
       "    <tr>\n",
       "      <th>73</th>\n",
       "      <td>ATF2</td>\n",
       "      <td>MAPK9</td>\n",
       "      <td>10051</td>\n",
       "      <td>((PF00069, PF00096))</td>\n",
       "    </tr>\n",
       "    <tr>\n",
       "      <th>99</th>\n",
       "      <td>TP53</td>\n",
       "      <td>TRIM17</td>\n",
       "      <td>9881</td>\n",
       "      <td>NaN</td>\n",
       "    </tr>\n",
       "  </tbody>\n",
       "</table>\n",
       "</div>"
      ],
      "text/plain": [
       "   ad_gene_symbol db_gene_symbol  db_orf_id  \\\n",
       "0            ATF2           ATF2      54731   \n",
       "3            ATF2          FOSL2      12504   \n",
       "4            ATF2           JDP2      13624   \n",
       "73           ATF2          MAPK9      10051   \n",
       "99           TP53         TRIM17       9881   \n",
       "\n",
       "                                         matching_DDI  \n",
       "0            ((PF00170, PF00170), (PF00170, PF07716))  \n",
       "3            ((PF00170, PF00170), (PF00170, PF07716))  \n",
       "4   ((PF00170, PF03131), (PF00170, PF00170), (PF00...  \n",
       "73                               ((PF00069, PF00096))  \n",
       "99                                                NaN  "
      ]
     },
     "execution_count": 105,
     "metadata": {},
     "output_type": "execute_result"
    }
   ],
   "source": [
    "ggi = ppi.loc[:, ['ad_gene_symbol', 'db_gene_symbol', 'db_orf_id', 'matching_DDI']].drop_duplicates()\n",
    "ggi.head()"
   ]
  },
  {
   "cell_type": "code",
   "execution_count": 106,
   "metadata": {},
   "outputs": [],
   "source": [
    "# domain removal\n",
    "# for each alt iso, for each DDI, calc fraction of domain\n",
    "# removed and fraction of PPIs retained\n",
    "dom = pd.concat([g.aa_feature_disruption(g.cloned_reference_isoform.name) for g in tfs.values()])"
   ]
  },
  {
   "cell_type": "code",
   "execution_count": 107,
   "metadata": {},
   "outputs": [],
   "source": [
    "# filter and consolidate DDIs\n",
    "\n",
    "ddi_annot = pd.read_csv('../../data/internal/DDI_manual_annotation.tsv', sep='\\t')\n",
    "\n",
    "valid_ddi_pairs = {frozenset(p) for p in ddi_annot.loc[ddi_annot['to_use'], ['pfam_a', 'pfam_b']].values}\n",
    "def filter_ddi(pairs):\n",
    "    if pd.isnull(pairs):\n",
    "        return np.nan\n",
    "    passed = frozenset(p for p in pairs if frozenset(p) in valid_ddi_pairs)\n",
    "    if len(passed) == 0:\n",
    "        return np.nan\n",
    "    return passed\n",
    "\n",
    "ddi_to_merge = {\n",
    "    ('PF00170', 'PF07716'): ('PF00170', 'PF00170'),  # bZIP-bZIP\n",
    "    ('PF00170', 'PF03131'): ('PF00170', 'PF00170'),  # bZIP-bZIP\n",
    "    ('PF07716', 'PF07716'): ('PF00170', 'PF00170'),  # bZIP-bZIP\n",
    "    ('PF03131', 'PF03131'): ('PF00170', 'PF00170'),  # bZIP-bZIP\n",
    "    ('PF00046', 'PF05920'): ('PF00046',\t'PF00046'),  # homeobox-homeobox\n",
    "    ('PF05920', 'PF05920'): ('PF00046',\t'PF00046'),  # homeobox-homeobox\n",
    "    ('PF00989', 'PF14598'): ('PF00989', 'PF00989'),  # PAS-PAS\n",
    "    ('PF00989', 'PF08447'): ('PF00989', 'PF00989'),  # PAS-PAS\n",
    "    ('PF00989', 'PF13426'): ('PF00989', 'PF00989'),  # PAS-PAS\n",
    "    ('PF14598', 'PF14598'): ('PF00989', 'PF00989'),  # PAS-PAS\n",
    "    ('PF08447', 'PF14598'): ('PF00989', 'PF00989'),  # PAS-PAS\n",
    "    ('PF08447', 'PF08447'): ('PF00989', 'PF00989'),  # PAS-PAS\n",
    "}\n"
   ]
  },
  {
   "cell_type": "code",
   "execution_count": 108,
   "metadata": {},
   "outputs": [],
   "source": [
    "df = ppi.loc[ppi['matching_DDI'].notnull(), :].copy()\n",
    "ref_isos = {tf.cloned_reference_isoform.clone_acc for tf in tfs.values()}\n",
    "positive_in_ref = df.loc[df['ad_clone_acc'].isin(ref_isos) & \n",
    "                         (df['Y2H_result'] == True), 'gene_level_pair'].unique()\n",
    "df = df.loc[df['gene_level_pair'].isin(positive_in_ref) &\n",
    "            ~df['ad_clone_acc'].isin(ref_isos), :]\n",
    "df['matching_DDI'] = df['matching_DDI'].apply(filter_ddi)\n",
    "df['matching_DDI'] = df['matching_DDI'].apply(lambda x: frozenset(ddi_to_merge.get(tuple(sorted(p)), tuple(sorted(p))) for p in x) if pd.notnull(x) else x)\n",
    "df = df.loc[df['matching_DDI'].notnull(), :]"
   ]
  },
  {
   "cell_type": "code",
   "execution_count": 109,
   "metadata": {},
   "outputs": [],
   "source": [
    "merged_domains = {'PF07716': 'PF00170',  # bZIP\n",
    " 'PF03131': 'PF00170',  # bZIP\n",
    " 'PF05920': 'PF00046',  # homeobox\n",
    "'PF14598': 'PF00989',  # PAS\n",
    "'PF08447': 'PF00989',  # PAS\n",
    "'PF13426': 'PF00989',  # PAS\n",
    "}\n",
    "df['tf_domains'] = df['tf_domains'].apply(lambda x: {merged_domains.get(d, d) for d in x})\n",
    "dom['accession'] = dom['accession'].apply(lambda x: merged_domains.get(x, x))\n",
    "\n",
    "\n",
    "def pick_the_one_domain(row):\n",
    "    ddi_domains = {x for a, b in row['matching_DDI'] for x in [a, b]}\n",
    "    ds = {d for d in row['tf_domains'] if d in ddi_domains}\n",
    "    if len(ds) == 0:\n",
    "        print(row)\n",
    "        raise UserWarning('something wrong')\n",
    "    return ds\n",
    "\n",
    "df['tf_domains'] = df.apply(pick_the_one_domain, axis=1)\n",
    "\n",
    "def filter_for_domain_in_cloned_reference_isoform(row):\n",
    "    in_ref = {d.accession for d in tfs[row['ad_gene_symbol']].cloned_reference_isoform.aa_seq_features}\n",
    "    return {d for d in row['tf_domains'] if d in in_ref}\n",
    "\n",
    "\n",
    "df['tf_domains'] = df.apply(filter_for_domain_in_cloned_reference_isoform, axis=1)\n",
    "df = df.loc[df['tf_domains'].map(lambda x: len(x) > 0), :]\n",
    "\n",
    "def fraction_of_DDI_domains_removed(row):\n",
    "    ds = dom.loc[(dom['alt_iso'] == row['ad_iso_id']) \n",
    "                  & dom['accession'].isin(row['tf_domains']), :]\n",
    "    if ds.shape[0] == 0:\n",
    "        print(row)\n",
    "        raise UserWarning('something wrong')\n",
    "    return ds[['deletion', 'frameshift']].sum().sum() / ds['length'].sum()\n",
    "\n",
    "def insertion_in_DDI_domains(row):\n",
    "    ds = dom.loc[(dom['alt_iso'] == row['ad_iso_id']) \n",
    "                  & dom['accession'].isin(row['tf_domains']), :]\n",
    "    return ds['insertion'].sum()\n",
    "\n",
    "df['fraction_of_DDI_domains_removed'] = df.apply(fraction_of_DDI_domains_removed, axis=1)\n",
    "df['insertion_in_DDI_domains'] = df.apply(insertion_in_DDI_domains, axis=1)\n",
    "\n",
    "df['tf_domains'] = df['tf_domains'].apply(frozenset)"
   ]
  },
  {
   "cell_type": "code",
   "execution_count": 110,
   "metadata": {},
   "outputs": [
    {
     "name": "stderr",
     "output_type": "stream",
     "text": [
      "/PHShome/kz659/.conda/envs/py36/lib/python3.6/site-packages/ipykernel_launcher.py:8: SettingWithCopyWarning: \n",
      "A value is trying to be set on a copy of a slice from a DataFrame.\n",
      "Try using .loc[row_indexer,col_indexer] = value instead\n",
      "\n",
      "See the caveats in the documentation: https://pandas.pydata.org/pandas-docs/stable/user_guide/indexing.html#returning-a-view-versus-a-copy\n",
      "  \n"
     ]
    }
   ],
   "source": [
    "data = (df.loc[df['Y2H_result'].notnull(), :]\n",
    "          .groupby(['ad_iso_id', 'tf_domains'])\n",
    "          ['fraction_of_DDI_domains_removed']\n",
    "          .mean()\n",
    "          .to_frame())\n",
    "\n",
    "nonan = df.loc[df['Y2H_result'].notnull(), :]\n",
    "nonan['Y2H_result'] = nonan['Y2H_result'].astype(int)\n",
    "\n",
    "data['Y2H_result_mean'] = nonan.groupby(['ad_iso_id', 'tf_domains'])['Y2H_result'].mean()\n",
    "data['insertion_in_DDI_domains'] = nonan.groupby(['ad_iso_id', 'tf_domains'])['insertion_in_DDI_domains'].mean()\n"
   ]
  },
  {
   "cell_type": "code",
   "execution_count": 111,
   "metadata": {},
   "outputs": [],
   "source": [
    "# add distance from domain\n",
    "# TODO move to isolib\n",
    "def n_aa_change_from_feature(gene, ref_iso_name, alt_iso_name, domain_start, domain_end):\n",
    "    algn = gene.pairwise_changes_relative_to_reference(ref_iso_name, alt_iso_name)\n",
    "\n",
    "    def _coords_transform_aa_seq_to_alignment(i, alignment):\n",
    "        if i > len(alignment.replace(\"I\", \"\")):\n",
    "            raise ValueError(\"position is not in isoform AA sequence\")\n",
    "        aa_seq_indices = [\n",
    "            \"\" if c == \"I\" else len(alignment[:j].replace(\"I\", \"\"))\n",
    "            for j, c in enumerate(alignment)\n",
    "        ]\n",
    "        return aa_seq_indices.index(i)\n",
    "    \n",
    "    start = _coords_transform_aa_seq_to_alignment(domain_start, algn)\n",
    "    end = _coords_transform_aa_seq_to_alignment(domain_end - 1, algn) + 1\n",
    "\n",
    "    if not all(x == 'M' for x in algn[start:end]):\n",
    "        return 0  # change is within the domain\n",
    "    \n",
    "    big_number = 9999999999999999999999999\n",
    "    c_dist = big_number\n",
    "    n_dist = big_number\n",
    "    for i, l in enumerate(reversed(algn[:start])):\n",
    "        if l != 'M':\n",
    "            c_dist = i + 1\n",
    "            break\n",
    "    for i, l in enumerate(algn[end:]):\n",
    "        if l != 'M':\n",
    "            n_dist = i + 1\n",
    "            break\n",
    "    if c_dist == big_number and n_dist == big_number:\n",
    "        raise UserWarning('problem calculating distance')\n",
    "    return min([c_dist, n_dist])\n",
    "\n",
    "\n",
    "def n_aa_to_all_features(self, ref_iso_name):\n",
    "    results = []\n",
    "    ref_iso = self._iso_dict[ref_iso_name]\n",
    "    row = {\"gene\": self.name, \"ref_iso\": ref_iso_name}\n",
    "    for aa_feature in ref_iso.aa_seq_features:\n",
    "        for alt_iso_name, alt_iso in self._iso_dict.items():\n",
    "            if alt_iso_name == ref_iso_name:\n",
    "                continue\n",
    "            row.update(\n",
    "                {\n",
    "                    \"alt_iso\": alt_iso_name,\n",
    "                    \"accession\": aa_feature.accession,\n",
    "                    \"category\": aa_feature.category,\n",
    "                    \"start_in_ref_iso\": aa_feature.start,\n",
    "                    \"end_in_ref_iso\": aa_feature.end,\n",
    "                    \"length\": aa_feature.end - aa_feature.start,\n",
    "                }\n",
    "            )\n",
    "            row.update({\"n_aa_change_to_domain\": n_aa_change_from_feature(self, ref_iso_name, alt_iso_name, aa_feature.start, aa_feature.end)})\n",
    "            results.append(row.copy())\n",
    "    results = pd.DataFrame(results)\n",
    "    return results\n",
    "\n",
    "dist = pd.concat([n_aa_to_all_features(g, g.cloned_reference_isoform.name) for g in tfs.values()])\n",
    "\n",
    "def get_dist(row):\n",
    "    alt_iso, dom_accessions = row.name\n",
    "    return dist.loc[(dist['alt_iso'] == alt_iso) & (dist['accession'].isin(dom_accessions)),\n",
    "                    'n_aa_change_to_domain'].min()\n",
    "\n",
    "data['domain_n_aa_to_change'] = data.apply(get_dist, axis=1)"
   ]
  },
  {
   "cell_type": "code",
   "execution_count": 112,
   "metadata": {},
   "outputs": [
    {
     "name": "stderr",
     "output_type": "stream",
     "text": [
      "/PHShome/kz659/.conda/envs/py36/lib/python3.6/site-packages/seaborn/categorical.py:1296: UserWarning: 37.5% of the points cannot be placed; you may want to decrease the size of the markers or use stripplot.\n",
      "  warnings.warn(msg, UserWarning)\n"
     ]
    },
    {
     "data": {
      "image/png": "[encoded data removed]",
      "text/plain": [
       "<Figure size 288x108 with 3 Axes>"
      ]
     },
     "metadata": {},
     "output_type": "display_data"
    }
   ],
   "source": [
    "COLOR_PURPLE = (155 / 255, 97 / 255, 153 / 255)\n",
    "\n",
    "\n",
    "gs_kw = dict(width_ratios=[1, 0.9, 1.9])\n",
    "\n",
    "fig, axs = plt.subplots(1, 3, sharey=True, gridspec_kw=gs_kw)\n",
    "fig.set_size_inches(w=4, h=1.5)\n",
    "\n",
    "point_size = 6\n",
    "\n",
    "axs[0].set_title('Full loss\\nof domain',\n",
    "fontsize=PAPER_FONTSIZE)\n",
    "sns.swarmplot(data=data.loc[data['fraction_of_DDI_domains_removed'] == 1, :],\n",
    "              y='Y2H_result_mean', \n",
    "              x='fraction_of_DDI_domains_removed',\n",
    "              size=point_size,\n",
    "         #     order=[\n",
    "         #            'Full loss\\nof DBD',\n",
    "         #            ],\n",
    "            clip_on=False,\n",
    "              ax=axs[0],\n",
    "              color=COLOR_PURPLE,\n",
    "              edgecolor='black',\n",
    "              linewidth=1,\n",
    "              alpha=1)\n",
    "\n",
    "axs[1].set_title('Partial loss\\nof domain',\n",
    "fontsize=PAPER_FONTSIZE)\n",
    "partial_loss = (data['fraction_of_DDI_domains_removed'] > 0) & (data['fraction_of_DDI_domains_removed'] < 1)\n",
    "axs[1].scatter(data.loc[partial_loss, 'fraction_of_DDI_domains_removed'].values,\n",
    "               data.loc[partial_loss, 'Y2H_result_mean'].values,\n",
    "           alpha=1,\n",
    "           s=point_size**2,  \n",
    "            color=COLOR_PURPLE,\n",
    "               edgecolor='black',\n",
    "               linewidth=1,\n",
    "           clip_on=False)\n",
    "axs[1].set_xlabel('Proportion missing')\n",
    "axs[1].set_xlim(1, 0)\n",
    "axs[1].set_xticks([0.99, 0.5, 0.01])\n",
    "axs[1].set_xticklabels([f'{x:.0%}' for x in axs[1].get_xticks()])\n",
    "#axs[1].set_xticks(range(10, 91, 10), minor=True)\n",
    "\n",
    "\n",
    "\n",
    "axs[2].set_title('Full domain in\\nalternative isoform', fontsize=PAPER_FONTSIZE)\n",
    "axs[2].scatter(data.loc[(data['fraction_of_DDI_domains_removed'] == 0), 'domain_n_aa_to_change'].values,\n",
    "               data.loc[(data['fraction_of_DDI_domains_removed'] == 0), 'Y2H_result_mean'].values,\n",
    "           alpha=1,\n",
    "           s=point_size**2,\n",
    "            color=COLOR_PURPLE,\n",
    "               edgecolor='black',\n",
    "               linewidth=1,\n",
    "           clip_on=False)\n",
    "axs[2].set_xlabel('Distance of alternative\\nsequence from domain\\n(number of AA)')\n",
    "\n",
    "for ax in axs:\n",
    "    ax.spines['right'].set_visible(False)\n",
    "    ax.spines['top'].set_visible(False)\n",
    "    ax.set_ylim(0, 1)\n",
    "for ax in axs[1:]:\n",
    "    ax.spines['left'].set_visible(False)\n",
    "    ax.yaxis.set_tick_params(which='both', length=0)\n",
    "for i in [0]:\n",
    "    axs[i].set_xlabel('')\n",
    "    axs[i].set_ylabel('')\n",
    "    axs[i].spines['bottom'].set_visible(False)\n",
    "    axs[i].xaxis.set_tick_params(length=0)\n",
    "    axs[i].set_xticks([])\n",
    "axs[0].set_yticks([0, 0.25, 0.5, 0.75, 1])\n",
    "axs[0].set_yticks(np.linspace(0, 1, 21), minor=True)\n",
    "axs[0].set_yticklabels(['{:.0%}'.format(y) for y in axs[0].get_yticks()])\n",
    "axs[0].set_ylabel('Fraction of domain-domain mediated\\nPPIs with alternative isoform')\n",
    "fig.savefig('../../figures/fig4/PPI_vs_domain_removal.pdf', bbox_inches='tight')"
   ]
  },
  {
   "cell_type": "markdown",
   "metadata": {},
   "source": [
    "## 11. isoform example vignettes"
   ]
  },
  {
   "cell_type": "code",
   "execution_count": 113,
   "metadata": {},
   "outputs": [
    {
     "name": "stdout",
     "output_type": "stream",
     "text": [
      "reading from cache\n"
     ]
    }
   ],
   "source": [
    "# reload data since we edited dfs above\n",
    "y2h = load_y2h_isoform_data()\n",
    "y1h = load_y1h_pdi_data(add_missing_data=True)\n",
    "m1h = load_m1h_activation_data(add_missing_data=True)\n",
    "#isoforms = load_valid_isoform_clones()\n",
    "# y2h = y2h.loc[y2h['ad_clone_acc'].isin(isoforms['clone_acc']).values, :]\n",
    "# y1h = y1h.loc[y1h['clone_acc'].isin(isoforms['clone_acc']).values, :]\n",
    "# m1h = m1h.loc[m1h['clone_acc'].isin(isoforms['clone_acc'].values), :]\n",
    "\n",
    "tfs = load_annotated_TFiso1_collection()"
   ]
  },
  {
   "cell_type": "markdown",
   "metadata": {},
   "source": [
    "### RFX3"
   ]
  },
  {
   "cell_type": "code",
   "execution_count": 114,
   "metadata": {},
   "outputs": [],
   "source": [
    "gene_name = \"RFX3\""
   ]
  },
  {
   "cell_type": "code",
   "execution_count": 115,
   "metadata": {},
   "outputs": [
    {
     "data": {
      "image/png": "[encoded data removed]",
      "text/plain": [
       "<Figure size 72x57.6 with 1 Axes>"
      ]
     },
     "metadata": {},
     "output_type": "display_data"
    }
   ],
   "source": [
    "fig, ax = plt.subplots(1, 1, figsize=(1, 0.8))\n",
    "\n",
    "df = m1h_activation_per_tf_gene_plot(gene_name, data=m1h, ax=ax, xlim=(0, 6))\n",
    "plt.savefig('../../figures/fig4/{}_m1h-profile.pdf'.format(gene_name), bbox_inches='tight')"
   ]
  },
  {
   "cell_type": "code",
   "execution_count": 116,
   "metadata": {},
   "outputs": [
    {
     "data": {
      "image/png": "[encoded data removed]",
      "text/plain": [
       "<Figure size 360x72 with 1 Axes>"
      ]
     },
     "metadata": {},
     "output_type": "display_data"
    }
   ],
   "source": [
    "fig, ax = plt.subplots(figsize=(5, 1))\n",
    "\n",
    "tfs[gene_name].exon_diagram(ax=ax)\n",
    "fig.savefig(\"../../figures/fig4/{}_exon_diagram.pdf\".format(gene_name), bbox_inches=\"tight\", dpi=\"figure\")"
   ]
  },
  {
   "cell_type": "code",
   "execution_count": 117,
   "metadata": {
    "scrolled": true
   },
   "outputs": [
    {
     "data": {
      "image/png": "[encoded data removed]",
      "text/plain": [
       "<Figure size 360x72 with 3 Axes>"
      ]
     },
     "metadata": {},
     "output_type": "display_data"
    }
   ],
   "source": [
    "fig, ax = plt.subplots(figsize=(5, 1))\n",
    "\n",
    "tfs[gene_name].protein_diagram(only_cloned_isoforms=True, draw_legend=False, ax=ax)\n",
    "fig.savefig(\"../../figures/fig4/{}_protein_diagram.pdf\".format(gene_name), bbox_inches=\"tight\", dpi=\"figure\")"
   ]
  },
  {
   "cell_type": "code",
   "execution_count": 118,
   "metadata": {},
   "outputs": [
    {
     "data": {
      "image/png": "[encoded data removed]",
      "text/plain": [
       "<Figure size 360x72 with 3 Axes>"
      ]
     },
     "metadata": {},
     "output_type": "display_data"
    }
   ],
   "source": [
    "fig, ax = plt.subplots(figsize=(5, 1))\n",
    "\n",
    "tfs[gene_name].protein_diagram(only_cloned_isoforms=True, draw_legend=False, ax=ax)\n",
    "fig.savefig(\"../../figures/fig4/{}_protein_diagram.pdf\".format(gene_name), bbox_inches=\"tight\", dpi=\"figure\")"
   ]
  },
  {
   "cell_type": "markdown",
   "metadata": {},
   "source": [
    "### PBX1"
   ]
  },
  {
   "cell_type": "code",
   "execution_count": 119,
   "metadata": {},
   "outputs": [],
   "source": [
    "gene_name = \"PBX1\""
   ]
  },
  {
   "cell_type": "code",
   "execution_count": 120,
   "metadata": {},
   "outputs": [
    {
     "data": {
      "image/png": "[encoded data removed]",
      "text/plain": [
       "<Figure size 144x144 with 1 Axes>"
      ]
     },
     "metadata": {},
     "output_type": "display_data"
    }
   ],
   "source": [
    "tf = tfs[gene_name]\n",
    "fig, ax = plt.subplots(1, 1, figsize=(2, 2))\n",
    "y2h_ppi_per_tf_gene_plot(tf.name, ax=ax, data=y2h)\n",
    "plt.savefig('../../figures/fig4/{}_y2h-profile.pdf'.format(gene_name), bbox_inches='tight')"
   ]
  },
  {
   "cell_type": "code",
   "execution_count": 121,
   "metadata": {},
   "outputs": [
    {
     "data": {
      "text/html": [
       "<div>\n",
       "<style scoped>\n",
       "    .dataframe tbody tr th:only-of-type {\n",
       "        vertical-align: middle;\n",
       "    }\n",
       "\n",
       "    .dataframe tbody tr th {\n",
       "        vertical-align: top;\n",
       "    }\n",
       "\n",
       "    .dataframe thead th {\n",
       "        text-align: right;\n",
       "    }\n",
       "</style>\n",
       "<table border=\"1\" class=\"dataframe\">\n",
       "  <thead>\n",
       "    <tr style=\"text-align: right;\">\n",
       "      <th></th>\n",
       "      <th>gene_symbol_partner</th>\n",
       "      <th>category</th>\n",
       "      <th>cofactor_type</th>\n",
       "    </tr>\n",
       "  </thead>\n",
       "  <tbody>\n",
       "    <tr>\n",
       "      <th>13</th>\n",
       "      <td>PIN1</td>\n",
       "      <td>TF</td>\n",
       "      <td>NaN</td>\n",
       "    </tr>\n",
       "    <tr>\n",
       "      <th>318</th>\n",
       "      <td>TMF1</td>\n",
       "      <td>TF</td>\n",
       "      <td>NaN</td>\n",
       "    </tr>\n",
       "  </tbody>\n",
       "</table>\n",
       "</div>"
      ],
      "text/plain": [
       "    gene_symbol_partner category cofactor_type\n",
       "13                 PIN1       TF           NaN\n",
       "318                TMF1       TF           NaN"
      ]
     },
     "execution_count": 121,
     "metadata": {},
     "output_type": "execute_result"
    }
   ],
   "source": [
    "cats_y2h[cats_y2h[\"gene_symbol_partner\"].isin([\"PIN1\", \"TMF1\"])]"
   ]
  },
  {
   "cell_type": "code",
   "execution_count": 122,
   "metadata": {},
   "outputs": [
    {
     "data": {
      "text/html": [
       "<div>\n",
       "<style scoped>\n",
       "    .dataframe tbody tr th:only-of-type {\n",
       "        vertical-align: middle;\n",
       "    }\n",
       "\n",
       "    .dataframe tbody tr th {\n",
       "        vertical-align: top;\n",
       "    }\n",
       "\n",
       "    .dataframe thead th {\n",
       "        text-align: right;\n",
       "    }\n",
       "</style>\n",
       "<table border=\"1\" class=\"dataframe\">\n",
       "  <thead>\n",
       "    <tr style=\"text-align: right;\">\n",
       "      <th></th>\n",
       "      <th>gene_symbol</th>\n",
       "      <th>Ensembl_gene_ID</th>\n",
       "      <th>family</th>\n",
       "      <th>is_dimerizing_TF_family</th>\n",
       "      <th>clone_acc_ref</th>\n",
       "      <th>clone_acc_alt</th>\n",
       "      <th>Ensembl_transcript_IDs_ref</th>\n",
       "      <th>Ensembl_transcript_IDs_alt</th>\n",
       "      <th>is_ref_novel_isoform</th>\n",
       "      <th>is_alt_novel_isoform</th>\n",
       "      <th>...</th>\n",
       "      <th>n_positive_PPI_ref_other_HEK</th>\n",
       "      <th>n_positive_PPI_alt_other_HEK</th>\n",
       "      <th>n_PPI_successfully_tested_in_ref_and_alt_other_HEK</th>\n",
       "      <th>n_positive_PPI_ref_filtered_other_HEK</th>\n",
       "      <th>n_positive_PPI_alt_filtered_other_HEK</th>\n",
       "      <th>n_shared_PPI_other_HEK</th>\n",
       "      <th>n_PPI_diff_other_HEK</th>\n",
       "      <th>PPI_delta_n_other_HEK</th>\n",
       "      <th>PPI_jaccard_other_HEK</th>\n",
       "      <th>activation_abs_fold_change</th>\n",
       "    </tr>\n",
       "  </thead>\n",
       "  <tbody>\n",
       "    <tr>\n",
       "      <th>20</th>\n",
       "      <td>PBX1</td>\n",
       "      <td>ENSG00000185630</td>\n",
       "      <td>Homeodomain</td>\n",
       "      <td>False</td>\n",
       "      <td>PBX1|1/2|02A05</td>\n",
       "      <td>PBX1|2/2|02C05</td>\n",
       "      <td>ENST00000420696</td>\n",
       "      <td>ENST00000367897</td>\n",
       "      <td>False</td>\n",
       "      <td>False</td>\n",
       "      <td>...</td>\n",
       "      <td>1.0</td>\n",
       "      <td>1.0</td>\n",
       "      <td>1.0</td>\n",
       "      <td>1.0</td>\n",
       "      <td>1.0</td>\n",
       "      <td>1.0</td>\n",
       "      <td>0.0</td>\n",
       "      <td>0.0</td>\n",
       "      <td>1.0</td>\n",
       "      <td>1.099522</td>\n",
       "    </tr>\n",
       "  </tbody>\n",
       "</table>\n",
       "<p>1 rows × 168 columns</p>\n",
       "</div>"
      ],
      "text/plain": [
       "   gene_symbol  Ensembl_gene_ID       family  is_dimerizing_TF_family  \\\n",
       "20        PBX1  ENSG00000185630  Homeodomain                    False   \n",
       "\n",
       "     clone_acc_ref   clone_acc_alt Ensembl_transcript_IDs_ref  \\\n",
       "20  PBX1|1/2|02A05  PBX1|2/2|02C05            ENST00000420696   \n",
       "\n",
       "   Ensembl_transcript_IDs_alt  is_ref_novel_isoform  is_alt_novel_isoform  \\\n",
       "20            ENST00000367897                 False                 False   \n",
       "\n",
       "    ... n_positive_PPI_ref_other_HEK  n_positive_PPI_alt_other_HEK  \\\n",
       "20  ...                          1.0                           1.0   \n",
       "\n",
       "    n_PPI_successfully_tested_in_ref_and_alt_other_HEK  \\\n",
       "20                                                1.0    \n",
       "\n",
       "    n_positive_PPI_ref_filtered_other_HEK  \\\n",
       "20                                    1.0   \n",
       "\n",
       "    n_positive_PPI_alt_filtered_other_HEK  n_shared_PPI_other_HEK  \\\n",
       "20                                    1.0                     1.0   \n",
       "\n",
       "    n_PPI_diff_other_HEK  PPI_delta_n_other_HEK  PPI_jaccard_other_HEK  \\\n",
       "20                   0.0                    0.0                    1.0   \n",
       "\n",
       "    activation_abs_fold_change  \n",
       "20                    1.099522  \n",
       "\n",
       "[1 rows x 168 columns]"
      ]
     },
     "execution_count": 122,
     "metadata": {},
     "output_type": "execute_result"
    }
   ],
   "source": [
    "pairs[pairs[\"gene_symbol\"] == \"PBX1\"]"
   ]
  },
  {
   "cell_type": "code",
   "execution_count": 123,
   "metadata": {},
   "outputs": [
    {
     "data": {
      "image/png": "[encoded data removed]",
      "text/plain": [
       "<Figure size 144x36 with 1 Axes>"
      ]
     },
     "metadata": {},
     "output_type": "display_data"
    }
   ],
   "source": [
    "fig, ax = plt.subplots(1, 1, figsize=(2, 0.5))\n",
    "\n",
    "df = m1h_activation_per_tf_gene_plot(gene_name, data=m1h, ax=ax, xlim=(-0.1, 3))\n",
    "plt.savefig('../../figures/fig4/{}_m1h-profile.pdf'.format(gene_name), bbox_inches='tight')"
   ]
  },
  {
   "cell_type": "code",
   "execution_count": 124,
   "metadata": {},
   "outputs": [
    {
     "data": {
      "image/png": "[encoded data removed]",
      "text/plain": [
       "<Figure size 360x144 with 1 Axes>"
      ]
     },
     "metadata": {},
     "output_type": "display_data"
    }
   ],
   "source": [
    "fig, ax = plt.subplots(figsize=(5, 2))\n",
    "\n",
    "tfs[gene_name].exon_diagram(ax=ax)\n",
    "fig.savefig(\"../../figures/fig4/{}_exon_diagram.pdf\".format(gene_name), bbox_inches=\"tight\", dpi=\"figure\")"
   ]
  },
  {
   "cell_type": "code",
   "execution_count": 125,
   "metadata": {
    "scrolled": true
   },
   "outputs": [
    {
     "data": {
      "image/png": "[encoded data removed]",
      "text/plain": [
       "<Figure size 360x72 with 2 Axes>"
      ]
     },
     "metadata": {},
     "output_type": "display_data"
    }
   ],
   "source": [
    "fig, ax = plt.subplots(figsize=(5, 1))\n",
    "\n",
    "tfs[gene_name].protein_diagram(only_cloned_isoforms=True, draw_legend=False, ax=ax)\n",
    "fig.savefig(\"../../figures/fig4/{}_protein_diagram.pdf\".format(gene_name), bbox_inches=\"tight\", dpi=\"figure\")"
   ]
  },
  {
   "cell_type": "markdown",
   "metadata": {},
   "source": [
    "### CREB5"
   ]
  },
  {
   "cell_type": "code",
   "execution_count": 126,
   "metadata": {},
   "outputs": [],
   "source": [
    "gene_name = \"CREB5\""
   ]
  },
  {
   "cell_type": "code",
   "execution_count": 127,
   "metadata": {},
   "outputs": [
    {
     "data": {
      "image/png": "[encoded data removed]",
      "text/plain": [
       "<Figure size 57.6x57.6 with 1 Axes>"
      ]
     },
     "metadata": {},
     "output_type": "display_data"
    }
   ],
   "source": [
    "tf = tfs[gene_name]\n",
    "fig, ax = plt.subplots(1, 1, figsize=(0.8, 0.8))\n",
    "y2h_ppi_per_tf_gene_plot(tf.name, ax=ax, data=y2h)\n",
    "plt.savefig('../../figures/fig4/{}_y2h-profile.pdf'.format(gene_name), bbox_inches='tight')"
   ]
  },
  {
   "cell_type": "code",
   "execution_count": 128,
   "metadata": {},
   "outputs": [
    {
     "data": {
      "image/png": "[encoded data removed]",
      "text/plain": [
       "<Figure size 144x43.2 with 1 Axes>"
      ]
     },
     "metadata": {},
     "output_type": "display_data"
    }
   ],
   "source": [
    "fig, ax = plt.subplots(1, 1, figsize=(2, 0.6))\n",
    "\n",
    "df = m1h_activation_per_tf_gene_plot(gene_name, data=m1h, ax=ax, xlim=(-2.2, 2.2))\n",
    "plt.savefig('../../figures/fig4/{}_m1h-profile.pdf'.format(gene_name), bbox_inches='tight')"
   ]
  },
  {
   "cell_type": "code",
   "execution_count": 129,
   "metadata": {},
   "outputs": [
    {
     "data": {
      "image/png": "[encoded data removed]",
      "text/plain": [
       "<Figure size 360x72 with 1 Axes>"
      ]
     },
     "metadata": {},
     "output_type": "display_data"
    }
   ],
   "source": [
    "fig, ax = plt.subplots(figsize=(5, 1))\n",
    "\n",
    "tfs[gene_name].exon_diagram(ax=ax)\n",
    "fig.savefig(\"../../figures/fig4/{}_exon_diagram.pdf\".format(gene_name), bbox_inches=\"tight\", dpi=\"figure\")"
   ]
  },
  {
   "cell_type": "code",
   "execution_count": 130,
   "metadata": {},
   "outputs": [
    {
     "data": {
      "image/png": "[encoded data removed]",
      "text/plain": [
       "<Figure size 360x50.4 with 2 Axes>"
      ]
     },
     "metadata": {},
     "output_type": "display_data"
    }
   ],
   "source": [
    "fig, ax = plt.subplots(figsize=(5, 0.7))\n",
    "\n",
    "tfs[gene_name].protein_diagram(only_cloned_isoforms=True, draw_legend=False, ax=ax)\n",
    "fig.savefig(\"../../figures/fig4/{}_protein_diagram.pdf\".format(gene_name), bbox_inches=\"tight\", dpi=\"figure\")"
   ]
  },
  {
   "cell_type": "code",
   "execution_count": 131,
   "metadata": {},
   "outputs": [
    {
     "data": {
      "text/plain": [
       "[Exon of CREB5|1/3|08E11 54 nt,\n",
       " Exon of CREB5|1/3|08E11 94 nt,\n",
       " Exon of CREB5|1/3|08E11 122 nt,\n",
       " Exon of CREB5|1/3|08E11 173 nt,\n",
       " Exon of CREB5|1/3|08E11 127 nt,\n",
       " Exon of CREB5|1/3|08E11 111 nt,\n",
       " Exon of CREB5|1/3|08E11 324 nt,\n",
       " Exon of CREB5|1/3|08E11 228 nt,\n",
       " Exon of CREB5|1/3|08E11 109 nt,\n",
       " Exon of CREB5|1/3|08E11 161 nt]"
      ]
     },
     "execution_count": 131,
     "metadata": {},
     "output_type": "execute_result"
    }
   ],
   "source": [
    "tfs[\"CREB5\"][\"CREB5-204\"].exons"
   ]
  },
  {
   "cell_type": "code",
   "execution_count": 132,
   "metadata": {},
   "outputs": [
    {
     "data": {
      "text/plain": [
       "Clone acc: CREB5|2/3|08A12\n",
       "Isoform: CREB5-202 / ENSP00000379592 / ENST00000396298\n",
       "length: 369 aa"
      ]
     },
     "execution_count": 132,
     "metadata": {},
     "output_type": "execute_result"
    }
   ],
   "source": [
    "tfs[\"CREB5\"][\"CREB5-202\"]"
   ]
  },
  {
   "cell_type": "markdown",
   "metadata": {},
   "source": [
    "### DLX1"
   ]
  },
  {
   "cell_type": "code",
   "execution_count": 133,
   "metadata": {},
   "outputs": [
    {
     "data": {
      "image/png": "[encoded data removed]",
      "text/plain": [
       "<Figure size 216x43.2 with 1 Axes>"
      ]
     },
     "metadata": {},
     "output_type": "display_data"
    }
   ],
   "source": [
    "gene_name = \"DLX1\"\n",
    "fig, ax = plt.subplots(figsize=(3, 0.6))\n",
    "\n",
    "tfs[gene_name].exon_diagram(ax=ax)\n",
    "fig.savefig(\"../../figures/fig4/{}_exon_diagram.pdf\".format(gene_name), bbox_inches=\"tight\", dpi=\"figure\")"
   ]
  },
  {
   "cell_type": "code",
   "execution_count": 134,
   "metadata": {},
   "outputs": [
    {
     "data": {
      "image/png": "[encoded data removed]",
      "text/plain": [
       "<Figure size 360x50.4 with 2 Axes>"
      ]
     },
     "metadata": {},
     "output_type": "display_data"
    }
   ],
   "source": [
    "fig, ax = plt.subplots(figsize=(5, 0.7))\n",
    "\n",
    "tfs[gene_name].protein_diagram(only_cloned_isoforms=True, draw_legend=False, ax=ax)\n",
    "fig.savefig(\"../../figures/fig4/{}_protein_diagram.pdf\".format(gene_name), bbox_inches=\"tight\", dpi=\"figure\")"
   ]
  },
  {
   "cell_type": "code",
   "execution_count": 135,
   "metadata": {},
   "outputs": [
    {
     "data": {
      "image/png": "[encoded data removed]",
      "text/plain": [
       "<Figure size 72x36 with 1 Axes>"
      ]
     },
     "metadata": {},
     "output_type": "display_data"
    }
   ],
   "source": [
    "fig, ax = plt.subplots(1, 1, figsize=(1, 0.5))\n",
    "\n",
    "df = m1h_activation_per_tf_gene_plot(gene_name, data=m1h, ax=ax, xlim=(0, 4.2))\n",
    "plt.savefig('../../figures/fig4/{}_m1h-profile.pdf'.format(gene_name), bbox_inches='tight')"
   ]
  },
  {
   "cell_type": "markdown",
   "metadata": {},
   "source": [
    "### ATF2"
   ]
  },
  {
   "cell_type": "code",
   "execution_count": 136,
   "metadata": {},
   "outputs": [],
   "source": [
    "gene_name = \"ATF2\""
   ]
  },
  {
   "cell_type": "code",
   "execution_count": 137,
   "metadata": {},
   "outputs": [
    {
     "data": {
      "image/png": "[encoded data removed]",
      "text/plain": [
       "<Figure size 90x90 with 1 Axes>"
      ]
     },
     "metadata": {},
     "output_type": "display_data"
    }
   ],
   "source": [
    "tf = tfs[gene_name]\n",
    "fig, ax = plt.subplots(1, 1, figsize=(1.25, 1.25))\n",
    "y2h_ppi_per_tf_gene_plot(tf.name, ax=ax, data=y2h)\n",
    "plt.savefig('../../figures/fig4/{}_y2h-profile.pdf'.format(gene_name), bbox_inches='tight')"
   ]
  },
  {
   "cell_type": "code",
   "execution_count": 138,
   "metadata": {},
   "outputs": [
    {
     "data": {
      "image/png": "[encoded data removed]",
      "text/plain": [
       "<Figure size 432x144 with 1 Axes>"
      ]
     },
     "metadata": {},
     "output_type": "display_data"
    }
   ],
   "source": [
    "fig, ax = plt.subplots(figsize=(6, 2))\n",
    "\n",
    "tfs[gene_name].exon_diagram(ax=ax)\n",
    "fig.savefig(\"../../figures/fig4/{}_exon_diagram.pdf\".format(gene_name), bbox_inches=\"tight\", dpi=\"figure\")"
   ]
  },
  {
   "cell_type": "code",
   "execution_count": 139,
   "metadata": {},
   "outputs": [
    {
     "data": {
      "image/png": "[encoded data removed]",
      "text/plain": [
       "<Figure size 432x144 with 6 Axes>"
      ]
     },
     "metadata": {},
     "output_type": "display_data"
    }
   ],
   "source": [
    "fig, ax = plt.subplots(figsize=(6, 2))\n",
    "\n",
    "tfs[gene_name].protein_diagram(only_cloned_isoforms=True, draw_legend=False, ax=ax)\n",
    "fig.savefig(\"../../figures/fig4/{}_protein_diagram.pdf\".format(gene_name), bbox_inches=\"tight\", dpi=\"figure\")"
   ]
  },
  {
   "cell_type": "markdown",
   "metadata": {},
   "source": [
    "### TBX5"
   ]
  },
  {
   "cell_type": "code",
   "execution_count": 140,
   "metadata": {},
   "outputs": [],
   "source": [
    "gene_name = \"TBX5\""
   ]
  },
  {
   "cell_type": "code",
   "execution_count": 141,
   "metadata": {},
   "outputs": [
    {
     "data": {
      "image/png": "[encoded data removed]",
      "text/plain": [
       "<Figure size 288x72 with 1 Axes>"
      ]
     },
     "metadata": {},
     "output_type": "display_data"
    }
   ],
   "source": [
    "fig, ax = plt.subplots(figsize=(4, 1))\n",
    "\n",
    "tfs[gene_name].exon_diagram(ax=ax)\n",
    "fig.savefig(\"../../figures/fig4/{}_exon_diagram.pdf\".format(gene_name), bbox_inches=\"tight\", dpi=\"figure\")"
   ]
  },
  {
   "cell_type": "code",
   "execution_count": 142,
   "metadata": {},
   "outputs": [
    {
     "data": {
      "image/png": "[encoded data removed]",
      "text/plain": [
       "<Figure size 72x43.2 with 1 Axes>"
      ]
     },
     "metadata": {},
     "output_type": "display_data"
    }
   ],
   "source": [
    "fig, ax = plt.subplots(1, 1, figsize=(1, 0.6))\n",
    "\n",
    "df = m1h_activation_per_tf_gene_plot(gene_name, data=m1h, ax=ax, xlim=(-0.5, 4.1))\n",
    "plt.savefig('../../figures/fig4/{}_m1h-profile.pdf'.format(gene_name), bbox_inches='tight')"
   ]
  },
  {
   "cell_type": "markdown",
   "metadata": {},
   "source": [
    "### TGIF1"
   ]
  },
  {
   "cell_type": "code",
   "execution_count": 143,
   "metadata": {},
   "outputs": [],
   "source": [
    "gene_name = \"TGIF1\""
   ]
  },
  {
   "cell_type": "code",
   "execution_count": 144,
   "metadata": {},
   "outputs": [
    {
     "data": {
      "image/png": "[encoded data removed]",
      "text/plain": [
       "<Figure size 288x108 with 1 Axes>"
      ]
     },
     "metadata": {},
     "output_type": "display_data"
    }
   ],
   "source": [
    "fig, ax = plt.subplots(figsize=(4, 1.5))\n",
    "\n",
    "tfs[gene_name].exon_diagram(ax=ax)\n",
    "fig.savefig(\"../../figures/fig4/{}_exon_diagram.pdf\".format(gene_name), bbox_inches=\"tight\", dpi=\"figure\")"
   ]
  },
  {
   "cell_type": "code",
   "execution_count": 145,
   "metadata": {},
   "outputs": [
    {
     "data": {
      "image/png": "[encoded data removed]",
      "text/plain": [
       "<Figure size 288x72 with 3 Axes>"
      ]
     },
     "metadata": {},
     "output_type": "display_data"
    }
   ],
   "source": [
    "fig, ax = plt.subplots(figsize=(4, 1))\n",
    "\n",
    "tfs[gene_name].protein_diagram(only_cloned_isoforms=True, draw_legend=False, ax=ax)\n",
    "fig.savefig(\"../../figures/fig4/{}_protein_diagram.pdf\".format(gene_name), bbox_inches=\"tight\", dpi=\"figure\")"
   ]
  },
  {
   "cell_type": "code",
   "execution_count": 146,
   "metadata": {},
   "outputs": [
    {
     "data": {
      "image/png": "[encoded data removed]",
      "text/plain": [
       "<Figure size 144x43.2 with 1 Axes>"
      ]
     },
     "metadata": {},
     "output_type": "display_data"
    }
   ],
   "source": [
    "fig, ax = plt.subplots(1, 1, figsize=(2, 0.6))\n",
    "\n",
    "df = m1h_activation_per_tf_gene_plot(gene_name, data=m1h, ax=ax, xlim=(0, 4.1))\n",
    "plt.savefig('../../figures/fig4/{}_m1h-profile.pdf'.format(gene_name), bbox_inches='tight')"
   ]
  },
  {
   "cell_type": "markdown",
   "metadata": {},
   "source": [
    "### E2F3"
   ]
  },
  {
   "cell_type": "code",
   "execution_count": 147,
   "metadata": {},
   "outputs": [],
   "source": [
    "gene_name = \"E2F3\""
   ]
  },
  {
   "cell_type": "code",
   "execution_count": 148,
   "metadata": {},
   "outputs": [
    {
     "data": {
      "image/png": "[encoded data removed]",
      "text/plain": [
       "<Figure size 288x108 with 1 Axes>"
      ]
     },
     "metadata": {},
     "output_type": "display_data"
    }
   ],
   "source": [
    "fig, ax = plt.subplots(figsize=(4, 1.5))\n",
    "\n",
    "tfs[gene_name].exon_diagram(ax=ax)\n",
    "fig.savefig(\"../../figures/fig4/{}_exon_diagram.pdf\".format(gene_name), bbox_inches=\"tight\", dpi=\"figure\")"
   ]
  },
  {
   "cell_type": "code",
   "execution_count": 149,
   "metadata": {},
   "outputs": [
    {
     "data": {
      "image/png": "[encoded data removed]",
      "text/plain": [
       "<Figure size 288x72 with 3 Axes>"
      ]
     },
     "metadata": {},
     "output_type": "display_data"
    }
   ],
   "source": [
    "fig, ax = plt.subplots(figsize=(4, 1))\n",
    "\n",
    "tfs[gene_name].protein_diagram(only_cloned_isoforms=True, draw_legend=False, ax=ax)\n",
    "fig.savefig(\"../../figures/fig4/{}_protein_diagram.pdf\".format(gene_name), bbox_inches=\"tight\", dpi=\"figure\")"
   ]
  },
  {
   "cell_type": "code",
   "execution_count": 150,
   "metadata": {},
   "outputs": [
    {
     "data": {
      "image/png": "[encoded data removed]",
      "text/plain": [
       "<Figure size 72x43.2 with 1 Axes>"
      ]
     },
     "metadata": {},
     "output_type": "display_data"
    }
   ],
   "source": [
    "fig, ax = plt.subplots(1, 1, figsize=(1, 0.6))\n",
    "\n",
    "df = m1h_activation_per_tf_gene_plot(gene_name, data=m1h, ax=ax, xlim=(-1.5, 7))\n",
    "plt.savefig('../../figures/fig4/{}_m1h-profile.pdf'.format(gene_name), bbox_inches='tight')"
   ]
  },
  {
   "cell_type": "markdown",
   "metadata": {},
   "source": [
    "### FOXP3"
   ]
  },
  {
   "cell_type": "code",
   "execution_count": 151,
   "metadata": {},
   "outputs": [],
   "source": [
    "gene_name = \"FOXP3\""
   ]
  },
  {
   "cell_type": "code",
   "execution_count": 152,
   "metadata": {},
   "outputs": [
    {
     "data": {
      "image/png": "[encoded data removed]",
      "text/plain": [
       "<Figure size 288x144 with 1 Axes>"
      ]
     },
     "metadata": {},
     "output_type": "display_data"
    }
   ],
   "source": [
    "fig, ax = plt.subplots(figsize=(4, 2))\n",
    "\n",
    "tfs[gene_name].exon_diagram(ax=ax)\n",
    "fig.savefig(\"../../figures/fig4/{}_exon_diagram.pdf\".format(gene_name), bbox_inches=\"tight\", dpi=\"figure\")"
   ]
  },
  {
   "cell_type": "code",
   "execution_count": 153,
   "metadata": {},
   "outputs": [
    {
     "data": {
      "image/png": "[encoded data removed]",
      "text/plain": [
       "<Figure size 288x144 with 5 Axes>"
      ]
     },
     "metadata": {},
     "output_type": "display_data"
    }
   ],
   "source": [
    "fig, ax = plt.subplots(figsize=(4, 2))\n",
    "\n",
    "tfs[gene_name].protein_diagram(only_cloned_isoforms=True, draw_legend=False, ax=ax)\n",
    "fig.savefig(\"../../figures/fig4/{}_protein_diagram.pdf\".format(gene_name), bbox_inches=\"tight\", dpi=\"figure\")"
   ]
  },
  {
   "cell_type": "code",
   "execution_count": 154,
   "metadata": {},
   "outputs": [
    {
     "data": {
      "image/png": "[encoded data removed]",
      "text/plain": [
       "<Figure size 72x86.4 with 1 Axes>"
      ]
     },
     "metadata": {},
     "output_type": "display_data"
    }
   ],
   "source": [
    "fig, ax = plt.subplots(1, 1, figsize=(1, 1.2))\n",
    "\n",
    "df = m1h_activation_per_tf_gene_plot(gene_name, data=m1h, ax=ax, xlim=(-2, 2), iso_order=[\"FOXP3-3\", \"FOXP3-1\",\n",
    "                                                                                          \"FOXP3-4\", \"FOXP3-5\",\n",
    "                                                                                          \"FOXP3-6\"])\n",
    "plt.savefig('../../figures/fig4/{}_m1h-profile.pdf'.format(gene_name), bbox_inches='tight')"
   ]
  },
  {
   "cell_type": "code",
   "execution_count": null,
   "metadata": {},
   "outputs": [],
   "source": []
  }
 ],
 "metadata": {
  "kernelspec": {
   "display_name": "Python (py36)",
   "language": "python",
   "name": "py36"
  },
  "language_info": {
   "codemirror_mode": {
    "name": "ipython",
    "version": 3
   },
   "file_extension": ".py",
   "mimetype": "text/x-python",
   "name": "python",
   "nbconvert_exporter": "python",
   "pygments_lexer": "ipython3",
   "version": "3.6.10"
  }
 },
 "nbformat": 4,
 "nbformat_minor": 2
}
