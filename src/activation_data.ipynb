{
 "cells": [
  {
   "cell_type": "code",
   "execution_count": 1,
   "metadata": {},
   "outputs": [],
   "source": [
    "import numpy as np\n",
    "from matplotlib import pyplot as plt\n",
    "from matplotlib import cm\n",
    "import pandas as pd\n",
    "from scipy import stats\n",
    "import seaborn as sns\n",
    "\n",
    "from data_loading import (load_m1h_activation_data,\n",
    "                          load_annotated_6k_collection,\n",
    "                          load_isoform_and_paralog_y2h_data,\n",
    "                          load_valid_isoform_clones)"
   ]
  },
  {
   "cell_type": "code",
   "execution_count": 2,
   "metadata": {},
   "outputs": [
    {
     "name": "stdout",
     "output_type": "stream",
     "text": [
      "reading from cache\n"
     ]
    }
   ],
   "source": [
    "m1h = load_m1h_activation_data()\n",
    "tfs = load_annotated_6k_collection()\n",
    "m1h['mean'] = m1h[['M1H_rep1', 'M1H_rep2', 'M1H_rep3']].mean(axis=1)\n",
    "\n",
    "# TODO move to data_loading.py\n",
    "df = pd.read_csv(\"../output/TF-iso_ref-vs-alt.tsv\", sep=\"\\t\")\n",
    "df['ref_iso'] = df['clone_acc_ref'].apply(lambda x: x.split('|')[0] + '-' + x.split('|')[1].split('/')[0])\n",
    "df['alt_iso'] = df['clone_acc_alt'].apply(lambda x: x.split('|')[0] + '-' + x.split('|')[1].split('/')[0])\n",
    "df['f_disorder_difference'] = df.apply(lambda x: tfs[x['gene_symbol']].disordered_fraction_of_different_regions(x['ref_iso'], x['alt_iso']), axis=1)\n",
    "\n",
    "\n",
    "def disorder_changes_category(f):\n",
    "    if pd.isnull(f):\n",
    "        return np.nan\n",
    "    elif f == 0:\n",
    "        return 'fully ordered'\n",
    "    elif f == 1:\n",
    "        return 'fully disordered'\n",
    "    elif f > 0 and f < 1:\n",
    "        return 'partially disordered'\n",
    "    else:\n",
    "        raise ValueError('Invalid fraction')\n",
    "\n",
    "\n",
    "df['f_disorder_difference_cat'] = df['f_disorder_difference'].apply(disorder_changes_category)\n",
    "m1h['gte_2_fold'] = (m1h['mean'].abs() >= 1)\n",
    "df['m1h_gte_2_fold_at_least_one_iso_per_gene'] = df['gene_symbol'].map(m1h.groupby('gene')\n",
    "                                                                    ['gte_2_fold']\n",
    "                                                                    .any())\n",
    "df['abs_activation_fold_change_log2'] = df['activation_fold_change_log2'].abs()\n",
    "\n",
    "dom = pd.concat([g.aa_feature_disruption(g.cloned_reference_isoform.name) for g in tfs.values()])\n",
    "dom = dom.loc[dom['category'] == 'effector_domain', :]\n",
    "\n",
    "# add activation or repression\n",
    "info = pd.read_excel('../data/external/Soto-et-al_MolCell_2022_Supplementary-tables.xlsx',\n",
    "                     sheet_name=\"Table S2\")\n",
    "if info['Effector domain ID'].duplicated().any():\n",
    "    raise UserWarning('unexpected duplicates')\n",
    "info = info.set_index('Effector domain ID')\n",
    "dom['type'] = dom['accession'].map(info['Domain type'])\n",
    "\n",
    "\n",
    "def fraction_of_effector_domains_removed(row, effector_type):\n",
    "    ds = dom.loc[(dom['alt_iso'] == row['alt_iso']) \n",
    "                  & (dom['type'] == effector_type), :]\n",
    "    if ds.shape[0] == 0:\n",
    "        return np.nan\n",
    "    return ds[['deletion', 'frameshift']].sum().sum() / ds['length'].sum()\n",
    "\n",
    "\n",
    "def insertion_in_effector_domains(row, effector_type):\n",
    "    ds = dom.loc[(dom['alt_iso'] == row['alt_iso']) \n",
    "                  & (dom['type'] == effector_type), :]\n",
    "    if ds.shape[0] == 0:\n",
    "        return np.nan\n",
    "    return ds['insertion'].sum()\n",
    "\n",
    "\n",
    "for effector_type in ['AD', 'RD', 'Bif']:\n",
    "    df['fraction_of_{}_domains_removed'.format(effector_type)] = df.apply(fraction_of_effector_domains_removed, effector_type=effector_type, axis=1)\n",
    "    df['insertion_in_{}_domains'.format(effector_type)] = df.apply(insertion_in_effector_domains, effector_type=effector_type, axis=1)"
   ]
  },
  {
   "cell_type": "code",
   "execution_count": 3,
   "metadata": {},
   "outputs": [
    {
     "name": "stdout",
     "output_type": "stream",
     "text": [
      "Effector domain types:\n"
     ]
    },
    {
     "data": {
      "text/plain": [
       "AD     587\n",
       "RD     350\n",
       "Bif     10\n",
       "Name: type, dtype: int64"
      ]
     },
     "execution_count": 3,
     "metadata": {},
     "output_type": "execute_result"
    }
   ],
   "source": [
    "print('Effector domain types:')\n",
    "dom['type'].value_counts()"
   ]
  },
  {
   "cell_type": "code",
   "execution_count": 4,
   "metadata": {},
   "outputs": [
    {
     "name": "stdout",
     "output_type": "stream",
     "text": [
      "Number of different types of effector domains per gene\n"
     ]
    },
    {
     "data": {
      "text/plain": [
       "1    105\n",
       "2     32\n",
       "Name: type, dtype: int64"
      ]
     },
     "execution_count": 4,
     "metadata": {},
     "output_type": "execute_result"
    }
   ],
   "source": [
    "print('Number of different types of effector domains per gene')\n",
    "dom.groupby('gene')['type'].nunique().value_counts()"
   ]
  },
  {
   "cell_type": "code",
   "execution_count": 5,
   "metadata": {},
   "outputs": [
    {
     "data": {
      "text/plain": [
       "fraction_of_AD_domains_removed  fraction_of_RD_domains_removed  fraction_of_Bif_domains_removed\n",
       "False                           False                           False                              175\n",
       "                                                                True                                 2\n",
       "                                True                            False                               38\n",
       "                                                                True                                 1\n",
       "True                            False                           False                               66\n",
       "                                                                True                                 3\n",
       "                                True                            False                               42\n",
       "dtype: int64"
      ]
     },
     "execution_count": 5,
     "metadata": {},
     "output_type": "execute_result"
    }
   ],
   "source": [
    "(df.loc[df['activation_fold_change_log2'].notnull(),\n",
    "        ['fraction_of_AD_domains_removed', 'fraction_of_RD_domains_removed', 'fraction_of_Bif_domains_removed']]\n",
    "    .notnull()\n",
    "    .groupby(['fraction_of_AD_domains_removed', 'fraction_of_RD_domains_removed', 'fraction_of_Bif_domains_removed'])\n",
    "    .size())"
   ]
  },
  {
   "cell_type": "code",
   "execution_count": 6,
   "metadata": {},
   "outputs": [
    {
     "data": {
      "text/html": [
       "<div>\n",
       "<style scoped>\n",
       "    .dataframe tbody tr th:only-of-type {\n",
       "        vertical-align: middle;\n",
       "    }\n",
       "\n",
       "    .dataframe tbody tr th {\n",
       "        vertical-align: top;\n",
       "    }\n",
       "\n",
       "    .dataframe thead th {\n",
       "        text-align: right;\n",
       "    }\n",
       "</style>\n",
       "<table border=\"1\" class=\"dataframe\">\n",
       "  <thead>\n",
       "    <tr style=\"text-align: right;\">\n",
       "      <th></th>\n",
       "      <th>gene_symbol</th>\n",
       "      <th>Ensembl_gene_ID</th>\n",
       "      <th>family</th>\n",
       "      <th>is_dimerizing_TF_family</th>\n",
       "      <th>clone_acc_ref</th>\n",
       "      <th>clone_acc_alt</th>\n",
       "      <th>Ensembl_transcript_IDs_ref</th>\n",
       "      <th>Ensembl_transcript_IDs_alt</th>\n",
       "      <th>is_ref_novel_isoform</th>\n",
       "      <th>is_alt_novel_isoform</th>\n",
       "      <th>...</th>\n",
       "      <th>f_disorder_difference_cat</th>\n",
       "      <th>m1h_gte_2_fold_at_least_one_iso_per_gene</th>\n",
       "      <th>abs_activation_fold_change_log2</th>\n",
       "      <th>fraction_of_AD_domains_removed</th>\n",
       "      <th>insertion_in_AD_domains</th>\n",
       "      <th>fraction_of_RD_domains_removed</th>\n",
       "      <th>insertion_in_RD_domains</th>\n",
       "      <th>fraction_of_Bif_domains_removed</th>\n",
       "      <th>insertion_in_Bif_domains</th>\n",
       "      <th>color</th>\n",
       "    </tr>\n",
       "  </thead>\n",
       "  <tbody>\n",
       "    <tr>\n",
       "      <th>291</th>\n",
       "      <td>SMAD3</td>\n",
       "      <td>ENSG00000166949</td>\n",
       "      <td>SMAD</td>\n",
       "      <td>True</td>\n",
       "      <td>SMAD3|1/4|06A07</td>\n",
       "      <td>SMAD3|2/4|06G07</td>\n",
       "      <td>ENST00000327367</td>\n",
       "      <td>NaN</td>\n",
       "      <td>False</td>\n",
       "      <td>True</td>\n",
       "      <td>...</td>\n",
       "      <td>partially disordered</td>\n",
       "      <td>True</td>\n",
       "      <td>0.246502</td>\n",
       "      <td>0.000000</td>\n",
       "      <td>0.0</td>\n",
       "      <td>NaN</td>\n",
       "      <td>NaN</td>\n",
       "      <td>NaN</td>\n",
       "      <td>NaN</td>\n",
       "      <td>(0.63329016, 0.21816454, 0.43555493, 1.0)</td>\n",
       "    </tr>\n",
       "    <tr>\n",
       "      <th>320</th>\n",
       "      <td>ZNF23</td>\n",
       "      <td>ENSG00000167377</td>\n",
       "      <td>C2H2 ZF</td>\n",
       "      <td>False</td>\n",
       "      <td>ZNF23|2/3|12F07</td>\n",
       "      <td>ZNF23|3/3|06C03</td>\n",
       "      <td>ENST00000357254|ENST00000393539|ENST00000428724</td>\n",
       "      <td>ENST00000497160</td>\n",
       "      <td>False</td>\n",
       "      <td>False</td>\n",
       "      <td>...</td>\n",
       "      <td>partially disordered</td>\n",
       "      <td>True</td>\n",
       "      <td>1.450238</td>\n",
       "      <td>NaN</td>\n",
       "      <td>NaN</td>\n",
       "      <td>NaN</td>\n",
       "      <td>NaN</td>\n",
       "      <td>NaN</td>\n",
       "      <td>NaN</td>\n",
       "      <td>(0.89995995, 0.45494253, 0.37420106, 1.0)</td>\n",
       "    </tr>\n",
       "    <tr>\n",
       "      <th>204</th>\n",
       "      <td>MXI1</td>\n",
       "      <td>ENSG00000119950</td>\n",
       "      <td>bHLH</td>\n",
       "      <td>True</td>\n",
       "      <td>MXI1|2/4|01D05</td>\n",
       "      <td>MXI1|4/4|02D05</td>\n",
       "      <td>ENST00000239007</td>\n",
       "      <td>ENST00000361248|ENST00000652604</td>\n",
       "      <td>False</td>\n",
       "      <td>False</td>\n",
       "      <td>...</td>\n",
       "      <td>partially disordered</td>\n",
       "      <td>True</td>\n",
       "      <td>2.675456</td>\n",
       "      <td>NaN</td>\n",
       "      <td>NaN</td>\n",
       "      <td>1.0</td>\n",
       "      <td>0.0</td>\n",
       "      <td>NaN</td>\n",
       "      <td>NaN</td>\n",
       "      <td>(0.89995995, 0.45494253, 0.37420106, 1.0)</td>\n",
       "    </tr>\n",
       "    <tr>\n",
       "      <th>319</th>\n",
       "      <td>ZNF23</td>\n",
       "      <td>ENSG00000167377</td>\n",
       "      <td>C2H2 ZF</td>\n",
       "      <td>False</td>\n",
       "      <td>ZNF23|2/3|12F07</td>\n",
       "      <td>ZNF23|1/3|06F04</td>\n",
       "      <td>ENST00000357254|ENST00000393539|ENST00000428724</td>\n",
       "      <td>NaN</td>\n",
       "      <td>False</td>\n",
       "      <td>True</td>\n",
       "      <td>...</td>\n",
       "      <td>fully disordered</td>\n",
       "      <td>True</td>\n",
       "      <td>NaN</td>\n",
       "      <td>NaN</td>\n",
       "      <td>NaN</td>\n",
       "      <td>NaN</td>\n",
       "      <td>NaN</td>\n",
       "      <td>NaN</td>\n",
       "      <td>NaN</td>\n",
       "      <td>(0.29408557, 0.13721193, 0.38442775, 1.0)</td>\n",
       "    </tr>\n",
       "    <tr>\n",
       "      <th>380</th>\n",
       "      <td>NFIC</td>\n",
       "      <td>ENSG00000141905</td>\n",
       "      <td>SMAD</td>\n",
       "      <td>True</td>\n",
       "      <td>NFIC|1/5|09E08</td>\n",
       "      <td>NFIC|3/5|01C05</td>\n",
       "      <td>ENST00000443272</td>\n",
       "      <td>ENST00000590282</td>\n",
       "      <td>False</td>\n",
       "      <td>False</td>\n",
       "      <td>...</td>\n",
       "      <td>fully disordered</td>\n",
       "      <td>True</td>\n",
       "      <td>1.142902</td>\n",
       "      <td>0.301418</td>\n",
       "      <td>0.0</td>\n",
       "      <td>NaN</td>\n",
       "      <td>NaN</td>\n",
       "      <td>NaN</td>\n",
       "      <td>NaN</td>\n",
       "      <td>(0.29408557, 0.13721193, 0.38442775, 1.0)</td>\n",
       "    </tr>\n",
       "  </tbody>\n",
       "</table>\n",
       "<p>5 rows × 63 columns</p>\n",
       "</div>"
      ],
      "text/plain": [
       "    gene_symbol  Ensembl_gene_ID   family  is_dimerizing_TF_family  \\\n",
       "291       SMAD3  ENSG00000166949     SMAD                     True   \n",
       "320       ZNF23  ENSG00000167377  C2H2 ZF                    False   \n",
       "204        MXI1  ENSG00000119950     bHLH                     True   \n",
       "319       ZNF23  ENSG00000167377  C2H2 ZF                    False   \n",
       "380        NFIC  ENSG00000141905     SMAD                     True   \n",
       "\n",
       "       clone_acc_ref    clone_acc_alt  \\\n",
       "291  SMAD3|1/4|06A07  SMAD3|2/4|06G07   \n",
       "320  ZNF23|2/3|12F07  ZNF23|3/3|06C03   \n",
       "204   MXI1|2/4|01D05   MXI1|4/4|02D05   \n",
       "319  ZNF23|2/3|12F07  ZNF23|1/3|06F04   \n",
       "380   NFIC|1/5|09E08   NFIC|3/5|01C05   \n",
       "\n",
       "                          Ensembl_transcript_IDs_ref  \\\n",
       "291                                  ENST00000327367   \n",
       "320  ENST00000357254|ENST00000393539|ENST00000428724   \n",
       "204                                  ENST00000239007   \n",
       "319  ENST00000357254|ENST00000393539|ENST00000428724   \n",
       "380                                  ENST00000443272   \n",
       "\n",
       "          Ensembl_transcript_IDs_alt  is_ref_novel_isoform  \\\n",
       "291                              NaN                 False   \n",
       "320                  ENST00000497160                 False   \n",
       "204  ENST00000361248|ENST00000652604                 False   \n",
       "319                              NaN                 False   \n",
       "380                  ENST00000590282                 False   \n",
       "\n",
       "     is_alt_novel_isoform  ... f_disorder_difference_cat  \\\n",
       "291                  True  ...      partially disordered   \n",
       "320                 False  ...      partially disordered   \n",
       "204                 False  ...      partially disordered   \n",
       "319                  True  ...          fully disordered   \n",
       "380                 False  ...          fully disordered   \n",
       "\n",
       "     m1h_gte_2_fold_at_least_one_iso_per_gene  \\\n",
       "291                                      True   \n",
       "320                                      True   \n",
       "204                                      True   \n",
       "319                                      True   \n",
       "380                                      True   \n",
       "\n",
       "     abs_activation_fold_change_log2  fraction_of_AD_domains_removed  \\\n",
       "291                         0.246502                        0.000000   \n",
       "320                         1.450238                             NaN   \n",
       "204                         2.675456                             NaN   \n",
       "319                              NaN                             NaN   \n",
       "380                         1.142902                        0.301418   \n",
       "\n",
       "     insertion_in_AD_domains  fraction_of_RD_domains_removed  \\\n",
       "291                      0.0                             NaN   \n",
       "320                      NaN                             NaN   \n",
       "204                      NaN                             1.0   \n",
       "319                      NaN                             NaN   \n",
       "380                      0.0                             NaN   \n",
       "\n",
       "     insertion_in_RD_domains  fraction_of_Bif_domains_removed  \\\n",
       "291                      NaN                              NaN   \n",
       "320                      NaN                              NaN   \n",
       "204                      0.0                              NaN   \n",
       "319                      NaN                              NaN   \n",
       "380                      NaN                              NaN   \n",
       "\n",
       "     insertion_in_Bif_domains                                      color  \n",
       "291                       NaN  (0.63329016, 0.21816454, 0.43555493, 1.0)  \n",
       "320                       NaN  (0.89995995, 0.45494253, 0.37420106, 1.0)  \n",
       "204                       NaN  (0.89995995, 0.45494253, 0.37420106, 1.0)  \n",
       "319                       NaN  (0.29408557, 0.13721193, 0.38442775, 1.0)  \n",
       "380                       NaN  (0.29408557, 0.13721193, 0.38442775, 1.0)  \n",
       "\n",
       "[5 rows x 63 columns]"
      ]
     },
     "execution_count": 6,
     "metadata": {},
     "output_type": "execute_result"
    }
   ],
   "source": [
    "# color map\n",
    "t = df.loc[:,'f_disorder_difference'].values\n",
    "norm = plt.Normalize(df.loc[:,'f_disorder_difference'].min(), df.loc[:,'f_disorder_difference'].max())\n",
    "cmap = sns.color_palette(\"flare\", as_cmap=True)\n",
    "palette = {value: cmap(norm(value)) for value in t}\n",
    "\n",
    "def re_color(row, palette):\n",
    "    if pd.isnull(row['f_disorder_difference']):\n",
    "        color = palette[0]\n",
    "    else:\n",
    "        color = palette[row['f_disorder_difference']]\n",
    "    return color\n",
    "\n",
    "df[\"color\"] = df.apply(re_color, axis=1, palette=palette)\n",
    "df.sample(5)"
   ]
  },
  {
   "cell_type": "code",
   "execution_count": 7,
   "metadata": {},
   "outputs": [
    {
     "data": {
      "text/plain": [
       "447"
      ]
     },
     "execution_count": 7,
     "metadata": {},
     "output_type": "execute_result"
    }
   ],
   "source": [
    "len(df)"
   ]
  },
  {
   "cell_type": "code",
   "execution_count": 77,
   "metadata": {},
   "outputs": [
    {
     "name": "stderr",
     "output_type": "stream",
     "text": [
      "/PHShome/kz659/.conda/envs/py36/lib/python3.6/site-packages/seaborn/categorical.py:1296: UserWarning: 26.8% of the points cannot be placed; you may want to decrease the size of the markers or use stripplot.\n",
      "  warnings.warn(msg, UserWarning)\n"
     ]
    },
    {
     "name": "stdout",
     "output_type": "stream",
     "text": [
      "found: -0.3615497684072446, -1.099521718454925\n"
     ]
    },
    {
     "name": "stderr",
     "output_type": "stream",
     "text": [
      "/PHShome/kz659/.conda/envs/py36/lib/python3.6/site-packages/seaborn/categorical.py:1296: UserWarning: 39.0% of the points cannot be placed; you may want to decrease the size of the markers or use stripplot.\n",
      "  warnings.warn(msg, UserWarning)\n"
     ]
    },
    {
     "name": "stdout",
     "output_type": "stream",
     "text": [
      "found: 0.0, -4.185867921507783\n",
      "found: 0.4, -1.3738165060156273\n"
     ]
    },
    {
     "data": {
      "image/png": "[encoded data removed]",
      "text/plain": [
       "<Figure size 590.4x144 with 7 Axes>"
      ]
     },
     "metadata": {
      "needs_background": "light"
     },
     "output_type": "display_data"
    },
    {
     "data": {
      "image/png": "[encoded data removed]",
      "text/plain": [
       "<Figure size 590.4x144 with 6 Axes>"
      ]
     },
     "metadata": {
      "needs_background": "light"
     },
     "output_type": "display_data"
    }
   ],
   "source": [
    "# seperately for repression and activation?\n",
    "# full loss of activation domain\n",
    "# full loss of repression domain\n",
    "# partial loss of each\n",
    "# loss of both?\n",
    "\n",
    "from matplotlib import pyplot as plt\n",
    "\n",
    "\n",
    "df = df.loc[df['activation_fold_change_log2'].notnull() & df['m1h_gte_2_fold_at_least_one_iso_per_gene'], :]\n",
    "\n",
    "gs_kw = dict(width_ratios=[0.5, 0.5, 1.2, 1.2, 1.2, 1.6])\n",
    "\n",
    "fig, axs = plt.subplots(1, 6, sharey=True, gridspec_kw=gs_kw)\n",
    "fig.set_size_inches(w=8.2, h=2)\n",
    "\n",
    "point_size = 6\n",
    "\n",
    "\n",
    "tot_loss_activ = df.loc[(df['fraction_of_AD_domains_removed'] == 1) \n",
    "                        & (df['fraction_of_RD_domains_removed'].isnull() | \n",
    "                           (df['fraction_of_RD_domains_removed'] == 0))\n",
    "                        & (df['fraction_of_Bif_domains_removed'].isnull() | \n",
    "                           (df['fraction_of_Bif_domains_removed'] == 0)), :]\n",
    "axs[0].set_title('activation\\ndomain',\n",
    "fontsize=10)\n",
    "sns.swarmplot(data=tot_loss_activ,\n",
    "              y='activation_fold_change_log2', \n",
    "              x='fraction_of_AD_domains_removed',\n",
    "              size=point_size,\n",
    "            clip_on=False,\n",
    "              ax=axs[0],\n",
    "              palette=palette,\n",
    "              hue='f_disorder_difference',\n",
    "               linewidth=1,\n",
    "               edgecolor=\"black\",\n",
    "              alpha=1)\n",
    "axs[0].set_xticks([])\n",
    "axs[0].set_xlabel('')\n",
    "axs[0].get_legend().remove()\n",
    "\n",
    "tot_loss_repr = df.loc[(df['fraction_of_RD_domains_removed'] == 1)\n",
    "                          & (df['fraction_of_AD_domains_removed'].isnull() | \n",
    "                             (df['fraction_of_AD_domains_removed'] == 0))\n",
    "                          & (df['fraction_of_Bif_domains_removed'].isnull() | \n",
    "                             (df['fraction_of_Bif_domains_removed'] == 0)), :]\n",
    "axs[1].set_title('repression\\ndomain',\n",
    "fontsize=10)\n",
    "sns.swarmplot(data=tot_loss_repr,\n",
    "              y='activation_fold_change_log2', \n",
    "              x='fraction_of_RD_domains_removed',\n",
    "              size=point_size,\n",
    "            clip_on=False,\n",
    "              ax=axs[1],\n",
    "              palette=palette,\n",
    "              hue='f_disorder_difference',\n",
    "               linewidth=1,\n",
    "               edgecolor=\"black\",\n",
    "              alpha=1)\n",
    "axs[1].set_xticks([])\n",
    "axs[1].set_xlabel('')\n",
    "axs[1].get_legend().remove()\n",
    "\n",
    "\n",
    "# tot_loss_both = df.loc[(df['fraction_of_AD_domains_removed'] == 1) &\n",
    "#                           (df['fraction_of_RD_domains_removed'] == 1), :]\n",
    "# axs[2].set_title('both activ. &\\nrepr. domains',\n",
    "# fontsize=10)\n",
    "# sns.swarmplot(data=tot_loss_both,\n",
    "#               y='activation_fold_change_log2', \n",
    "#               x='fraction_of_RD_domains_removed',\n",
    "#               size=point_size,\n",
    "#             clip_on=False,\n",
    "#               ax=axs[2],\n",
    "#               palette=palette,\n",
    "#               hue='f_disorder_difference',\n",
    "#                linewidth=1,\n",
    "#                edgecolor=\"black\",\n",
    "#               alpha=1)\n",
    "# axs[2].set_xticks([])\n",
    "# axs[2].set_xlabel('')\n",
    "# axs[2].get_legend().remove()\n",
    "\n",
    "\n",
    "# now partial loss\n",
    "axs[2].set_title('activation\\ndomain',\n",
    "fontsize=10)\n",
    "partial_loss_activ = df.loc[(df['m1h_gte_2_fold_at_least_one_iso_per_gene'] \n",
    "              & (df['fraction_of_AD_domains_removed'] > 0) \n",
    "                & (df['fraction_of_AD_domains_removed'] < 1)\n",
    "                        & (df['fraction_of_RD_domains_removed'].isnull() | \n",
    "                           (df['fraction_of_RD_domains_removed'] == 0))\n",
    "                          & (df['fraction_of_Bif_domains_removed'].isnull() | \n",
    "                             (df['fraction_of_Bif_domains_removed'] == 0))), :]\n",
    "axs[2].scatter(partial_loss_activ.loc[:, 'fraction_of_AD_domains_removed'].values,\n",
    "               partial_loss_activ.loc[:, 'activation_fold_change_log2'].values,\n",
    "           alpha=1,\n",
    "           s=point_size**2,\n",
    "            c=partial_loss_activ.loc[:, 'color'].values,\n",
    "               linewidth=1,\n",
    "               edgecolor=\"black\",\n",
    "           clip_on=False)\n",
    "axs[2].set_xlabel('')\n",
    "axs[2].set_xlim(1, 0)\n",
    "axs[2].set_xticks([0.99, 0.5, 0.01])\n",
    "axs[2].set_xticklabels([f'{x:.0%}' for x in axs[2].get_xticks()])\n",
    "\n",
    "\n",
    "axs[3].set_title('repression\\ndomain',\n",
    "fontsize=10)\n",
    "partial_loss_repr = df.loc[(df['m1h_gte_2_fold_at_least_one_iso_per_gene'] \n",
    "                & (df['fraction_of_RD_domains_removed'] > 0)\n",
    "                  &  (df['fraction_of_RD_domains_removed'] < 1)\n",
    "                          & (df['fraction_of_AD_domains_removed'].isnull() | \n",
    "                             (df['fraction_of_AD_domains_removed'] == 0))\n",
    "                          & (df['fraction_of_Bif_domains_removed'].isnull() | \n",
    "                             (df['fraction_of_Bif_domains_removed'] == 0))), :]\n",
    "\n",
    "axs[3].scatter(partial_loss_repr.loc[:, 'fraction_of_RD_domains_removed'].values,\n",
    "               partial_loss_repr.loc[:, 'activation_fold_change_log2'].values,\n",
    "           alpha=1,\n",
    "           s=point_size**2,\n",
    "            c=partial_loss_repr.loc[:, 'color'].values,\n",
    "               linewidth=1,\n",
    "               edgecolor=\"black\",\n",
    "           clip_on=False)\n",
    "axs[3].set_xlabel('')\n",
    "axs[3].set_xlim(1, 0)\n",
    "axs[3].set_xticks([0.99, 0.5, 0.01])\n",
    "axs[3].set_xticklabels([f'{x:.0%}' for x in axs[3].get_xticks()])\n",
    "\n",
    "\n",
    "all_retained = df.loc[((df['fraction_of_AD_domains_removed'] == 0) |\n",
    "                          (df['fraction_of_RD_domains_removed'] == 0) |\n",
    "                          (df['fraction_of_Bif_domains_removed'] == 0))\n",
    "                          & (df['fraction_of_AD_domains_removed'].isnull() | (df['fraction_of_AD_domains_removed'] == 0)) \n",
    "                           & (df['fraction_of_RD_domains_removed'].isnull() | (df['fraction_of_RD_domains_removed'] == 0)) \n",
    "                           & (df['fraction_of_Bif_domains_removed'].isnull() | (df['fraction_of_Bif_domains_removed'] == 0)) \n",
    "                           ,\n",
    "                           :]\n",
    "axs[4].set_title('All effector domains\\nin alt. iso.',\n",
    "fontsize=10)\n",
    "sns.swarmplot(data=all_retained,\n",
    "              y='activation_fold_change_log2', \n",
    "              x='m1h_gte_2_fold_at_least_one_iso_per_gene',\n",
    "              size=point_size,\n",
    "            clip_on=False,\n",
    "              ax=axs[4],\n",
    "              color=sns.color_palette(\"flare\")[0],\n",
    "               linewidth=1,\n",
    "               edgecolor=\"black\",\n",
    "              alpha=1,\n",
    "              hue='f_disorder_difference',\n",
    "              palette=palette)\n",
    "axs[4].set_xticks([])\n",
    "axs[4].set_xlabel('')\n",
    "axs[4].get_legend().remove()\n",
    "\n",
    "# annotate pbx1\n",
    "pbx1_y = df.loc[(df[\"clone_acc_alt\"] == \"PBX1|2/2|02C05\"), 'activation_fold_change_log2'].values[0]\n",
    "for point in axs[4].collections:\n",
    "    for x, y in point.get_offsets():\n",
    "        if np.isclose(pbx1_y, y):\n",
    "            print(\"found: %s, %s\" % (x, y))\n",
    "            axs[4].annotate(\"PBX1-2\", xy=(x, y), xytext=(1, -20), textcoords='offset points',\n",
    "                            arrowprops = dict(arrowstyle=\"-\", connectionstyle=\"arc3,rad=-0.3\"), \n",
    "                            ha=\"center\", va=\"top\", fontsize=7,\n",
    "                            bbox=dict(boxstyle='square,pad=0', fc='none', ec='none'))\n",
    "\n",
    "# missing stuff\n",
    "incl = tot_loss_activ.append(tot_loss_repr).append(tot_loss_both).append(partial_loss_activ).append(partial_loss_repr).append(all_retained)\n",
    "no_annot = df.loc[~df.index.isin(incl.index.values)]\n",
    "axs[5].set_title('No annotated\\neffector domains',\n",
    "fontsize=10)\n",
    "sns.swarmplot(data=no_annot,\n",
    "              y='activation_fold_change_log2', \n",
    "              x='m1h_gte_2_fold_at_least_one_iso_per_gene',\n",
    "              size=point_size,\n",
    "            clip_on=False,\n",
    "              ax=axs[5],\n",
    "              color=sns.color_palette(\"flare\")[0],\n",
    "               linewidth=1,\n",
    "               edgecolor=\"black\",\n",
    "              alpha=1,\n",
    "              hue='f_disorder_difference',\n",
    "              palette=palette)\n",
    "axs[5].set_xticks([])\n",
    "axs[5].set_xlabel('')\n",
    "axs[5].get_legend().remove()\n",
    "\n",
    "# annotate RFX3-3\n",
    "rfx3_y = df.loc[(df[\"clone_acc_alt\"] == \"RFX3|3/5|08G08\"), 'activation_fold_change_log2'].values[0]\n",
    "rfx4_y = df.loc[(df[\"clone_acc_alt\"] == \"RFX3|4/5|11D09\"), 'activation_fold_change_log2'].values[0]\n",
    "for point in axs[5].collections:\n",
    "    for x, y in point.get_offsets():\n",
    "        if np.isclose(rfx3_y, y):\n",
    "            print(\"found: %s, %s\" % (x, y))\n",
    "            axs[5].annotate(\"RFX3-3\", xy=(x, y), xytext=(1, -20), textcoords='offset points',\n",
    "                            arrowprops = dict(arrowstyle=\"-\", connectionstyle=\"arc3,rad=0.7\"), \n",
    "                            ha=\"center\", va=\"top\", fontsize=7,\n",
    "                            bbox=dict(boxstyle='square,pad=0', fc='none', ec='none'))\n",
    "        if np.isclose(rfx4_y, y):\n",
    "            print(\"found: %s, %s\" % (x, y))\n",
    "            axs[5].annotate(\"RFX3-4\", xy=(x, y), xytext=(-5, -10), textcoords='offset points',\n",
    "                            arrowprops = dict(arrowstyle=\"-\", connectionstyle=\"arc3,rad=-0.7\"), \n",
    "                            ha=\"right\", va=\"top\", fontsize=7,\n",
    "                            bbox=dict(boxstyle='square,pad=0', fc='none', ec='none'))\n",
    "\n",
    "\n",
    "# add colorbar\n",
    "# mirror figure\n",
    "gs_kw = dict(width_ratios=[0.5, 0.5, 1.2, 1.2, 1.2, 1.6])\n",
    "fig2, axs2 = plt.subplots(1, 6, sharey=True, gridspec_kw=gs_kw)\n",
    "fig2.set_size_inches(w=8.2, h=2)\n",
    "map1 = axs2[5].imshow(np.stack([t, t]), cmap=\"flare\")\n",
    "fig.colorbar(map1, ax=axs[5], aspect=60, label=\"% alt. iso. seq. diff.\\nin disordered regions\")\n",
    "\n",
    "\n",
    "for ax in axs:\n",
    "    ax.spines['right'].set_visible(False)\n",
    "    ax.spines['top'].set_visible(False)\n",
    "    ax.set_ylim(-7.5, 7.5)\n",
    "    ax.axhline(y=0, color='black', linewidth=1, linestyle='dashed')\n",
    "for ax in axs[1:]:\n",
    "    ax.spines['left'].set_visible(False)\n",
    "    ax.yaxis.set_tick_params(which='both', length=0)\n",
    "    ax.set_ylabel(\"\")\n",
    "axs[0].set_ylabel(\"log2(activation fold change)\")\n",
    "fig.savefig('../figures/activation_vs_domain_removal.pdf', bbox_inches='tight')"
   ]
  },
  {
   "cell_type": "code",
   "execution_count": 75,
   "metadata": {},
   "outputs": [
    {
     "data": {
      "text/html": [
       "<div>\n",
       "<style scoped>\n",
       "    .dataframe tbody tr th:only-of-type {\n",
       "        vertical-align: middle;\n",
       "    }\n",
       "\n",
       "    .dataframe tbody tr th {\n",
       "        vertical-align: top;\n",
       "    }\n",
       "\n",
       "    .dataframe thead th {\n",
       "        text-align: right;\n",
       "    }\n",
       "</style>\n",
       "<table border=\"1\" class=\"dataframe\">\n",
       "  <thead>\n",
       "    <tr style=\"text-align: right;\">\n",
       "      <th></th>\n",
       "      <th>gene_symbol</th>\n",
       "      <th>clone_acc_ref</th>\n",
       "      <th>clone_acc_alt</th>\n",
       "      <th>fraction_of_AD_domains_removed</th>\n",
       "      <th>fraction_of_RD_domains_removed</th>\n",
       "      <th>fraction_of_Bif_domains_removed</th>\n",
       "      <th>m1h_gte_2_fold_at_least_one_iso_per_gene</th>\n",
       "      <th>activation_fold_change_log2</th>\n",
       "    </tr>\n",
       "  </thead>\n",
       "  <tbody>\n",
       "    <tr>\n",
       "      <th>20</th>\n",
       "      <td>PBX1</td>\n",
       "      <td>PBX1|1/2|02A05</td>\n",
       "      <td>PBX1|2/2|02C05</td>\n",
       "      <td>NaN</td>\n",
       "      <td>0.0</td>\n",
       "      <td>NaN</td>\n",
       "      <td>True</td>\n",
       "      <td>-1.099522</td>\n",
       "    </tr>\n",
       "  </tbody>\n",
       "</table>\n",
       "</div>"
      ],
      "text/plain": [
       "   gene_symbol   clone_acc_ref   clone_acc_alt  \\\n",
       "20        PBX1  PBX1|1/2|02A05  PBX1|2/2|02C05   \n",
       "\n",
       "    fraction_of_AD_domains_removed  fraction_of_RD_domains_removed  \\\n",
       "20                             NaN                             0.0   \n",
       "\n",
       "    fraction_of_Bif_domains_removed m1h_gte_2_fold_at_least_one_iso_per_gene  \\\n",
       "20                              NaN                                     True   \n",
       "\n",
       "    activation_fold_change_log2  \n",
       "20                    -1.099522  "
      ]
     },
     "execution_count": 75,
     "metadata": {},
     "output_type": "execute_result"
    }
   ],
   "source": [
    "df[df[\"gene_symbol\"] == \"PBX1\"][[\"gene_symbol\", \"clone_acc_ref\", \"clone_acc_alt\", \"fraction_of_AD_domains_removed\",\n",
    "                                 \"fraction_of_RD_domains_removed\", \"fraction_of_Bif_domains_removed\",\n",
    "                                 \"m1h_gte_2_fold_at_least_one_iso_per_gene\",\n",
    "                                 \"activation_fold_change_log2\"]]"
   ]
  },
  {
   "cell_type": "code",
   "execution_count": 57,
   "metadata": {},
   "outputs": [
    {
     "data": {
      "text/plain": [
       "<matplotlib.axes._subplots.AxesSubplot at 0x7efe476995c0>"
      ]
     },
     "execution_count": 57,
     "metadata": {},
     "output_type": "execute_result"
    },
    {
     "data": {
      "image/png": "[encoded data removed]",
      "text/plain": [
       "<Figure size 432x288 with 1 Axes>"
      ]
     },
     "metadata": {
      "needs_background": "light"
     },
     "output_type": "display_data"
    }
   ],
   "source": [
    "df.plot.scatter(x='f_disorder_difference', y='abs_activation_fold_change_log2')"
   ]
  },
  {
   "cell_type": "code",
   "execution_count": 36,
   "metadata": {},
   "outputs": [
    {
     "name": "stdout",
     "output_type": "stream",
     "text": [
      "(0.07470937141695498, 0.2529507103769628)\n",
      "SpearmanrResult(correlation=0.1071481018046003, pvalue=0.10058356056724486)\n"
     ]
    }
   ],
   "source": [
    "x_var = 'f_disorder_difference'\n",
    "y_var = 'activation_fold_change_log2'\n",
    "x, y = df.loc[df[x_var].notnull() & df[y_var].notnull(), [x_var, y_var]].values.T\n",
    "print(stats.pearsonr(x, y))\n",
    "print(stats.spearmanr(x, y))"
   ]
  },
  {
   "cell_type": "code",
   "execution_count": 37,
   "metadata": {},
   "outputs": [
    {
     "name": "stdout",
     "output_type": "stream",
     "text": [
      "(-0.0837288170698881, 0.19995186764778164)\n",
      "SpearmanrResult(correlation=-0.15538103718127458, pvalue=0.01690066916679032)\n"
     ]
    }
   ],
   "source": [
    "x_var = 'f_disorder_difference'\n",
    "y_var = 'abs_activation_fold_change_log2'\n",
    "x, y = df.loc[df[x_var].notnull() & df[y_var].notnull(), [x_var, y_var]].values.T\n",
    "print(stats.pearsonr(x, y))\n",
    "print(stats.spearmanr(x, y))"
   ]
  },
  {
   "cell_type": "code",
   "execution_count": 38,
   "metadata": {},
   "outputs": [
    {
     "data": {
      "text/plain": [
       "<matplotlib.axes._subplots.AxesSubplot at 0x7fb61ffe8f98>"
      ]
     },
     "execution_count": 38,
     "metadata": {},
     "output_type": "execute_result"
    },
    {
     "data": {
      "image/png": "[encoded data removed]",
      "text/plain": [
       "<Figure size 432x288 with 1 Axes>"
      ]
     },
     "metadata": {
      "needs_background": "light"
     },
     "output_type": "display_data"
    }
   ],
   "source": [
    "sns.boxplot(data=df, x='f_disorder_difference_cat', y='activation_fold_change_log2')"
   ]
  },
  {
   "cell_type": "code",
   "execution_count": 39,
   "metadata": {},
   "outputs": [
    {
     "data": {
      "text/plain": [
       "<matplotlib.axes._subplots.AxesSubplot at 0x7fb61774cf60>"
      ]
     },
     "execution_count": 39,
     "metadata": {},
     "output_type": "execute_result"
    },
    {
     "data": {
      "image/png": "[encoded data removed]",
      "text/plain": [
       "<Figure size 432x288 with 1 Axes>"
      ]
     },
     "metadata": {
      "needs_background": "light"
     },
     "output_type": "display_data"
    }
   ],
   "source": [
    "sns.boxplot(data=df, x='f_disorder_difference_cat', y='abs_activation_fold_change_log2')"
   ]
  },
  {
   "cell_type": "code",
   "execution_count": 40,
   "metadata": {},
   "outputs": [
    {
     "data": {
      "text/plain": [
       "<matplotlib.axes._subplots.AxesSubplot at 0x7fb61b293080>"
      ]
     },
     "execution_count": 40,
     "metadata": {},
     "output_type": "execute_result"
    },
    {
     "data": {
      "image/png": "[encoded data removed]",
      "text/plain": [
       "<Figure size 432x288 with 1 Axes>"
      ]
     },
     "metadata": {
      "needs_background": "light"
     },
     "output_type": "display_data"
    }
   ],
   "source": [
    "sns.boxplot(data=df.loc[(df['m1h_gte_2_fold_at_least_one_iso_per_gene'] == True), :],\n",
    "            x='f_disorder_difference_cat',\n",
    "            y='abs_activation_fold_change_log2')"
   ]
  },
  {
   "cell_type": "code",
   "execution_count": 41,
   "metadata": {},
   "outputs": [
    {
     "data": {
      "text/plain": [
       "MannwhitneyuResult(statistic=659.0, pvalue=0.20674808462040722)"
      ]
     },
     "execution_count": 41,
     "metadata": {},
     "output_type": "execute_result"
    }
   ],
   "source": [
    "stats.mannwhitneyu(\n",
    "        df.loc[(df['m1h_gte_2_fold_at_least_one_iso_per_gene'] == True)\n",
    "               & (df['f_disorder_difference_cat'] == 'fully ordered'),\n",
    "               'abs_activation_fold_change_log2'].values,\n",
    "               df.loc[(df['m1h_gte_2_fold_at_least_one_iso_per_gene'] == True)\n",
    "               & (df['f_disorder_difference_cat'] == 'fully disordered')\n",
    "               , 'abs_activation_fold_change_log2'].values\n",
    "                          )"
   ]
  },
  {
   "cell_type": "markdown",
   "metadata": {},
   "source": [
    "Interestingly, I don't see a difference between disordered and ordered changes and \n",
    "activation levels. Check for confounding factors like the size of the changes."
   ]
  },
  {
   "cell_type": "code",
   "execution_count": 42,
   "metadata": {},
   "outputs": [
    {
     "data": {
      "text/plain": [
       "<matplotlib.axes._subplots.AxesSubplot at 0x7fb6147495f8>"
      ]
     },
     "execution_count": 42,
     "metadata": {},
     "output_type": "execute_result"
    },
    {
     "data": {
      "image/png": "[encoded data removed]",
      "text/plain": [
       "<Figure size 432x288 with 1 Axes>"
      ]
     },
     "metadata": {
      "needs_background": "light"
     },
     "output_type": "display_data"
    }
   ],
   "source": [
    "sns.boxplot(data=df, x='f_disorder_difference_cat', y='aa_seq_pct_id', \n",
    "            order=['fully disordered',\n",
    "                   'fully ordered',\n",
    "                   'partially disordered'])"
   ]
  },
  {
   "cell_type": "code",
   "execution_count": 43,
   "metadata": {},
   "outputs": [
    {
     "data": {
      "text/plain": [
       "<matplotlib.axes._subplots.AxesSubplot at 0x7fb60dfb53c8>"
      ]
     },
     "execution_count": 43,
     "metadata": {},
     "output_type": "execute_result"
    },
    {
     "data": {
      "image/png": "[encoded data removed]",
      "text/plain": [
       "<Figure size 432x288 with 1 Axes>"
      ]
     },
     "metadata": {
      "needs_background": "light"
     },
     "output_type": "display_data"
    }
   ],
   "source": [
    "df.plot.scatter(x='f_disorder_difference', y='abs_activation_fold_change_log2')"
   ]
  },
  {
   "cell_type": "code",
   "execution_count": 44,
   "metadata": {},
   "outputs": [],
   "source": [
    "# x axis as size of change (or aa %id), y axis as act diff, split by dis and ordered"
   ]
  },
  {
   "cell_type": "code",
   "execution_count": 45,
   "metadata": {},
   "outputs": [
    {
     "data": {
      "text/html": [
       "<div>\n",
       "<style scoped>\n",
       "    .dataframe tbody tr th:only-of-type {\n",
       "        vertical-align: middle;\n",
       "    }\n",
       "\n",
       "    .dataframe tbody tr th {\n",
       "        vertical-align: top;\n",
       "    }\n",
       "\n",
       "    .dataframe thead th {\n",
       "        text-align: right;\n",
       "    }\n",
       "</style>\n",
       "<table border=\"1\" class=\"dataframe\">\n",
       "  <thead>\n",
       "    <tr style=\"text-align: right;\">\n",
       "      <th></th>\n",
       "      <th>gene_symbol</th>\n",
       "      <th>Ensembl_gene_ID</th>\n",
       "      <th>family</th>\n",
       "      <th>is_dimerizing_TF_family</th>\n",
       "      <th>clone_acc_ref</th>\n",
       "      <th>clone_acc_alt</th>\n",
       "      <th>Ensembl_transcript_IDs_ref</th>\n",
       "      <th>Ensembl_transcript_IDs_alt</th>\n",
       "      <th>is_ref_novel_isoform</th>\n",
       "      <th>is_alt_novel_isoform</th>\n",
       "      <th>...</th>\n",
       "      <th>f_disorder_difference</th>\n",
       "      <th>f_disorder_difference_cat</th>\n",
       "      <th>m1h_gte_2_fold_at_least_one_iso_per_gene</th>\n",
       "      <th>abs_activation_fold_change_log2</th>\n",
       "      <th>fraction_of_AD_domains_removed</th>\n",
       "      <th>insertion_in_AD_domains</th>\n",
       "      <th>fraction_of_RD_domains_removed</th>\n",
       "      <th>insertion_in_RD_domains</th>\n",
       "      <th>fraction_of_Bif_domains_removed</th>\n",
       "      <th>insertion_in_Bif_domains</th>\n",
       "    </tr>\n",
       "  </thead>\n",
       "  <tbody>\n",
       "    <tr>\n",
       "      <th>114</th>\n",
       "      <td>TBPL1</td>\n",
       "      <td>ENSG00000028839</td>\n",
       "      <td>TBP</td>\n",
       "      <td>False</td>\n",
       "      <td>TBPL1|1/2|04H06</td>\n",
       "      <td>TBPL1|2/2|04A07</td>\n",
       "      <td>ENST00000237264|ENST00000613034</td>\n",
       "      <td>ENST00000367871</td>\n",
       "      <td>False</td>\n",
       "      <td>False</td>\n",
       "      <td>...</td>\n",
       "      <td>0.0</td>\n",
       "      <td>fully ordered</td>\n",
       "      <td>True</td>\n",
       "      <td>6.864281</td>\n",
       "      <td>NaN</td>\n",
       "      <td>NaN</td>\n",
       "      <td>NaN</td>\n",
       "      <td>NaN</td>\n",
       "      <td>NaN</td>\n",
       "      <td>NaN</td>\n",
       "    </tr>\n",
       "    <tr>\n",
       "      <th>224</th>\n",
       "      <td>E2F8</td>\n",
       "      <td>ENSG00000129173</td>\n",
       "      <td>E2F</td>\n",
       "      <td>True</td>\n",
       "      <td>E2F8|1/4|03G03</td>\n",
       "      <td>E2F8|2/4|03A06</td>\n",
       "      <td>ENST00000250024|ENST00000527884|ENST00000620009</td>\n",
       "      <td>NaN</td>\n",
       "      <td>False</td>\n",
       "      <td>True</td>\n",
       "      <td>...</td>\n",
       "      <td>0.0</td>\n",
       "      <td>fully ordered</td>\n",
       "      <td>True</td>\n",
       "      <td>3.464671</td>\n",
       "      <td>NaN</td>\n",
       "      <td>NaN</td>\n",
       "      <td>NaN</td>\n",
       "      <td>NaN</td>\n",
       "      <td>NaN</td>\n",
       "      <td>NaN</td>\n",
       "    </tr>\n",
       "    <tr>\n",
       "      <th>332</th>\n",
       "      <td>MLX</td>\n",
       "      <td>ENSG00000108788</td>\n",
       "      <td>bHLH</td>\n",
       "      <td>True</td>\n",
       "      <td>MLX|1/4|11G02</td>\n",
       "      <td>MLX|2/4|01D12</td>\n",
       "      <td>ENST00000435881</td>\n",
       "      <td>NaN</td>\n",
       "      <td>False</td>\n",
       "      <td>True</td>\n",
       "      <td>...</td>\n",
       "      <td>0.0</td>\n",
       "      <td>fully ordered</td>\n",
       "      <td>True</td>\n",
       "      <td>2.129417</td>\n",
       "      <td>NaN</td>\n",
       "      <td>NaN</td>\n",
       "      <td>NaN</td>\n",
       "      <td>NaN</td>\n",
       "      <td>NaN</td>\n",
       "      <td>NaN</td>\n",
       "    </tr>\n",
       "    <tr>\n",
       "      <th>11</th>\n",
       "      <td>NFIA</td>\n",
       "      <td>ENSG00000162599</td>\n",
       "      <td>SMAD</td>\n",
       "      <td>True</td>\n",
       "      <td>NFIA|2/5|02G09</td>\n",
       "      <td>NFIA|3/5|02E09</td>\n",
       "      <td>ENST00000403491</td>\n",
       "      <td>ENST00000407417</td>\n",
       "      <td>False</td>\n",
       "      <td>False</td>\n",
       "      <td>...</td>\n",
       "      <td>0.0</td>\n",
       "      <td>fully ordered</td>\n",
       "      <td>True</td>\n",
       "      <td>1.845586</td>\n",
       "      <td>0.000000</td>\n",
       "      <td>0.0</td>\n",
       "      <td>0.0</td>\n",
       "      <td>0.0</td>\n",
       "      <td>NaN</td>\n",
       "      <td>NaN</td>\n",
       "    </tr>\n",
       "    <tr>\n",
       "      <th>260</th>\n",
       "      <td>TFCP2</td>\n",
       "      <td>ENSG00000135457</td>\n",
       "      <td>Grainyhead</td>\n",
       "      <td>True</td>\n",
       "      <td>TFCP2|1/3|03E08</td>\n",
       "      <td>TFCP2|2/3|03H07</td>\n",
       "      <td>ENST00000257915</td>\n",
       "      <td>NaN</td>\n",
       "      <td>False</td>\n",
       "      <td>True</td>\n",
       "      <td>...</td>\n",
       "      <td>0.0</td>\n",
       "      <td>fully ordered</td>\n",
       "      <td>True</td>\n",
       "      <td>1.401124</td>\n",
       "      <td>0.284916</td>\n",
       "      <td>0.0</td>\n",
       "      <td>0.0</td>\n",
       "      <td>0.0</td>\n",
       "      <td>NaN</td>\n",
       "      <td>NaN</td>\n",
       "    </tr>\n",
       "  </tbody>\n",
       "</table>\n",
       "<p>5 rows × 62 columns</p>\n",
       "</div>"
      ],
      "text/plain": [
       "    gene_symbol  Ensembl_gene_ID      family  is_dimerizing_TF_family  \\\n",
       "114       TBPL1  ENSG00000028839         TBP                    False   \n",
       "224        E2F8  ENSG00000129173         E2F                     True   \n",
       "332         MLX  ENSG00000108788        bHLH                     True   \n",
       "11         NFIA  ENSG00000162599        SMAD                     True   \n",
       "260       TFCP2  ENSG00000135457  Grainyhead                     True   \n",
       "\n",
       "       clone_acc_ref    clone_acc_alt  \\\n",
       "114  TBPL1|1/2|04H06  TBPL1|2/2|04A07   \n",
       "224   E2F8|1/4|03G03   E2F8|2/4|03A06   \n",
       "332    MLX|1/4|11G02    MLX|2/4|01D12   \n",
       "11    NFIA|2/5|02G09   NFIA|3/5|02E09   \n",
       "260  TFCP2|1/3|03E08  TFCP2|2/3|03H07   \n",
       "\n",
       "                          Ensembl_transcript_IDs_ref  \\\n",
       "114                  ENST00000237264|ENST00000613034   \n",
       "224  ENST00000250024|ENST00000527884|ENST00000620009   \n",
       "332                                  ENST00000435881   \n",
       "11                                   ENST00000403491   \n",
       "260                                  ENST00000257915   \n",
       "\n",
       "    Ensembl_transcript_IDs_alt  is_ref_novel_isoform  is_alt_novel_isoform  \\\n",
       "114            ENST00000367871                 False                 False   \n",
       "224                        NaN                 False                  True   \n",
       "332                        NaN                 False                  True   \n",
       "11             ENST00000407417                 False                 False   \n",
       "260                        NaN                 False                  True   \n",
       "\n",
       "     ... f_disorder_difference  f_disorder_difference_cat  \\\n",
       "114  ...                   0.0              fully ordered   \n",
       "224  ...                   0.0              fully ordered   \n",
       "332  ...                   0.0              fully ordered   \n",
       "11   ...                   0.0              fully ordered   \n",
       "260  ...                   0.0              fully ordered   \n",
       "\n",
       "     m1h_gte_2_fold_at_least_one_iso_per_gene  \\\n",
       "114                                      True   \n",
       "224                                      True   \n",
       "332                                      True   \n",
       "11                                       True   \n",
       "260                                      True   \n",
       "\n",
       "     abs_activation_fold_change_log2  fraction_of_AD_domains_removed  \\\n",
       "114                         6.864281                             NaN   \n",
       "224                         3.464671                             NaN   \n",
       "332                         2.129417                             NaN   \n",
       "11                          1.845586                        0.000000   \n",
       "260                         1.401124                        0.284916   \n",
       "\n",
       "     insertion_in_AD_domains  fraction_of_RD_domains_removed  \\\n",
       "114                      NaN                             NaN   \n",
       "224                      NaN                             NaN   \n",
       "332                      NaN                             NaN   \n",
       "11                       0.0                             0.0   \n",
       "260                      0.0                             0.0   \n",
       "\n",
       "     insertion_in_RD_domains  fraction_of_Bif_domains_removed  \\\n",
       "114                      NaN                              NaN   \n",
       "224                      NaN                              NaN   \n",
       "332                      NaN                              NaN   \n",
       "11                       0.0                              NaN   \n",
       "260                      0.0                              NaN   \n",
       "\n",
       "     insertion_in_Bif_domains  \n",
       "114                       NaN  \n",
       "224                       NaN  \n",
       "332                       NaN  \n",
       "11                        NaN  \n",
       "260                       NaN  \n",
       "\n",
       "[5 rows x 62 columns]"
      ]
     },
     "execution_count": 45,
     "metadata": {},
     "output_type": "execute_result"
    }
   ],
   "source": [
    "# check examples\n",
    "(df.loc[df['f_disorder_difference_cat'] == 'fully ordered',\n",
    "         :]\n",
    "         .sort_values('abs_activation_fold_change_log2',\n",
    "                      ascending=False)).head()"
   ]
  },
  {
   "cell_type": "code",
   "execution_count": 46,
   "metadata": {},
   "outputs": [
    {
     "data": {
      "text/plain": [
       "partially disordered    138\n",
       "fully disordered         79\n",
       "fully ordered            19\n",
       "Name: f_disorder_difference_cat, dtype: int64"
      ]
     },
     "execution_count": 46,
     "metadata": {},
     "output_type": "execute_result"
    }
   ],
   "source": [
    "df['f_disorder_difference_cat'].value_counts()"
   ]
  },
  {
   "cell_type": "code",
   "execution_count": 47,
   "metadata": {},
   "outputs": [
    {
     "data": {
      "text/plain": [
       "<matplotlib.axes._subplots.AxesSubplot at 0x7fb61c0f1d30>"
      ]
     },
     "execution_count": 47,
     "metadata": {},
     "output_type": "execute_result"
    },
    {
     "data": {
      "image/png": "[encoded data removed]",
      "text/plain": [
       "<Figure size 432x288 with 1 Axes>"
      ]
     },
     "metadata": {
      "needs_background": "light"
     },
     "output_type": "display_data"
    }
   ],
   "source": [
    "# TODO move PPI stuff to different notebook\n",
    "sns.swarmplot(data=df.loc[(df['n_positive_PPI_ref'] > 0) & (df['n_positive_PPI_alt'] > 0)], \n",
    "              x='f_disorder_difference_cat', y='PPI_jaccard')\n",
    "sns.boxplot(data=df.loc[(df['n_positive_PPI_ref'] > 0) & (df['n_positive_PPI_alt'] > 0)], \n",
    "              x='f_disorder_difference_cat', y='PPI_jaccard')"
   ]
  },
  {
   "cell_type": "code",
   "execution_count": 48,
   "metadata": {},
   "outputs": [
    {
     "data": {
      "text/plain": [
       "MannwhitneyuResult(statistic=45.0, pvalue=0.18826235330351887)"
      ]
     },
     "execution_count": 48,
     "metadata": {},
     "output_type": "execute_result"
    }
   ],
   "source": [
    "x = df.loc[(df['n_positive_PPI_ref'] > 0) & \n",
    "       (df['n_positive_PPI_alt'] > 0) &\n",
    "       (df['f_disorder_difference_cat'] == 'fully ordered'),\n",
    "       'PPI_jaccard'].values\n",
    "y = df.loc[(df['n_positive_PPI_ref'] > 0) & \n",
    "       (df['n_positive_PPI_alt'] > 0) &\n",
    "       (df['f_disorder_difference_cat'] == 'fully disordered'),\n",
    "       'PPI_jaccard'].values\n",
    "stats.mannwhitneyu(x, y)"
   ]
  },
  {
   "cell_type": "code",
   "execution_count": 49,
   "metadata": {},
   "outputs": [
    {
     "data": {
      "text/plain": [
       "<matplotlib.axes._subplots.AxesSubplot at 0x7fb61f6acb00>"
      ]
     },
     "execution_count": 49,
     "metadata": {},
     "output_type": "execute_result"
    },
    {
     "data": {
      "image/png": "[encoded data removed]",
      "text/plain": [
       "<Figure size 432x288 with 1 Axes>"
      ]
     },
     "metadata": {
      "needs_background": "light"
     },
     "output_type": "display_data"
    }
   ],
   "source": [
    "(df.loc[(df['n_positive_PPI_ref'] > 0) & \n",
    "        (df['n_positive_PPI_alt'] > 0), \n",
    "        :].plot.scatter(x='f_disorder_difference', y='PPI_jaccard'))"
   ]
  },
  {
   "cell_type": "code",
   "execution_count": 50,
   "metadata": {},
   "outputs": [
    {
     "name": "stdout",
     "output_type": "stream",
     "text": [
      "(0.2167987760994965, 0.09908339031720248)\n",
      "SpearmanrResult(correlation=0.2763824678991044, pvalue=0.03409237427596511)\n"
     ]
    }
   ],
   "source": [
    "x_var = 'f_disorder_difference'\n",
    "y_var = 'PPI_jaccard'\n",
    "x, y = df.loc[(df['n_positive_PPI_ref'] > 0) & \n",
    "              (df['n_positive_PPI_alt'] > 0) &\n",
    "              df[x_var].notnull() &\n",
    "              df[y_var].notnull(), [x_var, y_var]].values.T\n",
    "print(stats.pearsonr(x, y))\n",
    "print(stats.spearmanr(x, y))"
   ]
  },
  {
   "cell_type": "code",
   "execution_count": 51,
   "metadata": {},
   "outputs": [
    {
     "name": "stdout",
     "output_type": "stream",
     "text": [
      "(0.2825089068106956, 0.18104003872503516)\n",
      "SpearmanrResult(correlation=0.3134951916946277, pvalue=0.13577250432041632)\n"
     ]
    }
   ],
   "source": [
    "x_var = 'f_disorder_difference'\n",
    "y_var = 'PPI_jaccard'\n",
    "x, y = df.loc[(df['n_positive_PPI_ref'] > 0) & \n",
    "              (df['n_positive_PPI_alt'] > 0) &\n",
    "              (df['f_disorder_difference'] > 0) &\n",
    "              (df['f_disorder_difference'] < 1) &\n",
    "              df[x_var].notnull() &\n",
    "              df[y_var].notnull(), [x_var, y_var]].values.T\n",
    "print(stats.pearsonr(x, y))\n",
    "print(stats.spearmanr(x, y))"
   ]
  }
 ],
 "metadata": {
  "kernelspec": {
   "display_name": "Python (py36)",
   "language": "python",
   "name": "py36"
  },
  "language_info": {
   "codemirror_mode": {
    "name": "ipython",
    "version": 3
   },
   "file_extension": ".py",
   "mimetype": "text/x-python",
   "name": "python",
   "nbconvert_exporter": "python",
   "pygments_lexer": "ipython3",
   "version": "3.6.10"
  },
  "vscode": {
   "interpreter": {
    "hash": "4ae04c9a3e8cbfaaf818a59204fe953064ae0593c0d7ed4865e22581ae0526ea"
   }
  }
 },
 "nbformat": 4,
 "nbformat_minor": 4
}
