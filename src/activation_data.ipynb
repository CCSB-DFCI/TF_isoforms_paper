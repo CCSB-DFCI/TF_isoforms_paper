{
 "cells": [
  {
   "cell_type": "code",
   "execution_count": 1,
   "metadata": {},
   "outputs": [],
   "source": [
    "import numpy as np\n",
    "from matplotlib import pyplot as plt\n",
    "import pandas as pd\n",
    "from scipy import stats\n",
    "import seaborn as sns\n",
    "\n",
    "from data_loading import (load_m1h_activation_data,\n",
    "                          load_annotated_6k_collection)"
   ]
  },
  {
   "cell_type": "code",
   "execution_count": 2,
   "metadata": {},
   "outputs": [
    {
     "name": "stdout",
     "output_type": "stream",
     "text": [
      "reading from cache\n"
     ]
    }
   ],
   "source": [
    "m1h = load_m1h_activation_data()\n",
    "tfs = load_annotated_6k_collection()\n",
    "m1h['mean'] = m1h[['M1H_rep1', 'M1H_rep2', 'M1H_rep3']].mean(axis=1)\n",
    "\n",
    "# TODO move to data_loading.py\n",
    "df = pd.read_csv(\"../output/TF-iso_ref-vs-alt.tsv\", sep=\"\\t\")\n",
    "df['ref_iso'] = df['clone_acc_ref'].apply(lambda x: x.split('|')[0] + '-' + x.split('|')[1].split('/')[0])\n",
    "df['alt_iso'] = df['clone_acc_alt'].apply(lambda x: x.split('|')[0] + '-' + x.split('|')[1].split('/')[0])\n",
    "df['f_disorder_difference'] = df.apply(lambda x: tfs[x['gene_symbol']].disordered_fraction_of_different_regions(x['ref_iso'], x['alt_iso']), axis=1)\n",
    "\n",
    "\n",
    "def disorder_changes_category(f):\n",
    "    if pd.isnull(f):\n",
    "        return np.nan\n",
    "    elif f == 0:\n",
    "        return 'fully ordered'\n",
    "    elif f == 1:\n",
    "        return 'fully disordered'\n",
    "    elif f > 0 and f < 1:\n",
    "        return 'partially disordered'\n",
    "    else:\n",
    "        raise ValueError('Invalid fraction')\n",
    "\n",
    "\n",
    "df['f_disorder_difference_cat'] = df['f_disorder_difference'].apply(disorder_changes_category)\n",
    "m1h['gte_2_fold'] = (m1h['mean'].abs() >= 1)\n",
    "df['m1h_gte_2_fold_at_least_one_iso_per_gene'] = df['gene_symbol'].map(m1h.groupby('gene')\n",
    "                                                                    ['gte_2_fold']\n",
    "                                                                    .any())\n",
    "df['abs_activation_fold_change_log2'] = df['activation_fold_change_log2'].abs()\n",
    "\n",
    "dom = pd.concat([g.aa_feature_disruption(g.cloned_reference_isoform.name) for g in tfs.values()])\n",
    "dom = dom.loc[dom['category'] == 'effector_domain', :]\n",
    "\n",
    "# add activation or repression\n",
    "info = pd.read_excel('../data/external/Soto-et-al_MolCell_2022_Supplementary-tables.xlsx',\n",
    "                     sheet_name=\"Table S2\")\n",
    "if info['Effector domain ID'].duplicated().any():\n",
    "    raise UserWarning('unexpected duplicates')\n",
    "info = info.set_index('Effector domain ID')\n",
    "dom['type'] = dom['accession'].map(info['Domain type'])\n",
    "\n",
    "\n",
    "def fraction_of_effector_domains_removed(row, effector_type):\n",
    "    ds = dom.loc[(dom['alt_iso'] == row['alt_iso']) \n",
    "                  & (dom['type'] == effector_type), :]\n",
    "    if ds.shape[0] == 0:\n",
    "        return np.nan\n",
    "    return ds[['deletion', 'frameshift']].sum().sum() / ds['length'].sum()\n",
    "\n",
    "\n",
    "def insertion_in_effector_domains(row, effector_type):\n",
    "    ds = dom.loc[(dom['alt_iso'] == row['alt_iso']) \n",
    "                  & (dom['type'] == effector_type), :]\n",
    "    if ds.shape[0] == 0:\n",
    "        return np.nan\n",
    "    return ds['insertion'].sum()\n",
    "\n",
    "\n",
    "for effector_type in ['AD', 'RD', 'Bif']:\n",
    "    df['fraction_of_{}_domains_removed'.format(effector_type)] = df.apply(fraction_of_effector_domains_removed, effector_type=effector_type, axis=1)\n",
    "    df['insertion_in_{}_domains'.format(effector_type)] = df.apply(insertion_in_effector_domains, effector_type=effector_type, axis=1)"
   ]
  },
  {
   "cell_type": "code",
   "execution_count": 3,
   "metadata": {},
   "outputs": [
    {
     "name": "stdout",
     "output_type": "stream",
     "text": [
      "Effector domain types:\n"
     ]
    },
    {
     "data": {
      "text/plain": [
       "AD     587\n",
       "RD     350\n",
       "Bif     10\n",
       "Name: type, dtype: int64"
      ]
     },
     "execution_count": 3,
     "metadata": {},
     "output_type": "execute_result"
    }
   ],
   "source": [
    "print('Effector domain types:')\n",
    "dom['type'].value_counts()"
   ]
  },
  {
   "cell_type": "code",
   "execution_count": 4,
   "metadata": {},
   "outputs": [
    {
     "name": "stdout",
     "output_type": "stream",
     "text": [
      "Number of different types of effector domains per gene\n"
     ]
    },
    {
     "data": {
      "text/plain": [
       "1    105\n",
       "2     32\n",
       "Name: type, dtype: int64"
      ]
     },
     "execution_count": 4,
     "metadata": {},
     "output_type": "execute_result"
    }
   ],
   "source": [
    "print('Number of different types of effector domains per gene')\n",
    "dom.groupby('gene')['type'].nunique().value_counts()"
   ]
  },
  {
   "cell_type": "code",
   "execution_count": 5,
   "metadata": {},
   "outputs": [
    {
     "data": {
      "text/plain": [
       "fraction_of_AD_domains_removed  fraction_of_RD_domains_removed  fraction_of_Bif_domains_removed\n",
       "False                           False                           False                              175\n",
       "                                                                True                                 2\n",
       "                                True                            False                               38\n",
       "                                                                True                                 1\n",
       "True                            False                           False                               66\n",
       "                                                                True                                 3\n",
       "                                True                            False                               42\n",
       "dtype: int64"
      ]
     },
     "execution_count": 5,
     "metadata": {},
     "output_type": "execute_result"
    }
   ],
   "source": [
    "(df.loc[df['activation_fold_change_log2'].notnull(),\n",
    "        ['fraction_of_AD_domains_removed', 'fraction_of_RD_domains_removed', 'fraction_of_Bif_domains_removed']]\n",
    "    .notnull()\n",
    "    .groupby(['fraction_of_AD_domains_removed', 'fraction_of_RD_domains_removed', 'fraction_of_Bif_domains_removed'])\n",
    "    .size())"
   ]
  },
  {
   "cell_type": "code",
   "execution_count": 6,
   "metadata": {},
   "outputs": [
    {
     "data": {
      "image/png": "[encoded data removed]",
      "text/plain": [
       "<Figure size 864x180 with 6 Axes>"
      ]
     },
     "metadata": {
      "needs_background": "light"
     },
     "output_type": "display_data"
    }
   ],
   "source": [
    "# seperately for repression and activation?\n",
    "# full loss of activation domain\n",
    "# full loss of repression domain\n",
    "# partial loss of each\n",
    "# loss of both?\n",
    "\n",
    "from matplotlib import pyplot as plt\n",
    "COLOR_PURPLE = (155 / 255, 97 / 255, 153 / 255)\n",
    "\n",
    "\n",
    "df = df.loc[df['activation_fold_change_log2'].notnull() & df['m1h_gte_2_fold_at_least_one_iso_per_gene'], :]\n",
    "\n",
    "fig, axs = plt.subplots(1, 6, sharey=True, width_ratios=[1, 1, 1, 2, 2, 2])\n",
    "fig.set_size_inches(w=12, h=2.5)\n",
    "\n",
    "point_size = 7\n",
    "\n",
    "axs[0].set_title('Full loss of\\nactivation domain',\n",
    "fontsize=8)\n",
    "sns.swarmplot(data=df.loc[(df['fraction_of_AD_domains_removed'] == 1) \n",
    "                           & (df['fraction_of_RD_domains_removed'].isnull() | (df['fraction_of_RD_domains_removed'] == 0))\n",
    "                          & (df['fraction_of_Bif_domains_removed'].isnull() | (df['fraction_of_Bif_domains_removed'] == 0))\n",
    "                           ,\n",
    "                           :],\n",
    "              y='activation_fold_change_log2', \n",
    "              x='fraction_of_AD_domains_removed',\n",
    "              size=point_size,\n",
    "            clip_on=False,\n",
    "              ax=axs[0],\n",
    "              color=COLOR_PURPLE,\n",
    "              alpha=1)\n",
    "axs[0].set_xticks([])\n",
    "axs[0].set_xlabel('')\n",
    "\n",
    "axs[1].set_title('Full loss of\\nrepression domain',\n",
    "fontsize=8)\n",
    "sns.swarmplot(data=df.loc[(df['fraction_of_RD_domains_removed'] == 1)\n",
    "                          & (df['fraction_of_AD_domains_removed'].isnull() | (df['fraction_of_AD_domains_removed'] == 0))\n",
    "                          & (df['fraction_of_Bif_domains_removed'].isnull() | (df['fraction_of_Bif_domains_removed'] == 0))\n",
    "\n",
    "                          , :],\n",
    "              y='activation_fold_change_log2', \n",
    "              x='fraction_of_RD_domains_removed',\n",
    "              size=point_size,\n",
    "            clip_on=False,\n",
    "              ax=axs[1],\n",
    "              color=COLOR_PURPLE,\n",
    "              alpha=1)\n",
    "axs[1].set_xticks([])\n",
    "axs[1].set_xlabel('')\n",
    "\n",
    "\n",
    "\n",
    "axs[2].set_title('Full loss of both\\nactivation and\\nrepression domains',\n",
    "fontsize=8)\n",
    "sns.swarmplot(data=df.loc[(df['fraction_of_AD_domains_removed'] == 1) &\n",
    "                          (df['fraction_of_RD_domains_removed'] == 1), :],\n",
    "              y='activation_fold_change_log2', \n",
    "              x='fraction_of_RD_domains_removed',\n",
    "              size=point_size,\n",
    "            clip_on=False,\n",
    "              ax=axs[2],\n",
    "              color=COLOR_PURPLE,\n",
    "              alpha=1)\n",
    "axs[2].set_xticks([])\n",
    "axs[2].set_xlabel('')\n",
    "\n",
    "\n",
    "\n",
    "axs[3].set_title('Partial loss of activation domain',\n",
    "fontsize=8)\n",
    "partial_loss = (df['m1h_gte_2_fold_at_least_one_iso_per_gene'] \n",
    "              & (df['fraction_of_AD_domains_removed'] > 0) \n",
    "                & (df['fraction_of_AD_domains_removed'] < 1)\n",
    "                        & (df['fraction_of_RD_domains_removed'].isnull() | (df['fraction_of_RD_domains_removed'] == 0))\n",
    "                          & (df['fraction_of_Bif_domains_removed'].isnull() | (df['fraction_of_Bif_domains_removed'] == 0)))\n",
    "axs[3].scatter(df.loc[partial_loss, 'fraction_of_AD_domains_removed'].values,\n",
    "               df.loc[partial_loss, 'activation_fold_change_log2'].values,\n",
    "           alpha=1,\n",
    "           s=point_size**2/1.5,  # I don't think there should be a divide by anything here....\n",
    "            color=COLOR_PURPLE,\n",
    "           clip_on=False)\n",
    "axs[3].set_xlabel('Proportion missing')\n",
    "axs[3].set_xlim(1, 0)\n",
    "axs[3].set_xticks([0.99, 0.5, 0.01])\n",
    "axs[3].set_xticklabels([f'{x:.0%}' for x in axs[3].get_xticks()])\n",
    "#axs[1].set_xticks(range(10, 91, 10), minor=True)\n",
    "\n",
    "\n",
    "axs[4].set_title('Partial loss of repression domain',\n",
    "fontsize=8)\n",
    "partial_loss = (df['m1h_gte_2_fold_at_least_one_iso_per_gene'] \n",
    "                & (df['fraction_of_RD_domains_removed'] > 0)\n",
    "                  &  (df['fraction_of_RD_domains_removed'] < 1)\n",
    "                          & (df['fraction_of_AD_domains_removed'].isnull() | (df['fraction_of_AD_domains_removed'] == 0))\n",
    "                          & (df['fraction_of_Bif_domains_removed'].isnull() | (df['fraction_of_Bif_domains_removed'] == 0)))\n",
    "\n",
    "axs[4].scatter(df.loc[partial_loss, 'fraction_of_RD_domains_removed'].values,\n",
    "               df.loc[partial_loss, 'activation_fold_change_log2'].values,\n",
    "           alpha=1,\n",
    "           s=point_size**2/1.5,  # I don't think there should be a divide by anything here....\n",
    "            color=COLOR_PURPLE,\n",
    "           clip_on=False)\n",
    "axs[4].set_xlabel('Proportion missing')\n",
    "axs[4].set_xlim(1, 0)\n",
    "axs[4].set_xticks([0.99, 0.5, 0.01])\n",
    "axs[4].set_xticklabels([f'{x:.0%}' for x in axs[4].get_xticks()])\n",
    "#axs[1].set_xticks(range(10, 91, 10), minor=True)\n",
    "\n",
    "\n",
    "axs[5].set_title('All effector domains in alternative isoform',\n",
    "fontsize=8)\n",
    "sns.swarmplot(data=df.loc[((df['fraction_of_AD_domains_removed'] == 0) |\n",
    "                          (df['fraction_of_RD_domains_removed'] == 0) |\n",
    "                          (df['fraction_of_Bif_domains_removed'] == 0))\n",
    "                          & (df['fraction_of_AD_domains_removed'].isnull() | (df['fraction_of_AD_domains_removed'] == 0)) \n",
    "                           & (df['fraction_of_RD_domains_removed'].isnull() | (df['fraction_of_RD_domains_removed'] == 0)) \n",
    "                           & (df['fraction_of_Bif_domains_removed'].isnull() | (df['fraction_of_Bif_domains_removed'] == 0)) \n",
    "                           ,\n",
    "                           :],\n",
    "              y='activation_fold_change_log2', \n",
    "              x='m1h_gte_2_fold_at_least_one_iso_per_gene',\n",
    "              size=point_size,\n",
    "            clip_on=False,\n",
    "              ax=axs[5],\n",
    "              color=COLOR_PURPLE,\n",
    "              alpha=1)\n",
    "axs[5].set_xticks([])\n",
    "axs[5].set_xlabel('')\n",
    "\n",
    "\n",
    "\"\"\"\n",
    "\n",
    "\n",
    "axs[2].set_title('Full domain in\\nalternative isoform', fontsize=10)\n",
    "axs[2].scatter(data.loc[(data['fraction_of_DDI_domains_removed'] == 0), 'domain_n_aa_to_change'].values,\n",
    "               data.loc[(data['fraction_of_DDI_domains_removed'] == 0), 'Y2H_result_mean'].values,\n",
    "           alpha=1,\n",
    "           s=point_size**2/1.5,  # I don't think there should be a divide by anything here....\n",
    "            color=COLOR_PURPLE,\n",
    "           clip_on=False)\n",
    "axs[2].set_xlabel('Distance of alternative\\nsequence from domain\\n(number of AA)')\n",
    "\n",
    "for i in [0]:\n",
    "    axs[i].set_xlabel('')\n",
    "    axs[i].set_ylabel('')\n",
    "    axs[i].spines['bottom'].set_visible(False)\n",
    "    axs[i].xaxis.set_tick_params(length=0)\n",
    "    axs[i].set_xticks([])\n",
    "axs[0].set_yticks([0, 0.25, 0.5, 0.75, 1])\n",
    "axs[0].set_yticks(np.linspace(0, 1, 21), minor=True)\n",
    "axs[0].set_yticklabels(['{:.0%}'.format(y) for y in axs[0].get_yticks()])\n",
    "axs[0].set_ylabel('Fraction of domain-domain mediated\\nPPIs with alternative isoform')\n",
    "\"\"\"\n",
    "for ax in axs:\n",
    "    ax.spines['right'].set_visible(False)\n",
    "    ax.spines['top'].set_visible(False)\n",
    "    ax.set_ylim(-7.5, 7.5)\n",
    "    ax.axhline(y=0, color='black', linewidth=1)\n",
    "for ax in axs[1:]:\n",
    "    ax.spines['left'].set_visible(False)\n",
    "    ax.yaxis.set_tick_params(which='both', length=0)\n",
    "fig.savefig('../figures/activation_vs_domain_removal.pdf', bbox_inches='tight')"
   ]
  },
  {
   "cell_type": "code",
   "execution_count": 7,
   "metadata": {},
   "outputs": [
    {
     "data": {
      "text/plain": [
       "<AxesSubplot: xlabel='f_disorder_difference', ylabel='activation_fold_change_log2'>"
      ]
     },
     "execution_count": 7,
     "metadata": {},
     "output_type": "execute_result"
    },
    {
     "data": {
      "image/png": "[encoded data removed]",
      "text/plain": [
       "<Figure size 432x288 with 1 Axes>"
      ]
     },
     "metadata": {
      "needs_background": "light"
     },
     "output_type": "display_data"
    }
   ],
   "source": [
    "df.plot.scatter(x='f_disorder_difference', y='activation_fold_change_log2')"
   ]
  },
  {
   "cell_type": "code",
   "execution_count": 8,
   "metadata": {},
   "outputs": [
    {
     "name": "stdout",
     "output_type": "stream",
     "text": [
      "PearsonRResult(statistic=0.07470937141695497, pvalue=0.2529507103769356)\n",
      "SignificanceResult(statistic=0.1071481018046003, pvalue=0.10058356056724486)\n"
     ]
    }
   ],
   "source": [
    "x_var = 'f_disorder_difference'\n",
    "y_var = 'activation_fold_change_log2'\n",
    "x, y = df.loc[df[x_var].notnull() & df[y_var].notnull(), [x_var, y_var]].values.T\n",
    "print(stats.pearsonr(x, y))\n",
    "print(stats.spearmanr(x, y))"
   ]
  },
  {
   "cell_type": "code",
   "execution_count": 9,
   "metadata": {},
   "outputs": [
    {
     "name": "stdout",
     "output_type": "stream",
     "text": [
      "PearsonRResult(statistic=-0.0837288170698881, pvalue=0.1999518676477621)\n",
      "SignificanceResult(statistic=-0.15538103718127458, pvalue=0.01690066916679032)\n"
     ]
    }
   ],
   "source": [
    "x_var = 'f_disorder_difference'\n",
    "y_var = 'abs_activation_fold_change_log2'\n",
    "x, y = df.loc[df[x_var].notnull() & df[y_var].notnull(), [x_var, y_var]].values.T\n",
    "print(stats.pearsonr(x, y))\n",
    "print(stats.spearmanr(x, y))"
   ]
  },
  {
   "cell_type": "code",
   "execution_count": 10,
   "metadata": {},
   "outputs": [
    {
     "data": {
      "text/plain": [
       "<AxesSubplot: xlabel='f_disorder_difference_cat', ylabel='activation_fold_change_log2'>"
      ]
     },
     "execution_count": 10,
     "metadata": {},
     "output_type": "execute_result"
    },
    {
     "data": {
      "image/png": "[encoded data removed]",
      "text/plain": [
       "<Figure size 432x288 with 1 Axes>"
      ]
     },
     "metadata": {
      "needs_background": "light"
     },
     "output_type": "display_data"
    }
   ],
   "source": [
    "sns.boxplot(data=df, x='f_disorder_difference_cat', y='activation_fold_change_log2')"
   ]
  },
  {
   "cell_type": "code",
   "execution_count": 11,
   "metadata": {},
   "outputs": [
    {
     "data": {
      "text/plain": [
       "<AxesSubplot: xlabel='f_disorder_difference_cat', ylabel='abs_activation_fold_change_log2'>"
      ]
     },
     "execution_count": 11,
     "metadata": {},
     "output_type": "execute_result"
    },
    {
     "data": {
      "image/png": "[encoded data removed]",
      "text/plain": [
       "<Figure size 432x288 with 1 Axes>"
      ]
     },
     "metadata": {
      "needs_background": "light"
     },
     "output_type": "display_data"
    }
   ],
   "source": [
    "sns.boxplot(data=df, x='f_disorder_difference_cat', y='abs_activation_fold_change_log2')"
   ]
  },
  {
   "cell_type": "code",
   "execution_count": 12,
   "metadata": {},
   "outputs": [
    {
     "data": {
      "text/plain": [
       "<AxesSubplot: xlabel='f_disorder_difference_cat', ylabel='abs_activation_fold_change_log2'>"
      ]
     },
     "execution_count": 12,
     "metadata": {},
     "output_type": "execute_result"
    },
    {
     "data": {
      "image/png": "[encoded data removed]",
      "text/plain": [
       "<Figure size 432x288 with 1 Axes>"
      ]
     },
     "metadata": {
      "needs_background": "light"
     },
     "output_type": "display_data"
    }
   ],
   "source": [
    "sns.boxplot(data=df.loc[(df['m1h_gte_2_fold_at_least_one_iso_per_gene'] == True), :],\n",
    "            x='f_disorder_difference_cat',\n",
    "            y='abs_activation_fold_change_log2')"
   ]
  },
  {
   "cell_type": "code",
   "execution_count": 13,
   "metadata": {},
   "outputs": [
    {
     "data": {
      "text/plain": [
       "MannwhitneyuResult(statistic=842.0, pvalue=0.41349616924081445)"
      ]
     },
     "execution_count": 13,
     "metadata": {},
     "output_type": "execute_result"
    }
   ],
   "source": [
    "stats.mannwhitneyu(\n",
    "        df.loc[(df['m1h_gte_2_fold_at_least_one_iso_per_gene'] == True)\n",
    "               & (df['f_disorder_difference_cat'] == 'fully ordered'),\n",
    "               'abs_activation_fold_change_log2'].values,\n",
    "               df.loc[(df['m1h_gte_2_fold_at_least_one_iso_per_gene'] == True)\n",
    "               & (df['f_disorder_difference_cat'] == 'fully disordered')\n",
    "               , 'abs_activation_fold_change_log2'].values\n",
    "                          )"
   ]
  },
  {
   "attachments": {},
   "cell_type": "markdown",
   "metadata": {},
   "source": [
    "Interestingly, I don't see a difference between disordered and ordered changes and \n",
    "activation levels. Check for confounding factors like the size of the changes."
   ]
  },
  {
   "cell_type": "code",
   "execution_count": 14,
   "metadata": {},
   "outputs": [
    {
     "data": {
      "text/plain": [
       "<AxesSubplot: xlabel='f_disorder_difference_cat', ylabel='aa_seq_pct_id'>"
      ]
     },
     "execution_count": 14,
     "metadata": {},
     "output_type": "execute_result"
    },
    {
     "data": {
      "image/png": "[encoded data removed]",
      "text/plain": [
       "<Figure size 432x288 with 1 Axes>"
      ]
     },
     "metadata": {
      "needs_background": "light"
     },
     "output_type": "display_data"
    }
   ],
   "source": [
    "sns.boxplot(data=df, x='f_disorder_difference_cat', y='aa_seq_pct_id', \n",
    "            order=['fully disordered',\n",
    "                   'fully ordered',\n",
    "                   'partially disordered'])"
   ]
  },
  {
   "cell_type": "code",
   "execution_count": 15,
   "metadata": {},
   "outputs": [
    {
     "data": {
      "text/plain": [
       "<AxesSubplot: xlabel='f_disorder_difference', ylabel='abs_activation_fold_change_log2'>"
      ]
     },
     "execution_count": 15,
     "metadata": {},
     "output_type": "execute_result"
    },
    {
     "data": {
      "image/png": "[encoded data removed]",
      "text/plain": [
       "<Figure size 432x288 with 1 Axes>"
      ]
     },
     "metadata": {
      "needs_background": "light"
     },
     "output_type": "display_data"
    }
   ],
   "source": [
    "df.plot.scatter(x='f_disorder_difference', y='abs_activation_fold_change_log2')"
   ]
  },
  {
   "cell_type": "code",
   "execution_count": 16,
   "metadata": {},
   "outputs": [],
   "source": [
    "# x axis as size of change (or aa %id), y axis as act diff, split by dis and ordered"
   ]
  },
  {
   "cell_type": "code",
   "execution_count": 17,
   "metadata": {},
   "outputs": [
    {
     "data": {
      "text/html": [
       "<div>\n",
       "<style scoped>\n",
       "    .dataframe tbody tr th:only-of-type {\n",
       "        vertical-align: middle;\n",
       "    }\n",
       "\n",
       "    .dataframe tbody tr th {\n",
       "        vertical-align: top;\n",
       "    }\n",
       "\n",
       "    .dataframe thead th {\n",
       "        text-align: right;\n",
       "    }\n",
       "</style>\n",
       "<table border=\"1\" class=\"dataframe\">\n",
       "  <thead>\n",
       "    <tr style=\"text-align: right;\">\n",
       "      <th></th>\n",
       "      <th>gene_symbol</th>\n",
       "      <th>Ensembl_gene_ID</th>\n",
       "      <th>family</th>\n",
       "      <th>is_dimerizing_TF_family</th>\n",
       "      <th>clone_acc_ref</th>\n",
       "      <th>clone_acc_alt</th>\n",
       "      <th>Ensembl_transcript_IDs_ref</th>\n",
       "      <th>Ensembl_transcript_IDs_alt</th>\n",
       "      <th>is_ref_novel_isoform</th>\n",
       "      <th>is_alt_novel_isoform</th>\n",
       "      <th>is_MANE_select_isoform_cloned</th>\n",
       "      <th>n_aa_ref</th>\n",
       "      <th>n_aa_alt</th>\n",
       "      <th>n_exons_ref</th>\n",
       "      <th>n_exons_alt</th>\n",
       "      <th>is_alternative_N_terminal</th>\n",
       "      <th>is_alternative_C_terminal</th>\n",
       "      <th>is_alternative_internal_exon</th>\n",
       "      <th>is_alternative_5_prime_donor</th>\n",
       "      <th>is_alternative_3_prime_acceptor</th>\n",
       "      <th>is_exon_skipping</th>\n",
       "      <th>is_mutually_exclusive_exons</th>\n",
       "      <th>is_intron_retention</th>\n",
       "      <th>dbd_insertion_n_aa</th>\n",
       "      <th>dbd_pct_lost</th>\n",
       "      <th>dbd_affected</th>\n",
       "      <th>aa_seq_pct_id</th>\n",
       "      <th>n_positive_PPI_ref</th>\n",
       "      <th>n_positive_PPI_alt</th>\n",
       "      <th>n_PPI_successfully_tested_in_ref_and_alt</th>\n",
       "      <th>n_positive_PPI_ref_filtered</th>\n",
       "      <th>n_positive_PPI_alt_filtered</th>\n",
       "      <th>n_shared_PPI</th>\n",
       "      <th>PPI_jaccard</th>\n",
       "      <th>dimer_ppi</th>\n",
       "      <th>other_than_dimer_ppi</th>\n",
       "      <th>tf_tf_ppi</th>\n",
       "      <th>tf_cofactor_ppi</th>\n",
       "      <th>tf_signalling_ppi</th>\n",
       "      <th>n_positive_PDI_ref</th>\n",
       "      <th>n_positive_PDI_alt</th>\n",
       "      <th>n_PDI_successfully_tested_in_ref_and_alt</th>\n",
       "      <th>n_positive_PDI_ref_filtered</th>\n",
       "      <th>n_positive_PDI_alt_filtered</th>\n",
       "      <th>n_shared_PDI</th>\n",
       "      <th>PDI_jaccard</th>\n",
       "      <th>at_least_one_isoform_in_gene_abs_activation_gte_2fold</th>\n",
       "      <th>activation_ref</th>\n",
       "      <th>activation_alt</th>\n",
       "      <th>activation_fold_change_log2</th>\n",
       "      <th>ref_iso</th>\n",
       "      <th>alt_iso</th>\n",
       "      <th>f_disorder_difference</th>\n",
       "      <th>f_disorder_difference_cat</th>\n",
       "      <th>m1h_gte_2_fold_at_least_one_iso_per_gene</th>\n",
       "      <th>abs_activation_fold_change_log2</th>\n",
       "      <th>fraction_of_AD_domains_removed</th>\n",
       "      <th>insertion_in_AD_domains</th>\n",
       "      <th>fraction_of_RD_domains_removed</th>\n",
       "      <th>insertion_in_RD_domains</th>\n",
       "      <th>fraction_of_Bif_domains_removed</th>\n",
       "      <th>insertion_in_Bif_domains</th>\n",
       "    </tr>\n",
       "  </thead>\n",
       "  <tbody>\n",
       "    <tr>\n",
       "      <th>114</th>\n",
       "      <td>TBPL1</td>\n",
       "      <td>ENSG00000028839</td>\n",
       "      <td>TBP</td>\n",
       "      <td>False</td>\n",
       "      <td>TBPL1|1/2|04H06</td>\n",
       "      <td>TBPL1|2/2|04A07</td>\n",
       "      <td>ENST00000237264|ENST00000613034</td>\n",
       "      <td>ENST00000367871</td>\n",
       "      <td>False</td>\n",
       "      <td>False</td>\n",
       "      <td>True</td>\n",
       "      <td>186</td>\n",
       "      <td>163</td>\n",
       "      <td>6</td>\n",
       "      <td>5</td>\n",
       "      <td>False</td>\n",
       "      <td>True</td>\n",
       "      <td>False</td>\n",
       "      <td>True</td>\n",
       "      <td>False</td>\n",
       "      <td>False</td>\n",
       "      <td>False</td>\n",
       "      <td>False</td>\n",
       "      <td>2.0</td>\n",
       "      <td>12.121212</td>\n",
       "      <td>True</td>\n",
       "      <td>86.6</td>\n",
       "      <td>NaN</td>\n",
       "      <td>NaN</td>\n",
       "      <td>NaN</td>\n",
       "      <td>NaN</td>\n",
       "      <td>NaN</td>\n",
       "      <td>NaN</td>\n",
       "      <td>NaN</td>\n",
       "      <td>NaN</td>\n",
       "      <td>NaN</td>\n",
       "      <td>NaN</td>\n",
       "      <td>NaN</td>\n",
       "      <td>NaN</td>\n",
       "      <td>NaN</td>\n",
       "      <td>NaN</td>\n",
       "      <td>NaN</td>\n",
       "      <td>NaN</td>\n",
       "      <td>NaN</td>\n",
       "      <td>NaN</td>\n",
       "      <td>NaN</td>\n",
       "      <td>True</td>\n",
       "      <td>7.110312</td>\n",
       "      <td>0.246030</td>\n",
       "      <td>-6.864281</td>\n",
       "      <td>TBPL1-1</td>\n",
       "      <td>TBPL1-2</td>\n",
       "      <td>0.0</td>\n",
       "      <td>fully ordered</td>\n",
       "      <td>True</td>\n",
       "      <td>6.864281</td>\n",
       "      <td>NaN</td>\n",
       "      <td>NaN</td>\n",
       "      <td>NaN</td>\n",
       "      <td>NaN</td>\n",
       "      <td>NaN</td>\n",
       "      <td>NaN</td>\n",
       "    </tr>\n",
       "    <tr>\n",
       "      <th>224</th>\n",
       "      <td>E2F8</td>\n",
       "      <td>ENSG00000129173</td>\n",
       "      <td>E2F</td>\n",
       "      <td>True</td>\n",
       "      <td>E2F8|1/4|03G03</td>\n",
       "      <td>E2F8|2/4|03A06</td>\n",
       "      <td>ENST00000250024|ENST00000527884|ENST00000620009</td>\n",
       "      <td>NaN</td>\n",
       "      <td>False</td>\n",
       "      <td>True</td>\n",
       "      <td>True</td>\n",
       "      <td>867</td>\n",
       "      <td>842</td>\n",
       "      <td>12</td>\n",
       "      <td>12</td>\n",
       "      <td>False</td>\n",
       "      <td>False</td>\n",
       "      <td>False</td>\n",
       "      <td>False</td>\n",
       "      <td>True</td>\n",
       "      <td>False</td>\n",
       "      <td>False</td>\n",
       "      <td>False</td>\n",
       "      <td>1.0</td>\n",
       "      <td>16.774194</td>\n",
       "      <td>True</td>\n",
       "      <td>97.0</td>\n",
       "      <td>NaN</td>\n",
       "      <td>NaN</td>\n",
       "      <td>NaN</td>\n",
       "      <td>NaN</td>\n",
       "      <td>NaN</td>\n",
       "      <td>NaN</td>\n",
       "      <td>NaN</td>\n",
       "      <td>NaN</td>\n",
       "      <td>NaN</td>\n",
       "      <td>NaN</td>\n",
       "      <td>NaN</td>\n",
       "      <td>NaN</td>\n",
       "      <td>NaN</td>\n",
       "      <td>NaN</td>\n",
       "      <td>NaN</td>\n",
       "      <td>NaN</td>\n",
       "      <td>NaN</td>\n",
       "      <td>NaN</td>\n",
       "      <td>NaN</td>\n",
       "      <td>True</td>\n",
       "      <td>3.318486</td>\n",
       "      <td>-0.146185</td>\n",
       "      <td>-3.464671</td>\n",
       "      <td>E2F8-1</td>\n",
       "      <td>E2F8-2</td>\n",
       "      <td>0.0</td>\n",
       "      <td>fully ordered</td>\n",
       "      <td>True</td>\n",
       "      <td>3.464671</td>\n",
       "      <td>NaN</td>\n",
       "      <td>NaN</td>\n",
       "      <td>NaN</td>\n",
       "      <td>NaN</td>\n",
       "      <td>NaN</td>\n",
       "      <td>NaN</td>\n",
       "    </tr>\n",
       "    <tr>\n",
       "      <th>332</th>\n",
       "      <td>MLX</td>\n",
       "      <td>ENSG00000108788</td>\n",
       "      <td>bHLH</td>\n",
       "      <td>True</td>\n",
       "      <td>MLX|1/4|11G02</td>\n",
       "      <td>MLX|2/4|01D12</td>\n",
       "      <td>ENST00000435881</td>\n",
       "      <td>NaN</td>\n",
       "      <td>False</td>\n",
       "      <td>True</td>\n",
       "      <td>True</td>\n",
       "      <td>244</td>\n",
       "      <td>240</td>\n",
       "      <td>8</td>\n",
       "      <td>8</td>\n",
       "      <td>False</td>\n",
       "      <td>True</td>\n",
       "      <td>False</td>\n",
       "      <td>True</td>\n",
       "      <td>False</td>\n",
       "      <td>False</td>\n",
       "      <td>False</td>\n",
       "      <td>False</td>\n",
       "      <td>0.0</td>\n",
       "      <td>0.000000</td>\n",
       "      <td>False</td>\n",
       "      <td>88.8</td>\n",
       "      <td>2.0</td>\n",
       "      <td>0.0</td>\n",
       "      <td>2.0</td>\n",
       "      <td>2.0</td>\n",
       "      <td>0.0</td>\n",
       "      <td>0.0</td>\n",
       "      <td>0.0</td>\n",
       "      <td>NaN</td>\n",
       "      <td>NaN</td>\n",
       "      <td>NaN</td>\n",
       "      <td>NaN</td>\n",
       "      <td>NaN</td>\n",
       "      <td>1.0</td>\n",
       "      <td>NaN</td>\n",
       "      <td>NaN</td>\n",
       "      <td>NaN</td>\n",
       "      <td>NaN</td>\n",
       "      <td>NaN</td>\n",
       "      <td>NaN</td>\n",
       "      <td>True</td>\n",
       "      <td>1.774919</td>\n",
       "      <td>-0.354498</td>\n",
       "      <td>-2.129417</td>\n",
       "      <td>MLX-1</td>\n",
       "      <td>MLX-2</td>\n",
       "      <td>0.0</td>\n",
       "      <td>fully ordered</td>\n",
       "      <td>True</td>\n",
       "      <td>2.129417</td>\n",
       "      <td>NaN</td>\n",
       "      <td>NaN</td>\n",
       "      <td>NaN</td>\n",
       "      <td>NaN</td>\n",
       "      <td>NaN</td>\n",
       "      <td>NaN</td>\n",
       "    </tr>\n",
       "    <tr>\n",
       "      <th>11</th>\n",
       "      <td>NFIA</td>\n",
       "      <td>ENSG00000162599</td>\n",
       "      <td>SMAD</td>\n",
       "      <td>True</td>\n",
       "      <td>NFIA|2/5|02G09</td>\n",
       "      <td>NFIA|3/5|02E09</td>\n",
       "      <td>ENST00000403491</td>\n",
       "      <td>ENST00000407417</td>\n",
       "      <td>False</td>\n",
       "      <td>False</td>\n",
       "      <td>True</td>\n",
       "      <td>509</td>\n",
       "      <td>501</td>\n",
       "      <td>11</td>\n",
       "      <td>11</td>\n",
       "      <td>True</td>\n",
       "      <td>False</td>\n",
       "      <td>False</td>\n",
       "      <td>False</td>\n",
       "      <td>False</td>\n",
       "      <td>False</td>\n",
       "      <td>False</td>\n",
       "      <td>False</td>\n",
       "      <td>0.0</td>\n",
       "      <td>0.000000</td>\n",
       "      <td>False</td>\n",
       "      <td>98.2</td>\n",
       "      <td>1.0</td>\n",
       "      <td>0.0</td>\n",
       "      <td>1.0</td>\n",
       "      <td>1.0</td>\n",
       "      <td>0.0</td>\n",
       "      <td>0.0</td>\n",
       "      <td>0.0</td>\n",
       "      <td>NaN</td>\n",
       "      <td>NaN</td>\n",
       "      <td>NaN</td>\n",
       "      <td>NaN</td>\n",
       "      <td>NaN</td>\n",
       "      <td>NaN</td>\n",
       "      <td>NaN</td>\n",
       "      <td>NaN</td>\n",
       "      <td>NaN</td>\n",
       "      <td>NaN</td>\n",
       "      <td>NaN</td>\n",
       "      <td>NaN</td>\n",
       "      <td>True</td>\n",
       "      <td>4.185884</td>\n",
       "      <td>2.340298</td>\n",
       "      <td>-1.845586</td>\n",
       "      <td>NFIA-2</td>\n",
       "      <td>NFIA-3</td>\n",
       "      <td>0.0</td>\n",
       "      <td>fully ordered</td>\n",
       "      <td>True</td>\n",
       "      <td>1.845586</td>\n",
       "      <td>0.000000</td>\n",
       "      <td>0.0</td>\n",
       "      <td>0.0</td>\n",
       "      <td>0.0</td>\n",
       "      <td>NaN</td>\n",
       "      <td>NaN</td>\n",
       "    </tr>\n",
       "    <tr>\n",
       "      <th>260</th>\n",
       "      <td>TFCP2</td>\n",
       "      <td>ENSG00000135457</td>\n",
       "      <td>Grainyhead</td>\n",
       "      <td>True</td>\n",
       "      <td>TFCP2|1/3|03E08</td>\n",
       "      <td>TFCP2|2/3|03H07</td>\n",
       "      <td>ENST00000257915</td>\n",
       "      <td>NaN</td>\n",
       "      <td>False</td>\n",
       "      <td>True</td>\n",
       "      <td>True</td>\n",
       "      <td>502</td>\n",
       "      <td>451</td>\n",
       "      <td>15</td>\n",
       "      <td>14</td>\n",
       "      <td>False</td>\n",
       "      <td>False</td>\n",
       "      <td>True</td>\n",
       "      <td>False</td>\n",
       "      <td>False</td>\n",
       "      <td>True</td>\n",
       "      <td>False</td>\n",
       "      <td>False</td>\n",
       "      <td>0.0</td>\n",
       "      <td>23.502304</td>\n",
       "      <td>True</td>\n",
       "      <td>89.8</td>\n",
       "      <td>12.0</td>\n",
       "      <td>0.0</td>\n",
       "      <td>12.0</td>\n",
       "      <td>12.0</td>\n",
       "      <td>0.0</td>\n",
       "      <td>0.0</td>\n",
       "      <td>0.0</td>\n",
       "      <td>NaN</td>\n",
       "      <td>NaN</td>\n",
       "      <td>NaN</td>\n",
       "      <td>NaN</td>\n",
       "      <td>NaN</td>\n",
       "      <td>NaN</td>\n",
       "      <td>NaN</td>\n",
       "      <td>NaN</td>\n",
       "      <td>NaN</td>\n",
       "      <td>NaN</td>\n",
       "      <td>NaN</td>\n",
       "      <td>NaN</td>\n",
       "      <td>True</td>\n",
       "      <td>2.867457</td>\n",
       "      <td>1.466333</td>\n",
       "      <td>-1.401124</td>\n",
       "      <td>TFCP2-1</td>\n",
       "      <td>TFCP2-2</td>\n",
       "      <td>0.0</td>\n",
       "      <td>fully ordered</td>\n",
       "      <td>True</td>\n",
       "      <td>1.401124</td>\n",
       "      <td>0.284916</td>\n",
       "      <td>0.0</td>\n",
       "      <td>0.0</td>\n",
       "      <td>0.0</td>\n",
       "      <td>NaN</td>\n",
       "      <td>NaN</td>\n",
       "    </tr>\n",
       "  </tbody>\n",
       "</table>\n",
       "</div>"
      ],
      "text/plain": [
       "    gene_symbol  Ensembl_gene_ID      family  is_dimerizing_TF_family  \\\n",
       "114       TBPL1  ENSG00000028839         TBP                    False   \n",
       "224        E2F8  ENSG00000129173         E2F                     True   \n",
       "332         MLX  ENSG00000108788        bHLH                     True   \n",
       "11         NFIA  ENSG00000162599        SMAD                     True   \n",
       "260       TFCP2  ENSG00000135457  Grainyhead                     True   \n",
       "\n",
       "       clone_acc_ref    clone_acc_alt  \\\n",
       "114  TBPL1|1/2|04H06  TBPL1|2/2|04A07   \n",
       "224   E2F8|1/4|03G03   E2F8|2/4|03A06   \n",
       "332    MLX|1/4|11G02    MLX|2/4|01D12   \n",
       "11    NFIA|2/5|02G09   NFIA|3/5|02E09   \n",
       "260  TFCP2|1/3|03E08  TFCP2|2/3|03H07   \n",
       "\n",
       "                          Ensembl_transcript_IDs_ref  \\\n",
       "114                  ENST00000237264|ENST00000613034   \n",
       "224  ENST00000250024|ENST00000527884|ENST00000620009   \n",
       "332                                  ENST00000435881   \n",
       "11                                   ENST00000403491   \n",
       "260                                  ENST00000257915   \n",
       "\n",
       "    Ensembl_transcript_IDs_alt  is_ref_novel_isoform  is_alt_novel_isoform  \\\n",
       "114            ENST00000367871                 False                 False   \n",
       "224                        NaN                 False                  True   \n",
       "332                        NaN                 False                  True   \n",
       "11             ENST00000407417                 False                 False   \n",
       "260                        NaN                 False                  True   \n",
       "\n",
       "    is_MANE_select_isoform_cloned  n_aa_ref  n_aa_alt  n_exons_ref  \\\n",
       "114                          True       186       163            6   \n",
       "224                          True       867       842           12   \n",
       "332                          True       244       240            8   \n",
       "11                           True       509       501           11   \n",
       "260                          True       502       451           15   \n",
       "\n",
       "     n_exons_alt  is_alternative_N_terminal  is_alternative_C_terminal  \\\n",
       "114            5                      False                       True   \n",
       "224           12                      False                      False   \n",
       "332            8                      False                       True   \n",
       "11            11                       True                      False   \n",
       "260           14                      False                      False   \n",
       "\n",
       "     is_alternative_internal_exon  is_alternative_5_prime_donor  \\\n",
       "114                         False                          True   \n",
       "224                         False                         False   \n",
       "332                         False                          True   \n",
       "11                          False                         False   \n",
       "260                          True                         False   \n",
       "\n",
       "     is_alternative_3_prime_acceptor  is_exon_skipping  \\\n",
       "114                            False             False   \n",
       "224                             True             False   \n",
       "332                            False             False   \n",
       "11                             False             False   \n",
       "260                            False              True   \n",
       "\n",
       "     is_mutually_exclusive_exons  is_intron_retention  dbd_insertion_n_aa  \\\n",
       "114                        False                False                 2.0   \n",
       "224                        False                False                 1.0   \n",
       "332                        False                False                 0.0   \n",
       "11                         False                False                 0.0   \n",
       "260                        False                False                 0.0   \n",
       "\n",
       "     dbd_pct_lost  dbd_affected  aa_seq_pct_id  n_positive_PPI_ref  \\\n",
       "114     12.121212          True           86.6                 NaN   \n",
       "224     16.774194          True           97.0                 NaN   \n",
       "332      0.000000         False           88.8                 2.0   \n",
       "11       0.000000         False           98.2                 1.0   \n",
       "260     23.502304          True           89.8                12.0   \n",
       "\n",
       "     n_positive_PPI_alt  n_PPI_successfully_tested_in_ref_and_alt  \\\n",
       "114                 NaN                                       NaN   \n",
       "224                 NaN                                       NaN   \n",
       "332                 0.0                                       2.0   \n",
       "11                  0.0                                       1.0   \n",
       "260                 0.0                                      12.0   \n",
       "\n",
       "     n_positive_PPI_ref_filtered  n_positive_PPI_alt_filtered  n_shared_PPI  \\\n",
       "114                          NaN                          NaN           NaN   \n",
       "224                          NaN                          NaN           NaN   \n",
       "332                          2.0                          0.0           0.0   \n",
       "11                           1.0                          0.0           0.0   \n",
       "260                         12.0                          0.0           0.0   \n",
       "\n",
       "     PPI_jaccard dimer_ppi other_than_dimer_ppi tf_tf_ppi tf_cofactor_ppi  \\\n",
       "114          NaN       NaN                  NaN       NaN             NaN   \n",
       "224          NaN       NaN                  NaN       NaN             NaN   \n",
       "332          0.0       NaN                  NaN       NaN             NaN   \n",
       "11           0.0       NaN                  NaN       NaN             NaN   \n",
       "260          0.0       NaN                  NaN       NaN             NaN   \n",
       "\n",
       "    tf_signalling_ppi  n_positive_PDI_ref  n_positive_PDI_alt  \\\n",
       "114               NaN                 NaN                 NaN   \n",
       "224               NaN                 NaN                 NaN   \n",
       "332               NaN                 1.0                 NaN   \n",
       "11                NaN                 NaN                 NaN   \n",
       "260               NaN                 NaN                 NaN   \n",
       "\n",
       "     n_PDI_successfully_tested_in_ref_and_alt  n_positive_PDI_ref_filtered  \\\n",
       "114                                       NaN                          NaN   \n",
       "224                                       NaN                          NaN   \n",
       "332                                       NaN                          NaN   \n",
       "11                                        NaN                          NaN   \n",
       "260                                       NaN                          NaN   \n",
       "\n",
       "     n_positive_PDI_alt_filtered  n_shared_PDI  PDI_jaccard  \\\n",
       "114                          NaN           NaN          NaN   \n",
       "224                          NaN           NaN          NaN   \n",
       "332                          NaN           NaN          NaN   \n",
       "11                           NaN           NaN          NaN   \n",
       "260                          NaN           NaN          NaN   \n",
       "\n",
       "    at_least_one_isoform_in_gene_abs_activation_gte_2fold  activation_ref  \\\n",
       "114                                               True           7.110312   \n",
       "224                                               True           3.318486   \n",
       "332                                               True           1.774919   \n",
       "11                                                True           4.185884   \n",
       "260                                               True           2.867457   \n",
       "\n",
       "     activation_alt  activation_fold_change_log2  ref_iso  alt_iso  \\\n",
       "114        0.246030                    -6.864281  TBPL1-1  TBPL1-2   \n",
       "224       -0.146185                    -3.464671   E2F8-1   E2F8-2   \n",
       "332       -0.354498                    -2.129417    MLX-1    MLX-2   \n",
       "11         2.340298                    -1.845586   NFIA-2   NFIA-3   \n",
       "260        1.466333                    -1.401124  TFCP2-1  TFCP2-2   \n",
       "\n",
       "     f_disorder_difference f_disorder_difference_cat  \\\n",
       "114                    0.0             fully ordered   \n",
       "224                    0.0             fully ordered   \n",
       "332                    0.0             fully ordered   \n",
       "11                     0.0             fully ordered   \n",
       "260                    0.0             fully ordered   \n",
       "\n",
       "    m1h_gte_2_fold_at_least_one_iso_per_gene  abs_activation_fold_change_log2  \\\n",
       "114                                     True                         6.864281   \n",
       "224                                     True                         3.464671   \n",
       "332                                     True                         2.129417   \n",
       "11                                      True                         1.845586   \n",
       "260                                     True                         1.401124   \n",
       "\n",
       "     fraction_of_AD_domains_removed  insertion_in_AD_domains  \\\n",
       "114                             NaN                      NaN   \n",
       "224                             NaN                      NaN   \n",
       "332                             NaN                      NaN   \n",
       "11                         0.000000                      0.0   \n",
       "260                        0.284916                      0.0   \n",
       "\n",
       "     fraction_of_RD_domains_removed  insertion_in_RD_domains  \\\n",
       "114                             NaN                      NaN   \n",
       "224                             NaN                      NaN   \n",
       "332                             NaN                      NaN   \n",
       "11                              0.0                      0.0   \n",
       "260                             0.0                      0.0   \n",
       "\n",
       "     fraction_of_Bif_domains_removed  insertion_in_Bif_domains  \n",
       "114                              NaN                       NaN  \n",
       "224                              NaN                       NaN  \n",
       "332                              NaN                       NaN  \n",
       "11                               NaN                       NaN  \n",
       "260                              NaN                       NaN  "
      ]
     },
     "execution_count": 17,
     "metadata": {},
     "output_type": "execute_result"
    }
   ],
   "source": [
    "# check examples\n",
    "(df.loc[df['f_disorder_difference_cat'] == 'fully ordered',\n",
    "         :]\n",
    "         .sort_values('abs_activation_fold_change_log2',\n",
    "                      ascending=False)).head()"
   ]
  },
  {
   "cell_type": "code",
   "execution_count": 18,
   "metadata": {},
   "outputs": [
    {
     "data": {
      "text/plain": [
       "partially disordered    138\n",
       "fully disordered         79\n",
       "fully ordered            19\n",
       "Name: f_disorder_difference_cat, dtype: int64"
      ]
     },
     "execution_count": 18,
     "metadata": {},
     "output_type": "execute_result"
    }
   ],
   "source": [
    "df['f_disorder_difference_cat'].value_counts()"
   ]
  },
  {
   "cell_type": "code",
   "execution_count": 19,
   "metadata": {},
   "outputs": [
    {
     "data": {
      "text/plain": [
       "<AxesSubplot: xlabel='f_disorder_difference_cat', ylabel='PPI_jaccard'>"
      ]
     },
     "execution_count": 19,
     "metadata": {},
     "output_type": "execute_result"
    },
    {
     "data": {
      "image/png": "[encoded data removed]",
      "text/plain": [
       "<Figure size 432x288 with 1 Axes>"
      ]
     },
     "metadata": {
      "needs_background": "light"
     },
     "output_type": "display_data"
    }
   ],
   "source": [
    "# TODO move PPI stuff to different notebook\n",
    "sns.swarmplot(data=df.loc[(df['n_positive_PPI_ref'] > 0) & (df['n_positive_PPI_alt'] > 0)], \n",
    "              x='f_disorder_difference_cat', y='PPI_jaccard')\n",
    "sns.boxplot(data=df.loc[(df['n_positive_PPI_ref'] > 0) & (df['n_positive_PPI_alt'] > 0)], \n",
    "              x='f_disorder_difference_cat', y='PPI_jaccard')"
   ]
  },
  {
   "cell_type": "code",
   "execution_count": 20,
   "metadata": {},
   "outputs": [
    {
     "data": {
      "text/plain": [
       "MannwhitneyuResult(statistic=79.0, pvalue=0.37652470660703774)"
      ]
     },
     "execution_count": 20,
     "metadata": {},
     "output_type": "execute_result"
    }
   ],
   "source": [
    "x = df.loc[(df['n_positive_PPI_ref'] > 0) & \n",
    "       (df['n_positive_PPI_alt'] > 0) &\n",
    "       (df['f_disorder_difference_cat'] == 'fully ordered'),\n",
    "       'PPI_jaccard'].values\n",
    "y = df.loc[(df['n_positive_PPI_ref'] > 0) & \n",
    "       (df['n_positive_PPI_alt'] > 0) &\n",
    "       (df['f_disorder_difference_cat'] == 'fully disordered'),\n",
    "       'PPI_jaccard'].values\n",
    "stats.mannwhitneyu(x, y)"
   ]
  },
  {
   "cell_type": "code",
   "execution_count": 21,
   "metadata": {},
   "outputs": [
    {
     "data": {
      "text/plain": [
       "<AxesSubplot: xlabel='f_disorder_difference', ylabel='PPI_jaccard'>"
      ]
     },
     "execution_count": 21,
     "metadata": {},
     "output_type": "execute_result"
    },
    {
     "data": {
      "image/png": "[encoded data removed]",
      "text/plain": [
       "<Figure size 432x288 with 1 Axes>"
      ]
     },
     "metadata": {
      "needs_background": "light"
     },
     "output_type": "display_data"
    }
   ],
   "source": [
    "(df.loc[(df['n_positive_PPI_ref'] > 0) & \n",
    "        (df['n_positive_PPI_alt'] > 0), \n",
    "        :].plot.scatter(x='f_disorder_difference', y='PPI_jaccard'))"
   ]
  },
  {
   "cell_type": "code",
   "execution_count": 22,
   "metadata": {},
   "outputs": [
    {
     "name": "stdout",
     "output_type": "stream",
     "text": [
      "PearsonRResult(statistic=0.21399512981204669, pvalue=0.10363675707736489)\n",
      "SignificanceResult(statistic=0.2776247795047743, pvalue=0.033263028045941105)\n"
     ]
    }
   ],
   "source": [
    "x_var = 'f_disorder_difference'\n",
    "y_var = 'PPI_jaccard'\n",
    "x, y = df.loc[(df['n_positive_PPI_ref'] > 0) & \n",
    "              (df['n_positive_PPI_alt'] > 0) &\n",
    "              df[x_var].notnull() &\n",
    "              df[y_var].notnull(), [x_var, y_var]].values.T\n",
    "print(stats.pearsonr(x, y))\n",
    "print(stats.spearmanr(x, y))"
   ]
  },
  {
   "cell_type": "code",
   "execution_count": 23,
   "metadata": {},
   "outputs": [
    {
     "name": "stdout",
     "output_type": "stream",
     "text": [
      "PearsonRResult(statistic=0.2689603958369194, pvalue=0.2037765945144831)\n",
      "SignificanceResult(statistic=0.3193811981797855, pvalue=0.12818960541736044)\n"
     ]
    }
   ],
   "source": [
    "x_var = 'f_disorder_difference'\n",
    "y_var = 'PPI_jaccard'\n",
    "x, y = df.loc[(df['n_positive_PPI_ref'] > 0) & \n",
    "              (df['n_positive_PPI_alt'] > 0) &\n",
    "              (df['f_disorder_difference'] > 0) &\n",
    "              (df['f_disorder_difference'] < 1) &\n",
    "              df[x_var].notnull() &\n",
    "              df[y_var].notnull(), [x_var, y_var]].values.T\n",
    "print(stats.pearsonr(x, y))\n",
    "print(stats.spearmanr(x, y))"
   ]
  }
 ],
 "metadata": {
  "kernelspec": {
   "display_name": "venv",
   "language": "python",
   "name": "python3"
  },
  "language_info": {
   "codemirror_mode": {
    "name": "ipython",
    "version": 3
   },
   "file_extension": ".py",
   "mimetype": "text/x-python",
   "name": "python",
   "nbconvert_exporter": "python",
   "pygments_lexer": "ipython3",
   "version": "3.8.13"
  },
  "vscode": {
   "interpreter": {
    "hash": "4ae04c9a3e8cbfaaf818a59204fe953064ae0593c0d7ed4865e22581ae0526ea"
   }
  }
 },
 "nbformat": 4,
 "nbformat_minor": 4
}
