{
 "metadata": {
  "language_info": {
   "codemirror_mode": {
    "name": "ipython",
    "version": 3
   },
   "file_extension": ".py",
   "mimetype": "text/x-python",
   "name": "python",
   "nbconvert_exporter": "python",
   "pygments_lexer": "ipython3",
   "version": "3.8.6"
  },
  "orig_nbformat": 2,
  "kernelspec": {
   "name": "python38364bitvenvvenv8d959dfbae174ba78d0e283141c7bb6d",
   "display_name": "Python 3.8.3 64-bit ('venv': venv)",
   "language": "python"
  }
 },
 "nbformat": 4,
 "nbformat_minor": 2,
 "cells": [
  {
   "cell_type": "code",
   "execution_count": 2,
   "source": [
    "# splicing categories are pairwise (do they need a reference?)\n",
    "%load_ext autoreload\n",
    "%autoreload 2\n",
    "\n",
    "import numpy as np\n",
    "import pandas as pd\n",
    "from matplotlib import pyplot as plt\n",
    "import seaborn as sns\n",
    "from venn import venn\n",
    "\n",
    "from data_loading import load_annotated_6k_collection, load_annotated_gencode_tfs"
   ],
   "outputs": [],
   "metadata": {
    "tags": []
   }
  },
  {
   "cell_type": "code",
   "execution_count": null,
   "source": [
    "# add activation domains\n",
    "# add uniprot isoform IDs"
   ],
   "outputs": [],
   "metadata": {}
  },
  {
   "cell_type": "code",
   "execution_count": 3,
   "source": [
    "tfs = load_annotated_6k_collection()"
   ],
   "outputs": [],
   "metadata": {}
  },
  {
   "cell_type": "code",
   "execution_count": 4,
   "source": [
    "tfs['MAX'].exon_diagram()"
   ],
   "outputs": [
    {
     "output_type": "display_data",
     "data": {
      "text/plain": [
       "<Figure size 432x288 with 1 Axes>"
      ],
      "image/png": "[encoded data removed]"
     },
     "metadata": {
      "needs_background": "light"
     }
    }
   ],
   "metadata": {}
  },
  {
   "cell_type": "code",
   "execution_count": 93,
   "source": [
    "tfs['ATF2']['ATF2-2'].is_MANE_select_transcript"
   ],
   "outputs": [
    {
     "output_type": "execute_result",
     "data": {
      "text/plain": [
       "False"
      ]
     },
     "metadata": {},
     "execution_count": 93
    }
   ],
   "metadata": {}
  },
  {
   "cell_type": "code",
   "execution_count": 111,
   "source": [
    "genes = tfs\n",
    "\n",
    "path_APPRIS = '../data/external/APPRIS-annotations_human_GRCh38.p13_ensembl104.tsv'\n",
    "appris = pd.read_csv(path_APPRIS, sep='\\t')\n",
    "if appris['Transcript stable ID'].duplicated().any():\n",
    "    raise UserWarning('Unexpected duplicate ensembl transcript IDs in {}'.format(path_APPRIS))\n",
    "appris = appris.set_index('Transcript stable ID')['APPRIS annotation'].to_dict()\n",
    "\n",
    "def _consolidate_appris_annotations(annotations):\n",
    "    return sorted(list(annotations), key=lambda x: int(x[-1]) - 99 * x.startswith('principle'))[0]\n",
    "\n",
    "for tf in genes.values():\n",
    "    for iso in tf.orfs:\n",
    "        if iso.is_novel_isoform():\n",
    "            continue\n",
    "        annotations = {appris[tid] for tid in iso.ensembl_transcript_ids if tid in appris}\n",
    "        if len(annotations) > 0:\n",
    "            iso.APPRIS_annotation = _consolidate_appris_annotations(annotations)"
   ],
   "outputs": [],
   "metadata": {}
  },
  {
   "cell_type": "code",
   "execution_count": 120,
   "source": [
    "tfs['ATF2']['ATF2-1'].APPRIS_annotation"
   ],
   "outputs": [
    {
     "output_type": "execute_result",
     "data": {
      "text/plain": [
       "'alternative1'"
      ]
     },
     "metadata": {},
     "execution_count": 120
    }
   ],
   "metadata": {}
  },
  {
   "cell_type": "code",
   "execution_count": 118,
   "source": [
    "_consolidate_appris_annotations({'alternative1', 'principle1'})"
   ],
   "outputs": [
    {
     "output_type": "execute_result",
     "data": {
      "text/plain": [
       "'principle1'"
      ]
     },
     "metadata": {},
     "execution_count": 118
    }
   ],
   "metadata": {}
  },
  {
   "cell_type": "code",
   "execution_count": 115,
   "source": [
    "tfs['RBPJ']['RBPJ-1'].APPRIS_annotation"
   ],
   "outputs": [
    {
     "output_type": "execute_result",
     "data": {
      "text/plain": [
       "'principal2'"
      ]
     },
     "metadata": {},
     "execution_count": 115
    }
   ],
   "metadata": {}
  },
  {
   "cell_type": "code",
   "execution_count": 23,
   "source": [
    "from data_loading import load_valid_isoform_clones\n",
    "clones = load_valid_isoform_clones()\n",
    "novel = set(clones.loc[clones['is_novel_isoform'], 'clone_acc'].values)\n",
    "for tf in tfs.values():\n",
    "    for iso in tf.orfs:\n",
    "        iso.is_novel = iso.clone_acc in novel"
   ],
   "outputs": [],
   "metadata": {}
  },
  {
   "cell_type": "code",
   "execution_count": null,
   "source": [],
   "outputs": [],
   "metadata": {}
  },
  {
   "cell_type": "code",
   "execution_count": 24,
   "source": [
    "print(len([iso for tf in tfs.values() for iso in tf.orfs]), 'total isoforms')\n",
    "print(len([iso for tf in tfs.values() for iso in tf.orfs\n",
    "           if iso.ensembl_protein_ids is not None]), 'isoforms matched to ensembl')\n",
    "print(len([iso for tf in tfs.values() for iso in tf.orfs\n",
    "           if not iso.is_novel]), 'according to previous mapping')\n",
    "print(len([iso for tf in tfs.values() for iso in tf.orfs\n",
    "           if iso.ensembl_protein_ids is not None\n",
    "           and iso.alignment_clone_to_ensembl_score[0] == 1]), 'perfect matches')\n",
    "print(len([iso for tf in tfs.values() for iso in tf.orfs\n",
    "           if iso.ensembl_protein_ids is not None\n",
    "           and iso.alignment_clone_to_ensembl_score[1] == 1\n",
    "           and iso.alignment_clone_to_ensembl_score[2] == 0]), 'one mismatched AA')"
   ],
   "outputs": [
    {
     "output_type": "stream",
     "name": "stdout",
     "text": [
      "756 total isoforms\n",
      "593 isoforms matched to ensembl\n",
      "567 according to previous mapping\n",
      "456 perfect matches\n",
      "89 one mismatched AA\n"
     ]
    }
   ],
   "metadata": {}
  },
  {
   "cell_type": "code",
   "execution_count": 47,
   "source": [
    "print(len([iso for tf in tfs.values() for iso in tf.orfs\n",
    "           if iso.ensembl_protein_ids is not None\n",
    "           and not iso.is_novel\n",
    "           and iso.alignment_clone_to_ensembl_score[2] > 0]), 'with gaps in previous mapping')"
   ],
   "outputs": [
    {
     "output_type": "stream",
     "name": "stdout",
     "text": [
      "0 with gaps in previous mapping\n"
     ]
    }
   ],
   "metadata": {}
  },
  {
   "cell_type": "code",
   "execution_count": 53,
   "source": [
    "\n",
    "print([iso for tf in tfs.values() for iso in tf.orfs\n",
    "           if iso.ensembl_protein_ids is not None\n",
    "           and iso.is_novel\n",
    "           and iso.alignment_clone_to_ensembl_score[1] == 1\n",
    "           and iso.alignment_clone_to_ensembl_score[2] == 0], 'inconsitent case...')"
   ],
   "outputs": [
    {
     "output_type": "stream",
     "name": "stdout",
     "text": [
      "[Clone acc: ZBTB44|6/9|12H02\n",
      "Isoform: ZBTB44-203 / ENSP00000408079 / ENST00000445008\n",
      "length: 467 aa] consitent previous mapping\n"
     ]
    }
   ],
   "metadata": {}
  },
  {
   "cell_type": "code",
   "execution_count": 37,
   "source": [
    "# 567 non-novel iso from previous data\n",
    "from collections import Counter\n",
    "pd.DataFrame([(int(k[0]), int(k[1]), v) for k, v in Counter([iso.alignment_clone_to_ensembl_score[1:] for tf in tfs.values() for iso in tf.orfs\n",
    "           if iso.ensembl_protein_ids is not None]).items()],\n",
    "            columns=['Number of mismatches', \n",
    "            'Number of gaps',\n",
    "             'Number of clones']).sort_values([ \n",
    "            'Number of gaps',\n",
    "             'Number of mismatches'])"
   ],
   "outputs": [
    {
     "output_type": "execute_result",
     "data": {
      "text/plain": [
       "    Number of mismatches  Number of gaps  Number of clones\n",
       "0                      0               0               456\n",
       "1                      1               0                89\n",
       "4                      2               0                21\n",
       "14                     3               0                 2\n",
       "6                      0               1                 8\n",
       "3                      1               1                 4\n",
       "8                      3               1                 2\n",
       "2                      4               1                 1\n",
       "9                      0               2                 1\n",
       "10                     1               5                 2\n",
       "15                     7               5                 1\n",
       "7                      0               6                 1\n",
       "5                      1               7                 2\n",
       "13                     0              11                 1\n",
       "11                     0              14                 1\n",
       "12                     1              14                 1"
      ],
      "text/html": [
       "<div>\n",
       "<style scoped>\n",
       "    .dataframe tbody tr th:only-of-type {\n",
       "        vertical-align: middle;\n",
       "    }\n",
       "\n",
       "    .dataframe tbody tr th {\n",
       "        vertical-align: top;\n",
       "    }\n",
       "\n",
       "    .dataframe thead th {\n",
       "        text-align: right;\n",
       "    }\n",
       "</style>\n",
       "<table border=\"1\" class=\"dataframe\">\n",
       "  <thead>\n",
       "    <tr style=\"text-align: right;\">\n",
       "      <th></th>\n",
       "      <th>Number of mismatches</th>\n",
       "      <th>Number of gaps</th>\n",
       "      <th>Number of clones</th>\n",
       "    </tr>\n",
       "  </thead>\n",
       "  <tbody>\n",
       "    <tr>\n",
       "      <th>0</th>\n",
       "      <td>0</td>\n",
       "      <td>0</td>\n",
       "      <td>456</td>\n",
       "    </tr>\n",
       "    <tr>\n",
       "      <th>1</th>\n",
       "      <td>1</td>\n",
       "      <td>0</td>\n",
       "      <td>89</td>\n",
       "    </tr>\n",
       "    <tr>\n",
       "      <th>4</th>\n",
       "      <td>2</td>\n",
       "      <td>0</td>\n",
       "      <td>21</td>\n",
       "    </tr>\n",
       "    <tr>\n",
       "      <th>14</th>\n",
       "      <td>3</td>\n",
       "      <td>0</td>\n",
       "      <td>2</td>\n",
       "    </tr>\n",
       "    <tr>\n",
       "      <th>6</th>\n",
       "      <td>0</td>\n",
       "      <td>1</td>\n",
       "      <td>8</td>\n",
       "    </tr>\n",
       "    <tr>\n",
       "      <th>3</th>\n",
       "      <td>1</td>\n",
       "      <td>1</td>\n",
       "      <td>4</td>\n",
       "    </tr>\n",
       "    <tr>\n",
       "      <th>8</th>\n",
       "      <td>3</td>\n",
       "      <td>1</td>\n",
       "      <td>2</td>\n",
       "    </tr>\n",
       "    <tr>\n",
       "      <th>2</th>\n",
       "      <td>4</td>\n",
       "      <td>1</td>\n",
       "      <td>1</td>\n",
       "    </tr>\n",
       "    <tr>\n",
       "      <th>9</th>\n",
       "      <td>0</td>\n",
       "      <td>2</td>\n",
       "      <td>1</td>\n",
       "    </tr>\n",
       "    <tr>\n",
       "      <th>10</th>\n",
       "      <td>1</td>\n",
       "      <td>5</td>\n",
       "      <td>2</td>\n",
       "    </tr>\n",
       "    <tr>\n",
       "      <th>15</th>\n",
       "      <td>7</td>\n",
       "      <td>5</td>\n",
       "      <td>1</td>\n",
       "    </tr>\n",
       "    <tr>\n",
       "      <th>7</th>\n",
       "      <td>0</td>\n",
       "      <td>6</td>\n",
       "      <td>1</td>\n",
       "    </tr>\n",
       "    <tr>\n",
       "      <th>5</th>\n",
       "      <td>1</td>\n",
       "      <td>7</td>\n",
       "      <td>2</td>\n",
       "    </tr>\n",
       "    <tr>\n",
       "      <th>13</th>\n",
       "      <td>0</td>\n",
       "      <td>11</td>\n",
       "      <td>1</td>\n",
       "    </tr>\n",
       "    <tr>\n",
       "      <th>11</th>\n",
       "      <td>0</td>\n",
       "      <td>14</td>\n",
       "      <td>1</td>\n",
       "    </tr>\n",
       "    <tr>\n",
       "      <th>12</th>\n",
       "      <td>1</td>\n",
       "      <td>14</td>\n",
       "      <td>1</td>\n",
       "    </tr>\n",
       "  </tbody>\n",
       "</table>\n",
       "</div>"
      ]
     },
     "metadata": {},
     "execution_count": 37
    }
   ],
   "metadata": {}
  },
  {
   "cell_type": "code",
   "execution_count": 38,
   "source": [
    "[iso for tf in tfs.values() for iso in tf.orfs\n",
    "           if iso.ensembl_protein_ids is not None\n",
    "           and iso.alignment_clone_to_ensembl_score[1] == 0\n",
    "           and iso.alignment_clone_to_ensembl_score[2] == 1]"
   ],
   "outputs": [
    {
     "output_type": "execute_result",
     "data": {
      "text/plain": [
       "[Clone acc: KLF7|4/8|10E10\n",
       " Isoform: KLF7-203 / ENSP00000387510 / ENST00000421199\n",
       " length: 270 aa,\n",
       " Clone acc: TFCP2|2/3|03H07\n",
       " Isoform: TFCP2-204 / ENSP00000447991 / ENST00000548115\n",
       " length: 451 aa,\n",
       " Clone acc: TCF12|3/3|07B07\n",
       " Isoform: TCF12-203 / ENSP00000342459 / ENST00000343827\n",
       " length: 511 aa,\n",
       " Clone acc: RORA|2/2|05H06\n",
       " Isoform: RORA-204 / ENSP00000402971 / ENST00000449337\n",
       " length: 467 aa,\n",
       " Clone acc: ZFP1|1/4|04C02\n",
       " Isoform: ZFP1-209|ZFP1-202 / ENSP00000457044|ENSP00000377080 / ENST00000570010|ENST00000393430\n",
       " length: 406 aa,\n",
       " Clone acc: ZNF419|3/4|02D10\n",
       " Isoform: ZNF419-204 / ENSP00000392129 / ENST00000415379\n",
       " length: 465 aa,\n",
       " Clone acc: ZNF430|2/4|01E09\n",
       " Isoform: ZNF430-206 / ENSP00000471313 / ENST00000599548\n",
       " length: 112 aa,\n",
       " Clone acc: ZIC3|3/3|09C04\n",
       " Isoform: ZIC3-202 / ENSP00000359638 / ENST00000370606\n",
       " length: 456 aa]"
      ]
     },
     "metadata": {},
     "execution_count": 38
    }
   ],
   "metadata": {}
  },
  {
   "cell_type": "code",
   "execution_count": 54,
   "source": [
    "tfs['TFCP2'].exon_diagram()"
   ],
   "outputs": [
    {
     "output_type": "display_data",
     "data": {
      "text/plain": [
       "<Figure size 432x288 with 1 Axes>"
      ],
      "image/png": "",
      "image/svg+xml": "<?xml version=\"1.0\" encoding=\"utf-8\" standalone=\"no\"?>\n<!DOCTYPE svg PUBLIC \"-//W3C//DTD SVG 1.1//EN\"\n  \"http://www.w3.org/Graphics/SVG/1.1/DTD/svg11.dtd\">\n<!-- Created with matplotlib (https://matplotlib.org/) -->\n<svg height=\"231.84pt\" version=\"1.1\" viewBox=\"0 0 393.259375 231.84\" width=\"393.259375pt\" xmlns=\"http://www.w3.org/2000/svg\" xmlns:xlink=\"http://www.w3.org/1999/xlink\">\n <defs>\n  <style type=\"text/css\">\n*{stroke-linecap:butt;stroke-linejoin:round;}\n  </style>\n </defs>\n <g id=\"figure_1\">\n  <g id=\"patch_1\">\n   <path d=\"M 0 231.84 \nL 393.259375 231.84 \nL 393.259375 0 \nL 0 0 \nz\n\" style=\"fill:none;\"/>\n  </g>\n  <g id=\"axes_1\">\n   <g id=\"patch_2\">\n    <path d=\"M 51.259375 224.64 \nL 386.059375 224.64 \nL 386.059375 7.2 \nL 51.259375 7.2 \nz\n\" style=\"fill:#ffffff;\"/>\n   </g>\n   <g id=\"LineCollection_1\">\n    <path clip-path=\"url(#p709bf3cd0d)\" d=\"M 371.744886 53.794286 \nL 65.573864 53.794286 \n\" style=\"fill:none;stroke:#000000;stroke-dasharray:1.5,2.475;stroke-dashoffset:0;stroke-width:1.5;\"/>\n    <path clip-path=\"url(#p709bf3cd0d)\" d=\"M 371.744886 115.92 \nL 65.573864 115.92 \n\" style=\"fill:none;stroke:#000000;stroke-dasharray:1.5,2.475;stroke-dashoffset:0;stroke-width:1.5;\"/>\n    <path clip-path=\"url(#p709bf3cd0d)\" d=\"M 367.768639 178.045714 \nL 65.573864 178.045714 \n\" style=\"fill:none;stroke:#000000;stroke-dasharray:1.5,2.475;stroke-dashoffset:0;stroke-width:1.5;\"/>\n   </g>\n   <g id=\"patch_3\">\n    <path clip-path=\"url(#p709bf3cd0d)\" d=\"M 84.8189 38.262857 \nL 65.573864 38.262857 \nL 65.573864 69.325714 \nL 84.8189 69.325714 \nz\n\" style=\"fill:#d3ab89;stroke:#000000;\"/>\n   </g>\n   <g id=\"patch_4\">\n    <path clip-path=\"url(#p709bf3cd0d)\" d=\"M 113.765978 38.262857 \nL 89.749446 38.262857 \nL 89.749446 69.325714 \nL 113.765978 69.325714 \nz\n\" style=\"fill:#d29e85;stroke:#000000;\"/>\n   </g>\n   <g id=\"patch_5\">\n    <path clip-path=\"url(#p709bf3cd0d)\" d=\"M 130.784316 38.262857 \nL 118.696525 38.262857 \nL 118.696525 69.325714 \nL 130.784316 69.325714 \nz\n\" style=\"fill:#d29383;stroke:#000000;\"/>\n   </g>\n   <g id=\"patch_6\">\n    <path clip-path=\"url(#p709bf3cd0d)\" d=\"M 152.415099 38.262857 \nL 135.714862 38.262857 \nL 135.714862 69.325714 \nL 152.415099 69.325714 \nz\n\" style=\"fill:#cf8883;stroke:#000000;\"/>\n   </g>\n   <g id=\"patch_7\">\n    <path clip-path=\"url(#p709bf3cd0d)\" d=\"M 174.204933 38.262857 \nL 157.345646 38.262857 \nL 157.345646 69.325714 \nL 174.204933 69.325714 \nz\n\" style=\"fill:#cb7c85;stroke:#000000;\"/>\n   </g>\n   <g id=\"patch_8\">\n    <path clip-path=\"url(#p709bf3cd0d)\" d=\"M 203.311061 38.262857 \nL 179.13548 38.262857 \nL 179.13548 69.325714 \nL 203.311061 69.325714 \nz\n\" style=\"fill:#c67387;stroke:#000000;\"/>\n   </g>\n   <g id=\"patch_9\">\n    <path clip-path=\"url(#p709bf3cd0d)\" d=\"M 225.737095 38.262857 \nL 208.241608 38.262857 \nL 208.241608 69.325714 \nL 225.737095 69.325714 \nz\n\" style=\"fill:#bf6a8a;stroke:#000000;\"/>\n   </g>\n   <g id=\"patch_10\">\n    <path clip-path=\"url(#p709bf3cd0d)\" d=\"M 244.664031 38.262857 \nL 230.667641 38.262857 \nL 230.667641 69.325714 \nL 244.664031 69.325714 \nz\n\" style=\"fill:#b7628c;stroke:#000000;\"/>\n   </g>\n   <g id=\"patch_11\">\n    <path clip-path=\"url(#p709bf3cd0d)\" d=\"M 257.228971 38.262857 \nL 249.594577 38.262857 \nL 249.594577 69.325714 \nL 257.228971 69.325714 \nz\n\" style=\"fill:#ab5a8f;stroke:#000000;\"/>\n   </g>\n   <g id=\"patch_12\">\n    <path clip-path=\"url(#p709bf3cd0d)\" d=\"M 276.951156 38.262857 \nL 262.159518 38.262857 \nL 262.159518 69.325714 \nL 276.951156 69.325714 \nz\n\" style=\"fill:#9f5490;stroke:#000000;\"/>\n   </g>\n   <g id=\"patch_13\">\n    <path clip-path=\"url(#p709bf3cd0d)\" d=\"M 296.196192 38.262857 \nL 281.881703 38.262857 \nL 281.881703 69.325714 \nL 296.196192 69.325714 \nz\n\" style=\"fill:#924f91;stroke:#000000;\"/>\n   </g>\n   <g id=\"patch_14\">\n    <path clip-path=\"url(#p709bf3cd0d)\" d=\"M 320.848924 38.262857 \nL 301.126738 38.262857 \nL 301.126738 69.325714 \nL 320.848924 69.325714 \nz\n\" style=\"fill:#824a8f;stroke:#000000;\"/>\n   </g>\n   <g id=\"patch_15\">\n    <path clip-path=\"url(#p709bf3cd0d)\" d=\"M 348.364553 38.262857 \nL 325.77947 38.262857 \nL 325.77947 69.325714 \nL 348.364553 69.325714 \nz\n\" style=\"fill:#73468c;stroke:#000000;\"/>\n   </g>\n   <g id=\"patch_16\">\n    <path clip-path=\"url(#p709bf3cd0d)\" d=\"M 361.406643 38.262857 \nL 353.295099 38.262857 \nL 353.295099 69.325714 \nL 361.406643 69.325714 \nz\n\" style=\"fill:#644387;stroke:#000000;\"/>\n   </g>\n   <g id=\"patch_17\">\n    <path clip-path=\"url(#p709bf3cd0d)\" d=\"M 371.744886 38.262857 \nL 366.33719 38.262857 \nL 366.33719 69.325714 \nL 371.744886 69.325714 \nz\n\" style=\"fill:#523f7f;stroke:#000000;\"/>\n   </g>\n   <g id=\"patch_18\">\n    <path clip-path=\"url(#p709bf3cd0d)\" d=\"M 84.8189 100.388571 \nL 65.573864 100.388571 \nL 65.573864 131.451429 \nL 84.8189 131.451429 \nz\n\" style=\"fill:#d3ab89;stroke:#000000;\"/>\n   </g>\n   <g id=\"patch_19\">\n    <path clip-path=\"url(#p709bf3cd0d)\" d=\"M 113.765978 100.388571 \nL 89.749446 100.388571 \nL 89.749446 131.451429 \nL 113.765978 131.451429 \nz\n\" style=\"fill:#d29e85;stroke:#000000;\"/>\n   </g>\n   <g id=\"patch_20\">\n    <path clip-path=\"url(#p709bf3cd0d)\" d=\"M 130.784316 100.388571 \nL 118.696525 100.388571 \nL 118.696525 131.451429 \nL 130.784316 131.451429 \nz\n\" style=\"fill:#d29383;stroke:#000000;\"/>\n   </g>\n   <g id=\"patch_21\">\n    <path clip-path=\"url(#p709bf3cd0d)\" d=\"M 152.415099 100.388571 \nL 135.714862 100.388571 \nL 135.714862 131.451429 \nL 152.415099 131.451429 \nz\n\" style=\"fill:#cf8883;stroke:#000000;\"/>\n   </g>\n   <g id=\"patch_22\">\n    <path clip-path=\"url(#p709bf3cd0d)\" d=\"M 174.204933 100.388571 \nL 157.345646 100.388571 \nL 157.345646 131.451429 \nL 174.204933 131.451429 \nz\n\" style=\"fill:#cb7c85;stroke:#000000;\"/>\n   </g>\n   <g id=\"patch_23\">\n    <path clip-path=\"url(#p709bf3cd0d)\" d=\"M 225.737095 100.388571 \nL 208.241608 100.388571 \nL 208.241608 131.451429 \nL 225.737095 131.451429 \nz\n\" style=\"fill:#bf6a8a;stroke:#000000;\"/>\n   </g>\n   <g id=\"patch_24\">\n    <path clip-path=\"url(#p709bf3cd0d)\" d=\"M 244.664031 100.388571 \nL 230.667641 100.388571 \nL 230.667641 131.451429 \nL 244.664031 131.451429 \nz\n\" style=\"fill:#b7628c;stroke:#000000;\"/>\n   </g>\n   <g id=\"patch_25\">\n    <path clip-path=\"url(#p709bf3cd0d)\" d=\"M 257.228971 100.388571 \nL 249.594577 100.388571 \nL 249.594577 131.451429 \nL 257.228971 131.451429 \nz\n\" style=\"fill:#ab5a8f;stroke:#000000;\"/>\n   </g>\n   <g id=\"patch_26\">\n    <path clip-path=\"url(#p709bf3cd0d)\" d=\"M 276.951156 100.388571 \nL 262.159518 100.388571 \nL 262.159518 131.451429 \nL 276.951156 131.451429 \nz\n\" style=\"fill:#9f5490;stroke:#000000;\"/>\n   </g>\n   <g id=\"patch_27\">\n    <path clip-path=\"url(#p709bf3cd0d)\" d=\"M 296.196192 100.388571 \nL 281.881703 100.388571 \nL 281.881703 131.451429 \nL 296.196192 131.451429 \nz\n\" style=\"fill:#924f91;stroke:#000000;\"/>\n   </g>\n   <g id=\"patch_28\">\n    <path clip-path=\"url(#p709bf3cd0d)\" d=\"M 320.848924 100.388571 \nL 301.126738 100.388571 \nL 301.126738 131.451429 \nL 320.848924 131.451429 \nz\n\" style=\"fill:#824a8f;stroke:#000000;\"/>\n   </g>\n   <g id=\"patch_29\">\n    <path clip-path=\"url(#p709bf3cd0d)\" d=\"M 348.364553 100.388571 \nL 325.77947 100.388571 \nL 325.77947 131.451429 \nL 348.364553 131.451429 \nz\n\" style=\"fill:#73468c;stroke:#000000;\"/>\n   </g>\n   <g id=\"patch_30\">\n    <path clip-path=\"url(#p709bf3cd0d)\" d=\"M 361.406643 100.388571 \nL 353.295099 100.388571 \nL 353.295099 131.451429 \nL 361.406643 131.451429 \nz\n\" style=\"fill:#644387;stroke:#000000;\"/>\n   </g>\n   <g id=\"patch_31\">\n    <path clip-path=\"url(#p709bf3cd0d)\" d=\"M 371.744886 100.388571 \nL 366.33719 100.388571 \nL 366.33719 131.451429 \nL 371.744886 131.451429 \nz\n\" style=\"fill:#523f7f;stroke:#000000;\"/>\n   </g>\n   <g id=\"patch_32\">\n    <path clip-path=\"url(#p709bf3cd0d)\" d=\"M 84.8189 162.514286 \nL 65.573864 162.514286 \nL 65.573864 193.577143 \nL 84.8189 193.577143 \nz\n\" style=\"fill:#d3ab89;stroke:#000000;\"/>\n   </g>\n   <g id=\"patch_33\">\n    <path clip-path=\"url(#p709bf3cd0d)\" d=\"M 113.765978 162.514286 \nL 89.749446 162.514286 \nL 89.749446 193.577143 \nL 113.765978 193.577143 \nz\n\" style=\"fill:#d29e85;stroke:#000000;\"/>\n   </g>\n   <g id=\"patch_34\">\n    <path clip-path=\"url(#p709bf3cd0d)\" d=\"M 130.784316 162.514286 \nL 118.696525 162.514286 \nL 118.696525 193.577143 \nL 130.784316 193.577143 \nz\n\" style=\"fill:#d29383;stroke:#000000;\"/>\n   </g>\n   <g id=\"patch_35\">\n    <path clip-path=\"url(#p709bf3cd0d)\" d=\"M 152.415099 162.514286 \nL 135.714862 162.514286 \nL 135.714862 193.577143 \nL 152.415099 193.577143 \nz\n\" style=\"fill:#cf8883;stroke:#000000;\"/>\n   </g>\n   <g id=\"patch_36\">\n    <path clip-path=\"url(#p709bf3cd0d)\" d=\"M 174.204933 162.514286 \nL 157.345646 162.514286 \nL 157.345646 193.577143 \nL 174.204933 193.577143 \nz\n\" style=\"fill:#cb7c85;stroke:#000000;\"/>\n   </g>\n   <g id=\"patch_37\">\n    <path clip-path=\"url(#p709bf3cd0d)\" d=\"M 203.311061 162.514286 \nL 179.13548 162.514286 \nL 179.13548 193.577143 \nL 203.311061 193.577143 \nz\n\" style=\"fill:#c67387;stroke:#000000;\"/>\n   </g>\n   <g id=\"patch_38\">\n    <path clip-path=\"url(#p709bf3cd0d)\" d=\"M 225.737095 162.514286 \nL 208.241608 162.514286 \nL 208.241608 193.577143 \nL 225.737095 193.577143 \nz\n\" style=\"fill:#bf6a8a;stroke:#000000;\"/>\n   </g>\n   <g id=\"patch_39\">\n    <path clip-path=\"url(#p709bf3cd0d)\" d=\"M 244.664031 162.514286 \nL 230.667641 162.514286 \nL 230.667641 193.577143 \nL 244.664031 193.577143 \nz\n\" style=\"fill:#b7628c;stroke:#000000;\"/>\n   </g>\n   <g id=\"patch_40\">\n    <path clip-path=\"url(#p709bf3cd0d)\" d=\"M 320.848924 162.514286 \nL 301.126738 162.514286 \nL 301.126738 193.577143 \nL 320.848924 193.577143 \nz\n\" style=\"fill:#824a8f;stroke:#000000;\"/>\n   </g>\n   <g id=\"patch_41\">\n    <path clip-path=\"url(#p709bf3cd0d)\" d=\"M 361.406643 162.514286 \nL 353.295099 162.514286 \nL 353.295099 193.577143 \nL 361.406643 193.577143 \nz\n\" style=\"fill:#446521;stroke:#000000;\"/>\n   </g>\n   <g id=\"patch_42\">\n    <path clip-path=\"url(#p709bf3cd0d)\" d=\"M 367.768639 162.514286 \nL 366.33719 162.514286 \nL 366.33719 193.577143 \nL 367.768639 193.577143 \nz\n\" style=\"fill:#465919;stroke:#000000;\"/>\n   </g>\n   <g id=\"matplotlib.axis_1\"/>\n   <g id=\"matplotlib.axis_2\">\n    <g id=\"ytick_1\">\n     <g id=\"line2d_1\"/>\n     <g id=\"text_1\">\n      <!-- TFCP2-1 -->\n      <defs>\n       <path d=\"M 25.921875 0 \nL 25.921875 63.140625 \nL 2.34375 63.140625 \nL 2.34375 71.578125 \nL 59.078125 71.578125 \nL 59.078125 63.140625 \nL 35.40625 63.140625 \nL 35.40625 0 \nz\n\" id=\"ArialMT-84\"/>\n       <path d=\"M 8.203125 0 \nL 8.203125 71.578125 \nL 56.5 71.578125 \nL 56.5 63.140625 \nL 17.671875 63.140625 \nL 17.671875 40.96875 \nL 51.265625 40.96875 \nL 51.265625 32.515625 \nL 17.671875 32.515625 \nL 17.671875 0 \nz\n\" id=\"ArialMT-70\"/>\n       <path d=\"M 58.796875 25.09375 \nL 68.265625 22.703125 \nQ 65.28125 11.03125 57.546875 4.90625 \nQ 49.8125 -1.21875 38.625 -1.21875 \nQ 27.046875 -1.21875 19.796875 3.484375 \nQ 12.546875 8.203125 8.765625 17.140625 \nQ 4.984375 26.078125 4.984375 36.328125 \nQ 4.984375 47.515625 9.25 55.828125 \nQ 13.53125 64.15625 21.40625 68.46875 \nQ 29.296875 72.796875 38.765625 72.796875 \nQ 49.515625 72.796875 56.828125 67.328125 \nQ 64.15625 61.859375 67.046875 51.953125 \nL 57.71875 49.75 \nQ 55.21875 57.5625 50.484375 61.125 \nQ 45.75 64.703125 38.578125 64.703125 \nQ 30.328125 64.703125 24.78125 60.734375 \nQ 19.234375 56.78125 16.984375 50.109375 \nQ 14.75 43.453125 14.75 36.375 \nQ 14.75 27.25 17.40625 20.4375 \nQ 20.0625 13.625 25.671875 10.25 \nQ 31.296875 6.890625 37.84375 6.890625 \nQ 45.796875 6.890625 51.3125 11.46875 \nQ 56.84375 16.0625 58.796875 25.09375 \nz\n\" id=\"ArialMT-67\"/>\n       <path d=\"M 7.71875 0 \nL 7.71875 71.578125 \nL 34.71875 71.578125 \nQ 41.84375 71.578125 45.609375 70.90625 \nQ 50.875 70.015625 54.4375 67.546875 \nQ 58.015625 65.09375 60.1875 60.640625 \nQ 62.359375 56.203125 62.359375 50.875 \nQ 62.359375 41.75 56.546875 35.421875 \nQ 50.734375 29.109375 35.546875 29.109375 \nL 17.1875 29.109375 \nL 17.1875 0 \nz\nM 17.1875 37.546875 \nL 35.6875 37.546875 \nQ 44.875 37.546875 48.734375 40.96875 \nQ 52.59375 44.390625 52.59375 50.59375 \nQ 52.59375 55.078125 50.3125 58.265625 \nQ 48.046875 61.46875 44.34375 62.5 \nQ 41.9375 63.140625 35.5 63.140625 \nL 17.1875 63.140625 \nz\n\" id=\"ArialMT-80\"/>\n       <path d=\"M 50.34375 8.453125 \nL 50.34375 0 \nL 3.03125 0 \nQ 2.9375 3.171875 4.046875 6.109375 \nQ 5.859375 10.9375 9.828125 15.625 \nQ 13.8125 20.3125 21.34375 26.46875 \nQ 33.015625 36.03125 37.109375 41.625 \nQ 41.21875 47.21875 41.21875 52.203125 \nQ 41.21875 57.421875 37.46875 61 \nQ 33.734375 64.59375 27.734375 64.59375 \nQ 21.390625 64.59375 17.578125 60.78125 \nQ 13.765625 56.984375 13.71875 50.25 \nL 4.6875 51.171875 \nQ 5.609375 61.28125 11.65625 66.578125 \nQ 17.71875 71.875 27.9375 71.875 \nQ 38.234375 71.875 44.234375 66.15625 \nQ 50.25 60.453125 50.25 52 \nQ 50.25 47.703125 48.484375 43.546875 \nQ 46.734375 39.40625 42.65625 34.8125 \nQ 38.578125 30.21875 29.109375 22.21875 \nQ 21.1875 15.578125 18.9375 13.203125 \nQ 16.703125 10.84375 15.234375 8.453125 \nz\n\" id=\"ArialMT-50\"/>\n       <path d=\"M 3.171875 21.484375 \nL 3.171875 30.328125 \nL 30.171875 30.328125 \nL 30.171875 21.484375 \nz\n\" id=\"ArialMT-45\"/>\n       <path d=\"M 37.25 0 \nL 28.46875 0 \nL 28.46875 56 \nQ 25.296875 52.984375 20.140625 49.953125 \nQ 14.984375 46.921875 10.890625 45.40625 \nL 10.890625 53.90625 \nQ 18.265625 57.375 23.78125 62.296875 \nQ 29.296875 67.234375 31.59375 71.875 \nL 37.25 71.875 \nz\n\" id=\"ArialMT-49\"/>\n      </defs>\n      <g transform=\"translate(7.2 57.373192)scale(0.1 -0.1)\">\n       <use xlink:href=\"#ArialMT-84\"/>\n       <use x=\"61.083984\" xlink:href=\"#ArialMT-70\"/>\n       <use x=\"122.167969\" xlink:href=\"#ArialMT-67\"/>\n       <use x=\"194.384766\" xlink:href=\"#ArialMT-80\"/>\n       <use x=\"261.083984\" xlink:href=\"#ArialMT-50\"/>\n       <use x=\"316.699219\" xlink:href=\"#ArialMT-45\"/>\n       <use x=\"350\" xlink:href=\"#ArialMT-49\"/>\n      </g>\n     </g>\n    </g>\n    <g id=\"ytick_2\">\n     <g id=\"line2d_2\"/>\n     <g id=\"text_2\">\n      <!-- TFCP2-2 -->\n      <g transform=\"translate(7.2 119.498906)scale(0.1 -0.1)\">\n       <use xlink:href=\"#ArialMT-84\"/>\n       <use x=\"61.083984\" xlink:href=\"#ArialMT-70\"/>\n       <use x=\"122.167969\" xlink:href=\"#ArialMT-67\"/>\n       <use x=\"194.384766\" xlink:href=\"#ArialMT-80\"/>\n       <use x=\"261.083984\" xlink:href=\"#ArialMT-50\"/>\n       <use x=\"316.699219\" xlink:href=\"#ArialMT-45\"/>\n       <use x=\"350\" xlink:href=\"#ArialMT-50\"/>\n      </g>\n     </g>\n    </g>\n    <g id=\"ytick_3\">\n     <g id=\"line2d_3\"/>\n     <g id=\"text_3\">\n      <!-- TFCP2-3 -->\n      <defs>\n       <path d=\"M 4.203125 18.890625 \nL 12.984375 20.0625 \nQ 14.5 12.59375 18.140625 9.296875 \nQ 21.78125 6 27 6 \nQ 33.203125 6 37.46875 10.296875 \nQ 41.75 14.59375 41.75 20.953125 \nQ 41.75 27 37.796875 30.921875 \nQ 33.84375 34.859375 27.734375 34.859375 \nQ 25.25 34.859375 21.53125 33.890625 \nL 22.515625 41.609375 \nQ 23.390625 41.5 23.921875 41.5 \nQ 29.546875 41.5 34.03125 44.421875 \nQ 38.53125 47.359375 38.53125 53.46875 \nQ 38.53125 58.296875 35.25 61.46875 \nQ 31.984375 64.65625 26.8125 64.65625 \nQ 21.6875 64.65625 18.265625 61.421875 \nQ 14.84375 58.203125 13.875 51.765625 \nL 5.078125 53.328125 \nQ 6.6875 62.15625 12.390625 67.015625 \nQ 18.109375 71.875 26.609375 71.875 \nQ 32.46875 71.875 37.390625 69.359375 \nQ 42.328125 66.84375 44.9375 62.5 \nQ 47.5625 58.15625 47.5625 53.265625 \nQ 47.5625 48.640625 45.0625 44.828125 \nQ 42.578125 41.015625 37.703125 38.765625 \nQ 44.046875 37.3125 47.5625 32.6875 \nQ 51.078125 28.078125 51.078125 21.140625 \nQ 51.078125 11.765625 44.234375 5.25 \nQ 37.40625 -1.265625 26.953125 -1.265625 \nQ 17.53125 -1.265625 11.296875 4.34375 \nQ 5.078125 9.96875 4.203125 18.890625 \nz\n\" id=\"ArialMT-51\"/>\n      </defs>\n      <g transform=\"translate(7.2 181.624621)scale(0.1 -0.1)\">\n       <use xlink:href=\"#ArialMT-84\"/>\n       <use x=\"61.083984\" xlink:href=\"#ArialMT-70\"/>\n       <use x=\"122.167969\" xlink:href=\"#ArialMT-67\"/>\n       <use x=\"194.384766\" xlink:href=\"#ArialMT-80\"/>\n       <use x=\"261.083984\" xlink:href=\"#ArialMT-50\"/>\n       <use x=\"316.699219\" xlink:href=\"#ArialMT-45\"/>\n       <use x=\"350\" xlink:href=\"#ArialMT-51\"/>\n      </g>\n     </g>\n    </g>\n   </g>\n  </g>\n </g>\n <defs>\n  <clipPath id=\"p709bf3cd0d\">\n   <rect height=\"217.44\" width=\"334.8\" x=\"51.259375\" y=\"7.2\"/>\n  </clipPath>\n </defs>\n</svg>\n"
     },
     "metadata": {
      "needs_background": "light"
     }
    }
   ],
   "metadata": {}
  },
  {
   "cell_type": "code",
   "execution_count": 55,
   "source": [
    "tfs['TFCP2'].orfs"
   ],
   "outputs": [
    {
     "output_type": "execute_result",
     "data": {
      "text/plain": [
       "[Clone acc: TFCP2|1/3|03E08\n",
       " Isoform: TFCP2-201 / ENSP00000257915 / ENST00000257915\n",
       " length: 502 aa,\n",
       " Clone acc: TFCP2|2/3|03H07\n",
       " Isoform: TFCP2-204 / ENSP00000447991 / ENST00000548115\n",
       " length: 451 aa,\n",
       " Clone acc: TFCP2|3/3|03F10\n",
       " Isoform: TFCP2-3\n",
       " length: 368 aa]"
      ]
     },
     "metadata": {},
     "execution_count": 55
    }
   ],
   "metadata": {}
  },
  {
   "cell_type": "code",
   "execution_count": 44,
   "source": [
    "# something going wrong with RORA\n",
    "\n",
    "tfs['RORA']['RORA-1']"
   ],
   "outputs": [
    {
     "output_type": "execute_result",
     "data": {
      "text/plain": [
       "Clone acc: RORA|1/2|05G07\n",
       "Isoform: RORA-204 / ENSP00000402971 / ENST00000449337\n",
       "length: 468 aa"
      ]
     },
     "metadata": {},
     "execution_count": 44
    }
   ],
   "metadata": {}
  },
  {
   "cell_type": "code",
   "execution_count": null,
   "source": [
    "\n",
    "[iso.alignment_clone_to_ensembl_score[1:] for tf in tfs.values() for iso in tf.orfs\n",
    "           if iso.ensembl_protein_ids is not None]"
   ],
   "outputs": [],
   "metadata": {}
  },
  {
   "cell_type": "code",
   "execution_count": null,
   "source": [
    "# number of clones with exact match\n",
    "# number of clones with 1, 2, 3, 4, 5 different AA\n",
    "# number of clones with different insertions / deletions"
   ],
   "outputs": [],
   "metadata": {}
  },
  {
   "cell_type": "code",
   "execution_count": 251,
   "source": [
    "tfs['ZNF747'].orfs"
   ],
   "outputs": [
    {
     "output_type": "execute_result",
     "data": {
      "text/plain": [
       "[Clone acc: ZNF747|1/4|03E01\n",
       " Isoform: ZNF747-203 / ENSP00000457274 / ENST00000568028\n",
       " length: 330 aa,\n",
       " Clone acc: ZNF747|2/4|03B01\n",
       " Isoform: ZNF747-201 / ENSP00000252799 / ENST00000252799\n",
       " length: 191 aa,\n",
       " Clone acc: ZNF747|3/4|02E12\n",
       " Isoform: ZNF747-3\n",
       " length: 190 aa]"
      ]
     },
     "metadata": {},
     "execution_count": 251
    }
   ],
   "metadata": {}
  },
  {
   "cell_type": "code",
   "execution_count": 264,
   "source": [
    "seq_a = tfs['ZNF747']['ZNF747-2'].aa_seq\n",
    "seq_b = ensembl_aa_seq['ZNF747-202']\n",
    "aligner = Align.PairwiseAligner()\n",
    "aligner.mode = 'global'\n",
    "aligner.match_score = 1\n",
    "aligner.mismatch_score = -1\n",
    "aligner.gap_score = -1\n",
    "alignment = aligner.align(seq_a, seq_b)[0].__str__()\n",
    "print(alignment)"
   ],
   "outputs": [
    {
     "output_type": "stream",
     "name": "stdout",
     "text": [
      "MTDPSLGLTVPMAPPLAPLPPRDPNGAGSEWRKPGAVSFADVAVYFSREEWGCLRPAQRALYRDVMRETYGHLGALGESPTCLPGPCASTGPAAPLGAACGVGGPGAGQAASSQRGVCVLLPQESEAASRRSSPGWRRRPNCGIRLPRIRRWRSVRQKRTQQIPETRKRKDKGKGREPWRSPTLWPPGLLG\n",
      "|||||||||||||||||||||||||||||||||||||||||||||||||||||||||||||||||||||||||||||||||||||||||||||||||||||||||||||||||||||||||||||||||||||||||||||||||||||||||||||||||-|||||||||||||||||||||||||||||\n",
      "MTDPSLGLTVPMAPPLAPLPPRDPNGAGSEWRKPGAVSFADVAVYFSREEWGCLRPAQRALYRDVMRETYGHLGALGESPTCLPGPCASTGPAAPLGAACGVGGPGAGQAASSQRGVCVLLPQESEAASRRSSPGWRRRPNCGIRLPRIRRWRSVRQKRTQ-IPETRKRKDKGKGREPWRSPTLWPPGLLG\n",
      "\n"
     ]
    }
   ],
   "metadata": {}
  },
  {
   "cell_type": "code",
   "execution_count": 263,
   "source": [
    "_seq_identity(ensembl_aa_seq['ZNF747-202'], tfs['ZNF747']['ZNF747-2'].aa_seq)"
   ],
   "outputs": [
    {
     "output_type": "execute_result",
     "data": {
      "text/plain": [
       "0.9947643979057592"
      ]
     },
     "metadata": {},
     "execution_count": 263
    }
   ],
   "metadata": {}
  },
  {
   "cell_type": "code",
   "execution_count": null,
   "source": [],
   "outputs": [],
   "metadata": {}
  },
  {
   "cell_type": "code",
   "execution_count": 266,
   "source": [
    "print(len([iso for tf in tfs.values() for iso in tf.orfs if iso.ensembl_protein_ids is not None]),\n",
    "      len([iso for tf in tfs.values() for iso in tf.orfs if iso.ensembl_protein_ids is None]))\n",
    "print(clones['is_novel_isoform'].value_counts())"
   ],
   "outputs": [
    {
     "output_type": "stream",
     "name": "stdout",
     "text": [
      "593 163\n",
      "False    567\n",
      "True     191\n",
      "Name: is_novel_isoform, dtype: int64\n"
     ]
    }
   ],
   "metadata": {}
  },
  {
   "cell_type": "code",
   "execution_count": 267,
   "source": [
    "novel = set(clones.loc[clones['is_novel_isoform'], 'clone_acc'].values)\n",
    "print('isoforms im saying are novel and previously were matched')\n",
    "[iso for tf in tfs.values() for iso in tf.orfs if iso.ensembl_protein_ids is None and iso.clone_acc not in novel]"
   ],
   "outputs": [
    {
     "output_type": "stream",
     "name": "stdout",
     "text": [
      "isoforms im saying are novel and previously were matched\n"
     ]
    },
    {
     "output_type": "execute_result",
     "data": {
      "text/plain": [
       "[Clone acc: ZNF747|3/4|02E12\n",
       " Isoform: ZNF747-3\n",
       " length: 190 aa]"
      ]
     },
     "metadata": {},
     "execution_count": 267
    }
   ],
   "metadata": {}
  },
  {
   "cell_type": "code",
   "execution_count": 268,
   "source": [
    "[iso for tf in tfs.values() for iso in tf.orfs if iso.ensembl_protein_ids is not None and iso.clone_acc in novel]"
   ],
   "outputs": [
    {
     "output_type": "execute_result",
     "data": {
      "text/plain": [
       "[Clone acc: PRDM16|1/2|08F02\n",
       " Isoform: PRDM16-201 / ENSP00000270722 / ENST00000270722\n",
       " length: 1275 aa,\n",
       " Clone acc: PRDM16|2/2|08G01\n",
       " Isoform: PRDM16-206 / ENSP00000426975 / ENST00000511072\n",
       " length: 1177 aa,\n",
       " Clone acc: ESRRG|1/2|09B10\n",
       " Isoform: ESRRG-205 / ENSP00000355904 / ENST00000366937\n",
       " length: 463 aa,\n",
       " Clone acc: ESRRG|2/2|09C10\n",
       " Isoform: ESRRG-224|ESRRG-208|ESRRG-204|ESRRG-207|ESRRG-202|ESRRG-203|ESRRG-206|ESRRG-201|ESRRG-221|ESRRG-219|ESRRG-222 / ENSP00000481528|ENSP00000375761|ENSP00000355225|ENSP00000355907|ENSP00000353108|ENSP00000354584|ENSP00000355905|ENSP00000352077|ENSP00000419594|ENSP00000419155|ENSP00000417374 / ENST00000616180|ENST00000391890|ENST00000361525|ENST00000366940|ENST00000360012|ENST00000361395|ENST00000366938|ENST00000359162|ENST00000493603|ENST00000487276|ENST00000493748\n",
       " length: 442 aa,\n",
       " Clone acc: ZNF692|1/3|06D07\n",
       " Isoform: ZNF692-201 / ENSP00000305483 / ENST00000306601\n",
       " length: 518 aa,\n",
       " Clone acc: IKZF2|1/4|02B07\n",
       " Isoform: IKZF2-201 / ENSP00000342876 / ENST00000342002\n",
       " length: 533 aa,\n",
       " Clone acc: KLF7|4/8|10E10\n",
       " Isoform: KLF7-203 / ENSP00000387510 / ENST00000421199\n",
       " length: 270 aa,\n",
       " Clone acc: E2F3|2/4|10A08\n",
       " Isoform: E2F3-202 / ENSP00000443418 / ENST00000535432\n",
       " length: 340 aa,\n",
       " Clone acc: ZNF143|2/3|09G09\n",
       " Isoform: ZNF143-202 / ENSP00000379843 / ENST00000396597\n",
       " length: 606 aa,\n",
       " Clone acc: ZBTB16|1/2|01C03\n",
       " Isoform: ZBTB16-201|ZBTB16-202 / ENSP00000338157|ENSP00000376721 / ENST00000335953|ENST00000392996\n",
       " length: 671 aa,\n",
       " Clone acc: ZBTB44|6/9|12H02\n",
       " Isoform: ZBTB44-203 / ENSP00000408079 / ENST00000445008\n",
       " length: 467 aa,\n",
       " Clone acc: WT1|1/6|12B12\n",
       " Isoform: WT1-205 / ENSP00000415516 / ENST00000452863\n",
       " length: 517 aa,\n",
       " Clone acc: WT1|2/6|12C12\n",
       " Isoform: WT1-201 / ENSP00000331327 / ENST00000332351\n",
       " length: 497 aa,\n",
       " Clone acc: SOX6|5/7|07A07\n",
       " Isoform: SOX6-208 / ENSP00000434455 / ENST00000527619\n",
       " length: 790 aa,\n",
       " Clone acc: SOX6|6/7|07F08\n",
       " Isoform: SOX6-210 / ENSP00000432134 / ENST00000528252\n",
       " length: 787 aa,\n",
       " Clone acc: ARNTL2|1/5|10H01\n",
       " Isoform: ARNTL2-203 / ENSP00000312247 / ENST00000311001\n",
       " length: 633 aa,\n",
       " Clone acc: TFCP2|2/3|03H07\n",
       " Isoform: TFCP2-204 / ENSP00000447991 / ENST00000548115\n",
       " length: 451 aa,\n",
       " Clone acc: TCF12|3/3|07B07\n",
       " Isoform: TCF12-203 / ENSP00000342459 / ENST00000343827\n",
       " length: 511 aa,\n",
       " Clone acc: RORA|2/2|05H06\n",
       " Isoform: RORA-204 / ENSP00000402971 / ENST00000449337\n",
       " length: 467 aa,\n",
       " Clone acc: ZFP1|1/4|04C02\n",
       " Isoform: ZFP1-209|ZFP1-202 / ENSP00000457044|ENSP00000377080 / ENST00000570010|ENST00000393430\n",
       " length: 406 aa,\n",
       " Clone acc: ZNF207|3/4|01G11\n",
       " Isoform: ZNF207-201 / ENSP00000322777 / ENST00000321233\n",
       " length: 477 aa,\n",
       " Clone acc: ZNF302|1/5|06F09\n",
       " Isoform: ZNF302-202 / ENSP00000396379 / ENST00000446502\n",
       " length: 444 aa,\n",
       " Clone acc: ZNF419|3/4|02D10\n",
       " Isoform: ZNF419-204 / ENSP00000392129 / ENST00000415379\n",
       " length: 465 aa,\n",
       " Clone acc: ZNF430|2/4|01E09\n",
       " Isoform: ZNF430-206 / ENSP00000471313 / ENST00000599548\n",
       " length: 112 aa,\n",
       " Clone acc: ZBTB32|2/3|12C09\n",
       " Isoform: ZBTB32-206 / ENSP00000433657 / ENST00000481182\n",
       " length: 302 aa,\n",
       " Clone acc: ZNF180|1/4|10E12\n",
       " Isoform: ZNF180-201 / ENSP00000221327 / ENST00000221327\n",
       " length: 691 aa,\n",
       " Clone acc: ZIC3|3/3|09C04\n",
       " Isoform: ZIC3-202 / ENSP00000359638 / ENST00000370606\n",
       " length: 456 aa]"
      ]
     },
     "metadata": {},
     "execution_count": 268
    }
   ],
   "metadata": {}
  },
  {
   "cell_type": "code",
   "execution_count": 271,
   "source": [
    "tfs['ZNF302'].exon_diagram()"
   ],
   "outputs": [
    {
     "output_type": "display_data",
     "data": {
      "text/plain": [
       "<Figure size 432x288 with 1 Axes>"
      ],
      "image/svg+xml": "<?xml version=\"1.0\" encoding=\"utf-8\" standalone=\"no\"?>\n<!DOCTYPE svg PUBLIC \"-//W3C//DTD SVG 1.1//EN\"\n  \"http://www.w3.org/Graphics/SVG/1.1/DTD/svg11.dtd\">\n<!-- Created with matplotlib (https://matplotlib.org/) -->\n<svg height=\"231.84pt\" version=\"1.1\" viewBox=\"0 0 397.710937 231.84\" width=\"397.710937pt\" xmlns=\"http://www.w3.org/2000/svg\" xmlns:xlink=\"http://www.w3.org/1999/xlink\">\n <defs>\n  <style type=\"text/css\">\n*{stroke-linecap:butt;stroke-linejoin:round;}\n  </style>\n </defs>\n <g id=\"figure_1\">\n  <g id=\"patch_1\">\n   <path d=\"M -0 231.84 \nL 397.710937 231.84 \nL 397.710937 0 \nL -0 0 \nz\n\" style=\"fill:none;\"/>\n  </g>\n  <g id=\"axes_1\">\n   <g id=\"patch_2\">\n    <path d=\"M 55.710938 224.64 \nL 390.510938 224.64 \nL 390.510938 7.2 \nL 55.710938 7.2 \nz\n\" style=\"fill:#ffffff;\"/>\n   </g>\n   <g id=\"LineCollection_1\">\n    <path clip-path=\"url(#p256cfe9d03)\" d=\"M 72.087024 36.850909 \nL 374.134851 36.850909 \n\" style=\"fill:none;stroke:#000000;stroke-dasharray:1.5,2.475;stroke-dashoffset:0;stroke-width:1.5;\"/>\n    <path clip-path=\"url(#p256cfe9d03)\" d=\"M 72.087024 76.385455 \nL 374.134851 76.385455 \n\" style=\"fill:none;stroke:#000000;stroke-dasharray:1.5,2.475;stroke-dashoffset:0;stroke-width:1.5;\"/>\n    <path clip-path=\"url(#p256cfe9d03)\" d=\"M 72.087024 115.92 \nL 374.134851 115.92 \n\" style=\"fill:none;stroke:#000000;stroke-dasharray:1.5,2.475;stroke-dashoffset:0;stroke-width:1.5;\"/>\n    <path clip-path=\"url(#p256cfe9d03)\" d=\"M 72.087024 155.454545 \nL 189.812894 155.454545 \n\" style=\"fill:none;stroke:#000000;stroke-dasharray:1.5,2.475;stroke-dashoffset:0;stroke-width:1.5;\"/>\n    <path clip-path=\"url(#p256cfe9d03)\" d=\"M 72.087024 194.989091 \nL 189.812894 194.989091 \n\" style=\"fill:none;stroke:#000000;stroke-dasharray:1.5,2.475;stroke-dashoffset:0;stroke-width:1.5;\"/>\n   </g>\n   <g id=\"patch_3\">\n    <path clip-path=\"url(#p256cfe9d03)\" d=\"M 72.087024 26.967273 \nL 73.542677 26.967273 \nL 73.542677 46.734545 \nL 72.087024 46.734545 \nz\n\" style=\"fill:#d3ab89;stroke:#000000;\"/>\n   </g>\n   <g id=\"patch_4\">\n    <path clip-path=\"url(#p256cfe9d03)\" d=\"M 79.183329 26.967273 \nL 103.019633 26.967273 \nL 103.019633 46.734545 \nL 79.183329 46.734545 \nz\n\" style=\"fill:#d08a83;stroke:#000000;\"/>\n   </g>\n   <g id=\"patch_5\">\n    <path clip-path=\"url(#p256cfe9d03)\" d=\"M 108.660285 26.967273 \nL 130.495068 26.967273 \nL 130.495068 46.734545 \nL 108.660285 46.734545 \nz\n\" style=\"fill:#c36e89;stroke:#000000;\"/>\n   </g>\n   <g id=\"patch_6\">\n    <path clip-path=\"url(#p256cfe9d03)\" d=\"M 136.13572 26.967273 \nL 151.783981 26.967273 \nL 151.783981 46.734545 \nL 136.13572 46.734545 \nz\n\" style=\"fill:#a65790;stroke:#000000;\"/>\n   </g>\n   <g id=\"patch_7\">\n    <path clip-path=\"url(#p256cfe9d03)\" d=\"M 195.453546 26.967273 \nL 374.134851 26.967273 \nL 374.134851 46.734545 \nL 195.453546 46.734545 \nz\n\" style=\"fill:#523f7f;stroke:#000000;\"/>\n   </g>\n   <g id=\"patch_8\">\n    <path clip-path=\"url(#p256cfe9d03)\" d=\"M 72.087024 66.501818 \nL 73.542677 66.501818 \nL 73.542677 86.269091 \nL 72.087024 86.269091 \nz\n\" style=\"fill:#d3ab89;stroke:#000000;\"/>\n   </g>\n   <g id=\"patch_9\">\n    <path clip-path=\"url(#p256cfe9d03)\" d=\"M 108.660285 66.501818 \nL 130.495068 66.501818 \nL 130.495068 86.269091 \nL 108.660285 86.269091 \nz\n\" style=\"fill:#c36e89;stroke:#000000;\"/>\n   </g>\n   <g id=\"patch_10\">\n    <path clip-path=\"url(#p256cfe9d03)\" d=\"M 136.13572 66.501818 \nL 151.783981 66.501818 \nL 151.783981 86.269091 \nL 136.13572 86.269091 \nz\n\" style=\"fill:#a65790;stroke:#000000;\"/>\n   </g>\n   <g id=\"patch_11\">\n    <path clip-path=\"url(#p256cfe9d03)\" d=\"M 195.453546 66.501818 \nL 374.134851 66.501818 \nL 374.134851 86.269091 \nL 195.453546 86.269091 \nz\n\" style=\"fill:#523f7f;stroke:#000000;\"/>\n   </g>\n   <g id=\"patch_12\">\n    <path clip-path=\"url(#p256cfe9d03)\" d=\"M 72.087024 106.036364 \nL 73.542677 106.036364 \nL 73.542677 125.803636 \nL 72.087024 125.803636 \nz\n\" style=\"fill:#d3ab89;stroke:#000000;\"/>\n   </g>\n   <g id=\"patch_13\">\n    <path clip-path=\"url(#p256cfe9d03)\" d=\"M 108.660285 106.036364 \nL 130.495068 106.036364 \nL 130.495068 125.803636 \nL 108.660285 125.803636 \nz\n\" style=\"fill:#c36e89;stroke:#000000;\"/>\n   </g>\n   <g id=\"patch_14\">\n    <path clip-path=\"url(#p256cfe9d03)\" d=\"M 136.68159 106.036364 \nL 151.783981 106.036364 \nL 151.783981 125.803636 \nL 136.68159 125.803636 \nz\n\" style=\"fill:#a65790;stroke:#000000;\"/>\n   </g>\n   <g id=\"patch_15\">\n    <path clip-path=\"url(#p256cfe9d03)\" d=\"M 195.453546 106.036364 \nL 374.134851 106.036364 \nL 374.134851 125.803636 \nL 195.453546 125.803636 \nz\n\" style=\"fill:#523f7f;stroke:#000000;\"/>\n   </g>\n   <g id=\"patch_16\">\n    <path clip-path=\"url(#p256cfe9d03)\" d=\"M 72.087024 145.570909 \nL 73.542677 145.570909 \nL 73.542677 165.338182 \nL 72.087024 165.338182 \nz\n\" style=\"fill:#d3ab89;stroke:#000000;\"/>\n   </g>\n   <g id=\"patch_17\">\n    <path clip-path=\"url(#p256cfe9d03)\" d=\"M 108.660285 145.570909 \nL 130.495068 145.570909 \nL 130.495068 165.338182 \nL 108.660285 165.338182 \nz\n\" style=\"fill:#c36e89;stroke:#000000;\"/>\n   </g>\n   <g id=\"patch_18\">\n    <path clip-path=\"url(#p256cfe9d03)\" d=\"M 136.13572 145.570909 \nL 151.783981 145.570909 \nL 151.783981 165.338182 \nL 136.13572 165.338182 \nz\n\" style=\"fill:#a65790;stroke:#000000;\"/>\n   </g>\n   <g id=\"patch_19\">\n    <path clip-path=\"url(#p256cfe9d03)\" d=\"M 157.424633 145.570909 \nL 189.812894 145.570909 \nL 189.812894 165.338182 \nL 157.424633 165.338182 \nz\n\" style=\"fill:#7f498f;stroke:#000000;\"/>\n   </g>\n   <g id=\"patch_20\">\n    <path clip-path=\"url(#p256cfe9d03)\" d=\"M 72.087024 185.105455 \nL 73.542677 185.105455 \nL 73.542677 204.872727 \nL 72.087024 204.872727 \nz\n\" style=\"fill:#d3ab89;stroke:#000000;\"/>\n   </g>\n   <g id=\"patch_21\">\n    <path clip-path=\"url(#p256cfe9d03)\" d=\"M 108.660285 185.105455 \nL 130.495068 185.105455 \nL 130.495068 204.872727 \nL 108.660285 204.872727 \nz\n\" style=\"fill:#c36e89;stroke:#000000;\"/>\n   </g>\n   <g id=\"patch_22\">\n    <path clip-path=\"url(#p256cfe9d03)\" d=\"M 136.68159 185.105455 \nL 151.783981 185.105455 \nL 151.783981 204.872727 \nL 136.68159 204.872727 \nz\n\" style=\"fill:#a65790;stroke:#000000;\"/>\n   </g>\n   <g id=\"patch_23\">\n    <path clip-path=\"url(#p256cfe9d03)\" d=\"M 157.424633 185.105455 \nL 189.812894 185.105455 \nL 189.812894 204.872727 \nL 157.424633 204.872727 \nz\n\" style=\"fill:#7f498f;stroke:#000000;\"/>\n   </g>\n   <g id=\"matplotlib.axis_1\"/>\n   <g id=\"matplotlib.axis_2\">\n    <g id=\"ytick_1\">\n     <g id=\"line2d_1\"/>\n     <g id=\"text_1\">\n      <!-- ZNF302-1 -->\n      <defs>\n       <path d=\"M 2 0 \nL 2 8.796875 \nL 38.671875 54.640625 \nQ 42.578125 59.515625 46.09375 63.140625 \nL 6.15625 63.140625 \nL 6.15625 71.578125 \nL 57.421875 71.578125 \nL 57.421875 63.140625 \nL 17.234375 13.484375 \nL 12.890625 8.453125 \nL 58.59375 8.453125 \nL 58.59375 0 \nz\n\" id=\"ArialMT-90\"/>\n       <path d=\"M 7.625 0 \nL 7.625 71.578125 \nL 17.328125 71.578125 \nL 54.9375 15.375 \nL 54.9375 71.578125 \nL 64.015625 71.578125 \nL 64.015625 0 \nL 54.296875 0 \nL 16.703125 56.25 \nL 16.703125 0 \nz\n\" id=\"ArialMT-78\"/>\n       <path d=\"M 8.203125 0 \nL 8.203125 71.578125 \nL 56.5 71.578125 \nL 56.5 63.140625 \nL 17.671875 63.140625 \nL 17.671875 40.96875 \nL 51.265625 40.96875 \nL 51.265625 32.515625 \nL 17.671875 32.515625 \nL 17.671875 0 \nz\n\" id=\"ArialMT-70\"/>\n       <path d=\"M 4.203125 18.890625 \nL 12.984375 20.0625 \nQ 14.5 12.59375 18.140625 9.296875 \nQ 21.78125 6 27 6 \nQ 33.203125 6 37.46875 10.296875 \nQ 41.75 14.59375 41.75 20.953125 \nQ 41.75 27 37.796875 30.921875 \nQ 33.84375 34.859375 27.734375 34.859375 \nQ 25.25 34.859375 21.53125 33.890625 \nL 22.515625 41.609375 \nQ 23.390625 41.5 23.921875 41.5 \nQ 29.546875 41.5 34.03125 44.421875 \nQ 38.53125 47.359375 38.53125 53.46875 \nQ 38.53125 58.296875 35.25 61.46875 \nQ 31.984375 64.65625 26.8125 64.65625 \nQ 21.6875 64.65625 18.265625 61.421875 \nQ 14.84375 58.203125 13.875 51.765625 \nL 5.078125 53.328125 \nQ 6.6875 62.15625 12.390625 67.015625 \nQ 18.109375 71.875 26.609375 71.875 \nQ 32.46875 71.875 37.390625 69.359375 \nQ 42.328125 66.84375 44.9375 62.5 \nQ 47.5625 58.15625 47.5625 53.265625 \nQ 47.5625 48.640625 45.0625 44.828125 \nQ 42.578125 41.015625 37.703125 38.765625 \nQ 44.046875 37.3125 47.5625 32.6875 \nQ 51.078125 28.078125 51.078125 21.140625 \nQ 51.078125 11.765625 44.234375 5.25 \nQ 37.40625 -1.265625 26.953125 -1.265625 \nQ 17.53125 -1.265625 11.296875 4.34375 \nQ 5.078125 9.96875 4.203125 18.890625 \nz\n\" id=\"ArialMT-51\"/>\n       <path d=\"M 4.15625 35.296875 \nQ 4.15625 48 6.765625 55.734375 \nQ 9.375 63.484375 14.515625 67.671875 \nQ 19.671875 71.875 27.484375 71.875 \nQ 33.25 71.875 37.59375 69.546875 \nQ 41.9375 67.234375 44.765625 62.859375 \nQ 47.609375 58.5 49.21875 52.21875 \nQ 50.828125 45.953125 50.828125 35.296875 \nQ 50.828125 22.703125 48.234375 14.96875 \nQ 45.65625 7.234375 40.5 3 \nQ 35.359375 -1.21875 27.484375 -1.21875 \nQ 17.140625 -1.21875 11.234375 6.203125 \nQ 4.15625 15.140625 4.15625 35.296875 \nz\nM 13.1875 35.296875 \nQ 13.1875 17.671875 17.3125 11.828125 \nQ 21.4375 6 27.484375 6 \nQ 33.546875 6 37.671875 11.859375 \nQ 41.796875 17.71875 41.796875 35.296875 \nQ 41.796875 52.984375 37.671875 58.78125 \nQ 33.546875 64.59375 27.390625 64.59375 \nQ 21.34375 64.59375 17.71875 59.46875 \nQ 13.1875 52.9375 13.1875 35.296875 \nz\n\" id=\"ArialMT-48\"/>\n       <path d=\"M 50.34375 8.453125 \nL 50.34375 0 \nL 3.03125 0 \nQ 2.9375 3.171875 4.046875 6.109375 \nQ 5.859375 10.9375 9.828125 15.625 \nQ 13.8125 20.3125 21.34375 26.46875 \nQ 33.015625 36.03125 37.109375 41.625 \nQ 41.21875 47.21875 41.21875 52.203125 \nQ 41.21875 57.421875 37.46875 61 \nQ 33.734375 64.59375 27.734375 64.59375 \nQ 21.390625 64.59375 17.578125 60.78125 \nQ 13.765625 56.984375 13.71875 50.25 \nL 4.6875 51.171875 \nQ 5.609375 61.28125 11.65625 66.578125 \nQ 17.71875 71.875 27.9375 71.875 \nQ 38.234375 71.875 44.234375 66.15625 \nQ 50.25 60.453125 50.25 52 \nQ 50.25 47.703125 48.484375 43.546875 \nQ 46.734375 39.40625 42.65625 34.8125 \nQ 38.578125 30.21875 29.109375 22.21875 \nQ 21.1875 15.578125 18.9375 13.203125 \nQ 16.703125 10.84375 15.234375 8.453125 \nz\n\" id=\"ArialMT-50\"/>\n       <path d=\"M 3.171875 21.484375 \nL 3.171875 30.328125 \nL 30.171875 30.328125 \nL 30.171875 21.484375 \nz\n\" id=\"ArialMT-45\"/>\n       <path d=\"M 37.25 0 \nL 28.46875 0 \nL 28.46875 56 \nQ 25.296875 52.984375 20.140625 49.953125 \nQ 14.984375 46.921875 10.890625 45.40625 \nL 10.890625 53.90625 \nQ 18.265625 57.375 23.78125 62.296875 \nQ 29.296875 67.234375 31.59375 71.875 \nL 37.25 71.875 \nz\n\" id=\"ArialMT-49\"/>\n      </defs>\n      <g transform=\"translate(7.2 40.429815)scale(0.1 -0.1)\">\n       <use xlink:href=\"#ArialMT-90\"/>\n       <use x=\"61.083984\" xlink:href=\"#ArialMT-78\"/>\n       <use x=\"133.300781\" xlink:href=\"#ArialMT-70\"/>\n       <use x=\"194.384766\" xlink:href=\"#ArialMT-51\"/>\n       <use x=\"250\" xlink:href=\"#ArialMT-48\"/>\n       <use x=\"305.615234\" xlink:href=\"#ArialMT-50\"/>\n       <use x=\"361.230469\" xlink:href=\"#ArialMT-45\"/>\n       <use x=\"394.53125\" xlink:href=\"#ArialMT-49\"/>\n      </g>\n     </g>\n    </g>\n    <g id=\"ytick_2\">\n     <g id=\"line2d_2\"/>\n     <g id=\"text_2\">\n      <!-- ZNF302-2 -->\n      <g transform=\"translate(7.2 79.964361)scale(0.1 -0.1)\">\n       <use xlink:href=\"#ArialMT-90\"/>\n       <use x=\"61.083984\" xlink:href=\"#ArialMT-78\"/>\n       <use x=\"133.300781\" xlink:href=\"#ArialMT-70\"/>\n       <use x=\"194.384766\" xlink:href=\"#ArialMT-51\"/>\n       <use x=\"250\" xlink:href=\"#ArialMT-48\"/>\n       <use x=\"305.615234\" xlink:href=\"#ArialMT-50\"/>\n       <use x=\"361.230469\" xlink:href=\"#ArialMT-45\"/>\n       <use x=\"394.53125\" xlink:href=\"#ArialMT-50\"/>\n      </g>\n     </g>\n    </g>\n    <g id=\"ytick_3\">\n     <g id=\"line2d_3\"/>\n     <g id=\"text_3\">\n      <!-- ZNF302-3 -->\n      <g transform=\"translate(7.2 119.498906)scale(0.1 -0.1)\">\n       <use xlink:href=\"#ArialMT-90\"/>\n       <use x=\"61.083984\" xlink:href=\"#ArialMT-78\"/>\n       <use x=\"133.300781\" xlink:href=\"#ArialMT-70\"/>\n       <use x=\"194.384766\" xlink:href=\"#ArialMT-51\"/>\n       <use x=\"250\" xlink:href=\"#ArialMT-48\"/>\n       <use x=\"305.615234\" xlink:href=\"#ArialMT-50\"/>\n       <use x=\"361.230469\" xlink:href=\"#ArialMT-45\"/>\n       <use x=\"394.53125\" xlink:href=\"#ArialMT-51\"/>\n      </g>\n     </g>\n    </g>\n    <g id=\"ytick_4\">\n     <g id=\"line2d_4\"/>\n     <g id=\"text_4\">\n      <!-- ZNF302-4 -->\n      <defs>\n       <path d=\"M 32.328125 0 \nL 32.328125 17.140625 \nL 1.265625 17.140625 \nL 1.265625 25.203125 \nL 33.9375 71.578125 \nL 41.109375 71.578125 \nL 41.109375 25.203125 \nL 50.78125 25.203125 \nL 50.78125 17.140625 \nL 41.109375 17.140625 \nL 41.109375 0 \nz\nM 32.328125 25.203125 \nL 32.328125 57.46875 \nL 9.90625 25.203125 \nz\n\" id=\"ArialMT-52\"/>\n      </defs>\n      <g transform=\"translate(7.2 159.033452)scale(0.1 -0.1)\">\n       <use xlink:href=\"#ArialMT-90\"/>\n       <use x=\"61.083984\" xlink:href=\"#ArialMT-78\"/>\n       <use x=\"133.300781\" xlink:href=\"#ArialMT-70\"/>\n       <use x=\"194.384766\" xlink:href=\"#ArialMT-51\"/>\n       <use x=\"250\" xlink:href=\"#ArialMT-48\"/>\n       <use x=\"305.615234\" xlink:href=\"#ArialMT-50\"/>\n       <use x=\"361.230469\" xlink:href=\"#ArialMT-45\"/>\n       <use x=\"394.53125\" xlink:href=\"#ArialMT-52\"/>\n      </g>\n     </g>\n    </g>\n    <g id=\"ytick_5\">\n     <g id=\"line2d_5\"/>\n     <g id=\"text_5\">\n      <!-- ZNF302-5 -->\n      <defs>\n       <path d=\"M 4.15625 18.75 \nL 13.375 19.53125 \nQ 14.40625 12.796875 18.140625 9.390625 \nQ 21.875 6 27.15625 6 \nQ 33.5 6 37.890625 10.78125 \nQ 42.28125 15.578125 42.28125 23.484375 \nQ 42.28125 31 38.0625 35.34375 \nQ 33.84375 39.703125 27 39.703125 \nQ 22.75 39.703125 19.328125 37.765625 \nQ 15.921875 35.84375 13.96875 32.765625 \nL 5.71875 33.84375 \nL 12.640625 70.609375 \nL 48.25 70.609375 \nL 48.25 62.203125 \nL 19.671875 62.203125 \nL 15.828125 42.96875 \nQ 22.265625 47.46875 29.34375 47.46875 \nQ 38.71875 47.46875 45.15625 40.96875 \nQ 51.609375 34.46875 51.609375 24.265625 \nQ 51.609375 14.546875 45.953125 7.46875 \nQ 39.0625 -1.21875 27.15625 -1.21875 \nQ 17.390625 -1.21875 11.203125 4.25 \nQ 5.03125 9.71875 4.15625 18.75 \nz\n\" id=\"ArialMT-53\"/>\n      </defs>\n      <g transform=\"translate(7.2 198.567997)scale(0.1 -0.1)\">\n       <use xlink:href=\"#ArialMT-90\"/>\n       <use x=\"61.083984\" xlink:href=\"#ArialMT-78\"/>\n       <use x=\"133.300781\" xlink:href=\"#ArialMT-70\"/>\n       <use x=\"194.384766\" xlink:href=\"#ArialMT-51\"/>\n       <use x=\"250\" xlink:href=\"#ArialMT-48\"/>\n       <use x=\"305.615234\" xlink:href=\"#ArialMT-50\"/>\n       <use x=\"361.230469\" xlink:href=\"#ArialMT-45\"/>\n       <use x=\"394.53125\" xlink:href=\"#ArialMT-53\"/>\n      </g>\n     </g>\n    </g>\n   </g>\n   <g id=\"text_6\">\n    <!-- 3 nt -->\n    <defs>\n     <path id=\"ArialMT-32\"/>\n     <path d=\"M 6.59375 0 \nL 6.59375 51.859375 \nL 14.5 51.859375 \nL 14.5 44.484375 \nQ 20.21875 53.03125 31 53.03125 \nQ 35.6875 53.03125 39.625 51.34375 \nQ 43.5625 49.65625 45.515625 46.921875 \nQ 47.46875 44.1875 48.25 40.4375 \nQ 48.734375 37.984375 48.734375 31.890625 \nL 48.734375 0 \nL 39.9375 0 \nL 39.9375 31.546875 \nQ 39.9375 36.921875 38.90625 39.578125 \nQ 37.890625 42.234375 35.28125 43.8125 \nQ 32.671875 45.40625 29.15625 45.40625 \nQ 23.53125 45.40625 19.453125 41.84375 \nQ 15.375 38.28125 15.375 28.328125 \nL 15.375 0 \nz\n\" id=\"ArialMT-110\"/>\n     <path d=\"M 25.78125 7.859375 \nL 27.046875 0.09375 \nQ 23.34375 -0.6875 20.40625 -0.6875 \nQ 15.625 -0.6875 12.984375 0.828125 \nQ 10.359375 2.34375 9.28125 4.8125 \nQ 8.203125 7.28125 8.203125 15.1875 \nL 8.203125 45.015625 \nL 1.765625 45.015625 \nL 1.765625 51.859375 \nL 8.203125 51.859375 \nL 8.203125 64.703125 \nL 16.9375 69.96875 \nL 16.9375 51.859375 \nL 25.78125 51.859375 \nL 25.78125 45.015625 \nL 16.9375 45.015625 \nL 16.9375 14.703125 \nQ 16.9375 10.9375 17.40625 9.859375 \nQ 17.875 8.796875 18.921875 8.15625 \nQ 19.96875 7.515625 21.921875 7.515625 \nQ 23.390625 7.515625 25.78125 7.859375 \nz\n\" id=\"ArialMT-116\"/>\n    </defs>\n    <g transform=\"translate(136.68159 131.28436)scale(0.06 -0.06)\">\n     <use xlink:href=\"#ArialMT-51\"/>\n     <use x=\"55.615234\" xlink:href=\"#ArialMT-32\"/>\n     <use x=\"83.398438\" xlink:href=\"#ArialMT-110\"/>\n     <use x=\"139.013672\" xlink:href=\"#ArialMT-116\"/>\n    </g>\n   </g>\n   <g id=\"text_7\">\n    <!-- 3 nt -->\n    <g transform=\"translate(136.68159 210.353451)scale(0.06 -0.06)\">\n     <use xlink:href=\"#ArialMT-51\"/>\n     <use x=\"55.615234\" xlink:href=\"#ArialMT-32\"/>\n     <use x=\"83.398438\" xlink:href=\"#ArialMT-110\"/>\n     <use x=\"139.013672\" xlink:href=\"#ArialMT-116\"/>\n    </g>\n   </g>\n  </g>\n </g>\n <defs>\n  <clipPath id=\"p256cfe9d03\">\n   <rect height=\"217.44\" width=\"334.8\" x=\"55.710938\" y=\"7.2\"/>\n  </clipPath>\n </defs>\n</svg>\n",
      "application/vnd.code.notebook.error": {
       "name": "ReferenceError",
       "message": "atob is not defined",
       "stack": "ReferenceError: atob is not defined\n\tat d (/Applications/Visual Studio Code - Insiders.app/Contents/Resources/app/extensions/ipynb/dist/ipynbMain.js:1:138755)\n\tat y (/Applications/Visual Studio Code - Insiders.app/Contents/Resources/app/extensions/ipynb/dist/ipynbMain.js:1:143435)\n\tat v (/Applications/Visual Studio Code - Insiders.app/Contents/Resources/app/extensions/ipynb/dist/ipynbMain.js:1:143731)\n\tat Array.map (<anonymous>)\n\tat /Applications/Visual Studio Code - Insiders.app/Contents/Resources/app/extensions/ipynb/dist/ipynbMain.js:1:144883\n\tat /Applications/Visual Studio Code - Insiders.app/Contents/Resources/app/extensions/ipynb/dist/ipynbMain.js:1:145125\n\tat /Applications/Visual Studio Code - Insiders.app/Contents/Resources/app/extensions/ipynb/dist/ipynbMain.js:1:145132\n\tat Array.map (<anonymous>)\n\tat e.jupyterNotebookModelToNotebookData (/Applications/Visual Studio Code - Insiders.app/Contents/Resources/app/extensions/ipynb/dist/ipynbMain.js:1:144441)\n\tat e.NotebookSerializer.deserializeNotebook (/Applications/Visual Studio Code - Insiders.app/Contents/Resources/app/extensions/ipynb/dist/ipynbMain.js:1:146368)\n\tat _.$dataToNotebook (/Applications/Visual Studio Code - Insiders.app/Contents/Resources/app/out/vs/workbench/services/extensions/node/extensionHostProcess.js:85:211883)\n\tat d._doInvokeHandler (/Applications/Visual Studio Code - Insiders.app/Contents/Resources/app/out/vs/workbench/services/extensions/node/extensionHostProcess.js:89:12819)\n\tat d._invokeHandler (/Applications/Visual Studio Code - Insiders.app/Contents/Resources/app/out/vs/workbench/services/extensions/node/extensionHostProcess.js:89:12503)\n\tat d._receiveRequest (/Applications/Visual Studio Code - Insiders.app/Contents/Resources/app/out/vs/workbench/services/extensions/node/extensionHostProcess.js:89:11107)\n\tat d._receiveOneMessage (/Applications/Visual Studio Code - Insiders.app/Contents/Resources/app/out/vs/workbench/services/extensions/node/extensionHostProcess.js:89:10142)\n\tat /Applications/Visual Studio Code - Insiders.app/Contents/Resources/app/out/vs/workbench/services/extensions/node/extensionHostProcess.js:89:8039\n\tat u.fire (/Applications/Visual Studio Code - Insiders.app/Contents/Resources/app/out/vs/workbench/services/extensions/node/extensionHostProcess.js:57:1712)\n\tat l.fire (/Applications/Visual Studio Code - Insiders.app/Contents/Resources/app/out/vs/workbench/services/extensions/node/extensionHostProcess.js:65:15825)\n\tat /Applications/Visual Studio Code - Insiders.app/Contents/Resources/app/out/vs/workbench/services/extensions/node/extensionHostProcess.js:104:30061\n\tat u.fire (/Applications/Visual Studio Code - Insiders.app/Contents/Resources/app/out/vs/workbench/services/extensions/node/extensionHostProcess.js:57:1712)\n\tat l.fire (/Applications/Visual Studio Code - Insiders.app/Contents/Resources/app/out/vs/workbench/services/extensions/node/extensionHostProcess.js:65:15825)\n\tat r._receiveMessage (/Applications/Visual Studio Code - Insiders.app/Contents/Resources/app/out/vs/workbench/services/extensions/node/extensionHostProcess.js:65:21091)\n\tat /Applications/Visual Studio Code - Insiders.app/Contents/Resources/app/out/vs/workbench/services/extensions/node/extensionHostProcess.js:65:17969\n\tat u.fire (/Applications/Visual Studio Code - Insiders.app/Contents/Resources/app/out/vs/workbench/services/extensions/node/extensionHostProcess.js:57:1712)\n\tat v.acceptChunk (/Applications/Visual Studio Code - Insiders.app/Contents/Resources/app/out/vs/workbench/services/extensions/node/extensionHostProcess.js:65:13186)\n\tat /Applications/Visual Studio Code - Insiders.app/Contents/Resources/app/out/vs/workbench/services/extensions/node/extensionHostProcess.js:65:12534\n\tat Socket.w (/Applications/Visual Studio Code - Insiders.app/Contents/Resources/app/out/vs/workbench/services/extensions/node/extensionHostProcess.js:104:13219)\n\tat Socket.emit (events.js:315:20)\n\tat addChunk (internal/streams/readable.js:309:12)\n\tat readableAddChunk (internal/streams/readable.js:284:9)\n\tat Socket.Readable.push (internal/streams/readable.js:223:10)\n\tat Pipe.onStreamRead (internal/stream_base_commons.js:188:23)"
      }
     },
     "metadata": {
      "needs_background": "light"
     }
    }
   ],
   "metadata": {}
  },
  {
   "cell_type": "code",
   "execution_count": 278,
   "source": [
    "# check alignment of NT sequence...\n",
    "print(aligner.align(tfs['ZNF302']['ZNF302-1'].aa_seq, ensembl_aa_seq['ZNF302-202'])[0].__str__())"
   ],
   "outputs": [
    {
     "output_type": "stream",
     "name": "stdout",
     "text": [
      "MSQRQYPECYLAPNGCLVSNCGVNKMSNEELVGQNHGMEGEACTGGDVTFSDVAIDFSHEEWACLDSAQRDLYKDVMVQNYENLVSVAGLSVTKPYVIMLLEDGKEPWMMEKKLSKDWESRWENKELSTKKDICDEDSPQPVTMEKVVKQSYEFSNSNKNLEYTECDTFRSTFHSKSTLSEPQNNSAEGNSHKYDILKKNLSKKSVIKSERINGGKKLLNSNKSGAAFNQSKSLTLPQTCNREKIYTCSECGKAFGKQSILSRHWRIHTGEKPYECRECGKTFSHGSSLTRHQISHSGEKPYKCIECGKAFSHGSSLTNHQSTHTGEKPYECMNCGKSFSRVSLLIQHLRIHTQEKRYECRICGKAFIHSSSLIHHQKSHTGEKPYECRECGKAFCCSSHLTQHQRIHSMKKKYECNKCLKVFSSFSFLVQHQSIHTEEKPFEV\n",
      "|||||||||||||||||||||||||||||||||||||||||||||||||||||||||||||||||||||||||||||||||||||||-|||||||||||||||||||||||||||||||||||||||||||||.||||||||||||||||||||||||||||||||||||||||||||||||||||||||||||||||||||||||||||||||||||||||||||||||||||||||||||||||||||||||||||||||||||||||||||||||||||||||||||||||||||||||||||||||||||||||||||||||||||||||||||||||||||||||||||||||||||||||||||||||||||||||||||||||||||||||||||||||||||||||||||||||||||||||||||||||||||||\n",
      "MSQRQYPECYLAPNGCLVSNCGVNKMSNEELVGQNHGMEGEACTGGDVTFSDVAIDFSHEEWACLDSAQRDLYKDVMVQNYENLVSV-GLSVTKPYVIMLLEDGKEPWMMEKKLSKDWESRWENKELSTKKDIYDEDSPQPVTMEKVVKQSYEFSNSNKNLEYTECDTFRSTFHSKSTLSEPQNNSAEGNSHKYDILKKNLSKKSVIKSERINGGKKLLNSNKSGAAFNQSKSLTLPQTCNREKIYTCSECGKAFGKQSILSRHWRIHTGEKPYECRECGKTFSHGSSLTRHQISHSGEKPYKCIECGKAFSHGSSLTNHQSTHTGEKPYECMNCGKSFSRVSLLIQHLRIHTQEKRYECRICGKAFIHSSSLIHHQKSHTGEKPYECRECGKAFCCSSHLTQHQRIHSMKKKYECNKCLKVFSSFSFLVQHQSIHTEEKPFEV\n",
      "\n"
     ]
    }
   ],
   "metadata": {}
  },
  {
   "cell_type": "code",
   "execution_count": 273,
   "source": [
    "tfs['ZNF302']"
   ],
   "outputs": [
    {
     "output_type": "execute_result",
     "data": {
      "text/plain": [
       "Gene: ZNF302\n",
       "Isoforms: ['ZNF302-1', 'ZNF302-2', 'ZNF302-3', 'ZNF302-4', 'ZNF302-5']"
      ]
     },
     "metadata": {},
     "execution_count": 273
    }
   ],
   "metadata": {}
  },
  {
   "cell_type": "code",
   "execution_count": 269,
   "source": [
    "tfs['ZNF302'].orfs"
   ],
   "outputs": [
    {
     "output_type": "execute_result",
     "data": {
      "text/plain": [
       "[Clone acc: ZNF302|1/5|06F09\n",
       " Isoform: ZNF302-202 / ENSP00000396379 / ENST00000446502\n",
       " length: 444 aa,\n",
       " Clone acc: ZNF302|2/5|06B07\n",
       " Isoform: ZNF302-214 / ENSP00000481754 / ENST00000613363\n",
       " length: 400 aa,\n",
       " Clone acc: ZNF302|3/5|06H06\n",
       " Isoform: ZNF302-203|ZNF302-206|ZNF302-201 / ENSP00000391067|ENSP00000421028|ENSP00000405219 / ENST00000457781|ENST00000505242|ENST00000423823\n",
       " length: 399 aa,\n",
       " Clone acc: ZNF302|4/5|06G08\n",
       " Isoform: ZNF302-208|ZNF302-209 / ENSP00000424292|ENSP00000421201 / ENST00000506901|ENST00000507959\n",
       " length: 132 aa,\n",
       " Clone acc: ZNF302|5/5|06H08\n",
       " Isoform: ZNF302-207 / ENSP00000423235 / ENST00000505365\n",
       " length: 131 aa]"
      ]
     },
     "metadata": {},
     "execution_count": 269
    }
   ],
   "metadata": {}
  },
  {
   "cell_type": "code",
   "execution_count": 94,
   "source": [
    "# TEST\n",
    "from data_loading import load_valid_isoform_clones\n",
    "clones = load_valid_isoform_clones()\n",
    "clones['is_novel_isoform'].value_counts()  # CHECK novel isoform against current results"
   ],
   "outputs": [
    {
     "output_type": "execute_result",
     "data": {
      "text/plain": [
       "False    567\n",
       "True     191\n",
       "Name: is_novel_isoform, dtype: int64"
      ]
     },
     "metadata": {},
     "execution_count": 94
    }
   ],
   "metadata": {}
  },
  {
   "cell_type": "code",
   "execution_count": 89,
   "source": [
    "clones.loc[clones['clone_acc'] == 'ATF2|1/6|12H04', 'aa_seq'].values"
   ],
   "outputs": [
    {
     "output_type": "execute_result",
     "data": {
      "text/plain": [
       "array(['MKFKLHVNSARQYKDLWNMSDDKPFLCTAPGCGQRFTNEDHLAVHKHKHEMTLKFGPARNDSVIVADQTPTPTRFLKNCEEVGLFNELASPFENEFKKASEDDIKKMPLDLSPLATPIIRSKIEEPSVVETTHQDSPLPHPESTTSDEKEVPLAQTAQPTSAIVRPASLQVPNVLLTSSDSSVIIQQAVPSPTSSTVITQAPSSNRPIVPVPGPFPLLLHLPNGQTMPVAIPASITSSNVHVPAAVPLVRPVTMVPSVPGIPGPSSPQPVQSEAKMRLKAALTQQHPPVTNGDTVKGHGSGLVRTQSEESRPQSLQQPATSTTETPASPAHTTPQTQSTSGRRRRAANEDPDEKRRKFLERNRAAASRCRQKRKVWVQSLEKKAEDLSSLNGQLQSEVTLLRNEVAQLKQLLLAHKDCPVTAMQKKSGYHTADKDDSSEDISVPSSPHTEAIQHSSVSTSNGVSSTSKAEAVATSVLTQMADQSTEPALSQIVMAPSSQSQPSGS'],\n",
       "      dtype=object)"
      ]
     },
     "metadata": {},
     "execution_count": 89
    }
   ],
   "metadata": {}
  },
  {
   "cell_type": "code",
   "execution_count": 86,
   "source": [
    "path_gencode_aa_seq = '../data/external/gencode.v30.pc_translations.fa'\n",
    "from collections import defaultdict\n",
    "\n",
    "from Bio import SeqIO\n",
    "\n",
    "ensembl_proteins = defaultdict(list)\n",
    "for record in SeqIO.parse(path_gencode_aa_seq, 'fasta'):\n",
    "    ids = record.id.split('|')\n",
    "    ensembl_proteins[str(record.seq)].append((ids[0].split('.')[0], ids[1].split('.')[0], ids[5]))\n",
    "\n",
    "\n",
    "for tf in tfs.values():\n",
    "    for isoform in tf.orfs:\n",
    "        if isoform.aa_seq in ensembl_proteins:\n",
    "            isoform.ensembl_protein_ids = [ids[0] for ids in ensembl_proteins[isoform.aa_seq]]\n",
    "            isoform.ensembl_transcript_ids = [ids[1] for ids in ensembl_proteins[isoform.aa_seq]]\n",
    "            isoform.ensembl_transcript_names = [ids[2] for ids in ensembl_proteins[isoform.aa_seq]]\n",
    "\n",
    "tfs['ATF2']['ATF2-1'].ensembl_protein_ids"
   ],
   "outputs": [
    {
     "output_type": "execute_result",
     "data": {
      "text/plain": [
       "['ENSP00000264110', 'ENSP00000376327']"
      ]
     },
     "metadata": {},
     "execution_count": 86
    }
   ],
   "metadata": {}
  },
  {
   "cell_type": "code",
   "execution_count": 62,
   "source": [
    "tfs = load_annotated_6k_collection()\n",
    "tfs_gc = load_annotated_gencode_tfs()"
   ],
   "outputs": [
    {
     "output_type": "stream",
     "name": "stderr",
     "text": [
      "100%|██████████| 2748/2748 [01:36<00:00, 28.57it/s]\n"
     ]
    }
   ],
   "metadata": {
    "tags": []
   }
  },
  {
   "cell_type": "code",
   "execution_count": 34,
   "source": [
    "s = \"\"\"ATAGGGCCGCCATCGCCGGGCGACGACGAGGAGGAGGCGGCCGCCGCAGCCGGGGCCCCCGCCGCCGCCGGAGCGACAGGTGATTTGGCTTCTGCACAGTTAGGAGGAGCACCAAACCGATGGGAGGTTTTGTCAGCCACACCTACAACTATAAAAGATGAAGCTGGTAATCTAGTCCAGATTCCAAGTGCTGCTACTTCAAGTGGGCAGTATGTTCTTCCCCTTCAGAATTTGCAGAATCAACAAATATTTTCCGTTGCACCAGGATCAGATTCATCAAATGGTACAGTGTCCAGTGTTCAATATCAAGTGATACCACAGATCCAGTCAGCAGATGGTCAGCAGGTTCAAATTGGTTTCACAGGCTCTTCAGATAATGGGGGTATAAATCAAGAAAGCAGTCAAATTCAGATCATTCCTGGCTCTAATCAAACCTTACTTGCCTCTGGAACACCTTCTGCTAACATCCAGAATCTCATACCACAGACTGGTCAAGTCCAGGTTCAGGGAGTTGCAATTGGTGGTTCATCTTTTCCTGGTCAAACCCAAGTAGTTGCTAATGTGCCTCTTGGTCTGCCAGGAAATATTACGTTTGTACCAATCAATAGTGTCGATCTAGATTCTTTGGGACTCTCGGGCAGTTCTCAGACAATGACTGCAGGCATTAATGCCGACGGACATTTGATAAACACAGGACAAGCTATGGATAGTTCAGACAATTCAGAAAGGACTGGTGAGCGGGTTTCTCCTGATATTAATGAAACTAATACTGATACAGATTTATTTGTGCCAACATCCTCTTCATCACAGTTGCCTGTTACGATAGATAGTACAGGTATATTACAACAAAACACAAATAGCTTGACTACATCTAGTGGGCAGGTTCATTCTTCAGATCTTCAGGGAAATTATATCCAGTCGCCTGTTTCTGAAGAGACACAGGCACAGAATATTCAGGTTTCTACAGCACAGCCTGTTGTACAGCATCTACAACTTCAAGAGTCTCAGCAGCCAACCAGTCAAGCCCAAATTGTGCAAGGTATTACACCACAGACAATCCATGGTGTGCAAGCCAGTGGTCAAAATATATCACAACAGGCTTTGCAAAATCTTCAGTTGCAGCTGAATCCTGGAACCTTTTTAATTCAGGCACAGACAGTGACCCCTTCTGGACAGGTAACTTGGCAAACGTTTCAAGTACAAGGGGTCCAGAACTTGCAGAATTTGCAAATACAGAATACTGCTGCCCAACAAATAACTTTGACGCCTGTTCAAACCCTCACACTTGGTCAAGTTGCGGCAGGTGGAGCCTTCACTTCAACTCCAGTTAGTCTAAGCACTGGTCAGTTGCCAAATCTACAAACAGTTACAGTGAACTCTATAGATTCTGCTGGTATACAGCTACATCCAGGAGAGAATGCTGACAGTCCTGCAGATATTAGGATCAAGGAAGAAGAACCTGATCCTGAAGAGTGGCAGCTCAGTGGTGATTCTACCTTGAATACCAATGACCTAACACACTTAAGAGTACAGGTGGTAGATGAAGAAGGGGACCAACAACATCAAGAAGGAAAAAGACTTCGGAGGGTAGCTTGCACCTGTCCCAACTGTAAAGAAGGTGGTGGAAGAGGTACCAATCTTGGGAAAAAGAAGCAACACATTTGTCATATACCAGGATGTGGTAAAGTCTATGGGAAGACCTCACATCTGAGAGCTCATCTGCGTTGGCATTCTGGAGAACGCCCTTTTGTTTGTAACTGGATGTACTGTGGTAAAAGATTTACTCGAAGTGATGAATTACAGAGGCACAGAAGAACACATACAGGTGAGAAGAAATTTGTTTGTCCAGAATGTTCAAAACGCTTTATGAGAAGTGACCACCTTGCCAAACATATTAAAACACACCAGAATAAAAAAGGTATTCACTCTAGCAGTACAGTGCTGGCATCTGTGGAAGCTGCGCGAGATGATACTTTGATTACTGCAGGAGGAACAACGCTTATCCTTGCAAATATTCAACAAGGTTCTGTTTCAGGGATAGGAACTGTTAATACTTCCGCCACCAGCAATCAAGATATCCTTACCAACACTGAAATACCTTTACAGCTTGTCACAGTTTCTGGAAATGAGACAATGGAG\"\"\"\n",
    "from Bio.Seq import Seq\n",
    "str(Seq(s).translate(cds=True, table=2))"
   ],
   "outputs": [
    {
     "output_type": "error",
     "ename": "TranslationError",
     "evalue": "Final codon 'GAG' is not a stop codon",
     "traceback": [
      "\u001b[0;31m---------------------------------------------------------------------------\u001b[0m",
      "\u001b[0;31mTranslationError\u001b[0m                          Traceback (most recent call last)",
      "\u001b[0;32m<ipython-input-34-242b4c9b6de9>\u001b[0m in \u001b[0;36m<module>\u001b[0;34m\u001b[0m\n\u001b[1;32m      1\u001b[0m \u001b[0ms\u001b[0m \u001b[0;34m=\u001b[0m \u001b[0;34m\"\"\"ATAGGGCCGCCATCGCCGGGCGACGACGAGGAGGAGGCGGCCGCCGCAGCCGGGGCCCCCGCCGCCGCCGGAGCGACAGGTGATTTGGCTTCTGCACAGTTAGGAGGAGCACCAAACCGATGGGAGGTTTTGTCAGCCACACCTACAACTATAAAAGATGAAGCTGGTAATCTAGTCCAGATTCCAAGTGCTGCTACTTCAAGTGGGCAGTATGTTCTTCCCCTTCAGAATTTGCAGAATCAACAAATATTTTCCGTTGCACCAGGATCAGATTCATCAAATGGTACAGTGTCCAGTGTTCAATATCAAGTGATACCACAGATCCAGTCAGCAGATGGTCAGCAGGTTCAAATTGGTTTCACAGGCTCTTCAGATAATGGGGGTATAAATCAAGAAAGCAGTCAAATTCAGATCATTCCTGGCTCTAATCAAACCTTACTTGCCTCTGGAACACCTTCTGCTAACATCCAGAATCTCATACCACAGACTGGTCAAGTCCAGGTTCAGGGAGTTGCAATTGGTGGTTCATCTTTTCCTGGTCAAACCCAAGTAGTTGCTAATGTGCCTCTTGGTCTGCCAGGAAATATTACGTTTGTACCAATCAATAGTGTCGATCTAGATTCTTTGGGACTCTCGGGCAGTTCTCAGACAATGACTGCAGGCATTAATGCCGACGGACATTTGATAAACACAGGACAAGCTATGGATAGTTCAGACAATTCAGAAAGGACTGGTGAGCGGGTTTCTCCTGATATTAATGAAACTAATACTGATACAGATTTATTTGTGCCAACATCCTCTTCATCACAGTTGCCTGTTACGATAGATAGTACAGGTATATTACAACAAAACACAAATAGCTTGACTACATCTAGTGGGCAGGTTCATTCTTCAGATCTTCAGGGAAATTATATCCAGTCGCCTGTTTCTGAAGAGACACAGGCACAGAATATTCAGGTTTCTACAGCACAGCCTGTTGTACAGCATCTACAACTTCAAGAGTCTCAGCAGCCAACCAGTCAAGCCCAAATTGTGCAAGGTATTACACCACAGACAATCCATGGTGTGCAAGCCAGTGGTCAAAATATATCACAACAGGCTTTGCAAAATCTTCAGTTGCAGCTGAATCCTGGAACCTTTTTAATTCAGGCACAGACAGTGACCCCTTCTGGACAGGTAACTTGGCAAACGTTTCAAGTACAAGGGGTCCAGAACTTGCAGAATTTGCAAATACAGAATACTGCTGCCCAACAAATAACTTTGACGCCTGTTCAAACCCTCACACTTGGTCAAGTTGCGGCAGGTGGAGCCTTCACTTCAACTCCAGTTAGTCTAAGCACTGGTCAGTTGCCAAATCTACAAACAGTTACAGTGAACTCTATAGATTCTGCTGGTATACAGCTACATCCAGGAGAGAATGCTGACAGTCCTGCAGATATTAGGATCAAGGAAGAAGAACCTGATCCTGAAGAGTGGCAGCTCAGTGGTGATTCTACCTTGAATACCAATGACCTAACACACTTAAGAGTACAGGTGGTAGATGAAGAAGGGGACCAACAACATCAAGAAGGAAAAAGACTTCGGAGGGTAGCTTGCACCTGTCCCAACTGTAAAGAAGGTGGTGGAAGAGGTACCAATCTTGGGAAAAAGAAGCAACACATTTGTCATATACCAGGATGTGGTAAAGTCTATGGGAAGACCTCACATCTGAGAGCTCATCTGCGTTGGCATTCTGGAGAACGCCCTTTTGTTTGTAACTGGATGTACTGTGGTAAAAGATTTACTCGAAGTGATGAATTACAGAGGCACAGAAGAACACATACAGGTGAGAAGAAATTTGTTTGTCCAGAATGTTCAAAACGCTTTATGAGAAGTGACCACCTTGCCAAACATATTAAAACACACCAGAATAAAAAAGGTATTCACTCTAGCAGTACAGTGCTGGCATCTGTGGAAGCTGCGCGAGATGATACTTTGATTACTGCAGGAGGAACAACGCTTATCCTTGCAAATATTCAACAAGGTTCTGTTTCAGGGATAGGAACTGTTAATACTTCCGCCACCAGCAATCAAGATATCCTTACCAACACTGAAATACCTTTACAGCTTGTCACAGTTTCTGGAAATGAGACAATGGAG\"\"\"\u001b[0m\u001b[0;34m\u001b[0m\u001b[0;34m\u001b[0m\u001b[0m\n\u001b[1;32m      2\u001b[0m \u001b[0;32mfrom\u001b[0m \u001b[0mBio\u001b[0m\u001b[0;34m.\u001b[0m\u001b[0mSeq\u001b[0m \u001b[0;32mimport\u001b[0m \u001b[0mSeq\u001b[0m\u001b[0;34m\u001b[0m\u001b[0;34m\u001b[0m\u001b[0m\n\u001b[0;32m----> 3\u001b[0;31m \u001b[0mstr\u001b[0m\u001b[0;34m(\u001b[0m\u001b[0mSeq\u001b[0m\u001b[0;34m(\u001b[0m\u001b[0ms\u001b[0m\u001b[0;34m)\u001b[0m\u001b[0;34m.\u001b[0m\u001b[0mtranslate\u001b[0m\u001b[0;34m(\u001b[0m\u001b[0mcds\u001b[0m\u001b[0;34m=\u001b[0m\u001b[0;32mTrue\u001b[0m\u001b[0;34m,\u001b[0m \u001b[0mtable\u001b[0m\u001b[0;34m=\u001b[0m\u001b[0;36m2\u001b[0m\u001b[0;34m)\u001b[0m\u001b[0;34m)\u001b[0m\u001b[0;34m\u001b[0m\u001b[0;34m\u001b[0m\u001b[0m\n\u001b[0m",
      "\u001b[0;32m~/work/tf_isoforms/venv/lib/python3.8/site-packages/Bio/Seq.py\u001b[0m in \u001b[0;36mtranslate\u001b[0;34m(self, table, stop_symbol, to_stop, cds, gap)\u001b[0m\n\u001b[1;32m   1275\u001b[0m                 )\n\u001b[1;32m   1276\u001b[0m \u001b[0;34m\u001b[0m\u001b[0m\n\u001b[0;32m-> 1277\u001b[0;31m         protein = _translate_str(\n\u001b[0m\u001b[1;32m   1278\u001b[0m             \u001b[0mstr\u001b[0m\u001b[0;34m(\u001b[0m\u001b[0mself\u001b[0m\u001b[0;34m)\u001b[0m\u001b[0;34m,\u001b[0m \u001b[0mcodon_table\u001b[0m\u001b[0;34m,\u001b[0m \u001b[0mstop_symbol\u001b[0m\u001b[0;34m,\u001b[0m \u001b[0mto_stop\u001b[0m\u001b[0;34m,\u001b[0m \u001b[0mcds\u001b[0m\u001b[0;34m,\u001b[0m \u001b[0mgap\u001b[0m\u001b[0;34m=\u001b[0m\u001b[0mgap\u001b[0m\u001b[0;34m\u001b[0m\u001b[0;34m\u001b[0m\u001b[0m\n\u001b[1;32m   1279\u001b[0m         )\n",
      "\u001b[0;32m~/work/tf_isoforms/venv/lib/python3.8/site-packages/Bio/Seq.py\u001b[0m in \u001b[0;36m_translate_str\u001b[0;34m(sequence, table, stop_symbol, to_stop, cds, pos_stop, gap)\u001b[0m\n\u001b[1;32m   2845\u001b[0m             )\n\u001b[1;32m   2846\u001b[0m         \u001b[0;32mif\u001b[0m \u001b[0mstr\u001b[0m\u001b[0;34m(\u001b[0m\u001b[0msequence\u001b[0m\u001b[0;34m[\u001b[0m\u001b[0;34m-\u001b[0m\u001b[0;36m3\u001b[0m\u001b[0;34m:\u001b[0m\u001b[0;34m]\u001b[0m\u001b[0;34m)\u001b[0m\u001b[0;34m.\u001b[0m\u001b[0mupper\u001b[0m\u001b[0;34m(\u001b[0m\u001b[0;34m)\u001b[0m \u001b[0;32mnot\u001b[0m \u001b[0;32min\u001b[0m \u001b[0mstop_codons\u001b[0m\u001b[0;34m:\u001b[0m\u001b[0;34m\u001b[0m\u001b[0;34m\u001b[0m\u001b[0m\n\u001b[0;32m-> 2847\u001b[0;31m             raise CodonTable.TranslationError(\n\u001b[0m\u001b[1;32m   2848\u001b[0m                 \u001b[0;34m\"Final codon '{0}' is not a stop codon\"\u001b[0m\u001b[0;34m.\u001b[0m\u001b[0mformat\u001b[0m\u001b[0;34m(\u001b[0m\u001b[0msequence\u001b[0m\u001b[0;34m[\u001b[0m\u001b[0;34m-\u001b[0m\u001b[0;36m3\u001b[0m\u001b[0;34m:\u001b[0m\u001b[0;34m]\u001b[0m\u001b[0;34m)\u001b[0m\u001b[0;34m\u001b[0m\u001b[0;34m\u001b[0m\u001b[0m\n\u001b[1;32m   2849\u001b[0m             )\n",
      "\u001b[0;31mTranslationError\u001b[0m: Final codon 'GAG' is not a stop codon"
     ]
    }
   ],
   "metadata": {}
  },
  {
   "cell_type": "code",
   "execution_count": 31,
   "source": [
    "help(Seq.translate, cds=True)"
   ],
   "outputs": [
    {
     "output_type": "error",
     "ename": "TypeError",
     "evalue": "__call__() got an unexpected keyword argument 'cds'",
     "traceback": [
      "\u001b[0;31m---------------------------------------------------------------------------\u001b[0m",
      "\u001b[0;31mTypeError\u001b[0m                                 Traceback (most recent call last)",
      "\u001b[0;32m<ipython-input-31-3d144dd01b75>\u001b[0m in \u001b[0;36m<module>\u001b[0;34m\u001b[0m\n\u001b[0;32m----> 1\u001b[0;31m \u001b[0mhelp\u001b[0m\u001b[0;34m(\u001b[0m\u001b[0mSeq\u001b[0m\u001b[0;34m.\u001b[0m\u001b[0mtranslate\u001b[0m\u001b[0;34m,\u001b[0m \u001b[0mcds\u001b[0m\u001b[0;34m=\u001b[0m\u001b[0;32mTrue\u001b[0m\u001b[0;34m)\u001b[0m\u001b[0;34m\u001b[0m\u001b[0;34m\u001b[0m\u001b[0m\n\u001b[0m",
      "\u001b[0;32m/usr/local/Cellar/python@3.8/3.8.6/Frameworks/Python.framework/Versions/3.8/lib/python3.8/_sitebuiltins.py\u001b[0m in \u001b[0;36m__call__\u001b[0;34m(self, *args, **kwds)\u001b[0m\n\u001b[1;32m    101\u001b[0m     \u001b[0;32mdef\u001b[0m \u001b[0m__call__\u001b[0m\u001b[0;34m(\u001b[0m\u001b[0mself\u001b[0m\u001b[0;34m,\u001b[0m \u001b[0;34m*\u001b[0m\u001b[0margs\u001b[0m\u001b[0;34m,\u001b[0m \u001b[0;34m**\u001b[0m\u001b[0mkwds\u001b[0m\u001b[0;34m)\u001b[0m\u001b[0;34m:\u001b[0m\u001b[0;34m\u001b[0m\u001b[0;34m\u001b[0m\u001b[0m\n\u001b[1;32m    102\u001b[0m         \u001b[0;32mimport\u001b[0m \u001b[0mpydoc\u001b[0m\u001b[0;34m\u001b[0m\u001b[0;34m\u001b[0m\u001b[0m\n\u001b[0;32m--> 103\u001b[0;31m         \u001b[0;32mreturn\u001b[0m \u001b[0mpydoc\u001b[0m\u001b[0;34m.\u001b[0m\u001b[0mhelp\u001b[0m\u001b[0;34m(\u001b[0m\u001b[0;34m*\u001b[0m\u001b[0margs\u001b[0m\u001b[0;34m,\u001b[0m \u001b[0;34m**\u001b[0m\u001b[0mkwds\u001b[0m\u001b[0;34m)\u001b[0m\u001b[0;34m\u001b[0m\u001b[0;34m\u001b[0m\u001b[0m\n\u001b[0m",
      "\u001b[0;31mTypeError\u001b[0m: __call__() got an unexpected keyword argument 'cds'"
     ]
    }
   ],
   "metadata": {}
  },
  {
   "cell_type": "code",
   "execution_count": 11,
   "source": [
    "tfs_gc['ATF2'].exon_diagram()"
   ],
   "outputs": [
    {
     "output_type": "display_data",
     "data": {
      "text/plain": [
       "<Figure size 432x288 with 1 Axes>"
      ],
      "image/svg+xml": "<?xml version=\"1.0\" encoding=\"utf-8\" standalone=\"no\"?>\n<!DOCTYPE svg PUBLIC \"-//W3C//DTD SVG 1.1//EN\"\n  \"http://www.w3.org/Graphics/SVG/1.1/DTD/svg11.dtd\">\n<!-- Created with matplotlib (https://matplotlib.org/) -->\n<svg height=\"231.84pt\" version=\"1.1\" viewBox=\"0 0 396.421875 231.84\" width=\"396.421875pt\" xmlns=\"http://www.w3.org/2000/svg\" xmlns:xlink=\"http://www.w3.org/1999/xlink\">\n <defs>\n  <style type=\"text/css\">\n*{stroke-linecap:butt;stroke-linejoin:round;}\n  </style>\n </defs>\n <g id=\"figure_1\">\n  <g id=\"patch_1\">\n   <path d=\"M 0 231.84 \nL 396.421875 231.84 \nL 396.421875 0 \nL 0 0 \nz\n\" style=\"fill:none;\"/>\n  </g>\n  <g id=\"axes_1\">\n   <g id=\"patch_2\">\n    <path d=\"M 54.421875 224.64 \nL 389.221875 224.64 \nL 389.221875 7.2 \nL 54.421875 7.2 \nz\n\" style=\"fill:#ffffff;\"/>\n   </g>\n   <g id=\"LineCollection_1\">\n    <path clip-path=\"url(#pf161f939a4)\" d=\"M 374.341875 28.944 \nL 69.301875 28.944 \n\" style=\"fill:none;stroke:#000000;stroke-dasharray:1.5,2.475;stroke-dashoffset:0;stroke-width:1.5;\"/>\n    <path clip-path=\"url(#pf161f939a4)\" d=\"M 374.341875 57.936 \nL 86.992542 57.936 \n\" style=\"fill:none;stroke:#000000;stroke-dasharray:1.5,2.475;stroke-dashoffset:0;stroke-width:1.5;\"/>\n    <path clip-path=\"url(#pf161f939a4)\" d=\"M 374.341875 86.928 \nL 83.189875 86.928 \n\" style=\"fill:none;stroke:#000000;stroke-dasharray:1.5,2.475;stroke-dashoffset:0;stroke-width:1.5;\"/>\n    <path clip-path=\"url(#pf161f939a4)\" d=\"M 374.341875 115.92 \nL 69.301875 115.92 \n\" style=\"fill:none;stroke:#000000;stroke-dasharray:1.5,2.475;stroke-dashoffset:0;stroke-width:1.5;\"/>\n    <path clip-path=\"url(#pf161f939a4)\" d=\"M 197.600542 144.912 \nL 69.301875 144.912 \n\" style=\"fill:none;stroke:#000000;stroke-dasharray:1.5,2.475;stroke-dashoffset:0;stroke-width:1.5;\"/>\n    <path clip-path=\"url(#pf161f939a4)\" d=\"M 374.341875 173.904 \nL 83.189875 173.904 \n\" style=\"fill:none;stroke:#000000;stroke-dasharray:1.5,2.475;stroke-dashoffset:0;stroke-width:1.5;\"/>\n    <path clip-path=\"url(#pf161f939a4)\" d=\"M 374.341875 202.896 \nL 179.579208 202.896 \n\" style=\"fill:none;stroke:#000000;stroke-dasharray:1.5,2.475;stroke-dashoffset:0;stroke-width:1.5;\"/>\n   </g>\n   <g id=\"patch_3\">\n    <path clip-path=\"url(#pf161f939a4)\" d=\"M 74.427208 21.696 \nL 69.301875 21.696 \nL 69.301875 36.192 \nL 74.427208 36.192 \nz\n\" style=\"fill:#d3ab89;stroke:#000000;\"/>\n   </g>\n   <g id=\"patch_4\">\n    <path clip-path=\"url(#pf161f939a4)\" d=\"M 90.960542 21.696 \nL 79.552542 21.696 \nL 79.552542 36.192 \nL 90.960542 36.192 \nz\n\" style=\"fill:#d29b84;stroke:#000000;\"/>\n   </g>\n   <g id=\"patch_5\">\n    <path clip-path=\"url(#pf161f939a4)\" d=\"M 111.957875 21.696 \nL 96.085875 21.696 \nL 96.085875 36.192 \nL 111.957875 36.192 \nz\n\" style=\"fill:#d18d83;stroke:#000000;\"/>\n   </g>\n   <g id=\"patch_6\">\n    <path clip-path=\"url(#pf161f939a4)\" d=\"M 136.592542 21.696 \nL 117.083208 21.696 \nL 117.083208 36.192 \nL 136.592542 36.192 \nz\n\" style=\"fill:#cd7f84;stroke:#000000;\"/>\n   </g>\n   <g id=\"patch_7\">\n    <path clip-path=\"url(#pf161f939a4)\" d=\"M 162.880542 21.696 \nL 141.717875 21.696 \nL 141.717875 36.192 \nL 162.880542 36.192 \nz\n\" style=\"fill:#c57187;stroke:#000000;\"/>\n   </g>\n   <g id=\"patch_8\">\n    <path clip-path=\"url(#pf161f939a4)\" d=\"M 197.435208 21.696 \nL 168.005875 21.696 \nL 168.005875 36.192 \nL 197.435208 36.192 \nz\n\" style=\"fill:#bc668b;stroke:#000000;\"/>\n   </g>\n   <g id=\"patch_9\">\n    <path clip-path=\"url(#pf161f939a4)\" d=\"M 221.573875 21.696 \nL 202.725875 21.696 \nL 202.725875 36.192 \nL 221.573875 36.192 \nz\n\" style=\"fill:#b05d8e;stroke:#000000;\"/>\n   </g>\n   <g id=\"patch_10\">\n    <path clip-path=\"url(#pf161f939a4)\" d=\"M 240.917875 21.696 \nL 226.699208 21.696 \nL 226.699208 36.192 \nL 240.917875 36.192 \nz\n\" style=\"fill:#a15590;stroke:#000000;\"/>\n   </g>\n   <g id=\"patch_11\">\n    <path clip-path=\"url(#pf161f939a4)\" d=\"M 270.677875 21.696 \nL 246.043208 21.696 \nL 246.043208 36.192 \nL 270.677875 36.192 \nz\n\" style=\"fill:#8e4d91;stroke:#000000;\"/>\n   </g>\n   <g id=\"patch_12\">\n    <path clip-path=\"url(#pf161f939a4)\" d=\"M 309.861875 21.696 \nL 275.803208 21.696 \nL 275.803208 36.192 \nL 309.861875 36.192 \nz\n\" style=\"fill:#7b488e;stroke:#000000;\"/>\n   </g>\n   <g id=\"patch_13\">\n    <path clip-path=\"url(#pf161f939a4)\" d=\"M 332.347208 21.696 \nL 314.987208 21.696 \nL 314.987208 36.192 \nL 332.347208 36.192 \nz\n\" style=\"fill:#684389;stroke:#000000;\"/>\n   </g>\n   <g id=\"patch_14\">\n    <path clip-path=\"url(#pf161f939a4)\" d=\"M 374.341875 21.696 \nL 337.472542 21.696 \nL 337.472542 36.192 \nL 374.341875 36.192 \nz\n\" style=\"fill:#523f7f;stroke:#000000;\"/>\n   </g>\n   <g id=\"patch_15\">\n    <path clip-path=\"url(#pf161f939a4)\" d=\"M 90.960542 50.688 \nL 86.992542 50.688 \nL 86.992542 65.184 \nL 90.960542 65.184 \nz\n\" style=\"fill:#80b7ce;stroke:#000000;\"/>\n   </g>\n   <g id=\"patch_16\">\n    <path clip-path=\"url(#pf161f939a4)\" d=\"M 136.592542 50.688 \nL 117.083208 50.688 \nL 117.083208 65.184 \nL 136.592542 65.184 \nz\n\" style=\"fill:#cd7f84;stroke:#000000;\"/>\n   </g>\n   <g id=\"patch_17\">\n    <path clip-path=\"url(#pf161f939a4)\" d=\"M 162.880542 50.688 \nL 141.717875 50.688 \nL 141.717875 65.184 \nL 162.880542 65.184 \nz\n\" style=\"fill:#c57187;stroke:#000000;\"/>\n   </g>\n   <g id=\"patch_18\">\n    <path clip-path=\"url(#pf161f939a4)\" d=\"M 197.435208 50.688 \nL 168.005875 50.688 \nL 168.005875 65.184 \nL 197.435208 65.184 \nz\n\" style=\"fill:#bc668b;stroke:#000000;\"/>\n   </g>\n   <g id=\"patch_19\">\n    <path clip-path=\"url(#pf161f939a4)\" d=\"M 221.573875 50.688 \nL 202.725875 50.688 \nL 202.725875 65.184 \nL 221.573875 65.184 \nz\n\" style=\"fill:#b05d8e;stroke:#000000;\"/>\n   </g>\n   <g id=\"patch_20\">\n    <path clip-path=\"url(#pf161f939a4)\" d=\"M 240.917875 50.688 \nL 226.699208 50.688 \nL 226.699208 65.184 \nL 240.917875 65.184 \nz\n\" style=\"fill:#a15590;stroke:#000000;\"/>\n   </g>\n   <g id=\"patch_21\">\n    <path clip-path=\"url(#pf161f939a4)\" d=\"M 270.677875 50.688 \nL 246.043208 50.688 \nL 246.043208 65.184 \nL 270.677875 65.184 \nz\n\" style=\"fill:#8e4d91;stroke:#000000;\"/>\n   </g>\n   <g id=\"patch_22\">\n    <path clip-path=\"url(#pf161f939a4)\" d=\"M 309.861875 50.688 \nL 275.803208 50.688 \nL 275.803208 65.184 \nL 309.861875 65.184 \nz\n\" style=\"fill:#7b488e;stroke:#000000;\"/>\n   </g>\n   <g id=\"patch_23\">\n    <path clip-path=\"url(#pf161f939a4)\" d=\"M 332.347208 50.688 \nL 314.987208 50.688 \nL 314.987208 65.184 \nL 332.347208 65.184 \nz\n\" style=\"fill:#684389;stroke:#000000;\"/>\n   </g>\n   <g id=\"patch_24\">\n    <path clip-path=\"url(#pf161f939a4)\" d=\"M 374.341875 50.688 \nL 337.472542 50.688 \nL 337.472542 65.184 \nL 374.341875 65.184 \nz\n\" style=\"fill:#523f7f;stroke:#000000;\"/>\n   </g>\n   <g id=\"patch_25\">\n    <path clip-path=\"url(#pf161f939a4)\" d=\"M 90.960542 79.68 \nL 83.189875 79.68 \nL 83.189875 94.176 \nL 90.960542 94.176 \nz\n\" style=\"fill:#d29b84;stroke:#000000;\"/>\n   </g>\n   <g id=\"patch_26\">\n    <path clip-path=\"url(#pf161f939a4)\" d=\"M 111.957875 79.68 \nL 96.085875 79.68 \nL 96.085875 94.176 \nL 111.957875 94.176 \nz\n\" style=\"fill:#d18d83;stroke:#000000;\"/>\n   </g>\n   <g id=\"patch_27\">\n    <path clip-path=\"url(#pf161f939a4)\" d=\"M 136.592542 79.68 \nL 117.083208 79.68 \nL 117.083208 94.176 \nL 136.592542 94.176 \nz\n\" style=\"fill:#cd7f84;stroke:#000000;\"/>\n   </g>\n   <g id=\"patch_28\">\n    <path clip-path=\"url(#pf161f939a4)\" d=\"M 162.880542 79.68 \nL 141.717875 79.68 \nL 141.717875 94.176 \nL 162.880542 94.176 \nz\n\" style=\"fill:#c57187;stroke:#000000;\"/>\n   </g>\n   <g id=\"patch_29\">\n    <path clip-path=\"url(#pf161f939a4)\" d=\"M 240.917875 79.68 \nL 226.699208 79.68 \nL 226.699208 94.176 \nL 240.917875 94.176 \nz\n\" style=\"fill:#a15590;stroke:#000000;\"/>\n   </g>\n   <g id=\"patch_30\">\n    <path clip-path=\"url(#pf161f939a4)\" d=\"M 270.677875 79.68 \nL 246.043208 79.68 \nL 246.043208 94.176 \nL 270.677875 94.176 \nz\n\" style=\"fill:#8e4d91;stroke:#000000;\"/>\n   </g>\n   <g id=\"patch_31\">\n    <path clip-path=\"url(#pf161f939a4)\" d=\"M 309.861875 79.68 \nL 275.803208 79.68 \nL 275.803208 94.176 \nL 309.861875 94.176 \nz\n\" style=\"fill:#7b488e;stroke:#000000;\"/>\n   </g>\n   <g id=\"patch_32\">\n    <path clip-path=\"url(#pf161f939a4)\" d=\"M 332.347208 79.68 \nL 314.987208 79.68 \nL 314.987208 94.176 \nL 332.347208 94.176 \nz\n\" style=\"fill:#684389;stroke:#000000;\"/>\n   </g>\n   <g id=\"patch_33\">\n    <path clip-path=\"url(#pf161f939a4)\" d=\"M 374.341875 79.68 \nL 337.472542 79.68 \nL 337.472542 94.176 \nL 374.341875 94.176 \nz\n\" style=\"fill:#523f7f;stroke:#000000;\"/>\n   </g>\n   <g id=\"patch_34\">\n    <path clip-path=\"url(#pf161f939a4)\" d=\"M 74.427208 108.672 \nL 69.301875 108.672 \nL 69.301875 123.168 \nL 74.427208 123.168 \nz\n\" style=\"fill:#d3ab89;stroke:#000000;\"/>\n   </g>\n   <g id=\"patch_35\">\n    <path clip-path=\"url(#pf161f939a4)\" d=\"M 90.960542 108.672 \nL 79.552542 108.672 \nL 79.552542 123.168 \nL 90.960542 123.168 \nz\n\" style=\"fill:#d29b84;stroke:#000000;\"/>\n   </g>\n   <g id=\"patch_36\">\n    <path clip-path=\"url(#pf161f939a4)\" d=\"M 332.347208 108.672 \nL 314.987208 108.672 \nL 314.987208 123.168 \nL 332.347208 123.168 \nz\n\" style=\"fill:#684389;stroke:#000000;\"/>\n   </g>\n   <g id=\"patch_37\">\n    <path clip-path=\"url(#pf161f939a4)\" d=\"M 374.341875 108.672 \nL 337.472542 108.672 \nL 337.472542 123.168 \nL 374.341875 123.168 \nz\n\" style=\"fill:#523f7f;stroke:#000000;\"/>\n   </g>\n   <g id=\"patch_38\">\n    <path clip-path=\"url(#pf161f939a4)\" d=\"M 74.427208 137.664 \nL 69.301875 137.664 \nL 69.301875 152.16 \nL 74.427208 152.16 \nz\n\" style=\"fill:#d3ab89;stroke:#000000;\"/>\n   </g>\n   <g id=\"patch_39\">\n    <path clip-path=\"url(#pf161f939a4)\" d=\"M 90.960542 137.664 \nL 79.552542 137.664 \nL 79.552542 152.16 \nL 90.960542 152.16 \nz\n\" style=\"fill:#d29b84;stroke:#000000;\"/>\n   </g>\n   <g id=\"patch_40\">\n    <path clip-path=\"url(#pf161f939a4)\" d=\"M 111.957875 137.664 \nL 96.085875 137.664 \nL 96.085875 152.16 \nL 111.957875 152.16 \nz\n\" style=\"fill:#d18d83;stroke:#000000;\"/>\n   </g>\n   <g id=\"patch_41\">\n    <path clip-path=\"url(#pf161f939a4)\" d=\"M 136.592542 137.664 \nL 117.083208 137.664 \nL 117.083208 152.16 \nL 136.592542 152.16 \nz\n\" style=\"fill:#cd7f84;stroke:#000000;\"/>\n   </g>\n   <g id=\"patch_42\">\n    <path clip-path=\"url(#pf161f939a4)\" d=\"M 162.880542 137.664 \nL 141.717875 137.664 \nL 141.717875 152.16 \nL 162.880542 152.16 \nz\n\" style=\"fill:#c57187;stroke:#000000;\"/>\n   </g>\n   <g id=\"patch_43\">\n    <path clip-path=\"url(#pf161f939a4)\" d=\"M 197.600542 137.664 \nL 168.005875 137.664 \nL 168.005875 152.16 \nL 197.600542 152.16 \nz\n\" style=\"fill:#bc668b;stroke:#000000;\"/>\n   </g>\n   <g id=\"patch_44\">\n    <path clip-path=\"url(#pf161f939a4)\" d=\"M 90.960542 166.656 \nL 83.189875 166.656 \nL 83.189875 181.152 \nL 90.960542 181.152 \nz\n\" style=\"fill:#d29b84;stroke:#000000;\"/>\n   </g>\n   <g id=\"patch_45\">\n    <path clip-path=\"url(#pf161f939a4)\" d=\"M 111.957875 166.656 \nL 96.085875 166.656 \nL 96.085875 181.152 \nL 111.957875 181.152 \nz\n\" style=\"fill:#d18d83;stroke:#000000;\"/>\n   </g>\n   <g id=\"patch_46\">\n    <path clip-path=\"url(#pf161f939a4)\" d=\"M 136.592542 166.656 \nL 117.083208 166.656 \nL 117.083208 181.152 \nL 136.592542 181.152 \nz\n\" style=\"fill:#cd7f84;stroke:#000000;\"/>\n   </g>\n   <g id=\"patch_47\">\n    <path clip-path=\"url(#pf161f939a4)\" d=\"M 162.880542 166.656 \nL 141.717875 166.656 \nL 141.717875 181.152 \nL 162.880542 181.152 \nz\n\" style=\"fill:#c57187;stroke:#000000;\"/>\n   </g>\n   <g id=\"patch_48\">\n    <path clip-path=\"url(#pf161f939a4)\" d=\"M 197.435208 166.656 \nL 168.005875 166.656 \nL 168.005875 181.152 \nL 197.435208 181.152 \nz\n\" style=\"fill:#bc668b;stroke:#000000;\"/>\n   </g>\n   <g id=\"patch_49\">\n    <path clip-path=\"url(#pf161f939a4)\" d=\"M 221.573875 166.656 \nL 202.725875 166.656 \nL 202.725875 181.152 \nL 221.573875 181.152 \nz\n\" style=\"fill:#b05d8e;stroke:#000000;\"/>\n   </g>\n   <g id=\"patch_50\">\n    <path clip-path=\"url(#pf161f939a4)\" d=\"M 240.917875 166.656 \nL 226.699208 166.656 \nL 226.699208 181.152 \nL 240.917875 181.152 \nz\n\" style=\"fill:#a15590;stroke:#000000;\"/>\n   </g>\n   <g id=\"patch_51\">\n    <path clip-path=\"url(#pf161f939a4)\" d=\"M 270.677875 166.656 \nL 246.043208 166.656 \nL 246.043208 181.152 \nL 270.677875 181.152 \nz\n\" style=\"fill:#8e4d91;stroke:#000000;\"/>\n   </g>\n   <g id=\"patch_52\">\n    <path clip-path=\"url(#pf161f939a4)\" d=\"M 309.861875 166.656 \nL 275.803208 166.656 \nL 275.803208 181.152 \nL 309.861875 181.152 \nz\n\" style=\"fill:#7b488e;stroke:#000000;\"/>\n   </g>\n   <g id=\"patch_53\">\n    <path clip-path=\"url(#pf161f939a4)\" d=\"M 332.347208 166.656 \nL 314.987208 166.656 \nL 314.987208 181.152 \nL 332.347208 181.152 \nz\n\" style=\"fill:#684389;stroke:#000000;\"/>\n   </g>\n   <g id=\"patch_54\">\n    <path clip-path=\"url(#pf161f939a4)\" d=\"M 374.341875 166.656 \nL 337.472542 166.656 \nL 337.472542 181.152 \nL 374.341875 181.152 \nz\n\" style=\"fill:#523f7f;stroke:#000000;\"/>\n   </g>\n   <g id=\"patch_55\">\n    <path clip-path=\"url(#pf161f939a4)\" d=\"M 179.909875 195.648 \nL 179.579208 195.648 \nL 179.579208 210.144 \nL 179.909875 210.144 \nz\n\" style=\"fill:#a0814b;stroke:#000000;\"/>\n   </g>\n   <g id=\"patch_56\">\n    <path clip-path=\"url(#pf161f939a4)\" d=\"M 182.555208 195.648 \nL 180.240542 195.648 \nL 180.240542 210.144 \nL 182.555208 210.144 \nz\n\" style=\"fill:#4ca27d;stroke:#000000;\"/>\n   </g>\n   <g id=\"patch_57\">\n    <path clip-path=\"url(#pf161f939a4)\" d=\"M 183.877875 195.648 \nL 183.547208 195.648 \nL 183.547208 210.144 \nL 183.877875 210.144 \nz\n\" style=\"fill:#a0814b;stroke:#000000;\"/>\n   </g>\n   <g id=\"patch_58\">\n    <path clip-path=\"url(#pf161f939a4)\" d=\"M 197.435208 195.648 \nL 184.869875 195.648 \nL 184.869875 210.144 \nL 197.435208 210.144 \nz\n\" style=\"fill:#bc668b;stroke:#000000;\"/>\n   </g>\n   <g id=\"patch_59\">\n    <path clip-path=\"url(#pf161f939a4)\" d=\"M 221.573875 195.648 \nL 202.725875 195.648 \nL 202.725875 210.144 \nL 221.573875 210.144 \nz\n\" style=\"fill:#b05d8e;stroke:#000000;\"/>\n   </g>\n   <g id=\"patch_60\">\n    <path clip-path=\"url(#pf161f939a4)\" d=\"M 240.917875 195.648 \nL 226.699208 195.648 \nL 226.699208 210.144 \nL 240.917875 210.144 \nz\n\" style=\"fill:#a15590;stroke:#000000;\"/>\n   </g>\n   <g id=\"patch_61\">\n    <path clip-path=\"url(#pf161f939a4)\" d=\"M 270.677875 195.648 \nL 246.043208 195.648 \nL 246.043208 210.144 \nL 270.677875 210.144 \nz\n\" style=\"fill:#8e4d91;stroke:#000000;\"/>\n   </g>\n   <g id=\"patch_62\">\n    <path clip-path=\"url(#pf161f939a4)\" d=\"M 309.861875 195.648 \nL 275.803208 195.648 \nL 275.803208 210.144 \nL 309.861875 210.144 \nz\n\" style=\"fill:#7b488e;stroke:#000000;\"/>\n   </g>\n   <g id=\"patch_63\">\n    <path clip-path=\"url(#pf161f939a4)\" d=\"M 332.347208 195.648 \nL 314.987208 195.648 \nL 314.987208 210.144 \nL 332.347208 210.144 \nz\n\" style=\"fill:#684389;stroke:#000000;\"/>\n   </g>\n   <g id=\"patch_64\">\n    <path clip-path=\"url(#pf161f939a4)\" d=\"M 374.341875 195.648 \nL 337.472542 195.648 \nL 337.472542 210.144 \nL 374.341875 210.144 \nz\n\" style=\"fill:#523f7f;stroke:#000000;\"/>\n   </g>\n   <g id=\"matplotlib.axis_1\"/>\n   <g id=\"matplotlib.axis_2\">\n    <g id=\"ytick_1\">\n     <g id=\"line2d_1\"/>\n     <g id=\"text_1\">\n      <!-- ATF2-201 -->\n      <defs>\n       <path d=\"M -0.140625 0 \nL 27.34375 71.578125 \nL 37.546875 71.578125 \nL 66.84375 0 \nL 56.0625 0 \nL 47.703125 21.6875 \nL 17.78125 21.6875 \nL 9.90625 0 \nz\nM 20.515625 29.390625 \nL 44.78125 29.390625 \nL 37.3125 49.21875 \nQ 33.890625 58.25 32.234375 64.0625 \nQ 30.859375 57.171875 28.375 50.390625 \nz\n\" id=\"ArialMT-65\"/>\n       <path d=\"M 25.921875 0 \nL 25.921875 63.140625 \nL 2.34375 63.140625 \nL 2.34375 71.578125 \nL 59.078125 71.578125 \nL 59.078125 63.140625 \nL 35.40625 63.140625 \nL 35.40625 0 \nz\n\" id=\"ArialMT-84\"/>\n       <path d=\"M 8.203125 0 \nL 8.203125 71.578125 \nL 56.5 71.578125 \nL 56.5 63.140625 \nL 17.671875 63.140625 \nL 17.671875 40.96875 \nL 51.265625 40.96875 \nL 51.265625 32.515625 \nL 17.671875 32.515625 \nL 17.671875 0 \nz\n\" id=\"ArialMT-70\"/>\n       <path d=\"M 50.34375 8.453125 \nL 50.34375 0 \nL 3.03125 0 \nQ 2.9375 3.171875 4.046875 6.109375 \nQ 5.859375 10.9375 9.828125 15.625 \nQ 13.8125 20.3125 21.34375 26.46875 \nQ 33.015625 36.03125 37.109375 41.625 \nQ 41.21875 47.21875 41.21875 52.203125 \nQ 41.21875 57.421875 37.46875 61 \nQ 33.734375 64.59375 27.734375 64.59375 \nQ 21.390625 64.59375 17.578125 60.78125 \nQ 13.765625 56.984375 13.71875 50.25 \nL 4.6875 51.171875 \nQ 5.609375 61.28125 11.65625 66.578125 \nQ 17.71875 71.875 27.9375 71.875 \nQ 38.234375 71.875 44.234375 66.15625 \nQ 50.25 60.453125 50.25 52 \nQ 50.25 47.703125 48.484375 43.546875 \nQ 46.734375 39.40625 42.65625 34.8125 \nQ 38.578125 30.21875 29.109375 22.21875 \nQ 21.1875 15.578125 18.9375 13.203125 \nQ 16.703125 10.84375 15.234375 8.453125 \nz\n\" id=\"ArialMT-50\"/>\n       <path d=\"M 3.171875 21.484375 \nL 3.171875 30.328125 \nL 30.171875 30.328125 \nL 30.171875 21.484375 \nz\n\" id=\"ArialMT-45\"/>\n       <path d=\"M 4.15625 35.296875 \nQ 4.15625 48 6.765625 55.734375 \nQ 9.375 63.484375 14.515625 67.671875 \nQ 19.671875 71.875 27.484375 71.875 \nQ 33.25 71.875 37.59375 69.546875 \nQ 41.9375 67.234375 44.765625 62.859375 \nQ 47.609375 58.5 49.21875 52.21875 \nQ 50.828125 45.953125 50.828125 35.296875 \nQ 50.828125 22.703125 48.234375 14.96875 \nQ 45.65625 7.234375 40.5 3 \nQ 35.359375 -1.21875 27.484375 -1.21875 \nQ 17.140625 -1.21875 11.234375 6.203125 \nQ 4.15625 15.140625 4.15625 35.296875 \nz\nM 13.1875 35.296875 \nQ 13.1875 17.671875 17.3125 11.828125 \nQ 21.4375 6 27.484375 6 \nQ 33.546875 6 37.671875 11.859375 \nQ 41.796875 17.71875 41.796875 35.296875 \nQ 41.796875 52.984375 37.671875 58.78125 \nQ 33.546875 64.59375 27.390625 64.59375 \nQ 21.34375 64.59375 17.71875 59.46875 \nQ 13.1875 52.9375 13.1875 35.296875 \nz\n\" id=\"ArialMT-48\"/>\n       <path d=\"M 37.25 0 \nL 28.46875 0 \nL 28.46875 56 \nQ 25.296875 52.984375 20.140625 49.953125 \nQ 14.984375 46.921875 10.890625 45.40625 \nL 10.890625 53.90625 \nQ 18.265625 57.375 23.78125 62.296875 \nQ 29.296875 67.234375 31.59375 71.875 \nL 37.25 71.875 \nz\n\" id=\"ArialMT-49\"/>\n      </defs>\n      <g transform=\"translate(7.2 32.522906)scale(0.1 -0.1)\">\n       <use xlink:href=\"#ArialMT-65\"/>\n       <use x=\"59.324219\" xlink:href=\"#ArialMT-84\"/>\n       <use x=\"120.408203\" xlink:href=\"#ArialMT-70\"/>\n       <use x=\"181.492188\" xlink:href=\"#ArialMT-50\"/>\n       <use x=\"237.107422\" xlink:href=\"#ArialMT-45\"/>\n       <use x=\"270.408203\" xlink:href=\"#ArialMT-50\"/>\n       <use x=\"326.023438\" xlink:href=\"#ArialMT-48\"/>\n       <use x=\"381.638672\" xlink:href=\"#ArialMT-49\"/>\n      </g>\n     </g>\n    </g>\n    <g id=\"ytick_2\">\n     <g id=\"line2d_2\"/>\n     <g id=\"text_2\">\n      <!-- ATF2-202 -->\n      <g transform=\"translate(7.2 61.514906)scale(0.1 -0.1)\">\n       <use xlink:href=\"#ArialMT-65\"/>\n       <use x=\"59.324219\" xlink:href=\"#ArialMT-84\"/>\n       <use x=\"120.408203\" xlink:href=\"#ArialMT-70\"/>\n       <use x=\"181.492188\" xlink:href=\"#ArialMT-50\"/>\n       <use x=\"237.107422\" xlink:href=\"#ArialMT-45\"/>\n       <use x=\"270.408203\" xlink:href=\"#ArialMT-50\"/>\n       <use x=\"326.023438\" xlink:href=\"#ArialMT-48\"/>\n       <use x=\"381.638672\" xlink:href=\"#ArialMT-50\"/>\n      </g>\n     </g>\n    </g>\n    <g id=\"ytick_3\">\n     <g id=\"line2d_3\"/>\n     <g id=\"text_3\">\n      <!-- ATF2-204 -->\n      <defs>\n       <path d=\"M 32.328125 0 \nL 32.328125 17.140625 \nL 1.265625 17.140625 \nL 1.265625 25.203125 \nL 33.9375 71.578125 \nL 41.109375 71.578125 \nL 41.109375 25.203125 \nL 50.78125 25.203125 \nL 50.78125 17.140625 \nL 41.109375 17.140625 \nL 41.109375 0 \nz\nM 32.328125 25.203125 \nL 32.328125 57.46875 \nL 9.90625 25.203125 \nz\n\" id=\"ArialMT-52\"/>\n      </defs>\n      <g transform=\"translate(7.2 90.506906)scale(0.1 -0.1)\">\n       <use xlink:href=\"#ArialMT-65\"/>\n       <use x=\"59.324219\" xlink:href=\"#ArialMT-84\"/>\n       <use x=\"120.408203\" xlink:href=\"#ArialMT-70\"/>\n       <use x=\"181.492188\" xlink:href=\"#ArialMT-50\"/>\n       <use x=\"237.107422\" xlink:href=\"#ArialMT-45\"/>\n       <use x=\"270.408203\" xlink:href=\"#ArialMT-50\"/>\n       <use x=\"326.023438\" xlink:href=\"#ArialMT-48\"/>\n       <use x=\"381.638672\" xlink:href=\"#ArialMT-52\"/>\n      </g>\n     </g>\n    </g>\n    <g id=\"ytick_4\">\n     <g id=\"line2d_4\"/>\n     <g id=\"text_4\">\n      <!-- ATF2-205 -->\n      <defs>\n       <path d=\"M 4.15625 18.75 \nL 13.375 19.53125 \nQ 14.40625 12.796875 18.140625 9.390625 \nQ 21.875 6 27.15625 6 \nQ 33.5 6 37.890625 10.78125 \nQ 42.28125 15.578125 42.28125 23.484375 \nQ 42.28125 31 38.0625 35.34375 \nQ 33.84375 39.703125 27 39.703125 \nQ 22.75 39.703125 19.328125 37.765625 \nQ 15.921875 35.84375 13.96875 32.765625 \nL 5.71875 33.84375 \nL 12.640625 70.609375 \nL 48.25 70.609375 \nL 48.25 62.203125 \nL 19.671875 62.203125 \nL 15.828125 42.96875 \nQ 22.265625 47.46875 29.34375 47.46875 \nQ 38.71875 47.46875 45.15625 40.96875 \nQ 51.609375 34.46875 51.609375 24.265625 \nQ 51.609375 14.546875 45.953125 7.46875 \nQ 39.0625 -1.21875 27.15625 -1.21875 \nQ 17.390625 -1.21875 11.203125 4.25 \nQ 5.03125 9.71875 4.15625 18.75 \nz\n\" id=\"ArialMT-53\"/>\n      </defs>\n      <g transform=\"translate(7.2 119.498906)scale(0.1 -0.1)\">\n       <use xlink:href=\"#ArialMT-65\"/>\n       <use x=\"59.324219\" xlink:href=\"#ArialMT-84\"/>\n       <use x=\"120.408203\" xlink:href=\"#ArialMT-70\"/>\n       <use x=\"181.492188\" xlink:href=\"#ArialMT-50\"/>\n       <use x=\"237.107422\" xlink:href=\"#ArialMT-45\"/>\n       <use x=\"270.408203\" xlink:href=\"#ArialMT-50\"/>\n       <use x=\"326.023438\" xlink:href=\"#ArialMT-48\"/>\n       <use x=\"381.638672\" xlink:href=\"#ArialMT-53\"/>\n      </g>\n     </g>\n    </g>\n    <g id=\"ytick_5\">\n     <g id=\"line2d_5\"/>\n     <g id=\"text_5\">\n      <!-- ATF2-207 -->\n      <defs>\n       <path d=\"M 4.734375 62.203125 \nL 4.734375 70.65625 \nL 51.078125 70.65625 \nL 51.078125 63.8125 \nQ 44.234375 56.546875 37.515625 44.484375 \nQ 30.8125 32.421875 27.15625 19.671875 \nQ 24.515625 10.6875 23.78125 0 \nL 14.75 0 \nQ 14.890625 8.453125 18.0625 20.40625 \nQ 21.234375 32.375 27.171875 43.484375 \nQ 33.109375 54.59375 39.796875 62.203125 \nz\n\" id=\"ArialMT-55\"/>\n      </defs>\n      <g transform=\"translate(7.2 148.490906)scale(0.1 -0.1)\">\n       <use xlink:href=\"#ArialMT-65\"/>\n       <use x=\"59.324219\" xlink:href=\"#ArialMT-84\"/>\n       <use x=\"120.408203\" xlink:href=\"#ArialMT-70\"/>\n       <use x=\"181.492188\" xlink:href=\"#ArialMT-50\"/>\n       <use x=\"237.107422\" xlink:href=\"#ArialMT-45\"/>\n       <use x=\"270.408203\" xlink:href=\"#ArialMT-50\"/>\n       <use x=\"326.023438\" xlink:href=\"#ArialMT-48\"/>\n       <use x=\"381.638672\" xlink:href=\"#ArialMT-55\"/>\n      </g>\n     </g>\n    </g>\n    <g id=\"ytick_6\">\n     <g id=\"line2d_6\"/>\n     <g id=\"text_6\">\n      <!-- ATF2-212 -->\n      <g transform=\"translate(7.2 177.482906)scale(0.1 -0.1)\">\n       <use xlink:href=\"#ArialMT-65\"/>\n       <use x=\"59.324219\" xlink:href=\"#ArialMT-84\"/>\n       <use x=\"120.408203\" xlink:href=\"#ArialMT-70\"/>\n       <use x=\"181.492188\" xlink:href=\"#ArialMT-50\"/>\n       <use x=\"237.107422\" xlink:href=\"#ArialMT-45\"/>\n       <use x=\"270.408203\" xlink:href=\"#ArialMT-50\"/>\n       <use x=\"326.023438\" xlink:href=\"#ArialMT-49\"/>\n       <use x=\"381.638672\" xlink:href=\"#ArialMT-50\"/>\n      </g>\n     </g>\n    </g>\n    <g id=\"ytick_7\">\n     <g id=\"line2d_7\"/>\n     <g id=\"text_7\">\n      <!-- ATF2-221 -->\n      <g transform=\"translate(7.2 206.474906)scale(0.1 -0.1)\">\n       <use xlink:href=\"#ArialMT-65\"/>\n       <use x=\"59.324219\" xlink:href=\"#ArialMT-84\"/>\n       <use x=\"120.408203\" xlink:href=\"#ArialMT-70\"/>\n       <use x=\"181.492188\" xlink:href=\"#ArialMT-50\"/>\n       <use x=\"237.107422\" xlink:href=\"#ArialMT-45\"/>\n       <use x=\"270.408203\" xlink:href=\"#ArialMT-50\"/>\n       <use x=\"326.023438\" xlink:href=\"#ArialMT-50\"/>\n       <use x=\"381.638672\" xlink:href=\"#ArialMT-49\"/>\n      </g>\n     </g>\n    </g>\n   </g>\n   <g id=\"text_8\">\n    <!-- 1 nt -->\n    <defs>\n     <path id=\"ArialMT-32\"/>\n     <path d=\"M 6.59375 0 \nL 6.59375 51.859375 \nL 14.5 51.859375 \nL 14.5 44.484375 \nQ 20.21875 53.03125 31 53.03125 \nQ 35.6875 53.03125 39.625 51.34375 \nQ 43.5625 49.65625 45.515625 46.921875 \nQ 47.46875 44.1875 48.25 40.4375 \nQ 48.734375 37.984375 48.734375 31.890625 \nL 48.734375 0 \nL 39.9375 0 \nL 39.9375 31.546875 \nQ 39.9375 36.921875 38.90625 39.578125 \nQ 37.890625 42.234375 35.28125 43.8125 \nQ 32.671875 45.40625 29.15625 45.40625 \nQ 23.53125 45.40625 19.453125 41.84375 \nQ 15.375 38.28125 15.375 28.328125 \nL 15.375 0 \nz\n\" id=\"ArialMT-110\"/>\n     <path d=\"M 25.78125 7.859375 \nL 27.046875 0.09375 \nQ 23.34375 -0.6875 20.40625 -0.6875 \nQ 15.625 -0.6875 12.984375 0.828125 \nQ 10.359375 2.34375 9.28125 4.8125 \nQ 8.203125 7.28125 8.203125 15.1875 \nL 8.203125 45.015625 \nL 1.765625 45.015625 \nL 1.765625 51.859375 \nL 8.203125 51.859375 \nL 8.203125 64.703125 \nL 16.9375 69.96875 \nL 16.9375 51.859375 \nL 25.78125 51.859375 \nL 25.78125 45.015625 \nL 16.9375 45.015625 \nL 16.9375 14.703125 \nQ 16.9375 10.9375 17.40625 9.859375 \nQ 17.875 8.796875 18.921875 8.15625 \nQ 19.96875 7.515625 21.921875 7.515625 \nQ 23.390625 7.515625 25.78125 7.859375 \nz\n\" id=\"ArialMT-116\"/>\n    </defs>\n    <g transform=\"translate(197.435208 41.356448)scale(0.06 -0.06)\">\n     <use xlink:href=\"#ArialMT-49\"/>\n     <use x=\"55.615234\" xlink:href=\"#ArialMT-32\"/>\n     <use x=\"83.398438\" xlink:href=\"#ArialMT-110\"/>\n     <use x=\"139.013672\" xlink:href=\"#ArialMT-116\"/>\n    </g>\n   </g>\n   <g id=\"text_9\">\n    <!-- 1 nt -->\n    <g transform=\"translate(197.435208 70.348448)scale(0.06 -0.06)\">\n     <use xlink:href=\"#ArialMT-49\"/>\n     <use x=\"55.615234\" xlink:href=\"#ArialMT-32\"/>\n     <use x=\"83.398438\" xlink:href=\"#ArialMT-110\"/>\n     <use x=\"139.013672\" xlink:href=\"#ArialMT-116\"/>\n    </g>\n   </g>\n   <g id=\"text_10\">\n    <!-- 1 nt -->\n    <g transform=\"translate(197.435208 186.316448)scale(0.06 -0.06)\">\n     <use xlink:href=\"#ArialMT-49\"/>\n     <use x=\"55.615234\" xlink:href=\"#ArialMT-32\"/>\n     <use x=\"83.398438\" xlink:href=\"#ArialMT-110\"/>\n     <use x=\"139.013672\" xlink:href=\"#ArialMT-116\"/>\n    </g>\n   </g>\n   <g id=\"text_11\">\n    <!-- 1 nt -->\n    <g transform=\"translate(197.435208 215.308448)scale(0.06 -0.06)\">\n     <use xlink:href=\"#ArialMT-49\"/>\n     <use x=\"55.615234\" xlink:href=\"#ArialMT-32\"/>\n     <use x=\"83.398438\" xlink:href=\"#ArialMT-110\"/>\n     <use x=\"139.013672\" xlink:href=\"#ArialMT-116\"/>\n    </g>\n   </g>\n  </g>\n </g>\n <defs>\n  <clipPath id=\"pf161f939a4\">\n   <rect height=\"217.44\" width=\"334.8\" x=\"54.421875\" y=\"7.2\"/>\n  </clipPath>\n </defs>\n</svg>\n",
      "application/vnd.code.notebook.error": {
       "name": "ReferenceError",
       "message": "atob is not defined",
       "stack": "ReferenceError: atob is not defined\n\tat d (/Applications/Visual Studio Code - Insiders.app/Contents/Resources/app/extensions/ipynb/dist/ipynbMain.js:1:138755)\n\tat y (/Applications/Visual Studio Code - Insiders.app/Contents/Resources/app/extensions/ipynb/dist/ipynbMain.js:1:143435)\n\tat v (/Applications/Visual Studio Code - Insiders.app/Contents/Resources/app/extensions/ipynb/dist/ipynbMain.js:1:143731)\n\tat Array.map (<anonymous>)\n\tat /Applications/Visual Studio Code - Insiders.app/Contents/Resources/app/extensions/ipynb/dist/ipynbMain.js:1:144883\n\tat /Applications/Visual Studio Code - Insiders.app/Contents/Resources/app/extensions/ipynb/dist/ipynbMain.js:1:145125\n\tat /Applications/Visual Studio Code - Insiders.app/Contents/Resources/app/extensions/ipynb/dist/ipynbMain.js:1:145132\n\tat Array.map (<anonymous>)\n\tat e.jupyterNotebookModelToNotebookData (/Applications/Visual Studio Code - Insiders.app/Contents/Resources/app/extensions/ipynb/dist/ipynbMain.js:1:144441)\n\tat e.NotebookSerializer.deserializeNotebook (/Applications/Visual Studio Code - Insiders.app/Contents/Resources/app/extensions/ipynb/dist/ipynbMain.js:1:146368)\n\tat _.$dataToNotebook (/Applications/Visual Studio Code - Insiders.app/Contents/Resources/app/out/vs/workbench/services/extensions/node/extensionHostProcess.js:85:211883)\n\tat d._doInvokeHandler (/Applications/Visual Studio Code - Insiders.app/Contents/Resources/app/out/vs/workbench/services/extensions/node/extensionHostProcess.js:89:12819)\n\tat d._invokeHandler (/Applications/Visual Studio Code - Insiders.app/Contents/Resources/app/out/vs/workbench/services/extensions/node/extensionHostProcess.js:89:12503)\n\tat d._receiveRequest (/Applications/Visual Studio Code - Insiders.app/Contents/Resources/app/out/vs/workbench/services/extensions/node/extensionHostProcess.js:89:11107)\n\tat d._receiveOneMessage (/Applications/Visual Studio Code - Insiders.app/Contents/Resources/app/out/vs/workbench/services/extensions/node/extensionHostProcess.js:89:10142)\n\tat /Applications/Visual Studio Code - Insiders.app/Contents/Resources/app/out/vs/workbench/services/extensions/node/extensionHostProcess.js:89:8039\n\tat u.fire (/Applications/Visual Studio Code - Insiders.app/Contents/Resources/app/out/vs/workbench/services/extensions/node/extensionHostProcess.js:57:1712)\n\tat l.fire (/Applications/Visual Studio Code - Insiders.app/Contents/Resources/app/out/vs/workbench/services/extensions/node/extensionHostProcess.js:65:15825)\n\tat /Applications/Visual Studio Code - Insiders.app/Contents/Resources/app/out/vs/workbench/services/extensions/node/extensionHostProcess.js:104:30061\n\tat u.fire (/Applications/Visual Studio Code - Insiders.app/Contents/Resources/app/out/vs/workbench/services/extensions/node/extensionHostProcess.js:57:1712)\n\tat l.fire (/Applications/Visual Studio Code - Insiders.app/Contents/Resources/app/out/vs/workbench/services/extensions/node/extensionHostProcess.js:65:15825)\n\tat r._receiveMessage (/Applications/Visual Studio Code - Insiders.app/Contents/Resources/app/out/vs/workbench/services/extensions/node/extensionHostProcess.js:65:21091)\n\tat /Applications/Visual Studio Code - Insiders.app/Contents/Resources/app/out/vs/workbench/services/extensions/node/extensionHostProcess.js:65:17969\n\tat u.fire (/Applications/Visual Studio Code - Insiders.app/Contents/Resources/app/out/vs/workbench/services/extensions/node/extensionHostProcess.js:57:1712)\n\tat v.acceptChunk (/Applications/Visual Studio Code - Insiders.app/Contents/Resources/app/out/vs/workbench/services/extensions/node/extensionHostProcess.js:65:13186)\n\tat /Applications/Visual Studio Code - Insiders.app/Contents/Resources/app/out/vs/workbench/services/extensions/node/extensionHostProcess.js:65:12534\n\tat Socket.w (/Applications/Visual Studio Code - Insiders.app/Contents/Resources/app/out/vs/workbench/services/extensions/node/extensionHostProcess.js:104:13219)\n\tat Socket.emit (events.js:315:20)\n\tat addChunk (internal/streams/readable.js:309:12)\n\tat readableAddChunk (internal/streams/readable.js:284:9)\n\tat Socket.Readable.push (internal/streams/readable.js:223:10)\n\tat Pipe.onStreamRead (internal/stream_base_commons.js:188:23)"
      }
     },
     "metadata": {
      "needs_background": "light"
     }
    }
   ],
   "metadata": {}
  },
  {
   "cell_type": "code",
   "execution_count": 17,
   "source": [
    "print((tfs_gc['ATF2'].exons[0].start, tfs_gc['ATF2'].exons[0].end))\n",
    "print((tfs_gc['ATF2'].exons[-1].start, tfs_gc['ATF2'].exons[-1].end))"
   ],
   "outputs": [
    {
     "output_type": "stream",
     "name": "stdout",
     "text": [
      "(175136411, 175136443)\n",
      "(175074611, 175074835)\n"
     ]
    }
   ],
   "metadata": {}
  },
  {
   "cell_type": "code",
   "execution_count": 95,
   "source": [
    "print(len(tfs['ZNF343']['ZNF343-4'].clone_nt_seq))\n",
    "print(len(tfs['ZNF343']['ZNF343-4'].nt_seq))\n",
    "print(tfs['ZNF343']['ZNF343-4'].exons[-1].start, tfs['ZNF343']['ZNF343-4'].exons[-1].end)\n",
    "tfs['ZNF343'].exon_diagram()"
   ],
   "outputs": [
    {
     "output_type": "stream",
     "name": "stdout",
     "text": [
      "349\n",
      "348\n",
      "2492034 2492078\n"
     ]
    },
    {
     "output_type": "display_data",
     "data": {
      "text/plain": [
       "<Figure size 432x288 with 1 Axes>"
      ],
      "application/vnd.code.notebook.error": {
       "name": "ReferenceError",
       "message": "atob is not defined",
       "stack": "ReferenceError: atob is not defined\n\tat d (/Applications/Visual Studio Code - Insiders.app/Contents/Resources/app/extensions/ipynb/dist/ipynbMain.js:1:138755)\n\tat y (/Applications/Visual Studio Code - Insiders.app/Contents/Resources/app/extensions/ipynb/dist/ipynbMain.js:1:143435)\n\tat v (/Applications/Visual Studio Code - Insiders.app/Contents/Resources/app/extensions/ipynb/dist/ipynbMain.js:1:143731)\n\tat Array.map (<anonymous>)\n\tat /Applications/Visual Studio Code - Insiders.app/Contents/Resources/app/extensions/ipynb/dist/ipynbMain.js:1:144883\n\tat /Applications/Visual Studio Code - Insiders.app/Contents/Resources/app/extensions/ipynb/dist/ipynbMain.js:1:145125\n\tat /Applications/Visual Studio Code - Insiders.app/Contents/Resources/app/extensions/ipynb/dist/ipynbMain.js:1:145132\n\tat Array.map (<anonymous>)\n\tat e.jupyterNotebookModelToNotebookData (/Applications/Visual Studio Code - Insiders.app/Contents/Resources/app/extensions/ipynb/dist/ipynbMain.js:1:144441)\n\tat e.NotebookSerializer.deserializeNotebook (/Applications/Visual Studio Code - Insiders.app/Contents/Resources/app/extensions/ipynb/dist/ipynbMain.js:1:146368)\n\tat _.$dataToNotebook (/Applications/Visual Studio Code - Insiders.app/Contents/Resources/app/out/vs/workbench/services/extensions/node/extensionHostProcess.js:85:211883)\n\tat d._doInvokeHandler (/Applications/Visual Studio Code - Insiders.app/Contents/Resources/app/out/vs/workbench/services/extensions/node/extensionHostProcess.js:89:12819)\n\tat d._invokeHandler (/Applications/Visual Studio Code - Insiders.app/Contents/Resources/app/out/vs/workbench/services/extensions/node/extensionHostProcess.js:89:12503)\n\tat d._receiveRequest (/Applications/Visual Studio Code - Insiders.app/Contents/Resources/app/out/vs/workbench/services/extensions/node/extensionHostProcess.js:89:11107)\n\tat d._receiveOneMessage (/Applications/Visual Studio Code - Insiders.app/Contents/Resources/app/out/vs/workbench/services/extensions/node/extensionHostProcess.js:89:10142)\n\tat /Applications/Visual Studio Code - Insiders.app/Contents/Resources/app/out/vs/workbench/services/extensions/node/extensionHostProcess.js:89:8039\n\tat u.fire (/Applications/Visual Studio Code - Insiders.app/Contents/Resources/app/out/vs/workbench/services/extensions/node/extensionHostProcess.js:57:1712)\n\tat l.fire (/Applications/Visual Studio Code - Insiders.app/Contents/Resources/app/out/vs/workbench/services/extensions/node/extensionHostProcess.js:65:15825)\n\tat /Applications/Visual Studio Code - Insiders.app/Contents/Resources/app/out/vs/workbench/services/extensions/node/extensionHostProcess.js:104:30061\n\tat u.fire (/Applications/Visual Studio Code - Insiders.app/Contents/Resources/app/out/vs/workbench/services/extensions/node/extensionHostProcess.js:57:1712)\n\tat l.fire (/Applications/Visual Studio Code - Insiders.app/Contents/Resources/app/out/vs/workbench/services/extensions/node/extensionHostProcess.js:65:15825)\n\tat r._receiveMessage (/Applications/Visual Studio Code - Insiders.app/Contents/Resources/app/out/vs/workbench/services/extensions/node/extensionHostProcess.js:65:21091)\n\tat /Applications/Visual Studio Code - Insiders.app/Contents/Resources/app/out/vs/workbench/services/extensions/node/extensionHostProcess.js:65:17969\n\tat u.fire (/Applications/Visual Studio Code - Insiders.app/Contents/Resources/app/out/vs/workbench/services/extensions/node/extensionHostProcess.js:57:1712)\n\tat v.acceptChunk (/Applications/Visual Studio Code - Insiders.app/Contents/Resources/app/out/vs/workbench/services/extensions/node/extensionHostProcess.js:65:13186)\n\tat /Applications/Visual Studio Code - Insiders.app/Contents/Resources/app/out/vs/workbench/services/extensions/node/extensionHostProcess.js:65:12534\n\tat Socket.w (/Applications/Visual Studio Code - Insiders.app/Contents/Resources/app/out/vs/workbench/services/extensions/node/extensionHostProcess.js:104:13219)\n\tat Socket.emit (events.js:315:20)\n\tat addChunk (internal/streams/readable.js:309:12)\n\tat readableAddChunk (internal/streams/readable.js:284:9)\n\tat Socket.Readable.push (internal/streams/readable.js:223:10)\n\tat Pipe.onStreamRead (internal/stream_base_commons.js:188:23)"
      }
     },
     "metadata": {
      "needs_background": "light"
     }
    }
   ],
   "metadata": {}
  },
  {
   "cell_type": "code",
   "execution_count": 40,
   "source": [
    "# when is the sum of exon length equal to the aa sequence?\n",
    "\n",
    "exon_eq_coding = [orf for tf in tfs.values() for orf in tf.orfs if sum(len(e) for e in orf.exons) == len(orf.nt_seq)]\n",
    "exon_eq_clone = [orf for tf in tfs.values() for orf in tf.orfs \n",
    "                  if (sum(len(e) for e in orf.exons) == len(orf.clone_nt_seq)) and (len(orf.clone_nt_seq) != len(orf.nt_seq))]\n",
    "print(len(exon_eq_coding), len(exon_eq_clone))\n"
   ],
   "outputs": [
    {
     "output_type": "stream",
     "name": "stdout",
     "text": [
      "704 52\n"
     ]
    }
   ],
   "metadata": {}
  },
  {
   "cell_type": "code",
   "execution_count": 44,
   "source": [
    "# investigate the ones where the exon includes stop etc etc."
   ],
   "outputs": [
    {
     "output_type": "execute_result",
     "data": {
      "text/plain": [
       "ORF: GMEB1-2"
      ]
     },
     "metadata": {},
     "execution_count": 44
    }
   ],
   "metadata": {}
  },
  {
   "cell_type": "code",
   "execution_count": 55,
   "source": [
    "tfs['GMEB1']['GMEB1-1'].ensembl_transcript_id"
   ],
   "outputs": [
    {
     "output_type": "execute_result",
     "data": {
      "text/plain": [
       "True"
      ]
     },
     "metadata": {},
     "execution_count": 55
    }
   ],
   "metadata": {}
  },
  {
   "cell_type": "code",
   "execution_count": 52,
   "source": [
    "# 28714073        28714770n\n",
    "# 28714739        28714770\n",
    "tfs['GMEB1'].exon_diagram()"
   ],
   "outputs": [
    {
     "output_type": "display_data",
     "data": {
      "text/plain": [
       "<Figure size 432x288 with 1 Axes>"
      ],
      "application/vnd.code.notebook.error": {
       "name": "ReferenceError",
       "message": "atob is not defined",
       "stack": "ReferenceError: atob is not defined\n\tat d (/Applications/Visual Studio Code - Insiders.app/Contents/Resources/app/extensions/ipynb/dist/ipynbMain.js:1:138755)\n\tat y (/Applications/Visual Studio Code - Insiders.app/Contents/Resources/app/extensions/ipynb/dist/ipynbMain.js:1:143435)\n\tat v (/Applications/Visual Studio Code - Insiders.app/Contents/Resources/app/extensions/ipynb/dist/ipynbMain.js:1:143731)\n\tat Array.map (<anonymous>)\n\tat /Applications/Visual Studio Code - Insiders.app/Contents/Resources/app/extensions/ipynb/dist/ipynbMain.js:1:144883\n\tat /Applications/Visual Studio Code - Insiders.app/Contents/Resources/app/extensions/ipynb/dist/ipynbMain.js:1:145125\n\tat /Applications/Visual Studio Code - Insiders.app/Contents/Resources/app/extensions/ipynb/dist/ipynbMain.js:1:145132\n\tat Array.map (<anonymous>)\n\tat e.jupyterNotebookModelToNotebookData (/Applications/Visual Studio Code - Insiders.app/Contents/Resources/app/extensions/ipynb/dist/ipynbMain.js:1:144441)\n\tat e.NotebookSerializer.deserializeNotebook (/Applications/Visual Studio Code - Insiders.app/Contents/Resources/app/extensions/ipynb/dist/ipynbMain.js:1:146368)\n\tat _.$dataToNotebook (/Applications/Visual Studio Code - Insiders.app/Contents/Resources/app/out/vs/workbench/services/extensions/node/extensionHostProcess.js:85:211883)\n\tat d._doInvokeHandler (/Applications/Visual Studio Code - Insiders.app/Contents/Resources/app/out/vs/workbench/services/extensions/node/extensionHostProcess.js:89:12819)\n\tat d._invokeHandler (/Applications/Visual Studio Code - Insiders.app/Contents/Resources/app/out/vs/workbench/services/extensions/node/extensionHostProcess.js:89:12503)\n\tat d._receiveRequest (/Applications/Visual Studio Code - Insiders.app/Contents/Resources/app/out/vs/workbench/services/extensions/node/extensionHostProcess.js:89:11107)\n\tat d._receiveOneMessage (/Applications/Visual Studio Code - Insiders.app/Contents/Resources/app/out/vs/workbench/services/extensions/node/extensionHostProcess.js:89:10142)\n\tat /Applications/Visual Studio Code - Insiders.app/Contents/Resources/app/out/vs/workbench/services/extensions/node/extensionHostProcess.js:89:8039\n\tat u.fire (/Applications/Visual Studio Code - Insiders.app/Contents/Resources/app/out/vs/workbench/services/extensions/node/extensionHostProcess.js:57:1712)\n\tat l.fire (/Applications/Visual Studio Code - Insiders.app/Contents/Resources/app/out/vs/workbench/services/extensions/node/extensionHostProcess.js:65:15825)\n\tat /Applications/Visual Studio Code - Insiders.app/Contents/Resources/app/out/vs/workbench/services/extensions/node/extensionHostProcess.js:104:30061\n\tat u.fire (/Applications/Visual Studio Code - Insiders.app/Contents/Resources/app/out/vs/workbench/services/extensions/node/extensionHostProcess.js:57:1712)\n\tat l.fire (/Applications/Visual Studio Code - Insiders.app/Contents/Resources/app/out/vs/workbench/services/extensions/node/extensionHostProcess.js:65:15825)\n\tat r._receiveMessage (/Applications/Visual Studio Code - Insiders.app/Contents/Resources/app/out/vs/workbench/services/extensions/node/extensionHostProcess.js:65:21091)\n\tat /Applications/Visual Studio Code - Insiders.app/Contents/Resources/app/out/vs/workbench/services/extensions/node/extensionHostProcess.js:65:17969\n\tat u.fire (/Applications/Visual Studio Code - Insiders.app/Contents/Resources/app/out/vs/workbench/services/extensions/node/extensionHostProcess.js:57:1712)\n\tat v.acceptChunk (/Applications/Visual Studio Code - Insiders.app/Contents/Resources/app/out/vs/workbench/services/extensions/node/extensionHostProcess.js:65:13186)\n\tat /Applications/Visual Studio Code - Insiders.app/Contents/Resources/app/out/vs/workbench/services/extensions/node/extensionHostProcess.js:65:12534\n\tat Socket.w (/Applications/Visual Studio Code - Insiders.app/Contents/Resources/app/out/vs/workbench/services/extensions/node/extensionHostProcess.js:104:13219)\n\tat Socket.emit (events.js:315:20)\n\tat addChunk (internal/streams/readable.js:309:12)\n\tat readableAddChunk (internal/streams/readable.js:284:9)\n\tat Socket.Readable.push (internal/streams/readable.js:223:10)\n\tat Pipe.onStreamRead (internal/stream_base_commons.js:188:23)"
      }
     },
     "metadata": {
      "needs_background": "light"
     }
    }
   ],
   "metadata": {}
  },
  {
   "cell_type": "code",
   "execution_count": 70,
   "source": [
    "#sorted([orf for tf in tfs.values() for orf in tf.orfs],\n",
    "#        key=lambda x: sum(len(e) for e in x.exons) - len(x.nt_seq))[-1]\n",
    "\n",
    "\n",
    "print(len(tfs['SMAD4']['SMAD4-1'].clone_nt_seq),\n",
    "      len(tfs['SMAD4']['SMAD4-1'].nt_seq))\n",
    "print(tfs['SMAD4']['SMAD4-1'].exons)\n",
    "tfs['SMAD4'].exon_diagram()"
   ],
   "outputs": [
    {
     "output_type": "stream",
     "name": "stdout",
     "text": [
      "1771 1458\n",
      "[Exon of SMAD4|1/2|01A02 249 nt\n",
      ", Exon of SMAD4|1/2|01A02 175 nt\n",
      ", Exon of SMAD4|1/2|01A02 30 nt\n",
      ", Exon of SMAD4|1/2|01A02 213 nt\n",
      ", Exon of SMAD4|1/2|01A02 120 nt\n",
      ", Exon of SMAD4|1/2|01A02 117 nt\n",
      ", Exon of SMAD4|1/2|01A02 51 nt\n",
      ", Exon of SMAD4|1/2|01A02 184 nt\n",
      ", Exon of SMAD4|1/2|01A02 169 nt\n",
      ", Exon of SMAD4|1/2|01A02 139 nt\n",
      ", Exon of SMAD4|1/2|01A02 113 nt\n",
      ", Exon of SMAD4|1/2|01A02 211 nt\n",
      "]\n"
     ]
    },
    {
     "output_type": "display_data",
     "data": {
      "text/plain": [
       "<Figure size 432x288 with 1 Axes>"
      ],
      "application/vnd.code.notebook.error": {
       "name": "ReferenceError",
       "message": "atob is not defined",
       "stack": "ReferenceError: atob is not defined\n\tat d (/Applications/Visual Studio Code - Insiders.app/Contents/Resources/app/extensions/ipynb/dist/ipynbMain.js:1:138755)\n\tat y (/Applications/Visual Studio Code - Insiders.app/Contents/Resources/app/extensions/ipynb/dist/ipynbMain.js:1:143435)\n\tat v (/Applications/Visual Studio Code - Insiders.app/Contents/Resources/app/extensions/ipynb/dist/ipynbMain.js:1:143731)\n\tat Array.map (<anonymous>)\n\tat /Applications/Visual Studio Code - Insiders.app/Contents/Resources/app/extensions/ipynb/dist/ipynbMain.js:1:144883\n\tat /Applications/Visual Studio Code - Insiders.app/Contents/Resources/app/extensions/ipynb/dist/ipynbMain.js:1:145125\n\tat /Applications/Visual Studio Code - Insiders.app/Contents/Resources/app/extensions/ipynb/dist/ipynbMain.js:1:145132\n\tat Array.map (<anonymous>)\n\tat e.jupyterNotebookModelToNotebookData (/Applications/Visual Studio Code - Insiders.app/Contents/Resources/app/extensions/ipynb/dist/ipynbMain.js:1:144441)\n\tat e.NotebookSerializer.deserializeNotebook (/Applications/Visual Studio Code - Insiders.app/Contents/Resources/app/extensions/ipynb/dist/ipynbMain.js:1:146368)\n\tat _.$dataToNotebook (/Applications/Visual Studio Code - Insiders.app/Contents/Resources/app/out/vs/workbench/services/extensions/node/extensionHostProcess.js:85:211883)\n\tat d._doInvokeHandler (/Applications/Visual Studio Code - Insiders.app/Contents/Resources/app/out/vs/workbench/services/extensions/node/extensionHostProcess.js:89:12819)\n\tat d._invokeHandler (/Applications/Visual Studio Code - Insiders.app/Contents/Resources/app/out/vs/workbench/services/extensions/node/extensionHostProcess.js:89:12503)\n\tat d._receiveRequest (/Applications/Visual Studio Code - Insiders.app/Contents/Resources/app/out/vs/workbench/services/extensions/node/extensionHostProcess.js:89:11107)\n\tat d._receiveOneMessage (/Applications/Visual Studio Code - Insiders.app/Contents/Resources/app/out/vs/workbench/services/extensions/node/extensionHostProcess.js:89:10142)\n\tat /Applications/Visual Studio Code - Insiders.app/Contents/Resources/app/out/vs/workbench/services/extensions/node/extensionHostProcess.js:89:8039\n\tat u.fire (/Applications/Visual Studio Code - Insiders.app/Contents/Resources/app/out/vs/workbench/services/extensions/node/extensionHostProcess.js:57:1712)\n\tat l.fire (/Applications/Visual Studio Code - Insiders.app/Contents/Resources/app/out/vs/workbench/services/extensions/node/extensionHostProcess.js:65:15825)\n\tat /Applications/Visual Studio Code - Insiders.app/Contents/Resources/app/out/vs/workbench/services/extensions/node/extensionHostProcess.js:104:30061\n\tat u.fire (/Applications/Visual Studio Code - Insiders.app/Contents/Resources/app/out/vs/workbench/services/extensions/node/extensionHostProcess.js:57:1712)\n\tat l.fire (/Applications/Visual Studio Code - Insiders.app/Contents/Resources/app/out/vs/workbench/services/extensions/node/extensionHostProcess.js:65:15825)\n\tat r._receiveMessage (/Applications/Visual Studio Code - Insiders.app/Contents/Resources/app/out/vs/workbench/services/extensions/node/extensionHostProcess.js:65:21091)\n\tat /Applications/Visual Studio Code - Insiders.app/Contents/Resources/app/out/vs/workbench/services/extensions/node/extensionHostProcess.js:65:17969\n\tat u.fire (/Applications/Visual Studio Code - Insiders.app/Contents/Resources/app/out/vs/workbench/services/extensions/node/extensionHostProcess.js:57:1712)\n\tat v.acceptChunk (/Applications/Visual Studio Code - Insiders.app/Contents/Resources/app/out/vs/workbench/services/extensions/node/extensionHostProcess.js:65:13186)\n\tat /Applications/Visual Studio Code - Insiders.app/Contents/Resources/app/out/vs/workbench/services/extensions/node/extensionHostProcess.js:65:12534\n\tat Socket.w (/Applications/Visual Studio Code - Insiders.app/Contents/Resources/app/out/vs/workbench/services/extensions/node/extensionHostProcess.js:104:13219)\n\tat Socket.emit (events.js:315:20)\n\tat addChunk (internal/streams/readable.js:309:12)\n\tat readableAddChunk (internal/streams/readable.js:284:9)\n\tat Socket.Readable.push (internal/streams/readable.js:223:10)\n\tat Pipe.onStreamRead (internal/stream_base_commons.js:188:23)"
      }
     },
     "metadata": {
      "needs_background": "light"
     }
    }
   ],
   "metadata": {}
  },
  {
   "cell_type": "code",
   "execution_count": 84,
   "source": [
    "tfs['SMAD4'].exon_diagram()"
   ],
   "outputs": [
    {
     "output_type": "display_data",
     "data": {
      "text/plain": [
       "<Figure size 432x288 with 1 Axes>"
      ],
      "application/vnd.code.notebook.error": {
       "name": "ReferenceError",
       "message": "atob is not defined",
       "stack": "ReferenceError: atob is not defined\n\tat d (/Applications/Visual Studio Code - Insiders.app/Contents/Resources/app/extensions/ipynb/dist/ipynbMain.js:1:138755)\n\tat y (/Applications/Visual Studio Code - Insiders.app/Contents/Resources/app/extensions/ipynb/dist/ipynbMain.js:1:143435)\n\tat v (/Applications/Visual Studio Code - Insiders.app/Contents/Resources/app/extensions/ipynb/dist/ipynbMain.js:1:143731)\n\tat Array.map (<anonymous>)\n\tat /Applications/Visual Studio Code - Insiders.app/Contents/Resources/app/extensions/ipynb/dist/ipynbMain.js:1:144883\n\tat /Applications/Visual Studio Code - Insiders.app/Contents/Resources/app/extensions/ipynb/dist/ipynbMain.js:1:145125\n\tat /Applications/Visual Studio Code - Insiders.app/Contents/Resources/app/extensions/ipynb/dist/ipynbMain.js:1:145132\n\tat Array.map (<anonymous>)\n\tat e.jupyterNotebookModelToNotebookData (/Applications/Visual Studio Code - Insiders.app/Contents/Resources/app/extensions/ipynb/dist/ipynbMain.js:1:144441)\n\tat e.NotebookSerializer.deserializeNotebook (/Applications/Visual Studio Code - Insiders.app/Contents/Resources/app/extensions/ipynb/dist/ipynbMain.js:1:146368)\n\tat _.$dataToNotebook (/Applications/Visual Studio Code - Insiders.app/Contents/Resources/app/out/vs/workbench/services/extensions/node/extensionHostProcess.js:85:211883)\n\tat d._doInvokeHandler (/Applications/Visual Studio Code - Insiders.app/Contents/Resources/app/out/vs/workbench/services/extensions/node/extensionHostProcess.js:89:12819)\n\tat d._invokeHandler (/Applications/Visual Studio Code - Insiders.app/Contents/Resources/app/out/vs/workbench/services/extensions/node/extensionHostProcess.js:89:12503)\n\tat d._receiveRequest (/Applications/Visual Studio Code - Insiders.app/Contents/Resources/app/out/vs/workbench/services/extensions/node/extensionHostProcess.js:89:11107)\n\tat d._receiveOneMessage (/Applications/Visual Studio Code - Insiders.app/Contents/Resources/app/out/vs/workbench/services/extensions/node/extensionHostProcess.js:89:10142)\n\tat /Applications/Visual Studio Code - Insiders.app/Contents/Resources/app/out/vs/workbench/services/extensions/node/extensionHostProcess.js:89:8039\n\tat u.fire (/Applications/Visual Studio Code - Insiders.app/Contents/Resources/app/out/vs/workbench/services/extensions/node/extensionHostProcess.js:57:1712)\n\tat l.fire (/Applications/Visual Studio Code - Insiders.app/Contents/Resources/app/out/vs/workbench/services/extensions/node/extensionHostProcess.js:65:15825)\n\tat /Applications/Visual Studio Code - Insiders.app/Contents/Resources/app/out/vs/workbench/services/extensions/node/extensionHostProcess.js:104:30061\n\tat u.fire (/Applications/Visual Studio Code - Insiders.app/Contents/Resources/app/out/vs/workbench/services/extensions/node/extensionHostProcess.js:57:1712)\n\tat l.fire (/Applications/Visual Studio Code - Insiders.app/Contents/Resources/app/out/vs/workbench/services/extensions/node/extensionHostProcess.js:65:15825)\n\tat r._receiveMessage (/Applications/Visual Studio Code - Insiders.app/Contents/Resources/app/out/vs/workbench/services/extensions/node/extensionHostProcess.js:65:21091)\n\tat /Applications/Visual Studio Code - Insiders.app/Contents/Resources/app/out/vs/workbench/services/extensions/node/extensionHostProcess.js:65:17969\n\tat u.fire (/Applications/Visual Studio Code - Insiders.app/Contents/Resources/app/out/vs/workbench/services/extensions/node/extensionHostProcess.js:57:1712)\n\tat v.acceptChunk (/Applications/Visual Studio Code - Insiders.app/Contents/Resources/app/out/vs/workbench/services/extensions/node/extensionHostProcess.js:65:13186)\n\tat /Applications/Visual Studio Code - Insiders.app/Contents/Resources/app/out/vs/workbench/services/extensions/node/extensionHostProcess.js:65:12534\n\tat Socket.w (/Applications/Visual Studio Code - Insiders.app/Contents/Resources/app/out/vs/workbench/services/extensions/node/extensionHostProcess.js:104:13219)\n\tat Socket.emit (events.js:315:20)\n\tat addChunk (internal/streams/readable.js:309:12)\n\tat readableAddChunk (internal/streams/readable.js:284:9)\n\tat Socket.Readable.push (internal/streams/readable.js:223:10)\n\tat Pipe.onStreamRead (internal/stream_base_commons.js:188:23)"
      }
     },
     "metadata": {
      "needs_background": "light"
     }
    }
   ],
   "metadata": {}
  },
  {
   "cell_type": "code",
   "execution_count": 82,
   "source": [
    "orf = tfs['SMAD4']['SMAD4-1']\n",
    "print(\n",
    "orf.start,\n",
    "orf.exons[0].start,\n",
    "orf.end,\n",
    "orf.exons[-1].end\n",
    ")"
   ],
   "outputs": [
    {
     "output_type": "stream",
     "name": "stdout",
     "text": [
      "51047046 51047046 51078466 51077317\n"
     ]
    }
   ],
   "metadata": {}
  },
  {
   "cell_type": "code",
   "execution_count": 73,
   "source": [
    "tfs['SMAD4']['SMAD4-1'].strand"
   ],
   "outputs": [
    {
     "output_type": "execute_result",
     "data": {
      "text/plain": [
       "'+'"
      ]
     },
     "metadata": {},
     "execution_count": 73
    }
   ],
   "metadata": {}
  },
  {
   "cell_type": "code",
   "execution_count": 57,
   "source": [
    "# GMEB1-2\n",
    "tfs['GMEB1']['GMEB1-2'].exons"
   ],
   "outputs": [
    {
     "output_type": "execute_result",
     "data": {
      "text/plain": [
       "[Exon of GMEB1|2/2|02A08 128 nt,\n",
       " Exon of GMEB1|2/2|02A08 113 nt,\n",
       " Exon of GMEB1|2/2|02A08 125 nt,\n",
       " Exon of GMEB1|2/2|02A08 32 nt]"
      ]
     },
     "metadata": {},
     "execution_count": 57
    }
   ],
   "metadata": {}
  },
  {
   "cell_type": "code",
   "execution_count": 46,
   "source": [
    "len(tfs['GMEB1']['GMEB1-2'].clone_nt_seq)"
   ],
   "outputs": [
    {
     "output_type": "execute_result",
     "data": {
      "text/plain": [
       "398"
      ]
     },
     "metadata": {},
     "execution_count": 46
    }
   ],
   "metadata": {}
  },
  {
   "cell_type": "code",
   "execution_count": 49,
   "source": [
    "sum([len(orf.clone_nt_seq) % 3 != 0 for orf in exon_eq_clone])"
   ],
   "outputs": [
    {
     "output_type": "execute_result",
     "data": {
      "text/plain": [
       "48"
      ]
     },
     "metadata": {},
     "execution_count": 49
    }
   ],
   "metadata": {}
  },
  {
   "cell_type": "code",
   "execution_count": 50,
   "source": [
    "sum([len(orf.clone_nt_seq) % 3 != 0 for tf in tfs.values() for orf in tf.orfs])"
   ],
   "outputs": [
    {
     "output_type": "execute_result",
     "data": {
      "text/plain": [
       "76"
      ]
     },
     "metadata": {},
     "execution_count": 50
    }
   ],
   "metadata": {}
  },
  {
   "cell_type": "code",
   "execution_count": 43,
   "source": [
    "len([orf for tf in tfs.values() for orf in tf.orfs])"
   ],
   "outputs": [
    {
     "output_type": "execute_result",
     "data": {
      "text/plain": [
       "756"
      ]
     },
     "metadata": {},
     "execution_count": 43
    }
   ],
   "metadata": {}
  },
  {
   "cell_type": "code",
   "execution_count": 41,
   "source": [
    "def perfect_seq(s):\n",
    "    stop_codons = {'TAG', 'TAA', 'TGA'}\n",
    "    codons = [s[i:i + 3] for i in range(0, len(s), 3)]\n",
    "    return len(s) % 3 == 0 and not any(codon in stop_codons for codon in codons)\n",
    "\n",
    "\n",
    "suspect_seqs = {orf.name: orf.clone_nt_seq for tf in tfs.values() for orf in tf.orfs if not perfect_seq(orf.clone_nt_seq)}\n",
    "print(len(suspect_seqs), 'clone sequences where the length is not a multiple of 3 or there is a stop codon')\n",
    "[(name, s[-(len(s) % 3):]) for name, s in suspect_seqs.items()]"
   ],
   "outputs": [
    {
     "output_type": "stream",
     "name": "stdout",
     "text": [
      "197 clone sequences where the length is not a multiple of 3 or there is a stop codon\n"
     ]
    },
    {
     "output_type": "execute_result",
     "data": {
      "text/plain": [
       "[('PRRX1-1',\n",
       "  'ATGACCTCCAGCTACGGGCACGTTCTGGAGCGGCAACCGGCGCTGGGCGGCCGCTTGGACAGCCCGGGCAACCTCGACACCCTGCAGGCGAAAAAGAACTTCTCCGTCAGTCACCTGCTAGACCTGGAGGAAGCCGGGGACATGGTGGCGGCACAGGCGGATGAGAACGTGGGCGAGGCTGGCCGGAGCCTGCTGGAGTCGCCGGGACTCACCAGCGGCAGCGACACCCCGCAGCAGGACAATGACCAGCTGAACTCAGAAGAAAAAAAGAAGAGAAAGCAGCGAAGGAATAGGACAACCTTCAATAGCAGCCAGCTGCAGGCTTTGGAGCGTGTCTTTGAGCGGACACACTATCCTGATGCTTTTGTGCGAGAAGACCTTGCCCGCCGGGTGAACCTCACCGAGGCGAGAGTGCAGGTGTGGTTTCAGAACCGAAGAGCCAAGTTCCGCAGGAATGAGAGAGCCATGCTAGCCAATAAAAACGCTTCCCTCCTCAAATCCTACTCAGGAGACGTGACTGCTGTGGAGCAGCCCATCGTACCTCGTCCTGCTCCGAGACCCACCGATTATCTCTCCTGGGGGACAGCGTCTCCGTACAGATCCTCGTCCCTCCCAAGATGTTGTTTACACGAGGGGCTTCATAACGGATTCTAACGGAAGACACTGAAAAGCGCCATGGCTACTTATTCTGCCACATGTGCCAACAATAGCCCTGCACAGGGCATCAACATGGCCAACAGCATTGCCAACCTGAGACTGAAGGCCAAGGAATATAGTTTACAGAGGAACCAGGTGCCAACAGTCAAC'),\n",
       " ('NFIA-2', 'TG'),\n",
       " ('ZBTB7B-2',\n",
       "  'ATGGGGAGCCCCGAGGATGACCTGATTGGGATTCCATTCCCGGACCACAGCAGTGAGCTCCTGAGCTGCCTCAATGAGCAGCGCCAGCTGGGCCACCTATGTGACCTCACCATCCGGACGCAGGGCCTTGAATACCGCACCCACAGGGCTGTGCTAGCTGCCTGTAGCCACTACTTCAAGAAGCTTTTCACTGAGGGCGGTGGCGGAGCTGTCATGGGGGCCGGGGGTAGCGGGACGGCCACTGGGGGAGCAGGGGCCGGTGTGTGTGAGCTGGACTTTGTAGGGCCAGAGGCACTAGGCGCCCTCCTTGAATTTGCCTATACAGCCACACTGACCACCAGCAGCGCCAACATGCCAGCTGTGCTCCAGGCTGCCCGCCTGCTGGAGATTCCGTGTGTCATCGCTGCTTGCATGGAGATTCTGCAGGGCAGTGGGCTAGAAGCTCCCAGCCCGGACGAGGATGACTGTGAGCGAGCCCGCCAGTATCTGGAGGCCTTTGCCACAGCCACGGCCTCTGGAGTTCCCAATGGTGAAGACAGTCCTCCACAGGTGCCCCTCCCACCACCTCCGCCACCGCCACCTCGGCCTGTTGCCCGCCGCAGCCGCAAGCCCCGGAAAGCTTTCCTGCAAACCAAGGGGGCCAGAGCAAACCACCTAGTCCCTGAGGTGCCCACAGTGCCCGCCCATCCCTTGACCTATGAGGAGGAGGAGGTGGCGGGCAGAGTGGGCAGCAGTGGGGGCAGTGGGCCGGGGGACAGCTACAGCCCTCCCACAGGAACTGCCTCCCCTCCTGAGGGTCCCCAGAGCTACGAACCCTATGAGGGTGAGGAAGAAGAAGAGGAGCTGGTATATCCCCCAGCCTATGGGCTGGCGCAGGGTGGCGGGCCCCCGCTGTCCCCAGAGGAGCTGGGCTCAGATGAGGATGCCATCGATCCTGACCTGATGGCCTACCTAAGCTCCCTGCACCAGGACAACCTGGCACCAGGCCTGGACAGCCAAGACAAGCTGGTGCGCAAACGCCGCTCCCAGATGCCTCAGGAGTGCCCTGTCTGCCACAAGATCATCCATGGGGCAGGCAAACTGCCTCGCCACATGAGGACCCACACAGGCGAGAAGCCCTTTGCCTGCGAGGTCTGCGGTGTTCGATTCACCAGGAACGACAAGCTGAAGATCCACATGCGGAAGCACACGGGAGAGCGCCCCTACTCATGCCCGCACTGCCCAGCCCGCTTCCTGCACAGCTACGACCTCAAGAACCACATGCACCTGCACACAGGGGACCGGCCCTATGAGTGCCACCTGTGCCACAAGGCTTTCGCCAAGGAGGACCACCTGCAGCGCCACCTCAAAGGCCAGAACTGCCTGGAGGTGCGCACCCGACGGCGCCGCAAGGACGATGCACCACCCCACTACCCGCCACCCTCTACCGCTGCTGCATCCCCCGCTGGCCTCGACCTCTCCAATGGCCACCTGGACACCTTCCGCCTCTCTCTAGCTCGATTCTGGGAGCAGTCAGCCCCCACTGGGCCCCCGGTCTCTACCCCAGGGCCCCCTGATGACGATGAGGAGGAAGGGGCACCCACCACACCCCAGGCTGAAGGTGCCATGGAGTCCTCTTAA'),\n",
       " ('LHX8-1',\n",
       "  'ATGCAGATTCTGAGCAGGTGTCAGGGGCTCATGTCAGAGGAGTGCGGGCGGACTACAGCCCTGGCGGCCGGGAGGACTCGCAAAGGCGCCGGGGAAGAGGGACTGGTGAGCCCCGAGGGAGCGGGGGACGAGGACTCGTGCTCCTCCTCGGCCCCGCTGTCCCCGTCGTCCTCGCCCCGGTCCATGGCCTCGGGCTCCGGCTGCCCTCCTGGCAAGTGTGTGTGCAACAGTTGCGGCCTGGAGATCGTGGACAAATACCTTCTCAAGGTGAATGACCTATGCTGGCATGTCCGGTGTCTCTCCTGCAGTGTTTGCAGAACCTCCCTAGGAAGGCACACCAGCTGTTATATTAAAGACAAAGACATTTTCTGCAAACTTGATTATTTCAGAAGGTATGGAACTCGCTGCTCTCGATGTGGGAGACACATCCATTCTACTGACTGGGTCCGGAGAGCCAAGGGGAATGTCTATCACTTGGCATGCTTTGCCTGCTTTTCCTGCAAAAGGCAACTTTCCACAGGAGAGGAGTTTGCTTTGGTGGAAGAGAAAGTCCTCTGCAGAGTACATTATGACTGCATGCTGGATAATTTAAAAAGAGAAGTAGAAAATGGGAATGGGATTAGTGTGGAAGGTGCCCTCCTCACAGAGCAAGATGTTAACCATCCAAAACCAGCAAAAAGAGCTCGGACCAGCTTTACAGCAGATCAGCTTCAGGTTATGCAAGCACAATTTGCTCAGGACAACAACCCAGATGCACAGACACTCCAGAAATTGGCAGAAAGGACAGGCTTGAGCAGACGTGTGATACAGGTGTGGTTTCAGAATTGTAGAGCACGCCACAAGAAACACGTCAGTCCTAATCACTCATCCTCCACCCCAGTCACAGCAGCCCCACCCTCCAGGCTGTCTCCACCCATGTTAGAAGAAATGGCTTATTCTGCCTACGTGCCCCAAGATGGAACGATGTTAACTGCGCTGCATAGTTATATGGATGCTCATTCACCAACAACTCTTGGACTCCAGCCCTTGTTACCCCATTCAATGACACAACTGCCAATAAGTCATACCTAA'),\n",
       " ('PAX7-1',\n",
       "  'ATGGCGGCCCTTCCCGGCACGGTACCGAGAATGATGCGGCCGGCTCCGGGGCAGAACTACCCCCGCACGGGATTCCCTTTGGAAGTGTCCACCCCGCTTGGCCAAGGCCGGGTCAATCAGCTGGGAGGGGTCTTCATCAATGGGCGACCCCTGCCTAACCACATCCGCCACAAGATAGTGGAGATGGCCCACCATGGCATCCGGCCCTGTGTCATCTCCCGACAGCTGCGTGTCTCCCACGGCTGCGTCTCCAAGATTCTTTGCCGCTACCAGGAGACCGGGTCCATCCGGCCTGGGGCCATCGGCGGCAGCAAGCCCAGACAGGTGGCGACTCCGGATGTAGAGAAAAAGATTGAGGAGTACAAGAGGGAAAACCCAGGCATGTTCAGCTGGGAGATCCGGGACAGGCTGCTGAAGGATGGGCACTGTGACCGAAGCACTGTGCCCTCAGTGAGTTCGATTAGCCGCGTGCTCAGAATCAAGTTCGGGAAGAAAGAGGAGGAGGATGAAGCGGACAAGAAGGAGGACGACGGCGAAAAGAAGGCCAAACACAGCATCGACGGCATCCTGGGCGACAAAGGGAACCGGCTGGACGAGGGCTCGGATGTGGAGTCGGAACCTGACCTCCCACTGAAGCGCAAGCAGCGACGCAGTCGGACCACATTCACGGCCGAGCAGCTGGAGGAGCTGGAGAAGGCCTTTGAGAGGACCCACTACCCAGACATATACACCCGCGAGGAGCTGGCGCAGAGGACCAAGCTGACAGAGGCGCGTGTGCAGGTCTGGTTCAGTAACCGCCGCGCCCGTTGGCGTAAGCAGGCAGGAGCCAACCAGCTGGCGGCGTTCAACCACCTTCTGCCAGGAGGCTTCCCGCCCACCGGCATGCCCACGCTGCCCCCCTACCAGCTGCCGGACTCCACCTACCCCACCACCACCATCTCCCAAGATGGGGGCAGCACTGTGCACCGGCCTCAGCCCCTGCCACCGTCCACCATGCACCAGGGCGGGCTGGCTGCAGCGGCTGCAGCCGCCGACACCAGCTCTGCCTACGGAGCCCGCCACAGCTTCTCCAGCTACTCTGACAGCTTCATGAATCCGGCGGCGCCCTCCAACCACATGAACCCGGTCAGCAACGGCCTGTCTCCTCAGGTGATGAGCATCTTGGGCAACCCCAGTGCGGTGCCCCCGCAGCCACAGGCTGACTTCTCCATCTCCCCGCTGCATGGCGGCCTGGACTCGGCCACCTCCATCTCAGCCAGCTGCAGCCAGCGGGCCGACTCCATCAAGCCAGGAGACAGCCTGCCCACCTCCCAGGCCTACTGCCCACCCACCTACAGCACCACCGGCTACAGCGTGGACCCCGTGGCCGGCTATCAGTACGGCCAGTACGGCCAGAGTGAGTGCCTGGTGCCCTGGGCGTCCCCCGTCCCCATTCCTTCTCCCACCCCCAGGGCCTCCTGCTTGTTTATGGAGAGCTACAAGGTGGTGTCAGGGTGGGGAATGTCCATTTCACAGATGGAAAAATTGAAGTCCAGCCAGATGGAACAGTTCACCTAA'),\n",
       " ('ZBTB48-1',\n",
       "  'ATGGACGGCTCCTTCGTCCAGCACAGTGTGAGGGTTCTGCAGGAGCTCAACAAGCAGCGGGAGAAGGGCCAGTACTGCGACGCCACTCTGGACGTGGGGGGCCTGGTGTTTAAGGCACACTGGAGTGTCCTTGCCTGCTGCAGTCACTTTTTCCAGAGCCTCTACGGGGATGGCTCAGGGGGCAGTGTCGTCCTCCCTGCTGGCTTCGCTGAGATCTTTGGCCTCTTGTTGGACTTTTTCTACACTGGTCACCTCGCTCTCACCTCAGGGAACCGGGATCAGGTGCTCCTGGCAGCCAGGGAGTTGCGAGTGCCAGAGGCCGTAGAGCTGTGCCAGAGCTTCAAGCCCAAAACTTCAGTGGGACAGGCAGCAGGTGGCCAGAGTGGGCTGGGGCCCCCTGCCTCCCAGAATGTGAACAGCCACGTCAAGGAGCCGGCAGGCTTGGAAGAAGAGGAAGTTTCGAGGACTCTGGGTCTAGTCCCCAGGGATCAGGAGCCCAGAGGCAGTCATAGTCCTCAGAGGCCCCAGCTCCATTCCCCAGCTCAGAGTGAGGGCCCCTCCTCCCTCTGTGGGAAACTGAAGCAGGCCTTGAAGCCTTGTCCCCTTGAGGACAAGAAACCCGAGGACTGCAAAGTGCCCCCAAGGCCCTTAGAGGCTGAAGGTGCCCAGCTGCAGGGCGGCAGTAATGAGTGGGAAGTGGTGGTTCAAGTGGAGGATGATGGGGATGGCGATTACATGTCTGAGCCTGAGGCTGTGCTGACCAGGAGGAAGTCAAATGTAATCCGAAAGCCCTGTGCAGCTGAGCCAGCCCTGAGCGCGGGCTCCCTAGCAGCTGAGCCTGCTGAGAACAGAAAAGGTACAGCGGTGCCGGTCGAATGCCCCACATGTCATAAAAAGTTCCTCAGCAAATATTATCTAAAAGTCCACAACAGGAAACATACTGGGGAGAAACCCTTTGAGTGTCCCAAATGTGGGAAGTGTTACTTTCGGAAGGAGAACCTCCTGGAGCATGAAGCCCGGAATTGCATGAACCGCTCGGAACAGGTCTTCACGTGCTCTGTGTGCCAGGAGACATTCCGCCGAAGGATGGAGCTGCGGGTGCACATGGTGTCTCACACAGGGGAGATGCCCTACAAGTGTTCCTCCTGCTCCCAGCAGTTCATGCAGAAGAAGGACTTGCAGAGCCACATGATCAAACTTCATGGAGCCCCCAAGCCCCATGCATGCCCCACCTGTGCCAAGTGCTTCCTGTCTCGGACAGAGCTGCAGCTGCATGAAGCTTTCAAGCACCGTGGTGAGAAGCTGTTTGTGTGTGAGGAGTGTGGGCACCGGGCCTCGAGCCGGAATGGCCTGCAGATGCACATCAAGGCCAAGCACAGGAATGAGAGGCCACACGTATGTGAGTTCTGCAGCCACGCCTTCACCCAAAAGGCCAATCTCAACATGCACCTGCGCACACACACGGGTGAGAAGCCCTTCCAGTGCCACCTCTGTGGCAAGACCTTCCGAACCCAAGCCAGCCTGGACAAGCACAACCGCACCCACACCGGGGAAAGGCCCTTCAGTTGCGAGTTCTGTGAACAGCGCTTCACTGAGAAGGGGCCCCTCCTGAGGCACGTGGCCAGCCGCCATCAGGAGGGCCGGCCCCACTTCTGCCAGATATGCGGCAAGACCTTCAAAGCCGTGGAGCAACTGCGTGTGCACGTCAGACGGCACAAGGGGGTGAGGAAGTTTGAGTGCACCGAGTGTGGCTACAAGTTTACCCGACAGGCCCACCTGCGGAGGCACATGGAGATCCACGACCGGGTAGAGAACTACAACCCGCGGCAGCGCAAGCTCCGCAACCTGATCATCGAGGACGAGAAGATGGTGGTGGTGGCGCTGCAGCCGCCTGCAGAGCTGGAGGTGGGCTCGGCGGAGGTCATTGTGGAGTCCCTGGCCCAGGGCGGCCTGGCCTCCCAGCTCCCCGGCCAGAGACTGTGTGCAGAGGAGAGCTTCACCGGCCCAGGTGTCCTGGAGCCCTCCCTCATCATCACAGCTGCTGTCCCCGAGGACTGTGACACATAG'),\n",
       " ('PBX1-2', 'C'),\n",
       " ('NFYC-1',\n",
       "  'ATGTCCACAGAAGGAGGATTTGGTGGTACTAGCAGCAGTGATGCCCAGCAAAGCCTACAGTCGTTCTGGCCTCGGGTCATGGAAGAAATCCGGAATTTAACAGTGAAAGACTTCCGAGTGCAGGAACTCCCACTGGCTCGTATTAAGAAGATTATGAAACTGGATGAAGATGTGAAGATGATCAGTGCAGAAGCGCCTGTACTCTTTGCCAAGGCAGCCCAGATTTTTATCACAGAGTTGACTCTTCGAGCCTGGATTCACACAGAAGATAACAAGCGCCGGACTCTACAGAGAAATGATATCGCCATGGCAATTACAAAATTTGATCAGTTTGATTTTCTCATCGATATTGTTCCAAGAGATGAACTGAAACCTCCAAAGCGTCAGGAGGAGGTGCGCCAGTCTGTAACTCCTGCCGAGCCAGTCCAGTACTATTTCACGCTGGCTCAGCAACCCACCGCTGTCCAAGTCCAGGGCCAGCAGCAAGGCCAGCAGACCACCAGCTCCACGACCACCATCCAGCCTGGGCAGATCATCATCGCACAGCCTCAGCAGGGCCAGACCACACCTGTGACAATGCAGGTTGGAGAAGGTCAGCAGGTGCAGATTGTCCAGGCTCAGCCACAGGGTCAAGCCCAACAGGCCCAGAGTGGCACTGGACAGACCATGCAGGTGATGCAGCAGATCATCACTAACACAGGAGAGATCCAGCAGATCCCGGTGCAGCTGAATGCCGGCCAGCTGCAGTATATCCGCTTAGCCCAGCCTGTATCAGGCACTCAAGTTGTGCAGGGACAGATCCAGACACTTGCCACCAATGCTCAACAGATTACACAGACAGAGGTCCAGCAAGGACAGCAGCAGTTCAGCCAGTTCACAGATGGACAGCAGCTCTACCAGATCCAGCAAGTCACCATGCCTGCGGGCCAGGACCTCGCCCAGCCCATGTTCATCCAGTCAGCCAACCAGCCCTCCGACGGGCAGGCCCCCCAGGTGACCGGCGACTGA'),\n",
       " ('NR5A2-2',\n",
       "  'ATGTCTTCTAATTCAGATACTGGGGATTTACAAGAGTCTTTAAAGCACGGACTTACACCTATTGTGTCTCAATTTAAAATGGTGAATTACTCCTATGATGAAGATCTGGAAGAGCTTTGTCCCGTGTGTGGAGATAAAGTGTCTGGGTACCATTATGGGCTCCTCACCTGTGAAAGCTGCAAGGGATTTTTTAAGCGAACAGTCCAAAATAATAAAAGGTACACATGTATAGAAAACCAGAACTGCCAAATTGACAAAACACAGAGAAAGCGTTGTCCTTACTGTCGTTTTCAAAAATGTCTAAGTGTTGGAATGAAGCTAGAAGCTGTAAGGGCCGACCGAATGCGTGGAGGAAGGAATAAGTTTGGGCCAATGTACAAGAGAGACAGGGCCCTGAAGCAACAGAAAAAAGCCCTCATCCGAGCCAATGGACTTAAGCTAGAAGCCATGTCTCAGGTGATCCAAGCTATGCCCTCTGACCTGACCATTTCCTCTGCAATTCAAAACATCCACTCTGCCTCCAAAGGCCTACCTCTGAACCATGCTGCCTTGCCTCCTACAGACTATGACAGAAGTCCCTTTGTAACATCCCCCATTAGCATGACAATGCCCCCTCACGGCAGCCTGCAAGGTTACCAAACATATGGCCACTTTCCTAGCCGGGCCATCAAGTCTGAGTACCCAGACCCCTATACCAGCTCACCCGAGTCCATAATGGGCTATTCATATATGGATAGTTACCAGACGAGCTCTCCAGCAAGCATCCCACATCTGATACTGGAACTTTTGAAGTGTGAGCCAGATGAGCCTCAAGTCCAGGCTAAAATCATGGCCTATTTGCAGCAAGAGCAGGCTAACCGAAGCAAGCACGAAAAGCTGAGCACCTTTGGGCTTATGTGCAAAATGGCAGATCAAACTCTCTTCTCCATTGTCGAGTGGGCCAGGAGTAGTATCTTCTTCAGAGAACTTAAGGTTGATGACCAAATGAAGCTGCTTCAGAACTGCTGGAGTGAGCTCTTAATCCTCGACCACATTTACCGACAAGTGGTACATGGAAAGGAAGGATCCATCTTCCTGGTTACTGGGCAACAAGTGGACTATTCCATAATAGCATCACAAGCCGGAGCCACCCTCAACAACCTCATGAGTCATGCACAGGAGTTAGTGGCAAAACTTCGTTCTCTCCAGTTTGATCAACGAGAGTTCGTATGTCTGAAATTCTTGGTGCTCTTTAGTTTAGATGTCAAAAACCTTGAAAACTTCCAGCTGGTAGAAGGTGTCCAGGAACAAGTCAATGCCGCCCTGCTGGACTACACAATGTGTAACTACCCGCAGCAGACAGAGAAATTTGGACAGCTACTTCTTCGACTACCCGAAATCCGGGCCATCAGTATGCAGGCTGAAGAATACCTCTACTACAAGCACCTGAACGGGGATGTGCCCTATAATAACCTTCTCATTGAAATGTTGCATGCCAAAAGAGCATAA'),\n",
       " ('GMEB1-1',\n",
       "  'ATGGCTAATGCAGAAGTGAGTGTCCCAGTGGGGGATGTGGTTGTGGTACCTACTGAAGGAAATGAAGGGGAGAATCCTGAAGACACTAAAACCCAAGTGATTTTGCAGTTACAGCCTGTGCAACAAGGGATTTATGAAGCTGGGTCGGAGAACAACACGGCAGTTGTAGCAGTAGAAACTCACACGATACACAAAATTGAAGAAGGGATTGATACAGGCACTATAGAAGCAAATGAGGATATGGAAATTGCTTACCCCATAACTTGTGGGGAGAGCAAAGCCATCCTCCTCTGGAAGAAGTTTGTATGTCCAGGAATAAACGTGAAGTGTGTCAAGTTCAATGATCAGTTGATCAGCCCCAAGCACTTTGTTCATCTGGCTGGCAAGTCCACTCTGAAGGACTGGAAGAGAGCTATTCGTCTGGGTGGGATCATGCTCAGGAAAATGATGGACTCCGGACAGATTGATTTTTACCAACATGACAAAGTTTGCTCCAATACCTGCAGAAGCACCAAATTTGATCTTCTGATCAGCAGTGCAAGAGCTCCAGTGCCAGGACAGCAGACAAGTGTGGTGCAGACACCCACTTCGGCTGATGGTAGCATCACGCAGATTGCCATCTCAGAAGAGAGCATGGAAGAGGCAGGGCTGGAATGGAACTCAGCTCTCACCGCTGCTGTCACCATGGCCACGGAGGAGGGTGTAAAGAAAGACTCAGAGGAAATTTCAGAGGACACTTTGATGTTCTGGAAAGGAATAGCTGATGTAGGGCTGATGGAAGAGGTTGTCTGCAATATACAGAAGGAAATAGAGGAGCTACTCAGGGGAGTTCAGCAGCGGCTCATCCAGGCTCCCTTCCAAGTCACAGATGCTGCTGTTCTCAACAATGTAGCACACACATTTGGCCTAATGGACACAGTCAAGAAGGTTTTAGACAACAGAAGGAACCAAGTAGAGCAGGGAGAAGAACAGTTTCTCTATACTCTGACAGACTTGGAACGCCAGTTGGAGGAGCAGAAGAAGCAAGGCCAGGATCACAGGCTGAAATCTCAGACAGTTCAAAATGTGGTACTGATGCCTGTGAGCACTCCTAAGCCTCCAAAAAGGCCCCGGCTCCAGCGGCCAGCCTCCACCACTGTCTTGAGCCCTTCTCCTCCTGTCCAGCAGCCTCAGTTCACAGTCATCTCACCCATCACCATCACCCCAGTGGGTCAGTCATTTTCCATGGGCAATATTCCAGTGGCCACCCTCAGCCAGGGCTCCAGTCCTGTGACTGTCCACACACTGCCTTCTGGCCCTCAGCTCTTCCGCTATGCCACAGTGGTCTCCTCTGCCAAGAGCAGCTCACCAGACACAGTGACCATCCACCCTTCATCTAGCTTGGCGCTGCTGAGCTCTACTGCCATGCAGGATGGGAGTACACTGGGCAACATGACCACCATGGTTAGCCCTGTGGAATTGGTGGCCATGGAGTCCGGCCTAACCTCGGCAATTCAGGCTGTTGAAAGCACCTCAGAGGATGGGCAGACCATCATTGAGATTGATCCAGCCCCGGACCCAGAAGCTGAAGATACTGAGGGCAAAGCAGTCATCTTGGAGACAGAGCTGAGGACTGAGGAGAAAGTTGTGGCTGAGATGGAAGAACACCAGCATCAAGTTCACAATGTGGAGATTGTGGTCTTAGAGGATTAA'),\n",
       " ('GMEB1-2', 'AT'),\n",
       " ('PRDM16-2', 'TC'),\n",
       " ('RORC-2', 'G'),\n",
       " ('RORC-3',\n",
       "  'ATGGACAGGGCCCCACAGAGACAGCACCGAGCCTCACGGGAGCTGCTGGCTGCAAAGAAGACCCACACCTCACAAATTGAAGTGATCCCTTGCAAAATCTGTGGGGACAAGTCGTCTGGGATCCACTACGGGGTTATCACCTGTGAGGGGTGCAAGGGCTTCTTCCGCCGGAGCCAGCGCTGTAACGCGGCCTACTCCTGCACCCGTCAGCAGAACTGCCCCATCGACCGCACCAGCCGAAACCGATGCCAGCACTGCCGCCTGCAGAAATGCCTGGCGCTGGGCATGTCCCGAGATGCTGTCAAGTTCGGCCGCATGTCCAAGAAGCAGAGGGACAGCCTGCATGCAGAAGTGCAGAAACAGCTGCAGCAGCGGCAACAGCAGCAACAGGAACCAGTGGTCAAGACCCCTCCAGCAGGGGCCCAAGGAGCAGATACCCTCACCTACACCTTGGGGCTCCCAGACGGGCAGCTGCCCCTGGGCTCCTCGCCTGACCTGCCTGAGGCTTCTGCCTGTCCCCCTGGCCTCCTGAAAGCCTCAGGCTCTGGGCCCTCATATTCCAACAACTTGGCCAAGGCAGGGCTCAATGGGGCCTCATGCCACCTTGAATACAGCCCTGAGCGGGGCAAGGCTGAGGGCAGAGAGAGCTTCTATAGCACAGGCAGCCAGCTGACCCCTGACCGATGTGGACTTCGTTTTGAGGAACACAGGCATCCTGGGCTTGGGGAACTGGGACAGGGCCCAGACAGCTACGGCAGCCCCAGTTTCCGCAGCACACCGGAGGCACCCTATGCCTCCCTGACAGAGATAGAGCACCTGGTGCAGAGCGTCTGCAAGTCCTACAGGGAGACATGCCAGCTGCGGCTGGAGGACCTGCTGCGGCAGCGCTCCAACATCTTCTCCCGGGAGGAAGTGACTGGCTACCAGAGGAAGTCCATGTGGGAGATGTGGGAACGGTGTGCCCACCACCTCACCGAGGCCATTCAGTACGTGGTGGAGTTCGCCAAGAGGCTCTCAGGCTTTATGGAGCTCTGCCAGAATGACCAGATTGTGCTTCTCAAAGCAGGAGCAATGGAAGTGGTGCTGGTTAGGATGTGCCGGGCCTACAATGCTGACAACCGCACGGTCTTTTTTGAAGGCAAATACGGTGGCATGGAGCTGTTCCGAGCCTTGGGCTGCAGCGAGCTCATCAGCTCCATCTTTGACTTCTCCCACTCCCTAAGTGCCTTGCACTTTTCCGAGGATGAGATTGCCCTCTACACAGCCCTTGTTCTCATCAATGCCCATCGGCCAGGGCTCCAAGAGAAAAGGAAAGTAGAACAGCTGCAGTACAATCTGGAGCTGGCCTTTCATCATCATCTCTGCAAGACTCATCGCCAAAGCATCCTGGCAAAGCTGCCACCCAAGGGGAAGCTTCGGAGCCTGTGTAGCCAGCATGTGGAAAGGCTGCAGATCTTCCAGCACCTCCACCCCATCGTGGTCCAAGCCGCTTTCCCTCCACTCTACAAGGAGCTCTTCAGCACTGAAACCGAGTCACCTGTGGGGCTGTCCAAGTGA'),\n",
       " ('TBX15-2',\n",
       "  'ATGTCTTCCATGGAGGAGATTCAGGTGGAGCTGCAATGTGCTGACCTCTGGAAGCGGTTCCATGATATTGGAACTGAAATGATCATCACCAAAGCAGGCAGGAGGATGTTTCCTGCCATGAGAGTGAAAATCACTGGCCTAGATCCACATCAGCAGTACTACATAGCAATGGACATTGTGCCTGTGGACAATAAAAGATACAGATATGTGTATCATAGCTCCAAGTGGATGGTGGCTGGCAATGCTGATTCCCCTGTGCCCCCAAGAGTTTATATACACCCTGATTCTCTAGCTTCTGGAGACACCTGGATGAGACAGGTGGTCAGTTTTGACAAACTCAAGCTTACCAACAATGAGTTGGATGATCAAGGACATATCATTCTGCACTCTATGCACAAATACCAGCCTCGAGTTCATGTGATTCGCAAAGACTTCAGCAGTGACCTTTCACCCACTAAGCCTGTTCCTGTTGGGGATGGGGTGAAAACGTTCAACTTTCCTGAGACTGTGTTCACCACAGTTACGGCCTATCAGAATCAGCAGATTACCAGATTAAAAATTGACCGAAACCCTTTTGCTAAAGGATTCAGAGATTCTGGGAGAAACAGAACTGGACTTGAAGCCATCATGGAGACATATGCATTCTGGAGACCTCCTGTGCGCACACTCACCTTCGAAGACTTCACCACCATGCAGAAGCAGCAAGGAGGCAGCACAGGCACTTCCCCAACCACCTCCAGCACTGGGACACCATCCCCTTCGGCTTCTTCTCATCTTTTATCTCCATCCTGTTCTCCTCCAACTTTTCATCTGGCCCCCAACACTTTCAATGTGGGCTGCCGAGAAAGCCAGCTGTGTAATCTAAACCTCTCTGATTATCCACCATGTGCCCGAAGCAACATGGCTGCCTTGCAGAGCTACCCAGGGCTGAGTGACAGTGGCTACAACAGGCTTCAGAGTGGCACCACTTCAGCCACTCAGCCCTCTGAAACCTTCATGCCTCAGAGGACTCCATCCCTGATCTCAGGAATACCAACTCCTCCCTCGTTGCCTGGCAACAGCAAGATGGAAGCCTACGGTGGCCAGCTGGGGTCCTTTCCCACTTCCCAGTTTCAGTATGTCATGCAGGCAGGCAATGCTGCCTCCAGCTCCTCATCACCACACATGTTCGGGGGCAGCCACATGCAGCAGAGCTCCTACAATGCCTTCTCCCTTCACAACCCTTACAACCTGTATGGATACAATTTCCCCACTTCCCCTAGGCTAGCTGCAAGCCCGGAAAAACTGAGCGCCTCTCAAAGCACTTTACTCTGTTCTTCTCCTTCCAACGGGGCCTTTGGAGAGAGGCAGTACCTGCCGTCAGGGATGGAGCACAGCATGCACATGATTAGTCCTTCACCCAATAACCAACAGGCAACCAACACTTGTGATGGCCGGCAGTATGGGGCAGTTCCAGGCTCCTCCTCCCAGATGTCCGTGCACATGGTTTAA'),\n",
       " ('RXRG-1',\n",
       "  'ATGTATGGAAATTATTCTCACTTCATGAAGTTTCCCGCAGGCTATGGAGGCTCCCCTGGCCACACTGGCTCTACATCCATGAGCCCATCAGCAGCCTTGTCCACAGGGAAGCCAATGGACAGCCACCCCAGCTACACAGATACCCCAGTGAGTGCCCCACGGACTCTGAGTGCAGTGGGGACCCCCCTCAATGCCCTGGGCTCTCCATATCGAGTCATCACCTCTGCCATGGGCCCACCCTCAGGAGCACTTGCAGCGCCTCCAGGAATCAACTTGGTTGCCCCACCCAGCTCTCAGCTAAATGTGGTCAACAGTGTCAGCAGTTCAGAGGACATCAAGCCCTTACCAGGGCTTCCCGGGATTGGAAACATGAACTACCCATCCACCAGCCCCGGATCTCTGGTTAAACACATCTGTGCCATCTGTGGAGACAGATCCTCAGGAAAGCACTACGGGGTATACAGTTGTGAAGGCTGCAAAGGGTTCTTCAAGAGGACGATAAGGAAGGACCTCATCTACACGTGTCGGGATAATAAAGACTGCCTCATTGACAAGCGTCAGCGCAACCGCTGCCAGTACTGTCGCTATCAGAAGTGCCTTGTCATGGGCATGAAGAGGGAAGCTGTGCAAGAAGAAAGACAGAGGAGCCGAGAGCGAGCTGAGAGTGAGGCAGAATGTGCTACCAGTGGTCATGAAGACATGCCTGTGGAGAGGATTCTAGAAGCTGAACTTGCTGTTGAACCAAAGACAGAATCCTATGGTGACATGAATATGGAGAACTCGACAAATGACCCTGTTACCAACATATGTCATGCTGCTGACAAGCAGCTTTTCACCCTCGTTGAATGGGCCAAGCGTATTCCCCACTTCTCTGACCTCACCTTGGAGGACCAGGTCATTTTGCTTCGGGCAGGGTGGAATGAATTGCTGATTGCCTCTTTCTCCCACCGCTCAGTTTCCGTGCAGGATGGCATCCTTCTGGCCACGGGTTTACATGTCCACCGGAGCAGTGCCCACAGTGCTGGGGTCGGCTCCATCTTTGACAGAGTCCTAACTGAGCTGGTTTCCAAAATGAAAGACATGCAGATGGACAAGTCGGAACTGGGATGCCTGCGAGCCATTGTACTCTTTAACCCAGATGCCAAGGGCCTGTCCAACCCCTCTGAGGTGGAGACTCTGCGAGAGAAGGTTTATGCCACCCTTGAGGCCTACACCAAGCAGAAGTATCCGGAACAGCCAGGCAGGTTTGCCAAGCTGCTGCTGCGCCTCCCAGCTCTGCGTTCCATTGGCTTGAAATGCCTGGAGCACCTCTTCTTCTTCAAGCTCATCGGGGACACCCCCATTGACACCTTCCTCATGGAGATGTTGGAGACCCCGCTGCAGATCACCTGA'),\n",
       " ('ZNF692-3', 'AA'),\n",
       " ('REL-1',\n",
       "  'ATGGCCTCCGGTGCGTATAACCCGTATATAGAGATAATTGAACAACCCAGGCAGAGGGGAATGCGTTTTAGATACAAATGTGAAGGGCGATCAGCAGGCAGCATTCCAGGGGAGCACAGCACAGACAACAACCGAACATACCCTTCTATCCAGATTATGAACTATTATGGAAAAGGAAAAGTGAGAATTACATTAGTAACAAAGAATGACCCATATAAACCTCATCCTCATGATTTAGTTGGAAAAGACTGCAGAGACGGCTACTATGAAGCAGAATTTGGACAAGAACGCAGACCTTTGTTTTTCCAAAATTTGGGTATTCGATGTGTGAAGAAAAAAGAAGTAAAAGAAGCTATTATTACAAGAATAAAGGCAGGAATCAATCCATTCAATGTCCCTGAAAAACAGCTGAATGATATTGAAGATTGTGACCTCAATGTGGTGAGACTGTGTTTTCAAGTTTTTCTCCCTGATGAACATGGTAATTTGACGACTGCTCTTCCTCCTGTTGTCTCGAACCCAATTTATGACAACCGTGCTCCAAATACTGCAGAATTAAGGATTTGTCGTGTAAACAAGAATTGTGGAAGTGTCAGAGGAGGAGATGAAATATTTCTACTTTGTGACAAAGTTCAGAAAGATGACATAGAAGTTCGTTTTGTGTTGAACGATTGGGAAGCAAAAGGCATCTTTTCACAAGCTGATGTACACCGTCAAGTAGCCATTGTTTTCAAAACTCCACCATATTGCAAAGCTATCACAGAACCCGTAACAGTAAAAATGCAGTTGCGGAGACCTTCTGACCAGGAAGTTAGTGAATCTATGGATTTTAGATATCTGCCAGATGAAAAAGATACTTACGGCAATAAAGCAAAGAAACAAAAGACAACTCTGCTTTTCCAGAAACTGTGCCAGGATCACGTTAATTTTCCTGAGAGACCAAGACCTGGTCTCCTCGGTTCAATTGGAGAAGGAAGATACTTCAAAAAAGAACCAAACTTGTTTTCTCATGATGCAGTTGTGAGAGAAATGCCTACAGGGGTTTCAAGTCAAGCAGAATCCTACTATCCCTCACCTGGGCCCATCTCAAGTGGATTGTCACATCATGCCTCAATGGCACCTCTGCCTTCTTCAAGCTGGTCATCAGTGGCCCACCCCACCCCACGCTCAGGCAATACAAACCCACTGAGTAGTTTTTCAACAAGGACACTTCCTTCTAATTCGCAAGGTATCCCACCATTCCTGAGAATACCTGTTGGGAATGATTTAAATGCTTCTAATGCTTGCATTTACAACAATGCCGATGACATAGTCGGAATGGAAGCGTCATCCATGCCATCAGCAGATTTATATGGTATTTCTGATCCCAACATGCTGTCTAATTGTTCTGTGAATATGATGACAACCAGCAGTGACAGCATGGGAGAGACTGATAATCCAAGACTTCTGAGCATGAATCTTGAAAACCCCTCATGTAATTCAGTGTTAGACCCAAGAGACTTGAGACAGCTCCATCAGATGTCCTCTTCCAGTATGTCAGCAGGCGCCAATTCCAATACTACTGTTTTTGTTTCACAATCAGATGCATTTGAGGGATCTGACTTCAGTTGTGCAGATAACAGCATGATAAATGAGTCGGGACCATCAAACAGTACTAATCCAAACAGTCATGGTTTTGTTCAAGATAGTCAGTATTCAGGTATTGGCAGTATGCAAAATGAGCAATTGAGTGACTCCTTTCCATATGAATTTTTTCAAGTATAA'),\n",
       " ('PAX8-2',\n",
       "  'ATGCCTCACAACTCCATCAGATCTGGCCATGGAGGGCTGAACCAGCTGGGAGGGGCCTTTGTGAATGGCAGACCTCTGCCGGAAGTGGTCCGCCAGCGCATCGTAGACCTGGCCCACCAGGGTGTAAGGCCCTGCGACATCTCTCGCCAGCTCCGCGTCAGCCATGGCTGCGTCAGCAAGATCCTTGGCAGGTACTACGAGACTGGCAGCATCCGGCCTGGAGTGATAGGGGGCTCCAAGCCCAAGGTGGCCACCCCCAAGGTGGTGGAGAAGATTGGGGACTACAAACGCCAGAACCCTACCATGTTTGCCTGGGAGATCCGAGACCGGCTCCTGGCTGAGGGCGTCTGTGACAATGACACTGTGCCCAGTGTCAGCTCCATTAATAGAATCATCCGGACCAAAGTGCAGCAACCATTCAACCTCCCTATGGACAGCTGCGTGGCCACCAAGTCCCTGAGTCCCGGACACACGCTGATCCCCAGCTCAGCTGTAACTCCCCCGGAGTCACCCCAGTCGGATTCCCTGGGCTCCACCTACTCCATCAATGGGCTCCTGGGCATCGCTCAGCCTGGCAGCGACAAGAGGAAAATGGATGACAGTGATCAGGATAGCTGCCGACTAAGCATTGACTCACAGAGCAGCAGCAGCGGACCCCGAAAGCACCTTCGCACGGATGCCTTCAGCCAGCACCACCTCGAGCCGCTCGAGTGCCCATTTGAGCGGCAGCACTACCCAGAGGCCTATGCCTCCCCCAGCCACACCAAAGGCGAGCAGGGCCTCTACCCGCTGCCCTTGCTCAACAGCACCCTGGACGACGGGAAGGCCACCCTGACCCCTTCCAACACGCCACTGGGGCGCAACCTCTCGACTCACCAGACCTACCCCGTGGTGGCAGATCCTCACTCACCCTTCGCCATAAAGCAGGAAACCCCCGAGGTGTCCAGTTCTAGCTCCACCCCTTCCTCTTTATCTAGCTCCGCCTTTTTGGATCTGCAGCAAGTCGGCTCCGGGGTCCCGCCCTTCAATGCCTTTCCCCATGCTGCCTCCGTGTACGGGCAGTTCACGGGCCAGGCCCTCCTCTCAGGGCGAGAGATGGTGGGGCCCACGCTGCCCGGATACCCACCCCACATCCCCACCAGCGGACAGGGCAGCTATGCCTCCTCTGCCATCGCAGGCATGGTGGCAGGAAGTGAATACTCTGGCAATGCCTATGGCCACACCCCCTACTCCTCCTACAGCGAGGCCTGGCGCTTCCCCAACTCCAGCTTGCTGAGTTCCCCATATTATTACAGTTCCACATCAAGGCCGAGTGCACCGCCCACCACTGCCACGGCCTTTGACCATCTGTAG'),\n",
       " ('PAX8-5', 'TA'),\n",
       " ('ATF2-1',\n",
       "  'ATGAAATTCAAGTTACATGTGAATTCTGCCAGGCAATACAAGGACCTGTGGAATATGAGTGATGACAAACCCTTTCTATGTACTGCGCCTGGATGTGGCCAGCGTTTTACCAACGAGGATCATTTGGCTGTCCATAAACATAAACATGAGATGACACTGAAATTTGGTCCAGCACGTAATGACAGTGTCATTGTGGCTGATCAGACCCCAACACCAACAAGATTCTTGAAAAACTGTGAAGAAGTGGGTTTGTTTAATGAGTTGGCGAGTCCATTTGAGAATGAATTCAAGAAAGCTTCAGAAGATGACATTAAAAAAATGCCTCTAGATTTATCCCCTCTTGCAACACCTATCATAAGAAGCAAAATTGAGGAGCCTTCTGTTGTAGAAACAACTCACCAGGATAGTCCTTTACCTCACCCAGAGTCTACTACCAGTGATGAGAAGGAAGTACCATTGGCACAAACTGCACAGCCCACATCAGCTATTGTTCGTCCAGCATCATTACAGGTTCCCAATGTGCTGCTTACAAGTTCTGACTCAAGTGTAATTATTCAGCAGGCAGTACCTTCACCAACCTCAAGTACTGTAATCACCCAGGCACCATCCTCTAACAGGCCAATTGTCCCTGTACCAGGCCCATTTCCTCTTCTGTTACATCTTCCTAATGGACAAACCATGCCTGTTGCTATTCCTGCATCAATTACAAGTTCTAATGTGCATGTTCCAGCTGCAGTCCCACTCGTTCGACCAGTCACCATGGTGCCTAGTGTTCCAGGAATCCCAGGTCCTTCCTCTCCCCAACCAGTACAGTCAGAAGCAAAAATGAGATTAAAAGCTGCTTTGACCCAGCAACATCCTCCAGTTACCAATGGTGATACTGTCAAAGGTCATGGTAGCGGATTGGTTAGGACTCAGTCAGAGGAATCTCGACCGCAGTCATTACAACAGCCAGCCACATCCACTACAGAAACTCCGGCTTCTCCAGCTCACACAACTCCACAGACCCAAAGTACAAGTGGTCGTCGGAGAAGAGCAGCTAACGAAGATCCTGATGAAAAAAGGAGAAAGTTTTTAGAGCGAAATAGAGCAGCAGCTTCAAGATGCCGACAAAAAAGGAAAGTCTGGGTTCAGTCTTTAGAGAAGAAAGCTGAAGACTTGAGTTCATTAAATGGTCAGCTGCAGAGTGAAGTCACCCTGCTGAGAAATGAAGTGGCACAGCTGAAACAGCTTCTTCTGGCTCATAAAGATTGCCCTGTAACCGCCATGCAGAAGAAATCTGGCTATCATACTGCTGATAAAGATGATAGTTCAGAAGACATTTCAGTGCCGAGTAGTCCACATACAGAAGCTATACAGCATAGTTCGGTCAGCACATCCAATGGAGTCAGTTCAACCTCCAAGGCAGAAGCTGTAGCCACTTCAGTCCTCACCCAGATGGCGGACCAGAGTACAGAGCCTGCTCTTTCACAGATCGTTATGGCTCCTTCCTCCCAGTCACAGCCCTCAGGAAGTTGA'),\n",
       " ('NFE2L2-1',\n",
       "  'ATGATGGACTTGGAGCTGCCGCCGCCGGGACTCCCGTCCCAGCAGGACATGGATTTGATTGACATACTTTGGAGGCAAGATATAGATCTTGGAGTAAGTCGAGAAGTATTTGACTTCAGTCAGCGACGGAAAGAGTATGAGCTGGAAAAACAGAAAAAACTTGAAAAGGAAAGACAAGAACAACTCCAAAAGGAGCAAGAGAAAGCCTTTTTCGCTCAGTTACAACTAGATGAAGAGACAGGTGAATTTCTCCCAATTCAGCCAGCCCAGCACATCCAGTCAGAAACCAGTGGATCTGCCAACTACTCCCAGGTTGCCCACATTCCCAAATCAGATGCTTTGTACTTTGATGACTGCATGCAGCTTTTGGCGCAGACATTCCCGTTTGTAGATGACAATGAGGTTTCTTCGGCTACGTTTCAGTCACTTGTTCCTGATATTCCCGGTCACATCGAGAGCCCAGTCTTCATTGCTACTAATCAGGCTCAGTCACCTGAAACTTCTGTTGCTCAGGTAGCCCCTGTTGATTTAGACGGTATGCAACAGGACATTGAGCAAGTTTGGGAGGAGCTATTATCCATTCCTGAGTTACAGTGTCTTAATATTGAAAATGACAAGCTGGTTGAGACTACCATGGTTCCAAGTCCAGAAGCCAAACTGACAGAAGTTGACAATTATCATTTTTACTCATCTATACCCTCAATGGAAAAAGAAGTAGGTAACTGTAGTCCACATTTTCTTAATGCTTTTGAGGATTCCTTCAGCAGCATCCTCTCCACAGAAGACCCCAACCAGTTGACAGTGAACTCATTAAATTCAGATGCCACAGTCAACACAGATTTTGGTGATGAATTTTATTCTGCTTTCATAGCTGAGCCCAGTATCAGCAACAGCATGCCCTCACCTGCTACTTTAAGCCATTCACTCTCTGAACTTCTAAATGGGCCCATTGATGTTTCTGATCTATCACTTTGCAAAGCTTTCAACCAAAACCACCCTGAAAGCACAGCAGAATTCAATGATTCTGACTCCGGCATTTCACTAAACACAAGTCCCAGTGTGGCATCACCAGAACACTCAGTGGAATCTTCCAGCTATGGAGACACACTACTTGGCCTCAGTGATTCTGAAGTGGAAGAGCTAGATAGTGCCCCTGGAAGTGTCAAACAGAATGGTCCTAAAACACCAGTACATTCTTCTGGGGATATGGTACAACCCTTGTCACCATCTCAGGGGCAGAGCACTCACGTGCATGATGCCCAATGTGAGAACACACCAGAGAAAGAATTGCCTGTAAGTCCTGGTCATCGGAAAACCCCATTCACAAAAGACAAACATTCAAGCCGCTTGGAGGCTCATCTCACAAGAGATGAACTTAGGGCAAAAGCTCTCCATATCCCATTCCCTGTAGAAAAAATCATTAACCTCCCTGTTGTTGACTTCAACGAAATGATGTCCAAAGAGCAGTTCAATGAAGCTCAACTTGCATTAATTCGGGATATACGTAGGAGGGGTAAGAATAAAGTGGCTGCTCAGAATTGCAGAAAAAGAAAACTGGAAAATATAGTAGAACTAGAGCAAGATTTAGATCATTTGAAAGATGAAAAAGAAAAATTGCTCAAAGAAAAAGGAGAAAATGACAAAAGCCTTCACCTACTGAAAAAACAACTCAGCACCTTATATCTCGAAGTTTTCAGCATGCTACGTGATGAAGATGGAAAACCTTATTCTCCTAGTGAATACTCCCTGCAGCAAACAAGAGATGGCAATGTTTTCCTTGTTCCCAAAAGTAAGAAGCCAGATGTTAAGAAAAACTAG'),\n",
       " ('IKZF2-2',\n",
       "  'ATGGAAACAGAGGCTATTGATGGCTATATAACGTGTGACAATGAGCTTTCACCCGAAAGGGAGCACTCCAATATGGCAATTGACCTCACCTCAAGCACACCCAATGGACAGCATGCCTCACCAAGTCACATGACAAGCACAAATTCAGTAAAGCTAGAAATGCAGAGTGATGAAGAGTGTGACAGGAAACCCCTGAGCCGTGAAGATGAGATCAGGGGCCATGATGAGGGTAGCAGCCTAGAAGAACCCCTAATTGAGAGCAGCGAGGTGGCTGACAACAGGAAAGTCCAGGAGCTTCAAGGCGAGGGAGGAATCCGGCTTCCGAATGGTGAACGCCCCTTCCACTGTAACCAGTGTGGAGCTTCTTTTACTCAGAAGGGCAACCTTCTGAGACACATAAAGTTACACTCTGGAGAGAAGCCGTTCAAATGTCCTTTCTGTAGCTACGCCTGTAGAAGAAGGGACGCCCTCACAGGACACCTCAGGACCCATTCTGTGGGTAAACCTCACAAGTGCAACTACTGTGGACGAAGCTACAAGCAGCGCAGTTCACTGGAGGAGCACAAGGAACGCTGCCACAACTATCTCCAGAATGTCAGCATGGAGGCTGCTGGGCAGGTCATGAGTCACCATGTACCTCCTATGGAAGATTGTAAGGAACAAGAGCCTATTATGGACAACAATATTTCTCTGGTGCCTTTTGAGAGACCTGCTGTCATAGAGAAGCTCACGGGGAATATGGGAAAACGTAAAAGCTCCACTCCACAAAAGTTTGTGGGGGAAAAGCTCATGCGATTCAGCTACCCAGATATTCACTTTGATATGAACTTAACATATGAGAAGGAGGCTGAGCTGATGCAGTCTCATATGATGGACCAAGCCATCAACAATGCAATCACCTACCTTGGAGCTGAGGCCCTTCACCCTCTGATGCAGCACCCGCCAAGCACAATCGCTGAAGTGGCCCCAGTTATAAGCTCAGCTTATTCTCAGGTCTATCATCCAAATAGGATAGAAAGACCCATTAGCAGGGAAACTGCTGATAGTCATGAAAACAACATGGATGGCCCCATCTCTCTCATCAGACCAAAGAGTCGACCCCAGGAAAGAGAGGCCTCTCCCAGCAATAGCTGCCTGGATTCCACTGACTCAGAAAGCAGCCATGATGACCACCAGTCCTACCAAGGACACCCTGCCTTAAATCCCAAGAGGAAACAAAGCCCAGCTTACATGAAGGAGGATGTCAAAGCTTTGGATACTACCAAGGCTCCTAAGGGCTCTCTGAAGGACATCTACAAGGTCTTCAATGGAGAAGGAGAACAGATTAGGGCCTTCAAGTGTGAGCACTGCCGAGTCCTTTTCCTAGACCATGTCATGTACACCATTCACATGGGTTGCCATGGCTACCGGGACCCACTGGAATGCAACATCTGTGGCTACAGAAGCCAGGACCGTTATGAGTTTTCATCACACATTGTTCGAGGGGAGCACACATTCCACTAG'),\n",
       " ('NEUROD1-1',\n",
       "  'ATGACCAAATCGTACAGCGAGAGTGGGCTGATGGGCGAGCCTCAGCCCCAAGGTCCTCCAAGCTGGACAGACGAGTGTCTCAGTTCTCAGGACGAGGAGCACGAGGCAGACAAGAAGGAGGACGACCTCGAAGCCATGAACGCAGAGGAGGACTCACTGAGGAACGGGGGAGAGGAGGAGGACGAAGATGAGGACCTGGAAGAGGAGGAAGAAGAGGAAGAGGAGGATGACGATCAAAAGCCCAAGAGACGCGGCCCCAAAAAGAAGAAGATGACTAAGGCTCGCCTGGAGCGTTTTAAATTGAGACGCATGAAGGCTAACGCCCGGGAGCGGAACCGCATGCACGGACTGAACGCGGCGCTAGACAACCTGCGCAAGGTGGTGCCTTGCTATTCTAAGACGCAGAAGCTGTCCAAAATCGAGACTCTGCGCTTGGCCAAGAACTACATCTGGGCTCTGTCGGAGATCCTGCGCTCAGGCAAAAGCCCAGACCTGGTCTCCTTCGTTCAGACGCTTTGCAAGGGCTTATCCCAACCCACCACCAACCTGGTTGCGGGCTGCCTGCAACTCAATCCTCGGACTTTTCTGCCTGAGCAGAACCAGGACATGCCCCCCCACCTGCCGACGGCCAGCGCTTCCTTCCCTGTACACCCCTACTCCTACCAGTCGCCTGGGCTGCCCAGTCCGCCTTACGGTACCATGGACAGCTCCCATGTCTTCCACGTTAAGCCTCCGCCGCACGCCTACAGCGCAGCGCTGGAGCCCTTCTTTGAAAGCCCTCTGACTGATTGCACCAGCCCTTCCTTTGATGGACCCCTCAGCCCGCCGCTCAGCATCAATGGCAACTTCTCTTTCAAACACGAACCGTCCGCCGAGTTTGAGAAAAATTATGCCTTTACCATGCACTATCCTGCAGCGACACTGGCAGGGGCCCAAAGCCACGGATCAATCTTCTCAGGCACCGCTGCCCCTCGCTGCGAGATCCCCATAGACAATATTATGTCCTTCGATAGCCATTCACATCATGAGCGAGTCATGAGTGCCCAGCTCAATGCCATATTTCATGATTAG'),\n",
       " ('THAP4-4',\n",
       "  'ATGTCCATCAACGAGGTCATCCTGTCGGCGTCAGGGGCCTGCAAGCTCATCGACTCACTGCACTCCTACTGCTTCTCCTCCCGGCAGAACAAGAGCCAGGTGTGCTGCCTGCGGGAGCAGGTGGAGAAGAAGAACGGCGAGCTGAAGAGCCTGCGGCAGAGGGTCAGCCGCTCCGACAGCCAGGTGCGGAAGCTACAGGAGAAGCTGGATGAGCTGAGGAGAGTGAGCGTCCCCTATCCAAGTAGCCTGCTGTCGCCCAGCCGCGAGCCCCCCAAGATGAACCCAGTGGTGGAGCCACTGTCCTGGATGCTGGGCACCTGGCTGTCGGACCCACCTGGAGCCGGGACCTACCCCACACTGCAGCCCTTCCAGTACCTGGAGGAGGTTCACATCTCCCACGTGGGCCAGCCCATGCTGAACTTCTCGTTCAACTCCTTCCACCCGGACACGCGCAAGCCGATGCACAGAGAGTGTGGCTTCATTCGCCTCAAGCCCGGAAGTTCAGGCTGA'),\n",
       " ('KLF7-5',\n",
       "  'ATGGACGTGTTGGCTAGTTATAGTATATTCCAGGAGCTACAACTTGTCCACGACACCGGCTACTTCTCAGCTTTACCATCCCTGGAGGAGACCTGGCAGCAGACATGCCTTGAATTGGAACGCTACCTACAGACGGAGCCCCGGAGGATCTCAGAGACCTTTGGTGAGGACTTGGACTGTTTCCTCCACGCTTCCCCTCCCCCGTGCATTGAGGAAAGCTTCCGTCGCTTAGACCCCCTGCTGCTCCCCGTGGAAGCGGCCATCTGTGAGAAGAGCTCGGCAGTGGACATCTTGCTCTCTCGGGACAAGTTGCTATCTGAGACCTGCCTCAGCCTCCAGCCGGCCAGCTCTTCTCTAGACAGCTACACAGCCGTCAACCAGGCCCAGCTCAACGCAGTGACCTCATTAACGCCCCCATCGTCCCCTGAGCTCAGCCGCCATCTGGTCAAAACCTCACAAACTCTCTCTGCCGTGGATGGCACGGTGACGTTGAAACTGGTGGCCAAGAAGGCTGCTCTCAGCTCCGTAAAGGTGAGAAGCCTTATAAGTGCTCATGGGAGGGATGTGAGTGGCGTTTTGCACGAAGCGATGAGCTCACGAGGCACTACAGGAAACACACAGGTGCAAAGCCCTTCAAATGCAACCACTGCGACAGGTGTTTTTCCAGGTCTGACCATCTTGCCCTCCACATGA'),\n",
       " ('NR4A2-2', 'T'),\n",
       " ('ZIC1-1',\n",
       "  'ATGCTCCTGGACGCCGGCCCCCAGTACCCAGCGATCGGCGTGACCACCTTTGGCGCGTCCCGCCACCACTCCGCGGGCGACGTGGCCGAACGAGACGTGGGCCTGGGCATCAACCCGTTCGCCGACGGCATGGGCGCCTTCAAGCTCAACCCCAGTTCGCACGAGCTGGCTTCGGCCGGCCAGACGGCCTTCACGTCGCAGGCGCCAGGCTACGCGGCTGCTGCGGCCCTGGGCCATCACCATCACCCGGGCCACGTCGGCTCCTATTCCAGCGCAGCCTTCAACTCCACGCGGGACTTTCTGTTCCGCAACCGGGGTTTTGGCGACGCGGCGGCGGCAGCCAGCGCACAGCACAGCCTCTTTGCTGCATCGGCCGGGGGCTTCGGGGGCCCACACGGCCACACGGACGCCGCGGGCCACCTCCTCTTCCCCGGGCTTCACGAGCAGGCTGCCGGCCACGCGTCGCCTAACGTGGTCAACGGGCAGATGAGGCTCGGCTTCTCGGGGGACATGTACCCGCGACCGGAGCAGTACGGCCAGGTGACCAGCCCGCGTTCGGAGCACTATGCTGCGCCGCAGCTGCACGGCTACGGGCCCATGAACGTGAACATGGCCGCGCATCACGGCGCCGGCGCCTTCTTCCGCTACATGCGCCAACCCATCAAGCAAGAGCTCATCTGCAAGTGGATCGAGCCCGAGCAGCTGGCCAACCCCAAAAAGTCGTGCAACAAAACTTTCAGCACCATGCACGAGCTAGTTACGCACGTCACCGTGGAGCACGTAGGTGGCCCGGAGCAGAGTAATCACATCTGCTTCTGGGAGGAGTGTCCGCGCGAGGGCAAGCCCTTCAAAGCCAAATACAAACTGGTTAACCACATCCGCGTGCACACGGGCGAGAAGCCCTTTCCCTGCCCCTTCCCTGGCTGTGGCAAGGTCTTCGCGCGCTCCGAGAATTTAAAGATCCACAAAAGGACGCACACAGGGGAGAAGCCCTTCAAGTGCGAGTTTGAGGGCTGTGACCGGCGCTTCGCTAACAGCAGCGACCGCAAGAAGCACATGCACGTGCACACGAGCGACAAGCCCTATCTTTGCAAGATGTGCGACAAGTCCTACACGCATCCCAGTTCGCTGCGCAAACACATGAAGGTCCACGAATCCTCCTCGCAGGGCTCGCAGCCTTCGCCGGCCGCCAGCTCTGGCTACGAATCCTCCACGCCTCCCACCATCGTGTCTCCCTCCACAGACAACCCGACCACAAGCTCCTTATCGCCCTCCTCCTCCGCAGTCCACCACACAGCCGGCCACAGTGCGCTCTCTTCCAATTTTAACGAATGGTACGTTTAA'),\n",
       " ('PPARG-3', 'TA'),\n",
       " ('TP63-2', 'TG'),\n",
       " ('MITF-2', 'TA'),\n",
       " ('MITF-3', 'TG'),\n",
       " ('RARB-1',\n",
       "  'ATGTTTGACTGTATGGATGTTCTGTCAGTGAGTCCTGGGCAAATCCTGGATTTCTACACTGCGAGTCCGTCTTCCTGCATGCTCCAGGAGAAAGCTCTCAAAGCATGCTTCAGTGGATTGACCCAAACCGAATGGCAGCATCGGCACACTGCTCAATCAATTGAAACACAGAGCACCAGCTCTGAGGAACTCGTCCCAAGCCCCCCATCTCCACTTCCTCCCCCTCGAGTGTACAAACCCTGCTTCGTCTGCCAGGACAAATCATCAGGGTACCACTATGGGGTCAGCGCCTGTGAGGGATGTAAGGGCTTTTTCCGCAGAAGTATTCAGAAGAATATGATTTACACTTGTCACCGAGATAAGAACTGTGTTATTAATAAAGTCACCAGGAATCGATGCCAATACTGTCGACTCCAGAAGTGCTTTGAAGTGGGAATGTCCAAAGAATCTGTCAGGAATGACAGGAACAAGAAAAAGAAGGAGACTTCGAAGCAAGAATGCACAGAGAGCTATGAAATGACAGCTGAGTTGGACGATCTCACAGAGAAGATCCGAAAAGCTCACCAGGAAACTTTCCCTTCACTCTGCCAGCTGGGTAAATACACCACGAATTCCAGTGCTGACCATCGAGTCCGACTGGACCTGGGCCTCTGGGACAAATTCAGTGAACTGGCCACCAAGTGCATTATTAAGATCGTGGAGTTTGCTAAACGTCTGCCTGGTTTCACTGGCTTGACCATCGCAGACCAAATTACCCTGCTGAAGGCCGCCTGCCTGGACATCCTGATTCTTAGAATTTGCACCAGGTATACCCCAGAACAAGACACCATGACTTTCTCAGACGGCCTTACCCTAAATCGAACTCAGATGCACAATGCTGGATTTGGTCCTCTGACTGACCTTGTGTTCACCTTTGCCAACCAGCTCCTGCCTTTGGAAATGGATGACACAGAAACAGGCCTTCTCAGTGCCATCTGCTTAATCTGTGGAGACCGCCAGGACCTTGAGGAACCGACAAAAGTAGATAAGCTACAAGAACCATTGCTGGAAGCACTAAAAATTTATATCAGAAAAAGACGACCCAGCAAGCCTCACATGTTTCCAAAGATCTTAATGAAAATCACAGATCTCCGTAGCATCAGTGCTAAAGGTGCAGAGCGTGTAATTACCTTGAAAATGGAAATTCCTGGATCAATGCCACCTCTCATTCAAGAAATGCTGGAGAATTCTGAAGGACATGAACCCTTGACCCCAAGTTCAAGTGGGAACACAGCAGAGCACAGTCCTAGCATCTCACCCAGCTCAGTGGAAAACAGTGGGGTCAGTCAGTCACCACTCGTGCAATAA'),\n",
       " ('ZNF662-4',\n",
       "  'ATGCTGGAGAATTATGGGGCTGTGGCTTCCCTGGCATTTCCATTTCCCAAACCGGCTCTGATTTCCCAGCTGGAGCGAGGGGAAACACCCTGGTGCTCGGTTCCTCGGGGAGCTCTGGATGGAGAGGCCCCAAGGGGCATCTCCTCAGAGGGTGTGTTGAAGAGGAAGAAAGAAGATTTTATTCTGAAGGAGGAAATTATTGAGGAAGCACAGGACCTCATGGTCCTATCAAGTGGACCCCAGTGGTGTGGATCCCAGGAATTATGGTTTGGGAAAACCTGTGAAGAGAAAAGCAGGTTAGGGAGATGGCCTGGTTACCTCAATGGGGGACGTATGGAAAGTTCTACAAATGATATTATAGAAGTGATTGTCAAGGATGAGATGATCTCAGTAGAAGAGAGTTCAGGGAATACTGATGTCAATAACCTCCTTGGTATACATCACAAAATTCTAAATGAGCAAATATTCTATATATGTGAGGAATGCGGCAAGTGTTTTGATCAAAATGAGGACTTTGATCAACACCAGAAAACTCATAATGGAGAGAAGGTCTATGGATGTAAGGAATGTGGGAAGGCTTTCAGTTTTCGATCACATTGCATCGCACATCAGAGAATTCACAGTGGGGTGAAACCCTATGAATGTCAAGAATGTGCTAAGGCCTTTGTTTGGAAGTCAAACCTGATTCGTCACCAGAGAATACATACTGGAGAGAAACCCTTTGAATGTAAGGAATGTGGGAAGGGCTTTAGTCAGAACACAAGCCTTACGCAACATCAACGGATCCACACTGGTGAGAAACCATACACATGTAAGGAATGTGGGAAAAGCTTTACTCGAAACCCAGCCCTTCTTCGACATCAGAGAATGCACACTGGGGAGAAGCCTTACGAATGTAAGGACTGTGGGAAGGGCTTCATGTGGAACTCAGATCTTTCTCAGCACCAGAGGGTCCACACTGGGGACAAGCCTCATGAATGTACTGACTGTGGGAAAAGCTTCTTTTGCAAGGCACATCTTATTCGACATCAAAGAATCCATACTGGGGAAAGACCCTATAAATGTAATGACTGTGGGAAGGCCTTCAGTCAGAATTCTGTCTTAATTAAGCACCAGAGGCGCCATGCTAGAGACAAACCCTATAACTGTCAGATCTCTCACCTTCTTGAACATTAG'),\n",
       " ('TFDP2-2',\n",
       "  'ATGATTATAAGCACACCACAGAGACTAACCAGTTCAGGAAGTGTTCTGATTGGGAGTCCATATACCCCTGCACCAGCAATGGTTACTCAGACACACATAGCAGAAGCTACTGGCTGGGTCCCTGGTGATAGAAAACGGGCTAGAAAATTTATAGACTCTGATTTTTCAGAAAGTAAACGAAGCAAAAAAGGAGATAAAAATGGGAAAGGCTTGAGACACTTTTCAATGAAAGTGTGTGAGAAAGTTCAACGAAAAGGTACAACATCGTACAATGAAGTCGCTGATGAGCTGGTGTCAGAGTTCACCAATTCAAATAACCATTTGGCTGCTGATTCGCAGGCTTATGATCAGAAGAACATTAGGCGAAGAGTTTATGATGCTTTAAATGTGCTAATGGCAATGAACATAATTTCAAAGGAAAAAAAAGAAATCAAGTGGATTGGCCTGCCTACCAATTCTGCTCAGGAATGTCAGAATCTGGAGATAGAGAAGCAGAGGCGGATAGAACGGATAAAGCAGAAGCGGGCCCAGCTGCAAGAACTTCTCCTACAGCAAATCGCTTTCAAAAACCTGGTACAGAGAAATCGACAAAATGAGCAGCAAAACCAGGGCCCGCCGGCTCTGAACTCTACCATTCAGCTGCCATTCATAATCATCAATACAAGCAGAAAAACAGTCATAGATTGCAGCATCTCCAGTGACAAGTTTGAGTATCTTTTCAATTTTGACAACACCTTTGAGATCCATGATGACATAGAAGTACTAAAGCGGATGGGAATGTCGTTTGGCCTGGAGTCAGGCAAATGCTCTCTGGAGGATCTGAAACTTGCGAAATCCCTGGTGCCAAAGGCTTTAGAAGGTTATATCACAGATATCTCCACAGGACCTTCTTGGTTAAATCAGGGACTACTTCTGAACTCTACCCAATCAGTTTCAAATTTAGACCTGACCACTGGTGCCACCTTACCCCAGTCAAGTGTAAACCAAGGGTTATGCTTGGATGCAGAAGTGGCCTTAGCAACTGGGCAGTTCCTGGCCCCAAACAGTCACCAGTCCAGCAGTGCGGCCTCTCACTGCTCCGAGTCCCGAGGCGAGACCCCCTGTTCGTTCAATGATGAAGATGAGGAAGATGATGAGGAGGATTCCTCCTCCCCAGAATAA'),\n",
       " ('ZBTB49-1',\n",
       "  'ATGGACCCTGTTGCTACCCACAGCTGCCATCTGCTCCAGCAACTGCATGAGCAGCGAATCCAAGGCCTGCTTTGTGACTGTATGTTGGTGGTAAAAGGAGTCTGCTTTAAAGCGCATAAGAATGTCCTGGCAGCATTCAGCCAGTATTTTAGGAGCCTCTTTCAGAATTCTTCAAGCCAGAAGAATGATGTTTTTCACTTGGATGTTAAAAATGTCAGTGGCATAGGGCAGATCCTGGACTTCATGTACACTTCTCATCTAGATCTTAACCAGGACAATATACAAGTAATGCTGGACACAGCACAGTGTTTGCAAGTTCAAAATGTTCTGAGTCTGTGTCACACATTTTTAAAATCAGCCACTGTAGTACAGCCACCTGGCATGCCTTGTAATAGTACATTGTCTCTACAAAGCACCCTGACCCCAGATGCCACTTGTGTTATCAGTGAAAACTACCCCCCTCATTTACTGCAGGAATGTTCAGCAGATGCACAGCAGAACAAAACGTTGGATGAATCGCATCCGCATGCTTCACCATCAGTTAATCGTCATCACTCCGCAGGTGAAATCTCAAAACAAGCTCCTGATACTTCAGATGGCAGCTGCACAGAACTGCCTTTCAAACAGCCAAATTACTATTACAAACTCAGAAACTTTTACAGTAAGCAGTACCATAAACACGCAGCTGGTCCCAGTCAGGAGAGAGTTGTTGAGCAGCCTTTTGCTTTCAGCACCTCTACAGACCTTACCACGGTAGAGAGCCAGCCTTGTGCTGTCAGTCATTCTGAATGCATCCTGGAGTCTCCCGAGCACTTACCTTCCAACTTCCTGGCCCAGCCTGTGAATGACTCTGCCCCACACCCTGAGTCAGACGCCACATGCCAACAACCTGTCAAGCAGATGAGGCTCAAAAAGGCCATTCATCTGAAGAAGCTCAATTTCCTGAAGTCACAGAAATACGCAGAGCAAGTATCTGAACCCAAGTCAGATGATGGTTTGACAAAGAGGTTGGAATCTGCTAGTAAAAATACCCTAGAGAAAGCTAGCAGCCAAAGTGCTGAAGAAAAAGAAAGTGAAGAAGTCGTCAGTTGTGAGAATTTTAATTGCATTAGTGAGACGGAGAGGCCTGAAGACCCGGCTGCCCTGGAAGACCAGTCCCAGACACTTCAGTCCCAGAGACAATACGCGTGTGAATTATGCGGGAAACCTTTTAAACACCCAAGCAACTTGGAGCTTCACAAACGGTCTCATACAGGTGAGAAACCTTTTGAATGTAACATTTGTGGGAAACATTTCTCTCAGGCAGGTAACTTGCAGACTCACTTACGACGGCATTCTGGTGAAAAACCATACATCTGCGAGATCTGTGGAAAGAGGTTTGCAGCCTCTGGCGACGTCCAGCGTCACATTATTATTCACTCAGGAGAAAAACCACACTTGTGTGACATCTGTGGTCGAGGGTTTAGTAACTTCAGTAATTTGAAGGAGCACAAAAAGACACACACGGCTGATAAAGTCTTCACCTGTGATGAGTGTGGAAAGTCTTTTAATATGCAAAGGAAGTTAGTAAAGCACAGAATTCGGCACACGGGGGAGCGGCCTTACAGCTGCTCTGCCTGCGGGAAATGTTTTGGGGGATCAGGTGACCTCCGCAGGCATGTCCGCGCTCACACTGGGGAGAAGCCGTACACATGTGAGATCTGTAACAAGTGCTTTACCCGCTCTGCGGTGCTCCGGCGGCACAAGAAGATGCACTGCAAAGCTGGTGACGAGAGCCCAGATGTGCTGGAGGAGCTCAGCCAAGCCATCGAGACCTCCGACCTCGAGAAATCTCAGAGCTCAGACTCTTTCTCCCAAGACACGTCTGTGACGCTGATGCCAGTGTCGGTTAAACTCCCTGTCCACCCAGTGGAAAATTCTGTGGCAGAATTTGATAGCCACTCTGGCGGCTCCTATTGTAAGTTACGGTCCATGATCCAACCTCATGGAGTTAGTGACCAGGAGAAGCTGAGTTTGGATCCTGGTAAACTTGCCAAGCCCCAGATGCAGCAGACACAGCCTCAGGCCTATGCTTACTCGGATGTGGACACCCCAGCCGGTGGCGAACCACTGCAGGCCGATGGCATGGCCATGATCCGTTCCTCTCTGGCTGCTTTGGACAACCACGGCGGTGACCCCCTGGGCAGTCGAGCATCTTCCACCACTTATAGGAACTCAGAGGGTCAGTTTTTCTCCAGCATGACTCTCTGGGGGCTAGCGATGAAGACGCTGCAGAATGAAAACGAGTTAGACCAGTGA'),\n",
       " ('THAP6-1',\n",
       "  'ATGGTGAAATGCTGCTCCGCCATTGGATGTGCTTCTCGCTGCTTGCCAAATTCGAAGTTAAAAGGACTGACATTTCACGTATTCCCCACAGATGAAAACATCAAAAGGAAATGGGTATTAGCAATGAAAAGACTTGATGTGAATGCAGCCGGCATTTGGGAGCCTAAAAAAGGAGATGTGTTGTGTTCGAGGCACTTTAAGAAGACAGATTTTGACAGAAGTGCTCCAAATATTAAACTGAAACCTGGAGTCATACCTTCTATCTTTGATTCTCCATATCACCTACAGGGGAAAAGAGAAAAACTTCATTGTAGAAAAAACTTCACCCTCAAAACCGTTCCAGCCACTAACTACAATCACCATCTTGTTGGTGCTTCCTCATGTATTGAAGAATTCCAATCCCAGTTCATTTTTGAACATAGCTACAGTGTAATGGACAGTCCAAAGAAACTTAAGCATAAATTAGATCATGTGATCGGCGAGCTAGAGGATACAAAGGAAAGTCTACGGAATGTTTTAGACCGAGAAAAACGTTTTCAGAAATCATTGAGGAAGACAATCAGGGAATTAAAGGATGAATGTCTGATCAGCCAAGAAACAGCAAATAGACTGGACACTTTCTGTTGGGACTGTTGTCAGGAGAGCATAGAACAGGACTATATTTCATGA'),\n",
       " ('ZNF718-1',\n",
       "  'ATGGAACTCTTAACATTCAAGGATGTGGCCATAGAATTCTCTCCAGAAGAGTGGAAATGTCTGGACACTTCCCAGCAGAATTTATATAGAGATGTGATGTTGGAGAACTACAGAAACCTGGTCTCCCTGGGTGTTAGTATCTCTAACCCAGACCTGGTCACCAGTCTGGAGCAAAGAAAAGAGCCCTACAATTTGAAGATACATGAAACAGCAGCCAGACCCCCAGCTGTGTGTTCTCATTTCACCCAAAACCTTTGGACAGTGCAGGGCATAGAAGATTCATTCCACAAACTTATACCAAAAGGACATGAGAAACGTGGACATGAGAATTTAAGAAAAACTTGTAAAAGTATAAATGAGTGTAAGGTGCAGAAAGGTGGTTATAATAGAATTAACCAATGCTTATTAACTACCCAGAAAAAAACAATTCAATCTAATATATGTGTCAAAGTTTTTCATAAATTTTCAAATTCAAACAAAGATAAGATAAGATATACTGGAGATAAAACCTTTAAATGTAAAGAATGTGGCAAATCATTTCACGTGCTCTCACGCCTAACTCAACACAAAAGAATTCATACTGGAGAGAACCCCTACACATGTGAAGAATGTGGCAAAGCCTTTAATTGGTCCTCAATTCTTACTAAACATAAGAGAATTCATGCCAGAGAGAAATTCTACAAGTGTGAAGAATGTGGTAAAGGCTTTACTCGGTCCTCACACCTTACTAAACATAAGAGAATTCATACTGGAGAGAAACCCTACATATGTGAAAAATGTGGTAAAGCTTTTAACCAATCCTCAACCCTTAATTTACATAAGAGAATTCATTCTGCACAAAAATACTACAAATGTGAAGAATGTGGTAAAGCCTTTAAGTGGTCCTCATCCCTTAATGAACATAAGAGAATTCATGCTGGAGAGAAACCCTTCTCATGCGAAGAATGTGGCAATGTCTTTACCACATCCTCAGACTTTGCTAAACATAAGAGAATTCATACAGGAGAGAAACCCTACAAATGTGAAGAATGTGGAAAATCCTTTAATAGGTCCACAACTCTTACGACACATAAGAGAATCCATACTGGAGAGAAACCCTACACATGTGAAGAATGTGGAAAAGCCTTTAATTGGTCCTCAACCCTTAATGTACACAAGAGAATTCACTCTGGAAAAAATCCCTACAAATGTGAAGATTGTGGCAAAGCCTTTAAAGTGTTTGCAAACCTGCATAATCATAAGAAAATTCATACTGGAGAGAAACCCTACATATGTAAACAATGTGGCAAAGCCTTTAAACAGTCCTCACACTTGAATAAACATAAGAAAATTCACACTGTAGATAAACCCTACAAATGTAAAGAATGCGGGAAAGCTTTTAAGCAGTACTCCAACCTTCCTCAACATAAGAGAACTCATACTGGAGGAAAATTTTAG'),\n",
       " ('LEF1-1',\n",
       "  'ATGCCCCAACTCTCCGGAGGAGGTGGCGGCGGCGGGGGGGACCCGGAACTCTGCGCCACGGACGAGATGATCCCCTTCAAGGACGAGGGCGATCCTCAGAAGGAAAAGATCTTCGCCGAGATCAGTCATCCCGAAGAGGAAGGCGATTTAGCTGACATCAAGTCTTCCTTGGTGAACGAGTCTGAAATCATCCCGGCCAGCAACGGACACGAGGTGGCCAGACAAGCACAAACCTCTCAGGAGCCCTACCACGACAAGGCCAGAGAACACCCCGATGACGGAAAGCATCCAGATGGAGGCCTCTACAACAAGGGACCCTCCTACTCGAGTTATTCCGGGTACATAATGATGCCAAATATGAATAACGACCCATACATGTCAAATGGATCTCTTTCTCCACCCATCCCGAGAACATCAAATAAAGTGCCCGTGGTGCAGCCATCCCATGCGGTCCATCCTCTCACCCCCCTCATCACTTACAGTGACGAGCACTTTTCTCCAGGATCACACCCGTCACACATCCCATCAGATGTCAACTCCAAACAAGGCATGTCCAGACATCCTCCAGCTCCTGATATCCCTACTTTTTATCCCTTGTCTCCGGGTGGTGTTGGACAGATCACCCCACCTCTTGGCTGGCAAGGTCAGCCTGTATATCCCATCACGGGTGGATTCAGGCAACCCTACCCATCCTCACTGTCAGTCGACACTTCCATGTCCAGGTTTTCCCATCATATGATTCCCGGTCCTCCTGGTCCCCACACAACTGGCATCCCTCATCCAGCTATTGTAACACCTCAGGTCAAACAGGAACATCCCCACACTGACAGTGACCTAATGCACGTGAAGCCTCAGCATGAACAGAGAAAGGAGCAGGAGCCAAAAAGACCTCACATTAAGAAGCCTCTGAATGCTTTTATGTTATACATGAAAGAAATGAGAGCGAATGTCGTTGCTGAGTGTACTCTAAAAGAAAGTGCAGCTATCAACCAGATTCTTGGCAGAAGGTGGCATGCCCTCTCCCGTGAAGAGCAGGCTAAATATTATGAATTAGCACGGAAAGAAAGACAGCTACATATGCAGCTTTATCCAGGCTGGTCTGCAAGAGACAATTATGGTAAGAAAAAGAAGAGGAAGAGAGAGAAACTACAGGAATCTGCATCAGGTACAGGTCCAAGAATGACAGCTGCCTACATCTGA'),\n",
       " ('LEF1-2',\n",
       "  'ATGGCAGAGGTGGCCAGACAAGCACAAACCTCTCAGGAGCCCTACCACGACAAGGCCAGAGAACACCCCGATGACGGAAAGCATCCAGATGGAGGCCTCTACAACAAGGGACCCTCCTACTCGAGTTATTCCGGGTACATAATGATGCCAAATATGAATAACGACCCATACATGTCAAATGGATCTCTTTCTCCACCCATCCCGAGAACATCAAATAAAGTGCCCGTGGTGCAGCCATCCCATGCGGTCCATCCTCTCACCCCCCTCATCACTTACAGTGACGAGCACTTTTCTCCAGGATCACACCCGTCACACATCCCATCAGATGTCAACTCCAAACAAGGCATGTCCAGACATCCTCCAGCTCCTGATATCCCTACTTTTTATCCCTTGTCTCCGGGTGGTGTTGGACAGATCACCCCACCTCTTGGCTGGCAAGGTCAGCCTGTATATCCCATCACGGGTGGATTCAGGCAACCCTACCCATCCTCACTGTCAGTCGACACTTCCATGTCCAGGTTTTCCCATCATATGATTCCCGGTCCTCCTGGTCCCCACACAACTGGCATCCCTCATCCAGCTATTGTAACACCTCAGGTCAAACAGGAACATCCCCACACTGACAGTGACCTAATGCACGTGAAGCCTCAGCATGAACAGAGAAAGGAGCAGGAGCCAAAAAGACCTCACATTAAGAAGCCTCTGAATGCTTTTATGTTATACATGAAAGAAATGAGAGCGAATGTCGTTGCTGAGTGTACTCTAAAAGAAAGTGCAGCTATCAACCAGATTCTTGGCAGAAGGTGGCATGCCCTCTCCCGTGAAGAGCAGGCTAAATATTATGAATTAGCACGGAAAGAAAGACAGCTACATATGCAGCTTTATCCAGGCTGGTCTGCAAGAGACAATTATAGATGGTGAAGAGGGAGAGAGAATGAGTCATCTTTACCTCTTTGTTGACCACCTGCCTGTACTTCCACATCACATTCATCTGTGTGTTCATGGTACAATCTGTGACATGACAGTATACCTCTCTTCTTCCAGGGTAAGAAAAAGAAGAGGAAGAGAGAGAAACTACAGGAATCTGCATCAGGTACAGGTCCAAGAATGACAGCTGCCTACATC'),\n",
       " ('PRDM5-1',\n",
       "  'ATGCTGGGCATGTACGTGCCGGACAGGTTCTCCCTGAAGTCCTCCCGGGTTCAGGACGGCATGGGGCTCTACACGGCCCGCAGAGTGCGAAAGGGTGAAAAGTTCGGACCCTTTGCTGGAGAGAAGAGAATGCCTGAAGACTTGGATGAAAATATGGATTACAGGTTGATGTGGGAGGTTCGTGGGAGTAAGGGAGAAGTTTTGTACATTTTGGATGCTACCAACCCACGGCACTCCAACTGGCTTCGCTTCGTTCATGAGGCACCATCTCAGGAGCAGAAGAACTTGGCTGCCATTCAAGAAGGAGAAAACATTTTCTATTTGGCAGTTGAAGATATAGAAACAGACACGGAGCTTCTGATTGGCTACCTGGATAGTGACATGGAGGCTGAGGAGGAAGAACAGCAAATTATGACAGTCATCAAAGAAGGGGAAGTTGAAAATTCTAGAAGACAATCAACAGCGGGCAGAAAAGATCGCCTTGGCTGTAAAGAGGACTATGCTTGTCCTCAATGTGAATCGAGTTTTACCAGTGAGGATATTCTTGCTGAGCATCTCCAGACATTGCACCAGAAACCCACAGAGGAGAAAGAATTTAAGTGCAAGAACTGTGGGAAGAAATTCCCAGTTAAGCAGGCTTTGCAAAGACATTTTGAGCAGCACCAGGAGACTTGCCGGGGGGATGCCAGGTTTGTGTGCAAGGCTGACAGCTGTGGAAAGAGGCTGAAGAGCAAGGATGCCCTGAAAAGACACCAGGAAAATGTCCACACTGGAGATCCTAAGAAAAAGCTTATATGTTCAGTGTGCAATAAAAAGTGTTCTTCAGCATCAAGCCTACAGGAACATAGAAAGATTCATGAGATATTTGATTGTCAAGAATGTATGAAGAAATTTATTTCAGCTAATCAGCTAAAACGTCATATGATCACCCACTCAGAAAAACGACCCTATAATTGCGAGATTTGTAATAAGTCTTTCAAGAGGCTTGATCAAGTGGGTGCTCACAAAGTAATACACAGCGAAGACAAACCTTACAAATGCAAACTTTGTGGAAAGGGATTTGCCCACAGAAATGTTTACAAGAATCATAAGAAGACCCACTCTGAGGAGAGACCGTTCCAATGTGAAGAATGTAAAGCTCTGTTCCGGACCCCATTTTCTTTACAGAGACACCTGCTAATACATAACAGTGAGAGGACTTTCAAGTGCCATCACTGCGATGCTACCTTTAAGAGGAAGGATACATTAAATGTTCATGTCCAGGTGGTTCATGAAAGACACAAGAAGTATAGGTGTGAGCTATGTAATAAGGCCTTTGTTACACCTTCAGTGCTTAGAAGTCATAAGAAAACACATACAGGAGAAAAGGAGAAAATCTGTCCATATTGTGGCCAGAAATTTGCCAGCAGTGGTACACTCAGAGTTCATATCCGGAGCCACACAGGTGAGCGTCCCTATCAATGTCCTTACTGTGAAAAAGGATTCAGTAAAAATGATGGACTGAAGATGCACATTCGTACTCACACCAGGGAGAAGCCGTACAAGTGCTCAGAGTGCAGCAAGGCCTTCAGCCAGAAGCGAGGCCTGGATGAGCACAAGAGGACGCACACTGGAGAAAAGCCTTTTCAGTGTGATGTTTGTGATTTGGCTTTTAGCCTGAAGAAAATGCTGATTCGACACAAGATGACTCATAATCCCAATCGTCCCCTGGCAGAATGCCAGTTTTGCCATAAGAAGTTTACAAGGAATGACTACCTCAAAGTGCACATGGACAATATCCATGGTGTAGCTGACAGCTAA'),\n",
       " ('ZNF131-1',\n",
       "  'ATGGAGGCTGAAGAGACGATGGAATGCCTTCAGGAGTTCCCTGAACATCATAAAATGATCCTCGACCGATTGAATGAACAGCGAGAGCAGGACCGGTTTACTGACATCACCCTAATTGTCGACGGACACCATTTTAAGGCTCACAAGGCTGTTTTGGCTGCTTGTAGTAAGTTCTTCTACAAATTCTTTCAGGAGTTTACCCAAGAACCATTGGTGGAGATAGAAGGTGTTAGTAAAATGGCCTTTCGCCATTTAATTGAGTTCACATATACAGCAAAATTAATGATACAAGGAGAAGAAGAAGCCAATGATGTATGGAAAGCAGCAGAGTTTCTACAAATGCTAGAAGCTATCAAAGCCCTTGAAGTCAGGAACAAAGAAAACTCAGCTCCCTTAGAGGAAAATACCACAGGAAAAAATGAGGCCAAAAAAAGGAAGATTGCAGAAACTTCAAATGTTATCACTGAGTCATTGCCATCTGCAGAATCAGAACCTGTTGAAATTGAGGTAGAGATTGCCGAAGGCACCATTGAAGTGGAAGATGAAGGCATCGAAACATTAGAGGAAGTGGCTTCTGCCAAGCAGTCCGTAAAGTACATACAGAGCACAGGTTCCTCTGATGATTCTGCTCTAGCACTGTTGGCAGATATTACCAGCAAGTACCGTCAAGGTGACAGAAAAGGGCAGATTAAAGAAGATGGCTGTCCATCTGACCCCACGAGCAAACAGGAGCACATGAAATCACACTCCACTGAGAGTTTCAAGTGTGAAATATGCAATAAACGATATCTTCGAGAGAGCGCATGGAAACAGCACCTAAATTGTTACCACCTTGAAGAAGGTGGAGTCAGTAAGAAGCAAAGAACTGGGAAAAAAATTCATGTATGTCAGTACTGTGAGAAACAGTTTGACCATTTTGGACATTTTAAAGAACATCTTCGAAAACATACAGGTGAAAAACCTTTTGAATGTCCAAATTGTCATGAACGATTTGCTAGAAATAGCACTCTGAAATGTCACCTCACTGCATGCCAAACTGGAGTAGGGGCAAAAAAAGGAAGGAAGAAGCTCTACGAATGCCAGGTCTGCAACAGTGTGTTTAACAGCTGGGACCAGTTCAAAGATCACTTGGTAATACACACTGGAGATAAACCCAACCATTGTACTTTATGTGATTTGTGGTTTATGCAAGGAAATGAATTAAGGAGGCATCTCAGTGATGCTCACAATATTTCAGAGCGTCTAGTAACGGAAGAAGTTCTTTCAGTAGAAACACGTGTGCAAACTGAACCTGTAACATCAATGACTATTATAGAACAAGTTGGGAAGGTGCATGTGCTACCATTGCTTCAGGTTCAGGTGGATTCAGCACAAGTGACTGTGGAACAAGTCCATCCAGATCTGCTCCAGGACAGCCAGGTGCACGATTCACACATGAGTGAGCTTCCAGAGCAGGTCCAAGTGAGTTATCTAGAAGTGGGCCGAATTCAGACTGAAGAAGGTACTGAAGTACATGTAGAGGAGCTGCATGTTGAACGGGTCAATCAAATGCCAGTGGAAGTACAAACTGAACTTCTAGAAGCAGATTTGGACCACGTGACCCCAGAAATCATGAACCAAGAGGAGAGAGAGTCTAGCCAAGCAGATGCTGCTGAGGCTGCCAGGGAAGATCACGAAGATGCTGAGGATTTAGAGACCAAGCCAACAGTGGATTCTGAAGCAGAAAAGGCAGAGAATGAGGACAGAACAGCTCTGCCAGTTTTAGAATGAAATTACACATGAATATATTTTTAAATTTACTTGTTGGGTTTTTGAACTGATTATGGGCAGTTTGACTGTCCTTAATTAAGCCTAACAGACAAGTGGACCAAAGTTAAGCTGTTTCCTGTTGTGCTGAACTGTTGTCCGTTGAAACACATTGATTCCCCTCCCCCTACTTATTGCCACAGAGGAGGGATCTTTTCCATAACTGAAGGGGAGTTTTGAGAAGTATATTTCTGGAAACTTAAATGGATTATATTCTTATTATATAGTTGGGTACGAATGTATCTATTTTCATTGTGGTAAAAGTTCTTCCTTTTCTCTTTCCCAGGTCATGTTCTTCCTCAAATTTTTTCCATATTG'),\n",
       " ('MXD3-2',\n",
       "  'ATGGAACCCTTGGCCAGCAACATCCAGGTCCTGCTGCAGGCGGCCGAGTTCCTGGAGCGCCGTGAGAGAGAGGCCGAGCATGGTTATGCGTCCCTGTGCCCGCATCGCAGTCCAGGCCCCATCCACAGGAGGAAGAAGCGACCCCCCCAGGCTCCTGGCGCGCAGGACAGCGGGCGGTCAGTGCACAATGAACTGGAGAAGCGCAGGAGGGCCCAGTTGAAGCGGTGCCTGGAGCGGCTGAAGCAGCAGATGCCCCTGGGGGCCGACTGTGCCCGGTACACCACGCTGAGCCTGCTGCGCCGTGCCAGGATGCACATCCAGAAGCTGGAGGATCAGGAGCAGCGGGCCCGACAGCTCAAGGAGAGGCTGCGCAGCAAGCAGCAGAGCCTGCAGCGGCAGCTGGAGCAGCTCCGGGGGCTGGCAGGGGCGGCCGAGCGGGAGCGGCTGCGGGCGGACAGTCTGGACTCCTCAGGCCTCTCCTCTGAGCGCTCAGACTCAGACCAAGAGGAGCTGGAGGTGGATGTGGAGAGCCTGGTGTTTGGGGGTGAGGCCGAGCTGCTGCGGGGCTTCGTCGCCGGCCAGGAGCACAGCTACTCGCACGGCGGCGGCGCCTGGCTATGA'),\n",
       " ('NR3C1-1',\n",
       "  'ATGGACTCCAAAGAATCATTAACTCCTGGTAGAGAAGAAAACCCCAGCAGTGTGCTTGCTCAGGAGAGGGGAGATGTGATGGACTTCTATAAAACCCTAAGAGGAGGAGCTACTGTGAAGGTTTCTGCGTCTTCACCCTCACTGGCTGTCGCTTCTCAATCAGACTCCAAGCAGCGAAGACTTTTGGTTGATTTTCCAAAAGGCTCAGTAAGCAATGCGCAGCAGCCAGATCTGTCCAAAGCAGTTTCACTCTCAATGGGACTGTATATGGGAGAGACAGAAACAAAAGTGATGGGAAATGACCTGGGATTCCCACAGCAGGGCCAAATCAGCCTTTCCTCGGGGGAAACAGACTTAAAGCTTTTGGAAGAAAGCATTGCAAACCTCAATAGGTCGACCAGTGTTCCAGAGAACCCCAAGAGTTCAGCATCCACTGCTGTGTCTGCTGCCCCCACAGAGAAGGAGTTTCCAAAAACTCACTCTGATGTATCTTCAGAACAGCAACATTTGAAGGGCCAGACTGGCACCAACGGTGGCAATGTGAAATTGTATACCACAGACCAAAGCACCTTTGACATTTTGCAGGATTTGGAGTTTTCTTCTGGGTCCCCAGGTAAAGAGACGAATGAGAGTCCTTGGAGATCAGACCTGTTGATAGATGAAAACTGTTTGCTTTCTCCTCTGGCGGGAGAAGACGATTCATTCCTTTTGGAAGGAAACTCGAATGAGGACTGCAAGCCTCTCATTTTACCGGACACTAAACCCAAAATTAAGGATAATGGAGATCTGGTTTTGTCAAGCCCCAGTAATGTAACACTGCCCCAAGTGAAAACAGAAAAAGAAGATTTCATCGAACTCTGCACCCCTGGGGTAATTAAGCAAGAGAAACTGGGCACAGTTTACTGTCAGGCAAGCTTTCCTGGAGCAAATATAATTGGTAATAAAATGTCTGCCATTTCTGTTCATGGTGTGAGTACCTCTGGAGGACAGATGTACCACTATGACATGAATACAGCATCCCTTTCTCAACAGCAGGATCAGAAGCCTATTTTTAATGTCATTCCACCAATTCCCGTTGGTTCCGAAAATTGGAATAGGTGCCAAGGATCTGGAGATGACAACTTGACTTCTCTGGGGACTCTGAACTTCCCTGGTCGAACAGTTTTTTCTAATGGCTATTCAAGCCCCAGCATGAGACCAGATGTAAGCTCTCCTCCATCCAGCTCCTCAACAGCAACAACAGGACCACCTCCCAAACTCTGCCTGGTGTGCTCTGATGAAGCTTCAGGATGTCATTATGGAGTCTTAACTTGTGGAAGCTGTAAAGTTTTCTTCAAAAGAGCAGTGGAAGGACAGCACAATTACCTATGTGCTGGAAGGAATGATTGCATCATCGATAAAATTCGAAGAAAAAACTGCCCAGCATGCCGCTATCGAAAATGTCTTCAGGCTGGAATGAACCTGGAAGCTCGAAAAACAAAGAAAAAAATAAAAGGAATTCAGCAGGCCACTACAGGAGTCTCACAAGAAACCTCTGAAAATCCTGGTAACAAAACAATAGTTCCTGCAACGTTACCACAACTCACCCCTACCCTGGTGTCACTGTTGGAGGTTATTGAACCTGAAGTGTTATATGCAGGATATGATAGCTCTGTTCCAGACTCAACTTGGAGGATCATGACTACGCTCAACATGTTAGGAGGGCGGCAAGTGATTGCAGCAGTGAAATGGGCAAAGGCAATACCAGGTTTCAGGAACTTACACCTGGATGACCAAATGACCCTACTGCAGTACTCCTGGATGTTTCTTATGGCATTTGCTCTGGGGTGGAGATCATATAGACAATCAAGTGCAAACCTGCTGTGTTTTGCTCCTGATCTGATTATTAATGAGCAGAGAATGACTCTACCCTGCATGTACGACCAATGTAAACACATGCTGTATGTTTCCTCTGAGTTACACAGGCTTCAGGTATCTTATGAAGAGTATCTCTGTATGAAAACCTTACTGCTTCTCTCTTCAGTTCCTAAGGACGGTCTGAAGAGCCAAGAGCTATTTGATGAAATTAGAATGACCTACATCAAAGAGCTAGGAAAAGCCATTGTCAAGAGGGAAGGAAACTCCAGCCAGAACTGGCAGCGGTTTTATCAACTGACAAAACTCTTGGATTCTATGCATGAAGTGGTTGAAAATCTCCTTAACTATTGCTTCCAAACATTTTTGGATAAGACCATGAGTATTGAATTCCCCGAGATGTTAGCTGAAATCATCACCAATCAGATACCAAAATATTCAAATGGAAATATCAAAAAACTTCTGTTTCATCAAAAGTGA'),\n",
       " ('NEUROG1-1',\n",
       "  'ATGCCAGCCCGCCTTGAGACCTGCATCTCCGACCTCGACTGCGCCAGCAGCAGCGGCAGTGACCTATCCGGCTTCCTCACCGACGAGGAAGACTGTGCCAGACTCCAACAGGCAGCCTCCGCTTCGGGGCCGCCCGCGCCGGCCCGCAGGGGCGCGCCCAATATCTCCCGGGCGTCTGAGGTTCCAGGGGCACAGGACGACGAGCAGGAGAGGCGGCGGCGCCGCGGCCGGACGCGGGTCCGCTCCGAGGCGCTGCTGCACTCGCTGCGCAGGAGCCGGCGCGTCAAGGCCAACGATCGCGAGCGCAACCGCATGCACAACTTGAACGCGGCCCTGGACGCACTGCGCAGCGTGCTGCCCTCGTTCCCCGACGACACCAAGCTCACCAAAATCGAGACGCTGCGCTTCGCCTACAACTACATCTGGGCTCTGGCCGAGACACTGCGCCTGGCGGATCAAGGGCTGCCCGGAGGCGGTGCCCGGGAGCGCCTCCTGCCGCCGCAGTGCGTCCCCTGCCTGCCCGGTCCCCCAAGCCCCGCCAGCGACGCGGAGTCCTGGGGCTCAGGTGCCGCCGCCGCCTCCCCGCTCTCTGACCCCAGTAGCCCAGCCGCCTCCGAAGACTTCACCTACCGCCCCGGCGACCCTGTTTTCTCCTTCCCAAGCCTGCCCAAAGACTTGCTCCACACAACGCCCTGTTTCATTCCTTACCACTAG'),\n",
       " ('NKX2-5-1', 'TA'),\n",
       " ('EBF1-1',\n",
       "  'ATGTTTGGGATTCAGGAAAGCATCCAACGGAGTGGAAGCAGCATGAAGGAAGAGCCGCTGGGCAGCGGCATGAACGCGGTGCGGACGTGGATGCAGGGCGCCGGGGTGCTGGACGCCAACACGGCGGCGCAGAGCGGGGTGGGTCTGGCCCGGGCTCACTTTGAGAAGCAGCCGCCTTCCAATCTGCGGAAATCCAACTTCTTCCACTTCGTCCTGGCCCTCTACGACAGACAGGGCCAGCCCGTGGAGATCGAGAGGACAGCGTTTGTGGGGTTCGTGGAGAAGGAAAAAGAAGCCAACAGCGAAAAGACCAATAACGGAATTCACTACCGGCTTCAGCTTCTCTACAGCAATGGGATAAGGACGGAGCAGGATTTCTACGTGCGCCTCATTGACTCCATGACAAAACAAGCCATAGTGTATGAAGGCCAAGACAAGAACCCAGAAATGTGCCGAGTCTTGCTCACACATGAGATCATGTGCAGCCGCTGTTGTGACAAGAAAAGCTGTGGCAACCGAAATGAGACTCCCTCAGATCCAGTGATAATTGACAGGTTCTTCTTGAAATTTTTCCTCAAATGTAACCAAAATTGCCTAAAGAATGCGGGAAACCCACGTGACATGCGGAGATTCCAGGTCGTGGTGTCTACGACAGTCAATGTGGATGGCCATGTCCTGGCAGTCTCTGATAACATGTTTGTCCATAATAATTCCAAGCATGGGCGGAGGGCTCGGAGGCTTGACCCCTCGGAAGGTACGCCCTCTTATCTGGAACATGCTACTCCCTGTATCAAAGCCATCAGCCCGAGTGAAGGATGGACGACGGGAGGTGCGACTGTGATCATCATAGGGGACAATTTCTTTGATGGGTTACAGGTCATATTCGGTACCATGCTGGTCTGGAGTGAGTTGATCACTCCTCATGCCATCCGTGTGCAGACCCCTCCTCGGCACATCCCTGGTGTTGTGGAAGTCACACTGTCCTACAAATCTAAGCAGTTCTGCAAAGGAACACCAGGCAGATTCATTTATACAGCGCTCAACGAACCCACCATCGATTATGGTTTCCAGAGGTTACAGAAGGTCATTCCTCGGCACCCTGGTGACCCTGAGCGTTTGCCAAAGGAAGTAATACTCAAAAGGGCTGCGGATCTGGTAGAAGCACTGTATGGGATGCCACACAACAACCAGGAAATCATTCTGAAGAGAGCGGCCGACATTGCCGAGGCCCTGTACAGTGTTCCCCGCAACCACAACCAACTCCCGGCCCTTGCTAACACCTCGGTCCACGCAGGGATGATGGGCGTGAATTCGTTCAGTGGACAACTGGCCGTGAATGTCTCCGAGGCATCACAAGCCACCAATCAGGGTTTCACCCGCAACTCAAGCAGCGTATCACCACACGGGTACGTGCCGAGCACCACTCCCCAGCAGACCAACTATAACTCCGTCACCACGAGCATGAACGGATACGGCTCTGCCGCAATGTCCAATTTGGGCGGCTCCCCCACCTTCCTCAACGGCTCAGCTGCCAACTCCCCCTATGCCATAGTGCCATCCAGCCCCACCATGGCCTCCTCCACAAGCCTCCCCTCCAACTGCAGCAGCTCCTCGGGCATCTTCTCCTTCTCACCAGCCAACATGGTCTCAGCCGTGAAACAGAAGAGTGCTTTCGCACCAGTCGTCAGACCCCAGACCTCCCCACCTCCCACCTGCACCAGCACCAACGGGAACAGCCTGCAAGCGATATCTGGCATGATTGTTCCTCCTATGTGA'),\n",
       " ('HMGA1-1',\n",
       "  'ATGAGTGAGTCGAGCTCGAAGTCCAGCCAGCCCTTGGCCTCCAAGCAGGAAAAGGACGGCACTGAGAAGCGGGGCCGGGGCAGGCCGCGCAAGCAGCCTCCGGTGAGTCCCGGGACAGCGCTGGTAGGGAGTCAGAAGGAGCCCAGCGAAGTGCCAACACCTAAGAGACCTCGGGGCCGACCAAAGGGAAGCAAAAACAAGGGTGCTGCCAAGACCCGGAAAACCACCACAACTCCAGGAAGGAAACCAAGGGGCAGACCCAAAAAACTGGAGAAGGAGGAAGAGGAGGGCATCTCGCAGGAGTCCTCGGAGGAGGAGCAGTGA'),\n",
       " ('HMGA1-2',\n",
       "  'ATGAGTGAGTCGAGCTCGAAGTCCAGCCAGCCCTTGGCCTCCAAGCAGGAAAAGGACGGCACTGAGAAGCGGGGCCGGGGCAGGCCGCGCAAGCAGCCTCCGAAGGAGCCCAGCGAAGTGCCAACACCTAAGAGACCTCGGGGCCGACCAAAGGGAAGCAAAAACAAGGGTGCTGCCAAGACCCGGAAAACCACCACAACTCCAGGAAGGAAACCAAGGGGCAGACCCAAAAAACTGGAGAAGGAGGAAGAGGAGGGCATCTCGCAGGAGTCCTCGGAGGAGGAGCAGTGA'),\n",
       " ('HSF2-1',\n",
       "  'ATGAAGCAGAGTTCGAACGTGCCGGCTTTCCTCAGCAAGCTGTGGACGCTTGTGGAGGAAACCCACACTAACGAGTTCATCACCTGGAGCCAGAATGGCCAAAGTTTTCTGGTCTTGGATGAGCAACGATTTGCAAAAGAAATTCTTCCCAAATATTTCAAGCACAATAATATGGCAAGCTTTGTGAGGCAACTGAATATGTATGGTTTCCGTAAAGTAGTACATATCGACTCTGGAATTGTAAAGCAAGAAAGAGATGGTCCTGTAGAATTTCAGCATCCTTACTTCAAACAAGGACAGGATGACTTGTTGGAGAACATTAAAAGGAAGGTTTCATCTTCAAAACCAGAAGAAAATAAAATTCGTCAGGAAGATTTAACAAAAATTATAAGTAGTGCTCAGAAGGTTCAGATAAAACAGGAAACTATTGAGTCCAGGCTTTCTGAATTAAAAAGTGAGAATGAGTCCCTTTGGAAGGAGGTGTCAGAATTACGAGCAAAGCATGCACAACAGCAACAAGTTATTCGAAAGATTGTCCAGTTTATTGTTACATTGGTTCAAAATAACCAACTTGTGAGTTTAAAACGTAAAAGGCCTCTACTTCTAAACACTAATGGAGCCCAAAAGAAGAACCTGTTTCAGCACATAGTCAAAGAACCAACTGATAATCATCATCATAAAGTTCCACACAGTAGGACTGAAGGTTTAAAGCCAAGGGAGAGGATTTCAGATGACATCATTATTTATGATGTTACTGATGATAATGCAGATGAAGAAAATATCCCAGTTATTCCAGAAACTAATGAGGATGTTATATCTGATCCCTCCAACTGTAGCCAGTACCCTGATATTGTCATCGTTGAAGATGACAATGAAGATGAGTATGCACCTGTCATTCAGAGTGGAGAGCAGAATGAACCAGCCAGAGAATCCCTAAGTTCAGGCAGTGATGGCAGCAGCCCTCTCATGTCTAGTGCTGTCCAGCTAAATGGCTCATCCAGTCTGACCTCAGAAGATCCAGTGACCATGATGGATTCCATTTTGAATGATAACATCAATCTTTTGGGAAAGGTTGAGCTGTTGGATTATCTTGACAGTATTGACTGCAGTTTAGAGGACTTCCAGGCCATGCTATCAGGAAGACAATTTAGCATAGACCCAGATCTCCTGGTTGATCTTTTCACTAGTTCTGTGCAGATGAATCCCACAGATTACATCAATAATACAAAATCTGAGAATAAAGGATTAGAAACTACCAAGAACAATGTAGTTCAGCCAGTTTCGGAAGAGGGAAGAAAATCTAAATCCAAACCAGATAAGCAGCTTATCCAGTATACCGCCTTTCCACTTCTTGCATTCCTCGATGGGAACCCTGCTTCTTCTGTTGAACAGGCGAGTACAACAGCATCATCAGAAGTTTTGTCCTCTGTAGATAAACCCATAGAAGTTGATGAGCTTCTGGATAGCAGCCTAGACCCAGAACCAACCCAAAGTAAGCTTGTTCGCCTGGAGCCATTGACTGAAGCTGAAGCTAGTGAAGCTACACTGTTTTATTTATGTGAACTTGCTCCTGCACCTCTGGATAGTGATATGCCACTTTTAGATAGCTAA'),\n",
       " ('ZSCAN9-1',\n",
       "  'ATGAATACAAACTCAAAGGAGGTTTTATCCCTGGGTGTTCAAGTTCCCGAGGCATGGGAAGAACTTCTGACAATGAAAGTGGAAGCAAAAAGTCACCTTCAATGGCAGGAATCCAGACTGAAACGCAGTAATCCACTGGCAAGGGAAATCTTCCGAAGGCACTTTCGACAGCTGTGCTACCAAGAGACCCCTGGACCAAGGGAGGCTCTTACTCGACTCCAGGAACTTTGCTACCAGTGGTTGAGGCCACATGTGAGCACAAAGGAGCAGATTTTGGATCTGCTGGTGCTGGAGCAGTTTCTATCCATTCTGCCCAAGGAGCTCCAGGGCTGGGTGAGGGAACACTGTCCAGAGAGTGGAGAAGAGGCTGTGATTTTGCTGGAGGATCTGGAGAGAGAGCTCGATGAACCACAACATGAGATGGTGGCCCACAGACACAGACAAGAAGTCCTCTGTAAAGAGATGGTGCCTCTAGCAGAGCAGACACCACTGACCCTTCAGTCCCAGCCTAAGGAGCCACAGCTCACATGTGACTCTGCTCAGAAGTGCCATTCTATTGGAGAGACAGATGAAGTAACCAAGACTGAGGACAGAGAGTTGGTGCTAAGGAAAGACTGTCCTAAGATAGTGGAACCACATGGGAAAATGTTTAATGAGCAGACCTGGGAGGTATCACAGCAGGATCCCTCACATGGAGAAGTTGGTGAACATAAGGATAGGATAGAGAGGCAGTGGGGAAACCTCTTAGGAGAGGGGCAACACAAATGTGATGAATGTGGGAAGAGCTTTACTCAGAGCTCAGGTCTCATTCGACATCAAAGAATTCATACTGGAGAAAGACCTTATGAATGTAATGAATGTGGGAAAGCCTTCAGTCGAAGTTCTGGTCTTTTTAATCACCGAGGAATCCACAATATACAGAAACGGTACCACTGCAAGGAGTGTGGGAAGGTCTTCAGTCAGAGTGCGGGTCTTATCCAGCATCAGAGAATCCACAAAGGAGAAAAGCCGTATCAGTGCAGCCAGTGCAGTAAGAGCTACAGTCGGCGTTCATTTCTCATTGAACATCAGAGAAGCCACACAGGGGAGCGACCTCACCAGTGCATTGAATGTGGGAAAAGCTTTAATCGACACTGCAACCTCATTCGCCATCAGAAGATCCACACAGTGGCTGAGCTGGTCTAG'),\n",
       " ('NFYA-3',\n",
       "  'ATGGAGCAGTATACAGCAAACAGCAATAGTTCGACAGAGCAGATTGTTGTCCAGGCAGGACAGATTCAGCAGCAGGTCCAAGGGCAGCCATTAATGGTGCAGGTCAGTGGAGGCCAGCTAATCACATCAACTGGCCAACCCATCATGGTCCAGGCTGTCCCTGGTGGGCAAGGTCAAACCATCATGCAAGTACCTGTTTCTGGAACACAGGGTTTGCAGCAAATACAGTTGGTCCCACCTGGACAGATCCAGATCCAGGGTGGACAGGCTGTGCAGGTGCAGGGCCAGCAGGGCCAGACCCAGCAGATCATCATCCAGCAGCCCCAGACGGCTGTCACTGCTGGCCAGACTCAGACACAGCAGCAGATTGCTGTCCAGGGACAGCAAGTGGCACAGACTGCTGAAGGGCAGACCATCGTCTATCAACCAGTTAATGCAGATGGCACCATTCTCCAGCAAGTTACAGTCCCTGTTTCAGGCATGATCACTATCCCAGCAGCCAGTTTGGCAGGAGCACAGATTGTTCAAACAGGAGCCAATACCAACACAACCAGCAGTGGGCAAGGGACTGTCACTGTGACACTACCAGTGGCAGGCAATGTGGTCAATTCAGGAGGGATGGTCATGATGGTTCCTGGGGCTGGCTCTGTGCCTGCTATCCAAAGAATCCCTCTACCTGGAGCAGAGATGCTTGAAGAAGAGCCTCTCTACGTGAATGCCAAACAATACAACCGTATTCTTAAGAGGAGGCAAGCCCGAGCTAAACTAGAGGCAGAAGGGAAAATTCCAAAGGAGAGAAGGAAATACCTGCATGAGTCTCGGCACCGTCATGCCATGGCACGGAAGCGTGGTGAAGGTGGACGATTTTTCTCTCCAAAGGAAAAGGATAGTCCCCATATGCAGGATCCAAACCAAGCCGATGAAGAAGCAATGACACAGATCATCCGAGTGTCCTAA'),\n",
       " ('ZNF451-3', 'TG'),\n",
       " ('ZNF451-4', 'T'),\n",
       " ('ZNF451-5', 'G'),\n",
       " ('ZNF451-6', 'TG'),\n",
       " ('ZNF451-7', 'TG'),\n",
       " ('E2F3-3', 'GT'),\n",
       " ('POU5F1-1',\n",
       "  'ATGGCGGGACACCTGGCTTCAGATTTTGCCTTCTCGCCCCCTCCAGGTGGTGGAGGTGATGGGCCAGGGGGGCCGGAGCCGGGCTGGGTTGATCCTCGGACCTGGCTAAGCTTCCAAGGCCCTCCTGGAGGGCCAGGAATCGGGCCGGGGGTTGGGCCAGGCTCTGAGGTGTGGGGGATTCCCCCATGCCCCCCGCCGTATGAGTTCTGTGGGGGGATGGCGTACTGTGGGCCCCAGGTTGGAGTGGGGCTAGTGCCCCAAGGCGGCTTGGAGACCTCTCAGCCTGAGGGCGAAGCAGGAGTCGGGGTGGAGAGCAACTCCGATGGGGCCTCCCCGGAGCCCTGCACCGTCACCCCTGGTGCCGTGAAGCTGGAGAAGGAGAAGCTGGAGCAAAACCCGGAGGAGTCCCAGGACATCAAAGCTCTGCAGAAAGAACTCGAGCAATTTGCCAAGCTCCTGAAGCAGAAGAGGATCACCCTGGGATATACACAGGCCGATGTGGGGCTCACCCTGGGGGTTCTATTTGGGAAGGTATTCAGCCAAACGACCATCTGCCGCTTTGAGGCTCTGCAGCTTAGCTTCAAGAACATGTGTAAGCTGCGGCCCTTGCTGCAGAAGTGGGTGGAGGAAGCTGACAACAATGAAAATCTTCAGGAGATATGCAAAGCAGAAACCCTCGTGCAGGCCCGAAAGAGAAAGCGAACCAGTATCGAGAACCGAGTGAGAGGCAACCTGGAGAATTTGTTCCTGCAGTGCCCGAAACCCACACTGCAGCAGATCAGCCACATCGCCCAGCAGCTTGGGCTCGAGAAGGATGTGGTCCGAGTGTGGTTCTGTAACCGGCGCCAGAAGGGCAAGCGATCAAGCAGCGACTATGCACAACGAGAGGATTTTGAGGCTGCTGGGTCTCCTTTCTCAGGGGGACCAGTGTCCTTTCCTCTGGCCCCAGGGCCCCATTTTGGTACCCCAGGCTATGGGAGCCCTCACTTCACTGCACTGTACTCCTCGGTCCCTTTCCCTGAGGGGGAAGCCTTTCCCCCTGTCTCTGTCACCACTCTGGGCTCTCCCATGCATTCAAACTGA'),\n",
       " ('TFAP2A-4',\n",
       "  'ATGTTAGTTCACAGTTTTTCAGCCATGGACCGTCACGACGGCACCAGCAACGGGACGGCACGGTTGCCCCAGCTGGGCACTGTAGGTCAATCTCCCTACACGAGCGCCCCGCCGCTGTCCCACACCCCCAATGCCGACTTCCAGCCCCCATACTTCCCCCCACCCTACCAGCCTATCTACCCCCAGTCGCAAGATCCTTACTCCCACGTCAACGACCCCTACAGCCTGAACCCCCTGCACGCCCAGCCGCAGCCGCAGCACCCAGGCTGGCCCGGCCAGAGGCAGAGCCAGGAGTCTGGGCTCCTGCACACGCACCGGGGGCTGCCTCACCAGCTGTCGGGCCTGGATCCTCGCAGGGACTACAGGCGGCACGAGGACCTCCTGCACGGCCCACACGCGCTCAGCTCAGGACTCGGAGACCTCTCGATCCACTCCTTACCTCACGCCATCGAGGAGGTCCCGCATGTAGAAGACCCGGGTATTAACATCCCAGATCAAACTGTAATTAAGAAAGGCCCCGTGTCCCTGTCCAAGTCCAACAGCAATGCCGTCTCCGCCATCCCTATTAACAAGGACAACCTCTTCGGCGGCGTGGTGAACCCCAACGAAGTCTTCTGTTCAGTTCCGGGTCGCCTCTCGCTCCTCAGCTCCACCTCGAAGTACAAGGTCACGGTGGCGGAAGTGCAGCGGCGGCTCTCACCACCCGAGTGTCTCAACGCGTCGCTGCTGGGCGGAGTGCTCCGGAGGGCGAAGTCTAAAAATGGAGGAAGATCTTTAAGAGAAAAACTGGACAAAATAGGATTAAATCTGCCTGCAGGGAGACGTAAAGCTGCCAACGTTACCCTGCTCACATCACTAGTAGAGGGAGAAGCTGTCCACCTAGCCAGGGACTTTGGGTACGTGTGCGAAACCGAATTTCCTGCCAAAGCAGTAGCTGAATTTCTCAACCGACAACATTCCGATCCCAATGAGCAAGTGACAAGAAAAAACATGCTCCTGGCTACAAAACAGATATGCAAAGAGTTCACCGACCTGCTGGCTCAGGACCGATCTCCCCTGGGGAACTCACGGCCCAACCCCATCCTGGAGCCCGGCATCCAGAGCTGCTTGACCCACTTCAACCTCATCTCCCACGGCTTCGGCAGCCCCGCGGTGTGTGCCGCGGTCACGGCCCTGCAGAACTATCTCACCGAGGCCCTCAAGGCCATGGACAAAATGTACCTCAGCAACAACCCCAATAGCCACACGGACAACAACGCCAAAAGCAGTGACAAAGAGGAGAAGCACAGAAAGTGA'),\n",
       " ('RXRB-1', 'TG'),\n",
       " ('TBX18-2', 'G'),\n",
       " ('DMTF1-1',\n",
       "  'ATGAGCACAGTGGAAGAGGATTCTGACACAGTAACAGTAGAAACTGTGAACTCTGTGACTTTGACTCAGGACACAGAAGGGAATCTCATTCTTCACTGCCCTCAGAATGAAGCGGATGAAATAGACTCAGAAGATAGTATTGAACCTCCACATAAAAGGCTTTGTTTGTCCTCTGAGGATGATCAGAGTATTGATGATTCTACTCCTTGCATATCAGTTGTTGCACTTCCACTTTCAGAAAATGATCAGAGCTTTGAAGTGACCATGACTGCAACCACAGAAGTAGCAGATGATGAGGTTACTGAGGGGACTGTGACACAGATACAGATTTTGCAGAATGAGCAACTAGATGAAATATCTCCCTTGGGTAACGAGGAAGTTTCAGCAGTTAGCCAAGCATGGTTTACAACTAAAGAAGATAAGGATTCTCTGACTAATAAAGGACATAAATGGAAGCAGGGGATGTGGTCCAAGGAAGAAATTGATATTTTGATGAACAATATTGAACGCTATCTTAAGGCACGCGGAATAAAAGATGCTACAGAAATCATCTTTGAGATGTCAAAAGACGAAAGAAAAGATTTCTACAGGACTATAGCATGGGGTCTGAACCGGCCTTTGTTTGCAGTTTATAGAAGAGTGCTTCGCATGTATGATGACAGAAACCATGTGGGAAAATATACACCTGAAGAAATTGAGAAGCTCAAGGAGCTCCGGATAAAGCATGGCAATGACTGGGCAACAATAGGGGCGGCGCTAGGAAGAAGTGCATCTTCTGTCAAAGATCGGTGCCGACTGATGAAGGATACTTGCAACACAGGGAAGTGGACAGAAGAAGAAGAAAAGAGACTTGCAGAAGTGGTTCATGAGTTGACAAGCACTGAGCCAGGTGACATAGTCACACAGGGTGTGTCTTGGGCAGCTGTGGCTGAACGAGTCGGTACCCGCTCAGAAAAGCAATGTCGTTCTAAATGGCTCAACTACCTGAATTGGAAACAGAGTGGGGGTACTGAATGGACCAAGGAAGATGAAATCAATCTCATCCTCAGGATAGCAGAACTTGATGTAGCTGATGAAAATGACATTAACTGGGATCTGTTAGCTGAGGGATGGAGTAGTGTCCGTTCACCACAATGGCTACGAAGTAAATGGTGGACCATCAAAAGGCAAATTGCAAACCATAAGGATGTTTCGTTCCCTGTCTTAATAAAAGGTCTTAAACAGTTACATGAGAACCAAAAAAACAACCCAACGCTTTTGGAGAATAAATCAGGATCTGGAGTTCCAAACAGTAATACCAATTCCAGTGTGCAGCATGTTCAGATAAGAGTTGCCCGCTTGGAAGATAATACAGCCATCTCTTCTAGCCCCATGGCAGCATTGCAGATTCCAGTCCAGATCACCCATGTTTCTTCAGCAGACTCTCCTGCTACCGTTGACTCAGAAACAATAACACTAAACAGTGGAACACTACAGACATTTGAGATTCTTCCCTCTTTCCATCTACAGCCCACTGGCACTCCAGGCACCTACCTACTTCAAACAAGCTCAAGCCAAGGCCTTCCCCTAACTCTGACTGCTAGTCCCACAGTAACCCTGACAGCTGCTGCTCCTGCTTCTCCTGAACAGATTATTGTTCATGCTTTATCCCCAGAACATTTGTTGAACACAAGTGATAATGTTACAGTGCAGTGTCACACACCAAGAGTCATCATTCAGACTGTTGCCACAGAGGACATCACTTCTTCCATATCCCAAGCAGAACTGACAGTCGATAGTGATATTCAGTCATCTGATTTTCCTGAGCCTCCAGACGCCCTAGAAGCAGACACTTTCCCAGATGAAGTTCATCACCCTAAGATGACTGTGGAGCCATCATTTAATGATGCTCATGTATCCAAATTCAGTGACCAAAATAGCACAGAACTGATGAATAGTGTTATGGTCAGAACAGAAGAAGAAATCTCTGACACCGACCTTAAACAAGAGGAATCACCCTCTGATTTAGCCAGTGCTTATGTTACTGAGGGTTTAGAGTCTCCCACTATAGAAGAACAAGTTGATCAAACAATTGATGATGAAACAATACTTATCGTTCCTTCACCACATGGCTTTATCCAGGCATCTGATGTTATAGATACTGAATCTGTCTTGCCTTTGACAACACTAACAGATCCCATACTCCAACATCATCAGGAAGAATCAAATATCATTGGATCATCCTTGGGCAGTCCTGTTTCAGAAGATTCAAAGGATGTCGAAGATTTGGTAAACTGTCATTAG'),\n",
       " ('ZNF398-1',\n",
       "  'ATGGCTGAGGCGGCCCCGGCCCCGACATCTGAATGGGACTCCGAGTGCCTTACATCCCTGCAGCCCCTTCCTCTTCCTACACCCCCAGCAGCAAATGAGGCACACCTGCAGACAGCAGCTATCTCTCTGTGGACAGTGGTGGCCGCCGTGCAGGCTATAGAGAGGAAGGTGGAGATCCACAGCCGGCGACTCCTACACCTAGAAGGTCGGACAGGGACAGCAGAGAAGAAACTAGCCAGCTGTGAAAAGACAGTTACCGAGCTTGGGAACCAGCTGGAGGGCAAGTGGGCCGTGCTGGGAACCCTGCTGCAGGAGTACGGGCTGCTGCAGAGGCGGCTGGAGAACTTGGAGAACCTGCTGCGCAACAGGAACTTCTGGATCCTGCGGCTCCCTCCAGGTATTAAGGGAGATATCCCAAAGGTGCCTGTGGCATTTGATGATGTCTCCATCTACTTTTCCACTCCAGAGTGGGAAAAATTAGAAGAATGGCAAAAGGAACTTTACAAGAATATCATGAAGGGCAACTACGAGTCTCTCATCTCCATGGATTATGCTATAAATCAACCTGATGTCTTATCTCAGATTCAACCAGAAGGGGAACATAATACAGAGGACCAGGCAGGGCCAGAGGAAAGTGAGATTCCCACAGACCCCAGTGAAGAGCCTGGTATTTCAACATCAGATATTCTGTCTTGGATTAAACAAGAAGAAGAGCCTCAGGTTGGGGCCCCACCGGAGTCCAAGGAGAGTGACGTGTACAAAAGCACTTATGCTGATGAAGAGCTTGTCATCAAAGCTGAAGGCCTTGCTAGATCCTCGTTGTGCCCTGAGGTTCCAGTCCCTTTCTCTTCTCCACCAGCAGCAGCAAAGGATGCTTTTTCAGATGTGGCTTTCAAAAGCCAGCAGTCTACATCCATGACACCTTTTGGACGTCCAGCCACTGACCTGCCTGAAGCCTCTGAGGGACAAGTGACTTTTACTCAGTTGGGTAGCTATCCCCTCCCACCTCCAGTTGGCGAGCAGGTGTTCTCATGCCACCACTGTGGCAAGAATCTCAGCCAAGACATGTTGCTGACCCACCAATGTAGCCATGCTACTGAGCACCCCTTACCCTGTGCCCAGTGCCCTAAGCACTTTACTCCACAGGCGGACCTCAGCAGCACCTCCCAGGACCATGCCAGCGAGACACCCCCCACCTGCCCACACTGTGCCAGGACTTTTACTCACCCATCAAGACTTACCTACCATCTTCGGGTCCATAACAGCACTGAGCGTCCTTTCCCCTGTCCTGATTGCCCCAAGCGCTTTGCTGACCAGGCTCGACTCACCAGCCACCGGAGAGCTCATGCAAGCGAAAGGCCCTTCCGCTGTGCCCAGTGCGGCAGGAGCTTCAGCTTGAAAATCAGCCTCCTGCTCCACCAGCGGGGTCATGCACAAGAGCGCCCTTTCTCCTGCCCTCAGTGTGGCATTGACTTCAACGGCCACTCGGCCCTGATCCGCCACCAGATGATCCACACAGGCGAGCGTCCTTACCCCTGCACTGACTGCAGTAAGAGCTTCATGCGCAAGGAGCACCTGCTGAACCACCGGCGGCTGCACACAGGCGAGCGGCCCTTCAGTTGTCCTCACTGTGGCAAGAGCTTCATCCGCAAGCACCACCTAATGAAACACCAGCGCATCCACACCGGGGAGCGGCCCTACCCCTGCTCCTACTGTGGCAGGAGCTTCCGCTACAAACAGACACTCAAGGACCACCTCCGTTCAGGCCACAATGGAGGCTGTGGGGGTGATAGTGACCCATCAGGTCAGCCACCCAACCCACCAGGTCCCCTCATAACTGGGCTTGAAACTTCTGGCCTGGGTGTCAACACTGAAGGTCTAGAGACCAACCAGTGGTATGGGGAAGGGAGTGGAGGGGGAGTTTTGTAA'),\n",
       " ('ZNF655-2',\n",
       "  'ATGGAGGAAATACCAGCCCAGGAAGCAGCAGGGTCACCAAGGGTCCAGTTTCAGTCTTTGGAGACCCAGTCTGAGTGTCTGTCCCCAGAGCCTCAGTTTGTGCAGGACACCGACATGGAACAGGGACTCACTGGGGATGGAGAGACCAGAGAAGATAACAAGCTGTTGATTCCTAAGCAGAAAATTTCGGAAGAAGTGCATTCATACAAAGTGAGAGTAGGAAGACTCAAACACGATATTACCCAAGTTCCTGAGACTAGAGAAGTGTATAAGTCTGAGGACAGATTAGAAAGACTTCAGGAAATTCTAAGGAAATTTCTGTACCTGGAGAGAGAGTTTAGGCAAATAACAATCAGCAAGGAAACCTTCACCAGTGAGAAGAACAATGAATGTCATGAACCCGAAAAAAGCTTCAGTCTGGACTCTACTATTGATGCAGATCAGAGAGTTCTTAGAATACAGAATACCGATGACAATGATAAGTATGACATGAGCTTCAACCAGAATTCAGCCTCTGGTAAACATGAACACTTAAATCTAACAGAGGATTTTCAGAGTAGTGAATGTAAGGAAAGCTTAATGGATCTCTCCCACCTTAATAAATGGGAGAGCATCCCTAACACTGAGAAATCCTATAAATGTGATGTATGTGGGAAAATTTTCCATCAGAGCTCAGCCCTTACTAGACATCAGAGAATCCATACTAGAGAGAAGCCCTACAAATGTAAAGAATGTGAAAAGTCTTTCAGTCAGAGCTCAAGTCTTAGTCGACATAAAAGAATACACACTAGAGAAAAACCTTACAAATGTGAAGCATCTGATAAATCCTGTGAAGCGTCTGATAAATCCTGTAGTCCAAGCTCAGGCATAATTCAGCATAAGAAAATTCACACCAGAGCCAAATCTTACAAATGTAGCAGTTGTGAAAGAGTCTTCAGTCGTAGTGTCCACCTTACTCAACATCAGAAAATTCACAAAGAGATGCCCTGTAAGTGTACTGTATGTGGCAGTGACTTCTGCCATACTTCATACCTACTTGAACATCAGAGGGTCCATCATGAAGAGAAAGCCTATGAGTATGATGAATATGGGTTGGCCTATATTAAACAACAAGGAATTCATTTCAGAGAAAAGCCCTATACGTGTAGTGAATGTGGAAAAGACTTCAGATTGAATTCACATCTTATTCAGCATCAAAGAATTCACACAGGAGAGAAAGCACATGAATGTAATGAATGTGGAAAAGCTTTCAGTCAAACCTCATGCCTTATTCAGCATCACAAAATGCATAGGAAAGAGAAATCGTATGAATGTAATGAGTATGAGGGCAGTTTCAGTCATAGCTCAGATCTTATCCTGCAACAAGAAGTCCTCACCAGACAGAAAGCCTTTGATTGTGATGTATGGGAAAAGAACTCCAGTCAGAGAGCACATCTAGTTCAACATCAGAGCATTCATACCAAAGAGAACTCATGA'),\n",
       " ('ZNF212-1',\n",
       "  'ATGGCGGAGTCGGCGCCTGCTCGGCACAGGAGAAAACGACGCTCCACACCTTTAACTTCTTCCACACTTCCTTCACAAGCAACAGAGAAAAGCTCCTATTTTCAGACCACCGAGATTTCACTCTGGACGGTGGTGGCCGCTATTCAGGCTGTGGAGAAGAAGATGGAGTCCCAGGCTGCCCGGCTACAGAGCCTGGAGGGGCGCACGGGGACAGCCGAGAAGAAGCTGGCTGACTGCGAGAAGATGGCCGTGGAGTTCGGGAACCAGCTGGAGGGCAAGTGGGCCGTGCTGGGGACCCTGCTGCAGGAGTATGGGCTACTGCAGAGGCGGCTGGAGAACGTGGAGAACCTGCTGCGCAACAGGAACTTCTGGATCCTGCGGCTGCCCCCGGGCAGCAAGGGGGAGGCCCCCAAGGTGTCCAGGTCACTGGAGAATGATGGCGTCTGTTTCACCGAGCAGGAATGGGAGAATCTGGAGGATTGGCAGAAGGAGCTCTACAGAAACGTGATGGAGAGTAACTATGAGACACTGGTCTCTCTGAAGGTCCTTGGCCAGACAGAGGGAGAAGCGGAGTTGGGTACAGAGATGCTGGGTGACTTGGAAGAGGAAGGTCCTGGTGGTGCCCACCCAGCAGGTGGGGTCATGATCAAACAGGAGCTACAGTATACACAGGAAGGCCCTGCGGATCTTCCTGGAGAGTTCTCATGCATTGCTGAAGAGCAGGCTTTCCTGAGCCCAGAGCAGACCGAACTCTGGGGTGGTCAGGGCAGTTCTGTCCTCTTGGAAACAGGTCCTGGGGACTCTACTCTAGAGGAGCCTGTTGGTAGTAGAGTTCCTAGCAGCAGCAGAACTGTGGGCTGCCCGAAGCAGAAATCTCATAGGCAGGTACAGCTGGACCAGGAATGTGGGCAGGGCCTGAAGCTGAAAAAGGACACTTCCCGCCCCTACGAATGTTCTGAGTGTGAGATCACCTTCCGCTATAAGCAGCAGCTGGCCACACATCTGCGCAGCCACTCTGGGTGGGGGTCTTGTACACCTGAGGAGCCAGAGGAGAGCCTTAGGCCCAGGCCACGGCTGAAACCACAGACCAAAAAGGCCAAGCTGCATCAGTGTGATGTGTGCCTGAGGAGCTTCAGCTGCAAGGTGAGCCTGGTGACCCATCAGCGTTGCCACCTGCAGGAGGGGCCCAGTGCCGGCCAGCATGTCCAAGAGAGGTTCTCACCCAACAGCCTGGTTGCCCTGCCTGGCCACATCCCTTGGAGGAAAAGCCGGAGTTCCCTCATCTGTGGTTACTGTGGCAAGAGCTTCAGTCACCCATCTGACTTGGTGCGGCACCAGCGCATCCACACGGGTGAGCGGCCCTACAGCTGCACTGAGTGTGAGAAGAGCTTTGTCCAGAAGCAGCACCTCCTGCAGCACCAGAAGATCCACCAGCGGGAGCGGGGTGGGCTGGCCCTGGAGCCCGGAAGGCCCAATGGCCTGCTTTAA'),\n",
       " ('FOXP2-4',\n",
       "  'ATGATGACTCCCCAGGTGATCACCCCTCAGCAAATGCAGCAGATCCTTCAGCAACAAGTCCTGTCTCCTCAGCAGCTACAAGCCCTTCTCCAACAACAGCAGGCTGTCATGCTGCAGCAGCAACAACTACAAGAGTTTTACAAGAAACAGCAAGAGCAGTTACATCTTCAGCTTTTGCAGCAGCAGCAGCAACAGCAGCAGCAGCAACAACAGCAGCAACAACAGCAGCAGCAACAACAACAACAACAGCAGCAACAACAGCAGCAGCAGCAGCAACAGCAGCAGCAGCAGCAACAGCATCCTGGAAAGCAAGCGAAAGAGCAGCAGCAGCAGCAGCAGCAGCAACAGCAATTGGCAGCCCAGCAGCTTGTCTTCCAGCAGCAGCTTCTCCAGATGCAACAACTCCAGCAGCAGCAGCATCTGCTCAGCCTTCAGCGTCAGGGACTCATCTCCATTCCACCTGGCCAGGCAGCACTTCCTGTCCAATCGCTGCCTCAAGCTGGCTTAAGTCCTGCTGAGATTCAGCAGTTATGGAAAGAAGTGACTGGAGTTCACAGTATGGAAGACAATGGCATTAAACATGGAGGGCTAGACCTCACTACTAACAATTCCTCCTCGACTACCTCCTCCAACACTTCCAAAGCATCACCACCAATAACTCATCATTCCATAGTGAATGGACAGTCTTCAGTTCTAAGTGCAAGACGAGACAGCTCGTCACATGAGGAGACTGGGGCCTCTCACACTCTCTATGGCCATGGAGTTTGCAAATGGCCAGGCTGTGAAAGCATTTGTGAAGATTTTGGACAGTTTTTAAAGCACCTTAACAATGAACACGCATTGGATGACCGAAGCACTGCTCAGTGTCGAGTGCAAATGCAGGTGGTGCAACAGTTAGAAATACAGCTTTCTAAAGAACGCGAACGTCTTCAAGCAATGATGACCCACTTGCACATGCGACCCTCAGAGCCCAAACCATCTCCCAAACCTCTAAATCTGGTGTCTAGTGTCACCATGTCGAAGAATATGTTGGAGACATCCCCACAGAGCTTACCTCAAACCCCTACCACACCAACGGCCCCAGTCACCCCGATTACCCAGGGACCCTCAGTAATCACCCCAGCCAGTGTGCCCAATGTGGGAGCCATACGAAGGCGACATTCAGACAAATACAACATTCCCATGTCATCAGAAATTGCCCCAAACTATGAATTTTATAAAAATGCAGATGTCAGACCTCCATTTACTTATGCAACTCTCATAAGGCAGGCTATCATGGAGTCATCTGACAGGCAGTTAACACTTAATGAAATTTACAGCTGGTTTACACGGACATTTGCTTACTTCAGGCGTAATGCAGCAACTTGGAAGAATGCAGTACGTCATAATCTTAGCCTGCACAAGTGTTTTGTTCGAGTAGAAAATGTTAAAGGAGCAGTATGGACTGTGGATGAAGTAGAATACCAGAAGCGAAGGTCACAAAAGATAACAGGAAGTCCAACCTTAGTAAAAAATATACCTACCAGTTTAGGCTATGGAGCAGCTCTTAATGCCAGTTTGCAGGCTGCCTTGGCAGAGAGCAGTTTACCTTTGCTAAGTAATCCTGGACTGATAAATAATGCATCCAGTGGCCTACTGCAGGCCGTCCACGAAGACCTCAATGGTTCTCTGGATCACATTGACAGCAATGGAAACAGTAGTCCGGGCTGCTCACCTCAGCCGCACATACATTCAATCCACGTCAAGGAAGAGCCAGTGATTGCAGAGGATGAAGACTGCCCAATGTCCTTAGTGACAACAGCTAATCACAGTCCAGAATTAGAAGACGACAGAGAGATTGAAGAAGAGCCTTTATCTGAAGATCTGGAATGA'),\n",
       " ('DLX5-2', 'CC'),\n",
       " ('PAX4-1', 'A'),\n",
       " ('PAX4-2',\n",
       "  'ATGGCCTGGTCCAGTAAGTCTTGGCTTTGTCTTATAGCCTCCTCCTGTCCCAGGGACACTCTCCTTCCTTCTGCCCATCATGCCTCACCTGTCCCTGCTTCTCACCTGACTCAGGTATCTAATGGCTGTGTGAGCAAGATCCTAGGGCGTTACTACCGCACAGGTGTCTTGGAGCCAAAGGGCATTGGGGGAAGCAAGCCACGGCTGGCTACACCCCCTGTGGTGGCTCGAATTGCCCAGCTGAAGGGTGAGTGTCCAGCCCTCTTTGCCTGGGAAATCCAACGCCAGCTTTGTGCTGAAGGGCTTTGCACCCAGGACAAGACTCCCAGTGTCTCCTCCATCAACCGAGTCCTGCGGGCATTACAGGAGGACCAGGGACTACCGTGCACACGGCTCAGGTCACCAGCTGTTTTGGCTCCAGCTGTCCTCACTCCCCATAGTGGCTCTGAGACTCCCCGGGGTACCCACCCAGGGACCGGCCACCGGAATCGGACTATCTTCTCCCCAAGCCAAGCAGAGGCACTGGAGAAAGAGTTCCAGCGTGGGCAGTATCCTGATTCAGTGGCCCGTGGAAAGCTGGCTACTGCCACCTCTCTGCCTGAGGACACGGTGAGGGTCTGGTTTTCCAACAGAAGAGCCAAATGGCGTCGGCAAGAGAAGCTCAAGTGGGAAATGCAGCTGCCAGGTGCTTCCCAGGGGCTGACTGTACCAAGGGTTGCCCCAGGAATCATCTCTGCACAGGGCCCCACAGTGTTCATGTCAAGAAAGTACTAA'),\n",
       " ('ZNF786-1',\n",
       "  'ATGGCGGAGCCGCCTCGGCTACCTCTGACTTTTGAGGATGTTGCTATTTATTTCTCCGAGCAAGAATGGCAGGATCTAGAGGCATGGCAGAAGGAACTTTACAAGCATGTGATGAGAAGCAATTATGAGACTCTCGTCTCTCTAGATGATGGACTTCCAAAACCAGAACTAATATCCTGGATTGAACACGGGGGAGAGCCCTTCAGGAAATGGAGAGAATCACAGAAATCAGGAAACATAATTTGCTCCTCTGTTGATATGCATTTTGATCCAGGTTTTGAGGAACAGCTGTTTTGGGGAAGCCAGCAGGCTATGAATTCAGGAAAAACTAAAAGCCATTTCCAATTAGATCCTGAAAGCCAGTGTTCCTTTGGATCCTTTGTTTCCTTCAGGCCTGACCAAGGCATCACCCTCGGGAGCCCACAGAGACACGACGCCAGGGCTCCTCCACCACTAGCCTGCGGCCCCAGTGAATCTACCCTAAAAGAAGGAATCCCAGGTCCCAGAAATCTGGATCTTCCTGGTTTGTGGGACGTCCCCGCCTGGGAGAGCACCCAGCACCCTTGGCCTGTCTGCGGGGAAAGCTGTTGGGAGAACAACCATTTAGTAATGCACCAGAGAGGCCACTCAAAGGACCGGACACGTAGGGCCTGGGAGAAATTCAACAAGAGGGCGGAGACGCAGATGCCGTGGAGCAGCCCTCGGGTACAGAGGCACTTCCGGTGTGGCGTGTGCGGTAAGAGCTTCCGCCGGAAGCTGTGTCTGCTGCGCCATCTGGCGGCCCACACGGGGAGGGGCCCCTTCCGGAACGCTGACGGTGAAATGTGCTTCCGACACGAGCTGACCCATCCCAGCCACCGCCTCCCGCAGCAGGGGGAGAAGCCTGCCCAGTGCACCCCATGCGGCAAGCGCTCCCTCCCAGTGGACAGCACGCAGGCTCGCCGGTGCCAGCACAGCCGGGAGGGGCCGGCCTCTTGGAGAGAAGGCCGCGGGGCCTCCAGCAGTGTGCACTCGGGACAGAAACCAGGCTCGCGCCTGCCCCAGGAGGGGAACAGCCACCAGGAAGGGGACACGGAGGCGCTGCAGCATGGCGCAGAGGGGCCCTGCTCCTGCTCGGAGTGTGGCGAGCGCTCCCCTATGAGCGCCAGGCTCGCCAGCCCCTGCAGGGCGCATACTGGAGAAAAGCCCTTCCAGTGTGCGCATTGCACCAAGCGCTTCCGCCTGCGCCGCCTGCTGCAGGTCCACCAGCACGCGCACGGTGGGGAGAGACCGTTCTCCTGCAGGAAGTGTGGCAAGGGCTTCGCCAAGCAGTGTAAACTCACGGAGCACATTCGAGTCCACAGCGGAGAGAAGCCTTTCCGGTGTGCCAAGTGTGGCAGGAACTTCCGTCAGAGGGGACAGCTGCTGCGGCACCAGCGGCTGCACACGGACGAGAAGCCCTTTCAGTGCCCAGAGTGTGGGCTGAGCTTCCGCCTGGAGAGCATGCTGAGAGCCCACCGGCTCCGGCACGGTGGGGAGAGGCCGTTCTCCTGTAGCGAGTGTGGCAGAGGCTTCACCCACCAGTGCAAGCTCCGTGAGCACCTGAGAGTGCACAGCGGGGAGAGGCCCTTCCAGTGCCTGAAGTGCGACAAGCGCTTCCGCCTGAAGGGCATCCTGAAGGCCCACCAGCACACGCACAGCAAGGAGAGGCCGTTCTCGTGCGGGGAGTGTGGCAAGGGCTTCACCAGACAATCCAAGCTCACGGAGCACTTGCGCGTGCACAGCGGGGAGAGACCCTTCCAGTGCCCAGAGTGCAACAGGAGCTTCCGCCTGAAGGGGCAGCTGCTCAGCCATCAGCGCCTGCACACGGGAGAGAGGCCCTTCCAGTGTCCGGAGTGCGACAAGCGCTATCGCGTGAAGGCCGACATGAAGGCCCACCAGCTGCTGCACAGCGGGGAGATGCCTTTCTCCTGTGAGTGCGGCAAGGGCTTTGTGAAACACTCAAAGCTCATCGAGCACATCAGAACGCACACGGGAGAGAAGCCTTTTCAGTGTCCCAAGTGTGACAAGAGTTTCCGCCTGAAGGCGCAGCTGCTCAGCCATCAGGGCCTGCACACAGGGGAGAGGCCTTTTCACTGCCCTGAGTGTGACAAGAACTTCCGGGAAAGGGGACACATGCTGAGGCACCAGCGCATCCACAGGCCCGAGAGGCCCTTTGCCTGTGGCGATTGTGGGAAGGGCTTCATTTACAAGTCTAAGCTTGCGGAGCACATCAGAGTACACACAAAATCCTGTCCTGCTCCAAATGAACTGGACATTAAGAAAAGGCTCAGCCAACTGTTTGCAATGATAGAGGCCGATTGGAGTTGA'),\n",
       " ('SOHLH1-4',\n",
       "  'ATGGCGTCCCGGTGCTCCGAGCCCTACCCGGAGGTCTCCAGAATCCCCACCGTCAGGGGATGCAACGGCTCCCTGTCTGGTGCCCTCTCCTGCTGCGAGGACTCGGCCCAGGGCTCGGGCCCGCCCAAGGCCCCTACGGTGGCCGAGGGTCCCAGCTCCTGCCTTCGGCGGAACGTGATCAGCGAGAGGGAGCGCAGGAAGCGGATGTCGTTGAGCTGTGAGCGTCTGCGGGCCCTGCTGCCCCAGTTCGATGGCCGGCGGGAGGACATGGCCTCGGTCCTGGAGATGTCTGTGCAGTTCCTGCGGCTTGCCAGCGCCCTGGGGCCCAGTCAGGAGCAGCACGCTATTCTTGCTTCCTCCAAGGAAATGTGGCACTCGTTGCAGGAGGATGTTTTACAGTTGACGTTGTCGAGTCAGATTCAAGCAGGTGTGCCAGACCCTGGGACGGGAGCGTCCAGCGGGACTCGAACCCCAGATGTGAAGGCGTTTCTGGAAAGTCCTTGGTCCCTGGATCCAGCGTCGGCCAGCCCAGAGCCCGTGCCGCACATCCTTGCGTCCTCCAGGCAGTGGGACCCCGCGAGCTGCACGTCCCTGGGCACGGACAAGTGTGAGGCACTGTTGGGGCTGTGCCAGGTGCGGGGTGGGCTGCCCCCTTTCTCAGAACCTTCCAGCCTGGTGCCGTGGCCCCCAGGCCGGAGTCTTCCTAAGGCTGTGAGGCCACCCCTGTCCTGGCCTCCGTTCTCGCAGCAGCAGACCTTGCCCGTGATGAGCGGGGAGGCCCTTGGCTGGCTGGGCCAGGCTGGTTCCCTGGCCATGGGGGCTGCACCTCTGGGGGAGCCAGCCAAGGAGGACCCCATGCTGGCGCAGGAGGCCGGGTCTGCGTTGGGGTCTGATGTGGACGATGGGACGTCCTTCCTGCTGACTGCTGGTCCCAGCTCGTGGCCGGGTGAGTGGGGCCCTGGGTTCAGGGCTGGTCCCCCTGCGTAA'),\n",
       " ('KLF4-1', 'T'),\n",
       " ('LHX6-4',\n",
       "  'ATGGCCCAGCCAGGGTCCGGCTGCAAAGCGACCACCCGCTGTCTTGAAGGGACCGCGCCGCCCGCCATGGCTCAGTCTGACGCCGAGGCCCTGGCAGGAGCTCTGGACAAGGACGAGGGTCAGGCCTCCCCATGTACGCCCAGCACGCCATCTGTCTGCTCACCGCCCTCTGCCGCCTCCTCCGTGCCGTCTGCAGGCAAGAACATCTGCTCCAGCTGCGGCCTCGAGATCCTGGACCGATATCTGCTCAAGGTCAACAACCTCATCTGGCACGTGCGGTGCCTCGAGTGCTCCGTGTGTCGCACGTCGCTGAGGCAGCAGAACAGCTGCTACATCAAGAACAAGGAGATCTTCTGCAAGATGGACTACTTCAGCCGATTCGGGACCAAGTGTGCCCGGTGCGGCCGACAGATCTACGCCAGCGACTGGGTGCGGAGAGCTCGCGGCAACGCCTACCACCTGGCCTGCTTCGCCTGCTTCTCGTGCAAGCGCCAGCTGTCCACTGGTGAGGAGTTCGGCCTGGTCGAGGAGAAGGTGCTCTGCCGCATCCACTACGACACCATGATTGAGAACCTCAAGAGGGCCGCCGAGAACGGGAACGGCCTCACGTTGGAGGGGGCAGTGCCCTCGGAACAGGACAGTCAACCCAAGCCGGCCAAGCGCGCGCGGACGTCCTTCACCGCGGAACAGCTGCAGGTTATGCAGGCGCAGTTCGCGCAGGACAACAACCCCGACGCTCAGACGCTGCAGAAGCTGGCGGACATGACGGGCCTCAGCCGGAGAGTCATCCAGGTGTGGTTTCAAAACTGCCGGGCGCGTCATAAAAAGCACACGCCGCAACACCCAGTGCCGCCCTCGGGGGCGCCCCCGTCCCGCCTTCCCTCCGCCCTGTCCGACGACATCCACTACACCCCGTTCAGCAGCCCCGAGCGGGCGCGCATGGTCACCCTGCACGGCTACATTGAGAGTCAGGTACAGTGCGGGCAGGTGCACTGCCGGCTGCCTTACACCGCACCCCCCGTCCACCTCAAAGCCGATATGGATGGGCCGCTCTCCAACCGGGGTGAGAAGGTCATCCTTTTTCAGTACTAA'),\n",
       " ('TCF7L2-2', 'C'),\n",
       " ('TCF7L2-3', 'AC'),\n",
       " ('TCF7L2-4', 'AC'),\n",
       " ('TCF7L2-11',\n",
       "  'ATGCCGCAGCTGAACGGCGGTGGAGGGGATGACCTAGGCGCCAACGACGAACTGATTTCCTTCAAAGACGAGGGCGAACAGGAGGAGAAGAGCTCCGAAAACTCCTCGGCAGAGAGGGATTTAGCTGATGTCAAATCGTCTCTAGTCAATGAATCAGAAACGAATCAAAACAGCTCCTCCGATTCCGAGGCGGAAAGACGGCCTCCGCCTCGCTCCGAAAGTTTCCGAGACAAATCCCGGGAAAGTTTGGAAGAAGCGGCCAAGAGGCAAGATGGAGGGCTCTTTAAGGGGCCACCGTATCCCGGCTACCCCTTCATCATGATCCCCGACCTGACGAGCCCCTACCTCCCCAACGGATCGCTCTCGCCCACCGCCCGAACCTATCTCCAGATGAAATGGCCACTGCTTGATGTCCAGGCAGGGAGCCTCCAGAGTAGACAAGCCCTCAAGGATGCCCGGTCCCCATCACCGGCACACATTGTCTCTAACAAAGTGCCAGTGGTGCAGCACCCTCACCATGTCCACCCCCTCACGCCTCTTATCACGTACAGCAATGAACACTTCACGCCGGGAAACCCACCTCCACACTTACCAGCCGACGTAGACCCCAAAACAGGAATCCCACGGCCTCCGCACCCTCCAGATATATCCCCGTATTACCCACTATCGCCTGGCACCGTAGGACAAATCCCCCATCCGCTAGGATGGCAAGGTCAACCAGTGTACCCAATCACGACAGGAGGATTCAGACACCCCTACCCCACAGCTCTGACCGTCAATGCTTCCATGTCCAGGTTCCCTCCCCATATGGTCCCACCACATCATACGCTACACACGACGGGCATTCCGCATCCGGCCATAGTCACACCAACAGTCAAACAGGAATCGTCCCAGAGTGATGTCGGCTCACTCCATAGTTCAAAGCATCAGGACTCCAAAAAGGAAGAAGAAAAGAAGAAGCCCCACATAAAGAAACCTCTTAATGCATTCATGTTGTATATGAAGGAAATGAGAGCAAAGGTCGTAGCTGAGTGCACGTTGAAAGAAAGCGCGGCCATCAACCAGATCCTTGGGCGGAGGTGGCATGCACTGTCCAGAGAAGAGCAAGCGAAATACTACGAGCTGGCCCGGAAGGAGCGACAGCTTCATATGCAACTGTACCCCGGCTGGTCCGCGCGGGATAACTATGGAAAGAAGAAGAAGAGGAAAAGGGACAAGCAGCCGGGAGAGACCAATGAACACAGCGAATGTTTCCTAAATCCTTGCCTTTCACTTCCTCCGATTACAGGAGAAAAAAAAAGTGCGTTCGCTACATACAAGGTGAAGGCAGCTGCCTCAGCCCACCCTCTTCAGATGGAAGCTTACTAG'),\n",
       " ('LCOR-2',\n",
       "  'ATGCAGCGAATGATCCAACAATTTGCTGCTGAATATACCTCAAAAAATAGCTCTACTCAGGACCCCAGCCAGCCCAATAGCACAAAGAACCAAAGCCTGCCGAAAGCATCTCCAGTCACCACCTCTCCCACGGCTGCAACTACTCAGAACCCTGTGCTCAGCAAACTTCTCATGGCTGACCAAGACTCACCTCTGGACCTTACTGTCAGAAAGTCTCAGTCAGAACCTAGCGAACAAGACGGTGTACTTGATCTGTCCACTAAGAAAAGTCCATGTGCTGGCAGCACTTCCCTGAGCCACTCTCCAGGCTGCTCCAGTACTCAAGGGAACGGGCGACCTGGGAGACCCAGCCAGTACCGCCCAGACGGACTTCGGAGTGGTGATGGGGTACCTCCAAGAAGCTTACAGGATGGAACCAGGGAAGGTTTTGGACACTCCACATCACTCAAAGTTCCACTGGCTCGATCCCTGCAGATTAGTGAAGAACTACTGAGCAGAAACCAATTGTCCACAGCTGCCAGCCTTGGGCCATCTGGATTACAGAATCATGGACAACACTTAATATTATCCAGGGAAGCCTCTTGGGCAAAACCACATTACGAGTTCAACCTCAGCCGTATGAAGTTCAGGGGAAATGGTGCACTCAGCAACATCAGTGACCTTCCTTTTCTTGCAGAAAACTCTGCCTTTCCAAAAATGGCACTTCAAGCAAAACAAGATGGAAAAAAGGATGTGAGCCATTCATCTCCTGTAGATTTAAAGATACCACAAGTTCGAGGAATGGATCTTTCTTGGGAGTCTCGCACTGGTGATCAGTACAGCTATAGCTCTTTGGTAATGGGTTCACAAACGGAGAGCGCGCTTAGTAAAAAATTAAGGGCTATTCTTCCAAAACAAAGTAGAAAAAGCATGTTAGATGCTGGACCCGATTCTTGGGGCTCAGATGCTGAGCAGTCTACCTCTGGACAGCCATATCCCACATCGGATCAAGAAGGAGACCCTGGCTCCAAGCAGCCTCGGAAGAAAAGAGGGCGTTACAGACAGTACAACAGTGAGATACTGGAGGAAGCAATCTCAGTGGTTATGAGTGGAAAAATGAGTGTTTCCAAAGCTCAGAGTATTTATGGGATTCCCCACAGTACACTGGAGTACAAAGTAAAGGAGAGGCTGGGCACTTTGAAAAACCCTCCAAAGAAAAAGATGAAATTAATGAGTGGATGA'),\n",
       " ('KLF6-1',\n",
       "  'ATGGACGTGCTCCCCATGTGCAGCATCTTCCAGGAGCTCCAGATCGTGCACGAGACCGGCTACTTCTCGGCGCTGCCGTCTCTGGAGGAGTACTGGCAACAGACCTGCCTAGAGCTGGAACGTTACCTCCAGAGCGAGCCCTGCTATGTTTCAGCCTCAGAAATCAAATTTGACAGCCAGGAAGATCTGTGGACCAAAATCATTCTGGCTCGGGAGAAAAAGGAGGAATCCGAACTGAAGATATCTTCCAGTCCTCCAGAGGACACTCTCATCAGCCCGAGCTTTTGTTACAACTTAGAGACCAACAGCCTGAACTCAGATGTCAGCAGCGAATCCTCTGACAGCTCCGAGGAACTTTCTCCCACGGCCAAGTTTACCTCCGACCCCATTGGCGAAGTTTTGGTCAGCTCGGGAAAATTGAGCTCCTCTGTCACCTCCACGCCTCCATCTTCTCCGGAACTGAGCAGGGAACCTTCTCAACTGTGGGGTTGCGTGCCCGGGGAGCTGCCCTCGCCAGGGAAGGTGCGCAGCGGGACTTCGGGGAAGCCAGGTGACAAGGGAAATGGCGATGCCTCCCCCGACGGCAGGAGGAGGGTGCACCGGTGCCACTTTAACGGCTGCAGGAAAGTTTACACCAAAAGCTCCCACTTGAAAGCACACCAGCGGACGCACACAGGAGAAAAGCCTTACAGATGCTCATGGGAAGGGTGTGAGTGGCGTTTTGCAAGAAGTGATGAGTTAACCAGGCACTTCCGAAAGCACACCGGGGCCAAGCCTTTTAAATGCTCCCACTGTGACAGGTGTTTTTCCAGGTCTGACCACCTGGCCCTGCACATGAAGAGGCACCTCTGA'),\n",
       " ('EBF3-2',\n",
       "  'ATGTTTGGGATTCAGGAGAATATTCCGCGCGGGGGGACGACCATGAAGGAGGAGCCGCTGGGCAGCGGCATGAACCCGGTGCGCTCGTGGATGCACACGGCGGGCGTGGTGGACGCCAACACGGCCGCCCAGAGCGGCGTGGGGCTGGCGCGGGCGCACTTCGAGAAGCAGCCGCCTTCCAACCTCCGGAAATCCAATTTCTTCCACTTCGTGCTGGCGCTCTACGATAGGCAGGGGCAGCCGGTGGAGATTGAAAGGACCGCTTTTGTGGACTTTGTGGAGAAAGAGAAAGAGCCAAACAACGAGAAAACCAACAACGGCATCCACTATAAACTCCAGTTATTGTACAGCAACGGAGTCAGAACAGAGCAAGATCTGTATGTTCGCCTCATAGATTCAATGACCAAACAGGCCATCGTCTACGAGGGCCAGGACAAGAACCCGGAGATGTGCCGTGTGCTGCTGACCCACGAGATCATGTGCAGCCGGTGCTGTGACAAGAAAAGTTGTGGCAATAGAAACGAAACGCCCTCAGACCCTGTAATCATTGACAGATTCTTTCTAAAGTTTTTCCTCAAGTGCAATCAGAACTGTTTGAAGAATGCAGGCAACCCTCGAGATATGCGGAGATTCCAGGTTGTTGTATCGACAACAGTCAACGTGGACGGCCACGTGCTGGCCGTGTCAGACAACATGTTTGTGCACAACAATTCCAAACACGGGAGGCGGGCCCGCCGCCTAGACCCGTCAGAAGCCACTCCGTGCATCAAGGCCATCAGTCCCAGTGAAGGCTGGACCACGGGGGGTGCCACCGTCATCATAATTGGCGACAACTTCTTTGACGGGCTGCAAGTTGTATTCGGAACTATGTTGGTGTGGAGCGAGCTGATAACTCCCCATGCCATCCGAGTCCAGACCCCGCCGAGGCACATTCCTGGCGTCGTCGAAGTGACCCTCTCCTACAAATCCAAGCAGTTCTGCAAAGGTGCTCCTGGGCGCTTTGTCTACACCGCCCTTAATGAACCAACCATAGATTACGGCTTTCAGAGGTTGCAGAAAGTGATCCCAAGACATCCGGGTGATCCCGAAAGGTTACCCAAGGAGGTGTTACTGAAGCGGGCGGCGGACCTGGTGGAAGCCTTATACGGAATGCCTCACAACAACCAGGAGATCATCTTGAAGCGAGCGGCGGACATCGCCGAGGCGCTGTACAGCGTTCCCCGCAATCACAACCAGATCCCCACCCTGGGCAACAACCCTGCACACACGGGCATGATGGGCGTCAACTCCTTCAGCAGCCAGCTAGCCGTCAACGTGTCAGAGACGTCACAAGCCAACGACCAAGTCGGCTACAGTCGCAATACAAGCAGCGTGTCCCCGCGAGGCTACGTCCCCAGCAGTACTCCCCAGCAGTCCAATTACAACACAGTCAGCACTAGCATGAATGGATATGGAAGTGGCGCCATGGCCAGTCTAGGGGTCCCTGGCTCGCCTGGATTTCTTAATGGCTCCTCCGCTAACTCTCCCTACGGCATGAAACAGAAGAGCGCCTTCGCGCCCGTGGTCCGGCCCCAAGCCTCTCCTCCTCCTTCCTGCACCAGCGCCAACGGGAATGGACTGCAAGCTATGTCTGGGCTGGTAGTCCCGCCAATGTGA'),\n",
       " ('EGR2-1', 'TG'),\n",
       " ('TEAD1-5',\n",
       "  'ATGGAAAGGATGAGTGACTCTGCAGATAAGCCAATTGACAATGATGCAGAAGGGGTCTGGAGCCCCGACATCGAGCAAAGCTTTCAGGAGGCCCTGGCTATCTATCCACCATGTGGGAGGAGGAAAATCATCTTATCAGACGAAGGCAAAATGTATGGTAGGAATGAATTGATAGCCAGATACATCAAACTCAGGACAGGCAAGACGAGGACCAGAAAACAGGTGTCTAGTCACATTCAGGTTCTTGCCAGAAGGAAATCTCGTGATTTTCATTCCAAGCTAAAGGTAACAAGCATGGATCAGACTGCAAAGGATAAGGCCCTGCAGCACATGGCGGCCATGTCCTCAGCCCAGATCGTCTCGGCCACTGCCATTCATAACAAGCTGGGGCTGCCTGGGATTCCACGCCCGACCTTCCCAGGGGCGCCGGGGTTCTGGCCGGGAATGATTCAAACAGGGCAGCCAGGATCCTCACAAGACGTCAAGCCTTTTGTGCAGCAGGCCTACCCCATCCAGCCAGCGGTCACAGCCCCCATTCCAGGGTTTGAGCCTGCATCGGCCCCAGCTCCCTCAGTCCCTGCCTGGCAAGGTCGCTCCATTGGCACAACCAAGCTTCGCCTGGTGGAATTTTCAGCTTTTCTCGAGCAGCAGCGAGACCCAGACTCGGCTGATTTAAACTGCAATATTCAAGATGATGCTGGGGCTTTTTATGGTGTAACCAGTCAGTACGAGAGTTCTGAAAATATGACAGTCACCTGTTCCACCAAAGTTTGCTCCTTTGGGAAGCAAGTAGTAGAAAAAGTAGAGACGGAGTATGCAAGGTTTGAGAATGGCCGATTTGTATACCGAATAAACCGCTCCCCAATGTGTGAATATATGATCAACTTCATCCACAAGCTCAAACACTTACCAGAGAAATATATGATGAACAGTGTTTTGGAAAACTTCACAATTTTATTGGTGGTAACAAACAGGGATACACAAGAAACTCTACTCTGCATGGCCTGTGTGTTTGAAGTTTCAAATAGTGAACACGGAGCACAACATCATATTTACAGGCTTGTAAAGGACTGA'),\n",
       " ('OVOL1-1',\n",
       "  'ATGCCCCGCGCGTTCCTGGTGAAGAAGCCGTGCGTCTCCACGTGCAAGAGGAACTGGAGCGAGCTCCCCGACGAGGAGCGCGGCGAGATCTACGTGCCAGTCAGCCTGGGCTTCTGCCCACCACAGCCCTACCGGGAGCCGGAACCCTCTGTGGCCGAACCCCCTTCCTGCCCGCTGGCTTTGAACATGAGCCTTCGAGACTCTAGCTACAGCATGGCCCCCGGGCCCTGTGTGGTGGCCCAGCTGCCCTCTGAAGACATGGGCCACTTGACAGACCCCCAGAGCAGAGACCATGGCTTCCTGCGCACCAAGATGAAGGTGACCCTTGGGGACAGTCCCAGTGGAGACCTGTTCACCTGCCGTGTCTGCCAGAAGGCCTTCACCTACCAGCGCATGCTGAACCGCCACATGAAGTGTCACAACGACGTCAAGAGGCACCTCTGCACGTACTGCGGGAAGGGCTTCAATGACACCTTCGACCTCAAGAGACACGTCCGAACTCACACTGGCGTGCGGCCCTACAAGTGCAGCCTGTGTGACAAGGCCTTCACGCAGCGCTGCTCTCTGGAGTCTCACCTCAAGAAGATCCATGGTGTGCAGCAGAAGTACGCGTACAAGGAGCGGCGGGCCAAGCTGTACGTGTGTGAGGAGTGCGGCTGCACATCTGAGAGCCAGGAGGGCCACGTCCTGCACCTGAAGGAGCACCACCCTGACAGCCCGCTGCTGCGCAAGACCTCCAAGAAGGTGGCCGTGGCACTACAGAACACTGTCACTTCCCTGCTGCAGGGCAGCCCCCACCTGTGA'),\n",
       " ('NR1H3-1',\n",
       "  'ATGCCCCACTCTGCTGGGGGTACTGCAGGGGTGGGGCTGGAGGCTGCAGAGCCCACAGCCCTGCTCACCAGGGCAGAGCCCCCTTCAGAACCCACAGAGATCCGTCCACAAAAGCGGAAAAAGGGGCCAGCCCCCAAAATGCTGGGGAACGAGCTATGCAGCGTGTGTGGGGACAAGGCCTCGGGCTTCCACTACAATGTTCTGAGCTGCGAGGGCTGCAAGGGATTCTTCCGCCGCAGCGTCATCAAGGGAGCGCACTACATCTGCCACAGTGGCGGCCACTGCCCCATGGACACCTACATGCGTCGCAAGTGCCAGGAGTGTCGGCTTCGCAAATGCCGTCAGGCTGGCATGCGGGAGGAGTGTGTCCTGTCAGAAGAACAGATCCGCCTGAAGAAACTGAAGCGGCAAGAGGAGGAACAGGCTCATGCCACATCCTTGCCCCCCAGGGCTTCCTCACCCCCCCAAATCCTGCCCCAGCTCAGCCCGGAACAACTGGGCATGATCGAGAAGCTCGTCGCTGCCCAGCAACAGTGTAACCGGCGCTCCTTTTCTGACCGGCTTCGAGTCACGCCTTGGCCCATGGCACCAGATCCCCATAGCCGGGAGGCCCGTCAGCAGCGCTTTGCCCACTTCACTGAGCTGGCCATCGTCTCTGTGCAGGAGATAGTTGACTTTGCTAAACAGCTACCCGGCTTCCTGCAGCTCAGCCGGGAGGACCAGATTGCCCTGCTGAAGACCTCTGCGATCGAGGTGATGCTTCTGGAGACATCTCGGAGGTACAACCCTGGGAGTGAGAGTATCACCTTCCTCAAGGATTTCAGTTATAACCGGGAAGACTTTGCCAAAGCAGGGCTGCAAGTGGAATTCATCAACCCCATCTTCGAGTTCTCCAGGGCCATGAATGAGCTGCAACTCAATGATGCCGAGTTTGCCTTGCTCATTGCTATCAGCATCTTCTCTGCAGACCGGCCCAACGTGCAGGACCAGCTCCAGGTAGAGAGGCTGCAGCACACATATGTGGAAGCCCTGCATGCCTACGTCTCCATCCACCATCCCCATGACCGACTGATGTTCCCACGGATGCTAATGAAACTGGTGAGCCTCCGGACCCTGAGCAGCGTCCACTCAGAGCAAGTGTTTGCACTGCGTCTGCAGGACAAAAAGCTCCCACCGCTGCTCTCTGAGATCTGGGATGTGCACGAATGA'),\n",
       " ('NR1H3-2',\n",
       "  'ATGTCCTTGTGGCTGGGGGCCCCTGTGCCTGACATTCCTCCTGACTCTGCGGTGGAGCTGTGGAAGCCAGGCGCACAGGATGCAAGCAGCCAGGCCCAGGGAGGCAGCAGCTGCATCCTCAGAGAGGAAGCCAGGATGCCCCACTCTGCTGGGGGTACTGCAGGGGTGGGGCTGGAGGCTGCAGAGCCCACAGCCCTGCTCACCAGGGCAGAGCCCCCTTCAGAACCCACAGAGATCCGTCCACAAAAGCGGAAAAAGGGGCCAGCCCCCAAAATGCTGGGGAACGAGCTATGCAGCGTGTGTGGGGACAAGGCCTCGGGCTTCCACTACAATGTTCTGAGCTGCGAGGGCTGCAAGGGATTCTTCCGCCGCAGCGTCATCAAGGGAGCGCACTACATCTGCCACAGTGGCGGCCACTGCCCCATGGACACCTACATGCGTCGCAAGTGCCAGGAGTGTCGGCTTCGCAAATGCCGTCAGGCTGGCATGCGGGAGGAGTGTGTCCTGTCAGAAGAACAGATCCGCCTGAAGAAACTGAAGCGGCAAGAGGAGGAACAGGCTCATGCCACATCCTTGCCCCCCAGGGCTTCCTCACCCCCCCAAATCCTGCCCCAGCTCAGCCCGGAACAACTGGGCATGATCGAGAAGCTCGTCGCTGCCCAGCAACAGTGTAACCGGCGCTCCTTTTCTGACCGGCTTCGAGTCACGGTGATGCTTCTGGAGACATCTCGGAGGTACAACCCTGGGAGTGAGAGTATCACCTTCCTCAAGGATTTCAGTTATAACCGGGAAGACTTTGCCAAAGCAGGGCTGCAAGTGGAATTCATCAACCCCATCTTCGAGTTCTCCAGGGCCATGAATGAGCTGCAACTCAATGATGCCGAGTTTGCCTTGCTCATTGCTATCAGCATCTTCTCTGCAGACCGGCCCAACGTGCAGGACCAGCTCCAGGTAGAGAGGCTGCAGCACACATATGTGGAAGCCCTGCATGCCTACGTCTCCATCCACCATCCCCATGACCGACTGATGTTCCCACGGATGCTAATGAAACTGGTGAGCCTCCGGACCCTGAGCAGCGTCCACTCAGAGCAAGTGTTTGCACTGCGTCTGCAGGACAAAAAGCTCCCACCGCTGCTCTCTGAGATCTGGGATGTGCACGAATGA'),\n",
       " ('ZBTB16-1', 'TG'),\n",
       " ('ZBTB16-2', 'TG'),\n",
       " ('ELF5-2',\n",
       "  'ATGTTGGACTCGGTGACACACAGCACCTTCCTGCCTAATGCATCCTTCTGCGATCCCCTGATGTCGTGGACTGATCTGTTCAGCAATGAAGAGTACTACCCTGCCTTTGAGCATCAGACAGCCTGTGACTCATACTGGACATCAGTCCACCCTGAATACTGGACTAAGCGCCATGTGTGGGAGTGGCTCCAGTTCTGCTGCGACCAGTACAAGTTGGACACCAATTGCATCTCCTTCTGCAACTTCAACATCAGTGGCCTGCAGCTGTGCAGCATGACACAGGAGGAGTTCGTCGAGGCAGCTGGCCTCTGCGGCGAGTACCTGTACTTCATCCTCCAGAACATCCGCACACAAGGTTACTCCTTTTTTAATGACGCTGAAGAAAGCAAGGCCACCATCAAAGACTATGCTGATTCCAACTGCTTGAAAACAAGTGGCATCAAAAGTCAAGACTGTCACAGTCATAGTAGAACAAGCCTCCAAAGTTCTCATCTATGGGAATTTGTACGAGACCTGCTTCTATCTCCTGAAGAAAACTGTGGCATTCTGGAATGGGAAGATAGGGAACAAGGAATTTTTCGGGTGGTTAAATCGGAAGCCCTGGCAAAGATGTGGGGACAAAGGAAGAAAAATGACAGAATGACATATGAAAAGTTGAGCAGAGCCCTGAGATACTACTATAAAACAGGAATTTTGGAGCGGGTTGACCGAAGGTTAGTGTACAAATTTGGAAAAAATGCACACGGGTGGCAGGAAGACAAGCTATGA'),\n",
       " ('RELA-3',\n",
       "  'ATGGACGAACTGTTCCCCCTCATCTTCCCGGCAGAGCCAGCCCAGGCCTCTGGCCCCTATGTGGAGATCATTGAGCAGCCCAAGCAGCGGGGCATGCGCTTCCGCTACAAGTGCGAGGGGCGCTCCGCGGGCAGCATCCCAGGCGAGAGGAGCACAGATACCACCAAGACCCACCCCACCATCAAGATCAATGGCTACACAGGACCAGGGACAGTGCGCATCTCCCTGGTCACCAAGGACCCTCCTCACCGGCCTCACCCCCACGAGCTTGTAGGAAAGGACTGCCGGGATGGCTTCTATGAGGCTGAGCTCTGCCCGGACCGCTGCATCCACAGTTTCCAGAACCTGGGAATCCAGTGTGTGAAGAAGCGGGACCTGGAGCAGGCTATCAGTCAGCGCATCCAGACCAACAACAACCCCTTCCAAGTTCCTATAGAAGAGCAGCGTGGGGACTACGACCTGAATGCTGTGCGGCTCTGCTTCCAGGTGACAGTGCGGGACCCATCAGGCAGGCCCCTCCGCCTGCCGCCTGTCCTTTCTCATCCCATCTTTGACAATCGTGCCCCCAACACTGCCGAGCTCAAGATCTGCCGAGTGAACCGAAACTCTGGCAGCTGCCTCGGTGGGGATGAGATCTTCCTACTGTGTGACAAGGTGCAGAAAGAGGACATTGAGGTGTGTCCCCAAGCCAGCACCCCAGCCCTATCCCTTTACGTCATCCCTGAGCACCATCAACTATGA'),\n",
       " ('ZBTB44-1',\n",
       "  'ATGGGTGTGAAAACATTTACTCATAGCTCCTCTTCCCACAGCCAGGAAATGCTTGGAAAGCTAAATATGCTGCGAAATGATGGACATTTTTGTGATATCACTATTCGTGTCCAGGACAAAATCTTCCGGGCACATAAGGTGGTACTAGCAGCTTGCAGTGATTTCTTTCGCACCAAACTTGTAGGCCAAGCCGAGGATGAGAACAAGAATGTGTTGGATCTGCATCATGTTACAGTGACTGGCTTTATACCTCTTTTAGAATATGCTTACACAGCCACTCTATCAATTAACACAGAAAATATTATTGATGTTCTAGCAGCAGCCAGCTATATGCAAATGTTCAGTGTTGCCAGCACCTGCTCAGAGTTCATGAAATCAAGCATTTTATGGAATACACCCAACAGCCAACCTGAAAAGGGTCTAGATGCTGGACAAGAAAATAATTCTAACTGCAATTTTACTTCTCGAGATGGGAGCATTTCTCCCGTGTCCTCAGAGTGCAGTGTGGTAGAAAGAACCATTCCTGTCTGCCGAGAATCCCGGAGAAAGCGCAAAAGCTACATTGTTATGTCTCCTGAAAGTCCTGTAAAGTGTGGCACACAAACAAGCTCACCCCAGGTATTGAATTCTTCAGCTTCCTACTCAGAAAATAGAAACCAACCAGTTGACTCTTCCTTAGCTTTTCCTTGGACTTTTCCTTTTGGAATTGATCGAAGGATTCAGCCTGAGAAAGTTAAGCAAGCAGAAAATACCCGGACTTTAGAATTACCTGGCCCATCTGAGACCGGTAGAAGAATGGCTGATTATGTGACTTGTGAGAGCACAAAAACTACCTTGCCTTTAGGTACCGAAGAAGATGTCCGGGTCAAAGTAGAAAGATTAAGTGATGAGGAGGTCCATGAGGAAGTGTCCCAGCCTGTCAGTGCATCTCAGAGTTCGCTGAGTGATCAGCAGACAGTTCCAGGAAGTGAACAAGTCCAAGAGGACCTTCTGATTAGTCCACAGTCTTCCTCTATAGGCTCAGTAGATGAAGGCGTTTCTGAGGGCTTGCCTACACTTCAAAGCACGTCTAGCACTAATGCTCCTCCGGATGATGATGATCGATTGGAAAATGTTCAGTATCCCTACCAACTCTACATTGCTCCTTCCACCAGCAGTACAGAGCGACCAAGTCCAAATGGTCCCGACAGACCTTTTCAGTGTCCAACCTGCGGGGTGCGATTCACCCGTATTCAGAACCTAAAGCAGCACATGCTCATCCACTCAGGAATTAAACCATTTCAGTGTGACCGCTGTGGGAAAAAGTTCACCAGGGCTTACTCGCTAAAGATGCATCGCCTAAAGCATGAAGGTAAACGCTGTTTCCGGTGCCAGATATGTAGTGCCACTTTCACTTCCTTCGGGGAATATAAACACCACATGAGGGTTTCCCGGCACATTATCCGCAAGCCTCGGATTTACGAGTGCAAAACATGTGGCGCCATGCTCACCAACTCTGGAAATTTAATCGTGCACCTGAGGAGTCTGAACCATGAAGCATCAGAGCTAGCAAACTACTTCCAGAGCAGTGATTTCCTAGTACCGGACTACTTAAACCAGGAACAAGAAGAGACCCTTGTTCAATATGATCTTGGAGAACACGGTTTTGAAAGCAACTCCTCTGTTCAAATGCCTGTCATTTCACAGTACCACTCCAAAGGCAAGGAACCATGA'),\n",
       " ('ZBTB44-2', 'A'),\n",
       " ('ZBTB44-3', 'A'),\n",
       " ('ZBTB44-4', 'A'),\n",
       " ('ZBTB44-5', 'A'),\n",
       " ('ZBTB44-6',\n",
       "  'ATGGGTGTGAAAACATTTACTCATAGCTCCTCTTCCCACAGCCAGGAAATGCTTGGAAAGCTAAATATGCTGCGAAATGATGGACATTTTTGTGATATCACTATTCGTGTCCAGGACAAAATCTTCCGGGCACATAAGGTGGTACTAGCAGCTTGCAGTGATTTCTTTCGCACCAAACTTGTAGGCCAAGCCGAGGATGAGAACAAGAATGTGTTGGATCTGCATCATGTTACAGTGACTGGCTTTATACCTCTTTTAGAATATGCTTACACAGCCACTCTATCAATTAACACAGAAAATATTATTGATGTTCTAGCAGCAGCCAGCTATATGCAAATGTTCAGTGTTGCCAGCACCTGCTCAGAGTTCATGAAATCAAGCATTTTATGGAATACACCCAACAGCCAACCTGAAAAGGGTCTAGATGCTGGACAAGAAAATAATTCTAACTGCAATTTTACTTCTCGAGATGGGAGCATTTCTCCCGTGTCCTCAGAGTGCAGTGTGGTAGAAAGAACCATTCCTGTCTGCCGAGAATCCCGGAGAAAGCGCGAAAGCTACATTGTTATGTCTCCTGAAAGTCCTGTAAAGTGTGGCACACAAACAAGCTCACCCCAGGTATTGAATTCTTCAGCTTCCTACTCAGAAAATAGAAACCAACCAGTTGACTCTTCCTTAGCTTTTCCTTGGACTTTTCCTTTTGGAATTGATCGAAGGATTCAGCCTGAGAAAGTTAAGCAAGCAGAAAATACCCGGACTTTAGAATTACCTGGCCCATCTGAGACCGGTAGAAGAATGGCTGATTATGTGACTTGTGAGAGCACAAAAACTACCTTGCCTTTAGGTACCGAAGAAGATGTCCGGGTCAAAGTAGAAAGATTAAGTGATGAGGAGGTCCATGAGGAAGTGTCCCAGCCTGTCAGTGCATCTCAGAGTTCGCTGAGTGATCAGCAGACAGTTCCAGGAAGTGAACAAGTCCAAGAGGACCTTCTGATTAGTCCACAGTCTTCCTCTATAGGCTCAGTAGATGAAGGCGTTTCTGAGGGCTTGCCTACACTTCAAAGCACGTCTAGCACTAATGCTCCTCCGGATGATGATGATCGATTGGAAAATGTTCAGTATCCCTACCAACTCTACATTGCTCCTTCCACCAGCAGTACAGAGCGACCAAGTCCAAATGGTCCCGACAGACCTTTTCAGTGTCCAACCTGCGGGGTGCGATTCACCCGTATTCAGAACCTAAAGCAGCACATGCTCATCCACTCAGGAATTAAACCATTTCAGTGTGACCGCTGTGGGAAAAAGTTCACCAGGGCTTACTCGCTAAAGATGCATCGCCTAAAGCATGAAGGGCATCCCAGGAAATCAGCTTCTAGATCTAGCTCTGCCACTAACTGCTGTTGA'),\n",
       " ('WT1-1', 'TG'),\n",
       " ('WT1-2', 'TG'),\n",
       " ('WT1-4', 'TG'),\n",
       " ('MYF6-1', 'AG'),\n",
       " ('ARNTL2-2',\n",
       "  'ATGGCGGCGGAAGAGGAGGCTGCGGCGGGAGGTGAGGTTGCCGGTGGCGAGGCGACGGCCCCAGGTAAAGTGTTGAGAGAGGAGAACCAGTGCATTGCTCCTGTGGTTTCCAGCCGCGTGAGTCCAGGGACAAGACCAACAGCTATGGGGTCTTTCAGCTCACACATGACAGAGTTTCCACGAAAACGCAAAGGAAGTGATTCAGACCCATCCCAAGAAGCTCATAGCCAAACTGAAAAGCGGAGGAGAGATAAAATGAATAACCTGATTGAAGAACTGTCTGCAATGATCCCTCAGTGCAACCCCATGGCGCGTAAACTGGACAAACTTACAGTTTTAAGAATGGCTGTTCAACACTTGAGATCTTTAAAAGGCTTGACAAATTCTTATGTGGGAAGTAATTATAGACCATCATTTCTTCAGGATAATGAGCTCAGACATTTAATCCTTAAGACTGCAGAAGGCTTCTTATTTGTGGTTGGATGTGAAAGAGGAAAAATTCTCTTCGTTTCTAAGTCAGTCTCCAAAATACTTAATTATGATCAGGCTAGTTTGACTGGACAAAGCTTATTTGACTTCTTACATCCAAAAGATGTTGCCAAAGTAAAGGAACAACTTTCTTCTTTTGATATTTCACCAAGAGAAAAGCTAATAGATGCCAAAACTGGTTTGCAAGTTCACAGTAATCTCCACGCTGGAAGGACACGTGTGTATTCTGGCTCAAGACGATCTTTTTTCTGTCGGATAAAGAGTTGTAAAATCTCTGTCAAAGAAGAGCATGGATGCTTACCCAACTCAAAGAAGAAAGAGCACAGAAAATTCTATACTATCCATTGCACTGGTTACTTGAGAAGCTGGCCTCCAAATATTGTTGGAATGGAAGAAGAAAGGAACAGTAAGAAAGACAACAGTAATTTTACCTGCCTTGTGGCCATTGGAAGATTACAGCCATATATTGTTCCACAGAACAGTGGAGAGATTAATGTGAAACCAACTGAATTTATAACCCGGTTTGCAGTGAATGGAAAATTTGTCTATGTAGATCAAAGGGCAACAGCGATTTTAGGATATCTGCCTCAGGAACTTTTGGGAACTTCTTGTTATGAATATTTTCATCAAGATGACCACAATAATTTGACTGACAAGCACAAAGCAGTTCTACAGAGTAAGGAGAAAATACTTACAGATTCCTACAAATTCAGAGCAAAAGATGGCTCTTTTGTAACTTTAAAAAGCCAATGGTTTAGTTTCACAAATCCTTGGACAAAAGAACTGGAATATATTGTATCTGTCAACACTTTAGTTTTGGGACATAGTGAGCCTGGAGAAGCATCATTTTTACCTTGTAGCTCTCAATCATCAGAAGAATCCTCTAGACAGTCCTGTATGAGTGTACCTGGAATGTCTACTGGAACAGTACTTGGTGCTGGTAGTATTGGAACAGATATTGCAAATGAAATTCTGGATTTACAGAGGTTACAGTCTTCTTCATACCTTGATGATTCGAGTCCAACAGGTTTAATGAAAGATACTCATACTGTAAACTGCAGGAGTATGTCAAATAAGGAGTTGTTTCCACCAAGTCCTTCTGAAATGGGGGAGCTAGAGGCTACCAGGCAAAACCAGAGTACTGTTGCTGTCCACAGCCATGAGCCACTCCTCAGTGATGGTGCACAGTTGGATTTCGATGCCCTATGTGACAATGATGACACAGCCATGGCTGCATTTATGAATTACTTAGAAGCAGAGGGGGGCCTGGGAGACCCTGGGGACTTCAGTGACATCCAGTGGACCCTCTAG'),\n",
       " ('ETV6-2', 'G'),\n",
       " ('ELK3-1',\n",
       "  'ATGGAGAGTGCAATCACGCTGTGGCAGTTCCTGTTGCAGTTGCTGCTGGATCAGAAACATGAGCATTTGATCTGCTGGACCTCGAACGATGGTGAATTCAAGCTCCTCAAAGCAGAAGAAGTGGCCAAGCTGTGGGGACTCCGAAAAAACAAAACAAATATGAACTATGATAAGCTGAGCAGAGCCCTGCGATACTATTATGACAAGAACATCATCAAGAAGGTGATCGGGCAGAAGTTTGTGTACAAGTTTGTCTCTTTCCCGGAGATCCTGAAGATGGATCCTCACGCGGTGGAGATCAGCCGGGAGAGCCTTCTGCTGCAGGACAGCGACTGCAAGGCGTCTCCGGAGGGCCGCGAGGCCCACAAACACGGCCTGGCCGCCCTCAGAAGCACGAGCCGCAACGAATACATCCACTCAGGCCTGTACTCGTCCTTCACCATTAATTCCCTGCAGAACCCACCAGACGCCTTCAAGGCCATCAAGACGGAGAAGCTGGAGGAGCCGCCCGAAGACAGCCCCCCCGTGGAAGAAGTCAGGACTGTGATCAGGTTTGTGACCAATAAAACCGACAAGCACGTCACCAGGCCGGTGGTGTCCCTGCCTTCCACGTCAGAGGCTGCGGCGGCGTCCGCCTTCCTGGCCTCGTCCGTCTCGGCCAAGATCTCCTCTTTAATGTTGCCAAACGCTGCCAGTATTTCATCCGCCTCACCCTTCTCATCTCGGTCCCCGTCCCTGTCCCCCAACTCACCCCTCCCTTCTGAACACAGAAGCCTCTTCCTGGAGGCCGCCTGCCATGACTCCGATTCCCTGGAGCCCTTGAACCTGTCATCGGGCTCCAAGACCAAGTCTCCATCTCTTCCCCCAAAGGCCAAAAAACCCAAAGGCTTGGAAATCTCAGCGCCCCCGCTGGTGCTCTCCGGCACCGACATCGGCTCCATCGCCCTCAACAGCCCAGCCCTCCCCTCGGGATCCCTCACCCCAGCCTTCTTCACCGCACAGACACCAAATGGATTGCTTCTGACTCCGAGTCCACTGCTCTCCAGCATACATTTCTGGAGCAGCCTTAGTCCAGTTGCTCCGCTGAGTCCTGCCAGGCTGCAAGGGCCAAGCACGCTGTTCCAGTTCCCCACACTGCTTAATGGCCACATGCCAGTGCCAATCCCCAGTCTGGACAGAGCTGCTTCTCCAGTACTGCTTTCTTCAAACTCTCAGAAATCCTGA'),\n",
       " ('RFX4-3',\n",
       "  'ATGAACTGGGCTGCCTTCGGAGGGTCTGAATTCTTCATCCCAGAAGGCATTCAGATAGATTCGAGATGCCCACTAAGCAGAAATATCACGGAATGGTACCATTACTATGGCATTGCAGTGAAAGAAAGCTCCCAATATTATGATGTGATGTATTCCAAGAAAGGAGCTGCCTGGGTGAGTGAGACGGGCAAGAAAGAAGTGAGCAAACAGACAGTGGCATATTCACCCCGGTCCAAACTCGGAACACTGCTGCCAGAATTTCCCAATGTCAAAGATCTAAATCTGCCAGCCAGCCTGCCTGAGGAGAAGGTTTCTACCTTTATTATGATGTACAGAACACACTGTCAGAGAATACTGGACACTGTAATAAGAGCCAACTTTGATGAGGTTCAAAGTTTCCTTCTGCACTTTTGGCAAGGAATGCCGCCCCACATGCTGCCTGTGCTGGGCTCCTCCACGGTGGTGAACATTGTCGGCGTGTGTGACTCCATCCTCTACAAAGCTATCTCCGGGGTGCTGATGCCCACTGTGCTGCAGGCATTACCTGACAGCTTAACTCAGGTGATTCGAAAGTTTGCCAAGCAACTGGATGAGTGGCTAAAAGTGGCTCTCCACGACCTCCCAGAAAACTTGCGAAACATCAAGTTCGAATTGTCGAGAAGGTTCTCCCAAATTCTGAGACGGCAAACATCACTAAATCATCTCTGCCAGGCATCTCGAACAGTGATCCACAGTGCAGACATCACGTTCCAAATGCTGGAAGACTGGAGGAACGTGGACCTGAACAGCATCACCAAGCAAACCCTTTACACCATGGAAGACTCTCGCGATGAGCACCGGAAACTCATCACCCAATTATATCAGGAGTTTGACCATCTCTTGGAGGAGCAGTCTCCCATCGAGTCCTACATTGAGTGGCTGGATACCATGGTTGACCGCTGTGTTGTGAAGGTGGCTGCCAAGAGACAAGGGTCCTTGAAGAAAGTGGCCCAGCAGTTCCTCTTGATGTGGTCCTGTTTCGGCACAAGGGTGATCCGGGACATGACCTTGCACAGCGCCCCCAGCTTCGGGTCTTTTCACCTAATTCACTTAATGTTTGATGACTACGTGCTCTACCTGTTAGAATCTCTGCACTGTCAGGAGCGGGCCAATGAGCTCATGCGAGCCATGAAGGGAGAAGGAAGCACTGCAGAAGTCCGAGAAGAGATCATCTTGACAGAGGCTGCCGCACCAACCCCTTCACCAGTGCCATCGTTTTCTCCAGCAAAATCTGCCACATCTGTGGAAGTGCCACCTCCCTCTTCCCCTGTTAGCAATCCTTCCCCTGAGTACACTGGCCTCAGCACTACAGGAGCAATGCAGTCTTACACGTGGTCTCTAACATACACAGTGACGACGGCTGCTGGGTCCCCAGCTGAGAACTCCCAACAGCTGCCCTGTATGAGGAACACTCATGTGCCTTCTTCCTCCGTCACACACAGGATACCAGTTTATCCCCACAGAGAGGAACATGGATACACGGGAAGCTATAACTATGGGAGCTATGGCAACCAGCATCCTCACCCCATGCAGAGCCAGTATCCGGCCCTCCCTCATGACACAGCTATCTCTGGGCCACTCCACTATGCCCCTTACCACAGGAGCTCTGCACAGTACCCTTTTAATAGCCCCACTTCCCGGATGGAACCTTGTTTGATGAGCAGTACTCCCAGACTGCATCCTACCCCAGTCACTCCCCGCTGGCCAGAGGTGCCCTCAGCCAACACGTGCTACACAAGCCCGTCTGTGCATTCTGCGAGGTACGGAAACTCTAGTGACATGTATACACCTCTGACAACGCGCAGGAATTCTGAATATGAGCACATGCAACACTTTCCTGGCTTTGCTTACATCAACGGAGAGGCCTCTACAGGATGGGCTAAATGA'),\n",
       " ('AEBP2-2', 'GG'),\n",
       " ('VDR-2',\n",
       "  'ATGGAGGCAATGGCGGCCAGCACTTCCCTGCCTGACCCTGGAGACTTTGACCGGAACGTGCCCCGGATCTGTGGGGTGTGTGGAGACCGAGCCACTGGCTTTCACTTCAATGCTATGACCTGTGAAGGCTGCAAAGGCTTCTTCAGGCGAAGCATGAAGCGGAAGGCACTATTCACCTGCCCCTTCAACGGGGACTGCCGCATCACCAAGGACAACCGACGCCACTGCCAGGCCTGCCGGCTCAAACGCTGTGTGGACATCGGCATGATGAAGGAGTTCATTCTGACAGATGAGGAAGTGCAGAGGAAGCGGGAGATGATCCTGAAGCGGAAGGAGGAGGAGGCCTTGAAGGACAGTCTGCGGCCCAAGCTGTCTGAGGAGCAGCAGCGCATCATTGCCATACTGCTGGACGCCCACCATAAGACCTACGACCCCACCTACTCCGACTTCTGCCAGTTCCGGCCTCCAGTTCGTGTGAATGATGGTGGAGGGAGCCATCCTTCCAGGCCCAACTCCAGACACACTCCCAGCTTCTCTGGGGACTCCTCCTCCTCCTGCTCAGATCACTGTATCACCTCTTCAGACATGATGGACTCGTCCAGCTTCTCCAATCTGGATCTGAGTGAAGAAGATTCAGATGACCCTTCTGTGACCCTAGAGCTGTCCCAGCTCTCCATGCTGCCCCACCTGGCTGACCTGGTCAGTTACAGCATCCAAAAGGTCATTGGCTTTGCTAAGATGATACCAGGATTCAGAGACCTCACCTCTGAGGACCAGATCGTACTGCTGAAGTCAAGTGCCATTGAGGTCATCATGTTGCGCTCCAATGAGTCCTTCACCATGGACGACATGTCCTGGACCTGTGGCAACCAAGACTACAAGTACCGCGTCAGTGACGTGACCAAAGCCGGACACAGCCTGGAGCTGATTGAGCCCCTCATCAAGTTCCAGGTGGGACTGAAGAAGCTGAACTTGCATGAGGAGGAGCATGTCCTGCTCATGGCCATCTGCATCGTCTCCCCAGATCGTCCTGGGGTGCAGGACGCCGCGCTGATTGAGGCCATCCAGGACCGCCTGTCCAACACACTGCAGACGTACATCCGCTGCCGCCACCCGCCCCCGGGCAGCCACCTGCTCTATGCCAAGATGATCCAGAAGCTAGCCGACCTGCGCAGCCTCAATGAGGAGCACTCCAAGCAGTACCGCTGCCTCTCCTTCCAGCCTGAGTGCAGCATGAAGCTAACGCCCCTTGTGCTCGAAGTGTTTGGCAATGAGATCTCCTGA'),\n",
       " ('TFCP2-3', 'G'),\n",
       " ('KLF12-1', 'TG'),\n",
       " ('ZNF410-2',\n",
       "  'ATGTTATCAGATGAGTTAGAATCCAAACCAGAGCTCCTGGTACAGTTTGTTCAGAATACGTCCATCCCATTGGGACAGGGGCTTGTAGAATCAGAAGCTAAAGATATTACTTGCTTGTCCCTCCTTCCCGTGACTGAAGCCTCAGAATGCAGTCGGCTAATGTTACCAGATGATACTACAAATCATTCTAACTCCTCCAAGGAGGTCCCTTCCTCAGCTGTTTTGAGAAGCCTTCGGGTGAATGTGGGTCCAGACGGAGAGGAGACGAGAGCTCAGACTGTACAGAAATCCCCGGAGTTTTTGTCCACTTCAGAGTCTTCTAGCTTGTTGCAAGATCTACAGCCAAGTGATAGCACTTCTTTTATTCTTCTTAACCTAACAAGAGCAGGTCTGGGCTCTTCAGCTGAGCACTTAGTGTTTGTACAGGATGAGGCAGAAGATTCAGGGAATGATTTCCTCTCCAGTGAGAGCACAGACAGTAGCATTCCATGGTTCCTCCGGGTTCAGGAGTTGGCCCATGACAGTTTGATTGCTGCTACTCGTGCACAACTGGCAAAGAATGCAAAAACCAGCAGCAATGGAGAAAATGTCCACCTTGGTTCTGGTGATGGGCAGTCAAAAGATTCTGGGCCCCTTCCTCAAGTGGAAAAGAAGCTCAAGTGTACAGTTGAAGGTTGTGACCGGACATTTGTATGGCCAGCTCACTTTAAATACCACCTCAAGACTCATCGAAATGACCGCTCCTTCATCTGTCCTGCAGAAGGTTGTGGGAAAAGCTTCTATGTGCTGCAGAGGCTGAAGGTGCACATGAGGACCCACAATGGAGAGAAGCCCTTTATGTGCCATGAGTCTGGCTGTGGTAAGCAGTTTACTACAGCTGGAAACCTGAAGAACCACCGGCGCATCCACACAGGAGAGAAACCTTTCCTTTGTGAAGCCCAAGGATGTGGCCGTTCCTTTGCTGAGTATTCTAGCCTCCGAAAACATCTGGTGGTTCACTCAGGAGAGAAGCCTCATCAGTGCCAAGTCTGTGGGAAGACCTTCTCTCAGAGTGGAAGCAGGAATGTGCATATGAGAAAGCATCACCTGCAGCTGGGAGCAGCTGGGAGTCAAGAGCAGGAGCAAACTGAGGTGCTTGCTGAAGGATCCCCACGTTCCCTGTCTTCAGTGCCTGATGTGACACATCACCTGGTGACCATGCAGTCAGGGAGGCAATCATATGAAGTTTCTGTCTTAACTGCAGTAAATCCACAAGAGTTACTAAACCAAGGAGATTTAACTGAAAGACGGACATGA'),\n",
       " ('IRF9-3', 'AG'),\n",
       " ('ZBTB1-2', 'G'),\n",
       " ('HIF1A-1',\n",
       "  'ATGGAGGGCGCCGGCGGCGCGAACGACAAGAAAAAGATAAGTTCTGAACGTCGAAAAGAAAAGTCTCGAGATGCAGCCAGATCTCGGCGAAGTAAAGAATCTGAAGTTTTTTATGAGCTTGCTCATCAGTTGCCACTTCCACATAATGTGAGTTCGCATCTTGATAAGGCCTCTGTGATGAGGCTTACCATCAGCTATTTGCGTGTGAGGAAACTTCTGGATGCTGGTGATTTGGATATTGAAGATGACATGAAAGCACAGATGAATTGCTTTTATTTGAAAGCCTTGGATGGTTTTGTTATGGTTCTCACAGATGATGGTGACATGATTTACATTTCTGATAATGTGAACAAATACATGGGATTAACTCAGTTTGAACTAACTGGACACAGTGTGTTTGATTTTACTCATCCATGTGACCATGAGGAAATGAGAGAAATGCTTACACACAGAAATGGCCTTGTGAAAAAGGGTAAAGAACAAAACACACAGCGAAGCTTTTTTCTCAGAATGAAGTGTACCCTAACTAGCCGAGGAAGAACTATGAACATAAAGTCTGCAACATGGAAGGTATTGCACTGCACAGGCCACATTCACGTATATGATACCAACAGTAACCAACCTCAGTGTGGGTATAAGAAACCACCTATGACCTGCTTGGTGCTGATTTGTGAACCCATTCCTCACCCATCAAATATTGAAATTCCTTTAGATAGCAAGACTTTCCTCAGTCGACACAGCCTGGATATGAAATTTTCTTATTGTGATGAAAGAATTACCGAATTGATGGGATATGAGCCAGAAGAACTTTTAGGCCGCTCAATTTATGAATATTATCATGCTTTGGACTCTGATCATCTGACCAAAACTCATCATGATATGTTTACTAAAGGACAAGTCACCACAGGACAGTACAGGATGCTTGCCAAAAGAGGTGGATATGTCTGGGTTGAAACTCAAGCAACTGTCATATATAACACCAAGAATTCTCAACCACAGTGCATTGTATGTGTGAATTACGTTGTGAGTGGTATTATTCAGCACGACTTGATTTTCTCCCTTCAACAAACAGAATGTGTCCTTAAACCGGTTGAATCTTCAGATATGAAAATGACTCAGCTATTCACCAAAGTTGAATCAGAAGATACAAGTAGCCTCTTTGACAAACTTAAGAAGGAACCTGATGCTTTAACTTTGCTGGCCCCAGCCGCTGGAGACACAATCATATCTTTAGATTTTGGCAGCAACGACACAGAAACTGATGACCAGCAACTTGAGGAAGTACCATTATATAATGATGTAATGCTCCCCTCACCCAACGAAAAATTACAGAATATAAATTTGGCAATGTCTCCATTACCCACCGCTGAAACGCCAAAGCCACTTCGAAGTAGTGCTGACCCTGCACTCAATCAAGAAGTTGCATTAAAATTAGAACCAAATCCAGAGTCACTGGAACTTTCTTTTACCATGCCCCAGATTCAGGATCAGACACCTAGTCCTTCCGATGGAAGCACTAGACAAAGTTCACCTGAGCCTAATAGTCCCAGTGAATATTGTTTTTATGTGGATAGTGATATGGTCAATGAATTCAAGTTGGAATTGGTAGAAAAACTTTTTGCTGAAGACACAGAAGCAAAGAACCCATTTTCTACTCAGGACACAGATTTAGACTTGGAGATGTTAGCTCCCTATATCCCAATGGATGATGACTTCCAGTTACGTTCCTTCGATCAGTTGTCACCATTAGAAAGCAGTTCCGCAAGCCCTGAAAGCGCAAGTCCTCAAAGCACAGTTACAGTATTCCAGCAGACTCAAATACAAGAACCTACTGCTAATGCCACCACTACCACTGCCACCACTGATGAATTAAAAACAGTGACAAAAGACCGTATGGAAGACATTAAAATATTGATTGCATCTCCATCTCCTACCCACATACATAAAGAAACTACTAGTGCCACATCATCACCATATAGAGATACTCAAAGTCGGACAGCCTCACCAAACAGAGCAGGAAAAGGAGTCATAGAACAGACAGAAAAATCTCATCCAAGAAGCCCTAACGTGTTATCTGTCGCTTTGAGTCAAAGAACTACAGTTCCTGAGGAAGAACTAAATCCAAAGATACTAGCTTTGCAGAATGCTCAGAGAAAGCGAAAAATGGAACATGATGGTTCACTTTTTCAAGCAGTAGGAATTGGAACATTATTACAGCAGCCAGACGATCATGCAGCTACTACATCACTTTCTTGGAAACGTGTAAAAGGATGCAAATCTAGTGAACAGAATGGAATGGAGCAAAAGACAATTATTTTAATACCCTCTGATTTAGCATGTAGACTGCTGGGGCAATCAATGGATGAAAGTGGATTACCACAGCTGACCAGTTATGATTGTGAAGTTAATGCTCCTATACAAGGCAGCAGAAACCTACTGCAGGGTGAAGAATTACTCAGAGCTTTGGATCAAGTTAACTGA'),\n",
       " ('MAX-5',\n",
       "  'ATGAGCGATAACGATGACATCGAGGTGGAGAGCGACGAAGAGCAACCGAGGTTTCAATCTGCGGCTGACAAACGGGCTCATCATAATGCACTGGAACGAAAACGTAGGGACCACATCAAAGACAGCTTTCACAGTTTGCGGGACTCAGTCCCATCACTCCAAGGAGAGAAGCTCTATTTCCTCTTTTGGAAATTGTGTACTCCTGTCCTTCATCGTCAAAGTTTGATGCAGAAATGCCACACCTTCATTTCAAGCTACCAAGTGCACAAGAAAAAAGAATGCAAGATTTAA'),\n",
       " ('SALL2-2', 'G'),\n",
       " ('ZBTB25-1',\n",
       "  'ATGGACACTGCCAGCCATAGCCTTGTTCTTCTCCAGCAGCTGAACATGCAGCGAGAATTTGGTTTTCTGTGTGATTGCACAGTTGCAATTGGAGATGTTTACTTCAAAGCCCACAGAGCAGTGCTTGCTGCTTTTTCTAACTATTTCAAGATGATATTTATTCACCAAACAAGTGAATGCATAAAAATACAACCAACTGACATCCAACCTGACATATTCAGCTATTTGTTGCACATTATGTACACGGGGAAAGGGCCAAAACAGATTGTGGATCATAGTCGTTTGGAGGAAGGGATTCGATTTCTTCACGCCGACTACCTTTCTCACATTGCAACTGAAATGAATCAAGTGTTCTCACCAGAGACTGTGCAGTCCTCAAATTTATATGGCATTCAGATCTCAACAACCCAAAAAACAGTTGTCAAACAAGGACTGGAGGTCAAAGAAGCTCCTTCCAGTAACAGTGGAAACAGAGCTGCTGTCCAGGGTGACCACCCCCAGTTGCAGTTGTCTCTTGCTATTGGTCTGGATGATGGCACTGCAGACCAGCAGAGGGCCTGTCCTGCCACCCAGGCCCTGGAGGAGCACCAGAAGCCCCCAGTTTCCATCAAGCAGGAGAGATGTGACCCAGAATCTGTGATCTCCCAGAGCCACCCCTCACCCTCATCAGAGGTGACAGGCCCCACTTTTACTGAAAACAGTGTCAAAATACACTTATGCCATTACTGTGGGGAACGTTTTGATTCCCGTAGTAACCTAAGGCAACATCTCCATACACATGTGTCTGGATCCCTGCCATTCGGTGTCCCTGCTTCCATTCTGGAAAGTAATGACCTTGGTGAAGTGCATCCCCTTAATGAAAACAGCGAGGCCCTTGAATGCCGCAGGCTCAGCTCCTTCATTGTTAAGGAGAATGAACAGCAGCCAGACCACACCAACCGGGGTACCACAGAGCCTTTGCAGATCAGTCAAGTATCTTTGATCTCCAAAGACACAGAGCCAGTAGAATTAAACTGTAATTTTTCTTTTTCAAGGAAAAGAAAAATGAGCTGTACCATCTGTGGTCATAAATTCCCTCGAAAGAGCCAATTGTTGGAACACATGTATACACACAAAGGTAAATCTTACAGATATAACCGATGCCAAAGGTTTGGTAATGCATTGGCCCAGAGATTTCAGCCATACTGTGACAGCTGGTCTGATGTCTCCCTGAAAAGTTCTCGCTTGTCACAAGAACACTTAGACTTGCCTTGTGCCTTAGAGTCAGAGCTCACACAAGAAAATGTGGATACTATCCTAGTTGAGTAG'),\n",
       " ('ZBTB25-2', 'GC'),\n",
       " ('OTX2-1',\n",
       "  'ATGATGTCTTATCTTAAGCAACCGCCTTACGCAGTCAATGGGCTGAGTCTGACCACTTCGGGTATGGACTTGCTGCACCCCTCCGTGGGCTACCCGGGGCCCTGGGCTTCTTGTCCCGCAGCCACCCCCCGGAAACAGCGCCGGGAGAGGACGACGTTCACTCGGGCGCAGCTAGATGTGCTGGAAGCACTGTTTGCCAAGACCCGGTACCCAGACATCTTCATGCGAGAGGAGGTGGCACTGAAAATCAACTTGCCCGAGTCGAGGGTGCAGGTATGGTTTAAGAATCGAAGAGCTAAGTGCCGCCAACAACAGCAACAACAGCAGAATGGAGGTCAAAACAAAGTGAGACCTGCCAAAAAGAAGACATCTCCAGCTCGGGAAGTGAGTTCAGAGAGTGGAACAAGTGGCCAATTCACTCCCCCCTCTAGCACCTCAGTCCCGACCATTGCCAGCAGCAGTGCTCCTGTGTCTATCTGGAGCCCAGCTTCCATCTCCCCACTGTCAGATCCCTTGTCCACCTCCTCTTCCTGCATGCAGAGGTCCTATCCCATGACCTATACTCAGGCTTCAGGTTATAGTCAAGGATATGCTGGCTCAACTTCCTACTTTGGGGGCATGGACTGTGGATCATATTTGACCCCTATGCATCACCAGCTTCCCGGACCAGGGGCCACACTCAGTCCCATGGGTACCAATGCAGTCACCAGCCATCTCAATCAGTCCCCAGCTTCTCTTTCCACCCAGGGATATGGAGCTTCAAGCTTGGGTTTTAACTCAACCACTGATTGCTTGGATTATAAGGACCAAACTGCCTCCTGGAAGCTTAACTTCAATGCTGACTGCTTGGATTATAAAGATCAGACATCCTCGTGGAAATTCCAGGTTTTGTGA'),\n",
       " ('ESR2-1',\n",
       "  'ATGGATATAAAAAACTCACCATCTAGCCTTAATTCTCCTTCCTCCTACAACTGCAGTCAATCCATCTTACCCCTGGAGCACGGCTCCATATACATACCTTCCTCCTATGTAGACAGCCACCATGAATATCCAGCCATGACATTCTATAGCCCTGCTGTGATGAATTACAGCATTCCCAGCAATGTCACTAACTTGGAAGGTGGGCCTGGTCGGCAGACCACAAGCCCAAATGTGTTGTGGCCAACACCTGGGCACCTTTCTCCTTTAGTGGTCCATCGCCAGTTATCACATCTGTATGCGGAACCTCAAAAGAGTCCCTGGTGTGAAGCAAGATCGCTAGAACACACCTTACCTGTAAACAGAGAGACACTGAAAAGGAAGGTTAGTGGGAACCGTTGCGCCAGCCCTGTTACTGGTCCAGGTTCAAAGAGGGATGCTCACTTCTGCGCTGTCTGCAGCGATTACGCATCGGGATATCACTATGGAGTCTGGTCGTGTGAAGGATGTAAGGCCTTTTTTAAAAGAAGCATTCAAGGACATAATGATTATATTTGTCCAGCTACAAATCAGTGTACAATCGATAAAAACCGGCGCAAGAGCTGCCAGGCCTGCCGACTTCGGAAGTGTTACGAAGTGGGAATGGTGAAGTGTGGCTCCCGGAGAGAGAGATGTGGGTACCGCCTTGTGCGGAGACAGAGAAGTGCCGACGAGCAGCTGCACTGTGCCGGCAAGGCCAAGAGAAGTGGCGGCCACGCGCCCCGAGTGCGGGAGCTGCTGCTGGACGCCCTGAGCCCCGAGCAGCTAGTGCTCACCCTCCTGGAGGCTGAGCCGCCCCATGTGCTGATCAGCCGCCCCAGTGCGCCCTTCACCGAGGCCTCCATGATGATGTCCCTGACCAAGTTGGCCGACAAGGAGTTGGTACACATGATCAGCTGGGCCAAGAAGATTCCCGGCTTTGTGGAGCTCAGCCTGTTCGACCAAGTACGGCTCTTGGAGAGCTGTTGGATGGAGGTGTTAATGATGGGGCTGATGTGGCGCTCAATTGACCACCCCGGCAAGCTCATCTTTGCTCCAGATCTTGTTCTGGACAGGGATGAGGGGAAATGCGTAGAAGGAATTCTGGAAATCTTTGACATGCTCCTGGCAACTACTTCAAGGTTTCGAGAGTTAAAACTCCAACACAAAGAATATCTCTGTGTCAAGGCCATGATCCTGCTCAATTCCAGTATGTACCCTCTGGTCACAGCGACCCAGGATGCTGACAGCAGCCGGAAGCTGGCTCACTTGCTGAACGCCGTGACCGATGCTTTGGTTTGGGTGATTGCCAAGAGCGGCATCTCCTCCCAGCAGCAATCCATGCGCCTGGCTAACCTCCTGATGCTCCTGTCCCACGTCAGGCATGCGAGATGGGGAGAAAAGCAATTCATTCATTTGAAGTTATCTTAGTGCCAAGAGTCATGTGAAAATGTCCCTTGCATGTGGGCAATGAAAGATTTGCAGACGATATAAAACCCAGACTACCTCATAAAAGAGTTTTGGGAATACACTGAGCTTTGAGTGAAAGAAGCTGCAGTGGCCTCCCTGGAGATGGGGAGCAAACCAGCTTAAAGGCCCTTATCCTGAGGAAGAGACAAAAATTGACATGCACAATATTAAGCTTTGAAATGCAGACCACACTTCCTTTCACTGCAACTTTGACTTGTCCCGCATCTCTACTTAAGGGCAGAAAAGGCCTCTCAAACACTCACCTCATTTGGAATGAAGATGGAGACTCTTTTGCCTGAAGCAACGATGGAGCAG'),\n",
       " ('SIX1-1',\n",
       "  'ATGTCGATGCTGCCGTCGTTTGGCTTTACGCAGGAGCAAGTGGCGTGCGTGTGCGAGGTTCTGCAGCAAGGCGGAAACCTGGAGCGCCTGGGCAGGTTCCTGTGGTCACTGCCCGCCTGCGACCACCTGCACAAGAACGAGAGCGTACTCAAGGCCAAGGCGGTGGTCGCCTTCCACCGCGGCAACTTCCGTGAGCTCTACAAGATCCTGGAGAGCCACCAGTTCTCGCCTCACAACCACCCCAAACTGCAGCAACTGTGGCTGAAGGCGCATTACGTGGAGGCCGAGAAGCTGTGCGGCCGACCCCTGGGCGCCGTGGGCAAATATCGGGTGCGCCGAAAATTTCCACTGCCGCGCACCATCTGGGACGGCGAGGAGACCAGCTACTGCTTCAAGGAGAAGTCGAGGGGTGTCCTGCGGGAGTGGTACGCGCACAATCCCTACCCATCGCCGCGTGAGAAGCGGGAGCTGGCCGAGGCCACCGGCCTCACCACCACCCAGGTCAGCAACTGGTTTAAGAACCGGAGGCAAAGAGACCGGGCCGCGGAGGCCAAGGAAAGGGAGAACACCGAAAACAATAACTCCTCCTCCAACAAGCAGAACCAACTCTCTCCTCTGGAAGGGGGCAAGCCGCTCATGTCCAGCTCAGAAGAGGAATTCTCACCTCCCCAAAGTCCAGACCAGAACTCGGTCCTTCTGCTGCAGGGCAATATGGGCCACGCCAGGAGCTCAAACTATTCTCTCCCGGGCTTAACAGCCTCGCAGCCCAGTCACGGCCTGCAGACCCACCAGCATCAGCTCCAAGACTCTCTGCTCGGCCCCCTCACCTCCAGTCTGGTGGACTTGGGGTCCTAA'),\n",
       " ('MEF2A-1',\n",
       "  'ATGGGGCGGAAGAAAATACAAATCACACGCATAATGGATGAAAGGAACCGACAGGTCACTTTTACAAAGAGAAAGTTTGGATTAATGAAGAAAGCCTATGAACTTAGTGTGCTCTGTGACTGTGAAATAGCACTCATCATTTTCAACAGCTCTAACAAACTGTTTCAATATGCTAGCACTGATATGGACAAAGTTCTTCTCAAGTATACAGAATATAATGAACCTCATGAAAGCAGAACCAACTCGGATATTGTTGAGGCTCTGAACAAGAAGGAACACAGAGGGTGCGACAGCCCAGACCCTGATACTTCATATGTGCTAACTCCACATACAGAAGAAAAATATAAAAAAATTAATGAGGAATTTGATAATATGATGCGGAATCATAAAATCGCACCTGGTCTGCCACCTCAGAACTTTTCAATGTCTGTCACAGTTCCAGTGACCAGCCCCAATGCTTTGTCCTACACTAACCCAGGGAGTTCACTGGTGTCCCCATCTTTGGCAGCCAGCTCAACGTTAACAGATTCAAGCATGCTCTCTCCACCTCAAACCACATTACATAGAAATGTGTCTCCTGGAGCTCCTCAGAGACCACCAAGTACTGGCAATGCAGGTGGGATGTTGAGCACTACAGACCTCACAGTGCCAAATGGAGCTGGAAGCAGTCCAGTGGGGAATGGATTTGTAAACTCAAGAGCTTCTCCAAATTTGATTGGAGCTACTGGTGCAAATAGCTTAGGCAAAGTCATGCCTACAAAGTCTCCCCCTCCACCAGGTGGTGGTAATCTTGGAATGAACAGTAGGAAACCAGATCTTCGAGTTGTCATCCCCCCTTCAAGCAAGGGCATGATGCCTCCACTAAATACCCAAAGGATCAGTAGTTCTCAAGCCACTCAACCTCTTGCTACCCCAGTCGTGTCTGTGACAACCCCAAGCTTGCCTCCGCAAGGACTTGTGTACTCAGCAATGCCGACTGCCTACAACACTGATTATTCACTGACCAGCGCTGACCTGTCAGCCCTTCAAGGCTTCAACTCGCCAGGAATGCTGTCGCTGGGACAGGTGTCGGCCTGGCAGCAGCACCACCTAGGACAAGCAGCCCTCAGCTCTCTTGTTGCTGGAGGGCAGTTATCTCAGGGTTCCAATTTATCCATTAATACCAACCAAAACATCAGCATCAAGTCCGAACCGATTTCACCTCCTCGGGATCGTATGACCCCATCGGGCTTCCAGCAGCAGCAGCAGCAGCAGCAGCAGCAGCAGCCGCCGCCACCACCGCAGCCCCAGCCACAACCCCCGCAGCCCCAGCCCCGACAGGAAATGGGGCGCTCCCCTGTGGACAGTCTGAGCAGCTCTAGTAGCTCCTATGATGGCAGTGATCGGGAGGATCCACGGGGCGACTTCCATTCTCCAATTGTGCTTGGCCGACCCCCAAACACTGAGGACAGAGAAAGCCCTTCTGTAAAGCGAATGAGGATGGACGCGTGGGTGACCTAA'),\n",
       " ('ARNT2-2',\n",
       "  'ATGGCTTCAGACATACCTGGATCTGTGACGTTGCCCGTTGCCCCCATGGCGGCCACCGGACAGGTGAGGATGGCGGGGGCCATGCCTGCCCGTGGAGGAAAGCGGCGTTCCGGAATGGACTTCGATGATGAAGATGGTGAAGGCCCCAGTAAATTTTCAAGAGAGAATCATAGTGAAATCGAAAGGCGCAGACGGAACAAGATGACTCAGTACATCACGGAGCTCTCCGACATGGTCCCCACATGCAGCGCACTGGCTCGGAAGCCAGACAAGCTCACCATCCTCCGCATGGCCGTCTCGCACATGAAGTCCATGAGGGGTACAGGGAACAAGTCCACCGATGGCGCGTACAAGCCTTCCTTCCTCACAGAGCAGGAACTGAAGCATCTCATCCTTGAAGCAGCTGATGGATTTCTGTTTGTGGTGGCTGCTGAGACAGGGCGAGTGATTTATGTGTCTGACTCCGTCACCCCTGTTCTGAACCAGCCCCAGTCAGAGTGGTTTGGGAGCACACTGTATGAACAGGTGCATCCTGATGACGTGGAGAAGCTGAGAGAGCAACTGTGCACCTCAGAAAACTCAATGACAGGCCGGATCTTGGACCTGAAGACTGGGACGGTCAAGAAAGAAGGGCAGCAGTCATCCATGAGGATGTGCATGGGCTCGCGGCGGTCTTTCATCTGCAGGATGAGGTGTGGAAATGCTCCTTTGGACCACCTTCCTCTAAACAGAATAACCACCATGAGGAAAAGGTTCAGGAATGGCCTTGGCCCTGTGAAAGAAGGAGAAGCCCAATATGCTGTGGTCCACTGTACAGGATACATCAAGGCCTGGCCACCAGCAGGAATGACCATACCTGAAGAAGACGCTGATGTGGGACAAGGCAGTAAATATTGCCTCGTGGCAATTGGGAGACTCCAGGTGACCAGCTCTCCTGTATGCATGGACATGAATGGGATGTCGGTGCCCACAGAGTTCTTATCCCGGCATAACTCCGATGGAATCATCACATTTGTGGATCCAAGATGTATCAGTGTGATTGGCTACCAACCCCAGGATCTTCTGGGAAAGGACATTTTGGAATTCTGCCACCCTGAGGATCAAAGCCATCTGCGTGAGAGCTTCCAGCAGGTGGTTAAGCTGAAAGGCCAAGTCCTGTCGGTCATGTATCGATTTCGCACCAAGAACCGGGAGTGGATGTTGATCCGCACCAGCAGCTTCACATTCCAGAATCCCTATTCTGATGAGATTGAGTACATCATCTGCACCAACACCAACGTCAAGCAACTTCAGCAACAGCAGGCAGAATTGGAAGTGCACCAGAGAGATGGATTGTCATCGTATGACTTATCCCAGGTCCCCGTCCCCAACCTACCAGCCGGTGTTCATGAGGCCGGGAAGTCCGTGGAAAAGGCGGATGCAATCTTCTCCCAGGAAAGAGATCCTCGGTTTGCTGAAATGTTTGCAGGAATTAGTGCATCGGAGAAGAAGATGATGAGCTCAGCCTCTGCAGCAGGAACCCAGCAGATCTACTCCCAAGGAAGCCCATTTCCCTCTGGACACTCCGGGAAGGCCTTCAGCTCTTCAGTGGTTCATGTGCCTGGAGTGAATGATATTCAGTCCTCTTCTTCCACGGGCCAGAACATGTCCCAAATCTCCCGGCAGCTAAACCAGAGTCAGGTGGCATGGACAGGGAGTCGTCCGCCCTTTCCGGGACAGCAAATCCCATCTCAGTCCAGCAAGACTCAGTCATCTCCCTTTGGGATTGGAACGAGCCACACCTACCCGGCAGACCCCTCTTCCTACAGCCCCCTCTCCAGCCCAGCTACCTCCTCGCCAAGTGGGAATGCCTACTCCAGTCTTGCCAACAGGACTCCAGGGTTCGCTGAAAGTGGACAAAGTAGCGGGCAGTTCCAAGGGCGGCCCTCGGAAGTCTGGTCGCAGTGGCAAAGCCAGCACCATGGCCAGCAGAGCGGTGAGCAGCACTCCCACCAGCAGCCCGGTCAGACTGAAGTGTTCCAGGTAAATCGAGCGAGCACCGCCTTCTCGTAGGACATGCTGCCCATGCCAGGAGATCCAACCCAGGGGACTGGCAACTATAACATCGAAGACTTTGCCGACCTGGGCATGTTTCCACCGTTTTCTGAG'),\n",
       " ('ARNT2-3',\n",
       "  'ATGGCAACCCCGGCGGCGGTCAACCCTCCGGAAATGGCTTCAGACATACCTGGATCTGTGACGTTGCCCGTTGCCCCCATGGCGGCCACCGGACAGGTGAGGATGGCGGGGGCCATGCCTGCCCGTGGAGGAAAGCGGCGTTCCGGAATGGACTTCGATGATGAAGATGGTGAAGGCCCCAGTAAATTTTCAAGAGAGAATCATAGTGAAATCGAAAGGCGCAGACGGAACAAGATGACTCAGTACATCACGGAGCTCTCCGACATGGTCCCCACATGCAGCGCACTGGCTCGGAAGCCAGACAAGCTCACCATCCTCCGCATGGCCGTCTCGCACATGAAGTCCATGAGGGGTACAGGGAACAAGTCCACCGATGGCGCGTACAAGCCTTCCTTCCTCACAGAGCAGGAACTGAAGCATCTCATCCTTGAAGCAGCTGATGGATTTCTGTTTGTGGTGGCTGCTGAGACAGGGCGAGTGATTTATGTGTCTGACTCCGTCACCCCTGTTCTGAACCAGCCCCAGTCAGAGTGGTTTGGGAGCACACTGTATGAACAGGTGCATCCTGATGACGTGGAGAAGCTGAGAGAGCAACTGTGCACCTCAGAAAACTCAATGACAGGCCGGATCTTGGACCTGAAGACTGGGACGGTCAAGAAAGAAGGGCAGCAGTCATCCATGAGGATGTGCATGGGCTCGCGGCGGTCTTTCATCTGCAGGATGAGGTGTGGAAATGCTCCTTTGGACCACCTTCCTCTAAACAGAATAACCACCATGAGGAAAAGGTTCAGGAATGGCCTTGGCCCTGTGAAAGAAGGAGAAGCCCAATATGCTGTGGTCCACTGTACAGGATACATCAAGGCCTGGCCACCAGCAGGAATGACCATACCTGAAGAAGACGCTGATGTGGGACAAGGCAGTAAATATTGCCTCGTGGCAATTGGGAGACTCCAGGTGACCAGCTCTCCTGTATGCATGGACATGAATGGGATGTCGGTGCCCACAGAGTTCTTATCCCGGCATAACTCCGATGGAATCATCACATTTGTGGATCCAAGATGTATCAGTGTGATTGGCTACCAACCGCAGGATCTTCTGGGAAAGGACATTTTGGAATTCTGCCACCCTGAGGATCAAAGCCATCTGCGTGAGAGCTTCCAGCAGGTGGTTAAGCTGAAAGGCCAAGTCCTGTCGGTCATGTATCGATTTCGCACCAAGAACCGGGAGTGGATGTTGATCCGCACCAGCAGCTTCACATTCCAGAATCCCTATTCTGATGAGATTGAGTACATCATCTGCACCAACACCAACGTCAAGCAACTTCAGCAACAGCAGGCAGAATTGGAAGTGCACCAGAGAGATGGATTGTCATCGTATGACTTATCCCAGGTCCCCGTCCCCAACCTACCAGCCGGTGTTCATGAGGCCGGGAAGTCCGTGGAAAAGGCGGATGCAATCTTCTCCCAGGAAAGAGATCCTCGGTTTGCTGAAATGTTTGCAGGAATTAGTGCATCGGAGAAGAAGATGATGAGCTCAGCCTCTGCAGCAGGAACCCAGCAGATCTACTCCCAAGGAAGCCCATTTCCCTCTGGACACTCCGGGAAGGCCTTCAGCTCTTCAGTGGTTCATGTGCCTGGAGTGAATGATATTCAGTCCTCTTCTTCCACGGGCCAGAACATGTCCCAAATCTCCCGGCAGCTAAACCAGAGTCAGGTGGCATGGACAGGGAGTCGTCCGCCCTTTCCGGGACAGCAAATCCCATCTCAGTCCAGCAAGACTCAGTCATCTCCCTTTGGGATTGGAACGAGCCACACCTACCCGGCAGACCCCTCTTCCTACAGCCCCCTCTCCAGCCCAGCTACCTCCTCGCCAAGTGGGAATGCCTACTCCAGTCTTGCCAACAGGACTCCAGGGTTCGCTGAAAGTGGACAAAGTAGCGGGCAGTTCCAAGGGCGGCCCTCGGAAGTCTGGTCGCAGTGGCAAAGCCAGCACCATGGCCAGCAGAGCGGTGAGCAGCACTCCCACCAGCAGCCCGGTCAGACTGAAGTGTTCCAGGACATGCTGCCCATGCCAGGAGATCCAGGGAATGAATGGTGGTCTCCCCACTCCCGGCAGCACTTTAGGCAGCCCATAAGCTATGCGAGAATGTGA'),\n",
       " ('MEIS2-2',\n",
       "  'ATGGCGCAAAGGTACGATGAGCTGCCCCATTACGGCGGGATGGACGGAGTAGGGGTTCCCGCTTCCATGTACGGAGACCCTCACGCGCCGCGGCCGATCCCCCCGGTTCACCACCTGAACCACGGGCCGCCGCTCCACGCCACACAGCACTACGGCGCGCACGCCCCGCACCCCAATGTCATGCCGGCCAGTATGGGATCCGCTGTCAACGACGCCTTGAAGCGGGACAAGGACGCGATCTATGGGCACCCGTTGTTTCCTCTGTTAGCTCTGGTCTTTGAGAAGTGCGAGCTGGCGACCTGCACTCCCCGGGAACCTGGAGTGGCTGGCGGAGACGTCTGCTCCTCCGACTCCTTCAACGAGGACATCGCGGTCTTCGCCAAGCAGGTTCGCGCCGAAAAGCCACTTTTTTCCTCAAATCCAGAGCTGGACAATTTGATGATACAAGCAATACAAGTACTAAGGTTTCATCTTTTGGAGTTAGAAAAGGTCCACGAACTGTGCGATAACTTCTGCCACCGATACATTAGCTGTTTGAAGGGGAAAATGCCCATCGACCTCGTCATTGATGAAAGAGACGGCAGCTCCAAGTCAGATCATGAAGAACTTTCAGGCTCCTCCACAAATCTCGCTGACCATAACCCTTCTTCTTGGCGAGACCACGATGATGCAACCTCAACCCACTCAGCAGGCACCCCAGGGCCCTCCAGTGGGGGCCATGCTTCCCAGAGCGGAGACAACAGCAGTGAGCAAGGGGATGGTTTAGACAACAGTGTAGCTTCACCTGGTACAGGTGACGATGATGATCCGGATAAGGACAAAAAACGCCAGAAGAAAAGAGGCATTTTCCCCAAAGTAGCAACAAATATCATGAGAGCATGGCTCTTCCAGCATCTCACACATCCGTACCCTTCCGAAGAGCAGAAGAAACAGTTAGCGCAAGACACAGGACTTACAATTCTCCAAGTAAACAACTGGTTTATTAATGCCAGAAGAAGAATAGTACAGCCCATGATTGACCAGTCAAATCGAGCAGTGAGCCAAGGAGCAGCATATAGTCCAGAGGGTCAGCCCATGGGGAGCTTTGTGTTGGATGGTCAGCAACACATGGGGATCCGGCCTGCAGGTTTGCAGAGCATGCCAGGGGACTACGTTTCTCAGGGTGGTCCTATGGGAATGAGTATGGCACAGCCAAGTTACACTCCTCCCCAGATGACCCCACACCCTACTCAATTAAGACATGGACCCCCAATGCATTCATATTTGCCAAGCCATCCCCACCACCCAGCCATGATGATGCACGGAGGACCCCCTACCCACCCTGGAATGACTATGTCAGCACAGAGCCCCACAATGTTAAATTCTGTAGATCCCAATGTTGGCGGACAGGTTATGGACATTCATGCCCAATAG'),\n",
       " ('MEIS2-3',\n",
       "  'ATGGACGGAGTAGGGGTTCCCGCTTCCATGTACGGAGACCCTCACGCGCCGCGGCCGATCCCCCCGGTTCACCACCTGAACCACGGGCCGCCGCTCCACGCCACACAGCACTACGGCGCGCACGCCCCGCACCCCAATGTCATGCCGGCCAGTATGGGATCCGCTGTCAACGACGCCTTGAAGCGGGACAAGGACGCGATCTATGGGCACCCGTTGTTTCCTCTGTTAGCTCTGGTCTTTGAGAAGTGCGAGCTGGCGACCTGCACTCCCCGGGAACCTGGAGTGGCTGGCGGAGACGTCTGCTCCTCCGACTCCTTCAACGAGGACATCGCGGTCTTCGCCAAGCAGGTTCGCGCCGAAAAGCCACTTTTTTCCTCAAATCCAGAGCTGGACAATTTGATGATACAAGCAATACAAGTACTAAGGTTTCATCTTTTGGAGTTAGAAAAGGTCCACGAACTGTGCGATAACTTCTGCCACCGATACATTAGCTGTTTGAAGGGGAAAATGCCCATCGACCTCGTCATTGATGAAAGAGACGGCAGCTCCAAGTCAGATCATGAAGAACTTTCAGGCTCCTCCACAAATCTCGCTGACCATAACCCTTCTTCTTGGCGAGACCACGATGATGCAACCTCAACCCACTCAGCAGGCACCCCAGGGCCCTCCAGTGGGGGCCATGCTTCCCAGAGCGGAGACAACAGCAGTGAGCAAGGGGATGGTTTAGACAACAGTGTAGCTTCACCTGGTACAGGTGACGATGATGATCCGGATAAGGACAAAAAACGCCAGAAGAAAAGAGGCATTTTCCCCAAAGTAGCAACAAATATCATGAGAGCATGGCTCTTCCAGCATCTCACACATCCGTACCCTTCCGAAGAGCAGAAGAAACAGTTAGCGCAAGACACAGGACTTACAATTCTCCAAGTAAACAACTGGTTTATTAATGCCAGAAGAAGAATAGTACAGCCCATGATTGACCAGTCAAATCGAGCAGTGAGCCAAGGAGCAGCATATAGTCCAGAGGGTCAGCCCATGGGGAGCTTTGTGTTGGATGGTCAGCAACACATGGGGATCCGGCCTGCAGGACCTATGAGTGGAATGGGCATGAATATGGGCATGGATGGGCAATGGCACTACATGTAA'),\n",
       " ('ZNF778-2',\n",
       "  'ATGCTGGAAAACTACGAGAACCTGGCCTCAGTAGGACATCACCTGTTCCAACCCAGTGTGATCTATTGGCTGGAGCAGGAAGAGGAGTTGAGGGCAGGGCGGAGAGCAGTTCTCCAAGAATGGCGACTTAAAACCAAAGGGCCAGCACTTCGGCAGGATAGATCTTGGTTCAGAGCATCAAATGAGACACAGACGGCAAGAAGCCACAATGGAGGGCAGCTCTGTGACCGCACGCAGTGTGGAGAAGCTTTCAGTGAACACTCAGGCCTCAGCACACACGTGAGAACTCAAAATACAGGAGACAGTTGTGTGTCTAATCATTATGAAAGGGACTTTTTTATTCCATGCCAGAAAACCTTGTTCAAAATTGGAGAGCAGTTTTCCGTGTTGGGTCAGTGTGGAAAAGCCTTCAGCTCTACTCCAAATGTTGTTTCCCAGCAAGCATGCACTCGGGACAGATCTCTTGACTACAGCAGCTGTGGGGAAGTGTTCCTTAATCAGTCATACCTTCAGGCACGTGCGGGAAGTCACAACGGAGAAGAAACATGGAAATGGAAGCCGTGTGGGAAAGCTCTAACTCACTCCATGGGCTGCGCCACACCTGTTGAAATGCATGCCGTCAGGAATCCCCACGTATGTAGGGAATGTGGGAAGGCCTTTAGGTACACTGCCTACCTTACTGGTCGCGTGCAAGTCCACCCTGGGGAGAAGCCCTGTGAATTGGAAGAATGTGGAAAAGCCTCCCCTGTTTCTTCCAGCCTAACTCAACATGTAAGAATTCATGCTGCAGAGAAACCCTGTGAATGTAAAGAATGCGGAAAAGCCTTCACTGGACTCTCAGGTCTTTCTAAACACGTCCAAACAGACCCTGGACAGAAGCCCTATGAATGTAAGGACTGTGGGAAAGCCTGCGGTGGGTTTTATCTACTGAATGAGCATGGAAAAACTCACACGAGGGAGAAGCCCTTTGCATGTGTGGTTTGCGGAAAATATTTTAGAAATTCCTCATGCCTTAATAATCATGTTCGAATTCACACTGGAATAAAACCCTATACATGCAGCTACTGTGGGAAGGCCTTCACTGTGCGCTGTGGCCTTACTAGACACGTACGAACACACACGGGCGAGAAGCCATACACGTGTAAGGACTGCGGGAAAGCCTTCTGTACATCCTCGGGCCTTACTGAGCATGTAAGGACTCACACTGGAGAGAAACCATATGAATGTAAAGATTGTGGGAAATCCTTCACTGTTTCTTCAAGCCTGACTGAGCACGCAAGAATCCATACCGGAGAGAAACCCTACGAATGTAAGCAGTGTGGCAAAGCCTTCACAGGGCGCTCAGGCCTCACTAAACACATGCGGACACACACCGGGGAGAAGCCCTATGAATGTAAGGACTGTGGGAAAGCCTACAATAGGGTTTATCTACTGAATGAGCATGTGAAAACTCACACAGAGGAGAAGCCCTTTACATGTACGGTATGCAGGAAATCCTTCAGAAATTCCTCGTGCCTGAATAAGCACATTCATATTCACACTGGAATAAAACCTTATGAATGTAAGGACTGTGGGAAAACATTCACTGTTTCTTCGAGCCTAACTGAGCACATACGAACTCACACTGGAGAGAAACCTTATGAATGTAAAGTATGCGGAAAGGCCTTCACCACATCCTCACACCTTATCGTGCACATAAGAACCCACACCGGTGAGAAACCCTACATATGTAAGGAGTGTGGGAAAGCCTTTGCTTCCTCCTCACACCTTATCGAACACAGAAGGACTCATACAGGAGAGAAACCTTACATATGTAACGAGTGTGGGAAAGCCTTCCGTGCCTCCTCTCACCTGCATAAACATGGAAGAATTCACACTGGGCAGAAACCCTATAAATGTAAGGAATGTGGGAAAGCATACAATAGGTTTTATCTACTAAAAGAACATTTAAAAACTTACACTGAAGAGCAGGTTTTTGTATGTAAGGACTGTGGAAAATCTTTTAAGAATTCCTCATGCCTTAACCATCACACTCAAATTCACACTGATGAGAAACCTTTCTAA'),\n",
       " ('CTCF-1',\n",
       "  'ATGGAAGGTGATGCAGTCGAAGCCATTGTGGAGGAGTCCGAAACTTTTATTAAAGGAAAGGAGAGAAAGACTTACCAGAGACGCCGGGAAGGGGGCCAGGAAGAAGATGCCTGCCACTTACCCCAGAACCAGACGGATGGGGGTGAGGTGGTCCAGGATGTCAACAGCAGTGTACAGATGGTGATGATGGAACAGCTGGACCCCACCCTTCTTCAGATGAAGACTGAAGTAATGGAGGGCACAGTGGCTCCAGAAGCAGAGGCTGCTGTGGACGATACCCAGATTATAACTTTACAGGTTGTAAATATGGAGGAACAGCCCATAAACATAGGAGAACTTCAGCTTGTTCAAGTACCTGTTCCTGTGACTGTACCTGTTGCTACCACTTCAGTAGAAGAACTTCAGGGGGCTTATGAAAATGAAGTGTCTAAAGAGGGCCTTGCGGAAAGTGAACCCATGATATGCCACACCCTACCTTTGCCTGAAGGGTTTCAGGTGGTTAAAGTGGGGGCCAATGGAGAGGTGGAGACACTAGAACAAGGGGAACTTCCACCCCAGGAAGATCCTAGTTGGCAAAAAGACCCAGACTATCAGCCACCAGCCAAAAAAACAAAGAAAACCAAAAAGAGCAAACTGCGTTATACAGAGGAGGGCAAAGATGTAGATGTGTCTGTCTACGATTTTGAGGAAGAACAGCAGGAGGGTCTGCTATCAGAGGTTAATGCAGAGAAAGTGGTTGGTAATATGAAGCCTCCAAAGCCAACAAAAATTAAAAAGAAAGGTGTAAAGAAGACATTCCAGTGTGAGCTTTGCAGTTACACGTGTCCACGGCGTTCAAATTTGGATCGTCACATGAAAAGCCACACTGATGAGAGACCACACAAGTGCCATCTCTGTGGCAGGGCATTCAGAACAGTCACCCTCCTGAGGAATCACCTTAACACACACACAGGTACTCGTCCTCACAAGTGCCCAGACTGCGACATGGCCTTTGTGACCAGTGGAGAATTGGTTCGGCATCGTCGTTACAAACACACCCACGAGAAGCCATTCAAGTGTTCCATGTGCGATTACGCCAGTGTAGAAGTCAGCAAATTAAAACGTCACATTCGCTCTCATACTGGAGAGCGTCCGTTTCAGTGCAGTTTGTGCAGTTATGCCAGCAGGGACACATACAAGCTGAAAAGGCACATGAGAACCCATTCAGGGGAAAAGCCTTATGAATGTTATATTTGTCATGCTCGGTTTACCCAAAGTGGTACCATGAAGATGCACATTTTACAGAAGCACACAGAAAATGTGGCCAAATTTCACTGTCCCCACTGTGACACAGTCATAGCCCGAAAAAGTGATTTGGGTGTCCACTTGCGAAAGCAGCATTCCTATATTGAGCAAGGCAAGAAATGCCGTTACTGTGATGCTGTGTTTCATGAGCGCTATGCCCTCATCCAGCATCAGAAGTCACACAAGAATGAGAAGCGCTTTAAGTGTGACCAGTGTGATTACGCTTGTAGACAGGAGAGGCACATGATCATGCACAAGCGCACCCACACCGGGGAGAAGCCTTACGCCTGCAGCCACTGCGATAAGACCTTCCGCCAGAAGCAGCTTCTCGACATGCACTTCAAGCGCTATCACGACCCCAACTTCGTCCCTGCGGCTTTTGTCTGTTCTAAGTGTGGGAAAACATTTACACGTCGGAATACCATGGCAAGACATGCTGATAATTGTGCTGGCCCAGATGGCGTAGAGGGGGAAAATGGAGGAGAAACGAAGAAGAGTAAACGTGGAAGAAAAAGAAAGATGCGCTCTAAGAAAGAAGATTCCTCTGACAGTGAAAATGCTGAACCAGATCTGGACGACAATGAGGATGAGGAGGAGCCTGCCGTAGAAATTGAACCTGAGCCAGAGCCTCAGCCTGTGACCCCAGCCCCACCACCCGCCAAGAAGCGGAGAGGACGACCCCCTGGCAGAACCAACCAGCCCAAACAGAACCAGCCAACAGCTATCATTCAGGTTGAAGACCAGAATACAGGTGCAATTGAGAACATTATAGTTGAAGTAAAAAAAGAGCCAGATGCTGAGCCCGCAGAGGGAGAGGAAGAGGAGGCCCAGCCAGCTGCCACAGATGCCCCCAACGGAGACCTCACGCCCGAGATGATCCTCAGCATGATGGACCGGTGA'),\n",
       " ('ZNF263-1',\n",
       "  'ATGGCGTCGGGCCCGGGCTCCCAGGAACGGGAAGGGCTCCTGATAGTGAAGCTGGAGGAGGACTGCGCCTGGAGCCAGGAGCTGCCCCCACCTGACCCAGGACCGAGCCCCGAGGCCTCCCACTTGCGCTTCAGACGGTTCCGCTTCCAAGAGGCAGCTGGTCCCCGGGAAGCCCTCAGCCGGCTCCAAGAGCTTTGCCATGGGTGGCTTCGGCCTGAGATGCGCACGAAGGAGCAGATCTTGGAGCTGCTGGTGTTAGAGCAGTTCCTGACCATCCTGCCCCAGGAGATCCAGAGCAGGGTGCAGGAGCTGCATCCGGAGAGCGGCGAAGAAGCGGTGACCCTTGTGGAGGATATGCAGAGAGAGCTTGGGAGACTGAGACAACAGGTCACAAACCATGGGCGGGGAACAGAAGTGCTTTTGGAGGAGCCTTTGCCTCTGGAAACAGCACGAGAGTCACCGAGCTTCAAGCTGGAGCCAATGGAGACTGAGCGAAGCCCTGGCCCCAGGCTGCAGGAGCTGCTAGGCCCCAGCCCCCAAAGGGACCCCCAGGCTGTAAAGGAGAGGGCATTATCTGCTCCCTGGCTTTCTCTTTTTCCTCCTGAAGGGAACATGGAAGACAAGGAGATGACTGGGCCCCAGTTGCCTGAGAGCTTAGAGGACGTGGCAATGTACATCTCCCAGGAGGAGTGGGGGCATCAGGATCCTAGTAAGAGGGCCCTCTCCAGGGACACGGTGCAGGAGAGTTATGAGAATGTGGACTCACTGGAGTCTCACATTCCCAGTCAGGAGGTCCCAGGCACCCAGGTGGGACAAGGAGGAAAGCTATGGGATCCCAGTGTCCAGAGCTGCAAGGAGGGCCTGAGCCCCAGAGGCCCAGCTCCAGGAGAAGAGAAATTTGAGAACCTGGAAGGTGTTCCGTCTGTATGCTCTGAGAACATCCACCCTCAGGTGCTGCTTCCTGACCAGGCCCGAGGGGAGGTGCCCTGGAGTCCTGAGCTGGGAAGACCTCATGACCGGTCGCAAGGGGATTGGGCGCCTCCCCCAGAGGGTGGAATGGAGCAGGCCTTGGCAGGAGCCTCAAGTGGCAGAGAACTGGGGCGACCGAAGGAACTGCAGCCAAAGAAACTCCATTTATGTCCCTTGTGTGGCAAAAATTTCTCTAACAACTCAAACCTAATTAGGCACCAGAGAATACATGCAGCTGAAAGACTGTGTATGGGTGTGGACTGCACTGAAATCTTTGGTGGGAACCCACGTTTCCTGTCACTACACAGAGCACACCTGGGAGAGGAGGCCCACAAGTGCCTTGAATGTGGGAAATGCTTCAGTCAGAACACCCATCTGACTCGCCACCAACGCACCCACACGGGTGAGAAGCCCTATCAGTGCAACATTTGCGGAAAATGTTTCTCCTGCAACTCCAACCTCCACAGGCACCAGAGAACGCACACTGGGGAGAAGCCCTACAAGTGCCCTGAGTGTGGGGAGATCTTTGCTCACAGTTCCAACCTCCTTCGGCACCAGAGAATTCACACTGGAGAGCGACCTTATAAGTGTCCCGAGTGTGGGAAAAGTTTCTCTCGGAGTTCACACCTCGTCATTCACGAAAGAACTCATGAGAGAGAGAGACTTTACCCCTTCTCTGAGTGTGGGGAAGCTGTGAGTGACAGCACCCCCTTTCTTACAAACCATGGAGCCCATAAGGCAGAGAAGAAGCTCTTTGAATGTTTGACTTGTGGGAAAAGCTTCCGGCAGGGCATGCACCTCACCAGACATCAGAGAACACACACAGGAGAGAAACCGTATAAATGTACCCTTTGTGGGGAAAACTTCTCTCATAGATCCAATTTAATCAGGCACCAGAGAATCCACACAGGAGAAAAACCCTATACCTGTCATGAGTGCGGAGACAGCTTCTCTCACAGCTCCAATCGGATTCGCCACCTGAGAACGCATACGGGAGAGAGACCCTATAAATGTTCTGAATGTGGAGAAAGCTTCTCTCGGAGTTCCCGTCTTATGAGTCATCAGAGAACTCACACAGGTTAG'),\n",
       " ('ZNF276-1',\n",
       "  'ATGGGTCACTGTCGCCTCTGCCACGGGAAGTTTTCCTCGAGAAGCCTGCGCAGCATCTCCGAGAGGGCGCCTGGAGCGAGCATGGAGAGGCCATCCGCAGAGGAGCGCGTGCTCGTACGGGACTTCCAGCGCCTGCTTGGTGTGGCTGTCCGCCAGGACCCCACCTTGTCTCCGTTTGTCTGCAAGAGCTGCCACGCCCAGTTCTACCAGTGCCACAGCCTTCTCAAGTCCTTCCTGCAGAGGGTCAACGCCTCCCCGGCTGGTCGCCGGAAGCCTTGTGCAAAGGTCGGTGCCCAGCCCCCAACAGGGGCAGAGGAGGGAGCGTGTCTGGTGGATCTGATCACATCCAGCCCCCAGTGCCTGCACGGCTTGGTGGGGTGGGTGCATGGACATGCGGCCAGCTGCGGGGCCCTGCCCCACCTTCAGAGGACACTGTCCTCCGAGTACTGCGGCGTCATCCAGGTCGTGTGGGGCTGCGACCAGGGCCACGACTACACCATGGATACCAGCTCCAGCTGCAAGGCCTTCTTGCTGGACAGTGCGCTGGCAGTCAAGTGGCCACGGGACAAAGAGACGGCGCCACGGCTGCCCCAGCACCGAGGGTGGAACCCTGGGGATGCCCCTCAGACCTCCCAGGGTAGAGGGACAGGGACCCCAGTTGGGGCTGAGACCAAGACCCTGCCCAGCACGGATGTGGCCCAGCCTCCTTCGGACAGCGACGCGGTGGGGCCCAGGTCGGGCTTCCCACCTCAGCCAAGCCTGCCCCTTTGCAGGGCCCCAGGGCAGTTGGGTGAGAAGCAGCTTCCATCTTCAACCTCGGATGATCGGGTAAAAGACGAGTTCAGTGACCTTTCTGAGGGAGACGTCTTGAGTGAAGATGAAAATGACAAGAAGCAAAATGCCCAGTCTTCGGACGAGTCCTTTGAGCCTTACCCAGAAAGGAAAGTCTCTGGTAAGAAGAGTGAAAGCAAAGAAGCCAAGAAGTCTGAAGAACCAAGAATTCGGAAGAAGCCGGGACCCAAGCCCGGATGGAAGAAGAAGCTTCGTTGTGAGAGGGAGGAGCTTCCCACCATCCACAAGTGTCCTTACCAGGGCTGCACGGCCGTGTACCGAGGCGCTGACGGCATGAAGAAGCACATCAAGGAGCACCACGAGGAGGTCCGGGAGCGGCCCTGCCCCCACCCTGGCTGCAACAAGGTTTTCATGATCGACCGCTACCTGCAGCGCCACGTGAAGCTCATCCACACAGAGGTGCGGAACTATATCTGTGACGAATGTGGACAAACCTTCAAGCAGCGGAAGCACCTTCTCGTCCACCAAATGCGACATTCGGGAGCCAAGCCTTTGCAGTGTGAGGTCTGTGGGTTCCAGTGCAGGCAGCGGGCATCCCTCAAGTACCACATGACCAAACACAAGGCTGAGACTGAGCTGGACTTTGCCTGTGACCAGTGTGGCCGGCGGTTTGAGAAGGCCCACAACCTCAATGTACACATGTCCATGGTGCACCCGCTGACACAGACCCAGGACAAGGCCCTGCCCCTGGAGGCGGAACCACCACCTGGGCCACCGAGCCCCTCTGTGACCACAGAGGGCCAGGCGGTGAAGCCCGAACCCACCTGA'),\n",
       " ('ZFP1-3', 'T'),\n",
       " ('ZNF75A-1',\n",
       "  'ATGTATTTTTCCCAGGAAGAATGGGAGTTATTGGATCCCACTCAGAAGGCCCTCTACAATGATGTAATGCAGGAAAACTATGAGACTGTCATCTCTCTAGCATTGTTTGTGCTCCCCAAACCTAAAGTGATCTCCTGTCTAGAGCAAGGGGAAGAGCCATGGGTTCAAGTATCCCCGGAGTTTAAGGATAGTGCCGGAAAATCTCCTACAGGGTTAAAGCTCAAAAACGACACTGAAAATCATCAGCCTGTGTCTCTTTCTGACTTAGAAATACAAGCATCAGCAGGCGTCATATCAAAAAAGGCCAAAGTAAAAGTTCCCCAGAAAACAGCAGGCAAAGAAAATCATTTTGATATGCACAGAGTGGGAAAATGGCACCAAGATTTTCCAGTGAAGAAAAGAAAGAAACTTTCAACCTGGAAACAAGAGCTGCTCAAACTTATGGATCGTCACAAGAAAGATTGTGCAAGAGAGAAGCCTTTTAAATGTCAGGAATGTGGGAAAACCTTCAGAGTTAGCTCTGACCTTATTAAGCACCAAAGAATTCACACTGAAGAGAAACCCTATAAATGTCAACAGTGTGATAAGAGGTTTAGATGGAGTTCAGATCTTAATAAGCACTTAACAACACACCAAGGAATAAAACCATATAAATGTTCATGGTGTGGGAAAAGCTTCAGTCAAAATACAAATTTACATACACACCAAAGAACTCATACAGGAGAAAAGCCCTTCACATGTCATGAATGTGGAAAAAAATTCAGTCAGAACTCCCACCTTATTAAACACCGGAGAACCCACACAGGTGAGCAGCCATATACTTGTAGCATATGCAGGAGAAACTTCAGCAGGCGGTCAAGCCTTCTTAGACACCAGAAACTCCACCTGTGA'),\n",
       " ('ZNF75A-2',\n",
       "  'ATGATGATGGTAGATCTGAAAGTGGCTGCGTACTTGGACCCTCAGATCAGGGCTTTGTGGGAGACCAAGGGGCCTGCAAGAGAGAGCTCCGGTCAGAGTAAAAAATCTCCTCAAATGGACTGTCTCGATCCTAAGAGCTCTTGCTGGCACTTCCGGAATTTCACCTATGATGAAGCAGGTGGACCCCGTGAGGCTGTCAGCAAACTTCAAGAATTATGTCATCTATGGCTGAAGCCAGAGATCCACTCAAAAGAGCAGATACTGGAACTGCTGGTGCTGGAGCAGTTCCTGACTATTCTGCCCAGGGAGACACAGACCCAGATGCAGAAGCACCATCCACAGAGCATTGAGGAGGCTGTGGCTCTGGTAGAACACTTGCAGAGGGAATCTGGTCAAACATGGAATGGGGTGAGAAGAAAGATTCCTGACATGTACAGTGAAATAGGATGCAGGTGGATATAG'),\n",
       " ('ZNF23-2',\n",
       "  'ATGCTGGAGAATTATGGGAATGTGGCCTCCCTGGGATTTCCACTTCTCAAACCTGCTGTGATCTCACAACTGGAGGGAGGAAGTGAGCTGGGGGGCTCATCTCCACTGGCTGCAGGAACAGGCCTCCAGGGCCTCCAGACTGATATTCAGACTGACAATGATTTGACAAAGGAAATGTATGAAGGAAAAGAGAATGTATCATTTGAACTTCAAAGAGACTTTTCCCAGGAAACAGACTTTTCAGAAGCCTCTCTTCTAGAGAAACAACAGGAAGTCCACTCAGCAGGAAATATAAAGAAGGAGAAGAGCAACACCATTGATGGAACAGTGAAAGATGAGACAAGCCCCGTGGAGGAGTGTTTTTTTAGTCAAAGTTCAAACTCATATCAGTGTCATACCATCACTGGAGAGCAGCCCTCTGGGTGTACAGGATTGGGGAAATCCATCAGCTTTGATACAAAACTCGTGAAGCATGAAATAATTAATTCTGAGGAAAGACCTTTCAAATGTGAAGAATTAGTAGAGCCCTTTAGGTGTGACTCTCAACTTATTCAACATCAAGAGAACAACACTGAGGAAAAGCCTTATCAGTGTTCGGAGTGTGGCAAAGCTTTCAGCATTAATGAGAAATTAATTTGGCATCAGAGACTTCACAGTGGGGAGAAACCCTTCAAATGTGTGGAGTGTGGGAAAAGCTTCAGCTACAGTTCCCATTATATCACACATCAGACAATCCACAGTGGGGAGAAGCCCTATCAGTGTAAGATGTGTGGGAAGGCCTTCAGTGTTAATGGAAGCCTAAGTAGGCATCAGAGAATCCATACGGGAGAGAAGCCCTATCAGTGCAAGGAATGTGGAAATGGCTTCAGCTGTAGTTCTGCATATATTACACATCAGAGAGTCCACACTGGAGAGAAACCTTACGAGTGTAATGACTGTGGGAAAGCGTTCAATGTTAATGCAAAATTAATTCAACATCAGAGAATCCATACTGGAGAGAAACCTTATGAATGTAATGAATGTGGAAAAGGCTTCAGGTGCAGCTCCCAGCTTAGGCAGCATCAGAGCATCCACACAGGAGAAAAGCCCTATCAGTGTAAAGAGTGTGGAAAAGGCTTCAATAATAATACAAAACTCATTCAGCATCAGAGAATCCACACAGGTGAGAAACCCTATGAATGCACTGAATGTGGAAAAGCCTTCAGTGTCAAAGGGAAGTTAATCCAACACCAGAGAATTCACACAGGCGAGAAACCCTATGAGTGTAATGAATGCGGGAAAGCCTTCAGATGTAACTCCCAATTTCGGCAGCATCTGAGAATTCACACTGGGGAGAAGCCCTATGAGTGTAATGAGTGTGGAAAGGCCTTCAGCGTTAATGGGAAACTAATGCGGCATCAGAGAATTCACACTGGGGAGAAACCTTTTGAATGTAATGAGTGTGGGAGATGCTTTACTTCTAAAAGAAACCTACTTGATCATCACCGAATCCATACTGGAGAAAAGCCCTATCAATGTAAGGAATGTGGGAAAGCCTTCAGTATCAATGCCAAACTAACTAGGCATCAGAGGATACATACTGGGGAGAAACCTTTCAAATGTATGGAATGTGAGAAAGCATTCAGCTGTAGTTCTAACTATATTGTGCACCAGAGAATCCATACAGGAGAGAAACCCTTTCAGTGTAAGGAGTGTGGAAAAGCCTTCCATGTTAATGCCCATTTAATTCGGCATCAGAGAAGCCACACTGGGGAGAAACCCTTCAGATGTGTGGAATGTGGCAAAGGCTTCAGCTTTAGTTCTGACTACATTATACATCAGACAGTCCACACTTGGAAGAAACCCTATATGTGTAGTGTGTGTGGGAAAGCATTCAGGTTTAGCTTCCAGCTCAGTCAGCATCAGAGTGTCCATAGTGAAGGAAAATCCTAA'),\n",
       " ('TBX6-2', 'TG'),\n",
       " ('ZNF688-2', 'TG'),\n",
       " ('ZNF688-4', 'TG'),\n",
       " ('SP2-3',\n",
       "  'ATGGCTGCCACTGCTGCTGTGAGTCCCAGTGACTACCTGCAGCCTGCCGCCTCCACCACCCAGGACTCCCAGCCATCTCCCTTAGCCCTGCTTGCTGCAACATGTAGCAAAATTGGCCCTCCAGCAGTTGAAGCTGCTGTGACACCTCCTGCTCCCCCACAGCCCACACCGCGGAAACTTGTCCCTATCAAACCTGCCCCTCTCCCTCTCAGCCCCGGCAAGAATAGCTTTGGAATCTTGTCCTCCAAAGGAAATATACTTCAGATTCAGGGGTCACAACTGAGCGCCTCCTATCCTGGAGGGCAGCTGGTGTTCGCTATCCAGAATCCCACCATGATCAACAAAGGGACCCGATCAAATGCCAATATCCAGTACCAGGCGGTCCCTCAGATTCAGGCAAGCAATTCCCAAACCATCCAAGTACAGCCCAATCTCACCAACCAGATCCAGATCATCCCTGGCACCAACCAAGCCATCATCACCCCCTCACCGTCCAGTCACAAGCCTGTCCCCATCAAGCCAGCCCCCATCCAGAAGTCGAGTACGACCACCACCCCCGTGCAGAGCGGGGCCAATGTGGTGAAGTTGACAGGTGGGGGCGGCAATGTGACGCTCACTCTGCCCGTCAACAACCTCGTGAACGCCAGTGACACCGGGGCCCCTACTCAGCTCCTCACTGCTTCCTGCCAAACTGGGATGCTGAATTCAACAAGAATGTTCTTATTTTTGGCATTTATTAATGTGCTCTAA'),\n",
       " ('DLX4-1',\n",
       "  'ATGACCTCTTTGCCCTGCCCCCTCCCCGGCCGGGACGCCTCCAAAGCTGTCTTCCCAGACCTCGCCCCTGTCCCGTCGGTAGCGGCTGCCTACCCGCTTGGCTTGTCCCCTACAACCGCAGCCTCCCCCAATTTGTCCTACTCCAGGCCGTATGGCCACCTCCTGTCTTACCCCTACACCGAGCCAGCGAACCCCGGAGACTCCTACCTGTCCTGCCAGCAACCCGCGGCGCTCTCTCAGCCCCTCTGCGGACCTGCAGAGCACCCTCAGGAACTCGAGGCAGACTCGGAGAAGCCGCGGCTGTCCCCGGAACCCTCCGAGCGGCGCCCTCAGGCCCCCGCCAAAAAGCTCCGCAAGCCGAGGACCATCTACTCCAGCCTGCAGCTGCAGCACCTAAACCAGCGTTTCCAGCACACGCAGTACCTGGCGCTGCCCGAGAGGGCCCAGCTGGCAGCGCAGCTCGGCCTCACCCAGACCCAGGTAAAGATCTGGTTTCAGAACAAACGCTCCAAGTATAAGAAGCTCCTGAAGCAGAATTCTGGGGGGCAGGAAGGGGACTTCCCTGGGAGGACCTTCTCTGTGTCTCCCTGCTCCCCACCCCTCCCCTCCCTCTGGGATCTACCCAAGGCAGGGACCCTGCCCACCAGTGGCTATGGCAACAGCTTTGGAGCCTGGTATCAGCATCACTCCTCAGATGTCCTGGCTTCGCCTCAGATGATGTGA'),\n",
       " ('STAT5A-1',\n",
       "  'ATGGCGGGCTGGATCCAGGCCCAGCAGCTGCAGGGAGACGCGCTGCGCCAGATGCAGGTGCTGTACGGCCAGCACTTCCCCATCGAGGTCCGGCACTACTTGGCCCAGTGGATTGAGAGCCAGCCATGGGATGCCATTGACTTGGACAATCCCCAGGACAGAGCCCAAGCCACCCAGCTCCTGGAGGGCCTGGTGCAGGAGCTGCAGAAGAAGGCGGAGCACCAGGTGGGGGAAGATGGGTTTTTACTGAAGATCAAGCTGGGGCACTACGCCACGCAGCTCCAGAAAACATATGACCGCTGCCCCCTGGAGCTGGTCCGCTGCATCCGGCACATTCTGTACAATGAACAGAGGCTGGTCCGAGAAGCCAACAATTGCAGCTCTCCGGCTGGGATCCTGGTTGACGCCATGTCCCAGAAGCACCTTCAGATCAACCAGACATTTGAGGAGCTGCGACTGGTCACGCAGGACACAGAGAATGAGCTGAAGAAACTGCAGCAGACTCAGGAGTACTTCATCATCCAGTACCAGGAGAGCCTGAGGATCCAAGCTCAGTTTGCCCAGCTGGCCCAGCTGAGCCCCCAGGAGCGTCTGAGCCGGGAGACGGCCCTCCAGCAGAAGCAGGTGTCTCTGGAGGCCTGGTTGCAGCGTGAGGCACAGACACTGCAGCAGTACCGCGTGGAGCTGGCCGAGAAGCACCAGAAGACCCTGCAGCTGCTGCGGAAGCAGCAGACCATCATCCTGGATGACGAGCTGATCCAGTGGAAGCGGCGGCAGCAGCTGGCCGGGAACGGCGGGCCCCCCGAGGGCAGCCTGGACGTGCTACAGTCCTGGTGTGAGAAGTTGGCCGAGATCATCTGGCAGAACCGGCAGCAGATCCGCAGGGCTGAGCACCTCTGCCAGCAGCTGCCCATCCCCGGCCCAGTGGAGGAGATGCTGGCCGAGGTCAACGCCACCATCACGGACATTATCTCAGCCCTGGTGACCAGCACATTCATCATTGAGAAGCAGCCTCCTCAGGTCCTGAAGACCCAGACCAAGTTTGCAGCCACCGTACGCCTGCTGGTGGGCGGGAAGCTGAACGTGCACATGAATCCCCCCCAGGTGAAGGCCACCATCATCAGTGAGCAGCAGGCCAAGTCTCTGCTTAAAAATGAGAACACCCGCAACGAGTGCAGTGGTGAGATCCTGAACAACTGCTGCGTGATGGAGTACCACCAAGCCACGGGCACCCTCAGTGCCCACTTCAGGAACATGTCACTGAAGAGGATCAAGCGTGCTGACCGGCGGGGTGCAGAGTCCGTGACAGAGGAGAAGTTCACAGTCCTGTTTGAGTCTCAGTTCAGTGTTGGCAGCAATGAGCTTGTGTTCCAGGTGAAGACTCTGTCCCTACCTGTGGTTGTCATCGTCCACGGCAGCCAGGACCACAATGCCACGGCTACTGTGCTGTGGGACAATGCCTTTGCTGAGCCGGGCAGGGTGCCATTTGCCGTGCCTGACAAAGTGCTGTGGCCGCAGCTGTGTGAGGCGCTCAACATGAAATTCAAGGCCGAAGTGCAGAGCAACCGGGGCCTGACCAAGGAGAACCTCGTGTTCCTGGCGCAGAAACTGTTCAACAACAGCAGCAGCCACCTGGAGGACTACAGTGGCCTGTCCGTGTCCTGGTCCCAGTTCAACAGGGAGAACTTGCCGGGCTGGAACTACACCTTCTGGCAGTGGTTTGACGGGGTGATGGAGGTGTTGAAGAAGCACCACAAGCCCCACTGGAATGATGGGGCCATCCTAGGTTTTGTGAATAAGCAACAGGCCCACGACCTGCTCATCAACAAGCCCGACGGGACCTTCTTGTTGCGCTTTAGTGACTCAGAAATCGGGGGCATCACCATCGCCTGGAAGTTTGATTCCCCGGAACGCAACCTGTGGAACCTGAAACCATTCACCACGCGGGATTTCTCCATCAGGTCCCTGGCTGACCGGCTGGGGGACCTGAGCTATCTCATCTATGTGTTTCCTGACCGCCCCAAGGATGAGGTCTTCTCCAAGTACTACACTCCTGTGCTGGCTAAAGCTGTTGATGGATATGTGAAACCACAGATCAAGCAAGTGGTCCCTGAGTTTGTGAATGCATCTGCAGATGCTGGGGGCAGCAGCGCCACGTACATGGACCAGGCCCCCTCCCCAGCTGTGTGCCCCCAGGCTCCCTATAACATGTACCCACAGAACCCTGACCATGTACTCGATCAGGATGGAGAATTCGACCTGGATGAGACCATGGATGTGGCCAGGCACGTGGAGGAACTCTTACGCCGACCAATGGACAGTCTTGACTCCCGCCTCTCGCCCCCTGCCGGTCTTTTCACCTCTGCCAGAGGCTCCCTCTCATGA'),\n",
       " ('MLX-1',\n",
       "  'ATGACGGAGCCGGGCGCCTCTCCCGAGGACCCTTGGGTCAAGGTGGAGTATGCCTACAGCGACAACAGCCTGGACCCCGGGCTTTTTGTAGAAAGCACCCGCAAGGGGAGTGTAGTGTCCAGAGCTAATAGCATCGGTTCCACCAGTGCCTCTTCTGTCCCCAACACAGATGATGAGGACAGTGATTACCACCAGGAGGCCTACAAGGAGTCCTACAAAGACCGGCGGCGGCGCGCACACACTCAGGCTGAGCAGAAGAGGAGGGACGCCATCAAGAGAGGCTATGATGACCTTCAGACCATCGTCCCCACTTGCCAGCAGCAGGACTTCTCCATTGGCTCCCAAAAGCTCAGCAAAGCCATCGTTCTACAAAAGACCATTGACTACATTCAGTTTTTGCACAAGGAGAAGAAAAAGCAGGAGGAGGAGGTGTCCACGTTACGCAAGGATGTCACCGCCCTAAAGATCATGAAAGTGAACTATGAGCAGATTGTGAAGGCACACCAGGACAACCCCCATGAAGGGGAGGACCAGGTCTCTGACCAGGTCAAGTTCAACGTGTTTCAAGGCATCATGGATTCCCTGTTCCAGTCCTTCAATGCCTCCATCTCAGTGGCCAGCTTCCAGGAGCTGTCAGCATGTGTCTTCAGCTGGATCGAGGAGCACTGTAAGCCTCAGACCCTGCGGGAGATTGTGATTGGCGTCCTGCACCAATTGAAAAACCAGCTTTACTGA'),\n",
       " ('MLX-2', 'C'),\n",
       " ('HNF1B-1', 'AG'),\n",
       " ('HNF1B-2', 'AG'),\n",
       " ('ETV4-1',\n",
       "  'ATGTACCTCCACACAGAGGGCTTCTCTGGGCCCTCTCCAGGTGACGGGGCCATGGGCTATGGCTATGAGAAACCTCTGCGACCATTCCCAGATGATGTCTGCGTTGTCCCTGAGAAATTTGAAGGAGACATCAAGCAGGAAGGGGTCGGTGCATTTCGAGAGGGGCCGCCCTACCAGCGCCGGGGTGCCCTGCAGCTGTGGCAATTTCTGGTGGCCTTGCTGGATGACCCAACAAATGCCCATTTCATTGCCTGGACGGGCCGGGGAATGGAGTTCAAGCTCATTGAGCCTGAGGAGGTCGCCAGGCTCTGGGGCATCCAGAAGAACCGGCCAGCCATGAATTACGACAAGCTGAGCCGCTCGCTCCGATACTATTATGAGAAAGGCATCATGCAGAAGGTGGCTGGTGAGCGTTACGTGTACAAGTTTGTGTGTGAGCCCGAGGCCCTCTTCTCTTTGGCCTTCCCGGACAATCAGCGTCCAGCTCTCAAGGCTGAGTTTGACCGGCCTGTCAGTGAGGAGGACACAGTCCCTTTGTCCCACTTGGATGAGAGCCCCGCCTACCTCCCAGAGCTGGCTGGCCCCGCCCAGCCATTTGGCCCCAAGGGTGGCTACTCTTACTAG'),\n",
       " ('SOX15-1',\n",
       "  'ATGGCGCTACCAGGCTCCTCACAGGACCAGGCCTGGAGCCTGGAGCCTCCGGCTGCCACGGCTGCTGCCTCCTCATCTTCGGGACCCCAGGAGCGGGAGGGCGCTGGGAGCCCCGCGGCCCCCGGGACGCTGCCCCTGGAGAAGGTGAAGCGGCCGATGAACGCGTTCATGGTGTGGAGCTCCGCTCAGCGCCGCCAGATGGCGCAGCAGAACCCCAAGATGCACAACTCCGAGATCTCCAAGCGCCTGGGCGCGCAGTGGAAGCTGCTGGACGAGGACGAGAAGCGGCCCTTCGTGGAGGAGGCCAAGCGGCTCCGCGCCCGACACCTGCGCGACTACCCCGACTACAAGTACCGGCCTCGGCGCAAGGCCAAGAGCTCGGGCGCCGGACCTTCCCGCTGCGGACAGGGAAGAGGCAACCTGGCCAGCGGCGGCCCGCTCTGGGGGCCGGGGTACGCGACCACCCAACCGAGCAGAGGCTTTGGGTACAGACCCCCCAGCTACTCGACAGCCTACCTGCCTGGCAGCTATGGCTCTTCCCACTGCAAACTGGAAGCCCCCTCACCGTGCTCCCTCCCTCAGAGTGACCCTAGGCTCCAGGGGGAACTGCTGCCCACCTATACCCACTACCTGCCCCCTGGCTCTCCCACTCCATACAACCCTCCCCTTGCTGGTGCCCCCATGCCCCTAACCCACCTCTAA'),\n",
       " ('MEOX1-3', 'G'),\n",
       " ('NFATC1-1',\n",
       "  'ATGCCAAGCACCAGCTTTCCAGTCCCTTCCAAGTTTCCACTTGGCCCTGCGGCTGCGGTCTTCGGGAGAGGAGAAACTTTGGGGCCCGCGCCGCGCGCCGGCGGCACCATGAAGTCAGCGGAGGAAGAACACTATGGCTATGCATCCTCCAACGTCAGCCCCGCCCTGCCGCTCCCCACGGCGCACTCCACCCTGCCGGCCCCGTGCCACAACCTTCAGACCTCCACACCGGGCATCATCCCGCCGGCGGATCACCCCTCGGGGTACGGAGCAGCTTTGGACGGTGGGCCCGCGGGCTACTTCCTCTCCTCCGGCCACACCAGGCCTGATGGGGCCCCTGCCCTGGAGAGTCCTCGCATCGAGATAACCTCGTGCTTGGGCCTGTACCACAACAATAACCAGTTTTTCCACGATGTGGAGGTGGAAGACGTCCTCCCTAGCTCCAAACGGTCCCCCTCCACGGCCACGCTGAGTCTGCCCAGCCTGGAGGCCTACAGAGACCCCTCGTGCCTGAGCCCGGCCAGCAGCCTGTCCTCCCGGAGCTGCAACTCAGAGGCCTCCTCCTACGAGTCCAACTACTCGTACCCGTACGCGTCCCCCCAGACGTCGCCATGGCAGTCTCCCTGCGTGTCTCCCAAGACCACGGACCCCGAGGAGGGCTTTCCCCGCGGGCTGGGGGCCTGCACACTGCTGGGTTCCCCGCGGCACTCCCCCTCCACCTCGCCCCGCGCCAGCGTCACTGAGGAGAGCTGGCTGGGTGCCCGCTCCTCCAGACCCGCGTCCCCGTGCAACAAGAGGAAGTACAGCCTCAACGGCCGGCAGCCGCCCTACTCACCCCACCACTCGCCCACGCCGTCCCCGCACGGCTCCCCGCGGGTCAGCGTGACCGACGACTCGTGGTTGGGCAACACCACCCAGTACACCAGCTCGGCCATCGTGGCCGCCATCAACGCGCTGACCACCGACAGCAGCCTGGACCTGGGAGATGGCGTCCCTGTCAAGTCCCGCAAGACCACCCTGGAGCAGCCGCCCTCAGTGGCGCTCAAGGTGGAGCCCGTCGGGGAGGACCTGGGCAGCCCCCCGCCCCCGGCCGACTTCGCGCCCGAAGACTACTCCTCTTTCCAGCACATCAGGAAGGGCGGCTTCTGCGACCAGTACCTGGCGGTGCCGCAGCACCCCTACCAGTGGGCGAAGCCCAAGCCCCTGTCCCCTACGTCCTACATGAGCCCGACCCTGCCCGCCCTGGACTGGCAGCTGCCGTCCCACTCAGGCCCGTATGAGCTTCGGATTGAGGTGCAGCCCAAGTCCCACCACCGAGCCCACTACGAGACGGAGGGCAGCCGGGGGGCCGTGAAGGCGTCGGCCGGAGGACACCCCATCGTGCAGCTGCATGGCTACTTGGAGAATGAGCCGCTGATGCTGCAGCTTTTCATTGGGACGGCGGACGACCGCCTGCTGCGCCCGCACGCCTTCTACCAGGTGCACCGCATCACAGGGAAGACCGTGTCCACCACCAGCCACGAGGCCATCCTCTCCAACACCAAAGTCCTGGAGATCCCACTCCTGCCGGAGAACAGCATGCGAGCCGTCATTGACTGTGCCGGAATCCTGAAACTCAGAAACTCCGACATTGAACTTCGGAAAGGAGAGACGGACATCGGGAGGAAGAACACACGGGTACGGCTGGTGTTCCGCGTTCACGTCCCGCAACCCAGCGGCCGCACGCTGTCCCTGCAGGTGGCCTCCAACCCCATCGAATGCTCCCAGCGCTCAGCTCAGGAGCTGCCTCTGGTGGAGAAGCAGAGCACGGACAGCTATCCGGTCGTGGGCGGGAAGAAGATGGTCCTGTCTGGCCACAACTTCCTGCAGGACTCCAAGGTCATTTTCGTGGAGAAAGCCCCAGATGGCCACCATGTCTGGGAGATGGAAGCGAAAACTGACCGGGACCTGTGCAAGCCGAATTCTCTGGTGGTTGAGATCCCGCCGTTTCGGAATCAGAGGATAACCAGCCCCGTTCACGTCAGTTTCTACGTCTGCAACGGGAAGAGAAAGCGAAGCCAGTACCAGCGTTTCACCTACCTTCCCGCCAACGGTAACGCCATCTTTCTAACCGTAAGCCGTGAACATGAGCGCGTGGGGTGCTTTTTCTAA'),\n",
       " ('NFATC1-2', 'TC'),\n",
       " ('SMAD4-1', 'G'),\n",
       " ('ZNF397-2',\n",
       "  'ATGGCTGTGGAATCTGGAGTGATTTCAACCCTGATACCTCAGGATCCTCCGGAACAAGAACTAATACTAGTGAAAGTAGAAGATAACTTTTCCTGGGATGAGAAATTTAAGCAGAATGGGAGTACTCAATCCTGCCAAGAATTGTTTCGTCAGCAATTCAGAAAATTTTGCTACCAGGAGACACCTGGGCCCCGGGAGGCTCTGAGCCGACTCCAGGAACTTTGCTATCAGTGGCTAATGCCAGAGTTGCACACAAAGGAGCAGATCTTAGAACTGCTGGTACTGGAGCAGTTCCTGAGCATTCTGCCTGAGGAGCTGCAGATCTGGGTTCAGCAACATAATCCAGAAAGCGGCGAGGAAGCTGTGACCCTGTTGGAGGATTTAGAGAGGGAGTTTGATGACCCAGGGCAGCAGGTCCCAGCTAGTCCACAGGGACCAGCAGTGCCATGGAAGGATTTAACATGTCTCAGAGCATCCCAAGAGTCAACAGACATCCACCTCCAGCCCTTAAAGACACAGCTGAAATCCTGGAAACCATGCCTTTCCCCTAAAAGTGATTGTGAGAACAGTGAAACAGCAACAAAAGAGGGCATCTCAGAAGAAAAATCACAGGGACTCCCTCAGGAACCTTCATTTCGAGGAATTAAGTTGTCCAGACCTCCCAAAGCTTCTTCAGCTATCCGTTGGGAATGTGTTTCTCCAGGAAGTTTTCCCGGCGATATCATAGCTGCTGAGGCTACACATTCAACAATTTCTTGCTTTGCCATCAACACTTTGCCAGCCACCATCCTGCCATCTAAAAATGTGAATAGAAAGTATTTTTCCTGA'),\n",
       " ('CXXC1-1',\n",
       "  'ATGGAGGGAGATGGTTCAGACCCAGAGCCTCCAGATGCCGGGGAGGACAGCAAGTCCGAGAATGGGGAGAATGCGCCCATCTACTGCATCTGCCGCAAACCGGACATCAACTGCTTCATGATCGGGTGTGACAACTGCAATGAGTGGTTCCATGGGGACTGCATCCGGATCACTGAGAAGATGGCCAAGGCCATCCGGGAGTGGTACTGTCGGGAGTGCAGAGAGAAAGACCCCAAGCTAGAGATTCGCTATCGGCACAAGAAATCACGGGAGCGGGATGGCAATGAGCGGGACAGCAGTGAGCCCCGGGATGAGGGTGGAGGGCGCAAGAGGCCTGTCCCTGATCCAGACCTGCAGCGCCGGGCAGGGTCAGGGACAGGGGTTGGGGCCATGCTTGCTCGGGGCTCTGCTTCGCCCCACAAATCCTCTCCGCAGCCCTTGGTGGCCACACCCAGCCAGCATCACCAGCAGCAGCAGCAGCAGATCAAACGGTCAGCCCGCATGTGTGGTGAGTGTGAGGCATGTCGGCGCACTGAGGACTGTGGTCACTGTGATTTCTGTCGGGACATGAAGAAGTTCGGGGGCCCCAACAAGATCCGGCAGAAGTGCCGGCTGCGCCAGTGCCAGCTGCGGGCCCGGGAATCGTACAAGTACTTCCCTTCCTCGCTCTCACCAGTGACGCCCTCAGAGTCCCTGCCAAGGCCCCGCCGGCCACTGCCCACCCAACAGCAGCCACAGCCATCACAGAAGTTAGGGCGCATCCGTGAAGATGAGGGGGCAGTGGCGTCATCAACAGTCAAGGAGCCTCCTGAGGCTACAGCCACACCTGAGCCACTCTCAGATGAGGACCTACCTCTGGATCCTGACCTGTATCAGGACTTCTGTGCAGGGGCCTTTGATGACCATGGCCTGCCCTGGATGAGCGACACAGAAGAGTCCCCATTCCTGGACCCCGCGCTGCGGAAGAGGGCAGTGAAAGTGAAGCATGTGAAGCGTCGGGAGAAGAAGTCTGAGAAGAAGGTGATGGAGAGGAAGGAGGAGCGATACAAGCGGCATCGGCAGAAGCAGAAGCACAAGGATAAATGGAAACACCCAGAGAGGGCTGATGCCAAGGACCCTGCGTCACTGCCCCAGTGCCTGGGGCCCGGCTGTGTGCGCCCCGCCCAGCCCAGCTCCAAGTATTGCTCAGATGACTGTGGCATGAAGCTGGCAGCCAACCGCATCTACGAGATCCTCCCCCAGCGCATCCAGCAGTGGCAGCAGAGCCCTTGCATTGCTGAAGAGCACGGCAAGAAGCTGCTCGAACGCATTCGCCGAGAGCAGCAGAGTGCCCGCACCCGCCTTCAGGAAATGGAACGCCGATTCCATGAGCTTGAGGCCATCATTCTACGTGCCAAGCAGCAGGCTGTGCGCGAGGATGAGGAGAGCAACGAGGGTGACAGTGATGACACAGACCTGCAGATCTTCTGTGTTTCCTGTGGGCACCCCATCAACCCACGTGTTGCCTTGCGCCACATGGAGCGCTGCTACGCCAAGTATGAGAGCCAGACGTCCTTTGGGTCCATGTACCCCACACGCATTGAAGGGGCCACACGACTCTTCTGTGATGTGTATAATCCTCAGAGCAAAACATACTGTAAGCGGCTCCAGGTGCTGTGCCCCGAGCACTCACGGGACCCCAAAGTGCCAGCTGACGAGGTATGCGGGTGCCCCCTTGTACGTGATGTCTTTGAGCTCACGGGTGACTTCTGCCGCCTGCCCAAGCGCCAGTGCAATCGCCATTACTGCTGGGAGAAGCTGCGGCGTGCGGAAGTGGACTTGGAGCGCGTGCGTGTGTGGTACAAGCTGGACGAGCTGTTTGAGCAGGAGCGCAATGTGCGCACAGCCATGACAAACCGCGCGGGATTGCTGGCCCTGATGCTGCACCAGACGATCCAGCACGATCCCCTCACTACCGACCTGCGCTCCAGTGCCGACCGCTGA'),\n",
       " ('FOSB-2', 'G'),\n",
       " ('ZNF473-1',\n",
       "  'ATGGCTGAGGAATTTGTGACCCTCAAGGATGTCGGCATGGACTTCACCTTGGGAGACTGGGAGCAGCTCGGGCTGGAACAGGGGGACACGTTCTGGGACACAGCGTTGGACAATTGCCAGGACCTCTTCCTGCTGGACCCCCCAAGACCCAACCTGACCTCCCACCCAGATGGCAGTGAAGATCTGGAGCCTCTGGCAGGAGGAAGCCCAGAAGCAACAAGCCCTGATGTGACTGAGACCAAGAACTCTCCTCTGATGGAGGATTTCTTCGAAGAAGGATTCTCCCAGGAGATTATAGAGATGTTATCCAAGGATGGCTTCTGGAACTCCAATTTCGGAGAAGCCTGTATAGAGGACACCTGGTTAGATAGTTTGCTAGGCGATCCAGAAAGTCTTCTGAGGTCTGATATTGCCACCAACGGGGAAAGTCCCACGGAATGCAAGAGTCATGAATTAAAGAGAGGACTCAGTCCTGTGTCCACCGTTTCCACGGGAGAAGATTCCATGGTGCATAATGTTTCTGAAAAGACCCTCACACCAGCTAAGTCTAAGGAATATAGGGGTGAGTTTTTCTCCTACTCCGACCACAGCCAGCAGGATTCTGTTCAGGAAGGGGAGAAACCATATCAATGTAGTGAATGTGGGAAAAGCTTCAGTGGGAGTTACCGTCTTACCCAGCACTGGATCACTCATACTAGGGAGAAACCCACTGTCCATCAAGAGTGTGAGCAAGGTTTTGACCGGAATGCTTCCCTTTCTGTGTATCCGAAAACTCACACGGGCTACAAATTCTATGTGTGTAATGAATATGGGACAACTTTTAGTCAGAGTACATACCTGTGGCATCAGAAAACTCACACTGGAGAAAAACCATGTAAGAGTCAAGATAGTGACCACCCACCCAGTCATGACACACAGCCTGGTGAGCATCAGAAAACTCACACAGATAGTAAGTCCTACAACTGTAACGAATGCGGCAAGGCTTTTACCCGGATCTTCCACCTTACTCGGCACCAGAAGATCCACACTCGGAAACGCTATGAGTGTTCCAAGTGCCAGGCGACCTTCAACTTGAGAAAACACCTCATCCAACATCAGAAAACTCACGCTGCAAAAACTACCTCTGAGTGTCAGGAGTGTGGGAAGATTTTTAGGCACAGTTCGCTGCTCATTGAACACCAGGCTCTTCATGCTGGAGAGGAGCCTTATAAGTGTAACGAACGTGGGAAATCCTTCAGGCATAACTCTACCCTAAAGATCCATCAGAGGGTTCACAGTGGAGAGAAGCCTTACAAATGCAGTGAGTGTGGGAAGGCCTTCCACCGGCACACTCACCTTAATGAACATCGGCGAATTCATACAGGCTACAGACCCCACAAATGTCAGGAATGCGTCAGGAGTTTCAGCCGGCCCTCACATCTGATGCGACATCAGGCCATTCACACCGCAGAAAAGCCCTATAGCTGTGCTGAATGCAAGGAGACTTTCAGCGATAACAATCGCCTTGTGCAACACCAGAAAATGCACACTGTCAAAACCCCATATGAATGTCAGGAGTGCGGAGAACGCTTCATTTGCGGCTCAACCCTGAAGTGCCACGAGAGTGTTCACGCCAGAGAAAAACAAGGATTTTTTGTGAGTGGGAAGATCTTGGATCAGAACCCAGAACAGAAAGAGAAGTGCTTTAAGTGTAACAAATGTGAGAAAACCTTTAGCTGCAGCAAATACCTAACTCAGCACGAGAGGATTCACACCAGGGGAGTGAAGCCCTTTGAATGTGACCAGTGTGGGAAAGCCTTTGGCCAAAGTACTCGGCTCATTCACCATCAAAGAATCCACTCTAGAGTGAGGCTGTATAAATGGGGTGAGCAAGGGAAAGCCATCAGCAGTGCCTCCCTTATCAAACTTCAGTCCTTCCACACAAAGGAGCACCCTTTTAAATGTAACGAATGCGGAAAGACCTTCAGCCACAGTGCACACCTCTCAAAACATCAGTTAATTCACGCTGGAGAGAATCCCTTTAAATGTAGTAAGTGTGACAGAGTCTTCACCCAGAGAAACTACCTTGTTCAGCATGAGCGAACTCATGCCAGAAAGAAGCCGTTGGTGTGTAACGAATGCGGGAAAACGTTCCGTCAGAGCTCATGCCTTTCTAAGCATCAGAGAATTCACTCAGGTGAGAAGCCCTATGTATGTGATTACTGCGGGAAGGCCTTCGGCCTGAGTGCTGAGCTTGTCCGCCACCAGAGAATTCACACTGGAGAAAAGCCTTATGTTTGTCAGGAATGCGGGAAAGCCTTCACCCAGAGCTCATGCCTTTCTATTCACCGGAGAGTTCACACTGGGGAGAAGCCCTACAGATGTGGTGAATGTGGGAAAGCCTTTGCCCAGAAAGCAAATCTAACACAGCACCAGAGAATTCACACAGGGGAGAAGCCTTACTCCTGTAATGTGTGTGGCAAAGCTTTTGTCCTCAGTGCCCATCTCAACCAGCACCTGAGAGTTCACACCCAGGAGACACTTTATCAGTGTCAACGTTGCCAGAAAGCCTTTCGGTGCCACTCGAGCCTCAGCCGCCATCAGCGTGTACACAACAAGCAGCAATACTGCCTGTAG'),\n",
       " ('SPIB-1', 'C'),\n",
       " ('ZNF177-2',\n",
       "  'ATGGCTGCAGGGTGGCTGACAACCTGGTCACAGAACTCAGTAACCTTCCAGGAAGTGGCAGTGGACTTTTCCCAGGAGGAGTGGGCATTGCTGGACCCTGCTCAAAAAAATCTATACAAAGATGTGATGCTGGAGAACTTTAGGAACCTGGCCTCAGTAGGGTATCAGCTCTGCAGACACAGTCTGATCTCCAAGGTGGATCAAGAACAGCTGAAGACAGATGAAAGAGGAATTTTACAAGGTGACTGTGCAGACTGGGAAACTCAACTTAAACCAAAAGATACAATTGCTATGCAGAACATTCCTGGGGGAAAAACATCCAATGGCATAAACATGAACATATATTGGAGAGAAGCCCTGTTATGGTCACCTGGAAACAGCCTTCTGGCCCAACTCTGGATGCCTGTTATACTGGGACAAACCTTATAAATGTTATAGCTATGATTGTTTTTATCAAAAATATATACACCAAGAGGAGGACAGAGAAAGGATACTAAA'),\n",
       " ('ZNF544-1',\n",
       "  'ATGGAAGCACGTTCTATGCTGGTTCCACCCCAGGCATCTGTGTGCTTCGAGGATGTGGCTATGGCATTCACACAGGAGGAGTGGGAACAGCTGGACCTGGCCCAGAGGACACTGTACCGAGAGGTGACACTGGAGACCTGGGAGCATATTGTCTCCCTGGGGCTTTTCCTTTCCAAATCTGATGTGATCTCTCAGCTGGAGCAAGAAGAGGACCTGTGCAGGGCAGAGCAGGAGGCCCCCCGAGACTGGAAAGCTACCCTTGAGGAGAATAGGTTGAATTCTGAAAAAGATCGAGCTAGGGAAGAACTATCCCACCACGTGGAAGTGTACAGGAGTGGACCGGAGGAGCCACCCTCTTTGGTATTAGGAAAAGTGCAAGATCAGAGCAACCAGTTAAGGGAACACCAGGAGAACTCCTTGAGGTTCATGGTACTCACCTCAGAGAGACTGTTTGCTCAAAGGGAACATTGTGAGCTTGAACTTGGGGGAGGTTATTCTCTACCTTCTACTTTAAGCCTTCTACCTACAACATTACCTACAAGTACAGGTTTCCCTAAGCCCAACTCACAAGTTAAAGAGTTGAAACAAAATTCAGCTTTCATTAATCATGAGAAAAATGGAGCAGATGGGAAGCACTGTGAGAGTCATCAGTGTGCTAGAGCTTTCTGTCAGAGTATTTACTTGAGTAAACTTGGAAACGTTGAAACAGGAAAGAAAAACCCTTATGAATATATTGTCAGTGGTGACTCTCTCAACTATGGTTCCTCCCTTTGTTTTCATGGTAGAACTTTTTCAGTGAAGAAAAGTGATGACTGTAAGGATTATGGAAACCTCTTCAGTCACAGTGTGTCTCTGAATGAACAGAAGCCAGTGCATTTTGGGAAAAGTCAGTATGAGTGTGATGAGTGCAGGGAAACCTGTTCTGAGAGTCTGTGCCTTGTACAAACAGAAAGAAGTGGCCCTGGAGAGACCCCCTTCAGATGTGAGGAACGCTGTGCTGCCTTCCCCATGGCCTCATCTTTTTCTGACTGTAACATCATTCAGACTACAGAGAAGCCATCTGTGTGTAATCAGTGTGGAAAATCTTTCAGCTGTTGTAAGCTCATACACCAGAGAACACACACTGGAGAAAAGCCCTTCGAATGTACTCAGTGTGGGAAATCTTTTAGCCAGAGCTATGACCTTGTCATACATCAGAGGACACACACTGGAGAGAAGCCCTATGAGTGTGACCTGTGTGGGAAATCCTTCACCCAGAGATCCAAACTTATTACACATCAGCGAATTCACACTGGAGAAAAACCGTATCAGTGTATTGAATGCAGAAAATCCTTCAGGTGGAACTCTAACCTCATTGTACATCAGAGAATTCATACTGGAGAGAAACCGTATGAGTGCACTCACTGTGGAAAGTCCTTCAGCCAAAGCTATGAGTTAGTTACACATAAAAGAACGCACACTGGAGAAAAACCCTTCAAATGTACTCAGTGTGGGAAATCTTTCAGCCAGAAGTATGACCTTGTTGTACATCAGAGGACACACACTGGAGAGAAGCCCTATGAGTGCAACCTGTGTGGGAAATCCTTCTCCCAGAGTTCCAAACTTATTACGCATCAGCGAATTCACACTGGAGAAAAACCGTATCAGTGTATTGAATGTGGGAAATCCTTCAGATGGAACTCTAACCTCGTCATACATCAGAGAATTCATACTGGAGAGAAACCGTACGATTGCACTCACTGTGGAAAGTCCTTCAGCCAAAGCTATCAGTTAGTTGCACATAAAAGAACTCACACTGGAGAAAAGCCCTATGAATGTAACGAGTGTGGAAAAGCCTTCAATCGAAGCACTCAGCTCATCAGGCATCTGCAAATTCACACTGGGGAGAAGCCGTACAAATGCAATCAGTGCAATAAAGCCTTTGCAAGGAGCTCCTACCTTGTGATGCATCAGAGAACTCACACTGGTGAGAAACCTTTTGAGTGTAGTCAGTGTGGGAAAGCCTTTTCAGGGAGCTCTAACCTTCTTTCCCATCACAGAATTCATTCTGGAGAGAAACCCTATGAATGTAGTGACTGTGGGAAATCCTTCCGGCAGCAATCTCAACTTGTAGTGCATCGGCGGACACATACTGGAGAGAAACCTTAG'),\n",
       " ('ZNF544-5', 'CT'),\n",
       " ('ZNF544-6', 'T'),\n",
       " ('ZNF254-1',\n",
       "  'ATGCCAGGACCCCCTAGAAGCCTAGAAATGGGACTGTTGACATTTAGGGATGTGGCCATAGAATTCTCTCTGGAGGAGTGGCAACACCTGGACATTGCACAGCAGAATTTATATAGAAATGTGATGTTAGAGAACTACAGAAACCTGGCCTTCCTGGGTATTGCTGTCTCTAAGCCAGACCTGATCACCTGTCTGGAACAAGGGAAAGAGCCCTGGAATATGAAGCGACATGAGATGGTGGATGAACCCCCAGGTATGTGTCCTCATTTTGCTCAAGACCTTTGGCCAGAGCAGGGCATGGAAGATTCTTTTCAAAAAGCAATACTGAGAAGATATGGAAAATATGGACATGAGAATTTACAGTTAAGAAAAGGCTGTAAAAGTGTGGATGAGTATAAGGTGAACAAAGAAGGTTATAATGGACTTAACCAGTGTTTCACAACTGCCCAGAGCAAAGTATTTCAATGTGATAAATATTTGAAAGTCTTCTATAAATTTTTAAATTCAAACAGACCTAAGATAAGACATACTGAAAAGAAATCTTTCAAATGTAAAAAACGTGTCAAATTATTTTGCATGCTTTCACATAAAACCCAACACAAAAGCATTTATCATAGAGAGAAGTCCTACAAATGTAAAGAATGTGGAAAAACCTTTAATTGGTCCTCAACCCTTACTAATCATAGGAAAATTTATACTGAAGAGAAACCTTACAAATGTGAAGAATATAACAAATCTCCTAAGCAACTCTCAACCCTTACTACACATGAAATAATTCATGCTGGAGAGAAACTCTACAAATGTGAAGAATGTGGTGAAGCTTTTAATCGATCCTCAAATCTTACTACACATAAGATAATTCATACTGGAGAGAAACCTTACAAGTGTGAAGAATGTGGCAAAGCATTTATCTGGTCCTCAACCCTTACTGAGCATAAGAAAATTCATACTAGAAAGAAACCCTACAAGTGTGAAGAATGTGGCAAAGCATTTATATGGTCCTCAACACTAACTAGACATAAGAGGATGCACACTGGAGAGAAACCCTACAAATGTGAAGAATGTGGCAAAGCTTTTAGCCAGTCCTCAACCCTTACTACACATAAGATAATTCATACTGGAGAGAAACGCTACAAATGCTTAGAATGTGGCAAAGCTTTTAAGCAACTCTCAACTCTTACTACACATAAAATAATTCATGTTGGAGAGAAACTCTACAAATGTGAAGAATGCGGCAAAGGTTTTAATCGATCTTCAAATCTTACTACACATAAGATAATTCATACTGGAGAGAAACCTTACAAGTGTGAAGAATGTGGCAAAGCATTTATCTGGTCCTCAACCCTTACTAAACATAAGAGAATTCATACTAGAGAGAAACCCTACAAATGTGAAGAATGTGGCAAGGCATTTATATGGTCCTCAACCCTAACTAGACATAAGAGGATGCACACTGGAGAGAAACCCTACAAATGTGAAGAATGTGGCAAATCTTTTAGCCAATCCTCAACCCTTACTACACATAAGATAATTCATACTGGAGAGAAACCCTACAAATGTGAAGAATGTGGCAAAGCCTTTAACTGGTCCTCAACTCTTACTAAACATAAGATAATTCATACTGAAGAGAAACCCTACAAATGTGAAAAATGTGGCAAAGCCTTTAAGCAGTCTTCAATCCTTACTAACCATAAGAGAATTCATACTGGAGAGAAACCCTATAAATGTGAAGAATGTGGCAAATCTTTTAACCGGTCTTCAACTTTTACTAAACATAAGGTAATTCATACTGGAGTAAAACCCTACAAATGTGAAGAATGTGGCAAAGCATTTTTCTGGTCCTCAACCCTAACTAAACATAAGAGAATTCATACTGGAGAGCAACCCTACAAATGGGAAAAATTTGGCAAAGCCTTTAATCGGTCCTCGCACCTCACCACAGATAAGATAACTCATTGGAGAGAAATCTTACAAGTATGA'),\n",
       " ('ZNF254-2',\n",
       "  'ATGCCAGGACCCCCTAGAAGCCTAGAAATGGGACTGTTGACATTTAGGGATGTGGCCATAGAATTCTCTCTGGAGGAGTGGCAACACCTGGACATTGCACAGCAGAATTTATATAGAAATGTGATGTTAGAGAACTACAGAAACCTGGCCTTCCTGGGTATTGCTGTCTCTAAGCCAGACCTGATCACCTGTCTGGAACAAGGGAAAGAGCCCTGGAATATGAAGCGACATGAGATGGTGGATGAACCCCCAGGATTGGATTTTTCATTACTGTGA'),\n",
       " ('NFIC-2', 'GA'),\n",
       " ('ZNF549-1',\n",
       "  'ATGGCCGAGGCAGCGCTAGTGAATACGCCGCAGATTCCCATGGTAACAGAAGAGTTTGTGAAACCATCACAGGGCCATGTGACCTTTGAGGATATTGCTGTGTACTTCTCCCAGGAGGAGTGGGGCCTCCTTGATGAAGCTCAAAGGTGCCTGTATCATGATGTGATGCTGGAGAACTTTTCGCTTATGGCCTCAGTAGGTTGTTTGCATGGAATAGAGGCTGAGGAGGCCCCTTCTGAGCAGACTCTTTCTGCGCAAGGAGTGTCACAGGCCAGGACTCCAAAGCTAGGTCCTTCCATCCCAAATGCTCATTCTTGTGAGATGTGTATCCTGGTCATGAAAGACATTTTGTACCTCAGTGAGCATCAGGGGACACTTCCCTGGCAGAAACCTTATACGTCTGTGGCCAGTGGGAAATGGTTTTCATTTGGTTCTAACCTGCAACAGCACCAGAACCAGGACAGTGGAGAGAAACACATCAGAAAGGAGGAGAGCAGTGCCTTGCTTCTGAATAGCTGCAAAATTCCTCTGTCAGACAATCTTTTCCCATGCAAAGATGTTGAGAAGGATTTTCCAACCATCCTGGGCCTTCTCCAACACCAGACCACCCACAGCAGACAAGAGTATGCACATAGAAGCAGGGAGACCTTTCAACAAAGACGTTACAAATGTGAGCAAGTTTTCAATGAGAAAGTTCATGTTACTGAGCATCAGAGAGTCCACACTGGAGAAAAAGCTTATAAGCGTAGGGAATATGGGAAATCCTTGAACTCTAAATACTTATTTGTTGAACACCAGAGAACCCATAATGCAGAAAAGCCTTATGTGTGCAATATATGTGGGAAATCATTCCTCCATAAACAAACACTCGTTGGGCACCAGCAGAGAATTCACACTAGAGAAAGGTCTTATGTGTGCATCGAATGTGGGAAATCCTTGAGCTCCAAATACTCACTTGTGGAACACCAGAGAACCCATAATGGAGAAAAGCCTTATGTGTGCAATGTATGTGGGAAATCATTCCGCCACAAACAAACATTTGTTGGCCATCAGCAGAGAATCCACACTGGAGAGAGGCCTTATGTGTGTATGGAATGTGGGAAATCTTTTATTCATTCCTATGACCGCATTCGACACCAGAGAGTTCACACTGGAGAAGGGGCTTATCAGTGCAGTGAATGTGGGAAATCCTTCATATACAAACAGTCACTTCTTGATCACCATAGAATCCACACGGGAGAAAGGCCTTATGAGTGCAAAGAATGTGGGAAGGCCTTCATTCACAAAAAAAGACTTCTTGAGCACCAGAGAATTCATACTGGAGAAAAGCCTTATGTGTGCATCATATGTGGGAAATCATTTATCCGCTCGTCTGACTACATGCGACACCAGAGAATTCACACTGGAGAAAGGGCTTATGAATGCAGTGACTGTGGGAAAGCCTTCATCTCCAAACAAACACTTCTTAAGCATCACAAAATCCACACTAGAGAAAGGCCTTATGAATGCAGTGAATGTGGAAAAGGCTTCTACCTTGAGGTTAAACTTCTTCAGCACCAAAGAATCCATACTAGAGAACAACTTTGTGAGTGCAATGAATGTGGAAAAGTCTTCAGCCACCAAAAAAGACTTCTTGAGCACCAGAAAGTTCACACTGGCGAAAAGCCCTGTGAGTGCAGTGAATGTGGGAAATGCTTTAGACACCGCACCAGCCTCATTCAACACCAGAAAGTTCACAGTGGAGAGAGGCCTTATAACTGCACTGCATGTGAGAAGGCCTTTATCTATAAAAACAAACTTGTTGAGCATCAGCGAATCCACACCGGAGAAAAGCCGTATGAATGTGGTAAATGTGGGAAAGCCTTCAACAAAAGATATTCCCTTGTCAGGCACCAGAAGGTACATATAACAGAAGAGCCCTAG'),\n",
       " ('ZNF559-1',\n",
       "  'ATGGTGGCTGGGTGGTTGACAAATTACTCTCAGGACTCAGTGACCTTTGAGGATGTGGCTGTGGACTTCACCCAGGAGGAGTGGACTTTGCTGGATCAAACTCAGAGAAACTTATACAGAGATGTGATGCTGGAGAACTATAAGAATCTAGTTGCAGTAGATTGGGAGAGTCATATTAATACCAAATGGTCAGCACCTCAGCAGAATTTTTTGCAGGGGAAAACATCCAGTGTGGTGGAAATGGAGAGAAACCATTTTGGAGAGGAACTGTTTGACTTTAACCAATGTGAAAAAGCCTTGAGTGAACACTCATGCCTTAAGACTCACAGGAGAACTTACTTTAGAAAGAAAACCTGTGAGTGTAATCAATGTGAAAAAGCCTTCAGAAAACCCTCTATCTTTACTTTACACAAGAAAACTGATATCGGAGAGGAACTTCCTAACTGTAATCAATGTGAAACAGCCTTCAGCCAACATCTACATCTTGTTTGCAAGAAAACTAGCCAAAATCTACATCTTGTTTGCAAGAAAACTCACACTCAAGAGAAACCATATAAATGCAGTGACTGTGAAAAAGGCTTACCTTCCTCCTCACACCTCAGAGAATGTGTAAGAATTTATGGTGGAGAGAGACCATATACTCATAAGGAGTATGTCGAAACCTTTTCTCATTCTACAGCCCTTTTTGTACACATGCAAACTCAAGATGGAGAAAAATTCTATGAATGTAAAGCATGTGGGAAACCCTTCACTGAGTCGTCATATCTTACTCAACATTTAAGAACTCATAGTAGAGTGTTACCTATAGAACATAAGAAATTTGGCAAAGCCTTTGCTTTTTCCCCAGATCTTGCTAAACATATAAGACTTAGAACTAGAGGAAAACACTATGTTTGTAATGAATGTGGCAAAGAATTTACTTGTTTCTCAAAACTCAACATTCACATAAGGGTTCACACTGGAGAAAAACCGTATGAGTGCAACAAATGTGGGAAAGCCTTCACTGATTCATCAGGTCTTATAAAACACAGGCGAACTCACACTGGAGAAAAGCCTTATGAATGTAAGGAATGTGGGAAAGCTTTTGCTAACTCTTCACATCTTACTGTACATATGAGAACTCACACTGGTGAGAAGCCTTATCAATGTAAGGAATGTGGAAAAGCCTTTATTAATTCCTCTTCCTTTAAAAGTCACATGCAGACTCATCCTGGTGTAAAACCCTATGACTGTCAACAGTGTGGGAAAGCCTTCATTCGATCCTCATTTCTTATTCGACATTTGAGAAGTCACAGTGCAGAAAGGCCTTTTGAATGTGAGGAATGTGGGAAAGCCTTTAGATACTCCTCGCACCTTAGTCAACATAAAAGAATACATACAGGGGAGAGGCCATATAAATGTCAAAAGTGTGGGCAAGCCTTCAGTATCTCATCAGGCCTTACAGTACACATGAGAACTCACACTGGTGAACGGCCCTTTGAATGTCAGGAATGTGGGAAAGCCTTTACTCGGTCCACATATCTTATTCGACATCTAAGAAGTCATAGTGTGGAGAAACCATATAAGGAATGTGGGCAAACCTTTAGTAATTCCTCATGCCTTACTGAATGTGTGTGA'),\n",
       " ('ZNF223-1',\n",
       "  'ATGACCATGTCCAAGGAGGCAGTGACCTTCAAGGATGTGGCAGTGGTCTTCACTGAGGAGGAGCTGGGGCTGCTGGACCTTGCCCAGAGGAAGCTGTATCGAGATGTGATGCTGGAGAACTTCAGGAACCTGCTGTCAGTGGGGCATCAACCATTCCACCGAGATACTTTCCACTTTCTAAGGGAGGAAAAGTTTTGGATGATGGATATAGCAACCCAAAGAGAAGGGAATTCAGGAGGCAAGATCCAACCTGAGATGAAGACTTTTCCAGAAGCAGGACCACATGAAGGGTGGTCCTGCCAGCAGATCTGGGAAGAAATTGCAAGTGATTTAACCAGGCCTCAAGACTCTACCATAAAGAGCTCTCAGTTCTTTGAACAGGGTGATGCCCACTCCCAGGTTGAGGAAGGAATATCTATAATGCACACAGGACAGAAACCTTCCAATTGTGGGAAGTGTAAACAATCCTTCAGTGATATGTCCATCTTTGATCTTCCTCAGCAAATACGCTCAGCAGAGAAGTCTCATTCCTGTGATGAGTGTGGAAAAAGCTTCTGTTACATCTCAGCACTTCATATTCATCAGAGAGTCCACCTGGGAGAGAAACTCTTTAAGTGTGACGTGTGTGGTAAGGAATTCAGTCAGAGTTTACATCTGCAAACTCATCAGAGAGTCCATACTGGAGAGAAACCTTTCAAATGTGAACAATGTGGGAGAGGCTTCAGATGTAGATCAGCACTTACAGTTCATTGCAAATTACACATGGGAGAGAAACATTATAATTGTGAGGCATGTGGGAGGGCCTTCATTCATGATTTCCAGCTTCAGAAACATCAGAGAATTCACACAGGGGAGAAGCCATTCAAATGTGAGATATGTAGTGTGAGCTTCCGTCTTAGGTCAAGTCTTAATAGGCATTGTGTGGTCCACACAGGAAAGAAACCAAACAGCACTGGGGAATATGGAAAAGGCTTCATTCGTAGGCTGGATTTGTGTAAGCATCAGACGATCCACACAGGAGAGAAACCATATAATTGTAAAGAATGTGGGAAGAGCTTCAGACGGTCCTCCTATCTTTTGATCCATCAGCGAGTCCACACTGGAGAAAAGCCATACAAATGTGACAAGTGTGGGAAGAGCTACATTACTAAGTCAGGTCTTGACTTGCACCACAGAGCCCACACAGGAGAGAGACCTTATAACTGTGATGACTGTGGGAAGAGCTTTAGACAGGCCTCAAGTATTTTGAATCATAAGAGACTCCATTGCCGAAAAAAACCATTCAAATGTGAGGATTGTGGAAAGAAGCTTGTATACCGGTCATACCGTAAAGACCAACAAAAAAACCACAGTGGAGAAAATCCATCCAAATGTGAAGACTGTGGGAAGCGCTACAAGAGGCGCTTGAATCTTGATATAATTTTATCATTATTTTTAAATGACACGTAA'),\n",
       " ('ETV2-1', 'TA'),\n",
       " ('ETV2-2', 'TA'),\n",
       " ('ETV2-3', 'TA'),\n",
       " ('ETV2-4', 'TA'),\n",
       " ('NFIX-1', 'TC'),\n",
       " ('NFIX-2', 'TC'),\n",
       " ('NFIX-3', 'TC'),\n",
       " ('ZNF101-1',\n",
       "  'ATGAGAGCTCATGCTGGACACAAACGATCTGAGTGTGGTGGGGAATGGAGAGAGACGCCCCGTAAACAGAAACAACATGGGAAAGCCTCCATTTCCCCCAGTAGTGGTGCACGGCGCACAGTAACACCAACTCGAAAGAGACCTTATGAATGCAAGGTGTGCGGGAAAGCCTTTAATTCTCCCAATTTATTTCAAATCCATCAAAGAACTCACACTGGAAAGAGGTCCTATAAATGTAGGGAAATAGTGAGAGCCTTCACAGTTTCCAGTTTCTTTCGAAAACATGGAAAAATGCATACTGGAGAAAAACGCTATGAATGTAAATACTGTGGAAAACCTATCGATTATCCCAGTTTATTTCAAATTCATGTTAGAACTCACACTGGAGAAAAACCTTACAAATGTAAACAATGTGGTAAAGCCTTCATTTCCGCAGGTTACCTTCGGACACATGAAATCAGATCTCACGCGCTGGAGAAATCCCACCAATGTCAGGAATGTGGGAAAAAACTCAGTTGTTCCAGTTCCCTTCACAGACATGAAAGAACTCATAGTGGAGGAAAACTCTACGAATGTCAAAAATGTGCCAAAGTCTTTAGATGTCCCACGTCCCTTCAAGCACATGAAAGAGCTCACACTGGAGAAAGACCTTATGAATGTAATAAATGTGGTAAAACCTTCAATTATCCCAGTTGTTTTCGAAGACATAAAAAAACTCATAGTGGAGAAAAGCCATATGAATGTACAAGGTGTGGTAAAGCCTTTGGGTGGTGCAGTTCCCTCCGAAGACATGAAATGACTCACACTGGAGAAAAACCCTTTGATTGTAAACAGTGTGGTAAAGTCTTTACTTTTTCAAATTACCTTAGACTTCATGAAAGAACTCATTTGGCCGGGCGTAGCCAGTGCTTTGGCAGGAGGCAGGGGGATCACCTGAGCCCAGGAGTTTGA'),\n",
       " ('ZNF101-2', 'C'),\n",
       " ('ZNF264-1',\n",
       "  'ATGGCGGCAGCGGTGCTGACGGACCGGGCCCAGGTGTCTGTGACCTTTGATGATGTGGCTGTGACTTTCACCAAGGAGGAGTGGGGGCAGCTGGACCTAGCTCAGCGGACCCTGTACCAGGAGGTGATGCTGGAAAACTGTGGGCTCCTGGTGTCTCTGGGGTGTCCTGTTCCCAAAGCTGAGCTGATCTGCCACCTAGAGCATGGGCAGGAGCCATGGACCAGGAAGGAAGACCTCTCCCAAGACACCTGTCCAGGCGACAAAGGAAAACCTAAGACCACAGAACCTACCACTTGTGAGCCAGCCTTGTCAGAGGGAATCTCACTTCAGGGACAAGTGACACAAGGAAACTCAGTGGACTCACAGTTGGGGCAAGCCGAGGATCAGGATGGGCTATCAGAAATGCAGGAAGGACACTTCAGACCAGGAATAGATCCCCAGGAGAAGTCTCCTGGGAAGATGAGCCCTGAATGTGATGGTTTAGGGACAGCTGATGGTGTGTGTTCAAGGATTGGACAGGAGCAAGTCTCTCCAGGAGATACAGTCCATAGCCATAACTCATGTGAGTCAGGTAAAGATCCCATGATTCAGGAAGAGGAAAATAACTTTAAATGCAGTGAATGTGGAAAAGTATTTAACAAGAAACACCTCCTTGCTGGACATGAGAAAATTCACTCTGGAGTTAAGCCCTATGAATGCACAGAATGTGGGAAAACCTTTATTAAGAGCACACATCTCCTGCAACATCACATGATCCACACTGGGGAGAGGCCCTATGAGTGCATGGAGTGTGGAAAGGCCTTCAACCGCAAGTCATACCTTACCCAGCACCAGCGGATTCACAGTGGAGAGAAGCCTTACAAGTGCAATGAATGCGGAAAGGCCTTCACCCACCGCTCCAATTTTGTCTTGCATAACAGGAGACACACTGGAGAAAAATCCTTTGTGTGCACAGAATGTGGCCAAGTCTTTCGACATAGGCCAGGCTTTCTCCGGCACTATGTTGTCCACAGTGGTGAGAATCCCTATGAGTGCTTGGAGTGTGGCAAGGTCTTCAAACACAGGTCATATCTCATGTGGCACCAGCAGACTCATACCGGGGAGAAGCCCTATGAGTGCAGTGAATGTGGGAAGGTCTTCTTGGAGAGTGCAGCCCTGATTCACCACTATGTCATCCACACTGGAGAGAAGCCCTTTGAGTGCCTCGAGTGTGGGAAGGCTTTCAACCACCGATCCTACCTCAAGAGGCACCAGCGGATTCACACTGGGGAGAAGCCCTTCGTGTGCAGTGAATGTGGAAAGGCCTTCACCCACTGCTCTACTTTTATCTTGCATAAAAGGGCCCACACTGGAGAAAAGCCTTTCGAGTGCAAAGAGTGTGGGAAAGCCTTTAGCAATCGGAAGGACCTCATTCGCCACTTCAGCATCCACACTGGAGAGAAGCCCTATGAGTGCGTGGAGTGTGGAAAGGCCTTCACCCGCATGTCGGGCCTCACGAGGCACAAGCGGATTCATAGTGGAGAGAAGCCCTATGAATGTGTTGAGTGTGGGAAATCGTTTTGCTGGAGCACAAACCTCATTCGACATGCCATTATCCACACTGGAGAGAAGCCCTATAAATGTAGTGAATGTGGAAAGGCCTTCAGTCGCAGCTCGTCCCTCACTCAGCATCAAAGGATGCATACTGGGAAAAATCCCATCAGTGTAACAGATGTGGGAAGACCTTTTACAAGTGGACAAACCTCAGTTACCCTTCGAGAACTTCTTTTAGGGAAGGACTTTTTGAATGTAACCACTGAGGCAAATATTTTGCCAGAGGAAACATCTTCCTCTGCATCTGATCAACCATACCAAAGAGAAACCCCACAAGTGTCTTCACTGTGA'),\n",
       " ('ZNF430-1', 'A'),\n",
       " ('ZNF175-1',\n",
       "  'ATGCCTGCTGATGTGAATTTATCCCAGAAGCCTCAGGTCCTGGGTCCAGAGAAGCAGGATGGATCTTGCGAGGCATCAGTGTCATTTGAGGACGTGACCGTGGACTTCAGCAGGGAGGAGTGGCAGCAACTGGACCCTGCCCAGAGATGCCTGTACCGGGATGTGATGCTGGAGCTCTATAGCCATCTCTTCGCAGTGGGGTATCACATTCCCAACCCAGAGGTCATCTTCAGAATGCTAAAAGAAAAGGAGCCGCGTGTGGAGGAGGCTGAAGTCTCACATCAGAGGTGTCAAGAAAGGGAGTTTGGGCTTGAAATCCCACAAAAGGAGATTTCTAAGAAAGCTTCATTTCAAAAGGATATGGTAGGTGAGTTCACAAGAGATGGTTCATGGTGTTCCATTTTAGAAGAACTGAGGCTGGATGCTGACCGCACAAAGAAAGATGAGCAAAATCAAATTCAACCCATGAGTCACAGTGCTTTCTTCAACAAGAAAACATTGAACACAGAAAGCAATTGTGAATATAAGGACCCTGGGAAAATGATTCGCACGAGGCCCCACCTTGCTTCTTCACAGAAACAACCTCAGAAATGTTGCTTATTTACAGAAAGTTTGAAGCTGAACCTAGAAGTGAACGGTCAGAATGAAAGCAATGACACAGAACAGCTTGATGACGTTGTTGGGTCTGGTCAGCTATTCAGCCATAGCTCTTCTGATGCCTGCAGCAAGAATATTCATACAGGAGAGACATTTTGCAAAGGTAACCAGTGTAGAAAAGTCTGTGGCCATAAACAGTCACTCAAGCAACATCAAATTCATACTCAGAAGAAACCAGATGGATGTTCTGAATGTGGGGGGAGCTTCACCCAGAAGTCACACCTCTTTGCCCAACAGAGAATTCATAGTGTAGGAAACCTCCATGAATGTGGCAAATGTGGAAAAGCCTTCATGCCACAACTAAAACTCAGTGTATATCTGACAGATCATACAGGTGATATACCCTGTATATGCAAGGAATGTGGGAAGGTCTTTATTCAGAGATCAGAATTGCTTACGCACCAGAAAACACACACTAGAAAGAAGCCCTATAAATGCCATGACTGTGGAAAAGCCTTTTTCCAGATGTTATCTCTCTTCAGACATCAGAGAACTCACAGTAGAGAAAAACTCTATGAATGCAGTGAATGTGGCAAAGGCTTCTCCCAAAACTCAACCCTCATTATACATCAGAAAATTCATACTGGTGAGAGACAGTATGCATGCAGTGAATGTGGGAAAGCCTTTACCCAGAAGTCAACACTCAGCTTGCACCAGAGAATCCACTCAGGGCAGAAGTCCTATGTGTGTATCGAATGCGGGCAGGCCTTCATCCAGAAGGCACACCTGATTGTCCATCAAAGAAGCCACACAGGAGAAAAACCTTATCAGTGCCACAACTGTGGGAAATCCTTCATTTCCAAGTCACAGCTTGATATACATCATCGAATTCATACAGGGGAGAAACCTTATGAATGCAGTGACTGTGGAAAAACCTTCACCCAAAAGTCACACCTGAATATACACCAGAAAATTCATACTGGAGAAAGACACCATGTATGCAGTGAATGCGGGAAAGCCTTCAACCAGAAGTCAATACTCAGCATGCATCAGAGAATTCACACCGGAGAGAAGCCTTACAAATGCAGTGAATGTGGGAAAGCCTTCACTTCTAAGTCTCAATTCAAAGAGCATCAGCGAATTCACACGGGTGAGAAACCCTATGTGTGCACTGAATGTGGGAAGGCCTTCAACGGCAGGTCAAATTTCCATAAACATCAAATAACTCACACTAGAGAGAGGCCTTTTGTCTGTTACAAATGTGGGAAGGCTTTTGTCCAGAAATCAGAGTTGATTACCCATCAAAGAACTCACATGGGAGAGAAACCCTATGAATGCCTTGACTGTGGGAAATCGTTCAGTAAGAAACCACAACTCAAGGTGCATCAGCGAATTCACACGGGAGAAAGACCTTATGTGTGTTCTGAATGTGGAAAGGCCTTCAACAACAGGTCAAACTTCAATAAACACCAAACAACTCATACCAGAGACAAATCTTACAAATGCAGTTATTCTGTGAAAGGCTTTACCAAGCAATGA'),\n",
       " ('ZNF333-1',\n",
       "  'ATGGAATCCGTCACCTTTGAGGATGTGGCCGTGGAGTTCATCCAGGAGTGGGCATTGCTGGACAGCGCACGGAGGAGCCTGTGCAAATACAGGATGCTTGACCAGTGCAGGACCCTGGCCTCCAGGGGAACTCCACCATGCAAACCCAGTTGTGTCTCCCAGCTGGGGCAAAGAGCAGAGCCAAAGGCAACAGAACGAGGGATTCTCCGTGCCACAGGTGTTGCCTGGGAATCTCAACTTAAACCCGAAGAGTTGCCTTCTATGCAGGATCTTTTGGAAGAAGCATCCTCCAGGGACATGCAAATGGGGCCGGGGCTGTTCCTGAGGATGCAGCTGGTGCCCCCCATAGAAGAGAGGGAGACACCATTGACTCGAGAGGACCGGCCAGCTCTCCAGGAGCCGCCTTGGTCTCTGGGATGCACGGGACTGAAGGCCGCTATGCAGATTCAGAGGGTGGTGATACCAGTGCCTACTCTGGGCCACCGCAACCCATGGGTGGCCAGGGATTCTGCTGTGCCTGCACGTGACCCTGCCTGGCTTCAGGAGGACAAAGTGGAGGAAGAAGCTATGGCTCCTGGGCTGCCAACCGCCTGTTCACAGGAACCAGTCACCTTTGCAGATGTGGCTGTGGTGTTCACCCCAGAAGAATGGGTGTTTCTGGACTCTACTCAGAGGAGCCTGTATAGAGATGTGATGCTGGAGAACTACAGGAACCTGGCCTCTGTGGCTGATCAACTGTGCAAACCCAATGCGTTGTCTTATTTGGAAGAAAGAGGAGAGCAGTGGACCACTGACAGGGGCGTCCTCTCAGACACCTGTGCAGAACCTCAGTGTCAACCCCAAGAGGCAATTCCTAGCCAAGATACTTTTACAGAGATCCTGTCCATTGATGTGAAAGGGCCACCCAACTAA'),\n",
       " ('ZBTB32-1',\n",
       "  'ATGTCCCTGCCCCCCATAAGACTGCCCAGCCCCTATGGCTCTGATCGGCTGGTACAGCTAGCAGCCAGGCTCCGGCCAGCACTCTGTGATACTCTGATCACCGTAGGGAGCCAGGAGTTCCCCGCCCACAGCCTGGTGCTAGCAGGTGTCAGCCAGCAGCTGGGCCGCAGGGGCCAGTGGGCTCTGGGAGAAGGCATCAGCCCTTCTACCTTTGCCCAGCTCCTGAACTTTGTGTATGGGGAGAGTGTAGAGCTGCAGCCTGGAGAGCTAAGGCCCCTTCAGGAGGCGGCCAGGGCCTTGGGAGTGCAGTCCCTGGAAGAGGCATGCTGGAGGGCTCGAGGGGACAGGGCTAAAAAGCCAGATCCAGGCCTGAAGAAACATCAGGAGGAGCCAGAGAAACCCTCAAGGAATCCTGAGAGAGAACTGGGGGACCCTGGAGAGAAGCAGAAACCAGAACAGGTTTCTAGAACTGGTGGGAGAGAACAGGAGATGTTGCACAAGCACTCGCCACCAAGAGGCAGACCCGAGATGGCAGGAGCAACGCAGGAGGCTCAGCAGGAACAGACCAGGTCAAAGGAGAAACGCCTCCAAGCCCCTGTTGGCCAAAGGGGAGCAGATGGGAAGCATGGAGTGCTCACGTGGTTGAGGGAAAATCCAGGGGGCTCTGAGGAAAGTCTGCGCAAGCTCCCTGGCCCCCTTCCCCCAGCAGGCTCCCTGCAAACCAGCGTCACCCCTAGGCCCTCGTGGGCTGAGGCCCCTTGGTTGGTGGGGGGCCAGCCTGCCCTGTGGAGCATCCTGCTGATGCCGCCCAGATATGGCATTCCCTTCTACCATAGCACCCCCACCACTGGAGCCTGGCAGGAGGTCTGGCGGGAACAGAGGATCCCACTGTCCCTAAATGCCCCCAAAGGGCTCTGGAGCCAGAACCAGTTGGCCTCCTCCAGCCCTACCCCAGGTTCCCTCCCCCAGGGCCCCGCACAGCTCAGCCCTGGGGAGATGGAAGAGTCTGATCAGGGGCACACAGGCGCACTTGCAACCTGTGCGGGTCATGAGGACAAGGCAGGCTGCCCACCTCGCCCGCACCCTCCCCCGGCCCCTCCTGCTCGGTCTCGGCCCTATGCGTGCTCTGTCTGTGGAAAGAGGTTTTCACTCAAGCATCAGATGGAGACGCACTACCGAGTCCACACAGGAGAGAAGCCCTTCTCCTGTAGCCTTTGTCCTTAGCGCTCCCGGGACTTCTCGGCCATGACCAAGCACCTGCGGACACACGGGGCCGCTCCGTACCGCTGCTCCCTGTGCGGGGCCGGCTGTCCCAGCCTGGCCTCCATGCAGGCGCACATGCGCGGTCACTCGCCCAGCCAACTCCCGCCCGGATGGACCATCCGCTCCACCTTCCTCTACTCCTCCTCGAGGCCGTCTCGGCCCTCGACCTCTCCCTGTTGTCCTTCTTCCTCCACCACC'),\n",
       " ('ZBTB32-2',\n",
       "  'ATGTCCCTGCCCCCCATAAGACTGCCCAGCCCCTATGGCTCTGATCGGCTGGTACAGCTAGCAGCCAGGCTCCGGCCAGCACTCTGTGATACTCTGATCACCGTAGGGAGCCAGGAGTTCCCCGCCCACAGCCTGGTGCTAGCAGGTGTCAGCCAGCAGCTGGGCCGCAGGGGCCAGTGGGCTCTGGGAGAAGGCATCAGCCCTTCTACCTTTGCCCAGCTCCTGAACTTTGTGTATGGGGAGAGTGTAGAGCTGCAGCCTGGAGAGCTAAGGCCCCTTCAGGAGGCGGCCAGGGCCTTGGGAGTGCAGTCCCTGGAAGAGGCATGCTGGAGGGCTCGAGGGGACAGGGCTAAAAAGCCAGATCCAGGCCTGAAGAAACATCAGGAGGAGCCAGAGAAACCCTCAAGGAATCCTGAGAGAGAACTGGGGGACCCTGGAGAGAAGCAGAAACCAGAACAGGTTTCTAGAACTGGTGGGAGAGAACAGGAGATGTTGCACAAGCACTCGCCACCAAGAGGCAGACCCGAGATGGCAGGAGCAACGCAGGAGGCTCAGCAGGAACAGACCAGGTCAAAGGAGAAACGCCTCCAAGCCCCTGTTGGCCAAAGGGGAGCAGATGGGAAGCATGGAGTGCTCACGTGGTTGAGGGAAAATCCAGGGGGCTCTGAGGAAAGTCTGCGCAAGCTCCCTGGCCCCCTTCCCCCAGCAGGCTCCCTGCAAACCAGCGTCACCCCTAGGCCCTCGTGGGCTGAGGCCCCTTGGTTGGTGGGGGGCCAGCCTGCCCTGTGGAGCATCCTGCTGATGCCGCCCAGATATGGCATTCCCTTCTACCATAGCACCCCCACCACTGGAGCCTGGCAGGAGGTCTGGCGGGAACAGAGGCGCACTTGCAACCTGTGCGGGTCATGA'),\n",
       " ('POU2F2-4',\n",
       "  'ATGGTTCACTCCAGCATGGGGGCTCCAGAAATAAGAATGTCTAAGCCCCTGGAGGCCGAGAAGCAAGGTCTGGACTCCCCATCAGAGCACACAGACACCGAAAGAAATGGACCAGACACTAATCATCAGAACCCCCAAAATAAGACCTCCCCATTCTCCGTGTCCCCAACTGGCCCCAGTACAAAGATCAAGGCTGAAGACCCCAGTGGCGATTCAGCCCCAGCAGCACCCCTGCCCCCTCAGCCGGCCCAGCCTCATCTGCCCCAGGCCCAACTCATGTTGACGGGCAGCCAGCTAGCTGGGGACATACAGCAGCTCCTCCAGCTCCAGCAGCTGGTGCTTGTGCCAGGCCACCACCTCCAGCCACCTGCTCAGTTCCTGCTACCGCAGGCCCAGCAGAGCCAGCCAGGCCTGCTACCGACACCAAATCTATTCCAGCTACCTCAGCAAACCCAGGGAGCTCTTCTGACCTCCCAGCCCCGGGCCGGGCTTCCCACACAGCCCCCCAAATGCTTGGAGCCACCATCCCACCCCGAGGAGCCCAGTGATCTGGAGGAGCTGGAGCAATTCGCCCGCACCTTCAAGCAACGCCGCATCAAGCTGGGCTTCACGCAGGGTGATGTGGGCCTGGCCATGGGCAAGCTCTACGGCAACGACTTCAGCCAGACGACCATTTCCCGCTTCGAGGCCCTCAACCTGAGCTTCAAGAACATGTGCAAACTCAAGCCCCTCCTGGAGAAGTGGCTCAACGATGCAGAGACTATGTCTGTGGACTCAAGCCTGCCCAGCCCCAACCAGCTGAGCAGCCCCAGCCTGGGTTTCGACGGCCTGCCCGGCCGGAGACGCAAGAAGAGGACCAGCATCGAGACAAACGTCCGCTTCGCCTTAGAGAAGAGTTTTCTAGCGAACCAGAAGCCTACCTCAGAGGAGATCCTGCTGATCGCCGAGCAGCTGCACATGGAGAAGGAAGTGATCCGCGTCTGGTTCTGCAACCGGCGCCAGAAGGAGAAACGCATCAACCCCTGCAGTGCGGCCCCCATGCTGCCCAGCCCAGGGAAGCCGGCCAGCTACAGCCCCCATATGGTCACACCCCAAGGGGGCGCGGGGACCTTACCGTTGTCCCAAGCTTCCAGCAGTCTGAGCACAACAGCACAAACCCCAGCCCTCAAGGCAGCCACTCGGCTATCGGCTTGTCAGGCCTGA'),\n",
       " ('ZNF180-1',\n",
       "  'ATGCGCAGGGTCTACGCGGGAAGCTGGAAGCGGTGTGCAGCTCAGGACCTCAGCACCCTGCTGTGCCTGGAGGAGAGCATGGAAGAGCAGGATGAGAAGCCCCCAGAGCCCCCGAAGGCCTGTGCACAGGATTCTTTCCTTCCTCAAGAGATTATCATCAAAGTCGAGGGAGAAGACACTGGGTCTCTGACCATCCCATCTCAGGAAGGAGTGAACTTCAAAATTGTGACTGTGGACTTCACACGGGAGGAACAGGGTACTTGGAACCCTGCTCAGAGGACCCTGGACAGAGATGTGATCCTGGAGAACCACAGGGACCTAGTCTCTTGGGACTTGGCAACTGCAGTTGGAAAAAAAGATTCAACTTCAAAGCAGAGGATTTTTGATGAAGAACCAGCTAATGGAGTGAAGATAGAAAGGTTTACAAGGGATGATCCTTGGTTATCTTCATGTGAAGAAGTGGATGATTGTAAAGACCAGTTGGAGAAGCAACAGGAAAAACAAGAGATACTTTTGCAGGAAGTGGCATTCACTCAAAGGAAAGCAGTTATTCATGAGAGAGTCTGCAAAAGTGATGAAACTGGGGAGAAGAGTGGTCTGAATTCCAGTCTATTTTCATCCCCAGTTATACCCATAAGAAACCATTTTCATAAACATGTATCACATGCTAAAAAATGGCATCTTAATGCTGCTGTAAACAGTCATCAGAAGATTAATGAGAATGAGACACTATATGAAAATAATGAATGTGGAAAACCCCCTCAGAGCATTCACCTTATTCAGTTTACAAGAACTCAAACAAAAGATAAATGCTATGGATTTAGTGACCGTATTCAATCTTTTTGCCATGGTACACCCCTACATATACATGAAAAAATTCATGGAGGAGGAAAAACCTTTGATTTTAAAGAATGTGGGCAGGTTTTGAACCCCAAAATATCCCATAATGAACAACAGAGAATTCCTTTTGAAGAGAGTCAATATAAATGTAGTGAAACCTCTCATAGTTCCTCCCTTACTCAAAACATGAGAAATAATTCTGAAGAGAAACCTTTTGAATGTAATCAGTGTGGGAAATCCTTCAGCTGGAGCTCGCATCTTGTTGCACATCAGAGAACTCACACAGGGGAGAAACCTTATGAATGTAGTGAATGTGGAAAATCCTTCAGCCGGAGCTCGCACCTTGTTTCCCATCAGAGAACTCATACTGGAGAGAAACCTTACAGGTGTAATCAATGTGGGAAATCCTTTAGCCAGAGTTATGTCCTTGTTGTGCATCAAAGAACTCATACTGGGGAGAAGCCTTATGAATGCAATCAATGTGGAAAGTCATTCAGGCAGAGCTATAAACTTATTGCACATCAAAGAACACATACCGGAGAGAAGCCCTATGAATGTAATCAATGTGGGAAATCATTTATCCAGAGCTATAAACTTATTGCACATCAAAGAATTCATACTGGGGAAAAACCCTATGAATGCAATCAGTGTGGGAAATCCTTTAGTCAAAGTTATAAACTTGTTGCTCATCAGAGAACTCACACAGGAGAAAAACCCTTTGAATGTAATCAGTGTGGGAAATCCTTCAGCTGGAGCTCTCAGCTTGTTGCACATCAAAGAACTCACACTGGAGAGAAACCGTATGAATGTAGTGAATGTGGAAAATCTTTTAACCGCAGTTCTCACCTTGTTATGCATCAGAGAATTCACACTGGGGAAAAACCGTATGAATGTAATCAGTGTGGGAAATCCTTCAGCCAGAGTTATGTTCTTGTTGTACATCAGAGAACTCATACTGGAGAAAAGCCCTATGAATGCAGTCAATGTGGGAAGTCCTTCAGACAGAGTTCATGCCTTACTCAACATCAGAGAACTCATACTGGAGAGAAACCATTTGAATGTAATCAGTGTGGAAAAACATTTAGCTTGAGTGCTCGACTTATTGTGCATCAAAGAACTCATACTGGAGAGAAACCCTTTACATGTATTCAGTGTGGAAAAGCTTTCATTAATAGCTATAAACTTATTAGGCATCAGGCAACTCATACTGAAGAGAAACTCTATGAATGTAACTAG'),\n",
       " ('ZNF829-1',\n",
       "  'ATGCCCCATTCTCCTCTGATCTCCATTCCTCATGTGTGGTGTCACCCAGAAGAGGAGGAAAGAATGCATGATGAACTTCTACAAGCAGTATCCAAGGGGCCGGTGATGTTCAGGGATGTTTCCATAGACTTCTCTCAAGAGGAATGGGAATGCCTGGACGCTGATCAGATGAATTTATACAAAGAAGTGATGTTGGAGAATTTCAGCAACCTGGTTTCAGTGGGACTTTCCAATTCTAAGCCAGCTGTGATCTCCTTATTGGAACAAGGAAAAGAGCCCTGGATGGTTGATAGAGAGCTGACTAGAGGCCTGTGTTCAGATCTGGAATCAATGTGTGAGACCAAAATATTATCTCTAAAGAAGAGACATTTCAGTCAAGTAATAATTACCCGTGAAGACATGTCTACTTTTATTCAGCCCACATTTCTTATTCCACCTCAAAAAACTATGAGTGAAGAGAAACCATGGGAATGTAAGATATGTGGAAAGACCTTTAATCAAAACTCACAATTTATCCAACATCAGAGAATTCATTTTGGTGAAAAACACTATGAATCTAAGGAGTATGGGAAGTCCTTTAGTCGTGGCTCACTCGTTACTCGACATCAGAGGATTCACACTGGTAAAAAACCCTATGAATGTAAGGAATGTGGCAAGGCTTTTAGTTGTAGTTCATATTTTTCTCAACATCAGAGGATTCACACTGGTGAGAAACCCTATGAATGTAAGGAATGTGGAAAAGCCTTTAAGTATTGCTCAAACCTTAATGATCATCAGAGAATTCACACTGGTGAGAAACCCTATGAATGTAAAGTATGTGGAAAAGCCTTTACTAAAAGTTCACAACTTTTTCTACATCTGAGAATTCATACTGGTGAGAAACCTTATGAATGTAAAGAATGTGGGAAAGCCTTTACTCAACACTCAAGGCTTATTCAGCATCAGAGAATGCATACTGGTGAGAAACCTTATGAATGTAAGCAGTGTGGGAAGGCCTTTAATAGTGCCTCAACACTTACTAACCATCACAGAATTCATGCTGGTGAGAAGCTCTATGAATGTGAAGAATGTAGAAAGGCCTTTATTCAGAGCTCAGAACTTATTCAACATCAGAGAATCCATACAGATGAAAAACCATATGAATGTAATGAATGTGGGAAGGCCTTTAATAAAGGCTCAAATCTTACTCGACATCAGAGAATTCACACTGGTGAGAAACCCTATGACTGTAAGGAATGTGGAAAGGCTTTTGGTAGTCGCTCTGACCTCATTCGCCATGAGGGAATTCATACTGGTTGA'),\n",
       " ('ZSCAN18-1', 'GG'),\n",
       " ('ZNF418-1',\n",
       "  'ATGCAGGGCACTGTGGCATTTGAAGATGTGGCTGTGAACTTTTCCCAGGAGGAGTGGAGTCTCCTTAGTGAGGTTCAGAGATGCCTTTACCATGACGTGATGCTGGAGAACTGGGTACTTATATCCTCCCTGGGTTGTTGGTGTGGATCAGAAGATGAGGAGGCACCTTCTAAGAAGAGCATTTCTATACAAAGAGTGTCTCAGGTCAGCACTCCTGGGGCAGGTGTGTCTCCCAAGAAGGCCCACTCTTGTGAAATGTGTGGCGCGATCTTGGGAGACATTTTGCACTTGGCAGATCATCAGGGGACACATCACAAGCAGAAACTGCACAGGTGTGAGGCATGGGGGAATAAATTGTATGATAGTTCAAACCGTCCGCACCAGAATCAGTACCTTGGAGAGAAACCCTATAGAAGCAGTGTTGAGGAAGCATTGTTTGTGAAGAGGTGTAAGTTCCATGTGTCAGAGGAGTCATCTATCTTCATTCAGAGTGGAAAGGACTTTTTGCCCAGCTCAGGATTACTGCTGCAGGAGGCCACTCACACTGGGGAGAAGTCAAACAGCAAACCTGAGTGTGAGTCTCCCTTTCAGTGGGGAGATACTCATTACAGCTGTGGAGAATGCATGAAACATTCTAGCACCAAACACGTATTTGTTCAACAGCAGAGACTTCCCTCTAGAGAGGAATGTTATTGCTGGGAATGTGGGAAATCCTTTAGCAAATATGATAGCGTCAGTAATCATCAGAGAGTTCACACTGGGAAAAGACCTTATGAATGTGGAGAATGTGGGAAATCTTTTAGTCATAAGGGCAGCCTTGTTCAGCATCAGCGAGTTCACACTGGGAAAAGACCTTATGAATGTGGAGAATGTGGGAAATCTTTTAGTCATAAGGGCAGCCTTGTTCAGCATCAGCGAGTTCATACTGGAGAAAGACCTTATGAGTGTGGAGAATGTGGGAAATCTTTTAGTCAAAATGGTACTCTCATTAAACATCAACGAGTTCACACTGGAGAAAGACCTTATGAGTGTGAAGAATGTGGGAAATGTTTTACTCAGAAGGGCAATCTCATTCAACATCAACGAGGTCACACTAGTGAAAGACCTTATGAGTGTGAAGAATGTGGAAAATGTTTTAGTCAAAAGGGCACCCTAACTGAACATCATCGAGTTCACACTAGAGAACGACCTTATGAGTGTGGAGAATGTGGGAAATCTTTTAGTCGAAAGGGACACCTTAGGAACCATCAGCGAGGTCACACTGGAGAAAGACCTTACGAGTGTGGAGAATGTGGGAAATCTTTTAGTCGAAAGGGCAACCTCATTCAGCATCAGCGAAGCCACACTGGAGAAAGGCCTTATGAGTGTAGAGAGTGTAGGAAATTATTTAGGGGCAAGTCCCACCTCATTGAACACCAGAGAGTTCACACTGGAGAAAGGCCATATGAATGTAATGAATGTGGGAAATCATTTCAAGACAGCTCTGGGTTTCGTGTTCATCAGAGAGTTCACACTGGAGAAAAACCGTTTGAGTGTAGTGAATGTGGGAAGTCATTTCCTCAAAGCTGTTCCCTCCTTCGACATCGGAGAGTTCATACTGGAGAAAGGCCTTATGAATGTGGAGAATGTGGAAAGTCATTTCATCAGAGCTCTTCCCTCCTTCGACATCAGAAAACTCACACTGCAGAAAGACCTTATGAGTGCAGAGAATGTGGGAAATTCTTCTCCAGTCTCCTTGAACACAGGAGAGTTCACACTGGAGAAAGGCCTTATGAATGCAGGGAATGTGGAAAAACATTTACTCGAAGGTCTGCGCATTTTAAACATCAGAGACTTCATACTCGAGGAAAGCCTTACGAGTGCAGCGAATGTGGGAAATCCTTTGCTGAAACCTTCAGTCTTACTGAACACAGGAGAGTACACACTGGAGAAAGGCCTTATGAGTGCAGTGAATGTGGAAAATCATTTCATCGAAGCTCTTCTCTCCTTCGACATCAGAGAGTTCACACAGAAAGAAGTCCTTACAAGTGA'),\n",
       " ('ZNF784-1',\n",
       "  'ATGGCCGCTGCGCGCCCAGAGGCCCAGAGTCGGAGCTCACCGACTCCGGAGTCGCGATCCCAGGAGCCACTGGACCTGGTCCTGGTGCCTGATGACTGCCGGCCTGGCACACCCCCGAGTGACCTCATCGAGATCCAGGTGGTGAAGGTGACGGACACCACGCTGGTCCCTGAGCCCCCGGAGCCAGGTTCTTTCCACTGTGCCTTGTGCCCTGCTGCCTTCCGGCTGGTTTCCGAGCTGCTGTTCCACGAACATGGCCACTTGGCTGGGGCCGAGGGAGGCGGGCAGGGTGGGGACCCGAGCCGGTGCCACGTGTGCGGCCACAGCTGCCCGGGCCCCGCCAGCCTGCGCGCGCACTACAGCTTGCACACGGGGGAGCGGCCCTACCGCTGCGCGCTCTGCCCCCGCGCCTTCAAGGCCTTGGCGCCCCTGCTCCGGCACCAGCACCGGCACGGGGTGGAGCCGGGCACCTCTCGGAGGCCTCCGGACACAGCGGCCGTTGCAGAACAGAGGCCCGGGGTGGCCCCGGAGAGGGCGGAGGTGGTGATGGCGGCGGCGGCGGCGGGCGCAGCGGTGGGGAAGCCTTTTGCCTGCAGGTTCTGCGCCAAGCCCTTCCGCCGCTCCTCAGACATGCGAGACCACGAGCGCGTGCACACTGGCGAGCGGCCATACCATTGCGGCATCTGCGGCAAGGGCTTCACCCAGTCCTCGGTGCTTAGCGGCCACGCCCGCATCCACACTGGCGAGCGCCCGTTCCGCTGCACGCTCTGCGACCGCACCTTCAACAACTCCTCCAACTTCCGCAAGCACCAGCGCACCCACTTCCACGGGCCGGGGCCGGGGCTGGGAGACTCTGGAGGCCAGCTGGGCTCGTCGGCGGCTGAGGGGTCGGGGAGCGGGTGTGGGGTAGGGGACCCTGCGGAGGAGGGGCGGGGGGAGACCGCGAAGGTGAAGGTGGAGGCCGACCAGTAG'),\n",
       " ('ZNF414-1', 'C'),\n",
       " ('ZNF414-2',\n",
       "  'ATGGAGGAGAAACCCTCAGGGCCCATCCCAGACATGCTGGCCACTGCAGAGCCCAGCTCCAGTGAGACCGACAAGGAGGTGTTGTCCCCGGCTGTGCCAGCTGCAGCCCCTTCCTCCTCCATGTCGGAGGAGCCAGGCCCTGAGCAGGCAGCCACACCGCCAGTGTGGGAACGTGGAGGGGCTGGAGGGATGCGGCAGGGCTCCTCCCCAGCCCCAGACAGCTGCCAGCCTGGCCCCGGACCCAGCCCTGGCCTGACCAGCATAGTCTCCGGGACCAGCGAGGACCTGCGGCCTCCCAGACGACGCCCACCTCCAGGGAAGCAAATCCCTTGCTCCAGCCCTGGCTGCTGCCTCAGTTTTCCCAGCGTCCGTGACCTGGCACAGCATCTGCGAACCCACTGCCCGCCCACACAGTCCCTGGAAGGCAAGCTCTTCCGCTGCTCAGCCCTGAGCTGCACCGAGACCTTCCCCAGCATGCAGGAGCTGGTGGCTCACAGCAAACTGCACTACAAACCCAATCGCTACTTCAAGTGTGAGAACTGCCTCCTGCGCTTCCGCACGCACCGCTCGCTCTTCAAGCACCTGCATGTTTGCGCGGAGCATGCGCAGAGCCCAGCCCCGCCGCCACCCCCGGCCCTGGACCGAGAGCCGCCCGCGCCGGAGCGCCCCCCGGAGGTTGACCCCGCATCAGCGCCGGGCCTGCCGTTCCCGCTGCTGGAACCCTTCACGACCCCCGCCCCTGCCCCCACCGGACCGTTCCTGCCCTACTTGAACCCTGCGCCCTTTGGCCTAAGCCCCCCGCGCCTGCGCCCCTTCCTGGCCGCTGCACCCGGGCCGCCGGCTTCCAGCGCCGCCGTCTGGAAAAAGAGCCAAGGTGCTGGCAGCAGCCCCCGAAGACCCCAGGGCGGCTCCGACGCGCCCTCAGGTGCGTGCAGGTGA'),\n",
       " ('ZNF320-1',\n",
       "  'ATGGCTCTTTCTCAGGGTCTACTGACATTCAGGGATGTGGCCATAGAATTCTCTCAGGAGGAGTGGAAATGCCTGGACCCTGCTCAGAGGACTCTATACAGAGACGTGATGCTGGAGAATTATAGGAACCTGGTCTCCCTGGATATCTCTTCCAAATGCATGATGAATACATTGTCATCAACAGGGCAAGGCAATACAGAAGTGATCCACACAGGGACATTGCAGAGACAAGCAAGTTATCACATTGGAGCATTTTGCTCCCAGGAAATTGAGAAAGACATTCATGACTTTGTGTTTCAGTGGCAAGAAGATGAAACAAATGACCATGAAGCACCCATGACAGAAATAAAAAAGTTGACTAGTAGTACAGACCGATATGATCAAAGGCATGCTGGAAACAAGCCTATTAAAGGTCAGCTTGAATCAAGATTTCATTTGCATTTGCGAAGACATAGGAGAATTCATACTGGAGAGAAACCTTACAAATGTGAAGAATGTGAGAAAGTTTTCAGTTGCAAATCACATCTTGAAATACATAGGATAATTCATACTGGAGAGAAACCATACAAATGTAAGGTTTGCGACAAGGCTTTTAAGCATGATTCACACCTGGCAAAACATACTAGAATTCACAGGGGAGACAAACATTACACATGTAATGAATGTGGCAAGGTTTTTGATCAAAAAGCAACCCTTGCATGTCATCATAGAAGTCATACTGGAGAGAAACCTTATAAGTGTAATGAGTGTGGCAAGACCTTTAGTCAGACATCACACCTTGTGTACCATCATAGACTGCATACTGGAGAGAAACCTTACAAATGTAATGAGTGTGGCAAGACCTTCGCTCGAAATTCAGTCCTCGTAATTCATAAGGCAGTTCATACTGCAGAGAAACCCTATAAGTGTAATGAATGTGGCAAGGTTTTTAAGCAACGAGCAACTCTTGCAGGACATCGTAGAGTTCACACTGGAGAGAAACCTTACAGATGTGAAGAATGCGACAAAGTTTTCAGTCGCAAATCACATCTTGAAAGACATAGGAGGATTCATACTGGAGAGAAACCATACAAATGTAAGGTTTGTGACAAGGCTTTCCGGAGTGATTCACGTCTTGCAGAACATCAGAGAGTTCATACTGGAGAGAGACCTTACACATGTAATGAATGTGGCAAGGTTTTTAGTACAAAAGCGTACCTCGCATGTCATCAAAAACTTCATACTGGAGAGAAACTTTACGAATGTGAAGAATGTGACAAAGTTTACATTCGCAAATCACACCTTGAAAGACATAGGAGGATTCATACAGGAGAGAAACCTCACAAGTGTGGTGATTGTGGTAAAGCCTTTAATTCACCTTCACACCTTATTAGGCATCAGAGAATCCATACTGGACAGAAATCTTACAAATGTCATCAGTGTGGCAAGGTCTTTAGTCTGAGGTCACTCCTTGCAGAACATCAGAAAATTCCTTTTGGAGACAATTGTTTCAAGTGCAATGAGTATAGCAAACCATCAAGCATTAATTGA'),\n",
       " ('ZNF341-1',\n",
       "  'ATGGCGCAGGCGATCTTTGAGGCCCTGGAGGGAATGGACAATCAGACCGTTCTGGCTGTCCAGTCATTATTGGATGGCCAAGGAGCAGTCCCTGATCCGACAGGCCAGAGTGTCAATGCGCCCCCTGCTATCCAGCCATTGGATGACGAGGATGTATTTCTCTGCGGGAAGTGTAAGAAGCAATTCAACTCGCTGCCAGCGTTTATGACCCACAAGCGGGAACAGTGCCAGGGGAATGCCCCCGCCCTGGCCACAGTCTCACTGGCCACCAACAGCATCTACCCACCTTCGGCAGCACCCACAGCGGTCCAGCAGGCCCCAACTCCTGCCAATCGCCAGATCTCCACATACATCACAGTGCCCCCGTCCCCACTGATCCAGACCCTGGTGCAGGGGAACATCTTGGTGAGCGATGATGTGCTCATGTCTGCCATGTCAGCCTTCACATCCCTGGACCAGCCCATGCCCCAGGGCCCCCCACCTGTGCAGAGCAGCCTGAACATGCATTCCGTGCCCAGCTACCTCACCCAGCCTCCACCTCCTCCTCCACCTCCTCCACCACTGCCCCCACCGCCACCACCTCAGCCTCCACCACCTCCACCCCAGAGCCTGGGCCCCCCTGGGCGTCCCAACCCTGGTGGGAACGGTGTGGTGGAGGTGTACAGTGCTGCTGCGCCCCTGGCTGGGAGTGGAACGGTGGAGATCCAGGCACTGGGGATGCAGCCCTACCCACCCCTAGAGGTGCCAAACCAGTGTGTGGAGCCTCCAGTATATCCCACCCCCACAGTGTACAGCCCTGGCAAACAGGGATTCAAACCCAAAGGACCAAACCCCGCCGCCCCCATGACCAGCGCCACCGGGGGCACGGTGGCCACCTTTGACTCTCCAGCAACGCTGAAGACCCGACGAGCTAAAGGTGCCAGGGGACTCCCGGAAGCTGCAGGGAAGCCAAAGGCTCAGAAACTCAAGTGCTCATACTGTGACAAGTCATTCACCAAAAACTTTGACCTGCAGCAGCACATCCGAAGCCACACCGGTGAGAAGCCCTTCCAGTGCATTGCATGTGGCCGTGCCTTTGCCCAGAAGTCTAATGTTAAGAAACACATGCAGACCCACAAGGTGTGGCCTCCAGGACACAGTGGTGGCACCGTGTCTCGAAACTCTGTGACCGTACAGGTCATGGCCCTGAACCCCAGCAGGCAGGAGGACGAGGAAAGCACAGGGTTGGGCCAGCCCCTGCCGGGTGCGCCACAGCCCCAGGCCTTGTCCACAGCTGGTGAGGAAGAGGGGGACAAGCCGGAGTCCAAGCAGGTGGTCCTCATCGACAGCTCCTACCTGTGCCAATTCTGCCCCAGCAAATTCAGCACCTACTTCCAGCTCAAGTCTCACATGACCCAGCATAAGAATGAGCAGGTGTACAAGTGTGTGGTCAAAAGCTGTGCCCAGACGTTCCCAAAGCTCGACACATTTCTGGAGCACATCAAGAGCCACCAGGAGGAGCTGAGCTACCGCTGCCACCTCTGCGGCAAGGACTTCCCCTCGCTGTACGACCTGGGCGTGCACCAGTACTCCCACAGCCTCCTGCCACAGCACAGCCCCAAGAAGGACAATGCCGTCTACAAGTGTGTCAAATGTGTCAACAAATACTCCACCCCTGAGGCCCTGGAGCACCACCTGCAGACCGCCACTCACAACTTCCCCTGCCCACACTGCCAGAAGGTGTTTCCTTGTGAACGCTACCTGCGGCGTCATCTGCCCACCCACGGCAGCGGGGGCAGGTTCAAGTGCCAAGTGTGCAAGAAGTTCTTCCGGCGGGAGCATTATCTCAAACTGCATGCTCACATCCACTCGGGTGAGAAGCCCTACAAATGCTCAGTGTGCGAGTCTGCGTTCAACCGCAAGGACAAACTGAAGAGACACATGTTGATCCACGAGCCCTTCAAGAAATACAAATGCCCTTTCTCGACGCACACAGGCTGCAGTAAGGAGTTCAACCGGCCGGACAAGCTGAAGGCCCACATCCTCTCCCACTCTGGCATGAAGCTCCACAAATGCGCCCTGTGCAGCAAGTCCTTCAGCCGCCGTGCCCACCTCGCCGAGCATCAGCGCGCCCACACGGGCAACTACAAGTTCCGCTGTGCTGGCTGCGCCAAGGGCTTTTCCCGCCACAAATACCTCAAAGATCACCGCTGTCGTCTCGGCCCCCAAAAGGACAAGGACCTGCAAACCCGGCGGCCCCCCCAGAGGAGGGCAGCCCCCCGCAGTTGCGGCAGTGGTGGGCGCAAGGTGCTGACCCCCTTGCCTGACCCGCTGGGGCTGGAGGAGCTGAAGGACACAGGGGCTGGGCTGGTGCCCGAGGCTGTCCCCGGCAAGCCGCCCTTCGCAGAGCCGGACGCGGTGCTGTCCATCGTTGTGGGTGGTGCGGTGGGCGCGGAAACTGAGCTGGTGGTACCTGGACACGCTGAGGGGCTGGGCTCCAACCTGGCTCTGGCGGAGCTGCAGGCCGGGGCCGAGGGCCCATGTGCCATGCTCGCTGTGCCCGTCTACATCCAGGCCTCCGAGTGA'),\n",
       " ('ZNF343-4', 'C'),\n",
       " ('PKNOX1-1',\n",
       "  'ATGATGGCTACACAGACATTAAGTATAGACAGCTATCAAGATGGGCAACAGATGCAAGTAGTAACAGAGTTAAAGACAGAACAAGATCCAAACTGCTCTGAACCCGATGCAGAAGGAGTGAGCCCTCCCCCTGTGGAGTCTCAGACCCCGATGGATGTGGACAAGCAGGCCATTTATAGGCATCCACTATTTCCATTATTAGCTTTGTTGTTTGAAAAATGTGAACAATCTACACAGGGCTCTGAAGGCACAACTTCTGCCAGTTTTGATGTAGACATCGAAAATTTTGTAAGAAAGCAAGAGAAGGAAGGGAAACCTTTCTTTTGTGAAGATCCAGAAACCGATAATTTAATGGTAAAAGCAATCCAGGTTTTGCGCATTCATCTTCTTGAGCTGGAAAAGGTTAACGAACTCTGCAAAGATTTCTGCAGTCGATACATTGCTTGTCTGAAAACAAAAATGAACAGTGAAACTCTGTTGAGTGGAGAGCCTGGAAGCCCGTACTCACCAGTGCAGTCCCAGCAGATTCAAAGTGCCATCACAGGCACCATCAGCCCTCAGGGAATTGTGGTGCCGGCGTCCGCGCTGCAGCAGGGAAACGTAGCCATGGCGACGGTGGCAGGTGGCACAGTGTATCAGCCTGTCACGGTCGTCACTCCCCAAGGCCAAGTGGTCACACAGACATTGTCGCCTGGGACAATTAGGATCCAGAACTCCCAGCTTCAGTTACAGTTAAACCAAGATCTCAGCATCTTGCATCAAGATGATGGTTCATCTAAGAACAAGAGGGGCGTCCTGCCAAAGCATGCCACGAACGTGATGCGGTCCTGGCTCTTCCAGCACATCGGGCATCCCTACCCAACAGAGGATGAGAAAAAACAGATTGCTGCTCAGACAAATTTGACACTACTCCAAGTCAACAACTGGTTCATCAATGCCAGAAGACGAATTCTTCAGCCAATGTTGGATTCAAGTTGTTCAGAGACCCCCAAAACAAAGAAAAAAACTGCTCAGAACCGGCCAGTTCAGAGGTTTTGGCCTGATTCTATTGCATCAGGAGTCGCACAGCCACCGCCGAGCGAGCTCACCATGTCGGAAGGAGCTGTTGTCACCATCACCACGCCCGTGAACATGAACGTGGACAGCCTTCAGTCTCTGTCCTCGGACGGGGCCACCCTGGCGGTGCAGCAGGTCATGATGGCAGGGCAGAGCGAGGACGAGTCTGTGGACAGCACAGAGGAGGATGCGGGTGCCCTGGCCCCTGCCCACATCAGCGGGCTGGTCTTGGAGAACAGTGACTCCCTGCAGTAG'),\n",
       " ('TBX22-1', 'TT'),\n",
       " ('ZIC3-1', 'C'),\n",
       " ('ZIC3-2',\n",
       "  'ATGACGATGCTCCTGGACGGAGGCCCGCAGTTCCCTGGGCTGGGAGTGGGCAGCTTCGGCGCGCCGCGCCACCACGAGATGCCCAACCGTGAGCCGGCAGGCATGGGGCTGAATCCCTTCGGGGACTCAACCCACGCCGCCGCCGCCGCCGCCGCCGCCGCTGCCTTCAAGCTGAGCCCTGCCGCGGCGCACGATCTATCTTCAGGCCAGAGCTCGGCTTTCACGCCGCAGGGTTCGGGCTACGCCAACGCCCTGGGCCACCATCACCACCACCATCACCATCATCACCACACCAGCCAGGTGCCCAGCTACGGTGGCGCTGCCTCTGCCGCCTTCAACTCAACGCGCGAGTTTCTGTTCCGCCAGCGCAGCTCCGGGCTCAGTGAGGCGGCCTCGGGTGGCGGGCAGCACGGGCTCTTCGCCGGCTCGGCGAGCAGCCTGCATGCTCCAGCTGGCATCCCCGAGCCCCCTAGCTACTTGCTGTTTCCCGGGCTGCATGAGCAGGGCGCTGGGCACCCGTCGCCCACAGGGCACGTGGACAACAACCAGGTCCACCTGGGGCTGCGTGGGGAGCTGTTCGGCCGTGCTGACCCATACCGCCCAGTGGCCAGCCCGCGCACGGACCCCTACGCGGCCGGCGCTCAGTTTCCTAACTACAGCCCCATGAACATGAACATGGGAGTGAACGTGGCGGCCCACCACGGGCCCGGCGCCTTCTTCCGTTATATGCGGCAGCCTATCAAGCAGGAGCTGTCGTGCAAGTGGATCGACGAGGCTCAGCTGAGCCGGCCCAAGAAGAGCTGCGACCGGACCTTCAGCACCATGCATGAGCTGGTGACACATGTCACCATGGAGCATGTGGGGGGCCCGGAGCAGAACAACCACGTCTGCTACTGGGAGGAGTGCCCCCGGGAGGGCAAGTCTTTCAAGGCGAAGTACAAACTGGTCAACCACATCCGAGTGCACACGGGCGAGAAGCCCTTCCCATGCCCCTTCCCGGGCTGCGGGAAGATCTTTGCCCGTTCTGAGAACCTCAAGATCCACAAGAGGACCCACACAGGTGAGAAACCTTTCAAATGTGAATTTGAAGGCTGTGACAGACGCTTTGCCAACAGCAGCGACCGTAAGAAGCACATGCATGTGCATACCTCGGACAAGCCCTATATCTGCAAAGTGTGCGACAAGTCCTACACGCACCCGAGCTCCCTGCGCAAACACATGAAGGTTCATGAATCTCAAGGGTCAGATTCCTCCCCTGCTGCCAGTTCAGGCTATGAATCTTCCACTCCACCCGCTATAGCTTCTGCAAACAGTAAAGATACCACTAAAACCCCTTCTGCAGTTCAAACTAGCACCAGCCACAACCCTGGACTTCCTCCTAATTTTAACGAATGGTACGTCTGA'),\n",
       " ('GATA1-1', 'CT'),\n",
       " ('FOXP3-3',\n",
       "  'ATGCCCAACCCCAGGCCTGGCAAGCCCTCGGCCCCTTCCTTGGCCCTTGGCCCATCCCCAGGAGCCTCGCCCAGCTGGAGGGCTGCACCCAAAGCCTCAGACCTGCTGGGGGCCCGGGGCCCAGGGGGAACCTTCCAGGGCCGAGATCTTCGAGGCGGGGCCCATGCCTCCTCTTCTTCCTTGAACCCCATGCCACCATCGCAGCTGCAGCTGCCCACACTGCCCCTAGTCATGGTGGCACCCTCCGGGGCACGGCTGGGCCCCTTGCCCCACTTACAGGCACTCCTCCAGGACAGGCCACATTTCATGCACCAGCTCTCAACGGTGGATGCCCACGCCCGGACCCCTGTGCTGCAGGTGCACCCCCTGGAGAGCCCAGCCATGATCAGCCTCACACCACCCACCACCGCCACTGGGGTCTTCTCCCTCAAGGCCCGGCCTGGCCTCCCACCTGGGATCAACGTGGCCAGCCTGGAATGGGTGTCCAGGGAGCCGGCACTGCTCTGCACCTTCCCAAATCCCAGTGCACCCAGGAAGGACAGCACCCTTTCGGCTGTGCCCCAGAGCTCCTACCCACTGCTGGCAAATGGTGTCTGCAAGTGGCCCGGATGTGAGAAGGTCTTCGAAGAGCCAGAGGACTTCCTCAAGCACTGCCAGGCGGACCATCTTCTGGATGAGAAGGGCAGGGCACAATGTCTCCTCCAGAGAGAGATGGTACAGTCTCTGGAGCAGCAGCTGGTGCTGGAGAAGGAGAAGCTGAGTGCCATGCAGGCCCACCTGGCTGGGAAAATGGCACTGACCAAGGCTTCATCTGTGGCATCATCCGACAAGGGCTCCTGCTGCATCGTAGCTGCTGGCAGCCAAGGCCCTGTCGTCCCAGCCTGGTCTGGCCCCCGGGAGGCCCCTGACAGCCTGTTTGCTGTCCGGAGGCACCTGTGGGGTAGCCATGGAAACAGCACATTCCCAGAGTTCCTCCACAACATGGACTACTTCAAGTTCCACAACATGCGACCCCCTTTCACCTACGCCACGCTCATCCGCTGGGCCATCCTGGAGGCTCCAGAGAAGCAGCGGACACTCAATGAGATCTACCACTGGTTCACACGCATGTTTGCCTTCTTCAGAAACCATCCTGCCACCTGGAAGAACGCCATCCGCCACAACCTGAGTCTGCACAAGTGCTTTGTGCGGGTGGAGAGCGAGAAGGGGGCTGTGTGGACCGTGGATGAGCTGGAGTTCCGCAAGAAACGGAGCCAGAGGCCCAGCAGGTGTTCCAACCCTACACCTGGCCCCTGA'),\n",
       " ('HSFY1-1',\n",
       "  'ATGGCACATGTTTCTTCAGAAACTCAAGATGTTTCCCCCAAAGATGAATTAACTGCTTCAGAAGCCTCCACTAGGTCTCCATTGTGTGAACACACCTTCCCTGGGGACTCAGACTTACGGTCAATGATTGAAGAACATGCTTTTCAGGTTTTGTCACAAGGATCCTTGTTAGAAAGTCCAAGTTACACAGTTTGTGTCTCTGAGCCAGATAAAGATGATGATTTTCTTTCTCTGAACTTTCCCAGGAAACTTTGGAAAATAGTGGAAAGTGACCAATTCAAGTCTATTTCATGGGATGAGAATGGAACTTGCATAGTGATTAATGAAGAACTCTTCAAGAAAGAAATTTTGGAAACAAAGGCTCCTTACAGAATATTTCAAACTGATGCTATCAAAAGTTTTGTTCGACAGCTCAACCTTTATGGATTTAGTAAAATTCAACAGAATTTTCAAAGATCTGCCTTTCTAGCCACCTTTCTGTCAGAAGAGAAAGAATCGTCTGTCTTAAGCAAGTTAAAGTTCTATTATAATCCAAATTTCAAGCGTGGCTATCCCCAACTTTTAGTAAGAGTGAAGAGAAGAATTGGTGTTAAAAATGCTTCACCTATATCTACTTTATTCAACGAAGATTTCAACAAGAAGCATTTTAGAGCAGGGGCTAACATGGAGAATCATAATTCTGCCTTAGCTGCTGAAGCTAGTGAAGAAAGTTTATTTTCAGCCTCTAAAAATTTAAATATGCCTCTAACAAGGGAATCTTCTGTCAGACAGATAATTGCAAATTCATCTGTCCCCATTAGAAGTGGTTTCCCTCCTCCTTCACCTTCAACCTCAGTTGGACCATCAGAACAAATTGCAACAGATCAACATGCTATTTTAAATCAGTTGACCACTATTCATATGCACTCTCATAGTACCTACATGCAAGCAAGGGGCCACATTGTGAATTTTATTACAACCACAACTTCTCAATACCACATCATATCTCCCTTACAAAATGGTTATTTTGGGCTGACAGTGGAACCATCTGCTGTTCCCACACGATATCCTCTGGTATCAGTCAATGAGGCTCCATATCGTAACATGCTACCAGCAGGCAACCCGTGGTTGCAAATGCCTACGATCGCTGATAGATCAGCTGCCCCTCATTCCAGGCTAGCTCTTCAACCATCACCACTGGACAAATATCACCCTAATTACAACTGA'),\n",
       " ('HSFY1-2',\n",
       "  'ATGGCACATGTTTCTTCAGAAACTCAAGATGTTTCCCCCAAAGATGAATTAACTGCTTCAGAAGCCTCCACTAGGTCTCCATTGTGTGAACACACCTTCCCTGGGGACTCAGACTTACGGTCAATGATTGAAGAACATGCTTTTCAGGTTTTGTCACAAGGATCCTTGTTAGAAAGTCCAAGTTACACAGTTTGTGTCTCTGAGCCAGATAAAGATGATGATTTTCTTTCTCTGAACTTTCCCAGGAAACTTTGGAAAATAGTGGAAAGTGACCAATTCAAGTCTATTTCATGGGATGAGAATGGAACTTGCATAGTGATTAATGAAGAACTCTTCAAGAAAGAAATTTTGGAAACAAAGGCTCCTTACAGAATATTTCAAACTGATGCTATCAAAAGTTTTGTTCGACAGCTCAACCTTTATGGATTTAGTAAAATTCAACAGAATTTTCAAAGATCTGCCTTTCTAGCCACCTTTCTGTCAGAAGAGAAAGAATCGTCTGTCTTAAGCAAGCTTCATGTCTTTGTGTTTCACCACAGTCTATTTGGAGCAACATTCGGAGAACATCACTTTCAGCCATGCCCTTTACCATCTGGTAACAAGGCTCCCATTTCTACTTGGAGTGGAGATTCCTGGTTGCTGTGA')]"
      ]
     },
     "metadata": {},
     "execution_count": 41
    }
   ],
   "metadata": {}
  },
  {
   "cell_type": "code",
   "execution_count": 19,
   "source": [
    "def check_seq(s):\n",
    "    stop_codons = {'TAG', 'TAA', 'TGA'}\n",
    "    if len(s) % 3 == 0:\n",
    "        return True\n",
    "    else:\n",
    "        codons = [s[i:i + 3] for i in range(0, len(s), 3)]\n",
    "        return any(codon in stop_codons for codon in codons)\n",
    "\n",
    "\n",
    "\n",
    "suspect_seqs = {orf.name: orf.clone_nt_seq for tf in tfs.values() for orf in tf.orfs if not check_seq(orf.clone_nt_seq)}\n",
    "print(len(suspect_seqs), 'clone sequences where the length is not a multiple of 3 and there is no stop codon')\n",
    "[(name, s[-(len(s) % 3):]) for name, s in suspect_seqs.items()]"
   ],
   "outputs": [
    {
     "output_type": "stream",
     "name": "stdout",
     "text": [
      "29 clone sequences where the length is not a multiple of 3 and there is no stop codon\n"
     ]
    },
    {
     "output_type": "execute_result",
     "data": {
      "text/plain": [
       "[('PAX8-5', 'TA'),\n",
       " ('PPARG-3', 'TA'),\n",
       " ('TP63-2', 'TG'),\n",
       " ('MITF-2', 'TA'),\n",
       " ('MITF-3', 'TG'),\n",
       " ('NKX2-5-1', 'TA'),\n",
       " ('RXRB-1', 'TG'),\n",
       " ('KLF4-1', 'T'),\n",
       " ('EGR2-1', 'TG'),\n",
       " ('ZBTB16-2', 'TG'),\n",
       " ('WT1-1', 'TG'),\n",
       " ('WT1-2', 'TG'),\n",
       " ('WT1-4', 'TG'),\n",
       " ('MYF6-1', 'AG'),\n",
       " ('ZFP1-3', 'T'),\n",
       " ('TBX6-2', 'TG'),\n",
       " ('ZNF688-2', 'TG'),\n",
       " ('ZNF688-4', 'TG'),\n",
       " ('MLX-2', 'C'),\n",
       " ('SPIB-1', 'C'),\n",
       " ('ETV2-1', 'TA'),\n",
       " ('ETV2-2', 'TA'),\n",
       " ('ETV2-3', 'TA'),\n",
       " ('ETV2-4', 'TA'),\n",
       " ('ZNF101-2', 'C'),\n",
       " ('ZNF430-1', 'A'),\n",
       " ('ZNF414-1', 'C'),\n",
       " ('ZNF343-4', 'C'),\n",
       " ('TBX22-1', 'TT')]"
      ]
     },
     "metadata": {},
     "execution_count": 19
    }
   ],
   "metadata": {}
  },
  {
   "cell_type": "code",
   "execution_count": 22,
   "source": [
    "(len(tfs['MAX']['MAX-1'].aa_seq), len(tfs['MAX']['MAX-2'].aa_seq))"
   ],
   "outputs": [
    {
     "output_type": "execute_result",
     "data": {
      "text/plain": [
       "(160, 151)"
      ]
     },
     "metadata": {},
     "execution_count": 22
    }
   ],
   "metadata": {}
  },
  {
   "cell_type": "code",
   "execution_count": 3,
   "source": [
    "# loop over pairs of isoforms, get fraction of different categories\n",
    "cats_6k = {k: 0 for k in ['alternative_start',\n",
    "                           'alternative_stop',\n",
    "                           'alternative_internal_exon',\n",
    "                           'alternative_3prime',\n",
    "                           'alternative_5prime']}\n",
    "cats_gc = {k: 0 for k in ['alternative_start',\n",
    "                           'alternative_stop',\n",
    "                           'alternative_internal_exon',\n",
    "                           'alternative_3prime',\n",
    "                           'alternative_5prime']}\n",
    "n_6k = 0\n",
    "n_gc = 0\n",
    "for tf in tfs.values():\n",
    "    ref_iso = list(sorted(tf.orfs, key=lambda x: len(x.aa_seq)))[-1].name\n",
    "    for alt_iso in [x.name for x in tf.orfs]:\n",
    "        if alt_iso == ref_iso:\n",
    "            continue\n",
    "        n_6k += 1\n",
    "        if tf.alternative_start(ref_iso, alt_iso):\n",
    "            cats_6k['alternative_start'] += 1\n",
    "        if tf.alternative_stop(ref_iso, alt_iso):\n",
    "            cats_6k['alternative_stop'] += 1\n",
    "        if tf.alternative_internal_exon(ref_iso, alt_iso):\n",
    "            cats_6k['alternative_internal_exon'] += 1\n",
    "        if tf.alternative_3prime(ref_iso, alt_iso):\n",
    "            cats_6k['alternative_3prime'] += 1\n",
    "        if tf.alternative_5prime(ref_iso, alt_iso):\n",
    "            cats_6k['alternative_5prime'] += 1\n",
    "for tf in tfs_gc.values():\n",
    "    ref_iso = list(sorted(tf.orfs, key=lambda x: len(x.aa_seq)))[-1].name\n",
    "    for alt_iso in [x.name for x in tf.orfs]:\n",
    "        if alt_iso == ref_iso:\n",
    "            continue\n",
    "        n_gc += 1\n",
    "        if tf.alternative_start(ref_iso, alt_iso):\n",
    "            cats_gc['alternative_start'] += 1\n",
    "        if tf.alternative_stop(ref_iso, alt_iso):\n",
    "            cats_gc['alternative_stop'] += 1\n",
    "        if tf.alternative_internal_exon(ref_iso, alt_iso):\n",
    "            cats_gc['alternative_internal_exon'] += 1\n",
    "        if tf.alternative_3prime(ref_iso, alt_iso):\n",
    "            cats_gc['alternative_3prime'] += 1\n",
    "        if tf.alternative_5prime(ref_iso, alt_iso):\n",
    "            cats_gc['alternative_5prime'] += 1\n",
    "\n",
    "fig, axs = plt.subplots(1, 2)\n",
    "fig.set_size_inches(6, 3)\n",
    "axs[0].bar(cats_gc.keys(),\n",
    "           [(x / n_gc) * 100 for x in cats_gc.values()])\n",
    "axs[1].bar(cats_6k.keys(),\n",
    "           [(x / n_6k) * 100 for x in cats_6k.values()])\n",
    "for ax in axs:\n",
    "    ax.xaxis.set_tick_params(rotation=90)\n",
    "    ax.set_ylim(0, 60)\n",
    "axs[0].set_ylabel('% of alternative isoforms')\n",
    "axs[0].set_title('GENCODE v30 TFs')\n",
    "axs[1].set_title('TFiso1.0 collection')\n",
    "plt.savefig('../figures/splicing-categories-pct_GENCODE-vs-TFiso1_bar.pdf',\n",
    "            bbox_inches='tight')\n",
    "plt.show()"
   ],
   "outputs": [
    {
     "output_type": "display_data",
     "data": {
      "text/plain": [
       "<Figure size 432x216 with 2 Axes>"
      ],
      "application/vnd.code.notebook.error": {
       "name": "ReferenceError",
       "message": "atob is not defined",
       "stack": "ReferenceError: atob is not defined\n\tat d (/Applications/Visual Studio Code - Insiders.app/Contents/Resources/app/extensions/ipynb/dist/ipynbMain.js:1:138755)\n\tat y (/Applications/Visual Studio Code - Insiders.app/Contents/Resources/app/extensions/ipynb/dist/ipynbMain.js:1:143435)\n\tat v (/Applications/Visual Studio Code - Insiders.app/Contents/Resources/app/extensions/ipynb/dist/ipynbMain.js:1:143731)\n\tat Array.map (<anonymous>)\n\tat /Applications/Visual Studio Code - Insiders.app/Contents/Resources/app/extensions/ipynb/dist/ipynbMain.js:1:144883\n\tat /Applications/Visual Studio Code - Insiders.app/Contents/Resources/app/extensions/ipynb/dist/ipynbMain.js:1:145125\n\tat /Applications/Visual Studio Code - Insiders.app/Contents/Resources/app/extensions/ipynb/dist/ipynbMain.js:1:145132\n\tat Array.map (<anonymous>)\n\tat e.jupyterNotebookModelToNotebookData (/Applications/Visual Studio Code - Insiders.app/Contents/Resources/app/extensions/ipynb/dist/ipynbMain.js:1:144441)\n\tat e.NotebookSerializer.deserializeNotebook (/Applications/Visual Studio Code - Insiders.app/Contents/Resources/app/extensions/ipynb/dist/ipynbMain.js:1:146368)\n\tat _.$dataToNotebook (/Applications/Visual Studio Code - Insiders.app/Contents/Resources/app/out/vs/workbench/services/extensions/node/extensionHostProcess.js:85:211883)\n\tat d._doInvokeHandler (/Applications/Visual Studio Code - Insiders.app/Contents/Resources/app/out/vs/workbench/services/extensions/node/extensionHostProcess.js:89:12819)\n\tat d._invokeHandler (/Applications/Visual Studio Code - Insiders.app/Contents/Resources/app/out/vs/workbench/services/extensions/node/extensionHostProcess.js:89:12503)\n\tat d._receiveRequest (/Applications/Visual Studio Code - Insiders.app/Contents/Resources/app/out/vs/workbench/services/extensions/node/extensionHostProcess.js:89:11107)\n\tat d._receiveOneMessage (/Applications/Visual Studio Code - Insiders.app/Contents/Resources/app/out/vs/workbench/services/extensions/node/extensionHostProcess.js:89:10142)\n\tat /Applications/Visual Studio Code - Insiders.app/Contents/Resources/app/out/vs/workbench/services/extensions/node/extensionHostProcess.js:89:8039\n\tat u.fire (/Applications/Visual Studio Code - Insiders.app/Contents/Resources/app/out/vs/workbench/services/extensions/node/extensionHostProcess.js:57:1712)\n\tat l.fire (/Applications/Visual Studio Code - Insiders.app/Contents/Resources/app/out/vs/workbench/services/extensions/node/extensionHostProcess.js:65:15825)\n\tat /Applications/Visual Studio Code - Insiders.app/Contents/Resources/app/out/vs/workbench/services/extensions/node/extensionHostProcess.js:104:30061\n\tat u.fire (/Applications/Visual Studio Code - Insiders.app/Contents/Resources/app/out/vs/workbench/services/extensions/node/extensionHostProcess.js:57:1712)\n\tat l.fire (/Applications/Visual Studio Code - Insiders.app/Contents/Resources/app/out/vs/workbench/services/extensions/node/extensionHostProcess.js:65:15825)\n\tat r._receiveMessage (/Applications/Visual Studio Code - Insiders.app/Contents/Resources/app/out/vs/workbench/services/extensions/node/extensionHostProcess.js:65:21091)\n\tat /Applications/Visual Studio Code - Insiders.app/Contents/Resources/app/out/vs/workbench/services/extensions/node/extensionHostProcess.js:65:17969\n\tat u.fire (/Applications/Visual Studio Code - Insiders.app/Contents/Resources/app/out/vs/workbench/services/extensions/node/extensionHostProcess.js:57:1712)\n\tat v.acceptChunk (/Applications/Visual Studio Code - Insiders.app/Contents/Resources/app/out/vs/workbench/services/extensions/node/extensionHostProcess.js:65:13186)\n\tat /Applications/Visual Studio Code - Insiders.app/Contents/Resources/app/out/vs/workbench/services/extensions/node/extensionHostProcess.js:65:12534\n\tat Socket.w (/Applications/Visual Studio Code - Insiders.app/Contents/Resources/app/out/vs/workbench/services/extensions/node/extensionHostProcess.js:104:13219)\n\tat Socket.emit (events.js:315:20)\n\tat addChunk (internal/streams/readable.js:309:12)\n\tat readableAddChunk (internal/streams/readable.js:284:9)\n\tat Socket.Readable.push (internal/streams/readable.js:223:10)\n\tat Pipe.onStreamRead (internal/stream_base_commons.js:188:23)"
      }
     },
     "metadata": {
      "needs_background": "light"
     }
    }
   ],
   "metadata": {}
  },
  {
   "cell_type": "code",
   "execution_count": 51,
   "source": [
    "families = ['C2H2 ZF', 'Homeodomain', 'bHLH', 'bZIP', 'Forkhead', 'Nuclear receptor']\n",
    "fig, axs = plt.subplots(1, len(families))\n",
    "fig.set_size_inches(3 * len(families), 3)\n",
    "for family, ax in zip(families, axs):\n",
    "    cats_6k = {k: 0 for k in ['alternative_start',\n",
    "                            'alternative_stop',\n",
    "                            'alternative_internal_exon',\n",
    "                            'alternative_3prime',\n",
    "                            'alternative_5prime']}\n",
    "    n_6k = 0\n",
    "    for tf in tfs.values():\n",
    "        if tf_fam[tf.name] != family:\n",
    "            continue\n",
    "        ref_iso = list(sorted(tf.orfs, key=lambda x: len(x.aa_seq)))[-1].name\n",
    "        for alt_iso in [x.name for x in tf.orfs]:\n",
    "            if alt_iso == ref_iso:\n",
    "                continue\n",
    "            n_6k += 1\n",
    "            if tf.alternative_start(ref_iso, alt_iso):\n",
    "                cats_6k['alternative_start'] += 1\n",
    "            if tf.alternative_stop(ref_iso, alt_iso):\n",
    "                cats_6k['alternative_stop'] += 1\n",
    "            if tf.alternative_internal_exon(ref_iso, alt_iso):\n",
    "                cats_6k['alternative_internal_exon'] += 1\n",
    "            if tf.alternative_3prime(ref_iso, alt_iso):\n",
    "                cats_6k['alternative_3prime'] += 1\n",
    "            if tf.alternative_5prime(ref_iso, alt_iso):\n",
    "                cats_6k['alternative_5prime'] += 1\n",
    "    ax.bar(cats_6k.keys(),\n",
    "           [(x / n_6k) * 100 for x in cats_6k.values()])\n",
    "    ax.set_title(family)\n",
    "for ax in axs:\n",
    "    ax.xaxis.set_tick_params(rotation=90)\n",
    "    ax.set_ylim(0, 100)\n",
    "axs[0].set_ylabel('% of alternative isoforms')\n",
    "plt.savefig('../figures/splicing-categories-pct_TFiso1_by-TF-family_bar.pdf',\n",
    "            bbox_inches='tight')\n",
    "plt.show()"
   ],
   "outputs": [
    {
     "output_type": "display_data",
     "data": {
      "text/plain": [
       "<Figure size 1296x216 with 6 Axes>"
      ],
      "application/vnd.code.notebook.error": {
       "name": "ReferenceError",
       "message": "atob is not defined",
       "stack": "ReferenceError: atob is not defined\n\tat d (/Applications/Visual Studio Code - Insiders.app/Contents/Resources/app/extensions/ipynb/dist/ipynbMain.js:1:138755)\n\tat y (/Applications/Visual Studio Code - Insiders.app/Contents/Resources/app/extensions/ipynb/dist/ipynbMain.js:1:143435)\n\tat v (/Applications/Visual Studio Code - Insiders.app/Contents/Resources/app/extensions/ipynb/dist/ipynbMain.js:1:143731)\n\tat Array.map (<anonymous>)\n\tat /Applications/Visual Studio Code - Insiders.app/Contents/Resources/app/extensions/ipynb/dist/ipynbMain.js:1:144883\n\tat /Applications/Visual Studio Code - Insiders.app/Contents/Resources/app/extensions/ipynb/dist/ipynbMain.js:1:145125\n\tat /Applications/Visual Studio Code - Insiders.app/Contents/Resources/app/extensions/ipynb/dist/ipynbMain.js:1:145132\n\tat Array.map (<anonymous>)\n\tat e.jupyterNotebookModelToNotebookData (/Applications/Visual Studio Code - Insiders.app/Contents/Resources/app/extensions/ipynb/dist/ipynbMain.js:1:144441)\n\tat e.NotebookSerializer.deserializeNotebook (/Applications/Visual Studio Code - Insiders.app/Contents/Resources/app/extensions/ipynb/dist/ipynbMain.js:1:146368)\n\tat _.$dataToNotebook (/Applications/Visual Studio Code - Insiders.app/Contents/Resources/app/out/vs/workbench/services/extensions/node/extensionHostProcess.js:85:211883)\n\tat d._doInvokeHandler (/Applications/Visual Studio Code - Insiders.app/Contents/Resources/app/out/vs/workbench/services/extensions/node/extensionHostProcess.js:89:12819)\n\tat d._invokeHandler (/Applications/Visual Studio Code - Insiders.app/Contents/Resources/app/out/vs/workbench/services/extensions/node/extensionHostProcess.js:89:12503)\n\tat d._receiveRequest (/Applications/Visual Studio Code - Insiders.app/Contents/Resources/app/out/vs/workbench/services/extensions/node/extensionHostProcess.js:89:11107)\n\tat d._receiveOneMessage (/Applications/Visual Studio Code - Insiders.app/Contents/Resources/app/out/vs/workbench/services/extensions/node/extensionHostProcess.js:89:10142)\n\tat /Applications/Visual Studio Code - Insiders.app/Contents/Resources/app/out/vs/workbench/services/extensions/node/extensionHostProcess.js:89:8039\n\tat u.fire (/Applications/Visual Studio Code - Insiders.app/Contents/Resources/app/out/vs/workbench/services/extensions/node/extensionHostProcess.js:57:1712)\n\tat l.fire (/Applications/Visual Studio Code - Insiders.app/Contents/Resources/app/out/vs/workbench/services/extensions/node/extensionHostProcess.js:65:15825)\n\tat /Applications/Visual Studio Code - Insiders.app/Contents/Resources/app/out/vs/workbench/services/extensions/node/extensionHostProcess.js:104:30061\n\tat u.fire (/Applications/Visual Studio Code - Insiders.app/Contents/Resources/app/out/vs/workbench/services/extensions/node/extensionHostProcess.js:57:1712)\n\tat l.fire (/Applications/Visual Studio Code - Insiders.app/Contents/Resources/app/out/vs/workbench/services/extensions/node/extensionHostProcess.js:65:15825)\n\tat r._receiveMessage (/Applications/Visual Studio Code - Insiders.app/Contents/Resources/app/out/vs/workbench/services/extensions/node/extensionHostProcess.js:65:21091)\n\tat /Applications/Visual Studio Code - Insiders.app/Contents/Resources/app/out/vs/workbench/services/extensions/node/extensionHostProcess.js:65:17969\n\tat u.fire (/Applications/Visual Studio Code - Insiders.app/Contents/Resources/app/out/vs/workbench/services/extensions/node/extensionHostProcess.js:57:1712)\n\tat v.acceptChunk (/Applications/Visual Studio Code - Insiders.app/Contents/Resources/app/out/vs/workbench/services/extensions/node/extensionHostProcess.js:65:13186)\n\tat /Applications/Visual Studio Code - Insiders.app/Contents/Resources/app/out/vs/workbench/services/extensions/node/extensionHostProcess.js:65:12534\n\tat Socket.w (/Applications/Visual Studio Code - Insiders.app/Contents/Resources/app/out/vs/workbench/services/extensions/node/extensionHostProcess.js:104:13219)\n\tat Socket.emit (events.js:315:20)\n\tat addChunk (internal/streams/readable.js:309:12)\n\tat readableAddChunk (internal/streams/readable.js:284:9)\n\tat Socket.Readable.push (internal/streams/readable.js:223:10)\n\tat Pipe.onStreamRead (internal/stream_base_commons.js:188:23)"
      }
     },
     "metadata": {
      "needs_background": "light"
     }
    }
   ],
   "metadata": {}
  },
  {
   "cell_type": "code",
   "execution_count": 53,
   "source": [
    "families = ['C2H2 ZF', 'Homeodomain', 'bHLH', 'bZIP', 'Forkhead', 'Nuclear receptor']\n",
    "fig, axs = plt.subplots(1, len(families))\n",
    "fig.set_size_inches(3 * len(families), 3)\n",
    "for family, ax in zip(families, axs):\n",
    "    cats_6k = {k: 0 for k in ['alternative_start',\n",
    "                            'alternative_stop',\n",
    "                            'alternative_internal_exon',\n",
    "                            'alternative_3prime',\n",
    "                            'alternative_5prime']}\n",
    "    n_6k = 0\n",
    "    for tf in tfs_gc.values():\n",
    "        if tf.name not in tf_fam or tf_fam[tf.name] != family:\n",
    "            continue\n",
    "        ref_iso = list(sorted(tf.orfs, key=lambda x: len(x.aa_seq)))[-1].name\n",
    "        for alt_iso in [x.name for x in tf.orfs]:\n",
    "            if alt_iso == ref_iso:\n",
    "                continue\n",
    "            n_6k += 1\n",
    "            if tf.alternative_start(ref_iso, alt_iso):\n",
    "                cats_6k['alternative_start'] += 1\n",
    "            if tf.alternative_stop(ref_iso, alt_iso):\n",
    "                cats_6k['alternative_stop'] += 1\n",
    "            if tf.alternative_internal_exon(ref_iso, alt_iso):\n",
    "                cats_6k['alternative_internal_exon'] += 1\n",
    "            if tf.alternative_3prime(ref_iso, alt_iso):\n",
    "                cats_6k['alternative_3prime'] += 1\n",
    "            if tf.alternative_5prime(ref_iso, alt_iso):\n",
    "                cats_6k['alternative_5prime'] += 1\n",
    "    ax.bar(cats_6k.keys(),\n",
    "           [(x / n_6k) * 100 for x in cats_6k.values()])\n",
    "    ax.set_title(family)\n",
    "for ax in axs:\n",
    "    ax.xaxis.set_tick_params(rotation=90)\n",
    "    ax.set_ylim(0, 100)\n",
    "axs[0].set_ylabel('% of alternative isoforms')\n",
    "plt.savefig('../figures/splicing-categories-pct_Gencode_by-TF-family_bar.pdf',\n",
    "            bbox_inches='tight')\n",
    "plt.show()"
   ],
   "outputs": [
    {
     "output_type": "display_data",
     "data": {
      "text/plain": [
       "<Figure size 1296x216 with 6 Axes>"
      ],
      "application/vnd.code.notebook.error": {
       "name": "ReferenceError",
       "message": "atob is not defined",
       "stack": "ReferenceError: atob is not defined\n\tat d (/Applications/Visual Studio Code - Insiders.app/Contents/Resources/app/extensions/ipynb/dist/ipynbMain.js:1:138755)\n\tat y (/Applications/Visual Studio Code - Insiders.app/Contents/Resources/app/extensions/ipynb/dist/ipynbMain.js:1:143435)\n\tat v (/Applications/Visual Studio Code - Insiders.app/Contents/Resources/app/extensions/ipynb/dist/ipynbMain.js:1:143731)\n\tat Array.map (<anonymous>)\n\tat /Applications/Visual Studio Code - Insiders.app/Contents/Resources/app/extensions/ipynb/dist/ipynbMain.js:1:144883\n\tat /Applications/Visual Studio Code - Insiders.app/Contents/Resources/app/extensions/ipynb/dist/ipynbMain.js:1:145125\n\tat /Applications/Visual Studio Code - Insiders.app/Contents/Resources/app/extensions/ipynb/dist/ipynbMain.js:1:145132\n\tat Array.map (<anonymous>)\n\tat e.jupyterNotebookModelToNotebookData (/Applications/Visual Studio Code - Insiders.app/Contents/Resources/app/extensions/ipynb/dist/ipynbMain.js:1:144441)\n\tat e.NotebookSerializer.deserializeNotebook (/Applications/Visual Studio Code - Insiders.app/Contents/Resources/app/extensions/ipynb/dist/ipynbMain.js:1:146368)\n\tat _.$dataToNotebook (/Applications/Visual Studio Code - Insiders.app/Contents/Resources/app/out/vs/workbench/services/extensions/node/extensionHostProcess.js:85:211883)\n\tat d._doInvokeHandler (/Applications/Visual Studio Code - Insiders.app/Contents/Resources/app/out/vs/workbench/services/extensions/node/extensionHostProcess.js:89:12819)\n\tat d._invokeHandler (/Applications/Visual Studio Code - Insiders.app/Contents/Resources/app/out/vs/workbench/services/extensions/node/extensionHostProcess.js:89:12503)\n\tat d._receiveRequest (/Applications/Visual Studio Code - Insiders.app/Contents/Resources/app/out/vs/workbench/services/extensions/node/extensionHostProcess.js:89:11107)\n\tat d._receiveOneMessage (/Applications/Visual Studio Code - Insiders.app/Contents/Resources/app/out/vs/workbench/services/extensions/node/extensionHostProcess.js:89:10142)\n\tat /Applications/Visual Studio Code - Insiders.app/Contents/Resources/app/out/vs/workbench/services/extensions/node/extensionHostProcess.js:89:8039\n\tat u.fire (/Applications/Visual Studio Code - Insiders.app/Contents/Resources/app/out/vs/workbench/services/extensions/node/extensionHostProcess.js:57:1712)\n\tat l.fire (/Applications/Visual Studio Code - Insiders.app/Contents/Resources/app/out/vs/workbench/services/extensions/node/extensionHostProcess.js:65:15825)\n\tat /Applications/Visual Studio Code - Insiders.app/Contents/Resources/app/out/vs/workbench/services/extensions/node/extensionHostProcess.js:104:30061\n\tat u.fire (/Applications/Visual Studio Code - Insiders.app/Contents/Resources/app/out/vs/workbench/services/extensions/node/extensionHostProcess.js:57:1712)\n\tat l.fire (/Applications/Visual Studio Code - Insiders.app/Contents/Resources/app/out/vs/workbench/services/extensions/node/extensionHostProcess.js:65:15825)\n\tat r._receiveMessage (/Applications/Visual Studio Code - Insiders.app/Contents/Resources/app/out/vs/workbench/services/extensions/node/extensionHostProcess.js:65:21091)\n\tat /Applications/Visual Studio Code - Insiders.app/Contents/Resources/app/out/vs/workbench/services/extensions/node/extensionHostProcess.js:65:17969\n\tat u.fire (/Applications/Visual Studio Code - Insiders.app/Contents/Resources/app/out/vs/workbench/services/extensions/node/extensionHostProcess.js:57:1712)\n\tat v.acceptChunk (/Applications/Visual Studio Code - Insiders.app/Contents/Resources/app/out/vs/workbench/services/extensions/node/extensionHostProcess.js:65:13186)\n\tat /Applications/Visual Studio Code - Insiders.app/Contents/Resources/app/out/vs/workbench/services/extensions/node/extensionHostProcess.js:65:12534\n\tat Socket.w (/Applications/Visual Studio Code - Insiders.app/Contents/Resources/app/out/vs/workbench/services/extensions/node/extensionHostProcess.js:104:13219)\n\tat Socket.emit (events.js:315:20)\n\tat addChunk (internal/streams/readable.js:309:12)\n\tat readableAddChunk (internal/streams/readable.js:284:9)\n\tat Socket.Readable.push (internal/streams/readable.js:223:10)\n\tat Pipe.onStreamRead (internal/stream_base_commons.js:188:23)"
      }
     },
     "metadata": {
      "needs_background": "light"
     }
    }
   ],
   "metadata": {}
  },
  {
   "cell_type": "code",
   "execution_count": 4,
   "source": [
    "tfs['ATF2'].exon_diagram()"
   ],
   "outputs": [
    {
     "output_type": "display_data",
     "data": {
      "text/plain": [
       "<Figure size 432x288 with 1 Axes>"
      ],
      "application/vnd.code.notebook.error": {
       "name": "ReferenceError",
       "message": "atob is not defined",
       "stack": "ReferenceError: atob is not defined\n\tat d (/Applications/Visual Studio Code - Insiders.app/Contents/Resources/app/extensions/ipynb/dist/ipynbMain.js:1:138755)\n\tat y (/Applications/Visual Studio Code - Insiders.app/Contents/Resources/app/extensions/ipynb/dist/ipynbMain.js:1:143435)\n\tat v (/Applications/Visual Studio Code - Insiders.app/Contents/Resources/app/extensions/ipynb/dist/ipynbMain.js:1:143731)\n\tat Array.map (<anonymous>)\n\tat /Applications/Visual Studio Code - Insiders.app/Contents/Resources/app/extensions/ipynb/dist/ipynbMain.js:1:144883\n\tat /Applications/Visual Studio Code - Insiders.app/Contents/Resources/app/extensions/ipynb/dist/ipynbMain.js:1:145125\n\tat /Applications/Visual Studio Code - Insiders.app/Contents/Resources/app/extensions/ipynb/dist/ipynbMain.js:1:145132\n\tat Array.map (<anonymous>)\n\tat e.jupyterNotebookModelToNotebookData (/Applications/Visual Studio Code - Insiders.app/Contents/Resources/app/extensions/ipynb/dist/ipynbMain.js:1:144441)\n\tat e.NotebookSerializer.deserializeNotebook (/Applications/Visual Studio Code - Insiders.app/Contents/Resources/app/extensions/ipynb/dist/ipynbMain.js:1:146368)\n\tat _.$dataToNotebook (/Applications/Visual Studio Code - Insiders.app/Contents/Resources/app/out/vs/workbench/services/extensions/node/extensionHostProcess.js:85:211883)\n\tat d._doInvokeHandler (/Applications/Visual Studio Code - Insiders.app/Contents/Resources/app/out/vs/workbench/services/extensions/node/extensionHostProcess.js:89:12819)\n\tat d._invokeHandler (/Applications/Visual Studio Code - Insiders.app/Contents/Resources/app/out/vs/workbench/services/extensions/node/extensionHostProcess.js:89:12503)\n\tat d._receiveRequest (/Applications/Visual Studio Code - Insiders.app/Contents/Resources/app/out/vs/workbench/services/extensions/node/extensionHostProcess.js:89:11107)\n\tat d._receiveOneMessage (/Applications/Visual Studio Code - Insiders.app/Contents/Resources/app/out/vs/workbench/services/extensions/node/extensionHostProcess.js:89:10142)\n\tat /Applications/Visual Studio Code - Insiders.app/Contents/Resources/app/out/vs/workbench/services/extensions/node/extensionHostProcess.js:89:8039\n\tat u.fire (/Applications/Visual Studio Code - Insiders.app/Contents/Resources/app/out/vs/workbench/services/extensions/node/extensionHostProcess.js:57:1712)\n\tat l.fire (/Applications/Visual Studio Code - Insiders.app/Contents/Resources/app/out/vs/workbench/services/extensions/node/extensionHostProcess.js:65:15825)\n\tat /Applications/Visual Studio Code - Insiders.app/Contents/Resources/app/out/vs/workbench/services/extensions/node/extensionHostProcess.js:104:30061\n\tat u.fire (/Applications/Visual Studio Code - Insiders.app/Contents/Resources/app/out/vs/workbench/services/extensions/node/extensionHostProcess.js:57:1712)\n\tat l.fire (/Applications/Visual Studio Code - Insiders.app/Contents/Resources/app/out/vs/workbench/services/extensions/node/extensionHostProcess.js:65:15825)\n\tat r._receiveMessage (/Applications/Visual Studio Code - Insiders.app/Contents/Resources/app/out/vs/workbench/services/extensions/node/extensionHostProcess.js:65:21091)\n\tat /Applications/Visual Studio Code - Insiders.app/Contents/Resources/app/out/vs/workbench/services/extensions/node/extensionHostProcess.js:65:17969\n\tat u.fire (/Applications/Visual Studio Code - Insiders.app/Contents/Resources/app/out/vs/workbench/services/extensions/node/extensionHostProcess.js:57:1712)\n\tat v.acceptChunk (/Applications/Visual Studio Code - Insiders.app/Contents/Resources/app/out/vs/workbench/services/extensions/node/extensionHostProcess.js:65:13186)\n\tat /Applications/Visual Studio Code - Insiders.app/Contents/Resources/app/out/vs/workbench/services/extensions/node/extensionHostProcess.js:65:12534\n\tat Socket.w (/Applications/Visual Studio Code - Insiders.app/Contents/Resources/app/out/vs/workbench/services/extensions/node/extensionHostProcess.js:104:13219)\n\tat Socket.emit (events.js:315:20)\n\tat addChunk (internal/streams/readable.js:309:12)\n\tat readableAddChunk (internal/streams/readable.js:284:9)\n\tat Socket.Readable.push (internal/streams/readable.js:223:10)\n\tat Pipe.onStreamRead (internal/stream_base_commons.js:188:23)"
      }
     },
     "metadata": {
      "needs_background": "light"
     }
    }
   ],
   "metadata": {
    "tags": []
   }
  },
  {
   "cell_type": "code",
   "execution_count": 5,
   "source": [
    "tfs['ATF2'].protein_diagram()"
   ],
   "outputs": [
    {
     "output_type": "display_data",
     "data": {
      "text/plain": [
       "<Figure size 432x288 with 6 Axes>"
      ],
      "application/vnd.code.notebook.error": {
       "name": "ReferenceError",
       "message": "atob is not defined",
       "stack": "ReferenceError: atob is not defined\n\tat d (/Applications/Visual Studio Code - Insiders.app/Contents/Resources/app/extensions/ipynb/dist/ipynbMain.js:1:138755)\n\tat y (/Applications/Visual Studio Code - Insiders.app/Contents/Resources/app/extensions/ipynb/dist/ipynbMain.js:1:143435)\n\tat v (/Applications/Visual Studio Code - Insiders.app/Contents/Resources/app/extensions/ipynb/dist/ipynbMain.js:1:143731)\n\tat Array.map (<anonymous>)\n\tat /Applications/Visual Studio Code - Insiders.app/Contents/Resources/app/extensions/ipynb/dist/ipynbMain.js:1:144883\n\tat /Applications/Visual Studio Code - Insiders.app/Contents/Resources/app/extensions/ipynb/dist/ipynbMain.js:1:145125\n\tat /Applications/Visual Studio Code - Insiders.app/Contents/Resources/app/extensions/ipynb/dist/ipynbMain.js:1:145132\n\tat Array.map (<anonymous>)\n\tat e.jupyterNotebookModelToNotebookData (/Applications/Visual Studio Code - Insiders.app/Contents/Resources/app/extensions/ipynb/dist/ipynbMain.js:1:144441)\n\tat e.NotebookSerializer.deserializeNotebook (/Applications/Visual Studio Code - Insiders.app/Contents/Resources/app/extensions/ipynb/dist/ipynbMain.js:1:146368)\n\tat _.$dataToNotebook (/Applications/Visual Studio Code - Insiders.app/Contents/Resources/app/out/vs/workbench/services/extensions/node/extensionHostProcess.js:85:211883)\n\tat d._doInvokeHandler (/Applications/Visual Studio Code - Insiders.app/Contents/Resources/app/out/vs/workbench/services/extensions/node/extensionHostProcess.js:89:12819)\n\tat d._invokeHandler (/Applications/Visual Studio Code - Insiders.app/Contents/Resources/app/out/vs/workbench/services/extensions/node/extensionHostProcess.js:89:12503)\n\tat d._receiveRequest (/Applications/Visual Studio Code - Insiders.app/Contents/Resources/app/out/vs/workbench/services/extensions/node/extensionHostProcess.js:89:11107)\n\tat d._receiveOneMessage (/Applications/Visual Studio Code - Insiders.app/Contents/Resources/app/out/vs/workbench/services/extensions/node/extensionHostProcess.js:89:10142)\n\tat /Applications/Visual Studio Code - Insiders.app/Contents/Resources/app/out/vs/workbench/services/extensions/node/extensionHostProcess.js:89:8039\n\tat u.fire (/Applications/Visual Studio Code - Insiders.app/Contents/Resources/app/out/vs/workbench/services/extensions/node/extensionHostProcess.js:57:1712)\n\tat l.fire (/Applications/Visual Studio Code - Insiders.app/Contents/Resources/app/out/vs/workbench/services/extensions/node/extensionHostProcess.js:65:15825)\n\tat /Applications/Visual Studio Code - Insiders.app/Contents/Resources/app/out/vs/workbench/services/extensions/node/extensionHostProcess.js:104:30061\n\tat u.fire (/Applications/Visual Studio Code - Insiders.app/Contents/Resources/app/out/vs/workbench/services/extensions/node/extensionHostProcess.js:57:1712)\n\tat l.fire (/Applications/Visual Studio Code - Insiders.app/Contents/Resources/app/out/vs/workbench/services/extensions/node/extensionHostProcess.js:65:15825)\n\tat r._receiveMessage (/Applications/Visual Studio Code - Insiders.app/Contents/Resources/app/out/vs/workbench/services/extensions/node/extensionHostProcess.js:65:21091)\n\tat /Applications/Visual Studio Code - Insiders.app/Contents/Resources/app/out/vs/workbench/services/extensions/node/extensionHostProcess.js:65:17969\n\tat u.fire (/Applications/Visual Studio Code - Insiders.app/Contents/Resources/app/out/vs/workbench/services/extensions/node/extensionHostProcess.js:57:1712)\n\tat v.acceptChunk (/Applications/Visual Studio Code - Insiders.app/Contents/Resources/app/out/vs/workbench/services/extensions/node/extensionHostProcess.js:65:13186)\n\tat /Applications/Visual Studio Code - Insiders.app/Contents/Resources/app/out/vs/workbench/services/extensions/node/extensionHostProcess.js:65:12534\n\tat Socket.w (/Applications/Visual Studio Code - Insiders.app/Contents/Resources/app/out/vs/workbench/services/extensions/node/extensionHostProcess.js:104:13219)\n\tat Socket.emit (events.js:315:20)\n\tat addChunk (internal/streams/readable.js:309:12)\n\tat readableAddChunk (internal/streams/readable.js:284:9)\n\tat Socket.Readable.push (internal/streams/readable.js:223:10)\n\tat Pipe.onStreamRead (internal/stream_base_commons.js:188:23)"
      }
     },
     "metadata": {
      "needs_background": "light"
     }
    }
   ],
   "metadata": {}
  },
  {
   "cell_type": "code",
   "execution_count": 6,
   "source": [
    "tfs['TCF12'].exon_diagram()"
   ],
   "outputs": [
    {
     "output_type": "display_data",
     "data": {
      "text/plain": [
       "<Figure size 432x288 with 1 Axes>"
      ],
      "application/vnd.code.notebook.error": {
       "name": "ReferenceError",
       "message": "atob is not defined",
       "stack": "ReferenceError: atob is not defined\n\tat d (/Applications/Visual Studio Code - Insiders.app/Contents/Resources/app/extensions/ipynb/dist/ipynbMain.js:1:138755)\n\tat y (/Applications/Visual Studio Code - Insiders.app/Contents/Resources/app/extensions/ipynb/dist/ipynbMain.js:1:143435)\n\tat v (/Applications/Visual Studio Code - Insiders.app/Contents/Resources/app/extensions/ipynb/dist/ipynbMain.js:1:143731)\n\tat Array.map (<anonymous>)\n\tat /Applications/Visual Studio Code - Insiders.app/Contents/Resources/app/extensions/ipynb/dist/ipynbMain.js:1:144883\n\tat /Applications/Visual Studio Code - Insiders.app/Contents/Resources/app/extensions/ipynb/dist/ipynbMain.js:1:145125\n\tat /Applications/Visual Studio Code - Insiders.app/Contents/Resources/app/extensions/ipynb/dist/ipynbMain.js:1:145132\n\tat Array.map (<anonymous>)\n\tat e.jupyterNotebookModelToNotebookData (/Applications/Visual Studio Code - Insiders.app/Contents/Resources/app/extensions/ipynb/dist/ipynbMain.js:1:144441)\n\tat e.NotebookSerializer.deserializeNotebook (/Applications/Visual Studio Code - Insiders.app/Contents/Resources/app/extensions/ipynb/dist/ipynbMain.js:1:146368)\n\tat _.$dataToNotebook (/Applications/Visual Studio Code - Insiders.app/Contents/Resources/app/out/vs/workbench/services/extensions/node/extensionHostProcess.js:85:211883)\n\tat d._doInvokeHandler (/Applications/Visual Studio Code - Insiders.app/Contents/Resources/app/out/vs/workbench/services/extensions/node/extensionHostProcess.js:89:12819)\n\tat d._invokeHandler (/Applications/Visual Studio Code - Insiders.app/Contents/Resources/app/out/vs/workbench/services/extensions/node/extensionHostProcess.js:89:12503)\n\tat d._receiveRequest (/Applications/Visual Studio Code - Insiders.app/Contents/Resources/app/out/vs/workbench/services/extensions/node/extensionHostProcess.js:89:11107)\n\tat d._receiveOneMessage (/Applications/Visual Studio Code - Insiders.app/Contents/Resources/app/out/vs/workbench/services/extensions/node/extensionHostProcess.js:89:10142)\n\tat /Applications/Visual Studio Code - Insiders.app/Contents/Resources/app/out/vs/workbench/services/extensions/node/extensionHostProcess.js:89:8039\n\tat u.fire (/Applications/Visual Studio Code - Insiders.app/Contents/Resources/app/out/vs/workbench/services/extensions/node/extensionHostProcess.js:57:1712)\n\tat l.fire (/Applications/Visual Studio Code - Insiders.app/Contents/Resources/app/out/vs/workbench/services/extensions/node/extensionHostProcess.js:65:15825)\n\tat /Applications/Visual Studio Code - Insiders.app/Contents/Resources/app/out/vs/workbench/services/extensions/node/extensionHostProcess.js:104:30061\n\tat u.fire (/Applications/Visual Studio Code - Insiders.app/Contents/Resources/app/out/vs/workbench/services/extensions/node/extensionHostProcess.js:57:1712)\n\tat l.fire (/Applications/Visual Studio Code - Insiders.app/Contents/Resources/app/out/vs/workbench/services/extensions/node/extensionHostProcess.js:65:15825)\n\tat r._receiveMessage (/Applications/Visual Studio Code - Insiders.app/Contents/Resources/app/out/vs/workbench/services/extensions/node/extensionHostProcess.js:65:21091)\n\tat /Applications/Visual Studio Code - Insiders.app/Contents/Resources/app/out/vs/workbench/services/extensions/node/extensionHostProcess.js:65:17969\n\tat u.fire (/Applications/Visual Studio Code - Insiders.app/Contents/Resources/app/out/vs/workbench/services/extensions/node/extensionHostProcess.js:57:1712)\n\tat v.acceptChunk (/Applications/Visual Studio Code - Insiders.app/Contents/Resources/app/out/vs/workbench/services/extensions/node/extensionHostProcess.js:65:13186)\n\tat /Applications/Visual Studio Code - Insiders.app/Contents/Resources/app/out/vs/workbench/services/extensions/node/extensionHostProcess.js:65:12534\n\tat Socket.w (/Applications/Visual Studio Code - Insiders.app/Contents/Resources/app/out/vs/workbench/services/extensions/node/extensionHostProcess.js:104:13219)\n\tat Socket.emit (events.js:315:20)\n\tat addChunk (internal/streams/readable.js:309:12)\n\tat readableAddChunk (internal/streams/readable.js:284:9)\n\tat Socket.Readable.push (internal/streams/readable.js:223:10)\n\tat Pipe.onStreamRead (internal/stream_base_commons.js:188:23)"
      }
     },
     "metadata": {
      "needs_background": "light"
     }
    }
   ],
   "metadata": {
    "tags": []
   }
  },
  {
   "cell_type": "code",
   "execution_count": 7,
   "source": [
    "tfs['TCF12'].strand"
   ],
   "outputs": [
    {
     "output_type": "execute_result",
     "data": {
      "text/plain": [
       "'+'"
      ]
     },
     "metadata": {},
     "execution_count": 7
    }
   ],
   "metadata": {}
  },
  {
   "cell_type": "code",
   "execution_count": 8,
   "source": [
    "# is this true?\n",
    "tfs['TCF12'].alternative_3prime('TCF12-2', 'TCF12-3')"
   ],
   "outputs": [
    {
     "output_type": "execute_result",
     "data": {
      "text/plain": [
       "True"
      ]
     },
     "metadata": {},
     "execution_count": 8
    }
   ],
   "metadata": {}
  },
  {
   "cell_type": "code",
   "execution_count": 9,
   "source": [
    "cats = {k: set() for k in ['alternative_start',\n",
    "                           'alternative_stop',\n",
    "                           'alternative_internal_exon',\n",
    "                           'alternative_3prime',\n",
    "                           'alternative_5prime']}\n",
    "for tf in tfs.values():\n",
    "    ref_iso = tf.orfs[0].name\n",
    "    for alt_iso in [x.name for x in tf.orfs[1:]]:\n",
    "        if tf.alternative_start(ref_iso, alt_iso):\n",
    "            cats['alternative_start'].add((ref_iso, alt_iso))\n",
    "        if tf.alternative_stop(ref_iso, alt_iso):\n",
    "            cats['alternative_stop'].add((ref_iso, alt_iso))\n",
    "        if tf.alternative_internal_exon(ref_iso, alt_iso):\n",
    "            cats['alternative_internal_exon'].add((ref_iso, alt_iso))\n",
    "        if tf.alternative_3prime(ref_iso, alt_iso):\n",
    "            cats['alternative_3prime'].add((ref_iso, alt_iso))\n",
    "        if tf.alternative_5prime(ref_iso, alt_iso):\n",
    "            cats['alternative_5prime'].add((ref_iso, alt_iso))"
   ],
   "outputs": [],
   "metadata": {}
  },
  {
   "cell_type": "code",
   "execution_count": 10,
   "source": [
    "for k, v in cats.items():\n",
    "    print(k, len(v))"
   ],
   "outputs": [
    {
     "output_type": "stream",
     "name": "stdout",
     "text": [
      "alternative_start 169\n",
      "alternative_stop 194\n",
      "alternative_internal_exon 209\n",
      "alternative_3prime 223\n",
      "alternative_5prime 188\n"
     ]
    }
   ],
   "metadata": {
    "tags": []
   }
  },
  {
   "cell_type": "code",
   "execution_count": 11,
   "source": [
    "venn(cats)\n",
    "plt.savefig('../figures/splice-cat_venn.pdf',\n",
    "            bbox_inches='tight')"
   ],
   "outputs": [
    {
     "output_type": "display_data",
     "data": {
      "text/plain": [
       "<Figure size 576x576 with 1 Axes>"
      ],
      "application/vnd.code.notebook.error": {
       "name": "ReferenceError",
       "message": "atob is not defined",
       "stack": "ReferenceError: atob is not defined\n\tat d (/Applications/Visual Studio Code - Insiders.app/Contents/Resources/app/extensions/ipynb/dist/ipynbMain.js:1:138755)\n\tat y (/Applications/Visual Studio Code - Insiders.app/Contents/Resources/app/extensions/ipynb/dist/ipynbMain.js:1:143435)\n\tat v (/Applications/Visual Studio Code - Insiders.app/Contents/Resources/app/extensions/ipynb/dist/ipynbMain.js:1:143731)\n\tat Array.map (<anonymous>)\n\tat /Applications/Visual Studio Code - Insiders.app/Contents/Resources/app/extensions/ipynb/dist/ipynbMain.js:1:144883\n\tat /Applications/Visual Studio Code - Insiders.app/Contents/Resources/app/extensions/ipynb/dist/ipynbMain.js:1:145125\n\tat /Applications/Visual Studio Code - Insiders.app/Contents/Resources/app/extensions/ipynb/dist/ipynbMain.js:1:145132\n\tat Array.map (<anonymous>)\n\tat e.jupyterNotebookModelToNotebookData (/Applications/Visual Studio Code - Insiders.app/Contents/Resources/app/extensions/ipynb/dist/ipynbMain.js:1:144441)\n\tat e.NotebookSerializer.deserializeNotebook (/Applications/Visual Studio Code - Insiders.app/Contents/Resources/app/extensions/ipynb/dist/ipynbMain.js:1:146368)\n\tat _.$dataToNotebook (/Applications/Visual Studio Code - Insiders.app/Contents/Resources/app/out/vs/workbench/services/extensions/node/extensionHostProcess.js:85:211883)\n\tat d._doInvokeHandler (/Applications/Visual Studio Code - Insiders.app/Contents/Resources/app/out/vs/workbench/services/extensions/node/extensionHostProcess.js:89:12819)\n\tat d._invokeHandler (/Applications/Visual Studio Code - Insiders.app/Contents/Resources/app/out/vs/workbench/services/extensions/node/extensionHostProcess.js:89:12503)\n\tat d._receiveRequest (/Applications/Visual Studio Code - Insiders.app/Contents/Resources/app/out/vs/workbench/services/extensions/node/extensionHostProcess.js:89:11107)\n\tat d._receiveOneMessage (/Applications/Visual Studio Code - Insiders.app/Contents/Resources/app/out/vs/workbench/services/extensions/node/extensionHostProcess.js:89:10142)\n\tat /Applications/Visual Studio Code - Insiders.app/Contents/Resources/app/out/vs/workbench/services/extensions/node/extensionHostProcess.js:89:8039\n\tat u.fire (/Applications/Visual Studio Code - Insiders.app/Contents/Resources/app/out/vs/workbench/services/extensions/node/extensionHostProcess.js:57:1712)\n\tat l.fire (/Applications/Visual Studio Code - Insiders.app/Contents/Resources/app/out/vs/workbench/services/extensions/node/extensionHostProcess.js:65:15825)\n\tat /Applications/Visual Studio Code - Insiders.app/Contents/Resources/app/out/vs/workbench/services/extensions/node/extensionHostProcess.js:104:30061\n\tat u.fire (/Applications/Visual Studio Code - Insiders.app/Contents/Resources/app/out/vs/workbench/services/extensions/node/extensionHostProcess.js:57:1712)\n\tat l.fire (/Applications/Visual Studio Code - Insiders.app/Contents/Resources/app/out/vs/workbench/services/extensions/node/extensionHostProcess.js:65:15825)\n\tat r._receiveMessage (/Applications/Visual Studio Code - Insiders.app/Contents/Resources/app/out/vs/workbench/services/extensions/node/extensionHostProcess.js:65:21091)\n\tat /Applications/Visual Studio Code - Insiders.app/Contents/Resources/app/out/vs/workbench/services/extensions/node/extensionHostProcess.js:65:17969\n\tat u.fire (/Applications/Visual Studio Code - Insiders.app/Contents/Resources/app/out/vs/workbench/services/extensions/node/extensionHostProcess.js:57:1712)\n\tat v.acceptChunk (/Applications/Visual Studio Code - Insiders.app/Contents/Resources/app/out/vs/workbench/services/extensions/node/extensionHostProcess.js:65:13186)\n\tat /Applications/Visual Studio Code - Insiders.app/Contents/Resources/app/out/vs/workbench/services/extensions/node/extensionHostProcess.js:65:12534\n\tat Socket.w (/Applications/Visual Studio Code - Insiders.app/Contents/Resources/app/out/vs/workbench/services/extensions/node/extensionHostProcess.js:104:13219)\n\tat Socket.emit (events.js:315:20)\n\tat addChunk (internal/streams/readable.js:309:12)\n\tat readableAddChunk (internal/streams/readable.js:284:9)\n\tat Socket.Readable.push (internal/streams/readable.js:223:10)\n\tat Pipe.onStreamRead (internal/stream_base_commons.js:188:23)"
      }
     },
     "metadata": {}
    }
   ],
   "metadata": {}
  },
  {
   "cell_type": "code",
   "execution_count": 12,
   "source": [
    "# what are the alt. stops that don't have other cats???\n",
    "cats['alternative_stop'].difference(set.union(*(v for k, v in cats.items() if k != 'alternative_stop')))"
   ],
   "outputs": [
    {
     "output_type": "execute_result",
     "data": {
      "text/plain": [
       "{('ATF3-1', 'ATF3-2'),\n",
       " ('ESR2-1', 'ESR2-2'),\n",
       " ('FOXP2-1', 'FOXP2-10'),\n",
       " ('GRHL3-1', 'GRHL3-3'),\n",
       " ('HSFY1-1', 'HSFY1-2'),\n",
       " ('MAX-1', 'MAX-5'),\n",
       " ('MITF-2', 'MITF-3'),\n",
       " ('NKX2-5-1', 'NKX2-5-2'),\n",
       " ('PATZ1-1', 'PATZ1-2'),\n",
       " ('PRDM5-1', 'PRDM5-3'),\n",
       " ('PRRX1-1', 'PRRX1-2'),\n",
       " ('ZBTB25-1', 'ZBTB25-4'),\n",
       " ('ZNF124-1', 'ZNF124-4'),\n",
       " ('ZNF174-1', 'ZNF174-3'),\n",
       " ('ZNF175-1', 'ZNF175-2'),\n",
       " ('ZNF177-1', 'ZNF177-2'),\n",
       " ('ZNF177-1', 'ZNF177-3'),\n",
       " ('ZNF24-1', 'ZNF24-2'),\n",
       " ('ZNF254-1', 'ZNF254-2'),\n",
       " ('ZNF264-1', 'ZNF264-3'),\n",
       " ('ZNF320-1', 'ZNF320-2'),\n",
       " ('ZNF451-2', 'ZNF451-3'),\n",
       " ('ZNF451-2', 'ZNF451-4'),\n",
       " ('ZNF451-2', 'ZNF451-5'),\n",
       " ('ZNF451-2', 'ZNF451-6'),\n",
       " ('ZNF451-2', 'ZNF451-7'),\n",
       " ('ZNF451-2', 'ZNF451-8'),\n",
       " ('ZNF473-1', 'ZNF473-2'),\n",
       " ('ZNF483-1', 'ZNF483-2'),\n",
       " ('ZNF544-1', 'ZNF544-6'),\n",
       " ('ZNF549-1', 'ZNF549-2'),\n",
       " ('ZNF599-1', 'ZNF599-3'),\n",
       " ('ZNF655-1', 'ZNF655-4'),\n",
       " ('ZNF688-2', 'ZNF688-5'),\n",
       " ('ZSCAN18-1', 'ZSCAN18-7')}"
      ]
     },
     "metadata": {},
     "execution_count": 12
    }
   ],
   "metadata": {}
  },
  {
   "cell_type": "code",
   "execution_count": 13,
   "source": [
    "tfs['ATF3'].exon_diagram()"
   ],
   "outputs": [
    {
     "output_type": "display_data",
     "data": {
      "text/plain": [
       "<Figure size 432x288 with 1 Axes>"
      ],
      "application/vnd.code.notebook.error": {
       "name": "ReferenceError",
       "message": "atob is not defined",
       "stack": "ReferenceError: atob is not defined\n\tat d (/Applications/Visual Studio Code - Insiders.app/Contents/Resources/app/extensions/ipynb/dist/ipynbMain.js:1:138755)\n\tat y (/Applications/Visual Studio Code - Insiders.app/Contents/Resources/app/extensions/ipynb/dist/ipynbMain.js:1:143435)\n\tat v (/Applications/Visual Studio Code - Insiders.app/Contents/Resources/app/extensions/ipynb/dist/ipynbMain.js:1:143731)\n\tat Array.map (<anonymous>)\n\tat /Applications/Visual Studio Code - Insiders.app/Contents/Resources/app/extensions/ipynb/dist/ipynbMain.js:1:144883\n\tat /Applications/Visual Studio Code - Insiders.app/Contents/Resources/app/extensions/ipynb/dist/ipynbMain.js:1:145125\n\tat /Applications/Visual Studio Code - Insiders.app/Contents/Resources/app/extensions/ipynb/dist/ipynbMain.js:1:145132\n\tat Array.map (<anonymous>)\n\tat e.jupyterNotebookModelToNotebookData (/Applications/Visual Studio Code - Insiders.app/Contents/Resources/app/extensions/ipynb/dist/ipynbMain.js:1:144441)\n\tat e.NotebookSerializer.deserializeNotebook (/Applications/Visual Studio Code - Insiders.app/Contents/Resources/app/extensions/ipynb/dist/ipynbMain.js:1:146368)\n\tat _.$dataToNotebook (/Applications/Visual Studio Code - Insiders.app/Contents/Resources/app/out/vs/workbench/services/extensions/node/extensionHostProcess.js:85:211883)\n\tat d._doInvokeHandler (/Applications/Visual Studio Code - Insiders.app/Contents/Resources/app/out/vs/workbench/services/extensions/node/extensionHostProcess.js:89:12819)\n\tat d._invokeHandler (/Applications/Visual Studio Code - Insiders.app/Contents/Resources/app/out/vs/workbench/services/extensions/node/extensionHostProcess.js:89:12503)\n\tat d._receiveRequest (/Applications/Visual Studio Code - Insiders.app/Contents/Resources/app/out/vs/workbench/services/extensions/node/extensionHostProcess.js:89:11107)\n\tat d._receiveOneMessage (/Applications/Visual Studio Code - Insiders.app/Contents/Resources/app/out/vs/workbench/services/extensions/node/extensionHostProcess.js:89:10142)\n\tat /Applications/Visual Studio Code - Insiders.app/Contents/Resources/app/out/vs/workbench/services/extensions/node/extensionHostProcess.js:89:8039\n\tat u.fire (/Applications/Visual Studio Code - Insiders.app/Contents/Resources/app/out/vs/workbench/services/extensions/node/extensionHostProcess.js:57:1712)\n\tat l.fire (/Applications/Visual Studio Code - Insiders.app/Contents/Resources/app/out/vs/workbench/services/extensions/node/extensionHostProcess.js:65:15825)\n\tat /Applications/Visual Studio Code - Insiders.app/Contents/Resources/app/out/vs/workbench/services/extensions/node/extensionHostProcess.js:104:30061\n\tat u.fire (/Applications/Visual Studio Code - Insiders.app/Contents/Resources/app/out/vs/workbench/services/extensions/node/extensionHostProcess.js:57:1712)\n\tat l.fire (/Applications/Visual Studio Code - Insiders.app/Contents/Resources/app/out/vs/workbench/services/extensions/node/extensionHostProcess.js:65:15825)\n\tat r._receiveMessage (/Applications/Visual Studio Code - Insiders.app/Contents/Resources/app/out/vs/workbench/services/extensions/node/extensionHostProcess.js:65:21091)\n\tat /Applications/Visual Studio Code - Insiders.app/Contents/Resources/app/out/vs/workbench/services/extensions/node/extensionHostProcess.js:65:17969\n\tat u.fire (/Applications/Visual Studio Code - Insiders.app/Contents/Resources/app/out/vs/workbench/services/extensions/node/extensionHostProcess.js:57:1712)\n\tat v.acceptChunk (/Applications/Visual Studio Code - Insiders.app/Contents/Resources/app/out/vs/workbench/services/extensions/node/extensionHostProcess.js:65:13186)\n\tat /Applications/Visual Studio Code - Insiders.app/Contents/Resources/app/out/vs/workbench/services/extensions/node/extensionHostProcess.js:65:12534\n\tat Socket.w (/Applications/Visual Studio Code - Insiders.app/Contents/Resources/app/out/vs/workbench/services/extensions/node/extensionHostProcess.js:104:13219)\n\tat Socket.emit (events.js:315:20)\n\tat addChunk (internal/streams/readable.js:309:12)\n\tat readableAddChunk (internal/streams/readable.js:284:9)\n\tat Socket.Readable.push (internal/streams/readable.js:223:10)\n\tat Pipe.onStreamRead (internal/stream_base_commons.js:188:23)"
      }
     },
     "metadata": {
      "needs_background": "light"
     }
    }
   ],
   "metadata": {}
  },
  {
   "cell_type": "code",
   "execution_count": 14,
   "source": [
    "tfs['ATF2'].alternative_3prime('ATF2-1', 'ATF2-2')"
   ],
   "outputs": [
    {
     "output_type": "execute_result",
     "data": {
      "text/plain": [
       "True"
      ]
     },
     "metadata": {},
     "execution_count": 14
    }
   ],
   "metadata": {}
  },
  {
   "cell_type": "code",
   "execution_count": 15,
   "source": [
    "# get m1h data and look for differences\n",
    "from data_loading import load_m1h_activation_data\n",
    "\n",
    "m1h = load_m1h_activation_data()\n",
    "m1h.head()"
   ],
   "outputs": [
    {
     "output_type": "execute_result",
     "data": {
      "text/plain": [
       "       gene         clone_acc  M1H_rep1  M1H_rep2  M1H_rep3\n",
       "360   AEBP2   AEBP2|2/3|05F03  0.241019  0.189211  0.473661\n",
       "359   AEBP2   AEBP2|3/3|05E07 -0.276303 -0.305477 -0.121186\n",
       "0     ARNT2   ARNT2|1/6|08C12  4.498733  4.501519  4.297244\n",
       "1     ARNT2   ARNT2|2/6|09E01  2.407721  2.407411  2.197963\n",
       "3    ARNTL2  ARNTL2|2/5|12C06  0.398027  0.391809  0.299461"
      ],
      "text/html": [
       "<div>\n",
       "<style scoped>\n",
       "    .dataframe tbody tr th:only-of-type {\n",
       "        vertical-align: middle;\n",
       "    }\n",
       "\n",
       "    .dataframe tbody tr th {\n",
       "        vertical-align: top;\n",
       "    }\n",
       "\n",
       "    .dataframe thead th {\n",
       "        text-align: right;\n",
       "    }\n",
       "</style>\n",
       "<table border=\"1\" class=\"dataframe\">\n",
       "  <thead>\n",
       "    <tr style=\"text-align: right;\">\n",
       "      <th></th>\n",
       "      <th>gene</th>\n",
       "      <th>clone_acc</th>\n",
       "      <th>M1H_rep1</th>\n",
       "      <th>M1H_rep2</th>\n",
       "      <th>M1H_rep3</th>\n",
       "    </tr>\n",
       "  </thead>\n",
       "  <tbody>\n",
       "    <tr>\n",
       "      <th>360</th>\n",
       "      <td>AEBP2</td>\n",
       "      <td>AEBP2|2/3|05F03</td>\n",
       "      <td>0.241019</td>\n",
       "      <td>0.189211</td>\n",
       "      <td>0.473661</td>\n",
       "    </tr>\n",
       "    <tr>\n",
       "      <th>359</th>\n",
       "      <td>AEBP2</td>\n",
       "      <td>AEBP2|3/3|05E07</td>\n",
       "      <td>-0.276303</td>\n",
       "      <td>-0.305477</td>\n",
       "      <td>-0.121186</td>\n",
       "    </tr>\n",
       "    <tr>\n",
       "      <th>0</th>\n",
       "      <td>ARNT2</td>\n",
       "      <td>ARNT2|1/6|08C12</td>\n",
       "      <td>4.498733</td>\n",
       "      <td>4.501519</td>\n",
       "      <td>4.297244</td>\n",
       "    </tr>\n",
       "    <tr>\n",
       "      <th>1</th>\n",
       "      <td>ARNT2</td>\n",
       "      <td>ARNT2|2/6|09E01</td>\n",
       "      <td>2.407721</td>\n",
       "      <td>2.407411</td>\n",
       "      <td>2.197963</td>\n",
       "    </tr>\n",
       "    <tr>\n",
       "      <th>3</th>\n",
       "      <td>ARNTL2</td>\n",
       "      <td>ARNTL2|2/5|12C06</td>\n",
       "      <td>0.398027</td>\n",
       "      <td>0.391809</td>\n",
       "      <td>0.299461</td>\n",
       "    </tr>\n",
       "  </tbody>\n",
       "</table>\n",
       "</div>"
      ]
     },
     "metadata": {},
     "execution_count": 15
    }
   ],
   "metadata": {}
  },
  {
   "cell_type": "code",
   "execution_count": 16,
   "source": [
    "from data_loading import load_y2h_isoform_data, load_y1h_pdi_data, load_valid_isoform_clones\n",
    "from isoform_pairwise_metrics import pairs_of_isoforms_comparison_table\n",
    "\n",
    "y2h = load_y2h_isoform_data()\n",
    "y1h = load_y1h_pdi_data()\n",
    "isoforms = load_valid_isoform_clones()\n",
    "pairs = pairs_of_isoforms_comparison_table(isoforms=isoforms,\n",
    "                                           y2h=y2h,\n",
    "                                           y1h=y1h,\n",
    "                                           m1h=m1h)"
   ],
   "outputs": [],
   "metadata": {}
  },
  {
   "cell_type": "code",
   "execution_count": 17,
   "source": [
    "pairs.head()"
   ],
   "outputs": [
    {
     "output_type": "execute_result",
     "data": {
      "text/plain": [
       "  tf_gene_symbol      clone_acc_a      clone_acc_b  \\\n",
       "0          AEBP2  AEBP2|2/3|05F03  AEBP2|3/3|05E07   \n",
       "1          ARNT2  ARNT2|1/6|08C12  ARNT2|2/6|09E01   \n",
       "2          ARNT2  ARNT2|1/6|08C12  ARNT2|3/6|10D11   \n",
       "3          ARNT2  ARNT2|2/6|09E01  ARNT2|3/6|10D11   \n",
       "4          ARNTL  ARNTL|1/2|08H08  ARNTL|2/2|08E08   \n",
       "\n",
       "                              pair  ppi_n_tested  ppi_n_shared  ppi_n_min  \\\n",
       "0  AEBP2|2/3|05F03_AEBP2|3/3|05E07           NaN           NaN        NaN   \n",
       "1  ARNT2|1/6|08C12_ARNT2|2/6|09E01          13.0           7.0        8.0   \n",
       "2  ARNT2|1/6|08C12_ARNT2|3/6|10D11           NaN           NaN        NaN   \n",
       "3  ARNT2|2/6|09E01_ARNT2|3/6|10D11           NaN           NaN        NaN   \n",
       "4  ARNTL|1/2|08H08_ARNTL|2/2|08E08           NaN           NaN        NaN   \n",
       "\n",
       "   ppi_n_min_diff  ppi_jaccard  ppi_simpson  ppi_n_diff  pdi_n_tested  \\\n",
       "0             NaN          NaN          NaN         NaN           NaN   \n",
       "1             1.0     0.538462        0.875         6.0           NaN   \n",
       "2             NaN          NaN          NaN         NaN           NaN   \n",
       "3             NaN          NaN          NaN         NaN           NaN   \n",
       "4             NaN          NaN          NaN         NaN           NaN   \n",
       "\n",
       "   pdi_n_shared  pdi_n_min  pdi_n_min_diff  pdi_jaccard  pdi_simpson  \\\n",
       "0           NaN        NaN             NaN          NaN          NaN   \n",
       "1           NaN        NaN             NaN          NaN          NaN   \n",
       "2           NaN        NaN             NaN          NaN          NaN   \n",
       "3           NaN        NaN             NaN          NaN          NaN   \n",
       "4           NaN        NaN             NaN          NaN          NaN   \n",
       "\n",
       "   pdi_n_diff  activation_fold_change  aa_seq_pct_id  \n",
       "0         NaN                0.535619           82.0  \n",
       "1         NaN                2.094800           93.0  \n",
       "2         NaN                     NaN           95.7  \n",
       "3         NaN                     NaN           93.1  \n",
       "4         NaN                     NaN           90.3  "
      ],
      "text/html": [
       "<div>\n",
       "<style scoped>\n",
       "    .dataframe tbody tr th:only-of-type {\n",
       "        vertical-align: middle;\n",
       "    }\n",
       "\n",
       "    .dataframe tbody tr th {\n",
       "        vertical-align: top;\n",
       "    }\n",
       "\n",
       "    .dataframe thead th {\n",
       "        text-align: right;\n",
       "    }\n",
       "</style>\n",
       "<table border=\"1\" class=\"dataframe\">\n",
       "  <thead>\n",
       "    <tr style=\"text-align: right;\">\n",
       "      <th></th>\n",
       "      <th>tf_gene_symbol</th>\n",
       "      <th>clone_acc_a</th>\n",
       "      <th>clone_acc_b</th>\n",
       "      <th>pair</th>\n",
       "      <th>ppi_n_tested</th>\n",
       "      <th>ppi_n_shared</th>\n",
       "      <th>ppi_n_min</th>\n",
       "      <th>ppi_n_min_diff</th>\n",
       "      <th>ppi_jaccard</th>\n",
       "      <th>ppi_simpson</th>\n",
       "      <th>ppi_n_diff</th>\n",
       "      <th>pdi_n_tested</th>\n",
       "      <th>pdi_n_shared</th>\n",
       "      <th>pdi_n_min</th>\n",
       "      <th>pdi_n_min_diff</th>\n",
       "      <th>pdi_jaccard</th>\n",
       "      <th>pdi_simpson</th>\n",
       "      <th>pdi_n_diff</th>\n",
       "      <th>activation_fold_change</th>\n",
       "      <th>aa_seq_pct_id</th>\n",
       "    </tr>\n",
       "  </thead>\n",
       "  <tbody>\n",
       "    <tr>\n",
       "      <th>0</th>\n",
       "      <td>AEBP2</td>\n",
       "      <td>AEBP2|2/3|05F03</td>\n",
       "      <td>AEBP2|3/3|05E07</td>\n",
       "      <td>AEBP2|2/3|05F03_AEBP2|3/3|05E07</td>\n",
       "      <td>NaN</td>\n",
       "      <td>NaN</td>\n",
       "      <td>NaN</td>\n",
       "      <td>NaN</td>\n",
       "      <td>NaN</td>\n",
       "      <td>NaN</td>\n",
       "      <td>NaN</td>\n",
       "      <td>NaN</td>\n",
       "      <td>NaN</td>\n",
       "      <td>NaN</td>\n",
       "      <td>NaN</td>\n",
       "      <td>NaN</td>\n",
       "      <td>NaN</td>\n",
       "      <td>NaN</td>\n",
       "      <td>0.535619</td>\n",
       "      <td>82.0</td>\n",
       "    </tr>\n",
       "    <tr>\n",
       "      <th>1</th>\n",
       "      <td>ARNT2</td>\n",
       "      <td>ARNT2|1/6|08C12</td>\n",
       "      <td>ARNT2|2/6|09E01</td>\n",
       "      <td>ARNT2|1/6|08C12_ARNT2|2/6|09E01</td>\n",
       "      <td>13.0</td>\n",
       "      <td>7.0</td>\n",
       "      <td>8.0</td>\n",
       "      <td>1.0</td>\n",
       "      <td>0.538462</td>\n",
       "      <td>0.875</td>\n",
       "      <td>6.0</td>\n",
       "      <td>NaN</td>\n",
       "      <td>NaN</td>\n",
       "      <td>NaN</td>\n",
       "      <td>NaN</td>\n",
       "      <td>NaN</td>\n",
       "      <td>NaN</td>\n",
       "      <td>NaN</td>\n",
       "      <td>2.094800</td>\n",
       "      <td>93.0</td>\n",
       "    </tr>\n",
       "    <tr>\n",
       "      <th>2</th>\n",
       "      <td>ARNT2</td>\n",
       "      <td>ARNT2|1/6|08C12</td>\n",
       "      <td>ARNT2|3/6|10D11</td>\n",
       "      <td>ARNT2|1/6|08C12_ARNT2|3/6|10D11</td>\n",
       "      <td>NaN</td>\n",
       "      <td>NaN</td>\n",
       "      <td>NaN</td>\n",
       "      <td>NaN</td>\n",
       "      <td>NaN</td>\n",
       "      <td>NaN</td>\n",
       "      <td>NaN</td>\n",
       "      <td>NaN</td>\n",
       "      <td>NaN</td>\n",
       "      <td>NaN</td>\n",
       "      <td>NaN</td>\n",
       "      <td>NaN</td>\n",
       "      <td>NaN</td>\n",
       "      <td>NaN</td>\n",
       "      <td>NaN</td>\n",
       "      <td>95.7</td>\n",
       "    </tr>\n",
       "    <tr>\n",
       "      <th>3</th>\n",
       "      <td>ARNT2</td>\n",
       "      <td>ARNT2|2/6|09E01</td>\n",
       "      <td>ARNT2|3/6|10D11</td>\n",
       "      <td>ARNT2|2/6|09E01_ARNT2|3/6|10D11</td>\n",
       "      <td>NaN</td>\n",
       "      <td>NaN</td>\n",
       "      <td>NaN</td>\n",
       "      <td>NaN</td>\n",
       "      <td>NaN</td>\n",
       "      <td>NaN</td>\n",
       "      <td>NaN</td>\n",
       "      <td>NaN</td>\n",
       "      <td>NaN</td>\n",
       "      <td>NaN</td>\n",
       "      <td>NaN</td>\n",
       "      <td>NaN</td>\n",
       "      <td>NaN</td>\n",
       "      <td>NaN</td>\n",
       "      <td>NaN</td>\n",
       "      <td>93.1</td>\n",
       "    </tr>\n",
       "    <tr>\n",
       "      <th>4</th>\n",
       "      <td>ARNTL</td>\n",
       "      <td>ARNTL|1/2|08H08</td>\n",
       "      <td>ARNTL|2/2|08E08</td>\n",
       "      <td>ARNTL|1/2|08H08_ARNTL|2/2|08E08</td>\n",
       "      <td>NaN</td>\n",
       "      <td>NaN</td>\n",
       "      <td>NaN</td>\n",
       "      <td>NaN</td>\n",
       "      <td>NaN</td>\n",
       "      <td>NaN</td>\n",
       "      <td>NaN</td>\n",
       "      <td>NaN</td>\n",
       "      <td>NaN</td>\n",
       "      <td>NaN</td>\n",
       "      <td>NaN</td>\n",
       "      <td>NaN</td>\n",
       "      <td>NaN</td>\n",
       "      <td>NaN</td>\n",
       "      <td>NaN</td>\n",
       "      <td>90.3</td>\n",
       "    </tr>\n",
       "  </tbody>\n",
       "</table>\n",
       "</div>"
      ]
     },
     "metadata": {},
     "execution_count": 17
    }
   ],
   "metadata": {}
  },
  {
   "cell_type": "code",
   "execution_count": 18,
   "source": [
    "pairs['iso_acc_a'] = pairs['clone_acc_a'].apply(lambda x: x.split('|')[0] + '-' + x.split('|')[1].split('/')[0])\n",
    "pairs['iso_acc_b'] = pairs['clone_acc_b'].apply(lambda x: x.split('|')[0] + '-' + x.split('|')[1].split('/')[0])"
   ],
   "outputs": [],
   "metadata": {}
  },
  {
   "cell_type": "code",
   "execution_count": 19,
   "source": [
    "cats.keys()"
   ],
   "outputs": [
    {
     "output_type": "execute_result",
     "data": {
      "text/plain": [
       "dict_keys(['alternative_start', 'alternative_stop', 'alternative_internal_exon', 'alternative_3prime', 'alternative_5prime'])"
      ]
     },
     "metadata": {},
     "execution_count": 19
    }
   ],
   "metadata": {}
  },
  {
   "cell_type": "code",
   "execution_count": 20,
   "source": [
    "for cat_name, members in cats.items():\n",
    "    pairs[cat_name] = pairs.apply(lambda x: (x['iso_acc_a'], x['iso_acc_b']) in members,\n",
    "                                  axis=1)"
   ],
   "outputs": [],
   "metadata": {}
  },
  {
   "cell_type": "code",
   "execution_count": 21,
   "source": [
    "pairs.head()"
   ],
   "outputs": [
    {
     "output_type": "execute_result",
     "data": {
      "text/plain": [
       "  tf_gene_symbol      clone_acc_a      clone_acc_b  \\\n",
       "0          AEBP2  AEBP2|2/3|05F03  AEBP2|3/3|05E07   \n",
       "1          ARNT2  ARNT2|1/6|08C12  ARNT2|2/6|09E01   \n",
       "2          ARNT2  ARNT2|1/6|08C12  ARNT2|3/6|10D11   \n",
       "3          ARNT2  ARNT2|2/6|09E01  ARNT2|3/6|10D11   \n",
       "4          ARNTL  ARNTL|1/2|08H08  ARNTL|2/2|08E08   \n",
       "\n",
       "                              pair  ppi_n_tested  ppi_n_shared  ppi_n_min  \\\n",
       "0  AEBP2|2/3|05F03_AEBP2|3/3|05E07           NaN           NaN        NaN   \n",
       "1  ARNT2|1/6|08C12_ARNT2|2/6|09E01          13.0           7.0        8.0   \n",
       "2  ARNT2|1/6|08C12_ARNT2|3/6|10D11           NaN           NaN        NaN   \n",
       "3  ARNT2|2/6|09E01_ARNT2|3/6|10D11           NaN           NaN        NaN   \n",
       "4  ARNTL|1/2|08H08_ARNTL|2/2|08E08           NaN           NaN        NaN   \n",
       "\n",
       "   ppi_n_min_diff  ppi_jaccard  ppi_simpson  ...  pdi_n_diff  \\\n",
       "0             NaN          NaN          NaN  ...         NaN   \n",
       "1             1.0     0.538462        0.875  ...         NaN   \n",
       "2             NaN          NaN          NaN  ...         NaN   \n",
       "3             NaN          NaN          NaN  ...         NaN   \n",
       "4             NaN          NaN          NaN  ...         NaN   \n",
       "\n",
       "   activation_fold_change  aa_seq_pct_id  iso_acc_a  iso_acc_b  \\\n",
       "0                0.535619           82.0    AEBP2-2    AEBP2-3   \n",
       "1                2.094800           93.0    ARNT2-1    ARNT2-2   \n",
       "2                     NaN           95.7    ARNT2-1    ARNT2-3   \n",
       "3                     NaN           93.1    ARNT2-2    ARNT2-3   \n",
       "4                     NaN           90.3    ARNTL-1    ARNTL-2   \n",
       "\n",
       "   alternative_start  alternative_stop  alternative_internal_exon  \\\n",
       "0               True              True                       True   \n",
       "1               True             False                      False   \n",
       "2              False              True                      False   \n",
       "3              False             False                      False   \n",
       "4               True             False                       True   \n",
       "\n",
       "   alternative_3prime  alternative_5prime  \n",
       "0                True                True  \n",
       "1                True                True  \n",
       "2               False                True  \n",
       "3               False               False  \n",
       "4                True               False  \n",
       "\n",
       "[5 rows x 27 columns]"
      ],
      "text/html": [
       "<div>\n",
       "<style scoped>\n",
       "    .dataframe tbody tr th:only-of-type {\n",
       "        vertical-align: middle;\n",
       "    }\n",
       "\n",
       "    .dataframe tbody tr th {\n",
       "        vertical-align: top;\n",
       "    }\n",
       "\n",
       "    .dataframe thead th {\n",
       "        text-align: right;\n",
       "    }\n",
       "</style>\n",
       "<table border=\"1\" class=\"dataframe\">\n",
       "  <thead>\n",
       "    <tr style=\"text-align: right;\">\n",
       "      <th></th>\n",
       "      <th>tf_gene_symbol</th>\n",
       "      <th>clone_acc_a</th>\n",
       "      <th>clone_acc_b</th>\n",
       "      <th>pair</th>\n",
       "      <th>ppi_n_tested</th>\n",
       "      <th>ppi_n_shared</th>\n",
       "      <th>ppi_n_min</th>\n",
       "      <th>ppi_n_min_diff</th>\n",
       "      <th>ppi_jaccard</th>\n",
       "      <th>ppi_simpson</th>\n",
       "      <th>...</th>\n",
       "      <th>pdi_n_diff</th>\n",
       "      <th>activation_fold_change</th>\n",
       "      <th>aa_seq_pct_id</th>\n",
       "      <th>iso_acc_a</th>\n",
       "      <th>iso_acc_b</th>\n",
       "      <th>alternative_start</th>\n",
       "      <th>alternative_stop</th>\n",
       "      <th>alternative_internal_exon</th>\n",
       "      <th>alternative_3prime</th>\n",
       "      <th>alternative_5prime</th>\n",
       "    </tr>\n",
       "  </thead>\n",
       "  <tbody>\n",
       "    <tr>\n",
       "      <th>0</th>\n",
       "      <td>AEBP2</td>\n",
       "      <td>AEBP2|2/3|05F03</td>\n",
       "      <td>AEBP2|3/3|05E07</td>\n",
       "      <td>AEBP2|2/3|05F03_AEBP2|3/3|05E07</td>\n",
       "      <td>NaN</td>\n",
       "      <td>NaN</td>\n",
       "      <td>NaN</td>\n",
       "      <td>NaN</td>\n",
       "      <td>NaN</td>\n",
       "      <td>NaN</td>\n",
       "      <td>...</td>\n",
       "      <td>NaN</td>\n",
       "      <td>0.535619</td>\n",
       "      <td>82.0</td>\n",
       "      <td>AEBP2-2</td>\n",
       "      <td>AEBP2-3</td>\n",
       "      <td>True</td>\n",
       "      <td>True</td>\n",
       "      <td>True</td>\n",
       "      <td>True</td>\n",
       "      <td>True</td>\n",
       "    </tr>\n",
       "    <tr>\n",
       "      <th>1</th>\n",
       "      <td>ARNT2</td>\n",
       "      <td>ARNT2|1/6|08C12</td>\n",
       "      <td>ARNT2|2/6|09E01</td>\n",
       "      <td>ARNT2|1/6|08C12_ARNT2|2/6|09E01</td>\n",
       "      <td>13.0</td>\n",
       "      <td>7.0</td>\n",
       "      <td>8.0</td>\n",
       "      <td>1.0</td>\n",
       "      <td>0.538462</td>\n",
       "      <td>0.875</td>\n",
       "      <td>...</td>\n",
       "      <td>NaN</td>\n",
       "      <td>2.094800</td>\n",
       "      <td>93.0</td>\n",
       "      <td>ARNT2-1</td>\n",
       "      <td>ARNT2-2</td>\n",
       "      <td>True</td>\n",
       "      <td>False</td>\n",
       "      <td>False</td>\n",
       "      <td>True</td>\n",
       "      <td>True</td>\n",
       "    </tr>\n",
       "    <tr>\n",
       "      <th>2</th>\n",
       "      <td>ARNT2</td>\n",
       "      <td>ARNT2|1/6|08C12</td>\n",
       "      <td>ARNT2|3/6|10D11</td>\n",
       "      <td>ARNT2|1/6|08C12_ARNT2|3/6|10D11</td>\n",
       "      <td>NaN</td>\n",
       "      <td>NaN</td>\n",
       "      <td>NaN</td>\n",
       "      <td>NaN</td>\n",
       "      <td>NaN</td>\n",
       "      <td>NaN</td>\n",
       "      <td>...</td>\n",
       "      <td>NaN</td>\n",
       "      <td>NaN</td>\n",
       "      <td>95.7</td>\n",
       "      <td>ARNT2-1</td>\n",
       "      <td>ARNT2-3</td>\n",
       "      <td>False</td>\n",
       "      <td>True</td>\n",
       "      <td>False</td>\n",
       "      <td>False</td>\n",
       "      <td>True</td>\n",
       "    </tr>\n",
       "    <tr>\n",
       "      <th>3</th>\n",
       "      <td>ARNT2</td>\n",
       "      <td>ARNT2|2/6|09E01</td>\n",
       "      <td>ARNT2|3/6|10D11</td>\n",
       "      <td>ARNT2|2/6|09E01_ARNT2|3/6|10D11</td>\n",
       "      <td>NaN</td>\n",
       "      <td>NaN</td>\n",
       "      <td>NaN</td>\n",
       "      <td>NaN</td>\n",
       "      <td>NaN</td>\n",
       "      <td>NaN</td>\n",
       "      <td>...</td>\n",
       "      <td>NaN</td>\n",
       "      <td>NaN</td>\n",
       "      <td>93.1</td>\n",
       "      <td>ARNT2-2</td>\n",
       "      <td>ARNT2-3</td>\n",
       "      <td>False</td>\n",
       "      <td>False</td>\n",
       "      <td>False</td>\n",
       "      <td>False</td>\n",
       "      <td>False</td>\n",
       "    </tr>\n",
       "    <tr>\n",
       "      <th>4</th>\n",
       "      <td>ARNTL</td>\n",
       "      <td>ARNTL|1/2|08H08</td>\n",
       "      <td>ARNTL|2/2|08E08</td>\n",
       "      <td>ARNTL|1/2|08H08_ARNTL|2/2|08E08</td>\n",
       "      <td>NaN</td>\n",
       "      <td>NaN</td>\n",
       "      <td>NaN</td>\n",
       "      <td>NaN</td>\n",
       "      <td>NaN</td>\n",
       "      <td>NaN</td>\n",
       "      <td>...</td>\n",
       "      <td>NaN</td>\n",
       "      <td>NaN</td>\n",
       "      <td>90.3</td>\n",
       "      <td>ARNTL-1</td>\n",
       "      <td>ARNTL-2</td>\n",
       "      <td>True</td>\n",
       "      <td>False</td>\n",
       "      <td>True</td>\n",
       "      <td>True</td>\n",
       "      <td>False</td>\n",
       "    </tr>\n",
       "  </tbody>\n",
       "</table>\n",
       "<p>5 rows × 27 columns</p>\n",
       "</div>"
      ]
     },
     "metadata": {},
     "execution_count": 21
    }
   ],
   "metadata": {}
  },
  {
   "cell_type": "code",
   "execution_count": 22,
   "source": [
    "sns.violinplot(data=pd.DataFrame([(cat, v) for cat in cats.keys() \n",
    "                       for v in pairs.loc[pairs[cat], 'aa_seq_pct_id'].values], \n",
    "                    columns=['splicing category', 'aa_seq_pct_id']),\n",
    "                x='splicing category',\n",
    "                y='aa_seq_pct_id',\n",
    "                cut=0)\n",
    "plt.show()"
   ],
   "outputs": [
    {
     "output_type": "display_data",
     "data": {
      "text/plain": [
       "<Figure size 432x288 with 1 Axes>"
      ],
      "application/vnd.code.notebook.error": {
       "name": "ReferenceError",
       "message": "atob is not defined",
       "stack": "ReferenceError: atob is not defined\n\tat d (/Applications/Visual Studio Code - Insiders.app/Contents/Resources/app/extensions/ipynb/dist/ipynbMain.js:1:138755)\n\tat y (/Applications/Visual Studio Code - Insiders.app/Contents/Resources/app/extensions/ipynb/dist/ipynbMain.js:1:143435)\n\tat v (/Applications/Visual Studio Code - Insiders.app/Contents/Resources/app/extensions/ipynb/dist/ipynbMain.js:1:143731)\n\tat Array.map (<anonymous>)\n\tat /Applications/Visual Studio Code - Insiders.app/Contents/Resources/app/extensions/ipynb/dist/ipynbMain.js:1:144883\n\tat /Applications/Visual Studio Code - Insiders.app/Contents/Resources/app/extensions/ipynb/dist/ipynbMain.js:1:145125\n\tat /Applications/Visual Studio Code - Insiders.app/Contents/Resources/app/extensions/ipynb/dist/ipynbMain.js:1:145132\n\tat Array.map (<anonymous>)\n\tat e.jupyterNotebookModelToNotebookData (/Applications/Visual Studio Code - Insiders.app/Contents/Resources/app/extensions/ipynb/dist/ipynbMain.js:1:144441)\n\tat e.NotebookSerializer.deserializeNotebook (/Applications/Visual Studio Code - Insiders.app/Contents/Resources/app/extensions/ipynb/dist/ipynbMain.js:1:146368)\n\tat _.$dataToNotebook (/Applications/Visual Studio Code - Insiders.app/Contents/Resources/app/out/vs/workbench/services/extensions/node/extensionHostProcess.js:85:211883)\n\tat d._doInvokeHandler (/Applications/Visual Studio Code - Insiders.app/Contents/Resources/app/out/vs/workbench/services/extensions/node/extensionHostProcess.js:89:12819)\n\tat d._invokeHandler (/Applications/Visual Studio Code - Insiders.app/Contents/Resources/app/out/vs/workbench/services/extensions/node/extensionHostProcess.js:89:12503)\n\tat d._receiveRequest (/Applications/Visual Studio Code - Insiders.app/Contents/Resources/app/out/vs/workbench/services/extensions/node/extensionHostProcess.js:89:11107)\n\tat d._receiveOneMessage (/Applications/Visual Studio Code - Insiders.app/Contents/Resources/app/out/vs/workbench/services/extensions/node/extensionHostProcess.js:89:10142)\n\tat /Applications/Visual Studio Code - Insiders.app/Contents/Resources/app/out/vs/workbench/services/extensions/node/extensionHostProcess.js:89:8039\n\tat u.fire (/Applications/Visual Studio Code - Insiders.app/Contents/Resources/app/out/vs/workbench/services/extensions/node/extensionHostProcess.js:57:1712)\n\tat l.fire (/Applications/Visual Studio Code - Insiders.app/Contents/Resources/app/out/vs/workbench/services/extensions/node/extensionHostProcess.js:65:15825)\n\tat /Applications/Visual Studio Code - Insiders.app/Contents/Resources/app/out/vs/workbench/services/extensions/node/extensionHostProcess.js:104:30061\n\tat u.fire (/Applications/Visual Studio Code - Insiders.app/Contents/Resources/app/out/vs/workbench/services/extensions/node/extensionHostProcess.js:57:1712)\n\tat l.fire (/Applications/Visual Studio Code - Insiders.app/Contents/Resources/app/out/vs/workbench/services/extensions/node/extensionHostProcess.js:65:15825)\n\tat r._receiveMessage (/Applications/Visual Studio Code - Insiders.app/Contents/Resources/app/out/vs/workbench/services/extensions/node/extensionHostProcess.js:65:21091)\n\tat /Applications/Visual Studio Code - Insiders.app/Contents/Resources/app/out/vs/workbench/services/extensions/node/extensionHostProcess.js:65:17969\n\tat u.fire (/Applications/Visual Studio Code - Insiders.app/Contents/Resources/app/out/vs/workbench/services/extensions/node/extensionHostProcess.js:57:1712)\n\tat v.acceptChunk (/Applications/Visual Studio Code - Insiders.app/Contents/Resources/app/out/vs/workbench/services/extensions/node/extensionHostProcess.js:65:13186)\n\tat /Applications/Visual Studio Code - Insiders.app/Contents/Resources/app/out/vs/workbench/services/extensions/node/extensionHostProcess.js:65:12534\n\tat Socket.w (/Applications/Visual Studio Code - Insiders.app/Contents/Resources/app/out/vs/workbench/services/extensions/node/extensionHostProcess.js:104:13219)\n\tat Socket.emit (events.js:315:20)\n\tat addChunk (internal/streams/readable.js:309:12)\n\tat readableAddChunk (internal/streams/readable.js:284:9)\n\tat Socket.Readable.push (internal/streams/readable.js:223:10)\n\tat Pipe.onStreamRead (internal/stream_base_commons.js:188:23)"
      }
     },
     "metadata": {
      "needs_background": "light"
     }
    }
   ],
   "metadata": {}
  },
  {
   "cell_type": "code",
   "execution_count": 23,
   "source": [
    "fig, ax = plt.subplots(1, 1)\n",
    "fig.set_size_inches(4, 4)\n",
    "sns.boxplot(data=pd.DataFrame([(cat, v) for cat in cats.keys() \n",
    "                       for v in pairs.loc[pairs[cat], 'aa_seq_pct_id'].values], \n",
    "                    columns=['splicing category', '% AA sequence identity']),\n",
    "                x='splicing category',\n",
    "                y='% AA sequence identity',\n",
    "                ax=ax)\n",
    "ax.xaxis.set_tick_params(rotation=90)\n",
    "plt.savefig('../figures/aa-seq-id_by_splice-cat_box-plot.pdf',\n",
    "            bbox_inches='tight')\n",
    "plt.show()"
   ],
   "outputs": [
    {
     "output_type": "display_data",
     "data": {
      "text/plain": [
       "<Figure size 288x288 with 1 Axes>"
      ],
      "application/vnd.code.notebook.error": {
       "name": "ReferenceError",
       "message": "atob is not defined",
       "stack": "ReferenceError: atob is not defined\n\tat d (/Applications/Visual Studio Code - Insiders.app/Contents/Resources/app/extensions/ipynb/dist/ipynbMain.js:1:138755)\n\tat y (/Applications/Visual Studio Code - Insiders.app/Contents/Resources/app/extensions/ipynb/dist/ipynbMain.js:1:143435)\n\tat v (/Applications/Visual Studio Code - Insiders.app/Contents/Resources/app/extensions/ipynb/dist/ipynbMain.js:1:143731)\n\tat Array.map (<anonymous>)\n\tat /Applications/Visual Studio Code - Insiders.app/Contents/Resources/app/extensions/ipynb/dist/ipynbMain.js:1:144883\n\tat /Applications/Visual Studio Code - Insiders.app/Contents/Resources/app/extensions/ipynb/dist/ipynbMain.js:1:145125\n\tat /Applications/Visual Studio Code - Insiders.app/Contents/Resources/app/extensions/ipynb/dist/ipynbMain.js:1:145132\n\tat Array.map (<anonymous>)\n\tat e.jupyterNotebookModelToNotebookData (/Applications/Visual Studio Code - Insiders.app/Contents/Resources/app/extensions/ipynb/dist/ipynbMain.js:1:144441)\n\tat e.NotebookSerializer.deserializeNotebook (/Applications/Visual Studio Code - Insiders.app/Contents/Resources/app/extensions/ipynb/dist/ipynbMain.js:1:146368)\n\tat _.$dataToNotebook (/Applications/Visual Studio Code - Insiders.app/Contents/Resources/app/out/vs/workbench/services/extensions/node/extensionHostProcess.js:85:211883)\n\tat d._doInvokeHandler (/Applications/Visual Studio Code - Insiders.app/Contents/Resources/app/out/vs/workbench/services/extensions/node/extensionHostProcess.js:89:12819)\n\tat d._invokeHandler (/Applications/Visual Studio Code - Insiders.app/Contents/Resources/app/out/vs/workbench/services/extensions/node/extensionHostProcess.js:89:12503)\n\tat d._receiveRequest (/Applications/Visual Studio Code - Insiders.app/Contents/Resources/app/out/vs/workbench/services/extensions/node/extensionHostProcess.js:89:11107)\n\tat d._receiveOneMessage (/Applications/Visual Studio Code - Insiders.app/Contents/Resources/app/out/vs/workbench/services/extensions/node/extensionHostProcess.js:89:10142)\n\tat /Applications/Visual Studio Code - Insiders.app/Contents/Resources/app/out/vs/workbench/services/extensions/node/extensionHostProcess.js:89:8039\n\tat u.fire (/Applications/Visual Studio Code - Insiders.app/Contents/Resources/app/out/vs/workbench/services/extensions/node/extensionHostProcess.js:57:1712)\n\tat l.fire (/Applications/Visual Studio Code - Insiders.app/Contents/Resources/app/out/vs/workbench/services/extensions/node/extensionHostProcess.js:65:15825)\n\tat /Applications/Visual Studio Code - Insiders.app/Contents/Resources/app/out/vs/workbench/services/extensions/node/extensionHostProcess.js:104:30061\n\tat u.fire (/Applications/Visual Studio Code - Insiders.app/Contents/Resources/app/out/vs/workbench/services/extensions/node/extensionHostProcess.js:57:1712)\n\tat l.fire (/Applications/Visual Studio Code - Insiders.app/Contents/Resources/app/out/vs/workbench/services/extensions/node/extensionHostProcess.js:65:15825)\n\tat r._receiveMessage (/Applications/Visual Studio Code - Insiders.app/Contents/Resources/app/out/vs/workbench/services/extensions/node/extensionHostProcess.js:65:21091)\n\tat /Applications/Visual Studio Code - Insiders.app/Contents/Resources/app/out/vs/workbench/services/extensions/node/extensionHostProcess.js:65:17969\n\tat u.fire (/Applications/Visual Studio Code - Insiders.app/Contents/Resources/app/out/vs/workbench/services/extensions/node/extensionHostProcess.js:57:1712)\n\tat v.acceptChunk (/Applications/Visual Studio Code - Insiders.app/Contents/Resources/app/out/vs/workbench/services/extensions/node/extensionHostProcess.js:65:13186)\n\tat /Applications/Visual Studio Code - Insiders.app/Contents/Resources/app/out/vs/workbench/services/extensions/node/extensionHostProcess.js:65:12534\n\tat Socket.w (/Applications/Visual Studio Code - Insiders.app/Contents/Resources/app/out/vs/workbench/services/extensions/node/extensionHostProcess.js:104:13219)\n\tat Socket.emit (events.js:315:20)\n\tat addChunk (internal/streams/readable.js:309:12)\n\tat readableAddChunk (internal/streams/readable.js:284:9)\n\tat Socket.Readable.push (internal/streams/readable.js:223:10)\n\tat Pipe.onStreamRead (internal/stream_base_commons.js:188:23)"
      }
     },
     "metadata": {
      "needs_background": "light"
     }
    }
   ],
   "metadata": {}
  },
  {
   "cell_type": "code",
   "execution_count": 24,
   "source": [
    "fig, ax = plt.subplots(1, 1)\n",
    "fig.set_size_inches(4, 6)\n",
    "sns.boxplot(data=pd.DataFrame([(cat, v) for cat in cats.keys() \n",
    "                       for v in pairs.loc[pairs[cat], 'activation_fold_change'].values], \n",
    "                    columns=['splicing category', 'log2 activation fold change']),\n",
    "                x='splicing category',\n",
    "                y='log2 activation fold change',\n",
    "                ax=ax)\n",
    "ax.xaxis.set_tick_params(rotation=30)\n",
    "plt.savefig('../figures/m1h-change_by_splice-cat_box-plot.pdf',\n",
    "            bbox_inches='tight')\n",
    "plt.show()\n",
    "plt.show()"
   ],
   "outputs": [
    {
     "output_type": "display_data",
     "data": {
      "text/plain": [
       "<Figure size 288x432 with 1 Axes>"
      ],
      "application/vnd.code.notebook.error": {
       "name": "ReferenceError",
       "message": "atob is not defined",
       "stack": "ReferenceError: atob is not defined\n\tat d (/Applications/Visual Studio Code - Insiders.app/Contents/Resources/app/extensions/ipynb/dist/ipynbMain.js:1:138755)\n\tat y (/Applications/Visual Studio Code - Insiders.app/Contents/Resources/app/extensions/ipynb/dist/ipynbMain.js:1:143435)\n\tat v (/Applications/Visual Studio Code - Insiders.app/Contents/Resources/app/extensions/ipynb/dist/ipynbMain.js:1:143731)\n\tat Array.map (<anonymous>)\n\tat /Applications/Visual Studio Code - Insiders.app/Contents/Resources/app/extensions/ipynb/dist/ipynbMain.js:1:144883\n\tat /Applications/Visual Studio Code - Insiders.app/Contents/Resources/app/extensions/ipynb/dist/ipynbMain.js:1:145125\n\tat /Applications/Visual Studio Code - Insiders.app/Contents/Resources/app/extensions/ipynb/dist/ipynbMain.js:1:145132\n\tat Array.map (<anonymous>)\n\tat e.jupyterNotebookModelToNotebookData (/Applications/Visual Studio Code - Insiders.app/Contents/Resources/app/extensions/ipynb/dist/ipynbMain.js:1:144441)\n\tat e.NotebookSerializer.deserializeNotebook (/Applications/Visual Studio Code - Insiders.app/Contents/Resources/app/extensions/ipynb/dist/ipynbMain.js:1:146368)\n\tat _.$dataToNotebook (/Applications/Visual Studio Code - Insiders.app/Contents/Resources/app/out/vs/workbench/services/extensions/node/extensionHostProcess.js:85:211883)\n\tat d._doInvokeHandler (/Applications/Visual Studio Code - Insiders.app/Contents/Resources/app/out/vs/workbench/services/extensions/node/extensionHostProcess.js:89:12819)\n\tat d._invokeHandler (/Applications/Visual Studio Code - Insiders.app/Contents/Resources/app/out/vs/workbench/services/extensions/node/extensionHostProcess.js:89:12503)\n\tat d._receiveRequest (/Applications/Visual Studio Code - Insiders.app/Contents/Resources/app/out/vs/workbench/services/extensions/node/extensionHostProcess.js:89:11107)\n\tat d._receiveOneMessage (/Applications/Visual Studio Code - Insiders.app/Contents/Resources/app/out/vs/workbench/services/extensions/node/extensionHostProcess.js:89:10142)\n\tat /Applications/Visual Studio Code - Insiders.app/Contents/Resources/app/out/vs/workbench/services/extensions/node/extensionHostProcess.js:89:8039\n\tat u.fire (/Applications/Visual Studio Code - Insiders.app/Contents/Resources/app/out/vs/workbench/services/extensions/node/extensionHostProcess.js:57:1712)\n\tat l.fire (/Applications/Visual Studio Code - Insiders.app/Contents/Resources/app/out/vs/workbench/services/extensions/node/extensionHostProcess.js:65:15825)\n\tat /Applications/Visual Studio Code - Insiders.app/Contents/Resources/app/out/vs/workbench/services/extensions/node/extensionHostProcess.js:104:30061\n\tat u.fire (/Applications/Visual Studio Code - Insiders.app/Contents/Resources/app/out/vs/workbench/services/extensions/node/extensionHostProcess.js:57:1712)\n\tat l.fire (/Applications/Visual Studio Code - Insiders.app/Contents/Resources/app/out/vs/workbench/services/extensions/node/extensionHostProcess.js:65:15825)\n\tat r._receiveMessage (/Applications/Visual Studio Code - Insiders.app/Contents/Resources/app/out/vs/workbench/services/extensions/node/extensionHostProcess.js:65:21091)\n\tat /Applications/Visual Studio Code - Insiders.app/Contents/Resources/app/out/vs/workbench/services/extensions/node/extensionHostProcess.js:65:17969\n\tat u.fire (/Applications/Visual Studio Code - Insiders.app/Contents/Resources/app/out/vs/workbench/services/extensions/node/extensionHostProcess.js:57:1712)\n\tat v.acceptChunk (/Applications/Visual Studio Code - Insiders.app/Contents/Resources/app/out/vs/workbench/services/extensions/node/extensionHostProcess.js:65:13186)\n\tat /Applications/Visual Studio Code - Insiders.app/Contents/Resources/app/out/vs/workbench/services/extensions/node/extensionHostProcess.js:65:12534\n\tat Socket.w (/Applications/Visual Studio Code - Insiders.app/Contents/Resources/app/out/vs/workbench/services/extensions/node/extensionHostProcess.js:104:13219)\n\tat Socket.emit (events.js:315:20)\n\tat addChunk (internal/streams/readable.js:309:12)\n\tat readableAddChunk (internal/streams/readable.js:284:9)\n\tat Socket.Readable.push (internal/streams/readable.js:223:10)\n\tat Pipe.onStreamRead (internal/stream_base_commons.js:188:23)"
      }
     },
     "metadata": {
      "needs_background": "light"
     }
    }
   ],
   "metadata": {}
  },
  {
   "cell_type": "code",
   "execution_count": 25,
   "source": [
    "fig, axs = plt.subplots(2, 3)\n",
    "fig.set_size_inches(8, 8/3*2)\n",
    "for i, (cat, ax) in enumerate(zip(cats.keys(), axs.flatten())):\n",
    "    xy = pairs.loc[pairs[cat], ['aa_seq_pct_id', 'activation_fold_change']].dropna()\n",
    "    ax.scatter(x=xy['aa_seq_pct_id'], y=xy['activation_fold_change'],\n",
    "               alpha=0.2,\n",
    "               clip_on=False,\n",
    "               color='C' + str(i))\n",
    "    ax.set_ylim(0, 7.6)\n",
    "    ax.set_xlim(0, 100)\n",
    "    ax.set_title(cat.replace('_', ' '))\n",
    "axs[-1, -1].axis('off')\n",
    "axs[-1, 0].set_xlabel('% AA sequence identity')\n",
    "axs[-1, 0].set_ylabel('log2 activation fold change')\n",
    "plt.subplots_adjust(hspace=0.4, wspace=0.4)\n",
    "plt.savefig('../figures/aa-seq_id_vs_m1h-change_by_splice-cat_scatter.pdf',\n",
    "            bbox_inches='tight')"
   ],
   "outputs": [
    {
     "output_type": "display_data",
     "data": {
      "text/plain": [
       "<Figure size 576x384 with 6 Axes>"
      ],
      "application/vnd.code.notebook.error": {
       "name": "ReferenceError",
       "message": "atob is not defined",
       "stack": "ReferenceError: atob is not defined\n\tat d (/Applications/Visual Studio Code - Insiders.app/Contents/Resources/app/extensions/ipynb/dist/ipynbMain.js:1:138755)\n\tat y (/Applications/Visual Studio Code - Insiders.app/Contents/Resources/app/extensions/ipynb/dist/ipynbMain.js:1:143435)\n\tat v (/Applications/Visual Studio Code - Insiders.app/Contents/Resources/app/extensions/ipynb/dist/ipynbMain.js:1:143731)\n\tat Array.map (<anonymous>)\n\tat /Applications/Visual Studio Code - Insiders.app/Contents/Resources/app/extensions/ipynb/dist/ipynbMain.js:1:144883\n\tat /Applications/Visual Studio Code - Insiders.app/Contents/Resources/app/extensions/ipynb/dist/ipynbMain.js:1:145125\n\tat /Applications/Visual Studio Code - Insiders.app/Contents/Resources/app/extensions/ipynb/dist/ipynbMain.js:1:145132\n\tat Array.map (<anonymous>)\n\tat e.jupyterNotebookModelToNotebookData (/Applications/Visual Studio Code - Insiders.app/Contents/Resources/app/extensions/ipynb/dist/ipynbMain.js:1:144441)\n\tat e.NotebookSerializer.deserializeNotebook (/Applications/Visual Studio Code - Insiders.app/Contents/Resources/app/extensions/ipynb/dist/ipynbMain.js:1:146368)\n\tat _.$dataToNotebook (/Applications/Visual Studio Code - Insiders.app/Contents/Resources/app/out/vs/workbench/services/extensions/node/extensionHostProcess.js:85:211883)\n\tat d._doInvokeHandler (/Applications/Visual Studio Code - Insiders.app/Contents/Resources/app/out/vs/workbench/services/extensions/node/extensionHostProcess.js:89:12819)\n\tat d._invokeHandler (/Applications/Visual Studio Code - Insiders.app/Contents/Resources/app/out/vs/workbench/services/extensions/node/extensionHostProcess.js:89:12503)\n\tat d._receiveRequest (/Applications/Visual Studio Code - Insiders.app/Contents/Resources/app/out/vs/workbench/services/extensions/node/extensionHostProcess.js:89:11107)\n\tat d._receiveOneMessage (/Applications/Visual Studio Code - Insiders.app/Contents/Resources/app/out/vs/workbench/services/extensions/node/extensionHostProcess.js:89:10142)\n\tat /Applications/Visual Studio Code - Insiders.app/Contents/Resources/app/out/vs/workbench/services/extensions/node/extensionHostProcess.js:89:8039\n\tat u.fire (/Applications/Visual Studio Code - Insiders.app/Contents/Resources/app/out/vs/workbench/services/extensions/node/extensionHostProcess.js:57:1712)\n\tat l.fire (/Applications/Visual Studio Code - Insiders.app/Contents/Resources/app/out/vs/workbench/services/extensions/node/extensionHostProcess.js:65:15825)\n\tat /Applications/Visual Studio Code - Insiders.app/Contents/Resources/app/out/vs/workbench/services/extensions/node/extensionHostProcess.js:104:30061\n\tat u.fire (/Applications/Visual Studio Code - Insiders.app/Contents/Resources/app/out/vs/workbench/services/extensions/node/extensionHostProcess.js:57:1712)\n\tat l.fire (/Applications/Visual Studio Code - Insiders.app/Contents/Resources/app/out/vs/workbench/services/extensions/node/extensionHostProcess.js:65:15825)\n\tat r._receiveMessage (/Applications/Visual Studio Code - Insiders.app/Contents/Resources/app/out/vs/workbench/services/extensions/node/extensionHostProcess.js:65:21091)\n\tat /Applications/Visual Studio Code - Insiders.app/Contents/Resources/app/out/vs/workbench/services/extensions/node/extensionHostProcess.js:65:17969\n\tat u.fire (/Applications/Visual Studio Code - Insiders.app/Contents/Resources/app/out/vs/workbench/services/extensions/node/extensionHostProcess.js:57:1712)\n\tat v.acceptChunk (/Applications/Visual Studio Code - Insiders.app/Contents/Resources/app/out/vs/workbench/services/extensions/node/extensionHostProcess.js:65:13186)\n\tat /Applications/Visual Studio Code - Insiders.app/Contents/Resources/app/out/vs/workbench/services/extensions/node/extensionHostProcess.js:65:12534\n\tat Socket.w (/Applications/Visual Studio Code - Insiders.app/Contents/Resources/app/out/vs/workbench/services/extensions/node/extensionHostProcess.js:104:13219)\n\tat Socket.emit (events.js:315:20)\n\tat addChunk (internal/streams/readable.js:309:12)\n\tat readableAddChunk (internal/streams/readable.js:284:9)\n\tat Socket.Readable.push (internal/streams/readable.js:223:10)\n\tat Pipe.onStreamRead (internal/stream_base_commons.js:188:23)"
      }
     },
     "metadata": {
      "needs_background": "light"
     }
    }
   ],
   "metadata": {}
  },
  {
   "cell_type": "code",
   "execution_count": 26,
   "source": [
    "pairs['M1H_a'] = pairs['clone_acc_a'].map(m1h.set_index('clone_acc')[['M1H_rep1', 'M1H_rep2', 'M1H_rep3']].mean(axis=1))\n",
    "pairs['M1H_b'] = pairs['clone_acc_b'].map(m1h.set_index('clone_acc')[['M1H_rep1', 'M1H_rep2', 'M1H_rep3']].mean(axis=1))"
   ],
   "outputs": [],
   "metadata": {}
  },
  {
   "cell_type": "code",
   "execution_count": 27,
   "source": [
    "fig, axs = plt.subplots(2, 3)\n",
    "fig.set_size_inches(8, 8/3*2)\n",
    "for i, (cat, ax) in enumerate(zip(cats.keys(), axs.flatten())):\n",
    "    xy = pairs.loc[pairs[cat], ['M1H_a', 'M1H_b']].dropna()\n",
    "    ax.scatter(x=xy['M1H_a'], y=xy['M1H_b'],\n",
    "               alpha=0.2,\n",
    "               clip_on=False,\n",
    "               color='C' + str(i))\n",
    "    ax.plot([-3, 12], [-3, 12], linestyle='--', color='grey')\n",
    "    ax.set_ylim(-3, 12)\n",
    "    ax.set_xlim(-3, 12)\n",
    "    ax.set_title(cat.replace('_', ' '))\n",
    "axs[-1, -1].axis('off')\n",
    "axs[-1, 0].set_xlabel('Log2 M1H activation\\nreference isoform')\n",
    "axs[-1, 0].set_ylabel('Log2 M1H activation\\nalternative isoform')\n",
    "plt.subplots_adjust(hspace=0.4, wspace=0.4)\n",
    "plt.savefig('../figures/m1h-per-pair_by_splice-cat_scatter.pdf',\n",
    "            bbox_inches='tight')"
   ],
   "outputs": [
    {
     "output_type": "display_data",
     "data": {
      "text/plain": [
       "<Figure size 576x384 with 6 Axes>"
      ],
      "application/vnd.code.notebook.error": {
       "name": "ReferenceError",
       "message": "atob is not defined",
       "stack": "ReferenceError: atob is not defined\n\tat d (/Applications/Visual Studio Code - Insiders.app/Contents/Resources/app/extensions/ipynb/dist/ipynbMain.js:1:138755)\n\tat y (/Applications/Visual Studio Code - Insiders.app/Contents/Resources/app/extensions/ipynb/dist/ipynbMain.js:1:143435)\n\tat v (/Applications/Visual Studio Code - Insiders.app/Contents/Resources/app/extensions/ipynb/dist/ipynbMain.js:1:143731)\n\tat Array.map (<anonymous>)\n\tat /Applications/Visual Studio Code - Insiders.app/Contents/Resources/app/extensions/ipynb/dist/ipynbMain.js:1:144883\n\tat /Applications/Visual Studio Code - Insiders.app/Contents/Resources/app/extensions/ipynb/dist/ipynbMain.js:1:145125\n\tat /Applications/Visual Studio Code - Insiders.app/Contents/Resources/app/extensions/ipynb/dist/ipynbMain.js:1:145132\n\tat Array.map (<anonymous>)\n\tat e.jupyterNotebookModelToNotebookData (/Applications/Visual Studio Code - Insiders.app/Contents/Resources/app/extensions/ipynb/dist/ipynbMain.js:1:144441)\n\tat e.NotebookSerializer.deserializeNotebook (/Applications/Visual Studio Code - Insiders.app/Contents/Resources/app/extensions/ipynb/dist/ipynbMain.js:1:146368)\n\tat _.$dataToNotebook (/Applications/Visual Studio Code - Insiders.app/Contents/Resources/app/out/vs/workbench/services/extensions/node/extensionHostProcess.js:85:211883)\n\tat d._doInvokeHandler (/Applications/Visual Studio Code - Insiders.app/Contents/Resources/app/out/vs/workbench/services/extensions/node/extensionHostProcess.js:89:12819)\n\tat d._invokeHandler (/Applications/Visual Studio Code - Insiders.app/Contents/Resources/app/out/vs/workbench/services/extensions/node/extensionHostProcess.js:89:12503)\n\tat d._receiveRequest (/Applications/Visual Studio Code - Insiders.app/Contents/Resources/app/out/vs/workbench/services/extensions/node/extensionHostProcess.js:89:11107)\n\tat d._receiveOneMessage (/Applications/Visual Studio Code - Insiders.app/Contents/Resources/app/out/vs/workbench/services/extensions/node/extensionHostProcess.js:89:10142)\n\tat /Applications/Visual Studio Code - Insiders.app/Contents/Resources/app/out/vs/workbench/services/extensions/node/extensionHostProcess.js:89:8039\n\tat u.fire (/Applications/Visual Studio Code - Insiders.app/Contents/Resources/app/out/vs/workbench/services/extensions/node/extensionHostProcess.js:57:1712)\n\tat l.fire (/Applications/Visual Studio Code - Insiders.app/Contents/Resources/app/out/vs/workbench/services/extensions/node/extensionHostProcess.js:65:15825)\n\tat /Applications/Visual Studio Code - Insiders.app/Contents/Resources/app/out/vs/workbench/services/extensions/node/extensionHostProcess.js:104:30061\n\tat u.fire (/Applications/Visual Studio Code - Insiders.app/Contents/Resources/app/out/vs/workbench/services/extensions/node/extensionHostProcess.js:57:1712)\n\tat l.fire (/Applications/Visual Studio Code - Insiders.app/Contents/Resources/app/out/vs/workbench/services/extensions/node/extensionHostProcess.js:65:15825)\n\tat r._receiveMessage (/Applications/Visual Studio Code - Insiders.app/Contents/Resources/app/out/vs/workbench/services/extensions/node/extensionHostProcess.js:65:21091)\n\tat /Applications/Visual Studio Code - Insiders.app/Contents/Resources/app/out/vs/workbench/services/extensions/node/extensionHostProcess.js:65:17969\n\tat u.fire (/Applications/Visual Studio Code - Insiders.app/Contents/Resources/app/out/vs/workbench/services/extensions/node/extensionHostProcess.js:57:1712)\n\tat v.acceptChunk (/Applications/Visual Studio Code - Insiders.app/Contents/Resources/app/out/vs/workbench/services/extensions/node/extensionHostProcess.js:65:13186)\n\tat /Applications/Visual Studio Code - Insiders.app/Contents/Resources/app/out/vs/workbench/services/extensions/node/extensionHostProcess.js:65:12534\n\tat Socket.w (/Applications/Visual Studio Code - Insiders.app/Contents/Resources/app/out/vs/workbench/services/extensions/node/extensionHostProcess.js:104:13219)\n\tat Socket.emit (events.js:315:20)\n\tat addChunk (internal/streams/readable.js:309:12)\n\tat readableAddChunk (internal/streams/readable.js:284:9)\n\tat Socket.Readable.push (internal/streams/readable.js:223:10)\n\tat Pipe.onStreamRead (internal/stream_base_commons.js:188:23)"
      }
     },
     "metadata": {
      "needs_background": "light"
     }
    }
   ],
   "metadata": {}
  },
  {
   "cell_type": "code",
   "execution_count": 35,
   "source": [
    "# make this for different families\n",
    "from data_loading import load_tf_families\n",
    "\n",
    "tf_fam = load_tf_families()\n",
    "pairs['tf_family'] = pairs['tf_gene_symbol'].map(tf_fam)\n",
    "\n",
    "for family in ['C2H2 ZF', 'Homeodomain', 'bHLH', 'bZIP', 'Forkhead', 'Nuclear receptor']:\n",
    "    fig, axs = plt.subplots(2, 3)\n",
    "    fig.set_size_inches(8, 8/3*2)\n",
    "    for i, (cat, ax) in enumerate(zip(cats.keys(), axs.flatten())):\n",
    "        xy = pairs.loc[pairs[cat] & (pairs['tf_family'] == family), ['M1H_a', 'M1H_b']].dropna()\n",
    "        ax.scatter(x=xy['M1H_a'], y=xy['M1H_b'],\n",
    "                alpha=0.2,\n",
    "                clip_on=False,\n",
    "                color='C' + str(i))\n",
    "        ax.plot([-3, 12], [-3, 12], linestyle='--', color='grey')\n",
    "        ax.set_ylim(-3, 12)\n",
    "        ax.set_xlim(-3, 12)\n",
    "        ax.set_title(cat.replace('_', ' '))\n",
    "    axs[-1, -1].axis('off')\n",
    "    axs[-1, 0].set_xlabel('Log2 M1H activation\\nreference isoform')\n",
    "    axs[-1, 0].set_ylabel('Log2 M1H activation\\nalternative isoform')\n",
    "    plt.subplots_adjust(hspace=0.4, wspace=0.4)\n",
    "    plt.savefig('../figures/m1h-per-pair_by_splice-cat_scatter_{}.pdf'.format(family),\n",
    "                bbox_inches='tight')"
   ],
   "outputs": [
    {
     "output_type": "error",
     "ename": "AttributeError",
     "evalue": "'Figure' object has no attribute 'set_title'",
     "traceback": [
      "\u001b[0;31m---------------------------------------------------------------------------\u001b[0m",
      "\u001b[0;31mAttributeError\u001b[0m                            Traceback (most recent call last)",
      "\u001b[0;32m<ipython-input-35-db2af8507498>\u001b[0m in \u001b[0;36m<module>\u001b[0;34m\u001b[0m\n\u001b[1;32m     22\u001b[0m     \u001b[0maxs\u001b[0m\u001b[0;34m[\u001b[0m\u001b[0;34m-\u001b[0m\u001b[0;36m1\u001b[0m\u001b[0;34m,\u001b[0m \u001b[0;36m0\u001b[0m\u001b[0;34m]\u001b[0m\u001b[0;34m.\u001b[0m\u001b[0mset_ylabel\u001b[0m\u001b[0;34m(\u001b[0m\u001b[0;34m'Log2 M1H activation\\nalternative isoform'\u001b[0m\u001b[0;34m)\u001b[0m\u001b[0;34m\u001b[0m\u001b[0;34m\u001b[0m\u001b[0m\n\u001b[1;32m     23\u001b[0m     \u001b[0mplt\u001b[0m\u001b[0;34m.\u001b[0m\u001b[0msubplots_adjust\u001b[0m\u001b[0;34m(\u001b[0m\u001b[0mhspace\u001b[0m\u001b[0;34m=\u001b[0m\u001b[0;36m0.4\u001b[0m\u001b[0;34m,\u001b[0m \u001b[0mwspace\u001b[0m\u001b[0;34m=\u001b[0m\u001b[0;36m0.4\u001b[0m\u001b[0;34m)\u001b[0m\u001b[0;34m\u001b[0m\u001b[0;34m\u001b[0m\u001b[0m\n\u001b[0;32m---> 24\u001b[0;31m     \u001b[0mfig\u001b[0m\u001b[0;34m.\u001b[0m\u001b[0mset_title\u001b[0m\u001b[0;34m(\u001b[0m\u001b[0mfamily\u001b[0m\u001b[0;34m)\u001b[0m\u001b[0;34m\u001b[0m\u001b[0;34m\u001b[0m\u001b[0m\n\u001b[0m\u001b[1;32m     25\u001b[0m     plt.savefig('../figures/m1h-per-pair_by_splice-cat_scatter_{}.pdf'.format(family),\n\u001b[1;32m     26\u001b[0m                 bbox_inches='tight')\n",
      "\u001b[0;31mAttributeError\u001b[0m: 'Figure' object has no attribute 'set_title'"
     ]
    },
    {
     "output_type": "display_data",
     "data": {
      "text/plain": [
       "<Figure size 576x384 with 6 Axes>"
      ],
      "application/vnd.code.notebook.error": {
       "name": "ReferenceError",
       "message": "atob is not defined",
       "stack": "ReferenceError: atob is not defined\n\tat d (/Applications/Visual Studio Code - Insiders.app/Contents/Resources/app/extensions/ipynb/dist/ipynbMain.js:1:138755)\n\tat y (/Applications/Visual Studio Code - Insiders.app/Contents/Resources/app/extensions/ipynb/dist/ipynbMain.js:1:143435)\n\tat v (/Applications/Visual Studio Code - Insiders.app/Contents/Resources/app/extensions/ipynb/dist/ipynbMain.js:1:143731)\n\tat Array.map (<anonymous>)\n\tat /Applications/Visual Studio Code - Insiders.app/Contents/Resources/app/extensions/ipynb/dist/ipynbMain.js:1:144883\n\tat /Applications/Visual Studio Code - Insiders.app/Contents/Resources/app/extensions/ipynb/dist/ipynbMain.js:1:145125\n\tat /Applications/Visual Studio Code - Insiders.app/Contents/Resources/app/extensions/ipynb/dist/ipynbMain.js:1:145132\n\tat Array.map (<anonymous>)\n\tat e.jupyterNotebookModelToNotebookData (/Applications/Visual Studio Code - Insiders.app/Contents/Resources/app/extensions/ipynb/dist/ipynbMain.js:1:144441)\n\tat e.NotebookSerializer.deserializeNotebook (/Applications/Visual Studio Code - Insiders.app/Contents/Resources/app/extensions/ipynb/dist/ipynbMain.js:1:146368)\n\tat _.$dataToNotebook (/Applications/Visual Studio Code - Insiders.app/Contents/Resources/app/out/vs/workbench/services/extensions/node/extensionHostProcess.js:85:211883)\n\tat d._doInvokeHandler (/Applications/Visual Studio Code - Insiders.app/Contents/Resources/app/out/vs/workbench/services/extensions/node/extensionHostProcess.js:89:12819)\n\tat d._invokeHandler (/Applications/Visual Studio Code - Insiders.app/Contents/Resources/app/out/vs/workbench/services/extensions/node/extensionHostProcess.js:89:12503)\n\tat d._receiveRequest (/Applications/Visual Studio Code - Insiders.app/Contents/Resources/app/out/vs/workbench/services/extensions/node/extensionHostProcess.js:89:11107)\n\tat d._receiveOneMessage (/Applications/Visual Studio Code - Insiders.app/Contents/Resources/app/out/vs/workbench/services/extensions/node/extensionHostProcess.js:89:10142)\n\tat /Applications/Visual Studio Code - Insiders.app/Contents/Resources/app/out/vs/workbench/services/extensions/node/extensionHostProcess.js:89:8039\n\tat u.fire (/Applications/Visual Studio Code - Insiders.app/Contents/Resources/app/out/vs/workbench/services/extensions/node/extensionHostProcess.js:57:1712)\n\tat l.fire (/Applications/Visual Studio Code - Insiders.app/Contents/Resources/app/out/vs/workbench/services/extensions/node/extensionHostProcess.js:65:15825)\n\tat /Applications/Visual Studio Code - Insiders.app/Contents/Resources/app/out/vs/workbench/services/extensions/node/extensionHostProcess.js:104:30061\n\tat u.fire (/Applications/Visual Studio Code - Insiders.app/Contents/Resources/app/out/vs/workbench/services/extensions/node/extensionHostProcess.js:57:1712)\n\tat l.fire (/Applications/Visual Studio Code - Insiders.app/Contents/Resources/app/out/vs/workbench/services/extensions/node/extensionHostProcess.js:65:15825)\n\tat r._receiveMessage (/Applications/Visual Studio Code - Insiders.app/Contents/Resources/app/out/vs/workbench/services/extensions/node/extensionHostProcess.js:65:21091)\n\tat /Applications/Visual Studio Code - Insiders.app/Contents/Resources/app/out/vs/workbench/services/extensions/node/extensionHostProcess.js:65:17969\n\tat u.fire (/Applications/Visual Studio Code - Insiders.app/Contents/Resources/app/out/vs/workbench/services/extensions/node/extensionHostProcess.js:57:1712)\n\tat v.acceptChunk (/Applications/Visual Studio Code - Insiders.app/Contents/Resources/app/out/vs/workbench/services/extensions/node/extensionHostProcess.js:65:13186)\n\tat /Applications/Visual Studio Code - Insiders.app/Contents/Resources/app/out/vs/workbench/services/extensions/node/extensionHostProcess.js:65:12534\n\tat Socket.w (/Applications/Visual Studio Code - Insiders.app/Contents/Resources/app/out/vs/workbench/services/extensions/node/extensionHostProcess.js:104:13219)\n\tat Socket.emit (events.js:315:20)\n\tat addChunk (internal/streams/readable.js:309:12)\n\tat readableAddChunk (internal/streams/readable.js:284:9)\n\tat Socket.Readable.push (internal/streams/readable.js:223:10)\n\tat Pipe.onStreamRead (internal/stream_base_commons.js:188:23)"
      }
     },
     "metadata": {
      "needs_background": "light"
     }
    }
   ],
   "metadata": {}
  },
  {
   "cell_type": "code",
   "execution_count": 33,
   "source": [
    "tf_fam.value_counts().head(10)"
   ],
   "outputs": [
    {
     "output_type": "execute_result",
     "data": {
      "text/plain": [
       "C2H2 ZF             747\n",
       "Homeodomain         196\n",
       "bHLH                108\n",
       "Unknown              69\n",
       "bZIP                 54\n",
       "Forkhead             49\n",
       "Nuclear receptor     46\n",
       "HMG/Sox              30\n",
       "Ets                  27\n",
       "T-box                17\n",
       "Name: DBD, dtype: int64"
      ]
     },
     "metadata": {},
     "execution_count": 33
    }
   ],
   "metadata": {}
  },
  {
   "cell_type": "code",
   "execution_count": 121,
   "source": [
    "# look at examples where small change in aa sequence is large change in M1H\n",
    "\n",
    "\n",
    "# FOXJ2-1\tFOXJ2-2\t\n",
    "# TBPL1-1\tTBPL1-2\t\n",
    "# NR4A1-1/2/3\n",
    "\n",
    "pairs.loc[pairs['alternative_3prime']\n",
    "          & (pairs['activation_fold_change'] > 3.), :].sort_values('aa_seq_pct_id', ascending=False)"
   ],
   "outputs": [
    {
     "output_type": "execute_result",
     "data": {
      "text/plain": [
       "    tf_gene_symbol        clone_acc_a        clone_acc_b  \\\n",
       "51            E2F8     E2F8|1/4|03G03     E2F8|2/4|03A06   \n",
       "299          NR4A1    NR4A1|1/5|03A04    NR4A1|2/5|03G05   \n",
       "300          NR4A1    NR4A1|1/5|03A04    NR4A1|3/5|03G02   \n",
       "792         ZNF778   ZNF778|1/2|05B07   ZNF778|2/2|12G05   \n",
       "61            ELF2     ELF2|1/4|03A11     ELF2|2/4|04E01   \n",
       "50            E2F6     E2F6|1/2|10C02     E2F6|2/2|01A04   \n",
       "308          NR5A2    NR5A2|1/5|02A02    NR5A2|4/5|01F10   \n",
       "519           TFEC     TFEC|1/6|03F07     TFEC|6/6|03E11   \n",
       "33            CTCF     CTCF|1/2|10F11     CTCF|2/2|01E10   \n",
       "356          PPARG    PPARG|1/4|10G02    PPARG|3/4|01H02   \n",
       "516           TFEC     TFEC|1/6|03F07     TFEC|3/6|03C11   \n",
       "536          THAP6    THAP6|1/6|11H03    THAP6|4/6|05E05   \n",
       "301          NR4A1    NR4A1|1/5|03A04    NR4A1|4/5|03A03   \n",
       "31            CREM     CREM|1/3|09D12     CREM|3/3|10D01   \n",
       "794        ZSCAN18  ZSCAN18|1/7|09F02  ZSCAN18|2/7|09A01   \n",
       "736         ZNF544   ZNF544|1/7|10A12   ZNF544|5/7|02F06   \n",
       "738         ZNF544   ZNF544|1/7|10A12   ZNF544|7/7|02H04   \n",
       "\n",
       "                                    pair  ppi_n_tested  ppi_n_shared  \\\n",
       "51         E2F8|1/4|03G03_E2F8|2/4|03A06           NaN           NaN   \n",
       "299      NR4A1|1/5|03A04_NR4A1|2/5|03G05           1.0           1.0   \n",
       "300      NR4A1|1/5|03A04_NR4A1|3/5|03G02           1.0           0.0   \n",
       "792    ZNF778|1/2|05B07_ZNF778|2/2|12G05           NaN           NaN   \n",
       "61         ELF2|1/4|03A11_ELF2|2/4|04E01           1.0           1.0   \n",
       "50         E2F6|1/2|10C02_E2F6|2/2|01A04           NaN           NaN   \n",
       "308      NR5A2|1/5|02A02_NR5A2|4/5|01F10           NaN           NaN   \n",
       "519        TFEC|1/6|03F07_TFEC|6/6|03E11           NaN           NaN   \n",
       "33         CTCF|1/2|10F11_CTCF|2/2|01E10           NaN           NaN   \n",
       "356      PPARG|1/4|10G02_PPARG|3/4|01H02           NaN           NaN   \n",
       "516        TFEC|1/6|03F07_TFEC|3/6|03C11           NaN           NaN   \n",
       "536      THAP6|1/6|11H03_THAP6|4/6|05E05           NaN           NaN   \n",
       "301      NR4A1|1/5|03A04_NR4A1|4/5|03A03           NaN           NaN   \n",
       "31         CREM|1/3|09D12_CREM|3/3|10D01           NaN           NaN   \n",
       "794  ZSCAN18|1/7|09F02_ZSCAN18|2/7|09A01          17.0           0.0   \n",
       "736    ZNF544|1/7|10A12_ZNF544|5/7|02F06           NaN           NaN   \n",
       "738    ZNF544|1/7|10A12_ZNF544|7/7|02H04           NaN           NaN   \n",
       "\n",
       "     ppi_n_min  ppi_n_min_diff  ppi_jaccard  ppi_simpson  ...  pdi_n_diff  \\\n",
       "51         NaN             NaN          NaN          NaN  ...         NaN   \n",
       "299        1.0             0.0          1.0          1.0  ...         NaN   \n",
       "300        0.0             0.0          0.0          NaN  ...         NaN   \n",
       "792        NaN             NaN          NaN          NaN  ...         NaN   \n",
       "61         1.0             0.0          1.0          1.0  ...         NaN   \n",
       "50         NaN             NaN          NaN          NaN  ...         NaN   \n",
       "308        NaN             NaN          NaN          NaN  ...         NaN   \n",
       "519        NaN             NaN          NaN          NaN  ...         NaN   \n",
       "33         NaN             NaN          NaN          NaN  ...         NaN   \n",
       "356        NaN             NaN          NaN          NaN  ...         1.0   \n",
       "516        NaN             NaN          NaN          NaN  ...         NaN   \n",
       "536        NaN             NaN          NaN          NaN  ...         NaN   \n",
       "301        NaN             NaN          NaN          NaN  ...         NaN   \n",
       "31         NaN             NaN          NaN          NaN  ...         NaN   \n",
       "794        2.0             2.0          0.0          0.0  ...         NaN   \n",
       "736        NaN             NaN          NaN          NaN  ...         NaN   \n",
       "738        NaN             NaN          NaN          NaN  ...         NaN   \n",
       "\n",
       "     activation_fold_change  aa_seq_pct_id  iso_acc_a  iso_acc_b  \\\n",
       "51                 3.464671           97.0     E2F8-1     E2F8-2   \n",
       "299                4.029137           93.6    NR4A1-1    NR4A1-2   \n",
       "300                3.836445           91.6    NR4A1-1    NR4A1-3   \n",
       "792                3.235406           90.6   ZNF778-1   ZNF778-2   \n",
       "61                 3.280586           79.8     ELF2-1     ELF2-2   \n",
       "50                 3.075493           73.3     E2F6-1     E2F6-2   \n",
       "308                3.840949           64.8    NR5A2-1    NR5A2-4   \n",
       "519                5.128960           55.0     TFEC-1     TFEC-6   \n",
       "33                 3.680685           54.9     CTCF-1     CTCF-2   \n",
       "356                3.180428           51.5    PPARG-1    PPARG-3   \n",
       "516                6.132327           50.6     TFEC-1     TFEC-3   \n",
       "536                3.142237           45.0    THAP6-1    THAP6-4   \n",
       "301                4.376617           44.2    NR4A1-1    NR4A1-4   \n",
       "31                 3.308728           42.0     CREM-1     CREM-3   \n",
       "794                3.572874           21.4  ZSCAN18-1  ZSCAN18-2   \n",
       "736                3.382341           12.4   ZNF544-1   ZNF544-5   \n",
       "738                3.028852            7.8   ZNF544-1   ZNF544-7   \n",
       "\n",
       "     alternative_start  alternative_stop  alternative_internal_exon  \\\n",
       "51               False             False                      False   \n",
       "299               True             False                      False   \n",
       "300               True             False                       True   \n",
       "792               True             False                       True   \n",
       "61                True             False                       True   \n",
       "50                True             False                       True   \n",
       "308              False             False                       True   \n",
       "519              False              True                       True   \n",
       "33                True             False                       True   \n",
       "356               True              True                       True   \n",
       "516               True              True                      False   \n",
       "536               True              True                      False   \n",
       "301               True              True                       True   \n",
       "31                True              True                      False   \n",
       "794               True             False                       True   \n",
       "736              False             False                      False   \n",
       "738              False              True                      False   \n",
       "\n",
       "     alternative_3prime  alternative_5prime  \n",
       "51                 True               False  \n",
       "299                True               False  \n",
       "300                True               False  \n",
       "792                True               False  \n",
       "61                 True               False  \n",
       "50                 True               False  \n",
       "308                True                True  \n",
       "519                True                True  \n",
       "33                 True               False  \n",
       "356                True                True  \n",
       "516                True                True  \n",
       "536                True                True  \n",
       "301                True                True  \n",
       "31                 True                True  \n",
       "794                True               False  \n",
       "736                True               False  \n",
       "738                True                True  \n",
       "\n",
       "[17 rows x 27 columns]"
      ],
      "text/html": [
       "<div>\n",
       "<style scoped>\n",
       "    .dataframe tbody tr th:only-of-type {\n",
       "        vertical-align: middle;\n",
       "    }\n",
       "\n",
       "    .dataframe tbody tr th {\n",
       "        vertical-align: top;\n",
       "    }\n",
       "\n",
       "    .dataframe thead th {\n",
       "        text-align: right;\n",
       "    }\n",
       "</style>\n",
       "<table border=\"1\" class=\"dataframe\">\n",
       "  <thead>\n",
       "    <tr style=\"text-align: right;\">\n",
       "      <th></th>\n",
       "      <th>tf_gene_symbol</th>\n",
       "      <th>clone_acc_a</th>\n",
       "      <th>clone_acc_b</th>\n",
       "      <th>pair</th>\n",
       "      <th>ppi_n_tested</th>\n",
       "      <th>ppi_n_shared</th>\n",
       "      <th>ppi_n_min</th>\n",
       "      <th>ppi_n_min_diff</th>\n",
       "      <th>ppi_jaccard</th>\n",
       "      <th>ppi_simpson</th>\n",
       "      <th>...</th>\n",
       "      <th>pdi_n_diff</th>\n",
       "      <th>activation_fold_change</th>\n",
       "      <th>aa_seq_pct_id</th>\n",
       "      <th>iso_acc_a</th>\n",
       "      <th>iso_acc_b</th>\n",
       "      <th>alternative_start</th>\n",
       "      <th>alternative_stop</th>\n",
       "      <th>alternative_internal_exon</th>\n",
       "      <th>alternative_3prime</th>\n",
       "      <th>alternative_5prime</th>\n",
       "    </tr>\n",
       "  </thead>\n",
       "  <tbody>\n",
       "    <tr>\n",
       "      <th>51</th>\n",
       "      <td>E2F8</td>\n",
       "      <td>E2F8|1/4|03G03</td>\n",
       "      <td>E2F8|2/4|03A06</td>\n",
       "      <td>E2F8|1/4|03G03_E2F8|2/4|03A06</td>\n",
       "      <td>NaN</td>\n",
       "      <td>NaN</td>\n",
       "      <td>NaN</td>\n",
       "      <td>NaN</td>\n",
       "      <td>NaN</td>\n",
       "      <td>NaN</td>\n",
       "      <td>...</td>\n",
       "      <td>NaN</td>\n",
       "      <td>3.464671</td>\n",
       "      <td>97.0</td>\n",
       "      <td>E2F8-1</td>\n",
       "      <td>E2F8-2</td>\n",
       "      <td>False</td>\n",
       "      <td>False</td>\n",
       "      <td>False</td>\n",
       "      <td>True</td>\n",
       "      <td>False</td>\n",
       "    </tr>\n",
       "    <tr>\n",
       "      <th>299</th>\n",
       "      <td>NR4A1</td>\n",
       "      <td>NR4A1|1/5|03A04</td>\n",
       "      <td>NR4A1|2/5|03G05</td>\n",
       "      <td>NR4A1|1/5|03A04_NR4A1|2/5|03G05</td>\n",
       "      <td>1.0</td>\n",
       "      <td>1.0</td>\n",
       "      <td>1.0</td>\n",
       "      <td>0.0</td>\n",
       "      <td>1.0</td>\n",
       "      <td>1.0</td>\n",
       "      <td>...</td>\n",
       "      <td>NaN</td>\n",
       "      <td>4.029137</td>\n",
       "      <td>93.6</td>\n",
       "      <td>NR4A1-1</td>\n",
       "      <td>NR4A1-2</td>\n",
       "      <td>True</td>\n",
       "      <td>False</td>\n",
       "      <td>False</td>\n",
       "      <td>True</td>\n",
       "      <td>False</td>\n",
       "    </tr>\n",
       "    <tr>\n",
       "      <th>300</th>\n",
       "      <td>NR4A1</td>\n",
       "      <td>NR4A1|1/5|03A04</td>\n",
       "      <td>NR4A1|3/5|03G02</td>\n",
       "      <td>NR4A1|1/5|03A04_NR4A1|3/5|03G02</td>\n",
       "      <td>1.0</td>\n",
       "      <td>0.0</td>\n",
       "      <td>0.0</td>\n",
       "      <td>0.0</td>\n",
       "      <td>0.0</td>\n",
       "      <td>NaN</td>\n",
       "      <td>...</td>\n",
       "      <td>NaN</td>\n",
       "      <td>3.836445</td>\n",
       "      <td>91.6</td>\n",
       "      <td>NR4A1-1</td>\n",
       "      <td>NR4A1-3</td>\n",
       "      <td>True</td>\n",
       "      <td>False</td>\n",
       "      <td>True</td>\n",
       "      <td>True</td>\n",
       "      <td>False</td>\n",
       "    </tr>\n",
       "    <tr>\n",
       "      <th>792</th>\n",
       "      <td>ZNF778</td>\n",
       "      <td>ZNF778|1/2|05B07</td>\n",
       "      <td>ZNF778|2/2|12G05</td>\n",
       "      <td>ZNF778|1/2|05B07_ZNF778|2/2|12G05</td>\n",
       "      <td>NaN</td>\n",
       "      <td>NaN</td>\n",
       "      <td>NaN</td>\n",
       "      <td>NaN</td>\n",
       "      <td>NaN</td>\n",
       "      <td>NaN</td>\n",
       "      <td>...</td>\n",
       "      <td>NaN</td>\n",
       "      <td>3.235406</td>\n",
       "      <td>90.6</td>\n",
       "      <td>ZNF778-1</td>\n",
       "      <td>ZNF778-2</td>\n",
       "      <td>True</td>\n",
       "      <td>False</td>\n",
       "      <td>True</td>\n",
       "      <td>True</td>\n",
       "      <td>False</td>\n",
       "    </tr>\n",
       "    <tr>\n",
       "      <th>61</th>\n",
       "      <td>ELF2</td>\n",
       "      <td>ELF2|1/4|03A11</td>\n",
       "      <td>ELF2|2/4|04E01</td>\n",
       "      <td>ELF2|1/4|03A11_ELF2|2/4|04E01</td>\n",
       "      <td>1.0</td>\n",
       "      <td>1.0</td>\n",
       "      <td>1.0</td>\n",
       "      <td>0.0</td>\n",
       "      <td>1.0</td>\n",
       "      <td>1.0</td>\n",
       "      <td>...</td>\n",
       "      <td>NaN</td>\n",
       "      <td>3.280586</td>\n",
       "      <td>79.8</td>\n",
       "      <td>ELF2-1</td>\n",
       "      <td>ELF2-2</td>\n",
       "      <td>True</td>\n",
       "      <td>False</td>\n",
       "      <td>True</td>\n",
       "      <td>True</td>\n",
       "      <td>False</td>\n",
       "    </tr>\n",
       "    <tr>\n",
       "      <th>50</th>\n",
       "      <td>E2F6</td>\n",
       "      <td>E2F6|1/2|10C02</td>\n",
       "      <td>E2F6|2/2|01A04</td>\n",
       "      <td>E2F6|1/2|10C02_E2F6|2/2|01A04</td>\n",
       "      <td>NaN</td>\n",
       "      <td>NaN</td>\n",
       "      <td>NaN</td>\n",
       "      <td>NaN</td>\n",
       "      <td>NaN</td>\n",
       "      <td>NaN</td>\n",
       "      <td>...</td>\n",
       "      <td>NaN</td>\n",
       "      <td>3.075493</td>\n",
       "      <td>73.3</td>\n",
       "      <td>E2F6-1</td>\n",
       "      <td>E2F6-2</td>\n",
       "      <td>True</td>\n",
       "      <td>False</td>\n",
       "      <td>True</td>\n",
       "      <td>True</td>\n",
       "      <td>False</td>\n",
       "    </tr>\n",
       "    <tr>\n",
       "      <th>308</th>\n",
       "      <td>NR5A2</td>\n",
       "      <td>NR5A2|1/5|02A02</td>\n",
       "      <td>NR5A2|4/5|01F10</td>\n",
       "      <td>NR5A2|1/5|02A02_NR5A2|4/5|01F10</td>\n",
       "      <td>NaN</td>\n",
       "      <td>NaN</td>\n",
       "      <td>NaN</td>\n",
       "      <td>NaN</td>\n",
       "      <td>NaN</td>\n",
       "      <td>NaN</td>\n",
       "      <td>...</td>\n",
       "      <td>NaN</td>\n",
       "      <td>3.840949</td>\n",
       "      <td>64.8</td>\n",
       "      <td>NR5A2-1</td>\n",
       "      <td>NR5A2-4</td>\n",
       "      <td>False</td>\n",
       "      <td>False</td>\n",
       "      <td>True</td>\n",
       "      <td>True</td>\n",
       "      <td>True</td>\n",
       "    </tr>\n",
       "    <tr>\n",
       "      <th>519</th>\n",
       "      <td>TFEC</td>\n",
       "      <td>TFEC|1/6|03F07</td>\n",
       "      <td>TFEC|6/6|03E11</td>\n",
       "      <td>TFEC|1/6|03F07_TFEC|6/6|03E11</td>\n",
       "      <td>NaN</td>\n",
       "      <td>NaN</td>\n",
       "      <td>NaN</td>\n",
       "      <td>NaN</td>\n",
       "      <td>NaN</td>\n",
       "      <td>NaN</td>\n",
       "      <td>...</td>\n",
       "      <td>NaN</td>\n",
       "      <td>5.128960</td>\n",
       "      <td>55.0</td>\n",
       "      <td>TFEC-1</td>\n",
       "      <td>TFEC-6</td>\n",
       "      <td>False</td>\n",
       "      <td>True</td>\n",
       "      <td>True</td>\n",
       "      <td>True</td>\n",
       "      <td>True</td>\n",
       "    </tr>\n",
       "    <tr>\n",
       "      <th>33</th>\n",
       "      <td>CTCF</td>\n",
       "      <td>CTCF|1/2|10F11</td>\n",
       "      <td>CTCF|2/2|01E10</td>\n",
       "      <td>CTCF|1/2|10F11_CTCF|2/2|01E10</td>\n",
       "      <td>NaN</td>\n",
       "      <td>NaN</td>\n",
       "      <td>NaN</td>\n",
       "      <td>NaN</td>\n",
       "      <td>NaN</td>\n",
       "      <td>NaN</td>\n",
       "      <td>...</td>\n",
       "      <td>NaN</td>\n",
       "      <td>3.680685</td>\n",
       "      <td>54.9</td>\n",
       "      <td>CTCF-1</td>\n",
       "      <td>CTCF-2</td>\n",
       "      <td>True</td>\n",
       "      <td>False</td>\n",
       "      <td>True</td>\n",
       "      <td>True</td>\n",
       "      <td>False</td>\n",
       "    </tr>\n",
       "    <tr>\n",
       "      <th>356</th>\n",
       "      <td>PPARG</td>\n",
       "      <td>PPARG|1/4|10G02</td>\n",
       "      <td>PPARG|3/4|01H02</td>\n",
       "      <td>PPARG|1/4|10G02_PPARG|3/4|01H02</td>\n",
       "      <td>NaN</td>\n",
       "      <td>NaN</td>\n",
       "      <td>NaN</td>\n",
       "      <td>NaN</td>\n",
       "      <td>NaN</td>\n",
       "      <td>NaN</td>\n",
       "      <td>...</td>\n",
       "      <td>1.0</td>\n",
       "      <td>3.180428</td>\n",
       "      <td>51.5</td>\n",
       "      <td>PPARG-1</td>\n",
       "      <td>PPARG-3</td>\n",
       "      <td>True</td>\n",
       "      <td>True</td>\n",
       "      <td>True</td>\n",
       "      <td>True</td>\n",
       "      <td>True</td>\n",
       "    </tr>\n",
       "    <tr>\n",
       "      <th>516</th>\n",
       "      <td>TFEC</td>\n",
       "      <td>TFEC|1/6|03F07</td>\n",
       "      <td>TFEC|3/6|03C11</td>\n",
       "      <td>TFEC|1/6|03F07_TFEC|3/6|03C11</td>\n",
       "      <td>NaN</td>\n",
       "      <td>NaN</td>\n",
       "      <td>NaN</td>\n",
       "      <td>NaN</td>\n",
       "      <td>NaN</td>\n",
       "      <td>NaN</td>\n",
       "      <td>...</td>\n",
       "      <td>NaN</td>\n",
       "      <td>6.132327</td>\n",
       "      <td>50.6</td>\n",
       "      <td>TFEC-1</td>\n",
       "      <td>TFEC-3</td>\n",
       "      <td>True</td>\n",
       "      <td>True</td>\n",
       "      <td>False</td>\n",
       "      <td>True</td>\n",
       "      <td>True</td>\n",
       "    </tr>\n",
       "    <tr>\n",
       "      <th>536</th>\n",
       "      <td>THAP6</td>\n",
       "      <td>THAP6|1/6|11H03</td>\n",
       "      <td>THAP6|4/6|05E05</td>\n",
       "      <td>THAP6|1/6|11H03_THAP6|4/6|05E05</td>\n",
       "      <td>NaN</td>\n",
       "      <td>NaN</td>\n",
       "      <td>NaN</td>\n",
       "      <td>NaN</td>\n",
       "      <td>NaN</td>\n",
       "      <td>NaN</td>\n",
       "      <td>...</td>\n",
       "      <td>NaN</td>\n",
       "      <td>3.142237</td>\n",
       "      <td>45.0</td>\n",
       "      <td>THAP6-1</td>\n",
       "      <td>THAP6-4</td>\n",
       "      <td>True</td>\n",
       "      <td>True</td>\n",
       "      <td>False</td>\n",
       "      <td>True</td>\n",
       "      <td>True</td>\n",
       "    </tr>\n",
       "    <tr>\n",
       "      <th>301</th>\n",
       "      <td>NR4A1</td>\n",
       "      <td>NR4A1|1/5|03A04</td>\n",
       "      <td>NR4A1|4/5|03A03</td>\n",
       "      <td>NR4A1|1/5|03A04_NR4A1|4/5|03A03</td>\n",
       "      <td>NaN</td>\n",
       "      <td>NaN</td>\n",
       "      <td>NaN</td>\n",
       "      <td>NaN</td>\n",
       "      <td>NaN</td>\n",
       "      <td>NaN</td>\n",
       "      <td>...</td>\n",
       "      <td>NaN</td>\n",
       "      <td>4.376617</td>\n",
       "      <td>44.2</td>\n",
       "      <td>NR4A1-1</td>\n",
       "      <td>NR4A1-4</td>\n",
       "      <td>True</td>\n",
       "      <td>True</td>\n",
       "      <td>True</td>\n",
       "      <td>True</td>\n",
       "      <td>True</td>\n",
       "    </tr>\n",
       "    <tr>\n",
       "      <th>31</th>\n",
       "      <td>CREM</td>\n",
       "      <td>CREM|1/3|09D12</td>\n",
       "      <td>CREM|3/3|10D01</td>\n",
       "      <td>CREM|1/3|09D12_CREM|3/3|10D01</td>\n",
       "      <td>NaN</td>\n",
       "      <td>NaN</td>\n",
       "      <td>NaN</td>\n",
       "      <td>NaN</td>\n",
       "      <td>NaN</td>\n",
       "      <td>NaN</td>\n",
       "      <td>...</td>\n",
       "      <td>NaN</td>\n",
       "      <td>3.308728</td>\n",
       "      <td>42.0</td>\n",
       "      <td>CREM-1</td>\n",
       "      <td>CREM-3</td>\n",
       "      <td>True</td>\n",
       "      <td>True</td>\n",
       "      <td>False</td>\n",
       "      <td>True</td>\n",
       "      <td>True</td>\n",
       "    </tr>\n",
       "    <tr>\n",
       "      <th>794</th>\n",
       "      <td>ZSCAN18</td>\n",
       "      <td>ZSCAN18|1/7|09F02</td>\n",
       "      <td>ZSCAN18|2/7|09A01</td>\n",
       "      <td>ZSCAN18|1/7|09F02_ZSCAN18|2/7|09A01</td>\n",
       "      <td>17.0</td>\n",
       "      <td>0.0</td>\n",
       "      <td>2.0</td>\n",
       "      <td>2.0</td>\n",
       "      <td>0.0</td>\n",
       "      <td>0.0</td>\n",
       "      <td>...</td>\n",
       "      <td>NaN</td>\n",
       "      <td>3.572874</td>\n",
       "      <td>21.4</td>\n",
       "      <td>ZSCAN18-1</td>\n",
       "      <td>ZSCAN18-2</td>\n",
       "      <td>True</td>\n",
       "      <td>False</td>\n",
       "      <td>True</td>\n",
       "      <td>True</td>\n",
       "      <td>False</td>\n",
       "    </tr>\n",
       "    <tr>\n",
       "      <th>736</th>\n",
       "      <td>ZNF544</td>\n",
       "      <td>ZNF544|1/7|10A12</td>\n",
       "      <td>ZNF544|5/7|02F06</td>\n",
       "      <td>ZNF544|1/7|10A12_ZNF544|5/7|02F06</td>\n",
       "      <td>NaN</td>\n",
       "      <td>NaN</td>\n",
       "      <td>NaN</td>\n",
       "      <td>NaN</td>\n",
       "      <td>NaN</td>\n",
       "      <td>NaN</td>\n",
       "      <td>...</td>\n",
       "      <td>NaN</td>\n",
       "      <td>3.382341</td>\n",
       "      <td>12.4</td>\n",
       "      <td>ZNF544-1</td>\n",
       "      <td>ZNF544-5</td>\n",
       "      <td>False</td>\n",
       "      <td>False</td>\n",
       "      <td>False</td>\n",
       "      <td>True</td>\n",
       "      <td>False</td>\n",
       "    </tr>\n",
       "    <tr>\n",
       "      <th>738</th>\n",
       "      <td>ZNF544</td>\n",
       "      <td>ZNF544|1/7|10A12</td>\n",
       "      <td>ZNF544|7/7|02H04</td>\n",
       "      <td>ZNF544|1/7|10A12_ZNF544|7/7|02H04</td>\n",
       "      <td>NaN</td>\n",
       "      <td>NaN</td>\n",
       "      <td>NaN</td>\n",
       "      <td>NaN</td>\n",
       "      <td>NaN</td>\n",
       "      <td>NaN</td>\n",
       "      <td>...</td>\n",
       "      <td>NaN</td>\n",
       "      <td>3.028852</td>\n",
       "      <td>7.8</td>\n",
       "      <td>ZNF544-1</td>\n",
       "      <td>ZNF544-7</td>\n",
       "      <td>False</td>\n",
       "      <td>True</td>\n",
       "      <td>False</td>\n",
       "      <td>True</td>\n",
       "      <td>True</td>\n",
       "    </tr>\n",
       "  </tbody>\n",
       "</table>\n",
       "<p>17 rows × 27 columns</p>\n",
       "</div>"
      ]
     },
     "metadata": {},
     "execution_count": 121
    }
   ],
   "metadata": {}
  },
  {
   "cell_type": "code",
   "execution_count": null,
   "source": [
    "# scatter of reference isoform vs alternative isoform M1H readout"
   ],
   "outputs": [],
   "metadata": {}
  }
 ]
}