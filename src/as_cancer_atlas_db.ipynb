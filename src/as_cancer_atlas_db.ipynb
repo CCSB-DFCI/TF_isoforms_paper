{
 "cells": [
  {
   "cell_type": "code",
   "execution_count": 1,
   "metadata": {},
   "outputs": [
    {
     "name": "stdout",
     "output_type": "stream",
     "text": [
      "reading from cache\n"
     ]
    }
   ],
   "source": [
    "import pandas as pd\n",
    "from data_loading import load_annotated_6k_collection\n",
    "\n",
    "df = pd.read_csv('../data/external/ASCancerAtlas_2023-01-25_CASE_all.csv')\n",
    "for col in df.columns:  # because of =\"foo\" in file\n",
    "    df[col] = df[col].str.slice(2, -1)\n",
    "tfs = load_annotated_6k_collection()"
   ]
  },
  {
   "cell_type": "code",
   "execution_count": 2,
   "metadata": {},
   "outputs": [],
   "source": [
    "cloned_ensts = {enst for tf in tfs.values()\n",
    "                     for iso in tf.cloned_isoforms\n",
    "                     if not iso.is_novel_isoform()\n",
    "                     for enst in iso.ensembl_transcript_ids\n",
    "                     }"
   ]
  },
  {
   "cell_type": "code",
   "execution_count": 3,
   "metadata": {},
   "outputs": [],
   "source": [
    "df.loc[df['ct_ensembl_id'].isin(cloned_ensts) & df['sv_ensembl_id'].isin(cloned_ensts)].sort_values('gene_name').to_csv('../output/ASCancerAtlas_2023-01-25_CASE_filtered-TFiso1.0.tsv', sep='\\t')"
   ]
  }
 ],
 "metadata": {
  "kernelspec": {
   "display_name": "venv",
   "language": "python",
   "name": "python3"
  },
  "language_info": {
   "codemirror_mode": {
    "name": "ipython",
    "version": 3
   },
   "file_extension": ".py",
   "mimetype": "text/x-python",
   "name": "python",
   "nbconvert_exporter": "python",
   "pygments_lexer": "ipython3",
   "version": "3.8.13"
  },
  "orig_nbformat": 4,
  "vscode": {
   "interpreter": {
    "hash": "4ae04c9a3e8cbfaaf818a59204fe953064ae0593c0d7ed4865e22581ae0526ea"
   }
  }
 },
 "nbformat": 4,
 "nbformat_minor": 2
}
