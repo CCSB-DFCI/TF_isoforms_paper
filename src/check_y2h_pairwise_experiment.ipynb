{
 "metadata": {
  "language_info": {
   "codemirror_mode": {
    "name": "ipython",
    "version": 3
   },
   "file_extension": ".py",
   "mimetype": "text/x-python",
   "name": "python",
   "nbconvert_exporter": "python",
   "pygments_lexer": "ipython3",
   "version": "3.8.6-final"
  },
  "orig_nbformat": 2,
  "kernelspec": {
   "name": "python3",
   "display_name": "Python 3",
   "language": "python"
  }
 },
 "nbformat": 4,
 "nbformat_minor": 2,
 "cells": [
  {
   "source": [
    "Before the experiment starts. Check that the experiment layout in the database matches the file I sent Tong."
   ],
   "cell_type": "markdown",
   "metadata": {}
  },
  {
   "cell_type": "code",
   "execution_count": 1,
   "metadata": {},
   "outputs": [],
   "source": [
    "import pandas as pd\n",
    "\n",
    "from ccsblib import paros_connection"
   ]
  },
  {
   "cell_type": "code",
   "execution_count": 2,
   "metadata": {},
   "outputs": [],
   "source": [
    "df_a = pd.read_csv('../../output/plate_arrangement.tsv', sep='\\t')\n",
    "df_a = df_a.rename(columns={'test_pla': 'retest_pla', 'test_pos': 'retest_pos'})\n",
    "df_a.loc[df_a['ad_clone_acc'] == 'empty-AD', 'ad_orf_id'] = -99\n",
    "for i in range(1, 7):\n",
    "    df_a.loc[df_a['ad_clone_acc'] == 'control-{}'.format(i), 'ad_orf_id'] = -i\n",
    "    df_a.loc[df_a['ad_clone_acc'] == 'control-{}'.format(i), 'db_orf_id'] = -i\n",
    "\n",
    "qry = \"\"\"SELECT * FROM tf_screen.final_retest;\"\"\"\n",
    "df_b = pd.read_sql(qry, paros_connection())"
   ]
  },
  {
   "cell_type": "code",
   "execution_count": 3,
   "metadata": {},
   "outputs": [
    {
     "output_type": "execute_result",
     "data": {
      "text/plain": [
       "   retest_pla retest_pos ad_clone_acc  ad_orf_id db_gene_symbol  db_orf_id\n",
       "0           1        A01       ZIC3-1   101257.0           AQP1     1231.0\n",
       "1           1        A02       ZIC3-1   101257.0       CATSPER1     1769.0\n",
       "2           1        A03       ZIC3-1   101257.0           GCC1     7306.0\n",
       "3           1        A04       ZIC3-1   101257.0         HSD3B7     4278.0\n",
       "4           1        A05       ZIC3-1   101257.0       KRTAP9-3    71609.0"
      ],
      "text/html": "<div>\n<style scoped>\n    .dataframe tbody tr th:only-of-type {\n        vertical-align: middle;\n    }\n\n    .dataframe tbody tr th {\n        vertical-align: top;\n    }\n\n    .dataframe thead th {\n        text-align: right;\n    }\n</style>\n<table border=\"1\" class=\"dataframe\">\n  <thead>\n    <tr style=\"text-align: right;\">\n      <th></th>\n      <th>retest_pla</th>\n      <th>retest_pos</th>\n      <th>ad_clone_acc</th>\n      <th>ad_orf_id</th>\n      <th>db_gene_symbol</th>\n      <th>db_orf_id</th>\n    </tr>\n  </thead>\n  <tbody>\n    <tr>\n      <th>0</th>\n      <td>1</td>\n      <td>A01</td>\n      <td>ZIC3-1</td>\n      <td>101257.0</td>\n      <td>AQP1</td>\n      <td>1231.0</td>\n    </tr>\n    <tr>\n      <th>1</th>\n      <td>1</td>\n      <td>A02</td>\n      <td>ZIC3-1</td>\n      <td>101257.0</td>\n      <td>CATSPER1</td>\n      <td>1769.0</td>\n    </tr>\n    <tr>\n      <th>2</th>\n      <td>1</td>\n      <td>A03</td>\n      <td>ZIC3-1</td>\n      <td>101257.0</td>\n      <td>GCC1</td>\n      <td>7306.0</td>\n    </tr>\n    <tr>\n      <th>3</th>\n      <td>1</td>\n      <td>A04</td>\n      <td>ZIC3-1</td>\n      <td>101257.0</td>\n      <td>HSD3B7</td>\n      <td>4278.0</td>\n    </tr>\n    <tr>\n      <th>4</th>\n      <td>1</td>\n      <td>A05</td>\n      <td>ZIC3-1</td>\n      <td>101257.0</td>\n      <td>KRTAP9-3</td>\n      <td>71609.0</td>\n    </tr>\n  </tbody>\n</table>\n</div>"
     },
     "metadata": {},
     "execution_count": 3
    }
   ],
   "source": [
    "df_a.head()"
   ]
  },
  {
   "cell_type": "code",
   "execution_count": 4,
   "metadata": {},
   "outputs": [
    {
     "output_type": "execute_result",
     "data": {
      "text/plain": [
       "   retest_pla retest_pos ad_clone_acc  ad_orf_id db_gene_symbol  db_orf_id\n",
       "0           1        A01       ZIC3-1   101257.0           AQP1     1231.0\n",
       "1           1        A02       ZIC3-1   101257.0       CATSPER1     1769.0\n",
       "2           1        A03       ZIC3-1   101257.0           GCC1     7306.0\n",
       "3           1        A04       ZIC3-1   101257.0         HSD3B7     4278.0\n",
       "4           1        A05       ZIC3-1   101257.0       KRTAP9-3    71609.0"
      ],
      "text/html": "<div>\n<style scoped>\n    .dataframe tbody tr th:only-of-type {\n        vertical-align: middle;\n    }\n\n    .dataframe tbody tr th {\n        vertical-align: top;\n    }\n\n    .dataframe thead th {\n        text-align: right;\n    }\n</style>\n<table border=\"1\" class=\"dataframe\">\n  <thead>\n    <tr style=\"text-align: right;\">\n      <th></th>\n      <th>retest_pla</th>\n      <th>retest_pos</th>\n      <th>ad_clone_acc</th>\n      <th>ad_orf_id</th>\n      <th>db_gene_symbol</th>\n      <th>db_orf_id</th>\n    </tr>\n  </thead>\n  <tbody>\n    <tr>\n      <th>0</th>\n      <td>1</td>\n      <td>A01</td>\n      <td>ZIC3-1</td>\n      <td>101257.0</td>\n      <td>AQP1</td>\n      <td>1231.0</td>\n    </tr>\n    <tr>\n      <th>1</th>\n      <td>1</td>\n      <td>A02</td>\n      <td>ZIC3-1</td>\n      <td>101257.0</td>\n      <td>CATSPER1</td>\n      <td>1769.0</td>\n    </tr>\n    <tr>\n      <th>2</th>\n      <td>1</td>\n      <td>A03</td>\n      <td>ZIC3-1</td>\n      <td>101257.0</td>\n      <td>GCC1</td>\n      <td>7306.0</td>\n    </tr>\n    <tr>\n      <th>3</th>\n      <td>1</td>\n      <td>A04</td>\n      <td>ZIC3-1</td>\n      <td>101257.0</td>\n      <td>HSD3B7</td>\n      <td>4278.0</td>\n    </tr>\n    <tr>\n      <th>4</th>\n      <td>1</td>\n      <td>A05</td>\n      <td>ZIC3-1</td>\n      <td>101257.0</td>\n      <td>KRTAP9-3</td>\n      <td>71609.0</td>\n    </tr>\n  </tbody>\n</table>\n</div>"
     },
     "metadata": {},
     "execution_count": 4
    }
   ],
   "source": [
    "df_b.head()"
   ]
  },
  {
   "cell_type": "code",
   "execution_count": 5,
   "metadata": {},
   "outputs": [
    {
     "output_type": "stream",
     "name": "stdout",
     "text": [
      "All checks passed\n"
     ]
    }
   ],
   "source": [
    "if not (df_a.columns == df_b.columns).all():\n",
    "    raise UserWarning('columns are different!')\n",
    "if not df_a.shape == df_b.shape:\n",
    "    raise UserWarning('table sizes are different!')\n",
    "if not (df_a.isnull() == df_b.isnull()).all().all():\n",
    "    raise UserWarning('Different missing values')\n",
    "if not ((df_a == df_b) | df_a.isnull()).all().all():\n",
    "    raise UserWarning('Some values are different')\n",
    "print('All checks passed')"
   ]
  }
 ]
}