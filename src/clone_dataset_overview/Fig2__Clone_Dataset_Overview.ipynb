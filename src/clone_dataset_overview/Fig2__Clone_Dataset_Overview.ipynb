{
 "cells": [
  {
   "cell_type": "markdown",
   "metadata": {},
   "source": [
    "# Figure 2: Clone Dataset Overview, novel isoform expression, assay validations"
   ]
  },
  {
   "cell_type": "code",
   "execution_count": 1,
   "metadata": {},
   "outputs": [],
   "source": [
    "import matplotlib as mpl\n",
    "import met_brewer\n",
    "import pandas as pd\n",
    "import numpy as np\n",
    "import os\n",
    "import seaborn as sns\n",
    "import subprocess\n",
    "import sys\n",
    "import tqdm\n",
    "\n",
    "from matplotlib import pyplot as plt\n",
    "from matplotlib.patches import Patch\n",
    "from scipy import stats\n",
    "from pathlib import Path\n",
    "from Bio.PDB.DSSP import make_dssp_dict\n",
    "from Bio.Data.IUPACData import protein_letters_3to1\n",
    "\n",
    "# import utils\n",
    "sys.path.append(\"../\")\n",
    "\n",
    "from data_loading import (load_annotated_TFiso1_collection,\n",
    "                          load_y2h_isoform_data,\n",
    "                          load_y1h_pdi_data,\n",
    "                          load_m1h_activation_data,\n",
    "                          load_annotated_gencode_tfs,\n",
    "                          load_developmental_tissue_expression_remapped,\n",
    "                          load_gtex_remapped,\n",
    "                          load_tf_families,\n",
    "                          load_full_y2h_data_including_controls,\n",
    "                          load_ref_vs_alt_isoforms_table,\n",
    "                          load_PDI_luciferase_validation_experiment,\n",
    "                          load_n2h_ppi_validation_data,\n",
    "                          load_Y1H_DNA_bait_sequences,\n",
    "                          load_valid_isoform_clones,\n",
    "                          load_ppi_partner_categories,\n",
    "                          load_DNA_binding_domains,\n",
    "                          )\n",
    "from plotting import (mimic_r_boxplot, \n",
    "                      validation_titration_plot, \n",
    "                      validation_plot, \n",
    "                      violinplot_reflected, \n",
    "                      annotate_pval)"
   ]
  },
  {
   "cell_type": "code",
   "execution_count": 2,
   "metadata": {},
   "outputs": [],
   "source": [
    "PAPER_PRESET = {\"style\": \"ticks\", \"font\": \"Helvetica\", \"context\": \"paper\", \n",
    "                \"rc\": {\"font.size\":7,\"axes.titlesize\":7,\n",
    "                     \"pdf.fonttype\": 42, \n",
    "                       \"axes.labelsize\":7, 'axes.linewidth':0.5,\n",
    "                       \"legend.fontsize\":6, \"xtick.labelsize\":6,\n",
    "                       \"ytick.labelsize\":6, \"xtick.major.size\": 3.0,\n",
    "                       \"ytick.major.size\": 3.0, \"axes.edgecolor\": \"black\",\n",
    "                       \"xtick.major.pad\": 3.0, \"ytick.major.pad\": 3.0}}\n",
    "PAPER_FONTSIZE = 7"
   ]
  },
  {
   "cell_type": "code",
   "execution_count": 3,
   "metadata": {},
   "outputs": [],
   "source": [
    "sns.set(**PAPER_PRESET)\n",
    "fontsize = PAPER_FONTSIZE"
   ]
  },
  {
   "cell_type": "code",
   "execution_count": 4,
   "metadata": {},
   "outputs": [],
   "source": [
    "np.random.seed(2023)"
   ]
  },
  {
   "cell_type": "markdown",
   "metadata": {},
   "source": [
    "## 1. load clone collection, gencode TFs"
   ]
  },
  {
   "cell_type": "code",
   "execution_count": 5,
   "metadata": {
    "scrolled": true
   },
   "outputs": [
    {
     "name": "stdout",
     "output_type": "stream",
     "text": [
      "reading from cache\n",
      "reading from cache\n"
     ]
    }
   ],
   "source": [
    "genc_tfs = load_annotated_gencode_tfs()\n",
    "\n",
    "clone_tfs = load_annotated_TFiso1_collection()"
   ]
  },
  {
   "cell_type": "code",
   "execution_count": 6,
   "metadata": {},
   "outputs": [
    {
     "data": {
      "text/plain": [
       "1635"
      ]
     },
     "execution_count": 6,
     "metadata": {},
     "output_type": "execute_result"
    }
   ],
   "source": [
    "len(genc_tfs)"
   ]
  },
  {
   "cell_type": "code",
   "execution_count": 7,
   "metadata": {},
   "outputs": [
    {
     "data": {
      "text/plain": [
       "246"
      ]
     },
     "execution_count": 7,
     "metadata": {},
     "output_type": "execute_result"
    }
   ],
   "source": [
    "len(clone_tfs)"
   ]
  },
  {
   "cell_type": "markdown",
   "metadata": {},
   "source": [
    "## 2. count number of splicing categories across gencode and cloned TFs"
   ]
  },
  {
   "cell_type": "code",
   "execution_count": 8,
   "metadata": {},
   "outputs": [],
   "source": [
    "def count_splicing_types(tfs, index):\n",
    "    \n",
    "    alt_n = 0\n",
    "    alt_c = 0\n",
    "    alt_int = 0\n",
    "    alt_5ss = 0\n",
    "    alt_3ss = 0\n",
    "    exon_sk = 0\n",
    "    mut_ex = 0\n",
    "    intron_ret = 0\n",
    "    tot = 0\n",
    "\n",
    "    for tf in tfs.keys():\n",
    "        gene = tfs[tf]\n",
    "        if index == \"gencode\":\n",
    "            ref = gene.reference_isoform.name\n",
    "            alts = [x.name for x in gene.alternative_isoforms]\n",
    "        elif index == \"TFIso1.0\":\n",
    "            ref = gene.cloned_reference_isoform.name\n",
    "            alts = [x.name for x in gene.cloned_isoforms if x.name != ref]\n",
    "        elif index == \"TFIso1.0 - novel\":\n",
    "            ref = gene.cloned_reference_isoform.name\n",
    "            alts = [x.name for x in gene.cloned_isoforms if x.is_novel_isoform()]\n",
    "        for alt in alts:\n",
    "            splicing_cats = gene.splicing_categories(ref, alt)\n",
    "\n",
    "            if splicing_cats['alternative N-terminal']:\n",
    "                alt_n += 1\n",
    "            if splicing_cats['alternative C-terminal']:\n",
    "                alt_c += 1\n",
    "            if splicing_cats['alternative internal exon']:\n",
    "                alt_int += 1\n",
    "            if splicing_cats['alternative 5\\' splice site']:\n",
    "                alt_5ss += 1\n",
    "            if splicing_cats['alternative 3\\' splice site']:\n",
    "                alt_3ss += 1\n",
    "            if splicing_cats['exon skipping']:\n",
    "                exon_sk += 1\n",
    "            if splicing_cats['mutually exclusive exons']:\n",
    "                mut_ex += 1\n",
    "            if splicing_cats['intron retention']:\n",
    "                intron_ret += 1\n",
    "\n",
    "            tot += 1\n",
    "\n",
    "    df = pd.DataFrame.from_dict({\"alt. N-terminal\": [alt_n], \"alt. C-terminal\": [alt_c],\n",
    "                              \"alt. internal exon\": [alt_int], \"alt. 5' splice site\": [alt_5ss],\n",
    "                              \"alt. 3' splice site\": [alt_3ss], \"exon skipping\": [exon_sk],\n",
    "                              \"mutually exclusive exons\": [mut_ex], \"intron retention\": [intron_ret],\n",
    "                              \"total\": tot})\n",
    "    df.index = [index]\n",
    "    return df"
   ]
  },
  {
   "cell_type": "code",
   "execution_count": 9,
   "metadata": {},
   "outputs": [
    {
     "data": {
      "text/html": [
       "<div>\n",
       "<style scoped>\n",
       "    .dataframe tbody tr th:only-of-type {\n",
       "        vertical-align: middle;\n",
       "    }\n",
       "\n",
       "    .dataframe tbody tr th {\n",
       "        vertical-align: top;\n",
       "    }\n",
       "\n",
       "    .dataframe thead th {\n",
       "        text-align: right;\n",
       "    }\n",
       "</style>\n",
       "<table border=\"1\" class=\"dataframe\">\n",
       "  <thead>\n",
       "    <tr style=\"text-align: right;\">\n",
       "      <th></th>\n",
       "      <th>alt. N-terminal</th>\n",
       "      <th>alt. C-terminal</th>\n",
       "      <th>alt. internal exon</th>\n",
       "      <th>alt. 5' splice site</th>\n",
       "      <th>alt. 3' splice site</th>\n",
       "      <th>exon skipping</th>\n",
       "      <th>mutually exclusive exons</th>\n",
       "      <th>intron retention</th>\n",
       "      <th>total</th>\n",
       "    </tr>\n",
       "  </thead>\n",
       "  <tbody>\n",
       "    <tr>\n",
       "      <th>gencode</th>\n",
       "      <td>1046</td>\n",
       "      <td>1071</td>\n",
       "      <td>430</td>\n",
       "      <td>686</td>\n",
       "      <td>879</td>\n",
       "      <td>330</td>\n",
       "      <td>26</td>\n",
       "      <td>72</td>\n",
       "      <td>1855</td>\n",
       "    </tr>\n",
       "  </tbody>\n",
       "</table>\n",
       "</div>"
      ],
      "text/plain": [
       "         alt. N-terminal  alt. C-terminal  alt. internal exon  \\\n",
       "gencode             1046             1071                 430   \n",
       "\n",
       "         alt. 5' splice site  alt. 3' splice site  exon skipping  \\\n",
       "gencode                  686                  879            330   \n",
       "\n",
       "         mutually exclusive exons  intron retention  total  \n",
       "gencode                        26                72   1855  "
      ]
     },
     "execution_count": 9,
     "metadata": {},
     "output_type": "execute_result"
    }
   ],
   "source": [
    "genc_df = count_splicing_types(genc_tfs, \"gencode\")\n",
    "genc_df"
   ]
  },
  {
   "cell_type": "code",
   "execution_count": 10,
   "metadata": {},
   "outputs": [
    {
     "data": {
      "text/html": [
       "<div>\n",
       "<style scoped>\n",
       "    .dataframe tbody tr th:only-of-type {\n",
       "        vertical-align: middle;\n",
       "    }\n",
       "\n",
       "    .dataframe tbody tr th {\n",
       "        vertical-align: top;\n",
       "    }\n",
       "\n",
       "    .dataframe thead th {\n",
       "        text-align: right;\n",
       "    }\n",
       "</style>\n",
       "<table border=\"1\" class=\"dataframe\">\n",
       "  <thead>\n",
       "    <tr style=\"text-align: right;\">\n",
       "      <th></th>\n",
       "      <th>alt. N-terminal</th>\n",
       "      <th>alt. C-terminal</th>\n",
       "      <th>alt. internal exon</th>\n",
       "      <th>alt. 5' splice site</th>\n",
       "      <th>alt. 3' splice site</th>\n",
       "      <th>exon skipping</th>\n",
       "      <th>mutually exclusive exons</th>\n",
       "      <th>intron retention</th>\n",
       "      <th>total</th>\n",
       "    </tr>\n",
       "  </thead>\n",
       "  <tbody>\n",
       "    <tr>\n",
       "      <th>TFIso1.0</th>\n",
       "      <td>169</td>\n",
       "      <td>198</td>\n",
       "      <td>136</td>\n",
       "      <td>177</td>\n",
       "      <td>216</td>\n",
       "      <td>116</td>\n",
       "      <td>5</td>\n",
       "      <td>12</td>\n",
       "      <td>447</td>\n",
       "    </tr>\n",
       "  </tbody>\n",
       "</table>\n",
       "</div>"
      ],
      "text/plain": [
       "          alt. N-terminal  alt. C-terminal  alt. internal exon  \\\n",
       "TFIso1.0              169              198                 136   \n",
       "\n",
       "          alt. 5' splice site  alt. 3' splice site  exon skipping  \\\n",
       "TFIso1.0                  177                  216            116   \n",
       "\n",
       "          mutually exclusive exons  intron retention  total  \n",
       "TFIso1.0                         5                12    447  "
      ]
     },
     "execution_count": 10,
     "metadata": {},
     "output_type": "execute_result"
    }
   ],
   "source": [
    "clone_df = count_splicing_types(clone_tfs, \"TFIso1.0\")\n",
    "clone_df"
   ]
  },
  {
   "cell_type": "code",
   "execution_count": 11,
   "metadata": {},
   "outputs": [
    {
     "data": {
      "text/html": [
       "<div>\n",
       "<style scoped>\n",
       "    .dataframe tbody tr th:only-of-type {\n",
       "        vertical-align: middle;\n",
       "    }\n",
       "\n",
       "    .dataframe tbody tr th {\n",
       "        vertical-align: top;\n",
       "    }\n",
       "\n",
       "    .dataframe thead th {\n",
       "        text-align: right;\n",
       "    }\n",
       "</style>\n",
       "<table border=\"1\" class=\"dataframe\">\n",
       "  <thead>\n",
       "    <tr style=\"text-align: right;\">\n",
       "      <th></th>\n",
       "      <th>alt. N-terminal</th>\n",
       "      <th>alt. C-terminal</th>\n",
       "      <th>alt. internal exon</th>\n",
       "      <th>alt. 5' splice site</th>\n",
       "      <th>alt. 3' splice site</th>\n",
       "      <th>exon skipping</th>\n",
       "      <th>mutually exclusive exons</th>\n",
       "      <th>intron retention</th>\n",
       "      <th>total</th>\n",
       "    </tr>\n",
       "  </thead>\n",
       "  <tbody>\n",
       "    <tr>\n",
       "      <th>TFIso1.0 - novel</th>\n",
       "      <td>47</td>\n",
       "      <td>68</td>\n",
       "      <td>81</td>\n",
       "      <td>68</td>\n",
       "      <td>100</td>\n",
       "      <td>69</td>\n",
       "      <td>4</td>\n",
       "      <td>5</td>\n",
       "      <td>183</td>\n",
       "    </tr>\n",
       "  </tbody>\n",
       "</table>\n",
       "</div>"
      ],
      "text/plain": [
       "                  alt. N-terminal  alt. C-terminal  alt. internal exon  \\\n",
       "TFIso1.0 - novel               47               68                  81   \n",
       "\n",
       "                  alt. 5' splice site  alt. 3' splice site  exon skipping  \\\n",
       "TFIso1.0 - novel                   68                  100             69   \n",
       "\n",
       "                  mutually exclusive exons  intron retention  total  \n",
       "TFIso1.0 - novel                         4                 5    183  "
      ]
     },
     "execution_count": 11,
     "metadata": {},
     "output_type": "execute_result"
    }
   ],
   "source": [
    "novel_df = count_splicing_types(clone_tfs, \"TFIso1.0 - novel\")\n",
    "novel_df"
   ]
  },
  {
   "cell_type": "code",
   "execution_count": 12,
   "metadata": {},
   "outputs": [
    {
     "name": "stderr",
     "output_type": "stream",
     "text": [
      "/var/folders/4f/st3pbvs10sd68jl3b4p861h80000gn/T/ipykernel_86578/1462147833.py:1: FutureWarning: The frame.append method is deprecated and will be removed from pandas in a future version. Use pandas.concat instead.\n",
      "  splicing = genc_df.append(clone_df).append(novel_df)\n",
      "/var/folders/4f/st3pbvs10sd68jl3b4p861h80000gn/T/ipykernel_86578/1462147833.py:1: FutureWarning: The frame.append method is deprecated and will be removed from pandas in a future version. Use pandas.concat instead.\n",
      "  splicing = genc_df.append(clone_df).append(novel_df)\n"
     ]
    },
    {
     "data": {
      "text/html": [
       "<div>\n",
       "<style scoped>\n",
       "    .dataframe tbody tr th:only-of-type {\n",
       "        vertical-align: middle;\n",
       "    }\n",
       "\n",
       "    .dataframe tbody tr th {\n",
       "        vertical-align: top;\n",
       "    }\n",
       "\n",
       "    .dataframe thead th {\n",
       "        text-align: right;\n",
       "    }\n",
       "</style>\n",
       "<table border=\"1\" class=\"dataframe\">\n",
       "  <thead>\n",
       "    <tr style=\"text-align: right;\">\n",
       "      <th></th>\n",
       "      <th>index</th>\n",
       "      <th>alt. N-terminal</th>\n",
       "      <th>alt. C-terminal</th>\n",
       "      <th>alt. internal exon</th>\n",
       "      <th>alt. 5' splice site</th>\n",
       "      <th>alt. 3' splice site</th>\n",
       "      <th>exon skipping</th>\n",
       "      <th>mutually exclusive exons</th>\n",
       "      <th>intron retention</th>\n",
       "    </tr>\n",
       "  </thead>\n",
       "  <tbody>\n",
       "    <tr>\n",
       "      <th>0</th>\n",
       "      <td>gencode</td>\n",
       "      <td>0.563881</td>\n",
       "      <td>0.577358</td>\n",
       "      <td>0.231806</td>\n",
       "      <td>0.369811</td>\n",
       "      <td>0.473854</td>\n",
       "      <td>0.177898</td>\n",
       "      <td>0.014016</td>\n",
       "      <td>0.038814</td>\n",
       "    </tr>\n",
       "    <tr>\n",
       "      <th>1</th>\n",
       "      <td>TFIso1.0</td>\n",
       "      <td>0.378076</td>\n",
       "      <td>0.442953</td>\n",
       "      <td>0.304251</td>\n",
       "      <td>0.395973</td>\n",
       "      <td>0.483221</td>\n",
       "      <td>0.259508</td>\n",
       "      <td>0.011186</td>\n",
       "      <td>0.026846</td>\n",
       "    </tr>\n",
       "    <tr>\n",
       "      <th>2</th>\n",
       "      <td>TFIso1.0 - novel</td>\n",
       "      <td>0.256831</td>\n",
       "      <td>0.371585</td>\n",
       "      <td>0.442623</td>\n",
       "      <td>0.371585</td>\n",
       "      <td>0.546448</td>\n",
       "      <td>0.377049</td>\n",
       "      <td>0.021858</td>\n",
       "      <td>0.027322</td>\n",
       "    </tr>\n",
       "  </tbody>\n",
       "</table>\n",
       "</div>"
      ],
      "text/plain": [
       "              index  alt. N-terminal  alt. C-terminal  alt. internal exon  \\\n",
       "0           gencode         0.563881         0.577358            0.231806   \n",
       "1          TFIso1.0         0.378076         0.442953            0.304251   \n",
       "2  TFIso1.0 - novel         0.256831         0.371585            0.442623   \n",
       "\n",
       "   alt. 5' splice site  alt. 3' splice site  exon skipping  \\\n",
       "0             0.369811             0.473854       0.177898   \n",
       "1             0.395973             0.483221       0.259508   \n",
       "2             0.371585             0.546448       0.377049   \n",
       "\n",
       "   mutually exclusive exons  intron retention  \n",
       "0                  0.014016          0.038814  \n",
       "1                  0.011186          0.026846  \n",
       "2                  0.021858          0.027322  "
      ]
     },
     "execution_count": 12,
     "metadata": {},
     "output_type": "execute_result"
    }
   ],
   "source": [
    "splicing = genc_df.append(clone_df).append(novel_df)\n",
    "splicing_tot = splicing[\"total\"]\n",
    "splicing = splicing.drop(\"total\", axis=1)\n",
    "splicing_perc = splicing.divide(splicing_tot, axis='rows').reset_index()\n",
    "splicing_perc"
   ]
  },
  {
   "cell_type": "code",
   "execution_count": 13,
   "metadata": {},
   "outputs": [],
   "source": [
    "splicing_perc_melt = pd.melt(splicing_perc, id_vars=\"index\")"
   ]
  },
  {
   "cell_type": "code",
   "execution_count": 14,
   "metadata": {},
   "outputs": [
    {
     "name": "stdout",
     "output_type": "stream",
     "text": [
      "Palette 'VanGogh2' has '8' discrete colors\n"
     ]
    },
    {
     "data": {
      "image/png": "[encoded data removed]",
      "text/plain": [
       "<Figure size 800x100 with 1 Axes>"
      ]
     },
     "metadata": {},
     "output_type": "display_data"
    }
   ],
   "source": [
    "colors = met_brewer.met_brew(name=\"VanGogh2\")\n",
    "sns.palplot(colors)"
   ]
  },
  {
   "cell_type": "code",
   "execution_count": 15,
   "metadata": {},
   "outputs": [
    {
     "name": "stderr",
     "output_type": "stream",
     "text": [
      "1 extra bytes in post.stringData array\n",
      "'created' timestamp seems very low; regarding as unix timestamp\n",
      "Zapf NOT subset; don't know how to subset; dropped\n",
      "feat NOT subset; don't know how to subset; dropped\n",
      "meta NOT subset; don't know how to subset; dropped\n",
      "morx NOT subset; don't know how to subset; dropped\n"
     ]
    },
    {
     "data": {
      "image/png": "[encoded data removed]",
      "text/plain": [
       "<Figure size 225x150 with 1 Axes>"
      ]
     },
     "metadata": {},
     "output_type": "display_data"
    }
   ],
   "source": [
    "fig = plt.figure(figsize=(2.25, 1.5))\n",
    "\n",
    "ax = sns.barplot(data=splicing_perc_melt, \n",
    "                 x=\"variable\", \n",
    "                 y=\"value\", \n",
    "                 hue=\"index\", \n",
    "                 palette={\"gencode\": colors[2],\n",
    "                                                                                         \"TFIso1.0\": colors[4],\n",
    "                                                                                         \"TFIso1.0 - novel\": colors[7]})\n",
    "ax.set_xlabel(\"\")\n",
    "ax.set_xticklabels(list(splicing_perc_melt[\"variable\"].unique()), \n",
    "                   ha=\"right\", \n",
    "                   va=\"top\", \n",
    "                   rotation=30)\n",
    "ax.set_ylabel(\"Percentage of\\nalternative isoforms\")\n",
    "\n",
    "\n",
    "plt.legend(loc=2, bbox_to_anchor=(1.01, 1), frameon=False)\n",
    "\n",
    "ax.spines['right'].set_visible(False)\n",
    "ax.spines['bottom'].set_visible(False)\n",
    "ax.spines['top'].set_visible(False)\n",
    "\n",
    "\n",
    "ax.set_yticks(np.linspace(0, 0.6, 4))\n",
    "ax.set_yticks(np.linspace(0, 0.6, 7), minor=True)\n",
    "ax.set_yticklabels([f'{y:.0%}' for y in ax.get_yticks()])\n",
    "\n",
    "fig.savefig(\"../../figures/fig2/splicing_cats.pdf\", \n",
    "            dpi=\"figure\", \n",
    "            bbox_inches=\"tight\")"
   ]
  },
  {
   "cell_type": "markdown",
   "metadata": {},
   "source": [
    "## 3. expression of novel isoforms compared to annotated ref/alt\n",
    "\n",
    "using the same dummy, downsampled data as in fig1 for consistency"
   ]
  },
  {
   "cell_type": "code",
   "execution_count": 16,
   "metadata": {},
   "outputs": [
    {
     "data": {
      "text/html": [
       "<div>\n",
       "<style scoped>\n",
       "    .dataframe tbody tr th:only-of-type {\n",
       "        vertical-align: middle;\n",
       "    }\n",
       "\n",
       "    .dataframe tbody tr th {\n",
       "        vertical-align: top;\n",
       "    }\n",
       "\n",
       "    .dataframe thead th {\n",
       "        text-align: right;\n",
       "    }\n",
       "</style>\n",
       "<table border=\"1\" class=\"dataframe\">\n",
       "  <thead>\n",
       "    <tr style=\"text-align: right;\">\n",
       "      <th></th>\n",
       "      <th>gene_name</th>\n",
       "      <th>status</th>\n",
       "    </tr>\n",
       "  </thead>\n",
       "  <tbody>\n",
       "    <tr>\n",
       "      <th>ZBTB18|1/2|04E08</th>\n",
       "      <td>ZBTB18</td>\n",
       "      <td>ref</td>\n",
       "    </tr>\n",
       "    <tr>\n",
       "      <th>ZBTB18|2/2|12E05</th>\n",
       "      <td>ZBTB18</td>\n",
       "      <td>alt</td>\n",
       "    </tr>\n",
       "    <tr>\n",
       "      <th>PRRX1|2/3|09F06</th>\n",
       "      <td>PRRX1</td>\n",
       "      <td>ref</td>\n",
       "    </tr>\n",
       "    <tr>\n",
       "      <th>PRRX1|1/3|09C07</th>\n",
       "      <td>PRRX1</td>\n",
       "      <td>alt</td>\n",
       "    </tr>\n",
       "    <tr>\n",
       "      <th>PRRX1|3/3|09H08</th>\n",
       "      <td>PRRX1</td>\n",
       "      <td>alt</td>\n",
       "    </tr>\n",
       "    <tr>\n",
       "      <th>...</th>\n",
       "      <td>...</td>\n",
       "      <td>...</td>\n",
       "    </tr>\n",
       "    <tr>\n",
       "      <th>HDX|2/2|09H10</th>\n",
       "      <td>HDX</td>\n",
       "      <td>novel</td>\n",
       "    </tr>\n",
       "    <tr>\n",
       "      <th>HSFY1|1/2|12F03</th>\n",
       "      <td>HSFY1</td>\n",
       "      <td>ref</td>\n",
       "    </tr>\n",
       "    <tr>\n",
       "      <th>HSFY1|2/2|11F06</th>\n",
       "      <td>HSFY1</td>\n",
       "      <td>alt</td>\n",
       "    </tr>\n",
       "    <tr>\n",
       "      <th>ZFY|1/2|06H10</th>\n",
       "      <td>ZFY</td>\n",
       "      <td>novel</td>\n",
       "    </tr>\n",
       "    <tr>\n",
       "      <th>ZFY|2/2|06E10</th>\n",
       "      <td>ZFY</td>\n",
       "      <td>novel</td>\n",
       "    </tr>\n",
       "  </tbody>\n",
       "</table>\n",
       "<p>693 rows × 2 columns</p>\n",
       "</div>"
      ],
      "text/plain": [
       "                 gene_name status\n",
       "ZBTB18|1/2|04E08    ZBTB18    ref\n",
       "ZBTB18|2/2|12E05    ZBTB18    alt\n",
       "PRRX1|2/3|09F06      PRRX1    ref\n",
       "PRRX1|1/3|09C07      PRRX1    alt\n",
       "PRRX1|3/3|09H08      PRRX1    alt\n",
       "...                    ...    ...\n",
       "HDX|2/2|09H10          HDX  novel\n",
       "HSFY1|1/2|12F03      HSFY1    ref\n",
       "HSFY1|2/2|11F06      HSFY1    alt\n",
       "ZFY|1/2|06H10          ZFY  novel\n",
       "ZFY|2/2|06E10          ZFY  novel\n",
       "\n",
       "[693 rows x 2 columns]"
      ]
     },
     "execution_count": 16,
     "metadata": {},
     "output_type": "execute_result"
    }
   ],
   "source": [
    "status_map = {}\n",
    "\n",
    "# only loop through clone collection\n",
    "for tf in clone_tfs.keys():\n",
    "    gene = clone_tfs[tf]\n",
    "    \n",
    "    try:\n",
    "        annot_ref = gene.reference_isoform.name\n",
    "    except:\n",
    "        annot_ref = \"none\"\n",
    "        \n",
    "    try:\n",
    "        annot_alt = gene.alternative_isoforms\n",
    "    except:\n",
    "        annot_alt = []\n",
    "        \n",
    "    for iso in gene.cloned_isoforms:\n",
    "        if iso.name == annot_ref:\n",
    "            status_map[iso.clone_acc] = {\"gene_name\": tf, \"status\": \"ref\"}\n",
    "        elif iso.is_novel_isoform():\n",
    "            status_map[iso.clone_acc] = {\"gene_name\": tf, \"status\": \"novel\"}\n",
    "        else:\n",
    "            status_map[iso.clone_acc] = {\"gene_name\": tf, \"status\": \"alt\"}\n",
    "\n",
    "status_map = pd.DataFrame.from_dict(status_map, orient=\"index\")\n",
    "status_map"
   ]
  },
  {
   "cell_type": "code",
   "execution_count": 17,
   "metadata": {},
   "outputs": [
    {
     "data": {
      "text/html": [
       "<div>\n",
       "<style scoped>\n",
       "    .dataframe tbody tr th:only-of-type {\n",
       "        vertical-align: middle;\n",
       "    }\n",
       "\n",
       "    .dataframe tbody tr th {\n",
       "        vertical-align: top;\n",
       "    }\n",
       "\n",
       "    .dataframe thead th {\n",
       "        text-align: right;\n",
       "    }\n",
       "</style>\n",
       "<table border=\"1\" class=\"dataframe\">\n",
       "  <thead>\n",
       "    <tr style=\"text-align: right;\">\n",
       "      <th></th>\n",
       "      <th>status</th>\n",
       "    </tr>\n",
       "  </thead>\n",
       "  <tbody>\n",
       "    <tr>\n",
       "      <th>alt</th>\n",
       "      <td>333</td>\n",
       "    </tr>\n",
       "    <tr>\n",
       "      <th>novel</th>\n",
       "      <td>183</td>\n",
       "    </tr>\n",
       "    <tr>\n",
       "      <th>ref</th>\n",
       "      <td>177</td>\n",
       "    </tr>\n",
       "  </tbody>\n",
       "</table>\n",
       "</div>"
      ],
      "text/plain": [
       "       status\n",
       "alt       333\n",
       "novel     183\n",
       "ref       177"
      ]
     },
     "execution_count": 17,
     "metadata": {},
     "output_type": "execute_result"
    }
   ],
   "source": [
    "vc = pd.DataFrame(status_map.status.value_counts())\n",
    "vc"
   ]
  },
  {
   "cell_type": "code",
   "execution_count": 18,
   "metadata": {},
   "outputs": [
    {
     "name": "stdout",
     "output_type": "stream",
     "text": [
      "NUM OF ISOFORMS IN TF1.0 THAT MATCH GENCODE ANNOTATIONS: 510\n"
     ]
    }
   ],
   "source": [
    "print(\"NUM OF ISOFORMS IN TF1.0 THAT MATCH GENCODE ANNOTATIONS: %s\" % (vc.loc[[\"alt\", \"ref\"]][\"status\"].sum()))"
   ]
  },
  {
   "cell_type": "code",
   "execution_count": 19,
   "metadata": {},
   "outputs": [
    {
     "name": "stdout",
     "output_type": "stream",
     "text": [
      "NUM OF ISOFORMS IN TF1.0 THAT ARE NOVEL: 183\n",
      "PERCENT OF ISOFORMS IN TF1.0 THAT ARE NOVEL: 26.406926406926406\n"
     ]
    }
   ],
   "source": [
    "print(\"NUM OF ISOFORMS IN TF1.0 THAT ARE NOVEL: %s\" % (vc.loc[\"novel\"][\"status\"]))\n",
    "print(\"PERCENT OF ISOFORMS IN TF1.0 THAT ARE NOVEL: %s\" % (vc.loc[\"novel\"][\"status\"]/vc[\"status\"].sum()*100))"
   ]
  },
  {
   "cell_type": "code",
   "execution_count": 20,
   "metadata": {},
   "outputs": [
    {
     "name": "stdout",
     "output_type": "stream",
     "text": [
      "reading from cache\n"
     ]
    }
   ],
   "source": [
    "df_dev, metadata_dev, genes_dev = load_developmental_tissue_expression_remapped()\n",
    "\n",
    "rename_dev_stage = {'8 week post conception,embryo': '08',\n",
    "'11 week post conception,late embryo': '11',\n",
    "'embryo,7 week post conception': '07',\n",
    "'infant': 'infant',\n",
    "'10 week post conception,late embryo': '10',\n",
    "'young adult': 'young adult',\n",
    "'13 week post conception,late embryo': '13',\n",
    "'16 week post conception,late embryo': '16',\n",
    "'4 week post conception,embryo': '04',\n",
    "'neonate': 'neonate',\n",
    "'19 week post conception,late embryo': '19',\n",
    "'9 week post conception,late embryo': '09',\n",
    "'adolescent': 'adolescent',\n",
    "'5 week post conception,embryo': '05',\n",
    "'embryo,6 week post conception': '06',\n",
    "'12 week post conception,late embryo': '12',\n",
    "'18 week post conception,late embryo': '18',\n",
    "'toddler': 'toddler',\n",
    "'elderly': 'elderly',\n",
    "'middle adult': 'adult',\n",
    "'school age child': 'child'}\n",
    "\n",
    "metadata_dev['dev_stage'] = metadata_dev['Developmental_Stage'].map(rename_dev_stage)\n",
    "means_dev = (df_dev.groupby(df_dev.columns.map(metadata_dev['organism_part'] + ' ' + metadata_dev['dev_stage']), axis=1)\n",
    "           .mean())"
   ]
  },
  {
   "cell_type": "code",
   "execution_count": 21,
   "metadata": {},
   "outputs": [
    {
     "name": "stdout",
     "output_type": "stream",
     "text": [
      "reading from cache\n"
     ]
    }
   ],
   "source": [
    "df_gtex, metadata_gtex, genes_gtex = load_gtex_remapped()\n",
    "\n",
    "exclusion_list_gtex = {'Cells - Leukemia cell line (CML)',\n",
    "                       'Cells - EBV-transformed lymphocytes',\n",
    "                       'Cells - Cultured fibroblasts'}\n",
    "\n",
    "df_gtex = df_gtex.loc[:, ~df_gtex.columns.map(metadata_gtex['body_site']).isin(exclusion_list_gtex)]\n",
    "metadata_gtex = metadata_gtex.loc[~metadata_gtex['body_site'].isin(exclusion_list_gtex), :]\n",
    "\n",
    "means_gtex = df_gtex.groupby(df_gtex.columns.map(metadata_gtex['body_site']), axis=1).mean()"
   ]
  },
  {
   "cell_type": "code",
   "execution_count": 22,
   "metadata": {},
   "outputs": [],
   "source": [
    "metadata_gtex_dummy = pd.read_table(\"../../data/processed/metadata_gtex_dummy.csv\", sep=\",\", index_col=0)\n",
    "\n",
    "# use same downsample as fig1\n",
    "means_gtex_downsample = df_gtex.groupby(df_gtex.columns.map(metadata_gtex_dummy['body_site']), axis=1).mean()\n",
    "\n",
    "means_dev[\"median\"] = means_dev.median(axis=1)\n",
    "means_dev[\"max\"] = means_dev.max(axis=1)\n",
    "\n",
    "means_gtex_downsample[\"median\"] = means_gtex_downsample.median(axis=1)\n",
    "means_gtex_downsample[\"max\"] = means_gtex_downsample.max(axis=1)"
   ]
  },
  {
   "cell_type": "code",
   "execution_count": 23,
   "metadata": {},
   "outputs": [],
   "source": [
    "dev_mm = means_dev[[\"median\", \"max\"]].reset_index()\n",
    "gtex_ds_mm = means_gtex_downsample[[\"median\", \"max\"]].reset_index()"
   ]
  },
  {
   "cell_type": "code",
   "execution_count": 24,
   "metadata": {},
   "outputs": [],
   "source": [
    "dev_mm[\"clone_acc\"] = dev_mm[\"UID\"].str.split(\" \", expand=True)[0]\n",
    "gtex_ds_mm[\"clone_acc\"] = gtex_ds_mm[\"UID\"].str.split(\" \", expand=True)[0]\n",
    "mm = dev_mm[dev_mm[\"clone_acc\"] != \"noclone\"].merge(gtex_ds_mm[gtex_ds_mm[\"clone_acc\"] != \"noclone\"], \n",
    "                                                    on=\"clone_acc\", suffixes=(\"_dev\", \"_gtex_ds\"))"
   ]
  },
  {
   "cell_type": "code",
   "execution_count": 25,
   "metadata": {},
   "outputs": [],
   "source": [
    "status_map = status_map.reset_index()\n",
    "status_map[\"clone_acc\"] = status_map[\"index\"].str.split(\" \", expand=True)[0]\n",
    "\n",
    "exp_nov = status_map.merge(mm, on=\"clone_acc\")\n",
    "exp_nov_melt = pd.melt(exp_nov, id_vars=[\"index\", \"gene_name\", \"status\", \"clone_acc\"], value_vars=[\"median_dev\",\n",
    "                                                                                                   \"max_dev\",\n",
    "                                                                                                   \"median_gtex_ds\",\n",
    "                                                                                                   \"max_gtex_ds\"])\n",
    "exp_nov_melt[\"measurement\"] = exp_nov_melt[\"variable\"].str.split(\"_\", expand=True)[0]"
   ]
  },
  {
   "cell_type": "code",
   "execution_count": 26,
   "metadata": {},
   "outputs": [
    {
     "name": "stdout",
     "output_type": "stream",
     "text": [
      "Palette 'Monet' has '9' discrete colors\n"
     ]
    },
    {
     "data": {
      "image/png": "[encoded data removed]",
      "text/plain": [
       "<Figure size 900x100 with 1 Axes>"
      ]
     },
     "metadata": {},
     "output_type": "display_data"
    }
   ],
   "source": [
    "colors = met_brewer.met_brew(name=\"Monet\")\n",
    "sns.palplot(colors)"
   ]
  },
  {
   "cell_type": "code",
   "execution_count": 27,
   "metadata": {},
   "outputs": [
    {
     "name": "stderr",
     "output_type": "stream",
     "text": [
      "1 extra bytes in post.stringData array\n",
      "'created' timestamp seems very low; regarding as unix timestamp\n",
      "Zapf NOT subset; don't know how to subset; dropped\n",
      "feat NOT subset; don't know how to subset; dropped\n",
      "meta NOT subset; don't know how to subset; dropped\n",
      "morx NOT subset; don't know how to subset; dropped\n"
     ]
    },
    {
     "data": {
      "image/png": "[encoded data removed]",
      "text/plain": [
       "<Figure size 150x150 with 1 Axes>"
      ]
     },
     "metadata": {},
     "output_type": "display_data"
    }
   ],
   "source": [
    "fig = plt.figure(figsize=(1.5, 1.5))\n",
    "\n",
    "exp_nov_melt[\"value_log2\"] = np.log2(exp_nov_melt[\"value\"]+1)\n",
    "ax = sns.boxplot(data=exp_nov_melt[exp_nov_melt[\"variable\"].str.contains(\"dev\")], \n",
    "                 x=\"status\", \n",
    "                 y=\"value\", \n",
    "                 hue=\"measurement\", \n",
    "                 palette={\"median\": colors[7],\n",
    "                          \"max\": colors[6]}, \n",
    "                 flierprops={\"marker\": \"o\"}, \n",
    "                 fliersize=4, \n",
    "                 notch=True)\n",
    "\n",
    "mimic_r_boxplot(ax)\n",
    "\n",
    "plt.legend(loc=2, bbox_to_anchor=(1.01, 1), frameon=False)\n",
    "\n",
    "ax.set_xlabel(\"Clone category\")\n",
    "ax.set_ylabel(\"Isoform expression (TPM)\")\n",
    "\n",
    "ax.spines['right'].set_visible(False)\n",
    "ax.spines['top'].set_visible(False)\n",
    "ax.spines['bottom'].set_visible(False)\n",
    "ax.xaxis.set_tick_params(length=0)\n",
    "\n",
    "fig.savefig(\"../../figures/fig2/novel_isos.dev_expr_boxplot.pdf\", \n",
    "            dpi=\"figure\", \n",
    "            bbox_inches=\"tight\")"
   ]
  },
  {
   "cell_type": "code",
   "execution_count": 28,
   "metadata": {},
   "outputs": [
    {
     "name": "stderr",
     "output_type": "stream",
     "text": [
      "1 extra bytes in post.stringData array\n",
      "'created' timestamp seems very low; regarding as unix timestamp\n",
      "Zapf NOT subset; don't know how to subset; dropped\n",
      "feat NOT subset; don't know how to subset; dropped\n",
      "meta NOT subset; don't know how to subset; dropped\n",
      "morx NOT subset; don't know how to subset; dropped\n"
     ]
    },
    {
     "data": {
      "image/png": "[encoded data removed]",
      "text/plain": [
       "<Figure size 130x140 with 1 Axes>"
      ]
     },
     "metadata": {},
     "output_type": "display_data"
    }
   ],
   "source": [
    "fig = plt.figure(figsize=(1.3, 1.4))\n",
    "\n",
    "ax = sns.boxplot(data=exp_nov_melt[exp_nov_melt[\"variable\"].str.contains(\"dev\")], \n",
    "                 x=\"status\", \n",
    "                 y=\"value_log2\", \n",
    "                 hue=\"measurement\", \n",
    "                 palette={\"median\": colors[7],\n",
    "                          \"max\": colors[6]}, \n",
    "                 flierprops={\"marker\": \"o\"}, \n",
    "                 fliersize=4, \n",
    "                 notch=True)\n",
    "\n",
    "mimic_r_boxplot(ax)\n",
    "\n",
    "plt.legend(loc=2, bbox_to_anchor=(1.01, 1), frameon=False)\n",
    "\n",
    "ax.set_xlabel(\"Clone category\")\n",
    "ax.set_ylabel(\"Isoform expression (TPM)\")\n",
    "\n",
    "ticks = [0, 1, 5, 10, 20, 30]\n",
    "ticklabels = [0, 1, 5, 10, 20, 30]\n",
    "ax.set_yticks([np.log2(y + 1) for y in ticks])\n",
    "ax.set_yticklabels(ticklabels)\n",
    "ax.tick_params(axis='y', labelsize=fontsize-2)\n",
    "ax.set_ylim(0, np.log2(31))\n",
    "plt.title(\"Developmental RNA-seq\")\n",
    "\n",
    "ax.spines['right'].set_visible(False)\n",
    "ax.spines['top'].set_visible(False)\n",
    "ax.spines['bottom'].set_visible(False)\n",
    "ax.xaxis.set_tick_params(length=0)\n",
    "\n",
    "fig.savefig(\"../../figures/fig2/novel_isos.dev_expr_boxplot.log2.pdf\", dpi=\"figure\", bbox_inches=\"tight\")"
   ]
  },
  {
   "cell_type": "code",
   "execution_count": 29,
   "metadata": {},
   "outputs": [
    {
     "name": "stderr",
     "output_type": "stream",
     "text": [
      "1 extra bytes in post.stringData array\n",
      "'created' timestamp seems very low; regarding as unix timestamp\n",
      "Zapf NOT subset; don't know how to subset; dropped\n",
      "feat NOT subset; don't know how to subset; dropped\n",
      "meta NOT subset; don't know how to subset; dropped\n",
      "morx NOT subset; don't know how to subset; dropped\n"
     ]
    },
    {
     "data": {
      "image/png": "[encoded data removed]",
      "text/plain": [
       "<Figure size 120x130 with 1 Axes>"
      ]
     },
     "metadata": {},
     "output_type": "display_data"
    }
   ],
   "source": [
    "fig = plt.figure(figsize=(1.2, 1.3))\n",
    "\n",
    "ax = sns.boxplot(data=exp_nov_melt[exp_nov_melt[\"variable\"].str.contains(\"gtex_ds\")], \n",
    "                 x=\"status\", \n",
    "                 y=\"value_log2\", \n",
    "                 hue=\"measurement\", \n",
    "                 palette={\"median\": colors[7],\n",
    "                          \"max\": colors[6]}, \n",
    "                 flierprops={\"marker\": \"o\"}, \n",
    "                 fliersize=4, \n",
    "                 notch=True)\n",
    "\n",
    "mimic_r_boxplot(ax)\n",
    "\n",
    "plt.legend(loc=2, bbox_to_anchor=(1.01, 1), frameon=False)\n",
    "\n",
    "ax.set_xlabel(\"Clone category\")\n",
    "ax.set_ylabel(\"Isoform expression (TPM)\")\n",
    "ticks = [0, 1, 5, 10, 20, 30, 50]\n",
    "ticklabels = [0, 1, 5, 10, 20, 30, 50]\n",
    "ax.set_yticks([np.log2(y + 1) for y in ticks])\n",
    "ax.set_yticklabels(ticklabels)\n",
    "\n",
    "ax.set_ylim(0, np.log2(51))\n",
    "ax.tick_params(axis='y', labelsize=fontsize-2)\n",
    "plt.title(\"GTEx (down-sampled)\")\n",
    "\n",
    "ax.spines['right'].set_visible(False)\n",
    "ax.spines['top'].set_visible(False)\n",
    "ax.spines['bottom'].set_visible(False)\n",
    "ax.xaxis.set_tick_params(length=0)\n",
    "\n",
    "fig.savefig(\"../../figures/fig2/novel_isos.gtex_ds_expr_boxplot.log2.pdf\", \n",
    "            dpi=\"figure\", \n",
    "            bbox_inches=\"tight\")"
   ]
  },
  {
   "cell_type": "code",
   "execution_count": 30,
   "metadata": {},
   "outputs": [
    {
     "data": {
      "text/html": [
       "<div>\n",
       "<style scoped>\n",
       "    .dataframe tbody tr th:only-of-type {\n",
       "        vertical-align: middle;\n",
       "    }\n",
       "\n",
       "    .dataframe tbody tr th {\n",
       "        vertical-align: top;\n",
       "    }\n",
       "\n",
       "    .dataframe thead th {\n",
       "        text-align: right;\n",
       "    }\n",
       "</style>\n",
       "<table border=\"1\" class=\"dataframe\">\n",
       "  <thead>\n",
       "    <tr style=\"text-align: right;\">\n",
       "      <th></th>\n",
       "      <th>index</th>\n",
       "      <th>gene_name</th>\n",
       "      <th>status</th>\n",
       "      <th>clone_acc</th>\n",
       "      <th>variable</th>\n",
       "      <th>value</th>\n",
       "      <th>measurement</th>\n",
       "      <th>value_log2</th>\n",
       "    </tr>\n",
       "  </thead>\n",
       "  <tbody>\n",
       "    <tr>\n",
       "      <th>0</th>\n",
       "      <td>ZBTB18|1/2|04E08</td>\n",
       "      <td>ZBTB18</td>\n",
       "      <td>ref</td>\n",
       "      <td>ZBTB18|1/2|04E08</td>\n",
       "      <td>median_dev</td>\n",
       "      <td>3.112705</td>\n",
       "      <td>median</td>\n",
       "      <td>2.040088</td>\n",
       "    </tr>\n",
       "    <tr>\n",
       "      <th>1</th>\n",
       "      <td>ZBTB18|2/2|12E05</td>\n",
       "      <td>ZBTB18</td>\n",
       "      <td>alt</td>\n",
       "      <td>ZBTB18|2/2|12E05</td>\n",
       "      <td>median_dev</td>\n",
       "      <td>2.914794</td>\n",
       "      <td>median</td>\n",
       "      <td>1.968936</td>\n",
       "    </tr>\n",
       "    <tr>\n",
       "      <th>2</th>\n",
       "      <td>PRRX1|2/3|09F06</td>\n",
       "      <td>PRRX1</td>\n",
       "      <td>ref</td>\n",
       "      <td>PRRX1|2/3|09F06</td>\n",
       "      <td>median_dev</td>\n",
       "      <td>2.531154</td>\n",
       "      <td>median</td>\n",
       "      <td>1.820140</td>\n",
       "    </tr>\n",
       "    <tr>\n",
       "      <th>3</th>\n",
       "      <td>PRRX1|1/3|09C07</td>\n",
       "      <td>PRRX1</td>\n",
       "      <td>alt</td>\n",
       "      <td>PRRX1|1/3|09C07</td>\n",
       "      <td>median_dev</td>\n",
       "      <td>0.765270</td>\n",
       "      <td>median</td>\n",
       "      <td>0.819889</td>\n",
       "    </tr>\n",
       "    <tr>\n",
       "      <th>4</th>\n",
       "      <td>PRRX1|3/3|09H08</td>\n",
       "      <td>PRRX1</td>\n",
       "      <td>alt</td>\n",
       "      <td>PRRX1|3/3|09H08</td>\n",
       "      <td>median_dev</td>\n",
       "      <td>0.996277</td>\n",
       "      <td>median</td>\n",
       "      <td>0.997312</td>\n",
       "    </tr>\n",
       "  </tbody>\n",
       "</table>\n",
       "</div>"
      ],
      "text/plain": [
       "              index gene_name status         clone_acc    variable     value  \\\n",
       "0  ZBTB18|1/2|04E08    ZBTB18    ref  ZBTB18|1/2|04E08  median_dev  3.112705   \n",
       "1  ZBTB18|2/2|12E05    ZBTB18    alt  ZBTB18|2/2|12E05  median_dev  2.914794   \n",
       "2   PRRX1|2/3|09F06     PRRX1    ref   PRRX1|2/3|09F06  median_dev  2.531154   \n",
       "3   PRRX1|1/3|09C07     PRRX1    alt   PRRX1|1/3|09C07  median_dev  0.765270   \n",
       "4   PRRX1|3/3|09H08     PRRX1    alt   PRRX1|3/3|09H08  median_dev  0.996277   \n",
       "\n",
       "  measurement  value_log2  \n",
       "0      median    2.040088  \n",
       "1      median    1.968936  \n",
       "2      median    1.820140  \n",
       "3      median    0.819889  \n",
       "4      median    0.997312  "
      ]
     },
     "execution_count": 30,
     "metadata": {},
     "output_type": "execute_result"
    }
   ],
   "source": [
    "#DEBUG\n",
    "exp_nov_melt.head()"
   ]
  },
  {
   "cell_type": "code",
   "execution_count": 31,
   "metadata": {},
   "outputs": [
    {
     "name": "stderr",
     "output_type": "stream",
     "text": [
      "1 extra bytes in post.stringData array\n",
      "'created' timestamp seems very low; regarding as unix timestamp\n",
      "Zapf NOT subset; don't know how to subset; dropped\n",
      "feat NOT subset; don't know how to subset; dropped\n",
      "meta NOT subset; don't know how to subset; dropped\n",
      "morx NOT subset; don't know how to subset; dropped\n"
     ]
    },
    {
     "data": {
      "image/png": "[encoded data removed]",
      "text/plain": [
       "<Figure size 150x150 with 1 Axes>"
      ]
     },
     "metadata": {},
     "output_type": "display_data"
    }
   ],
   "source": [
    "fig = plt.figure(figsize=(1.5, 1.5))\n",
    "\n",
    "ax = sns.boxplot(data=exp_nov_melt[exp_nov_melt[\"variable\"].str.contains(\"gtex_ds\")], \n",
    "                 x=\"status\", y=\"value\", hue=\"measurement\", palette={\"median\": colors[7],\n",
    "                                                                    \"max\": colors[6]}, \n",
    "                 flierprops={\"marker\": \"o\"}, fliersize=4, notch=True)\n",
    "\n",
    "mimic_r_boxplot(ax)\n",
    "\n",
    "plt.legend(loc=2, bbox_to_anchor=(1.01, 1), frameon=False)\n",
    "\n",
    "ax.set_xlabel(\"Clone category\")\n",
    "ax.set_ylabel(\"Isoform expression (TPM)\")\n",
    "\n",
    "\n",
    "plt.title(\"GTEx (down-sampled)\")\n",
    "\n",
    "ax.spines['right'].set_visible(False)\n",
    "ax.spines['top'].set_visible(False)\n",
    "ax.spines['bottom'].set_visible(False)\n",
    "ax.xaxis.set_tick_params(length=0)\n",
    "ax.set_ylim(0, None)\n",
    "\n",
    "\n",
    "fig.savefig(\"../../figures/fig2/novel_isos.gtex_ds_expr_boxplot.pdf\", dpi=\"figure\", bbox_inches=\"tight\")"
   ]
  },
  {
   "cell_type": "code",
   "execution_count": 32,
   "metadata": {},
   "outputs": [
    {
     "data": {
      "text/html": [
       "<div>\n",
       "<style scoped>\n",
       "    .dataframe tbody tr th:only-of-type {\n",
       "        vertical-align: middle;\n",
       "    }\n",
       "\n",
       "    .dataframe tbody tr th {\n",
       "        vertical-align: top;\n",
       "    }\n",
       "\n",
       "    .dataframe thead th {\n",
       "        text-align: right;\n",
       "    }\n",
       "</style>\n",
       "<table border=\"1\" class=\"dataframe\">\n",
       "  <thead>\n",
       "    <tr style=\"text-align: right;\">\n",
       "      <th></th>\n",
       "      <th>index</th>\n",
       "      <th>gene_name</th>\n",
       "      <th>status</th>\n",
       "      <th>clone_acc</th>\n",
       "      <th>UID</th>\n",
       "      <th>variable</th>\n",
       "      <th>value</th>\n",
       "    </tr>\n",
       "  </thead>\n",
       "  <tbody>\n",
       "    <tr>\n",
       "      <th>0</th>\n",
       "      <td>ZBTB18|1/2|04E08</td>\n",
       "      <td>ZBTB18</td>\n",
       "      <td>ref</td>\n",
       "      <td>ZBTB18|1/2|04E08</td>\n",
       "      <td>ZBTB18|1/2|04E08 ZBTB18-201</td>\n",
       "      <td>n_over1</td>\n",
       "      <td>118</td>\n",
       "    </tr>\n",
       "    <tr>\n",
       "      <th>1</th>\n",
       "      <td>ZBTB18|2/2|12E05</td>\n",
       "      <td>ZBTB18</td>\n",
       "      <td>alt</td>\n",
       "      <td>ZBTB18|2/2|12E05</td>\n",
       "      <td>ZBTB18|2/2|12E05 ZBTB18-202</td>\n",
       "      <td>n_over1</td>\n",
       "      <td>120</td>\n",
       "    </tr>\n",
       "    <tr>\n",
       "      <th>2</th>\n",
       "      <td>PRRX1|2/3|09F06</td>\n",
       "      <td>PRRX1</td>\n",
       "      <td>ref</td>\n",
       "      <td>PRRX1|2/3|09F06</td>\n",
       "      <td>PRRX1|2/3|09F06 PRRX1-201</td>\n",
       "      <td>n_over1</td>\n",
       "      <td>93</td>\n",
       "    </tr>\n",
       "    <tr>\n",
       "      <th>3</th>\n",
       "      <td>PRRX1|1/3|09C07</td>\n",
       "      <td>PRRX1</td>\n",
       "      <td>alt</td>\n",
       "      <td>PRRX1|1/3|09C07</td>\n",
       "      <td>PRRX1|1/3|09C07 PRRX1-202</td>\n",
       "      <td>n_over1</td>\n",
       "      <td>51</td>\n",
       "    </tr>\n",
       "    <tr>\n",
       "      <th>4</th>\n",
       "      <td>PRRX1|3/3|09H08</td>\n",
       "      <td>PRRX1</td>\n",
       "      <td>alt</td>\n",
       "      <td>PRRX1|3/3|09H08</td>\n",
       "      <td>PRRX1|3/3|09H08 PRRX1-207</td>\n",
       "      <td>n_over1</td>\n",
       "      <td>63</td>\n",
       "    </tr>\n",
       "  </tbody>\n",
       "</table>\n",
       "</div>"
      ],
      "text/plain": [
       "              index gene_name status         clone_acc  \\\n",
       "0  ZBTB18|1/2|04E08    ZBTB18    ref  ZBTB18|1/2|04E08   \n",
       "1  ZBTB18|2/2|12E05    ZBTB18    alt  ZBTB18|2/2|12E05   \n",
       "2   PRRX1|2/3|09F06     PRRX1    ref   PRRX1|2/3|09F06   \n",
       "3   PRRX1|1/3|09C07     PRRX1    alt   PRRX1|1/3|09C07   \n",
       "4   PRRX1|3/3|09H08     PRRX1    alt   PRRX1|3/3|09H08   \n",
       "\n",
       "                           UID variable  value  \n",
       "0  ZBTB18|1/2|04E08 ZBTB18-201  n_over1    118  \n",
       "1  ZBTB18|2/2|12E05 ZBTB18-202  n_over1    120  \n",
       "2    PRRX1|2/3|09F06 PRRX1-201  n_over1     93  \n",
       "3    PRRX1|1/3|09C07 PRRX1-202  n_over1     51  \n",
       "4    PRRX1|3/3|09H08 PRRX1-207  n_over1     63  "
      ]
     },
     "execution_count": 32,
     "metadata": {},
     "output_type": "execute_result"
    }
   ],
   "source": [
    "dev_cols = [x for x in means_dev.columns if x not in [\"UID\", \"median\", \"max\"]]\n",
    "means_dev[\"n_over1\"] = (means_dev[dev_cols] >= 1).sum(axis=1)\n",
    "means_dev[\"n_over5\"] = (means_dev[dev_cols] >= 5).sum(axis=1)\n",
    "\n",
    "dev_over = means_dev[[\"n_over1\", \"n_over5\"]].reset_index()\n",
    "\n",
    "dev_over[\"clone_acc\"] = dev_over[\"UID\"].str.split(\" \", expand=True)[0]\n",
    "dev_over = status_map.merge(dev_over, on=\"clone_acc\")\n",
    "dev_over_melt = pd.melt(dev_over, id_vars=[\"index\", \"gene_name\", \"status\", \"clone_acc\", \"UID\"])\n",
    "dev_over_melt.head()"
   ]
  },
  {
   "cell_type": "code",
   "execution_count": 33,
   "metadata": {},
   "outputs": [
    {
     "name": "stderr",
     "output_type": "stream",
     "text": [
      "1 extra bytes in post.stringData array\n",
      "'created' timestamp seems very low; regarding as unix timestamp\n",
      "Zapf NOT subset; don't know how to subset; dropped\n",
      "feat NOT subset; don't know how to subset; dropped\n",
      "meta NOT subset; don't know how to subset; dropped\n",
      "morx NOT subset; don't know how to subset; dropped\n"
     ]
    },
    {
     "data": {
      "image/png": "[encoded data removed]",
      "text/plain": [
       "<Figure size 120x130 with 1 Axes>"
      ]
     },
     "metadata": {},
     "output_type": "display_data"
    }
   ],
   "source": [
    "fig = plt.figure(figsize=(1.2, 1.3))\n",
    "\n",
    "ax = sns.boxplot(data=dev_over_melt, \n",
    "                 x=\"status\", y=\"value\", hue=\"variable\", palette={\"n_over1\": colors[7],\n",
    "                                                                 \"n_over5\": colors[6]}, \n",
    "                 flierprops={\"marker\": \"o\"}, fliersize=4, notch=True)\n",
    "\n",
    "mimic_r_boxplot(ax)\n",
    "\n",
    "plt.legend(loc=2, bbox_to_anchor=(1.01, 1), frameon=False)\n",
    "\n",
    "ax.set_xlabel(\"Clone category\")\n",
    "ax.set_ylabel(\"# of samples where iso.\\nexpression ≥ threshold\")\n",
    "\n",
    "plt.title(\"Developmental RNA-seq\")\n",
    "\n",
    "ax.spines['right'].set_visible(False)\n",
    "ax.spines['top'].set_visible(False)\n",
    "\n",
    "fig.savefig(\"../../figures/fig2/novel_isos.dev_expr_boxplot.n_over_threshold.pdf\", dpi=\"figure\", bbox_inches=\"tight\")"
   ]
  },
  {
   "cell_type": "code",
   "execution_count": 34,
   "metadata": {},
   "outputs": [
    {
     "data": {
      "text/html": [
       "<div>\n",
       "<style scoped>\n",
       "    .dataframe tbody tr th:only-of-type {\n",
       "        vertical-align: middle;\n",
       "    }\n",
       "\n",
       "    .dataframe tbody tr th {\n",
       "        vertical-align: top;\n",
       "    }\n",
       "\n",
       "    .dataframe thead th {\n",
       "        text-align: right;\n",
       "    }\n",
       "</style>\n",
       "<table border=\"1\" class=\"dataframe\">\n",
       "  <thead>\n",
       "    <tr style=\"text-align: right;\">\n",
       "      <th></th>\n",
       "      <th>index</th>\n",
       "      <th>gene_name</th>\n",
       "      <th>status</th>\n",
       "      <th>clone_acc</th>\n",
       "      <th>UID</th>\n",
       "      <th>n_over1</th>\n",
       "      <th>n_over5</th>\n",
       "    </tr>\n",
       "  </thead>\n",
       "  <tbody>\n",
       "    <tr>\n",
       "      <th>0</th>\n",
       "      <td>ZBTB18|1/2|04E08</td>\n",
       "      <td>ZBTB18</td>\n",
       "      <td>ref</td>\n",
       "      <td>ZBTB18|1/2|04E08</td>\n",
       "      <td>ZBTB18|1/2|04E08 ZBTB18-201</td>\n",
       "      <td>124</td>\n",
       "      <td>6</td>\n",
       "    </tr>\n",
       "    <tr>\n",
       "      <th>1</th>\n",
       "      <td>ZBTB18|2/2|12E05</td>\n",
       "      <td>ZBTB18</td>\n",
       "      <td>alt</td>\n",
       "      <td>ZBTB18|2/2|12E05</td>\n",
       "      <td>ZBTB18|2/2|12E05 ZBTB18-202</td>\n",
       "      <td>125</td>\n",
       "      <td>8</td>\n",
       "    </tr>\n",
       "    <tr>\n",
       "      <th>2</th>\n",
       "      <td>PRRX1|2/3|09F06</td>\n",
       "      <td>PRRX1</td>\n",
       "      <td>ref</td>\n",
       "      <td>PRRX1|2/3|09F06</td>\n",
       "      <td>PRRX1|2/3|09F06 PRRX1-201</td>\n",
       "      <td>113</td>\n",
       "      <td>26</td>\n",
       "    </tr>\n",
       "    <tr>\n",
       "      <th>3</th>\n",
       "      <td>PRRX1|1/3|09C07</td>\n",
       "      <td>PRRX1</td>\n",
       "      <td>alt</td>\n",
       "      <td>PRRX1|1/3|09C07</td>\n",
       "      <td>PRRX1|1/3|09C07 PRRX1-202</td>\n",
       "      <td>64</td>\n",
       "      <td>0</td>\n",
       "    </tr>\n",
       "    <tr>\n",
       "      <th>4</th>\n",
       "      <td>PRRX1|3/3|09H08</td>\n",
       "      <td>PRRX1</td>\n",
       "      <td>alt</td>\n",
       "      <td>PRRX1|3/3|09H08</td>\n",
       "      <td>PRRX1|3/3|09H08 PRRX1-207</td>\n",
       "      <td>65</td>\n",
       "      <td>0</td>\n",
       "    </tr>\n",
       "  </tbody>\n",
       "</table>\n",
       "</div>"
      ],
      "text/plain": [
       "              index gene_name status         clone_acc  \\\n",
       "0  ZBTB18|1/2|04E08    ZBTB18    ref  ZBTB18|1/2|04E08   \n",
       "1  ZBTB18|2/2|12E05    ZBTB18    alt  ZBTB18|2/2|12E05   \n",
       "2   PRRX1|2/3|09F06     PRRX1    ref   PRRX1|2/3|09F06   \n",
       "3   PRRX1|1/3|09C07     PRRX1    alt   PRRX1|1/3|09C07   \n",
       "4   PRRX1|3/3|09H08     PRRX1    alt   PRRX1|3/3|09H08   \n",
       "\n",
       "                           UID  n_over1  n_over5  \n",
       "0  ZBTB18|1/2|04E08 ZBTB18-201      124        6  \n",
       "1  ZBTB18|2/2|12E05 ZBTB18-202      125        8  \n",
       "2    PRRX1|2/3|09F06 PRRX1-201      113       26  \n",
       "3    PRRX1|1/3|09C07 PRRX1-202       64        0  \n",
       "4    PRRX1|3/3|09H08 PRRX1-207       65        0  "
      ]
     },
     "execution_count": 34,
     "metadata": {},
     "output_type": "execute_result"
    }
   ],
   "source": [
    "gtex_ds_cols = [x for x in means_gtex_downsample.columns if x not in [\"UID\", \"median\", \"max\"]]\n",
    "means_gtex_downsample[\"n_over1\"] = (means_gtex_downsample[gtex_ds_cols] >= 1).sum(axis=1)\n",
    "means_gtex_downsample[\"n_over5\"] = (means_gtex_downsample[gtex_ds_cols] >= 5).sum(axis=1)\n",
    "\n",
    "gtex_ds_over = means_gtex_downsample[[\"n_over1\", \"n_over5\"]].reset_index()\n",
    "\n",
    "gtex_ds_over[\"clone_acc\"] = gtex_ds_over[\"UID\"].str.split(\" \", expand=True)[0]\n",
    "gtex_ds_over = status_map.merge(gtex_ds_over, on=\"clone_acc\")\n",
    "gtex_ds_over_melt = pd.melt(gtex_ds_over, id_vars=[\"index\", \"gene_name\", \"status\", \"clone_acc\", \"UID\"])\n",
    "gtex_ds_over.head()"
   ]
  },
  {
   "cell_type": "code",
   "execution_count": 35,
   "metadata": {},
   "outputs": [
    {
     "name": "stderr",
     "output_type": "stream",
     "text": [
      "1 extra bytes in post.stringData array\n",
      "'created' timestamp seems very low; regarding as unix timestamp\n",
      "Zapf NOT subset; don't know how to subset; dropped\n",
      "feat NOT subset; don't know how to subset; dropped\n",
      "meta NOT subset; don't know how to subset; dropped\n",
      "morx NOT subset; don't know how to subset; dropped\n"
     ]
    },
    {
     "data": {
      "image/png": "[encoded data removed]",
      "text/plain": [
       "<Figure size 120x130 with 1 Axes>"
      ]
     },
     "metadata": {},
     "output_type": "display_data"
    }
   ],
   "source": [
    "fig = plt.figure(figsize=(1.2, 1.3))\n",
    "\n",
    "ax = sns.boxplot(data=gtex_ds_over_melt, \n",
    "                 x=\"status\", y=\"value\", hue=\"variable\", palette={\"n_over1\": colors[7],\n",
    "                                                                 \"n_over5\": colors[6]}, \n",
    "                 flierprops={\"marker\": \"o\"}, fliersize=4, notch=True)\n",
    "\n",
    "mimic_r_boxplot(ax)\n",
    "\n",
    "plt.legend(loc=2, bbox_to_anchor=(1.01, 1), frameon=False)\n",
    "\n",
    "ax.set_xlabel(\"Clone category\")\n",
    "ax.set_ylabel(\"# of samples where iso.\\nexpression ≥ threshold\")\n",
    "\n",
    "plt.title(\"GTEx (down-sampled)\")\n",
    "\n",
    "ax.spines['right'].set_visible(False)\n",
    "ax.spines['top'].set_visible(False)\n",
    "\n",
    "fig.savefig(\"../../figures/fig2/novel_isos.gtex_ds_expr_boxplot.n_over_threshold.pdf\", dpi=\"figure\", bbox_inches=\"tight\")"
   ]
  },
  {
   "cell_type": "markdown",
   "metadata": {},
   "source": [
    "## 4. distribution of TF families in clone collection and assays v gencode"
   ]
  },
  {
   "cell_type": "code",
   "execution_count": 36,
   "metadata": {},
   "outputs": [],
   "source": [
    "fam = load_tf_families()"
   ]
  },
  {
   "cell_type": "code",
   "execution_count": 37,
   "metadata": {},
   "outputs": [
    {
     "data": {
      "text/plain": [
       "1635"
      ]
     },
     "execution_count": 37,
     "metadata": {},
     "output_type": "execute_result"
    }
   ],
   "source": [
    "len(genc_tfs)"
   ]
  },
  {
   "cell_type": "code",
   "execution_count": 38,
   "metadata": {},
   "outputs": [
    {
     "data": {
      "text/html": [
       "<div>\n",
       "<style scoped>\n",
       "    .dataframe tbody tr th:only-of-type {\n",
       "        vertical-align: middle;\n",
       "    }\n",
       "\n",
       "    .dataframe tbody tr th {\n",
       "        vertical-align: top;\n",
       "    }\n",
       "\n",
       "    .dataframe thead th {\n",
       "        text-align: right;\n",
       "    }\n",
       "</style>\n",
       "<table border=\"1\" class=\"dataframe\">\n",
       "  <thead>\n",
       "    <tr style=\"text-align: right;\">\n",
       "      <th></th>\n",
       "      <th>gene</th>\n",
       "      <th>isoform</th>\n",
       "      <th>family</th>\n",
       "    </tr>\n",
       "  </thead>\n",
       "  <tbody>\n",
       "    <tr>\n",
       "      <th>390</th>\n",
       "      <td>HOXD3</td>\n",
       "      <td>HOXD3-201</td>\n",
       "      <td>Homeodomain</td>\n",
       "    </tr>\n",
       "    <tr>\n",
       "      <th>1761</th>\n",
       "      <td>ZNF33A</td>\n",
       "      <td>ZNF33A-205</td>\n",
       "      <td>C2H2 ZF</td>\n",
       "    </tr>\n",
       "    <tr>\n",
       "      <th>1233</th>\n",
       "      <td>DMTF1</td>\n",
       "      <td>DMTF1-213</td>\n",
       "      <td>Myb/SANT</td>\n",
       "    </tr>\n",
       "    <tr>\n",
       "      <th>2083</th>\n",
       "      <td>HMGA2</td>\n",
       "      <td>HMGA2-205</td>\n",
       "      <td>AT hook</td>\n",
       "    </tr>\n",
       "    <tr>\n",
       "      <th>3804</th>\n",
       "      <td>ZNF671</td>\n",
       "      <td>ZNF671-203</td>\n",
       "      <td>C2H2 ZF</td>\n",
       "    </tr>\n",
       "  </tbody>\n",
       "</table>\n",
       "</div>"
      ],
      "text/plain": [
       "        gene     isoform       family\n",
       "390    HOXD3   HOXD3-201  Homeodomain\n",
       "1761  ZNF33A  ZNF33A-205      C2H2 ZF\n",
       "1233   DMTF1   DMTF1-213     Myb/SANT\n",
       "2083   HMGA2   HMGA2-205      AT hook\n",
       "3804  ZNF671  ZNF671-203      C2H2 ZF"
      ]
     },
     "execution_count": 38,
     "metadata": {},
     "output_type": "execute_result"
    }
   ],
   "source": [
    "genc_df = {k: genc_tfs[k].GENCODE_isoforms for k in genc_tfs.keys()}\n",
    "genc_df = {k: [v.name for v in values] for k, values in genc_df.items()}\n",
    "genc_df = [(k, v) for k, sublist in genc_df.items() for v in sublist]\n",
    "genc_df = pd.DataFrame(genc_df, columns=[\"gene\", \"isoform\"])\n",
    "genc_df['family'] = genc_df['gene'].map(fam)\n",
    "genc_df.sample(5)"
   ]
  },
  {
   "cell_type": "code",
   "execution_count": 39,
   "metadata": {},
   "outputs": [],
   "source": [
    "leave_separate = [\"C2H2 ZF\", \"Homeodomain\", \"bHLH\", \"Nuclear receptor\", \"bZIP\", \"Forkhead\", \"Ets\"]"
   ]
  },
  {
   "cell_type": "code",
   "execution_count": 40,
   "metadata": {},
   "outputs": [
    {
     "data": {
      "text/html": [
       "<div>\n",
       "<style scoped>\n",
       "    .dataframe tbody tr th:only-of-type {\n",
       "        vertical-align: middle;\n",
       "    }\n",
       "\n",
       "    .dataframe tbody tr th {\n",
       "        vertical-align: top;\n",
       "    }\n",
       "\n",
       "    .dataframe thead th {\n",
       "        text-align: right;\n",
       "    }\n",
       "</style>\n",
       "<table border=\"1\" class=\"dataframe\">\n",
       "  <thead>\n",
       "    <tr style=\"text-align: right;\">\n",
       "      <th></th>\n",
       "      <th>gene</th>\n",
       "      <th>isoform</th>\n",
       "      <th>family</th>\n",
       "      <th>family_renamed</th>\n",
       "    </tr>\n",
       "  </thead>\n",
       "  <tbody>\n",
       "    <tr>\n",
       "      <th>1941</th>\n",
       "      <td>SOX6</td>\n",
       "      <td>SOX6-211</td>\n",
       "      <td>HMG/Sox</td>\n",
       "      <td>Other</td>\n",
       "    </tr>\n",
       "    <tr>\n",
       "      <th>3201</th>\n",
       "      <td>ZNF230</td>\n",
       "      <td>ZNF230-201</td>\n",
       "      <td>C2H2 ZF</td>\n",
       "      <td>C2H2 ZF</td>\n",
       "    </tr>\n",
       "    <tr>\n",
       "      <th>353</th>\n",
       "      <td>TLX2</td>\n",
       "      <td>TLX2-204</td>\n",
       "      <td>Homeodomain</td>\n",
       "      <td>Homeodomain</td>\n",
       "    </tr>\n",
       "    <tr>\n",
       "      <th>293</th>\n",
       "      <td>AHCTF1</td>\n",
       "      <td>AHCTF1-202</td>\n",
       "      <td>AT hook</td>\n",
       "      <td>Other</td>\n",
       "    </tr>\n",
       "    <tr>\n",
       "      <th>1028</th>\n",
       "      <td>RUNX2</td>\n",
       "      <td>RUNX2-210</td>\n",
       "      <td>Runt</td>\n",
       "      <td>Other</td>\n",
       "    </tr>\n",
       "  </tbody>\n",
       "</table>\n",
       "</div>"
      ],
      "text/plain": [
       "        gene     isoform       family family_renamed\n",
       "1941    SOX6    SOX6-211      HMG/Sox          Other\n",
       "3201  ZNF230  ZNF230-201      C2H2 ZF        C2H2 ZF\n",
       "353     TLX2    TLX2-204  Homeodomain    Homeodomain\n",
       "293   AHCTF1  AHCTF1-202      AT hook          Other\n",
       "1028   RUNX2   RUNX2-210         Runt          Other"
      ]
     },
     "execution_count": 40,
     "metadata": {},
     "output_type": "execute_result"
    }
   ],
   "source": [
    "def rename_family(row):\n",
    "    if row.family in leave_separate:\n",
    "        return row.family\n",
    "    else:\n",
    "        return \"Other\"\n",
    "    \n",
    "genc_df['family_renamed'] = genc_df.apply(rename_family, axis=1)\n",
    "genc_df.sample(5)"
   ]
  },
  {
   "cell_type": "code",
   "execution_count": 41,
   "metadata": {},
   "outputs": [
    {
     "data": {
      "text/html": [
       "<div>\n",
       "<style scoped>\n",
       "    .dataframe tbody tr th:only-of-type {\n",
       "        vertical-align: middle;\n",
       "    }\n",
       "\n",
       "    .dataframe tbody tr th {\n",
       "        vertical-align: top;\n",
       "    }\n",
       "\n",
       "    .dataframe thead th {\n",
       "        text-align: right;\n",
       "    }\n",
       "</style>\n",
       "<table border=\"1\" class=\"dataframe\">\n",
       "  <thead>\n",
       "    <tr style=\"text-align: right;\">\n",
       "      <th></th>\n",
       "      <th>family_renamed</th>\n",
       "      <th>isoform</th>\n",
       "      <th>source</th>\n",
       "    </tr>\n",
       "  </thead>\n",
       "  <tbody>\n",
       "    <tr>\n",
       "      <th>0</th>\n",
       "      <td>C2H2 ZF</td>\n",
       "      <td>1840</td>\n",
       "      <td>GENCODE</td>\n",
       "    </tr>\n",
       "    <tr>\n",
       "      <th>1</th>\n",
       "      <td>Ets</td>\n",
       "      <td>89</td>\n",
       "      <td>GENCODE</td>\n",
       "    </tr>\n",
       "    <tr>\n",
       "      <th>2</th>\n",
       "      <td>Forkhead</td>\n",
       "      <td>97</td>\n",
       "      <td>GENCODE</td>\n",
       "    </tr>\n",
       "    <tr>\n",
       "      <th>3</th>\n",
       "      <td>Homeodomain</td>\n",
       "      <td>350</td>\n",
       "      <td>GENCODE</td>\n",
       "    </tr>\n",
       "    <tr>\n",
       "      <th>4</th>\n",
       "      <td>Nuclear receptor</td>\n",
       "      <td>176</td>\n",
       "      <td>GENCODE</td>\n",
       "    </tr>\n",
       "    <tr>\n",
       "      <th>5</th>\n",
       "      <td>Other</td>\n",
       "      <td>1179</td>\n",
       "      <td>GENCODE</td>\n",
       "    </tr>\n",
       "    <tr>\n",
       "      <th>6</th>\n",
       "      <td>bHLH</td>\n",
       "      <td>264</td>\n",
       "      <td>GENCODE</td>\n",
       "    </tr>\n",
       "    <tr>\n",
       "      <th>7</th>\n",
       "      <td>bZIP</td>\n",
       "      <td>149</td>\n",
       "      <td>GENCODE</td>\n",
       "    </tr>\n",
       "  </tbody>\n",
       "</table>\n",
       "</div>"
      ],
      "text/plain": [
       "     family_renamed  isoform   source\n",
       "0           C2H2 ZF     1840  GENCODE\n",
       "1               Ets       89  GENCODE\n",
       "2          Forkhead       97  GENCODE\n",
       "3       Homeodomain      350  GENCODE\n",
       "4  Nuclear receptor      176  GENCODE\n",
       "5             Other     1179  GENCODE\n",
       "6              bHLH      264  GENCODE\n",
       "7              bZIP      149  GENCODE"
      ]
     },
     "execution_count": 41,
     "metadata": {},
     "output_type": "execute_result"
    }
   ],
   "source": [
    "genc_vc = genc_df.groupby(\"family_renamed\")[\"isoform\"].agg(\"count\").reset_index()\n",
    "genc_vc[\"source\"] = \"GENCODE\"\n",
    "genc_vc"
   ]
  },
  {
   "cell_type": "code",
   "execution_count": 42,
   "metadata": {},
   "outputs": [
    {
     "data": {
      "text/html": [
       "<div>\n",
       "<style scoped>\n",
       "    .dataframe tbody tr th:only-of-type {\n",
       "        vertical-align: middle;\n",
       "    }\n",
       "\n",
       "    .dataframe tbody tr th {\n",
       "        vertical-align: top;\n",
       "    }\n",
       "\n",
       "    .dataframe thead th {\n",
       "        text-align: right;\n",
       "    }\n",
       "</style>\n",
       "<table border=\"1\" class=\"dataframe\">\n",
       "  <thead>\n",
       "    <tr style=\"text-align: right;\">\n",
       "      <th></th>\n",
       "      <th>gene</th>\n",
       "      <th>isoform</th>\n",
       "      <th>family</th>\n",
       "    </tr>\n",
       "  </thead>\n",
       "  <tbody>\n",
       "    <tr>\n",
       "      <th>622</th>\n",
       "      <td>ZNF175</td>\n",
       "      <td>ZNF175|1/3|12H06</td>\n",
       "      <td>C2H2 ZF</td>\n",
       "    </tr>\n",
       "    <tr>\n",
       "      <th>29</th>\n",
       "      <td>LHX9</td>\n",
       "      <td>LHX9|3/3|07A01</td>\n",
       "      <td>Homeodomain</td>\n",
       "    </tr>\n",
       "    <tr>\n",
       "      <th>26</th>\n",
       "      <td>PAX7</td>\n",
       "      <td>PAX7|3/4|03D09</td>\n",
       "      <td>Homeodomain; Paired box</td>\n",
       "    </tr>\n",
       "    <tr>\n",
       "      <th>627</th>\n",
       "      <td>ERF</td>\n",
       "      <td>ERF|1/2|12B11</td>\n",
       "      <td>Ets</td>\n",
       "    </tr>\n",
       "    <tr>\n",
       "      <th>407</th>\n",
       "      <td>SMAD9</td>\n",
       "      <td>SMAD9|2/2|02A11</td>\n",
       "      <td>SMAD</td>\n",
       "    </tr>\n",
       "  </tbody>\n",
       "</table>\n",
       "</div>"
      ],
      "text/plain": [
       "       gene           isoform                   family\n",
       "622  ZNF175  ZNF175|1/3|12H06                  C2H2 ZF\n",
       "29     LHX9    LHX9|3/3|07A01              Homeodomain\n",
       "26     PAX7    PAX7|3/4|03D09  Homeodomain; Paired box\n",
       "627     ERF     ERF|1/2|12B11                      Ets\n",
       "407   SMAD9   SMAD9|2/2|02A11                     SMAD"
      ]
     },
     "execution_count": 42,
     "metadata": {},
     "output_type": "execute_result"
    }
   ],
   "source": [
    "clone_df = {k: clone_tfs[k].cloned_isoforms for k in clone_tfs.keys()}\n",
    "clone_df = {k: [v.clone_acc for v in values] for k, values in clone_df.items()}\n",
    "clone_df = [(k, v) for k, sublist in clone_df.items() for v in sublist]\n",
    "clone_df = pd.DataFrame(clone_df, columns=[\"gene\", \"isoform\"])\n",
    "clone_df['family'] = clone_df['gene'].map(fam)\n",
    "clone_df.sample(5)"
   ]
  },
  {
   "cell_type": "code",
   "execution_count": 43,
   "metadata": {},
   "outputs": [],
   "source": [
    "def rename_family(row):\n",
    "    if row.family in leave_separate:\n",
    "        return row.family\n",
    "    else:\n",
    "        return \"Other\"\n",
    "    \n",
    "clone_df['family_renamed'] = clone_df.apply(rename_family, axis=1)"
   ]
  },
  {
   "cell_type": "code",
   "execution_count": 44,
   "metadata": {},
   "outputs": [],
   "source": [
    "order = clone_df.groupby(\"family\")[\"isoform\"].agg(\"count\").reset_index()\n",
    "order = order.sort_values(by=\"isoform\", ascending=False)\n",
    "xorder = list(order[\"family\"])\n",
    "yvals = list(order[\"isoform\"])"
   ]
  },
  {
   "cell_type": "code",
   "execution_count": 45,
   "metadata": {},
   "outputs": [
    {
     "name": "stderr",
     "output_type": "stream",
     "text": [
      "1 extra bytes in post.stringData array\n",
      "'created' timestamp seems very low; regarding as unix timestamp\n",
      "Zapf NOT subset; don't know how to subset; dropped\n",
      "feat NOT subset; don't know how to subset; dropped\n",
      "meta NOT subset; don't know how to subset; dropped\n",
      "morx NOT subset; don't know how to subset; dropped\n"
     ]
    },
    {
     "data": {
      "image/png": "[encoded data removed]",
      "text/plain": [
       "<Figure size 500x130 with 1 Axes>"
      ]
     },
     "metadata": {},
     "output_type": "display_data"
    }
   ],
   "source": [
    "fig = plt.figure(figsize=(5, 1.3))\n",
    "\n",
    "ax = sns.countplot(data=clone_df, x=\"family\", order=xorder)\n",
    "ax.set_xlabel(\"\")\n",
    "ax.set_ylabel(\"Number of isoform clones\")\n",
    "ax.set_title(\"Families of TF isoforms in clone collection\")\n",
    "ax.set_ylim((0, 370))\n",
    "\n",
    "_= plt.xticks(rotation=90, ha='center', va=\"top\")\n",
    "\n",
    "for i, yval in enumerate(yvals):\n",
    "    ax.text(i, yval, ' %s' % yval, ha='center', va='bottom', rotation=90, fontsize=6)\n",
    "    \n",
    "ax.spines['right'].set_visible(False)\n",
    "ax.spines['top'].set_visible(False)\n",
    "    \n",
    "fig.savefig(\"../../figures/fig2/clone_collection_families.all.pdf\", dpi=\"figure\", bbox_inches=\"tight\")"
   ]
  },
  {
   "cell_type": "code",
   "execution_count": 46,
   "metadata": {},
   "outputs": [],
   "source": [
    "clone_vc = clone_df.groupby(\"family_renamed\")[\"isoform\"].agg(\"count\").reset_index()\n",
    "clone_vc[\"source\"] = \"TFIso1.0\""
   ]
  },
  {
   "cell_type": "code",
   "execution_count": 47,
   "metadata": {},
   "outputs": [
    {
     "data": {
      "text/html": [
       "<div>\n",
       "<style scoped>\n",
       "    .dataframe tbody tr th:only-of-type {\n",
       "        vertical-align: middle;\n",
       "    }\n",
       "\n",
       "    .dataframe tbody tr th {\n",
       "        vertical-align: top;\n",
       "    }\n",
       "\n",
       "    .dataframe thead th {\n",
       "        text-align: right;\n",
       "    }\n",
       "</style>\n",
       "<table border=\"1\" class=\"dataframe\">\n",
       "  <thead>\n",
       "    <tr style=\"text-align: right;\">\n",
       "      <th></th>\n",
       "      <th>gene_symbol</th>\n",
       "      <th>clone_acc</th>\n",
       "      <th>HS1006</th>\n",
       "      <th>HS1022</th>\n",
       "      <th>HS1043</th>\n",
       "      <th>HS1067</th>\n",
       "      <th>HS1139</th>\n",
       "      <th>HS1142</th>\n",
       "      <th>HS118</th>\n",
       "      <th>HS1181</th>\n",
       "      <th>...</th>\n",
       "      <th>PF4V1</th>\n",
       "      <th>TNFSF10</th>\n",
       "      <th>TNFSF13</th>\n",
       "      <th>TNFSF14</th>\n",
       "      <th>TNFSF4</th>\n",
       "      <th>TNFSF8</th>\n",
       "      <th>XCL1</th>\n",
       "      <th>XCL2</th>\n",
       "      <th>family</th>\n",
       "      <th>family_renamed</th>\n",
       "    </tr>\n",
       "  </thead>\n",
       "  <tbody>\n",
       "    <tr>\n",
       "      <th>155</th>\n",
       "      <td>WT1</td>\n",
       "      <td>WT1|2/6|12C12</td>\n",
       "      <td>False</td>\n",
       "      <td>False</td>\n",
       "      <td>False</td>\n",
       "      <td>False</td>\n",
       "      <td>False</td>\n",
       "      <td>False</td>\n",
       "      <td>False</td>\n",
       "      <td>False</td>\n",
       "      <td>...</td>\n",
       "      <td>&lt;NA&gt;</td>\n",
       "      <td>&lt;NA&gt;</td>\n",
       "      <td>&lt;NA&gt;</td>\n",
       "      <td>&lt;NA&gt;</td>\n",
       "      <td>&lt;NA&gt;</td>\n",
       "      <td>&lt;NA&gt;</td>\n",
       "      <td>&lt;NA&gt;</td>\n",
       "      <td>&lt;NA&gt;</td>\n",
       "      <td>C2H2 ZF</td>\n",
       "      <td>C2H2 ZF</td>\n",
       "    </tr>\n",
       "    <tr>\n",
       "      <th>48</th>\n",
       "      <td>HMGA1</td>\n",
       "      <td>HMGA1|2/2|10B11</td>\n",
       "      <td>False</td>\n",
       "      <td>False</td>\n",
       "      <td>False</td>\n",
       "      <td>False</td>\n",
       "      <td>False</td>\n",
       "      <td>False</td>\n",
       "      <td>False</td>\n",
       "      <td>False</td>\n",
       "      <td>...</td>\n",
       "      <td>&lt;NA&gt;</td>\n",
       "      <td>&lt;NA&gt;</td>\n",
       "      <td>&lt;NA&gt;</td>\n",
       "      <td>&lt;NA&gt;</td>\n",
       "      <td>&lt;NA&gt;</td>\n",
       "      <td>&lt;NA&gt;</td>\n",
       "      <td>&lt;NA&gt;</td>\n",
       "      <td>&lt;NA&gt;</td>\n",
       "      <td>AT hook</td>\n",
       "      <td>Other</td>\n",
       "    </tr>\n",
       "    <tr>\n",
       "      <th>108</th>\n",
       "      <td>PPARG</td>\n",
       "      <td>PPARG|1/4|10G02</td>\n",
       "      <td>False</td>\n",
       "      <td>False</td>\n",
       "      <td>False</td>\n",
       "      <td>False</td>\n",
       "      <td>False</td>\n",
       "      <td>False</td>\n",
       "      <td>False</td>\n",
       "      <td>False</td>\n",
       "      <td>...</td>\n",
       "      <td>&lt;NA&gt;</td>\n",
       "      <td>&lt;NA&gt;</td>\n",
       "      <td>&lt;NA&gt;</td>\n",
       "      <td>&lt;NA&gt;</td>\n",
       "      <td>&lt;NA&gt;</td>\n",
       "      <td>&lt;NA&gt;</td>\n",
       "      <td>&lt;NA&gt;</td>\n",
       "      <td>&lt;NA&gt;</td>\n",
       "      <td>Nuclear receptor</td>\n",
       "      <td>Nuclear receptor</td>\n",
       "    </tr>\n",
       "    <tr>\n",
       "      <th>89</th>\n",
       "      <td>NFIX</td>\n",
       "      <td>NFIX|3/4|08F05</td>\n",
       "      <td>False</td>\n",
       "      <td>False</td>\n",
       "      <td>False</td>\n",
       "      <td>False</td>\n",
       "      <td>False</td>\n",
       "      <td>False</td>\n",
       "      <td>False</td>\n",
       "      <td>False</td>\n",
       "      <td>...</td>\n",
       "      <td>&lt;NA&gt;</td>\n",
       "      <td>&lt;NA&gt;</td>\n",
       "      <td>&lt;NA&gt;</td>\n",
       "      <td>&lt;NA&gt;</td>\n",
       "      <td>&lt;NA&gt;</td>\n",
       "      <td>&lt;NA&gt;</td>\n",
       "      <td>&lt;NA&gt;</td>\n",
       "      <td>&lt;NA&gt;</td>\n",
       "      <td>SMAD</td>\n",
       "      <td>Other</td>\n",
       "    </tr>\n",
       "    <tr>\n",
       "      <th>187</th>\n",
       "      <td>STAT1</td>\n",
       "      <td>STAT1|5/7|03C01</td>\n",
       "      <td>&lt;NA&gt;</td>\n",
       "      <td>&lt;NA&gt;</td>\n",
       "      <td>&lt;NA&gt;</td>\n",
       "      <td>&lt;NA&gt;</td>\n",
       "      <td>&lt;NA&gt;</td>\n",
       "      <td>&lt;NA&gt;</td>\n",
       "      <td>&lt;NA&gt;</td>\n",
       "      <td>&lt;NA&gt;</td>\n",
       "      <td>...</td>\n",
       "      <td>&lt;NA&gt;</td>\n",
       "      <td>&lt;NA&gt;</td>\n",
       "      <td>&lt;NA&gt;</td>\n",
       "      <td>&lt;NA&gt;</td>\n",
       "      <td>&lt;NA&gt;</td>\n",
       "      <td>&lt;NA&gt;</td>\n",
       "      <td>&lt;NA&gt;</td>\n",
       "      <td>&lt;NA&gt;</td>\n",
       "      <td>STAT</td>\n",
       "      <td>Other</td>\n",
       "    </tr>\n",
       "  </tbody>\n",
       "</table>\n",
       "<p>5 rows × 190 columns</p>\n",
       "</div>"
      ],
      "text/plain": [
       "    gene_symbol        clone_acc  HS1006  HS1022  HS1043  HS1067  HS1139  \\\n",
       "155         WT1    WT1|2/6|12C12   False   False   False   False   False   \n",
       "48        HMGA1  HMGA1|2/2|10B11   False   False   False   False   False   \n",
       "108       PPARG  PPARG|1/4|10G02   False   False   False   False   False   \n",
       "89         NFIX   NFIX|3/4|08F05   False   False   False   False   False   \n",
       "187       STAT1  STAT1|5/7|03C01    <NA>    <NA>    <NA>    <NA>    <NA>   \n",
       "\n",
       "     HS1142  HS118  HS1181  ...  PF4V1  TNFSF10  TNFSF13  TNFSF14  TNFSF4  \\\n",
       "155   False  False   False  ...   <NA>     <NA>     <NA>     <NA>    <NA>   \n",
       "48    False  False   False  ...   <NA>     <NA>     <NA>     <NA>    <NA>   \n",
       "108   False  False   False  ...   <NA>     <NA>     <NA>     <NA>    <NA>   \n",
       "89    False  False   False  ...   <NA>     <NA>     <NA>     <NA>    <NA>   \n",
       "187    <NA>   <NA>    <NA>  ...   <NA>     <NA>     <NA>     <NA>    <NA>   \n",
       "\n",
       "     TNFSF8  XCL1  XCL2            family    family_renamed  \n",
       "155    <NA>  <NA>  <NA>           C2H2 ZF           C2H2 ZF  \n",
       "48     <NA>  <NA>  <NA>           AT hook             Other  \n",
       "108    <NA>  <NA>  <NA>  Nuclear receptor  Nuclear receptor  \n",
       "89     <NA>  <NA>  <NA>              SMAD             Other  \n",
       "187    <NA>  <NA>  <NA>              STAT             Other  \n",
       "\n",
       "[5 rows x 190 columns]"
      ]
     },
     "execution_count": 47,
     "metadata": {},
     "output_type": "execute_result"
    }
   ],
   "source": [
    "y1h = load_y1h_pdi_data()\n",
    "y1h['family'] = y1h['gene_symbol'].map(fam)\n",
    "y1h['family_renamed'] = y1h.apply(rename_family, axis=1)\n",
    "\n",
    "# limit to only clones considered in tf1.0, e.g. anything for a tf >1 iso\n",
    "y1h = y1h[y1h[\"clone_acc\"].isin(status_map[\"clone_acc\"])]\n",
    "\n",
    "y1h.sample(5)"
   ]
  },
  {
   "cell_type": "code",
   "execution_count": 48,
   "metadata": {},
   "outputs": [
    {
     "name": "stdout",
     "output_type": "stream",
     "text": [
      "NUMBER OF BAITS TESTED IN Y1H: 186\n",
      "number of new baits Anna's paired screen added: 42\n",
      "NUMBER OF ISOS SUCCESSFULLY TESTED IN Y1H: 171\n"
     ]
    }
   ],
   "source": [
    "baits = [x for x in y1h.columns if x not in ['gene_symbol', 'clone_acc', 'family', 'family_renamed',\n",
    "                                             'any_true', 'all_na']]\n",
    "print(\"NUMBER OF BAITS TESTED IN Y1H: %s\" % len(baits))\n",
    "print(\"number of new baits Anna's paired screen added: %s\" % len([x for x in baits if not x.startswith(\"HS\") and not x.startswith(\"MUT\")]))\n",
    "y1h['any_true'] = y1h[baits].sum(axis=1)\n",
    "y1h['all_na'] = y1h[baits].isnull().values.all()\n",
    "\n",
    "# remove any rows with allna values\n",
    "y1h = y1h[~y1h['all_na']]\n",
    "print(\"NUMBER OF ISOS SUCCESSFULLY TESTED IN Y1H: %s\" % len(y1h))"
   ]
  },
  {
   "cell_type": "code",
   "execution_count": 49,
   "metadata": {},
   "outputs": [],
   "source": [
    "y1h_vc = y1h.groupby(\"family_renamed\")[\"clone_acc\"].agg(\"count\").reset_index()\n",
    "y1h_vc.columns = [\"family_renamed\", \"isoform\"]\n",
    "y1h_vc[\"source\"] = \"Y1H (all)\""
   ]
  },
  {
   "cell_type": "code",
   "execution_count": 50,
   "metadata": {},
   "outputs": [],
   "source": [
    "y1h_any_vc = y1h[y1h['any_true'] > 0].groupby(\"family_renamed\")[\"clone_acc\"].agg(\"count\").reset_index()\n",
    "y1h_any_vc.columns = [\"family_renamed\", \"isoform\"]\n",
    "y1h_any_vc[\"source\"] = \"Y1H (≥1 PDI)\""
   ]
  },
  {
   "cell_type": "code",
   "execution_count": 51,
   "metadata": {},
   "outputs": [
    {
     "name": "stdout",
     "output_type": "stream",
     "text": [
      "4354\n",
      "4258\n"
     ]
    }
   ],
   "source": [
    "y2h = load_y2h_isoform_data(require_at_least_one_ppi_per_isoform=False)\n",
    "y2h['family'] = y2h['ad_gene_symbol'].map(fam)\n",
    "y2h['family_renamed'] = y2h.apply(rename_family, axis=1)\n",
    "\n",
    "# limit to only clones considered in tf1.0, e.g. anything for a tf >1 iso\n",
    "y2h = y2h[y2h[\"ad_clone_acc\"].isin(status_map[\"clone_acc\"])]\n",
    "\n",
    "# remove any rows with na values\n",
    "print(len(y2h))\n",
    "y2h = y2h[~pd.isnull(y2h['Y2H_result'])]\n",
    "print(len(y2h))"
   ]
  },
  {
   "cell_type": "code",
   "execution_count": 52,
   "metadata": {},
   "outputs": [],
   "source": [
    "y2h_vc = y2h.groupby(\"family_renamed\")[\"ad_clone_acc\"].agg(\"count\").reset_index()\n",
    "y2h_vc.columns = [\"family_renamed\", \"isoform\"]\n",
    "y2h_vc[\"source\"] = \"Y2H (all)\""
   ]
  },
  {
   "cell_type": "code",
   "execution_count": 53,
   "metadata": {},
   "outputs": [],
   "source": [
    "y2h_any_vc = y2h[y2h[\"Y2H_result\"] == True].groupby(\"family_renamed\")[\"ad_clone_acc\"].agg(\"count\").reset_index()\n",
    "y2h_any_vc.columns = [\"family_renamed\", \"isoform\"]\n",
    "y2h_any_vc[\"source\"] = \"Y2H (≥1 PPI)\""
   ]
  },
  {
   "cell_type": "code",
   "execution_count": 54,
   "metadata": {},
   "outputs": [
    {
     "data": {
      "text/html": [
       "<div>\n",
       "<style scoped>\n",
       "    .dataframe tbody tr th:only-of-type {\n",
       "        vertical-align: middle;\n",
       "    }\n",
       "\n",
       "    .dataframe tbody tr th {\n",
       "        vertical-align: top;\n",
       "    }\n",
       "\n",
       "    .dataframe thead th {\n",
       "        text-align: right;\n",
       "    }\n",
       "</style>\n",
       "<table border=\"1\" class=\"dataframe\">\n",
       "  <thead>\n",
       "    <tr style=\"text-align: right;\">\n",
       "      <th></th>\n",
       "      <th>gene_symbol</th>\n",
       "      <th>clone_acc</th>\n",
       "      <th>M1H_rep1</th>\n",
       "      <th>M1H_rep2</th>\n",
       "      <th>M1H_rep3</th>\n",
       "      <th>M1H_mean</th>\n",
       "      <th>family</th>\n",
       "      <th>family_renamed</th>\n",
       "    </tr>\n",
       "  </thead>\n",
       "  <tbody>\n",
       "    <tr>\n",
       "      <th>146</th>\n",
       "      <td>NKX2-5</td>\n",
       "      <td>NKX2-5|1/3|01H01</td>\n",
       "      <td>1.272055</td>\n",
       "      <td>1.051122</td>\n",
       "      <td>0.909828</td>\n",
       "      <td>1.077668</td>\n",
       "      <td>Homeodomain</td>\n",
       "      <td>Homeodomain</td>\n",
       "    </tr>\n",
       "    <tr>\n",
       "      <th>36</th>\n",
       "      <td>EGR2</td>\n",
       "      <td>EGR2|1/2|01E03</td>\n",
       "      <td>3.094647</td>\n",
       "      <td>3.079103</td>\n",
       "      <td>2.809049</td>\n",
       "      <td>2.994266</td>\n",
       "      <td>C2H2 ZF</td>\n",
       "      <td>C2H2 ZF</td>\n",
       "    </tr>\n",
       "    <tr>\n",
       "      <th>330</th>\n",
       "      <td>ZNF473</td>\n",
       "      <td>ZNF473|1/2|10F12</td>\n",
       "      <td>7.125469</td>\n",
       "      <td>7.340258</td>\n",
       "      <td>7.204824</td>\n",
       "      <td>7.223517</td>\n",
       "      <td>C2H2 ZF</td>\n",
       "      <td>C2H2 ZF</td>\n",
       "    </tr>\n",
       "    <tr>\n",
       "      <th>601</th>\n",
       "      <td>ZNF614</td>\n",
       "      <td>ZNF614|3/4|05D08</td>\n",
       "      <td>-0.806812</td>\n",
       "      <td>-0.574664</td>\n",
       "      <td>-0.689290</td>\n",
       "      <td>-0.690255</td>\n",
       "      <td>C2H2 ZF</td>\n",
       "      <td>C2H2 ZF</td>\n",
       "    </tr>\n",
       "    <tr>\n",
       "      <th>38</th>\n",
       "      <td>ELF2</td>\n",
       "      <td>ELF2|2/4|04E01</td>\n",
       "      <td>2.827777</td>\n",
       "      <td>2.796233</td>\n",
       "      <td>2.611722</td>\n",
       "      <td>2.745244</td>\n",
       "      <td>Ets</td>\n",
       "      <td>Ets</td>\n",
       "    </tr>\n",
       "  </tbody>\n",
       "</table>\n",
       "</div>"
      ],
      "text/plain": [
       "    gene_symbol         clone_acc  M1H_rep1  M1H_rep2  M1H_rep3  M1H_mean  \\\n",
       "146      NKX2-5  NKX2-5|1/3|01H01  1.272055  1.051122  0.909828  1.077668   \n",
       "36         EGR2    EGR2|1/2|01E03  3.094647  3.079103  2.809049  2.994266   \n",
       "330      ZNF473  ZNF473|1/2|10F12  7.125469  7.340258  7.204824  7.223517   \n",
       "601      ZNF614  ZNF614|3/4|05D08 -0.806812 -0.574664 -0.689290 -0.690255   \n",
       "38         ELF2    ELF2|2/4|04E01  2.827777  2.796233  2.611722  2.745244   \n",
       "\n",
       "          family family_renamed  \n",
       "146  Homeodomain    Homeodomain  \n",
       "36       C2H2 ZF        C2H2 ZF  \n",
       "330      C2H2 ZF        C2H2 ZF  \n",
       "601      C2H2 ZF        C2H2 ZF  \n",
       "38           Ets            Ets  "
      ]
     },
     "execution_count": 54,
     "metadata": {},
     "output_type": "execute_result"
    }
   ],
   "source": [
    "m1h = load_m1h_activation_data()\n",
    "m1h['M1H_mean'] = m1h[['M1H_rep1', 'M1H_rep2', 'M1H_rep3']].mean(axis=1)\n",
    "m1h['family'] = m1h['gene_symbol'].map(fam)\n",
    "m1h['family_renamed'] = m1h.apply(rename_family, axis=1)\n",
    "\n",
    "# limit to only clones considered in tf1.0, e.g. anything for a tf >1 iso\n",
    "m1h = m1h[m1h[\"clone_acc\"].isin(status_map[\"clone_acc\"])]\n",
    "\n",
    "m1h.sample(5)"
   ]
  },
  {
   "cell_type": "code",
   "execution_count": 55,
   "metadata": {},
   "outputs": [
    {
     "name": "stdout",
     "output_type": "stream",
     "text": [
      "NUM ISOS TESTED IN M1H: 580\n",
      "NUM GENES TESTED IN M1H: 224\n"
     ]
    }
   ],
   "source": [
    "print(\"NUM ISOS TESTED IN M1H: %s\" % (len(m1h[~pd.isnull(m1h[\"M1H_mean\"])].clone_acc.unique())))\n",
    "print(\"NUM GENES TESTED IN M1H: %s\" % (len(m1h[~pd.isnull(m1h[\"M1H_mean\"])].gene_symbol.unique())))"
   ]
  },
  {
   "cell_type": "code",
   "execution_count": 56,
   "metadata": {},
   "outputs": [],
   "source": [
    "m1h_vc = m1h.groupby(\"family_renamed\")[\"clone_acc\"].agg(\"count\").reset_index()\n",
    "m1h_vc.columns = [\"family_renamed\", \"isoform\"]\n",
    "m1h_vc[\"source\"] = \"M1H (all)\""
   ]
  },
  {
   "cell_type": "code",
   "execution_count": 57,
   "metadata": {},
   "outputs": [],
   "source": [
    "m1h_any_vc = m1h[m1h[\"M1H_mean\"].abs() > 1].groupby(\"family_renamed\")[\"clone_acc\"].agg(\"count\").reset_index()\n",
    "m1h_any_vc.columns = [\"family_renamed\", \"isoform\"]\n",
    "m1h_any_vc[\"source\"] = \"M1H (≥2-fold activ.)\""
   ]
  },
  {
   "cell_type": "code",
   "execution_count": 58,
   "metadata": {},
   "outputs": [
    {
     "name": "stderr",
     "output_type": "stream",
     "text": [
      "/var/folders/4f/st3pbvs10sd68jl3b4p861h80000gn/T/ipykernel_86578/2272093377.py:1: FutureWarning: The frame.append method is deprecated and will be removed from pandas in a future version. Use pandas.concat instead.\n",
      "  mrg_vc = genc_vc.append(clone_vc)\n",
      "/var/folders/4f/st3pbvs10sd68jl3b4p861h80000gn/T/ipykernel_86578/2272093377.py:2: FutureWarning: The frame.append method is deprecated and will be removed from pandas in a future version. Use pandas.concat instead.\n",
      "  mrg_vc = mrg_vc.append(y1h_vc).append(y1h_any_vc)\n",
      "/var/folders/4f/st3pbvs10sd68jl3b4p861h80000gn/T/ipykernel_86578/2272093377.py:2: FutureWarning: The frame.append method is deprecated and will be removed from pandas in a future version. Use pandas.concat instead.\n",
      "  mrg_vc = mrg_vc.append(y1h_vc).append(y1h_any_vc)\n",
      "/var/folders/4f/st3pbvs10sd68jl3b4p861h80000gn/T/ipykernel_86578/2272093377.py:3: FutureWarning: The frame.append method is deprecated and will be removed from pandas in a future version. Use pandas.concat instead.\n",
      "  mrg_vc = mrg_vc.append(y2h_vc).append(y2h_any_vc)\n",
      "/var/folders/4f/st3pbvs10sd68jl3b4p861h80000gn/T/ipykernel_86578/2272093377.py:3: FutureWarning: The frame.append method is deprecated and will be removed from pandas in a future version. Use pandas.concat instead.\n",
      "  mrg_vc = mrg_vc.append(y2h_vc).append(y2h_any_vc)\n",
      "/var/folders/4f/st3pbvs10sd68jl3b4p861h80000gn/T/ipykernel_86578/2272093377.py:4: FutureWarning: The frame.append method is deprecated and will be removed from pandas in a future version. Use pandas.concat instead.\n",
      "  mrg_vc = mrg_vc.append(m1h_vc).append(m1h_any_vc)\n",
      "/var/folders/4f/st3pbvs10sd68jl3b4p861h80000gn/T/ipykernel_86578/2272093377.py:4: FutureWarning: The frame.append method is deprecated and will be removed from pandas in a future version. Use pandas.concat instead.\n",
      "  mrg_vc = mrg_vc.append(m1h_vc).append(m1h_any_vc)\n"
     ]
    },
    {
     "data": {
      "text/html": [
       "<div>\n",
       "<style scoped>\n",
       "    .dataframe tbody tr th:only-of-type {\n",
       "        vertical-align: middle;\n",
       "    }\n",
       "\n",
       "    .dataframe tbody tr th {\n",
       "        vertical-align: top;\n",
       "    }\n",
       "\n",
       "    .dataframe thead th {\n",
       "        text-align: right;\n",
       "    }\n",
       "</style>\n",
       "<table border=\"1\" class=\"dataframe\">\n",
       "  <thead>\n",
       "    <tr style=\"text-align: right;\">\n",
       "      <th></th>\n",
       "      <th>family_renamed</th>\n",
       "      <th>isoform</th>\n",
       "      <th>source</th>\n",
       "    </tr>\n",
       "  </thead>\n",
       "  <tbody>\n",
       "    <tr>\n",
       "      <th>0</th>\n",
       "      <td>C2H2 ZF</td>\n",
       "      <td>1840</td>\n",
       "      <td>GENCODE</td>\n",
       "    </tr>\n",
       "    <tr>\n",
       "      <th>1</th>\n",
       "      <td>Ets</td>\n",
       "      <td>89</td>\n",
       "      <td>GENCODE</td>\n",
       "    </tr>\n",
       "    <tr>\n",
       "      <th>2</th>\n",
       "      <td>Forkhead</td>\n",
       "      <td>97</td>\n",
       "      <td>GENCODE</td>\n",
       "    </tr>\n",
       "    <tr>\n",
       "      <th>3</th>\n",
       "      <td>Homeodomain</td>\n",
       "      <td>350</td>\n",
       "      <td>GENCODE</td>\n",
       "    </tr>\n",
       "    <tr>\n",
       "      <th>4</th>\n",
       "      <td>Nuclear receptor</td>\n",
       "      <td>176</td>\n",
       "      <td>GENCODE</td>\n",
       "    </tr>\n",
       "    <tr>\n",
       "      <th>...</th>\n",
       "      <td>...</td>\n",
       "      <td>...</td>\n",
       "      <td>...</td>\n",
       "    </tr>\n",
       "    <tr>\n",
       "      <th>3</th>\n",
       "      <td>Homeodomain</td>\n",
       "      <td>32</td>\n",
       "      <td>M1H (≥2-fold activ.)</td>\n",
       "    </tr>\n",
       "    <tr>\n",
       "      <th>4</th>\n",
       "      <td>Nuclear receptor</td>\n",
       "      <td>31</td>\n",
       "      <td>M1H (≥2-fold activ.)</td>\n",
       "    </tr>\n",
       "    <tr>\n",
       "      <th>5</th>\n",
       "      <td>Other</td>\n",
       "      <td>89</td>\n",
       "      <td>M1H (≥2-fold activ.)</td>\n",
       "    </tr>\n",
       "    <tr>\n",
       "      <th>6</th>\n",
       "      <td>bHLH</td>\n",
       "      <td>31</td>\n",
       "      <td>M1H (≥2-fold activ.)</td>\n",
       "    </tr>\n",
       "    <tr>\n",
       "      <th>7</th>\n",
       "      <td>bZIP</td>\n",
       "      <td>15</td>\n",
       "      <td>M1H (≥2-fold activ.)</td>\n",
       "    </tr>\n",
       "  </tbody>\n",
       "</table>\n",
       "<p>64 rows × 3 columns</p>\n",
       "</div>"
      ],
      "text/plain": [
       "      family_renamed  isoform                source\n",
       "0            C2H2 ZF     1840               GENCODE\n",
       "1                Ets       89               GENCODE\n",
       "2           Forkhead       97               GENCODE\n",
       "3        Homeodomain      350               GENCODE\n",
       "4   Nuclear receptor      176               GENCODE\n",
       "..               ...      ...                   ...\n",
       "3        Homeodomain       32  M1H (≥2-fold activ.)\n",
       "4   Nuclear receptor       31  M1H (≥2-fold activ.)\n",
       "5              Other       89  M1H (≥2-fold activ.)\n",
       "6               bHLH       31  M1H (≥2-fold activ.)\n",
       "7               bZIP       15  M1H (≥2-fold activ.)\n",
       "\n",
       "[64 rows x 3 columns]"
      ]
     },
     "execution_count": 58,
     "metadata": {},
     "output_type": "execute_result"
    }
   ],
   "source": [
    "mrg_vc = genc_vc.append(clone_vc)\n",
    "mrg_vc = mrg_vc.append(y1h_vc).append(y1h_any_vc)\n",
    "mrg_vc = mrg_vc.append(y2h_vc).append(y2h_any_vc)\n",
    "mrg_vc = mrg_vc.append(m1h_vc).append(m1h_any_vc)\n",
    "mrg_vc"
   ]
  },
  {
   "cell_type": "code",
   "execution_count": 59,
   "metadata": {},
   "outputs": [
    {
     "data": {
      "text/html": [
       "<div>\n",
       "<style scoped>\n",
       "    .dataframe tbody tr th:only-of-type {\n",
       "        vertical-align: middle;\n",
       "    }\n",
       "\n",
       "    .dataframe tbody tr th {\n",
       "        vertical-align: top;\n",
       "    }\n",
       "\n",
       "    .dataframe thead th {\n",
       "        text-align: right;\n",
       "    }\n",
       "</style>\n",
       "<table border=\"1\" class=\"dataframe\">\n",
       "  <thead>\n",
       "    <tr style=\"text-align: right;\">\n",
       "      <th>family_renamed</th>\n",
       "      <th>source</th>\n",
       "      <th>Other</th>\n",
       "      <th>Ets</th>\n",
       "      <th>Forkhead</th>\n",
       "      <th>bZIP</th>\n",
       "      <th>Nuclear receptor</th>\n",
       "      <th>bHLH</th>\n",
       "      <th>Homeodomain</th>\n",
       "      <th>C2H2 ZF</th>\n",
       "    </tr>\n",
       "  </thead>\n",
       "  <tbody>\n",
       "    <tr>\n",
       "      <th>0</th>\n",
       "      <td>GENCODE</td>\n",
       "      <td>28.450772</td>\n",
       "      <td>2.147683</td>\n",
       "      <td>2.340734</td>\n",
       "      <td>3.595560</td>\n",
       "      <td>4.247104</td>\n",
       "      <td>6.370656</td>\n",
       "      <td>8.445946</td>\n",
       "      <td>44.401544</td>\n",
       "    </tr>\n",
       "    <tr>\n",
       "      <th>1</th>\n",
       "      <td>TFIso1.0</td>\n",
       "      <td>25.829726</td>\n",
       "      <td>4.184704</td>\n",
       "      <td>2.164502</td>\n",
       "      <td>4.040404</td>\n",
       "      <td>7.215007</td>\n",
       "      <td>8.225108</td>\n",
       "      <td>8.658009</td>\n",
       "      <td>39.682540</td>\n",
       "    </tr>\n",
       "    <tr>\n",
       "      <th>2</th>\n",
       "      <td>Y1H (all)</td>\n",
       "      <td>35.087719</td>\n",
       "      <td>2.923977</td>\n",
       "      <td>4.093567</td>\n",
       "      <td>1.169591</td>\n",
       "      <td>11.695906</td>\n",
       "      <td>9.941520</td>\n",
       "      <td>18.128655</td>\n",
       "      <td>16.959064</td>\n",
       "    </tr>\n",
       "    <tr>\n",
       "      <th>3</th>\n",
       "      <td>Y1H (≥1 PDI)</td>\n",
       "      <td>32.173913</td>\n",
       "      <td>1.739130</td>\n",
       "      <td>3.478261</td>\n",
       "      <td>0.869565</td>\n",
       "      <td>16.521739</td>\n",
       "      <td>9.565217</td>\n",
       "      <td>19.130435</td>\n",
       "      <td>16.521739</td>\n",
       "    </tr>\n",
       "    <tr>\n",
       "      <th>4</th>\n",
       "      <td>Y2H (all)</td>\n",
       "      <td>13.527478</td>\n",
       "      <td>0.211367</td>\n",
       "      <td>2.113668</td>\n",
       "      <td>3.029591</td>\n",
       "      <td>3.100047</td>\n",
       "      <td>40.793800</td>\n",
       "      <td>12.541099</td>\n",
       "      <td>24.682950</td>\n",
       "    </tr>\n",
       "    <tr>\n",
       "      <th>5</th>\n",
       "      <td>Y2H (≥1 PPI)</td>\n",
       "      <td>15.182186</td>\n",
       "      <td>0.161943</td>\n",
       "      <td>1.983806</td>\n",
       "      <td>3.279352</td>\n",
       "      <td>3.643725</td>\n",
       "      <td>49.514170</td>\n",
       "      <td>10.931174</td>\n",
       "      <td>15.303644</td>\n",
       "    </tr>\n",
       "    <tr>\n",
       "      <th>6</th>\n",
       "      <td>M1H (all)</td>\n",
       "      <td>25.000000</td>\n",
       "      <td>3.448276</td>\n",
       "      <td>2.413793</td>\n",
       "      <td>4.310345</td>\n",
       "      <td>7.931034</td>\n",
       "      <td>7.586207</td>\n",
       "      <td>9.137931</td>\n",
       "      <td>40.172414</td>\n",
       "    </tr>\n",
       "    <tr>\n",
       "      <th>7</th>\n",
       "      <td>M1H (≥2-fold activ.)</td>\n",
       "      <td>26.099707</td>\n",
       "      <td>4.985337</td>\n",
       "      <td>3.225806</td>\n",
       "      <td>4.398827</td>\n",
       "      <td>9.090909</td>\n",
       "      <td>9.090909</td>\n",
       "      <td>9.384164</td>\n",
       "      <td>33.724340</td>\n",
       "    </tr>\n",
       "  </tbody>\n",
       "</table>\n",
       "</div>"
      ],
      "text/plain": [
       "family_renamed                source      Other       Ets  Forkhead      bZIP  \\\n",
       "0                            GENCODE  28.450772  2.147683  2.340734  3.595560   \n",
       "1                           TFIso1.0  25.829726  4.184704  2.164502  4.040404   \n",
       "2                          Y1H (all)  35.087719  2.923977  4.093567  1.169591   \n",
       "3                       Y1H (≥1 PDI)  32.173913  1.739130  3.478261  0.869565   \n",
       "4                          Y2H (all)  13.527478  0.211367  2.113668  3.029591   \n",
       "5                       Y2H (≥1 PPI)  15.182186  0.161943  1.983806  3.279352   \n",
       "6                          M1H (all)  25.000000  3.448276  2.413793  4.310345   \n",
       "7               M1H (≥2-fold activ.)  26.099707  4.985337  3.225806  4.398827   \n",
       "\n",
       "family_renamed  Nuclear receptor       bHLH  Homeodomain    C2H2 ZF  \n",
       "0                       4.247104   6.370656     8.445946  44.401544  \n",
       "1                       7.215007   8.225108     8.658009  39.682540  \n",
       "2                      11.695906   9.941520    18.128655  16.959064  \n",
       "3                      16.521739   9.565217    19.130435  16.521739  \n",
       "4                       3.100047  40.793800    12.541099  24.682950  \n",
       "5                       3.643725  49.514170    10.931174  15.303644  \n",
       "6                       7.931034   7.586207     9.137931  40.172414  \n",
       "7                       9.090909   9.090909     9.384164  33.724340  "
      ]
     },
     "execution_count": 59,
     "metadata": {},
     "output_type": "execute_result"
    }
   ],
   "source": [
    "mrg_piv = pd.pivot_table(mrg_vc, values=\"isoform\", columns=\"source\", index=\"family_renamed\")\n",
    "mrg_piv = mrg_piv.fillna(0)\n",
    "mrg_piv = (mrg_piv/mrg_piv.sum(axis=0))*100\n",
    "mrg_piv = mrg_piv.T\n",
    "mrg_piv = mrg_piv.reindex([\"GENCODE\", \"TFIso1.0\", \"Y1H (all)\", \"Y1H (≥1 PDI)\",\n",
    "                           \"Y2H (all)\", \"Y2H (≥1 PPI)\", \"M1H (all)\", \"M1H (≥2-fold activ.)\"])\n",
    "mrg_piv = mrg_piv.reset_index()\n",
    "\n",
    "mrg_piv = mrg_piv[[\"source\", \"Other\", \"Ets\", \"Forkhead\", \"bZIP\", \"Nuclear receptor\",\n",
    "                   \"bHLH\", \"Homeodomain\", \"C2H2 ZF\"]]\n",
    "mrg_piv"
   ]
  },
  {
   "cell_type": "code",
   "execution_count": 60,
   "metadata": {},
   "outputs": [
    {
     "name": "stdout",
     "output_type": "stream",
     "text": [
      "Palette 'Hokusai1' has '7' discrete colors\n"
     ]
    },
    {
     "data": {
      "image/png": "[encoded data removed]",
      "text/plain": [
       "<Figure size 800x100 with 1 Axes>"
      ]
     },
     "metadata": {},
     "output_type": "display_data"
    }
   ],
   "source": [
    "colors = met_brewer.met_brew(name=\"Hokusai1\")\n",
    "colors.append(\"lightgrey\")\n",
    "colors = colors[::-1]\n",
    "#colors[7] = \"lightgrey\"\n",
    "sns.palplot(colors)"
   ]
  },
  {
   "cell_type": "code",
   "execution_count": 61,
   "metadata": {},
   "outputs": [
    {
     "name": "stderr",
     "output_type": "stream",
     "text": [
      "1 extra bytes in post.stringData array\n",
      "'created' timestamp seems very low; regarding as unix timestamp\n",
      "Zapf NOT subset; don't know how to subset; dropped\n",
      "feat NOT subset; don't know how to subset; dropped\n",
      "meta NOT subset; don't know how to subset; dropped\n",
      "morx NOT subset; don't know how to subset; dropped\n"
     ]
    },
    {
     "data": {
      "image/png": "[encoded data removed]",
      "text/plain": [
       "<Figure size 150x150 with 1 Axes>"
      ]
     },
     "metadata": {},
     "output_type": "display_data"
    }
   ],
   "source": [
    "ax = mrg_piv.plot.bar(x=\"source\", stacked=True, color=colors, figsize=(1.5, 1.5))\n",
    "\n",
    "ax.set_ylabel(\"Percentage of isoforms\")\n",
    "ax.set_xlabel(\"\")\n",
    "\n",
    "plt.legend()\n",
    "handles, labels = ax.get_legend_handles_labels()\n",
    "ax.legend(reversed(handles), reversed(labels), loc=2, bbox_to_anchor=(1.01, 1), frameon=False)\n",
    "\n",
    "ax.spines['right'].set_visible(False)\n",
    "ax.spines['top'].set_visible(False)\n",
    "ax.spines['bottom'].set_visible(False)\n",
    "ax.xaxis.set_tick_params(length=0)\n",
    "\n",
    "plt.savefig('../../figures/fig2/assay_families.detailed.pdf',\n",
    "            bbox_inches='tight')"
   ]
  },
  {
   "cell_type": "code",
   "execution_count": 62,
   "metadata": {},
   "outputs": [
    {
     "name": "stderr",
     "output_type": "stream",
     "text": [
      "1 extra bytes in post.stringData array\n",
      "'created' timestamp seems very low; regarding as unix timestamp\n",
      "Zapf NOT subset; don't know how to subset; dropped\n",
      "feat NOT subset; don't know how to subset; dropped\n",
      "meta NOT subset; don't know how to subset; dropped\n",
      "morx NOT subset; don't know how to subset; dropped\n"
     ]
    },
    {
     "data": {
      "image/png": "[encoded data removed]",
      "text/plain": [
       "<Figure size 110x150 with 1 Axes>"
      ]
     },
     "metadata": {},
     "output_type": "display_data"
    }
   ],
   "source": [
    "ax = mrg_piv[mrg_piv[\"source\"].isin([\"GENCODE\", \"TFIso1.0\", \"Y1H (all)\",\n",
    "                  \"Y2H (all)\", \"M1H (all)\"])].plot.bar(x=\"source\", stacked=True, color=colors, figsize=(1.1, 1.5))\n",
    "\n",
    "ax.set_ylabel(\"Percentage of isoforms\")\n",
    "ax.set_xlabel(\"\")\n",
    "\n",
    "plt.legend()\n",
    "handles, labels = ax.get_legend_handles_labels()\n",
    "ax.legend(reversed(handles), reversed(labels), loc=2, bbox_to_anchor=(1.01, 1), borderpad=0.25,\n",
    "          handlelength=1, handletextpad=0.2, frameon=False)\n",
    "\n",
    "ax.spines['right'].set_visible(False)\n",
    "ax.spines['top'].set_visible(False)\n",
    "ax.spines['bottom'].set_visible(False)\n",
    "ax.xaxis.set_tick_params(length=0)\n",
    "\n",
    "ax.set_ylim(0, 100)\n",
    "ax.set_yticks(range(0, 101, 20))\n",
    "ax.set_yticks(range(0, 101, 10), minor=True)\n",
    "\n",
    "plt.savefig('../../figures/fig2/assay_families.pdf',\n",
    "            bbox_inches='tight')"
   ]
  },
  {
   "cell_type": "markdown",
   "metadata": {},
   "source": [
    "## 5. print number of genes/isos in each category for use in schematic figs/text"
   ]
  },
  {
   "cell_type": "code",
   "execution_count": 63,
   "metadata": {},
   "outputs": [
    {
     "name": "stdout",
     "output_type": "stream",
     "text": [
      "total # of isos in collection\n"
     ]
    },
    {
     "data": {
      "text/plain": [
       "693"
      ]
     },
     "execution_count": 63,
     "metadata": {},
     "output_type": "execute_result"
    }
   ],
   "source": [
    "print(\"total # of isos in collection\")\n",
    "len(clone_df)"
   ]
  },
  {
   "cell_type": "code",
   "execution_count": 64,
   "metadata": {},
   "outputs": [
    {
     "name": "stdout",
     "output_type": "stream",
     "text": [
      "total # of unique TF genes in collection\n"
     ]
    },
    {
     "data": {
      "text/plain": [
       "246"
      ]
     },
     "execution_count": 64,
     "metadata": {},
     "output_type": "execute_result"
    }
   ],
   "source": [
    "print(\"total # of unique TF genes in collection\")\n",
    "len(clone_df.gene.unique())"
   ]
  },
  {
   "cell_type": "code",
   "execution_count": 65,
   "metadata": {},
   "outputs": [
    {
     "name": "stdout",
     "output_type": "stream",
     "text": [
      "total # of isos tested in Y1H\n"
     ]
    },
    {
     "data": {
      "text/plain": [
       "171"
      ]
     },
     "execution_count": 65,
     "metadata": {},
     "output_type": "execute_result"
    }
   ],
   "source": [
    "print(\"total # of isos tested in Y1H\")\n",
    "len(y1h)"
   ]
  },
  {
   "cell_type": "code",
   "execution_count": 66,
   "metadata": {},
   "outputs": [
    {
     "name": "stdout",
     "output_type": "stream",
     "text": [
      "total # of unique TF genes tested in Y1H\n"
     ]
    },
    {
     "data": {
      "text/plain": [
       "80"
      ]
     },
     "execution_count": 66,
     "metadata": {},
     "output_type": "execute_result"
    }
   ],
   "source": [
    "print(\"total # of unique TF genes tested in Y1H\")\n",
    "len(y1h.gene_symbol.unique())"
   ]
  },
  {
   "cell_type": "code",
   "execution_count": 67,
   "metadata": {},
   "outputs": [
    {
     "name": "stdout",
     "output_type": "stream",
     "text": [
      "total # of baits tested in Y1H\n"
     ]
    },
    {
     "data": {
      "text/plain": [
       "186"
      ]
     },
     "execution_count": 67,
     "metadata": {},
     "output_type": "execute_result"
    }
   ],
   "source": [
    "print(\"total # of baits tested in Y1H\")\n",
    "len(baits)"
   ]
  },
  {
   "cell_type": "code",
   "execution_count": 68,
   "metadata": {},
   "outputs": [
    {
     "name": "stdout",
     "output_type": "stream",
     "text": [
      "total # of isos with at least 1 interaction in Y1H\n"
     ]
    },
    {
     "data": {
      "text/plain": [
       "115"
      ]
     },
     "execution_count": 68,
     "metadata": {},
     "output_type": "execute_result"
    }
   ],
   "source": [
    "print(\"total # of isos with at least 1 interaction in Y1H\")\n",
    "len(y1h[y1h['any_true'] > 0])"
   ]
  },
  {
   "cell_type": "code",
   "execution_count": 69,
   "metadata": {},
   "outputs": [
    {
     "name": "stdout",
     "output_type": "stream",
     "text": [
      "total # of unique TF genes with at least 1 interaction in Y1H\n"
     ]
    },
    {
     "data": {
      "text/plain": [
       "69"
      ]
     },
     "execution_count": 69,
     "metadata": {},
     "output_type": "execute_result"
    }
   ],
   "source": [
    "print(\"total # of unique TF genes with at least 1 interaction in Y1H\")\n",
    "len(y1h[y1h['any_true'] > 0].gene_symbol.unique())"
   ]
  },
  {
   "cell_type": "code",
   "execution_count": 70,
   "metadata": {},
   "outputs": [
    {
     "name": "stdout",
     "output_type": "stream",
     "text": [
      "total # of isos tested in Y2H\n"
     ]
    },
    {
     "data": {
      "text/plain": [
       "253"
      ]
     },
     "execution_count": 70,
     "metadata": {},
     "output_type": "execute_result"
    }
   ],
   "source": [
    "print(\"total # of isos tested in Y2H\")\n",
    "len(y2h[~pd.isnull(y2h[\"Y2H_result\"])].ad_clone_acc.unique())"
   ]
  },
  {
   "cell_type": "code",
   "execution_count": 71,
   "metadata": {},
   "outputs": [
    {
     "name": "stdout",
     "output_type": "stream",
     "text": [
      "total # of unique TF genes tested in Y2H\n"
     ]
    },
    {
     "data": {
      "text/plain": [
       "87"
      ]
     },
     "execution_count": 71,
     "metadata": {},
     "output_type": "execute_result"
    }
   ],
   "source": [
    "print(\"total # of unique TF genes tested in Y2H\")\n",
    "len(y2h[~pd.isnull(y2h[\"Y2H_result\"])].ad_gene_symbol.unique())"
   ]
  },
  {
   "cell_type": "code",
   "execution_count": 72,
   "metadata": {},
   "outputs": [
    {
     "name": "stdout",
     "output_type": "stream",
     "text": [
      "total # of partners tested in Y2H\n"
     ]
    },
    {
     "data": {
      "text/plain": [
       "538"
      ]
     },
     "execution_count": 72,
     "metadata": {},
     "output_type": "execute_result"
    }
   ],
   "source": [
    "print(\"total # of partners tested in Y2H\")\n",
    "len(y2h.db_gene_symbol.unique())"
   ]
  },
  {
   "cell_type": "code",
   "execution_count": 73,
   "metadata": {},
   "outputs": [
    {
     "name": "stdout",
     "output_type": "stream",
     "text": [
      "total # of isos with at least 1 interaction in Y2H\n"
     ]
    },
    {
     "data": {
      "text/plain": [
       "193"
      ]
     },
     "execution_count": 73,
     "metadata": {},
     "output_type": "execute_result"
    }
   ],
   "source": [
    "print(\"total # of isos with at least 1 interaction in Y2H\")\n",
    "len(y2h[y2h[\"Y2H_result\"] == True].ad_clone_acc.unique())"
   ]
  },
  {
   "cell_type": "code",
   "execution_count": 74,
   "metadata": {},
   "outputs": [
    {
     "name": "stdout",
     "output_type": "stream",
     "text": [
      "total # of unique TF genes with at least 1 interaction in Y2H\n"
     ]
    },
    {
     "data": {
      "text/plain": [
       "87"
      ]
     },
     "execution_count": 74,
     "metadata": {},
     "output_type": "execute_result"
    }
   ],
   "source": [
    "print(\"total # of unique TF genes with at least 1 interaction in Y2H\")\n",
    "len(y2h[y2h[\"Y2H_result\"] == True].ad_gene_symbol.unique())"
   ]
  },
  {
   "cell_type": "code",
   "execution_count": 75,
   "metadata": {},
   "outputs": [
    {
     "name": "stdout",
     "output_type": "stream",
     "text": [
      "total # of isos tested in M1H\n"
     ]
    },
    {
     "data": {
      "text/plain": [
       "580"
      ]
     },
     "execution_count": 75,
     "metadata": {},
     "output_type": "execute_result"
    }
   ],
   "source": [
    "print(\"total # of isos tested in M1H\")\n",
    "len(m1h.clone_acc.unique())"
   ]
  },
  {
   "cell_type": "code",
   "execution_count": 76,
   "metadata": {},
   "outputs": [
    {
     "name": "stdout",
     "output_type": "stream",
     "text": [
      "total # of unique TF genes tested in M1H\n"
     ]
    },
    {
     "data": {
      "text/plain": [
       "224"
      ]
     },
     "execution_count": 76,
     "metadata": {},
     "output_type": "execute_result"
    }
   ],
   "source": [
    "print(\"total # of unique TF genes tested in M1H\")\n",
    "len(m1h.gene_symbol.unique())"
   ]
  },
  {
   "cell_type": "code",
   "execution_count": 77,
   "metadata": {},
   "outputs": [
    {
     "name": "stdout",
     "output_type": "stream",
     "text": [
      "total # of isos with activity in M1H (abs > 1)\n"
     ]
    },
    {
     "data": {
      "text/plain": [
       "341"
      ]
     },
     "execution_count": 77,
     "metadata": {},
     "output_type": "execute_result"
    }
   ],
   "source": [
    "print(\"total # of isos with activity in M1H (abs > 1)\")\n",
    "len(m1h[m1h[\"M1H_mean\"].abs() > 1].clone_acc.unique())"
   ]
  },
  {
   "cell_type": "code",
   "execution_count": 78,
   "metadata": {},
   "outputs": [
    {
     "name": "stdout",
     "output_type": "stream",
     "text": [
      "total # of unique TF genes with activity in M1H (abs > 1)\n"
     ]
    },
    {
     "data": {
      "text/plain": [
       "165"
      ]
     },
     "execution_count": 78,
     "metadata": {},
     "output_type": "execute_result"
    }
   ],
   "source": [
    "print(\"total # of unique TF genes with activity in M1H (abs > 1)\")\n",
    "len(m1h[m1h[\"M1H_mean\"].abs() > 1].gene_symbol.unique())"
   ]
  },
  {
   "cell_type": "code",
   "execution_count": 79,
   "metadata": {},
   "outputs": [
    {
     "data": {
      "text/plain": [
       "{'E2F3',\n",
       " 'ESRRG',\n",
       " 'FOXJ2',\n",
       " 'GMEB1',\n",
       " 'HNF4A',\n",
       " 'LHX6',\n",
       " 'LHX9',\n",
       " 'MEIS1',\n",
       " 'MEIS2',\n",
       " 'MEOX1',\n",
       " 'NFIA',\n",
       " 'NFIX',\n",
       " 'NR4A2',\n",
       " 'PATZ1',\n",
       " 'PAX5',\n",
       " 'PBX1',\n",
       " 'PKNOX1',\n",
       " 'PPARG',\n",
       " 'PRRX1',\n",
       " 'RARG',\n",
       " 'RBPJ',\n",
       " 'RFX4',\n",
       " 'STAT3',\n",
       " 'TCF12',\n",
       " 'TCF4',\n",
       " 'WT1',\n",
       " 'ZBTB18',\n",
       " 'ZNF143',\n",
       " 'ZNF18'}"
      ]
     },
     "execution_count": 79,
     "metadata": {},
     "output_type": "execute_result"
    }
   ],
   "source": [
    "all_3 = set(m1h[m1h[\"M1H_mean\"].abs() > 1].gene_symbol.unique()).intersection(set(y2h[y2h[\"Y2H_result\"] == True].ad_gene_symbol.unique())).intersection(set(y1h[y1h['any_true'] > 0].gene_symbol.unique()))\n",
    "all_3"
   ]
  },
  {
   "cell_type": "markdown",
   "metadata": {},
   "source": [
    "## 6. compare novel isoform performance in assay to annotated ref/alt"
   ]
  },
  {
   "cell_type": "code",
   "execution_count": 80,
   "metadata": {},
   "outputs": [],
   "source": [
    "from data_loading import load_valid_isoform_clones"
   ]
  },
  {
   "cell_type": "code",
   "execution_count": 81,
   "metadata": {},
   "outputs": [],
   "source": [
    "mane_select_clones = {tf.MANE_select_isoform.clone_acc for tf in clone_tfs.values() \n",
    "                      if tf.cloned_MANE_select_isoform}"
   ]
  },
  {
   "cell_type": "code",
   "execution_count": 82,
   "metadata": {},
   "outputs": [],
   "source": [
    "iso = load_valid_isoform_clones()\n",
    "iso['is_longest_isoform'] = iso['clone_acc'].isin(iso.sort_values('num_aa', \n",
    "                                                                  ascending=False).groupby('gene_symbol').nth(0)['clone_acc'].values)\n",
    "iso['category'] = 'alternative'\n",
    "iso.loc[iso['clone_acc'].isin(mane_select_clones), 'category'] = 'reference'\n",
    "iso.loc[iso['is_novel_isoform'], 'category'] = 'novel'\n",
    "\n",
    "# this df includes some stuff we filtered out - remove these\n",
    "iso = iso[iso[\"clone_acc\"].isin(clone_df[\"isoform\"])]"
   ]
  },
  {
   "cell_type": "code",
   "execution_count": 83,
   "metadata": {},
   "outputs": [
    {
     "data": {
      "text/plain": [
       "246"
      ]
     },
     "execution_count": 83,
     "metadata": {},
     "output_type": "execute_result"
    }
   ],
   "source": [
    "len(iso['gene_symbol'].unique())"
   ]
  },
  {
   "cell_type": "code",
   "execution_count": 84,
   "metadata": {},
   "outputs": [
    {
     "data": {
      "text/plain": [
       "165"
      ]
     },
     "execution_count": 84,
     "metadata": {},
     "output_type": "execute_result"
    }
   ],
   "source": [
    "genes_w_ref = list(iso[iso['category'] == 'reference']['gene_symbol'].unique())\n",
    "len(genes_w_ref)"
   ]
  },
  {
   "cell_type": "code",
   "execution_count": 85,
   "metadata": {},
   "outputs": [
    {
     "data": {
      "text/plain": [
       "464"
      ]
     },
     "execution_count": 85,
     "metadata": {},
     "output_type": "execute_result"
    }
   ],
   "source": [
    "# subset iso df to only genes w MANE select isoform\n",
    "iso_sub = iso[iso['gene_symbol'].isin(genes_w_ref)]\n",
    "len(iso_sub)"
   ]
  },
  {
   "cell_type": "code",
   "execution_count": 86,
   "metadata": {},
   "outputs": [
    {
     "name": "stderr",
     "output_type": "stream",
     "text": [
      "/var/folders/4f/st3pbvs10sd68jl3b4p861h80000gn/T/ipykernel_86578/904820016.py:1: SettingWithCopyWarning: \n",
      "A value is trying to be set on a copy of a slice from a DataFrame.\n",
      "Try using .loc[row_indexer,col_indexer] = value instead\n",
      "\n",
      "See the caveats in the documentation: https://pandas.pydata.org/pandas-docs/stable/user_guide/indexing.html#returning-a-view-versus-a-copy\n",
      "  iso_sub['valid_ppi_test'] = iso['clone_acc'].map(y2h.groupby('ad_clone_acc').apply(lambda rows: ((rows['Y2H_result'] == True) |\n"
     ]
    }
   ],
   "source": [
    "iso_sub['valid_ppi_test'] = iso['clone_acc'].map(y2h.groupby('ad_clone_acc').apply(lambda rows: ((rows['Y2H_result'] == True) |\n",
    "                                                                                                 (rows['Y2H_result'] == False))\n",
    "                                                                                                 .any()))"
   ]
  },
  {
   "cell_type": "code",
   "execution_count": 87,
   "metadata": {},
   "outputs": [
    {
     "name": "stderr",
     "output_type": "stream",
     "text": [
      "/var/folders/4f/st3pbvs10sd68jl3b4p861h80000gn/T/ipykernel_86578/380360055.py:1: SettingWithCopyWarning: \n",
      "A value is trying to be set on a copy of a slice from a DataFrame.\n",
      "Try using .loc[row_indexer,col_indexer] = value instead\n",
      "\n",
      "See the caveats in the documentation: https://pandas.pydata.org/pandas-docs/stable/user_guide/indexing.html#returning-a-view-versus-a-copy\n",
      "  iso_sub['at_least_one_ppi'] = iso['clone_acc'].map(y2h.groupby('ad_clone_acc').apply(lambda rows: ((rows['Y2H_result'] == True))\n"
     ]
    }
   ],
   "source": [
    "iso_sub['at_least_one_ppi'] = iso['clone_acc'].map(y2h.groupby('ad_clone_acc').apply(lambda rows: ((rows['Y2H_result'] == True))\n",
    "                                                                                                    .any()))"
   ]
  },
  {
   "cell_type": "code",
   "execution_count": 88,
   "metadata": {},
   "outputs": [
    {
     "name": "stderr",
     "output_type": "stream",
     "text": [
      "/var/folders/4f/st3pbvs10sd68jl3b4p861h80000gn/T/ipykernel_86578/4278427494.py:2: FutureWarning: Dropping of nuisance columns in DataFrame reductions (with 'numeric_only=None') is deprecated; in a future version this will raise TypeError.  Select only valid columns before calling the reduction.\n",
      "  iso_sub['at_least_one_pdi'] = iso_sub['clone_acc'].map(y1h.drop(columns=['gene_symbol']).set_index('clone_acc').sum(axis=1) > 0)\n",
      "/var/folders/4f/st3pbvs10sd68jl3b4p861h80000gn/T/ipykernel_86578/4278427494.py:2: SettingWithCopyWarning: \n",
      "A value is trying to be set on a copy of a slice from a DataFrame.\n",
      "Try using .loc[row_indexer,col_indexer] = value instead\n",
      "\n",
      "See the caveats in the documentation: https://pandas.pydata.org/pandas-docs/stable/user_guide/indexing.html#returning-a-view-versus-a-copy\n",
      "  iso_sub['at_least_one_pdi'] = iso_sub['clone_acc'].map(y1h.drop(columns=['gene_symbol']).set_index('clone_acc').sum(axis=1) > 0)\n"
     ]
    }
   ],
   "source": [
    "y1h = y1h.drop_duplicates('clone_acc')\n",
    "iso_sub['at_least_one_pdi'] = iso_sub['clone_acc'].map(y1h.drop(columns=['gene_symbol']).set_index('clone_acc').sum(axis=1) > 0)"
   ]
  },
  {
   "cell_type": "code",
   "execution_count": 89,
   "metadata": {},
   "outputs": [
    {
     "name": "stderr",
     "output_type": "stream",
     "text": [
      "/var/folders/4f/st3pbvs10sd68jl3b4p861h80000gn/T/ipykernel_86578/1581122558.py:2: FutureWarning: Dropping of nuisance columns in DataFrame reductions (with 'numeric_only=None') is deprecated; in a future version this will raise TypeError.  Select only valid columns before calling the reduction.\n",
      "  m1h.drop(columns=['gene_symbol'])\n",
      "/var/folders/4f/st3pbvs10sd68jl3b4p861h80000gn/T/ipykernel_86578/1581122558.py:1: SettingWithCopyWarning: \n",
      "A value is trying to be set on a copy of a slice from a DataFrame.\n",
      "Try using .loc[row_indexer,col_indexer] = value instead\n",
      "\n",
      "See the caveats in the documentation: https://pandas.pydata.org/pandas-docs/stable/user_guide/indexing.html#returning-a-view-versus-a-copy\n",
      "  iso_sub['at_least_two_fold_activation'] = iso_sub['clone_acc'].map(\n"
     ]
    }
   ],
   "source": [
    "iso_sub['at_least_two_fold_activation'] = iso_sub['clone_acc'].map(\n",
    "                                            m1h.drop(columns=['gene_symbol'])\n",
    "                                                .set_index('clone_acc')\n",
    "                                                .mean(axis=1)\n",
    "                                                .abs() > 1)"
   ]
  },
  {
   "cell_type": "code",
   "execution_count": 90,
   "metadata": {},
   "outputs": [
    {
     "data": {
      "text/plain": [
       "alternative    209\n",
       "reference      165\n",
       "novel           90\n",
       "Name: category, dtype: int64"
      ]
     },
     "execution_count": 90,
     "metadata": {},
     "output_type": "execute_result"
    }
   ],
   "source": [
    "iso_sub.category.value_counts()"
   ]
  },
  {
   "cell_type": "code",
   "execution_count": 91,
   "metadata": {},
   "outputs": [
    {
     "name": "stdout",
     "output_type": "stream",
     "text": [
      "Palette 'Monet' has '9' discrete colors\n"
     ]
    },
    {
     "data": {
      "image/png": "[encoded data removed]",
      "text/plain": [
       "<Figure size 900x100 with 1 Axes>"
      ]
     },
     "metadata": {},
     "output_type": "display_data"
    }
   ],
   "source": [
    "colors = met_brewer.met_brew(name=\"Monet\")\n",
    "sns.palplot(colors)"
   ]
  },
  {
   "cell_type": "code",
   "execution_count": 92,
   "metadata": {},
   "outputs": [
    {
     "name": "stderr",
     "output_type": "stream",
     "text": [
      "1 extra bytes in post.stringData array\n",
      "'created' timestamp seems very low; regarding as unix timestamp\n",
      "Zapf NOT subset; don't know how to subset; dropped\n",
      "feat NOT subset; don't know how to subset; dropped\n",
      "meta NOT subset; don't know how to subset; dropped\n",
      "morx NOT subset; don't know how to subset; dropped\n"
     ]
    },
    {
     "data": {
      "image/png": "[encoded data removed]",
      "text/plain": [
       "<Figure size 210x150 with 1 Axes>"
      ]
     },
     "metadata": {},
     "output_type": "display_data"
    }
   ],
   "source": [
    "fig, ax = plt.subplots(1, 1)\n",
    "fig.set_size_inches(w=2.1, h=1.5)\n",
    "cats = ['reference', 'alternative', 'novel']\n",
    "positives = []\n",
    "tested = []\n",
    "\n",
    "for cat in cats:\n",
    "    positives.append(iso_sub.loc[\n",
    "                        (iso_sub['category'] == cat),\n",
    "                        'at_least_one_pdi'].sum())\n",
    "    tested.append(iso_sub.loc[\n",
    "                        (iso_sub['category'] == cat),\n",
    "                        'at_least_one_pdi'].notnull().sum())\n",
    "    \n",
    "for cat in cats:\n",
    "    positives.append(iso_sub.loc[iso_sub['valid_ppi_test'] &\n",
    "                        (iso_sub['category'] == cat),\n",
    "                        'at_least_one_ppi'].sum())\n",
    "    tested.append(iso_sub.loc[iso_sub['valid_ppi_test'] &\n",
    "                        (iso_sub['category'] == cat),\n",
    "                        'at_least_one_ppi'].notnull().sum())\n",
    "\n",
    "for cat in cats:\n",
    "    positives.append(iso_sub.loc[\n",
    "                        (iso_sub['category'] == cat),\n",
    "                        'at_least_two_fold_activation'].sum())\n",
    "    tested.append(iso_sub.loc[\n",
    "                        (iso_sub['category'] == cat),\n",
    "                        'at_least_two_fold_activation'].notnull().sum())\n",
    "for cat in cats:\n",
    "    tested_iso = (iso_sub['valid_ppi_test'] & \n",
    "                    iso_sub['at_least_two_fold_activation'].notnull() &\n",
    "                    iso_sub['at_least_one_pdi'].notnull() &\n",
    "                    (iso_sub['category'] == cat))\n",
    "    positives.append((iso_sub.loc[tested_iso, 'at_least_one_ppi'] |\n",
    "                 iso_sub.loc[tested_iso, 'at_least_two_fold_activation'] |\n",
    "                 iso_sub.loc[tested_iso, 'at_least_one_pdi']).sum())\n",
    "    tested.append(tested_iso.sum())\n",
    "    \n",
    "vals = [p / n for p, n in zip(positives, tested)]\n",
    "#errs = [np.sqrt(((p / n) * (1 - (p / n)) / n)) for p, n in zip(positives, tested)]\n",
    "\n",
    "pos = np.array(positives)\n",
    "neg = np.array(tested) - pos\n",
    "fracs = np.array(vals)\n",
    "intv = stats.beta.interval(0.6827, pos + 1, neg + 1)\n",
    "errs = [fracs - intv[0], intv[1] - fracs]\n",
    "errs[0][pos == 0] = 0.\n",
    "errs[1][neg == 0] = 0.\n",
    "\n",
    "offset = 0.5\n",
    "x_pos = ([i for i in range(3)] + \n",
    "       [i + offset for i in range(3, 6)] + \n",
    "       [i + offset * 2 for i in range(6, 9)] +\n",
    "       [i + offset * 3 for i in range(9, 12)])\n",
    "\n",
    "\n",
    "ax.bar(x=x_pos, height=vals, color=[colors[0], colors[1], colors[2]] * 3)\n",
    "ax.errorbar(x=x_pos, y=vals, yerr=errs,\n",
    "            color='black',\n",
    "            fmt='none',\n",
    "            linewidth=1,\n",
    "            capsize=1)\n",
    "ax.set_ylim(0, 1.1)\n",
    "ax.set_yticks(np.linspace(0, 1, 6))\n",
    "ax.set_yticks(np.linspace(0, 1, 11), minor=True)\n",
    "ax.set_yticklabels([f'{y:.0%}' for y in ax.get_yticks()])\n",
    "for loc in ['top', 'bottom', 'right']:\n",
    "    ax.spines[loc].set_visible(False)\n",
    "ax.xaxis.set_tick_params(length=0)\n",
    "\n",
    "ax.legend([Patch(facecolor=colors[i]) for i in range(3)],\n",
    "        ['Reference', 'Alternative', 'Novel'],\n",
    "        loc='upper left',\n",
    "        bbox_to_anchor=(1, 1),\n",
    "        frameon=False,\n",
    ")\n",
    "\n",
    "ax.set_xticks([x_pos[i] for i in [1, 4, 7, 10]])\n",
    "ax.set_xticklabels([\n",
    "   '≥ 1 PDI',\n",
    "   '≥ 1 PPI',\n",
    "   '≥ 2-fold\\nactivation/\\nrepression',\n",
    "   'Any one\\nof three',\n",
    "], \n",
    "                    ha='center',\n",
    "                    fontsize=6,\n",
    "                    )\n",
    "\n",
    "\n",
    "ax.set_ylabel('Percentage of isoforms')\n",
    "ax.set_ylim(0, 1)\n",
    "\n",
    "fig.savefig('../../figures/fig2/at-least-some-assay-result_ref-vs-alt-vs-novel_bar.pdf',\n",
    "            bbox_inches='tight')\n"
   ]
  },
  {
   "cell_type": "code",
   "execution_count": 93,
   "metadata": {},
   "outputs": [
    {
     "name": "stderr",
     "output_type": "stream",
     "text": [
      "1 extra bytes in post.stringData array\n",
      "'created' timestamp seems very low; regarding as unix timestamp\n",
      "Zapf NOT subset; don't know how to subset; dropped\n",
      "feat NOT subset; don't know how to subset; dropped\n",
      "meta NOT subset; don't know how to subset; dropped\n",
      "morx NOT subset; don't know how to subset; dropped\n"
     ]
    },
    {
     "data": {
      "image/png": "[encoded data removed]",
      "text/plain": [
       "<Figure size 250x150 with 1 Axes>"
      ]
     },
     "metadata": {},
     "output_type": "display_data"
    }
   ],
   "source": [
    "\n",
    "fig, ax = plt.subplots(1, 1)\n",
    "fig.set_size_inches(w=2.5, h=1.5)\n",
    "cats = ['reference', 'alternative', 'novel']\n",
    "positives = []\n",
    "tested = []\n",
    "\n",
    "for cat in cats:\n",
    "    positives.append(iso_sub.loc[\n",
    "                        (iso_sub['category'] == cat),\n",
    "                        'at_least_one_pdi'].sum())\n",
    "\n",
    "for cat in cats:\n",
    "    positives.append(iso_sub.loc[iso_sub['valid_ppi_test'] &\n",
    "                        (iso_sub['category'] == cat),\n",
    "                        'at_least_one_ppi'].sum())\n",
    "\n",
    "for cat in cats:\n",
    "    positives.append(iso_sub.loc[\n",
    "                        (iso_sub['category'] == cat),\n",
    "                        'at_least_two_fold_activation'].sum())\n",
    "\n",
    "for cat in cats:\n",
    "    positives.append((iso_sub.loc[(iso_sub['category'] == cat), 'at_least_one_ppi'].fillna(False) |\n",
    "                      iso_sub.loc[(iso_sub['category'] == cat), 'at_least_two_fold_activation'].fillna(False) |\n",
    "                      iso_sub.loc[(iso_sub['category'] == cat), 'at_least_one_pdi'].fillna(False)).sum())    \n",
    "\n",
    "tested = [(iso_sub['category'] == cat).sum() for cat in cats] * 4\n",
    "vals = [p / n for p, n in zip(positives, tested)]\n",
    "\n",
    "pos = np.array(positives)\n",
    "neg = np.array(tested) - pos\n",
    "fracs = np.array(vals)\n",
    "intv = stats.beta.interval(0.6827, pos + 1, neg + 1)\n",
    "errs = [fracs - intv[0], intv[1] - fracs]\n",
    "errs[0][pos == 0] = 0.\n",
    "errs[1][neg == 0] = 0.\n",
    "\n",
    "offset = 0.5\n",
    "x_pos = ([i for i in range(3)] + \n",
    "       [i + offset for i in range(3, 6)] + \n",
    "       [i + offset * 2 for i in range(6, 9)] +\n",
    "       [i + offset * 3 for i in range(9, 12)])\n",
    "ax.bar(x=x_pos, height=vals, color=[colors[0], colors[1], colors[2]] * 3)\n",
    "ax.errorbar(x=x_pos, y=vals, yerr=errs,\n",
    "            color='black',\n",
    "            fmt='none',\n",
    "            capsize=2,\n",
    "            linewidth=1)\n",
    "ax.set_ylim(0, 1)\n",
    "ax.set_yticks(np.linspace(0, 1, 6))\n",
    "ax.set_yticks(np.linspace(0, 1, 11), minor=True)\n",
    "ax.set_yticklabels([f'{y:.0%}' for y in ax.get_yticks()])\n",
    "for loc in ['top', 'bottom', 'right']:\n",
    "    ax.spines[loc].set_visible(False)\n",
    "ax.xaxis.set_tick_params(length=0)\n",
    "\n",
    "ax.legend([Patch(facecolor=colors[i]) for i in range(3)],\n",
    "        ['Reference', 'Alternative', 'Novel'],\n",
    "        loc='upper left',\n",
    "        bbox_to_anchor=(1, 1),\n",
    "        frameon=False,\n",
    ")\n",
    "\n",
    "ax.set_ylabel('Percentage of isoforms')\n",
    "\n",
    "ax.set_xticks([x_pos[i] for i in [1, 4, 7, 10]])\n",
    "ax.set_xticklabels([\n",
    "   '≥ 1 PDI',\n",
    "   '≥ 1 PPI',\n",
    "   '≥ 2-fold\\nactivation/\\nrepression',\n",
    "   'Any one\\nof three',\n",
    "], \n",
    "                    ha='center',\n",
    "                    fontsize=6,\n",
    "                    )\n",
    "\n",
    "\n",
    "fig.savefig('../../figures/fig2/at-least-some-assay-result_ref-vs-alt-vs-novel_absolute_bar.pdf',\n",
    "            bbox_inches='tight')"
   ]
  },
  {
   "cell_type": "markdown",
   "metadata": {},
   "source": [
    "## 7. make validation figures for Y2H (N2H)"
   ]
  },
  {
   "cell_type": "code",
   "execution_count": 94,
   "metadata": {},
   "outputs": [
    {
     "name": "stdout",
     "output_type": "stream",
     "text": [
      "821\n"
     ]
    },
    {
     "data": {
      "text/html": [
       "<div>\n",
       "<style scoped>\n",
       "    .dataframe tbody tr th:only-of-type {\n",
       "        vertical-align: middle;\n",
       "    }\n",
       "\n",
       "    .dataframe tbody tr th {\n",
       "        vertical-align: top;\n",
       "    }\n",
       "\n",
       "    .dataframe thead th {\n",
       "        text-align: right;\n",
       "    }\n",
       "</style>\n",
       "<table border=\"1\" class=\"dataframe\">\n",
       "  <thead>\n",
       "    <tr style=\"text-align: right;\">\n",
       "      <th></th>\n",
       "      <th>test_orf_ida</th>\n",
       "      <th>test_orf_idb</th>\n",
       "      <th>test_pla</th>\n",
       "      <th>test_pos_pair</th>\n",
       "      <th>score_pair</th>\n",
       "      <th>pair</th>\n",
       "      <th>source</th>\n",
       "      <th>test_pos_empty-N1</th>\n",
       "      <th>score_empty-N1</th>\n",
       "      <th>test_pos_empty-N2</th>\n",
       "      <th>score_empty-N2</th>\n",
       "      <th>clone_acc</th>\n",
       "      <th>gene_symbol_tf</th>\n",
       "      <th>gene_symbol_partner</th>\n",
       "      <th>NLR</th>\n",
       "      <th>log2 NLR</th>\n",
       "      <th>score_pair_log10</th>\n",
       "      <th>score_empty-N1_log10</th>\n",
       "      <th>score_empty-N2_log10</th>\n",
       "    </tr>\n",
       "  </thead>\n",
       "  <tbody>\n",
       "    <tr>\n",
       "      <th>0</th>\n",
       "      <td>54731</td>\n",
       "      <td>101256</td>\n",
       "      <td>1</td>\n",
       "      <td>A01</td>\n",
       "      <td>8351.0</td>\n",
       "      <td>54731_101256</td>\n",
       "      <td>vignettes</td>\n",
       "      <td>A03</td>\n",
       "      <td>137.0</td>\n",
       "      <td>A02</td>\n",
       "      <td>501.0</td>\n",
       "      <td>ATF2|2/6|09E05</td>\n",
       "      <td>ATF2</td>\n",
       "      <td>ATF2</td>\n",
       "      <td>16.668663</td>\n",
       "      <td>4.059066</td>\n",
       "      <td>3.921738</td>\n",
       "      <td>2.136721</td>\n",
       "      <td>2.699838</td>\n",
       "    </tr>\n",
       "    <tr>\n",
       "      <th>1</th>\n",
       "      <td>12504</td>\n",
       "      <td>101256</td>\n",
       "      <td>1</td>\n",
       "      <td>A04</td>\n",
       "      <td>6709.0</td>\n",
       "      <td>12504_101256</td>\n",
       "      <td>vignettes</td>\n",
       "      <td>A03</td>\n",
       "      <td>137.0</td>\n",
       "      <td>A05</td>\n",
       "      <td>6709.0</td>\n",
       "      <td>ATF2|2/6|09E05</td>\n",
       "      <td>ATF2</td>\n",
       "      <td>FOSL2</td>\n",
       "      <td>1.000000</td>\n",
       "      <td>0.000000</td>\n",
       "      <td>3.826658</td>\n",
       "      <td>2.136721</td>\n",
       "      <td>3.826658</td>\n",
       "    </tr>\n",
       "    <tr>\n",
       "      <th>2</th>\n",
       "      <td>10051</td>\n",
       "      <td>101256</td>\n",
       "      <td>1</td>\n",
       "      <td>A06</td>\n",
       "      <td>30279.0</td>\n",
       "      <td>10051_101256</td>\n",
       "      <td>vignettes</td>\n",
       "      <td>A03</td>\n",
       "      <td>137.0</td>\n",
       "      <td>A07</td>\n",
       "      <td>7094.0</td>\n",
       "      <td>ATF2|2/6|09E05</td>\n",
       "      <td>ATF2</td>\n",
       "      <td>MAPK9</td>\n",
       "      <td>4.268255</td>\n",
       "      <td>2.093646</td>\n",
       "      <td>4.481142</td>\n",
       "      <td>2.136721</td>\n",
       "      <td>3.850891</td>\n",
       "    </tr>\n",
       "    <tr>\n",
       "      <th>3</th>\n",
       "      <td>12504</td>\n",
       "      <td>101240</td>\n",
       "      <td>1</td>\n",
       "      <td>A11</td>\n",
       "      <td>91959.0</td>\n",
       "      <td>12504_101240</td>\n",
       "      <td>vignettes</td>\n",
       "      <td>A10</td>\n",
       "      <td>158.0</td>\n",
       "      <td>A05</td>\n",
       "      <td>6709.0</td>\n",
       "      <td>CREB5|1/3|08E11</td>\n",
       "      <td>CREB5</td>\n",
       "      <td>FOSL2</td>\n",
       "      <td>13.706812</td>\n",
       "      <td>3.776821</td>\n",
       "      <td>4.963594</td>\n",
       "      <td>2.198657</td>\n",
       "      <td>3.826658</td>\n",
       "    </tr>\n",
       "    <tr>\n",
       "      <th>4</th>\n",
       "      <td>5718</td>\n",
       "      <td>101240</td>\n",
       "      <td>1</td>\n",
       "      <td>B03</td>\n",
       "      <td>1071.0</td>\n",
       "      <td>5718_101240</td>\n",
       "      <td>RRS - TF space specific</td>\n",
       "      <td>A10</td>\n",
       "      <td>158.0</td>\n",
       "      <td>B04</td>\n",
       "      <td>391.0</td>\n",
       "      <td>CREB5|1/3|08E11</td>\n",
       "      <td>CREB5</td>\n",
       "      <td>NPPA</td>\n",
       "      <td>2.739130</td>\n",
       "      <td>1.453718</td>\n",
       "      <td>3.029789</td>\n",
       "      <td>2.198657</td>\n",
       "      <td>2.592177</td>\n",
       "    </tr>\n",
       "  </tbody>\n",
       "</table>\n",
       "</div>"
      ],
      "text/plain": [
       "   test_orf_ida  test_orf_idb  test_pla test_pos_pair  score_pair  \\\n",
       "0         54731        101256         1           A01      8351.0   \n",
       "1         12504        101256         1           A04      6709.0   \n",
       "2         10051        101256         1           A06     30279.0   \n",
       "3         12504        101240         1           A11     91959.0   \n",
       "4          5718        101240         1           B03      1071.0   \n",
       "\n",
       "           pair                   source test_pos_empty-N1  score_empty-N1  \\\n",
       "0  54731_101256                vignettes               A03           137.0   \n",
       "1  12504_101256                vignettes               A03           137.0   \n",
       "2  10051_101256                vignettes               A03           137.0   \n",
       "3  12504_101240                vignettes               A10           158.0   \n",
       "4   5718_101240  RRS - TF space specific               A10           158.0   \n",
       "\n",
       "  test_pos_empty-N2  score_empty-N2        clone_acc gene_symbol_tf  \\\n",
       "0               A02           501.0   ATF2|2/6|09E05           ATF2   \n",
       "1               A05          6709.0   ATF2|2/6|09E05           ATF2   \n",
       "2               A07          7094.0   ATF2|2/6|09E05           ATF2   \n",
       "3               A05          6709.0  CREB5|1/3|08E11          CREB5   \n",
       "4               B04           391.0  CREB5|1/3|08E11          CREB5   \n",
       "\n",
       "  gene_symbol_partner        NLR  log2 NLR  score_pair_log10  \\\n",
       "0                ATF2  16.668663  4.059066          3.921738   \n",
       "1               FOSL2   1.000000  0.000000          3.826658   \n",
       "2               MAPK9   4.268255  2.093646          4.481142   \n",
       "3               FOSL2  13.706812  3.776821          4.963594   \n",
       "4                NPPA   2.739130  1.453718          3.029789   \n",
       "\n",
       "   score_empty-N1_log10  score_empty-N2_log10  \n",
       "0              2.136721              2.699838  \n",
       "1              2.136721              3.826658  \n",
       "2              2.136721              3.850891  \n",
       "3              2.198657              3.826658  \n",
       "4              2.198657              2.592177  "
      ]
     },
     "execution_count": 94,
     "metadata": {},
     "output_type": "execute_result"
    }
   ],
   "source": [
    "df = load_n2h_ppi_validation_data()\n",
    "print(len(df))\n",
    "df.head()"
   ]
  },
  {
   "cell_type": "code",
   "execution_count": 95,
   "metadata": {},
   "outputs": [
    {
     "data": {
      "text/plain": [
       "RRS - from HuRI               157\n",
       "isoform negatives             131\n",
       "isoform positives             131\n",
       "RRS - hRRS-v2                  78\n",
       "Lit-BM-13                      75\n",
       "RRS - TF space specific        71\n",
       "Lit-BM - TF space specific     62\n",
       "PRS - hPRS-v2                  60\n",
       "vignettes                      56\n",
       "Name: source, dtype: int64"
      ]
     },
     "execution_count": 95,
     "metadata": {},
     "output_type": "execute_result"
    }
   ],
   "source": [
    "df['source'].value_counts()"
   ]
  },
  {
   "cell_type": "code",
   "execution_count": 96,
   "metadata": {},
   "outputs": [],
   "source": [
    "COLOR_LIT = (60 / 255, 134 / 255, 184 / 255)\n",
    "COLOR_HURI = (155 / 255, 97 / 255, 153 / 255)\n",
    "colors = {'vignettes': 'yellow', \n",
    "          'isoform positives': COLOR_HURI,\n",
    "          'RRS - TF space specific': 'tab:red',\n",
    "          'Lit-BM - TF space specific': COLOR_LIT,\n",
    "          'isoform negatives': 'grey',\n",
    "          'RRS - from HuRI': 'tab:red',\n",
    "          'Lit-BM-13': COLOR_LIT,\n",
    "          'PRS - hPRS-v2': COLOR_LIT,\n",
    "          'RRS - hRRS-v2': 'tab:red'}"
   ]
  },
  {
   "cell_type": "code",
   "execution_count": 97,
   "metadata": {},
   "outputs": [],
   "source": [
    "sources = ['PRS - hPRS-v2', \n",
    "           'RRS - hRRS-v2',\n",
    "           'isoform positives', \n",
    "           'isoform negatives']"
   ]
  },
  {
   "cell_type": "code",
   "execution_count": 98,
   "metadata": {},
   "outputs": [
    {
     "name": "stderr",
     "output_type": "stream",
     "text": [
      "1 extra bytes in post.stringData array\n",
      "'created' timestamp seems very low; regarding as unix timestamp\n",
      "Zapf NOT subset; don't know how to subset; dropped\n",
      "feat NOT subset; don't know how to subset; dropped\n",
      "meta NOT subset; don't know how to subset; dropped\n",
      "morx NOT subset; don't know how to subset; dropped\n"
     ]
    },
    {
     "data": {
      "image/png": "[encoded data removed]",
      "text/plain": [
       "<Figure size 150x150 with 1 Axes>"
      ]
     },
     "metadata": {},
     "output_type": "display_data"
    }
   ],
   "source": [
    "# bar chart\n",
    "df['result'] = df['NLR'] > df.loc[df['source'] == 'RRS - hRRS-v2', 'NLR'].max()\n",
    "\n",
    "fig, ax = plt.subplots(1, 1, figsize=(1.5, 1.5))\n",
    "validation_plot(data=df,\n",
    "                selections=[df['source'] == x for x in sources],\n",
    "                labels=[str(x) for x in sources],\n",
    "                colors=[colors[x] for x in sources],\n",
    "                result_column='result',\n",
    "                errorbar_capsize=0.175,\n",
    "                y_max=0.35,\n",
    "                xlabel_rotation=90,\n",
    "                bar_spacing=0.07,\n",
    "                draw_numbers=True,\n",
    "                fontsize=PAPER_FONTSIZE-1.5)\n",
    "#ax.set_xticklabels(sources, ha=\"right\", va=\"top\", rotation=30)\n",
    "rename_sources = {\n",
    "           'PRS - hPRS-v2': 'hPRS-v2', \n",
    "           'RRS - hRRS-v2': 'hRRS-v2',\n",
    "           'isoform positives': 'Isoform Positives', \n",
    "           'isoform negatives': 'Isoform Negatives',\n",
    "}\n",
    "ax.set_xticklabels([rename_sources[s] for s in sources])\n",
    "ax.set_yticklabels([f'{x:.0%}' for x in ax.get_yticks()])\n",
    "ax.set_title(\"PPI validation (mN2H assay)\")\n",
    "\n",
    "for loc in ['top', 'bottom', 'right']:\n",
    "    ax.spines[loc].set_visible(False)\n",
    "ax.xaxis.set_tick_params(length=0)\n",
    "ax.set_ylabel('Percentage positive')\n",
    "\n",
    "fig.savefig('../../figures/fig2/N2H_barplot.pdf', dpi=\"figure\", bbox_inches='tight')"
   ]
  },
  {
   "cell_type": "code",
   "execution_count": 99,
   "metadata": {},
   "outputs": [
    {
     "name": "stderr",
     "output_type": "stream",
     "text": [
      "/var/folders/4f/st3pbvs10sd68jl3b4p861h80000gn/T/ipykernel_86578/2354036237.py:13: UserWarning: FixedFormatter should only be used together with FixedLocator\n",
      "  ax.set_yticklabels([f'{x:.0%}' for x in ax.get_yticks()])\n",
      "1 extra bytes in post.stringData array\n",
      "'created' timestamp seems very low; regarding as unix timestamp\n",
      "Zapf NOT subset; don't know how to subset; dropped\n",
      "feat NOT subset; don't know how to subset; dropped\n",
      "meta NOT subset; don't know how to subset; dropped\n",
      "morx NOT subset; don't know how to subset; dropped\n"
     ]
    },
    {
     "data": {
      "image/png": "[encoded data removed]",
      "text/plain": [
       "<Figure size 150x150 with 1 Axes>"
      ]
     },
     "metadata": {},
     "output_type": "display_data"
    }
   ],
   "source": [
    "line_styles = ['-', '-', '-', '-']\n",
    "fig, ax = plt.subplots(1, 1, figsize=(1.5, 1.5))\n",
    "validation_titration_plot(data=df, \n",
    "                          selections=[df['source'] == x for x in sources],\n",
    "                          labels=[rename_sources[s] for s in sources],\n",
    "                          colors=[colors[x] for x in sources],\n",
    "                          line_styles=line_styles,\n",
    "                          score_column='log2 NLR',\n",
    "                          threshold=df.loc[df['source'] == 'RRS - hRRS-v2', 'log2 NLR'].max(),\n",
    "                          xmin=3,\n",
    "                          ax=ax)\n",
    "ax.set_xlabel('Log2 NLR threshold')\n",
    "ax.set_yticklabels([f'{x:.0%}' for x in ax.get_yticks()])\n",
    "\n",
    "plt.legend(loc=2, bbox_to_anchor=(1.01, 1), frameon=False)\n",
    "\n",
    "for loc in ['top', 'right']:\n",
    "    ax.spines[loc].set_visible(False)\n",
    "\n",
    "ax.set_title(\"PPI validation (mN2H assay)\")\n",
    "ax.set_ylim(0, 0.5)\n",
    "ax.set_ylabel('Percentage positive')\n",
    "\n",
    "fig.savefig('../../figures/fig2/TFv02_titration.pdf',\n",
    "            bbox_inches='tight')"
   ]
  },
  {
   "cell_type": "markdown",
   "metadata": {},
   "source": [
    "## 8. make validation figures for Y1H (luciferase)"
   ]
  },
  {
   "cell_type": "code",
   "execution_count": 100,
   "metadata": {},
   "outputs": [],
   "source": [
    "df = load_PDI_luciferase_validation_experiment()"
   ]
  },
  {
   "cell_type": "code",
   "execution_count": 101,
   "metadata": {},
   "outputs": [
    {
     "data": {
      "text/plain": [
       "eY1Hvalidation    141\n",
       "Name: Set, dtype: int64"
      ]
     },
     "execution_count": 101,
     "metadata": {},
     "output_type": "execute_result"
    }
   ],
   "source": [
    "df['Set'].value_counts()"
   ]
  },
  {
   "cell_type": "code",
   "execution_count": 102,
   "metadata": {},
   "outputs": [
    {
     "name": "stdout",
     "output_type": "stream",
     "text": [
      "In PDI validation experiment, tested:\n",
      "19 different TF genes\n",
      "48 different TF isoforms\n",
      "41 different baits\n",
      "141 total PDIs\n"
     ]
    }
   ],
   "source": [
    "print('In PDI validation experiment, tested:')\n",
    "print(df['gene_symbol'].nunique(), 'different TF genes')\n",
    "print(df['clone_acc'].nunique(), 'different TF isoforms')\n",
    "print(df['Bait'].nunique(), 'different baits')\n",
    "print(df.shape[0], 'total PDIs')"
   ]
  },
  {
   "cell_type": "code",
   "execution_count": 103,
   "metadata": {},
   "outputs": [
    {
     "data": {
      "text/html": [
       "<div>\n",
       "<style scoped>\n",
       "    .dataframe tbody tr th:only-of-type {\n",
       "        vertical-align: middle;\n",
       "    }\n",
       "\n",
       "    .dataframe tbody tr th {\n",
       "        vertical-align: top;\n",
       "    }\n",
       "\n",
       "    .dataframe thead th {\n",
       "        text-align: right;\n",
       "    }\n",
       "</style>\n",
       "<table border=\"1\" class=\"dataframe\">\n",
       "  <thead>\n",
       "    <tr style=\"text-align: right;\">\n",
       "      <th></th>\n",
       "      <th>Set</th>\n",
       "      <th>Interaction?</th>\n",
       "      <th>Bait</th>\n",
       "      <th>gene_symbol</th>\n",
       "      <th>clone_acc</th>\n",
       "      <th>Plate-well</th>\n",
       "      <th>Replicate1</th>\n",
       "      <th>Replicate2</th>\n",
       "      <th>Replicate3</th>\n",
       "      <th>Average (empty-pEZY3-VP160)</th>\n",
       "      <th>Foldchange1</th>\n",
       "      <th>Foldchange2</th>\n",
       "      <th>Foldchange3</th>\n",
       "      <th>Average</th>\n",
       "      <th>Log2(FC)</th>\n",
       "      <th>Y1H_positive</th>\n",
       "    </tr>\n",
       "  </thead>\n",
       "  <tbody>\n",
       "    <tr>\n",
       "      <th>0</th>\n",
       "      <td>eY1Hvalidation</td>\n",
       "      <td>no</td>\n",
       "      <td>HS281</td>\n",
       "      <td>DLX1</td>\n",
       "      <td>DLX1|2/2|07E09</td>\n",
       "      <td>18-C4</td>\n",
       "      <td>0.088103</td>\n",
       "      <td>0.097955</td>\n",
       "      <td>0.088123</td>\n",
       "      <td>0.186988</td>\n",
       "      <td>0.471169</td>\n",
       "      <td>0.523857</td>\n",
       "      <td>0.471278</td>\n",
       "      <td>0.488768</td>\n",
       "      <td>-1.032779</td>\n",
       "      <td>False</td>\n",
       "    </tr>\n",
       "    <tr>\n",
       "      <th>1</th>\n",
       "      <td>eY1Hvalidation</td>\n",
       "      <td>no</td>\n",
       "      <td>HS598</td>\n",
       "      <td>DLX1</td>\n",
       "      <td>DLX1|2/2|07E09</td>\n",
       "      <td>12-G5</td>\n",
       "      <td>0.143830</td>\n",
       "      <td>0.132734</td>\n",
       "      <td>0.132411</td>\n",
       "      <td>0.218959</td>\n",
       "      <td>0.656880</td>\n",
       "      <td>0.606203</td>\n",
       "      <td>0.604731</td>\n",
       "      <td>0.622604</td>\n",
       "      <td>-0.683612</td>\n",
       "      <td>False</td>\n",
       "    </tr>\n",
       "    <tr>\n",
       "      <th>2</th>\n",
       "      <td>eY1Hvalidation</td>\n",
       "      <td>no</td>\n",
       "      <td>HS1419</td>\n",
       "      <td>DLX4</td>\n",
       "      <td>DLX4|3/3|10B05</td>\n",
       "      <td>13-B10</td>\n",
       "      <td>0.067359</td>\n",
       "      <td>0.064723</td>\n",
       "      <td>0.067650</td>\n",
       "      <td>0.081857</td>\n",
       "      <td>0.822884</td>\n",
       "      <td>0.790680</td>\n",
       "      <td>0.826442</td>\n",
       "      <td>0.813335</td>\n",
       "      <td>-0.298078</td>\n",
       "      <td>False</td>\n",
       "    </tr>\n",
       "    <tr>\n",
       "      <th>3</th>\n",
       "      <td>eY1Hvalidation</td>\n",
       "      <td>no</td>\n",
       "      <td>HS281</td>\n",
       "      <td>DLX4</td>\n",
       "      <td>DLX4|3/3|10B05</td>\n",
       "      <td>18-C7</td>\n",
       "      <td>0.111438</td>\n",
       "      <td>0.122384</td>\n",
       "      <td>0.104692</td>\n",
       "      <td>0.186988</td>\n",
       "      <td>0.595966</td>\n",
       "      <td>0.654504</td>\n",
       "      <td>0.559885</td>\n",
       "      <td>0.603452</td>\n",
       "      <td>-0.728690</td>\n",
       "      <td>False</td>\n",
       "    </tr>\n",
       "    <tr>\n",
       "      <th>4</th>\n",
       "      <td>eY1Hvalidation</td>\n",
       "      <td>no</td>\n",
       "      <td>HS281</td>\n",
       "      <td>DLX4</td>\n",
       "      <td>DLX4|1/3|11A04</td>\n",
       "      <td>18-C5</td>\n",
       "      <td>5.834440</td>\n",
       "      <td>5.667983</td>\n",
       "      <td>5.528556</td>\n",
       "      <td>0.186988</td>\n",
       "      <td>31.202254</td>\n",
       "      <td>30.312047</td>\n",
       "      <td>29.566401</td>\n",
       "      <td>30.360234</td>\n",
       "      <td>4.924111</td>\n",
       "      <td>False</td>\n",
       "    </tr>\n",
       "  </tbody>\n",
       "</table>\n",
       "</div>"
      ],
      "text/plain": [
       "              Set Interaction?    Bait gene_symbol       clone_acc Plate-well  \\\n",
       "0  eY1Hvalidation           no   HS281        DLX1  DLX1|2/2|07E09      18-C4   \n",
       "1  eY1Hvalidation           no   HS598        DLX1  DLX1|2/2|07E09      12-G5   \n",
       "2  eY1Hvalidation           no  HS1419        DLX4  DLX4|3/3|10B05     13-B10   \n",
       "3  eY1Hvalidation           no   HS281        DLX4  DLX4|3/3|10B05      18-C7   \n",
       "4  eY1Hvalidation           no   HS281        DLX4  DLX4|1/3|11A04      18-C5   \n",
       "\n",
       "   Replicate1  Replicate2  Replicate3  Average (empty-pEZY3-VP160)  \\\n",
       "0    0.088103    0.097955    0.088123                     0.186988   \n",
       "1    0.143830    0.132734    0.132411                     0.218959   \n",
       "2    0.067359    0.064723    0.067650                     0.081857   \n",
       "3    0.111438    0.122384    0.104692                     0.186988   \n",
       "4    5.834440    5.667983    5.528556                     0.186988   \n",
       "\n",
       "   Foldchange1  Foldchange2  Foldchange3    Average  Log2(FC)  Y1H_positive  \n",
       "0     0.471169     0.523857     0.471278   0.488768 -1.032779         False  \n",
       "1     0.656880     0.606203     0.604731   0.622604 -0.683612         False  \n",
       "2     0.822884     0.790680     0.826442   0.813335 -0.298078         False  \n",
       "3     0.595966     0.654504     0.559885   0.603452 -0.728690         False  \n",
       "4    31.202254    30.312047    29.566401  30.360234  4.924111         False  "
      ]
     },
     "execution_count": 103,
     "metadata": {},
     "output_type": "execute_result"
    }
   ],
   "source": [
    "df.head()"
   ]
  },
  {
   "cell_type": "code",
   "execution_count": 104,
   "metadata": {},
   "outputs": [
    {
     "name": "stdout",
     "output_type": "stream",
     "text": [
      "not found: clone: HNF1B|4/4|05E06 | bait: HS565 | orig call: no\n",
      "not found: clone: HNF4A|6/6|10F07 | bait: HS1315 | orig call: no\n",
      "not found: clone: HNF4A|6/6|10F07 | bait: HS20 | orig call: no\n",
      "not found: clone: LCOR|1/2|09G02 | bait: HS118 | orig call: no\n",
      "not found: clone: LCOR|1/2|09G02 | bait: HS586 | orig call: no\n",
      "not found: clone: SOX15|2/2|08F12 | bait: HS1181 | orig call: no\n",
      "not found: clone: SOX15|2/2|08F12 | bait: HS796 | orig call: no\n",
      "not found: clone: TBX6|2/2|01F02 | bait: HS416 | orig call: no\n",
      "not found: clone: THRA|3/3|09B09 | bait: HS1185 | orig call: no\n",
      "not found: clone: THRA|3/3|09B09 | bait: HS204 | orig call: no\n",
      "not found: clone: HNF1B|4/4|05E06 | bait: HS863 | orig call: yes\n",
      "not found: clone: LCOR|1/2|09G02 | bait: HS1022 | orig call: yes\n",
      "not found: clone: LCOR|2/2|12B05 | bait: HS1022 | orig call: yes\n",
      "not found: clone: LCOR|2/2|12B05 | bait: HS118 | orig call: yes\n",
      "not found: clone: LCOR|2/2|12B05 | bait: HS586 | orig call: yes\n",
      "not found: clone: SOX15|1/2|11D03 | bait: HS1181 | orig call: yes\n",
      "not found: clone: SOX15|1/2|11D03 | bait: HS796 | orig call: yes\n",
      "not found: clone: TBX6|2/2|01F02 | bait: HS2081 | orig call: yes\n",
      "not found: clone: TBX6|1/2|03G06 | bait: HS2081 | orig call: yes\n",
      "not found: clone: TBX6|1/2|03G06 | bait: HS416 | orig call: yes\n"
     ]
    }
   ],
   "source": [
    "# update the interaction calls if needed\n",
    "new_calls = []\n",
    "for i, row in df.iterrows():\n",
    "    clone = row['clone_acc']\n",
    "    bait = row['Bait']\n",
    "    orig_y1h_call = row['Interaction?']\n",
    "    \n",
    "    try:\n",
    "        updated_y1h_call = y1h[y1h['clone_acc'] == clone][bait].iloc[0]\n",
    "    except:\n",
    "        print(\"not found: clone: %s | bait: %s | orig call: %s\" % (clone, bait, orig_y1h_call))\n",
    "        updated_y1h_call = np.nan\n",
    "    new_calls.append(updated_y1h_call)"
   ]
  },
  {
   "cell_type": "code",
   "execution_count": 105,
   "metadata": {},
   "outputs": [
    {
     "data": {
      "text/plain": [
       "True     63\n",
       "False    44\n",
       "NaN      20\n",
       "<NA>     14\n",
       "Name: updated_y1h_call, dtype: int64"
      ]
     },
     "execution_count": 105,
     "metadata": {},
     "output_type": "execute_result"
    }
   ],
   "source": [
    "df[\"updated_y1h_call\"] = new_calls\n",
    "df.updated_y1h_call.value_counts(dropna=False)"
   ]
  },
  {
   "cell_type": "code",
   "execution_count": 106,
   "metadata": {},
   "outputs": [],
   "source": [
    "# remove any updated calls that became NaN\n",
    "df_nn = df[~pd.isnull(df['updated_y1h_call'])]"
   ]
  },
  {
   "cell_type": "code",
   "execution_count": 107,
   "metadata": {},
   "outputs": [
    {
     "name": "stdout",
     "output_type": "stream",
     "text": [
      "In PDI validation experiment, tested (updated w new calls):\n",
      "16 different TF genes\n",
      "39 different TF isoforms\n",
      "37 different baits\n",
      "107 total PDIs\n"
     ]
    }
   ],
   "source": [
    "print('In PDI validation experiment, tested (updated w new calls):')\n",
    "print(df_nn['gene_symbol'].nunique(), 'different TF genes')\n",
    "print(df_nn['clone_acc'].nunique(), 'different TF isoforms')\n",
    "print(df_nn['Bait'].nunique(), 'different baits')\n",
    "print(df_nn.shape[0], 'total PDIs')"
   ]
  },
  {
   "cell_type": "code",
   "execution_count": 108,
   "metadata": {},
   "outputs": [
    {
     "name": "stdout",
     "output_type": "stream",
     "text": [
      "Isoforms per gene:\n"
     ]
    },
    {
     "data": {
      "text/plain": [
       "1    1\n",
       "2    7\n",
       "3    8\n",
       "Name: clone_acc, dtype: int64"
      ]
     },
     "execution_count": 108,
     "metadata": {},
     "output_type": "execute_result"
    }
   ],
   "source": [
    "print('Isoforms per gene:')\n",
    "df_nn.groupby(['gene_symbol'])['clone_acc'].nunique().value_counts().sort_index()"
   ]
  },
  {
   "cell_type": "code",
   "execution_count": 109,
   "metadata": {},
   "outputs": [
    {
     "name": "stdout",
     "output_type": "stream",
     "text": [
      "Baits per isoform:\n"
     ]
    },
    {
     "data": {
      "text/plain": [
       "1     4\n",
       "2    12\n",
       "3    13\n",
       "4    10\n",
       "Name: Bait, dtype: int64"
      ]
     },
     "execution_count": 109,
     "metadata": {},
     "output_type": "execute_result"
    }
   ],
   "source": [
    "print('Baits per isoform:')\n",
    "df_nn.groupby(['clone_acc'])['Bait'].nunique().value_counts().sort_index()"
   ]
  },
  {
   "cell_type": "code",
   "execution_count": 110,
   "metadata": {},
   "outputs": [
    {
     "name": "stderr",
     "output_type": "stream",
     "text": [
      "1 extra bytes in post.stringData array\n",
      "'created' timestamp seems very low; regarding as unix timestamp\n",
      "Zapf NOT subset; don't know how to subset; dropped\n",
      "feat NOT subset; don't know how to subset; dropped\n",
      "meta NOT subset; don't know how to subset; dropped\n",
      "morx NOT subset; don't know how to subset; dropped\n"
     ]
    },
    {
     "data": {
      "image/png": "[encoded data removed]",
      "text/plain": [
       "<Figure size 150x200 with 1 Axes>"
      ]
     },
     "metadata": {},
     "output_type": "display_data"
    }
   ],
   "source": [
    "fig, ax = plt.subplots(1, 1)\n",
    "fig.set_size_inches(w=1.5, h=2.)\n",
    "sns.stripplot(data=df, x='updated_y1h_call', y='Log2(FC)', ax=ax, order=[True, False], \n",
    "              palette=sns.color_palette(\"Set2\"), zorder=1)\n",
    "sns.pointplot(data=df, x='updated_y1h_call', y='Log2(FC)', ax=ax, order=[True, False],\n",
    "              color='black', zorder=10)\n",
    "effectsize, pvalue = stats.ttest_ind(df.loc[df['Y1H_positive'], 'Log2(FC)'].values,\n",
    "                df.loc[~df['Y1H_positive'], 'Log2(FC)'].values)\n",
    "ax.text(x=0.5, y=4, s='P = {:.1}'.format(pvalue), ha='center')\n",
    "ax.set_xlabel('eY1H result')\n",
    "ax.set_xticklabels(['+', '-'])\n",
    "ax.set_ylabel('Luciferase mean log2(FC)')\n",
    "fig.savefig('../../figures/fig2/PDI-luciferase_validation_point-plot.pdf',\n",
    "            bbox_inches='tight')"
   ]
  },
  {
   "cell_type": "code",
   "execution_count": 111,
   "metadata": {},
   "outputs": [
    {
     "data": {
      "text/plain": [
       "True     63\n",
       "False    44\n",
       "Name: updated_y1h_call, dtype: int64"
      ]
     },
     "execution_count": 111,
     "metadata": {},
     "output_type": "execute_result"
    }
   ],
   "source": [
    "df.updated_y1h_call.value_counts()"
   ]
  },
  {
   "cell_type": "code",
   "execution_count": 112,
   "metadata": {},
   "outputs": [
    {
     "data": {
      "text/plain": [
       "True     86\n",
       "False    55\n",
       "Name: Y1H_positive, dtype: int64"
      ]
     },
     "execution_count": 112,
     "metadata": {},
     "output_type": "execute_result"
    }
   ],
   "source": [
    "df.Y1H_positive.value_counts()"
   ]
  },
  {
   "cell_type": "code",
   "execution_count": 113,
   "metadata": {},
   "outputs": [
    {
     "name": "stderr",
     "output_type": "stream",
     "text": [
      "1 extra bytes in post.stringData array\n",
      "'created' timestamp seems very low; regarding as unix timestamp\n",
      "Zapf NOT subset; don't know how to subset; dropped\n",
      "feat NOT subset; don't know how to subset; dropped\n",
      "meta NOT subset; don't know how to subset; dropped\n",
      "morx NOT subset; don't know how to subset; dropped\n"
     ]
    },
    {
     "data": {
      "image/png": "[encoded data removed]",
      "text/plain": [
       "<Figure size 200x150 with 1 Axes>"
      ]
     },
     "metadata": {},
     "output_type": "display_data"
    }
   ],
   "source": [
    "# titration plot of positive vs negative\n",
    "fig, ax = plt.subplots(1, 1)\n",
    "fig.set_size_inches(w=2, h=1.5)\n",
    "validation_titration_plot(data=df_nn,\n",
    "                          selections=[df_nn['updated_y1h_call'], \n",
    "                                      ~df_nn['updated_y1h_call']],\n",
    "                          score_column='Log2(FC)',\n",
    "                          labels=['eY1H +', 'eY1H -'],\n",
    "                          colors=[COLOR_HURI, 'grey'],\n",
    "                          ax=ax)\n",
    "ax.set_xlabel('Threshold of luciferase mean Log2(FC)')\n",
    "plt.legend(loc=2, frameon=False, bbox_to_anchor=(0.6, 1))\n",
    "\n",
    "for loc in ['top', 'right']:\n",
    "    ax.spines[loc].set_visible(False)\n",
    "\n",
    "ax.set_yticks(np.linspace(0, 1, 6))\n",
    "ax.set_yticks(np.linspace(0, 1, 11), minor=True)\n",
    "ax.set_yticklabels([f'{y:.0%}' for y in ax.get_yticks()])\n",
    "ax.set_ylim(0, 1)\n",
    "ax.set_ylabel('Percentage positive')\n",
    "ax.axvline(x=1, color='grey', linestyle='--', lw=1)\n",
    "ax.set_xticks(range(-2, 7), minor=True)\n",
    "    \n",
    "fig.savefig('../../figures/fig2/PDI-luciferase_validation_titration-plot.pdf',\n",
    "            bbox_inches='tight')"
   ]
  },
  {
   "cell_type": "code",
   "execution_count": 114,
   "metadata": {},
   "outputs": [],
   "source": [
    "def p_value(row):\n",
    "    a = row[['Replicate1', 'Replicate2', 'Replicate3']].values\n",
    "    b = row['Average (empty-pEZY3-VP160)']\n",
    "    \n",
    "    # this code doesn't work on kaia's env; need to update scipy which requires updating to py3.7\n",
    "    #pval = stats.ttest_1samp(list(a), b, alternative='greater').pvalue\n",
    "    \n",
    "    # return two-sided pval * 2 for now\n",
    "    pval = stats.ttest_1samp(list(a), b).pvalue * 2\n",
    "    \n",
    "    return pval\n",
    "\n",
    "df['p-value'] = df.apply(p_value, axis=1)"
   ]
  },
  {
   "cell_type": "code",
   "execution_count": 115,
   "metadata": {},
   "outputs": [],
   "source": [
    "df['positive'] = (df['p-value'] < 0.05) & (df['Log2(FC)'] >= 1)"
   ]
  },
  {
   "cell_type": "code",
   "execution_count": 116,
   "metadata": {},
   "outputs": [
    {
     "data": {
      "text/plain": [
       "Interaction?\n",
       "no     0.290909\n",
       "yes    0.569767\n",
       "Name: positive, dtype: float64"
      ]
     },
     "execution_count": 116,
     "metadata": {},
     "output_type": "execute_result"
    }
   ],
   "source": [
    "df.groupby('Interaction?')['positive'].mean()"
   ]
  },
  {
   "cell_type": "code",
   "execution_count": 117,
   "metadata": {},
   "outputs": [
    {
     "name": "stderr",
     "output_type": "stream",
     "text": [
      "1 extra bytes in post.stringData array\n",
      "'created' timestamp seems very low; regarding as unix timestamp\n"
     ]
    },
    {
     "name": "stderr",
     "output_type": "stream",
     "text": [
      "Zapf NOT subset; don't know how to subset; dropped\n",
      "feat NOT subset; don't know how to subset; dropped\n",
      "meta NOT subset; don't know how to subset; dropped\n",
      "morx NOT subset; don't know how to subset; dropped\n"
     ]
    },
    {
     "data": {
      "image/png": "[encoded data removed]",
      "text/plain": [
       "<Figure size 100x150 with 1 Axes>"
      ]
     },
     "metadata": {},
     "output_type": "display_data"
    }
   ],
   "source": [
    "fig, ax = plt.subplots(1, 1)\n",
    "fig.set_size_inches(w=1, h=1.5)\n",
    "validation_plot(data=df,\n",
    "                selections=[df['Y1H_positive'], \n",
    "                           ~df['Y1H_positive']],\n",
    "                result_column='positive',\n",
    "                labels=['+', '-'],\n",
    "                colors=[COLOR_HURI, 'grey'],\n",
    "                errorbar_capsize=0.25,\n",
    "                ax=ax,\n",
    "                fontsize=PAPER_FONTSIZE-1)\n",
    "ax.set_ylim(0, 0.7)\n",
    "ax.set_xlabel('eY1H result')\n",
    "ax.set_ylabel('Fraction positive\\nin luciferase assay')\n",
    "\n",
    "ax.set_title(\"PDI Validation (Luciferase)\")\n",
    "\n",
    "for loc in ['top', 'bottom', 'right']:\n",
    "    ax.spines[loc].set_visible(False)\n",
    "    \n",
    "fig.savefig('../../figures/fig2/Luciferase_barplot.pdf', bbox_inches='tight', dpi='figure')"
   ]
  },
  {
   "cell_type": "markdown",
   "metadata": {},
   "source": [
    "## 9. make reproducibility figure for M1H"
   ]
  },
  {
   "cell_type": "code",
   "execution_count": 118,
   "metadata": {},
   "outputs": [
    {
     "data": {
      "text/html": [
       "<div>\n",
       "<style scoped>\n",
       "    .dataframe tbody tr th:only-of-type {\n",
       "        vertical-align: middle;\n",
       "    }\n",
       "\n",
       "    .dataframe tbody tr th {\n",
       "        vertical-align: top;\n",
       "    }\n",
       "\n",
       "    .dataframe thead th {\n",
       "        text-align: right;\n",
       "    }\n",
       "</style>\n",
       "<table border=\"1\" class=\"dataframe\">\n",
       "  <thead>\n",
       "    <tr style=\"text-align: right;\">\n",
       "      <th></th>\n",
       "      <th>gene_symbol</th>\n",
       "      <th>clone_acc</th>\n",
       "      <th>M1H_rep1</th>\n",
       "      <th>M1H_rep2</th>\n",
       "      <th>M1H_rep3</th>\n",
       "      <th>M1H_mean</th>\n",
       "      <th>family</th>\n",
       "      <th>family_renamed</th>\n",
       "    </tr>\n",
       "  </thead>\n",
       "  <tbody>\n",
       "    <tr>\n",
       "      <th>360</th>\n",
       "      <td>AEBP2</td>\n",
       "      <td>AEBP2|2/3|05F03</td>\n",
       "      <td>0.241019</td>\n",
       "      <td>0.189211</td>\n",
       "      <td>0.473661</td>\n",
       "      <td>0.301297</td>\n",
       "      <td>C2H2 ZF</td>\n",
       "      <td>C2H2 ZF</td>\n",
       "    </tr>\n",
       "    <tr>\n",
       "      <th>359</th>\n",
       "      <td>AEBP2</td>\n",
       "      <td>AEBP2|3/3|05E07</td>\n",
       "      <td>-0.276303</td>\n",
       "      <td>-0.305477</td>\n",
       "      <td>-0.121186</td>\n",
       "      <td>-0.234322</td>\n",
       "      <td>C2H2 ZF</td>\n",
       "      <td>C2H2 ZF</td>\n",
       "    </tr>\n",
       "    <tr>\n",
       "      <th>0</th>\n",
       "      <td>ARNT2</td>\n",
       "      <td>ARNT2|1/6|08C12</td>\n",
       "      <td>4.498733</td>\n",
       "      <td>4.501519</td>\n",
       "      <td>4.297244</td>\n",
       "      <td>4.432498</td>\n",
       "      <td>bHLH</td>\n",
       "      <td>bHLH</td>\n",
       "    </tr>\n",
       "    <tr>\n",
       "      <th>1</th>\n",
       "      <td>ARNT2</td>\n",
       "      <td>ARNT2|2/6|09E01</td>\n",
       "      <td>2.407721</td>\n",
       "      <td>2.407411</td>\n",
       "      <td>2.197963</td>\n",
       "      <td>2.337698</td>\n",
       "      <td>bHLH</td>\n",
       "      <td>bHLH</td>\n",
       "    </tr>\n",
       "    <tr>\n",
       "      <th>3</th>\n",
       "      <td>ARNTL2</td>\n",
       "      <td>ARNTL2|2/5|12C06</td>\n",
       "      <td>0.398027</td>\n",
       "      <td>0.391809</td>\n",
       "      <td>0.299461</td>\n",
       "      <td>0.363099</td>\n",
       "      <td>bHLH</td>\n",
       "      <td>bHLH</td>\n",
       "    </tr>\n",
       "  </tbody>\n",
       "</table>\n",
       "</div>"
      ],
      "text/plain": [
       "    gene_symbol         clone_acc  M1H_rep1  M1H_rep2  M1H_rep3  M1H_mean  \\\n",
       "360       AEBP2   AEBP2|2/3|05F03  0.241019  0.189211  0.473661  0.301297   \n",
       "359       AEBP2   AEBP2|3/3|05E07 -0.276303 -0.305477 -0.121186 -0.234322   \n",
       "0         ARNT2   ARNT2|1/6|08C12  4.498733  4.501519  4.297244  4.432498   \n",
       "1         ARNT2   ARNT2|2/6|09E01  2.407721  2.407411  2.197963  2.337698   \n",
       "3        ARNTL2  ARNTL2|2/5|12C06  0.398027  0.391809  0.299461  0.363099   \n",
       "\n",
       "      family family_renamed  \n",
       "360  C2H2 ZF        C2H2 ZF  \n",
       "359  C2H2 ZF        C2H2 ZF  \n",
       "0       bHLH           bHLH  \n",
       "1       bHLH           bHLH  \n",
       "3       bHLH           bHLH  "
      ]
     },
     "execution_count": 118,
     "metadata": {},
     "output_type": "execute_result"
    }
   ],
   "source": [
    "m1h.head()"
   ]
  },
  {
   "cell_type": "code",
   "execution_count": 119,
   "metadata": {},
   "outputs": [
    {
     "name": "stderr",
     "output_type": "stream",
     "text": [
      "1 extra bytes in post.stringData array\n",
      "'created' timestamp seems very low; regarding as unix timestamp\n",
      "Zapf NOT subset; don't know how to subset; dropped\n",
      "feat NOT subset; don't know how to subset; dropped\n",
      "meta NOT subset; don't know how to subset; dropped\n",
      "morx NOT subset; don't know how to subset; dropped\n"
     ]
    },
    {
     "data": {
      "image/png": "[encoded data removed]",
      "text/plain": [
       "<Figure size 400x150 with 3 Axes>"
      ]
     },
     "metadata": {},
     "output_type": "display_data"
    }
   ],
   "source": [
    "fig, axs = plt.subplots(ncols=3, \n",
    "                        nrows=1, \n",
    "                        sharey=True)\n",
    "fig.set_size_inches(w=4, h=1.5)\n",
    "m1h_min = m1h[['M1H_rep1', 'M1H_rep2', 'M1H_rep3']].min().min()\n",
    "m1h_max = m1h[['M1H_rep1', 'M1H_rep2', 'M1H_rep3']].max().max()\n",
    "m1h_min = -3\n",
    "m1h_max = 12\n",
    "\n",
    "for i, (a, b) in enumerate([('1', '2'), ('1', '3'), ('2', '3')]):\n",
    "    axs[i].scatter(x=m1h[f'M1H_rep{a}'].values,\n",
    "            y=m1h[f'M1H_rep{b}'].values,\n",
    "                alpha=0.8,\n",
    "                s=0.6,\n",
    "                linewidth=0,\n",
    "            )\n",
    "    r = stats.pearsonr(m1h[f'M1H_rep{a}'].values, m1h[f'M1H_rep{b}'].values)[0]\n",
    "    axs[i].text(s=f\"R² = {r**2:.3f}\",\n",
    "                x=4, \n",
    "                y=1)\n",
    "    axs[i].set_xlabel(f'Replicate {a}')\n",
    "    axs[i].set_ylabel(f'Replicate {b}')\n",
    "\n",
    "\n",
    "for ax in axs:\n",
    "    ax.set_ylim(m1h_min, m1h_max)\n",
    "    ax.set_xlim(m1h_min, m1h_max)\n",
    "    ax.spines['top'].set_visible(False)\n",
    "    ax.spines['right'].set_visible(False)\n",
    "    ax.set_aspect('equal')\n",
    "    ax.set_yticks(range(0, 13, 4))\n",
    "    ax.set_yticks(range(-2, 13, 2), minor=True)\n",
    "    ax.set_xticks(range(0, 13, 4))\n",
    "    ax.set_xticks(range(-2, 13, 2), minor=True)\n",
    "\n",
    "# same ticks\n",
    "axs[1].set_title('M1H log2(activation fold change) across replicates')\n",
    "plt.subplots_adjust(wspace=0.4)\n",
    "fig.savefig(\"../../figures/fig2/M1H_replicate_scatter.pdf\", \n",
    "            bbox_inches=\"tight\", \n",
    "            dpi=\"figure\")"
   ]
  },
  {
   "cell_type": "markdown",
   "metadata": {},
   "source": [
    "## 9. make tables needed for cytoscape network fig"
   ]
  },
  {
   "cell_type": "code",
   "execution_count": 120,
   "metadata": {},
   "outputs": [],
   "source": [
    "# # table of edges\n",
    "# #    - clone to (edge + clone_id) + to duplicate\n",
    "# # table of nodes\n",
    "# #    - clone to gene\n",
    "# #    - dna vs isoform vs \n",
    "\n",
    "# ppi = load_full_y2h_data_including_controls()\n",
    "# ppi = ppi.loc[(ppi['category'] == 'tf_isoform_ppis') &\n",
    "#               (ppi['Y2H_result'] == True),\n",
    "#               ['ad_clone_acc', 'ad_gene_symbol', 'db_gene_symbol']]\n",
    "# ppi = ppi.rename(columns={'ad_clone_acc': 'isoform',\n",
    "#                           'db_gene_symbol': 'partner'})\n",
    "# ppi['partner'] = ppi['partner'] + '-' + ppi['ad_gene_symbol']\n",
    "# pdi = pd.read_csv('../../data/internal/a2_juan_pdi_w_unique_isoacc.tsv', sep='\\t')\n",
    "# clones = load_valid_isoform_clones()\n",
    "# pdi = pdi.loc[pdi['unique_acc'].isin(clones['clone_acc']), :]\n",
    "# pdi['partner'] = pdi['bait'] + '-' + pdi['tf']\n",
    "# pdi['isoform'] = pdi['unique_acc']\n",
    "# edges = pd.concat([ppi.loc[:, ['isoform', 'partner']],\n",
    "#                    pdi.loc[:, ['isoform', 'partner']]])\n",
    "# edges.to_csv('../../output/edges.tsv', sep='\\t', index=False)\n",
    "\n",
    "# clones = clones.rename(columns={'clone_acc': 'node_id'})\n",
    "# clones['type'] = 'isoform'\n",
    "# dna = pd.DataFrame(data=pdi['partner'].unique(), columns=['node_id'])\n",
    "# dna['type'] = 'DNA'\n",
    "# proteins = pd.DataFrame(data=ppi['partner'].unique(), columns=['node_id'])\n",
    "# proteins['type'] = 'Protein'\n",
    "# nodes = pd.concat([clones, proteins, dna], sort=True)\n",
    "# nodes.to_csv('../../output/node_table.tsv', sep='\\t', index=False)"
   ]
  },
  {
   "cell_type": "markdown",
   "metadata": {},
   "source": [
    "## 10. make example expression plot for ZNF414"
   ]
  },
  {
   "cell_type": "code",
   "execution_count": 121,
   "metadata": {},
   "outputs": [],
   "source": [
    "def developmental_tissue_expression_plot(gene_name, figsize, ylim, means, cols, fig_suffix):\n",
    "    locs = [x for x in list(means.index) if x.split(\"|\")[0] == gene_name]\n",
    "    \n",
    "    # include isos that aren't cloned\n",
    "    locs = list(set(locs + [x for x in list(means.index) if x.split(\" \")[1][:-4] == gene_name]))\n",
    "    \n",
    "    n_isos = len(means.loc[locs])\n",
    "    palette = met_brewer.met_brew(name=\"Egypt\")\n",
    "    fig, axes = plt.subplots(2, 1, sharex=True)\n",
    "    fig.set_size_inches(figsize)\n",
    "    ### bar chart ###\n",
    "    (means.loc[locs, cols]\n",
    "          .T\n",
    "          .plot.bar(ax=axes[0],\n",
    "                    legend=False,\n",
    "                    width=0.7,\n",
    "                    color=list(palette)))\n",
    "    ### percentages ###\n",
    "    raw_means = 2 ** means.loc[locs, cols] - 1.\n",
    "    (raw_means.div(raw_means.sum(axis=0))\n",
    "              .T.plot.bar(ax=axes[1], \n",
    "                          stacked=True,\n",
    "                          legend=False,\n",
    "                          color=list(palette)))\n",
    "    axes[0].set_ylabel('log2(TPM + 1)\\n')\n",
    "    axes[0].set_ylim(ylim)\n",
    "    axes[1].set_ylabel('Percentage of\\ngene expression')\n",
    "    axes[1].set_yticklabels(['{:.0%}'.format(t) for t in axes[1].get_yticks()])\n",
    "    axes[1].legend(loc='lower left', bbox_to_anchor=(1, 0), frameon=False)\n",
    "    axes[0].axhline(y=1, color='black', linewidth=0.5, linestyle=\"dashed\")\n",
    "    \n",
    "    axes[0].spines['top'].set_visible(False)\n",
    "    axes[1].spines['top'].set_visible(False)\n",
    "    axes[0].spines['right'].set_visible(False)\n",
    "    axes[1].spines['right'].set_visible(False)\n",
    "    \n",
    "    plt.subplots_adjust(hspace=0.25)\n",
    "    plt.savefig('../../figures/fig2/expression_' + gene_name + '_' + fig_suffix + '.pdf',\n",
    "                bbox_inches='tight')"
   ]
  },
  {
   "cell_type": "code",
   "execution_count": 122,
   "metadata": {},
   "outputs": [
    {
     "name": "stdout",
     "output_type": "stream",
     "text": [
      "Palette 'Egypt' has '4' discrete colors\n"
     ]
    },
    {
     "name": "stderr",
     "output_type": "stream",
     "text": [
      "/var/folders/4f/st3pbvs10sd68jl3b4p861h80000gn/T/ipykernel_86578/1624762615.py:28: UserWarning: FixedFormatter should only be used together with FixedLocator\n",
      "  axes[1].set_yticklabels(['{:.0%}'.format(t) for t in axes[1].get_yticks()])\n",
      "1 extra bytes in post.stringData array\n",
      "'created' timestamp seems very low; regarding as unix timestamp\n",
      "Zapf NOT subset; don't know how to subset; dropped\n",
      "feat NOT subset; don't know how to subset; dropped\n",
      "meta NOT subset; don't know how to subset; dropped\n",
      "morx NOT subset; don't know how to subset; dropped\n"
     ]
    },
    {
     "data": {
      "image/png": "[encoded data removed]",
      "text/plain": [
       "<Figure size 720x175 with 2 Axes>"
      ]
     },
     "metadata": {},
     "output_type": "display_data"
    }
   ],
   "source": [
    "notestis_cols = [x for x in means_dev.columns if \"testis\" not in x]\n",
    "notestis_cols = [x for x in notestis_cols if \"median\" not in x]\n",
    "notestis_cols = [x for x in notestis_cols if \"max\" not in x]\n",
    "notestis_cols = [x for x in notestis_cols if \"ovary\" not in x]\n",
    "notestis_cols = [x for x in notestis_cols if \"brain\" not in x]\n",
    "developmental_tissue_expression_plot(\"ZNF414\", (7.2, 1.75), (0, 6), means_dev, notestis_cols, \n",
    "                                     \"means_dev_notestis_large\")"
   ]
  },
  {
   "cell_type": "code",
   "execution_count": 123,
   "metadata": {},
   "outputs": [
    {
     "name": "stderr",
     "output_type": "stream",
     "text": [
      "/var/folders/4f/st3pbvs10sd68jl3b4p861h80000gn/T/ipykernel_86578/1624762615.py:28: UserWarning: FixedFormatter should only be used together with FixedLocator\n",
      "  axes[1].set_yticklabels(['{:.0%}'.format(t) for t in axes[1].get_yticks()])\n",
      "1 extra bytes in post.stringData array\n",
      "'created' timestamp seems very low; regarding as unix timestamp\n",
      "Zapf NOT subset; don't know how to subset; dropped\n",
      "feat NOT subset; don't know how to subset; dropped\n",
      "meta NOT subset; don't know how to subset; dropped\n",
      "morx NOT subset; don't know how to subset; dropped\n"
     ]
    },
    {
     "name": "stdout",
     "output_type": "stream",
     "text": [
      "Palette 'Egypt' has '4' discrete colors\n"
     ]
    },
    {
     "data": {
      "image/png": "[encoded data removed]",
      "text/plain": [
       "<Figure size 300x175 with 2 Axes>"
      ]
     },
     "metadata": {},
     "output_type": "display_data"
    }
   ],
   "source": [
    "liver_cols = [x for x in means_dev.columns if \"liver\" in x]\n",
    "developmental_tissue_expression_plot(\"ZNF414\", (3, 1.75), (0, 6), means_dev, liver_cols, \n",
    "                                     \"means_dev_liver_large\")"
   ]
  },
  {
   "cell_type": "markdown",
   "metadata": {},
   "source": [
    "## 11. make alphafold disorder plots"
   ]
  },
  {
   "cell_type": "code",
   "execution_count": 124,
   "metadata": {},
   "outputs": [
    {
     "name": "stdout",
     "output_type": "stream",
     "text": [
      "24181 (9%) aa in helices of length 20 aa or more\n",
      "30% of residues in long helices misclassified as disordered\n"
     ]
    }
   ],
   "source": [
    "dssp_dir = Path('../../data/processed/dssp_alphafold')\n",
    "dfs = []\n",
    "for dssp_file_path in dssp_dir.iterdir():\n",
    "    dssp = make_dssp_dict(dssp_file_path)\n",
    "    dfs.append(pd.DataFrame(data=[(dssp_file_path.stem, k[1][1], v[0], v[1], v[2]) for k, v in dssp[0].items()],\n",
    "                      columns=['clone_name', 'position', 'aa', 'secondary_structure', 'ASA']))\n",
    "df = pd.concat(dfs, axis=0, ignore_index=True)\n",
    "# NOTE: the Davey analysis uses GGXGG whereas I think this paper is GXG\n",
    "# Wilke: Tien et al. 2013 https://doi.org/10.1371/journal.pone.0080635\n",
    "max_asa = {\n",
    "        \"ALA\": 129.0,\n",
    "        \"ARG\": 274.0,\n",
    "        \"ASN\": 195.0,\n",
    "        \"ASP\": 193.0,\n",
    "        \"CYS\": 167.0,\n",
    "        \"GLN\": 225.0,\n",
    "        \"GLU\": 223.0,\n",
    "        \"GLY\": 104.0,\n",
    "        \"HIS\": 224.0,\n",
    "        \"ILE\": 197.0,\n",
    "        \"LEU\": 201.0,\n",
    "        \"LYS\": 236.0,\n",
    "        \"MET\": 224.0,\n",
    "        \"PHE\": 240.0,\n",
    "        \"PRO\": 159.0,\n",
    "        \"SER\": 155.0,\n",
    "        \"THR\": 172.0,\n",
    "        \"TRP\": 285.0,\n",
    "        \"TYR\": 263.0,\n",
    "        \"VAL\": 174.0,\n",
    "    }\n",
    "max_asa = {protein_letters_3to1[k.capitalize()]: v for k, v in max_asa.items()}\n",
    "df['RSA'] = df['ASA'] / df['aa'].map(max_asa)\n",
    "df['RSA'] = df['RSA'].clip(upper=1.)\n",
    "WINDOW_SIZE_RESIDUES = 20\n",
    "DISORDER_WINDOW_RSA_CUTOFF = 0.5\n",
    "rsa_window_col = f'RSA_window_{WINDOW_SIZE_RESIDUES}'\n",
    "df[rsa_window_col] = (\n",
    "         df.groupby('clone_name')['RSA']\n",
    "           .rolling(window=WINDOW_SIZE_RESIDUES * 2 + 1,\n",
    "                  min_periods=WINDOW_SIZE_RESIDUES + 1,\n",
    "                  center=True)\n",
    "             .mean().rename(rsa_window_col).droplevel('clone_name')\n",
    ")\n",
    "df['is_disordered'] = df[rsa_window_col] >= DISORDER_WINDOW_RSA_CUTOFF\n",
    "\n",
    "# correct for long helices which are structured, usually bound to a partner\n",
    "# but have high RSA in the monomer state\n",
    "DISORDER_HELIX_LENGTH_CUTOFF = 20\n",
    "to_change = []\n",
    "for clone_name, df_clone in df.groupby('clone_name'):\n",
    "    helix_count = 0\n",
    "    for _i, row in df_clone.iterrows():\n",
    "        if row['secondary_structure'] == 'H':\n",
    "            helix_count += 1\n",
    "        else:\n",
    "            if helix_count >= DISORDER_HELIX_LENGTH_CUTOFF:\n",
    "                for i in range(row['position'] - 1, row['position'] - helix_count, -1):\n",
    "                    to_change.append((clone_name, i))\n",
    "            helix_count = 0\n",
    "    if helix_count >= DISORDER_HELIX_LENGTH_CUTOFF:\n",
    "        for i in range(row['position'], row['position'] - helix_count, -1):\n",
    "            to_change.append((clone_name, i))\n",
    "to_change = (df['clone_name'] + '_' + df['position'].astype(str)).isin({a + '_' + str(b) for a, b in to_change})\n",
    "print(f'{to_change.sum()} ({to_change.mean():.0%}) aa in helices of length 20 aa or more')\n",
    "print(f\"{df.loc[to_change, 'is_disordered'].mean():.0%} of residues in long helices misclassified as disordered\")\n",
    "df.loc[to_change, 'is_disordered'] = False"
   ]
  },
  {
   "cell_type": "code",
   "execution_count": 125,
   "metadata": {},
   "outputs": [
    {
     "name": "stdout",
     "output_type": "stream",
     "text": [
      "reading from cache\n"
     ]
    },
    {
     "data": {
      "text/plain": [
       "246"
      ]
     },
     "execution_count": 125,
     "metadata": {},
     "output_type": "execute_result"
    }
   ],
   "source": [
    "tfs = load_annotated_TFiso1_collection()\n",
    "len(tfs)"
   ]
  },
  {
   "cell_type": "code",
   "execution_count": 126,
   "metadata": {},
   "outputs": [
    {
     "data": {
      "text/html": [
       "<div>\n",
       "<style scoped>\n",
       "    .dataframe tbody tr th:only-of-type {\n",
       "        vertical-align: middle;\n",
       "    }\n",
       "\n",
       "    .dataframe tbody tr th {\n",
       "        vertical-align: top;\n",
       "    }\n",
       "\n",
       "    .dataframe thead th {\n",
       "        text-align: right;\n",
       "    }\n",
       "</style>\n",
       "<table border=\"1\" class=\"dataframe\">\n",
       "  <thead>\n",
       "    <tr style=\"text-align: right;\">\n",
       "      <th></th>\n",
       "      <th>clone_name</th>\n",
       "      <th>position</th>\n",
       "      <th>aa</th>\n",
       "      <th>secondary_structure</th>\n",
       "      <th>ASA</th>\n",
       "      <th>RSA</th>\n",
       "      <th>RSA_window_20</th>\n",
       "      <th>is_disordered</th>\n",
       "    </tr>\n",
       "  </thead>\n",
       "  <tbody>\n",
       "    <tr>\n",
       "      <th>0</th>\n",
       "      <td>RARB-2</td>\n",
       "      <td>1</td>\n",
       "      <td>M</td>\n",
       "      <td>-</td>\n",
       "      <td>214</td>\n",
       "      <td>0.955357</td>\n",
       "      <td>0.529437</td>\n",
       "      <td>True</td>\n",
       "    </tr>\n",
       "    <tr>\n",
       "      <th>1</th>\n",
       "      <td>RARB-2</td>\n",
       "      <td>2</td>\n",
       "      <td>I</td>\n",
       "      <td>-</td>\n",
       "      <td>158</td>\n",
       "      <td>0.802030</td>\n",
       "      <td>0.529412</td>\n",
       "      <td>True</td>\n",
       "    </tr>\n",
       "    <tr>\n",
       "      <th>2</th>\n",
       "      <td>RARB-2</td>\n",
       "      <td>3</td>\n",
       "      <td>Y</td>\n",
       "      <td>-</td>\n",
       "      <td>88</td>\n",
       "      <td>0.334601</td>\n",
       "      <td>0.515486</td>\n",
       "      <td>True</td>\n",
       "    </tr>\n",
       "    <tr>\n",
       "      <th>3</th>\n",
       "      <td>RARB-2</td>\n",
       "      <td>4</td>\n",
       "      <td>T</td>\n",
       "      <td>-</td>\n",
       "      <td>93</td>\n",
       "      <td>0.540698</td>\n",
       "      <td>0.496253</td>\n",
       "      <td>False</td>\n",
       "    </tr>\n",
       "    <tr>\n",
       "      <th>4</th>\n",
       "      <td>RARB-2</td>\n",
       "      <td>5</td>\n",
       "      <td>C</td>\n",
       "      <td>-</td>\n",
       "      <td>14</td>\n",
       "      <td>0.083832</td>\n",
       "      <td>0.489396</td>\n",
       "      <td>False</td>\n",
       "    </tr>\n",
       "  </tbody>\n",
       "</table>\n",
       "</div>"
      ],
      "text/plain": [
       "  clone_name  position aa secondary_structure  ASA       RSA  RSA_window_20  \\\n",
       "0     RARB-2         1  M                   -  214  0.955357       0.529437   \n",
       "1     RARB-2         2  I                   -  158  0.802030       0.529412   \n",
       "2     RARB-2         3  Y                   -   88  0.334601       0.515486   \n",
       "3     RARB-2         4  T                   -   93  0.540698       0.496253   \n",
       "4     RARB-2         5  C                   -   14  0.083832       0.489396   \n",
       "\n",
       "   is_disordered  \n",
       "0           True  \n",
       "1           True  \n",
       "2           True  \n",
       "3          False  \n",
       "4          False  "
      ]
     },
     "execution_count": 126,
     "metadata": {},
     "output_type": "execute_result"
    }
   ],
   "source": [
    "df.head()"
   ]
  },
  {
   "cell_type": "code",
   "execution_count": 127,
   "metadata": {},
   "outputs": [],
   "source": [
    "df['is_cloned_reference'] = df['clone_name'].map({iso.name: iso.name == tf.cloned_reference_isoform.name\n",
    "                                                  for tf in tfs.values() \n",
    "                                                  for iso in tf.cloned_isoforms})"
   ]
  },
  {
   "cell_type": "code",
   "execution_count": 128,
   "metadata": {},
   "outputs": [
    {
     "name": "stdout",
     "output_type": "stream",
     "text": [
      "MEDIAN NUM OF RESIDUES IN DISORDERED REGIONS IN ALT ISOS: 56.678082191780824\n",
      "MEDIAN NUM OF RESIDUES IN DISORDERED REGIONS IN REF ISOS: 50.0445632798574\n"
     ]
    },
    {
     "name": "stderr",
     "output_type": "stream",
     "text": [
      "100%|██████████| 9999/9999 [04:37<00:00, 36.02it/s]"
     ]
    },
    {
     "name": "stdout",
     "output_type": "stream",
     "text": [
      "p = 0.003000300030003\n"
     ]
    },
    {
     "name": "stderr",
     "output_type": "stream",
     "text": [
      "\n"
     ]
    }
   ],
   "source": [
    "df_nonan = df.loc[~pd.isnull(df['is_cloned_reference'])]\n",
    "f_dis_ref = df_nonan[df_nonan['is_cloned_reference'] == True].groupby('clone_name')['is_disordered'].mean()\n",
    "f_dis_alt = df_nonan[df_nonan['is_cloned_reference'] == False].groupby('clone_name')['is_disordered'].mean()\n",
    "\n",
    "# randomization p-value\n",
    "obs_val = f_dis_alt.median() - f_dis_ref.median()\n",
    "\n",
    "print(\"MEDIAN NUM OF RESIDUES IN DISORDERED REGIONS IN ALT ISOS: %s\" % (f_dis_alt.median()*100))\n",
    "print(\"MEDIAN NUM OF RESIDUES IN DISORDERED REGIONS IN REF ISOS: %s\" % (f_dis_ref.median()*100))\n",
    "rnd_vals = []\n",
    "gene_to_isoforms = {tf.name: [iso.name for iso in tf.cloned_isoforms] for tf in tfs.values()}\n",
    "np.random.seed(34298793)\n",
    "for _i in tqdm.tqdm(range(1, 10000)):\n",
    "    all_vals = df.groupby('clone_name')['is_disordered'].mean()\n",
    "    rnd_refs = set()\n",
    "    for isoforms in gene_to_isoforms.values():\n",
    "        rnd_refs.add(np.random.choice(isoforms))\n",
    "    rnd_vals.append(all_vals.loc[~all_vals.index.isin(rnd_refs)].median()\n",
    "                    -\n",
    "                    all_vals.loc[all_vals.index.isin(rnd_refs)].median())\n",
    "pval = sum(rnd_val >= obs_val for rnd_val in rnd_vals) / len(rnd_vals) * 2\n",
    "print(f'p = {pval}')"
   ]
  },
  {
   "cell_type": "code",
   "execution_count": 129,
   "metadata": {},
   "outputs": [
    {
     "name": "stderr",
     "output_type": "stream",
     "text": [
      "1 extra bytes in post.stringData array\n",
      "'created' timestamp seems very low; regarding as unix timestamp\n",
      "Zapf NOT subset; don't know how to subset; dropped\n",
      "feat NOT subset; don't know how to subset; dropped\n",
      "meta NOT subset; don't know how to subset; dropped\n",
      "morx NOT subset; don't know how to subset; dropped\n"
     ]
    },
    {
     "data": {
      "image/png": "[encoded data removed]",
      "text/plain": [
       "<Figure size 110x180 with 1 Axes>"
      ]
     },
     "metadata": {},
     "output_type": "display_data"
    }
   ],
   "source": [
    "fig, ax = plt.subplots(1, 1)\n",
    "fig.set_size_inches(w=1.1, h=1.8)\n",
    "data = (df.groupby(['clone_name', 'is_cloned_reference'])\n",
    "                            ['is_disordered']\n",
    "                            .mean()\n",
    "                            .reset_index())\n",
    "violinplot_reflected(data=data,\n",
    "                     x='is_cloned_reference',\n",
    "                     y='is_disordered',\n",
    "                     order=[True, False],\n",
    "                     cut=0,\n",
    "                     color=sns.color_palette(\"Set2\")[0],\n",
    "                     )\n",
    "ax.set_ylim(0, 1)\n",
    "ax.set_xlim(-0.5, 1.5)\n",
    "ax.set_ylabel('Residues in disordered regions')\n",
    "ax.set_yticks(np.linspace(0, 1, 6))\n",
    "ax.set_yticks(np.linspace(0, 1, 11), minor=True)\n",
    "ax.set_yticklabels([f'{y:.0%}' for y in ax.get_yticks()])\n",
    "ax.set_xlabel('')\n",
    "ax.set_xticklabels(['Reference\\nisoforms', 'Alternative\\nisoforms'])\n",
    "for loc in ['top', 'right', 'bottom']:\n",
    "    ax.spines[loc].set_visible(False)\n",
    "ax.xaxis.set_tick_params(length=0)\n",
    "\n",
    "annotate_pval(ax, 0, 1, 1.05, 0, 1.05, pval, PAPER_FONTSIZE - 1)\n",
    "\n",
    "# manually set left axis so it stops at 1.0\n",
    "ax.set_ylim((-0.1, 1.1))\n",
    "ax.spines['left'].set_visible(False)\n",
    "ax.set_yticks([0, 0.2, 0.4, 0.6, 0.8, 1.0])\n",
    "axes_to_data = ax.transAxes + ax.transData.inverted()\n",
    "left_spine_in_data_coords = axes_to_data.transform((0, 0))\n",
    "ax.plot([left_spine_in_data_coords[0], left_spine_in_data_coords[0]], [0, 1],\n",
    "         color=ax.spines['bottom'].get_edgecolor(), linewidth=ax.spines['bottom'].get_linewidth())\n",
    "ax.tick_params(axis='x', which='major', pad=-5)\n",
    "\n",
    "fig.savefig('../../figures/fig2/disordered-residued-pct-per-isoform_TFiso1_violin.pdf',\n",
    "            bbox_inches='tight')"
   ]
  },
  {
   "cell_type": "markdown",
   "metadata": {},
   "source": [
    "## 12. make supplemental files"
   ]
  },
  {
   "cell_type": "markdown",
   "metadata": {},
   "source": [
    "### Clone List"
   ]
  },
  {
   "cell_type": "code",
   "execution_count": 130,
   "metadata": {},
   "outputs": [
    {
     "name": "stdout",
     "output_type": "stream",
     "text": [
      "NUMBER OF ISOS IN SUPP FILE: 693\n",
      "NUMBER OF GENES IN SUPP FILE: 246\n"
     ]
    },
    {
     "data": {
      "text/plain": [
       "annotated alternative    275\n",
       "annotated reference      235\n",
       "novel alternative        172\n",
       "novel reference           11\n",
       "Name: isoform_status, dtype: int64"
      ]
     },
     "execution_count": 130,
     "metadata": {},
     "output_type": "execute_result"
    }
   ],
   "source": [
    "supp_clones = {}\n",
    "\n",
    "for gene in clone_tfs:\n",
    "    gene_ref = clone_tfs[gene].cloned_reference_isoform.name\n",
    "    for iso in clone_tfs[gene].cloned_isoforms:\n",
    "        clone_name = iso.name\n",
    "        if not iso.ensembl_transcript_names is None:\n",
    "            tx_names = \"|\".join(iso.ensembl_transcript_names)\n",
    "            tx_ids = \"|\".join(iso.ensembl_transcript_ids)\n",
    "            if clone_name == gene_ref:\n",
    "                status = \"annotated reference\"\n",
    "            else:\n",
    "                status = \"annotated alternative\"\n",
    "        else:\n",
    "            tx_names = \"NA\"\n",
    "            tx_ids = \"NA\"\n",
    "            \n",
    "            if clone_name == gene_ref:\n",
    "                status = \"novel reference\"\n",
    "            else:\n",
    "                status = \"novel alternative\"\n",
    "        cds_seq = iso.clone_nt_seq\n",
    "        aa_seq = iso.aa_seq\n",
    "        supp_clones[clone_name] = {\"gene_symbol\": gene, \n",
    "                                   \"isoform_status\": status,\n",
    "                                   \"gencode_transcript_names\": tx_names,\n",
    "                                   \"ensembl_transcript_ids\": tx_ids, \n",
    "                                   \"cds_seq\": cds_seq,\n",
    "                                   \"aa_seq\": aa_seq}\n",
    "        \n",
    "supp_clones = pd.DataFrame.from_dict(supp_clones, \n",
    "                                     orient=\"index\").rename_axis(\"clone_id\").reset_index()\n",
    "supp_clones[\"isoform_status\"] = pd.Categorical(supp_clones[\"isoform_status\"], \n",
    "                                       [\"annotated reference\", \"novel reference\", \n",
    "                                        \"annotated alternative\",\n",
    "                                        \"novel alternative\"])\n",
    "supp_clones[\"tf_family\"] = supp_clones[\"gene_symbol\"].map(fam)\n",
    "\n",
    "supp_clones = supp_clones.sort_values(by=[\"clone_id\", \"isoform_status\"])\n",
    "print(\"NUMBER OF ISOS IN SUPP FILE: %s\" % (len(supp_clones.clone_id.unique())))\n",
    "print(\"NUMBER OF GENES IN SUPP FILE: %s\" % (len(supp_clones.gene_symbol.unique())))\n",
    "supp_clones.isoform_status.value_counts()"
   ]
  },
  {
   "cell_type": "code",
   "execution_count": 131,
   "metadata": {},
   "outputs": [],
   "source": [
    "supp_clones.to_csv(\"../../supp/SuppTable_CloneList.txt\", index=False, sep=\"\\t\")"
   ]
  },
  {
   "cell_type": "code",
   "execution_count": 132,
   "metadata": {},
   "outputs": [
    {
     "data": {
      "text/html": [
       "<div>\n",
       "<style scoped>\n",
       "    .dataframe tbody tr th:only-of-type {\n",
       "        vertical-align: middle;\n",
       "    }\n",
       "\n",
       "    .dataframe tbody tr th {\n",
       "        vertical-align: top;\n",
       "    }\n",
       "\n",
       "    .dataframe thead th {\n",
       "        text-align: right;\n",
       "    }\n",
       "</style>\n",
       "<table border=\"1\" class=\"dataframe\">\n",
       "  <thead>\n",
       "    <tr style=\"text-align: right;\">\n",
       "      <th></th>\n",
       "      <th>clone_id</th>\n",
       "      <th>gene_symbol</th>\n",
       "      <th>isoform_status</th>\n",
       "      <th>gencode_transcript_names</th>\n",
       "      <th>ensembl_transcript_ids</th>\n",
       "      <th>cds_seq</th>\n",
       "      <th>aa_seq</th>\n",
       "      <th>tf_family</th>\n",
       "    </tr>\n",
       "  </thead>\n",
       "  <tbody>\n",
       "    <tr>\n",
       "      <th>388</th>\n",
       "      <td>AEBP2-2</td>\n",
       "      <td>AEBP2</td>\n",
       "      <td>novel reference</td>\n",
       "      <td>NA</td>\n",
       "      <td>NA</td>\n",
       "      <td>ATGGATGTAGACAGCACAATTTCCAGTGGGCGTTCAACTCCAGCAA...</td>\n",
       "      <td>MDVDSTISSGRSTPAMMNGQGSTTSSSKNIAYNCCWDQCQACFNSS...</td>\n",
       "      <td>C2H2 ZF</td>\n",
       "    </tr>\n",
       "    <tr>\n",
       "      <th>389</th>\n",
       "      <td>AEBP2-3</td>\n",
       "      <td>AEBP2</td>\n",
       "      <td>novel alternative</td>\n",
       "      <td>NA</td>\n",
       "      <td>NA</td>\n",
       "      <td>ATGTACACACGTCGGTACTCAAGCATAAGCAGTACTATAATGGATG...</td>\n",
       "      <td>MYTRRYSSISSTIMDVDSTISSGRSTPAMMNGQGSTTSSSKNIAYN...</td>\n",
       "      <td>C2H2 ZF</td>\n",
       "    </tr>\n",
       "    <tr>\n",
       "      <th>455</th>\n",
       "      <td>ARNT2-1</td>\n",
       "      <td>ARNT2</td>\n",
       "      <td>annotated reference</td>\n",
       "      <td>ARNT2-201</td>\n",
       "      <td>ENST00000303329</td>\n",
       "      <td>ATGGCAACCCCGGCGGCGGTCAACCCTCCGGAAATGGCTTCAGACA...</td>\n",
       "      <td>MATPAAVNPPEMASDIPGSVTLPVAPMAATGQVRMAGAMPARGGKR...</td>\n",
       "      <td>bHLH</td>\n",
       "    </tr>\n",
       "    <tr>\n",
       "      <th>457</th>\n",
       "      <td>ARNT2-2</td>\n",
       "      <td>ARNT2</td>\n",
       "      <td>novel alternative</td>\n",
       "      <td>NA</td>\n",
       "      <td>NA</td>\n",
       "      <td>ATGGCTTCAGACATACCTGGATCTGTGACGTTGCCCGTTGCCCCCA...</td>\n",
       "      <td>MASDIPGSVTLPVAPMAATGQVRMAGAMPARGGKRRSGMDFDDEDG...</td>\n",
       "      <td>bHLH</td>\n",
       "    </tr>\n",
       "    <tr>\n",
       "      <th>456</th>\n",
       "      <td>ARNT2-3</td>\n",
       "      <td>ARNT2</td>\n",
       "      <td>annotated alternative</td>\n",
       "      <td>ARNT2-209</td>\n",
       "      <td>ENST00000622346</td>\n",
       "      <td>ATGGCAACCCCGGCGGCGGTCAACCCTCCGGAAATGGCTTCAGACA...</td>\n",
       "      <td>MATPAAVNPPEMASDIPGSVTLPVAPMAATGQVRMAGAMPARGGKR...</td>\n",
       "      <td>bHLH</td>\n",
       "    </tr>\n",
       "  </tbody>\n",
       "</table>\n",
       "</div>"
      ],
      "text/plain": [
       "    clone_id gene_symbol         isoform_status gencode_transcript_names  \\\n",
       "388  AEBP2-2       AEBP2        novel reference                       NA   \n",
       "389  AEBP2-3       AEBP2      novel alternative                       NA   \n",
       "455  ARNT2-1       ARNT2    annotated reference                ARNT2-201   \n",
       "457  ARNT2-2       ARNT2      novel alternative                       NA   \n",
       "456  ARNT2-3       ARNT2  annotated alternative                ARNT2-209   \n",
       "\n",
       "    ensembl_transcript_ids                                            cds_seq  \\\n",
       "388                     NA  ATGGATGTAGACAGCACAATTTCCAGTGGGCGTTCAACTCCAGCAA...   \n",
       "389                     NA  ATGTACACACGTCGGTACTCAAGCATAAGCAGTACTATAATGGATG...   \n",
       "455        ENST00000303329  ATGGCAACCCCGGCGGCGGTCAACCCTCCGGAAATGGCTTCAGACA...   \n",
       "457                     NA  ATGGCTTCAGACATACCTGGATCTGTGACGTTGCCCGTTGCCCCCA...   \n",
       "456        ENST00000622346  ATGGCAACCCCGGCGGCGGTCAACCCTCCGGAAATGGCTTCAGACA...   \n",
       "\n",
       "                                                aa_seq tf_family  \n",
       "388  MDVDSTISSGRSTPAMMNGQGSTTSSSKNIAYNCCWDQCQACFNSS...   C2H2 ZF  \n",
       "389  MYTRRYSSISSTIMDVDSTISSGRSTPAMMNGQGSTTSSSKNIAYN...   C2H2 ZF  \n",
       "455  MATPAAVNPPEMASDIPGSVTLPVAPMAATGQVRMAGAMPARGGKR...      bHLH  \n",
       "457  MASDIPGSVTLPVAPMAATGQVRMAGAMPARGGKRRSGMDFDDEDG...      bHLH  \n",
       "456  MATPAAVNPPEMASDIPGSVTLPVAPMAATGQVRMAGAMPARGGKR...      bHLH  "
      ]
     },
     "execution_count": 132,
     "metadata": {},
     "output_type": "execute_result"
    }
   ],
   "source": [
    "supp_clones.head()"
   ]
  },
  {
   "cell_type": "markdown",
   "metadata": {},
   "source": [
    "### DNA baits in Y1H"
   ]
  },
  {
   "cell_type": "code",
   "execution_count": 133,
   "metadata": {},
   "outputs": [
    {
     "name": "stdout",
     "output_type": "stream",
     "text": [
      "NUM OF BAITS IN SUPP FILE: 186\n"
     ]
    }
   ],
   "source": [
    "supp_baits = load_Y1H_DNA_bait_sequences()\n",
    "supp_baits = (pd.DataFrame.from_dict(supp_baits, orient=\"index\")\n",
    "              .rename_axis(\"bait_id\")\n",
    "              .reset_index())\n",
    "supp_baits.columns = [\"bait_id\", \"seq\"]\n",
    "supp_baits[\"bait_id\"] = supp_baits[\"bait_id\"].str.upper()\n",
    "\n",
    "# limit to baits that are in our y1h data\n",
    "supp_baits = supp_baits[supp_baits[\"bait_id\"].isin(baits)]\n",
    "print(\"NUM OF BAITS IN SUPP FILE: %s\" % len(supp_baits))\n",
    "\n",
    "supp_baits.to_csv(\"../../supp/SuppTable_DNABaits.txt\", index=False, sep=\"\\t\")"
   ]
  },
  {
   "cell_type": "markdown",
   "metadata": {},
   "source": [
    "### Y1H results"
   ]
  },
  {
   "cell_type": "code",
   "execution_count": 134,
   "metadata": {},
   "outputs": [],
   "source": [
    "# map clone_acc to clone_name\n",
    "clone_acc_map = {}\n",
    "\n",
    "for gene in clone_tfs:\n",
    "    for iso in clone_tfs[gene].cloned_isoforms:\n",
    "        clone_acc = iso.clone_acc\n",
    "        clone_name = iso.name\n",
    "        clone_acc_map[clone_acc] = clone_name"
   ]
  },
  {
   "cell_type": "code",
   "execution_count": 135,
   "metadata": {},
   "outputs": [
    {
     "name": "stdout",
     "output_type": "stream",
     "text": [
      "NUM ISOS IN SUPP Y1H FILE: 171\n",
      "NUM GENES IN SUPP Y1H FILE: 80\n",
      "NUM BAITS IN SUPP Y1H FILE: 186\n"
     ]
    },
    {
     "data": {
      "text/html": [
       "<div>\n",
       "<style scoped>\n",
       "    .dataframe tbody tr th:only-of-type {\n",
       "        vertical-align: middle;\n",
       "    }\n",
       "\n",
       "    .dataframe tbody tr th {\n",
       "        vertical-align: top;\n",
       "    }\n",
       "\n",
       "    .dataframe thead th {\n",
       "        text-align: right;\n",
       "    }\n",
       "</style>\n",
       "<table border=\"1\" class=\"dataframe\">\n",
       "  <thead>\n",
       "    <tr style=\"text-align: right;\">\n",
       "      <th></th>\n",
       "      <th>gene_symbol</th>\n",
       "      <th>clone_id</th>\n",
       "      <th>HS1006</th>\n",
       "      <th>HS1022</th>\n",
       "      <th>HS1043</th>\n",
       "      <th>HS1067</th>\n",
       "      <th>HS1139</th>\n",
       "      <th>HS1142</th>\n",
       "      <th>HS118</th>\n",
       "      <th>HS1181</th>\n",
       "      <th>...</th>\n",
       "      <th>KITLG</th>\n",
       "      <th>LTA</th>\n",
       "      <th>PF4V1</th>\n",
       "      <th>TNFSF10</th>\n",
       "      <th>TNFSF13</th>\n",
       "      <th>TNFSF14</th>\n",
       "      <th>TNFSF4</th>\n",
       "      <th>TNFSF8</th>\n",
       "      <th>XCL1</th>\n",
       "      <th>XCL2</th>\n",
       "    </tr>\n",
       "  </thead>\n",
       "  <tbody>\n",
       "    <tr>\n",
       "      <th>0</th>\n",
       "      <td>CREB1</td>\n",
       "      <td>CREB1-1</td>\n",
       "      <td>False</td>\n",
       "      <td>False</td>\n",
       "      <td>False</td>\n",
       "      <td>False</td>\n",
       "      <td>False</td>\n",
       "      <td>False</td>\n",
       "      <td>False</td>\n",
       "      <td>False</td>\n",
       "      <td>...</td>\n",
       "      <td>&lt;NA&gt;</td>\n",
       "      <td>&lt;NA&gt;</td>\n",
       "      <td>&lt;NA&gt;</td>\n",
       "      <td>&lt;NA&gt;</td>\n",
       "      <td>&lt;NA&gt;</td>\n",
       "      <td>&lt;NA&gt;</td>\n",
       "      <td>&lt;NA&gt;</td>\n",
       "      <td>&lt;NA&gt;</td>\n",
       "      <td>&lt;NA&gt;</td>\n",
       "      <td>&lt;NA&gt;</td>\n",
       "    </tr>\n",
       "    <tr>\n",
       "      <th>1</th>\n",
       "      <td>CREB1</td>\n",
       "      <td>CREB1-2</td>\n",
       "      <td>False</td>\n",
       "      <td>False</td>\n",
       "      <td>False</td>\n",
       "      <td>False</td>\n",
       "      <td>False</td>\n",
       "      <td>False</td>\n",
       "      <td>False</td>\n",
       "      <td>False</td>\n",
       "      <td>...</td>\n",
       "      <td>&lt;NA&gt;</td>\n",
       "      <td>&lt;NA&gt;</td>\n",
       "      <td>&lt;NA&gt;</td>\n",
       "      <td>&lt;NA&gt;</td>\n",
       "      <td>&lt;NA&gt;</td>\n",
       "      <td>&lt;NA&gt;</td>\n",
       "      <td>&lt;NA&gt;</td>\n",
       "      <td>&lt;NA&gt;</td>\n",
       "      <td>&lt;NA&gt;</td>\n",
       "      <td>&lt;NA&gt;</td>\n",
       "    </tr>\n",
       "    <tr>\n",
       "      <th>2</th>\n",
       "      <td>DLX1</td>\n",
       "      <td>DLX1-1</td>\n",
       "      <td>False</td>\n",
       "      <td>False</td>\n",
       "      <td>False</td>\n",
       "      <td>&lt;NA&gt;</td>\n",
       "      <td>False</td>\n",
       "      <td>False</td>\n",
       "      <td>False</td>\n",
       "      <td>False</td>\n",
       "      <td>...</td>\n",
       "      <td>&lt;NA&gt;</td>\n",
       "      <td>&lt;NA&gt;</td>\n",
       "      <td>&lt;NA&gt;</td>\n",
       "      <td>&lt;NA&gt;</td>\n",
       "      <td>&lt;NA&gt;</td>\n",
       "      <td>&lt;NA&gt;</td>\n",
       "      <td>&lt;NA&gt;</td>\n",
       "      <td>&lt;NA&gt;</td>\n",
       "      <td>&lt;NA&gt;</td>\n",
       "      <td>&lt;NA&gt;</td>\n",
       "    </tr>\n",
       "    <tr>\n",
       "      <th>3</th>\n",
       "      <td>DLX1</td>\n",
       "      <td>DLX1-2</td>\n",
       "      <td>False</td>\n",
       "      <td>False</td>\n",
       "      <td>False</td>\n",
       "      <td>False</td>\n",
       "      <td>False</td>\n",
       "      <td>False</td>\n",
       "      <td>False</td>\n",
       "      <td>False</td>\n",
       "      <td>...</td>\n",
       "      <td>&lt;NA&gt;</td>\n",
       "      <td>&lt;NA&gt;</td>\n",
       "      <td>&lt;NA&gt;</td>\n",
       "      <td>&lt;NA&gt;</td>\n",
       "      <td>&lt;NA&gt;</td>\n",
       "      <td>&lt;NA&gt;</td>\n",
       "      <td>&lt;NA&gt;</td>\n",
       "      <td>&lt;NA&gt;</td>\n",
       "      <td>&lt;NA&gt;</td>\n",
       "      <td>&lt;NA&gt;</td>\n",
       "    </tr>\n",
       "    <tr>\n",
       "      <th>4</th>\n",
       "      <td>DLX4</td>\n",
       "      <td>DLX4-1</td>\n",
       "      <td>False</td>\n",
       "      <td>False</td>\n",
       "      <td>False</td>\n",
       "      <td>False</td>\n",
       "      <td>False</td>\n",
       "      <td>False</td>\n",
       "      <td>False</td>\n",
       "      <td>False</td>\n",
       "      <td>...</td>\n",
       "      <td>&lt;NA&gt;</td>\n",
       "      <td>&lt;NA&gt;</td>\n",
       "      <td>&lt;NA&gt;</td>\n",
       "      <td>&lt;NA&gt;</td>\n",
       "      <td>&lt;NA&gt;</td>\n",
       "      <td>&lt;NA&gt;</td>\n",
       "      <td>&lt;NA&gt;</td>\n",
       "      <td>&lt;NA&gt;</td>\n",
       "      <td>&lt;NA&gt;</td>\n",
       "      <td>&lt;NA&gt;</td>\n",
       "    </tr>\n",
       "    <tr>\n",
       "      <th>...</th>\n",
       "      <td>...</td>\n",
       "      <td>...</td>\n",
       "      <td>...</td>\n",
       "      <td>...</td>\n",
       "      <td>...</td>\n",
       "      <td>...</td>\n",
       "      <td>...</td>\n",
       "      <td>...</td>\n",
       "      <td>...</td>\n",
       "      <td>...</td>\n",
       "      <td>...</td>\n",
       "      <td>...</td>\n",
       "      <td>...</td>\n",
       "      <td>...</td>\n",
       "      <td>...</td>\n",
       "      <td>...</td>\n",
       "      <td>...</td>\n",
       "      <td>...</td>\n",
       "      <td>...</td>\n",
       "      <td>...</td>\n",
       "      <td>...</td>\n",
       "    </tr>\n",
       "    <tr>\n",
       "      <th>168</th>\n",
       "      <td>ZNF18</td>\n",
       "      <td>ZNF18-3</td>\n",
       "      <td>False</td>\n",
       "      <td>False</td>\n",
       "      <td>False</td>\n",
       "      <td>False</td>\n",
       "      <td>False</td>\n",
       "      <td>False</td>\n",
       "      <td>False</td>\n",
       "      <td>False</td>\n",
       "      <td>...</td>\n",
       "      <td>&lt;NA&gt;</td>\n",
       "      <td>&lt;NA&gt;</td>\n",
       "      <td>&lt;NA&gt;</td>\n",
       "      <td>&lt;NA&gt;</td>\n",
       "      <td>&lt;NA&gt;</td>\n",
       "      <td>&lt;NA&gt;</td>\n",
       "      <td>&lt;NA&gt;</td>\n",
       "      <td>&lt;NA&gt;</td>\n",
       "      <td>&lt;NA&gt;</td>\n",
       "      <td>&lt;NA&gt;</td>\n",
       "    </tr>\n",
       "    <tr>\n",
       "      <th>169</th>\n",
       "      <td>ZNF320</td>\n",
       "      <td>ZNF320-1</td>\n",
       "      <td>False</td>\n",
       "      <td>False</td>\n",
       "      <td>False</td>\n",
       "      <td>False</td>\n",
       "      <td>False</td>\n",
       "      <td>False</td>\n",
       "      <td>False</td>\n",
       "      <td>False</td>\n",
       "      <td>...</td>\n",
       "      <td>&lt;NA&gt;</td>\n",
       "      <td>&lt;NA&gt;</td>\n",
       "      <td>&lt;NA&gt;</td>\n",
       "      <td>&lt;NA&gt;</td>\n",
       "      <td>&lt;NA&gt;</td>\n",
       "      <td>&lt;NA&gt;</td>\n",
       "      <td>&lt;NA&gt;</td>\n",
       "      <td>&lt;NA&gt;</td>\n",
       "      <td>&lt;NA&gt;</td>\n",
       "      <td>&lt;NA&gt;</td>\n",
       "    </tr>\n",
       "    <tr>\n",
       "      <th>170</th>\n",
       "      <td>ZNF438</td>\n",
       "      <td>ZNF438-1</td>\n",
       "      <td>False</td>\n",
       "      <td>False</td>\n",
       "      <td>False</td>\n",
       "      <td>False</td>\n",
       "      <td>False</td>\n",
       "      <td>False</td>\n",
       "      <td>False</td>\n",
       "      <td>False</td>\n",
       "      <td>...</td>\n",
       "      <td>&lt;NA&gt;</td>\n",
       "      <td>&lt;NA&gt;</td>\n",
       "      <td>&lt;NA&gt;</td>\n",
       "      <td>&lt;NA&gt;</td>\n",
       "      <td>&lt;NA&gt;</td>\n",
       "      <td>&lt;NA&gt;</td>\n",
       "      <td>&lt;NA&gt;</td>\n",
       "      <td>&lt;NA&gt;</td>\n",
       "      <td>&lt;NA&gt;</td>\n",
       "      <td>&lt;NA&gt;</td>\n",
       "    </tr>\n",
       "    <tr>\n",
       "      <th>171</th>\n",
       "      <td>ZNF438</td>\n",
       "      <td>ZNF438-2</td>\n",
       "      <td>False</td>\n",
       "      <td>False</td>\n",
       "      <td>False</td>\n",
       "      <td>False</td>\n",
       "      <td>False</td>\n",
       "      <td>False</td>\n",
       "      <td>False</td>\n",
       "      <td>False</td>\n",
       "      <td>...</td>\n",
       "      <td>&lt;NA&gt;</td>\n",
       "      <td>&lt;NA&gt;</td>\n",
       "      <td>&lt;NA&gt;</td>\n",
       "      <td>&lt;NA&gt;</td>\n",
       "      <td>&lt;NA&gt;</td>\n",
       "      <td>&lt;NA&gt;</td>\n",
       "      <td>&lt;NA&gt;</td>\n",
       "      <td>&lt;NA&gt;</td>\n",
       "      <td>&lt;NA&gt;</td>\n",
       "      <td>&lt;NA&gt;</td>\n",
       "    </tr>\n",
       "    <tr>\n",
       "      <th>172</th>\n",
       "      <td>ZNF513</td>\n",
       "      <td>ZNF513-2</td>\n",
       "      <td>False</td>\n",
       "      <td>False</td>\n",
       "      <td>False</td>\n",
       "      <td>False</td>\n",
       "      <td>False</td>\n",
       "      <td>False</td>\n",
       "      <td>False</td>\n",
       "      <td>False</td>\n",
       "      <td>...</td>\n",
       "      <td>&lt;NA&gt;</td>\n",
       "      <td>&lt;NA&gt;</td>\n",
       "      <td>&lt;NA&gt;</td>\n",
       "      <td>&lt;NA&gt;</td>\n",
       "      <td>&lt;NA&gt;</td>\n",
       "      <td>&lt;NA&gt;</td>\n",
       "      <td>&lt;NA&gt;</td>\n",
       "      <td>&lt;NA&gt;</td>\n",
       "      <td>&lt;NA&gt;</td>\n",
       "      <td>&lt;NA&gt;</td>\n",
       "    </tr>\n",
       "  </tbody>\n",
       "</table>\n",
       "<p>171 rows × 188 columns</p>\n",
       "</div>"
      ],
      "text/plain": [
       "    gene_symbol  clone_id  HS1006  HS1022  HS1043  HS1067  HS1139  HS1142  \\\n",
       "0         CREB1   CREB1-1   False   False   False   False   False   False   \n",
       "1         CREB1   CREB1-2   False   False   False   False   False   False   \n",
       "2          DLX1    DLX1-1   False   False   False    <NA>   False   False   \n",
       "3          DLX1    DLX1-2   False   False   False   False   False   False   \n",
       "4          DLX4    DLX4-1   False   False   False   False   False   False   \n",
       "..          ...       ...     ...     ...     ...     ...     ...     ...   \n",
       "168       ZNF18   ZNF18-3   False   False   False   False   False   False   \n",
       "169      ZNF320  ZNF320-1   False   False   False   False   False   False   \n",
       "170      ZNF438  ZNF438-1   False   False   False   False   False   False   \n",
       "171      ZNF438  ZNF438-2   False   False   False   False   False   False   \n",
       "172      ZNF513  ZNF513-2   False   False   False   False   False   False   \n",
       "\n",
       "     HS118  HS1181  ...  KITLG   LTA  PF4V1  TNFSF10  TNFSF13  TNFSF14  \\\n",
       "0    False   False  ...   <NA>  <NA>   <NA>     <NA>     <NA>     <NA>   \n",
       "1    False   False  ...   <NA>  <NA>   <NA>     <NA>     <NA>     <NA>   \n",
       "2    False   False  ...   <NA>  <NA>   <NA>     <NA>     <NA>     <NA>   \n",
       "3    False   False  ...   <NA>  <NA>   <NA>     <NA>     <NA>     <NA>   \n",
       "4    False   False  ...   <NA>  <NA>   <NA>     <NA>     <NA>     <NA>   \n",
       "..     ...     ...  ...    ...   ...    ...      ...      ...      ...   \n",
       "168  False   False  ...   <NA>  <NA>   <NA>     <NA>     <NA>     <NA>   \n",
       "169  False   False  ...   <NA>  <NA>   <NA>     <NA>     <NA>     <NA>   \n",
       "170  False   False  ...   <NA>  <NA>   <NA>     <NA>     <NA>     <NA>   \n",
       "171  False   False  ...   <NA>  <NA>   <NA>     <NA>     <NA>     <NA>   \n",
       "172  False   False  ...   <NA>  <NA>   <NA>     <NA>     <NA>     <NA>   \n",
       "\n",
       "     TNFSF4  TNFSF8  XCL1  XCL2  \n",
       "0      <NA>    <NA>  <NA>  <NA>  \n",
       "1      <NA>    <NA>  <NA>  <NA>  \n",
       "2      <NA>    <NA>  <NA>  <NA>  \n",
       "3      <NA>    <NA>  <NA>  <NA>  \n",
       "4      <NA>    <NA>  <NA>  <NA>  \n",
       "..      ...     ...   ...   ...  \n",
       "168    <NA>    <NA>  <NA>  <NA>  \n",
       "169    <NA>    <NA>  <NA>  <NA>  \n",
       "170    <NA>    <NA>  <NA>  <NA>  \n",
       "171    <NA>    <NA>  <NA>  <NA>  \n",
       "172    <NA>    <NA>  <NA>  <NA>  \n",
       "\n",
       "[171 rows x 188 columns]"
      ]
     },
     "execution_count": 135,
     "metadata": {},
     "output_type": "execute_result"
    }
   ],
   "source": [
    "supp_y1h = y1h.copy()\n",
    "supp_y1h[\"clone_id\"] = supp_y1h[\"clone_acc\"].map(clone_acc_map)\n",
    "supp_y1h = supp_y1h[[\"gene_symbol\", \"clone_id\"] + baits]\n",
    "\n",
    "print(\"NUM ISOS IN SUPP Y1H FILE: %s\" % (len(supp_y1h.clone_id.unique())))\n",
    "print(\"NUM GENES IN SUPP Y1H FILE: %s\" % (len(supp_y1h.gene_symbol.unique())))\n",
    "print(\"NUM BAITS IN SUPP Y1H FILE: %s\" % len(baits))\n",
    "supp_y1h"
   ]
  },
  {
   "cell_type": "code",
   "execution_count": 136,
   "metadata": {},
   "outputs": [],
   "source": [
    "supp_y1h.to_csv(\"../../supp/SuppTable_eY1HResults.txt\", index=False, sep=\"\\t\")"
   ]
  },
  {
   "cell_type": "markdown",
   "metadata": {},
   "source": [
    "### Y2H results"
   ]
  },
  {
   "cell_type": "code",
   "execution_count": 148,
   "metadata": {},
   "outputs": [
    {
     "data": {
      "text/html": [
       "<div>\n",
       "<style scoped>\n",
       "    .dataframe tbody tr th:only-of-type {\n",
       "        vertical-align: middle;\n",
       "    }\n",
       "\n",
       "    .dataframe tbody tr th {\n",
       "        vertical-align: top;\n",
       "    }\n",
       "\n",
       "    .dataframe thead th {\n",
       "        text-align: right;\n",
       "    }\n",
       "</style>\n",
       "<table border=\"1\" class=\"dataframe\">\n",
       "  <thead>\n",
       "    <tr style=\"text-align: right;\">\n",
       "      <th></th>\n",
       "      <th>large_plate_name</th>\n",
       "      <th>retest_pla</th>\n",
       "      <th>retest_pos</th>\n",
       "      <th>ad_gene_symbol</th>\n",
       "      <th>ad_clone_name</th>\n",
       "      <th>ad_orf_id</th>\n",
       "      <th>db_gene_symbol</th>\n",
       "      <th>db_orf_id</th>\n",
       "      <th>category</th>\n",
       "      <th>3AT</th>\n",
       "      <th>LW</th>\n",
       "      <th>empty_AD_3AT</th>\n",
       "      <th>empty_AD_LW</th>\n",
       "      <th>Y2H_result</th>\n",
       "      <th>seq_confirmation_3AT</th>\n",
       "      <th>seq_confirmation_LW</th>\n",
       "      <th>ad_clone_acc</th>\n",
       "    </tr>\n",
       "  </thead>\n",
       "  <tbody>\n",
       "    <tr>\n",
       "      <th>0</th>\n",
       "      <td>TFfnlr07_001_002_003_004_005_006</td>\n",
       "      <td>5</td>\n",
       "      <td>A01</td>\n",
       "      <td>ATF2</td>\n",
       "      <td>ATF2-1</td>\n",
       "      <td>101414</td>\n",
       "      <td>ATF2</td>\n",
       "      <td>54731</td>\n",
       "      <td>tf_isoform_ppis</td>\n",
       "      <td>2</td>\n",
       "      <td>4</td>\n",
       "      <td>0</td>\n",
       "      <td>4</td>\n",
       "      <td>True</td>\n",
       "      <td>True</td>\n",
       "      <td>True</td>\n",
       "      <td>ATF2|1/6|12H04</td>\n",
       "    </tr>\n",
       "    <tr>\n",
       "      <th>1</th>\n",
       "      <td>TFfnlr07_001_002_003_004_005_006</td>\n",
       "      <td>5</td>\n",
       "      <td>A02</td>\n",
       "      <td>ATF2</td>\n",
       "      <td>ATF2-1</td>\n",
       "      <td>101414</td>\n",
       "      <td>COL8A1</td>\n",
       "      <td>3053</td>\n",
       "      <td>tf_paralog_ppis</td>\n",
       "      <td>0</td>\n",
       "      <td>4</td>\n",
       "      <td>0</td>\n",
       "      <td>4</td>\n",
       "      <td>False</td>\n",
       "      <td>NaN</td>\n",
       "      <td>True</td>\n",
       "      <td>ATF2|1/6|12H04</td>\n",
       "    </tr>\n",
       "    <tr>\n",
       "      <th>2</th>\n",
       "      <td>TFfnlr07_001_002_003_004_005_006</td>\n",
       "      <td>5</td>\n",
       "      <td>A03</td>\n",
       "      <td>ATF2</td>\n",
       "      <td>ATF2-1</td>\n",
       "      <td>101414</td>\n",
       "      <td>EFEMP2</td>\n",
       "      <td>2906</td>\n",
       "      <td>tf_paralog_ppis</td>\n",
       "      <td>0</td>\n",
       "      <td>4</td>\n",
       "      <td>0</td>\n",
       "      <td>4</td>\n",
       "      <td>False</td>\n",
       "      <td>NaN</td>\n",
       "      <td>True</td>\n",
       "      <td>ATF2|1/6|12H04</td>\n",
       "    </tr>\n",
       "    <tr>\n",
       "      <th>3</th>\n",
       "      <td>TFfnlr07_001_002_003_004_005_006</td>\n",
       "      <td>5</td>\n",
       "      <td>A04</td>\n",
       "      <td>ATF2</td>\n",
       "      <td>ATF2-1</td>\n",
       "      <td>101414</td>\n",
       "      <td>FOSL2</td>\n",
       "      <td>12504</td>\n",
       "      <td>tf_isoform_ppis</td>\n",
       "      <td>2</td>\n",
       "      <td>4</td>\n",
       "      <td>0</td>\n",
       "      <td>4</td>\n",
       "      <td>NaN</td>\n",
       "      <td>False</td>\n",
       "      <td>True</td>\n",
       "      <td>ATF2|1/6|12H04</td>\n",
       "    </tr>\n",
       "    <tr>\n",
       "      <th>4</th>\n",
       "      <td>TFfnlr07_001_002_003_004_005_006</td>\n",
       "      <td>5</td>\n",
       "      <td>A05</td>\n",
       "      <td>ATF2</td>\n",
       "      <td>ATF2-1</td>\n",
       "      <td>101414</td>\n",
       "      <td>JDP2</td>\n",
       "      <td>13624</td>\n",
       "      <td>tf_isoform_ppis</td>\n",
       "      <td>2</td>\n",
       "      <td>4</td>\n",
       "      <td>0</td>\n",
       "      <td>4</td>\n",
       "      <td>True</td>\n",
       "      <td>True</td>\n",
       "      <td>True</td>\n",
       "      <td>ATF2|1/6|12H04</td>\n",
       "    </tr>\n",
       "  </tbody>\n",
       "</table>\n",
       "</div>"
      ],
      "text/plain": [
       "                   large_plate_name  retest_pla retest_pos ad_gene_symbol  \\\n",
       "0  TFfnlr07_001_002_003_004_005_006           5        A01           ATF2   \n",
       "1  TFfnlr07_001_002_003_004_005_006           5        A02           ATF2   \n",
       "2  TFfnlr07_001_002_003_004_005_006           5        A03           ATF2   \n",
       "3  TFfnlr07_001_002_003_004_005_006           5        A04           ATF2   \n",
       "4  TFfnlr07_001_002_003_004_005_006           5        A05           ATF2   \n",
       "\n",
       "  ad_clone_name  ad_orf_id db_gene_symbol  db_orf_id         category 3AT LW  \\\n",
       "0        ATF2-1     101414           ATF2      54731  tf_isoform_ppis   2  4   \n",
       "1        ATF2-1     101414         COL8A1       3053  tf_paralog_ppis   0  4   \n",
       "2        ATF2-1     101414         EFEMP2       2906  tf_paralog_ppis   0  4   \n",
       "3        ATF2-1     101414          FOSL2      12504  tf_isoform_ppis   2  4   \n",
       "4        ATF2-1     101414           JDP2      13624  tf_isoform_ppis   2  4   \n",
       "\n",
       "  empty_AD_3AT empty_AD_LW Y2H_result seq_confirmation_3AT  \\\n",
       "0            0           4       True                 True   \n",
       "1            0           4      False                  NaN   \n",
       "2            0           4      False                  NaN   \n",
       "3            0           4        NaN                False   \n",
       "4            0           4       True                 True   \n",
       "\n",
       "   seq_confirmation_LW    ad_clone_acc  \n",
       "0                 True  ATF2|1/6|12H04  \n",
       "1                 True  ATF2|1/6|12H04  \n",
       "2                 True  ATF2|1/6|12H04  \n",
       "3                 True  ATF2|1/6|12H04  \n",
       "4                 True  ATF2|1/6|12H04  "
      ]
     },
     "execution_count": 148,
     "metadata": {},
     "output_type": "execute_result"
    }
   ],
   "source": [
    "supp_y2h = load_full_y2h_data_including_controls()\n",
    "supp_y2h.head()"
   ]
  },
  {
   "cell_type": "code",
   "execution_count": 151,
   "metadata": {},
   "outputs": [
    {
     "name": "stdout",
     "output_type": "stream",
     "text": [
      "NUM ISOS IN SUPP Y2H FILE: 306\n",
      "NUM GENES IN SUPP Y2H FILE: 105\n",
      "NUM PARTNERS IN SUPP Y2H FILE: 753\n"
     ]
    },
    {
     "data": {
      "text/html": [
       "<div>\n",
       "<style scoped>\n",
       "    .dataframe tbody tr th:only-of-type {\n",
       "        vertical-align: middle;\n",
       "    }\n",
       "\n",
       "    .dataframe tbody tr th {\n",
       "        vertical-align: top;\n",
       "    }\n",
       "\n",
       "    .dataframe thead th {\n",
       "        text-align: right;\n",
       "    }\n",
       "</style>\n",
       "<table border=\"1\" class=\"dataframe\">\n",
       "  <thead>\n",
       "    <tr style=\"text-align: right;\">\n",
       "      <th></th>\n",
       "      <th>ad_clone_id</th>\n",
       "      <th>ad_gene_symbol</th>\n",
       "      <th>ad_orf_id</th>\n",
       "      <th>db_gene_symbol</th>\n",
       "      <th>db_orf_id</th>\n",
       "      <th>Y2H_result</th>\n",
       "    </tr>\n",
       "  </thead>\n",
       "  <tbody>\n",
       "    <tr>\n",
       "      <th>0</th>\n",
       "      <td>ATF2-1</td>\n",
       "      <td>ATF2</td>\n",
       "      <td>101414</td>\n",
       "      <td>ATF2</td>\n",
       "      <td>54731</td>\n",
       "      <td>True</td>\n",
       "    </tr>\n",
       "    <tr>\n",
       "      <th>1</th>\n",
       "      <td>ATF2-1</td>\n",
       "      <td>ATF2</td>\n",
       "      <td>101414</td>\n",
       "      <td>COL8A1</td>\n",
       "      <td>3053</td>\n",
       "      <td>False</td>\n",
       "    </tr>\n",
       "    <tr>\n",
       "      <th>2</th>\n",
       "      <td>ATF2-1</td>\n",
       "      <td>ATF2</td>\n",
       "      <td>101414</td>\n",
       "      <td>EFEMP2</td>\n",
       "      <td>2906</td>\n",
       "      <td>False</td>\n",
       "    </tr>\n",
       "    <tr>\n",
       "      <th>3</th>\n",
       "      <td>ATF2-1</td>\n",
       "      <td>ATF2</td>\n",
       "      <td>101414</td>\n",
       "      <td>FOSL2</td>\n",
       "      <td>12504</td>\n",
       "      <td>NaN</td>\n",
       "    </tr>\n",
       "    <tr>\n",
       "      <th>4</th>\n",
       "      <td>ATF2-1</td>\n",
       "      <td>ATF2</td>\n",
       "      <td>101414</td>\n",
       "      <td>JDP2</td>\n",
       "      <td>13624</td>\n",
       "      <td>True</td>\n",
       "    </tr>\n",
       "  </tbody>\n",
       "</table>\n",
       "</div>"
      ],
      "text/plain": [
       "  ad_clone_id ad_gene_symbol  ad_orf_id db_gene_symbol  db_orf_id Y2H_result\n",
       "0      ATF2-1           ATF2     101414           ATF2      54731       True\n",
       "1      ATF2-1           ATF2     101414         COL8A1       3053      False\n",
       "2      ATF2-1           ATF2     101414         EFEMP2       2906      False\n",
       "3      ATF2-1           ATF2     101414          FOSL2      12504        NaN\n",
       "4      ATF2-1           ATF2     101414           JDP2      13624       True"
      ]
     },
     "execution_count": 151,
     "metadata": {},
     "output_type": "execute_result"
    }
   ],
   "source": [
    "# reload y2h since we loaded validation data above\n",
    "supp_y2h = load_full_y2h_data_including_controls()\n",
    "supp_y2h = supp_y2h.rename(columns={'ad_clone_name': 'ad_clone_id'})\n",
    "clones = load_valid_isoform_clones(include_single_isoform_genes=True)\n",
    "supp_y2h = supp_y2h.loc[\n",
    "    ~supp_y2h[\"category\"].isin([\"lit_bm_isoforms\", \"rrs_isoforms\"])\n",
    "    & supp_y2h['ad_clone_acc'].isin(clones[\"clone_acc\"].values),\n",
    "    [\n",
    "     'ad_clone_id',\n",
    "     'ad_gene_symbol',\n",
    "     'ad_orf_id',\n",
    "     'db_gene_symbol',\n",
    "     'db_orf_id',\n",
    "     'Y2H_result',\n",
    "     ]\n",
    "]\n",
    "print(\"NUM ISOS IN SUPP Y2H FILE: %s\" % (len(supp_y2h[\"ad_clone_id\"].unique())))\n",
    "print(\"NUM GENES IN SUPP Y2H FILE: %s\" % (len(supp_y2h['ad_gene_symbol'].unique())))\n",
    "print(\"NUM PARTNERS IN SUPP Y2H FILE: %s\" % len(supp_y2h['db_gene_symbol'].unique()))\n",
    "supp_y2h.head()"
   ]
  },
  {
   "cell_type": "code",
   "execution_count": 152,
   "metadata": {},
   "outputs": [
    {
     "name": "stdout",
     "output_type": "stream",
     "text": [
      "reading from cache\n",
      "reading from cache\n"
     ]
    },
    {
     "data": {
      "text/html": [
       "<div>\n",
       "<style scoped>\n",
       "    .dataframe tbody tr th:only-of-type {\n",
       "        vertical-align: middle;\n",
       "    }\n",
       "\n",
       "    .dataframe tbody tr th {\n",
       "        vertical-align: top;\n",
       "    }\n",
       "\n",
       "    .dataframe thead th {\n",
       "        text-align: right;\n",
       "    }\n",
       "</style>\n",
       "<table border=\"1\" class=\"dataframe\">\n",
       "  <thead>\n",
       "    <tr style=\"text-align: right;\">\n",
       "      <th></th>\n",
       "      <th>ad_clone_id</th>\n",
       "      <th>ad_gene_symbol</th>\n",
       "      <th>ad_orf_id</th>\n",
       "      <th>db_gene_symbol</th>\n",
       "      <th>db_orf_id</th>\n",
       "      <th>Y2H_result</th>\n",
       "      <th>db_gene_category</th>\n",
       "      <th>db_gene_cofactor_type</th>\n",
       "    </tr>\n",
       "  </thead>\n",
       "  <tbody>\n",
       "  </tbody>\n",
       "</table>\n",
       "</div>"
      ],
      "text/plain": [
       "Empty DataFrame\n",
       "Columns: [ad_clone_id, ad_gene_symbol, ad_orf_id, db_gene_symbol, db_orf_id, Y2H_result, db_gene_category, db_gene_cofactor_type]\n",
       "Index: []"
      ]
     },
     "execution_count": 152,
     "metadata": {},
     "output_type": "execute_result"
    }
   ],
   "source": [
    "# add the categories\n",
    "cats = load_ppi_partner_categories()\n",
    "cats.columns = [\"db_gene_symbol\", \"db_gene_category\", \"db_gene_cofactor_type\"]\n",
    "supp_y2h = supp_y2h.merge(cats, on=\"db_gene_symbol\", how=\"left\")\n",
    "supp_y2h[pd.isnull(supp_y2h[\"db_gene_category\"])]"
   ]
  },
  {
   "cell_type": "code",
   "execution_count": 153,
   "metadata": {},
   "outputs": [
    {
     "data": {
      "text/html": [
       "<div>\n",
       "<style scoped>\n",
       "    .dataframe tbody tr th:only-of-type {\n",
       "        vertical-align: middle;\n",
       "    }\n",
       "\n",
       "    .dataframe tbody tr th {\n",
       "        vertical-align: top;\n",
       "    }\n",
       "\n",
       "    .dataframe thead th {\n",
       "        text-align: right;\n",
       "    }\n",
       "</style>\n",
       "<table border=\"1\" class=\"dataframe\">\n",
       "  <thead>\n",
       "    <tr style=\"text-align: right;\">\n",
       "      <th></th>\n",
       "      <th>ad_clone_id</th>\n",
       "      <th>ad_gene_symbol</th>\n",
       "      <th>ad_orf_id</th>\n",
       "      <th>db_gene_symbol</th>\n",
       "      <th>db_orf_id</th>\n",
       "      <th>Y2H_result</th>\n",
       "      <th>db_gene_category</th>\n",
       "      <th>db_gene_cofactor_type</th>\n",
       "    </tr>\n",
       "  </thead>\n",
       "  <tbody>\n",
       "    <tr>\n",
       "      <th>3285</th>\n",
       "      <td>HNF4A-4</td>\n",
       "      <td>HNF4A</td>\n",
       "      <td>100122</td>\n",
       "      <td>PACRGL</td>\n",
       "      <td>8148</td>\n",
       "      <td>False</td>\n",
       "      <td>other</td>\n",
       "      <td>NaN</td>\n",
       "    </tr>\n",
       "    <tr>\n",
       "      <th>5738</th>\n",
       "      <td>TCF4-8</td>\n",
       "      <td>TCF4</td>\n",
       "      <td>100313</td>\n",
       "      <td>TAL1</td>\n",
       "      <td>100063969</td>\n",
       "      <td>NaN</td>\n",
       "      <td>TF</td>\n",
       "      <td>NaN</td>\n",
       "    </tr>\n",
       "    <tr>\n",
       "      <th>4725</th>\n",
       "      <td>MAX-3</td>\n",
       "      <td>MAX</td>\n",
       "      <td>100408</td>\n",
       "      <td>FBXL6</td>\n",
       "      <td>13520</td>\n",
       "      <td>False</td>\n",
       "      <td>other</td>\n",
       "      <td>NaN</td>\n",
       "    </tr>\n",
       "    <tr>\n",
       "      <th>5113</th>\n",
       "      <td>NFIX-2</td>\n",
       "      <td>NFIX</td>\n",
       "      <td>101227</td>\n",
       "      <td>LMO2</td>\n",
       "      <td>1136</td>\n",
       "      <td>False</td>\n",
       "      <td>cofactor</td>\n",
       "      <td>coactivator</td>\n",
       "    </tr>\n",
       "    <tr>\n",
       "      <th>2731</th>\n",
       "      <td>MEIS3-4</td>\n",
       "      <td>MEIS3</td>\n",
       "      <td>100768</td>\n",
       "      <td>DMRT3</td>\n",
       "      <td>53860</td>\n",
       "      <td>False</td>\n",
       "      <td>TF</td>\n",
       "      <td>NaN</td>\n",
       "    </tr>\n",
       "  </tbody>\n",
       "</table>\n",
       "</div>"
      ],
      "text/plain": [
       "     ad_clone_id ad_gene_symbol  ad_orf_id db_gene_symbol  db_orf_id  \\\n",
       "3285     HNF4A-4          HNF4A     100122         PACRGL       8148   \n",
       "5738      TCF4-8           TCF4     100313           TAL1  100063969   \n",
       "4725       MAX-3            MAX     100408          FBXL6      13520   \n",
       "5113      NFIX-2           NFIX     101227           LMO2       1136   \n",
       "2731     MEIS3-4          MEIS3     100768          DMRT3      53860   \n",
       "\n",
       "     Y2H_result db_gene_category db_gene_cofactor_type  \n",
       "3285      False            other                   NaN  \n",
       "5738        NaN               TF                   NaN  \n",
       "4725      False            other                   NaN  \n",
       "5113      False         cofactor           coactivator  \n",
       "2731      False               TF                   NaN  "
      ]
     },
     "execution_count": 153,
     "metadata": {},
     "output_type": "execute_result"
    }
   ],
   "source": [
    "supp_y2h.sample(5)"
   ]
  },
  {
   "cell_type": "code",
   "execution_count": 140,
   "metadata": {},
   "outputs": [
    {
     "data": {
      "text/plain": [
       "other        3602\n",
       "TF           2794\n",
       "signaling    1936\n",
       "cofactor     1230\n",
       "Name: db_gene_category, dtype: int64"
      ]
     },
     "execution_count": 140,
     "metadata": {},
     "output_type": "execute_result"
    }
   ],
   "source": [
    "supp_y2h.db_gene_category.value_counts()"
   ]
  },
  {
   "cell_type": "code",
   "execution_count": 141,
   "metadata": {},
   "outputs": [
    {
     "data": {
      "text/plain": [
       "unknown        811\n",
       "corepressor    170\n",
       "coactivator    168\n",
       "both            81\n",
       "Name: db_gene_cofactor_type, dtype: int64"
      ]
     },
     "execution_count": 141,
     "metadata": {},
     "output_type": "execute_result"
    }
   ],
   "source": [
    "supp_y2h.db_gene_cofactor_type.value_counts()"
   ]
  },
  {
   "cell_type": "code",
   "execution_count": 154,
   "metadata": {},
   "outputs": [],
   "source": [
    "supp_y2h.to_csv(\"../../supp/SuppTable_PairwiseY2HResults.txt\", index=False, sep=\"\\t\")"
   ]
  },
  {
   "cell_type": "markdown",
   "metadata": {},
   "source": [
    "### M1H results"
   ]
  },
  {
   "cell_type": "code",
   "execution_count": 143,
   "metadata": {},
   "outputs": [
    {
     "name": "stdout",
     "output_type": "stream",
     "text": [
      "NUM ISOS IN SUPP M1H FILE: 580\n",
      "NUM GENES IN SUPP M1H FILE: 224\n"
     ]
    },
    {
     "data": {
      "text/html": [
       "<div>\n",
       "<style scoped>\n",
       "    .dataframe tbody tr th:only-of-type {\n",
       "        vertical-align: middle;\n",
       "    }\n",
       "\n",
       "    .dataframe tbody tr th {\n",
       "        vertical-align: top;\n",
       "    }\n",
       "\n",
       "    .dataframe thead th {\n",
       "        text-align: right;\n",
       "    }\n",
       "</style>\n",
       "<table border=\"1\" class=\"dataframe\">\n",
       "  <thead>\n",
       "    <tr style=\"text-align: right;\">\n",
       "      <th></th>\n",
       "      <th>clone_id</th>\n",
       "      <th>gene_symbol</th>\n",
       "      <th>M1H_rep1</th>\n",
       "      <th>M1H_rep2</th>\n",
       "      <th>M1H_rep3</th>\n",
       "      <th>M1H_mean</th>\n",
       "    </tr>\n",
       "  </thead>\n",
       "  <tbody>\n",
       "    <tr>\n",
       "      <th>360</th>\n",
       "      <td>AEBP2-2</td>\n",
       "      <td>AEBP2</td>\n",
       "      <td>0.241019</td>\n",
       "      <td>0.189211</td>\n",
       "      <td>0.473661</td>\n",
       "      <td>0.301297</td>\n",
       "    </tr>\n",
       "    <tr>\n",
       "      <th>359</th>\n",
       "      <td>AEBP2-3</td>\n",
       "      <td>AEBP2</td>\n",
       "      <td>-0.276303</td>\n",
       "      <td>-0.305477</td>\n",
       "      <td>-0.121186</td>\n",
       "      <td>-0.234322</td>\n",
       "    </tr>\n",
       "    <tr>\n",
       "      <th>0</th>\n",
       "      <td>ARNT2-1</td>\n",
       "      <td>ARNT2</td>\n",
       "      <td>4.498733</td>\n",
       "      <td>4.501519</td>\n",
       "      <td>4.297244</td>\n",
       "      <td>4.432498</td>\n",
       "    </tr>\n",
       "    <tr>\n",
       "      <th>1</th>\n",
       "      <td>ARNT2-2</td>\n",
       "      <td>ARNT2</td>\n",
       "      <td>2.407721</td>\n",
       "      <td>2.407411</td>\n",
       "      <td>2.197963</td>\n",
       "      <td>2.337698</td>\n",
       "    </tr>\n",
       "    <tr>\n",
       "      <th>3</th>\n",
       "      <td>ARNTL2-2</td>\n",
       "      <td>ARNTL2</td>\n",
       "      <td>0.398027</td>\n",
       "      <td>0.391809</td>\n",
       "      <td>0.299461</td>\n",
       "      <td>0.363099</td>\n",
       "    </tr>\n",
       "  </tbody>\n",
       "</table>\n",
       "</div>"
      ],
      "text/plain": [
       "     clone_id gene_symbol  M1H_rep1  M1H_rep2  M1H_rep3  M1H_mean\n",
       "360   AEBP2-2       AEBP2  0.241019  0.189211  0.473661  0.301297\n",
       "359   AEBP2-3       AEBP2 -0.276303 -0.305477 -0.121186 -0.234322\n",
       "0     ARNT2-1       ARNT2  4.498733  4.501519  4.297244  4.432498\n",
       "1     ARNT2-2       ARNT2  2.407721  2.407411  2.197963  2.337698\n",
       "3    ARNTL2-2      ARNTL2  0.398027  0.391809  0.299461  0.363099"
      ]
     },
     "execution_count": 143,
     "metadata": {},
     "output_type": "execute_result"
    }
   ],
   "source": [
    "supp_m1h = m1h.copy()\n",
    "supp_m1h[\"clone_id\"] = supp_m1h[\"clone_acc\"].map(clone_acc_map)\n",
    "supp_m1h = supp_m1h[[\"clone_id\", \"gene_symbol\", \"M1H_rep1\", \"M1H_rep2\", \"M1H_rep3\", \"M1H_mean\"]]\n",
    "\n",
    "print(\"NUM ISOS IN SUPP M1H FILE: %s\" % (len(supp_m1h.clone_id.unique())))\n",
    "print(\"NUM GENES IN SUPP M1H FILE: %s\" % (len(supp_m1h.gene_symbol.unique())))\n",
    "supp_m1h.head()"
   ]
  },
  {
   "cell_type": "code",
   "execution_count": 144,
   "metadata": {},
   "outputs": [],
   "source": [
    "supp_m1h.to_csv(\"../../supp/SuppTable_M1HResults.txt\", index=False, sep=\"\\t\")"
   ]
  },
  {
   "cell_type": "markdown",
   "metadata": {},
   "source": [
    "### PPI validation"
   ]
  },
  {
   "cell_type": "code",
   "execution_count": 145,
   "metadata": {},
   "outputs": [],
   "source": [
    "supp_n2h = load_n2h_ppi_validation_data()\n",
    "\n",
    "supp_n2h[\"clone_id\"] = supp_n2h[\"clone_acc\"].map(clone_acc_map)\n",
    "\n",
    "\n",
    "# drop vignettes, since we don't use them\n",
    "# unless we change and use it to mention CREB5-MAPK9\n",
    "supp_n2h = supp_n2h.loc[\n",
    "    ~supp_n2h['source'].isin({'vignettes'}),\n",
    "    [\n",
    "        'clone_id', \n",
    "        'gene_symbol_tf',\n",
    "        'gene_symbol_partner',\n",
    "        'test_orf_ida',\n",
    "        'test_orf_idb',\n",
    "        'source',\n",
    "        'score_pair',\n",
    "        'score_empty-N1',\n",
    "        'score_empty-N2',\n",
    "        'log2 NLR',\n",
    "    ]\n",
    "]\n",
    "\n",
    "\n",
    "supp_n2h.to_csv(\"../../supp/SuppTable_N2HResults.txt\",\n",
    "                index=False,\n",
    "                sep=\"\\t\")"
   ]
  },
  {
   "cell_type": "markdown",
   "metadata": {},
   "source": [
    "### PDI validation"
   ]
  },
  {
   "cell_type": "code",
   "execution_count": 146,
   "metadata": {},
   "outputs": [
    {
     "name": "stdout",
     "output_type": "stream",
     "text": [
      "not found: clone: HNF1B|4/4|05E06 | bait: HS565 | orig call: no\n",
      "not found: clone: HNF4A|6/6|10F07 | bait: HS1315 | orig call: no\n",
      "not found: clone: HNF4A|6/6|10F07 | bait: HS20 | orig call: no\n",
      "not found: clone: LCOR|1/2|09G02 | bait: HS118 | orig call: no\n",
      "not found: clone: LCOR|1/2|09G02 | bait: HS586 | orig call: no\n",
      "not found: clone: SOX15|2/2|08F12 | bait: HS1181 | orig call: no\n",
      "not found: clone: SOX15|2/2|08F12 | bait: HS796 | orig call: no\n",
      "not found: clone: THRA|3/3|09B09 | bait: HS1185 | orig call: no\n",
      "not found: clone: THRA|3/3|09B09 | bait: HS204 | orig call: no\n",
      "not found: clone: HNF1B|4/4|05E06 | bait: HS863 | orig call: yes\n",
      "not found: clone: LCOR|1/2|09G02 | bait: HS1022 | orig call: yes\n",
      "not found: clone: TBX6|1/2|03G06 | bait: HS2081 | orig call: yes\n",
      "not found: clone: TBX6|1/2|03G06 | bait: HS416 | orig call: yes\n"
     ]
    }
   ],
   "source": [
    "supp_pdi_val = load_PDI_luciferase_validation_experiment()\n",
    "y1h = load_y1h_pdi_data()\n",
    "\n",
    "# update the interaction calls if needed\n",
    "new_calls = []\n",
    "for i, row in supp_pdi_val.iterrows():\n",
    "    clone = row[\"clone_acc\"]\n",
    "    bait = row[\"Bait\"]\n",
    "    orig_y1h_call = row['Interaction?']\n",
    "    \n",
    "    try:\n",
    "        updated_y1h_call = y1h[y1h['clone_acc'] == clone][bait].iloc[0]\n",
    "    except:\n",
    "        print(\"not found: clone: %s | bait: %s | orig call: %s\" % (clone, bait, orig_y1h_call))\n",
    "        updated_y1h_call = np.nan\n",
    "    new_calls.append(updated_y1h_call)\n",
    "\n",
    "supp_pdi_val[\"Y1H_result\"] = new_calls\n",
    "supp_pdi_val[\"clone_id\"] = supp_pdi_val[\"clone_acc\"].map(clone_acc_map)\n",
    "supp_pdi_val = supp_pdi_val.loc[pd.notnull(supp_pdi_val['Y1H_result']), \n",
    "    [\n",
    "        \"gene_symbol\",\n",
    "        \"clone_id\",\n",
    "        \"Bait\",\n",
    "        \"Y1H_result\",\n",
    "        'Replicate1', \n",
    "        'Replicate2',\n",
    "        'Replicate3', \n",
    "        'Average (empty-pEZY3-VP160)',\n",
    "        'Log2(FC)',\n",
    "    ]\n",
    "]\n",
    "supp_pdi_val.to_csv(\"../../supp/SuppTable_PDI_validation.txt\",\n",
    "                index=False,\n",
    "                sep=\"\\t\")\n"
   ]
  },
  {
   "cell_type": "markdown",
   "metadata": {},
   "source": [
    "### Pfam domains considered DNA binding"
   ]
  },
  {
   "cell_type": "code",
   "execution_count": 147,
   "metadata": {},
   "outputs": [],
   "source": [
    "supp_dbd = load_DNA_binding_domains()\n",
    "supp_dbd.to_csv(\"../../supp/SuppTable_DBD_definition.txt\",\n",
    "                index=False,\n",
    "                sep=\"\\t\")"
   ]
  }
 ],
 "metadata": {
  "kernelspec": {
   "display_name": "venv",
   "language": "python",
   "name": "python3"
  },
  "language_info": {
   "codemirror_mode": {
    "name": "ipython",
    "version": 3
   },
   "file_extension": ".py",
   "mimetype": "text/x-python",
   "name": "python",
   "nbconvert_exporter": "python",
   "pygments_lexer": "ipython3",
   "version": "3.8.13"
  }
 },
 "nbformat": 4,
 "nbformat_minor": 2
}
