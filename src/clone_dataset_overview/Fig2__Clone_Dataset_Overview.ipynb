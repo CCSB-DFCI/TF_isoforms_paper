{
 "cells": [
  {
   "cell_type": "markdown",
   "metadata": {},
   "source": [
    "# Figure 2: Clone Dataset Overview, novel isoform expression, assay validations"
   ]
  },
  {
   "cell_type": "code",
   "execution_count": 1,
   "metadata": {},
   "outputs": [],
   "source": [
    "import matplotlib as mpl\n",
    "import met_brewer\n",
    "import pandas as pd\n",
    "import numpy as np\n",
    "import seaborn as sns\n",
    "import sys\n",
    "\n",
    "from matplotlib import pyplot as plt\n",
    "from scipy import stats\n",
    "\n",
    "# import utils\n",
    "sys.path.append(\"../\")\n",
    "\n",
    "from data_loading import (load_valid_isoform_clones,\n",
    "                          load_y2h_isoform_data,\n",
    "                          load_y1h_pdi_data,\n",
    "                          load_m1h_activation_data,\n",
    "                          load_annotated_gencode_tfs,\n",
    "                          load_annotated_TFiso1_collection,\n",
    "                          load_developmental_tissue_expression_remapped,\n",
    "                          load_gtex_remapped,\n",
    "                          load_tf_families)\n",
    "from plotting import mimic_r_boxplot"
   ]
  },
  {
   "cell_type": "code",
   "execution_count": 2,
   "metadata": {},
   "outputs": [],
   "source": [
    "PAPER_PRESET = {\"style\": \"ticks\", \"font\": \"Helvetica\", \"context\": \"paper\", \n",
    "                \"rc\": {\"font.size\":7,\"axes.titlesize\":7,\n",
    "                       \"axes.labelsize\":7, 'axes.linewidth':0.5,\n",
    "                       \"legend.fontsize\":6, \"xtick.labelsize\":6,\n",
    "                       \"ytick.labelsize\":6, \"xtick.major.size\": 3.0,\n",
    "                       \"ytick.major.size\": 3.0, \"axes.edgecolor\": \"black\",\n",
    "                       \"xtick.major.pad\": 3.0, \"ytick.major.pad\": 3.0}}\n",
    "PAPER_FONTSIZE = 7"
   ]
  },
  {
   "cell_type": "code",
   "execution_count": 3,
   "metadata": {},
   "outputs": [],
   "source": [
    "sns.set(**PAPER_PRESET)\n",
    "fontsize = PAPER_FONTSIZE"
   ]
  },
  {
   "cell_type": "code",
   "execution_count": 4,
   "metadata": {},
   "outputs": [],
   "source": [
    "np.random.seed(2023)"
   ]
  },
  {
   "cell_type": "markdown",
   "metadata": {},
   "source": [
    "## 1. load clone collection, gencode TFs"
   ]
  },
  {
   "cell_type": "code",
   "execution_count": 5,
   "metadata": {
    "scrolled": true
   },
   "outputs": [
    {
     "name": "stdout",
     "output_type": "stream",
     "text": [
      "reading from cache\n",
      "reading from cache\n"
     ]
    }
   ],
   "source": [
    "genc_tfs = load_annotated_gencode_tfs()\n",
    "\n",
    "clone_tfs = load_annotated_TFiso1_collection()"
   ]
  },
  {
   "cell_type": "code",
   "execution_count": 6,
   "metadata": {},
   "outputs": [
    {
     "data": {
      "text/plain": [
       "1635"
      ]
     },
     "execution_count": 6,
     "metadata": {},
     "output_type": "execute_result"
    }
   ],
   "source": [
    "len(genc_tfs)"
   ]
  },
  {
   "cell_type": "code",
   "execution_count": 7,
   "metadata": {},
   "outputs": [
    {
     "data": {
      "text/plain": [
       "309"
      ]
     },
     "execution_count": 7,
     "metadata": {},
     "output_type": "execute_result"
    }
   ],
   "source": [
    "len(clone_tfs)"
   ]
  },
  {
   "cell_type": "markdown",
   "metadata": {},
   "source": [
    "## 2. count number of splicing categories across gencode and cloned TFs"
   ]
  },
  {
   "cell_type": "code",
   "execution_count": 8,
   "metadata": {},
   "outputs": [],
   "source": [
    "def count_splicing_types(tfs, index):\n",
    "    \n",
    "    alt_n = 0\n",
    "    alt_c = 0\n",
    "    alt_int = 0\n",
    "    alt_5ss = 0\n",
    "    alt_3ss = 0\n",
    "    exon_sk = 0\n",
    "    mut_ex = 0\n",
    "    intron_ret = 0\n",
    "    tot = 0\n",
    "\n",
    "    for tf in tfs.keys():\n",
    "        gene = tfs[tf]\n",
    "        if index == \"gencode\":\n",
    "            ref = gene.reference_isoform.name\n",
    "            alts = [x.name for x in gene.alternative_isoforms]\n",
    "        elif index == \"TFIso1.0\":\n",
    "            ref = gene.cloned_reference_isoform.name\n",
    "            alts = [x.name for x in gene.cloned_isoforms if x.name != ref]\n",
    "        elif index == \"TFIso1.0 - novel\":\n",
    "            ref = gene.cloned_reference_isoform.name\n",
    "            alts = [x.name for x in gene.cloned_isoforms if x.is_novel_isoform()]\n",
    "        for alt in alts:\n",
    "            splicing_cats = gene.splicing_categories(ref, alt)\n",
    "\n",
    "            if splicing_cats['alternative N-terminal']:\n",
    "                alt_n += 1\n",
    "            if splicing_cats['alternative C-terminal']:\n",
    "                alt_c += 1\n",
    "            if splicing_cats['alternative internal exon']:\n",
    "                alt_int += 1\n",
    "            if splicing_cats['alternative 5\\' splice site']:\n",
    "                alt_5ss += 1\n",
    "            if splicing_cats['alternative 3\\' splice site']:\n",
    "                alt_3ss += 1\n",
    "            if splicing_cats['exon skipping']:\n",
    "                exon_sk += 1\n",
    "            if splicing_cats['mutually exclusive exons']:\n",
    "                mut_ex += 1\n",
    "            if splicing_cats['intron retention']:\n",
    "                intron_ret += 1\n",
    "\n",
    "            tot += 1\n",
    "\n",
    "    df = pd.DataFrame.from_dict({\"alt. N-terminal\": [alt_n], \"alt. C-terminal\": [alt_c],\n",
    "                                      \"alt. internal exon\": [alt_int], \"alt. 5' splice site\": [alt_5ss],\n",
    "                                      \"alt. 3' splice site\": [alt_3ss], \"exon skipping\": [exon_sk],\n",
    "                                      \"mutually exclusive exons\": [mut_ex], \"intron retention\": [intron_ret],\n",
    "                                      \"total\": tot})\n",
    "    df.index = [index]\n",
    "    return df"
   ]
  },
  {
   "cell_type": "code",
   "execution_count": 9,
   "metadata": {},
   "outputs": [
    {
     "data": {
      "text/html": [
       "<div>\n",
       "<style scoped>\n",
       "    .dataframe tbody tr th:only-of-type {\n",
       "        vertical-align: middle;\n",
       "    }\n",
       "\n",
       "    .dataframe tbody tr th {\n",
       "        vertical-align: top;\n",
       "    }\n",
       "\n",
       "    .dataframe thead th {\n",
       "        text-align: right;\n",
       "    }\n",
       "</style>\n",
       "<table border=\"1\" class=\"dataframe\">\n",
       "  <thead>\n",
       "    <tr style=\"text-align: right;\">\n",
       "      <th></th>\n",
       "      <th>alt. N-terminal</th>\n",
       "      <th>alt. C-terminal</th>\n",
       "      <th>alt. internal exon</th>\n",
       "      <th>alt. 5' splice site</th>\n",
       "      <th>alt. 3' splice site</th>\n",
       "      <th>exon skipping</th>\n",
       "      <th>mutually exclusive exons</th>\n",
       "      <th>intron retention</th>\n",
       "      <th>total</th>\n",
       "    </tr>\n",
       "  </thead>\n",
       "  <tbody>\n",
       "    <tr>\n",
       "      <th>gencode</th>\n",
       "      <td>1046</td>\n",
       "      <td>1071</td>\n",
       "      <td>430</td>\n",
       "      <td>686</td>\n",
       "      <td>879</td>\n",
       "      <td>330</td>\n",
       "      <td>26</td>\n",
       "      <td>72</td>\n",
       "      <td>1855</td>\n",
       "    </tr>\n",
       "  </tbody>\n",
       "</table>\n",
       "</div>"
      ],
      "text/plain": [
       "         alt. N-terminal  alt. C-terminal  alt. internal exon  \\\n",
       "gencode             1046             1071                 430   \n",
       "\n",
       "         alt. 5' splice site  alt. 3' splice site  exon skipping  \\\n",
       "gencode                  686                  879            330   \n",
       "\n",
       "         mutually exclusive exons  intron retention  total  \n",
       "gencode                        26                72   1855  "
      ]
     },
     "execution_count": 9,
     "metadata": {},
     "output_type": "execute_result"
    }
   ],
   "source": [
    "genc_df = count_splicing_types(genc_tfs, \"gencode\")\n",
    "genc_df"
   ]
  },
  {
   "cell_type": "code",
   "execution_count": 10,
   "metadata": {},
   "outputs": [
    {
     "data": {
      "text/html": [
       "<div>\n",
       "<style scoped>\n",
       "    .dataframe tbody tr th:only-of-type {\n",
       "        vertical-align: middle;\n",
       "    }\n",
       "\n",
       "    .dataframe tbody tr th {\n",
       "        vertical-align: top;\n",
       "    }\n",
       "\n",
       "    .dataframe thead th {\n",
       "        text-align: right;\n",
       "    }\n",
       "</style>\n",
       "<table border=\"1\" class=\"dataframe\">\n",
       "  <thead>\n",
       "    <tr style=\"text-align: right;\">\n",
       "      <th></th>\n",
       "      <th>alt. N-terminal</th>\n",
       "      <th>alt. C-terminal</th>\n",
       "      <th>alt. internal exon</th>\n",
       "      <th>alt. 5' splice site</th>\n",
       "      <th>alt. 3' splice site</th>\n",
       "      <th>exon skipping</th>\n",
       "      <th>mutually exclusive exons</th>\n",
       "      <th>intron retention</th>\n",
       "      <th>total</th>\n",
       "    </tr>\n",
       "  </thead>\n",
       "  <tbody>\n",
       "    <tr>\n",
       "      <th>TFIso1.0</th>\n",
       "      <td>169</td>\n",
       "      <td>198</td>\n",
       "      <td>136</td>\n",
       "      <td>179</td>\n",
       "      <td>218</td>\n",
       "      <td>116</td>\n",
       "      <td>5</td>\n",
       "      <td>14</td>\n",
       "      <td>447</td>\n",
       "    </tr>\n",
       "  </tbody>\n",
       "</table>\n",
       "</div>"
      ],
      "text/plain": [
       "          alt. N-terminal  alt. C-terminal  alt. internal exon  \\\n",
       "TFIso1.0              169              198                 136   \n",
       "\n",
       "          alt. 5' splice site  alt. 3' splice site  exon skipping  \\\n",
       "TFIso1.0                  179                  218            116   \n",
       "\n",
       "          mutually exclusive exons  intron retention  total  \n",
       "TFIso1.0                         5                14    447  "
      ]
     },
     "execution_count": 10,
     "metadata": {},
     "output_type": "execute_result"
    }
   ],
   "source": [
    "clone_df = count_splicing_types(clone_tfs, \"TFIso1.0\")\n",
    "clone_df"
   ]
  },
  {
   "cell_type": "code",
   "execution_count": 11,
   "metadata": {},
   "outputs": [
    {
     "data": {
      "text/html": [
       "<div>\n",
       "<style scoped>\n",
       "    .dataframe tbody tr th:only-of-type {\n",
       "        vertical-align: middle;\n",
       "    }\n",
       "\n",
       "    .dataframe tbody tr th {\n",
       "        vertical-align: top;\n",
       "    }\n",
       "\n",
       "    .dataframe thead th {\n",
       "        text-align: right;\n",
       "    }\n",
       "</style>\n",
       "<table border=\"1\" class=\"dataframe\">\n",
       "  <thead>\n",
       "    <tr style=\"text-align: right;\">\n",
       "      <th></th>\n",
       "      <th>alt. N-terminal</th>\n",
       "      <th>alt. C-terminal</th>\n",
       "      <th>alt. internal exon</th>\n",
       "      <th>alt. 5' splice site</th>\n",
       "      <th>alt. 3' splice site</th>\n",
       "      <th>exon skipping</th>\n",
       "      <th>mutually exclusive exons</th>\n",
       "      <th>intron retention</th>\n",
       "      <th>total</th>\n",
       "    </tr>\n",
       "  </thead>\n",
       "  <tbody>\n",
       "    <tr>\n",
       "      <th>TFIso1.0 - novel</th>\n",
       "      <td>47</td>\n",
       "      <td>70</td>\n",
       "      <td>81</td>\n",
       "      <td>71</td>\n",
       "      <td>103</td>\n",
       "      <td>69</td>\n",
       "      <td>4</td>\n",
       "      <td>7</td>\n",
       "      <td>191</td>\n",
       "    </tr>\n",
       "  </tbody>\n",
       "</table>\n",
       "</div>"
      ],
      "text/plain": [
       "                  alt. N-terminal  alt. C-terminal  alt. internal exon  \\\n",
       "TFIso1.0 - novel               47               70                  81   \n",
       "\n",
       "                  alt. 5' splice site  alt. 3' splice site  exon skipping  \\\n",
       "TFIso1.0 - novel                   71                  103             69   \n",
       "\n",
       "                  mutually exclusive exons  intron retention  total  \n",
       "TFIso1.0 - novel                         4                 7    191  "
      ]
     },
     "execution_count": 11,
     "metadata": {},
     "output_type": "execute_result"
    }
   ],
   "source": [
    "novel_df = count_splicing_types(clone_tfs, \"TFIso1.0 - novel\")\n",
    "novel_df"
   ]
  },
  {
   "cell_type": "code",
   "execution_count": 12,
   "metadata": {},
   "outputs": [
    {
     "data": {
      "text/html": [
       "<div>\n",
       "<style scoped>\n",
       "    .dataframe tbody tr th:only-of-type {\n",
       "        vertical-align: middle;\n",
       "    }\n",
       "\n",
       "    .dataframe tbody tr th {\n",
       "        vertical-align: top;\n",
       "    }\n",
       "\n",
       "    .dataframe thead th {\n",
       "        text-align: right;\n",
       "    }\n",
       "</style>\n",
       "<table border=\"1\" class=\"dataframe\">\n",
       "  <thead>\n",
       "    <tr style=\"text-align: right;\">\n",
       "      <th></th>\n",
       "      <th>index</th>\n",
       "      <th>alt. N-terminal</th>\n",
       "      <th>alt. C-terminal</th>\n",
       "      <th>alt. internal exon</th>\n",
       "      <th>alt. 5' splice site</th>\n",
       "      <th>alt. 3' splice site</th>\n",
       "      <th>exon skipping</th>\n",
       "      <th>mutually exclusive exons</th>\n",
       "      <th>intron retention</th>\n",
       "    </tr>\n",
       "  </thead>\n",
       "  <tbody>\n",
       "    <tr>\n",
       "      <th>0</th>\n",
       "      <td>gencode</td>\n",
       "      <td>0.563881</td>\n",
       "      <td>0.577358</td>\n",
       "      <td>0.231806</td>\n",
       "      <td>0.369811</td>\n",
       "      <td>0.473854</td>\n",
       "      <td>0.177898</td>\n",
       "      <td>0.014016</td>\n",
       "      <td>0.038814</td>\n",
       "    </tr>\n",
       "    <tr>\n",
       "      <th>1</th>\n",
       "      <td>TFIso1.0</td>\n",
       "      <td>0.378076</td>\n",
       "      <td>0.442953</td>\n",
       "      <td>0.304251</td>\n",
       "      <td>0.400447</td>\n",
       "      <td>0.487696</td>\n",
       "      <td>0.259508</td>\n",
       "      <td>0.011186</td>\n",
       "      <td>0.031320</td>\n",
       "    </tr>\n",
       "    <tr>\n",
       "      <th>2</th>\n",
       "      <td>TFIso1.0 - novel</td>\n",
       "      <td>0.246073</td>\n",
       "      <td>0.366492</td>\n",
       "      <td>0.424084</td>\n",
       "      <td>0.371728</td>\n",
       "      <td>0.539267</td>\n",
       "      <td>0.361257</td>\n",
       "      <td>0.020942</td>\n",
       "      <td>0.036649</td>\n",
       "    </tr>\n",
       "  </tbody>\n",
       "</table>\n",
       "</div>"
      ],
      "text/plain": [
       "              index  alt. N-terminal  alt. C-terminal  alt. internal exon  \\\n",
       "0           gencode         0.563881         0.577358            0.231806   \n",
       "1          TFIso1.0         0.378076         0.442953            0.304251   \n",
       "2  TFIso1.0 - novel         0.246073         0.366492            0.424084   \n",
       "\n",
       "   alt. 5' splice site  alt. 3' splice site  exon skipping  \\\n",
       "0             0.369811             0.473854       0.177898   \n",
       "1             0.400447             0.487696       0.259508   \n",
       "2             0.371728             0.539267       0.361257   \n",
       "\n",
       "   mutually exclusive exons  intron retention  \n",
       "0                  0.014016          0.038814  \n",
       "1                  0.011186          0.031320  \n",
       "2                  0.020942          0.036649  "
      ]
     },
     "execution_count": 12,
     "metadata": {},
     "output_type": "execute_result"
    }
   ],
   "source": [
    "splicing = genc_df.append(clone_df).append(novel_df)\n",
    "splicing_tot = splicing[\"total\"]\n",
    "splicing = splicing.drop(\"total\", axis=1)\n",
    "splicing_perc = splicing.divide(splicing_tot, axis='rows').reset_index()\n",
    "splicing_perc"
   ]
  },
  {
   "cell_type": "code",
   "execution_count": 13,
   "metadata": {},
   "outputs": [],
   "source": [
    "splicing_perc_melt = pd.melt(splicing_perc, id_vars=\"index\")"
   ]
  },
  {
   "cell_type": "code",
   "execution_count": 14,
   "metadata": {},
   "outputs": [
    {
     "data": {
      "image/png": "[encoded data removed]",
      "text/plain": [
       "<Figure size 576x72 with 1 Axes>"
      ]
     },
     "metadata": {},
     "output_type": "display_data"
    }
   ],
   "source": [
    "colors = met_brewer.met_brew(name=\"VanGogh2\")\n",
    "sns.palplot(colors)"
   ]
  },
  {
   "cell_type": "code",
   "execution_count": 15,
   "metadata": {},
   "outputs": [
    {
     "data": {
      "image/png": "[encoded data removed]",
      "text/plain": [
       "<Figure size 230.4x126 with 1 Axes>"
      ]
     },
     "metadata": {},
     "output_type": "display_data"
    }
   ],
   "source": [
    "fig = plt.figure(figsize=(3.2, 1.75))\n",
    "\n",
    "ax = sns.barplot(data=splicing_perc_melt, x=\"variable\", y=\"value\", hue=\"index\", palette={\"gencode\": colors[2],\n",
    "                                                                                         \"TFIso1.0\": colors[4],\n",
    "                                                                                         \"TFIso1.0 - novel\": colors[7]})\n",
    "ax.set_xlabel(\"\")\n",
    "ax.set_xticklabels(list(splicing_perc_melt[\"variable\"].unique()), ha=\"right\", va=\"top\", rotation=30)\n",
    "ax.set_ylabel(\"% of alternative isoforms\")\n",
    "\n",
    "plt.legend(loc=2, bbox_to_anchor=(1.01, 1))\n",
    "\n",
    "fig.savefig(\"../../figures/fig2/splicing_cats.pdf\", dpi=\"figure\", bbox_inches=\"tight\")"
   ]
  },
  {
   "cell_type": "markdown",
   "metadata": {},
   "source": [
    "## 3. expression of novel isoforms compared to annotated ref/alt\n",
    "\n",
    "using the same dummy, downsampled data as in fig1 for consistency"
   ]
  },
  {
   "cell_type": "code",
   "execution_count": 16,
   "metadata": {},
   "outputs": [
    {
     "data": {
      "text/html": [
       "<div>\n",
       "<style scoped>\n",
       "    .dataframe tbody tr th:only-of-type {\n",
       "        vertical-align: middle;\n",
       "    }\n",
       "\n",
       "    .dataframe tbody tr th {\n",
       "        vertical-align: top;\n",
       "    }\n",
       "\n",
       "    .dataframe thead th {\n",
       "        text-align: right;\n",
       "    }\n",
       "</style>\n",
       "<table border=\"1\" class=\"dataframe\">\n",
       "  <thead>\n",
       "    <tr style=\"text-align: right;\">\n",
       "      <th></th>\n",
       "      <th>gene_name</th>\n",
       "      <th>status</th>\n",
       "    </tr>\n",
       "  </thead>\n",
       "  <tbody>\n",
       "    <tr>\n",
       "      <th>ZBTB18|1/2|04E08</th>\n",
       "      <td>ZBTB18</td>\n",
       "      <td>ref</td>\n",
       "    </tr>\n",
       "    <tr>\n",
       "      <th>ZBTB18|2/2|12E05</th>\n",
       "      <td>ZBTB18</td>\n",
       "      <td>alt</td>\n",
       "    </tr>\n",
       "    <tr>\n",
       "      <th>PRRX1|1/3|09C07</th>\n",
       "      <td>PRRX1</td>\n",
       "      <td>alt</td>\n",
       "    </tr>\n",
       "    <tr>\n",
       "      <th>PRRX1|2/3|09F06</th>\n",
       "      <td>PRRX1</td>\n",
       "      <td>ref</td>\n",
       "    </tr>\n",
       "    <tr>\n",
       "      <th>PRRX1|3/3|09H08</th>\n",
       "      <td>PRRX1</td>\n",
       "      <td>alt</td>\n",
       "    </tr>\n",
       "    <tr>\n",
       "      <th>...</th>\n",
       "      <td>...</td>\n",
       "      <td>...</td>\n",
       "    </tr>\n",
       "    <tr>\n",
       "      <th>HDX|2/2|09H10</th>\n",
       "      <td>HDX</td>\n",
       "      <td>novel</td>\n",
       "    </tr>\n",
       "    <tr>\n",
       "      <th>ZFY|1/2|06H10</th>\n",
       "      <td>ZFY</td>\n",
       "      <td>novel</td>\n",
       "    </tr>\n",
       "    <tr>\n",
       "      <th>ZFY|2/2|06E10</th>\n",
       "      <td>ZFY</td>\n",
       "      <td>novel</td>\n",
       "    </tr>\n",
       "    <tr>\n",
       "      <th>HSFY1|1/2|12F03</th>\n",
       "      <td>HSFY1</td>\n",
       "      <td>novel</td>\n",
       "    </tr>\n",
       "    <tr>\n",
       "      <th>HSFY1|2/2|11F06</th>\n",
       "      <td>HSFY1</td>\n",
       "      <td>novel</td>\n",
       "    </tr>\n",
       "  </tbody>\n",
       "</table>\n",
       "<p>756 rows × 2 columns</p>\n",
       "</div>"
      ],
      "text/plain": [
       "                 gene_name status\n",
       "ZBTB18|1/2|04E08    ZBTB18    ref\n",
       "ZBTB18|2/2|12E05    ZBTB18    alt\n",
       "PRRX1|1/3|09C07      PRRX1    alt\n",
       "PRRX1|2/3|09F06      PRRX1    ref\n",
       "PRRX1|3/3|09H08      PRRX1    alt\n",
       "...                    ...    ...\n",
       "HDX|2/2|09H10          HDX  novel\n",
       "ZFY|1/2|06H10          ZFY  novel\n",
       "ZFY|2/2|06E10          ZFY  novel\n",
       "HSFY1|1/2|12F03      HSFY1  novel\n",
       "HSFY1|2/2|11F06      HSFY1  novel\n",
       "\n",
       "[756 rows x 2 columns]"
      ]
     },
     "execution_count": 16,
     "metadata": {},
     "output_type": "execute_result"
    }
   ],
   "source": [
    "status_map = {}\n",
    "\n",
    "# only loop through clone collection\n",
    "for tf in clone_tfs.keys():\n",
    "    gene = clone_tfs[tf]\n",
    "    \n",
    "    try:\n",
    "        annot_ref = gene.reference_isoform.name\n",
    "    except:\n",
    "        annot_ref = \"none\"\n",
    "        \n",
    "    try:\n",
    "        annot_alt = gene.alternative_isoforms\n",
    "    except:\n",
    "        annot_alt = []\n",
    "        \n",
    "    for iso in gene.cloned_isoforms:\n",
    "        if iso.name == annot_ref:\n",
    "            status_map[iso.clone_acc] = {\"gene_name\": tf, \"status\": \"ref\"}\n",
    "        elif iso.is_novel_isoform():\n",
    "            status_map[iso.clone_acc] = {\"gene_name\": tf, \"status\": \"novel\"}\n",
    "        else:\n",
    "            status_map[iso.clone_acc] = {\"gene_name\": tf, \"status\": \"alt\"}\n",
    "\n",
    "status_map = pd.DataFrame.from_dict(status_map, orient=\"index\")\n",
    "status_map"
   ]
  },
  {
   "cell_type": "code",
   "execution_count": 17,
   "metadata": {},
   "outputs": [
    {
     "data": {
      "text/plain": [
       "alt      357\n",
       "ref      208\n",
       "novel    191\n",
       "Name: status, dtype: int64"
      ]
     },
     "execution_count": 17,
     "metadata": {},
     "output_type": "execute_result"
    }
   ],
   "source": [
    "status_map.status.value_counts()"
   ]
  },
  {
   "cell_type": "code",
   "execution_count": 18,
   "metadata": {},
   "outputs": [
    {
     "name": "stdout",
     "output_type": "stream",
     "text": [
      "reading from cache\n"
     ]
    }
   ],
   "source": [
    "df_dev, metadata_dev, genes_dev = load_developmental_tissue_expression_remapped()\n",
    "\n",
    "rename_dev_stage = {'8 week post conception,embryo': '08',\n",
    "'11 week post conception,late embryo': '11',\n",
    "'embryo,7 week post conception': '07',\n",
    "'infant': 'infant',\n",
    "'10 week post conception,late embryo': '10',\n",
    "'young adult': 'young adult',\n",
    "'13 week post conception,late embryo': '13',\n",
    "'16 week post conception,late embryo': '16',\n",
    "'4 week post conception,embryo': '04',\n",
    "'neonate': 'neonate',\n",
    "'19 week post conception,late embryo': '19',\n",
    "'9 week post conception,late embryo': '09',\n",
    "'adolescent': 'adolescent',\n",
    "'5 week post conception,embryo': '05',\n",
    "'embryo,6 week post conception': '06',\n",
    "'12 week post conception,late embryo': '12',\n",
    "'18 week post conception,late embryo': '18',\n",
    "'toddler': 'toddler',\n",
    "'elderly': 'elderly',\n",
    "'middle adult': 'adult',\n",
    "'school age child': 'child'}\n",
    "\n",
    "metadata_dev['dev_stage'] = metadata_dev['Developmental_Stage'].map(rename_dev_stage)\n",
    "means_dev = (df_dev.groupby(df_dev.columns.map(metadata_dev['organism_part'] + ' ' + metadata_dev['dev_stage']), axis=1)\n",
    "           .mean())"
   ]
  },
  {
   "cell_type": "code",
   "execution_count": 19,
   "metadata": {},
   "outputs": [
    {
     "name": "stdout",
     "output_type": "stream",
     "text": [
      "reading from cache\n"
     ]
    }
   ],
   "source": [
    "df_gtex, metadata_gtex, genes_gtex = load_gtex_remapped()\n",
    "\n",
    "exclusion_list_gtex = {'Cells - Leukemia cell line (CML)',\n",
    "                       'Cells - EBV-transformed lymphocytes',\n",
    "                       'Cells - Cultured fibroblasts'}\n",
    "\n",
    "df_gtex = df_gtex.loc[:, ~df_gtex.columns.map(metadata_gtex['body_site']).isin(exclusion_list_gtex)]\n",
    "metadata_gtex = metadata_gtex.loc[~metadata_gtex['body_site'].isin(exclusion_list_gtex), :]\n",
    "\n",
    "means_gtex = df_gtex.groupby(df_gtex.columns.map(metadata_gtex['body_site']), axis=1).mean()"
   ]
  },
  {
   "cell_type": "code",
   "execution_count": 20,
   "metadata": {},
   "outputs": [],
   "source": [
    "metadata_gtex_dummy = pd.read_table(\"../../data/processed/metadata_gtex_dummy.csv\", sep=\",\", index_col=0)\n",
    "\n",
    "# use same downsample as fig1\n",
    "means_gtex_downsample = df_gtex.groupby(df_gtex.columns.map(metadata_gtex_dummy['body_site']), axis=1).mean()\n",
    "\n",
    "means_dev[\"median\"] = means_dev.median(axis=1)\n",
    "means_dev[\"max\"] = means_dev.max(axis=1)\n",
    "\n",
    "means_gtex_downsample[\"median\"] = means_gtex_downsample.median(axis=1)\n",
    "means_gtex_downsample[\"max\"] = means_gtex_downsample.max(axis=1)"
   ]
  },
  {
   "cell_type": "code",
   "execution_count": 21,
   "metadata": {},
   "outputs": [],
   "source": [
    "dev_mm = means_dev[[\"median\", \"max\"]].reset_index()\n",
    "gtex_ds_mm = means_gtex_downsample[[\"median\", \"max\"]].reset_index()"
   ]
  },
  {
   "cell_type": "code",
   "execution_count": 22,
   "metadata": {},
   "outputs": [],
   "source": [
    "dev_mm[\"clone_acc\"] = dev_mm[\"UID\"].str.split(\" \", expand=True)[0]\n",
    "gtex_ds_mm[\"clone_acc\"] = gtex_ds_mm[\"UID\"].str.split(\" \", expand=True)[0]\n",
    "mm = dev_mm[dev_mm[\"clone_acc\"] != \"noclone\"].merge(gtex_ds_mm[gtex_ds_mm[\"clone_acc\"] != \"noclone\"], \n",
    "                                                    on=\"clone_acc\", suffixes=(\"_dev\", \"_gtex_ds\"))"
   ]
  },
  {
   "cell_type": "code",
   "execution_count": 23,
   "metadata": {},
   "outputs": [],
   "source": [
    "status_map = status_map.reset_index()\n",
    "status_map[\"clone_acc\"] = status_map[\"index\"].str.split(\" \", expand=True)[0]\n",
    "\n",
    "exp_nov = status_map.merge(mm, on=\"clone_acc\")\n",
    "exp_nov_melt = pd.melt(exp_nov, id_vars=[\"index\", \"gene_name\", \"status\", \"clone_acc\"], value_vars=[\"median_dev\",\n",
    "                                                                                                   \"max_dev\",\n",
    "                                                                                                   \"median_gtex_ds\",\n",
    "                                                                                                   \"max_gtex_ds\"])\n",
    "exp_nov_melt[\"measurement\"] = exp_nov_melt[\"variable\"].str.split(\"_\", expand=True)[0]"
   ]
  },
  {
   "cell_type": "code",
   "execution_count": 24,
   "metadata": {},
   "outputs": [
    {
     "data": {
      "image/png": "[encoded data removed]",
      "text/plain": [
       "<Figure size 648x72 with 1 Axes>"
      ]
     },
     "metadata": {},
     "output_type": "display_data"
    }
   ],
   "source": [
    "colors = met_brewer.met_brew(name=\"Monet\")\n",
    "sns.palplot(colors)"
   ]
  },
  {
   "cell_type": "code",
   "execution_count": 25,
   "metadata": {},
   "outputs": [
    {
     "data": {
      "image/png": "[encoded data removed]",
      "text/plain": [
       "<Figure size 108x108 with 1 Axes>"
      ]
     },
     "metadata": {},
     "output_type": "display_data"
    }
   ],
   "source": [
    "fig = plt.figure(figsize=(1.5, 1.5))\n",
    "\n",
    "exp_nov_melt[\"value_log2\"] = np.log2(exp_nov_melt[\"value\"]+1)\n",
    "ax = sns.boxplot(data=exp_nov_melt[exp_nov_melt[\"variable\"].str.contains(\"dev\")], \n",
    "                 x=\"status\", y=\"value\", hue=\"measurement\", palette={\"median\": colors[7],\n",
    "                                                                    \"max\": colors[6]}, \n",
    "                 flierprops={\"marker\": \"o\"}, fliersize=4, notch=True)\n",
    "\n",
    "mimic_r_boxplot(ax)\n",
    "\n",
    "plt.legend(loc=2, bbox_to_anchor=(1.01, 1))\n",
    "\n",
    "ax.set_xlabel(\"clone category\")\n",
    "ax.set_ylabel(\"isoform expression (tpm)\")\n",
    "\n",
    "fig.savefig(\"../../figures/fig2/novel_isos.dev_expr_boxplot.pdf\", dpi=\"figure\", bbox_inches=\"tight\")"
   ]
  },
  {
   "cell_type": "code",
   "execution_count": 26,
   "metadata": {},
   "outputs": [
    {
     "data": {
      "image/png": "[encoded data removed]",
      "text/plain": [
       "<Figure size 93.6x93.6 with 1 Axes>"
      ]
     },
     "metadata": {},
     "output_type": "display_data"
    }
   ],
   "source": [
    "fig = plt.figure(figsize=(1.3, 1.3))\n",
    "\n",
    "ax = sns.boxplot(data=exp_nov_melt[exp_nov_melt[\"variable\"].str.contains(\"dev\")], \n",
    "                 x=\"status\", y=\"value_log2\", hue=\"measurement\", palette={\"median\": colors[7],\n",
    "                                                                    \"max\": colors[6]}, \n",
    "                 flierprops={\"marker\": \"o\"}, fliersize=4, notch=True)\n",
    "\n",
    "mimic_r_boxplot(ax)\n",
    "\n",
    "plt.legend(loc=2, bbox_to_anchor=(1.01, 1))\n",
    "\n",
    "ax.set_xlabel(\"clone category\")\n",
    "ax.set_ylabel(\"isoform expression (tpm)\")\n",
    "\n",
    "ticks = [0, 1, 5, 10, 20, 30]\n",
    "ticklabels = [0, 1, 5, 10, 20, 30]\n",
    "ax.set_yticks([np.log2(y + 1) for y in ticks])\n",
    "ax.set_yticklabels(ticklabels)\n",
    "ax.tick_params(axis='y', labelsize=fontsize-2)\n",
    "plt.title(\"Developmental RNA-seq\")\n",
    "\n",
    "fig.savefig(\"../../figures/fig2/novel_isos.dev_expr_boxplot.log2.pdf\", dpi=\"figure\", bbox_inches=\"tight\")"
   ]
  },
  {
   "cell_type": "code",
   "execution_count": 27,
   "metadata": {},
   "outputs": [
    {
     "data": {
      "image/png": "[encoded data removed]",
      "text/plain": [
       "<Figure size 93.6x93.6 with 1 Axes>"
      ]
     },
     "metadata": {},
     "output_type": "display_data"
    }
   ],
   "source": [
    "fig = plt.figure(figsize=(1.3, 1.3))\n",
    "\n",
    "ax = sns.boxplot(data=exp_nov_melt[exp_nov_melt[\"variable\"].str.contains(\"gtex_ds\")], \n",
    "                 x=\"status\", y=\"value_log2\", hue=\"measurement\", palette={\"median\": colors[7],\n",
    "                                                                    \"max\": colors[6]}, \n",
    "                 flierprops={\"marker\": \"o\"}, fliersize=4, notch=True)\n",
    "\n",
    "mimic_r_boxplot(ax)\n",
    "\n",
    "plt.legend(loc=2, bbox_to_anchor=(1.01, 1))\n",
    "\n",
    "ax.set_xlabel(\"clone category\")\n",
    "ax.set_ylabel(\"isoform expression (tpm)\")\n",
    "\n",
    "ticks = [0, 1, 5, 10, 20, 30, 50]\n",
    "ticklabels = [0, 1, 5, 10, 20, 30, 50]\n",
    "ax.set_yticks([np.log2(y + 1) for y in ticks])\n",
    "ax.set_yticklabels(ticklabels)\n",
    "ax.tick_params(axis='y', labelsize=fontsize-2)\n",
    "plt.title(\"GTEx (down-sampled)\")\n",
    "\n",
    "fig.savefig(\"../../figures/fig2/novel_isos.gtex_ds_expr_boxplot.log2.pdf\", dpi=\"figure\", bbox_inches=\"tight\")"
   ]
  },
  {
   "cell_type": "code",
   "execution_count": 28,
   "metadata": {},
   "outputs": [
    {
     "data": {
      "image/png": "[encoded data removed]",
      "text/plain": [
       "<Figure size 108x108 with 1 Axes>"
      ]
     },
     "metadata": {},
     "output_type": "display_data"
    }
   ],
   "source": [
    "fig = plt.figure(figsize=(1.5, 1.5))\n",
    "\n",
    "ax = sns.boxplot(data=exp_nov_melt[exp_nov_melt[\"variable\"].str.contains(\"gtex_ds\")], \n",
    "                 x=\"status\", y=\"value\", hue=\"measurement\", palette={\"median\": colors[7],\n",
    "                                                                    \"max\": colors[6]}, \n",
    "                 flierprops={\"marker\": \"o\"}, fliersize=4, notch=True)\n",
    "\n",
    "mimic_r_boxplot(ax)\n",
    "\n",
    "plt.legend(loc=2, bbox_to_anchor=(1.01, 1))\n",
    "\n",
    "ax.set_xlabel(\"clone category\")\n",
    "ax.set_ylabel(\"isoform expression (tpm)\")\n",
    "\n",
    "\n",
    "plt.title(\"GTEx (down-sampled)\")\n",
    "\n",
    "fig.savefig(\"../../figures/fig2/novel_isos.gtex_ds_expr_boxplot.pdf\", dpi=\"figure\", bbox_inches=\"tight\")"
   ]
  },
  {
   "cell_type": "markdown",
   "metadata": {},
   "source": [
    "## 4. distribution of TF families in clone collection and assays v gencode"
   ]
  },
  {
   "cell_type": "code",
   "execution_count": 29,
   "metadata": {},
   "outputs": [],
   "source": [
    "fam = load_tf_families()"
   ]
  },
  {
   "cell_type": "code",
   "execution_count": 30,
   "metadata": {},
   "outputs": [
    {
     "data": {
      "text/plain": [
       "1635"
      ]
     },
     "execution_count": 30,
     "metadata": {},
     "output_type": "execute_result"
    }
   ],
   "source": [
    "len(genc_tfs)"
   ]
  },
  {
   "cell_type": "code",
   "execution_count": 31,
   "metadata": {},
   "outputs": [
    {
     "data": {
      "text/html": [
       "<div>\n",
       "<style scoped>\n",
       "    .dataframe tbody tr th:only-of-type {\n",
       "        vertical-align: middle;\n",
       "    }\n",
       "\n",
       "    .dataframe tbody tr th {\n",
       "        vertical-align: top;\n",
       "    }\n",
       "\n",
       "    .dataframe thead th {\n",
       "        text-align: right;\n",
       "    }\n",
       "</style>\n",
       "<table border=\"1\" class=\"dataframe\">\n",
       "  <thead>\n",
       "    <tr style=\"text-align: right;\">\n",
       "      <th></th>\n",
       "      <th>gene</th>\n",
       "      <th>isoform</th>\n",
       "      <th>family</th>\n",
       "    </tr>\n",
       "  </thead>\n",
       "  <tbody>\n",
       "    <tr>\n",
       "      <th>390</th>\n",
       "      <td>HOXD3</td>\n",
       "      <td>HOXD3-201</td>\n",
       "      <td>Homeodomain</td>\n",
       "    </tr>\n",
       "    <tr>\n",
       "      <th>1761</th>\n",
       "      <td>ZNF33A</td>\n",
       "      <td>ZNF33A-208</td>\n",
       "      <td>C2H2 ZF</td>\n",
       "    </tr>\n",
       "    <tr>\n",
       "      <th>1233</th>\n",
       "      <td>DMTF1</td>\n",
       "      <td>DMTF1-213</td>\n",
       "      <td>Myb/SANT</td>\n",
       "    </tr>\n",
       "    <tr>\n",
       "      <th>2083</th>\n",
       "      <td>HMGA2</td>\n",
       "      <td>HMGA2-206</td>\n",
       "      <td>AT hook</td>\n",
       "    </tr>\n",
       "    <tr>\n",
       "      <th>3804</th>\n",
       "      <td>ZNF671</td>\n",
       "      <td>ZNF671-203</td>\n",
       "      <td>C2H2 ZF</td>\n",
       "    </tr>\n",
       "  </tbody>\n",
       "</table>\n",
       "</div>"
      ],
      "text/plain": [
       "        gene     isoform       family\n",
       "390    HOXD3   HOXD3-201  Homeodomain\n",
       "1761  ZNF33A  ZNF33A-208      C2H2 ZF\n",
       "1233   DMTF1   DMTF1-213     Myb/SANT\n",
       "2083   HMGA2   HMGA2-206      AT hook\n",
       "3804  ZNF671  ZNF671-203      C2H2 ZF"
      ]
     },
     "execution_count": 31,
     "metadata": {},
     "output_type": "execute_result"
    }
   ],
   "source": [
    "genc_df = {k: genc_tfs[k].GENCODE_isoforms for k in genc_tfs.keys()}\n",
    "genc_df = {k: [v.name for v in values] for k, values in genc_df.items()}\n",
    "genc_df = [(k, v) for k, sublist in genc_df.items() for v in sublist]\n",
    "genc_df = pd.DataFrame(genc_df, columns=[\"gene\", \"isoform\"])\n",
    "genc_df['family'] = genc_df['gene'].map(fam)\n",
    "genc_df.sample(5)"
   ]
  },
  {
   "cell_type": "code",
   "execution_count": 32,
   "metadata": {},
   "outputs": [],
   "source": [
    "leave_separate = [\"C2H2 ZF\", \"Homeodomain\", \"bHLH\", \"Nuclear receptor\", \"bZIP\", \"Forkhead\", \"Ets\"]"
   ]
  },
  {
   "cell_type": "code",
   "execution_count": 33,
   "metadata": {},
   "outputs": [
    {
     "data": {
      "text/html": [
       "<div>\n",
       "<style scoped>\n",
       "    .dataframe tbody tr th:only-of-type {\n",
       "        vertical-align: middle;\n",
       "    }\n",
       "\n",
       "    .dataframe tbody tr th {\n",
       "        vertical-align: top;\n",
       "    }\n",
       "\n",
       "    .dataframe thead th {\n",
       "        text-align: right;\n",
       "    }\n",
       "</style>\n",
       "<table border=\"1\" class=\"dataframe\">\n",
       "  <thead>\n",
       "    <tr style=\"text-align: right;\">\n",
       "      <th></th>\n",
       "      <th>gene</th>\n",
       "      <th>isoform</th>\n",
       "      <th>family</th>\n",
       "      <th>family_renamed</th>\n",
       "    </tr>\n",
       "  </thead>\n",
       "  <tbody>\n",
       "    <tr>\n",
       "      <th>1941</th>\n",
       "      <td>SOX6</td>\n",
       "      <td>SOX6-208</td>\n",
       "      <td>HMG/Sox</td>\n",
       "      <td>Other</td>\n",
       "    </tr>\n",
       "    <tr>\n",
       "      <th>3201</th>\n",
       "      <td>ZNF230</td>\n",
       "      <td>ZNF230-201</td>\n",
       "      <td>C2H2 ZF</td>\n",
       "      <td>C2H2 ZF</td>\n",
       "    </tr>\n",
       "    <tr>\n",
       "      <th>353</th>\n",
       "      <td>TLX2</td>\n",
       "      <td>TLX2-204</td>\n",
       "      <td>Homeodomain</td>\n",
       "      <td>Homeodomain</td>\n",
       "    </tr>\n",
       "    <tr>\n",
       "      <th>293</th>\n",
       "      <td>AHCTF1</td>\n",
       "      <td>AHCTF1-202</td>\n",
       "      <td>AT hook</td>\n",
       "      <td>Other</td>\n",
       "    </tr>\n",
       "    <tr>\n",
       "      <th>1028</th>\n",
       "      <td>RUNX2</td>\n",
       "      <td>RUNX2-202</td>\n",
       "      <td>Runt</td>\n",
       "      <td>Other</td>\n",
       "    </tr>\n",
       "  </tbody>\n",
       "</table>\n",
       "</div>"
      ],
      "text/plain": [
       "        gene     isoform       family family_renamed\n",
       "1941    SOX6    SOX6-208      HMG/Sox          Other\n",
       "3201  ZNF230  ZNF230-201      C2H2 ZF        C2H2 ZF\n",
       "353     TLX2    TLX2-204  Homeodomain    Homeodomain\n",
       "293   AHCTF1  AHCTF1-202      AT hook          Other\n",
       "1028   RUNX2   RUNX2-202         Runt          Other"
      ]
     },
     "execution_count": 33,
     "metadata": {},
     "output_type": "execute_result"
    }
   ],
   "source": [
    "def rename_family(row):\n",
    "    if row.family in leave_separate:\n",
    "        return row.family\n",
    "    else:\n",
    "        return \"Other\"\n",
    "    \n",
    "genc_df['family_renamed'] = genc_df.apply(rename_family, axis=1)\n",
    "genc_df.sample(5)"
   ]
  },
  {
   "cell_type": "code",
   "execution_count": 34,
   "metadata": {},
   "outputs": [
    {
     "data": {
      "text/html": [
       "<div>\n",
       "<style scoped>\n",
       "    .dataframe tbody tr th:only-of-type {\n",
       "        vertical-align: middle;\n",
       "    }\n",
       "\n",
       "    .dataframe tbody tr th {\n",
       "        vertical-align: top;\n",
       "    }\n",
       "\n",
       "    .dataframe thead th {\n",
       "        text-align: right;\n",
       "    }\n",
       "</style>\n",
       "<table border=\"1\" class=\"dataframe\">\n",
       "  <thead>\n",
       "    <tr style=\"text-align: right;\">\n",
       "      <th></th>\n",
       "      <th>family_renamed</th>\n",
       "      <th>isoform</th>\n",
       "      <th>source</th>\n",
       "    </tr>\n",
       "  </thead>\n",
       "  <tbody>\n",
       "    <tr>\n",
       "      <th>0</th>\n",
       "      <td>C2H2 ZF</td>\n",
       "      <td>1840</td>\n",
       "      <td>GENCODE</td>\n",
       "    </tr>\n",
       "    <tr>\n",
       "      <th>1</th>\n",
       "      <td>Ets</td>\n",
       "      <td>89</td>\n",
       "      <td>GENCODE</td>\n",
       "    </tr>\n",
       "    <tr>\n",
       "      <th>2</th>\n",
       "      <td>Forkhead</td>\n",
       "      <td>97</td>\n",
       "      <td>GENCODE</td>\n",
       "    </tr>\n",
       "    <tr>\n",
       "      <th>3</th>\n",
       "      <td>Homeodomain</td>\n",
       "      <td>350</td>\n",
       "      <td>GENCODE</td>\n",
       "    </tr>\n",
       "    <tr>\n",
       "      <th>4</th>\n",
       "      <td>Nuclear receptor</td>\n",
       "      <td>176</td>\n",
       "      <td>GENCODE</td>\n",
       "    </tr>\n",
       "    <tr>\n",
       "      <th>5</th>\n",
       "      <td>Other</td>\n",
       "      <td>1179</td>\n",
       "      <td>GENCODE</td>\n",
       "    </tr>\n",
       "    <tr>\n",
       "      <th>6</th>\n",
       "      <td>bHLH</td>\n",
       "      <td>264</td>\n",
       "      <td>GENCODE</td>\n",
       "    </tr>\n",
       "    <tr>\n",
       "      <th>7</th>\n",
       "      <td>bZIP</td>\n",
       "      <td>149</td>\n",
       "      <td>GENCODE</td>\n",
       "    </tr>\n",
       "  </tbody>\n",
       "</table>\n",
       "</div>"
      ],
      "text/plain": [
       "     family_renamed  isoform   source\n",
       "0           C2H2 ZF     1840  GENCODE\n",
       "1               Ets       89  GENCODE\n",
       "2          Forkhead       97  GENCODE\n",
       "3       Homeodomain      350  GENCODE\n",
       "4  Nuclear receptor      176  GENCODE\n",
       "5             Other     1179  GENCODE\n",
       "6              bHLH      264  GENCODE\n",
       "7              bZIP      149  GENCODE"
      ]
     },
     "execution_count": 34,
     "metadata": {},
     "output_type": "execute_result"
    }
   ],
   "source": [
    "genc_vc = genc_df.groupby(\"family_renamed\")[\"isoform\"].agg(\"count\").reset_index()\n",
    "genc_vc[\"source\"] = \"GENCODE\"\n",
    "genc_vc"
   ]
  },
  {
   "cell_type": "code",
   "execution_count": 35,
   "metadata": {},
   "outputs": [
    {
     "data": {
      "text/html": [
       "<div>\n",
       "<style scoped>\n",
       "    .dataframe tbody tr th:only-of-type {\n",
       "        vertical-align: middle;\n",
       "    }\n",
       "\n",
       "    .dataframe tbody tr th {\n",
       "        vertical-align: top;\n",
       "    }\n",
       "\n",
       "    .dataframe thead th {\n",
       "        text-align: right;\n",
       "    }\n",
       "</style>\n",
       "<table border=\"1\" class=\"dataframe\">\n",
       "  <thead>\n",
       "    <tr style=\"text-align: right;\">\n",
       "      <th></th>\n",
       "      <th>gene</th>\n",
       "      <th>isoform</th>\n",
       "      <th>family</th>\n",
       "    </tr>\n",
       "  </thead>\n",
       "  <tbody>\n",
       "    <tr>\n",
       "      <th>142</th>\n",
       "      <td>RBPJ</td>\n",
       "      <td>RBPJ|2/4|07B11</td>\n",
       "      <td>CSL</td>\n",
       "    </tr>\n",
       "    <tr>\n",
       "      <th>752</th>\n",
       "      <td>ZFY</td>\n",
       "      <td>ZFY|1/2|06H10</td>\n",
       "      <td>C2H2 ZF</td>\n",
       "    </tr>\n",
       "    <tr>\n",
       "      <th>166</th>\n",
       "      <td>MSX2</td>\n",
       "      <td>MSX2|2/2|02C09</td>\n",
       "      <td>Homeodomain</td>\n",
       "    </tr>\n",
       "    <tr>\n",
       "      <th>372</th>\n",
       "      <td>ZNF143</td>\n",
       "      <td>ZNF143|3/3|09A08</td>\n",
       "      <td>C2H2 ZF</td>\n",
       "    </tr>\n",
       "    <tr>\n",
       "      <th>58</th>\n",
       "      <td>RXRG</td>\n",
       "      <td>RXRG|2/2|09F07</td>\n",
       "      <td>Nuclear receptor</td>\n",
       "    </tr>\n",
       "  </tbody>\n",
       "</table>\n",
       "</div>"
      ],
      "text/plain": [
       "       gene           isoform            family\n",
       "142    RBPJ    RBPJ|2/4|07B11               CSL\n",
       "752     ZFY     ZFY|1/2|06H10           C2H2 ZF\n",
       "166    MSX2    MSX2|2/2|02C09       Homeodomain\n",
       "372  ZNF143  ZNF143|3/3|09A08           C2H2 ZF\n",
       "58     RXRG    RXRG|2/2|09F07  Nuclear receptor"
      ]
     },
     "execution_count": 35,
     "metadata": {},
     "output_type": "execute_result"
    }
   ],
   "source": [
    "clone_df = {k: clone_tfs[k].cloned_isoforms for k in clone_tfs.keys()}\n",
    "clone_df = {k: [v.clone_acc for v in values] for k, values in clone_df.items()}\n",
    "clone_df = [(k, v) for k, sublist in clone_df.items() for v in sublist]\n",
    "clone_df = pd.DataFrame(clone_df, columns=[\"gene\", \"isoform\"])\n",
    "clone_df['family'] = clone_df['gene'].map(fam)\n",
    "clone_df.sample(5)"
   ]
  },
  {
   "cell_type": "code",
   "execution_count": 36,
   "metadata": {},
   "outputs": [],
   "source": [
    "def rename_family(row):\n",
    "    if row.family in leave_separate:\n",
    "        return row.family\n",
    "    else:\n",
    "        return \"Other\"\n",
    "    \n",
    "clone_df['family_renamed'] = clone_df.apply(rename_family, axis=1)"
   ]
  },
  {
   "cell_type": "code",
   "execution_count": 37,
   "metadata": {},
   "outputs": [],
   "source": [
    "order = clone_df.groupby(\"family\")[\"isoform\"].agg(\"count\").reset_index()\n",
    "order = order.sort_values(by=\"isoform\", ascending=False)\n",
    "xorder = list(order[\"family\"])\n",
    "yvals = list(order[\"isoform\"])"
   ]
  },
  {
   "cell_type": "code",
   "execution_count": 38,
   "metadata": {},
   "outputs": [
    {
     "data": {
      "image/png": "[encoded data removed]",
      "text/plain": [
       "<Figure size 360x108 with 1 Axes>"
      ]
     },
     "metadata": {},
     "output_type": "display_data"
    }
   ],
   "source": [
    "fig = plt.figure(figsize=(5, 1.5))\n",
    "\n",
    "ax = sns.countplot(data=clone_df, x=\"family\", order=xorder)\n",
    "ax.set_xlabel(\"\")\n",
    "ax.set_ylabel(\"count of isoform clones\")\n",
    "ax.set_title(\"families of TF isoforms in clone collection\")\n",
    "ax.set_ylim((0, 370))\n",
    "\n",
    "_= plt.xticks(rotation=90, ha='right')\n",
    "\n",
    "for i, yval in enumerate(yvals):\n",
    "    ax.text(i, yval, ' %s' % yval, ha='center', va='bottom', rotation=90, fontsize=6)\n",
    "    \n",
    "fig.savefig(\"../../figures/fig2/clone_collection_families.all.pdf\", dpi=\"figure\", bbox_inches=\"tight\")"
   ]
  },
  {
   "cell_type": "code",
   "execution_count": 39,
   "metadata": {},
   "outputs": [],
   "source": [
    "clone_vc = clone_df.groupby(\"family_renamed\")[\"isoform\"].agg(\"count\").reset_index()\n",
    "clone_vc[\"source\"] = \"TFIso1.0\""
   ]
  },
  {
   "cell_type": "code",
   "execution_count": 40,
   "metadata": {},
   "outputs": [
    {
     "data": {
      "text/html": [
       "<div>\n",
       "<style scoped>\n",
       "    .dataframe tbody tr th:only-of-type {\n",
       "        vertical-align: middle;\n",
       "    }\n",
       "\n",
       "    .dataframe tbody tr th {\n",
       "        vertical-align: top;\n",
       "    }\n",
       "\n",
       "    .dataframe thead th {\n",
       "        text-align: right;\n",
       "    }\n",
       "</style>\n",
       "<table border=\"1\" class=\"dataframe\">\n",
       "  <thead>\n",
       "    <tr style=\"text-align: right;\">\n",
       "      <th></th>\n",
       "      <th>gene_symbol</th>\n",
       "      <th>clone_acc</th>\n",
       "      <th>HS1006</th>\n",
       "      <th>HS1022</th>\n",
       "      <th>HS1043</th>\n",
       "      <th>HS1067</th>\n",
       "      <th>HS1139</th>\n",
       "      <th>HS1142</th>\n",
       "      <th>HS118</th>\n",
       "      <th>HS1181</th>\n",
       "      <th>...</th>\n",
       "      <th>PF4V1</th>\n",
       "      <th>TNFSF10</th>\n",
       "      <th>TNFSF13</th>\n",
       "      <th>TNFSF14</th>\n",
       "      <th>TNFSF4</th>\n",
       "      <th>TNFSF8</th>\n",
       "      <th>XCL1</th>\n",
       "      <th>XCL2</th>\n",
       "      <th>family</th>\n",
       "      <th>family_renamed</th>\n",
       "    </tr>\n",
       "  </thead>\n",
       "  <tbody>\n",
       "    <tr>\n",
       "      <th>102</th>\n",
       "      <td>PKNOX1</td>\n",
       "      <td>PKNOX1|2/4|06H05</td>\n",
       "      <td>False</td>\n",
       "      <td>False</td>\n",
       "      <td>False</td>\n",
       "      <td>False</td>\n",
       "      <td>True</td>\n",
       "      <td>False</td>\n",
       "      <td>False</td>\n",
       "      <td>False</td>\n",
       "      <td>...</td>\n",
       "      <td>&lt;NA&gt;</td>\n",
       "      <td>&lt;NA&gt;</td>\n",
       "      <td>&lt;NA&gt;</td>\n",
       "      <td>&lt;NA&gt;</td>\n",
       "      <td>&lt;NA&gt;</td>\n",
       "      <td>&lt;NA&gt;</td>\n",
       "      <td>&lt;NA&gt;</td>\n",
       "      <td>&lt;NA&gt;</td>\n",
       "      <td>Homeodomain</td>\n",
       "      <td>Homeodomain</td>\n",
       "    </tr>\n",
       "    <tr>\n",
       "      <th>168</th>\n",
       "      <td>ZNF18</td>\n",
       "      <td>ZNF18|3/3|07D01</td>\n",
       "      <td>False</td>\n",
       "      <td>False</td>\n",
       "      <td>False</td>\n",
       "      <td>False</td>\n",
       "      <td>False</td>\n",
       "      <td>False</td>\n",
       "      <td>False</td>\n",
       "      <td>False</td>\n",
       "      <td>...</td>\n",
       "      <td>&lt;NA&gt;</td>\n",
       "      <td>&lt;NA&gt;</td>\n",
       "      <td>&lt;NA&gt;</td>\n",
       "      <td>&lt;NA&gt;</td>\n",
       "      <td>&lt;NA&gt;</td>\n",
       "      <td>&lt;NA&gt;</td>\n",
       "      <td>&lt;NA&gt;</td>\n",
       "      <td>&lt;NA&gt;</td>\n",
       "      <td>C2H2 ZF</td>\n",
       "      <td>C2H2 ZF</td>\n",
       "    </tr>\n",
       "    <tr>\n",
       "      <th>81</th>\n",
       "      <td>MYF6</td>\n",
       "      <td>MYF6|2/2|03F09</td>\n",
       "      <td>False</td>\n",
       "      <td>False</td>\n",
       "      <td>False</td>\n",
       "      <td>False</td>\n",
       "      <td>False</td>\n",
       "      <td>False</td>\n",
       "      <td>False</td>\n",
       "      <td>False</td>\n",
       "      <td>...</td>\n",
       "      <td>&lt;NA&gt;</td>\n",
       "      <td>&lt;NA&gt;</td>\n",
       "      <td>&lt;NA&gt;</td>\n",
       "      <td>&lt;NA&gt;</td>\n",
       "      <td>&lt;NA&gt;</td>\n",
       "      <td>&lt;NA&gt;</td>\n",
       "      <td>&lt;NA&gt;</td>\n",
       "      <td>&lt;NA&gt;</td>\n",
       "      <td>bHLH</td>\n",
       "      <td>bHLH</td>\n",
       "    </tr>\n",
       "    <tr>\n",
       "      <th>18</th>\n",
       "      <td>EBF3</td>\n",
       "      <td>EBF3|1/3|09A11</td>\n",
       "      <td>False</td>\n",
       "      <td>False</td>\n",
       "      <td>True</td>\n",
       "      <td>False</td>\n",
       "      <td>True</td>\n",
       "      <td>False</td>\n",
       "      <td>False</td>\n",
       "      <td>False</td>\n",
       "      <td>...</td>\n",
       "      <td>&lt;NA&gt;</td>\n",
       "      <td>&lt;NA&gt;</td>\n",
       "      <td>&lt;NA&gt;</td>\n",
       "      <td>&lt;NA&gt;</td>\n",
       "      <td>&lt;NA&gt;</td>\n",
       "      <td>&lt;NA&gt;</td>\n",
       "      <td>&lt;NA&gt;</td>\n",
       "      <td>&lt;NA&gt;</td>\n",
       "      <td>EBF1</td>\n",
       "      <td>Other</td>\n",
       "    </tr>\n",
       "    <tr>\n",
       "      <th>95</th>\n",
       "      <td>PAX5</td>\n",
       "      <td>PAX5|1/2|08E04</td>\n",
       "      <td>False</td>\n",
       "      <td>False</td>\n",
       "      <td>False</td>\n",
       "      <td>False</td>\n",
       "      <td>False</td>\n",
       "      <td>False</td>\n",
       "      <td>False</td>\n",
       "      <td>False</td>\n",
       "      <td>...</td>\n",
       "      <td>&lt;NA&gt;</td>\n",
       "      <td>&lt;NA&gt;</td>\n",
       "      <td>&lt;NA&gt;</td>\n",
       "      <td>&lt;NA&gt;</td>\n",
       "      <td>&lt;NA&gt;</td>\n",
       "      <td>&lt;NA&gt;</td>\n",
       "      <td>&lt;NA&gt;</td>\n",
       "      <td>&lt;NA&gt;</td>\n",
       "      <td>Paired box</td>\n",
       "      <td>Other</td>\n",
       "    </tr>\n",
       "  </tbody>\n",
       "</table>\n",
       "<p>5 rows × 195 columns</p>\n",
       "</div>"
      ],
      "text/plain": [
       "    gene_symbol         clone_acc  HS1006  HS1022  HS1043  HS1067  HS1139  \\\n",
       "102      PKNOX1  PKNOX1|2/4|06H05   False   False   False   False    True   \n",
       "168       ZNF18   ZNF18|3/3|07D01   False   False   False   False   False   \n",
       "81         MYF6    MYF6|2/2|03F09   False   False   False   False   False   \n",
       "18         EBF3    EBF3|1/3|09A11   False   False    True   False    True   \n",
       "95         PAX5    PAX5|1/2|08E04   False   False   False   False   False   \n",
       "\n",
       "     HS1142  HS118  HS1181  ...  PF4V1  TNFSF10  TNFSF13  TNFSF14  TNFSF4  \\\n",
       "102   False  False   False  ...   <NA>     <NA>     <NA>     <NA>    <NA>   \n",
       "168   False  False   False  ...   <NA>     <NA>     <NA>     <NA>    <NA>   \n",
       "81    False  False   False  ...   <NA>     <NA>     <NA>     <NA>    <NA>   \n",
       "18    False  False   False  ...   <NA>     <NA>     <NA>     <NA>    <NA>   \n",
       "95    False  False   False  ...   <NA>     <NA>     <NA>     <NA>    <NA>   \n",
       "\n",
       "     TNFSF8  XCL1  XCL2       family  family_renamed  \n",
       "102    <NA>  <NA>  <NA>  Homeodomain     Homeodomain  \n",
       "168    <NA>  <NA>  <NA>      C2H2 ZF         C2H2 ZF  \n",
       "81     <NA>  <NA>  <NA>         bHLH            bHLH  \n",
       "18     <NA>  <NA>  <NA>         EBF1           Other  \n",
       "95     <NA>  <NA>  <NA>   Paired box           Other  \n",
       "\n",
       "[5 rows x 195 columns]"
      ]
     },
     "execution_count": 40,
     "metadata": {},
     "output_type": "execute_result"
    }
   ],
   "source": [
    "y1h = load_y1h_pdi_data()\n",
    "y1h['family'] = y1h['gene_symbol'].map(fam)\n",
    "y1h['family_renamed'] = y1h.apply(rename_family, axis=1)\n",
    "y1h.sample(5)"
   ]
  },
  {
   "cell_type": "code",
   "execution_count": 41,
   "metadata": {},
   "outputs": [
    {
     "name": "stdout",
     "output_type": "stream",
     "text": [
      "189\n",
      "189\n"
     ]
    }
   ],
   "source": [
    "baits = [x for x in y1h.columns if x not in ['gene_symbol', 'clone_acc', 'family', 'family_renamed']]\n",
    "y1h['any_true'] = y1h[baits].sum(axis=1)\n",
    "y1h['all_na'] = y1h[baits].isnull().values.all()\n",
    "\n",
    "# remove any rows with allna values\n",
    "print(len(y1h))\n",
    "y1h = y1h[~y1h['all_na']]\n",
    "print(len(y1h))"
   ]
  },
  {
   "cell_type": "code",
   "execution_count": 42,
   "metadata": {},
   "outputs": [],
   "source": [
    "y1h_vc = y1h.groupby(\"family_renamed\")[\"clone_acc\"].agg(\"count\").reset_index()\n",
    "y1h_vc.columns = [\"family_renamed\", \"isoform\"]\n",
    "y1h_vc[\"source\"] = \"Y1H (all)\""
   ]
  },
  {
   "cell_type": "code",
   "execution_count": 43,
   "metadata": {},
   "outputs": [],
   "source": [
    "y1h_any_vc = y1h[y1h['any_true'] > 0].groupby(\"family_renamed\")[\"clone_acc\"].agg(\"count\").reset_index()\n",
    "y1h_any_vc.columns = [\"family_renamed\", \"isoform\"]\n",
    "y1h_any_vc[\"source\"] = \"Y1H (≥1 PDI)\""
   ]
  },
  {
   "cell_type": "code",
   "execution_count": 44,
   "metadata": {},
   "outputs": [
    {
     "name": "stdout",
     "output_type": "stream",
     "text": [
      "3807\n",
      "3736\n"
     ]
    }
   ],
   "source": [
    "y2h = load_y2h_isoform_data(require_at_least_one_ppi_per_isoform=False)\n",
    "y2h['family'] = y2h['ad_gene_symbol'].map(fam)\n",
    "y2h['family_renamed'] = y2h.apply(rename_family, axis=1)\n",
    "\n",
    "# remove any rows with na values\n",
    "print(len(y2h))\n",
    "y2h = y2h[~pd.isnull(y2h['Y2H_result'])]\n",
    "print(len(y2h))"
   ]
  },
  {
   "cell_type": "code",
   "execution_count": 45,
   "metadata": {},
   "outputs": [],
   "source": [
    "y2h_vc = y2h.groupby(\"family_renamed\")[\"ad_clone_acc\"].agg(\"count\").reset_index()\n",
    "y2h_vc.columns = [\"family_renamed\", \"isoform\"]\n",
    "y2h_vc[\"source\"] = \"Y2H (all)\""
   ]
  },
  {
   "cell_type": "code",
   "execution_count": 46,
   "metadata": {},
   "outputs": [],
   "source": [
    "y2h_any_vc = y2h[y2h[\"Y2H_result\"] == True].groupby(\"family_renamed\")[\"ad_clone_acc\"].agg(\"count\").reset_index()\n",
    "y2h_any_vc.columns = [\"family_renamed\", \"isoform\"]\n",
    "y2h_any_vc[\"source\"] = \"Y2H (≥1 PPI)\""
   ]
  },
  {
   "cell_type": "code",
   "execution_count": 47,
   "metadata": {},
   "outputs": [
    {
     "data": {
      "text/html": [
       "<div>\n",
       "<style scoped>\n",
       "    .dataframe tbody tr th:only-of-type {\n",
       "        vertical-align: middle;\n",
       "    }\n",
       "\n",
       "    .dataframe tbody tr th {\n",
       "        vertical-align: top;\n",
       "    }\n",
       "\n",
       "    .dataframe thead th {\n",
       "        text-align: right;\n",
       "    }\n",
       "</style>\n",
       "<table border=\"1\" class=\"dataframe\">\n",
       "  <thead>\n",
       "    <tr style=\"text-align: right;\">\n",
       "      <th></th>\n",
       "      <th>gene_symbol</th>\n",
       "      <th>clone_acc</th>\n",
       "      <th>M1H_rep1</th>\n",
       "      <th>M1H_rep2</th>\n",
       "      <th>M1H_rep3</th>\n",
       "      <th>M1H_mean</th>\n",
       "      <th>family</th>\n",
       "      <th>family_renamed</th>\n",
       "    </tr>\n",
       "  </thead>\n",
       "  <tbody>\n",
       "    <tr>\n",
       "      <th>563</th>\n",
       "      <td>ZNF302</td>\n",
       "      <td>ZNF302|2/5|06B07</td>\n",
       "      <td>-0.116578</td>\n",
       "      <td>-0.504745</td>\n",
       "      <td>-0.645729</td>\n",
       "      <td>-0.422351</td>\n",
       "      <td>C2H2 ZF</td>\n",
       "      <td>C2H2 ZF</td>\n",
       "    </tr>\n",
       "    <tr>\n",
       "      <th>179</th>\n",
       "      <td>RARG</td>\n",
       "      <td>RARG|2/2|08C10</td>\n",
       "      <td>2.745829</td>\n",
       "      <td>2.972699</td>\n",
       "      <td>2.820059</td>\n",
       "      <td>2.846196</td>\n",
       "      <td>Nuclear receptor</td>\n",
       "      <td>Nuclear receptor</td>\n",
       "    </tr>\n",
       "    <tr>\n",
       "      <th>405</th>\n",
       "      <td>HMG20A</td>\n",
       "      <td>HMG20A|2/2|05C08</td>\n",
       "      <td>0.835396</td>\n",
       "      <td>0.596868</td>\n",
       "      <td>0.667953</td>\n",
       "      <td>0.700072</td>\n",
       "      <td>HMG/Sox</td>\n",
       "      <td>Other</td>\n",
       "    </tr>\n",
       "    <tr>\n",
       "      <th>214</th>\n",
       "      <td>TBPL1</td>\n",
       "      <td>TBPL1|2/2|04A07</td>\n",
       "      <td>0.179633</td>\n",
       "      <td>0.217511</td>\n",
       "      <td>0.340948</td>\n",
       "      <td>0.246030</td>\n",
       "      <td>TBP</td>\n",
       "      <td>Other</td>\n",
       "    </tr>\n",
       "    <tr>\n",
       "      <th>298</th>\n",
       "      <td>ZNF18</td>\n",
       "      <td>ZNF18|2/3|07H02</td>\n",
       "      <td>2.978433</td>\n",
       "      <td>3.018980</td>\n",
       "      <td>2.950922</td>\n",
       "      <td>2.982778</td>\n",
       "      <td>C2H2 ZF</td>\n",
       "      <td>C2H2 ZF</td>\n",
       "    </tr>\n",
       "  </tbody>\n",
       "</table>\n",
       "</div>"
      ],
      "text/plain": [
       "    gene_symbol         clone_acc  M1H_rep1  M1H_rep2  M1H_rep3  M1H_mean  \\\n",
       "563      ZNF302  ZNF302|2/5|06B07 -0.116578 -0.504745 -0.645729 -0.422351   \n",
       "179        RARG    RARG|2/2|08C10  2.745829  2.972699  2.820059  2.846196   \n",
       "405      HMG20A  HMG20A|2/2|05C08  0.835396  0.596868  0.667953  0.700072   \n",
       "214       TBPL1   TBPL1|2/2|04A07  0.179633  0.217511  0.340948  0.246030   \n",
       "298       ZNF18   ZNF18|2/3|07H02  2.978433  3.018980  2.950922  2.982778   \n",
       "\n",
       "               family    family_renamed  \n",
       "563           C2H2 ZF           C2H2 ZF  \n",
       "179  Nuclear receptor  Nuclear receptor  \n",
       "405           HMG/Sox             Other  \n",
       "214               TBP             Other  \n",
       "298           C2H2 ZF           C2H2 ZF  "
      ]
     },
     "execution_count": 47,
     "metadata": {},
     "output_type": "execute_result"
    }
   ],
   "source": [
    "m1h = load_m1h_activation_data()\n",
    "m1h['M1H_mean'] = m1h[['M1H_rep1', 'M1H_rep2', 'M1H_rep3']].mean(axis=1)\n",
    "m1h['family'] = m1h['gene_symbol'].map(fam)\n",
    "m1h['family_renamed'] = m1h.apply(rename_family, axis=1)\n",
    "m1h.sample(5)"
   ]
  },
  {
   "cell_type": "code",
   "execution_count": 48,
   "metadata": {},
   "outputs": [],
   "source": [
    "m1h_vc = m1h.groupby(\"family_renamed\")[\"clone_acc\"].agg(\"count\").reset_index()\n",
    "m1h_vc.columns = [\"family_renamed\", \"isoform\"]\n",
    "m1h_vc[\"source\"] = \"M1H (all)\""
   ]
  },
  {
   "cell_type": "code",
   "execution_count": 49,
   "metadata": {},
   "outputs": [],
   "source": [
    "m1h_any_vc = m1h[m1h[\"M1H_mean\"].abs() > 1].groupby(\"family_renamed\")[\"clone_acc\"].agg(\"count\").reset_index()\n",
    "m1h_any_vc.columns = [\"family_renamed\", \"isoform\"]\n",
    "m1h_any_vc[\"source\"] = \"M1H (≥2-fold activ.)\""
   ]
  },
  {
   "cell_type": "code",
   "execution_count": 50,
   "metadata": {},
   "outputs": [
    {
     "data": {
      "text/html": [
       "<div>\n",
       "<style scoped>\n",
       "    .dataframe tbody tr th:only-of-type {\n",
       "        vertical-align: middle;\n",
       "    }\n",
       "\n",
       "    .dataframe tbody tr th {\n",
       "        vertical-align: top;\n",
       "    }\n",
       "\n",
       "    .dataframe thead th {\n",
       "        text-align: right;\n",
       "    }\n",
       "</style>\n",
       "<table border=\"1\" class=\"dataframe\">\n",
       "  <thead>\n",
       "    <tr style=\"text-align: right;\">\n",
       "      <th></th>\n",
       "      <th>family_renamed</th>\n",
       "      <th>isoform</th>\n",
       "      <th>source</th>\n",
       "    </tr>\n",
       "  </thead>\n",
       "  <tbody>\n",
       "    <tr>\n",
       "      <th>0</th>\n",
       "      <td>C2H2 ZF</td>\n",
       "      <td>1840</td>\n",
       "      <td>GENCODE</td>\n",
       "    </tr>\n",
       "    <tr>\n",
       "      <th>1</th>\n",
       "      <td>Ets</td>\n",
       "      <td>89</td>\n",
       "      <td>GENCODE</td>\n",
       "    </tr>\n",
       "    <tr>\n",
       "      <th>2</th>\n",
       "      <td>Forkhead</td>\n",
       "      <td>97</td>\n",
       "      <td>GENCODE</td>\n",
       "    </tr>\n",
       "    <tr>\n",
       "      <th>3</th>\n",
       "      <td>Homeodomain</td>\n",
       "      <td>350</td>\n",
       "      <td>GENCODE</td>\n",
       "    </tr>\n",
       "    <tr>\n",
       "      <th>4</th>\n",
       "      <td>Nuclear receptor</td>\n",
       "      <td>176</td>\n",
       "      <td>GENCODE</td>\n",
       "    </tr>\n",
       "    <tr>\n",
       "      <th>...</th>\n",
       "      <td>...</td>\n",
       "      <td>...</td>\n",
       "      <td>...</td>\n",
       "    </tr>\n",
       "    <tr>\n",
       "      <th>3</th>\n",
       "      <td>Homeodomain</td>\n",
       "      <td>36</td>\n",
       "      <td>M1H (≥2-fold activ.)</td>\n",
       "    </tr>\n",
       "    <tr>\n",
       "      <th>4</th>\n",
       "      <td>Nuclear receptor</td>\n",
       "      <td>32</td>\n",
       "      <td>M1H (≥2-fold activ.)</td>\n",
       "    </tr>\n",
       "    <tr>\n",
       "      <th>5</th>\n",
       "      <td>Other</td>\n",
       "      <td>98</td>\n",
       "      <td>M1H (≥2-fold activ.)</td>\n",
       "    </tr>\n",
       "    <tr>\n",
       "      <th>6</th>\n",
       "      <td>bHLH</td>\n",
       "      <td>32</td>\n",
       "      <td>M1H (≥2-fold activ.)</td>\n",
       "    </tr>\n",
       "    <tr>\n",
       "      <th>7</th>\n",
       "      <td>bZIP</td>\n",
       "      <td>15</td>\n",
       "      <td>M1H (≥2-fold activ.)</td>\n",
       "    </tr>\n",
       "  </tbody>\n",
       "</table>\n",
       "<p>64 rows × 3 columns</p>\n",
       "</div>"
      ],
      "text/plain": [
       "      family_renamed  isoform                source\n",
       "0            C2H2 ZF     1840               GENCODE\n",
       "1                Ets       89               GENCODE\n",
       "2           Forkhead       97               GENCODE\n",
       "3        Homeodomain      350               GENCODE\n",
       "4   Nuclear receptor      176               GENCODE\n",
       "..               ...      ...                   ...\n",
       "3        Homeodomain       36  M1H (≥2-fold activ.)\n",
       "4   Nuclear receptor       32  M1H (≥2-fold activ.)\n",
       "5              Other       98  M1H (≥2-fold activ.)\n",
       "6               bHLH       32  M1H (≥2-fold activ.)\n",
       "7               bZIP       15  M1H (≥2-fold activ.)\n",
       "\n",
       "[64 rows x 3 columns]"
      ]
     },
     "execution_count": 50,
     "metadata": {},
     "output_type": "execute_result"
    }
   ],
   "source": [
    "mrg_vc = genc_vc.append(clone_vc)\n",
    "mrg_vc = mrg_vc.append(y1h_vc).append(y1h_any_vc)\n",
    "mrg_vc = mrg_vc.append(y2h_vc).append(y2h_any_vc)\n",
    "mrg_vc = mrg_vc.append(m1h_vc).append(m1h_any_vc)\n",
    "mrg_vc"
   ]
  },
  {
   "cell_type": "code",
   "execution_count": 51,
   "metadata": {},
   "outputs": [
    {
     "data": {
      "text/html": [
       "<div>\n",
       "<style scoped>\n",
       "    .dataframe tbody tr th:only-of-type {\n",
       "        vertical-align: middle;\n",
       "    }\n",
       "\n",
       "    .dataframe tbody tr th {\n",
       "        vertical-align: top;\n",
       "    }\n",
       "\n",
       "    .dataframe thead th {\n",
       "        text-align: right;\n",
       "    }\n",
       "</style>\n",
       "<table border=\"1\" class=\"dataframe\">\n",
       "  <thead>\n",
       "    <tr style=\"text-align: right;\">\n",
       "      <th>family_renamed</th>\n",
       "      <th>source</th>\n",
       "      <th>Other</th>\n",
       "      <th>Ets</th>\n",
       "      <th>Forkhead</th>\n",
       "      <th>bZIP</th>\n",
       "      <th>Nuclear receptor</th>\n",
       "      <th>bHLH</th>\n",
       "      <th>Homeodomain</th>\n",
       "      <th>C2H2 ZF</th>\n",
       "    </tr>\n",
       "  </thead>\n",
       "  <tbody>\n",
       "    <tr>\n",
       "      <th>0</th>\n",
       "      <td>GENCODE</td>\n",
       "      <td>28.450772</td>\n",
       "      <td>2.147683</td>\n",
       "      <td>2.340734</td>\n",
       "      <td>3.595560</td>\n",
       "      <td>4.247104</td>\n",
       "      <td>6.370656</td>\n",
       "      <td>8.445946</td>\n",
       "      <td>44.401544</td>\n",
       "    </tr>\n",
       "    <tr>\n",
       "      <th>1</th>\n",
       "      <td>TFIso1.0</td>\n",
       "      <td>25.925926</td>\n",
       "      <td>3.968254</td>\n",
       "      <td>2.248677</td>\n",
       "      <td>3.835979</td>\n",
       "      <td>7.142857</td>\n",
       "      <td>7.936508</td>\n",
       "      <td>8.465608</td>\n",
       "      <td>40.476190</td>\n",
       "    </tr>\n",
       "    <tr>\n",
       "      <th>2</th>\n",
       "      <td>Y1H (all)</td>\n",
       "      <td>36.507937</td>\n",
       "      <td>3.174603</td>\n",
       "      <td>4.232804</td>\n",
       "      <td>1.058201</td>\n",
       "      <td>11.111111</td>\n",
       "      <td>9.523810</td>\n",
       "      <td>17.989418</td>\n",
       "      <td>16.402116</td>\n",
       "    </tr>\n",
       "    <tr>\n",
       "      <th>3</th>\n",
       "      <td>Y1H (≥1 PDI)</td>\n",
       "      <td>34.108527</td>\n",
       "      <td>2.325581</td>\n",
       "      <td>3.875969</td>\n",
       "      <td>0.775194</td>\n",
       "      <td>15.503876</td>\n",
       "      <td>9.302326</td>\n",
       "      <td>18.604651</td>\n",
       "      <td>15.503876</td>\n",
       "    </tr>\n",
       "    <tr>\n",
       "      <th>4</th>\n",
       "      <td>Y2H (all)</td>\n",
       "      <td>12.580300</td>\n",
       "      <td>0.160600</td>\n",
       "      <td>2.408994</td>\n",
       "      <td>3.158458</td>\n",
       "      <td>3.158458</td>\n",
       "      <td>38.436831</td>\n",
       "      <td>12.740899</td>\n",
       "      <td>27.355460</td>\n",
       "    </tr>\n",
       "    <tr>\n",
       "      <th>5</th>\n",
       "      <td>Y2H (≥1 PPI)</td>\n",
       "      <td>14.667897</td>\n",
       "      <td>0.092251</td>\n",
       "      <td>2.260148</td>\n",
       "      <td>3.551661</td>\n",
       "      <td>3.690037</td>\n",
       "      <td>48.016605</td>\n",
       "      <td>10.977860</td>\n",
       "      <td>16.743542</td>\n",
       "    </tr>\n",
       "    <tr>\n",
       "      <th>6</th>\n",
       "      <td>M1H (all)</td>\n",
       "      <td>25.562701</td>\n",
       "      <td>3.376206</td>\n",
       "      <td>2.733119</td>\n",
       "      <td>4.019293</td>\n",
       "      <td>7.717042</td>\n",
       "      <td>7.395498</td>\n",
       "      <td>9.324759</td>\n",
       "      <td>39.871383</td>\n",
       "    </tr>\n",
       "    <tr>\n",
       "      <th>7</th>\n",
       "      <td>M1H (≥2-fold activ.)</td>\n",
       "      <td>26.702997</td>\n",
       "      <td>4.632153</td>\n",
       "      <td>3.269755</td>\n",
       "      <td>4.087193</td>\n",
       "      <td>8.719346</td>\n",
       "      <td>8.719346</td>\n",
       "      <td>9.809264</td>\n",
       "      <td>34.059946</td>\n",
       "    </tr>\n",
       "  </tbody>\n",
       "</table>\n",
       "</div>"
      ],
      "text/plain": [
       "family_renamed                source      Other       Ets  Forkhead      bZIP  \\\n",
       "0                            GENCODE  28.450772  2.147683  2.340734  3.595560   \n",
       "1                           TFIso1.0  25.925926  3.968254  2.248677  3.835979   \n",
       "2                          Y1H (all)  36.507937  3.174603  4.232804  1.058201   \n",
       "3                       Y1H (≥1 PDI)  34.108527  2.325581  3.875969  0.775194   \n",
       "4                          Y2H (all)  12.580300  0.160600  2.408994  3.158458   \n",
       "5                       Y2H (≥1 PPI)  14.667897  0.092251  2.260148  3.551661   \n",
       "6                          M1H (all)  25.562701  3.376206  2.733119  4.019293   \n",
       "7               M1H (≥2-fold activ.)  26.702997  4.632153  3.269755  4.087193   \n",
       "\n",
       "family_renamed  Nuclear receptor       bHLH  Homeodomain    C2H2 ZF  \n",
       "0                       4.247104   6.370656     8.445946  44.401544  \n",
       "1                       7.142857   7.936508     8.465608  40.476190  \n",
       "2                      11.111111   9.523810    17.989418  16.402116  \n",
       "3                      15.503876   9.302326    18.604651  15.503876  \n",
       "4                       3.158458  38.436831    12.740899  27.355460  \n",
       "5                       3.690037  48.016605    10.977860  16.743542  \n",
       "6                       7.717042   7.395498     9.324759  39.871383  \n",
       "7                       8.719346   8.719346     9.809264  34.059946  "
      ]
     },
     "execution_count": 51,
     "metadata": {},
     "output_type": "execute_result"
    }
   ],
   "source": [
    "mrg_piv = pd.pivot_table(mrg_vc, values=\"isoform\", columns=\"source\", index=\"family_renamed\")\n",
    "mrg_piv = mrg_piv.fillna(0)\n",
    "mrg_piv = (mrg_piv/mrg_piv.sum(axis=0))*100\n",
    "mrg_piv = mrg_piv.T\n",
    "mrg_piv = mrg_piv.reindex([\"GENCODE\", \"TFIso1.0\", \"Y1H (all)\", \"Y1H (≥1 PDI)\",\n",
    "                           \"Y2H (all)\", \"Y2H (≥1 PPI)\", \"M1H (all)\", \"M1H (≥2-fold activ.)\"])\n",
    "mrg_piv = mrg_piv.reset_index()\n",
    "\n",
    "mrg_piv = mrg_piv[[\"source\", \"Other\", \"Ets\", \"Forkhead\", \"bZIP\", \"Nuclear receptor\",\n",
    "                   \"bHLH\", \"Homeodomain\", \"C2H2 ZF\"]]\n",
    "mrg_piv"
   ]
  },
  {
   "cell_type": "code",
   "execution_count": 52,
   "metadata": {},
   "outputs": [
    {
     "data": {
      "image/png": "[encoded data removed]",
      "text/plain": [
       "<Figure size 576x72 with 1 Axes>"
      ]
     },
     "metadata": {},
     "output_type": "display_data"
    }
   ],
   "source": [
    "colors = met_brewer.met_brew(name=\"Hokusai1\")\n",
    "colors.append(\"lightgrey\")\n",
    "colors = colors[::-1]\n",
    "#colors[7] = \"lightgrey\"\n",
    "sns.palplot(colors)"
   ]
  },
  {
   "cell_type": "code",
   "execution_count": 53,
   "metadata": {},
   "outputs": [
    {
     "data": {
      "image/png": "[encoded data removed]",
      "text/plain": [
       "<Figure size 144x144 with 1 Axes>"
      ]
     },
     "metadata": {},
     "output_type": "display_data"
    }
   ],
   "source": [
    "ax = mrg_piv.plot.bar(x=\"source\", stacked=True, color=colors, figsize=(2, 2))\n",
    "\n",
    "ax.set_ylabel(\"% of isoforms\")\n",
    "ax.set_xlabel(\"\")\n",
    "\n",
    "plt.legend()\n",
    "handles, labels = ax.get_legend_handles_labels()\n",
    "ax.legend(reversed(handles), reversed(labels), loc=2, bbox_to_anchor=(1.01, 1))\n",
    "\n",
    "plt.savefig('../../figures/fig2/assay_families.detailed.pdf',\n",
    "            bbox_inches='tight')"
   ]
  },
  {
   "cell_type": "code",
   "execution_count": 54,
   "metadata": {},
   "outputs": [
    {
     "data": {
      "image/png": "[encoded data removed]",
      "text/plain": [
       "<Figure size 79.2x108 with 1 Axes>"
      ]
     },
     "metadata": {},
     "output_type": "display_data"
    }
   ],
   "source": [
    "ax = mrg_piv[mrg_piv[\"source\"].isin([\"GENCODE\", \"TFIso1.0\", \"Y1H (all)\",\n",
    "                  \"Y2H (all)\", \"M1H (all)\"])].plot.bar(x=\"source\", stacked=True, color=colors, figsize=(1.1, 1.5))\n",
    "\n",
    "ax.set_ylabel(\"% of isoforms\")\n",
    "ax.set_xlabel(\"\")\n",
    "\n",
    "plt.legend()\n",
    "handles, labels = ax.get_legend_handles_labels()\n",
    "ax.legend(reversed(handles), reversed(labels), loc=2, bbox_to_anchor=(1.01, 1), borderpad=0.25,\n",
    "          handlelength=1, handletextpad=0.2)\n",
    "\n",
    "plt.savefig('../../figures/fig2/assay_families.pdf',\n",
    "            bbox_inches='tight')"
   ]
  },
  {
   "cell_type": "markdown",
   "metadata": {},
   "source": [
    "## 5. print number of genes/isos in each category for use in schematic figs/text"
   ]
  },
  {
   "cell_type": "code",
   "execution_count": 55,
   "metadata": {},
   "outputs": [
    {
     "name": "stdout",
     "output_type": "stream",
     "text": [
      "total # of isos in collection\n"
     ]
    },
    {
     "data": {
      "text/plain": [
       "756"
      ]
     },
     "execution_count": 55,
     "metadata": {},
     "output_type": "execute_result"
    }
   ],
   "source": [
    "print(\"total # of isos in collection\")\n",
    "len(clone_df)"
   ]
  },
  {
   "cell_type": "code",
   "execution_count": 56,
   "metadata": {},
   "outputs": [
    {
     "name": "stdout",
     "output_type": "stream",
     "text": [
      "total # of unique TF genes in collection\n"
     ]
    },
    {
     "data": {
      "text/plain": [
       "309"
      ]
     },
     "execution_count": 56,
     "metadata": {},
     "output_type": "execute_result"
    }
   ],
   "source": [
    "print(\"total # of unique TF genes in collection\")\n",
    "len(clone_df.gene.unique())"
   ]
  },
  {
   "cell_type": "code",
   "execution_count": 57,
   "metadata": {},
   "outputs": [
    {
     "name": "stdout",
     "output_type": "stream",
     "text": [
      "total # of isos tested in Y1H\n"
     ]
    },
    {
     "data": {
      "text/plain": [
       "189"
      ]
     },
     "execution_count": 57,
     "metadata": {},
     "output_type": "execute_result"
    }
   ],
   "source": [
    "print(\"total # of isos tested in Y1H\")\n",
    "len(y1h)"
   ]
  },
  {
   "cell_type": "code",
   "execution_count": 58,
   "metadata": {},
   "outputs": [
    {
     "name": "stdout",
     "output_type": "stream",
     "text": [
      "total # of unique TF genes tested in Y1H\n"
     ]
    },
    {
     "data": {
      "text/plain": [
       "97"
      ]
     },
     "execution_count": 58,
     "metadata": {},
     "output_type": "execute_result"
    }
   ],
   "source": [
    "print(\"total # of unique TF genes tested in Y1H\")\n",
    "len(y1h.gene_symbol.unique())"
   ]
  },
  {
   "cell_type": "code",
   "execution_count": 59,
   "metadata": {},
   "outputs": [
    {
     "name": "stdout",
     "output_type": "stream",
     "text": [
      "total # of baits tested in Y1H\n"
     ]
    },
    {
     "data": {
      "text/plain": [
       "191"
      ]
     },
     "execution_count": 59,
     "metadata": {},
     "output_type": "execute_result"
    }
   ],
   "source": [
    "print(\"total # of baits tested in Y1H\")\n",
    "len(baits)"
   ]
  },
  {
   "cell_type": "code",
   "execution_count": 60,
   "metadata": {},
   "outputs": [
    {
     "name": "stdout",
     "output_type": "stream",
     "text": [
      "total # of isos with at least 1 interaction in Y1H\n"
     ]
    },
    {
     "data": {
      "text/plain": [
       "129"
      ]
     },
     "execution_count": 60,
     "metadata": {},
     "output_type": "execute_result"
    }
   ],
   "source": [
    "print(\"total # of isos with at least 1 interaction in Y1H\")\n",
    "len(y1h[y1h['any_true'] > 0])"
   ]
  },
  {
   "cell_type": "code",
   "execution_count": 61,
   "metadata": {},
   "outputs": [
    {
     "name": "stdout",
     "output_type": "stream",
     "text": [
      "total # of unique TF genes with at least 1 interaction in Y1H\n"
     ]
    },
    {
     "data": {
      "text/plain": [
       "83"
      ]
     },
     "execution_count": 61,
     "metadata": {},
     "output_type": "execute_result"
    }
   ],
   "source": [
    "print(\"total # of unique TF genes with at least 1 interaction in Y1H\")\n",
    "len(y1h[y1h['any_true'] > 0].gene_symbol.unique())"
   ]
  },
  {
   "cell_type": "code",
   "execution_count": 62,
   "metadata": {},
   "outputs": [
    {
     "name": "stdout",
     "output_type": "stream",
     "text": [
      "total # of isos tested in Y2H\n"
     ]
    },
    {
     "data": {
      "text/plain": [
       "255"
      ]
     },
     "execution_count": 62,
     "metadata": {},
     "output_type": "execute_result"
    }
   ],
   "source": [
    "print(\"total # of isos tested in Y2H\")\n",
    "len(y2h.ad_clone_acc.unique())"
   ]
  },
  {
   "cell_type": "code",
   "execution_count": 63,
   "metadata": {},
   "outputs": [
    {
     "name": "stdout",
     "output_type": "stream",
     "text": [
      "total # of unique TF genes tested in Y2H\n"
     ]
    },
    {
     "data": {
      "text/plain": [
       "88"
      ]
     },
     "execution_count": 63,
     "metadata": {},
     "output_type": "execute_result"
    }
   ],
   "source": [
    "print(\"total # of unique TF genes tested in Y2H\")\n",
    "len(y2h.ad_gene_symbol.unique())"
   ]
  },
  {
   "cell_type": "code",
   "execution_count": 64,
   "metadata": {},
   "outputs": [
    {
     "name": "stdout",
     "output_type": "stream",
     "text": [
      "total # of partners tested in Y2H\n"
     ]
    },
    {
     "data": {
      "text/plain": [
       "536"
      ]
     },
     "execution_count": 64,
     "metadata": {},
     "output_type": "execute_result"
    }
   ],
   "source": [
    "print(\"total # of partners tested in Y2H\")\n",
    "len(y2h.db_gene_symbol.unique())"
   ]
  },
  {
   "cell_type": "code",
   "execution_count": 65,
   "metadata": {},
   "outputs": [
    {
     "name": "stdout",
     "output_type": "stream",
     "text": [
      "total # of isos with at least 1 interaction in Y2H\n"
     ]
    },
    {
     "data": {
      "text/plain": [
       "191"
      ]
     },
     "execution_count": 65,
     "metadata": {},
     "output_type": "execute_result"
    }
   ],
   "source": [
    "print(\"total # of isos with at least 1 interaction in Y2H\")\n",
    "len(y2h[y2h[\"Y2H_result\"] == True].ad_clone_acc.unique())"
   ]
  },
  {
   "cell_type": "code",
   "execution_count": 66,
   "metadata": {},
   "outputs": [
    {
     "name": "stdout",
     "output_type": "stream",
     "text": [
      "total # of unique TF genes with at least 1 interaction in Y2H\n"
     ]
    },
    {
     "data": {
      "text/plain": [
       "88"
      ]
     },
     "execution_count": 66,
     "metadata": {},
     "output_type": "execute_result"
    }
   ],
   "source": [
    "print(\"total # of unique TF genes with at least 1 interaction in Y2H\")\n",
    "len(y2h[y2h[\"Y2H_result\"] == True].ad_gene_symbol.unique())"
   ]
  },
  {
   "cell_type": "code",
   "execution_count": 67,
   "metadata": {},
   "outputs": [
    {
     "name": "stdout",
     "output_type": "stream",
     "text": [
      "total # of isos tested in M1H\n"
     ]
    },
    {
     "data": {
      "text/plain": [
       "622"
      ]
     },
     "execution_count": 67,
     "metadata": {},
     "output_type": "execute_result"
    }
   ],
   "source": [
    "print(\"total # of isos tested in M1H\")\n",
    "len(m1h.clone_acc.unique())"
   ]
  },
  {
   "cell_type": "code",
   "execution_count": 68,
   "metadata": {},
   "outputs": [
    {
     "name": "stdout",
     "output_type": "stream",
     "text": [
      "total # of unique TF genes tested in M1H\n"
     ]
    },
    {
     "data": {
      "text/plain": [
       "264"
      ]
     },
     "execution_count": 68,
     "metadata": {},
     "output_type": "execute_result"
    }
   ],
   "source": [
    "print(\"total # of unique TF genes tested in M1H\")\n",
    "len(m1h.gene_symbol.unique())"
   ]
  },
  {
   "cell_type": "code",
   "execution_count": 69,
   "metadata": {},
   "outputs": [
    {
     "name": "stdout",
     "output_type": "stream",
     "text": [
      "total # of isos with activity in M1H (abs > 1)\n"
     ]
    },
    {
     "data": {
      "text/plain": [
       "367"
      ]
     },
     "execution_count": 69,
     "metadata": {},
     "output_type": "execute_result"
    }
   ],
   "source": [
    "print(\"total # of isos with activity in M1H (abs > 1)\")\n",
    "len(m1h[m1h[\"M1H_mean\"].abs() > 1].clone_acc.unique())"
   ]
  },
  {
   "cell_type": "code",
   "execution_count": 70,
   "metadata": {},
   "outputs": [
    {
     "name": "stdout",
     "output_type": "stream",
     "text": [
      "total # of unique TF genes with activity in M1H (abs > 1)\n"
     ]
    },
    {
     "data": {
      "text/plain": [
       "189"
      ]
     },
     "execution_count": 70,
     "metadata": {},
     "output_type": "execute_result"
    }
   ],
   "source": [
    "print(\"total # of unique TF genes with activity in M1H (abs > 1)\")\n",
    "len(m1h[m1h[\"M1H_mean\"].abs() > 1].gene_symbol.unique())"
   ]
  },
  {
   "cell_type": "code",
   "execution_count": 71,
   "metadata": {},
   "outputs": [
    {
     "data": {
      "text/plain": [
       "{'E2F3',\n",
       " 'ESRRG',\n",
       " 'FOXJ2',\n",
       " 'GMEB1',\n",
       " 'HNF4A',\n",
       " 'LHX6',\n",
       " 'LHX9',\n",
       " 'MEIS1',\n",
       " 'MEIS2',\n",
       " 'MEOX1',\n",
       " 'NFIA',\n",
       " 'NFIX',\n",
       " 'NR4A2',\n",
       " 'PATZ1',\n",
       " 'PAX5',\n",
       " 'PBX1',\n",
       " 'PKNOX1',\n",
       " 'PPARG',\n",
       " 'PRRX1',\n",
       " 'RARG',\n",
       " 'RBPJ',\n",
       " 'RFX4',\n",
       " 'STAT3',\n",
       " 'TCF12',\n",
       " 'TCF4',\n",
       " 'WT1',\n",
       " 'ZBTB18',\n",
       " 'ZNF143',\n",
       " 'ZNF18'}"
      ]
     },
     "execution_count": 71,
     "metadata": {},
     "output_type": "execute_result"
    }
   ],
   "source": [
    "all_3 = set(m1h[m1h[\"M1H_mean\"].abs() > 1].gene_symbol.unique()).intersection(set(y2h[y2h[\"Y2H_result\"] == True].ad_gene_symbol.unique())).intersection(set(y1h[y1h['any_true'] > 0].gene_symbol.unique()))\n",
    "all_3"
   ]
  },
  {
   "cell_type": "markdown",
   "metadata": {},
   "source": [
    "## 6. compare novel isoform performance in assay to annotated ref/alt"
   ]
  },
  {
   "cell_type": "code",
   "execution_count": 72,
   "metadata": {},
   "outputs": [],
   "source": [
    "mane_select_clones = {tf.MANE_select_isoform.clone_acc for tf in clone_tfs.values() \n",
    "                      if tf.cloned_MANE_select_isoform}"
   ]
  },
  {
   "cell_type": "code",
   "execution_count": 73,
   "metadata": {},
   "outputs": [],
   "source": [
    "iso = load_valid_isoform_clones()\n",
    "iso['is_longest_isoform'] = iso['clone_acc'].isin(iso.sort_values('num_aa', \n",
    "                                                                  ascending=False).groupby('gene_symbol').nth(0)['clone_acc'].values)\n",
    "iso['category'] = 'alternative'\n",
    "iso.loc[iso['clone_acc'].isin(mane_select_clones), 'category'] = 'reference'\n",
    "iso.loc[iso['is_novel_isoform'], 'category'] = 'novel'"
   ]
  },
  {
   "cell_type": "code",
   "execution_count": 74,
   "metadata": {},
   "outputs": [
    {
     "data": {
      "text/plain": [
       "310"
      ]
     },
     "execution_count": 74,
     "metadata": {},
     "output_type": "execute_result"
    }
   ],
   "source": [
    "len(iso['gene_symbol'].unique())"
   ]
  },
  {
   "cell_type": "code",
   "execution_count": 75,
   "metadata": {},
   "outputs": [
    {
     "data": {
      "text/plain": [
       "195"
      ]
     },
     "execution_count": 75,
     "metadata": {},
     "output_type": "execute_result"
    }
   ],
   "source": [
    "genes_w_ref = list(iso[iso['category'] == 'reference']['gene_symbol'].unique())\n",
    "len(genes_w_ref)"
   ]
  },
  {
   "cell_type": "code",
   "execution_count": 76,
   "metadata": {},
   "outputs": [
    {
     "data": {
      "text/plain": [
       "493"
      ]
     },
     "execution_count": 76,
     "metadata": {},
     "output_type": "execute_result"
    }
   ],
   "source": [
    "# subset iso df to only genes w MANE select isoform\n",
    "iso_sub = iso[iso['gene_symbol'].isin(genes_w_ref)]\n",
    "len(iso_sub)"
   ]
  },
  {
   "cell_type": "code",
   "execution_count": 77,
   "metadata": {},
   "outputs": [
    {
     "name": "stderr",
     "output_type": "stream",
     "text": [
      "/PHShome/kz659/.conda/envs/py36/lib/python3.6/site-packages/ipykernel_launcher.py:1: SettingWithCopyWarning: \n",
      "A value is trying to be set on a copy of a slice from a DataFrame.\n",
      "Try using .loc[row_indexer,col_indexer] = value instead\n",
      "\n",
      "See the caveats in the documentation: https://pandas.pydata.org/pandas-docs/stable/user_guide/indexing.html#returning-a-view-versus-a-copy\n",
      "  \"\"\"Entry point for launching an IPython kernel.\n"
     ]
    }
   ],
   "source": [
    "iso_sub['valid_ppi_test'] = iso['clone_acc'].map(y2h.groupby('ad_clone_acc').apply(lambda rows: ((rows['Y2H_result'] == True) |\n",
    "                                                                                                 (rows['Y2H_result'] == False))\n",
    "                                                                                                 .any()))"
   ]
  },
  {
   "cell_type": "code",
   "execution_count": 78,
   "metadata": {},
   "outputs": [
    {
     "name": "stderr",
     "output_type": "stream",
     "text": [
      "/PHShome/kz659/.conda/envs/py36/lib/python3.6/site-packages/ipykernel_launcher.py:1: SettingWithCopyWarning: \n",
      "A value is trying to be set on a copy of a slice from a DataFrame.\n",
      "Try using .loc[row_indexer,col_indexer] = value instead\n",
      "\n",
      "See the caveats in the documentation: https://pandas.pydata.org/pandas-docs/stable/user_guide/indexing.html#returning-a-view-versus-a-copy\n",
      "  \"\"\"Entry point for launching an IPython kernel.\n"
     ]
    }
   ],
   "source": [
    "iso_sub['at_least_one_ppi'] = iso['clone_acc'].map(y2h.groupby('ad_clone_acc').apply(lambda rows: ((rows['Y2H_result'] == True))\n",
    "                                                                                                    .any()))"
   ]
  },
  {
   "cell_type": "code",
   "execution_count": 79,
   "metadata": {},
   "outputs": [
    {
     "name": "stderr",
     "output_type": "stream",
     "text": [
      "/PHShome/kz659/.conda/envs/py36/lib/python3.6/site-packages/ipykernel_launcher.py:2: SettingWithCopyWarning: \n",
      "A value is trying to be set on a copy of a slice from a DataFrame.\n",
      "Try using .loc[row_indexer,col_indexer] = value instead\n",
      "\n",
      "See the caveats in the documentation: https://pandas.pydata.org/pandas-docs/stable/user_guide/indexing.html#returning-a-view-versus-a-copy\n",
      "  \n"
     ]
    }
   ],
   "source": [
    "y1h = y1h.drop_duplicates('clone_acc')\n",
    "iso_sub['at_least_one_pdi'] = iso_sub['clone_acc'].map(y1h.drop(columns=['gene_symbol']).set_index('clone_acc').sum(axis=1) > 0)"
   ]
  },
  {
   "cell_type": "code",
   "execution_count": 80,
   "metadata": {},
   "outputs": [
    {
     "name": "stderr",
     "output_type": "stream",
     "text": [
      "/PHShome/kz659/.conda/envs/py36/lib/python3.6/site-packages/ipykernel_launcher.py:5: SettingWithCopyWarning: \n",
      "A value is trying to be set on a copy of a slice from a DataFrame.\n",
      "Try using .loc[row_indexer,col_indexer] = value instead\n",
      "\n",
      "See the caveats in the documentation: https://pandas.pydata.org/pandas-docs/stable/user_guide/indexing.html#returning-a-view-versus-a-copy\n",
      "  \"\"\"\n"
     ]
    }
   ],
   "source": [
    "iso_sub['at_least_two_fold_activation'] = iso_sub['clone_acc'].map(\n",
    "                                            m1h.drop(columns=['gene_symbol'])\n",
    "                                                .set_index('clone_acc')\n",
    "                                                .mean(axis=1)\n",
    "                                                .abs() > 1)"
   ]
  },
  {
   "cell_type": "code",
   "execution_count": 81,
   "metadata": {},
   "outputs": [
    {
     "data": {
      "text/plain": [
       "alternative    208\n",
       "reference      195\n",
       "novel           90\n",
       "Name: category, dtype: int64"
      ]
     },
     "execution_count": 81,
     "metadata": {},
     "output_type": "execute_result"
    }
   ],
   "source": [
    "iso_sub.category.value_counts()"
   ]
  },
  {
   "cell_type": "code",
   "execution_count": 82,
   "metadata": {},
   "outputs": [
    {
     "data": {
      "image/png": "[encoded data removed]",
      "text/plain": [
       "<Figure size 648x72 with 1 Axes>"
      ]
     },
     "metadata": {},
     "output_type": "display_data"
    }
   ],
   "source": [
    "colors = met_brewer.met_brew(name=\"Monet\")\n",
    "sns.palplot(colors)"
   ]
  },
  {
   "cell_type": "code",
   "execution_count": 83,
   "metadata": {},
   "outputs": [
    {
     "data": {
      "image/png": "[encoded data removed]",
      "text/plain": [
       "<Figure size 151.2x108 with 1 Axes>"
      ]
     },
     "metadata": {},
     "output_type": "display_data"
    },
    {
     "data": {
      "image/png": "[encoded data removed]",
      "text/plain": [
       "<Figure size 180x108 with 1 Axes>"
      ]
     },
     "metadata": {},
     "output_type": "display_data"
    }
   ],
   "source": [
    "fig, ax = plt.subplots(1, 1)\n",
    "fig.set_size_inches(w=2.1, h=1.5)\n",
    "cats = ['reference', 'alternative', 'novel']\n",
    "positives = []\n",
    "tested = []\n",
    "for cat in cats:\n",
    "    positives.append(iso_sub.loc[iso_sub['valid_ppi_test'] &\n",
    "                        (iso_sub['category'] == cat),\n",
    "                        'at_least_one_ppi'].sum())\n",
    "    tested.append(iso_sub.loc[iso_sub['valid_ppi_test'] &\n",
    "                        (iso_sub['category'] == cat),\n",
    "                        'at_least_one_ppi'].notnull().sum())\n",
    "for cat in cats:\n",
    "    positives.append(iso_sub.loc[\n",
    "                        (iso_sub['category'] == cat),\n",
    "                        'at_least_one_pdi'].sum())\n",
    "    tested.append(iso_sub.loc[\n",
    "                        (iso_sub['category'] == cat),\n",
    "                        'at_least_one_pdi'].notnull().sum())\n",
    "for cat in cats:\n",
    "    positives.append(iso_sub.loc[\n",
    "                        (iso_sub['category'] == cat),\n",
    "                        'at_least_two_fold_activation'].sum())\n",
    "    tested.append(iso_sub.loc[\n",
    "                        (iso_sub['category'] == cat),\n",
    "                        'at_least_two_fold_activation'].notnull().sum())\n",
    "for cat in cats:\n",
    "    tested_iso = (iso_sub['valid_ppi_test'] & \n",
    "                    iso_sub['at_least_two_fold_activation'].notnull() &\n",
    "                    iso_sub['at_least_one_pdi'].notnull() &\n",
    "                    (iso_sub['category'] == cat))\n",
    "    positives.append((iso_sub.loc[tested_iso, 'at_least_one_ppi'] |\n",
    "                 iso_sub.loc[tested_iso, 'at_least_two_fold_activation'] |\n",
    "                 iso_sub.loc[tested_iso, 'at_least_one_pdi']).sum())\n",
    "    tested.append(tested_iso.sum())\n",
    "    \n",
    "vals = [p / n for p, n in zip(positives, tested)]\n",
    "#errs = [np.sqrt(((p / n) * (1 - (p / n)) / n)) for p, n in zip(positives, tested)]\n",
    "\n",
    "pos = np.array(positives)\n",
    "neg = np.array(tested) - pos\n",
    "fracs = np.array(vals)\n",
    "intv = stats.beta.interval(0.6827, pos + 1, neg + 1)\n",
    "errs = [fracs - intv[0], intv[1] - fracs]\n",
    "errs[0][pos == 0] = 0.\n",
    "errs[1][neg == 0] = 0.\n",
    "\n",
    "offset = 0.5\n",
    "x_pos = ([i for i in range(3)] + \n",
    "       [i + offset for i in range(3, 6)] + \n",
    "       [i + offset * 2 for i in range(6, 9)] +\n",
    "       [i + offset * 3 for i in range(9, 12)])\n",
    "\n",
    "\n",
    "ax.bar(x=x_pos, height=vals, color=[colors[0], colors[1], colors[2]] * 3)\n",
    "ax.errorbar(x=x_pos, y=vals, yerr=errs,\n",
    "            color='black',\n",
    "            fmt='none',\n",
    "            linewidth=1,\n",
    "            capsize=1)\n",
    "ax.set_ylim(0, 1.1)\n",
    "ax.set_yticks(np.linspace(0, 1, 11))\n",
    "ax.set_yticks(np.linspace(0, 1, 21), minor=True)\n",
    "ax.set_yticklabels([f'{y:.0%}' for y in ax.get_yticks()])\n",
    "for loc in ['top', 'bottom', 'right']:\n",
    "    ax.spines[loc].set_visible(False)\n",
    "ax.xaxis.set_tick_params(length=0)\n",
    "ax.set_xticks([0, 1, 2])\n",
    "\n",
    "ax.set_xticklabels(['Reference', \n",
    "                    'Alternative',\n",
    "                    'Novel'], rotation=45, ha='right', va='top', fontweight='bold')\n",
    "[t.set_color(colors[i]) for i, t in enumerate(ax.xaxis.get_ticklabels())]\n",
    "\n",
    "ax.set_ylabel('Proportion of isoforms')\n",
    "ax.text(y=1.025, x=x_pos[1], s='≥ 1 PPI', \n",
    "        fontsize=6,\n",
    "        va='bottom', ha='center')\n",
    "ax.text(y=1.025, x=x_pos[4], s='≥ 1 PDI',\n",
    "        fontsize=6,\n",
    "        va='bottom', ha='center')\n",
    "ax.text(y=1.025, x=x_pos[7], s='≥ 2-fold\\nactivation/\\nrepression',\n",
    "        fontsize=6, \n",
    "        va='bottom', ha='center')\n",
    "ax.text(y=1.025, x=x_pos[10], s='Any one\\nof three', \n",
    "        fontsize=6, fontstyle='italic',\n",
    "        va='bottom', ha='center')\n",
    "fig.savefig('../../figures/fig2/at-least-some-assay-result_ref-vs-alt-vs-novel_bar.pdf',\n",
    "            bbox_inches='tight')\n",
    "\n",
    "fig, ax = plt.subplots(1, 1)\n",
    "fig.set_size_inches(w=2.5, h=1.5)\n",
    "cats = ['reference', 'alternative', 'novel']\n",
    "positives = []\n",
    "tested = []\n",
    "for cat in cats:\n",
    "    positives.append(iso_sub.loc[iso_sub['valid_ppi_test'] &\n",
    "                        (iso_sub['category'] == cat),\n",
    "                        'at_least_one_ppi'].sum())\n",
    "\n",
    "for cat in cats:\n",
    "    positives.append(iso_sub.loc[\n",
    "                        (iso_sub['category'] == cat),\n",
    "                        'at_least_one_pdi'].sum())\n",
    "\n",
    "for cat in cats:\n",
    "    positives.append(iso_sub.loc[\n",
    "                        (iso_sub['category'] == cat),\n",
    "                        'at_least_two_fold_activation'].sum())\n",
    "\n",
    "for cat in cats:\n",
    "    positives.append((iso_sub.loc[(iso_sub['category'] == cat), 'at_least_one_ppi'].fillna(False) |\n",
    "                      iso_sub.loc[(iso_sub['category'] == cat), 'at_least_two_fold_activation'].fillna(False) |\n",
    "                      iso_sub.loc[(iso_sub['category'] == cat), 'at_least_one_pdi'].fillna(False)).sum())    \n",
    "\n",
    "tested = [(iso_sub['category'] == cat).sum() for cat in cats] * 4\n",
    "vals = [p / n for p, n in zip(positives, tested)]\n",
    "\n",
    "pos = np.array(positives)\n",
    "neg = np.array(tested) - pos\n",
    "fracs = np.array(vals)\n",
    "intv = stats.beta.interval(0.6827, pos + 1, neg + 1)\n",
    "errs = [fracs - intv[0], intv[1] - fracs]\n",
    "errs[0][pos == 0] = 0.\n",
    "errs[1][neg == 0] = 0.\n",
    "\n",
    "offset = 0.5\n",
    "x_pos = ([i for i in range(3)] + \n",
    "       [i + offset for i in range(3, 6)] + \n",
    "       [i + offset * 2 for i in range(6, 9)] +\n",
    "       [i + offset * 3 for i in range(9, 12)])\n",
    "ax.bar(x=x_pos, height=vals, color=[colors[0], colors[1], colors[2]] * 3)\n",
    "ax.errorbar(x=x_pos, y=vals, yerr=errs,\n",
    "            color='black',\n",
    "            fmt='none',\n",
    "            capsize=2,\n",
    "            linewidth=1)\n",
    "ax.set_ylim(0, 1)\n",
    "ax.set_yticks(np.linspace(0, 1, 11))\n",
    "ax.set_yticks(np.linspace(0, 1, 21), minor=True)\n",
    "ax.set_yticklabels([f'{y:.0%}' for y in ax.get_yticks()])\n",
    "for loc in ['top', 'bottom', 'right']:\n",
    "    ax.spines[loc].set_visible(False)\n",
    "ax.xaxis.set_tick_params(length=0)\n",
    "ax.set_xticks([0, 1, 2])\n",
    "\n",
    "ax.set_xticklabels(['Reference', \n",
    "                    'Alternative',\n",
    "                    'Novel'], rotation=45, ha='right', va='top', fontweight='bold')\n",
    "[t.set_color(colors[i]) for i, t in enumerate(ax.xaxis.get_ticklabels())]\n",
    "\n",
    "ax.set_ylabel('Proportion of isoforms')\n",
    "ax.text(y=1, x=x_pos[1], s='≥ 1 PPI', \n",
    "        fontsize=7,\n",
    "        va='bottom', ha='center')\n",
    "ax.text(y=1, x=x_pos[4], s='≥ 1 PDI',\n",
    "        fontsize=7,\n",
    "        va='bottom', ha='center')\n",
    "ax.text(y=1, x=x_pos[7], s='≥ 2-fold\\nactivation/\\nrepression',\n",
    "        fontsize=7, \n",
    "        va='bottom', ha='center')\n",
    "ax.text(y=1, x=x_pos[10], s='Any one\\nof three', \n",
    "        fontsize=7,\n",
    "        va='bottom', ha='center')\n",
    "fig.savefig('../../figures/fig2/at-least-some-assay-result_ref-vs-alt-vs-novel_absolute_bar.pdf',\n",
    "            bbox_inches='tight')"
   ]
  },
  {
   "cell_type": "markdown",
   "metadata": {},
   "source": [
    "## 7. make tables needed for cytoscape network fig"
   ]
  },
  {
   "cell_type": "code",
   "execution_count": 84,
   "metadata": {},
   "outputs": [],
   "source": [
    "# # table of edges\n",
    "# #    - clone to (edge + clone_id) + to duplicate\n",
    "# # table of nodes\n",
    "# #    - clone to gene\n",
    "# #    - dna vs isoform vs \n",
    "\n",
    "# ppi = load_isoform_and_paralog_y2h_data()\n",
    "# ppi = ppi.loc[(ppi['category'] == 'tf_isoform_ppis') &\n",
    "#               (ppi['Y2H_result'] == True),\n",
    "#               ['ad_clone_acc', 'ad_gene_symbol', 'db_gene_symbol']]\n",
    "# ppi = ppi.rename(columns={'ad_clone_acc': 'isoform',\n",
    "#                           'db_gene_symbol': 'partner'})\n",
    "# ppi['partner'] = ppi['partner'] + '-' + ppi['ad_gene_symbol']\n",
    "# pdi = pd.read_csv('../../data/internal/a2_juan_pdi_w_unique_isoacc.tsv', sep='\\t')\n",
    "# clones = load_valid_isoform_clones()\n",
    "# pdi = pdi.loc[pdi['unique_acc'].isin(clones['clone_acc']), :]\n",
    "# pdi['partner'] = pdi['bait'] + '-' + pdi['tf']\n",
    "# pdi['isoform'] = pdi['unique_acc']\n",
    "# edges = pd.concat([ppi.loc[:, ['isoform', 'partner']],\n",
    "#                    pdi.loc[:, ['isoform', 'partner']]])\n",
    "# edges.to_csv('../../output/edges.tsv', sep='\\t', index=False)\n",
    "\n",
    "# clones = clones.rename(columns={'clone_acc': 'node_id'})\n",
    "# clones['type'] = 'isoform'\n",
    "# dna = pd.DataFrame(data=pdi['partner'].unique(), columns=['node_id'])\n",
    "# dna['type'] = 'DNA'\n",
    "# proteins = pd.DataFrame(data=ppi['partner'].unique(), columns=['node_id'])\n",
    "# proteins['type'] = 'Protein'\n",
    "# nodes = pd.concat([clones, proteins, dna], sort=True)\n",
    "# nodes.to_csv('../../output/node_table.tsv', sep='\\t', index=False)"
   ]
  },
  {
   "cell_type": "markdown",
   "metadata": {},
   "source": [
    "## 8. make example expression plot for ZNF414"
   ]
  },
  {
   "cell_type": "code",
   "execution_count": 85,
   "metadata": {},
   "outputs": [],
   "source": [
    "def developmental_tissue_expression_plot(gene_name, figsize, ylim, means, cols, fig_suffix):\n",
    "    locs = [x for x in list(means.index) if x.split(\"|\")[0] == gene_name]\n",
    "    \n",
    "    # include isos that aren't cloned\n",
    "    locs = list(set(locs + [x for x in list(means.index) if x.split(\" \")[1][:-4] == gene_name]))\n",
    "    \n",
    "    n_isos = len(means.loc[locs])\n",
    "    palette = met_brewer.met_brew(name=\"Egypt\")\n",
    "    fig, axes = plt.subplots(2, 1, sharex=True)\n",
    "    fig.set_size_inches(figsize)\n",
    "    ### bar chart ###\n",
    "    (means.loc[locs, cols]\n",
    "          .T\n",
    "          .plot.bar(ax=axes[0],\n",
    "                    legend=False,\n",
    "                    width=0.7,\n",
    "                    color=list(palette)))\n",
    "    ### percentages ###\n",
    "    raw_means = 2 ** means.loc[locs, cols] - 1.\n",
    "    (raw_means.div(raw_means.sum(axis=0))\n",
    "              .T.plot.bar(ax=axes[1], \n",
    "                          stacked=True,\n",
    "                          legend=False,\n",
    "                          color=list(palette)))\n",
    "    axes[0].set_ylabel('log2(tpm + 1)\\n')\n",
    "    axes[0].set_ylim(ylim)\n",
    "    axes[1].set_ylabel('percent')\n",
    "    axes[1].set_yticklabels(['{:.0%}'.format(t) for t in axes[1].get_yticks()])\n",
    "    axes[1].legend(loc='lower left', bbox_to_anchor=(1, 0))\n",
    "    axes[0].axhline(y=1, color='black', linewidth=0.5, linestyle=\"dashed\")\n",
    "    plt.subplots_adjust(hspace=0.25)\n",
    "    plt.savefig('../../figures/fig2/expression_' + gene_name + '_' + fig_suffix + '.pdf',\n",
    "                bbox_inches='tight')"
   ]
  },
  {
   "cell_type": "code",
   "execution_count": 86,
   "metadata": {},
   "outputs": [
    {
     "data": {
      "image/png": "[encoded data removed]",
      "text/plain": [
       "<Figure size 518.4x126 with 2 Axes>"
      ]
     },
     "metadata": {},
     "output_type": "display_data"
    }
   ],
   "source": [
    "notestis_cols = [x for x in means_dev.columns if \"testis\" not in x]\n",
    "notestis_cols = [x for x in notestis_cols if \"median\" not in x]\n",
    "notestis_cols = [x for x in notestis_cols if \"max\" not in x]\n",
    "notestis_cols = [x for x in notestis_cols if \"ovary\" not in x]\n",
    "notestis_cols = [x for x in notestis_cols if \"brain\" not in x]\n",
    "developmental_tissue_expression_plot(\"ZNF414\", (7.2, 1.75), (0, 6), means_dev, notestis_cols, \n",
    "                                     \"means_dev_notestis_large\")"
   ]
  },
  {
   "cell_type": "code",
   "execution_count": 87,
   "metadata": {},
   "outputs": [
    {
     "data": {
      "text/html": [
       "<div>\n",
       "<style scoped>\n",
       "    .dataframe tbody tr th:only-of-type {\n",
       "        vertical-align: middle;\n",
       "    }\n",
       "\n",
       "    .dataframe tbody tr th {\n",
       "        vertical-align: top;\n",
       "    }\n",
       "\n",
       "    .dataframe thead th {\n",
       "        text-align: right;\n",
       "    }\n",
       "</style>\n",
       "<table border=\"1\" class=\"dataframe\">\n",
       "  <thead>\n",
       "    <tr style=\"text-align: right;\">\n",
       "      <th></th>\n",
       "      <th>ad_clone_acc</th>\n",
       "      <th>ad_gene_symbol</th>\n",
       "      <th>db_gene_symbol</th>\n",
       "      <th>Y2H_result</th>\n",
       "      <th>family</th>\n",
       "      <th>family_renamed</th>\n",
       "    </tr>\n",
       "  </thead>\n",
       "  <tbody>\n",
       "    <tr>\n",
       "      <th>2726</th>\n",
       "      <td>PKNOX1|1/4|11H11</td>\n",
       "      <td>PKNOX1</td>\n",
       "      <td>HMGB2</td>\n",
       "      <td>True</td>\n",
       "      <td>Homeodomain</td>\n",
       "      <td>Homeodomain</td>\n",
       "    </tr>\n",
       "    <tr>\n",
       "      <th>2738</th>\n",
       "      <td>PKNOX1|2/4|06H05</td>\n",
       "      <td>PKNOX1</td>\n",
       "      <td>HMGB2</td>\n",
       "      <td>True</td>\n",
       "      <td>Homeodomain</td>\n",
       "      <td>Homeodomain</td>\n",
       "    </tr>\n",
       "    <tr>\n",
       "      <th>2750</th>\n",
       "      <td>PKNOX1|3/4|06H03</td>\n",
       "      <td>PKNOX1</td>\n",
       "      <td>HMGB2</td>\n",
       "      <td>False</td>\n",
       "      <td>Homeodomain</td>\n",
       "      <td>Homeodomain</td>\n",
       "    </tr>\n",
       "    <tr>\n",
       "      <th>2762</th>\n",
       "      <td>PKNOX1|4/4|06G03</td>\n",
       "      <td>PKNOX1</td>\n",
       "      <td>HMGB2</td>\n",
       "      <td>False</td>\n",
       "      <td>Homeodomain</td>\n",
       "      <td>Homeodomain</td>\n",
       "    </tr>\n",
       "    <tr>\n",
       "      <th>2776</th>\n",
       "      <td>PKNOX1|1/4|11H11</td>\n",
       "      <td>PKNOX1</td>\n",
       "      <td>PBX4</td>\n",
       "      <td>True</td>\n",
       "      <td>Homeodomain</td>\n",
       "      <td>Homeodomain</td>\n",
       "    </tr>\n",
       "    <tr>\n",
       "      <th>2783</th>\n",
       "      <td>PKNOX1|1/4|11H11</td>\n",
       "      <td>PKNOX1</td>\n",
       "      <td>VPS37C</td>\n",
       "      <td>True</td>\n",
       "      <td>Homeodomain</td>\n",
       "      <td>Homeodomain</td>\n",
       "    </tr>\n",
       "    <tr>\n",
       "      <th>2788</th>\n",
       "      <td>PKNOX1|2/4|06H05</td>\n",
       "      <td>PKNOX1</td>\n",
       "      <td>PBX4</td>\n",
       "      <td>True</td>\n",
       "      <td>Homeodomain</td>\n",
       "      <td>Homeodomain</td>\n",
       "    </tr>\n",
       "    <tr>\n",
       "      <th>2795</th>\n",
       "      <td>PKNOX1|2/4|06H05</td>\n",
       "      <td>PKNOX1</td>\n",
       "      <td>VPS37C</td>\n",
       "      <td>True</td>\n",
       "      <td>Homeodomain</td>\n",
       "      <td>Homeodomain</td>\n",
       "    </tr>\n",
       "    <tr>\n",
       "      <th>2800</th>\n",
       "      <td>PKNOX1|3/4|06H03</td>\n",
       "      <td>PKNOX1</td>\n",
       "      <td>PBX4</td>\n",
       "      <td>False</td>\n",
       "      <td>Homeodomain</td>\n",
       "      <td>Homeodomain</td>\n",
       "    </tr>\n",
       "    <tr>\n",
       "      <th>2807</th>\n",
       "      <td>PKNOX1|3/4|06H03</td>\n",
       "      <td>PKNOX1</td>\n",
       "      <td>VPS37C</td>\n",
       "      <td>False</td>\n",
       "      <td>Homeodomain</td>\n",
       "      <td>Homeodomain</td>\n",
       "    </tr>\n",
       "    <tr>\n",
       "      <th>2819</th>\n",
       "      <td>PKNOX1|4/4|06G03</td>\n",
       "      <td>PKNOX1</td>\n",
       "      <td>VPS37C</td>\n",
       "      <td>False</td>\n",
       "      <td>Homeodomain</td>\n",
       "      <td>Homeodomain</td>\n",
       "    </tr>\n",
       "    <tr>\n",
       "      <th>3096</th>\n",
       "      <td>PKNOX1|1/4|11H11</td>\n",
       "      <td>PKNOX1</td>\n",
       "      <td>FHL2</td>\n",
       "      <td>True</td>\n",
       "      <td>Homeodomain</td>\n",
       "      <td>Homeodomain</td>\n",
       "    </tr>\n",
       "    <tr>\n",
       "      <th>3108</th>\n",
       "      <td>PKNOX1|2/4|06H05</td>\n",
       "      <td>PKNOX1</td>\n",
       "      <td>FHL2</td>\n",
       "      <td>True</td>\n",
       "      <td>Homeodomain</td>\n",
       "      <td>Homeodomain</td>\n",
       "    </tr>\n",
       "    <tr>\n",
       "      <th>3120</th>\n",
       "      <td>PKNOX1|3/4|06H03</td>\n",
       "      <td>PKNOX1</td>\n",
       "      <td>FHL2</td>\n",
       "      <td>False</td>\n",
       "      <td>Homeodomain</td>\n",
       "      <td>Homeodomain</td>\n",
       "    </tr>\n",
       "    <tr>\n",
       "      <th>3132</th>\n",
       "      <td>PKNOX1|4/4|06G03</td>\n",
       "      <td>PKNOX1</td>\n",
       "      <td>FHL2</td>\n",
       "      <td>False</td>\n",
       "      <td>Homeodomain</td>\n",
       "      <td>Homeodomain</td>\n",
       "    </tr>\n",
       "  </tbody>\n",
       "</table>\n",
       "</div>"
      ],
      "text/plain": [
       "          ad_clone_acc ad_gene_symbol db_gene_symbol Y2H_result       family  \\\n",
       "2726  PKNOX1|1/4|11H11         PKNOX1          HMGB2       True  Homeodomain   \n",
       "2738  PKNOX1|2/4|06H05         PKNOX1          HMGB2       True  Homeodomain   \n",
       "2750  PKNOX1|3/4|06H03         PKNOX1          HMGB2      False  Homeodomain   \n",
       "2762  PKNOX1|4/4|06G03         PKNOX1          HMGB2      False  Homeodomain   \n",
       "2776  PKNOX1|1/4|11H11         PKNOX1           PBX4       True  Homeodomain   \n",
       "2783  PKNOX1|1/4|11H11         PKNOX1         VPS37C       True  Homeodomain   \n",
       "2788  PKNOX1|2/4|06H05         PKNOX1           PBX4       True  Homeodomain   \n",
       "2795  PKNOX1|2/4|06H05         PKNOX1         VPS37C       True  Homeodomain   \n",
       "2800  PKNOX1|3/4|06H03         PKNOX1           PBX4      False  Homeodomain   \n",
       "2807  PKNOX1|3/4|06H03         PKNOX1         VPS37C      False  Homeodomain   \n",
       "2819  PKNOX1|4/4|06G03         PKNOX1         VPS37C      False  Homeodomain   \n",
       "3096  PKNOX1|1/4|11H11         PKNOX1           FHL2       True  Homeodomain   \n",
       "3108  PKNOX1|2/4|06H05         PKNOX1           FHL2       True  Homeodomain   \n",
       "3120  PKNOX1|3/4|06H03         PKNOX1           FHL2      False  Homeodomain   \n",
       "3132  PKNOX1|4/4|06G03         PKNOX1           FHL2      False  Homeodomain   \n",
       "\n",
       "     family_renamed  \n",
       "2726    Homeodomain  \n",
       "2738    Homeodomain  \n",
       "2750    Homeodomain  \n",
       "2762    Homeodomain  \n",
       "2776    Homeodomain  \n",
       "2783    Homeodomain  \n",
       "2788    Homeodomain  \n",
       "2795    Homeodomain  \n",
       "2800    Homeodomain  \n",
       "2807    Homeodomain  \n",
       "2819    Homeodomain  \n",
       "3096    Homeodomain  \n",
       "3108    Homeodomain  \n",
       "3120    Homeodomain  \n",
       "3132    Homeodomain  "
      ]
     },
     "execution_count": 87,
     "metadata": {},
     "output_type": "execute_result"
    }
   ],
   "source": [
    "y2h[y2h['ad_gene_symbol'] == 'PKNOX1']"
   ]
  }
 ],
 "metadata": {
  "kernelspec": {
   "display_name": "Python (py36)",
   "language": "python",
   "name": "py36"
  },
  "language_info": {
   "codemirror_mode": {
    "name": "ipython",
    "version": 3
   },
   "file_extension": ".py",
   "mimetype": "text/x-python",
   "name": "python",
   "nbconvert_exporter": "python",
   "pygments_lexer": "ipython3",
   "version": "3.6.10"
  }
 },
 "nbformat": 4,
 "nbformat_minor": 2
}
