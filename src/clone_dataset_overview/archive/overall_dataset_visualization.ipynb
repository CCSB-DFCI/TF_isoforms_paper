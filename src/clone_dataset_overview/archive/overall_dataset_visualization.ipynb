{
    "cells": [
        {
            "cell_type": "code",
            "execution_count": 13,
            "metadata": {},
            "outputs": [],
            "source": [
                "import pandas as pd\n",
                "\n",
                "from data_loading import load_full_y2h_data_including_controls, load_y1h_pdi_data, load_valid_isoform_clones"
            ]
        },
        {
            "cell_type": "code",
            "execution_count": 47,
            "metadata": {},
            "outputs": [],
            "source": [
                "# table of edges\n",
                "#    - clone to (edge + clone_id) + to duplicate\n",
                "# table of nodes\n",
                "#    - clone to gene\n",
                "#    - dna vs isoform vs \n",
                "ppi = load_full_y2h_data_including_controls()\n",
                "ppi = ppi.loc[(ppi['category'] == 'tf_isoform_ppis') &\n",
                "              (ppi['score'] == '1'),\n",
                "              ['ad_clone_acc', 'ad_gene_symbol', 'db_gene_symbol']]\n",
                "ppi = ppi.rename(columns={'ad_clone_acc': 'isoform',\n",
                "                          'db_gene_symbol': 'gene_symbol_partner'})\n",
                "ppi['gene_symbol_partner'] = ppi['gene_symbol_partner'] + '-' + ppi['ad_gene_symbol']\n",
                "pdi = pd.read_csv('../data/a2_juan_pdi_w_unique_isoacc.tsv', sep='\\t')\n",
                "clones = load_valid_isoform_clones()\n",
                "pdi = pdi.loc[pdi['clone_acc'].isin(clones['clone_acc']), :]\n",
                "pdi['gene_symbol_partner'] = pdi['bait'] + '-' + pdi['gene_symbol']\n",
                "pdi['isoform'] = pdi['clone_acc']\n",
                "edges = pd.concat([ppi.loc[:, ['isoform', 'gene_symbol_partner']],\n",
                "                   pdi.loc[:, ['isoform', 'gene_symbol_partner']]])\n",
                "edges.to_csv('../output/edges.tsv', sep='\\t', index=False)\n",
                "\n",
                "clones = clones.rename(columns={'clone_acc': 'node_id'})\n",
                "clones['type'] = 'isoform'\n",
                "dna = pd.DataFrame(data=pdi['gene_symbol_partner'].unique(), columns=['node_id'])\n",
                "dna['type'] = 'DNA'\n",
                "proteins = pd.DataFrame(data=ppi['gene_symbol_partner'].unique(), columns=['node_id'])\n",
                "proteins['type'] = 'Protein'\n",
                "nodes = pd.concat([clones, proteins, dna], sort=True)\n",
                "nodes.to_csv('../output/node_table.tsv', sep='\\t', index=False)"
            ]
        },
        {
            "cell_type": "code",
            "execution_count": null,
            "metadata": {},
            "outputs": [],
            "source": []
        }
    ],
    "metadata": {
        "kernelspec": {
            "display_name": "Python 3",
            "language": "python",
            "name": "python3"
        },
        "language_info": {
            "codemirror_mode": {
                "name": "ipython",
                "version": 3
            },
            "file_extension": ".py",
            "mimetype": "text/x-python",
            "name": "python",
            "nbconvert_exporter": "python",
            "pygments_lexer": "ipython3",
            "version": "3.6.5"
        }
    },
    "nbformat": 4,
    "nbformat_minor": 2
}