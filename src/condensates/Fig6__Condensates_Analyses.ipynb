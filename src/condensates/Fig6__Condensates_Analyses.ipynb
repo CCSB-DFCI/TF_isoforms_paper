{
 "cells": [
  {
   "cell_type": "markdown",
   "metadata": {},
   "source": [
    "# Figure 6: Condensates Analyses"
   ]
  },
  {
   "cell_type": "code",
   "execution_count": 1,
   "metadata": {},
   "outputs": [],
   "source": [
    "import met_brewer\n",
    "import numpy as np\n",
    "import pandas as pd\n",
    "import seaborn as sns\n",
    "import sys\n",
    "\n",
    "from matplotlib import pyplot as plt\n",
    "from scipy import stats\n",
    "from statannotations.Annotator import Annotator\n",
    "\n",
    "sys.path.append(\"../\")\n",
    "\n",
    "from plotting import (violinplot_reflected, \n",
    "                      table_circle_size_plot, \n",
    "                      y2h_ppi_per_tf_gene_plot,\n",
    "                      m1h_activation_per_tf_gene_plot,\n",
    "                      mimic_r_boxplot,\n",
    "                      annotate_pval)\n",
    "from data_loading import (load_condensate_data, \n",
    "                          load_annotated_TFiso1_collection, \n",
    "                          load_y2h_isoform_data,\n",
    "                          load_m1h_activation_data)\n",
    "\n",
    "PAPER_PRESET = {\"style\": \"ticks\", \"font\": \"Helvetica\", \"context\": \"paper\", \n",
    "                \"rc\": {\"font.size\":7,\"axes.titlesize\":7,\n",
    "                       \"axes.labelsize\":7, 'axes.linewidth':0.5,\n",
    "                       \"legend.fontsize\":6, \"xtick.labelsize\":6,\n",
    "                       \"ytick.labelsize\":6, \"xtick.major.size\": 3.0,\n",
    "                       \"ytick.major.size\": 3.0, \"axes.edgecolor\": \"black\",\n",
    "                       \"xtick.major.pad\": 3.0, \"ytick.major.pad\": 3.0}}\n",
    "PAPER_FONTSIZE = 7"
   ]
  },
  {
   "cell_type": "code",
   "execution_count": 2,
   "metadata": {},
   "outputs": [],
   "source": [
    "sns.set(**PAPER_PRESET)\n",
    "fontsize = PAPER_FONTSIZE"
   ]
  },
  {
   "cell_type": "code",
   "execution_count": 3,
   "metadata": {},
   "outputs": [],
   "source": [
    "np.random.seed(2023)"
   ]
  },
  {
   "cell_type": "markdown",
   "metadata": {},
   "source": [
    "## functions"
   ]
  },
  {
   "cell_type": "code",
   "execution_count": 4,
   "metadata": {},
   "outputs": [],
   "source": [
    "def permutation_test(sample1, sample2, num_permutations=1000, seed=None, alternative='two-sided'):\n",
    "    \"\"\"\n",
    "    Conduct a permutation test on two samples.\n",
    "\n",
    "    :param sample1: First sample (array-like)\n",
    "    :param sample2: Second sample (array-like)\n",
    "    :param num_permutations: Number of permutations to perform (int)\n",
    "    :param seed: Seed for random number generator (int)\n",
    "    :param alternative: Defines the alternative hypothesis. \n",
    "                        'two-sided': the distributions are not equal,\n",
    "                        'less': the distribution of sample1 is less than the distribution of sample2,\n",
    "                        'greater': the distribution of sample1 is greater than the distribution of sample2\n",
    "    :return: p-value (float)\n",
    "    \"\"\"\n",
    "\n",
    "    # Ensure reproducibility\n",
    "    if seed is not None:\n",
    "        np.random.seed(seed)\n",
    "\n",
    "    # Combine the samples\n",
    "    combined = np.concatenate([sample1, sample2])\n",
    "\n",
    "    # Calculate the observed test statistic\n",
    "    observed_stat = np.mean(sample1) - np.mean(sample2)\n",
    "\n",
    "    # Perform the permutations\n",
    "    count = 0\n",
    "    for _ in range(num_permutations):\n",
    "        np.random.shuffle(combined)\n",
    "        new_sample_1 = combined[:len(sample1)]\n",
    "        new_sample_2 = combined[len(sample1):]\n",
    "\n",
    "        # Calculate the new test statistic\n",
    "        new_stat = np.mean(new_sample_1) - np.mean(new_sample_2)\n",
    "\n",
    "        # Check if the new test statistic is at least as extreme as the original\n",
    "        if alternative == 'two-sided':\n",
    "            count += abs(new_stat) >= abs(observed_stat)\n",
    "        elif alternative == 'less':\n",
    "            count += new_stat <= observed_stat\n",
    "        elif alternative == 'greater':\n",
    "            count += new_stat >= observed_stat\n",
    "        else:\n",
    "            raise ValueError(\"alternative must be 'two-sided', 'less', or 'greater'\")\n",
    "\n",
    "    # Calculate the p-value\n",
    "    p_value = (count + 1) / (num_permutations + 1)\n",
    "\n",
    "    return p_value"
   ]
  },
  {
   "cell_type": "markdown",
   "metadata": {},
   "source": [
    "## 1. import data"
   ]
  },
  {
   "cell_type": "code",
   "execution_count": 5,
   "metadata": {},
   "outputs": [],
   "source": [
    "pairs, df = load_condensate_data()"
   ]
  },
  {
   "cell_type": "markdown",
   "metadata": {},
   "source": [
    "## 2. summary of data"
   ]
  },
  {
   "cell_type": "code",
   "execution_count": 6,
   "metadata": {},
   "outputs": [
    {
     "name": "stdout",
     "output_type": "stream",
     "text": [
      "successfully tested 189 isoforms of 60 TF genes\n",
      "in HEK cells:\n",
      "47 (78%) reference isoforms show condensates\n",
      "102 (79%) alternative isoforms show condensates\n",
      "50 (39%) alternative isoforms change condensate formation compared to reference\n",
      "\n",
      "Unchanged               79\n",
      "LOC                     19\n",
      "GOC                     16\n",
      "Changed localization    15\n",
      "Name: condensate_cat_HEK, dtype: int64\n",
      "\n",
      "in U2OS cells:\n",
      "49 (82%) reference isoforms show condensates\n",
      "103 (80%) alternative isoforms show condensates\n",
      "42 (33%) alternative isoforms change condensate formation compared to reference\n",
      "\n",
      "Unchanged               87\n",
      "LOC                     18\n",
      "Changed localization    15\n",
      "GOC                      9\n",
      "Name: condensate_cat_U2OS, dtype: int64\n",
      "\n"
     ]
    }
   ],
   "source": [
    "print('successfully tested {} isoforms of {} TF genes'.format(df.index.nunique(),\n",
    "                    df['gene_symbol'].nunique())\n",
    "    )\n",
    "for cl in ['HEK', 'U2OS']:\n",
    "    print(f'in {cl} cells:')\n",
    "    print('{} ({:.0%}) reference isoforms show condensates'.format(\n",
    "        df.loc[df['is_cloned_reference'], f'condensates_observed_{cl}'].sum(),\n",
    "        df.loc[df['is_cloned_reference'], f'condensates_observed_{cl}'].mean()))\n",
    "    print('{} ({:.0%}) alternative isoforms show condensates'.format(\n",
    "        df.loc[~df['is_cloned_reference'], f'condensates_observed_{cl}'].sum(),\n",
    "        df.loc[~df['is_cloned_reference'], f'condensates_observed_{cl}'].mean()))\n",
    "    print('{} ({:.0%}) alternative isoforms change condensate formation compared to reference'.format(\n",
    "        (pairs[f'condensate_cat_{cl}'] != 'Unchanged').sum(),\n",
    "        (pairs[f'condensate_cat_{cl}'] != 'Unchanged').mean()))\n",
    "\n",
    "    print()\n",
    "    print(pairs[f'condensate_cat_{cl}'].value_counts())\n",
    "    print()"
   ]
  },
  {
   "cell_type": "code",
   "execution_count": 7,
   "metadata": {},
   "outputs": [
    {
     "data": {
      "image/png": "[encoded data removed]",
      "text/plain": [
       "<Figure size 500x100 with 1 Axes>"
      ]
     },
     "metadata": {},
     "output_type": "display_data"
    }
   ],
   "source": [
    "colors = met_brewer.met_brew(name=\"Hokusai3\", n=5, brew_type=\"discrete\")\n",
    "sns.palplot(colors)"
   ]
  },
  {
   "cell_type": "code",
   "execution_count": 8,
   "metadata": {},
   "outputs": [
    {
     "data": {
      "text/html": [
       "<div>\n",
       "<style scoped>\n",
       "    .dataframe tbody tr th:only-of-type {\n",
       "        vertical-align: middle;\n",
       "    }\n",
       "\n",
       "    .dataframe tbody tr th {\n",
       "        vertical-align: top;\n",
       "    }\n",
       "\n",
       "    .dataframe thead th {\n",
       "        text-align: right;\n",
       "    }\n",
       "</style>\n",
       "<table border=\"1\" class=\"dataframe\">\n",
       "  <thead>\n",
       "    <tr style=\"text-align: right;\">\n",
       "      <th></th>\n",
       "      <th>Same localization and condensate formation</th>\n",
       "      <th>Difference in localization</th>\n",
       "      <th>Difference in condensate formation</th>\n",
       "      <th>Difference in both</th>\n",
       "    </tr>\n",
       "  </thead>\n",
       "  <tbody>\n",
       "    <tr>\n",
       "      <th>combined_cat_HEK</th>\n",
       "      <td>48.837209</td>\n",
       "      <td>24.031008</td>\n",
       "      <td>16.279070</td>\n",
       "      <td>10.852713</td>\n",
       "    </tr>\n",
       "    <tr>\n",
       "      <th>combined_cat_U2OS</th>\n",
       "      <td>51.162791</td>\n",
       "      <td>27.906977</td>\n",
       "      <td>13.953488</td>\n",
       "      <td>6.976744</td>\n",
       "    </tr>\n",
       "  </tbody>\n",
       "</table>\n",
       "</div>"
      ],
      "text/plain": [
       "                   Same localization and condensate formation  \\\n",
       "combined_cat_HEK                                    48.837209   \n",
       "combined_cat_U2OS                                   51.162791   \n",
       "\n",
       "                   Difference in localization  \\\n",
       "combined_cat_HEK                    24.031008   \n",
       "combined_cat_U2OS                   27.906977   \n",
       "\n",
       "                   Difference in condensate formation  Difference in both  \n",
       "combined_cat_HEK                            16.279070           10.852713  \n",
       "combined_cat_U2OS                           13.953488            6.976744  "
      ]
     },
     "execution_count": 8,
     "metadata": {},
     "output_type": "execute_result"
    }
   ],
   "source": [
    "f = pd.concat(\n",
    "        [pairs['combined_cat_HEK'].value_counts().to_frame().T,\n",
    "        pairs['combined_cat_U2OS'].value_counts().to_frame().T,]\n",
    ")\n",
    "if f.sum(axis=1).nunique() > 1:\n",
    "    raise UserWarning('expected identical numbers for both cell lines')\n",
    "f = f / f.sum(axis=1).iloc[0] * 100\n",
    "f.head()"
   ]
  },
  {
   "cell_type": "code",
   "execution_count": 9,
   "metadata": {},
   "outputs": [],
   "source": [
    "f.columns = [\"Same localization &\\ncondensate formation\", \"∆ localization\",\n",
    "             \"∆ condensate formation\", \"∆ both\"]"
   ]
  },
  {
   "cell_type": "code",
   "execution_count": 10,
   "metadata": {},
   "outputs": [
    {
     "data": {
      "image/png": "[encoded data removed]",
      "text/plain": [
       "<Figure size 400x100 with 1 Axes>"
      ]
     },
     "metadata": {},
     "output_type": "display_data"
    }
   ],
   "source": [
    "pal = {\"Same localization &\\ncondensate formation\": \"grey\",\n",
    "       \"∆ localization\": colors[4],\n",
    "       \"∆ condensate formation\": colors[2],\n",
    "       \"∆ both\": colors[1]}\n",
    "sns.palplot(pal.values())"
   ]
  },
  {
   "cell_type": "code",
   "execution_count": 11,
   "metadata": {},
   "outputs": [
    {
     "data": {
      "image/png": "[encoded data removed]",
      "text/plain": [
       "<Figure size 80x180 with 1 Axes>"
      ]
     },
     "metadata": {},
     "output_type": "display_data"
    }
   ],
   "source": [
    "fig, ax = plt.subplots(1, 1)\n",
    "fig.set_size_inches(w=0.8, h=1.8)\n",
    "f.plot.bar(stacked=True, \n",
    "           ax=ax,\n",
    "           color=pal.values())\n",
    "for pos in ['top', 'bottom', 'right']:\n",
    "    ax.spines[pos].set_visible(False)\n",
    "ax.set_xticklabels(['HEK293T', 'U2OS'], rotation=30, va=\"top\", ha=\"right\")\n",
    "ax.xaxis.set_tick_params(length=0)\n",
    "ax.set_ylim(0, 100)\n",
    "ax.set_yticks(range(0, 101, 20))\n",
    "ax.set_yticks(range(0, 101, 10), minor=True)\n",
    "ax.set_ylabel('% of isoform pairs')\n",
    "ax.legend(loc=2, bbox_to_anchor=(1.01, 1), frameon=False)\n",
    "fig.savefig('../../figures/fig5/localization-and-condensate-difference_stacked-bar.pdf',\n",
    "            bbox_inches='tight')"
   ]
  },
  {
   "cell_type": "markdown",
   "metadata": {},
   "source": [
    "## 2. ribbon plots to show localization changes"
   ]
  },
  {
   "cell_type": "code",
   "execution_count": 12,
   "metadata": {},
   "outputs": [],
   "source": [
    "# NOTE: I put this code at the end because it changes the matplotlib defaults\n",
    "# so messes up the other plots\n",
    "from pySankey import sankey\n",
    "import matplotlib.font_manager as font_manager"
   ]
  },
  {
   "cell_type": "code",
   "execution_count": 13,
   "metadata": {},
   "outputs": [
    {
     "data": {
      "text/plain": [
       "0         both\n",
       "1      nucleus\n",
       "2      nucleus\n",
       "5      nucleus\n",
       "6      nucleus\n",
       "        ...   \n",
       "431       both\n",
       "432       both\n",
       "433       both\n",
       "438    nucleus\n",
       "439    nucleus\n",
       "Name: localization_U2OS_ref, Length: 129, dtype: object"
      ]
     },
     "execution_count": 13,
     "metadata": {},
     "output_type": "execute_result"
    }
   ],
   "source": [
    "pairs.loc[pairs['localization_U2OS_alt'].notnull(), 'localization_U2OS_ref']"
   ]
  },
  {
   "cell_type": "code",
   "execution_count": 14,
   "metadata": {},
   "outputs": [],
   "source": [
    "tmp = pairs.copy()\n",
    "tmp[\"loc_U2OS_ref_srt\"] = pd.Categorical(tmp['localization_U2OS_ref'], ['cytoplasm', 'both', 'nucleus'])\n",
    "tmp[\"loc_U2OS_alt_srt\"] = pd.Categorical(tmp['localization_U2OS_alt'], ['cytoplasm', 'both', 'nucleus'])\n",
    "tmp[\"loc_HEK_ref_srt\"] = pd.Categorical(tmp['localization_HEK_ref'], ['cytoplasm', 'both', 'nucleus'])\n",
    "tmp[\"loc_HEK_alt_srt\"] = pd.Categorical(tmp['localization_HEK_alt'], ['cytoplasm', 'both', 'nucleus'])\n",
    "\n",
    "tmp = tmp.sort_values(by='loc_U2OS_ref_srt')"
   ]
  },
  {
   "cell_type": "code",
   "execution_count": 15,
   "metadata": {},
   "outputs": [
    {
     "data": {
      "image/png": "[encoded data removed]",
      "text/plain": [
       "<Figure size 100x200 with 1 Axes>"
      ]
     },
     "metadata": {},
     "output_type": "display_data"
    }
   ],
   "source": [
    "sankey.sankey(left=tmp.loc[tmp['localization_U2OS_alt'].notnull(), 'localization_U2OS_ref'],\n",
    "              right=tmp.loc[tmp['localization_U2OS_alt'].notnull(), 'localization_U2OS_alt'],\n",
    "              fontsize=PAPER_FONTSIZE,\n",
    "              aspect=1.5,\n",
    "              colorDict={\"both\": colors[4],\n",
    "                         \"nucleus\": colors[1],\n",
    "                         \"cytoplasm\": colors[0]})\n",
    "ax = plt.gca()\n",
    "fig = plt.gcf()\n",
    "\n",
    "plt.gca().text(x=-1, y=pairs.shape[0] * 1.05, s='Reference:',\n",
    "               fontsize=PAPER_FONTSIZE,\n",
    "               va='bottom',\n",
    "               ha='right',)\n",
    "plt.gca().text(x=95, y=pairs.shape[0] * 1.05, s='Alternative:',\n",
    "               fontsize=PAPER_FONTSIZE,\n",
    "               va='bottom',\n",
    "               ha='left',)\n",
    "\n",
    "# change fonts back to helvetica\n",
    "font_prop = font_manager.FontProperties(family='Helvetica')\n",
    "for text in ax.texts:\n",
    "    text.set_fontproperties(font_prop)\n",
    "\n",
    "# change figure size\n",
    "fig.set_size_inches(1, 2)\n",
    "\n",
    "plt.savefig('../../figures/fig5/localization_ref-vs-alt_U2OS_Sankey.pdf',\n",
    "            bbox_inches='tight')"
   ]
  },
  {
   "cell_type": "code",
   "execution_count": 16,
   "metadata": {},
   "outputs": [],
   "source": [
    "tmp = tmp.sort_values(by='loc_HEK_ref_srt')"
   ]
  },
  {
   "cell_type": "code",
   "execution_count": 17,
   "metadata": {},
   "outputs": [
    {
     "data": {
      "image/png": "[encoded data removed]",
      "text/plain": [
       "<Figure size 100x200 with 1 Axes>"
      ]
     },
     "metadata": {},
     "output_type": "display_data"
    }
   ],
   "source": [
    "sankey.sankey(left=tmp.loc[tmp['localization_HEK_alt'].notnull(), 'localization_HEK_ref'],\n",
    "              right=tmp.loc[tmp['localization_HEK_alt'].notnull(), 'localization_HEK_alt'],\n",
    "              fontsize=PAPER_FONTSIZE,\n",
    "              aspect=1.5,\n",
    "              colorDict={\"both\": colors[4],\n",
    "                         \"nucleus\": colors[1],\n",
    "                         \"cytoplasm\": colors[0]})\n",
    "ax = plt.gca()\n",
    "fig = plt.gcf()\n",
    "\n",
    "plt.gca().text(x=-1, y=pairs.shape[0] * 1.05, s='Reference:',\n",
    "               fontsize=PAPER_FONTSIZE,\n",
    "               va='bottom',\n",
    "               ha='right',)\n",
    "plt.gca().text(x=95, y=pairs.shape[0] * 1.05, s='Alternative:',\n",
    "               fontsize=PAPER_FONTSIZE,\n",
    "               va='bottom',\n",
    "               ha='left',)\n",
    "\n",
    "# change fonts back to helvetica\n",
    "font_prop = font_manager.FontProperties(family='Helvetica')\n",
    "for text in ax.texts:\n",
    "    text.set_fontproperties(font_prop)\n",
    "\n",
    "# change figure size\n",
    "fig.set_size_inches(1, 2)\n",
    "\n",
    "plt.savefig('../../figures/fig5/localization_ref-vs-alt_HEK_Sankey.pdf',\n",
    "            bbox_inches='tight')"
   ]
  },
  {
   "cell_type": "code",
   "execution_count": 18,
   "metadata": {},
   "outputs": [],
   "source": [
    "# reset matplotlib params\n",
    "import seaborn as sns\n",
    "from matplotlib import pyplot as plt\n",
    "\n",
    "sns.set(**PAPER_PRESET)\n",
    "fontsize = PAPER_FONTSIZE"
   ]
  },
  {
   "cell_type": "markdown",
   "metadata": {},
   "source": [
    "## 3. correlation plots to show agreement between cell lines"
   ]
  },
  {
   "cell_type": "code",
   "execution_count": 19,
   "metadata": {},
   "outputs": [
    {
     "data": {
      "image/png": "[encoded data removed]",
      "text/plain": [
       "<Figure size 200x200 with 1 Axes>"
      ]
     },
     "metadata": {},
     "output_type": "display_data"
    }
   ],
   "source": [
    "tbl = (df.groupby(['localization_HEK', 'localization_U2OS'])\n",
    " .size()\n",
    " .reset_index()\n",
    " .pivot(values=0,\n",
    "        index='localization_HEK',\n",
    "        columns='localization_U2OS')\n",
    " .fillna(0)\n",
    " .astype(int)\n",
    " .iloc[::-1, ::-1]\n",
    "        )\n",
    "\n",
    "fig, ax = plt.subplots(1, 1)\n",
    "fig.set_size_inches(2, 2)\n",
    "table_circle_size_plot(tbl, ax=ax, scale=4000, fontsize=PAPER_FONTSIZE)\n",
    "ax.set_ylabel('U2OS')\n",
    "ax.set_xlabel('HEK293T')\n",
    "ax.set_xticklabels([x.get_text().capitalize() for x in ax.get_xticklabels()])\n",
    "ax.set_yticklabels([x.get_text().capitalize() for x in ax.get_yticklabels()])\n",
    "fig.savefig('../../figures/fig5/localization_HEK-vs-U2OS_diff-cat_circle-plot.pdf', bbox_inches='tight')"
   ]
  },
  {
   "cell_type": "code",
   "execution_count": 20,
   "metadata": {},
   "outputs": [
    {
     "data": {
      "image/png": "[encoded data removed]",
      "text/plain": [
       "<Figure size 250x250 with 1 Axes>"
      ]
     },
     "metadata": {},
     "output_type": "display_data"
    }
   ],
   "source": [
    "tbl = (pairs.groupby(['condensate_cat_only_detailed_HEK', 'condensate_cat_only_detailed_U2OS'])\n",
    " .size()\n",
    " .reset_index()\n",
    " .pivot(values=0,\n",
    "        index='condensate_cat_only_detailed_HEK',\n",
    "        columns='condensate_cat_only_detailed_U2OS')\n",
    " .fillna(0)\n",
    " .astype(int)\n",
    " .iloc[::-1, ::-1]\n",
    "        )\n",
    "\n",
    "fig, ax = plt.subplots(1, 1)\n",
    "fig.set_size_inches(2.5, 2.5)\n",
    "table_circle_size_plot(tbl, ax=ax, scale=4000, fontsize=PAPER_FONTSIZE)\n",
    "ax.set_ylabel('U2OS')\n",
    "ax.set_xlabel('HEK293T')\n",
    "fig.savefig('../../figures/fig5/condensate_only_detailed_HEK-vs-U2OS_diff-vs-no_circle-plot.pdf', bbox_inches='tight')"
   ]
  },
  {
   "cell_type": "code",
   "execution_count": 21,
   "metadata": {},
   "outputs": [
    {
     "data": {
      "text/plain": [
       "Both form condensates           86\n",
       "Alternative loses condensate    19\n",
       "Alernative gains condensate     16\n",
       "Neither form condensates         8\n",
       "Name: condensate_cat_only_detailed_HEK, dtype: int64"
      ]
     },
     "execution_count": 21,
     "metadata": {},
     "output_type": "execute_result"
    }
   ],
   "source": [
    "# to do fix the typo in alternative gains\n",
    "pairs.condensate_cat_only_detailed_HEK.value_counts()"
   ]
  },
  {
   "cell_type": "code",
   "execution_count": 22,
   "metadata": {},
   "outputs": [
    {
     "name": "stdout",
     "output_type": "stream",
     "text": [
      "NUM REF/ALT PAIRS THAT SHOW CONSISTENT RESULTS BETWEEN HEK/U2OS: 108\n",
      "PERCENT REF/ALT PAIRS THAT SHOW CONSISTENT RESULTS BETWEEN HEK/U2OS: 83.72093023255815\n"
     ]
    }
   ],
   "source": [
    "num_consistent = pairs[pairs[\"condensate_cat_only_detailed_HEK\"] == pairs[\"condensate_cat_only_detailed_U2OS\"]]\n",
    "print(\"NUM REF/ALT PAIRS THAT SHOW CONSISTENT RESULTS BETWEEN HEK/U2OS: %s\" % len(num_consistent))\n",
    "print(\"PERCENT REF/ALT PAIRS THAT SHOW CONSISTENT RESULTS BETWEEN HEK/U2OS: %s\" % (len(num_consistent)/len(pairs)*100))"
   ]
  },
  {
   "cell_type": "code",
   "execution_count": 23,
   "metadata": {},
   "outputs": [
    {
     "name": "stdout",
     "output_type": "stream",
     "text": [
      "NUM REF/ALT PAIRS THAT SHOW DIFFS IN CONDENSATES, CONSISTENTLY: 21\n",
      "PERCENT REF/ALT PAIRS THAT SHOW DIFFS IN CONDENSATES, CONSISTENTLY: 16.27906976744186\n"
     ]
    }
   ],
   "source": [
    "num_consistent_diff = num_consistent[num_consistent[\"condensate_cat_only_detailed_HEK\"].isin([\"Alternative loses condensate\", \"Alernative gains condensate\"])]\n",
    "print(\"NUM REF/ALT PAIRS THAT SHOW DIFFS IN CONDENSATES, CONSISTENTLY: %s\" % len(num_consistent_diff))\n",
    "print(\"PERCENT REF/ALT PAIRS THAT SHOW DIFFS IN CONDENSATES, CONSISTENTLY: %s\" % (len(num_consistent_diff)/len(pairs)*100))"
   ]
  },
  {
   "cell_type": "markdown",
   "metadata": {},
   "source": [
    "## 4. charts to show distribution of changes"
   ]
  },
  {
   "cell_type": "code",
   "execution_count": 24,
   "metadata": {},
   "outputs": [],
   "source": [
    "def reword_for_pie_chart(row, col):\n",
    "    if pd.isnull(row[col]):\n",
    "        return np.nan\n",
    "    elif row[col] == \"BOTH\":\n",
    "        return \"both nuclear/\\ncytoplasmic\\ncondensates\"\n",
    "    elif row[col] == \"CC\":\n",
    "        return \"cytoplasmic\\ncondensates\"\n",
    "    elif row[col] == \"NC\":\n",
    "        return \"nuclear\\ncondensates\"\n",
    "    else:\n",
    "        return np.nan\n",
    "    \n",
    "df[\"HEK_Condensate_rw\"] = df.apply(reword_for_pie_chart, axis=1, col=\"HEK_Condensate\")\n",
    "df[\"U2OS_Condensate_rw\"] = df.apply(reword_for_pie_chart, axis=1, col=\"U2OS_Condensate\")"
   ]
  },
  {
   "cell_type": "code",
   "execution_count": 25,
   "metadata": {},
   "outputs": [
    {
     "data": {
      "text/plain": [
       "both nuclear/\\ncytoplasmic\\ncondensates    17\n",
       "cytoplasmic\\ncondensates                   12\n",
       "no\\ncondensates                            11\n",
       "nuclear\\ncondensates                       20\n",
       "Name: U2OS_Condensate_rw, dtype: int64"
      ]
     },
     "execution_count": 25,
     "metadata": {},
     "output_type": "execute_result"
    }
   ],
   "source": [
    "df.loc[df['is_cloned_reference'], f'{cl}_Condensate_rw'].fillna('no\\ncondensates').value_counts().sort_index()"
   ]
  },
  {
   "cell_type": "code",
   "execution_count": 26,
   "metadata": {},
   "outputs": [
    {
     "data": {
      "image/png": "[encoded data removed]",
      "text/plain": [
       "<Figure size 450x300 with 4 Axes>"
      ]
     },
     "metadata": {},
     "output_type": "display_data"
    }
   ],
   "source": [
    "fig, axs = plt.subplots(nrows=2, ncols=2, figsize=(4.5, 3))\n",
    "for i, cl in enumerate(['HEK', 'U2OS']):\n",
    "    n = df['is_cloned_reference'].sum()\n",
    "    (\n",
    "        df.loc[df['is_cloned_reference'], f'{cl}_Condensate_rw']\n",
    "        .fillna('no\\ncondensates')\n",
    "        .value_counts()\n",
    "        .sort_index()\n",
    "        .plot.pie(autopct=lambda x: '{:.0f}\\n({:.0f}%)'.format(x / 100 * n, x),\n",
    "    ax=axs[i, 0], colors=[colors[4], colors[0], \"grey\", colors[1]])\n",
    "    )\n",
    "    n = (~df['is_cloned_reference']).sum()\n",
    "    (\n",
    "        df.loc[~df['is_cloned_reference'], f'{cl}_Condensate_rw']\n",
    "        .fillna('no\\ncondensates')\n",
    "        .value_counts()\n",
    "        .sort_index()\n",
    "        .plot.pie(autopct=lambda x: '{:.0f}\\n({:.0f}%)'.format(x / 100 * n, x),\n",
    "    ax=axs[i, 1], colors=[colors[4], colors[0], \"grey\", colors[1]])\n",
    "    )\n",
    "axs[0, 0].set_title('Reference isoform')\n",
    "axs[0, 1].set_title('Alternative isoform')\n",
    "axs[0, 0].text(s='HEK293T\\n\\n', x=-1.5, y=0, rotation=90, ha='right', va='center')\n",
    "axs[1, 0].text(s='U2OS\\n\\n', x=-1.5, y=0, rotation=90, ha='right', va='center')\n",
    "for ax in axs.flatten():\n",
    "    ax.set_ylabel('')\n",
    "fig.savefig('../../figures/fig5/condensate-localisation_ref-vs-alt_pie.pdf',\n",
    "            bbox_inches='tight')"
   ]
  },
  {
   "cell_type": "code",
   "execution_count": 27,
   "metadata": {},
   "outputs": [
    {
     "data": {
      "image/png": "[encoded data removed]",
      "text/plain": [
       "<Figure size 60x180 with 1 Axes>"
      ]
     },
     "metadata": {},
     "output_type": "display_data"
    }
   ],
   "source": [
    "f = pd.concat(\n",
    "        [pairs['condensate_cat_only_detailed_HEK'].value_counts().to_frame().T,\n",
    "        pairs['condensate_cat_only_detailed_U2OS'].value_counts().to_frame().T,]\n",
    ")\n",
    "if f.sum(axis=1).nunique() > 1:\n",
    "    raise UserWarning('expected identical numbers for both cell lines')\n",
    "f = f / f.sum(axis=1).iloc[0] * 100\n",
    "fig, ax = plt.subplots(1, 1)\n",
    "fig.set_size_inches(w=0.6, h=1.8)\n",
    "f.plot.bar(stacked=True, \n",
    "           ax=ax,\n",
    "           color=[colors[4], colors[0], colors[1], \"grey\"])\n",
    "for pos in ['top', 'bottom', 'right']:\n",
    "    ax.spines[pos].set_visible(False)\n",
    "ax.set_xticklabels(['HEK293T', 'U2OS'], rotation=30, va=\"top\", ha=\"right\")\n",
    "ax.xaxis.set_tick_params(length=0)\n",
    "ax.set_ylim(0, 100)\n",
    "ax.set_yticks(range(0, 101, 20))\n",
    "ax.set_yticks(range(0, 101, 10), minor=True)\n",
    "ax.set_ylabel('% of isoform pairs')\n",
    "ax.legend(bbox_to_anchor=(1, 1), frameon=False)\n",
    "fig.savefig('../../figures/fig5/condensate-difference_stacked-bar.pdf',\n",
    "            bbox_inches='tight')"
   ]
  },
  {
   "cell_type": "markdown",
   "metadata": {},
   "source": [
    "## 5. examine how RNA-seq expression correlates with condensate formation"
   ]
  },
  {
   "cell_type": "code",
   "execution_count": 28,
   "metadata": {},
   "outputs": [],
   "source": [
    "from data_loading import (load_annotated_TFiso1_collection,\n",
    "                          load_developmental_tissue_expression_remapped,\n",
    "                          load_gtex_remapped)"
   ]
  },
  {
   "cell_type": "code",
   "execution_count": 29,
   "metadata": {},
   "outputs": [
    {
     "name": "stdout",
     "output_type": "stream",
     "text": [
      "reading from cache\n"
     ]
    }
   ],
   "source": [
    "df_gtex, metadata_gtex, genes_gtex = load_gtex_remapped()\n",
    "\n",
    "exclusion_list_gtex = {'Cells - Leukemia cell line (CML)',\n",
    "                       'Cells - EBV-transformed lymphocytes',\n",
    "                       'Cells - Cultured fibroblasts'}\n",
    "\n",
    "df_gtex = df_gtex.loc[:, ~df_gtex.columns.map(metadata_gtex['body_site']).isin(exclusion_list_gtex)]\n",
    "metadata_gtex = metadata_gtex.loc[~metadata_gtex['body_site'].isin(exclusion_list_gtex), :]\n",
    "\n",
    "means_gtex = df_gtex.groupby(df_gtex.columns.map(metadata_gtex['body_site']), axis=1).mean()"
   ]
  },
  {
   "cell_type": "code",
   "execution_count": 30,
   "metadata": {},
   "outputs": [
    {
     "name": "stdout",
     "output_type": "stream",
     "text": [
      "reading from cache\n"
     ]
    }
   ],
   "source": [
    "df_dev, metadata_dev, genes_dev = load_developmental_tissue_expression_remapped()\n",
    "\n",
    "rename_dev_stage = {'8 week post conception,embryo': '08',\n",
    "'11 week post conception,late embryo': '11',\n",
    "'embryo,7 week post conception': '07',\n",
    "'infant': 'infant',\n",
    "'10 week post conception,late embryo': '10',\n",
    "'young adult': 'young adult',\n",
    "'13 week post conception,late embryo': '13',\n",
    "'16 week post conception,late embryo': '16',\n",
    "'4 week post conception,embryo': '04',\n",
    "'neonate': 'neonate',\n",
    "'19 week post conception,late embryo': '19',\n",
    "'9 week post conception,late embryo': '09',\n",
    "'adolescent': 'adolescent',\n",
    "'5 week post conception,embryo': '05',\n",
    "'embryo,6 week post conception': '06',\n",
    "'12 week post conception,late embryo': '12',\n",
    "'18 week post conception,late embryo': '18',\n",
    "'toddler': 'toddler',\n",
    "'elderly': 'elderly',\n",
    "'middle adult': 'adult',\n",
    "'school age child': 'child'}\n",
    "\n",
    "metadata_dev['dev_stage'] = metadata_dev['Developmental_Stage'].map(rename_dev_stage)\n",
    "means_dev = (df_dev.groupby(df_dev.columns.map(metadata_dev['organism_part'] + ' ' + metadata_dev['dev_stage']), axis=1)\n",
    "           .mean())"
   ]
  },
  {
   "cell_type": "code",
   "execution_count": 31,
   "metadata": {},
   "outputs": [],
   "source": [
    "means_gtex[\"max_gtex\"] = means_gtex.max(axis=1)\n",
    "max_gtex = means_gtex[[\"max_gtex\"]] \n",
    "\n",
    "means_dev[\"max_dev\"] = means_dev.max(axis=1)\n",
    "max_dev = means_dev[[\"max_dev\"]]\n",
    "\n",
    "max_tpm = max_gtex.join(max_dev)\n",
    "max_tpm = np.log2(max_tpm+1)\n",
    "max_tpm = max_tpm.reset_index()\n",
    "max_tpm[\"clone_acc\"] = max_tpm.UID.str.split(\" \", expand=True)[0]"
   ]
  },
  {
   "cell_type": "code",
   "execution_count": 32,
   "metadata": {},
   "outputs": [],
   "source": [
    "max_tpm[\"gene_symbol\"] = max_tpm[\"clone_acc\"].str.split(\"|\", expand=True)[0]\n",
    "max_tpm_gene = max_tpm[[\"gene_symbol\", \"max_gtex\", \"max_dev\"]]\n",
    "max_tpm_gene = max_tpm_gene.groupby(\"gene_symbol\")[[\"max_gtex\", \"max_dev\"]].agg(\"sum\").reset_index()\n",
    "max_tpm_gene.columns = [\"gene_symbol\", \"max_gtex_gene\", \"max_dev_gene\"]"
   ]
  },
  {
   "cell_type": "code",
   "execution_count": 33,
   "metadata": {},
   "outputs": [
    {
     "data": {
      "text/html": [
       "<div>\n",
       "<style scoped>\n",
       "    .dataframe tbody tr th:only-of-type {\n",
       "        vertical-align: middle;\n",
       "    }\n",
       "\n",
       "    .dataframe tbody tr th {\n",
       "        vertical-align: top;\n",
       "    }\n",
       "\n",
       "    .dataframe thead th {\n",
       "        text-align: right;\n",
       "    }\n",
       "</style>\n",
       "<table border=\"1\" class=\"dataframe\">\n",
       "  <thead>\n",
       "    <tr style=\"text-align: right;\">\n",
       "      <th></th>\n",
       "      <th>gene_symbol</th>\n",
       "      <th>Ensembl_gene_ID</th>\n",
       "      <th>family</th>\n",
       "      <th>is_dimerizing_TF_family</th>\n",
       "      <th>clone_acc_ref</th>\n",
       "      <th>clone_acc_alt</th>\n",
       "      <th>Ensembl_transcript_IDs_ref</th>\n",
       "      <th>Ensembl_transcript_IDs_alt</th>\n",
       "      <th>is_ref_novel_isoform</th>\n",
       "      <th>is_alt_novel_isoform</th>\n",
       "      <th>...</th>\n",
       "      <th>combined_cat_U2OS</th>\n",
       "      <th>condensate_or_loc_change_both</th>\n",
       "      <th>condensate_cat_detailed_HEK</th>\n",
       "      <th>condensate_cat_detailed_U2OS</th>\n",
       "      <th>max_gtex_ref</th>\n",
       "      <th>max_dev_ref</th>\n",
       "      <th>max_gtex_alt</th>\n",
       "      <th>max_dev_alt</th>\n",
       "      <th>max_gtex_gene</th>\n",
       "      <th>max_dev_gene</th>\n",
       "    </tr>\n",
       "  </thead>\n",
       "  <tbody>\n",
       "    <tr>\n",
       "      <th>0</th>\n",
       "      <td>ZBTB18</td>\n",
       "      <td>ENSG00000179456</td>\n",
       "      <td>C2H2 ZF</td>\n",
       "      <td>False</td>\n",
       "      <td>ZBTB18|1/2|04E08</td>\n",
       "      <td>ZBTB18|2/2|12E05</td>\n",
       "      <td>ENST00000358704</td>\n",
       "      <td>ENST00000622512</td>\n",
       "      <td>False</td>\n",
       "      <td>False</td>\n",
       "      <td>...</td>\n",
       "      <td>Same localization and condensate formation</td>\n",
       "      <td>No difference</td>\n",
       "      <td>BOTH -&gt; NC</td>\n",
       "      <td>BOTH -&gt; BOTH</td>\n",
       "      <td>3.119615</td>\n",
       "      <td>3.402279</td>\n",
       "      <td>2.996788</td>\n",
       "      <td>3.260954</td>\n",
       "      <td>6.116403</td>\n",
       "      <td>6.663233</td>\n",
       "    </tr>\n",
       "    <tr>\n",
       "      <th>1</th>\n",
       "      <td>PRRX1</td>\n",
       "      <td>ENSG00000116132</td>\n",
       "      <td>Homeodomain</td>\n",
       "      <td>False</td>\n",
       "      <td>PRRX1|2/3|09F06</td>\n",
       "      <td>PRRX1|1/3|09C07</td>\n",
       "      <td>ENST00000239461</td>\n",
       "      <td>ENST00000367760</td>\n",
       "      <td>False</td>\n",
       "      <td>False</td>\n",
       "      <td>...</td>\n",
       "      <td>Difference in condensate formation</td>\n",
       "      <td>Difference</td>\n",
       "      <td>NC -&gt; None</td>\n",
       "      <td>NC -&gt; None</td>\n",
       "      <td>2.856889</td>\n",
       "      <td>2.835991</td>\n",
       "      <td>2.420840</td>\n",
       "      <td>2.290445</td>\n",
       "      <td>7.489377</td>\n",
       "      <td>7.683716</td>\n",
       "    </tr>\n",
       "    <tr>\n",
       "      <th>2</th>\n",
       "      <td>PRRX1</td>\n",
       "      <td>ENSG00000116132</td>\n",
       "      <td>Homeodomain</td>\n",
       "      <td>False</td>\n",
       "      <td>PRRX1|2/3|09F06</td>\n",
       "      <td>PRRX1|3/3|09H08</td>\n",
       "      <td>ENST00000239461</td>\n",
       "      <td>ENST00000497230</td>\n",
       "      <td>False</td>\n",
       "      <td>False</td>\n",
       "      <td>...</td>\n",
       "      <td>Same localization and condensate formation</td>\n",
       "      <td>NaN</td>\n",
       "      <td>NC -&gt; None</td>\n",
       "      <td>NC -&gt; NC</td>\n",
       "      <td>2.856889</td>\n",
       "      <td>2.835991</td>\n",
       "      <td>2.211648</td>\n",
       "      <td>2.557280</td>\n",
       "      <td>7.489377</td>\n",
       "      <td>7.683716</td>\n",
       "    </tr>\n",
       "    <tr>\n",
       "      <th>3</th>\n",
       "      <td>GRHL3</td>\n",
       "      <td>ENSG00000158055</td>\n",
       "      <td>Grainyhead</td>\n",
       "      <td>True</td>\n",
       "      <td>GRHL3|3/7|08G09</td>\n",
       "      <td>GRHL3|1/7|08E10</td>\n",
       "      <td>ENST00000361548</td>\n",
       "      <td>ENST00000350501</td>\n",
       "      <td>False</td>\n",
       "      <td>False</td>\n",
       "      <td>...</td>\n",
       "      <td>Difference in localization</td>\n",
       "      <td>NaN</td>\n",
       "      <td>NC -&gt; BOTH</td>\n",
       "      <td>NC -&gt; BOTH</td>\n",
       "      <td>2.902086</td>\n",
       "      <td>1.775482</td>\n",
       "      <td>1.261399</td>\n",
       "      <td>0.907528</td>\n",
       "      <td>7.919554</td>\n",
       "      <td>6.649063</td>\n",
       "    </tr>\n",
       "    <tr>\n",
       "      <th>4</th>\n",
       "      <td>GRHL3</td>\n",
       "      <td>ENSG00000158055</td>\n",
       "      <td>Grainyhead</td>\n",
       "      <td>True</td>\n",
       "      <td>GRHL3|3/7|08G09</td>\n",
       "      <td>GRHL3|2/7|08A10</td>\n",
       "      <td>ENST00000361548</td>\n",
       "      <td>ENST00000236255</td>\n",
       "      <td>False</td>\n",
       "      <td>False</td>\n",
       "      <td>...</td>\n",
       "      <td>Difference in localization</td>\n",
       "      <td>NaN</td>\n",
       "      <td>NC -&gt; BOTH</td>\n",
       "      <td>NC -&gt; BOTH</td>\n",
       "      <td>2.902086</td>\n",
       "      <td>1.775482</td>\n",
       "      <td>0.544584</td>\n",
       "      <td>0.271218</td>\n",
       "      <td>7.919554</td>\n",
       "      <td>6.649063</td>\n",
       "    </tr>\n",
       "  </tbody>\n",
       "</table>\n",
       "<p>5 rows × 90 columns</p>\n",
       "</div>"
      ],
      "text/plain": [
       "  gene_symbol  Ensembl_gene_ID       family  is_dimerizing_TF_family  \\\n",
       "0      ZBTB18  ENSG00000179456      C2H2 ZF                    False   \n",
       "1       PRRX1  ENSG00000116132  Homeodomain                    False   \n",
       "2       PRRX1  ENSG00000116132  Homeodomain                    False   \n",
       "3       GRHL3  ENSG00000158055   Grainyhead                     True   \n",
       "4       GRHL3  ENSG00000158055   Grainyhead                     True   \n",
       "\n",
       "      clone_acc_ref     clone_acc_alt Ensembl_transcript_IDs_ref  \\\n",
       "0  ZBTB18|1/2|04E08  ZBTB18|2/2|12E05            ENST00000358704   \n",
       "1   PRRX1|2/3|09F06   PRRX1|1/3|09C07            ENST00000239461   \n",
       "2   PRRX1|2/3|09F06   PRRX1|3/3|09H08            ENST00000239461   \n",
       "3   GRHL3|3/7|08G09   GRHL3|1/7|08E10            ENST00000361548   \n",
       "4   GRHL3|3/7|08G09   GRHL3|2/7|08A10            ENST00000361548   \n",
       "\n",
       "  Ensembl_transcript_IDs_alt  is_ref_novel_isoform  is_alt_novel_isoform  ...  \\\n",
       "0            ENST00000622512                 False                 False  ...   \n",
       "1            ENST00000367760                 False                 False  ...   \n",
       "2            ENST00000497230                 False                 False  ...   \n",
       "3            ENST00000350501                 False                 False  ...   \n",
       "4            ENST00000236255                 False                 False  ...   \n",
       "\n",
       "                            combined_cat_U2OS  condensate_or_loc_change_both  \\\n",
       "0  Same localization and condensate formation                  No difference   \n",
       "1          Difference in condensate formation                     Difference   \n",
       "2  Same localization and condensate formation                            NaN   \n",
       "3                  Difference in localization                            NaN   \n",
       "4                  Difference in localization                            NaN   \n",
       "\n",
       "   condensate_cat_detailed_HEK  condensate_cat_detailed_U2OS  max_gtex_ref  \\\n",
       "0                   BOTH -> NC                  BOTH -> BOTH      3.119615   \n",
       "1                   NC -> None                    NC -> None      2.856889   \n",
       "2                   NC -> None                      NC -> NC      2.856889   \n",
       "3                   NC -> BOTH                    NC -> BOTH      2.902086   \n",
       "4                   NC -> BOTH                    NC -> BOTH      2.902086   \n",
       "\n",
       "   max_dev_ref  max_gtex_alt  max_dev_alt  max_gtex_gene  max_dev_gene  \n",
       "0     3.402279      2.996788     3.260954       6.116403      6.663233  \n",
       "1     2.835991      2.420840     2.290445       7.489377      7.683716  \n",
       "2     2.835991      2.211648     2.557280       7.489377      7.683716  \n",
       "3     1.775482      1.261399     0.907528       7.919554      6.649063  \n",
       "4     1.775482      0.544584     0.271218       7.919554      6.649063  \n",
       "\n",
       "[5 rows x 90 columns]"
      ]
     },
     "execution_count": 33,
     "metadata": {},
     "output_type": "execute_result"
    }
   ],
   "source": [
    "pairs_exp = pairs.merge(max_tpm[[\"clone_acc\", \"max_gtex\", \n",
    "                             \"max_dev\"]],\n",
    "                        left_on=\"clone_acc_ref\", right_on=\"clone_acc\")\n",
    "pairs_exp.drop(\"clone_acc\", axis=1, inplace=True)\n",
    "pairs_exp = pairs_exp.merge(max_tpm[[\"clone_acc\", \"max_gtex\", \"max_dev\"]],\n",
    "                    left_on=\"clone_acc_alt\", \n",
    "                    right_on=\"clone_acc\",\n",
    "                    suffixes=(\"_ref\", \"_alt\"))\n",
    "pairs_exp.drop(\"clone_acc\", axis=1, inplace=True)\n",
    "pairs_exp = pairs_exp.merge(max_tpm_gene, on=\"gene_symbol\")\n",
    "pairs_exp.head()"
   ]
  },
  {
   "cell_type": "code",
   "execution_count": 34,
   "metadata": {},
   "outputs": [
    {
     "name": "stdout",
     "output_type": "stream",
     "text": [
      "254\n"
     ]
    },
    {
     "data": {
      "text/html": [
       "<div>\n",
       "<style scoped>\n",
       "    .dataframe tbody tr th:only-of-type {\n",
       "        vertical-align: middle;\n",
       "    }\n",
       "\n",
       "    .dataframe tbody tr th {\n",
       "        vertical-align: top;\n",
       "    }\n",
       "\n",
       "    .dataframe thead th {\n",
       "        text-align: right;\n",
       "    }\n",
       "</style>\n",
       "<table border=\"1\" class=\"dataframe\">\n",
       "  <thead>\n",
       "    <tr style=\"text-align: right;\">\n",
       "      <th></th>\n",
       "      <th>gene_symbol</th>\n",
       "      <th>clone_acc_ref</th>\n",
       "      <th>clone_acc_alt</th>\n",
       "      <th>max_dev_ref</th>\n",
       "      <th>max_gtex_ref</th>\n",
       "      <th>variable</th>\n",
       "      <th>value</th>\n",
       "    </tr>\n",
       "  </thead>\n",
       "  <tbody>\n",
       "    <tr>\n",
       "      <th>0</th>\n",
       "      <td>ZBTB18</td>\n",
       "      <td>ZBTB18|1/2|04E08</td>\n",
       "      <td>ZBTB18|2/2|12E05</td>\n",
       "      <td>3.402279</td>\n",
       "      <td>3.119615</td>\n",
       "      <td>condensates_observed_HEK_ref</td>\n",
       "      <td>True</td>\n",
       "    </tr>\n",
       "    <tr>\n",
       "      <th>1</th>\n",
       "      <td>PRRX1</td>\n",
       "      <td>PRRX1|2/3|09F06</td>\n",
       "      <td>PRRX1|1/3|09C07</td>\n",
       "      <td>2.835991</td>\n",
       "      <td>2.856889</td>\n",
       "      <td>condensates_observed_HEK_ref</td>\n",
       "      <td>True</td>\n",
       "    </tr>\n",
       "    <tr>\n",
       "      <th>2</th>\n",
       "      <td>PRRX1</td>\n",
       "      <td>PRRX1|2/3|09F06</td>\n",
       "      <td>PRRX1|3/3|09H08</td>\n",
       "      <td>2.835991</td>\n",
       "      <td>2.856889</td>\n",
       "      <td>condensates_observed_HEK_ref</td>\n",
       "      <td>True</td>\n",
       "    </tr>\n",
       "    <tr>\n",
       "      <th>3</th>\n",
       "      <td>GRHL3</td>\n",
       "      <td>GRHL3|3/7|08G09</td>\n",
       "      <td>GRHL3|1/7|08E10</td>\n",
       "      <td>1.775482</td>\n",
       "      <td>2.902086</td>\n",
       "      <td>condensates_observed_HEK_ref</td>\n",
       "      <td>True</td>\n",
       "    </tr>\n",
       "    <tr>\n",
       "      <th>4</th>\n",
       "      <td>GRHL3</td>\n",
       "      <td>GRHL3|3/7|08G09</td>\n",
       "      <td>GRHL3|2/7|08A10</td>\n",
       "      <td>1.775482</td>\n",
       "      <td>2.902086</td>\n",
       "      <td>condensates_observed_HEK_ref</td>\n",
       "      <td>True</td>\n",
       "    </tr>\n",
       "  </tbody>\n",
       "</table>\n",
       "</div>"
      ],
      "text/plain": [
       "  gene_symbol     clone_acc_ref     clone_acc_alt  max_dev_ref  max_gtex_ref  \\\n",
       "0      ZBTB18  ZBTB18|1/2|04E08  ZBTB18|2/2|12E05     3.402279      3.119615   \n",
       "1       PRRX1   PRRX1|2/3|09F06   PRRX1|1/3|09C07     2.835991      2.856889   \n",
       "2       PRRX1   PRRX1|2/3|09F06   PRRX1|3/3|09H08     2.835991      2.856889   \n",
       "3       GRHL3   GRHL3|3/7|08G09   GRHL3|1/7|08E10     1.775482      2.902086   \n",
       "4       GRHL3   GRHL3|3/7|08G09   GRHL3|2/7|08A10     1.775482      2.902086   \n",
       "\n",
       "                       variable value  \n",
       "0  condensates_observed_HEK_ref  True  \n",
       "1  condensates_observed_HEK_ref  True  \n",
       "2  condensates_observed_HEK_ref  True  \n",
       "3  condensates_observed_HEK_ref  True  \n",
       "4  condensates_observed_HEK_ref  True  "
      ]
     },
     "execution_count": 34,
     "metadata": {},
     "output_type": "execute_result"
    }
   ],
   "source": [
    "to_plot = pd.melt(pairs_exp[[\"gene_symbol\", \"clone_acc_ref\", \"clone_acc_alt\",\n",
    "                         \"condensates_observed_HEK_ref\", \"condensates_observed_U2OS_ref\",\n",
    "                         \"max_dev_ref\", \"max_gtex_ref\"]],\n",
    "                  id_vars=[\"gene_symbol\", \"clone_acc_ref\", \"clone_acc_alt\",\n",
    "                           \"max_dev_ref\", \"max_gtex_ref\"])\n",
    "to_plot = to_plot.drop_duplicates()\n",
    "print(len(to_plot))\n",
    "to_plot.head()"
   ]
  },
  {
   "cell_type": "code",
   "execution_count": 35,
   "metadata": {},
   "outputs": [
    {
     "name": "stderr",
     "output_type": "stream",
     "text": [
      "/Users/lukelambourne/work/tf_isoforms/venv/lib/python3.8/site-packages/seaborn/categorical.py:1296: UserWarning: 22.7% of the points cannot be placed; you may want to decrease the size of the markers or use stripplot.\n",
      "  warnings.warn(msg, UserWarning)\n",
      "/Users/lukelambourne/work/tf_isoforms/venv/lib/python3.8/site-packages/seaborn/categorical.py:1296: UserWarning: 42.9% of the points cannot be placed; you may want to decrease the size of the markers or use stripplot.\n",
      "  warnings.warn(msg, UserWarning)\n",
      "/Users/lukelambourne/work/tf_isoforms/venv/lib/python3.8/site-packages/seaborn/categorical.py:1296: UserWarning: 20.0% of the points cannot be placed; you may want to decrease the size of the markers or use stripplot.\n",
      "  warnings.warn(msg, UserWarning)\n",
      "/Users/lukelambourne/work/tf_isoforms/venv/lib/python3.8/site-packages/seaborn/categorical.py:1296: UserWarning: 41.1% of the points cannot be placed; you may want to decrease the size of the markers or use stripplot.\n",
      "  warnings.warn(msg, UserWarning)\n"
     ]
    },
    {
     "data": {
      "image/png": "[encoded data removed]",
      "text/plain": [
       "<Figure size 175x175 with 1 Axes>"
      ]
     },
     "metadata": {},
     "output_type": "display_data"
    }
   ],
   "source": [
    "fig = plt.figure(figsize=(1.75, 1.75))\n",
    "\n",
    "ax = sns.boxplot(data=to_plot, x=\"variable\", hue=\"value\", y=\"max_dev_ref\",\n",
    "                 palette={False: \"grey\", True: colors[0]},\n",
    "                 fliersize=0)\n",
    "mimic_r_boxplot(ax)\n",
    "sns.swarmplot(data=to_plot, x=\"variable\", hue=\"value\", y=\"max_dev_ref\",\n",
    "              palette={False: \"grey\", True: colors[0]},\n",
    "              edgecolor=\"black\", linewidth=0.5, ax=ax,\n",
    "              size=3, alpha=0.5, dodge=True)\n",
    "\n",
    "for loc in ['right', 'top']:\n",
    "    ax.spines[loc].set_visible(False)\n",
    "    \n",
    "ax.set_xlabel(\"\")\n",
    "ax.set_xticklabels([\"HEK293T\", \"U2OS\"], rotation=30, ha=\"right\", va=\"top\")\n",
    "ax.set_ylabel(\"Maximum log2(gene-level tpm)\")\n",
    "ax.set_title(\"Reference isoforms\")\n",
    "\n",
    "handles, labels = ax.get_legend_handles_labels()\n",
    "plt.legend(handles=handles[0:2], labels=[\"no condensates observed\", \"condensates observed\"],\n",
    "           loc=2, bbox_to_anchor=(1.01, 1), facecolor=\"white\", markerscale=1,\n",
    "           frameon=False)\n",
    "\n",
    "for i, c in enumerate([\"HEK\", \"U2OS\"]):\n",
    "    x = to_plot[(to_plot[\"variable\"] == \"condensates_observed_%s_ref\" % c) &\n",
    "                (to_plot[\"value\"] == False)][\"max_dev_ref\"].values\n",
    "    y = to_plot[(to_plot[\"variable\"] == \"condensates_observed_%s_ref\" % c) &\n",
    "                (to_plot[\"value\"] == True)][\"max_dev_ref\"].values\n",
    "    u, p = stats.mannwhitneyu(x, y, alternative=\"two-sided\")\n",
    "    annotate_pval(ax, i-0.2, i+0.2, 4.8, 0, 4.8, p, PAPER_FONTSIZE)\n",
    "\n",
    "ax.set_ylim((-0.1, 5))\n",
    "fig.savefig(\"../../figures/fig5/Dev_expr_cond.pdf\", dpi=\"figure\", bbox_inches=\"tight\")"
   ]
  },
  {
   "cell_type": "code",
   "execution_count": 36,
   "metadata": {},
   "outputs": [
    {
     "name": "stderr",
     "output_type": "stream",
     "text": [
      "/Users/lukelambourne/work/tf_isoforms/venv/lib/python3.8/site-packages/seaborn/categorical.py:1296: UserWarning: 9.1% of the points cannot be placed; you may want to decrease the size of the markers or use stripplot.\n",
      "  warnings.warn(msg, UserWarning)\n",
      "/Users/lukelambourne/work/tf_isoforms/venv/lib/python3.8/site-packages/seaborn/categorical.py:1296: UserWarning: 47.6% of the points cannot be placed; you may want to decrease the size of the markers or use stripplot.\n",
      "  warnings.warn(msg, UserWarning)\n",
      "/Users/lukelambourne/work/tf_isoforms/venv/lib/python3.8/site-packages/seaborn/categorical.py:1296: UserWarning: 50.0% of the points cannot be placed; you may want to decrease the size of the markers or use stripplot.\n",
      "  warnings.warn(msg, UserWarning)\n"
     ]
    },
    {
     "data": {
      "image/png": "[encoded data removed]",
      "text/plain": [
       "<Figure size 175x175 with 1 Axes>"
      ]
     },
     "metadata": {},
     "output_type": "display_data"
    }
   ],
   "source": [
    "fig = plt.figure(figsize=(1.75, 1.75))\n",
    "\n",
    "ax = sns.boxplot(data=to_plot, x=\"variable\", hue=\"value\", y=\"max_gtex_ref\",\n",
    "                 palette={False: \"grey\", True: colors[0]},\n",
    "                 fliersize=0)\n",
    "mimic_r_boxplot(ax)\n",
    "sns.swarmplot(data=to_plot, x=\"variable\", hue=\"value\", y=\"max_gtex_ref\",\n",
    "              palette={False: \"grey\", True: colors[0]},\n",
    "              edgecolor=\"black\", linewidth=0.5, ax=ax,\n",
    "              size=3, alpha=0.5, dodge=True)\n",
    "\n",
    "for loc in ['right', 'top']:\n",
    "    ax.spines[loc].set_visible(False)\n",
    "    \n",
    "ax.set_xlabel(\"\")\n",
    "ax.set_xticklabels([\"HEK293T\", \"U2OS\"], rotation=30, ha=\"right\", va=\"top\")\n",
    "ax.set_ylabel(\"Maximum log2(gene-level tpm)\")\n",
    "ax.set_title(\"Reference isoforms\")\n",
    "\n",
    "handles, labels = ax.get_legend_handles_labels()\n",
    "plt.legend(handles=handles[0:2], labels=[\"no condensates observed\", \"condensates observed\"],\n",
    "           loc=2, bbox_to_anchor=(1.01, 1), facecolor=\"white\", markerscale=1,\n",
    "           frameon=False)\n",
    "\n",
    "for i, c in enumerate([\"HEK\", \"U2OS\"]):\n",
    "    x = to_plot[(to_plot[\"variable\"] == \"condensates_observed_%s_ref\" % c) &\n",
    "                (to_plot[\"value\"] == False)][\"max_gtex_ref\"].values\n",
    "    y = to_plot[(to_plot[\"variable\"] == \"condensates_observed_%s_ref\" % c) &\n",
    "                (to_plot[\"value\"] == True)][\"max_gtex_ref\"].values\n",
    "    u, p = stats.mannwhitneyu(x, y, alternative=\"two-sided\")\n",
    "    annotate_pval(ax, i-0.2, i+0.2, 4.8, 0, 4.8, p, PAPER_FONTSIZE)\n",
    "\n",
    "ax.set_ylim((-0.1, 5))\n",
    "fig.savefig(\"../../figures/fig5/GTEx_expr_cond.pdf\", dpi=\"figure\", bbox_inches=\"tight\")"
   ]
  },
  {
   "cell_type": "markdown",
   "metadata": {},
   "source": [
    "## 6. examine how our localizations compare to HPA"
   ]
  },
  {
   "cell_type": "code",
   "execution_count": 37,
   "metadata": {},
   "outputs": [
    {
     "data": {
      "text/html": [
       "<div>\n",
       "<style scoped>\n",
       "    .dataframe tbody tr th:only-of-type {\n",
       "        vertical-align: middle;\n",
       "    }\n",
       "\n",
       "    .dataframe tbody tr th {\n",
       "        vertical-align: top;\n",
       "    }\n",
       "\n",
       "    .dataframe thead th {\n",
       "        text-align: right;\n",
       "    }\n",
       "</style>\n",
       "<table border=\"1\" class=\"dataframe\">\n",
       "  <thead>\n",
       "    <tr style=\"text-align: right;\">\n",
       "      <th></th>\n",
       "      <th>Gene</th>\n",
       "      <th>Gene name</th>\n",
       "      <th>Reliability</th>\n",
       "      <th>Main location</th>\n",
       "      <th>Additional location</th>\n",
       "      <th>Extracellular location</th>\n",
       "      <th>Enhanced</th>\n",
       "      <th>Supported</th>\n",
       "      <th>Approved</th>\n",
       "      <th>Uncertain</th>\n",
       "      <th>Single-cell variation intensity</th>\n",
       "      <th>Single-cell variation spatial</th>\n",
       "      <th>Cell cycle dependency</th>\n",
       "      <th>GO id</th>\n",
       "      <th>all_observed</th>\n",
       "    </tr>\n",
       "  </thead>\n",
       "  <tbody>\n",
       "    <tr>\n",
       "      <th>0</th>\n",
       "      <td>ENSG00000000003</td>\n",
       "      <td>TSPAN6</td>\n",
       "      <td>Approved</td>\n",
       "      <td>Cell Junctions;Cytosol</td>\n",
       "      <td>Nucleoli fibrillar center</td>\n",
       "      <td>NaN</td>\n",
       "      <td>NaN</td>\n",
       "      <td>NaN</td>\n",
       "      <td>Cell Junctions;Cytosol;Nucleoli fibrillar center</td>\n",
       "      <td>NaN</td>\n",
       "      <td>Cytosol</td>\n",
       "      <td>NaN</td>\n",
       "      <td>NaN</td>\n",
       "      <td>Cell Junctions (GO:0030054);Cytosol (GO:000582...</td>\n",
       "      <td>Cell Junctions;Cytosol;Nucleoli fibrillar cent...</td>\n",
       "    </tr>\n",
       "    <tr>\n",
       "      <th>1</th>\n",
       "      <td>ENSG00000000457</td>\n",
       "      <td>SCYL3</td>\n",
       "      <td>Supported</td>\n",
       "      <td>Cytosol;Golgi apparatus</td>\n",
       "      <td>NaN</td>\n",
       "      <td>NaN</td>\n",
       "      <td>NaN</td>\n",
       "      <td>Cytosol;Golgi apparatus</td>\n",
       "      <td>NaN</td>\n",
       "      <td>NaN</td>\n",
       "      <td>NaN</td>\n",
       "      <td>NaN</td>\n",
       "      <td>NaN</td>\n",
       "      <td>Cytosol (GO:0005829);Golgi apparatus (GO:0005794)</td>\n",
       "      <td>nan;nan;Cytosol;Golgi apparatus;nan</td>\n",
       "    </tr>\n",
       "    <tr>\n",
       "      <th>2</th>\n",
       "      <td>ENSG00000000460</td>\n",
       "      <td>C1orf112</td>\n",
       "      <td>Approved</td>\n",
       "      <td>Mitochondria</td>\n",
       "      <td>NaN</td>\n",
       "      <td>NaN</td>\n",
       "      <td>NaN</td>\n",
       "      <td>NaN</td>\n",
       "      <td>Mitochondria</td>\n",
       "      <td>NaN</td>\n",
       "      <td>NaN</td>\n",
       "      <td>NaN</td>\n",
       "      <td>NaN</td>\n",
       "      <td>Mitochondria (GO:0005739)</td>\n",
       "      <td>Mitochondria;nan;nan;nan</td>\n",
       "    </tr>\n",
       "    <tr>\n",
       "      <th>3</th>\n",
       "      <td>ENSG00000000938</td>\n",
       "      <td>FGR</td>\n",
       "      <td>Approved</td>\n",
       "      <td>Plasma membrane</td>\n",
       "      <td>Aggresome</td>\n",
       "      <td>NaN</td>\n",
       "      <td>NaN</td>\n",
       "      <td>NaN</td>\n",
       "      <td>Aggresome;Plasma membrane</td>\n",
       "      <td>NaN</td>\n",
       "      <td>NaN</td>\n",
       "      <td>NaN</td>\n",
       "      <td>NaN</td>\n",
       "      <td>Aggresome (GO:0016235);Plasma membrane (GO:000...</td>\n",
       "      <td>Aggresome;Plasma membrane;nan;nan;nan</td>\n",
       "    </tr>\n",
       "    <tr>\n",
       "      <th>4</th>\n",
       "      <td>ENSG00000000971</td>\n",
       "      <td>CFH</td>\n",
       "      <td>Approved</td>\n",
       "      <td>Vesicles</td>\n",
       "      <td>NaN</td>\n",
       "      <td>Predicted to be secreted</td>\n",
       "      <td>NaN</td>\n",
       "      <td>NaN</td>\n",
       "      <td>Vesicles</td>\n",
       "      <td>NaN</td>\n",
       "      <td>NaN</td>\n",
       "      <td>NaN</td>\n",
       "      <td>NaN</td>\n",
       "      <td>Vesicles (GO:0043231)</td>\n",
       "      <td>Vesicles;nan;nan;nan</td>\n",
       "    </tr>\n",
       "  </tbody>\n",
       "</table>\n",
       "</div>"
      ],
      "text/plain": [
       "              Gene Gene name Reliability            Main location  \\\n",
       "0  ENSG00000000003    TSPAN6    Approved   Cell Junctions;Cytosol   \n",
       "1  ENSG00000000457     SCYL3   Supported  Cytosol;Golgi apparatus   \n",
       "2  ENSG00000000460  C1orf112    Approved             Mitochondria   \n",
       "3  ENSG00000000938       FGR    Approved          Plasma membrane   \n",
       "4  ENSG00000000971       CFH    Approved                 Vesicles   \n",
       "\n",
       "         Additional location    Extracellular location Enhanced  \\\n",
       "0  Nucleoli fibrillar center                       NaN      NaN   \n",
       "1                        NaN                       NaN      NaN   \n",
       "2                        NaN                       NaN      NaN   \n",
       "3                  Aggresome                       NaN      NaN   \n",
       "4                        NaN  Predicted to be secreted      NaN   \n",
       "\n",
       "                 Supported                                          Approved  \\\n",
       "0                      NaN  Cell Junctions;Cytosol;Nucleoli fibrillar center   \n",
       "1  Cytosol;Golgi apparatus                                               NaN   \n",
       "2                      NaN                                      Mitochondria   \n",
       "3                      NaN                         Aggresome;Plasma membrane   \n",
       "4                      NaN                                          Vesicles   \n",
       "\n",
       "  Uncertain Single-cell variation intensity Single-cell variation spatial  \\\n",
       "0       NaN                         Cytosol                           NaN   \n",
       "1       NaN                             NaN                           NaN   \n",
       "2       NaN                             NaN                           NaN   \n",
       "3       NaN                             NaN                           NaN   \n",
       "4       NaN                             NaN                           NaN   \n",
       "\n",
       "  Cell cycle dependency                                              GO id  \\\n",
       "0                   NaN  Cell Junctions (GO:0030054);Cytosol (GO:000582...   \n",
       "1                   NaN  Cytosol (GO:0005829);Golgi apparatus (GO:0005794)   \n",
       "2                   NaN                          Mitochondria (GO:0005739)   \n",
       "3                   NaN  Aggresome (GO:0016235);Plasma membrane (GO:000...   \n",
       "4                   NaN                              Vesicles (GO:0043231)   \n",
       "\n",
       "                                        all_observed  \n",
       "0  Cell Junctions;Cytosol;Nucleoli fibrillar cent...  \n",
       "1                nan;nan;Cytosol;Golgi apparatus;nan  \n",
       "2                           Mitochondria;nan;nan;nan  \n",
       "3              Aggresome;Plasma membrane;nan;nan;nan  \n",
       "4                               Vesicles;nan;nan;nan  "
      ]
     },
     "execution_count": 37,
     "metadata": {},
     "output_type": "execute_result"
    }
   ],
   "source": [
    "hpa = pd.read_table(\"../../data/external/HPA_subcellular_location.tsv\", sep=\"\\t\")\n",
    "hpa[\"all_observed\"] = hpa[\"Approved\"].astype(str) + \";\" + hpa[\"Enhanced\"].astype(str) + \";\" + hpa[\"Supported\"].astype(str) + \";\" + hpa[\"Uncertain\"].astype(str)\n",
    "hpa.head()"
   ]
  },
  {
   "cell_type": "code",
   "execution_count": 38,
   "metadata": {},
   "outputs": [
    {
     "data": {
      "text/plain": [
       "10043"
      ]
     },
     "execution_count": 38,
     "metadata": {},
     "output_type": "execute_result"
    }
   ],
   "source": [
    "def cytosolic_loc(row, col):\n",
    "    cytosolic_locs_to_consider = [\"Actin filaments\", \"Cleavage furrow\", \"Focal adhesion sites\",\n",
    "                                  \"Intermediate filaments\", \"Centriolar satellite\", \"Centrosome\",\n",
    "                                  \"Cytokinetic bridge\", \"Microtubule ends\", \"Microtubules\",\n",
    "                                  \"Midbody\", \"Midbody ring\", \"Mitotic spindle\",\n",
    "                                  \"Aggresome\", \"Cytoplasmic bodies\", \"Cytosol\", \"Rods & rings\",\n",
    "                                  \"Mitochondria\", \"Endoplasmic reticulum\", \"Vesicles\",\n",
    "                                  \"Endosomes\", \"Lipid droplets\", \"Lysosomes\", \"Peroxisomes\",\n",
    "                                  \"Golgi apparatus\", \"Cell junctions\", \"Plasma membrane\"]\n",
    "    \n",
    "    for loc in cytosolic_locs_to_consider:\n",
    "        if loc in str(row[col]):\n",
    "            return True\n",
    "    return False\n",
    "\n",
    "hpa[\"cyto_observed\"] = hpa.apply(cytosolic_loc, col=\"all_observed\", axis=1)\n",
    "len(hpa[hpa[\"cyto_observed\"] == True][\"Gene name\"].unique())"
   ]
  },
  {
   "cell_type": "code",
   "execution_count": 39,
   "metadata": {},
   "outputs": [
    {
     "data": {
      "text/plain": [
       "5872"
      ]
     },
     "execution_count": 39,
     "metadata": {},
     "output_type": "execute_result"
    }
   ],
   "source": [
    "hpa[\"cyto_observed_approved\"] = hpa.apply(cytosolic_loc, col=\"Approved\", axis=1)\n",
    "len(hpa[hpa[\"cyto_observed_approved\"] == True][\"Gene name\"].unique())"
   ]
  },
  {
   "cell_type": "code",
   "execution_count": 40,
   "metadata": {},
   "outputs": [
    {
     "data": {
      "text/html": [
       "<div>\n",
       "<style scoped>\n",
       "    .dataframe tbody tr th:only-of-type {\n",
       "        vertical-align: middle;\n",
       "    }\n",
       "\n",
       "    .dataframe tbody tr th {\n",
       "        vertical-align: top;\n",
       "    }\n",
       "\n",
       "    .dataframe thead th {\n",
       "        text-align: right;\n",
       "    }\n",
       "</style>\n",
       "<table border=\"1\" class=\"dataframe\">\n",
       "  <thead>\n",
       "    <tr style=\"text-align: right;\">\n",
       "      <th></th>\n",
       "      <th>gene_symbol</th>\n",
       "      <th>Ensembl_gene_ID</th>\n",
       "      <th>family</th>\n",
       "      <th>is_dimerizing_TF_family</th>\n",
       "      <th>clone_acc_ref</th>\n",
       "      <th>clone_acc_alt</th>\n",
       "      <th>Ensembl_transcript_IDs_ref</th>\n",
       "      <th>Ensembl_transcript_IDs_alt</th>\n",
       "      <th>is_ref_novel_isoform</th>\n",
       "      <th>is_alt_novel_isoform</th>\n",
       "      <th>...</th>\n",
       "      <th>Supported</th>\n",
       "      <th>Approved</th>\n",
       "      <th>Uncertain</th>\n",
       "      <th>Single-cell variation intensity</th>\n",
       "      <th>Single-cell variation spatial</th>\n",
       "      <th>Cell cycle dependency</th>\n",
       "      <th>GO id</th>\n",
       "      <th>all_observed</th>\n",
       "      <th>cyto_observed</th>\n",
       "      <th>cyto_observed_approved</th>\n",
       "    </tr>\n",
       "  </thead>\n",
       "  <tbody>\n",
       "    <tr>\n",
       "      <th>0</th>\n",
       "      <td>ZBTB18</td>\n",
       "      <td>ENSG00000179456</td>\n",
       "      <td>C2H2 ZF</td>\n",
       "      <td>False</td>\n",
       "      <td>ZBTB18|1/2|04E08</td>\n",
       "      <td>ZBTB18|2/2|12E05</td>\n",
       "      <td>ENST00000358704</td>\n",
       "      <td>ENST00000622512</td>\n",
       "      <td>False</td>\n",
       "      <td>False</td>\n",
       "      <td>...</td>\n",
       "      <td>Nuclear speckles;Nucleoplasm</td>\n",
       "      <td>NaN</td>\n",
       "      <td>NaN</td>\n",
       "      <td>NaN</td>\n",
       "      <td>NaN</td>\n",
       "      <td>NaN</td>\n",
       "      <td>Nuclear speckles (GO:0016607);Nucleoplasm (GO:...</td>\n",
       "      <td>nan;nan;Nuclear speckles;Nucleoplasm;nan</td>\n",
       "      <td>False</td>\n",
       "      <td>False</td>\n",
       "    </tr>\n",
       "    <tr>\n",
       "      <th>1</th>\n",
       "      <td>PRRX1</td>\n",
       "      <td>ENSG00000116132</td>\n",
       "      <td>Homeodomain</td>\n",
       "      <td>False</td>\n",
       "      <td>PRRX1|2/3|09F06</td>\n",
       "      <td>PRRX1|1/3|09C07</td>\n",
       "      <td>ENST00000239461</td>\n",
       "      <td>ENST00000367760</td>\n",
       "      <td>False</td>\n",
       "      <td>False</td>\n",
       "      <td>...</td>\n",
       "      <td>Nucleoplasm</td>\n",
       "      <td>NaN</td>\n",
       "      <td>NaN</td>\n",
       "      <td>NaN</td>\n",
       "      <td>NaN</td>\n",
       "      <td>NaN</td>\n",
       "      <td>Nucleoplasm (GO:0005654)</td>\n",
       "      <td>nan;nan;Nucleoplasm;nan</td>\n",
       "      <td>False</td>\n",
       "      <td>False</td>\n",
       "    </tr>\n",
       "    <tr>\n",
       "      <th>2</th>\n",
       "      <td>PRRX1</td>\n",
       "      <td>ENSG00000116132</td>\n",
       "      <td>Homeodomain</td>\n",
       "      <td>False</td>\n",
       "      <td>PRRX1|2/3|09F06</td>\n",
       "      <td>PRRX1|3/3|09H08</td>\n",
       "      <td>ENST00000239461</td>\n",
       "      <td>ENST00000497230</td>\n",
       "      <td>False</td>\n",
       "      <td>False</td>\n",
       "      <td>...</td>\n",
       "      <td>Nucleoplasm</td>\n",
       "      <td>NaN</td>\n",
       "      <td>NaN</td>\n",
       "      <td>NaN</td>\n",
       "      <td>NaN</td>\n",
       "      <td>NaN</td>\n",
       "      <td>Nucleoplasm (GO:0005654)</td>\n",
       "      <td>nan;nan;Nucleoplasm;nan</td>\n",
       "      <td>False</td>\n",
       "      <td>False</td>\n",
       "    </tr>\n",
       "    <tr>\n",
       "      <th>3</th>\n",
       "      <td>GRHL3</td>\n",
       "      <td>ENSG00000158055</td>\n",
       "      <td>Grainyhead</td>\n",
       "      <td>True</td>\n",
       "      <td>GRHL3|3/7|08G09</td>\n",
       "      <td>GRHL3|1/7|08E10</td>\n",
       "      <td>ENST00000361548</td>\n",
       "      <td>ENST00000350501</td>\n",
       "      <td>False</td>\n",
       "      <td>False</td>\n",
       "      <td>...</td>\n",
       "      <td>NaN</td>\n",
       "      <td>Nucleoplasm</td>\n",
       "      <td>NaN</td>\n",
       "      <td>NaN</td>\n",
       "      <td>NaN</td>\n",
       "      <td>NaN</td>\n",
       "      <td>Nucleoplasm (GO:0005654)</td>\n",
       "      <td>Nucleoplasm;nan;nan;nan</td>\n",
       "      <td>False</td>\n",
       "      <td>False</td>\n",
       "    </tr>\n",
       "    <tr>\n",
       "      <th>4</th>\n",
       "      <td>GRHL3</td>\n",
       "      <td>ENSG00000158055</td>\n",
       "      <td>Grainyhead</td>\n",
       "      <td>True</td>\n",
       "      <td>GRHL3|3/7|08G09</td>\n",
       "      <td>GRHL3|2/7|08A10</td>\n",
       "      <td>ENST00000361548</td>\n",
       "      <td>ENST00000236255</td>\n",
       "      <td>False</td>\n",
       "      <td>False</td>\n",
       "      <td>...</td>\n",
       "      <td>NaN</td>\n",
       "      <td>Nucleoplasm</td>\n",
       "      <td>NaN</td>\n",
       "      <td>NaN</td>\n",
       "      <td>NaN</td>\n",
       "      <td>NaN</td>\n",
       "      <td>Nucleoplasm (GO:0005654)</td>\n",
       "      <td>Nucleoplasm;nan;nan;nan</td>\n",
       "      <td>False</td>\n",
       "      <td>False</td>\n",
       "    </tr>\n",
       "  </tbody>\n",
       "</table>\n",
       "<p>5 rows × 101 columns</p>\n",
       "</div>"
      ],
      "text/plain": [
       "  gene_symbol  Ensembl_gene_ID       family  is_dimerizing_TF_family  \\\n",
       "0      ZBTB18  ENSG00000179456      C2H2 ZF                    False   \n",
       "1       PRRX1  ENSG00000116132  Homeodomain                    False   \n",
       "2       PRRX1  ENSG00000116132  Homeodomain                    False   \n",
       "3       GRHL3  ENSG00000158055   Grainyhead                     True   \n",
       "4       GRHL3  ENSG00000158055   Grainyhead                     True   \n",
       "\n",
       "      clone_acc_ref     clone_acc_alt Ensembl_transcript_IDs_ref  \\\n",
       "0  ZBTB18|1/2|04E08  ZBTB18|2/2|12E05            ENST00000358704   \n",
       "1   PRRX1|2/3|09F06   PRRX1|1/3|09C07            ENST00000239461   \n",
       "2   PRRX1|2/3|09F06   PRRX1|3/3|09H08            ENST00000239461   \n",
       "3   GRHL3|3/7|08G09   GRHL3|1/7|08E10            ENST00000361548   \n",
       "4   GRHL3|3/7|08G09   GRHL3|2/7|08A10            ENST00000361548   \n",
       "\n",
       "  Ensembl_transcript_IDs_alt  is_ref_novel_isoform  is_alt_novel_isoform  ...  \\\n",
       "0            ENST00000622512                 False                 False  ...   \n",
       "1            ENST00000367760                 False                 False  ...   \n",
       "2            ENST00000497230                 False                 False  ...   \n",
       "3            ENST00000350501                 False                 False  ...   \n",
       "4            ENST00000236255                 False                 False  ...   \n",
       "\n",
       "                      Supported     Approved  Uncertain  \\\n",
       "0  Nuclear speckles;Nucleoplasm          NaN        NaN   \n",
       "1                   Nucleoplasm          NaN        NaN   \n",
       "2                   Nucleoplasm          NaN        NaN   \n",
       "3                           NaN  Nucleoplasm        NaN   \n",
       "4                           NaN  Nucleoplasm        NaN   \n",
       "\n",
       "   Single-cell variation intensity  Single-cell variation spatial  \\\n",
       "0                              NaN                            NaN   \n",
       "1                              NaN                            NaN   \n",
       "2                              NaN                            NaN   \n",
       "3                              NaN                            NaN   \n",
       "4                              NaN                            NaN   \n",
       "\n",
       "   Cell cycle dependency                                              GO id  \\\n",
       "0                    NaN  Nuclear speckles (GO:0016607);Nucleoplasm (GO:...   \n",
       "1                    NaN                           Nucleoplasm (GO:0005654)   \n",
       "2                    NaN                           Nucleoplasm (GO:0005654)   \n",
       "3                    NaN                           Nucleoplasm (GO:0005654)   \n",
       "4                    NaN                           Nucleoplasm (GO:0005654)   \n",
       "\n",
       "                               all_observed  cyto_observed  \\\n",
       "0  nan;nan;Nuclear speckles;Nucleoplasm;nan          False   \n",
       "1                   nan;nan;Nucleoplasm;nan          False   \n",
       "2                   nan;nan;Nucleoplasm;nan          False   \n",
       "3                   Nucleoplasm;nan;nan;nan          False   \n",
       "4                   Nucleoplasm;nan;nan;nan          False   \n",
       "\n",
       "   cyto_observed_approved  \n",
       "0                   False  \n",
       "1                   False  \n",
       "2                   False  \n",
       "3                   False  \n",
       "4                   False  \n",
       "\n",
       "[5 rows x 101 columns]"
      ]
     },
     "execution_count": 40,
     "metadata": {},
     "output_type": "execute_result"
    }
   ],
   "source": [
    "pairs_hpa = pairs.merge(hpa, left_on=\"gene_symbol\", right_on=\"Gene name\", how=\"left\")\n",
    "pairs_hpa.head()"
   ]
  },
  {
   "cell_type": "code",
   "execution_count": 41,
   "metadata": {},
   "outputs": [
    {
     "data": {
      "text/plain": [
       "both         66\n",
       "nucleus      51\n",
       "cytoplasm    12\n",
       "Name: localization_HEK_ref, dtype: int64"
      ]
     },
     "execution_count": 41,
     "metadata": {},
     "output_type": "execute_result"
    }
   ],
   "source": [
    "pairs_hpa.localization_HEK_ref.value_counts()"
   ]
  },
  {
   "cell_type": "code",
   "execution_count": 42,
   "metadata": {},
   "outputs": [
    {
     "name": "stderr",
     "output_type": "stream",
     "text": [
      "/var/folders/4f/st3pbvs10sd68jl3b4p861h80000gn/T/ipykernel_86420/2739010754.py:17: FutureWarning: The frame.append method is deprecated and will be removed from pandas in a future version. Use pandas.concat instead.\n",
      "  percs = percs.append(cyto_perc)\n",
      "/var/folders/4f/st3pbvs10sd68jl3b4p861h80000gn/T/ipykernel_86420/2739010754.py:17: FutureWarning: The frame.append method is deprecated and will be removed from pandas in a future version. Use pandas.concat instead.\n",
      "  percs = percs.append(cyto_perc)\n"
     ]
    },
    {
     "data": {
      "text/html": [
       "<div>\n",
       "<style scoped>\n",
       "    .dataframe tbody tr th:only-of-type {\n",
       "        vertical-align: middle;\n",
       "    }\n",
       "\n",
       "    .dataframe tbody tr th {\n",
       "        vertical-align: top;\n",
       "    }\n",
       "\n",
       "    .dataframe thead th {\n",
       "        text-align: right;\n",
       "    }\n",
       "</style>\n",
       "<table border=\"1\" class=\"dataframe\">\n",
       "  <thead>\n",
       "    <tr style=\"text-align: right;\">\n",
       "      <th></th>\n",
       "      <th>localization_ref</th>\n",
       "      <th>tot</th>\n",
       "      <th>cyto_observed</th>\n",
       "      <th>cell_line</th>\n",
       "      <th>perc_cyto_observed</th>\n",
       "    </tr>\n",
       "  </thead>\n",
       "  <tbody>\n",
       "    <tr>\n",
       "      <th>0</th>\n",
       "      <td>both</td>\n",
       "      <td>30</td>\n",
       "      <td>13</td>\n",
       "      <td>HEK</td>\n",
       "      <td>43.333333</td>\n",
       "    </tr>\n",
       "    <tr>\n",
       "      <th>1</th>\n",
       "      <td>cytoplasm</td>\n",
       "      <td>6</td>\n",
       "      <td>5</td>\n",
       "      <td>HEK</td>\n",
       "      <td>83.333333</td>\n",
       "    </tr>\n",
       "    <tr>\n",
       "      <th>2</th>\n",
       "      <td>nucleus</td>\n",
       "      <td>24</td>\n",
       "      <td>8</td>\n",
       "      <td>HEK</td>\n",
       "      <td>33.333333</td>\n",
       "    </tr>\n",
       "    <tr>\n",
       "      <th>0</th>\n",
       "      <td>both</td>\n",
       "      <td>29</td>\n",
       "      <td>13</td>\n",
       "      <td>U2OS</td>\n",
       "      <td>44.827586</td>\n",
       "    </tr>\n",
       "    <tr>\n",
       "      <th>1</th>\n",
       "      <td>cytoplasm</td>\n",
       "      <td>5</td>\n",
       "      <td>4</td>\n",
       "      <td>U2OS</td>\n",
       "      <td>80.000000</td>\n",
       "    </tr>\n",
       "    <tr>\n",
       "      <th>2</th>\n",
       "      <td>nucleus</td>\n",
       "      <td>26</td>\n",
       "      <td>9</td>\n",
       "      <td>U2OS</td>\n",
       "      <td>34.615385</td>\n",
       "    </tr>\n",
       "  </tbody>\n",
       "</table>\n",
       "</div>"
      ],
      "text/plain": [
       "  localization_ref  tot  cyto_observed cell_line  perc_cyto_observed\n",
       "0             both   30             13       HEK           43.333333\n",
       "1        cytoplasm    6              5       HEK           83.333333\n",
       "2          nucleus   24              8       HEK           33.333333\n",
       "0             both   29             13      U2OS           44.827586\n",
       "1        cytoplasm    5              4      U2OS           80.000000\n",
       "2          nucleus   26              9      U2OS           34.615385"
      ]
     },
     "execution_count": 42,
     "metadata": {},
     "output_type": "execute_result"
    }
   ],
   "source": [
    "dd = pairs_hpa[[\"gene_symbol\", \"clone_acc_ref\",\n",
    "            \"localization_HEK_ref\",\n",
    "            \"localization_U2OS_ref\",\n",
    "            \"Approved\",\n",
    "            \"cyto_observed_approved\",\n",
    "            \"all_observed\",\n",
    "            \"cyto_observed\"]].drop_duplicates()\n",
    "\n",
    "percs = pd.DataFrame()\n",
    "for c in [\"HEK\", \"U2OS\"]:\n",
    "    tot = dd.groupby(\"localization_%s_ref\" % c)[\"clone_acc_ref\"].agg(\"count\").reset_index()\n",
    "    cyto = dd[dd[\"cyto_observed\"] == True].groupby([\"localization_%s_ref\" % c])[\"clone_acc_ref\"].agg(\"count\").reset_index()\n",
    "    cyto_perc = tot.merge(cyto, on=\"localization_%s_ref\" % c)\n",
    "    cyto_perc.columns = [\"localization_ref\", \"tot\", \"cyto_observed\"]\n",
    "    cyto_perc[\"cell_line\"] = c\n",
    "    cyto_perc[\"perc_cyto_observed\"] = cyto_perc[\"cyto_observed\"]/cyto_perc[\"tot\"]*100\n",
    "    percs = percs.append(cyto_perc)\n",
    "\n",
    "percs"
   ]
  },
  {
   "cell_type": "code",
   "execution_count": 43,
   "metadata": {},
   "outputs": [
    {
     "data": {
      "image/png": "[encoded data removed]",
      "text/plain": [
       "<Figure size 150x175 with 1 Axes>"
      ]
     },
     "metadata": {},
     "output_type": "display_data"
    }
   ],
   "source": [
    "fig = plt.figure(figsize=(1.5, 1.75))\n",
    "\n",
    "ax = sns.barplot(data=percs, x=\"localization_ref\", y=\"perc_cyto_observed\", hue=\"cell_line\",\n",
    "                 palette=sns.color_palette(\"Set2\"), order=[\"cytoplasm\", \"both\", \"nucleus\"])\n",
    "\n",
    "for loc in ['right', 'top']:\n",
    "    ax.spines[loc].set_visible(False)\n",
    "    \n",
    "ax.set_xlabel(\"Subcellular localization\\nin our assay\")\n",
    "ax.set_ylabel(\"% where cytoplasmic loc.\\nis observed in HPA\")\n",
    "ax.set_title(\"Reference isoforms\\n\")\n",
    "\n",
    "plt.legend(loc=2, bbox_to_anchor=(1.01, 1), frameon=False)\n",
    "\n",
    "\n",
    "fig.savefig(\"../../figures/fig5/hpa.pdf\", dpi=\"figure\", bbox_inches=\"tight\")"
   ]
  },
  {
   "cell_type": "markdown",
   "metadata": {},
   "source": [
    "## 7. examine how PDIs/PPIs/activ diffs correlate with condensate/loc diffs"
   ]
  },
  {
   "cell_type": "code",
   "execution_count": 44,
   "metadata": {},
   "outputs": [],
   "source": [
    "def Welchs_t_statistic(x, y):\n",
    "    denom = np.sqrt(x.var() / len(x) + y.var() / len(y))\n",
    "    return (x.mean() - y.mean()) / denom\n",
    "\n",
    "\n",
    "def permutation_test(x, y):\n",
    "    \"\"\"\n",
    "    two-sided\n",
    "    \"\"\"\n",
    "    nx = x.shape[0]\n",
    "    ny = y.shape[0]\n",
    "    #obs = x.mean() - y.mean()\n",
    "    obs = Welchs_t_statistic(x, y)\n",
    "    merged = np.concatenate([x, y])\n",
    "    rnd = []\n",
    "    np.random.seed(2023)\n",
    "    for _i in range(10000):\n",
    "        np.random.shuffle(merged)\n",
    "        #rnd.append(merged[:nx].mean() - merged[nx:].mean())\n",
    "        rnd.append(Welchs_t_statistic(merged[:nx], merged[nx:]))\n",
    "    return (min([sum(r >= obs for r in rnd), sum(r <= obs for r in rnd)]) / len(rnd)) * 2"
   ]
  },
  {
   "cell_type": "code",
   "execution_count": 45,
   "metadata": {},
   "outputs": [],
   "source": [
    "def condensate_violin_plot(var, cl, xvar='condensate_cat_merged', ub=1, bw=0.1,\n",
    "                           draw_mean=False, xlabel='Condensate formation between reference and alternative',\n",
    "                           set_axis=True, p_height=1.05, fig_height=2):\n",
    "    x = pairs.loc[(pairs[f'{xvar}_{cl}'] == 'No difference')\n",
    "                & pairs[var].notnull(), \n",
    "                var].values\n",
    "    y = pairs.loc[(pairs[f'{xvar}_{cl}'] == 'Difference')\n",
    "                & pairs[var].notnull(), \n",
    "                var].values\n",
    "\n",
    "    fig, ax = plt.subplots(1, 1)\n",
    "    fig.set_size_inches(w=2, h=fig_height)\n",
    "    sns.swarmplot(data=pairs,\n",
    "                        x=f'{xvar}_{cl}',\n",
    "                        y=var,\n",
    "                order=['No difference', 'Difference'],\n",
    "                color='white',\n",
    "                  edgecolor='black',\n",
    "                  linewidth=0.5,\n",
    "                ax=ax,\n",
    "                clip_on=False,\n",
    "                 size=4)\n",
    "    violinplot_reflected(data=pairs,\n",
    "                        x=f'{xvar}_{cl}',\n",
    "                        y=var,\n",
    "                        inner=None,\n",
    "                        ub=ub,\n",
    "                        bw_const=bw,\n",
    "                cut=0,\n",
    "                color=colors[0],\n",
    "                order=['No difference', 'Difference'],\n",
    "                ax=ax,\n",
    "                )\n",
    "    if draw_mean:\n",
    "        sns.pointplot(data=pairs,\n",
    "                      x=f'{xvar}_{cl}',\n",
    "                      y=var,\n",
    "                      )\n",
    "    ax.set_ylim(0, 1 if ub == 1 else None)\n",
    "\n",
    "    pval = permutation_test(x, y)\n",
    "    annotate_pval(ax, 0.1, 0.9, p_height, 0, p_height, pval, PAPER_FONTSIZE)\n",
    "    \n",
    "    # manually set left axis so it stops at 1.0\n",
    "    if set_axis == True:\n",
    "        ax.set_ylim((-0.1, 1.2))\n",
    "        ax.spines['left'].set_visible(False)\n",
    "        ax.set_yticks([0, 0.2, 0.4, 0.6, 0.8, 1.0])\n",
    "        axes_to_data = ax.transAxes + ax.transData.inverted()\n",
    "        left_spine_in_data_coords = axes_to_data.transform((0, 0))\n",
    "        ax.plot([left_spine_in_data_coords[0], left_spine_in_data_coords[0]], [0, 1],\n",
    "                 color=ax.spines['bottom'].get_edgecolor(), linewidth=ax.spines['bottom'].get_linewidth())\n",
    "        ax.tick_params(axis='x', which='major', pad=-5)\n",
    "\n",
    "    ax.set_xlabel(xlabel)\n",
    "    for loc in ['right', 'top', 'bottom']:\n",
    "        ax.spines[loc].set_visible(False)\n",
    "    ax.set_ylabel(\n",
    "        {'activation_abs_fold_change_log2': '|Activation log2FC|',\n",
    "        'PPI_Jaccard_d': 'PPI Jaccard distance',\n",
    "        'PDI_Jaccard_d': 'PDI Jaccard distance',\n",
    "        }.get(var, var)\n",
    " )\n",
    "    ax.set_xticklabels(['No difference\\n(N = {})'.format(x.shape[0]),\n",
    "                        'Difference\\n(N = {})'.format(y.shape[0])])\n",
    "    ax.xaxis.set_tick_params(length=0)\n",
    "    fig.savefig(f'../../figures/fig5/{var}-vs-{xvar}_{cl}_violinplot.pdf',\n",
    "                bbox_inches='tight')"
   ]
  },
  {
   "cell_type": "code",
   "execution_count": 46,
   "metadata": {},
   "outputs": [
    {
     "data": {
      "text/plain": [
       "condensate_or_loc_change_HEK  condensate_or_loc_change_U2OS\n",
       "Difference                    Difference                       49\n",
       "                              No difference                    17\n",
       "No difference                 Difference                       14\n",
       "                              No difference                    49\n",
       "dtype: int64"
      ]
     },
     "execution_count": 46,
     "metadata": {},
     "output_type": "execute_result"
    }
   ],
   "source": [
    "pairs.groupby(['condensate_or_loc_change_HEK', \n",
    "               'condensate_or_loc_change_U2OS']).size()"
   ]
  },
  {
   "cell_type": "code",
   "execution_count": 47,
   "metadata": {},
   "outputs": [
    {
     "data": {
      "image/png": "[encoded data removed]",
      "text/plain": [
       "<Figure size 200x200 with 1 Axes>"
      ]
     },
     "metadata": {},
     "output_type": "display_data"
    }
   ],
   "source": [
    "condensate_violin_plot(var='PPI_Jaccard_d', \n",
    "                       cl='both', \n",
    "                       xvar='condensate_or_loc_change', \n",
    "                       draw_mean=False,\n",
    "                       xlabel='Condensate formation and localization\\nbetween reference and alternative',\n",
    "                       )"
   ]
  },
  {
   "cell_type": "code",
   "execution_count": 48,
   "metadata": {},
   "outputs": [
    {
     "name": "stderr",
     "output_type": "stream",
     "text": [
      "/Users/lukelambourne/work/tf_isoforms/venv/lib/python3.8/site-packages/seaborn/categorical.py:1296: UserWarning: 10.2% of the points cannot be placed; you may want to decrease the size of the markers or use stripplot.\n",
      "  warnings.warn(msg, UserWarning)\n"
     ]
    },
    {
     "data": {
      "image/png": "[encoded data removed]",
      "text/plain": [
       "<Figure size 200x200 with 1 Axes>"
      ]
     },
     "metadata": {},
     "output_type": "display_data"
    }
   ],
   "source": [
    "condensate_violin_plot(var='PDI_Jaccard_d',\n",
    "                       cl='both',\n",
    "                       xvar='condensate_or_loc_change',\n",
    "                       draw_mean=False,\n",
    "                       xlabel='Condensate formation and localization\\nbetween reference and alternative',\n",
    ")"
   ]
  },
  {
   "cell_type": "code",
   "execution_count": 49,
   "metadata": {},
   "outputs": [],
   "source": [
    "pairs[\"activation_abs_fold_change_log2\"] = np.abs(pairs[\"activation_fold_change_log2\"])"
   ]
  },
  {
   "cell_type": "code",
   "execution_count": 50,
   "metadata": {},
   "outputs": [
    {
     "name": "stderr",
     "output_type": "stream",
     "text": [
      "/Users/lukelambourne/work/tf_isoforms/venv/lib/python3.8/site-packages/seaborn/categorical.py:1296: UserWarning: 12.2% of the points cannot be placed; you may want to decrease the size of the markers or use stripplot.\n",
      "  warnings.warn(msg, UserWarning)\n"
     ]
    },
    {
     "data": {
      "image/png": "[encoded data removed]",
      "text/plain": [
       "<Figure size 200x165 with 1 Axes>"
      ]
     },
     "metadata": {},
     "output_type": "display_data"
    }
   ],
   "source": [
    "condensate_violin_plot(var='activation_abs_fold_change_log2', \n",
    "                       cl='both',\n",
    "                       ub=1000,\n",
    "                       bw=0.5,\n",
    "                       xvar='condensate_or_loc_change',\n",
    "                       draw_mean=False,\n",
    "                       xlabel='Condensate formation and localization\\nbetween reference and alternative',\n",
    "                       set_axis=False,\n",
    "                       p_height=7,\n",
    "                       fig_height=1.65,\n",
    "                       )"
   ]
  },
  {
   "cell_type": "markdown",
   "metadata": {},
   "source": [
    "## 8. PBX1 & FOXP2 vignettes"
   ]
  },
  {
   "cell_type": "code",
   "execution_count": 51,
   "metadata": {},
   "outputs": [
    {
     "name": "stdout",
     "output_type": "stream",
     "text": [
      "reading from cache\n"
     ]
    }
   ],
   "source": [
    "tfs = load_annotated_TFiso1_collection()"
   ]
  },
  {
   "cell_type": "code",
   "execution_count": 52,
   "metadata": {},
   "outputs": [
    {
     "data": {
      "image/png": "[encoded data removed]",
      "text/plain": [
       "<Figure size 325x200 with 1 Axes>"
      ]
     },
     "metadata": {},
     "output_type": "display_data"
    }
   ],
   "source": [
    "fig, ax = plt.subplots(figsize=(3.25, 2))\n",
    "\n",
    "tfs[\"PBX1\"].exon_diagram(ax=ax)\n",
    "fig.savefig(\"../../figures/fig5/{}_exon_diagram.pdf\".format(\"PBX1\"), bbox_inches=\"tight\", dpi=\"figure\")"
   ]
  },
  {
   "cell_type": "code",
   "execution_count": 53,
   "metadata": {},
   "outputs": [
    {
     "data": {
      "image/png": "[encoded data removed]",
      "text/plain": [
       "<Figure size 325x200 with 2 Axes>"
      ]
     },
     "metadata": {},
     "output_type": "display_data"
    }
   ],
   "source": [
    "fig, ax = plt.subplots(figsize=(3.25, 2))\n",
    "\n",
    "tfs[\"PBX1\"].protein_diagram(ax=ax, only_cloned_isoforms=True)\n",
    "fig.savefig(\"../../figures/fig5/{}_protein_diagram.pdf\".format(\"PBX1\"), bbox_inches=\"tight\", dpi=\"figure\")"
   ]
  },
  {
   "cell_type": "code",
   "execution_count": 54,
   "metadata": {},
   "outputs": [],
   "source": [
    "y2h = load_y2h_isoform_data()\n",
    "m1h = load_m1h_activation_data(add_missing_data=True)"
   ]
  },
  {
   "cell_type": "code",
   "execution_count": 55,
   "metadata": {},
   "outputs": [
    {
     "data": {
      "image/png": "[encoded data removed]",
      "text/plain": [
       "<Figure size 200x200 with 1 Axes>"
      ]
     },
     "metadata": {},
     "output_type": "display_data"
    }
   ],
   "source": [
    "tf = tfs[\"PBX1\"]\n",
    "fig, ax = plt.subplots(1, 1, figsize=(2, 2))\n",
    "y2h_ppi_per_tf_gene_plot(tf.name, ax=ax, data=y2h)\n",
    "plt.savefig('../../figures/fig5/{}_y2h-profile.pdf'.format(\"PBX1\"), bbox_inches='tight')"
   ]
  },
  {
   "cell_type": "code",
   "execution_count": 56,
   "metadata": {},
   "outputs": [
    {
     "data": {
      "image/png": "[encoded data removed]",
      "text/plain": [
       "<Figure size 100x50 with 1 Axes>"
      ]
     },
     "metadata": {},
     "output_type": "display_data"
    }
   ],
   "source": [
    "fig, ax = plt.subplots(1, 1, figsize=(1, 0.5))\n",
    "\n",
    "df = m1h_activation_per_tf_gene_plot(\"PBX1\", data=m1h, ax=ax, xlim=(0, 2.5))\n",
    "plt.savefig('../../figures/fig5/{}_m1h-profile.pdf'.format(\"PBX1\"), bbox_inches='tight')"
   ]
  },
  {
   "cell_type": "markdown",
   "metadata": {},
   "source": [
    "## 9. NLS analysis"
   ]
  },
  {
   "cell_type": "code",
   "execution_count": 57,
   "metadata": {},
   "outputs": [],
   "source": [
    "# look at NLS and NES\n",
    "nls = pd.concat(tf.aa_feature_disruption(tf.cloned_reference_isoform.name) for tf in tfs.values())\n",
    "nls = nls.loc[nls['category'] == 'UniProt motif', :]\n",
    "nls['clone_acc_alt'] = nls['alt_iso'].map(\n",
    "    {iso.name: iso.clone_acc \n",
    "     for tf in tfs.values() \n",
    "     for iso in tf.cloned_isoforms}\n",
    "    )\n",
    "nls['type'] = nls['accession'].apply(lambda x: x.split('_')[0])\n",
    "nls['affected'] = (nls['deletion'] + nls['insertion'] + nls['frameshift']) > 0 \n",
    "pairs['NLS_affected'] = pairs['clone_acc_alt'].map(\n",
    "    nls.loc[nls['type'] == 'NLS', :]\n",
    "    .groupby('clone_acc_alt')\n",
    "    ['affected']\n",
    "    .any()\n",
    "    )\n",
    "pairs['NES_affected'] = pairs['clone_acc_alt'].map(\n",
    "    nls.loc[nls['type'] == 'NES', :]\n",
    "    .groupby('clone_acc_alt')\n",
    "    ['affected']\n",
    "    .any()\n",
    "    )"
   ]
  },
  {
   "cell_type": "code",
   "execution_count": 58,
   "metadata": {},
   "outputs": [
    {
     "data": {
      "text/plain": [
       "True     8\n",
       "False    6\n",
       "Name: NLS_affected, dtype: int64"
      ]
     },
     "execution_count": 58,
     "metadata": {},
     "output_type": "execute_result"
    }
   ],
   "source": [
    "pairs['NLS_affected'].value_counts()"
   ]
  },
  {
   "cell_type": "code",
   "execution_count": 59,
   "metadata": {},
   "outputs": [
    {
     "data": {
      "text/plain": [
       "KLF7    6\n",
       "MAX     5\n",
       "ZIC3    2\n",
       "TP53    1\n",
       "Name: gene_symbol, dtype: int64"
      ]
     },
     "execution_count": 59,
     "metadata": {},
     "output_type": "execute_result"
    }
   ],
   "source": [
    "pairs.loc[pairs['NLS_affected'].notnull(), 'gene_symbol'].value_counts()"
   ]
  },
  {
   "cell_type": "code",
   "execution_count": 60,
   "metadata": {},
   "outputs": [
    {
     "data": {
      "text/plain": [
       "ATF2    5\n",
       "TP53    1\n",
       "Name: gene_symbol, dtype: int64"
      ]
     },
     "execution_count": 60,
     "metadata": {},
     "output_type": "execute_result"
    }
   ],
   "source": [
    "pairs.loc[pairs['NES_affected'].notnull(), 'gene_symbol'].value_counts()"
   ]
  },
  {
   "cell_type": "code",
   "execution_count": 61,
   "metadata": {},
   "outputs": [
    {
     "data": {
      "text/plain": [
       "True     5\n",
       "False    1\n",
       "Name: NES_affected, dtype: int64"
      ]
     },
     "execution_count": 61,
     "metadata": {},
     "output_type": "execute_result"
    }
   ],
   "source": [
    "pairs['NES_affected'].value_counts()"
   ]
  },
  {
   "cell_type": "code",
   "execution_count": 62,
   "metadata": {},
   "outputs": [
    {
     "data": {
      "text/html": [
       "<div>\n",
       "<style scoped>\n",
       "    .dataframe tbody tr th:only-of-type {\n",
       "        vertical-align: middle;\n",
       "    }\n",
       "\n",
       "    .dataframe tbody tr th {\n",
       "        vertical-align: top;\n",
       "    }\n",
       "\n",
       "    .dataframe thead th {\n",
       "        text-align: right;\n",
       "    }\n",
       "</style>\n",
       "<table border=\"1\" class=\"dataframe\">\n",
       "  <thead>\n",
       "    <tr style=\"text-align: right;\">\n",
       "      <th></th>\n",
       "      <th>clone_acc_alt</th>\n",
       "      <th>NLS_affected</th>\n",
       "      <th>NES_affected</th>\n",
       "      <th>HEK_Condensate_ref</th>\n",
       "      <th>HEK_Condensate_alt</th>\n",
       "      <th>condensate_cat_HEK</th>\n",
       "      <th>localization_HEK_ref</th>\n",
       "      <th>localization_HEK_alt</th>\n",
       "    </tr>\n",
       "  </thead>\n",
       "  <tbody>\n",
       "    <tr>\n",
       "      <th>61</th>\n",
       "      <td>KLF7|3/8|10B10</td>\n",
       "      <td>False</td>\n",
       "      <td>NaN</td>\n",
       "      <td>CC</td>\n",
       "      <td>BOTH</td>\n",
       "      <td>Unchanged</td>\n",
       "      <td>both</td>\n",
       "      <td>both</td>\n",
       "    </tr>\n",
       "    <tr>\n",
       "      <th>64</th>\n",
       "      <td>KLF7|4/8|10E10</td>\n",
       "      <td>False</td>\n",
       "      <td>NaN</td>\n",
       "      <td>CC</td>\n",
       "      <td>BOTH</td>\n",
       "      <td>Unchanged</td>\n",
       "      <td>both</td>\n",
       "      <td>both</td>\n",
       "    </tr>\n",
       "    <tr>\n",
       "      <th>274</th>\n",
       "      <td>MAX|2/6|07F12</td>\n",
       "      <td>False</td>\n",
       "      <td>NaN</td>\n",
       "      <td>NaN</td>\n",
       "      <td>NC</td>\n",
       "      <td>GOC</td>\n",
       "      <td>nucleus</td>\n",
       "      <td>nucleus</td>\n",
       "    </tr>\n",
       "    <tr>\n",
       "      <th>337</th>\n",
       "      <td>TP53|2/2|02F03</td>\n",
       "      <td>False</td>\n",
       "      <td>False</td>\n",
       "      <td>BOTH</td>\n",
       "      <td>BOTH</td>\n",
       "      <td>Unchanged</td>\n",
       "      <td>both</td>\n",
       "      <td>both</td>\n",
       "    </tr>\n",
       "    <tr>\n",
       "      <th>438</th>\n",
       "      <td>ZIC3|3/3|09C04</td>\n",
       "      <td>False</td>\n",
       "      <td>NaN</td>\n",
       "      <td>NaN</td>\n",
       "      <td>CC</td>\n",
       "      <td>GOC</td>\n",
       "      <td>nucleus</td>\n",
       "      <td>both</td>\n",
       "    </tr>\n",
       "    <tr>\n",
       "      <th>439</th>\n",
       "      <td>ZIC3|1/3|09F05</td>\n",
       "      <td>False</td>\n",
       "      <td>NaN</td>\n",
       "      <td>NaN</td>\n",
       "      <td>NC</td>\n",
       "      <td>GOC</td>\n",
       "      <td>nucleus</td>\n",
       "      <td>nucleus</td>\n",
       "    </tr>\n",
       "    <tr>\n",
       "      <th>62</th>\n",
       "      <td>KLF7|5/8|11H02</td>\n",
       "      <td>True</td>\n",
       "      <td>NaN</td>\n",
       "      <td>CC</td>\n",
       "      <td>CC</td>\n",
       "      <td>Unchanged</td>\n",
       "      <td>both</td>\n",
       "      <td>both</td>\n",
       "    </tr>\n",
       "    <tr>\n",
       "      <th>63</th>\n",
       "      <td>KLF7|6/8|01D06</td>\n",
       "      <td>True</td>\n",
       "      <td>NaN</td>\n",
       "      <td>CC</td>\n",
       "      <td>BOTH</td>\n",
       "      <td>Unchanged</td>\n",
       "      <td>both</td>\n",
       "      <td>both</td>\n",
       "    </tr>\n",
       "    <tr>\n",
       "      <th>65</th>\n",
       "      <td>KLF7|7/8|10H08</td>\n",
       "      <td>True</td>\n",
       "      <td>NaN</td>\n",
       "      <td>CC</td>\n",
       "      <td>BOTH</td>\n",
       "      <td>Unchanged</td>\n",
       "      <td>both</td>\n",
       "      <td>both</td>\n",
       "    </tr>\n",
       "    <tr>\n",
       "      <th>66</th>\n",
       "      <td>KLF7|8/8|10D09</td>\n",
       "      <td>True</td>\n",
       "      <td>NaN</td>\n",
       "      <td>CC</td>\n",
       "      <td>CC</td>\n",
       "      <td>Unchanged</td>\n",
       "      <td>both</td>\n",
       "      <td>both</td>\n",
       "    </tr>\n",
       "    <tr>\n",
       "      <th>275</th>\n",
       "      <td>MAX|3/6|08E02</td>\n",
       "      <td>True</td>\n",
       "      <td>NaN</td>\n",
       "      <td>NaN</td>\n",
       "      <td>CC</td>\n",
       "      <td>GOC</td>\n",
       "      <td>nucleus</td>\n",
       "      <td>both</td>\n",
       "    </tr>\n",
       "    <tr>\n",
       "      <th>276</th>\n",
       "      <td>MAX|4/6|08A03</td>\n",
       "      <td>True</td>\n",
       "      <td>NaN</td>\n",
       "      <td>NaN</td>\n",
       "      <td>CC</td>\n",
       "      <td>GOC</td>\n",
       "      <td>nucleus</td>\n",
       "      <td>both</td>\n",
       "    </tr>\n",
       "    <tr>\n",
       "      <th>277</th>\n",
       "      <td>MAX|5/6|10H11</td>\n",
       "      <td>True</td>\n",
       "      <td>NaN</td>\n",
       "      <td>NaN</td>\n",
       "      <td>BOTH</td>\n",
       "      <td>GOC</td>\n",
       "      <td>nucleus</td>\n",
       "      <td>both</td>\n",
       "    </tr>\n",
       "    <tr>\n",
       "      <th>278</th>\n",
       "      <td>MAX|6/6|08C03</td>\n",
       "      <td>True</td>\n",
       "      <td>NaN</td>\n",
       "      <td>NaN</td>\n",
       "      <td>CC</td>\n",
       "      <td>GOC</td>\n",
       "      <td>nucleus</td>\n",
       "      <td>both</td>\n",
       "    </tr>\n",
       "  </tbody>\n",
       "</table>\n",
       "</div>"
      ],
      "text/plain": [
       "      clone_acc_alt NLS_affected NES_affected HEK_Condensate_ref  \\\n",
       "61   KLF7|3/8|10B10        False          NaN                 CC   \n",
       "64   KLF7|4/8|10E10        False          NaN                 CC   \n",
       "274   MAX|2/6|07F12        False          NaN                NaN   \n",
       "337  TP53|2/2|02F03        False        False               BOTH   \n",
       "438  ZIC3|3/3|09C04        False          NaN                NaN   \n",
       "439  ZIC3|1/3|09F05        False          NaN                NaN   \n",
       "62   KLF7|5/8|11H02         True          NaN                 CC   \n",
       "63   KLF7|6/8|01D06         True          NaN                 CC   \n",
       "65   KLF7|7/8|10H08         True          NaN                 CC   \n",
       "66   KLF7|8/8|10D09         True          NaN                 CC   \n",
       "275   MAX|3/6|08E02         True          NaN                NaN   \n",
       "276   MAX|4/6|08A03         True          NaN                NaN   \n",
       "277   MAX|5/6|10H11         True          NaN                NaN   \n",
       "278   MAX|6/6|08C03         True          NaN                NaN   \n",
       "\n",
       "    HEK_Condensate_alt condensate_cat_HEK localization_HEK_ref  \\\n",
       "61                BOTH          Unchanged                 both   \n",
       "64                BOTH          Unchanged                 both   \n",
       "274                 NC                GOC              nucleus   \n",
       "337               BOTH          Unchanged                 both   \n",
       "438                 CC                GOC              nucleus   \n",
       "439                 NC                GOC              nucleus   \n",
       "62                  CC          Unchanged                 both   \n",
       "63                BOTH          Unchanged                 both   \n",
       "65                BOTH          Unchanged                 both   \n",
       "66                  CC          Unchanged                 both   \n",
       "275                 CC                GOC              nucleus   \n",
       "276                 CC                GOC              nucleus   \n",
       "277               BOTH                GOC              nucleus   \n",
       "278                 CC                GOC              nucleus   \n",
       "\n",
       "    localization_HEK_alt  \n",
       "61                  both  \n",
       "64                  both  \n",
       "274              nucleus  \n",
       "337                 both  \n",
       "438                 both  \n",
       "439              nucleus  \n",
       "62                  both  \n",
       "63                  both  \n",
       "65                  both  \n",
       "66                  both  \n",
       "275                 both  \n",
       "276                 both  \n",
       "277                 both  \n",
       "278                 both  "
      ]
     },
     "execution_count": 62,
     "metadata": {},
     "output_type": "execute_result"
    }
   ],
   "source": [
    "pairs.loc[pairs['NLS_affected'].notnull(),\n",
    "          ['clone_acc_alt',\n",
    "           'NLS_affected',\n",
    "           'NES_affected',\n",
    "           'HEK_Condensate_ref', 'HEK_Condensate_alt',\n",
    "           'condensate_cat_HEK',\n",
    "           'localization_HEK_ref', 'localization_HEK_alt']].sort_values('NLS_affected')"
   ]
  },
  {
   "cell_type": "code",
   "execution_count": 63,
   "metadata": {},
   "outputs": [
    {
     "data": {
      "text/plain": [
       "NLS_affected  localization_cat_HEK\n",
       "False         Difference              1\n",
       "              No difference           5\n",
       "True          Difference              4\n",
       "              No difference           4\n",
       "dtype: int64"
      ]
     },
     "execution_count": 63,
     "metadata": {},
     "output_type": "execute_result"
    }
   ],
   "source": [
    "pairs.loc[pairs['NLS_affected'].notnull(), ].groupby(['NLS_affected', 'localization_cat_HEK']).size()"
   ]
  },
  {
   "cell_type": "code",
   "execution_count": 64,
   "metadata": {},
   "outputs": [
    {
     "data": {
      "text/plain": [
       "NLS_affected  localization_cat_U2OS\n",
       "False         Difference               3\n",
       "              No difference            3\n",
       "True          Difference               2\n",
       "              No difference            6\n",
       "dtype: int64"
      ]
     },
     "execution_count": 64,
     "metadata": {},
     "output_type": "execute_result"
    }
   ],
   "source": [
    "pairs.loc[pairs['NLS_affected'].notnull(), ].groupby(['NLS_affected', 'localization_cat_U2OS']).size()"
   ]
  },
  {
   "cell_type": "code",
   "execution_count": 66,
   "metadata": {},
   "outputs": [
    {
     "name": "stdout",
     "output_type": "stream",
     "text": [
      "              NLS preserved  NLS removed  No annotated NLS\n",
      "NLS_affected              5            4                75\n",
      "NLS_affected              1            4                40\n"
     ]
    },
    {
     "data": {
      "image/png": "[encoded data removed]",
      "text/plain": [
       "<Figure size 150x60 with 1 Axes>"
      ]
     },
     "metadata": {},
     "output_type": "display_data"
    }
   ],
   "source": [
    "fig, ax = plt.subplots(1, 1)\n",
    "fig.set_size_inches(w=1.5, h=0.6)\n",
    "\n",
    "data = pd.concat([(pairs.loc[pairs['localization_cat_HEK'] == x, 'NLS_affected'].value_counts(dropna=False)\n",
    "                    .sort_index()\n",
    "                    .to_frame()\n",
    "                    .T)\n",
    "                    for x in ['No difference', 'Difference']])\n",
    "data.columns = data.columns.map({np.nan: 'No annotated NLS',\n",
    "                             False: 'NLS preserved',\n",
    "                             True: 'NLS removed',\n",
    "                             })\n",
    "print(data)\n",
    "data.plot.barh(stacked=True,\n",
    "              ax=ax,\n",
    "              color=[colors[1], colors[0], \"grey\"])\n",
    "\n",
    "for pos in ['top', 'left', 'right']:\n",
    "    ax.spines[pos].set_visible(False)\n",
    "ax.yaxis.set_tick_params(length=0)\n",
    "\n",
    "ax.set_yticklabels(['No difference', 'Difference'])\n",
    "ax.set_ylabel('HEK293T\\nlocalization')\n",
    "ax.set_xticks(range(0, 81, 20))\n",
    "ax.set_xticks(range(0, 81, 10), minor=True)\n",
    "ax.set_xlabel('Alternative isoforms')\n",
    "ax.legend(loc=\"upper left\", bbox_to_anchor=(1.01, 1), frameon=False)\n",
    "\n",
    "\n",
    "\n",
    "fig.savefig('../../figures/fig5/HEK-NLS-annotation_stacked-bar.pdf',\n",
    "            bbox_inches='tight')"
   ]
  },
  {
   "cell_type": "code",
   "execution_count": null,
   "metadata": {},
   "outputs": [
    {
     "name": "stdout",
     "output_type": "stream",
     "text": [
      "              NLS preserved  NLS removed  No annotated NLS\n",
      "NLS_affected              3            6                75\n",
      "NLS_affected              3            2                40\n"
     ]
    },
    {
     "data": {
      "image/png": "[encoded data removed]",
      "text/plain": [
       "<Figure size 108x43.2 with 1 Axes>"
      ]
     },
     "metadata": {},
     "output_type": "display_data"
    }
   ],
   "source": [
    "fig, ax = plt.subplots(1, 1)\n",
    "fig.set_size_inches(w=1.5, h=0.6)\n",
    "\n",
    "data = pd.concat([(pairs.loc[pairs['localization_cat_U2OS'] == x, 'NLS_affected'].value_counts(dropna=False)\n",
    "                    .sort_index()\n",
    "                    .to_frame()\n",
    "                    .T)\n",
    "                    for x in ['No difference', 'Difference']])\n",
    "data.columns = data.columns.map({np.nan: 'No annotated NLS',\n",
    "                             False: 'NLS preserved',\n",
    "                             True: 'NLS removed',\n",
    "                             })\n",
    "print(data)\n",
    "data.plot.barh(stacked=True,\n",
    "              ax=ax,\n",
    "              color=[colors[1], colors[0], \"grey\"])\n",
    "\n",
    "for pos in ['top', 'left', 'right']:\n",
    "    ax.spines[pos].set_visible(False)\n",
    "ax.yaxis.set_tick_params(length=0)\n",
    "\n",
    "ax.set_yticklabels(['No difference', 'Difference'])\n",
    "ax.set_ylabel('U2OS\\nlocalization')\n",
    "ax.set_xticks(range(0, 81, 20))\n",
    "ax.set_xticks(range(0, 81, 10), minor=True)\n",
    "ax.set_xlabel('Alternative isoforms')\n",
    "ax.legend(loc=\"upper left\", bbox_to_anchor=(1.01, 1), frameon=False)\n",
    "\n",
    "\n",
    "\n",
    "fig.savefig('../../figures/fig5/U2OS-NLS-annotation_stacked-bar.pdf',\n",
    "            bbox_inches='tight')"
   ]
  },
  {
   "cell_type": "markdown",
   "metadata": {},
   "source": [
    "## 10. make supp table"
   ]
  },
  {
   "cell_type": "code",
   "execution_count": null,
   "metadata": {},
   "outputs": [
    {
     "name": "stdout",
     "output_type": "stream",
     "text": [
      "129\n"
     ]
    },
    {
     "data": {
      "text/html": [
       "<div>\n",
       "<style scoped>\n",
       "    .dataframe tbody tr th:only-of-type {\n",
       "        vertical-align: middle;\n",
       "    }\n",
       "\n",
       "    .dataframe tbody tr th {\n",
       "        vertical-align: top;\n",
       "    }\n",
       "\n",
       "    .dataframe thead th {\n",
       "        text-align: right;\n",
       "    }\n",
       "</style>\n",
       "<table border=\"1\" class=\"dataframe\">\n",
       "  <thead>\n",
       "    <tr style=\"text-align: right;\">\n",
       "      <th></th>\n",
       "      <th>gene_symbol</th>\n",
       "      <th>clone_id_ref</th>\n",
       "      <th>clone_id_alt</th>\n",
       "      <th>condensates_ref-v-alt_HEK</th>\n",
       "      <th>condensates_ref-v-alt_U2OS</th>\n",
       "      <th>localization_ref_HEK</th>\n",
       "      <th>localization_alt_HEK</th>\n",
       "      <th>localization_ref_U2OS</th>\n",
       "      <th>localization_alt_U2OS</th>\n",
       "    </tr>\n",
       "  </thead>\n",
       "  <tbody>\n",
       "    <tr>\n",
       "      <th>0</th>\n",
       "      <td>ZBTB18</td>\n",
       "      <td>ZBTB18-1</td>\n",
       "      <td>ZBTB18-2</td>\n",
       "      <td>Both form condensates</td>\n",
       "      <td>Both form condensates</td>\n",
       "      <td>both</td>\n",
       "      <td>both</td>\n",
       "      <td>both</td>\n",
       "      <td>both</td>\n",
       "    </tr>\n",
       "    <tr>\n",
       "      <th>1</th>\n",
       "      <td>PRRX1</td>\n",
       "      <td>PRRX1-2</td>\n",
       "      <td>PRRX1-1</td>\n",
       "      <td>Alternative loses condensate</td>\n",
       "      <td>Alternative loses condensate</td>\n",
       "      <td>nucleus</td>\n",
       "      <td>both</td>\n",
       "      <td>nucleus</td>\n",
       "      <td>nucleus</td>\n",
       "    </tr>\n",
       "    <tr>\n",
       "      <th>2</th>\n",
       "      <td>PRRX1</td>\n",
       "      <td>PRRX1-2</td>\n",
       "      <td>PRRX1-3</td>\n",
       "      <td>Alternative loses condensate</td>\n",
       "      <td>Both form condensates</td>\n",
       "      <td>nucleus</td>\n",
       "      <td>nucleus</td>\n",
       "      <td>nucleus</td>\n",
       "      <td>nucleus</td>\n",
       "    </tr>\n",
       "    <tr>\n",
       "      <th>5</th>\n",
       "      <td>GRHL3</td>\n",
       "      <td>GRHL3-3</td>\n",
       "      <td>GRHL3-1</td>\n",
       "      <td>Both form condensates</td>\n",
       "      <td>Both form condensates</td>\n",
       "      <td>nucleus</td>\n",
       "      <td>nucleus</td>\n",
       "      <td>nucleus</td>\n",
       "      <td>both</td>\n",
       "    </tr>\n",
       "    <tr>\n",
       "      <th>6</th>\n",
       "      <td>GRHL3</td>\n",
       "      <td>GRHL3-3</td>\n",
       "      <td>GRHL3-2</td>\n",
       "      <td>Both form condensates</td>\n",
       "      <td>Both form condensates</td>\n",
       "      <td>nucleus</td>\n",
       "      <td>nucleus</td>\n",
       "      <td>nucleus</td>\n",
       "      <td>both</td>\n",
       "    </tr>\n",
       "  </tbody>\n",
       "</table>\n",
       "</div>"
      ],
      "text/plain": [
       "  gene_symbol clone_id_ref clone_id_alt     condensates_ref-v-alt_HEK  \\\n",
       "0      ZBTB18     ZBTB18-1     ZBTB18-2         Both form condensates   \n",
       "1       PRRX1      PRRX1-2      PRRX1-1  Alternative loses condensate   \n",
       "2       PRRX1      PRRX1-2      PRRX1-3  Alternative loses condensate   \n",
       "5       GRHL3      GRHL3-3      GRHL3-1         Both form condensates   \n",
       "6       GRHL3      GRHL3-3      GRHL3-2         Both form condensates   \n",
       "\n",
       "     condensates_ref-v-alt_U2OS localization_ref_HEK localization_alt_HEK  \\\n",
       "0         Both form condensates                 both                 both   \n",
       "1  Alternative loses condensate              nucleus                 both   \n",
       "2         Both form condensates              nucleus              nucleus   \n",
       "5         Both form condensates              nucleus              nucleus   \n",
       "6         Both form condensates              nucleus              nucleus   \n",
       "\n",
       "  localization_ref_U2OS localization_alt_U2OS  \n",
       "0                  both                  both  \n",
       "1               nucleus               nucleus  \n",
       "2               nucleus               nucleus  \n",
       "5               nucleus                  both  \n",
       "6               nucleus                  both  "
      ]
     },
     "execution_count": 67,
     "metadata": {},
     "output_type": "execute_result"
    }
   ],
   "source": [
    "supp_conds = pairs.copy()\n",
    "supp_conds[\"clone_id_ref\"] = supp_conds.clone_acc_ref.apply(lambda x: x.split('|')[0] + '-' + x.split('|')[1].split('/')[0])\n",
    "supp_conds[\"clone_id_alt\"] = supp_conds.clone_acc_alt.apply(lambda x: x.split('|')[0] + '-' + x.split('|')[1].split('/')[0])\n",
    "supp_conds = supp_conds[[\"gene_symbol\", \"clone_id_ref\", \"clone_id_alt\", \"condensate_cat_only_detailed_HEK\",\n",
    "                         \"condensate_cat_only_detailed_U2OS\", \"localization_HEK_ref\", \"localization_HEK_alt\",\n",
    "                         \"localization_U2OS_ref\", \"localization_U2OS_alt\"]]\n",
    "supp_conds.columns = [\"gene_symbol\", \"clone_id_ref\", \"clone_id_alt\", \"condensates_ref-v-alt_HEK\",\n",
    "                      \"condensates_ref-v-alt_U2OS\", \"localization_ref_HEK\", \"localization_alt_HEK\",\n",
    "                      \"localization_ref_U2OS\", \"localization_alt_U2OS\"]\n",
    "print(len(supp_conds))\n",
    "supp_conds.head()"
   ]
  },
  {
   "cell_type": "code",
   "execution_count": null,
   "metadata": {},
   "outputs": [],
   "source": [
    "supp_conds.to_csv(\"../../supp/SuppTable_Condensates.txt\", sep=\"\\t\", index=False)"
   ]
  },
  {
   "cell_type": "code",
   "execution_count": null,
   "metadata": {},
   "outputs": [],
   "source": []
  }
 ],
 "metadata": {
  "kernelspec": {
   "display_name": "venv",
   "language": "python",
   "name": "python3"
  },
  "language_info": {
   "codemirror_mode": {
    "name": "ipython",
    "version": 3
   },
   "file_extension": ".py",
   "mimetype": "text/x-python",
   "name": "python",
   "nbconvert_exporter": "python",
   "pygments_lexer": "ipython3",
   "version": "3.8.13"
  }
 },
 "nbformat": 4,
 "nbformat_minor": 2
}
