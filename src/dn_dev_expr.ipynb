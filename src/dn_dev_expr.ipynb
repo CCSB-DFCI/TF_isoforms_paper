{
 "cells": [
  {
   "cell_type": "code",
   "execution_count": 1,
   "metadata": {},
   "outputs": [],
   "source": [
    "import warnings\n",
    "warnings.filterwarnings('ignore')"
   ]
  },
  {
   "cell_type": "code",
   "execution_count": 2,
   "metadata": {},
   "outputs": [],
   "source": [
    "import matplotlib as mpl\n",
    "import matplotlib.pyplot as plt\n",
    "import met_brewer\n",
    "import pandas as pd\n",
    "import numpy as np\n",
    "import seaborn as sns\n",
    "import sys\n",
    "import upsetplot\n",
    "\n",
    "import statsmodels.api as sm\n",
    "import statsmodels.formula.api as smf\n",
    "\n",
    "from Bio.Seq import Seq\n",
    "from scipy.stats import fisher_exact\n",
    "from scipy.stats import mannwhitneyu\n",
    "from scipy.stats import pearsonr\n",
    "\n",
    "import plotting\n",
    "from plotting import PAPER_PRESET, PAPER_FONTSIZE, nice_boxplot, nice_violinplot, mimic_r_boxplot\n",
    "\n",
    "\n",
    "%matplotlib inline\n",
    "%config InlineBackend.figure_format = 'svg'\n",
    "mpl.rcParams['figure.autolayout'] = False"
   ]
  },
  {
   "cell_type": "code",
   "execution_count": 3,
   "metadata": {},
   "outputs": [],
   "source": [
    "from data_loading import (load_annotated_6k_collection,\n",
    "                          load_valid_isoform_clones,\n",
    "                          load_developmental_tissue_expression_remapped)"
   ]
  },
  {
   "cell_type": "code",
   "execution_count": 4,
   "metadata": {},
   "outputs": [],
   "source": [
    "sns.set(**PAPER_PRESET)\n",
    "fontsize = PAPER_FONTSIZE"
   ]
  },
  {
   "cell_type": "code",
   "execution_count": 5,
   "metadata": {},
   "outputs": [],
   "source": [
    "np.random.seed(2023)"
   ]
  },
  {
   "cell_type": "markdown",
   "metadata": {},
   "source": [
    "## functions"
   ]
  },
  {
   "cell_type": "code",
   "execution_count": 6,
   "metadata": {},
   "outputs": [],
   "source": [
    "def calculate_tau(df):\n",
    "    array = df.values\n",
    "    \n",
    "    ## will return NaN as tau for every row that has any NaNs\n",
    "    array_max = np.max(array, axis=1)\n",
    "    tmp = array.T / array_max\n",
    "    tmp = 1 - tmp.T\n",
    "    nonan_taus = np.sum(tmp, axis=1) / (array.shape[1])\n",
    "    \n",
    "    ## will ignore NaNs and compute on the rest of the values\n",
    "    array_max = np.nanmax(array, axis=1)\n",
    "    tmp = array.T / array_max\n",
    "    tmp = 1 - tmp.T\n",
    "    nan_taus = np.nansum(tmp, axis=1) / np.count_nonzero(~np.isnan(array), axis=1)\n",
    "    \n",
    "    \n",
    "    return nonan_taus, nan_taus, array_max"
   ]
  },
  {
   "cell_type": "markdown",
   "metadata": {},
   "source": [
    "## variables"
   ]
  },
  {
   "cell_type": "code",
   "execution_count": 7,
   "metadata": {},
   "outputs": [],
   "source": [
    "dn_cats_f = \"../data/processed/DN_cats_Joung.tsv\""
   ]
  },
  {
   "cell_type": "code",
   "execution_count": 8,
   "metadata": {},
   "outputs": [],
   "source": [
    "pal = {\"ref\": sns.color_palette(\"Set2\")[0],\n",
    "       \"ref-v-ref\": sns.color_palette(\"Set2\")[0],\n",
    "       \"rewire\": sns.color_palette(\"Set2\")[2],\n",
    "       \"DN\": sns.color_palette(\"Set2\")[1],\n",
    "       \"NA\": \"lightgray\",\n",
    "       \"likely\": \"darkgray\"}"
   ]
  },
  {
   "cell_type": "markdown",
   "metadata": {},
   "source": [
    "## 1. import data"
   ]
  },
  {
   "cell_type": "code",
   "execution_count": 9,
   "metadata": {},
   "outputs": [
    {
     "data": {
      "text/plain": [
       "NA        278\n",
       "ref       246\n",
       "DN         93\n",
       "rewire     74\n",
       "likely      2\n",
       "Name: dn_cat, dtype: int64"
      ]
     },
     "execution_count": 9,
     "metadata": {},
     "output_type": "execute_result"
    }
   ],
   "source": [
    "dn_cats = pd.read_table(dn_cats_f)\n",
    "dn_cats[\"dn_cat\"].fillna(\"NA\", inplace=True)\n",
    "dn_cats.dn_cat.value_counts()"
   ]
  },
  {
   "cell_type": "code",
   "execution_count": 10,
   "metadata": {},
   "outputs": [
    {
     "name": "stdout",
     "output_type": "stream",
     "text": [
      "reading from cache\n"
     ]
    }
   ],
   "source": [
    "tfs = load_annotated_6k_collection()"
   ]
  },
  {
   "cell_type": "code",
   "execution_count": 11,
   "metadata": {},
   "outputs": [
    {
     "name": "stdout",
     "output_type": "stream",
     "text": [
      "reading from cache\n"
     ]
    }
   ],
   "source": [
    "dev = load_developmental_tissue_expression_remapped()"
   ]
  },
  {
   "cell_type": "code",
   "execution_count": 16,
   "metadata": {},
   "outputs": [
    {
     "data": {
      "text/html": [
       "<div>\n",
       "<style scoped>\n",
       "    .dataframe tbody tr th:only-of-type {\n",
       "        vertical-align: middle;\n",
       "    }\n",
       "\n",
       "    .dataframe tbody tr th {\n",
       "        vertical-align: top;\n",
       "    }\n",
       "\n",
       "    .dataframe thead th {\n",
       "        text-align: right;\n",
       "    }\n",
       "</style>\n",
       "<table border=\"1\" class=\"dataframe\">\n",
       "  <thead>\n",
       "    <tr style=\"text-align: right;\">\n",
       "      <th></th>\n",
       "      <th>ERR2598356</th>\n",
       "      <th>ERR2598060</th>\n",
       "      <th>ERR2598278</th>\n",
       "      <th>ERR2598294</th>\n",
       "      <th>ERR2598268</th>\n",
       "      <th>ERR2598057</th>\n",
       "      <th>ERR2598194</th>\n",
       "      <th>ERR2598317</th>\n",
       "      <th>ERR2598130</th>\n",
       "      <th>ERR2598362</th>\n",
       "      <th>...</th>\n",
       "      <th>ERR2598246</th>\n",
       "      <th>ERR2598076</th>\n",
       "      <th>ERR2598117</th>\n",
       "      <th>ERR2598350</th>\n",
       "      <th>ERR2598133</th>\n",
       "      <th>ERR2598319</th>\n",
       "      <th>ERR2598289</th>\n",
       "      <th>ERR2598099</th>\n",
       "      <th>ERR2598286</th>\n",
       "      <th>ERR2598191</th>\n",
       "    </tr>\n",
       "    <tr>\n",
       "      <th>UID</th>\n",
       "      <th></th>\n",
       "      <th></th>\n",
       "      <th></th>\n",
       "      <th></th>\n",
       "      <th></th>\n",
       "      <th></th>\n",
       "      <th></th>\n",
       "      <th></th>\n",
       "      <th></th>\n",
       "      <th></th>\n",
       "      <th></th>\n",
       "      <th></th>\n",
       "      <th></th>\n",
       "      <th></th>\n",
       "      <th></th>\n",
       "      <th></th>\n",
       "      <th></th>\n",
       "      <th></th>\n",
       "      <th></th>\n",
       "      <th></th>\n",
       "      <th></th>\n",
       "    </tr>\n",
       "  </thead>\n",
       "  <tbody>\n",
       "    <tr>\n",
       "      <th>AEBP2|2/3|05F03 nomatch</th>\n",
       "      <td>0.000000</td>\n",
       "      <td>1.608057</td>\n",
       "      <td>0.258097</td>\n",
       "      <td>0.764935</td>\n",
       "      <td>0.162696</td>\n",
       "      <td>3.159794</td>\n",
       "      <td>1.389297</td>\n",
       "      <td>0.000000</td>\n",
       "      <td>1.686133</td>\n",
       "      <td>1.372545</td>\n",
       "      <td>...</td>\n",
       "      <td>0.196325</td>\n",
       "      <td>1.298377</td>\n",
       "      <td>0.917712</td>\n",
       "      <td>1.448113</td>\n",
       "      <td>2.616694</td>\n",
       "      <td>0.000000</td>\n",
       "      <td>0.000000</td>\n",
       "      <td>2.389000</td>\n",
       "      <td>0.000000</td>\n",
       "      <td>3.467645</td>\n",
       "    </tr>\n",
       "    <tr>\n",
       "      <th>AEBP2|3/3|05E07 nomatch</th>\n",
       "      <td>0.407233</td>\n",
       "      <td>0.000000</td>\n",
       "      <td>0.000000</td>\n",
       "      <td>0.000000</td>\n",
       "      <td>0.000000</td>\n",
       "      <td>0.000000</td>\n",
       "      <td>0.511905</td>\n",
       "      <td>0.000000</td>\n",
       "      <td>0.411271</td>\n",
       "      <td>0.000000</td>\n",
       "      <td>...</td>\n",
       "      <td>0.000000</td>\n",
       "      <td>0.209914</td>\n",
       "      <td>0.000000</td>\n",
       "      <td>0.294385</td>\n",
       "      <td>0.560105</td>\n",
       "      <td>0.162574</td>\n",
       "      <td>0.000000</td>\n",
       "      <td>0.338601</td>\n",
       "      <td>0.000000</td>\n",
       "      <td>0.493397</td>\n",
       "    </tr>\n",
       "    <tr>\n",
       "      <th>ARNT2|1/6|08C12 ARNT2-201</th>\n",
       "      <td>5.147588</td>\n",
       "      <td>4.908563</td>\n",
       "      <td>2.770852</td>\n",
       "      <td>4.771093</td>\n",
       "      <td>4.595307</td>\n",
       "      <td>6.597226</td>\n",
       "      <td>3.078630</td>\n",
       "      <td>1.455923</td>\n",
       "      <td>4.724328</td>\n",
       "      <td>3.125368</td>\n",
       "      <td>...</td>\n",
       "      <td>3.781559</td>\n",
       "      <td>3.227964</td>\n",
       "      <td>5.227733</td>\n",
       "      <td>6.901724</td>\n",
       "      <td>3.820393</td>\n",
       "      <td>5.723100</td>\n",
       "      <td>0.444248</td>\n",
       "      <td>3.951187</td>\n",
       "      <td>2.071869</td>\n",
       "      <td>4.477444</td>\n",
       "    </tr>\n",
       "    <tr>\n",
       "      <th>ARNT2|2/6|09E01 nomatch</th>\n",
       "      <td>0.044957</td>\n",
       "      <td>0.000000</td>\n",
       "      <td>0.000000</td>\n",
       "      <td>0.000000</td>\n",
       "      <td>0.000000</td>\n",
       "      <td>2.549023</td>\n",
       "      <td>0.000000</td>\n",
       "      <td>0.000000</td>\n",
       "      <td>0.000000</td>\n",
       "      <td>0.000000</td>\n",
       "      <td>...</td>\n",
       "      <td>0.000000</td>\n",
       "      <td>0.000000</td>\n",
       "      <td>0.273123</td>\n",
       "      <td>0.000000</td>\n",
       "      <td>0.086424</td>\n",
       "      <td>0.099842</td>\n",
       "      <td>0.000000</td>\n",
       "      <td>0.000000</td>\n",
       "      <td>0.000000</td>\n",
       "      <td>0.204975</td>\n",
       "    </tr>\n",
       "    <tr>\n",
       "      <th>ARNT2|3/6|10D11 ARNT2-209</th>\n",
       "      <td>0.000000</td>\n",
       "      <td>0.000000</td>\n",
       "      <td>3.173089</td>\n",
       "      <td>0.000000</td>\n",
       "      <td>3.528334</td>\n",
       "      <td>0.000000</td>\n",
       "      <td>0.000000</td>\n",
       "      <td>0.000000</td>\n",
       "      <td>0.000000</td>\n",
       "      <td>0.000000</td>\n",
       "      <td>...</td>\n",
       "      <td>2.399852</td>\n",
       "      <td>0.000000</td>\n",
       "      <td>0.000000</td>\n",
       "      <td>0.320557</td>\n",
       "      <td>0.000000</td>\n",
       "      <td>2.527281</td>\n",
       "      <td>0.000000</td>\n",
       "      <td>0.000000</td>\n",
       "      <td>1.880133</td>\n",
       "      <td>0.000000</td>\n",
       "    </tr>\n",
       "  </tbody>\n",
       "</table>\n",
       "<p>5 rows × 307 columns</p>\n",
       "</div>"
      ],
      "text/plain": [
       "                           ERR2598356  ERR2598060  ERR2598278  ERR2598294  \\\n",
       "UID                                                                         \n",
       "AEBP2|2/3|05F03 nomatch      0.000000    1.608057    0.258097    0.764935   \n",
       "AEBP2|3/3|05E07 nomatch      0.407233    0.000000    0.000000    0.000000   \n",
       "ARNT2|1/6|08C12 ARNT2-201    5.147588    4.908563    2.770852    4.771093   \n",
       "ARNT2|2/6|09E01 nomatch      0.044957    0.000000    0.000000    0.000000   \n",
       "ARNT2|3/6|10D11 ARNT2-209    0.000000    0.000000    3.173089    0.000000   \n",
       "\n",
       "                           ERR2598268  ERR2598057  ERR2598194  ERR2598317  \\\n",
       "UID                                                                         \n",
       "AEBP2|2/3|05F03 nomatch      0.162696    3.159794    1.389297    0.000000   \n",
       "AEBP2|3/3|05E07 nomatch      0.000000    0.000000    0.511905    0.000000   \n",
       "ARNT2|1/6|08C12 ARNT2-201    4.595307    6.597226    3.078630    1.455923   \n",
       "ARNT2|2/6|09E01 nomatch      0.000000    2.549023    0.000000    0.000000   \n",
       "ARNT2|3/6|10D11 ARNT2-209    3.528334    0.000000    0.000000    0.000000   \n",
       "\n",
       "                           ERR2598130  ERR2598362  ...  ERR2598246  \\\n",
       "UID                                                ...               \n",
       "AEBP2|2/3|05F03 nomatch      1.686133    1.372545  ...    0.196325   \n",
       "AEBP2|3/3|05E07 nomatch      0.411271    0.000000  ...    0.000000   \n",
       "ARNT2|1/6|08C12 ARNT2-201    4.724328    3.125368  ...    3.781559   \n",
       "ARNT2|2/6|09E01 nomatch      0.000000    0.000000  ...    0.000000   \n",
       "ARNT2|3/6|10D11 ARNT2-209    0.000000    0.000000  ...    2.399852   \n",
       "\n",
       "                           ERR2598076  ERR2598117  ERR2598350  ERR2598133  \\\n",
       "UID                                                                         \n",
       "AEBP2|2/3|05F03 nomatch      1.298377    0.917712    1.448113    2.616694   \n",
       "AEBP2|3/3|05E07 nomatch      0.209914    0.000000    0.294385    0.560105   \n",
       "ARNT2|1/6|08C12 ARNT2-201    3.227964    5.227733    6.901724    3.820393   \n",
       "ARNT2|2/6|09E01 nomatch      0.000000    0.273123    0.000000    0.086424   \n",
       "ARNT2|3/6|10D11 ARNT2-209    0.000000    0.000000    0.320557    0.000000   \n",
       "\n",
       "                           ERR2598319  ERR2598289  ERR2598099  ERR2598286  \\\n",
       "UID                                                                         \n",
       "AEBP2|2/3|05F03 nomatch      0.000000    0.000000    2.389000    0.000000   \n",
       "AEBP2|3/3|05E07 nomatch      0.162574    0.000000    0.338601    0.000000   \n",
       "ARNT2|1/6|08C12 ARNT2-201    5.723100    0.444248    3.951187    2.071869   \n",
       "ARNT2|2/6|09E01 nomatch      0.099842    0.000000    0.000000    0.000000   \n",
       "ARNT2|3/6|10D11 ARNT2-209    2.527281    0.000000    0.000000    1.880133   \n",
       "\n",
       "                           ERR2598191  \n",
       "UID                                    \n",
       "AEBP2|2/3|05F03 nomatch      3.467645  \n",
       "AEBP2|3/3|05E07 nomatch      0.493397  \n",
       "ARNT2|1/6|08C12 ARNT2-201    4.477444  \n",
       "ARNT2|2/6|09E01 nomatch      0.204975  \n",
       "ARNT2|3/6|10D11 ARNT2-209    0.000000  \n",
       "\n",
       "[5 rows x 307 columns]"
      ]
     },
     "execution_count": 16,
     "metadata": {},
     "output_type": "execute_result"
    }
   ],
   "source": [
    "dev[0].head()"
   ]
  },
  {
   "cell_type": "code",
   "execution_count": null,
   "metadata": {},
   "outputs": [],
   "source": []
  }
 ],
 "metadata": {
  "kernelspec": {
   "display_name": "Python (py36)",
   "language": "python",
   "name": "py36"
  },
  "language_info": {
   "codemirror_mode": {
    "name": "ipython",
    "version": 3
   },
   "file_extension": ".py",
   "mimetype": "text/x-python",
   "name": "python",
   "nbconvert_exporter": "python",
   "pygments_lexer": "ipython3",
   "version": "3.6.10"
  }
 },
 "nbformat": 4,
 "nbformat_minor": 2
}
