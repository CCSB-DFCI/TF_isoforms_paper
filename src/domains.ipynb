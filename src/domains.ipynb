{
 "cells": [
  {
   "cell_type": "markdown",
   "metadata": {},
   "source": [
    "TODO:\n",
    "\n",
    "- add the other DBDs from the same clan\n",
    "- About 1700 out of 2700 have PFam hits in the file (~60%)"
   ]
  },
  {
   "cell_type": "code",
   "execution_count": 1,
   "metadata": {
    "tags": []
   },
   "outputs": [
    {
     "name": "stdout",
     "output_type": "stream",
     "text": [
      "reading from cache\n"
     ]
    }
   ],
   "source": [
    "%load_ext autoreload\n",
    "%autoreload 2\n",
    "\n",
    "import tqdm\n",
    "import numpy as np\n",
    "from matplotlib import pyplot as plt\n",
    "import pandas as pd\n",
    "import seaborn as sns\n",
    "\n",
    "from poibin import PoiBin\n",
    "\n",
    "from data_loading import (load_annotated_gencode_tfs, \n",
    "                          load_pfam_clans, \n",
    "                          load_DNA_binding_domains)\n",
    "\n",
    "tfs = load_annotated_gencode_tfs()\n",
    "clans = load_pfam_clans()"
   ]
  },
  {
   "cell_type": "code",
   "execution_count": 2,
   "metadata": {},
   "outputs": [],
   "source": [
    "np.random.seed(2023)"
   ]
  },
  {
   "cell_type": "code",
   "execution_count": 3,
   "metadata": {},
   "outputs": [],
   "source": [
    "PAPER_PRESET = {\"style\": \"ticks\", \"font\": \"Helvetica\", \"context\": \"paper\", \n",
    "                \"rc\": {\"font.size\":7,\"axes.titlesize\":7,\n",
    "                       \"axes.labelsize\":7, 'axes.linewidth':0.5,\n",
    "                       \"legend.fontsize\":6, \"xtick.labelsize\":6,\n",
    "                       \"ytick.labelsize\":6, \"xtick.major.size\": 3.0,\n",
    "                       \"ytick.major.size\": 3.0, \"axes.edgecolor\": \"black\",\n",
    "                       \"xtick.major.pad\": 3.0, \"ytick.major.pad\": 3.0}}\n",
    "PAPER_FONTSIZE = 7"
   ]
  },
  {
   "cell_type": "code",
   "execution_count": 4,
   "metadata": {},
   "outputs": [],
   "source": [
    "sns.set(**PAPER_PRESET)\n",
    "fontsize = PAPER_FONTSIZE"
   ]
  },
  {
   "cell_type": "code",
   "execution_count": 5,
   "metadata": {},
   "outputs": [
    {
     "data": {
      "image/png": "[encoded data removed]",
      "text/plain": [
       "<Figure size 432x288 with 2 Axes>"
      ]
     },
     "metadata": {},
     "output_type": "display_data"
    }
   ],
   "source": [
    "fig, axs = plt.subplots(2, 1, sharex=True)\n",
    "fig.set_size_inches(w=6, h=4)\n",
    "bins = 100\n",
    "rng = (0, 4000)\n",
    "axs[0].hist([len(tf.reference_isoform.aa_seq) for tf in tfs.values()],\n",
    "            bins=bins,\n",
    "            range=rng)\n",
    "axs[0].set_title('Reference isoforms')\n",
    "axs[1].hist([len(alt_iso.aa_seq) for tf in tfs.values() for alt_iso in tf.alternative_isoforms],\n",
    "            bins=bins,\n",
    "            range=rng)\n",
    "axs[1].set_title('Alternative isoforms')\n",
    "axs[1].set_xlabel('Number of amino acids')\n",
    "axs[1].set_ylabel('Number of isoforms')\n",
    "axs[1].set_xticks(range(0, 4000 + 1, 500))\n",
    "axs[1].set_xticks(range(0, 4000, 100), minor=True)\n",
    "axs[1].set_xlim(*rng)\n",
    "for ax in axs:\n",
    "    for pos in ['top', 'right']:\n",
    "        ax.spines[pos].set_visible(False)\n",
    "fig.savefig('../figures/n-aa-per-isoform_GENCODE.pdf',\n",
    "            bbox_inches='tight')"
   ]
  },
  {
   "cell_type": "code",
   "execution_count": 6,
   "metadata": {},
   "outputs": [],
   "source": [
    "# TODO change to reference isoform\n",
    "df = pd.concat([g.aa_feature_disruption(g.orfs[0].name) for g in tfs.values()])\n",
    "dbd = load_DNA_binding_domains()\n",
    "dbd['clan'] = dbd['pfam'].map(clans)\n",
    "dbd['num_genes'] = dbd['pfam'].map(df.groupby('accession')['gene'].size())\n",
    "df['is_DBD'] = df['accession'].isin(dbd['pfam'].values) | df['accession'].str.startswith('C2H2_ZF_array')\n",
    "\n",
    "# TODO: move to isolib.py\n",
    "df['is_affected_at_all'] = (df['deletion'] + df['insertion'] + df['frameshift']) > 0\n",
    "for frac in [1.0, 0.9, 0.5, 0.1]:\n",
    "    df[f\"is_affected_{frac * 100:.0f}pct\"] = (df['deletion'] + df['insertion'] + df['frameshift']) >= frac * df['length']\n",
    "\n",
    "dbd_acc = set(dbd['pfam'].values).union(\n",
    "            set(df['accession'][df['accession'].str.startswith('C2H2_ZF_array')].unique())\n",
    "            )"
   ]
  },
  {
   "cell_type": "code",
   "execution_count": 7,
   "metadata": {},
   "outputs": [
    {
     "data": {
      "image/png": "[encoded data removed]",
      "text/plain": [
       "<Figure size 288x288 with 2 Axes>"
      ]
     },
     "metadata": {},
     "output_type": "display_data"
    }
   ],
   "source": [
    "# exons per isoform\n",
    "fig, axs = plt.subplots(2, 1, sharex=True)\n",
    "fig.set_size_inches(w=4, h=4)\n",
    "most_exons = max(len(iso.exons) for tf in tfs.values() for iso in tf.orfs)\n",
    "bins = most_exons\n",
    "axs[0].hist([len(tf.reference_isoform.exons) for tf in tfs.values()],\n",
    "            bins=most_exons * 2 - 1,\n",
    "            range=(0.75, most_exons + 0.25))\n",
    "axs[0].set_title('Reference isoforms')\n",
    "axs[1].hist([len(alt_iso.exons) for tf in tfs.values() for alt_iso in tf.alternative_isoforms],\n",
    "            bins=most_exons * 2 - 1,\n",
    "            range=(0.75, most_exons + 0.25))\n",
    "axs[1].set_title('Alternative isoforms')\n",
    "axs[1].set_xlabel('Number of exons per isoform')\n",
    "axs[1].set_ylabel('Number of isoforms')\n",
    "axs[1].set_xticks([1] + list(range(5, most_exons + 1, 5)))\n",
    "axs[1].set_xticks(range(1, most_exons + 1), minor=True)\n",
    "axs[1].set_xlim(0, most_exons + 0.25)\n",
    "for ax in axs:\n",
    "    for pos in ['top', 'right']:\n",
    "        ax.spines[pos].set_visible(False)\n",
    "fig.savefig('../figures/n-exons-per-isoform_GENCODE.pdf',\n",
    "            bbox_inches='tight')"
   ]
  },
  {
   "cell_type": "code",
   "execution_count": 8,
   "metadata": {},
   "outputs": [
    {
     "data": {
      "image/png": "[encoded data removed]",
      "text/plain": [
       "<Figure size 432x144 with 1 Axes>"
      ]
     },
     "metadata": {},
     "output_type": "display_data"
    }
   ],
   "source": [
    "# size of exons\n",
    "fig, ax = plt.subplots(1, 1)\n",
    "fig.set_size_inches(w=6, h=2)\n",
    "bins = 100\n",
    "rng = (0, 500)\n",
    "ax.hist([len(exon) / 3 for tf in tfs.values() for exon in tf.reference_isoform.exons],\n",
    "            bins=bins,\n",
    "            range=rng)\n",
    "ax.set_xlabel('Number of amino acids')\n",
    "ax.set_ylabel('Number of exons')\n",
    "ax.set_xticks(range(0, 500 + 1, 50))\n",
    "ax.set_xticks(range(0, 500, 10), minor=True)\n",
    "ax.set_xlim(*rng)\n",
    "for pos in ['top', 'right']:\n",
    "    ax.spines[pos].set_visible(False)\n",
    "fig.savefig('../figures/n-aa-per-exon_GENCODE.pdf',\n",
    "            bbox_inches='tight')"
   ]
  },
  {
   "cell_type": "code",
   "execution_count": 9,
   "metadata": {},
   "outputs": [
    {
     "data": {
      "image/png": "[encoded data removed]",
      "text/plain": [
       "<Figure size 432x432 with 3 Axes>"
      ]
     },
     "metadata": {},
     "output_type": "display_data"
    }
   ],
   "source": [
    "# size of domains split by DBD, other pfam and effector\n",
    "\n",
    "def is_DBD(domain):\n",
    "    return (domain.accession in dbd['pfam'].values) or domain.accession.startswith('C2H2_ZF_array')\n",
    "\n",
    "n_aa_dbd = [len(dom) for tf in tfs.values() for dom in tf.reference_isoform.aa_seq_features if is_DBD(dom)]\n",
    "n_aa_pfam = [len(dom) for tf in tfs.values() for dom in tf.reference_isoform.aa_seq_features if not is_DBD(dom) and dom.category == 'Pfam_domain']\n",
    "n_aa_effector = [len(dom) for tf in tfs.values() for dom in tf.reference_isoform.aa_seq_features if not is_DBD(dom) and dom.category == 'effector_domain']\n",
    "\n",
    "fig, axs = plt.subplots(3, 1, sharex=True)\n",
    "fig.set_size_inches(h=6, w=6)\n",
    "x_max = 1250\n",
    "n_bins = 125\n",
    "for n, ax in zip([n_aa_dbd, n_aa_pfam, n_aa_effector], axs):\n",
    "    ax.hist(n, bins=n_bins, range=(0.5, x_max + 0.5))\n",
    "    for pos in ['top', 'right']:\n",
    "        ax.spines[pos].set_visible(False)\n",
    "axs[0].set_title('DNA binding domains')\n",
    "axs[1].set_title('Other PFam domains')\n",
    "axs[2].set_title('Effector domains')\n",
    "axs[2].set_xticks(range(0, x_max + 1, 50), minor=True)\n",
    "axs[2].set_ylabel('Number of domains')\n",
    "axs[2].set_xlabel('Number of amino acids')\n",
    "fig.savefig('../figures/n_aa_per_domain_GENCODE.pdf',\n",
    "            bbox_inches='tight')"
   ]
  },
  {
   "cell_type": "code",
   "execution_count": 10,
   "metadata": {},
   "outputs": [],
   "source": [
    "# linking domains to exons\n",
    "# TODO: move to isolib\n",
    "def n_exon_per_domain(iso, dom):\n",
    "    # TODO: this is inefficient\n",
    "    coord_to_exon = {pos: exon.exon_number_on_gene for exon in iso.exons for pos in range(exon.start, exon.end)}\n",
    "    # TODO: check this dom start end is correct\n",
    "    return len({coord_to_exon[nt] for aa in iso.residues[dom.start:dom.end] for nt in aa.coords})\n",
    "\n",
    "def f_exon_per_domain(iso, dom):\n",
    "    # TODO: this is inefficient\n",
    "    coord_to_exon = {pos: i for i, exon in enumerate(iso.exons) for pos in range(exon.start, exon.end)}\n",
    "    # TODO: check this dom start end is correct\n",
    "    exon_numbers = [coord_to_exon[nt] for aa in iso.residues[dom.start:dom.end] for nt in aa.coords]\n",
    "    f = 0\n",
    "    for i in set(exon_numbers):\n",
    "        f += exon_numbers.count(i) / len(iso.exons[i])\n",
    "    return f"
   ]
  },
  {
   "cell_type": "code",
   "execution_count": 11,
   "metadata": {},
   "outputs": [
    {
     "data": {
      "image/png": "[encoded data removed]",
      "text/plain": [
       "<Figure size 432x432 with 3 Axes>"
      ]
     },
     "metadata": {},
     "output_type": "display_data"
    }
   ],
   "source": [
    "n_exon_dbd = [n_exon_per_domain(tf.reference_isoform, dom) for tf in tfs.values() for dom in tf.reference_isoform.aa_seq_features if is_DBD(dom)]\n",
    "n_exon_pfam = [n_exon_per_domain(tf.reference_isoform, dom) for tf in tfs.values() for dom in tf.reference_isoform.aa_seq_features if not is_DBD(dom) and dom.category == 'Pfam_domain']\n",
    "n_exon_effector = [n_exon_per_domain(tf.reference_isoform, dom) for tf in tfs.values() for dom in tf.reference_isoform.aa_seq_features if not is_DBD(dom) and dom.category == 'effector_domain']\n",
    "\n",
    "fig, axs = plt.subplots(3, 1, sharex=True)\n",
    "fig.set_size_inches(h=6, w=6)\n",
    "x_max = max(n_exon_dbd + n_exon_pfam + n_exon_effector)\n",
    "n_bins = x_max * 2 - 1\n",
    "for n, ax in zip([n_exon_dbd, n_exon_pfam, n_exon_effector], axs):\n",
    "    ax.hist(n, bins=n_bins, range=(0.75, x_max + 0.25))\n",
    "    for pos in ['top', 'right']:\n",
    "        ax.spines[pos].set_visible(False)\n",
    "axs[0].set_title('DNA binding domains')\n",
    "axs[1].set_title('Other PFam domains')\n",
    "axs[2].set_title('Effector domains')\n",
    "axs[2].set_xticks(range(1, x_max + 1))\n",
    "axs[2].set_ylabel('Number of domains')\n",
    "axs[2].set_xlabel('Number of exons that domain spans')\n",
    "fig.savefig('../figures/n_exon_per_domain_GENCODE.pdf',\n",
    "            bbox_inches='tight')"
   ]
  },
  {
   "cell_type": "code",
   "execution_count": 12,
   "metadata": {},
   "outputs": [
    {
     "data": {
      "image/png": "[encoded data removed]",
      "text/plain": [
       "<Figure size 432x432 with 3 Axes>"
      ]
     },
     "metadata": {},
     "output_type": "display_data"
    }
   ],
   "source": [
    "f_exon_dbd = [f_exon_per_domain(tf.reference_isoform, dom) for tf in tfs.values() for dom in tf.reference_isoform.aa_seq_features if is_DBD(dom)]\n",
    "f_exon_pfam = [f_exon_per_domain(tf.reference_isoform, dom) for tf in tfs.values() for dom in tf.reference_isoform.aa_seq_features if not is_DBD(dom) and dom.category == 'Pfam_domain']\n",
    "f_exon_effector = [f_exon_per_domain(tf.reference_isoform, dom) for tf in tfs.values() for dom in tf.reference_isoform.aa_seq_features if not is_DBD(dom) and dom.category == 'effector_domain']\n",
    "\n",
    "fig, axs = plt.subplots(3, 1, sharex=True)\n",
    "fig.set_size_inches(h=6, w=6)\n",
    "x_max = max(f_exon_dbd + f_exon_pfam + f_exon_effector)\n",
    "n_bins = 100\n",
    "for n, ax in zip([f_exon_dbd, f_exon_pfam, f_exon_effector], axs):\n",
    "    ax.hist(n, bins=n_bins, range=(0., x_max + 0.25))\n",
    "    for pos in ['top', 'right']:\n",
    "        ax.spines[pos].set_visible(False)\n",
    "axs[0].set_title('DNA binding domains')\n",
    "axs[1].set_title('Other PFam domains')\n",
    "axs[2].set_title('Effector domains')\n",
    "axs[2].set_xticks(range(0, int(x_max + 1)))\n",
    "axs[2].set_ylabel('Number of domains')\n",
    "axs[2].set_xlabel('Total fraction of exons that domain spans')\n",
    "fig.savefig('../figures/f_exon_per_domain_GENCODE.pdf',\n",
    "            bbox_inches='tight')"
   ]
  },
  {
   "cell_type": "code",
   "execution_count": 13,
   "metadata": {},
   "outputs": [
    {
     "data": {
      "text/plain": [
       "Counter({'SCAN': 2,\n",
       "         'Myc_N': 1,\n",
       "         'PHD': 3,\n",
       "         'PAS_11': 1,\n",
       "         'T-box_assoc': 2,\n",
       "         'KRAB': 29,\n",
       "         'DUF3371': 4,\n",
       "         'SSXRD': 1,\n",
       "         'Caudal_act': 2,\n",
       "         'Hox9_act': 3,\n",
       "         'GATA-N': 1,\n",
       "         'FLYWCH_N': 1})"
      ]
     },
     "execution_count": 13,
     "metadata": {},
     "output_type": "execute_result"
    }
   ],
   "source": [
    "from collections import Counter\n",
    "# investigate the spike in the other PFam domains\n",
    "single_exon_doms = [dom for tf in tfs.values() for dom in tf.reference_isoform.aa_seq_features \n",
    "                if not is_DBD(dom) \n",
    "                and dom.category == 'Pfam_domain'\n",
    "                and f_exon_per_domain(tf.reference_isoform, dom) < 1.1\n",
    "                and f_exon_per_domain(tf.reference_isoform, dom) > 0.9\n",
    "                and n_exon_per_domain(tf.reference_isoform, dom) == 1]\n",
    "Counter([d.name for d in single_exon_doms])"
   ]
  },
  {
   "cell_type": "code",
   "execution_count": 14,
   "metadata": {},
   "outputs": [],
   "source": [
    "pd.set_option('display.max_columns', 100)"
   ]
  },
  {
   "cell_type": "code",
   "execution_count": 15,
   "metadata": {
    "tags": []
   },
   "outputs": [
    {
     "name": "stdout",
     "output_type": "stream",
     "text": [
      "CPU times: user 1min 44s, sys: 276 ms, total: 1min 44s\n",
      "Wall time: 1min 44s\n"
     ]
    }
   ],
   "source": [
    "%%time\n",
    "df_null = pd.concat([g.null_fraction_per_aa_feature(g.orfs[0].name) for g in tfs.values()])\n",
    "df = pd.merge(df, df_null, how='left', on=['gene', 'ref_iso', 'alt_iso', 'length'])"
   ]
  },
  {
   "cell_type": "code",
   "execution_count": 16,
   "metadata": {
    "tags": []
   },
   "outputs": [
    {
     "name": "stdout",
     "output_type": "stream",
     "text": [
      "ZBTB8A\n"
     ]
    }
   ],
   "source": [
    "for name, tf in tfs.items():\n",
    "    if len(tf.orfs) < 2:\n",
    "        continue\n",
    "    if 'F' in tf.pairwise_changes_relative_to_reference(tf.orfs[0].name, tf.orfs[1].name):\n",
    "        print(name)\n",
    "        break"
   ]
  },
  {
   "cell_type": "code",
   "execution_count": 17,
   "metadata": {},
   "outputs": [
    {
     "name": "stdout",
     "output_type": "stream",
     "text": [
      "160 different DNA binding domain types\n"
     ]
    }
   ],
   "source": [
    "print(len({d for d in dbd_acc if not d.startswith('C2H2_ZF_array_')}) + 1, 'different DNA binding domain types')"
   ]
  },
  {
   "cell_type": "code",
   "execution_count": 18,
   "metadata": {},
   "outputs": [
    {
     "data": {
      "text/plain": [
       "912"
      ]
     },
     "execution_count": 18,
     "metadata": {},
     "output_type": "execute_result"
    }
   ],
   "source": [
    "len({k for k, v in clans.items() if v in dbd['clan'].values})"
   ]
  },
  {
   "cell_type": "code",
   "execution_count": 19,
   "metadata": {
    "tags": []
   },
   "outputs": [
    {
     "name": "stderr",
     "output_type": "stream",
     "text": [
      "100%|██████████| 1635/1635 [13:50<00:00,  1.97it/s] \n"
     ]
    }
   ],
   "source": [
    "# random shuffle\n",
    "# this will take a long time\n",
    "rnd = []\n",
    "for g in tqdm.tqdm(tfs.values()):\n",
    "    rnd.append(g.random_aa_seq_feature_shuffle(g.orfs[0].name, n=100, subset=dbd_acc))\n",
    "rnd = pd.concat(rnd)"
   ]
  },
  {
   "cell_type": "code",
   "execution_count": 20,
   "metadata": {},
   "outputs": [],
   "source": [
    "rnd['is_DBD'] = rnd['accession'].isin(dbd['pfam'].values) | rnd['accession'].str.startswith('C2H2_ZF_array')\n",
    "rnd['is_affected'] = (rnd['deletion'] + rnd['insertion'] + rnd['frameshift']) > 0"
   ]
  },
  {
   "cell_type": "code",
   "execution_count": 21,
   "metadata": {
    "tags": []
   },
   "outputs": [
    {
     "ename": "KeyError",
     "evalue": "'Column not found: is_affected'",
     "output_type": "error",
     "traceback": [
      "\u001b[0;31m---------------------------------------------------------------------------\u001b[0m",
      "\u001b[0;31mKeyError\u001b[0m                                  Traceback (most recent call last)",
      "\u001b[0;32m<ipython-input-21-9ae1052fc97b>\u001b[0m in \u001b[0;36m<module>\u001b[0;34m\u001b[0m\n\u001b[0;32m----> 1\u001b[0;31m \u001b[0mprint\u001b[0m\u001b[0;34m(\u001b[0m\u001b[0mdf\u001b[0m\u001b[0;34m.\u001b[0m\u001b[0mloc\u001b[0m\u001b[0;34m[\u001b[0m\u001b[0mdf\u001b[0m\u001b[0;34m[\u001b[0m\u001b[0;34m'is_DBD'\u001b[0m\u001b[0;34m]\u001b[0m\u001b[0;34m,\u001b[0m \u001b[0;34m:\u001b[0m\u001b[0;34m]\u001b[0m\u001b[0;34m.\u001b[0m\u001b[0mgroupby\u001b[0m\u001b[0;34m(\u001b[0m\u001b[0;34m'alt_iso'\u001b[0m\u001b[0;34m)\u001b[0m\u001b[0;34m[\u001b[0m\u001b[0;34m'is_affected'\u001b[0m\u001b[0;34m]\u001b[0m\u001b[0;34m.\u001b[0m\u001b[0many\u001b[0m\u001b[0;34m(\u001b[0m\u001b[0;34m)\u001b[0m\u001b[0;34m.\u001b[0m\u001b[0mvalue_counts\u001b[0m\u001b[0;34m(\u001b[0m\u001b[0;34m)\u001b[0m\u001b[0;34m)\u001b[0m\u001b[0;34m\u001b[0m\u001b[0;34m\u001b[0m\u001b[0m\n\u001b[0m\u001b[1;32m      2\u001b[0m \u001b[0mdf\u001b[0m\u001b[0;34m.\u001b[0m\u001b[0mloc\u001b[0m\u001b[0;34m[\u001b[0m\u001b[0mdf\u001b[0m\u001b[0;34m[\u001b[0m\u001b[0;34m'is_DBD'\u001b[0m\u001b[0;34m]\u001b[0m\u001b[0;34m,\u001b[0m \u001b[0;34m:\u001b[0m\u001b[0;34m]\u001b[0m\u001b[0;34m.\u001b[0m\u001b[0mgroupby\u001b[0m\u001b[0;34m(\u001b[0m\u001b[0;34m'alt_iso'\u001b[0m\u001b[0;34m)\u001b[0m\u001b[0;34m[\u001b[0m\u001b[0;34m'is_affected'\u001b[0m\u001b[0;34m]\u001b[0m\u001b[0;34m.\u001b[0m\u001b[0many\u001b[0m\u001b[0;34m(\u001b[0m\u001b[0;34m)\u001b[0m\u001b[0;34m.\u001b[0m\u001b[0mvalue_counts\u001b[0m\u001b[0;34m(\u001b[0m\u001b[0;34m)\u001b[0m\u001b[0;34m.\u001b[0m\u001b[0mplot\u001b[0m\u001b[0;34m.\u001b[0m\u001b[0mpie\u001b[0m\u001b[0;34m(\u001b[0m\u001b[0;34m)\u001b[0m\u001b[0;34m\u001b[0m\u001b[0;34m\u001b[0m\u001b[0m\n",
      "\u001b[0;32m~/.conda/envs/py36/lib/python3.6/site-packages/pandas/core/groupby/generic.py\u001b[0m in \u001b[0;36m__getitem__\u001b[0;34m(self, key)\u001b[0m\n\u001b[1;32m   1601\u001b[0m                 \u001b[0mstacklevel\u001b[0m\u001b[0;34m=\u001b[0m\u001b[0;36m2\u001b[0m\u001b[0;34m,\u001b[0m\u001b[0;34m\u001b[0m\u001b[0;34m\u001b[0m\u001b[0m\n\u001b[1;32m   1602\u001b[0m             )\n\u001b[0;32m-> 1603\u001b[0;31m         \u001b[0;32mreturn\u001b[0m \u001b[0msuper\u001b[0m\u001b[0;34m(\u001b[0m\u001b[0;34m)\u001b[0m\u001b[0;34m.\u001b[0m\u001b[0m__getitem__\u001b[0m\u001b[0;34m(\u001b[0m\u001b[0mkey\u001b[0m\u001b[0;34m)\u001b[0m\u001b[0;34m\u001b[0m\u001b[0;34m\u001b[0m\u001b[0m\n\u001b[0m\u001b[1;32m   1604\u001b[0m \u001b[0;34m\u001b[0m\u001b[0m\n\u001b[1;32m   1605\u001b[0m     \u001b[0;32mdef\u001b[0m \u001b[0m_gotitem\u001b[0m\u001b[0;34m(\u001b[0m\u001b[0mself\u001b[0m\u001b[0;34m,\u001b[0m \u001b[0mkey\u001b[0m\u001b[0;34m,\u001b[0m \u001b[0mndim\u001b[0m\u001b[0;34m:\u001b[0m \u001b[0mint\u001b[0m\u001b[0;34m,\u001b[0m \u001b[0msubset\u001b[0m\u001b[0;34m=\u001b[0m\u001b[0;32mNone\u001b[0m\u001b[0;34m)\u001b[0m\u001b[0;34m:\u001b[0m\u001b[0;34m\u001b[0m\u001b[0;34m\u001b[0m\u001b[0m\n",
      "\u001b[0;32m~/.conda/envs/py36/lib/python3.6/site-packages/pandas/core/base.py\u001b[0m in \u001b[0;36m__getitem__\u001b[0;34m(self, key)\u001b[0m\n\u001b[1;32m    228\u001b[0m         \u001b[0;32melse\u001b[0m\u001b[0;34m:\u001b[0m\u001b[0;34m\u001b[0m\u001b[0;34m\u001b[0m\u001b[0m\n\u001b[1;32m    229\u001b[0m             \u001b[0;32mif\u001b[0m \u001b[0mkey\u001b[0m \u001b[0;32mnot\u001b[0m \u001b[0;32min\u001b[0m \u001b[0mself\u001b[0m\u001b[0;34m.\u001b[0m\u001b[0mobj\u001b[0m\u001b[0;34m:\u001b[0m\u001b[0;34m\u001b[0m\u001b[0;34m\u001b[0m\u001b[0m\n\u001b[0;32m--> 230\u001b[0;31m                 \u001b[0;32mraise\u001b[0m \u001b[0mKeyError\u001b[0m\u001b[0;34m(\u001b[0m\u001b[0;34mf\"Column not found: {key}\"\u001b[0m\u001b[0;34m)\u001b[0m\u001b[0;34m\u001b[0m\u001b[0;34m\u001b[0m\u001b[0m\n\u001b[0m\u001b[1;32m    231\u001b[0m             \u001b[0;32mreturn\u001b[0m \u001b[0mself\u001b[0m\u001b[0;34m.\u001b[0m\u001b[0m_gotitem\u001b[0m\u001b[0;34m(\u001b[0m\u001b[0mkey\u001b[0m\u001b[0;34m,\u001b[0m \u001b[0mndim\u001b[0m\u001b[0;34m=\u001b[0m\u001b[0;36m1\u001b[0m\u001b[0;34m)\u001b[0m\u001b[0;34m\u001b[0m\u001b[0;34m\u001b[0m\u001b[0m\n\u001b[1;32m    232\u001b[0m \u001b[0;34m\u001b[0m\u001b[0m\n",
      "\u001b[0;31mKeyError\u001b[0m: 'Column not found: is_affected'"
     ]
    }
   ],
   "source": [
    "print(df.loc[df['is_DBD'], :].groupby('alt_iso')['is_affected'].any().value_counts())\n",
    "df.loc[df['is_DBD'], :].groupby('alt_iso')['is_affected'].any().value_counts().plot.pie()"
   ]
  },
  {
   "cell_type": "code",
   "execution_count": 22,
   "metadata": {},
   "outputs": [
    {
     "data": {
      "text/plain": [
       "5934"
      ]
     },
     "execution_count": 22,
     "metadata": {},
     "output_type": "execute_result"
    }
   ],
   "source": [
    "df['is_DBD'].sum()"
   ]
  },
  {
   "cell_type": "code",
   "execution_count": 23,
   "metadata": {},
   "outputs": [
    {
     "data": {
      "text/plain": [
       "593400"
      ]
     },
     "execution_count": 23,
     "metadata": {},
     "output_type": "execute_result"
    }
   ],
   "source": [
    "rnd['is_DBD'].sum()"
   ]
  },
  {
   "cell_type": "code",
   "execution_count": 24,
   "metadata": {},
   "outputs": [
    {
     "data": {
      "text/plain": [
       "<matplotlib.axes._subplots.AxesSubplot at 0x7ff6c773d278>"
      ]
     },
     "execution_count": 24,
     "metadata": {},
     "output_type": "execute_result"
    },
    {
     "data": {
      "image/png": "[encoded data removed]",
      "text/plain": [
       "<Figure size 432x288 with 1 Axes>"
      ]
     },
     "metadata": {},
     "output_type": "display_data"
    }
   ],
   "source": [
    "rnd.loc[rnd['is_DBD'], :].groupby(['alt_iso', 'random_sample'])['is_affected'].any().value_counts().plot.pie()"
   ]
  },
  {
   "cell_type": "code",
   "execution_count": 25,
   "metadata": {},
   "outputs": [
    {
     "ename": "KeyError",
     "evalue": "'Column not found: is_affected'",
     "output_type": "error",
     "traceback": [
      "\u001b[0;31m---------------------------------------------------------------------------\u001b[0m",
      "\u001b[0;31mKeyError\u001b[0m                                  Traceback (most recent call last)",
      "\u001b[0;32m<ipython-input-25-1da205287ec5>\u001b[0m in \u001b[0;36m<module>\u001b[0;34m\u001b[0m\n\u001b[1;32m      1\u001b[0m \u001b[0mn\u001b[0m \u001b[0;34m=\u001b[0m \u001b[0mdf\u001b[0m\u001b[0;34m.\u001b[0m\u001b[0mloc\u001b[0m\u001b[0;34m[\u001b[0m\u001b[0mdf\u001b[0m\u001b[0;34m[\u001b[0m\u001b[0;34m'is_DBD'\u001b[0m\u001b[0;34m]\u001b[0m\u001b[0;34m,\u001b[0m \u001b[0;34m'alt_iso'\u001b[0m\u001b[0;34m]\u001b[0m\u001b[0;34m.\u001b[0m\u001b[0mnunique\u001b[0m\u001b[0;34m(\u001b[0m\u001b[0;34m)\u001b[0m\u001b[0;34m\u001b[0m\u001b[0;34m\u001b[0m\u001b[0m\n\u001b[0;32m----> 2\u001b[0;31m \u001b[0mtrue_k\u001b[0m \u001b[0;34m=\u001b[0m \u001b[0mdf\u001b[0m\u001b[0;34m.\u001b[0m\u001b[0mloc\u001b[0m\u001b[0;34m[\u001b[0m\u001b[0mdf\u001b[0m\u001b[0;34m[\u001b[0m\u001b[0;34m'is_DBD'\u001b[0m\u001b[0;34m]\u001b[0m\u001b[0;34m,\u001b[0m \u001b[0;34m:\u001b[0m\u001b[0;34m]\u001b[0m\u001b[0;34m.\u001b[0m\u001b[0mgroupby\u001b[0m\u001b[0;34m(\u001b[0m\u001b[0;34m'alt_iso'\u001b[0m\u001b[0;34m)\u001b[0m\u001b[0;34m[\u001b[0m\u001b[0;34m'is_affected'\u001b[0m\u001b[0;34m]\u001b[0m\u001b[0;34m.\u001b[0m\u001b[0many\u001b[0m\u001b[0;34m(\u001b[0m\u001b[0;34m)\u001b[0m\u001b[0;34m.\u001b[0m\u001b[0msum\u001b[0m\u001b[0;34m(\u001b[0m\u001b[0;34m)\u001b[0m\u001b[0;34m\u001b[0m\u001b[0;34m\u001b[0m\u001b[0m\n\u001b[0m\u001b[1;32m      3\u001b[0m (rnd.loc[rnd['is_DBD'], :]\n\u001b[1;32m      4\u001b[0m     \u001b[0;34m.\u001b[0m\u001b[0mgroupby\u001b[0m\u001b[0;34m(\u001b[0m\u001b[0;34m[\u001b[0m\u001b[0;34m'random_sample'\u001b[0m\u001b[0;34m,\u001b[0m \u001b[0;34m'alt_iso'\u001b[0m\u001b[0;34m]\u001b[0m\u001b[0;34m)\u001b[0m\u001b[0;34m[\u001b[0m\u001b[0;34m'is_affected'\u001b[0m\u001b[0;34m]\u001b[0m\u001b[0;34m\u001b[0m\u001b[0;34m\u001b[0m\u001b[0m\n\u001b[1;32m      5\u001b[0m     \u001b[0;34m.\u001b[0m\u001b[0many\u001b[0m\u001b[0;34m(\u001b[0m\u001b[0;34m)\u001b[0m\u001b[0;34m\u001b[0m\u001b[0;34m\u001b[0m\u001b[0m\n",
      "\u001b[0;32m~/.conda/envs/py36/lib/python3.6/site-packages/pandas/core/groupby/generic.py\u001b[0m in \u001b[0;36m__getitem__\u001b[0;34m(self, key)\u001b[0m\n\u001b[1;32m   1601\u001b[0m                 \u001b[0mstacklevel\u001b[0m\u001b[0;34m=\u001b[0m\u001b[0;36m2\u001b[0m\u001b[0;34m,\u001b[0m\u001b[0;34m\u001b[0m\u001b[0;34m\u001b[0m\u001b[0m\n\u001b[1;32m   1602\u001b[0m             )\n\u001b[0;32m-> 1603\u001b[0;31m         \u001b[0;32mreturn\u001b[0m \u001b[0msuper\u001b[0m\u001b[0;34m(\u001b[0m\u001b[0;34m)\u001b[0m\u001b[0;34m.\u001b[0m\u001b[0m__getitem__\u001b[0m\u001b[0;34m(\u001b[0m\u001b[0mkey\u001b[0m\u001b[0;34m)\u001b[0m\u001b[0;34m\u001b[0m\u001b[0;34m\u001b[0m\u001b[0m\n\u001b[0m\u001b[1;32m   1604\u001b[0m \u001b[0;34m\u001b[0m\u001b[0m\n\u001b[1;32m   1605\u001b[0m     \u001b[0;32mdef\u001b[0m \u001b[0m_gotitem\u001b[0m\u001b[0;34m(\u001b[0m\u001b[0mself\u001b[0m\u001b[0;34m,\u001b[0m \u001b[0mkey\u001b[0m\u001b[0;34m,\u001b[0m \u001b[0mndim\u001b[0m\u001b[0;34m:\u001b[0m \u001b[0mint\u001b[0m\u001b[0;34m,\u001b[0m \u001b[0msubset\u001b[0m\u001b[0;34m=\u001b[0m\u001b[0;32mNone\u001b[0m\u001b[0;34m)\u001b[0m\u001b[0;34m:\u001b[0m\u001b[0;34m\u001b[0m\u001b[0;34m\u001b[0m\u001b[0m\n",
      "\u001b[0;32m~/.conda/envs/py36/lib/python3.6/site-packages/pandas/core/base.py\u001b[0m in \u001b[0;36m__getitem__\u001b[0;34m(self, key)\u001b[0m\n\u001b[1;32m    228\u001b[0m         \u001b[0;32melse\u001b[0m\u001b[0;34m:\u001b[0m\u001b[0;34m\u001b[0m\u001b[0;34m\u001b[0m\u001b[0m\n\u001b[1;32m    229\u001b[0m             \u001b[0;32mif\u001b[0m \u001b[0mkey\u001b[0m \u001b[0;32mnot\u001b[0m \u001b[0;32min\u001b[0m \u001b[0mself\u001b[0m\u001b[0;34m.\u001b[0m\u001b[0mobj\u001b[0m\u001b[0;34m:\u001b[0m\u001b[0;34m\u001b[0m\u001b[0;34m\u001b[0m\u001b[0m\n\u001b[0;32m--> 230\u001b[0;31m                 \u001b[0;32mraise\u001b[0m \u001b[0mKeyError\u001b[0m\u001b[0;34m(\u001b[0m\u001b[0;34mf\"Column not found: {key}\"\u001b[0m\u001b[0;34m)\u001b[0m\u001b[0;34m\u001b[0m\u001b[0;34m\u001b[0m\u001b[0m\n\u001b[0m\u001b[1;32m    231\u001b[0m             \u001b[0;32mreturn\u001b[0m \u001b[0mself\u001b[0m\u001b[0;34m.\u001b[0m\u001b[0m_gotitem\u001b[0m\u001b[0;34m(\u001b[0m\u001b[0mkey\u001b[0m\u001b[0;34m,\u001b[0m \u001b[0mndim\u001b[0m\u001b[0;34m=\u001b[0m\u001b[0;36m1\u001b[0m\u001b[0;34m)\u001b[0m\u001b[0;34m\u001b[0m\u001b[0;34m\u001b[0m\u001b[0m\n\u001b[1;32m    232\u001b[0m \u001b[0;34m\u001b[0m\u001b[0m\n",
      "\u001b[0;31mKeyError\u001b[0m: 'Column not found: is_affected'"
     ]
    }
   ],
   "source": [
    "n = df.loc[df['is_DBD'], 'alt_iso'].nunique()\n",
    "true_k = df.loc[df['is_DBD'], :].groupby('alt_iso')['is_affected'].any().sum()\n",
    "(rnd.loc[rnd['is_DBD'], :]\n",
    "    .groupby(['random_sample', 'alt_iso'])['is_affected']\n",
    "    .any()\n",
    "    .sum(level=0)\n",
    "    .plot.hist(range=(0, n), bins=100))\n",
    "print(rnd.loc[rnd['is_DBD'], :]\n",
    "    .groupby(['random_sample', 'alt_iso'])['is_affected']\n",
    "    .any()\n",
    "    .sum(level=0).mean())\n",
    "plt.annotate(xy=(true_k, 0),\n",
    "                s='real value',\n",
    "                xytext=(true_k, 40),  # TODO: change y position\n",
    "                arrowprops={'color': 'black'},\n",
    "                ha='center')\n",
    "plt.savefig('../figures/DBD_affected_100_randomizations.pdf',\n",
    "            bbox_inches='tight')"
   ]
  },
  {
   "cell_type": "code",
   "execution_count": 26,
   "metadata": {},
   "outputs": [
    {
     "data": {
      "text/plain": [
       "(1635, 992, 1624, 967, 842)"
      ]
     },
     "execution_count": 26,
     "metadata": {},
     "output_type": "execute_result"
    }
   ],
   "source": [
    "(len(tfs),\n",
    " sum(len(tf.orfs) > 1 for tf in tfs.values()),\n",
    " len([tf for tf in tfs.values() if any(len(orf.aa_seq_features) >= 1 for orf in tf.orfs)]),\n",
    " df['gene'].nunique(), \n",
    " df.loc[df['is_DBD'], 'gene'].nunique())"
   ]
  },
  {
   "cell_type": "code",
   "execution_count": 27,
   "metadata": {
    "scrolled": true
   },
   "outputs": [
    {
     "ename": "KeyError",
     "evalue": "'Column not found: is_affected'",
     "output_type": "error",
     "traceback": [
      "\u001b[0;31m---------------------------------------------------------------------------\u001b[0m",
      "\u001b[0;31mKeyError\u001b[0m                                  Traceback (most recent call last)",
      "\u001b[0;32m<ipython-input-27-3ec1f823f1a5>\u001b[0m in \u001b[0;36m<module>\u001b[0;34m\u001b[0m\n\u001b[1;32m     27\u001b[0m             va='top')\n\u001b[1;32m     28\u001b[0m \u001b[0;34m\u001b[0m\u001b[0m\n\u001b[0;32m---> 29\u001b[0;31m \u001b[0mdomain_disruption_significance_plot\u001b[0m\u001b[0;34m(\u001b[0m\u001b[0mdf\u001b[0m\u001b[0;34m.\u001b[0m\u001b[0mloc\u001b[0m\u001b[0;34m[\u001b[0m\u001b[0mdf\u001b[0m\u001b[0;34m[\u001b[0m\u001b[0;34m'is_DBD'\u001b[0m\u001b[0;34m]\u001b[0m\u001b[0;34m,\u001b[0m \u001b[0;34m:\u001b[0m\u001b[0;34m]\u001b[0m\u001b[0;34m)\u001b[0m\u001b[0;34m\u001b[0m\u001b[0;34m\u001b[0m\u001b[0m\n\u001b[0m\u001b[1;32m     30\u001b[0m \u001b[0mplt\u001b[0m\u001b[0;34m.\u001b[0m\u001b[0msavefig\u001b[0m\u001b[0;34m(\u001b[0m\u001b[0;34m'../figures/all_DBD_affected_random_dist.pdf'\u001b[0m\u001b[0;34m,\u001b[0m \u001b[0mbbox_inches\u001b[0m\u001b[0;34m=\u001b[0m\u001b[0;34m'tight'\u001b[0m\u001b[0;34m)\u001b[0m\u001b[0;34m\u001b[0m\u001b[0;34m\u001b[0m\u001b[0m\n",
      "\u001b[0;32m<ipython-input-27-3ec1f823f1a5>\u001b[0m in \u001b[0;36mdomain_disruption_significance_plot\u001b[0;34m(df, ax)\u001b[0m\n\u001b[1;32m      3\u001b[0m         \u001b[0max\u001b[0m \u001b[0;34m=\u001b[0m \u001b[0mplt\u001b[0m\u001b[0;34m.\u001b[0m\u001b[0mgca\u001b[0m\u001b[0;34m(\u001b[0m\u001b[0;34m)\u001b[0m\u001b[0;34m\u001b[0m\u001b[0;34m\u001b[0m\u001b[0m\n\u001b[1;32m      4\u001b[0m     \u001b[0mn\u001b[0m \u001b[0;34m=\u001b[0m \u001b[0mdf\u001b[0m\u001b[0;34m[\u001b[0m\u001b[0;34m'alt_iso'\u001b[0m\u001b[0;34m]\u001b[0m\u001b[0;34m.\u001b[0m\u001b[0mnunique\u001b[0m\u001b[0;34m(\u001b[0m\u001b[0;34m)\u001b[0m\u001b[0;34m\u001b[0m\u001b[0;34m\u001b[0m\u001b[0m\n\u001b[0;32m----> 5\u001b[0;31m     \u001b[0mtrue_k\u001b[0m \u001b[0;34m=\u001b[0m \u001b[0mdf\u001b[0m\u001b[0;34m.\u001b[0m\u001b[0mgroupby\u001b[0m\u001b[0;34m(\u001b[0m\u001b[0;34m'alt_iso'\u001b[0m\u001b[0;34m)\u001b[0m\u001b[0;34m[\u001b[0m\u001b[0;34m'is_affected'\u001b[0m\u001b[0;34m]\u001b[0m\u001b[0;34m.\u001b[0m\u001b[0many\u001b[0m\u001b[0;34m(\u001b[0m\u001b[0;34m)\u001b[0m\u001b[0;34m.\u001b[0m\u001b[0msum\u001b[0m\u001b[0;34m(\u001b[0m\u001b[0;34m)\u001b[0m\u001b[0;34m\u001b[0m\u001b[0;34m\u001b[0m\u001b[0m\n\u001b[0m\u001b[1;32m      6\u001b[0m \u001b[0;34m\u001b[0m\u001b[0m\n\u001b[1;32m      7\u001b[0m     \u001b[0;32mdef\u001b[0m \u001b[0mprob_or\u001b[0m\u001b[0;34m(\u001b[0m\u001b[0mprobabilities\u001b[0m\u001b[0;34m)\u001b[0m\u001b[0;34m:\u001b[0m\u001b[0;34m\u001b[0m\u001b[0;34m\u001b[0m\u001b[0m\n",
      "\u001b[0;32m~/.conda/envs/py36/lib/python3.6/site-packages/pandas/core/groupby/generic.py\u001b[0m in \u001b[0;36m__getitem__\u001b[0;34m(self, key)\u001b[0m\n\u001b[1;32m   1601\u001b[0m                 \u001b[0mstacklevel\u001b[0m\u001b[0;34m=\u001b[0m\u001b[0;36m2\u001b[0m\u001b[0;34m,\u001b[0m\u001b[0;34m\u001b[0m\u001b[0;34m\u001b[0m\u001b[0m\n\u001b[1;32m   1602\u001b[0m             )\n\u001b[0;32m-> 1603\u001b[0;31m         \u001b[0;32mreturn\u001b[0m \u001b[0msuper\u001b[0m\u001b[0;34m(\u001b[0m\u001b[0;34m)\u001b[0m\u001b[0;34m.\u001b[0m\u001b[0m__getitem__\u001b[0m\u001b[0;34m(\u001b[0m\u001b[0mkey\u001b[0m\u001b[0;34m)\u001b[0m\u001b[0;34m\u001b[0m\u001b[0;34m\u001b[0m\u001b[0m\n\u001b[0m\u001b[1;32m   1604\u001b[0m \u001b[0;34m\u001b[0m\u001b[0m\n\u001b[1;32m   1605\u001b[0m     \u001b[0;32mdef\u001b[0m \u001b[0m_gotitem\u001b[0m\u001b[0;34m(\u001b[0m\u001b[0mself\u001b[0m\u001b[0;34m,\u001b[0m \u001b[0mkey\u001b[0m\u001b[0;34m,\u001b[0m \u001b[0mndim\u001b[0m\u001b[0;34m:\u001b[0m \u001b[0mint\u001b[0m\u001b[0;34m,\u001b[0m \u001b[0msubset\u001b[0m\u001b[0;34m=\u001b[0m\u001b[0;32mNone\u001b[0m\u001b[0;34m)\u001b[0m\u001b[0;34m:\u001b[0m\u001b[0;34m\u001b[0m\u001b[0;34m\u001b[0m\u001b[0m\n",
      "\u001b[0;32m~/.conda/envs/py36/lib/python3.6/site-packages/pandas/core/base.py\u001b[0m in \u001b[0;36m__getitem__\u001b[0;34m(self, key)\u001b[0m\n\u001b[1;32m    228\u001b[0m         \u001b[0;32melse\u001b[0m\u001b[0;34m:\u001b[0m\u001b[0;34m\u001b[0m\u001b[0;34m\u001b[0m\u001b[0m\n\u001b[1;32m    229\u001b[0m             \u001b[0;32mif\u001b[0m \u001b[0mkey\u001b[0m \u001b[0;32mnot\u001b[0m \u001b[0;32min\u001b[0m \u001b[0mself\u001b[0m\u001b[0;34m.\u001b[0m\u001b[0mobj\u001b[0m\u001b[0;34m:\u001b[0m\u001b[0;34m\u001b[0m\u001b[0;34m\u001b[0m\u001b[0m\n\u001b[0;32m--> 230\u001b[0;31m                 \u001b[0;32mraise\u001b[0m \u001b[0mKeyError\u001b[0m\u001b[0;34m(\u001b[0m\u001b[0;34mf\"Column not found: {key}\"\u001b[0m\u001b[0;34m)\u001b[0m\u001b[0;34m\u001b[0m\u001b[0;34m\u001b[0m\u001b[0m\n\u001b[0m\u001b[1;32m    231\u001b[0m             \u001b[0;32mreturn\u001b[0m \u001b[0mself\u001b[0m\u001b[0;34m.\u001b[0m\u001b[0m_gotitem\u001b[0m\u001b[0;34m(\u001b[0m\u001b[0mkey\u001b[0m\u001b[0;34m,\u001b[0m \u001b[0mndim\u001b[0m\u001b[0;34m=\u001b[0m\u001b[0;36m1\u001b[0m\u001b[0;34m)\u001b[0m\u001b[0;34m\u001b[0m\u001b[0;34m\u001b[0m\u001b[0m\n\u001b[1;32m    232\u001b[0m \u001b[0;34m\u001b[0m\u001b[0m\n",
      "\u001b[0;31mKeyError\u001b[0m: 'Column not found: is_affected'"
     ]
    },
    {
     "data": {
      "image/png": "[encoded data removed]",
      "text/plain": [
       "<Figure size 432x288 with 1 Axes>"
      ]
     },
     "metadata": {},
     "output_type": "display_data"
    }
   ],
   "source": [
    "def domain_disruption_significance_plot(df, ax=None):\n",
    "    if ax is None:\n",
    "        ax = plt.gca()\n",
    "    n = df['alt_iso'].nunique()\n",
    "    true_k = df.groupby('alt_iso')['is_affected'].any().sum()\n",
    "\n",
    "    def prob_or(probabilities):\n",
    "        return 1 - (np.prod(1 - probabilities))\n",
    "\n",
    "    null_p = df.groupby('alt_iso')['null_fraction_affected'].apply(prob_or).values\n",
    "    pval = PoiBin(null_p).cdf(true_k)\n",
    "    pmf = PoiBin(null_p).pmf(range(n))\n",
    "    ax.bar(x=range(n),\n",
    "            height=pmf,\n",
    "            width=1.)\n",
    "    ax.annotate(xy=(true_k, 0),\n",
    "                s='real value',\n",
    "                xytext=(true_k, max(pmf)),\n",
    "                arrowprops={'color': 'black'},\n",
    "                ha='center')\n",
    "    ax.set_ylabel('Probability density of\\nrandom distribution')\n",
    "    ax.set_xlabel('Number of alternative isoforms where domain(s) is affected')\n",
    "    ax.text(n,\n",
    "            pmf.max(),\n",
    "            'Observed fraction: {:.0%}\\nNull fraction: {:.0%}\\nP = {:.1E}'.format(true_k / n, pmf.argmax() / n, pval),\n",
    "            ha='right',\n",
    "            va='top')\n",
    "\n",
    "domain_disruption_significance_plot(df.loc[df['is_DBD'], :])\n",
    "plt.savefig('../figures/all_DBD_affected_random_dist.pdf', bbox_inches='tight')"
   ]
  },
  {
   "cell_type": "code",
   "execution_count": 28,
   "metadata": {},
   "outputs": [
    {
     "data": {
      "text/plain": [
       "2148"
      ]
     },
     "execution_count": 28,
     "metadata": {},
     "output_type": "execute_result"
    }
   ],
   "source": [
    "df.loc[df['is_DBD'], 'alt_iso'].nunique()"
   ]
  },
  {
   "cell_type": "code",
   "execution_count": 29,
   "metadata": {},
   "outputs": [
    {
     "ename": "KeyError",
     "evalue": "'Column not found: is_affected'",
     "output_type": "error",
     "traceback": [
      "\u001b[0;31m---------------------------------------------------------------------------\u001b[0m",
      "\u001b[0;31mKeyError\u001b[0m                                  Traceback (most recent call last)",
      "\u001b[0;32m<ipython-input-29-f6533cfe59bc>\u001b[0m in \u001b[0;36m<module>\u001b[0;34m\u001b[0m\n\u001b[0;32m----> 1\u001b[0;31m \u001b[0mdomain_disruption_significance_plot\u001b[0m\u001b[0;34m(\u001b[0m\u001b[0mdf\u001b[0m\u001b[0;34m.\u001b[0m\u001b[0mloc\u001b[0m\u001b[0;34m[\u001b[0m\u001b[0mdf\u001b[0m\u001b[0;34m[\u001b[0m\u001b[0;34m'accession'\u001b[0m\u001b[0;34m]\u001b[0m\u001b[0;34m.\u001b[0m\u001b[0mstr\u001b[0m\u001b[0;34m.\u001b[0m\u001b[0mstartswith\u001b[0m\u001b[0;34m(\u001b[0m\u001b[0;34m'C2H2_ZF_array'\u001b[0m\u001b[0;34m)\u001b[0m\u001b[0;34m,\u001b[0m \u001b[0;34m:\u001b[0m\u001b[0;34m]\u001b[0m\u001b[0;34m)\u001b[0m\u001b[0;34m\u001b[0m\u001b[0;34m\u001b[0m\u001b[0m\n\u001b[0m\u001b[1;32m      2\u001b[0m \u001b[0mplt\u001b[0m\u001b[0;34m.\u001b[0m\u001b[0mtitle\u001b[0m\u001b[0;34m(\u001b[0m\u001b[0;34m'C2H2 ZF array'\u001b[0m\u001b[0;34m)\u001b[0m\u001b[0;34m\u001b[0m\u001b[0;34m\u001b[0m\u001b[0m\n\u001b[1;32m      3\u001b[0m \u001b[0mplt\u001b[0m\u001b[0;34m.\u001b[0m\u001b[0msavefig\u001b[0m\u001b[0;34m(\u001b[0m\u001b[0;34m'../figures/C2H2_ZF_array_affected_random_dist.pdf'\u001b[0m\u001b[0;34m,\u001b[0m \u001b[0mbbox_inches\u001b[0m\u001b[0;34m=\u001b[0m\u001b[0;34m'tight'\u001b[0m\u001b[0;34m)\u001b[0m\u001b[0;34m\u001b[0m\u001b[0;34m\u001b[0m\u001b[0m\n",
      "\u001b[0;32m<ipython-input-27-3ec1f823f1a5>\u001b[0m in \u001b[0;36mdomain_disruption_significance_plot\u001b[0;34m(df, ax)\u001b[0m\n\u001b[1;32m      3\u001b[0m         \u001b[0max\u001b[0m \u001b[0;34m=\u001b[0m \u001b[0mplt\u001b[0m\u001b[0;34m.\u001b[0m\u001b[0mgca\u001b[0m\u001b[0;34m(\u001b[0m\u001b[0;34m)\u001b[0m\u001b[0;34m\u001b[0m\u001b[0;34m\u001b[0m\u001b[0m\n\u001b[1;32m      4\u001b[0m     \u001b[0mn\u001b[0m \u001b[0;34m=\u001b[0m \u001b[0mdf\u001b[0m\u001b[0;34m[\u001b[0m\u001b[0;34m'alt_iso'\u001b[0m\u001b[0;34m]\u001b[0m\u001b[0;34m.\u001b[0m\u001b[0mnunique\u001b[0m\u001b[0;34m(\u001b[0m\u001b[0;34m)\u001b[0m\u001b[0;34m\u001b[0m\u001b[0;34m\u001b[0m\u001b[0m\n\u001b[0;32m----> 5\u001b[0;31m     \u001b[0mtrue_k\u001b[0m \u001b[0;34m=\u001b[0m \u001b[0mdf\u001b[0m\u001b[0;34m.\u001b[0m\u001b[0mgroupby\u001b[0m\u001b[0;34m(\u001b[0m\u001b[0;34m'alt_iso'\u001b[0m\u001b[0;34m)\u001b[0m\u001b[0;34m[\u001b[0m\u001b[0;34m'is_affected'\u001b[0m\u001b[0;34m]\u001b[0m\u001b[0;34m.\u001b[0m\u001b[0many\u001b[0m\u001b[0;34m(\u001b[0m\u001b[0;34m)\u001b[0m\u001b[0;34m.\u001b[0m\u001b[0msum\u001b[0m\u001b[0;34m(\u001b[0m\u001b[0;34m)\u001b[0m\u001b[0;34m\u001b[0m\u001b[0;34m\u001b[0m\u001b[0m\n\u001b[0m\u001b[1;32m      6\u001b[0m \u001b[0;34m\u001b[0m\u001b[0m\n\u001b[1;32m      7\u001b[0m     \u001b[0;32mdef\u001b[0m \u001b[0mprob_or\u001b[0m\u001b[0;34m(\u001b[0m\u001b[0mprobabilities\u001b[0m\u001b[0;34m)\u001b[0m\u001b[0;34m:\u001b[0m\u001b[0;34m\u001b[0m\u001b[0;34m\u001b[0m\u001b[0m\n",
      "\u001b[0;32m~/.conda/envs/py36/lib/python3.6/site-packages/pandas/core/groupby/generic.py\u001b[0m in \u001b[0;36m__getitem__\u001b[0;34m(self, key)\u001b[0m\n\u001b[1;32m   1601\u001b[0m                 \u001b[0mstacklevel\u001b[0m\u001b[0;34m=\u001b[0m\u001b[0;36m2\u001b[0m\u001b[0;34m,\u001b[0m\u001b[0;34m\u001b[0m\u001b[0;34m\u001b[0m\u001b[0m\n\u001b[1;32m   1602\u001b[0m             )\n\u001b[0;32m-> 1603\u001b[0;31m         \u001b[0;32mreturn\u001b[0m \u001b[0msuper\u001b[0m\u001b[0;34m(\u001b[0m\u001b[0;34m)\u001b[0m\u001b[0;34m.\u001b[0m\u001b[0m__getitem__\u001b[0m\u001b[0;34m(\u001b[0m\u001b[0mkey\u001b[0m\u001b[0;34m)\u001b[0m\u001b[0;34m\u001b[0m\u001b[0;34m\u001b[0m\u001b[0m\n\u001b[0m\u001b[1;32m   1604\u001b[0m \u001b[0;34m\u001b[0m\u001b[0m\n\u001b[1;32m   1605\u001b[0m     \u001b[0;32mdef\u001b[0m \u001b[0m_gotitem\u001b[0m\u001b[0;34m(\u001b[0m\u001b[0mself\u001b[0m\u001b[0;34m,\u001b[0m \u001b[0mkey\u001b[0m\u001b[0;34m,\u001b[0m \u001b[0mndim\u001b[0m\u001b[0;34m:\u001b[0m \u001b[0mint\u001b[0m\u001b[0;34m,\u001b[0m \u001b[0msubset\u001b[0m\u001b[0;34m=\u001b[0m\u001b[0;32mNone\u001b[0m\u001b[0;34m)\u001b[0m\u001b[0;34m:\u001b[0m\u001b[0;34m\u001b[0m\u001b[0;34m\u001b[0m\u001b[0m\n",
      "\u001b[0;32m~/.conda/envs/py36/lib/python3.6/site-packages/pandas/core/base.py\u001b[0m in \u001b[0;36m__getitem__\u001b[0;34m(self, key)\u001b[0m\n\u001b[1;32m    228\u001b[0m         \u001b[0;32melse\u001b[0m\u001b[0;34m:\u001b[0m\u001b[0;34m\u001b[0m\u001b[0;34m\u001b[0m\u001b[0m\n\u001b[1;32m    229\u001b[0m             \u001b[0;32mif\u001b[0m \u001b[0mkey\u001b[0m \u001b[0;32mnot\u001b[0m \u001b[0;32min\u001b[0m \u001b[0mself\u001b[0m\u001b[0;34m.\u001b[0m\u001b[0mobj\u001b[0m\u001b[0;34m:\u001b[0m\u001b[0;34m\u001b[0m\u001b[0;34m\u001b[0m\u001b[0m\n\u001b[0;32m--> 230\u001b[0;31m                 \u001b[0;32mraise\u001b[0m \u001b[0mKeyError\u001b[0m\u001b[0;34m(\u001b[0m\u001b[0;34mf\"Column not found: {key}\"\u001b[0m\u001b[0;34m)\u001b[0m\u001b[0;34m\u001b[0m\u001b[0;34m\u001b[0m\u001b[0m\n\u001b[0m\u001b[1;32m    231\u001b[0m             \u001b[0;32mreturn\u001b[0m \u001b[0mself\u001b[0m\u001b[0;34m.\u001b[0m\u001b[0m_gotitem\u001b[0m\u001b[0;34m(\u001b[0m\u001b[0mkey\u001b[0m\u001b[0;34m,\u001b[0m \u001b[0mndim\u001b[0m\u001b[0;34m=\u001b[0m\u001b[0;36m1\u001b[0m\u001b[0;34m)\u001b[0m\u001b[0;34m\u001b[0m\u001b[0;34m\u001b[0m\u001b[0m\n\u001b[1;32m    232\u001b[0m \u001b[0;34m\u001b[0m\u001b[0m\n",
      "\u001b[0;31mKeyError\u001b[0m: 'Column not found: is_affected'"
     ]
    },
    {
     "data": {
      "image/png": "[encoded data removed]",
      "text/plain": [
       "<Figure size 432x288 with 1 Axes>"
      ]
     },
     "metadata": {},
     "output_type": "display_data"
    }
   ],
   "source": [
    "domain_disruption_significance_plot(df.loc[df['accession'].str.startswith('C2H2_ZF_array'), :])\n",
    "plt.title('C2H2 ZF array')\n",
    "plt.savefig('../figures/C2H2_ZF_array_affected_random_dist.pdf', bbox_inches='tight')"
   ]
  },
  {
   "cell_type": "code",
   "execution_count": 30,
   "metadata": {},
   "outputs": [
    {
     "ename": "NameError",
     "evalue": "name 'n_dbd' is not defined",
     "output_type": "error",
     "traceback": [
      "\u001b[0;31m---------------------------------------------------------------------------\u001b[0m",
      "\u001b[0;31mNameError\u001b[0m                                 Traceback (most recent call last)",
      "\u001b[0;32m<ipython-input-30-ec63f74838e1>\u001b[0m in \u001b[0;36m<module>\u001b[0;34m\u001b[0m\n\u001b[0;32m----> 1\u001b[0;31m \u001b[0mn_dbd\u001b[0m\u001b[0;34m\u001b[0m\u001b[0;34m\u001b[0m\u001b[0m\n\u001b[0m",
      "\u001b[0;31mNameError\u001b[0m: name 'n_dbd' is not defined"
     ]
    }
   ],
   "source": [
    "n_dbd"
   ]
  },
  {
   "cell_type": "code",
   "execution_count": 31,
   "metadata": {},
   "outputs": [
    {
     "ename": "KeyError",
     "evalue": "'Column not found: is_affected'",
     "output_type": "error",
     "traceback": [
      "\u001b[0;31m---------------------------------------------------------------------------\u001b[0m",
      "\u001b[0;31mKeyError\u001b[0m                                  Traceback (most recent call last)",
      "\u001b[0;32m<ipython-input-31-c5869feca881>\u001b[0m in \u001b[0;36m<module>\u001b[0;34m\u001b[0m\n\u001b[1;32m      6\u001b[0m     \u001b[0max\u001b[0m\u001b[0;34m.\u001b[0m\u001b[0mset_title\u001b[0m\u001b[0;34m(\u001b[0m\u001b[0mrow\u001b[0m\u001b[0;34m[\u001b[0m\u001b[0;34m'dbd'\u001b[0m\u001b[0;34m]\u001b[0m\u001b[0;34m)\u001b[0m\u001b[0;34m\u001b[0m\u001b[0;34m\u001b[0m\u001b[0m\n\u001b[1;32m      7\u001b[0m     domain_disruption_significance_plot(df.loc[df['accession'] == row['pfam'], :],\n\u001b[0;32m----> 8\u001b[0;31m                                         ax=ax)\n\u001b[0m\u001b[1;32m      9\u001b[0m \u001b[0;32mfor\u001b[0m \u001b[0max\u001b[0m \u001b[0;32min\u001b[0m \u001b[0maxes\u001b[0m\u001b[0;34m[\u001b[0m\u001b[0;34m:\u001b[0m\u001b[0;34m,\u001b[0m \u001b[0;36m1\u001b[0m\u001b[0;34m:\u001b[0m\u001b[0;34m]\u001b[0m\u001b[0;34m.\u001b[0m\u001b[0mflatten\u001b[0m\u001b[0;34m(\u001b[0m\u001b[0;34m)\u001b[0m\u001b[0;34m:\u001b[0m\u001b[0;34m\u001b[0m\u001b[0;34m\u001b[0m\u001b[0m\n\u001b[1;32m     10\u001b[0m     \u001b[0max\u001b[0m\u001b[0;34m.\u001b[0m\u001b[0mset_ylabel\u001b[0m\u001b[0;34m(\u001b[0m\u001b[0;34m''\u001b[0m\u001b[0;34m)\u001b[0m\u001b[0;34m\u001b[0m\u001b[0;34m\u001b[0m\u001b[0m\n",
      "\u001b[0;32m<ipython-input-27-3ec1f823f1a5>\u001b[0m in \u001b[0;36mdomain_disruption_significance_plot\u001b[0;34m(df, ax)\u001b[0m\n\u001b[1;32m      3\u001b[0m         \u001b[0max\u001b[0m \u001b[0;34m=\u001b[0m \u001b[0mplt\u001b[0m\u001b[0;34m.\u001b[0m\u001b[0mgca\u001b[0m\u001b[0;34m(\u001b[0m\u001b[0;34m)\u001b[0m\u001b[0;34m\u001b[0m\u001b[0;34m\u001b[0m\u001b[0m\n\u001b[1;32m      4\u001b[0m     \u001b[0mn\u001b[0m \u001b[0;34m=\u001b[0m \u001b[0mdf\u001b[0m\u001b[0;34m[\u001b[0m\u001b[0;34m'alt_iso'\u001b[0m\u001b[0;34m]\u001b[0m\u001b[0;34m.\u001b[0m\u001b[0mnunique\u001b[0m\u001b[0;34m(\u001b[0m\u001b[0;34m)\u001b[0m\u001b[0;34m\u001b[0m\u001b[0;34m\u001b[0m\u001b[0m\n\u001b[0;32m----> 5\u001b[0;31m     \u001b[0mtrue_k\u001b[0m \u001b[0;34m=\u001b[0m \u001b[0mdf\u001b[0m\u001b[0;34m.\u001b[0m\u001b[0mgroupby\u001b[0m\u001b[0;34m(\u001b[0m\u001b[0;34m'alt_iso'\u001b[0m\u001b[0;34m)\u001b[0m\u001b[0;34m[\u001b[0m\u001b[0;34m'is_affected'\u001b[0m\u001b[0;34m]\u001b[0m\u001b[0;34m.\u001b[0m\u001b[0many\u001b[0m\u001b[0;34m(\u001b[0m\u001b[0;34m)\u001b[0m\u001b[0;34m.\u001b[0m\u001b[0msum\u001b[0m\u001b[0;34m(\u001b[0m\u001b[0;34m)\u001b[0m\u001b[0;34m\u001b[0m\u001b[0;34m\u001b[0m\u001b[0m\n\u001b[0m\u001b[1;32m      6\u001b[0m \u001b[0;34m\u001b[0m\u001b[0m\n\u001b[1;32m      7\u001b[0m     \u001b[0;32mdef\u001b[0m \u001b[0mprob_or\u001b[0m\u001b[0;34m(\u001b[0m\u001b[0mprobabilities\u001b[0m\u001b[0;34m)\u001b[0m\u001b[0;34m:\u001b[0m\u001b[0;34m\u001b[0m\u001b[0;34m\u001b[0m\u001b[0m\n",
      "\u001b[0;32m~/.conda/envs/py36/lib/python3.6/site-packages/pandas/core/groupby/generic.py\u001b[0m in \u001b[0;36m__getitem__\u001b[0;34m(self, key)\u001b[0m\n\u001b[1;32m   1601\u001b[0m                 \u001b[0mstacklevel\u001b[0m\u001b[0;34m=\u001b[0m\u001b[0;36m2\u001b[0m\u001b[0;34m,\u001b[0m\u001b[0;34m\u001b[0m\u001b[0;34m\u001b[0m\u001b[0m\n\u001b[1;32m   1602\u001b[0m             )\n\u001b[0;32m-> 1603\u001b[0;31m         \u001b[0;32mreturn\u001b[0m \u001b[0msuper\u001b[0m\u001b[0;34m(\u001b[0m\u001b[0;34m)\u001b[0m\u001b[0;34m.\u001b[0m\u001b[0m__getitem__\u001b[0m\u001b[0;34m(\u001b[0m\u001b[0mkey\u001b[0m\u001b[0;34m)\u001b[0m\u001b[0;34m\u001b[0m\u001b[0;34m\u001b[0m\u001b[0m\n\u001b[0m\u001b[1;32m   1604\u001b[0m \u001b[0;34m\u001b[0m\u001b[0m\n\u001b[1;32m   1605\u001b[0m     \u001b[0;32mdef\u001b[0m \u001b[0m_gotitem\u001b[0m\u001b[0;34m(\u001b[0m\u001b[0mself\u001b[0m\u001b[0;34m,\u001b[0m \u001b[0mkey\u001b[0m\u001b[0;34m,\u001b[0m \u001b[0mndim\u001b[0m\u001b[0;34m:\u001b[0m \u001b[0mint\u001b[0m\u001b[0;34m,\u001b[0m \u001b[0msubset\u001b[0m\u001b[0;34m=\u001b[0m\u001b[0;32mNone\u001b[0m\u001b[0;34m)\u001b[0m\u001b[0;34m:\u001b[0m\u001b[0;34m\u001b[0m\u001b[0;34m\u001b[0m\u001b[0m\n",
      "\u001b[0;32m~/.conda/envs/py36/lib/python3.6/site-packages/pandas/core/base.py\u001b[0m in \u001b[0;36m__getitem__\u001b[0;34m(self, key)\u001b[0m\n\u001b[1;32m    228\u001b[0m         \u001b[0;32melse\u001b[0m\u001b[0;34m:\u001b[0m\u001b[0;34m\u001b[0m\u001b[0;34m\u001b[0m\u001b[0m\n\u001b[1;32m    229\u001b[0m             \u001b[0;32mif\u001b[0m \u001b[0mkey\u001b[0m \u001b[0;32mnot\u001b[0m \u001b[0;32min\u001b[0m \u001b[0mself\u001b[0m\u001b[0;34m.\u001b[0m\u001b[0mobj\u001b[0m\u001b[0;34m:\u001b[0m\u001b[0;34m\u001b[0m\u001b[0;34m\u001b[0m\u001b[0m\n\u001b[0;32m--> 230\u001b[0;31m                 \u001b[0;32mraise\u001b[0m \u001b[0mKeyError\u001b[0m\u001b[0;34m(\u001b[0m\u001b[0;34mf\"Column not found: {key}\"\u001b[0m\u001b[0;34m)\u001b[0m\u001b[0;34m\u001b[0m\u001b[0;34m\u001b[0m\u001b[0m\n\u001b[0m\u001b[1;32m    231\u001b[0m             \u001b[0;32mreturn\u001b[0m \u001b[0mself\u001b[0m\u001b[0;34m.\u001b[0m\u001b[0m_gotitem\u001b[0m\u001b[0;34m(\u001b[0m\u001b[0mkey\u001b[0m\u001b[0;34m,\u001b[0m \u001b[0mndim\u001b[0m\u001b[0;34m=\u001b[0m\u001b[0;36m1\u001b[0m\u001b[0;34m)\u001b[0m\u001b[0;34m\u001b[0m\u001b[0;34m\u001b[0m\u001b[0m\n\u001b[1;32m    232\u001b[0m \u001b[0;34m\u001b[0m\u001b[0m\n",
      "\u001b[0;31mKeyError\u001b[0m: 'Column not found: is_affected'"
     ]
    },
    {
     "data": {
      "image/png": "[encoded data removed]",
      "text/plain": [
       "<Figure size 2160x1080 with 18 Axes>"
      ]
     },
     "metadata": {},
     "output_type": "display_data"
    }
   ],
   "source": [
    "above_size_cutoff = (dbd['num_genes'] >= 30)\n",
    "n_dbd = above_size_cutoff.sum()\n",
    "fig, axes = plt.subplots(3, 6)\n",
    "fig.set_size_inches(5 * 6, 5 * 3)\n",
    "for (_i, row), ax in zip(dbd.loc[above_size_cutoff].iterrows(), axes.flatten()):\n",
    "    ax.set_title(row['dbd'])\n",
    "    domain_disruption_significance_plot(df.loc[df['accession'] == row['pfam'], :],\n",
    "                                        ax=ax)\n",
    "for ax in axes[:, 1:].flatten():\n",
    "    ax.set_ylabel('')\n",
    "for ax in axes[:-1, :].flatten():\n",
    "    ax.set_xlabel('')\n",
    "plt.savefig('../figures/different_DBDs_affected_random_dist.pdf', bbox_inches='tight')"
   ]
  },
  {
   "cell_type": "code",
   "execution_count": null,
   "metadata": {},
   "outputs": [],
   "source": [
    "fig, ax = plt.subplots(1, 1)\n",
    "ax.set_title('KRAB')\n",
    "domain_disruption_significance_plot(df.loc[df['accession'] == 'PF01352', :],\n",
    "                                    ax=ax)\n",
    "plt.savefig('../figures/KRAB_affected_random_dist.pdf', bbox_inches='tight')"
   ]
  },
  {
   "cell_type": "code",
   "execution_count": 32,
   "metadata": {},
   "outputs": [
    {
     "ename": "KeyError",
     "evalue": "'Column not found: is_affected'",
     "output_type": "error",
     "traceback": [
      "\u001b[0;31m---------------------------------------------------------------------------\u001b[0m",
      "\u001b[0;31mKeyError\u001b[0m                                  Traceback (most recent call last)",
      "\u001b[0;32m<ipython-input-32-98593396cb2d>\u001b[0m in \u001b[0;36m<module>\u001b[0;34m\u001b[0m\n\u001b[1;32m      2\u001b[0m \u001b[0max\u001b[0m\u001b[0;34m.\u001b[0m\u001b[0mset_title\u001b[0m\u001b[0;34m(\u001b[0m\u001b[0;34m'BTB'\u001b[0m\u001b[0;34m)\u001b[0m\u001b[0;34m\u001b[0m\u001b[0;34m\u001b[0m\u001b[0m\n\u001b[1;32m      3\u001b[0m domain_disruption_significance_plot(df.loc[df['accession'] == 'PF00651', :],\n\u001b[0;32m----> 4\u001b[0;31m                                     ax=ax)\n\u001b[0m\u001b[1;32m      5\u001b[0m \u001b[0mplt\u001b[0m\u001b[0;34m.\u001b[0m\u001b[0msavefig\u001b[0m\u001b[0;34m(\u001b[0m\u001b[0;34m'../figures/BTB_affected_random_dist.pdf'\u001b[0m\u001b[0;34m,\u001b[0m \u001b[0mbbox_inches\u001b[0m\u001b[0;34m=\u001b[0m\u001b[0;34m'tight'\u001b[0m\u001b[0;34m)\u001b[0m\u001b[0;34m\u001b[0m\u001b[0;34m\u001b[0m\u001b[0m\n",
      "\u001b[0;32m<ipython-input-27-3ec1f823f1a5>\u001b[0m in \u001b[0;36mdomain_disruption_significance_plot\u001b[0;34m(df, ax)\u001b[0m\n\u001b[1;32m      3\u001b[0m         \u001b[0max\u001b[0m \u001b[0;34m=\u001b[0m \u001b[0mplt\u001b[0m\u001b[0;34m.\u001b[0m\u001b[0mgca\u001b[0m\u001b[0;34m(\u001b[0m\u001b[0;34m)\u001b[0m\u001b[0;34m\u001b[0m\u001b[0;34m\u001b[0m\u001b[0m\n\u001b[1;32m      4\u001b[0m     \u001b[0mn\u001b[0m \u001b[0;34m=\u001b[0m \u001b[0mdf\u001b[0m\u001b[0;34m[\u001b[0m\u001b[0;34m'alt_iso'\u001b[0m\u001b[0;34m]\u001b[0m\u001b[0;34m.\u001b[0m\u001b[0mnunique\u001b[0m\u001b[0;34m(\u001b[0m\u001b[0;34m)\u001b[0m\u001b[0;34m\u001b[0m\u001b[0;34m\u001b[0m\u001b[0m\n\u001b[0;32m----> 5\u001b[0;31m     \u001b[0mtrue_k\u001b[0m \u001b[0;34m=\u001b[0m \u001b[0mdf\u001b[0m\u001b[0;34m.\u001b[0m\u001b[0mgroupby\u001b[0m\u001b[0;34m(\u001b[0m\u001b[0;34m'alt_iso'\u001b[0m\u001b[0;34m)\u001b[0m\u001b[0;34m[\u001b[0m\u001b[0;34m'is_affected'\u001b[0m\u001b[0;34m]\u001b[0m\u001b[0;34m.\u001b[0m\u001b[0many\u001b[0m\u001b[0;34m(\u001b[0m\u001b[0;34m)\u001b[0m\u001b[0;34m.\u001b[0m\u001b[0msum\u001b[0m\u001b[0;34m(\u001b[0m\u001b[0;34m)\u001b[0m\u001b[0;34m\u001b[0m\u001b[0;34m\u001b[0m\u001b[0m\n\u001b[0m\u001b[1;32m      6\u001b[0m \u001b[0;34m\u001b[0m\u001b[0m\n\u001b[1;32m      7\u001b[0m     \u001b[0;32mdef\u001b[0m \u001b[0mprob_or\u001b[0m\u001b[0;34m(\u001b[0m\u001b[0mprobabilities\u001b[0m\u001b[0;34m)\u001b[0m\u001b[0;34m:\u001b[0m\u001b[0;34m\u001b[0m\u001b[0;34m\u001b[0m\u001b[0m\n",
      "\u001b[0;32m~/.conda/envs/py36/lib/python3.6/site-packages/pandas/core/groupby/generic.py\u001b[0m in \u001b[0;36m__getitem__\u001b[0;34m(self, key)\u001b[0m\n\u001b[1;32m   1601\u001b[0m                 \u001b[0mstacklevel\u001b[0m\u001b[0;34m=\u001b[0m\u001b[0;36m2\u001b[0m\u001b[0;34m,\u001b[0m\u001b[0;34m\u001b[0m\u001b[0;34m\u001b[0m\u001b[0m\n\u001b[1;32m   1602\u001b[0m             )\n\u001b[0;32m-> 1603\u001b[0;31m         \u001b[0;32mreturn\u001b[0m \u001b[0msuper\u001b[0m\u001b[0;34m(\u001b[0m\u001b[0;34m)\u001b[0m\u001b[0;34m.\u001b[0m\u001b[0m__getitem__\u001b[0m\u001b[0;34m(\u001b[0m\u001b[0mkey\u001b[0m\u001b[0;34m)\u001b[0m\u001b[0;34m\u001b[0m\u001b[0;34m\u001b[0m\u001b[0m\n\u001b[0m\u001b[1;32m   1604\u001b[0m \u001b[0;34m\u001b[0m\u001b[0m\n\u001b[1;32m   1605\u001b[0m     \u001b[0;32mdef\u001b[0m \u001b[0m_gotitem\u001b[0m\u001b[0;34m(\u001b[0m\u001b[0mself\u001b[0m\u001b[0;34m,\u001b[0m \u001b[0mkey\u001b[0m\u001b[0;34m,\u001b[0m \u001b[0mndim\u001b[0m\u001b[0;34m:\u001b[0m \u001b[0mint\u001b[0m\u001b[0;34m,\u001b[0m \u001b[0msubset\u001b[0m\u001b[0;34m=\u001b[0m\u001b[0;32mNone\u001b[0m\u001b[0;34m)\u001b[0m\u001b[0;34m:\u001b[0m\u001b[0;34m\u001b[0m\u001b[0;34m\u001b[0m\u001b[0m\n",
      "\u001b[0;32m~/.conda/envs/py36/lib/python3.6/site-packages/pandas/core/base.py\u001b[0m in \u001b[0;36m__getitem__\u001b[0;34m(self, key)\u001b[0m\n\u001b[1;32m    228\u001b[0m         \u001b[0;32melse\u001b[0m\u001b[0;34m:\u001b[0m\u001b[0;34m\u001b[0m\u001b[0;34m\u001b[0m\u001b[0m\n\u001b[1;32m    229\u001b[0m             \u001b[0;32mif\u001b[0m \u001b[0mkey\u001b[0m \u001b[0;32mnot\u001b[0m \u001b[0;32min\u001b[0m \u001b[0mself\u001b[0m\u001b[0;34m.\u001b[0m\u001b[0mobj\u001b[0m\u001b[0;34m:\u001b[0m\u001b[0;34m\u001b[0m\u001b[0;34m\u001b[0m\u001b[0m\n\u001b[0;32m--> 230\u001b[0;31m                 \u001b[0;32mraise\u001b[0m \u001b[0mKeyError\u001b[0m\u001b[0;34m(\u001b[0m\u001b[0;34mf\"Column not found: {key}\"\u001b[0m\u001b[0;34m)\u001b[0m\u001b[0;34m\u001b[0m\u001b[0;34m\u001b[0m\u001b[0m\n\u001b[0m\u001b[1;32m    231\u001b[0m             \u001b[0;32mreturn\u001b[0m \u001b[0mself\u001b[0m\u001b[0;34m.\u001b[0m\u001b[0m_gotitem\u001b[0m\u001b[0;34m(\u001b[0m\u001b[0mkey\u001b[0m\u001b[0;34m,\u001b[0m \u001b[0mndim\u001b[0m\u001b[0;34m=\u001b[0m\u001b[0;36m1\u001b[0m\u001b[0;34m)\u001b[0m\u001b[0;34m\u001b[0m\u001b[0;34m\u001b[0m\u001b[0m\n\u001b[1;32m    232\u001b[0m \u001b[0;34m\u001b[0m\u001b[0m\n",
      "\u001b[0;31mKeyError\u001b[0m: 'Column not found: is_affected'"
     ]
    },
    {
     "data": {
      "image/png": "[encoded data removed]",
      "text/plain": [
       "<Figure size 432x288 with 1 Axes>"
      ]
     },
     "metadata": {},
     "output_type": "display_data"
    }
   ],
   "source": [
    "fig, ax = plt.subplots(1, 1)\n",
    "ax.set_title('BTB')\n",
    "domain_disruption_significance_plot(df.loc[df['accession'] == 'PF00651', :],\n",
    "                                    ax=ax)\n",
    "plt.savefig('../figures/BTB_affected_random_dist.pdf', bbox_inches='tight')"
   ]
  },
  {
   "cell_type": "code",
   "execution_count": 33,
   "metadata": {},
   "outputs": [
    {
     "ename": "KeyError",
     "evalue": "'Column not found: is_affected'",
     "output_type": "error",
     "traceback": [
      "\u001b[0;31m---------------------------------------------------------------------------\u001b[0m",
      "\u001b[0;31mKeyError\u001b[0m                                  Traceback (most recent call last)",
      "\u001b[0;32m<ipython-input-33-33ed1af4b7b7>\u001b[0m in \u001b[0;36m<module>\u001b[0;34m\u001b[0m\n\u001b[1;32m      4\u001b[0m     \u001b[0max\u001b[0m\u001b[0;34m.\u001b[0m\u001b[0mset_title\u001b[0m\u001b[0;34m(\u001b[0m\u001b[0mpfam_ac\u001b[0m\u001b[0;34m)\u001b[0m\u001b[0;34m\u001b[0m\u001b[0;34m\u001b[0m\u001b[0m\n\u001b[1;32m      5\u001b[0m     domain_disruption_significance_plot(df.loc[df['accession'] == pfam_ac, :],\n\u001b[0;32m----> 6\u001b[0;31m                                     ax=ax)\n\u001b[0m",
      "\u001b[0;32m<ipython-input-27-3ec1f823f1a5>\u001b[0m in \u001b[0;36mdomain_disruption_significance_plot\u001b[0;34m(df, ax)\u001b[0m\n\u001b[1;32m      3\u001b[0m         \u001b[0max\u001b[0m \u001b[0;34m=\u001b[0m \u001b[0mplt\u001b[0m\u001b[0;34m.\u001b[0m\u001b[0mgca\u001b[0m\u001b[0;34m(\u001b[0m\u001b[0;34m)\u001b[0m\u001b[0;34m\u001b[0m\u001b[0;34m\u001b[0m\u001b[0m\n\u001b[1;32m      4\u001b[0m     \u001b[0mn\u001b[0m \u001b[0;34m=\u001b[0m \u001b[0mdf\u001b[0m\u001b[0;34m[\u001b[0m\u001b[0;34m'alt_iso'\u001b[0m\u001b[0;34m]\u001b[0m\u001b[0;34m.\u001b[0m\u001b[0mnunique\u001b[0m\u001b[0;34m(\u001b[0m\u001b[0;34m)\u001b[0m\u001b[0;34m\u001b[0m\u001b[0;34m\u001b[0m\u001b[0m\n\u001b[0;32m----> 5\u001b[0;31m     \u001b[0mtrue_k\u001b[0m \u001b[0;34m=\u001b[0m \u001b[0mdf\u001b[0m\u001b[0;34m.\u001b[0m\u001b[0mgroupby\u001b[0m\u001b[0;34m(\u001b[0m\u001b[0;34m'alt_iso'\u001b[0m\u001b[0;34m)\u001b[0m\u001b[0;34m[\u001b[0m\u001b[0;34m'is_affected'\u001b[0m\u001b[0;34m]\u001b[0m\u001b[0;34m.\u001b[0m\u001b[0many\u001b[0m\u001b[0;34m(\u001b[0m\u001b[0;34m)\u001b[0m\u001b[0;34m.\u001b[0m\u001b[0msum\u001b[0m\u001b[0;34m(\u001b[0m\u001b[0;34m)\u001b[0m\u001b[0;34m\u001b[0m\u001b[0;34m\u001b[0m\u001b[0m\n\u001b[0m\u001b[1;32m      6\u001b[0m \u001b[0;34m\u001b[0m\u001b[0m\n\u001b[1;32m      7\u001b[0m     \u001b[0;32mdef\u001b[0m \u001b[0mprob_or\u001b[0m\u001b[0;34m(\u001b[0m\u001b[0mprobabilities\u001b[0m\u001b[0;34m)\u001b[0m\u001b[0;34m:\u001b[0m\u001b[0;34m\u001b[0m\u001b[0;34m\u001b[0m\u001b[0m\n",
      "\u001b[0;32m~/.conda/envs/py36/lib/python3.6/site-packages/pandas/core/groupby/generic.py\u001b[0m in \u001b[0;36m__getitem__\u001b[0;34m(self, key)\u001b[0m\n\u001b[1;32m   1601\u001b[0m                 \u001b[0mstacklevel\u001b[0m\u001b[0;34m=\u001b[0m\u001b[0;36m2\u001b[0m\u001b[0;34m,\u001b[0m\u001b[0;34m\u001b[0m\u001b[0;34m\u001b[0m\u001b[0m\n\u001b[1;32m   1602\u001b[0m             )\n\u001b[0;32m-> 1603\u001b[0;31m         \u001b[0;32mreturn\u001b[0m \u001b[0msuper\u001b[0m\u001b[0;34m(\u001b[0m\u001b[0;34m)\u001b[0m\u001b[0;34m.\u001b[0m\u001b[0m__getitem__\u001b[0m\u001b[0;34m(\u001b[0m\u001b[0mkey\u001b[0m\u001b[0;34m)\u001b[0m\u001b[0;34m\u001b[0m\u001b[0;34m\u001b[0m\u001b[0m\n\u001b[0m\u001b[1;32m   1604\u001b[0m \u001b[0;34m\u001b[0m\u001b[0m\n\u001b[1;32m   1605\u001b[0m     \u001b[0;32mdef\u001b[0m \u001b[0m_gotitem\u001b[0m\u001b[0;34m(\u001b[0m\u001b[0mself\u001b[0m\u001b[0;34m,\u001b[0m \u001b[0mkey\u001b[0m\u001b[0;34m,\u001b[0m \u001b[0mndim\u001b[0m\u001b[0;34m:\u001b[0m \u001b[0mint\u001b[0m\u001b[0;34m,\u001b[0m \u001b[0msubset\u001b[0m\u001b[0;34m=\u001b[0m\u001b[0;32mNone\u001b[0m\u001b[0;34m)\u001b[0m\u001b[0;34m:\u001b[0m\u001b[0;34m\u001b[0m\u001b[0;34m\u001b[0m\u001b[0m\n",
      "\u001b[0;32m~/.conda/envs/py36/lib/python3.6/site-packages/pandas/core/base.py\u001b[0m in \u001b[0;36m__getitem__\u001b[0;34m(self, key)\u001b[0m\n\u001b[1;32m    228\u001b[0m         \u001b[0;32melse\u001b[0m\u001b[0;34m:\u001b[0m\u001b[0;34m\u001b[0m\u001b[0;34m\u001b[0m\u001b[0m\n\u001b[1;32m    229\u001b[0m             \u001b[0;32mif\u001b[0m \u001b[0mkey\u001b[0m \u001b[0;32mnot\u001b[0m \u001b[0;32min\u001b[0m \u001b[0mself\u001b[0m\u001b[0;34m.\u001b[0m\u001b[0mobj\u001b[0m\u001b[0;34m:\u001b[0m\u001b[0;34m\u001b[0m\u001b[0;34m\u001b[0m\u001b[0m\n\u001b[0;32m--> 230\u001b[0;31m                 \u001b[0;32mraise\u001b[0m \u001b[0mKeyError\u001b[0m\u001b[0;34m(\u001b[0m\u001b[0;34mf\"Column not found: {key}\"\u001b[0m\u001b[0;34m)\u001b[0m\u001b[0;34m\u001b[0m\u001b[0;34m\u001b[0m\u001b[0m\n\u001b[0m\u001b[1;32m    231\u001b[0m             \u001b[0;32mreturn\u001b[0m \u001b[0mself\u001b[0m\u001b[0;34m.\u001b[0m\u001b[0m_gotitem\u001b[0m\u001b[0;34m(\u001b[0m\u001b[0mkey\u001b[0m\u001b[0;34m,\u001b[0m \u001b[0mndim\u001b[0m\u001b[0;34m=\u001b[0m\u001b[0;36m1\u001b[0m\u001b[0;34m)\u001b[0m\u001b[0;34m\u001b[0m\u001b[0;34m\u001b[0m\u001b[0m\n\u001b[1;32m    232\u001b[0m \u001b[0;34m\u001b[0m\u001b[0m\n",
      "\u001b[0;31mKeyError\u001b[0m: 'Column not found: is_affected'"
     ]
    },
    {
     "data": {
      "image/png": "[encoded data removed]",
      "text/plain": [
       "<Figure size 216x2160 with 10 Axes>"
      ]
     },
     "metadata": {},
     "output_type": "display_data"
    }
   ],
   "source": [
    "fig, axes = plt.subplots(10, 1)\n",
    "fig.set_size_inches(3, 30)\n",
    "for pfam_ac, ax in zip(df.loc[~df['is_DBD'], :].groupby('accession')['gene'].nunique().sort_values(ascending=False).head(10).index, axes):\n",
    "    ax.set_title(pfam_ac)\n",
    "    domain_disruption_significance_plot(df.loc[df['accession'] == pfam_ac, :],\n",
    "                                    ax=ax)"
   ]
  },
  {
   "cell_type": "code",
   "execution_count": null,
   "metadata": {},
   "outputs": [],
   "source": [
    "pfam = pd.read_csv('../data/external/Pfam-A.clans.tsv',\n",
    "                   sep='\\t',\n",
    "                   names=['pfam_accession', 'clan', 'clan_name', 'short_name', 'name'])"
   ]
  },
  {
   "cell_type": "code",
   "execution_count": null,
   "metadata": {
    "tags": []
   },
   "outputs": [],
   "source": [
    "df.loc[df['accession'].str.startswith('C2H2_ZF_array'), 'accession'] = 'C2H2_ZF_array'\n",
    "doms = (df.loc[(df['category'] == 'Pfam_domain') | \n",
    "              (df['category'] == 'ZF_array'), :]\n",
    "              .groupby('accession')\n",
    "              ['alt_iso']\n",
    "              .nunique()\n",
    "              .to_frame(name='n_alt_iso'))\n",
    "for c in [c for c in df.columns if c.startswith('is_affected_')]:\n",
    "    doms['n_' + c] = (df.loc[(df['category'] == 'Pfam_domain') |\n",
    "                        (df['category'] == 'ZF_array'), :]\n",
    "                        .groupby(['accession', 'alt_iso'])\n",
    "                        [c]\n",
    "                        .any()\n",
    "                        .sum(level='accession'))\n",
    "    doms['f_' + c] = doms['n_' + c] / doms['n_alt_iso']\n",
    "doms = doms.sort_values('n_alt_iso', ascending=False)\n",
    "    \n",
    "def prob_or(probabilities):\n",
    "    return 1 - (np.prod(1 - probabilities))\n",
    "        \n",
    "\n",
    "def null_quantile(values, q):\n",
    "    n = len(values.values)\n",
    "    for i, v in enumerate(PoiBin(values.values).cdf(range(n + 1))):\n",
    "        if v >= q:\n",
    "            return i / n\n",
    "\n",
    "\n",
    "for null_col in [c for c in df.columns if c.startswith('null_fraction_')]:\n",
    "    null_p = (df.loc[(df['category'] == 'Pfam_domain') |\n",
    "                    (df['category'] == 'ZF_array'), :]\n",
    "                .groupby(['accession', 'alt_iso'])\n",
    "                [null_col]\n",
    "                .apply(prob_or))\n",
    "    doms[null_col + '_99CI_low'] = null_p.groupby('accession').apply(null_quantile, 0.01)\n",
    "    doms[null_col + '_99CI_high'] = null_p.groupby('accession').apply(null_quantile, 0.99)\n",
    "    doms[null_col + '_center'] = null_p.groupby('accession').apply(null_quantile, 0.5)"
   ]
  },
  {
   "cell_type": "code",
   "execution_count": 34,
   "metadata": {},
   "outputs": [
    {
     "ename": "NameError",
     "evalue": "name 'doms' is not defined",
     "output_type": "error",
     "traceback": [
      "\u001b[0;31m---------------------------------------------------------------------------\u001b[0m",
      "\u001b[0;31mNameError\u001b[0m                                 Traceback (most recent call last)",
      "\u001b[0;32m<ipython-input-34-09f1a5dd01fb>\u001b[0m in \u001b[0;36m<module>\u001b[0;34m\u001b[0m\n\u001b[0;32m----> 1\u001b[0;31m \u001b[0mdoms\u001b[0m\u001b[0;34m[\u001b[0m\u001b[0;34m'is_DBD'\u001b[0m\u001b[0;34m]\u001b[0m \u001b[0;34m=\u001b[0m \u001b[0mdoms\u001b[0m\u001b[0;34m.\u001b[0m\u001b[0mindex\u001b[0m\u001b[0;34m.\u001b[0m\u001b[0misin\u001b[0m\u001b[0;34m(\u001b[0m\u001b[0mdbd\u001b[0m\u001b[0;34m[\u001b[0m\u001b[0;34m'pfam'\u001b[0m\u001b[0;34m]\u001b[0m\u001b[0;34m.\u001b[0m\u001b[0mvalues\u001b[0m\u001b[0;34m)\u001b[0m \u001b[0;34m|\u001b[0m \u001b[0;34m(\u001b[0m\u001b[0mdoms\u001b[0m\u001b[0;34m.\u001b[0m\u001b[0mindex\u001b[0m \u001b[0;34m==\u001b[0m \u001b[0;34m'C2H2_ZF_array'\u001b[0m\u001b[0;34m)\u001b[0m\u001b[0;34m\u001b[0m\u001b[0;34m\u001b[0m\u001b[0m\n\u001b[0m\u001b[1;32m      2\u001b[0m \u001b[0;31m# Use the custom DBD names\u001b[0m\u001b[0;34m\u001b[0m\u001b[0;34m\u001b[0m\u001b[0;34m\u001b[0m\u001b[0m\n\u001b[1;32m      3\u001b[0m \u001b[0mdoms\u001b[0m\u001b[0;34m.\u001b[0m\u001b[0mloc\u001b[0m\u001b[0;34m[\u001b[0m\u001b[0mdoms\u001b[0m\u001b[0;34m[\u001b[0m\u001b[0;34m'is_DBD'\u001b[0m\u001b[0;34m]\u001b[0m\u001b[0;34m,\u001b[0m \u001b[0;34m'domain_name'\u001b[0m\u001b[0;34m]\u001b[0m \u001b[0;34m=\u001b[0m \u001b[0mdoms\u001b[0m\u001b[0;34m[\u001b[0m\u001b[0mdoms\u001b[0m\u001b[0;34m[\u001b[0m\u001b[0;34m'is_DBD'\u001b[0m\u001b[0;34m]\u001b[0m\u001b[0;34m]\u001b[0m\u001b[0;34m.\u001b[0m\u001b[0mindex\u001b[0m\u001b[0;34m.\u001b[0m\u001b[0mmap\u001b[0m\u001b[0;34m(\u001b[0m\u001b[0mdbd\u001b[0m\u001b[0;34m.\u001b[0m\u001b[0mset_index\u001b[0m\u001b[0;34m(\u001b[0m\u001b[0;34m'pfam'\u001b[0m\u001b[0;34m)\u001b[0m\u001b[0;34m[\u001b[0m\u001b[0;34m'dbd'\u001b[0m\u001b[0;34m]\u001b[0m\u001b[0;34m)\u001b[0m\u001b[0;34m\u001b[0m\u001b[0;34m\u001b[0m\u001b[0m\n\u001b[1;32m      4\u001b[0m \u001b[0mdoms\u001b[0m\u001b[0;34m.\u001b[0m\u001b[0mloc\u001b[0m\u001b[0;34m[\u001b[0m\u001b[0;34m~\u001b[0m\u001b[0mdoms\u001b[0m\u001b[0;34m[\u001b[0m\u001b[0;34m'is_DBD'\u001b[0m\u001b[0;34m]\u001b[0m\u001b[0;34m,\u001b[0m \u001b[0;34m'domain_name'\u001b[0m\u001b[0;34m]\u001b[0m \u001b[0;34m=\u001b[0m \u001b[0mdoms\u001b[0m\u001b[0;34m[\u001b[0m\u001b[0;34m~\u001b[0m\u001b[0mdoms\u001b[0m\u001b[0;34m[\u001b[0m\u001b[0;34m'is_DBD'\u001b[0m\u001b[0;34m]\u001b[0m\u001b[0;34m]\u001b[0m\u001b[0;34m.\u001b[0m\u001b[0mindex\u001b[0m\u001b[0;34m.\u001b[0m\u001b[0mmap\u001b[0m\u001b[0;34m(\u001b[0m\u001b[0mpfam\u001b[0m\u001b[0;34m.\u001b[0m\u001b[0mset_index\u001b[0m\u001b[0;34m(\u001b[0m\u001b[0;34m'pfam_accession'\u001b[0m\u001b[0;34m)\u001b[0m\u001b[0;34m[\u001b[0m\u001b[0;34m'name'\u001b[0m\u001b[0;34m]\u001b[0m\u001b[0;34m)\u001b[0m\u001b[0;34m\u001b[0m\u001b[0;34m\u001b[0m\u001b[0m\n\u001b[1;32m      5\u001b[0m \u001b[0mdoms\u001b[0m\u001b[0;34m.\u001b[0m\u001b[0mloc\u001b[0m\u001b[0;34m[\u001b[0m\u001b[0mdoms\u001b[0m\u001b[0;34m.\u001b[0m\u001b[0mindex\u001b[0m \u001b[0;34m==\u001b[0m \u001b[0;34m'C2H2_ZF_array'\u001b[0m\u001b[0;34m,\u001b[0m \u001b[0;34m'domain_name'\u001b[0m\u001b[0;34m]\u001b[0m \u001b[0;34m=\u001b[0m \u001b[0;34m[\u001b[0m\u001b[0;34m'C2H2 ZF array'\u001b[0m\u001b[0;34m]\u001b[0m\u001b[0;34m\u001b[0m\u001b[0;34m\u001b[0m\u001b[0m\n",
      "\u001b[0;31mNameError\u001b[0m: name 'doms' is not defined"
     ]
    }
   ],
   "source": [
    "doms['is_DBD'] = doms.index.isin(dbd['pfam'].values) | (doms.index == 'C2H2_ZF_array')\n",
    "# Use the custom DBD names\n",
    "doms.loc[doms['is_DBD'], 'domain_name'] = doms[doms['is_DBD']].index.map(dbd.set_index('pfam')['dbd'])\n",
    "doms.loc[~doms['is_DBD'], 'domain_name'] = doms[~doms['is_DBD']].index.map(pfam.set_index('pfam_accession')['name'])\n",
    "doms.loc[doms.index == 'C2H2_ZF_array', 'domain_name'] = ['C2H2 ZF array']\n",
    "doms.head()"
   ]
  },
  {
   "cell_type": "code",
   "execution_count": 35,
   "metadata": {},
   "outputs": [
    {
     "ename": "NameError",
     "evalue": "name 'doms' is not defined",
     "output_type": "error",
     "traceback": [
      "\u001b[0;31m---------------------------------------------------------------------------\u001b[0m",
      "\u001b[0;31mNameError\u001b[0m                                 Traceback (most recent call last)",
      "\u001b[0;32m<ipython-input-35-c81738f8580d>\u001b[0m in \u001b[0;36m<module>\u001b[0;34m\u001b[0m\n\u001b[0;32m----> 1\u001b[0;31m \u001b[0mdom_affected_levels\u001b[0m \u001b[0;34m=\u001b[0m \u001b[0;34m[\u001b[0m\u001b[0mc\u001b[0m\u001b[0;34m[\u001b[0m\u001b[0;36m5\u001b[0m\u001b[0;34m:\u001b[0m\u001b[0;34m]\u001b[0m \u001b[0;32mfor\u001b[0m \u001b[0mc\u001b[0m \u001b[0;32min\u001b[0m \u001b[0mdoms\u001b[0m\u001b[0;34m.\u001b[0m\u001b[0mcolumns\u001b[0m \u001b[0;32mif\u001b[0m \u001b[0mc\u001b[0m\u001b[0;34m.\u001b[0m\u001b[0mstartswith\u001b[0m\u001b[0;34m(\u001b[0m\u001b[0;34m'f_is_affected_'\u001b[0m\u001b[0;34m)\u001b[0m\u001b[0;34m]\u001b[0m\u001b[0;34m\u001b[0m\u001b[0;34m\u001b[0m\u001b[0m\n\u001b[0m\u001b[1;32m      2\u001b[0m level_desc = {'affected_at_all': 'at least partial domain removal',\n\u001b[1;32m      3\u001b[0m  \u001b[0;34m'affected_100pct'\u001b[0m\u001b[0;34m:\u001b[0m \u001b[0;34m'100% removal'\u001b[0m\u001b[0;34m,\u001b[0m\u001b[0;34m\u001b[0m\u001b[0;34m\u001b[0m\u001b[0m\n\u001b[1;32m      4\u001b[0m  \u001b[0;34m'affected_90pct'\u001b[0m\u001b[0;34m:\u001b[0m \u001b[0;34m'90% removal'\u001b[0m\u001b[0;34m,\u001b[0m\u001b[0;34m\u001b[0m\u001b[0;34m\u001b[0m\u001b[0m\n\u001b[1;32m      5\u001b[0m  \u001b[0;34m'affected_50pct'\u001b[0m\u001b[0;34m:\u001b[0m \u001b[0;34m'50% removal'\u001b[0m\u001b[0;34m,\u001b[0m\u001b[0;34m\u001b[0m\u001b[0;34m\u001b[0m\u001b[0m\n",
      "\u001b[0;31mNameError\u001b[0m: name 'doms' is not defined"
     ]
    }
   ],
   "source": [
    "dom_affected_levels = [c[5:] for c in doms.columns if c.startswith('f_is_affected_')]\n",
    "level_desc = {'affected_at_all': 'at least partial domain removal',\n",
    " 'affected_100pct': '100% removal',\n",
    " 'affected_90pct': '90% removal',\n",
    " 'affected_50pct': '50% removal',\n",
    " 'affected_10pct': '10% removal'}\n",
    "\n",
    "for level in dom_affected_levels:\n",
    "        fig, ax = plt.subplots(1, 1)\n",
    "        cutoff = 30\n",
    "        # removing C2H2-ZF clan becuase we look at the ZF arrays instead\n",
    "        data = doms.loc[doms['is_DBD'] &\n",
    "                        (doms['n_alt_iso'] >= cutoff) &\n",
    "                        ~(doms.index.map(clans) == 'CL0361'), :].copy()\n",
    "        ax.barh(data.index, \n",
    "                data[f'f_is_{level}'].values * 100,\n",
    "                label='Observed values')\n",
    "        ax.errorbar(y=data.index,\n",
    "                x=data[f'null_fraction_{level}_center'].values * 100,\n",
    "                xerr=[(data[f'null_fraction_{level}_center'] - data[f'null_fraction_{level}_99CI_low']).values * 100,\n",
    "                        (data[f'null_fraction_{level}_99CI_high'] - data[f'null_fraction_{level}_center']).values * 100],\n",
    "                                fmt='none',\n",
    "                                capsize=3,\n",
    "                                color='black',\n",
    "                                label='Null distribution: 99% CI')\n",
    "        ax.legend(loc='upper left', \n",
    "                bbox_to_anchor=(1, 1))\n",
    "        ax.set_yticklabels(data['domain_name'].values)\n",
    "        ax.set_xlim(0, 100)\n",
    "        ax.set_ylim(ax.get_ylim()[::-1])\n",
    "        ax.yaxis.set_tick_params(length=0)\n",
    "        ax.spines['right'].set_visible(False)\n",
    "        ax.spines['bottom'].set_visible(False)\n",
    "        ax.spines['left'].set_visible(False)\n",
    "        ax.xaxis.tick_top()\n",
    "        ax.set_xlabel(f'Fraction of alternative isoforms with {level_desc[level]}')\n",
    "        ax.xaxis.set_label_position('top')\n",
    "        ax.set_xticks(range(0, 101, 20))\n",
    "        ax.set_xticks(range(0, 101, 10), minor=True)\n",
    "        plt.savefig(f'../figures/DBD_{level}.pdf'.format(level),\n",
    "                bbox_inches='tight')"
   ]
  },
  {
   "cell_type": "code",
   "execution_count": 36,
   "metadata": {},
   "outputs": [
    {
     "ename": "NameError",
     "evalue": "name 'doms' is not defined",
     "output_type": "error",
     "traceback": [
      "\u001b[0;31m---------------------------------------------------------------------------\u001b[0m",
      "\u001b[0;31mNameError\u001b[0m                                 Traceback (most recent call last)",
      "\u001b[0;32m<ipython-input-36-f52d97c8ab90>\u001b[0m in \u001b[0;36m<module>\u001b[0;34m\u001b[0m\n\u001b[1;32m      1\u001b[0m \u001b[0mfig\u001b[0m\u001b[0;34m,\u001b[0m \u001b[0max\u001b[0m \u001b[0;34m=\u001b[0m \u001b[0mplt\u001b[0m\u001b[0;34m.\u001b[0m\u001b[0msubplots\u001b[0m\u001b[0;34m(\u001b[0m\u001b[0;36m1\u001b[0m\u001b[0;34m,\u001b[0m \u001b[0;36m1\u001b[0m\u001b[0;34m)\u001b[0m\u001b[0;34m\u001b[0m\u001b[0;34m\u001b[0m\u001b[0m\n\u001b[1;32m      2\u001b[0m \u001b[0mcutoff\u001b[0m \u001b[0;34m=\u001b[0m \u001b[0;36m30\u001b[0m\u001b[0;34m\u001b[0m\u001b[0;34m\u001b[0m\u001b[0m\n\u001b[0;32m----> 3\u001b[0;31m data = doms.loc[~doms['is_DBD'] &\n\u001b[0m\u001b[1;32m      4\u001b[0m                 \u001b[0;34m(\u001b[0m\u001b[0mdoms\u001b[0m\u001b[0;34m[\u001b[0m\u001b[0;34m'n_alt_iso'\u001b[0m\u001b[0;34m]\u001b[0m \u001b[0;34m>=\u001b[0m \u001b[0mcutoff\u001b[0m\u001b[0;34m)\u001b[0m \u001b[0;34m&\u001b[0m\u001b[0;34m\u001b[0m\u001b[0;34m\u001b[0m\u001b[0m\n\u001b[1;32m      5\u001b[0m                  ~(doms.index.map(clans) == 'CL0361'), :].copy()\n",
      "\u001b[0;31mNameError\u001b[0m: name 'doms' is not defined"
     ]
    },
    {
     "data": {
      "image/png": "[encoded data removed]",
      "text/plain": [
       "<Figure size 432x288 with 1 Axes>"
      ]
     },
     "metadata": {},
     "output_type": "display_data"
    }
   ],
   "source": [
    "fig, ax = plt.subplots(1, 1)\n",
    "cutoff = 30\n",
    "data = doms.loc[~doms['is_DBD'] &\n",
    "                (doms['n_alt_iso'] >= cutoff) &\n",
    "                 ~(doms.index.map(clans) == 'CL0361'), :].copy()\n",
    "ax.barh(data.index, \n",
    "        data['f'].values * 100,\n",
    "        label='Observed values')\n",
    "ax.errorbar(y=data.index,\n",
    "            x=data['null_center'].values * 100,\n",
    "            xerr=[(data['null_center'] - data['null_99CI_low']).values * 100,\n",
    "                  (data['null_99CI_high'] - data['null_center']).values * 100],\n",
    "                          fmt='none',\n",
    "                          capsize=3,\n",
    "                          color='black',\n",
    "                        label='Null distribution: 99% CI')\n",
    "ax.legend(loc='upper left', \n",
    "          bbox_to_anchor=(1, 1))\n",
    "ax.set_yticklabels(data['domain_name'].values)\n",
    "ax.set_xlim(0, 100)\n",
    "ax.set_ylim(ax.get_ylim()[::-1])\n",
    "ax.yaxis.set_tick_params(length=0)\n",
    "ax.spines['right'].set_visible(False)\n",
    "ax.spines['bottom'].set_visible(False)\n",
    "ax.spines['left'].set_visible(False)\n",
    "ax.xaxis.tick_top()\n",
    "ax.set_xlabel('Fraction of alternative isoforms with at least partial domain removal')\n",
    "ax.xaxis.set_label_position('top')\n",
    "ax.set_xticks(range(0, 101, 20))\n",
    "ax.set_xticks(range(0, 101, 10), minor=True)\n",
    "plt.savefig('../figures/other_domain_partial_removal.pdf',\n",
    "            bbox_inches='tight')"
   ]
  },
  {
   "cell_type": "code",
   "execution_count": 37,
   "metadata": {},
   "outputs": [
    {
     "ename": "NameError",
     "evalue": "name 'dom_affected_levels' is not defined",
     "output_type": "error",
     "traceback": [
      "\u001b[0;31m---------------------------------------------------------------------------\u001b[0m",
      "\u001b[0;31mNameError\u001b[0m                                 Traceback (most recent call last)",
      "\u001b[0;32m<ipython-input-37-1d318eb24409>\u001b[0m in \u001b[0;36m<module>\u001b[0;34m\u001b[0m\n\u001b[0;32m----> 1\u001b[0;31m \u001b[0;32mfor\u001b[0m \u001b[0mlevel\u001b[0m \u001b[0;32min\u001b[0m \u001b[0mdom_affected_levels\u001b[0m\u001b[0;34m:\u001b[0m\u001b[0;34m\u001b[0m\u001b[0;34m\u001b[0m\u001b[0m\n\u001b[0m\u001b[1;32m      2\u001b[0m         \u001b[0mfig\u001b[0m\u001b[0;34m,\u001b[0m \u001b[0max\u001b[0m \u001b[0;34m=\u001b[0m \u001b[0mplt\u001b[0m\u001b[0;34m.\u001b[0m\u001b[0msubplots\u001b[0m\u001b[0;34m(\u001b[0m\u001b[0;36m1\u001b[0m\u001b[0;34m,\u001b[0m \u001b[0;36m1\u001b[0m\u001b[0;34m)\u001b[0m\u001b[0;34m\u001b[0m\u001b[0;34m\u001b[0m\u001b[0m\n\u001b[1;32m      3\u001b[0m         \u001b[0mcutoff\u001b[0m \u001b[0;34m=\u001b[0m \u001b[0;36m30\u001b[0m\u001b[0;34m\u001b[0m\u001b[0;34m\u001b[0m\u001b[0m\n\u001b[1;32m      4\u001b[0m         \u001b[0;31m# removing C2H2-ZF clan becuase we look at the ZF arrays instead\u001b[0m\u001b[0;34m\u001b[0m\u001b[0;34m\u001b[0m\u001b[0;34m\u001b[0m\u001b[0m\n\u001b[1;32m      5\u001b[0m         data = doms.loc[~doms['is_DBD'] &\n",
      "\u001b[0;31mNameError\u001b[0m: name 'dom_affected_levels' is not defined"
     ]
    }
   ],
   "source": [
    "for level in dom_affected_levels:\n",
    "        fig, ax = plt.subplots(1, 1)\n",
    "        cutoff = 30\n",
    "        # removing C2H2-ZF clan becuase we look at the ZF arrays instead\n",
    "        data = doms.loc[~doms['is_DBD'] &\n",
    "                        (doms['n_alt_iso'] >= cutoff) &\n",
    "                        ~(doms.index.map(clans) == 'CL0361'), :].copy()\n",
    "        ax.barh(data.index, \n",
    "                data[f'f_is_{level}'].values * 100,\n",
    "                label='Observed values')\n",
    "        ax.errorbar(y=data.index,\n",
    "                x=data[f'null_fraction_{level}_center'].values * 100,\n",
    "                xerr=[(data[f'null_fraction_{level}_center'] - data[f'null_fraction_{level}_99CI_low']).values * 100,\n",
    "                        (data[f'null_fraction_{level}_99CI_high'] - data[f'null_fraction_{level}_center']).values * 100],\n",
    "                                fmt='none',\n",
    "                                capsize=3,\n",
    "                                color='black',\n",
    "                                label='Null distribution: 99% CI')\n",
    "        ax.legend(loc='upper left', \n",
    "                bbox_to_anchor=(1, 1))\n",
    "        ax.set_yticklabels(data['domain_name'].values)\n",
    "        ax.set_xlim(0, 100)\n",
    "        ax.set_ylim(ax.get_ylim()[::-1])\n",
    "        ax.yaxis.set_tick_params(length=0)\n",
    "        ax.spines['right'].set_visible(False)\n",
    "        ax.spines['bottom'].set_visible(False)\n",
    "        ax.spines['left'].set_visible(False)\n",
    "        ax.xaxis.tick_top()\n",
    "        ax.set_xlabel(f'Fraction of alternative isoforms with {level_desc[level]}')\n",
    "        ax.xaxis.set_label_position('top')\n",
    "        ax.set_xticks(range(0, 101, 20))\n",
    "        ax.set_xticks(range(0, 101, 10), minor=True)\n",
    "        plt.savefig(f'../figures/other_domain_{level}.pdf'.format(level),\n",
    "                bbox_inches='tight')"
   ]
  },
  {
   "cell_type": "code",
   "execution_count": 38,
   "metadata": {},
   "outputs": [],
   "source": [
    "# clans"
   ]
  },
  {
   "cell_type": "code",
   "execution_count": 39,
   "metadata": {},
   "outputs": [
    {
     "data": {
      "text/html": [
       "<div>\n",
       "<style scoped>\n",
       "    .dataframe tbody tr th:only-of-type {\n",
       "        vertical-align: middle;\n",
       "    }\n",
       "\n",
       "    .dataframe tbody tr th {\n",
       "        vertical-align: top;\n",
       "    }\n",
       "\n",
       "    .dataframe thead th {\n",
       "        text-align: right;\n",
       "    }\n",
       "</style>\n",
       "<table border=\"1\" class=\"dataframe\">\n",
       "  <thead>\n",
       "    <tr style=\"text-align: right;\">\n",
       "      <th></th>\n",
       "      <th>n_alt_iso</th>\n",
       "      <th>n_is_affected_at_all</th>\n",
       "      <th>f_is_affected_at_all</th>\n",
       "      <th>n_is_affected_100pct</th>\n",
       "      <th>f_is_affected_100pct</th>\n",
       "      <th>n_is_affected_90pct</th>\n",
       "      <th>f_is_affected_90pct</th>\n",
       "      <th>n_is_affected_50pct</th>\n",
       "      <th>f_is_affected_50pct</th>\n",
       "      <th>n_is_affected_10pct</th>\n",
       "      <th>f_is_affected_10pct</th>\n",
       "      <th>null_fraction_affected_at_all_99CI_low</th>\n",
       "      <th>null_fraction_affected_at_all_99CI_high</th>\n",
       "      <th>null_fraction_affected_at_all_center</th>\n",
       "      <th>null_fraction_affected_100pct_99CI_low</th>\n",
       "      <th>null_fraction_affected_100pct_99CI_high</th>\n",
       "      <th>null_fraction_affected_100pct_center</th>\n",
       "      <th>null_fraction_affected_90pct_99CI_low</th>\n",
       "      <th>null_fraction_affected_90pct_99CI_high</th>\n",
       "      <th>null_fraction_affected_90pct_center</th>\n",
       "      <th>null_fraction_affected_50pct_99CI_low</th>\n",
       "      <th>null_fraction_affected_50pct_99CI_high</th>\n",
       "      <th>null_fraction_affected_50pct_center</th>\n",
       "      <th>null_fraction_affected_10pct_99CI_low</th>\n",
       "      <th>null_fraction_affected_10pct_99CI_high</th>\n",
       "      <th>null_fraction_affected_10pct_center</th>\n",
       "    </tr>\n",
       "    <tr>\n",
       "      <th>is_DBD</th>\n",
       "      <th></th>\n",
       "      <th></th>\n",
       "      <th></th>\n",
       "      <th></th>\n",
       "      <th></th>\n",
       "      <th></th>\n",
       "      <th></th>\n",
       "      <th></th>\n",
       "      <th></th>\n",
       "      <th></th>\n",
       "      <th></th>\n",
       "      <th></th>\n",
       "      <th></th>\n",
       "      <th></th>\n",
       "      <th></th>\n",
       "      <th></th>\n",
       "      <th></th>\n",
       "      <th></th>\n",
       "      <th></th>\n",
       "      <th></th>\n",
       "      <th></th>\n",
       "      <th></th>\n",
       "      <th></th>\n",
       "      <th></th>\n",
       "      <th></th>\n",
       "      <th></th>\n",
       "    </tr>\n",
       "  </thead>\n",
       "  <tbody>\n",
       "    <tr>\n",
       "      <th>False</th>\n",
       "      <td>2326</td>\n",
       "      <td>1469.0</td>\n",
       "      <td>0.631556</td>\n",
       "      <td>878.0</td>\n",
       "      <td>0.377472</td>\n",
       "      <td>904.0</td>\n",
       "      <td>0.388650</td>\n",
       "      <td>1093.0</td>\n",
       "      <td>0.469905</td>\n",
       "      <td>1321.0</td>\n",
       "      <td>0.567928</td>\n",
       "      <td>0.605331</td>\n",
       "      <td>0.637145</td>\n",
       "      <td>0.621238</td>\n",
       "      <td>0.455288</td>\n",
       "      <td>0.484953</td>\n",
       "      <td>0.469905</td>\n",
       "      <td>0.460877</td>\n",
       "      <td>0.490542</td>\n",
       "      <td>0.475494</td>\n",
       "      <td>0.502150</td>\n",
       "      <td>0.532674</td>\n",
       "      <td>0.517197</td>\n",
       "      <td>0.567068</td>\n",
       "      <td>0.598882</td>\n",
       "      <td>0.582975</td>\n",
       "    </tr>\n",
       "    <tr>\n",
       "      <th>True</th>\n",
       "      <td>2148</td>\n",
       "      <td>986.0</td>\n",
       "      <td>0.459032</td>\n",
       "      <td>682.0</td>\n",
       "      <td>0.317505</td>\n",
       "      <td>693.0</td>\n",
       "      <td>0.322626</td>\n",
       "      <td>791.0</td>\n",
       "      <td>0.368250</td>\n",
       "      <td>928.0</td>\n",
       "      <td>0.432030</td>\n",
       "      <td>0.513035</td>\n",
       "      <td>0.547486</td>\n",
       "      <td>0.530261</td>\n",
       "      <td>0.377561</td>\n",
       "      <td>0.406425</td>\n",
       "      <td>0.391527</td>\n",
       "      <td>0.385475</td>\n",
       "      <td>0.414804</td>\n",
       "      <td>0.399907</td>\n",
       "      <td>0.425047</td>\n",
       "      <td>0.455773</td>\n",
       "      <td>0.440410</td>\n",
       "      <td>0.485568</td>\n",
       "      <td>0.518622</td>\n",
       "      <td>0.501862</td>\n",
       "    </tr>\n",
       "  </tbody>\n",
       "</table>\n",
       "</div>"
      ],
      "text/plain": [
       "        n_alt_iso  n_is_affected_at_all  f_is_affected_at_all  \\\n",
       "is_DBD                                                          \n",
       "False        2326                1469.0              0.631556   \n",
       "True         2148                 986.0              0.459032   \n",
       "\n",
       "        n_is_affected_100pct  f_is_affected_100pct  n_is_affected_90pct  \\\n",
       "is_DBD                                                                    \n",
       "False                  878.0              0.377472                904.0   \n",
       "True                   682.0              0.317505                693.0   \n",
       "\n",
       "        f_is_affected_90pct  n_is_affected_50pct  f_is_affected_50pct  \\\n",
       "is_DBD                                                                  \n",
       "False              0.388650               1093.0             0.469905   \n",
       "True               0.322626                791.0             0.368250   \n",
       "\n",
       "        n_is_affected_10pct  f_is_affected_10pct  \\\n",
       "is_DBD                                             \n",
       "False                1321.0             0.567928   \n",
       "True                  928.0             0.432030   \n",
       "\n",
       "        null_fraction_affected_at_all_99CI_low  \\\n",
       "is_DBD                                           \n",
       "False                                 0.605331   \n",
       "True                                  0.513035   \n",
       "\n",
       "        null_fraction_affected_at_all_99CI_high  \\\n",
       "is_DBD                                            \n",
       "False                                  0.637145   \n",
       "True                                   0.547486   \n",
       "\n",
       "        null_fraction_affected_at_all_center  \\\n",
       "is_DBD                                         \n",
       "False                               0.621238   \n",
       "True                                0.530261   \n",
       "\n",
       "        null_fraction_affected_100pct_99CI_low  \\\n",
       "is_DBD                                           \n",
       "False                                 0.455288   \n",
       "True                                  0.377561   \n",
       "\n",
       "        null_fraction_affected_100pct_99CI_high  \\\n",
       "is_DBD                                            \n",
       "False                                  0.484953   \n",
       "True                                   0.406425   \n",
       "\n",
       "        null_fraction_affected_100pct_center  \\\n",
       "is_DBD                                         \n",
       "False                               0.469905   \n",
       "True                                0.391527   \n",
       "\n",
       "        null_fraction_affected_90pct_99CI_low  \\\n",
       "is_DBD                                          \n",
       "False                                0.460877   \n",
       "True                                 0.385475   \n",
       "\n",
       "        null_fraction_affected_90pct_99CI_high  \\\n",
       "is_DBD                                           \n",
       "False                                 0.490542   \n",
       "True                                  0.414804   \n",
       "\n",
       "        null_fraction_affected_90pct_center  \\\n",
       "is_DBD                                        \n",
       "False                              0.475494   \n",
       "True                               0.399907   \n",
       "\n",
       "        null_fraction_affected_50pct_99CI_low  \\\n",
       "is_DBD                                          \n",
       "False                                0.502150   \n",
       "True                                 0.425047   \n",
       "\n",
       "        null_fraction_affected_50pct_99CI_high  \\\n",
       "is_DBD                                           \n",
       "False                                 0.532674   \n",
       "True                                  0.455773   \n",
       "\n",
       "        null_fraction_affected_50pct_center  \\\n",
       "is_DBD                                        \n",
       "False                              0.517197   \n",
       "True                               0.440410   \n",
       "\n",
       "        null_fraction_affected_10pct_99CI_low  \\\n",
       "is_DBD                                          \n",
       "False                                0.567068   \n",
       "True                                 0.485568   \n",
       "\n",
       "        null_fraction_affected_10pct_99CI_high  \\\n",
       "is_DBD                                           \n",
       "False                                 0.598882   \n",
       "True                                  0.518622   \n",
       "\n",
       "        null_fraction_affected_10pct_center  \n",
       "is_DBD                                       \n",
       "False                              0.582975  \n",
       "True                               0.501862  "
      ]
     },
     "execution_count": 39,
     "metadata": {},
     "output_type": "execute_result"
    }
   ],
   "source": [
    "# all domains, all DBD, non-DBD\n",
    "doms = df.groupby('is_DBD')['alt_iso'].nunique().to_frame(name='n_alt_iso')\n",
    "for c in [c for c in df.columns if c.startswith('is_affected_')]:\n",
    "    doms['n_' + c] = (df.groupby(['is_DBD', 'alt_iso'])\n",
    "                        [c]\n",
    "                        .any()\n",
    "                        .sum(level='is_DBD'))\n",
    "    doms['f_' + c] = doms['n_' + c] / doms['n_alt_iso']\n",
    "\n",
    "\n",
    "doms = doms.sort_values('n_alt_iso', ascending=False)\n",
    "    \n",
    "def prob_or(probabilities):\n",
    "    return 1 - (np.prod(1 - probabilities))\n",
    "        \n",
    "\n",
    "def null_quantile(values, q):\n",
    "    n = len(values.values)\n",
    "    for i, v in enumerate(PoiBin(values.values).cdf(range(n + 1))):\n",
    "        if v >= q:\n",
    "            return i / n\n",
    "\n",
    "\n",
    "for null_col in [c for c in df.columns if c.startswith('null_fraction_')]:\n",
    "    null_p = (df.groupby(['is_DBD', 'alt_iso'])\n",
    "                [null_col]\n",
    "                .apply(prob_or))\n",
    "    doms[null_col + '_99CI_low'] = null_p.groupby('is_DBD').apply(null_quantile, 0.01)\n",
    "    doms[null_col + '_99CI_high'] = null_p.groupby('is_DBD').apply(null_quantile, 0.99)\n",
    "    doms[null_col + '_center'] = null_p.groupby('is_DBD').apply(null_quantile, 0.5)\n",
    "doms.head()"
   ]
  },
  {
   "cell_type": "code",
   "execution_count": 40,
   "metadata": {},
   "outputs": [],
   "source": [
    "df['category_a'] = np.nan\n",
    "df.loc[df['is_DBD'], 'category_a'] = 'DBD'\n",
    "df.loc[(df['category'] == 'Pfam_domain') & ~df['is_DBD'], 'category_a'] = 'Other Pfam domain'\n",
    "df.loc[(df['category'] == 'effector_domain'), 'category_a'] = 'Effector domain'"
   ]
  },
  {
   "cell_type": "code",
   "execution_count": 41,
   "metadata": {},
   "outputs": [
    {
     "data": {
      "text/html": [
       "<div>\n",
       "<style scoped>\n",
       "    .dataframe tbody tr th:only-of-type {\n",
       "        vertical-align: middle;\n",
       "    }\n",
       "\n",
       "    .dataframe tbody tr th {\n",
       "        vertical-align: top;\n",
       "    }\n",
       "\n",
       "    .dataframe thead th {\n",
       "        text-align: right;\n",
       "    }\n",
       "</style>\n",
       "<table border=\"1\" class=\"dataframe\">\n",
       "  <thead>\n",
       "    <tr style=\"text-align: right;\">\n",
       "      <th></th>\n",
       "      <th>n_alt_iso</th>\n",
       "      <th>n_is_affected_at_all</th>\n",
       "      <th>f_is_affected_at_all</th>\n",
       "      <th>n_is_affected_100pct</th>\n",
       "      <th>f_is_affected_100pct</th>\n",
       "      <th>n_is_affected_90pct</th>\n",
       "      <th>f_is_affected_90pct</th>\n",
       "      <th>n_is_affected_50pct</th>\n",
       "      <th>f_is_affected_50pct</th>\n",
       "      <th>n_is_affected_10pct</th>\n",
       "      <th>f_is_affected_10pct</th>\n",
       "      <th>null_fraction_affected_at_all_99CI_low</th>\n",
       "      <th>null_fraction_affected_at_all_99CI_high</th>\n",
       "      <th>null_fraction_affected_at_all_center</th>\n",
       "      <th>null_fraction_affected_100pct_99CI_low</th>\n",
       "      <th>null_fraction_affected_100pct_99CI_high</th>\n",
       "      <th>null_fraction_affected_100pct_center</th>\n",
       "      <th>null_fraction_affected_90pct_99CI_low</th>\n",
       "      <th>null_fraction_affected_90pct_99CI_high</th>\n",
       "      <th>null_fraction_affected_90pct_center</th>\n",
       "      <th>null_fraction_affected_50pct_99CI_low</th>\n",
       "      <th>null_fraction_affected_50pct_99CI_high</th>\n",
       "      <th>null_fraction_affected_50pct_center</th>\n",
       "      <th>null_fraction_affected_10pct_99CI_low</th>\n",
       "      <th>null_fraction_affected_10pct_99CI_high</th>\n",
       "      <th>null_fraction_affected_10pct_center</th>\n",
       "    </tr>\n",
       "    <tr>\n",
       "      <th>is_DBD</th>\n",
       "      <th></th>\n",
       "      <th></th>\n",
       "      <th></th>\n",
       "      <th></th>\n",
       "      <th></th>\n",
       "      <th></th>\n",
       "      <th></th>\n",
       "      <th></th>\n",
       "      <th></th>\n",
       "      <th></th>\n",
       "      <th></th>\n",
       "      <th></th>\n",
       "      <th></th>\n",
       "      <th></th>\n",
       "      <th></th>\n",
       "      <th></th>\n",
       "      <th></th>\n",
       "      <th></th>\n",
       "      <th></th>\n",
       "      <th></th>\n",
       "      <th></th>\n",
       "      <th></th>\n",
       "      <th></th>\n",
       "      <th></th>\n",
       "      <th></th>\n",
       "      <th></th>\n",
       "    </tr>\n",
       "  </thead>\n",
       "  <tbody>\n",
       "    <tr>\n",
       "      <th>False</th>\n",
       "      <td>2326</td>\n",
       "      <td>1469.0</td>\n",
       "      <td>0.631556</td>\n",
       "      <td>878.0</td>\n",
       "      <td>0.377472</td>\n",
       "      <td>904.0</td>\n",
       "      <td>0.388650</td>\n",
       "      <td>1093.0</td>\n",
       "      <td>0.469905</td>\n",
       "      <td>1321.0</td>\n",
       "      <td>0.567928</td>\n",
       "      <td>0.605331</td>\n",
       "      <td>0.637145</td>\n",
       "      <td>0.621238</td>\n",
       "      <td>0.455288</td>\n",
       "      <td>0.484953</td>\n",
       "      <td>0.469905</td>\n",
       "      <td>0.460877</td>\n",
       "      <td>0.490542</td>\n",
       "      <td>0.475494</td>\n",
       "      <td>0.502150</td>\n",
       "      <td>0.532674</td>\n",
       "      <td>0.517197</td>\n",
       "      <td>0.567068</td>\n",
       "      <td>0.598882</td>\n",
       "      <td>0.582975</td>\n",
       "    </tr>\n",
       "    <tr>\n",
       "      <th>True</th>\n",
       "      <td>2148</td>\n",
       "      <td>986.0</td>\n",
       "      <td>0.459032</td>\n",
       "      <td>682.0</td>\n",
       "      <td>0.317505</td>\n",
       "      <td>693.0</td>\n",
       "      <td>0.322626</td>\n",
       "      <td>791.0</td>\n",
       "      <td>0.368250</td>\n",
       "      <td>928.0</td>\n",
       "      <td>0.432030</td>\n",
       "      <td>0.513035</td>\n",
       "      <td>0.547486</td>\n",
       "      <td>0.530261</td>\n",
       "      <td>0.377561</td>\n",
       "      <td>0.406425</td>\n",
       "      <td>0.391527</td>\n",
       "      <td>0.385475</td>\n",
       "      <td>0.414804</td>\n",
       "      <td>0.399907</td>\n",
       "      <td>0.425047</td>\n",
       "      <td>0.455773</td>\n",
       "      <td>0.440410</td>\n",
       "      <td>0.485568</td>\n",
       "      <td>0.518622</td>\n",
       "      <td>0.501862</td>\n",
       "    </tr>\n",
       "  </tbody>\n",
       "</table>\n",
       "</div>"
      ],
      "text/plain": [
       "        n_alt_iso  n_is_affected_at_all  f_is_affected_at_all  \\\n",
       "is_DBD                                                          \n",
       "False        2326                1469.0              0.631556   \n",
       "True         2148                 986.0              0.459032   \n",
       "\n",
       "        n_is_affected_100pct  f_is_affected_100pct  n_is_affected_90pct  \\\n",
       "is_DBD                                                                    \n",
       "False                  878.0              0.377472                904.0   \n",
       "True                   682.0              0.317505                693.0   \n",
       "\n",
       "        f_is_affected_90pct  n_is_affected_50pct  f_is_affected_50pct  \\\n",
       "is_DBD                                                                  \n",
       "False              0.388650               1093.0             0.469905   \n",
       "True               0.322626                791.0             0.368250   \n",
       "\n",
       "        n_is_affected_10pct  f_is_affected_10pct  \\\n",
       "is_DBD                                             \n",
       "False                1321.0             0.567928   \n",
       "True                  928.0             0.432030   \n",
       "\n",
       "        null_fraction_affected_at_all_99CI_low  \\\n",
       "is_DBD                                           \n",
       "False                                 0.605331   \n",
       "True                                  0.513035   \n",
       "\n",
       "        null_fraction_affected_at_all_99CI_high  \\\n",
       "is_DBD                                            \n",
       "False                                  0.637145   \n",
       "True                                   0.547486   \n",
       "\n",
       "        null_fraction_affected_at_all_center  \\\n",
       "is_DBD                                         \n",
       "False                               0.621238   \n",
       "True                                0.530261   \n",
       "\n",
       "        null_fraction_affected_100pct_99CI_low  \\\n",
       "is_DBD                                           \n",
       "False                                 0.455288   \n",
       "True                                  0.377561   \n",
       "\n",
       "        null_fraction_affected_100pct_99CI_high  \\\n",
       "is_DBD                                            \n",
       "False                                  0.484953   \n",
       "True                                   0.406425   \n",
       "\n",
       "        null_fraction_affected_100pct_center  \\\n",
       "is_DBD                                         \n",
       "False                               0.469905   \n",
       "True                                0.391527   \n",
       "\n",
       "        null_fraction_affected_90pct_99CI_low  \\\n",
       "is_DBD                                          \n",
       "False                                0.460877   \n",
       "True                                 0.385475   \n",
       "\n",
       "        null_fraction_affected_90pct_99CI_high  \\\n",
       "is_DBD                                           \n",
       "False                                 0.490542   \n",
       "True                                  0.414804   \n",
       "\n",
       "        null_fraction_affected_90pct_center  \\\n",
       "is_DBD                                        \n",
       "False                              0.475494   \n",
       "True                               0.399907   \n",
       "\n",
       "        null_fraction_affected_50pct_99CI_low  \\\n",
       "is_DBD                                          \n",
       "False                                0.502150   \n",
       "True                                 0.425047   \n",
       "\n",
       "        null_fraction_affected_50pct_99CI_high  \\\n",
       "is_DBD                                           \n",
       "False                                 0.532674   \n",
       "True                                  0.455773   \n",
       "\n",
       "        null_fraction_affected_50pct_center  \\\n",
       "is_DBD                                        \n",
       "False                              0.517197   \n",
       "True                               0.440410   \n",
       "\n",
       "        null_fraction_affected_10pct_99CI_low  \\\n",
       "is_DBD                                          \n",
       "False                                0.567068   \n",
       "True                                 0.485568   \n",
       "\n",
       "        null_fraction_affected_10pct_99CI_high  \\\n",
       "is_DBD                                           \n",
       "False                                 0.598882   \n",
       "True                                  0.518622   \n",
       "\n",
       "        null_fraction_affected_10pct_center  \n",
       "is_DBD                                       \n",
       "False                              0.582975  \n",
       "True                               0.501862  "
      ]
     },
     "execution_count": 41,
     "metadata": {},
     "output_type": "execute_result"
    }
   ],
   "source": [
    "doms.head()"
   ]
  },
  {
   "cell_type": "code",
   "execution_count": 42,
   "metadata": {},
   "outputs": [
    {
     "ename": "NameError",
     "evalue": "name 'dom_affected_levels' is not defined",
     "output_type": "error",
     "traceback": [
      "\u001b[0;31m---------------------------------------------------------------------------\u001b[0m",
      "\u001b[0;31mNameError\u001b[0m                                 Traceback (most recent call last)",
      "\u001b[0;32m<ipython-input-42-3ba3de5aa0dc>\u001b[0m in \u001b[0;36m<module>\u001b[0;34m\u001b[0m\n\u001b[1;32m     30\u001b[0m \u001b[0;34m\u001b[0m\u001b[0m\n\u001b[1;32m     31\u001b[0m \u001b[0mdata\u001b[0m \u001b[0;34m=\u001b[0m \u001b[0mdoms\u001b[0m\u001b[0;34m.\u001b[0m\u001b[0mcopy\u001b[0m\u001b[0;34m(\u001b[0m\u001b[0;34m)\u001b[0m\u001b[0;34m\u001b[0m\u001b[0;34m\u001b[0m\u001b[0m\n\u001b[0;32m---> 32\u001b[0;31m \u001b[0;32mfor\u001b[0m \u001b[0mlevel\u001b[0m \u001b[0;32min\u001b[0m \u001b[0mdom_affected_levels\u001b[0m\u001b[0;34m:\u001b[0m\u001b[0;34m\u001b[0m\u001b[0;34m\u001b[0m\u001b[0m\n\u001b[0m\u001b[1;32m     33\u001b[0m         \u001b[0mfig\u001b[0m\u001b[0;34m,\u001b[0m \u001b[0max\u001b[0m \u001b[0;34m=\u001b[0m \u001b[0mplt\u001b[0m\u001b[0;34m.\u001b[0m\u001b[0msubplots\u001b[0m\u001b[0;34m(\u001b[0m\u001b[0;36m1\u001b[0m\u001b[0;34m,\u001b[0m \u001b[0;36m1\u001b[0m\u001b[0;34m)\u001b[0m\u001b[0;34m\u001b[0m\u001b[0;34m\u001b[0m\u001b[0m\n\u001b[1;32m     34\u001b[0m         \u001b[0mfig\u001b[0m\u001b[0;34m.\u001b[0m\u001b[0mset_size_inches\u001b[0m\u001b[0;34m(\u001b[0m\u001b[0;36m3\u001b[0m\u001b[0;34m,\u001b[0m \u001b[0;36m0.6\u001b[0m\u001b[0;34m)\u001b[0m\u001b[0;34m\u001b[0m\u001b[0;34m\u001b[0m\u001b[0m\n",
      "\u001b[0;31mNameError\u001b[0m: name 'dom_affected_levels' is not defined"
     ]
    }
   ],
   "source": [
    "# split pfam into dbd and \n",
    "doms = df.groupby('category_a')['alt_iso'].nunique().to_frame(name='n_alt_iso')\n",
    "for c in [c for c in df.columns if c.startswith('is_affected_')]:\n",
    "    doms['n_' + c] = (df.groupby(['category_a', 'alt_iso'])\n",
    "                        [c]\n",
    "                        .any()\n",
    "                        .sum(level='category_a'))\n",
    "    doms['f_' + c] = doms['n_' + c] / doms['n_alt_iso']\n",
    "doms = doms.sort_values('n_alt_iso', ascending=False)\n",
    "\n",
    "    \n",
    "def prob_or(probabilities):\n",
    "    return 1 - (np.prod(1 - probabilities))\n",
    "        \n",
    "\n",
    "def null_quantile(values, q):\n",
    "    n = len(values.values)\n",
    "    for i, v in enumerate(PoiBin(values.values).cdf(range(n + 1))):\n",
    "        if v >= q:\n",
    "            return i / n\n",
    "\n",
    "\n",
    "for null_col in [c for c in df.columns if c.startswith('null_fraction_')]:\n",
    "    null_p = (df.groupby(['category_a', 'alt_iso'])\n",
    "                [null_col]\n",
    "                .apply(prob_or))\n",
    "    doms[null_col + '_99CI_low'] = null_p.groupby('category_a').apply(null_quantile, 0.01)\n",
    "    doms[null_col + '_99CI_high'] = null_p.groupby('category_a').apply(null_quantile, 0.99)\n",
    "    doms[null_col + '_center'] = null_p.groupby('category_a').apply(null_quantile, 0.5)\n",
    "\n",
    "data = doms.copy()\n",
    "for level in dom_affected_levels:\n",
    "        fig, ax = plt.subplots(1, 1)\n",
    "        fig.set_size_inches(3, 0.6)\n",
    "        # removing C2H2-ZF clan becuase we look at the ZF arrays instead\n",
    "        ax.barh(data.index, \n",
    "                data[f'f_is_{level}'].values * 100,\n",
    "                label='Observed values')\n",
    "        ax.errorbar(y=data.index,\n",
    "                x=data[f'null_fraction_{level}_center'].values * 100,\n",
    "                xerr=[(data[f'null_fraction_{level}_center'] - data[f'null_fraction_{level}_99CI_low']).values * 100,\n",
    "                        (data[f'null_fraction_{level}_99CI_high'] - data[f'null_fraction_{level}_center']).values * 100],\n",
    "                                fmt='none',\n",
    "                                capsize=3,\n",
    "                                color='black',\n",
    "                                label='Null distribution: 99% CI')\n",
    "        ax.legend(loc='upper left', \n",
    "                bbox_to_anchor=(1, 1))\n",
    "        ax.set_xlim(0, 100)\n",
    "        ax.set_ylim(ax.get_ylim()[::-1])\n",
    "        ax.yaxis.set_tick_params(length=0)\n",
    "        ax.spines['right'].set_visible(False)\n",
    "        ax.spines['bottom'].set_visible(False)\n",
    "        ax.spines['left'].set_visible(False)\n",
    "        ax.xaxis.tick_top()\n",
    "        ax.set_xlabel(f'Fraction of alternative isoforms with {level_desc[level]}')\n",
    "        ax.xaxis.set_label_position('top')\n",
    "        ax.set_xticks(range(0, 101, 20))\n",
    "        ax.set_xticks(range(0, 101, 10), minor=True)\n",
    "        plt.savefig(f'../figures/domain_categories_{level}.pdf'.format(level),\n",
    "                bbox_inches='tight')"
   ]
  },
  {
   "cell_type": "code",
   "execution_count": 43,
   "metadata": {},
   "outputs": [],
   "source": [
    "# split effector domain into AD/RD/BiF\n",
    "path_effector_domains = '../data/external/Soto-et-al_MolCell_2022_Supplementary-tables.xlsx'\n",
    "reg_dom = pd.read_excel(path_effector_domains, sheet_name=\"Table S2\")\n",
    "df['effector_domain_type'] = df['accession'].map(reg_dom.set_index('Effector domain ID')['Domain type'])"
   ]
  },
  {
   "cell_type": "code",
   "execution_count": 44,
   "metadata": {},
   "outputs": [
    {
     "ename": "NameError",
     "evalue": "name 'dom_affected_levels' is not defined",
     "output_type": "error",
     "traceback": [
      "\u001b[0;31m---------------------------------------------------------------------------\u001b[0m",
      "\u001b[0;31mNameError\u001b[0m                                 Traceback (most recent call last)",
      "\u001b[0;32m<ipython-input-44-7c2c2736fa95>\u001b[0m in \u001b[0;36m<module>\u001b[0;34m\u001b[0m\n\u001b[1;32m     28\u001b[0m \u001b[0;34m\u001b[0m\u001b[0m\n\u001b[1;32m     29\u001b[0m \u001b[0mdata\u001b[0m \u001b[0;34m=\u001b[0m \u001b[0mdoms\u001b[0m\u001b[0;34m.\u001b[0m\u001b[0mcopy\u001b[0m\u001b[0;34m(\u001b[0m\u001b[0;34m)\u001b[0m\u001b[0;34m\u001b[0m\u001b[0;34m\u001b[0m\u001b[0m\n\u001b[0;32m---> 30\u001b[0;31m \u001b[0;32mfor\u001b[0m \u001b[0mlevel\u001b[0m \u001b[0;32min\u001b[0m \u001b[0mdom_affected_levels\u001b[0m\u001b[0;34m:\u001b[0m\u001b[0;34m\u001b[0m\u001b[0;34m\u001b[0m\u001b[0m\n\u001b[0m\u001b[1;32m     31\u001b[0m         \u001b[0mfig\u001b[0m\u001b[0;34m,\u001b[0m \u001b[0max\u001b[0m \u001b[0;34m=\u001b[0m \u001b[0mplt\u001b[0m\u001b[0;34m.\u001b[0m\u001b[0msubplots\u001b[0m\u001b[0;34m(\u001b[0m\u001b[0;36m1\u001b[0m\u001b[0;34m,\u001b[0m \u001b[0;36m1\u001b[0m\u001b[0;34m)\u001b[0m\u001b[0;34m\u001b[0m\u001b[0;34m\u001b[0m\u001b[0m\n\u001b[1;32m     32\u001b[0m         \u001b[0mfig\u001b[0m\u001b[0;34m.\u001b[0m\u001b[0mset_size_inches\u001b[0m\u001b[0;34m(\u001b[0m\u001b[0;36m3\u001b[0m\u001b[0;34m,\u001b[0m \u001b[0;36m0.6\u001b[0m\u001b[0;34m)\u001b[0m\u001b[0;34m\u001b[0m\u001b[0;34m\u001b[0m\u001b[0m\n",
      "\u001b[0;31mNameError\u001b[0m: name 'dom_affected_levels' is not defined"
     ]
    }
   ],
   "source": [
    "doms = df.groupby('effector_domain_type')['alt_iso'].nunique().to_frame(name='n_alt_iso')\n",
    "for c in [c for c in df.columns if c.startswith('is_affected_')]:\n",
    "    doms['n_' + c] = (df.groupby(['effector_domain_type', 'alt_iso'])\n",
    "                        [c]\n",
    "                        .any()\n",
    "                        .sum(level='effector_domain_type'))\n",
    "    doms['f_' + c] = doms['n_' + c] / doms['n_alt_iso']\n",
    "doms = doms.sort_values('n_alt_iso', ascending=False)\n",
    "    \n",
    "def prob_or(probabilities):\n",
    "    return 1 - (np.prod(1 - probabilities))\n",
    "        \n",
    "\n",
    "def null_quantile(values, q):\n",
    "    n = len(values.values)\n",
    "    for i, v in enumerate(PoiBin(values.values).cdf(range(n + 1))):\n",
    "        if v >= q:\n",
    "            return i / n\n",
    "\n",
    "\n",
    "for null_col in [c for c in df.columns if c.startswith('null_fraction_')]:\n",
    "    null_p = (df.groupby(['effector_domain_type', 'alt_iso'])\n",
    "                [null_col]\n",
    "                .apply(prob_or))\n",
    "    doms[null_col + '_99CI_low'] = null_p.groupby('effector_domain_type').apply(null_quantile, 0.01)\n",
    "    doms[null_col + '_99CI_high'] = null_p.groupby('effector_domain_type').apply(null_quantile, 0.99)\n",
    "    doms[null_col + '_center'] = null_p.groupby('effector_domain_type').apply(null_quantile, 0.5)\n",
    "\n",
    "data = doms.copy()\n",
    "for level in dom_affected_levels:\n",
    "        fig, ax = plt.subplots(1, 1)\n",
    "        fig.set_size_inches(3, 0.6)\n",
    "        # removing C2H2-ZF clan becuase we look at the ZF arrays instead\n",
    "        ax.barh(data.index, \n",
    "                data[f'f_is_{level}'].values * 100,\n",
    "                label='Observed values')\n",
    "        ax.errorbar(y=data.index,\n",
    "                x=data[f'null_fraction_{level}_center'].values * 100,\n",
    "                xerr=[(data[f'null_fraction_{level}_center'] - data[f'null_fraction_{level}_99CI_low']).values * 100,\n",
    "                        (data[f'null_fraction_{level}_99CI_high'] - data[f'null_fraction_{level}_center']).values * 100],\n",
    "                                fmt='none',\n",
    "                                capsize=3,\n",
    "                                color='black',\n",
    "                                label='Null distribution: 99% CI')\n",
    "        ax.legend(loc='upper left', \n",
    "                bbox_to_anchor=(1, 1))\n",
    "        ax.set_xlim(0, 100)\n",
    "        ax.set_ylim(ax.get_ylim()[::-1])\n",
    "        ax.yaxis.set_tick_params(length=0)\n",
    "        ax.spines['right'].set_visible(False)\n",
    "        ax.spines['bottom'].set_visible(False)\n",
    "        ax.spines['left'].set_visible(False)\n",
    "        ax.xaxis.tick_top()\n",
    "        ax.set_xlabel(f'Fraction of alternative isoforms with {level_desc[level]}')\n",
    "        ax.xaxis.set_label_position('top')\n",
    "        ax.set_xticks(range(0, 101, 20))\n",
    "        ax.set_xticks(range(0, 101, 10), minor=True)\n",
    "        plt.savefig(f'../figures/effector_domain_categories_{level}.pdf'.format(level),\n",
    "                bbox_inches='tight')"
   ]
  },
  {
   "cell_type": "code",
   "execution_count": 45,
   "metadata": {},
   "outputs": [
    {
     "data": {
      "text/plain": [
       "S          351\n",
       "N          239\n",
       "N and S    214\n",
       "Name: N or S?, dtype: int64"
      ]
     },
     "execution_count": 45,
     "metadata": {},
     "output_type": "execute_result"
    }
   ],
   "source": [
    "reg_dom['N or S?'].value_counts()"
   ]
  },
  {
   "cell_type": "code",
   "execution_count": 46,
   "metadata": {},
   "outputs": [],
   "source": [
    "df['effector_domain_N_or_S'] = df['accession'].map(reg_dom.set_index('Effector domain ID')['N or S?'])"
   ]
  },
  {
   "cell_type": "code",
   "execution_count": 47,
   "metadata": {},
   "outputs": [],
   "source": [
    "def domain_affected_plots(df, column, order=None):\n",
    "    doms = df.groupby(column)['alt_iso'].nunique().to_frame(name='n_alt_iso')\n",
    "    for c in [c for c in df.columns if c.startswith('is_affected_')]:\n",
    "        doms['n_' + c] = (df.groupby([column, 'alt_iso'])\n",
    "                            [c]\n",
    "                            .any()\n",
    "                            .sum(level=column))\n",
    "        doms['f_' + c] = doms['n_' + c] / doms['n_alt_iso']\n",
    "    doms = doms.sort_values('n_alt_iso', ascending=False)\n",
    "        \n",
    "    def prob_or(probabilities):\n",
    "        return 1 - (np.prod(1 - probabilities))\n",
    "            \n",
    "\n",
    "    def null_quantile(values, q):\n",
    "        n = len(values.values)\n",
    "        for i, v in enumerate(PoiBin(values.values).cdf(range(n + 1))):\n",
    "            if v >= q:\n",
    "                return i / n\n",
    "\n",
    "\n",
    "    for null_col in [c for c in df.columns if c.startswith('null_fraction_')]:\n",
    "        null_p = (df.groupby([column, 'alt_iso'])\n",
    "                    [null_col]\n",
    "                    .apply(prob_or))\n",
    "        doms[null_col + '_99CI_low'] = null_p.groupby(column).apply(null_quantile, 0.01)\n",
    "        doms[null_col + '_99CI_high'] = null_p.groupby(column).apply(null_quantile, 0.99)\n",
    "        doms[null_col + '_center'] = null_p.groupby(column).apply(null_quantile, 0.5)\n",
    "\n",
    "    data = doms.copy()\n",
    "    if order is not None:\n",
    "        data = data.loc[order]\n",
    "    for level in dom_affected_levels:\n",
    "        fig, ax = plt.subplots(1, 1)\n",
    "        fig.set_size_inches(w=3, h=0.15 * (data.shape[0] + 2))\n",
    "        # removing C2H2-ZF clan becuase we look at the ZF arrays instead\n",
    "        ax.barh(data.index, \n",
    "                data[f'f_is_{level}'].values * 100,\n",
    "                label='Observed values')\n",
    "        ax.errorbar(y=data.index,\n",
    "                x=data[f'null_fraction_{level}_center'].values * 100,\n",
    "                xerr=[(data[f'null_fraction_{level}_center'] - data[f'null_fraction_{level}_99CI_low']).values * 100,\n",
    "                        (data[f'null_fraction_{level}_99CI_high'] - data[f'null_fraction_{level}_center']).values * 100],\n",
    "                                fmt='none',\n",
    "                                capsize=3,\n",
    "                                color='black',\n",
    "                                label='Null distribution: 99% CI')\n",
    "        ax.legend(loc='upper left', \n",
    "                bbox_to_anchor=(1, 1))\n",
    "        ax.set_xlim(0, 100)\n",
    "        ax.set_ylim(ax.get_ylim()[::-1])\n",
    "        ax.yaxis.set_tick_params(length=0)\n",
    "        ax.spines['right'].set_visible(False)\n",
    "        ax.spines['bottom'].set_visible(False)\n",
    "        ax.spines['left'].set_visible(False)\n",
    "        ax.xaxis.tick_top()\n",
    "        ax.set_xlabel(f'Fraction of alternative isoforms with {level_desc[level]}')\n",
    "        ax.xaxis.set_label_position('top')\n",
    "        ax.set_xticks(range(0, 101, 20))\n",
    "        ax.set_xticks(range(0, 101, 10), minor=True)\n",
    "        plt.savefig(f'../figures/{column}_{level}.pdf'.format(level),\n",
    "                bbox_inches='tight')"
   ]
  },
  {
   "cell_type": "code",
   "execution_count": 48,
   "metadata": {},
   "outputs": [
    {
     "ename": "NameError",
     "evalue": "name 'dom_affected_levels' is not defined",
     "output_type": "error",
     "traceback": [
      "\u001b[0;31m---------------------------------------------------------------------------\u001b[0m",
      "\u001b[0;31mNameError\u001b[0m                                 Traceback (most recent call last)",
      "\u001b[0;32m<ipython-input-48-14cd53b8094c>\u001b[0m in \u001b[0;36m<module>\u001b[0;34m\u001b[0m\n\u001b[1;32m      1\u001b[0m \u001b[0mdf\u001b[0m\u001b[0;34m[\u001b[0m\u001b[0;34m'effector_domain_necessary_or_sufficient'\u001b[0m\u001b[0;34m]\u001b[0m \u001b[0;34m=\u001b[0m \u001b[0mdf\u001b[0m\u001b[0;34m[\u001b[0m\u001b[0;34m'accession'\u001b[0m\u001b[0;34m]\u001b[0m\u001b[0;34m.\u001b[0m\u001b[0mmap\u001b[0m\u001b[0;34m(\u001b[0m\u001b[0mreg_dom\u001b[0m\u001b[0;34m.\u001b[0m\u001b[0mset_index\u001b[0m\u001b[0;34m(\u001b[0m\u001b[0;34m'Effector domain ID'\u001b[0m\u001b[0;34m)\u001b[0m\u001b[0;34m[\u001b[0m\u001b[0;34m'N or S?'\u001b[0m\u001b[0;34m]\u001b[0m\u001b[0;34m)\u001b[0m\u001b[0;34m\u001b[0m\u001b[0;34m\u001b[0m\u001b[0m\n\u001b[0;32m----> 2\u001b[0;31m \u001b[0mdomain_affected_plots\u001b[0m\u001b[0;34m(\u001b[0m\u001b[0mdf\u001b[0m\u001b[0;34m,\u001b[0m \u001b[0;34m'effector_domain_necessary_or_sufficient'\u001b[0m\u001b[0;34m)\u001b[0m\u001b[0;34m\u001b[0m\u001b[0;34m\u001b[0m\u001b[0m\n\u001b[0m",
      "\u001b[0;32m<ipython-input-47-ee37946c1dce>\u001b[0m in \u001b[0;36mdomain_affected_plots\u001b[0;34m(df, column, order)\u001b[0m\n\u001b[1;32m     31\u001b[0m     \u001b[0;32mif\u001b[0m \u001b[0morder\u001b[0m \u001b[0;32mis\u001b[0m \u001b[0;32mnot\u001b[0m \u001b[0;32mNone\u001b[0m\u001b[0;34m:\u001b[0m\u001b[0;34m\u001b[0m\u001b[0;34m\u001b[0m\u001b[0m\n\u001b[1;32m     32\u001b[0m         \u001b[0mdata\u001b[0m \u001b[0;34m=\u001b[0m \u001b[0mdata\u001b[0m\u001b[0;34m.\u001b[0m\u001b[0mloc\u001b[0m\u001b[0;34m[\u001b[0m\u001b[0morder\u001b[0m\u001b[0;34m]\u001b[0m\u001b[0;34m\u001b[0m\u001b[0;34m\u001b[0m\u001b[0m\n\u001b[0;32m---> 33\u001b[0;31m     \u001b[0;32mfor\u001b[0m \u001b[0mlevel\u001b[0m \u001b[0;32min\u001b[0m \u001b[0mdom_affected_levels\u001b[0m\u001b[0;34m:\u001b[0m\u001b[0;34m\u001b[0m\u001b[0;34m\u001b[0m\u001b[0m\n\u001b[0m\u001b[1;32m     34\u001b[0m         \u001b[0mfig\u001b[0m\u001b[0;34m,\u001b[0m \u001b[0max\u001b[0m \u001b[0;34m=\u001b[0m \u001b[0mplt\u001b[0m\u001b[0;34m.\u001b[0m\u001b[0msubplots\u001b[0m\u001b[0;34m(\u001b[0m\u001b[0;36m1\u001b[0m\u001b[0;34m,\u001b[0m \u001b[0;36m1\u001b[0m\u001b[0;34m)\u001b[0m\u001b[0;34m\u001b[0m\u001b[0;34m\u001b[0m\u001b[0m\n\u001b[1;32m     35\u001b[0m         \u001b[0mfig\u001b[0m\u001b[0;34m.\u001b[0m\u001b[0mset_size_inches\u001b[0m\u001b[0;34m(\u001b[0m\u001b[0mw\u001b[0m\u001b[0;34m=\u001b[0m\u001b[0;36m3\u001b[0m\u001b[0;34m,\u001b[0m \u001b[0mh\u001b[0m\u001b[0;34m=\u001b[0m\u001b[0;36m0.15\u001b[0m \u001b[0;34m*\u001b[0m \u001b[0;34m(\u001b[0m\u001b[0mdata\u001b[0m\u001b[0;34m.\u001b[0m\u001b[0mshape\u001b[0m\u001b[0;34m[\u001b[0m\u001b[0;36m0\u001b[0m\u001b[0;34m]\u001b[0m \u001b[0;34m+\u001b[0m \u001b[0;36m2\u001b[0m\u001b[0;34m)\u001b[0m\u001b[0;34m)\u001b[0m\u001b[0;34m\u001b[0m\u001b[0;34m\u001b[0m\u001b[0m\n",
      "\u001b[0;31mNameError\u001b[0m: name 'dom_affected_levels' is not defined"
     ]
    }
   ],
   "source": [
    "df['effector_domain_necessary_or_sufficient'] = df['accession'].map(reg_dom.set_index('Effector domain ID')['N or S?'])\n",
    "domain_affected_plots(df, 'effector_domain_necessary_or_sufficient')"
   ]
  },
  {
   "cell_type": "code",
   "execution_count": 49,
   "metadata": {},
   "outputs": [
    {
     "data": {
      "text/plain": [
       "H    532\n",
       "M    275\n",
       "L    116\n",
       "Name: Confidence (H, M or L), dtype: int64"
      ]
     },
     "execution_count": 49,
     "metadata": {},
     "output_type": "execute_result"
    }
   ],
   "source": [
    "reg_dom['Confidence (H, M or L)'].value_counts()"
   ]
  },
  {
   "cell_type": "code",
   "execution_count": 50,
   "metadata": {},
   "outputs": [
    {
     "ename": "NameError",
     "evalue": "name 'dom_affected_levels' is not defined",
     "output_type": "error",
     "traceback": [
      "\u001b[0;31m---------------------------------------------------------------------------\u001b[0m",
      "\u001b[0;31mNameError\u001b[0m                                 Traceback (most recent call last)",
      "\u001b[0;32m<ipython-input-50-f22324d943b9>\u001b[0m in \u001b[0;36m<module>\u001b[0;34m\u001b[0m\n\u001b[1;32m      1\u001b[0m \u001b[0mdf\u001b[0m\u001b[0;34m[\u001b[0m\u001b[0;34m'effector_domain_confidence'\u001b[0m\u001b[0;34m]\u001b[0m \u001b[0;34m=\u001b[0m \u001b[0mdf\u001b[0m\u001b[0;34m[\u001b[0m\u001b[0;34m'accession'\u001b[0m\u001b[0;34m]\u001b[0m\u001b[0;34m.\u001b[0m\u001b[0mmap\u001b[0m\u001b[0;34m(\u001b[0m\u001b[0mreg_dom\u001b[0m\u001b[0;34m.\u001b[0m\u001b[0mset_index\u001b[0m\u001b[0;34m(\u001b[0m\u001b[0;34m'Effector domain ID'\u001b[0m\u001b[0;34m)\u001b[0m\u001b[0;34m[\u001b[0m\u001b[0;34m'Confidence (H, M or L)'\u001b[0m\u001b[0;34m]\u001b[0m\u001b[0;34m)\u001b[0m\u001b[0;34m\u001b[0m\u001b[0;34m\u001b[0m\u001b[0m\n\u001b[0;32m----> 2\u001b[0;31m \u001b[0mdomain_affected_plots\u001b[0m\u001b[0;34m(\u001b[0m\u001b[0mdf\u001b[0m\u001b[0;34m,\u001b[0m \u001b[0;34m'effector_domain_confidence'\u001b[0m\u001b[0;34m)\u001b[0m\u001b[0;34m\u001b[0m\u001b[0;34m\u001b[0m\u001b[0m\n\u001b[0m",
      "\u001b[0;32m<ipython-input-47-ee37946c1dce>\u001b[0m in \u001b[0;36mdomain_affected_plots\u001b[0;34m(df, column, order)\u001b[0m\n\u001b[1;32m     31\u001b[0m     \u001b[0;32mif\u001b[0m \u001b[0morder\u001b[0m \u001b[0;32mis\u001b[0m \u001b[0;32mnot\u001b[0m \u001b[0;32mNone\u001b[0m\u001b[0;34m:\u001b[0m\u001b[0;34m\u001b[0m\u001b[0;34m\u001b[0m\u001b[0m\n\u001b[1;32m     32\u001b[0m         \u001b[0mdata\u001b[0m \u001b[0;34m=\u001b[0m \u001b[0mdata\u001b[0m\u001b[0;34m.\u001b[0m\u001b[0mloc\u001b[0m\u001b[0;34m[\u001b[0m\u001b[0morder\u001b[0m\u001b[0;34m]\u001b[0m\u001b[0;34m\u001b[0m\u001b[0;34m\u001b[0m\u001b[0m\n\u001b[0;32m---> 33\u001b[0;31m     \u001b[0;32mfor\u001b[0m \u001b[0mlevel\u001b[0m \u001b[0;32min\u001b[0m \u001b[0mdom_affected_levels\u001b[0m\u001b[0;34m:\u001b[0m\u001b[0;34m\u001b[0m\u001b[0;34m\u001b[0m\u001b[0m\n\u001b[0m\u001b[1;32m     34\u001b[0m         \u001b[0mfig\u001b[0m\u001b[0;34m,\u001b[0m \u001b[0max\u001b[0m \u001b[0;34m=\u001b[0m \u001b[0mplt\u001b[0m\u001b[0;34m.\u001b[0m\u001b[0msubplots\u001b[0m\u001b[0;34m(\u001b[0m\u001b[0;36m1\u001b[0m\u001b[0;34m,\u001b[0m \u001b[0;36m1\u001b[0m\u001b[0;34m)\u001b[0m\u001b[0;34m\u001b[0m\u001b[0;34m\u001b[0m\u001b[0m\n\u001b[1;32m     35\u001b[0m         \u001b[0mfig\u001b[0m\u001b[0;34m.\u001b[0m\u001b[0mset_size_inches\u001b[0m\u001b[0;34m(\u001b[0m\u001b[0mw\u001b[0m\u001b[0;34m=\u001b[0m\u001b[0;36m3\u001b[0m\u001b[0;34m,\u001b[0m \u001b[0mh\u001b[0m\u001b[0;34m=\u001b[0m\u001b[0;36m0.15\u001b[0m \u001b[0;34m*\u001b[0m \u001b[0;34m(\u001b[0m\u001b[0mdata\u001b[0m\u001b[0;34m.\u001b[0m\u001b[0mshape\u001b[0m\u001b[0;34m[\u001b[0m\u001b[0;36m0\u001b[0m\u001b[0;34m]\u001b[0m \u001b[0;34m+\u001b[0m \u001b[0;36m2\u001b[0m\u001b[0;34m)\u001b[0m\u001b[0;34m)\u001b[0m\u001b[0;34m\u001b[0m\u001b[0;34m\u001b[0m\u001b[0m\n",
      "\u001b[0;31mNameError\u001b[0m: name 'dom_affected_levels' is not defined"
     ]
    }
   ],
   "source": [
    "df['effector_domain_confidence'] = df['accession'].map(reg_dom.set_index('Effector domain ID')['Confidence (H, M or L)'])\n",
    "domain_affected_plots(df, 'effector_domain_confidence')\n"
   ]
  },
  {
   "cell_type": "code",
   "execution_count": 51,
   "metadata": {},
   "outputs": [
    {
     "ename": "NameError",
     "evalue": "name 'dom_affected_levels' is not defined",
     "output_type": "error",
     "traceback": [
      "\u001b[0;31m---------------------------------------------------------------------------\u001b[0m",
      "\u001b[0;31mNameError\u001b[0m                                 Traceback (most recent call last)",
      "\u001b[0;32m<ipython-input-51-5cdcb166f3df>\u001b[0m in \u001b[0;36m<module>\u001b[0;34m\u001b[0m\n\u001b[1;32m     14\u001b[0m domain_affected_plots(df.loc[df['effector_domain_size_bin'].isin(order), :],\n\u001b[1;32m     15\u001b[0m                       \u001b[0;34m'effector_domain_size_bin'\u001b[0m\u001b[0;34m,\u001b[0m\u001b[0;34m\u001b[0m\u001b[0;34m\u001b[0m\u001b[0m\n\u001b[0;32m---> 16\u001b[0;31m                       order=order)\n\u001b[0m",
      "\u001b[0;32m<ipython-input-47-ee37946c1dce>\u001b[0m in \u001b[0;36mdomain_affected_plots\u001b[0;34m(df, column, order)\u001b[0m\n\u001b[1;32m     31\u001b[0m     \u001b[0;32mif\u001b[0m \u001b[0morder\u001b[0m \u001b[0;32mis\u001b[0m \u001b[0;32mnot\u001b[0m \u001b[0;32mNone\u001b[0m\u001b[0;34m:\u001b[0m\u001b[0;34m\u001b[0m\u001b[0;34m\u001b[0m\u001b[0m\n\u001b[1;32m     32\u001b[0m         \u001b[0mdata\u001b[0m \u001b[0;34m=\u001b[0m \u001b[0mdata\u001b[0m\u001b[0;34m.\u001b[0m\u001b[0mloc\u001b[0m\u001b[0;34m[\u001b[0m\u001b[0morder\u001b[0m\u001b[0;34m]\u001b[0m\u001b[0;34m\u001b[0m\u001b[0;34m\u001b[0m\u001b[0m\n\u001b[0;32m---> 33\u001b[0;31m     \u001b[0;32mfor\u001b[0m \u001b[0mlevel\u001b[0m \u001b[0;32min\u001b[0m \u001b[0mdom_affected_levels\u001b[0m\u001b[0;34m:\u001b[0m\u001b[0;34m\u001b[0m\u001b[0;34m\u001b[0m\u001b[0m\n\u001b[0m\u001b[1;32m     34\u001b[0m         \u001b[0mfig\u001b[0m\u001b[0;34m,\u001b[0m \u001b[0max\u001b[0m \u001b[0;34m=\u001b[0m \u001b[0mplt\u001b[0m\u001b[0;34m.\u001b[0m\u001b[0msubplots\u001b[0m\u001b[0;34m(\u001b[0m\u001b[0;36m1\u001b[0m\u001b[0;34m,\u001b[0m \u001b[0;36m1\u001b[0m\u001b[0;34m)\u001b[0m\u001b[0;34m\u001b[0m\u001b[0;34m\u001b[0m\u001b[0m\n\u001b[1;32m     35\u001b[0m         \u001b[0mfig\u001b[0m\u001b[0;34m.\u001b[0m\u001b[0mset_size_inches\u001b[0m\u001b[0;34m(\u001b[0m\u001b[0mw\u001b[0m\u001b[0;34m=\u001b[0m\u001b[0;36m3\u001b[0m\u001b[0;34m,\u001b[0m \u001b[0mh\u001b[0m\u001b[0;34m=\u001b[0m\u001b[0;36m0.15\u001b[0m \u001b[0;34m*\u001b[0m \u001b[0;34m(\u001b[0m\u001b[0mdata\u001b[0m\u001b[0;34m.\u001b[0m\u001b[0mshape\u001b[0m\u001b[0;34m[\u001b[0m\u001b[0;36m0\u001b[0m\u001b[0;34m]\u001b[0m \u001b[0;34m+\u001b[0m \u001b[0;36m2\u001b[0m\u001b[0;34m)\u001b[0m\u001b[0;34m)\u001b[0m\u001b[0;34m\u001b[0m\u001b[0;34m\u001b[0m\u001b[0m\n",
      "\u001b[0;31mNameError\u001b[0m: name 'dom_affected_levels' is not defined"
     ]
    }
   ],
   "source": [
    "# size restriction\n",
    "df['effector_domain_n_aa'] = df['accession'].map(reg_dom.set_index('Effector domain ID')['Sequence'].str.len())\n",
    "# 4-30, 31-100, > 100\n",
    "def bin_length(n):\n",
    "    if n <= 30:\n",
    "        return '≤ 30 aa'\n",
    "    elif n <= 100:\n",
    "        return '31 - 100 aa'\n",
    "    else:\n",
    "        return '> 100 aa'\n",
    "\n",
    "df['effector_domain_size_bin'] = df['effector_domain_type'] + ' ' + df['effector_domain_n_aa'].apply(bin_length)\n",
    "order = [a + b for a in ['AD ', 'RD '] for b in ['≤ 30 aa', '31 - 100 aa', '> 100 aa']]\n",
    "domain_affected_plots(df.loc[df['effector_domain_size_bin'].isin(order), :],\n",
    "                      'effector_domain_size_bin',\n",
    "                      order=order)"
   ]
  },
  {
   "cell_type": "code",
   "execution_count": null,
   "metadata": {},
   "outputs": [],
   "source": [
    "df['pfam_clan'] = df['accession'].map(clans)"
   ]
  },
  {
   "cell_type": "code",
   "execution_count": null,
   "metadata": {},
   "outputs": [],
   "source": [
    "domain_affected_plots(df,\n",
    "                      'pfam_clan',\n",
    "                      order=df['pfam_clan'].value_counts().head(20).index.values)"
   ]
  },
  {
   "cell_type": "code",
   "execution_count": null,
   "metadata": {},
   "outputs": [],
   "source": []
  }
 ],
 "metadata": {
  "kernelspec": {
   "display_name": "Python (py36)",
   "language": "python",
   "name": "py36"
  },
  "language_info": {
   "codemirror_mode": {
    "name": "ipython",
    "version": 3
   },
   "file_extension": ".py",
   "mimetype": "text/x-python",
   "name": "python",
   "nbconvert_exporter": "python",
   "pygments_lexer": "ipython3",
   "version": "3.6.10"
  },
  "vscode": {
   "interpreter": {
    "hash": "4ae04c9a3e8cbfaaf818a59204fe953064ae0593c0d7ed4865e22581ae0526ea"
   }
  }
 },
 "nbformat": 4,
 "nbformat_minor": 2
}
