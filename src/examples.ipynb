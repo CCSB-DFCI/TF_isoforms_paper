{
 "cells": [
  {
   "cell_type": "code",
   "execution_count": 5,
   "metadata": {},
   "outputs": [],
   "source": [
    "import pandas as pd\n",
    "\n",
    "from data_loading import load_annotated_gencode_tfs"
   ]
  },
  {
   "cell_type": "code",
   "execution_count": 2,
   "metadata": {},
   "outputs": [
    {
     "name": "stdout",
     "output_type": "stream",
     "text": [
      "reading from cache\n"
     ]
    }
   ],
   "source": [
    "tfs = load_annotated_gencode_tfs()"
   ]
  },
  {
   "cell_type": "code",
   "execution_count": 9,
   "metadata": {},
   "outputs": [],
   "source": [
    "# table of gene, ensembl gene id, ensembl transcript ids / names\n",
    "examples = [('PBX1', ['PBX1-203',\n",
    "                      'PBX1-202']),\n",
    "            ('HEY1', ['HEY1-201',\n",
    "                      'HEY1-202']),\n",
    "            ('ZIC3', ['ZIC3-201',\n",
    "                      'ZIC3-202']),\n",
    "            ('TBX5', ['TBX5-201',\n",
    "                      'TBX5-202',\n",
    "                      'TBX5-204']),\n",
    "            ('RFX3', ['RFX3-204',\n",
    "                      'RFX3-202',\n",
    "                      'RFX3-201']),\n",
    "            ('TBPL1', ['TBPL1-201',\n",
    "                       'TBPL1-203']),\n",
    "            ('THRA', ['THRA-209',\n",
    "                      'THRA-203',\n",
    "                      'THRA-201']),\n",
    "            ('THRB', ['THRB-201',\n",
    "                      'THRB-202']),\n",
    "            ('NFYA', ['NFYA-201',\n",
    "                      'NFYA-202']),\n",
    "            ('CREB5', ['CREB5-204',\n",
    "                       'CREB5-202']),\n",
    "            ('CREB1', ['CREB1-206',\n",
    "                       'CREB1-201']),\n",
    "            ('DLX4', ['DLX4-201',\n",
    "                      'DLX4-202',\n",
    "                      'DLX4-206']),\n",
    "            ('RORC', ['RORC-201',\n",
    "                      'RORC-202']),\n",
    "            ('ATF2', ['ATF2-201', \n",
    "                      'ATF2-212', \n",
    "                      'ATF2-202', \n",
    "                      'ATF2-207']),\n",
    "            ('STAT3', ['STAT3-203',\n",
    "                       'STAT3-211',\n",
    "                       'STAT3-202']),\n",
    "            ('PPARG', ['PPARG-201', \n",
    "                       'PPARG-206', \n",
    "                       'PPARG-220']),\n",
    "            ('MAX', ['MAX-205', \n",
    "                     'MAX-213',\n",
    "                     'MAX-201']),\n",
    "            ]\n",
    "rows = []\n",
    "for gene, isoforms in examples:\n",
    "    for isoform in isoforms:\n",
    "        tf = tfs[gene]\n",
    "        iso = tf[isoform]\n",
    "        rows.append((\n",
    "                    gene,\n",
    "                    tf.ensembl_gene_id,\n",
    "                    '|'.join(iso.ensembl_transcript_ids),\n",
    "                    '|'.join(iso.ensembl_transcript_names)\n",
    "                    ))\n",
    "pd.DataFrame(data=rows,\n",
    "            columns=['gene_name',\n",
    "             'ensembl_gene_id',\n",
    "              'ensembl_transcript_ids',\n",
    "               'ensembl_transcript_names']).to_csv('../../output/TF_isoform_gencode_examples.tsv',\n",
    "                                                    sep='\\t',\n",
    "                                                    index=False)"
   ]
  },
  {
   "cell_type": "code",
   "execution_count": null,
   "metadata": {},
   "outputs": [],
   "source": []
  }
 ],
 "metadata": {
  "kernelspec": {
   "display_name": "Python 3.8.13 ('venv': venv)",
   "language": "python",
   "name": "python3"
  },
  "language_info": {
   "codemirror_mode": {
    "name": "ipython",
    "version": 3
   },
   "file_extension": ".py",
   "mimetype": "text/x-python",
   "name": "python",
   "nbconvert_exporter": "python",
   "pygments_lexer": "ipython3",
   "version": "3.8.13"
  },
  "orig_nbformat": 4,
  "vscode": {
   "interpreter": {
    "hash": "4ae04c9a3e8cbfaaf818a59204fe953064ae0593c0d7ed4865e22581ae0526ea"
   }
  }
 },
 "nbformat": 4,
 "nbformat_minor": 2
}
