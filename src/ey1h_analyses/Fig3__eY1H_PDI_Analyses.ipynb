{
 "cells": [
  {
   "cell_type": "markdown",
   "metadata": {},
   "source": [
    "# Fig3: eY1H/PDI analyses"
   ]
  },
  {
   "cell_type": "code",
   "execution_count": 1,
   "metadata": {},
   "outputs": [],
   "source": [
    "import numpy as np\n",
    "from scipy import stats\n",
    "from matplotlib import pyplot as plt\n",
    "import pandas as pd\n",
    "import seaborn as sns\n",
    "import sys\n",
    "\n",
    "# import utils\n",
    "sys.path.append(\"../\")\n",
    "\n",
    "from data_loading import (load_annotated_TFiso1_collection, \n",
    "                          load_y1h_pdi_data, \n",
    "                          load_dbd_accessions,\n",
    "                          load_valid_isoform_clones)\n",
    "from plotting import y1h_pdi_per_tf_gene_plot, m1h_activation_per_tf_gene_plot"
   ]
  },
  {
   "cell_type": "code",
   "execution_count": 2,
   "metadata": {},
   "outputs": [],
   "source": [
    "PAPER_PRESET = {\"style\": \"ticks\", \"font\": \"Helvetica\", \"context\": \"paper\", \n",
    "                \"rc\": {\"font.size\":7,\"axes.titlesize\":7,\n",
    "                       \"axes.labelsize\":7, 'axes.linewidth':0.5,\n",
    "                       \"legend.fontsize\":6, \"xtick.labelsize\":6,\n",
    "                       \"ytick.labelsize\":6, \"xtick.major.size\": 3.0,\n",
    "                       \"ytick.major.size\": 3.0, \"axes.edgecolor\": \"black\",\n",
    "                       \"xtick.major.pad\": 3.0, \"ytick.major.pad\": 3.0}}\n",
    "PAPER_FONTSIZE = 7"
   ]
  },
  {
   "cell_type": "code",
   "execution_count": 3,
   "metadata": {},
   "outputs": [],
   "source": [
    "sns.set(**PAPER_PRESET)\n",
    "fontsize = PAPER_FONTSIZE"
   ]
  },
  {
   "cell_type": "code",
   "execution_count": 4,
   "metadata": {},
   "outputs": [],
   "source": [
    "np.random.seed(2023)"
   ]
  },
  {
   "cell_type": "markdown",
   "metadata": {},
   "source": [
    "## 1. load PDI data"
   ]
  },
  {
   "cell_type": "code",
   "execution_count": 5,
   "metadata": {},
   "outputs": [
    {
     "name": "stdout",
     "output_type": "stream",
     "text": [
      "/data/bulyk/kaia/projects/repos/tf_isoforms/cache/load_annotated_TFiso1_collection.pkl\n",
      "reading from cache\n"
     ]
    }
   ],
   "source": [
    "tfs = load_annotated_TFiso1_collection()"
   ]
  },
  {
   "cell_type": "code",
   "execution_count": 6,
   "metadata": {},
   "outputs": [
    {
     "data": {
      "text/plain": [
       "1.0"
      ]
     },
     "execution_count": 6,
     "metadata": {},
     "output_type": "execute_result"
    }
   ],
   "source": [
    "def disordered_fraction_of_different_regions(gene, ref_iso_name, alt_iso_name):\n",
    "    algn = gene.pairwise_changes_relative_to_reference(ref_iso_name, alt_iso_name)\n",
    "    if not hasattr(gene[ref_iso_name], 'disorder') or not hasattr(gene[alt_iso_name], 'disorder'):\n",
    "        return np.nan\n",
    "    ref_iter = iter(gene[ref_iso_name].disorder)\n",
    "    alt_iter = iter(gene[alt_iso_name].disorder)\n",
    "    merged_disorder = []\n",
    "    for pos in algn:\n",
    "        if pos == 'I':\n",
    "            merged_disorder.append(next(alt_iter))\n",
    "        elif pos == 'D':\n",
    "            merged_disorder.append(next(ref_iter))\n",
    "        else:\n",
    "            merged_disorder.append(next(ref_iter))\n",
    "            next(alt_iter)\n",
    "\n",
    "    return np.mean([is_disordered for pos, is_disordered in zip(algn, merged_disorder) if pos != 'M'])\n",
    "\n",
    "\n",
    "disordered_fraction_of_different_regions(tfs['CREB1'], 'CREB1-2', 'CREB1-1')"
   ]
  },
  {
   "cell_type": "code",
   "execution_count": 7,
   "metadata": {},
   "outputs": [],
   "source": [
    "# TODO move to isolib\n",
    "def n_aa_change_from_feature(gene, ref_iso_name, alt_iso_name, domain_start, domain_end):\n",
    "    algn = gene.pairwise_changes_relative_to_reference(ref_iso_name, alt_iso_name)\n",
    "\n",
    "    def _coords_transform_aa_seq_to_alignment(i, alignment):\n",
    "        if i > len(alignment.replace(\"I\", \"\")):\n",
    "            raise ValueError(\"position is not in isoform AA sequence\")\n",
    "        aa_seq_indices = [\n",
    "            \"\" if c == \"I\" else len(alignment[:j].replace(\"I\", \"\"))\n",
    "            for j, c in enumerate(alignment)\n",
    "        ]\n",
    "        return aa_seq_indices.index(i)\n",
    "    \n",
    "    start = _coords_transform_aa_seq_to_alignment(domain_start, algn)\n",
    "    end = _coords_transform_aa_seq_to_alignment(domain_end - 1, algn) + 1\n",
    "\n",
    "    if not all(x == 'M' for x in algn[start:end]):\n",
    "        return 0  # change is within the domain\n",
    "    \n",
    "    big_number = 9999999999999999999999999\n",
    "    c_dist = big_number\n",
    "    n_dist = big_number\n",
    "    for i, l in enumerate(reversed(algn[:start])):\n",
    "        if l != 'M':\n",
    "            c_dist = i + 1\n",
    "            break\n",
    "    for i, l in enumerate(algn[end:]):\n",
    "        if l != 'M':\n",
    "            n_dist = i + 1\n",
    "            break\n",
    "    if c_dist == big_number and n_dist == big_number:\n",
    "        raise UserWarning('problem calculating distance')\n",
    "    return min([c_dist, n_dist])\n",
    "\n",
    "\n",
    "def n_aa_to_all_features(self, ref_iso_name):\n",
    "    results = []\n",
    "    ref_iso = self[ref_iso_name]\n",
    "    row = {\"gene\": self.name, \"ref_iso\": ref_iso_name}\n",
    "    for aa_feature in ref_iso.aa_seq_features:\n",
    "        for alt_iso_name, alt_iso in self._iso_dict.items():\n",
    "            if alt_iso_name == ref_iso_name:\n",
    "                continue\n",
    "            row.update(\n",
    "                {\n",
    "                    \"alt_iso\": alt_iso_name,\n",
    "                    \"accession\": aa_feature.accession,\n",
    "                    \"category\": aa_feature.category,\n",
    "                    \"start_in_ref_iso\": aa_feature.start,\n",
    "                    \"end_in_ref_iso\": aa_feature.end,\n",
    "                    \"length\": aa_feature.end - aa_feature.start,\n",
    "                }\n",
    "            )\n",
    "            row.update({\"n_aa_change_to_domain\": n_aa_change_from_feature(self, ref_iso_name, alt_iso_name, aa_feature.start, aa_feature.end)})\n",
    "            results.append(row.copy())\n",
    "    results = pd.DataFrame(results)\n",
    "    return results"
   ]
  },
  {
   "cell_type": "code",
   "execution_count": 8,
   "metadata": {},
   "outputs": [],
   "source": [
    "dist = pd.concat([n_aa_to_all_features(g, g.cloned_reference_isoform.name) for g in tfs.values()])\n",
    "dist['is_DBD'] = dist['accession'].isin(load_dbd_accessions())"
   ]
  },
  {
   "cell_type": "code",
   "execution_count": 9,
   "metadata": {},
   "outputs": [],
   "source": [
    "y1h = load_y1h_pdi_data()\n",
    "y1h = y1h.drop_duplicates()  # TODO: why is this here?\n",
    "n_pdi = (y1h.drop(columns='gene_symbol')\n",
    "            .set_index('clone_acc')\n",
    "            .sum(axis=1))\n",
    "n_pdi.index = n_pdi.index.map(lambda x: x.split('|')[0] + '-' + x.split('|')[1].split('/')[0])"
   ]
  },
  {
   "cell_type": "code",
   "execution_count": 10,
   "metadata": {},
   "outputs": [
    {
     "data": {
      "text/plain": [
       "7181"
      ]
     },
     "execution_count": 10,
     "metadata": {},
     "output_type": "execute_result"
    }
   ],
   "source": [
    "df = pd.concat([g.aa_feature_disruption(g.cloned_reference_isoform.name) for g in tfs.values()])\n",
    "df['is_DBD'] = df['accession'].isin(load_dbd_accessions())\n",
    "df['is_DBD_flank'] = (df['accession'].str.endswith('_flank_N') |\n",
    "                      df['accession'].str.endswith('_flank_C'))\n",
    "len(df)"
   ]
  },
  {
   "cell_type": "code",
   "execution_count": 11,
   "metadata": {},
   "outputs": [
    {
     "data": {
      "text/html": [
       "<div>\n",
       "<style scoped>\n",
       "    .dataframe tbody tr th:only-of-type {\n",
       "        vertical-align: middle;\n",
       "    }\n",
       "\n",
       "    .dataframe tbody tr th {\n",
       "        vertical-align: top;\n",
       "    }\n",
       "\n",
       "    .dataframe thead th {\n",
       "        text-align: right;\n",
       "    }\n",
       "</style>\n",
       "<table border=\"1\" class=\"dataframe\">\n",
       "  <thead>\n",
       "    <tr style=\"text-align: right;\">\n",
       "      <th></th>\n",
       "      <th>gene</th>\n",
       "      <th>ref_iso</th>\n",
       "      <th>alt_iso</th>\n",
       "      <th>accession</th>\n",
       "      <th>category</th>\n",
       "      <th>start_in_ref_iso</th>\n",
       "      <th>end_in_ref_iso</th>\n",
       "      <th>length</th>\n",
       "      <th>n_aa_change_to_domain</th>\n",
       "      <th>is_DBD</th>\n",
       "    </tr>\n",
       "  </thead>\n",
       "  <tbody>\n",
       "    <tr>\n",
       "      <th>0</th>\n",
       "      <td>ZBTB18</td>\n",
       "      <td>ZBTB18-1</td>\n",
       "      <td>ZBTB18-2</td>\n",
       "      <td>PF00651</td>\n",
       "      <td>Pfam_domain</td>\n",
       "      <td>22</td>\n",
       "      <td>130</td>\n",
       "      <td>108</td>\n",
       "      <td>14</td>\n",
       "      <td>False</td>\n",
       "    </tr>\n",
       "    <tr>\n",
       "      <th>1</th>\n",
       "      <td>ZBTB18</td>\n",
       "      <td>ZBTB18-1</td>\n",
       "      <td>ZBTB18-2</td>\n",
       "      <td>C2H2_ZF_array_4</td>\n",
       "      <td>ZF_array</td>\n",
       "      <td>373</td>\n",
       "      <td>486</td>\n",
       "      <td>113</td>\n",
       "      <td>365</td>\n",
       "      <td>True</td>\n",
       "    </tr>\n",
       "    <tr>\n",
       "      <th>2</th>\n",
       "      <td>ZBTB18</td>\n",
       "      <td>ZBTB18-1</td>\n",
       "      <td>ZBTB18-2</td>\n",
       "      <td>C2H2_ZF_array_4_flank_N</td>\n",
       "      <td>DBD_flank</td>\n",
       "      <td>358</td>\n",
       "      <td>373</td>\n",
       "      <td>15</td>\n",
       "      <td>350</td>\n",
       "      <td>False</td>\n",
       "    </tr>\n",
       "    <tr>\n",
       "      <th>3</th>\n",
       "      <td>ZBTB18</td>\n",
       "      <td>ZBTB18-1</td>\n",
       "      <td>ZBTB18-2</td>\n",
       "      <td>C2H2_ZF_array_4_flank_C</td>\n",
       "      <td>DBD_flank</td>\n",
       "      <td>486</td>\n",
       "      <td>501</td>\n",
       "      <td>15</td>\n",
       "      <td>478</td>\n",
       "      <td>False</td>\n",
       "    </tr>\n",
       "    <tr>\n",
       "      <th>4</th>\n",
       "      <td>ZBTB18</td>\n",
       "      <td>ZBTB18-1</td>\n",
       "      <td>ZBTB18-2</td>\n",
       "      <td>DelRosso_RD_ZBTB18_1</td>\n",
       "      <td>effector_domain</td>\n",
       "      <td>211</td>\n",
       "      <td>291</td>\n",
       "      <td>80</td>\n",
       "      <td>203</td>\n",
       "      <td>False</td>\n",
       "    </tr>\n",
       "    <tr>\n",
       "      <th>...</th>\n",
       "      <td>...</td>\n",
       "      <td>...</td>\n",
       "      <td>...</td>\n",
       "      <td>...</td>\n",
       "      <td>...</td>\n",
       "      <td>...</td>\n",
       "      <td>...</td>\n",
       "      <td>...</td>\n",
       "      <td>...</td>\n",
       "      <td>...</td>\n",
       "    </tr>\n",
       "    <tr>\n",
       "      <th>19</th>\n",
       "      <td>ZFY</td>\n",
       "      <td>ZFY-1</td>\n",
       "      <td>ZFY-207</td>\n",
       "      <td>DelRosso_RD_ZFY_1</td>\n",
       "      <td>effector_domain</td>\n",
       "      <td>255</td>\n",
       "      <td>365</td>\n",
       "      <td>110</td>\n",
       "      <td>70</td>\n",
       "      <td>False</td>\n",
       "    </tr>\n",
       "    <tr>\n",
       "      <th>20</th>\n",
       "      <td>ZFY</td>\n",
       "      <td>ZFY-1</td>\n",
       "      <td>ZFY-2</td>\n",
       "      <td>DelRosso_RD_ZFY_4</td>\n",
       "      <td>effector_domain</td>\n",
       "      <td>695</td>\n",
       "      <td>775</td>\n",
       "      <td>80</td>\n",
       "      <td>361</td>\n",
       "      <td>False</td>\n",
       "    </tr>\n",
       "    <tr>\n",
       "      <th>21</th>\n",
       "      <td>ZFY</td>\n",
       "      <td>ZFY-1</td>\n",
       "      <td>ZFY-201</td>\n",
       "      <td>DelRosso_RD_ZFY_4</td>\n",
       "      <td>effector_domain</td>\n",
       "      <td>695</td>\n",
       "      <td>775</td>\n",
       "      <td>80</td>\n",
       "      <td>696</td>\n",
       "      <td>False</td>\n",
       "    </tr>\n",
       "    <tr>\n",
       "      <th>22</th>\n",
       "      <td>ZFY</td>\n",
       "      <td>ZFY-1</td>\n",
       "      <td>ZFY-204</td>\n",
       "      <td>DelRosso_RD_ZFY_4</td>\n",
       "      <td>effector_domain</td>\n",
       "      <td>695</td>\n",
       "      <td>775</td>\n",
       "      <td>80</td>\n",
       "      <td>361</td>\n",
       "      <td>False</td>\n",
       "    </tr>\n",
       "    <tr>\n",
       "      <th>23</th>\n",
       "      <td>ZFY</td>\n",
       "      <td>ZFY-1</td>\n",
       "      <td>ZFY-207</td>\n",
       "      <td>DelRosso_RD_ZFY_4</td>\n",
       "      <td>effector_domain</td>\n",
       "      <td>695</td>\n",
       "      <td>775</td>\n",
       "      <td>80</td>\n",
       "      <td>510</td>\n",
       "      <td>False</td>\n",
       "    </tr>\n",
       "  </tbody>\n",
       "</table>\n",
       "<p>7181 rows × 10 columns</p>\n",
       "</div>"
      ],
      "text/plain": [
       "      gene   ref_iso   alt_iso                accession         category  \\\n",
       "0   ZBTB18  ZBTB18-1  ZBTB18-2                  PF00651      Pfam_domain   \n",
       "1   ZBTB18  ZBTB18-1  ZBTB18-2          C2H2_ZF_array_4         ZF_array   \n",
       "2   ZBTB18  ZBTB18-1  ZBTB18-2  C2H2_ZF_array_4_flank_N        DBD_flank   \n",
       "3   ZBTB18  ZBTB18-1  ZBTB18-2  C2H2_ZF_array_4_flank_C        DBD_flank   \n",
       "4   ZBTB18  ZBTB18-1  ZBTB18-2     DelRosso_RD_ZBTB18_1  effector_domain   \n",
       "..     ...       ...       ...                      ...              ...   \n",
       "19     ZFY     ZFY-1   ZFY-207        DelRosso_RD_ZFY_1  effector_domain   \n",
       "20     ZFY     ZFY-1     ZFY-2        DelRosso_RD_ZFY_4  effector_domain   \n",
       "21     ZFY     ZFY-1   ZFY-201        DelRosso_RD_ZFY_4  effector_domain   \n",
       "22     ZFY     ZFY-1   ZFY-204        DelRosso_RD_ZFY_4  effector_domain   \n",
       "23     ZFY     ZFY-1   ZFY-207        DelRosso_RD_ZFY_4  effector_domain   \n",
       "\n",
       "    start_in_ref_iso  end_in_ref_iso  length  n_aa_change_to_domain  is_DBD  \n",
       "0                 22             130     108                     14   False  \n",
       "1                373             486     113                    365    True  \n",
       "2                358             373      15                    350   False  \n",
       "3                486             501      15                    478   False  \n",
       "4                211             291      80                    203   False  \n",
       "..               ...             ...     ...                    ...     ...  \n",
       "19               255             365     110                     70   False  \n",
       "20               695             775      80                    361   False  \n",
       "21               695             775      80                    696   False  \n",
       "22               695             775      80                    361   False  \n",
       "23               695             775      80                    510   False  \n",
       "\n",
       "[7181 rows x 10 columns]"
      ]
     },
     "execution_count": 11,
     "metadata": {},
     "output_type": "execute_result"
    }
   ],
   "source": [
    "dist"
   ]
  },
  {
   "cell_type": "code",
   "execution_count": 12,
   "metadata": {},
   "outputs": [
    {
     "data": {
      "text/plain": [
       "928"
      ]
     },
     "execution_count": 12,
     "metadata": {},
     "output_type": "execute_result"
    }
   ],
   "source": [
    "df_new = (df.loc[df['is_DBD'], :]\n",
    "        .groupby(['gene_symbol', 'ref_iso', 'alt_iso'])\n",
    "        [['deletion', 'frameshift']].sum()\n",
    "        .sum(axis=1) / df.loc[df['is_DBD'], :]\n",
    "        .groupby(['gene_symbol', 'ref_iso', 'alt_iso'])\n",
    "        ['length'].sum()).to_frame(name='dbd_fraction')\n",
    "\n",
    "df_new['dbd_insertion_n_aa'] = (df.loc[df['is_DBD'], :]\n",
    "                                  .groupby(['gene_symbol', 'ref_iso', 'alt_iso'])\n",
    "                                  ['insertion']\n",
    "                                  .sum())\n",
    "\n",
    "df_new['dbd_n_aa_to_change'] = (dist.loc[dist['is_DBD'], :]\n",
    "                                  .groupby(['gene', 'ref_iso', 'alt_iso'])\n",
    "                                  ['n_aa_change_to_domain']\n",
    "                                  .min())\n",
    "len(df_new)"
   ]
  },
  {
   "cell_type": "code",
   "execution_count": 13,
   "metadata": {},
   "outputs": [
    {
     "data": {
      "text/plain": [
       "928"
      ]
     },
     "execution_count": 13,
     "metadata": {},
     "output_type": "execute_result"
    }
   ],
   "source": [
    "# flank affected\n",
    "df_new['dbd_flank_affected'] = (df.loc[df['is_DBD_flank'], :]\n",
    "        .groupby(['gene_symbol', 'ref_iso', 'alt_iso'])\n",
    "        [['deletion', 'insertion', 'frameshift']].sum()\n",
    "        .sum(axis=1) > 0)\n",
    "df = df_new.reset_index()\n",
    "df['dbd_pct_lost'] = df['dbd_fraction'] * 100.\n",
    "len(df)"
   ]
  },
  {
   "cell_type": "code",
   "execution_count": 14,
   "metadata": {},
   "outputs": [
    {
     "data": {
      "text/plain": [
       "928"
      ]
     },
     "execution_count": 14,
     "metadata": {},
     "output_type": "execute_result"
    }
   ],
   "source": [
    "def dbd_affected_categories(pct_lost):\n",
    "    if pct_lost < 0:\n",
    "        raise ValueError('negative percent value')\n",
    "    elif pct_lost == 0:\n",
    "        return 'Full DBD in\\nalternative isoform'\n",
    "    elif pct_lost >= 100:\n",
    "        return 'Full loss\\nof DBD'\n",
    "    else:\n",
    "        return 'Partial loss\\nof DBD'\n",
    "\n",
    "df['dbd_affected'] = df['dbd_pct_lost'].apply(dbd_affected_categories)\n",
    "df['dbd_or_flank_affected'] = df['dbd_affected']\n",
    "df.loc[(df['dbd_affected'] == 'Full DBD in\\nalternative isoform') &\n",
    "       df['dbd_flank_affected'], 'dbd_or_flank_affected'] = 'DBD flank affected'\n",
    "len(df)"
   ]
  },
  {
   "cell_type": "code",
   "execution_count": 15,
   "metadata": {},
   "outputs": [
    {
     "data": {
      "text/plain": [
       "756"
      ]
     },
     "execution_count": 15,
     "metadata": {},
     "output_type": "execute_result"
    }
   ],
   "source": [
    "isoforms = load_valid_isoform_clones()\n",
    "len(isoforms)"
   ]
  },
  {
   "cell_type": "code",
   "execution_count": 16,
   "metadata": {},
   "outputs": [
    {
     "data": {
      "text/plain": [
       "58"
      ]
     },
     "execution_count": 16,
     "metadata": {},
     "output_type": "execute_result"
    }
   ],
   "source": [
    "# map each isoform to change in PDI vs reference\n",
    "def delta_pdi(row):\n",
    "    iso_acc = row['alt_iso']\n",
    "    ref_acc = row['ref_iso']\n",
    "    if iso_acc == ref_acc:\n",
    "        return np.nan\n",
    "    n_ref = n_pdi.get(ref_acc, np.nan)\n",
    "    n_iso = n_pdi.get(iso_acc, np.nan)\n",
    "    if n_ref == 0:\n",
    "        return np.nan\n",
    "    return (n_iso - n_ref) / n_ref\n",
    "\n",
    "\n",
    "df['delta_pdi'] = df.apply(delta_pdi, axis=1)\n",
    "df = df.dropna(subset=['delta_pdi'])\n",
    "\n",
    "df['tf_family'] = df['gene_symbol'].map(lambda x: tfs[x].tf_family)\n",
    "df['delta_pdi_trunc'] = df['delta_pdi'].clip(upper=1)\n",
    "\n",
    "if (((df['dbd_fraction'] > 0) | (df['dbd_insertion_n_aa'] > 0)) & (df['dbd_n_aa_to_change'] > 0)).any():\n",
    "    raise UserWarning('something wrong with calculations')\n",
    "if ((df['dbd_fraction'] == 0) & (df['dbd_insertion_n_aa'] == 0) & (df['dbd_n_aa_to_change'] == 0)).any():\n",
    "    raise UserWarning('something wrong with calculations')\n",
    "len(df)"
   ]
  },
  {
   "cell_type": "code",
   "execution_count": 17,
   "metadata": {},
   "outputs": [
    {
     "data": {
      "text/html": [
       "<div>\n",
       "<style scoped>\n",
       "    .dataframe tbody tr th:only-of-type {\n",
       "        vertical-align: middle;\n",
       "    }\n",
       "\n",
       "    .dataframe tbody tr th {\n",
       "        vertical-align: top;\n",
       "    }\n",
       "\n",
       "    .dataframe thead th {\n",
       "        text-align: right;\n",
       "    }\n",
       "</style>\n",
       "<table border=\"1\" class=\"dataframe\">\n",
       "  <thead>\n",
       "    <tr style=\"text-align: right;\">\n",
       "      <th></th>\n",
       "      <th>gene_symbol</th>\n",
       "      <th>ref_iso</th>\n",
       "      <th>alt_iso</th>\n",
       "      <th>dbd_fraction</th>\n",
       "      <th>dbd_insertion_n_aa</th>\n",
       "      <th>dbd_n_aa_to_change</th>\n",
       "      <th>dbd_flank_affected</th>\n",
       "      <th>dbd_pct_lost</th>\n",
       "      <th>dbd_affected</th>\n",
       "      <th>dbd_or_flank_affected</th>\n",
       "      <th>delta_pdi</th>\n",
       "      <th>tf_family</th>\n",
       "      <th>delta_pdi_trunc</th>\n",
       "    </tr>\n",
       "  </thead>\n",
       "  <tbody>\n",
       "    <tr>\n",
       "      <th>72</th>\n",
       "      <td>DLX4</td>\n",
       "      <td>DLX4-1</td>\n",
       "      <td>DLX4-3</td>\n",
       "      <td>0.245614</td>\n",
       "      <td>26</td>\n",
       "      <td>0</td>\n",
       "      <td>True</td>\n",
       "      <td>24.561404</td>\n",
       "      <td>Partial loss\\nof DBD</td>\n",
       "      <td>Partial loss\\nof DBD</td>\n",
       "      <td>-1.0</td>\n",
       "      <td>Homeodomain</td>\n",
       "      <td>-1.0</td>\n",
       "    </tr>\n",
       "    <tr>\n",
       "      <th>204</th>\n",
       "      <td>HEY1</td>\n",
       "      <td>HEY1-2</td>\n",
       "      <td>HEY1-1</td>\n",
       "      <td>0.000000</td>\n",
       "      <td>4</td>\n",
       "      <td>0</td>\n",
       "      <td>False</td>\n",
       "      <td>0.000000</td>\n",
       "      <td>Full DBD in\\nalternative isoform</td>\n",
       "      <td>Full DBD in\\nalternative isoform</td>\n",
       "      <td>-1.0</td>\n",
       "      <td>bHLH</td>\n",
       "      <td>-1.0</td>\n",
       "    </tr>\n",
       "    <tr>\n",
       "      <th>253</th>\n",
       "      <td>KLF7</td>\n",
       "      <td>KLF7-1</td>\n",
       "      <td>KLF7-4</td>\n",
       "      <td>0.000000</td>\n",
       "      <td>1</td>\n",
       "      <td>0</td>\n",
       "      <td>False</td>\n",
       "      <td>0.000000</td>\n",
       "      <td>Full DBD in\\nalternative isoform</td>\n",
       "      <td>Full DBD in\\nalternative isoform</td>\n",
       "      <td>-1.0</td>\n",
       "      <td>C2H2 ZF</td>\n",
       "      <td>-1.0</td>\n",
       "    </tr>\n",
       "    <tr>\n",
       "      <th>289</th>\n",
       "      <td>MAX</td>\n",
       "      <td>MAX-1</td>\n",
       "      <td>MAX-5</td>\n",
       "      <td>0.346154</td>\n",
       "      <td>39</td>\n",
       "      <td>0</td>\n",
       "      <td>True</td>\n",
       "      <td>34.615385</td>\n",
       "      <td>Partial loss\\nof DBD</td>\n",
       "      <td>Partial loss\\nof DBD</td>\n",
       "      <td>-1.0</td>\n",
       "      <td>bHLH</td>\n",
       "      <td>-1.0</td>\n",
       "    </tr>\n",
       "    <tr>\n",
       "      <th>290</th>\n",
       "      <td>MAX</td>\n",
       "      <td>MAX-1</td>\n",
       "      <td>MAX-6</td>\n",
       "      <td>0.346154</td>\n",
       "      <td>39</td>\n",
       "      <td>0</td>\n",
       "      <td>True</td>\n",
       "      <td>34.615385</td>\n",
       "      <td>Partial loss\\nof DBD</td>\n",
       "      <td>Partial loss\\nof DBD</td>\n",
       "      <td>-1.0</td>\n",
       "      <td>bHLH</td>\n",
       "      <td>-1.0</td>\n",
       "    </tr>\n",
       "    <tr>\n",
       "      <th>506</th>\n",
       "      <td>RFX4</td>\n",
       "      <td>RFX4-1</td>\n",
       "      <td>RFX4-3</td>\n",
       "      <td>0.873418</td>\n",
       "      <td>32</td>\n",
       "      <td>0</td>\n",
       "      <td>True</td>\n",
       "      <td>87.341772</td>\n",
       "      <td>Partial loss\\nof DBD</td>\n",
       "      <td>Partial loss\\nof DBD</td>\n",
       "      <td>-1.0</td>\n",
       "      <td>RFX</td>\n",
       "      <td>-1.0</td>\n",
       "    </tr>\n",
       "  </tbody>\n",
       "</table>\n",
       "</div>"
      ],
      "text/plain": [
       "    gene_symbol ref_iso alt_iso  dbd_fraction  dbd_insertion_n_aa  \\\n",
       "72         DLX4  DLX4-1  DLX4-3      0.245614                  26   \n",
       "204        HEY1  HEY1-2  HEY1-1      0.000000                   4   \n",
       "253        KLF7  KLF7-1  KLF7-4      0.000000                   1   \n",
       "289         MAX   MAX-1   MAX-5      0.346154                  39   \n",
       "290         MAX   MAX-1   MAX-6      0.346154                  39   \n",
       "506        RFX4  RFX4-1  RFX4-3      0.873418                  32   \n",
       "\n",
       "     dbd_n_aa_to_change  dbd_flank_affected  dbd_pct_lost  \\\n",
       "72                    0                True     24.561404   \n",
       "204                   0               False      0.000000   \n",
       "253                   0               False      0.000000   \n",
       "289                   0                True     34.615385   \n",
       "290                   0                True     34.615385   \n",
       "506                   0                True     87.341772   \n",
       "\n",
       "                         dbd_affected             dbd_or_flank_affected  \\\n",
       "72               Partial loss\\nof DBD              Partial loss\\nof DBD   \n",
       "204  Full DBD in\\nalternative isoform  Full DBD in\\nalternative isoform   \n",
       "253  Full DBD in\\nalternative isoform  Full DBD in\\nalternative isoform   \n",
       "289              Partial loss\\nof DBD              Partial loss\\nof DBD   \n",
       "290              Partial loss\\nof DBD              Partial loss\\nof DBD   \n",
       "506              Partial loss\\nof DBD              Partial loss\\nof DBD   \n",
       "\n",
       "     delta_pdi    tf_family  delta_pdi_trunc  \n",
       "72        -1.0  Homeodomain             -1.0  \n",
       "204       -1.0         bHLH             -1.0  \n",
       "253       -1.0      C2H2 ZF             -1.0  \n",
       "289       -1.0         bHLH             -1.0  \n",
       "290       -1.0         bHLH             -1.0  \n",
       "506       -1.0          RFX             -1.0  "
      ]
     },
     "execution_count": 17,
     "metadata": {},
     "output_type": "execute_result"
    }
   ],
   "source": [
    "df.loc[df['dbd_insertion_n_aa'] > 0 ]"
   ]
  },
  {
   "cell_type": "code",
   "execution_count": 18,
   "metadata": {
    "tags": []
   },
   "outputs": [
    {
     "name": "stdout",
     "output_type": "stream",
     "text": [
      "309 TF genes\n",
      "301 TF genes with at least one Pfam domain in cloned reference isoform\n",
      "271\n"
     ]
    }
   ],
   "source": [
    "# count\n",
    "print(len(tfs), 'TF genes')\n",
    "print(sum([len(tf.cloned_reference_isoform.aa_seq_features) > 0 for tf in tfs.values()]),\n",
    "      'TF genes with at least one Pfam domain in cloned reference isoform')\n",
    "print(sum([len(tf.cloned_reference_isoform.dna_binding_domains) > 0 for tf in tfs.values()]))\n",
    "tfs_no_dbd = {k: v for k, v in tfs.items()\n",
    "              if len(v.cloned_reference_isoform.dna_binding_domains) == 0\n",
    "              and len(v.cloned_reference_isoform.aa_seq_features) > 0}"
   ]
  },
  {
   "cell_type": "code",
   "execution_count": 19,
   "metadata": {},
   "outputs": [],
   "source": [
    "df['delta_pdi_trunc'] = df['delta_pdi'].clip(upper=1)"
   ]
  },
  {
   "cell_type": "code",
   "execution_count": 20,
   "metadata": {},
   "outputs": [
    {
     "data": {
      "text/plain": [
       "array(['Full DBD in\\nalternative isoform', 'Partial loss\\nof DBD',\n",
       "       'DBD flank affected', 'Full loss\\nof DBD'], dtype=object)"
      ]
     },
     "execution_count": 20,
     "metadata": {},
     "output_type": "execute_result"
    }
   ],
   "source": [
    "df['dbd_or_flank_affected'].value_counts().index.values"
   ]
  },
  {
   "cell_type": "code",
   "execution_count": 21,
   "metadata": {},
   "outputs": [],
   "source": [
    "df['tf_family_merged'] = df['tf_family'].map(lambda x: x if x in ['C2H2 ZF', 'bHLH', 'Homeodomain', 'Nuclear receptor'] else 'other')"
   ]
  },
  {
   "cell_type": "code",
   "execution_count": 22,
   "metadata": {},
   "outputs": [],
   "source": [
    "# TODO: move to data_loading.py\n",
    "dis = pd.read_csv('../../data/processed/TFiso1_disorder-and-ss_from-alphafold.tsv',\n",
    "                  sep='\\t')\n",
    "n_aa = dis.groupby('clone_name').size().rename('n_aa').to_frame()\n",
    "n_aa['n_aa_disordered'] = dis.groupby('clone_name')['is_disordered'].sum()\n",
    "n_aa['n_aa_ordered'] = n_aa['n_aa'] - n_aa['n_aa_disordered']\n",
    "for c in n_aa.columns:\n",
    "    df[f'delta_{c}'] = df['ref_iso'].map(n_aa[c]) - df['alt_iso'].map(n_aa[c])\n",
    "    df[f'abs_delta_{c}'] = df[f'delta_{c}'].abs()"
   ]
  },
  {
   "cell_type": "code",
   "execution_count": 23,
   "metadata": {},
   "outputs": [],
   "source": [
    "df['f_disorder_delta_aa'] = df['abs_delta_n_aa_disordered'] / (df['abs_delta_n_aa_disordered'] + df['abs_delta_n_aa_ordered'])"
   ]
  },
  {
   "cell_type": "code",
   "execution_count": 24,
   "metadata": {},
   "outputs": [],
   "source": [
    "df['pdi_affected'] = (df['delta_pdi'] != 0)"
   ]
  },
  {
   "cell_type": "code",
   "execution_count": 25,
   "metadata": {},
   "outputs": [
    {
     "data": {
      "text/plain": [
       "Full DBD in\\nalternative isoform    31\n",
       "Partial loss\\nof DBD                12\n",
       "DBD flank affected                   9\n",
       "Full loss\\nof DBD                    6\n",
       "Name: dbd_or_flank_affected, dtype: int64"
      ]
     },
     "execution_count": 25,
     "metadata": {},
     "output_type": "execute_result"
    }
   ],
   "source": [
    "df['dbd_or_flank_affected'].value_counts()"
   ]
  },
  {
   "cell_type": "code",
   "execution_count": 26,
   "metadata": {},
   "outputs": [
    {
     "data": {
      "text/plain": [
       "bHLH                6\n",
       "Nuclear receptor    4\n",
       "Homeodomain         3\n",
       "STAT                2\n",
       "AP-2                2\n",
       "SMAD                2\n",
       "C2H2 ZF             1\n",
       "T-box               1\n",
       "bZIP                1\n",
       "Ets                 1\n",
       "Name: tf_family, dtype: int64"
      ]
     },
     "execution_count": 26,
     "metadata": {},
     "output_type": "execute_result"
    }
   ],
   "source": [
    "# check for family enrichment of DBD unaffected PDI changes\n",
    "df.loc[(df['dbd_or_flank_affected'] == 'Full DBD in\\nalternative isoform') &\n",
    "(df['delta_pdi'] != 0), 'tf_family'].value_counts()"
   ]
  },
  {
   "cell_type": "code",
   "execution_count": 27,
   "metadata": {},
   "outputs": [
    {
     "data": {
      "text/plain": [
       "TCF4      3\n",
       "PPARG     2\n",
       "NFIX      2\n",
       "TFAP2A    2\n",
       "STAT3     2\n",
       "HEY1      1\n",
       "THRA      1\n",
       "FLI1      1\n",
       "MYF6      1\n",
       "KLF7      1\n",
       "PRRX1     1\n",
       "RARG      1\n",
       "MAX       1\n",
       "DLX4      1\n",
       "TBX5      1\n",
       "MEOX1     1\n",
       "CREB1     1\n",
       "Name: gene_symbol, dtype: int64"
      ]
     },
     "execution_count": 27,
     "metadata": {},
     "output_type": "execute_result"
    }
   ],
   "source": [
    "df.loc[(df['dbd_or_flank_affected'] == 'Full DBD in\\nalternative isoform') &\n",
    "(df['delta_pdi'] != 0), 'gene_symbol'].value_counts()"
   ]
  },
  {
   "cell_type": "code",
   "execution_count": 28,
   "metadata": {},
   "outputs": [
    {
     "data": {
      "text/plain": [
       "'CREB1 DLX4 FLI1 HEY1 KLF7 MAX MEOX1 MYF6 NFIX PPARG PRRX1 RARG STAT3 TBX5 TCF4 TFAP2A THRA'"
      ]
     },
     "execution_count": 28,
     "metadata": {},
     "output_type": "execute_result"
    }
   ],
   "source": [
    "# 15 aa flanks\n",
    "' '.join(df.loc[(df['dbd_fraction'] == 0) &\n",
    "       (df['dbd_flank_affected'] == False) &\n",
    "       (df['delta_pdi'] != 0), 'gene_symbol'].unique())"
   ]
  },
  {
   "cell_type": "code",
   "execution_count": 29,
   "metadata": {},
   "outputs": [
    {
     "data": {
      "text/plain": [
       "18"
      ]
     },
     "execution_count": 29,
     "metadata": {},
     "output_type": "execute_result"
    }
   ],
   "source": [
    "(df['dbd_pct_lost'] > 0).sum()"
   ]
  },
  {
   "cell_type": "code",
   "execution_count": 30,
   "metadata": {},
   "outputs": [],
   "source": [
    "# full DBD in alternative isoform, fraction in disordered\n",
    "df['f_disorder_difference'] = df.apply(lambda x: disordered_fraction_of_different_regions(tfs[x['gene_symbol']], x['ref_iso'], x['alt_iso']), axis=1)"
   ]
  },
  {
   "cell_type": "code",
   "execution_count": 31,
   "metadata": {},
   "outputs": [
    {
     "data": {
      "text/plain": [
       "Full DBD in\\nalternative isoform    31\n",
       "Partial loss\\nof DBD                12\n",
       "DBD flank affected                   9\n",
       "Full loss\\nof DBD                    6\n",
       "Name: dbd_or_flank_affected, dtype: int64"
      ]
     },
     "execution_count": 31,
     "metadata": {},
     "output_type": "execute_result"
    }
   ],
   "source": [
    "df.dbd_or_flank_affected.value_counts()"
   ]
  },
  {
   "cell_type": "code",
   "execution_count": 32,
   "metadata": {},
   "outputs": [
    {
     "data": {
      "text/html": [
       "<div>\n",
       "<style scoped>\n",
       "    .dataframe tbody tr th:only-of-type {\n",
       "        vertical-align: middle;\n",
       "    }\n",
       "\n",
       "    .dataframe tbody tr th {\n",
       "        vertical-align: top;\n",
       "    }\n",
       "\n",
       "    .dataframe thead th {\n",
       "        text-align: right;\n",
       "    }\n",
       "</style>\n",
       "<table border=\"1\" class=\"dataframe\">\n",
       "  <thead>\n",
       "    <tr style=\"text-align: right;\">\n",
       "      <th></th>\n",
       "      <th>gene_symbol</th>\n",
       "      <th>ref_iso</th>\n",
       "      <th>alt_iso</th>\n",
       "      <th>dbd_fraction</th>\n",
       "      <th>dbd_insertion_n_aa</th>\n",
       "      <th>dbd_n_aa_to_change</th>\n",
       "      <th>dbd_flank_affected</th>\n",
       "      <th>dbd_pct_lost</th>\n",
       "      <th>dbd_affected</th>\n",
       "      <th>dbd_or_flank_affected</th>\n",
       "      <th>...</th>\n",
       "      <th>delta_n_aa</th>\n",
       "      <th>abs_delta_n_aa</th>\n",
       "      <th>delta_n_aa_disordered</th>\n",
       "      <th>abs_delta_n_aa_disordered</th>\n",
       "      <th>delta_n_aa_ordered</th>\n",
       "      <th>abs_delta_n_aa_ordered</th>\n",
       "      <th>f_disorder_delta_aa</th>\n",
       "      <th>pdi_affected</th>\n",
       "      <th>f_disorder_difference</th>\n",
       "      <th>color</th>\n",
       "    </tr>\n",
       "  </thead>\n",
       "  <tbody>\n",
       "    <tr>\n",
       "      <th>564</th>\n",
       "      <td>STAT3</td>\n",
       "      <td>STAT3-1</td>\n",
       "      <td>STAT3-3</td>\n",
       "      <td>0.0</td>\n",
       "      <td>0</td>\n",
       "      <td>227</td>\n",
       "      <td>False</td>\n",
       "      <td>0.0</td>\n",
       "      <td>Full DBD in\\nalternative isoform</td>\n",
       "      <td>Full DBD in\\nalternative isoform</td>\n",
       "      <td>...</td>\n",
       "      <td>97.0</td>\n",
       "      <td>97.0</td>\n",
       "      <td>-6.0</td>\n",
       "      <td>6.0</td>\n",
       "      <td>103.0</td>\n",
       "      <td>103.0</td>\n",
       "      <td>0.055046</td>\n",
       "      <td>True</td>\n",
       "      <td>0.010101</td>\n",
       "      <td>(0.92864754, 0.68116207, 0.4993754, 1.0)</td>\n",
       "    </tr>\n",
       "    <tr>\n",
       "      <th>483</th>\n",
       "      <td>PRRX1</td>\n",
       "      <td>PRRX1-2</td>\n",
       "      <td>PRRX1-3</td>\n",
       "      <td>0.0</td>\n",
       "      <td>0</td>\n",
       "      <td>49</td>\n",
       "      <td>False</td>\n",
       "      <td>0.0</td>\n",
       "      <td>Full DBD in\\nalternative isoform</td>\n",
       "      <td>Full DBD in\\nalternative isoform</td>\n",
       "      <td>...</td>\n",
       "      <td>45.0</td>\n",
       "      <td>45.0</td>\n",
       "      <td>48.0</td>\n",
       "      <td>48.0</td>\n",
       "      <td>-3.0</td>\n",
       "      <td>3.0</td>\n",
       "      <td>0.941176</td>\n",
       "      <td>True</td>\n",
       "      <td>1.000000</td>\n",
       "      <td>(0.29408557, 0.13721193, 0.38442775, 1.0)</td>\n",
       "    </tr>\n",
       "    <tr>\n",
       "      <th>256</th>\n",
       "      <td>KLF7</td>\n",
       "      <td>KLF7-1</td>\n",
       "      <td>KLF7-7</td>\n",
       "      <td>1.0</td>\n",
       "      <td>0</td>\n",
       "      <td>0</td>\n",
       "      <td>True</td>\n",
       "      <td>100.0</td>\n",
       "      <td>Full loss\\nof DBD</td>\n",
       "      <td>Full loss\\nof DBD</td>\n",
       "      <td>...</td>\n",
       "      <td>215.0</td>\n",
       "      <td>215.0</td>\n",
       "      <td>121.0</td>\n",
       "      <td>121.0</td>\n",
       "      <td>94.0</td>\n",
       "      <td>94.0</td>\n",
       "      <td>0.562791</td>\n",
       "      <td>True</td>\n",
       "      <td>0.649254</td>\n",
       "      <td>(0.61866821, 0.21416307, 0.43749868, 1.0)</td>\n",
       "    </tr>\n",
       "    <tr>\n",
       "      <th>213</th>\n",
       "      <td>HMGA1</td>\n",
       "      <td>HMGA1-1</td>\n",
       "      <td>HMGA1-2</td>\n",
       "      <td>0.0</td>\n",
       "      <td>0</td>\n",
       "      <td>1</td>\n",
       "      <td>True</td>\n",
       "      <td>0.0</td>\n",
       "      <td>Full DBD in\\nalternative isoform</td>\n",
       "      <td>DBD flank affected</td>\n",
       "      <td>...</td>\n",
       "      <td>11.0</td>\n",
       "      <td>11.0</td>\n",
       "      <td>11.0</td>\n",
       "      <td>11.0</td>\n",
       "      <td>0.0</td>\n",
       "      <td>0.0</td>\n",
       "      <td>1.000000</td>\n",
       "      <td>True</td>\n",
       "      <td>1.000000</td>\n",
       "      <td>(0.29408557, 0.13721193, 0.38442775, 1.0)</td>\n",
       "    </tr>\n",
       "    <tr>\n",
       "      <th>204</th>\n",
       "      <td>HEY1</td>\n",
       "      <td>HEY1-2</td>\n",
       "      <td>HEY1-1</td>\n",
       "      <td>0.0</td>\n",
       "      <td>4</td>\n",
       "      <td>0</td>\n",
       "      <td>False</td>\n",
       "      <td>0.0</td>\n",
       "      <td>Full DBD in\\nalternative isoform</td>\n",
       "      <td>Full DBD in\\nalternative isoform</td>\n",
       "      <td>...</td>\n",
       "      <td>-4.0</td>\n",
       "      <td>4.0</td>\n",
       "      <td>-1.0</td>\n",
       "      <td>1.0</td>\n",
       "      <td>-3.0</td>\n",
       "      <td>3.0</td>\n",
       "      <td>0.250000</td>\n",
       "      <td>True</td>\n",
       "      <td>0.000000</td>\n",
       "      <td>(0.92907237, 0.68878959, 0.50411509, 1.0)</td>\n",
       "    </tr>\n",
       "  </tbody>\n",
       "</table>\n",
       "<p>5 rows × 24 columns</p>\n",
       "</div>"
      ],
      "text/plain": [
       "    gene_symbol  ref_iso  alt_iso  dbd_fraction  dbd_insertion_n_aa  \\\n",
       "564       STAT3  STAT3-1  STAT3-3           0.0                   0   \n",
       "483       PRRX1  PRRX1-2  PRRX1-3           0.0                   0   \n",
       "256        KLF7   KLF7-1   KLF7-7           1.0                   0   \n",
       "213       HMGA1  HMGA1-1  HMGA1-2           0.0                   0   \n",
       "204        HEY1   HEY1-2   HEY1-1           0.0                   4   \n",
       "\n",
       "     dbd_n_aa_to_change  dbd_flank_affected  dbd_pct_lost  \\\n",
       "564                 227               False           0.0   \n",
       "483                  49               False           0.0   \n",
       "256                   0                True         100.0   \n",
       "213                   1                True           0.0   \n",
       "204                   0               False           0.0   \n",
       "\n",
       "                         dbd_affected             dbd_or_flank_affected  ...  \\\n",
       "564  Full DBD in\\nalternative isoform  Full DBD in\\nalternative isoform  ...   \n",
       "483  Full DBD in\\nalternative isoform  Full DBD in\\nalternative isoform  ...   \n",
       "256                 Full loss\\nof DBD                 Full loss\\nof DBD  ...   \n",
       "213  Full DBD in\\nalternative isoform                DBD flank affected  ...   \n",
       "204  Full DBD in\\nalternative isoform  Full DBD in\\nalternative isoform  ...   \n",
       "\n",
       "     delta_n_aa abs_delta_n_aa  delta_n_aa_disordered  \\\n",
       "564        97.0           97.0                   -6.0   \n",
       "483        45.0           45.0                   48.0   \n",
       "256       215.0          215.0                  121.0   \n",
       "213        11.0           11.0                   11.0   \n",
       "204        -4.0            4.0                   -1.0   \n",
       "\n",
       "    abs_delta_n_aa_disordered  delta_n_aa_ordered  abs_delta_n_aa_ordered  \\\n",
       "564                       6.0               103.0                   103.0   \n",
       "483                      48.0                -3.0                     3.0   \n",
       "256                     121.0                94.0                    94.0   \n",
       "213                      11.0                 0.0                     0.0   \n",
       "204                       1.0                -3.0                     3.0   \n",
       "\n",
       "     f_disorder_delta_aa  pdi_affected  f_disorder_difference  \\\n",
       "564             0.055046          True               0.010101   \n",
       "483             0.941176          True               1.000000   \n",
       "256             0.562791          True               0.649254   \n",
       "213             1.000000          True               1.000000   \n",
       "204             0.250000          True               0.000000   \n",
       "\n",
       "                                         color  \n",
       "564   (0.92864754, 0.68116207, 0.4993754, 1.0)  \n",
       "483  (0.29408557, 0.13721193, 0.38442775, 1.0)  \n",
       "256  (0.61866821, 0.21416307, 0.43749868, 1.0)  \n",
       "213  (0.29408557, 0.13721193, 0.38442775, 1.0)  \n",
       "204  (0.92907237, 0.68878959, 0.50411509, 1.0)  \n",
       "\n",
       "[5 rows x 24 columns]"
      ]
     },
     "execution_count": 32,
     "metadata": {},
     "output_type": "execute_result"
    }
   ],
   "source": [
    "# color map\n",
    "t = df.loc[:,'f_disorder_difference'].values\n",
    "norm = plt.Normalize(df.loc[:,'f_disorder_difference'].min(), df.loc[:,'f_disorder_difference'].max())\n",
    "cmap = sns.color_palette(\"flare\", as_cmap=True)\n",
    "palette = {value: cmap(norm(value)) for value in t}\n",
    "\n",
    "def re_color(row, palette):\n",
    "    if pd.isnull(row['f_disorder_difference']):\n",
    "        color = palette[0]\n",
    "    else:\n",
    "        color = palette[row['f_disorder_difference']]\n",
    "    return color\n",
    "\n",
    "df[\"color\"] = df.apply(re_color, axis=1, palette=palette)\n",
    "df.sample(5)"
   ]
  },
  {
   "cell_type": "code",
   "execution_count": 33,
   "metadata": {},
   "outputs": [
    {
     "data": {
      "image/png": "[encoded data removed]",
      "text/plain": [
       "<Figure size 612x108 with 5 Axes>"
      ]
     },
     "metadata": {},
     "output_type": "display_data"
    },
    {
     "data": {
      "image/png": "[encoded data removed]",
      "text/plain": [
       "<Figure size 612x108 with 4 Axes>"
      ]
     },
     "metadata": {},
     "output_type": "display_data"
    }
   ],
   "source": [
    "# try distance from DBD\n",
    "# TODO\n",
    "# check y variable now that we use reference isoform\n",
    "# horizontal line across whole\n",
    "\n",
    "gs_kw = dict(width_ratios=[0.5, 1.2, 0.35, 1.6])\n",
    "fig, axs = plt.subplots(nrows=1, \n",
    "                        ncols=4,\n",
    "                        sharey=True,\n",
    "                        gridspec_kw=gs_kw)\n",
    "fig.set_size_inches(w=8.5, h=1.5)\n",
    "point_size = 6\n",
    "\n",
    "axs[0].set_title('Full loss of DBD',\n",
    "fontsize=fontsize)\n",
    "sns.swarmplot(data=df,\n",
    "              y='delta_pdi_trunc', \n",
    "              x='dbd_or_flank_affected',\n",
    "              size=point_size,\n",
    "              order=[\n",
    "                     'Full loss\\nof DBD',\n",
    "                     ],\n",
    "              ax=axs[0],\n",
    "              palette=palette,\n",
    "              hue='f_disorder_difference',\n",
    "               linewidth=1,\n",
    "               edgecolor=\"black\",\n",
    "              alpha=1,\n",
    "             zorder=10)\n",
    "axs[0].get_legend().remove()\n",
    "\n",
    "axs[1].set_title('Partial loss of DBD',\n",
    "fontsize=fontsize)\n",
    "axs[1].scatter(df.loc[(df['dbd_pct_lost'] > 0) & (df['dbd_pct_lost'] < 100), 'dbd_pct_lost'].values,\n",
    "               df.loc[(df['dbd_pct_lost'] > 0) & (df['dbd_pct_lost'] < 100), 'delta_pdi_trunc'].values,\n",
    "           alpha=1,\n",
    "           s=point_size**2,\n",
    "            c=df.loc[(df['dbd_pct_lost'] > 0) & (df['dbd_pct_lost'] < 100), 'color'].values,\n",
    "               linewidth=1,\n",
    "               edgecolor=\"black\",\n",
    "           clip_on=False,\n",
    "              zorder=10)\n",
    "axs[1].set_xlabel('Proportion missing')\n",
    "axs[1].set_xlim(100, 0)\n",
    "axs[1].set_xticks([99, 50, 1])\n",
    "axs[1].set_xticklabels(['{}%'.format(x)for x in axs[1].get_xticks()])\n",
    "axs[1].set_xticks(range(10, 91, 10), minor=True)\n",
    "\n",
    "# annotate zic3\n",
    "axs[1].annotate(\"ZIC3-1\", xy=(df.loc[(df[\"alt_iso\"] == \"ZIC3-1\"), 'dbd_pct_lost'].values, \n",
    "                              df.loc[(df[\"alt_iso\"] == \"ZIC3-1\"), 'delta_pdi_trunc'].values),\n",
    "                xytext=(-10, 0), textcoords='offset points', arrowprops = dict(arrowstyle=\"-\", color=\"black\"),\n",
    "                ha=\"right\", va=\"top\", fontsize=7,\n",
    "                bbox=dict(boxstyle='square,pad=0', fc='none', ec='none'))\n",
    "axs[1].annotate(\"ZIC3-3\", xy=(df.loc[(df[\"alt_iso\"] == \"ZIC3-3\"), 'dbd_pct_lost'].values, \n",
    "                              df.loc[(df[\"alt_iso\"] == \"ZIC3-3\"), 'delta_pdi_trunc'].values),\n",
    "                xytext=(-10, -5), textcoords='offset points', arrowprops = dict(arrowstyle=\"-\", color=\"black\"),\n",
    "                ha=\"right\", va=\"top\", fontsize=7,\n",
    "                bbox=dict(boxstyle='square,pad=0', fc='none', ec='none'))\n",
    "\n",
    "\n",
    "axs[2].set_title('Insertion\\nwithin DBD',\n",
    "fontsize=fontsize)\n",
    "axs[2].scatter(df.loc[(df['dbd_pct_lost'] == 0) & (df['dbd_insertion_n_aa'] > 0), 'dbd_insertion_n_aa'].values,\n",
    "               df.loc[(df['dbd_pct_lost'] == 0) & (df['dbd_insertion_n_aa'] > 0), 'delta_pdi_trunc'].values,\n",
    "           alpha=1,\n",
    "           s=point_size**2,\n",
    "            c=df.loc[(df['dbd_pct_lost'] == 0) & (df['dbd_insertion_n_aa'] > 0), 'color'].values,\n",
    "               linewidth=1,\n",
    "               edgecolor=\"black\",\n",
    "           clip_on=False,\n",
    "              zorder=10)\n",
    "axs[2].set_xlabel('amino acids\\ninserted')\n",
    "axs[2].set_xticks([1, 4])\n",
    "axs[2].set_xticks(range(1, 6), minor=True)\n",
    "\n",
    "# annotate hey1\n",
    "axs[2].annotate(\"HEY1-1\", xy=(df.loc[(df[\"alt_iso\"] == \"HEY1-1\"), 'dbd_insertion_n_aa'].values, \n",
    "                              df.loc[(df[\"alt_iso\"] == \"HEY1-1\"), 'delta_pdi_trunc'].values),\n",
    "                xytext=(-3, 15), textcoords='offset points', arrowprops = dict(arrowstyle=\"-\", color=\"black\"),\n",
    "                ha=\"center\", va=\"bottom\", fontsize=7,\n",
    "                bbox=dict(boxstyle='square,pad=0', fc='none', ec='none'))\n",
    "\n",
    "axs[3].set_title('Full DBD in\\nalternative isoform', fontsize=fontsize)\n",
    "axs[3].scatter(df.loc[(df['dbd_affected'] == 'Full DBD in\\nalternative isoform') &\n",
    "                      (df['dbd_insertion_n_aa'] == 0), 'dbd_n_aa_to_change'].values,\n",
    "               df.loc[(df['dbd_affected'] == 'Full DBD in\\nalternative isoform') &\n",
    "                      (df['dbd_insertion_n_aa'] == 0), 'delta_pdi_trunc'].values,\n",
    "           alpha=1,\n",
    "           s=point_size**2,\n",
    "            c=df.loc[(df['dbd_affected'] == 'Full DBD in\\nalternative isoform') &\n",
    "                     (df['dbd_insertion_n_aa'] == 0), 'color'].values,\n",
    "               linewidth=1,\n",
    "               edgecolor=\"black\",\n",
    "           clip_on=False,\n",
    "               zorder=10)\n",
    "\n",
    "axs[3].set_xlabel('Distance of alternative sequence from DBD\\n(number of AA)')\n",
    "\n",
    "# annotate tbx5 and creb1\n",
    "axs[3].annotate(\"TBX5-2\", xy=(df.loc[(df[\"alt_iso\"] == \"TBX5-2\"), 'dbd_n_aa_to_change'].values, \n",
    "                              df.loc[(df[\"alt_iso\"] == \"TBX5-2\"), 'delta_pdi_trunc'].values),\n",
    "                xytext=(12, -9), textcoords='offset points', arrowprops = dict(arrowstyle=\"-\", color=\"black\"),\n",
    "                ha=\"right\", va=\"top\", fontsize=7,\n",
    "                bbox=dict(boxstyle='square,pad=0', fc='none', ec='none'))\n",
    "axs[3].annotate(\"TBX5-3\", xy=(df.loc[(df[\"alt_iso\"] == \"TBX5-3\"), 'dbd_n_aa_to_change'].values, \n",
    "                              df.loc[(df[\"alt_iso\"] == \"TBX5-3\"), 'delta_pdi_trunc'].values),\n",
    "                xytext=(-2, 30), textcoords='offset points', arrowprops = dict(arrowstyle=\"-\", color=\"black\"),\n",
    "                ha=\"left\", va=\"center\", fontsize=7,\n",
    "                bbox=dict(boxstyle='square,pad=0', fc='none', ec='none'))\n",
    "axs[3].annotate(\"CREB1-1\", xy=(df.loc[(df[\"alt_iso\"] == \"CREB1-1\"), 'dbd_n_aa_to_change'].values, \n",
    "                               df.loc[(df[\"alt_iso\"] == \"CREB1-1\"), 'delta_pdi_trunc'].values),\n",
    "                xytext=(25, 9), textcoords='offset points', arrowprops = dict(arrowstyle=\"-\", \n",
    "                                                                              connectionstyle=\"arc3,rad=0.2\", \n",
    "                                                                              color=\"black\"),\n",
    "                ha=\"left\", va=\"center\", fontsize=7,\n",
    "                bbox=dict(boxstyle='square,pad=0', fc='none', ec='none'))\n",
    "\n",
    "# add colorbar\n",
    "# mirror figure\n",
    "fig2, axs2 = plt.subplots(nrows=1, \n",
    "                        ncols=4,\n",
    "                        sharey=True,\n",
    "                        gridspec_kw=gs_kw)\n",
    "fig2.set_size_inches(w=8.5, h=1.5)\n",
    "map1 = axs2[3].imshow(np.stack([t, t]), cmap=\"flare\")\n",
    "fig.colorbar(map1, ax=axs[3], aspect=20, label=\"% alt. iso. seq. diff.\\nin disordered regions\")\n",
    "\n",
    "\n",
    "\n",
    "for ax in axs:\n",
    "    ax.spines['right'].set_visible(False)\n",
    "    ax.spines['top'].set_visible(False)\n",
    "    ax.axhline(y=0, linestyle=\"dashed\", linewidth=1, color=\"black\", zorder=1)\n",
    "    ax.axhline(y=-1, linestyle=\"dashed\", linewidth=1, color=\"black\", zorder=1)\n",
    "for ax in axs[1:]:\n",
    "    ax.spines['left'].set_visible(False)\n",
    "    ax.yaxis.set_tick_params(which='both', length=0, zorder=1)\n",
    "for i in [0]:\n",
    "    axs[i].set_xlabel('')\n",
    "    axs[i].set_ylabel('')\n",
    "    axs[i].spines['bottom'].set_visible(False)\n",
    "    axs[i].xaxis.set_tick_params(length=0)\n",
    "    axs[i].set_xticks([])\n",
    "axs[0].set_yticks([-1, 0, 1])\n",
    "axs[0].set_yticks(np.linspace(-1, 1, 9), minor=True)\n",
    "axs[0].set_yticklabels(['-100%', '0', '+≥100%'])\n",
    "axs[0].set_ylabel('Change in number of PDI\\nin alternative isoform')\n",
    "\n",
    "\n",
    "fig.savefig('../../figures/fig3/DBD_or_flank_change_vs_PDI_composite_alt_with_distance_colored_annotated.pdf', bbox_inches='tight')"
   ]
  },
  {
   "cell_type": "code",
   "execution_count": 34,
   "metadata": {},
   "outputs": [
    {
     "data": {
      "text/plain": [
       "38"
      ]
     },
     "execution_count": 34,
     "metadata": {},
     "output_type": "execute_result"
    }
   ],
   "source": [
    "len(df.loc[(df['dbd_affected'] == 'Full DBD in\\nalternative isoform') & (df['dbd_insertion_n_aa'] == 0)])"
   ]
  },
  {
   "cell_type": "code",
   "execution_count": 35,
   "metadata": {},
   "outputs": [
    {
     "data": {
      "text/plain": [
       "8"
      ]
     },
     "execution_count": 35,
     "metadata": {},
     "output_type": "execute_result"
    }
   ],
   "source": [
    "len(df.loc[(df['dbd_affected'] == 'Full DBD in\\nalternative isoform') & (df['dbd_insertion_n_aa'] == 0) &\n",
    "           (df['delta_pdi_trunc'] == 0)])"
   ]
  },
  {
   "cell_type": "code",
   "execution_count": 36,
   "metadata": {},
   "outputs": [
    {
     "data": {
      "text/plain": [
       "23"
      ]
     },
     "execution_count": 36,
     "metadata": {},
     "output_type": "execute_result"
    }
   ],
   "source": [
    "len(df.loc[(df['dbd_affected'] == 'Full DBD in\\nalternative isoform') & (df['dbd_insertion_n_aa'] == 0) &\n",
    "           (df['delta_pdi_trunc'] < 0)])"
   ]
  },
  {
   "cell_type": "code",
   "execution_count": 37,
   "metadata": {},
   "outputs": [
    {
     "data": {
      "text/plain": [
       "58"
      ]
     },
     "execution_count": 37,
     "metadata": {},
     "output_type": "execute_result"
    }
   ],
   "source": [
    "len(df)"
   ]
  },
  {
   "cell_type": "code",
   "execution_count": 38,
   "metadata": {},
   "outputs": [
    {
     "data": {
      "text/html": [
       "<div>\n",
       "<style scoped>\n",
       "    .dataframe tbody tr th:only-of-type {\n",
       "        vertical-align: middle;\n",
       "    }\n",
       "\n",
       "    .dataframe tbody tr th {\n",
       "        vertical-align: top;\n",
       "    }\n",
       "\n",
       "    .dataframe thead th {\n",
       "        text-align: right;\n",
       "    }\n",
       "</style>\n",
       "<table border=\"1\" class=\"dataframe\">\n",
       "  <thead>\n",
       "    <tr style=\"text-align: right;\">\n",
       "      <th></th>\n",
       "      <th>gene_symbol</th>\n",
       "      <th>ref_iso</th>\n",
       "      <th>alt_iso</th>\n",
       "      <th>dbd_fraction</th>\n",
       "      <th>dbd_insertion_n_aa</th>\n",
       "      <th>dbd_n_aa_to_change</th>\n",
       "      <th>dbd_flank_affected</th>\n",
       "      <th>dbd_pct_lost</th>\n",
       "      <th>dbd_affected</th>\n",
       "      <th>dbd_or_flank_affected</th>\n",
       "      <th>...</th>\n",
       "      <th>delta_n_aa</th>\n",
       "      <th>abs_delta_n_aa</th>\n",
       "      <th>delta_n_aa_disordered</th>\n",
       "      <th>abs_delta_n_aa_disordered</th>\n",
       "      <th>delta_n_aa_ordered</th>\n",
       "      <th>abs_delta_n_aa_ordered</th>\n",
       "      <th>f_disorder_delta_aa</th>\n",
       "      <th>pdi_affected</th>\n",
       "      <th>f_disorder_difference</th>\n",
       "      <th>color</th>\n",
       "    </tr>\n",
       "  </thead>\n",
       "  <tbody>\n",
       "    <tr>\n",
       "      <th>71</th>\n",
       "      <td>DLX4</td>\n",
       "      <td>DLX4-1</td>\n",
       "      <td>DLX4-2</td>\n",
       "      <td>0.0</td>\n",
       "      <td>0</td>\n",
       "      <td>24</td>\n",
       "      <td>False</td>\n",
       "      <td>0.0</td>\n",
       "      <td>Full DBD in\\nalternative isoform</td>\n",
       "      <td>Full DBD in\\nalternative isoform</td>\n",
       "      <td>...</td>\n",
       "      <td>72.0</td>\n",
       "      <td>72.0</td>\n",
       "      <td>72.0</td>\n",
       "      <td>72.0</td>\n",
       "      <td>0.0</td>\n",
       "      <td>0.0</td>\n",
       "      <td>1.000000</td>\n",
       "      <td>True</td>\n",
       "      <td>1.000000</td>\n",
       "      <td>(0.29408557, 0.13721193, 0.38442775, 1.0)</td>\n",
       "    </tr>\n",
       "    <tr>\n",
       "      <th>362</th>\n",
       "      <td>NFIX</td>\n",
       "      <td>NFIX-1</td>\n",
       "      <td>NFIX-2</td>\n",
       "      <td>0.0</td>\n",
       "      <td>0</td>\n",
       "      <td>59</td>\n",
       "      <td>False</td>\n",
       "      <td>0.0</td>\n",
       "      <td>Full DBD in\\nalternative isoform</td>\n",
       "      <td>Full DBD in\\nalternative isoform</td>\n",
       "      <td>...</td>\n",
       "      <td>8.0</td>\n",
       "      <td>8.0</td>\n",
       "      <td>0.0</td>\n",
       "      <td>0.0</td>\n",
       "      <td>8.0</td>\n",
       "      <td>8.0</td>\n",
       "      <td>0.000000</td>\n",
       "      <td>True</td>\n",
       "      <td>0.000000</td>\n",
       "      <td>(0.92907237, 0.68878959, 0.50411509, 1.0)</td>\n",
       "    </tr>\n",
       "    <tr>\n",
       "      <th>488</th>\n",
       "      <td>RARG</td>\n",
       "      <td>RARG-1</td>\n",
       "      <td>RARG-2</td>\n",
       "      <td>0.0</td>\n",
       "      <td>0</td>\n",
       "      <td>27</td>\n",
       "      <td>False</td>\n",
       "      <td>0.0</td>\n",
       "      <td>Full DBD in\\nalternative isoform</td>\n",
       "      <td>Full DBD in\\nalternative isoform</td>\n",
       "      <td>...</td>\n",
       "      <td>11.0</td>\n",
       "      <td>11.0</td>\n",
       "      <td>13.0</td>\n",
       "      <td>13.0</td>\n",
       "      <td>-2.0</td>\n",
       "      <td>2.0</td>\n",
       "      <td>0.866667</td>\n",
       "      <td>True</td>\n",
       "      <td>1.000000</td>\n",
       "      <td>(0.29408557, 0.13721193, 0.38442775, 1.0)</td>\n",
       "    </tr>\n",
       "    <tr>\n",
       "      <th>512</th>\n",
       "      <td>RORC</td>\n",
       "      <td>RORC-3</td>\n",
       "      <td>RORC-4</td>\n",
       "      <td>0.0</td>\n",
       "      <td>0</td>\n",
       "      <td>5</td>\n",
       "      <td>True</td>\n",
       "      <td>0.0</td>\n",
       "      <td>Full DBD in\\nalternative isoform</td>\n",
       "      <td>DBD flank affected</td>\n",
       "      <td>...</td>\n",
       "      <td>21.0</td>\n",
       "      <td>21.0</td>\n",
       "      <td>6.0</td>\n",
       "      <td>6.0</td>\n",
       "      <td>15.0</td>\n",
       "      <td>15.0</td>\n",
       "      <td>0.285714</td>\n",
       "      <td>True</td>\n",
       "      <td>0.222222</td>\n",
       "      <td>(0.90386248, 0.47447348, 0.38148746, 1.0)</td>\n",
       "    </tr>\n",
       "    <tr>\n",
       "      <th>517</th>\n",
       "      <td>RXRG</td>\n",
       "      <td>RXRG-1</td>\n",
       "      <td>RXRG-2</td>\n",
       "      <td>0.0</td>\n",
       "      <td>0</td>\n",
       "      <td>14</td>\n",
       "      <td>True</td>\n",
       "      <td>0.0</td>\n",
       "      <td>Full DBD in\\nalternative isoform</td>\n",
       "      <td>DBD flank affected</td>\n",
       "      <td>...</td>\n",
       "      <td>123.0</td>\n",
       "      <td>123.0</td>\n",
       "      <td>126.0</td>\n",
       "      <td>126.0</td>\n",
       "      <td>-3.0</td>\n",
       "      <td>3.0</td>\n",
       "      <td>0.976744</td>\n",
       "      <td>True</td>\n",
       "      <td>1.000000</td>\n",
       "      <td>(0.29408557, 0.13721193, 0.38442775, 1.0)</td>\n",
       "    </tr>\n",
       "    <tr>\n",
       "      <th>637</th>\n",
       "      <td>TFAP2A</td>\n",
       "      <td>TFAP2A-2</td>\n",
       "      <td>TFAP2A-4</td>\n",
       "      <td>0.0</td>\n",
       "      <td>0</td>\n",
       "      <td>196</td>\n",
       "      <td>False</td>\n",
       "      <td>0.0</td>\n",
       "      <td>Full DBD in\\nalternative isoform</td>\n",
       "      <td>Full DBD in\\nalternative isoform</td>\n",
       "      <td>...</td>\n",
       "      <td>6.0</td>\n",
       "      <td>6.0</td>\n",
       "      <td>6.0</td>\n",
       "      <td>6.0</td>\n",
       "      <td>0.0</td>\n",
       "      <td>0.0</td>\n",
       "      <td>1.000000</td>\n",
       "      <td>True</td>\n",
       "      <td>1.000000</td>\n",
       "      <td>(0.29408557, 0.13721193, 0.38442775, 1.0)</td>\n",
       "    </tr>\n",
       "    <tr>\n",
       "      <th>666</th>\n",
       "      <td>THRB</td>\n",
       "      <td>THRB-2</td>\n",
       "      <td>THRB-1</td>\n",
       "      <td>0.0</td>\n",
       "      <td>0</td>\n",
       "      <td>11</td>\n",
       "      <td>True</td>\n",
       "      <td>0.0</td>\n",
       "      <td>Full DBD in\\nalternative isoform</td>\n",
       "      <td>DBD flank affected</td>\n",
       "      <td>...</td>\n",
       "      <td>-15.0</td>\n",
       "      <td>15.0</td>\n",
       "      <td>-15.0</td>\n",
       "      <td>15.0</td>\n",
       "      <td>0.0</td>\n",
       "      <td>0.0</td>\n",
       "      <td>1.000000</td>\n",
       "      <td>True</td>\n",
       "      <td>1.000000</td>\n",
       "      <td>(0.29408557, 0.13721193, 0.38442775, 1.0)</td>\n",
       "    </tr>\n",
       "  </tbody>\n",
       "</table>\n",
       "<p>7 rows × 24 columns</p>\n",
       "</div>"
      ],
      "text/plain": [
       "    gene_symbol   ref_iso   alt_iso  dbd_fraction  dbd_insertion_n_aa  \\\n",
       "71         DLX4    DLX4-1    DLX4-2           0.0                   0   \n",
       "362        NFIX    NFIX-1    NFIX-2           0.0                   0   \n",
       "488        RARG    RARG-1    RARG-2           0.0                   0   \n",
       "512        RORC    RORC-3    RORC-4           0.0                   0   \n",
       "517        RXRG    RXRG-1    RXRG-2           0.0                   0   \n",
       "637      TFAP2A  TFAP2A-2  TFAP2A-4           0.0                   0   \n",
       "666        THRB    THRB-2    THRB-1           0.0                   0   \n",
       "\n",
       "     dbd_n_aa_to_change  dbd_flank_affected  dbd_pct_lost  \\\n",
       "71                   24               False           0.0   \n",
       "362                  59               False           0.0   \n",
       "488                  27               False           0.0   \n",
       "512                   5                True           0.0   \n",
       "517                  14                True           0.0   \n",
       "637                 196               False           0.0   \n",
       "666                  11                True           0.0   \n",
       "\n",
       "                         dbd_affected             dbd_or_flank_affected  ...  \\\n",
       "71   Full DBD in\\nalternative isoform  Full DBD in\\nalternative isoform  ...   \n",
       "362  Full DBD in\\nalternative isoform  Full DBD in\\nalternative isoform  ...   \n",
       "488  Full DBD in\\nalternative isoform  Full DBD in\\nalternative isoform  ...   \n",
       "512  Full DBD in\\nalternative isoform                DBD flank affected  ...   \n",
       "517  Full DBD in\\nalternative isoform                DBD flank affected  ...   \n",
       "637  Full DBD in\\nalternative isoform  Full DBD in\\nalternative isoform  ...   \n",
       "666  Full DBD in\\nalternative isoform                DBD flank affected  ...   \n",
       "\n",
       "     delta_n_aa abs_delta_n_aa  delta_n_aa_disordered  \\\n",
       "71         72.0           72.0                   72.0   \n",
       "362         8.0            8.0                    0.0   \n",
       "488        11.0           11.0                   13.0   \n",
       "512        21.0           21.0                    6.0   \n",
       "517       123.0          123.0                  126.0   \n",
       "637         6.0            6.0                    6.0   \n",
       "666       -15.0           15.0                  -15.0   \n",
       "\n",
       "    abs_delta_n_aa_disordered  delta_n_aa_ordered  abs_delta_n_aa_ordered  \\\n",
       "71                       72.0                 0.0                     0.0   \n",
       "362                       0.0                 8.0                     8.0   \n",
       "488                      13.0                -2.0                     2.0   \n",
       "512                       6.0                15.0                    15.0   \n",
       "517                     126.0                -3.0                     3.0   \n",
       "637                       6.0                 0.0                     0.0   \n",
       "666                      15.0                 0.0                     0.0   \n",
       "\n",
       "     f_disorder_delta_aa  pdi_affected  f_disorder_difference  \\\n",
       "71              1.000000          True               1.000000   \n",
       "362             0.000000          True               0.000000   \n",
       "488             0.866667          True               1.000000   \n",
       "512             0.285714          True               0.222222   \n",
       "517             0.976744          True               1.000000   \n",
       "637             1.000000          True               1.000000   \n",
       "666             1.000000          True               1.000000   \n",
       "\n",
       "                                         color  \n",
       "71   (0.29408557, 0.13721193, 0.38442775, 1.0)  \n",
       "362  (0.92907237, 0.68878959, 0.50411509, 1.0)  \n",
       "488  (0.29408557, 0.13721193, 0.38442775, 1.0)  \n",
       "512  (0.90386248, 0.47447348, 0.38148746, 1.0)  \n",
       "517  (0.29408557, 0.13721193, 0.38442775, 1.0)  \n",
       "637  (0.29408557, 0.13721193, 0.38442775, 1.0)  \n",
       "666  (0.29408557, 0.13721193, 0.38442775, 1.0)  \n",
       "\n",
       "[7 rows x 24 columns]"
      ]
     },
     "execution_count": 38,
     "metadata": {},
     "output_type": "execute_result"
    }
   ],
   "source": [
    "df[df['delta_pdi_trunc'] > 0]"
   ]
  },
  {
   "cell_type": "code",
   "execution_count": 39,
   "metadata": {},
   "outputs": [
    {
     "data": {
      "image/png": "[encoded data removed]",
      "text/plain": [
       "<Figure size 288x288 with 1 Axes>"
      ]
     },
     "metadata": {},
     "output_type": "display_data"
    }
   ],
   "source": [
    "tf = tfs[\"RXRG\"]\n",
    "fig, ax = plt.subplots(1, 1, figsize=(4, 4))\n",
    "y1h_pdi_per_tf_gene_plot(tf.name, ax=ax, data=y1h)"
   ]
  },
  {
   "cell_type": "code",
   "execution_count": 40,
   "metadata": {},
   "outputs": [],
   "source": [
    "x = list(df.loc[(df['dbd_affected'] == 'Full DBD in\\nalternative isoform') & (df['delta_pdi_trunc'] != 0), 'f_disorder_difference'])\n",
    "y = list(df.loc[(df['dbd_affected'] == 'Full DBD in\\nalternative isoform') & (df['delta_pdi_trunc'] == 0), 'f_disorder_difference'])"
   ]
  },
  {
   "cell_type": "code",
   "execution_count": 41,
   "metadata": {},
   "outputs": [
    {
     "data": {
      "text/plain": [
       "MannwhitneyuResult(statistic=112.0, pvalue=0.28017732313207544)"
      ]
     },
     "execution_count": 41,
     "metadata": {},
     "output_type": "execute_result"
    }
   ],
   "source": [
    "stats.mannwhitneyu(x, y)"
   ]
  },
  {
   "cell_type": "markdown",
   "metadata": {},
   "source": [
    "## exon diagrams"
   ]
  },
  {
   "cell_type": "code",
   "execution_count": 42,
   "metadata": {},
   "outputs": [
    {
     "data": {
      "image/png": "[encoded data removed]",
      "text/plain": [
       "<Figure size 288x144 with 3 Axes>"
      ]
     },
     "metadata": {},
     "output_type": "display_data"
    }
   ],
   "source": [
    "fig, ax = plt.subplots(figsize=(4, 2))\n",
    "\n",
    "tfs[\"HEY1\"].protein_diagram(only_cloned_isoforms=False, draw_legend=False, ax=ax)\n",
    "fig.savefig(\"../../figures/fig3/HEY1_protein_diagram.pdf\", bbox_inches=\"tight\", dpi=\"figure\")"
   ]
  },
  {
   "cell_type": "code",
   "execution_count": 43,
   "metadata": {},
   "outputs": [
    {
     "data": {
      "image/png": "[encoded data removed]",
      "text/plain": [
       "<Figure size 288x54 with 1 Axes>"
      ]
     },
     "metadata": {},
     "output_type": "display_data"
    }
   ],
   "source": [
    "fig, ax = plt.subplots(figsize=(4, 0.75))\n",
    "\n",
    "tfs[\"HEY1\"].exon_diagram(ax=ax)\n",
    "fig.savefig(\"../../figures/fig3/HEY1_exon_diagram.pdf\", bbox_inches=\"tight\", dpi=\"figure\")"
   ]
  },
  {
   "cell_type": "code",
   "execution_count": 44,
   "metadata": {},
   "outputs": [
    {
     "data": {
      "image/png": "[encoded data removed]",
      "text/plain": [
       "<Figure size 216x36 with 1 Axes>"
      ]
     },
     "metadata": {},
     "output_type": "display_data"
    }
   ],
   "source": [
    "fig, ax = plt.subplots(figsize=(3, 0.5))\n",
    "\n",
    "y1h_pdi_per_tf_gene_plot(\"HEY1\", ax=ax, data=y1h, iso_order=[\"HEY1-2\", \"HEY1-1\"])\n",
    "fig.savefig(\"../../figures/fig3/HEY1_y1h_plot.pdf\", bbox_inches=\"tight\", dpi=\"figure\")"
   ]
  },
  {
   "cell_type": "code",
   "execution_count": 45,
   "metadata": {},
   "outputs": [
    {
     "data": {
      "image/png": "[encoded data removed]",
      "text/plain": [
       "<Figure size 288x108 with 2 Axes>"
      ]
     },
     "metadata": {},
     "output_type": "display_data"
    }
   ],
   "source": [
    "fig, ax = plt.subplots(figsize=(4, 1.5))\n",
    "\n",
    "tfs[\"CREB1\"].protein_diagram(only_cloned_isoforms=True, draw_legend=False, ax=ax)\n",
    "fig.savefig(\"../../figures/fig3/CREB1_protein_diagram.pdf\", bbox_inches=\"tight\", dpi=\"figure\")"
   ]
  },
  {
   "cell_type": "code",
   "execution_count": 46,
   "metadata": {},
   "outputs": [
    {
     "data": {
      "image/png": "[encoded data removed]",
      "text/plain": [
       "<Figure size 216x36 with 1 Axes>"
      ]
     },
     "metadata": {},
     "output_type": "display_data"
    }
   ],
   "source": [
    "fig, ax = plt.subplots(figsize=(3, 0.5))\n",
    "\n",
    "y1h_pdi_per_tf_gene_plot(\"CREB1\", ax=ax, data=y1h, iso_order=[\"CREB1-2\", \"CREB1-1\"])\n",
    "fig.savefig(\"../../figures/fig3/CREB1_y1h_plot.pdf\", bbox_inches=\"tight\", dpi=\"figure\")"
   ]
  },
  {
   "cell_type": "code",
   "execution_count": 47,
   "metadata": {},
   "outputs": [
    {
     "data": {
      "image/png": "[encoded data removed]",
      "text/plain": [
       "<Figure size 288x36 with 1 Axes>"
      ]
     },
     "metadata": {},
     "output_type": "display_data"
    }
   ],
   "source": [
    "fig, ax = plt.subplots(figsize=(4, 0.5))\n",
    "\n",
    "tfs[\"CREB1\"].exon_diagram(ax=ax)\n",
    "fig.savefig(\"../../figures/fig3/CREB1_exon_diagram.pdf\", bbox_inches=\"tight\", dpi=\"figure\")"
   ]
  },
  {
   "cell_type": "code",
   "execution_count": 48,
   "metadata": {},
   "outputs": [
    {
     "data": {
      "image/png": "[encoded data removed]",
      "text/plain": [
       "<Figure size 288x54 with 1 Axes>"
      ]
     },
     "metadata": {},
     "output_type": "display_data"
    }
   ],
   "source": [
    "fig, ax = plt.subplots(figsize=(4, 0.75))\n",
    "\n",
    "tfs[\"TBX5\"].exon_diagram(ax=ax)\n",
    "fig.savefig(\"../../figures/fig3/TBX5_exon_diagram.pdf\", bbox_inches=\"tight\", dpi=\"figure\")"
   ]
  },
  {
   "cell_type": "code",
   "execution_count": 49,
   "metadata": {},
   "outputs": [
    {
     "data": {
      "image/png": "[encoded data removed]",
      "text/plain": [
       "<Figure size 288x144 with 3 Axes>"
      ]
     },
     "metadata": {},
     "output_type": "display_data"
    }
   ],
   "source": [
    "fig, ax = plt.subplots(figsize=(4, 2))\n",
    "\n",
    "tfs[\"TBX5\"].protein_diagram(only_cloned_isoforms=True, draw_legend=False, ax=ax)\n",
    "fig.savefig(\"../../figures/fig3/TBX5_protein_diagram.pdf\", bbox_inches=\"tight\", dpi=\"figure\")"
   ]
  },
  {
   "cell_type": "code",
   "execution_count": 50,
   "metadata": {},
   "outputs": [
    {
     "data": {
      "image/png": "[encoded data removed]",
      "text/plain": [
       "<Figure size 216x72 with 1 Axes>"
      ]
     },
     "metadata": {},
     "output_type": "display_data"
    }
   ],
   "source": [
    "fig, ax = plt.subplots(figsize=(3, 1))\n",
    "\n",
    "y1h_pdi_per_tf_gene_plot(\"TBX5\", ax=ax, data=y1h)\n",
    "fig.savefig(\"../../figures/fig3/TBX5_y1h_plot.pdf\", bbox_inches=\"tight\", dpi=\"figure\")"
   ]
  },
  {
   "cell_type": "code",
   "execution_count": null,
   "metadata": {},
   "outputs": [],
   "source": []
  }
 ],
 "metadata": {
  "kernelspec": {
   "display_name": "Python (py36)",
   "language": "python",
   "name": "py36"
  },
  "language_info": {
   "codemirror_mode": {
    "name": "ipython",
    "version": 3
   },
   "file_extension": ".py",
   "mimetype": "text/x-python",
   "name": "python",
   "nbconvert_exporter": "python",
   "pygments_lexer": "ipython3",
   "version": "3.6.10"
  },
  "vscode": {
   "interpreter": {
    "hash": "4ae04c9a3e8cbfaaf818a59204fe953064ae0593c0d7ed4865e22581ae0526ea"
   }
  }
 },
 "nbformat": 4,
 "nbformat_minor": 2
}
