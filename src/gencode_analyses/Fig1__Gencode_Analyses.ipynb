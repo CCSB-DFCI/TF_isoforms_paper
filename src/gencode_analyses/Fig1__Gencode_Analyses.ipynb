{
 "cells": [
  {
   "cell_type": "code",
   "execution_count": 1,
   "id": "5b9f9633",
   "metadata": {},
   "outputs": [],
   "source": [
    "import os\n",
    "import itertools\n",
    "from itertools import combinations\n",
    "\n",
    "import numpy as np\n",
    "from scipy import stats\n",
    "import seaborn as sns\n",
    "from matplotlib import pyplot as plt\n",
    "from poibin import PoiBin\n",
    "from decimal import Decimal\n",
    "import pandas as pd\n",
    "import sys\n",
    "\n",
    "\n",
    "# import utils\n",
    "sys.path.append(\"../\")\n",
    "\n",
    "from data_loading import (load_full_y2h_data_including_controls,\n",
    "                          load_annotated_gencode_tfs,\n",
    "                          load_y1h_pdi_data,\n",
    "                          load_m1h_activation_data,\n",
    "                          load_valid_isoform_clones,\n",
    "                          #load_seq_comparison_data,\n",
    "                          load_gtex_gencode,\n",
    "                          load_developmental_tissue_expression_gencode,\n",
    "                          load_tf_families,\n",
    "                          load_pfam_clans,\n",
    "                          load_DNA_binding_domains)\n",
    "\n",
    "# to load alignment function from isolib\n",
    "from data_loading.isolib import _coords_transform_aa_seq_to_alignment\n",
    "\n",
    "from plotting import mimic_r_boxplot"
   ]
  },
  {
   "cell_type": "code",
   "execution_count": 2,
   "id": "5ed98dae",
   "metadata": {},
   "outputs": [],
   "source": [
    "SEED = 2023\n",
    "np.random.seed(SEED)"
   ]
  },
  {
   "cell_type": "code",
   "execution_count": 3,
   "id": "3fa43a07",
   "metadata": {},
   "outputs": [],
   "source": [
    "PAPER_PRESET = {\"style\": \"ticks\", \"font\": \"Helvetica\", \"context\": \"paper\", \n",
    "                \"rc\": {\"font.size\":7,\"axes.titlesize\":7,\n",
    "                       \"axes.labelsize\":7, 'axes.linewidth':0.5,\n",
    "                       \"legend.fontsize\":6, \"xtick.labelsize\":6,\n",
    "                       \"ytick.labelsize\":6, \"xtick.major.size\": 3.0,\n",
    "                       \"ytick.major.size\": 3.0, \"axes.edgecolor\": \"black\",\n",
    "                       \"xtick.major.pad\": 3.0, \"ytick.major.pad\": 3.0}}\n",
    "PAPER_FONTSIZE = 7\n",
    "\n",
    "sns.set(**PAPER_PRESET)\n",
    "fontsize = PAPER_FONTSIZE"
   ]
  },
  {
   "cell_type": "markdown",
   "id": "1a364d6b",
   "metadata": {},
   "source": [
    "## 1. load Gencode TFs + GTEx + Dev RNA-seq"
   ]
  },
  {
   "cell_type": "code",
   "execution_count": 4,
   "id": "17d697a4",
   "metadata": {},
   "outputs": [
    {
     "name": "stdout",
     "output_type": "stream",
     "text": [
      "reading from cache\n",
      "reading from cache\n",
      "reading from cache\n"
     ]
    }
   ],
   "source": [
    "tfs = load_annotated_gencode_tfs()\n",
    "\n",
    "df_gtex, metadata_gtex, genes_gtex = load_gtex_gencode()\n",
    "\n",
    "exclusion_list_gtex = {'Cells - Leukemia cell line (CML)',\n",
    "                       'Cells - EBV-transformed lymphocytes',\n",
    "                       'Cells - Cultured fibroblasts'}\n",
    "\n",
    "df_gtex = df_gtex.loc[:, ~df_gtex.columns.map(metadata_gtex['body_site']).isin(exclusion_list_gtex)]\n",
    "metadata_gtex = metadata_gtex.loc[~metadata_gtex['body_site'].isin(exclusion_list_gtex), :]\n",
    "\n",
    "means_gtex = df_gtex.groupby(df_gtex.columns.map(metadata_gtex['body_site']), axis=1).mean()\n",
    "\n",
    "df_dev, metadata_dev, genes_dev = load_developmental_tissue_expression_gencode()\n",
    "\n",
    "rename_dev_stage = {'8 week post conception,embryo': '08',\n",
    "'11 week post conception,late embryo': '11',\n",
    "'embryo,7 week post conception': '07',\n",
    "'infant': 'infant',\n",
    "'10 week post conception,late embryo': '10',\n",
    "'young adult': 'young adult',\n",
    "'13 week post conception,late embryo': '13',\n",
    "'16 week post conception,late embryo': '16',\n",
    "'4 week post conception,embryo': '04',\n",
    "'neonate': 'neonate',\n",
    "'19 week post conception,late embryo': '19',\n",
    "'9 week post conception,late embryo': '09',\n",
    "'adolescent': 'adolescent',\n",
    "'5 week post conception,embryo': '05',\n",
    "'embryo,6 week post conception': '06',\n",
    "'12 week post conception,late embryo': '12',\n",
    "'18 week post conception,late embryo': '18',\n",
    "'toddler': 'toddler',\n",
    "'elderly': 'elderly',\n",
    "'middle adult': 'adult',\n",
    "'school age child': 'child'}\n",
    "\n",
    "metadata_dev['dev_stage'] = metadata_dev['Developmental_Stage'].map(rename_dev_stage)\n",
    "means_dev = (df_dev.groupby(df_dev.columns.map(metadata_dev['organism_part'] + ' ' + metadata_dev['dev_stage']), axis=1)\n",
    "           .mean())\n",
    "all_isos = {'|'.join(sorted(orf.ensembl_transcript_names))\n",
    "            for tf in tfs.values() for orf in tf.isoforms}\n",
    "alt_isos = {'|'.join(sorted(orf.ensembl_transcript_names))\n",
    "            for tf in tfs.values()\n",
    "            for orf in tf.isoforms\n",
    "            if tf.has_MANE_select_isoform and not orf.is_MANE_select_transcript}\n",
    "ref_isos = {'|'.join(sorted(orf.ensembl_transcript_names))\n",
    "            for tf in tfs.values()\n",
    "            for orf in tf.isoforms\n",
    "            if tf.has_MANE_select_isoform and orf.is_MANE_select_transcript}"
   ]
  },
  {
   "cell_type": "code",
   "execution_count": 5,
   "id": "8bf42533",
   "metadata": {},
   "outputs": [
    {
     "data": {
      "text/plain": [
       "1635"
      ]
     },
     "execution_count": 5,
     "metadata": {},
     "output_type": "execute_result"
    }
   ],
   "source": [
    "len(tfs)"
   ]
  },
  {
   "cell_type": "code",
   "execution_count": 6,
   "id": "475ec436",
   "metadata": {},
   "outputs": [
    {
     "data": {
      "text/plain": [
       "(313, 42)"
      ]
     },
     "execution_count": 6,
     "metadata": {},
     "output_type": "execute_result"
    }
   ],
   "source": [
    "metadata_dev.shape"
   ]
  },
  {
   "cell_type": "code",
   "execution_count": 7,
   "id": "1d422cf8",
   "metadata": {},
   "outputs": [
    {
     "data": {
      "text/plain": [
       "(2485, 49)"
      ]
     },
     "execution_count": 7,
     "metadata": {},
     "output_type": "execute_result"
    }
   ],
   "source": [
    "metadata_gtex.shape"
   ]
  },
  {
   "cell_type": "code",
   "execution_count": 8,
   "id": "2656cfce",
   "metadata": {},
   "outputs": [
    {
     "data": {
      "text/plain": [
       "4144"
      ]
     },
     "execution_count": 8,
     "metadata": {},
     "output_type": "execute_result"
    }
   ],
   "source": [
    "len(all_isos)"
   ]
  },
  {
   "cell_type": "code",
   "execution_count": 9,
   "id": "dbd9197b",
   "metadata": {},
   "outputs": [
    {
     "data": {
      "text/plain": [
       "1514"
      ]
     },
     "execution_count": 9,
     "metadata": {},
     "output_type": "execute_result"
    }
   ],
   "source": [
    "len(ref_isos)"
   ]
  },
  {
   "cell_type": "code",
   "execution_count": 10,
   "id": "e84b4c4f",
   "metadata": {},
   "outputs": [
    {
     "data": {
      "text/plain": [
       "2305"
      ]
     },
     "execution_count": 10,
     "metadata": {},
     "output_type": "execute_result"
    }
   ],
   "source": [
    "len(alt_isos)"
   ]
  },
  {
   "cell_type": "code",
   "execution_count": 11,
   "id": "c39123bb",
   "metadata": {},
   "outputs": [
    {
     "data": {
      "text/plain": [
       "True     3165\n",
       "False     979\n",
       "dtype: int64"
      ]
     },
     "execution_count": 11,
     "metadata": {},
     "output_type": "execute_result"
    }
   ],
   "source": [
    "(means_gtex > 1).any(axis=1).value_counts()"
   ]
  },
  {
   "cell_type": "code",
   "execution_count": 12,
   "id": "0de7773c",
   "metadata": {},
   "outputs": [
    {
     "data": {
      "text/plain": [
       "1842"
      ]
     },
     "execution_count": 12,
     "metadata": {},
     "output_type": "execute_result"
    }
   ],
   "source": [
    "(means_gtex.loc[means_gtex.index.isin(alt_isos), :].sum(axis=1) >= 1).sum()"
   ]
  },
  {
   "cell_type": "markdown",
   "id": "aad87d58",
   "metadata": {},
   "source": [
    "## 2. isoforms per family"
   ]
  },
  {
   "cell_type": "code",
   "execution_count": 13,
   "id": "58fa42c4",
   "metadata": {},
   "outputs": [],
   "source": [
    "# number of isoforms vs gene expression, publications, and exons \n",
    "tpm_per_gene = ((2 ** df_gtex - 1)\n",
    "                .groupby(genes_gtex)\n",
    "                .sum()\n",
    "                .groupby(df_gtex.columns.map(metadata_gtex['body_site']), axis=1)\n",
    "                .mean())\n",
    "gn = tpm_per_gene.max(axis=1).rename('TPM - gene-level, max across GTEx tissues').to_frame()\n",
    "gn['n_isoforms'] = gn.index.map(genes_gtex.value_counts())"
   ]
  },
  {
   "cell_type": "code",
   "execution_count": 14,
   "id": "be1a417b",
   "metadata": {},
   "outputs": [
    {
     "data": {
      "text/html": [
       "<div>\n",
       "<style scoped>\n",
       "    .dataframe tbody tr th:only-of-type {\n",
       "        vertical-align: middle;\n",
       "    }\n",
       "\n",
       "    .dataframe tbody tr th {\n",
       "        vertical-align: top;\n",
       "    }\n",
       "\n",
       "    .dataframe thead th {\n",
       "        text-align: right;\n",
       "    }\n",
       "</style>\n",
       "<table border=\"1\" class=\"dataframe\">\n",
       "  <thead>\n",
       "    <tr style=\"text-align: right;\">\n",
       "      <th></th>\n",
       "      <th>TPM - gene-level, max across GTEx tissues</th>\n",
       "      <th>n_isoforms</th>\n",
       "      <th>family</th>\n",
       "      <th>is_nuclear_receptor</th>\n",
       "    </tr>\n",
       "  </thead>\n",
       "  <tbody>\n",
       "    <tr>\n",
       "      <th>AC008770.3</th>\n",
       "      <td>0.339530</td>\n",
       "      <td>2</td>\n",
       "      <td>C2H2 ZF</td>\n",
       "      <td>False</td>\n",
       "    </tr>\n",
       "    <tr>\n",
       "      <th>AC023509.3</th>\n",
       "      <td>4.475325</td>\n",
       "      <td>1</td>\n",
       "      <td>bZIP</td>\n",
       "      <td>False</td>\n",
       "    </tr>\n",
       "    <tr>\n",
       "      <th>AC092835.1</th>\n",
       "      <td>0.884619</td>\n",
       "      <td>1</td>\n",
       "      <td>C2H2 ZF</td>\n",
       "      <td>False</td>\n",
       "    </tr>\n",
       "    <tr>\n",
       "      <th>AC138696.1</th>\n",
       "      <td>1.760060</td>\n",
       "      <td>1</td>\n",
       "      <td>C2H2 ZF</td>\n",
       "      <td>False</td>\n",
       "    </tr>\n",
       "    <tr>\n",
       "      <th>ADNP</th>\n",
       "      <td>9157.752828</td>\n",
       "      <td>3</td>\n",
       "      <td>Homeodomain</td>\n",
       "      <td>False</td>\n",
       "    </tr>\n",
       "  </tbody>\n",
       "</table>\n",
       "</div>"
      ],
      "text/plain": [
       "            TPM - gene-level, max across GTEx tissues  n_isoforms  \\\n",
       "AC008770.3                                   0.339530           2   \n",
       "AC023509.3                                   4.475325           1   \n",
       "AC092835.1                                   0.884619           1   \n",
       "AC138696.1                                   1.760060           1   \n",
       "ADNP                                      9157.752828           3   \n",
       "\n",
       "                 family  is_nuclear_receptor  \n",
       "AC008770.3      C2H2 ZF                False  \n",
       "AC023509.3         bZIP                False  \n",
       "AC092835.1      C2H2 ZF                False  \n",
       "AC138696.1      C2H2 ZF                False  \n",
       "ADNP        Homeodomain                False  "
      ]
     },
     "execution_count": 14,
     "metadata": {},
     "output_type": "execute_result"
    }
   ],
   "source": [
    "fam = load_tf_families()\n",
    "gn['family'] = gn.index.map(fam)\n",
    "gn['is_nuclear_receptor'] = (gn['family'] == 'Nuclear receptor')\n",
    "gn.head()"
   ]
  },
  {
   "cell_type": "code",
   "execution_count": 15,
   "id": "4634ca2c",
   "metadata": {},
   "outputs": [
    {
     "data": {
      "text/plain": [
       "1635"
      ]
     },
     "execution_count": 15,
     "metadata": {},
     "output_type": "execute_result"
    }
   ],
   "source": [
    "len(gn)"
   ]
  },
  {
   "cell_type": "code",
   "execution_count": 16,
   "id": "9a378f75",
   "metadata": {},
   "outputs": [
    {
     "data": {
      "text/plain": [
       "992"
      ]
     },
     "execution_count": 16,
     "metadata": {},
     "output_type": "execute_result"
    }
   ],
   "source": [
    "len(gn[gn[\"n_isoforms\"] > 1])"
   ]
  },
  {
   "cell_type": "code",
   "execution_count": 17,
   "id": "fe448129",
   "metadata": {},
   "outputs": [
    {
     "data": {
      "text/plain": [
       "2.5345565749235472"
      ]
     },
     "execution_count": 17,
     "metadata": {},
     "output_type": "execute_result"
    }
   ],
   "source": [
    "gn.n_isoforms.mean()"
   ]
  },
  {
   "cell_type": "code",
   "execution_count": 18,
   "id": "ab53232f",
   "metadata": {},
   "outputs": [
    {
     "data": {
      "text/plain": [
       "1.8041237113402062"
      ]
     },
     "execution_count": 18,
     "metadata": {},
     "output_type": "execute_result"
    }
   ],
   "source": [
    "gn[gn[\"family\"] == \"Homeodomain\"].n_isoforms.mean()"
   ]
  },
  {
   "cell_type": "code",
   "execution_count": 19,
   "id": "3f80172b",
   "metadata": {},
   "outputs": [
    {
     "data": {
      "text/plain": [
       "3.8260869565217392"
      ]
     },
     "execution_count": 19,
     "metadata": {},
     "output_type": "execute_result"
    }
   ],
   "source": [
    "gn[gn[\"family\"] == \"Nuclear receptor\"].n_isoforms.mean()"
   ]
  },
  {
   "cell_type": "code",
   "execution_count": 20,
   "id": "141f0605",
   "metadata": {},
   "outputs": [
    {
     "data": {
      "text/html": [
       "<div>\n",
       "<style scoped>\n",
       "    .dataframe tbody tr th:only-of-type {\n",
       "        vertical-align: middle;\n",
       "    }\n",
       "\n",
       "    .dataframe tbody tr th {\n",
       "        vertical-align: top;\n",
       "    }\n",
       "\n",
       "    .dataframe thead th {\n",
       "        text-align: right;\n",
       "    }\n",
       "</style>\n",
       "<table border=\"1\" class=\"dataframe\">\n",
       "  <thead>\n",
       "    <tr style=\"text-align: right;\">\n",
       "      <th></th>\n",
       "      <th>TPM - gene-level, max across GTEx tissues</th>\n",
       "      <th>n_isoforms</th>\n",
       "      <th>family</th>\n",
       "      <th>is_nuclear_receptor</th>\n",
       "    </tr>\n",
       "  </thead>\n",
       "  <tbody>\n",
       "    <tr>\n",
       "      <th>CREM</th>\n",
       "      <td>372.514410</td>\n",
       "      <td>25</td>\n",
       "      <td>bZIP</td>\n",
       "      <td>False</td>\n",
       "    </tr>\n",
       "    <tr>\n",
       "      <th>TCF4</th>\n",
       "      <td>13.551768</td>\n",
       "      <td>23</td>\n",
       "      <td>bHLH</td>\n",
       "      <td>False</td>\n",
       "    </tr>\n",
       "    <tr>\n",
       "      <th>NFATC4</th>\n",
       "      <td>198.651682</td>\n",
       "      <td>23</td>\n",
       "      <td>Rel</td>\n",
       "      <td>False</td>\n",
       "    </tr>\n",
       "    <tr>\n",
       "      <th>NR1I3</th>\n",
       "      <td>65.437841</td>\n",
       "      <td>21</td>\n",
       "      <td>Nuclear receptor</td>\n",
       "      <td>True</td>\n",
       "    </tr>\n",
       "    <tr>\n",
       "      <th>MYT1L</th>\n",
       "      <td>47.689698</td>\n",
       "      <td>18</td>\n",
       "      <td>C2H2 ZF</td>\n",
       "      <td>False</td>\n",
       "    </tr>\n",
       "  </tbody>\n",
       "</table>\n",
       "</div>"
      ],
      "text/plain": [
       "        TPM - gene-level, max across GTEx tissues  n_isoforms  \\\n",
       "CREM                                   372.514410          25   \n",
       "TCF4                                    13.551768          23   \n",
       "NFATC4                                 198.651682          23   \n",
       "NR1I3                                   65.437841          21   \n",
       "MYT1L                                   47.689698          18   \n",
       "\n",
       "                  family  is_nuclear_receptor  \n",
       "CREM                bZIP                False  \n",
       "TCF4                bHLH                False  \n",
       "NFATC4               Rel                False  \n",
       "NR1I3   Nuclear receptor                 True  \n",
       "MYT1L            C2H2 ZF                False  "
      ]
     },
     "execution_count": 20,
     "metadata": {},
     "output_type": "execute_result"
    }
   ],
   "source": [
    "gn.sort_values(by=\"n_isoforms\", ascending=False).head()"
   ]
  },
  {
   "cell_type": "code",
   "execution_count": 21,
   "id": "32423393",
   "metadata": {},
   "outputs": [
    {
     "data": {
      "text/html": [
       "<div>\n",
       "<style scoped>\n",
       "    .dataframe tbody tr th:only-of-type {\n",
       "        vertical-align: middle;\n",
       "    }\n",
       "\n",
       "    .dataframe tbody tr th {\n",
       "        vertical-align: top;\n",
       "    }\n",
       "\n",
       "    .dataframe thead th {\n",
       "        text-align: right;\n",
       "    }\n",
       "</style>\n",
       "<table border=\"1\" class=\"dataframe\">\n",
       "  <thead>\n",
       "    <tr style=\"text-align: right;\">\n",
       "      <th></th>\n",
       "      <th>index</th>\n",
       "      <th>family</th>\n",
       "    </tr>\n",
       "  </thead>\n",
       "  <tbody>\n",
       "    <tr>\n",
       "      <th>0</th>\n",
       "      <td>C2H2 ZF</td>\n",
       "      <td>745</td>\n",
       "    </tr>\n",
       "    <tr>\n",
       "      <th>1</th>\n",
       "      <td>Homeodomain</td>\n",
       "      <td>194</td>\n",
       "    </tr>\n",
       "    <tr>\n",
       "      <th>2</th>\n",
       "      <td>bHLH</td>\n",
       "      <td>108</td>\n",
       "    </tr>\n",
       "    <tr>\n",
       "      <th>3</th>\n",
       "      <td>Unknown</td>\n",
       "      <td>69</td>\n",
       "    </tr>\n",
       "    <tr>\n",
       "      <th>4</th>\n",
       "      <td>bZIP</td>\n",
       "      <td>54</td>\n",
       "    </tr>\n",
       "    <tr>\n",
       "      <th>5</th>\n",
       "      <td>Forkhead</td>\n",
       "      <td>49</td>\n",
       "    </tr>\n",
       "    <tr>\n",
       "      <th>6</th>\n",
       "      <td>Nuclear receptor</td>\n",
       "      <td>46</td>\n",
       "    </tr>\n",
       "    <tr>\n",
       "      <th>7</th>\n",
       "      <td>HMG/Sox</td>\n",
       "      <td>30</td>\n",
       "    </tr>\n",
       "    <tr>\n",
       "      <th>8</th>\n",
       "      <td>Ets</td>\n",
       "      <td>27</td>\n",
       "    </tr>\n",
       "  </tbody>\n",
       "</table>\n",
       "</div>"
      ],
      "text/plain": [
       "              index  family\n",
       "0           C2H2 ZF     745\n",
       "1       Homeodomain     194\n",
       "2              bHLH     108\n",
       "3           Unknown      69\n",
       "4              bZIP      54\n",
       "5          Forkhead      49\n",
       "6  Nuclear receptor      46\n",
       "7           HMG/Sox      30\n",
       "8               Ets      27"
      ]
     },
     "execution_count": 21,
     "metadata": {},
     "output_type": "execute_result"
    }
   ],
   "source": [
    "fam_members = pd.DataFrame(gn['family'].value_counts()).reset_index()\n",
    "fam_members_ov20 = fam_members[fam_members[\"family\"] >= 20]\n",
    "fam_members_ov20"
   ]
  },
  {
   "cell_type": "code",
   "execution_count": 22,
   "id": "0b3895a2",
   "metadata": {},
   "outputs": [
    {
     "data": {
      "text/plain": [
       "C2H2 ZF             745\n",
       "Other               313\n",
       "Homeodomain         194\n",
       "bHLH                108\n",
       "Unknown              69\n",
       "bZIP                 54\n",
       "Forkhead             49\n",
       "Nuclear receptor     46\n",
       "HMG/Sox              30\n",
       "Ets                  27\n",
       "Name: family_updated, dtype: int64"
      ]
     },
     "execution_count": 22,
     "metadata": {},
     "output_type": "execute_result"
    }
   ],
   "source": [
    "def collapse_families(row, families_to_keep):\n",
    "    if row['family'] in families_to_keep:\n",
    "        return row['family']\n",
    "    else:\n",
    "        return 'Other'\n",
    "    \n",
    "gn['family_updated'] = gn.apply(collapse_families, axis=1, \n",
    "                                families_to_keep=list(fam_members[fam_members['family'] >=20]['index']))\n",
    "gn.family_updated.value_counts()"
   ]
  },
  {
   "cell_type": "code",
   "execution_count": 23,
   "id": "3535c97e",
   "metadata": {},
   "outputs": [
    {
     "data": {
      "text/plain": [
       "array(['C2H2 ZF', 'bZIP', 'Homeodomain', 'Unknown', 'Other', 'bHLH',\n",
       "       'Nuclear receptor', 'HMG/Sox', 'Ets', 'Forkhead'], dtype=object)"
      ]
     },
     "execution_count": 23,
     "metadata": {},
     "output_type": "execute_result"
    }
   ],
   "source": [
    "gn[\"family_updated\"].unique()"
   ]
  },
  {
   "cell_type": "code",
   "execution_count": 24,
   "id": "34d1bac2",
   "metadata": {},
   "outputs": [
    {
     "data": {
      "image/png": "[encoded data removed]",
      "text/plain": [
       "<Figure size 576x144 with 10 Axes>"
      ]
     },
     "metadata": {},
     "output_type": "display_data"
    }
   ],
   "source": [
    "def annotate(data, **kws):\n",
    "    n = len(data)\n",
    "    mean = data.n_isoforms.mean()\n",
    "    ax = plt.gca()\n",
    "    ax.text(0.98, 0.98, \"n=%s genes\\nmean=%s isos/gene\" % (n, np.round(mean, 2)), transform=ax.transAxes,\n",
    "            ha=\"right\", va=\"top\", fontsize=fontsize-1)\n",
    "    ax.axvline(x=mean, linestyle=\"dashed\", color=\"black\", linewidth=0.75)\n",
    "\n",
    "g = sns.FacetGrid(gn, col=\"family_updated\", sharex=True, sharey=False, height=1, aspect=1.6,\n",
    "                  col_order=[\"C2H2 ZF\", \"Homeodomain\", \"bHLH\", \"bZIP\", \"Forkhead\", \"Nuclear receptor\",\n",
    "                             \"HMG/Sox\", \"Ets\", \"Unknown\", \"Other\"], col_wrap=5)\n",
    "g.map_dataframe(sns.histplot, \"n_isoforms\", binwidth=1)\n",
    "g.map_dataframe(annotate)\n",
    "g.set_axis_labels(\"# unique isoforms\", \"# genes\")\n",
    "g.set_titles(col_template=\"{col_name}\")\n",
    "\n",
    "\n",
    "# add p-value\n",
    "for ax in g.axes:\n",
    "    fam = ax.get_title()\n",
    "    x = list(gn[gn[\"family_updated\"] == fam][\"n_isoforms\"])\n",
    "    y = list(gn[gn[\"family_updated\"] != fam][\"n_isoforms\"])\n",
    "    p = min(stats.mannwhitneyu(x, y).pvalue * len(gn[\"family_updated\"].unique()), 1)\n",
    "    s = \"{:.2e}\".format(Decimal(p))\n",
    "    ax.text(0.98, 0.7, \"p = %s\" % s, ha=\"right\", va=\"top\", transform=ax.transAxes, fontsize=fontsize-1)\n",
    "\n",
    "g.savefig(\"../../figures/fig1/GENCODE_iso_counts_per_family.pdf\", bbox_inches=\"tight\", dpi=\"figure\")"
   ]
  },
  {
   "cell_type": "code",
   "execution_count": 25,
   "id": "54414c40",
   "metadata": {},
   "outputs": [
    {
     "data": {
      "text/html": [
       "<div>\n",
       "<style scoped>\n",
       "    .dataframe tbody tr th:only-of-type {\n",
       "        vertical-align: middle;\n",
       "    }\n",
       "\n",
       "    .dataframe tbody tr th {\n",
       "        vertical-align: top;\n",
       "    }\n",
       "\n",
       "    .dataframe thead th {\n",
       "        text-align: right;\n",
       "    }\n",
       "</style>\n",
       "<table border=\"1\" class=\"dataframe\">\n",
       "  <thead>\n",
       "    <tr style=\"text-align: right;\">\n",
       "      <th></th>\n",
       "      <th>family</th>\n",
       "      <th>mean</th>\n",
       "      <th>count</th>\n",
       "    </tr>\n",
       "  </thead>\n",
       "  <tbody>\n",
       "    <tr>\n",
       "      <th>2</th>\n",
       "      <td>ARID/BRIGHT; RFX</td>\n",
       "      <td>4.000000</td>\n",
       "      <td>1</td>\n",
       "    </tr>\n",
       "    <tr>\n",
       "      <th>57</th>\n",
       "      <td>TCR/CxC</td>\n",
       "      <td>3.000000</td>\n",
       "      <td>1</td>\n",
       "    </tr>\n",
       "    <tr>\n",
       "      <th>5</th>\n",
       "      <td>Brinker</td>\n",
       "      <td>1.000000</td>\n",
       "      <td>1</td>\n",
       "    </tr>\n",
       "    <tr>\n",
       "      <th>25</th>\n",
       "      <td>FLYWCH</td>\n",
       "      <td>2.000000</td>\n",
       "      <td>1</td>\n",
       "    </tr>\n",
       "    <tr>\n",
       "      <th>24</th>\n",
       "      <td>Ets; AT hook</td>\n",
       "      <td>1.000000</td>\n",
       "      <td>1</td>\n",
       "    </tr>\n",
       "    <tr>\n",
       "      <th>...</th>\n",
       "      <td>...</td>\n",
       "      <td>...</td>\n",
       "      <td>...</td>\n",
       "    </tr>\n",
       "    <tr>\n",
       "      <th>62</th>\n",
       "      <td>bZIP</td>\n",
       "      <td>2.759259</td>\n",
       "      <td>54</td>\n",
       "    </tr>\n",
       "    <tr>\n",
       "      <th>60</th>\n",
       "      <td>Unknown</td>\n",
       "      <td>2.623188</td>\n",
       "      <td>69</td>\n",
       "    </tr>\n",
       "    <tr>\n",
       "      <th>61</th>\n",
       "      <td>bHLH</td>\n",
       "      <td>2.444444</td>\n",
       "      <td>108</td>\n",
       "    </tr>\n",
       "    <tr>\n",
       "      <th>33</th>\n",
       "      <td>Homeodomain</td>\n",
       "      <td>1.804124</td>\n",
       "      <td>194</td>\n",
       "    </tr>\n",
       "    <tr>\n",
       "      <th>6</th>\n",
       "      <td>C2H2 ZF</td>\n",
       "      <td>2.469799</td>\n",
       "      <td>745</td>\n",
       "    </tr>\n",
       "  </tbody>\n",
       "</table>\n",
       "<p>65 rows × 3 columns</p>\n",
       "</div>"
      ],
      "text/plain": [
       "              family      mean  count\n",
       "2   ARID/BRIGHT; RFX  4.000000      1\n",
       "57           TCR/CxC  3.000000      1\n",
       "5            Brinker  1.000000      1\n",
       "25            FLYWCH  2.000000      1\n",
       "24      Ets; AT hook  1.000000      1\n",
       "..               ...       ...    ...\n",
       "62              bZIP  2.759259     54\n",
       "60           Unknown  2.623188     69\n",
       "61              bHLH  2.444444    108\n",
       "33       Homeodomain  1.804124    194\n",
       "6            C2H2 ZF  2.469799    745\n",
       "\n",
       "[65 rows x 3 columns]"
      ]
     },
     "execution_count": 25,
     "metadata": {},
     "output_type": "execute_result"
    }
   ],
   "source": [
    "gn_mean = gn.groupby(\"family\")[\"n_isoforms\"].agg([\"mean\", \"count\"]).reset_index()\n",
    "gn_mean.sort_values(by=\"count\")"
   ]
  },
  {
   "cell_type": "code",
   "execution_count": 26,
   "id": "7bb754b0",
   "metadata": {},
   "outputs": [
    {
     "data": {
      "text/plain": [
       "<seaborn.axisgrid.FacetGrid at 0x7fae55e3e128>"
      ]
     },
     "execution_count": 26,
     "metadata": {},
     "output_type": "execute_result"
    },
    {
     "data": {
      "image/png": "[encoded data removed]",
      "text/plain": [
       "<Figure size 360x360 with 1 Axes>"
      ]
     },
     "metadata": {},
     "output_type": "display_data"
    }
   ],
   "source": [
    "sns.lmplot(data=gn_mean[gn_mean[\"family\"] != \"C2H2 ZF\"], x=\"count\", y=\"mean\")"
   ]
  },
  {
   "cell_type": "markdown",
   "id": "dd62a031",
   "metadata": {},
   "source": [
    "## 3. downsample GTEx\n",
    "GTEx has more samples/condition than Dev, but Dev has more conditions"
   ]
  },
  {
   "cell_type": "code",
   "execution_count": 27,
   "id": "643f9c14",
   "metadata": {},
   "outputs": [
    {
     "data": {
      "text/plain": [
       "51"
      ]
     },
     "execution_count": 27,
     "metadata": {},
     "output_type": "execute_result"
    }
   ],
   "source": [
    "# conditions (body sites): gtex\n",
    "len(metadata_gtex['body_site'].value_counts())"
   ]
  },
  {
   "cell_type": "code",
   "execution_count": 28,
   "id": "a6422cda",
   "metadata": {},
   "outputs": [
    {
     "data": {
      "text/plain": [
       "Lung                                         379\n",
       "Thyroid                                      360\n",
       "Colon - Transverse                           206\n",
       "Colon - Sigmoid                              173\n",
       "Adrenal Gland                                161\n",
       "Liver                                        138\n",
       "Kidney - Cortex                               36\n",
       "Breast - Mammary Tissue                       35\n",
       "Whole Blood                                   33\n",
       "Skin - Not Sun Exposed (Suprapubic)           32\n",
       "Muscle - Skeletal                             32\n",
       "Skin - Sun Exposed (Lower leg)                29\n",
       "Adipose - Subcutaneous                        27\n",
       "Artery - Coronary                             24\n",
       "Brain - Hypothalamus                          24\n",
       "Brain - Cerebellum                            24\n",
       "Pituitary                                     24\n",
       "Spleen                                        24\n",
       "Minor Salivary Gland                          24\n",
       "Pancreas                                      24\n",
       "Esophagus - Muscularis                        24\n",
       "Uterus                                        24\n",
       "Artery - Tibial                               24\n",
       "Brain - Frontal Cortex (BA9)                  24\n",
       "Artery - Aorta                                24\n",
       "Brain - Cortex                                24\n",
       "Ovary                                         24\n",
       "Heart - Atrial Appendage                      24\n",
       "Esophagus - Gastroesophageal Junction         24\n",
       "Brain - Cerebellar Hemisphere                 24\n",
       "Brain - Anterior cingulate cortex (BA24)      24\n",
       "Prostate                                      24\n",
       "Brain - Caudate (basal ganglia)               24\n",
       "Stomach                                       24\n",
       "Heart - Left Ventricle                        24\n",
       "Brain - Hippocampus                           24\n",
       "Brain - Nucleus accumbens (basal ganglia)     24\n",
       "Nerve - Tibial                                24\n",
       "Brain - Amygdala                              24\n",
       "Testis                                        24\n",
       "Vagina                                        24\n",
       "Brain - Putamen (basal ganglia)               24\n",
       "Small Intestine - Terminal Ileum              24\n",
       "Brain - Substantia nigra                      24\n",
       "Esophagus - Mucosa                            24\n",
       "Brain - Spinal cord (cervical c-1)            24\n",
       "Adipose - Visceral (Omentum)                  24\n",
       "Bladder                                       10\n",
       "Fallopian Tube                                 7\n",
       "Cervix - Ectocervix                            6\n",
       "Cervix - Endocervix                            5\n",
       "Name: body_site, dtype: int64"
      ]
     },
     "execution_count": 28,
     "metadata": {},
     "output_type": "execute_result"
    }
   ],
   "source": [
    "# samples per body site: gtex\n",
    "metadata_gtex['body_site'].value_counts()"
   ]
  },
  {
   "cell_type": "code",
   "execution_count": 29,
   "id": "51af3891",
   "metadata": {},
   "outputs": [
    {
     "data": {
      "text/plain": [
       "['Lung',\n",
       " 'Thyroid',\n",
       " 'Colon - Transverse',\n",
       " 'Colon - Sigmoid',\n",
       " 'Adrenal Gland',\n",
       " 'Liver',\n",
       " 'Kidney - Cortex',\n",
       " 'Breast - Mammary Tissue',\n",
       " 'Whole Blood',\n",
       " 'Skin - Not Sun Exposed (Suprapubic)',\n",
       " 'Muscle - Skeletal',\n",
       " 'Skin - Sun Exposed (Lower leg)',\n",
       " 'Adipose - Subcutaneous',\n",
       " 'Artery - Coronary',\n",
       " 'Brain - Hypothalamus',\n",
       " 'Brain - Cerebellum',\n",
       " 'Pituitary',\n",
       " 'Spleen',\n",
       " 'Minor Salivary Gland',\n",
       " 'Pancreas',\n",
       " 'Esophagus - Muscularis',\n",
       " 'Uterus',\n",
       " 'Artery - Tibial',\n",
       " 'Brain - Frontal Cortex (BA9)',\n",
       " 'Artery - Aorta',\n",
       " 'Brain - Cortex',\n",
       " 'Ovary',\n",
       " 'Heart - Atrial Appendage',\n",
       " 'Esophagus - Gastroesophageal Junction',\n",
       " 'Brain - Cerebellar Hemisphere',\n",
       " 'Brain - Anterior cingulate cortex (BA24)',\n",
       " 'Prostate',\n",
       " 'Brain - Caudate (basal ganglia)',\n",
       " 'Stomach',\n",
       " 'Heart - Left Ventricle',\n",
       " 'Brain - Hippocampus',\n",
       " 'Brain - Nucleus accumbens (basal ganglia)',\n",
       " 'Nerve - Tibial',\n",
       " 'Brain - Amygdala',\n",
       " 'Testis',\n",
       " 'Vagina',\n",
       " 'Brain - Putamen (basal ganglia)',\n",
       " 'Small Intestine - Terminal Ileum',\n",
       " 'Brain - Substantia nigra',\n",
       " 'Esophagus - Mucosa',\n",
       " 'Brain - Spinal cord (cervical c-1)',\n",
       " 'Adipose - Visceral (Omentum)',\n",
       " 'Bladder',\n",
       " 'Fallopian Tube',\n",
       " 'Cervix - Ectocervix',\n",
       " 'Cervix - Endocervix']"
      ]
     },
     "execution_count": 29,
     "metadata": {},
     "output_type": "execute_result"
    }
   ],
   "source": [
    "list(metadata_gtex['body_site'].value_counts().index)"
   ]
  },
  {
   "cell_type": "code",
   "execution_count": 30,
   "id": "2318b980",
   "metadata": {},
   "outputs": [
    {
     "data": {
      "image/png": "[encoded data removed]",
      "text/plain": [
       "<Figure size 468x144 with 1 Axes>"
      ]
     },
     "metadata": {},
     "output_type": "display_data"
    }
   ],
   "source": [
    "fig = plt.figure(figsize=(6.5, 2))\n",
    "\n",
    "ax = sns.countplot(data=metadata_gtex, x=\"body_site\", order=list(metadata_gtex['body_site'].value_counts().index))\n",
    "ax.set_xlabel(\"\")\n",
    "ax.set_ylabel(\"# samples\")\n",
    "\n",
    "_ = ax.set_xticklabels(list(metadata_gtex['body_site'].value_counts().index), rotation=45, ha=\"right\", va=\"top\")\n",
    "\n",
    "for pos in ['top', 'right']:\n",
    "    ax.spines[pos].set_visible(False)\n",
    "    \n",
    "fig.savefig(\"../../figures/fig1/gtex-metadata.pdf\", dpi=\"figure\", bbox_inches=\"tight\")"
   ]
  },
  {
   "cell_type": "code",
   "execution_count": 31,
   "id": "d0b7b214",
   "metadata": {},
   "outputs": [
    {
     "data": {
      "text/html": [
       "<div>\n",
       "<style scoped>\n",
       "    .dataframe tbody tr th:only-of-type {\n",
       "        vertical-align: middle;\n",
       "    }\n",
       "\n",
       "    .dataframe tbody tr th {\n",
       "        vertical-align: top;\n",
       "    }\n",
       "\n",
       "    .dataframe thead th {\n",
       "        text-align: right;\n",
       "    }\n",
       "</style>\n",
       "<table border=\"1\" class=\"dataframe\">\n",
       "  <thead>\n",
       "    <tr style=\"text-align: right;\">\n",
       "      <th></th>\n",
       "      <th>index</th>\n",
       "      <th>body_site</th>\n",
       "    </tr>\n",
       "  </thead>\n",
       "  <tbody>\n",
       "    <tr>\n",
       "      <th>0</th>\n",
       "      <td>Lung</td>\n",
       "      <td>379</td>\n",
       "    </tr>\n",
       "    <tr>\n",
       "      <th>1</th>\n",
       "      <td>Thyroid</td>\n",
       "      <td>360</td>\n",
       "    </tr>\n",
       "    <tr>\n",
       "      <th>2</th>\n",
       "      <td>Colon - Transverse</td>\n",
       "      <td>206</td>\n",
       "    </tr>\n",
       "    <tr>\n",
       "      <th>3</th>\n",
       "      <td>Colon - Sigmoid</td>\n",
       "      <td>173</td>\n",
       "    </tr>\n",
       "    <tr>\n",
       "      <th>4</th>\n",
       "      <td>Adrenal Gland</td>\n",
       "      <td>161</td>\n",
       "    </tr>\n",
       "  </tbody>\n",
       "</table>\n",
       "</div>"
      ],
      "text/plain": [
       "                index  body_site\n",
       "0                Lung        379\n",
       "1             Thyroid        360\n",
       "2  Colon - Transverse        206\n",
       "3     Colon - Sigmoid        173\n",
       "4       Adrenal Gland        161"
      ]
     },
     "execution_count": 31,
     "metadata": {},
     "output_type": "execute_result"
    }
   ],
   "source": [
    "gtex_bs = pd.DataFrame(metadata_gtex['body_site'].value_counts()).reset_index()\n",
    "gtex_bs.head()"
   ]
  },
  {
   "cell_type": "code",
   "execution_count": 32,
   "id": "bf10bef1",
   "metadata": {},
   "outputs": [
    {
     "data": {
      "text/plain": [
       "127"
      ]
     },
     "execution_count": 32,
     "metadata": {},
     "output_type": "execute_result"
    }
   ],
   "source": [
    "# conditions (body sites): dev\n",
    "metadata_dev['body_site'] = metadata_dev['organism_part'] + ' ' + metadata_dev['dev_stage']\n",
    "len(metadata_dev['body_site'].value_counts())"
   ]
  },
  {
   "cell_type": "code",
   "execution_count": 33,
   "id": "7a6f5b73",
   "metadata": {},
   "outputs": [
    {
     "data": {
      "text/plain": [
       "forebrain young adult    5\n",
       "hindbrain young adult    5\n",
       "hindbrain neonate        5\n",
       "forebrain 19             5\n",
       "heart 08                 5\n",
       "                        ..\n",
       "liver 12                 1\n",
       "forebrain 18             1\n",
       "liver adult              1\n",
       "heart adolescent         1\n",
       "testis 18                1\n",
       "Name: body_site, Length: 127, dtype: int64"
      ]
     },
     "execution_count": 33,
     "metadata": {},
     "output_type": "execute_result"
    }
   ],
   "source": [
    "# samples per body site: dev\n",
    "metadata_dev['body_site'].value_counts()"
   ]
  },
  {
   "cell_type": "code",
   "execution_count": 34,
   "id": "411bbfc1",
   "metadata": {},
   "outputs": [
    {
     "data": {
      "image/png": "[encoded data removed]",
      "text/plain": [
       "<Figure size 612x144 with 1 Axes>"
      ]
     },
     "metadata": {},
     "output_type": "display_data"
    }
   ],
   "source": [
    "fig = plt.figure(figsize=(8.5, 2))\n",
    "\n",
    "ax = sns.countplot(data=metadata_dev, x=\"body_site\", order=list(metadata_dev['body_site'].value_counts().index))\n",
    "ax.set_xlabel(\"\")\n",
    "ax.set_ylabel(\"# samples\")\n",
    "\n",
    "_ = ax.set_xticklabels(list(metadata_dev['body_site'].value_counts().index), rotation=45, ha=\"right\", va=\"top\",\n",
    "                       fontsize=4)\n",
    "\n",
    "for pos in ['top', 'right']:\n",
    "    ax.spines[pos].set_visible(False)\n",
    "    \n",
    "fig.savefig(\"../../figures/fig1/dev-metadata.pdf\", dpi=\"figure\", bbox_inches=\"tight\")"
   ]
  },
  {
   "cell_type": "code",
   "execution_count": 35,
   "id": "5482e607",
   "metadata": {},
   "outputs": [
    {
     "data": {
      "text/html": [
       "<div>\n",
       "<style scoped>\n",
       "    .dataframe tbody tr th:only-of-type {\n",
       "        vertical-align: middle;\n",
       "    }\n",
       "\n",
       "    .dataframe tbody tr th {\n",
       "        vertical-align: top;\n",
       "    }\n",
       "\n",
       "    .dataframe thead th {\n",
       "        text-align: right;\n",
       "    }\n",
       "</style>\n",
       "<table border=\"1\" class=\"dataframe\">\n",
       "  <thead>\n",
       "    <tr style=\"text-align: right;\">\n",
       "      <th></th>\n",
       "      <th>index</th>\n",
       "      <th>body_site</th>\n",
       "    </tr>\n",
       "  </thead>\n",
       "  <tbody>\n",
       "    <tr>\n",
       "      <th>0</th>\n",
       "      <td>forebrain young adult</td>\n",
       "      <td>5</td>\n",
       "    </tr>\n",
       "    <tr>\n",
       "      <th>1</th>\n",
       "      <td>hindbrain young adult</td>\n",
       "      <td>5</td>\n",
       "    </tr>\n",
       "    <tr>\n",
       "      <th>2</th>\n",
       "      <td>hindbrain neonate</td>\n",
       "      <td>5</td>\n",
       "    </tr>\n",
       "    <tr>\n",
       "      <th>3</th>\n",
       "      <td>forebrain 19</td>\n",
       "      <td>5</td>\n",
       "    </tr>\n",
       "    <tr>\n",
       "      <th>4</th>\n",
       "      <td>heart 08</td>\n",
       "      <td>5</td>\n",
       "    </tr>\n",
       "  </tbody>\n",
       "</table>\n",
       "</div>"
      ],
      "text/plain": [
       "                   index  body_site\n",
       "0  forebrain young adult          5\n",
       "1  hindbrain young adult          5\n",
       "2      hindbrain neonate          5\n",
       "3           forebrain 19          5\n",
       "4               heart 08          5"
      ]
     },
     "execution_count": 35,
     "metadata": {},
     "output_type": "execute_result"
    }
   ],
   "source": [
    "dev_bs = pd.DataFrame(metadata_dev['body_site'].value_counts()).reset_index()\n",
    "dev_bs.head()"
   ]
  },
  {
   "cell_type": "code",
   "execution_count": 36,
   "id": "7849c5f1",
   "metadata": {},
   "outputs": [
    {
     "data": {
      "image/png": "[encoded data removed]",
      "text/plain": [
       "<Figure size 72x108 with 1 Axes>"
      ]
     },
     "metadata": {},
     "output_type": "display_data"
    }
   ],
   "source": [
    "fig, ax = plt.subplots(1, 1, figsize=(1, 1.5))\n",
    "\n",
    "ax.bar(x=0, height=len(gtex_bs), color=sns.color_palette(\"Set2\")[1])\n",
    "ax.bar(x=1, height=len(dev_bs), color=sns.color_palette(\"Set2\")[1])\n",
    "\n",
    "ax.set_xticks([0, 1])\n",
    "ax.set_xticklabels([\"GTEx\", \"Cardoso-Moreira\"], ha=\"right\", va=\"top\", rotation=30)\n",
    "ax.set_ylabel(\"# of body sites\\n(staged tissues)\")\n",
    "\n",
    "for pos in ['top', 'right']:\n",
    "    ax.spines[pos].set_visible(False)\n",
    "    \n",
    "fig.savefig(\"../../figures/fig1/gtex-v-dev_body-sites.pdf\", dpi=\"figure\", bbox_inches=\"tight\")"
   ]
  },
  {
   "cell_type": "code",
   "execution_count": 37,
   "id": "917adbf6",
   "metadata": {},
   "outputs": [],
   "source": [
    "gtex_bs[\"src\"] = \"GTEx\"\n",
    "dev_bs[\"src\"] = \"Cardoso-Moreira\"\n",
    "bs = gtex_bs.append(dev_bs)"
   ]
  },
  {
   "cell_type": "code",
   "execution_count": 38,
   "id": "20e5e414",
   "metadata": {},
   "outputs": [
    {
     "data": {
      "image/png": "[encoded data removed]",
      "text/plain": [
       "<Figure size 72x108 with 1 Axes>"
      ]
     },
     "metadata": {},
     "output_type": "display_data"
    }
   ],
   "source": [
    "fig = plt.figure(figsize=(1, 1.5))\n",
    "\n",
    "np.random.seed(SEED)\n",
    "ax = sns.stripplot(data=bs, x=\"src\", y=\"body_site\", jitter=True, color=sns.color_palette(\"Set2\")[1],\n",
    "                   linewidth=0.5, edgecolor=\"black\", s=3)\n",
    "\n",
    "ax.set_xticklabels([\"GTEx\", \"Cardoso-Moreira\"], ha=\"right\", va=\"top\", rotation=30)\n",
    "ax.set_ylabel(\"# of samples per body site\")\n",
    "ax.set_xlabel(\"\")\n",
    "\n",
    "for pos in ['top', 'right']:\n",
    "    ax.spines[pos].set_visible(False)\n",
    "    \n",
    "fig.savefig(\"../../figures/fig1/gtex-v-dev_n-samples.pdf\", dpi=\"figure\", bbox_inches=\"tight\")"
   ]
  },
  {
   "cell_type": "markdown",
   "id": "25279098",
   "metadata": {},
   "source": [
    "### loop through GTEx tissues and pick the # of samples by randomly matching to a dev dataset\n",
    "\n",
    "this is inherently unstable when sampling w/o replacement as will end up with times where there are more samps in the dev that you're randomly matching to than the gtex (rare but happens). set a seed and using the same metadata sampling for all downstream figures."
   ]
  },
  {
   "cell_type": "code",
   "execution_count": 39,
   "id": "07d12591",
   "metadata": {},
   "outputs": [],
   "source": [
    "# loop through gtex tissues\n",
    "# pick number of samples according to dev dataset\n",
    "# loop again\n",
    "# make fake metadata file\n",
    "\n",
    "# something about calling stripplots seems to revert seed -- reset here for reproducibility\n",
    "np.random.seed(SEED)\n",
    "\n",
    "n_samples_dev = df_dev.columns.map(metadata_dev['organism_part'] + ' ' + metadata_dev['dev_stage']).value_counts().values\n",
    "np.random.shuffle(n_samples_dev)\n",
    "gtex_tissues = metadata_gtex['body_site'].value_counts().index.values\n",
    "\n",
    "metadata_gtex_dummy = {}\n",
    "for i, (n_samples, tissue) in enumerate(zip(n_samples_dev, itertools.cycle(gtex_tissues))):\n",
    "    metadata_gtex_dummy[tissue + '_' + str(i)] = (metadata_gtex.loc[(metadata_gtex['body_site'] == tissue)\n",
    "                                                                    & ~metadata_gtex.index.isin({s for samples in metadata_gtex_dummy.values() for s in samples}),\n",
    "                                                                    :]\n",
    "                                                        .sample(n_samples).index.values)\n",
    "\n",
    "# TODO: check it is sampling with replacement and ends up same size as dev   \n",
    "# NOTE: this block of code is unstable depending on seed\n",
    "\n",
    "metadata_gtex_dummy = (pd.Series({v: k for k, vs in metadata_gtex_dummy.items() for v in vs}, name='body_site')\n",
    "                         .to_frame())\n",
    "\n",
    "if metadata_dev.shape[0] != metadata_gtex_dummy.shape[0]:\n",
    "    raise UserWarning('Problem with downsampling code')\n",
    "if sorted(n_samples_dev) != sorted(metadata_gtex_dummy.groupby('body_site').size().values):\n",
    "    raise UserWarning('Problem with downsampling code')\n",
    "if metadata_gtex_dummy.index.duplicated().any():\n",
    "    raise UserWarning('Unexpected duplicates')"
   ]
  },
  {
   "cell_type": "code",
   "execution_count": 40,
   "id": "2a775d34",
   "metadata": {},
   "outputs": [
    {
     "data": {
      "text/plain": [
       "(313, 1)"
      ]
     },
     "execution_count": 40,
     "metadata": {},
     "output_type": "execute_result"
    }
   ],
   "source": [
    "metadata_gtex_dummy.shape"
   ]
  },
  {
   "cell_type": "code",
   "execution_count": 41,
   "id": "e9e26cc1",
   "metadata": {},
   "outputs": [
    {
     "data": {
      "text/plain": [
       "127"
      ]
     },
     "execution_count": 41,
     "metadata": {},
     "output_type": "execute_result"
    }
   ],
   "source": [
    "len(metadata_gtex_dummy.body_site.unique())"
   ]
  },
  {
   "cell_type": "code",
   "execution_count": 42,
   "id": "f65e6a1c",
   "metadata": {},
   "outputs": [
    {
     "data": {
      "text/plain": [
       "51"
      ]
     },
     "execution_count": 42,
     "metadata": {},
     "output_type": "execute_result"
    }
   ],
   "source": [
    "len(metadata_gtex_dummy.body_site.str.split(\"_\", expand=True)[0].unique())"
   ]
  },
  {
   "cell_type": "code",
   "execution_count": 43,
   "id": "f530ed59",
   "metadata": {},
   "outputs": [
    {
     "data": {
      "text/plain": [
       "(313, 43)"
      ]
     },
     "execution_count": 43,
     "metadata": {},
     "output_type": "execute_result"
    }
   ],
   "source": [
    "metadata_dev.shape"
   ]
  },
  {
   "cell_type": "code",
   "execution_count": 44,
   "id": "6cccda92",
   "metadata": {},
   "outputs": [
    {
     "data": {
      "text/plain": [
       "127"
      ]
     },
     "execution_count": 44,
     "metadata": {},
     "output_type": "execute_result"
    }
   ],
   "source": [
    "len(df_dev.columns.map(metadata_dev['organism_part'] + ' ' + metadata_dev['dev_stage']).unique())"
   ]
  },
  {
   "cell_type": "code",
   "execution_count": 45,
   "id": "8a0bded6",
   "metadata": {},
   "outputs": [
    {
     "data": {
      "text/plain": [
       "Index(['liver 12', 'ovary 13', 'hindbrain infant', 'liver adult', 'kidney 12',\n",
       "       'kidney 10', 'hindbrain adolescent', 'heart 11', 'testis 06',\n",
       "       'kidney 07',\n",
       "       ...\n",
       "       'liver 13', 'kidney 05', 'testis adult', 'ovary 06', 'ovary 05',\n",
       "       'hindbrain 09', 'kidney toddler', 'forebrain 12', 'testis 12',\n",
       "       'kidney child'],\n",
       "      dtype='object', length=127)"
      ]
     },
     "execution_count": 45,
     "metadata": {},
     "output_type": "execute_result"
    }
   ],
   "source": [
    "df_dev.columns.map(metadata_dev['organism_part'] + ' ' + metadata_dev['dev_stage']).unique()"
   ]
  },
  {
   "cell_type": "code",
   "execution_count": 46,
   "id": "2a821b73",
   "metadata": {},
   "outputs": [
    {
     "data": {
      "text/html": [
       "<div>\n",
       "<style scoped>\n",
       "    .dataframe tbody tr th:only-of-type {\n",
       "        vertical-align: middle;\n",
       "    }\n",
       "\n",
       "    .dataframe tbody tr th {\n",
       "        vertical-align: top;\n",
       "    }\n",
       "\n",
       "    .dataframe thead th {\n",
       "        text-align: right;\n",
       "    }\n",
       "</style>\n",
       "<table border=\"1\" class=\"dataframe\">\n",
       "  <thead>\n",
       "    <tr style=\"text-align: right;\">\n",
       "      <th></th>\n",
       "      <th>organism_part</th>\n",
       "      <th>dev_stage</th>\n",
       "      <th>BioSample</th>\n",
       "    </tr>\n",
       "  </thead>\n",
       "  <tbody>\n",
       "    <tr>\n",
       "      <th>103</th>\n",
       "      <td>ovary</td>\n",
       "      <td>11</td>\n",
       "      <td>1</td>\n",
       "    </tr>\n",
       "    <tr>\n",
       "      <th>31</th>\n",
       "      <td>heart</td>\n",
       "      <td>18</td>\n",
       "      <td>1</td>\n",
       "    </tr>\n",
       "    <tr>\n",
       "      <th>106</th>\n",
       "      <td>ovary</td>\n",
       "      <td>16</td>\n",
       "      <td>1</td>\n",
       "    </tr>\n",
       "    <tr>\n",
       "      <th>33</th>\n",
       "      <td>heart</td>\n",
       "      <td>adolescent</td>\n",
       "      <td>1</td>\n",
       "    </tr>\n",
       "    <tr>\n",
       "      <th>58</th>\n",
       "      <td>kidney</td>\n",
       "      <td>04</td>\n",
       "      <td>1</td>\n",
       "    </tr>\n",
       "    <tr>\n",
       "      <th>...</th>\n",
       "      <td>...</td>\n",
       "      <td>...</td>\n",
       "      <td>...</td>\n",
       "    </tr>\n",
       "    <tr>\n",
       "      <th>55</th>\n",
       "      <td>hindbrain</td>\n",
       "      <td>neonate</td>\n",
       "      <td>5</td>\n",
       "    </tr>\n",
       "    <tr>\n",
       "      <th>57</th>\n",
       "      <td>hindbrain</td>\n",
       "      <td>young adult</td>\n",
       "      <td>5</td>\n",
       "    </tr>\n",
       "    <tr>\n",
       "      <th>19</th>\n",
       "      <td>forebrain</td>\n",
       "      <td>young adult</td>\n",
       "      <td>5</td>\n",
       "    </tr>\n",
       "    <tr>\n",
       "      <th>24</th>\n",
       "      <td>heart</td>\n",
       "      <td>08</td>\n",
       "      <td>5</td>\n",
       "    </tr>\n",
       "    <tr>\n",
       "      <th>11</th>\n",
       "      <td>forebrain</td>\n",
       "      <td>19</td>\n",
       "      <td>5</td>\n",
       "    </tr>\n",
       "  </tbody>\n",
       "</table>\n",
       "<p>127 rows × 3 columns</p>\n",
       "</div>"
      ],
      "text/plain": [
       "    organism_part    dev_stage  BioSample\n",
       "103         ovary           11          1\n",
       "31          heart           18          1\n",
       "106         ovary           16          1\n",
       "33          heart   adolescent          1\n",
       "58         kidney           04          1\n",
       "..            ...          ...        ...\n",
       "55      hindbrain      neonate          5\n",
       "57      hindbrain  young adult          5\n",
       "19      forebrain  young adult          5\n",
       "24          heart           08          5\n",
       "11      forebrain           19          5\n",
       "\n",
       "[127 rows x 3 columns]"
      ]
     },
     "execution_count": 46,
     "metadata": {},
     "output_type": "execute_result"
    }
   ],
   "source": [
    "tmp = metadata_dev.groupby([\"organism_part\", \"dev_stage\"])[\"BioSample\"].agg(\"count\").reset_index()\n",
    "tmp.sort_values(by=\"BioSample\")"
   ]
  },
  {
   "cell_type": "markdown",
   "id": "85e7e02a",
   "metadata": {},
   "source": [
    "### this dataframe is now the same shape as the dev data in both # of samples and of # of \"sites\"\n",
    "\n",
    "gets to the same # of \"sites\" by re-sampling among GTEx tissues"
   ]
  },
  {
   "cell_type": "code",
   "execution_count": 47,
   "id": "4eed382a",
   "metadata": {},
   "outputs": [],
   "source": [
    "# write this file so we can load it in later figures\n",
    "metadata_gtex_dummy.to_csv(\"../../data/processed/metadata_gtex_dummy.csv\")"
   ]
  },
  {
   "cell_type": "code",
   "execution_count": 48,
   "id": "fff2e9c9",
   "metadata": {},
   "outputs": [],
   "source": [
    "means_gtex_downsample = df_gtex.groupby(df_gtex.columns.map(metadata_gtex_dummy['body_site']), axis=1).mean()"
   ]
  },
  {
   "cell_type": "code",
   "execution_count": 49,
   "id": "08864a68",
   "metadata": {},
   "outputs": [
    {
     "data": {
      "image/png": "[encoded data removed]",
      "text/plain": [
       "<Figure size 612x144 with 1 Axes>"
      ]
     },
     "metadata": {},
     "output_type": "display_data"
    }
   ],
   "source": [
    "fig = plt.figure(figsize=(8.5, 2))\n",
    "\n",
    "ax = sns.countplot(data=metadata_gtex_dummy, x=\"body_site\", \n",
    "                   order=list(metadata_gtex_dummy['body_site'].value_counts().index))\n",
    "ax.set_xlabel(\"\")\n",
    "ax.set_ylabel(\"# samples\")\n",
    "\n",
    "_ = ax.set_xticklabels(list(metadata_gtex_dummy['body_site'].value_counts().index), rotation=45, ha=\"right\", va=\"top\",\n",
    "                       fontsize=4)\n",
    "\n",
    "for pos in ['top', 'right']:\n",
    "    ax.spines[pos].set_visible(False)\n",
    "    \n",
    "fig.savefig(\"../../figures/fig1/gtex-dummy-metadata.pdf\", dpi=\"figure\", bbox_inches=\"tight\")"
   ]
  },
  {
   "cell_type": "markdown",
   "id": "0847926e",
   "metadata": {},
   "source": [
    "## 4. histograms: isoforms per gene + thresholded on expression"
   ]
  },
  {
   "cell_type": "markdown",
   "id": "929f5dab",
   "metadata": {},
   "source": [
    "### GTEx: all"
   ]
  },
  {
   "cell_type": "code",
   "execution_count": 50,
   "id": "613e985c",
   "metadata": {},
   "outputs": [
    {
     "data": {
      "image/png": "[encoded data removed]",
      "text/plain": [
       "<Figure size 252x158.4 with 2 Axes>"
      ]
     },
     "metadata": {},
     "output_type": "display_data"
    }
   ],
   "source": [
    "# plot number of isoforms above 1 TPM\n",
    "\n",
    "fig, axs = plt.subplots(2, 1, sharex=False, figsize=(3.5, 2.2))\n",
    "\n",
    "n_iso = (means_gtex > 1).any(axis=1).groupby(genes_gtex).size()\n",
    "x_max = n_iso.max()\n",
    "xs = range(0, x_max + 1)\n",
    "axs[0].bar(x=xs, height=[n_iso.value_counts().to_dict().get(x, 0) for x in xs], color=\"slategrey\")\n",
    "\n",
    "# label n\n",
    "for h, x in zip([n_iso.value_counts().to_dict().get(x, 0) for x in xs], xs):\n",
    "    if h == 0:\n",
    "        continue\n",
    "    axs[0].text(x, h, \" %s\" % h, rotation=90, fontsize=fontsize-2, ha=\"center\", va=\"bottom\",\n",
    "                color=\"slategrey\")\n",
    "\n",
    "n_iso = (means_gtex > 1).any(axis=1).groupby(genes_gtex).sum()\n",
    "axs[1].bar(x=xs, height=[n_iso.value_counts().to_dict().get(x, 0) for x in xs])\n",
    "\n",
    "axs[0].set_xticks(xs)\n",
    "axs[0].set_xlabel(\"Unique annotated protein isoforms per gene\")\n",
    "axs[0].tick_params(axis='x', labelsize=fontsize-2)\n",
    "axs[1].set_xticks(xs)\n",
    "axs[1].tick_params(axis='x', labelsize=fontsize-2)\n",
    "axs[1].set_xlabel('Unique protein isoforms per gene')\n",
    "#axs[0].text(x=7, y=400, s='All isoforms')\n",
    "axs[1].text(x=7, y=400, s='≥ 1 TPM in ≥ 1 tissue')\n",
    "\n",
    "def num2pct(y):\n",
    "    return (y / n_iso.shape[0]) * 100\n",
    "\n",
    "def pct2num(y):\n",
    "    return (y / 100) * n_iso.shape[0]\n",
    "\n",
    "for ax in axs:\n",
    "    ax.set_ylim(0, 800)\n",
    "    ax.set_yticks(range(0, 800, 100), minor=True)\n",
    "    ax.set_ylabel('TF genes')\n",
    "    for pos in ['top', 'right', 'bottom']:\n",
    "        ax.spines[pos].set_visible(False)\n",
    "    ax.xaxis.set_tick_params(length=0)\n",
    "    pctax = ax.secondary_yaxis('right', functions=(num2pct, pct2num))\n",
    "    pctax.set_ylabel('% of TF genes')\n",
    "    pctax.set_yticks(range(0, 46, 5), minor=True)\n",
    "fig.savefig('../../figures/fig1/n-isoforms-per-gene_by-1TPM-cutoff_hist-GTEx.pdf',\n",
    "            bbox_inches='tight')"
   ]
  },
  {
   "cell_type": "markdown",
   "id": "9a25a8b9",
   "metadata": {},
   "source": [
    "### GTEx: downsample"
   ]
  },
  {
   "cell_type": "code",
   "execution_count": 51,
   "id": "74bb97cb",
   "metadata": {},
   "outputs": [
    {
     "data": {
      "image/png": "[encoded data removed]",
      "text/plain": [
       "<Figure size 237.6x158.4 with 2 Axes>"
      ]
     },
     "metadata": {},
     "output_type": "display_data"
    }
   ],
   "source": [
    "# plot number of isoforms above 1 TPM\n",
    "\n",
    "fig, axs = plt.subplots(2, 1, sharex=False, figsize=(3.3, 2.2))\n",
    "\n",
    "n_iso = (means_gtex_downsample > 1).any(axis=1).groupby(genes_gtex).size()\n",
    "x_max = n_iso.max()\n",
    "xs = range(0, x_max + 1)\n",
    "axs[0].bar(x=xs, height=[n_iso.value_counts().to_dict().get(x, 0) for x in xs])\n",
    "\n",
    "n_iso = (means_gtex_downsample > 1).any(axis=1).groupby(genes_gtex).sum()\n",
    "axs[1].bar(x=xs, height=[n_iso.value_counts().to_dict().get(x, 0) for x in xs])\n",
    "\n",
    "axs[1].set_xticks(xs)\n",
    "axs[1].set_xlabel('Unique protein isoforms per gene')\n",
    "axs[0].text(x=7, y=400, s='All isoforms')\n",
    "axs[1].text(x=7, y=400, s='≥ 1 TPM in at least one GTEx down-sampled tissue')\n",
    "\n",
    "for ax in axs:\n",
    "    ax.set_ylim(0, 800)\n",
    "    ax.set_yticks(range(0, 800, 100), minor=True)\n",
    "    ax.set_ylabel('TF genes_gtex')\n",
    "    for pos in ['top', 'right', 'bottom']:\n",
    "        ax.spines[pos].set_visible(False)\n",
    "    ax.xaxis.set_tick_params(length=0)\n",
    "    pctax = ax.secondary_yaxis('right', functions=(num2pct, pct2num))\n",
    "    pctax.set_ylabel('% of TF genes_gtex')\n",
    "    pctax.set_yticks(range(0, 46, 5), minor=True)\n",
    "fig.savefig('../../figures/fig1/n-isoforms-per-gene_by-1TPM-cutoff_hist-GTEx_downsamp.pdf',\n",
    "            bbox_inches='tight')"
   ]
  },
  {
   "cell_type": "markdown",
   "id": "c44db2a4",
   "metadata": {},
   "source": [
    "### Dev"
   ]
  },
  {
   "cell_type": "code",
   "execution_count": 52,
   "id": "3c827918",
   "metadata": {},
   "outputs": [
    {
     "data": {
      "image/png": "[encoded data removed]",
      "text/plain": [
       "<Figure size 237.6x158.4 with 2 Axes>"
      ]
     },
     "metadata": {},
     "output_type": "display_data"
    }
   ],
   "source": [
    "# plot number of isoforms above 1 TPM\n",
    "\n",
    "fig, axs = plt.subplots(2, 1, sharex=False, figsize=(3.3, 2.2))\n",
    "\n",
    "n_iso = (means_dev > 1).any(axis=1).groupby(genes_dev).size()\n",
    "x_max = n_iso.max()\n",
    "xs = range(0, x_max + 1)\n",
    "axs[0].bar(x=xs, height=[n_iso.value_counts().to_dict().get(x, 0) for x in xs])\n",
    "\n",
    "n_iso = (means_dev > 1).any(axis=1).groupby(genes_dev).sum()\n",
    "axs[1].bar(x=xs, height=[n_iso.value_counts().to_dict().get(x, 0) for x in xs])\n",
    "\n",
    "axs[1].set_xticks(xs)\n",
    "axs[1].set_xlabel('Unique protein isoforms per gene')\n",
    "axs[0].text(x=7, y=400, s='All isoforms')\n",
    "axs[1].text(x=7, y=400, s='≥ 1 TPM in at least one dev tissue')\n",
    "\n",
    "for ax in axs:\n",
    "    ax.set_ylim(0, 800)\n",
    "    ax.set_yticks(range(0, 800, 100), minor=True)\n",
    "    ax.set_ylabel('TF genes_dev')\n",
    "    for pos in ['top', 'right', 'bottom']:\n",
    "        ax.spines[pos].set_visible(False)\n",
    "    ax.xaxis.set_tick_params(length=0)\n",
    "    pctax = ax.secondary_yaxis('right', functions=(num2pct, pct2num))\n",
    "    pctax.set_ylabel('% of TF genes_dev')\n",
    "    pctax.set_yticks(range(0, 46, 5), minor=True)\n",
    "fig.savefig('../../figures/fig1/n-isoforms-per-gene_by-1TPM-cutoff_hist-GTEx_dev.pdf',\n",
    "            bbox_inches='tight')"
   ]
  },
  {
   "cell_type": "markdown",
   "id": "596302c3",
   "metadata": {},
   "source": [
    "## 5. ref v alt 2D heatmaps: max expression"
   ]
  },
  {
   "cell_type": "code",
   "execution_count": 53,
   "id": "51e2e861",
   "metadata": {},
   "outputs": [
    {
     "name": "stdout",
     "output_type": "stream",
     "text": [
      "2910\n",
      "2305\n"
     ]
    },
    {
     "data": {
      "text/html": [
       "<div>\n",
       "<style scoped>\n",
       "    .dataframe tbody tr th:only-of-type {\n",
       "        vertical-align: middle;\n",
       "    }\n",
       "\n",
       "    .dataframe tbody tr th {\n",
       "        vertical-align: top;\n",
       "    }\n",
       "\n",
       "    .dataframe thead th {\n",
       "        text-align: right;\n",
       "    }\n",
       "</style>\n",
       "<table border=\"1\" class=\"dataframe\">\n",
       "  <thead>\n",
       "    <tr style=\"text-align: right;\">\n",
       "      <th></th>\n",
       "      <th>ref</th>\n",
       "      <th>gene</th>\n",
       "      <th>alt</th>\n",
       "    </tr>\n",
       "  </thead>\n",
       "  <tbody>\n",
       "    <tr>\n",
       "      <th>2</th>\n",
       "      <td>FLI1-205</td>\n",
       "      <td>FLI1</td>\n",
       "      <td>FLI1-201</td>\n",
       "    </tr>\n",
       "    <tr>\n",
       "      <th>3</th>\n",
       "      <td>FLI1-205</td>\n",
       "      <td>FLI1</td>\n",
       "      <td>FLI1-207</td>\n",
       "    </tr>\n",
       "    <tr>\n",
       "      <th>4</th>\n",
       "      <td>FLI1-205</td>\n",
       "      <td>FLI1</td>\n",
       "      <td>FLI1-202</td>\n",
       "    </tr>\n",
       "    <tr>\n",
       "      <th>5</th>\n",
       "      <td>ZNF222-202</td>\n",
       "      <td>ZNF222</td>\n",
       "      <td>ZNF222-201</td>\n",
       "    </tr>\n",
       "    <tr>\n",
       "      <th>6</th>\n",
       "      <td>ZNF222-202</td>\n",
       "      <td>ZNF222</td>\n",
       "      <td>ZNF222-203</td>\n",
       "    </tr>\n",
       "  </tbody>\n",
       "</table>\n",
       "</div>"
      ],
      "text/plain": [
       "          ref    gene         alt\n",
       "2    FLI1-205    FLI1    FLI1-201\n",
       "3    FLI1-205    FLI1    FLI1-207\n",
       "4    FLI1-205    FLI1    FLI1-202\n",
       "5  ZNF222-202  ZNF222  ZNF222-201\n",
       "6  ZNF222-202  ZNF222  ZNF222-203"
      ]
     },
     "execution_count": 53,
     "metadata": {},
     "output_type": "execute_result"
    }
   ],
   "source": [
    "ref_alt_map = pd.DataFrame([ref_isos]).T\n",
    "ref_alt_map.columns = [\"ref\"]\n",
    "ref_alt_map[\"gene\"] = ref_alt_map[\"ref\"].str.split(\"|\", expand=True)[0].str[:-4]\n",
    "\n",
    "alt_isos_df = pd.DataFrame([alt_isos]).T\n",
    "alt_isos_df.columns = [\"alt\"]\n",
    "alt_isos_df[\"gene\"] = alt_isos_df[\"alt\"].str.split(\"|\", expand=True)[0].str[:-4]\n",
    "\n",
    "ref_alt_map = ref_alt_map.merge(alt_isos_df, on=\"gene\", how=\"left\")\n",
    "print(len(ref_alt_map))\n",
    "ref_alt_map_nonan = ref_alt_map[~pd.isnull(ref_alt_map[\"alt\"])]\n",
    "print(len(ref_alt_map_nonan))\n",
    "ref_alt_map_nonan.head()"
   ]
  },
  {
   "cell_type": "code",
   "execution_count": 54,
   "id": "78af7fa8",
   "metadata": {},
   "outputs": [
    {
     "data": {
      "text/html": [
       "<div>\n",
       "<style scoped>\n",
       "    .dataframe tbody tr th:only-of-type {\n",
       "        vertical-align: middle;\n",
       "    }\n",
       "\n",
       "    .dataframe tbody tr th {\n",
       "        vertical-align: top;\n",
       "    }\n",
       "\n",
       "    .dataframe thead th {\n",
       "        text-align: right;\n",
       "    }\n",
       "</style>\n",
       "<table border=\"1\" class=\"dataframe\">\n",
       "  <thead>\n",
       "    <tr style=\"text-align: right;\">\n",
       "      <th></th>\n",
       "      <th>ref</th>\n",
       "      <th>gene</th>\n",
       "      <th>alt</th>\n",
       "    </tr>\n",
       "  </thead>\n",
       "  <tbody>\n",
       "    <tr>\n",
       "      <th>394</th>\n",
       "      <td>NKX2-5-201</td>\n",
       "      <td>NKX2-5</td>\n",
       "      <td>NKX2-5-204</td>\n",
       "    </tr>\n",
       "    <tr>\n",
       "      <th>395</th>\n",
       "      <td>NKX2-5-201</td>\n",
       "      <td>NKX2-5</td>\n",
       "      <td>NKX2-5-202</td>\n",
       "    </tr>\n",
       "  </tbody>\n",
       "</table>\n",
       "</div>"
      ],
      "text/plain": [
       "            ref    gene         alt\n",
       "394  NKX2-5-201  NKX2-5  NKX2-5-204\n",
       "395  NKX2-5-201  NKX2-5  NKX2-5-202"
      ]
     },
     "execution_count": 54,
     "metadata": {},
     "output_type": "execute_result"
    }
   ],
   "source": [
    "ref_alt_map_nonan[ref_alt_map_nonan[\"gene\"] == \"NKX2-5\"]"
   ]
  },
  {
   "cell_type": "markdown",
   "id": "c29edd01",
   "metadata": {},
   "source": [
    "### GTEx: all"
   ]
  },
  {
   "cell_type": "code",
   "execution_count": 55,
   "id": "50184f61",
   "metadata": {},
   "outputs": [
    {
     "name": "stdout",
     "output_type": "stream",
     "text": [
      "11.0\n",
      "0.0\n"
     ]
    }
   ],
   "source": [
    "means_gtex[\"max_gtex\"] = means_gtex.max(axis=1)\n",
    "means_gtex[\"min_gtex\"] = means_gtex.min(axis=1)\n",
    "\n",
    "# max out anything above 11 (2000 tpm) to make plots more readable, as luke did above\n",
    "means_gtex[means_gtex[\"max_gtex\"] > 11] = 11\n",
    "\n",
    "print(means_gtex[\"max_gtex\"].max())\n",
    "print(means_gtex[\"max_gtex\"].min())\n",
    "means_gtex_ri = means_gtex.reset_index()\n",
    "means_gtex_ri[\"UID_rep\"] = means_gtex_ri[\"UID\"].str.replace(\"_\", \"|\")"
   ]
  },
  {
   "cell_type": "code",
   "execution_count": 56,
   "id": "fb5b8008",
   "metadata": {},
   "outputs": [],
   "source": [
    "ref_alt_map_nonan = ref_alt_map_nonan.merge(means_gtex_ri[[\"UID_rep\", \"max_gtex\", \"min_gtex\"]], left_on=\"ref\", \n",
    "                                            right_on=\"UID_rep\", how=\"inner\")\n",
    "ref_alt_map_nonan = ref_alt_map_nonan.merge(means_gtex_ri[[\"UID_rep\", \"max_gtex\", \"min_gtex\"]], left_on=\"alt\", \n",
    "                                            right_on=\"UID_rep\", suffixes=(\"_ref\", \"_alt\"), how=\"inner\")"
   ]
  },
  {
   "cell_type": "code",
   "execution_count": 57,
   "id": "1df4e5c6",
   "metadata": {},
   "outputs": [
    {
     "name": "stdout",
     "output_type": "stream",
     "text": [
      "1775\n",
      "529\n"
     ]
    },
    {
     "data": {
      "image/png": "[encoded data removed]",
      "text/plain": [
       "<Figure size 126x108 with 2 Axes>"
      ]
     },
     "metadata": {},
     "output_type": "display_data"
    }
   ],
   "source": [
    "fig = plt.figure(figsize=(1.75, 1.5))\n",
    "\n",
    "ax = sns.histplot(data=ref_alt_map_nonan, x=\"max_gtex_ref\", y=\"max_gtex_alt\",\n",
    "                  bins=30, cbar=True, cbar_kws={\"label\": \"# isoform pairs\",\n",
    "                                                \"ticks\": [0, 5, 10, 15, 20, 25, 30]}, cmap=\"rocket_r\",\n",
    "                  vmin=0, vmax=30)\n",
    "\n",
    "ax.set_xlim((-0.3, 11.5))\n",
    "ax.set_ylim((-0.3, 11.5))\n",
    "ax.set_xlabel(\"max expression of ref\")\n",
    "ax.set_ylabel(\"max expression of alt\")\n",
    "ax.set_title(\"GTEx dataset\\n(n=%s ref/alt pairs)\" % len(ref_alt_map_nonan))\n",
    "\n",
    "ticks = [0, 1, 5, 10, 100, 400, 2000]\n",
    "ticklabels = [0, 1, 5, 10, 100, 400, \"2000+\"]\n",
    "ax.set_xticks([np.log2(x + 1) for x in ticks])\n",
    "ax.set_xticklabels(ticklabels)\n",
    "ax.set_yticks([np.log2(y + 1) for y in ticks])\n",
    "ax.set_yticklabels(ticklabels)\n",
    "ax.tick_params(axis='x', labelsize=7)\n",
    "ax.tick_params(axis='y', labelsize=7)\n",
    "\n",
    "cbar = ax.collections[0].colorbar\n",
    "cbar.set_ticklabels([\"0\", \"5\", \"10\", \"15\", \"20\", \"25\", \"30+\"])\n",
    "\n",
    "# find num where ref > alt\n",
    "ra = len(ref_alt_map_nonan[ref_alt_map_nonan[\"max_gtex_ref\"] > ref_alt_map_nonan[\"max_gtex_alt\"]])\n",
    "print(ra)\n",
    "#ax.text(8.5, 7, \"%s\\n(%s%%)\" % (ra, round(ra/len(ref_alt_map_nonan), 2)*100), ha=\"left\", va=\"bottom\")\n",
    "\n",
    "# find num where alt > ref\n",
    "ar = len(ref_alt_map_nonan[ref_alt_map_nonan[\"max_gtex_ref\"] < ref_alt_map_nonan[\"max_gtex_alt\"]])\n",
    "print(ar)\n",
    "#ax.text(9, 10.5, \"%s\\n(%s%%)\" % (ar, round(ar/len(ref_alt_map_nonan), 2)*100), ha=\"right\", va=\"top\")\n",
    "\n",
    "ax.plot([-0.3,11.5], [-0.3, 11.5], color=\"black\", linestyle=\"dashed\")\n",
    "\n",
    "fig.savefig('../../figures/fig1/expression-scatter-ref_v_alt-gtex.pdf',\n",
    "            bbox_inches='tight')"
   ]
  },
  {
   "cell_type": "markdown",
   "id": "69f2f410",
   "metadata": {},
   "source": [
    "### GTEx: downsampled"
   ]
  },
  {
   "cell_type": "code",
   "execution_count": 58,
   "id": "0901e801",
   "metadata": {},
   "outputs": [
    {
     "name": "stdout",
     "output_type": "stream",
     "text": [
      "11.0\n",
      "0.0\n"
     ]
    }
   ],
   "source": [
    "means_gtex_downsample[\"max_gtex_downsample\"] = means_gtex_downsample.max(axis=1)\n",
    "means_gtex_downsample[\"min_gtex_downsample\"] = means_gtex_downsample.min(axis=1)\n",
    "\n",
    "# max out anything above 11 (2000 tpm) to make plots more readable, as luke did above\n",
    "means_gtex_downsample[means_gtex_downsample[\"max_gtex_downsample\"] > 11] = 11\n",
    "\n",
    "print(means_gtex_downsample[\"max_gtex_downsample\"].max())\n",
    "print(means_gtex_downsample[\"max_gtex_downsample\"].min())\n",
    "means_gtex_downsample_ri = means_gtex_downsample.reset_index()\n",
    "means_gtex_downsample_ri[\"UID_rep\"] = means_gtex_downsample_ri[\"UID\"].str.replace(\"_\", \"|\")"
   ]
  },
  {
   "cell_type": "code",
   "execution_count": 59,
   "id": "f009fbe8",
   "metadata": {},
   "outputs": [],
   "source": [
    "ref_alt_map_nonan = ref_alt_map_nonan.merge(means_gtex_downsample_ri[[\"UID_rep\", \"max_gtex_downsample\",\n",
    "                                                                      \"min_gtex_downsample\"]], \n",
    "                                            left_on=\"ref\", right_on=\"UID_rep\", how=\"inner\")\n",
    "ref_alt_map_nonan = ref_alt_map_nonan.merge(means_gtex_downsample_ri[[\"UID_rep\", \"max_gtex_downsample\",\n",
    "                                                                      \"min_gtex_downsample\"]], \n",
    "                                            left_on=\"alt\", right_on=\"UID_rep\", suffixes=(\"_ref\", \"_alt\"), how=\"inner\")"
   ]
  },
  {
   "cell_type": "code",
   "execution_count": 60,
   "id": "53672717",
   "metadata": {},
   "outputs": [
    {
     "name": "stdout",
     "output_type": "stream",
     "text": [
      "1778\n",
      "526\n"
     ]
    },
    {
     "data": {
      "image/png": "[encoded data removed]",
      "text/plain": [
       "<Figure size 122.4x108 with 2 Axes>"
      ]
     },
     "metadata": {},
     "output_type": "display_data"
    }
   ],
   "source": [
    "fig = plt.figure(figsize=(1.7, 1.5))\n",
    "\n",
    "ax = sns.histplot(data=ref_alt_map_nonan, x=\"max_gtex_downsample_ref\", y=\"max_gtex_downsample_alt\",\n",
    "                  bins=30, cbar=True, cbar_kws={\"label\": \"# isoform pairs\",\n",
    "                                                \"ticks\": [0, 5, 10, 15, 20, 25, 30]}, cmap=\"rocket_r\",\n",
    "                  vmin=0, vmax=30)\n",
    "\n",
    "ax.set_xlim((-0.3, 11.5))\n",
    "ax.set_ylim((-0.3, 11.5))\n",
    "ax.set_xlabel(\"max tpm of ref\")\n",
    "ax.set_ylabel(\"max tpm of alt\")\n",
    "ax.set_title(\"(n=%s ref/alt pairs)\" % len(ref_alt_map_nonan))\n",
    "\n",
    "ticks = [0, 1, 5, 10, 100, 400, 2000]\n",
    "ticklabels = [0, 1, 5, 10, 100, 400, \"2000+\"]\n",
    "ax.set_xticks([np.log2(x + 1) for x in ticks])\n",
    "ax.set_xticklabels(ticklabels)\n",
    "ax.set_yticks([np.log2(y + 1) for y in ticks])\n",
    "ax.set_yticklabels(ticklabels)\n",
    "ax.tick_params(axis='x', labelsize=6)\n",
    "ax.tick_params(axis='y', labelsize=6)\n",
    "\n",
    "cbar = ax.collections[0].colorbar\n",
    "cbar.set_ticklabels([\"0\", \"5\", \"10\", \"15\", \"20\", \"25\", \"30+\"])\n",
    "\n",
    "# find num where ref > alt\n",
    "ra = len(ref_alt_map_nonan[ref_alt_map_nonan[\"max_gtex_downsample_ref\"] > ref_alt_map_nonan[\"max_gtex_downsample_alt\"]])\n",
    "print(ra)\n",
    "#ax.text(8.5, 7, \"%s\\n(%s%%)\" % (ra, round(ra/len(ref_alt_map_nonan), 2)*100), ha=\"left\", va=\"bottom\")\n",
    "\n",
    "# find num where alt > ref\n",
    "ar = len(ref_alt_map_nonan[ref_alt_map_nonan[\"max_gtex_downsample_ref\"] < ref_alt_map_nonan[\"max_gtex_downsample_alt\"]])\n",
    "print(ar)\n",
    "#ax.text(9, 10.5, \"%s\\n(%s%%)\" % (ar, round(ar/len(ref_alt_map_nonan), 2)*100), ha=\"right\", va=\"top\")\n",
    "\n",
    "ax.plot([-0.3,11.5], [-0.3, 11.5], color=\"black\", linestyle=\"dashed\")\n",
    "\n",
    "fig.savefig('../../figures/fig1/expression-scatter-ref_v_alt-gtex-downsample.pdf',\n",
    "            bbox_inches='tight')"
   ]
  },
  {
   "cell_type": "markdown",
   "id": "9b478dab",
   "metadata": {},
   "source": [
    "### Dev"
   ]
  },
  {
   "cell_type": "code",
   "execution_count": 61,
   "id": "c4f2c36e",
   "metadata": {},
   "outputs": [
    {
     "name": "stdout",
     "output_type": "stream",
     "text": [
      "11.0\n",
      "0.0\n"
     ]
    }
   ],
   "source": [
    "means_dev[\"max_dev\"] = means_dev.max(axis=1)\n",
    "means_dev[\"min_dev\"] = means_dev.min(axis=1)\n",
    "\n",
    "# max out anything above 11 (2000 tpm) to make plots more readable, as luke did above\n",
    "means_dev[means_dev[\"max_dev\"] > 11] = 11\n",
    "\n",
    "print(means_dev[\"max_dev\"].max())\n",
    "print(means_dev[\"max_dev\"].min())\n",
    "means_dev_ri = means_dev.reset_index()\n",
    "means_dev_ri[\"UID_rep\"] = means_dev_ri[\"UID\"].str.replace(\"_\", \"|\")"
   ]
  },
  {
   "cell_type": "code",
   "execution_count": 62,
   "id": "250c9dcb",
   "metadata": {},
   "outputs": [],
   "source": [
    "ref_alt_map_nonan = ref_alt_map_nonan.merge(means_dev_ri[[\"UID_rep\", \"max_dev\", \"min_dev\"]], left_on=\"ref\", \n",
    "                                            right_on=\"UID_rep\", how=\"inner\")\n",
    "ref_alt_map_nonan = ref_alt_map_nonan.merge(means_dev_ri[[\"UID_rep\", \"max_dev\", \"min_dev\"]], left_on=\"alt\", \n",
    "                                            right_on=\"UID_rep\", suffixes=(\"_ref\", \"_alt\"), how=\"inner\")"
   ]
  },
  {
   "cell_type": "code",
   "execution_count": 63,
   "id": "f399a55f",
   "metadata": {},
   "outputs": [
    {
     "name": "stdout",
     "output_type": "stream",
     "text": [
      "1752\n",
      "551\n"
     ]
    },
    {
     "data": {
      "image/png": "[encoded data removed]",
      "text/plain": [
       "<Figure size 122.4x108 with 2 Axes>"
      ]
     },
     "metadata": {},
     "output_type": "display_data"
    }
   ],
   "source": [
    "fig = plt.figure(figsize=(1.7, 1.5))\n",
    "\n",
    "ax = sns.histplot(data=ref_alt_map_nonan, x=\"max_dev_ref\", y=\"max_dev_alt\",\n",
    "                  bins=30, cbar=True, cbar_kws={\"label\": \"# isoform pairs\",\n",
    "                                                \"ticks\": [0, 5, 10, 15, 20, 25, 30]}, cmap=\"rocket_r\",\n",
    "                  vmin=0, vmax=30)\n",
    "\n",
    "ax.set_xlim((-0.3, 11.5))\n",
    "ax.set_ylim((-0.3, 11.5))\n",
    "ax.set_xlabel(\"max tpm of ref\")\n",
    "ax.set_ylabel(\"max tpm of alt\")\n",
    "ax.set_title(\"n=%s ref/alt pairs\" % len(ref_alt_map_nonan))\n",
    "\n",
    "ticks = [0, 1, 5, 10, 100, 400, 2000]\n",
    "ticklabels = [0, 1, 5, 10, 100, 400, \"2000+\"]\n",
    "ax.set_xticks([np.log2(x + 1) for x in ticks])\n",
    "ax.set_xticklabels(ticklabels)\n",
    "ax.set_yticks([np.log2(y + 1) for y in ticks])\n",
    "ax.set_yticklabels(ticklabels)\n",
    "ax.tick_params(axis='x', labelsize=6)\n",
    "ax.tick_params(axis='y', labelsize=6)\n",
    "\n",
    "cbar = ax.collections[0].colorbar\n",
    "cbar.set_ticklabels([\"0\", \"5\", \"10\", \"15\", \"20\", \"25\", \"30+\"])\n",
    "\n",
    "# find num where ref > alt\n",
    "ra = len(ref_alt_map_nonan[ref_alt_map_nonan[\"max_dev_ref\"] > ref_alt_map_nonan[\"max_dev_alt\"]])\n",
    "print(ra)\n",
    "#ax.text(8.5, 7, \"%s\\n(%s%%)\" % (ra, round(ra/len(ref_alt_map_nonan), 2)*100), ha=\"left\", va=\"bottom\")\n",
    "\n",
    "# find num where alt > ref\n",
    "ar = len(ref_alt_map_nonan[ref_alt_map_nonan[\"max_dev_ref\"] < ref_alt_map_nonan[\"max_dev_alt\"]])\n",
    "print(ar)\n",
    "#ax.text(9, 10.5, \"%s\\n(%s%%)\" % (ar, round(ar/len(ref_alt_map_nonan), 2)*100), ha=\"right\", va=\"top\")\n",
    "\n",
    "ax.plot([-0.3,11.5], [-0.3, 11.5], color=\"black\", linestyle=\"dashed\")\n",
    "\n",
    "fig.savefig('../../figures/fig1/expression-scatter-ref_v_alt-dev.pdf',\n",
    "            bbox_inches='tight')"
   ]
  },
  {
   "cell_type": "markdown",
   "id": "e97bb4ed",
   "metadata": {},
   "source": [
    "## 6. per isoform: max v min ratio\n",
    "\n",
    "removing NaNs - not counting anything where *gene* expression < 1"
   ]
  },
  {
   "cell_type": "markdown",
   "id": "d0b0ac7a",
   "metadata": {},
   "source": [
    "### GTEx: all"
   ]
  },
  {
   "cell_type": "code",
   "execution_count": 64,
   "id": "34c12651",
   "metadata": {},
   "outputs": [],
   "source": [
    "# percentage of alternative isoform\n",
    "# plot distribution of fraction of gene expression for ref and alt\n",
    "\n",
    "# fraction where gene tpm > 1\n",
    "\n",
    "per_gene_gtex = ((2 ** df_gtex - 1)\n",
    "                .groupby(genes_gtex)\n",
    "                .transform('sum'))\n",
    "f_gtex = (((2 ** df_gtex - 1) / per_gene_gtex)\n",
    "        .groupby(df_gtex.columns.map(metadata_gtex['body_site']), axis=1)\n",
    "        .mean())\n",
    "f_gtex = f_gtex * (per_gene_gtex.groupby(df_gtex.columns.map(metadata_gtex['body_site']), axis=1).mean() >= 1).applymap(lambda x: {False: np.nan, True: 1}[x])  # only count fractions if gene TPM is >= 1\n",
    "\n",
    "f_gtex = f_gtex * 100"
   ]
  },
  {
   "cell_type": "code",
   "execution_count": 65,
   "id": "16551a71",
   "metadata": {},
   "outputs": [
    {
     "name": "stdout",
     "output_type": "stream",
     "text": [
      "4144\n",
      "4095\n"
     ]
    }
   ],
   "source": [
    "print(len(f_gtex))\n",
    "f_gtex[\"max_ratio_gtex\"] = f_gtex.max(axis=1)\n",
    "f_gtex[\"min_ratio_gtex\"] = f_gtex.min(axis=1)\n",
    "f_gtex_nonan = f_gtex[(~pd.isnull(f_gtex[\"max_ratio_gtex\"])) & (~pd.isnull(f_gtex[\"min_ratio_gtex\"]))]\n",
    "print(len(f_gtex_nonan))\n",
    "\n",
    "f_gtex_ri = f_gtex_nonan.reset_index()\n",
    "f_gtex_ri[\"UID_rep\"] = f_gtex_ri[\"UID\"].str.replace(\"_\", \"|\")"
   ]
  },
  {
   "cell_type": "code",
   "execution_count": 66,
   "id": "d24b3ac6",
   "metadata": {},
   "outputs": [],
   "source": [
    "ref_alt_map_nonan = ref_alt_map_nonan.merge(f_gtex_ri[[\"UID_rep\", \"max_ratio_gtex\", \"min_ratio_gtex\"]], left_on=\"ref\", \n",
    "                                            right_on=\"UID_rep\", how=\"left\")\n",
    "ref_alt_map_nonan = ref_alt_map_nonan.merge(f_gtex_ri[[\"UID_rep\", \"max_ratio_gtex\", \"min_ratio_gtex\"]], left_on=\"alt\", \n",
    "                                            right_on=\"UID_rep\", suffixes=(\"_ref\", \"_alt\"), how=\"left\")"
   ]
  },
  {
   "cell_type": "markdown",
   "id": "02951a09",
   "metadata": {},
   "source": [
    "### GTEx: downsample"
   ]
  },
  {
   "cell_type": "code",
   "execution_count": 67,
   "id": "b07f0525",
   "metadata": {},
   "outputs": [],
   "source": [
    "# percentage of alternative isoform\n",
    "# plot distribution of fraction of gene expression for ref and alt\n",
    "\n",
    "# has to be fraction where isoform TPM is at least 1, right (fill na with 0)\n",
    "\n",
    "per_gene_gtex = ((2 ** df_gtex - 1)\n",
    "                .groupby(genes_gtex)\n",
    "                .transform('sum'))\n",
    "f_gtex_downsample = (((2 ** df_gtex - 1) / per_gene_gtex)\n",
    "        .groupby(df_gtex.columns.map(metadata_gtex_dummy['body_site']), axis=1)\n",
    "        .mean())\n",
    "f_gtex_downsample = f_gtex_downsample * (per_gene_gtex.groupby(df_gtex.columns.map(metadata_gtex_dummy['body_site']), axis=1).mean() >= 1).applymap(lambda x: {False: np.nan, True: 1}[x])  # only count fractions if gene TPM is >= 1\n",
    "\n",
    "f_gtex_downsample = f_gtex_downsample * 100"
   ]
  },
  {
   "cell_type": "code",
   "execution_count": 68,
   "id": "3e7612cf",
   "metadata": {},
   "outputs": [
    {
     "name": "stdout",
     "output_type": "stream",
     "text": [
      "4144\n",
      "4109\n"
     ]
    }
   ],
   "source": [
    "print(len(f_gtex_downsample))\n",
    "f_gtex_downsample[\"max_ratio_gtex_downsample\"] = f_gtex_downsample.max(axis=1)\n",
    "f_gtex_downsample[\"min_ratio_gtex_downsample\"] = f_gtex_downsample.min(axis=1)\n",
    "f_gtex_downsample_nonan = f_gtex_downsample[(~pd.isnull(f_gtex_downsample[\"max_ratio_gtex_downsample\"])) & \n",
    "                                            (~pd.isnull(f_gtex_downsample[\"min_ratio_gtex_downsample\"]))]\n",
    "print(len(f_gtex_downsample_nonan))\n",
    "\n",
    "f_gtex_downsample_ri = f_gtex_downsample_nonan.reset_index()\n",
    "f_gtex_downsample_ri[\"UID_rep\"] = f_gtex_downsample_ri[\"UID\"].str.replace(\"_\", \"|\")"
   ]
  },
  {
   "cell_type": "code",
   "execution_count": 69,
   "id": "8a1d101e",
   "metadata": {},
   "outputs": [],
   "source": [
    "ref_alt_map_nonan = ref_alt_map_nonan.merge(f_gtex_downsample_ri[[\"UID_rep\", \"max_ratio_gtex_downsample\", \n",
    "                                                       \"min_ratio_gtex_downsample\"]], left_on=\"ref\", \n",
    "                                            right_on=\"UID_rep\", how=\"left\")\n",
    "ref_alt_map_nonan = ref_alt_map_nonan.merge(f_gtex_downsample_ri[[\"UID_rep\", \"max_ratio_gtex_downsample\", \n",
    "                                                                  \"min_ratio_gtex_downsample\"]], left_on=\"alt\", \n",
    "                                            right_on=\"UID_rep\", suffixes=(\"_ref\", \"_alt\"), how=\"left\")\n"
   ]
  },
  {
   "cell_type": "markdown",
   "id": "0f5f6d01",
   "metadata": {},
   "source": [
    "### Dev"
   ]
  },
  {
   "cell_type": "code",
   "execution_count": 70,
   "id": "b5fd300c",
   "metadata": {},
   "outputs": [],
   "source": [
    "# percentage of alternative isoform\n",
    "# plot distribution of fraction of gene expression for ref and alt\n",
    "\n",
    "# has to be fraction where isoform TPM is at least 1, right (fill na with 0)\n",
    "\n",
    "per_gene_dev = ((2 ** df_dev - 1)\n",
    "                .groupby(genes_dev)\n",
    "                .transform('sum'))\n",
    "f_dev = (((2 ** df_dev - 1) / per_gene_dev)\n",
    "        .groupby(df_dev.columns.map(metadata_dev['organism_part'] + ' ' + metadata_dev['dev_stage']),\n",
    "         axis=1)\n",
    "        .mean())\n",
    "f_dev = f_dev * ((per_gene_dev.groupby(df_dev.columns.map(metadata_dev['organism_part'] + ' ' + metadata_dev['dev_stage']),\n",
    "                                             axis=1)\n",
    "                                             .mean() >= 1)\n",
    "                                         .applymap(lambda x: {False: np.nan, True: 1}[x]))  # only count fractions if gene TPM is >= 1\n",
    "\n",
    "f_dev = f_dev * 100"
   ]
  },
  {
   "cell_type": "code",
   "execution_count": 71,
   "id": "28204369",
   "metadata": {},
   "outputs": [
    {
     "name": "stdout",
     "output_type": "stream",
     "text": [
      "4144\n",
      "4119\n"
     ]
    }
   ],
   "source": [
    "print(len(f_dev))\n",
    "f_dev[\"max_ratio_dev\"] = f_dev.max(axis=1)\n",
    "f_dev[\"min_ratio_dev\"] = f_dev.min(axis=1)\n",
    "f_dev_nonan = f_dev[(~pd.isnull(f_dev[\"max_ratio_dev\"])) & (~pd.isnull(f_dev[\"min_ratio_dev\"]))]\n",
    "print(len(f_dev_nonan))\n",
    "\n",
    "f_dev_ri = f_dev_nonan.reset_index()\n",
    "f_dev_ri[\"UID_rep\"] = f_dev_ri[\"UID\"].str.replace(\"_\", \"|\")"
   ]
  },
  {
   "cell_type": "code",
   "execution_count": 72,
   "id": "ddb4e699",
   "metadata": {},
   "outputs": [],
   "source": [
    "ref_alt_map_nonan = ref_alt_map_nonan.merge(f_dev_ri[[\"UID_rep\", \"max_ratio_dev\", \"min_ratio_dev\"]], left_on=\"ref\", \n",
    "                                            right_on=\"UID_rep\", how=\"left\")\n",
    "ref_alt_map_nonan = ref_alt_map_nonan.merge(f_dev_ri[[\"UID_rep\", \"max_ratio_dev\", \"min_ratio_dev\"]], left_on=\"alt\", \n",
    "                                            right_on=\"UID_rep\", suffixes=(\"_ref\", \"_alt\"), how=\"left\")"
   ]
  },
  {
   "cell_type": "markdown",
   "id": "eab3e54f",
   "metadata": {},
   "source": [
    "## 2D histograms to display shift/switch + barplots to quantify"
   ]
  },
  {
   "cell_type": "code",
   "execution_count": 73,
   "id": "e64c6ff4",
   "metadata": {},
   "outputs": [
    {
     "name": "stdout",
     "output_type": "stream",
     "text": [
      "2305\n",
      "2305\n"
     ]
    }
   ],
   "source": [
    "print(len(ref_alt_map_nonan))\n",
    "df = ref_alt_map_nonan[[\"gene\", \"ref\", \"alt\", \"min_ratio_dev_alt\", \"max_ratio_dev_alt\",\n",
    "                        \"min_ratio_gtex_downsample_alt\", \"max_ratio_gtex_downsample_alt\"]].drop_duplicates()\n",
    "print(len(df))\n",
    "\n",
    "df[\"perc_change_dev_alt\"] = df[\"max_ratio_dev_alt\"] - df[\"min_ratio_dev_alt\"]\n",
    "df[\"perc_change_gtex_downsample_alt\"] = df[\"max_ratio_gtex_downsample_alt\"] - df[\"min_ratio_gtex_downsample_alt\"]"
   ]
  },
  {
   "cell_type": "code",
   "execution_count": 74,
   "id": "6446aeee",
   "metadata": {},
   "outputs": [],
   "source": [
    "LOW_THRESH = 10\n",
    "PERC_CHANGE_THRESH = 70"
   ]
  },
  {
   "cell_type": "code",
   "execution_count": 75,
   "id": "537d77eb",
   "metadata": {},
   "outputs": [],
   "source": [
    "def categorize_switch(row, min_col, max_col, perc_change_col, LOW_THRESH=LOW_THRESH, PERC_CHANGE_THRESH=PERC_CHANGE_THRESH):\n",
    "    if row[min_col] < LOW_THRESH and row[max_col] < LOW_THRESH:\n",
    "        return \"low\"\n",
    "    elif row[perc_change_col] > PERC_CHANGE_THRESH:\n",
    "        return \"switch\"\n",
    "    else:\n",
    "        return \"shift\"\n",
    "\n",
    "df[\"cat_dev_alt\"] = df.apply(categorize_switch, min_col=\"min_ratio_dev_alt\", max_col=\"max_ratio_dev_alt\", \n",
    "                             perc_change_col=\"perc_change_dev_alt\", axis=1)\n",
    "df[\"cat_gtex_downsample_alt\"] = df.apply(categorize_switch, min_col=\"min_ratio_gtex_downsample_alt\", \n",
    "                                         max_col=\"max_ratio_gtex_downsample_alt\", \n",
    "                                         perc_change_col=\"perc_change_gtex_downsample_alt\", \n",
    "                                         axis=1)"
   ]
  },
  {
   "cell_type": "code",
   "execution_count": 76,
   "id": "47a2e0d2",
   "metadata": {},
   "outputs": [
    {
     "data": {
      "text/plain": [
       "shift     1482\n",
       "switch     478\n",
       "low        345\n",
       "Name: cat_dev_alt, dtype: int64"
      ]
     },
     "execution_count": 76,
     "metadata": {},
     "output_type": "execute_result"
    }
   ],
   "source": [
    "df.cat_dev_alt.value_counts()"
   ]
  },
  {
   "cell_type": "code",
   "execution_count": 77,
   "id": "961427ef",
   "metadata": {},
   "outputs": [
    {
     "data": {
      "text/plain": [
       "shift     1556\n",
       "low        489\n",
       "switch     260\n",
       "Name: cat_gtex_downsample_alt, dtype: int64"
      ]
     },
     "execution_count": 77,
     "metadata": {},
     "output_type": "execute_result"
    }
   ],
   "source": [
    "df.cat_gtex_downsample_alt.value_counts()"
   ]
  },
  {
   "cell_type": "code",
   "execution_count": 78,
   "id": "a3d76b5a",
   "metadata": {},
   "outputs": [
    {
     "data": {
      "image/png": "[encoded data removed]",
      "text/plain": [
       "<Figure size 122.4x108 with 2 Axes>"
      ]
     },
     "metadata": {},
     "output_type": "display_data"
    }
   ],
   "source": [
    "fig = plt.figure(figsize=(1.7, 1.5))\n",
    "\n",
    "ax = sns.histplot(data=df, x=\"min_ratio_dev_alt\", y=\"max_ratio_dev_alt\",\n",
    "                  bins=30, cbar=True, cmap=\"mako_r\", vmin=0, vmax=120, cbar_kws={\"label\": \"# isoform pairs\",\n",
    "                                                                                   \"ticks\": [0, 20, 40, 60,\n",
    "                                                                                             80, 100, 120]})\n",
    "cbar = ax.collections[0].colorbar\n",
    "cbar.set_ticklabels([\"0\", \"20\", \"40\", \"60\", \"80\", \"100\", \"120+\"])\n",
    "ax.set_xlim((-2, 102))\n",
    "ax.set_ylim((-2, 102))\n",
    "ax.set_xticks([0, 20, 40, 60, 80, 100])\n",
    "ax.set_yticks([0, 20, 40, 60, 80, 100])\n",
    "ax.set_xlabel(\"min isoform fraction\")\n",
    "ax.set_ylabel(\"max isoform fraction\")\n",
    "ax.set_title(\"n=%s alt isoforms\" % len(df))\n",
    "\n",
    "# add lines to distinguish events\n",
    "ax.plot([LOW_THRESH, 0], [LOW_THRESH, LOW_THRESH], linestyle=\"dotted\", color=\"black\")\n",
    "ax.plot([LOW_THRESH, LOW_THRESH], [0, LOW_THRESH], linestyle=\"dotted\", color=\"black\")\n",
    "ax.text(LOW_THRESH, 5, \" low\", ha=\"left\", va=\"center\", fontstyle=\"italic\", color=\"slategrey\")\n",
    "ax.plot([0, 100-PERC_CHANGE_THRESH], [PERC_CHANGE_THRESH, 100], linestyle=\"dotted\", color=\"black\")\n",
    "ax.text(0, PERC_CHANGE_THRESH, \"switch\\n\", ha=\"left\", va=\"bottom\", rotation=45, fontstyle=\"italic\", color=\"black\")\n",
    "fig.savefig('../../figures/fig1/expression-ratio-scatter-alt-dev.pdf',\n",
    "            bbox_inches='tight')"
   ]
  },
  {
   "cell_type": "code",
   "execution_count": 79,
   "id": "8e4f949c",
   "metadata": {},
   "outputs": [
    {
     "data": {
      "image/png": "[encoded data removed]",
      "text/plain": [
       "<Figure size 122.4x108 with 2 Axes>"
      ]
     },
     "metadata": {},
     "output_type": "display_data"
    }
   ],
   "source": [
    "fig = plt.figure(figsize=(1.7, 1.5))\n",
    "\n",
    "ax = sns.histplot(data=df, x=\"min_ratio_gtex_downsample_alt\", y=\"max_ratio_gtex_downsample_alt\",\n",
    "                  bins=30, cbar=True, cmap=\"mako_r\", vmin=0, vmax=120, cbar_kws={\"label\": \"# isoform pairs\",\n",
    "                                                                                   \"ticks\": [0, 20, 40, 60,\n",
    "                                                                                             80, 100, 120]})\n",
    "cbar = ax.collections[0].colorbar\n",
    "cbar.set_ticklabels([\"0\", \"20\", \"40\", \"60\", \"80\", \"100\", \"120+\"])\n",
    "ax.set_xlim((-2, 102))\n",
    "ax.set_ylim((-2, 102))\n",
    "ax.set_xticks([0, 20, 40, 60, 80, 100])\n",
    "ax.set_yticks([0, 20, 40, 60, 80, 100])\n",
    "ax.set_xlabel(\"min isoform fraction\")\n",
    "ax.set_ylabel(\"max isoform fraction\")\n",
    "ax.set_title(\"n=%s alt isoforms\" % len(df))\n",
    "\n",
    "# add lines to distinguish events\n",
    "ax.plot([LOW_THRESH, 0], [LOW_THRESH, LOW_THRESH], linestyle=\"dotted\", color=\"black\")\n",
    "ax.plot([LOW_THRESH, LOW_THRESH], [0, LOW_THRESH], linestyle=\"dotted\", color=\"black\")\n",
    "ax.text(LOW_THRESH, 5, \" low\", ha=\"left\", va=\"center\", fontstyle=\"italic\", color=\"slategrey\")\n",
    "ax.plot([0, 100-PERC_CHANGE_THRESH], [PERC_CHANGE_THRESH, 100], linestyle=\"dotted\", color=\"black\")\n",
    "ax.text(0, PERC_CHANGE_THRESH, \"switch\\n\", ha=\"left\", va=\"bottom\", rotation=45, fontstyle=\"italic\", color=\"black\")\n",
    "fig.savefig('../../figures/fig1/expression-ratio-scatter-alt-gtex-downsample.pdf',\n",
    "            bbox_inches='tight')"
   ]
  },
  {
   "cell_type": "code",
   "execution_count": 80,
   "id": "1b1d9240",
   "metadata": {},
   "outputs": [
    {
     "data": {
      "image/png": "[encoded data removed]",
      "text/plain": [
       "<Figure size 108x108 with 1 Axes>"
      ]
     },
     "metadata": {},
     "output_type": "display_data"
    }
   ],
   "source": [
    "fig = plt.figure(figsize=(1.5, 1.5))\n",
    "\n",
    "dev_df = df[df[\"cat_dev_alt\"] != \"low\"].drop_duplicates()\n",
    "gtex_df = df[df[\"cat_gtex_downsample_alt\"] != \"low\"].drop_duplicates()\n",
    "ax = sns.kdeplot(x=dev_df[\"perc_change_dev_alt\"], cumulative=False, cut=0,\n",
    "                 color=sns.color_palette(\"Set2\")[1], label=\"Dev (n=%s)\" % (len(dev_df)))\n",
    "sns.kdeplot(x=gtex_df[\"perc_change_gtex_downsample_alt\"], cut=0, \n",
    "            cumulative=False, color=sns.color_palette(\"Set2\")[2], label=\"GTEx (n=%s)\" % len(gtex_df), ax=ax)\n",
    "ax.axvline(x=PERC_CHANGE_THRESH, color=\"black\", linestyle=\"dashed\", linewidth=1)\n",
    "ax.text(PERC_CHANGE_THRESH, 0.016, \"  switch\", ha=\"left\", va=\"top\", fontsize=7)\n",
    "ax.text(PERC_CHANGE_THRESH, 0.016, \"shift  \", ha=\"right\", va=\"top\", fontsize=7)\n",
    "\n",
    "\n",
    "plt.legend(loc=2, bbox_to_anchor=(1.01, 1), frameon=False)\n",
    "\n",
    "ax.set_xlabel(\"maximum % change across conditions\")\n",
    "ax.set_ylabel(\"density\")\n",
    "ax.set_title(\"Expressed alternative isoforms\")\n",
    "\n",
    "_ = ax.set_xticks([0, 20, 40, 60, 80, 100])\n",
    "\n",
    "for spine in ['right', 'top']:\n",
    "    ax.spines[spine].set_visible(False)\n",
    "\n",
    "fig.savefig('../../figures/fig1/perc-change-dist-gtex-v-dev.pdf',\n",
    "            bbox_inches='tight')"
   ]
  },
  {
   "cell_type": "code",
   "execution_count": 81,
   "id": "34785873",
   "metadata": {},
   "outputs": [
    {
     "data": {
      "text/html": [
       "<div>\n",
       "<style scoped>\n",
       "    .dataframe tbody tr th:only-of-type {\n",
       "        vertical-align: middle;\n",
       "    }\n",
       "\n",
       "    .dataframe tbody tr th {\n",
       "        vertical-align: top;\n",
       "    }\n",
       "\n",
       "    .dataframe thead th {\n",
       "        text-align: right;\n",
       "    }\n",
       "</style>\n",
       "<table border=\"1\" class=\"dataframe\">\n",
       "  <thead>\n",
       "    <tr style=\"text-align: right;\">\n",
       "      <th></th>\n",
       "      <th>index</th>\n",
       "      <th>shift</th>\n",
       "      <th>switch</th>\n",
       "      <th>low</th>\n",
       "    </tr>\n",
       "  </thead>\n",
       "  <tbody>\n",
       "    <tr>\n",
       "      <th>0</th>\n",
       "      <td>cat_dev_alt_p</td>\n",
       "      <td>64.295011</td>\n",
       "      <td>20.737527</td>\n",
       "      <td>14.967462</td>\n",
       "    </tr>\n",
       "    <tr>\n",
       "      <th>1</th>\n",
       "      <td>cat_gtex_downsample_alt_p</td>\n",
       "      <td>67.505423</td>\n",
       "      <td>11.279826</td>\n",
       "      <td>21.214751</td>\n",
       "    </tr>\n",
       "  </tbody>\n",
       "</table>\n",
       "</div>"
      ],
      "text/plain": [
       "                       index      shift     switch        low\n",
       "0              cat_dev_alt_p  64.295011  20.737527  14.967462\n",
       "1  cat_gtex_downsample_alt_p  67.505423  11.279826  21.214751"
      ]
     },
     "execution_count": 81,
     "metadata": {},
     "output_type": "execute_result"
    }
   ],
   "source": [
    "barp = pd.DataFrame(df.cat_dev_alt.value_counts())\n",
    "barp[\"cat_dev_alt_p\"] = barp[\"cat_dev_alt\"]/barp[\"cat_dev_alt\"].sum(axis=0)*100\n",
    "\n",
    "barp = barp.join(pd.DataFrame(df.cat_gtex_downsample_alt.value_counts()))\n",
    "barp[\"cat_gtex_downsample_alt_p\"] = barp[\"cat_gtex_downsample_alt\"]/barp[\"cat_gtex_downsample_alt\"].sum(axis=0)*100\n",
    "barp = barp[[\"cat_dev_alt_p\", \"cat_gtex_downsample_alt_p\"]].T.reset_index()\n",
    "barp"
   ]
  },
  {
   "cell_type": "code",
   "execution_count": 82,
   "id": "e336adf0",
   "metadata": {},
   "outputs": [],
   "source": [
    "palette = {\"low\": \"lightgrey\",\n",
    "           \"shift\": sns.color_palette(\"mako\")[1],\n",
    "           \"switch\": sns.color_palette(\"mako\")[5]}"
   ]
  },
  {
   "cell_type": "code",
   "execution_count": 83,
   "id": "cb3a5e07",
   "metadata": {},
   "outputs": [
    {
     "data": {
      "image/png": "[encoded data removed]",
      "text/plain": [
       "<Figure size 86.4x108 with 1 Axes>"
      ]
     },
     "metadata": {},
     "output_type": "display_data"
    }
   ],
   "source": [
    "ax = barp.plot.bar(x=\"index\", stacked=True, color=list(palette.values())[::-1], figsize=(1.2, 1.5))\n",
    "ax.set_ylabel(\"% of isoforms\")\n",
    "ax.set_xlabel(\"\")\n",
    "\n",
    "plt.legend(loc=2, bbox_to_anchor=(1.01, 1), frameon=False)\n",
    "ax.set_xticklabels([\"Dev.\", \"GTEx\"], ha=\"right\", va=\"top\", rotation=30)\n",
    "\n",
    "for i, row in barp.iterrows():\n",
    "    p_shift = row['shift']\n",
    "    ax.text(i, 0, '{:.0f}%'.format(p_shift), ha=\"center\", va=\"bottom\", fontsize=7)\n",
    "    p_switch = row['switch']\n",
    "    ax.text(i, p_shift, '{:.0f}%'.format(p_switch), ha=\"center\", va=\"bottom\", fontsize=7, color=\"white\")\n",
    "    p_low = row['low']\n",
    "    ax.text(i, p_shift+p_switch, '{:.0f}%'.format(p_low), ha=\"center\", va=\"bottom\", fontsize=7)\n",
    "    \n",
    "for spine in ['right', 'top']:\n",
    "    ax.spines[spine].set_visible(False)\n",
    "\n",
    "plt.savefig('../../figures/fig1/expression-switch-bar-dev_vs_gtex.pdf',\n",
    "            bbox_inches='tight')"
   ]
  },
  {
   "cell_type": "markdown",
   "id": "efe911f8",
   "metadata": {},
   "source": [
    "### example plot: TF gene whose isoform ratios change across tissues"
   ]
  },
  {
   "cell_type": "code",
   "execution_count": 84,
   "id": "b0d2d07c",
   "metadata": {},
   "outputs": [],
   "source": [
    "tmp = ref_alt_map_nonan\n",
    "tmp[\"mm_gtex_ds_ref\"] = tmp[\"max_ratio_gtex_downsample_ref\"]-tmp[\"min_ratio_gtex_downsample_ref\"]\n",
    "tmp[\"mm_gtex_ds_alt\"] = tmp[\"max_ratio_gtex_downsample_alt\"]-tmp[\"min_ratio_gtex_downsample_alt\"]\n",
    "tmp[\"mm_dev_ref\"] = tmp[\"max_ratio_dev_ref\"]-tmp[\"min_ratio_dev_ref\"]\n",
    "tmp[\"mm_dev_alt\"] = tmp[\"max_ratio_dev_alt\"]-tmp[\"min_ratio_dev_alt\"]\n",
    "tmp[\"dg_ref\"] = tmp[\"mm_dev_ref\"]-tmp[\"mm_gtex_ds_ref\"]\n",
    "tmp[\"dg_alt\"] = tmp[\"mm_dev_alt\"]-tmp[\"mm_gtex_ds_alt\"]\n",
    "#tmp.sort_values(by=\"dg_alt\", ascending=False).head(30)"
   ]
  },
  {
   "cell_type": "code",
   "execution_count": 85,
   "id": "3a2fb101",
   "metadata": {},
   "outputs": [],
   "source": [
    "if not (genes_gtex == genes_dev).all():\n",
    "        raise UserWarning()\n",
    "genes = genes_gtex"
   ]
  },
  {
   "cell_type": "code",
   "execution_count": 86,
   "id": "9676e8d3",
   "metadata": {},
   "outputs": [],
   "source": [
    "def developmental_tissue_expression_plot(gene_name, palette_name, figsize, ylim, means, cols, fig_suffix):\n",
    "    n_isos = len(means.loc[genes == gene_name])\n",
    "    palette = sns.color_palette(palette_name, as_cmap=False, n_colors=n_isos)\n",
    "    fig, axes = plt.subplots(2, 1, sharex=True)\n",
    "    fig.set_size_inches(figsize)\n",
    "    ### bar chart ###\n",
    "    (means.loc[genes == gene_name, cols]\n",
    "          .T\n",
    "          .plot.bar(ax=axes[0],\n",
    "                    legend=False,\n",
    "                    width=0.7,\n",
    "                    color=list(palette)))\n",
    "    ### percentages ###\n",
    "    raw_means = 2 ** means.loc[genes == gene_name, cols] - 1.\n",
    "    (raw_means.div(raw_means.sum(axis=0))\n",
    "              .T.plot.bar(ax=axes[1], \n",
    "                          stacked=True,\n",
    "                          legend=False,\n",
    "                          color=list(palette)))\n",
    "    axes[0].set_ylabel('log2(tpm + 1)\\n')\n",
    "    axes[0].set_ylim(ylim)\n",
    "    axes[1].set_ylabel('percent')\n",
    "    axes[1].set_yticklabels(['{:.0%}'.format(t) for t in axes[1].get_yticks()])\n",
    "    axes[1].legend(loc='lower left', bbox_to_anchor=(1, 0), frameon=False)\n",
    "    axes[0].axhline(y=1, color='black', linewidth=0.5, linestyle=\"dashed\")\n",
    "    \n",
    "    for spine in ['right', 'top']:\n",
    "        axes[0].spines[spine].set_visible(False)\n",
    "        axes[1].spines[spine].set_visible(False)\n",
    "    \n",
    "    plt.subplots_adjust(hspace=0.25)\n",
    "    plt.savefig('../../figures/fig1/expression_' + gene_name + '_' + fig_suffix + '.pdf',\n",
    "                bbox_inches='tight')"
   ]
  },
  {
   "cell_type": "code",
   "execution_count": 87,
   "id": "075b2d93",
   "metadata": {},
   "outputs": [
    {
     "data": {
      "image/png": "[encoded data removed]",
      "text/plain": [
       "<Figure size 288x126 with 2 Axes>"
      ]
     },
     "metadata": {},
     "output_type": "display_data"
    }
   ],
   "source": [
    "heart_cols = [x for x in means_dev.columns if \"heart\" in x]\n",
    "ovary_cols = [x for x in means_dev.columns if \"ovary\" in x]\n",
    "developmental_tissue_expression_plot(\"HEY2\", \"Spectral\", (4, 1.75), (0, 6), means_dev, heart_cols + ovary_cols, \n",
    "                                     \"means_dev_heart_ovary\")"
   ]
  },
  {
   "cell_type": "code",
   "execution_count": 88,
   "id": "6908f2aa",
   "metadata": {},
   "outputs": [
    {
     "data": {
      "image/png": "[encoded data removed]",
      "text/plain": [
       "<Figure size 36x126 with 2 Axes>"
      ]
     },
     "metadata": {},
     "output_type": "display_data"
    }
   ],
   "source": [
    "heart_cols = [x for x in means_gtex.columns if \"Heart\" in x]\n",
    "ovary_cols = [x for x in means_gtex.columns if \"Ovary\" in x]\n",
    "developmental_tissue_expression_plot(\"HEY2\", \"Spectral\", (0.5, 1.75), (0, 6), means_gtex, heart_cols + ovary_cols, \n",
    "                                     \"means_gtex_heart_ovary\")"
   ]
  },
  {
   "cell_type": "code",
   "execution_count": 89,
   "id": "45eab700",
   "metadata": {},
   "outputs": [
    {
     "data": {
      "text/plain": [
       "850"
      ]
     },
     "execution_count": 89,
     "metadata": {},
     "output_type": "execute_result"
    }
   ],
   "source": [
    "ss_alt_gtex = len(ref_alt_map_nonan[(ref_alt_map_nonan[\"max_ratio_gtex_downsample_alt\"] > LOW_THRESH)].gene.unique())\n",
    "ss_alt_gtex"
   ]
  },
  {
   "cell_type": "code",
   "execution_count": 90,
   "id": "db9489f4",
   "metadata": {},
   "outputs": [
    {
     "data": {
      "text/plain": [
       "877"
      ]
     },
     "execution_count": 90,
     "metadata": {},
     "output_type": "execute_result"
    }
   ],
   "source": [
    "ss_alt_dev = len(ref_alt_map_nonan[(ref_alt_map_nonan[\"max_ratio_dev_alt\"] > LOW_THRESH)].gene.unique())\n",
    "ss_alt_dev"
   ]
  },
  {
   "cell_type": "code",
   "execution_count": 91,
   "id": "d52c7f89",
   "metadata": {},
   "outputs": [
    {
     "data": {
      "text/plain": [
       "909"
      ]
     },
     "execution_count": 91,
     "metadata": {},
     "output_type": "execute_result"
    }
   ],
   "source": [
    "tot_genes = len(ref_alt_map_nonan.gene.unique())\n",
    "tot_genes"
   ]
  },
  {
   "cell_type": "code",
   "execution_count": 92,
   "id": "67c06029",
   "metadata": {},
   "outputs": [
    {
     "data": {
      "text/plain": [
       "0.935093509350935"
      ]
     },
     "execution_count": 92,
     "metadata": {},
     "output_type": "execute_result"
    }
   ],
   "source": [
    "ss_alt_gtex/tot_genes"
   ]
  },
  {
   "cell_type": "code",
   "execution_count": 93,
   "id": "392a88c3",
   "metadata": {},
   "outputs": [
    {
     "data": {
      "text/plain": [
       "0.9647964796479648"
      ]
     },
     "execution_count": 93,
     "metadata": {},
     "output_type": "execute_result"
    }
   ],
   "source": [
    "ss_alt_dev/tot_genes"
   ]
  },
  {
   "cell_type": "code",
   "execution_count": 94,
   "id": "de519b16",
   "metadata": {},
   "outputs": [
    {
     "data": {
      "image/png": "[encoded data removed]",
      "text/plain": [
       "<Figure size 432x288 with 2 Axes>"
      ]
     },
     "metadata": {},
     "output_type": "display_data"
    }
   ],
   "source": [
    "tfs[\"HEY2\"].protein_diagram(only_cloned_isoforms=False)"
   ]
  },
  {
   "cell_type": "markdown",
   "id": "731652f1",
   "metadata": {},
   "source": [
    "## 7. calculate domain switches in annotated isoforms"
   ]
  },
  {
   "cell_type": "code",
   "execution_count": 95,
   "id": "84bd61ac",
   "metadata": {},
   "outputs": [],
   "source": [
    "clans = load_pfam_clans()\n",
    "dbd = load_DNA_binding_domains()"
   ]
  },
  {
   "cell_type": "code",
   "execution_count": 96,
   "id": "e895d112",
   "metadata": {},
   "outputs": [],
   "source": [
    "pfam = pd.read_csv('../../data/external/Pfam-A.clans.tsv',\n",
    "                   sep='\\t',\n",
    "                   names=['pfam_accession', 'clan', 'clan_name', 'short_name', 'name'])"
   ]
  },
  {
   "cell_type": "code",
   "execution_count": 97,
   "id": "99ae7471",
   "metadata": {},
   "outputs": [
    {
     "data": {
      "text/plain": [
       "'TBX5-201'"
      ]
     },
     "execution_count": 97,
     "metadata": {},
     "output_type": "execute_result"
    }
   ],
   "source": [
    "ref_isos = dict([(tf.name, orf.name)\n",
    "            for tf in tfs.values()\n",
    "            for orf in tf.isoforms\n",
    "            if tf.has_MANE_select_isoform and orf.is_MANE_select_transcript])\n",
    "ref_isos['TBX5']"
   ]
  },
  {
   "cell_type": "code",
   "execution_count": 98,
   "id": "e8930de9",
   "metadata": {},
   "outputs": [
    {
     "data": {
      "text/html": [
       "<div>\n",
       "<style scoped>\n",
       "    .dataframe tbody tr th:only-of-type {\n",
       "        vertical-align: middle;\n",
       "    }\n",
       "\n",
       "    .dataframe tbody tr th {\n",
       "        vertical-align: top;\n",
       "    }\n",
       "\n",
       "    .dataframe thead th {\n",
       "        text-align: right;\n",
       "    }\n",
       "</style>\n",
       "<table border=\"1\" class=\"dataframe\">\n",
       "  <thead>\n",
       "    <tr style=\"text-align: right;\">\n",
       "      <th></th>\n",
       "      <th>gene_symbol</th>\n",
       "      <th>ref_iso</th>\n",
       "      <th>alt_iso</th>\n",
       "      <th>accession</th>\n",
       "      <th>category</th>\n",
       "      <th>start_in_ref_iso</th>\n",
       "      <th>end_in_ref_iso</th>\n",
       "      <th>length</th>\n",
       "      <th>deletion</th>\n",
       "      <th>insertion</th>\n",
       "      <th>frameshift</th>\n",
       "    </tr>\n",
       "  </thead>\n",
       "  <tbody>\n",
       "    <tr>\n",
       "      <th>0</th>\n",
       "      <td>PRDM16</td>\n",
       "      <td>PRDM16-201</td>\n",
       "      <td>PRDM16-203</td>\n",
       "      <td>PF00096</td>\n",
       "      <td>Pfam_domain</td>\n",
       "      <td>229</td>\n",
       "      <td>251</td>\n",
       "      <td>22</td>\n",
       "      <td>0</td>\n",
       "      <td>0</td>\n",
       "      <td>0</td>\n",
       "    </tr>\n",
       "    <tr>\n",
       "      <th>1</th>\n",
       "      <td>PRDM16</td>\n",
       "      <td>PRDM16-201</td>\n",
       "      <td>PRDM16-206</td>\n",
       "      <td>PF00096</td>\n",
       "      <td>Pfam_domain</td>\n",
       "      <td>229</td>\n",
       "      <td>251</td>\n",
       "      <td>22</td>\n",
       "      <td>0</td>\n",
       "      <td>0</td>\n",
       "      <td>0</td>\n",
       "    </tr>\n",
       "    <tr>\n",
       "      <th>2</th>\n",
       "      <td>PRDM16</td>\n",
       "      <td>PRDM16-201</td>\n",
       "      <td>PRDM16-208</td>\n",
       "      <td>PF00096</td>\n",
       "      <td>Pfam_domain</td>\n",
       "      <td>229</td>\n",
       "      <td>251</td>\n",
       "      <td>22</td>\n",
       "      <td>0</td>\n",
       "      <td>0</td>\n",
       "      <td>0</td>\n",
       "    </tr>\n",
       "    <tr>\n",
       "      <th>3</th>\n",
       "      <td>PRDM16</td>\n",
       "      <td>PRDM16-201</td>\n",
       "      <td>PRDM16-203</td>\n",
       "      <td>PF00856</td>\n",
       "      <td>Pfam_domain</td>\n",
       "      <td>94</td>\n",
       "      <td>209</td>\n",
       "      <td>115</td>\n",
       "      <td>0</td>\n",
       "      <td>0</td>\n",
       "      <td>0</td>\n",
       "    </tr>\n",
       "    <tr>\n",
       "      <th>4</th>\n",
       "      <td>PRDM16</td>\n",
       "      <td>PRDM16-201</td>\n",
       "      <td>PRDM16-206</td>\n",
       "      <td>PF00856</td>\n",
       "      <td>Pfam_domain</td>\n",
       "      <td>94</td>\n",
       "      <td>209</td>\n",
       "      <td>115</td>\n",
       "      <td>0</td>\n",
       "      <td>1</td>\n",
       "      <td>0</td>\n",
       "    </tr>\n",
       "  </tbody>\n",
       "</table>\n",
       "</div>"
      ],
      "text/plain": [
       "  gene_symbol     ref_iso     alt_iso accession     category  \\\n",
       "0      PRDM16  PRDM16-201  PRDM16-203   PF00096  Pfam_domain   \n",
       "1      PRDM16  PRDM16-201  PRDM16-206   PF00096  Pfam_domain   \n",
       "2      PRDM16  PRDM16-201  PRDM16-208   PF00096  Pfam_domain   \n",
       "3      PRDM16  PRDM16-201  PRDM16-203   PF00856  Pfam_domain   \n",
       "4      PRDM16  PRDM16-201  PRDM16-206   PF00856  Pfam_domain   \n",
       "\n",
       "   start_in_ref_iso  end_in_ref_iso  length  deletion  insertion  frameshift  \n",
       "0               229             251      22         0          0           0  \n",
       "1               229             251      22         0          0           0  \n",
       "2               229             251      22         0          0           0  \n",
       "3                94             209     115         0          0           0  \n",
       "4                94             209     115         0          1           0  "
      ]
     },
     "execution_count": 98,
     "metadata": {},
     "output_type": "execute_result"
    }
   ],
   "source": [
    "# now every comparison is alt vs annotated reference isoform\n",
    "df = pd.concat([g.aa_feature_disruption(ref_isos[g.name]) for g in tfs.values() if g.has_MANE_select_isoform])\n",
    "df.head()"
   ]
  },
  {
   "cell_type": "code",
   "execution_count": 99,
   "id": "52b2b712",
   "metadata": {},
   "outputs": [
    {
     "data": {
      "text/html": [
       "<div>\n",
       "<style scoped>\n",
       "    .dataframe tbody tr th:only-of-type {\n",
       "        vertical-align: middle;\n",
       "    }\n",
       "\n",
       "    .dataframe tbody tr th {\n",
       "        vertical-align: top;\n",
       "    }\n",
       "\n",
       "    .dataframe thead th {\n",
       "        text-align: right;\n",
       "    }\n",
       "</style>\n",
       "<table border=\"1\" class=\"dataframe\">\n",
       "  <thead>\n",
       "    <tr style=\"text-align: right;\">\n",
       "      <th></th>\n",
       "      <th>gene_symbol</th>\n",
       "      <th>ref_iso</th>\n",
       "      <th>alt_iso</th>\n",
       "      <th>accession</th>\n",
       "      <th>category</th>\n",
       "      <th>start_in_ref_iso</th>\n",
       "      <th>end_in_ref_iso</th>\n",
       "      <th>length</th>\n",
       "      <th>deletion</th>\n",
       "      <th>insertion</th>\n",
       "      <th>frameshift</th>\n",
       "    </tr>\n",
       "  </thead>\n",
       "  <tbody>\n",
       "    <tr>\n",
       "      <th>0</th>\n",
       "      <td>HEY2</td>\n",
       "      <td>HEY2-201</td>\n",
       "      <td>HEY2-202</td>\n",
       "      <td>PF00010</td>\n",
       "      <td>Pfam_domain</td>\n",
       "      <td>48</td>\n",
       "      <td>104</td>\n",
       "      <td>56</td>\n",
       "      <td>0</td>\n",
       "      <td>0</td>\n",
       "      <td>0</td>\n",
       "    </tr>\n",
       "    <tr>\n",
       "      <th>1</th>\n",
       "      <td>HEY2</td>\n",
       "      <td>HEY2-201</td>\n",
       "      <td>HEY2-202</td>\n",
       "      <td>PF07527</td>\n",
       "      <td>Pfam_domain</td>\n",
       "      <td>122</td>\n",
       "      <td>162</td>\n",
       "      <td>40</td>\n",
       "      <td>0</td>\n",
       "      <td>0</td>\n",
       "      <td>0</td>\n",
       "    </tr>\n",
       "    <tr>\n",
       "      <th>2</th>\n",
       "      <td>HEY2</td>\n",
       "      <td>HEY2-201</td>\n",
       "      <td>HEY2-202</td>\n",
       "      <td>PF00010_flank_N</td>\n",
       "      <td>DBD_flank</td>\n",
       "      <td>33</td>\n",
       "      <td>48</td>\n",
       "      <td>15</td>\n",
       "      <td>13</td>\n",
       "      <td>0</td>\n",
       "      <td>0</td>\n",
       "    </tr>\n",
       "    <tr>\n",
       "      <th>3</th>\n",
       "      <td>HEY2</td>\n",
       "      <td>HEY2-201</td>\n",
       "      <td>HEY2-202</td>\n",
       "      <td>PF00010_flank_C</td>\n",
       "      <td>DBD_flank</td>\n",
       "      <td>104</td>\n",
       "      <td>119</td>\n",
       "      <td>15</td>\n",
       "      <td>0</td>\n",
       "      <td>0</td>\n",
       "      <td>0</td>\n",
       "    </tr>\n",
       "    <tr>\n",
       "      <th>4</th>\n",
       "      <td>HEY2</td>\n",
       "      <td>HEY2-201</td>\n",
       "      <td>HEY2-202</td>\n",
       "      <td>Soto_Effector 0242</td>\n",
       "      <td>effector_domain</td>\n",
       "      <td>0</td>\n",
       "      <td>62</td>\n",
       "      <td>62</td>\n",
       "      <td>46</td>\n",
       "      <td>0</td>\n",
       "      <td>0</td>\n",
       "    </tr>\n",
       "    <tr>\n",
       "      <th>5</th>\n",
       "      <td>HEY2</td>\n",
       "      <td>HEY2-201</td>\n",
       "      <td>HEY2-202</td>\n",
       "      <td>Tycko_RD_HEY2_HUMAN_HLH_tile-nan</td>\n",
       "      <td>effector_domain</td>\n",
       "      <td>36</td>\n",
       "      <td>116</td>\n",
       "      <td>80</td>\n",
       "      <td>10</td>\n",
       "      <td>0</td>\n",
       "      <td>0</td>\n",
       "    </tr>\n",
       "    <tr>\n",
       "      <th>6</th>\n",
       "      <td>HEY2</td>\n",
       "      <td>HEY2-201</td>\n",
       "      <td>HEY2-202</td>\n",
       "      <td>DelRosso_RD_HEY2_1</td>\n",
       "      <td>effector_domain</td>\n",
       "      <td>41</td>\n",
       "      <td>121</td>\n",
       "      <td>80</td>\n",
       "      <td>5</td>\n",
       "      <td>0</td>\n",
       "      <td>0</td>\n",
       "    </tr>\n",
       "  </tbody>\n",
       "</table>\n",
       "</div>"
      ],
      "text/plain": [
       "  gene_symbol   ref_iso   alt_iso                         accession  \\\n",
       "0        HEY2  HEY2-201  HEY2-202                           PF00010   \n",
       "1        HEY2  HEY2-201  HEY2-202                           PF07527   \n",
       "2        HEY2  HEY2-201  HEY2-202                   PF00010_flank_N   \n",
       "3        HEY2  HEY2-201  HEY2-202                   PF00010_flank_C   \n",
       "4        HEY2  HEY2-201  HEY2-202                Soto_Effector 0242   \n",
       "5        HEY2  HEY2-201  HEY2-202  Tycko_RD_HEY2_HUMAN_HLH_tile-nan   \n",
       "6        HEY2  HEY2-201  HEY2-202                DelRosso_RD_HEY2_1   \n",
       "\n",
       "          category  start_in_ref_iso  end_in_ref_iso  length  deletion  \\\n",
       "0      Pfam_domain                48             104      56         0   \n",
       "1      Pfam_domain               122             162      40         0   \n",
       "2        DBD_flank                33              48      15        13   \n",
       "3        DBD_flank               104             119      15         0   \n",
       "4  effector_domain                 0              62      62        46   \n",
       "5  effector_domain                36             116      80        10   \n",
       "6  effector_domain                41             121      80         5   \n",
       "\n",
       "   insertion  frameshift  \n",
       "0          0           0  \n",
       "1          0           0  \n",
       "2          0           0  \n",
       "3          0           0  \n",
       "4          0           0  \n",
       "5          0           0  \n",
       "6          0           0  "
      ]
     },
     "execution_count": 99,
     "metadata": {},
     "output_type": "execute_result"
    }
   ],
   "source": [
    "df[df[\"gene_symbol\"] == \"HEY2\"]"
   ]
  },
  {
   "cell_type": "code",
   "execution_count": 100,
   "id": "0afcd7fc",
   "metadata": {},
   "outputs": [
    {
     "data": {
      "text/plain": [
       "DBD_flank          7022\n",
       "effector_domain    6444\n",
       "Pfam_domain        4741\n",
       "ZF_array           1216\n",
       "UniProt motif       376\n",
       "Name: category, dtype: int64"
      ]
     },
     "execution_count": 100,
     "metadata": {},
     "output_type": "execute_result"
    }
   ],
   "source": [
    "# NES/NLS are annotated as UniProt motif\n",
    "df.category.value_counts()"
   ]
  },
  {
   "cell_type": "code",
   "execution_count": 101,
   "id": "6cd55861",
   "metadata": {},
   "outputs": [],
   "source": [
    "# loop through ref/alt pairs and calculate the % change in aas by domain type and mut type (del/ins/fs)\n",
    "\n",
    "dom_types = [\"Pfam_domain\", \"effector_domain\", \"UniProt motif\"]\n",
    "dom_names = [\"Pfam\", \"effector\", \"NLS/NES\"]\n",
    "\n",
    "\n",
    "df_pairs = df[[\"gene_symbol\", \"ref_iso\", \"alt_iso\"]].drop_duplicates()\n",
    "\n",
    "dom_df = pd.DataFrame()\n",
    "for i, row in df_pairs.iterrows():\n",
    "    dom_sub = df[(df[\"gene_symbol\"] == row.gene_symbol) &\n",
    "                 (df[\"ref_iso\"] == row.ref_iso) &\n",
    "                 (df[\"alt_iso\"] == row.alt_iso)]\n",
    "    \n",
    "    pp_str = tfs[row.gene_symbol].pairwise_changes_relative_to_reference(row.ref_iso, row.alt_iso)\n",
    "    \n",
    "    dom_dict_ = {}\n",
    "    for dom_type, dom_name in zip(dom_types, dom_names):\n",
    "        \n",
    "        dom_sub_t = dom_sub[dom_sub[\"category\"] == dom_type]\n",
    "        \n",
    "        nucs = []\n",
    "        for j, row_j in dom_sub_t.iterrows():\n",
    "            \n",
    "            # correctly re-aligns domain coordinates if there are any insertions\n",
    "            algned_start = _coords_transform_aa_seq_to_alignment(row_j.start_in_ref_iso, pp_str)\n",
    "            algned_end = _coords_transform_aa_seq_to_alignment(row_j.end_in_ref_iso - 1, pp_str) + 1\n",
    "            nuc_range = list(range(algned_start, algned_end))\n",
    "            nucs.append(nuc_range)\n",
    "        nucs = [item for sublist in nucs for item in sublist]\n",
    "        nucs = sorted(set(nucs))\n",
    "        \n",
    "        pp_str_nucs = ''.join([pp_str[nuc] for nuc in nucs])\n",
    "        \n",
    "        if len(nucs) > 0:\n",
    "            n_ins = pp_str_nucs.count(\"I\")\n",
    "            n_dd = pp_str_nucs.count(\"D\")\n",
    "            n_fs = pp_str_nucs.count(\"F\") + pp_str_nucs.count(\"f\")\n",
    "            #print(\"dom: %s | ins: %s | dd: %s | fs: %s\" % (dom_type, n_ins, n_dd, n_fs))\n",
    "\n",
    "            # calculate percentage as compared to the domain length\n",
    "            p_ins = n_ins/len(nucs)*100\n",
    "            p_dd = n_dd/len(nucs)*100\n",
    "            p_fs = n_fs/len(nucs)*100\n",
    "        else:\n",
    "            p_ins = np.nan\n",
    "            p_dd = np.nan\n",
    "            p_fs = np.nan\n",
    "        \n",
    "        dom_dict_[dom_name] = {\"p_ins\": p_ins, \"p_dd\": p_dd, \"p_fs\": p_fs}\n",
    "        \n",
    "    # also calculate total number of ins/dd/fs\n",
    "    n_ins = pp_str.count(\"I\")\n",
    "    n_dd = pp_str.count(\"D\")\n",
    "    n_fs = pp_str.count(\"F\") + pp_str.count(\"f\")\n",
    "    \n",
    "    # calculate percentage as compared to total aa seq len\n",
    "    p_ins = n_ins/len(pp_str)*100\n",
    "    p_dd = n_dd/len(pp_str)*100\n",
    "    p_fs = n_fs/len(pp_str)*100\n",
    "        \n",
    "    dom_dict_[\"total\"] = {\"p_ins\": p_ins, \"p_dd\": p_dd, \"p_fs\": p_fs}\n",
    "    \n",
    "    dom_df_ = pd.DataFrame.from_dict(dom_dict_, orient=\"index\").reset_index()\n",
    "    dom_df_[\"ref_iso\"] = row.ref_iso\n",
    "    dom_df_[\"alt_iso\"] = row.alt_iso\n",
    "    \n",
    "    dom_df = dom_df.append(dom_df_)"
   ]
  },
  {
   "cell_type": "code",
   "execution_count": 102,
   "id": "90d0ca01",
   "metadata": {},
   "outputs": [
    {
     "data": {
      "text/html": [
       "<div>\n",
       "<style scoped>\n",
       "    .dataframe tbody tr th:only-of-type {\n",
       "        vertical-align: middle;\n",
       "    }\n",
       "\n",
       "    .dataframe tbody tr th {\n",
       "        vertical-align: top;\n",
       "    }\n",
       "\n",
       "    .dataframe thead th {\n",
       "        text-align: right;\n",
       "    }\n",
       "</style>\n",
       "<table border=\"1\" class=\"dataframe\">\n",
       "  <thead>\n",
       "    <tr style=\"text-align: right;\">\n",
       "      <th></th>\n",
       "      <th>ref_iso</th>\n",
       "      <th>alt_iso</th>\n",
       "      <th>index</th>\n",
       "      <th>variable</th>\n",
       "      <th>value</th>\n",
       "    </tr>\n",
       "  </thead>\n",
       "  <tbody>\n",
       "    <tr>\n",
       "      <th>0</th>\n",
       "      <td>PRDM16-201</td>\n",
       "      <td>PRDM16-203</td>\n",
       "      <td>total</td>\n",
       "      <td>p_ins</td>\n",
       "      <td>0.000000</td>\n",
       "    </tr>\n",
       "    <tr>\n",
       "      <th>1</th>\n",
       "      <td>PRDM16-201</td>\n",
       "      <td>PRDM16-206</td>\n",
       "      <td>total</td>\n",
       "      <td>p_ins</td>\n",
       "      <td>0.078309</td>\n",
       "    </tr>\n",
       "    <tr>\n",
       "      <th>2</th>\n",
       "      <td>PRDM16-201</td>\n",
       "      <td>PRDM16-208</td>\n",
       "      <td>total</td>\n",
       "      <td>p_ins</td>\n",
       "      <td>0.078309</td>\n",
       "    </tr>\n",
       "    <tr>\n",
       "      <th>3</th>\n",
       "      <td>TP73-208</td>\n",
       "      <td>TP73-201</td>\n",
       "      <td>total</td>\n",
       "      <td>p_ins</td>\n",
       "      <td>0.000000</td>\n",
       "    </tr>\n",
       "    <tr>\n",
       "      <th>4</th>\n",
       "      <td>TP73-208</td>\n",
       "      <td>TP73-202</td>\n",
       "      <td>total</td>\n",
       "      <td>p_ins</td>\n",
       "      <td>0.000000</td>\n",
       "    </tr>\n",
       "  </tbody>\n",
       "</table>\n",
       "</div>"
      ],
      "text/plain": [
       "      ref_iso     alt_iso  index variable     value\n",
       "0  PRDM16-201  PRDM16-203  total    p_ins  0.000000\n",
       "1  PRDM16-201  PRDM16-206  total    p_ins  0.078309\n",
       "2  PRDM16-201  PRDM16-208  total    p_ins  0.078309\n",
       "3    TP73-208    TP73-201  total    p_ins  0.000000\n",
       "4    TP73-208    TP73-202  total    p_ins  0.000000"
      ]
     },
     "execution_count": 102,
     "metadata": {},
     "output_type": "execute_result"
    }
   ],
   "source": [
    "# first plot overall changes\n",
    "dom_tot_df = dom_df[dom_df[\"index\"] == \"total\"]\n",
    "dom_tot_df = pd.melt(dom_tot_df, id_vars=[\"ref_iso\", \"alt_iso\", \"index\"])\n",
    "dom_tot_df.head()"
   ]
  },
  {
   "cell_type": "code",
   "execution_count": 103,
   "id": "1e80f38e",
   "metadata": {},
   "outputs": [
    {
     "data": {
      "image/png": "[encoded data removed]",
      "text/plain": [
       "<Figure size 72x72 with 1 Axes>"
      ]
     },
     "metadata": {},
     "output_type": "display_data"
    }
   ],
   "source": [
    "fig = plt.figure(figsize=(1, 1))\n",
    "ax = sns.boxplot(data=dom_tot_df, \n",
    "                 x=\"variable\", y=\"value\", order=[\"p_dd\", \"p_ins\", \"p_fs\"],\n",
    "                 color=\"slategrey\", fliersize=5, notch=True,\n",
    "                 flierprops={\"marker\": \".\"})\n",
    "mimic_r_boxplot(ax)\n",
    "\n",
    "\n",
    "ax.set_xlabel(\"\")\n",
    "ax.set_xticklabels([\"deletions\", \"insertions\", \"frameshift\"], rotation=30, ha=\"right\", va=\"top\")\n",
    "ax.set_ylabel(\"% ref. iso. AA affected\")\n",
    "ax.set_title(\"alternative isoforms\")\n",
    "# handles, labels = ax.get_legend_handles_labels()\n",
    "# labels = [\"all\", \"Pfam\", \"effector\"]\n",
    "# ax.legend(handles, labels, loc=2, bbox_to_anchor=(1.01, 1), frameon=False)\n",
    "\n",
    "for spine in ['right', 'top']:\n",
    "    ax.spines[spine].set_visible(False)\n",
    "\n",
    "fig.savefig('../../figures/fig1/seq-change-overall-boxplot.pdf',\n",
    "            bbox_inches='tight')"
   ]
  },
  {
   "cell_type": "code",
   "execution_count": 104,
   "id": "feb01091",
   "metadata": {},
   "outputs": [
    {
     "data": {
      "text/html": [
       "<div>\n",
       "<style scoped>\n",
       "    .dataframe tbody tr th:only-of-type {\n",
       "        vertical-align: middle;\n",
       "    }\n",
       "\n",
       "    .dataframe tbody tr th {\n",
       "        vertical-align: top;\n",
       "    }\n",
       "\n",
       "    .dataframe thead th {\n",
       "        text-align: right;\n",
       "    }\n",
       "</style>\n",
       "<table border=\"1\" class=\"dataframe\">\n",
       "  <thead>\n",
       "    <tr style=\"text-align: right;\">\n",
       "      <th></th>\n",
       "      <th>value</th>\n",
       "    </tr>\n",
       "    <tr>\n",
       "      <th>variable</th>\n",
       "      <th></th>\n",
       "    </tr>\n",
       "  </thead>\n",
       "  <tbody>\n",
       "    <tr>\n",
       "      <th>p_dd</th>\n",
       "      <td>18.761358</td>\n",
       "    </tr>\n",
       "    <tr>\n",
       "      <th>p_fs</th>\n",
       "      <td>0.000000</td>\n",
       "    </tr>\n",
       "    <tr>\n",
       "      <th>p_ins</th>\n",
       "      <td>0.525420</td>\n",
       "    </tr>\n",
       "  </tbody>\n",
       "</table>\n",
       "</div>"
      ],
      "text/plain": [
       "              value\n",
       "variable           \n",
       "p_dd      18.761358\n",
       "p_fs       0.000000\n",
       "p_ins      0.525420"
      ]
     },
     "execution_count": 104,
     "metadata": {},
     "output_type": "execute_result"
    }
   ],
   "source": [
    "dom_tot_df.groupby([\"variable\"]).agg(\"median\")"
   ]
  },
  {
   "cell_type": "code",
   "execution_count": 105,
   "id": "d830b93e",
   "metadata": {},
   "outputs": [
    {
     "name": "stdout",
     "output_type": "stream",
     "text": [
      "# alt isos that show >10% deletions\n"
     ]
    },
    {
     "data": {
      "text/plain": [
       "1462"
      ]
     },
     "execution_count": 105,
     "metadata": {},
     "output_type": "execute_result"
    }
   ],
   "source": [
    "print(\"# alt isos that show >10% deletions\")\n",
    "len(dom_tot_df[(dom_tot_df[\"variable\"] == \"p_dd\") & (dom_tot_df[\"value\"] >= 10)].alt_iso.unique())"
   ]
  },
  {
   "cell_type": "code",
   "execution_count": 106,
   "id": "d4b6c4a8",
   "metadata": {},
   "outputs": [
    {
     "name": "stdout",
     "output_type": "stream",
     "text": [
      "# alt isos that show >10% insertions\n"
     ]
    },
    {
     "data": {
      "text/plain": [
       "195"
      ]
     },
     "execution_count": 106,
     "metadata": {},
     "output_type": "execute_result"
    }
   ],
   "source": [
    "print(\"# alt isos that show >10% insertions\")\n",
    "len(dom_tot_df[(dom_tot_df[\"variable\"] == \"p_ins\") & (dom_tot_df[\"value\"] >= 10)].alt_iso.unique())"
   ]
  },
  {
   "cell_type": "code",
   "execution_count": 107,
   "id": "1e457ce4",
   "metadata": {},
   "outputs": [
    {
     "name": "stdout",
     "output_type": "stream",
     "text": [
      "# alt isos that show >10% frameshifts\n"
     ]
    },
    {
     "data": {
      "text/plain": [
       "68"
      ]
     },
     "execution_count": 107,
     "metadata": {},
     "output_type": "execute_result"
    }
   ],
   "source": [
    "print(\"# alt isos that show >10% frameshifts\")\n",
    "len(dom_tot_df[(dom_tot_df[\"variable\"] == \"p_fs\") & (dom_tot_df[\"value\"] >= 10)].alt_iso.unique())"
   ]
  },
  {
   "cell_type": "code",
   "execution_count": 108,
   "id": "525285c0",
   "metadata": {},
   "outputs": [
    {
     "data": {
      "text/plain": [
       "2298"
      ]
     },
     "execution_count": 108,
     "metadata": {},
     "output_type": "execute_result"
    }
   ],
   "source": [
    "len(dom_tot_df.alt_iso.unique())"
   ]
  },
  {
   "cell_type": "code",
   "execution_count": 109,
   "id": "e980e22e",
   "metadata": {},
   "outputs": [
    {
     "data": {
      "image/png": "[encoded data removed]",
      "text/plain": [
       "<Figure size 72x72 with 1 Axes>"
      ]
     },
     "metadata": {},
     "output_type": "display_data"
    },
    {
     "data": {
      "image/png": "[encoded data removed]",
      "text/plain": [
       "<Figure size 72x72 with 1 Axes>"
      ]
     },
     "metadata": {},
     "output_type": "display_data"
    },
    {
     "data": {
      "image/png": "[encoded data removed]",
      "text/plain": [
       "<Figure size 72x72 with 1 Axes>"
      ]
     },
     "metadata": {},
     "output_type": "display_data"
    }
   ],
   "source": [
    "for mut_type, mut_name in zip([\"p_dd\", \"p_ins\", \"p_fs\"], [\"deletions\", \"insertions\", \"frameshifts\"]):\n",
    "    \n",
    "    dom_mut_df = pd.melt(dom_df, id_vars=[\"ref_iso\", \"alt_iso\", \"index\"])\n",
    "    dom_mut_df = dom_mut_df[dom_mut_df[\"variable\"] == mut_type]\n",
    "    \n",
    "\n",
    "    fig = plt.figure(figsize=(1, 1))\n",
    "    ax = sns.boxplot(data=dom_mut_df, \n",
    "                     x=\"index\", y=\"value\", order=[\"Pfam\", \"effector\", \"NLS/NES\"],\n",
    "                     color=\"slategrey\", fliersize=5, notch=True,\n",
    "                     flierprops={\"marker\": \".\"})\n",
    "    mimic_r_boxplot(ax)\n",
    "\n",
    "\n",
    "    ax.set_xlabel(\"\")\n",
    "    ax.set_xticklabels([\"Pfam\", \"effector\", \"NLS/NES\"], rotation=30, ha=\"right\", va=\"top\")\n",
    "    ax.set_ylabel(\"% domain AA affected\")\n",
    "    ax.set_title(mut_name)\n",
    "\n",
    "    for spine in ['right', 'top']:\n",
    "        ax.spines[spine].set_visible(False)\n",
    "\n",
    "    fig.savefig('../../figures/fig1/seq-change-domain-%s-boxplot.pdf' % mut_name,\n",
    "                bbox_inches='tight')"
   ]
  },
  {
   "cell_type": "code",
   "execution_count": 110,
   "id": "baa9e99f",
   "metadata": {},
   "outputs": [
    {
     "data": {
      "text/plain": [
       "index\n",
       "NLS/NES       89\n",
       "Pfam        1176\n",
       "effector    1331\n",
       "total       2294\n",
       "Name: alt_iso, dtype: int64"
      ]
     },
     "execution_count": 110,
     "metadata": {},
     "output_type": "execute_result"
    }
   ],
   "source": [
    "dom_df[\"p_sum\"] = dom_df[[\"p_ins\", \"p_dd\", \"p_fs\"]].sum(axis=1, skipna=False)\n",
    "dom_grp = dom_df[dom_df[\"p_sum\"] > 0].groupby([\"index\"])[\"alt_iso\"].agg(\"count\")\n",
    "dom_tot = dom_df[~pd.isnull(dom_df[\"p_sum\"])].groupby([\"index\"])[\"alt_iso\"].agg(\"count\")\n",
    "dom_grp"
   ]
  },
  {
   "cell_type": "code",
   "execution_count": 111,
   "id": "877bfb7b",
   "metadata": {},
   "outputs": [
    {
     "data": {
      "text/plain": [
       "index\n",
       "NLS/NES      257\n",
       "Pfam        2164\n",
       "effector    1973\n",
       "total       2298\n",
       "Name: alt_iso, dtype: int64"
      ]
     },
     "execution_count": 111,
     "metadata": {},
     "output_type": "execute_result"
    }
   ],
   "source": [
    "dom_tot"
   ]
  },
  {
   "cell_type": "code",
   "execution_count": 112,
   "id": "6379f7d4",
   "metadata": {},
   "outputs": [
    {
     "data": {
      "text/plain": [
       "index\n",
       "NLS/NES     0.346304\n",
       "Pfam        0.543438\n",
       "effector    0.674607\n",
       "total       0.998259\n",
       "Name: alt_iso, dtype: float64"
      ]
     },
     "execution_count": 112,
     "metadata": {},
     "output_type": "execute_result"
    }
   ],
   "source": [
    "dom_grp/dom_tot"
   ]
  },
  {
   "cell_type": "code",
   "execution_count": 113,
   "id": "9f3bd8d9",
   "metadata": {},
   "outputs": [
    {
     "data": {
      "text/plain": [
       "1707"
      ]
     },
     "execution_count": 113,
     "metadata": {},
     "output_type": "execute_result"
    }
   ],
   "source": [
    "dom_any = dom_df[(dom_df[\"index\"] != \"total\") & (dom_df[\"p_sum\"] > 0)]\n",
    "len(dom_any.alt_iso.unique())"
   ]
  },
  {
   "cell_type": "code",
   "execution_count": 114,
   "id": "b354ac4a",
   "metadata": {},
   "outputs": [
    {
     "data": {
      "text/plain": [
       "0.7428198433420365"
      ]
     },
     "execution_count": 114,
     "metadata": {},
     "output_type": "execute_result"
    }
   ],
   "source": [
    "len(dom_any.alt_iso.unique())/len(dom_df.alt_iso.unique())"
   ]
  },
  {
   "cell_type": "markdown",
   "id": "3cef2437",
   "metadata": {},
   "source": [
    "## to-do: is this a bug? isos that are identical"
   ]
  },
  {
   "cell_type": "code",
   "execution_count": 115,
   "id": "bca7da48",
   "metadata": {},
   "outputs": [
    {
     "data": {
      "text/html": [
       "<div>\n",
       "<style scoped>\n",
       "    .dataframe tbody tr th:only-of-type {\n",
       "        vertical-align: middle;\n",
       "    }\n",
       "\n",
       "    .dataframe tbody tr th {\n",
       "        vertical-align: top;\n",
       "    }\n",
       "\n",
       "    .dataframe thead th {\n",
       "        text-align: right;\n",
       "    }\n",
       "</style>\n",
       "<table border=\"1\" class=\"dataframe\">\n",
       "  <thead>\n",
       "    <tr style=\"text-align: right;\">\n",
       "      <th></th>\n",
       "      <th>index</th>\n",
       "      <th>p_ins</th>\n",
       "      <th>p_dd</th>\n",
       "      <th>p_fs</th>\n",
       "      <th>ref_iso</th>\n",
       "      <th>alt_iso</th>\n",
       "      <th>p_sum</th>\n",
       "    </tr>\n",
       "  </thead>\n",
       "  <tbody>\n",
       "    <tr>\n",
       "      <th>3</th>\n",
       "      <td>total</td>\n",
       "      <td>0.0</td>\n",
       "      <td>0.0</td>\n",
       "      <td>0.0</td>\n",
       "      <td>NR1I2-202</td>\n",
       "      <td>NR1I2-207</td>\n",
       "      <td>0.0</td>\n",
       "    </tr>\n",
       "    <tr>\n",
       "      <th>3</th>\n",
       "      <td>total</td>\n",
       "      <td>0.0</td>\n",
       "      <td>0.0</td>\n",
       "      <td>0.0</td>\n",
       "      <td>MYC-207</td>\n",
       "      <td>MYC-206</td>\n",
       "      <td>0.0</td>\n",
       "    </tr>\n",
       "    <tr>\n",
       "      <th>3</th>\n",
       "      <td>total</td>\n",
       "      <td>0.0</td>\n",
       "      <td>0.0</td>\n",
       "      <td>0.0</td>\n",
       "      <td>TEAD1-206</td>\n",
       "      <td>TEAD1-207</td>\n",
       "      <td>0.0</td>\n",
       "    </tr>\n",
       "    <tr>\n",
       "      <th>3</th>\n",
       "      <td>total</td>\n",
       "      <td>0.0</td>\n",
       "      <td>0.0</td>\n",
       "      <td>0.0</td>\n",
       "      <td>GTF3A-201</td>\n",
       "      <td>GTF3A-209</td>\n",
       "      <td>0.0</td>\n",
       "    </tr>\n",
       "  </tbody>\n",
       "</table>\n",
       "</div>"
      ],
      "text/plain": [
       "   index  p_ins  p_dd  p_fs    ref_iso    alt_iso  p_sum\n",
       "3  total    0.0   0.0   0.0  NR1I2-202  NR1I2-207    0.0\n",
       "3  total    0.0   0.0   0.0    MYC-207    MYC-206    0.0\n",
       "3  total    0.0   0.0   0.0  TEAD1-206  TEAD1-207    0.0\n",
       "3  total    0.0   0.0   0.0  GTF3A-201  GTF3A-209    0.0"
      ]
     },
     "execution_count": 115,
     "metadata": {},
     "output_type": "execute_result"
    }
   ],
   "source": [
    "dom_df[(dom_df[\"p_sum\"] == 0) & (dom_df[\"index\"] == \"total\")]"
   ]
  },
  {
   "cell_type": "code",
   "execution_count": 116,
   "id": "b2a25d2d",
   "metadata": {},
   "outputs": [
    {
     "data": {
      "text/plain": [
       "'MMMMMMMMMMMMMMMMMMMMMMMMMMMMMMMMMMMMMMMMMMMMMMMMMMMMMMMMMMMMMMMMMMMMMMMMMMMMMMMMMMMMMMMMMMMMMMMMMMMMMMMMMMMMMMMMMMMMMMMMMMMMMMMMMMMMMMMMMMMMMMMMMMMMMMMMMMMMMMMMMMMMMMMMMMMMMMMMMMMMMMMMMMMMMMMMMMMMMMMMMMMMMMMMMMMMMMMMMMMMMMMMMMMMMMMMMMMMMMMMMMMMMMMMMMMMMMMMMMMMMMMMMMMMMMMMMMMMMMMMMMMMMMMMMMMMMMMMMMMMMMMMMMMMMMMMMMMMMMMMMMMMMMMMMMMMMMMMMMMMMMMMMMMMMMMMMMMMMMMMMMMMMMMMMMMMMMMMMMMMMMMMMMMMMMMMMMMMMMMMMMMMMMMMMMMMMMMMMMMMMMMMMMMMMMMMMMMMMMMMMMMMMMMMMMMMMM'"
      ]
     },
     "execution_count": 116,
     "metadata": {},
     "output_type": "execute_result"
    }
   ],
   "source": [
    "tfs[\"MYC\"].pairwise_changes_relative_to_reference(\"MYC-207\", \"MYC-206\")"
   ]
  },
  {
   "cell_type": "code",
   "execution_count": 117,
   "id": "5215b8b1",
   "metadata": {},
   "outputs": [
    {
     "data": {
      "image/png": "[encoded data removed]",
      "text/plain": [
       "<Figure size 432x288 with 1 Axes>"
      ]
     },
     "metadata": {},
     "output_type": "display_data"
    }
   ],
   "source": [
    "tfs[\"MYC\"].exon_diagram()"
   ]
  },
  {
   "cell_type": "markdown",
   "id": "15ea0af9",
   "metadata": {},
   "source": [
    "## 8. calculate domains that are affected compared to null"
   ]
  },
  {
   "cell_type": "code",
   "execution_count": 118,
   "id": "0532b4e6",
   "metadata": {},
   "outputs": [
    {
     "data": {
      "text/plain": [
       "906"
      ]
     },
     "execution_count": 118,
     "metadata": {},
     "output_type": "execute_result"
    }
   ],
   "source": [
    "len(df.gene_symbol.unique())"
   ]
  },
  {
   "cell_type": "code",
   "execution_count": 119,
   "id": "e28ddec1",
   "metadata": {},
   "outputs": [
    {
     "data": {
      "text/plain": [
       "906"
      ]
     },
     "execution_count": 119,
     "metadata": {},
     "output_type": "execute_result"
    }
   ],
   "source": [
    "len(df.ref_iso.unique())"
   ]
  },
  {
   "cell_type": "code",
   "execution_count": 120,
   "id": "e813b057",
   "metadata": {},
   "outputs": [
    {
     "data": {
      "text/plain": [
       "2298"
      ]
     },
     "execution_count": 120,
     "metadata": {},
     "output_type": "execute_result"
    }
   ],
   "source": [
    "len(df.alt_iso.unique())"
   ]
  },
  {
   "cell_type": "code",
   "execution_count": 121,
   "id": "1b80d3b6",
   "metadata": {},
   "outputs": [
    {
     "data": {
      "text/html": [
       "<div>\n",
       "<style scoped>\n",
       "    .dataframe tbody tr th:only-of-type {\n",
       "        vertical-align: middle;\n",
       "    }\n",
       "\n",
       "    .dataframe tbody tr th {\n",
       "        vertical-align: top;\n",
       "    }\n",
       "\n",
       "    .dataframe thead th {\n",
       "        text-align: right;\n",
       "    }\n",
       "</style>\n",
       "<table border=\"1\" class=\"dataframe\">\n",
       "  <thead>\n",
       "    <tr style=\"text-align: right;\">\n",
       "      <th></th>\n",
       "      <th>gene_symbol</th>\n",
       "      <th>ref_iso</th>\n",
       "      <th>alt_iso</th>\n",
       "      <th>accession</th>\n",
       "      <th>category</th>\n",
       "      <th>start_in_ref_iso</th>\n",
       "      <th>end_in_ref_iso</th>\n",
       "      <th>length</th>\n",
       "      <th>deletion</th>\n",
       "      <th>insertion</th>\n",
       "      <th>frameshift</th>\n",
       "      <th>is_DBD</th>\n",
       "    </tr>\n",
       "  </thead>\n",
       "  <tbody>\n",
       "    <tr>\n",
       "      <th>0</th>\n",
       "      <td>PRDM16</td>\n",
       "      <td>PRDM16-201</td>\n",
       "      <td>PRDM16-203</td>\n",
       "      <td>PF00096</td>\n",
       "      <td>Pfam_domain</td>\n",
       "      <td>229</td>\n",
       "      <td>251</td>\n",
       "      <td>22</td>\n",
       "      <td>0</td>\n",
       "      <td>0</td>\n",
       "      <td>0</td>\n",
       "      <td>True</td>\n",
       "    </tr>\n",
       "    <tr>\n",
       "      <th>1</th>\n",
       "      <td>PRDM16</td>\n",
       "      <td>PRDM16-201</td>\n",
       "      <td>PRDM16-206</td>\n",
       "      <td>PF00096</td>\n",
       "      <td>Pfam_domain</td>\n",
       "      <td>229</td>\n",
       "      <td>251</td>\n",
       "      <td>22</td>\n",
       "      <td>0</td>\n",
       "      <td>0</td>\n",
       "      <td>0</td>\n",
       "      <td>True</td>\n",
       "    </tr>\n",
       "    <tr>\n",
       "      <th>2</th>\n",
       "      <td>PRDM16</td>\n",
       "      <td>PRDM16-201</td>\n",
       "      <td>PRDM16-208</td>\n",
       "      <td>PF00096</td>\n",
       "      <td>Pfam_domain</td>\n",
       "      <td>229</td>\n",
       "      <td>251</td>\n",
       "      <td>22</td>\n",
       "      <td>0</td>\n",
       "      <td>0</td>\n",
       "      <td>0</td>\n",
       "      <td>True</td>\n",
       "    </tr>\n",
       "    <tr>\n",
       "      <th>3</th>\n",
       "      <td>PRDM16</td>\n",
       "      <td>PRDM16-201</td>\n",
       "      <td>PRDM16-203</td>\n",
       "      <td>PF00856</td>\n",
       "      <td>Pfam_domain</td>\n",
       "      <td>94</td>\n",
       "      <td>209</td>\n",
       "      <td>115</td>\n",
       "      <td>0</td>\n",
       "      <td>0</td>\n",
       "      <td>0</td>\n",
       "      <td>False</td>\n",
       "    </tr>\n",
       "    <tr>\n",
       "      <th>4</th>\n",
       "      <td>PRDM16</td>\n",
       "      <td>PRDM16-201</td>\n",
       "      <td>PRDM16-206</td>\n",
       "      <td>PF00856</td>\n",
       "      <td>Pfam_domain</td>\n",
       "      <td>94</td>\n",
       "      <td>209</td>\n",
       "      <td>115</td>\n",
       "      <td>0</td>\n",
       "      <td>1</td>\n",
       "      <td>0</td>\n",
       "      <td>False</td>\n",
       "    </tr>\n",
       "  </tbody>\n",
       "</table>\n",
       "</div>"
      ],
      "text/plain": [
       "  gene_symbol     ref_iso     alt_iso accession     category  \\\n",
       "0      PRDM16  PRDM16-201  PRDM16-203   PF00096  Pfam_domain   \n",
       "1      PRDM16  PRDM16-201  PRDM16-206   PF00096  Pfam_domain   \n",
       "2      PRDM16  PRDM16-201  PRDM16-208   PF00096  Pfam_domain   \n",
       "3      PRDM16  PRDM16-201  PRDM16-203   PF00856  Pfam_domain   \n",
       "4      PRDM16  PRDM16-201  PRDM16-206   PF00856  Pfam_domain   \n",
       "\n",
       "   start_in_ref_iso  end_in_ref_iso  length  deletion  insertion  frameshift  \\\n",
       "0               229             251      22         0          0           0   \n",
       "1               229             251      22         0          0           0   \n",
       "2               229             251      22         0          0           0   \n",
       "3                94             209     115         0          0           0   \n",
       "4                94             209     115         0          1           0   \n",
       "\n",
       "   is_DBD  \n",
       "0    True  \n",
       "1    True  \n",
       "2    True  \n",
       "3   False  \n",
       "4   False  "
      ]
     },
     "execution_count": 121,
     "metadata": {},
     "output_type": "execute_result"
    }
   ],
   "source": [
    "df['is_DBD'] = df['accession'].isin(dbd['pfam'].values) | df['accession'].str.startswith('C2H2_ZF_array')\n",
    "df.head()"
   ]
  },
  {
   "cell_type": "code",
   "execution_count": 122,
   "id": "2255a867",
   "metadata": {},
   "outputs": [],
   "source": [
    "# TODO: move to isolib.py\n",
    "df['is_affected_at_all'] = (df['deletion'] + df['insertion'] + df['frameshift']) > 0\n",
    "for frac in [1.0, 0.9, 0.5, 0.1]:\n",
    "    df[f\"is_affected_{frac * 100:.0f}pct\"] = (df['deletion'] + df['insertion'] + df['frameshift']) >= frac * df['length']\n",
    "\n",
    "dbd_acc = set(dbd['pfam'].values).union(\n",
    "            set(df['accession'][df['accession'].str.startswith('C2H2_ZF_array')].unique())\n",
    "            )"
   ]
  },
  {
   "cell_type": "code",
   "execution_count": 123,
   "id": "8121f9eb",
   "metadata": {},
   "outputs": [],
   "source": [
    "dbd['clan'] = dbd['pfam'].map(clans)\n",
    "dbd['num_genes'] = dbd['pfam'].map(df.groupby('accession')['gene_symbol'].size())"
   ]
  },
  {
   "cell_type": "code",
   "execution_count": 124,
   "id": "a2c099c2",
   "metadata": {},
   "outputs": [],
   "source": [
    "def is_DBD(domain):\n",
    "    return (domain.accession in dbd['pfam'].values) or domain.accession.startswith('C2H2_ZF_array')\n",
    "\n",
    "n_aa_dbd = [len(dom) for tf in tfs.values() for dom in tf.reference_isoform.aa_seq_features if is_DBD(dom)]\n",
    "n_aa_pfam = [len(dom) for tf in tfs.values() for dom in tf.reference_isoform.aa_seq_features if not is_DBD(dom) and dom.category == 'Pfam_domain']\n",
    "n_aa_effector = [len(dom) for tf in tfs.values() for dom in tf.reference_isoform.aa_seq_features if not is_DBD(dom) and dom.category == 'effector_domain']\n",
    "n_aa_nls = [len(dom) for tf in tfs.values() for dom in tf.reference_isoform.aa_seq_features if not is_DBD(dom) and dom.category == 'UniProt motif']"
   ]
  },
  {
   "cell_type": "code",
   "execution_count": 125,
   "id": "47f1ab7d",
   "metadata": {},
   "outputs": [],
   "source": [
    "df.loc[df['accession'].str.startswith('C2H2_ZF_array'), 'accession'] = 'C2H2_ZF_array'\n",
    "doms = (df.loc[(df['category'] == 'Pfam_domain') | \n",
    "              (df['category'] == 'ZF_array'), :]\n",
    "              .groupby('accession')\n",
    "              ['alt_iso']\n",
    "              .nunique()\n",
    "              .to_frame(name='n_alt_iso'))\n",
    "for c in [c for c in df.columns if c.startswith('is_affected_')]:\n",
    "    doms['n_' + c] = (df.loc[(df['category'] == 'Pfam_domain') |\n",
    "                        (df['category'] == 'ZF_array'), :]\n",
    "                        .groupby(['accession', 'alt_iso'])\n",
    "                        [c]\n",
    "                        .any()\n",
    "                        .sum(level='accession'))\n",
    "    doms['f_' + c] = doms['n_' + c] / doms['n_alt_iso']\n",
    "doms = doms.sort_values('n_alt_iso', ascending=False)"
   ]
  },
  {
   "cell_type": "code",
   "execution_count": 126,
   "id": "4f234bb9",
   "metadata": {},
   "outputs": [
    {
     "name": "stdout",
     "output_type": "stream",
     "text": [
      "CPU times: user 2min 17s, sys: 302 ms, total: 2min 17s\n",
      "Wall time: 2min 18s\n"
     ]
    }
   ],
   "source": [
    "%%time\n",
    "# again, explicitly compare ref v alt\n",
    "df_null = pd.concat([g.null_fraction_per_aa_feature(ref_isos[g.name]) for g in tfs.values() if g.has_MANE_select_isoform])\n",
    "\n",
    "df = pd.merge(df, df_null, how='left', on=['gene_symbol', 'ref_iso', 'alt_iso', 'length'])"
   ]
  },
  {
   "cell_type": "code",
   "execution_count": 127,
   "id": "b78f31b0",
   "metadata": {},
   "outputs": [],
   "source": [
    "def prob_or(probabilities):\n",
    "    return 1 - (np.prod(1 - probabilities))\n",
    "        \n",
    "\n",
    "def null_quantile(values, q):\n",
    "    n = len(values.values)\n",
    "    for i, v in enumerate(PoiBin(values.values).cdf(range(n + 1))):\n",
    "        if v >= q:\n",
    "            return i / n\n",
    "\n",
    "\n",
    "for null_col in [c for c in df.columns if c.startswith('null_fraction_')]:\n",
    "    null_p = (df.loc[(df['category'] == 'Pfam_domain') |\n",
    "                    (df['category'] == 'ZF_array'), :]\n",
    "                .groupby(['accession', 'alt_iso'])\n",
    "                [null_col]\n",
    "                .apply(prob_or))\n",
    "    doms[null_col + '_99CI_low'] = null_p.groupby('accession').apply(null_quantile, 0.01)\n",
    "    doms[null_col + '_99CI_high'] = null_p.groupby('accession').apply(null_quantile, 0.99)\n",
    "    doms[null_col + '_center'] = null_p.groupby('accession').apply(null_quantile, 0.5)"
   ]
  },
  {
   "cell_type": "code",
   "execution_count": 128,
   "id": "87d78358",
   "metadata": {},
   "outputs": [],
   "source": [
    "doms['is_DBD'] = doms.index.isin(dbd['pfam'].values) | (doms.index == 'C2H2_ZF_array')\n",
    "# Use the custom DBD names\n",
    "doms.loc[doms['is_DBD'], 'domain_name'] = doms[doms['is_DBD']].index.map(dbd.set_index('pfam')['dbd'])\n",
    "doms.loc[~doms['is_DBD'], 'domain_name'] = doms[~doms['is_DBD']].index.map(pfam.set_index('pfam_accession')['name'])\n",
    "doms.loc[doms.index == 'C2H2_ZF_array', 'domain_name'] = ['C2H2 ZF array']"
   ]
  },
  {
   "cell_type": "code",
   "execution_count": 129,
   "id": "334f24e3",
   "metadata": {},
   "outputs": [],
   "source": [
    "dom_affected_levels = [c[5:] for c in doms.columns if c.startswith('f_is_affected_')]\n",
    "level_desc = {'affected_at_all': 'at least partial domain removal',\n",
    " 'affected_100pct': '100% removal',\n",
    " 'affected_90pct': '90% removal',\n",
    " 'affected_50pct': '50% removal',\n",
    " 'affected_10pct': '10% removal'}"
   ]
  },
  {
   "cell_type": "code",
   "execution_count": 130,
   "id": "3dacc414",
   "metadata": {},
   "outputs": [
    {
     "data": {
      "text/html": [
       "<div>\n",
       "<style scoped>\n",
       "    .dataframe tbody tr th:only-of-type {\n",
       "        vertical-align: middle;\n",
       "    }\n",
       "\n",
       "    .dataframe tbody tr th {\n",
       "        vertical-align: top;\n",
       "    }\n",
       "\n",
       "    .dataframe thead th {\n",
       "        text-align: right;\n",
       "    }\n",
       "</style>\n",
       "<table border=\"1\" class=\"dataframe\">\n",
       "  <thead>\n",
       "    <tr style=\"text-align: right;\">\n",
       "      <th></th>\n",
       "      <th>n_alt_iso</th>\n",
       "      <th>n_is_affected_at_all</th>\n",
       "      <th>f_is_affected_at_all</th>\n",
       "      <th>n_is_affected_100pct</th>\n",
       "      <th>f_is_affected_100pct</th>\n",
       "      <th>n_is_affected_90pct</th>\n",
       "      <th>f_is_affected_90pct</th>\n",
       "      <th>n_is_affected_50pct</th>\n",
       "      <th>f_is_affected_50pct</th>\n",
       "      <th>n_is_affected_10pct</th>\n",
       "      <th>...</th>\n",
       "      <th>null_fraction_affected_100pct_center</th>\n",
       "      <th>null_fraction_affected_90pct_99CI_low</th>\n",
       "      <th>null_fraction_affected_90pct_99CI_high</th>\n",
       "      <th>null_fraction_affected_90pct_center</th>\n",
       "      <th>null_fraction_affected_50pct_99CI_low</th>\n",
       "      <th>null_fraction_affected_50pct_99CI_high</th>\n",
       "      <th>null_fraction_affected_50pct_center</th>\n",
       "      <th>null_fraction_affected_10pct_99CI_low</th>\n",
       "      <th>null_fraction_affected_10pct_99CI_high</th>\n",
       "      <th>null_fraction_affected_10pct_center</th>\n",
       "    </tr>\n",
       "    <tr>\n",
       "      <th>is_DBD</th>\n",
       "      <th></th>\n",
       "      <th></th>\n",
       "      <th></th>\n",
       "      <th></th>\n",
       "      <th></th>\n",
       "      <th></th>\n",
       "      <th></th>\n",
       "      <th></th>\n",
       "      <th></th>\n",
       "      <th></th>\n",
       "      <th></th>\n",
       "      <th></th>\n",
       "      <th></th>\n",
       "      <th></th>\n",
       "      <th></th>\n",
       "      <th></th>\n",
       "      <th></th>\n",
       "      <th></th>\n",
       "      <th></th>\n",
       "      <th></th>\n",
       "      <th></th>\n",
       "    </tr>\n",
       "  </thead>\n",
       "  <tbody>\n",
       "    <tr>\n",
       "      <th>False</th>\n",
       "      <td>2265</td>\n",
       "      <td>1733.0</td>\n",
       "      <td>0.765121</td>\n",
       "      <td>1002.0</td>\n",
       "      <td>0.442384</td>\n",
       "      <td>1037.0</td>\n",
       "      <td>0.457837</td>\n",
       "      <td>1258.0</td>\n",
       "      <td>0.555408</td>\n",
       "      <td>1597.0</td>\n",
       "      <td>...</td>\n",
       "      <td>0.562031</td>\n",
       "      <td>0.556733</td>\n",
       "      <td>0.585430</td>\n",
       "      <td>0.571302</td>\n",
       "      <td>0.610155</td>\n",
       "      <td>0.639294</td>\n",
       "      <td>0.624724</td>\n",
       "      <td>0.683444</td>\n",
       "      <td>0.712583</td>\n",
       "      <td>0.698013</td>\n",
       "    </tr>\n",
       "    <tr>\n",
       "      <th>True</th>\n",
       "      <td>2129</td>\n",
       "      <td>990.0</td>\n",
       "      <td>0.465007</td>\n",
       "      <td>724.0</td>\n",
       "      <td>0.340066</td>\n",
       "      <td>734.0</td>\n",
       "      <td>0.344763</td>\n",
       "      <td>816.0</td>\n",
       "      <td>0.383279</td>\n",
       "      <td>947.0</td>\n",
       "      <td>...</td>\n",
       "      <td>0.418976</td>\n",
       "      <td>0.411461</td>\n",
       "      <td>0.441522</td>\n",
       "      <td>0.426491</td>\n",
       "      <td>0.450446</td>\n",
       "      <td>0.482386</td>\n",
       "      <td>0.466416</td>\n",
       "      <td>0.508690</td>\n",
       "      <td>0.542508</td>\n",
       "      <td>0.525599</td>\n",
       "    </tr>\n",
       "  </tbody>\n",
       "</table>\n",
       "<p>2 rows × 26 columns</p>\n",
       "</div>"
      ],
      "text/plain": [
       "        n_alt_iso  n_is_affected_at_all  f_is_affected_at_all  \\\n",
       "is_DBD                                                          \n",
       "False        2265                1733.0              0.765121   \n",
       "True         2129                 990.0              0.465007   \n",
       "\n",
       "        n_is_affected_100pct  f_is_affected_100pct  n_is_affected_90pct  \\\n",
       "is_DBD                                                                    \n",
       "False                 1002.0              0.442384               1037.0   \n",
       "True                   724.0              0.340066                734.0   \n",
       "\n",
       "        f_is_affected_90pct  n_is_affected_50pct  f_is_affected_50pct  \\\n",
       "is_DBD                                                                  \n",
       "False              0.457837               1258.0             0.555408   \n",
       "True               0.344763                816.0             0.383279   \n",
       "\n",
       "        n_is_affected_10pct  ...  null_fraction_affected_100pct_center  \\\n",
       "is_DBD                       ...                                         \n",
       "False                1597.0  ...                              0.562031   \n",
       "True                  947.0  ...                              0.418976   \n",
       "\n",
       "        null_fraction_affected_90pct_99CI_low  \\\n",
       "is_DBD                                          \n",
       "False                                0.556733   \n",
       "True                                 0.411461   \n",
       "\n",
       "        null_fraction_affected_90pct_99CI_high  \\\n",
       "is_DBD                                           \n",
       "False                                 0.585430   \n",
       "True                                  0.441522   \n",
       "\n",
       "        null_fraction_affected_90pct_center  \\\n",
       "is_DBD                                        \n",
       "False                              0.571302   \n",
       "True                               0.426491   \n",
       "\n",
       "        null_fraction_affected_50pct_99CI_low  \\\n",
       "is_DBD                                          \n",
       "False                                0.610155   \n",
       "True                                 0.450446   \n",
       "\n",
       "        null_fraction_affected_50pct_99CI_high  \\\n",
       "is_DBD                                           \n",
       "False                                 0.639294   \n",
       "True                                  0.482386   \n",
       "\n",
       "        null_fraction_affected_50pct_center  \\\n",
       "is_DBD                                        \n",
       "False                              0.624724   \n",
       "True                               0.466416   \n",
       "\n",
       "        null_fraction_affected_10pct_99CI_low  \\\n",
       "is_DBD                                          \n",
       "False                                0.683444   \n",
       "True                                 0.508690   \n",
       "\n",
       "        null_fraction_affected_10pct_99CI_high  \\\n",
       "is_DBD                                           \n",
       "False                                 0.712583   \n",
       "True                                  0.542508   \n",
       "\n",
       "        null_fraction_affected_10pct_center  \n",
       "is_DBD                                       \n",
       "False                              0.698013  \n",
       "True                               0.525599  \n",
       "\n",
       "[2 rows x 26 columns]"
      ]
     },
     "execution_count": 130,
     "metadata": {},
     "output_type": "execute_result"
    }
   ],
   "source": [
    "# all domains, all DBD, non-DBD\n",
    "doms = df.groupby('is_DBD')['alt_iso'].nunique().to_frame(name='n_alt_iso')\n",
    "for c in [c for c in df.columns if c.startswith('is_affected_')]:\n",
    "    doms['n_' + c] = (df.groupby(['is_DBD', 'alt_iso'])\n",
    "                        [c]\n",
    "                        .any()\n",
    "                        .sum(level='is_DBD'))\n",
    "    doms['f_' + c] = doms['n_' + c] / doms['n_alt_iso']\n",
    "\n",
    "\n",
    "doms = doms.sort_values('n_alt_iso', ascending=False)\n",
    "    \n",
    "def prob_or(probabilities):\n",
    "    return 1 - (np.prod(1 - probabilities))\n",
    "        \n",
    "\n",
    "def null_quantile(values, q):\n",
    "    n = len(values.values)\n",
    "    for i, v in enumerate(PoiBin(values.values).cdf(range(n + 1))):\n",
    "        if v >= q:\n",
    "            return i / n\n",
    "\n",
    "\n",
    "for null_col in [c for c in df.columns if c.startswith('null_fraction_')]:\n",
    "    null_p = (df.groupby(['is_DBD', 'alt_iso'])\n",
    "                [null_col]\n",
    "                .apply(prob_or))\n",
    "    doms[null_col + '_99CI_low'] = null_p.groupby('is_DBD').apply(null_quantile, 0.01)\n",
    "    doms[null_col + '_99CI_high'] = null_p.groupby('is_DBD').apply(null_quantile, 0.99)\n",
    "    doms[null_col + '_center'] = null_p.groupby('is_DBD').apply(null_quantile, 0.5)\n",
    "doms.head()"
   ]
  },
  {
   "cell_type": "code",
   "execution_count": 131,
   "id": "48259275",
   "metadata": {},
   "outputs": [],
   "source": [
    "df['category_a'] = np.nan\n",
    "df.loc[df['is_DBD'], 'category_a'] = 'DBD'\n",
    "df.loc[(df['category'] == 'Pfam_domain') & ~df['is_DBD'], 'category_a'] = 'Other Pfam domain'\n",
    "df.loc[(df['category'] == 'effector_domain'), 'category_a'] = 'Effector domain'\n",
    "df.loc[(df['category'] == 'UniProt motif'), 'category_a'] = 'NLS/NES'"
   ]
  },
  {
   "cell_type": "code",
   "execution_count": 132,
   "id": "b0439e1c",
   "metadata": {},
   "outputs": [],
   "source": [
    "# split by domain type\n",
    "doms = df.groupby('category_a')['alt_iso'].nunique().to_frame(name='n_alt_iso')\n",
    "for c in [c for c in df.columns if c.startswith('is_affected_')]:\n",
    "    doms['n_' + c] = (df.groupby(['category_a', 'alt_iso'])\n",
    "                        [c]\n",
    "                        .any()\n",
    "                        .sum(level='category_a'))\n",
    "    doms['f_' + c] = doms['n_' + c] / doms['n_alt_iso']\n",
    "doms = doms.sort_values('n_alt_iso', ascending=False)\n",
    "\n",
    "    \n",
    "def prob_or(probabilities):\n",
    "    return 1 - (np.prod(1 - probabilities))\n",
    "        \n",
    "\n",
    "def null_quantile(values, q):\n",
    "    n = len(values.values)\n",
    "    for i, v in enumerate(PoiBin(values.values).cdf(range(n + 1))):\n",
    "        if v >= q:\n",
    "            return i / n\n",
    "\n",
    "\n",
    "for null_col in [c for c in df.columns if c.startswith('null_fraction_')]:\n",
    "    null_p = (df.groupby(['category_a', 'alt_iso'])\n",
    "                [null_col]\n",
    "                .apply(prob_or))\n",
    "    doms[null_col + '_99CI_low'] = null_p.groupby('category_a').apply(null_quantile, 0.01)\n",
    "    doms[null_col + '_99CI_high'] = null_p.groupby('category_a').apply(null_quantile, 0.99)\n",
    "    doms[null_col + '_center'] = null_p.groupby('category_a').apply(null_quantile, 0.5)\n",
    "\n",
    "data = doms.copy()"
   ]
  },
  {
   "cell_type": "code",
   "execution_count": 133,
   "id": "6fd1a82d",
   "metadata": {},
   "outputs": [
    {
     "data": {
      "image/png": "[encoded data removed]",
      "text/plain": [
       "<Figure size 86.4x50.4 with 1 Axes>"
      ]
     },
     "metadata": {},
     "output_type": "display_data"
    },
    {
     "data": {
      "image/png": "[encoded data removed]",
      "text/plain": [
       "<Figure size 86.4x50.4 with 1 Axes>"
      ]
     },
     "metadata": {},
     "output_type": "display_data"
    },
    {
     "data": {
      "image/png": "[encoded data removed]",
      "text/plain": [
       "<Figure size 86.4x50.4 with 1 Axes>"
      ]
     },
     "metadata": {},
     "output_type": "display_data"
    },
    {
     "data": {
      "image/png": "[encoded data removed]",
      "text/plain": [
       "<Figure size 86.4x50.4 with 1 Axes>"
      ]
     },
     "metadata": {},
     "output_type": "display_data"
    },
    {
     "data": {
      "image/png": "[encoded data removed]",
      "text/plain": [
       "<Figure size 86.4x50.4 with 1 Axes>"
      ]
     },
     "metadata": {},
     "output_type": "display_data"
    }
   ],
   "source": [
    "for level in dom_affected_levels:\n",
    "        fig, ax = plt.subplots(1, 1)\n",
    "        fig.set_size_inches(1.2, 0.7)\n",
    "\n",
    "        ax.barh(data.index, \n",
    "                data[f'f_is_{level}'].values * 100,\n",
    "                label='Observed values',\n",
    "                color=sns.color_palette(\"Set2\")[0])\n",
    "        ax.errorbar(y=data.index,\n",
    "                x=data[f'null_fraction_{level}_center'].values * 100,\n",
    "                xerr=[(data[f'null_fraction_{level}_center'] - data[f'null_fraction_{level}_99CI_low']).values * 100,\n",
    "                        (data[f'null_fraction_{level}_99CI_high'] - data[f'null_fraction_{level}_center']).values * 100],\n",
    "                                fmt='none',\n",
    "                                capsize=3,\n",
    "                                color='black',\n",
    "                                label='Null distribution: 99% CI')\n",
    "        ax.legend(loc='lower center', bbox_to_anchor=(0.5, -0.55), frameon=False)\n",
    "        ax.set_xlim(0, 100)\n",
    "        ax.set_ylim(ax.get_ylim()[::-1])\n",
    "        ax.yaxis.set_tick_params(length=0)\n",
    "        ax.spines['right'].set_visible(False)\n",
    "        ax.spines['bottom'].set_visible(False)\n",
    "        ax.spines['left'].set_visible(False)\n",
    "        ax.xaxis.tick_top()\n",
    "        ax.set_yticklabels([\"DBD\", \"Other Pfam domain\", \"Effector domain\", \"NLS/NES\"])\n",
    "        ax.set_xlabel(f'Fraction of alt. isoforms\\nwith {level_desc[level]}')\n",
    "        ax.xaxis.set_label_position('top')\n",
    "        ax.set_xticks(range(0, 101, 20))\n",
    "        ax.set_xticks(range(0, 101, 10), minor=True)\n",
    "        plt.savefig(f'../../figures/fig1/domain_categories_{level}.resized.pdf'.format(level),\n",
    "                bbox_inches='tight')"
   ]
  },
  {
   "cell_type": "code",
   "execution_count": 134,
   "id": "9ab6f468",
   "metadata": {},
   "outputs": [
    {
     "name": "stdout",
     "output_type": "stream",
     "text": [
      "total # ref. isoforms w/ annotated NLS/NES: 73\n",
      "total # ref. isoforms w/ annotated NLS: 69\n",
      "total # ref. isoforms w/ annotated NES: 12\n"
     ]
    }
   ],
   "source": [
    "print(\"total # ref. isoforms w/ annotated NLS/NES: %s\" % (len(df[df[\"category\"] == \"UniProt motif\"].ref_iso.unique())))\n",
    "print(\"total # ref. isoforms w/ annotated NLS: %s\" % (len(df[(df[\"category\"] == \"UniProt motif\") &\n",
    "                                                             (df[\"accession\"].str.contains(\"NLS\"))].ref_iso.unique())))\n",
    "print(\"total # ref. isoforms w/ annotated NES: %s\" % (len(df[(df[\"category\"] == \"UniProt motif\") &\n",
    "                                                             (df[\"accession\"].str.contains(\"NES\"))].ref_iso.unique())))"
   ]
  },
  {
   "cell_type": "markdown",
   "id": "ada6ef8f",
   "metadata": {},
   "source": [
    "### more granular plots"
   ]
  },
  {
   "cell_type": "code",
   "execution_count": 135,
   "id": "df4a6e76",
   "metadata": {},
   "outputs": [],
   "source": [
    "doms = (df.loc[(df['category'] == 'Pfam_domain') | \n",
    "              (df['category'] == 'ZF_array'), :]\n",
    "              .groupby('accession')\n",
    "              ['alt_iso']\n",
    "              .nunique()\n",
    "              .to_frame(name='n_alt_iso'))\n",
    "for c in [c for c in df.columns if c.startswith('is_affected_')]:\n",
    "    doms['n_' + c] = (df.loc[(df['category'] == 'Pfam_domain') |\n",
    "                        (df['category'] == 'ZF_array'), :]\n",
    "                        .groupby(['accession', 'alt_iso'])\n",
    "                        [c]\n",
    "                        .any()\n",
    "                        .sum(level='accession'))\n",
    "    doms['f_' + c] = doms['n_' + c] / doms['n_alt_iso']\n",
    "doms = doms.sort_values('n_alt_iso', ascending=False)\n",
    "\n",
    "\n",
    "for null_col in [c for c in df.columns if c.startswith('null_fraction_')]:\n",
    "    null_p = (df.loc[(df['category'] == 'Pfam_domain') |\n",
    "                    (df['category'] == 'ZF_array'), :]\n",
    "                .groupby(['accession', 'alt_iso'])\n",
    "                [null_col]\n",
    "                .apply(prob_or))\n",
    "    doms[null_col + '_99CI_low'] = null_p.groupby('accession').apply(null_quantile, 0.01)\n",
    "    doms[null_col + '_99CI_high'] = null_p.groupby('accession').apply(null_quantile, 0.99)\n",
    "    doms[null_col + '_center'] = null_p.groupby('accession').apply(null_quantile, 0.5)"
   ]
  },
  {
   "cell_type": "code",
   "execution_count": 136,
   "id": "6170134e",
   "metadata": {},
   "outputs": [
    {
     "data": {
      "text/html": [
       "<div>\n",
       "<style scoped>\n",
       "    .dataframe tbody tr th:only-of-type {\n",
       "        vertical-align: middle;\n",
       "    }\n",
       "\n",
       "    .dataframe tbody tr th {\n",
       "        vertical-align: top;\n",
       "    }\n",
       "\n",
       "    .dataframe thead th {\n",
       "        text-align: right;\n",
       "    }\n",
       "</style>\n",
       "<table border=\"1\" class=\"dataframe\">\n",
       "  <thead>\n",
       "    <tr style=\"text-align: right;\">\n",
       "      <th></th>\n",
       "      <th>n_alt_iso</th>\n",
       "      <th>n_is_affected_at_all</th>\n",
       "      <th>f_is_affected_at_all</th>\n",
       "      <th>n_is_affected_100pct</th>\n",
       "      <th>f_is_affected_100pct</th>\n",
       "      <th>n_is_affected_90pct</th>\n",
       "      <th>f_is_affected_90pct</th>\n",
       "      <th>n_is_affected_50pct</th>\n",
       "      <th>f_is_affected_50pct</th>\n",
       "      <th>n_is_affected_10pct</th>\n",
       "      <th>...</th>\n",
       "      <th>null_fraction_affected_90pct_99CI_high</th>\n",
       "      <th>null_fraction_affected_90pct_center</th>\n",
       "      <th>null_fraction_affected_50pct_99CI_low</th>\n",
       "      <th>null_fraction_affected_50pct_99CI_high</th>\n",
       "      <th>null_fraction_affected_50pct_center</th>\n",
       "      <th>null_fraction_affected_10pct_99CI_low</th>\n",
       "      <th>null_fraction_affected_10pct_99CI_high</th>\n",
       "      <th>null_fraction_affected_10pct_center</th>\n",
       "      <th>is_DBD</th>\n",
       "      <th>domain_name</th>\n",
       "    </tr>\n",
       "    <tr>\n",
       "      <th>accession</th>\n",
       "      <th></th>\n",
       "      <th></th>\n",
       "      <th></th>\n",
       "      <th></th>\n",
       "      <th></th>\n",
       "      <th></th>\n",
       "      <th></th>\n",
       "      <th></th>\n",
       "      <th></th>\n",
       "      <th></th>\n",
       "      <th></th>\n",
       "      <th></th>\n",
       "      <th></th>\n",
       "      <th></th>\n",
       "      <th></th>\n",
       "      <th></th>\n",
       "      <th></th>\n",
       "      <th></th>\n",
       "      <th></th>\n",
       "      <th></th>\n",
       "      <th></th>\n",
       "    </tr>\n",
       "  </thead>\n",
       "  <tbody>\n",
       "    <tr>\n",
       "      <th>C2H2_ZF_array</th>\n",
       "      <td>925</td>\n",
       "      <td>519.0</td>\n",
       "      <td>0.561081</td>\n",
       "      <td>407.0</td>\n",
       "      <td>0.440000</td>\n",
       "      <td>411.0</td>\n",
       "      <td>0.444324</td>\n",
       "      <td>446.0</td>\n",
       "      <td>0.482162</td>\n",
       "      <td>502.0</td>\n",
       "      <td>...</td>\n",
       "      <td>0.499459</td>\n",
       "      <td>0.483243</td>\n",
       "      <td>0.503784</td>\n",
       "      <td>0.538378</td>\n",
       "      <td>0.521081</td>\n",
       "      <td>0.567568</td>\n",
       "      <td>0.609730</td>\n",
       "      <td>0.588108</td>\n",
       "      <td>True</td>\n",
       "      <td>C2H2 ZF array</td>\n",
       "    </tr>\n",
       "    <tr>\n",
       "      <th>PF01352</th>\n",
       "      <td>540</td>\n",
       "      <td>244.0</td>\n",
       "      <td>0.451852</td>\n",
       "      <td>111.0</td>\n",
       "      <td>0.205556</td>\n",
       "      <td>119.0</td>\n",
       "      <td>0.220370</td>\n",
       "      <td>177.0</td>\n",
       "      <td>0.327778</td>\n",
       "      <td>197.0</td>\n",
       "      <td>...</td>\n",
       "      <td>0.553704</td>\n",
       "      <td>0.525926</td>\n",
       "      <td>0.514815</td>\n",
       "      <td>0.568519</td>\n",
       "      <td>0.542593</td>\n",
       "      <td>0.527778</td>\n",
       "      <td>0.583333</td>\n",
       "      <td>0.555556</td>\n",
       "      <td>False</td>\n",
       "      <td>KRAB box</td>\n",
       "    </tr>\n",
       "    <tr>\n",
       "      <th>PF00046</th>\n",
       "      <td>192</td>\n",
       "      <td>75.0</td>\n",
       "      <td>0.390625</td>\n",
       "      <td>52.0</td>\n",
       "      <td>0.270833</td>\n",
       "      <td>53.0</td>\n",
       "      <td>0.276042</td>\n",
       "      <td>62.0</td>\n",
       "      <td>0.322917</td>\n",
       "      <td>74.0</td>\n",
       "      <td>...</td>\n",
       "      <td>0.411458</td>\n",
       "      <td>0.354167</td>\n",
       "      <td>0.328125</td>\n",
       "      <td>0.447917</td>\n",
       "      <td>0.390625</td>\n",
       "      <td>0.369792</td>\n",
       "      <td>0.494792</td>\n",
       "      <td>0.432292</td>\n",
       "      <td>True</td>\n",
       "      <td>Homeodomain</td>\n",
       "    </tr>\n",
       "    <tr>\n",
       "      <th>PF00096</th>\n",
       "      <td>165</td>\n",
       "      <td>56.0</td>\n",
       "      <td>0.339394</td>\n",
       "      <td>56.0</td>\n",
       "      <td>0.339394</td>\n",
       "      <td>56.0</td>\n",
       "      <td>0.339394</td>\n",
       "      <td>56.0</td>\n",
       "      <td>0.339394</td>\n",
       "      <td>56.0</td>\n",
       "      <td>...</td>\n",
       "      <td>0.442424</td>\n",
       "      <td>0.387879</td>\n",
       "      <td>0.345455</td>\n",
       "      <td>0.454545</td>\n",
       "      <td>0.400000</td>\n",
       "      <td>0.351515</td>\n",
       "      <td>0.466667</td>\n",
       "      <td>0.406061</td>\n",
       "      <td>True</td>\n",
       "      <td>C2H2 ZF</td>\n",
       "    </tr>\n",
       "    <tr>\n",
       "      <th>PF00010</th>\n",
       "      <td>134</td>\n",
       "      <td>43.0</td>\n",
       "      <td>0.320896</td>\n",
       "      <td>17.0</td>\n",
       "      <td>0.126866</td>\n",
       "      <td>18.0</td>\n",
       "      <td>0.134328</td>\n",
       "      <td>22.0</td>\n",
       "      <td>0.164179</td>\n",
       "      <td>34.0</td>\n",
       "      <td>...</td>\n",
       "      <td>0.328358</td>\n",
       "      <td>0.261194</td>\n",
       "      <td>0.223881</td>\n",
       "      <td>0.365672</td>\n",
       "      <td>0.291045</td>\n",
       "      <td>0.268657</td>\n",
       "      <td>0.417910</td>\n",
       "      <td>0.343284</td>\n",
       "      <td>True</td>\n",
       "      <td>bHLH</td>\n",
       "    </tr>\n",
       "  </tbody>\n",
       "</table>\n",
       "<p>5 rows × 28 columns</p>\n",
       "</div>"
      ],
      "text/plain": [
       "               n_alt_iso  n_is_affected_at_all  f_is_affected_at_all  \\\n",
       "accession                                                              \n",
       "C2H2_ZF_array        925                 519.0              0.561081   \n",
       "PF01352              540                 244.0              0.451852   \n",
       "PF00046              192                  75.0              0.390625   \n",
       "PF00096              165                  56.0              0.339394   \n",
       "PF00010              134                  43.0              0.320896   \n",
       "\n",
       "               n_is_affected_100pct  f_is_affected_100pct  \\\n",
       "accession                                                   \n",
       "C2H2_ZF_array                 407.0              0.440000   \n",
       "PF01352                       111.0              0.205556   \n",
       "PF00046                        52.0              0.270833   \n",
       "PF00096                        56.0              0.339394   \n",
       "PF00010                        17.0              0.126866   \n",
       "\n",
       "               n_is_affected_90pct  f_is_affected_90pct  n_is_affected_50pct  \\\n",
       "accession                                                                      \n",
       "C2H2_ZF_array                411.0             0.444324                446.0   \n",
       "PF01352                      119.0             0.220370                177.0   \n",
       "PF00046                       53.0             0.276042                 62.0   \n",
       "PF00096                       56.0             0.339394                 56.0   \n",
       "PF00010                       18.0             0.134328                 22.0   \n",
       "\n",
       "               f_is_affected_50pct  n_is_affected_10pct  ...  \\\n",
       "accession                                                ...   \n",
       "C2H2_ZF_array             0.482162                502.0  ...   \n",
       "PF01352                   0.327778                197.0  ...   \n",
       "PF00046                   0.322917                 74.0  ...   \n",
       "PF00096                   0.339394                 56.0  ...   \n",
       "PF00010                   0.164179                 34.0  ...   \n",
       "\n",
       "               null_fraction_affected_90pct_99CI_high  \\\n",
       "accession                                               \n",
       "C2H2_ZF_array                                0.499459   \n",
       "PF01352                                      0.553704   \n",
       "PF00046                                      0.411458   \n",
       "PF00096                                      0.442424   \n",
       "PF00010                                      0.328358   \n",
       "\n",
       "               null_fraction_affected_90pct_center  \\\n",
       "accession                                            \n",
       "C2H2_ZF_array                             0.483243   \n",
       "PF01352                                   0.525926   \n",
       "PF00046                                   0.354167   \n",
       "PF00096                                   0.387879   \n",
       "PF00010                                   0.261194   \n",
       "\n",
       "               null_fraction_affected_50pct_99CI_low  \\\n",
       "accession                                              \n",
       "C2H2_ZF_array                               0.503784   \n",
       "PF01352                                     0.514815   \n",
       "PF00046                                     0.328125   \n",
       "PF00096                                     0.345455   \n",
       "PF00010                                     0.223881   \n",
       "\n",
       "               null_fraction_affected_50pct_99CI_high  \\\n",
       "accession                                               \n",
       "C2H2_ZF_array                                0.538378   \n",
       "PF01352                                      0.568519   \n",
       "PF00046                                      0.447917   \n",
       "PF00096                                      0.454545   \n",
       "PF00010                                      0.365672   \n",
       "\n",
       "               null_fraction_affected_50pct_center  \\\n",
       "accession                                            \n",
       "C2H2_ZF_array                             0.521081   \n",
       "PF01352                                   0.542593   \n",
       "PF00046                                   0.390625   \n",
       "PF00096                                   0.400000   \n",
       "PF00010                                   0.291045   \n",
       "\n",
       "               null_fraction_affected_10pct_99CI_low  \\\n",
       "accession                                              \n",
       "C2H2_ZF_array                               0.567568   \n",
       "PF01352                                     0.527778   \n",
       "PF00046                                     0.369792   \n",
       "PF00096                                     0.351515   \n",
       "PF00010                                     0.268657   \n",
       "\n",
       "               null_fraction_affected_10pct_99CI_high  \\\n",
       "accession                                               \n",
       "C2H2_ZF_array                                0.609730   \n",
       "PF01352                                      0.583333   \n",
       "PF00046                                      0.494792   \n",
       "PF00096                                      0.466667   \n",
       "PF00010                                      0.417910   \n",
       "\n",
       "               null_fraction_affected_10pct_center  is_DBD    domain_name  \n",
       "accession                                                                  \n",
       "C2H2_ZF_array                             0.588108    True  C2H2 ZF array  \n",
       "PF01352                                   0.555556   False       KRAB box  \n",
       "PF00046                                   0.432292    True    Homeodomain  \n",
       "PF00096                                   0.406061    True        C2H2 ZF  \n",
       "PF00010                                   0.343284    True           bHLH  \n",
       "\n",
       "[5 rows x 28 columns]"
      ]
     },
     "execution_count": 136,
     "metadata": {},
     "output_type": "execute_result"
    }
   ],
   "source": [
    "doms['is_DBD'] = doms.index.isin(dbd['pfam'].values) | (doms.index == 'C2H2_ZF_array')\n",
    "# Use the custom DBD names\n",
    "doms.loc[doms['is_DBD'], 'domain_name'] = doms[doms['is_DBD']].index.map(dbd.set_index('pfam')['dbd'])\n",
    "doms.loc[~doms['is_DBD'], 'domain_name'] = doms[~doms['is_DBD']].index.map(pfam.set_index('pfam_accession')['name'])\n",
    "doms.loc[doms.index == 'C2H2_ZF_array', 'domain_name'] = ['C2H2 ZF array']\n",
    "doms.head()"
   ]
  },
  {
   "cell_type": "code",
   "execution_count": 137,
   "id": "782b80b9",
   "metadata": {},
   "outputs": [],
   "source": [
    "cutoff = 30"
   ]
  },
  {
   "cell_type": "code",
   "execution_count": 138,
   "id": "e9a34892",
   "metadata": {},
   "outputs": [
    {
     "data": {
      "image/png": "[encoded data removed]",
      "text/plain": [
       "<Figure size 86.4x108 with 1 Axes>"
      ]
     },
     "metadata": {},
     "output_type": "display_data"
    },
    {
     "data": {
      "image/png": "[encoded data removed]",
      "text/plain": [
       "<Figure size 86.4x108 with 1 Axes>"
      ]
     },
     "metadata": {},
     "output_type": "display_data"
    },
    {
     "data": {
      "image/png": "[encoded data removed]",
      "text/plain": [
       "<Figure size 86.4x108 with 1 Axes>"
      ]
     },
     "metadata": {},
     "output_type": "display_data"
    },
    {
     "data": {
      "image/png": "[encoded data removed]",
      "text/plain": [
       "<Figure size 86.4x108 with 1 Axes>"
      ]
     },
     "metadata": {},
     "output_type": "display_data"
    },
    {
     "data": {
      "image/png": "[encoded data removed]",
      "text/plain": [
       "<Figure size 86.4x108 with 1 Axes>"
      ]
     },
     "metadata": {},
     "output_type": "display_data"
    }
   ],
   "source": [
    "for level in dom_affected_levels:\n",
    "\n",
    "    fig, ax = plt.subplots(1, 1)\n",
    "    fig.set_size_inches(1.2, 1.5)\n",
    "    data = doms.loc[~doms['is_DBD'] &\n",
    "                    (doms['n_alt_iso'] >= cutoff) &\n",
    "                     ~(doms.index.map(clans) == 'CL0361'), :].copy()\n",
    "    ax.barh(data.index, \n",
    "            data[f'f_is_{level}'].values * 100,\n",
    "            label='Observed values',\n",
    "            color=sns.color_palette(\"Set2\")[0])\n",
    "    ax.errorbar(y=data.index,\n",
    "                x=data[f'null_fraction_{level}_center'].values * 100,\n",
    "                xerr=[(data[f'null_fraction_{level}_center'] - data[f'null_fraction_{level}_99CI_low']).values * 100,\n",
    "                      (data[f'null_fraction_{level}_99CI_high'] - data[f'null_fraction_{level}_center']).values * 100],\n",
    "                fmt='none',\n",
    "                capsize=3,\n",
    "                color='black',\n",
    "                label='Null distribution: 99% CI')\n",
    "    ax.legend(loc='lower center', bbox_to_anchor=(0.5, -0.25), frameon=False)\n",
    "    ax.set_yticklabels(data['domain_name'].values)\n",
    "    ax.set_xlim(0, 100)\n",
    "    ax.set_ylim(ax.get_ylim()[::-1])\n",
    "    ax.yaxis.set_tick_params(length=0)\n",
    "    ax.spines['right'].set_visible(False)\n",
    "    ax.spines['bottom'].set_visible(False)\n",
    "    ax.spines['left'].set_visible(False)\n",
    "    ax.xaxis.tick_top()\n",
    "    ax.set_xlabel(f'Fraction of alt. isoforms\\nwith {level_desc[level]}')\n",
    "    ax.xaxis.set_label_position('top')\n",
    "    ax.set_xticks(range(0, 101, 20))\n",
    "    ax.set_xticks(range(0, 101, 10), minor=True)\n",
    "    plt.savefig(f'../../figures/fig1/other_domain_{level}.resized.pdf'.format(level),\n",
    "                bbox_inches='tight')"
   ]
  },
  {
   "cell_type": "markdown",
   "id": "460e7e0b",
   "metadata": {},
   "source": [
    "## 9. calculate splicing types for ref/alt pairs"
   ]
  },
  {
   "cell_type": "code",
   "execution_count": 139,
   "id": "e4ff6e84",
   "metadata": {},
   "outputs": [
    {
     "data": {
      "text/plain": [
       "['TBX5-202', 'TBX5-204']"
      ]
     },
     "execution_count": 139,
     "metadata": {},
     "output_type": "execute_result"
    }
   ],
   "source": [
    "alt_isos = {}\n",
    "for tf in tfs.values():\n",
    "    if tf.has_MANE_select_isoform:\n",
    "        alts = []\n",
    "        for orf in tf.isoforms:\n",
    "            if not orf.is_MANE_select_transcript:\n",
    "                alts.append(orf.name)\n",
    "    alt_isos[tf.name] = alts\n",
    "alt_isos[\"TBX5\"]"
   ]
  },
  {
   "cell_type": "code",
   "execution_count": 140,
   "id": "b88470d3",
   "metadata": {},
   "outputs": [
    {
     "data": {
      "text/html": [
       "<div>\n",
       "<style scoped>\n",
       "    .dataframe tbody tr th:only-of-type {\n",
       "        vertical-align: middle;\n",
       "    }\n",
       "\n",
       "    .dataframe tbody tr th {\n",
       "        vertical-align: top;\n",
       "    }\n",
       "\n",
       "    .dataframe thead th {\n",
       "        text-align: right;\n",
       "    }\n",
       "</style>\n",
       "<table border=\"1\" class=\"dataframe\">\n",
       "  <thead>\n",
       "    <tr style=\"text-align: right;\">\n",
       "      <th></th>\n",
       "      <th>gene_symbol</th>\n",
       "      <th>reference isoform</th>\n",
       "      <th>alternative isoform</th>\n",
       "      <th>alternative N-terminal</th>\n",
       "      <th>alternative C-terminal</th>\n",
       "      <th>alternative internal exon</th>\n",
       "      <th>alternative 5' splice site</th>\n",
       "      <th>alternative 3' splice site</th>\n",
       "      <th>exon skipping</th>\n",
       "      <th>mutually exclusive exons</th>\n",
       "      <th>intron retention</th>\n",
       "    </tr>\n",
       "  </thead>\n",
       "  <tbody>\n",
       "    <tr>\n",
       "      <th>1232</th>\n",
       "      <td>TBX5</td>\n",
       "      <td>TBX5-201</td>\n",
       "      <td>TBX5-202</td>\n",
       "      <td>True</td>\n",
       "      <td>False</td>\n",
       "      <td>False</td>\n",
       "      <td>False</td>\n",
       "      <td>True</td>\n",
       "      <td>False</td>\n",
       "      <td>False</td>\n",
       "      <td>False</td>\n",
       "    </tr>\n",
       "    <tr>\n",
       "      <th>1233</th>\n",
       "      <td>TBX5</td>\n",
       "      <td>TBX5-201</td>\n",
       "      <td>TBX5-204</td>\n",
       "      <td>False</td>\n",
       "      <td>True</td>\n",
       "      <td>False</td>\n",
       "      <td>True</td>\n",
       "      <td>False</td>\n",
       "      <td>False</td>\n",
       "      <td>False</td>\n",
       "      <td>False</td>\n",
       "    </tr>\n",
       "  </tbody>\n",
       "</table>\n",
       "</div>"
      ],
      "text/plain": [
       "     gene_symbol reference isoform alternative isoform  \\\n",
       "1232        TBX5          TBX5-201            TBX5-202   \n",
       "1233        TBX5          TBX5-201            TBX5-204   \n",
       "\n",
       "      alternative N-terminal  alternative C-terminal  \\\n",
       "1232                    True                   False   \n",
       "1233                   False                    True   \n",
       "\n",
       "      alternative internal exon  alternative 5' splice site  \\\n",
       "1232                      False                       False   \n",
       "1233                      False                        True   \n",
       "\n",
       "      alternative 3' splice site  exon skipping  mutually exclusive exons  \\\n",
       "1232                        True          False                     False   \n",
       "1233                       False          False                     False   \n",
       "\n",
       "      intron retention  \n",
       "1232             False  \n",
       "1233             False  "
      ]
     },
     "execution_count": 140,
     "metadata": {},
     "output_type": "execute_result"
    }
   ],
   "source": [
    "df = pd.DataFrame([g.splicing_categories(ref_isos[g.name], alt_iso) for g in tfs.values() if g.has_MANE_select_isoform for alt_iso in alt_isos[g.name]])\n",
    "df[df[\"gene_symbol\"] == \"TBX5\"]"
   ]
  },
  {
   "cell_type": "code",
   "execution_count": 141,
   "id": "f16f59a7",
   "metadata": {},
   "outputs": [
    {
     "data": {
      "text/html": [
       "<div>\n",
       "<style scoped>\n",
       "    .dataframe tbody tr th:only-of-type {\n",
       "        vertical-align: middle;\n",
       "    }\n",
       "\n",
       "    .dataframe tbody tr th {\n",
       "        vertical-align: top;\n",
       "    }\n",
       "\n",
       "    .dataframe thead th {\n",
       "        text-align: right;\n",
       "    }\n",
       "</style>\n",
       "<table border=\"1\" class=\"dataframe\">\n",
       "  <thead>\n",
       "    <tr style=\"text-align: right;\">\n",
       "      <th></th>\n",
       "      <th>gene_symbol</th>\n",
       "      <th>reference isoform</th>\n",
       "      <th>alternative isoform</th>\n",
       "      <th>variable</th>\n",
       "      <th>value</th>\n",
       "    </tr>\n",
       "  </thead>\n",
       "  <tbody>\n",
       "    <tr>\n",
       "      <th>0</th>\n",
       "      <td>PRDM16</td>\n",
       "      <td>PRDM16-201</td>\n",
       "      <td>PRDM16-203</td>\n",
       "      <td>alternative N-terminal</td>\n",
       "      <td>False</td>\n",
       "    </tr>\n",
       "    <tr>\n",
       "      <th>1</th>\n",
       "      <td>PRDM16</td>\n",
       "      <td>PRDM16-201</td>\n",
       "      <td>PRDM16-206</td>\n",
       "      <td>alternative N-terminal</td>\n",
       "      <td>False</td>\n",
       "    </tr>\n",
       "    <tr>\n",
       "      <th>2</th>\n",
       "      <td>PRDM16</td>\n",
       "      <td>PRDM16-201</td>\n",
       "      <td>PRDM16-208</td>\n",
       "      <td>alternative N-terminal</td>\n",
       "      <td>False</td>\n",
       "    </tr>\n",
       "    <tr>\n",
       "      <th>3</th>\n",
       "      <td>TP73</td>\n",
       "      <td>TP73-208</td>\n",
       "      <td>TP73-206</td>\n",
       "      <td>alternative N-terminal</td>\n",
       "      <td>True</td>\n",
       "    </tr>\n",
       "    <tr>\n",
       "      <th>4</th>\n",
       "      <td>TP73</td>\n",
       "      <td>TP73-208</td>\n",
       "      <td>TP73-207</td>\n",
       "      <td>alternative N-terminal</td>\n",
       "      <td>True</td>\n",
       "    </tr>\n",
       "  </tbody>\n",
       "</table>\n",
       "</div>"
      ],
      "text/plain": [
       "  gene_symbol reference isoform alternative isoform                variable  \\\n",
       "0      PRDM16        PRDM16-201          PRDM16-203  alternative N-terminal   \n",
       "1      PRDM16        PRDM16-201          PRDM16-206  alternative N-terminal   \n",
       "2      PRDM16        PRDM16-201          PRDM16-208  alternative N-terminal   \n",
       "3        TP73          TP73-208            TP73-206  alternative N-terminal   \n",
       "4        TP73          TP73-208            TP73-207  alternative N-terminal   \n",
       "\n",
       "   value  \n",
       "0  False  \n",
       "1  False  \n",
       "2  False  \n",
       "3   True  \n",
       "4   True  "
      ]
     },
     "execution_count": 141,
     "metadata": {},
     "output_type": "execute_result"
    }
   ],
   "source": [
    "df_m = pd.melt(df, id_vars=[\"gene_symbol\", \"reference isoform\", \"alternative isoform\"])\n",
    "df_m.head()"
   ]
  },
  {
   "cell_type": "code",
   "execution_count": 142,
   "id": "aef15d16",
   "metadata": {},
   "outputs": [
    {
     "data": {
      "text/plain": [
       "variable\n",
       "alternative 3' splice site    1046\n",
       "alternative 5' splice site     786\n",
       "alternative C-terminal         991\n",
       "alternative N-terminal         938\n",
       "alternative internal exon      751\n",
       "exon skipping                  588\n",
       "intron retention               111\n",
       "mutually exclusive exons        43\n",
       "Name: alternative isoform, dtype: int64"
      ]
     },
     "execution_count": 142,
     "metadata": {},
     "output_type": "execute_result"
    }
   ],
   "source": [
    "df_m_t = df_m[df_m[\"value\"] == True]\n",
    "df_m_t.groupby(\"variable\")[\"alternative isoform\"].agg(\"count\")"
   ]
  },
  {
   "cell_type": "code",
   "execution_count": 143,
   "id": "6f82d404",
   "metadata": {},
   "outputs": [
    {
     "data": {
      "image/png": "[encoded data removed]",
      "text/plain": [
       "<Figure size 144x108 with 1 Axes>"
      ]
     },
     "metadata": {},
     "output_type": "display_data"
    }
   ],
   "source": [
    "fig = plt.figure(figsize=(2, 1.5))\n",
    "\n",
    "\n",
    "ax = sns.countplot(data=df_m_t, x=\"variable\", color=sns.color_palette()[0])\n",
    "\n",
    "ax.set_xlabel(\"\")\n",
    "xticklabels = ax.get_xticklabels()\n",
    "_ = ax.set_xticklabels(xticklabels, rotation=30, va=\"top\", ha=\"right\")\n",
    "\n",
    "ax.spines['right'].set_visible(False)\n",
    "ax.spines['bottom'].set_visible(False)\n",
    "ax.spines['top'].set_visible(False)\n",
    "\n",
    "ax.set_ylabel(\"# of alternative isos\")\n",
    "ax.set_title(\"Splicing categories\\n(compared to ref.)\")\n",
    "\n",
    "fig.savefig(\"../../figures/fig1/splicing_categories.pdf\", dpi=\"figure\", bbox_inches=\"tight\")"
   ]
  },
  {
   "cell_type": "code",
   "execution_count": null,
   "id": "ed3a7ab4",
   "metadata": {},
   "outputs": [],
   "source": []
  },
  {
   "cell_type": "code",
   "execution_count": null,
   "id": "44e26690",
   "metadata": {},
   "outputs": [],
   "source": []
  }
 ],
 "metadata": {
  "kernelspec": {
   "display_name": "Python (py36)",
   "language": "python",
   "name": "py36"
  },
  "language_info": {
   "codemirror_mode": {
    "name": "ipython",
    "version": 3
   },
   "file_extension": ".py",
   "mimetype": "text/x-python",
   "name": "python",
   "nbconvert_exporter": "python",
   "pygments_lexer": "ipython3",
   "version": "3.6.10"
  }
 },
 "nbformat": 4,
 "nbformat_minor": 5
}
