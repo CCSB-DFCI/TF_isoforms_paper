{
 "cells": [
  {
   "cell_type": "markdown",
   "metadata": {},
   "source": [
    "## Figure 1: Gencode Analyses: TF isoform annotations, expression patterns, domains"
   ]
  },
  {
   "cell_type": "code",
   "execution_count": 1,
   "metadata": {},
   "outputs": [],
   "source": [
    "import os\n",
    "import itertools\n",
    "from itertools import combinations\n",
    "\n",
    "import numpy as np\n",
    "from scipy import stats\n",
    "import seaborn as sns\n",
    "from matplotlib import pyplot as plt\n",
    "import pandas as pd\n",
    "import sys\n",
    "\n",
    "\n",
    "# import utils\n",
    "sys.path.append(\"../\")\n",
    "\n",
    "from data_loading import (load_isoform_and_paralog_y2h_data,\n",
    "                          load_annotated_gencode_tfs,\n",
    "                          load_y1h_pdi_data,\n",
    "                          load_m1h_activation_data,\n",
    "                          load_valid_isoform_clones,\n",
    "                          load_seq_comparison_data,\n",
    "                          load_gtex_gencode,\n",
    "                          load_developmental_tissue_expression_gencode,\n",
    "                          load_tf_families)"
   ]
  },
  {
   "cell_type": "code",
   "execution_count": 2,
   "metadata": {},
   "outputs": [],
   "source": [
    "np.random.seed(2023)"
   ]
  },
  {
   "cell_type": "code",
   "execution_count": 3,
   "metadata": {},
   "outputs": [],
   "source": [
    "PAPER_PRESET = {\"style\": \"ticks\", \"font\": \"Helvetica\", \"context\": \"paper\", \n",
    "                \"rc\": {\"font.size\":7,\"axes.titlesize\":7,\n",
    "                       \"axes.labelsize\":7, 'axes.linewidth':0.5,\n",
    "                       \"legend.fontsize\":6, \"xtick.labelsize\":6,\n",
    "                       \"ytick.labelsize\":6, \"xtick.major.size\": 3.0,\n",
    "                       \"ytick.major.size\": 3.0, \"axes.edgecolor\": \"black\",\n",
    "                       \"xtick.major.pad\": 3.0, \"ytick.major.pad\": 3.0}}\n",
    "PAPER_FONTSIZE = 7"
   ]
  },
  {
   "cell_type": "code",
   "execution_count": 4,
   "metadata": {},
   "outputs": [],
   "source": [
    "sns.set(**PAPER_PRESET)\n",
    "fontsize = PAPER_FONTSIZE"
   ]
  },
  {
   "cell_type": "markdown",
   "metadata": {},
   "source": [
    "## 1. load Gencode TFs + GTEx + Dev RNA-seq"
   ]
  },
  {
   "cell_type": "code",
   "execution_count": 5,
   "metadata": {},
   "outputs": [
    {
     "name": "stdout",
     "output_type": "stream",
     "text": [
      "reading from cache\n",
      "reading from cache\n",
      "reading from cache\n"
     ]
    }
   ],
   "source": [
    "tfs = load_annotated_gencode_tfs()\n",
    "\n",
    "df_gtex, metadata_gtex, genes_gtex = load_gtex_gencode()\n",
    "\n",
    "exclusion_list_gtex = {'Cells - Leukemia cell line (CML)',\n",
    "                       'Cells - EBV-transformed lymphocytes',\n",
    "                       'Cells - Cultured fibroblasts'}\n",
    "\n",
    "df_gtex = df_gtex.loc[:, ~df_gtex.columns.map(metadata_gtex['body_site']).isin(exclusion_list_gtex)]\n",
    "metadata_gtex = metadata_gtex.loc[~metadata_gtex['body_site'].isin(exclusion_list_gtex), :]\n",
    "\n",
    "means_gtex = df_gtex.groupby(df_gtex.columns.map(metadata_gtex['body_site']), axis=1).mean()\n",
    "\n",
    "df_dev, metadata_dev, genes_dev = load_developmental_tissue_expression_gencode()\n",
    "\n",
    "rename_dev_stage = {'8 week post conception,embryo': '08',\n",
    "'11 week post conception,late embryo': '11',\n",
    "'embryo,7 week post conception': '07',\n",
    "'infant': 'infant',\n",
    "'10 week post conception,late embryo': '10',\n",
    "'young adult': 'young adult',\n",
    "'13 week post conception,late embryo': '13',\n",
    "'16 week post conception,late embryo': '16',\n",
    "'4 week post conception,embryo': '04',\n",
    "'neonate': 'neonate',\n",
    "'19 week post conception,late embryo': '19',\n",
    "'9 week post conception,late embryo': '09',\n",
    "'adolescent': 'adolescent',\n",
    "'5 week post conception,embryo': '05',\n",
    "'embryo,6 week post conception': '06',\n",
    "'12 week post conception,late embryo': '12',\n",
    "'18 week post conception,late embryo': '18',\n",
    "'toddler': 'toddler',\n",
    "'elderly': 'elderly',\n",
    "'middle adult': 'adult',\n",
    "'school age child': 'child'}\n",
    "\n",
    "metadata_dev['dev_stage'] = metadata_dev['Developmental_Stage'].map(rename_dev_stage)\n",
    "means_dev = (df_dev.groupby(df_dev.columns.map(metadata_dev['organism_part'] + ' ' + metadata_dev['dev_stage']), axis=1)\n",
    "           .mean())\n",
    "all_isos = {'|'.join(sorted(orf.ensembl_transcript_names))\n",
    "            for tf in tfs.values() for orf in tf.isoforms}\n",
    "alt_isos = {'|'.join(sorted(orf.ensembl_transcript_names))\n",
    "            for tf in tfs.values()\n",
    "            for orf in tf.isoforms\n",
    "            if tf.has_MANE_select_isoform and not orf.is_MANE_select_transcript}\n",
    "ref_isos = {'|'.join(sorted(orf.ensembl_transcript_names))\n",
    "            for tf in tfs.values()\n",
    "            for orf in tf.isoforms\n",
    "            if tf.has_MANE_select_isoform and orf.is_MANE_select_transcript}"
   ]
  },
  {
   "cell_type": "code",
   "execution_count": 6,
   "metadata": {},
   "outputs": [
    {
     "data": {
      "text/plain": [
       "309"
      ]
     },
     "execution_count": 6,
     "metadata": {},
     "output_type": "execute_result"
    }
   ],
   "source": [
    "len(tfs)"
   ]
  },
  {
   "cell_type": "code",
   "execution_count": 7,
   "metadata": {},
   "outputs": [
    {
     "data": {
      "text/plain": [
       "(313, 42)"
      ]
     },
     "execution_count": 7,
     "metadata": {},
     "output_type": "execute_result"
    }
   ],
   "source": [
    "metadata_dev.shape"
   ]
  },
  {
   "cell_type": "code",
   "execution_count": 8,
   "metadata": {},
   "outputs": [
    {
     "data": {
      "text/plain": [
       "(2485, 49)"
      ]
     },
     "execution_count": 8,
     "metadata": {},
     "output_type": "execute_result"
    }
   ],
   "source": [
    "metadata_gtex.shape"
   ]
  },
  {
   "cell_type": "code",
   "execution_count": 9,
   "metadata": {},
   "outputs": [
    {
     "data": {
      "text/plain": [
       "1188"
      ]
     },
     "execution_count": 9,
     "metadata": {},
     "output_type": "execute_result"
    }
   ],
   "source": [
    "len(all_isos)"
   ]
  },
  {
   "cell_type": "code",
   "execution_count": 10,
   "metadata": {},
   "outputs": [
    {
     "data": {
      "text/plain": [
       "288"
      ]
     },
     "execution_count": 10,
     "metadata": {},
     "output_type": "execute_result"
    }
   ],
   "source": [
    "len(ref_isos)"
   ]
  },
  {
   "cell_type": "code",
   "execution_count": 11,
   "metadata": {},
   "outputs": [
    {
     "data": {
      "text/plain": [
       "811"
      ]
     },
     "execution_count": 11,
     "metadata": {},
     "output_type": "execute_result"
    }
   ],
   "source": [
    "len(alt_isos)"
   ]
  },
  {
   "cell_type": "code",
   "execution_count": 12,
   "metadata": {},
   "outputs": [
    {
     "data": {
      "text/plain": [
       "True     878\n",
       "False    310\n",
       "dtype: int64"
      ]
     },
     "execution_count": 12,
     "metadata": {},
     "output_type": "execute_result"
    }
   ],
   "source": [
    "(means_gtex > 1).any(axis=1).value_counts()"
   ]
  },
  {
   "cell_type": "code",
   "execution_count": 13,
   "metadata": {},
   "outputs": [
    {
     "data": {
      "text/plain": [
       "653"
      ]
     },
     "execution_count": 13,
     "metadata": {},
     "output_type": "execute_result"
    }
   ],
   "source": [
    "(means_gtex.loc[means_gtex.index.isin(alt_isos), :].sum(axis=1) >= 1).sum()"
   ]
  },
  {
   "cell_type": "markdown",
   "metadata": {},
   "source": [
    "## 2. isoforms per family"
   ]
  },
  {
   "cell_type": "code",
   "execution_count": 14,
   "metadata": {},
   "outputs": [],
   "source": [
    "# number of isoforms vs gene expression, publications, and exons \n",
    "tpm_per_gene = ((2 ** df_gtex - 1)\n",
    "                .groupby(genes_gtex)\n",
    "                .sum()\n",
    "                .groupby(df_gtex.columns.map(metadata_gtex['body_site']), axis=1)\n",
    "                .mean())\n",
    "gn = tpm_per_gene.max(axis=1).rename('TPM - gene-level, max across GTEx tissues').to_frame()\n",
    "gn['n_isoforms'] = gn.index.map(genes_gtex.value_counts())"
   ]
  },
  {
   "cell_type": "code",
   "execution_count": 15,
   "metadata": {},
   "outputs": [
    {
     "data": {
      "text/html": [
       "<div>\n",
       "<style scoped>\n",
       "    .dataframe tbody tr th:only-of-type {\n",
       "        vertical-align: middle;\n",
       "    }\n",
       "\n",
       "    .dataframe tbody tr th {\n",
       "        vertical-align: top;\n",
       "    }\n",
       "\n",
       "    .dataframe thead th {\n",
       "        text-align: right;\n",
       "    }\n",
       "</style>\n",
       "<table border=\"1\" class=\"dataframe\">\n",
       "  <thead>\n",
       "    <tr style=\"text-align: right;\">\n",
       "      <th></th>\n",
       "      <th>TPM - gene-level, max across GTEx tissues</th>\n",
       "      <th>n_isoforms</th>\n",
       "      <th>family</th>\n",
       "      <th>is_nuclear_receptor</th>\n",
       "    </tr>\n",
       "  </thead>\n",
       "  <tbody>\n",
       "    <tr>\n",
       "      <th>AEBP2</th>\n",
       "      <td>33.758693</td>\n",
       "      <td>4</td>\n",
       "      <td>C2H2 ZF</td>\n",
       "      <td>False</td>\n",
       "    </tr>\n",
       "    <tr>\n",
       "      <th>ARNT2</th>\n",
       "      <td>89.317099</td>\n",
       "      <td>3</td>\n",
       "      <td>bHLH</td>\n",
       "      <td>False</td>\n",
       "    </tr>\n",
       "    <tr>\n",
       "      <th>ARNTL</th>\n",
       "      <td>26.752671</td>\n",
       "      <td>5</td>\n",
       "      <td>bHLH</td>\n",
       "      <td>False</td>\n",
       "    </tr>\n",
       "    <tr>\n",
       "      <th>ARNTL2</th>\n",
       "      <td>24.893992</td>\n",
       "      <td>7</td>\n",
       "      <td>bHLH</td>\n",
       "      <td>False</td>\n",
       "    </tr>\n",
       "    <tr>\n",
       "      <th>ATF2</th>\n",
       "      <td>32.732589</td>\n",
       "      <td>7</td>\n",
       "      <td>bZIP</td>\n",
       "      <td>False</td>\n",
       "    </tr>\n",
       "  </tbody>\n",
       "</table>\n",
       "</div>"
      ],
      "text/plain": [
       "        TPM - gene-level, max across GTEx tissues  n_isoforms   family  \\\n",
       "AEBP2                                   33.758693           4  C2H2 ZF   \n",
       "ARNT2                                   89.317099           3     bHLH   \n",
       "ARNTL                                   26.752671           5     bHLH   \n",
       "ARNTL2                                  24.893992           7     bHLH   \n",
       "ATF2                                    32.732589           7     bZIP   \n",
       "\n",
       "        is_nuclear_receptor  \n",
       "AEBP2                 False  \n",
       "ARNT2                 False  \n",
       "ARNTL                 False  \n",
       "ARNTL2                False  \n",
       "ATF2                  False  "
      ]
     },
     "execution_count": 15,
     "metadata": {},
     "output_type": "execute_result"
    }
   ],
   "source": [
    "fam = load_tf_families()\n",
    "gn['family'] = gn.index.map(fam)\n",
    "gn['is_nuclear_receptor'] = (gn['family'] == 'Nuclear receptor')\n",
    "gn.head()"
   ]
  },
  {
   "cell_type": "code",
   "execution_count": 16,
   "metadata": {},
   "outputs": [
    {
     "data": {
      "text/plain": [
       "309"
      ]
     },
     "execution_count": 16,
     "metadata": {},
     "output_type": "execute_result"
    }
   ],
   "source": [
    "len(gn)"
   ]
  },
  {
   "cell_type": "code",
   "execution_count": 17,
   "metadata": {},
   "outputs": [
    {
     "data": {
      "text/plain": [
       "286"
      ]
     },
     "execution_count": 17,
     "metadata": {},
     "output_type": "execute_result"
    }
   ],
   "source": [
    "len(gn[gn[\"n_isoforms\"] > 1])"
   ]
  },
  {
   "cell_type": "code",
   "execution_count": 18,
   "metadata": {},
   "outputs": [
    {
     "data": {
      "text/plain": [
       "3.8446601941747574"
      ]
     },
     "execution_count": 18,
     "metadata": {},
     "output_type": "execute_result"
    }
   ],
   "source": [
    "gn.n_isoforms.mean()"
   ]
  },
  {
   "cell_type": "code",
   "execution_count": 19,
   "metadata": {},
   "outputs": [
    {
     "data": {
      "text/plain": [
       "3.5925925925925926"
      ]
     },
     "execution_count": 19,
     "metadata": {},
     "output_type": "execute_result"
    }
   ],
   "source": [
    "gn[gn[\"family\"] == \"Homeodomain\"].n_isoforms.mean()"
   ]
  },
  {
   "cell_type": "code",
   "execution_count": 20,
   "metadata": {},
   "outputs": [
    {
     "data": {
      "text/plain": [
       "3.739130434782609"
      ]
     },
     "execution_count": 20,
     "metadata": {},
     "output_type": "execute_result"
    }
   ],
   "source": [
    "gn[gn[\"family\"] == \"Nuclear receptor\"].n_isoforms.mean()"
   ]
  },
  {
   "cell_type": "code",
   "execution_count": 21,
   "metadata": {},
   "outputs": [
    {
     "data": {
      "text/html": [
       "<div>\n",
       "<style scoped>\n",
       "    .dataframe tbody tr th:only-of-type {\n",
       "        vertical-align: middle;\n",
       "    }\n",
       "\n",
       "    .dataframe tbody tr th {\n",
       "        vertical-align: top;\n",
       "    }\n",
       "\n",
       "    .dataframe thead th {\n",
       "        text-align: right;\n",
       "    }\n",
       "</style>\n",
       "<table border=\"1\" class=\"dataframe\">\n",
       "  <thead>\n",
       "    <tr style=\"text-align: right;\">\n",
       "      <th></th>\n",
       "      <th>TPM - gene-level, max across GTEx tissues</th>\n",
       "      <th>n_isoforms</th>\n",
       "      <th>family</th>\n",
       "      <th>is_nuclear_receptor</th>\n",
       "    </tr>\n",
       "  </thead>\n",
       "  <tbody>\n",
       "    <tr>\n",
       "      <th>CREM</th>\n",
       "      <td>372.514410</td>\n",
       "      <td>25</td>\n",
       "      <td>bZIP</td>\n",
       "      <td>False</td>\n",
       "    </tr>\n",
       "    <tr>\n",
       "      <th>TCF4</th>\n",
       "      <td>13.551768</td>\n",
       "      <td>23</td>\n",
       "      <td>bHLH</td>\n",
       "      <td>False</td>\n",
       "    </tr>\n",
       "    <tr>\n",
       "      <th>TP53</th>\n",
       "      <td>59.524068</td>\n",
       "      <td>15</td>\n",
       "      <td>p53</td>\n",
       "      <td>False</td>\n",
       "    </tr>\n",
       "    <tr>\n",
       "      <th>FOXP2</th>\n",
       "      <td>18.695628</td>\n",
       "      <td>14</td>\n",
       "      <td>Forkhead</td>\n",
       "      <td>False</td>\n",
       "    </tr>\n",
       "    <tr>\n",
       "      <th>TCF7L2</th>\n",
       "      <td>32.033478</td>\n",
       "      <td>13</td>\n",
       "      <td>HMG/Sox</td>\n",
       "      <td>False</td>\n",
       "    </tr>\n",
       "  </tbody>\n",
       "</table>\n",
       "</div>"
      ],
      "text/plain": [
       "        TPM - gene-level, max across GTEx tissues  n_isoforms    family  \\\n",
       "CREM                                   372.514410          25      bZIP   \n",
       "TCF4                                    13.551768          23      bHLH   \n",
       "TP53                                    59.524068          15       p53   \n",
       "FOXP2                                   18.695628          14  Forkhead   \n",
       "TCF7L2                                  32.033478          13   HMG/Sox   \n",
       "\n",
       "        is_nuclear_receptor  \n",
       "CREM                  False  \n",
       "TCF4                  False  \n",
       "TP53                  False  \n",
       "FOXP2                 False  \n",
       "TCF7L2                False  "
      ]
     },
     "execution_count": 21,
     "metadata": {},
     "output_type": "execute_result"
    }
   ],
   "source": [
    "gn.sort_values(by=\"n_isoforms\", ascending=False).head()"
   ]
  },
  {
   "cell_type": "code",
   "execution_count": 22,
   "metadata": {},
   "outputs": [
    {
     "data": {
      "text/html": [
       "<div>\n",
       "<style scoped>\n",
       "    .dataframe tbody tr th:only-of-type {\n",
       "        vertical-align: middle;\n",
       "    }\n",
       "\n",
       "    .dataframe tbody tr th {\n",
       "        vertical-align: top;\n",
       "    }\n",
       "\n",
       "    .dataframe thead th {\n",
       "        text-align: right;\n",
       "    }\n",
       "</style>\n",
       "<table border=\"1\" class=\"dataframe\">\n",
       "  <thead>\n",
       "    <tr style=\"text-align: right;\">\n",
       "      <th></th>\n",
       "      <th>index</th>\n",
       "      <th>family</th>\n",
       "    </tr>\n",
       "  </thead>\n",
       "  <tbody>\n",
       "    <tr>\n",
       "      <th>0</th>\n",
       "      <td>C2H2 ZF</td>\n",
       "      <td>132</td>\n",
       "    </tr>\n",
       "    <tr>\n",
       "      <th>1</th>\n",
       "      <td>Homeodomain</td>\n",
       "      <td>27</td>\n",
       "    </tr>\n",
       "    <tr>\n",
       "      <th>2</th>\n",
       "      <td>Nuclear receptor</td>\n",
       "      <td>23</td>\n",
       "    </tr>\n",
       "  </tbody>\n",
       "</table>\n",
       "</div>"
      ],
      "text/plain": [
       "              index  family\n",
       "0           C2H2 ZF     132\n",
       "1       Homeodomain      27\n",
       "2  Nuclear receptor      23"
      ]
     },
     "execution_count": 22,
     "metadata": {},
     "output_type": "execute_result"
    }
   ],
   "source": [
    "fam_members = pd.DataFrame(gn['family'].value_counts()).reset_index()\n",
    "fam_members_ov20 = fam_members[fam_members[\"family\"] >= 20]\n",
    "fam_members_ov20"
   ]
  },
  {
   "cell_type": "code",
   "execution_count": 23,
   "metadata": {},
   "outputs": [
    {
     "data": {
      "text/plain": [
       "C2H2 ZF             132\n",
       "Other               127\n",
       "Homeodomain          27\n",
       "Nuclear receptor     23\n",
       "Name: family_updated, dtype: int64"
      ]
     },
     "execution_count": 23,
     "metadata": {},
     "output_type": "execute_result"
    }
   ],
   "source": [
    "def collapse_families(row, families_to_keep):\n",
    "    if row['family'] in families_to_keep:\n",
    "        return row['family']\n",
    "    else:\n",
    "        return 'Other'\n",
    "    \n",
    "gn['family_updated'] = gn.apply(collapse_families, axis=1, \n",
    "                                families_to_keep=list(fam_members[fam_members['family'] >=20]['index']))\n",
    "gn.family_updated.value_counts()"
   ]
  },
  {
   "cell_type": "code",
   "execution_count": 24,
   "metadata": {},
   "outputs": [
    {
     "data": {
      "image/png": "[encoded data removed]",
      "text/plain": [
       "<Figure size 144x720 with 10 Axes>"
      ]
     },
     "metadata": {},
     "output_type": "display_data"
    }
   ],
   "source": [
    "def annotate(data, **kws):\n",
    "    n = len(data)\n",
    "    mean = data.n_isoforms.mean()\n",
    "    ax = plt.gca()\n",
    "    ax.text(0.98, 0.98, \"n=%s genes\\nmean=%s isoforms/gene\" % (n, np.round(mean, 2)), transform=ax.transAxes,\n",
    "            ha=\"right\", va=\"top\")\n",
    "    ax.axvline(x=mean, linestyle=\"dashed\", color=\"black\", linewidth=0.75)\n",
    "\n",
    "g = sns.FacetGrid(gn, row=\"family_updated\", sharex=True, sharey=False, height=1, aspect=2,\n",
    "                  row_order=[\"C2H2 ZF\", \"Homeodomain\", \"bHLH\", \"bZIP\", \"Forkhead\", \"Nuclear receptor\",\n",
    "                             \"HMG/Sox\", \"Ets\", \"Unknown\", \"Other\"])\n",
    "g.map_dataframe(sns.histplot, \"n_isoforms\", binwidth=1)\n",
    "g.map_dataframe(annotate)\n",
    "g.set_axis_labels(\"# unique isoforms\", \"# genes\")\n",
    "g.set_titles(row_template=\"{row_name}\")\n",
    "g.savefig(\"../../figures/fig1/GENCODE_iso_counts_per_family.pdf\", bbox_inches=\"tight\", dpi=\"figure\")"
   ]
  },
  {
   "cell_type": "markdown",
   "metadata": {},
   "source": [
    "## 3. downsample GTEx\n",
    "\n",
    "GTEx has more samples per condition than Dev, but Dev has more conditions"
   ]
  },
  {
   "cell_type": "code",
   "execution_count": 25,
   "metadata": {},
   "outputs": [
    {
     "data": {
      "text/plain": [
       "51"
      ]
     },
     "execution_count": 25,
     "metadata": {},
     "output_type": "execute_result"
    }
   ],
   "source": [
    "# conditions (body sites): gtex\n",
    "len(metadata_gtex['body_site'].value_counts())"
   ]
  },
  {
   "cell_type": "code",
   "execution_count": 26,
   "metadata": {},
   "outputs": [
    {
     "data": {
      "text/plain": [
       "Lung                                         379\n",
       "Thyroid                                      360\n",
       "Colon - Transverse                           206\n",
       "Colon - Sigmoid                              173\n",
       "Adrenal Gland                                161\n",
       "Liver                                        138\n",
       "Kidney - Cortex                               36\n",
       "Breast - Mammary Tissue                       35\n",
       "Whole Blood                                   33\n",
       "Muscle - Skeletal                             32\n",
       "Skin - Not Sun Exposed (Suprapubic)           32\n",
       "Skin - Sun Exposed (Lower leg)                29\n",
       "Adipose - Subcutaneous                        27\n",
       "Brain - Substantia nigra                      24\n",
       "Brain - Anterior cingulate cortex (BA24)      24\n",
       "Brain - Cerebellum                            24\n",
       "Pituitary                                     24\n",
       "Brain - Cortex                                24\n",
       "Uterus                                        24\n",
       "Brain - Nucleus accumbens (basal ganglia)     24\n",
       "Small Intestine - Terminal Ileum              24\n",
       "Brain - Cerebellar Hemisphere                 24\n",
       "Brain - Hippocampus                           24\n",
       "Brain - Caudate (basal ganglia)               24\n",
       "Artery - Coronary                             24\n",
       "Artery - Aorta                                24\n",
       "Artery - Tibial                               24\n",
       "Spleen                                        24\n",
       "Brain - Spinal cord (cervical c-1)            24\n",
       "Esophagus - Gastroesophageal Junction         24\n",
       "Minor Salivary Gland                          24\n",
       "Brain - Amygdala                              24\n",
       "Testis                                        24\n",
       "Ovary                                         24\n",
       "Esophagus - Muscularis                        24\n",
       "Brain - Frontal Cortex (BA9)                  24\n",
       "Pancreas                                      24\n",
       "Vagina                                        24\n",
       "Stomach                                       24\n",
       "Adipose - Visceral (Omentum)                  24\n",
       "Brain - Hypothalamus                          24\n",
       "Heart - Left Ventricle                        24\n",
       "Esophagus - Mucosa                            24\n",
       "Nerve - Tibial                                24\n",
       "Heart - Atrial Appendage                      24\n",
       "Prostate                                      24\n",
       "Brain - Putamen (basal ganglia)               24\n",
       "Bladder                                       10\n",
       "Fallopian Tube                                 7\n",
       "Cervix - Ectocervix                            6\n",
       "Cervix - Endocervix                            5\n",
       "Name: body_site, dtype: int64"
      ]
     },
     "execution_count": 26,
     "metadata": {},
     "output_type": "execute_result"
    }
   ],
   "source": [
    "# samples per body site: gtex\n",
    "metadata_gtex['body_site'].value_counts()"
   ]
  },
  {
   "cell_type": "code",
   "execution_count": 27,
   "metadata": {},
   "outputs": [
    {
     "data": {
      "text/plain": [
       "127"
      ]
     },
     "execution_count": 27,
     "metadata": {},
     "output_type": "execute_result"
    }
   ],
   "source": [
    "# conditions (body sites): dev\n",
    "metadata_dev['body_site'] = metadata_dev['organism_part'] + ' ' + metadata_dev['dev_stage']\n",
    "len(metadata_dev['body_site'].value_counts())"
   ]
  },
  {
   "cell_type": "code",
   "execution_count": 28,
   "metadata": {},
   "outputs": [
    {
     "data": {
      "text/plain": [
       "hindbrain neonate        5\n",
       "forebrain young adult    5\n",
       "hindbrain young adult    5\n",
       "forebrain 19             5\n",
       "heart 08                 5\n",
       "                        ..\n",
       "testis 04                1\n",
       "kidney child             1\n",
       "liver child              1\n",
       "ovary 13                 1\n",
       "heart adolescent         1\n",
       "Name: body_site, Length: 127, dtype: int64"
      ]
     },
     "execution_count": 28,
     "metadata": {},
     "output_type": "execute_result"
    }
   ],
   "source": [
    "# samples per body site: dev\n",
    "metadata_dev['body_site'].value_counts()"
   ]
  },
  {
   "cell_type": "markdown",
   "metadata": {},
   "source": [
    "### loop through GTEx tissues and pick the # of samples by randomly matching to a dev dataset\n",
    "this is inherently unstable when sampling w/o replacement as will end up with times where there are more samps in the dev that you're randomly matching to than the gtex (rare but happens)"
   ]
  },
  {
   "cell_type": "code",
   "execution_count": 29,
   "metadata": {},
   "outputs": [],
   "source": [
    "# loop through gtex tissues\n",
    "# pick number of samples according to dev dataset\n",
    "# loop again\n",
    "# make fake metadata file\n",
    "n_samples_dev = df_dev.columns.map(metadata_dev['organism_part'] + ' ' + metadata_dev['dev_stage']).value_counts().values\n",
    "np.random.shuffle(n_samples_dev)\n",
    "gtex_tissues = metadata_gtex['body_site'].value_counts().index.values\n",
    "\n",
    "metadata_gtex_dummy = {}\n",
    "for i, (n_samples, tissue) in enumerate(zip(n_samples_dev, itertools.cycle(gtex_tissues))):\n",
    "    metadata_gtex_dummy[tissue + '_' + str(i)] = (metadata_gtex.loc[(metadata_gtex['body_site'] == tissue)\n",
    "                                                                    & ~metadata_gtex.index.isin({s for samples in metadata_gtex_dummy.values() for s in samples}),\n",
    "                                                                    :]\n",
    "                                                        .sample(n_samples).index.values)\n",
    "\n",
    "# TODO: check it is sampling with replacement and ends up same size as dev   \n",
    "# NOTE: this block of code is unstable depending on seed\n",
    "\n",
    "metadata_gtex_dummy = (pd.Series({v: k for k, vs in metadata_gtex_dummy.items() for v in vs}, name='body_site')\n",
    "                         .to_frame())\n",
    "\n",
    "if metadata_dev.shape[0] != metadata_gtex_dummy.shape[0]:\n",
    "    raise UserWarning('Problem with downsampling code')\n",
    "if sorted(n_samples_dev) != sorted(metadata_gtex_dummy.groupby('body_site').size().values):\n",
    "    raise UserWarning('Problem with downsampling code')\n",
    "if metadata_gtex_dummy.index.duplicated().any():\n",
    "    raise UserWarning('Unexpected duplicates')"
   ]
  },
  {
   "cell_type": "code",
   "execution_count": 30,
   "metadata": {},
   "outputs": [
    {
     "data": {
      "text/plain": [
       "(313, 1)"
      ]
     },
     "execution_count": 30,
     "metadata": {},
     "output_type": "execute_result"
    }
   ],
   "source": [
    "metadata_gtex_dummy.shape"
   ]
  },
  {
   "cell_type": "code",
   "execution_count": 31,
   "metadata": {},
   "outputs": [
    {
     "data": {
      "text/plain": [
       "127"
      ]
     },
     "execution_count": 31,
     "metadata": {},
     "output_type": "execute_result"
    }
   ],
   "source": [
    "len(metadata_gtex_dummy.body_site.unique())"
   ]
  },
  {
   "cell_type": "code",
   "execution_count": 32,
   "metadata": {},
   "outputs": [
    {
     "data": {
      "text/plain": [
       "51"
      ]
     },
     "execution_count": 32,
     "metadata": {},
     "output_type": "execute_result"
    }
   ],
   "source": [
    "len(metadata_gtex_dummy.body_site.str.split(\"_\", expand=True)[0].unique())"
   ]
  },
  {
   "cell_type": "code",
   "execution_count": 33,
   "metadata": {},
   "outputs": [
    {
     "data": {
      "text/plain": [
       "(313, 43)"
      ]
     },
     "execution_count": 33,
     "metadata": {},
     "output_type": "execute_result"
    }
   ],
   "source": [
    "metadata_dev.shape"
   ]
  },
  {
   "cell_type": "code",
   "execution_count": 34,
   "metadata": {},
   "outputs": [
    {
     "data": {
      "text/plain": [
       "127"
      ]
     },
     "execution_count": 34,
     "metadata": {},
     "output_type": "execute_result"
    }
   ],
   "source": [
    "len(df_dev.columns.map(metadata_dev['organism_part'] + ' ' + metadata_dev['dev_stage']).unique())"
   ]
  },
  {
   "cell_type": "code",
   "execution_count": 35,
   "metadata": {},
   "outputs": [
    {
     "data": {
      "text/plain": [
       "Index(['liver 12', 'ovary 13', 'hindbrain infant', 'liver adult', 'kidney 12',\n",
       "       'kidney 10', 'hindbrain adolescent', 'heart 11', 'testis 06',\n",
       "       'kidney 07',\n",
       "       ...\n",
       "       'liver 13', 'kidney 05', 'testis adult', 'ovary 06', 'ovary 05',\n",
       "       'hindbrain 09', 'kidney toddler', 'forebrain 12', 'testis 12',\n",
       "       'kidney child'],\n",
       "      dtype='object', length=127)"
      ]
     },
     "execution_count": 35,
     "metadata": {},
     "output_type": "execute_result"
    }
   ],
   "source": [
    "df_dev.columns.map(metadata_dev['organism_part'] + ' ' + metadata_dev['dev_stage']).unique()"
   ]
  },
  {
   "cell_type": "code",
   "execution_count": 36,
   "metadata": {},
   "outputs": [
    {
     "data": {
      "text/html": [
       "<div>\n",
       "<style scoped>\n",
       "    .dataframe tbody tr th:only-of-type {\n",
       "        vertical-align: middle;\n",
       "    }\n",
       "\n",
       "    .dataframe tbody tr th {\n",
       "        vertical-align: top;\n",
       "    }\n",
       "\n",
       "    .dataframe thead th {\n",
       "        text-align: right;\n",
       "    }\n",
       "</style>\n",
       "<table border=\"1\" class=\"dataframe\">\n",
       "  <thead>\n",
       "    <tr style=\"text-align: right;\">\n",
       "      <th></th>\n",
       "      <th>organism_part</th>\n",
       "      <th>dev_stage</th>\n",
       "      <th>BioSample</th>\n",
       "    </tr>\n",
       "  </thead>\n",
       "  <tbody>\n",
       "    <tr>\n",
       "      <th>103</th>\n",
       "      <td>ovary</td>\n",
       "      <td>11</td>\n",
       "      <td>1</td>\n",
       "    </tr>\n",
       "    <tr>\n",
       "      <th>31</th>\n",
       "      <td>heart</td>\n",
       "      <td>18</td>\n",
       "      <td>1</td>\n",
       "    </tr>\n",
       "    <tr>\n",
       "      <th>106</th>\n",
       "      <td>ovary</td>\n",
       "      <td>16</td>\n",
       "      <td>1</td>\n",
       "    </tr>\n",
       "    <tr>\n",
       "      <th>33</th>\n",
       "      <td>heart</td>\n",
       "      <td>adolescent</td>\n",
       "      <td>1</td>\n",
       "    </tr>\n",
       "    <tr>\n",
       "      <th>58</th>\n",
       "      <td>kidney</td>\n",
       "      <td>04</td>\n",
       "      <td>1</td>\n",
       "    </tr>\n",
       "    <tr>\n",
       "      <th>...</th>\n",
       "      <td>...</td>\n",
       "      <td>...</td>\n",
       "      <td>...</td>\n",
       "    </tr>\n",
       "    <tr>\n",
       "      <th>55</th>\n",
       "      <td>hindbrain</td>\n",
       "      <td>neonate</td>\n",
       "      <td>5</td>\n",
       "    </tr>\n",
       "    <tr>\n",
       "      <th>57</th>\n",
       "      <td>hindbrain</td>\n",
       "      <td>young adult</td>\n",
       "      <td>5</td>\n",
       "    </tr>\n",
       "    <tr>\n",
       "      <th>19</th>\n",
       "      <td>forebrain</td>\n",
       "      <td>young adult</td>\n",
       "      <td>5</td>\n",
       "    </tr>\n",
       "    <tr>\n",
       "      <th>24</th>\n",
       "      <td>heart</td>\n",
       "      <td>08</td>\n",
       "      <td>5</td>\n",
       "    </tr>\n",
       "    <tr>\n",
       "      <th>11</th>\n",
       "      <td>forebrain</td>\n",
       "      <td>19</td>\n",
       "      <td>5</td>\n",
       "    </tr>\n",
       "  </tbody>\n",
       "</table>\n",
       "<p>127 rows × 3 columns</p>\n",
       "</div>"
      ],
      "text/plain": [
       "    organism_part    dev_stage  BioSample\n",
       "103         ovary           11          1\n",
       "31          heart           18          1\n",
       "106         ovary           16          1\n",
       "33          heart   adolescent          1\n",
       "58         kidney           04          1\n",
       "..            ...          ...        ...\n",
       "55      hindbrain      neonate          5\n",
       "57      hindbrain  young adult          5\n",
       "19      forebrain  young adult          5\n",
       "24          heart           08          5\n",
       "11      forebrain           19          5\n",
       "\n",
       "[127 rows x 3 columns]"
      ]
     },
     "execution_count": 36,
     "metadata": {},
     "output_type": "execute_result"
    }
   ],
   "source": [
    "tmp = metadata_dev.groupby([\"organism_part\", \"dev_stage\"])[\"BioSample\"].agg(\"count\").reset_index()\n",
    "tmp.sort_values(by=\"BioSample\")"
   ]
  },
  {
   "cell_type": "markdown",
   "metadata": {},
   "source": [
    "#### this dataframe is now the same shape as the dev data in both # of samples and # of \"sites\"\n",
    "gets to the same # of \"sites\" by re-sampling among GTEx tissues"
   ]
  },
  {
   "cell_type": "code",
   "execution_count": 37,
   "metadata": {},
   "outputs": [],
   "source": [
    "# write this file so we can load it in the DN section later\n",
    "metadata_gtex_dummy.to_csv(\"../../data/processed/metadata_gtex_dummy.csv\")"
   ]
  },
  {
   "cell_type": "code",
   "execution_count": 38,
   "metadata": {},
   "outputs": [],
   "source": [
    "means_gtex_downsample = df_gtex.groupby(df_gtex.columns.map(metadata_gtex_dummy['body_site']), axis=1).mean()"
   ]
  },
  {
   "cell_type": "markdown",
   "metadata": {},
   "source": [
    "## 4. histograms: isoforms per gene + thresholded on expression"
   ]
  },
  {
   "cell_type": "markdown",
   "metadata": {},
   "source": [
    "### GTEx: all"
   ]
  },
  {
   "cell_type": "code",
   "execution_count": 39,
   "metadata": {},
   "outputs": [
    {
     "data": {
      "image/png": "[encoded data removed]",
      "text/plain": [
       "<Figure size 252x158.4 with 2 Axes>"
      ]
     },
     "metadata": {},
     "output_type": "display_data"
    }
   ],
   "source": [
    "# plot number of isoforms above 1 TPM\n",
    "\n",
    "fig, axs = plt.subplots(2, 1, sharex=False, figsize=(3.5, 2.2))\n",
    "\n",
    "n_iso = (means_gtex > 1).any(axis=1).groupby(genes_gtex).size()\n",
    "x_max = n_iso.max()\n",
    "xs = range(0, x_max + 1)\n",
    "axs[0].bar(x=xs, height=[n_iso.value_counts().to_dict().get(x, 0) for x in xs], color=\"slategrey\")\n",
    "\n",
    "# label n\n",
    "for h, x in zip([n_iso.value_counts().to_dict().get(x, 0) for x in xs], xs):\n",
    "    if h == 0:\n",
    "        continue\n",
    "    axs[0].text(x, h, \" %s\" % h, rotation=90, fontsize=fontsize-2, ha=\"center\", va=\"bottom\",\n",
    "                color=\"slategrey\")\n",
    "\n",
    "n_iso = (means_gtex > 1).any(axis=1).groupby(genes_gtex).sum()\n",
    "axs[1].bar(x=xs, height=[n_iso.value_counts().to_dict().get(x, 0) for x in xs])\n",
    "\n",
    "axs[0].set_xticks(xs)\n",
    "axs[0].set_xlabel(\"Unique annotated protein isoforms per gene\")\n",
    "axs[0].tick_params(axis='x', labelsize=fontsize-2)\n",
    "axs[1].set_xticks(xs)\n",
    "axs[1].tick_params(axis='x', labelsize=fontsize-2)\n",
    "axs[1].set_xlabel('Unique protein isoforms per gene')\n",
    "#axs[0].text(x=7, y=400, s='All isoforms')\n",
    "axs[1].text(x=7, y=400, s='≥ 1 TPM in ≥ 1 tissue')\n",
    "\n",
    "def num2pct(y):\n",
    "    return (y / n_iso.shape[0]) * 100\n",
    "\n",
    "def pct2num(y):\n",
    "    return (y / 100) * n_iso.shape[0]\n",
    "\n",
    "for ax in axs:\n",
    "    ax.set_ylim(0, 800)\n",
    "    ax.set_yticks(range(0, 800, 100), minor=True)\n",
    "    ax.set_ylabel('TF genes')\n",
    "    for pos in ['top', 'right', 'bottom']:\n",
    "        ax.spines[pos].set_visible(False)\n",
    "    ax.xaxis.set_tick_params(length=0)\n",
    "    pctax = ax.secondary_yaxis('right', functions=(num2pct, pct2num))\n",
    "    pctax.set_ylabel('% of TF genes')\n",
    "    pctax.set_yticks(range(0, 46, 5), minor=True)\n",
    "fig.savefig('../../figures/fig1/n-isoforms-per-gene_by-1TPM-cutoff_hist-GTEx.pdf',\n",
    "            bbox_inches='tight')"
   ]
  },
  {
   "cell_type": "markdown",
   "metadata": {},
   "source": [
    "### GTEx: downsample"
   ]
  },
  {
   "cell_type": "code",
   "execution_count": 40,
   "metadata": {},
   "outputs": [
    {
     "data": {
      "image/png": "[encoded data removed]",
      "text/plain": [
       "<Figure size 237.6x158.4 with 2 Axes>"
      ]
     },
     "metadata": {},
     "output_type": "display_data"
    }
   ],
   "source": [
    "# plot number of isoforms above 1 TPM\n",
    "\n",
    "fig, axs = plt.subplots(2, 1, sharex=False, figsize=(3.3, 2.2))\n",
    "\n",
    "n_iso = (means_gtex_downsample > 1).any(axis=1).groupby(genes_gtex).size()\n",
    "x_max = n_iso.max()\n",
    "xs = range(0, x_max + 1)\n",
    "axs[0].bar(x=xs, height=[n_iso.value_counts().to_dict().get(x, 0) for x in xs])\n",
    "\n",
    "n_iso = (means_gtex_downsample > 1).any(axis=1).groupby(genes_gtex).sum()\n",
    "axs[1].bar(x=xs, height=[n_iso.value_counts().to_dict().get(x, 0) for x in xs])\n",
    "\n",
    "axs[1].set_xticks(xs)\n",
    "axs[1].set_xlabel('Unique protein isoforms per gene')\n",
    "axs[0].text(x=7, y=400, s='All isoforms')\n",
    "axs[1].text(x=7, y=400, s='≥ 1 TPM in at least one GTEx down-sampled tissue')\n",
    "\n",
    "for ax in axs:\n",
    "    ax.set_ylim(0, 800)\n",
    "    ax.set_yticks(range(0, 800, 100), minor=True)\n",
    "    ax.set_ylabel('TF genes_gtex')\n",
    "    for pos in ['top', 'right', 'bottom']:\n",
    "        ax.spines[pos].set_visible(False)\n",
    "    ax.xaxis.set_tick_params(length=0)\n",
    "    pctax = ax.secondary_yaxis('right', functions=(num2pct, pct2num))\n",
    "    pctax.set_ylabel('% of TF genes_gtex')\n",
    "    pctax.set_yticks(range(0, 46, 5), minor=True)\n",
    "fig.savefig('../../figures/fig1/n-isoforms-per-gene_by-1TPM-cutoff_hist-GTEx_downsamp.pdf',\n",
    "            bbox_inches='tight')"
   ]
  },
  {
   "cell_type": "markdown",
   "metadata": {},
   "source": [
    "### Dev"
   ]
  },
  {
   "cell_type": "code",
   "execution_count": 41,
   "metadata": {},
   "outputs": [
    {
     "data": {
      "image/png": "[encoded data removed]",
      "text/plain": [
       "<Figure size 237.6x158.4 with 2 Axes>"
      ]
     },
     "metadata": {},
     "output_type": "display_data"
    }
   ],
   "source": [
    "# plot number of isoforms above 1 TPM\n",
    "\n",
    "fig, axs = plt.subplots(2, 1, sharex=False, figsize=(3.3, 2.2))\n",
    "\n",
    "n_iso = (means_dev > 1).any(axis=1).groupby(genes_dev).size()\n",
    "x_max = n_iso.max()\n",
    "xs = range(0, x_max + 1)\n",
    "axs[0].bar(x=xs, height=[n_iso.value_counts().to_dict().get(x, 0) for x in xs])\n",
    "\n",
    "n_iso = (means_dev > 1).any(axis=1).groupby(genes_dev).sum()\n",
    "axs[1].bar(x=xs, height=[n_iso.value_counts().to_dict().get(x, 0) for x in xs])\n",
    "\n",
    "axs[1].set_xticks(xs)\n",
    "axs[1].set_xlabel('Unique protein isoforms per gene')\n",
    "axs[0].text(x=7, y=400, s='All isoforms')\n",
    "axs[1].text(x=7, y=400, s='≥ 1 TPM in at least one dev tissue')\n",
    "\n",
    "for ax in axs:\n",
    "    ax.set_ylim(0, 800)\n",
    "    ax.set_yticks(range(0, 800, 100), minor=True)\n",
    "    ax.set_ylabel('TF genes_dev')\n",
    "    for pos in ['top', 'right', 'bottom']:\n",
    "        ax.spines[pos].set_visible(False)\n",
    "    ax.xaxis.set_tick_params(length=0)\n",
    "    pctax = ax.secondary_yaxis('right', functions=(num2pct, pct2num))\n",
    "    pctax.set_ylabel('% of TF genes_dev')\n",
    "    pctax.set_yticks(range(0, 46, 5), minor=True)\n",
    "fig.savefig('../../figures/fig1/n-isoforms-per-gene_by-1TPM-cutoff_hist-GTEx_dev.pdf',\n",
    "            bbox_inches='tight')"
   ]
  },
  {
   "cell_type": "markdown",
   "metadata": {},
   "source": [
    "## 5. ref v alt 2D heatmaps: max expression"
   ]
  },
  {
   "cell_type": "code",
   "execution_count": 42,
   "metadata": {},
   "outputs": [
    {
     "name": "stdout",
     "output_type": "stream",
     "text": [
      "832\n",
      "811\n"
     ]
    },
    {
     "data": {
      "text/html": [
       "<div>\n",
       "<style scoped>\n",
       "    .dataframe tbody tr th:only-of-type {\n",
       "        vertical-align: middle;\n",
       "    }\n",
       "\n",
       "    .dataframe tbody tr th {\n",
       "        vertical-align: top;\n",
       "    }\n",
       "\n",
       "    .dataframe thead th {\n",
       "        text-align: right;\n",
       "    }\n",
       "</style>\n",
       "<table border=\"1\" class=\"dataframe\">\n",
       "  <thead>\n",
       "    <tr style=\"text-align: right;\">\n",
       "      <th></th>\n",
       "      <th>ref</th>\n",
       "      <th>gene</th>\n",
       "      <th>alt</th>\n",
       "    </tr>\n",
       "  </thead>\n",
       "  <tbody>\n",
       "    <tr>\n",
       "      <th>0</th>\n",
       "      <td>CREB1-201|CREB1-205</td>\n",
       "      <td>CREB1</td>\n",
       "      <td>CREB1-206</td>\n",
       "    </tr>\n",
       "    <tr>\n",
       "      <th>1</th>\n",
       "      <td>THAP6-201|THAP6-213</td>\n",
       "      <td>THAP6</td>\n",
       "      <td>THAP6-203</td>\n",
       "    </tr>\n",
       "    <tr>\n",
       "      <th>2</th>\n",
       "      <td>THAP6-201|THAP6-213</td>\n",
       "      <td>THAP6</td>\n",
       "      <td>THAP6-211</td>\n",
       "    </tr>\n",
       "    <tr>\n",
       "      <th>3</th>\n",
       "      <td>THAP6-201|THAP6-213</td>\n",
       "      <td>THAP6</td>\n",
       "      <td>THAP6-205</td>\n",
       "    </tr>\n",
       "    <tr>\n",
       "      <th>4</th>\n",
       "      <td>THAP6-201|THAP6-213</td>\n",
       "      <td>THAP6</td>\n",
       "      <td>THAP6-212</td>\n",
       "    </tr>\n",
       "  </tbody>\n",
       "</table>\n",
       "</div>"
      ],
      "text/plain": [
       "                   ref   gene        alt\n",
       "0  CREB1-201|CREB1-205  CREB1  CREB1-206\n",
       "1  THAP6-201|THAP6-213  THAP6  THAP6-203\n",
       "2  THAP6-201|THAP6-213  THAP6  THAP6-211\n",
       "3  THAP6-201|THAP6-213  THAP6  THAP6-205\n",
       "4  THAP6-201|THAP6-213  THAP6  THAP6-212"
      ]
     },
     "execution_count": 42,
     "metadata": {},
     "output_type": "execute_result"
    }
   ],
   "source": [
    "ref_alt_map = pd.DataFrame([ref_isos]).T\n",
    "ref_alt_map.columns = [\"ref\"]\n",
    "ref_alt_map[\"gene\"] = ref_alt_map[\"ref\"].str.split(\"|\", expand=True)[0].str[:-4]\n",
    "\n",
    "alt_isos_df = pd.DataFrame([alt_isos]).T\n",
    "alt_isos_df.columns = [\"alt\"]\n",
    "alt_isos_df[\"gene\"] = alt_isos_df[\"alt\"].str.split(\"|\", expand=True)[0].str[:-4]\n",
    "\n",
    "ref_alt_map = ref_alt_map.merge(alt_isos_df, on=\"gene\", how=\"left\")\n",
    "print(len(ref_alt_map))\n",
    "ref_alt_map_nonan = ref_alt_map[~pd.isnull(ref_alt_map[\"alt\"])]\n",
    "print(len(ref_alt_map_nonan))\n",
    "ref_alt_map_nonan.head()"
   ]
  },
  {
   "cell_type": "code",
   "execution_count": 43,
   "metadata": {},
   "outputs": [
    {
     "data": {
      "text/html": [
       "<div>\n",
       "<style scoped>\n",
       "    .dataframe tbody tr th:only-of-type {\n",
       "        vertical-align: middle;\n",
       "    }\n",
       "\n",
       "    .dataframe tbody tr th {\n",
       "        vertical-align: top;\n",
       "    }\n",
       "\n",
       "    .dataframe thead th {\n",
       "        text-align: right;\n",
       "    }\n",
       "</style>\n",
       "<table border=\"1\" class=\"dataframe\">\n",
       "  <thead>\n",
       "    <tr style=\"text-align: right;\">\n",
       "      <th></th>\n",
       "      <th>ref</th>\n",
       "      <th>gene</th>\n",
       "      <th>alt</th>\n",
       "    </tr>\n",
       "  </thead>\n",
       "  <tbody>\n",
       "    <tr>\n",
       "      <th>629</th>\n",
       "      <td>NKX2-5-201</td>\n",
       "      <td>NKX2-5</td>\n",
       "      <td>NKX2-5-204</td>\n",
       "    </tr>\n",
       "    <tr>\n",
       "      <th>630</th>\n",
       "      <td>NKX2-5-201</td>\n",
       "      <td>NKX2-5</td>\n",
       "      <td>NKX2-5-202</td>\n",
       "    </tr>\n",
       "  </tbody>\n",
       "</table>\n",
       "</div>"
      ],
      "text/plain": [
       "            ref    gene         alt\n",
       "629  NKX2-5-201  NKX2-5  NKX2-5-204\n",
       "630  NKX2-5-201  NKX2-5  NKX2-5-202"
      ]
     },
     "execution_count": 43,
     "metadata": {},
     "output_type": "execute_result"
    }
   ],
   "source": [
    "ref_alt_map_nonan[ref_alt_map_nonan[\"gene\"] == \"NKX2-5\"]"
   ]
  },
  {
   "cell_type": "markdown",
   "metadata": {},
   "source": [
    "### GTEx: all"
   ]
  },
  {
   "cell_type": "code",
   "execution_count": 44,
   "metadata": {},
   "outputs": [
    {
     "name": "stdout",
     "output_type": "stream",
     "text": [
      "11.0\n",
      "0.002100889578084188\n"
     ]
    }
   ],
   "source": [
    "means_gtex[\"max_gtex\"] = means_gtex.max(axis=1)\n",
    "means_gtex[\"min_gtex\"] = means_gtex.min(axis=1)\n",
    "\n",
    "# max out anything above 11 (2000 tpm) to make plots more readable, as luke did above\n",
    "means_gtex[means_gtex[\"max_gtex\"] > 11] = 11\n",
    "\n",
    "print(means_gtex[\"max_gtex\"].max())\n",
    "print(means_gtex[\"max_gtex\"].min())\n",
    "means_gtex_ri = means_gtex.reset_index()\n",
    "means_gtex_ri[\"UID_rep\"] = means_gtex_ri[\"UID\"].str.replace(\"_\", \"|\")"
   ]
  },
  {
   "cell_type": "code",
   "execution_count": 45,
   "metadata": {},
   "outputs": [],
   "source": [
    "ref_alt_map_nonan = ref_alt_map_nonan.merge(means_gtex_ri[[\"UID_rep\", \"max_gtex\", \"min_gtex\"]], left_on=\"ref\", \n",
    "                                            right_on=\"UID_rep\", how=\"inner\")\n",
    "ref_alt_map_nonan = ref_alt_map_nonan.merge(means_gtex_ri[[\"UID_rep\", \"max_gtex\", \"min_gtex\"]], left_on=\"alt\", \n",
    "                                            right_on=\"UID_rep\", suffixes=(\"_ref\", \"_alt\"), how=\"inner\")"
   ]
  },
  {
   "cell_type": "code",
   "execution_count": 46,
   "metadata": {},
   "outputs": [
    {
     "name": "stdout",
     "output_type": "stream",
     "text": [
      "618\n",
      "193\n"
     ]
    },
    {
     "data": {
      "image/png": "[encoded data removed]",
      "text/plain": [
       "<Figure size 144x108 with 2 Axes>"
      ]
     },
     "metadata": {},
     "output_type": "display_data"
    }
   ],
   "source": [
    "fig = plt.figure(figsize=(2, 1.5))\n",
    "\n",
    "ax = sns.histplot(data=ref_alt_map_nonan, x=\"max_gtex_ref\", y=\"max_gtex_alt\",\n",
    "                  bins=30, cbar=True, cbar_kws={\"label\": \"# isoform pairs\",\n",
    "                                                \"ticks\": [0, 5, 10, 15, 20, 25, 30]}, cmap=\"rocket_r\",\n",
    "                  vmin=0, vmax=30)\n",
    "\n",
    "ax.set_xlim((-0.3, 11.5))\n",
    "ax.set_ylim((-0.3, 11.5))\n",
    "ax.set_xlabel(\"max expression of ref\")\n",
    "ax.set_ylabel(\"max expression of alt\")\n",
    "ax.set_title(\"GTEx dataset\\n(n=%s ref/alt pairs)\" % len(ref_alt_map_nonan))\n",
    "\n",
    "ticks = [0, 1, 5, 10, 100, 400, 2000]\n",
    "ticklabels = [0, 1, 5, 10, 100, 400, \"2000+\"]\n",
    "ax.set_xticks([np.log2(x + 1) for x in ticks])\n",
    "ax.set_xticklabels(ticklabels)\n",
    "ax.set_yticks([np.log2(y + 1) for y in ticks])\n",
    "ax.set_yticklabels(ticklabels)\n",
    "ax.tick_params(axis='x', labelsize=fontsize-2)\n",
    "ax.tick_params(axis='y', labelsize=fontsize-2)\n",
    "\n",
    "cbar = ax.collections[0].colorbar\n",
    "cbar.set_ticklabels([\"0\", \"5\", \"10\", \"15\", \"20\", \"25\", \"30+\"])\n",
    "\n",
    "# find num where ref > alt\n",
    "ra = len(ref_alt_map_nonan[ref_alt_map_nonan[\"max_gtex_ref\"] > ref_alt_map_nonan[\"max_gtex_alt\"]])\n",
    "print(ra)\n",
    "#ax.text(8.5, 7, \"%s\\n(%s%%)\" % (ra, round(ra/len(ref_alt_map_nonan), 2)*100), ha=\"left\", va=\"bottom\")\n",
    "\n",
    "# find num where alt > ref\n",
    "ar = len(ref_alt_map_nonan[ref_alt_map_nonan[\"max_gtex_ref\"] < ref_alt_map_nonan[\"max_gtex_alt\"]])\n",
    "print(ar)\n",
    "#ax.text(9, 10.5, \"%s\\n(%s%%)\" % (ar, round(ar/len(ref_alt_map_nonan), 2)*100), ha=\"right\", va=\"top\")\n",
    "\n",
    "ax.plot([-0.3,11.5], [-0.3, 11.5], color=\"black\", linestyle=\"dashed\")\n",
    "\n",
    "fig.savefig('../../figures/fig1/expression-scatter-ref_v_alt-gtex.pdf',\n",
    "            bbox_inches='tight')"
   ]
  },
  {
   "cell_type": "markdown",
   "metadata": {},
   "source": [
    "### GTEx: downsampled"
   ]
  },
  {
   "cell_type": "code",
   "execution_count": 47,
   "metadata": {},
   "outputs": [
    {
     "name": "stdout",
     "output_type": "stream",
     "text": [
      "11.0\n",
      "0.0\n"
     ]
    }
   ],
   "source": [
    "means_gtex_downsample[\"max_gtex_downsample\"] = means_gtex_downsample.max(axis=1)\n",
    "means_gtex_downsample[\"min_gtex_downsample\"] = means_gtex_downsample.min(axis=1)\n",
    "\n",
    "# max out anything above 11 (2000 tpm) to make plots more readable, as luke did above\n",
    "means_gtex_downsample[means_gtex_downsample[\"max_gtex_downsample\"] > 11] = 11\n",
    "\n",
    "print(means_gtex_downsample[\"max_gtex_downsample\"].max())\n",
    "print(means_gtex_downsample[\"max_gtex_downsample\"].min())\n",
    "means_gtex_downsample_ri = means_gtex_downsample.reset_index()\n",
    "means_gtex_downsample_ri[\"UID_rep\"] = means_gtex_downsample_ri[\"UID\"].str.replace(\"_\", \"|\")"
   ]
  },
  {
   "cell_type": "code",
   "execution_count": 48,
   "metadata": {},
   "outputs": [],
   "source": [
    "ref_alt_map_nonan = ref_alt_map_nonan.merge(means_gtex_downsample_ri[[\"UID_rep\", \"max_gtex_downsample\",\n",
    "                                                                      \"min_gtex_downsample\"]], \n",
    "                                            left_on=\"ref\", right_on=\"UID_rep\", how=\"inner\")\n",
    "ref_alt_map_nonan = ref_alt_map_nonan.merge(means_gtex_downsample_ri[[\"UID_rep\", \"max_gtex_downsample\",\n",
    "                                                                      \"min_gtex_downsample\"]], \n",
    "                                            left_on=\"alt\", right_on=\"UID_rep\", suffixes=(\"_ref\", \"_alt\"), how=\"inner\")"
   ]
  },
  {
   "cell_type": "code",
   "execution_count": 49,
   "metadata": {},
   "outputs": [
    {
     "name": "stdout",
     "output_type": "stream",
     "text": [
      "622\n",
      "189\n"
     ]
    },
    {
     "data": {
      "image/png": "[encoded data removed]",
      "text/plain": [
       "<Figure size 144x108 with 2 Axes>"
      ]
     },
     "metadata": {},
     "output_type": "display_data"
    }
   ],
   "source": [
    "fig = plt.figure(figsize=(2, 1.5))\n",
    "\n",
    "ax = sns.histplot(data=ref_alt_map_nonan, x=\"max_gtex_downsample_ref\", y=\"max_gtex_downsample_alt\",\n",
    "                  bins=30, cbar=True, cbar_kws={\"label\": \"# isoform pairs\",\n",
    "                                                \"ticks\": [0, 5, 10, 15, 20, 25, 30]}, cmap=\"rocket_r\",\n",
    "                  vmin=0, vmax=30)\n",
    "\n",
    "ax.set_xlim((-0.3, 11.5))\n",
    "ax.set_ylim((-0.3, 11.5))\n",
    "ax.set_xlabel(\"max tpm of ref\")\n",
    "ax.set_ylabel(\"max tpm of alt\")\n",
    "ax.set_title(\"(n=%s ref/alt pairs)\" % len(ref_alt_map_nonan))\n",
    "\n",
    "ticks = [0, 1, 5, 10, 100, 400, 2000]\n",
    "ticklabels = [0, 1, 5, 10, 100, 400, \"2000+\"]\n",
    "ax.set_xticks([np.log2(x + 1) for x in ticks])\n",
    "ax.set_xticklabels(ticklabels)\n",
    "ax.set_yticks([np.log2(y + 1) for y in ticks])\n",
    "ax.set_yticklabels(ticklabels)\n",
    "ax.tick_params(axis='x', labelsize=fontsize-2)\n",
    "ax.tick_params(axis='y', labelsize=fontsize-2)\n",
    "\n",
    "cbar = ax.collections[0].colorbar\n",
    "cbar.set_ticklabels([\"0\", \"5\", \"10\", \"15\", \"20\", \"25\", \"30+\"])\n",
    "\n",
    "# find num where ref > alt\n",
    "ra = len(ref_alt_map_nonan[ref_alt_map_nonan[\"max_gtex_downsample_ref\"] > ref_alt_map_nonan[\"max_gtex_downsample_alt\"]])\n",
    "print(ra)\n",
    "#ax.text(8.5, 7, \"%s\\n(%s%%)\" % (ra, round(ra/len(ref_alt_map_nonan), 2)*100), ha=\"left\", va=\"bottom\")\n",
    "\n",
    "# find num where alt > ref\n",
    "ar = len(ref_alt_map_nonan[ref_alt_map_nonan[\"max_gtex_downsample_ref\"] < ref_alt_map_nonan[\"max_gtex_downsample_alt\"]])\n",
    "print(ar)\n",
    "#ax.text(9, 10.5, \"%s\\n(%s%%)\" % (ar, round(ar/len(ref_alt_map_nonan), 2)*100), ha=\"right\", va=\"top\")\n",
    "\n",
    "ax.plot([-0.3,11.5], [-0.3, 11.5], color=\"black\", linestyle=\"dashed\")\n",
    "\n",
    "fig.savefig('../../figures/fig1/expression-scatter-ref_v_alt-gtex-downsample.pdf',\n",
    "            bbox_inches='tight')"
   ]
  },
  {
   "cell_type": "markdown",
   "metadata": {},
   "source": [
    "### Dev"
   ]
  },
  {
   "cell_type": "code",
   "execution_count": 50,
   "metadata": {},
   "outputs": [
    {
     "name": "stdout",
     "output_type": "stream",
     "text": [
      "11.0\n",
      "0.00012575193977454864\n"
     ]
    }
   ],
   "source": [
    "means_dev[\"max_dev\"] = means_dev.max(axis=1)\n",
    "means_dev[\"min_dev\"] = means_dev.min(axis=1)\n",
    "\n",
    "# max out anything above 11 (2000 tpm) to make plots more readable, as luke did above\n",
    "means_dev[means_dev[\"max_dev\"] > 11] = 11\n",
    "\n",
    "print(means_dev[\"max_dev\"].max())\n",
    "print(means_dev[\"max_dev\"].min())\n",
    "means_dev_ri = means_dev.reset_index()\n",
    "means_dev_ri[\"UID_rep\"] = means_dev_ri[\"UID\"].str.replace(\"_\", \"|\")"
   ]
  },
  {
   "cell_type": "code",
   "execution_count": 51,
   "metadata": {},
   "outputs": [],
   "source": [
    "ref_alt_map_nonan = ref_alt_map_nonan.merge(means_dev_ri[[\"UID_rep\", \"max_dev\", \"min_dev\"]], left_on=\"ref\", \n",
    "                                            right_on=\"UID_rep\", how=\"inner\")\n",
    "ref_alt_map_nonan = ref_alt_map_nonan.merge(means_dev_ri[[\"UID_rep\", \"max_dev\", \"min_dev\"]], left_on=\"alt\", \n",
    "                                            right_on=\"UID_rep\", suffixes=(\"_ref\", \"_alt\"), how=\"inner\")"
   ]
  },
  {
   "cell_type": "code",
   "execution_count": 52,
   "metadata": {},
   "outputs": [
    {
     "name": "stdout",
     "output_type": "stream",
     "text": [
      "606\n",
      "204\n"
     ]
    }
   ],
   "source": [
    "fig = plt.figure(figsize=(2, 1.5))\n",
    "\n",
    "ax = sns.histplot(data=ref_alt_map_nonan, x=\"max_dev_ref\", y=\"max_dev_alt\",\n",
    "                  bins=30, cbar=True, cbar_kws={\"label\": \"# isoform pairs\",\n",
    "                                                \"ticks\": [0, 5, 10, 15, 20, 25, 30]}, cmap=\"rocket_r\",\n",
    "                  vmin=0, vmax=30)\n",
    "\n",
    "ax.set_xlim((-0.3, 11.5))\n",
    "ax.set_ylim((-0.3, 11.5))\n",
    "ax.set_xlabel(\"max tpm of ref\")\n",
    "ax.set_ylabel(\"max tpm of alt\")\n",
    "ax.set_title(\"n=%s ref/alt pairs\" % len(ref_alt_map_nonan))\n",
    "\n",
    "ticks = [0, 1, 5, 10, 100, 400, 2000]\n",
    "ticklabels = [0, 1, 5, 10, 100, 400, \"2000+\"]\n",
    "ax.set_xticks([np.log2(x + 1) for x in ticks])\n",
    "ax.set_xticklabels(ticklabels)\n",
    "ax.set_yticks([np.log2(y + 1) for y in ticks])\n",
    "ax.set_yticklabels(ticklabels)\n",
    "ax.tick_params(axis='x', labelsize=fontsize-2)\n",
    "ax.tick_params(axis='y', labelsize=fontsize-2)\n",
    "\n",
    "cbar = ax.collections[0].colorbar\n",
    "cbar.set_ticklabels([\"0\", \"5\", \"10\", \"15\", \"20\", \"25\", \"30+\"])\n",
    "\n",
    "# find num where ref > alt\n",
    "ra = len(ref_alt_map_nonan[ref_alt_map_nonan[\"max_dev_ref\"] > ref_alt_map_nonan[\"max_dev_alt\"]])\n",
    "print(ra)\n",
    "#ax.text(8.5, 7, \"%s\\n(%s%%)\" % (ra, round(ra/len(ref_alt_map_nonan), 2)*100), ha=\"left\", va=\"bottom\")\n",
    "\n",
    "# find num where alt > ref\n",
    "ar = len(ref_alt_map_nonan[ref_alt_map_nonan[\"max_dev_ref\"] < ref_alt_map_nonan[\"max_dev_alt\"]])\n",
    "print(ar)\n",
    "#ax.text(9, 10.5, \"%s\\n(%s%%)\" % (ar, round(ar/len(ref_alt_map_nonan), 2)*100), ha=\"right\", va=\"top\")\n",
    "\n",
    "ax.plot([-0.3,11.5], [-0.3, 11.5], color=\"black\", linestyle=\"dashed\")\n",
    "\n",
    "fig.savefig('../../figures/fig1/expression-scatter-ref_v_alt-dev.pdf',\n",
    "            bbox_inches='tight')"
   ]
  },
  {
   "cell_type": "markdown",
   "metadata": {},
   "source": [
    "## 6. per isoform: max v min ratio\n",
    "\n",
    "removing NaNs - not counting anything where *gene* expression < 1"
   ]
  },
  {
   "cell_type": "markdown",
   "metadata": {},
   "source": [
    "### GTEx: all"
   ]
  },
  {
   "cell_type": "code",
   "execution_count": 53,
   "metadata": {},
   "outputs": [],
   "source": [
    "# percentage of alternative isoform\n",
    "# plot distribution of fraction of gene expression for ref and alt\n",
    "\n",
    "# fraction where gene tpm > 1\n",
    "\n",
    "per_gene_gtex = ((2 ** df_gtex - 1)\n",
    "                .groupby(genes_gtex)\n",
    "                .transform('sum'))\n",
    "f_gtex = (((2 ** df_gtex - 1) / per_gene_gtex)\n",
    "        .groupby(df_gtex.columns.map(metadata_gtex['body_site']), axis=1)\n",
    "        .mean())\n",
    "f_gtex = f_gtex * (per_gene_gtex.groupby(df_gtex.columns.map(metadata_gtex['body_site']), axis=1).mean() >= 1).applymap(lambda x: {False: np.nan, True: 1}[x])  # only count fractions if gene TPM is >= 1\n",
    "\n",
    "f_gtex = f_gtex * 100"
   ]
  },
  {
   "cell_type": "code",
   "execution_count": 54,
   "metadata": {},
   "outputs": [],
   "source": [
    "print(len(f_gtex))\n",
    "f_gtex[\"max_ratio_gtex\"] = f_gtex.max(axis=1)\n",
    "f_gtex[\"min_ratio_gtex\"] = f_gtex.min(axis=1)\n",
    "f_gtex_nonan = f_gtex[(~pd.isnull(f_gtex[\"max_ratio_gtex\"])) & (~pd.isnull(f_gtex[\"min_ratio_gtex\"]))]\n",
    "print(len(f_gtex_nonan))\n",
    "\n",
    "f_gtex_ri = f_gtex_nonan.reset_index()\n",
    "f_gtex_ri[\"UID_rep\"] = f_gtex_ri[\"UID\"].str.replace(\"_\", \"|\")"
   ]
  },
  {
   "cell_type": "code",
   "execution_count": 55,
   "metadata": {},
   "outputs": [],
   "source": [
    "ref_alt_map_nonan = ref_alt_map_nonan.merge(f_gtex_ri[[\"UID_rep\", \"max_ratio_gtex\", \"min_ratio_gtex\"]], left_on=\"ref\", \n",
    "                                            right_on=\"UID_rep\", how=\"left\")\n",
    "ref_alt_map_nonan = ref_alt_map_nonan.merge(f_gtex_ri[[\"UID_rep\", \"max_ratio_gtex\", \"min_ratio_gtex\"]], left_on=\"alt\", \n",
    "                                            right_on=\"UID_rep\", suffixes=(\"_ref\", \"_alt\"), how=\"left\")"
   ]
  },
  {
   "cell_type": "code",
   "execution_count": null,
   "metadata": {},
   "outputs": [],
   "source": [
    "fig = plt.figure(figsize=(2, 1.5))\n",
    "\n",
    "df = ref_alt_map_nonan[[\"ref\", \"min_ratio_gtex_ref\", \"max_ratio_gtex_ref\"]].drop_duplicates()\n",
    "df = df[(~pd.isnull(df[\"min_ratio_gtex_ref\"])) & (~pd.isnull(df[\"max_ratio_gtex_ref\"]))]\n",
    "\n",
    "ax = sns.histplot(data=df, x=\"min_ratio_gtex_ref\", y=\"max_ratio_gtex_ref\",\n",
    "                  bins=30, cbar=True, cmap=\"rocket_r\", vmin=0, vmax=120, cbar_kws={\"label\": \"# isoform pairs\",\n",
    "                                                                                   \"ticks\": [0, 20, 40, 60,\n",
    "                                                                                             80, 100, 120]})\n",
    "cbar = ax.collections[0].colorbar\n",
    "cbar.set_ticklabels([\"0\", \"20\", \"40\", \"60\", \"80\", \"100\", \"120+\"])\n",
    "ax.set_xlim((-2, 102))\n",
    "ax.set_ylim((-2, 102))\n",
    "ax.set_xticks([0, 20, 40, 60, 80, 100])\n",
    "ax.set_yticks([0, 20, 40, 60, 80, 100])\n",
    "ax.set_xlabel(\"max isoform fraction\")\n",
    "ax.set_ylabel(\"min isoform fraction\")\n",
    "ax.set_title(\"n=%s ref isoforms\" % len(df))\n",
    "\n",
    "fig.savefig('../../figures/fig1/expression-ratio-scatter-ref-gtex.pdf',\n",
    "            bbox_inches='tight')"
   ]
  },
  {
   "cell_type": "code",
   "execution_count": null,
   "metadata": {},
   "outputs": [],
   "source": [
    "fig = plt.figure(figsize=(2, 1.5))\n",
    "\n",
    "df = ref_alt_map_nonan[[\"alt\", \"min_ratio_gtex_alt\", \"max_ratio_gtex_alt\"]].drop_duplicates()\n",
    "df = df[(~pd.isnull(df[\"min_ratio_gtex_alt\"])) & (~pd.isnull(df[\"max_ratio_gtex_alt\"]))]\n",
    "\n",
    "ax = sns.histplot(data=ref_alt_map_nonan, x=\"min_ratio_gtex_alt\", y=\"max_ratio_gtex_alt\",\n",
    "                  bins=30, cbar=True, cmap=\"rocket_r\", vmin=0, vmax=120, cbar_kws={\"label\": \"# isoform pairs\",\n",
    "                                                                                   \"ticks\": [0, 20, 40, 60,\n",
    "                                                                                             80, 100, 120]})\n",
    "cbar = ax.collections[0].colorbar\n",
    "cbar.set_ticklabels([\"0\", \"20\", \"40\", \"60\", \"80\", \"100\", \"120+\"])\n",
    "ax.set_xlim((-2, 102))\n",
    "ax.set_ylim((-2, 102))\n",
    "ax.set_xticks([0, 20, 40, 60, 80, 100])\n",
    "ax.set_yticks([0, 20, 40, 60, 80, 100])\n",
    "ax.set_xlabel(\"min isoform fraction\")\n",
    "ax.set_ylabel(\"max isoform fraction\")\n",
    "ax.set_title(\"n=%s alt isoforms\" % len(df))\n",
    "fig.savefig('../../figures/fig1/expression-ratio-scatter-alt-gtex.pdf',\n",
    "            bbox_inches='tight')"
   ]
  },
  {
   "cell_type": "markdown",
   "metadata": {},
   "source": [
    "### GTEx: downsample"
   ]
  },
  {
   "cell_type": "code",
   "execution_count": null,
   "metadata": {},
   "outputs": [],
   "source": [
    "MIN_THRESH = 20\n",
    "MAX_THRESH = 80"
   ]
  },
  {
   "cell_type": "code",
   "execution_count": null,
   "metadata": {},
   "outputs": [],
   "source": [
    "# percentage of alternative isoform\n",
    "# plot distribution of fraction of gene expression for ref and alt\n",
    "\n",
    "# has to be fraction where isoform TPM is at least 1, right (fill na with 0)\n",
    "\n",
    "per_gene_gtex = ((2 ** df_gtex - 1)\n",
    "                .groupby(genes_gtex)\n",
    "                .transform('sum'))\n",
    "f_gtex_downsample = (((2 ** df_gtex - 1) / per_gene_gtex)\n",
    "        .groupby(df_gtex.columns.map(metadata_gtex_dummy['body_site']), axis=1)\n",
    "        .mean())\n",
    "f_gtex_downsample = f_gtex_downsample * (per_gene_gtex.groupby(df_gtex.columns.map(metadata_gtex_dummy['body_site']), axis=1).mean() >= 1).applymap(lambda x: {False: np.nan, True: 1}[x])  # only count fractions if gene TPM is >= 1\n",
    "\n",
    "f_gtex_downsample = f_gtex_downsample * 100"
   ]
  },
  {
   "cell_type": "code",
   "execution_count": null,
   "metadata": {},
   "outputs": [],
   "source": [
    "print(len(f_gtex_downsample))\n",
    "f_gtex_downsample[\"max_ratio_gtex_downsample\"] = f_gtex_downsample.max(axis=1)\n",
    "f_gtex_downsample[\"min_ratio_gtex_downsample\"] = f_gtex_downsample.min(axis=1)\n",
    "f_gtex_downsample_nonan = f_gtex_downsample[(~pd.isnull(f_gtex_downsample[\"max_ratio_gtex_downsample\"])) & \n",
    "                                            (~pd.isnull(f_gtex_downsample[\"min_ratio_gtex_downsample\"]))]\n",
    "print(len(f_gtex_downsample_nonan))\n",
    "\n",
    "f_gtex_downsample_ri = f_gtex_downsample_nonan.reset_index()\n",
    "f_gtex_downsample_ri[\"UID_rep\"] = f_gtex_downsample_ri[\"UID\"].str.replace(\"_\", \"|\")"
   ]
  },
  {
   "cell_type": "code",
   "execution_count": null,
   "metadata": {},
   "outputs": [],
   "source": [
    "ref_alt_map_nonan = ref_alt_map_nonan.merge(f_gtex_downsample_ri[[\"UID_rep\", \"max_ratio_gtex_downsample\", \n",
    "                                                       \"min_ratio_gtex_downsample\"]], left_on=\"ref\", \n",
    "                                            right_on=\"UID_rep\", how=\"left\")\n",
    "ref_alt_map_nonan = ref_alt_map_nonan.merge(f_gtex_downsample_ri[[\"UID_rep\", \"max_ratio_gtex_downsample\", \n",
    "                                                                  \"min_ratio_gtex_downsample\"]], left_on=\"alt\", \n",
    "                                            right_on=\"UID_rep\", suffixes=(\"_ref\", \"_alt\"), how=\"left\")"
   ]
  },
  {
   "cell_type": "code",
   "execution_count": null,
   "metadata": {},
   "outputs": [],
   "source": [
    "fig = plt.figure(figsize=(2, 1.5))\n",
    "\n",
    "df = ref_alt_map_nonan[[\"ref\", \"min_ratio_gtex_downsample_ref\", \"max_ratio_gtex_downsample_ref\"]].drop_duplicates()\n",
    "df = df[(~pd.isnull(df[\"min_ratio_gtex_downsample_ref\"])) & (~pd.isnull(df[\"max_ratio_gtex_downsample_ref\"]))]\n",
    "\n",
    "n_switches = df[(df[\"min_ratio_gtex_downsample_ref\"] < MIN_THRESH) & (df[\"max_ratio_gtex_downsample_ref\"] > MAX_THRESH)]\n",
    "n_off = df[(df[\"min_ratio_gtex_downsample_ref\"] < MIN_THRESH) & (df[\"max_ratio_gtex_downsample_ref\"] < MIN_THRESH)]\n",
    "print(len(n_switches))\n",
    "p_switches_ref_gtex_ds = len(n_switches)/len(df)\n",
    "p_off_ref_gtex_ds = len(n_off)/len(df)\n",
    "\n",
    "ax = sns.histplot(data=df, x=\"min_ratio_gtex_downsample_ref\", y=\"max_ratio_gtex_downsample_ref\",\n",
    "                  bins=30, cbar=True, cmap=\"mako_r\", vmin=0, vmax=120, cbar_kws={\"label\": \"# isoform pairs\",\n",
    "                                                                                   \"ticks\": [0, 20, 40, 60,\n",
    "                                                                                             80, 100, 120]})\n",
    "cbar = ax.collections[0].colorbar\n",
    "cbar.set_ticklabels([\"0\", \"20\", \"40\", \"60\", \"80\", \"100\", \"120+\"])\n",
    "ax.set_xlim((-2, 102))\n",
    "ax.set_ylim((-2, 102))\n",
    "ax.set_xticks([0, 20, 40, 60, 80, 100])\n",
    "ax.set_yticks([0, 20, 40, 60, 80, 100])\n",
    "ax.set_xlabel(\"min isoform fraction\")\n",
    "ax.set_ylabel(\"max isoform fraction\")\n",
    "ax.set_title(\"n=%s ref isoforms\" % len(df))\n",
    "fig.savefig('../../figures/fig1/expression-ratio-scatter-ref-gtex-downsample.pdf',\n",
    "            bbox_inches='tight')"
   ]
  },
  {
   "cell_type": "code",
   "execution_count": null,
   "metadata": {},
   "outputs": [],
   "source": [
    "fig = plt.figure(figsize=(2, 1.5))\n",
    "\n",
    "df = ref_alt_map_nonan[[\"alt\", \"min_ratio_gtex_downsample_alt\", \"max_ratio_gtex_downsample_alt\"]].drop_duplicates()\n",
    "df = df[(~pd.isnull(df[\"min_ratio_gtex_downsample_alt\"])) & (~pd.isnull(df[\"max_ratio_gtex_downsample_alt\"]))]\n",
    "\n",
    "n_switches = df[(df[\"min_ratio_gtex_downsample_alt\"] < MIN_THRESH) & (df[\"max_ratio_gtex_downsample_alt\"] > MAX_THRESH)]\n",
    "n_off = df[(df[\"min_ratio_gtex_downsample_alt\"] < MIN_THRESH) & (df[\"max_ratio_gtex_downsample_alt\"] < MIN_THRESH)]\n",
    "print(len(n_switches))\n",
    "p_switches_alt_gtex_ds = len(n_switches)/len(df)\n",
    "p_off_alt_gtex_ds = len(n_off)/len(df)\n",
    "\n",
    "ax = sns.histplot(data=ref_alt_map_nonan, x=\"min_ratio_gtex_downsample_alt\", y=\"max_ratio_gtex_downsample_alt\",\n",
    "                  bins=30, cbar=True, cmap=\"mako_r\", vmin=0, vmax=120, cbar_kws={\"label\": \"# isoform pairs\",\n",
    "                                                                                   \"ticks\": [0, 20, 40, 60,\n",
    "                                                                                             80, 100, 120]})\n",
    "cbar = ax.collections[0].colorbar\n",
    "cbar.set_ticklabels([\"0\", \"20\", \"40\", \"60\", \"80\", \"100\", \"120+\"])\n",
    "ax.set_xlim((-2, 102))\n",
    "ax.set_ylim((-2, 102))\n",
    "ax.set_xticks([0, 20, 40, 60, 80, 100])\n",
    "ax.set_yticks([0, 20, 40, 60, 80, 100])\n",
    "ax.set_xlabel(\"min isoform fraction\")\n",
    "ax.set_ylabel(\"max isoform fraction\")\n",
    "ax.set_title(\"n=%s alt isoforms\" % len(df))\n",
    "\n",
    "# add lines to distinguish events\n",
    "ax.plot([MIN_THRESH, 0], [MIN_THRESH, MIN_THRESH], linestyle=\"dotted\", color=\"black\")\n",
    "ax.plot([MIN_THRESH, MIN_THRESH], [0, MIN_THRESH], linestyle=\"dotted\", color=\"black\")\n",
    "ax.plot([0, MIN_THRESH], [MAX_THRESH, MAX_THRESH], linestyle=\"dotted\", color=\"black\")\n",
    "ax.plot([MIN_THRESH, MIN_THRESH], [MAX_THRESH, 100], linestyle=\"dotted\", color=\"black\")\n",
    "ax.text(MIN_THRESH, 5, \" low\", ha=\"left\", va=\"center\", fontstyle=\"italic\", color=\"slategrey\")\n",
    "ax.text(MIN_THRESH, MAX_THRESH+5, \" switch\", ha=\"left\", va=\"center\", fontstyle=\"italic\", color=sns.color_palette(\"mako\")[1])\n",
    "\n",
    "fig.savefig('../../figures/fig1/expression-ratio-scatter-alt-gtex-downsample.pdf',\n",
    "            bbox_inches='tight')"
   ]
  },
  {
   "cell_type": "markdown",
   "metadata": {},
   "source": [
    "### Dev"
   ]
  },
  {
   "cell_type": "code",
   "execution_count": null,
   "metadata": {},
   "outputs": [],
   "source": [
    "# percentage of alternative isoform\n",
    "# plot distribution of fraction of gene expression for ref and alt\n",
    "\n",
    "# has to be fraction where isoform TPM is at least 1, right (fill na with 0)\n",
    "\n",
    "per_gene_dev = ((2 ** df_dev - 1)\n",
    "                .groupby(genes_dev)\n",
    "                .transform('sum'))\n",
    "f_dev = (((2 ** df_dev - 1) / per_gene_dev)\n",
    "        .groupby(df_dev.columns.map(metadata_dev['organism_part'] + ' ' + metadata_dev['dev_stage']),\n",
    "         axis=1)\n",
    "        .mean())\n",
    "f_dev = f_dev * ((per_gene_dev.groupby(df_dev.columns.map(metadata_dev['organism_part'] + ' ' + metadata_dev['dev_stage']),\n",
    "                                             axis=1)\n",
    "                                             .mean() >= 1)\n",
    "                                         .applymap(lambda x: {False: np.nan, True: 1}[x]))  # only count fractions if gene TPM is >= 1\n",
    "\n",
    "f_dev = f_dev * 100"
   ]
  },
  {
   "cell_type": "code",
   "execution_count": null,
   "metadata": {},
   "outputs": [],
   "source": [
    "print(len(f_dev))\n",
    "f_dev[\"max_ratio_dev\"] = f_dev.max(axis=1)\n",
    "f_dev[\"min_ratio_dev\"] = f_dev.min(axis=1)\n",
    "f_dev_nonan = f_dev[(~pd.isnull(f_dev[\"max_ratio_dev\"])) & (~pd.isnull(f_dev[\"min_ratio_dev\"]))]\n",
    "print(len(f_dev_nonan))\n",
    "\n",
    "f_dev_ri = f_dev_nonan.reset_index()\n",
    "f_dev_ri[\"UID_rep\"] = f_dev_ri[\"UID\"].str.replace(\"_\", \"|\")"
   ]
  },
  {
   "cell_type": "code",
   "execution_count": null,
   "metadata": {},
   "outputs": [],
   "source": [
    "ref_alt_map_nonan = ref_alt_map_nonan.merge(f_dev_ri[[\"UID_rep\", \"max_ratio_dev\", \"min_ratio_dev\"]], left_on=\"ref\", \n",
    "                                            right_on=\"UID_rep\", how=\"left\")\n",
    "ref_alt_map_nonan = ref_alt_map_nonan.merge(f_dev_ri[[\"UID_rep\", \"max_ratio_dev\", \"min_ratio_dev\"]], left_on=\"alt\", \n",
    "                                            right_on=\"UID_rep\", suffixes=(\"_ref\", \"_alt\"), how=\"left\")"
   ]
  },
  {
   "cell_type": "code",
   "execution_count": null,
   "metadata": {},
   "outputs": [],
   "source": [
    "fig = plt.figure(figsize=(2, 1.5))\n",
    "\n",
    "df = ref_alt_map_nonan[[\"ref\", \"min_ratio_dev_ref\", \"max_ratio_dev_ref\"]].drop_duplicates()\n",
    "df = df[(~pd.isnull(df[\"min_ratio_dev_ref\"])) & (~pd.isnull(df[\"max_ratio_dev_ref\"]))]\n",
    "\n",
    "n_switches = df[(df[\"min_ratio_dev_ref\"] < MIN_THRESH) & (df[\"max_ratio_dev_ref\"] > MAX_THRESH)]\n",
    "n_off = df[(df[\"min_ratio_dev_ref\"] < MIN_THRESH) & (df[\"max_ratio_dev_ref\"] < MIN_THRESH)]\n",
    "print(len(n_switches))\n",
    "p_switches_ref_dev = len(n_switches)/len(df)\n",
    "p_off_ref_dev = len(n_off)/len(df)\n",
    "\n",
    "ax = sns.histplot(data=ref_alt_map_nonan, x=\"min_ratio_dev_ref\", y=\"max_ratio_dev_ref\",\n",
    "                  bins=30, cbar=True, cmap=\"mako_r\", vmin=0, vmax=120, cbar_kws={\"label\": \"# isoform pairs\",\n",
    "                                                                                   \"ticks\": [0, 20, 40, 60,\n",
    "                                                                                             80, 100, 120]})\n",
    "cbar = ax.collections[0].colorbar\n",
    "cbar.set_ticklabels([\"0\", \"20\", \"40\", \"60\", \"80\", \"100\", \"120+\"])\n",
    "ax.set_xlim((-2, 102))\n",
    "ax.set_ylim((-2, 102))\n",
    "ax.set_xticks([0, 20, 40, 60, 80, 100])\n",
    "ax.set_yticks([0, 20, 40, 60, 80, 100])\n",
    "ax.set_xlabel(\"min isoform fraction\")\n",
    "ax.set_ylabel(\"max isoform fraction\")\n",
    "ax.set_title(\"n=%s ref isoforms\" % len(df))\n",
    "\n",
    "fig.savefig('../../figures/fig1/expression-ratio-scatter-ref-dev.pdf',\n",
    "            bbox_inches='tight')"
   ]
  },
  {
   "cell_type": "code",
   "execution_count": null,
   "metadata": {},
   "outputs": [],
   "source": [
    "fig = plt.figure(figsize=(2, 1.5))\n",
    "\n",
    "df = ref_alt_map_nonan[[\"alt\", \"min_ratio_dev_alt\", \"max_ratio_dev_alt\"]].drop_duplicates()\n",
    "df = df[(~pd.isnull(df[\"min_ratio_dev_alt\"])) & (~pd.isnull(df[\"max_ratio_dev_alt\"]))]\n",
    "\n",
    "n_switches = df[(df[\"min_ratio_dev_alt\"] < MIN_THRESH) & (df[\"max_ratio_dev_alt\"] > MAX_THRESH)]\n",
    "n_off = df[(df[\"min_ratio_dev_alt\"] < MIN_THRESH) & (df[\"max_ratio_dev_alt\"] < MIN_THRESH)]\n",
    "print(len(n_switches))\n",
    "p_switches_alt_dev = len(n_switches)/len(df)\n",
    "p_off_alt_dev = len(n_off)/len(df)\n",
    "\n",
    "ax = sns.histplot(data=ref_alt_map_nonan, x=\"min_ratio_dev_alt\", y=\"max_ratio_dev_alt\",\n",
    "                  bins=30, cbar=True, cmap=\"mako_r\", vmin=0, vmax=120, cbar_kws={\"label\": \"# isoform pairs\",\n",
    "                                                                                   \"ticks\": [0, 20, 40, 60,\n",
    "                                                                                             80, 100, 120]})\n",
    "cbar = ax.collections[0].colorbar\n",
    "cbar.set_ticklabels([\"0\", \"20\", \"40\", \"60\", \"80\", \"100\", \"120+\"])\n",
    "ax.set_xlim((-2, 102))\n",
    "ax.set_ylim((-2, 102))\n",
    "ax.set_xticks([0, 20, 40, 60, 80, 100])\n",
    "ax.set_yticks([0, 20, 40, 60, 80, 100])\n",
    "ax.set_xlabel(\"min isoform fraction\")\n",
    "ax.set_ylabel(\"max isoform fraction\")\n",
    "ax.set_title(\"n=%s alt isoforms\" % len(df))\n",
    "\n",
    "# add lines to distinguish events\n",
    "ax.plot([MIN_THRESH, 0], [MIN_THRESH, MIN_THRESH], linestyle=\"dotted\", color=\"black\")\n",
    "ax.plot([MIN_THRESH, MIN_THRESH], [0, MIN_THRESH], linestyle=\"dotted\", color=\"black\")\n",
    "ax.plot([0, MIN_THRESH], [MAX_THRESH, MAX_THRESH], linestyle=\"dotted\", color=\"black\")\n",
    "ax.plot([MIN_THRESH, MIN_THRESH], [MAX_THRESH, 100], linestyle=\"dotted\", color=\"black\")\n",
    "ax.text(MIN_THRESH, 5, \" low\", ha=\"left\", va=\"center\", fontstyle=\"italic\", color=\"slategrey\")\n",
    "ax.text(MIN_THRESH, MAX_THRESH+5, \" switch\", ha=\"left\", va=\"center\", fontstyle=\"italic\", color=sns.color_palette(\"mako\")[1])\n",
    "\n",
    "fig.savefig('../../figures/fig1/expression-ratio-scatter-alt-dev.pdf',\n",
    "            bbox_inches='tight')"
   ]
  },
  {
   "cell_type": "code",
   "execution_count": null,
   "metadata": {},
   "outputs": [],
   "source": [
    "bar = pd.DataFrame.from_dict({\"gtex_ds_ref\": {\"switch\": p_switches_ref_gtex_ds*100, \"low\": p_off_ref_gtex_ds*100},\n",
    "                              \"gtex_ds_alt\": {\"switch\": p_switches_alt_gtex_ds*100, \"low\": p_off_alt_gtex_ds*100},\n",
    "                              \"dev_ref\": {\"switch\": p_switches_ref_dev*100, \"low\": p_off_ref_dev*100},\n",
    "                              \"dev_alt\": {\"switch\": p_switches_alt_dev*100, \"low\": p_off_alt_dev*100}}, \n",
    "                             orient=\"index\").reset_index()\n",
    "bar[\"shift\"] = 100-(bar[\"switch\"]+bar[\"low\"])\n",
    "bar = bar[[\"index\", \"low\", \"switch\", \"shift\"]]\n",
    "bar"
   ]
  },
  {
   "cell_type": "code",
   "execution_count": null,
   "metadata": {},
   "outputs": [],
   "source": [
    "palette = {\"low\": \"lightgrey\",\n",
    "           \"switch\": sns.color_palette(\"mako\")[1],\n",
    "           \"shift\": sns.color_palette(\"mako\")[5]}\n",
    "palette"
   ]
  },
  {
   "cell_type": "code",
   "execution_count": null,
   "metadata": {},
   "outputs": [],
   "source": [
    "gtex_bar = bar[bar[\"index\"].str.contains(\"gtex\")]\n",
    "ax = gtex_bar.plot.bar(x=\"index\", stacked=True, color=palette.values(), figsize=(1, 1))\n",
    "ax.set_ylabel(\"% of isoforms\")\n",
    "ax.set_xlabel(\"\")\n",
    "#ax.set_title(\"GTEx\")\n",
    "\n",
    "plt.legend(loc=2, bbox_to_anchor=(1.01, 1))\n",
    "ax.set_xticklabels([\"ref\", \"alt\"], ha=\"right\", va=\"top\", rotation=30)\n",
    "\n",
    "plt.savefig('../../figures/fig1/expression-switch-bar-gtex.pdf',\n",
    "            bbox_inches='tight')"
   ]
  },
  {
   "cell_type": "code",
   "execution_count": null,
   "metadata": {},
   "outputs": [],
   "source": [
    "dev_bar = bar[bar[\"index\"].str.contains(\"dev\")]\n",
    "ax = dev_bar.plot.bar(x=\"index\", stacked=True, color=palette.values(), figsize=(1, 1))\n",
    "ax.set_ylabel(\"% of isoforms\")\n",
    "ax.set_xlabel(\"\")\n",
    "#ax.set_title(\"dev\")\n",
    "\n",
    "plt.legend(loc=2, bbox_to_anchor=(1.01, 1))\n",
    "ax.set_xticklabels([\"ref\", \"alt\"], ha=\"right\", va=\"top\", rotation=30)\n",
    "\n",
    "plt.savefig('../../figures/fig1/expression-switch-bar-dev.pdf',\n",
    "            bbox_inches='tight')"
   ]
  },
  {
   "cell_type": "markdown",
   "metadata": {},
   "source": [
    "### example plot: TF gene whose isoform ratios change across tissues"
   ]
  },
  {
   "cell_type": "code",
   "execution_count": null,
   "metadata": {},
   "outputs": [],
   "source": [
    "tmp = ref_alt_map_nonan\n",
    "tmp[\"mm_gtex_ds_ref\"] = tmp[\"max_ratio_gtex_downsample_ref\"]-tmp[\"min_ratio_gtex_downsample_ref\"]\n",
    "tmp[\"mm_gtex_ds_alt\"] = tmp[\"max_ratio_gtex_downsample_alt\"]-tmp[\"min_ratio_gtex_downsample_alt\"]\n",
    "tmp[\"mm_dev_ref\"] = tmp[\"max_ratio_dev_ref\"]-tmp[\"min_ratio_dev_ref\"]\n",
    "tmp[\"mm_dev_alt\"] = tmp[\"max_ratio_dev_alt\"]-tmp[\"min_ratio_dev_alt\"]\n",
    "tmp[\"dg_ref\"] = tmp[\"mm_dev_ref\"]-tmp[\"mm_gtex_ds_ref\"]\n",
    "tmp[\"dg_alt\"] = tmp[\"mm_dev_alt\"]-tmp[\"mm_gtex_ds_alt\"]\n",
    "#tmp.sort_values(by=\"dg_alt\", ascending=False).head(30)"
   ]
  },
  {
   "cell_type": "code",
   "execution_count": null,
   "metadata": {},
   "outputs": [],
   "source": [
    "if not (genes_gtex == genes_dev).all():\n",
    "        raise UserWarning()\n",
    "genes = genes_gtex"
   ]
  },
  {
   "cell_type": "code",
   "execution_count": null,
   "metadata": {},
   "outputs": [],
   "source": [
    "def developmental_tissue_expression_plot(gene_name, palette_name, figsize, ylim, means, cols, fig_suffix):\n",
    "    n_isos = len(means.loc[genes == gene_name])\n",
    "    palette = sns.color_palette(palette_name, as_cmap=False, n_colors=n_isos)\n",
    "    fig, axes = plt.subplots(2, 1, sharex=True)\n",
    "    fig.set_size_inches(figsize)\n",
    "    ### bar chart ###\n",
    "    (means.loc[genes == gene_name, cols]\n",
    "          .T\n",
    "          .plot.bar(ax=axes[0],\n",
    "                    legend=False,\n",
    "                    width=0.7,\n",
    "                    color=list(palette)))\n",
    "    ### percentages ###\n",
    "    raw_means = 2 ** means.loc[genes == gene_name, cols] - 1.\n",
    "    (raw_means.div(raw_means.sum(axis=0))\n",
    "              .T.plot.bar(ax=axes[1], \n",
    "                          stacked=True,\n",
    "                          legend=False,\n",
    "                          color=list(palette)))\n",
    "    axes[0].set_ylabel('log2(tpm + 1)\\n')\n",
    "    axes[0].set_ylim(ylim)\n",
    "    axes[1].set_ylabel('percent')\n",
    "    axes[1].set_yticklabels(['{:.0%}'.format(t) for t in axes[1].get_yticks()])\n",
    "    axes[1].legend(loc='lower left', bbox_to_anchor=(1, 0))\n",
    "    axes[0].axhline(y=1, color='black', linewidth=0.5, linestyle=\"dashed\")\n",
    "    plt.subplots_adjust(hspace=0.25)\n",
    "    plt.savefig('../../figures/fig1/expression_' + gene_name + '_' + fig_suffix + '.pdf',\n",
    "                bbox_inches='tight')"
   ]
  },
  {
   "cell_type": "code",
   "execution_count": null,
   "metadata": {},
   "outputs": [],
   "source": [
    "heart_cols = [x for x in means_dev.columns if \"heart\" in x]\n",
    "ovary_cols = [x for x in means_dev.columns if \"ovary\" in x]\n",
    "developmental_tissue_expression_plot(\"HEY2\", \"Spectral\", (4, 1.75), (0, 6), means_dev, heart_cols + ovary_cols, \n",
    "                                     \"means_dev_heart_ovary\")"
   ]
  },
  {
   "cell_type": "code",
   "execution_count": null,
   "metadata": {},
   "outputs": [],
   "source": [
    "heart_cols = [x for x in means_gtex.columns if \"Heart\" in x]\n",
    "ovary_cols = [x for x in means_gtex.columns if \"Ovary\" in x]\n",
    "developmental_tissue_expression_plot(\"HEY2\", \"Spectral\", (0.5, 1.75), (0, 6), means_gtex, heart_cols + ovary_cols, \n",
    "                                     \"means_gtex_heart_ovary\")"
   ]
  },
  {
   "cell_type": "code",
   "execution_count": null,
   "metadata": {},
   "outputs": [],
   "source": [
    "ss_alt_gtex = len(ref_alt_map_nonan[(ref_alt_map_nonan[\"max_ratio_gtex_downsample_alt\"] > MIN_THRESH)].gene.unique())\n",
    "ss_alt_gtex"
   ]
  },
  {
   "cell_type": "code",
   "execution_count": null,
   "metadata": {},
   "outputs": [],
   "source": [
    "ss_alt_dev = len(ref_alt_map_nonan[(ref_alt_map_nonan[\"max_ratio_dev_alt\"] > MIN_THRESH)].gene.unique())\n",
    "ss_alt_dev"
   ]
  },
  {
   "cell_type": "code",
   "execution_count": null,
   "metadata": {},
   "outputs": [],
   "source": [
    "tot_genes = len(ref_alt_map_nonan.gene.unique())\n",
    "tot_genes"
   ]
  },
  {
   "cell_type": "code",
   "execution_count": null,
   "metadata": {},
   "outputs": [],
   "source": [
    "ss_alt_gtex/tot_genes"
   ]
  },
  {
   "cell_type": "code",
   "execution_count": null,
   "metadata": {},
   "outputs": [],
   "source": [
    "ss_alt_dev/tot_genes"
   ]
  },
  {
   "cell_type": "markdown",
   "metadata": {},
   "source": [
    "## 7. calculate domain switches in annotated isoforms"
   ]
  },
  {
   "cell_type": "code",
   "execution_count": null,
   "metadata": {},
   "outputs": [],
   "source": [
    "# loop through ref/alt pairs above and calculate total num AAs inserted/deleted/frameshifted\n",
    "tot_ins = []\n",
    "tot_perc_ins = []\n",
    "tot_dd = []\n",
    "tot_perc_dd = []\n",
    "tot_f = []\n",
    "tot_perc_f = []\n",
    "\n",
    "tot_ins_dom = []\n",
    "tot_perc_ins_dom = []\n",
    "tot_dd_dom = []\n",
    "tot_perc_dd_dom = []\n",
    "tot_f_dom = []\n",
    "tot_perc_f_dom = []\n",
    "\n",
    "tot_ins_eff = []\n",
    "tot_perc_ins_eff = []\n",
    "tot_dd_eff = []\n",
    "tot_perc_dd_eff = []\n",
    "tot_f_eff = []\n",
    "tot_perc_f_eff = []\n",
    "\n",
    "for i, row in ref_alt_map_nonan.iterrows():\n",
    "    ref = row.ref.split(\"|\")[0]\n",
    "    alt = row.alt.split(\"|\")[0]\n",
    "    gene = ref[:-4]\n",
    "    \n",
    "    # manual fixes\n",
    "    if gene == \"AC092072.1\":\n",
    "        gene = \"ZNF223\"\n",
    "    if gene == \"AC008554.1\":\n",
    "        gene = \"ZNF737\"\n",
    "    if gene == \"AC073611.1\":\n",
    "        gene = \"SP7\"\n",
    "    if gene == \"AC118549.1\":\n",
    "        gene = \"ZZZ3\"\n",
    "    if gene == \"ZUP1\":\n",
    "        gene = \"ZUFSP\"\n",
    "    if gene == \"AC139768.1\":\n",
    "        gene = \"POU6F1\"\n",
    "    if gene == \"PHF19\":\n",
    "        gene = \"PHF19 \"\n",
    "    #print(\"gene: %s | ref: %s | alt: %s\" % (gene, ref, alt))\n",
    "    \n",
    "    pp_str = tfs[gene].pairwise_changes_relative_to_reference(ref, alt)\n",
    "    aa_ftr = tfs[gene].aa_feature_disruption(ref)\n",
    "    if len(aa_ftr) == 0:\n",
    "        ins_dom = 0\n",
    "        perc_ins_dom = 0\n",
    "        dd_dom = 0\n",
    "        perc_dd_dom = 0\n",
    "        f_dom = 0\n",
    "        perc_f_dom = 0\n",
    "        \n",
    "        ins_eff = 0\n",
    "        perc_ins_eff = 0\n",
    "        dd_eff = 0\n",
    "        perc_dd_eff = 0\n",
    "        f_eff = 0\n",
    "        perc_f_eff = 0\n",
    "    else:\n",
    "        aa_ftr_alt = aa_ftr[aa_ftr[\"alt_iso\"] == alt]\n",
    "        \n",
    "        # separate pfam and effector domains\n",
    "        pfam = aa_ftr_alt[aa_ftr_alt[\"category\"] == \"Pfam_domain\"]\n",
    "        eff = aa_ftr_alt[aa_ftr_alt[\"category\"] == \"effector_domain\"]\n",
    "        \n",
    "        if len(pfam) > 0:\n",
    "            pfam_grp = pfam.groupby(\"alt_iso\")[[\"deletion\", \"insertion\", \"frameshift\"]].agg(\"sum\").reset_index()\n",
    "        \n",
    "            ins_dom = pfam_grp.insertion.iloc[0]\n",
    "            perc_ins_dom = ins_dom/len(pp_str)*100\n",
    "            dd_dom = pfam_grp.deletion.iloc[0]\n",
    "            perc_dd_dom = dd_dom/len(pp_str)*100\n",
    "            f_dom = pfam_grp.frameshift.iloc[0]\n",
    "            perc_f_dom = f_dom/len(pp_str)*100\n",
    "        else:\n",
    "            ins_dom = 0\n",
    "            perc_ins_dom = 0\n",
    "            dd_dom = 0\n",
    "            perc_dd_dom = 0\n",
    "            f_dom = 0\n",
    "            perc_f_dom = 0\n",
    "            \n",
    "        if len(eff) > 0:\n",
    "            eff_grp = eff.groupby(\"alt_iso\")[[\"deletion\", \"insertion\", \"frameshift\"]].agg(\"sum\").reset_index()\n",
    "        \n",
    "            ins_eff = eff_grp.insertion.iloc[0]\n",
    "            perc_ins_eff = ins_eff/len(pp_str)*100\n",
    "            dd_eff = eff_grp.deletion.iloc[0]\n",
    "            perc_dd_eff = dd_eff/len(pp_str)*100\n",
    "            f_eff = eff_grp.frameshift.iloc[0]\n",
    "            perc_f_eff = f_eff/len(pp_str)*100\n",
    "        else:\n",
    "            ins_eff = 0\n",
    "            perc_ins_eff = 0\n",
    "            dd_eff = 0\n",
    "            perc_dd_eff = 0\n",
    "            f_eff = 0\n",
    "            perc_f_eff = 0\n",
    "        \n",
    "        \n",
    "    \n",
    "    \n",
    "    ins = pp_str.count(\"I\")\n",
    "    perc_ins = ins/len(pp_str)*100\n",
    "    dd = pp_str.count(\"D\")\n",
    "    perc_dd = dd/len(pp_str)*100\n",
    "    f = pp_str.count(\"F\")\n",
    "    f += pp_str.count(\"f\")\n",
    "    perc_f = f/len(pp_str)*100\n",
    "    \n",
    "    tot_ins.append(ins)\n",
    "    tot_perc_ins.append(perc_ins)\n",
    "    tot_dd.append(dd)\n",
    "    tot_perc_dd.append(perc_dd)\n",
    "    tot_f.append(f)\n",
    "    tot_perc_f.append(perc_f)\n",
    "    \n",
    "    tot_ins_dom.append(ins_dom)\n",
    "    tot_perc_ins_dom.append(perc_ins_dom)\n",
    "    tot_dd_dom.append(dd_dom)\n",
    "    tot_perc_dd_dom.append(perc_dd_dom)\n",
    "    tot_f_dom.append(f_dom)\n",
    "    tot_perc_f_dom.append(perc_f_dom)\n",
    "    \n",
    "    tot_ins_eff.append(ins_eff)\n",
    "    tot_perc_ins_eff.append(perc_ins_eff)\n",
    "    tot_dd_eff.append(dd_eff)\n",
    "    tot_perc_dd_eff.append(perc_dd_eff)\n",
    "    tot_f_eff.append(f_eff)\n",
    "    tot_perc_f_eff.append(perc_f_eff)\n",
    "\n",
    "ref_alt_map_nonan[\"n_ins\"] = tot_ins\n",
    "ref_alt_map_nonan[\"perc_ins\"] = tot_perc_ins\n",
    "ref_alt_map_nonan[\"n_dd\"] = tot_dd\n",
    "ref_alt_map_nonan[\"perc_dd\"] = tot_perc_dd\n",
    "ref_alt_map_nonan[\"n_f\"] = tot_f\n",
    "ref_alt_map_nonan[\"perc_f\"] = tot_perc_f\n",
    "\n",
    "ref_alt_map_nonan[\"n_ins_dom\"] = tot_ins_dom\n",
    "ref_alt_map_nonan[\"perc_ins_dom\"] = tot_perc_ins_dom\n",
    "ref_alt_map_nonan[\"n_dd_dom\"] = tot_dd_dom\n",
    "ref_alt_map_nonan[\"perc_dd_dom\"] = tot_perc_dd_dom\n",
    "ref_alt_map_nonan[\"n_f_dom\"] = tot_f_dom\n",
    "ref_alt_map_nonan[\"perc_f_dom\"] = tot_perc_f_dom\n",
    "\n",
    "ref_alt_map_nonan[\"n_ins_eff\"] = tot_ins_eff\n",
    "ref_alt_map_nonan[\"perc_ins_eff\"] = tot_perc_ins_eff\n",
    "ref_alt_map_nonan[\"n_dd_eff\"] = tot_dd_eff\n",
    "ref_alt_map_nonan[\"perc_dd_eff\"] = tot_perc_dd_eff\n",
    "ref_alt_map_nonan[\"n_f_eff\"] = tot_f_eff\n",
    "ref_alt_map_nonan[\"perc_f_eff\"] = tot_perc_f_eff\n",
    "\n",
    "ref_alt_map_nonan.sample(5)"
   ]
  },
  {
   "cell_type": "code",
   "execution_count": null,
   "metadata": {},
   "outputs": [],
   "source": [
    "def mimic_r_boxplot(ax):\n",
    "    for i, patch in enumerate(ax.artists):\n",
    "        r, g, b, a = patch.get_facecolor()\n",
    "        col = (r, g, b, 1)\n",
    "        patch.set_facecolor((r, g, b, .5))\n",
    "        patch.set_edgecolor((r, g, b, 1))\n",
    "\n",
    "        # Each box has 6 associated Line2D objects (to make the whiskers, fliers, etc.)\n",
    "        # Loop over them here, and use the same colour as above\n",
    "        line_order = [\"lower\", \"upper\", \"whisker_1\", \"whisker_2\", \"med\", \"fliers\"]\n",
    "        for j in range(i*6,i*6+6):\n",
    "            elem = line_order[j%6]\n",
    "            line = ax.lines[j]\n",
    "            if \"whisker\" in elem:\n",
    "                line.set_visible(False)\n",
    "            line.set_color(col)\n",
    "            line.set_mfc(col)\n",
    "            line.set_mec(col)\n",
    "            if \"fliers\" in elem:\n",
    "                line.set_alpha(0.5)"
   ]
  },
  {
   "cell_type": "code",
   "execution_count": null,
   "metadata": {},
   "outputs": [],
   "source": [
    "def comp_cat(row):\n",
    "    if \"dom\" in row.variable:\n",
    "        return \"pfam\"\n",
    "    elif \"eff\" in row.variable:\n",
    "        return \"effector\"\n",
    "    else:\n",
    "        return \"total\""
   ]
  },
  {
   "cell_type": "code",
   "execution_count": null,
   "metadata": {},
   "outputs": [],
   "source": [
    "to_plot = pd.melt(ref_alt_map_nonan, id_vars=[\"ref\", \"gene\", \"alt\"], value_vars=[\"n_ins\", \"perc_ins\",\n",
    "                                                                                 \"n_dd\", \"perc_dd\",\n",
    "                                                                                 \"n_f\", \"perc_f\",\n",
    "                                                                                 \"n_ins_dom\", \"perc_ins_dom\",\n",
    "                                                                                 \"n_dd_dom\", \"perc_dd_dom\",\n",
    "                                                                                 \"n_f_dom\", \"perc_f_dom\",\n",
    "                                                                                 \"n_ins_eff\", \"perc_ins_eff\",\n",
    "                                                                                 \"n_dd_eff\", \"perc_dd_eff\",\n",
    "                                                                                 \"n_f_eff\", \"perc_f_eff\"])\n",
    "to_plot[\"n_or_perc\"] = to_plot[\"variable\"].str.split(\"_\", expand=True)[0]\n",
    "to_plot[\"type\"] = to_plot[\"variable\"].str.split(\"_\", expand=True)[1]\n",
    "to_plot[\"dom_cat\"] = to_plot.apply(comp_cat, axis=1)\n",
    "to_plot.sample(5)"
   ]
  },
  {
   "cell_type": "code",
   "execution_count": null,
   "metadata": {},
   "outputs": [],
   "source": [
    "fig = plt.figure(figsize=(2.3, 1.25))\n",
    "ax = sns.boxplot(data=to_plot[to_plot[\"n_or_perc\"] == \"perc\"], \n",
    "                 x=\"type\", y=\"value\", hue=\"dom_cat\", order=[\"dd\", \"ins\", \"f\"],\n",
    "                 palette=sns.color_palette(\"Set2\"), fliersize=5, notch=True,\n",
    "                 flierprops={\"marker\": \".\"})\n",
    "mimic_r_boxplot(ax)\n",
    "\n",
    "\n",
    "ax.set_xlabel(\"\")\n",
    "ax.set_xticklabels([\"deletions\", \"insertions\", \"frameshift\"], rotation=30, ha=\"right\", va=\"top\")\n",
    "ax.set_ylabel(\"% AA affected\")\n",
    "ax.set_title(\"alt v. ref TF isoforms\")\n",
    "handles, labels = ax.get_legend_handles_labels()\n",
    "labels = [\"all\", \"Pfam\", \"effector\"]\n",
    "ax.legend(handles, labels, loc=2, bbox_to_anchor=(1.01, 1))\n",
    "fig.savefig('../../figures/fig1/domain-overall-boxplot.pdf',\n",
    "            bbox_inches='tight')"
   ]
  },
  {
   "cell_type": "code",
   "execution_count": null,
   "metadata": {},
   "outputs": [],
   "source": [
    "to_plot[to_plot[\"n_or_perc\"] == \"perc\"].groupby([\"type\", \"dom_cat\"]).agg(\"median\")"
   ]
  },
  {
   "cell_type": "code",
   "execution_count": null,
   "metadata": {},
   "outputs": [],
   "source": [
    "len(ref_alt_map_nonan[ref_alt_map_nonan[\"perc_f_dom\"] > 0])"
   ]
  },
  {
   "cell_type": "code",
   "execution_count": null,
   "metadata": {},
   "outputs": [],
   "source": [
    "len(ref_alt_map_nonan[ref_alt_map_nonan[\"perc_ins\"] >= 10])"
   ]
  },
  {
   "cell_type": "code",
   "execution_count": null,
   "metadata": {},
   "outputs": [],
   "source": [
    "len(ref_alt_map_nonan[ref_alt_map_nonan[\"perc_f\"] >= 10])"
   ]
  },
  {
   "cell_type": "code",
   "execution_count": null,
   "metadata": {},
   "outputs": [],
   "source": [
    "len(ref_alt_map_nonan)"
   ]
  },
  {
   "cell_type": "code",
   "execution_count": null,
   "metadata": {},
   "outputs": [],
   "source": [
    "214/2305"
   ]
  },
  {
   "cell_type": "code",
   "execution_count": null,
   "metadata": {},
   "outputs": [],
   "source": [
    "len(ref_alt_map_nonan[(ref_alt_map_nonan[\"perc_dd_eff\"] > 0) |\n",
    "                      (ref_alt_map_nonan[\"perc_ins_eff\"] > 0) |\n",
    "                      (ref_alt_map_nonan[\"perc_f_eff\"] > 0)])"
   ]
  },
  {
   "cell_type": "code",
   "execution_count": null,
   "metadata": {},
   "outputs": [],
   "source": [
    "684/2305"
   ]
  }
 ],
 "metadata": {
  "kernelspec": {
   "display_name": "Python (py36)",
   "language": "python",
   "name": "py36"
  },
  "language_info": {
   "codemirror_mode": {
    "name": "ipython",
    "version": 3
   },
   "file_extension": ".py",
   "mimetype": "text/x-python",
   "name": "python",
   "nbconvert_exporter": "python",
   "pygments_lexer": "ipython3",
   "version": "3.6.10"
  },
  "vscode": {
   "interpreter": {
    "hash": "4ae04c9a3e8cbfaaf818a59204fe953064ae0593c0d7ed4865e22581ae0526ea"
   }
  }
 },
 "nbformat": 4,
 "nbformat_minor": 2
}
