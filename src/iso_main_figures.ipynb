{
 "cells": [
  {
   "cell_type": "markdown",
   "metadata": {},
   "source": [
    "# notebook to make nicer PPI/PDI/M1H panels for figures"
   ]
  },
  {
   "cell_type": "code",
   "execution_count": 1,
   "metadata": {},
   "outputs": [],
   "source": [
    "import numpy as np\n",
    "import seaborn as sns\n",
    "import shutil\n",
    "from pathlib import Path\n",
    "\n",
    "from matplotlib import pyplot as plt\n",
    "import pandas as pd\n",
    "\n",
    "from data_loading import (load_isoform_and_paralog_y2h_data,\n",
    "                          load_y1h_pdi_data,\n",
    "                          load_m1h_activation_data,\n",
    "                          load_valid_isoform_clones,\n",
    "                          load_annotated_6k_collection)\n",
    "from plotting import (y2h_ppi_per_tf_gene_plot,\n",
    "                      y1h_pdi_per_tf_gene_plot,\n",
    "                      m1h_activation_per_tf_gene_plot)"
   ]
  },
  {
   "cell_type": "code",
   "execution_count": 2,
   "metadata": {},
   "outputs": [],
   "source": [
    "PAPER_PRESET = {\"style\": \"ticks\", \"font\": \"Helvetica\", \"context\": \"paper\", \n",
    "                \"rc\": {\"font.size\":10,\"axes.titlesize\":10,\n",
    "                       \"axes.labelsize\":10, 'axes.linewidth':0.5,\n",
    "                       \"legend.fontsize\":10, \"xtick.labelsize\":10,\n",
    "                       \"ytick.labelsize\":10, \"xtick.major.size\": 3.0,\n",
    "                       \"ytick.major.size\": 3.0, \"axes.edgecolor\": \"black\",\n",
    "                       \"xtick.major.pad\": 3.0, \"ytick.major.pad\": 3.0}}\n",
    "PAPER_FONTSIZE = 10"
   ]
  },
  {
   "cell_type": "code",
   "execution_count": 3,
   "metadata": {},
   "outputs": [],
   "source": [
    "sns.set(**PAPER_PRESET)\n",
    "fontsize = PAPER_FONTSIZE"
   ]
  },
  {
   "cell_type": "code",
   "execution_count": 4,
   "metadata": {},
   "outputs": [
    {
     "name": "stdout",
     "output_type": "stream",
     "text": [
      "reading from cache\n"
     ]
    }
   ],
   "source": [
    "y2h = load_isoform_and_paralog_y2h_data(add_missing_data=True)\n",
    "y1h = load_y1h_pdi_data(add_missing_data=True)\n",
    "m1h = load_m1h_activation_data(add_missing_data=True)\n",
    "isoforms = load_valid_isoform_clones()\n",
    "y2h = y2h.loc[y2h['ad_clone_acc'].isin(isoforms['clone_acc']).values, :]\n",
    "y1h = y1h.loc[y1h['unique_acc'].isin(isoforms['clone_acc']).values, :]\n",
    "m1h = m1h.loc[m1h['clone_acc'].isin(isoforms['clone_acc'].values), :]\n",
    "\n",
    "tfs = load_annotated_6k_collection()"
   ]
  },
  {
   "cell_type": "code",
   "execution_count": 5,
   "metadata": {},
   "outputs": [
    {
     "data": {
      "text/plain": [
       "1376"
      ]
     },
     "execution_count": 5,
     "metadata": {},
     "output_type": "execute_result"
    }
   ],
   "source": [
    "len([orf for tf in tfs.values() for orf in tf.orfs])"
   ]
  },
  {
   "cell_type": "markdown",
   "metadata": {},
   "source": [
    "## PDIs"
   ]
  },
  {
   "cell_type": "code",
   "execution_count": 6,
   "metadata": {},
   "outputs": [],
   "source": [
    "# gene_name = \"PKNOX1\"\n",
    "\n",
    "# tf = tfs[gene_name]\n",
    "# fig, ax = plt.subplots(1, 1, figsize=(1.3, 1.0))\n",
    "# y1h_pdi_per_tf_gene_plot(gene_name, data=y1h, ax=ax)\n",
    "# plt.savefig('../figures/{}_y1h-profile.pdf'.format(gene_name), bbox_inches='tight')"
   ]
  },
  {
   "cell_type": "code",
   "execution_count": 9,
   "metadata": {},
   "outputs": [
    {
     "data": {
      "image/png": "[encoded data removed]",
      "text/plain": [
       "<Figure size 93.6x93.6 with 1 Axes>"
      ]
     },
     "metadata": {},
     "output_type": "display_data"
    }
   ],
   "source": [
    "gene_name = \"HEY1\"\n",
    "\n",
    "tf = tfs[gene_name]\n",
    "fig, ax = plt.subplots(1, 1, figsize=(1.3, 1.3))\n",
    "y1h_pdi_per_tf_gene_plot(gene_name, data=y1h, ax=ax, iso_order=[\"HEY1-2\", \"HEY1-1\"])\n",
    "plt.savefig('../figures/{}_y1h-profile.pdf'.format(gene_name), bbox_inches='tight')"
   ]
  },
  {
   "cell_type": "code",
   "execution_count": 11,
   "metadata": {},
   "outputs": [],
   "source": [
    "# gene_name = \"GRHL3\"\n",
    "\n",
    "# tf = tfs[gene_name]\n",
    "# fig, ax = plt.subplots(1, 1, figsize=(6, 1.0))\n",
    "# y1h_pdi_per_tf_gene_plot(gene_name, data=y1h, ax=ax)\n",
    "# plt.savefig('../figures/{}_y1h-profile.pdf'.format(gene_name), bbox_inches='tight')"
   ]
  },
  {
   "cell_type": "code",
   "execution_count": 15,
   "metadata": {},
   "outputs": [
    {
     "data": {
      "image/png": "[encoded data removed]",
      "text/plain": [
       "<Figure size 115.2x115.2 with 1 Axes>"
      ]
     },
     "metadata": {},
     "output_type": "display_data"
    }
   ],
   "source": [
    "gene_name = \"CREB1\"\n",
    "\n",
    "tf = tfs[gene_name]\n",
    "fig, ax = plt.subplots(1, 1, figsize=(1.6, 1.6))\n",
    "y1h_pdi_per_tf_gene_plot(gene_name, data=y1h, ax=ax, iso_order=[\"CREB1-2\", \"CREB1-1\"])\n",
    "plt.savefig('../figures/{}_y1h-profile.pdf'.format(gene_name), bbox_inches='tight')"
   ]
  },
  {
   "cell_type": "markdown",
   "metadata": {},
   "source": [
    "## PPIs"
   ]
  },
  {
   "cell_type": "code",
   "execution_count": 17,
   "metadata": {},
   "outputs": [
    {
     "name": "stderr",
     "output_type": "stream",
     "text": [
      "/PHShome/kz659/.conda/envs/py36/lib/python3.6/site-packages/ipykernel_launcher.py:5: UserWarning: constrained_layout not applied.  At least one axes collapsed to zero width or height.\n",
      "  \"\"\"\n"
     ]
    },
    {
     "data": {
      "image/png": "[encoded data removed]",
      "text/plain": [
       "<Figure size 216x216 with 1 Axes>"
      ]
     },
     "metadata": {},
     "output_type": "display_data"
    }
   ],
   "source": [
    "gene_name = \"PKNOX1\"\n",
    "\n",
    "fig, ax = plt.subplots(1, 1, figsize=(3, 3))\n",
    "y2h_ppi_per_tf_gene_plot(tf.name, ax=ax, data=y2h)\n",
    "plt.savefig('../figures/{}_y2h-profile.pdf'.format(gene_name), bbox_inches='tight')"
   ]
  },
  {
   "cell_type": "code",
   "execution_count": 20,
   "metadata": {},
   "outputs": [
    {
     "data": {
      "image/png": "[encoded data removed]",
      "text/plain": [
       "<Figure size 144x144 with 1 Axes>"
      ]
     },
     "metadata": {},
     "output_type": "display_data"
    }
   ],
   "source": [
    "gene_name = \"GRHL3\"\n",
    "\n",
    "tf = tfs[gene_name]\n",
    "fig, ax = plt.subplots(1, 1, figsize=(2, 2))\n",
    "y2h_ppi_per_tf_gene_plot(tf.name, ax=ax, data=y2h)\n",
    "plt.savefig('../figures/{}_y2h-profile.pdf'.format(gene_name), bbox_inches='tight')"
   ]
  },
  {
   "cell_type": "code",
   "execution_count": 15,
   "metadata": {},
   "outputs": [
    {
     "data": {
      "text/plain": [
       "{'gene': 'PKNOX1',\n",
       " 'reference isoform': 'PKNOX1-1',\n",
       " 'alternative isoform': 'PKNOX1-2',\n",
       " 'alternative N-terminal': False,\n",
       " 'alternative C-terminal': False,\n",
       " 'alternative internal exon': False,\n",
       " \"alternative 5' splice site\": False,\n",
       " \"alternative 3' splice site\": True,\n",
       " 'exon skipping': False,\n",
       " 'mutually exclusive exons': False,\n",
       " 'intron retention': False}"
      ]
     },
     "execution_count": 15,
     "metadata": {},
     "output_type": "execute_result"
    }
   ],
   "source": [
    "tfs[\"PKNOX1\"].splicing_categories(\"PKNOX1-1\", \"PKNOX1-2\")"
   ]
  },
  {
   "cell_type": "markdown",
   "metadata": {},
   "source": [
    "## exon diagrams"
   ]
  },
  {
   "cell_type": "code",
   "execution_count": 22,
   "metadata": {},
   "outputs": [
    {
     "data": {
      "image/png": "[encoded data removed]",
      "text/plain": [
       "<Figure size 504x72 with 1 Axes>"
      ]
     },
     "metadata": {},
     "output_type": "display_data"
    }
   ],
   "source": [
    "fig, ax = plt.subplots(figsize=(7, 1))\n",
    "\n",
    "tfs[\"HEY1\"].exon_diagram(ax=ax)\n",
    "fig.savefig(\"../figures/HEY1_exon_diagram.pdf\", bbox_inches=\"tight\", dpi=\"figure\")"
   ]
  },
  {
   "cell_type": "code",
   "execution_count": 25,
   "metadata": {},
   "outputs": [
    {
     "data": {
      "image/png": "[encoded data removed]",
      "text/plain": [
       "<Figure size 504x54 with 1 Axes>"
      ]
     },
     "metadata": {},
     "output_type": "display_data"
    }
   ],
   "source": [
    "fig, ax = plt.subplots(figsize=(7, 0.75))\n",
    "\n",
    "tfs[\"CREB1\"].exon_diagram(ax=ax)\n",
    "fig.savefig(\"../figures/CREB1_exon_diagram.pdf\", bbox_inches=\"tight\", dpi=\"figure\")"
   ]
  },
  {
   "cell_type": "code",
   "execution_count": 23,
   "metadata": {},
   "outputs": [
    {
     "data": {
      "image/png": "[encoded data removed]",
      "text/plain": [
       "<Figure size 288x144 with 3 Axes>"
      ]
     },
     "metadata": {},
     "output_type": "display_data"
    }
   ],
   "source": [
    "fig, ax = plt.subplots(figsize=(4, 2))\n",
    "\n",
    "tfs[\"HEY1\"].protein_diagram(only_cloned_isoforms=False, draw_legend=False, ax=ax)\n",
    "fig.savefig(\"../figures/HEY1_protein_diagram.pdf\", bbox_inches=\"tight\", dpi=\"figure\")"
   ]
  },
  {
   "cell_type": "code",
   "execution_count": 26,
   "metadata": {},
   "outputs": [
    {
     "data": {
      "image/png": "[encoded data removed]",
      "text/plain": [
       "<Figure size 288x144 with 2 Axes>"
      ]
     },
     "metadata": {},
     "output_type": "display_data"
    }
   ],
   "source": [
    "fig, ax = plt.subplots(figsize=(4, 2))\n",
    "\n",
    "tfs[\"CREB1\"].protein_diagram(only_cloned_isoforms=False, draw_legend=False, ax=ax)\n",
    "fig.savefig(\"../figures/CREB1_protein_diagram.pdf\", bbox_inches=\"tight\", dpi=\"figure\")"
   ]
  },
  {
   "cell_type": "code",
   "execution_count": null,
   "metadata": {},
   "outputs": [],
   "source": []
  }
 ],
 "metadata": {
  "kernelspec": {
   "display_name": "Python (py36)",
   "language": "python",
   "name": "py36"
  },
  "language_info": {
   "codemirror_mode": {
    "name": "ipython",
    "version": 3
   },
   "file_extension": ".py",
   "mimetype": "text/x-python",
   "name": "python",
   "nbconvert_exporter": "python",
   "pygments_lexer": "ipython3",
   "version": "3.6.10"
  }
 },
 "nbformat": 4,
 "nbformat_minor": 2
}
