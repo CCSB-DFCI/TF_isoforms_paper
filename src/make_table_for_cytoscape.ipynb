{
 "cells": [
  {
   "cell_type": "code",
   "execution_count": 1,
   "metadata": {},
   "outputs": [],
   "source": [
    "import pandas as pd\n",
    "import numpy as np\n",
    "\n",
    "from data_loading import (load_y2h_isoform_data, \n",
    "                          load_y1h_pdi_data, \n",
    "                          load_valid_isoform_clones)\n",
    "\n",
    "\n",
    "clones = load_valid_isoform_clones()\n",
    "ppi = load_y2h_isoform_data()\n",
    "pdi = load_y1h_pdi_data()\n",
    "pdi = pdi.melt(id_vars=['gene_symbol', 'clone_acc'],\n",
    "         value_vars=pdi.columns[2:],\n",
    "         value_name='result',\n",
    "         var_name='partner')\n",
    "pdi = pdi.loc[(pdi['result'] == True)\n",
    "              & pdi['clone_acc'].isin(clones['clone_acc'].values),\n",
    "              ['gene_symbol', 'clone_acc', 'partner']]\n",
    "pdi['interaction_type'] = 'PDI'\n",
    "pdi['partner_type'] = 'DNA'\n",
    "ppi = (ppi.loc[(ppi['Y2H_result'] == True)\n",
    "               & ppi['ad_clone_acc'].isin(clones['clone_acc'].values),\n",
    "               ['ad_gene_symbol', 'ad_clone_acc', 'db_gene_symbol']]\n",
    "          .rename(columns={\n",
    "              'ad_gene_symbol': 'gene_symbol',\n",
    "              'ad_clone_acc': 'clone_acc',\n",
    "              'db_gene_symbol': 'partner',\n",
    "          }))\n",
    "ppi['interaction_type'] = 'PPI'\n",
    "ppi['partner_type'] = 'Protein'\n",
    "pd.concat([ppi, pdi], axis=0).to_csv('../output/combined-network-for-cytoscape_edges.tsv',\n",
    "                                     index=False,\n",
    "                                     sep='\\t')\n",
    "# need to add a node table to include unconnected nodes\n",
    "tf_iso_nodes = (clones.loc[clones['gene_symbol'].isin(ppi['gene_symbol'].unique())\n",
    "                           | clones['gene_symbol'].isin(pdi['gene_symbol'].unique()),\n",
    "                          ['gene_symbol', \n",
    "                           'clone_acc']]\n",
    "                 .rename(columns={'clone_acc': 'node_ID'})\n",
    "                 .assign(node_type='TF isoform')\n",
    ")\n",
    "ppi_partner_nodes = (ppi.loc[:, ['partner', 'partner_type']]\n",
    "                     .drop_duplicates()\n",
    "                     .rename(columns={'partner': 'node_ID',\n",
    "                                      'partner_type': 'node_type'})\n",
    "                    .assign(gene_symbol=np.nan)\n",
    ")\n",
    "dna_nodes = (pdi.loc[:, ['partner', 'partner_type']]\n",
    "                     .drop_duplicates()\n",
    "                     .rename(columns={'partner': 'node_ID',\n",
    "                                      'partner_type': 'node_type'})\n",
    "                    .assign(gene_symbol=np.nan)\n",
    ")\n",
    "\n",
    "pd.concat([tf_iso_nodes, ppi_partner_nodes, dna_nodes], axis=0).to_csv('../output/combined-network-for-cytoscape_nodes.tsv',\n",
    "                                     index=False,\n",
    "                                     sep='\\t')"
   ]
  },
  {
   "cell_type": "code",
   "execution_count": 2,
   "metadata": {},
   "outputs": [
    {
     "data": {
      "text/plain": [
       "TCF4      973\n",
       "TCF12     211\n",
       "SOX6      118\n",
       "HMBOX1     90\n",
       "IKZF2      70\n",
       "ZNF451     67\n",
       "ZBTB44     54\n",
       "MEOX1      52\n",
       "MEIS2      47\n",
       "NFYA       42\n",
       "FOXP2      40\n",
       "ZNF438     29\n",
       "PATZ1      29\n",
       "TP63       28\n",
       "TFCP2      28\n",
       "ZNF212     28\n",
       "DDIT3      26\n",
       "ESRRG      24\n",
       "ESRRA      24\n",
       "ZBTB16     22\n",
       "Name: gene_symbol, dtype: int64"
      ]
     },
     "execution_count": 2,
     "metadata": {},
     "output_type": "execute_result"
    }
   ],
   "source": [
    "# inspect hubs\n",
    "ppi['gene_symbol'].value_counts().head(20)"
   ]
  },
  {
   "cell_type": "code",
   "execution_count": 3,
   "metadata": {},
   "outputs": [
    {
     "data": {
      "text/plain": [
       "GRHL3     258\n",
       "MAX        75\n",
       "TCF4       67\n",
       "RXRG       48\n",
       "ZIC3       43\n",
       "TFAP2A     32\n",
       "EBF3       32\n",
       "TBX5       27\n",
       "PKNOX1     20\n",
       "PRRX1      20\n",
       "Name: gene_symbol, dtype: int64"
      ]
     },
     "execution_count": 3,
     "metadata": {},
     "output_type": "execute_result"
    }
   ],
   "source": [
    "pdi['gene_symbol'].value_counts().head(10)"
   ]
  },
  {
   "cell_type": "code",
   "execution_count": 6,
   "metadata": {},
   "outputs": [],
   "source": [
    "# duplicate partner nodes to make a cleaner display\n",
    "\n",
    "degree_ggi = ppi.groupby('partner')['gene_symbol'].nunique()\n",
    "for partner, degree in degree_ggi.items():\n",
    "    if degree == 1:\n",
    "        continue\n",
    "    for i, tf_gene in enumerate(ppi.loc[ppi['partner'] == partner, \n",
    "                           'gene_symbol'].unique()):\n",
    "        ppi.loc[(ppi['partner'] == partner)\n",
    "                & (ppi['gene_symbol'] == tf_gene),\n",
    "                'partner'] = partner + \"_\" + str(i + 1)\n",
    "        \n",
    "\n",
    "degree_dna = pdi.groupby('partner')['gene_symbol'].nunique()\n",
    "for partner, degree in degree_dna.items():\n",
    "    if degree == 1:\n",
    "        continue\n",
    "    for i, tf_gene in enumerate(pdi.loc[pdi['partner'] == partner, \n",
    "                           'gene_symbol'].unique()):\n",
    "        pdi.loc[(pdi['partner'] == partner)\n",
    "                & (pdi['gene_symbol'] == tf_gene),\n",
    "                'partner'] = partner + \"_\" + str(i + 1)\n",
    "        \n",
    "\n",
    "pd.concat([ppi, pdi], axis=0).to_csv('../output/combined-network-for-cytoscape_duplicate-nodes_edges.tsv',\n",
    "                                     index=False,\n",
    "                                     sep='\\t')"
   ]
  }
 ],
 "metadata": {
  "kernelspec": {
   "display_name": "venv",
   "language": "python",
   "name": "python3"
  },
  "language_info": {
   "codemirror_mode": {
    "name": "ipython",
    "version": 3
   },
   "file_extension": ".py",
   "mimetype": "text/x-python",
   "name": "python",
   "nbconvert_exporter": "python",
   "pygments_lexer": "ipython3",
   "version": "3.8.13"
  }
 },
 "nbformat": 4,
 "nbformat_minor": 2
}
