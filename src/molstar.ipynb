{
    "cells": [
        {
            "cell_type": "code",
            "execution_count": 7,
            "metadata": {},
            "outputs": [
                {
                    "name": "stdout",
                    "output_type": "stream",
                    "text": [
                        "reading from cache\n"
                    ]
                }
            ],
            "source": [
                "# change print to string\n",
                "# copy template\n",
                "from pathlib import Path\n",
                "from data_loading import load_annotated_TFiso1_collection\n",
                "\n",
                "shared_dir = Path('/Users/lukelambourne/Dropbox (Partners HealthCare)/TF_isoforms')\n",
                "tf_webpage_dir = shared_dir / 'website'\n",
                "\n",
                "with open('molstar_template.js', 'r') as f:\n",
                "    template = f.read()\n",
                "\n",
                "tfs = load_annotated_TFiso1_collection()\n",
                "for gene in tfs.values():\n",
                "    exon_colors = gene._get_exon_colors()\n",
                "    iso_json = '['\n",
                "    for isoform in gene.cloned_isoforms:\n",
                "        exon_pos = 1\n",
                "        nt_diff = 0\n",
                "        iso_json += '\\n{name: \\'' + isoform.name + '\\','\n",
                "        exon_boundaries_in_aa = []\n",
                "        exon_colors_for_iso = []\n",
                "        for exon in isoform.exons:\n",
                "            n_nt_to_exon = (exon.end - exon.start) + nt_diff\n",
                "            n_aa_exon = round(n_nt_to_exon / 3)\n",
                "            nt_diff = {0: 0, 1: 1, 2: -1}[n_nt_to_exon % 3]\n",
                "            color = exon_colors[(isoform.name, exon.start, exon.end)]\n",
                "            start = exon_pos\n",
                "            end = (exon_pos + n_aa_exon) - 1\n",
                "            exon_boundaries_in_aa.append([start, end])\n",
                "            exon_colors_for_iso.append(color)\n",
                "            exon_pos += n_aa_exon\n",
                "        iso_json += '\\nexon_boundaries: ' + str(exon_boundaries_in_aa) + ','\n",
                "        iso_json += '\\nexon_colors: [' + ', '.join([f'{{r: {int(r * 255)}, g: {int(g * 255)}, b: {int(b * 255)}}}' for r, g, b in exon_colors_for_iso]) + ']'\n",
                "        iso_json += '},'\n",
                "    iso_json += ']'\n",
                "    with open(tf_webpage_dir / 'pages/{}-molstar.js'.format(gene.name), 'w') as f:\n",
                "        f.write(template.replace('cloned_isoform_json_array', iso_json))"
            ]
        },
        {
            "cell_type": "code",
            "execution_count": null,
            "metadata": {},
            "outputs": [],
            "source": []
        }
    ],
    "metadata": {
        "kernelspec": {
            "display_name": "venv",
            "language": "python",
            "name": "python3"
        },
        "language_info": {
            "codemirror_mode": {
                "name": "ipython",
                "version": 3
            },
            "file_extension": ".py",
            "mimetype": "text/x-python",
            "name": "python",
            "nbconvert_exporter": "python",
            "pygments_lexer": "ipython3",
            "version": "3.8.13"
        },
        "orig_nbformat": 4,
        "vscode": {
            "interpreter": {
                "hash": "4ae04c9a3e8cbfaaf818a59204fe953064ae0593c0d7ed4865e22581ae0526ea"
            }
        }
    },
    "nbformat": 4,
    "nbformat_minor": 2
}