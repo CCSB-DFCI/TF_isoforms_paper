{
 "cells": [
  {
   "cell_type": "code",
   "execution_count": 13,
   "metadata": {},
   "outputs": [],
   "source": [
    "import pandas as pd\n",
    "\n",
    "from data_loading import load_isoform_and_paralog_y2h_data, load_y1h_pdi_data, load_valid_isoform_clones"
   ]
  },
  {
   "cell_type": "code",
   "execution_count": 47,
   "metadata": {},
   "outputs": [],
   "source": [
    "# table of edges\n",
    "#    - clone to (edge + clone_id) + to duplicate\n",
    "# table of nodes\n",
    "#    - clone to gene\n",
    "#    - dna vs isoform vs \n",
    "ppi = load_isoform_and_paralog_y2h_data()\n",
    "ppi = ppi.loc[(ppi['category'] == 'tf_isoform_ppis') &\n",
    "              (ppi['score'] == '1'),\n",
    "              ['ad_clone_acc', 'ad_gene_symbol', 'db_gene_symbol']]\n",
    "ppi = ppi.rename(columns={'ad_clone_acc': 'isoform',\n",
    "                          'db_gene_symbol': 'partner'})\n",
    "ppi['partner'] = ppi['partner'] + '-' + ppi['ad_gene_symbol']\n",
    "pdi = pd.read_csv('../data/a2_juan_pdi_w_unique_isoacc.tsv', sep='\\t')\n",
    "clones = load_valid_isoform_clones()\n",
    "pdi = pdi.loc[pdi['unique_acc'].isin(clones['clone_acc']), :]\n",
    "pdi['partner'] = pdi['bait'] + '-' + pdi['tf']\n",
    "pdi['isoform'] = pdi['unique_acc']\n",
    "edges = pd.concat([ppi.loc[:, ['isoform', 'partner']],\n",
    "                   pdi.loc[:, ['isoform', 'partner']]])\n",
    "edges.to_csv('/Users/lukelambourne/Desktop/edges.tsv', sep='\\t', index=False)\n",
    "\n",
    "clones = clones.rename(columns={'clone_acc': 'node_id'})\n",
    "clones['type'] = 'isoform'\n",
    "dna = pd.DataFrame(data=pdi['partner'].unique(), columns=['node_id'])\n",
    "dna['type'] = 'DNA'\n",
    "proteins = pd.DataFrame(data=ppi['partner'].unique(), columns=['node_id'])\n",
    "proteins['type'] = 'Protein'\n",
    "nodes = pd.concat([clones, proteins, dna], sort=True)\n",
    "nodes.to_csv('/Users/lukelambourne/Desktop/node_table.tsv', sep='\\t', index=False)"
   ]
  },
  {
   "cell_type": "code",
   "execution_count": null,
   "metadata": {},
   "outputs": [],
   "source": []
  }
 ],
 "metadata": {
  "kernelspec": {
   "display_name": "Python 3",
   "language": "python",
   "name": "python3"
  },
  "language_info": {
   "codemirror_mode": {
    "name": "ipython",
    "version": 3
   },
   "file_extension": ".py",
   "mimetype": "text/x-python",
   "name": "python",
   "nbconvert_exporter": "python",
   "pygments_lexer": "ipython3",
   "version": "3.7.3"
  }
 },
 "nbformat": 4,
 "nbformat_minor": 2
}
