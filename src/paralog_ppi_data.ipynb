{
 "cells": [
  {
   "cell_type": "markdown",
   "metadata": {},
   "source": [
    "### Questions:\n",
    "\n",
    "- Why are there missing values in sequence ID for some pairs?\n",
    "- Are these just the subset that were sampled for Y2H?\n",
    "- How exactly were the pairs selected"
   ]
  },
  {
   "cell_type": "code",
   "execution_count": 1,
   "metadata": {},
   "outputs": [],
   "source": [
    "import numpy as np\n",
    "import pandas as pd\n",
    "from matplotlib import pyplot as plt\n",
    "\n",
    "from data_loading import (load_isoform_and_paralog_y2h_data,\n",
    "                          load_paralog_pairs,\n",
    "                          load_valid_isoform_clones)"
   ]
  },
  {
   "cell_type": "code",
   "execution_count": 2,
   "metadata": {},
   "outputs": [],
   "source": [
    "y2h = load_isoform_and_paralog_y2h_data()\n",
    "pairs = load_paralog_pairs()\n",
    "valid_clones = load_valid_isoform_clones()"
   ]
  },
  {
   "cell_type": "code",
   "execution_count": 3,
   "metadata": {},
   "outputs": [
    {
     "name": "stdout",
     "output_type": "stream",
     "text": [
      "(148, 4)\n"
     ]
    },
    {
     "data": {
      "text/html": [
       "<div>\n",
       "<style scoped>\n",
       "    .dataframe tbody tr th:only-of-type {\n",
       "        vertical-align: middle;\n",
       "    }\n",
       "\n",
       "    .dataframe tbody tr th {\n",
       "        vertical-align: top;\n",
       "    }\n",
       "\n",
       "    .dataframe thead th {\n",
       "        text-align: right;\n",
       "    }\n",
       "</style>\n",
       "<table border=\"1\" class=\"dataframe\">\n",
       "  <thead>\n",
       "    <tr style=\"text-align: right;\">\n",
       "      <th></th>\n",
       "      <th>tf_gene_a</th>\n",
       "      <th>tf_gene_b</th>\n",
       "      <th>is_paralog_pair</th>\n",
       "      <th>pct_aa_seq_identity</th>\n",
       "    </tr>\n",
       "  </thead>\n",
       "  <tbody>\n",
       "    <tr>\n",
       "      <th>0</th>\n",
       "      <td>ZNF18</td>\n",
       "      <td>ZNF263</td>\n",
       "      <td>True</td>\n",
       "      <td>28.9</td>\n",
       "    </tr>\n",
       "    <tr>\n",
       "      <th>1</th>\n",
       "      <td>ZNF24</td>\n",
       "      <td>ZNF394</td>\n",
       "      <td>True</td>\n",
       "      <td>30.5</td>\n",
       "    </tr>\n",
       "    <tr>\n",
       "      <th>2</th>\n",
       "      <td>ZSCAN21</td>\n",
       "      <td>ZSCAN9</td>\n",
       "      <td>True</td>\n",
       "      <td>37.3</td>\n",
       "    </tr>\n",
       "    <tr>\n",
       "      <th>3</th>\n",
       "      <td>LHX8</td>\n",
       "      <td>LHX9</td>\n",
       "      <td>True</td>\n",
       "      <td>30.0</td>\n",
       "    </tr>\n",
       "    <tr>\n",
       "      <th>4</th>\n",
       "      <td>ELF2</td>\n",
       "      <td>ETV6</td>\n",
       "      <td>True</td>\n",
       "      <td>10.7</td>\n",
       "    </tr>\n",
       "  </tbody>\n",
       "</table>\n",
       "</div>"
      ],
      "text/plain": [
       "  tf_gene_a tf_gene_b  is_paralog_pair  pct_aa_seq_identity\n",
       "0     ZNF18    ZNF263             True                 28.9\n",
       "1     ZNF24    ZNF394             True                 30.5\n",
       "2   ZSCAN21    ZSCAN9             True                 37.3\n",
       "3      LHX8      LHX9             True                 30.0\n",
       "4      ELF2      ETV6             True                 10.7"
      ]
     },
     "execution_count": 3,
     "metadata": {},
     "output_type": "execute_result"
    }
   ],
   "source": [
    "print(pairs.shape)\n",
    "pairs.head()"
   ]
  },
  {
   "cell_type": "code",
   "execution_count": 4,
   "metadata": {},
   "outputs": [
    {
     "data": {
      "text/plain": [
       "True     132\n",
       "False     16\n",
       "Name: is_paralog_pair, dtype: int64"
      ]
     },
     "execution_count": 4,
     "metadata": {},
     "output_type": "execute_result"
    }
   ],
   "source": [
    "pairs['is_paralog_pair'].value_counts()"
   ]
  },
  {
   "cell_type": "code",
   "execution_count": 5,
   "metadata": {},
   "outputs": [
    {
     "data": {
      "text/plain": [
       "tf_gene_a              0\n",
       "tf_gene_b              0\n",
       "is_paralog_pair        0\n",
       "pct_aa_seq_identity    9\n",
       "dtype: int64"
      ]
     },
     "execution_count": 5,
     "metadata": {},
     "output_type": "execute_result"
    }
   ],
   "source": [
    "pairs.isnull().sum()"
   ]
  },
  {
   "cell_type": "code",
   "execution_count": 6,
   "metadata": {},
   "outputs": [
    {
     "data": {
      "text/html": [
       "<div>\n",
       "<style scoped>\n",
       "    .dataframe tbody tr th:only-of-type {\n",
       "        vertical-align: middle;\n",
       "    }\n",
       "\n",
       "    .dataframe tbody tr th {\n",
       "        vertical-align: top;\n",
       "    }\n",
       "\n",
       "    .dataframe thead th {\n",
       "        text-align: right;\n",
       "    }\n",
       "</style>\n",
       "<table border=\"1\" class=\"dataframe\">\n",
       "  <thead>\n",
       "    <tr style=\"text-align: right;\">\n",
       "      <th></th>\n",
       "      <th>tf_gene_a</th>\n",
       "      <th>tf_gene_b</th>\n",
       "      <th>is_paralog_pair</th>\n",
       "      <th>pct_aa_seq_identity</th>\n",
       "    </tr>\n",
       "  </thead>\n",
       "  <tbody>\n",
       "    <tr>\n",
       "      <th>15</th>\n",
       "      <td>NR2F2</td>\n",
       "      <td>RXRB</td>\n",
       "      <td>True</td>\n",
       "      <td>NaN</td>\n",
       "    </tr>\n",
       "    <tr>\n",
       "      <th>18</th>\n",
       "      <td>RXRB</td>\n",
       "      <td>RXRG</td>\n",
       "      <td>True</td>\n",
       "      <td>NaN</td>\n",
       "    </tr>\n",
       "    <tr>\n",
       "      <th>28</th>\n",
       "      <td>HNF4A</td>\n",
       "      <td>RXRB</td>\n",
       "      <td>True</td>\n",
       "      <td>NaN</td>\n",
       "    </tr>\n",
       "    <tr>\n",
       "      <th>30</th>\n",
       "      <td>TEAD2</td>\n",
       "      <td>TEAD3</td>\n",
       "      <td>True</td>\n",
       "      <td>NaN</td>\n",
       "    </tr>\n",
       "    <tr>\n",
       "      <th>36</th>\n",
       "      <td>TEAD1</td>\n",
       "      <td>TEAD3</td>\n",
       "      <td>True</td>\n",
       "      <td>NaN</td>\n",
       "    </tr>\n",
       "    <tr>\n",
       "      <th>67</th>\n",
       "      <td>RXRA</td>\n",
       "      <td>RXRB</td>\n",
       "      <td>True</td>\n",
       "      <td>NaN</td>\n",
       "    </tr>\n",
       "    <tr>\n",
       "      <th>73</th>\n",
       "      <td>TEAD3</td>\n",
       "      <td>TEAD4</td>\n",
       "      <td>True</td>\n",
       "      <td>NaN</td>\n",
       "    </tr>\n",
       "    <tr>\n",
       "      <th>81</th>\n",
       "      <td>TEAD1</td>\n",
       "      <td>TEAD2</td>\n",
       "      <td>True</td>\n",
       "      <td>NaN</td>\n",
       "    </tr>\n",
       "    <tr>\n",
       "      <th>98</th>\n",
       "      <td>TEAD1</td>\n",
       "      <td>TEAD4</td>\n",
       "      <td>True</td>\n",
       "      <td>NaN</td>\n",
       "    </tr>\n",
       "  </tbody>\n",
       "</table>\n",
       "</div>"
      ],
      "text/plain": [
       "   tf_gene_a tf_gene_b  is_paralog_pair  pct_aa_seq_identity\n",
       "15     NR2F2      RXRB             True                  NaN\n",
       "18      RXRB      RXRG             True                  NaN\n",
       "28     HNF4A      RXRB             True                  NaN\n",
       "30     TEAD2     TEAD3             True                  NaN\n",
       "36     TEAD1     TEAD3             True                  NaN\n",
       "67      RXRA      RXRB             True                  NaN\n",
       "73     TEAD3     TEAD4             True                  NaN\n",
       "81     TEAD1     TEAD2             True                  NaN\n",
       "98     TEAD1     TEAD4             True                  NaN"
      ]
     },
     "execution_count": 6,
     "metadata": {},
     "output_type": "execute_result"
    }
   ],
   "source": [
    "pairs.loc[pairs['pct_aa_seq_identity'].isnull(), :]"
   ]
  },
  {
   "cell_type": "code",
   "execution_count": 7,
   "metadata": {},
   "outputs": [
    {
     "data": {
      "text/plain": [
       "(148, 4)"
      ]
     },
     "execution_count": 7,
     "metadata": {},
     "output_type": "execute_result"
    }
   ],
   "source": [
    "pairs.shape"
   ]
  },
  {
   "cell_type": "code",
   "execution_count": 8,
   "metadata": {},
   "outputs": [
    {
     "data": {
      "text/html": [
       "<div>\n",
       "<style scoped>\n",
       "    .dataframe tbody tr th:only-of-type {\n",
       "        vertical-align: middle;\n",
       "    }\n",
       "\n",
       "    .dataframe tbody tr th {\n",
       "        vertical-align: top;\n",
       "    }\n",
       "\n",
       "    .dataframe thead th {\n",
       "        text-align: right;\n",
       "    }\n",
       "</style>\n",
       "<table border=\"1\" class=\"dataframe\">\n",
       "  <thead>\n",
       "    <tr style=\"text-align: right;\">\n",
       "      <th></th>\n",
       "      <th>tf_gene_a</th>\n",
       "      <th>tf_gene_b</th>\n",
       "      <th>is_paralog_pair</th>\n",
       "      <th>pct_aa_seq_identity</th>\n",
       "    </tr>\n",
       "  </thead>\n",
       "  <tbody>\n",
       "    <tr>\n",
       "      <th>133</th>\n",
       "      <td>GLIS2</td>\n",
       "      <td>PCGF6</td>\n",
       "      <td>False</td>\n",
       "      <td>2.2</td>\n",
       "    </tr>\n",
       "    <tr>\n",
       "      <th>134</th>\n",
       "      <td>NFIX</td>\n",
       "      <td>TCF4</td>\n",
       "      <td>False</td>\n",
       "      <td>10.1</td>\n",
       "    </tr>\n",
       "    <tr>\n",
       "      <th>135</th>\n",
       "      <td>FOSB</td>\n",
       "      <td>PATZ1</td>\n",
       "      <td>False</td>\n",
       "      <td>12.0</td>\n",
       "    </tr>\n",
       "    <tr>\n",
       "      <th>136</th>\n",
       "      <td>ELF2</td>\n",
       "      <td>NFYA</td>\n",
       "      <td>False</td>\n",
       "      <td>7.7</td>\n",
       "    </tr>\n",
       "    <tr>\n",
       "      <th>137</th>\n",
       "      <td>HMBOX1</td>\n",
       "      <td>TFCP2</td>\n",
       "      <td>False</td>\n",
       "      <td>7.7</td>\n",
       "    </tr>\n",
       "    <tr>\n",
       "      <th>138</th>\n",
       "      <td>HOXA1</td>\n",
       "      <td>ZNF131</td>\n",
       "      <td>False</td>\n",
       "      <td>3.5</td>\n",
       "    </tr>\n",
       "    <tr>\n",
       "      <th>139</th>\n",
       "      <td>ZBTB48</td>\n",
       "      <td>ZIC3</td>\n",
       "      <td>False</td>\n",
       "      <td>15.7</td>\n",
       "    </tr>\n",
       "    <tr>\n",
       "      <th>140</th>\n",
       "      <td>NFIX</td>\n",
       "      <td>NR2F2</td>\n",
       "      <td>False</td>\n",
       "      <td>5.1</td>\n",
       "    </tr>\n",
       "    <tr>\n",
       "      <th>142</th>\n",
       "      <td>GRHL3</td>\n",
       "      <td>SPIB</td>\n",
       "      <td>False</td>\n",
       "      <td>5.8</td>\n",
       "    </tr>\n",
       "    <tr>\n",
       "      <th>144</th>\n",
       "      <td>REL</td>\n",
       "      <td>RFX4</td>\n",
       "      <td>False</td>\n",
       "      <td>12.8</td>\n",
       "    </tr>\n",
       "    <tr>\n",
       "      <th>146</th>\n",
       "      <td>LHX9</td>\n",
       "      <td>PATZ1</td>\n",
       "      <td>False</td>\n",
       "      <td>10.1</td>\n",
       "    </tr>\n",
       "    <tr>\n",
       "      <th>147</th>\n",
       "      <td>DDIT3</td>\n",
       "      <td>RELA</td>\n",
       "      <td>False</td>\n",
       "      <td>5.7</td>\n",
       "    </tr>\n",
       "    <tr>\n",
       "      <th>149</th>\n",
       "      <td>GATA1</td>\n",
       "      <td>NR2F2</td>\n",
       "      <td>False</td>\n",
       "      <td>4.9</td>\n",
       "    </tr>\n",
       "    <tr>\n",
       "      <th>150</th>\n",
       "      <td>HNF4A</td>\n",
       "      <td>ZBTB16</td>\n",
       "      <td>False</td>\n",
       "      <td>7.8</td>\n",
       "    </tr>\n",
       "    <tr>\n",
       "      <th>153</th>\n",
       "      <td>FOS</td>\n",
       "      <td>ZBTB25</td>\n",
       "      <td>False</td>\n",
       "      <td>8.6</td>\n",
       "    </tr>\n",
       "    <tr>\n",
       "      <th>155</th>\n",
       "      <td>HMG20A</td>\n",
       "      <td>HNF4A</td>\n",
       "      <td>False</td>\n",
       "      <td>2.1</td>\n",
       "    </tr>\n",
       "  </tbody>\n",
       "</table>\n",
       "</div>"
      ],
      "text/plain": [
       "    tf_gene_a tf_gene_b  is_paralog_pair  pct_aa_seq_identity\n",
       "133     GLIS2     PCGF6            False                  2.2\n",
       "134      NFIX      TCF4            False                 10.1\n",
       "135      FOSB     PATZ1            False                 12.0\n",
       "136      ELF2      NFYA            False                  7.7\n",
       "137    HMBOX1     TFCP2            False                  7.7\n",
       "138     HOXA1    ZNF131            False                  3.5\n",
       "139    ZBTB48      ZIC3            False                 15.7\n",
       "140      NFIX     NR2F2            False                  5.1\n",
       "142     GRHL3      SPIB            False                  5.8\n",
       "144       REL      RFX4            False                 12.8\n",
       "146      LHX9     PATZ1            False                 10.1\n",
       "147     DDIT3      RELA            False                  5.7\n",
       "149     GATA1     NR2F2            False                  4.9\n",
       "150     HNF4A    ZBTB16            False                  7.8\n",
       "153       FOS    ZBTB25            False                  8.6\n",
       "155    HMG20A     HNF4A            False                  2.1"
      ]
     },
     "execution_count": 8,
     "metadata": {},
     "output_type": "execute_result"
    }
   ],
   "source": [
    "pairs.loc[~pairs['is_paralog_pair'], :]"
   ]
  },
  {
   "cell_type": "code",
   "execution_count": 9,
   "metadata": {},
   "outputs": [
    {
     "name": "stdout",
     "output_type": "stream",
     "text": [
      "(148, 4)\n",
      "True     132\n",
      "False     16\n",
      "Name: is_paralog_pair, dtype: int64\n"
     ]
    }
   ],
   "source": [
    "print(pairs.shape)\n",
    "print(pairs['is_paralog_pair'].value_counts())"
   ]
  },
  {
   "cell_type": "code",
   "execution_count": 10,
   "metadata": {},
   "outputs": [],
   "source": [
    "from collections import Counter\n",
    "\n",
    "counts = pd.Series(Counter(pairs[['tf_gene_a', 'tf_gene_b']].values.flatten()))"
   ]
  },
  {
   "cell_type": "code",
   "execution_count": 11,
   "metadata": {},
   "outputs": [
    {
     "name": "stdout",
     "output_type": "stream",
     "text": [
      "(109,)\n"
     ]
    },
    {
     "data": {
      "text/plain": [
       "1     43\n",
       "2     21\n",
       "3     14\n",
       "4     16\n",
       "6      8\n",
       "7      3\n",
       "8      2\n",
       "9      1\n",
       "11     1\n",
       "dtype: int64"
      ]
     },
     "execution_count": 11,
     "metadata": {},
     "output_type": "execute_result"
    }
   ],
   "source": [
    "print(counts.shape)\n",
    "counts.value_counts().sort_index()"
   ]
  },
  {
   "cell_type": "code",
   "execution_count": 12,
   "metadata": {},
   "outputs": [
    {
     "data": {
      "text/plain": [
       "RARG     11\n",
       "RXRA      9\n",
       "ESRRA     8\n",
       "HNF4A     8\n",
       "PPARG     7\n",
       "dtype: int64"
      ]
     },
     "execution_count": 12,
     "metadata": {},
     "output_type": "execute_result"
    }
   ],
   "source": [
    "counts.sort_values(ascending=False).head()"
   ]
  },
  {
   "cell_type": "code",
   "execution_count": 13,
   "metadata": {},
   "outputs": [
    {
     "data": {
      "text/html": [
       "<div>\n",
       "<style scoped>\n",
       "    .dataframe tbody tr th:only-of-type {\n",
       "        vertical-align: middle;\n",
       "    }\n",
       "\n",
       "    .dataframe tbody tr th {\n",
       "        vertical-align: top;\n",
       "    }\n",
       "\n",
       "    .dataframe thead th {\n",
       "        text-align: right;\n",
       "    }\n",
       "</style>\n",
       "<table border=\"1\" class=\"dataframe\">\n",
       "  <thead>\n",
       "    <tr style=\"text-align: right;\">\n",
       "      <th></th>\n",
       "      <th>large_plate_name</th>\n",
       "      <th>retest_pla</th>\n",
       "      <th>retest_pos</th>\n",
       "      <th>ad_gene_symbol</th>\n",
       "      <th>ad_clone_name</th>\n",
       "      <th>ad_orf_id</th>\n",
       "      <th>db_gene_symbol</th>\n",
       "      <th>db_orf_id</th>\n",
       "      <th>category</th>\n",
       "      <th>3AT</th>\n",
       "      <th>LW</th>\n",
       "      <th>empty_AD_3AT</th>\n",
       "      <th>empty_AD_LW</th>\n",
       "      <th>Y2H_result</th>\n",
       "      <th>seq_confirmation_3AT</th>\n",
       "      <th>seq_confirmation_LW</th>\n",
       "      <th>ad_clone_acc</th>\n",
       "    </tr>\n",
       "  </thead>\n",
       "  <tbody>\n",
       "    <tr>\n",
       "      <th>1</th>\n",
       "      <td>TFfnlr07_001_002_003_004_005_006</td>\n",
       "      <td>5</td>\n",
       "      <td>A02</td>\n",
       "      <td>ATF2</td>\n",
       "      <td>ATF2-1</td>\n",
       "      <td>101414</td>\n",
       "      <td>COL8A1</td>\n",
       "      <td>3053</td>\n",
       "      <td>tf_paralog_ppis</td>\n",
       "      <td>0</td>\n",
       "      <td>4</td>\n",
       "      <td>0</td>\n",
       "      <td>4</td>\n",
       "      <td>False</td>\n",
       "      <td>NaN</td>\n",
       "      <td>True</td>\n",
       "      <td>ATF2|1/6|12H04</td>\n",
       "    </tr>\n",
       "    <tr>\n",
       "      <th>2</th>\n",
       "      <td>TFfnlr07_001_002_003_004_005_006</td>\n",
       "      <td>5</td>\n",
       "      <td>A03</td>\n",
       "      <td>ATF2</td>\n",
       "      <td>ATF2-1</td>\n",
       "      <td>101414</td>\n",
       "      <td>EFEMP2</td>\n",
       "      <td>2906</td>\n",
       "      <td>tf_paralog_ppis</td>\n",
       "      <td>0</td>\n",
       "      <td>4</td>\n",
       "      <td>0</td>\n",
       "      <td>4</td>\n",
       "      <td>False</td>\n",
       "      <td>NaN</td>\n",
       "      <td>True</td>\n",
       "      <td>ATF2|1/6|12H04</td>\n",
       "    </tr>\n",
       "    <tr>\n",
       "      <th>13</th>\n",
       "      <td>TFfnlr07_001_002_003_004_005_006</td>\n",
       "      <td>5</td>\n",
       "      <td>B02</td>\n",
       "      <td>ATF2</td>\n",
       "      <td>ATF2-2</td>\n",
       "      <td>101256</td>\n",
       "      <td>COL8A1</td>\n",
       "      <td>3053</td>\n",
       "      <td>tf_paralog_ppis</td>\n",
       "      <td>0</td>\n",
       "      <td>4</td>\n",
       "      <td>0</td>\n",
       "      <td>4</td>\n",
       "      <td>False</td>\n",
       "      <td>NaN</td>\n",
       "      <td>True</td>\n",
       "      <td>ATF2|2/6|09E05</td>\n",
       "    </tr>\n",
       "    <tr>\n",
       "      <th>14</th>\n",
       "      <td>TFfnlr07_001_002_003_004_005_006</td>\n",
       "      <td>5</td>\n",
       "      <td>B03</td>\n",
       "      <td>ATF2</td>\n",
       "      <td>ATF2-2</td>\n",
       "      <td>101256</td>\n",
       "      <td>EFEMP2</td>\n",
       "      <td>2906</td>\n",
       "      <td>tf_paralog_ppis</td>\n",
       "      <td>0</td>\n",
       "      <td>4</td>\n",
       "      <td>0</td>\n",
       "      <td>4</td>\n",
       "      <td>False</td>\n",
       "      <td>NaN</td>\n",
       "      <td>True</td>\n",
       "      <td>ATF2|2/6|09E05</td>\n",
       "    </tr>\n",
       "    <tr>\n",
       "      <th>25</th>\n",
       "      <td>TFfnlr07_001_002_003_004_005_006</td>\n",
       "      <td>5</td>\n",
       "      <td>C02</td>\n",
       "      <td>ATF2</td>\n",
       "      <td>ATF2-3</td>\n",
       "      <td>101254</td>\n",
       "      <td>COL8A1</td>\n",
       "      <td>3053</td>\n",
       "      <td>tf_paralog_ppis</td>\n",
       "      <td>0</td>\n",
       "      <td>4</td>\n",
       "      <td>0</td>\n",
       "      <td>4</td>\n",
       "      <td>False</td>\n",
       "      <td>NaN</td>\n",
       "      <td>True</td>\n",
       "      <td>ATF2|3/6|09C05</td>\n",
       "    </tr>\n",
       "  </tbody>\n",
       "</table>\n",
       "</div>"
      ],
      "text/plain": [
       "                    large_plate_name  retest_pla retest_pos ad_gene_symbol  \\\n",
       "1   TFfnlr07_001_002_003_004_005_006           5        A02           ATF2   \n",
       "2   TFfnlr07_001_002_003_004_005_006           5        A03           ATF2   \n",
       "13  TFfnlr07_001_002_003_004_005_006           5        B02           ATF2   \n",
       "14  TFfnlr07_001_002_003_004_005_006           5        B03           ATF2   \n",
       "25  TFfnlr07_001_002_003_004_005_006           5        C02           ATF2   \n",
       "\n",
       "   ad_clone_name  ad_orf_id db_gene_symbol  db_orf_id         category 3AT LW  \\\n",
       "1         ATF2-1     101414         COL8A1       3053  tf_paralog_ppis   0  4   \n",
       "2         ATF2-1     101414         EFEMP2       2906  tf_paralog_ppis   0  4   \n",
       "13        ATF2-2     101256         COL8A1       3053  tf_paralog_ppis   0  4   \n",
       "14        ATF2-2     101256         EFEMP2       2906  tf_paralog_ppis   0  4   \n",
       "25        ATF2-3     101254         COL8A1       3053  tf_paralog_ppis   0  4   \n",
       "\n",
       "   empty_AD_3AT empty_AD_LW Y2H_result seq_confirmation_3AT  \\\n",
       "1             0           4      False                  NaN   \n",
       "2             0           4      False                  NaN   \n",
       "13            0           4      False                  NaN   \n",
       "14            0           4      False                  NaN   \n",
       "25            0           4      False                  NaN   \n",
       "\n",
       "    seq_confirmation_LW    ad_clone_acc  \n",
       "1                  True  ATF2|1/6|12H04  \n",
       "2                  True  ATF2|1/6|12H04  \n",
       "13                 True  ATF2|2/6|09E05  \n",
       "14                 True  ATF2|2/6|09E05  \n",
       "25                 True  ATF2|3/6|09C05  "
      ]
     },
     "execution_count": 13,
     "metadata": {},
     "output_type": "execute_result"
    }
   ],
   "source": [
    "# add matched_gene column to y2h table\n",
    "y2h_paralog = y2h.loc[y2h['category'].isin(['tf_paralog_ppis',\n",
    "                                            'paralog_with_PDI',\n",
    "                                            'non_paralog_control']), :].copy()\n",
    "y2h_paralog.head()"
   ]
  },
  {
   "cell_type": "code",
   "execution_count": 14,
   "metadata": {},
   "outputs": [],
   "source": [
    "from collections import defaultdict\n",
    "pair_map = defaultdict(set)\n",
    "for _i, row in pairs.iterrows():\n",
    "    a, b = row['tf_gene_a'], row['tf_gene_b']\n",
    "    pair_map[a].add(b)\n",
    "    pair_map[b].add(a)"
   ]
  },
  {
   "cell_type": "code",
   "execution_count": 15,
   "metadata": {},
   "outputs": [],
   "source": [
    "def find_matching_gene(row):\n",
    "    matches = pair_map[row['ad_gene_symbol']]\n",
    "    matches = set(y2h.loc[(y2h['category'] == 'tf_isoform_ppis') &\n",
    "            y2h['ad_gene_symbol'].isin(matches) &\n",
    "            (y2h['db_gene_symbol'] == row['db_gene_symbol']), \n",
    "            'ad_gene_symbol'].unique())\n",
    "    if len(matches) == 0:\n",
    "        return np.nan\n",
    "    else:\n",
    "        return '|'.join(matches)\n",
    "\n",
    "\n",
    "y2h_paralog['paired_tf_gene'] = y2h_paralog.apply(find_matching_gene, axis=1)"
   ]
  },
  {
   "cell_type": "code",
   "execution_count": 16,
   "metadata": {},
   "outputs": [],
   "source": [
    "def matches_a_positive(row):\n",
    "    matches = pair_map[row['ad_gene_symbol']]\n",
    "    matches = set(y2h.loc[(y2h['category'] == 'tf_isoform_ppis') &\n",
    "            y2h['ad_gene_symbol'].isin(matches) &\n",
    "            (y2h['Y2H_result'] == True) &\n",
    "            (y2h['db_gene_symbol'] == row['db_gene_symbol']), \n",
    "            'ad_gene_symbol'].unique())\n",
    "    return len(matches) > 0\n",
    "\n",
    "y2h_paralog['matches_positive'] = y2h_paralog.apply(matches_a_positive, axis=1)"
   ]
  },
  {
   "cell_type": "code",
   "execution_count": 17,
   "metadata": {},
   "outputs": [
    {
     "data": {
      "text/plain": [
       "False    4207\n",
       "Name: paired_tf_gene, dtype: int64"
      ]
     },
     "execution_count": 17,
     "metadata": {},
     "output_type": "execute_result"
    }
   ],
   "source": [
    "y2h_paralog['paired_tf_gene'].isnull().value_counts()"
   ]
  },
  {
   "cell_type": "code",
   "execution_count": 18,
   "metadata": {},
   "outputs": [
    {
     "data": {
      "text/plain": [
       "True     3166\n",
       "False    1041\n",
       "Name: matches_positive, dtype: int64"
      ]
     },
     "execution_count": 18,
     "metadata": {},
     "output_type": "execute_result"
    }
   ],
   "source": [
    "y2h_paralog['matches_positive'].value_counts()"
   ]
  },
  {
   "cell_type": "code",
   "execution_count": 19,
   "metadata": {},
   "outputs": [],
   "source": [
    "gte2iso = (y2h.loc[y2h['category'] == 'tf_isoform_ppis', :]\n",
    "              .groupby('ad_gene_symbol')['ad_clone_acc']\n",
    "              .nunique() >= 2)\n",
    "gte2iso = set(gte2iso.index[gte2iso])\n",
    "y2h_paralog['at_least_2_isoforms'] = (y2h_paralog['ad_gene_symbol'].isin(gte2iso) &\n",
    "                                      y2h_paralog['paired_tf_gene'].apply(lambda x: any(g in gte2iso for g in x.split('|')) if pd.notnull(x) else False))"
   ]
  },
  {
   "cell_type": "code",
   "execution_count": 20,
   "metadata": {},
   "outputs": [],
   "source": [
    "gte2partner = (y2h.loc[y2h['category'] == 'tf_isoform_ppis', :]\n",
    "                  .groupby('ad_gene_symbol')['db_gene_symbol']\n",
    "                  .nunique() >= 2)\n",
    "gte2partner = set(gte2partner.index[gte2partner])\n",
    "y2h_paralog['at_least_2_partners'] = (y2h_paralog['ad_gene_symbol'].isin(gte2partner) &\n",
    "                                      y2h_paralog['paired_tf_gene'].apply(lambda x: any(g in gte2partner for g in x.split('|')) if pd.notnull(x) else False))"
   ]
  },
  {
   "cell_type": "code",
   "execution_count": 21,
   "metadata": {},
   "outputs": [
    {
     "data": {
      "text/plain": [
       "True    4207\n",
       "Name: at_least_2_partners, dtype: int64"
      ]
     },
     "execution_count": 21,
     "metadata": {},
     "output_type": "execute_result"
    }
   ],
   "source": [
    "y2h_paralog['at_least_2_partners'].value_counts()"
   ]
  },
  {
   "cell_type": "code",
   "execution_count": 22,
   "metadata": {},
   "outputs": [],
   "source": [
    "non_zero_iso = set(y2h.loc[y2h['category'].isin(['tf_isoform_ppis', \n",
    "                                            'tf_paralog_ppis',\n",
    "                                            'paralog_with_PDI',\n",
    "                                            'non_paralog_control'])\n",
    "                       & (y2h['Y2H_result'] == True), \n",
    "                        'ad_clone_acc'].unique())"
   ]
  },
  {
   "cell_type": "code",
   "execution_count": 23,
   "metadata": {},
   "outputs": [
    {
     "data": {
      "text/html": [
       "<div>\n",
       "<style scoped>\n",
       "    .dataframe tbody tr th:only-of-type {\n",
       "        vertical-align: middle;\n",
       "    }\n",
       "\n",
       "    .dataframe tbody tr th {\n",
       "        vertical-align: top;\n",
       "    }\n",
       "\n",
       "    .dataframe thead th {\n",
       "        text-align: right;\n",
       "    }\n",
       "</style>\n",
       "<table border=\"1\" class=\"dataframe\">\n",
       "  <thead>\n",
       "    <tr style=\"text-align: right;\">\n",
       "      <th></th>\n",
       "      <th>N PPI</th>\n",
       "      <th>N TF genes</th>\n",
       "      <th>N TF isoforms</th>\n",
       "      <th>N PPI partners</th>\n",
       "    </tr>\n",
       "  </thead>\n",
       "  <tbody>\n",
       "    <tr>\n",
       "      <th>Originally tested</th>\n",
       "      <td>4207</td>\n",
       "      <td>72</td>\n",
       "      <td>207</td>\n",
       "      <td>551</td>\n",
       "    </tr>\n",
       "    <tr>\n",
       "      <th>Matches current clones and isoform PPIs</th>\n",
       "      <td>4207</td>\n",
       "      <td>72</td>\n",
       "      <td>207</td>\n",
       "      <td>551</td>\n",
       "    </tr>\n",
       "    <tr>\n",
       "      <th>At least two isoforms per TF gene</th>\n",
       "      <td>4207</td>\n",
       "      <td>72</td>\n",
       "      <td>207</td>\n",
       "      <td>551</td>\n",
       "    </tr>\n",
       "    <tr>\n",
       "      <th>At least two partners per TF gene</th>\n",
       "      <td>4207</td>\n",
       "      <td>72</td>\n",
       "      <td>207</td>\n",
       "      <td>551</td>\n",
       "    </tr>\n",
       "    <tr>\n",
       "      <th>Positive with one of isoforms of paired paralog gene</th>\n",
       "      <td>3166</td>\n",
       "      <td>69</td>\n",
       "      <td>200</td>\n",
       "      <td>430</td>\n",
       "    </tr>\n",
       "    <tr>\n",
       "      <th>At least one positive per isoform</th>\n",
       "      <td>2325</td>\n",
       "      <td>66</td>\n",
       "      <td>142</td>\n",
       "      <td>428</td>\n",
       "    </tr>\n",
       "  </tbody>\n",
       "</table>\n",
       "</div>"
      ],
      "text/plain": [
       "                                                    N PPI  N TF genes  \\\n",
       "Originally tested                                    4207          72   \n",
       "Matches current clones and isoform PPIs              4207          72   \n",
       "At least two isoforms per TF gene                    4207          72   \n",
       "At least two partners per TF gene                    4207          72   \n",
       "Positive with one of isoforms of paired paralog...   3166          69   \n",
       "At least one positive per isoform                    2325          66   \n",
       "\n",
       "                                                    N TF isoforms  \\\n",
       "Originally tested                                             207   \n",
       "Matches current clones and isoform PPIs                       207   \n",
       "At least two isoforms per TF gene                             207   \n",
       "At least two partners per TF gene                             207   \n",
       "Positive with one of isoforms of paired paralog...            200   \n",
       "At least one positive per isoform                             142   \n",
       "\n",
       "                                                    N PPI partners  \n",
       "Originally tested                                              551  \n",
       "Matches current clones and isoform PPIs                        551  \n",
       "At least two isoforms per TF gene                              551  \n",
       "At least two partners per TF gene                              551  \n",
       "Positive with one of isoforms of paired paralog...             430  \n",
       "At least one positive per isoform                              428  "
      ]
     },
     "execution_count": 23,
     "metadata": {},
     "output_type": "execute_result"
    }
   ],
   "source": [
    "def numbers_per_cutoff(df):\n",
    "    return {'N PPI': df.shape[0],\n",
    "            'N TF genes': df['ad_gene_symbol'].nunique(),\n",
    "            'N TF isoforms': df['ad_clone_acc'].nunique(),\n",
    "            'N PPI partners': df['db_gene_symbol'].nunique()}\n",
    "\n",
    "filtered_datasets = {'Originally tested': \n",
    "                    y2h_paralog,\n",
    "                    'Matches current clones and isoform PPIs':\n",
    "                    y2h_paralog.loc[y2h_paralog['paired_tf_gene'].notnull(), :],\n",
    "              'At least two isoforms per TF gene': \n",
    "              y2h_paralog.loc[y2h_paralog['paired_tf_gene'].notnull() &\n",
    "                  y2h_paralog['at_least_2_isoforms'], :],\n",
    "              'At least two partners per TF gene': \n",
    "                y2h_paralog.loc[y2h_paralog['paired_tf_gene'].notnull() &\n",
    "                                y2h_paralog['at_least_2_isoforms'] &\n",
    "                                y2h_paralog['at_least_2_partners'], :],\n",
    "            'Positive with one of isoforms of paired paralog gene': \n",
    "                y2h_paralog.loc[y2h_paralog['paired_tf_gene'].notnull() &\n",
    "                                y2h_paralog['at_least_2_isoforms'] &\n",
    "                                y2h_paralog['at_least_2_partners'] &\n",
    "                                y2h_paralog['matches_positive'], :],\n",
    "              'At least one positive per isoform': \n",
    "                y2h_paralog.loc[y2h_paralog['paired_tf_gene'].notnull() &\n",
    "                                y2h_paralog['at_least_2_isoforms'] &\n",
    "                                y2h_paralog['at_least_2_partners'] &\n",
    "                                y2h_paralog['matches_positive'] &\n",
    "                                y2h_paralog['ad_clone_acc'].isin(non_zero_iso), :],\n",
    "               }\n",
    "\n",
    "\n",
    "pd.DataFrame({k: numbers_per_cutoff(v) for k, v in filtered_datasets.items()}).T"
   ]
  },
  {
   "cell_type": "code",
   "execution_count": 24,
   "metadata": {},
   "outputs": [
    {
     "data": {
      "text/plain": [
       "array(['NR2F2', 'NFIA', 'TCF4'], dtype=object)"
      ]
     },
     "execution_count": 24,
     "metadata": {},
     "output_type": "execute_result"
    }
   ],
   "source": [
    "# pairs that come from lit-bm testing negative: e.g. REL tested against RNF25 from parlog RELA\n",
    "\n",
    "\n",
    "# NFIX tested against ZBTB25\n",
    "\n",
    "\n",
    "# nothing for TSC22D4?\n",
    "# perhaps clones all failed?\n",
    "\n",
    "\n",
    "#y2h.loc[y2h['ad_gene_symbol'].isin(pair_map['NFIX']) &\n",
    "#        (y2h['db_gene_symbol'] == 'ZBTB25'), :]\n",
    "#y2h.loc[(y2h['db_gene_symbol'] == 'ZBTB25'), :]\n",
    "y2h.loc[y2h['ad_gene_symbol'].isin(pair_map['NFIX']), 'ad_gene_symbol'].unique()"
   ]
  },
  {
   "cell_type": "code",
   "execution_count": 25,
   "metadata": {},
   "outputs": [],
   "source": [
    "from data_loading import load_valid_isoform_clones\n",
    "clones = load_valid_isoform_clones()"
   ]
  },
  {
   "cell_type": "code",
   "execution_count": 26,
   "metadata": {},
   "outputs": [
    {
     "data": {
      "text/html": [
       "<div>\n",
       "<style scoped>\n",
       "    .dataframe tbody tr th:only-of-type {\n",
       "        vertical-align: middle;\n",
       "    }\n",
       "\n",
       "    .dataframe tbody tr th {\n",
       "        vertical-align: top;\n",
       "    }\n",
       "\n",
       "    .dataframe thead th {\n",
       "        text-align: right;\n",
       "    }\n",
       "</style>\n",
       "<table border=\"1\" class=\"dataframe\">\n",
       "  <thead>\n",
       "    <tr style=\"text-align: right;\">\n",
       "      <th></th>\n",
       "      <th>gene</th>\n",
       "      <th>clone_acc</th>\n",
       "      <th>cds</th>\n",
       "      <th>aa_seq</th>\n",
       "      <th>num_aa</th>\n",
       "      <th>is_novel_isoform</th>\n",
       "      <th>clone_name</th>\n",
       "    </tr>\n",
       "  </thead>\n",
       "  <tbody>\n",
       "    <tr>\n",
       "      <th>0</th>\n",
       "      <td>AEBP2</td>\n",
       "      <td>AEBP2|2/3|05F03</td>\n",
       "      <td>ATGGATGTAGACAGCACAATTTCCAGTGGGCGTTCAACTCCAGCAA...</td>\n",
       "      <td>MDVDSTISSGRSTPAMMNGQGSTTSSSKNIAYNCCWDQCQACFNSS...</td>\n",
       "      <td>268</td>\n",
       "      <td>True</td>\n",
       "      <td>AEBP2-2</td>\n",
       "    </tr>\n",
       "    <tr>\n",
       "      <th>1</th>\n",
       "      <td>AEBP2</td>\n",
       "      <td>AEBP2|3/3|05E07</td>\n",
       "      <td>ATGTACACACGTCGGTACTCAAGCATAAGCAGTACTATAATGGATG...</td>\n",
       "      <td>MYTRRYSSISSTIMDVDSTISSGRSTPAMMNGQGSTTSSSKNIAYN...</td>\n",
       "      <td>263</td>\n",
       "      <td>True</td>\n",
       "      <td>AEBP2-3</td>\n",
       "    </tr>\n",
       "    <tr>\n",
       "      <th>2</th>\n",
       "      <td>ARNT2</td>\n",
       "      <td>ARNT2|1/6|08C12</td>\n",
       "      <td>ATGGCAACCCCGGCGGCGGTCAACCCTCCGGAAATGGCTTCAGACA...</td>\n",
       "      <td>MATPAAVNPPEMASDIPGSVTLPVAPMAATGQVRMAGAMPARGGKR...</td>\n",
       "      <td>717</td>\n",
       "      <td>False</td>\n",
       "      <td>ARNT2-1</td>\n",
       "    </tr>\n",
       "    <tr>\n",
       "      <th>3</th>\n",
       "      <td>ARNT2</td>\n",
       "      <td>ARNT2|2/6|09E01</td>\n",
       "      <td>ATGGCTTCAGACATACCTGGATCTGTGACGTTGCCCGTTGCCCCCA...</td>\n",
       "      <td>MASDIPGSVTLPVAPMAATGQVRMAGAMPARGGKRRSGMDFDDEDG...</td>\n",
       "      <td>683</td>\n",
       "      <td>True</td>\n",
       "      <td>ARNT2-2</td>\n",
       "    </tr>\n",
       "    <tr>\n",
       "      <th>4</th>\n",
       "      <td>ARNT2</td>\n",
       "      <td>ARNT2|3/6|10D11</td>\n",
       "      <td>ATGGCAACCCCGGCGGCGGTCAACCCTCCGGAAATGGCTTCAGACA...</td>\n",
       "      <td>MATPAAVNPPEMASDIPGSVTLPVAPMAATGQVRMAGAMPARGGKR...</td>\n",
       "      <td>716</td>\n",
       "      <td>False</td>\n",
       "      <td>ARNT2-3</td>\n",
       "    </tr>\n",
       "  </tbody>\n",
       "</table>\n",
       "</div>"
      ],
      "text/plain": [
       "    gene        clone_acc                                                cds  \\\n",
       "0  AEBP2  AEBP2|2/3|05F03  ATGGATGTAGACAGCACAATTTCCAGTGGGCGTTCAACTCCAGCAA...   \n",
       "1  AEBP2  AEBP2|3/3|05E07  ATGTACACACGTCGGTACTCAAGCATAAGCAGTACTATAATGGATG...   \n",
       "2  ARNT2  ARNT2|1/6|08C12  ATGGCAACCCCGGCGGCGGTCAACCCTCCGGAAATGGCTTCAGACA...   \n",
       "3  ARNT2  ARNT2|2/6|09E01  ATGGCTTCAGACATACCTGGATCTGTGACGTTGCCCGTTGCCCCCA...   \n",
       "4  ARNT2  ARNT2|3/6|10D11  ATGGCAACCCCGGCGGCGGTCAACCCTCCGGAAATGGCTTCAGACA...   \n",
       "\n",
       "                                              aa_seq  num_aa  \\\n",
       "0  MDVDSTISSGRSTPAMMNGQGSTTSSSKNIAYNCCWDQCQACFNSS...     268   \n",
       "1  MYTRRYSSISSTIMDVDSTISSGRSTPAMMNGQGSTTSSSKNIAYN...     263   \n",
       "2  MATPAAVNPPEMASDIPGSVTLPVAPMAATGQVRMAGAMPARGGKR...     717   \n",
       "3  MASDIPGSVTLPVAPMAATGQVRMAGAMPARGGKRRSGMDFDDEDG...     683   \n",
       "4  MATPAAVNPPEMASDIPGSVTLPVAPMAATGQVRMAGAMPARGGKR...     716   \n",
       "\n",
       "   is_novel_isoform clone_name  \n",
       "0              True    AEBP2-2  \n",
       "1              True    AEBP2-3  \n",
       "2             False    ARNT2-1  \n",
       "3              True    ARNT2-2  \n",
       "4             False    ARNT2-3  "
      ]
     },
     "execution_count": 26,
     "metadata": {},
     "output_type": "execute_result"
    }
   ],
   "source": [
    "clones.head()"
   ]
  },
  {
   "cell_type": "code",
   "execution_count": 27,
   "metadata": {},
   "outputs": [
    {
     "name": "stdout",
     "output_type": "stream",
     "text": [
      "148\n",
      "148\n"
     ]
    }
   ],
   "source": [
    "print(pairs.shape[0])\n",
    "print((pairs['tf_gene_a'].isin(clones['gene'].unique()) & \n",
    "       pairs['tf_gene_b'].isin(clones['gene'].unique())).sum())"
   ]
  },
  {
   "cell_type": "code",
   "execution_count": 28,
   "metadata": {},
   "outputs": [
    {
     "data": {
      "image/png": "[encoded data removed]",
      "text/plain": [
       "<Figure size 576x288 with 2 Axes>"
      ]
     },
     "metadata": {},
     "output_type": "display_data"
    }
   ],
   "source": [
    "# do we find PPIs for every pair?\n",
    "\n",
    "\n",
    "fig, axs = plt.subplots(1, 2)\n",
    "fig.set_size_inches(8, 4)\n",
    "\n",
    "counts = y2h.loc[(y2h['category'] == 'tf_isoform_ppis'), 'Y2H_result'].value_counts().sort_index()\n",
    "\n",
    "def absolute_value(val):\n",
    "    return int(np.round(val / 100. * counts.sum(), 0))\n",
    "\n",
    "counts.plot.pie(autopct=absolute_value, ax=axs[0],\n",
    "                pctdistance=0.8)\n",
    "\n",
    "counts = y2h.loc[y2h['category'].isin(['tf_paralog_ppis', 'paralog_with_PDI', 'non_paralog_control']), 'Y2H_result'].value_counts().sort_index()\n",
    "\n",
    "def absolute_value(val):\n",
    "    return int(np.round(val / 100. * counts.sum(), 0))\n",
    "\n",
    "counts.plot.pie(autopct=absolute_value, ax=axs[1],\n",
    "                pctdistance=0.8)\n",
    "\n",
    "axs[0].set_title('Isoforms scores')\n",
    "axs[1].set_title('Paralogs scores')\n",
    "for ax in axs:\n",
    "    ax.set_ylabel('')\n",
    "plt.savefig('../figures/Y2H_scores-by-experiment_pie.pdf',\n",
    "            bbox_inches='tight')"
   ]
  },
  {
   "cell_type": "code",
   "execution_count": 29,
   "metadata": {},
   "outputs": [
    {
     "data": {
      "text/plain": [
       "TCF12     130\n",
       "TCF4       49\n",
       "SOX6       31\n",
       "TFCP2      16\n",
       "MEIS1      12\n",
       "MEIS2       8\n",
       "ESRRG       6\n",
       "SOX5        6\n",
       "PKNOX1      5\n",
       "ZNF397      4\n",
       "ZNF18       4\n",
       "PATZ1       4\n",
       "ZBTB16      4\n",
       "LHX9        2\n",
       "HMBOX1      2\n",
       "HNF4A       2\n",
       "FOSB        2\n",
       "ELF2        2\n",
       "MEOX1       2\n",
       "ARNT2       2\n",
       "ZBTB32      1\n",
       "ESRRA       1\n",
       "ZNF263      1\n",
       "ZBTB18      1\n",
       "NFIX        1\n",
       "NPAS2       1\n",
       "PBX1        1\n",
       "RARG        1\n",
       "FOS         1\n",
       "ZBTB25      1\n",
       "TEAD2       1\n",
       "DDIT3       1\n",
       "Name: ad_gene_symbol, dtype: int64"
      ]
     },
     "execution_count": 29,
     "metadata": {},
     "output_type": "execute_result"
    }
   ],
   "source": [
    "y2h.loc[y2h['category'].isin(['tf_paralog_ppis', 'paralog_with_PDI', 'non_paralog_control']) &\n",
    "        (y2h['Y2H_result'] == True), 'ad_gene_symbol'].value_counts()"
   ]
  },
  {
   "cell_type": "code",
   "execution_count": 30,
   "metadata": {},
   "outputs": [
    {
     "data": {
      "image/png": "[encoded data removed]",
      "text/plain": [
       "<Figure size 864x288 with 3 Axes>"
      ]
     },
     "metadata": {},
     "output_type": "display_data"
    }
   ],
   "source": [
    "# pie chart by gene\n",
    "# add another for matched gene for paralogs\n",
    "fig, axs = plt.subplots(1, 3)\n",
    "fig.set_size_inches(12, 4)\n",
    "\n",
    "counts = y2h.loc[(y2h['category'] == 'tf_isoform_ppis'), 'ad_gene_symbol'].value_counts().sort_values()\n",
    "\n",
    "def absolute_value(val):\n",
    "    s = int(np.round(val / 100. * counts.sum(), 0))\n",
    "    if s >= 200:\n",
    "        return s\n",
    "    else:\n",
    "        return ''\n",
    "\n",
    "counts.plot.pie(autopct=absolute_value, ax=axs[0],\n",
    "                pctdistance=0.8,\n",
    "                labels=[i if i in counts.index[-4:] else '' for i in counts.index ],)\n",
    "\n",
    "counts = y2h.loc[y2h['category'].isin(['tf_paralog_ppis', 'paralog_with_PDI', 'non_paralog_control']), 'ad_gene_symbol'].value_counts().sort_values()\n",
    "\n",
    "def absolute_value(val):\n",
    "    s = int(np.round(val / 100. * counts.sum(), 0))\n",
    "    if s >= 200:\n",
    "        return s\n",
    "    else:\n",
    "        return ''\n",
    "\n",
    "\n",
    "counts.plot.pie(autopct=absolute_value, ax=axs[1],\n",
    "                labels=[i if i in counts.index[-4:] else '' for i in counts.index ],\n",
    "                pctdistance=0.8)\n",
    "\n",
    "counts = y2h_paralog.loc[:, 'paired_tf_gene'].value_counts().sort_values()\n",
    "\n",
    "def absolute_value(val):\n",
    "    s = int(np.round(val / 100. * counts.sum(), 0))\n",
    "    if s >= 200:\n",
    "        return s\n",
    "    else:\n",
    "        return ''\n",
    "\n",
    "counts.plot.pie(autopct=absolute_value, ax=axs[2],\n",
    "                labels=[i if i in counts.index[-4:] else '' for i in counts.index ],\n",
    "                pctdistance=0.8)\n",
    "\n",
    "axs[0].set_title('Number tested by TF gene\\nIsoforms pairs')\n",
    "axs[1].set_title('Number tested by tested TF gene\\nParalogs pairs')\n",
    "axs[2].set_title('Number tested by paired paralog TF gene\\nParalogs pairs')\n",
    "for ax in axs:\n",
    "    ax.set_ylabel('')\n",
    "plt.savefig('../figures/Y2H_N-PPIs-tested-by-TF-gene_pie.pdf',\n",
    "            bbox_inches='tight')"
   ]
  },
  {
   "cell_type": "code",
   "execution_count": 31,
   "metadata": {},
   "outputs": [
    {
     "data": {
      "text/plain": [
       "1     63\n",
       "2    136\n",
       "3     60\n",
       "4     30\n",
       "5      9\n",
       "6      8\n",
       "7      2\n",
       "8      2\n",
       "dtype: int64"
      ]
     },
     "execution_count": 31,
     "metadata": {},
     "output_type": "execute_result"
    }
   ],
   "source": [
    "valid_clones.groupby('gene').size().value_counts().sort_index()"
   ]
  },
  {
   "cell_type": "code",
   "execution_count": 32,
   "metadata": {},
   "outputs": [
    {
     "data": {
      "image/png": "[encoded data removed]",
      "text/plain": [
       "<Figure size 432x288 with 1 Axes>"
      ]
     },
     "metadata": {
      "needs_background": "light"
     },
     "output_type": "display_data"
    }
   ],
   "source": [
    "valid_clones.groupby('gene').size().value_counts().sort_index().plot.bar()\n",
    "plt.ylabel('Number of genes')\n",
    "plt.xlabel('Cloned isoforms per gene')\n",
    "plt.savefig('../figures/n-cloned-isoforms-per-gene_bar.pdf',\n",
    "            bbox_inches='tight')"
   ]
  },
  {
   "cell_type": "code",
   "execution_count": 33,
   "metadata": {},
   "outputs": [
    {
     "data": {
      "image/png": "[encoded data removed]",
      "text/plain": [
       "<Figure size 432x288 with 1 Axes>"
      ]
     },
     "metadata": {
      "needs_background": "light"
     },
     "output_type": "display_data"
    }
   ],
   "source": [
    "# look at Y2H degree of each gene\n",
    "fig, ax = plt.subplots(1, 1)\n",
    "vals = y2h.loc[y2h['category'] == 'tf_isoform_ppis', :].groupby('ad_gene_symbol')['db_gene_symbol'].nunique().value_counts().sort_index()\n",
    "ax.bar(vals.index, vals.values)\n",
    "ax.set_ylabel('Number of TF genes')\n",
    "ax.set_xlabel('Number of tested PPI partners')\n",
    "plt.savefig('../figures/n-ppi-partners-per-tf-gene_bar.pdf',\n",
    "            bbox_inches='tight')"
   ]
  },
  {
   "cell_type": "code",
   "execution_count": 34,
   "metadata": {},
   "outputs": [
    {
     "data": {
      "image/png": "[encoded data removed]",
      "text/plain": [
       "<Figure size 432x288 with 1 Axes>"
      ]
     },
     "metadata": {
      "needs_background": "light"
     },
     "output_type": "display_data"
    }
   ],
   "source": [
    "fig, ax = plt.subplots(1, 1)\n",
    "vals = y2h.loc[y2h['category'] == 'tf_isoform_ppis', :].groupby('ad_gene_symbol').size().value_counts().sort_index()\n",
    "ax.bar(vals.index, vals.values)\n",
    "ax.set_ylabel('Number of TF genes')\n",
    "ax.set_xlabel('Number of tested partner / isoform PPIs')\n",
    "ax.set_ylim()\n",
    "plt.savefig('../figures/n-ppi-combinations-per-tf-gene_bar.pdf',\n",
    "            bbox_inches='tight')"
   ]
  },
  {
   "cell_type": "code",
   "execution_count": 35,
   "metadata": {},
   "outputs": [
    {
     "data": {
      "text/html": [
       "<div>\n",
       "<style scoped>\n",
       "    .dataframe tbody tr th:only-of-type {\n",
       "        vertical-align: middle;\n",
       "    }\n",
       "\n",
       "    .dataframe tbody tr th {\n",
       "        vertical-align: top;\n",
       "    }\n",
       "\n",
       "    .dataframe thead th {\n",
       "        text-align: right;\n",
       "    }\n",
       "</style>\n",
       "<table border=\"1\" class=\"dataframe\">\n",
       "  <thead>\n",
       "    <tr style=\"text-align: right;\">\n",
       "      <th></th>\n",
       "      <th>Number of tested partner/isoform PPIs</th>\n",
       "    </tr>\n",
       "    <tr>\n",
       "      <th>ad_gene_symbol</th>\n",
       "      <th></th>\n",
       "    </tr>\n",
       "  </thead>\n",
       "  <tbody>\n",
       "    <tr>\n",
       "      <th>TCF4</th>\n",
       "      <td>1448</td>\n",
       "    </tr>\n",
       "    <tr>\n",
       "      <th>ZNF451</th>\n",
       "      <td>644</td>\n",
       "    </tr>\n",
       "    <tr>\n",
       "      <th>IKZF2</th>\n",
       "      <td>252</td>\n",
       "    </tr>\n",
       "    <tr>\n",
       "      <th>HMBOX1</th>\n",
       "      <td>228</td>\n",
       "    </tr>\n",
       "    <tr>\n",
       "      <th>MEOX1</th>\n",
       "      <td>168</td>\n",
       "    </tr>\n",
       "    <tr>\n",
       "      <th>SOX6</th>\n",
       "      <td>156</td>\n",
       "    </tr>\n",
       "    <tr>\n",
       "      <th>TCF12</th>\n",
       "      <td>150</td>\n",
       "    </tr>\n",
       "    <tr>\n",
       "      <th>ZBTB44</th>\n",
       "      <td>120</td>\n",
       "    </tr>\n",
       "    <tr>\n",
       "      <th>ZBTB32</th>\n",
       "      <td>106</td>\n",
       "    </tr>\n",
       "    <tr>\n",
       "      <th>RELA</th>\n",
       "      <td>100</td>\n",
       "    </tr>\n",
       "  </tbody>\n",
       "</table>\n",
       "</div>"
      ],
      "text/plain": [
       "                Number of tested partner/isoform PPIs\n",
       "ad_gene_symbol                                       \n",
       "TCF4                                             1448\n",
       "ZNF451                                            644\n",
       "IKZF2                                             252\n",
       "HMBOX1                                            228\n",
       "MEOX1                                             168\n",
       "SOX6                                              156\n",
       "TCF12                                             150\n",
       "ZBTB44                                            120\n",
       "ZBTB32                                            106\n",
       "RELA                                              100"
      ]
     },
     "execution_count": 35,
     "metadata": {},
     "output_type": "execute_result"
    }
   ],
   "source": [
    "y2h.loc[y2h['category'] == 'tf_isoform_ppis', :].groupby('ad_gene_symbol').size().sort_values(ascending=False).to_frame().rename(columns={0: 'Number of tested partner/isoform PPIs'}).head(10)"
   ]
  },
  {
   "cell_type": "code",
   "execution_count": 36,
   "metadata": {},
   "outputs": [
    {
     "data": {
      "text/plain": [
       "False    59\n",
       "True     47\n",
       "dtype: int64"
      ]
     },
     "execution_count": 36,
     "metadata": {},
     "output_type": "execute_result"
    }
   ],
   "source": [
    "(y2h.loc[y2h['category'] == 'tf_isoform_ppis', :].groupby('ad_gene_symbol').size() <= 12).value_counts()"
   ]
  },
  {
   "cell_type": "code",
   "execution_count": 37,
   "metadata": {},
   "outputs": [
    {
     "data": {
      "text/plain": [
       "ad_clone_acc    Y2H_result\n",
       "TCF4|1/9|07E01  True           9\n",
       "                False          6\n",
       "TCF4|2/9|07E03  True           9\n",
       "                False          6\n",
       "TCF4|3/9|07C04  True           8\n",
       "                False          6\n",
       "TCF4|4/9|07G02  True           9\n",
       "                False          7\n",
       "TCF4|5/9|07C02  False         11\n",
       "                True           5\n",
       "TCF4|6/9|07H03  False         14\n",
       "                True           1\n",
       "TCF4|7/9|07G03  False         10\n",
       "                True           5\n",
       "TCF4|8/9|07A05  False         12\n",
       "                True           3\n",
       "Name: Y2H_result, dtype: int64"
      ]
     },
     "execution_count": 37,
     "metadata": {},
     "output_type": "execute_result"
    }
   ],
   "source": [
    "y2h.loc[(y2h['ad_gene_symbol'] == 'TCF4') &\n",
    "        (y2h['category'].isin(['tf_paralog_ppis', 'paralog_with_PDI', 'non_paralog_control'])), :].groupby('ad_clone_acc')['Y2H_result'].value_counts()"
   ]
  },
  {
   "cell_type": "code",
   "execution_count": 38,
   "metadata": {},
   "outputs": [
    {
     "data": {
      "text/plain": [
       "TCF12|1/3|07D07    74\n",
       "TCF12|2/3|07A09    51\n",
       "TFCP2|1/3|03E08    16\n",
       "MEIS1|1/2|09A04    12\n",
       "TCF4|4/9|07G02      9\n",
       "TCF4|2/9|07E03      9\n",
       "TCF4|1/9|07E01      9\n",
       "TCF4|3/9|07C04      8\n",
       "SOX6|6/7|07F08      7\n",
       "SOX6|5/7|07A07      7\n",
       "Name: ad_clone_acc, dtype: int64"
      ]
     },
     "execution_count": 38,
     "metadata": {},
     "output_type": "execute_result"
    }
   ],
   "source": [
    "y2h.loc[(y2h['category'].isin(['tf_paralog_ppis', 'paralog_with_PDI', 'non_paralog_control']))\n",
    "        & (y2h['Y2H_result'] == True),\n",
    "        'ad_clone_acc'].value_counts().head(10)"
   ]
  },
  {
   "cell_type": "code",
   "execution_count": 39,
   "metadata": {},
   "outputs": [
    {
     "data": {
      "text/html": [
       "<div>\n",
       "<style scoped>\n",
       "    .dataframe tbody tr th:only-of-type {\n",
       "        vertical-align: middle;\n",
       "    }\n",
       "\n",
       "    .dataframe tbody tr th {\n",
       "        vertical-align: top;\n",
       "    }\n",
       "\n",
       "    .dataframe thead th {\n",
       "        text-align: right;\n",
       "    }\n",
       "</style>\n",
       "<table border=\"1\" class=\"dataframe\">\n",
       "  <thead>\n",
       "    <tr style=\"text-align: right;\">\n",
       "      <th></th>\n",
       "      <th>n_positive</th>\n",
       "      <th>n_tested</th>\n",
       "      <th>rate</th>\n",
       "    </tr>\n",
       "  </thead>\n",
       "  <tbody>\n",
       "    <tr>\n",
       "      <th>SOX6|6/7|07F08</th>\n",
       "      <td>7</td>\n",
       "      <td>7</td>\n",
       "      <td>1.000000</td>\n",
       "    </tr>\n",
       "    <tr>\n",
       "      <th>SOX6|7/7|07C07</th>\n",
       "      <td>6</td>\n",
       "      <td>6</td>\n",
       "      <td>1.000000</td>\n",
       "    </tr>\n",
       "    <tr>\n",
       "      <th>SOX6|5/7|07A07</th>\n",
       "      <td>7</td>\n",
       "      <td>7</td>\n",
       "      <td>1.000000</td>\n",
       "    </tr>\n",
       "    <tr>\n",
       "      <th>SOX6|2/7|07E06</th>\n",
       "      <td>7</td>\n",
       "      <td>9</td>\n",
       "      <td>0.777778</td>\n",
       "    </tr>\n",
       "    <tr>\n",
       "      <th>MEIS1|1/2|09A04</th>\n",
       "      <td>12</td>\n",
       "      <td>16</td>\n",
       "      <td>0.750000</td>\n",
       "    </tr>\n",
       "    <tr>\n",
       "      <th>SOX6|1/7|07C06</th>\n",
       "      <td>4</td>\n",
       "      <td>6</td>\n",
       "      <td>0.666667</td>\n",
       "    </tr>\n",
       "    <tr>\n",
       "      <th>TCF4|2/9|07E03</th>\n",
       "      <td>9</td>\n",
       "      <td>15</td>\n",
       "      <td>0.600000</td>\n",
       "    </tr>\n",
       "    <tr>\n",
       "      <th>TCF4|1/9|07E01</th>\n",
       "      <td>9</td>\n",
       "      <td>15</td>\n",
       "      <td>0.600000</td>\n",
       "    </tr>\n",
       "    <tr>\n",
       "      <th>TCF12|1/3|07D07</th>\n",
       "      <td>74</td>\n",
       "      <td>128</td>\n",
       "      <td>0.578125</td>\n",
       "    </tr>\n",
       "    <tr>\n",
       "      <th>TCF4|3/9|07C04</th>\n",
       "      <td>8</td>\n",
       "      <td>14</td>\n",
       "      <td>0.571429</td>\n",
       "    </tr>\n",
       "    <tr>\n",
       "      <th>TCF4|4/9|07G02</th>\n",
       "      <td>9</td>\n",
       "      <td>16</td>\n",
       "      <td>0.562500</td>\n",
       "    </tr>\n",
       "    <tr>\n",
       "      <th>ZNF263|1/3|11C01</th>\n",
       "      <td>1</td>\n",
       "      <td>2</td>\n",
       "      <td>0.500000</td>\n",
       "    </tr>\n",
       "    <tr>\n",
       "      <th>TEAD2|1/2|12B02</th>\n",
       "      <td>1</td>\n",
       "      <td>2</td>\n",
       "      <td>0.500000</td>\n",
       "    </tr>\n",
       "    <tr>\n",
       "      <th>MEOX1|1/3|08C05</th>\n",
       "      <td>2</td>\n",
       "      <td>5</td>\n",
       "      <td>0.400000</td>\n",
       "    </tr>\n",
       "    <tr>\n",
       "      <th>TCF12|2/3|07A09</th>\n",
       "      <td>51</td>\n",
       "      <td>137</td>\n",
       "      <td>0.372263</td>\n",
       "    </tr>\n",
       "    <tr>\n",
       "      <th>MEIS2|1/4|08H09</th>\n",
       "      <td>4</td>\n",
       "      <td>11</td>\n",
       "      <td>0.363636</td>\n",
       "    </tr>\n",
       "    <tr>\n",
       "      <th>MEIS2|2/4|12A07</th>\n",
       "      <td>4</td>\n",
       "      <td>11</td>\n",
       "      <td>0.363636</td>\n",
       "    </tr>\n",
       "    <tr>\n",
       "      <th>SOX5|1/2|08D03</th>\n",
       "      <td>6</td>\n",
       "      <td>17</td>\n",
       "      <td>0.352941</td>\n",
       "    </tr>\n",
       "    <tr>\n",
       "      <th>TFCP2|1/3|03E08</th>\n",
       "      <td>16</td>\n",
       "      <td>46</td>\n",
       "      <td>0.347826</td>\n",
       "    </tr>\n",
       "    <tr>\n",
       "      <th>TCF4|7/9|07G03</th>\n",
       "      <td>5</td>\n",
       "      <td>15</td>\n",
       "      <td>0.333333</td>\n",
       "    </tr>\n",
       "  </tbody>\n",
       "</table>\n",
       "</div>"
      ],
      "text/plain": [
       "                  n_positive  n_tested      rate\n",
       "SOX6|6/7|07F08             7         7  1.000000\n",
       "SOX6|7/7|07C07             6         6  1.000000\n",
       "SOX6|5/7|07A07             7         7  1.000000\n",
       "SOX6|2/7|07E06             7         9  0.777778\n",
       "MEIS1|1/2|09A04           12        16  0.750000\n",
       "SOX6|1/7|07C06             4         6  0.666667\n",
       "TCF4|2/9|07E03             9        15  0.600000\n",
       "TCF4|1/9|07E01             9        15  0.600000\n",
       "TCF12|1/3|07D07           74       128  0.578125\n",
       "TCF4|3/9|07C04             8        14  0.571429\n",
       "TCF4|4/9|07G02             9        16  0.562500\n",
       "ZNF263|1/3|11C01           1         2  0.500000\n",
       "TEAD2|1/2|12B02            1         2  0.500000\n",
       "MEOX1|1/3|08C05            2         5  0.400000\n",
       "TCF12|2/3|07A09           51       137  0.372263\n",
       "MEIS2|1/4|08H09            4        11  0.363636\n",
       "MEIS2|2/4|12A07            4        11  0.363636\n",
       "SOX5|1/2|08D03             6        17  0.352941\n",
       "TFCP2|1/3|03E08           16        46  0.347826\n",
       "TCF4|7/9|07G03             5        15  0.333333"
      ]
     },
     "execution_count": 39,
     "metadata": {},
     "output_type": "execute_result"
    }
   ],
   "source": [
    "tfs = y2h.loc[(y2h['category'].isin(['tf_paralog_ppis', 'paralog_with_PDI', 'non_paralog_control']))\n",
    "        & (y2h['Y2H_result'] == True),\n",
    "        'ad_clone_acc'].value_counts()\n",
    "tfs = tfs.to_frame().rename(columns={'ad_clone_acc': 'n_positive'})\n",
    "tfs['n_tested']  = y2h.loc[(y2h['category'].isin(['tf_paralog_ppis', 'paralog_with_PDI', 'non_paralog_control']))\n",
    "        & y2h['Y2H_result'].notnull(),\n",
    "        'ad_clone_acc'].value_counts()\n",
    "tfs['rate'] = tfs['n_positive'] / tfs['n_tested']\n",
    "tfs.sort_values('rate', ascending=False).head(20)"
   ]
  },
  {
   "cell_type": "code",
   "execution_count": 40,
   "metadata": {},
   "outputs": [
    {
     "data": {
      "text/html": [
       "<div>\n",
       "<style scoped>\n",
       "    .dataframe tbody tr th:only-of-type {\n",
       "        vertical-align: middle;\n",
       "    }\n",
       "\n",
       "    .dataframe tbody tr th {\n",
       "        vertical-align: top;\n",
       "    }\n",
       "\n",
       "    .dataframe thead th {\n",
       "        text-align: right;\n",
       "    }\n",
       "</style>\n",
       "<table border=\"1\" class=\"dataframe\">\n",
       "  <thead>\n",
       "    <tr style=\"text-align: right;\">\n",
       "      <th></th>\n",
       "      <th>n_positive</th>\n",
       "      <th>n_tested</th>\n",
       "      <th>rate</th>\n",
       "    </tr>\n",
       "  </thead>\n",
       "  <tbody>\n",
       "    <tr>\n",
       "      <th>TCF4|1/9|07E01</th>\n",
       "      <td>9</td>\n",
       "      <td>15</td>\n",
       "      <td>0.600000</td>\n",
       "    </tr>\n",
       "    <tr>\n",
       "      <th>TCF4|2/9|07E03</th>\n",
       "      <td>9</td>\n",
       "      <td>15</td>\n",
       "      <td>0.600000</td>\n",
       "    </tr>\n",
       "    <tr>\n",
       "      <th>TCF4|3/9|07C04</th>\n",
       "      <td>8</td>\n",
       "      <td>14</td>\n",
       "      <td>0.571429</td>\n",
       "    </tr>\n",
       "    <tr>\n",
       "      <th>TCF4|4/9|07G02</th>\n",
       "      <td>9</td>\n",
       "      <td>16</td>\n",
       "      <td>0.562500</td>\n",
       "    </tr>\n",
       "    <tr>\n",
       "      <th>TCF4|5/9|07C02</th>\n",
       "      <td>5</td>\n",
       "      <td>16</td>\n",
       "      <td>0.312500</td>\n",
       "    </tr>\n",
       "    <tr>\n",
       "      <th>TCF4|6/9|07H03</th>\n",
       "      <td>1</td>\n",
       "      <td>15</td>\n",
       "      <td>0.066667</td>\n",
       "    </tr>\n",
       "    <tr>\n",
       "      <th>TCF4|7/9|07G03</th>\n",
       "      <td>5</td>\n",
       "      <td>15</td>\n",
       "      <td>0.333333</td>\n",
       "    </tr>\n",
       "    <tr>\n",
       "      <th>TCF4|8/9|07A05</th>\n",
       "      <td>3</td>\n",
       "      <td>15</td>\n",
       "      <td>0.200000</td>\n",
       "    </tr>\n",
       "  </tbody>\n",
       "</table>\n",
       "</div>"
      ],
      "text/plain": [
       "                n_positive  n_tested      rate\n",
       "TCF4|1/9|07E01           9        15  0.600000\n",
       "TCF4|2/9|07E03           9        15  0.600000\n",
       "TCF4|3/9|07C04           8        14  0.571429\n",
       "TCF4|4/9|07G02           9        16  0.562500\n",
       "TCF4|5/9|07C02           5        16  0.312500\n",
       "TCF4|6/9|07H03           1        15  0.066667\n",
       "TCF4|7/9|07G03           5        15  0.333333\n",
       "TCF4|8/9|07A05           3        15  0.200000"
      ]
     },
     "execution_count": 40,
     "metadata": {},
     "output_type": "execute_result"
    }
   ],
   "source": [
    "tfs.loc[tfs.index.str.startswith('TCF4')].sort_index()"
   ]
  }
 ],
 "metadata": {
  "kernelspec": {
   "display_name": "venv",
   "language": "python",
   "name": "python3"
  },
  "language_info": {
   "codemirror_mode": {
    "name": "ipython",
    "version": 3
   },
   "file_extension": ".py",
   "mimetype": "text/x-python",
   "name": "python",
   "nbconvert_exporter": "python",
   "pygments_lexer": "ipython3",
   "version": "3.8.13"
  },
  "orig_nbformat": 2
 },
 "nbformat": 4,
 "nbformat_minor": 2
}
