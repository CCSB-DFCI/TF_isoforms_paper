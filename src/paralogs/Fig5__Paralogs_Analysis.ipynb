{
 "cells": [
  {
   "cell_type": "code",
   "execution_count": 1,
   "id": "61f7d6a8",
   "metadata": {},
   "outputs": [],
   "source": [
    "import numpy as np\n",
    "import matplotlib as mpl\n",
    "from scipy import stats\n",
    "from matplotlib import pyplot as plt\n",
    "from Bio import pairwise2\n",
    "from Bio.SubsMat.MatrixInfo import blosum62\n",
    "import pandas as pd\n",
    "import seaborn as sns\n",
    "import sys\n",
    "\n",
    "# import utils\n",
    "sys.path.append(\"../\")\n",
    "sys.path.append(\"../data_loading\")\n",
    "\n",
    "import plotting\n",
    "from plotting import (mimic_r_boxplot,\n",
    "                      violinplot_reflected,\n",
    "                      y1h_pdi_per_paralog_pair_plot,\n",
    "                      m1h_activation_per_paralog_pair_plot,\n",
    "                      annotate_pval)\n",
    "\n",
    "from data_loading import (load_paralogs_vs_isoforms_comparison_table,\n",
    "                          load_developmental_tissue_expression_remapped,\n",
    "                          load_gtex_remapped,\n",
    "                          load_annotated_TFiso1_collection,\n",
    "                          load_y1h_pdi_data,\n",
    "                          load_m1h_activation_data,\n",
    "                          load_pfam_clans,\n",
    "                          load_annotated_gencode_tfs)"
   ]
  },
  {
   "cell_type": "code",
   "execution_count": 2,
   "id": "ea550e98",
   "metadata": {},
   "outputs": [],
   "source": [
    "PAPER_PRESET = {\"style\": \"ticks\", \"font\": \"Helvetica\", \"context\": \"paper\", \n",
    "                \"rc\": {\"font.size\":7,\"axes.titlesize\":7,\n",
    "                       \"axes.labelsize\":7, 'axes.linewidth':0.5,\n",
    "                       \"legend.fontsize\":6, \"xtick.labelsize\":6,\n",
    "                       \"ytick.labelsize\":6, \"xtick.major.size\": 3.0,\n",
    "                       \"ytick.major.size\": 3.0, \"axes.edgecolor\": \"black\",\n",
    "                       \"xtick.major.pad\": 3.0, \"ytick.major.pad\": 3.0}}\n",
    "PAPER_FONTSIZE = 7"
   ]
  },
  {
   "cell_type": "code",
   "execution_count": 3,
   "id": "91684589",
   "metadata": {},
   "outputs": [],
   "source": [
    "sns.set(**PAPER_PRESET)\n",
    "fontsize = PAPER_FONTSIZE"
   ]
  },
  {
   "cell_type": "code",
   "execution_count": 4,
   "id": "9b7af0b4",
   "metadata": {},
   "outputs": [],
   "source": [
    "np.random.seed(2023)"
   ]
  },
  {
   "cell_type": "markdown",
   "id": "3bcd9a28",
   "metadata": {},
   "source": [
    "## 1. load paralogs vs. isoforms data table"
   ]
  },
  {
   "cell_type": "markdown",
   "id": "50199178",
   "metadata": {},
   "source": [
    "note that this takes hours the first time you run it (the pairwise seq alignment command is very slow), but then it is cached so only need to run once."
   ]
  },
  {
   "cell_type": "code",
   "execution_count": 5,
   "id": "aa840156",
   "metadata": {
    "scrolled": false
   },
   "outputs": [],
   "source": [
    "df = load_paralogs_vs_isoforms_comparison_table()\n",
    "df.loc[~((df['n_positive_PPI_a'] >= 1) & (df['n_positive_PPI_b'] >= 1)),\n",
    "       'PPI_jaccard'] = np.nan\n",
    "df['PPI_Jaccard_d'] = 1 - df['PPI_jaccard']\n",
    "df['PDI_Jaccard_d'] = 1 - df['PDI_jaccard']\n",
    "df.loc[(df['activation_a'].abs() < 1) &\n",
    "       (df['activation_b'].abs() < 1), \n",
    "       'activation_abs_fold_change_log2'] = np.nan"
   ]
  },
  {
   "cell_type": "code",
   "execution_count": 6,
   "id": "e250cd46",
   "metadata": {},
   "outputs": [
    {
     "data": {
      "text/html": [
       "<div>\n",
       "<style scoped>\n",
       "    .dataframe tbody tr th:only-of-type {\n",
       "        vertical-align: middle;\n",
       "    }\n",
       "\n",
       "    .dataframe tbody tr th {\n",
       "        vertical-align: top;\n",
       "    }\n",
       "\n",
       "    .dataframe thead th {\n",
       "        text-align: right;\n",
       "    }\n",
       "</style>\n",
       "<table border=\"1\" class=\"dataframe\">\n",
       "  <thead>\n",
       "    <tr style=\"text-align: right;\">\n",
       "      <th></th>\n",
       "      <th>gene_symbol_a</th>\n",
       "      <th>gene_symbol_b</th>\n",
       "      <th>is_tested_in_Y2H</th>\n",
       "      <th>aa_seq_pct_identity</th>\n",
       "      <th>clone_acc_a</th>\n",
       "      <th>clone_acc_b</th>\n",
       "      <th>category</th>\n",
       "      <th>family_a</th>\n",
       "      <th>family_b</th>\n",
       "      <th>is_MANE_select_isoform_cloned_a</th>\n",
       "      <th>...</th>\n",
       "      <th>n_positive_PDI_b_filtered</th>\n",
       "      <th>n_shared_PDI</th>\n",
       "      <th>PDI_jaccard</th>\n",
       "      <th>at_least_one_isoform_in_gene_a_abs_activation_gte_2fold</th>\n",
       "      <th>at_least_one_isoform_in_gene_b_abs_activation_gte_2fold</th>\n",
       "      <th>activation_a</th>\n",
       "      <th>activation_b</th>\n",
       "      <th>activation_abs_fold_change_log2</th>\n",
       "      <th>PPI_Jaccard_d</th>\n",
       "      <th>PDI_Jaccard_d</th>\n",
       "    </tr>\n",
       "  </thead>\n",
       "  <tbody>\n",
       "    <tr>\n",
       "      <th>0</th>\n",
       "      <td>ZKSCAN3</td>\n",
       "      <td>ZNF263</td>\n",
       "      <td>False</td>\n",
       "      <td>34.555712</td>\n",
       "      <td>ZKSCAN3|2/2|07C05</td>\n",
       "      <td>ZNF263|1/3|11C01</td>\n",
       "      <td>paralogs</td>\n",
       "      <td>C2H2 ZF</td>\n",
       "      <td>C2H2 ZF</td>\n",
       "      <td>False</td>\n",
       "      <td>...</td>\n",
       "      <td>NaN</td>\n",
       "      <td>NaN</td>\n",
       "      <td>NaN</td>\n",
       "      <td>True</td>\n",
       "      <td>True</td>\n",
       "      <td>1.571580</td>\n",
       "      <td>4.407654</td>\n",
       "      <td>2.836075</td>\n",
       "      <td>NaN</td>\n",
       "      <td>NaN</td>\n",
       "    </tr>\n",
       "    <tr>\n",
       "      <th>1</th>\n",
       "      <td>ZNF263</td>\n",
       "      <td>ZSCAN21</td>\n",
       "      <td>False</td>\n",
       "      <td>33.664773</td>\n",
       "      <td>ZNF263|1/3|11C01</td>\n",
       "      <td>ZSCAN21|1/3|10H09</td>\n",
       "      <td>paralogs</td>\n",
       "      <td>C2H2 ZF</td>\n",
       "      <td>C2H2 ZF</td>\n",
       "      <td>True</td>\n",
       "      <td>...</td>\n",
       "      <td>NaN</td>\n",
       "      <td>NaN</td>\n",
       "      <td>NaN</td>\n",
       "      <td>True</td>\n",
       "      <td>True</td>\n",
       "      <td>4.407654</td>\n",
       "      <td>1.410804</td>\n",
       "      <td>2.996850</td>\n",
       "      <td>NaN</td>\n",
       "      <td>NaN</td>\n",
       "    </tr>\n",
       "    <tr>\n",
       "      <th>2</th>\n",
       "      <td>ZNF24</td>\n",
       "      <td>ZNF263</td>\n",
       "      <td>False</td>\n",
       "      <td>25.070822</td>\n",
       "      <td>ZNF24|1/2|01B07</td>\n",
       "      <td>ZNF263|1/3|11C01</td>\n",
       "      <td>paralogs</td>\n",
       "      <td>C2H2 ZF</td>\n",
       "      <td>C2H2 ZF</td>\n",
       "      <td>True</td>\n",
       "      <td>...</td>\n",
       "      <td>NaN</td>\n",
       "      <td>NaN</td>\n",
       "      <td>NaN</td>\n",
       "      <td>False</td>\n",
       "      <td>True</td>\n",
       "      <td>0.641802</td>\n",
       "      <td>4.407654</td>\n",
       "      <td>3.765852</td>\n",
       "      <td>0.5</td>\n",
       "      <td>NaN</td>\n",
       "    </tr>\n",
       "    <tr>\n",
       "      <th>3</th>\n",
       "      <td>ZNF263</td>\n",
       "      <td>ZNF75A</td>\n",
       "      <td>False</td>\n",
       "      <td>19.683908</td>\n",
       "      <td>ZNF263|1/3|11C01</td>\n",
       "      <td>ZNF75A|1/2|11B06</td>\n",
       "      <td>paralogs</td>\n",
       "      <td>C2H2 ZF</td>\n",
       "      <td>C2H2 ZF</td>\n",
       "      <td>True</td>\n",
       "      <td>...</td>\n",
       "      <td>NaN</td>\n",
       "      <td>NaN</td>\n",
       "      <td>NaN</td>\n",
       "      <td>True</td>\n",
       "      <td>False</td>\n",
       "      <td>4.407654</td>\n",
       "      <td>-0.763338</td>\n",
       "      <td>5.170992</td>\n",
       "      <td>NaN</td>\n",
       "      <td>NaN</td>\n",
       "    </tr>\n",
       "    <tr>\n",
       "      <th>4</th>\n",
       "      <td>ZNF263</td>\n",
       "      <td>ZSCAN25</td>\n",
       "      <td>True</td>\n",
       "      <td>33.146853</td>\n",
       "      <td>ZNF263|1/3|11C01</td>\n",
       "      <td>ZSCAN25|1/4|04A06</td>\n",
       "      <td>paralogs</td>\n",
       "      <td>C2H2 ZF</td>\n",
       "      <td>C2H2 ZF</td>\n",
       "      <td>True</td>\n",
       "      <td>...</td>\n",
       "      <td>NaN</td>\n",
       "      <td>NaN</td>\n",
       "      <td>NaN</td>\n",
       "      <td>True</td>\n",
       "      <td>True</td>\n",
       "      <td>4.407654</td>\n",
       "      <td>1.294304</td>\n",
       "      <td>3.113350</td>\n",
       "      <td>NaN</td>\n",
       "      <td>NaN</td>\n",
       "    </tr>\n",
       "  </tbody>\n",
       "</table>\n",
       "<p>5 rows × 34 columns</p>\n",
       "</div>"
      ],
      "text/plain": [
       "  gene_symbol_a gene_symbol_b is_tested_in_Y2H  aa_seq_pct_identity  \\\n",
       "0       ZKSCAN3        ZNF263            False            34.555712   \n",
       "1        ZNF263       ZSCAN21            False            33.664773   \n",
       "2         ZNF24        ZNF263            False            25.070822   \n",
       "3        ZNF263        ZNF75A            False            19.683908   \n",
       "4        ZNF263       ZSCAN25             True            33.146853   \n",
       "\n",
       "         clone_acc_a        clone_acc_b  category family_a family_b  \\\n",
       "0  ZKSCAN3|2/2|07C05   ZNF263|1/3|11C01  paralogs  C2H2 ZF  C2H2 ZF   \n",
       "1   ZNF263|1/3|11C01  ZSCAN21|1/3|10H09  paralogs  C2H2 ZF  C2H2 ZF   \n",
       "2    ZNF24|1/2|01B07   ZNF263|1/3|11C01  paralogs  C2H2 ZF  C2H2 ZF   \n",
       "3   ZNF263|1/3|11C01   ZNF75A|1/2|11B06  paralogs  C2H2 ZF  C2H2 ZF   \n",
       "4   ZNF263|1/3|11C01  ZSCAN25|1/4|04A06  paralogs  C2H2 ZF  C2H2 ZF   \n",
       "\n",
       "  is_MANE_select_isoform_cloned_a  ... n_positive_PDI_b_filtered  \\\n",
       "0                           False  ...                       NaN   \n",
       "1                            True  ...                       NaN   \n",
       "2                            True  ...                       NaN   \n",
       "3                            True  ...                       NaN   \n",
       "4                            True  ...                       NaN   \n",
       "\n",
       "   n_shared_PDI  PDI_jaccard  \\\n",
       "0           NaN          NaN   \n",
       "1           NaN          NaN   \n",
       "2           NaN          NaN   \n",
       "3           NaN          NaN   \n",
       "4           NaN          NaN   \n",
       "\n",
       "   at_least_one_isoform_in_gene_a_abs_activation_gte_2fold  \\\n",
       "0                                               True         \n",
       "1                                               True         \n",
       "2                                              False         \n",
       "3                                               True         \n",
       "4                                               True         \n",
       "\n",
       "   at_least_one_isoform_in_gene_b_abs_activation_gte_2fold  activation_a  \\\n",
       "0                                               True            1.571580   \n",
       "1                                               True            4.407654   \n",
       "2                                               True            0.641802   \n",
       "3                                              False            4.407654   \n",
       "4                                               True            4.407654   \n",
       "\n",
       "   activation_b  activation_abs_fold_change_log2  PPI_Jaccard_d  PDI_Jaccard_d  \n",
       "0      4.407654                         2.836075            NaN            NaN  \n",
       "1      1.410804                         2.996850            NaN            NaN  \n",
       "2      4.407654                         3.765852            0.5            NaN  \n",
       "3     -0.763338                         5.170992            NaN            NaN  \n",
       "4      1.294304                         3.113350            NaN            NaN  \n",
       "\n",
       "[5 rows x 34 columns]"
      ]
     },
     "execution_count": 6,
     "metadata": {},
     "output_type": "execute_result"
    }
   ],
   "source": [
    "df.head()"
   ]
  },
  {
   "cell_type": "markdown",
   "id": "f80bfd2e",
   "metadata": {},
   "source": [
    "## 2. plot differences in molecular functions across paralogs/isoforms"
   ]
  },
  {
   "cell_type": "code",
   "execution_count": 7,
   "id": "b21f7c6d",
   "metadata": {},
   "outputs": [
    {
     "data": {
      "image/png": "[encoded data removed]",
      "text/plain": [
       "<Figure size 216x72 with 1 Axes>"
      ]
     },
     "metadata": {},
     "output_type": "display_data"
    }
   ],
   "source": [
    "pal = {\"isoforms\": sns.color_palette(\"Set2\")[2],\n",
    "       \"paralogs\": sns.color_palette(\"Set2\")[0],\n",
    "       \"non-paralog-control\": \"lightgrey\"}\n",
    "sns.palplot(pal.values())"
   ]
  },
  {
   "cell_type": "code",
   "execution_count": 8,
   "id": "be906ea5",
   "metadata": {},
   "outputs": [
    {
     "name": "stdout",
     "output_type": "stream",
     "text": [
      "5.966154712014808e-05\n",
      "0.015142969349353753\n"
     ]
    },
    {
     "name": "stderr",
     "output_type": "stream",
     "text": [
      "../plotting.py:1005: MatplotlibDeprecationWarning: Saw kwargs ['lw', 'linewidth'] which are all aliases for 'linewidth'.  Kept value from 'linewidth'.  Passing multiple aliases for the same property will raise a TypeError in 3.3.\n",
      "  ax.plot([x1, x1, x2, x2], [y, y + h, y + h, y], lw=1, c=\"black\", linewidth=0.5)\n",
      "../plotting.py:1005: MatplotlibDeprecationWarning: Saw kwargs ['lw', 'linewidth'] which are all aliases for 'linewidth'.  Kept value from 'linewidth'.  Passing multiple aliases for the same property will raise a TypeError in 3.3.\n",
      "  ax.plot([x1, x1, x2, x2], [y, y + h, y + h, y], lw=1, c=\"black\", linewidth=0.5)\n"
     ]
    },
    {
     "data": {
      "image/png": "[encoded data removed]",
      "text/plain": [
       "<Figure size 108x144 with 1 Axes>"
      ]
     },
     "metadata": {},
     "output_type": "display_data"
    }
   ],
   "source": [
    "fig, ax = plt.subplots(1, 1)\n",
    "fig.set_size_inches(w=1.5, h=2)\n",
    "violinplot_reflected(data=df,\n",
    "            x='category',\n",
    "            y='PPI_Jaccard_d',\n",
    "            order=['isoforms', 'paralogs', 'non-paralog-control'],\n",
    "            inner=None,\n",
    "            width=1.,\n",
    "            clip_on=False,\n",
    "            cut=0,\n",
    "            ax=ax,\n",
    "            palette=pal\n",
    "            )\n",
    "sns.pointplot(data=df,\n",
    "            x='category',\n",
    "            y='PPI_Jaccard_d',\n",
    "            order=['isoforms', 'paralogs', 'non-paralog-control'],\n",
    "            color='black',\n",
    "            linestyles='',\n",
    "            ax=ax,\n",
    "            clip_on=False,\n",
    "            )\n",
    "for loc in ['right', 'top', 'bottom']:\n",
    "    ax.spines[loc].set_visible(False)\n",
    "ax.set_xlim(-0.5, 2.7)\n",
    "ax.set_xlabel('')\n",
    "ax.xaxis.set_tick_params(length=0)\n",
    "ax.set_ylabel('PPI Jaccard distance')\n",
    "ax.set_xticklabels(['isoforms', 'paralogs', 'non-paralog controls'], rotation=30, va='top', ha='right')\n",
    "\n",
    "# calculate p-values\n",
    "# isos v paralogs\n",
    "dist_a = list(df[df['category'] == 'isoforms']['PPI_Jaccard_d'])\n",
    "dist_a = [x for x in dist_a if not pd.isnull(x)]\n",
    "dist_b = list(df[df['category'] == 'paralogs']['PPI_Jaccard_d'])\n",
    "dist_b = [x for x in dist_b if not pd.isnull(x)]\n",
    "u, p = stats.mannwhitneyu(dist_a, dist_b, alternative=\"two-sided\")\n",
    "print(p)\n",
    "annotate_pval(ax, 0, 1, 1.05, 0, 1.05, p, PAPER_FONTSIZE - 1)\n",
    "\n",
    "# paralogs v ctrls\n",
    "dist_c = list(df[df['category'] == 'non-paralog-control']['PPI_Jaccard_d'])\n",
    "dist_c = [x for x in dist_c if not pd.isnull(x)]\n",
    "u, p = stats.mannwhitneyu(dist_b, dist_c, alternative=\"two-sided\")\n",
    "print(p)\n",
    "annotate_pval(ax, 1, 2, 1.08, 0, 1.08, p, PAPER_FONTSIZE - 1)\n",
    "\n",
    "# manually set left axis so it stops at 1.0\n",
    "ax.set_ylim((-0.1, 1.2))\n",
    "ax.spines['left'].set_visible(False)\n",
    "ax.set_yticks([0, 0.2, 0.4, 0.6, 0.8, 1.0])\n",
    "axes_to_data = ax.transAxes + ax.transData.inverted()\n",
    "left_spine_in_data_coords = axes_to_data.transform((0, 0))\n",
    "ax.plot([left_spine_in_data_coords[0], left_spine_in_data_coords[0]], [0, 1],\n",
    "         color=ax.spines['bottom'].get_edgecolor(), linewidth=ax.spines['bottom'].get_linewidth())\n",
    "ax.tick_params(axis='x', which='major', pad=-5)\n",
    "\n",
    "fig.savefig('../../figures/fig6/isoforms_vs_paralogs_PPI_jaccard_violin.pdf',\n",
    "            bbox_inches='tight')"
   ]
  },
  {
   "cell_type": "code",
   "execution_count": 9,
   "id": "6619bc31",
   "metadata": {},
   "outputs": [
    {
     "name": "stdout",
     "output_type": "stream",
     "text": [
      "9.618916692218617e-07\n",
      "5.1322865181101005e-05\n"
     ]
    },
    {
     "name": "stderr",
     "output_type": "stream",
     "text": [
      "../plotting.py:1005: MatplotlibDeprecationWarning: Saw kwargs ['lw', 'linewidth'] which are all aliases for 'linewidth'.  Kept value from 'linewidth'.  Passing multiple aliases for the same property will raise a TypeError in 3.3.\n",
      "  ax.plot([x1, x1, x2, x2], [y, y + h, y + h, y], lw=1, c=\"black\", linewidth=0.5)\n",
      "../plotting.py:1005: MatplotlibDeprecationWarning: Saw kwargs ['lw', 'linewidth'] which are all aliases for 'linewidth'.  Kept value from 'linewidth'.  Passing multiple aliases for the same property will raise a TypeError in 3.3.\n",
      "  ax.plot([x1, x1, x2, x2], [y, y + h, y + h, y], lw=1, c=\"black\", linewidth=0.5)\n"
     ]
    },
    {
     "data": {
      "image/png": "[encoded data removed]",
      "text/plain": [
       "<Figure size 108x144 with 1 Axes>"
      ]
     },
     "metadata": {},
     "output_type": "display_data"
    }
   ],
   "source": [
    "# TODO: there are so many points at 0 in the control that it's tricky to show\n",
    "fig, ax = plt.subplots(1, 1)\n",
    "fig.set_size_inches(w=1.5, h=2)\n",
    "violinplot_reflected(data=df,\n",
    "            x='category',\n",
    "            y='PDI_Jaccard_d',\n",
    "            order=['isoforms', 'paralogs', 'non-paralog-control'],\n",
    "            inner=None,\n",
    "            clip_on=False,\n",
    "            width=1,\n",
    "            cut=0,\n",
    "            ax=ax,\n",
    "            palette=pal\n",
    "            )\n",
    "sns.pointplot(data=df,\n",
    "            x='category',\n",
    "            y='PDI_Jaccard_d',\n",
    "            order=['isoforms', 'paralogs', 'non-paralog-control'],\n",
    "            color='black',\n",
    "            linestyles='',\n",
    "            ax=ax,\n",
    "            clip_on=False,\n",
    "            )\n",
    "for loc in ['right', 'top', 'bottom']:\n",
    "    ax.spines[loc].set_visible(False)\n",
    "ax.set_xlim(-0.5, 2.7)\n",
    "ax.set_ylim(0, 1)\n",
    "ax.set_xlabel('')\n",
    "ax.xaxis.set_tick_params(length=0)\n",
    "ax.set_ylabel('PDI Jaccard distance')\n",
    "ax.set_xticklabels(['isoforms', 'paralogs', 'non-paralog controls'], rotation=30, va='top', ha='right')\n",
    "\n",
    "# calculate p-values\n",
    "# isos v paralogs\n",
    "dist_a = list(df[df['category'] == 'isoforms']['PDI_Jaccard_d'])\n",
    "dist_a = [x for x in dist_a if not pd.isnull(x)]\n",
    "dist_b = list(df[df['category'] == 'paralogs']['PDI_Jaccard_d'])\n",
    "dist_b = [x for x in dist_b if not pd.isnull(x)]\n",
    "u, p = stats.mannwhitneyu(dist_a, dist_b, alternative=\"two-sided\")\n",
    "print(p)\n",
    "annotate_pval(ax, 0, 1, 1.05, 0, 1.05, p, PAPER_FONTSIZE - 1)\n",
    "\n",
    "# paralogs v ctrls\n",
    "dist_c = list(df[df['category'] == 'non-paralog-control']['PDI_Jaccard_d'])\n",
    "dist_c = [x for x in dist_c if not pd.isnull(x)]\n",
    "u, p = stats.mannwhitneyu(dist_b, dist_c, alternative=\"two-sided\")\n",
    "print(p)\n",
    "annotate_pval(ax, 1, 2, 1.08, 0, 1.08, p, PAPER_FONTSIZE - 1)\n",
    "\n",
    "# manually set left axis so it stops at 1.0\n",
    "ax.set_ylim((-0.1, 1.2))\n",
    "ax.spines['left'].set_visible(False)\n",
    "ax.set_yticks([0, 0.2, 0.4, 0.6, 0.8, 1.0])\n",
    "axes_to_data = ax.transAxes + ax.transData.inverted()\n",
    "left_spine_in_data_coords = axes_to_data.transform((0, 0))\n",
    "ax.plot([left_spine_in_data_coords[0], left_spine_in_data_coords[0]], [0, 1],\n",
    "         color=ax.spines['bottom'].get_edgecolor(), linewidth=ax.spines['bottom'].get_linewidth())\n",
    "ax.tick_params(axis='x', which='major', pad=-5)\n",
    "\n",
    "fig.savefig('../../figures/fig6/isoforms_vs_paralogs_PDI_jaccard_violin.pdf',\n",
    "            bbox_inches='tight')"
   ]
  },
  {
   "cell_type": "code",
   "execution_count": 10,
   "id": "e3bb663f",
   "metadata": {},
   "outputs": [
    {
     "name": "stdout",
     "output_type": "stream",
     "text": [
      "5.741976377019895e-09\n",
      "2.069373750683726e-08\n"
     ]
    },
    {
     "name": "stderr",
     "output_type": "stream",
     "text": [
      "../plotting.py:1005: MatplotlibDeprecationWarning: Saw kwargs ['lw', 'linewidth'] which are all aliases for 'linewidth'.  Kept value from 'linewidth'.  Passing multiple aliases for the same property will raise a TypeError in 3.3.\n",
      "  ax.plot([x1, x1, x2, x2], [y, y + h, y + h, y], lw=1, c=\"black\", linewidth=0.5)\n",
      "../plotting.py:1005: MatplotlibDeprecationWarning: Saw kwargs ['lw', 'linewidth'] which are all aliases for 'linewidth'.  Kept value from 'linewidth'.  Passing multiple aliases for the same property will raise a TypeError in 3.3.\n",
      "  ax.plot([x1, x1, x2, x2], [y, y + h, y + h, y], lw=1, c=\"black\", linewidth=0.5)\n"
     ]
    },
    {
     "data": {
      "image/png": "[encoded data removed]",
      "text/plain": [
       "<Figure size 108x126 with 1 Axes>"
      ]
     },
     "metadata": {},
     "output_type": "display_data"
    }
   ],
   "source": [
    "# HACK should just be using violoin plot but it's broken by the reflection\n",
    "# HACK so just putting very high upper bound\n",
    "fig, ax = plt.subplots(1, 1)\n",
    "fig.set_size_inches(w=1.5, h=1.75)\n",
    "violinplot_reflected(data=df,\n",
    "            x='category',\n",
    "            y='activation_abs_fold_change_log2',\n",
    "            order=['isoforms', 'paralogs', 'non-paralog-control'],\n",
    "            inner=None,\n",
    "            width=1.,\n",
    "            ub=9999999,\n",
    "            bw_const=0.5,\n",
    "            cut=0,\n",
    "            clip_on=False,\n",
    "            ax=ax,\n",
    "            palette=pal\n",
    "            )\n",
    "sns.pointplot(data=df,\n",
    "            x='category',\n",
    "            y='activation_abs_fold_change_log2',\n",
    "            order=['isoforms', 'paralogs', 'non-paralog-control'],\n",
    "            color='black',\n",
    "            linestyles='',\n",
    "            ax=ax,\n",
    "            clip_on=False,\n",
    "            )\n",
    "for loc in ['right', 'top', 'bottom']:\n",
    "    ax.spines[loc].set_visible(False)\n",
    "ax.set_ylim(0, 12)\n",
    "ax.set_xlim(-0.6, 2.5)\n",
    "ax.set_xlabel('')\n",
    "ax.xaxis.set_tick_params(length=0)\n",
    "ax.set_ylabel('|Activation log2FC|')\n",
    "ax.set_xticklabels(['isoforms', 'paralogs', 'non-paralog controls'], rotation=30, va='top', ha='right')\n",
    "\n",
    "# calculate p-values\n",
    "# isos v paralogs\n",
    "dist_a = list(df[df['category'] == 'isoforms']['activation_abs_fold_change_log2'])\n",
    "dist_a = [x for x in dist_a if not pd.isnull(x)]\n",
    "dist_b = list(df[df['category'] == 'paralogs']['activation_abs_fold_change_log2'])\n",
    "dist_b = [x for x in dist_b if not pd.isnull(x)]\n",
    "u, p = stats.mannwhitneyu(dist_a, dist_b, alternative=\"two-sided\")\n",
    "print(p)\n",
    "annotate_pval(ax, 0.1, 0.9, 7.5, 0, 7.5, p, PAPER_FONTSIZE - 1)\n",
    "\n",
    "# paralogs v ctrls\n",
    "dist_c = list(df[df['category'] == 'non-paralog-control']['activation_abs_fold_change_log2'])\n",
    "dist_c = [x for x in dist_c if not pd.isnull(x)]\n",
    "u, p = stats.mannwhitneyu(dist_b, dist_c, alternative=\"two-sided\")\n",
    "print(p)\n",
    "annotate_pval(ax, 1.1, 1.9, 12.5, 0, 12.5, p, PAPER_FONTSIZE - 1)\n",
    "\n",
    "# manually set left axis so it stops at 12\n",
    "ax.set_ylim((-0.1, 12.5))\n",
    "ax.spines['left'].set_visible(False)\n",
    "ax.set_yticks([0, 2, 4, 6, 8, 10, 12])\n",
    "axes_to_data = ax.transAxes + ax.transData.inverted()\n",
    "left_spine_in_data_coords = axes_to_data.transform((0, 0))\n",
    "ax.plot([left_spine_in_data_coords[0], left_spine_in_data_coords[0]], [0, 12],\n",
    "         color=ax.spines['bottom'].get_edgecolor(), linewidth=ax.spines['bottom'].get_linewidth())\n",
    "ax.tick_params(axis='x', which='major', pad=2)\n",
    "\n",
    "fig.savefig('../../figures/fig6/isoforms_vs_paralogs_activation_violin.pdf',\n",
    "            bbox_inches='tight')"
   ]
  },
  {
   "cell_type": "code",
   "execution_count": 11,
   "id": "02f419e3",
   "metadata": {},
   "outputs": [
    {
     "name": "stdout",
     "output_type": "stream",
     "text": [
      "2.4126374715694424e-100\n",
      "2.4288744384222995e-107\n"
     ]
    },
    {
     "name": "stderr",
     "output_type": "stream",
     "text": [
      "../plotting.py:1005: MatplotlibDeprecationWarning: Saw kwargs ['lw', 'linewidth'] which are all aliases for 'linewidth'.  Kept value from 'linewidth'.  Passing multiple aliases for the same property will raise a TypeError in 3.3.\n",
      "  ax.plot([x1, x1, x2, x2], [y, y + h, y + h, y], lw=1, c=\"black\", linewidth=0.5)\n",
      "../plotting.py:1005: MatplotlibDeprecationWarning: Saw kwargs ['lw', 'linewidth'] which are all aliases for 'linewidth'.  Kept value from 'linewidth'.  Passing multiple aliases for the same property will raise a TypeError in 3.3.\n",
      "  ax.plot([x1, x1, x2, x2], [y, y + h, y + h, y], lw=1, c=\"black\", linewidth=0.5)\n"
     ]
    },
    {
     "data": {
      "image/png": "[encoded data removed]",
      "text/plain": [
       "<Figure size 100.8x108 with 1 Axes>"
      ]
     },
     "metadata": {},
     "output_type": "display_data"
    }
   ],
   "source": [
    "fig, ax = plt.subplots(1, 1)\n",
    "fig.set_size_inches(w=1.4, h=1.5)\n",
    "violinplot_reflected(data=df,\n",
    "            x='category',\n",
    "            y='aa_seq_pct_identity',\n",
    "            order=['isoforms', 'paralogs', 'non-paralog-control'],\n",
    "            inner=None,\n",
    "            width=1.,\n",
    "            ub=100,\n",
    "            bw_const=10,  # since on % scale\n",
    "            cut=0,\n",
    "            clip_on=False,\n",
    "            ax=ax,\n",
    "            palette=pal,\n",
    "            )\n",
    "sns.pointplot(data=df,\n",
    "            x='category',\n",
    "            y='aa_seq_pct_identity',\n",
    "            order=['isoforms', 'paralogs', 'non-paralog-control'],\n",
    "            color='black',\n",
    "            linestyles='',\n",
    "            ax=ax,\n",
    "            clip_on=False,\n",
    "            )\n",
    "for loc in ['right', 'top', 'bottom']:\n",
    "    ax.spines[loc].set_visible(False)\n",
    "ax.set_ylim(0, 100)\n",
    "ax.set_xlim(-0.5, 2.8)\n",
    "ax.set_xlabel('')\n",
    "ax.xaxis.set_tick_params(length=0)\n",
    "ax.set_ylabel('amino acid seq. identity (%)')\n",
    "ax.set_xticklabels(['isoforms', 'paralogs', 'non-paralog controls'], rotation=30, va='top', ha='right')\n",
    "\n",
    "# calculate p-values\n",
    "# isos v paralogs\n",
    "dist_a = list(df[df['category'] == 'isoforms']['aa_seq_pct_identity'])\n",
    "dist_a = [x for x in dist_a if not pd.isnull(x)]\n",
    "dist_b = list(df[df['category'] == 'paralogs']['aa_seq_pct_identity'])\n",
    "dist_b = [x for x in dist_b if not pd.isnull(x)]\n",
    "u, p = stats.mannwhitneyu(dist_a, dist_b, alternative=\"two-sided\")\n",
    "print(p)\n",
    "annotate_pval(ax, 0.1, 0.9, -2, 0, -2, p, PAPER_FONTSIZE - 1)\n",
    "\n",
    "# paralogs v ctrls\n",
    "dist_c = list(df[df['category'] == 'non-paralog-control']['aa_seq_pct_identity'])\n",
    "dist_c = [x for x in dist_c if not pd.isnull(x)]\n",
    "u, p = stats.mannwhitneyu(dist_b, dist_c, alternative=\"two-sided\")\n",
    "print(p)\n",
    "annotate_pval(ax, 1.1, 1.9, -9, 0, -9, p, PAPER_FONTSIZE - 1)\n",
    "\n",
    "# manually set left axis so it stops at 1.0\n",
    "ax.set_ylim((101, -9))\n",
    "ax.spines['left'].set_visible(False)\n",
    "ax.set_yticks([100, 80, 60, 40, 20, 0])\n",
    "axes_to_data = ax.transAxes + ax.transData.inverted()\n",
    "left_spine_in_data_coords = axes_to_data.transform((0, 0))\n",
    "ax.plot([left_spine_in_data_coords[0], left_spine_in_data_coords[0]], [100, 0],\n",
    "         color=ax.spines['bottom'].get_edgecolor(), linewidth=ax.spines['bottom'].get_linewidth())\n",
    "\n",
    "fig.savefig('../../figures/fig6/isoforms_vs_paralogs_seq_id_violin.pdf',\n",
    "            bbox_inches='tight')"
   ]
  },
  {
   "cell_type": "markdown",
   "id": "f785064c",
   "metadata": {},
   "source": [
    "## 3. control for differences in sequence similarity"
   ]
  },
  {
   "cell_type": "code",
   "execution_count": 12,
   "id": "4c1fa7a7",
   "metadata": {},
   "outputs": [],
   "source": [
    "def assay_vs_seq_similarity_plot(\n",
    "    var, \n",
    "    window_size,\n",
    "    n_min,\n",
    "    y_label,\n",
    "    color,\n",
    "    y_max=None,\n",
    "    y_ticks=None,\n",
    "    y_ticks_minor=None,\n",
    "    y_pos_p_value=1,\n",
    "    alpha_points=0.15,\n",
    "    ):\n",
    "    fig, ax = plt.subplots(1, 1)\n",
    "    fig.set_size_inches(2, 2)\n",
    "    fig_path = f'../../figures/fig6/isoforms_vs_paralogs_aa_id_vs_{var}_fixed_window.pdf'\n",
    "\n",
    "    # calculate bootstrap uncertainty by number of data points\n",
    "    err = {}\n",
    "    def get_bootstrap_error_for_n_data_points(n):\n",
    "        if n in err:\n",
    "            return err[n]\n",
    "        all_vals = df[var].dropna().values\n",
    "        rnd_means = []\n",
    "        for _i in range(1000):\n",
    "            rnd_means.append(\n",
    "                np.mean(np.random.choice(all_vals, size=n, replace=True))\n",
    "                )\n",
    "        mean = np.mean(rnd_means)\n",
    "        err_up = np.quantile(rnd_means, q=0.84) - mean\n",
    "        err_dn = mean - np.quantile(rnd_means, q=0.16)\n",
    "        err[n] = max([err_up, err_dn])  # taking a conservative approach\n",
    "        return err[n]\n",
    "                \n",
    "\n",
    "    # p-value using permutation test within a window\n",
    "    # use window where they overlap the most, as quantified by\n",
    "    # the max across all windows of the min of the two #pairs \n",
    "    # (# paralog pairs and # isoform pairs) in each window\n",
    "    max_min_n = 0\n",
    "    for i in range(-window_size, 100):\n",
    "        binned_rows = (df[var].notnull() \n",
    "                    & (df['aa_seq_pct_identity'] >= i)\n",
    "                    & (df['aa_seq_pct_identity'] < i + window_size))\n",
    "        min_n = min([\n",
    "            (binned_rows & (df['category'] == 'isoforms')).sum(),\n",
    "            (binned_rows & (df['category'] == 'paralogs')).sum()\n",
    "        ])\n",
    "        if min_n > max_min_n:\n",
    "            bin_low = i\n",
    "            bin_high = i + window_size\n",
    "            max_min_n = min_n\n",
    "    overlap = df.loc[df['category'].isin(['isoforms', 'paralogs'])\n",
    "                    & df[var].notnull()\n",
    "                    & (df['aa_seq_pct_identity'] >= bin_low)\n",
    "                    & (df['aa_seq_pct_identity'] < bin_high),\n",
    "                    ['category', var]]\n",
    "    val_a = overlap.loc[overlap['category'] == 'isoforms', var].mean()\n",
    "    val_b = overlap.loc[overlap['category'] == 'paralogs', var].mean()\n",
    "    obs_val = val_a - val_b\n",
    "    all_vals = overlap[var].values\n",
    "    rnd_vals = []\n",
    "    n_a = (overlap['category'] == 'isoforms').sum()\n",
    "    np.random.seed(84349723)\n",
    "    for _i in range(20000):\n",
    "        shuffled = np.random.choice(all_vals, size=len(all_vals), replace=False)\n",
    "        rnd_vals.append(shuffled[:n_a].mean() - shuffled[n_a:].mean())\n",
    "    rnd_vals = np.array(rnd_vals)\n",
    "    p_val = ((rnd_vals >= obs_val).sum() / len(rnd_vals)) * 2\n",
    "\n",
    "    print(len(all_vals), n_a)\n",
    "    print(val_a, val_b)\n",
    "    print(bin_low, bin_high)\n",
    "    print(obs_val)\n",
    "    print('p=', p_val)\n",
    "\n",
    "    for cat in ['isoforms', 'paralogs']:\n",
    "        xy = df.loc[(df['category'] == cat) &\n",
    "            (df[var].notnull()),\n",
    "                ['aa_seq_pct_identity', var]].values\n",
    "        ax.scatter(xy[:, 0], \n",
    "                xy[:, 1],\n",
    "                clip_on=False, \n",
    "                alpha=alpha_points,\n",
    "                label=cat,\n",
    "                color=color[cat],\n",
    "                lw=0,\n",
    "                )\n",
    "        x, avrg, ci_dn, ci_up = [], [], [], []\n",
    "        for i in range(-window_size, 100):\n",
    "            subset = df.loc[(df['category'] == cat) \n",
    "                            & (df[var].notnull())\n",
    "                            & (df['aa_seq_pct_identity'] >= i)\n",
    "                            & (df['aa_seq_pct_identity'] < i + window_size),\n",
    "                            ['aa_seq_pct_identity', var]]\n",
    "            n = subset.shape[0]\n",
    "            if n < n_min:\n",
    "                continue\n",
    "            x.append(subset['aa_seq_pct_identity'].mean())\n",
    "            avrg.append(subset[var].mean())\n",
    "            ci_dn.append(max(avrg[-1] - get_bootstrap_error_for_n_data_points(n), 0))\n",
    "            ci_up.append(min(avrg[-1] + get_bootstrap_error_for_n_data_points(n), y_max))\n",
    "\n",
    "        ax.plot(x, avrg, color=color[cat])\n",
    "        ax.fill_between(x=x, \n",
    "                        y1=ci_dn, \n",
    "                        y2=ci_up,\n",
    "                        alpha=0.5,\n",
    "                        color=color[cat],\n",
    "                        lw=0,\n",
    "                        )\n",
    "    ax.text(s=f'P = {p_val:.3f}',\n",
    "            x=bin_low + window_size / 2,\n",
    "            y=y_pos_p_value,\n",
    "            ha='center',\n",
    "            va='top',\n",
    "            )\n",
    "\n",
    "    for loc in ['top', 'right']:\n",
    "        ax.spines[loc].set_visible(False)\n",
    "    ax.set_xlabel('% AA sequence ID')\n",
    "    ax.set_xlim(0, 100)\n",
    "    ax.set_ylim(0, y_max)\n",
    "    ax.set_xticks(range(0, 101, 20))\n",
    "    ax.set_xticks(range(0, 101, 10), minor=True)\n",
    "    if y_ticks is not None:\n",
    "        ax.set_yticks(y_ticks)\n",
    "    if y_ticks_minor is not None:\n",
    "        ax.set_yticks(y_ticks_minor, minor=True)\n",
    "    ax.set_ylabel(y_label)\n",
    "    #fig.legend(loc='center left', bbox_to_anchor=[0.95, 0.5])\n",
    "    fig.savefig(fig_path, bbox_inches='tight')"
   ]
  },
  {
   "cell_type": "code",
   "execution_count": 13,
   "id": "a14e393a",
   "metadata": {},
   "outputs": [
    {
     "name": "stdout",
     "output_type": "stream",
     "text": [
      "47 20\n",
      "0.9614468864468864 0.8680702014035347\n",
      "29 69\n",
      "0.09337668504335161\n",
      "p= 0.0428\n"
     ]
    },
    {
     "data": {
      "image/png": "[encoded data removed]",
      "text/plain": [
       "<Figure size 144x144 with 1 Axes>"
      ]
     },
     "metadata": {},
     "output_type": "display_data"
    }
   ],
   "source": [
    "assay_vs_seq_similarity_plot(var='PDI_Jaccard_d',\n",
    "                             window_size=40,\n",
    "                             n_min=10,\n",
    "                             y_label='PDI Jaccard distance',\n",
    "                             color=pal,\n",
    "                             y_max=1,\n",
    "                             y_ticks=np.linspace(0, 1, 6),\n",
    "                             y_ticks_minor=np.linspace(0, 1, 11),\n",
    "                             y_pos_p_value=0.65,\n",
    "                             )"
   ]
  },
  {
   "cell_type": "code",
   "execution_count": 14,
   "id": "38f64f15",
   "metadata": {},
   "outputs": [
    {
     "name": "stdout",
     "output_type": "stream",
     "text": [
      "45 23\n",
      "0.6606398489520082 0.5508320052962911\n",
      "33 73\n",
      "0.10980784365571716\n",
      "p= 0.1681\n"
     ]
    },
    {
     "data": {
      "image/png": "[encoded data removed]",
      "text/plain": [
       "<Figure size 144x144 with 1 Axes>"
      ]
     },
     "metadata": {},
     "output_type": "display_data"
    }
   ],
   "source": [
    "assay_vs_seq_similarity_plot(var='PPI_Jaccard_d',\n",
    "                             window_size=40,\n",
    "                             n_min=10,\n",
    "                             y_label='PPI Jaccard distance',\n",
    "                             color=pal,\n",
    "                             y_max=1,\n",
    "                             y_pos_p_value=0.3,\n",
    "                             )"
   ]
  },
  {
   "cell_type": "code",
   "execution_count": 15,
   "id": "adbc0599",
   "metadata": {},
   "outputs": [
    {
     "name": "stdout",
     "output_type": "stream",
     "text": [
      "149 69\n",
      "1.769598362355229 1.3539016001964117\n",
      "36 76\n",
      "0.41569676215881723\n",
      "p= 0.0357\n"
     ]
    },
    {
     "data": {
      "image/png": "[encoded data removed]",
      "text/plain": [
       "<Figure size 144x144 with 1 Axes>"
      ]
     },
     "metadata": {},
     "output_type": "display_data"
    }
   ],
   "source": [
    "assay_vs_seq_similarity_plot(var='activation_abs_fold_change_log2',\n",
    "                             window_size=40,\n",
    "                             n_min=10,\n",
    "                             y_label='|Activation log2FC|',\n",
    "                             color=pal,\n",
    "                             y_max=12,\n",
    "                             alpha_points=0.05,\n",
    "                             y_pos_p_value=3,                       \n",
    "                             )"
   ]
  },
  {
   "cell_type": "markdown",
   "id": "8756e661",
   "metadata": {},
   "source": [
    "### binned violin-plots for main figure"
   ]
  },
  {
   "cell_type": "code",
   "execution_count": 16,
   "id": "f2ab9d3b",
   "metadata": {},
   "outputs": [
    {
     "data": {
      "text/plain": [
       "0-33%      1433\n",
       "33-66%      394\n",
       "66-100%     312\n",
       "Name: aa_seq_pct_identity_bin, dtype: int64"
      ]
     },
     "execution_count": 16,
     "metadata": {},
     "output_type": "execute_result"
    }
   ],
   "source": [
    "def aa_seq_pct_identity_bin(row):\n",
    "    if row.aa_seq_pct_identity >= 0 and row.aa_seq_pct_identity < 33.3:\n",
    "        return \"0-33%\"\n",
    "    elif row.aa_seq_pct_identity >= 33.3 and row.aa_seq_pct_identity < 66.6:\n",
    "        return \"33-66%\"\n",
    "    else:\n",
    "        return \"66-100%\"\n",
    "    \n",
    "df[\"aa_seq_pct_identity_bin\"] = df.apply(aa_seq_pct_identity_bin, axis=1)\n",
    "df.aa_seq_pct_identity_bin.value_counts()"
   ]
  },
  {
   "cell_type": "code",
   "execution_count": 17,
   "id": "fe25b800",
   "metadata": {},
   "outputs": [
    {
     "name": "stdout",
     "output_type": "stream",
     "text": [
      "0.2288638726083766\n",
      "0.3599946474664366\n",
      "0.45779681536661576\n"
     ]
    },
    {
     "name": "stderr",
     "output_type": "stream",
     "text": [
      "../plotting.py:1005: MatplotlibDeprecationWarning: Saw kwargs ['lw', 'linewidth'] which are all aliases for 'linewidth'.  Kept value from 'linewidth'.  Passing multiple aliases for the same property will raise a TypeError in 3.3.\n",
      "  ax.plot([x1, x1, x2, x2], [y, y + h, y + h, y], lw=1, c=\"black\", linewidth=0.5)\n",
      "../plotting.py:1005: MatplotlibDeprecationWarning: Saw kwargs ['lw', 'linewidth'] which are all aliases for 'linewidth'.  Kept value from 'linewidth'.  Passing multiple aliases for the same property will raise a TypeError in 3.3.\n",
      "  ax.plot([x1, x1, x2, x2], [y, y + h, y + h, y], lw=1, c=\"black\", linewidth=0.5)\n",
      "../plotting.py:1005: MatplotlibDeprecationWarning: Saw kwargs ['lw', 'linewidth'] which are all aliases for 'linewidth'.  Kept value from 'linewidth'.  Passing multiple aliases for the same property will raise a TypeError in 3.3.\n",
      "  ax.plot([x1, x1, x2, x2], [y, y + h, y + h, y], lw=1, c=\"black\", linewidth=0.5)\n"
     ]
    },
    {
     "data": {
      "image/png": "[encoded data removed]",
      "text/plain": [
       "<Figure size 144x144 with 1 Axes>"
      ]
     },
     "metadata": {},
     "output_type": "display_data"
    }
   ],
   "source": [
    "fig, ax = plt.subplots(1, 1)\n",
    "fig.set_size_inches(w=2, h=2)\n",
    "violinplot_reflected(data=df,\n",
    "            x='aa_seq_pct_identity_bin',\n",
    "            order=['0-33%', '33-66%', '66-100%'],\n",
    "            y='PPI_Jaccard_d',\n",
    "            hue='category',\n",
    "            hue_order=['isoforms', 'paralogs'],\n",
    "            inner=None,\n",
    "            clip_on=False,\n",
    "            cut=0,\n",
    "            bw_const=0.15,\n",
    "            ax=ax,\n",
    "            palette=pal\n",
    "            )\n",
    "sns.pointplot(data=df,\n",
    "            x='aa_seq_pct_identity_bin',\n",
    "            order=['0-33%', '33-66%', '66-100%'],\n",
    "            y='PPI_Jaccard_d',\n",
    "            hue='category',\n",
    "            hue_order=['isoforms', 'paralogs'],\n",
    "            color='black',\n",
    "            linestyles='',\n",
    "            ax=ax,\n",
    "            clip_on=False,\n",
    "            dodge=0.4,\n",
    "            )\n",
    "for loc in ['right', 'top', 'bottom']:\n",
    "    ax.spines[loc].set_visible(False)\n",
    "    \n",
    "ax.set_xlabel(\"% AA sequence identity\")\n",
    "ax.set_ylabel(\"PPI Jaccard distance\")\n",
    "\n",
    "for i, x in enumerate(['0-33%', '33-66%', '66-100%']):\n",
    "    _isos = df[(df['aa_seq_pct_identity_bin'] == x) &\n",
    "               (df['category'] == 'isoforms') &\n",
    "               (~pd.isnull(df['PPI_Jaccard_d']))]\n",
    "    _pars = df[(df['aa_seq_pct_identity_bin'] == x) &\n",
    "               (df['category'] == 'paralogs') &\n",
    "               (~pd.isnull(df['PPI_Jaccard_d']))]\n",
    "    n_isos = len(_isos)\n",
    "    n_pars = len(_pars)\n",
    "    ax.text(i-0.2, 0, '\\n%s' % n_isos, color=pal['isoforms'], va='top', ha='center')\n",
    "    ax.text(i+0.2, 0, '\\n%s' % n_pars, color=pal['paralogs'], va='top', ha='center')\n",
    "    \n",
    "    u, p = stats.mannwhitneyu(_isos['PPI_Jaccard_d'], _pars['PPI_Jaccard_d'], alternative=\"two-sided\")\n",
    "    print(p)\n",
    "    annotate_pval(ax, i-0.2, i+0.2, 1.1, 0, 1.1, p, PAPER_FONTSIZE - 1)\n",
    "\n",
    "\n",
    "# manually set left axis so it stops at 1.0\n",
    "ax.set_xlim((-0.5, 2.5))\n",
    "ax.set_ylim((-0.2, 1.2))\n",
    "ax.spines['left'].set_visible(False)\n",
    "ax.set_yticks([0, 0.2, 0.4, 0.6, 0.8, 1.0])\n",
    "axes_to_data = ax.transAxes + ax.transData.inverted()\n",
    "left_spine_in_data_coords = axes_to_data.transform((0, 0))\n",
    "ax.plot([left_spine_in_data_coords[0], left_spine_in_data_coords[0]], [0, 1],\n",
    "         color=ax.spines['bottom'].get_edgecolor(), linewidth=ax.spines['bottom'].get_linewidth())\n",
    "    \n",
    "\n",
    "    \n",
    "handles, labels = ax.get_legend_handles_labels()\n",
    "plt.legend(handles=handles[0:2], labels=labels[0:2],\n",
    "           loc=2, bbox_to_anchor=(1.01, 0.9), facecolor=\"white\", markerscale=1,\n",
    "           frameon=False)\n",
    "\n",
    "fig.savefig('../../figures/fig6/isoforms_vs_paralogs_PPI_jaccard_violin.binned.pdf',\n",
    "            bbox_inches='tight')"
   ]
  },
  {
   "cell_type": "code",
   "execution_count": 18,
   "id": "ebee8c13",
   "metadata": {},
   "outputs": [],
   "source": [
    "# fig, ax = plt.subplots(1, 1)\n",
    "# fig.set_size_inches(w=3, h=2)\n",
    "\n",
    "# sns.boxplot(data=df,\n",
    "#             x='aa_seq_pct_identity_bin',\n",
    "#             order=['0-33%', '33-66%', '66-100%'],\n",
    "#             y='PPI_Jaccard_d',\n",
    "#             hue='category',\n",
    "#             hue_order=['isoforms', 'paralogs'],\n",
    "#             ax=ax,\n",
    "#             palette=pal,\n",
    "#             fliersize=0,\n",
    "#             )\n",
    "# mimic_r_boxplot(ax=ax)\n",
    "\n",
    "# sns.swarmplot(data=df,\n",
    "#             x='aa_seq_pct_identity_bin',\n",
    "#             order=['0-33%', '33-66%', '66-100%'],\n",
    "#             y='PPI_Jaccard_d',\n",
    "#             hue='category',\n",
    "#             hue_order=['isoforms', 'paralogs'],\n",
    "#             ax=ax,\n",
    "#             palette=pal,\n",
    "#             dodge=True,\n",
    "#             linewidth=0.5,\n",
    "#             edgecolor='black',\n",
    "#             size=4\n",
    "#             )\n",
    "# for loc in ['right', 'top', 'bottom']:\n",
    "#     ax.spines[loc].set_visible(False)\n",
    "    \n",
    "# ax.set_xlabel(\"% AA sequence identity\")\n",
    "# ax.set_ylabel(\"PPI Jaccard distance\")\n",
    "\n",
    "# for i, x in enumerate(['0-33%', '33-66%', '66-100%']):\n",
    "#     _isos = df[(df['aa_seq_pct_identity_bin'] == x) &\n",
    "#                (df['category'] == 'isoforms') &\n",
    "#                (~pd.isnull(df['PPI_Jaccard_d']))]\n",
    "#     _pars = df[(df['aa_seq_pct_identity_bin'] == x) &\n",
    "#                (df['category'] == 'paralogs') &\n",
    "#                (~pd.isnull(df['PPI_Jaccard_d']))]\n",
    "#     u, p = stats.mannwhitneyu(_isos['PPI_Jaccard_d'], _pars['PPI_Jaccard_d'], alternative=\"two-sided\")\n",
    "#     print(p)\n",
    "#     annotate_pval(ax, i-0.2, i+0.2, 1.1, 0, 1.1, p, PAPER_FONTSIZE - 1)\n",
    "    \n",
    "# # manually set left axis so it stops at 1.0\n",
    "# ax.set_ylim((-0.1, 1.2))\n",
    "# ax.spines['left'].set_visible(False)\n",
    "# ax.set_yticks([0, 0.2, 0.4, 0.6, 0.8, 1.0])\n",
    "# axes_to_data = ax.transAxes + ax.transData.inverted()\n",
    "# left_spine_in_data_coords = axes_to_data.transform((0, 0))\n",
    "# ax.plot([left_spine_in_data_coords[0], left_spine_in_data_coords[0]], [0, 1],\n",
    "#          color=ax.spines['bottom'].get_edgecolor(), linewidth=ax.spines['bottom'].get_linewidth())\n",
    "    \n",
    "# handles, labels = ax.get_legend_handles_labels()\n",
    "# plt.legend(handles=handles[0:2], labels=labels[0:2],\n",
    "#            loc=2, bbox_to_anchor=(1.01, 0.9), facecolor=\"white\", markerscale=1,\n",
    "#            frameon=False)\n",
    "\n",
    "# fig.savefig('../../figures/fig6/isoforms_vs_paralogs_PPI_jaccard_swarm.binned.pdf',\n",
    "#             bbox_inches='tight')"
   ]
  },
  {
   "cell_type": "code",
   "execution_count": 19,
   "id": "bac978ef",
   "metadata": {},
   "outputs": [
    {
     "name": "stdout",
     "output_type": "stream",
     "text": [
      "0.5497489271984151\n",
      "0.024346055164257988\n",
      "0.5798297745398759\n"
     ]
    },
    {
     "name": "stderr",
     "output_type": "stream",
     "text": [
      "../plotting.py:1005: MatplotlibDeprecationWarning: Saw kwargs ['lw', 'linewidth'] which are all aliases for 'linewidth'.  Kept value from 'linewidth'.  Passing multiple aliases for the same property will raise a TypeError in 3.3.\n",
      "  ax.plot([x1, x1, x2, x2], [y, y + h, y + h, y], lw=1, c=\"black\", linewidth=0.5)\n",
      "../plotting.py:1005: MatplotlibDeprecationWarning: Saw kwargs ['lw', 'linewidth'] which are all aliases for 'linewidth'.  Kept value from 'linewidth'.  Passing multiple aliases for the same property will raise a TypeError in 3.3.\n",
      "  ax.plot([x1, x1, x2, x2], [y, y + h, y + h, y], lw=1, c=\"black\", linewidth=0.5)\n",
      "../plotting.py:1005: MatplotlibDeprecationWarning: Saw kwargs ['lw', 'linewidth'] which are all aliases for 'linewidth'.  Kept value from 'linewidth'.  Passing multiple aliases for the same property will raise a TypeError in 3.3.\n",
      "  ax.plot([x1, x1, x2, x2], [y, y + h, y + h, y], lw=1, c=\"black\", linewidth=0.5)\n"
     ]
    },
    {
     "data": {
      "image/png": "[encoded data removed]",
      "text/plain": [
       "<Figure size 144x144 with 1 Axes>"
      ]
     },
     "metadata": {},
     "output_type": "display_data"
    }
   ],
   "source": [
    "fig, ax = plt.subplots(1, 1)\n",
    "fig.set_size_inches(w=2, h=2)\n",
    "violinplot_reflected(data=df,\n",
    "            x='aa_seq_pct_identity_bin',\n",
    "            order=['0-33%', '33-66%', '66-100%'],\n",
    "            y='PDI_Jaccard_d',\n",
    "            hue='category',\n",
    "            hue_order=['isoforms', 'paralogs'],\n",
    "            inner=None,\n",
    "            clip_on=False,\n",
    "            cut=0,\n",
    "            bw_const=0.1,\n",
    "            ax=ax,\n",
    "            palette=pal\n",
    "            )\n",
    "sns.pointplot(data=df,\n",
    "            x='aa_seq_pct_identity_bin',\n",
    "            order=['0-33%', '33-66%', '66-100%'],\n",
    "            y='PDI_Jaccard_d',\n",
    "            hue='category',\n",
    "            hue_order=['isoforms', 'paralogs'],\n",
    "            color='black',\n",
    "            linestyles='',\n",
    "            ax=ax,\n",
    "            clip_on=False,\n",
    "            dodge=0.4,\n",
    "            )\n",
    "for loc in ['right', 'top', 'bottom']:\n",
    "    ax.spines[loc].set_visible(False)\n",
    "    \n",
    "ax.set_xlabel(\"% AA sequence identity\")\n",
    "ax.set_ylabel(\"PDI Jaccard distance\")\n",
    "\n",
    "for i, x in enumerate(['0-33%', '33-66%', '66-100%']):\n",
    "    _isos = df[(df['aa_seq_pct_identity_bin'] == x) &\n",
    "               (df['category'] == 'isoforms') &\n",
    "               (~pd.isnull(df['PDI_Jaccard_d']))]\n",
    "    _pars = df[(df['aa_seq_pct_identity_bin'] == x) &\n",
    "               (df['category'] == 'paralogs') &\n",
    "               (~pd.isnull(df['PDI_Jaccard_d']))]\n",
    "    n_isos = len(_isos)\n",
    "    n_pars = len(_pars)\n",
    "    ax.text(i-0.2, 0, '\\n%s' % n_isos, color=pal['isoforms'], va='top', ha='center')\n",
    "    ax.text(i+0.2, 0, '\\n%s' % n_pars, color=pal['paralogs'], va='top', ha='center')\n",
    "    \n",
    "    u, p = stats.mannwhitneyu(_isos['PDI_Jaccard_d'], _pars['PDI_Jaccard_d'], alternative=\"two-sided\")\n",
    "    print(p)\n",
    "    annotate_pval(ax, i-0.2, i+0.2, 1.1, 0, 1.1, p, PAPER_FONTSIZE - 1)\n",
    "\n",
    "\n",
    "# manually set left axis so it stops at 1.0\n",
    "ax.set_xlim((-0.5, 2.5))\n",
    "ax.set_ylim((-0.2, 1.2))\n",
    "ax.spines['left'].set_visible(False)\n",
    "ax.set_yticks([0, 0.2, 0.4, 0.6, 0.8, 1.0])\n",
    "axes_to_data = ax.transAxes + ax.transData.inverted()\n",
    "left_spine_in_data_coords = axes_to_data.transform((0, 0))\n",
    "ax.plot([left_spine_in_data_coords[0], left_spine_in_data_coords[0]], [0, 1],\n",
    "         color=ax.spines['bottom'].get_edgecolor(), linewidth=ax.spines['bottom'].get_linewidth())\n",
    "    \n",
    "\n",
    "    \n",
    "handles, labels = ax.get_legend_handles_labels()\n",
    "plt.legend(handles=handles[0:2], labels=labels[0:2],\n",
    "           loc=2, bbox_to_anchor=(1.01, 0.9), facecolor=\"white\", markerscale=1,\n",
    "           frameon=False)\n",
    "\n",
    "fig.savefig('../../figures/fig6/isoforms_vs_paralogs_PDI_jaccard_violin.binned.pdf',\n",
    "            bbox_inches='tight')"
   ]
  },
  {
   "cell_type": "code",
   "execution_count": 20,
   "id": "e5c10121",
   "metadata": {},
   "outputs": [
    {
     "name": "stdout",
     "output_type": "stream",
     "text": [
      "36 isos, 306 pars, p=0.4764968667307439\n",
      "45 isos, 110 pars, p=0.07193002729434961\n",
      "159 isos, 8 pars, p=0.026292618352087578\n"
     ]
    },
    {
     "name": "stderr",
     "output_type": "stream",
     "text": [
      "../plotting.py:1005: MatplotlibDeprecationWarning: Saw kwargs ['lw', 'linewidth'] which are all aliases for 'linewidth'.  Kept value from 'linewidth'.  Passing multiple aliases for the same property will raise a TypeError in 3.3.\n",
      "  ax.plot([x1, x1, x2, x2], [y, y + h, y + h, y], lw=1, c=\"black\", linewidth=0.5)\n",
      "../plotting.py:1005: MatplotlibDeprecationWarning: Saw kwargs ['lw', 'linewidth'] which are all aliases for 'linewidth'.  Kept value from 'linewidth'.  Passing multiple aliases for the same property will raise a TypeError in 3.3.\n",
      "  ax.plot([x1, x1, x2, x2], [y, y + h, y + h, y], lw=1, c=\"black\", linewidth=0.5)\n",
      "../plotting.py:1005: MatplotlibDeprecationWarning: Saw kwargs ['lw', 'linewidth'] which are all aliases for 'linewidth'.  Kept value from 'linewidth'.  Passing multiple aliases for the same property will raise a TypeError in 3.3.\n",
      "  ax.plot([x1, x1, x2, x2], [y, y + h, y + h, y], lw=1, c=\"black\", linewidth=0.5)\n"
     ]
    },
    {
     "data": {
      "image/png": "[encoded data removed]",
      "text/plain": [
       "<Figure size 144x126 with 1 Axes>"
      ]
     },
     "metadata": {},
     "output_type": "display_data"
    }
   ],
   "source": [
    "fig, ax = plt.subplots(1, 1)\n",
    "fig.set_size_inches(w=2, h=1.75)\n",
    "violinplot_reflected(data=df,\n",
    "            x='aa_seq_pct_identity_bin',\n",
    "            order=['0-33%', '33-66%', '66-100%'],\n",
    "            y='activation_abs_fold_change_log2',\n",
    "            hue='category',\n",
    "            hue_order=['isoforms', 'paralogs'],\n",
    "            inner=None,\n",
    "            clip_on=False,\n",
    "            cut=0,\n",
    "            bw_const=0.5,\n",
    "            ub=999999,\n",
    "            ax=ax,\n",
    "            palette=pal\n",
    "            )\n",
    "sns.pointplot(data=df,\n",
    "            x='aa_seq_pct_identity_bin',\n",
    "            order=['0-33%', '33-66%', '66-100%'],\n",
    "            y='activation_abs_fold_change_log2',\n",
    "            hue='category',\n",
    "            hue_order=['isoforms', 'paralogs'],\n",
    "            color='black',\n",
    "            linestyles='',\n",
    "            ax=ax,\n",
    "            clip_on=False,\n",
    "            dodge=0.4,\n",
    "            )\n",
    "for loc in ['right', 'top', 'bottom']:\n",
    "    ax.spines[loc].set_visible(False)\n",
    "    \n",
    "ax.set_xlabel(\"% AA sequence identity\")\n",
    "ax.set_ylabel(\"|Activation log2FC|\")\n",
    "\n",
    "for i, x in enumerate(['0-33%', '33-66%', '66-100%']):\n",
    "    _isos = df[(df['aa_seq_pct_identity_bin'] == x) &\n",
    "               (df['category'] == 'isoforms') &\n",
    "               (~pd.isnull(df['activation_abs_fold_change_log2']))]\n",
    "    _pars = df[(df['aa_seq_pct_identity_bin'] == x) &\n",
    "               (df['category'] == 'paralogs') &\n",
    "               (~pd.isnull(df['activation_abs_fold_change_log2']))]\n",
    "    n_isos = len(_isos)\n",
    "    n_pars = len(_pars)\n",
    "    ax.text(i-0.2, 0, '\\n%s' % n_isos, color=pal['isoforms'], va='top', ha='center')\n",
    "    ax.text(i+0.2, 0, '\\n%s' % n_pars, color=pal['paralogs'], va='top', ha='center')\n",
    "    \n",
    "    u, p = stats.mannwhitneyu(_isos['activation_abs_fold_change_log2'], _pars['activation_abs_fold_change_log2'], alternative=\"two-sided\")\n",
    "    print(\"%s isos, %s pars, p=%s\" % (n_isos, n_pars, p))\n",
    "    annotate_pval(ax, i-0.2, i+0.2, 12.1, 0, 12.1, p, PAPER_FONTSIZE - 1)\n",
    "\n",
    "\n",
    "# manually set left axis so it stops at 1.0\n",
    "ax.set_xlim((-0.5, 2.5))\n",
    "ax.set_ylim((-1.75, 12.1))\n",
    "ax.spines['left'].set_visible(False)\n",
    "ax.set_yticks([0, 2, 4, 6, 8, 10, 12])\n",
    "axes_to_data = ax.transAxes + ax.transData.inverted()\n",
    "left_spine_in_data_coords = axes_to_data.transform((0, 0))\n",
    "ax.plot([left_spine_in_data_coords[0], left_spine_in_data_coords[0]], [0, 12],\n",
    "         color=ax.spines['bottom'].get_edgecolor(), linewidth=ax.spines['bottom'].get_linewidth())\n",
    "    \n",
    "\n",
    "    \n",
    "handles, labels = ax.get_legend_handles_labels()\n",
    "plt.legend(handles=handles[0:2], labels=labels[0:2],\n",
    "           loc=2, bbox_to_anchor=(1.01, 0.9), facecolor=\"white\", markerscale=1,\n",
    "           frameon=False)\n",
    "\n",
    "fig.savefig('../../figures/fig6/isoforms_vs_paralogs_activation_violin.binned.pdf',\n",
    "            bbox_inches='tight')"
   ]
  },
  {
   "cell_type": "markdown",
   "id": "4de7f8ed",
   "metadata": {},
   "source": [
    "## 4. THRA v. THRB vignette"
   ]
  },
  {
   "cell_type": "code",
   "execution_count": 21,
   "id": "1ed8ff48",
   "metadata": {},
   "outputs": [],
   "source": [
    "def pairwise_global_aa_sequence_similarity(aa_seq_a, aa_seq_b):\n",
    "    alignment = pairwise2.align.globalds(\n",
    "        aa_seq_a, aa_seq_b, blosum62, -10, -0.5, penalize_end_gaps=False\n",
    "    )\n",
    "    alignment = pairwise2.format_alignment(*alignment[0])\n",
    "    return alignment"
   ]
  },
  {
   "cell_type": "code",
   "execution_count": 22,
   "id": "a86c5adf",
   "metadata": {},
   "outputs": [
    {
     "name": "stdout",
     "output_type": "stream",
     "text": [
      "reading from cache\n"
     ]
    }
   ],
   "source": [
    "# make alignment plot for the 2 ref isos of THRA/B\n",
    "tfs = load_annotated_TFiso1_collection()\n",
    "thra_aa_seq = tfs['THRA'].reference_isoform.aa_seq\n",
    "thrb_aa_seq = tfs['THRB'].reference_isoform.aa_seq"
   ]
  },
  {
   "cell_type": "code",
   "execution_count": 23,
   "id": "b7e41cb8",
   "metadata": {},
   "outputs": [
    {
     "data": {
      "text/plain": [
       "'                                                   ....|......             .|....||.......|.    |      .|||||||||||.|||||||||||||||||||||||||||||||||||.|||||...|||||.||||||.|||||||.||||.|||||||||.|||||||.|||.||.||...|....||||.|||.||...||||..||||||||||.|||||.||||.|||..|.|.||||||||.||||||||||||||||||||||.|||||||||||||||||||||||||||||||.||||.|||||.|.|||||||||||||||.||.|||.||||||||||||||||||.||.||.||..|||.|...|||||||.|.|||...||||||||||||||||||||||||||||||||||||||||||||||   '"
      ]
     },
     "execution_count": 23,
     "metadata": {},
     "output_type": "execute_result"
    }
   ],
   "source": [
    "algn = pairwise_global_aa_sequence_similarity(thra_aa_seq, thrb_aa_seq)\n",
    "algn_str = algn.split(\"\\n\")[1]\n",
    "algn_str"
   ]
  },
  {
   "cell_type": "code",
   "execution_count": 24,
   "id": "b853a53e",
   "metadata": {},
   "outputs": [],
   "source": [
    "algn_arr = np.zeros(len(algn_str))\n",
    "for i, c in enumerate(algn_str):\n",
    "    if c == ' ':\n",
    "        algn_arr[i] = np.nan\n",
    "    elif c == '|':\n",
    "        algn_arr[i] = 1\n",
    "    else:\n",
    "        algn_arr[i] = 0.25"
   ]
  },
  {
   "cell_type": "code",
   "execution_count": 25,
   "id": "80d3e449",
   "metadata": {},
   "outputs": [
    {
     "name": "stdout",
     "output_type": "stream",
     "text": [
      "Pfam_domain: PF00105 zf-C4 51-122\n",
      "Pfam_domain: PF00104 Hormone_recep 206-391\n",
      "Pfam_domain: PF00105 zf-C4 105-176\n",
      "Pfam_domain: PF00104 Hormone_recep 265-445\n"
     ]
    },
    {
     "data": {
      "image/png": "[encoded data removed]",
      "text/plain": [
       "<Figure size 360x54 with 3 Axes>"
      ]
     },
     "metadata": {},
     "output_type": "display_data"
    }
   ],
   "source": [
    "gs_kw = dict(height_ratios=[0.25, 0.75, 0.25])\n",
    "\n",
    "fig, axs = plt.subplots(3, 1, sharex=True, gridspec_kw=gs_kw)\n",
    "fig.set_size_inches(w=5, h=0.75)\n",
    "\n",
    "## alignment plot\n",
    "ax = axs[1]\n",
    "cmap = sns.light_palette(pal[\"paralogs\"], as_cmap=True)\n",
    "sns.heatmap(pd.DataFrame(algn_arr).T, cmap=cmap, cbar=False, vmin=0, ax=ax)\n",
    "\n",
    "ax.set_xticks([])\n",
    "ax.set_yticks([])\n",
    "ax.spines['left'].set_visible(True)\n",
    "ax.spines['bottom'].set_visible(True)\n",
    "ax.spines['top'].set_visible(True)\n",
    "ax.spines['right'].set_visible(True)\n",
    "\n",
    "## THRA\n",
    "ax = axs[0]\n",
    "algn_a = algn.split(\"\\n\")[0]\n",
    "dbd_start = tfs['THRA'].reference_isoform.dna_binding_domains[0].start\n",
    "dbd_end = tfs['THRA'].reference_isoform.dna_binding_domains[0].end\n",
    "\n",
    "for i, c in enumerate(algn_a):\n",
    "    if c == '-':\n",
    "        ax.plot([i, i+1], [0.25, 0.25], '-', color='lightgrey', zorder=1)\n",
    "    else:\n",
    "        ax.plot([i, i+1], [0.25, 0.25], '|', color='darkgrey', zorder=10)\n",
    "        \n",
    "# add domains\n",
    "for d in tfs['THRA'].reference_isoform.aa_seq_features:\n",
    "    if d.accession.endswith(\"_flank_N\") or d.accession.endswith(\"_flank_C\"):\n",
    "        continue\n",
    "    if \"Effector\" in d.accession:\n",
    "        continue\n",
    "    \n",
    "    print(d)\n",
    "    aa_i = 0\n",
    "    for i, c in enumerate(algn_a):\n",
    "        if c != \"-\":\n",
    "            aa_i += 1\n",
    "            if aa_i >= d.start and aa_i < d.end:\n",
    "                ax.plot([i, i+1], [1, 1], '-', color='black')\n",
    "                \n",
    "    \n",
    "\n",
    "ax.set_ylim((0, 1.2))\n",
    "ax.set_yticks([])\n",
    "ax.spines['left'].set_visible(False)\n",
    "ax.spines['bottom'].set_visible(False)\n",
    "ax.spines['top'].set_visible(False)\n",
    "ax.spines['right'].set_visible(False)\n",
    "\n",
    "## THRB\n",
    "ax = axs[2]\n",
    "algn_a = algn.split(\"\\n\")[2]\n",
    "\n",
    "for i, c in enumerate(algn_a):\n",
    "    if c == '-':\n",
    "        ax.plot([i, i+1], [0.75, 0.75], '-', color='lightgrey', zorder=1)\n",
    "    else:\n",
    "        ax.plot([i, i+1], [0.75, 0.75], '|', color='darkgrey', zorder=10)\n",
    "        \n",
    "# add domains\n",
    "for d in tfs['THRB'].reference_isoform.aa_seq_features:\n",
    "    if d.accession.endswith(\"_flank_N\") or d.accession.endswith(\"_flank_C\"):\n",
    "        continue\n",
    "    if \"Effector\" in d.accession:\n",
    "        continue\n",
    "    \n",
    "    print(d)\n",
    "    aa_i = 0\n",
    "    for i, c in enumerate(algn_a):\n",
    "        if c != \"-\":\n",
    "            aa_i += 1\n",
    "            if aa_i >= d.start and aa_i < d.end:\n",
    "                ax.plot([i, i+1], [0, 0], '-', color='black')\n",
    "                \n",
    "ax.set_ylim((-0.2, 1))\n",
    "ax.set_yticks([])\n",
    "ax.spines['left'].set_visible(False)\n",
    "ax.spines['bottom'].set_visible(False)\n",
    "ax.spines['top'].set_visible(False)\n",
    "ax.spines['right'].set_visible(False)\n",
    "\n",
    "fig.savefig('../../figures/fig6/THRA_THRB_alignment.pdf',\n",
    "            bbox_inches='tight')"
   ]
  },
  {
   "cell_type": "code",
   "execution_count": 26,
   "id": "6a697611",
   "metadata": {},
   "outputs": [
    {
     "data": {
      "text/plain": [
       "gene_symbol_a                                                          THRA\n",
       "gene_symbol_b                                                          THRB\n",
       "is_tested_in_Y2H                                                      False\n",
       "aa_seq_pct_identity                                                 66.6667\n",
       "clone_acc_a                                                  THRA|2/3|09H09\n",
       "clone_acc_b                                                  THRB|2/2|07E08\n",
       "category                                                           paralogs\n",
       "family_a                                                   Nuclear receptor\n",
       "family_b                                                   Nuclear receptor\n",
       "is_MANE_select_isoform_cloned_a                                        True\n",
       "is_MANE_select_isoform_cloned_b                                        True\n",
       "is_MANE_select_isoform_cloned_both                                     True\n",
       "n_positive_PPI_a                                                          0\n",
       "n_positive_PPI_b                                                        NaN\n",
       "n_PPI_successfully_tested_in_a_and_b                                    NaN\n",
       "n_positive_PPI_a_filtered                                               NaN\n",
       "n_positive_PPI_b_filtered                                               NaN\n",
       "n_shared_PPI                                                            NaN\n",
       "n_PPI_diff                                                              NaN\n",
       "PPI_jaccard                                                             NaN\n",
       "n_positive_PDI_a                                                          2\n",
       "n_positive_PDI_b                                                          4\n",
       "n_PDI_successfully_tested_in_a_and_b                                      5\n",
       "n_positive_PDI_a_filtered                                                 2\n",
       "n_positive_PDI_b_filtered                                                 4\n",
       "n_shared_PDI                                                              1\n",
       "PDI_jaccard                                                             0.2\n",
       "at_least_one_isoform_in_gene_a_abs_activation_gte_2fold                True\n",
       "at_least_one_isoform_in_gene_b_abs_activation_gte_2fold                True\n",
       "activation_a                                                        3.08683\n",
       "activation_b                                                        1.36048\n",
       "activation_abs_fold_change_log2                                     1.72635\n",
       "PPI_Jaccard_d                                                           NaN\n",
       "PDI_Jaccard_d                                                           0.8\n",
       "aa_seq_pct_identity_bin                                             66-100%\n",
       "Name: 397, dtype: object"
      ]
     },
     "execution_count": 26,
     "metadata": {},
     "output_type": "execute_result"
    }
   ],
   "source": [
    "df[(df['gene_symbol_a'] == 'THRA') & (df['gene_symbol_b'] == 'THRB')].iloc[0]"
   ]
  },
  {
   "cell_type": "code",
   "execution_count": 27,
   "id": "31c3018a",
   "metadata": {},
   "outputs": [
    {
     "data": {
      "text/plain": [
       "gene_symbol_a                                                          THRA\n",
       "gene_symbol_b                                                          THRA\n",
       "is_tested_in_Y2H                                                        NaN\n",
       "aa_seq_pct_identity                                                 84.7682\n",
       "clone_acc_a                                                  THRA|2/3|09H09\n",
       "clone_acc_b                                                  THRA|1/3|09H07\n",
       "category                                                           isoforms\n",
       "family_a                                                   Nuclear receptor\n",
       "family_b                                                   Nuclear receptor\n",
       "is_MANE_select_isoform_cloned_a                                        True\n",
       "is_MANE_select_isoform_cloned_b                                        True\n",
       "is_MANE_select_isoform_cloned_both                                     True\n",
       "n_positive_PPI_a                                                          0\n",
       "n_positive_PPI_b                                                          0\n",
       "n_PPI_successfully_tested_in_a_and_b                                    NaN\n",
       "n_positive_PPI_a_filtered                                               NaN\n",
       "n_positive_PPI_b_filtered                                               NaN\n",
       "n_shared_PPI                                                            NaN\n",
       "n_PPI_diff                                                              NaN\n",
       "PPI_jaccard                                                             NaN\n",
       "n_positive_PDI_a                                                          2\n",
       "n_positive_PDI_b                                                          1\n",
       "n_PDI_successfully_tested_in_a_and_b                                      2\n",
       "n_positive_PDI_a_filtered                                                 2\n",
       "n_positive_PDI_b_filtered                                                 1\n",
       "n_shared_PDI                                                              1\n",
       "PDI_jaccard                                                             0.5\n",
       "at_least_one_isoform_in_gene_a_abs_activation_gte_2fold                True\n",
       "at_least_one_isoform_in_gene_b_abs_activation_gte_2fold                True\n",
       "activation_a                                                        3.08683\n",
       "activation_b                                                         1.3595\n",
       "activation_abs_fold_change_log2                                     1.72733\n",
       "PPI_Jaccard_d                                                           NaN\n",
       "PDI_Jaccard_d                                                           0.5\n",
       "aa_seq_pct_identity_bin                                             66-100%\n",
       "Name: 2026, dtype: object"
      ]
     },
     "execution_count": 27,
     "metadata": {},
     "output_type": "execute_result"
    }
   ],
   "source": [
    "df[(df['gene_symbol_a'] == 'THRA') & (df['gene_symbol_b'] == 'THRA')].iloc[0]"
   ]
  },
  {
   "cell_type": "code",
   "execution_count": 28,
   "id": "be6d03d8",
   "metadata": {},
   "outputs": [
    {
     "data": {
      "text/plain": [
       "gene_symbol_a                                                          THRB\n",
       "gene_symbol_b                                                          THRB\n",
       "is_tested_in_Y2H                                                        NaN\n",
       "aa_seq_pct_identity                                                 77.2819\n",
       "clone_acc_a                                                  THRB|2/2|07E08\n",
       "clone_acc_b                                                  THRB|1/2|07E05\n",
       "category                                                           isoforms\n",
       "family_a                                                   Nuclear receptor\n",
       "family_b                                                   Nuclear receptor\n",
       "is_MANE_select_isoform_cloned_a                                        True\n",
       "is_MANE_select_isoform_cloned_b                                        True\n",
       "is_MANE_select_isoform_cloned_both                                     True\n",
       "n_positive_PPI_a                                                        NaN\n",
       "n_positive_PPI_b                                                        NaN\n",
       "n_PPI_successfully_tested_in_a_and_b                                    NaN\n",
       "n_positive_PPI_a_filtered                                               NaN\n",
       "n_positive_PPI_b_filtered                                               NaN\n",
       "n_shared_PPI                                                            NaN\n",
       "n_PPI_diff                                                              NaN\n",
       "PPI_jaccard                                                             NaN\n",
       "n_positive_PDI_a                                                          4\n",
       "n_positive_PDI_b                                                          5\n",
       "n_PDI_successfully_tested_in_a_and_b                                      5\n",
       "n_positive_PDI_a_filtered                                                 4\n",
       "n_positive_PDI_b_filtered                                                 5\n",
       "n_shared_PDI                                                              4\n",
       "PDI_jaccard                                                             0.8\n",
       "at_least_one_isoform_in_gene_a_abs_activation_gte_2fold                True\n",
       "at_least_one_isoform_in_gene_b_abs_activation_gte_2fold                True\n",
       "activation_a                                                        1.36048\n",
       "activation_b                                                        2.36888\n",
       "activation_abs_fold_change_log2                                      1.0084\n",
       "PPI_Jaccard_d                                                           NaN\n",
       "PDI_Jaccard_d                                                           0.2\n",
       "aa_seq_pct_identity_bin                                             66-100%\n",
       "Name: 1776, dtype: object"
      ]
     },
     "execution_count": 28,
     "metadata": {},
     "output_type": "execute_result"
    }
   ],
   "source": [
    "df[(df['gene_symbol_a'] == 'THRB') & (df['gene_symbol_b'] == 'THRB')].iloc[0]"
   ]
  },
  {
   "cell_type": "code",
   "execution_count": 29,
   "id": "ea9b17aa",
   "metadata": {},
   "outputs": [
    {
     "data": {
      "image/png": "[encoded data removed]",
      "text/plain": [
       "<Figure size 216x72 with 1 Axes>"
      ]
     },
     "metadata": {},
     "output_type": "display_data"
    }
   ],
   "source": [
    "fig, ax = plt.subplots(figsize=(3, 1))\n",
    "\n",
    "tfs[\"THRA\"].exon_diagram(ax=ax)\n",
    "fig.savefig(\"../../figures/fig6/{}_exon_diagram.pdf\".format(\"THRA\"), bbox_inches=\"tight\", dpi=\"figure\")"
   ]
  },
  {
   "cell_type": "code",
   "execution_count": 30,
   "id": "7f6f93ec",
   "metadata": {},
   "outputs": [
    {
     "data": {
      "image/png": "[encoded data removed]",
      "text/plain": [
       "<Figure size 360x50.4 with 2 Axes>"
      ]
     },
     "metadata": {},
     "output_type": "display_data"
    }
   ],
   "source": [
    "fig, ax = plt.subplots(figsize=(5, 0.7))\n",
    "\n",
    "tfs[\"THRA\"].protein_diagram(only_cloned_isoforms=True, draw_legend=False, ax=ax)\n",
    "fig.savefig(\"../../figures/fig6/{}_protein_diagram.pdf\".format(\"THRA\"), bbox_inches=\"tight\", dpi=\"figure\")"
   ]
  },
  {
   "cell_type": "code",
   "execution_count": 31,
   "id": "34755989",
   "metadata": {},
   "outputs": [
    {
     "data": {
      "image/png": "[encoded data removed]",
      "text/plain": [
       "<Figure size 216x50.4 with 1 Axes>"
      ]
     },
     "metadata": {},
     "output_type": "display_data"
    }
   ],
   "source": [
    "fig, ax = plt.subplots(figsize=(3, 0.7))\n",
    "\n",
    "tfs[\"THRB\"].exon_diagram(ax=ax)\n",
    "fig.savefig(\"../../figures/fig6/{}_exon_diagram.pdf\".format(\"THRB\"), bbox_inches=\"tight\", dpi=\"figure\")"
   ]
  },
  {
   "cell_type": "code",
   "execution_count": 32,
   "id": "55bfc038",
   "metadata": {},
   "outputs": [
    {
     "data": {
      "image/png": "[encoded data removed]",
      "text/plain": [
       "<Figure size 360x50.4 with 2 Axes>"
      ]
     },
     "metadata": {},
     "output_type": "display_data"
    }
   ],
   "source": [
    "fig, ax = plt.subplots(figsize=(5, 0.7))\n",
    "\n",
    "tfs[\"THRB\"].protein_diagram(only_cloned_isoforms=True, draw_legend=False, ax=ax)\n",
    "fig.savefig(\"../../figures/fig6/{}_protein_diagram.pdf\".format(\"THRB\"), bbox_inches=\"tight\", dpi=\"figure\")"
   ]
  },
  {
   "cell_type": "code",
   "execution_count": 33,
   "id": "8694d748",
   "metadata": {},
   "outputs": [
    {
     "data": {
      "text/plain": [
       "[Pfam_domain: PF00105 zf-C4 105-176,\n",
       " Pfam_domain: PF00104 Hormone_recep 265-445,\n",
       " DBD_flank: PF00105_flank_N N_DBD_flank 90-104,\n",
       " DBD_flank: PF00105_flank_C C_DBD_flank 177-191,\n",
       " effector_domain: Soto_Effector 0775 AD 1-94,\n",
       " effector_domain: Soto_Effector 0776 AD 453-461]"
      ]
     },
     "execution_count": 33,
     "metadata": {},
     "output_type": "execute_result"
    }
   ],
   "source": [
    "tfs['THRB'].reference_isoform.aa_seq_features"
   ]
  },
  {
   "cell_type": "code",
   "execution_count": 34,
   "id": "aca3bd4f",
   "metadata": {},
   "outputs": [
    {
     "data": {
      "text/plain": [
       "[Pfam_domain: PF00105 zf-C4 120-191,\n",
       " Pfam_domain: PF00104 Hormone_recep 280-460,\n",
       " DBD_flank: PF00105_flank_N N_DBD_flank 105-119,\n",
       " DBD_flank: PF00105_flank_C C_DBD_flank 192-206,\n",
       " effector_domain: Soto_Effector 0776 AD 468-476,\n",
       " effector_domain: DelRosso_AD_THRB_1 AD 12-91,\n",
       " effector_domain: DelRosso_RD_THRB_1 RD 2-101]"
      ]
     },
     "execution_count": 34,
     "metadata": {},
     "output_type": "execute_result"
    }
   ],
   "source": [
    "tfs['THRB'].alternative_isoforms[0].aa_seq_features"
   ]
  },
  {
   "cell_type": "code",
   "execution_count": 35,
   "id": "85a2da9a",
   "metadata": {},
   "outputs": [
    {
     "data": {
      "image/png": "[encoded data removed]",
      "text/plain": [
       "<Figure size 108x86.4 with 1 Axes>"
      ]
     },
     "metadata": {},
     "output_type": "display_data"
    }
   ],
   "source": [
    "y1h = load_y1h_pdi_data()\n",
    "\n",
    "fig, ax = plt.subplots(1, 1)\n",
    "fig.set_size_inches(h=1.2, w=1.5)\n",
    "gene_name_a = 'THRA'\n",
    "gene_name_b = 'THRB'\n",
    "y1h_pdi_per_paralog_pair_plot(\n",
    "    gene_name_a=gene_name_a,\n",
    "    gene_name_b=gene_name_b,\n",
    "    data=y1h,\n",
    "    ax=ax,\n",
    "    iso_order=([iso.name for iso in tfs[gene_name_a].cloned_isoforms] \n",
    "                + [iso.name for iso in tfs[gene_name_b].cloned_isoforms])\n",
    ")\n",
    "fig.savefig('../../figures/fig6/THRA-vs_THRB_Y1H_matrix.pdf',\n",
    "            bbox_inches='tight')"
   ]
  },
  {
   "cell_type": "code",
   "execution_count": 36,
   "id": "149bae6d",
   "metadata": {},
   "outputs": [
    {
     "data": {
      "image/png": "[encoded data removed]",
      "text/plain": [
       "<Figure size 108x86.4 with 1 Axes>"
      ]
     },
     "metadata": {},
     "output_type": "display_data"
    }
   ],
   "source": [
    "m1h = load_m1h_activation_data(add_missing_data=True)\n",
    "\n",
    "fig, ax = plt.subplots(1, 1)\n",
    "fig.set_size_inches(h=1.2, w=1.5)\n",
    "gene_name_a = 'THRA'\n",
    "gene_name_b = 'THRB'\n",
    "m1h_activation_per_paralog_pair_plot(\n",
    "    gene_name_a=gene_name_a,\n",
    "    gene_name_b=gene_name_b,\n",
    "    data=m1h,\n",
    "    ax=ax,\n",
    "    xlim=(0, 4),\n",
    "    iso_order=([iso.name for iso in tfs[gene_name_a].cloned_isoforms] \n",
    "                + [iso.name for iso in tfs[gene_name_b].cloned_isoforms])\n",
    ")\n",
    "fig.savefig('../../figures/fig6/THRA-vs_THRB_m1h_l2fc.pdf',\n",
    "            bbox_inches='tight')"
   ]
  },
  {
   "cell_type": "markdown",
   "id": "88d382bb",
   "metadata": {},
   "source": [
    "## 5. examine expression profiles of isos vs. paralogs"
   ]
  },
  {
   "cell_type": "code",
   "execution_count": 37,
   "id": "e895d05c",
   "metadata": {},
   "outputs": [
    {
     "name": "stdout",
     "output_type": "stream",
     "text": [
      "reading from cache\n"
     ]
    }
   ],
   "source": [
    "df_gtex, metadata_gtex, genes_gtex = load_gtex_remapped()\n",
    "\n",
    "exclusion_list_gtex = {'Cells - Leukemia cell line (CML)',\n",
    "                       'Cells - EBV-transformed lymphocytes',\n",
    "                       'Cells - Cultured fibroblasts'}\n",
    "\n",
    "df_gtex = df_gtex.loc[:, ~df_gtex.columns.map(metadata_gtex['body_site']).isin(exclusion_list_gtex)]\n",
    "metadata_gtex = metadata_gtex.loc[~metadata_gtex['body_site'].isin(exclusion_list_gtex), :]\n",
    "\n",
    "means_gtex = df_gtex.groupby(df_gtex.columns.map(metadata_gtex['body_site']), axis=1).mean()"
   ]
  },
  {
   "cell_type": "code",
   "execution_count": 38,
   "id": "b8cf109c",
   "metadata": {},
   "outputs": [],
   "source": [
    "metadata_gtex_dummy = pd.read_table(\"../../data/processed/metadata_gtex_dummy.csv\", sep=\",\", index_col=0)"
   ]
  },
  {
   "cell_type": "code",
   "execution_count": 39,
   "id": "c05a04e8",
   "metadata": {},
   "outputs": [],
   "source": [
    "# use same downsample as prev figs\n",
    "means_gtex_downsample = df_gtex.groupby(df_gtex.columns.map(metadata_gtex_dummy['body_site']), axis=1).mean()"
   ]
  },
  {
   "cell_type": "code",
   "execution_count": 40,
   "id": "01236fce",
   "metadata": {},
   "outputs": [
    {
     "name": "stdout",
     "output_type": "stream",
     "text": [
      "reading from cache\n"
     ]
    }
   ],
   "source": [
    "df_dev, metadata_dev, genes_dev = load_developmental_tissue_expression_remapped()\n",
    "\n",
    "rename_dev_stage = {'8 week post conception,embryo': '08',\n",
    "'11 week post conception,late embryo': '11',\n",
    "'embryo,7 week post conception': '07',\n",
    "'infant': 'infant',\n",
    "'10 week post conception,late embryo': '10',\n",
    "'young adult': 'young adult',\n",
    "'13 week post conception,late embryo': '13',\n",
    "'16 week post conception,late embryo': '16',\n",
    "'4 week post conception,embryo': '04',\n",
    "'neonate': 'neonate',\n",
    "'19 week post conception,late embryo': '19',\n",
    "'9 week post conception,late embryo': '09',\n",
    "'adolescent': 'adolescent',\n",
    "'5 week post conception,embryo': '05',\n",
    "'embryo,6 week post conception': '06',\n",
    "'12 week post conception,late embryo': '12',\n",
    "'18 week post conception,late embryo': '18',\n",
    "'toddler': 'toddler',\n",
    "'elderly': 'elderly',\n",
    "'middle adult': 'adult',\n",
    "'school age child': 'child'}\n",
    "\n",
    "metadata_dev['dev_stage'] = metadata_dev['Developmental_Stage'].map(rename_dev_stage)\n",
    "means_dev = (df_dev.groupby(df_dev.columns.map(metadata_dev['organism_part'] + ' ' + metadata_dev['dev_stage']), axis=1)\n",
    "           .mean())"
   ]
  },
  {
   "cell_type": "code",
   "execution_count": 41,
   "id": "5c764057",
   "metadata": {},
   "outputs": [],
   "source": [
    "# calculate expression ratios - dev\n",
    "per_gene_dev = ((2 ** df_dev - 1)\n",
    "                .groupby(genes_dev)\n",
    "                .transform('sum'))\n",
    "f_dev = (((2 ** df_dev - 1) / per_gene_dev)\n",
    "        .groupby(df_dev.columns.map(metadata_dev['organism_part'] + ' ' + metadata_dev['dev_stage']),\n",
    "         axis=1)\n",
    "        .mean())\n",
    "f_dev = f_dev * ((per_gene_dev.groupby(df_dev.columns.map(metadata_dev['organism_part'] + ' ' + metadata_dev['dev_stage']),\n",
    "                                             axis=1)\n",
    "                                             .mean() >= 1)\n",
    "                                         .applymap(lambda x: {False: np.nan, True: 1}[x]))  # only count fractions if gene TPM is >= 1\n",
    "\n",
    "f_dev = f_dev * 100"
   ]
  },
  {
   "cell_type": "code",
   "execution_count": 42,
   "id": "1af7912e",
   "metadata": {},
   "outputs": [],
   "source": [
    "# calculate expression ratios - gtex\n",
    "per_gene_gtex = ((2 ** df_gtex - 1)\n",
    "                .groupby(genes_gtex)\n",
    "                .transform('sum'))\n",
    "f_gtex = (((2 ** df_gtex - 1) / per_gene_gtex)\n",
    "        .groupby(df_gtex.columns.map(metadata_gtex['body_site']), axis=1)\n",
    "        .mean())\n",
    "f_gtex = f_gtex * (per_gene_gtex.groupby(df_gtex.columns.map(metadata_gtex['body_site']), axis=1).mean() >= 1).applymap(lambda x: {False: np.nan, True: 1}[x])  # only count fractions if gene TPM is >= 1\n",
    "\n",
    "f_gtex = f_gtex * 100"
   ]
  },
  {
   "cell_type": "code",
   "execution_count": 43,
   "id": "42a85332",
   "metadata": {},
   "outputs": [],
   "source": [
    "# calculate expression ratios -gtex downsampled\n",
    "per_gene_gtex_ds = ((2 ** df_gtex.loc[:,metadata_gtex_dummy.index] - 1)\n",
    "                   .groupby(genes_gtex)\n",
    "                   .transform('sum'))\n",
    "\n",
    "f_gtex_downsample = (((2 ** df_gtex - 1) / per_gene_gtex)\n",
    "        .groupby(df_gtex.columns.map(metadata_gtex_dummy['body_site']), axis=1)\n",
    "        .mean())\n",
    "f_gtex_downsample = f_gtex_downsample * (per_gene_gtex.groupby(df_gtex.columns.map(metadata_gtex_dummy['body_site']), axis=1).mean() >= 1).applymap(lambda x: {False: np.nan, True: 1}[x])  # only count fractions if gene TPM is >= 1\n",
    "\n",
    "f_gtex_downsample = f_gtex_downsample * 100"
   ]
  },
  {
   "cell_type": "code",
   "execution_count": 44,
   "id": "40272230",
   "metadata": {},
   "outputs": [],
   "source": [
    "if not (genes_gtex == genes_dev).all():\n",
    "        raise UserWarning()\n",
    "genes = genes_gtex"
   ]
  },
  {
   "cell_type": "code",
   "execution_count": 45,
   "id": "0a915010",
   "metadata": {},
   "outputs": [],
   "source": [
    "def developmental_tissue_expression_plot(gene_name, palette_name, figsize, ylim, means, cols, fig_suffix):\n",
    "    n_isos = len(means.loc[genes == gene_name])\n",
    "    palette = sns.color_palette(palette_name, as_cmap=False, n_colors=n_isos)\n",
    "    fig, axes = plt.subplots(2, 1, sharex=True)\n",
    "    fig.set_size_inches(figsize)\n",
    "    ### bar chart ###\n",
    "    (means.loc[genes == gene_name, cols]\n",
    "          .T\n",
    "          .plot.bar(ax=axes[0],\n",
    "                    legend=False,\n",
    "                    width=0.7,\n",
    "                    color=list(palette)))\n",
    "    ### percentages ###\n",
    "    raw_means = 2 ** means.loc[genes == gene_name, cols] - 1.\n",
    "    (raw_means.div(raw_means.sum(axis=0))\n",
    "              .T.plot.bar(ax=axes[1], \n",
    "                          stacked=True,\n",
    "                          legend=False,\n",
    "                          color=list(palette)))\n",
    "    axes[0].set_ylabel('log2(tpm + 1)\\n')\n",
    "    axes[0].set_ylim(ylim)\n",
    "    axes[1].set_ylabel('percent')\n",
    "    axes[1].set_yticklabels(['{:.0%}'.format(t) for t in axes[1].get_yticks()])\n",
    "    axes[1].legend(loc='lower left', bbox_to_anchor=(1, 0), frameon=False)\n",
    "    axes[0].axhline(y=1, color='black', linewidth=0.5, linestyle=\"dashed\")\n",
    "    \n",
    "    for spine in ['right', 'top']:\n",
    "        axes[0].spines[spine].set_visible(False)\n",
    "        axes[1].spines[spine].set_visible(False)\n",
    "    \n",
    "    plt.subplots_adjust(hspace=0.25)\n",
    "    plt.savefig('../../figures/fig6/expression_' + gene_name + '_' + fig_suffix + '.pdf',\n",
    "                bbox_inches='tight')"
   ]
  },
  {
   "cell_type": "code",
   "execution_count": 46,
   "id": "b58e0394",
   "metadata": {},
   "outputs": [
    {
     "data": {
      "image/png": "[encoded data removed]",
      "text/plain": [
       "<Figure size 360x126 with 2 Axes>"
      ]
     },
     "metadata": {},
     "output_type": "display_data"
    }
   ],
   "source": [
    "brain_cols = [x for x in means_dev.columns if \"brain\" in x]\n",
    "liver_cols = [x for x in means_dev.columns if \"liver\" in x]\n",
    "developmental_tissue_expression_plot(\"THRA\", \"Spectral\", (5, 1.75), (0, 10), means_dev, brain_cols + liver_cols, \n",
    "                                     \"means_dev_brain_liver\")"
   ]
  },
  {
   "cell_type": "code",
   "execution_count": 47,
   "id": "3cf0a549",
   "metadata": {},
   "outputs": [
    {
     "data": {
      "image/png": "[encoded data removed]",
      "text/plain": [
       "<Figure size 360x126 with 2 Axes>"
      ]
     },
     "metadata": {},
     "output_type": "display_data"
    }
   ],
   "source": [
    "brain_cols = [x for x in means_dev.columns if \"brain\" in x]\n",
    "liver_cols = [x for x in means_dev.columns if \"liver\" in x]\n",
    "developmental_tissue_expression_plot(\"THRB\", \"Spectral\", (5, 1.75), (0, 10), means_dev, brain_cols + liver_cols, \n",
    "                                     \"means_dev_brain_liver\")"
   ]
  },
  {
   "cell_type": "markdown",
   "id": "d041ed71",
   "metadata": {},
   "source": [
    "## 6. examine ZF arrays in isoforms"
   ]
  },
  {
   "cell_type": "code",
   "execution_count": 48,
   "id": "5a767916",
   "metadata": {},
   "outputs": [
    {
     "name": "stdout",
     "output_type": "stream",
     "text": [
      "reading from cache\n"
     ]
    }
   ],
   "source": [
    "tfs = load_annotated_TFiso1_collection()\n",
    "zfs = {name: gene for name, gene in tfs.items() if gene.tf_family == 'C2H2 ZF'}"
   ]
  },
  {
   "cell_type": "code",
   "execution_count": 49,
   "id": "c31e3d21",
   "metadata": {},
   "outputs": [
    {
     "name": "stdout",
     "output_type": "stream",
     "text": [
      "101 ZF genes with at least one cloned isoform\n",
      "101 ZF genes with at least two cloned isoforms\n"
     ]
    }
   ],
   "source": [
    "print(len(zfs), 'ZF genes with at least one cloned isoform')\n",
    "print(sum(len(zf.cloned_isoforms) >= 2 for zf in zfs.values()), 'ZF genes with at least two cloned isoforms')"
   ]
  },
  {
   "cell_type": "code",
   "execution_count": 50,
   "id": "6e84d5a9",
   "metadata": {},
   "outputs": [
    {
     "name": "stdout",
     "output_type": "stream",
     "text": [
      "46 KRAB domain containing\n",
      "16 SCAN domain containing\n",
      "8 BTB domain containing\n",
      "8 KRAB & SCAN domain containing\n",
      "0 KRAB & SCAN & BTB domain containing\n",
      "0 SCAN & BTB domain containing\n",
      "0 KRAB & BTB domain containing\n"
     ]
    }
   ],
   "source": [
    "def has_KRAB(gene):\n",
    "    return any(d.name == 'KRAB' for d in gene.reference_isoform.aa_seq_features)\n",
    "\n",
    "def has_SCAN(gene):\n",
    "    return any(d.name == 'SCAN' for d in gene.reference_isoform.aa_seq_features)\n",
    "\n",
    "def has_BTB(gene):\n",
    "    return any(d.name == 'BTB' for d in gene.reference_isoform.aa_seq_features)\n",
    "\n",
    "\n",
    "print(sum(has_KRAB(zf) for zf in zfs.values()), 'KRAB domain containing')\n",
    "print(sum(has_SCAN(zf) for zf in zfs.values()), 'SCAN domain containing')\n",
    "print(sum(has_BTB(zf) for zf in zfs.values()), 'BTB domain containing')\n",
    "print(sum(has_KRAB(zf) and has_SCAN(zf) for zf in zfs.values()), 'KRAB & SCAN domain containing')\n",
    "print(sum(has_KRAB(zf) and has_SCAN(zf) and has_BTB(zf) for zf in zfs.values()), 'KRAB & SCAN & BTB domain containing')\n",
    "print(sum(has_SCAN(zf) and has_BTB(zf) for zf in zfs.values()), 'SCAN & BTB domain containing')\n",
    "print(sum(has_KRAB(zf) and has_BTB(zf) for zf in zfs.values()), 'KRAB & BTB domain containing')"
   ]
  },
  {
   "cell_type": "code",
   "execution_count": 51,
   "id": "06daf095",
   "metadata": {},
   "outputs": [],
   "source": [
    "pfam_to_clan = load_pfam_clans()\n",
    "clan_to_pfam = {clan: {p for p, c in pfam_to_clan.items() if c == clan} for clan in set(pfam_to_clan.values())}"
   ]
  },
  {
   "cell_type": "code",
   "execution_count": 52,
   "id": "e905c01d",
   "metadata": {},
   "outputs": [],
   "source": [
    "df = pd.DataFrame(data=[(zf.name, \n",
    "                    zf.cloned_reference_isoform.name,\n",
    "                    iso.name,\n",
    "                    len([iso for iso in zf.isoforms if not (hasattr(iso, 'is_novel_isoform') and  iso.is_novel_isoform())]),\n",
    "                    len(zf.cloned_isoforms),\n",
    "                    len([iso for iso in zf.cloned_isoforms if iso.is_novel_isoform()]),\n",
    "                    zf.cloned_MANE_select_isoform,\n",
    "                    has_KRAB(zf),\n",
    "                    has_SCAN(zf),\n",
    "                    has_BTB(zf)\n",
    "                    ) \n",
    "                    for zf in zfs.values()\n",
    "                    for iso in zf.cloned_isoforms\n",
    "                    if iso != zf.cloned_reference_isoform],\n",
    "             columns=['gene_symbol',\n",
    "                     'ref_iso',\n",
    "                     'alt_iso',\n",
    "                     'n_gencode_iso',\n",
    "                     'n_cloned_iso',\n",
    "                     'n_novel_iso',\n",
    "                     'cloned_ref_is_MANE',\n",
    "                     'is_KRAB',\n",
    "                     'is_SCAN',\n",
    "                     'is_BTB'])\n",
    "df['cat'] = np.nan\n",
    "df.loc[df['is_KRAB'] & ~df['is_SCAN'], 'cat'] = 'KRAB'\n",
    "df.loc[~df['is_KRAB'] & df['is_SCAN'], 'cat'] = 'SCAN'\n",
    "df.loc[df['is_KRAB'] & df['is_SCAN'], 'cat'] = 'KRAB+SCAN'\n",
    "df.loc[df['is_BTB'], 'cat'] = 'BTB'\n",
    "df.loc[~df['is_KRAB'] & ~df['is_SCAN'] & ~df['is_BTB'], 'cat'] = 'other ZF'\n",
    "\n",
    "def count_c2h2_zf_in_iso(iso_name):\n",
    "    C2H2_ZF_PFAM_CLAN_ID = 'CL0361'\n",
    "    c2h2_zf_pfam_accessions = clan_to_pfam[C2H2_ZF_PFAM_CLAN_ID]\n",
    "    doubles = {'PF12756',  # C2H2 type zinc-finger (2 copies)\n",
    "               'PF13465',  # Zinc-finger double domain\n",
    "    }\n",
    "    count = 0\n",
    "    for dom in zfs[iso_name.split('-')[0]][iso_name].aa_seq_features:\n",
    "        if dom.category == 'ZF_array':\n",
    "            count += int(dom.name.split('_')[-1])\n",
    "        elif dom.category == 'Pfam_domain':\n",
    "            # todo double count for double ZF\n",
    "            if dom.accession in c2h2_zf_pfam_accessions:\n",
    "                if dom.accession in doubles:\n",
    "                    count += 2\n",
    "                else:\n",
    "                    count += 1\n",
    "    return count\n",
    "\n",
    "df['n_ZF_ref'] = df['ref_iso'].apply(count_c2h2_zf_in_iso)\n",
    "df['n_ZF_alt'] = df['alt_iso'].apply(count_c2h2_zf_in_iso)"
   ]
  },
  {
   "cell_type": "code",
   "execution_count": 53,
   "id": "a1a45835",
   "metadata": {},
   "outputs": [],
   "source": [
    "n_zf_max = df['n_ZF_ref'].max()"
   ]
  },
  {
   "cell_type": "code",
   "execution_count": 54,
   "id": "6bc22c94",
   "metadata": {},
   "outputs": [
    {
     "data": {
      "image/png": "[encoded data removed]",
      "text/plain": [
       "<Figure size 144x144 with 1 Axes>"
      ]
     },
     "metadata": {},
     "output_type": "display_data"
    }
   ],
   "source": [
    "fig, ax = plt.subplots(1, 1)\n",
    "fig.set_size_inches(2, 2)\n",
    "scaling = 4\n",
    "\n",
    "to_plot = ((df.loc[(df['cloned_ref_is_MANE'] == True) | df['cloned_ref_is_MANE'].isnull()]\n",
    ".groupby(['n_ZF_ref', 'n_ZF_alt'])\n",
    ".size()\n",
    "* scaling)\n",
    ".rename('count')\n",
    ".reset_index())\n",
    "\n",
    "ax.plot([0, n_zf_max], [0, n_zf_max], linestyle=\"dashed\", linewidth=0.5, color=\"lightgrey\", zorder=1) \n",
    "sc = ax.scatter(x=to_plot['n_ZF_ref'], y=to_plot['n_ZF_alt'], s=to_plot['count'], zorder=10)\n",
    "\n",
    "\n",
    "ax.set_xticks(range(0, n_zf_max + 1, 2))\n",
    "ax.set_yticks(range(0, n_zf_max + 1, 2))\n",
    "ax.set_xticks(range(0, n_zf_max + 1), minor=True)\n",
    "ax.set_yticks(range(0, n_zf_max + 1), minor=True)\n",
    "ax.set_title(\"TFIso1.0:\\nNumber of C2H2 Zinc Fingers\")\n",
    "ax.set_xlabel('in reference isoform')\n",
    "ax.set_ylabel('in alternative isoform')\n",
    "\n",
    "for loc in ['top', 'right']:\n",
    "    ax.spines[loc].set_visible(False)\n",
    "    \n",
    "# add legend\n",
    "handles, labels = sc.legend_elements(prop='sizes', num=4)\n",
    "for handle in handles:\n",
    "    handle.set_color(sns.color_palette()[0])\n",
    "    \n",
    "new_labels = [int(int(''.join(i for i in x if i.isdigit()))/scaling) for x in labels]\n",
    "legend = ax.legend(handles, new_labels, loc=2, title=\"# isoforms\", bbox_to_anchor=(1.01, 1),\n",
    "                   frameon=False, title_fontsize=PAPER_FONTSIZE)\n",
    "        \n",
    "fig.savefig('../../figures/fig6/n-ZF_ref-vs-alt_scatter.pdf',\n",
    "            bbox_inches='tight')"
   ]
  },
  {
   "cell_type": "code",
   "execution_count": 55,
   "id": "ff54a907",
   "metadata": {},
   "outputs": [
    {
     "name": "stdout",
     "output_type": "stream",
     "text": [
      "reading from cache\n"
     ]
    }
   ],
   "source": [
    "tfs_all = load_annotated_gencode_tfs()\n",
    "zfs_all = {name: gene for name, gene in tfs_all.items() if gene.tf_family == 'C2H2 ZF'}\n",
    "df_all = pd.DataFrame(data=[(zf.name, \n",
    "                    zf.reference_isoform.name,\n",
    "                    iso.name,\n",
    "                    len([iso for iso in zf.isoforms if not (hasattr(iso, 'is_novel_isoform') and  iso.is_novel_isoform())]),\n",
    "                    has_KRAB(zf),\n",
    "                    has_SCAN(zf),\n",
    "                    has_BTB(zf)\n",
    "                    ) \n",
    "                    for zf in zfs_all.values()\n",
    "                    for iso in zf.isoforms],\n",
    "             columns=['gene_symbol',\n",
    "                     'ref_iso',\n",
    "                     'alt_iso',\n",
    "                     'n_gencode_iso',\n",
    "                     'is_KRAB',\n",
    "                     'is_SCAN',\n",
    "                     'is_BTB'])\n",
    "df_all['cat'] = np.nan\n",
    "df_all.loc[df_all['is_KRAB'] & ~df_all['is_SCAN'], 'cat'] = 'KRAB'\n",
    "df_all.loc[~df_all['is_KRAB'] & df_all['is_SCAN'], 'cat'] = 'SCAN'\n",
    "df_all.loc[df_all['is_KRAB'] & df_all['is_SCAN'], 'cat'] = 'KRAB+SCAN'\n",
    "df_all.loc[df_all['is_BTB'], 'cat'] = 'BTB'\n",
    "df_all.loc[~df_all['is_KRAB'] & ~df_all['is_SCAN'] & ~df_all['is_BTB'], 'cat'] = 'other ZF'"
   ]
  },
  {
   "cell_type": "code",
   "execution_count": 56,
   "id": "8dda3a33",
   "metadata": {},
   "outputs": [],
   "source": [
    "def count_c2h2_zf_in_iso(row, iso_col):\n",
    "    iso_name = row[iso_col]\n",
    "    gene_name = row['gene_symbol']\n",
    "    C2H2_ZF_PFAM_CLAN_ID = 'CL0361'\n",
    "    c2h2_zf_pfam_accessions = clan_to_pfam[C2H2_ZF_PFAM_CLAN_ID]\n",
    "    doubles = {'PF12756',  # C2H2 type zinc-finger (2 copies)\n",
    "               'PF13465',  # Zinc-finger double domain\n",
    "    }\n",
    "    count = 0\n",
    "    for dom in zfs_all[gene_name][iso_name].aa_seq_features:\n",
    "        if dom.category == 'ZF_array':\n",
    "            count += int(dom.name.split('_')[-1])\n",
    "        elif dom.category == 'Pfam_domain':\n",
    "            # todo double count for double ZF\n",
    "            if dom.accession in c2h2_zf_pfam_accessions:\n",
    "                if dom.accession in doubles:\n",
    "                    count += 2\n",
    "                else:\n",
    "                    count += 1\n",
    "    return count"
   ]
  },
  {
   "cell_type": "code",
   "execution_count": 57,
   "id": "4ee568d6",
   "metadata": {},
   "outputs": [],
   "source": [
    "df_all['n_ZF_ref'] = df_all.apply(count_c2h2_zf_in_iso, iso_col='ref_iso', axis=1)\n",
    "df_all['n_ZF_alt'] = df_all.apply(count_c2h2_zf_in_iso, iso_col='alt_iso', axis=1)"
   ]
  },
  {
   "cell_type": "code",
   "execution_count": 58,
   "id": "6d1d5729",
   "metadata": {},
   "outputs": [],
   "source": [
    "n_zf_max_all = df_all['n_ZF_ref'].max()"
   ]
  },
  {
   "cell_type": "code",
   "execution_count": 59,
   "id": "fd71e994",
   "metadata": {},
   "outputs": [
    {
     "data": {
      "image/png": "[encoded data removed]",
      "text/plain": [
       "<Figure size 144x144 with 1 Axes>"
      ]
     },
     "metadata": {},
     "output_type": "display_data"
    }
   ],
   "source": [
    "fig, ax = plt.subplots(1, 1)\n",
    "fig.set_size_inches(2, 2)\n",
    "scaling = 0.5\n",
    "\n",
    "to_plot = ((df_all\n",
    ".groupby(['n_ZF_ref', 'n_ZF_alt'])\n",
    ".size())\n",
    ".rename('count')\n",
    ".reset_index())\n",
    "to_plot['scale'] = to_plot['count'] * scaling\n",
    "\n",
    "ax.plot([0, n_zf_max_all], [0, n_zf_max_all], linestyle=\"dashed\", linewidth=0.5, color=\"lightgrey\", zorder=1) \n",
    "sc = ax.scatter(x=to_plot['n_ZF_ref'], y=to_plot['n_ZF_alt'], s=to_plot['scale'], zorder=10)\n",
    "\n",
    "\n",
    "ax.set_xticks(range(0, n_zf_max_all + 1, 5))\n",
    "ax.set_yticks(range(0, n_zf_max_all + 1, 5))\n",
    "ax.set_title(\"Gencode:\\nNumber of C2H2 Zinc Fingers\")\n",
    "ax.set_xlabel('in reference isoform')\n",
    "ax.set_ylabel('in alternative isoform')\n",
    "\n",
    "for loc in ['top', 'right']:\n",
    "    ax.spines[loc].set_visible(False)\n",
    "    \n",
    "# add legend\n",
    "handles, labels = sc.legend_elements(prop='sizes', num=4)\n",
    "for handle in handles:\n",
    "    handle.set_color(sns.color_palette()[0])\n",
    "    \n",
    "new_labels = [int(int(''.join(i for i in x if i.isdigit()))/scaling) for x in labels]\n",
    "legend = ax.legend(handles, new_labels, loc=2, title=\"# isoforms\", bbox_to_anchor=(1.01, 1),\n",
    "                   frameon=False, title_fontsize=PAPER_FONTSIZE)\n",
    "        \n",
    "fig.savefig('../../figures/fig6/n-ZF_ref-vs-alt_scatter.all.pdf',\n",
    "            bbox_inches='tight')"
   ]
  },
  {
   "cell_type": "markdown",
   "id": "8d9ad4a3",
   "metadata": {},
   "source": [
    "## 7. make supp file"
   ]
  },
  {
   "cell_type": "code",
   "execution_count": 60,
   "id": "5a9178b3",
   "metadata": {},
   "outputs": [],
   "source": [
    "# reload since we over-wrote it earlier\n",
    "df = load_paralogs_vs_isoforms_comparison_table()\n",
    "df.loc[~((df['n_positive_PPI_a'] >= 1) & (df['n_positive_PPI_b'] >= 1)),\n",
    "       'PPI_jaccard'] = np.nan\n",
    "df['PPI_Jaccard_d'] = 1 - df['PPI_jaccard']\n",
    "df['PDI_Jaccard_d'] = 1 - df['PDI_jaccard']\n",
    "df.loc[(df['activation_a'].abs() < 1) &\n",
    "       (df['activation_b'].abs() < 1), \n",
    "       'activation_abs_fold_change_log2'] = np.nan"
   ]
  },
  {
   "cell_type": "code",
   "execution_count": 61,
   "id": "91f8cd78",
   "metadata": {},
   "outputs": [],
   "source": [
    "# map clone_acc to clone_name\n",
    "clone_acc_map = {}\n",
    "\n",
    "for gene in tfs:\n",
    "    for iso in tfs[gene].cloned_isoforms:\n",
    "        clone_acc = iso.clone_acc\n",
    "        clone_name = iso.name\n",
    "        clone_acc_map[clone_acc] = clone_name"
   ]
  },
  {
   "cell_type": "code",
   "execution_count": 62,
   "id": "730d2a59",
   "metadata": {},
   "outputs": [
    {
     "data": {
      "text/plain": [
       "paralogs               874\n",
       "non-paralog-control    818\n",
       "isoforms               447\n",
       "Name: category, dtype: int64"
      ]
     },
     "execution_count": 62,
     "metadata": {},
     "output_type": "execute_result"
    }
   ],
   "source": [
    "supp_paralogs = df.copy()\n",
    "supp_paralogs[\"clone_id_a\"] = supp_paralogs[\"clone_acc_a\"].apply(lambda x: x.split('|')[0] + '-' + x.split('|')[1].split('/')[0])\n",
    "supp_paralogs[\"clone_id_b\"] = supp_paralogs[\"clone_acc_b\"].apply(lambda x: x.split('|')[0] + '-' + x.split('|')[1].split('/')[0])\n",
    "\n",
    "supp_paralogs = supp_paralogs[[\"gene_symbol_a\", \"clone_id_a\", \"gene_symbol_b\", \"clone_id_b\", \"category\", \n",
    "                               \"aa_seq_pct_identity\", \"PDI_Jaccard_d\", \"PPI_Jaccard_d\", \n",
    "                               \"activation_abs_fold_change_log2\"]]\n",
    "supp_paralogs.category.value_counts()"
   ]
  },
  {
   "cell_type": "code",
   "execution_count": 63,
   "id": "759b509d",
   "metadata": {},
   "outputs": [],
   "source": [
    "supp_paralogs.to_csv(\"../../supp/SuppTable_Paralogs.txt\", sep=\"\\t\", index=False)"
   ]
  },
  {
   "cell_type": "code",
   "execution_count": null,
   "id": "bfb9d619",
   "metadata": {},
   "outputs": [],
   "source": []
  }
 ],
 "metadata": {
  "kernelspec": {
   "display_name": "Python (py36)",
   "language": "python",
   "name": "py36"
  },
  "language_info": {
   "codemirror_mode": {
    "name": "ipython",
    "version": 3
   },
   "file_extension": ".py",
   "mimetype": "text/x-python",
   "name": "python",
   "nbconvert_exporter": "python",
   "pygments_lexer": "ipython3",
   "version": "3.6.10"
  }
 },
 "nbformat": 4,
 "nbformat_minor": 5
}
