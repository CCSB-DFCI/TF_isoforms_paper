{
 "cells": [
  {
   "cell_type": "markdown",
   "id": "6351c303",
   "metadata": {},
   "source": [
    "# Fig3: PBM PDI analyses\n",
    "\n",
    "- PBMs for CREB1/TBX5\n",
    "- ChIP-seq analysis for TBX5"
   ]
  },
  {
   "cell_type": "code",
   "execution_count": 1,
   "id": "08d8727e",
   "metadata": {},
   "outputs": [
    {
     "name": "stderr",
     "output_type": "stream",
     "text": [
      "/PHShome/kz659/.conda/envs/py38/lib/python3.8/site-packages/Bio/pairwise2.py:278: BiopythonDeprecationWarning: Bio.pairwise2 has been deprecated, and we intend to remove it in a future release of Biopython. As an alternative, please consider using Bio.Align.PairwiseAligner as a replacement, and contact the Biopython developers if you still need the Bio.pairwise2 module.\n",
      "  warnings.warn(\n"
     ]
    }
   ],
   "source": [
    "from ast import literal_eval\n",
    "import numpy as np\n",
    "from scipy import stats\n",
    "from matplotlib import pyplot as plt\n",
    "from matplotlib import patches\n",
    "import matplotlib.cm as cm\n",
    "import matplotlib as mpl\n",
    "import pandas as pd\n",
    "import seaborn as sns\n",
    "import sys\n",
    "\n",
    "import statsmodels.api as sm\n",
    "import statsmodels.formula.api as smf\n",
    "import statsmodels.stats.multitest as smt\n",
    "\n",
    "from Bio import SeqIO\n",
    "from Bio.Seq import Seq\n",
    "from scipy.stats import fisher_exact\n",
    "from scipy.stats import mannwhitneyu\n",
    "from scipy.stats import wilcoxon\n",
    "from scipy.stats import pearsonr\n",
    "\n",
    "# import utils\n",
    "sys.path.append(\"../\")\n",
    "\n",
    "from data_loading import *\n",
    "from plotting import y1h_pdi_per_tf_gene_plot, m1h_activation_per_tf_gene_plot, COLOR_PURPLE\n",
    "from data_loading import (load_annotated_TFiso1_collection, \n",
    "                          load_y1h_pdi_data, \n",
    "                          load_developmental_tissue_expression_remapped,\n",
    "                          load_gtex_remapped)"
   ]
  },
  {
   "cell_type": "code",
   "execution_count": 2,
   "id": "d289beda",
   "metadata": {},
   "outputs": [],
   "source": [
    "PAPER_PRESET = {\"style\": \"ticks\", \"font\": \"Helvetica\", \"context\": \"paper\", \n",
    "                \"rc\": {\"font.size\":7,\"axes.titlesize\":7,\n",
    "                     \"pdf.fonttype\": 42, \n",
    "                       \"axes.labelsize\":7, 'axes.linewidth':0.5,\n",
    "                       \"legend.fontsize\":6, \"xtick.labelsize\":6,\n",
    "                       \"ytick.labelsize\":6, \"xtick.major.size\": 3.0,\n",
    "                       \"ytick.major.size\": 3.0, \"axes.edgecolor\": \"black\",\n",
    "                       \"xtick.major.pad\": 3.0, \"ytick.major.pad\": 3.0}}\n",
    "PAPER_FONTSIZE = 7"
   ]
  },
  {
   "cell_type": "code",
   "execution_count": 3,
   "id": "ae6f75c5",
   "metadata": {},
   "outputs": [],
   "source": [
    "sns.set(**PAPER_PRESET)\n",
    "fontsize = PAPER_FONTSIZE"
   ]
  },
  {
   "cell_type": "code",
   "execution_count": 4,
   "id": "ba4f60c3",
   "metadata": {},
   "outputs": [],
   "source": [
    "np.random.seed(2023)"
   ]
  },
  {
   "cell_type": "markdown",
   "id": "489f553e",
   "metadata": {},
   "source": [
    "## 1. CREB1: plot upbm results"
   ]
  },
  {
   "cell_type": "code",
   "execution_count": 5,
   "id": "5fc382a6",
   "metadata": {},
   "outputs": [],
   "source": [
    "kfit_dat = pd.read_table(\"../../data/processed/pbms/CREB1kfit_dat.csv\", sep=\",\")\n",
    "da_dat = pd.read_table(\"../../data/processed/pbms/CREB1da_dat.csv\", sep=\",\")"
   ]
  },
  {
   "cell_type": "code",
   "execution_count": 6,
   "id": "712dfa22",
   "metadata": {},
   "outputs": [],
   "source": [
    "kfit_ref = kfit_dat[kfit_dat[\"cname\"] == \"CREB1-ref\"]\n",
    "kfit_alt = kfit_dat[kfit_dat[\"cname\"] == \"CREB1-alt\"]"
   ]
  },
  {
   "cell_type": "code",
   "execution_count": 7,
   "id": "060708ee",
   "metadata": {},
   "outputs": [],
   "source": [
    "kfit_vs = kfit_ref.merge(kfit_alt, on=[\"seq\"], suffixes=(\"_ref\", \"_alt\"))"
   ]
  },
  {
   "cell_type": "code",
   "execution_count": 8,
   "id": "443f7ee4",
   "metadata": {},
   "outputs": [],
   "source": [
    "da_alt = da_dat[da_dat[\"cname\"] == \"CREB1-alt\"]"
   ]
  },
  {
   "cell_type": "code",
   "execution_count": 9,
   "id": "d51f014f",
   "metadata": {},
   "outputs": [],
   "source": [
    "kfit_vs = kfit_vs.merge(da_alt[[\"seq\", \"contrastQ\", \"contrastQ_cut\", \n",
    "                                \"contrastAverage\", \"contrastDifference\"]], on=\"seq\")"
   ]
  },
  {
   "cell_type": "code",
   "execution_count": 10,
   "id": "32dcb1ff",
   "metadata": {},
   "outputs": [
    {
     "data": {
      "text/plain": [
       "contains_any_motif_ref\n",
       "*other k-mer    32640\n",
       "CREB1 k-mer       256\n",
       "Name: count, dtype: int64"
      ]
     },
     "execution_count": 10,
     "metadata": {},
     "output_type": "execute_result"
    }
   ],
   "source": [
    "kfit_vs.contains_any_motif_ref.value_counts()"
   ]
  },
  {
   "cell_type": "code",
   "execution_count": 11,
   "id": "f61b3e76",
   "metadata": {},
   "outputs": [
    {
     "data": {
      "text/plain": [
       "11.5076476898553"
      ]
     },
     "execution_count": 11,
     "metadata": {},
     "output_type": "execute_result"
    }
   ],
   "source": [
    "kfit_vs.affinityEstimate_ref.max()"
   ]
  },
  {
   "cell_type": "code",
   "execution_count": 12,
   "id": "e9c62cdc",
   "metadata": {},
   "outputs": [
    {
     "data": {
      "text/plain": [
       "contains_any_motif\n",
       "other k-mer      32640\n",
       "* CREB1 k-mer      256\n",
       "Name: count, dtype: int64"
      ]
     },
     "execution_count": 12,
     "metadata": {},
     "output_type": "execute_result"
    }
   ],
   "source": [
    "def define_other_kmers(row):\n",
    "    if row.contains_any_motif_ref == \"CREB1 k-mer\":\n",
    "        return \"* CREB1 k-mer\"\n",
    "    else:\n",
    "        return \"other k-mer\"\n",
    "\n",
    "kfit_vs[\"contains_any_motif\"] = kfit_vs.apply(define_other_kmers, axis=1)\n",
    "kfit_vs.contains_any_motif.value_counts()"
   ]
  },
  {
   "cell_type": "code",
   "execution_count": 13,
   "id": "3347a12c",
   "metadata": {},
   "outputs": [
    {
     "name": "stderr",
     "output_type": "stream",
     "text": [
      "1 extra bytes in post.stringData array\n",
      "'created' timestamp seems very low; regarding as unix timestamp\n",
      "Zapf NOT subset; don't know how to subset; dropped\n",
      "feat NOT subset; don't know how to subset; dropped\n",
      "morx NOT subset; don't know how to subset; dropped\n"
     ]
    },
    {
     "data": {
      "image/png": "[encoded data removed]",
      "text/plain": [
       "<Figure size 150x150 with 1 Axes>"
      ]
     },
     "metadata": {},
     "output_type": "display_data"
    }
   ],
   "source": [
    "fig, ax = plt.subplots(1, 1, figsize=(1.5, 1.5))\n",
    "\n",
    "markers = [\",\", \".\"]\n",
    "titles = [\"CREB1-alt\"]\n",
    "\n",
    "for i, suffix in enumerate([\"alt\"]):\n",
    "\n",
    "    for k, motif in enumerate([\"other k-mer\", \"* CREB1 k-mer\"]):\n",
    "        for j, qval in enumerate([\"(0.1,1]\", \"(0.01,0.1]\", \"(0.001,0.01]\", \"[0,0.001]\"]):\n",
    "            \n",
    "            sub = kfit_vs[(kfit_vs[\"contrastQ_cut\"] == qval) & \n",
    "                          (kfit_vs[\"contains_any_motif\"] == motif)]\n",
    "            xs = sub[\"contrastAverage_alt\"]\n",
    "            ys = sub[\"contrastDifference_alt\"]\n",
    "            \n",
    "            color = sns.color_palette(\"Spectral_r\", n_colors=4)[j]\n",
    "            marker = markers[k]\n",
    "            \n",
    "            if marker == \"o\":\n",
    "                ax.scatter(xs, ys, 15, marker=marker, edgecolors=\"black\", facecolors=color, alpha=1, linewidth=0.5,\n",
    "                           zorder=10)\n",
    "            elif marker == \",\":\n",
    "                ax.scatter(xs, ys, 1, marker=\".\", edgecolors=color, facecolors='none', alpha=0.5,\n",
    "                           zorder=10)\n",
    "            else:\n",
    "                ax.scatter(xs, ys, 30, marker=marker, edgecolors=color, facecolors='white', alpha=1,\n",
    "                           zorder=10)\n",
    "                \n",
    "    \n",
    "    ax.axhline(y=0, linestyle=\"dashed\", color=\"black\", linewidth=1, zorder=1)\n",
    "    ax.set_xlabel(\"average PBM affinity\")\n",
    "    ax.set_title(titles[i])\n",
    "    \n",
    "ax.set_ylabel(u'∆ PBM affinity\\n(alt - ref)')\n",
    "\n",
    "for loc in ['top', 'right']:\n",
    "        ax.spines[loc].set_visible(False)\n",
    "        \n",
    "fig.savefig(\"../../figures/fig3/CREB1_isoforms_pbm_MA.pdf\", dpi=\"figure\", bbox_inches=\"tight\")"
   ]
  },
  {
   "cell_type": "markdown",
   "id": "4bf97f20",
   "metadata": {},
   "source": [
    "## 2. TBX5: plot PBM results"
   ]
  },
  {
   "cell_type": "code",
   "execution_count": 14,
   "id": "2c413c48",
   "metadata": {},
   "outputs": [],
   "source": [
    "kfit_dat = pd.read_table(\"../../data/processed/pbms/TBX5kfit_dat.csv\", sep=\",\")\n",
    "da_dat = pd.read_table(\"../../data/processed/pbms/TBX5da_dat.csv\", sep=\",\")"
   ]
  },
  {
   "cell_type": "code",
   "execution_count": 15,
   "id": "17f1090d",
   "metadata": {},
   "outputs": [],
   "source": [
    "kfit_ref = kfit_dat[kfit_dat[\"cname\"] == \"TBX5-ref\"]\n",
    "kfit_3 = kfit_dat[kfit_dat[\"cname\"] == \"TBX5-3\"]\n",
    "kfit_2 = kfit_dat[kfit_dat[\"cname\"] == \"TBX5-2\"]"
   ]
  },
  {
   "cell_type": "code",
   "execution_count": 16,
   "id": "a3635740",
   "metadata": {},
   "outputs": [
    {
     "data": {
      "text/html": [
       "<div>\n",
       "<style scoped>\n",
       "    .dataframe tbody tr th:only-of-type {\n",
       "        vertical-align: middle;\n",
       "    }\n",
       "\n",
       "    .dataframe tbody tr th {\n",
       "        vertical-align: top;\n",
       "    }\n",
       "\n",
       "    .dataframe thead th {\n",
       "        text-align: right;\n",
       "    }\n",
       "</style>\n",
       "<table border=\"1\" class=\"dataframe\">\n",
       "  <thead>\n",
       "    <tr style=\"text-align: right;\">\n",
       "      <th></th>\n",
       "      <th>seq</th>\n",
       "      <th>cname_ref</th>\n",
       "      <th>affinityEstimate_ref</th>\n",
       "      <th>affinityVariance_ref</th>\n",
       "      <th>contrastDifference_ref</th>\n",
       "      <th>contrastAverage_ref</th>\n",
       "      <th>contrastVariance_ref</th>\n",
       "      <th>contains_any_motif_ref</th>\n",
       "      <th>cname_iso2</th>\n",
       "      <th>affinityEstimate_iso2</th>\n",
       "      <th>...</th>\n",
       "      <th>contrastAverage_iso2</th>\n",
       "      <th>contrastVariance_iso2</th>\n",
       "      <th>contains_any_motif_iso2</th>\n",
       "      <th>cname_iso3</th>\n",
       "      <th>affinityEstimate_iso3</th>\n",
       "      <th>affinityVariance_iso3</th>\n",
       "      <th>contrastDifference_iso3</th>\n",
       "      <th>contrastAverage_iso3</th>\n",
       "      <th>contrastVariance_iso3</th>\n",
       "      <th>contains_any_motif_iso3</th>\n",
       "    </tr>\n",
       "  </thead>\n",
       "  <tbody>\n",
       "    <tr>\n",
       "      <th>0</th>\n",
       "      <td>AAAAAAAA</td>\n",
       "      <td>TBX5-ref</td>\n",
       "      <td>10.028611</td>\n",
       "      <td>0.004803</td>\n",
       "      <td>NaN</td>\n",
       "      <td>NaN</td>\n",
       "      <td>NaN</td>\n",
       "      <td>other k-mer</td>\n",
       "      <td>TBX5-2</td>\n",
       "      <td>9.903240</td>\n",
       "      <td>...</td>\n",
       "      <td>9.965926</td>\n",
       "      <td>0.003227</td>\n",
       "      <td>other k-mer</td>\n",
       "      <td>TBX5-3</td>\n",
       "      <td>9.931881</td>\n",
       "      <td>0.003412</td>\n",
       "      <td>-0.096730</td>\n",
       "      <td>9.980246</td>\n",
       "      <td>0.003536</td>\n",
       "      <td>other k-mer</td>\n",
       "    </tr>\n",
       "    <tr>\n",
       "      <th>1</th>\n",
       "      <td>AAAAAAAC</td>\n",
       "      <td>TBX5-ref</td>\n",
       "      <td>9.956585</td>\n",
       "      <td>0.001912</td>\n",
       "      <td>NaN</td>\n",
       "      <td>NaN</td>\n",
       "      <td>NaN</td>\n",
       "      <td>other k-mer</td>\n",
       "      <td>TBX5-2</td>\n",
       "      <td>9.934673</td>\n",
       "      <td>...</td>\n",
       "      <td>9.945629</td>\n",
       "      <td>0.005728</td>\n",
       "      <td>other k-mer</td>\n",
       "      <td>TBX5-3</td>\n",
       "      <td>9.957827</td>\n",
       "      <td>0.003953</td>\n",
       "      <td>0.001242</td>\n",
       "      <td>9.957206</td>\n",
       "      <td>0.003823</td>\n",
       "      <td>other k-mer</td>\n",
       "    </tr>\n",
       "    <tr>\n",
       "      <th>2</th>\n",
       "      <td>AAAAAAAG</td>\n",
       "      <td>TBX5-ref</td>\n",
       "      <td>10.115281</td>\n",
       "      <td>0.008088</td>\n",
       "      <td>NaN</td>\n",
       "      <td>NaN</td>\n",
       "      <td>NaN</td>\n",
       "      <td>other k-mer</td>\n",
       "      <td>TBX5-2</td>\n",
       "      <td>10.040526</td>\n",
       "      <td>...</td>\n",
       "      <td>10.077904</td>\n",
       "      <td>0.004583</td>\n",
       "      <td>other k-mer</td>\n",
       "      <td>TBX5-3</td>\n",
       "      <td>9.936246</td>\n",
       "      <td>0.004633</td>\n",
       "      <td>-0.179034</td>\n",
       "      <td>10.025764</td>\n",
       "      <td>0.005549</td>\n",
       "      <td>other k-mer</td>\n",
       "    </tr>\n",
       "    <tr>\n",
       "      <th>3</th>\n",
       "      <td>AAAAAAAT</td>\n",
       "      <td>TBX5-ref</td>\n",
       "      <td>10.020661</td>\n",
       "      <td>0.004480</td>\n",
       "      <td>NaN</td>\n",
       "      <td>NaN</td>\n",
       "      <td>NaN</td>\n",
       "      <td>other k-mer</td>\n",
       "      <td>TBX5-2</td>\n",
       "      <td>9.994817</td>\n",
       "      <td>...</td>\n",
       "      <td>10.007739</td>\n",
       "      <td>0.003959</td>\n",
       "      <td>other k-mer</td>\n",
       "      <td>TBX5-3</td>\n",
       "      <td>9.973363</td>\n",
       "      <td>0.002724</td>\n",
       "      <td>-0.047297</td>\n",
       "      <td>9.997012</td>\n",
       "      <td>0.004635</td>\n",
       "      <td>other k-mer</td>\n",
       "    </tr>\n",
       "    <tr>\n",
       "      <th>4</th>\n",
       "      <td>AAAAAACA</td>\n",
       "      <td>TBX5-ref</td>\n",
       "      <td>10.005205</td>\n",
       "      <td>0.005584</td>\n",
       "      <td>NaN</td>\n",
       "      <td>NaN</td>\n",
       "      <td>NaN</td>\n",
       "      <td>other k-mer</td>\n",
       "      <td>TBX5-2</td>\n",
       "      <td>9.981221</td>\n",
       "      <td>...</td>\n",
       "      <td>9.993213</td>\n",
       "      <td>0.004405</td>\n",
       "      <td>other k-mer</td>\n",
       "      <td>TBX5-3</td>\n",
       "      <td>9.912703</td>\n",
       "      <td>0.003827</td>\n",
       "      <td>-0.092501</td>\n",
       "      <td>9.958954</td>\n",
       "      <td>0.004838</td>\n",
       "      <td>other k-mer</td>\n",
       "    </tr>\n",
       "  </tbody>\n",
       "</table>\n",
       "<p>5 rows × 22 columns</p>\n",
       "</div>"
      ],
      "text/plain": [
       "        seq cname_ref  affinityEstimate_ref  affinityVariance_ref  \\\n",
       "0  AAAAAAAA  TBX5-ref             10.028611              0.004803   \n",
       "1  AAAAAAAC  TBX5-ref              9.956585              0.001912   \n",
       "2  AAAAAAAG  TBX5-ref             10.115281              0.008088   \n",
       "3  AAAAAAAT  TBX5-ref             10.020661              0.004480   \n",
       "4  AAAAAACA  TBX5-ref             10.005205              0.005584   \n",
       "\n",
       "   contrastDifference_ref  contrastAverage_ref  contrastVariance_ref  \\\n",
       "0                     NaN                  NaN                   NaN   \n",
       "1                     NaN                  NaN                   NaN   \n",
       "2                     NaN                  NaN                   NaN   \n",
       "3                     NaN                  NaN                   NaN   \n",
       "4                     NaN                  NaN                   NaN   \n",
       "\n",
       "  contains_any_motif_ref cname_iso2  affinityEstimate_iso2  ...  \\\n",
       "0            other k-mer     TBX5-2               9.903240  ...   \n",
       "1            other k-mer     TBX5-2               9.934673  ...   \n",
       "2            other k-mer     TBX5-2              10.040526  ...   \n",
       "3            other k-mer     TBX5-2               9.994817  ...   \n",
       "4            other k-mer     TBX5-2               9.981221  ...   \n",
       "\n",
       "   contrastAverage_iso2  contrastVariance_iso2  contains_any_motif_iso2  \\\n",
       "0              9.965926               0.003227              other k-mer   \n",
       "1              9.945629               0.005728              other k-mer   \n",
       "2             10.077904               0.004583              other k-mer   \n",
       "3             10.007739               0.003959              other k-mer   \n",
       "4              9.993213               0.004405              other k-mer   \n",
       "\n",
       "   cname_iso3 affinityEstimate_iso3 affinityVariance_iso3  \\\n",
       "0      TBX5-3              9.931881              0.003412   \n",
       "1      TBX5-3              9.957827              0.003953   \n",
       "2      TBX5-3              9.936246              0.004633   \n",
       "3      TBX5-3              9.973363              0.002724   \n",
       "4      TBX5-3              9.912703              0.003827   \n",
       "\n",
       "   contrastDifference_iso3  contrastAverage_iso3  contrastVariance_iso3  \\\n",
       "0                -0.096730              9.980246               0.003536   \n",
       "1                 0.001242              9.957206               0.003823   \n",
       "2                -0.179034             10.025764               0.005549   \n",
       "3                -0.047297              9.997012               0.004635   \n",
       "4                -0.092501              9.958954               0.004838   \n",
       "\n",
       "   contains_any_motif_iso3  \n",
       "0              other k-mer  \n",
       "1              other k-mer  \n",
       "2              other k-mer  \n",
       "3              other k-mer  \n",
       "4              other k-mer  \n",
       "\n",
       "[5 rows x 22 columns]"
      ]
     },
     "execution_count": 16,
     "metadata": {},
     "output_type": "execute_result"
    }
   ],
   "source": [
    "kfit_vs = kfit_ref.merge(kfit_2, on=[\"seq\"], suffixes=(\"_ref\", \"\"))\n",
    "kfit_vs = kfit_vs.merge(kfit_3, on=[\"seq\"], suffixes=(\"_iso2\", \"_iso3\"))\n",
    "kfit_vs.head()"
   ]
  },
  {
   "cell_type": "code",
   "execution_count": 17,
   "id": "c4a16735",
   "metadata": {},
   "outputs": [],
   "source": [
    "da_3 = da_dat[da_dat[\"cname\"] == \"TBX5-3\"]\n",
    "da_2 = da_dat[da_dat[\"cname\"] == \"TBX5-2\"]"
   ]
  },
  {
   "cell_type": "code",
   "execution_count": 18,
   "id": "a156494b",
   "metadata": {},
   "outputs": [],
   "source": [
    "kfit_vs = kfit_vs.merge(da_2[[\"seq\", \"contrastQ\", \"contrastQ_cut\"]], on=\"seq\")\n",
    "kfit_vs = kfit_vs.merge(da_3[[\"seq\", \"contrastQ\", \"contrastQ_cut\"]], on=\"seq\", suffixes=(\"_iso2\", \"_iso3\"))"
   ]
  },
  {
   "cell_type": "code",
   "execution_count": 19,
   "id": "7853f08a",
   "metadata": {},
   "outputs": [
    {
     "data": {
      "text/plain": [
       "contains_any_motif_ref\n",
       "other k-mer     32848\n",
       "* TBX5 k-mer       48\n",
       "Name: count, dtype: int64"
      ]
     },
     "execution_count": 19,
     "metadata": {},
     "output_type": "execute_result"
    }
   ],
   "source": [
    "kfit_vs.contains_any_motif_ref.value_counts()"
   ]
  },
  {
   "cell_type": "code",
   "execution_count": 20,
   "id": "7b45e173",
   "metadata": {},
   "outputs": [
    {
     "data": {
      "text/plain": [
       "contains_any_motif_ref\n",
       "other k-mer       32800\n",
       "* TBX5 k-mer         48\n",
       "* ACGTGT k-mer       48\n",
       "Name: count, dtype: int64"
      ]
     },
     "execution_count": 20,
     "metadata": {},
     "output_type": "execute_result"
    }
   ],
   "source": [
    "def add_motif_category(row, motif_name, motif, motif_rc):\n",
    "    if motif in row.seq or motif_rc in row.seq:\n",
    "        return motif_name\n",
    "    else:\n",
    "        return row.contains_any_motif_ref\n",
    "\n",
    "kfit_vs[\"contains_any_motif_ref\"] = kfit_vs.apply(add_motif_category, motif_name=\"* ACGTGT k-mer\",\n",
    "                                                  motif=\"ACGTGT\", motif_rc=\"ACACGT\", axis=1)\n",
    "kfit_vs.contains_any_motif_ref.value_counts()"
   ]
  },
  {
   "cell_type": "code",
   "execution_count": 21,
   "id": "4fb516d0",
   "metadata": {},
   "outputs": [
    {
     "name": "stderr",
     "output_type": "stream",
     "text": [
      "1 extra bytes in post.stringData array\n",
      "'created' timestamp seems very low; regarding as unix timestamp\n",
      "Zapf NOT subset; don't know how to subset; dropped\n",
      "feat NOT subset; don't know how to subset; dropped\n",
      "morx NOT subset; don't know how to subset; dropped\n"
     ]
    },
    {
     "data": {
      "image/png": "[encoded data removed]",
      "text/plain": [
       "<Figure size 300x150 with 2 Axes>"
      ]
     },
     "metadata": {},
     "output_type": "display_data"
    }
   ],
   "source": [
    "fig, axarr = plt.subplots(1, 2, figsize=(3, 1.5))\n",
    "\n",
    "markers = [\",\", \".\", \"o\"]\n",
    "titles = [\"TBX5-2\", \"TBX5-3\"]\n",
    "\n",
    "for i, suffix in enumerate([\"iso2\", \"iso3\"]):\n",
    "    \n",
    "    ax = axarr[i]\n",
    "\n",
    "    for k, motif in enumerate([\"other k-mer\", \"* TBX5 k-mer\", \"* ACGTGT k-mer\"]):\n",
    "        for j, qval in enumerate([\"(0.1,1]\", \"(0.01,0.1]\", \"(0.001,0.01]\", \"[0,0.001]\"]):\n",
    "            \n",
    "            sub = kfit_vs[(kfit_vs[\"contrastQ_cut_%s\" % suffix] == qval) & \n",
    "                          (kfit_vs[\"contains_any_motif_ref\"] == motif)]\n",
    "            xs = sub[\"affinityEstimate_ref\"]\n",
    "            ys = sub[\"affinityEstimate_%s\" % suffix]\n",
    "            \n",
    "            color = sns.color_palette(\"Spectral_r\", n_colors=4)[j]\n",
    "            marker = markers[k]\n",
    "            \n",
    "            if marker == \"o\":\n",
    "                ax.scatter(xs, ys, 15, marker=marker, edgecolors=\"black\", facecolors=color, alpha=1, linewidth=0.5)\n",
    "            elif marker == \",\":\n",
    "                ax.scatter(xs, ys, 1, marker=\".\", edgecolors=color, facecolors='none', alpha=0.5)\n",
    "            else:\n",
    "                ax.scatter(xs, ys, 30, marker=marker, edgecolors=color, facecolors='white', alpha=1)\n",
    "                \n",
    "    \n",
    "    ax.set_xlim((9.2, 13))\n",
    "    ax.set_ylim((9.2, 13))\n",
    "    ax.plot([9.2, 13], [9.2, 13], color=\"black\", linestyle=\"dashed\", linewidth=1, zorder=1)\n",
    "    ax.set_xticks([10, 11, 12, 13])\n",
    "    ax.set_yticks([10, 11, 12, 13])\n",
    "    ax.set_xlabel(\"Reference PBM affinity\")\n",
    "    ax.set_title(titles[i])\n",
    "    \n",
    "axarr[0].set_ylabel(\"Alternative PBM affinity\")\n",
    "\n",
    "for loc in ['top', 'right']:\n",
    "    axarr[0].spines[loc].set_visible(False)\n",
    "    axarr[1].spines[loc].set_visible(False)\n",
    "    \n",
    "fig.savefig(\"../../figures/fig3/TBX5_isoforms_pbm_scatter.pdf\", dpi=\"figure\", bbox_inches=\"tight\")"
   ]
  },
  {
   "cell_type": "markdown",
   "id": "524d9a9b",
   "metadata": {},
   "source": [
    "## 3. TBX5: plot expression profiles"
   ]
  },
  {
   "cell_type": "code",
   "execution_count": 22,
   "id": "575f40af",
   "metadata": {},
   "outputs": [],
   "source": [
    "def developmental_tissue_expression_plot(gene_name, figsize, ylim, means, cols, fig_suffix):\n",
    "    locs = [x for x in list(means.index) if x.split(\"|\")[0] == gene_name]\n",
    "    \n",
    "    # include isos that aren't cloned\n",
    "    locs = list(set(locs + [x for x in list(means.index) if x.split(\" \")[1][:-4] == gene_name]))\n",
    "    \n",
    "    n_isos = len(means.loc[locs])\n",
    "    palette = sns.color_palette(\"Set2\")\n",
    "    fig, axes = plt.subplots(2, 1, sharex=True)\n",
    "    fig.set_size_inches(figsize)\n",
    "    ### bar chart ###\n",
    "    (means.loc[locs, cols]\n",
    "          .T\n",
    "          .plot.bar(ax=axes[0],\n",
    "                    legend=False,\n",
    "                    width=0.7,\n",
    "                    color=list(palette)))\n",
    "    ### percentages ###\n",
    "    raw_means = 2 ** means.loc[locs, cols] - 1.\n",
    "    (raw_means.div(raw_means.sum(axis=0))\n",
    "              .T.plot.bar(ax=axes[1], \n",
    "                          stacked=True,\n",
    "                          legend=False,\n",
    "                          color=list(palette)))\n",
    "    axes[0].set_ylabel('log2(TPM + 1)\\n')\n",
    "    axes[0].set_ylim(ylim)\n",
    "    axes[1].set_ylabel('Percent of\\ngene expression')\n",
    "    axes[1].set_yticklabels(['{:.0%}'.format(t) for t in axes[1].get_yticks()])\n",
    "    axes[1].legend(loc='lower left', bbox_to_anchor=(1, 0), frameon=False)\n",
    "    axes[0].axhline(y=1, color='black', linewidth=0.5, linestyle=\"dashed\")\n",
    "    \n",
    "    axes[0].spines['top'].set_visible(False)\n",
    "    axes[1].spines['top'].set_visible(False)\n",
    "    axes[0].spines['right'].set_visible(False)\n",
    "    axes[1].spines['right'].set_visible(False)\n",
    "    \n",
    "    plt.subplots_adjust(hspace=0.25)\n",
    "    plt.savefig('../../figures/fig3/expression_' + gene_name + '_' + fig_suffix + '.pdf',\n",
    "                bbox_inches='tight')"
   ]
  },
  {
   "cell_type": "code",
   "execution_count": 23,
   "id": "9ea4ad6a",
   "metadata": {},
   "outputs": [
    {
     "name": "stdout",
     "output_type": "stream",
     "text": [
      "reading from cache\n"
     ]
    }
   ],
   "source": [
    "df_dev, metadata_dev, genes_dev = load_developmental_tissue_expression_remapped()\n",
    "\n",
    "rename_dev_stage = {'8 week post conception,embryo': '08',\n",
    "'11 week post conception,late embryo': '11',\n",
    "'embryo,7 week post conception': '07',\n",
    "'infant': 'infant',\n",
    "'10 week post conception,late embryo': '10',\n",
    "'young adult': 'young adult',\n",
    "'13 week post conception,late embryo': '13',\n",
    "'16 week post conception,late embryo': '16',\n",
    "'4 week post conception,embryo': '04',\n",
    "'neonate': 'neonate',\n",
    "'19 week post conception,late embryo': '19',\n",
    "'9 week post conception,late embryo': '09',\n",
    "'adolescent': 'adolescent',\n",
    "'5 week post conception,embryo': '05',\n",
    "'embryo,6 week post conception': '06',\n",
    "'12 week post conception,late embryo': '12',\n",
    "'18 week post conception,late embryo': '18',\n",
    "'toddler': 'toddler',\n",
    "'elderly': 'elderly',\n",
    "'middle adult': 'adult',\n",
    "'school age child': 'child'}\n",
    "\n",
    "metadata_dev['dev_stage'] = metadata_dev['Developmental_Stage'].map(rename_dev_stage)\n",
    "means_dev = (df_dev.groupby(df_dev.columns.map(metadata_dev['organism_part'] + ' ' + metadata_dev['dev_stage']), axis=1)\n",
    "           .mean())"
   ]
  },
  {
   "cell_type": "code",
   "execution_count": 24,
   "id": "ccb66f1f",
   "metadata": {},
   "outputs": [
    {
     "name": "stdout",
     "output_type": "stream",
     "text": [
      "reading from cache\n"
     ]
    }
   ],
   "source": [
    "df_gtex, metadata_gtex, genes_gtex = load_gtex_remapped()\n",
    "\n",
    "exclusion_list_gtex = {'Cells - Leukemia cell line (CML)',\n",
    "                       'Cells - EBV-transformed lymphocytes',\n",
    "                       'Cells - Cultured fibroblasts'}\n",
    "\n",
    "df_gtex = df_gtex.loc[:, ~df_gtex.columns.map(metadata_gtex['body_site']).isin(exclusion_list_gtex)]\n",
    "metadata_gtex = metadata_gtex.loc[~metadata_gtex['body_site'].isin(exclusion_list_gtex), :]\n",
    "\n",
    "means_gtex = df_gtex.groupby(df_gtex.columns.map(metadata_gtex['body_site']), axis=1).mean()"
   ]
  },
  {
   "cell_type": "code",
   "execution_count": 25,
   "id": "a086589a",
   "metadata": {},
   "outputs": [
    {
     "name": "stderr",
     "output_type": "stream",
     "text": [
      "/tmp/ipykernel_187955/2457522684.py:28: UserWarning: FixedFormatter should only be used together with FixedLocator\n",
      "  axes[1].set_yticklabels(['{:.0%}'.format(t) for t in axes[1].get_yticks()])\n",
      "1 extra bytes in post.stringData array\n",
      "'created' timestamp seems very low; regarding as unix timestamp\n",
      "Zapf NOT subset; don't know how to subset; dropped\n",
      "feat NOT subset; don't know how to subset; dropped\n",
      "morx NOT subset; don't know how to subset; dropped\n"
     ]
    },
    {
     "data": {
      "image/png": "[encoded data removed]",
      "text/plain": [
       "<Figure size 350x175 with 2 Axes>"
      ]
     },
     "metadata": {},
     "output_type": "display_data"
    }
   ],
   "source": [
    "heart_cols = [x for x in means_dev.columns if \"heart\" in x]\n",
    "ovary_cols = [x for x in means_dev.columns if \"ovary\" in x]\n",
    "developmental_tissue_expression_plot(\"TBX5\", (3.5, 1.75), (0, 12), means_dev, heart_cols, \n",
    "                                     \"means_dev_heart\")"
   ]
  },
  {
   "cell_type": "code",
   "execution_count": 26,
   "id": "c2ce2bd1",
   "metadata": {},
   "outputs": [
    {
     "name": "stderr",
     "output_type": "stream",
     "text": [
      "/tmp/ipykernel_187955/2457522684.py:28: UserWarning: FixedFormatter should only be used together with FixedLocator\n",
      "  axes[1].set_yticklabels(['{:.0%}'.format(t) for t in axes[1].get_yticks()])\n",
      "1 extra bytes in post.stringData array\n",
      "'created' timestamp seems very low; regarding as unix timestamp\n",
      "Zapf NOT subset; don't know how to subset; dropped\n",
      "feat NOT subset; don't know how to subset; dropped\n",
      "morx NOT subset; don't know how to subset; dropped\n"
     ]
    },
    {
     "data": {
      "image/png": "[encoded data removed]",
      "text/plain": [
       "<Figure size 50x175 with 2 Axes>"
      ]
     },
     "metadata": {},
     "output_type": "display_data"
    }
   ],
   "source": [
    "heart_cols = [x for x in means_gtex.columns if \"Heart\" in x]\n",
    "developmental_tissue_expression_plot(\"TBX5\", (0.5, 1.75), (0, 12), means_gtex, heart_cols, \n",
    "                                     \"means_gtex_heart\")"
   ]
  },
  {
   "cell_type": "markdown",
   "id": "7d654029",
   "metadata": {},
   "source": [
    "## 4. TBX5: ChIP analyses\n",
    "\n",
    "ChIP data is already filtered:\n",
    "don't use any mut/WT data (some of these are from mutant GATA4, for example, which can disrupt TBX5 recruitment: https://pubmed.ncbi.nlm.nih.gov/27984724/)\n",
    "\n",
    "antibody antigens:\n",
    "- Sigma SAB1411331 immunogen is FL protein (https://www.sigmaaldrich.com/US/en/product/sigma/sab1411331) -- will recognize all (?)\n",
    "- Santa Cruz sc17866/C-20 immunogen is C-terminus (https://datasheets.scbt.com/sc-17866.pdf) -- will recognize REF and B05 (but not A05)\n",
    "\n",
    "and peaks are already centered and are non-overlapping"
   ]
  },
  {
   "cell_type": "markdown",
   "id": "fbbde7b6",
   "metadata": {},
   "source": [
    "### variables"
   ]
  },
  {
   "cell_type": "code",
   "execution_count": 27,
   "id": "4fcca299",
   "metadata": {},
   "outputs": [],
   "source": [
    "chip_seqs_f = \"../../data/external/chip/03__fasta/TBX5_ChIP_filtered_studies.non_overlapping.centered_final.good_chr.fa\"\n",
    "genre_seqs_f = \"../../data/external/chip/05__genre_fasta/genre.fasta\"\n",
    "upbm_f = \"../../data/processed/pbms/TBX5kfit_dat.csv\""
   ]
  },
  {
   "cell_type": "code",
   "execution_count": 28,
   "id": "05ee9db8",
   "metadata": {},
   "outputs": [],
   "source": [
    "motif = \"AGGTGT\"\n",
    "motif_rc = \"ACACCT\"\n",
    "\n",
    "sp_motif = \"ACGTGT\"\n",
    "sp_motif_rc = \"ACACGT\""
   ]
  },
  {
   "cell_type": "markdown",
   "id": "dfcca004",
   "metadata": {},
   "source": [
    "### 1. import data"
   ]
  },
  {
   "cell_type": "code",
   "execution_count": 29,
   "id": "d771be0b",
   "metadata": {},
   "outputs": [
    {
     "data": {
      "text/html": [
       "<div>\n",
       "<style scoped>\n",
       "    .dataframe tbody tr th:only-of-type {\n",
       "        vertical-align: middle;\n",
       "    }\n",
       "\n",
       "    .dataframe tbody tr th {\n",
       "        vertical-align: top;\n",
       "    }\n",
       "\n",
       "    .dataframe thead th {\n",
       "        text-align: right;\n",
       "    }\n",
       "</style>\n",
       "<table border=\"1\" class=\"dataframe\">\n",
       "  <thead>\n",
       "    <tr style=\"text-align: right;\">\n",
       "      <th></th>\n",
       "      <th>seq</th>\n",
       "      <th>cname</th>\n",
       "      <th>affinityEstimate</th>\n",
       "      <th>affinityVariance</th>\n",
       "      <th>contrastDifference</th>\n",
       "      <th>contrastAverage</th>\n",
       "      <th>contrastVariance</th>\n",
       "      <th>contains_any_motif</th>\n",
       "    </tr>\n",
       "  </thead>\n",
       "  <tbody>\n",
       "    <tr>\n",
       "      <th>0</th>\n",
       "      <td>AAAAAAAA</td>\n",
       "      <td>TBX5-ref</td>\n",
       "      <td>10.028611</td>\n",
       "      <td>0.004803</td>\n",
       "      <td>NaN</td>\n",
       "      <td>NaN</td>\n",
       "      <td>NaN</td>\n",
       "      <td>other k-mer</td>\n",
       "    </tr>\n",
       "    <tr>\n",
       "      <th>1</th>\n",
       "      <td>AAAAAAAA</td>\n",
       "      <td>TBX5-3</td>\n",
       "      <td>9.931881</td>\n",
       "      <td>0.003412</td>\n",
       "      <td>-0.096730</td>\n",
       "      <td>9.980246</td>\n",
       "      <td>0.003536</td>\n",
       "      <td>other k-mer</td>\n",
       "    </tr>\n",
       "    <tr>\n",
       "      <th>2</th>\n",
       "      <td>AAAAAAAA</td>\n",
       "      <td>TBX5-2</td>\n",
       "      <td>9.903240</td>\n",
       "      <td>0.006690</td>\n",
       "      <td>-0.125371</td>\n",
       "      <td>9.965926</td>\n",
       "      <td>0.003227</td>\n",
       "      <td>other k-mer</td>\n",
       "    </tr>\n",
       "    <tr>\n",
       "      <th>3</th>\n",
       "      <td>AAAAAAAC</td>\n",
       "      <td>TBX5-ref</td>\n",
       "      <td>9.956585</td>\n",
       "      <td>0.001912</td>\n",
       "      <td>NaN</td>\n",
       "      <td>NaN</td>\n",
       "      <td>NaN</td>\n",
       "      <td>other k-mer</td>\n",
       "    </tr>\n",
       "    <tr>\n",
       "      <th>4</th>\n",
       "      <td>AAAAAAAC</td>\n",
       "      <td>TBX5-3</td>\n",
       "      <td>9.957827</td>\n",
       "      <td>0.003953</td>\n",
       "      <td>0.001242</td>\n",
       "      <td>9.957206</td>\n",
       "      <td>0.003823</td>\n",
       "      <td>other k-mer</td>\n",
       "    </tr>\n",
       "  </tbody>\n",
       "</table>\n",
       "</div>"
      ],
      "text/plain": [
       "        seq     cname  affinityEstimate  affinityVariance  contrastDifference  \\\n",
       "0  AAAAAAAA  TBX5-ref         10.028611          0.004803                 NaN   \n",
       "1  AAAAAAAA    TBX5-3          9.931881          0.003412           -0.096730   \n",
       "2  AAAAAAAA    TBX5-2          9.903240          0.006690           -0.125371   \n",
       "3  AAAAAAAC  TBX5-ref          9.956585          0.001912                 NaN   \n",
       "4  AAAAAAAC    TBX5-3          9.957827          0.003953            0.001242   \n",
       "\n",
       "   contrastAverage  contrastVariance contains_any_motif  \n",
       "0              NaN               NaN        other k-mer  \n",
       "1         9.980246          0.003536        other k-mer  \n",
       "2         9.965926          0.003227        other k-mer  \n",
       "3              NaN               NaN        other k-mer  \n",
       "4         9.957206          0.003823        other k-mer  "
      ]
     },
     "execution_count": 29,
     "metadata": {},
     "output_type": "execute_result"
    }
   ],
   "source": [
    "upbm = pd.read_table(upbm_f, sep=\",\")\n",
    "upbm.head()"
   ]
  },
  {
   "cell_type": "code",
   "execution_count": 30,
   "id": "f5c2bc90",
   "metadata": {},
   "outputs": [],
   "source": [
    "names = []\n",
    "seqs = []\n",
    "\n",
    "for record in SeqIO.parse(chip_seqs_f, \"fasta\"):\n",
    "    names.append(record.id)\n",
    "    seqs.append(str(record.seq))"
   ]
  },
  {
   "cell_type": "code",
   "execution_count": 31,
   "id": "83130ba7",
   "metadata": {},
   "outputs": [],
   "source": [
    "chip = pd.DataFrame([names, seqs]).T\n",
    "chip.columns = [\"id\", \"seq\"]"
   ]
  },
  {
   "cell_type": "code",
   "execution_count": 32,
   "id": "6c7791c9",
   "metadata": {},
   "outputs": [],
   "source": [
    "names = []\n",
    "seqs = []\n",
    "\n",
    "for record in SeqIO.parse(genre_seqs_f, \"fasta\"):\n",
    "    names.append(record.id)\n",
    "    seqs.append(str(record.seq))"
   ]
  },
  {
   "cell_type": "code",
   "execution_count": 33,
   "id": "5a03482f",
   "metadata": {},
   "outputs": [
    {
     "data": {
      "text/html": [
       "<div>\n",
       "<style scoped>\n",
       "    .dataframe tbody tr th:only-of-type {\n",
       "        vertical-align: middle;\n",
       "    }\n",
       "\n",
       "    .dataframe tbody tr th {\n",
       "        vertical-align: top;\n",
       "    }\n",
       "\n",
       "    .dataframe thead th {\n",
       "        text-align: right;\n",
       "    }\n",
       "</style>\n",
       "<table border=\"1\" class=\"dataframe\">\n",
       "  <thead>\n",
       "    <tr style=\"text-align: right;\">\n",
       "      <th></th>\n",
       "      <th>id</th>\n",
       "      <th>seq</th>\n",
       "    </tr>\n",
       "  </thead>\n",
       "  <tbody>\n",
       "    <tr>\n",
       "      <th>0</th>\n",
       "      <td>chr1:100344878-100345028</td>\n",
       "      <td>AATTTTCTTCTAGAGTTTCTACACAGGACTAGGCATCAGAAAACAT...</td>\n",
       "    </tr>\n",
       "    <tr>\n",
       "      <th>1</th>\n",
       "      <td>chr19:38843178-38843328</td>\n",
       "      <td>GTCTTGTTGGGGGGCTGCCGCTGTTTCTCATAGGCAATCCTCCACC...</td>\n",
       "    </tr>\n",
       "    <tr>\n",
       "      <th>2</th>\n",
       "      <td>chr15:101027144-101027294</td>\n",
       "      <td>TCACGAGTTCTCCAGACTTGCCAGCGTTCAGGACAAACCTCTCAGG...</td>\n",
       "    </tr>\n",
       "    <tr>\n",
       "      <th>3</th>\n",
       "      <td>chr20:40494364-40494514</td>\n",
       "      <td>AGGAGAGAATCATAGGTTTTGCAAGAGCCCTTTGTTTGCCTGGGGC...</td>\n",
       "    </tr>\n",
       "    <tr>\n",
       "      <th>4</th>\n",
       "      <td>chr7:28958896-28959046</td>\n",
       "      <td>AGCAGTGGGAGCGCGCCTGGCCTTCCTCGTTGTTAAGTCACTTGCT...</td>\n",
       "    </tr>\n",
       "  </tbody>\n",
       "</table>\n",
       "</div>"
      ],
      "text/plain": [
       "                          id  \\\n",
       "0   chr1:100344878-100345028   \n",
       "1    chr19:38843178-38843328   \n",
       "2  chr15:101027144-101027294   \n",
       "3    chr20:40494364-40494514   \n",
       "4     chr7:28958896-28959046   \n",
       "\n",
       "                                                 seq  \n",
       "0  AATTTTCTTCTAGAGTTTCTACACAGGACTAGGCATCAGAAAACAT...  \n",
       "1  GTCTTGTTGGGGGGCTGCCGCTGTTTCTCATAGGCAATCCTCCACC...  \n",
       "2  TCACGAGTTCTCCAGACTTGCCAGCGTTCAGGACAAACCTCTCAGG...  \n",
       "3  AGGAGAGAATCATAGGTTTTGCAAGAGCCCTTTGTTTGCCTGGGGC...  \n",
       "4  AGCAGTGGGAGCGCGCCTGGCCTTCCTCGTTGTTAAGTCACTTGCT...  "
      ]
     },
     "execution_count": 33,
     "metadata": {},
     "output_type": "execute_result"
    }
   ],
   "source": [
    "genre = pd.DataFrame([names, seqs]).T\n",
    "genre.columns = [\"id\", \"seq\"]\n",
    "genre.head()"
   ]
  },
  {
   "cell_type": "code",
   "execution_count": 34,
   "id": "5ec860b9",
   "metadata": {},
   "outputs": [
    {
     "name": "stdout",
     "output_type": "stream",
     "text": [
      "2074\n",
      "2074\n"
     ]
    }
   ],
   "source": [
    "print(len(chip))\n",
    "print(len(genre))"
   ]
  },
  {
   "cell_type": "code",
   "execution_count": 35,
   "id": "37fdfce8",
   "metadata": {},
   "outputs": [
    {
     "name": "stdout",
     "output_type": "stream",
     "text": [
      "[150]\n"
     ]
    }
   ],
   "source": [
    "chip[\"peak_len\"] = chip.seq.str.len()\n",
    "print(chip.peak_len.unique())"
   ]
  },
  {
   "cell_type": "code",
   "execution_count": 36,
   "id": "db14f3d4",
   "metadata": {},
   "outputs": [
    {
     "name": "stdout",
     "output_type": "stream",
     "text": [
      "[150]\n"
     ]
    }
   ],
   "source": [
    "genre[\"peak_len\"] = genre.seq.str.len()\n",
    "print(genre.peak_len.unique())"
   ]
  },
  {
   "cell_type": "markdown",
   "id": "b1e8c112",
   "metadata": {},
   "source": [
    "### 2. plot k-mer distribution"
   ]
  },
  {
   "cell_type": "code",
   "execution_count": 37,
   "id": "a01d756c",
   "metadata": {},
   "outputs": [],
   "source": [
    "def get_kmer_ocurrences(row, kmer, kmer_rc):\n",
    "    kmer_oc = [m.start() for m in re.finditer('(?=%s)' % kmer, row.seq)]\n",
    "    kmer_rc_oc = [m.start() for m in re.finditer('(?=%s)' % kmer_rc, row.seq)]\n",
    "    \n",
    "    kmer_arr = np.zeros(150)\n",
    "    for oc in kmer_oc:\n",
    "        kmer_arr[oc:oc+len(kmer)] += 1\n",
    "    for oc in kmer_rc_oc:\n",
    "        kmer_arr[oc:oc+len(kmer_rc)] += 1\n",
    "    \n",
    "    return kmer_arr"
   ]
  },
  {
   "cell_type": "code",
   "execution_count": 38,
   "id": "818f69d2",
   "metadata": {},
   "outputs": [],
   "source": [
    "def moving_average(x, w):\n",
    "    return np.convolve(x, np.ones(w), 'valid') / w"
   ]
  },
  {
   "cell_type": "code",
   "execution_count": 39,
   "id": "49837017",
   "metadata": {},
   "outputs": [],
   "source": [
    "chip[\"motif_arr\"] = chip.apply(get_kmer_ocurrences, kmer=motif, kmer_rc=motif_rc, axis=1)\n",
    "chip[\"sp_motif_arr\"] = chip.apply(get_kmer_ocurrences, kmer=sp_motif, kmer_rc=sp_motif_rc, axis=1)\n",
    "chip[\"hd_arr\"] = chip.apply(get_kmer_ocurrences, kmer=\"TAATTA\", kmer_rc=\"TAATTA\", axis=1)"
   ]
  },
  {
   "cell_type": "code",
   "execution_count": 40,
   "id": "b7c92845",
   "metadata": {},
   "outputs": [],
   "source": [
    "m = np.sum(np.array(chip[\"motif_arr\"].tolist()), axis=0)\n",
    "sm = np.sum(np.array(chip[\"sp_motif_arr\"].tolist()), axis=0)\n",
    "h = np.sum(np.array(chip[\"hd_arr\"].tolist()), axis=0)"
   ]
  },
  {
   "cell_type": "code",
   "execution_count": 41,
   "id": "bd238b2b",
   "metadata": {},
   "outputs": [],
   "source": [
    "m_av = moving_average(m, 8)\n",
    "sm_av = moving_average(sm, 8)\n",
    "h_av = moving_average(h, 8)"
   ]
  },
  {
   "cell_type": "code",
   "execution_count": 42,
   "id": "1739895b",
   "metadata": {},
   "outputs": [],
   "source": [
    "genre[\"motif_arr\"] = genre.apply(get_kmer_ocurrences, kmer=motif, kmer_rc=motif_rc, axis=1)\n",
    "genre[\"sp_motif_arr\"] = genre.apply(get_kmer_ocurrences, kmer=sp_motif, kmer_rc=sp_motif_rc, axis=1)\n",
    "genre[\"hd_arr\"] = genre.apply(get_kmer_ocurrences, kmer=\"TAATTA\", kmer_rc=\"TAATTA\", axis=1)"
   ]
  },
  {
   "cell_type": "code",
   "execution_count": 43,
   "id": "246c348f",
   "metadata": {},
   "outputs": [],
   "source": [
    "m_g = np.sum(np.array(genre[\"motif_arr\"].tolist()), axis=0)\n",
    "sm_g = np.sum(np.array(genre[\"sp_motif_arr\"].tolist()), axis=0)\n",
    "h_g = np.sum(np.array(genre[\"hd_arr\"].tolist()), axis=0)"
   ]
  },
  {
   "cell_type": "code",
   "execution_count": 44,
   "id": "320d60d6",
   "metadata": {},
   "outputs": [],
   "source": [
    "m_g_av = moving_average(m_g, 8)\n",
    "sm_g_av = moving_average(sm_g, 8)\n",
    "h_g_av = moving_average(h_g, 8)"
   ]
  },
  {
   "cell_type": "code",
   "execution_count": 45,
   "id": "a32ae2d4",
   "metadata": {},
   "outputs": [
    {
     "name": "stderr",
     "output_type": "stream",
     "text": [
      "1 extra bytes in post.stringData array\n",
      "'created' timestamp seems very low; regarding as unix timestamp\n",
      "Zapf NOT subset; don't know how to subset; dropped\n",
      "feat NOT subset; don't know how to subset; dropped\n",
      "morx NOT subset; don't know how to subset; dropped\n"
     ]
    },
    {
     "data": {
      "image/png": "[encoded data removed]",
      "text/plain": [
       "<Figure size 450x150 with 3 Axes>"
      ]
     },
     "metadata": {},
     "output_type": "display_data"
    }
   ],
   "source": [
    "fig, axarr = plt.subplots(1, 3, figsize=(4.5, 1.5), sharey=True, sharex=True)\n",
    "\n",
    "i = 0\n",
    "for fg_arr, bg_arr, kmer in zip([m_av, sm_av, h_av], [m_g_av, sm_g_av, h_g_av], \n",
    "                                 [motif, sp_motif, \"TAATTA\"]):\n",
    "    \n",
    "    ax = axarr[i]\n",
    "    \n",
    "    ax.plot(fg_arr, label=\"%s foreground\" % kmer, color=\"black\")\n",
    "    ax.plot(bg_arr, linestyle=\"dashed\", label=\"%s background\" % kmer, color=\"grey\", linewidth=0.5)\n",
    "\n",
    "    ax.set_title(kmer)\n",
    "    \n",
    "    for loc in ['top', 'right']:\n",
    "        ax.spines[loc].set_visible(False)\n",
    "    \n",
    "    if i == 2:\n",
    "        ax.legend(loc=2, bbox_to_anchor=(1.01, 1), labels=[\"foreground\", \"background\"], frameon=False)\n",
    "        \n",
    "    i += 1\n",
    "\n",
    "axarr[0].set_ylabel(\"Mean k-mer density\")\n",
    "fig.text(0.5, 0, \"nucleotide position in centered peak\", ha=\"center\")\n",
    "    \n",
    "plt.tight_layout()\n",
    "fig.savefig(\"../../figures/fig3/TBX5_chip_density.pdf\", dpi=\"figure\", bbox_inches=\"tight\")"
   ]
  },
  {
   "cell_type": "markdown",
   "id": "a649708d",
   "metadata": {},
   "source": [
    "### 5. fisher test for foreground vs. background rates"
   ]
  },
  {
   "cell_type": "code",
   "execution_count": 46,
   "id": "7634c94a",
   "metadata": {},
   "outputs": [],
   "source": [
    "def has_motif(row, col):\n",
    "    arr = row[col]\n",
    "    arr_sum = np.sum(arr)\n",
    "    if arr_sum > 0:\n",
    "        return 1\n",
    "    else:\n",
    "        return 0\n",
    "    \n",
    "chip[\"has_motif\"] = chip.apply(has_motif, col=\"motif_arr\", axis=1)\n",
    "chip[\"has_sp_motif\"] = chip.apply(has_motif, col=\"sp_motif_arr\", axis=1)\n",
    "chip[\"has_hd\"] = chip.apply(has_motif, col=\"hd_arr\", axis=1)"
   ]
  },
  {
   "cell_type": "code",
   "execution_count": 47,
   "id": "b41c09cb",
   "metadata": {},
   "outputs": [],
   "source": [
    "genre[\"has_motif\"] = genre.apply(has_motif, col=\"motif_arr\", axis=1)\n",
    "genre[\"has_sp_motif\"] = genre.apply(has_motif, col=\"sp_motif_arr\", axis=1)\n",
    "genre[\"has_hd\"] = genre.apply(has_motif, col=\"hd_arr\", axis=1)"
   ]
  },
  {
   "cell_type": "code",
   "execution_count": 48,
   "id": "1ca93d4d",
   "metadata": {},
   "outputs": [],
   "source": [
    "motif_tab = np.zeros((2, 2))\n",
    "sp_motif_tab = np.zeros((2, 2))\n",
    "hd_tab = np.zeros((2, 2))"
   ]
  },
  {
   "cell_type": "code",
   "execution_count": 49,
   "id": "4ec77347",
   "metadata": {},
   "outputs": [
    {
     "data": {
      "text/plain": [
       "SignificanceResult(statistic=2.242428146296845, pvalue=1.3253547476291926e-17)"
      ]
     },
     "execution_count": 49,
     "metadata": {},
     "output_type": "execute_result"
    }
   ],
   "source": [
    "n_m_fore = len(chip[chip[\"has_motif\"] == 1])\n",
    "n_nom_fore = len(chip[chip[\"has_motif\"] == 0])\n",
    "\n",
    "n_m_bg = len(genre[genre[\"has_motif\"] == 1])\n",
    "n_nom_bg = len(genre[genre[\"has_motif\"] == 0])\n",
    "\n",
    "motif_tab[0, 0] = n_m_fore\n",
    "motif_tab[0, 1] = n_nom_fore\n",
    "motif_tab[1, 0] = n_m_bg\n",
    "motif_tab[1, 1] = n_nom_bg\n",
    "\n",
    "fisher_exact(motif_tab)"
   ]
  },
  {
   "cell_type": "code",
   "execution_count": 50,
   "id": "394e318c",
   "metadata": {},
   "outputs": [
    {
     "data": {
      "text/plain": [
       "SignificanceResult(statistic=1.94431213224993, pvalue=0.0005096009312903356)"
      ]
     },
     "execution_count": 50,
     "metadata": {},
     "output_type": "execute_result"
    }
   ],
   "source": [
    "n_m_fore = len(chip[chip[\"has_sp_motif\"] == 1])\n",
    "n_nom_fore = len(chip[chip[\"has_sp_motif\"] == 0])\n",
    "\n",
    "n_m_bg = len(genre[genre[\"has_sp_motif\"] == 1])\n",
    "n_nom_bg = len(genre[genre[\"has_sp_motif\"] == 0])\n",
    "\n",
    "sp_motif_tab[0, 0] = n_m_fore\n",
    "sp_motif_tab[0, 1] = n_nom_fore\n",
    "sp_motif_tab[1, 0] = n_m_bg\n",
    "sp_motif_tab[1, 1] = n_nom_bg\n",
    "\n",
    "fisher_exact(sp_motif_tab)"
   ]
  },
  {
   "cell_type": "code",
   "execution_count": 51,
   "id": "a6afefd6",
   "metadata": {},
   "outputs": [
    {
     "data": {
      "text/plain": [
       "SignificanceResult(statistic=0.6062723061735895, pvalue=0.008452010140594738)"
      ]
     },
     "execution_count": 51,
     "metadata": {},
     "output_type": "execute_result"
    }
   ],
   "source": [
    "n_m_fore = len(chip[chip[\"has_hd\"] == 1])\n",
    "n_nom_fore = len(chip[chip[\"has_hd\"] == 0])\n",
    "\n",
    "n_m_bg = len(genre[genre[\"has_hd\"] == 1])\n",
    "n_nom_bg = len(genre[genre[\"has_hd\"] == 0])\n",
    "\n",
    "hd_tab[0, 0] = n_m_fore\n",
    "hd_tab[0, 1] = n_nom_fore\n",
    "hd_tab[1, 0] = n_m_bg\n",
    "hd_tab[1, 1] = n_nom_bg\n",
    "\n",
    "fisher_exact(hd_tab)"
   ]
  },
  {
   "cell_type": "code",
   "execution_count": 52,
   "id": "26d65126",
   "metadata": {},
   "outputs": [],
   "source": [
    "motif_df = pd.DataFrame(motif_tab)\n",
    "motif_df.index = [\"foreground\", \"background\"]\n",
    "motif_df.columns = [\"%s\" % motif, \"no %s\" % motif]\n",
    "motif_df.reset_index(inplace=True)\n",
    "motif_m = pd.melt(motif_df, id_vars=\"index\")\n",
    "\n",
    "sp_motif_df = pd.DataFrame(sp_motif_tab)\n",
    "sp_motif_df.index = [\"foreground\", \"background\"]\n",
    "sp_motif_df.columns = [\"%s\" % sp_motif, \"no %s\" % sp_motif]\n",
    "sp_motif_df.reset_index(inplace=True)\n",
    "sp_motif_m = pd.melt(sp_motif_df, id_vars=\"index\")\n",
    "motif_m = pd.concat([motif_m, sp_motif_m]) \n",
    "\n",
    "hd_motif_df = pd.DataFrame(hd_tab)\n",
    "hd_motif_df.index = [\"foreground\", \"background\"]\n",
    "hd_motif_df.columns = [\"TAATTA\", \"no TAATTA\"]\n",
    "hd_motif_df.reset_index(inplace=True)\n",
    "hd_motif_m = pd.melt(hd_motif_df, id_vars=\"index\")\n",
    "motif_m = pd.concat([motif_m, hd_motif_m])\n",
    "\n",
    "motif_m[\"frac\"] = motif_m[\"value\"]/len(chip)"
   ]
  },
  {
   "cell_type": "code",
   "execution_count": 53,
   "id": "86943d92",
   "metadata": {},
   "outputs": [
    {
     "name": "stderr",
     "output_type": "stream",
     "text": [
      "/tmp/ipykernel_187955/3620073561.py:33: UserWarning: FixedFormatter should only be used together with FixedLocator\n",
      "  ax.set_yticklabels([f'{y:.0%}' for y in ax.get_yticks()])\n",
      "1 extra bytes in post.stringData array\n",
      "'created' timestamp seems very low; regarding as unix timestamp\n",
      "Zapf NOT subset; don't know how to subset; dropped\n",
      "feat NOT subset; don't know how to subset; dropped\n",
      "morx NOT subset; don't know how to subset; dropped\n"
     ]
    },
    {
     "data": {
      "image/png": "[encoded data removed]",
      "text/plain": [
       "<Figure size 200x150 with 1 Axes>"
      ]
     },
     "metadata": {},
     "output_type": "display_data"
    }
   ],
   "source": [
    "fig = plt.figure(figsize=(2, 1.5))\n",
    "\n",
    "pal = {\"foreground\": sns.color_palette(\"Set2\")[0], \"background\": \"lightgrey\"}\n",
    "\n",
    "ax = sns.barplot(data=motif_m[~motif_m[\"variable\"].str.startswith(\"no\")],\n",
    "                 x=\"variable\", y=\"frac\", hue=\"index\", palette=pal)\n",
    "plt.legend(loc=2, bbox_to_anchor=(1.01, 1), frameon=False)\n",
    "\n",
    "ax.set_ylabel(\"Percentage of peaks\\ncontaining k-mer\")\n",
    "ax.set_ylim((0, 0.2))\n",
    "ax.set_title(\"k-mer enrichment in TBX5 ChIP peaks\")\n",
    "ax.set_xlabel(\"\")\n",
    "\n",
    "# annotate p-values\n",
    "i = 0\n",
    "for tab, y in zip([motif_tab, sp_motif_tab, hd_tab], [0.19, 0.05, 0.05]):\n",
    "    pval = fisher_exact(tab)\n",
    "    \n",
    "    ax.plot([i-0.2, i+0.2], [y, y], color=\"black\", linewidth=0.5)\n",
    "    \n",
    "    p = fisher_exact(tab)[1]\n",
    "    if p < 1e-6:\n",
    "        s = \"{:.1e}\".format(p)\n",
    "    else:\n",
    "        s = np.round(p, 4)\n",
    "    \n",
    "    ax.text(i, y, s, ha=\"center\", va=\"bottom\", fontsize=7)\n",
    "    i += 1\n",
    "\n",
    "for loc in ['top', 'right', 'bottom']:\n",
    "    ax.spines[loc].set_visible(False)\n",
    "ax.xaxis.set_tick_params(length=0)\n",
    "ax.set_yticklabels([f'{y:.0%}' for y in ax.get_yticks()])  \n",
    "\n",
    "fig.savefig(\"../../figures/fig3/TBX5_chip_enrichment.pdf\", dpi=\"figure\", bbox_inches=\"tight\")"
   ]
  },
  {
   "cell_type": "code",
   "execution_count": null,
   "id": "8f7ac53f",
   "metadata": {},
   "outputs": [],
   "source": []
  }
 ],
 "metadata": {
  "kernelspec": {
   "display_name": "Python [conda env:.conda-py38]",
   "language": "python",
   "name": "conda-env-.conda-py38-py"
  },
  "language_info": {
   "codemirror_mode": {
    "name": "ipython",
    "version": 3
   },
   "file_extension": ".py",
   "mimetype": "text/x-python",
   "name": "python",
   "nbconvert_exporter": "python",
   "pygments_lexer": "ipython3",
   "version": "3.8.19"
  }
 },
 "nbformat": 4,
 "nbformat_minor": 5
}
