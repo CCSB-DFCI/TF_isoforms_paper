{
 "cells": [
  {
   "cell_type": "markdown",
   "metadata": {},
   "source": [
    "Writing out aa sequence identity files as a temporary solution to missing sequence similarity data for isoforms."
   ]
  },
  {
   "cell_type": "code",
   "execution_count": 1,
   "metadata": {},
   "outputs": [],
   "source": [
    "from Bio import Align\n",
    "\n",
    "from data_loading import *"
   ]
  },
  {
   "cell_type": "code",
   "execution_count": 2,
   "metadata": {},
   "outputs": [],
   "source": [
    "isoforms = load_valid_isoform_clones()\n",
    "pairs = load_paralog_pairs()\n",
    "pairs = load_isoforms_of_paralogs_pairs(pairs, isoforms)"
   ]
  },
  {
   "cell_type": "code",
   "execution_count": null,
   "metadata": {},
   "outputs": [],
   "source": [
    "aligner = Align.PairwiseAligner()\n",
    "aligner.mode = 'global'\n",
    "\n",
    "def pairwise_seq_id(row):\n",
    "    alignment = aligner.align(row['aa_seq_a'], row['aa_seq_b'])[0].__str__().split()[1]\n",
    "    return alignment.count('|') / len(alignment) * 100\n",
    "\n",
    "pairs['pct_aa_seq_id'] = pairs.apply(pairwise_seq_id, axis=1)"
   ]
  },
  {
   "cell_type": "code",
   "execution_count": null,
   "metadata": {},
   "outputs": [],
   "source": [
    "(pairs.loc[:, ['clone_acc_a', 'clone_acc_b', 'pct_aa_seq_id']]\n",
    "     .to_csv('../../data/tf_AA_seq_identities/paralog_non_paralog_seq_id.tsv',\n",
    "             sep='\\t',\n",
    "             index=False))"
   ]
  }
 ],
 "metadata": {
  "kernelspec": {
   "display_name": "Python 3.8.13 ('venv': venv)",
   "language": "python",
   "name": "python3"
  },
  "language_info": {
   "codemirror_mode": {
    "name": "ipython",
    "version": 3
   },
   "file_extension": ".py",
   "mimetype": "text/x-python",
   "name": "python",
   "nbconvert_exporter": "python",
   "pygments_lexer": "ipython3",
   "version": "3.8.13"
  },
  "vscode": {
   "interpreter": {
    "hash": "4ae04c9a3e8cbfaaf818a59204fe953064ae0593c0d7ed4865e22581ae0526ea"
   }
  }
 },
 "nbformat": 4,
 "nbformat_minor": 2
}
