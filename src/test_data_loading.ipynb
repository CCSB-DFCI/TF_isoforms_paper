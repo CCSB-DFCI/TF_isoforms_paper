{
 "cells": [
  {
   "cell_type": "code",
   "execution_count": 1,
   "metadata": {},
   "outputs": [],
   "source": [
    "from data_loading import *\n",
    "y2h = load_isoform_and_paralog_y2h_data()\n",
    "valid_clones = load_valid_isoform_clones()"
   ]
  },
  {
   "cell_type": "code",
   "execution_count": 2,
   "metadata": {},
   "outputs": [],
   "source": [
    "def test_same_number_of_isoforms_tested_for_each_partner():\n",
    "    assert (\n",
    "        (\n",
    "        (y2h.loc[y2h['category'] == 'tf_isoform_ppis']\n",
    "             .groupby(['ad_gene_symbol', 'db_gene_symbol'])\n",
    "    ['ad_clone_name'].nunique()\n",
    "    .reset_index()\n",
    "    .groupby('ad_gene_symbol')\n",
    "    ['ad_clone_name'].nunique()) == 1).all()\n",
    "    )\n",
    "\n",
    "\n",
    "test_same_number_of_isoforms_tested_for_each_partner()"
   ]
  },
  {
   "cell_type": "code",
   "execution_count": null,
   "metadata": {},
   "outputs": [],
   "source": [
    "def test_Y2H_data_for_all_cloned_isoforms():\n",
    "    tmp = pd.merge(y2h.loc[y2h['category'] == 'tf_isoform_ppis']\n",
    "                .groupby('ad_gene_symbol')\n",
    "            ['ad_clone_acc'].nunique().to_frame(),\n",
    "            valid_clones.groupby('gene').size().to_frame(),\n",
    "            left_index=True,\n",
    "            right_index=True,\n",
    "            how='left')\n",
    "    assert (tmp.iloc[:, 0] == tmp.iloc[:, 1]).all()\n",
    "\n",
    "\n",
    "test_Y2H_data_for_all_cloned_isoforms()"
   ]
  }
 ],
 "metadata": {
  "kernelspec": {
   "display_name": "venv",
   "language": "python",
   "name": "python3"
  },
  "language_info": {
   "codemirror_mode": {
    "name": "ipython",
    "version": 3
   },
   "file_extension": ".py",
   "mimetype": "text/x-python",
   "name": "python",
   "nbconvert_exporter": "python",
   "pygments_lexer": "ipython3",
   "version": "3.8.13"
  },
  "orig_nbformat": 4
 },
 "nbformat": 4,
 "nbformat_minor": 2
}
