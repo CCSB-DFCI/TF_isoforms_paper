{
 "cells": [
  {
   "cell_type": "code",
   "execution_count": null,
   "metadata": {},
   "outputs": [],
   "source": [
    "# copy and pasted\n",
    "# checks N2H data in Y2H\n",
    "# needs rewrite\n",
    "df = load_n2h_ppi_validation_data()\n",
    "y2h = load_full_y2h_data_including_controls()\n",
    "y2h = y2h.loc[y2h['category'] == 'tf_isoform_ppis', :]\n",
    "y2h_positives = y2h.loc[y2h['Y2H_result'] == True, ['ad_orf_id', 'db_orf_id']].values\n",
    "y2h_positives = set(map(tuple, y2h_positives))\n",
    "y2h_negatives = y2h.loc[y2h['Y2H_result'] == False, ['ad_orf_id', 'db_orf_id']].values\n",
    "y2h_negatives = set(map(tuple, y2h_negatives))\n",
    "\n",
    "# check positives / negatives are in Y2H dataset\n",
    "def in_y2h_positves(row):\n",
    "    pair = (row['test_orf_idb'],\n",
    "            row['test_orf_ida'])\n",
    "    return pair in y2h_positives\n",
    "\n",
    "\n",
    "def in_y2h_negatives(row):\n",
    "    pair = (row['test_orf_idb'],\n",
    "            row['test_orf_ida'])\n",
    "    return pair in y2h_negatives\n",
    "\n",
    "\n",
    "df = df.loc[~((df['source'] == 'isoform positives') & \n",
    "            ~df.apply(in_y2h_positves, axis=1)), :]\n",
    "df = df.loc[~((df['source'] == 'isoform negatives') & \n",
    "            ~df.apply(in_y2h_negatives, axis=1)), :]\n",
    "print(len(df))"
   ]
  },
  {
   "cell_type": "code",
   "execution_count": null,
   "metadata": {},
   "outputs": [],
   "source": [
    "#copy pasted \n",
    "import re\n",
    "from Bio.Alphabet import IUPAC\n",
    "\n",
    "from data_loading import load_valid_isoform_clones\n",
    "\n",
    "\n",
    "def test_valid_aa_seqs(df):\n",
    "    aa_letters = IUPAC.IUPACProtein.letters\n",
    "    aa_re = re.compile('^[' + aa_letters + ']*$')\n",
    "    assert df['aa_seq'].str.match(aa_re).all()\n"
   ]
  },
  {
   "cell_type": "code",
   "execution_count": null,
   "metadata": {},
   "outputs": [],
   "source": [
    "# copy pasted\n",
    "def test_same_number_of_isoforms_tested_for_each_partner():\n",
    "    assert (\n",
    "        (\n",
    "        (y2h.loc[y2h['category'] == 'tf_isoform_ppis']\n",
    "             .groupby(['ad_gene_symbol', 'db_gene_symbol'])\n",
    "    ['ad_clone_name'].nunique()\n",
    "    .reset_index()\n",
    "    .groupby('ad_gene_symbol')\n",
    "    ['ad_clone_name'].nunique()) == 1).all()\n",
    "    )\n",
    "\n",
    "\n",
    "test_same_number_of_isoforms_tested_for_each_partner()"
   ]
  }
 ],
 "metadata": {
  "language_info": {
   "name": "python"
  }
 },
 "nbformat": 4,
 "nbformat_minor": 2
}
