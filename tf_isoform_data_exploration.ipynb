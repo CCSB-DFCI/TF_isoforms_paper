{
 "cells": [
  {
   "cell_type": "markdown",
   "metadata": {},
   "source": [
    "# TF isoform data\n",
    "\n",
    "\n",
    "## TODO\n",
    "\n",
    "- check valid clones only in all data\n",
    "- get sequence information\n",
    "- remove partners that didn't test positive with any isoform\n",
    "- remove single isoforms\n",
    "    - but need to add first to paralogs\n",
    "- Look into effect of number of PPIs per TF\n",
    "- combine categories to get paralog data"
   ]
  },
  {
   "cell_type": "code",
   "execution_count": 1,
   "metadata": {},
   "outputs": [],
   "source": [
    "import os\n",
    "from itertools import combinations\n",
    "\n",
    "import numpy as np\n",
    "from scipy import stats\n",
    "from matplotlib import pyplot as plt\n",
    "import pandas as pd\n",
    "\n",
    "import ccsblib\n",
    "from ccsblib import ccsbplotlib as cplt\n",
    "\n",
    "from data_loading import (load_isoform_and_paralog_y2h_data,\n",
    "                          load_y1h_pdi_data,\n",
    "                          load_m1h_activation_data,\n",
    "                          load_valid_isoform_clones)\n",
    "\n",
    "%matplotlib inline"
   ]
  },
  {
   "cell_type": "code",
   "execution_count": 2,
   "metadata": {},
   "outputs": [],
   "source": [
    "y2h = load_isoform_and_paralog_y2h_data()\n",
    "y1h = load_y1h_pdi_data()\n",
    "m1h = load_m1h_activation_data()\n",
    "isoforms = load_valid_isoform_clones()"
   ]
  },
  {
   "cell_type": "code",
   "execution_count": 3,
   "metadata": {},
   "outputs": [],
   "source": [
    "iso_pairs = []\n",
    "for tf_gene in isoforms['gene'].unique():\n",
    "    tf_iso = isoforms.loc[isoforms['gene'] == tf_gene,\n",
    "                          'clone_acc'].values\n",
    "    for iso_a, iso_b in combinations(tf_iso, 2):\n",
    "        iso_pairs.append((tf_gene, iso_a, iso_b))\n",
    "iso_pairs = pd.DataFrame(data=iso_pairs,\n",
    "                         columns=['tf_gene_symbol', 'clone_acc_a', 'clone_acc_b'])\n",
    "\n",
    "\n",
    "def ppi_metric(row, data, function):\n",
    "    gene_name = row['tf_gene_symbol']\n",
    "    results = (data.loc[data['ad_gene_symbol'] == gene_name, :]\n",
    "                   .pivot(values='score', index='db_gene_symbol', columns='ad_clone_acc'))\n",
    "    ad_a = row['clone_acc_a']\n",
    "    ad_b = row['clone_acc_b']\n",
    "    if ad_a not in results.columns or ad_b not in results.columns:\n",
    "        return np.nan\n",
    "    pair = results.loc[:, [ad_a, ad_b]]\n",
    "    # remove any partner with AA / NC / NS / NaN in either\n",
    "    pair = pair.loc[pair.isin(['0', '1']).all(axis=1), :].astype(int).astype(bool)\n",
    "    # remove partners that tested negative in both\n",
    "    pair = pair.loc[pair.any(axis=1), :]\n",
    "    if pair.shape[0] > 0:\n",
    "        return function(set(pair.index[pair[ad_a]].values),\n",
    "                        set(pair.index[pair[ad_b]].values))\n",
    "    else:\n",
    "        return np.nan\n",
    "\n",
    "    \n",
    "def jaccard_index(a, b):\n",
    "    return len(a.intersection(b)) / len(a.union(b))\n",
    "\n",
    "\n",
    "def simpsons_index(a, b):\n",
    "    min_size =  min(len(a), len(b))\n",
    "    if min_size == 0:\n",
    "        return np.nan\n",
    "    else:\n",
    "        return len(a.intersection(b)) / min_size\n",
    "\n",
    "    \n",
    "def number_tested_partners(a, b):\n",
    "    \"\"\"Comes up with nan when it should be 0?\"\"\"\n",
    "    return len(a.union(b))\n",
    "\n",
    "\n",
    "def number_shared_partners(a, b):\n",
    "    return len(a.intersection(b))\n",
    "\n",
    "\n",
    "def number_min_partners(a, b):\n",
    "    return min(len(a), len(b))\n",
    "\n",
    "\n",
    "def min_difference(a, b):\n",
    "    return min(len(a.difference(b)), len(b.difference(a)))\n",
    "\n",
    "\n",
    "iso_pairs['ppi_n_tested'] = iso_pairs.apply(ppi_metric,\n",
    "                                            data=y2h.loc[y2h['category'] == 'tf_isoform_ppis', :],\n",
    "                                            function=number_tested_partners,\n",
    "                                            axis=1)\n",
    "iso_pairs['ppi_n_shared'] = iso_pairs.apply(ppi_metric,\n",
    "                                            data=y2h.loc[y2h['category'] == 'tf_isoform_ppis', :],\n",
    "                                            function=number_shared_partners,\n",
    "                                            axis=1)\n",
    "iso_pairs['ppi_n_min'] = iso_pairs.apply(ppi_metric,\n",
    "                                            data=y2h.loc[y2h['category'] == 'tf_isoform_ppis', :],\n",
    "                                            function=number_min_partners,\n",
    "                                            axis=1)\n",
    "iso_pairs['ppi_n_min_diff'] = iso_pairs.apply(ppi_metric,\n",
    "                                              data=y2h.loc[y2h['category'] == 'tf_isoform_ppis', :],\n",
    "                                              function=min_difference,\n",
    "                                              axis=1)\n",
    "iso_pairs['ppi_jaccard'] = iso_pairs.apply(ppi_metric,\n",
    "                                           data=y2h.loc[y2h['category'] == 'tf_isoform_ppis', :],\n",
    "                                           function=jaccard_index,\n",
    "                                           axis=1)\n",
    "iso_pairs['ppi_simpsons'] = iso_pairs.apply(ppi_metric,\n",
    "                                            data=y2h.loc[y2h['category'] == 'tf_isoform_ppis', :],\n",
    "                                            function=simpsons_index,\n",
    "                                            axis=1)\n",
    "iso_pairs['ppi_n_diff'] = iso_pairs['ppi_n_tested'] - iso_pairs['ppi_n_shared']\n",
    "\n",
    "\n",
    "def fold_change_m1h(row):\n",
    "    if (row['clone_acc_a'] not in m1h['clone_acc'].values or\n",
    "        row['clone_acc_b'] not in m1h['clone_acc'].values):\n",
    "        return np.nan\n",
    "    a = m1h.loc[m1h['clone_acc'] == row['clone_acc_a'],\n",
    "                [c for c in m1h.columns if c.startswith('M1H_rep')]].mean(axis=1).values[0]\n",
    "    b = m1h.loc[m1h['clone_acc'] == row['clone_acc_b'],\n",
    "                [c for c in m1h.columns if c.startswith('M1H_rep')]].mean(axis=1).values[0]\n",
    "    return max(a, b) - min(a, b)\n",
    "\n",
    "\n",
    "iso_pairs['activation_fold_change'] = iso_pairs.apply(fold_change_m1h, axis=1)"
   ]
  },
  {
   "cell_type": "code",
   "execution_count": 4,
   "metadata": {},
   "outputs": [],
   "source": [
    "def pdi_metric(row, data, function):\n",
    "    df = data.loc[(data['unique_acc'] == row['clone_acc_a']) |\n",
    "                  (data['unique_acc'] == row['clone_acc_b']), \n",
    "                  data.columns[2:]].copy()\n",
    "    if df.shape[0] < 2:\n",
    "        return np.nan\n",
    "    df = df.loc[:, df.any(axis=0)]\n",
    "    if df.shape[1] == 0:\n",
    "        return np.nan\n",
    "    a = set(df.columns[df.iloc[0]])\n",
    "    b = set(df.columns[df.iloc[1]])\n",
    "    return function(a, b)\n",
    "\n",
    "\n",
    "iso_pairs['pdi_n_tested'] = iso_pairs.apply(pdi_metric,\n",
    "                                            data=y1h,\n",
    "                                            function=number_tested_partners,\n",
    "                                            axis=1)\n",
    "iso_pairs['pdi_n_shared'] = iso_pairs.apply(pdi_metric,\n",
    "                                            data=y1h,\n",
    "                                            function=number_shared_partners,\n",
    "                                            axis=1)\n",
    "iso_pairs['pdi_n_min'] = iso_pairs.apply(pdi_metric,\n",
    "                                            data=y1h,\n",
    "                                            function=number_min_partners,\n",
    "                                            axis=1)\n",
    "iso_pairs['pdi_n_min_diff'] = iso_pairs.apply(pdi_metric,\n",
    "                                              data=y1h,\n",
    "                                              function=min_difference,\n",
    "                                              axis=1)\n",
    "iso_pairs['pdi_jaccard'] = iso_pairs.apply(pdi_metric,\n",
    "                                           data=y1h,\n",
    "                                           function=jaccard_index,\n",
    "                                           axis=1)\n",
    "iso_pairs['pdi_simpsons'] = iso_pairs.apply(pdi_metric,\n",
    "                                            data=y1h,\n",
    "                                            function=simpsons_index,\n",
    "                                            axis=1)\n",
    "iso_pairs['pdi_n_diff'] = iso_pairs['pdi_n_tested'] - iso_pairs['pdi_n_shared']"
   ]
  },
  {
   "cell_type": "code",
   "execution_count": 5,
   "metadata": {},
   "outputs": [
    {
     "data": {
      "text/html": [
       "<div>\n",
       "<style scoped>\n",
       "    .dataframe tbody tr th:only-of-type {\n",
       "        vertical-align: middle;\n",
       "    }\n",
       "\n",
       "    .dataframe tbody tr th {\n",
       "        vertical-align: top;\n",
       "    }\n",
       "\n",
       "    .dataframe thead th {\n",
       "        text-align: right;\n",
       "    }\n",
       "</style>\n",
       "<table border=\"1\" class=\"dataframe\">\n",
       "  <thead>\n",
       "    <tr style=\"text-align: right;\">\n",
       "      <th></th>\n",
       "      <th>tf_gene_symbol</th>\n",
       "      <th>clone_acc_a</th>\n",
       "      <th>clone_acc_b</th>\n",
       "      <th>ppi_n_tested</th>\n",
       "      <th>ppi_n_shared</th>\n",
       "      <th>ppi_n_min</th>\n",
       "      <th>ppi_n_min_diff</th>\n",
       "      <th>ppi_jaccard</th>\n",
       "      <th>ppi_simpsons</th>\n",
       "      <th>ppi_n_diff</th>\n",
       "      <th>activation_fold_change</th>\n",
       "      <th>pdi_n_tested</th>\n",
       "      <th>pdi_n_shared</th>\n",
       "      <th>pdi_n_min</th>\n",
       "      <th>pdi_n_min_diff</th>\n",
       "      <th>pdi_jaccard</th>\n",
       "      <th>pdi_simpsons</th>\n",
       "      <th>pdi_n_diff</th>\n",
       "    </tr>\n",
       "  </thead>\n",
       "  <tbody>\n",
       "    <tr>\n",
       "      <th>0</th>\n",
       "      <td>AEBP2</td>\n",
       "      <td>AEBP2|2/3|05F03</td>\n",
       "      <td>AEBP2|3/3|05E07</td>\n",
       "      <td>NaN</td>\n",
       "      <td>NaN</td>\n",
       "      <td>NaN</td>\n",
       "      <td>NaN</td>\n",
       "      <td>NaN</td>\n",
       "      <td>NaN</td>\n",
       "      <td>NaN</td>\n",
       "      <td>0.535619</td>\n",
       "      <td>NaN</td>\n",
       "      <td>NaN</td>\n",
       "      <td>NaN</td>\n",
       "      <td>NaN</td>\n",
       "      <td>NaN</td>\n",
       "      <td>NaN</td>\n",
       "      <td>NaN</td>\n",
       "    </tr>\n",
       "    <tr>\n",
       "      <th>1</th>\n",
       "      <td>ARNT2</td>\n",
       "      <td>ARNT2|1/6|08C12</td>\n",
       "      <td>ARNT2|2/6|09E01</td>\n",
       "      <td>9.0</td>\n",
       "      <td>5.0</td>\n",
       "      <td>5.0</td>\n",
       "      <td>0.0</td>\n",
       "      <td>0.555556</td>\n",
       "      <td>1.0</td>\n",
       "      <td>4.0</td>\n",
       "      <td>2.094800</td>\n",
       "      <td>NaN</td>\n",
       "      <td>NaN</td>\n",
       "      <td>NaN</td>\n",
       "      <td>NaN</td>\n",
       "      <td>NaN</td>\n",
       "      <td>NaN</td>\n",
       "      <td>NaN</td>\n",
       "    </tr>\n",
       "    <tr>\n",
       "      <th>2</th>\n",
       "      <td>ARNT2</td>\n",
       "      <td>ARNT2|1/6|08C12</td>\n",
       "      <td>ARNT2|3/6|10D11</td>\n",
       "      <td>NaN</td>\n",
       "      <td>NaN</td>\n",
       "      <td>NaN</td>\n",
       "      <td>NaN</td>\n",
       "      <td>NaN</td>\n",
       "      <td>NaN</td>\n",
       "      <td>NaN</td>\n",
       "      <td>NaN</td>\n",
       "      <td>NaN</td>\n",
       "      <td>NaN</td>\n",
       "      <td>NaN</td>\n",
       "      <td>NaN</td>\n",
       "      <td>NaN</td>\n",
       "      <td>NaN</td>\n",
       "      <td>NaN</td>\n",
       "    </tr>\n",
       "    <tr>\n",
       "      <th>3</th>\n",
       "      <td>ARNT2</td>\n",
       "      <td>ARNT2|2/6|09E01</td>\n",
       "      <td>ARNT2|3/6|10D11</td>\n",
       "      <td>NaN</td>\n",
       "      <td>NaN</td>\n",
       "      <td>NaN</td>\n",
       "      <td>NaN</td>\n",
       "      <td>NaN</td>\n",
       "      <td>NaN</td>\n",
       "      <td>NaN</td>\n",
       "      <td>NaN</td>\n",
       "      <td>NaN</td>\n",
       "      <td>NaN</td>\n",
       "      <td>NaN</td>\n",
       "      <td>NaN</td>\n",
       "      <td>NaN</td>\n",
       "      <td>NaN</td>\n",
       "      <td>NaN</td>\n",
       "    </tr>\n",
       "    <tr>\n",
       "      <th>4</th>\n",
       "      <td>ARNTL</td>\n",
       "      <td>ARNTL|1/2|08H08</td>\n",
       "      <td>ARNTL|2/2|08E08</td>\n",
       "      <td>2.0</td>\n",
       "      <td>0.0</td>\n",
       "      <td>0.0</td>\n",
       "      <td>0.0</td>\n",
       "      <td>0.000000</td>\n",
       "      <td>NaN</td>\n",
       "      <td>2.0</td>\n",
       "      <td>NaN</td>\n",
       "      <td>NaN</td>\n",
       "      <td>NaN</td>\n",
       "      <td>NaN</td>\n",
       "      <td>NaN</td>\n",
       "      <td>NaN</td>\n",
       "      <td>NaN</td>\n",
       "      <td>NaN</td>\n",
       "    </tr>\n",
       "  </tbody>\n",
       "</table>\n",
       "</div>"
      ],
      "text/plain": [
       "  tf_gene_symbol      clone_acc_a      clone_acc_b  ppi_n_tested  \\\n",
       "0          AEBP2  AEBP2|2/3|05F03  AEBP2|3/3|05E07           NaN   \n",
       "1          ARNT2  ARNT2|1/6|08C12  ARNT2|2/6|09E01           9.0   \n",
       "2          ARNT2  ARNT2|1/6|08C12  ARNT2|3/6|10D11           NaN   \n",
       "3          ARNT2  ARNT2|2/6|09E01  ARNT2|3/6|10D11           NaN   \n",
       "4          ARNTL  ARNTL|1/2|08H08  ARNTL|2/2|08E08           2.0   \n",
       "\n",
       "   ppi_n_shared  ppi_n_min  ppi_n_min_diff  ppi_jaccard  ppi_simpsons  \\\n",
       "0           NaN        NaN             NaN          NaN           NaN   \n",
       "1           5.0        5.0             0.0     0.555556           1.0   \n",
       "2           NaN        NaN             NaN          NaN           NaN   \n",
       "3           NaN        NaN             NaN          NaN           NaN   \n",
       "4           0.0        0.0             0.0     0.000000           NaN   \n",
       "\n",
       "   ppi_n_diff  activation_fold_change  pdi_n_tested  pdi_n_shared  pdi_n_min  \\\n",
       "0         NaN                0.535619           NaN           NaN        NaN   \n",
       "1         4.0                2.094800           NaN           NaN        NaN   \n",
       "2         NaN                     NaN           NaN           NaN        NaN   \n",
       "3         NaN                     NaN           NaN           NaN        NaN   \n",
       "4         2.0                     NaN           NaN           NaN        NaN   \n",
       "\n",
       "   pdi_n_min_diff  pdi_jaccard  pdi_simpsons  pdi_n_diff  \n",
       "0             NaN          NaN           NaN         NaN  \n",
       "1             NaN          NaN           NaN         NaN  \n",
       "2             NaN          NaN           NaN         NaN  \n",
       "3             NaN          NaN           NaN         NaN  \n",
       "4             NaN          NaN           NaN         NaN  "
      ]
     },
     "execution_count": 5,
     "metadata": {},
     "output_type": "execute_result"
    }
   ],
   "source": [
    "iso_pairs.head()"
   ]
  },
  {
   "cell_type": "code",
   "execution_count": 6,
   "metadata": {},
   "outputs": [
    {
     "data": {
      "text/plain": [
       "SpearmanrResult(correlation=-0.26507906812599813, pvalue=1.321168465578112e-05)"
      ]
     },
     "execution_count": 6,
     "metadata": {},
     "output_type": "execute_result"
    },
    {
     "data": {
      "image/png": "[encoded data removed]",
      "text/plain": [
       "<Figure size 432x288 with 1 Axes>"
      ]
     },
     "metadata": {
      "needs_background": "light"
     },
     "output_type": "display_data"
    }
   ],
   "source": [
    "x = 'ppi_jaccard'\n",
    "y = 'activation_fold_change'\n",
    "xy = iso_pairs.loc[iso_pairs[x].notnull() & iso_pairs[y].notnull(), :]\n",
    "plt.scatter(xy[x], xy[y])\n",
    "stats.spearmanr(xy[x], xy[y])"
   ]
  },
  {
   "cell_type": "code",
   "execution_count": 7,
   "metadata": {},
   "outputs": [
    {
     "name": "stdout",
     "output_type": "stream",
     "text": [
      "(142, 18)\n"
     ]
    },
    {
     "data": {
      "text/plain": [
       "SpearmanrResult(correlation=-0.26863098874853214, pvalue=0.0012273703760291082)"
      ]
     },
     "execution_count": 7,
     "metadata": {},
     "output_type": "execute_result"
    }
   ],
   "source": [
    "# Check if this result is robust against requiring at least\n",
    "# one interaction partner for both genes.\n",
    "# To see if the effect is driven by non-functional isoforms.\n",
    "x = 'ppi_jaccard'\n",
    "y = 'activation_fold_change'\n",
    "xy = iso_pairs.loc[iso_pairs[x].notnull() &\n",
    "                   iso_pairs[y].notnull() &\n",
    "                   (iso_pairs['ppi_n_min'] >= 1), :]\n",
    "print(xy.shape)\n",
    "stats.spearmanr(xy[x], xy[y])"
   ]
  },
  {
   "cell_type": "code",
   "execution_count": 8,
   "metadata": {},
   "outputs": [
    {
     "name": "stdout",
     "output_type": "stream",
     "text": [
      "(104, 18)\n"
     ]
    },
    {
     "data": {
      "text/plain": [
       "SpearmanrResult(correlation=-0.2500113196982098, pvalue=0.010479425843809722)"
      ]
     },
     "execution_count": 8,
     "metadata": {},
     "output_type": "execute_result"
    },
    {
     "data": {
      "image/png": "[encoded data removed]",
      "text/plain": [
       "<Figure size 432x288 with 1 Axes>"
      ]
     },
     "metadata": {
      "needs_background": "light"
     },
     "output_type": "display_data"
    }
   ],
   "source": [
    "x = 'pdi_jaccard'\n",
    "y = 'activation_fold_change'\n",
    "xy = iso_pairs.loc[iso_pairs[x].notnull() & iso_pairs[y].notnull(), :]\n",
    "print(xy.shape)\n",
    "plt.scatter(xy[x], xy[y])\n",
    "stats.spearmanr(xy[x], xy[y])"
   ]
  },
  {
   "cell_type": "code",
   "execution_count": 9,
   "metadata": {},
   "outputs": [
    {
     "name": "stdout",
     "output_type": "stream",
     "text": [
      "(61, 18)\n"
     ]
    },
    {
     "data": {
      "text/plain": [
       "SpearmanrResult(correlation=0.24032405310412527, pvalue=0.06209683094347522)"
      ]
     },
     "execution_count": 9,
     "metadata": {},
     "output_type": "execute_result"
    },
    {
     "data": {
      "image/png": "[encoded data removed]",
      "text/plain": [
       "<Figure size 432x288 with 1 Axes>"
      ]
     },
     "metadata": {
      "needs_background": "light"
     },
     "output_type": "display_data"
    }
   ],
   "source": [
    "x = 'pdi_jaccard'\n",
    "y = 'ppi_jaccard'\n",
    "xy = iso_pairs.loc[iso_pairs[x].notnull() & iso_pairs[y].notnull(), :]\n",
    "print(xy.shape)\n",
    "plt.scatter(xy[x], xy[y],\n",
    "            alpha=0.3)\n",
    "stats.spearmanr(xy[x], xy[y])"
   ]
  },
  {
   "cell_type": "code",
   "execution_count": 10,
   "metadata": {},
   "outputs": [
    {
     "data": {
      "text/html": [
       "<div>\n",
       "<style scoped>\n",
       "    .dataframe tbody tr th:only-of-type {\n",
       "        vertical-align: middle;\n",
       "    }\n",
       "\n",
       "    .dataframe tbody tr th {\n",
       "        vertical-align: top;\n",
       "    }\n",
       "\n",
       "    .dataframe thead th {\n",
       "        text-align: right;\n",
       "    }\n",
       "</style>\n",
       "<table border=\"1\" class=\"dataframe\">\n",
       "  <thead>\n",
       "    <tr style=\"text-align: right;\">\n",
       "      <th></th>\n",
       "      <th>tf_gene_symbol</th>\n",
       "      <th>clone_acc_a</th>\n",
       "      <th>clone_acc_b</th>\n",
       "      <th>ppi_n_tested</th>\n",
       "      <th>ppi_n_shared</th>\n",
       "      <th>ppi_n_min</th>\n",
       "      <th>ppi_n_min_diff</th>\n",
       "      <th>ppi_jaccard</th>\n",
       "      <th>ppi_simpsons</th>\n",
       "      <th>ppi_n_diff</th>\n",
       "      <th>activation_fold_change</th>\n",
       "      <th>pdi_n_tested</th>\n",
       "      <th>pdi_n_shared</th>\n",
       "      <th>pdi_n_min</th>\n",
       "      <th>pdi_n_min_diff</th>\n",
       "      <th>pdi_jaccard</th>\n",
       "      <th>pdi_simpsons</th>\n",
       "      <th>pdi_n_diff</th>\n",
       "    </tr>\n",
       "  </thead>\n",
       "  <tbody>\n",
       "    <tr>\n",
       "      <th>388</th>\n",
       "      <td>PPARG</td>\n",
       "      <td>PPARG|1/4|10G02</td>\n",
       "      <td>PPARG|3/4|01H02</td>\n",
       "      <td>4.0</td>\n",
       "      <td>0.0</td>\n",
       "      <td>0.0</td>\n",
       "      <td>0.0</td>\n",
       "      <td>0.0</td>\n",
       "      <td>NaN</td>\n",
       "      <td>4.0</td>\n",
       "      <td>3.180428</td>\n",
       "      <td>1.0</td>\n",
       "      <td>0.0</td>\n",
       "      <td>0.0</td>\n",
       "      <td>0.0</td>\n",
       "      <td>0.000000</td>\n",
       "      <td>NaN</td>\n",
       "      <td>1.0</td>\n",
       "    </tr>\n",
       "    <tr>\n",
       "      <th>484</th>\n",
       "      <td>TBX5</td>\n",
       "      <td>TBX5|1/3|08E01</td>\n",
       "      <td>TBX5|3/3|08H01</td>\n",
       "      <td>1.0</td>\n",
       "      <td>0.0</td>\n",
       "      <td>0.0</td>\n",
       "      <td>0.0</td>\n",
       "      <td>0.0</td>\n",
       "      <td>NaN</td>\n",
       "      <td>1.0</td>\n",
       "      <td>3.168219</td>\n",
       "      <td>12.0</td>\n",
       "      <td>4.0</td>\n",
       "      <td>4.0</td>\n",
       "      <td>0.0</td>\n",
       "      <td>0.333333</td>\n",
       "      <td>1.0</td>\n",
       "      <td>8.0</td>\n",
       "    </tr>\n",
       "    <tr>\n",
       "      <th>390</th>\n",
       "      <td>PPARG</td>\n",
       "      <td>PPARG|2/4|10F03</td>\n",
       "      <td>PPARG|3/4|01H02</td>\n",
       "      <td>5.0</td>\n",
       "      <td>0.0</td>\n",
       "      <td>0.0</td>\n",
       "      <td>0.0</td>\n",
       "      <td>0.0</td>\n",
       "      <td>NaN</td>\n",
       "      <td>5.0</td>\n",
       "      <td>2.969130</td>\n",
       "      <td>1.0</td>\n",
       "      <td>0.0</td>\n",
       "      <td>0.0</td>\n",
       "      <td>0.0</td>\n",
       "      <td>0.000000</td>\n",
       "      <td>NaN</td>\n",
       "      <td>1.0</td>\n",
       "    </tr>\n",
       "    <tr>\n",
       "      <th>48</th>\n",
       "      <td>E2F3</td>\n",
       "      <td>E2F3|2/4|10A08</td>\n",
       "      <td>E2F3|4/4|10G08</td>\n",
       "      <td>4.0</td>\n",
       "      <td>0.0</td>\n",
       "      <td>0.0</td>\n",
       "      <td>0.0</td>\n",
       "      <td>0.0</td>\n",
       "      <td>NaN</td>\n",
       "      <td>4.0</td>\n",
       "      <td>2.662217</td>\n",
       "      <td>1.0</td>\n",
       "      <td>0.0</td>\n",
       "      <td>0.0</td>\n",
       "      <td>0.0</td>\n",
       "      <td>0.000000</td>\n",
       "      <td>NaN</td>\n",
       "      <td>1.0</td>\n",
       "    </tr>\n",
       "    <tr>\n",
       "      <th>176</th>\n",
       "      <td>HNF4A</td>\n",
       "      <td>HNF4A|3/6|10C08</td>\n",
       "      <td>HNF4A|4/6|10A10</td>\n",
       "      <td>1.0</td>\n",
       "      <td>0.0</td>\n",
       "      <td>0.0</td>\n",
       "      <td>0.0</td>\n",
       "      <td>0.0</td>\n",
       "      <td>NaN</td>\n",
       "      <td>1.0</td>\n",
       "      <td>2.447053</td>\n",
       "      <td>7.0</td>\n",
       "      <td>6.0</td>\n",
       "      <td>6.0</td>\n",
       "      <td>0.0</td>\n",
       "      <td>0.857143</td>\n",
       "      <td>1.0</td>\n",
       "      <td>1.0</td>\n",
       "    </tr>\n",
       "  </tbody>\n",
       "</table>\n",
       "</div>"
      ],
      "text/plain": [
       "    tf_gene_symbol      clone_acc_a      clone_acc_b  ppi_n_tested  \\\n",
       "388          PPARG  PPARG|1/4|10G02  PPARG|3/4|01H02           4.0   \n",
       "484           TBX5   TBX5|1/3|08E01   TBX5|3/3|08H01           1.0   \n",
       "390          PPARG  PPARG|2/4|10F03  PPARG|3/4|01H02           5.0   \n",
       "48            E2F3   E2F3|2/4|10A08   E2F3|4/4|10G08           4.0   \n",
       "176          HNF4A  HNF4A|3/6|10C08  HNF4A|4/6|10A10           1.0   \n",
       "\n",
       "     ppi_n_shared  ppi_n_min  ppi_n_min_diff  ppi_jaccard  ppi_simpsons  \\\n",
       "388           0.0        0.0             0.0          0.0           NaN   \n",
       "484           0.0        0.0             0.0          0.0           NaN   \n",
       "390           0.0        0.0             0.0          0.0           NaN   \n",
       "48            0.0        0.0             0.0          0.0           NaN   \n",
       "176           0.0        0.0             0.0          0.0           NaN   \n",
       "\n",
       "     ppi_n_diff  activation_fold_change  pdi_n_tested  pdi_n_shared  \\\n",
       "388         4.0                3.180428           1.0           0.0   \n",
       "484         1.0                3.168219          12.0           4.0   \n",
       "390         5.0                2.969130           1.0           0.0   \n",
       "48          4.0                2.662217           1.0           0.0   \n",
       "176         1.0                2.447053           7.0           6.0   \n",
       "\n",
       "     pdi_n_min  pdi_n_min_diff  pdi_jaccard  pdi_simpsons  pdi_n_diff  \n",
       "388        0.0             0.0     0.000000           NaN         1.0  \n",
       "484        4.0             0.0     0.333333           1.0         8.0  \n",
       "390        0.0             0.0     0.000000           NaN         1.0  \n",
       "48         0.0             0.0     0.000000           NaN         1.0  \n",
       "176        6.0             0.0     0.857143           1.0         1.0  "
      ]
     },
     "execution_count": 10,
     "metadata": {},
     "output_type": "execute_result"
    }
   ],
   "source": [
    "xy.sort_values('activation_fold_change', ascending=False).head()"
   ]
  },
  {
   "cell_type": "code",
   "execution_count": 11,
   "metadata": {},
   "outputs": [],
   "source": [
    "# Look at direction of activation change? I.e. is the isoform with less binding partners\n",
    "# the one with activation closer to 0?"
   ]
  },
  {
   "cell_type": "code",
   "execution_count": 12,
   "metadata": {},
   "outputs": [
    {
     "data": {
      "text/html": [
       "<div>\n",
       "<style scoped>\n",
       "    .dataframe tbody tr th:only-of-type {\n",
       "        vertical-align: middle;\n",
       "    }\n",
       "\n",
       "    .dataframe tbody tr th {\n",
       "        vertical-align: top;\n",
       "    }\n",
       "\n",
       "    .dataframe thead th {\n",
       "        text-align: right;\n",
       "    }\n",
       "</style>\n",
       "<table border=\"1\" class=\"dataframe\">\n",
       "  <thead>\n",
       "    <tr style=\"text-align: right;\">\n",
       "      <th></th>\n",
       "      <th>tf_gene_symbol</th>\n",
       "      <th>clone_acc_a</th>\n",
       "      <th>clone_acc_b</th>\n",
       "      <th>ppi_n_tested</th>\n",
       "      <th>ppi_n_shared</th>\n",
       "      <th>ppi_n_min</th>\n",
       "      <th>ppi_n_min_diff</th>\n",
       "      <th>ppi_jaccard</th>\n",
       "      <th>ppi_simpsons</th>\n",
       "      <th>ppi_n_diff</th>\n",
       "      <th>activation_fold_change</th>\n",
       "      <th>pdi_n_tested</th>\n",
       "      <th>pdi_n_shared</th>\n",
       "      <th>pdi_n_min</th>\n",
       "      <th>pdi_n_min_diff</th>\n",
       "      <th>pdi_jaccard</th>\n",
       "      <th>pdi_simpsons</th>\n",
       "      <th>pdi_n_diff</th>\n",
       "    </tr>\n",
       "  </thead>\n",
       "  <tbody>\n",
       "    <tr>\n",
       "      <th>644</th>\n",
       "      <td>ZBTB44</td>\n",
       "      <td>ZBTB44|1/9|12B06</td>\n",
       "      <td>ZBTB44|4/9|10H06</td>\n",
       "      <td>15.0</td>\n",
       "      <td>5.0</td>\n",
       "      <td>9.0</td>\n",
       "      <td>4.0</td>\n",
       "      <td>0.333333</td>\n",
       "      <td>0.555556</td>\n",
       "      <td>10.0</td>\n",
       "      <td>1.324958</td>\n",
       "      <td>NaN</td>\n",
       "      <td>NaN</td>\n",
       "      <td>NaN</td>\n",
       "      <td>NaN</td>\n",
       "      <td>NaN</td>\n",
       "      <td>NaN</td>\n",
       "      <td>NaN</td>\n",
       "    </tr>\n",
       "    <tr>\n",
       "      <th>354</th>\n",
       "      <td>PATZ1</td>\n",
       "      <td>PATZ1|1/4|02C02</td>\n",
       "      <td>PATZ1|3/4|02A04</td>\n",
       "      <td>18.0</td>\n",
       "      <td>12.0</td>\n",
       "      <td>15.0</td>\n",
       "      <td>3.0</td>\n",
       "      <td>0.666667</td>\n",
       "      <td>0.800000</td>\n",
       "      <td>6.0</td>\n",
       "      <td>1.239169</td>\n",
       "      <td>NaN</td>\n",
       "      <td>NaN</td>\n",
       "      <td>NaN</td>\n",
       "      <td>NaN</td>\n",
       "      <td>NaN</td>\n",
       "      <td>NaN</td>\n",
       "      <td>NaN</td>\n",
       "    </tr>\n",
       "    <tr>\n",
       "      <th>513</th>\n",
       "      <td>TCF4</td>\n",
       "      <td>TCF4|5/9|07C02</td>\n",
       "      <td>TCF4|7/9|07G03</td>\n",
       "      <td>58.0</td>\n",
       "      <td>46.0</td>\n",
       "      <td>49.0</td>\n",
       "      <td>3.0</td>\n",
       "      <td>0.793103</td>\n",
       "      <td>0.938776</td>\n",
       "      <td>12.0</td>\n",
       "      <td>2.090708</td>\n",
       "      <td>NaN</td>\n",
       "      <td>NaN</td>\n",
       "      <td>NaN</td>\n",
       "      <td>NaN</td>\n",
       "      <td>NaN</td>\n",
       "      <td>NaN</td>\n",
       "      <td>NaN</td>\n",
       "    </tr>\n",
       "    <tr>\n",
       "      <th>645</th>\n",
       "      <td>ZBTB44</td>\n",
       "      <td>ZBTB44|1/9|12B06</td>\n",
       "      <td>ZBTB44|5/9|10H05</td>\n",
       "      <td>15.0</td>\n",
       "      <td>6.0</td>\n",
       "      <td>9.0</td>\n",
       "      <td>3.0</td>\n",
       "      <td>0.400000</td>\n",
       "      <td>0.666667</td>\n",
       "      <td>9.0</td>\n",
       "      <td>1.493713</td>\n",
       "      <td>NaN</td>\n",
       "      <td>NaN</td>\n",
       "      <td>NaN</td>\n",
       "      <td>NaN</td>\n",
       "      <td>NaN</td>\n",
       "      <td>NaN</td>\n",
       "      <td>NaN</td>\n",
       "    </tr>\n",
       "    <tr>\n",
       "      <th>811</th>\n",
       "      <td>ZNF451</td>\n",
       "      <td>ZNF451|6/8|05H11</td>\n",
       "      <td>ZNF451|7/8|06D01</td>\n",
       "      <td>8.0</td>\n",
       "      <td>1.0</td>\n",
       "      <td>4.0</td>\n",
       "      <td>3.0</td>\n",
       "      <td>0.125000</td>\n",
       "      <td>0.250000</td>\n",
       "      <td>7.0</td>\n",
       "      <td>1.485041</td>\n",
       "      <td>NaN</td>\n",
       "      <td>NaN</td>\n",
       "      <td>NaN</td>\n",
       "      <td>NaN</td>\n",
       "      <td>NaN</td>\n",
       "      <td>NaN</td>\n",
       "      <td>NaN</td>\n",
       "    </tr>\n",
       "    <tr>\n",
       "      <th>587</th>\n",
       "      <td>TFEC</td>\n",
       "      <td>TFEC|2/6|04A02</td>\n",
       "      <td>TFEC|5/6|04A01</td>\n",
       "      <td>5.0</td>\n",
       "      <td>0.0</td>\n",
       "      <td>2.0</td>\n",
       "      <td>2.0</td>\n",
       "      <td>0.000000</td>\n",
       "      <td>0.000000</td>\n",
       "      <td>5.0</td>\n",
       "      <td>NaN</td>\n",
       "      <td>NaN</td>\n",
       "      <td>NaN</td>\n",
       "      <td>NaN</td>\n",
       "      <td>NaN</td>\n",
       "      <td>NaN</td>\n",
       "      <td>NaN</td>\n",
       "      <td>NaN</td>\n",
       "    </tr>\n",
       "    <tr>\n",
       "      <th>514</th>\n",
       "      <td>TCF4</td>\n",
       "      <td>TCF4|5/9|07C02</td>\n",
       "      <td>TCF4|8/9|07A05</td>\n",
       "      <td>46.0</td>\n",
       "      <td>33.0</td>\n",
       "      <td>35.0</td>\n",
       "      <td>2.0</td>\n",
       "      <td>0.717391</td>\n",
       "      <td>0.942857</td>\n",
       "      <td>13.0</td>\n",
       "      <td>1.825006</td>\n",
       "      <td>NaN</td>\n",
       "      <td>NaN</td>\n",
       "      <td>NaN</td>\n",
       "      <td>NaN</td>\n",
       "      <td>NaN</td>\n",
       "      <td>NaN</td>\n",
       "      <td>NaN</td>\n",
       "    </tr>\n",
       "    <tr>\n",
       "      <th>643</th>\n",
       "      <td>ZBTB44</td>\n",
       "      <td>ZBTB44|1/9|12B06</td>\n",
       "      <td>ZBTB44|3/9|10B06</td>\n",
       "      <td>15.0</td>\n",
       "      <td>7.0</td>\n",
       "      <td>9.0</td>\n",
       "      <td>2.0</td>\n",
       "      <td>0.466667</td>\n",
       "      <td>0.777778</td>\n",
       "      <td>8.0</td>\n",
       "      <td>1.525376</td>\n",
       "      <td>NaN</td>\n",
       "      <td>NaN</td>\n",
       "      <td>NaN</td>\n",
       "      <td>NaN</td>\n",
       "      <td>NaN</td>\n",
       "      <td>NaN</td>\n",
       "      <td>NaN</td>\n",
       "    </tr>\n",
       "    <tr>\n",
       "      <th>655</th>\n",
       "      <td>ZBTB44</td>\n",
       "      <td>ZBTB44|3/9|10B06</td>\n",
       "      <td>ZBTB44|6/9|12H02</td>\n",
       "      <td>13.0</td>\n",
       "      <td>9.0</td>\n",
       "      <td>11.0</td>\n",
       "      <td>2.0</td>\n",
       "      <td>0.692308</td>\n",
       "      <td>0.818182</td>\n",
       "      <td>4.0</td>\n",
       "      <td>0.080167</td>\n",
       "      <td>NaN</td>\n",
       "      <td>NaN</td>\n",
       "      <td>NaN</td>\n",
       "      <td>NaN</td>\n",
       "      <td>NaN</td>\n",
       "      <td>NaN</td>\n",
       "      <td>NaN</td>\n",
       "    </tr>\n",
       "    <tr>\n",
       "      <th>801</th>\n",
       "      <td>ZNF451</td>\n",
       "      <td>ZNF451|3/8|06A03</td>\n",
       "      <td>ZNF451|6/8|05H11</td>\n",
       "      <td>7.0</td>\n",
       "      <td>1.0</td>\n",
       "      <td>3.0</td>\n",
       "      <td>2.0</td>\n",
       "      <td>0.142857</td>\n",
       "      <td>0.333333</td>\n",
       "      <td>6.0</td>\n",
       "      <td>0.201770</td>\n",
       "      <td>NaN</td>\n",
       "      <td>NaN</td>\n",
       "      <td>NaN</td>\n",
       "      <td>NaN</td>\n",
       "      <td>NaN</td>\n",
       "      <td>NaN</td>\n",
       "      <td>NaN</td>\n",
       "    </tr>\n",
       "    <tr>\n",
       "      <th>646</th>\n",
       "      <td>ZBTB44</td>\n",
       "      <td>ZBTB44|1/9|12B06</td>\n",
       "      <td>ZBTB44|6/9|12H02</td>\n",
       "      <td>13.0</td>\n",
       "      <td>7.0</td>\n",
       "      <td>9.0</td>\n",
       "      <td>2.0</td>\n",
       "      <td>0.538462</td>\n",
       "      <td>0.777778</td>\n",
       "      <td>6.0</td>\n",
       "      <td>1.445209</td>\n",
       "      <td>NaN</td>\n",
       "      <td>NaN</td>\n",
       "      <td>NaN</td>\n",
       "      <td>NaN</td>\n",
       "      <td>NaN</td>\n",
       "      <td>NaN</td>\n",
       "      <td>NaN</td>\n",
       "    </tr>\n",
       "    <tr>\n",
       "      <th>658</th>\n",
       "      <td>ZBTB44</td>\n",
       "      <td>ZBTB44|4/9|10H06</td>\n",
       "      <td>ZBTB44|6/9|12H02</td>\n",
       "      <td>13.0</td>\n",
       "      <td>7.0</td>\n",
       "      <td>9.0</td>\n",
       "      <td>2.0</td>\n",
       "      <td>0.538462</td>\n",
       "      <td>0.777778</td>\n",
       "      <td>6.0</td>\n",
       "      <td>0.120251</td>\n",
       "      <td>NaN</td>\n",
       "      <td>NaN</td>\n",
       "      <td>NaN</td>\n",
       "      <td>NaN</td>\n",
       "      <td>NaN</td>\n",
       "      <td>NaN</td>\n",
       "      <td>NaN</td>\n",
       "    </tr>\n",
       "    <tr>\n",
       "      <th>802</th>\n",
       "      <td>ZNF451</td>\n",
       "      <td>ZNF451|3/8|06A03</td>\n",
       "      <td>ZNF451|7/8|06D01</td>\n",
       "      <td>7.0</td>\n",
       "      <td>1.0</td>\n",
       "      <td>3.0</td>\n",
       "      <td>2.0</td>\n",
       "      <td>0.142857</td>\n",
       "      <td>0.333333</td>\n",
       "      <td>6.0</td>\n",
       "      <td>1.686811</td>\n",
       "      <td>NaN</td>\n",
       "      <td>NaN</td>\n",
       "      <td>NaN</td>\n",
       "      <td>NaN</td>\n",
       "      <td>NaN</td>\n",
       "      <td>NaN</td>\n",
       "      <td>NaN</td>\n",
       "    </tr>\n",
       "    <tr>\n",
       "      <th>660</th>\n",
       "      <td>ZBTB44</td>\n",
       "      <td>ZBTB44|5/9|10H05</td>\n",
       "      <td>ZBTB44|6/9|12H02</td>\n",
       "      <td>13.0</td>\n",
       "      <td>8.0</td>\n",
       "      <td>10.0</td>\n",
       "      <td>2.0</td>\n",
       "      <td>0.615385</td>\n",
       "      <td>0.800000</td>\n",
       "      <td>5.0</td>\n",
       "      <td>0.048504</td>\n",
       "      <td>NaN</td>\n",
       "      <td>NaN</td>\n",
       "      <td>NaN</td>\n",
       "      <td>NaN</td>\n",
       "      <td>NaN</td>\n",
       "      <td>NaN</td>\n",
       "      <td>NaN</td>\n",
       "    </tr>\n",
       "    <tr>\n",
       "      <th>888</th>\n",
       "      <td>ZSCAN18</td>\n",
       "      <td>ZSCAN18|1/7|09F02</td>\n",
       "      <td>ZSCAN18|2/7|09A01</td>\n",
       "      <td>16.0</td>\n",
       "      <td>0.0</td>\n",
       "      <td>2.0</td>\n",
       "      <td>2.0</td>\n",
       "      <td>0.000000</td>\n",
       "      <td>0.000000</td>\n",
       "      <td>16.0</td>\n",
       "      <td>3.572874</td>\n",
       "      <td>NaN</td>\n",
       "      <td>NaN</td>\n",
       "      <td>NaN</td>\n",
       "      <td>NaN</td>\n",
       "      <td>NaN</td>\n",
       "      <td>NaN</td>\n",
       "      <td>NaN</td>\n",
       "    </tr>\n",
       "    <tr>\n",
       "      <th>353</th>\n",
       "      <td>PATZ1</td>\n",
       "      <td>PATZ1|1/4|02C02</td>\n",
       "      <td>PATZ1|2/4|02D04</td>\n",
       "      <td>15.0</td>\n",
       "      <td>4.0</td>\n",
       "      <td>6.0</td>\n",
       "      <td>2.0</td>\n",
       "      <td>0.266667</td>\n",
       "      <td>0.666667</td>\n",
       "      <td>11.0</td>\n",
       "      <td>1.873488</td>\n",
       "      <td>NaN</td>\n",
       "      <td>NaN</td>\n",
       "      <td>NaN</td>\n",
       "      <td>NaN</td>\n",
       "      <td>NaN</td>\n",
       "      <td>NaN</td>\n",
       "      <td>NaN</td>\n",
       "    </tr>\n",
       "    <tr>\n",
       "      <th>492</th>\n",
       "      <td>TCF4</td>\n",
       "      <td>TCF4|1/9|07E01</td>\n",
       "      <td>TCF4|4/9|07G02</td>\n",
       "      <td>122.0</td>\n",
       "      <td>119.0</td>\n",
       "      <td>120.0</td>\n",
       "      <td>1.0</td>\n",
       "      <td>0.975410</td>\n",
       "      <td>0.991667</td>\n",
       "      <td>3.0</td>\n",
       "      <td>0.699990</td>\n",
       "      <td>19.0</td>\n",
       "      <td>15.0</td>\n",
       "      <td>16.0</td>\n",
       "      <td>1.0</td>\n",
       "      <td>0.789474</td>\n",
       "      <td>0.9375</td>\n",
       "      <td>4.0</td>\n",
       "    </tr>\n",
       "    <tr>\n",
       "      <th>491</th>\n",
       "      <td>TCF4</td>\n",
       "      <td>TCF4|1/9|07E01</td>\n",
       "      <td>TCF4|3/9|07C04</td>\n",
       "      <td>120.0</td>\n",
       "      <td>117.0</td>\n",
       "      <td>118.0</td>\n",
       "      <td>1.0</td>\n",
       "      <td>0.975000</td>\n",
       "      <td>0.991525</td>\n",
       "      <td>3.0</td>\n",
       "      <td>0.621134</td>\n",
       "      <td>NaN</td>\n",
       "      <td>NaN</td>\n",
       "      <td>NaN</td>\n",
       "      <td>NaN</td>\n",
       "      <td>NaN</td>\n",
       "      <td>NaN</td>\n",
       "      <td>NaN</td>\n",
       "    </tr>\n",
       "    <tr>\n",
       "      <th>490</th>\n",
       "      <td>TCF4</td>\n",
       "      <td>TCF4|1/9|07E01</td>\n",
       "      <td>TCF4|2/9|07E03</td>\n",
       "      <td>130.0</td>\n",
       "      <td>127.0</td>\n",
       "      <td>128.0</td>\n",
       "      <td>1.0</td>\n",
       "      <td>0.976923</td>\n",
       "      <td>0.992188</td>\n",
       "      <td>3.0</td>\n",
       "      <td>0.102610</td>\n",
       "      <td>18.0</td>\n",
       "      <td>16.0</td>\n",
       "      <td>16.0</td>\n",
       "      <td>0.0</td>\n",
       "      <td>0.888889</td>\n",
       "      <td>1.0000</td>\n",
       "      <td>2.0</td>\n",
       "    </tr>\n",
       "    <tr>\n",
       "      <th>73</th>\n",
       "      <td>ESRRG</td>\n",
       "      <td>ESRRG|1/2|09B10</td>\n",
       "      <td>ESRRG|2/2|09C10</td>\n",
       "      <td>10.0</td>\n",
       "      <td>8.0</td>\n",
       "      <td>9.0</td>\n",
       "      <td>1.0</td>\n",
       "      <td>0.800000</td>\n",
       "      <td>0.888889</td>\n",
       "      <td>2.0</td>\n",
       "      <td>1.955542</td>\n",
       "      <td>NaN</td>\n",
       "      <td>NaN</td>\n",
       "      <td>NaN</td>\n",
       "      <td>NaN</td>\n",
       "      <td>NaN</td>\n",
       "      <td>NaN</td>\n",
       "      <td>NaN</td>\n",
       "    </tr>\n",
       "  </tbody>\n",
       "</table>\n",
       "</div>"
      ],
      "text/plain": [
       "    tf_gene_symbol        clone_acc_a        clone_acc_b  ppi_n_tested  \\\n",
       "644         ZBTB44   ZBTB44|1/9|12B06   ZBTB44|4/9|10H06          15.0   \n",
       "354          PATZ1    PATZ1|1/4|02C02    PATZ1|3/4|02A04          18.0   \n",
       "513           TCF4     TCF4|5/9|07C02     TCF4|7/9|07G03          58.0   \n",
       "645         ZBTB44   ZBTB44|1/9|12B06   ZBTB44|5/9|10H05          15.0   \n",
       "811         ZNF451   ZNF451|6/8|05H11   ZNF451|7/8|06D01           8.0   \n",
       "587           TFEC     TFEC|2/6|04A02     TFEC|5/6|04A01           5.0   \n",
       "514           TCF4     TCF4|5/9|07C02     TCF4|8/9|07A05          46.0   \n",
       "643         ZBTB44   ZBTB44|1/9|12B06   ZBTB44|3/9|10B06          15.0   \n",
       "655         ZBTB44   ZBTB44|3/9|10B06   ZBTB44|6/9|12H02          13.0   \n",
       "801         ZNF451   ZNF451|3/8|06A03   ZNF451|6/8|05H11           7.0   \n",
       "646         ZBTB44   ZBTB44|1/9|12B06   ZBTB44|6/9|12H02          13.0   \n",
       "658         ZBTB44   ZBTB44|4/9|10H06   ZBTB44|6/9|12H02          13.0   \n",
       "802         ZNF451   ZNF451|3/8|06A03   ZNF451|7/8|06D01           7.0   \n",
       "660         ZBTB44   ZBTB44|5/9|10H05   ZBTB44|6/9|12H02          13.0   \n",
       "888        ZSCAN18  ZSCAN18|1/7|09F02  ZSCAN18|2/7|09A01          16.0   \n",
       "353          PATZ1    PATZ1|1/4|02C02    PATZ1|2/4|02D04          15.0   \n",
       "492           TCF4     TCF4|1/9|07E01     TCF4|4/9|07G02         122.0   \n",
       "491           TCF4     TCF4|1/9|07E01     TCF4|3/9|07C04         120.0   \n",
       "490           TCF4     TCF4|1/9|07E01     TCF4|2/9|07E03         130.0   \n",
       "73           ESRRG    ESRRG|1/2|09B10    ESRRG|2/2|09C10          10.0   \n",
       "\n",
       "     ppi_n_shared  ppi_n_min  ppi_n_min_diff  ppi_jaccard  ppi_simpsons  \\\n",
       "644           5.0        9.0             4.0     0.333333      0.555556   \n",
       "354          12.0       15.0             3.0     0.666667      0.800000   \n",
       "513          46.0       49.0             3.0     0.793103      0.938776   \n",
       "645           6.0        9.0             3.0     0.400000      0.666667   \n",
       "811           1.0        4.0             3.0     0.125000      0.250000   \n",
       "587           0.0        2.0             2.0     0.000000      0.000000   \n",
       "514          33.0       35.0             2.0     0.717391      0.942857   \n",
       "643           7.0        9.0             2.0     0.466667      0.777778   \n",
       "655           9.0       11.0             2.0     0.692308      0.818182   \n",
       "801           1.0        3.0             2.0     0.142857      0.333333   \n",
       "646           7.0        9.0             2.0     0.538462      0.777778   \n",
       "658           7.0        9.0             2.0     0.538462      0.777778   \n",
       "802           1.0        3.0             2.0     0.142857      0.333333   \n",
       "660           8.0       10.0             2.0     0.615385      0.800000   \n",
       "888           0.0        2.0             2.0     0.000000      0.000000   \n",
       "353           4.0        6.0             2.0     0.266667      0.666667   \n",
       "492         119.0      120.0             1.0     0.975410      0.991667   \n",
       "491         117.0      118.0             1.0     0.975000      0.991525   \n",
       "490         127.0      128.0             1.0     0.976923      0.992188   \n",
       "73            8.0        9.0             1.0     0.800000      0.888889   \n",
       "\n",
       "     ppi_n_diff  activation_fold_change  pdi_n_tested  pdi_n_shared  \\\n",
       "644        10.0                1.324958           NaN           NaN   \n",
       "354         6.0                1.239169           NaN           NaN   \n",
       "513        12.0                2.090708           NaN           NaN   \n",
       "645         9.0                1.493713           NaN           NaN   \n",
       "811         7.0                1.485041           NaN           NaN   \n",
       "587         5.0                     NaN           NaN           NaN   \n",
       "514        13.0                1.825006           NaN           NaN   \n",
       "643         8.0                1.525376           NaN           NaN   \n",
       "655         4.0                0.080167           NaN           NaN   \n",
       "801         6.0                0.201770           NaN           NaN   \n",
       "646         6.0                1.445209           NaN           NaN   \n",
       "658         6.0                0.120251           NaN           NaN   \n",
       "802         6.0                1.686811           NaN           NaN   \n",
       "660         5.0                0.048504           NaN           NaN   \n",
       "888        16.0                3.572874           NaN           NaN   \n",
       "353        11.0                1.873488           NaN           NaN   \n",
       "492         3.0                0.699990          19.0          15.0   \n",
       "491         3.0                0.621134           NaN           NaN   \n",
       "490         3.0                0.102610          18.0          16.0   \n",
       "73          2.0                1.955542           NaN           NaN   \n",
       "\n",
       "     pdi_n_min  pdi_n_min_diff  pdi_jaccard  pdi_simpsons  pdi_n_diff  \n",
       "644        NaN             NaN          NaN           NaN         NaN  \n",
       "354        NaN             NaN          NaN           NaN         NaN  \n",
       "513        NaN             NaN          NaN           NaN         NaN  \n",
       "645        NaN             NaN          NaN           NaN         NaN  \n",
       "811        NaN             NaN          NaN           NaN         NaN  \n",
       "587        NaN             NaN          NaN           NaN         NaN  \n",
       "514        NaN             NaN          NaN           NaN         NaN  \n",
       "643        NaN             NaN          NaN           NaN         NaN  \n",
       "655        NaN             NaN          NaN           NaN         NaN  \n",
       "801        NaN             NaN          NaN           NaN         NaN  \n",
       "646        NaN             NaN          NaN           NaN         NaN  \n",
       "658        NaN             NaN          NaN           NaN         NaN  \n",
       "802        NaN             NaN          NaN           NaN         NaN  \n",
       "660        NaN             NaN          NaN           NaN         NaN  \n",
       "888        NaN             NaN          NaN           NaN         NaN  \n",
       "353        NaN             NaN          NaN           NaN         NaN  \n",
       "492       16.0             1.0     0.789474        0.9375         4.0  \n",
       "491        NaN             NaN          NaN           NaN         NaN  \n",
       "490       16.0             0.0     0.888889        1.0000         2.0  \n",
       "73         NaN             NaN          NaN           NaN         NaN  "
      ]
     },
     "execution_count": 12,
     "metadata": {},
     "output_type": "execute_result"
    }
   ],
   "source": [
    "iso_pairs.sort_values('ppi_n_min_diff',\n",
    "                      ascending=False).head(20)"
   ]
  },
  {
   "cell_type": "code",
   "execution_count": 13,
   "metadata": {},
   "outputs": [
    {
     "data": {
      "text/plain": [
       "164"
      ]
     },
     "execution_count": 13,
     "metadata": {},
     "output_type": "execute_result"
    }
   ],
   "source": [
    "y2h.loc[y2h['category'] == 'tf_isoform_ppis', 'ad_gene_symbol'].nunique()"
   ]
  },
  {
   "cell_type": "code",
   "execution_count": 14,
   "metadata": {},
   "outputs": [],
   "source": [
    "# Plot degree of binding partners vs. fraction of isoforms interacting"
   ]
  },
  {
   "cell_type": "code",
   "execution_count": 15,
   "metadata": {},
   "outputs": [
    {
     "data": {
      "image/png": "[encoded data removed]",
      "text/plain": [
       "<Figure size 432x288 with 1 Axes>"
      ]
     },
     "metadata": {
      "needs_background": "light"
     },
     "output_type": "display_data"
    }
   ],
   "source": [
    "#    - Number of isoforms per TF gene\n",
    "\n",
    "# remove isoform counts of 1?\n",
    "n_iso = y2h.loc[y2h['category'] == 'tf_isoform_ppis', :].groupby('ad_gene_symbol').nunique()['ad_clone_acc']\n",
    "fig, ax = plt.subplots(1, 1)\n",
    "ax.bar(n_iso.value_counts().index,\n",
    "       n_iso.value_counts().values)\n",
    "ax.set_xticks(range(1, 11))\n",
    "ax.set_xlabel('Number of isoforms')\n",
    "ax.set_ylabel('Number of TF genes with PPI data');"
   ]
  },
  {
   "cell_type": "code",
   "execution_count": 16,
   "metadata": {},
   "outputs": [
    {
     "data": {
      "image/png": "[encoded data removed]",
      "text/plain": [
       "<Figure size 432x288 with 1 Axes>"
      ]
     },
     "metadata": {
      "needs_background": "light"
     },
     "output_type": "display_data"
    }
   ],
   "source": [
    "#    - Number of partners per TF gene\n",
    "\n",
    "n_ppi = y2h.loc[y2h['category'] == 'tf_isoform_ppis', :].groupby('ad_gene_symbol').nunique()['db_gene_symbol']\n",
    "fig, ax = plt.subplots(1, 1)\n",
    "ax.hist(n_ppi.values, range=(0.5, n_ppi.max() + 0.5), bins=n_ppi.max())\n",
    "ax.set_xlabel('Number of PPI partners')\n",
    "ax.set_ylabel('Number of TF genes');"
   ]
  },
  {
   "cell_type": "code",
   "execution_count": 17,
   "metadata": {},
   "outputs": [
    {
     "name": "stdout",
     "output_type": "stream",
     "text": [
      "Of 440 isoforms, 242 have at least one positive interation\n"
     ]
    }
   ],
   "source": [
    "#    - How many isoforms have 0 interactions?\n",
    "a = y2h.loc[(y2h['category'] == 'tf_isoform_ppis'),\n",
    "           'ad_clone_acc'].nunique()\n",
    "b = y2h.loc[(y2h['category'] == 'tf_isoform_ppis') &\n",
    "           (y2h['score'] == '1'),\n",
    "           'ad_clone_acc'].nunique()\n",
    "print('Of {} isoforms, {} have at least one positive interation'.format(a, b))"
   ]
  },
  {
   "cell_type": "code",
   "execution_count": 18,
   "metadata": {},
   "outputs": [
    {
     "name": "stdout",
     "output_type": "stream",
     "text": [
      "Of 914 tested partners, 728 had at least one positive result\n"
     ]
    }
   ],
   "source": [
    "#    - How many partners were negative in all pairwise tests?\n",
    "a = y2h.loc[(y2h['category'] == 'tf_isoform_ppis'),\n",
    "           'db_gene_symbol'].nunique()\n",
    "b = y2h.loc[(y2h['category'] == 'tf_isoform_ppis') &\n",
    "           (y2h['score'] == '1'),\n",
    "           'db_gene_symbol'].nunique()\n",
    "print('Of {} tested partners, {} had at least one positive result'.format(a, b))"
   ]
  },
  {
   "cell_type": "code",
   "execution_count": 19,
   "metadata": {},
   "outputs": [],
   "source": [
    "a = y2h.loc[(y2h['category'] == 'tf_isoform_ppis'),\n",
    "           'db_gene_symbol'].unique()\n",
    "b = y2h.loc[(y2h['category'] == 'tf_isoform_ppis') &\n",
    "           (y2h['score'] == '1'),\n",
    "           'db_gene_symbol'].unique()\n",
    "c = set(a).difference(set(b))"
   ]
  },
  {
   "cell_type": "code",
   "execution_count": 20,
   "metadata": {},
   "outputs": [
    {
     "data": {
      "text/html": [
       "<div>\n",
       "<style scoped>\n",
       "    .dataframe tbody tr th:only-of-type {\n",
       "        vertical-align: middle;\n",
       "    }\n",
       "\n",
       "    .dataframe tbody tr th {\n",
       "        vertical-align: top;\n",
       "    }\n",
       "\n",
       "    .dataframe thead th {\n",
       "        text-align: right;\n",
       "    }\n",
       "</style>\n",
       "<table border=\"1\" class=\"dataframe\">\n",
       "  <thead>\n",
       "    <tr style=\"text-align: right;\">\n",
       "      <th></th>\n",
       "      <th>category</th>\n",
       "      <th>ad_orf_id</th>\n",
       "      <th>ad_clone_acc</th>\n",
       "      <th>ad_gene_symbol</th>\n",
       "      <th>db_orf_id</th>\n",
       "      <th>db_gene_symbol</th>\n",
       "      <th>score</th>\n",
       "    </tr>\n",
       "  </thead>\n",
       "  <tbody>\n",
       "    <tr>\n",
       "      <th>57</th>\n",
       "      <td>tf_isoform_ppis</td>\n",
       "      <td>101216</td>\n",
       "      <td>GATA1|1/2|08A02</td>\n",
       "      <td>GATA1</td>\n",
       "      <td>1579</td>\n",
       "      <td>TEKT4</td>\n",
       "      <td>0</td>\n",
       "    </tr>\n",
       "    <tr>\n",
       "      <th>103</th>\n",
       "      <td>tf_isoform_ppis</td>\n",
       "      <td>100301</td>\n",
       "      <td>SMAD3|1/4|06A07</td>\n",
       "      <td>SMAD3</td>\n",
       "      <td>1579</td>\n",
       "      <td>TEKT4</td>\n",
       "      <td>0</td>\n",
       "    </tr>\n",
       "    <tr>\n",
       "      <th>115</th>\n",
       "      <td>tf_isoform_ppis</td>\n",
       "      <td>100697</td>\n",
       "      <td>SMAD3|4/4|06F07</td>\n",
       "      <td>SMAD3</td>\n",
       "      <td>1579</td>\n",
       "      <td>TEKT4</td>\n",
       "      <td>0</td>\n",
       "    </tr>\n",
       "    <tr>\n",
       "      <th>126</th>\n",
       "      <td>tf_isoform_ppis</td>\n",
       "      <td>100657</td>\n",
       "      <td>SMAD3|2/4|06G07</td>\n",
       "      <td>SMAD3</td>\n",
       "      <td>1579</td>\n",
       "      <td>TEKT4</td>\n",
       "      <td>0</td>\n",
       "    </tr>\n",
       "    <tr>\n",
       "      <th>138</th>\n",
       "      <td>tf_isoform_ppis</td>\n",
       "      <td>100479</td>\n",
       "      <td>SMAD3|3/4|06B08</td>\n",
       "      <td>SMAD3</td>\n",
       "      <td>1579</td>\n",
       "      <td>TEKT4</td>\n",
       "      <td>0</td>\n",
       "    </tr>\n",
       "  </tbody>\n",
       "</table>\n",
       "</div>"
      ],
      "text/plain": [
       "            category  ad_orf_id     ad_clone_acc ad_gene_symbol  db_orf_id  \\\n",
       "57   tf_isoform_ppis     101216  GATA1|1/2|08A02          GATA1       1579   \n",
       "103  tf_isoform_ppis     100301  SMAD3|1/4|06A07          SMAD3       1579   \n",
       "115  tf_isoform_ppis     100697  SMAD3|4/4|06F07          SMAD3       1579   \n",
       "126  tf_isoform_ppis     100657  SMAD3|2/4|06G07          SMAD3       1579   \n",
       "138  tf_isoform_ppis     100479  SMAD3|3/4|06B08          SMAD3       1579   \n",
       "\n",
       "    db_gene_symbol score  \n",
       "57           TEKT4     0  \n",
       "103          TEKT4     0  \n",
       "115          TEKT4     0  \n",
       "126          TEKT4     0  \n",
       "138          TEKT4     0  "
      ]
     },
     "execution_count": 20,
     "metadata": {},
     "output_type": "execute_result"
    }
   ],
   "source": [
    "# remove these interactions where none of the isoforms are \n",
    "y2h.loc[(y2h['category'] == 'tf_isoform_ppis') &\n",
    "        y2h['db_gene_symbol'].isin(c), :].head()"
   ]
  },
  {
   "cell_type": "code",
   "execution_count": 21,
   "metadata": {},
   "outputs": [],
   "source": [
    "def isoform_display_name(s):\n",
    "       \"\"\"Convert clone accession ID to display friendly format\"\"\"\n",
    "       return s.split('|')[0] + '-' + s.split('|')[1].split('/')[0]"
   ]
  },
  {
   "cell_type": "code",
   "execution_count": 22,
   "metadata": {},
   "outputs": [
    {
     "data": {
      "image/png": "[encoded data removed]",
      "text/plain": [
       "<Figure size 1440x1440 with 1 Axes>"
      ]
     },
     "metadata": {
      "needs_background": "light"
     },
     "output_type": "display_data"
    }
   ],
   "source": [
    "def y2h_ppi_per_tf_gene_plot(gene_name, \n",
    "                             data,\n",
    "                             ax=None, \n",
    "                             min_n_isoforms=1,\n",
    "                             min_n_partners=1):\n",
    "    tf = data.loc[(data['category'] == 'tf_isoform_ppis') &\n",
    "                (data['ad_gene_symbol'] == gene_name),\n",
    "                ['ad_clone_acc', 'db_gene_symbol', 'score']].copy()\n",
    "    tf['score'] = tf['score'].map({'1': True,\n",
    "                               '0': False,\n",
    "                               'AA': np.nan,\n",
    "                               'NC': np.nan})\n",
    "    tf['ad_clone_acc'] = tf['ad_clone_acc'].apply(isoform_display_name)\n",
    "    tf = tf.pivot(index='ad_clone_acc',\n",
    "                  columns='db_gene_symbol',\n",
    "                  values='score')\n",
    "    if ax is None:\n",
    "        ax = plt.gca()\n",
    "    if tf.shape[0] < min_n_isoforms or tf.shape[1] < min_n_partners:\n",
    "        ax.set_axis_off()\n",
    "        ax.text(0.5, 0.5,\n",
    "                'No PPI data available',\n",
    "                ha='center', va='center',\n",
    "                fontsize=30,\n",
    "                fontweight='bold',\n",
    "                color='grey')\n",
    "        return\n",
    "    cplt.binary_profile_matrix(tf, ax=ax, column_label_rotation=90)\n",
    "    \n",
    "fig, ax = plt.subplots(1, 1)\n",
    "fig.set_size_inches(20, 20)\n",
    "gene_name = 'ZNF451'\n",
    "y2h_ppi_per_tf_gene_plot(gene_name, data=y2h)"
   ]
  },
  {
   "cell_type": "code",
   "execution_count": 23,
   "metadata": {},
   "outputs": [
    {
     "data": {
      "image/png": "[encoded data removed]",
      "text/plain": [
       "<Figure size 432x288 with 1 Axes>"
      ]
     },
     "metadata": {
      "needs_background": "light"
     },
     "output_type": "display_data"
    }
   ],
   "source": [
    "def y1h_pdi_per_tf_gene_plot(gene_name, \n",
    "                             data,\n",
    "                             ax=None,\n",
    "                             min_n_isoforms=1,\n",
    "                             min_n_partners=1):\n",
    "    tf = data.loc[data['tf'] == gene_name,\n",
    "                  data.columns[1:]].copy().set_index('unique_acc')\n",
    "    tf.index = tf.index.map(isoform_display_name)\n",
    "    tf = tf.loc[:, tf.any(axis=0)]\n",
    "    if ax is None:\n",
    "        ax = plt.gca()\n",
    "    if tf.shape[0] < min_n_isoforms or tf.shape[1] < min_n_partners:\n",
    "        ax.set_axis_off()\n",
    "        ax.text(0.5, 0.5,\n",
    "                'No PDI data available',\n",
    "                ha='center', va='center',\n",
    "                fontsize=30,\n",
    "                fontweight='bold',\n",
    "                color='grey')\n",
    "        return\n",
    "    cplt.binary_profile_matrix(tf, ax=ax, column_label_rotation=90)\n",
    "\n",
    "\n",
    "y1h_pdi_per_tf_gene_plot('CREB1', y1h)"
   ]
  },
  {
   "cell_type": "code",
   "execution_count": 24,
   "metadata": {},
   "outputs": [
    {
     "data": {
      "image/png": "[encoded data removed]",
      "text/plain": [
       "<Figure size 432x288 with 1 Axes>"
      ]
     },
     "metadata": {
      "needs_background": "light"
     },
     "output_type": "display_data"
    }
   ],
   "source": [
    "def m1h_activation_per_tf_gene_plot(tf_gene_name, data, ax=None):\n",
    "    if ax is None:\n",
    "        ax = plt.gca()\n",
    "    if tf_gene_name not in data['gene'].values:\n",
    "        ax.set_axis_off()\n",
    "        ax.text(0.5, 0.5,\n",
    "                'No activation data available',\n",
    "                ha='center', va='center',\n",
    "                fontsize=30,\n",
    "                fontweight='bold',\n",
    "                color='grey')\n",
    "        return\n",
    "    rep_columns = [c for c in data.columns if c.startswith('M1H_rep')]\n",
    "    ax.scatter(\n",
    "        y=[isoform_display_name(acc) for acc in data.loc[data['gene'] == tf_gene_name, 'clone_acc'].values\n",
    "           for __ in range(len(rep_columns))],\n",
    "        x=data.loc[data['gene'] == tf_gene_name, rep_columns].values.flatten(),\n",
    "        alpha=0.5\n",
    "        )\n",
    "    ax.set_xlim(-3, 12)\n",
    "    ax.set_xlabel('Log2 M1H readout')\n",
    "    ax.axvline(0, linestyle='-', color='grey')\n",
    "    ax.axvline(-1, linestyle='--', color='grey')\n",
    "    ax.axvline(1, linestyle='--', color='grey')\n",
    "    ax.invert_yaxis()\n",
    "    \n",
    "    \n",
    "m1h_activation_per_tf_gene_plot('DDIT3', data=m1h)"
   ]
  },
  {
   "cell_type": "code",
   "execution_count": 49,
   "metadata": {
    "scrolled": false
   },
   "outputs": [
    {
     "data": {
      "image/png": "[encoded data removed]",
      "text/plain": [
       "<Figure size 432x288 with 1 Axes>"
      ]
     },
     "metadata": {
      "needs_background": "light"
     },
     "output_type": "display_data"
    }
   ],
   "source": [
    "from isomodules import isocreate, isoimage, isofunc\n",
    "\n",
    "\n",
    "def isoform_box_and_line_drawing(gene_name, ax=None):\n",
    "    if ax is None:\n",
    "        ax = plt.gca()\n",
    "    path_6k_gtf = 'data/hTFIso6K_valid_isoforms/c_6k_unique_acc_aligns.gtf'\n",
    "    path_6k_fa = 'data/hTFIso6K_valid_isoforms/j2_6k_unique_isoacc_and_nt_seqs.fa'\n",
    "    orf_seqs_6k = isofunc.oc_fasta_to_orf_seq_dict(path_6k_fa)\n",
    "    gd = isocreate.init_gen_obj(path_6k_gtf, [gene_name])\n",
    "    gd = isocreate.create_and_link_seq_related_obj(gd, orf_seqs_6k)\n",
    "    isoimage.render_iso_image(list(gd[gene_name].orfs), ax=ax)\n",
    "\n",
    "\n",
    "isoform_box_and_line_drawing('NFYA')"
   ]
  },
  {
   "cell_type": "code",
   "execution_count": 52,
   "metadata": {},
   "outputs": [
    {
     "ename": "AttributeError",
     "evalue": "'CDS' object has no attribute 'start_subtle_splice'",
     "output_type": "error",
     "traceback": [
      "\u001b[0;31m---------------------------------------------------------------------------\u001b[0m",
      "\u001b[0;31mAttributeError\u001b[0m                            Traceback (most recent call last)",
      "\u001b[0;32m<ipython-input-52-ea99a5cbdb6c>\u001b[0m in \u001b[0;36m<module>\u001b[0;34m\u001b[0m\n\u001b[1;32m     30\u001b[0m \u001b[0mall_genes\u001b[0m \u001b[0;34m=\u001b[0m \u001b[0mset\u001b[0m\u001b[0;34m(\u001b[0m\u001b[0my2h\u001b[0m\u001b[0;34m[\u001b[0m\u001b[0;34m'ad_gene_symbol'\u001b[0m\u001b[0;34m]\u001b[0m\u001b[0;34m.\u001b[0m\u001b[0munique\u001b[0m\u001b[0;34m(\u001b[0m\u001b[0;34m)\u001b[0m\u001b[0;34m)\u001b[0m\u001b[0;34m.\u001b[0m\u001b[0munion\u001b[0m\u001b[0;34m(\u001b[0m\u001b[0mset\u001b[0m\u001b[0;34m(\u001b[0m\u001b[0my1h\u001b[0m\u001b[0;34m[\u001b[0m\u001b[0;34m'tf'\u001b[0m\u001b[0;34m]\u001b[0m\u001b[0;34m.\u001b[0m\u001b[0munique\u001b[0m\u001b[0;34m(\u001b[0m\u001b[0;34m)\u001b[0m\u001b[0;34m)\u001b[0m\u001b[0;34m)\u001b[0m\u001b[0;34m.\u001b[0m\u001b[0munion\u001b[0m\u001b[0;34m(\u001b[0m\u001b[0mset\u001b[0m\u001b[0;34m(\u001b[0m\u001b[0mm1h\u001b[0m\u001b[0;34m[\u001b[0m\u001b[0;34m'gene'\u001b[0m\u001b[0;34m]\u001b[0m\u001b[0;34m.\u001b[0m\u001b[0munique\u001b[0m\u001b[0;34m(\u001b[0m\u001b[0;34m)\u001b[0m\u001b[0;34m)\u001b[0m\u001b[0;34m)\u001b[0m\u001b[0;34m\u001b[0m\u001b[0;34m\u001b[0m\u001b[0m\n\u001b[1;32m     31\u001b[0m \u001b[0;32mfor\u001b[0m \u001b[0mgene\u001b[0m \u001b[0;32min\u001b[0m \u001b[0mall_genes\u001b[0m\u001b[0;34m:\u001b[0m\u001b[0;34m\u001b[0m\u001b[0;34m\u001b[0m\u001b[0m\n\u001b[0;32m---> 32\u001b[0;31m     \u001b[0mtf_gene_summary_plot\u001b[0m\u001b[0;34m(\u001b[0m\u001b[0mgene\u001b[0m\u001b[0;34m)\u001b[0m\u001b[0;34m\u001b[0m\u001b[0;34m\u001b[0m\u001b[0m\n\u001b[0m",
      "\u001b[0;32m<ipython-input-52-ea99a5cbdb6c>\u001b[0m in \u001b[0;36mtf_gene_summary_plot\u001b[0;34m(gene_name)\u001b[0m\n\u001b[1;32m     19\u001b[0m                         max(20, n_iso_y2h * 0.2, n_iso_y1h * 0.2))\n\u001b[1;32m     20\u001b[0m \u001b[0;34m\u001b[0m\u001b[0m\n\u001b[0;32m---> 21\u001b[0;31m     \u001b[0misoform_box_and_line_drawing\u001b[0m\u001b[0;34m(\u001b[0m\u001b[0mgene_name\u001b[0m\u001b[0;34m,\u001b[0m \u001b[0max\u001b[0m\u001b[0;34m=\u001b[0m\u001b[0maxes\u001b[0m\u001b[0;34m[\u001b[0m\u001b[0;36m0\u001b[0m\u001b[0;34m]\u001b[0m\u001b[0;34m)\u001b[0m\u001b[0;34m\u001b[0m\u001b[0;34m\u001b[0m\u001b[0m\n\u001b[0m\u001b[1;32m     22\u001b[0m     \u001b[0my2h_ppi_per_tf_gene_plot\u001b[0m\u001b[0;34m(\u001b[0m\u001b[0mgene_name\u001b[0m\u001b[0;34m,\u001b[0m \u001b[0mdata\u001b[0m\u001b[0;34m=\u001b[0m\u001b[0my2h\u001b[0m\u001b[0;34m,\u001b[0m \u001b[0max\u001b[0m\u001b[0;34m=\u001b[0m\u001b[0maxes\u001b[0m\u001b[0;34m[\u001b[0m\u001b[0;36m1\u001b[0m\u001b[0;34m]\u001b[0m\u001b[0;34m)\u001b[0m\u001b[0;34m\u001b[0m\u001b[0;34m\u001b[0m\u001b[0m\n\u001b[1;32m     23\u001b[0m     \u001b[0my1h_pdi_per_tf_gene_plot\u001b[0m\u001b[0;34m(\u001b[0m\u001b[0mgene_name\u001b[0m\u001b[0;34m,\u001b[0m \u001b[0mdata\u001b[0m\u001b[0;34m=\u001b[0m\u001b[0my1h\u001b[0m\u001b[0;34m,\u001b[0m \u001b[0max\u001b[0m\u001b[0;34m=\u001b[0m\u001b[0maxes\u001b[0m\u001b[0;34m[\u001b[0m\u001b[0;36m2\u001b[0m\u001b[0;34m]\u001b[0m\u001b[0;34m)\u001b[0m\u001b[0;34m\u001b[0m\u001b[0;34m\u001b[0m\u001b[0m\n",
      "\u001b[0;32m<ipython-input-49-6919f899f9eb>\u001b[0m in \u001b[0;36misoform_box_and_line_drawing\u001b[0;34m(gene_name, ax)\u001b[0m\n\u001b[1;32m     10\u001b[0m     \u001b[0mgd\u001b[0m \u001b[0;34m=\u001b[0m \u001b[0misocreate\u001b[0m\u001b[0;34m.\u001b[0m\u001b[0minit_gen_obj\u001b[0m\u001b[0;34m(\u001b[0m\u001b[0mpath_6k_gtf\u001b[0m\u001b[0;34m,\u001b[0m \u001b[0;34m[\u001b[0m\u001b[0mgene_name\u001b[0m\u001b[0;34m]\u001b[0m\u001b[0;34m)\u001b[0m\u001b[0;34m\u001b[0m\u001b[0;34m\u001b[0m\u001b[0m\n\u001b[1;32m     11\u001b[0m     \u001b[0mgd\u001b[0m \u001b[0;34m=\u001b[0m \u001b[0misocreate\u001b[0m\u001b[0;34m.\u001b[0m\u001b[0mcreate_and_link_seq_related_obj\u001b[0m\u001b[0;34m(\u001b[0m\u001b[0mgd\u001b[0m\u001b[0;34m,\u001b[0m \u001b[0morf_seqs_6k\u001b[0m\u001b[0;34m)\u001b[0m\u001b[0;34m\u001b[0m\u001b[0;34m\u001b[0m\u001b[0m\n\u001b[0;32m---> 12\u001b[0;31m     \u001b[0misoimage\u001b[0m\u001b[0;34m.\u001b[0m\u001b[0mrender_iso_image\u001b[0m\u001b[0;34m(\u001b[0m\u001b[0mlist\u001b[0m\u001b[0;34m(\u001b[0m\u001b[0mgd\u001b[0m\u001b[0;34m[\u001b[0m\u001b[0mgene_name\u001b[0m\u001b[0;34m]\u001b[0m\u001b[0;34m.\u001b[0m\u001b[0morfs\u001b[0m\u001b[0;34m)\u001b[0m\u001b[0;34m,\u001b[0m \u001b[0max\u001b[0m\u001b[0;34m=\u001b[0m\u001b[0max\u001b[0m\u001b[0;34m)\u001b[0m\u001b[0;34m\u001b[0m\u001b[0;34m\u001b[0m\u001b[0m\n\u001b[0m\u001b[1;32m     13\u001b[0m \u001b[0;34m\u001b[0m\u001b[0m\n\u001b[1;32m     14\u001b[0m \u001b[0;34m\u001b[0m\u001b[0m\n",
      "\u001b[0;32m~/Work/tf_isoforms/isomodules/isoimage.py\u001b[0m in \u001b[0;36mrender_iso_image\u001b[0;34m(orfs_to_plot, ax, mode, dname, intron_spacing, comp, spacing, height, sp, show_abs_frm, rel_frm, dom, subtle_threshold, mat_squares)\u001b[0m\n\u001b[1;32m     76\u001b[0m                 \u001b[0max\u001b[0m\u001b[0;34m.\u001b[0m\u001b[0madd_patch\u001b[0m\u001b[0;34m(\u001b[0m\u001b[0mmpatches\u001b[0m\u001b[0;34m.\u001b[0m\u001b[0mRectangle\u001b[0m\u001b[0;34m(\u001b[0m\u001b[0;34m[\u001b[0m\u001b[0mx\u001b[0m\u001b[0;34m,\u001b[0m \u001b[0my\u001b[0m\u001b[0;34m]\u001b[0m\u001b[0;34m,\u001b[0m \u001b[0mblength\u001b[0m\u001b[0;34m,\u001b[0m \u001b[0mbheight\u001b[0m\u001b[0;34m,\u001b[0m \u001b[0mlw\u001b[0m\u001b[0;34m=\u001b[0m\u001b[0;36m1\u001b[0m\u001b[0;34m,\u001b[0m \u001b[0mec\u001b[0m\u001b[0;34m=\u001b[0m\u001b[0;34m'k'\u001b[0m\u001b[0;34m,\u001b[0m \u001b[0mfc\u001b[0m\u001b[0;34m=\u001b[0m\u001b[0mcol\u001b[0m\u001b[0;34m,\u001b[0m \u001b[0mzorder\u001b[0m\u001b[0;34m=\u001b[0m\u001b[0;36m2\u001b[0m\u001b[0;34m,\u001b[0m \u001b[0mjoinstyle\u001b[0m\u001b[0;34m=\u001b[0m\u001b[0;34m'round'\u001b[0m\u001b[0;34m,\u001b[0m \u001b[0malpha\u001b[0m\u001b[0;34m=\u001b[0m\u001b[0;36m0.2\u001b[0m\u001b[0;34m)\u001b[0m\u001b[0;34m)\u001b[0m\u001b[0;34m\u001b[0m\u001b[0;34m\u001b[0m\u001b[0m\n\u001b[1;32m     77\u001b[0m             \u001b[0;31m# add subtle splice (delta) amounts, if option turned on\u001b[0m\u001b[0;34m\u001b[0m\u001b[0;34m\u001b[0m\u001b[0;34m\u001b[0m\u001b[0m\n\u001b[0;32m---> 78\u001b[0;31m             \u001b[0mdelta_start\u001b[0m\u001b[0;34m,\u001b[0m \u001b[0mdelta_end\u001b[0m \u001b[0;34m=\u001b[0m \u001b[0mretrieve_subtle_splice_amounts\u001b[0m\u001b[0;34m(\u001b[0m\u001b[0mexon\u001b[0m\u001b[0;34m.\u001b[0m\u001b[0mcds\u001b[0m\u001b[0;34m)\u001b[0m\u001b[0;34m\u001b[0m\u001b[0;34m\u001b[0m\u001b[0m\n\u001b[0m\u001b[1;32m     79\u001b[0m             \u001b[0;32mif\u001b[0m \u001b[0mdelta_start\u001b[0m\u001b[0;34m:\u001b[0m \u001b[0max\u001b[0m\u001b[0;34m.\u001b[0m\u001b[0mtext\u001b[0m\u001b[0;34m(\u001b[0m\u001b[0mx\u001b[0m\u001b[0;34m,\u001b[0m \u001b[0my\u001b[0m\u001b[0;34m+\u001b[0m\u001b[0mheight\u001b[0m\u001b[0;34m*\u001b[0m\u001b[0;36m2\u001b[0m\u001b[0;34m,\u001b[0m \u001b[0mdelta_start\u001b[0m\u001b[0;34m,\u001b[0m \u001b[0mva\u001b[0m\u001b[0;34m=\u001b[0m\u001b[0;34m'bottom'\u001b[0m\u001b[0;34m,\u001b[0m \u001b[0mha\u001b[0m\u001b[0;34m=\u001b[0m\u001b[0;34m'left'\u001b[0m\u001b[0;34m,\u001b[0m \u001b[0msize\u001b[0m\u001b[0;34m=\u001b[0m\u001b[0;34m'x-small'\u001b[0m\u001b[0;34m)\u001b[0m\u001b[0;34m\u001b[0m\u001b[0;34m\u001b[0m\u001b[0m\n\u001b[1;32m     80\u001b[0m             \u001b[0;32mif\u001b[0m \u001b[0mdelta_end\u001b[0m\u001b[0;34m:\u001b[0m \u001b[0max\u001b[0m\u001b[0;34m.\u001b[0m\u001b[0mtext\u001b[0m\u001b[0;34m(\u001b[0m\u001b[0mx\u001b[0m\u001b[0;34m+\u001b[0m\u001b[0mblength\u001b[0m\u001b[0;34m,\u001b[0m \u001b[0my\u001b[0m\u001b[0;34m+\u001b[0m\u001b[0mheight\u001b[0m\u001b[0;34m*\u001b[0m\u001b[0;36m2\u001b[0m\u001b[0;34m,\u001b[0m \u001b[0mdelta_end\u001b[0m\u001b[0;34m,\u001b[0m \u001b[0mva\u001b[0m\u001b[0;34m=\u001b[0m\u001b[0;34m'bottom'\u001b[0m\u001b[0;34m,\u001b[0m \u001b[0mha\u001b[0m\u001b[0;34m=\u001b[0m\u001b[0;34m'right'\u001b[0m\u001b[0;34m,\u001b[0m \u001b[0msize\u001b[0m\u001b[0;34m=\u001b[0m\u001b[0;34m'x-small'\u001b[0m\u001b[0;34m)\u001b[0m\u001b[0;34m\u001b[0m\u001b[0;34m\u001b[0m\u001b[0m\n",
      "\u001b[0;32m~/Work/tf_isoforms/isomodules/isoimage.py\u001b[0m in \u001b[0;36mretrieve_subtle_splice_amounts\u001b[0;34m(exon_cds)\u001b[0m\n\u001b[1;32m    391\u001b[0m     \u001b[0mdelta_label_end\u001b[0m \u001b[0;34m=\u001b[0m \u001b[0;32mNone\u001b[0m\u001b[0;34m\u001b[0m\u001b[0;34m\u001b[0m\u001b[0m\n\u001b[1;32m    392\u001b[0m     \u001b[0;31m# TODO - debug, because with new isoacc, doesn't work anymore\u001b[0m\u001b[0;34m\u001b[0m\u001b[0;34m\u001b[0m\u001b[0;34m\u001b[0m\u001b[0m\n\u001b[0;32m--> 393\u001b[0;31m     \u001b[0;32mif\u001b[0m \u001b[0mexon_cds\u001b[0m\u001b[0;34m.\u001b[0m\u001b[0mstart_subtle_splice\u001b[0m\u001b[0;34m:\u001b[0m\u001b[0;34m\u001b[0m\u001b[0;34m\u001b[0m\u001b[0m\n\u001b[0m\u001b[1;32m    394\u001b[0m         \u001b[0mdelta_label_start\u001b[0m \u001b[0;34m=\u001b[0m \u001b[0mstr\u001b[0m\u001b[0;34m(\u001b[0m\u001b[0mexon_cds\u001b[0m\u001b[0;34m.\u001b[0m\u001b[0mstart_subtle_splice\u001b[0m\u001b[0;34m)\u001b[0m \u001b[0;34m+\u001b[0m \u001b[0;34m'nt'\u001b[0m\u001b[0;34m\u001b[0m\u001b[0;34m\u001b[0m\u001b[0m\n\u001b[1;32m    395\u001b[0m     \u001b[0;32mif\u001b[0m \u001b[0mexon_cds\u001b[0m\u001b[0;34m.\u001b[0m\u001b[0mend_subtle_splice\u001b[0m\u001b[0;34m:\u001b[0m\u001b[0;34m\u001b[0m\u001b[0;34m\u001b[0m\u001b[0m\n",
      "\u001b[0;31mAttributeError\u001b[0m: 'CDS' object has no attribute 'start_subtle_splice'"
     ]
    },
    {
     "data": {
      "text/plain": [
       "<Figure size 432x288 with 0 Axes>"
      ]
     },
     "metadata": {},
     "output_type": "display_data"
    },
    {
     "data": {
      "text/plain": [
       "<Figure size 504x1440 with 0 Axes>"
      ]
     },
     "metadata": {},
     "output_type": "display_data"
    },
    {
     "data": {
      "text/plain": [
       "<Figure size 504x1440 with 0 Axes>"
      ]
     },
     "metadata": {},
     "output_type": "display_data"
    },
    {
     "data": {
      "text/plain": [
       "<Figure size 504x1440 with 0 Axes>"
      ]
     },
     "metadata": {},
     "output_type": "display_data"
    },
    {
     "data": {
      "text/plain": [
       "<Figure size 504x1440 with 0 Axes>"
      ]
     },
     "metadata": {},
     "output_type": "display_data"
    },
    {
     "data": {
      "text/plain": [
       "<Figure size 504x1440 with 0 Axes>"
      ]
     },
     "metadata": {},
     "output_type": "display_data"
    },
    {
     "data": {
      "text/plain": [
       "<Figure size 504x1440 with 0 Axes>"
      ]
     },
     "metadata": {},
     "output_type": "display_data"
    },
    {
     "data": {
      "text/plain": [
       "<Figure size 504x1440 with 0 Axes>"
      ]
     },
     "metadata": {},
     "output_type": "display_data"
    },
    {
     "data": {
      "text/plain": [
       "<Figure size 504x1440 with 0 Axes>"
      ]
     },
     "metadata": {},
     "output_type": "display_data"
    },
    {
     "data": {
      "text/plain": [
       "<Figure size 504x1440 with 0 Axes>"
      ]
     },
     "metadata": {},
     "output_type": "display_data"
    },
    {
     "data": {
      "text/plain": [
       "<Figure size 504x1440 with 0 Axes>"
      ]
     },
     "metadata": {},
     "output_type": "display_data"
    },
    {
     "data": {
      "text/plain": [
       "<Figure size 504x1440 with 0 Axes>"
      ]
     },
     "metadata": {},
     "output_type": "display_data"
    },
    {
     "data": {
      "text/plain": [
       "<Figure size 504x1440 with 0 Axes>"
      ]
     },
     "metadata": {},
     "output_type": "display_data"
    },
    {
     "data": {
      "text/plain": [
       "<Figure size 504x1440 with 0 Axes>"
      ]
     },
     "metadata": {},
     "output_type": "display_data"
    },
    {
     "data": {
      "text/plain": [
       "<Figure size 504x1440 with 0 Axes>"
      ]
     },
     "metadata": {},
     "output_type": "display_data"
    },
    {
     "data": {
      "image/png": "[encoded data removed]",
      "text/plain": [
       "<Figure size 504x1440 with 4 Axes>"
      ]
     },
     "metadata": {
      "needs_background": "light"
     },
     "output_type": "display_data"
    }
   ],
   "source": [
    "\n",
    "#  - show sequences\n",
    "def tf_gene_summary_plot(gene_name):\n",
    "    \"\"\"\n",
    "    - show sequences\n",
    "    - add missing data to Y1H and M1H so that the number of isoforms lines up between each plot\n",
    "\n",
    "    \"\"\"\n",
    "    plt.clf()\n",
    "    n_iso_y2h = y2h.loc[(y2h['category'] == 'tf_isoform_ppis') &\n",
    "                        (y2h['ad_gene_symbol'] == gene_name),\n",
    "                        'ad_clone_acc'].nunique()\n",
    "    n_partner_y2h = y2h.loc[(y2h['category'] == 'tf_isoform_ppis') &\n",
    "                            (y2h['ad_gene_symbol'] == gene_name),\n",
    "                            'db_gene_symbol'].nunique()\n",
    "    n_iso_y1h = (y1h['tf'] == gene_name).sum()\n",
    "    n_partner_y1h = y1h.loc[(y1h['tf'] == gene_name), y1h.columns[2:]].any(axis=0).sum()\n",
    "    fig, axes = plt.subplots(4, 1)\n",
    "    fig.set_size_inches(max(7, n_partner_y2h * 0.2, n_partner_y2h * 0.2),\n",
    "                        max(20, n_iso_y2h * 0.2, n_iso_y1h * 0.2))\n",
    "    \n",
    "    isoform_box_and_line_drawing(gene_name, ax=axes[0])\n",
    "    y2h_ppi_per_tf_gene_plot(gene_name, data=y2h, ax=axes[1])\n",
    "    y1h_pdi_per_tf_gene_plot(gene_name, data=y1h, ax=axes[2])\n",
    "    m1h_activation_per_tf_gene_plot(gene_name, data=m1h, ax=axes[3])\n",
    "    os.makedirs('figures/per_tf_gene', exist_ok=True)\n",
    "    plt.savefig('figures/per_tf_gene/' + gene_name + '_summary.pdf',\n",
    "                bbox_inches='tight')\n",
    "\n",
    "\n",
    "all_genes = set(y2h['ad_gene_symbol'].unique()).union(set(y1h['tf'].unique())).union(set(m1h['gene'].unique()))\n",
    "for gene in all_genes:\n",
    "    tf_gene_summary_plot(gene)"
   ]
  },
  {
   "cell_type": "code",
   "execution_count": null,
   "metadata": {},
   "outputs": [],
   "source": []
  }
 ],
 "metadata": {
  "file_extension": ".py",
  "kernelspec": {
   "display_name": "Python 3",
   "language": "python",
   "name": "python3"
  },
  "language_info": {
   "codemirror_mode": {
    "name": "ipython",
    "version": 3
   },
   "file_extension": ".py",
   "mimetype": "text/x-python",
   "name": "python",
   "nbconvert_exporter": "python",
   "pygments_lexer": "ipython3",
   "version": "3.7.3"
  },
  "mimetype": "text/x-python",
  "name": "python",
  "npconvert_exporter": "python",
  "pygments_lexer": "ipython3",
  "version": 3
 },
 "nbformat": 4,
 "nbformat_minor": 2
}
